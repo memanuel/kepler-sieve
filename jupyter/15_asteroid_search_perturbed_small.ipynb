{
 "cells": [
  {
   "cell_type": "code",
   "execution_count": 1,
   "metadata": {},
   "outputs": [],
   "source": [
    "# Core\n",
    "import numpy as np\n",
    "import pandas as pd\n",
    "\n",
    "# Tensorflow / ML\n",
    "import tensorflow as tf\n",
    "\n",
    "# Plotting\n",
    "import matplotlib.pyplot as plt\n",
    "import matplotlib as mpl\n",
    "\n",
    "# Utility\n",
    "import os\n",
    "import time"
   ]
  },
  {
   "cell_type": "code",
   "execution_count": 2,
   "metadata": {},
   "outputs": [],
   "source": [
    "# Set visibible GPU\n",
    "gpu_num: int = 0\n",
    "os.environ['CUDA_VISIBLE_DEVICES']=f'{gpu_num}'"
   ]
  },
  {
   "cell_type": "code",
   "execution_count": 3,
   "metadata": {},
   "outputs": [
    {
     "name": "stdout",
     "output_type": "stream",
     "text": [
      "Found 1 GPUs.  Setting memory growth = True.\n"
     ]
    }
   ],
   "source": [
    "# Configure TF GPU growth\n",
    "import kepler_sieve\n",
    "from tf_utils import gpu_grow_memory\n",
    "gpu_grow_memory(verbose=True)"
   ]
  },
  {
   "cell_type": "code",
   "execution_count": 4,
   "metadata": {},
   "outputs": [],
   "source": [
    "# MSE Imports\n",
    "from asteroid_element import load_ast_elt\n",
    "from candidate_element import asteroid_elts, perturb_elts, random_elts, elts_add_mixture_params, elts_add_H\n",
    "from ztf_ast import load_ztf_nearest_ast, calc_hit_freq\n",
    "from ztf_element import load_ztf_batch, make_ztf_batch, ztf_score_by_elt, ztf_elt_summary\n",
    "from asteroid_model import AsteroidPosition, AsteroidDirection, make_model_ast_pos\n",
    "from asteroid_search_layers import CandidateElements, MixtureParameters, TrajectoryScore\n",
    "from asteroid_search_model import AsteroidSearchModel\n",
    "from asteroid_search_report import traj_diff\n",
    "from nearest_asteroid import nearest_ast_elt_cart, nearest_ast_elt_cov, elt_q_norm\n",
    "from element_eda import score_by_elt\n",
    "from asteroid_dataframe import calc_ast_data, spline_ast_vec_df\n",
    "from astro_utils import deg2dist, dist2deg, dist2sec"
   ]
  },
  {
   "cell_type": "code",
   "execution_count": 5,
   "metadata": {},
   "outputs": [],
   "source": [
    "# Aliases\n",
    "keras = tf.keras\n",
    "\n",
    "# Constants\n",
    "dtype = tf.float32\n",
    "dtype_np = np.float32\n",
    "space_dims = 3"
   ]
  },
  {
   "cell_type": "code",
   "execution_count": 6,
   "metadata": {},
   "outputs": [],
   "source": [
    "# Set plot style variables\n",
    "mpl.rcParams['figure.figsize'] = [16.0, 10.0]\n",
    "mpl.rcParams['font.size'] = 16"
   ]
  },
  {
   "cell_type": "markdown",
   "metadata": {},
   "source": [
    "## Load ZTF Data and Batch of Orbital Elements"
   ]
  },
  {
   "cell_type": "code",
   "execution_count": 7,
   "metadata": {},
   "outputs": [],
   "source": [
    "# Load orbital elements for known asteroids\n",
    "ast_elt = load_ast_elt()\n",
    "\n",
    "# Number of asteroids\n",
    "N_ast = ast_elt.shape[0]"
   ]
  },
  {
   "cell_type": "code",
   "execution_count": 8,
   "metadata": {},
   "outputs": [],
   "source": [
    "# Load ztf nearest asteroid data\n",
    "ztf_ast = load_ztf_nearest_ast()"
   ]
  },
  {
   "cell_type": "code",
   "execution_count": 9,
   "metadata": {},
   "outputs": [],
   "source": [
    "# Asteroid numbers and hit counts\n",
    "ast_num, hit_count = calc_hit_freq(ztf=ztf_ast, thresh_sec=2.0)\n",
    "\n",
    "# Sort the hit counts in descending order and find the top batch_size\n",
    "idx = np.argsort(hit_count)[::-1]\n",
    "\n",
    "# Extract the asteroid number and hit count for this batch\n",
    "ast_num_best = ast_num[idx]\n",
    "hit_count_best = hit_count[idx]"
   ]
  },
  {
   "cell_type": "code",
   "execution_count": 10,
   "metadata": {},
   "outputs": [],
   "source": [
    "# Parameters to build elements batch\n",
    "batch_size = 64\n",
    "\n",
    "# Batch of unperturbed elements\n",
    "elts_ast = asteroid_elts(ast_nums=ast_num_best[0:batch_size])"
   ]
  },
  {
   "cell_type": "code",
   "execution_count": 11,
   "metadata": {},
   "outputs": [],
   "source": [
    "# # Review unperturbed elements\n",
    "# elts_ast"
   ]
  },
  {
   "cell_type": "code",
   "execution_count": 12,
   "metadata": {},
   "outputs": [],
   "source": [
    "# Inputs to perturb elements: small\n",
    "sigma_a = 0.01\n",
    "sigma_e = 0.0025\n",
    "sigma_inc_deg = 0.05\n",
    "sigma_f_deg = 0.25\n",
    "sigma_Omega_deg = 0.25\n",
    "sigma_omega_deg = 0.25\n",
    "mask_pert = None\n",
    "random_seed = 42"
   ]
  },
  {
   "cell_type": "code",
   "execution_count": 13,
   "metadata": {},
   "outputs": [],
   "source": [
    "# Perturb orbital elements\n",
    "elts_pert= perturb_elts(elts_ast, sigma_a=sigma_a, sigma_e=sigma_e, \n",
    "                    sigma_inc_deg=sigma_inc_deg, sigma_f_deg=sigma_f_deg, \n",
    "                    sigma_Omega_deg=sigma_Omega_deg, sigma_omega_deg=sigma_omega_deg,\n",
    "                    mask_pert=mask_pert, random_seed=random_seed)"
   ]
  },
  {
   "cell_type": "code",
   "execution_count": 14,
   "metadata": {},
   "outputs": [],
   "source": [
    "# Choose which elements to search on\n",
    "elts = elts_pert"
   ]
  },
  {
   "cell_type": "code",
   "execution_count": 15,
   "metadata": {},
   "outputs": [],
   "source": [
    "# # Search for nearest asteroids to these elements\n",
    "# elts_near = nearest_ast_elt(elts)"
   ]
  },
  {
   "cell_type": "code",
   "execution_count": 16,
   "metadata": {},
   "outputs": [],
   "source": [
    "# Review selected initial candidate elements, including the nearest asteroid information\n",
    "# elts"
   ]
  },
  {
   "cell_type": "code",
   "execution_count": 17,
   "metadata": {},
   "outputs": [],
   "source": [
    "# Review nearest asteroid to these candidate elements\n",
    "# elts_near"
   ]
  },
  {
   "cell_type": "code",
   "execution_count": 18,
   "metadata": {},
   "outputs": [],
   "source": [
    "# How many elements are still closest to the original elements?\n",
    "# np.sum(elts.nearest_ast_num == elts.element_id)"
   ]
  },
  {
   "cell_type": "markdown",
   "metadata": {},
   "source": [
    "## Batches of ZTF Data Near Initial Candidate Elements"
   ]
  },
  {
   "cell_type": "code",
   "execution_count": 19,
   "metadata": {},
   "outputs": [],
   "source": [
    "# Arguments to make_ztf_batch\n",
    "thresh_deg = 2.0\n",
    "near_ast = False\n",
    "regenerate = False"
   ]
  },
  {
   "cell_type": "code",
   "execution_count": 20,
   "metadata": {},
   "outputs": [],
   "source": [
    "# Load perturbed element batch\n",
    "ztf_elt = load_ztf_batch(elts=elts, thresh_deg=thresh_deg, near_ast=near_ast, regenerate=regenerate)"
   ]
  },
  {
   "cell_type": "code",
   "execution_count": 21,
   "metadata": {},
   "outputs": [
    {
     "data": {
      "text/html": [
       "<div>\n",
       "<style scoped>\n",
       "    .dataframe tbody tr th:only-of-type {\n",
       "        vertical-align: middle;\n",
       "    }\n",
       "\n",
       "    .dataframe tbody tr th {\n",
       "        vertical-align: top;\n",
       "    }\n",
       "\n",
       "    .dataframe thead th {\n",
       "        text-align: right;\n",
       "    }\n",
       "</style>\n",
       "<table border=\"1\" class=\"dataframe\">\n",
       "  <thead>\n",
       "    <tr style=\"text-align: right;\">\n",
       "      <th></th>\n",
       "      <th>ztf_id</th>\n",
       "      <th>element_id</th>\n",
       "      <th>ObjectID</th>\n",
       "      <th>CandidateID</th>\n",
       "      <th>TimeStampID</th>\n",
       "      <th>mjd</th>\n",
       "      <th>ra</th>\n",
       "      <th>dec</th>\n",
       "      <th>mag_app</th>\n",
       "      <th>ux</th>\n",
       "      <th>...</th>\n",
       "      <th>vz</th>\n",
       "      <th>elt_ux</th>\n",
       "      <th>elt_uy</th>\n",
       "      <th>elt_uz</th>\n",
       "      <th>elt_r</th>\n",
       "      <th>s</th>\n",
       "      <th>s_sec</th>\n",
       "      <th>z</th>\n",
       "      <th>v</th>\n",
       "      <th>is_hit</th>\n",
       "    </tr>\n",
       "  </thead>\n",
       "  <tbody>\n",
       "    <tr>\n",
       "      <th>0</th>\n",
       "      <td>53851</td>\n",
       "      <td>733</td>\n",
       "      <td>b'ZTF18abnothj'</td>\n",
       "      <td>594197584815010004</td>\n",
       "      <td>5501</td>\n",
       "      <td>58348.197581</td>\n",
       "      <td>266.229165</td>\n",
       "      <td>-13.513802</td>\n",
       "      <td>16.755600</td>\n",
       "      <td>-0.063945</td>\n",
       "      <td>...</td>\n",
       "      <td>0.004058</td>\n",
       "      <td>-0.041592</td>\n",
       "      <td>-0.981941</td>\n",
       "      <td>0.184561</td>\n",
       "      <td>2.234762</td>\n",
       "      <td>0.025900</td>\n",
       "      <td>5342.395278</td>\n",
       "      <td>0.999665</td>\n",
       "      <td>0.550588</td>\n",
       "      <td>False</td>\n",
       "    </tr>\n",
       "    <tr>\n",
       "      <th>1</th>\n",
       "      <td>73604</td>\n",
       "      <td>733</td>\n",
       "      <td>b'ZTF18ablwzmb'</td>\n",
       "      <td>594197584815015003</td>\n",
       "      <td>5501</td>\n",
       "      <td>58348.197581</td>\n",
       "      <td>265.761024</td>\n",
       "      <td>-13.509148</td>\n",
       "      <td>16.035999</td>\n",
       "      <td>-0.071871</td>\n",
       "      <td>...</td>\n",
       "      <td>0.004058</td>\n",
       "      <td>-0.041592</td>\n",
       "      <td>-0.981941</td>\n",
       "      <td>0.184561</td>\n",
       "      <td>2.234762</td>\n",
       "      <td>0.033026</td>\n",
       "      <td>6812.476092</td>\n",
       "      <td>0.999455</td>\n",
       "      <td>0.895261</td>\n",
       "      <td>False</td>\n",
       "    </tr>\n",
       "    <tr>\n",
       "      <th>2</th>\n",
       "      <td>82343</td>\n",
       "      <td>733</td>\n",
       "      <td>b'ZTF18abiydvm'</td>\n",
       "      <td>635193253015015018</td>\n",
       "      <td>12089</td>\n",
       "      <td>58389.193252</td>\n",
       "      <td>270.331454</td>\n",
       "      <td>-11.244934</td>\n",
       "      <td>17.196199</td>\n",
       "      <td>0.005674</td>\n",
       "      <td>...</td>\n",
       "      <td>0.003801</td>\n",
       "      <td>0.012795</td>\n",
       "      <td>-0.977103</td>\n",
       "      <td>0.212383</td>\n",
       "      <td>2.702320</td>\n",
       "      <td>0.007222</td>\n",
       "      <td>1489.642347</td>\n",
       "      <td>0.999974</td>\n",
       "      <td>0.042810</td>\n",
       "      <td>False</td>\n",
       "    </tr>\n",
       "    <tr>\n",
       "      <th>3</th>\n",
       "      <td>82356</td>\n",
       "      <td>733</td>\n",
       "      <td>b'ZTF18abfivlq'</td>\n",
       "      <td>580301301415015008</td>\n",
       "      <td>4298</td>\n",
       "      <td>58334.301308</td>\n",
       "      <td>269.895080</td>\n",
       "      <td>-12.887404</td>\n",
       "      <td>18.069599</td>\n",
       "      <td>-0.001785</td>\n",
       "      <td>...</td>\n",
       "      <td>0.004122</td>\n",
       "      <td>-0.020236</td>\n",
       "      <td>-0.985475</td>\n",
       "      <td>0.168609</td>\n",
       "      <td>2.108963</td>\n",
       "      <td>0.023598</td>\n",
       "      <td>4867.556965</td>\n",
       "      <td>0.999722</td>\n",
       "      <td>0.457068</td>\n",
       "      <td>False</td>\n",
       "    </tr>\n",
       "    <tr>\n",
       "      <th>4</th>\n",
       "      <td>82357</td>\n",
       "      <td>733</td>\n",
       "      <td>b'ZTF18abfivlq'</td>\n",
       "      <td>580340131415015012</td>\n",
       "      <td>4342</td>\n",
       "      <td>58334.340139</td>\n",
       "      <td>269.895074</td>\n",
       "      <td>-12.887407</td>\n",
       "      <td>15.471100</td>\n",
       "      <td>-0.001785</td>\n",
       "      <td>...</td>\n",
       "      <td>0.004122</td>\n",
       "      <td>-0.020329</td>\n",
       "      <td>-0.985464</td>\n",
       "      <td>0.168661</td>\n",
       "      <td>2.109275</td>\n",
       "      <td>0.023637</td>\n",
       "      <td>4875.610226</td>\n",
       "      <td>0.999721</td>\n",
       "      <td>0.458582</td>\n",
       "      <td>False</td>\n",
       "    </tr>\n",
       "    <tr>\n",
       "      <th>...</th>\n",
       "      <td>...</td>\n",
       "      <td>...</td>\n",
       "      <td>...</td>\n",
       "      <td>...</td>\n",
       "      <td>...</td>\n",
       "      <td>...</td>\n",
       "      <td>...</td>\n",
       "      <td>...</td>\n",
       "      <td>...</td>\n",
       "      <td>...</td>\n",
       "      <td>...</td>\n",
       "      <td>...</td>\n",
       "      <td>...</td>\n",
       "      <td>...</td>\n",
       "      <td>...</td>\n",
       "      <td>...</td>\n",
       "      <td>...</td>\n",
       "      <td>...</td>\n",
       "      <td>...</td>\n",
       "      <td>...</td>\n",
       "      <td>...</td>\n",
       "    </tr>\n",
       "    <tr>\n",
       "      <th>315312</th>\n",
       "      <td>5651017</td>\n",
       "      <td>324582</td>\n",
       "      <td>b'ZTF20aaqvkiv'</td>\n",
       "      <td>1150185310015015007</td>\n",
       "      <td>96634</td>\n",
       "      <td>58904.185313</td>\n",
       "      <td>43.164491</td>\n",
       "      <td>30.568791</td>\n",
       "      <td>19.821800</td>\n",
       "      <td>0.628021</td>\n",
       "      <td>...</td>\n",
       "      <td>-0.001586</td>\n",
       "      <td>0.620235</td>\n",
       "      <td>0.757066</td>\n",
       "      <td>0.205329</td>\n",
       "      <td>2.936159</td>\n",
       "      <td>0.031535</td>\n",
       "      <td>6504.889092</td>\n",
       "      <td>0.999503</td>\n",
       "      <td>0.816249</td>\n",
       "      <td>False</td>\n",
       "    </tr>\n",
       "    <tr>\n",
       "      <th>315313</th>\n",
       "      <td>5651103</td>\n",
       "      <td>324582</td>\n",
       "      <td>b'ZTF20aaqvkiu'</td>\n",
       "      <td>1150185310015015006</td>\n",
       "      <td>96634</td>\n",
       "      <td>58904.185313</td>\n",
       "      <td>42.979527</td>\n",
       "      <td>30.566971</td>\n",
       "      <td>19.499599</td>\n",
       "      <td>0.629931</td>\n",
       "      <td>...</td>\n",
       "      <td>-0.001586</td>\n",
       "      <td>0.620235</td>\n",
       "      <td>0.757066</td>\n",
       "      <td>0.205329</td>\n",
       "      <td>2.936159</td>\n",
       "      <td>0.033577</td>\n",
       "      <td>6926.136324</td>\n",
       "      <td>0.999436</td>\n",
       "      <td>0.925381</td>\n",
       "      <td>False</td>\n",
       "    </tr>\n",
       "    <tr>\n",
       "      <th>315314</th>\n",
       "      <td>5651180</td>\n",
       "      <td>324582</td>\n",
       "      <td>b'ZTF20aaqvkur'</td>\n",
       "      <td>1150185310315015001</td>\n",
       "      <td>96634</td>\n",
       "      <td>58904.185313</td>\n",
       "      <td>42.969119</td>\n",
       "      <td>30.230791</td>\n",
       "      <td>18.551399</td>\n",
       "      <td>0.632210</td>\n",
       "      <td>...</td>\n",
       "      <td>-0.001586</td>\n",
       "      <td>0.620235</td>\n",
       "      <td>0.757066</td>\n",
       "      <td>0.205329</td>\n",
       "      <td>2.936159</td>\n",
       "      <td>0.030243</td>\n",
       "      <td>6238.306185</td>\n",
       "      <td>0.999543</td>\n",
       "      <td>0.750722</td>\n",
       "      <td>False</td>\n",
       "    </tr>\n",
       "    <tr>\n",
       "      <th>315315</th>\n",
       "      <td>5651234</td>\n",
       "      <td>324582</td>\n",
       "      <td>b'ZTF20aaqvkyr'</td>\n",
       "      <td>1150185754815015006</td>\n",
       "      <td>96635</td>\n",
       "      <td>58904.185752</td>\n",
       "      <td>42.384302</td>\n",
       "      <td>29.148349</td>\n",
       "      <td>18.648100</td>\n",
       "      <td>0.645100</td>\n",
       "      <td>...</td>\n",
       "      <td>-0.001586</td>\n",
       "      <td>0.620233</td>\n",
       "      <td>0.757067</td>\n",
       "      <td>0.205329</td>\n",
       "      <td>2.936165</td>\n",
       "      <td>0.034777</td>\n",
       "      <td>7173.582036</td>\n",
       "      <td>0.999395</td>\n",
       "      <td>0.992676</td>\n",
       "      <td>False</td>\n",
       "    </tr>\n",
       "    <tr>\n",
       "      <th>315316</th>\n",
       "      <td>5651434</td>\n",
       "      <td>324582</td>\n",
       "      <td>b'ZTF20aaqvkus'</td>\n",
       "      <td>1150185310315015002</td>\n",
       "      <td>96634</td>\n",
       "      <td>58904.185313</td>\n",
       "      <td>43.256211</td>\n",
       "      <td>29.954124</td>\n",
       "      <td>19.257601</td>\n",
       "      <td>0.631015</td>\n",
       "      <td>...</td>\n",
       "      <td>-0.001586</td>\n",
       "      <td>0.620235</td>\n",
       "      <td>0.757066</td>\n",
       "      <td>0.205329</td>\n",
       "      <td>2.936159</td>\n",
       "      <td>0.024085</td>\n",
       "      <td>4967.974088</td>\n",
       "      <td>0.999710</td>\n",
       "      <td>0.476120</td>\n",
       "      <td>False</td>\n",
       "    </tr>\n",
       "  </tbody>\n",
       "</table>\n",
       "<p>315317 rows × 27 columns</p>\n",
       "</div>"
      ],
      "text/plain": [
       "         ztf_id  element_id         ObjectID          CandidateID  \\\n",
       "0         53851         733  b'ZTF18abnothj'   594197584815010004   \n",
       "1         73604         733  b'ZTF18ablwzmb'   594197584815015003   \n",
       "2         82343         733  b'ZTF18abiydvm'   635193253015015018   \n",
       "3         82356         733  b'ZTF18abfivlq'   580301301415015008   \n",
       "4         82357         733  b'ZTF18abfivlq'   580340131415015012   \n",
       "...         ...         ...              ...                  ...   \n",
       "315312  5651017      324582  b'ZTF20aaqvkiv'  1150185310015015007   \n",
       "315313  5651103      324582  b'ZTF20aaqvkiu'  1150185310015015006   \n",
       "315314  5651180      324582  b'ZTF20aaqvkur'  1150185310315015001   \n",
       "315315  5651234      324582  b'ZTF20aaqvkyr'  1150185754815015006   \n",
       "315316  5651434      324582  b'ZTF20aaqvkus'  1150185310315015002   \n",
       "\n",
       "        TimeStampID           mjd          ra        dec    mag_app        ux  \\\n",
       "0              5501  58348.197581  266.229165 -13.513802  16.755600 -0.063945   \n",
       "1              5501  58348.197581  265.761024 -13.509148  16.035999 -0.071871   \n",
       "2             12089  58389.193252  270.331454 -11.244934  17.196199  0.005674   \n",
       "3              4298  58334.301308  269.895080 -12.887404  18.069599 -0.001785   \n",
       "4              4342  58334.340139  269.895074 -12.887407  15.471100 -0.001785   \n",
       "...             ...           ...         ...        ...        ...       ...   \n",
       "315312        96634  58904.185313   43.164491  30.568791  19.821800  0.628021   \n",
       "315313        96634  58904.185313   42.979527  30.566971  19.499599  0.629931   \n",
       "315314        96634  58904.185313   42.969119  30.230791  18.551399  0.632210   \n",
       "315315        96635  58904.185752   42.384302  29.148349  18.648100  0.645100   \n",
       "315316        96634  58904.185313   43.256211  29.954124  19.257601  0.631015   \n",
       "\n",
       "        ...        vz    elt_ux    elt_uy    elt_uz     elt_r         s  \\\n",
       "0       ...  0.004058 -0.041592 -0.981941  0.184561  2.234762  0.025900   \n",
       "1       ...  0.004058 -0.041592 -0.981941  0.184561  2.234762  0.033026   \n",
       "2       ...  0.003801  0.012795 -0.977103  0.212383  2.702320  0.007222   \n",
       "3       ...  0.004122 -0.020236 -0.985475  0.168609  2.108963  0.023598   \n",
       "4       ...  0.004122 -0.020329 -0.985464  0.168661  2.109275  0.023637   \n",
       "...     ...       ...       ...       ...       ...       ...       ...   \n",
       "315312  ... -0.001586  0.620235  0.757066  0.205329  2.936159  0.031535   \n",
       "315313  ... -0.001586  0.620235  0.757066  0.205329  2.936159  0.033577   \n",
       "315314  ... -0.001586  0.620235  0.757066  0.205329  2.936159  0.030243   \n",
       "315315  ... -0.001586  0.620233  0.757067  0.205329  2.936165  0.034777   \n",
       "315316  ... -0.001586  0.620235  0.757066  0.205329  2.936159  0.024085   \n",
       "\n",
       "              s_sec         z         v  is_hit  \n",
       "0       5342.395278  0.999665  0.550588   False  \n",
       "1       6812.476092  0.999455  0.895261   False  \n",
       "2       1489.642347  0.999974  0.042810   False  \n",
       "3       4867.556965  0.999722  0.457068   False  \n",
       "4       4875.610226  0.999721  0.458582   False  \n",
       "...             ...       ...       ...     ...  \n",
       "315312  6504.889092  0.999503  0.816249   False  \n",
       "315313  6926.136324  0.999436  0.925381   False  \n",
       "315314  6238.306185  0.999543  0.750722   False  \n",
       "315315  7173.582036  0.999395  0.992676   False  \n",
       "315316  4967.974088  0.999710  0.476120   False  \n",
       "\n",
       "[315317 rows x 27 columns]"
      ]
     },
     "execution_count": 21,
     "metadata": {},
     "output_type": "execute_result"
    }
   ],
   "source": [
    "# Review ZTF elements\n",
    "ztf_elt"
   ]
  },
  {
   "cell_type": "code",
   "execution_count": 22,
   "metadata": {},
   "outputs": [],
   "source": [
    "# Score by element - perturbed\n",
    "score_by_elt = ztf_score_by_elt(ztf_elt)"
   ]
  },
  {
   "cell_type": "code",
   "execution_count": 23,
   "metadata": {},
   "outputs": [
    {
     "name": "stdout",
     "output_type": "stream",
     "text": [
      "ZTF Element Dataframe Perturbed Asteroids:\n",
      "                  Total     (Per Batch)\n",
      "Observations   :   315317   (     4927)\n",
      "\n",
      "Summarize score = sum(-1.0 - log(v)) by batch.  (Mean=0, Variance=num_obs)\n",
      "Mean score     :     252.73\n",
      "Sqrt(batch_obs):      70.19\n",
      "Mean t_score   :       3.71\n"
     ]
    }
   ],
   "source": [
    "# Summarize the ztf element batch: perturbed asteroids\n",
    "ztf_elt_summary(ztf_elt, score_by_elt, 'Perturbed Asteroids')"
   ]
  },
  {
   "cell_type": "code",
   "execution_count": 24,
   "metadata": {},
   "outputs": [],
   "source": [
    "# Mixture parameters\n",
    "num_hits: int = 10\n",
    "R_deg: float = 0.5"
   ]
  },
  {
   "cell_type": "code",
   "execution_count": 25,
   "metadata": {},
   "outputs": [],
   "source": [
    "# Add mixture parameters to candidate elements\n",
    "elts_add_mixture_params(elts=elts, num_hits=num_hits, R_deg=R_deg, thresh_deg=thresh_deg)"
   ]
  },
  {
   "cell_type": "code",
   "execution_count": 26,
   "metadata": {},
   "outputs": [],
   "source": [
    "# Add brightness parameter H\n",
    "elts_add_H(elts=elts)"
   ]
  },
  {
   "cell_type": "code",
   "execution_count": 27,
   "metadata": {},
   "outputs": [
    {
     "data": {
      "text/html": [
       "<div>\n",
       "<style scoped>\n",
       "    .dataframe tbody tr th:only-of-type {\n",
       "        vertical-align: middle;\n",
       "    }\n",
       "\n",
       "    .dataframe tbody tr th {\n",
       "        vertical-align: top;\n",
       "    }\n",
       "\n",
       "    .dataframe thead th {\n",
       "        text-align: right;\n",
       "    }\n",
       "</style>\n",
       "<table border=\"1\" class=\"dataframe\">\n",
       "  <thead>\n",
       "    <tr style=\"text-align: right;\">\n",
       "      <th></th>\n",
       "      <th>element_id</th>\n",
       "      <th>a</th>\n",
       "      <th>e</th>\n",
       "      <th>inc</th>\n",
       "      <th>Omega</th>\n",
       "      <th>omega</th>\n",
       "      <th>f</th>\n",
       "      <th>epoch</th>\n",
       "      <th>num_hits</th>\n",
       "      <th>R</th>\n",
       "      <th>thresh_s</th>\n",
       "      <th>H</th>\n",
       "      <th>sigma_mag</th>\n",
       "    </tr>\n",
       "  </thead>\n",
       "  <tbody>\n",
       "    <tr>\n",
       "      <th>0</th>\n",
       "      <td>51921</td>\n",
       "      <td>2.682597</td>\n",
       "      <td>0.217803</td>\n",
       "      <td>0.499641</td>\n",
       "      <td>4.705231</td>\n",
       "      <td>2.451220</td>\n",
       "      <td>-1.132557</td>\n",
       "      <td>58600.0</td>\n",
       "      <td>10</td>\n",
       "      <td>0.008727</td>\n",
       "      <td>0.034905</td>\n",
       "      <td>16.5</td>\n",
       "      <td>4.0</td>\n",
       "    </tr>\n",
       "    <tr>\n",
       "      <th>1</th>\n",
       "      <td>59244</td>\n",
       "      <td>2.631087</td>\n",
       "      <td>0.263394</td>\n",
       "      <td>0.464606</td>\n",
       "      <td>5.735210</td>\n",
       "      <td>1.769592</td>\n",
       "      <td>-1.606798</td>\n",
       "      <td>58600.0</td>\n",
       "      <td>10</td>\n",
       "      <td>0.008727</td>\n",
       "      <td>0.034905</td>\n",
       "      <td>16.5</td>\n",
       "      <td>4.0</td>\n",
       "    </tr>\n",
       "    <tr>\n",
       "      <th>2</th>\n",
       "      <td>15786</td>\n",
       "      <td>1.895464</td>\n",
       "      <td>0.047647</td>\n",
       "      <td>0.391007</td>\n",
       "      <td>6.136626</td>\n",
       "      <td>0.801253</td>\n",
       "      <td>-1.245314</td>\n",
       "      <td>58600.0</td>\n",
       "      <td>10</td>\n",
       "      <td>0.008727</td>\n",
       "      <td>0.034905</td>\n",
       "      <td>16.5</td>\n",
       "      <td>4.0</td>\n",
       "    </tr>\n",
       "    <tr>\n",
       "      <th>3</th>\n",
       "      <td>3904</td>\n",
       "      <td>2.595620</td>\n",
       "      <td>0.098526</td>\n",
       "      <td>0.261602</td>\n",
       "      <td>5.453543</td>\n",
       "      <td>2.211553</td>\n",
       "      <td>-1.355664</td>\n",
       "      <td>58600.0</td>\n",
       "      <td>10</td>\n",
       "      <td>0.008727</td>\n",
       "      <td>0.034905</td>\n",
       "      <td>16.5</td>\n",
       "      <td>4.0</td>\n",
       "    </tr>\n",
       "    <tr>\n",
       "      <th>4</th>\n",
       "      <td>142999</td>\n",
       "      <td>2.613817</td>\n",
       "      <td>0.191549</td>\n",
       "      <td>0.513090</td>\n",
       "      <td>0.233977</td>\n",
       "      <td>0.942074</td>\n",
       "      <td>-1.303158</td>\n",
       "      <td>58600.0</td>\n",
       "      <td>10</td>\n",
       "      <td>0.008727</td>\n",
       "      <td>0.034905</td>\n",
       "      <td>16.5</td>\n",
       "      <td>4.0</td>\n",
       "    </tr>\n",
       "    <tr>\n",
       "      <th>...</th>\n",
       "      <td>...</td>\n",
       "      <td>...</td>\n",
       "      <td>...</td>\n",
       "      <td>...</td>\n",
       "      <td>...</td>\n",
       "      <td>...</td>\n",
       "      <td>...</td>\n",
       "      <td>...</td>\n",
       "      <td>...</td>\n",
       "      <td>...</td>\n",
       "      <td>...</td>\n",
       "      <td>...</td>\n",
       "      <td>...</td>\n",
       "    </tr>\n",
       "    <tr>\n",
       "      <th>59</th>\n",
       "      <td>11952</td>\n",
       "      <td>2.241410</td>\n",
       "      <td>0.085789</td>\n",
       "      <td>0.117903</td>\n",
       "      <td>0.042534</td>\n",
       "      <td>2.901296</td>\n",
       "      <td>-3.012575</td>\n",
       "      <td>58600.0</td>\n",
       "      <td>10</td>\n",
       "      <td>0.008727</td>\n",
       "      <td>0.034905</td>\n",
       "      <td>16.5</td>\n",
       "      <td>4.0</td>\n",
       "    </tr>\n",
       "    <tr>\n",
       "      <th>60</th>\n",
       "      <td>134815</td>\n",
       "      <td>2.600280</td>\n",
       "      <td>0.141038</td>\n",
       "      <td>0.513184</td>\n",
       "      <td>0.275664</td>\n",
       "      <td>0.641888</td>\n",
       "      <td>-0.948576</td>\n",
       "      <td>58600.0</td>\n",
       "      <td>10</td>\n",
       "      <td>0.008727</td>\n",
       "      <td>0.034905</td>\n",
       "      <td>16.5</td>\n",
       "      <td>4.0</td>\n",
       "    </tr>\n",
       "    <tr>\n",
       "      <th>61</th>\n",
       "      <td>27860</td>\n",
       "      <td>2.614547</td>\n",
       "      <td>0.096713</td>\n",
       "      <td>0.199311</td>\n",
       "      <td>5.540046</td>\n",
       "      <td>3.263431</td>\n",
       "      <td>3.953275</td>\n",
       "      <td>58600.0</td>\n",
       "      <td>10</td>\n",
       "      <td>0.008727</td>\n",
       "      <td>0.034905</td>\n",
       "      <td>16.5</td>\n",
       "      <td>4.0</td>\n",
       "    </tr>\n",
       "    <tr>\n",
       "      <th>62</th>\n",
       "      <td>85937</td>\n",
       "      <td>2.316521</td>\n",
       "      <td>0.196779</td>\n",
       "      <td>0.438674</td>\n",
       "      <td>5.281107</td>\n",
       "      <td>3.200757</td>\n",
       "      <td>3.941057</td>\n",
       "      <td>58600.0</td>\n",
       "      <td>10</td>\n",
       "      <td>0.008727</td>\n",
       "      <td>0.034905</td>\n",
       "      <td>16.5</td>\n",
       "      <td>4.0</td>\n",
       "    </tr>\n",
       "    <tr>\n",
       "      <th>63</th>\n",
       "      <td>72911</td>\n",
       "      <td>3.118047</td>\n",
       "      <td>0.086373</td>\n",
       "      <td>0.262797</td>\n",
       "      <td>5.311368</td>\n",
       "      <td>2.106274</td>\n",
       "      <td>-1.022800</td>\n",
       "      <td>58600.0</td>\n",
       "      <td>10</td>\n",
       "      <td>0.008727</td>\n",
       "      <td>0.034905</td>\n",
       "      <td>16.5</td>\n",
       "      <td>4.0</td>\n",
       "    </tr>\n",
       "  </tbody>\n",
       "</table>\n",
       "<p>64 rows × 13 columns</p>\n",
       "</div>"
      ],
      "text/plain": [
       "    element_id         a         e       inc     Omega     omega         f  \\\n",
       "0        51921  2.682597  0.217803  0.499641  4.705231  2.451220 -1.132557   \n",
       "1        59244  2.631087  0.263394  0.464606  5.735210  1.769592 -1.606798   \n",
       "2        15786  1.895464  0.047647  0.391007  6.136626  0.801253 -1.245314   \n",
       "3         3904  2.595620  0.098526  0.261602  5.453543  2.211553 -1.355664   \n",
       "4       142999  2.613817  0.191549  0.513090  0.233977  0.942074 -1.303158   \n",
       "..         ...       ...       ...       ...       ...       ...       ...   \n",
       "59       11952  2.241410  0.085789  0.117903  0.042534  2.901296 -3.012575   \n",
       "60      134815  2.600280  0.141038  0.513184  0.275664  0.641888 -0.948576   \n",
       "61       27860  2.614547  0.096713  0.199311  5.540046  3.263431  3.953275   \n",
       "62       85937  2.316521  0.196779  0.438674  5.281107  3.200757  3.941057   \n",
       "63       72911  3.118047  0.086373  0.262797  5.311368  2.106274 -1.022800   \n",
       "\n",
       "      epoch  num_hits         R  thresh_s     H  sigma_mag  \n",
       "0   58600.0        10  0.008727  0.034905  16.5        4.0  \n",
       "1   58600.0        10  0.008727  0.034905  16.5        4.0  \n",
       "2   58600.0        10  0.008727  0.034905  16.5        4.0  \n",
       "3   58600.0        10  0.008727  0.034905  16.5        4.0  \n",
       "4   58600.0        10  0.008727  0.034905  16.5        4.0  \n",
       "..      ...       ...       ...       ...   ...        ...  \n",
       "59  58600.0        10  0.008727  0.034905  16.5        4.0  \n",
       "60  58600.0        10  0.008727  0.034905  16.5        4.0  \n",
       "61  58600.0        10  0.008727  0.034905  16.5        4.0  \n",
       "62  58600.0        10  0.008727  0.034905  16.5        4.0  \n",
       "63  58600.0        10  0.008727  0.034905  16.5        4.0  \n",
       "\n",
       "[64 rows x 13 columns]"
      ]
     },
     "execution_count": 27,
     "metadata": {},
     "output_type": "execute_result"
    }
   ],
   "source": [
    "# Review perturbed elements; includes nearest asteroid number and distance\n",
    "elts"
   ]
  },
  {
   "cell_type": "markdown",
   "metadata": {},
   "source": [
    "## Build Asteroid Search Model"
   ]
  },
  {
   "cell_type": "code",
   "execution_count": 28,
   "metadata": {},
   "outputs": [],
   "source": [
    "# Observatory for ZTF data is Palomar Mountain\n",
    "site_name = 'palomar'"
   ]
  },
  {
   "cell_type": "code",
   "execution_count": 29,
   "metadata": {},
   "outputs": [],
   "source": [
    "# Training parameters\n",
    "learning_rate = 2.0**-12\n",
    "clipnorm = 1.0\n",
    "optimizer_type = 'adam'"
   ]
  },
  {
   "cell_type": "code",
   "execution_count": 30,
   "metadata": {},
   "outputs": [],
   "source": [
    "# Build asteroid search model\n",
    "model = AsteroidSearchModel(\n",
    "                elts=elts, ztf_elt=ztf_elt, \n",
    "                site_name=site_name, thresh_deg=thresh_deg, \n",
    "                learning_rate=learning_rate, clipnorm=clipnorm,\n",
    "                file_name=f'candidate_elt_pert_small_{random_seed:04d}.h5',\n",
    "                name='model')"
   ]
  },
  {
   "cell_type": "code",
   "execution_count": 31,
   "metadata": {},
   "outputs": [
    {
     "name": "stdout",
     "output_type": "stream",
     "text": [
      "\n",
      "Good elements (hits >= 5):   0.00\n",
      "\n",
      "         \\  log_like :  hits  :    R_sec : thresh_sec\n",
      "Mean Good:      nan  :    nan :      nan :      nan\n",
      "Mean Bad :     0.90  :   0.00 :  1799.79 :  7200.00\n",
      "Mean     :     0.90  :   0.00 :  1799.79 :  7200.00\n",
      "Median   :     0.57  :   0.00 :  1792.82 :  7200.00\n",
      "GeoMean  :     1.36  :   0.00 :  1799.78 :  7200.99\n",
      "Min      :    -1.55  :   0.00 :  1792.82 :  7200.00\n",
      "Max      :     6.06  :   0.00 :  1807.21 :  7200.00\n",
      "Trained for 0 batches over 0 epochs and 0 episodes (elapsed time 0 seconds).\n"
     ]
    },
    {
     "name": "stderr",
     "output_type": "stream",
     "text": [
      "/home/michael/anaconda3/envs/kepler/lib/python3.7/site-packages/numpy/core/fromnumeric.py:3335: RuntimeWarning: Mean of empty slice.\n",
      "  out=out, **kwargs)\n"
     ]
    }
   ],
   "source": [
    "# Report before training starts\n",
    "model.report()"
   ]
  },
  {
   "cell_type": "code",
   "execution_count": 32,
   "metadata": {},
   "outputs": [],
   "source": [
    "# model.load()"
   ]
  },
  {
   "cell_type": "code",
   "execution_count": 33,
   "metadata": {},
   "outputs": [
    {
     "name": "stdout",
     "output_type": "stream",
     "text": [
      "\n",
      "Good elements (hits >= 5):   0.00\n",
      "\n",
      "         \\  log_like :  hits  :    R_sec : thresh_sec\n",
      "Mean Good:      nan  :    nan :      nan :      nan\n",
      "Mean Bad :     0.90  :   0.00 :  1799.79 :  7200.00\n",
      "Mean     :     0.90  :   0.00 :  1799.79 :  7200.00\n",
      "Median   :     0.57  :   0.00 :  1792.82 :  7200.00\n",
      "GeoMean  :     1.36  :   0.00 :  1799.78 :  7200.99\n",
      "Min      :    -1.55  :   0.00 :  1792.82 :  7200.00\n",
      "Max      :     6.06  :   0.00 :  1807.21 :  7200.00\n",
      "Trained for 0 batches over 0 epochs and 0 episodes (elapsed time 0 seconds).\n"
     ]
    }
   ],
   "source": [
    "model.report()"
   ]
  },
  {
   "cell_type": "markdown",
   "metadata": {},
   "source": [
    "## Automated Training with Sieve Method"
   ]
  },
  {
   "cell_type": "code",
   "execution_count": 34,
   "metadata": {},
   "outputs": [],
   "source": [
    "# model.sieve()"
   ]
  },
  {
   "cell_type": "code",
   "execution_count": 35,
   "metadata": {},
   "outputs": [
    {
     "name": "stdout",
     "output_type": "stream",
     "text": [
      "Loaded candidate elements and training history from ../data/candidate_elt/candidate_elt_pert_small_0042.h5.\n"
     ]
    }
   ],
   "source": [
    "model.load()"
   ]
  },
  {
   "cell_type": "code",
   "execution_count": 36,
   "metadata": {},
   "outputs": [
    {
     "name": "stdout",
     "output_type": "stream",
     "text": [
      "\n",
      "Good elements (hits >= 5):  32.00\n",
      "\n",
      "         \\  log_like :  hits  :    R_sec : thresh_sec\n",
      "Mean Good:   796.81  :  71.47 :    42.71 :  1013.88\n",
      "Mean Bad :   151.05  :   0.19 :   246.08 :  2130.53\n",
      "Mean     :   473.93  :  35.83 :   144.39 :  1572.21\n",
      "Median   :   545.53  :   5.00 :    79.05 :  1948.49\n",
      "GeoMean  :   192.46  :   6.67 :    65.85 :  1287.54\n",
      "Min      :     1.33  :   0.00 :     3.53 :   233.61\n",
      "Max      :  1218.43  : 163.00 :  1168.61 :  2400.00\n",
      "Trained for 12096 batches over 189 epochs and 71 episodes (elapsed time 520 seconds).\n"
     ]
    }
   ],
   "source": [
    "model.report()"
   ]
  },
  {
   "cell_type": "markdown",
   "metadata": {},
   "source": [
    "## Review Results Graphically"
   ]
  },
  {
   "cell_type": "code",
   "execution_count": 37,
   "metadata": {},
   "outputs": [],
   "source": [
    "# model.load()"
   ]
  },
  {
   "cell_type": "code",
   "execution_count": 38,
   "metadata": {},
   "outputs": [
    {
     "name": "stdout",
     "output_type": "stream",
     "text": [
      "\n",
      "Good elements (hits >= 5):  32.00\n",
      "\n",
      "         \\  log_like :  hits  :    R_sec : thresh_sec\n",
      "Mean Good:   796.81  :  71.47 :    42.71 :  1013.88\n",
      "Mean Bad :   151.05  :   0.19 :   246.08 :  2130.53\n",
      "Mean     :   473.93  :  35.83 :   144.39 :  1572.21\n",
      "Median   :   545.53  :   5.00 :    79.05 :  1948.49\n",
      "GeoMean  :   192.46  :   6.67 :    65.85 :  1287.54\n",
      "Min      :     1.33  :   0.00 :     3.53 :   233.61\n",
      "Max      :  1218.43  : 163.00 :  1168.61 :  2400.00\n",
      "Trained for 12096 batches over 189 epochs and 71 episodes (elapsed time 520 seconds).\n"
     ]
    }
   ],
   "source": [
    "model.report()"
   ]
  },
  {
   "cell_type": "code",
   "execution_count": 39,
   "metadata": {},
   "outputs": [
    {
     "data": {
      "image/png": "[encoded data removed]",
      "text/plain": [
       "<Figure size 1152x720 with 1 Axes>"
      ]
     },
     "metadata": {
      "needs_background": "light"
     },
     "output_type": "display_data"
    }
   ],
   "source": [
    "# Bar chart - log likelihood by element\n",
    "fig, ax = model.plot_bar('log_like', sorted=False)"
   ]
  },
  {
   "cell_type": "code",
   "execution_count": 40,
   "metadata": {},
   "outputs": [],
   "source": [
    "fig.savefig('../figs/search_known/perturbed_small/log_like.png', bbox_inches='tight')"
   ]
  },
  {
   "cell_type": "code",
   "execution_count": 41,
   "metadata": {},
   "outputs": [
    {
     "data": {
      "image/png": "[encoded data removed]",
      "text/plain": [
       "<Figure size 1152x720 with 1 Axes>"
      ]
     },
     "metadata": {
      "needs_background": "light"
     },
     "output_type": "display_data"
    }
   ],
   "source": [
    "# Bar chart: hits\n",
    "fig, ax_hits = model.plot_bar('hits', sorted=False)"
   ]
  },
  {
   "cell_type": "code",
   "execution_count": 42,
   "metadata": {},
   "outputs": [],
   "source": [
    "fig.savefig('../figs/search_known/perturbed_small/hits.png', bbox_inches='tight')"
   ]
  },
  {
   "cell_type": "code",
   "execution_count": 43,
   "metadata": {},
   "outputs": [
    {
     "data": {
      "image/png": "[encoded data removed]",
      "text/plain": [
       "<Figure size 1152x720 with 1 Axes>"
      ]
     },
     "metadata": {
      "needs_background": "light"
     },
     "output_type": "display_data"
    }
   ],
   "source": [
    "# Learning curve: log likelihood\n",
    "fig, ax_lc_like = model.plot_hist('log_like')"
   ]
  },
  {
   "cell_type": "code",
   "execution_count": 44,
   "metadata": {},
   "outputs": [],
   "source": [
    "fig.savefig('../figs/search_known/perturbed_small/learning_curve_log_like.png', bbox_inches='tight')"
   ]
  },
  {
   "cell_type": "code",
   "execution_count": 45,
   "metadata": {},
   "outputs": [
    {
     "data": {
      "image/png": "[encoded data removed]",
      "text/plain": [
       "<Figure size 1152x720 with 1 Axes>"
      ]
     },
     "metadata": {
      "needs_background": "light"
     },
     "output_type": "display_data"
    }
   ],
   "source": [
    "# Learning curve: hits\n",
    "fig, ax_lc_hits = model.plot_hist('hits')"
   ]
  },
  {
   "cell_type": "code",
   "execution_count": 46,
   "metadata": {},
   "outputs": [],
   "source": [
    "fig.savefig('../figs/search_known/perturbed_small/learning_curve_hits.png', bbox_inches='tight')"
   ]
  },
  {
   "cell_type": "markdown",
   "metadata": {},
   "source": [
    "## Distance vs. Nearest Asteroid for Fitted Elements"
   ]
  },
  {
   "cell_type": "code",
   "execution_count": 47,
   "metadata": {},
   "outputs": [],
   "source": [
    "elts_fit, elts_near = model.nearest_ast()"
   ]
  },
  {
   "cell_type": "code",
   "execution_count": 48,
   "metadata": {},
   "outputs": [],
   "source": [
    "# model.save_state()"
   ]
  },
  {
   "cell_type": "code",
   "execution_count": 49,
   "metadata": {},
   "outputs": [
    {
     "name": "stdout",
     "output_type": "stream",
     "text": [
      "Good convergence on 32 asteroids.\n",
      "Mean on converged asteroids:\n",
      "Number of hits         : 71.44\n",
      "Resolution in arc sec  : 42.71\n",
      "GeoMean Distance in AU : 4.00e-04\n",
      "Covariance norm        : 1.69e-02\n"
     ]
    }
   ],
   "source": [
    "# Review asteroids nearest to the fitted elements\n",
    "cols = ['element_id', 'log_like', 'hits', 'R_sec', 'thresh_sec', 'nearest_ast_num', 'nearest_ast_dist', 'nearest_ast_q_norm']\n",
    "\n",
    "# Summary\n",
    "has_hits = (model.elts_fit.hits >= 5)\n",
    "is_converged = has_hits\n",
    "num_converged = np.sum(is_converged)\n",
    "\n",
    "# Mean on converged\n",
    "mean_hits = np.mean(model.elts_fit.hits[is_converged])\n",
    "mean_R_sec = np.mean(model.elts_fit.R_sec[is_converged])\n",
    "err_cart_mean = np.mean(model.elts_near_ast.nearest_ast_dist[is_converged])\n",
    "err_cart_geo = np.exp(np.mean(np.log(model.elts_near_ast.nearest_ast_dist[is_converged])))\n",
    "err_cov_mean = np.exp(np.mean(np.log(model.elts_near_ast.nearest_ast_q_norm[is_converged])))\n",
    "\n",
    "# Report\n",
    "print(f'Good convergence on {num_converged} asteroids.')\n",
    "print(f'Mean on converged asteroids:')\n",
    "print(f'Number of hits         : {mean_hits:5.2f}')\n",
    "print(f'Resolution in arc sec  : {mean_R_sec:5.2f}')\n",
    "# print(f'Mean Distance in AU    : {err_cart_mean:5.2e}')\n",
    "print(f'GeoMean Distance in AU : {err_cart_geo:5.2e}')\n",
    "print(f'Covariance norm        : {err_cov_mean:5.2e}')"
   ]
  },
  {
   "cell_type": "code",
   "execution_count": 50,
   "metadata": {},
   "outputs": [
    {
     "data": {
      "text/html": [
       "<div>\n",
       "<style scoped>\n",
       "    .dataframe tbody tr th:only-of-type {\n",
       "        vertical-align: middle;\n",
       "    }\n",
       "\n",
       "    .dataframe tbody tr th {\n",
       "        vertical-align: top;\n",
       "    }\n",
       "\n",
       "    .dataframe thead th {\n",
       "        text-align: right;\n",
       "    }\n",
       "</style>\n",
       "<table border=\"1\" class=\"dataframe\">\n",
       "  <thead>\n",
       "    <tr style=\"text-align: right;\">\n",
       "      <th></th>\n",
       "      <th>element_id</th>\n",
       "      <th>log_like</th>\n",
       "      <th>hits</th>\n",
       "      <th>R_sec</th>\n",
       "      <th>thresh_sec</th>\n",
       "      <th>nearest_ast_num</th>\n",
       "      <th>nearest_ast_dist</th>\n",
       "      <th>nearest_ast_q_norm</th>\n",
       "    </tr>\n",
       "  </thead>\n",
       "  <tbody>\n",
       "    <tr>\n",
       "      <th>22</th>\n",
       "      <td>9229</td>\n",
       "      <td>1218.427246</td>\n",
       "      <td>162.999756</td>\n",
       "      <td>3.527555</td>\n",
       "      <td>284.393951</td>\n",
       "      <td>9229</td>\n",
       "      <td>0.000026</td>\n",
       "      <td>0.006246</td>\n",
       "    </tr>\n",
       "    <tr>\n",
       "      <th>25</th>\n",
       "      <td>203722</td>\n",
       "      <td>1109.741089</td>\n",
       "      <td>161.999115</td>\n",
       "      <td>4.850838</td>\n",
       "      <td>233.612976</td>\n",
       "      <td>203722</td>\n",
       "      <td>0.000098</td>\n",
       "      <td>0.002688</td>\n",
       "    </tr>\n",
       "    <tr>\n",
       "      <th>35</th>\n",
       "      <td>122263</td>\n",
       "      <td>1041.273804</td>\n",
       "      <td>157.997345</td>\n",
       "      <td>5.941032</td>\n",
       "      <td>282.255493</td>\n",
       "      <td>122263</td>\n",
       "      <td>0.000140</td>\n",
       "      <td>0.005782</td>\n",
       "    </tr>\n",
       "    <tr>\n",
       "      <th>50</th>\n",
       "      <td>6455</td>\n",
       "      <td>919.778809</td>\n",
       "      <td>149.949768</td>\n",
       "      <td>17.355381</td>\n",
       "      <td>768.469971</td>\n",
       "      <td>6455</td>\n",
       "      <td>0.000369</td>\n",
       "      <td>0.004313</td>\n",
       "    </tr>\n",
       "    <tr>\n",
       "      <th>11</th>\n",
       "      <td>9936</td>\n",
       "      <td>1072.764771</td>\n",
       "      <td>143.990829</td>\n",
       "      <td>7.959333</td>\n",
       "      <td>329.035675</td>\n",
       "      <td>9936</td>\n",
       "      <td>0.000191</td>\n",
       "      <td>0.005187</td>\n",
       "    </tr>\n",
       "    <tr>\n",
       "      <th>10</th>\n",
       "      <td>43796</td>\n",
       "      <td>533.193970</td>\n",
       "      <td>135.165543</td>\n",
       "      <td>130.818176</td>\n",
       "      <td>2290.274658</td>\n",
       "      <td>43796</td>\n",
       "      <td>0.000166</td>\n",
       "      <td>0.033946</td>\n",
       "    </tr>\n",
       "    <tr>\n",
       "      <th>21</th>\n",
       "      <td>77774</td>\n",
       "      <td>958.736694</td>\n",
       "      <td>110.987976</td>\n",
       "      <td>8.587432</td>\n",
       "      <td>333.810852</td>\n",
       "      <td>77774</td>\n",
       "      <td>0.000564</td>\n",
       "      <td>0.022165</td>\n",
       "    </tr>\n",
       "    <tr>\n",
       "      <th>55</th>\n",
       "      <td>18181</td>\n",
       "      <td>685.988953</td>\n",
       "      <td>109.904808</td>\n",
       "      <td>51.282101</td>\n",
       "      <td>886.897034</td>\n",
       "      <td>18181</td>\n",
       "      <td>0.000333</td>\n",
       "      <td>0.018112</td>\n",
       "    </tr>\n",
       "    <tr>\n",
       "      <th>4</th>\n",
       "      <td>142999</td>\n",
       "      <td>985.259338</td>\n",
       "      <td>108.953369</td>\n",
       "      <td>29.583586</td>\n",
       "      <td>736.770752</td>\n",
       "      <td>142999</td>\n",
       "      <td>0.000323</td>\n",
       "      <td>0.006881</td>\n",
       "    </tr>\n",
       "    <tr>\n",
       "      <th>44</th>\n",
       "      <td>62002</td>\n",
       "      <td>608.529663</td>\n",
       "      <td>107.240982</td>\n",
       "      <td>68.738892</td>\n",
       "      <td>1480.557373</td>\n",
       "      <td>62002</td>\n",
       "      <td>0.000274</td>\n",
       "      <td>0.006233</td>\n",
       "    </tr>\n",
       "    <tr>\n",
       "      <th>1</th>\n",
       "      <td>59244</td>\n",
       "      <td>1128.477539</td>\n",
       "      <td>96.988373</td>\n",
       "      <td>15.140688</td>\n",
       "      <td>596.234680</td>\n",
       "      <td>59244</td>\n",
       "      <td>0.000124</td>\n",
       "      <td>0.041228</td>\n",
       "    </tr>\n",
       "    <tr>\n",
       "      <th>24</th>\n",
       "      <td>2015</td>\n",
       "      <td>1052.047974</td>\n",
       "      <td>89.991035</td>\n",
       "      <td>11.217582</td>\n",
       "      <td>584.436768</td>\n",
       "      <td>2015</td>\n",
       "      <td>0.000263</td>\n",
       "      <td>0.006987</td>\n",
       "    </tr>\n",
       "    <tr>\n",
       "      <th>63</th>\n",
       "      <td>72911</td>\n",
       "      <td>526.403564</td>\n",
       "      <td>69.246826</td>\n",
       "      <td>95.937172</td>\n",
       "      <td>2285.145508</td>\n",
       "      <td>72911</td>\n",
       "      <td>0.000440</td>\n",
       "      <td>0.006745</td>\n",
       "    </tr>\n",
       "    <tr>\n",
       "      <th>58</th>\n",
       "      <td>10555</td>\n",
       "      <td>665.548828</td>\n",
       "      <td>67.738449</td>\n",
       "      <td>32.495472</td>\n",
       "      <td>978.136414</td>\n",
       "      <td>10555</td>\n",
       "      <td>0.000596</td>\n",
       "      <td>0.013432</td>\n",
       "    </tr>\n",
       "    <tr>\n",
       "      <th>0</th>\n",
       "      <td>51921</td>\n",
       "      <td>1075.152344</td>\n",
       "      <td>58.988976</td>\n",
       "      <td>13.379449</td>\n",
       "      <td>565.440552</td>\n",
       "      <td>51921</td>\n",
       "      <td>0.001043</td>\n",
       "      <td>0.016314</td>\n",
       "    </tr>\n",
       "    <tr>\n",
       "      <th>23</th>\n",
       "      <td>49627</td>\n",
       "      <td>505.926147</td>\n",
       "      <td>58.669701</td>\n",
       "      <td>88.704582</td>\n",
       "      <td>2274.616455</td>\n",
       "      <td>49627</td>\n",
       "      <td>0.000495</td>\n",
       "      <td>0.027848</td>\n",
       "    </tr>\n",
       "    <tr>\n",
       "      <th>39</th>\n",
       "      <td>73961</td>\n",
       "      <td>752.501221</td>\n",
       "      <td>55.937717</td>\n",
       "      <td>37.774017</td>\n",
       "      <td>866.465759</td>\n",
       "      <td>73961</td>\n",
       "      <td>0.001298</td>\n",
       "      <td>0.053408</td>\n",
       "    </tr>\n",
       "    <tr>\n",
       "      <th>47</th>\n",
       "      <td>733</td>\n",
       "      <td>830.949341</td>\n",
       "      <td>47.988876</td>\n",
       "      <td>17.734703</td>\n",
       "      <td>606.589050</td>\n",
       "      <td>733</td>\n",
       "      <td>0.000450</td>\n",
       "      <td>0.020814</td>\n",
       "    </tr>\n",
       "    <tr>\n",
       "      <th>61</th>\n",
       "      <td>27860</td>\n",
       "      <td>900.715515</td>\n",
       "      <td>45.986401</td>\n",
       "      <td>12.811556</td>\n",
       "      <td>748.392456</td>\n",
       "      <td>27860</td>\n",
       "      <td>0.000284</td>\n",
       "      <td>0.027050</td>\n",
       "    </tr>\n",
       "    <tr>\n",
       "      <th>32</th>\n",
       "      <td>19794</td>\n",
       "      <td>915.925354</td>\n",
       "      <td>45.983486</td>\n",
       "      <td>9.651687</td>\n",
       "      <td>649.197449</td>\n",
       "      <td>19794</td>\n",
       "      <td>0.000604</td>\n",
       "      <td>0.022299</td>\n",
       "    </tr>\n",
       "    <tr>\n",
       "      <th>41</th>\n",
       "      <td>3426</td>\n",
       "      <td>840.353027</td>\n",
       "      <td>45.971184</td>\n",
       "      <td>15.714439</td>\n",
       "      <td>860.717957</td>\n",
       "      <td>3426</td>\n",
       "      <td>0.000734</td>\n",
       "      <td>0.020503</td>\n",
       "    </tr>\n",
       "    <tr>\n",
       "      <th>62</th>\n",
       "      <td>85937</td>\n",
       "      <td>807.032898</td>\n",
       "      <td>44.985104</td>\n",
       "      <td>17.107473</td>\n",
       "      <td>606.298096</td>\n",
       "      <td>85937</td>\n",
       "      <td>0.001001</td>\n",
       "      <td>0.024799</td>\n",
       "    </tr>\n",
       "    <tr>\n",
       "      <th>40</th>\n",
       "      <td>31539</td>\n",
       "      <td>856.575439</td>\n",
       "      <td>41.993359</td>\n",
       "      <td>14.368919</td>\n",
       "      <td>512.641785</td>\n",
       "      <td>31539</td>\n",
       "      <td>0.000474</td>\n",
       "      <td>0.039975</td>\n",
       "    </tr>\n",
       "    <tr>\n",
       "      <th>30</th>\n",
       "      <td>253246</td>\n",
       "      <td>667.966003</td>\n",
       "      <td>32.938431</td>\n",
       "      <td>51.398907</td>\n",
       "      <td>803.856567</td>\n",
       "      <td>253246</td>\n",
       "      <td>0.000957</td>\n",
       "      <td>0.013007</td>\n",
       "    </tr>\n",
       "    <tr>\n",
       "      <th>12</th>\n",
       "      <td>161094</td>\n",
       "      <td>792.592407</td>\n",
       "      <td>29.908089</td>\n",
       "      <td>42.587162</td>\n",
       "      <td>1020.806274</td>\n",
       "      <td>161094</td>\n",
       "      <td>0.000887</td>\n",
       "      <td>0.041426</td>\n",
       "    </tr>\n",
       "    <tr>\n",
       "      <th>17</th>\n",
       "      <td>53516</td>\n",
       "      <td>685.861206</td>\n",
       "      <td>22.827913</td>\n",
       "      <td>64.557167</td>\n",
       "      <td>1454.381958</td>\n",
       "      <td>53516</td>\n",
       "      <td>0.000620</td>\n",
       "      <td>0.029460</td>\n",
       "    </tr>\n",
       "    <tr>\n",
       "      <th>59</th>\n",
       "      <td>11952</td>\n",
       "      <td>717.257385</td>\n",
       "      <td>21.974283</td>\n",
       "      <td>15.547795</td>\n",
       "      <td>783.441772</td>\n",
       "      <td>11952</td>\n",
       "      <td>0.000520</td>\n",
       "      <td>0.020078</td>\n",
       "    </tr>\n",
       "    <tr>\n",
       "      <th>18</th>\n",
       "      <td>4133</td>\n",
       "      <td>674.248413</td>\n",
       "      <td>20.763815</td>\n",
       "      <td>72.041321</td>\n",
       "      <td>2069.967041</td>\n",
       "      <td>4133</td>\n",
       "      <td>0.000038</td>\n",
       "      <td>0.006020</td>\n",
       "    </tr>\n",
       "    <tr>\n",
       "      <th>6</th>\n",
       "      <td>1803</td>\n",
       "      <td>433.655212</td>\n",
       "      <td>15.242604</td>\n",
       "      <td>225.624985</td>\n",
       "      <td>2213.268311</td>\n",
       "      <td>1803</td>\n",
       "      <td>0.000544</td>\n",
       "      <td>0.043950</td>\n",
       "    </tr>\n",
       "    <tr>\n",
       "      <th>45</th>\n",
       "      <td>103501</td>\n",
       "      <td>589.265320</td>\n",
       "      <td>8.952413</td>\n",
       "      <td>38.720463</td>\n",
       "      <td>833.205566</td>\n",
       "      <td>103501</td>\n",
       "      <td>0.001397</td>\n",
       "      <td>0.029383</td>\n",
       "    </tr>\n",
       "    <tr>\n",
       "      <th>2</th>\n",
       "      <td>15786</td>\n",
       "      <td>303.819885</td>\n",
       "      <td>7.834903</td>\n",
       "      <td>90.640472</td>\n",
       "      <td>1945.251465</td>\n",
       "      <td>15786</td>\n",
       "      <td>0.000871</td>\n",
       "      <td>0.101364</td>\n",
       "    </tr>\n",
       "    <tr>\n",
       "      <th>9</th>\n",
       "      <td>14348</td>\n",
       "      <td>641.865540</td>\n",
       "      <td>5.957750</td>\n",
       "      <td>54.865395</td>\n",
       "      <td>1559.747192</td>\n",
       "      <td>14348</td>\n",
       "      <td>0.002511</td>\n",
       "      <td>0.038840</td>\n",
       "    </tr>\n",
       "  </tbody>\n",
       "</table>\n",
       "</div>"
      ],
      "text/plain": [
       "    element_id     log_like        hits       R_sec   thresh_sec  \\\n",
       "22        9229  1218.427246  162.999756    3.527555   284.393951   \n",
       "25      203722  1109.741089  161.999115    4.850838   233.612976   \n",
       "35      122263  1041.273804  157.997345    5.941032   282.255493   \n",
       "50        6455   919.778809  149.949768   17.355381   768.469971   \n",
       "11        9936  1072.764771  143.990829    7.959333   329.035675   \n",
       "10       43796   533.193970  135.165543  130.818176  2290.274658   \n",
       "21       77774   958.736694  110.987976    8.587432   333.810852   \n",
       "55       18181   685.988953  109.904808   51.282101   886.897034   \n",
       "4       142999   985.259338  108.953369   29.583586   736.770752   \n",
       "44       62002   608.529663  107.240982   68.738892  1480.557373   \n",
       "1        59244  1128.477539   96.988373   15.140688   596.234680   \n",
       "24        2015  1052.047974   89.991035   11.217582   584.436768   \n",
       "63       72911   526.403564   69.246826   95.937172  2285.145508   \n",
       "58       10555   665.548828   67.738449   32.495472   978.136414   \n",
       "0        51921  1075.152344   58.988976   13.379449   565.440552   \n",
       "23       49627   505.926147   58.669701   88.704582  2274.616455   \n",
       "39       73961   752.501221   55.937717   37.774017   866.465759   \n",
       "47         733   830.949341   47.988876   17.734703   606.589050   \n",
       "61       27860   900.715515   45.986401   12.811556   748.392456   \n",
       "32       19794   915.925354   45.983486    9.651687   649.197449   \n",
       "41        3426   840.353027   45.971184   15.714439   860.717957   \n",
       "62       85937   807.032898   44.985104   17.107473   606.298096   \n",
       "40       31539   856.575439   41.993359   14.368919   512.641785   \n",
       "30      253246   667.966003   32.938431   51.398907   803.856567   \n",
       "12      161094   792.592407   29.908089   42.587162  1020.806274   \n",
       "17       53516   685.861206   22.827913   64.557167  1454.381958   \n",
       "59       11952   717.257385   21.974283   15.547795   783.441772   \n",
       "18        4133   674.248413   20.763815   72.041321  2069.967041   \n",
       "6         1803   433.655212   15.242604  225.624985  2213.268311   \n",
       "45      103501   589.265320    8.952413   38.720463   833.205566   \n",
       "2        15786   303.819885    7.834903   90.640472  1945.251465   \n",
       "9        14348   641.865540    5.957750   54.865395  1559.747192   \n",
       "\n",
       "    nearest_ast_num  nearest_ast_dist  nearest_ast_q_norm  \n",
       "22             9229          0.000026            0.006246  \n",
       "25           203722          0.000098            0.002688  \n",
       "35           122263          0.000140            0.005782  \n",
       "50             6455          0.000369            0.004313  \n",
       "11             9936          0.000191            0.005187  \n",
       "10            43796          0.000166            0.033946  \n",
       "21            77774          0.000564            0.022165  \n",
       "55            18181          0.000333            0.018112  \n",
       "4            142999          0.000323            0.006881  \n",
       "44            62002          0.000274            0.006233  \n",
       "1             59244          0.000124            0.041228  \n",
       "24             2015          0.000263            0.006987  \n",
       "63            72911          0.000440            0.006745  \n",
       "58            10555          0.000596            0.013432  \n",
       "0             51921          0.001043            0.016314  \n",
       "23            49627          0.000495            0.027848  \n",
       "39            73961          0.001298            0.053408  \n",
       "47              733          0.000450            0.020814  \n",
       "61            27860          0.000284            0.027050  \n",
       "32            19794          0.000604            0.022299  \n",
       "41             3426          0.000734            0.020503  \n",
       "62            85937          0.001001            0.024799  \n",
       "40            31539          0.000474            0.039975  \n",
       "30           253246          0.000957            0.013007  \n",
       "12           161094          0.000887            0.041426  \n",
       "17            53516          0.000620            0.029460  \n",
       "59            11952          0.000520            0.020078  \n",
       "18             4133          0.000038            0.006020  \n",
       "6              1803          0.000544            0.043950  \n",
       "45           103501          0.001397            0.029383  \n",
       "2             15786          0.000871            0.101364  \n",
       "9             14348          0.002511            0.038840  "
      ]
     },
     "execution_count": 50,
     "metadata": {},
     "output_type": "execute_result"
    }
   ],
   "source": [
    "# Review good matches\n",
    "model.elts_fit[cols][is_converged].sort_values(by=['hits', 'R_sec'], ascending=[False, True])"
   ]
  },
  {
   "cell_type": "code",
   "execution_count": 51,
   "metadata": {},
   "outputs": [],
   "source": [
    "# # Review fitted elements including nearest asteroid\n",
    "# model.elts_fit"
   ]
  },
  {
   "cell_type": "code",
   "execution_count": 52,
   "metadata": {},
   "outputs": [
    {
     "data": {
      "text/html": [
       "<div>\n",
       "<style scoped>\n",
       "    .dataframe tbody tr th:only-of-type {\n",
       "        vertical-align: middle;\n",
       "    }\n",
       "\n",
       "    .dataframe tbody tr th {\n",
       "        vertical-align: top;\n",
       "    }\n",
       "\n",
       "    .dataframe thead th {\n",
       "        text-align: right;\n",
       "    }\n",
       "</style>\n",
       "<table border=\"1\" class=\"dataframe\">\n",
       "  <thead>\n",
       "    <tr style=\"text-align: right;\">\n",
       "      <th></th>\n",
       "      <th>element_id</th>\n",
       "      <th>num_hits</th>\n",
       "      <th>R_sec</th>\n",
       "      <th>thresh_sec</th>\n",
       "      <th>log_like</th>\n",
       "      <th>hits</th>\n",
       "      <th>nearest_ast_dist</th>\n",
       "      <th>nearest_ast_q_norm</th>\n",
       "    </tr>\n",
       "  </thead>\n",
       "  <tbody>\n",
       "    <tr>\n",
       "      <th>22</th>\n",
       "      <td>9229</td>\n",
       "      <td>163.134918</td>\n",
       "      <td>3.527555</td>\n",
       "      <td>284.393951</td>\n",
       "      <td>1218.427246</td>\n",
       "      <td>162.999756</td>\n",
       "      <td>0.000026</td>\n",
       "      <td>0.006246</td>\n",
       "    </tr>\n",
       "    <tr>\n",
       "      <th>25</th>\n",
       "      <td>203722</td>\n",
       "      <td>161.999069</td>\n",
       "      <td>4.850838</td>\n",
       "      <td>233.612976</td>\n",
       "      <td>1109.741089</td>\n",
       "      <td>161.999115</td>\n",
       "      <td>0.000098</td>\n",
       "      <td>0.002688</td>\n",
       "    </tr>\n",
       "    <tr>\n",
       "      <th>35</th>\n",
       "      <td>122263</td>\n",
       "      <td>157.997925</td>\n",
       "      <td>5.941032</td>\n",
       "      <td>282.255493</td>\n",
       "      <td>1041.273804</td>\n",
       "      <td>157.997345</td>\n",
       "      <td>0.000140</td>\n",
       "      <td>0.005782</td>\n",
       "    </tr>\n",
       "    <tr>\n",
       "      <th>11</th>\n",
       "      <td>9936</td>\n",
       "      <td>172.987549</td>\n",
       "      <td>7.959333</td>\n",
       "      <td>329.035675</td>\n",
       "      <td>1072.764771</td>\n",
       "      <td>143.990829</td>\n",
       "      <td>0.000191</td>\n",
       "      <td>0.005187</td>\n",
       "    </tr>\n",
       "    <tr>\n",
       "      <th>21</th>\n",
       "      <td>77774</td>\n",
       "      <td>163.974457</td>\n",
       "      <td>8.587432</td>\n",
       "      <td>333.810852</td>\n",
       "      <td>958.736694</td>\n",
       "      <td>110.987976</td>\n",
       "      <td>0.000564</td>\n",
       "      <td>0.022165</td>\n",
       "    </tr>\n",
       "    <tr>\n",
       "      <th>32</th>\n",
       "      <td>19794</td>\n",
       "      <td>159.873062</td>\n",
       "      <td>9.651687</td>\n",
       "      <td>649.197449</td>\n",
       "      <td>915.925354</td>\n",
       "      <td>45.983486</td>\n",
       "      <td>0.000604</td>\n",
       "      <td>0.022299</td>\n",
       "    </tr>\n",
       "    <tr>\n",
       "      <th>24</th>\n",
       "      <td>2015</td>\n",
       "      <td>161.978729</td>\n",
       "      <td>11.217582</td>\n",
       "      <td>584.436768</td>\n",
       "      <td>1052.047974</td>\n",
       "      <td>89.991035</td>\n",
       "      <td>0.000263</td>\n",
       "      <td>0.006987</td>\n",
       "    </tr>\n",
       "    <tr>\n",
       "      <th>61</th>\n",
       "      <td>27860</td>\n",
       "      <td>147.938889</td>\n",
       "      <td>12.811556</td>\n",
       "      <td>748.392456</td>\n",
       "      <td>900.715515</td>\n",
       "      <td>45.986401</td>\n",
       "      <td>0.000284</td>\n",
       "      <td>0.027050</td>\n",
       "    </tr>\n",
       "    <tr>\n",
       "      <th>0</th>\n",
       "      <td>51921</td>\n",
       "      <td>194.622223</td>\n",
       "      <td>13.379449</td>\n",
       "      <td>565.440552</td>\n",
       "      <td>1075.152344</td>\n",
       "      <td>58.988976</td>\n",
       "      <td>0.001043</td>\n",
       "      <td>0.016314</td>\n",
       "    </tr>\n",
       "    <tr>\n",
       "      <th>40</th>\n",
       "      <td>31539</td>\n",
       "      <td>153.960114</td>\n",
       "      <td>14.368919</td>\n",
       "      <td>512.641785</td>\n",
       "      <td>856.575439</td>\n",
       "      <td>41.993359</td>\n",
       "      <td>0.000474</td>\n",
       "      <td>0.039975</td>\n",
       "    </tr>\n",
       "    <tr>\n",
       "      <th>1</th>\n",
       "      <td>59244</td>\n",
       "      <td>189.949936</td>\n",
       "      <td>15.140688</td>\n",
       "      <td>596.234680</td>\n",
       "      <td>1128.477539</td>\n",
       "      <td>96.988373</td>\n",
       "      <td>0.000124</td>\n",
       "      <td>0.041228</td>\n",
       "    </tr>\n",
       "    <tr>\n",
       "      <th>59</th>\n",
       "      <td>11952</td>\n",
       "      <td>147.639267</td>\n",
       "      <td>15.547795</td>\n",
       "      <td>783.441772</td>\n",
       "      <td>717.257385</td>\n",
       "      <td>21.974283</td>\n",
       "      <td>0.000520</td>\n",
       "      <td>0.020078</td>\n",
       "    </tr>\n",
       "    <tr>\n",
       "      <th>41</th>\n",
       "      <td>3426</td>\n",
       "      <td>152.846283</td>\n",
       "      <td>15.714439</td>\n",
       "      <td>860.717957</td>\n",
       "      <td>840.353027</td>\n",
       "      <td>45.971184</td>\n",
       "      <td>0.000734</td>\n",
       "      <td>0.020503</td>\n",
       "    </tr>\n",
       "    <tr>\n",
       "      <th>62</th>\n",
       "      <td>85937</td>\n",
       "      <td>147.919891</td>\n",
       "      <td>17.107473</td>\n",
       "      <td>606.298096</td>\n",
       "      <td>807.032898</td>\n",
       "      <td>44.985104</td>\n",
       "      <td>0.001001</td>\n",
       "      <td>0.024799</td>\n",
       "    </tr>\n",
       "    <tr>\n",
       "      <th>50</th>\n",
       "      <td>6455</td>\n",
       "      <td>150.740356</td>\n",
       "      <td>17.355381</td>\n",
       "      <td>768.469971</td>\n",
       "      <td>919.778809</td>\n",
       "      <td>149.949768</td>\n",
       "      <td>0.000369</td>\n",
       "      <td>0.004313</td>\n",
       "    </tr>\n",
       "    <tr>\n",
       "      <th>47</th>\n",
       "      <td>733</td>\n",
       "      <td>150.939850</td>\n",
       "      <td>17.734703</td>\n",
       "      <td>606.589050</td>\n",
       "      <td>830.949341</td>\n",
       "      <td>47.988876</td>\n",
       "      <td>0.000450</td>\n",
       "      <td>0.020814</td>\n",
       "    </tr>\n",
       "    <tr>\n",
       "      <th>5</th>\n",
       "      <td>5817</td>\n",
       "      <td>171.042999</td>\n",
       "      <td>22.739788</td>\n",
       "      <td>691.127502</td>\n",
       "      <td>863.760864</td>\n",
       "      <td>0.999244</td>\n",
       "      <td>0.000245</td>\n",
       "      <td>0.003763</td>\n",
       "    </tr>\n",
       "    <tr>\n",
       "      <th>15</th>\n",
       "      <td>59245</td>\n",
       "      <td>166.875778</td>\n",
       "      <td>25.043253</td>\n",
       "      <td>583.497009</td>\n",
       "      <td>793.102722</td>\n",
       "      <td>0.000000</td>\n",
       "      <td>0.000949</td>\n",
       "      <td>0.011556</td>\n",
       "    </tr>\n",
       "    <tr>\n",
       "      <th>51</th>\n",
       "      <td>25318</td>\n",
       "      <td>149.937820</td>\n",
       "      <td>25.850563</td>\n",
       "      <td>428.680542</td>\n",
       "      <td>641.421021</td>\n",
       "      <td>0.000000</td>\n",
       "      <td>0.000449</td>\n",
       "      <td>0.010705</td>\n",
       "    </tr>\n",
       "    <tr>\n",
       "      <th>4</th>\n",
       "      <td>142999</td>\n",
       "      <td>189.645889</td>\n",
       "      <td>29.583586</td>\n",
       "      <td>736.770752</td>\n",
       "      <td>985.259338</td>\n",
       "      <td>108.953369</td>\n",
       "      <td>0.000323</td>\n",
       "      <td>0.006881</td>\n",
       "    </tr>\n",
       "    <tr>\n",
       "      <th>58</th>\n",
       "      <td>10555</td>\n",
       "      <td>130.137772</td>\n",
       "      <td>32.495472</td>\n",
       "      <td>978.136414</td>\n",
       "      <td>665.548828</td>\n",
       "      <td>67.738449</td>\n",
       "      <td>0.000596</td>\n",
       "      <td>0.013432</td>\n",
       "    </tr>\n",
       "    <tr>\n",
       "      <th>39</th>\n",
       "      <td>73961</td>\n",
       "      <td>158.647064</td>\n",
       "      <td>37.774017</td>\n",
       "      <td>866.465759</td>\n",
       "      <td>752.501221</td>\n",
       "      <td>55.937717</td>\n",
       "      <td>0.001298</td>\n",
       "      <td>0.053408</td>\n",
       "    </tr>\n",
       "    <tr>\n",
       "      <th>45</th>\n",
       "      <td>103501</td>\n",
       "      <td>86.507759</td>\n",
       "      <td>38.720463</td>\n",
       "      <td>833.205566</td>\n",
       "      <td>589.265320</td>\n",
       "      <td>8.952413</td>\n",
       "      <td>0.001397</td>\n",
       "      <td>0.029383</td>\n",
       "    </tr>\n",
       "  </tbody>\n",
       "</table>\n",
       "</div>"
      ],
      "text/plain": [
       "    element_id    num_hits      R_sec  thresh_sec     log_like        hits  \\\n",
       "22        9229  163.134918   3.527555  284.393951  1218.427246  162.999756   \n",
       "25      203722  161.999069   4.850838  233.612976  1109.741089  161.999115   \n",
       "35      122263  157.997925   5.941032  282.255493  1041.273804  157.997345   \n",
       "11        9936  172.987549   7.959333  329.035675  1072.764771  143.990829   \n",
       "21       77774  163.974457   8.587432  333.810852   958.736694  110.987976   \n",
       "32       19794  159.873062   9.651687  649.197449   915.925354   45.983486   \n",
       "24        2015  161.978729  11.217582  584.436768  1052.047974   89.991035   \n",
       "61       27860  147.938889  12.811556  748.392456   900.715515   45.986401   \n",
       "0        51921  194.622223  13.379449  565.440552  1075.152344   58.988976   \n",
       "40       31539  153.960114  14.368919  512.641785   856.575439   41.993359   \n",
       "1        59244  189.949936  15.140688  596.234680  1128.477539   96.988373   \n",
       "59       11952  147.639267  15.547795  783.441772   717.257385   21.974283   \n",
       "41        3426  152.846283  15.714439  860.717957   840.353027   45.971184   \n",
       "62       85937  147.919891  17.107473  606.298096   807.032898   44.985104   \n",
       "50        6455  150.740356  17.355381  768.469971   919.778809  149.949768   \n",
       "47         733  150.939850  17.734703  606.589050   830.949341   47.988876   \n",
       "5         5817  171.042999  22.739788  691.127502   863.760864    0.999244   \n",
       "15       59245  166.875778  25.043253  583.497009   793.102722    0.000000   \n",
       "51       25318  149.937820  25.850563  428.680542   641.421021    0.000000   \n",
       "4       142999  189.645889  29.583586  736.770752   985.259338  108.953369   \n",
       "58       10555  130.137772  32.495472  978.136414   665.548828   67.738449   \n",
       "39       73961  158.647064  37.774017  866.465759   752.501221   55.937717   \n",
       "45      103501   86.507759  38.720463  833.205566   589.265320    8.952413   \n",
       "\n",
       "    nearest_ast_dist  nearest_ast_q_norm  \n",
       "22          0.000026            0.006246  \n",
       "25          0.000098            0.002688  \n",
       "35          0.000140            0.005782  \n",
       "11          0.000191            0.005187  \n",
       "21          0.000564            0.022165  \n",
       "32          0.000604            0.022299  \n",
       "24          0.000263            0.006987  \n",
       "61          0.000284            0.027050  \n",
       "0           0.001043            0.016314  \n",
       "40          0.000474            0.039975  \n",
       "1           0.000124            0.041228  \n",
       "59          0.000520            0.020078  \n",
       "41          0.000734            0.020503  \n",
       "62          0.001001            0.024799  \n",
       "50          0.000369            0.004313  \n",
       "47          0.000450            0.020814  \n",
       "5           0.000245            0.003763  \n",
       "15          0.000949            0.011556  \n",
       "51          0.000449            0.010705  \n",
       "4           0.000323            0.006881  \n",
       "58          0.000596            0.013432  \n",
       "39          0.001298            0.053408  \n",
       "45          0.001397            0.029383  "
      ]
     },
     "execution_count": 52,
     "metadata": {},
     "output_type": "execute_result"
    }
   ],
   "source": [
    "# Add nearest_ast_dist column\n",
    "model.elts_fit['nearest_ast_dist'] = model.elts_near_ast.nearest_ast_dist\n",
    "model.elts_fit['nearest_ast_q_norm'] = model.elts_near_ast.nearest_ast_q_norm\n",
    "\n",
    "# Filter for only the good ones\n",
    "mask = (model.elts_fit.log_like > 200) & (model.elts_fit.R_sec < 40)\n",
    "cols = ['element_id', 'num_hits', 'R_sec', 'thresh_sec', 'log_like', 'hits', 'nearest_ast_dist', 'nearest_ast_q_norm']\n",
    "model.elts_fit[cols][mask].sort_values(by='R_sec')"
   ]
  },
  {
   "cell_type": "code",
   "execution_count": 53,
   "metadata": {},
   "outputs": [],
   "source": [
    "# # Filter for incomplete convergence\n",
    "# mask = (elts_fit.log_like > 200) & (elts_fit.R_sec >= 60)\n",
    "# elts_fit[mask]"
   ]
  },
  {
   "cell_type": "markdown",
   "metadata": {},
   "source": [
    "## Visualize Error vs. Nearest Asteroid"
   ]
  },
  {
   "cell_type": "code",
   "execution_count": 54,
   "metadata": {},
   "outputs": [
    {
     "data": {
      "image/png": "[encoded data removed]",
      "text/plain": [
       "<Figure size 1152x720 with 1 Axes>"
      ]
     },
     "metadata": {
      "needs_background": "light"
     },
     "output_type": "display_data"
    }
   ],
   "source": [
    "# Plot position error vs. known elements\n",
    "fig, ax = model.plot_q_error(plot_type='cart', is_log=True, use_near_ast_dist=True)"
   ]
  },
  {
   "cell_type": "code",
   "execution_count": 55,
   "metadata": {},
   "outputs": [],
   "source": [
    "fig.savefig('../figs/search_known/perturbed_small/near_ast_dist.png', bbox_inches='tight')"
   ]
  },
  {
   "cell_type": "code",
   "execution_count": 56,
   "metadata": {},
   "outputs": [
    {
     "data": {
      "image/png": "[encoded data removed]",
      "text/plain": [
       "<Figure size 1152x720 with 1 Axes>"
      ]
     },
     "metadata": {
      "needs_background": "light"
     },
     "output_type": "display_data"
    }
   ],
   "source": [
    "# Plot position error vs. known elements\n",
    "fig, ax = model.plot_q_error(plot_type='cov', is_log=True, use_near_ast_dist=True)"
   ]
  },
  {
   "cell_type": "code",
   "execution_count": 57,
   "metadata": {},
   "outputs": [],
   "source": [
    "fig.savefig('../figs/search_known/perturbed_small/near_ast_cov.png', bbox_inches='tight')"
   ]
  },
  {
   "cell_type": "code",
   "execution_count": 58,
   "metadata": {},
   "outputs": [
    {
     "data": {
      "image/png": "[encoded data removed]",
      "text/plain": [
       "<Figure size 1152x720 with 1 Axes>"
      ]
     },
     "metadata": {
      "needs_background": "light"
     },
     "output_type": "display_data"
    }
   ],
   "source": [
    "# Plot error in orbital elements\n",
    "fig, ax = model.plot_elt_error_bar(elt_name='a', is_log=True)"
   ]
  },
  {
   "cell_type": "code",
   "execution_count": 59,
   "metadata": {},
   "outputs": [
    {
     "data": {
      "image/png": "[encoded data removed]",
      "text/plain": [
       "<Figure size 1152x720 with 1 Axes>"
      ]
     },
     "metadata": {
      "needs_background": "light"
     },
     "output_type": "display_data"
    }
   ],
   "source": [
    "# Plot error in orbital elements\n",
    "fig, ax = model.plot_elt_error_bar(elt_name='e', is_log=True)"
   ]
  },
  {
   "cell_type": "code",
   "execution_count": 60,
   "metadata": {},
   "outputs": [
    {
     "data": {
      "image/png": "[encoded data removed]",
      "text/plain": [
       "<Figure size 1152x720 with 1 Axes>"
      ]
     },
     "metadata": {
      "needs_background": "light"
     },
     "output_type": "display_data"
    }
   ],
   "source": [
    "# Plot error in orbital elements\n",
    "fig, ax = model.plot_elt_error_bar(elt_name='inc', is_log=True)"
   ]
  },
  {
   "cell_type": "code",
   "execution_count": 61,
   "metadata": {},
   "outputs": [
    {
     "data": {
      "image/png": "[encoded data removed]",
      "text/plain": [
       "<Figure size 1152x720 with 1 Axes>"
      ]
     },
     "metadata": {
      "needs_background": "light"
     },
     "output_type": "display_data"
    }
   ],
   "source": [
    "# Plot error in orbital elements\n",
    "fig, ax = model.plot_elt_error_bar(elt_name='Omega', is_log=True)"
   ]
  },
  {
   "cell_type": "code",
   "execution_count": 62,
   "metadata": {},
   "outputs": [
    {
     "data": {
      "image/png": "[encoded data removed]",
      "text/plain": [
       "<Figure size 1152x720 with 1 Axes>"
      ]
     },
     "metadata": {
      "needs_background": "light"
     },
     "output_type": "display_data"
    }
   ],
   "source": [
    "# Plot error in orbital elements\n",
    "fig, ax = model.plot_elt_error_bar(elt_name='omega', is_log=True)"
   ]
  },
  {
   "cell_type": "code",
   "execution_count": 63,
   "metadata": {},
   "outputs": [
    {
     "data": {
      "image/png": "[encoded data removed]",
      "text/plain": [
       "<Figure size 1152x720 with 1 Axes>"
      ]
     },
     "metadata": {
      "needs_background": "light"
     },
     "output_type": "display_data"
    }
   ],
   "source": [
    "# Plot error in orbital elements\n",
    "fig, ax = model.plot_elt_error_bar(elt_name='f', is_log=True)"
   ]
  },
  {
   "cell_type": "code",
   "execution_count": null,
   "metadata": {},
   "outputs": [],
   "source": []
  }
 ],
 "metadata": {
  "kernelspec": {
   "display_name": "Python [conda env:kepler]",
   "language": "python",
   "name": "conda-env-kepler-py"
  },
  "language_info": {
   "codemirror_mode": {
    "name": "ipython",
    "version": 3
   },
   "file_extension": ".py",
   "mimetype": "text/x-python",
   "name": "python",
   "nbconvert_exporter": "python",
   "pygments_lexer": "ipython3",
   "version": "3.7.6"
  }
 },
 "nbformat": 4,
 "nbformat_minor": 4
}
