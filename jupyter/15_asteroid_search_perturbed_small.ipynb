{
 "cells": [
  {
   "cell_type": "code",
   "execution_count": 1,
   "metadata": {},
   "outputs": [],
   "source": [
    "# Core\n",
    "import numpy as np\n",
    "import pandas as pd\n",
    "\n",
    "# Tensorflow / ML\n",
    "import tensorflow as tf\n",
    "\n",
    "# Plotting\n",
    "import matplotlib.pyplot as plt\n",
    "import matplotlib as mpl\n",
    "\n",
    "# Utility\n",
    "import time"
   ]
  },
  {
   "cell_type": "code",
   "execution_count": 2,
   "metadata": {},
   "outputs": [
    {
     "name": "stdout",
     "output_type": "stream",
     "text": [
      "Found 4 GPUs.  Setting memory growth = True.\n"
     ]
    }
   ],
   "source": [
    "# Configure TF GPU growth\n",
    "import kepler_sieve\n",
    "from tf_utils import gpu_grow_memory\n",
    "gpu_grow_memory(verbose=True)"
   ]
  },
  {
   "cell_type": "code",
   "execution_count": 3,
   "metadata": {},
   "outputs": [],
   "source": [
    "# MSE Imports\n",
    "from asteroid_element import load_ast_elt\n",
    "from candidate_element import asteroid_elts, perturb_elts, random_elts, elts_add_mixture_params, elts_add_H\n",
    "from ztf_ast import load_ztf_nearest_ast, calc_hit_freq\n",
    "from ztf_element import load_ztf_batch, make_ztf_batch, ztf_score_by_elt, ztf_elt_summary\n",
    "from asteroid_model import AsteroidPosition, AsteroidDirection, make_model_ast_pos\n",
    "from asteroid_search_layers import CandidateElements, MixtureParameters, TrajectoryScore\n",
    "from asteroid_search_model import AsteroidSearchModel, make_opt_adam\n",
    "from asteroid_search_report import traj_diff\n",
    "from nearest_asteroid import nearest_ast_elt_cart, nearest_ast_elt_cov, elt_q_norm\n",
    "from element_eda import score_by_elt\n",
    "from asteroid_dataframe import calc_ast_data, spline_ast_vec_df\n",
    "from astro_utils import deg2dist, dist2deg, dist2sec"
   ]
  },
  {
   "cell_type": "code",
   "execution_count": 4,
   "metadata": {},
   "outputs": [],
   "source": [
    "# Aliases\n",
    "keras = tf.keras\n",
    "\n",
    "# Constants\n",
    "dtype = tf.float32\n",
    "dtype_np = np.float32\n",
    "space_dims = 3"
   ]
  },
  {
   "cell_type": "code",
   "execution_count": 5,
   "metadata": {},
   "outputs": [],
   "source": [
    "# Set plot style variables\n",
    "mpl.rcParams['figure.figsize'] = [16.0, 10.0]\n",
    "mpl.rcParams['font.size'] = 16"
   ]
  },
  {
   "cell_type": "markdown",
   "metadata": {},
   "source": [
    "## Load ZTF Data and Batch of Orbital Elements"
   ]
  },
  {
   "cell_type": "code",
   "execution_count": 6,
   "metadata": {},
   "outputs": [],
   "source": [
    "# Load orbital elements for known asteroids\n",
    "ast_elt = load_ast_elt()\n",
    "\n",
    "# Number of asteroids\n",
    "N_ast = ast_elt.shape[0]"
   ]
  },
  {
   "cell_type": "code",
   "execution_count": 7,
   "metadata": {},
   "outputs": [],
   "source": [
    "# Load ztf nearest asteroid data\n",
    "ztf_ast = load_ztf_nearest_ast()"
   ]
  },
  {
   "cell_type": "code",
   "execution_count": 8,
   "metadata": {},
   "outputs": [],
   "source": [
    "# Asteroid numbers and hit counts\n",
    "ast_num, hit_count = calc_hit_freq(ztf=ztf_ast, thresh_sec=2.0)\n",
    "\n",
    "# Sort the hit counts in descending order and find the top batch_size\n",
    "idx = np.argsort(hit_count)[::-1]\n",
    "\n",
    "# Extract the asteroid number and hit count for this batch\n",
    "ast_num_best = ast_num[idx]\n",
    "hit_count_best = hit_count[idx]"
   ]
  },
  {
   "cell_type": "code",
   "execution_count": 9,
   "metadata": {},
   "outputs": [],
   "source": [
    "# Parameters to build elements batch\n",
    "batch_size = 64\n",
    "\n",
    "# Batch of unperturbed elements\n",
    "elts_ast = asteroid_elts(ast_nums=ast_num_best[0:batch_size])"
   ]
  },
  {
   "cell_type": "code",
   "execution_count": 10,
   "metadata": {},
   "outputs": [],
   "source": [
    "# # Review unperturbed elements\n",
    "# elts_ast"
   ]
  },
  {
   "cell_type": "code",
   "execution_count": 11,
   "metadata": {},
   "outputs": [],
   "source": [
    "# Inputs to perturb elements: large\n",
    "sigma_a = 0.05\n",
    "sigma_e = 0.01\n",
    "sigma_inc_deg = 0.25\n",
    "sigma_f_deg = 1.0\n",
    "sigma_Omega_deg = 1.0\n",
    "sigma_omega_deg = 1.0\n",
    "mask_pert = None\n",
    "random_seed = 42"
   ]
  },
  {
   "cell_type": "code",
   "execution_count": 12,
   "metadata": {},
   "outputs": [],
   "source": [
    "# Inputs to perturb elements: small\n",
    "sigma_a = 0.01\n",
    "sigma_e = 0.0025\n",
    "sigma_inc_deg = 0.05\n",
    "sigma_f_deg = 0.25\n",
    "sigma_Omega_deg = 0.25\n",
    "sigma_omega_deg = 0.25\n",
    "mask_pert = None\n",
    "random_seed = 42"
   ]
  },
  {
   "cell_type": "code",
   "execution_count": 13,
   "metadata": {},
   "outputs": [],
   "source": [
    "# Perturb orbital elements\n",
    "elts_pert= perturb_elts(elts_ast, sigma_a=sigma_a, sigma_e=sigma_e, \n",
    "                    sigma_inc_deg=sigma_inc_deg, sigma_f_deg=sigma_f_deg, \n",
    "                    sigma_Omega_deg=sigma_Omega_deg, sigma_omega_deg=sigma_omega_deg,\n",
    "                    mask_pert=mask_pert, random_seed=random_seed)"
   ]
  },
  {
   "cell_type": "code",
   "execution_count": 14,
   "metadata": {},
   "outputs": [],
   "source": [
    "# Choose which elements to search on\n",
    "elts = elts_pert"
   ]
  },
  {
   "cell_type": "code",
   "execution_count": 15,
   "metadata": {},
   "outputs": [],
   "source": [
    "# # Search for nearest asteroids to these elements\n",
    "# elts_near = nearest_ast_elt(elts)"
   ]
  },
  {
   "cell_type": "code",
   "execution_count": 16,
   "metadata": {},
   "outputs": [],
   "source": [
    "# Review selected initial candidate elements, including the nearest asteroid information\n",
    "# elts"
   ]
  },
  {
   "cell_type": "code",
   "execution_count": 17,
   "metadata": {},
   "outputs": [],
   "source": [
    "# Review nearest asteroid to these candidate elements\n",
    "# elts_near"
   ]
  },
  {
   "cell_type": "code",
   "execution_count": 18,
   "metadata": {},
   "outputs": [],
   "source": [
    "# How many elements are still closest to the original elements?\n",
    "# np.sum(elts.nearest_ast_num == elts.element_id)"
   ]
  },
  {
   "cell_type": "markdown",
   "metadata": {},
   "source": [
    "## Batches of ZTF Data Near Initial Candidate Elements"
   ]
  },
  {
   "cell_type": "code",
   "execution_count": 19,
   "metadata": {},
   "outputs": [],
   "source": [
    "# Arguments to make_ztf_batch\n",
    "thresh_deg = 2.0\n",
    "near_ast = False\n",
    "regenerate = False"
   ]
  },
  {
   "cell_type": "code",
   "execution_count": 20,
   "metadata": {},
   "outputs": [],
   "source": [
    "# Load perturbed element batch\n",
    "ztf_elt = load_ztf_batch(elts=elts, thresh_deg=thresh_deg, near_ast=near_ast, regenerate=regenerate)"
   ]
  },
  {
   "cell_type": "code",
   "execution_count": 21,
   "metadata": {},
   "outputs": [
    {
     "data": {
      "text/html": [
       "<div>\n",
       "<style scoped>\n",
       "    .dataframe tbody tr th:only-of-type {\n",
       "        vertical-align: middle;\n",
       "    }\n",
       "\n",
       "    .dataframe tbody tr th {\n",
       "        vertical-align: top;\n",
       "    }\n",
       "\n",
       "    .dataframe thead th {\n",
       "        text-align: right;\n",
       "    }\n",
       "</style>\n",
       "<table border=\"1\" class=\"dataframe\">\n",
       "  <thead>\n",
       "    <tr style=\"text-align: right;\">\n",
       "      <th></th>\n",
       "      <th>ztf_id</th>\n",
       "      <th>element_id</th>\n",
       "      <th>ObjectID</th>\n",
       "      <th>CandidateID</th>\n",
       "      <th>TimeStampID</th>\n",
       "      <th>mjd</th>\n",
       "      <th>ra</th>\n",
       "      <th>dec</th>\n",
       "      <th>mag_app</th>\n",
       "      <th>ux</th>\n",
       "      <th>...</th>\n",
       "      <th>vz</th>\n",
       "      <th>elt_ux</th>\n",
       "      <th>elt_uy</th>\n",
       "      <th>elt_uz</th>\n",
       "      <th>elt_r</th>\n",
       "      <th>s</th>\n",
       "      <th>s_sec</th>\n",
       "      <th>z</th>\n",
       "      <th>v</th>\n",
       "      <th>is_hit</th>\n",
       "    </tr>\n",
       "  </thead>\n",
       "  <tbody>\n",
       "    <tr>\n",
       "      <th>0</th>\n",
       "      <td>53851</td>\n",
       "      <td>733</td>\n",
       "      <td>b'ZTF18abnothj'</td>\n",
       "      <td>594197584815010004</td>\n",
       "      <td>5501</td>\n",
       "      <td>58348.197581</td>\n",
       "      <td>266.229165</td>\n",
       "      <td>-13.513802</td>\n",
       "      <td>16.755600</td>\n",
       "      <td>-0.063945</td>\n",
       "      <td>...</td>\n",
       "      <td>0.004058</td>\n",
       "      <td>-0.041592</td>\n",
       "      <td>-0.981941</td>\n",
       "      <td>0.184561</td>\n",
       "      <td>2.234762</td>\n",
       "      <td>0.025900</td>\n",
       "      <td>5342.395278</td>\n",
       "      <td>0.999665</td>\n",
       "      <td>0.550588</td>\n",
       "      <td>False</td>\n",
       "    </tr>\n",
       "    <tr>\n",
       "      <th>1</th>\n",
       "      <td>73604</td>\n",
       "      <td>733</td>\n",
       "      <td>b'ZTF18ablwzmb'</td>\n",
       "      <td>594197584815015003</td>\n",
       "      <td>5501</td>\n",
       "      <td>58348.197581</td>\n",
       "      <td>265.761024</td>\n",
       "      <td>-13.509148</td>\n",
       "      <td>16.035999</td>\n",
       "      <td>-0.071871</td>\n",
       "      <td>...</td>\n",
       "      <td>0.004058</td>\n",
       "      <td>-0.041592</td>\n",
       "      <td>-0.981941</td>\n",
       "      <td>0.184561</td>\n",
       "      <td>2.234762</td>\n",
       "      <td>0.033026</td>\n",
       "      <td>6812.476092</td>\n",
       "      <td>0.999455</td>\n",
       "      <td>0.895261</td>\n",
       "      <td>False</td>\n",
       "    </tr>\n",
       "    <tr>\n",
       "      <th>2</th>\n",
       "      <td>82343</td>\n",
       "      <td>733</td>\n",
       "      <td>b'ZTF18abiydvm'</td>\n",
       "      <td>635193253015015018</td>\n",
       "      <td>12089</td>\n",
       "      <td>58389.193252</td>\n",
       "      <td>270.331454</td>\n",
       "      <td>-11.244934</td>\n",
       "      <td>17.196199</td>\n",
       "      <td>0.005674</td>\n",
       "      <td>...</td>\n",
       "      <td>0.003801</td>\n",
       "      <td>0.012795</td>\n",
       "      <td>-0.977103</td>\n",
       "      <td>0.212383</td>\n",
       "      <td>2.702320</td>\n",
       "      <td>0.007222</td>\n",
       "      <td>1489.642347</td>\n",
       "      <td>0.999974</td>\n",
       "      <td>0.042810</td>\n",
       "      <td>False</td>\n",
       "    </tr>\n",
       "    <tr>\n",
       "      <th>3</th>\n",
       "      <td>82356</td>\n",
       "      <td>733</td>\n",
       "      <td>b'ZTF18abfivlq'</td>\n",
       "      <td>580301301415015008</td>\n",
       "      <td>4298</td>\n",
       "      <td>58334.301308</td>\n",
       "      <td>269.895080</td>\n",
       "      <td>-12.887404</td>\n",
       "      <td>18.069599</td>\n",
       "      <td>-0.001785</td>\n",
       "      <td>...</td>\n",
       "      <td>0.004122</td>\n",
       "      <td>-0.020236</td>\n",
       "      <td>-0.985475</td>\n",
       "      <td>0.168609</td>\n",
       "      <td>2.108963</td>\n",
       "      <td>0.023598</td>\n",
       "      <td>4867.556965</td>\n",
       "      <td>0.999722</td>\n",
       "      <td>0.457068</td>\n",
       "      <td>False</td>\n",
       "    </tr>\n",
       "    <tr>\n",
       "      <th>4</th>\n",
       "      <td>82357</td>\n",
       "      <td>733</td>\n",
       "      <td>b'ZTF18abfivlq'</td>\n",
       "      <td>580340131415015012</td>\n",
       "      <td>4342</td>\n",
       "      <td>58334.340139</td>\n",
       "      <td>269.895074</td>\n",
       "      <td>-12.887407</td>\n",
       "      <td>15.471100</td>\n",
       "      <td>-0.001785</td>\n",
       "      <td>...</td>\n",
       "      <td>0.004122</td>\n",
       "      <td>-0.020329</td>\n",
       "      <td>-0.985464</td>\n",
       "      <td>0.168661</td>\n",
       "      <td>2.109275</td>\n",
       "      <td>0.023637</td>\n",
       "      <td>4875.610226</td>\n",
       "      <td>0.999721</td>\n",
       "      <td>0.458582</td>\n",
       "      <td>False</td>\n",
       "    </tr>\n",
       "    <tr>\n",
       "      <th>...</th>\n",
       "      <td>...</td>\n",
       "      <td>...</td>\n",
       "      <td>...</td>\n",
       "      <td>...</td>\n",
       "      <td>...</td>\n",
       "      <td>...</td>\n",
       "      <td>...</td>\n",
       "      <td>...</td>\n",
       "      <td>...</td>\n",
       "      <td>...</td>\n",
       "      <td>...</td>\n",
       "      <td>...</td>\n",
       "      <td>...</td>\n",
       "      <td>...</td>\n",
       "      <td>...</td>\n",
       "      <td>...</td>\n",
       "      <td>...</td>\n",
       "      <td>...</td>\n",
       "      <td>...</td>\n",
       "      <td>...</td>\n",
       "      <td>...</td>\n",
       "    </tr>\n",
       "    <tr>\n",
       "      <th>315312</th>\n",
       "      <td>5651017</td>\n",
       "      <td>324582</td>\n",
       "      <td>b'ZTF20aaqvkiv'</td>\n",
       "      <td>1150185310015015007</td>\n",
       "      <td>96634</td>\n",
       "      <td>58904.185313</td>\n",
       "      <td>43.164491</td>\n",
       "      <td>30.568791</td>\n",
       "      <td>19.821800</td>\n",
       "      <td>0.628021</td>\n",
       "      <td>...</td>\n",
       "      <td>-0.001586</td>\n",
       "      <td>0.620235</td>\n",
       "      <td>0.757066</td>\n",
       "      <td>0.205329</td>\n",
       "      <td>2.936159</td>\n",
       "      <td>0.031535</td>\n",
       "      <td>6504.889092</td>\n",
       "      <td>0.999503</td>\n",
       "      <td>0.816249</td>\n",
       "      <td>False</td>\n",
       "    </tr>\n",
       "    <tr>\n",
       "      <th>315313</th>\n",
       "      <td>5651103</td>\n",
       "      <td>324582</td>\n",
       "      <td>b'ZTF20aaqvkiu'</td>\n",
       "      <td>1150185310015015006</td>\n",
       "      <td>96634</td>\n",
       "      <td>58904.185313</td>\n",
       "      <td>42.979527</td>\n",
       "      <td>30.566971</td>\n",
       "      <td>19.499599</td>\n",
       "      <td>0.629931</td>\n",
       "      <td>...</td>\n",
       "      <td>-0.001586</td>\n",
       "      <td>0.620235</td>\n",
       "      <td>0.757066</td>\n",
       "      <td>0.205329</td>\n",
       "      <td>2.936159</td>\n",
       "      <td>0.033577</td>\n",
       "      <td>6926.136324</td>\n",
       "      <td>0.999436</td>\n",
       "      <td>0.925381</td>\n",
       "      <td>False</td>\n",
       "    </tr>\n",
       "    <tr>\n",
       "      <th>315314</th>\n",
       "      <td>5651180</td>\n",
       "      <td>324582</td>\n",
       "      <td>b'ZTF20aaqvkur'</td>\n",
       "      <td>1150185310315015001</td>\n",
       "      <td>96634</td>\n",
       "      <td>58904.185313</td>\n",
       "      <td>42.969119</td>\n",
       "      <td>30.230791</td>\n",
       "      <td>18.551399</td>\n",
       "      <td>0.632210</td>\n",
       "      <td>...</td>\n",
       "      <td>-0.001586</td>\n",
       "      <td>0.620235</td>\n",
       "      <td>0.757066</td>\n",
       "      <td>0.205329</td>\n",
       "      <td>2.936159</td>\n",
       "      <td>0.030243</td>\n",
       "      <td>6238.306185</td>\n",
       "      <td>0.999543</td>\n",
       "      <td>0.750722</td>\n",
       "      <td>False</td>\n",
       "    </tr>\n",
       "    <tr>\n",
       "      <th>315315</th>\n",
       "      <td>5651234</td>\n",
       "      <td>324582</td>\n",
       "      <td>b'ZTF20aaqvkyr'</td>\n",
       "      <td>1150185754815015006</td>\n",
       "      <td>96635</td>\n",
       "      <td>58904.185752</td>\n",
       "      <td>42.384302</td>\n",
       "      <td>29.148349</td>\n",
       "      <td>18.648100</td>\n",
       "      <td>0.645100</td>\n",
       "      <td>...</td>\n",
       "      <td>-0.001586</td>\n",
       "      <td>0.620233</td>\n",
       "      <td>0.757067</td>\n",
       "      <td>0.205329</td>\n",
       "      <td>2.936165</td>\n",
       "      <td>0.034777</td>\n",
       "      <td>7173.582036</td>\n",
       "      <td>0.999395</td>\n",
       "      <td>0.992676</td>\n",
       "      <td>False</td>\n",
       "    </tr>\n",
       "    <tr>\n",
       "      <th>315316</th>\n",
       "      <td>5651434</td>\n",
       "      <td>324582</td>\n",
       "      <td>b'ZTF20aaqvkus'</td>\n",
       "      <td>1150185310315015002</td>\n",
       "      <td>96634</td>\n",
       "      <td>58904.185313</td>\n",
       "      <td>43.256211</td>\n",
       "      <td>29.954124</td>\n",
       "      <td>19.257601</td>\n",
       "      <td>0.631015</td>\n",
       "      <td>...</td>\n",
       "      <td>-0.001586</td>\n",
       "      <td>0.620235</td>\n",
       "      <td>0.757066</td>\n",
       "      <td>0.205329</td>\n",
       "      <td>2.936159</td>\n",
       "      <td>0.024085</td>\n",
       "      <td>4967.974088</td>\n",
       "      <td>0.999710</td>\n",
       "      <td>0.476120</td>\n",
       "      <td>False</td>\n",
       "    </tr>\n",
       "  </tbody>\n",
       "</table>\n",
       "<p>315317 rows × 27 columns</p>\n",
       "</div>"
      ],
      "text/plain": [
       "         ztf_id  element_id         ObjectID          CandidateID  \\\n",
       "0         53851         733  b'ZTF18abnothj'   594197584815010004   \n",
       "1         73604         733  b'ZTF18ablwzmb'   594197584815015003   \n",
       "2         82343         733  b'ZTF18abiydvm'   635193253015015018   \n",
       "3         82356         733  b'ZTF18abfivlq'   580301301415015008   \n",
       "4         82357         733  b'ZTF18abfivlq'   580340131415015012   \n",
       "...         ...         ...              ...                  ...   \n",
       "315312  5651017      324582  b'ZTF20aaqvkiv'  1150185310015015007   \n",
       "315313  5651103      324582  b'ZTF20aaqvkiu'  1150185310015015006   \n",
       "315314  5651180      324582  b'ZTF20aaqvkur'  1150185310315015001   \n",
       "315315  5651234      324582  b'ZTF20aaqvkyr'  1150185754815015006   \n",
       "315316  5651434      324582  b'ZTF20aaqvkus'  1150185310315015002   \n",
       "\n",
       "        TimeStampID           mjd          ra        dec    mag_app        ux  \\\n",
       "0              5501  58348.197581  266.229165 -13.513802  16.755600 -0.063945   \n",
       "1              5501  58348.197581  265.761024 -13.509148  16.035999 -0.071871   \n",
       "2             12089  58389.193252  270.331454 -11.244934  17.196199  0.005674   \n",
       "3              4298  58334.301308  269.895080 -12.887404  18.069599 -0.001785   \n",
       "4              4342  58334.340139  269.895074 -12.887407  15.471100 -0.001785   \n",
       "...             ...           ...         ...        ...        ...       ...   \n",
       "315312        96634  58904.185313   43.164491  30.568791  19.821800  0.628021   \n",
       "315313        96634  58904.185313   42.979527  30.566971  19.499599  0.629931   \n",
       "315314        96634  58904.185313   42.969119  30.230791  18.551399  0.632210   \n",
       "315315        96635  58904.185752   42.384302  29.148349  18.648100  0.645100   \n",
       "315316        96634  58904.185313   43.256211  29.954124  19.257601  0.631015   \n",
       "\n",
       "        ...        vz    elt_ux    elt_uy    elt_uz     elt_r         s  \\\n",
       "0       ...  0.004058 -0.041592 -0.981941  0.184561  2.234762  0.025900   \n",
       "1       ...  0.004058 -0.041592 -0.981941  0.184561  2.234762  0.033026   \n",
       "2       ...  0.003801  0.012795 -0.977103  0.212383  2.702320  0.007222   \n",
       "3       ...  0.004122 -0.020236 -0.985475  0.168609  2.108963  0.023598   \n",
       "4       ...  0.004122 -0.020329 -0.985464  0.168661  2.109275  0.023637   \n",
       "...     ...       ...       ...       ...       ...       ...       ...   \n",
       "315312  ... -0.001586  0.620235  0.757066  0.205329  2.936159  0.031535   \n",
       "315313  ... -0.001586  0.620235  0.757066  0.205329  2.936159  0.033577   \n",
       "315314  ... -0.001586  0.620235  0.757066  0.205329  2.936159  0.030243   \n",
       "315315  ... -0.001586  0.620233  0.757067  0.205329  2.936165  0.034777   \n",
       "315316  ... -0.001586  0.620235  0.757066  0.205329  2.936159  0.024085   \n",
       "\n",
       "              s_sec         z         v  is_hit  \n",
       "0       5342.395278  0.999665  0.550588   False  \n",
       "1       6812.476092  0.999455  0.895261   False  \n",
       "2       1489.642347  0.999974  0.042810   False  \n",
       "3       4867.556965  0.999722  0.457068   False  \n",
       "4       4875.610226  0.999721  0.458582   False  \n",
       "...             ...       ...       ...     ...  \n",
       "315312  6504.889092  0.999503  0.816249   False  \n",
       "315313  6926.136324  0.999436  0.925381   False  \n",
       "315314  6238.306185  0.999543  0.750722   False  \n",
       "315315  7173.582036  0.999395  0.992676   False  \n",
       "315316  4967.974088  0.999710  0.476120   False  \n",
       "\n",
       "[315317 rows x 27 columns]"
      ]
     },
     "execution_count": 21,
     "metadata": {},
     "output_type": "execute_result"
    }
   ],
   "source": [
    "# Review ZTF elements\n",
    "ztf_elt"
   ]
  },
  {
   "cell_type": "code",
   "execution_count": 22,
   "metadata": {},
   "outputs": [],
   "source": [
    "# Score by element - perturbed\n",
    "score_by_elt = ztf_score_by_elt(ztf_elt)"
   ]
  },
  {
   "cell_type": "code",
   "execution_count": 23,
   "metadata": {},
   "outputs": [
    {
     "name": "stdout",
     "output_type": "stream",
     "text": [
      "ZTF Element Dataframe Perturbed Asteroids:\n",
      "                  Total     (Per Batch)\n",
      "Observations   :   315317   (     4927)\n",
      "\n",
      "Summarize score = sum(-1.0 - log(v)) by batch.  (Mean=0, Variance=num_obs)\n",
      "Mean score     :     252.73\n",
      "Sqrt(batch_obs):      70.19\n",
      "Mean t_score   :       3.71\n"
     ]
    }
   ],
   "source": [
    "# Summarize the ztf element batch: perturbed asteroids\n",
    "ztf_elt_summary(ztf_elt, score_by_elt, 'Perturbed Asteroids')"
   ]
  },
  {
   "cell_type": "code",
   "execution_count": 24,
   "metadata": {},
   "outputs": [],
   "source": [
    "# Mixture parameters\n",
    "num_hits: int = 10\n",
    "R_deg: float = 0.5"
   ]
  },
  {
   "cell_type": "code",
   "execution_count": 25,
   "metadata": {},
   "outputs": [],
   "source": [
    "# Add mixture parameters to candidate elements\n",
    "elts_add_mixture_params(elts=elts, num_hits=num_hits, R_deg=R_deg, thresh_deg=thresh_deg)"
   ]
  },
  {
   "cell_type": "code",
   "execution_count": 26,
   "metadata": {},
   "outputs": [],
   "source": [
    "# Add brightness parameter H\n",
    "elts_add_H(elts=elts)"
   ]
  },
  {
   "cell_type": "code",
   "execution_count": 27,
   "metadata": {},
   "outputs": [
    {
     "data": {
      "text/html": [
       "<div>\n",
       "<style scoped>\n",
       "    .dataframe tbody tr th:only-of-type {\n",
       "        vertical-align: middle;\n",
       "    }\n",
       "\n",
       "    .dataframe tbody tr th {\n",
       "        vertical-align: top;\n",
       "    }\n",
       "\n",
       "    .dataframe thead th {\n",
       "        text-align: right;\n",
       "    }\n",
       "</style>\n",
       "<table border=\"1\" class=\"dataframe\">\n",
       "  <thead>\n",
       "    <tr style=\"text-align: right;\">\n",
       "      <th></th>\n",
       "      <th>element_id</th>\n",
       "      <th>a</th>\n",
       "      <th>e</th>\n",
       "      <th>inc</th>\n",
       "      <th>Omega</th>\n",
       "      <th>omega</th>\n",
       "      <th>f</th>\n",
       "      <th>epoch</th>\n",
       "      <th>num_hits</th>\n",
       "      <th>R</th>\n",
       "      <th>thresh_s</th>\n",
       "      <th>H</th>\n",
       "      <th>sigma_mag</th>\n",
       "    </tr>\n",
       "  </thead>\n",
       "  <tbody>\n",
       "    <tr>\n",
       "      <th>0</th>\n",
       "      <td>51921</td>\n",
       "      <td>2.682597</td>\n",
       "      <td>0.217803</td>\n",
       "      <td>0.499641</td>\n",
       "      <td>4.705231</td>\n",
       "      <td>2.451220</td>\n",
       "      <td>-1.132557</td>\n",
       "      <td>58600.0</td>\n",
       "      <td>10</td>\n",
       "      <td>0.008727</td>\n",
       "      <td>0.034905</td>\n",
       "      <td>16.5</td>\n",
       "      <td>4.0</td>\n",
       "    </tr>\n",
       "    <tr>\n",
       "      <th>1</th>\n",
       "      <td>59244</td>\n",
       "      <td>2.631087</td>\n",
       "      <td>0.263394</td>\n",
       "      <td>0.464606</td>\n",
       "      <td>5.735210</td>\n",
       "      <td>1.769592</td>\n",
       "      <td>-1.606798</td>\n",
       "      <td>58600.0</td>\n",
       "      <td>10</td>\n",
       "      <td>0.008727</td>\n",
       "      <td>0.034905</td>\n",
       "      <td>16.5</td>\n",
       "      <td>4.0</td>\n",
       "    </tr>\n",
       "    <tr>\n",
       "      <th>2</th>\n",
       "      <td>15786</td>\n",
       "      <td>1.895464</td>\n",
       "      <td>0.047647</td>\n",
       "      <td>0.391007</td>\n",
       "      <td>6.136626</td>\n",
       "      <td>0.801253</td>\n",
       "      <td>-1.245314</td>\n",
       "      <td>58600.0</td>\n",
       "      <td>10</td>\n",
       "      <td>0.008727</td>\n",
       "      <td>0.034905</td>\n",
       "      <td>16.5</td>\n",
       "      <td>4.0</td>\n",
       "    </tr>\n",
       "    <tr>\n",
       "      <th>3</th>\n",
       "      <td>3904</td>\n",
       "      <td>2.595620</td>\n",
       "      <td>0.098526</td>\n",
       "      <td>0.261602</td>\n",
       "      <td>5.453543</td>\n",
       "      <td>2.211553</td>\n",
       "      <td>-1.355664</td>\n",
       "      <td>58600.0</td>\n",
       "      <td>10</td>\n",
       "      <td>0.008727</td>\n",
       "      <td>0.034905</td>\n",
       "      <td>16.5</td>\n",
       "      <td>4.0</td>\n",
       "    </tr>\n",
       "    <tr>\n",
       "      <th>4</th>\n",
       "      <td>142999</td>\n",
       "      <td>2.613817</td>\n",
       "      <td>0.191549</td>\n",
       "      <td>0.513090</td>\n",
       "      <td>0.233977</td>\n",
       "      <td>0.942074</td>\n",
       "      <td>-1.303158</td>\n",
       "      <td>58600.0</td>\n",
       "      <td>10</td>\n",
       "      <td>0.008727</td>\n",
       "      <td>0.034905</td>\n",
       "      <td>16.5</td>\n",
       "      <td>4.0</td>\n",
       "    </tr>\n",
       "    <tr>\n",
       "      <th>...</th>\n",
       "      <td>...</td>\n",
       "      <td>...</td>\n",
       "      <td>...</td>\n",
       "      <td>...</td>\n",
       "      <td>...</td>\n",
       "      <td>...</td>\n",
       "      <td>...</td>\n",
       "      <td>...</td>\n",
       "      <td>...</td>\n",
       "      <td>...</td>\n",
       "      <td>...</td>\n",
       "      <td>...</td>\n",
       "      <td>...</td>\n",
       "    </tr>\n",
       "    <tr>\n",
       "      <th>59</th>\n",
       "      <td>11952</td>\n",
       "      <td>2.241410</td>\n",
       "      <td>0.085789</td>\n",
       "      <td>0.117903</td>\n",
       "      <td>0.042534</td>\n",
       "      <td>2.901296</td>\n",
       "      <td>-3.012575</td>\n",
       "      <td>58600.0</td>\n",
       "      <td>10</td>\n",
       "      <td>0.008727</td>\n",
       "      <td>0.034905</td>\n",
       "      <td>16.5</td>\n",
       "      <td>4.0</td>\n",
       "    </tr>\n",
       "    <tr>\n",
       "      <th>60</th>\n",
       "      <td>134815</td>\n",
       "      <td>2.600280</td>\n",
       "      <td>0.141038</td>\n",
       "      <td>0.513184</td>\n",
       "      <td>0.275664</td>\n",
       "      <td>0.641888</td>\n",
       "      <td>-0.948576</td>\n",
       "      <td>58600.0</td>\n",
       "      <td>10</td>\n",
       "      <td>0.008727</td>\n",
       "      <td>0.034905</td>\n",
       "      <td>16.5</td>\n",
       "      <td>4.0</td>\n",
       "    </tr>\n",
       "    <tr>\n",
       "      <th>61</th>\n",
       "      <td>27860</td>\n",
       "      <td>2.614547</td>\n",
       "      <td>0.096713</td>\n",
       "      <td>0.199311</td>\n",
       "      <td>5.540046</td>\n",
       "      <td>3.263431</td>\n",
       "      <td>3.953275</td>\n",
       "      <td>58600.0</td>\n",
       "      <td>10</td>\n",
       "      <td>0.008727</td>\n",
       "      <td>0.034905</td>\n",
       "      <td>16.5</td>\n",
       "      <td>4.0</td>\n",
       "    </tr>\n",
       "    <tr>\n",
       "      <th>62</th>\n",
       "      <td>85937</td>\n",
       "      <td>2.316521</td>\n",
       "      <td>0.196779</td>\n",
       "      <td>0.438674</td>\n",
       "      <td>5.281107</td>\n",
       "      <td>3.200757</td>\n",
       "      <td>3.941057</td>\n",
       "      <td>58600.0</td>\n",
       "      <td>10</td>\n",
       "      <td>0.008727</td>\n",
       "      <td>0.034905</td>\n",
       "      <td>16.5</td>\n",
       "      <td>4.0</td>\n",
       "    </tr>\n",
       "    <tr>\n",
       "      <th>63</th>\n",
       "      <td>72911</td>\n",
       "      <td>3.118047</td>\n",
       "      <td>0.086373</td>\n",
       "      <td>0.262797</td>\n",
       "      <td>5.311368</td>\n",
       "      <td>2.106274</td>\n",
       "      <td>-1.022800</td>\n",
       "      <td>58600.0</td>\n",
       "      <td>10</td>\n",
       "      <td>0.008727</td>\n",
       "      <td>0.034905</td>\n",
       "      <td>16.5</td>\n",
       "      <td>4.0</td>\n",
       "    </tr>\n",
       "  </tbody>\n",
       "</table>\n",
       "<p>64 rows × 13 columns</p>\n",
       "</div>"
      ],
      "text/plain": [
       "    element_id         a         e       inc     Omega     omega         f  \\\n",
       "0        51921  2.682597  0.217803  0.499641  4.705231  2.451220 -1.132557   \n",
       "1        59244  2.631087  0.263394  0.464606  5.735210  1.769592 -1.606798   \n",
       "2        15786  1.895464  0.047647  0.391007  6.136626  0.801253 -1.245314   \n",
       "3         3904  2.595620  0.098526  0.261602  5.453543  2.211553 -1.355664   \n",
       "4       142999  2.613817  0.191549  0.513090  0.233977  0.942074 -1.303158   \n",
       "..         ...       ...       ...       ...       ...       ...       ...   \n",
       "59       11952  2.241410  0.085789  0.117903  0.042534  2.901296 -3.012575   \n",
       "60      134815  2.600280  0.141038  0.513184  0.275664  0.641888 -0.948576   \n",
       "61       27860  2.614547  0.096713  0.199311  5.540046  3.263431  3.953275   \n",
       "62       85937  2.316521  0.196779  0.438674  5.281107  3.200757  3.941057   \n",
       "63       72911  3.118047  0.086373  0.262797  5.311368  2.106274 -1.022800   \n",
       "\n",
       "      epoch  num_hits         R  thresh_s     H  sigma_mag  \n",
       "0   58600.0        10  0.008727  0.034905  16.5        4.0  \n",
       "1   58600.0        10  0.008727  0.034905  16.5        4.0  \n",
       "2   58600.0        10  0.008727  0.034905  16.5        4.0  \n",
       "3   58600.0        10  0.008727  0.034905  16.5        4.0  \n",
       "4   58600.0        10  0.008727  0.034905  16.5        4.0  \n",
       "..      ...       ...       ...       ...   ...        ...  \n",
       "59  58600.0        10  0.008727  0.034905  16.5        4.0  \n",
       "60  58600.0        10  0.008727  0.034905  16.5        4.0  \n",
       "61  58600.0        10  0.008727  0.034905  16.5        4.0  \n",
       "62  58600.0        10  0.008727  0.034905  16.5        4.0  \n",
       "63  58600.0        10  0.008727  0.034905  16.5        4.0  \n",
       "\n",
       "[64 rows x 13 columns]"
      ]
     },
     "execution_count": 27,
     "metadata": {},
     "output_type": "execute_result"
    }
   ],
   "source": [
    "# Review perturbed elements; includes nearest asteroid number and distance\n",
    "elts"
   ]
  },
  {
   "cell_type": "markdown",
   "metadata": {},
   "source": [
    "## Build Asteroid Search Model"
   ]
  },
  {
   "cell_type": "code",
   "execution_count": 28,
   "metadata": {},
   "outputs": [],
   "source": [
    "# Observatory for ZTF data is Palomar Mountain\n",
    "site_name = 'palomar'"
   ]
  },
  {
   "cell_type": "code",
   "execution_count": 29,
   "metadata": {},
   "outputs": [],
   "source": [
    "# Training parameters\n",
    "learning_rate = 2.0**-12\n",
    "clipnorm = 1.0\n",
    "save_at_end: bool = True"
   ]
  },
  {
   "cell_type": "code",
   "execution_count": 30,
   "metadata": {},
   "outputs": [],
   "source": [
    "# Build asteroid search model\n",
    "model = AsteroidSearchModel(\n",
    "                elts=elts, ztf_elt=ztf_elt, \n",
    "                site_name=site_name, thresh_deg=thresh_deg, \n",
    "                learning_rate=learning_rate, clipnorm=clipnorm,\n",
    "                name='model')"
   ]
  },
  {
   "cell_type": "code",
   "execution_count": 31,
   "metadata": {},
   "outputs": [
    {
     "name": "stdout",
     "output_type": "stream",
     "text": [
      "\n",
      "Good elements (hits > 10):   0.00\n",
      "\n",
      "         \\  log_like :  hits  :    R_sec : thresh_sec\n",
      "Mean Good:      nan  :    nan :      nan :      nan\n",
      "Mean     :     0.84  :   0.00 :  1799.79 :  7200.00\n",
      "Median   :     0.52  :   0.00 :  1792.82 :  7200.00\n",
      "GeoMean  :     1.33  :   0.00 :  1799.77 :  7200.99\n",
      "Std      :     1.56  :   0.00 :     7.19 :     0.00\n",
      "Min      :    -1.56  :   0.00 :  1792.82 :  7200.00\n",
      "Max      :     5.91  :   0.00 :  1807.21 :  7200.00\n",
      "Trained for 0 batches over 0 epochs and 0 episodes.\n"
     ]
    },
    {
     "name": "stderr",
     "output_type": "stream",
     "text": [
      "/home/michael/anaconda3/envs/kepler/lib/python3.7/site-packages/numpy/core/fromnumeric.py:3335: RuntimeWarning: Mean of empty slice.\n",
      "  out=out, **kwargs)\n",
      "/home/michael/anaconda3/envs/kepler/lib/python3.7/site-packages/numpy/core/_methods.py:161: RuntimeWarning: invalid value encountered in true_divide\n",
      "  ret = ret.dtype.type(ret / rcount)\n"
     ]
    }
   ],
   "source": [
    "# Report before training starts\n",
    "model.report()"
   ]
  },
  {
   "cell_type": "code",
   "execution_count": 32,
   "metadata": {},
   "outputs": [
    {
     "ename": "ValueError",
     "evalue": "",
     "output_type": "error",
     "traceback": [
      "\u001b[0;31m---------------------------------------------------------------------------\u001b[0m",
      "\u001b[0;31mValueError\u001b[0m                                Traceback (most recent call last)",
      "\u001b[0;32m<ipython-input-32-e4c8e09828d5>\u001b[0m in \u001b[0;36m<module>\u001b[0;34m\u001b[0m\n\u001b[0;32m----> 1\u001b[0;31m \u001b[0;32mraise\u001b[0m \u001b[0mValueError\u001b[0m\u001b[0;34m\u001b[0m\u001b[0;34m\u001b[0m\u001b[0m\n\u001b[0m",
      "\u001b[0;31mValueError\u001b[0m: "
     ]
    }
   ],
   "source": [
    "raise ValueError"
   ]
  },
  {
   "cell_type": "markdown",
   "metadata": {},
   "source": [
    "## Automated Training with Sieve Method"
   ]
  },
  {
   "cell_type": "code",
   "execution_count": 34,
   "metadata": {},
   "outputs": [],
   "source": [
    "# Set learning rates\n",
    "learning_rate_frozen = 2.0**-12\n",
    "learning_rate_thawed = 2.0**-15\n",
    "# Minimum learning rate\n",
    "min_learning_rate = 2.0**-20\n",
    "\n",
    "# Episode sizes\n",
    "num_batches_frozen = 500\n",
    "num_batches_thawed = 2500"
   ]
  },
  {
   "cell_type": "code",
   "execution_count": 36,
   "metadata": {},
   "outputs": [],
   "source": [
    "self = model"
   ]
  },
  {
   "cell_type": "code",
   "execution_count": 35,
   "metadata": {},
   "outputs": [
    {
     "name": "stdout",
     "output_type": "stream",
     "text": [
      "\n",
      "********************************************************************************\n",
      "Round 1: 2000 batches @ LR 2^-12 with frozen elements.\n",
      "********************************************************************************\n",
      "\n",
      "Training episode 0: Epoch    0, Batch      0\n",
      "effective_learning_rate=2.441e-04, training_time 0 sec.\n",
      "Train on 6400 samples\n",
      "Epoch 1/5\n",
      "6400/6400 [==============================] - 4s 649us/sample - loss: -10807.8006\n",
      "Epoch 2/5\n",
      "6400/6400 [==============================] - 3s 400us/sample - loss: -20623.7222\n",
      "Epoch 3/5\n",
      "6400/6400 [==============================] - 3s 403us/sample - loss: -42016.0779\n",
      "Epoch 4/5\n",
      "6400/6400 [==============================] - 3s 410us/sample - loss: -87839.5074\n",
      "Epoch 5/5\n",
      "6400/6400 [==============================] - 3s 406us/sample - loss: -157163.6791\n",
      "                    \\  All Elts : Good Elts (0)\n",
      "Geom Mean Resolution:   1355.10 :      nan arc seconds\n",
      "Geom Mean Threshold :   7171.56 :      nan arc seconds\n",
      "Mean Log Likelihood :     20.00 :      nan\n",
      "Mean Hits           :      0.00 :      nan\n",
      "Good Elements       :      0.00\n",
      "\n",
      "Training episode 1: Epoch    5, Batch    500\n",
      "effective_learning_rate=2.441e-04, training_time 48 sec.\n",
      "Train on 6400 samples\n",
      "Epoch 6/10\n",
      "6400/6400 [==============================] - 3s 397us/sample - loss: -240186.6311\n",
      "Epoch 7/10\n",
      "6400/6400 [==============================] - 3s 407us/sample - loss: -321068.6537\n",
      "Epoch 8/10\n",
      "6400/6400 [==============================] - 3s 401us/sample - loss: -396415.2969\n",
      "Epoch 9/10\n",
      "6400/6400 [==============================] - 3s 406us/sample - loss: -492857.2056\n",
      "Epoch 10/10\n",
      "6400/6400 [==============================] - 3s 397us/sample - loss: -630059.4431\n",
      "Adjusted element weight down on 1 candidate elements. Mean weight = 9.92e-01\n",
      "                    \\  All Elts : Good Elts (0)\n",
      "Geom Mean Resolution:   1375.62 :      nan arc seconds\n",
      "Geom Mean Threshold :   6918.99 :      nan arc seconds\n",
      "Mean Log Likelihood :     43.88 :      nan\n",
      "Mean Hits           :      0.00 :      nan\n",
      "Good Elements       :      0.00\n",
      "\n",
      "Training episode 2: Epoch   10, Batch   1000\n",
      "effective_learning_rate=2.422e-04, training_time 61 sec.\n",
      "Train on 6400 samples\n",
      "Epoch 11/15\n",
      "6400/6400 [==============================] - 3s 403us/sample - loss: -709291.7581\n",
      "Epoch 12/15\n",
      "6400/6400 [==============================] - 3s 404us/sample - loss: -985249.6388\n",
      "Epoch 13/15\n",
      "6400/6400 [==============================] - 3s 407us/sample - loss: -1259647.5700\n",
      "Epoch 14/15\n",
      "6400/6400 [==============================] - 3s 411us/sample - loss: -1437143.4050\n",
      "Epoch 15/15\n",
      "6400/6400 [==============================] - 3s 404us/sample - loss: -1507935.9675\n",
      "Adjusted element weight down on 3 candidate elements. Mean weight = 9.73e-01\n",
      "                    \\  All Elts : Good Elts (0)\n",
      "Geom Mean Resolution:   1413.82 :      nan arc seconds\n",
      "Geom Mean Threshold :   6614.81 :      nan arc seconds\n",
      "Mean Log Likelihood :     56.96 :      nan\n",
      "Mean Hits           :      0.00 :      nan\n",
      "Good Elements       :      0.00\n",
      "\n",
      "Training episode 3: Epoch   15, Batch   1500\n",
      "effective_learning_rate=2.375e-04, training_time 75 sec.\n",
      "Train on 6400 samples\n",
      "Epoch 16/20\n",
      "6400/6400 [==============================] - 3s 414us/sample - loss: -958062.4269\n",
      "Epoch 17/20\n",
      "6400/6400 [==============================] - 3s 416us/sample - loss: -1010806.6925\n",
      "Epoch 18/20\n",
      "6400/6400 [==============================] - 3s 412us/sample - loss: -1046424.5381\n",
      "Epoch 19/20\n",
      "6400/6400 [==============================] - 3s 407us/sample - loss: -1074443.1213\n",
      "Epoch 20/20\n",
      "6400/6400 [==============================] - 3s 404us/sample - loss: -1109516.4425\n",
      "Adjusted element weight down on 5 candidate elements. Mean weight = 9.43e-01\n",
      "                    \\  All Elts : Good Elts (0)\n",
      "Geom Mean Resolution:   1408.52 :      nan arc seconds\n",
      "Geom Mean Threshold :   6536.74 :      nan arc seconds\n",
      "Mean Log Likelihood :     61.00 :      nan\n",
      "Mean Hits           :      0.00 :      nan\n",
      "Good Elements       :      0.00\n",
      "\n",
      "********************************************************************************\n",
      "Terminating: Completed 2000 batches.\n",
      "********************************************************************************\n",
      "\n",
      "Good elements (hits > 10):   0.00\n",
      "\n",
      "         \\  log_like :  hits  :    R_sec : thresh_sec\n",
      "Mean Good:      nan  :    nan :      nan :      nan\n",
      "Mean     :    61.00  :   0.00 :  1820.74 :  6750.71\n",
      "Median   :    14.09  :   0.00 :  1805.79 :  7200.00\n",
      "GeoMean  :    15.09  :   0.00 :  1408.96 :  6537.80\n",
      "Std      :    84.45  :   0.00 :  1104.17 :  1294.00\n",
      "Min      :    -0.21  :   0.00 :   147.74 :  2024.92\n",
      "Max      :   267.64  :   0.00 :  3599.86 :  7200.00\n",
      "Trained for 2000 batches over 20 epochs and 4 episodes.\n"
     ]
    },
    {
     "data": {
      "image/png": "[encoded data removed]",
      "text/plain": [
       "<Figure size 1152x720 with 1 Axes>"
      ]
     },
     "metadata": {
      "needs_background": "light"
     },
     "output_type": "display_data"
    },
    {
     "data": {
      "image/png": "[encoded data removed]",
      "text/plain": [
       "<Figure size 1152x720 with 1 Axes>"
      ]
     },
     "metadata": {
      "needs_background": "light"
     },
     "output_type": "display_data"
    }
   ],
   "source": [
    "model.sieve_round(round=1, max_batches=2000, live_elts=False, \n",
    "                  learning_rate=learning_rate_frozen, min_learning_rate=min_learning_rate)"
   ]
  },
  {
   "cell_type": "code",
   "execution_count": 37,
   "metadata": {},
   "outputs": [
    {
     "name": "stdout",
     "output_type": "stream",
     "text": [
      "\n",
      "********************************************************************************\n",
      "Round 2: 2500 batches @ LR 2^-15 with live elements.\n",
      "********************************************************************************\n",
      "Applying learning_rate 3.05e-05 (2.0^-15.0) for adaptive training.\n",
      "\n",
      "Training episode 4: Epoch   20, Batch   2000\n",
      "effective_learning_rate=2.303e-04, training_time 88 sec.\n",
      "Train on 6400 samples\n",
      "Epoch 21/25\n",
      "6400/6400 [==============================] - 5s 778us/sample - loss: -1395729.2150\n",
      "Epoch 22/25\n",
      "6400/6400 [==============================] - 3s 489us/sample - loss: -1516826.1038\n",
      "Epoch 23/25\n",
      "6400/6400 [==============================] - 3s 484us/sample - loss: -1596134.3525\n",
      "Epoch 24/25\n",
      "6400/6400 [==============================] - 3s 485us/sample - loss: -1677466.5662\n",
      "Epoch 25/25\n",
      "6400/6400 [==============================] - 3s 485us/sample - loss: -1758627.4925\n",
      "                    \\  All Elts : Good Elts (0)\n",
      "Geom Mean Resolution:   1231.64 :      nan arc seconds\n",
      "Geom Mean Threshold :   6408.56 :      nan arc seconds\n",
      "Mean Log Likelihood :    135.12 :      nan\n",
      "Mean Hits           :      0.00 :      nan\n",
      "Good Elements       :      0.00\n",
      "\n",
      "********************************************************************************\n",
      "Terminating: Completed 2500 batches.\n",
      "********************************************************************************\n",
      "Restoring original learning rate 2.44e-04.\n",
      "\n",
      "Good elements (hits > 10):   0.00\n",
      "\n",
      "         \\  log_like :  hits  :    R_sec : thresh_sec\n",
      "Mean Good:      nan  :    nan :      nan :      nan\n",
      "Mean     :   135.13  :   0.00 :  1586.93 :  6662.76\n",
      "Median   :    82.86  :   0.00 :  1571.81 :  7200.00\n",
      "GeoMean  :    56.42  :   0.00 :  1232.08 :  6409.64\n",
      "Std      :   134.54  :   0.00 :   953.51 :  1386.45\n",
      "Min      :     0.84  :   0.00 :   129.53 :  1814.55\n",
      "Max      :   451.38  :   0.00 :  3129.87 :  7200.00\n",
      "Trained for 2500 batches over 25 epochs and 5 episodes.\n"
     ]
    },
    {
     "data": {
      "image/png": "[encoded data removed]",
      "text/plain": [
       "<Figure size 1152x720 with 1 Axes>"
      ]
     },
     "metadata": {
      "needs_background": "light"
     },
     "output_type": "display_data"
    },
    {
     "data": {
      "image/png": "[encoded data removed]",
      "text/plain": [
       "<Figure size 1152x720 with 1 Axes>"
      ]
     },
     "metadata": {
      "needs_background": "light"
     },
     "output_type": "display_data"
    }
   ],
   "source": [
    "self.sieve_round(round=2, max_batches=num_batches_thawed, live_elts=True, \n",
    "                 learning_rate=learning_rate_thawed, min_learning_rate=min_learning_rate)"
   ]
  },
  {
   "cell_type": "code",
   "execution_count": null,
   "metadata": {},
   "outputs": [],
   "source": [
    "# model.sieve()"
   ]
  },
  {
   "cell_type": "code",
   "execution_count": null,
   "metadata": {},
   "outputs": [],
   "source": [
    "# model.load()"
   ]
  },
  {
   "cell_type": "code",
   "execution_count": null,
   "metadata": {},
   "outputs": [],
   "source": [
    "model.report()"
   ]
  },
  {
   "cell_type": "code",
   "execution_count": null,
   "metadata": {},
   "outputs": [],
   "source": [
    "model.set_thresh_deg_max(0.50)\n",
    "self = model"
   ]
  },
  {
   "cell_type": "code",
   "execution_count": null,
   "metadata": {},
   "outputs": [],
   "source": [
    "self.thaw_candidate_elements()\n",
    "self.search_adaptive(\n",
    "    max_batches=self.current_batch + 2000,\n",
    "    learning_rate=2.0**-15,\n",
    "    min_learning_rate=2.0**-24,\n",
    "    reset_active_weight=True)"
   ]
  },
  {
   "cell_type": "code",
   "execution_count": null,
   "metadata": {},
   "outputs": [],
   "source": [
    "self.freeze_candidate_elements()\n",
    "self.search_adaptive(\n",
    "    max_batches=self.current_batch + 1000,\n",
    "    learning_rate=2.0**-12,\n",
    "    min_learning_rate=2.0**-22,\n",
    "    reset_active_weight=False)"
   ]
  },
  {
   "cell_type": "markdown",
   "metadata": {},
   "source": [
    "## Distance vs. Nearest Asteroid for Fitted Elements"
   ]
  },
  {
   "cell_type": "code",
   "execution_count": null,
   "metadata": {},
   "outputs": [],
   "source": [
    "model.report()"
   ]
  },
  {
   "cell_type": "code",
   "execution_count": null,
   "metadata": {},
   "outputs": [],
   "source": [
    "# model.save_state()"
   ]
  },
  {
   "cell_type": "code",
   "execution_count": null,
   "metadata": {},
   "outputs": [],
   "source": [
    "# Review asteroids nearest to the fitted elements\n",
    "cols = ['element_id', 'log_like', 'hits', 'R_sec', 'thresh_sec', 'nearest_ast_num', 'nearest_ast_dist', 'nearest_ast_q_norm']\n",
    "\n",
    "# Summary\n",
    "has_hits = (model.elts_fit.hits >= 10)\n",
    "is_converged = has_hits\n",
    "num_converged = np.sum(is_converged)\n",
    "\n",
    "# Mean on converged\n",
    "mean_hits = np.mean(model.elts_fit.hits[is_converged])\n",
    "err_cart_mean = np.mean(model.elts_near_ast.nearest_ast_dist[is_converged])\n",
    "err_cart_geo = np.exp(np.mean(np.log(model.elts_near_ast.nearest_ast_dist[is_converged])))\n",
    "err_cov_mean = np.mean(model.elts_near_ast.nearest_ast_q_norm[is_converged])\n",
    "\n",
    "# Report\n",
    "print(f'Good convergence on {num_converged} asteroids.')\n",
    "print(f'Mean on converged asteroids:')\n",
    "print(f'Number of hits         : {mean_hits:5.2f}')\n",
    "# print(f'Mean Distance in AU    : {err_cart_mean:5.2e}')\n",
    "print(f'GeoMean Distance in AU : {err_cart_geo:5.2e}')\n",
    "print(f'Covariance norm        : {err_cov_mean:5.2e}')"
   ]
  },
  {
   "cell_type": "code",
   "execution_count": null,
   "metadata": {},
   "outputs": [],
   "source": [
    "# Review good matches\n",
    "model.elts_fit[cols][is_converged].sort_values(by=['hits', 'R_sec'], ascending=[False, True])"
   ]
  },
  {
   "cell_type": "code",
   "execution_count": null,
   "metadata": {},
   "outputs": [],
   "source": [
    "# # Review fitted elements including nearest asteroid\n",
    "# model.elts_fit"
   ]
  },
  {
   "cell_type": "code",
   "execution_count": null,
   "metadata": {},
   "outputs": [],
   "source": [
    "# Add nearest_ast_dist column\n",
    "model.elts_fit['nearest_ast_dist'] = model.elts_near_ast.nearest_ast_dist\n",
    "model.elts_fit['nearest_ast_q_norm'] = model.elts_near_ast.nearest_ast_q_norm\n",
    "\n",
    "# Filter for only the good ones\n",
    "mask = (model.elts_fit.log_like > 200) & (model.elts_fit.R_sec < 40)\n",
    "cols = ['element_id', 'num_hits', 'R_sec', 'thresh_sec', 'log_like', 'hits', 'nearest_ast_dist', 'nearest_ast_q_norm']\n",
    "model.elts_fit[cols][mask].sort_values(by='R_sec')"
   ]
  },
  {
   "cell_type": "code",
   "execution_count": null,
   "metadata": {},
   "outputs": [],
   "source": [
    "# # Filter for incomplete convergence\n",
    "# mask = (elts_fit.log_like > 200) & (elts_fit.R_sec >= 60)\n",
    "# elts_fit[mask]"
   ]
  },
  {
   "cell_type": "markdown",
   "metadata": {},
   "source": [
    "## Visualize Error vs. Nearest Asteroid"
   ]
  },
  {
   "cell_type": "code",
   "execution_count": null,
   "metadata": {},
   "outputs": [],
   "source": [
    "# Plot position error vs. known elements\n",
    "fig, ax = model.plot_q_error(plot_type='cart', is_log=True, use_near_ast_dist=True)"
   ]
  },
  {
   "cell_type": "code",
   "execution_count": null,
   "metadata": {},
   "outputs": [],
   "source": [
    "# Plot position error vs. known elements\n",
    "fig, ax = model.plot_q_error(plot_type='cov', is_log=True, use_near_ast_dist=True)"
   ]
  },
  {
   "cell_type": "code",
   "execution_count": null,
   "metadata": {},
   "outputs": [],
   "source": [
    "# Plot error in orbital elements\n",
    "fig, ax = model.plot_elt_error_bar(elt_name='a', is_log=True)"
   ]
  },
  {
   "cell_type": "code",
   "execution_count": null,
   "metadata": {},
   "outputs": [],
   "source": [
    "# Plot error in orbital elements\n",
    "fig, ax = model.plot_elt_error_bar(elt_name='e', is_log=True)"
   ]
  },
  {
   "cell_type": "code",
   "execution_count": null,
   "metadata": {},
   "outputs": [],
   "source": [
    "# Plot error in orbital elements\n",
    "fig, ax = model.plot_elt_error_bar(elt_name='inc', is_log=True)"
   ]
  },
  {
   "cell_type": "code",
   "execution_count": null,
   "metadata": {},
   "outputs": [],
   "source": [
    "# Plot error in orbital elements\n",
    "fig, ax = model.plot_elt_error_bar(elt_name='Omega', is_log=True)"
   ]
  },
  {
   "cell_type": "code",
   "execution_count": null,
   "metadata": {},
   "outputs": [],
   "source": [
    "# Plot error in orbital elements\n",
    "fig, ax = model.plot_elt_error_bar(elt_name='omega', is_log=True)"
   ]
  },
  {
   "cell_type": "code",
   "execution_count": null,
   "metadata": {},
   "outputs": [],
   "source": [
    "# Plot error in orbital elements\n",
    "fig, ax = model.plot_elt_error_bar(elt_name='f', is_log=True)"
   ]
  },
  {
   "cell_type": "code",
   "execution_count": null,
   "metadata": {},
   "outputs": [],
   "source": []
  }
 ],
 "metadata": {
  "kernelspec": {
   "display_name": "Python [conda env:kepler]",
   "language": "python",
   "name": "conda-env-kepler-py"
  },
  "language_info": {
   "codemirror_mode": {
    "name": "ipython",
    "version": 3
   },
   "file_extension": ".py",
   "mimetype": "text/x-python",
   "name": "python",
   "nbconvert_exporter": "python",
   "pygments_lexer": "ipython3",
   "version": "3.7.6"
  }
 },
 "nbformat": 4,
 "nbformat_minor": 4
}
