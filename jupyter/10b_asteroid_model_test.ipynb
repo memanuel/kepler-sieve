{
 "cells": [
  {
   "cell_type": "code",
   "execution_count": 1,
   "metadata": {},
   "outputs": [],
   "source": [
    "# Core\n",
    "import numpy as np\n",
    "import pandas as pd\n",
    "\n",
    "# Tensorflow / ML\n",
    "import tensorflow as tf\n",
    "from tensorflow.python.keras import backend as K\n",
    "\n",
    "# Plotting\n",
    "import matplotlib.pyplot as plt\n",
    "import matplotlib as mpl\n",
    "\n",
    "# Utility\n",
    "import time\n",
    "\n",
    "# MSE Imports\n",
    "import kepler_sieve\n",
    "from asteroid_element import load_ast_elt\n",
    "from candidate_element import asteroid_elts, perturb_elts, random_elts, elts_add_mixture_params, elts_add_H\n",
    "from ztf_ast import load_ztf_nearest_ast, calc_hit_freq\n",
    "from ztf_element import load_ztf_batch, make_ztf_batch, ztf_score_by_elt, ztf_elt_summary\n",
    "from asteroid_model import AsteroidPosition, AsteroidDirection, make_model_ast_pos\n",
    "from asteroid_search_layers import CandidateElements, TrajectoryScore\n",
    "from asteroid_search_model import AsteroidSearchModel\n",
    "from asteroid_search_report import traj_diff\n",
    "from astro_utils import deg2dist, dist2deg, dist2sec"
   ]
  },
  {
   "cell_type": "code",
   "execution_count": 2,
   "metadata": {},
   "outputs": [],
   "source": [
    "# Aliases\n",
    "keras = tf.keras\n",
    "\n",
    "# Constants\n",
    "dtype = tf.float32\n",
    "dtype_np = np.float32\n",
    "space_dims = 3"
   ]
  },
  {
   "cell_type": "code",
   "execution_count": 3,
   "metadata": {},
   "outputs": [],
   "source": [
    "# Set plot style variables\n",
    "mpl.rcParams['figure.figsize'] = [16.0, 10.0]\n",
    "mpl.rcParams['font.size'] = 16"
   ]
  },
  {
   "cell_type": "markdown",
   "metadata": {},
   "source": [
    "## Load ZTF Data and Batch of Orbital Elements"
   ]
  },
  {
   "cell_type": "code",
   "execution_count": 4,
   "metadata": {},
   "outputs": [],
   "source": [
    "# Load orbital elements for known asteroids\n",
    "ast_elt = load_ast_elt()\n",
    "\n",
    "# Number of asteroids\n",
    "N_ast = ast_elt.shape[0]"
   ]
  },
  {
   "cell_type": "code",
   "execution_count": 5,
   "metadata": {},
   "outputs": [],
   "source": [
    "# Load ztf nearest asteroid data\n",
    "ztf_ast = load_ztf_nearest_ast()"
   ]
  },
  {
   "cell_type": "code",
   "execution_count": 6,
   "metadata": {},
   "outputs": [],
   "source": [
    "# Asteroid numbers and hit counts\n",
    "ast_num, hit_count = calc_hit_freq(ztf=ztf_ast, thresh_sec=2.0)\n",
    "\n",
    "# Sort the hit counts in descending order and find the top batch_size\n",
    "idx = np.argsort(hit_count)[::-1]\n",
    "\n",
    "# Extract the asteroid number and hit count for this batch\n",
    "ast_num_best = ast_num[idx]\n",
    "hit_count_best = hit_count[idx]"
   ]
  },
  {
   "cell_type": "code",
   "execution_count": 7,
   "metadata": {},
   "outputs": [],
   "source": [
    "# Parameters to build elements batch\n",
    "batch_size = 64\n",
    "\n",
    "# Batch of unperturbed elements\n",
    "elts_ast = asteroid_elts(ast_nums=ast_num_best[0:batch_size])"
   ]
  },
  {
   "cell_type": "code",
   "execution_count": 8,
   "metadata": {},
   "outputs": [],
   "source": [
    "# # Review unperturbed elements\n",
    "# elts_ast"
   ]
  },
  {
   "cell_type": "code",
   "execution_count": 9,
   "metadata": {},
   "outputs": [],
   "source": [
    "# Selected elements\n",
    "elts = elts_ast"
   ]
  },
  {
   "cell_type": "markdown",
   "metadata": {},
   "source": [
    "## Batches of ZTF Data vs. Elements"
   ]
  },
  {
   "cell_type": "code",
   "execution_count": 10,
   "metadata": {},
   "outputs": [],
   "source": [
    "# Arguments to make_ztf_batch\n",
    "thresh_deg = 2.0 / 3600.0\n",
    "near_ast = True\n",
    "regenerate = False"
   ]
  },
  {
   "cell_type": "code",
   "execution_count": 11,
   "metadata": {},
   "outputs": [],
   "source": [
    "# Load unperturbed element batch\n",
    "ztf_elt = load_ztf_batch(elts=elts, thresh_deg=thresh_deg, near_ast=near_ast, regenerate=regenerate)"
   ]
  },
  {
   "cell_type": "code",
   "execution_count": 12,
   "metadata": {},
   "outputs": [],
   "source": [
    "# Score by element - unperturbed\n",
    "score_by_elt = ztf_score_by_elt(ztf_elt)"
   ]
  },
  {
   "cell_type": "code",
   "execution_count": 13,
   "metadata": {},
   "outputs": [
    {
     "name": "stdout",
     "output_type": "stream",
     "text": [
      "ZTF Element Dataframe Unperturbed Asteroids:\n",
      "                  Total     (Per Batch)\n",
      "Observations   :    10333   (      161)\n",
      "\n",
      "Summarize score = sum(-1.0 - log(v)) by batch.  (Mean=0, Variance=num_obs)\n",
      "Mean score     :     159.76\n",
      "Sqrt(batch_obs):      12.71\n",
      "Mean t_score   :      12.61\n"
     ]
    }
   ],
   "source": [
    "# Summarize the ztf element batch: unperturbed asteroids\n",
    "ztf_elt_summary(ztf_elt, score_by_elt, 'Unperturbed Asteroids')"
   ]
  },
  {
   "cell_type": "code",
   "execution_count": 14,
   "metadata": {},
   "outputs": [],
   "source": [
    "# Mixture parameters\n",
    "num_hits: int = 20\n",
    "R_deg: float = 2.0 / 3600.0"
   ]
  },
  {
   "cell_type": "code",
   "execution_count": 15,
   "metadata": {},
   "outputs": [],
   "source": [
    "# Add mixture parameters to candidate elements\n",
    "elts_add_mixture_params(elts=elts, num_hits=num_hits, R_deg=R_deg, thresh_deg=thresh_deg)"
   ]
  },
  {
   "cell_type": "code",
   "execution_count": 16,
   "metadata": {},
   "outputs": [],
   "source": [
    "# Add brightness parameter H\n",
    "elts_add_H(elts=elts)"
   ]
  },
  {
   "cell_type": "markdown",
   "metadata": {},
   "source": [
    "## View Example DataFrames and Hits"
   ]
  },
  {
   "cell_type": "code",
   "execution_count": 17,
   "metadata": {},
   "outputs": [
    {
     "data": {
      "text/html": [
       "<div>\n",
       "<style scoped>\n",
       "    .dataframe tbody tr th:only-of-type {\n",
       "        vertical-align: middle;\n",
       "    }\n",
       "\n",
       "    .dataframe tbody tr th {\n",
       "        vertical-align: top;\n",
       "    }\n",
       "\n",
       "    .dataframe thead th {\n",
       "        text-align: right;\n",
       "    }\n",
       "</style>\n",
       "<table border=\"1\" class=\"dataframe\">\n",
       "  <thead>\n",
       "    <tr style=\"text-align: right;\">\n",
       "      <th></th>\n",
       "      <th>ztf_id</th>\n",
       "      <th>element_id</th>\n",
       "      <th>ObjectID</th>\n",
       "      <th>CandidateID</th>\n",
       "      <th>TimeStampID</th>\n",
       "      <th>mjd</th>\n",
       "      <th>ra</th>\n",
       "      <th>dec</th>\n",
       "      <th>mag_app</th>\n",
       "      <th>ux</th>\n",
       "      <th>...</th>\n",
       "      <th>elt_ux</th>\n",
       "      <th>elt_uy</th>\n",
       "      <th>elt_uz</th>\n",
       "      <th>elt_r</th>\n",
       "      <th>s</th>\n",
       "      <th>s_sec</th>\n",
       "      <th>z</th>\n",
       "      <th>v</th>\n",
       "      <th>is_hit</th>\n",
       "      <th>is_match</th>\n",
       "    </tr>\n",
       "  </thead>\n",
       "  <tbody>\n",
       "    <tr>\n",
       "      <th>0</th>\n",
       "      <td>341737</td>\n",
       "      <td>733</td>\n",
       "      <td>b'ZTF19abizrac'</td>\n",
       "      <td>937427766115015019</td>\n",
       "      <td>40797</td>\n",
       "      <td>58691.427766</td>\n",
       "      <td>33.130412</td>\n",
       "      <td>43.596186</td>\n",
       "      <td>17.784599</td>\n",
       "      <td>0.606481</td>\n",
       "      <td>...</td>\n",
       "      <td>0.606486</td>\n",
       "      <td>0.637448</td>\n",
       "      <td>0.475220</td>\n",
       "      <td>2.115260</td>\n",
       "      <td>0.000007</td>\n",
       "      <td>1.509138</td>\n",
       "      <td>1.0</td>\n",
       "      <td>0.569375</td>\n",
       "      <td>True</td>\n",
       "      <td>False</td>\n",
       "    </tr>\n",
       "    <tr>\n",
       "      <th>1</th>\n",
       "      <td>345725</td>\n",
       "      <td>733</td>\n",
       "      <td>b'ZTF19abjajfg'</td>\n",
       "      <td>937467364815015020</td>\n",
       "      <td>40840</td>\n",
       "      <td>58691.467361</td>\n",
       "      <td>33.148426</td>\n",
       "      <td>43.605278</td>\n",
       "      <td>18.220100</td>\n",
       "      <td>0.606265</td>\n",
       "      <td>...</td>\n",
       "      <td>0.606270</td>\n",
       "      <td>0.637614</td>\n",
       "      <td>0.475274</td>\n",
       "      <td>2.114851</td>\n",
       "      <td>0.000007</td>\n",
       "      <td>1.479386</td>\n",
       "      <td>1.0</td>\n",
       "      <td>0.547145</td>\n",
       "      <td>True</td>\n",
       "      <td>False</td>\n",
       "    </tr>\n",
       "    <tr>\n",
       "      <th>2</th>\n",
       "      <td>346522</td>\n",
       "      <td>733</td>\n",
       "      <td>b'ZTF19abjajmr'</td>\n",
       "      <td>937468726115015011</td>\n",
       "      <td>40842</td>\n",
       "      <td>58691.468727</td>\n",
       "      <td>33.149062</td>\n",
       "      <td>43.605587</td>\n",
       "      <td>18.129601</td>\n",
       "      <td>0.606257</td>\n",
       "      <td>...</td>\n",
       "      <td>0.606263</td>\n",
       "      <td>0.637619</td>\n",
       "      <td>0.475276</td>\n",
       "      <td>2.114837</td>\n",
       "      <td>0.000007</td>\n",
       "      <td>1.503609</td>\n",
       "      <td>1.0</td>\n",
       "      <td>0.565210</td>\n",
       "      <td>True</td>\n",
       "      <td>False</td>\n",
       "    </tr>\n",
       "    <tr>\n",
       "      <th>3</th>\n",
       "      <td>347644</td>\n",
       "      <td>733</td>\n",
       "      <td>b'ZTF19abiyxiu'</td>\n",
       "      <td>937402264815015008</td>\n",
       "      <td>40777</td>\n",
       "      <td>58691.402269</td>\n",
       "      <td>33.118785</td>\n",
       "      <td>43.590288</td>\n",
       "      <td>17.705700</td>\n",
       "      <td>0.606621</td>\n",
       "      <td>...</td>\n",
       "      <td>0.606626</td>\n",
       "      <td>0.637341</td>\n",
       "      <td>0.475186</td>\n",
       "      <td>2.115523</td>\n",
       "      <td>0.000007</td>\n",
       "      <td>1.491440</td>\n",
       "      <td>1.0</td>\n",
       "      <td>0.556098</td>\n",
       "      <td>True</td>\n",
       "      <td>False</td>\n",
       "    </tr>\n",
       "    <tr>\n",
       "      <th>4</th>\n",
       "      <td>431445</td>\n",
       "      <td>733</td>\n",
       "      <td>b'ZTF19abkkfhr'</td>\n",
       "      <td>934448315015015003</td>\n",
       "      <td>40221</td>\n",
       "      <td>58688.448310</td>\n",
       "      <td>31.751906</td>\n",
       "      <td>42.913068</td>\n",
       "      <td>17.974701</td>\n",
       "      <td>0.622775</td>\n",
       "      <td>...</td>\n",
       "      <td>0.622780</td>\n",
       "      <td>0.624447</td>\n",
       "      <td>0.471393</td>\n",
       "      <td>2.145603</td>\n",
       "      <td>0.000007</td>\n",
       "      <td>1.493960</td>\n",
       "      <td>1.0</td>\n",
       "      <td>0.557979</td>\n",
       "      <td>True</td>\n",
       "      <td>False</td>\n",
       "    </tr>\n",
       "    <tr>\n",
       "      <th>...</th>\n",
       "      <td>...</td>\n",
       "      <td>...</td>\n",
       "      <td>...</td>\n",
       "      <td>...</td>\n",
       "      <td>...</td>\n",
       "      <td>...</td>\n",
       "      <td>...</td>\n",
       "      <td>...</td>\n",
       "      <td>...</td>\n",
       "      <td>...</td>\n",
       "      <td>...</td>\n",
       "      <td>...</td>\n",
       "      <td>...</td>\n",
       "      <td>...</td>\n",
       "      <td>...</td>\n",
       "      <td>...</td>\n",
       "      <td>...</td>\n",
       "      <td>...</td>\n",
       "      <td>...</td>\n",
       "      <td>...</td>\n",
       "      <td>...</td>\n",
       "    </tr>\n",
       "    <tr>\n",
       "      <th>10328</th>\n",
       "      <td>5447574</td>\n",
       "      <td>324582</td>\n",
       "      <td>b'ZTF20aapdfmj'</td>\n",
       "      <td>1145121244815015014</td>\n",
       "      <td>95204</td>\n",
       "      <td>58899.121250</td>\n",
       "      <td>42.392273</td>\n",
       "      <td>29.202629</td>\n",
       "      <td>18.231701</td>\n",
       "      <td>0.644677</td>\n",
       "      <td>...</td>\n",
       "      <td>0.644680</td>\n",
       "      <td>0.734021</td>\n",
       "      <td>0.213544</td>\n",
       "      <td>2.915471</td>\n",
       "      <td>0.000005</td>\n",
       "      <td>0.934688</td>\n",
       "      <td>1.0</td>\n",
       "      <td>0.218410</td>\n",
       "      <td>True</td>\n",
       "      <td>False</td>\n",
       "    </tr>\n",
       "    <tr>\n",
       "      <th>10329</th>\n",
       "      <td>5450145</td>\n",
       "      <td>324582</td>\n",
       "      <td>b'ZTF20aapdfmj'</td>\n",
       "      <td>1145121716115015016</td>\n",
       "      <td>95205</td>\n",
       "      <td>58899.121713</td>\n",
       "      <td>42.392439</td>\n",
       "      <td>29.202638</td>\n",
       "      <td>18.045900</td>\n",
       "      <td>0.644675</td>\n",
       "      <td>...</td>\n",
       "      <td>0.644678</td>\n",
       "      <td>0.734022</td>\n",
       "      <td>0.213543</td>\n",
       "      <td>2.915477</td>\n",
       "      <td>0.000005</td>\n",
       "      <td>1.005771</td>\n",
       "      <td>1.0</td>\n",
       "      <td>0.252894</td>\n",
       "      <td>True</td>\n",
       "      <td>False</td>\n",
       "    </tr>\n",
       "    <tr>\n",
       "      <th>10330</th>\n",
       "      <td>5461311</td>\n",
       "      <td>324582</td>\n",
       "      <td>b'ZTF20aapeobw'</td>\n",
       "      <td>1145164884815015018</td>\n",
       "      <td>95284</td>\n",
       "      <td>58899.164884</td>\n",
       "      <td>42.405891</td>\n",
       "      <td>29.202386</td>\n",
       "      <td>18.825701</td>\n",
       "      <td>0.644538</td>\n",
       "      <td>...</td>\n",
       "      <td>0.644541</td>\n",
       "      <td>0.734161</td>\n",
       "      <td>0.213479</td>\n",
       "      <td>2.916052</td>\n",
       "      <td>0.000004</td>\n",
       "      <td>0.890844</td>\n",
       "      <td>1.0</td>\n",
       "      <td>0.198401</td>\n",
       "      <td>True</td>\n",
       "      <td>False</td>\n",
       "    </tr>\n",
       "    <tr>\n",
       "      <th>10331</th>\n",
       "      <td>5461312</td>\n",
       "      <td>324582</td>\n",
       "      <td>b'ZTF20aapeobw'</td>\n",
       "      <td>1145165336115015009</td>\n",
       "      <td>95285</td>\n",
       "      <td>58899.165336</td>\n",
       "      <td>42.406082</td>\n",
       "      <td>29.202412</td>\n",
       "      <td>18.750099</td>\n",
       "      <td>0.644536</td>\n",
       "      <td>...</td>\n",
       "      <td>0.644540</td>\n",
       "      <td>0.734163</td>\n",
       "      <td>0.213478</td>\n",
       "      <td>2.916058</td>\n",
       "      <td>0.000005</td>\n",
       "      <td>1.056357</td>\n",
       "      <td>1.0</td>\n",
       "      <td>0.278973</td>\n",
       "      <td>True</td>\n",
       "      <td>False</td>\n",
       "    </tr>\n",
       "    <tr>\n",
       "      <th>10332</th>\n",
       "      <td>5569055</td>\n",
       "      <td>324582</td>\n",
       "      <td>b'ZTF20aaqiegi'</td>\n",
       "      <td>1149109466015015031</td>\n",
       "      <td>96104</td>\n",
       "      <td>58903.109468</td>\n",
       "      <td>43.677701</td>\n",
       "      <td>29.195480</td>\n",
       "      <td>18.884600</td>\n",
       "      <td>0.631356</td>\n",
       "      <td>...</td>\n",
       "      <td>0.631360</td>\n",
       "      <td>0.747149</td>\n",
       "      <td>0.207734</td>\n",
       "      <td>2.967860</td>\n",
       "      <td>0.000005</td>\n",
       "      <td>1.017359</td>\n",
       "      <td>1.0</td>\n",
       "      <td>0.258755</td>\n",
       "      <td>True</td>\n",
       "      <td>False</td>\n",
       "    </tr>\n",
       "  </tbody>\n",
       "</table>\n",
       "<p>10333 rows × 35 columns</p>\n",
       "</div>"
      ],
      "text/plain": [
       "        ztf_id  element_id         ObjectID          CandidateID  TimeStampID  \\\n",
       "0       341737         733  b'ZTF19abizrac'   937427766115015019        40797   \n",
       "1       345725         733  b'ZTF19abjajfg'   937467364815015020        40840   \n",
       "2       346522         733  b'ZTF19abjajmr'   937468726115015011        40842   \n",
       "3       347644         733  b'ZTF19abiyxiu'   937402264815015008        40777   \n",
       "4       431445         733  b'ZTF19abkkfhr'   934448315015015003        40221   \n",
       "...        ...         ...              ...                  ...          ...   \n",
       "10328  5447574      324582  b'ZTF20aapdfmj'  1145121244815015014        95204   \n",
       "10329  5450145      324582  b'ZTF20aapdfmj'  1145121716115015016        95205   \n",
       "10330  5461311      324582  b'ZTF20aapeobw'  1145164884815015018        95284   \n",
       "10331  5461312      324582  b'ZTF20aapeobw'  1145165336115015009        95285   \n",
       "10332  5569055      324582  b'ZTF20aaqiegi'  1149109466015015031        96104   \n",
       "\n",
       "                mjd         ra        dec    mag_app        ux  ...    elt_ux  \\\n",
       "0      58691.427766  33.130412  43.596186  17.784599  0.606481  ...  0.606486   \n",
       "1      58691.467361  33.148426  43.605278  18.220100  0.606265  ...  0.606270   \n",
       "2      58691.468727  33.149062  43.605587  18.129601  0.606257  ...  0.606263   \n",
       "3      58691.402269  33.118785  43.590288  17.705700  0.606621  ...  0.606626   \n",
       "4      58688.448310  31.751906  42.913068  17.974701  0.622775  ...  0.622780   \n",
       "...             ...        ...        ...        ...       ...  ...       ...   \n",
       "10328  58899.121250  42.392273  29.202629  18.231701  0.644677  ...  0.644680   \n",
       "10329  58899.121713  42.392439  29.202638  18.045900  0.644675  ...  0.644678   \n",
       "10330  58899.164884  42.405891  29.202386  18.825701  0.644538  ...  0.644541   \n",
       "10331  58899.165336  42.406082  29.202412  18.750099  0.644536  ...  0.644540   \n",
       "10332  58903.109468  43.677701  29.195480  18.884600  0.631356  ...  0.631360   \n",
       "\n",
       "         elt_uy    elt_uz     elt_r         s     s_sec    z         v  \\\n",
       "0      0.637448  0.475220  2.115260  0.000007  1.509138  1.0  0.569375   \n",
       "1      0.637614  0.475274  2.114851  0.000007  1.479386  1.0  0.547145   \n",
       "2      0.637619  0.475276  2.114837  0.000007  1.503609  1.0  0.565210   \n",
       "3      0.637341  0.475186  2.115523  0.000007  1.491440  1.0  0.556098   \n",
       "4      0.624447  0.471393  2.145603  0.000007  1.493960  1.0  0.557979   \n",
       "...         ...       ...       ...       ...       ...  ...       ...   \n",
       "10328  0.734021  0.213544  2.915471  0.000005  0.934688  1.0  0.218410   \n",
       "10329  0.734022  0.213543  2.915477  0.000005  1.005771  1.0  0.252894   \n",
       "10330  0.734161  0.213479  2.916052  0.000004  0.890844  1.0  0.198401   \n",
       "10331  0.734163  0.213478  2.916058  0.000005  1.056357  1.0  0.278973   \n",
       "10332  0.747149  0.207734  2.967860  0.000005  1.017359  1.0  0.258755   \n",
       "\n",
       "       is_hit  is_match  \n",
       "0        True     False  \n",
       "1        True     False  \n",
       "2        True     False  \n",
       "3        True     False  \n",
       "4        True     False  \n",
       "...       ...       ...  \n",
       "10328    True     False  \n",
       "10329    True     False  \n",
       "10330    True     False  \n",
       "10331    True     False  \n",
       "10332    True     False  \n",
       "\n",
       "[10333 rows x 35 columns]"
      ]
     },
     "execution_count": 17,
     "metadata": {},
     "output_type": "execute_result"
    }
   ],
   "source": [
    "# Review ztf_elt DataFrame\n",
    "ztf_elt"
   ]
  },
  {
   "cell_type": "code",
   "execution_count": 18,
   "metadata": {},
   "outputs": [],
   "source": [
    "# Build numpy array of times\n",
    "ts_np = ztf_elt.mjd.values.astype(dtype_np)\n",
    "\n",
    "# Get observation count per element\n",
    "row_lengths_np = ztf_elt.element_id.groupby(ztf_elt.element_id).count().values.astype(np.int32)"
   ]
  },
  {
   "cell_type": "code",
   "execution_count": 19,
   "metadata": {},
   "outputs": [
    {
     "name": "stdout",
     "output_type": "stream",
     "text": [
      "Best asteroid has element_id = 51921\n",
      "Hit count: 158 / 158 observations\n",
      "Hit rate : 1.000000\n",
      "Closest hit: 0.381 arc seconds\n"
     ]
    }
   ],
   "source": [
    "# Review results\n",
    "element_id_best = ast_num_best[0]\n",
    "mask = (ztf_elt.element_id == element_id_best)\n",
    "hits_best = np.sum(ztf_elt[mask].is_hit)\n",
    "hit_rate_best = np.mean(ztf_elt[mask].is_hit)\n",
    "rows_best = np.sum(mask)\n",
    "s_sec_min = np.min(ztf_elt[mask].s_sec)\n",
    "idx = np.argmin(ztf_elt.s)\n",
    "ztf_id = ztf_elt.ztf_id[idx]\n",
    "# ztf_elt[mask].iloc[idx:idx+1]\n",
    "print(f'Best asteroid has element_id = {element_id_best}')\n",
    "print(f'Hit count: {hits_best} / {rows_best} observations')\n",
    "print(f'Hit rate : {hit_rate_best:8.6f}')\n",
    "print(f'Closest hit: {s_sec_min:0.3f} arc seconds')\n",
    "# ztf_elt[mask]"
   ]
  },
  {
   "cell_type": "markdown",
   "metadata": {},
   "source": [
    "## Build Asteroid Search Model"
   ]
  },
  {
   "cell_type": "code",
   "execution_count": 20,
   "metadata": {},
   "outputs": [],
   "source": [
    "# Observatory for ZTF data is Palomar Mountain\n",
    "site_name = 'palomar'"
   ]
  },
  {
   "cell_type": "code",
   "execution_count": 21,
   "metadata": {},
   "outputs": [],
   "source": [
    "# Training parameters\n",
    "learning_rate = 2.0**-12\n",
    "clipnorm = 1.0\n",
    "save_at_end: bool = True"
   ]
  },
  {
   "cell_type": "code",
   "execution_count": 22,
   "metadata": {},
   "outputs": [],
   "source": [
    "# Build asteroid search model\n",
    "model = AsteroidSearchModel(\n",
    "        elts=elts, ztf_elt=ztf_elt, \n",
    "        site_name=site_name, thresh_deg=thresh_deg, \n",
    "        learning_rate=learning_rate, clipnorm=clipnorm)"
   ]
  },
  {
   "cell_type": "code",
   "execution_count": 23,
   "metadata": {},
   "outputs": [
    {
     "name": "stdout",
     "output_type": "stream",
     "text": [
      "\n",
      "Good elements (hits >= 5):  64.00\n",
      "\n",
      "         \\  log_like :  hits  :    R_sec : thresh_sec\n",
      "Mean Good:     3.36  :  99.23 :     1.00 :     2.00\n",
      "Mean Bad :      nan  :    nan :      nan :      nan\n",
      "Mean     :     3.36  :  99.23 :     1.00 :     2.00\n",
      "Median   :     3.05  : 100.00 :     1.00 :     2.00\n",
      "GeoMean  :     2.99  :  94.83 :     1.00 :     3.00\n",
      "Min      :    -8.21  :  33.00 :     1.00 :     2.00\n",
      "Max      :    11.49  : 150.00 :     1.00 :     2.00\n",
      "Trained for 0 batches over 0 epochs and 0 episodes (elapsed time 0 seconds).\n"
     ]
    },
    {
     "name": "stderr",
     "output_type": "stream",
     "text": [
      "/home/michael/anaconda3/envs/kepler/lib/python3.7/site-packages/numpy/core/fromnumeric.py:3335: RuntimeWarning: Mean of empty slice.\n",
      "  out=out, **kwargs)\n"
     ]
    }
   ],
   "source": [
    "# Report summary outputs\n",
    "model.report()"
   ]
  },
  {
   "cell_type": "code",
   "execution_count": 24,
   "metadata": {},
   "outputs": [],
   "source": [
    "# Freeze orbital elements; train only mixture parameters\n",
    "model.freeze_candidate_elements()"
   ]
  },
  {
   "cell_type": "code",
   "execution_count": 25,
   "metadata": {},
   "outputs": [],
   "source": [
    "# Load model\n",
    "# model.load()"
   ]
  },
  {
   "cell_type": "code",
   "execution_count": 26,
   "metadata": {},
   "outputs": [],
   "source": [
    "# Report summary outputs\n",
    "# model.report()"
   ]
  },
  {
   "cell_type": "code",
   "execution_count": 27,
   "metadata": {},
   "outputs": [],
   "source": [
    "# fig, ax = model_gold.plot_bar('hits', sorted=False)"
   ]
  },
  {
   "cell_type": "markdown",
   "metadata": {},
   "source": [
    "## Check that Predicted Direction Matches Expected Direction"
   ]
  },
  {
   "cell_type": "code",
   "execution_count": 28,
   "metadata": {},
   "outputs": [],
   "source": [
    "model.recalibrate()"
   ]
  },
  {
   "cell_type": "code",
   "execution_count": 29,
   "metadata": {},
   "outputs": [],
   "source": [
    "# Predicted position\n",
    "q_pred, v_pred = model.predict_position()"
   ]
  },
  {
   "cell_type": "code",
   "execution_count": 30,
   "metadata": {},
   "outputs": [],
   "source": [
    "# Expected position\n",
    "cols_q = ['qx', 'qy', 'qz']\n",
    "cols_v = ['vx', 'vy', 'vz']\n",
    "q_true = ztf_elt[cols_q].values\n",
    "v_true = ztf_elt[cols_v].values"
   ]
  },
  {
   "cell_type": "code",
   "execution_count": 31,
   "metadata": {},
   "outputs": [
    {
     "name": "stdout",
     "output_type": "stream",
     "text": [
      "Mean position error: 1.15e-05 AU       (5.20e-06 rel)\n",
      "Mean velocity error: 5.77e-08 AU / day (4.71e-06 rel)\n"
     ]
    }
   ],
   "source": [
    "# Difference between actual and predicted\n",
    "dq = q_pred - q_true\n",
    "dv = v_pred - v_true\n",
    "\n",
    "q_err = np.linalg.norm(dq, axis=-1)\n",
    "v_err = np.linalg.norm(dv, axis=-1)\n",
    "\n",
    "q_err_rel = q_err / np.linalg.norm(q_true, axis=-1)\n",
    "v_err_rel = v_err / np.linalg.norm(v_true, axis=-1)\n",
    "\n",
    "q_err_mean = np.mean(q_err)\n",
    "v_err_mean = np.mean(v_err)\n",
    "\n",
    "q_err_rel_mean = np.mean(q_err_rel)\n",
    "v_err_rel_mean = np.mean(v_err_rel)\n",
    "\n",
    "print(f'Mean position error: {q_err_mean:6.2e} AU       ({q_err_rel_mean:6.2e} rel)')\n",
    "print(f'Mean velocity error: {v_err_mean:6.2e} AU / day ({v_err_rel_mean:6.2e} rel)')"
   ]
  },
  {
   "cell_type": "code",
   "execution_count": 32,
   "metadata": {},
   "outputs": [],
   "source": [
    "dq_cal = model.position.dq.numpy()\n",
    "dv_cal = model.position.dv.numpy()"
   ]
  },
  {
   "cell_type": "code",
   "execution_count": 33,
   "metadata": {},
   "outputs": [],
   "source": [
    "# Predicted direction\n",
    "u_pred, r_pred, mag_pred = model.predict_direction()"
   ]
  },
  {
   "cell_type": "code",
   "execution_count": 34,
   "metadata": {},
   "outputs": [],
   "source": [
    "# Expected direction\n",
    "cols_u = ['elt_ux', 'elt_uy', 'elt_uz']\n",
    "u_true = ztf_elt[cols_u].values"
   ]
  },
  {
   "cell_type": "code",
   "execution_count": 35,
   "metadata": {},
   "outputs": [
    {
     "name": "stdout",
     "output_type": "stream",
     "text": [
      "Mean direction error: 4.12e-06 Cartesian /   0.85 arc seconds\n"
     ]
    }
   ],
   "source": [
    "# Difference between actual and predicted\n",
    "du = u_pred - u_true\n",
    "u_err = np.linalg.norm(du, axis=-1)\n",
    "u_err_sec = dist2sec(u_err)\n",
    "u_err_mean = np.mean(u_err)\n",
    "u_err_mean_sec = np.mean(u_err_sec)\n",
    "print(f'Mean direction error: {u_err_mean:6.2e} Cartesian / {u_err_mean_sec:6.2f} arc seconds')"
   ]
  },
  {
   "cell_type": "code",
   "execution_count": 36,
   "metadata": {},
   "outputs": [
    {
     "data": {
      "text/plain": [
       "3.5408127"
      ]
     },
     "execution_count": 36,
     "metadata": {},
     "output_type": "execute_result"
    }
   ],
   "source": [
    "np.max(u_err_sec)"
   ]
  },
  {
   "cell_type": "code",
   "execution_count": 37,
   "metadata": {},
   "outputs": [],
   "source": [
    "cols_u_obs = ['ux', 'uy', 'uz']\n",
    "u_obs = ztf_elt[cols_u_obs].values"
   ]
  },
  {
   "cell_type": "code",
   "execution_count": 38,
   "metadata": {},
   "outputs": [
    {
     "name": "stdout",
     "output_type": "stream",
     "text": [
      "Mean direction diff: 5.08e-06 Cartesian /   1.05 arc seconds\n"
     ]
    }
   ],
   "source": [
    "du = u_pred - u_obs\n",
    "u_diff = np.linalg.norm(du, axis=-1)\n",
    "u_diff_sec = dist2sec(u_diff)\n",
    "u_diff_mean = np.mean(u_diff)\n",
    "u_diff_mean_sec = np.mean(u_diff_sec)\n",
    "print(f'Mean direction diff: {u_diff_mean:6.2e} Cartesian / {u_diff_mean_sec:6.2f} arc seconds')"
   ]
  },
  {
   "cell_type": "code",
   "execution_count": 39,
   "metadata": {},
   "outputs": [
    {
     "data": {
      "text/plain": [
       "5.3548026"
      ]
     },
     "execution_count": 39,
     "metadata": {},
     "output_type": "execute_result"
    }
   ],
   "source": [
    "np.max(u_diff_sec)"
   ]
  },
  {
   "cell_type": "code",
   "execution_count": null,
   "metadata": {},
   "outputs": [],
   "source": [
    "# _ = model.position.dq.assign(np.zeros_like(dq_cal))\n",
    "# _ = model.position.dv.assign(np.zeros_like(dv_cal))"
   ]
  },
  {
   "cell_type": "code",
   "execution_count": 40,
   "metadata": {},
   "outputs": [],
   "source": [
    "# model.sieve()"
   ]
  },
  {
   "cell_type": "code",
   "execution_count": null,
   "metadata": {},
   "outputs": [],
   "source": []
  }
 ],
 "metadata": {
  "kernelspec": {
   "display_name": "Python [conda env:kepler]",
   "language": "python",
   "name": "conda-env-kepler-py"
  },
  "language_info": {
   "codemirror_mode": {
    "name": "ipython",
    "version": 3
   },
   "file_extension": ".py",
   "mimetype": "text/x-python",
   "name": "python",
   "nbconvert_exporter": "python",
   "pygments_lexer": "ipython3",
   "version": "3.7.6"
  }
 },
 "nbformat": 4,
 "nbformat_minor": 4
}
