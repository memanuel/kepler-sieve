{
 "cells": [
  {
   "cell_type": "markdown",
   "metadata": {},
   "source": [
    "# Download Latest JPL Ephemerides as Numpy Data\n",
    "\n",
    "Most recent planetary ephemeris is de438; uploaded on 28-Aug-2019.<br>\n",
    "See https://pypi.org/project/jplephem/ for jplephem tutorial"
   ]
  },
  {
   "cell_type": "code",
   "execution_count": 1,
   "metadata": {},
   "outputs": [],
   "source": [
    "import numpy as np\n",
    "from astropy.units import deg, au, km, meter, day, minute, second\n",
    "from astropy.coordinates import SkyCoord, ICRS, BarycentricMeanEcliptic\n",
    "from jplephem.spk import SPK"
   ]
  },
  {
   "cell_type": "markdown",
   "metadata": {},
   "source": [
    "<b>Load the de438 kernel</b>"
   ]
  },
  {
   "cell_type": "code",
   "execution_count": 2,
   "metadata": {},
   "outputs": [],
   "source": [
    "kernel = SPK.open('data/jpl/ephemeris/de438.bsp')"
   ]
  },
  {
   "cell_type": "code",
   "execution_count": 3,
   "metadata": {},
   "outputs": [
    {
     "name": "stdout",
     "output_type": "stream",
     "text": [
      "File type DAF/SPK and format LTL-IEEE with 14 segments:\n",
      "2287184.50..2688976.50  Solar System Barycenter (0) -> Mercury Barycenter (1)\n",
      "2287184.50..2688976.50  Solar System Barycenter (0) -> Venus Barycenter (2)\n",
      "2287184.50..2688976.50  Solar System Barycenter (0) -> Earth Barycenter (3)\n",
      "2287184.50..2688976.50  Solar System Barycenter (0) -> Mars Barycenter (4)\n",
      "2287184.50..2688976.50  Solar System Barycenter (0) -> Jupiter Barycenter (5)\n",
      "2287184.50..2688976.50  Solar System Barycenter (0) -> Saturn Barycenter (6)\n",
      "2287184.50..2688976.50  Solar System Barycenter (0) -> Uranus Barycenter (7)\n",
      "2287184.50..2688976.50  Solar System Barycenter (0) -> Neptune Barycenter (8)\n",
      "2287184.50..2688976.50  Solar System Barycenter (0) -> Pluto Barycenter (9)\n",
      "2287184.50..2688976.50  Solar System Barycenter (0) -> Sun (10)\n",
      "2287184.50..2688976.50  Earth Barycenter (3) -> Moon (301)\n",
      "2287184.50..2688976.50  Earth Barycenter (3) -> Earth (399)\n",
      "2287184.50..2688976.50  Mercury Barycenter (1) -> Mercury (199)\n",
      "2287184.50..2688976.50  Venus Barycenter (2) -> Venus (299)\n"
     ]
    }
   ],
   "source": [
    "print(kernel)"
   ]
  },
  {
   "cell_type": "markdown",
   "metadata": {},
   "source": [
    "<b>Select a date range</b><br>\n",
    "Most recent asteroid integration as of MJD 59,000.  One century in either direction would span 22,475 to 95,525."
   ]
  },
  {
   "cell_type": "code",
   "execution_count": 4,
   "metadata": {},
   "outputs": [],
   "source": [
    "mjd_int = 59000\n",
    "mjd_half_width = 20*365.25\n",
    "mjd0 = mjd_int - mjd_half_width\n",
    "mjd1 = mjd_int + mjd_half_width\n",
    "jd0 = mjd0 + 2400000.5\n",
    "jd1 = mjd1 + 2400000.5\n",
    "jd = np.arange(jd0, jd1+1.0)"
   ]
  },
  {
   "cell_type": "code",
   "execution_count": 5,
   "metadata": {},
   "outputs": [
    {
     "data": {
      "text/plain": [
       "array([2451695.5, 2451696.5, 2451697.5, ..., 2466303.5, 2466304.5,\n",
       "       2466305.5])"
      ]
     },
     "execution_count": 5,
     "metadata": {},
     "output_type": "execute_result"
    }
   ],
   "source": [
    "jd"
   ]
  },
  {
   "cell_type": "markdown",
   "metadata": {},
   "source": [
    "<b>Conversion Between AU and kilometers</b>"
   ]
  },
  {
   "cell_type": "code",
   "execution_count": 6,
   "metadata": {},
   "outputs": [],
   "source": [
    "au2km = 149597870.7"
   ]
  },
  {
   "cell_type": "code",
   "execution_count": 7,
   "metadata": {},
   "outputs": [],
   "source": [
    "km2au = 1.0 / au2km"
   ]
  },
  {
   "cell_type": "markdown",
   "metadata": {},
   "source": [
    "<b>Extract position and velocity for Sun \\& Planet Barycenters</b>"
   ]
  },
  {
   "cell_type": "code",
   "execution_count": 8,
   "metadata": {},
   "outputs": [],
   "source": [
    "q_sun_km, v_sun_km = kernel[0,10].compute_and_differentiate(jd)\n",
    "q_mercury_km, v_mercury_km = kernel[0,1].compute_and_differentiate(jd)\n",
    "q_venus_km, v_venus_km = kernel[0,2].compute_and_differentiate(jd)\n",
    "q_emb_km, v_emb_km = kernel[0,3].compute_and_differentiate(jd)\n",
    "q_mars_km, v_mars_km = kernel[0,4].compute_and_differentiate(jd)\n",
    "q_jupiter_km, v_jupiter_km = kernel[0,5].compute_and_differentiate(jd)\n",
    "q_saturn_km, v_saturn_km = kernel[0,6].compute_and_differentiate(jd)\n",
    "q_uranus_km, v_uranus_km = kernel[0,7].compute_and_differentiate(jd)\n",
    "q_neptune_km, v_neptune_km = kernel[0,8].compute_and_differentiate(jd)\n",
    "q_pluto_km, v_pluto_km = kernel[0,9].compute_and_differentiate(jd)"
   ]
  },
  {
   "cell_type": "markdown",
   "metadata": {},
   "source": [
    "<b>Extract position and velocity for Earth and Moon from Earth-Moon Barycenter</b>"
   ]
  },
  {
   "cell_type": "code",
   "execution_count": 9,
   "metadata": {},
   "outputs": [],
   "source": [
    "q_emb_earth_km, v_emb_earth_km = kernel[3,399].compute_and_differentiate(jd)\n",
    "q_emb_moon_km, v_emb_moon_km = kernel[3,301].compute_and_differentiate(jd)"
   ]
  },
  {
   "cell_type": "code",
   "execution_count": 10,
   "metadata": {},
   "outputs": [],
   "source": [
    "# Earth and Moon from EMB\n",
    "q_earth_km = q_emb_km + q_emb_earth_km\n",
    "v_earth_km = v_emb_km + v_emb_earth_km\n",
    "q_moon_km = q_emb_km + q_emb_moon_km\n",
    "v_moon_km = v_emb_km + v_emb_moon_km"
   ]
  },
  {
   "cell_type": "markdown",
   "metadata": {},
   "source": [
    "<b>Concatenate position and velocity</b>"
   ]
  },
  {
   "cell_type": "code",
   "execution_count": 11,
   "metadata": {},
   "outputs": [],
   "source": [
    "qv_sun_km = np.vstack([q_sun_km, v_sun_km])\n",
    "qv_mercury_km = np.vstack([q_mercury_km, v_mercury_km])\n",
    "qv_venus_km = np.vstack([q_venus_km, v_venus_km])\n",
    "qv_emb_km = np.vstack([q_emb_km, v_emb_km])\n",
    "qv_mars_km = np.vstack([q_mars_km, v_mars_km])\n",
    "qv_jupiter_km = np.vstack([q_jupiter_km, v_jupiter_km])\n",
    "qv_saturn_km = np.vstack([q_saturn_km, v_saturn_km])\n",
    "qv_uranus_km = np.vstack([q_uranus_km, v_uranus_km])\n",
    "qv_neptune_km = np.vstack([q_neptune_km, v_neptune_km])\n",
    "qv_pluto_km = np.vstack([q_pluto_km, v_pluto_km])\n",
    "\n",
    "# Earth and Moon from EMB\n",
    "qv_earth_km = np.vstack([q_earth_km, v_earth_km])\n",
    "qv_moon_km = np.vstack([q_moon_km, v_moon_km])"
   ]
  },
  {
   "cell_type": "markdown",
   "metadata": {},
   "source": [
    "<b>Position and Velocity in AU in the ICRS</b>"
   ]
  },
  {
   "cell_type": "code",
   "execution_count": 12,
   "metadata": {},
   "outputs": [],
   "source": [
    "qv_sun_icrs = qv_sun_km * km2au\n",
    "qv_mercury_icrs = qv_mercury_km * km2au\n",
    "qv_venus_icrs = qv_venus_km * km2au\n",
    "qv_emb_icrs = qv_emb_km * km2au\n",
    "qv_mars_icrs = qv_mars_km * km2au\n",
    "qv_jupiter_icrs = qv_jupiter_km * km2au\n",
    "qv_saturn_icrs = qv_saturn_km * km2au\n",
    "qv_uranus_icrs = qv_uranus_km * km2au\n",
    "qv_neptune_icrs = qv_neptune_km * km2au\n",
    "qv_pluto_icrs = qv_pluto_km * km2au\n",
    "\n",
    "# Earth and Moon from EMB\n",
    "qv_earth_icrs = qv_earth_km * km2au\n",
    "qv_moon_icrs = qv_moon_km * km2au"
   ]
  },
  {
   "cell_type": "markdown",
   "metadata": {},
   "source": [
    "<b> Position and Velocity in the Barycentric Mean Ecliptic Frame>/b>"
   ]
  },
  {
   "cell_type": "code",
   "execution_count": 13,
   "metadata": {},
   "outputs": [],
   "source": [
    "def icrs2bme(qv_icrs):\n",
    "    \"\"\"Convert a 6xN array [q_body, v_body] from ICRS to BME frame\"\"\"\n",
    "    # Build coordinate object with position in AU and velocity in AU / day\n",
    "    body_icrs = SkyCoord(x=qv_icrs[0]*au, y=qv_icrs[1]*au, z=qv_icrs[2]*au, \n",
    "                         v_x=qv_icrs[3]*au/day, v_y=qv_icrs[4]*au/day, v_z=qv_icrs[5]*au/day,\n",
    "                         frame=ICRS, representation_type='cartesian',  differential_type='cartesian')\n",
    "    # Extract position in BME with units of AU\n",
    "    q = body_icrs.barycentricmeanecliptic.cartesian.xyz.to(au).value\n",
    "    # Extract velocity in BME; convert units to AU / day\n",
    "    v = body_icrs.barycentricmeanecliptic.velocity.d_xyz.to(au / day).value\n",
    "    # Stack position and velocity into one 6xN array in the BME frame\n",
    "    qv = np.vstack([q, v])\n",
    "    return qv"
   ]
  },
  {
   "cell_type": "code",
   "execution_count": 14,
   "metadata": {},
   "outputs": [],
   "source": [
    "qv_sun = icrs2bme(qv_sun_icrs)\n",
    "qv_mercury = icrs2bme(qv_mercury_icrs)\n",
    "qv_venus = icrs2bme(qv_venus_icrs)\n",
    "qv_emb = icrs2bme(qv_emb_icrs)\n",
    "qv_mars = icrs2bme(qv_mars_icrs)\n",
    "qv_jupiter = icrs2bme(qv_jupiter_icrs)\n",
    "qv_saturn = icrs2bme(qv_saturn_icrs)\n",
    "qv_uranus = icrs2bme(qv_uranus_icrs)\n",
    "qv_neptune = icrs2bme(qv_neptune_icrs)\n",
    "qv_pluto = icrs2bme(qv_pluto_icrs)\n",
    "\n",
    "qv_earth = icrs2bme(qv_earth_icrs)\n",
    "qv_moon = icrs2bme(qv_moon_icrs)"
   ]
  },
  {
   "cell_type": "code",
   "execution_count": 15,
   "metadata": {},
   "outputs": [],
   "source": [
    "emb_icrs = SkyCoord(x=qv_emb_icrs[0]*au, y=qv_emb_icrs[1]*au, z=qv_emb_icrs[2]*au, \n",
    "                    v_x=qv_emb_icrs[3]*au/day, v_y=qv_emb_icrs[4]*au/day, v_z=qv_emb_icrs[5]*au/day,\n",
    "                    frame=ICRS, representation_type='cartesian',  differential_type='cartesian')"
   ]
  },
  {
   "cell_type": "code",
   "execution_count": 16,
   "metadata": {},
   "outputs": [],
   "source": [
    "earth_icrs = SkyCoord(x=qv_earth_icrs[0]*au, y=qv_earth_icrs[1]*au, z=qv_earth_icrs[2]*au, \n",
    "                      v_x=qv_earth_icrs[3]*au/day, v_y=qv_earth_icrs[4]*au/day, v_z=qv_earth_icrs[5]*au/day,\n",
    "                      frame=ICRS, representation_type='cartesian',  differential_type='cartesian')"
   ]
  },
  {
   "cell_type": "code",
   "execution_count": 17,
   "metadata": {},
   "outputs": [],
   "source": [
    "q_emb = emb_icrs.barycentricmeanecliptic.cartesian.xyz.value"
   ]
  },
  {
   "cell_type": "code",
   "execution_count": 18,
   "metadata": {},
   "outputs": [],
   "source": [
    "v_emb = emb_icrs.barycentricmeanecliptic.velocity.d_xyz.to(au / day).value"
   ]
  },
  {
   "cell_type": "code",
   "execution_count": 19,
   "metadata": {},
   "outputs": [],
   "source": [
    "qv_emb = np.vstack([q_emb, v_emb])"
   ]
  },
  {
   "cell_type": "markdown",
   "metadata": {},
   "source": [
    "<b>Sanity Check: Do we Recover Mean perihelion and aphelion ~ 1.0 AU?</b>"
   ]
  },
  {
   "cell_type": "code",
   "execution_count": 20,
   "metadata": {},
   "outputs": [],
   "source": [
    "perihelion = np.min(np.linalg.norm(qv_earth[0:3] - qv_sun[0:3], axis=0))\n",
    "aphelion = np.max(np.linalg.norm(qv_earth[0:3] - qv_sun[0:3], axis=0))\n",
    "au_recovered = (perihelion + aphelion) / 2.0"
   ]
  },
  {
   "cell_type": "code",
   "execution_count": 21,
   "metadata": {},
   "outputs": [
    {
     "name": "stdout",
     "output_type": "stream",
     "text": [
      "perihelion   = 0.9832438619468017\n",
      "aphelion     = 1.0167543280740092\n",
      "recovered AU = 0.9999990950104054\n"
     ]
    }
   ],
   "source": [
    "print(f'perihelion   = {perihelion}')\n",
    "print(f'aphelion     = {aphelion}')\n",
    "print(f'recovered AU = {au_recovered}')"
   ]
  },
  {
   "cell_type": "markdown",
   "metadata": {},
   "source": [
    "<b>Sanity Check: Do we Match First Row of Horizon Download for Earth-Moon Barycenter?</b>"
   ]
  },
  {
   "cell_type": "code",
   "execution_count": 22,
   "metadata": {},
   "outputs": [
    {
     "data": {
      "text/plain": [
       "5.0"
      ]
     },
     "execution_count": 22,
     "metadata": {},
     "output_type": "execute_result"
    }
   ],
   "source": [
    "2451700.5 - jd[0]"
   ]
  },
  {
   "cell_type": "code",
   "execution_count": 23,
   "metadata": {},
   "outputs": [
    {
     "data": {
      "text/plain": [
       "2451700.5"
      ]
     },
     "execution_count": 23,
     "metadata": {},
     "output_type": "execute_result"
    }
   ],
   "source": [
    "jd[5]"
   ]
  },
  {
   "cell_type": "code",
   "execution_count": 24,
   "metadata": {},
   "outputs": [],
   "source": [
    "q_emb_jpl = qv_emb[0:3, 5]\n",
    "q_sun_jpl = qv_sun[0:3, 5]\n",
    "q_sun_emb_jpl = q_emb_jpl - q_sun_jpl"
   ]
  },
  {
   "cell_type": "code",
   "execution_count": 25,
   "metadata": {},
   "outputs": [],
   "source": [
    "v_emb_jpl = qv_emb[3:6, 5]\n",
    "v_sun_jpl = qv_sun[3:6, 5]\n",
    "v_sun_emb_jpl = v_emb_jpl - v_sun_jpl"
   ]
  },
  {
   "cell_type": "code",
   "execution_count": 26,
   "metadata": {},
   "outputs": [],
   "source": [
    "q_emb_hrzn = np.array([-2.748856606750498E-01, -9.822784617285307E-01, 1.904193980135841E-04])\n",
    "q_sun_hrzn = np.array([-6.196323345882849E-03, -3.853552818516107E-03, 1.881871367065105E-04])\n",
    "q_sun_emb_hrzn = q_emb_hrzn - q_sun_hrzn"
   ]
  },
  {
   "cell_type": "code",
   "execution_count": 27,
   "metadata": {},
   "outputs": [],
   "source": [
    "v_emb_hrzn = np.array([1.631683037292223E-02, -4.626739131144278E-03, -1.411710983045592E-07])\n",
    "v_sun_hrzn = np.array([6.728156861636702E-06, -6.135508083871250E-06, -1.381672089819167E-07])\n",
    "v_sun_emb_hrzn = v_emb_hrzn - v_sun_hrzn"
   ]
  },
  {
   "cell_type": "markdown",
   "metadata": {},
   "source": [
    "*Difference in Earth-Moon Barycenter absolute position*"
   ]
  },
  {
   "cell_type": "code",
   "execution_count": 28,
   "metadata": {},
   "outputs": [
    {
     "data": {
      "text/plain": [
       "array([ 3.07421371e-08, -8.12610756e-09, -1.40250597e-07])"
      ]
     },
     "execution_count": 28,
     "metadata": {},
     "output_type": "execute_result"
    }
   ],
   "source": [
    "q_emb_diff = q_emb_jpl - q_emb_hrzn\n",
    "q_emb_diff"
   ]
  },
  {
   "cell_type": "code",
   "execution_count": 29,
   "metadata": {},
   "outputs": [
    {
     "data": {
      "text/plain": [
       "1.4381009203474344e-07"
      ]
     },
     "execution_count": 29,
     "metadata": {},
     "output_type": "execute_result"
    }
   ],
   "source": [
    "np.linalg.norm(q_emb_diff)"
   ]
  },
  {
   "cell_type": "code",
   "execution_count": 31,
   "metadata": {},
   "outputs": [
    {
     "data": {
      "text/plain": [
       "array([ 1.48886601e-10,  5.28031057e-10, -2.45935938e-09])"
      ]
     },
     "execution_count": 31,
     "metadata": {},
     "output_type": "execute_result"
    }
   ],
   "source": [
    "v_emb_diff = v_emb_jpl - v_emb_hrzn\n",
    "v_emb_diff"
   ]
  },
  {
   "cell_type": "code",
   "execution_count": 38,
   "metadata": {},
   "outputs": [],
   "source": [
    "# np.linalg.norm(v_emb_diff)"
   ]
  },
  {
   "cell_type": "code",
   "execution_count": 33,
   "metadata": {},
   "outputs": [
    {
     "data": {
      "text/plain": [
       "1.4857253671305304e-07"
      ]
     },
     "execution_count": 33,
     "metadata": {},
     "output_type": "execute_result"
    }
   ],
   "source": [
    "np.linalg.norm(v_emb_diff) / np.linalg.norm(v_emb_hrzn)"
   ]
  },
  {
   "cell_type": "markdown",
   "metadata": {},
   "source": [
    "*Difference in Earth-Moon Barycenter relative position vs. Sun*"
   ]
  },
  {
   "cell_type": "code",
   "execution_count": 34,
   "metadata": {},
   "outputs": [
    {
     "data": {
      "text/plain": [
       "array([ 3.16746421e-08, -8.69851491e-09, -1.40085992e-07])"
      ]
     },
     "execution_count": 34,
     "metadata": {},
     "output_type": "execute_result"
    }
   ],
   "source": [
    "q_sun_emb_diff = q_sun_emb_jpl - q_sun_emb_hrzn\n",
    "q_sun_emb_diff"
   ]
  },
  {
   "cell_type": "code",
   "execution_count": 36,
   "metadata": {},
   "outputs": [
    {
     "data": {
      "text/plain": [
       "1.4388548300229448e-07"
      ]
     },
     "execution_count": 36,
     "metadata": {},
     "output_type": "execute_result"
    }
   ],
   "source": [
    "np.linalg.norm(q_sun_emb_diff)"
   ]
  },
  {
   "cell_type": "code",
   "execution_count": 37,
   "metadata": {},
   "outputs": [
    {
     "data": {
      "text/plain": [
       "array([ 1.49572275e-10,  5.28025890e-10, -2.45765275e-09])"
      ]
     },
     "execution_count": 37,
     "metadata": {},
     "output_type": "execute_result"
    }
   ],
   "source": [
    "v_sun_emb_diff = v_sun_emb_jpl - v_sun_emb_hrzn\n",
    "v_sun_emb_diff"
   ]
  },
  {
   "cell_type": "code",
   "execution_count": 40,
   "metadata": {},
   "outputs": [
    {
     "data": {
      "text/plain": [
       "1.4854800848565443e-07"
      ]
     },
     "execution_count": 40,
     "metadata": {},
     "output_type": "execute_result"
    }
   ],
   "source": [
    "np.linalg.norm(v_sun_emb_diff) / np.linalg.norm(v_sun_emb_hrzn)"
   ]
  },
  {
   "cell_type": "code",
   "execution_count": null,
   "metadata": {},
   "outputs": [],
   "source": []
  }
 ],
 "metadata": {
  "kernelspec": {
   "display_name": "Python [conda env:kepler]",
   "language": "python",
   "name": "conda-env-kepler-py"
  },
  "language_info": {
   "codemirror_mode": {
    "name": "ipython",
    "version": 3
   },
   "file_extension": ".py",
   "mimetype": "text/x-python",
   "name": "python",
   "nbconvert_exporter": "python",
   "pygments_lexer": "ipython3",
   "version": "3.7.4"
  }
 },
 "nbformat": 4,
 "nbformat_minor": 4
}
