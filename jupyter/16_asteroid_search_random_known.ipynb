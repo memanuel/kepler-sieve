{
 "cells": [
  {
   "cell_type": "code",
   "execution_count": 1,
   "metadata": {},
   "outputs": [],
   "source": [
    "# Core\n",
    "import numpy as np\n",
    "import pandas as pd\n",
    "\n",
    "# Tensorflow / ML\n",
    "import tensorflow as tf\n",
    "from tensorflow.python.keras import backend as K\n",
    "\n",
    "# Plotting\n",
    "import matplotlib.pyplot as plt\n",
    "import matplotlib as mpl\n",
    "\n",
    "# Utility\n",
    "import time"
   ]
  },
  {
   "cell_type": "code",
   "execution_count": 2,
   "metadata": {},
   "outputs": [
    {
     "name": "stdout",
     "output_type": "stream",
     "text": [
      "Found 4 GPUs.  Setting memory growth = True.\n"
     ]
    }
   ],
   "source": [
    "# Configure TF GPU growth\n",
    "import kepler_sieve\n",
    "from tf_utils import gpu_grow_memory\n",
    "gpu_grow_memory(verbose=True)"
   ]
  },
  {
   "cell_type": "code",
   "execution_count": 3,
   "metadata": {},
   "outputs": [],
   "source": [
    "# MSE Imports\n",
    "from asteroid_element import load_ast_elt\n",
    "from candidate_element import asteroid_elts, random_elts, elts_add_mixture_params, elts_add_H\n",
    "from random_elements import best_random_elts, make_ztf_ast\n",
    "from ztf_ast import load_ztf_nearest_ast, calc_hit_freq\n",
    "from ztf_element import load_ztf_batch, make_ztf_batch, ztf_score_by_elt, ztf_elt_summary\n",
    "from asteroid_model import AsteroidPosition, AsteroidDirection, make_model_ast_pos\n",
    "from asteroid_search_layers import CandidateElements, TrajectoryScore\n",
    "from asteroid_search_model import AsteroidSearchModel, make_opt_adam\n",
    "from asteroid_search_report import traj_diff\n",
    "from nearest_asteroid import nearest_ast_elt_cart, nearest_ast_elt_cov, elt_q_norm\n",
    "from element_eda import score_by_elt\n",
    "from asteroid_dataframe import calc_ast_data, spline_ast_vec_df\n",
    "from astro_utils import deg2dist, dist2deg, dist2sec"
   ]
  },
  {
   "cell_type": "code",
   "execution_count": 4,
   "metadata": {},
   "outputs": [],
   "source": [
    "# Aliases\n",
    "keras = tf.keras\n",
    "\n",
    "# Constants\n",
    "dtype = tf.float32\n",
    "dtype_np = np.float32\n",
    "space_dims = 3"
   ]
  },
  {
   "cell_type": "code",
   "execution_count": 5,
   "metadata": {},
   "outputs": [],
   "source": [
    "# Set plot style variables\n",
    "mpl.rcParams['figure.figsize'] = [16.0, 10.0]\n",
    "mpl.rcParams['font.size'] = 16"
   ]
  },
  {
   "cell_type": "markdown",
   "metadata": {},
   "source": [
    "## Load ZTF Data and Batch of Orbital Elements"
   ]
  },
  {
   "cell_type": "code",
   "execution_count": 6,
   "metadata": {},
   "outputs": [],
   "source": [
    "# Load orbital elements for known asteroids\n",
    "ast_elt = load_ast_elt()\n",
    "\n",
    "# Number of asteroids\n",
    "N_ast = ast_elt.shape[0]"
   ]
  },
  {
   "cell_type": "code",
   "execution_count": 7,
   "metadata": {},
   "outputs": [],
   "source": [
    "# Parameters to build random orbital elements and ztf_ast\n",
    "random_seed = 0\n",
    "known_ast = True\n",
    "batch_size_init = 1024\n",
    "batch_size = 64\n",
    "thresh_deg = 2.0"
   ]
  },
  {
   "cell_type": "code",
   "execution_count": 8,
   "metadata": {},
   "outputs": [],
   "source": [
    "# Load ztf nearest asteroid data for known asteroids\n",
    "ztf_ast = make_ztf_ast(known_ast=known_ast)"
   ]
  },
  {
   "cell_type": "code",
   "execution_count": 9,
   "metadata": {},
   "outputs": [
    {
     "data": {
      "text/html": [
       "<div>\n",
       "<style scoped>\n",
       "    .dataframe tbody tr th:only-of-type {\n",
       "        vertical-align: middle;\n",
       "    }\n",
       "\n",
       "    .dataframe tbody tr th {\n",
       "        vertical-align: top;\n",
       "    }\n",
       "\n",
       "    .dataframe thead th {\n",
       "        text-align: right;\n",
       "    }\n",
       "</style>\n",
       "<table border=\"1\" class=\"dataframe\">\n",
       "  <thead>\n",
       "    <tr style=\"text-align: right;\">\n",
       "      <th></th>\n",
       "      <th>ztf_id</th>\n",
       "      <th>ObjectID</th>\n",
       "      <th>CandidateID</th>\n",
       "      <th>TimeStampID</th>\n",
       "      <th>mjd</th>\n",
       "      <th>ra</th>\n",
       "      <th>dec</th>\n",
       "      <th>ux</th>\n",
       "      <th>uy</th>\n",
       "      <th>uz</th>\n",
       "      <th>mag_app</th>\n",
       "      <th>asteroid_prob</th>\n",
       "      <th>nearest_ast_num</th>\n",
       "      <th>nearest_ast_dist</th>\n",
       "      <th>ast_ra</th>\n",
       "      <th>ast_dec</th>\n",
       "      <th>ast_ux</th>\n",
       "      <th>ast_uy</th>\n",
       "      <th>ast_uz</th>\n",
       "      <th>is_hit</th>\n",
       "    </tr>\n",
       "  </thead>\n",
       "  <tbody>\n",
       "    <tr>\n",
       "      <th>602</th>\n",
       "      <td>602</td>\n",
       "      <td>b'ZTF18acqvjbw'</td>\n",
       "      <td>689314713015015008</td>\n",
       "      <td>16951</td>\n",
       "      <td>58443.314711</td>\n",
       "      <td>63.025354</td>\n",
       "      <td>17.655906</td>\n",
       "      <td>0.432230</td>\n",
       "      <td>0.899796</td>\n",
       "      <td>-0.059531</td>\n",
       "      <td>18.519199</td>\n",
       "      <td>1.000000</td>\n",
       "      <td>135355</td>\n",
       "      <td>3.663691e-06</td>\n",
       "      <td>63.025567</td>\n",
       "      <td>17.655961</td>\n",
       "      <td>0.432226</td>\n",
       "      <td>0.899798</td>\n",
       "      <td>-0.059531</td>\n",
       "      <td>True</td>\n",
       "    </tr>\n",
       "    <tr>\n",
       "      <th>649</th>\n",
       "      <td>649</td>\n",
       "      <td>b'ZTF18acrcadh'</td>\n",
       "      <td>693308213515015017</td>\n",
       "      <td>17096</td>\n",
       "      <td>58447.308218</td>\n",
       "      <td>113.354357</td>\n",
       "      <td>33.962194</td>\n",
       "      <td>-0.328791</td>\n",
       "      <td>0.920837</td>\n",
       "      <td>0.209659</td>\n",
       "      <td>18.055201</td>\n",
       "      <td>1.000000</td>\n",
       "      <td>29076</td>\n",
       "      <td>8.997226e-07</td>\n",
       "      <td>113.354324</td>\n",
       "      <td>33.962150</td>\n",
       "      <td>-0.328790</td>\n",
       "      <td>0.920837</td>\n",
       "      <td>0.209658</td>\n",
       "      <td>True</td>\n",
       "    </tr>\n",
       "    <tr>\n",
       "      <th>811</th>\n",
       "      <td>811</td>\n",
       "      <td>b'ZTF18abwawbk'</td>\n",
       "      <td>621435901715015019</td>\n",
       "      <td>9621</td>\n",
       "      <td>58375.435903</td>\n",
       "      <td>32.348343</td>\n",
       "      <td>11.149056</td>\n",
       "      <td>0.828867</td>\n",
       "      <td>0.558563</td>\n",
       "      <td>-0.031414</td>\n",
       "      <td>19.707199</td>\n",
       "      <td>1.000000</td>\n",
       "      <td>101787</td>\n",
       "      <td>2.084178e-06</td>\n",
       "      <td>32.348465</td>\n",
       "      <td>11.149059</td>\n",
       "      <td>0.828866</td>\n",
       "      <td>0.558565</td>\n",
       "      <td>-0.031414</td>\n",
       "      <td>True</td>\n",
       "    </tr>\n",
       "    <tr>\n",
       "      <th>833</th>\n",
       "      <td>833</td>\n",
       "      <td>b'ZTF18acurwxa'</td>\n",
       "      <td>707509454415015012</td>\n",
       "      <td>18339</td>\n",
       "      <td>58461.509456</td>\n",
       "      <td>103.310341</td>\n",
       "      <td>27.540611</td>\n",
       "      <td>-0.204137</td>\n",
       "      <td>0.975586</td>\n",
       "      <td>0.080995</td>\n",
       "      <td>19.427401</td>\n",
       "      <td>1.000000</td>\n",
       "      <td>138763</td>\n",
       "      <td>4.068908e-06</td>\n",
       "      <td>103.310581</td>\n",
       "      <td>27.540515</td>\n",
       "      <td>-0.204141</td>\n",
       "      <td>0.975585</td>\n",
       "      <td>0.080994</td>\n",
       "      <td>True</td>\n",
       "    </tr>\n",
       "    <tr>\n",
       "      <th>890</th>\n",
       "      <td>890</td>\n",
       "      <td>b'ZTF18acuiphp'</td>\n",
       "      <td>707257536115015009</td>\n",
       "      <td>18272</td>\n",
       "      <td>58461.257535</td>\n",
       "      <td>48.496514</td>\n",
       "      <td>22.452973</td>\n",
       "      <td>0.612431</td>\n",
       "      <td>0.786949</td>\n",
       "      <td>0.075091</td>\n",
       "      <td>19.038000</td>\n",
       "      <td>0.976392</td>\n",
       "      <td>105289</td>\n",
       "      <td>3.491132e-06</td>\n",
       "      <td>48.496726</td>\n",
       "      <td>22.453012</td>\n",
       "      <td>0.612428</td>\n",
       "      <td>0.786952</td>\n",
       "      <td>0.075091</td>\n",
       "      <td>True</td>\n",
       "    </tr>\n",
       "    <tr>\n",
       "      <th>...</th>\n",
       "      <td>...</td>\n",
       "      <td>...</td>\n",
       "      <td>...</td>\n",
       "      <td>...</td>\n",
       "      <td>...</td>\n",
       "      <td>...</td>\n",
       "      <td>...</td>\n",
       "      <td>...</td>\n",
       "      <td>...</td>\n",
       "      <td>...</td>\n",
       "      <td>...</td>\n",
       "      <td>...</td>\n",
       "      <td>...</td>\n",
       "      <td>...</td>\n",
       "      <td>...</td>\n",
       "      <td>...</td>\n",
       "      <td>...</td>\n",
       "      <td>...</td>\n",
       "      <td>...</td>\n",
       "      <td>...</td>\n",
       "    </tr>\n",
       "    <tr>\n",
       "      <th>5697829</th>\n",
       "      <td>5697829</td>\n",
       "      <td>b'ZTF20aarepii'</td>\n",
       "      <td>1151522393415015017</td>\n",
       "      <td>97090</td>\n",
       "      <td>58905.522396</td>\n",
       "      <td>236.892710</td>\n",
       "      <td>-2.341055</td>\n",
       "      <td>-0.545753</td>\n",
       "      <td>-0.784135</td>\n",
       "      <td>0.295442</td>\n",
       "      <td>15.089800</td>\n",
       "      <td>1.000000</td>\n",
       "      <td>727</td>\n",
       "      <td>2.473898e-06</td>\n",
       "      <td>236.892569</td>\n",
       "      <td>-2.341034</td>\n",
       "      <td>-0.545755</td>\n",
       "      <td>-0.784134</td>\n",
       "      <td>0.295442</td>\n",
       "      <td>True</td>\n",
       "    </tr>\n",
       "    <tr>\n",
       "      <th>5697832</th>\n",
       "      <td>5697832</td>\n",
       "      <td>b'ZTF20aareowa'</td>\n",
       "      <td>1151522390315015003</td>\n",
       "      <td>97090</td>\n",
       "      <td>58905.522396</td>\n",
       "      <td>237.654792</td>\n",
       "      <td>-5.909325</td>\n",
       "      <td>-0.532176</td>\n",
       "      <td>-0.811960</td>\n",
       "      <td>0.239813</td>\n",
       "      <td>15.717300</td>\n",
       "      <td>1.000000</td>\n",
       "      <td>625</td>\n",
       "      <td>2.355026e-06</td>\n",
       "      <td>237.654657</td>\n",
       "      <td>-5.909328</td>\n",
       "      <td>-0.532178</td>\n",
       "      <td>-0.811958</td>\n",
       "      <td>0.239813</td>\n",
       "      <td>True</td>\n",
       "    </tr>\n",
       "    <tr>\n",
       "      <th>5697833</th>\n",
       "      <td>5697833</td>\n",
       "      <td>b'ZTF20aareowm'</td>\n",
       "      <td>1151521944715015006</td>\n",
       "      <td>97089</td>\n",
       "      <td>58905.521944</td>\n",
       "      <td>236.239354</td>\n",
       "      <td>-9.304550</td>\n",
       "      <td>-0.548413</td>\n",
       "      <td>-0.817041</td>\n",
       "      <td>0.178007</td>\n",
       "      <td>15.695800</td>\n",
       "      <td>1.000000</td>\n",
       "      <td>464</td>\n",
       "      <td>2.205903e-06</td>\n",
       "      <td>236.239228</td>\n",
       "      <td>-9.304526</td>\n",
       "      <td>-0.548415</td>\n",
       "      <td>-0.817040</td>\n",
       "      <td>0.178007</td>\n",
       "      <td>True</td>\n",
       "    </tr>\n",
       "    <tr>\n",
       "      <th>5697838</th>\n",
       "      <td>5697838</td>\n",
       "      <td>b'ZTF20aareowf'</td>\n",
       "      <td>1151521946215015005</td>\n",
       "      <td>97089</td>\n",
       "      <td>58905.521944</td>\n",
       "      <td>234.674482</td>\n",
       "      <td>-7.771349</td>\n",
       "      <td>-0.572910</td>\n",
       "      <td>-0.795468</td>\n",
       "      <td>0.197496</td>\n",
       "      <td>16.917900</td>\n",
       "      <td>1.000000</td>\n",
       "      <td>2879</td>\n",
       "      <td>4.163074e-06</td>\n",
       "      <td>234.674242</td>\n",
       "      <td>-7.771368</td>\n",
       "      <td>-0.572914</td>\n",
       "      <td>-0.795466</td>\n",
       "      <td>0.197494</td>\n",
       "      <td>True</td>\n",
       "    </tr>\n",
       "    <tr>\n",
       "      <th>5697844</th>\n",
       "      <td>5697844</td>\n",
       "      <td>b'ZTF20aarepbq'</td>\n",
       "      <td>1151522853015015009</td>\n",
       "      <td>97091</td>\n",
       "      <td>58905.522859</td>\n",
       "      <td>238.922293</td>\n",
       "      <td>-4.378222</td>\n",
       "      <td>-0.514694</td>\n",
       "      <td>-0.813867</td>\n",
       "      <td>0.269649</td>\n",
       "      <td>16.691000</td>\n",
       "      <td>1.000000</td>\n",
       "      <td>1592</td>\n",
       "      <td>6.520056e-06</td>\n",
       "      <td>238.921919</td>\n",
       "      <td>-4.378194</td>\n",
       "      <td>-0.514699</td>\n",
       "      <td>-0.813864</td>\n",
       "      <td>0.269648</td>\n",
       "      <td>True</td>\n",
       "    </tr>\n",
       "  </tbody>\n",
       "</table>\n",
       "<p>3747726 rows × 20 columns</p>\n",
       "</div>"
      ],
      "text/plain": [
       "          ztf_id         ObjectID          CandidateID  TimeStampID  \\\n",
       "602          602  b'ZTF18acqvjbw'   689314713015015008        16951   \n",
       "649          649  b'ZTF18acrcadh'   693308213515015017        17096   \n",
       "811          811  b'ZTF18abwawbk'   621435901715015019         9621   \n",
       "833          833  b'ZTF18acurwxa'   707509454415015012        18339   \n",
       "890          890  b'ZTF18acuiphp'   707257536115015009        18272   \n",
       "...          ...              ...                  ...          ...   \n",
       "5697829  5697829  b'ZTF20aarepii'  1151522393415015017        97090   \n",
       "5697832  5697832  b'ZTF20aareowa'  1151522390315015003        97090   \n",
       "5697833  5697833  b'ZTF20aareowm'  1151521944715015006        97089   \n",
       "5697838  5697838  b'ZTF20aareowf'  1151521946215015005        97089   \n",
       "5697844  5697844  b'ZTF20aarepbq'  1151522853015015009        97091   \n",
       "\n",
       "                  mjd          ra        dec        ux        uy        uz  \\\n",
       "602      58443.314711   63.025354  17.655906  0.432230  0.899796 -0.059531   \n",
       "649      58447.308218  113.354357  33.962194 -0.328791  0.920837  0.209659   \n",
       "811      58375.435903   32.348343  11.149056  0.828867  0.558563 -0.031414   \n",
       "833      58461.509456  103.310341  27.540611 -0.204137  0.975586  0.080995   \n",
       "890      58461.257535   48.496514  22.452973  0.612431  0.786949  0.075091   \n",
       "...               ...         ...        ...       ...       ...       ...   \n",
       "5697829  58905.522396  236.892710  -2.341055 -0.545753 -0.784135  0.295442   \n",
       "5697832  58905.522396  237.654792  -5.909325 -0.532176 -0.811960  0.239813   \n",
       "5697833  58905.521944  236.239354  -9.304550 -0.548413 -0.817041  0.178007   \n",
       "5697838  58905.521944  234.674482  -7.771349 -0.572910 -0.795468  0.197496   \n",
       "5697844  58905.522859  238.922293  -4.378222 -0.514694 -0.813867  0.269649   \n",
       "\n",
       "           mag_app  asteroid_prob  nearest_ast_num  nearest_ast_dist  \\\n",
       "602      18.519199       1.000000           135355      3.663691e-06   \n",
       "649      18.055201       1.000000            29076      8.997226e-07   \n",
       "811      19.707199       1.000000           101787      2.084178e-06   \n",
       "833      19.427401       1.000000           138763      4.068908e-06   \n",
       "890      19.038000       0.976392           105289      3.491132e-06   \n",
       "...            ...            ...              ...               ...   \n",
       "5697829  15.089800       1.000000              727      2.473898e-06   \n",
       "5697832  15.717300       1.000000              625      2.355026e-06   \n",
       "5697833  15.695800       1.000000              464      2.205903e-06   \n",
       "5697838  16.917900       1.000000             2879      4.163074e-06   \n",
       "5697844  16.691000       1.000000             1592      6.520056e-06   \n",
       "\n",
       "             ast_ra    ast_dec    ast_ux    ast_uy    ast_uz  is_hit  \n",
       "602       63.025567  17.655961  0.432226  0.899798 -0.059531    True  \n",
       "649      113.354324  33.962150 -0.328790  0.920837  0.209658    True  \n",
       "811       32.348465  11.149059  0.828866  0.558565 -0.031414    True  \n",
       "833      103.310581  27.540515 -0.204141  0.975585  0.080994    True  \n",
       "890       48.496726  22.453012  0.612428  0.786952  0.075091    True  \n",
       "...             ...        ...       ...       ...       ...     ...  \n",
       "5697829  236.892569  -2.341034 -0.545755 -0.784134  0.295442    True  \n",
       "5697832  237.654657  -5.909328 -0.532178 -0.811958  0.239813    True  \n",
       "5697833  236.239228  -9.304526 -0.548415 -0.817040  0.178007    True  \n",
       "5697838  234.674242  -7.771368 -0.572914 -0.795466  0.197494    True  \n",
       "5697844  238.921919  -4.378194 -0.514699 -0.813864  0.269648    True  \n",
       "\n",
       "[3747726 rows x 20 columns]"
      ]
     },
     "execution_count": 9,
     "metadata": {},
     "output_type": "execute_result"
    }
   ],
   "source": [
    "# Review ztf_ast\n",
    "ztf_ast"
   ]
  },
  {
   "cell_type": "code",
   "execution_count": 10,
   "metadata": {},
   "outputs": [],
   "source": [
    "# Best random elements\n",
    "elts = best_random_elts(random_seed=random_seed, known_ast=known_ast, \n",
    "                        batch_size_init=batch_size_init, batch_size=batch_size, thresh_deg=thresh_deg)"
   ]
  },
  {
   "cell_type": "code",
   "execution_count": 11,
   "metadata": {},
   "outputs": [
    {
     "data": {
      "text/html": [
       "<div>\n",
       "<style scoped>\n",
       "    .dataframe tbody tr th:only-of-type {\n",
       "        vertical-align: middle;\n",
       "    }\n",
       "\n",
       "    .dataframe tbody tr th {\n",
       "        vertical-align: top;\n",
       "    }\n",
       "\n",
       "    .dataframe thead th {\n",
       "        text-align: right;\n",
       "    }\n",
       "</style>\n",
       "<table border=\"1\" class=\"dataframe\">\n",
       "  <thead>\n",
       "    <tr style=\"text-align: right;\">\n",
       "      <th></th>\n",
       "      <th>element_id</th>\n",
       "      <th>a</th>\n",
       "      <th>e</th>\n",
       "      <th>f</th>\n",
       "      <th>inc</th>\n",
       "      <th>Omega</th>\n",
       "      <th>omega</th>\n",
       "      <th>epoch</th>\n",
       "      <th>num_obs</th>\n",
       "      <th>score</th>\n",
       "      <th>t_score</th>\n",
       "    </tr>\n",
       "  </thead>\n",
       "  <tbody>\n",
       "    <tr>\n",
       "      <th>0</th>\n",
       "      <td>0</td>\n",
       "      <td>3.064054</td>\n",
       "      <td>0.121235</td>\n",
       "      <td>-1.291546</td>\n",
       "      <td>0.068009</td>\n",
       "      <td>0.662207</td>\n",
       "      <td>0.935398</td>\n",
       "      <td>58600.0</td>\n",
       "      <td>12711</td>\n",
       "      <td>998.002460</td>\n",
       "      <td>8.852007</td>\n",
       "    </tr>\n",
       "    <tr>\n",
       "      <th>1</th>\n",
       "      <td>1</td>\n",
       "      <td>2.771068</td>\n",
       "      <td>0.151421</td>\n",
       "      <td>-0.531263</td>\n",
       "      <td>0.068958</td>\n",
       "      <td>1.364763</td>\n",
       "      <td>6.111150</td>\n",
       "      <td>58600.0</td>\n",
       "      <td>11901</td>\n",
       "      <td>886.807208</td>\n",
       "      <td>8.129007</td>\n",
       "    </tr>\n",
       "    <tr>\n",
       "      <th>2</th>\n",
       "      <td>2</td>\n",
       "      <td>3.172947</td>\n",
       "      <td>0.095819</td>\n",
       "      <td>1.903106</td>\n",
       "      <td>0.035792</td>\n",
       "      <td>3.984825</td>\n",
       "      <td>0.687484</td>\n",
       "      <td>58600.0</td>\n",
       "      <td>12572</td>\n",
       "      <td>781.406566</td>\n",
       "      <td>6.969071</td>\n",
       "    </tr>\n",
       "    <tr>\n",
       "      <th>3</th>\n",
       "      <td>3</td>\n",
       "      <td>2.697356</td>\n",
       "      <td>0.098236</td>\n",
       "      <td>0.132486</td>\n",
       "      <td>0.025427</td>\n",
       "      <td>1.610715</td>\n",
       "      <td>5.259525</td>\n",
       "      <td>58600.0</td>\n",
       "      <td>9835</td>\n",
       "      <td>767.421579</td>\n",
       "      <td>7.738322</td>\n",
       "    </tr>\n",
       "    <tr>\n",
       "      <th>4</th>\n",
       "      <td>4</td>\n",
       "      <td>3.113809</td>\n",
       "      <td>0.257043</td>\n",
       "      <td>2.596678</td>\n",
       "      <td>0.090822</td>\n",
       "      <td>0.106255</td>\n",
       "      <td>4.320585</td>\n",
       "      <td>58600.0</td>\n",
       "      <td>9129</td>\n",
       "      <td>697.797101</td>\n",
       "      <td>7.303273</td>\n",
       "    </tr>\n",
       "    <tr>\n",
       "      <th>...</th>\n",
       "      <td>...</td>\n",
       "      <td>...</td>\n",
       "      <td>...</td>\n",
       "      <td>...</td>\n",
       "      <td>...</td>\n",
       "      <td>...</td>\n",
       "      <td>...</td>\n",
       "      <td>...</td>\n",
       "      <td>...</td>\n",
       "      <td>...</td>\n",
       "      <td>...</td>\n",
       "    </tr>\n",
       "    <tr>\n",
       "      <th>59</th>\n",
       "      <td>59</td>\n",
       "      <td>1.890665</td>\n",
       "      <td>0.083441</td>\n",
       "      <td>3.132056</td>\n",
       "      <td>0.035993</td>\n",
       "      <td>0.656159</td>\n",
       "      <td>3.255417</td>\n",
       "      <td>58600.0</td>\n",
       "      <td>9064</td>\n",
       "      <td>280.408751</td>\n",
       "      <td>2.945314</td>\n",
       "    </tr>\n",
       "    <tr>\n",
       "      <th>60</th>\n",
       "      <td>60</td>\n",
       "      <td>3.168699</td>\n",
       "      <td>0.088259</td>\n",
       "      <td>0.853523</td>\n",
       "      <td>0.052655</td>\n",
       "      <td>5.188591</td>\n",
       "      <td>0.902693</td>\n",
       "      <td>58600.0</td>\n",
       "      <td>10197</td>\n",
       "      <td>280.102124</td>\n",
       "      <td>2.773832</td>\n",
       "    </tr>\n",
       "    <tr>\n",
       "      <th>61</th>\n",
       "      <td>61</td>\n",
       "      <td>2.255124</td>\n",
       "      <td>0.055124</td>\n",
       "      <td>-1.131100</td>\n",
       "      <td>0.065725</td>\n",
       "      <td>4.743550</td>\n",
       "      <td>1.882832</td>\n",
       "      <td>58600.0</td>\n",
       "      <td>6700</td>\n",
       "      <td>279.483345</td>\n",
       "      <td>3.414432</td>\n",
       "    </tr>\n",
       "    <tr>\n",
       "      <th>62</th>\n",
       "      <td>62</td>\n",
       "      <td>2.325415</td>\n",
       "      <td>0.176758</td>\n",
       "      <td>-0.619556</td>\n",
       "      <td>0.046713</td>\n",
       "      <td>3.318604</td>\n",
       "      <td>2.235867</td>\n",
       "      <td>58600.0</td>\n",
       "      <td>4532</td>\n",
       "      <td>277.344008</td>\n",
       "      <td>4.119778</td>\n",
       "    </tr>\n",
       "    <tr>\n",
       "      <th>63</th>\n",
       "      <td>63</td>\n",
       "      <td>2.390297</td>\n",
       "      <td>0.049497</td>\n",
       "      <td>-5.345717</td>\n",
       "      <td>0.062828</td>\n",
       "      <td>2.081017</td>\n",
       "      <td>3.088184</td>\n",
       "      <td>58600.0</td>\n",
       "      <td>9701</td>\n",
       "      <td>276.763261</td>\n",
       "      <td>2.809960</td>\n",
       "    </tr>\n",
       "  </tbody>\n",
       "</table>\n",
       "<p>64 rows × 11 columns</p>\n",
       "</div>"
      ],
      "text/plain": [
       "    element_id         a         e         f       inc     Omega     omega  \\\n",
       "0            0  3.064054  0.121235 -1.291546  0.068009  0.662207  0.935398   \n",
       "1            1  2.771068  0.151421 -0.531263  0.068958  1.364763  6.111150   \n",
       "2            2  3.172947  0.095819  1.903106  0.035792  3.984825  0.687484   \n",
       "3            3  2.697356  0.098236  0.132486  0.025427  1.610715  5.259525   \n",
       "4            4  3.113809  0.257043  2.596678  0.090822  0.106255  4.320585   \n",
       "..         ...       ...       ...       ...       ...       ...       ...   \n",
       "59          59  1.890665  0.083441  3.132056  0.035993  0.656159  3.255417   \n",
       "60          60  3.168699  0.088259  0.853523  0.052655  5.188591  0.902693   \n",
       "61          61  2.255124  0.055124 -1.131100  0.065725  4.743550  1.882832   \n",
       "62          62  2.325415  0.176758 -0.619556  0.046713  3.318604  2.235867   \n",
       "63          63  2.390297  0.049497 -5.345717  0.062828  2.081017  3.088184   \n",
       "\n",
       "      epoch  num_obs       score   t_score  \n",
       "0   58600.0    12711  998.002460  8.852007  \n",
       "1   58600.0    11901  886.807208  8.129007  \n",
       "2   58600.0    12572  781.406566  6.969071  \n",
       "3   58600.0     9835  767.421579  7.738322  \n",
       "4   58600.0     9129  697.797101  7.303273  \n",
       "..      ...      ...         ...       ...  \n",
       "59  58600.0     9064  280.408751  2.945314  \n",
       "60  58600.0    10197  280.102124  2.773832  \n",
       "61  58600.0     6700  279.483345  3.414432  \n",
       "62  58600.0     4532  277.344008  4.119778  \n",
       "63  58600.0     9701  276.763261  2.809960  \n",
       "\n",
       "[64 rows x 11 columns]"
      ]
     },
     "execution_count": 11,
     "metadata": {},
     "output_type": "execute_result"
    }
   ],
   "source": [
    "# Review best random elements\n",
    "elts"
   ]
  },
  {
   "cell_type": "markdown",
   "metadata": {},
   "source": [
    "## Batches of ZTF Data Near Initial Candidate Elements"
   ]
  },
  {
   "cell_type": "code",
   "execution_count": 12,
   "metadata": {},
   "outputs": [],
   "source": [
    "# Arguments to make_ztf_batch\n",
    "near_ast = False\n",
    "regenerate = False"
   ]
  },
  {
   "cell_type": "code",
   "execution_count": 13,
   "metadata": {},
   "outputs": [],
   "source": [
    "# Load perturbed element batch\n",
    "ztf_elt = load_ztf_batch(elts=elts, ztf=ztf_ast, thresh_deg=thresh_deg, near_ast=near_ast, regenerate=regenerate)"
   ]
  },
  {
   "cell_type": "code",
   "execution_count": 14,
   "metadata": {},
   "outputs": [
    {
     "data": {
      "text/html": [
       "<div>\n",
       "<style scoped>\n",
       "    .dataframe tbody tr th:only-of-type {\n",
       "        vertical-align: middle;\n",
       "    }\n",
       "\n",
       "    .dataframe tbody tr th {\n",
       "        vertical-align: top;\n",
       "    }\n",
       "\n",
       "    .dataframe thead th {\n",
       "        text-align: right;\n",
       "    }\n",
       "</style>\n",
       "<table border=\"1\" class=\"dataframe\">\n",
       "  <thead>\n",
       "    <tr style=\"text-align: right;\">\n",
       "      <th></th>\n",
       "      <th>ztf_id</th>\n",
       "      <th>element_id</th>\n",
       "      <th>ObjectID</th>\n",
       "      <th>CandidateID</th>\n",
       "      <th>TimeStampID</th>\n",
       "      <th>mjd</th>\n",
       "      <th>ra</th>\n",
       "      <th>dec</th>\n",
       "      <th>ux</th>\n",
       "      <th>uy</th>\n",
       "      <th>...</th>\n",
       "      <th>elt_ux</th>\n",
       "      <th>elt_uy</th>\n",
       "      <th>elt_uz</th>\n",
       "      <th>elt_r</th>\n",
       "      <th>s</th>\n",
       "      <th>s_sec</th>\n",
       "      <th>z</th>\n",
       "      <th>v</th>\n",
       "      <th>is_hit</th>\n",
       "      <th>is_match</th>\n",
       "    </tr>\n",
       "  </thead>\n",
       "  <tbody>\n",
       "    <tr>\n",
       "      <th>0</th>\n",
       "      <td>357652</td>\n",
       "      <td>0</td>\n",
       "      <td>b'ZTF19abjggig'</td>\n",
       "      <td>938492372315015003</td>\n",
       "      <td>1268</td>\n",
       "      <td>58692.492373</td>\n",
       "      <td>53.778435</td>\n",
       "      <td>17.745455</td>\n",
       "      <td>0.562794</td>\n",
       "      <td>0.826188</td>\n",
       "      <td>...</td>\n",
       "      <td>0.554305</td>\n",
       "      <td>0.832313</td>\n",
       "      <td>-0.001318</td>\n",
       "      <td>3.030342</td>\n",
       "      <td>0.026805</td>\n",
       "      <td>5529.148243</td>\n",
       "      <td>0.999641</td>\n",
       "      <td>0.589752</td>\n",
       "      <td>False</td>\n",
       "      <td>False</td>\n",
       "    </tr>\n",
       "    <tr>\n",
       "      <th>1</th>\n",
       "      <td>358253</td>\n",
       "      <td>0</td>\n",
       "      <td>b'ZTF19abjgfhg'</td>\n",
       "      <td>938492373915015003</td>\n",
       "      <td>1268</td>\n",
       "      <td>58692.492373</td>\n",
       "      <td>53.995882</td>\n",
       "      <td>19.505049</td>\n",
       "      <td>0.554108</td>\n",
       "      <td>0.832439</td>\n",
       "      <td>...</td>\n",
       "      <td>0.554305</td>\n",
       "      <td>0.832313</td>\n",
       "      <td>-0.001318</td>\n",
       "      <td>3.030342</td>\n",
       "      <td>0.004338</td>\n",
       "      <td>894.747682</td>\n",
       "      <td>0.999991</td>\n",
       "      <td>0.015445</td>\n",
       "      <td>False</td>\n",
       "      <td>False</td>\n",
       "    </tr>\n",
       "    <tr>\n",
       "      <th>2</th>\n",
       "      <td>359127</td>\n",
       "      <td>0</td>\n",
       "      <td>b'ZTF19abjgfhd'</td>\n",
       "      <td>938492373915015019</td>\n",
       "      <td>1268</td>\n",
       "      <td>58692.492373</td>\n",
       "      <td>53.303148</td>\n",
       "      <td>19.154581</td>\n",
       "      <td>0.564497</td>\n",
       "      <td>0.825435</td>\n",
       "      <td>...</td>\n",
       "      <td>0.554305</td>\n",
       "      <td>0.832313</td>\n",
       "      <td>-0.001318</td>\n",
       "      <td>3.030342</td>\n",
       "      <td>0.012343</td>\n",
       "      <td>2545.891323</td>\n",
       "      <td>0.999924</td>\n",
       "      <td>0.125041</td>\n",
       "      <td>False</td>\n",
       "      <td>False</td>\n",
       "    </tr>\n",
       "    <tr>\n",
       "      <th>3</th>\n",
       "      <td>359244</td>\n",
       "      <td>0</td>\n",
       "      <td>b'ZTF19abjgfqh'</td>\n",
       "      <td>938492373315015008</td>\n",
       "      <td>1268</td>\n",
       "      <td>58692.492373</td>\n",
       "      <td>54.457412</td>\n",
       "      <td>20.235852</td>\n",
       "      <td>0.545428</td>\n",
       "      <td>0.838047</td>\n",
       "      <td>...</td>\n",
       "      <td>0.554305</td>\n",
       "      <td>0.832313</td>\n",
       "      <td>-0.001318</td>\n",
       "      <td>3.030342</td>\n",
       "      <td>0.018328</td>\n",
       "      <td>3780.523027</td>\n",
       "      <td>0.999832</td>\n",
       "      <td>0.275722</td>\n",
       "      <td>False</td>\n",
       "      <td>False</td>\n",
       "    </tr>\n",
       "    <tr>\n",
       "      <th>4</th>\n",
       "      <td>359275</td>\n",
       "      <td>0</td>\n",
       "      <td>b'ZTF19abjgfjl'</td>\n",
       "      <td>938492371615015001</td>\n",
       "      <td>1268</td>\n",
       "      <td>58692.492373</td>\n",
       "      <td>55.224952</td>\n",
       "      <td>18.713324</td>\n",
       "      <td>0.540204</td>\n",
       "      <td>0.841398</td>\n",
       "      <td>...</td>\n",
       "      <td>0.554305</td>\n",
       "      <td>0.832313</td>\n",
       "      <td>-0.001318</td>\n",
       "      <td>3.030342</td>\n",
       "      <td>0.021711</td>\n",
       "      <td>4478.268990</td>\n",
       "      <td>0.999764</td>\n",
       "      <td>0.386885</td>\n",
       "      <td>False</td>\n",
       "      <td>False</td>\n",
       "    </tr>\n",
       "    <tr>\n",
       "      <th>...</th>\n",
       "      <td>...</td>\n",
       "      <td>...</td>\n",
       "      <td>...</td>\n",
       "      <td>...</td>\n",
       "      <td>...</td>\n",
       "      <td>...</td>\n",
       "      <td>...</td>\n",
       "      <td>...</td>\n",
       "      <td>...</td>\n",
       "      <td>...</td>\n",
       "      <td>...</td>\n",
       "      <td>...</td>\n",
       "      <td>...</td>\n",
       "      <td>...</td>\n",
       "      <td>...</td>\n",
       "      <td>...</td>\n",
       "      <td>...</td>\n",
       "      <td>...</td>\n",
       "      <td>...</td>\n",
       "      <td>...</td>\n",
       "      <td>...</td>\n",
       "    </tr>\n",
       "    <tr>\n",
       "      <th>512300</th>\n",
       "      <td>5682027</td>\n",
       "      <td>63</td>\n",
       "      <td>b'ZTF20aarbsoy'</td>\n",
       "      <td>1151130435015015008</td>\n",
       "      <td>39108</td>\n",
       "      <td>58905.130440</td>\n",
       "      <td>46.250023</td>\n",
       "      <td>14.103319</td>\n",
       "      <td>0.670669</td>\n",
       "      <td>0.739706</td>\n",
       "      <td>...</td>\n",
       "      <td>0.660978</td>\n",
       "      <td>0.749074</td>\n",
       "      <td>-0.044681</td>\n",
       "      <td>2.592171</td>\n",
       "      <td>0.017045</td>\n",
       "      <td>3515.894844</td>\n",
       "      <td>0.999855</td>\n",
       "      <td>0.238474</td>\n",
       "      <td>False</td>\n",
       "      <td>False</td>\n",
       "    </tr>\n",
       "    <tr>\n",
       "      <th>512301</th>\n",
       "      <td>5682059</td>\n",
       "      <td>63</td>\n",
       "      <td>b'ZTF20aarbsvt'</td>\n",
       "      <td>1151130433215015003</td>\n",
       "      <td>39108</td>\n",
       "      <td>58905.130440</td>\n",
       "      <td>46.974922</td>\n",
       "      <td>12.957800</td>\n",
       "      <td>0.664943</td>\n",
       "      <td>0.742845</td>\n",
       "      <td>...</td>\n",
       "      <td>0.660978</td>\n",
       "      <td>0.749074</td>\n",
       "      <td>-0.044681</td>\n",
       "      <td>2.592171</td>\n",
       "      <td>0.033797</td>\n",
       "      <td>6971.539164</td>\n",
       "      <td>0.999429</td>\n",
       "      <td>0.937551</td>\n",
       "      <td>False</td>\n",
       "      <td>False</td>\n",
       "    </tr>\n",
       "    <tr>\n",
       "      <th>512302</th>\n",
       "      <td>5682122</td>\n",
       "      <td>63</td>\n",
       "      <td>b'ZTF20aarbsrh'</td>\n",
       "      <td>1151130435215015007</td>\n",
       "      <td>39108</td>\n",
       "      <td>58905.130440</td>\n",
       "      <td>44.917822</td>\n",
       "      <td>15.212759</td>\n",
       "      <td>0.683306</td>\n",
       "      <td>0.729504</td>\n",
       "      <td>...</td>\n",
       "      <td>0.660978</td>\n",
       "      <td>0.749074</td>\n",
       "      <td>-0.044681</td>\n",
       "      <td>2.592171</td>\n",
       "      <td>0.033002</td>\n",
       "      <td>6807.415135</td>\n",
       "      <td>0.999455</td>\n",
       "      <td>0.893931</td>\n",
       "      <td>False</td>\n",
       "      <td>False</td>\n",
       "    </tr>\n",
       "    <tr>\n",
       "      <th>512303</th>\n",
       "      <td>5682133</td>\n",
       "      <td>63</td>\n",
       "      <td>b'ZTF20aarbsrx'</td>\n",
       "      <td>1151130434815015006</td>\n",
       "      <td>39108</td>\n",
       "      <td>58905.130440</td>\n",
       "      <td>47.131113</td>\n",
       "      <td>15.156325</td>\n",
       "      <td>0.656659</td>\n",
       "      <td>0.753044</td>\n",
       "      <td>...</td>\n",
       "      <td>0.660978</td>\n",
       "      <td>0.749074</td>\n",
       "      <td>-0.044681</td>\n",
       "      <td>2.592171</td>\n",
       "      <td>0.006666</td>\n",
       "      <td>1374.963549</td>\n",
       "      <td>0.999978</td>\n",
       "      <td>0.036472</td>\n",
       "      <td>False</td>\n",
       "      <td>False</td>\n",
       "    </tr>\n",
       "    <tr>\n",
       "      <th>512304</th>\n",
       "      <td>5682135</td>\n",
       "      <td>63</td>\n",
       "      <td>b'ZTF20aarbsvu'</td>\n",
       "      <td>1151130433215015001</td>\n",
       "      <td>39108</td>\n",
       "      <td>58905.130440</td>\n",
       "      <td>46.736132</td>\n",
       "      <td>13.445697</td>\n",
       "      <td>0.666574</td>\n",
       "      <td>0.742295</td>\n",
       "      <td>...</td>\n",
       "      <td>0.660978</td>\n",
       "      <td>0.749074</td>\n",
       "      <td>-0.044681</td>\n",
       "      <td>2.592171</td>\n",
       "      <td>0.025284</td>\n",
       "      <td>5215.282102</td>\n",
       "      <td>0.999680</td>\n",
       "      <td>0.524701</td>\n",
       "      <td>False</td>\n",
       "      <td>False</td>\n",
       "    </tr>\n",
       "  </tbody>\n",
       "</table>\n",
       "<p>512305 rows × 35 columns</p>\n",
       "</div>"
      ],
      "text/plain": [
       "         ztf_id  element_id         ObjectID          CandidateID  \\\n",
       "0        357652           0  b'ZTF19abjggig'   938492372315015003   \n",
       "1        358253           0  b'ZTF19abjgfhg'   938492373915015003   \n",
       "2        359127           0  b'ZTF19abjgfhd'   938492373915015019   \n",
       "3        359244           0  b'ZTF19abjgfqh'   938492373315015008   \n",
       "4        359275           0  b'ZTF19abjgfjl'   938492371615015001   \n",
       "...         ...         ...              ...                  ...   \n",
       "512300  5682027          63  b'ZTF20aarbsoy'  1151130435015015008   \n",
       "512301  5682059          63  b'ZTF20aarbsvt'  1151130433215015003   \n",
       "512302  5682122          63  b'ZTF20aarbsrh'  1151130435215015007   \n",
       "512303  5682133          63  b'ZTF20aarbsrx'  1151130434815015006   \n",
       "512304  5682135          63  b'ZTF20aarbsvu'  1151130433215015001   \n",
       "\n",
       "        TimeStampID           mjd         ra        dec        ux        uy  \\\n",
       "0              1268  58692.492373  53.778435  17.745455  0.562794  0.826188   \n",
       "1              1268  58692.492373  53.995882  19.505049  0.554108  0.832439   \n",
       "2              1268  58692.492373  53.303148  19.154581  0.564497  0.825435   \n",
       "3              1268  58692.492373  54.457412  20.235852  0.545428  0.838047   \n",
       "4              1268  58692.492373  55.224952  18.713324  0.540204  0.841398   \n",
       "...             ...           ...        ...        ...       ...       ...   \n",
       "512300        39108  58905.130440  46.250023  14.103319  0.670669  0.739706   \n",
       "512301        39108  58905.130440  46.974922  12.957800  0.664943  0.742845   \n",
       "512302        39108  58905.130440  44.917822  15.212759  0.683306  0.729504   \n",
       "512303        39108  58905.130440  47.131113  15.156325  0.656659  0.753044   \n",
       "512304        39108  58905.130440  46.736132  13.445697  0.666574  0.742295   \n",
       "\n",
       "        ...    elt_ux    elt_uy    elt_uz     elt_r         s        s_sec  \\\n",
       "0       ...  0.554305  0.832313 -0.001318  3.030342  0.026805  5529.148243   \n",
       "1       ...  0.554305  0.832313 -0.001318  3.030342  0.004338   894.747682   \n",
       "2       ...  0.554305  0.832313 -0.001318  3.030342  0.012343  2545.891323   \n",
       "3       ...  0.554305  0.832313 -0.001318  3.030342  0.018328  3780.523027   \n",
       "4       ...  0.554305  0.832313 -0.001318  3.030342  0.021711  4478.268990   \n",
       "...     ...       ...       ...       ...       ...       ...          ...   \n",
       "512300  ...  0.660978  0.749074 -0.044681  2.592171  0.017045  3515.894844   \n",
       "512301  ...  0.660978  0.749074 -0.044681  2.592171  0.033797  6971.539164   \n",
       "512302  ...  0.660978  0.749074 -0.044681  2.592171  0.033002  6807.415135   \n",
       "512303  ...  0.660978  0.749074 -0.044681  2.592171  0.006666  1374.963549   \n",
       "512304  ...  0.660978  0.749074 -0.044681  2.592171  0.025284  5215.282102   \n",
       "\n",
       "               z         v  is_hit  is_match  \n",
       "0       0.999641  0.589752   False     False  \n",
       "1       0.999991  0.015445   False     False  \n",
       "2       0.999924  0.125041   False     False  \n",
       "3       0.999832  0.275722   False     False  \n",
       "4       0.999764  0.386885   False     False  \n",
       "...          ...       ...     ...       ...  \n",
       "512300  0.999855  0.238474   False     False  \n",
       "512301  0.999429  0.937551   False     False  \n",
       "512302  0.999455  0.893931   False     False  \n",
       "512303  0.999978  0.036472   False     False  \n",
       "512304  0.999680  0.524701   False     False  \n",
       "\n",
       "[512305 rows x 35 columns]"
      ]
     },
     "execution_count": 14,
     "metadata": {},
     "output_type": "execute_result"
    }
   ],
   "source": [
    "ztf_elt"
   ]
  },
  {
   "cell_type": "code",
   "execution_count": 15,
   "metadata": {},
   "outputs": [],
   "source": [
    "# Score by element\n",
    "score_by_elt = ztf_score_by_elt(ztf_elt)"
   ]
  },
  {
   "cell_type": "code",
   "execution_count": 16,
   "metadata": {},
   "outputs": [],
   "source": [
    "# Mixture parameters\n",
    "num_hits: int = 10\n",
    "R_deg: float = 0.5"
   ]
  },
  {
   "cell_type": "code",
   "execution_count": 17,
   "metadata": {},
   "outputs": [],
   "source": [
    "# Add mixture parameters to candidate elements\n",
    "elts_add_mixture_params(elts=elts, num_hits=num_hits, thresh_deg=thresh_deg, R_deg=R_deg)"
   ]
  },
  {
   "cell_type": "code",
   "execution_count": 18,
   "metadata": {},
   "outputs": [],
   "source": [
    "# Add brightness parameter H\n",
    "elts_add_H(elts=elts)"
   ]
  },
  {
   "cell_type": "code",
   "execution_count": 19,
   "metadata": {},
   "outputs": [
    {
     "name": "stdout",
     "output_type": "stream",
     "text": [
      "ZTF Element Dataframe Random Elements:\n",
      "                  Total     (Per Batch)\n",
      "Observations   :   512305   (     8005)\n",
      "\n",
      "Summarize score = sum(-1.0 - log(v)) by batch.  (Mean=0, Variance=num_obs)\n",
      "Mean score     :     442.59\n",
      "Sqrt(batch_obs):      89.47\n",
      "Mean t_score   :       5.11\n"
     ]
    }
   ],
   "source": [
    "# Summarize the ztf element batch: perturbed asteroids\n",
    "ztf_elt_summary(ztf_elt, score_by_elt, 'Random Elements')"
   ]
  },
  {
   "cell_type": "code",
   "execution_count": 20,
   "metadata": {},
   "outputs": [
    {
     "data": {
      "text/html": [
       "<div>\n",
       "<style scoped>\n",
       "    .dataframe tbody tr th:only-of-type {\n",
       "        vertical-align: middle;\n",
       "    }\n",
       "\n",
       "    .dataframe tbody tr th {\n",
       "        vertical-align: top;\n",
       "    }\n",
       "\n",
       "    .dataframe thead th {\n",
       "        text-align: right;\n",
       "    }\n",
       "</style>\n",
       "<table border=\"1\" class=\"dataframe\">\n",
       "  <thead>\n",
       "    <tr style=\"text-align: right;\">\n",
       "      <th></th>\n",
       "      <th>element_id</th>\n",
       "      <th>a</th>\n",
       "      <th>e</th>\n",
       "      <th>f</th>\n",
       "      <th>inc</th>\n",
       "      <th>Omega</th>\n",
       "      <th>omega</th>\n",
       "      <th>epoch</th>\n",
       "      <th>num_obs</th>\n",
       "      <th>score</th>\n",
       "      <th>t_score</th>\n",
       "      <th>num_hits</th>\n",
       "      <th>R</th>\n",
       "      <th>thresh_s</th>\n",
       "      <th>H</th>\n",
       "      <th>sigma_mag</th>\n",
       "    </tr>\n",
       "  </thead>\n",
       "  <tbody>\n",
       "    <tr>\n",
       "      <th>0</th>\n",
       "      <td>0</td>\n",
       "      <td>3.064054</td>\n",
       "      <td>0.121235</td>\n",
       "      <td>-1.291546</td>\n",
       "      <td>0.068009</td>\n",
       "      <td>0.662207</td>\n",
       "      <td>0.935398</td>\n",
       "      <td>58600.0</td>\n",
       "      <td>12711</td>\n",
       "      <td>998.002460</td>\n",
       "      <td>8.852007</td>\n",
       "      <td>10</td>\n",
       "      <td>0.008727</td>\n",
       "      <td>0.034905</td>\n",
       "      <td>16.5</td>\n",
       "      <td>4.0</td>\n",
       "    </tr>\n",
       "    <tr>\n",
       "      <th>1</th>\n",
       "      <td>1</td>\n",
       "      <td>2.771068</td>\n",
       "      <td>0.151421</td>\n",
       "      <td>-0.531263</td>\n",
       "      <td>0.068958</td>\n",
       "      <td>1.364763</td>\n",
       "      <td>6.111150</td>\n",
       "      <td>58600.0</td>\n",
       "      <td>11901</td>\n",
       "      <td>886.807208</td>\n",
       "      <td>8.129007</td>\n",
       "      <td>10</td>\n",
       "      <td>0.008727</td>\n",
       "      <td>0.034905</td>\n",
       "      <td>16.5</td>\n",
       "      <td>4.0</td>\n",
       "    </tr>\n",
       "    <tr>\n",
       "      <th>2</th>\n",
       "      <td>2</td>\n",
       "      <td>3.172947</td>\n",
       "      <td>0.095819</td>\n",
       "      <td>1.903106</td>\n",
       "      <td>0.035792</td>\n",
       "      <td>3.984825</td>\n",
       "      <td>0.687484</td>\n",
       "      <td>58600.0</td>\n",
       "      <td>12572</td>\n",
       "      <td>781.406566</td>\n",
       "      <td>6.969071</td>\n",
       "      <td>10</td>\n",
       "      <td>0.008727</td>\n",
       "      <td>0.034905</td>\n",
       "      <td>16.5</td>\n",
       "      <td>4.0</td>\n",
       "    </tr>\n",
       "    <tr>\n",
       "      <th>3</th>\n",
       "      <td>3</td>\n",
       "      <td>2.697356</td>\n",
       "      <td>0.098236</td>\n",
       "      <td>0.132486</td>\n",
       "      <td>0.025427</td>\n",
       "      <td>1.610715</td>\n",
       "      <td>5.259525</td>\n",
       "      <td>58600.0</td>\n",
       "      <td>9835</td>\n",
       "      <td>767.421579</td>\n",
       "      <td>7.738322</td>\n",
       "      <td>10</td>\n",
       "      <td>0.008727</td>\n",
       "      <td>0.034905</td>\n",
       "      <td>16.5</td>\n",
       "      <td>4.0</td>\n",
       "    </tr>\n",
       "    <tr>\n",
       "      <th>4</th>\n",
       "      <td>4</td>\n",
       "      <td>3.113809</td>\n",
       "      <td>0.257043</td>\n",
       "      <td>2.596678</td>\n",
       "      <td>0.090822</td>\n",
       "      <td>0.106255</td>\n",
       "      <td>4.320585</td>\n",
       "      <td>58600.0</td>\n",
       "      <td>9129</td>\n",
       "      <td>697.797101</td>\n",
       "      <td>7.303273</td>\n",
       "      <td>10</td>\n",
       "      <td>0.008727</td>\n",
       "      <td>0.034905</td>\n",
       "      <td>16.5</td>\n",
       "      <td>4.0</td>\n",
       "    </tr>\n",
       "    <tr>\n",
       "      <th>...</th>\n",
       "      <td>...</td>\n",
       "      <td>...</td>\n",
       "      <td>...</td>\n",
       "      <td>...</td>\n",
       "      <td>...</td>\n",
       "      <td>...</td>\n",
       "      <td>...</td>\n",
       "      <td>...</td>\n",
       "      <td>...</td>\n",
       "      <td>...</td>\n",
       "      <td>...</td>\n",
       "      <td>...</td>\n",
       "      <td>...</td>\n",
       "      <td>...</td>\n",
       "      <td>...</td>\n",
       "      <td>...</td>\n",
       "    </tr>\n",
       "    <tr>\n",
       "      <th>59</th>\n",
       "      <td>59</td>\n",
       "      <td>1.890665</td>\n",
       "      <td>0.083441</td>\n",
       "      <td>3.132056</td>\n",
       "      <td>0.035993</td>\n",
       "      <td>0.656159</td>\n",
       "      <td>3.255417</td>\n",
       "      <td>58600.0</td>\n",
       "      <td>9064</td>\n",
       "      <td>280.408751</td>\n",
       "      <td>2.945314</td>\n",
       "      <td>10</td>\n",
       "      <td>0.008727</td>\n",
       "      <td>0.034905</td>\n",
       "      <td>16.5</td>\n",
       "      <td>4.0</td>\n",
       "    </tr>\n",
       "    <tr>\n",
       "      <th>60</th>\n",
       "      <td>60</td>\n",
       "      <td>3.168699</td>\n",
       "      <td>0.088259</td>\n",
       "      <td>0.853523</td>\n",
       "      <td>0.052655</td>\n",
       "      <td>5.188591</td>\n",
       "      <td>0.902693</td>\n",
       "      <td>58600.0</td>\n",
       "      <td>10197</td>\n",
       "      <td>280.102124</td>\n",
       "      <td>2.773832</td>\n",
       "      <td>10</td>\n",
       "      <td>0.008727</td>\n",
       "      <td>0.034905</td>\n",
       "      <td>16.5</td>\n",
       "      <td>4.0</td>\n",
       "    </tr>\n",
       "    <tr>\n",
       "      <th>61</th>\n",
       "      <td>61</td>\n",
       "      <td>2.255124</td>\n",
       "      <td>0.055124</td>\n",
       "      <td>-1.131100</td>\n",
       "      <td>0.065725</td>\n",
       "      <td>4.743550</td>\n",
       "      <td>1.882832</td>\n",
       "      <td>58600.0</td>\n",
       "      <td>6700</td>\n",
       "      <td>279.483345</td>\n",
       "      <td>3.414432</td>\n",
       "      <td>10</td>\n",
       "      <td>0.008727</td>\n",
       "      <td>0.034905</td>\n",
       "      <td>16.5</td>\n",
       "      <td>4.0</td>\n",
       "    </tr>\n",
       "    <tr>\n",
       "      <th>62</th>\n",
       "      <td>62</td>\n",
       "      <td>2.325415</td>\n",
       "      <td>0.176758</td>\n",
       "      <td>-0.619556</td>\n",
       "      <td>0.046713</td>\n",
       "      <td>3.318604</td>\n",
       "      <td>2.235867</td>\n",
       "      <td>58600.0</td>\n",
       "      <td>4532</td>\n",
       "      <td>277.344008</td>\n",
       "      <td>4.119778</td>\n",
       "      <td>10</td>\n",
       "      <td>0.008727</td>\n",
       "      <td>0.034905</td>\n",
       "      <td>16.5</td>\n",
       "      <td>4.0</td>\n",
       "    </tr>\n",
       "    <tr>\n",
       "      <th>63</th>\n",
       "      <td>63</td>\n",
       "      <td>2.390297</td>\n",
       "      <td>0.049497</td>\n",
       "      <td>-5.345717</td>\n",
       "      <td>0.062828</td>\n",
       "      <td>2.081017</td>\n",
       "      <td>3.088184</td>\n",
       "      <td>58600.0</td>\n",
       "      <td>9701</td>\n",
       "      <td>276.763261</td>\n",
       "      <td>2.809960</td>\n",
       "      <td>10</td>\n",
       "      <td>0.008727</td>\n",
       "      <td>0.034905</td>\n",
       "      <td>16.5</td>\n",
       "      <td>4.0</td>\n",
       "    </tr>\n",
       "  </tbody>\n",
       "</table>\n",
       "<p>64 rows × 16 columns</p>\n",
       "</div>"
      ],
      "text/plain": [
       "    element_id         a         e         f       inc     Omega     omega  \\\n",
       "0            0  3.064054  0.121235 -1.291546  0.068009  0.662207  0.935398   \n",
       "1            1  2.771068  0.151421 -0.531263  0.068958  1.364763  6.111150   \n",
       "2            2  3.172947  0.095819  1.903106  0.035792  3.984825  0.687484   \n",
       "3            3  2.697356  0.098236  0.132486  0.025427  1.610715  5.259525   \n",
       "4            4  3.113809  0.257043  2.596678  0.090822  0.106255  4.320585   \n",
       "..         ...       ...       ...       ...       ...       ...       ...   \n",
       "59          59  1.890665  0.083441  3.132056  0.035993  0.656159  3.255417   \n",
       "60          60  3.168699  0.088259  0.853523  0.052655  5.188591  0.902693   \n",
       "61          61  2.255124  0.055124 -1.131100  0.065725  4.743550  1.882832   \n",
       "62          62  2.325415  0.176758 -0.619556  0.046713  3.318604  2.235867   \n",
       "63          63  2.390297  0.049497 -5.345717  0.062828  2.081017  3.088184   \n",
       "\n",
       "      epoch  num_obs       score   t_score  num_hits         R  thresh_s  \\\n",
       "0   58600.0    12711  998.002460  8.852007        10  0.008727  0.034905   \n",
       "1   58600.0    11901  886.807208  8.129007        10  0.008727  0.034905   \n",
       "2   58600.0    12572  781.406566  6.969071        10  0.008727  0.034905   \n",
       "3   58600.0     9835  767.421579  7.738322        10  0.008727  0.034905   \n",
       "4   58600.0     9129  697.797101  7.303273        10  0.008727  0.034905   \n",
       "..      ...      ...         ...       ...       ...       ...       ...   \n",
       "59  58600.0     9064  280.408751  2.945314        10  0.008727  0.034905   \n",
       "60  58600.0    10197  280.102124  2.773832        10  0.008727  0.034905   \n",
       "61  58600.0     6700  279.483345  3.414432        10  0.008727  0.034905   \n",
       "62  58600.0     4532  277.344008  4.119778        10  0.008727  0.034905   \n",
       "63  58600.0     9701  276.763261  2.809960        10  0.008727  0.034905   \n",
       "\n",
       "       H  sigma_mag  \n",
       "0   16.5        4.0  \n",
       "1   16.5        4.0  \n",
       "2   16.5        4.0  \n",
       "3   16.5        4.0  \n",
       "4   16.5        4.0  \n",
       "..   ...        ...  \n",
       "59  16.5        4.0  \n",
       "60  16.5        4.0  \n",
       "61  16.5        4.0  \n",
       "62  16.5        4.0  \n",
       "63  16.5        4.0  \n",
       "\n",
       "[64 rows x 16 columns]"
      ]
     },
     "execution_count": 20,
     "metadata": {},
     "output_type": "execute_result"
    }
   ],
   "source": [
    "# Review random elements\n",
    "elts"
   ]
  },
  {
   "cell_type": "markdown",
   "metadata": {},
   "source": [
    "## Build Asteroid Search Model"
   ]
  },
  {
   "cell_type": "code",
   "execution_count": 21,
   "metadata": {},
   "outputs": [],
   "source": [
    "# Observatory for ZTF data is Palomar Mountain\n",
    "site_name = 'palomar'"
   ]
  },
  {
   "cell_type": "code",
   "execution_count": 22,
   "metadata": {},
   "outputs": [],
   "source": [
    "# Training parameters\n",
    "learning_rate = 2.0**-12\n",
    "clipnorm = 1.0"
   ]
  },
  {
   "cell_type": "code",
   "execution_count": 23,
   "metadata": {},
   "outputs": [],
   "source": [
    "# Build asteroid search model\n",
    "model = AsteroidSearchModel(\n",
    "                elts=elts, ztf_elt=ztf_elt, \n",
    "                site_name=site_name, thresh_deg=thresh_deg, \n",
    "                learning_rate=learning_rate, clipnorm=clipnorm,\n",
    "                name='model')"
   ]
  },
  {
   "cell_type": "code",
   "execution_count": 24,
   "metadata": {},
   "outputs": [
    {
     "name": "stdout",
     "output_type": "stream",
     "text": [
      "     \\  log_like :  hits  :    R_sec : thresh_sec\n",
      "Mean   :     1.02  :   0.00 :  1793.94 :  7200.00\n",
      "Median :     0.97  :   0.00 :  1792.82 :  7200.00\n",
      "GeoMean:     1.16  :   1.00 :  1794.94 :  7200.99\n",
      "Std    :     0.50  :   0.00 :     3.86 :     0.00\n",
      "Min    :     0.26  :   0.00 :  1792.82 :  7200.00\n",
      "Max    :     2.71  :   0.00 :  1807.21 :  7200.00\n",
      "Trained for 0 batches over 0 epochs and 0 episodes.\n"
     ]
    }
   ],
   "source": [
    "# Report before training starts\n",
    "model.report()"
   ]
  },
  {
   "cell_type": "markdown",
   "metadata": {},
   "source": [
    "## Automated Training with Sieve Method"
   ]
  },
  {
   "cell_type": "code",
   "execution_count": 26,
   "metadata": {},
   "outputs": [
    {
     "name": "stdout",
     "output_type": "stream",
     "text": [
      "\n",
      "********************************************************************************\n",
      "Round 1: 2,000 batches @ LR 2^-12 with frozen elements.\n",
      "********************************************************************************\n",
      "\n",
      "Training episode 0: Epoch    0, Batch      0\n",
      "effective_learning_rate=2.441e-04, training_time 0 sec.\n",
      "Train on 6400 samples\n",
      "Epoch 1/5\n",
      "6400/6400 [==============================] - 5s 725us/sample - loss: -14.4743\n",
      "Epoch 2/5\n",
      "6400/6400 [==============================] - 3s 475us/sample - loss: -20.0034\n",
      "Epoch 3/5\n",
      "6400/6400 [==============================] - 3s 471us/sample - loss: -27.7178\n",
      "Epoch 4/5\n",
      "6400/6400 [==============================] - 3s 479us/sample - loss: -38.2210\n",
      "Epoch 5/5\n",
      "6400/6400 [==============================] - 3s 489us/sample - loss: -50.5565\n",
      "Geom Mean Resolution:    947.07 arc seconds\n",
      "Geom Mean Threshold :   7200.00 arc seconds\n",
      "Mean Hits           :      0.00\n",
      "Mean Log Likelihood :      4.74\n",
      "\n",
      "Training episode 1: Epoch    5, Batch    500\n",
      "effective_learning_rate=2.441e-04, training_time 58 sec.\n",
      "Train on 6400 samples\n",
      "Epoch 6/10\n",
      "6400/6400 [==============================] - 3s 482us/sample - loss: -63.0228\n",
      "Epoch 7/10\n",
      "6400/6400 [==============================] - 3s 496us/sample - loss: -76.1242\n",
      "Epoch 8/10\n",
      "6400/6400 [==============================] - 3s 491us/sample - loss: -89.3002\n",
      "Epoch 9/10\n",
      "6400/6400 [==============================] - 3s 489us/sample - loss: -101.9060\n",
      "Epoch 10/10\n",
      "6400/6400 [==============================] - 3s 487us/sample - loss: -115.2315\n",
      "Geom Mean Resolution:   1006.41 arc seconds\n",
      "Geom Mean Threshold :   7200.00 arc seconds\n",
      "Mean Hits           :      0.00\n",
      "Mean Log Likelihood :     10.24\n",
      "\n",
      "Training episode 2: Epoch   10, Batch   1000\n",
      "effective_learning_rate=2.441e-04, training_time 74 sec.\n",
      "Train on 6400 samples\n",
      "Epoch 11/15\n",
      "6400/6400 [==============================] - 3s 489us/sample - loss: -130.9310\n",
      "Epoch 12/15\n",
      "6400/6400 [==============================] - 3s 489us/sample - loss: -150.1786\n",
      "Epoch 13/15\n",
      "6400/6400 [==============================] - 3s 484us/sample - loss: -169.8205\n",
      "Epoch 14/15\n",
      "6400/6400 [==============================] - 3s 486us/sample - loss: -187.8965\n",
      "Epoch 15/15\n",
      "6400/6400 [==============================] - 3s 485us/sample - loss: -204.5171\n",
      "Geom Mean Resolution:   1185.84 arc seconds\n",
      "Geom Mean Threshold :   7200.00 arc seconds\n",
      "Mean Hits           :      0.00\n",
      "Mean Log Likelihood :     17.72\n",
      "\n",
      "Training episode 3: Epoch   15, Batch   1500\n",
      "effective_learning_rate=2.441e-04, training_time 90 sec.\n",
      "Train on 6400 samples\n",
      "Epoch 16/20\n",
      "6400/6400 [==============================] - 3s 485us/sample - loss: -219.1359\n",
      "Epoch 17/20\n",
      "6400/6400 [==============================] - 3s 488us/sample - loss: -231.8186\n",
      "Epoch 18/20\n",
      "6400/6400 [==============================] - 3s 483us/sample - loss: -242.4684\n",
      "Epoch 19/20\n",
      "6400/6400 [==============================] - 3s 488us/sample - loss: -251.3442\n",
      "Epoch 20/20\n",
      "6400/6400 [==============================] - 3s 483us/sample - loss: -258.4424\n",
      "Geom Mean Resolution:   1360.11 arc seconds\n",
      "Geom Mean Threshold :   7200.00 arc seconds\n",
      "Mean Hits           :      0.00\n",
      "Mean Log Likelihood :     21.83\n",
      "\n",
      "********************************************************************************\n",
      "Terminating: Completed 2000 batches.\n",
      "********************************************************************************\n",
      "     \\  log_like :  hits  :    R_sec : thresh_sec\n",
      "Mean   :    21.83  :   0.00 :  1529.55 :  7200.00\n",
      "Median :    18.75  :   0.00 :  1558.45 :  7200.00\n",
      "GeoMean:    19.12  :   1.00 :  1361.31 :  7200.99\n",
      "Std    :    11.56  :   0.00 :   634.17 :     0.00\n",
      "Min    :     4.23  :   0.00 :   169.49 :  7200.00\n",
      "Max    :    66.35  :   0.00 :  2802.15 :  7200.00\n",
      "Trained for 2000 batches over 20 epochs and 4 episodes.\n"
     ]
    },
    {
     "data": {
      "image/png": "[encoded data removed]",
      "text/plain": [
       "<Figure size 1152x720 with 1 Axes>"
      ]
     },
     "metadata": {
      "needs_background": "light"
     },
     "output_type": "display_data"
    },
    {
     "data": {
      "image/png": "[encoded data removed]",
      "text/plain": [
       "<Figure size 1152x720 with 1 Axes>"
      ]
     },
     "metadata": {
      "needs_background": "light"
     },
     "output_type": "display_data"
    },
    {
     "name": "stdout",
     "output_type": "stream",
     "text": [
      "\n",
      "********************************************************************************\n",
      "Round 2: 5000 batches @ LR 2^-14 with frozen elements.\n",
      "********************************************************************************\n",
      "Applying learning_rate 6.10e-05 (2.0^-14.0) for adaptive training.\n",
      "\n",
      "Training episode 4: Epoch   20, Batch   2000\n",
      "effective_learning_rate=6.104e-05, training_time 105 sec.\n",
      "Train on 6400 samples\n",
      "Epoch 21/25\n",
      "6400/6400 [==============================] - 6s 894us/sample - loss: -694.1942\n",
      "Epoch 22/25\n",
      "6400/6400 [==============================] - 4s 574us/sample - loss: -841.4661\n",
      "Epoch 23/25\n",
      "6400/6400 [==============================] - 4s 569us/sample - loss: -926.4895\n",
      "Epoch 24/25\n",
      "6400/6400 [==============================] - 4s 567us/sample - loss: -1009.2815\n",
      "Epoch 25/25\n",
      "6400/6400 [==============================] - 4s 569us/sample - loss: -1079.7502\n",
      "Geom Mean Resolution:   1131.71 arc seconds\n",
      "Geom Mean Threshold :   7200.00 arc seconds\n",
      "Mean Hits           :      0.06\n",
      "Mean Log Likelihood :     92.84\n",
      "\n",
      "Training episode 5: Epoch   25, Batch   2500\n",
      "effective_learning_rate=6.104e-05, training_time 127 sec.\n",
      "Train on 6400 samples\n",
      "Epoch 26/30\n",
      "6400/6400 [==============================] - 4s 578us/sample - loss: -1140.6571\n",
      "Epoch 27/30\n",
      "6400/6400 [==============================] - 4s 574us/sample - loss: -1196.9421\n",
      "Epoch 28/30\n",
      "6400/6400 [==============================] - 4s 558us/sample - loss: -1252.4901\n",
      "Epoch 29/30\n",
      "6400/6400 [==============================] - 4s 576us/sample - loss: -1304.2351\n",
      "Epoch 30/30\n",
      "6400/6400 [==============================] - 4s 566us/sample - loss: -1355.9249\n",
      "Adjusted element weight down on 1 candidate elements. Mean weight = 9.92e-01\n",
      "Geom Mean Resolution:   1043.19 arc seconds\n",
      "Geom Mean Threshold :   7164.76 arc seconds\n",
      "Mean Hits           :      1.16\n",
      "Mean Log Likelihood :    114.03\n",
      "\n",
      "Training episode 6: Epoch   30, Batch   3000\n",
      "effective_learning_rate=6.056e-05, training_time 147 sec.\n",
      "Train on 6400 samples\n",
      "Epoch 31/35\n",
      "6400/6400 [==============================] - 4s 588us/sample - loss: -1409.0503\n",
      "Epoch 32/35\n",
      "6400/6400 [==============================] - 4s 576us/sample - loss: -1464.5610\n",
      "Epoch 33/35\n",
      "6400/6400 [==============================] - 4s 584us/sample - loss: -1522.7370\n",
      "Epoch 34/35\n",
      "6400/6400 [==============================] - 4s 580us/sample - loss: -1580.7190\n",
      "Epoch 35/35\n",
      "6400/6400 [==============================] - 4s 579us/sample - loss: -1643.4853\n",
      "Adjusted element weight down on 2 candidate elements. Mean weight = 9.80e-01\n",
      "Geom Mean Resolution:   1028.63 arc seconds\n",
      "Geom Mean Threshold :   7060.29 arc seconds\n",
      "Mean Hits           :      1.43\n",
      "Mean Log Likelihood :    129.02\n",
      "\n",
      "Training episode 7: Epoch   35, Batch   3500\n",
      "effective_learning_rate=5.984e-05, training_time 167 sec.\n",
      "Train on 6400 samples\n",
      "Epoch 36/40\n",
      "6400/6400 [==============================] - 4s 587us/sample - loss: -1708.2838\n",
      "Epoch 37/40\n",
      "6400/6400 [==============================] - 4s 588us/sample - loss: -1780.0224\n",
      "Epoch 38/40\n",
      "6400/6400 [==============================] - 4s 592us/sample - loss: -1857.0586\n",
      "Epoch 39/40\n",
      "6400/6400 [==============================] - 4s 581us/sample - loss: -1938.7684\n",
      "Epoch 40/40\n",
      "6400/6400 [==============================] - 4s 586us/sample - loss: -2035.0426\n",
      "Adjusted element weight down on 7 candidate elements. Mean weight = 9.36e-01\n",
      "Geom Mean Resolution:   1057.61 arc seconds\n",
      "Geom Mean Threshold :   7002.05 arc seconds\n",
      "Mean Hits           :      1.46\n",
      "Mean Log Likelihood :    141.26\n",
      "\n",
      "Training episode 8: Epoch   40, Batch   4000\n",
      "effective_learning_rate=5.710e-05, training_time 187 sec.\n",
      "Train on 6400 samples\n",
      "Epoch 41/45\n",
      "6400/6400 [==============================] - 4s 595us/sample - loss: -2106.4868\n",
      "Epoch 42/45\n",
      "6400/6400 [==============================] - 4s 591us/sample - loss: -2214.0732\n",
      "Epoch 43/45\n",
      "6400/6400 [==============================] - 4s 594us/sample - loss: -2328.8152\n",
      "Epoch 44/45\n",
      "6400/6400 [==============================] - 4s 590us/sample - loss: -2459.7960\n",
      "Epoch 45/45\n",
      "6400/6400 [==============================] - 4s 596us/sample - loss: -2599.9870\n",
      "Adjusted element weight down on 13 candidate elements. Mean weight = 8.62e-01\n",
      "Geom Mean Resolution:   1077.46 arc seconds\n",
      "Geom Mean Threshold :   6904.49 arc seconds\n",
      "Mean Hits           :      1.52\n",
      "Mean Log Likelihood :    151.63\n",
      "\n",
      "Training episode 9: Epoch   45, Batch   4500\n",
      "effective_learning_rate=5.263e-05, training_time 208 sec.\n",
      "Train on 6400 samples\n",
      "Epoch 46/50\n",
      "6400/6400 [==============================] - 4s 603us/sample - loss: -2743.0260\n",
      "Epoch 47/50\n",
      "6400/6400 [==============================] - 4s 597us/sample - loss: -2921.3618\n",
      "Epoch 48/50\n",
      "6400/6400 [==============================] - 4s 593us/sample - loss: -3105.2582\n",
      "Epoch 49/50\n",
      "6400/6400 [==============================] - 4s 595us/sample - loss: -3314.8259\n",
      "Epoch 50/50\n",
      "6400/6400 [==============================] - 4s 602us/sample - loss: -3541.2480\n",
      "Adjusted element weight down on 15 candidate elements. Mean weight = 8.00e-01\n",
      "Geom Mean Resolution:   1117.71 arc seconds\n",
      "Geom Mean Threshold :   6893.53 arc seconds\n",
      "Mean Hits           :      1.56\n",
      "Mean Log Likelihood :    161.14\n",
      "\n",
      "Training episode 10: Epoch   50, Batch   5000\n",
      "effective_learning_rate=4.885e-05, training_time 228 sec.\n",
      "Train on 6400 samples\n",
      "Epoch 51/55\n",
      "6400/6400 [==============================] - 4s 606us/sample - loss: -2851.5663\n",
      "Epoch 52/55\n",
      "6400/6400 [==============================] - 4s 614us/sample - loss: -2963.0065\n",
      "Epoch 53/55\n",
      "6400/6400 [==============================] - 4s 619us/sample - loss: -3085.6717\n",
      "Epoch 54/55\n",
      "6400/6400 [==============================] - 4s 611us/sample - loss: -3215.9904\n",
      "Epoch 55/55\n",
      "6400/6400 [==============================] - 4s 612us/sample - loss: -3365.4423\n",
      "Adjusted element weight down on 23 candidate elements. Mean weight = 7.01e-01\n",
      "Geom Mean Resolution:   1138.88 arc seconds\n",
      "Geom Mean Threshold :   6801.51 arc seconds\n",
      "Mean Hits           :      2.35\n",
      "Mean Log Likelihood :    169.09\n",
      "\n",
      "Training episode 11: Epoch   55, Batch   5500\n",
      "effective_learning_rate=4.278e-05, training_time 249 sec.\n",
      "Train on 6400 samples\n",
      "Epoch 56/60\n",
      "6400/6400 [==============================] - 4s 611us/sample - loss: -2999.3019\n",
      "Epoch 57/60\n",
      "6400/6400 [==============================] - 4s 609us/sample - loss: -3118.6702\n",
      "Epoch 58/60\n",
      "6400/6400 [==============================] - 4s 615us/sample - loss: -3254.5035\n",
      "Epoch 59/60\n",
      "6400/6400 [==============================] - 4s 606us/sample - loss: -3407.5027\n",
      "Epoch 60/60\n",
      "6400/6400 [==============================] - 4s 606us/sample - loss: -3573.4003\n",
      "Adjusted element weight down on 27 candidate elements. Mean weight = 6.21e-01\n",
      "Geom Mean Resolution:   1151.90 arc seconds\n",
      "Geom Mean Threshold :   6714.44 arc seconds\n",
      "Mean Hits           :      3.60\n",
      "Mean Log Likelihood :    177.66\n",
      "\n",
      "Training episode 12: Epoch   60, Batch   6000\n",
      "effective_learning_rate=3.791e-05, training_time 270 sec.\n",
      "Train on 6400 samples\n",
      "Epoch 61/65\n",
      "6400/6400 [==============================] - 4s 610us/sample - loss: -3281.1053\n",
      "Epoch 62/65\n",
      "6400/6400 [==============================] - 4s 607us/sample - loss: -3452.8387\n",
      "Epoch 63/65\n",
      "6400/6400 [==============================] - 4s 608us/sample - loss: -3663.0019\n",
      "Epoch 64/65\n",
      "6400/6400 [==============================] - 4s 610us/sample - loss: -3891.6995\n",
      "Epoch 65/65\n",
      "6400/6400 [==============================] - 4s 612us/sample - loss: -4120.8720\n",
      "Adjusted element weight down on 31 candidate elements. Mean weight = 5.40e-01\n",
      "Geom Mean Resolution:   1159.80 arc seconds\n",
      "Geom Mean Threshold :   6611.99 arc seconds\n",
      "Mean Hits           :      3.69\n",
      "Mean Log Likelihood :    186.10\n",
      "\n",
      "Training episode 13: Epoch   65, Batch   6500\n",
      "effective_learning_rate=3.297e-05, training_time 291 sec.\n",
      "Train on 6400 samples\n",
      "Epoch 66/70\n",
      "6400/6400 [==============================] - 4s 627us/sample - loss: -3972.8579\n",
      "Epoch 67/70\n",
      "6400/6400 [==============================] - 4s 617us/sample - loss: -4246.8867\n",
      "Epoch 68/70\n",
      "6400/6400 [==============================] - 4s 622us/sample - loss: -4586.8543\n",
      "Epoch 69/70\n",
      "6400/6400 [==============================] - 4s 615us/sample - loss: -4965.0499\n",
      "Epoch 70/70\n",
      "6400/6400 [==============================] - 4s 621us/sample - loss: -5388.1698\n",
      "Adjusted element weight down on 40 candidate elements. Mean weight = 4.28e-01\n",
      "Geom Mean Resolution:   1159.38 arc seconds\n",
      "Geom Mean Threshold :   6561.70 arc seconds\n",
      "Mean Hits           :      3.77\n",
      "Mean Log Likelihood :    189.13\n",
      "\n",
      "********************************************************************************\n",
      "Terminating: Completed 7000 batches.\n",
      "********************************************************************************\n",
      "Restoring original learning rate 2.44e-04.\n",
      "     \\  log_like :  hits  :    R_sec : thresh_sec\n",
      "Mean   :   189.13  :   3.77 :  1568.84 :  6799.43\n",
      "Median :   160.87  :   0.00 :  1805.29 :  7200.00\n",
      "GeoMean:   149.86  :   1.35 :  1161.69 :  6562.80\n",
      "Std    :   115.45  :  16.36 :   749.07 :  1299.63\n",
      "Min    :    22.24  :   0.00 :    47.70 :  1755.44\n",
      "Max    :   448.22  : 102.89 :  2653.29 :  7200.00\n",
      "Trained for 7000 batches over 70 epochs and 14 episodes.\n"
     ]
    },
    {
     "data": {
      "image/png": "[encoded data removed]",
      "text/plain": [
       "<Figure size 1152x720 with 1 Axes>"
      ]
     },
     "metadata": {
      "needs_background": "light"
     },
     "output_type": "display_data"
    },
    {
     "data": {
      "image/png": "[encoded data removed]",
      "text/plain": [
       "<Figure size 1152x720 with 1 Axes>"
      ]
     },
     "metadata": {
      "needs_background": "light"
     },
     "output_type": "display_data"
    },
    {
     "name": "stdout",
     "output_type": "stream",
     "text": [
      "\n",
      "********************************************************************************\n",
      "Round 3: 1000 batches @ LR 2^-12 with frozen elements.\n",
      "********************************************************************************\n",
      "\n",
      "Training episode 14: Epoch   70, Batch   7000\n",
      "effective_learning_rate=2.612e-05, training_time 312 sec.\n",
      "Train on 6400 samples\n",
      "Epoch 71/75\n",
      "6400/6400 [==============================] - 5s 763us/sample - loss: -5226.1586\n",
      "Epoch 72/75\n",
      "6400/6400 [==============================] - 3s 533us/sample - loss: -6552.7979\n",
      "Epoch 73/75\n",
      "6400/6400 [==============================] - 3s 533us/sample - loss: -8533.9104\n",
      "Epoch 74/75\n",
      "6400/6400 [==============================] - 3s 524us/sample - loss: -11762.4659\n",
      "Epoch 75/75\n",
      "6400/6400 [==============================] - 3s 525us/sample - loss: -16938.6678\n",
      "Adjusted element weight down on 11 candidate elements. Mean weight = 9.14e-01\n",
      "Geom Mean Resolution:   1248.86 arc seconds\n",
      "Geom Mean Threshold :   6561.70 arc seconds\n",
      "Mean Hits           :      3.77\n",
      "Mean Log Likelihood :    202.09\n",
      "\n",
      "Training episode 15: Epoch   75, Batch   7500\n",
      "effective_learning_rate=2.232e-04, training_time 334 sec.\n",
      "Train on 6400 samples\n",
      "Epoch 76/80\n",
      "6400/6400 [==============================] - 3s 532us/sample - loss: -3604.1131\n",
      "Epoch 77/80\n",
      "6400/6400 [==============================] - 3s 529us/sample - loss: -3740.4196\n",
      "Epoch 78/80\n",
      "6400/6400 [==============================] - 3s 536us/sample - loss: -3868.3684\n",
      "Epoch 79/80\n",
      "6400/6400 [==============================] - 3s 542us/sample - loss: -4009.1471\n",
      "Epoch 80/80\n",
      "6400/6400 [==============================] - 3s 539us/sample - loss: -4180.7466\n",
      "Adjusted element weight down on 16 candidate elements. Mean weight = 8.28e-01\n",
      "Geom Mean Resolution:   1261.45 arc seconds\n",
      "Geom Mean Threshold :   6539.94 arc seconds\n",
      "Mean Hits           :      3.58\n",
      "Mean Log Likelihood :    203.85\n",
      "\n",
      "********************************************************************************\n",
      "Terminating: Completed 8000 batches.\n",
      "********************************************************************************\n",
      "     \\  log_like :  hits  :    R_sec : thresh_sec\n",
      "Mean   :   203.85  :   3.58 :  1766.01 :  6794.18\n",
      "Median :   178.52  :   0.00 :  2053.70 :  7200.00\n",
      "GeoMean:   163.71  :   1.35 :  1264.11 :  6541.06\n",
      "Std    :   115.13  :  15.22 :   887.96 :  1320.51\n",
      "Min    :    22.24  :   0.00 :    33.44 :  1419.32\n",
      "Max    :   448.56  :  90.39 :  3332.77 :  7200.00\n",
      "Trained for 8000 batches over 80 epochs and 16 episodes.\n"
     ]
    },
    {
     "data": {
      "image/png": "[encoded data removed]",
      "text/plain": [
       "<Figure size 1152x720 with 1 Axes>"
      ]
     },
     "metadata": {
      "needs_background": "light"
     },
     "output_type": "display_data"
    },
    {
     "data": {
      "image/png": "[encoded data removed]",
      "text/plain": [
       "<Figure size 1152x720 with 1 Axes>"
      ]
     },
     "metadata": {
      "needs_background": "light"
     },
     "output_type": "display_data"
    },
    {
     "name": "stdout",
     "output_type": "stream",
     "text": [
      "\n",
      "********************************************************************************\n",
      "Round 4: 5000 batches @ LR 2^-14 with frozen elements.\n",
      "********************************************************************************\n",
      "Applying learning_rate 6.10e-05 (2.0^-14.0) for adaptive training.\n",
      "\n",
      "Training episode 16: Epoch   80, Batch   8000\n",
      "effective_learning_rate=2.022e-04, training_time 351 sec.\n",
      "Train on 6400 samples\n",
      "Epoch 81/85\n",
      "6400/6400 [==============================] - 6s 966us/sample - loss: -1900.9674\n",
      "Epoch 82/85\n",
      "6400/6400 [==============================] - 4s 650us/sample - loss: -1929.1809\n",
      "Epoch 83/85\n",
      "6400/6400 [==============================] - 4s 650us/sample - loss: -1964.8508\n",
      "Epoch 84/85\n",
      "6400/6400 [==============================] - 4s 656us/sample - loss: -2002.2735\n",
      "Epoch 85/85\n",
      "6400/6400 [==============================] - 4s 648us/sample - loss: -2042.6391\n",
      "Adjusted element weight down on 51 candidate elements. Mean weight = 2.92e-01\n",
      "Geom Mean Resolution:   1263.58 arc seconds\n",
      "Geom Mean Threshold :   6539.94 arc seconds\n",
      "Mean Hits           :      3.58\n",
      "Mean Log Likelihood :    204.19\n",
      "\n",
      "Training episode 17: Epoch   85, Batch   8500\n",
      "effective_learning_rate=1.783e-05, training_time 375 sec.\n",
      "Train on 6400 samples\n",
      "Epoch 86/90\n",
      "6400/6400 [==============================] - 4s 660us/sample - loss: -1919.7924\n",
      "Epoch 87/90\n",
      "6400/6400 [==============================] - 4s 662us/sample - loss: -1961.4995\n",
      "Epoch 88/90\n",
      "6400/6400 [==============================] - 4s 662us/sample - loss: -1999.4221\n",
      "Epoch 89/90\n",
      "6400/6400 [==============================] - 4s 660us/sample - loss: -2034.4082\n",
      "Epoch 90/90\n",
      "6400/6400 [==============================] - 4s 664us/sample - loss: -2068.3856\n",
      "Adjusted element weight down on 53 candidate elements. Mean weight = 2.13e-01\n",
      "Geom Mean Resolution:   1263.98 arc seconds\n",
      "Geom Mean Threshold :   6539.94 arc seconds\n",
      "Mean Hits           :      3.58\n",
      "Mean Log Likelihood :    204.36\n",
      "\n",
      "Training episode 18: Epoch   90, Batch   9000\n",
      "effective_learning_rate=1.298e-05, training_time 398 sec.\n",
      "Train on 6400 samples\n",
      "Epoch 91/95\n",
      "6400/6400 [==============================] - 4s 650us/sample - loss: -1928.0467\n",
      "Epoch 92/95\n",
      "6400/6400 [==============================] - 4s 642us/sample - loss: -1956.6161\n",
      "Epoch 93/95\n",
      "6400/6400 [==============================] - 4s 647us/sample - loss: -1998.5188\n",
      "Epoch 94/95\n",
      "6400/6400 [==============================] - 4s 650us/sample - loss: -2048.7226\n",
      "Epoch 95/95\n",
      "6400/6400 [==============================] - 4s 656us/sample - loss: -2085.2194\n",
      "Adjusted element weight down on 55 candidate elements. Mean weight = 1.57e-01\n",
      "Geom Mean Resolution:   1262.56 arc seconds\n",
      "Geom Mean Threshold :   6539.94 arc seconds\n",
      "Mean Hits           :      3.58\n",
      "Mean Log Likelihood :    205.09\n",
      "\n",
      "Training episode 19: Epoch   95, Batch   9500\n",
      "effective_learning_rate=9.601e-06, training_time 420 sec.\n",
      "Train on 6400 samples\n",
      "Epoch 96/100\n",
      "6400/6400 [==============================] - 4s 657us/sample - loss: -1937.9713\n",
      "Epoch 97/100\n",
      "6400/6400 [==============================] - 4s 650us/sample - loss: -1979.7214\n",
      "Epoch 98/100\n",
      "6400/6400 [==============================] - 4s 646us/sample - loss: -2018.2401\n",
      "Epoch 99/100\n",
      "6400/6400 [==============================] - 4s 659us/sample - loss: -2051.8672\n",
      "Epoch 100/100\n",
      "6400/6400 [==============================] - 4s 666us/sample - loss: -2082.0111\n",
      "Adjusted element weight down on 53 candidate elements. Mean weight = 1.25e-01\n",
      "Geom Mean Resolution:   1265.01 arc seconds\n",
      "Geom Mean Threshold :   6539.94 arc seconds\n",
      "Mean Hits           :      3.58\n",
      "Mean Log Likelihood :    205.36\n",
      "\n",
      "Training episode 20: Epoch  100, Batch  10000\n",
      "effective_learning_rate=7.643e-06, training_time 442 sec.\n",
      "Train on 6400 samples\n",
      "Epoch 101/105\n",
      "6400/6400 [==============================] - 4s 675us/sample - loss: -1936.1928\n",
      "Epoch 102/105\n",
      "6400/6400 [==============================] - 4s 667us/sample - loss: -1959.4890\n",
      "Epoch 103/105\n",
      "6400/6400 [==============================] - 4s 675us/sample - loss: -2011.0951\n",
      "Epoch 104/105\n",
      "6400/6400 [==============================] - 4s 672us/sample - loss: -2051.0531\n",
      "Epoch 105/105\n",
      "6400/6400 [==============================] - 4s 669us/sample - loss: -2080.0514\n",
      "Adjusted element weight down on 57 candidate elements. Mean weight = 7.70e-02\n",
      "Geom Mean Resolution:   1265.09 arc seconds\n",
      "Geom Mean Threshold :   6539.94 arc seconds\n",
      "Mean Hits           :      3.58\n",
      "Mean Log Likelihood :    205.48\n",
      "\n",
      "Training episode 21: Epoch  105, Batch  10500\n",
      "effective_learning_rate=4.697e-06, training_time 465 sec.\n",
      "Train on 6400 samples\n",
      "Epoch 106/110\n",
      "6400/6400 [==============================] - 4s 695us/sample - loss: -1934.4612\n",
      "Epoch 107/110\n",
      "6400/6400 [==============================] - 4s 686us/sample - loss: -1961.0529\n",
      "Epoch 108/110\n",
      "6400/6400 [==============================] - 4s 683us/sample - loss: -2016.5596\n",
      "Epoch 109/110\n",
      "6400/6400 [==============================] - 4s 687us/sample - loss: -2056.1352\n",
      "Epoch 110/110\n",
      "6400/6400 [==============================] - 4s 668us/sample - loss: -2083.7143\n",
      "Adjusted element weight down on 58 candidate elements. Mean weight = 5.67e-02\n",
      "Geom Mean Resolution:   1267.70 arc seconds\n",
      "Geom Mean Threshold :   6539.94 arc seconds\n",
      "Mean Hits           :      3.58\n",
      "Mean Log Likelihood :    205.61\n",
      "\n",
      "Training episode 22: Epoch  110, Batch  11000\n",
      "effective_learning_rate=3.459e-06, training_time 489 sec.\n",
      "Train on 6400 samples\n",
      "Epoch 111/115\n",
      "6400/6400 [==============================] - 4s 688us/sample - loss: -1875.5935\n",
      "Epoch 112/115\n",
      "6400/6400 [==============================] - 4s 695us/sample - loss: -1922.5470\n",
      "Epoch 113/115\n",
      "6400/6400 [==============================] - 4s 670us/sample - loss: -1972.6843\n",
      "Epoch 114/115\n",
      "6400/6400 [==============================] - 4s 664us/sample - loss: -2011.2981\n",
      "Epoch 115/115\n",
      "6400/6400 [==============================] - 4s 661us/sample - loss: -2042.4755\n",
      "Adjusted element weight down on 56 candidate elements. Mean weight = 4.66e-02\n",
      "Geom Mean Resolution:   1267.72 arc seconds\n",
      "Geom Mean Threshold :   6539.94 arc seconds\n",
      "Mean Hits           :      3.58\n",
      "Mean Log Likelihood :    205.67\n",
      "\n",
      "Training episode 23: Epoch  115, Batch  11500\n",
      "effective_learning_rate=2.841e-06, training_time 512 sec.\n",
      "Train on 6400 samples\n",
      "Epoch 116/120\n",
      "6400/6400 [==============================] - 4s 673us/sample - loss: -2070.2370\n",
      "Epoch 117/120\n",
      "6400/6400 [==============================] - 4s 671us/sample - loss: -2137.6978\n",
      "Epoch 118/120\n",
      "6400/6400 [==============================] - 4s 689us/sample - loss: -2149.0810\n",
      "Epoch 119/120\n",
      "6400/6400 [==============================] - 4s 692us/sample - loss: -2163.3110\n",
      "Epoch 120/120\n",
      "6400/6400 [==============================] - 4s 695us/sample - loss: -2177.0489\n",
      "Adjusted element weight down on 59 candidate elements. Mean weight = 3.56e-02\n",
      "Geom Mean Resolution:   1267.40 arc seconds\n",
      "Geom Mean Threshold :   6539.94 arc seconds\n",
      "Mean Hits           :      3.58\n",
      "Mean Log Likelihood :    205.72\n",
      "\n",
      "Training episode 24: Epoch  120, Batch  12000\n",
      "effective_learning_rate=2.173e-06, training_time 535 sec.\n",
      "Train on 6400 samples\n",
      "Epoch 121/125\n",
      "6400/6400 [==============================] - 5s 706us/sample - loss: -2160.6114\n",
      "Epoch 122/125\n",
      "6400/6400 [==============================] - 4s 695us/sample - loss: -2139.3636\n",
      "Adjusted element weight down on 55 candidate elements. Mean weight = 2.83e-02\n",
      "Geom Mean Resolution:   1264.41 arc seconds\n",
      "Geom Mean Threshold :   6518.24 arc seconds\n",
      "Mean Hits           :      3.59\n",
      "Mean Log Likelihood :    205.83\n",
      "\n",
      "Training episode 25: Epoch  122, Batch  12200\n",
      "effective_learning_rate=1.729e-06, training_time 546 sec.\n",
      "Train on 6400 samples\n",
      "Epoch 123/127\n",
      "6400/6400 [==============================] - 5s 706us/sample - loss: -2193.5076\n",
      "Epoch 124/127\n",
      "6400/6400 [==============================] - 4s 701us/sample - loss: -2174.2143\n",
      "Adjusted element weight down on 62 candidate elements. Mean weight = 1.61e-02\n",
      "Geom Mean Resolution:   1266.66 arc seconds\n",
      "Geom Mean Threshold :   6518.24 arc seconds\n",
      "Mean Hits           :      3.59\n",
      "Mean Log Likelihood :    205.84\n",
      "\n",
      "Training episode 26: Epoch  124, Batch  12400\n",
      "effective_learning_rate=9.835e-07, training_time 556 sec.\n",
      "Train on 6400 samples\n",
      "Epoch 125/129\n",
      "6400/6400 [==============================] - 5s 718us/sample - loss: -2194.9817\n",
      "Epoch 126/129\n",
      "6400/6400 [==============================] - 5s 724us/sample - loss: -2173.7444\n",
      "Adjusted element weight down on 63 candidate elements. Mean weight = 8.30e-03\n",
      "Geom Mean Resolution:   1266.61 arc seconds\n",
      "Geom Mean Threshold :   6518.24 arc seconds\n",
      "Mean Hits           :      3.59\n",
      "Mean Log Likelihood :    205.84\n",
      "\n",
      "********************************************************************************\n",
      "Terminating: Effective Learning Rate 5.066e-07 <= minimum 9.537e-07.\n",
      "********************************************************************************\n",
      "Restoring original learning rate 2.44e-04.\n",
      "     \\  log_like :  hits  :    R_sec : thresh_sec\n",
      "Mean   :   205.84  :   3.59 :  1773.31 :  6782.62\n",
      "Median :   181.72  :   0.00 :  2053.70 :  7200.00\n",
      "GeoMean:   166.52  :   1.35 :  1269.32 :  6519.37\n",
      "Std    :   114.26  :  15.22 :   876.94 :  1344.88\n",
      "Min    :    22.26  :   0.00 :    33.44 :  1419.32\n",
      "Max    :   448.56  :  90.39 :  3332.77 :  7200.00\n",
      "Trained for 12600 batches over 126 epochs and 27 episodes.\n"
     ]
    },
    {
     "data": {
      "image/png": "[encoded data removed]",
      "text/plain": [
       "<Figure size 1152x720 with 1 Axes>"
      ]
     },
     "metadata": {
      "needs_background": "light"
     },
     "output_type": "display_data"
    },
    {
     "data": {
      "image/png": "[encoded data removed]",
      "text/plain": [
       "<Figure size 1152x720 with 1 Axes>"
      ]
     },
     "metadata": {
      "needs_background": "light"
     },
     "output_type": "display_data"
    },
    {
     "name": "stdout",
     "output_type": "stream",
     "text": [
      "\n",
      "********************************************************************************\n",
      "Round 3: 1000 batches @ LR 2^-12 with frozen elements.\n",
      "********************************************************************************\n",
      "\n",
      "********************************************************************************\n",
      "Terminating: Effective Learning Rate 5.066e-07 <= minimum 1.907e-06.\n",
      "********************************************************************************\n",
      "     \\  log_like :  hits  :    R_sec : thresh_sec\n",
      "Mean   :   205.84  :   3.59 :  1773.31 :  6782.62\n",
      "Median :   181.72  :   0.00 :  2053.70 :  7200.00\n",
      "GeoMean:   166.52  :   1.35 :  1269.32 :  6519.37\n",
      "Std    :   114.26  :  15.22 :   876.94 :  1344.88\n",
      "Min    :    22.26  :   0.00 :    33.44 :  1419.32\n",
      "Max    :   448.56  :  90.39 :  3332.77 :  7200.00\n",
      "Trained for 12600 batches over 126 epochs and 27 episodes.\n"
     ]
    },
    {
     "data": {
      "image/png": "[encoded data removed]",
      "text/plain": [
       "<Figure size 1152x720 with 1 Axes>"
      ]
     },
     "metadata": {
      "needs_background": "light"
     },
     "output_type": "display_data"
    },
    {
     "data": {
      "image/png": "[encoded data removed]",
      "text/plain": [
       "<Figure size 1152x720 with 1 Axes>"
      ]
     },
     "metadata": {
      "needs_background": "light"
     },
     "output_type": "display_data"
    },
    {
     "data": {
      "image/png": "[encoded data removed]",
      "text/plain": [
       "<Figure size 1152x720 with 1 Axes>"
      ]
     },
     "metadata": {
      "needs_background": "light"
     },
     "output_type": "display_data"
    },
    {
     "data": {
      "image/png": "[encoded data removed]",
      "text/plain": [
       "<Figure size 1152x720 with 1 Axes>"
      ]
     },
     "metadata": {
      "needs_background": "light"
     },
     "output_type": "display_data"
    },
    {
     "data": {
      "image/png": "[encoded data removed]",
      "text/plain": [
       "<Figure size 1152x720 with 1 Axes>"
      ]
     },
     "metadata": {
      "needs_background": "light"
     },
     "output_type": "display_data"
    },
    {
     "ename": "AttributeError",
     "evalue": "'DataFrame' object has no attribute 'nearest_ast_dist'",
     "output_type": "error",
     "traceback": [
      "\u001b[0;31m---------------------------------------------------------------------------\u001b[0m",
      "\u001b[0;31mAttributeError\u001b[0m                            Traceback (most recent call last)",
      "\u001b[0;32m<ipython-input-26-9f588405395f>\u001b[0m in \u001b[0;36m<module>\u001b[0;34m\u001b[0m\n\u001b[0;32m----> 1\u001b[0;31m \u001b[0mmodel\u001b[0m\u001b[0;34m.\u001b[0m\u001b[0msieve\u001b[0m\u001b[0;34m(\u001b[0m\u001b[0mnearest_ast\u001b[0m\u001b[0;34m=\u001b[0m\u001b[0;32mTrue\u001b[0m\u001b[0;34m)\u001b[0m\u001b[0;34m\u001b[0m\u001b[0;34m\u001b[0m\u001b[0m\n\u001b[0m",
      "\u001b[0;32m~/IACS/kepler-sieve/src/asteroid_search_model.py\u001b[0m in \u001b[0;36msieve\u001b[0;34m(self, nearest_ast)\u001b[0m\n\u001b[1;32m   1555\u001b[0m             \u001b[0m_\u001b[0m \u001b[0;34m=\u001b[0m \u001b[0mself\u001b[0m\u001b[0;34m.\u001b[0m\u001b[0mnearest_ast\u001b[0m\u001b[0;34m\u001b[0m\u001b[0;34m\u001b[0m\u001b[0m\n\u001b[1;32m   1556\u001b[0m \u001b[0;34m\u001b[0m\u001b[0m\n\u001b[0;32m-> 1557\u001b[0;31m             \u001b[0;31m# Plot position error vs. nearest known asteroid\u001b[0m\u001b[0;34m\u001b[0m\u001b[0;34m\u001b[0m\u001b[0;34m\u001b[0m\u001b[0m\n\u001b[0m\u001b[1;32m   1558\u001b[0m             \u001b[0mself\u001b[0m\u001b[0;34m.\u001b[0m\u001b[0mplot_q_error\u001b[0m\u001b[0;34m(\u001b[0m\u001b[0mplot_type\u001b[0m\u001b[0;34m=\u001b[0m\u001b[0;34m'cart'\u001b[0m\u001b[0;34m,\u001b[0m \u001b[0mis_log\u001b[0m\u001b[0;34m=\u001b[0m\u001b[0;32mTrue\u001b[0m\u001b[0;34m,\u001b[0m \u001b[0muse_near_ast_dist\u001b[0m\u001b[0;34m=\u001b[0m\u001b[0;32mTrue\u001b[0m\u001b[0;34m)\u001b[0m\u001b[0;34m\u001b[0m\u001b[0;34m\u001b[0m\u001b[0m\n\u001b[1;32m   1559\u001b[0m             \u001b[0;31m# Plot covariance error\u001b[0m\u001b[0;34m\u001b[0m\u001b[0;34m\u001b[0m\u001b[0;34m\u001b[0m\u001b[0m\n",
      "\u001b[0;32m~/IACS/kepler-sieve/src/asteroid_search_model.py\u001b[0m in \u001b[0;36mplot_q_error\u001b[0;34m(self, elts_true, plot_type, is_log, use_near_ast_dist)\u001b[0m\n\u001b[1;32m   1922\u001b[0m                     \u001b[0mtrajectories\u001b[0m \u001b[0mat\u001b[0m \u001b[0mtimes\u001b[0m \u001b[0mmatching\u001b[0m \u001b[0mthe\u001b[0m \u001b[0mobservation\u001b[0m \u001b[0mtimes\u001b[0m\u001b[0;34m.\u001b[0m\u001b[0;34m\u001b[0m\u001b[0;34m\u001b[0m\u001b[0m\n\u001b[1;32m   1923\u001b[0m         \"\"\"\n\u001b[0;32m-> 1924\u001b[0;31m         \u001b[0;31m# If elts_true wasn't specified, it defaults to nearest asteroid elements\u001b[0m\u001b[0;34m\u001b[0m\u001b[0;34m\u001b[0m\u001b[0;34m\u001b[0m\u001b[0m\n\u001b[0m\u001b[1;32m   1925\u001b[0m         \u001b[0melts_true\u001b[0m \u001b[0;34m=\u001b[0m \u001b[0mself\u001b[0m\u001b[0;34m.\u001b[0m\u001b[0melts_near_ast\u001b[0m\u001b[0;34m\u001b[0m\u001b[0;34m\u001b[0m\u001b[0m\n\u001b[1;32m   1926\u001b[0m \u001b[0;34m\u001b[0m\u001b[0m\n",
      "\u001b[0;32m~/anaconda3/envs/kepler/lib/python3.7/site-packages/pandas/core/generic.py\u001b[0m in \u001b[0;36m__getattr__\u001b[0;34m(self, name)\u001b[0m\n\u001b[1;32m   5272\u001b[0m             \u001b[0;32mif\u001b[0m \u001b[0mself\u001b[0m\u001b[0;34m.\u001b[0m\u001b[0m_info_axis\u001b[0m\u001b[0;34m.\u001b[0m\u001b[0m_can_hold_identifiers_and_holds_name\u001b[0m\u001b[0;34m(\u001b[0m\u001b[0mname\u001b[0m\u001b[0;34m)\u001b[0m\u001b[0;34m:\u001b[0m\u001b[0;34m\u001b[0m\u001b[0;34m\u001b[0m\u001b[0m\n\u001b[1;32m   5273\u001b[0m                 \u001b[0;32mreturn\u001b[0m \u001b[0mself\u001b[0m\u001b[0;34m[\u001b[0m\u001b[0mname\u001b[0m\u001b[0;34m]\u001b[0m\u001b[0;34m\u001b[0m\u001b[0;34m\u001b[0m\u001b[0m\n\u001b[0;32m-> 5274\u001b[0;31m             \u001b[0;32mreturn\u001b[0m \u001b[0mobject\u001b[0m\u001b[0;34m.\u001b[0m\u001b[0m__getattribute__\u001b[0m\u001b[0;34m(\u001b[0m\u001b[0mself\u001b[0m\u001b[0;34m,\u001b[0m \u001b[0mname\u001b[0m\u001b[0;34m)\u001b[0m\u001b[0;34m\u001b[0m\u001b[0;34m\u001b[0m\u001b[0m\n\u001b[0m\u001b[1;32m   5275\u001b[0m \u001b[0;34m\u001b[0m\u001b[0m\n\u001b[1;32m   5276\u001b[0m     \u001b[0;32mdef\u001b[0m \u001b[0m__setattr__\u001b[0m\u001b[0;34m(\u001b[0m\u001b[0mself\u001b[0m\u001b[0;34m,\u001b[0m \u001b[0mname\u001b[0m\u001b[0;34m:\u001b[0m \u001b[0mstr\u001b[0m\u001b[0;34m,\u001b[0m \u001b[0mvalue\u001b[0m\u001b[0;34m)\u001b[0m \u001b[0;34m->\u001b[0m \u001b[0;32mNone\u001b[0m\u001b[0;34m:\u001b[0m\u001b[0;34m\u001b[0m\u001b[0;34m\u001b[0m\u001b[0m\n",
      "\u001b[0;31mAttributeError\u001b[0m: 'DataFrame' object has no attribute 'nearest_ast_dist'"
     ]
    }
   ],
   "source": [
    "model.sieve(nearest_ast=True)"
   ]
  },
  {
   "cell_type": "code",
   "execution_count": 28,
   "metadata": {},
   "outputs": [],
   "source": [
    "_ = model.nearest_ast()"
   ]
  },
  {
   "cell_type": "code",
   "execution_count": 29,
   "metadata": {},
   "outputs": [
    {
     "data": {
      "image/png": "[encoded data removed]",
      "text/plain": [
       "<Figure size 1152x720 with 1 Axes>"
      ]
     },
     "metadata": {
      "needs_background": "light"
     },
     "output_type": "display_data"
    },
    {
     "data": {
      "text/plain": [
       "(<Figure size 1152x720 with 1 Axes>,\n",
       " <matplotlib.axes._subplots.AxesSubplot at 0x7f876c092450>)"
      ]
     },
     "execution_count": 29,
     "metadata": {},
     "output_type": "execute_result"
    }
   ],
   "source": [
    "model.plot_q_error(plot_type='cart', is_log=True, use_near_ast_dist=True)"
   ]
  },
  {
   "cell_type": "code",
   "execution_count": 30,
   "metadata": {},
   "outputs": [
    {
     "data": {
      "image/png": "[encoded data removed]",
      "text/plain": [
       "<Figure size 1152x720 with 1 Axes>"
      ]
     },
     "metadata": {
      "needs_background": "light"
     },
     "output_type": "display_data"
    },
    {
     "data": {
      "text/plain": [
       "(<Figure size 1152x720 with 1 Axes>,\n",
       " <matplotlib.axes._subplots.AxesSubplot at 0x7f877607d750>)"
      ]
     },
     "execution_count": 30,
     "metadata": {},
     "output_type": "execute_result"
    }
   ],
   "source": [
    "model.plot_q_error(plot_type='cov', is_log=True, use_near_ast_dist=True)"
   ]
  },
  {
   "cell_type": "markdown",
   "metadata": {},
   "source": [
    "## Train on Perturbed Elements: Learn Mixture Parameters"
   ]
  },
  {
   "cell_type": "code",
   "execution_count": null,
   "metadata": {},
   "outputs": [],
   "source": [
    "# Visualize log likelihood before traning\n",
    "fig, ax = model.plot_bar('log_like', sorted=False)"
   ]
  },
  {
   "cell_type": "code",
   "execution_count": null,
   "metadata": {},
   "outputs": [],
   "source": [
    "# Adaptive search parameters\n",
    "batches_per_epoch = 100\n",
    "epochs_per_episode = 5\n",
    "thresh_deg_end = None\n",
    "max_bad_episodes = 3\n",
    "min_learning_rate = None\n",
    "save_at_end = False\n",
    "reset_active_weight = False\n",
    "verbose = 1"
   ]
  },
  {
   "cell_type": "code",
   "execution_count": null,
   "metadata": {},
   "outputs": [],
   "source": [
    "# # Train perturbed model with frozen orbital elements\n",
    "# model.search_adaptive(\n",
    "#     max_batches=1000,\n",
    "#     reset_active_weight=True)"
   ]
  },
  {
   "cell_type": "code",
   "execution_count": null,
   "metadata": {},
   "outputs": [],
   "source": [
    "# # Save model\n",
    "# model.save_state()"
   ]
  },
  {
   "cell_type": "code",
   "execution_count": null,
   "metadata": {},
   "outputs": [],
   "source": [
    "# Load model\n",
    "model.load()"
   ]
  },
  {
   "cell_type": "code",
   "execution_count": null,
   "metadata": {},
   "outputs": [],
   "source": [
    "model.report()"
   ]
  },
  {
   "cell_type": "code",
   "execution_count": null,
   "metadata": {},
   "outputs": [],
   "source": [
    "# Reduce max threshold\n",
    "model.set_thresh_deg_max(1.5)"
   ]
  },
  {
   "cell_type": "code",
   "execution_count": null,
   "metadata": {},
   "outputs": [],
   "source": [
    "# Train with frozen orbital elements\n",
    "model.freeze_candidate_elements()\n",
    "model.search_adaptive(\n",
    "    max_batches=model.current_batch + 1000,\n",
    "    learning_rate=2.0**-15,\n",
    "    reset_active_weight=True)"
   ]
  },
  {
   "cell_type": "code",
   "execution_count": null,
   "metadata": {},
   "outputs": [],
   "source": [
    "# Train with live orbital elements\n",
    "model.thaw_candidate_elements()\n",
    "model.search_adaptive(\n",
    "    max_batches=model.current_batch + 5000,\n",
    "    learning_rate=2.0**-12,\n",
    "    reset_active_weight=True)"
   ]
  },
  {
   "cell_type": "code",
   "execution_count": null,
   "metadata": {},
   "outputs": [],
   "source": [
    "# Report after initial training on mixture parameters\n",
    "model.report()"
   ]
  },
  {
   "cell_type": "code",
   "execution_count": null,
   "metadata": {},
   "outputs": [],
   "source": [
    "# Bar chart - log likelihood by element\n",
    "fig, ax = model.plot_bar('log_like', sorted=False)"
   ]
  },
  {
   "cell_type": "code",
   "execution_count": null,
   "metadata": {},
   "outputs": [],
   "source": [
    "# Bar chart - log likelihood by element\n",
    "fig, ax = model.plot_bar('hits', sorted=False)"
   ]
  },
  {
   "cell_type": "code",
   "execution_count": null,
   "metadata": {},
   "outputs": [],
   "source": [
    "# # Bar chart - log likelihood by element\n",
    "# fig, ax = model.plot_bar('R_deg', sorted=False)"
   ]
  },
  {
   "cell_type": "code",
   "execution_count": null,
   "metadata": {},
   "outputs": [],
   "source": [
    "# # Threshold in degrees\n",
    "# fig, ax = model.plot_bar('thresh_deg_score', sorted=False)"
   ]
  },
  {
   "cell_type": "markdown",
   "metadata": {},
   "source": [
    "## Train on Orbital Elements & Mixture Parameters"
   ]
  },
  {
   "cell_type": "code",
   "execution_count": null,
   "metadata": {},
   "outputs": [],
   "source": [
    "# model.save_state()"
   ]
  },
  {
   "cell_type": "code",
   "execution_count": null,
   "metadata": {},
   "outputs": [],
   "source": [
    "# Unfreeze the elements\n",
    "model.thaw_candidate_elements()"
   ]
  },
  {
   "cell_type": "code",
   "execution_count": null,
   "metadata": {},
   "outputs": [],
   "source": [
    "# Train in joint mode; learn elements, mixture_parameters; threshold frozen\n",
    "model.search_adaptive(\n",
    "    max_batches=model.current_batch+100000, \n",
    "    learning_rate=2.0**-12,\n",
    "    reset_active_weight=True)"
   ]
  },
  {
   "cell_type": "code",
   "execution_count": null,
   "metadata": {},
   "outputs": [],
   "source": [
    "# Report after training\n",
    "model.report()"
   ]
  },
  {
   "cell_type": "code",
   "execution_count": null,
   "metadata": {},
   "outputs": [],
   "source": [
    "# Bar chart \n",
    "fig, ax = model.plot_bar('log_like', sorted=False)"
   ]
  },
  {
   "cell_type": "code",
   "execution_count": null,
   "metadata": {},
   "outputs": [],
   "source": [
    "# Bar chart \n",
    "fig, ax = model.plot_bar('hits', sorted=False)"
   ]
  },
  {
   "cell_type": "code",
   "execution_count": null,
   "metadata": {},
   "outputs": [],
   "source": [
    "# model.save_state()"
   ]
  },
  {
   "cell_type": "code",
   "execution_count": null,
   "metadata": {},
   "outputs": [],
   "source": [
    "# Freeze elements; train mixture\n",
    "model.freeze_candidate_elements()\n",
    "model.freeze_score()"
   ]
  },
  {
   "cell_type": "code",
   "execution_count": null,
   "metadata": {},
   "outputs": [],
   "source": [
    "model.search_adaptive(\n",
    "    max_batches=model.current_batch+2000,\n",
    "    learning_rate=2.0**-10,\n",
    "    reset_active_weight=True)"
   ]
  },
  {
   "cell_type": "code",
   "execution_count": null,
   "metadata": {},
   "outputs": [],
   "source": [
    "# Freeze elements; freeze mixture; train score\n",
    "model.freeze_candidate_elements()\n",
    "model.freeze_mixture_parameters()\n",
    "model.freeze_score()"
   ]
  },
  {
   "cell_type": "code",
   "execution_count": null,
   "metadata": {},
   "outputs": [],
   "source": [
    "model.search_adaptive(\n",
    "    max_batches=model.current_batch+1000, \n",
    "    batches_per_epoch=batches_per_epoch,\n",
    "    epochs_per_episode=epochs_per_episode,\n",
    "    reset_active_weight=reset_active_weight,\n",
    "    verbose=verbose)"
   ]
  },
  {
   "cell_type": "code",
   "execution_count": null,
   "metadata": {},
   "outputs": [],
   "source": [
    "# # Bar chart \n",
    "# fig, ax = model.plot_bar('thresh_deg_score', sorted=True)"
   ]
  },
  {
   "cell_type": "code",
   "execution_count": null,
   "metadata": {},
   "outputs": [],
   "source": [
    "# Bar chart - log likelihood by element\n",
    "fig, ax = model.plot_bar('log_like', sorted=True)"
   ]
  },
  {
   "cell_type": "markdown",
   "metadata": {},
   "source": [
    "## Extended Training"
   ]
  },
  {
   "cell_type": "code",
   "execution_count": null,
   "metadata": {},
   "outputs": [],
   "source": [
    "# model.save_state()"
   ]
  },
  {
   "cell_type": "code",
   "execution_count": null,
   "metadata": {},
   "outputs": [],
   "source": [
    "model.set_thresh_deg_max(1.5)"
   ]
  },
  {
   "cell_type": "code",
   "execution_count": null,
   "metadata": {},
   "outputs": [],
   "source": [
    "# Train on elements only\n",
    "model.thaw_candidate_elements()\n",
    "model.freeze_mixture_parameters()\n",
    "model.freeze_score()"
   ]
  },
  {
   "cell_type": "code",
   "execution_count": null,
   "metadata": {},
   "outputs": [],
   "source": [
    "model.search_adaptive(\n",
    "    max_batches=model.current_batch+2000, \n",
    "    batches_per_epoch=batches_per_epoch,\n",
    "    epochs_per_episode=epochs_per_episode,\n",
    "    reset_active_weight=reset_active_weight,\n",
    "    verbose=verbose)"
   ]
  },
  {
   "cell_type": "code",
   "execution_count": null,
   "metadata": {},
   "outputs": [],
   "source": [
    "model.report()"
   ]
  },
  {
   "cell_type": "code",
   "execution_count": null,
   "metadata": {},
   "outputs": [],
   "source": [
    "model.save_state()"
   ]
  },
  {
   "cell_type": "code",
   "execution_count": null,
   "metadata": {},
   "outputs": [],
   "source": [
    "model.thaw_candidate_elements()\n",
    "model.thaw_mixture_parameters()"
   ]
  },
  {
   "cell_type": "code",
   "execution_count": null,
   "metadata": {},
   "outputs": [],
   "source": [
    "model.search_adaptive(\n",
    "    max_batches=model.current_batch+10000, \n",
    "    batches_per_epoch=batches_per_epoch,\n",
    "    epochs_per_episode=epochs_per_episode,\n",
    "    thresh_deg_start=1.0,\n",
    "    thresh_deg_end=0.50,\n",
    "    reset_active_weight=reset_active_weight,    \n",
    "    verbose=verbose)"
   ]
  },
  {
   "cell_type": "code",
   "execution_count": null,
   "metadata": {},
   "outputs": [],
   "source": [
    "model.report()"
   ]
  },
  {
   "cell_type": "code",
   "execution_count": null,
   "metadata": {},
   "outputs": [],
   "source": [
    "# model.save_state()"
   ]
  },
  {
   "cell_type": "code",
   "execution_count": null,
   "metadata": {},
   "outputs": [],
   "source": [
    "model.freeze_candidate_elements()\n",
    "model.thaw_mixture_parameters()"
   ]
  },
  {
   "cell_type": "code",
   "execution_count": null,
   "metadata": {},
   "outputs": [],
   "source": [
    "model.search_adaptive(\n",
    "    max_batches=model.current_batch+1000, \n",
    "    batches_per_epoch=batches_per_epoch,\n",
    "    epochs_per_episode=epochs_per_episode,\n",
    "    thresh_deg_start=None,\n",
    "    thresh_deg_end=None,\n",
    "    reset_active_weight=True,\n",
    "    verbose=verbose)"
   ]
  },
  {
   "cell_type": "code",
   "execution_count": null,
   "metadata": {},
   "outputs": [],
   "source": [
    "model.save_state()"
   ]
  },
  {
   "cell_type": "code",
   "execution_count": null,
   "metadata": {},
   "outputs": [],
   "source": [
    "model.thaw_candidate_elements()\n",
    "model.thaw_mixture_parameters()"
   ]
  },
  {
   "cell_type": "code",
   "execution_count": null,
   "metadata": {},
   "outputs": [],
   "source": [
    "model.set_thresh_deg_max(0.75)"
   ]
  },
  {
   "cell_type": "code",
   "execution_count": null,
   "metadata": {},
   "outputs": [],
   "source": [
    "model.search_adaptive(\n",
    "    max_batches=model.current_batch+5000, \n",
    "    batches_per_epoch=batches_per_epoch,\n",
    "    epochs_per_episode=epochs_per_episode,\n",
    "    thresh_deg_start=None,\n",
    "    thresh_deg_end=None,\n",
    "    reset_active_weight=reset_active_weight,    \n",
    "    verbose=verbose)"
   ]
  },
  {
   "cell_type": "code",
   "execution_count": null,
   "metadata": {},
   "outputs": [],
   "source": [
    "# model.search_adaptive(\n",
    "#     max_batches=100000, \n",
    "#     batches_per_epoch=batches_per_epoch,\n",
    "#     epochs_per_episode=epochs_per_episode,\n",
    "#     learning_rate=2.0**-16,\n",
    "#     reset_active_weight=True,\n",
    "#     save_at_end=False,\n",
    "#     verbose=verbose)"
   ]
  },
  {
   "cell_type": "code",
   "execution_count": null,
   "metadata": {},
   "outputs": [],
   "source": [
    "# model.save_state()"
   ]
  },
  {
   "cell_type": "markdown",
   "metadata": {},
   "source": [
    "## Review Results Graphically"
   ]
  },
  {
   "cell_type": "code",
   "execution_count": null,
   "metadata": {},
   "outputs": [],
   "source": [
    "# Bar chart - log likelihood by element\n",
    "fig, ax = model.plot_bar('log_like', sorted=False)"
   ]
  },
  {
   "cell_type": "code",
   "execution_count": null,
   "metadata": {},
   "outputs": [],
   "source": [
    "# Bar chart: hits\n",
    "fig, ax = model.plot_bar('hits', sorted=False)"
   ]
  },
  {
   "cell_type": "code",
   "execution_count": null,
   "metadata": {},
   "outputs": [],
   "source": [
    "# Bar chart: log likelihood\n",
    "fig, ax = model.plot_bar('R_deg', sorted=False)"
   ]
  },
  {
   "cell_type": "code",
   "execution_count": null,
   "metadata": {},
   "outputs": [],
   "source": [
    "# Learning curve: log likelihood\n",
    "fig, ax = model.plot_hist('log_like')"
   ]
  },
  {
   "cell_type": "code",
   "execution_count": null,
   "metadata": {},
   "outputs": [],
   "source": [
    "# # Learning curve: hits\n",
    "# fig, ax = model.plot_hist('hits')"
   ]
  },
  {
   "cell_type": "markdown",
   "metadata": {},
   "source": [
    "## Distance vs. Nearest Asteroid for Fitted Elements"
   ]
  },
  {
   "cell_type": "code",
   "execution_count": null,
   "metadata": {},
   "outputs": [],
   "source": [
    "# Find nearest asteroid to fitted elements - search on Cartesian distance\n",
    "elts_fit, elts_near = model.nearest_ast(search_type='cart')"
   ]
  },
  {
   "cell_type": "code",
   "execution_count": null,
   "metadata": {},
   "outputs": [],
   "source": [
    "# Review fitted elements including nearest asteroid\n",
    "elts_fit"
   ]
  },
  {
   "cell_type": "code",
   "execution_count": null,
   "metadata": {},
   "outputs": [],
   "source": [
    "q_norm = elt_q_norm(elts=elts_fit, ast_num=elts_fit.nearest_ast_num)\n",
    "elts_fit['nearest_ast_q_norm'] = q_norm"
   ]
  },
  {
   "cell_type": "code",
   "execution_count": null,
   "metadata": {},
   "outputs": [],
   "source": [
    "# Review asteroids nearest to the fitted elements\n",
    "elts_near"
   ]
  },
  {
   "cell_type": "code",
   "execution_count": null,
   "metadata": {},
   "outputs": [],
   "source": [
    "# Find nearest asteroid to fitted elements - search on Covariance metric\n",
    "elts_fit, elts_near = model.nearest_ast(search_type='cov')"
   ]
  },
  {
   "cell_type": "code",
   "execution_count": null,
   "metadata": {},
   "outputs": [],
   "source": [
    "# # Filter for only the good ones\n",
    "# mask = (elts_fit.log_like > 200) & (elts_fit.R_sec < 60)\n",
    "# elts_fit[mask]"
   ]
  },
  {
   "cell_type": "code",
   "execution_count": null,
   "metadata": {},
   "outputs": [],
   "source": [
    "# # Filter for incomplete convergence\n",
    "# mask = (elts_fit.log_like > 200) & (elts_fit.R_sec >= 60)\n",
    "# elts_fit[mask]"
   ]
  },
  {
   "cell_type": "markdown",
   "metadata": {},
   "source": [
    "## Visualize Error vs. Nearest Asteroid"
   ]
  },
  {
   "cell_type": "code",
   "execution_count": null,
   "metadata": {},
   "outputs": [],
   "source": [
    "# model.elts_near_ast"
   ]
  },
  {
   "cell_type": "code",
   "execution_count": null,
   "metadata": {},
   "outputs": [],
   "source": [
    "model.elts_fit"
   ]
  },
  {
   "cell_type": "code",
   "execution_count": null,
   "metadata": {},
   "outputs": [],
   "source": [
    "q_norm = elt_q_norm(elts=model.elts_fit, ast_num=model.elts_fit.nearest_ast_num)"
   ]
  },
  {
   "cell_type": "code",
   "execution_count": null,
   "metadata": {},
   "outputs": [],
   "source": [
    "mask = q_norm < 1\n",
    "np.round(q_norm[mask], 2)"
   ]
  },
  {
   "cell_type": "code",
   "execution_count": null,
   "metadata": {},
   "outputs": [],
   "source": [
    "ast_elt_near_cov = nearest_ast_elt_cov(elts=model.elts_fit)"
   ]
  },
  {
   "cell_type": "code",
   "execution_count": null,
   "metadata": {},
   "outputs": [],
   "source": [
    "ast_elt_near_cov"
   ]
  },
  {
   "cell_type": "code",
   "execution_count": null,
   "metadata": {},
   "outputs": [],
   "source": [
    "dElt = ast_elt_near_cov[cols] - elts_fit[cols]\n",
    "dElt[62:63]"
   ]
  },
  {
   "cell_type": "code",
   "execution_count": null,
   "metadata": {},
   "outputs": [],
   "source": [
    "X_ast = elts_to_X_cov(ast_elt_near_cov)\n",
    "U_ast = np.dot(X_ast, beta)\n",
    "# np.linalg.norm(U_ast, axis=1)\n",
    "X_ast[62]"
   ]
  },
  {
   "cell_type": "code",
   "execution_count": null,
   "metadata": {},
   "outputs": [],
   "source": [
    "U_ast[62]"
   ]
  },
  {
   "cell_type": "code",
   "execution_count": null,
   "metadata": {},
   "outputs": [],
   "source": [
    "X_elt = elts_to_X_cov(elts_fit)\n",
    "U_elt = np.dot(U_ast, beta)\n",
    "X_elt[62:63]"
   ]
  },
  {
   "cell_type": "code",
   "execution_count": null,
   "metadata": {},
   "outputs": [],
   "source": [
    "U_elt[62]"
   ]
  },
  {
   "cell_type": "code",
   "execution_count": null,
   "metadata": {},
   "outputs": [],
   "source": [
    "dU = U_elt - U_ast"
   ]
  },
  {
   "cell_type": "code",
   "execution_count": null,
   "metadata": {},
   "outputs": [],
   "source": [
    "dU[62]"
   ]
  },
  {
   "cell_type": "code",
   "execution_count": null,
   "metadata": {},
   "outputs": [],
   "source": [
    "np.linalg.norm(dU[62])"
   ]
  },
  {
   "cell_type": "code",
   "execution_count": null,
   "metadata": {},
   "outputs": [],
   "source": [
    "ast_elt_near_cov[cols].loc[62].values"
   ]
  },
  {
   "cell_type": "code",
   "execution_count": null,
   "metadata": {},
   "outputs": [],
   "source": [
    "# covariance type difference vs. nearest asteroid element\n",
    "from nearest_asteroid import beta, X_beta, elts_to_X_cov"
   ]
  },
  {
   "cell_type": "code",
   "execution_count": null,
   "metadata": {},
   "outputs": [],
   "source": [
    "ast_elt"
   ]
  },
  {
   "cell_type": "code",
   "execution_count": null,
   "metadata": {},
   "outputs": [],
   "source": [
    "# Plot position error vs. known elements\n",
    "fig, ax = model.plot_q_error(is_log=True, use_near_ast_dist=True)"
   ]
  },
  {
   "cell_type": "code",
   "execution_count": null,
   "metadata": {},
   "outputs": [],
   "source": [
    "# Plot error in orbital elements\n",
    "fig, ax = model.plot_elt_error(elt_name='a', is_log=True, elt_num=None)"
   ]
  },
  {
   "cell_type": "code",
   "execution_count": null,
   "metadata": {},
   "outputs": [],
   "source": [
    "# Plot error in orbital elements\n",
    "fig, ax = model.plot_elt_error(elt_name='e', is_log=True, elt_num=None)"
   ]
  },
  {
   "cell_type": "code",
   "execution_count": null,
   "metadata": {},
   "outputs": [],
   "source": []
  }
 ],
 "metadata": {
  "kernelspec": {
   "display_name": "Python [conda env:kepler]",
   "language": "python",
   "name": "conda-env-kepler-py"
  },
  "language_info": {
   "codemirror_mode": {
    "name": "ipython",
    "version": 3
   },
   "file_extension": ".py",
   "mimetype": "text/x-python",
   "name": "python",
   "nbconvert_exporter": "python",
   "pygments_lexer": "ipython3",
   "version": "3.7.6"
  }
 },
 "nbformat": 4,
 "nbformat_minor": 4
}
