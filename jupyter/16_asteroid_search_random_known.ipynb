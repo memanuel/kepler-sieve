{
 "cells": [
  {
   "cell_type": "code",
   "execution_count": 1,
   "metadata": {},
   "outputs": [],
   "source": [
    "# Core\n",
    "import numpy as np\n",
    "import pandas as pd\n",
    "\n",
    "# Tensorflow / ML\n",
    "import tensorflow as tf\n",
    "from tensorflow.python.keras import backend as K\n",
    "\n",
    "# Plotting\n",
    "import matplotlib.pyplot as plt\n",
    "import matplotlib as mpl\n",
    "\n",
    "# Utility\n",
    "import time"
   ]
  },
  {
   "cell_type": "code",
   "execution_count": 2,
   "metadata": {},
   "outputs": [
    {
     "name": "stdout",
     "output_type": "stream",
     "text": [
      "Found 4 GPUs.  Setting memory growth = True.\n"
     ]
    }
   ],
   "source": [
    "# Configure TF GPU growth\n",
    "import kepler_sieve\n",
    "from tf_utils import gpu_grow_memory\n",
    "gpu_grow_memory(verbose=True)"
   ]
  },
  {
   "cell_type": "code",
   "execution_count": 3,
   "metadata": {},
   "outputs": [],
   "source": [
    "# MSE Imports\n",
    "from asteroid_element import load_ast_elt\n",
    "from candidate_element import asteroid_elts, random_elts, elts_add_mixture_params, elts_add_H\n",
    "from random_elements import best_random_elts, make_ztf_ast\n",
    "from ztf_ast import load_ztf_nearest_ast, calc_hit_freq\n",
    "from ztf_element import load_ztf_batch, make_ztf_batch, ztf_score_by_elt, ztf_elt_summary\n",
    "from asteroid_model import AsteroidPosition, AsteroidDirection, make_model_ast_pos\n",
    "from asteroid_search_layers import CandidateElements, TrajectoryScore\n",
    "from asteroid_search_model import AsteroidSearchModel, make_opt_adam\n",
    "from asteroid_search_report import traj_diff\n",
    "from nearest_asteroid import nearest_ast_elt_cart, nearest_ast_elt_cov, elt_q_norm\n",
    "from element_eda import score_by_elt\n",
    "from asteroid_dataframe import calc_ast_data, spline_ast_vec_df\n",
    "from astro_utils import deg2dist, dist2deg, dist2sec"
   ]
  },
  {
   "cell_type": "code",
   "execution_count": 4,
   "metadata": {},
   "outputs": [],
   "source": [
    "# Aliases\n",
    "keras = tf.keras\n",
    "\n",
    "# Constants\n",
    "dtype = tf.float32\n",
    "dtype_np = np.float32\n",
    "space_dims = 3"
   ]
  },
  {
   "cell_type": "code",
   "execution_count": 5,
   "metadata": {},
   "outputs": [],
   "source": [
    "# Set plot style variables\n",
    "mpl.rcParams['figure.figsize'] = [16.0, 10.0]\n",
    "mpl.rcParams['font.size'] = 16"
   ]
  },
  {
   "cell_type": "markdown",
   "metadata": {},
   "source": [
    "## Load ZTF Data and Batch of Orbital Elements"
   ]
  },
  {
   "cell_type": "code",
   "execution_count": 6,
   "metadata": {},
   "outputs": [],
   "source": [
    "# Load orbital elements for known asteroids\n",
    "ast_elt = load_ast_elt()\n",
    "\n",
    "# Number of asteroids\n",
    "N_ast = ast_elt.shape[0]"
   ]
  },
  {
   "cell_type": "code",
   "execution_count": 7,
   "metadata": {},
   "outputs": [],
   "source": [
    "# Parameters to build random orbital elements and ztf_ast\n",
    "random_seed = 0\n",
    "known_ast = True\n",
    "batch_size_init = 1024\n",
    "batch_size = 64\n",
    "thresh_deg = 2.0"
   ]
  },
  {
   "cell_type": "code",
   "execution_count": 8,
   "metadata": {},
   "outputs": [],
   "source": [
    "# Load ztf nearest asteroid data for known asteroids\n",
    "ztf_ast = make_ztf_ast(known_ast=known_ast)"
   ]
  },
  {
   "cell_type": "code",
   "execution_count": 9,
   "metadata": {},
   "outputs": [
    {
     "data": {
      "text/html": [
       "<div>\n",
       "<style scoped>\n",
       "    .dataframe tbody tr th:only-of-type {\n",
       "        vertical-align: middle;\n",
       "    }\n",
       "\n",
       "    .dataframe tbody tr th {\n",
       "        vertical-align: top;\n",
       "    }\n",
       "\n",
       "    .dataframe thead th {\n",
       "        text-align: right;\n",
       "    }\n",
       "</style>\n",
       "<table border=\"1\" class=\"dataframe\">\n",
       "  <thead>\n",
       "    <tr style=\"text-align: right;\">\n",
       "      <th></th>\n",
       "      <th>ztf_id</th>\n",
       "      <th>ObjectID</th>\n",
       "      <th>CandidateID</th>\n",
       "      <th>TimeStampID</th>\n",
       "      <th>mjd</th>\n",
       "      <th>ra</th>\n",
       "      <th>dec</th>\n",
       "      <th>ux</th>\n",
       "      <th>uy</th>\n",
       "      <th>uz</th>\n",
       "      <th>mag_app</th>\n",
       "      <th>asteroid_prob</th>\n",
       "      <th>nearest_ast_num</th>\n",
       "      <th>nearest_ast_dist</th>\n",
       "      <th>ast_ra</th>\n",
       "      <th>ast_dec</th>\n",
       "      <th>ast_ux</th>\n",
       "      <th>ast_uy</th>\n",
       "      <th>ast_uz</th>\n",
       "      <th>is_hit</th>\n",
       "    </tr>\n",
       "  </thead>\n",
       "  <tbody>\n",
       "    <tr>\n",
       "      <th>602</th>\n",
       "      <td>602</td>\n",
       "      <td>b'ZTF18acqvjbw'</td>\n",
       "      <td>689314713015015008</td>\n",
       "      <td>16951</td>\n",
       "      <td>58443.314711</td>\n",
       "      <td>63.025354</td>\n",
       "      <td>17.655906</td>\n",
       "      <td>0.432230</td>\n",
       "      <td>0.899796</td>\n",
       "      <td>-0.059531</td>\n",
       "      <td>18.519199</td>\n",
       "      <td>1.000000</td>\n",
       "      <td>135355</td>\n",
       "      <td>3.663691e-06</td>\n",
       "      <td>63.025567</td>\n",
       "      <td>17.655961</td>\n",
       "      <td>0.432226</td>\n",
       "      <td>0.899798</td>\n",
       "      <td>-0.059531</td>\n",
       "      <td>True</td>\n",
       "    </tr>\n",
       "    <tr>\n",
       "      <th>649</th>\n",
       "      <td>649</td>\n",
       "      <td>b'ZTF18acrcadh'</td>\n",
       "      <td>693308213515015017</td>\n",
       "      <td>17096</td>\n",
       "      <td>58447.308218</td>\n",
       "      <td>113.354357</td>\n",
       "      <td>33.962194</td>\n",
       "      <td>-0.328791</td>\n",
       "      <td>0.920837</td>\n",
       "      <td>0.209659</td>\n",
       "      <td>18.055201</td>\n",
       "      <td>1.000000</td>\n",
       "      <td>29076</td>\n",
       "      <td>8.997226e-07</td>\n",
       "      <td>113.354324</td>\n",
       "      <td>33.962150</td>\n",
       "      <td>-0.328790</td>\n",
       "      <td>0.920837</td>\n",
       "      <td>0.209658</td>\n",
       "      <td>True</td>\n",
       "    </tr>\n",
       "    <tr>\n",
       "      <th>811</th>\n",
       "      <td>811</td>\n",
       "      <td>b'ZTF18abwawbk'</td>\n",
       "      <td>621435901715015019</td>\n",
       "      <td>9621</td>\n",
       "      <td>58375.435903</td>\n",
       "      <td>32.348343</td>\n",
       "      <td>11.149056</td>\n",
       "      <td>0.828867</td>\n",
       "      <td>0.558563</td>\n",
       "      <td>-0.031414</td>\n",
       "      <td>19.707199</td>\n",
       "      <td>1.000000</td>\n",
       "      <td>101787</td>\n",
       "      <td>2.084178e-06</td>\n",
       "      <td>32.348465</td>\n",
       "      <td>11.149059</td>\n",
       "      <td>0.828866</td>\n",
       "      <td>0.558565</td>\n",
       "      <td>-0.031414</td>\n",
       "      <td>True</td>\n",
       "    </tr>\n",
       "    <tr>\n",
       "      <th>833</th>\n",
       "      <td>833</td>\n",
       "      <td>b'ZTF18acurwxa'</td>\n",
       "      <td>707509454415015012</td>\n",
       "      <td>18339</td>\n",
       "      <td>58461.509456</td>\n",
       "      <td>103.310341</td>\n",
       "      <td>27.540611</td>\n",
       "      <td>-0.204137</td>\n",
       "      <td>0.975586</td>\n",
       "      <td>0.080995</td>\n",
       "      <td>19.427401</td>\n",
       "      <td>1.000000</td>\n",
       "      <td>138763</td>\n",
       "      <td>4.068908e-06</td>\n",
       "      <td>103.310581</td>\n",
       "      <td>27.540515</td>\n",
       "      <td>-0.204141</td>\n",
       "      <td>0.975585</td>\n",
       "      <td>0.080994</td>\n",
       "      <td>True</td>\n",
       "    </tr>\n",
       "    <tr>\n",
       "      <th>890</th>\n",
       "      <td>890</td>\n",
       "      <td>b'ZTF18acuiphp'</td>\n",
       "      <td>707257536115015009</td>\n",
       "      <td>18272</td>\n",
       "      <td>58461.257535</td>\n",
       "      <td>48.496514</td>\n",
       "      <td>22.452973</td>\n",
       "      <td>0.612431</td>\n",
       "      <td>0.786949</td>\n",
       "      <td>0.075091</td>\n",
       "      <td>19.038000</td>\n",
       "      <td>0.976392</td>\n",
       "      <td>105289</td>\n",
       "      <td>3.491132e-06</td>\n",
       "      <td>48.496726</td>\n",
       "      <td>22.453012</td>\n",
       "      <td>0.612428</td>\n",
       "      <td>0.786952</td>\n",
       "      <td>0.075091</td>\n",
       "      <td>True</td>\n",
       "    </tr>\n",
       "    <tr>\n",
       "      <th>...</th>\n",
       "      <td>...</td>\n",
       "      <td>...</td>\n",
       "      <td>...</td>\n",
       "      <td>...</td>\n",
       "      <td>...</td>\n",
       "      <td>...</td>\n",
       "      <td>...</td>\n",
       "      <td>...</td>\n",
       "      <td>...</td>\n",
       "      <td>...</td>\n",
       "      <td>...</td>\n",
       "      <td>...</td>\n",
       "      <td>...</td>\n",
       "      <td>...</td>\n",
       "      <td>...</td>\n",
       "      <td>...</td>\n",
       "      <td>...</td>\n",
       "      <td>...</td>\n",
       "      <td>...</td>\n",
       "      <td>...</td>\n",
       "    </tr>\n",
       "    <tr>\n",
       "      <th>5697829</th>\n",
       "      <td>5697829</td>\n",
       "      <td>b'ZTF20aarepii'</td>\n",
       "      <td>1151522393415015017</td>\n",
       "      <td>97090</td>\n",
       "      <td>58905.522396</td>\n",
       "      <td>236.892710</td>\n",
       "      <td>-2.341055</td>\n",
       "      <td>-0.545753</td>\n",
       "      <td>-0.784135</td>\n",
       "      <td>0.295442</td>\n",
       "      <td>15.089800</td>\n",
       "      <td>1.000000</td>\n",
       "      <td>727</td>\n",
       "      <td>2.473898e-06</td>\n",
       "      <td>236.892569</td>\n",
       "      <td>-2.341034</td>\n",
       "      <td>-0.545755</td>\n",
       "      <td>-0.784134</td>\n",
       "      <td>0.295442</td>\n",
       "      <td>True</td>\n",
       "    </tr>\n",
       "    <tr>\n",
       "      <th>5697832</th>\n",
       "      <td>5697832</td>\n",
       "      <td>b'ZTF20aareowa'</td>\n",
       "      <td>1151522390315015003</td>\n",
       "      <td>97090</td>\n",
       "      <td>58905.522396</td>\n",
       "      <td>237.654792</td>\n",
       "      <td>-5.909325</td>\n",
       "      <td>-0.532176</td>\n",
       "      <td>-0.811960</td>\n",
       "      <td>0.239813</td>\n",
       "      <td>15.717300</td>\n",
       "      <td>1.000000</td>\n",
       "      <td>625</td>\n",
       "      <td>2.355026e-06</td>\n",
       "      <td>237.654657</td>\n",
       "      <td>-5.909328</td>\n",
       "      <td>-0.532178</td>\n",
       "      <td>-0.811958</td>\n",
       "      <td>0.239813</td>\n",
       "      <td>True</td>\n",
       "    </tr>\n",
       "    <tr>\n",
       "      <th>5697833</th>\n",
       "      <td>5697833</td>\n",
       "      <td>b'ZTF20aareowm'</td>\n",
       "      <td>1151521944715015006</td>\n",
       "      <td>97089</td>\n",
       "      <td>58905.521944</td>\n",
       "      <td>236.239354</td>\n",
       "      <td>-9.304550</td>\n",
       "      <td>-0.548413</td>\n",
       "      <td>-0.817041</td>\n",
       "      <td>0.178007</td>\n",
       "      <td>15.695800</td>\n",
       "      <td>1.000000</td>\n",
       "      <td>464</td>\n",
       "      <td>2.205903e-06</td>\n",
       "      <td>236.239228</td>\n",
       "      <td>-9.304526</td>\n",
       "      <td>-0.548415</td>\n",
       "      <td>-0.817040</td>\n",
       "      <td>0.178007</td>\n",
       "      <td>True</td>\n",
       "    </tr>\n",
       "    <tr>\n",
       "      <th>5697838</th>\n",
       "      <td>5697838</td>\n",
       "      <td>b'ZTF20aareowf'</td>\n",
       "      <td>1151521946215015005</td>\n",
       "      <td>97089</td>\n",
       "      <td>58905.521944</td>\n",
       "      <td>234.674482</td>\n",
       "      <td>-7.771349</td>\n",
       "      <td>-0.572910</td>\n",
       "      <td>-0.795468</td>\n",
       "      <td>0.197496</td>\n",
       "      <td>16.917900</td>\n",
       "      <td>1.000000</td>\n",
       "      <td>2879</td>\n",
       "      <td>4.163074e-06</td>\n",
       "      <td>234.674242</td>\n",
       "      <td>-7.771368</td>\n",
       "      <td>-0.572914</td>\n",
       "      <td>-0.795466</td>\n",
       "      <td>0.197494</td>\n",
       "      <td>True</td>\n",
       "    </tr>\n",
       "    <tr>\n",
       "      <th>5697844</th>\n",
       "      <td>5697844</td>\n",
       "      <td>b'ZTF20aarepbq'</td>\n",
       "      <td>1151522853015015009</td>\n",
       "      <td>97091</td>\n",
       "      <td>58905.522859</td>\n",
       "      <td>238.922293</td>\n",
       "      <td>-4.378222</td>\n",
       "      <td>-0.514694</td>\n",
       "      <td>-0.813867</td>\n",
       "      <td>0.269649</td>\n",
       "      <td>16.691000</td>\n",
       "      <td>1.000000</td>\n",
       "      <td>1592</td>\n",
       "      <td>6.520056e-06</td>\n",
       "      <td>238.921919</td>\n",
       "      <td>-4.378194</td>\n",
       "      <td>-0.514699</td>\n",
       "      <td>-0.813864</td>\n",
       "      <td>0.269648</td>\n",
       "      <td>True</td>\n",
       "    </tr>\n",
       "  </tbody>\n",
       "</table>\n",
       "<p>3747726 rows × 20 columns</p>\n",
       "</div>"
      ],
      "text/plain": [
       "          ztf_id         ObjectID          CandidateID  TimeStampID  \\\n",
       "602          602  b'ZTF18acqvjbw'   689314713015015008        16951   \n",
       "649          649  b'ZTF18acrcadh'   693308213515015017        17096   \n",
       "811          811  b'ZTF18abwawbk'   621435901715015019         9621   \n",
       "833          833  b'ZTF18acurwxa'   707509454415015012        18339   \n",
       "890          890  b'ZTF18acuiphp'   707257536115015009        18272   \n",
       "...          ...              ...                  ...          ...   \n",
       "5697829  5697829  b'ZTF20aarepii'  1151522393415015017        97090   \n",
       "5697832  5697832  b'ZTF20aareowa'  1151522390315015003        97090   \n",
       "5697833  5697833  b'ZTF20aareowm'  1151521944715015006        97089   \n",
       "5697838  5697838  b'ZTF20aareowf'  1151521946215015005        97089   \n",
       "5697844  5697844  b'ZTF20aarepbq'  1151522853015015009        97091   \n",
       "\n",
       "                  mjd          ra        dec        ux        uy        uz  \\\n",
       "602      58443.314711   63.025354  17.655906  0.432230  0.899796 -0.059531   \n",
       "649      58447.308218  113.354357  33.962194 -0.328791  0.920837  0.209659   \n",
       "811      58375.435903   32.348343  11.149056  0.828867  0.558563 -0.031414   \n",
       "833      58461.509456  103.310341  27.540611 -0.204137  0.975586  0.080995   \n",
       "890      58461.257535   48.496514  22.452973  0.612431  0.786949  0.075091   \n",
       "...               ...         ...        ...       ...       ...       ...   \n",
       "5697829  58905.522396  236.892710  -2.341055 -0.545753 -0.784135  0.295442   \n",
       "5697832  58905.522396  237.654792  -5.909325 -0.532176 -0.811960  0.239813   \n",
       "5697833  58905.521944  236.239354  -9.304550 -0.548413 -0.817041  0.178007   \n",
       "5697838  58905.521944  234.674482  -7.771349 -0.572910 -0.795468  0.197496   \n",
       "5697844  58905.522859  238.922293  -4.378222 -0.514694 -0.813867  0.269649   \n",
       "\n",
       "           mag_app  asteroid_prob  nearest_ast_num  nearest_ast_dist  \\\n",
       "602      18.519199       1.000000           135355      3.663691e-06   \n",
       "649      18.055201       1.000000            29076      8.997226e-07   \n",
       "811      19.707199       1.000000           101787      2.084178e-06   \n",
       "833      19.427401       1.000000           138763      4.068908e-06   \n",
       "890      19.038000       0.976392           105289      3.491132e-06   \n",
       "...            ...            ...              ...               ...   \n",
       "5697829  15.089800       1.000000              727      2.473898e-06   \n",
       "5697832  15.717300       1.000000              625      2.355026e-06   \n",
       "5697833  15.695800       1.000000              464      2.205903e-06   \n",
       "5697838  16.917900       1.000000             2879      4.163074e-06   \n",
       "5697844  16.691000       1.000000             1592      6.520056e-06   \n",
       "\n",
       "             ast_ra    ast_dec    ast_ux    ast_uy    ast_uz  is_hit  \n",
       "602       63.025567  17.655961  0.432226  0.899798 -0.059531    True  \n",
       "649      113.354324  33.962150 -0.328790  0.920837  0.209658    True  \n",
       "811       32.348465  11.149059  0.828866  0.558565 -0.031414    True  \n",
       "833      103.310581  27.540515 -0.204141  0.975585  0.080994    True  \n",
       "890       48.496726  22.453012  0.612428  0.786952  0.075091    True  \n",
       "...             ...        ...       ...       ...       ...     ...  \n",
       "5697829  236.892569  -2.341034 -0.545755 -0.784134  0.295442    True  \n",
       "5697832  237.654657  -5.909328 -0.532178 -0.811958  0.239813    True  \n",
       "5697833  236.239228  -9.304526 -0.548415 -0.817040  0.178007    True  \n",
       "5697838  234.674242  -7.771368 -0.572914 -0.795466  0.197494    True  \n",
       "5697844  238.921919  -4.378194 -0.514699 -0.813864  0.269648    True  \n",
       "\n",
       "[3747726 rows x 20 columns]"
      ]
     },
     "execution_count": 9,
     "metadata": {},
     "output_type": "execute_result"
    }
   ],
   "source": [
    "# Review ztf_ast\n",
    "ztf_ast"
   ]
  },
  {
   "cell_type": "code",
   "execution_count": 10,
   "metadata": {},
   "outputs": [],
   "source": [
    "# Best random elements\n",
    "elts = best_random_elts(random_seed=random_seed, known_ast=known_ast, \n",
    "                        batch_size_init=batch_size_init, batch_size=batch_size, thresh_deg=thresh_deg)"
   ]
  },
  {
   "cell_type": "code",
   "execution_count": 11,
   "metadata": {},
   "outputs": [
    {
     "data": {
      "text/html": [
       "<div>\n",
       "<style scoped>\n",
       "    .dataframe tbody tr th:only-of-type {\n",
       "        vertical-align: middle;\n",
       "    }\n",
       "\n",
       "    .dataframe tbody tr th {\n",
       "        vertical-align: top;\n",
       "    }\n",
       "\n",
       "    .dataframe thead th {\n",
       "        text-align: right;\n",
       "    }\n",
       "</style>\n",
       "<table border=\"1\" class=\"dataframe\">\n",
       "  <thead>\n",
       "    <tr style=\"text-align: right;\">\n",
       "      <th></th>\n",
       "      <th>element_id</th>\n",
       "      <th>a</th>\n",
       "      <th>e</th>\n",
       "      <th>f</th>\n",
       "      <th>inc</th>\n",
       "      <th>Omega</th>\n",
       "      <th>omega</th>\n",
       "      <th>epoch</th>\n",
       "      <th>num_obs</th>\n",
       "      <th>score</th>\n",
       "      <th>t_score</th>\n",
       "    </tr>\n",
       "  </thead>\n",
       "  <tbody>\n",
       "    <tr>\n",
       "      <th>0</th>\n",
       "      <td>0</td>\n",
       "      <td>3.064054</td>\n",
       "      <td>0.121235</td>\n",
       "      <td>-1.291546</td>\n",
       "      <td>0.068009</td>\n",
       "      <td>0.662207</td>\n",
       "      <td>0.935398</td>\n",
       "      <td>58600.0</td>\n",
       "      <td>12711</td>\n",
       "      <td>998.002460</td>\n",
       "      <td>8.852007</td>\n",
       "    </tr>\n",
       "    <tr>\n",
       "      <th>1</th>\n",
       "      <td>1</td>\n",
       "      <td>2.771068</td>\n",
       "      <td>0.151421</td>\n",
       "      <td>-0.531263</td>\n",
       "      <td>0.068958</td>\n",
       "      <td>1.364763</td>\n",
       "      <td>6.111150</td>\n",
       "      <td>58600.0</td>\n",
       "      <td>11901</td>\n",
       "      <td>886.807208</td>\n",
       "      <td>8.129007</td>\n",
       "    </tr>\n",
       "    <tr>\n",
       "      <th>2</th>\n",
       "      <td>2</td>\n",
       "      <td>3.172947</td>\n",
       "      <td>0.095819</td>\n",
       "      <td>1.903106</td>\n",
       "      <td>0.035792</td>\n",
       "      <td>3.984825</td>\n",
       "      <td>0.687484</td>\n",
       "      <td>58600.0</td>\n",
       "      <td>12572</td>\n",
       "      <td>781.406566</td>\n",
       "      <td>6.969071</td>\n",
       "    </tr>\n",
       "    <tr>\n",
       "      <th>3</th>\n",
       "      <td>3</td>\n",
       "      <td>2.697356</td>\n",
       "      <td>0.098236</td>\n",
       "      <td>0.132486</td>\n",
       "      <td>0.025427</td>\n",
       "      <td>1.610715</td>\n",
       "      <td>5.259525</td>\n",
       "      <td>58600.0</td>\n",
       "      <td>9835</td>\n",
       "      <td>767.421579</td>\n",
       "      <td>7.738322</td>\n",
       "    </tr>\n",
       "    <tr>\n",
       "      <th>4</th>\n",
       "      <td>4</td>\n",
       "      <td>3.113809</td>\n",
       "      <td>0.257043</td>\n",
       "      <td>2.596678</td>\n",
       "      <td>0.090822</td>\n",
       "      <td>0.106255</td>\n",
       "      <td>4.320585</td>\n",
       "      <td>58600.0</td>\n",
       "      <td>9129</td>\n",
       "      <td>697.797101</td>\n",
       "      <td>7.303273</td>\n",
       "    </tr>\n",
       "    <tr>\n",
       "      <th>...</th>\n",
       "      <td>...</td>\n",
       "      <td>...</td>\n",
       "      <td>...</td>\n",
       "      <td>...</td>\n",
       "      <td>...</td>\n",
       "      <td>...</td>\n",
       "      <td>...</td>\n",
       "      <td>...</td>\n",
       "      <td>...</td>\n",
       "      <td>...</td>\n",
       "      <td>...</td>\n",
       "    </tr>\n",
       "    <tr>\n",
       "      <th>59</th>\n",
       "      <td>59</td>\n",
       "      <td>1.890665</td>\n",
       "      <td>0.083441</td>\n",
       "      <td>3.132056</td>\n",
       "      <td>0.035993</td>\n",
       "      <td>0.656159</td>\n",
       "      <td>3.255417</td>\n",
       "      <td>58600.0</td>\n",
       "      <td>9064</td>\n",
       "      <td>280.408751</td>\n",
       "      <td>2.945314</td>\n",
       "    </tr>\n",
       "    <tr>\n",
       "      <th>60</th>\n",
       "      <td>60</td>\n",
       "      <td>3.168699</td>\n",
       "      <td>0.088259</td>\n",
       "      <td>0.853523</td>\n",
       "      <td>0.052655</td>\n",
       "      <td>5.188591</td>\n",
       "      <td>0.902693</td>\n",
       "      <td>58600.0</td>\n",
       "      <td>10197</td>\n",
       "      <td>280.102124</td>\n",
       "      <td>2.773832</td>\n",
       "    </tr>\n",
       "    <tr>\n",
       "      <th>61</th>\n",
       "      <td>61</td>\n",
       "      <td>2.255124</td>\n",
       "      <td>0.055124</td>\n",
       "      <td>-1.131100</td>\n",
       "      <td>0.065725</td>\n",
       "      <td>4.743550</td>\n",
       "      <td>1.882832</td>\n",
       "      <td>58600.0</td>\n",
       "      <td>6700</td>\n",
       "      <td>279.483345</td>\n",
       "      <td>3.414432</td>\n",
       "    </tr>\n",
       "    <tr>\n",
       "      <th>62</th>\n",
       "      <td>62</td>\n",
       "      <td>2.325415</td>\n",
       "      <td>0.176758</td>\n",
       "      <td>-0.619556</td>\n",
       "      <td>0.046713</td>\n",
       "      <td>3.318604</td>\n",
       "      <td>2.235867</td>\n",
       "      <td>58600.0</td>\n",
       "      <td>4532</td>\n",
       "      <td>277.344008</td>\n",
       "      <td>4.119778</td>\n",
       "    </tr>\n",
       "    <tr>\n",
       "      <th>63</th>\n",
       "      <td>63</td>\n",
       "      <td>2.390297</td>\n",
       "      <td>0.049497</td>\n",
       "      <td>-5.345717</td>\n",
       "      <td>0.062828</td>\n",
       "      <td>2.081017</td>\n",
       "      <td>3.088184</td>\n",
       "      <td>58600.0</td>\n",
       "      <td>9701</td>\n",
       "      <td>276.763261</td>\n",
       "      <td>2.809960</td>\n",
       "    </tr>\n",
       "  </tbody>\n",
       "</table>\n",
       "<p>64 rows × 11 columns</p>\n",
       "</div>"
      ],
      "text/plain": [
       "    element_id         a         e         f       inc     Omega     omega  \\\n",
       "0            0  3.064054  0.121235 -1.291546  0.068009  0.662207  0.935398   \n",
       "1            1  2.771068  0.151421 -0.531263  0.068958  1.364763  6.111150   \n",
       "2            2  3.172947  0.095819  1.903106  0.035792  3.984825  0.687484   \n",
       "3            3  2.697356  0.098236  0.132486  0.025427  1.610715  5.259525   \n",
       "4            4  3.113809  0.257043  2.596678  0.090822  0.106255  4.320585   \n",
       "..         ...       ...       ...       ...       ...       ...       ...   \n",
       "59          59  1.890665  0.083441  3.132056  0.035993  0.656159  3.255417   \n",
       "60          60  3.168699  0.088259  0.853523  0.052655  5.188591  0.902693   \n",
       "61          61  2.255124  0.055124 -1.131100  0.065725  4.743550  1.882832   \n",
       "62          62  2.325415  0.176758 -0.619556  0.046713  3.318604  2.235867   \n",
       "63          63  2.390297  0.049497 -5.345717  0.062828  2.081017  3.088184   \n",
       "\n",
       "      epoch  num_obs       score   t_score  \n",
       "0   58600.0    12711  998.002460  8.852007  \n",
       "1   58600.0    11901  886.807208  8.129007  \n",
       "2   58600.0    12572  781.406566  6.969071  \n",
       "3   58600.0     9835  767.421579  7.738322  \n",
       "4   58600.0     9129  697.797101  7.303273  \n",
       "..      ...      ...         ...       ...  \n",
       "59  58600.0     9064  280.408751  2.945314  \n",
       "60  58600.0    10197  280.102124  2.773832  \n",
       "61  58600.0     6700  279.483345  3.414432  \n",
       "62  58600.0     4532  277.344008  4.119778  \n",
       "63  58600.0     9701  276.763261  2.809960  \n",
       "\n",
       "[64 rows x 11 columns]"
      ]
     },
     "execution_count": 11,
     "metadata": {},
     "output_type": "execute_result"
    }
   ],
   "source": [
    "# Review best random elements\n",
    "elts"
   ]
  },
  {
   "cell_type": "markdown",
   "metadata": {},
   "source": [
    "## Batches of ZTF Data Near Initial Candidate Elements"
   ]
  },
  {
   "cell_type": "code",
   "execution_count": null,
   "metadata": {},
   "outputs": [],
   "source": [
    "# Arguments to make_ztf_batch\n",
    "near_ast = False\n",
    "regenerate = False"
   ]
  },
  {
   "cell_type": "code",
   "execution_count": null,
   "metadata": {},
   "outputs": [],
   "source": [
    "# Load perturbed element batch\n",
    "ztf_elt = load_ztf_batch(elts=elts, ztf=ztf_ast, thresh_deg=thresh_deg, near_ast=near_ast, regenerate=regenerate)"
   ]
  },
  {
   "cell_type": "code",
   "execution_count": null,
   "metadata": {},
   "outputs": [],
   "source": [
    "ztf_elt"
   ]
  },
  {
   "cell_type": "code",
   "execution_count": null,
   "metadata": {},
   "outputs": [],
   "source": [
    "# Score by element\n",
    "score_by_elt = ztf_score_by_elt(ztf_elt)"
   ]
  },
  {
   "cell_type": "code",
   "execution_count": null,
   "metadata": {},
   "outputs": [],
   "source": [
    "# Mixture parameters\n",
    "num_hits: int = 10\n",
    "R_deg: float = 0.5"
   ]
  },
  {
   "cell_type": "code",
   "execution_count": null,
   "metadata": {},
   "outputs": [],
   "source": [
    "# Add mixture parameters to candidate elements\n",
    "elts_add_mixture_params(elts=elts, num_hits=num_hits, thresh_deg=thresh_deg, R_deg=R_deg)"
   ]
  },
  {
   "cell_type": "code",
   "execution_count": null,
   "metadata": {},
   "outputs": [],
   "source": [
    "# Add brightness parameter H\n",
    "elts_add_H(elts=elts)"
   ]
  },
  {
   "cell_type": "code",
   "execution_count": null,
   "metadata": {},
   "outputs": [],
   "source": [
    "# Summarize the ztf element batch: perturbed asteroids\n",
    "ztf_elt_summary(ztf_elt, score_by_elt, 'Random Elements')"
   ]
  },
  {
   "cell_type": "code",
   "execution_count": null,
   "metadata": {},
   "outputs": [],
   "source": [
    "# Review random elements\n",
    "elts"
   ]
  },
  {
   "cell_type": "markdown",
   "metadata": {},
   "source": [
    "## Train on Random Elements: Learn Mixture Parameters"
   ]
  },
  {
   "cell_type": "code",
   "execution_count": null,
   "metadata": {},
   "outputs": [],
   "source": [
    "# Observatory for ZTF data is Palomar Mountain\n",
    "site_name = 'palomar'"
   ]
  },
  {
   "cell_type": "code",
   "execution_count": null,
   "metadata": {},
   "outputs": [],
   "source": [
    "# Training parameters\n",
    "learning_rate = 2.0**-10\n",
    "clipnorm = 1.0"
   ]
  },
  {
   "cell_type": "code",
   "execution_count": null,
   "metadata": {},
   "outputs": [],
   "source": [
    "# Build asteroid search model\n",
    "model = AsteroidSearchModel(\n",
    "                elts=elts, ztf_elt=ztf_elt, \n",
    "                site_name=site_name, thresh_deg=thresh_deg, \n",
    "                learning_rate=learning_rate, clipnorm=clipnorm,\n",
    "                name='model')"
   ]
  },
  {
   "cell_type": "code",
   "execution_count": null,
   "metadata": {},
   "outputs": [],
   "source": [
    "# Report before training starts\n",
    "model.report()"
   ]
  },
  {
   "cell_type": "code",
   "execution_count": null,
   "metadata": {},
   "outputs": [],
   "source": [
    "# Visualize log likelihood before traning\n",
    "fig, ax = model.plot_bar('log_like', sorted=False)"
   ]
  },
  {
   "cell_type": "code",
   "execution_count": null,
   "metadata": {},
   "outputs": [],
   "source": [
    "# Adaptive search parameters\n",
    "batches_per_epoch = 100\n",
    "epochs_per_episode = 5\n",
    "thresh_deg_end = None\n",
    "max_bad_episodes = 3\n",
    "min_learning_rate = None\n",
    "save_at_end = False\n",
    "reset_active_weight = False\n",
    "verbose = 1"
   ]
  },
  {
   "cell_type": "code",
   "execution_count": null,
   "metadata": {},
   "outputs": [],
   "source": [
    "# # Train perturbed model with frozen orbital elements\n",
    "# model.search_adaptive(\n",
    "#     max_batches=1000,\n",
    "#     reset_active_weight=True)"
   ]
  },
  {
   "cell_type": "code",
   "execution_count": null,
   "metadata": {},
   "outputs": [],
   "source": [
    "# # Save model\n",
    "# model.save_state()"
   ]
  },
  {
   "cell_type": "code",
   "execution_count": null,
   "metadata": {},
   "outputs": [],
   "source": [
    "# Load model\n",
    "model.load()"
   ]
  },
  {
   "cell_type": "code",
   "execution_count": null,
   "metadata": {},
   "outputs": [],
   "source": [
    "model.report()"
   ]
  },
  {
   "cell_type": "code",
   "execution_count": null,
   "metadata": {},
   "outputs": [],
   "source": [
    "# Reduce max threshold\n",
    "model.set_thresh_deg_max(1.5)"
   ]
  },
  {
   "cell_type": "code",
   "execution_count": null,
   "metadata": {},
   "outputs": [],
   "source": [
    "# Train with frozen orbital elements\n",
    "model.freeze_candidate_elements()\n",
    "model.search_adaptive(\n",
    "    max_batches=model.current_batch + 1000,\n",
    "    learning_rate=2.0**-15,\n",
    "    reset_active_weight=True)"
   ]
  },
  {
   "cell_type": "code",
   "execution_count": null,
   "metadata": {},
   "outputs": [],
   "source": [
    "# Train with live orbital elements\n",
    "model.thaw_candidate_elements()\n",
    "model.search_adaptive(\n",
    "    max_batches=model.current_batch + 5000,\n",
    "    learning_rate=2.0**-12,\n",
    "    reset_active_weight=True)"
   ]
  },
  {
   "cell_type": "code",
   "execution_count": null,
   "metadata": {},
   "outputs": [],
   "source": [
    "# Report after initial training on mixture parameters\n",
    "model.report()"
   ]
  },
  {
   "cell_type": "code",
   "execution_count": null,
   "metadata": {},
   "outputs": [],
   "source": [
    "# Bar chart - log likelihood by element\n",
    "fig, ax = model.plot_bar('log_like', sorted=False)"
   ]
  },
  {
   "cell_type": "code",
   "execution_count": null,
   "metadata": {},
   "outputs": [],
   "source": [
    "# Bar chart - log likelihood by element\n",
    "fig, ax = model.plot_bar('hits', sorted=False)"
   ]
  },
  {
   "cell_type": "code",
   "execution_count": null,
   "metadata": {},
   "outputs": [],
   "source": [
    "# # Bar chart - log likelihood by element\n",
    "# fig, ax = model.plot_bar('R_deg', sorted=False)"
   ]
  },
  {
   "cell_type": "code",
   "execution_count": null,
   "metadata": {},
   "outputs": [],
   "source": [
    "# # Threshold in degrees\n",
    "# fig, ax = model.plot_bar('thresh_deg_score', sorted=False)"
   ]
  },
  {
   "cell_type": "markdown",
   "metadata": {},
   "source": [
    "## Train on Orbital Elements & Mixture Parameters"
   ]
  },
  {
   "cell_type": "code",
   "execution_count": null,
   "metadata": {},
   "outputs": [],
   "source": [
    "# model.save_state()"
   ]
  },
  {
   "cell_type": "code",
   "execution_count": null,
   "metadata": {},
   "outputs": [],
   "source": [
    "# Unfreeze the elements\n",
    "model.thaw_candidate_elements()"
   ]
  },
  {
   "cell_type": "code",
   "execution_count": null,
   "metadata": {},
   "outputs": [],
   "source": [
    "# Train in joint mode; learn elements, mixture_parameters; threshold frozen\n",
    "model.search_adaptive(\n",
    "    max_batches=model.current_batch+100000, \n",
    "    learning_rate=2.0**-12,\n",
    "    reset_active_weight=True)"
   ]
  },
  {
   "cell_type": "code",
   "execution_count": null,
   "metadata": {},
   "outputs": [],
   "source": [
    "# Report after training\n",
    "model.report()"
   ]
  },
  {
   "cell_type": "code",
   "execution_count": null,
   "metadata": {},
   "outputs": [],
   "source": [
    "# Bar chart \n",
    "fig, ax = model.plot_bar('log_like', sorted=False)"
   ]
  },
  {
   "cell_type": "code",
   "execution_count": null,
   "metadata": {},
   "outputs": [],
   "source": [
    "# Bar chart \n",
    "fig, ax = model.plot_bar('hits', sorted=False)"
   ]
  },
  {
   "cell_type": "code",
   "execution_count": null,
   "metadata": {},
   "outputs": [],
   "source": [
    "# model.save_state()"
   ]
  },
  {
   "cell_type": "code",
   "execution_count": null,
   "metadata": {},
   "outputs": [],
   "source": [
    "# Freeze elements; train mixture\n",
    "model.freeze_candidate_elements()\n",
    "model.freeze_score()"
   ]
  },
  {
   "cell_type": "code",
   "execution_count": null,
   "metadata": {},
   "outputs": [],
   "source": [
    "model.search_adaptive(\n",
    "    max_batches=model.current_batch+2000,\n",
    "    learning_rate=2.0**-10,\n",
    "    reset_active_weight=True)"
   ]
  },
  {
   "cell_type": "code",
   "execution_count": null,
   "metadata": {},
   "outputs": [],
   "source": [
    "# Freeze elements; freeze mixture; train score\n",
    "model.freeze_candidate_elements()\n",
    "model.freeze_mixture_parameters()\n",
    "model.freeze_score()"
   ]
  },
  {
   "cell_type": "code",
   "execution_count": null,
   "metadata": {},
   "outputs": [],
   "source": [
    "model.search_adaptive(\n",
    "    max_batches=model.current_batch+1000, \n",
    "    batches_per_epoch=batches_per_epoch,\n",
    "    epochs_per_episode=epochs_per_episode,\n",
    "    reset_active_weight=reset_active_weight,\n",
    "    verbose=verbose)"
   ]
  },
  {
   "cell_type": "code",
   "execution_count": null,
   "metadata": {},
   "outputs": [],
   "source": [
    "# # Bar chart \n",
    "# fig, ax = model.plot_bar('thresh_deg_score', sorted=True)"
   ]
  },
  {
   "cell_type": "code",
   "execution_count": null,
   "metadata": {},
   "outputs": [],
   "source": [
    "# Bar chart - log likelihood by element\n",
    "fig, ax = model.plot_bar('log_like', sorted=True)"
   ]
  },
  {
   "cell_type": "markdown",
   "metadata": {},
   "source": [
    "## Extended Training"
   ]
  },
  {
   "cell_type": "code",
   "execution_count": null,
   "metadata": {},
   "outputs": [],
   "source": [
    "# model.save_state()"
   ]
  },
  {
   "cell_type": "code",
   "execution_count": null,
   "metadata": {},
   "outputs": [],
   "source": [
    "model.set_thresh_deg_max(1.5)"
   ]
  },
  {
   "cell_type": "code",
   "execution_count": null,
   "metadata": {},
   "outputs": [],
   "source": [
    "# Train on elements only\n",
    "model.thaw_candidate_elements()\n",
    "model.freeze_mixture_parameters()\n",
    "model.freeze_score()"
   ]
  },
  {
   "cell_type": "code",
   "execution_count": null,
   "metadata": {},
   "outputs": [],
   "source": [
    "model.search_adaptive(\n",
    "    max_batches=model.current_batch+2000, \n",
    "    batches_per_epoch=batches_per_epoch,\n",
    "    epochs_per_episode=epochs_per_episode,\n",
    "    reset_active_weight=reset_active_weight,\n",
    "    verbose=verbose)"
   ]
  },
  {
   "cell_type": "code",
   "execution_count": null,
   "metadata": {},
   "outputs": [],
   "source": [
    "model.report()"
   ]
  },
  {
   "cell_type": "code",
   "execution_count": null,
   "metadata": {},
   "outputs": [],
   "source": [
    "model.save_state()"
   ]
  },
  {
   "cell_type": "code",
   "execution_count": null,
   "metadata": {},
   "outputs": [],
   "source": [
    "model.thaw_candidate_elements()\n",
    "model.thaw_mixture_parameters()"
   ]
  },
  {
   "cell_type": "code",
   "execution_count": null,
   "metadata": {},
   "outputs": [],
   "source": [
    "model.search_adaptive(\n",
    "    max_batches=model.current_batch+10000, \n",
    "    batches_per_epoch=batches_per_epoch,\n",
    "    epochs_per_episode=epochs_per_episode,\n",
    "    thresh_deg_start=1.0,\n",
    "    thresh_deg_end=0.50,\n",
    "    reset_active_weight=reset_active_weight,    \n",
    "    verbose=verbose)"
   ]
  },
  {
   "cell_type": "code",
   "execution_count": null,
   "metadata": {},
   "outputs": [],
   "source": [
    "model.report()"
   ]
  },
  {
   "cell_type": "code",
   "execution_count": null,
   "metadata": {},
   "outputs": [],
   "source": [
    "# model.save_state()"
   ]
  },
  {
   "cell_type": "code",
   "execution_count": null,
   "metadata": {},
   "outputs": [],
   "source": [
    "model.freeze_candidate_elements()\n",
    "model.thaw_mixture_parameters()"
   ]
  },
  {
   "cell_type": "code",
   "execution_count": null,
   "metadata": {},
   "outputs": [],
   "source": [
    "model.search_adaptive(\n",
    "    max_batches=model.current_batch+1000, \n",
    "    batches_per_epoch=batches_per_epoch,\n",
    "    epochs_per_episode=epochs_per_episode,\n",
    "    thresh_deg_start=None,\n",
    "    thresh_deg_end=None,\n",
    "    reset_active_weight=True,\n",
    "    verbose=verbose)"
   ]
  },
  {
   "cell_type": "code",
   "execution_count": null,
   "metadata": {},
   "outputs": [],
   "source": [
    "model.save_state()"
   ]
  },
  {
   "cell_type": "code",
   "execution_count": null,
   "metadata": {},
   "outputs": [],
   "source": [
    "model.thaw_candidate_elements()\n",
    "model.thaw_mixture_parameters()"
   ]
  },
  {
   "cell_type": "code",
   "execution_count": null,
   "metadata": {},
   "outputs": [],
   "source": [
    "model.set_thresh_deg_max(0.75)"
   ]
  },
  {
   "cell_type": "code",
   "execution_count": null,
   "metadata": {},
   "outputs": [],
   "source": [
    "model.search_adaptive(\n",
    "    max_batches=model.current_batch+5000, \n",
    "    batches_per_epoch=batches_per_epoch,\n",
    "    epochs_per_episode=epochs_per_episode,\n",
    "    thresh_deg_start=None,\n",
    "    thresh_deg_end=None,\n",
    "    reset_active_weight=reset_active_weight,    \n",
    "    verbose=verbose)"
   ]
  },
  {
   "cell_type": "code",
   "execution_count": null,
   "metadata": {},
   "outputs": [],
   "source": [
    "# model.search_adaptive(\n",
    "#     max_batches=100000, \n",
    "#     batches_per_epoch=batches_per_epoch,\n",
    "#     epochs_per_episode=epochs_per_episode,\n",
    "#     learning_rate=2.0**-16,\n",
    "#     reset_active_weight=True,\n",
    "#     save_at_end=False,\n",
    "#     verbose=verbose)"
   ]
  },
  {
   "cell_type": "code",
   "execution_count": null,
   "metadata": {},
   "outputs": [],
   "source": [
    "# model.save_state()"
   ]
  },
  {
   "cell_type": "markdown",
   "metadata": {},
   "source": [
    "## Review Results Graphically"
   ]
  },
  {
   "cell_type": "code",
   "execution_count": null,
   "metadata": {},
   "outputs": [],
   "source": [
    "# Bar chart - log likelihood by element\n",
    "fig, ax = model.plot_bar('log_like', sorted=False)"
   ]
  },
  {
   "cell_type": "code",
   "execution_count": null,
   "metadata": {},
   "outputs": [],
   "source": [
    "# Bar chart: hits\n",
    "fig, ax = model.plot_bar('hits', sorted=False)"
   ]
  },
  {
   "cell_type": "code",
   "execution_count": null,
   "metadata": {},
   "outputs": [],
   "source": [
    "# Bar chart: log likelihood\n",
    "fig, ax = model.plot_bar('R_deg', sorted=False)"
   ]
  },
  {
   "cell_type": "code",
   "execution_count": null,
   "metadata": {},
   "outputs": [],
   "source": [
    "# Learning curve: log likelihood\n",
    "fig, ax = model.plot_hist('log_like')"
   ]
  },
  {
   "cell_type": "code",
   "execution_count": null,
   "metadata": {},
   "outputs": [],
   "source": [
    "# # Learning curve: hits\n",
    "# fig, ax = model.plot_hist('hits')"
   ]
  },
  {
   "cell_type": "markdown",
   "metadata": {},
   "source": [
    "## Distance vs. Nearest Asteroid for Fitted Elements"
   ]
  },
  {
   "cell_type": "code",
   "execution_count": null,
   "metadata": {},
   "outputs": [],
   "source": [
    "# Find nearest asteroid to fitted elements - search on Cartesian distance\n",
    "elts_fit, elts_near = model.nearest_ast(search_type='cart')"
   ]
  },
  {
   "cell_type": "code",
   "execution_count": null,
   "metadata": {},
   "outputs": [],
   "source": [
    "# Review fitted elements including nearest asteroid\n",
    "elts_fit"
   ]
  },
  {
   "cell_type": "code",
   "execution_count": null,
   "metadata": {},
   "outputs": [],
   "source": [
    "q_norm = elt_q_norm(elts=elts_fit, ast_num=elts_fit.nearest_ast_num)\n",
    "elts_fit['nearest_ast_q_norm'] = q_norm"
   ]
  },
  {
   "cell_type": "code",
   "execution_count": null,
   "metadata": {},
   "outputs": [],
   "source": [
    "# Review asteroids nearest to the fitted elements\n",
    "elts_near"
   ]
  },
  {
   "cell_type": "code",
   "execution_count": null,
   "metadata": {},
   "outputs": [],
   "source": [
    "# Find nearest asteroid to fitted elements - search on Covariance metric\n",
    "elts_fit, elts_near = model.nearest_ast(search_type='cov')"
   ]
  },
  {
   "cell_type": "code",
   "execution_count": null,
   "metadata": {},
   "outputs": [],
   "source": [
    "# # Filter for only the good ones\n",
    "# mask = (elts_fit.log_like > 200) & (elts_fit.R_sec < 60)\n",
    "# elts_fit[mask]"
   ]
  },
  {
   "cell_type": "code",
   "execution_count": null,
   "metadata": {},
   "outputs": [],
   "source": [
    "# # Filter for incomplete convergence\n",
    "# mask = (elts_fit.log_like > 200) & (elts_fit.R_sec >= 60)\n",
    "# elts_fit[mask]"
   ]
  },
  {
   "cell_type": "markdown",
   "metadata": {},
   "source": [
    "## Visualize Error vs. Nearest Asteroid"
   ]
  },
  {
   "cell_type": "code",
   "execution_count": null,
   "metadata": {},
   "outputs": [],
   "source": [
    "# model.elts_near_ast"
   ]
  },
  {
   "cell_type": "code",
   "execution_count": null,
   "metadata": {},
   "outputs": [],
   "source": [
    "model.elts_fit"
   ]
  },
  {
   "cell_type": "code",
   "execution_count": null,
   "metadata": {},
   "outputs": [],
   "source": [
    "q_norm = elt_q_norm(elts=model.elts_fit, ast_num=model.elts_fit.nearest_ast_num)"
   ]
  },
  {
   "cell_type": "code",
   "execution_count": null,
   "metadata": {},
   "outputs": [],
   "source": [
    "mask = q_norm < 1\n",
    "np.round(q_norm[mask], 2)"
   ]
  },
  {
   "cell_type": "code",
   "execution_count": null,
   "metadata": {},
   "outputs": [],
   "source": [
    "ast_elt_near_cov = nearest_ast_elt_cov(elts=model.elts_fit)"
   ]
  },
  {
   "cell_type": "code",
   "execution_count": null,
   "metadata": {},
   "outputs": [],
   "source": [
    "ast_elt_near_cov"
   ]
  },
  {
   "cell_type": "code",
   "execution_count": null,
   "metadata": {},
   "outputs": [],
   "source": [
    "dElt = ast_elt_near_cov[cols] - elts_fit[cols]\n",
    "dElt[62:63]"
   ]
  },
  {
   "cell_type": "code",
   "execution_count": null,
   "metadata": {},
   "outputs": [],
   "source": [
    "X_ast = elts_to_X_cov(ast_elt_near_cov)\n",
    "U_ast = np.dot(X_ast, beta)\n",
    "# np.linalg.norm(U_ast, axis=1)\n",
    "X_ast[62]"
   ]
  },
  {
   "cell_type": "code",
   "execution_count": null,
   "metadata": {},
   "outputs": [],
   "source": [
    "U_ast[62]"
   ]
  },
  {
   "cell_type": "code",
   "execution_count": null,
   "metadata": {},
   "outputs": [],
   "source": [
    "X_elt = elts_to_X_cov(elts_fit)\n",
    "U_elt = np.dot(U_ast, beta)\n",
    "X_elt[62:63]"
   ]
  },
  {
   "cell_type": "code",
   "execution_count": null,
   "metadata": {},
   "outputs": [],
   "source": [
    "U_elt[62]"
   ]
  },
  {
   "cell_type": "code",
   "execution_count": null,
   "metadata": {},
   "outputs": [],
   "source": [
    "dU = U_elt - U_ast"
   ]
  },
  {
   "cell_type": "code",
   "execution_count": null,
   "metadata": {},
   "outputs": [],
   "source": [
    "dU[62]"
   ]
  },
  {
   "cell_type": "code",
   "execution_count": null,
   "metadata": {},
   "outputs": [],
   "source": [
    "np.linalg.norm(dU[62])"
   ]
  },
  {
   "cell_type": "code",
   "execution_count": null,
   "metadata": {},
   "outputs": [],
   "source": [
    "ast_elt_near_cov[cols].loc[62].values"
   ]
  },
  {
   "cell_type": "code",
   "execution_count": null,
   "metadata": {},
   "outputs": [],
   "source": [
    "# covariance type difference vs. nearest asteroid element\n",
    "from nearest_asteroid import beta, X_beta, elts_to_X_cov"
   ]
  },
  {
   "cell_type": "code",
   "execution_count": null,
   "metadata": {},
   "outputs": [],
   "source": [
    "ast_elt"
   ]
  },
  {
   "cell_type": "code",
   "execution_count": null,
   "metadata": {},
   "outputs": [],
   "source": [
    "# Plot position error vs. known elements\n",
    "fig, ax = model.plot_q_error(is_log=True, use_near_ast_dist=True)"
   ]
  },
  {
   "cell_type": "code",
   "execution_count": null,
   "metadata": {},
   "outputs": [],
   "source": [
    "# Plot error in orbital elements\n",
    "fig, ax = model.plot_elt_error(elt_name='a', is_log=True, elt_num=None)"
   ]
  },
  {
   "cell_type": "code",
   "execution_count": null,
   "metadata": {},
   "outputs": [],
   "source": [
    "# Plot error in orbital elements\n",
    "fig, ax = model.plot_elt_error(elt_name='e', is_log=True, elt_num=None)"
   ]
  },
  {
   "cell_type": "code",
   "execution_count": null,
   "metadata": {},
   "outputs": [],
   "source": []
  }
 ],
 "metadata": {
  "kernelspec": {
   "display_name": "Python [conda env:kepler]",
   "language": "python",
   "name": "conda-env-kepler-py"
  },
  "language_info": {
   "codemirror_mode": {
    "name": "ipython",
    "version": 3
   },
   "file_extension": ".py",
   "mimetype": "text/x-python",
   "name": "python",
   "nbconvert_exporter": "python",
   "pygments_lexer": "ipython3",
   "version": "3.7.6"
  }
 },
 "nbformat": 4,
 "nbformat_minor": 4
}
