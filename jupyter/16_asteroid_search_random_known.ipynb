{
 "cells": [
  {
   "cell_type": "code",
   "execution_count": 1,
   "metadata": {},
   "outputs": [
    {
     "name": "stdout",
     "output_type": "stream",
     "text": [
      "Found 4 GPUs.  Setting memory growth = True.\n"
     ]
    }
   ],
   "source": [
    "# Core\n",
    "import numpy as np\n",
    "import pandas as pd\n",
    "\n",
    "# Tensorflow / ML\n",
    "import tensorflow as tf\n",
    "from tensorflow.python.keras import backend as K\n",
    "\n",
    "# Plotting\n",
    "import matplotlib.pyplot as plt\n",
    "import matplotlib as mpl\n",
    "\n",
    "# Utility\n",
    "import time\n",
    "\n",
    "# MSE Imports\n",
    "import kepler_sieve\n",
    "from asteroid_element import load_ast_elt\n",
    "from candidate_element import asteroid_elts, random_elts, elts_add_mixture_params, elts_add_H\n",
    "from random_elements import best_random_elts, make_ztf_ast\n",
    "from ztf_ast import load_ztf_nearest_ast, calc_hit_freq\n",
    "from ztf_element import load_ztf_batch, make_ztf_batch, ztf_score_by_elt, ztf_elt_summary\n",
    "from asteroid_model import AsteroidPosition, AsteroidDirection, make_model_ast_pos\n",
    "from asteroid_search_layers import CandidateElements, TrajectoryScore\n",
    "from asteroid_search_model import AsteroidSearchModel, make_opt_adam\n",
    "from asteroid_search_report import traj_diff\n",
    "from nearest_asteroid import nearest_ast_elt_cart, nearest_ast_elt_cov, elt_q_norm\n",
    "from element_eda import score_by_elt\n",
    "from asteroid_dataframe import calc_ast_data, spline_ast_vec_df\n",
    "from astro_utils import deg2dist, dist2deg, dist2sec"
   ]
  },
  {
   "cell_type": "code",
   "execution_count": 2,
   "metadata": {},
   "outputs": [],
   "source": [
    "# Aliases\n",
    "keras = tf.keras\n",
    "\n",
    "# Constants\n",
    "dtype = tf.float32\n",
    "dtype_np = np.float32\n",
    "space_dims = 3"
   ]
  },
  {
   "cell_type": "code",
   "execution_count": 3,
   "metadata": {},
   "outputs": [],
   "source": [
    "# Set plot style variables\n",
    "mpl.rcParams['figure.figsize'] = [16.0, 10.0]\n",
    "mpl.rcParams['font.size'] = 16"
   ]
  },
  {
   "cell_type": "markdown",
   "metadata": {},
   "source": [
    "## Load ZTF Data and Batch of Orbital Elements"
   ]
  },
  {
   "cell_type": "code",
   "execution_count": 4,
   "metadata": {},
   "outputs": [],
   "source": [
    "# Load orbital elements for known asteroids\n",
    "ast_elt = load_ast_elt()\n",
    "\n",
    "# Number of asteroids\n",
    "N_ast = ast_elt.shape[0]"
   ]
  },
  {
   "cell_type": "code",
   "execution_count": 5,
   "metadata": {},
   "outputs": [],
   "source": [
    "# Parameters to build random orbital elements and ztf_ast\n",
    "random_seed = 0\n",
    "known_ast = True\n",
    "batch_size_init = 1024\n",
    "batch_size = 64\n",
    "thresh_deg = 2.0"
   ]
  },
  {
   "cell_type": "code",
   "execution_count": 6,
   "metadata": {},
   "outputs": [],
   "source": [
    "# Load ztf nearest asteroid data for known asteroids\n",
    "ztf_ast = make_ztf_ast(known_ast=known_ast)"
   ]
  },
  {
   "cell_type": "code",
   "execution_count": 7,
   "metadata": {},
   "outputs": [
    {
     "data": {
      "text/html": [
       "<div>\n",
       "<style scoped>\n",
       "    .dataframe tbody tr th:only-of-type {\n",
       "        vertical-align: middle;\n",
       "    }\n",
       "\n",
       "    .dataframe tbody tr th {\n",
       "        vertical-align: top;\n",
       "    }\n",
       "\n",
       "    .dataframe thead th {\n",
       "        text-align: right;\n",
       "    }\n",
       "</style>\n",
       "<table border=\"1\" class=\"dataframe\">\n",
       "  <thead>\n",
       "    <tr style=\"text-align: right;\">\n",
       "      <th></th>\n",
       "      <th>ztf_id</th>\n",
       "      <th>ObjectID</th>\n",
       "      <th>CandidateID</th>\n",
       "      <th>TimeStampID</th>\n",
       "      <th>mjd</th>\n",
       "      <th>ra</th>\n",
       "      <th>dec</th>\n",
       "      <th>ux</th>\n",
       "      <th>uy</th>\n",
       "      <th>uz</th>\n",
       "      <th>mag_app</th>\n",
       "      <th>asteroid_prob</th>\n",
       "      <th>nearest_ast_num</th>\n",
       "      <th>nearest_ast_dist</th>\n",
       "      <th>ast_ra</th>\n",
       "      <th>ast_dec</th>\n",
       "      <th>ast_ux</th>\n",
       "      <th>ast_uy</th>\n",
       "      <th>ast_uz</th>\n",
       "      <th>is_hit</th>\n",
       "    </tr>\n",
       "  </thead>\n",
       "  <tbody>\n",
       "    <tr>\n",
       "      <th>602</th>\n",
       "      <td>602</td>\n",
       "      <td>b'ZTF18acqvjbw'</td>\n",
       "      <td>689314713015015008</td>\n",
       "      <td>16951</td>\n",
       "      <td>58443.314711</td>\n",
       "      <td>63.025354</td>\n",
       "      <td>17.655906</td>\n",
       "      <td>0.432230</td>\n",
       "      <td>0.899796</td>\n",
       "      <td>-0.059531</td>\n",
       "      <td>18.519199</td>\n",
       "      <td>1.000000</td>\n",
       "      <td>135355</td>\n",
       "      <td>3.663691e-06</td>\n",
       "      <td>63.025567</td>\n",
       "      <td>17.655961</td>\n",
       "      <td>0.432226</td>\n",
       "      <td>0.899798</td>\n",
       "      <td>-0.059531</td>\n",
       "      <td>True</td>\n",
       "    </tr>\n",
       "    <tr>\n",
       "      <th>649</th>\n",
       "      <td>649</td>\n",
       "      <td>b'ZTF18acrcadh'</td>\n",
       "      <td>693308213515015017</td>\n",
       "      <td>17096</td>\n",
       "      <td>58447.308218</td>\n",
       "      <td>113.354357</td>\n",
       "      <td>33.962194</td>\n",
       "      <td>-0.328791</td>\n",
       "      <td>0.920837</td>\n",
       "      <td>0.209659</td>\n",
       "      <td>18.055201</td>\n",
       "      <td>1.000000</td>\n",
       "      <td>29076</td>\n",
       "      <td>8.997226e-07</td>\n",
       "      <td>113.354324</td>\n",
       "      <td>33.962150</td>\n",
       "      <td>-0.328790</td>\n",
       "      <td>0.920837</td>\n",
       "      <td>0.209658</td>\n",
       "      <td>True</td>\n",
       "    </tr>\n",
       "    <tr>\n",
       "      <th>811</th>\n",
       "      <td>811</td>\n",
       "      <td>b'ZTF18abwawbk'</td>\n",
       "      <td>621435901715015019</td>\n",
       "      <td>9621</td>\n",
       "      <td>58375.435903</td>\n",
       "      <td>32.348343</td>\n",
       "      <td>11.149056</td>\n",
       "      <td>0.828867</td>\n",
       "      <td>0.558563</td>\n",
       "      <td>-0.031414</td>\n",
       "      <td>19.707199</td>\n",
       "      <td>1.000000</td>\n",
       "      <td>101787</td>\n",
       "      <td>2.084178e-06</td>\n",
       "      <td>32.348465</td>\n",
       "      <td>11.149059</td>\n",
       "      <td>0.828866</td>\n",
       "      <td>0.558565</td>\n",
       "      <td>-0.031414</td>\n",
       "      <td>True</td>\n",
       "    </tr>\n",
       "    <tr>\n",
       "      <th>833</th>\n",
       "      <td>833</td>\n",
       "      <td>b'ZTF18acurwxa'</td>\n",
       "      <td>707509454415015012</td>\n",
       "      <td>18339</td>\n",
       "      <td>58461.509456</td>\n",
       "      <td>103.310341</td>\n",
       "      <td>27.540611</td>\n",
       "      <td>-0.204137</td>\n",
       "      <td>0.975586</td>\n",
       "      <td>0.080995</td>\n",
       "      <td>19.427401</td>\n",
       "      <td>1.000000</td>\n",
       "      <td>138763</td>\n",
       "      <td>4.068908e-06</td>\n",
       "      <td>103.310581</td>\n",
       "      <td>27.540515</td>\n",
       "      <td>-0.204141</td>\n",
       "      <td>0.975585</td>\n",
       "      <td>0.080994</td>\n",
       "      <td>True</td>\n",
       "    </tr>\n",
       "    <tr>\n",
       "      <th>890</th>\n",
       "      <td>890</td>\n",
       "      <td>b'ZTF18acuiphp'</td>\n",
       "      <td>707257536115015009</td>\n",
       "      <td>18272</td>\n",
       "      <td>58461.257535</td>\n",
       "      <td>48.496514</td>\n",
       "      <td>22.452973</td>\n",
       "      <td>0.612431</td>\n",
       "      <td>0.786949</td>\n",
       "      <td>0.075091</td>\n",
       "      <td>19.038000</td>\n",
       "      <td>0.976392</td>\n",
       "      <td>105289</td>\n",
       "      <td>3.491132e-06</td>\n",
       "      <td>48.496726</td>\n",
       "      <td>22.453012</td>\n",
       "      <td>0.612428</td>\n",
       "      <td>0.786952</td>\n",
       "      <td>0.075091</td>\n",
       "      <td>True</td>\n",
       "    </tr>\n",
       "    <tr>\n",
       "      <th>...</th>\n",
       "      <td>...</td>\n",
       "      <td>...</td>\n",
       "      <td>...</td>\n",
       "      <td>...</td>\n",
       "      <td>...</td>\n",
       "      <td>...</td>\n",
       "      <td>...</td>\n",
       "      <td>...</td>\n",
       "      <td>...</td>\n",
       "      <td>...</td>\n",
       "      <td>...</td>\n",
       "      <td>...</td>\n",
       "      <td>...</td>\n",
       "      <td>...</td>\n",
       "      <td>...</td>\n",
       "      <td>...</td>\n",
       "      <td>...</td>\n",
       "      <td>...</td>\n",
       "      <td>...</td>\n",
       "      <td>...</td>\n",
       "    </tr>\n",
       "    <tr>\n",
       "      <th>5697829</th>\n",
       "      <td>5697829</td>\n",
       "      <td>b'ZTF20aarepii'</td>\n",
       "      <td>1151522393415015017</td>\n",
       "      <td>97090</td>\n",
       "      <td>58905.522396</td>\n",
       "      <td>236.892710</td>\n",
       "      <td>-2.341055</td>\n",
       "      <td>-0.545753</td>\n",
       "      <td>-0.784135</td>\n",
       "      <td>0.295442</td>\n",
       "      <td>15.089800</td>\n",
       "      <td>1.000000</td>\n",
       "      <td>727</td>\n",
       "      <td>2.473898e-06</td>\n",
       "      <td>236.892569</td>\n",
       "      <td>-2.341034</td>\n",
       "      <td>-0.545755</td>\n",
       "      <td>-0.784134</td>\n",
       "      <td>0.295442</td>\n",
       "      <td>True</td>\n",
       "    </tr>\n",
       "    <tr>\n",
       "      <th>5697832</th>\n",
       "      <td>5697832</td>\n",
       "      <td>b'ZTF20aareowa'</td>\n",
       "      <td>1151522390315015003</td>\n",
       "      <td>97090</td>\n",
       "      <td>58905.522396</td>\n",
       "      <td>237.654792</td>\n",
       "      <td>-5.909325</td>\n",
       "      <td>-0.532176</td>\n",
       "      <td>-0.811960</td>\n",
       "      <td>0.239813</td>\n",
       "      <td>15.717300</td>\n",
       "      <td>1.000000</td>\n",
       "      <td>625</td>\n",
       "      <td>2.355026e-06</td>\n",
       "      <td>237.654657</td>\n",
       "      <td>-5.909328</td>\n",
       "      <td>-0.532178</td>\n",
       "      <td>-0.811958</td>\n",
       "      <td>0.239813</td>\n",
       "      <td>True</td>\n",
       "    </tr>\n",
       "    <tr>\n",
       "      <th>5697833</th>\n",
       "      <td>5697833</td>\n",
       "      <td>b'ZTF20aareowm'</td>\n",
       "      <td>1151521944715015006</td>\n",
       "      <td>97089</td>\n",
       "      <td>58905.521944</td>\n",
       "      <td>236.239354</td>\n",
       "      <td>-9.304550</td>\n",
       "      <td>-0.548413</td>\n",
       "      <td>-0.817041</td>\n",
       "      <td>0.178007</td>\n",
       "      <td>15.695800</td>\n",
       "      <td>1.000000</td>\n",
       "      <td>464</td>\n",
       "      <td>2.205903e-06</td>\n",
       "      <td>236.239228</td>\n",
       "      <td>-9.304526</td>\n",
       "      <td>-0.548415</td>\n",
       "      <td>-0.817040</td>\n",
       "      <td>0.178007</td>\n",
       "      <td>True</td>\n",
       "    </tr>\n",
       "    <tr>\n",
       "      <th>5697838</th>\n",
       "      <td>5697838</td>\n",
       "      <td>b'ZTF20aareowf'</td>\n",
       "      <td>1151521946215015005</td>\n",
       "      <td>97089</td>\n",
       "      <td>58905.521944</td>\n",
       "      <td>234.674482</td>\n",
       "      <td>-7.771349</td>\n",
       "      <td>-0.572910</td>\n",
       "      <td>-0.795468</td>\n",
       "      <td>0.197496</td>\n",
       "      <td>16.917900</td>\n",
       "      <td>1.000000</td>\n",
       "      <td>2879</td>\n",
       "      <td>4.163074e-06</td>\n",
       "      <td>234.674242</td>\n",
       "      <td>-7.771368</td>\n",
       "      <td>-0.572914</td>\n",
       "      <td>-0.795466</td>\n",
       "      <td>0.197494</td>\n",
       "      <td>True</td>\n",
       "    </tr>\n",
       "    <tr>\n",
       "      <th>5697844</th>\n",
       "      <td>5697844</td>\n",
       "      <td>b'ZTF20aarepbq'</td>\n",
       "      <td>1151522853015015009</td>\n",
       "      <td>97091</td>\n",
       "      <td>58905.522859</td>\n",
       "      <td>238.922293</td>\n",
       "      <td>-4.378222</td>\n",
       "      <td>-0.514694</td>\n",
       "      <td>-0.813867</td>\n",
       "      <td>0.269649</td>\n",
       "      <td>16.691000</td>\n",
       "      <td>1.000000</td>\n",
       "      <td>1592</td>\n",
       "      <td>6.520056e-06</td>\n",
       "      <td>238.921919</td>\n",
       "      <td>-4.378194</td>\n",
       "      <td>-0.514699</td>\n",
       "      <td>-0.813864</td>\n",
       "      <td>0.269648</td>\n",
       "      <td>True</td>\n",
       "    </tr>\n",
       "  </tbody>\n",
       "</table>\n",
       "<p>3747726 rows × 20 columns</p>\n",
       "</div>"
      ],
      "text/plain": [
       "          ztf_id         ObjectID          CandidateID  TimeStampID  \\\n",
       "602          602  b'ZTF18acqvjbw'   689314713015015008        16951   \n",
       "649          649  b'ZTF18acrcadh'   693308213515015017        17096   \n",
       "811          811  b'ZTF18abwawbk'   621435901715015019         9621   \n",
       "833          833  b'ZTF18acurwxa'   707509454415015012        18339   \n",
       "890          890  b'ZTF18acuiphp'   707257536115015009        18272   \n",
       "...          ...              ...                  ...          ...   \n",
       "5697829  5697829  b'ZTF20aarepii'  1151522393415015017        97090   \n",
       "5697832  5697832  b'ZTF20aareowa'  1151522390315015003        97090   \n",
       "5697833  5697833  b'ZTF20aareowm'  1151521944715015006        97089   \n",
       "5697838  5697838  b'ZTF20aareowf'  1151521946215015005        97089   \n",
       "5697844  5697844  b'ZTF20aarepbq'  1151522853015015009        97091   \n",
       "\n",
       "                  mjd          ra        dec        ux        uy        uz  \\\n",
       "602      58443.314711   63.025354  17.655906  0.432230  0.899796 -0.059531   \n",
       "649      58447.308218  113.354357  33.962194 -0.328791  0.920837  0.209659   \n",
       "811      58375.435903   32.348343  11.149056  0.828867  0.558563 -0.031414   \n",
       "833      58461.509456  103.310341  27.540611 -0.204137  0.975586  0.080995   \n",
       "890      58461.257535   48.496514  22.452973  0.612431  0.786949  0.075091   \n",
       "...               ...         ...        ...       ...       ...       ...   \n",
       "5697829  58905.522396  236.892710  -2.341055 -0.545753 -0.784135  0.295442   \n",
       "5697832  58905.522396  237.654792  -5.909325 -0.532176 -0.811960  0.239813   \n",
       "5697833  58905.521944  236.239354  -9.304550 -0.548413 -0.817041  0.178007   \n",
       "5697838  58905.521944  234.674482  -7.771349 -0.572910 -0.795468  0.197496   \n",
       "5697844  58905.522859  238.922293  -4.378222 -0.514694 -0.813867  0.269649   \n",
       "\n",
       "           mag_app  asteroid_prob  nearest_ast_num  nearest_ast_dist  \\\n",
       "602      18.519199       1.000000           135355      3.663691e-06   \n",
       "649      18.055201       1.000000            29076      8.997226e-07   \n",
       "811      19.707199       1.000000           101787      2.084178e-06   \n",
       "833      19.427401       1.000000           138763      4.068908e-06   \n",
       "890      19.038000       0.976392           105289      3.491132e-06   \n",
       "...            ...            ...              ...               ...   \n",
       "5697829  15.089800       1.000000              727      2.473898e-06   \n",
       "5697832  15.717300       1.000000              625      2.355026e-06   \n",
       "5697833  15.695800       1.000000              464      2.205903e-06   \n",
       "5697838  16.917900       1.000000             2879      4.163074e-06   \n",
       "5697844  16.691000       1.000000             1592      6.520056e-06   \n",
       "\n",
       "             ast_ra    ast_dec    ast_ux    ast_uy    ast_uz  is_hit  \n",
       "602       63.025567  17.655961  0.432226  0.899798 -0.059531    True  \n",
       "649      113.354324  33.962150 -0.328790  0.920837  0.209658    True  \n",
       "811       32.348465  11.149059  0.828866  0.558565 -0.031414    True  \n",
       "833      103.310581  27.540515 -0.204141  0.975585  0.080994    True  \n",
       "890       48.496726  22.453012  0.612428  0.786952  0.075091    True  \n",
       "...             ...        ...       ...       ...       ...     ...  \n",
       "5697829  236.892569  -2.341034 -0.545755 -0.784134  0.295442    True  \n",
       "5697832  237.654657  -5.909328 -0.532178 -0.811958  0.239813    True  \n",
       "5697833  236.239228  -9.304526 -0.548415 -0.817040  0.178007    True  \n",
       "5697838  234.674242  -7.771368 -0.572914 -0.795466  0.197494    True  \n",
       "5697844  238.921919  -4.378194 -0.514699 -0.813864  0.269648    True  \n",
       "\n",
       "[3747726 rows x 20 columns]"
      ]
     },
     "execution_count": 7,
     "metadata": {},
     "output_type": "execute_result"
    }
   ],
   "source": [
    "# Review ztf_ast\n",
    "ztf_ast"
   ]
  },
  {
   "cell_type": "code",
   "execution_count": 8,
   "metadata": {},
   "outputs": [],
   "source": [
    "# Best random elements\n",
    "elts = best_random_elts(random_seed=random_seed, known_ast=known_ast, \n",
    "                        batch_size_init=batch_size_init, batch_size=batch_size, thresh_deg=thresh_deg)"
   ]
  },
  {
   "cell_type": "code",
   "execution_count": 9,
   "metadata": {},
   "outputs": [
    {
     "data": {
      "text/html": [
       "<div>\n",
       "<style scoped>\n",
       "    .dataframe tbody tr th:only-of-type {\n",
       "        vertical-align: middle;\n",
       "    }\n",
       "\n",
       "    .dataframe tbody tr th {\n",
       "        vertical-align: top;\n",
       "    }\n",
       "\n",
       "    .dataframe thead th {\n",
       "        text-align: right;\n",
       "    }\n",
       "</style>\n",
       "<table border=\"1\" class=\"dataframe\">\n",
       "  <thead>\n",
       "    <tr style=\"text-align: right;\">\n",
       "      <th></th>\n",
       "      <th>element_id</th>\n",
       "      <th>a</th>\n",
       "      <th>e</th>\n",
       "      <th>f</th>\n",
       "      <th>inc</th>\n",
       "      <th>Omega</th>\n",
       "      <th>omega</th>\n",
       "      <th>epoch</th>\n",
       "      <th>num_obs</th>\n",
       "      <th>score</th>\n",
       "      <th>t_score</th>\n",
       "    </tr>\n",
       "  </thead>\n",
       "  <tbody>\n",
       "    <tr>\n",
       "      <th>0</th>\n",
       "      <td>0</td>\n",
       "      <td>3.064054</td>\n",
       "      <td>0.121235</td>\n",
       "      <td>-1.291546</td>\n",
       "      <td>0.068009</td>\n",
       "      <td>0.662207</td>\n",
       "      <td>0.935398</td>\n",
       "      <td>58600.0</td>\n",
       "      <td>12711</td>\n",
       "      <td>998.002460</td>\n",
       "      <td>8.852007</td>\n",
       "    </tr>\n",
       "    <tr>\n",
       "      <th>1</th>\n",
       "      <td>1</td>\n",
       "      <td>2.771068</td>\n",
       "      <td>0.151421</td>\n",
       "      <td>-0.531263</td>\n",
       "      <td>0.068958</td>\n",
       "      <td>1.364763</td>\n",
       "      <td>6.111150</td>\n",
       "      <td>58600.0</td>\n",
       "      <td>11901</td>\n",
       "      <td>886.807208</td>\n",
       "      <td>8.129007</td>\n",
       "    </tr>\n",
       "    <tr>\n",
       "      <th>2</th>\n",
       "      <td>2</td>\n",
       "      <td>3.172947</td>\n",
       "      <td>0.095819</td>\n",
       "      <td>1.903106</td>\n",
       "      <td>0.035792</td>\n",
       "      <td>3.984825</td>\n",
       "      <td>0.687484</td>\n",
       "      <td>58600.0</td>\n",
       "      <td>12572</td>\n",
       "      <td>781.406566</td>\n",
       "      <td>6.969071</td>\n",
       "    </tr>\n",
       "    <tr>\n",
       "      <th>3</th>\n",
       "      <td>3</td>\n",
       "      <td>2.697356</td>\n",
       "      <td>0.098236</td>\n",
       "      <td>0.132486</td>\n",
       "      <td>0.025427</td>\n",
       "      <td>1.610715</td>\n",
       "      <td>5.259525</td>\n",
       "      <td>58600.0</td>\n",
       "      <td>9835</td>\n",
       "      <td>767.421579</td>\n",
       "      <td>7.738322</td>\n",
       "    </tr>\n",
       "    <tr>\n",
       "      <th>4</th>\n",
       "      <td>4</td>\n",
       "      <td>3.113809</td>\n",
       "      <td>0.257043</td>\n",
       "      <td>2.596678</td>\n",
       "      <td>0.090822</td>\n",
       "      <td>0.106255</td>\n",
       "      <td>4.320585</td>\n",
       "      <td>58600.0</td>\n",
       "      <td>9129</td>\n",
       "      <td>697.797101</td>\n",
       "      <td>7.303273</td>\n",
       "    </tr>\n",
       "    <tr>\n",
       "      <th>...</th>\n",
       "      <td>...</td>\n",
       "      <td>...</td>\n",
       "      <td>...</td>\n",
       "      <td>...</td>\n",
       "      <td>...</td>\n",
       "      <td>...</td>\n",
       "      <td>...</td>\n",
       "      <td>...</td>\n",
       "      <td>...</td>\n",
       "      <td>...</td>\n",
       "      <td>...</td>\n",
       "    </tr>\n",
       "    <tr>\n",
       "      <th>59</th>\n",
       "      <td>59</td>\n",
       "      <td>1.890665</td>\n",
       "      <td>0.083441</td>\n",
       "      <td>3.132056</td>\n",
       "      <td>0.035993</td>\n",
       "      <td>0.656159</td>\n",
       "      <td>3.255417</td>\n",
       "      <td>58600.0</td>\n",
       "      <td>9064</td>\n",
       "      <td>280.408751</td>\n",
       "      <td>2.945314</td>\n",
       "    </tr>\n",
       "    <tr>\n",
       "      <th>60</th>\n",
       "      <td>60</td>\n",
       "      <td>3.168699</td>\n",
       "      <td>0.088259</td>\n",
       "      <td>0.853523</td>\n",
       "      <td>0.052655</td>\n",
       "      <td>5.188591</td>\n",
       "      <td>0.902693</td>\n",
       "      <td>58600.0</td>\n",
       "      <td>10197</td>\n",
       "      <td>280.102124</td>\n",
       "      <td>2.773832</td>\n",
       "    </tr>\n",
       "    <tr>\n",
       "      <th>61</th>\n",
       "      <td>61</td>\n",
       "      <td>2.255124</td>\n",
       "      <td>0.055124</td>\n",
       "      <td>-1.131100</td>\n",
       "      <td>0.065725</td>\n",
       "      <td>4.743550</td>\n",
       "      <td>1.882832</td>\n",
       "      <td>58600.0</td>\n",
       "      <td>6700</td>\n",
       "      <td>279.483345</td>\n",
       "      <td>3.414432</td>\n",
       "    </tr>\n",
       "    <tr>\n",
       "      <th>62</th>\n",
       "      <td>62</td>\n",
       "      <td>2.325415</td>\n",
       "      <td>0.176758</td>\n",
       "      <td>-0.619556</td>\n",
       "      <td>0.046713</td>\n",
       "      <td>3.318604</td>\n",
       "      <td>2.235867</td>\n",
       "      <td>58600.0</td>\n",
       "      <td>4532</td>\n",
       "      <td>277.344008</td>\n",
       "      <td>4.119778</td>\n",
       "    </tr>\n",
       "    <tr>\n",
       "      <th>63</th>\n",
       "      <td>63</td>\n",
       "      <td>2.390297</td>\n",
       "      <td>0.049497</td>\n",
       "      <td>-5.345717</td>\n",
       "      <td>0.062828</td>\n",
       "      <td>2.081017</td>\n",
       "      <td>3.088184</td>\n",
       "      <td>58600.0</td>\n",
       "      <td>9701</td>\n",
       "      <td>276.763261</td>\n",
       "      <td>2.809960</td>\n",
       "    </tr>\n",
       "  </tbody>\n",
       "</table>\n",
       "<p>64 rows × 11 columns</p>\n",
       "</div>"
      ],
      "text/plain": [
       "    element_id         a         e         f       inc     Omega     omega  \\\n",
       "0            0  3.064054  0.121235 -1.291546  0.068009  0.662207  0.935398   \n",
       "1            1  2.771068  0.151421 -0.531263  0.068958  1.364763  6.111150   \n",
       "2            2  3.172947  0.095819  1.903106  0.035792  3.984825  0.687484   \n",
       "3            3  2.697356  0.098236  0.132486  0.025427  1.610715  5.259525   \n",
       "4            4  3.113809  0.257043  2.596678  0.090822  0.106255  4.320585   \n",
       "..         ...       ...       ...       ...       ...       ...       ...   \n",
       "59          59  1.890665  0.083441  3.132056  0.035993  0.656159  3.255417   \n",
       "60          60  3.168699  0.088259  0.853523  0.052655  5.188591  0.902693   \n",
       "61          61  2.255124  0.055124 -1.131100  0.065725  4.743550  1.882832   \n",
       "62          62  2.325415  0.176758 -0.619556  0.046713  3.318604  2.235867   \n",
       "63          63  2.390297  0.049497 -5.345717  0.062828  2.081017  3.088184   \n",
       "\n",
       "      epoch  num_obs       score   t_score  \n",
       "0   58600.0    12711  998.002460  8.852007  \n",
       "1   58600.0    11901  886.807208  8.129007  \n",
       "2   58600.0    12572  781.406566  6.969071  \n",
       "3   58600.0     9835  767.421579  7.738322  \n",
       "4   58600.0     9129  697.797101  7.303273  \n",
       "..      ...      ...         ...       ...  \n",
       "59  58600.0     9064  280.408751  2.945314  \n",
       "60  58600.0    10197  280.102124  2.773832  \n",
       "61  58600.0     6700  279.483345  3.414432  \n",
       "62  58600.0     4532  277.344008  4.119778  \n",
       "63  58600.0     9701  276.763261  2.809960  \n",
       "\n",
       "[64 rows x 11 columns]"
      ]
     },
     "execution_count": 9,
     "metadata": {},
     "output_type": "execute_result"
    }
   ],
   "source": [
    "# Review best random elements\n",
    "elts"
   ]
  },
  {
   "cell_type": "markdown",
   "metadata": {},
   "source": [
    "## Batches of ZTF Data Near Initial Candidate Elements"
   ]
  },
  {
   "cell_type": "code",
   "execution_count": 10,
   "metadata": {},
   "outputs": [],
   "source": [
    "# Arguments to make_ztf_batch\n",
    "near_ast = False\n",
    "regenerate = False"
   ]
  },
  {
   "cell_type": "code",
   "execution_count": 11,
   "metadata": {},
   "outputs": [],
   "source": [
    "# Load perturbed element batch\n",
    "ztf_elt = load_ztf_batch(elts=elts, ztf=ztf_ast, thresh_deg=thresh_deg, near_ast=near_ast, regenerate=regenerate)"
   ]
  },
  {
   "cell_type": "code",
   "execution_count": 12,
   "metadata": {},
   "outputs": [
    {
     "data": {
      "text/html": [
       "<div>\n",
       "<style scoped>\n",
       "    .dataframe tbody tr th:only-of-type {\n",
       "        vertical-align: middle;\n",
       "    }\n",
       "\n",
       "    .dataframe tbody tr th {\n",
       "        vertical-align: top;\n",
       "    }\n",
       "\n",
       "    .dataframe thead th {\n",
       "        text-align: right;\n",
       "    }\n",
       "</style>\n",
       "<table border=\"1\" class=\"dataframe\">\n",
       "  <thead>\n",
       "    <tr style=\"text-align: right;\">\n",
       "      <th></th>\n",
       "      <th>ztf_id</th>\n",
       "      <th>element_id</th>\n",
       "      <th>ObjectID</th>\n",
       "      <th>CandidateID</th>\n",
       "      <th>TimeStampID</th>\n",
       "      <th>mjd</th>\n",
       "      <th>ra</th>\n",
       "      <th>dec</th>\n",
       "      <th>ux</th>\n",
       "      <th>uy</th>\n",
       "      <th>...</th>\n",
       "      <th>elt_ux</th>\n",
       "      <th>elt_uy</th>\n",
       "      <th>elt_uz</th>\n",
       "      <th>elt_r</th>\n",
       "      <th>s</th>\n",
       "      <th>s_sec</th>\n",
       "      <th>z</th>\n",
       "      <th>v</th>\n",
       "      <th>is_hit</th>\n",
       "      <th>is_match</th>\n",
       "    </tr>\n",
       "  </thead>\n",
       "  <tbody>\n",
       "    <tr>\n",
       "      <th>0</th>\n",
       "      <td>357652</td>\n",
       "      <td>0</td>\n",
       "      <td>b'ZTF19abjggig'</td>\n",
       "      <td>938492372315015003</td>\n",
       "      <td>1268</td>\n",
       "      <td>58692.492373</td>\n",
       "      <td>53.778435</td>\n",
       "      <td>17.745455</td>\n",
       "      <td>0.562794</td>\n",
       "      <td>0.826188</td>\n",
       "      <td>...</td>\n",
       "      <td>0.554305</td>\n",
       "      <td>0.832313</td>\n",
       "      <td>-0.001318</td>\n",
       "      <td>3.030342</td>\n",
       "      <td>0.026805</td>\n",
       "      <td>5529.148243</td>\n",
       "      <td>0.999641</td>\n",
       "      <td>0.589752</td>\n",
       "      <td>False</td>\n",
       "      <td>False</td>\n",
       "    </tr>\n",
       "    <tr>\n",
       "      <th>1</th>\n",
       "      <td>358253</td>\n",
       "      <td>0</td>\n",
       "      <td>b'ZTF19abjgfhg'</td>\n",
       "      <td>938492373915015003</td>\n",
       "      <td>1268</td>\n",
       "      <td>58692.492373</td>\n",
       "      <td>53.995882</td>\n",
       "      <td>19.505049</td>\n",
       "      <td>0.554108</td>\n",
       "      <td>0.832439</td>\n",
       "      <td>...</td>\n",
       "      <td>0.554305</td>\n",
       "      <td>0.832313</td>\n",
       "      <td>-0.001318</td>\n",
       "      <td>3.030342</td>\n",
       "      <td>0.004338</td>\n",
       "      <td>894.747682</td>\n",
       "      <td>0.999991</td>\n",
       "      <td>0.015445</td>\n",
       "      <td>False</td>\n",
       "      <td>False</td>\n",
       "    </tr>\n",
       "    <tr>\n",
       "      <th>2</th>\n",
       "      <td>359127</td>\n",
       "      <td>0</td>\n",
       "      <td>b'ZTF19abjgfhd'</td>\n",
       "      <td>938492373915015019</td>\n",
       "      <td>1268</td>\n",
       "      <td>58692.492373</td>\n",
       "      <td>53.303148</td>\n",
       "      <td>19.154581</td>\n",
       "      <td>0.564497</td>\n",
       "      <td>0.825435</td>\n",
       "      <td>...</td>\n",
       "      <td>0.554305</td>\n",
       "      <td>0.832313</td>\n",
       "      <td>-0.001318</td>\n",
       "      <td>3.030342</td>\n",
       "      <td>0.012343</td>\n",
       "      <td>2545.891323</td>\n",
       "      <td>0.999924</td>\n",
       "      <td>0.125041</td>\n",
       "      <td>False</td>\n",
       "      <td>False</td>\n",
       "    </tr>\n",
       "    <tr>\n",
       "      <th>3</th>\n",
       "      <td>359244</td>\n",
       "      <td>0</td>\n",
       "      <td>b'ZTF19abjgfqh'</td>\n",
       "      <td>938492373315015008</td>\n",
       "      <td>1268</td>\n",
       "      <td>58692.492373</td>\n",
       "      <td>54.457412</td>\n",
       "      <td>20.235852</td>\n",
       "      <td>0.545428</td>\n",
       "      <td>0.838047</td>\n",
       "      <td>...</td>\n",
       "      <td>0.554305</td>\n",
       "      <td>0.832313</td>\n",
       "      <td>-0.001318</td>\n",
       "      <td>3.030342</td>\n",
       "      <td>0.018328</td>\n",
       "      <td>3780.523027</td>\n",
       "      <td>0.999832</td>\n",
       "      <td>0.275722</td>\n",
       "      <td>False</td>\n",
       "      <td>False</td>\n",
       "    </tr>\n",
       "    <tr>\n",
       "      <th>4</th>\n",
       "      <td>359275</td>\n",
       "      <td>0</td>\n",
       "      <td>b'ZTF19abjgfjl'</td>\n",
       "      <td>938492371615015001</td>\n",
       "      <td>1268</td>\n",
       "      <td>58692.492373</td>\n",
       "      <td>55.224952</td>\n",
       "      <td>18.713324</td>\n",
       "      <td>0.540204</td>\n",
       "      <td>0.841398</td>\n",
       "      <td>...</td>\n",
       "      <td>0.554305</td>\n",
       "      <td>0.832313</td>\n",
       "      <td>-0.001318</td>\n",
       "      <td>3.030342</td>\n",
       "      <td>0.021711</td>\n",
       "      <td>4478.268990</td>\n",
       "      <td>0.999764</td>\n",
       "      <td>0.386885</td>\n",
       "      <td>False</td>\n",
       "      <td>False</td>\n",
       "    </tr>\n",
       "    <tr>\n",
       "      <th>...</th>\n",
       "      <td>...</td>\n",
       "      <td>...</td>\n",
       "      <td>...</td>\n",
       "      <td>...</td>\n",
       "      <td>...</td>\n",
       "      <td>...</td>\n",
       "      <td>...</td>\n",
       "      <td>...</td>\n",
       "      <td>...</td>\n",
       "      <td>...</td>\n",
       "      <td>...</td>\n",
       "      <td>...</td>\n",
       "      <td>...</td>\n",
       "      <td>...</td>\n",
       "      <td>...</td>\n",
       "      <td>...</td>\n",
       "      <td>...</td>\n",
       "      <td>...</td>\n",
       "      <td>...</td>\n",
       "      <td>...</td>\n",
       "      <td>...</td>\n",
       "    </tr>\n",
       "    <tr>\n",
       "      <th>512300</th>\n",
       "      <td>5682027</td>\n",
       "      <td>63</td>\n",
       "      <td>b'ZTF20aarbsoy'</td>\n",
       "      <td>1151130435015015008</td>\n",
       "      <td>39108</td>\n",
       "      <td>58905.130440</td>\n",
       "      <td>46.250023</td>\n",
       "      <td>14.103319</td>\n",
       "      <td>0.670669</td>\n",
       "      <td>0.739706</td>\n",
       "      <td>...</td>\n",
       "      <td>0.660978</td>\n",
       "      <td>0.749074</td>\n",
       "      <td>-0.044681</td>\n",
       "      <td>2.592171</td>\n",
       "      <td>0.017045</td>\n",
       "      <td>3515.894844</td>\n",
       "      <td>0.999855</td>\n",
       "      <td>0.238474</td>\n",
       "      <td>False</td>\n",
       "      <td>False</td>\n",
       "    </tr>\n",
       "    <tr>\n",
       "      <th>512301</th>\n",
       "      <td>5682059</td>\n",
       "      <td>63</td>\n",
       "      <td>b'ZTF20aarbsvt'</td>\n",
       "      <td>1151130433215015003</td>\n",
       "      <td>39108</td>\n",
       "      <td>58905.130440</td>\n",
       "      <td>46.974922</td>\n",
       "      <td>12.957800</td>\n",
       "      <td>0.664943</td>\n",
       "      <td>0.742845</td>\n",
       "      <td>...</td>\n",
       "      <td>0.660978</td>\n",
       "      <td>0.749074</td>\n",
       "      <td>-0.044681</td>\n",
       "      <td>2.592171</td>\n",
       "      <td>0.033797</td>\n",
       "      <td>6971.539164</td>\n",
       "      <td>0.999429</td>\n",
       "      <td>0.937551</td>\n",
       "      <td>False</td>\n",
       "      <td>False</td>\n",
       "    </tr>\n",
       "    <tr>\n",
       "      <th>512302</th>\n",
       "      <td>5682122</td>\n",
       "      <td>63</td>\n",
       "      <td>b'ZTF20aarbsrh'</td>\n",
       "      <td>1151130435215015007</td>\n",
       "      <td>39108</td>\n",
       "      <td>58905.130440</td>\n",
       "      <td>44.917822</td>\n",
       "      <td>15.212759</td>\n",
       "      <td>0.683306</td>\n",
       "      <td>0.729504</td>\n",
       "      <td>...</td>\n",
       "      <td>0.660978</td>\n",
       "      <td>0.749074</td>\n",
       "      <td>-0.044681</td>\n",
       "      <td>2.592171</td>\n",
       "      <td>0.033002</td>\n",
       "      <td>6807.415135</td>\n",
       "      <td>0.999455</td>\n",
       "      <td>0.893931</td>\n",
       "      <td>False</td>\n",
       "      <td>False</td>\n",
       "    </tr>\n",
       "    <tr>\n",
       "      <th>512303</th>\n",
       "      <td>5682133</td>\n",
       "      <td>63</td>\n",
       "      <td>b'ZTF20aarbsrx'</td>\n",
       "      <td>1151130434815015006</td>\n",
       "      <td>39108</td>\n",
       "      <td>58905.130440</td>\n",
       "      <td>47.131113</td>\n",
       "      <td>15.156325</td>\n",
       "      <td>0.656659</td>\n",
       "      <td>0.753044</td>\n",
       "      <td>...</td>\n",
       "      <td>0.660978</td>\n",
       "      <td>0.749074</td>\n",
       "      <td>-0.044681</td>\n",
       "      <td>2.592171</td>\n",
       "      <td>0.006666</td>\n",
       "      <td>1374.963549</td>\n",
       "      <td>0.999978</td>\n",
       "      <td>0.036472</td>\n",
       "      <td>False</td>\n",
       "      <td>False</td>\n",
       "    </tr>\n",
       "    <tr>\n",
       "      <th>512304</th>\n",
       "      <td>5682135</td>\n",
       "      <td>63</td>\n",
       "      <td>b'ZTF20aarbsvu'</td>\n",
       "      <td>1151130433215015001</td>\n",
       "      <td>39108</td>\n",
       "      <td>58905.130440</td>\n",
       "      <td>46.736132</td>\n",
       "      <td>13.445697</td>\n",
       "      <td>0.666574</td>\n",
       "      <td>0.742295</td>\n",
       "      <td>...</td>\n",
       "      <td>0.660978</td>\n",
       "      <td>0.749074</td>\n",
       "      <td>-0.044681</td>\n",
       "      <td>2.592171</td>\n",
       "      <td>0.025284</td>\n",
       "      <td>5215.282102</td>\n",
       "      <td>0.999680</td>\n",
       "      <td>0.524701</td>\n",
       "      <td>False</td>\n",
       "      <td>False</td>\n",
       "    </tr>\n",
       "  </tbody>\n",
       "</table>\n",
       "<p>512305 rows × 35 columns</p>\n",
       "</div>"
      ],
      "text/plain": [
       "         ztf_id  element_id         ObjectID          CandidateID  \\\n",
       "0        357652           0  b'ZTF19abjggig'   938492372315015003   \n",
       "1        358253           0  b'ZTF19abjgfhg'   938492373915015003   \n",
       "2        359127           0  b'ZTF19abjgfhd'   938492373915015019   \n",
       "3        359244           0  b'ZTF19abjgfqh'   938492373315015008   \n",
       "4        359275           0  b'ZTF19abjgfjl'   938492371615015001   \n",
       "...         ...         ...              ...                  ...   \n",
       "512300  5682027          63  b'ZTF20aarbsoy'  1151130435015015008   \n",
       "512301  5682059          63  b'ZTF20aarbsvt'  1151130433215015003   \n",
       "512302  5682122          63  b'ZTF20aarbsrh'  1151130435215015007   \n",
       "512303  5682133          63  b'ZTF20aarbsrx'  1151130434815015006   \n",
       "512304  5682135          63  b'ZTF20aarbsvu'  1151130433215015001   \n",
       "\n",
       "        TimeStampID           mjd         ra        dec        ux        uy  \\\n",
       "0              1268  58692.492373  53.778435  17.745455  0.562794  0.826188   \n",
       "1              1268  58692.492373  53.995882  19.505049  0.554108  0.832439   \n",
       "2              1268  58692.492373  53.303148  19.154581  0.564497  0.825435   \n",
       "3              1268  58692.492373  54.457412  20.235852  0.545428  0.838047   \n",
       "4              1268  58692.492373  55.224952  18.713324  0.540204  0.841398   \n",
       "...             ...           ...        ...        ...       ...       ...   \n",
       "512300        39108  58905.130440  46.250023  14.103319  0.670669  0.739706   \n",
       "512301        39108  58905.130440  46.974922  12.957800  0.664943  0.742845   \n",
       "512302        39108  58905.130440  44.917822  15.212759  0.683306  0.729504   \n",
       "512303        39108  58905.130440  47.131113  15.156325  0.656659  0.753044   \n",
       "512304        39108  58905.130440  46.736132  13.445697  0.666574  0.742295   \n",
       "\n",
       "        ...    elt_ux    elt_uy    elt_uz     elt_r         s        s_sec  \\\n",
       "0       ...  0.554305  0.832313 -0.001318  3.030342  0.026805  5529.148243   \n",
       "1       ...  0.554305  0.832313 -0.001318  3.030342  0.004338   894.747682   \n",
       "2       ...  0.554305  0.832313 -0.001318  3.030342  0.012343  2545.891323   \n",
       "3       ...  0.554305  0.832313 -0.001318  3.030342  0.018328  3780.523027   \n",
       "4       ...  0.554305  0.832313 -0.001318  3.030342  0.021711  4478.268990   \n",
       "...     ...       ...       ...       ...       ...       ...          ...   \n",
       "512300  ...  0.660978  0.749074 -0.044681  2.592171  0.017045  3515.894844   \n",
       "512301  ...  0.660978  0.749074 -0.044681  2.592171  0.033797  6971.539164   \n",
       "512302  ...  0.660978  0.749074 -0.044681  2.592171  0.033002  6807.415135   \n",
       "512303  ...  0.660978  0.749074 -0.044681  2.592171  0.006666  1374.963549   \n",
       "512304  ...  0.660978  0.749074 -0.044681  2.592171  0.025284  5215.282102   \n",
       "\n",
       "               z         v  is_hit  is_match  \n",
       "0       0.999641  0.589752   False     False  \n",
       "1       0.999991  0.015445   False     False  \n",
       "2       0.999924  0.125041   False     False  \n",
       "3       0.999832  0.275722   False     False  \n",
       "4       0.999764  0.386885   False     False  \n",
       "...          ...       ...     ...       ...  \n",
       "512300  0.999855  0.238474   False     False  \n",
       "512301  0.999429  0.937551   False     False  \n",
       "512302  0.999455  0.893931   False     False  \n",
       "512303  0.999978  0.036472   False     False  \n",
       "512304  0.999680  0.524701   False     False  \n",
       "\n",
       "[512305 rows x 35 columns]"
      ]
     },
     "execution_count": 12,
     "metadata": {},
     "output_type": "execute_result"
    }
   ],
   "source": [
    "ztf_elt"
   ]
  },
  {
   "cell_type": "code",
   "execution_count": 13,
   "metadata": {},
   "outputs": [],
   "source": [
    "# Score by element\n",
    "score_by_elt = ztf_score_by_elt(ztf_elt)"
   ]
  },
  {
   "cell_type": "code",
   "execution_count": 14,
   "metadata": {},
   "outputs": [],
   "source": [
    "# Mixture parameters\n",
    "num_hits: int = 10\n",
    "R_deg: float = 0.5"
   ]
  },
  {
   "cell_type": "code",
   "execution_count": 15,
   "metadata": {},
   "outputs": [],
   "source": [
    "# Add mixture parameters to candidate elements\n",
    "elts_add_mixture_params(elts=elts, num_hits=num_hits, thresh_deg=thresh_deg, R_deg=R_deg)"
   ]
  },
  {
   "cell_type": "code",
   "execution_count": 16,
   "metadata": {},
   "outputs": [],
   "source": [
    "# Add brightness parameter H\n",
    "elts_add_H(elts=elts)"
   ]
  },
  {
   "cell_type": "code",
   "execution_count": 17,
   "metadata": {},
   "outputs": [
    {
     "name": "stdout",
     "output_type": "stream",
     "text": [
      "ZTF Element Dataframe Random Elements:\n",
      "                  Total     (Per Batch)\n",
      "Observations   :   512305   (     8005)\n",
      "\n",
      "Summarize score = sum(-1.0 - log(v)) by batch.  (Mean=0, Variance=num_obs)\n",
      "Mean score     :     442.59\n",
      "Sqrt(batch_obs):      89.47\n",
      "Mean t_score   :       5.11\n"
     ]
    }
   ],
   "source": [
    "# Summarize the ztf element batch: perturbed asteroids\n",
    "ztf_elt_summary(ztf_elt, score_by_elt, 'Random Elements')"
   ]
  },
  {
   "cell_type": "code",
   "execution_count": 18,
   "metadata": {},
   "outputs": [
    {
     "data": {
      "text/html": [
       "<div>\n",
       "<style scoped>\n",
       "    .dataframe tbody tr th:only-of-type {\n",
       "        vertical-align: middle;\n",
       "    }\n",
       "\n",
       "    .dataframe tbody tr th {\n",
       "        vertical-align: top;\n",
       "    }\n",
       "\n",
       "    .dataframe thead th {\n",
       "        text-align: right;\n",
       "    }\n",
       "</style>\n",
       "<table border=\"1\" class=\"dataframe\">\n",
       "  <thead>\n",
       "    <tr style=\"text-align: right;\">\n",
       "      <th></th>\n",
       "      <th>element_id</th>\n",
       "      <th>a</th>\n",
       "      <th>e</th>\n",
       "      <th>f</th>\n",
       "      <th>inc</th>\n",
       "      <th>Omega</th>\n",
       "      <th>omega</th>\n",
       "      <th>epoch</th>\n",
       "      <th>num_obs</th>\n",
       "      <th>score</th>\n",
       "      <th>t_score</th>\n",
       "      <th>num_hits</th>\n",
       "      <th>R</th>\n",
       "      <th>thresh_s</th>\n",
       "      <th>H</th>\n",
       "      <th>sigma_mag</th>\n",
       "    </tr>\n",
       "  </thead>\n",
       "  <tbody>\n",
       "    <tr>\n",
       "      <th>0</th>\n",
       "      <td>0</td>\n",
       "      <td>3.064054</td>\n",
       "      <td>0.121235</td>\n",
       "      <td>-1.291546</td>\n",
       "      <td>0.068009</td>\n",
       "      <td>0.662207</td>\n",
       "      <td>0.935398</td>\n",
       "      <td>58600.0</td>\n",
       "      <td>12711</td>\n",
       "      <td>998.002460</td>\n",
       "      <td>8.852007</td>\n",
       "      <td>10</td>\n",
       "      <td>0.008727</td>\n",
       "      <td>0.034905</td>\n",
       "      <td>16.5</td>\n",
       "      <td>4.0</td>\n",
       "    </tr>\n",
       "    <tr>\n",
       "      <th>1</th>\n",
       "      <td>1</td>\n",
       "      <td>2.771068</td>\n",
       "      <td>0.151421</td>\n",
       "      <td>-0.531263</td>\n",
       "      <td>0.068958</td>\n",
       "      <td>1.364763</td>\n",
       "      <td>6.111150</td>\n",
       "      <td>58600.0</td>\n",
       "      <td>11901</td>\n",
       "      <td>886.807208</td>\n",
       "      <td>8.129007</td>\n",
       "      <td>10</td>\n",
       "      <td>0.008727</td>\n",
       "      <td>0.034905</td>\n",
       "      <td>16.5</td>\n",
       "      <td>4.0</td>\n",
       "    </tr>\n",
       "    <tr>\n",
       "      <th>2</th>\n",
       "      <td>2</td>\n",
       "      <td>3.172947</td>\n",
       "      <td>0.095819</td>\n",
       "      <td>1.903106</td>\n",
       "      <td>0.035792</td>\n",
       "      <td>3.984825</td>\n",
       "      <td>0.687484</td>\n",
       "      <td>58600.0</td>\n",
       "      <td>12572</td>\n",
       "      <td>781.406566</td>\n",
       "      <td>6.969071</td>\n",
       "      <td>10</td>\n",
       "      <td>0.008727</td>\n",
       "      <td>0.034905</td>\n",
       "      <td>16.5</td>\n",
       "      <td>4.0</td>\n",
       "    </tr>\n",
       "    <tr>\n",
       "      <th>3</th>\n",
       "      <td>3</td>\n",
       "      <td>2.697356</td>\n",
       "      <td>0.098236</td>\n",
       "      <td>0.132486</td>\n",
       "      <td>0.025427</td>\n",
       "      <td>1.610715</td>\n",
       "      <td>5.259525</td>\n",
       "      <td>58600.0</td>\n",
       "      <td>9835</td>\n",
       "      <td>767.421579</td>\n",
       "      <td>7.738322</td>\n",
       "      <td>10</td>\n",
       "      <td>0.008727</td>\n",
       "      <td>0.034905</td>\n",
       "      <td>16.5</td>\n",
       "      <td>4.0</td>\n",
       "    </tr>\n",
       "    <tr>\n",
       "      <th>4</th>\n",
       "      <td>4</td>\n",
       "      <td>3.113809</td>\n",
       "      <td>0.257043</td>\n",
       "      <td>2.596678</td>\n",
       "      <td>0.090822</td>\n",
       "      <td>0.106255</td>\n",
       "      <td>4.320585</td>\n",
       "      <td>58600.0</td>\n",
       "      <td>9129</td>\n",
       "      <td>697.797101</td>\n",
       "      <td>7.303273</td>\n",
       "      <td>10</td>\n",
       "      <td>0.008727</td>\n",
       "      <td>0.034905</td>\n",
       "      <td>16.5</td>\n",
       "      <td>4.0</td>\n",
       "    </tr>\n",
       "    <tr>\n",
       "      <th>...</th>\n",
       "      <td>...</td>\n",
       "      <td>...</td>\n",
       "      <td>...</td>\n",
       "      <td>...</td>\n",
       "      <td>...</td>\n",
       "      <td>...</td>\n",
       "      <td>...</td>\n",
       "      <td>...</td>\n",
       "      <td>...</td>\n",
       "      <td>...</td>\n",
       "      <td>...</td>\n",
       "      <td>...</td>\n",
       "      <td>...</td>\n",
       "      <td>...</td>\n",
       "      <td>...</td>\n",
       "      <td>...</td>\n",
       "    </tr>\n",
       "    <tr>\n",
       "      <th>59</th>\n",
       "      <td>59</td>\n",
       "      <td>1.890665</td>\n",
       "      <td>0.083441</td>\n",
       "      <td>3.132056</td>\n",
       "      <td>0.035993</td>\n",
       "      <td>0.656159</td>\n",
       "      <td>3.255417</td>\n",
       "      <td>58600.0</td>\n",
       "      <td>9064</td>\n",
       "      <td>280.408751</td>\n",
       "      <td>2.945314</td>\n",
       "      <td>10</td>\n",
       "      <td>0.008727</td>\n",
       "      <td>0.034905</td>\n",
       "      <td>16.5</td>\n",
       "      <td>4.0</td>\n",
       "    </tr>\n",
       "    <tr>\n",
       "      <th>60</th>\n",
       "      <td>60</td>\n",
       "      <td>3.168699</td>\n",
       "      <td>0.088259</td>\n",
       "      <td>0.853523</td>\n",
       "      <td>0.052655</td>\n",
       "      <td>5.188591</td>\n",
       "      <td>0.902693</td>\n",
       "      <td>58600.0</td>\n",
       "      <td>10197</td>\n",
       "      <td>280.102124</td>\n",
       "      <td>2.773832</td>\n",
       "      <td>10</td>\n",
       "      <td>0.008727</td>\n",
       "      <td>0.034905</td>\n",
       "      <td>16.5</td>\n",
       "      <td>4.0</td>\n",
       "    </tr>\n",
       "    <tr>\n",
       "      <th>61</th>\n",
       "      <td>61</td>\n",
       "      <td>2.255124</td>\n",
       "      <td>0.055124</td>\n",
       "      <td>-1.131100</td>\n",
       "      <td>0.065725</td>\n",
       "      <td>4.743550</td>\n",
       "      <td>1.882832</td>\n",
       "      <td>58600.0</td>\n",
       "      <td>6700</td>\n",
       "      <td>279.483345</td>\n",
       "      <td>3.414432</td>\n",
       "      <td>10</td>\n",
       "      <td>0.008727</td>\n",
       "      <td>0.034905</td>\n",
       "      <td>16.5</td>\n",
       "      <td>4.0</td>\n",
       "    </tr>\n",
       "    <tr>\n",
       "      <th>62</th>\n",
       "      <td>62</td>\n",
       "      <td>2.325415</td>\n",
       "      <td>0.176758</td>\n",
       "      <td>-0.619556</td>\n",
       "      <td>0.046713</td>\n",
       "      <td>3.318604</td>\n",
       "      <td>2.235867</td>\n",
       "      <td>58600.0</td>\n",
       "      <td>4532</td>\n",
       "      <td>277.344008</td>\n",
       "      <td>4.119778</td>\n",
       "      <td>10</td>\n",
       "      <td>0.008727</td>\n",
       "      <td>0.034905</td>\n",
       "      <td>16.5</td>\n",
       "      <td>4.0</td>\n",
       "    </tr>\n",
       "    <tr>\n",
       "      <th>63</th>\n",
       "      <td>63</td>\n",
       "      <td>2.390297</td>\n",
       "      <td>0.049497</td>\n",
       "      <td>-5.345717</td>\n",
       "      <td>0.062828</td>\n",
       "      <td>2.081017</td>\n",
       "      <td>3.088184</td>\n",
       "      <td>58600.0</td>\n",
       "      <td>9701</td>\n",
       "      <td>276.763261</td>\n",
       "      <td>2.809960</td>\n",
       "      <td>10</td>\n",
       "      <td>0.008727</td>\n",
       "      <td>0.034905</td>\n",
       "      <td>16.5</td>\n",
       "      <td>4.0</td>\n",
       "    </tr>\n",
       "  </tbody>\n",
       "</table>\n",
       "<p>64 rows × 16 columns</p>\n",
       "</div>"
      ],
      "text/plain": [
       "    element_id         a         e         f       inc     Omega     omega  \\\n",
       "0            0  3.064054  0.121235 -1.291546  0.068009  0.662207  0.935398   \n",
       "1            1  2.771068  0.151421 -0.531263  0.068958  1.364763  6.111150   \n",
       "2            2  3.172947  0.095819  1.903106  0.035792  3.984825  0.687484   \n",
       "3            3  2.697356  0.098236  0.132486  0.025427  1.610715  5.259525   \n",
       "4            4  3.113809  0.257043  2.596678  0.090822  0.106255  4.320585   \n",
       "..         ...       ...       ...       ...       ...       ...       ...   \n",
       "59          59  1.890665  0.083441  3.132056  0.035993  0.656159  3.255417   \n",
       "60          60  3.168699  0.088259  0.853523  0.052655  5.188591  0.902693   \n",
       "61          61  2.255124  0.055124 -1.131100  0.065725  4.743550  1.882832   \n",
       "62          62  2.325415  0.176758 -0.619556  0.046713  3.318604  2.235867   \n",
       "63          63  2.390297  0.049497 -5.345717  0.062828  2.081017  3.088184   \n",
       "\n",
       "      epoch  num_obs       score   t_score  num_hits         R  thresh_s  \\\n",
       "0   58600.0    12711  998.002460  8.852007        10  0.008727  0.034905   \n",
       "1   58600.0    11901  886.807208  8.129007        10  0.008727  0.034905   \n",
       "2   58600.0    12572  781.406566  6.969071        10  0.008727  0.034905   \n",
       "3   58600.0     9835  767.421579  7.738322        10  0.008727  0.034905   \n",
       "4   58600.0     9129  697.797101  7.303273        10  0.008727  0.034905   \n",
       "..      ...      ...         ...       ...       ...       ...       ...   \n",
       "59  58600.0     9064  280.408751  2.945314        10  0.008727  0.034905   \n",
       "60  58600.0    10197  280.102124  2.773832        10  0.008727  0.034905   \n",
       "61  58600.0     6700  279.483345  3.414432        10  0.008727  0.034905   \n",
       "62  58600.0     4532  277.344008  4.119778        10  0.008727  0.034905   \n",
       "63  58600.0     9701  276.763261  2.809960        10  0.008727  0.034905   \n",
       "\n",
       "       H  sigma_mag  \n",
       "0   16.5        4.0  \n",
       "1   16.5        4.0  \n",
       "2   16.5        4.0  \n",
       "3   16.5        4.0  \n",
       "4   16.5        4.0  \n",
       "..   ...        ...  \n",
       "59  16.5        4.0  \n",
       "60  16.5        4.0  \n",
       "61  16.5        4.0  \n",
       "62  16.5        4.0  \n",
       "63  16.5        4.0  \n",
       "\n",
       "[64 rows x 16 columns]"
      ]
     },
     "execution_count": 18,
     "metadata": {},
     "output_type": "execute_result"
    }
   ],
   "source": [
    "# Review random elements\n",
    "elts"
   ]
  },
  {
   "cell_type": "markdown",
   "metadata": {},
   "source": [
    "## Train on Random Elements: Learn Mixture Parameters"
   ]
  },
  {
   "cell_type": "code",
   "execution_count": 19,
   "metadata": {},
   "outputs": [],
   "source": [
    "# Observatory for ZTF data is Palomar Mountain\n",
    "site_name = 'palomar'"
   ]
  },
  {
   "cell_type": "code",
   "execution_count": 20,
   "metadata": {},
   "outputs": [],
   "source": [
    "# Training parameters\n",
    "learning_rate = 2.0**-10\n",
    "clipnorm = 1.0"
   ]
  },
  {
   "cell_type": "code",
   "execution_count": 21,
   "metadata": {},
   "outputs": [],
   "source": [
    "# Build asteroid search model\n",
    "model = AsteroidSearchModel(\n",
    "                elts=elts, ztf_elt=ztf_elt, \n",
    "                site_name=site_name, thresh_deg=thresh_deg, \n",
    "                learning_rate=learning_rate, clipnorm=clipnorm,\n",
    "                name='model')"
   ]
  },
  {
   "cell_type": "code",
   "execution_count": 22,
   "metadata": {},
   "outputs": [
    {
     "name": "stdout",
     "output_type": "stream",
     "text": [
      "     \\  log_like :  hits  :  R_deg    :    R_sec : thresh_deg\n",
      "Mean :     1.04  :   0.00 :  0.492316 :  1772.34 : 2.000000\n",
      "Std  :     0.51  :   0.00 :  0.001977 :     7.12 : 0.000000\n",
      "Min  :     0.26  :   0.00 :  0.492066 :  1771.44 : 2.000000\n",
      "Max  :     2.77  :   0.00 :  0.508010 :  1828.84 : 2.000000\n",
      "Trained for 0 batches over 0 epochs and 0 episodes.\n"
     ]
    }
   ],
   "source": [
    "# Report before training starts\n",
    "model.report()"
   ]
  },
  {
   "cell_type": "code",
   "execution_count": 23,
   "metadata": {},
   "outputs": [
    {
     "data": {
      "image/png": "[encoded data removed]",
      "text/plain": [
       "<Figure size 1152x720 with 1 Axes>"
      ]
     },
     "metadata": {
      "needs_background": "light"
     },
     "output_type": "display_data"
    }
   ],
   "source": [
    "# Visualize log likelihood before traning\n",
    "fig, ax = model.plot_bar('log_like', sorted=False)"
   ]
  },
  {
   "cell_type": "code",
   "execution_count": 24,
   "metadata": {},
   "outputs": [],
   "source": [
    "# Adaptive search parameters\n",
    "batches_per_epoch = 100\n",
    "epochs_per_episode = 5\n",
    "thresh_deg_end = None\n",
    "max_bad_episodes = 3\n",
    "min_learning_rate = None\n",
    "save_at_end = False\n",
    "reset_active_weight = False\n",
    "verbose = 1"
   ]
  },
  {
   "cell_type": "code",
   "execution_count": 32,
   "metadata": {},
   "outputs": [],
   "source": [
    "# # Train perturbed model with frozen orbital elements\n",
    "# model.search_adaptive(\n",
    "#     max_batches=1000,\n",
    "#     reset_active_weight=True)"
   ]
  },
  {
   "cell_type": "code",
   "execution_count": 28,
   "metadata": {},
   "outputs": [],
   "source": [
    "# # Save model\n",
    "# model.save_state()"
   ]
  },
  {
   "cell_type": "code",
   "execution_count": 33,
   "metadata": {},
   "outputs": [
    {
     "name": "stdout",
     "output_type": "stream",
     "text": [
      "     \\  log_like :  hits  :  R_deg    :    R_sec : thresh_deg\n",
      "Mean :   -52.06  :   3.93 :  0.534046 :  1922.57 : 1.500000\n",
      "Std  :   290.62  :  15.53 :  0.172064 :   619.43 : 0.000000\n",
      "Min  : -1155.66  :   0.00 :  0.009549 :    34.38 : 1.500000\n",
      "Max  :   409.53  : 103.22 :  0.900338 :  3241.22 : 1.500000\n",
      "Trained for 15400 batches over 154 epochs and 56 episodes.\n"
     ]
    }
   ],
   "source": [
    "# Load model\n",
    "model.load()"
   ]
  },
  {
   "cell_type": "code",
   "execution_count": 40,
   "metadata": {},
   "outputs": [
    {
     "name": "stdout",
     "output_type": "stream",
     "text": [
      "     \\  log_like :  hits  :  R_deg    :    R_sec : thresh_deg\n",
      "Mean :    83.67  :   3.18 :  0.475356 :  1711.28 : 1.500000\n",
      "Std  :    80.12  :  15.91 :  0.171055 :   615.80 : 0.000000\n",
      "Min  :    -7.44  :   0.00 :  0.009551 :    34.38 : 1.500000\n",
      "Max  :   429.99  : 102.33 :  0.906797 :  3264.47 : 1.500000\n",
      "Trained for 25400 batches over 254 epochs and 76 episodes.\n"
     ]
    }
   ],
   "source": [
    "model.report()"
   ]
  },
  {
   "cell_type": "code",
   "execution_count": 34,
   "metadata": {},
   "outputs": [],
   "source": [
    "# Reduce max threshold\n",
    "model.set_thresh_deg_max(1.5)"
   ]
  },
  {
   "cell_type": "code",
   "execution_count": 43,
   "metadata": {},
   "outputs": [
    {
     "name": "stdout",
     "output_type": "stream",
     "text": [
      "Applying learning_rate 3.05e-05 (2.0^-15.0) for adaptive training.\n",
      "\n",
      "Training episode 80: Epoch  274, Batch  27400\n",
      "effective_learning_rate=3.052e-05, training_time 2447 sec.\n",
      "Train on 6400 samples\n",
      "Epoch 275/279\n",
      "6400/6400 [==============================] - 6s 864us/sample - loss: -8512.5804\n",
      "Epoch 276/279\n",
      "6400/6400 [==============================] - 4s 571us/sample - loss: -8516.3783\n",
      "Epoch 277/279\n",
      "6400/6400 [==============================] - 4s 570us/sample - loss: -8518.1883\n",
      "Epoch 278/279\n",
      "6400/6400 [==============================] - 4s 579us/sample - loss: -8519.0571\n",
      "Epoch 279/279\n",
      "6400/6400 [==============================] - 4s 558us/sample - loss: -8519.5600\n",
      "Adjusted element weight down on 50 candidate elements. Mean weight = 6.09e-01\n",
      "Geom Mean Resolution: 0.392778 degrees (1414.0 arc seconds)\n",
      "Mean Hits          :      3.18\n",
      "Mean Log Likelihood:     84.38\n",
      "\n",
      "Training episode 81: Epoch  279, Batch  27900\n",
      "effective_learning_rate=1.860e-05, training_time 2469 sec.\n",
      "Train on 6400 samples\n",
      "Epoch 280/284\n",
      "6400/6400 [==============================] - 4s 575us/sample - loss: -5268.9312\n",
      "Epoch 281/284\n",
      "6400/6400 [==============================] - 4s 569us/sample - loss: -5270.7770\n",
      "Epoch 282/284\n",
      "6400/6400 [==============================] - 4s 561us/sample - loss: -5271.5980\n",
      "Epoch 283/284\n",
      "6400/6400 [==============================] - 4s 577us/sample - loss: -5272.0124\n",
      "Epoch 284/284\n",
      "6400/6400 [==============================] - 4s 557us/sample - loss: -5272.2630\n",
      "Adjusted element weight down on 50 candidate elements. Mean weight = 3.87e-01\n",
      "Geom Mean Resolution: 0.392778 degrees (1414.0 arc seconds)\n",
      "Mean Hits          :      3.18\n",
      "Mean Log Likelihood:     84.38\n",
      "\n",
      "********************************************************************************\n",
      "Terminating: Completed 28400 batches.\n",
      "********************************************************************************\n",
      "Restoring original learning rate 9.77e-04.\n"
     ]
    }
   ],
   "source": [
    "# Train with frozen orbital elements\n",
    "model.freeze_candidate_elements()\n",
    "model.search_adaptive(\n",
    "    max_batches=model.current_batch + 1000,\n",
    "    learning_rate=2.0**-15,\n",
    "    reset_active_weight=True)"
   ]
  },
  {
   "cell_type": "code",
   "execution_count": 44,
   "metadata": {},
   "outputs": [
    {
     "name": "stdout",
     "output_type": "stream",
     "text": [
      "Applying learning_rate 2.44e-04 (2.0^-12.0) for adaptive training.\n",
      "\n",
      "Training episode 82: Epoch  284, Batch  28400\n",
      "effective_learning_rate=2.441e-04, training_time 2488 sec.\n",
      "Train on 6400 samples\n",
      "Epoch 285/289\n",
      "6400/6400 [==============================] - 6s 1ms/sample - loss: -2618.3429\n",
      "Epoch 286/289\n",
      "6400/6400 [==============================] - 4s 682us/sample - loss: -2705.6742\n",
      "Epoch 287/289\n",
      "6400/6400 [==============================] - 4s 678us/sample - loss: -2734.4367\n",
      "Epoch 288/289\n",
      "6400/6400 [==============================] - 4s 680us/sample - loss: -2766.1041\n",
      "Epoch 289/289\n",
      "6400/6400 [==============================] - 4s 680us/sample - loss: -2794.1831\n",
      "Adjusted element weight down on 19 candidate elements. Mean weight = 8.52e-01\n",
      "Geom Mean Resolution: 0.381351 degrees (1372.9 arc seconds)\n",
      "Mean Hits          :      3.19\n",
      "Mean Log Likelihood:     90.40\n",
      "\n",
      "Training episode 83: Epoch  289, Batch  28900\n",
      "effective_learning_rate=2.079e-04, training_time 2526 sec.\n",
      "Train on 6400 samples\n",
      "Epoch 290/294\n",
      "6400/6400 [==============================] - 4s 675us/sample - loss: -2819.8140\n",
      "Epoch 291/294\n",
      "6400/6400 [==============================] - 4s 683us/sample - loss: -2860.1247\n",
      "Epoch 292/294\n",
      "6400/6400 [==============================] - 4s 681us/sample - loss: -2887.3770\n",
      "Epoch 293/294\n",
      "6400/6400 [==============================] - 4s 684us/sample - loss: -2904.3671\n",
      "Epoch 294/294\n",
      "6400/6400 [==============================] - 4s 684us/sample - loss: -2916.4769\n",
      "Adjusted element weight down on 33 candidate elements. Mean weight = 6.68e-01\n",
      "Geom Mean Resolution: 0.370319 degrees (1333.2 arc seconds)\n",
      "Mean Hits          :      3.19\n",
      "Mean Log Likelihood:     92.66\n",
      "\n",
      "Training episode 84: Epoch  294, Batch  29400\n",
      "effective_learning_rate=1.631e-04, training_time 2550 sec.\n",
      "Train on 6400 samples\n",
      "Epoch 295/299\n",
      "6400/6400 [==============================] - 4s 685us/sample - loss: -2868.5719\n",
      "Epoch 296/299\n",
      "6400/6400 [==============================] - 4s 684us/sample - loss: -2888.0796\n",
      "Epoch 297/299\n",
      "6400/6400 [==============================] - 4s 685us/sample - loss: -2899.3298\n",
      "Epoch 298/299\n",
      "6400/6400 [==============================] - 4s 692us/sample - loss: -2905.1686\n",
      "Epoch 299/299\n",
      "6400/6400 [==============================] - 4s 702us/sample - loss: -2911.8962\n",
      "Adjusted element weight down on 33 candidate elements. Mean weight = 5.53e-01\n",
      "Geom Mean Resolution: 0.367933 degrees (1324.6 arc seconds)\n",
      "Mean Hits          :      3.19\n",
      "Mean Log Likelihood:     93.60\n",
      "\n",
      "Training episode 85: Epoch  299, Batch  29900\n",
      "effective_learning_rate=1.349e-04, training_time 2573 sec.\n",
      "Train on 6400 samples\n",
      "Epoch 300/304\n",
      "6400/6400 [==============================] - 4s 689us/sample - loss: -2884.9842\n",
      "Epoch 301/304\n",
      "6400/6400 [==============================] - 4s 695us/sample - loss: -2898.7547\n",
      "Epoch 302/304\n",
      "6400/6400 [==============================] - 4s 691us/sample - loss: -2932.0834\n",
      "Epoch 303/304\n",
      "6400/6400 [==============================] - 4s 690us/sample - loss: -2931.7929\n",
      "Adjusted element weight down on 42 candidate elements. Mean weight = 4.26e-01\n",
      "Geom Mean Resolution: 0.367150 degrees (1321.7 arc seconds)\n",
      "Mean Hits          :      3.21\n",
      "Mean Log Likelihood:     94.12\n",
      "\n",
      "Training episode 86: Epoch  303, Batch  30300\n",
      "effective_learning_rate=1.040e-04, training_time 2592 sec.\n",
      "Train on 6400 samples\n",
      "Epoch 304/308\n",
      "6400/6400 [==============================] - 4s 702us/sample - loss: -2922.9130\n",
      "Epoch 305/308\n",
      "6400/6400 [==============================] - 4s 703us/sample - loss: -2930.5338\n",
      "Epoch 306/308\n",
      "6400/6400 [==============================] - 4s 702us/sample - loss: -2935.1965\n",
      "Epoch 307/308\n",
      "6400/6400 [==============================] - 4s 696us/sample - loss: -2934.5707\n",
      "Adjusted element weight down on 47 candidate elements. Mean weight = 3.20e-01\n",
      "Geom Mean Resolution: 0.366864 degrees (1320.7 arc seconds)\n",
      "Mean Hits          :      3.28\n",
      "Mean Log Likelihood:     94.44\n",
      "\n",
      "Training episode 87: Epoch  307, Batch  30700\n",
      "effective_learning_rate=7.820e-05, training_time 2612 sec.\n",
      "Train on 6400 samples\n",
      "Epoch 308/312\n",
      "6400/6400 [==============================] - 5s 705us/sample - loss: -2923.7666\n",
      "Epoch 309/312\n",
      "6400/6400 [==============================] - 5s 706us/sample - loss: -2934.5201\n",
      "Epoch 310/312\n",
      "6400/6400 [==============================] - 5s 705us/sample - loss: -2938.1983\n",
      "Epoch 311/312\n",
      "6400/6400 [==============================] - 5s 708us/sample - loss: -2936.7218\n",
      "Adjusted element weight down on 39 candidate elements. Mean weight = 2.66e-01\n",
      "Geom Mean Resolution: 0.366495 degrees (1319.4 arc seconds)\n",
      "Mean Hits          :      3.28\n",
      "Mean Log Likelihood:     94.84\n",
      "\n",
      "Training episode 88: Epoch  311, Batch  31100\n",
      "effective_learning_rate=6.497e-05, training_time 2632 sec.\n",
      "Train on 6400 samples\n",
      "Epoch 312/316\n",
      "6400/6400 [==============================] - 5s 709us/sample - loss: -2932.4569\n",
      "Epoch 313/316\n",
      "6400/6400 [==============================] - 5s 711us/sample - loss: -2935.3678\n",
      "Epoch 314/316\n",
      "6400/6400 [==============================] - 5s 705us/sample - loss: -2940.8671\n",
      "Epoch 315/316\n",
      "6400/6400 [==============================] - 5s 716us/sample - loss: -2939.1638\n",
      "Adjusted element weight down on 46 candidate elements. Mean weight = 2.18e-01\n",
      "Geom Mean Resolution: 0.366263 degrees (1318.5 arc seconds)\n",
      "Mean Hits          :      3.25\n",
      "Mean Log Likelihood:     95.02\n",
      "\n",
      "Training episode 89: Epoch  315, Batch  31500\n",
      "effective_learning_rate=5.329e-05, training_time 2651 sec.\n",
      "Train on 6400 samples\n",
      "Epoch 316/320\n",
      "6400/6400 [==============================] - 5s 713us/sample - loss: -2934.3683\n",
      "Epoch 317/320\n",
      "6400/6400 [==============================] - 5s 718us/sample - loss: -2940.5766\n",
      "Epoch 318/320\n",
      "6400/6400 [==============================] - 5s 708us/sample - loss: -2945.5891\n",
      "Epoch 319/320\n",
      "6400/6400 [==============================] - 5s 717us/sample - loss: -2941.8709\n",
      "Adjusted element weight down on 48 candidate elements. Mean weight = 1.66e-01\n",
      "Geom Mean Resolution: 0.365969 degrees (1317.5 arc seconds)\n",
      "Mean Hits          :      3.31\n",
      "Mean Log Likelihood:     95.21\n",
      "\n",
      "Training episode 90: Epoch  319, Batch  31900\n",
      "effective_learning_rate=4.050e-05, training_time 2671 sec.\n",
      "Train on 6400 samples\n",
      "Epoch 320/324\n",
      "6400/6400 [==============================] - 5s 712us/sample - loss: -2935.1528\n",
      "Epoch 321/324\n",
      "6400/6400 [==============================] - 5s 718us/sample - loss: -2939.9508\n",
      "Epoch 322/324\n",
      "6400/6400 [==============================] - 5s 723us/sample - loss: -2944.6137\n",
      "Epoch 323/324\n",
      "6400/6400 [==============================] - 5s 720us/sample - loss: -2942.3381\n",
      "Adjusted element weight down on 52 candidate elements. Mean weight = 1.20e-01\n",
      "Geom Mean Resolution: 0.365806 degrees (1316.9 arc seconds)\n",
      "Mean Hits          :      3.30\n",
      "Mean Log Likelihood:     95.36\n",
      "\n",
      "Training episode 91: Epoch  323, Batch  32300\n",
      "effective_learning_rate=2.934e-05, training_time 2691 sec.\n",
      "Train on 6400 samples\n",
      "Epoch 324/328\n",
      "6400/6400 [==============================] - 5s 732us/sample - loss: -2931.3589\n",
      "Epoch 325/328\n",
      "6400/6400 [==============================] - 5s 722us/sample - loss: -2943.6694\n",
      "Epoch 326/328\n",
      "6400/6400 [==============================] - 5s 724us/sample - loss: -2946.6659\n",
      "Epoch 327/328\n",
      "6400/6400 [==============================] - 5s 722us/sample - loss: -2945.3578\n",
      "Adjusted element weight down on 55 candidate elements. Mean weight = 9.28e-02\n",
      "Geom Mean Resolution: 0.364963 degrees (1313.9 arc seconds)\n",
      "Mean Hits          :      3.30\n",
      "Mean Log Likelihood:     95.50\n",
      "\n",
      "Training episode 92: Epoch  327, Batch  32700\n",
      "effective_learning_rate=2.267e-05, training_time 2711 sec.\n",
      "Train on 6400 samples\n",
      "Epoch 328/332\n",
      "6400/6400 [==============================] - 5s 729us/sample - loss: -2938.0300\n",
      "Epoch 329/332\n",
      "6400/6400 [==============================] - 5s 732us/sample - loss: -2949.1299\n",
      "Epoch 330/332\n",
      "6400/6400 [==============================] - 5s 732us/sample - loss: -2954.5182\n",
      "Epoch 331/332\n",
      "6400/6400 [==============================] - 5s 725us/sample - loss: -2952.2670\n",
      "Adjusted element weight down on 54 candidate elements. Mean weight = 7.97e-02\n",
      "Geom Mean Resolution: 0.364796 degrees (1313.3 arc seconds)\n",
      "Mean Hits          :      3.37\n",
      "Mean Log Likelihood:     95.61\n",
      "\n",
      "Training episode 93: Epoch  331, Batch  33100\n",
      "effective_learning_rate=1.946e-05, training_time 2731 sec.\n",
      "Train on 6400 samples\n",
      "Epoch 332/336\n",
      "6400/6400 [==============================] - 5s 712us/sample - loss: -2937.1698\n",
      "Epoch 333/336\n",
      "6400/6400 [==============================] - 5s 728us/sample - loss: -2948.3009\n",
      "Epoch 334/336\n",
      "6400/6400 [==============================] - 5s 734us/sample - loss: -2953.6478\n",
      "Epoch 335/336\n",
      "6400/6400 [==============================] - 5s 738us/sample - loss: -2953.3145\n",
      "Adjusted element weight down on 55 candidate elements. Mean weight = 7.16e-02\n",
      "Geom Mean Resolution: 0.364634 degrees (1312.7 arc seconds)\n",
      "Mean Hits          :      3.36\n",
      "Mean Log Likelihood:     95.71\n",
      "\n",
      "********************************************************************************\n",
      "Terminating: Completed 33500 batches.\n",
      "********************************************************************************\n",
      "Restoring original learning rate 9.77e-04.\n"
     ]
    }
   ],
   "source": [
    "# Train with live orbital elements\n",
    "model.thaw_candidate_elements()\n",
    "model.search_adaptive(\n",
    "    max_batches=model.current_batch + 5000,\n",
    "    learning_rate=2.0**-12,\n",
    "    reset_active_weight=True)"
   ]
  },
  {
   "cell_type": "code",
   "execution_count": 37,
   "metadata": {},
   "outputs": [
    {
     "name": "stdout",
     "output_type": "stream",
     "text": [
      "     \\  log_like :  hits  :  R_deg    :    R_sec : thresh_deg\n",
      "Mean :    83.67  :   3.18 :  0.475356 :  1711.28 : 1.500000\n",
      "Std  :    80.12  :  15.91 :  0.171055 :   615.80 : 0.000000\n",
      "Min  :    -7.44  :   0.00 :  0.009551 :    34.38 : 1.500000\n",
      "Max  :   429.99  : 102.33 :  0.906797 :  3264.47 : 1.500000\n",
      "Trained for 25400 batches over 254 epochs and 76 episodes.\n"
     ]
    }
   ],
   "source": [
    "# Report after initial training on mixture parameters\n",
    "model.report()"
   ]
  },
  {
   "cell_type": "code",
   "execution_count": 38,
   "metadata": {},
   "outputs": [
    {
     "data": {
      "image/png": "[encoded data removed]",
      "text/plain": [
       "<Figure size 1152x720 with 1 Axes>"
      ]
     },
     "metadata": {
      "needs_background": "light"
     },
     "output_type": "display_data"
    }
   ],
   "source": [
    "# Bar chart - log likelihood by element\n",
    "fig, ax = model.plot_bar('log_like', sorted=False)"
   ]
  },
  {
   "cell_type": "code",
   "execution_count": 39,
   "metadata": {},
   "outputs": [
    {
     "data": {
      "image/png": "[encoded data removed]",
      "text/plain": [
       "<Figure size 1152x720 with 1 Axes>"
      ]
     },
     "metadata": {
      "needs_background": "light"
     },
     "output_type": "display_data"
    }
   ],
   "source": [
    "# Bar chart - log likelihood by element\n",
    "fig, ax = model.plot_bar('hits', sorted=False)"
   ]
  },
  {
   "cell_type": "code",
   "execution_count": null,
   "metadata": {},
   "outputs": [],
   "source": [
    "# # Bar chart - log likelihood by element\n",
    "# fig, ax = model.plot_bar('R_deg', sorted=False)"
   ]
  },
  {
   "cell_type": "code",
   "execution_count": null,
   "metadata": {},
   "outputs": [],
   "source": [
    "# # Threshold in degrees\n",
    "# fig, ax = model.plot_bar('thresh_deg_score', sorted=False)"
   ]
  },
  {
   "cell_type": "markdown",
   "metadata": {},
   "source": [
    "## Train on Orbital Elements & Mixture Parameters"
   ]
  },
  {
   "cell_type": "code",
   "execution_count": null,
   "metadata": {},
   "outputs": [],
   "source": [
    "# model.save_state()"
   ]
  },
  {
   "cell_type": "code",
   "execution_count": null,
   "metadata": {},
   "outputs": [],
   "source": [
    "# Unfreeze the elements\n",
    "model.thaw_candidate_elements()"
   ]
  },
  {
   "cell_type": "code",
   "execution_count": null,
   "metadata": {},
   "outputs": [],
   "source": [
    "# Train in joint mode; learn elements, mixture_parameters; threshold frozen\n",
    "model.search_adaptive(\n",
    "    max_batches=model.current_batch+100000, \n",
    "    learning_rate=2.0**-12,\n",
    "    reset_active_weight=True)"
   ]
  },
  {
   "cell_type": "code",
   "execution_count": null,
   "metadata": {},
   "outputs": [],
   "source": [
    "# Report after training\n",
    "model.report()"
   ]
  },
  {
   "cell_type": "code",
   "execution_count": null,
   "metadata": {},
   "outputs": [],
   "source": [
    "# Bar chart \n",
    "fig, ax = model.plot_bar('log_like', sorted=False)"
   ]
  },
  {
   "cell_type": "code",
   "execution_count": null,
   "metadata": {},
   "outputs": [],
   "source": [
    "# Bar chart \n",
    "fig, ax = model.plot_bar('hits', sorted=False)"
   ]
  },
  {
   "cell_type": "code",
   "execution_count": null,
   "metadata": {},
   "outputs": [],
   "source": [
    "# model.save_state()"
   ]
  },
  {
   "cell_type": "code",
   "execution_count": null,
   "metadata": {},
   "outputs": [],
   "source": [
    "# Freeze elements; train mixture\n",
    "model.freeze_candidate_elements()\n",
    "model.freeze_score()"
   ]
  },
  {
   "cell_type": "code",
   "execution_count": null,
   "metadata": {},
   "outputs": [],
   "source": [
    "model.search_adaptive(\n",
    "    max_batches=model.current_batch+2000,\n",
    "    learning_rate=2.0**-10,\n",
    "    reset_active_weight=True)"
   ]
  },
  {
   "cell_type": "code",
   "execution_count": null,
   "metadata": {},
   "outputs": [],
   "source": [
    "# Freeze elements; freeze mixture; train score\n",
    "model.freeze_candidate_elements()\n",
    "model.freeze_mixture_parameters()\n",
    "model.freeze_score()"
   ]
  },
  {
   "cell_type": "code",
   "execution_count": null,
   "metadata": {},
   "outputs": [],
   "source": [
    "model.search_adaptive(\n",
    "    max_batches=model.current_batch+1000, \n",
    "    batches_per_epoch=batches_per_epoch,\n",
    "    epochs_per_episode=epochs_per_episode,\n",
    "    reset_active_weight=reset_active_weight,\n",
    "    verbose=verbose)"
   ]
  },
  {
   "cell_type": "code",
   "execution_count": null,
   "metadata": {},
   "outputs": [],
   "source": [
    "# # Bar chart \n",
    "# fig, ax = model.plot_bar('thresh_deg_score', sorted=True)"
   ]
  },
  {
   "cell_type": "code",
   "execution_count": null,
   "metadata": {},
   "outputs": [],
   "source": [
    "# Bar chart - log likelihood by element\n",
    "fig, ax = model.plot_bar('log_like', sorted=True)"
   ]
  },
  {
   "cell_type": "markdown",
   "metadata": {},
   "source": [
    "## Extended Training"
   ]
  },
  {
   "cell_type": "code",
   "execution_count": null,
   "metadata": {},
   "outputs": [],
   "source": [
    "# model.save_state()"
   ]
  },
  {
   "cell_type": "code",
   "execution_count": null,
   "metadata": {},
   "outputs": [],
   "source": [
    "model.set_thresh_deg_max(1.5)"
   ]
  },
  {
   "cell_type": "code",
   "execution_count": null,
   "metadata": {},
   "outputs": [],
   "source": [
    "# Train on elements only\n",
    "model.thaw_candidate_elements()\n",
    "model.freeze_mixture_parameters()\n",
    "model.freeze_score()"
   ]
  },
  {
   "cell_type": "code",
   "execution_count": null,
   "metadata": {},
   "outputs": [],
   "source": [
    "model.search_adaptive(\n",
    "    max_batches=model.current_batch+2000, \n",
    "    batches_per_epoch=batches_per_epoch,\n",
    "    epochs_per_episode=epochs_per_episode,\n",
    "    reset_active_weight=reset_active_weight,\n",
    "    verbose=verbose)"
   ]
  },
  {
   "cell_type": "code",
   "execution_count": null,
   "metadata": {},
   "outputs": [],
   "source": [
    "model.report()"
   ]
  },
  {
   "cell_type": "code",
   "execution_count": null,
   "metadata": {},
   "outputs": [],
   "source": [
    "model.save_state()"
   ]
  },
  {
   "cell_type": "code",
   "execution_count": null,
   "metadata": {},
   "outputs": [],
   "source": [
    "model.thaw_candidate_elements()\n",
    "model.thaw_mixture_parameters()"
   ]
  },
  {
   "cell_type": "code",
   "execution_count": null,
   "metadata": {},
   "outputs": [],
   "source": [
    "model.search_adaptive(\n",
    "    max_batches=model.current_batch+10000, \n",
    "    batches_per_epoch=batches_per_epoch,\n",
    "    epochs_per_episode=epochs_per_episode,\n",
    "    thresh_deg_start=1.0,\n",
    "    thresh_deg_end=0.50,\n",
    "    reset_active_weight=reset_active_weight,    \n",
    "    verbose=verbose)"
   ]
  },
  {
   "cell_type": "code",
   "execution_count": null,
   "metadata": {},
   "outputs": [],
   "source": [
    "model.report()"
   ]
  },
  {
   "cell_type": "code",
   "execution_count": null,
   "metadata": {},
   "outputs": [],
   "source": [
    "# model.save_state()"
   ]
  },
  {
   "cell_type": "code",
   "execution_count": null,
   "metadata": {},
   "outputs": [],
   "source": [
    "model.freeze_candidate_elements()\n",
    "model.thaw_mixture_parameters()"
   ]
  },
  {
   "cell_type": "code",
   "execution_count": null,
   "metadata": {},
   "outputs": [],
   "source": [
    "model.search_adaptive(\n",
    "    max_batches=model.current_batch+1000, \n",
    "    batches_per_epoch=batches_per_epoch,\n",
    "    epochs_per_episode=epochs_per_episode,\n",
    "    thresh_deg_start=None,\n",
    "    thresh_deg_end=None,\n",
    "    reset_active_weight=True,\n",
    "    verbose=verbose)"
   ]
  },
  {
   "cell_type": "code",
   "execution_count": null,
   "metadata": {},
   "outputs": [],
   "source": [
    "model.save_state()"
   ]
  },
  {
   "cell_type": "code",
   "execution_count": null,
   "metadata": {},
   "outputs": [],
   "source": [
    "model.thaw_candidate_elements()\n",
    "model.thaw_mixture_parameters()"
   ]
  },
  {
   "cell_type": "code",
   "execution_count": null,
   "metadata": {},
   "outputs": [],
   "source": [
    "model.set_thresh_deg_max(0.75)"
   ]
  },
  {
   "cell_type": "code",
   "execution_count": null,
   "metadata": {},
   "outputs": [],
   "source": [
    "model.search_adaptive(\n",
    "    max_batches=model.current_batch+5000, \n",
    "    batches_per_epoch=batches_per_epoch,\n",
    "    epochs_per_episode=epochs_per_episode,\n",
    "    thresh_deg_start=None,\n",
    "    thresh_deg_end=None,\n",
    "    reset_active_weight=reset_active_weight,    \n",
    "    verbose=verbose)"
   ]
  },
  {
   "cell_type": "code",
   "execution_count": null,
   "metadata": {},
   "outputs": [],
   "source": [
    "# model.search_adaptive(\n",
    "#     max_batches=100000, \n",
    "#     batches_per_epoch=batches_per_epoch,\n",
    "#     epochs_per_episode=epochs_per_episode,\n",
    "#     learning_rate=2.0**-16,\n",
    "#     reset_active_weight=True,\n",
    "#     save_at_end=False,\n",
    "#     verbose=verbose)"
   ]
  },
  {
   "cell_type": "code",
   "execution_count": null,
   "metadata": {},
   "outputs": [],
   "source": [
    "# model.save_state()"
   ]
  },
  {
   "cell_type": "markdown",
   "metadata": {},
   "source": [
    "## Review Results Graphically"
   ]
  },
  {
   "cell_type": "code",
   "execution_count": null,
   "metadata": {},
   "outputs": [],
   "source": [
    "# Bar chart - log likelihood by element\n",
    "fig, ax = model.plot_bar('log_like', sorted=False)"
   ]
  },
  {
   "cell_type": "code",
   "execution_count": null,
   "metadata": {},
   "outputs": [],
   "source": [
    "# Bar chart: hits\n",
    "fig, ax = model.plot_bar('hits', sorted=False)"
   ]
  },
  {
   "cell_type": "code",
   "execution_count": null,
   "metadata": {},
   "outputs": [],
   "source": [
    "# Bar chart: log likelihood\n",
    "fig, ax = model.plot_bar('R_deg', sorted=False)"
   ]
  },
  {
   "cell_type": "code",
   "execution_count": null,
   "metadata": {},
   "outputs": [],
   "source": [
    "# Learning curve: log likelihood\n",
    "fig, ax = model.plot_hist('log_like')"
   ]
  },
  {
   "cell_type": "code",
   "execution_count": null,
   "metadata": {},
   "outputs": [],
   "source": [
    "# # Learning curve: hits\n",
    "# fig, ax = model.plot_hist('hits')"
   ]
  },
  {
   "cell_type": "markdown",
   "metadata": {},
   "source": [
    "## Distance vs. Nearest Asteroid for Fitted Elements"
   ]
  },
  {
   "cell_type": "code",
   "execution_count": null,
   "metadata": {},
   "outputs": [],
   "source": [
    "# Find nearest asteroid to fitted elements - search on Cartesian distance\n",
    "elts_fit, elts_near = model.nearest_ast(search_type='cart')"
   ]
  },
  {
   "cell_type": "code",
   "execution_count": null,
   "metadata": {},
   "outputs": [],
   "source": [
    "# Review fitted elements including nearest asteroid\n",
    "elts_fit"
   ]
  },
  {
   "cell_type": "code",
   "execution_count": null,
   "metadata": {},
   "outputs": [],
   "source": [
    "q_norm = elt_q_norm(elts=elts_fit, ast_num=elts_fit.nearest_ast_num)\n",
    "elts_fit['nearest_ast_q_norm'] = q_norm"
   ]
  },
  {
   "cell_type": "code",
   "execution_count": null,
   "metadata": {},
   "outputs": [],
   "source": [
    "# Review asteroids nearest to the fitted elements\n",
    "elts_near"
   ]
  },
  {
   "cell_type": "code",
   "execution_count": null,
   "metadata": {},
   "outputs": [],
   "source": [
    "# Find nearest asteroid to fitted elements - search on Covariance metric\n",
    "elts_fit, elts_near = model.nearest_ast(search_type='cov')"
   ]
  },
  {
   "cell_type": "code",
   "execution_count": null,
   "metadata": {},
   "outputs": [],
   "source": [
    "# # Filter for only the good ones\n",
    "# mask = (elts_fit.log_like > 200) & (elts_fit.R_sec < 60)\n",
    "# elts_fit[mask]"
   ]
  },
  {
   "cell_type": "code",
   "execution_count": null,
   "metadata": {},
   "outputs": [],
   "source": [
    "# # Filter for incomplete convergence\n",
    "# mask = (elts_fit.log_like > 200) & (elts_fit.R_sec >= 60)\n",
    "# elts_fit[mask]"
   ]
  },
  {
   "cell_type": "markdown",
   "metadata": {},
   "source": [
    "## Visualize Error vs. Nearest Asteroid"
   ]
  },
  {
   "cell_type": "code",
   "execution_count": null,
   "metadata": {},
   "outputs": [],
   "source": [
    "# model.elts_near_ast"
   ]
  },
  {
   "cell_type": "code",
   "execution_count": null,
   "metadata": {},
   "outputs": [],
   "source": [
    "model.elts_fit"
   ]
  },
  {
   "cell_type": "code",
   "execution_count": null,
   "metadata": {},
   "outputs": [],
   "source": [
    "q_norm = elt_q_norm(elts=model.elts_fit, ast_num=model.elts_fit.nearest_ast_num)"
   ]
  },
  {
   "cell_type": "code",
   "execution_count": null,
   "metadata": {},
   "outputs": [],
   "source": [
    "mask = q_norm < 1\n",
    "np.round(q_norm[mask], 2)"
   ]
  },
  {
   "cell_type": "code",
   "execution_count": null,
   "metadata": {},
   "outputs": [],
   "source": [
    "ast_elt_near_cov = nearest_ast_elt_cov(elts=model.elts_fit)"
   ]
  },
  {
   "cell_type": "code",
   "execution_count": null,
   "metadata": {},
   "outputs": [],
   "source": [
    "ast_elt_near_cov"
   ]
  },
  {
   "cell_type": "code",
   "execution_count": null,
   "metadata": {},
   "outputs": [],
   "source": [
    "dElt = ast_elt_near_cov[cols] - elts_fit[cols]\n",
    "dElt[62:63]"
   ]
  },
  {
   "cell_type": "code",
   "execution_count": null,
   "metadata": {},
   "outputs": [],
   "source": [
    "X_ast = elts_to_X_cov(ast_elt_near_cov)\n",
    "U_ast = np.dot(X_ast, beta)\n",
    "# np.linalg.norm(U_ast, axis=1)\n",
    "X_ast[62]"
   ]
  },
  {
   "cell_type": "code",
   "execution_count": null,
   "metadata": {},
   "outputs": [],
   "source": [
    "U_ast[62]"
   ]
  },
  {
   "cell_type": "code",
   "execution_count": null,
   "metadata": {},
   "outputs": [],
   "source": [
    "X_elt = elts_to_X_cov(elts_fit)\n",
    "U_elt = np.dot(U_ast, beta)\n",
    "X_elt[62:63]"
   ]
  },
  {
   "cell_type": "code",
   "execution_count": null,
   "metadata": {},
   "outputs": [],
   "source": [
    "U_elt[62]"
   ]
  },
  {
   "cell_type": "code",
   "execution_count": null,
   "metadata": {},
   "outputs": [],
   "source": [
    "dU = U_elt - U_ast"
   ]
  },
  {
   "cell_type": "code",
   "execution_count": null,
   "metadata": {},
   "outputs": [],
   "source": [
    "dU[62]"
   ]
  },
  {
   "cell_type": "code",
   "execution_count": null,
   "metadata": {},
   "outputs": [],
   "source": [
    "np.linalg.norm(dU[62])"
   ]
  },
  {
   "cell_type": "code",
   "execution_count": null,
   "metadata": {},
   "outputs": [],
   "source": [
    "ast_elt_near_cov[cols].loc[62].values"
   ]
  },
  {
   "cell_type": "code",
   "execution_count": null,
   "metadata": {},
   "outputs": [],
   "source": [
    "# covariance type difference vs. nearest asteroid element\n",
    "from nearest_asteroid import beta, X_beta, elts_to_X_cov"
   ]
  },
  {
   "cell_type": "code",
   "execution_count": null,
   "metadata": {},
   "outputs": [],
   "source": [
    "ast_elt"
   ]
  },
  {
   "cell_type": "code",
   "execution_count": null,
   "metadata": {},
   "outputs": [],
   "source": [
    "# Plot position error vs. known elements\n",
    "fig, ax = model.plot_q_error(is_log=True, use_near_ast_dist=True)"
   ]
  },
  {
   "cell_type": "code",
   "execution_count": null,
   "metadata": {},
   "outputs": [],
   "source": [
    "# Plot error in orbital elements\n",
    "fig, ax = model.plot_elt_error(elt_name='a', is_log=True, elt_num=None)"
   ]
  },
  {
   "cell_type": "code",
   "execution_count": null,
   "metadata": {},
   "outputs": [],
   "source": [
    "# Plot error in orbital elements\n",
    "fig, ax = model.plot_elt_error(elt_name='e', is_log=True, elt_num=None)"
   ]
  },
  {
   "cell_type": "code",
   "execution_count": null,
   "metadata": {},
   "outputs": [],
   "source": []
  }
 ],
 "metadata": {
  "kernelspec": {
   "display_name": "Python [conda env:kepler]",
   "language": "python",
   "name": "conda-env-kepler-py"
  },
  "language_info": {
   "codemirror_mode": {
    "name": "ipython",
    "version": 3
   },
   "file_extension": ".py",
   "mimetype": "text/x-python",
   "name": "python",
   "nbconvert_exporter": "python",
   "pygments_lexer": "ipython3",
   "version": "3.7.6"
  }
 },
 "nbformat": 4,
 "nbformat_minor": 4
}
