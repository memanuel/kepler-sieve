{
 "cells": [
  {
   "cell_type": "code",
   "execution_count": 1,
   "metadata": {},
   "outputs": [],
   "source": [
    "# Core\n",
    "import numpy as np\n",
    "import pandas as pd\n",
    "\n",
    "# Tensorflow / ML\n",
    "import tensorflow as tf\n",
    "\n",
    "# Plotting\n",
    "import matplotlib.pyplot as plt\n",
    "import matplotlib as mpl\n",
    "\n",
    "# Utility\n",
    "import os\n",
    "import time"
   ]
  },
  {
   "cell_type": "code",
   "execution_count": 2,
   "metadata": {},
   "outputs": [],
   "source": [
    "# Set visibible GPU\n",
    "gpu_num: int = 2\n",
    "os.environ['CUDA_VISIBLE_DEVICES']=f'{gpu_num}'"
   ]
  },
  {
   "cell_type": "code",
   "execution_count": 3,
   "metadata": {},
   "outputs": [
    {
     "name": "stdout",
     "output_type": "stream",
     "text": [
      "Found 1 GPUs.  Setting memory growth = True.\n"
     ]
    }
   ],
   "source": [
    "# Configure TF GPU growth\n",
    "import kepler_sieve\n",
    "from tf_utils import gpu_grow_memory\n",
    "gpu_grow_memory(verbose=True)"
   ]
  },
  {
   "cell_type": "code",
   "execution_count": null,
   "metadata": {},
   "outputs": [],
   "source": [
    "# MSE Imports\n",
    "from asteroid_element import load_ast_elt\n",
    "from candidate_element import asteroid_elts, perturb_elts, random_elts, elts_add_mixture_params, elts_add_H\n",
    "from ztf_ast import load_ztf_nearest_ast, calc_hit_freq\n",
    "from ztf_element import load_ztf_batch, make_ztf_batch, ztf_score_by_elt, ztf_elt_summary\n",
    "from asteroid_model import AsteroidPosition, AsteroidDirection, make_model_ast_pos\n",
    "from asteroid_search_layers import CandidateElements, MixtureParameters, TrajectoryScore\n",
    "from asteroid_search_model import AsteroidSearchModel\n",
    "from asteroid_search_report import traj_diff\n",
    "from nearest_asteroid import nearest_ast_elt_cart, nearest_ast_elt_cov, elt_q_norm\n",
    "from element_eda import score_by_elt\n",
    "from asteroid_dataframe import calc_ast_data, spline_ast_vec_df\n",
    "from astro_utils import deg2dist, dist2deg, dist2sec"
   ]
  },
  {
   "cell_type": "code",
   "execution_count": null,
   "metadata": {},
   "outputs": [],
   "source": [
    "# Aliases\n",
    "keras = tf.keras\n",
    "\n",
    "# Constants\n",
    "dtype = tf.float32\n",
    "dtype_np = np.float32\n",
    "space_dims = 3"
   ]
  },
  {
   "cell_type": "code",
   "execution_count": null,
   "metadata": {},
   "outputs": [],
   "source": [
    "# Set plot style variables\n",
    "mpl.rcParams['figure.figsize'] = [16.0, 10.0]\n",
    "mpl.rcParams['font.size'] = 16"
   ]
  },
  {
   "cell_type": "markdown",
   "metadata": {},
   "source": [
    "## Load ZTF Data and Batch of Orbital Elements"
   ]
  },
  {
   "cell_type": "code",
   "execution_count": null,
   "metadata": {},
   "outputs": [],
   "source": [
    "# Load orbital elements for known asteroids\n",
    "ast_elt = load_ast_elt()\n",
    "\n",
    "# Number of asteroids\n",
    "N_ast = ast_elt.shape[0]"
   ]
  },
  {
   "cell_type": "code",
   "execution_count": null,
   "metadata": {},
   "outputs": [],
   "source": [
    "# Load ztf nearest asteroid data\n",
    "ztf_ast = load_ztf_nearest_ast()"
   ]
  },
  {
   "cell_type": "code",
   "execution_count": null,
   "metadata": {},
   "outputs": [],
   "source": [
    "# Asteroid numbers and hit counts\n",
    "ast_num, hit_count = calc_hit_freq(ztf=ztf_ast, thresh_sec=2.0)\n",
    "\n",
    "# Sort the hit counts in descending order and find the top batch_size\n",
    "idx = np.argsort(hit_count)[::-1]\n",
    "\n",
    "# Extract the asteroid number and hit count for this batch\n",
    "ast_num_best = ast_num[idx]\n",
    "hit_count_best = hit_count[idx]"
   ]
  },
  {
   "cell_type": "code",
   "execution_count": null,
   "metadata": {},
   "outputs": [],
   "source": [
    "# Parameters to build elements batch\n",
    "batch_size = 64\n",
    "\n",
    "# Batch of unperturbed elements\n",
    "elts_ast = asteroid_elts(ast_nums=ast_num_best[0:batch_size])"
   ]
  },
  {
   "cell_type": "code",
   "execution_count": null,
   "metadata": {},
   "outputs": [],
   "source": [
    "# # Review unperturbed elements\n",
    "# elts_ast"
   ]
  },
  {
   "cell_type": "code",
   "execution_count": null,
   "metadata": {},
   "outputs": [],
   "source": [
    "# Inputs to perturb elements: large\n",
    "sigma_a = 0.05\n",
    "sigma_e = 0.01\n",
    "sigma_inc_deg = 0.25\n",
    "sigma_f_deg = 1.0\n",
    "sigma_Omega_deg = 1.0\n",
    "sigma_omega_deg = 1.0\n",
    "mask_pert = None\n",
    "random_seed = 42"
   ]
  },
  {
   "cell_type": "code",
   "execution_count": null,
   "metadata": {},
   "outputs": [],
   "source": [
    "# Perturb orbital elements\n",
    "elts_pert= perturb_elts(elts_ast, sigma_a=sigma_a, sigma_e=sigma_e, \n",
    "                    sigma_inc_deg=sigma_inc_deg, sigma_f_deg=sigma_f_deg, \n",
    "                    sigma_Omega_deg=sigma_Omega_deg, sigma_omega_deg=sigma_omega_deg,\n",
    "                    mask_pert=mask_pert, random_seed=random_seed)"
   ]
  },
  {
   "cell_type": "code",
   "execution_count": null,
   "metadata": {},
   "outputs": [],
   "source": [
    "# Choose which elements to search on\n",
    "elts = elts_pert"
   ]
  },
  {
   "cell_type": "code",
   "execution_count": null,
   "metadata": {},
   "outputs": [],
   "source": [
    "# # Search for nearest asteroids to these elements\n",
    "# elts_near = nearest_ast_elt(elts)"
   ]
  },
  {
   "cell_type": "code",
   "execution_count": null,
   "metadata": {},
   "outputs": [],
   "source": [
    "# Review selected initial candidate elements, including the nearest asteroid information\n",
    "# elts"
   ]
  },
  {
   "cell_type": "code",
   "execution_count": null,
   "metadata": {},
   "outputs": [],
   "source": [
    "# Review nearest asteroid to these candidate elements\n",
    "# elts_near"
   ]
  },
  {
   "cell_type": "code",
   "execution_count": null,
   "metadata": {},
   "outputs": [],
   "source": [
    "# How many elements are still closest to the original elements?\n",
    "# np.sum(elts.nearest_ast_num == elts.element_id)"
   ]
  },
  {
   "cell_type": "markdown",
   "metadata": {},
   "source": [
    "## Batches of ZTF Data Near Initial Candidate Elements"
   ]
  },
  {
   "cell_type": "code",
   "execution_count": null,
   "metadata": {},
   "outputs": [],
   "source": [
    "# Arguments to make_ztf_batch\n",
    "thresh_deg = 2.0\n",
    "near_ast = False\n",
    "regenerate = False"
   ]
  },
  {
   "cell_type": "code",
   "execution_count": null,
   "metadata": {},
   "outputs": [],
   "source": [
    "# Load perturbed element batch\n",
    "ztf_elt = load_ztf_batch(elts=elts, thresh_deg=thresh_deg, near_ast=near_ast, regenerate=regenerate)"
   ]
  },
  {
   "cell_type": "code",
   "execution_count": null,
   "metadata": {},
   "outputs": [],
   "source": [
    "# Review ZTF elements\n",
    "ztf_elt"
   ]
  },
  {
   "cell_type": "code",
   "execution_count": null,
   "metadata": {},
   "outputs": [],
   "source": [
    "# Score by element - perturbed\n",
    "score_by_elt = ztf_score_by_elt(ztf_elt)"
   ]
  },
  {
   "cell_type": "code",
   "execution_count": null,
   "metadata": {},
   "outputs": [],
   "source": [
    "# Summarize the ztf element batch: perturbed asteroids\n",
    "ztf_elt_summary(ztf_elt, score_by_elt, 'Perturbed Asteroids')"
   ]
  },
  {
   "cell_type": "code",
   "execution_count": null,
   "metadata": {},
   "outputs": [],
   "source": [
    "# Mixture parameters\n",
    "num_hits: int = 10\n",
    "R_deg: float = 0.5"
   ]
  },
  {
   "cell_type": "code",
   "execution_count": null,
   "metadata": {},
   "outputs": [],
   "source": [
    "# Add mixture parameters to candidate elements\n",
    "elts_add_mixture_params(elts=elts, num_hits=num_hits, R_deg=R_deg, thresh_deg=thresh_deg)"
   ]
  },
  {
   "cell_type": "code",
   "execution_count": null,
   "metadata": {},
   "outputs": [],
   "source": [
    "# Add brightness parameter H\n",
    "elts_add_H(elts=elts)"
   ]
  },
  {
   "cell_type": "code",
   "execution_count": null,
   "metadata": {},
   "outputs": [],
   "source": [
    "# Review perturbed elements; includes nearest asteroid number and distance\n",
    "elts"
   ]
  },
  {
   "cell_type": "markdown",
   "metadata": {},
   "source": [
    "## Build Asteroid Search Model"
   ]
  },
  {
   "cell_type": "code",
   "execution_count": null,
   "metadata": {},
   "outputs": [],
   "source": [
    "# Observatory for ZTF data is Palomar Mountain\n",
    "site_name = 'palomar'"
   ]
  },
  {
   "cell_type": "code",
   "execution_count": null,
   "metadata": {},
   "outputs": [],
   "source": [
    "# Training parameters\n",
    "learning_rate = 2.0**-12\n",
    "clipnorm = 1.0\n",
    "save_at_end: bool = True"
   ]
  },
  {
   "cell_type": "code",
   "execution_count": null,
   "metadata": {},
   "outputs": [],
   "source": [
    "# Build asteroid search model\n",
    "model = AsteroidSearchModel(\n",
    "                elts=elts, ztf_elt=ztf_elt, \n",
    "                site_name=site_name, thresh_deg=thresh_deg, \n",
    "                learning_rate=learning_rate, clipnorm=clipnorm,\n",
    "                file_name=f'candidate_elt_pert_large_{random_seed:04d}.h5',\n",
    "                name='model')"
   ]
  },
  {
   "cell_type": "code",
   "execution_count": null,
   "metadata": {},
   "outputs": [],
   "source": [
    "# model.load()"
   ]
  },
  {
   "cell_type": "code",
   "execution_count": null,
   "metadata": {},
   "outputs": [],
   "source": [
    "# Report before training starts\n",
    "model.report()"
   ]
  },
  {
   "cell_type": "code",
   "execution_count": null,
   "metadata": {},
   "outputs": [],
   "source": [
    "fig, ax = model.plot_bar('log_like', sorted=False)"
   ]
  },
  {
   "cell_type": "code",
   "execution_count": null,
   "metadata": {},
   "outputs": [],
   "source": [
    "fig, ax = model.plot_bar('hits', sorted=False)"
   ]
  },
  {
   "cell_type": "code",
   "execution_count": null,
   "metadata": {},
   "outputs": [],
   "source": [
    "# raise ValueError"
   ]
  },
  {
   "cell_type": "markdown",
   "metadata": {},
   "source": [
    "## Automated Training with Sieve Method"
   ]
  },
  {
   "cell_type": "code",
   "execution_count": null,
   "metadata": {},
   "outputs": [],
   "source": [
    "model.sieve()"
   ]
  },
  {
   "cell_type": "code",
   "execution_count": null,
   "metadata": {},
   "outputs": [],
   "source": [
    "model.report()"
   ]
  },
  {
   "cell_type": "markdown",
   "metadata": {},
   "source": [
    "## Distance vs. Nearest Asteroid for Fitted Elements"
   ]
  },
  {
   "cell_type": "code",
   "execution_count": null,
   "metadata": {},
   "outputs": [],
   "source": [
    "_ = model.nearest_ast()"
   ]
  },
  {
   "cell_type": "code",
   "execution_count": null,
   "metadata": {},
   "outputs": [],
   "source": [
    "model.report()"
   ]
  },
  {
   "cell_type": "code",
   "execution_count": null,
   "metadata": {},
   "outputs": [],
   "source": [
    "# model.save_state()"
   ]
  },
  {
   "cell_type": "code",
   "execution_count": null,
   "metadata": {},
   "outputs": [],
   "source": [
    "# Review asteroids nearest to the fitted elements\n",
    "cols = ['element_id', 'log_like', 'hits', 'R_sec', 'thresh_sec', 'nearest_ast_num', 'nearest_ast_dist', 'nearest_ast_q_norm']\n",
    "\n",
    "# Summary\n",
    "has_hits = (model.elts_fit.hits >= 10)\n",
    "is_converged = has_hits\n",
    "num_converged = np.sum(is_converged)\n",
    "\n",
    "# Mean on converged\n",
    "mean_hits = np.mean(model.elts_fit.hits[is_converged])\n",
    "mean_R_sec = np.mean(model.elts_fit.R_sec[is_converged])\n",
    "err_cart_mean = np.mean(model.elts_near_ast.nearest_ast_dist[is_converged])\n",
    "err_cart_geo = np.exp(np.mean(np.log(model.elts_near_ast.nearest_ast_dist[is_converged])))\n",
    "err_cov_mean = np.exp(np.mean(np.log(model.elts_near_ast.nearest_ast_q_norm[is_converged])))\n",
    "\n",
    "# Report\n",
    "print(f'Good convergence on {num_converged} asteroids.')\n",
    "print(f'Mean on converged asteroids:')\n",
    "print(f'Number of hits         : {mean_hits:5.2f}')\n",
    "print(f'Resolution in arc sec  : {mean_R_sec:5.2f}')\n",
    "# print(f'Mean Distance in AU    : {err_cart_mean:5.2e}')\n",
    "print(f'GeoMean Distance in AU : {err_cart_geo:5.2e}')\n",
    "print(f'Covariance norm        : {err_cov_mean:5.2e}')"
   ]
  },
  {
   "cell_type": "code",
   "execution_count": null,
   "metadata": {},
   "outputs": [],
   "source": [
    "# Review good matches\n",
    "model.elts_fit[cols][is_converged].sort_values(by=['hits', 'R_sec'], ascending=[False, True])"
   ]
  },
  {
   "cell_type": "code",
   "execution_count": null,
   "metadata": {},
   "outputs": [],
   "source": [
    "# # Review fitted elements including nearest asteroid\n",
    "model.elts_fit"
   ]
  },
  {
   "cell_type": "code",
   "execution_count": null,
   "metadata": {},
   "outputs": [],
   "source": [
    "# Add nearest_ast_dist column\n",
    "model.elts_fit['nearest_ast_dist'] = model.elts_near_ast.nearest_ast_dist\n",
    "model.elts_fit['nearest_ast_q_norm'] = model.elts_near_ast.nearest_ast_q_norm\n",
    "\n",
    "# Filter for only the good ones\n",
    "mask = (model.elts_fit.log_like > 200) & (model.elts_fit.R_sec < 40)\n",
    "cols = ['element_id', 'num_hits', 'R_sec', 'thresh_sec', 'log_like', 'hits', 'nearest_ast_dist', 'nearest_ast_q_norm']\n",
    "model.elts_fit[cols][mask].sort_values(by='R_sec')"
   ]
  },
  {
   "cell_type": "code",
   "execution_count": null,
   "metadata": {},
   "outputs": [],
   "source": [
    "# # Filter for incomplete convergence\n",
    "# mask = (elts_fit.log_like > 200) & (elts_fit.R_sec >= 60)\n",
    "# elts_fit[mask]"
   ]
  },
  {
   "cell_type": "markdown",
   "metadata": {},
   "source": [
    "## Visualize Error vs. Nearest Asteroid"
   ]
  },
  {
   "cell_type": "code",
   "execution_count": null,
   "metadata": {},
   "outputs": [],
   "source": [
    "# Plot position error vs. known elements\n",
    "fig, ax = model.plot_q_error(plot_type='cart', is_log=True, use_near_ast_dist=True)"
   ]
  },
  {
   "cell_type": "code",
   "execution_count": null,
   "metadata": {},
   "outputs": [],
   "source": [
    "# Plot position error vs. known elements\n",
    "fig, ax = model.plot_q_error(plot_type='cov', is_log=True, use_near_ast_dist=True)"
   ]
  },
  {
   "cell_type": "code",
   "execution_count": null,
   "metadata": {},
   "outputs": [],
   "source": [
    "# Plot error in orbital elements\n",
    "fig, ax = model.plot_elt_error_bar(elt_name='a', is_log=True)"
   ]
  },
  {
   "cell_type": "code",
   "execution_count": null,
   "metadata": {},
   "outputs": [],
   "source": [
    "# Plot error in orbital elements\n",
    "fig, ax = model.plot_elt_error_bar(elt_name='e', is_log=True)"
   ]
  },
  {
   "cell_type": "code",
   "execution_count": null,
   "metadata": {},
   "outputs": [],
   "source": [
    "# Plot error in orbital elements\n",
    "fig, ax = model.plot_elt_error_bar(elt_name='inc', is_log=True)"
   ]
  },
  {
   "cell_type": "code",
   "execution_count": null,
   "metadata": {},
   "outputs": [],
   "source": [
    "# Plot error in orbital elements\n",
    "fig, ax = model.plot_elt_error_bar(elt_name='Omega', is_log=True)"
   ]
  },
  {
   "cell_type": "code",
   "execution_count": null,
   "metadata": {},
   "outputs": [],
   "source": [
    "# Plot error in orbital elements\n",
    "fig, ax = model.plot_elt_error_bar(elt_name='omega', is_log=True)"
   ]
  },
  {
   "cell_type": "code",
   "execution_count": null,
   "metadata": {},
   "outputs": [],
   "source": [
    "# Plot error in orbital elements\n",
    "fig, ax = model.plot_elt_error_bar(elt_name='f', is_log=True)"
   ]
  },
  {
   "cell_type": "code",
   "execution_count": null,
   "metadata": {},
   "outputs": [],
   "source": [
    "model.candidates_df()"
   ]
  },
  {
   "cell_type": "code",
   "execution_count": null,
   "metadata": {},
   "outputs": [],
   "source": []
  }
 ],
 "metadata": {
  "kernelspec": {
   "display_name": "Python [conda env:kepler]",
   "language": "python",
   "name": "conda-env-kepler-py"
  },
  "language_info": {
   "codemirror_mode": {
    "name": "ipython",
    "version": 3
   },
   "file_extension": ".py",
   "mimetype": "text/x-python",
   "name": "python",
   "nbconvert_exporter": "python",
   "pygments_lexer": "ipython3",
   "version": "3.7.6"
  }
 },
 "nbformat": 4,
 "nbformat_minor": 4
}
