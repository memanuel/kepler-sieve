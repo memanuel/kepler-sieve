{
 "cells": [
  {
   "cell_type": "code",
   "execution_count": 1,
   "metadata": {},
   "outputs": [],
   "source": [
    "# Core\n",
    "import numpy as np\n",
    "import pandas as pd\n",
    "from scipy.interpolate import CubicSpline"
   ]
  },
  {
   "cell_type": "code",
   "execution_count": 2,
   "metadata": {},
   "outputs": [],
   "source": [
    "# Local imports\n",
    "import kepler_sieve\n",
    "# from asteroid_element import get_asteroids\n",
    "from asteroid_data import load_ast_vectors, load_ast_data, ast_add_earth_pos, ast_add_sun_vectors\n",
    "from asteroid_spline import spline_ast_vec, spline_ast_elt, test_ast_spline_elt\n",
    "from orbital_element_test import get_test_elements, report_test\n",
    "from db_config import db_engine\n",
    "from db_utils import sp2df\n",
    "import matplotlib.pyplot as plt"
   ]
  },
  {
   "cell_type": "code",
   "execution_count": 3,
   "metadata": {},
   "outputs": [],
   "source": [
    "df_ast = load_ast_data(n0=1, n1=11)"
   ]
  },
  {
   "cell_type": "code",
   "execution_count": 4,
   "metadata": {},
   "outputs": [],
   "source": [
    "# Number of asteroids\n",
    "N_ast = np.unique(df_ast.AsteroidID.values).size\n",
    "# Number of times per asteroid\n",
    "N_t = df_ast.shape[0] // N_ast"
   ]
  },
  {
   "cell_type": "code",
   "execution_count": 5,
   "metadata": {},
   "outputs": [
    {
     "output_type": "execute_result",
     "data": {
      "text/plain": [
       "         TimeID  AsteroidID      mjd        qx        qy        qz        vx  \\\n",
       "0      69120000           1  48000.0 -1.155142  2.297488  0.282872 -0.009457   \n",
       "1      69125760           1  48004.0 -1.192813  2.275319  0.289164 -0.009377   \n",
       "2      69131520           1  48008.0 -1.230156  2.252526  0.295376 -0.009294   \n",
       "3      69137280           1  48012.0 -1.267161  2.229116  0.301507 -0.009208   \n",
       "4      69143040           1  48016.0 -1.303818  2.205093  0.307555 -0.009120   \n",
       "...         ...         ...      ...       ...       ...       ...       ...   \n",
       "37505  90696960          10  62984.0  0.728575  3.372451  0.098143 -0.008660   \n",
       "37506  90702720          10  62988.0  0.693892  3.378329  0.095975 -0.008681   \n",
       "37507  90708480          10  62992.0  0.659129  3.383816  0.093796 -0.008700   \n",
       "37508  90714240          10  62996.0  0.624289  3.388913  0.091606 -0.008719   \n",
       "37509  90720000          10  63000.0  0.589378  3.393618  0.089405 -0.008737   \n",
       "\n",
       "             vy        vz         a         e       inc     Omega     omega  \\\n",
       "0     -0.005464  0.001583  2.768788  0.077540  0.185062  1.408422  1.237946   \n",
       "1     -0.005620  0.001563  2.768752  0.077525  0.185061  1.408417  1.237928   \n",
       "2     -0.005776  0.001543  2.768714  0.077510  0.185060  1.408411  1.237912   \n",
       "3     -0.005929  0.001522  2.768677  0.077495  0.185059  1.408406  1.237895   \n",
       "4     -0.006082  0.001501  2.768639  0.077479  0.185057  1.408400  1.237879   \n",
       "...         ...       ...       ...       ...       ...       ...       ...   \n",
       "37505  0.001518 -0.000541  3.147844  0.104631  0.066710 -1.344509 -0.805467   \n",
       "37506  0.001421 -0.000543  3.147839  0.104631  0.066711 -1.344511 -0.805428   \n",
       "37507  0.001323 -0.000546  3.147833  0.104631  0.066711 -1.344513 -0.805389   \n",
       "37508  0.001225 -0.000549  3.147828  0.104632  0.066711 -1.344515 -0.805349   \n",
       "37509  0.001127 -0.000551  3.147822  0.104632  0.066711 -1.344516 -0.805309   \n",
       "\n",
       "              f         M  \n",
       "0     -0.601468 -0.517779  \n",
       "1     -0.584374 -0.502840  \n",
       "2     -0.567257 -0.487900  \n",
       "3     -0.550118 -0.472959  \n",
       "4     -0.532956 -0.458018  \n",
       "...         ...       ...  \n",
       "37505  3.506618 -2.696021  \n",
       "37506  3.516782 -2.683744  \n",
       "37507  3.526955 -2.671469  \n",
       "37508  3.537136 -2.659194  \n",
       "37509  3.547326 -2.646919  \n",
       "\n",
       "[37510 rows x 16 columns]"
      ],
      "text/html": "<div>\n<style scoped>\n    .dataframe tbody tr th:only-of-type {\n        vertical-align: middle;\n    }\n\n    .dataframe tbody tr th {\n        vertical-align: top;\n    }\n\n    .dataframe thead th {\n        text-align: right;\n    }\n</style>\n<table border=\"1\" class=\"dataframe\">\n  <thead>\n    <tr style=\"text-align: right;\">\n      <th></th>\n      <th>TimeID</th>\n      <th>AsteroidID</th>\n      <th>mjd</th>\n      <th>qx</th>\n      <th>qy</th>\n      <th>qz</th>\n      <th>vx</th>\n      <th>vy</th>\n      <th>vz</th>\n      <th>a</th>\n      <th>e</th>\n      <th>inc</th>\n      <th>Omega</th>\n      <th>omega</th>\n      <th>f</th>\n      <th>M</th>\n    </tr>\n  </thead>\n  <tbody>\n    <tr>\n      <th>0</th>\n      <td>69120000</td>\n      <td>1</td>\n      <td>48000.0</td>\n      <td>-1.155142</td>\n      <td>2.297488</td>\n      <td>0.282872</td>\n      <td>-0.009457</td>\n      <td>-0.005464</td>\n      <td>0.001583</td>\n      <td>2.768788</td>\n      <td>0.077540</td>\n      <td>0.185062</td>\n      <td>1.408422</td>\n      <td>1.237946</td>\n      <td>-0.601468</td>\n      <td>-0.517779</td>\n    </tr>\n    <tr>\n      <th>1</th>\n      <td>69125760</td>\n      <td>1</td>\n      <td>48004.0</td>\n      <td>-1.192813</td>\n      <td>2.275319</td>\n      <td>0.289164</td>\n      <td>-0.009377</td>\n      <td>-0.005620</td>\n      <td>0.001563</td>\n      <td>2.768752</td>\n      <td>0.077525</td>\n      <td>0.185061</td>\n      <td>1.408417</td>\n      <td>1.237928</td>\n      <td>-0.584374</td>\n      <td>-0.502840</td>\n    </tr>\n    <tr>\n      <th>2</th>\n      <td>69131520</td>\n      <td>1</td>\n      <td>48008.0</td>\n      <td>-1.230156</td>\n      <td>2.252526</td>\n      <td>0.295376</td>\n      <td>-0.009294</td>\n      <td>-0.005776</td>\n      <td>0.001543</td>\n      <td>2.768714</td>\n      <td>0.077510</td>\n      <td>0.185060</td>\n      <td>1.408411</td>\n      <td>1.237912</td>\n      <td>-0.567257</td>\n      <td>-0.487900</td>\n    </tr>\n    <tr>\n      <th>3</th>\n      <td>69137280</td>\n      <td>1</td>\n      <td>48012.0</td>\n      <td>-1.267161</td>\n      <td>2.229116</td>\n      <td>0.301507</td>\n      <td>-0.009208</td>\n      <td>-0.005929</td>\n      <td>0.001522</td>\n      <td>2.768677</td>\n      <td>0.077495</td>\n      <td>0.185059</td>\n      <td>1.408406</td>\n      <td>1.237895</td>\n      <td>-0.550118</td>\n      <td>-0.472959</td>\n    </tr>\n    <tr>\n      <th>4</th>\n      <td>69143040</td>\n      <td>1</td>\n      <td>48016.0</td>\n      <td>-1.303818</td>\n      <td>2.205093</td>\n      <td>0.307555</td>\n      <td>-0.009120</td>\n      <td>-0.006082</td>\n      <td>0.001501</td>\n      <td>2.768639</td>\n      <td>0.077479</td>\n      <td>0.185057</td>\n      <td>1.408400</td>\n      <td>1.237879</td>\n      <td>-0.532956</td>\n      <td>-0.458018</td>\n    </tr>\n    <tr>\n      <th>...</th>\n      <td>...</td>\n      <td>...</td>\n      <td>...</td>\n      <td>...</td>\n      <td>...</td>\n      <td>...</td>\n      <td>...</td>\n      <td>...</td>\n      <td>...</td>\n      <td>...</td>\n      <td>...</td>\n      <td>...</td>\n      <td>...</td>\n      <td>...</td>\n      <td>...</td>\n      <td>...</td>\n    </tr>\n    <tr>\n      <th>37505</th>\n      <td>90696960</td>\n      <td>10</td>\n      <td>62984.0</td>\n      <td>0.728575</td>\n      <td>3.372451</td>\n      <td>0.098143</td>\n      <td>-0.008660</td>\n      <td>0.001518</td>\n      <td>-0.000541</td>\n      <td>3.147844</td>\n      <td>0.104631</td>\n      <td>0.066710</td>\n      <td>-1.344509</td>\n      <td>-0.805467</td>\n      <td>3.506618</td>\n      <td>-2.696021</td>\n    </tr>\n    <tr>\n      <th>37506</th>\n      <td>90702720</td>\n      <td>10</td>\n      <td>62988.0</td>\n      <td>0.693892</td>\n      <td>3.378329</td>\n      <td>0.095975</td>\n      <td>-0.008681</td>\n      <td>0.001421</td>\n      <td>-0.000543</td>\n      <td>3.147839</td>\n      <td>0.104631</td>\n      <td>0.066711</td>\n      <td>-1.344511</td>\n      <td>-0.805428</td>\n      <td>3.516782</td>\n      <td>-2.683744</td>\n    </tr>\n    <tr>\n      <th>37507</th>\n      <td>90708480</td>\n      <td>10</td>\n      <td>62992.0</td>\n      <td>0.659129</td>\n      <td>3.383816</td>\n      <td>0.093796</td>\n      <td>-0.008700</td>\n      <td>0.001323</td>\n      <td>-0.000546</td>\n      <td>3.147833</td>\n      <td>0.104631</td>\n      <td>0.066711</td>\n      <td>-1.344513</td>\n      <td>-0.805389</td>\n      <td>3.526955</td>\n      <td>-2.671469</td>\n    </tr>\n    <tr>\n      <th>37508</th>\n      <td>90714240</td>\n      <td>10</td>\n      <td>62996.0</td>\n      <td>0.624289</td>\n      <td>3.388913</td>\n      <td>0.091606</td>\n      <td>-0.008719</td>\n      <td>0.001225</td>\n      <td>-0.000549</td>\n      <td>3.147828</td>\n      <td>0.104632</td>\n      <td>0.066711</td>\n      <td>-1.344515</td>\n      <td>-0.805349</td>\n      <td>3.537136</td>\n      <td>-2.659194</td>\n    </tr>\n    <tr>\n      <th>37509</th>\n      <td>90720000</td>\n      <td>10</td>\n      <td>63000.0</td>\n      <td>0.589378</td>\n      <td>3.393618</td>\n      <td>0.089405</td>\n      <td>-0.008737</td>\n      <td>0.001127</td>\n      <td>-0.000551</td>\n      <td>3.147822</td>\n      <td>0.104632</td>\n      <td>0.066711</td>\n      <td>-1.344516</td>\n      <td>-0.805309</td>\n      <td>3.547326</td>\n      <td>-2.646919</td>\n    </tr>\n  </tbody>\n</table>\n<p>37510 rows × 16 columns</p>\n</div>"
     },
     "metadata": {},
     "execution_count": 5
    }
   ],
   "source": [
    "df_ast"
   ]
  },
  {
   "cell_type": "code",
   "execution_count": 6,
   "metadata": {},
   "outputs": [],
   "source": [
    "interval = 24*60*8\n",
    "mask = (df_ast.TimeID % interval == 0)"
   ]
  },
  {
   "cell_type": "code",
   "execution_count": 7,
   "metadata": {},
   "outputs": [],
   "source": [
    "elt = df_ast[mask].copy()"
   ]
  },
  {
   "cell_type": "code",
   "execution_count": 9,
   "metadata": {},
   "outputs": [
    {
     "output_type": "execute_result",
     "data": {
      "text/plain": [
       "        TimeID  AsteroidID      mjd        qx        qy        qz        vx  \\\n",
       "0     69120000           1  48000.0 -1.155142  2.297488  0.282872 -0.009457   \n",
       "2     69131520           1  48008.0 -1.230156  2.252526  0.295376 -0.009294   \n",
       "4     69143040           1  48016.0 -1.303818  2.205093  0.307555 -0.009120   \n",
       "6     69154560           1  48024.0 -1.376042  2.155230  0.319395 -0.008935   \n",
       "8     69166080           1  48032.0 -1.446743  2.102983  0.330881 -0.008739   \n",
       "...        ...         ...      ...       ...       ...       ...       ...   \n",
       "3742  90673920           1  62968.0  0.555416  2.635466 -0.018423 -0.010355   \n",
       "3744  90685440           1  62976.0  0.472315  2.645346 -0.002815 -0.010418   \n",
       "3746  90696960           1  62984.0  0.388752  2.652644  0.012797 -0.010471   \n",
       "3748  90708480           1  62992.0  0.304804  2.657332  0.028395 -0.010514   \n",
       "3750  90720000           1  63000.0  0.220553  2.659389  0.043966 -0.010547   \n",
       "\n",
       "            vy        vz         a         e       inc     Omega     omega  \\\n",
       "0    -0.005464  0.001583  2.768788  0.077540  0.185062  1.408422  1.237946   \n",
       "2    -0.005776  0.001543  2.768714  0.077510  0.185060  1.408411  1.237912   \n",
       "4    -0.006082  0.001501  2.768639  0.077479  0.185057  1.408400  1.237879   \n",
       "6    -0.006383  0.001458  2.768562  0.077449  0.185055  1.408389  1.237846   \n",
       "8    -0.006678  0.001413  2.768484  0.077419  0.185053  1.408377  1.237814   \n",
       "...        ...       ...       ...       ...       ...       ...       ...   \n",
       "3742  0.001395  0.001950  2.767160  0.079043  0.184730  1.399220  1.259891   \n",
       "3744  0.001074  0.001952  2.767149  0.079037  0.184730  1.399219  1.259914   \n",
       "3746  0.000750  0.001951  2.767136  0.079031  0.184730  1.399219  1.259938   \n",
       "3748  0.000422  0.001948  2.767123  0.079024  0.184731  1.399220  1.259960   \n",
       "3750  0.000092  0.001944  2.767109  0.079018  0.184731  1.399220  1.259980   \n",
       "\n",
       "             f         M  \n",
       "0    -0.601468 -0.517779  \n",
       "2    -0.567257 -0.487900  \n",
       "4    -0.532956 -0.458018  \n",
       "6    -0.498569 -0.428134  \n",
       "8    -0.464100 -0.398247  \n",
       "...        ...       ...  \n",
       "3742 -1.297303 -1.147640  \n",
       "3744 -1.265771 -1.117776  \n",
       "3746 -1.234092 -1.087912  \n",
       "3748 -1.202266 -1.058048  \n",
       "3750 -1.170291 -1.028182  \n",
       "\n",
       "[1876 rows x 16 columns]"
      ],
      "text/html": "<div>\n<style scoped>\n    .dataframe tbody tr th:only-of-type {\n        vertical-align: middle;\n    }\n\n    .dataframe tbody tr th {\n        vertical-align: top;\n    }\n\n    .dataframe thead th {\n        text-align: right;\n    }\n</style>\n<table border=\"1\" class=\"dataframe\">\n  <thead>\n    <tr style=\"text-align: right;\">\n      <th></th>\n      <th>TimeID</th>\n      <th>AsteroidID</th>\n      <th>mjd</th>\n      <th>qx</th>\n      <th>qy</th>\n      <th>qz</th>\n      <th>vx</th>\n      <th>vy</th>\n      <th>vz</th>\n      <th>a</th>\n      <th>e</th>\n      <th>inc</th>\n      <th>Omega</th>\n      <th>omega</th>\n      <th>f</th>\n      <th>M</th>\n    </tr>\n  </thead>\n  <tbody>\n    <tr>\n      <th>0</th>\n      <td>69120000</td>\n      <td>1</td>\n      <td>48000.0</td>\n      <td>-1.155142</td>\n      <td>2.297488</td>\n      <td>0.282872</td>\n      <td>-0.009457</td>\n      <td>-0.005464</td>\n      <td>0.001583</td>\n      <td>2.768788</td>\n      <td>0.077540</td>\n      <td>0.185062</td>\n      <td>1.408422</td>\n      <td>1.237946</td>\n      <td>-0.601468</td>\n      <td>-0.517779</td>\n    </tr>\n    <tr>\n      <th>2</th>\n      <td>69131520</td>\n      <td>1</td>\n      <td>48008.0</td>\n      <td>-1.230156</td>\n      <td>2.252526</td>\n      <td>0.295376</td>\n      <td>-0.009294</td>\n      <td>-0.005776</td>\n      <td>0.001543</td>\n      <td>2.768714</td>\n      <td>0.077510</td>\n      <td>0.185060</td>\n      <td>1.408411</td>\n      <td>1.237912</td>\n      <td>-0.567257</td>\n      <td>-0.487900</td>\n    </tr>\n    <tr>\n      <th>4</th>\n      <td>69143040</td>\n      <td>1</td>\n      <td>48016.0</td>\n      <td>-1.303818</td>\n      <td>2.205093</td>\n      <td>0.307555</td>\n      <td>-0.009120</td>\n      <td>-0.006082</td>\n      <td>0.001501</td>\n      <td>2.768639</td>\n      <td>0.077479</td>\n      <td>0.185057</td>\n      <td>1.408400</td>\n      <td>1.237879</td>\n      <td>-0.532956</td>\n      <td>-0.458018</td>\n    </tr>\n    <tr>\n      <th>6</th>\n      <td>69154560</td>\n      <td>1</td>\n      <td>48024.0</td>\n      <td>-1.376042</td>\n      <td>2.155230</td>\n      <td>0.319395</td>\n      <td>-0.008935</td>\n      <td>-0.006383</td>\n      <td>0.001458</td>\n      <td>2.768562</td>\n      <td>0.077449</td>\n      <td>0.185055</td>\n      <td>1.408389</td>\n      <td>1.237846</td>\n      <td>-0.498569</td>\n      <td>-0.428134</td>\n    </tr>\n    <tr>\n      <th>8</th>\n      <td>69166080</td>\n      <td>1</td>\n      <td>48032.0</td>\n      <td>-1.446743</td>\n      <td>2.102983</td>\n      <td>0.330881</td>\n      <td>-0.008739</td>\n      <td>-0.006678</td>\n      <td>0.001413</td>\n      <td>2.768484</td>\n      <td>0.077419</td>\n      <td>0.185053</td>\n      <td>1.408377</td>\n      <td>1.237814</td>\n      <td>-0.464100</td>\n      <td>-0.398247</td>\n    </tr>\n    <tr>\n      <th>...</th>\n      <td>...</td>\n      <td>...</td>\n      <td>...</td>\n      <td>...</td>\n      <td>...</td>\n      <td>...</td>\n      <td>...</td>\n      <td>...</td>\n      <td>...</td>\n      <td>...</td>\n      <td>...</td>\n      <td>...</td>\n      <td>...</td>\n      <td>...</td>\n      <td>...</td>\n      <td>...</td>\n    </tr>\n    <tr>\n      <th>3742</th>\n      <td>90673920</td>\n      <td>1</td>\n      <td>62968.0</td>\n      <td>0.555416</td>\n      <td>2.635466</td>\n      <td>-0.018423</td>\n      <td>-0.010355</td>\n      <td>0.001395</td>\n      <td>0.001950</td>\n      <td>2.767160</td>\n      <td>0.079043</td>\n      <td>0.184730</td>\n      <td>1.399220</td>\n      <td>1.259891</td>\n      <td>-1.297303</td>\n      <td>-1.147640</td>\n    </tr>\n    <tr>\n      <th>3744</th>\n      <td>90685440</td>\n      <td>1</td>\n      <td>62976.0</td>\n      <td>0.472315</td>\n      <td>2.645346</td>\n      <td>-0.002815</td>\n      <td>-0.010418</td>\n      <td>0.001074</td>\n      <td>0.001952</td>\n      <td>2.767149</td>\n      <td>0.079037</td>\n      <td>0.184730</td>\n      <td>1.399219</td>\n      <td>1.259914</td>\n      <td>-1.265771</td>\n      <td>-1.117776</td>\n    </tr>\n    <tr>\n      <th>3746</th>\n      <td>90696960</td>\n      <td>1</td>\n      <td>62984.0</td>\n      <td>0.388752</td>\n      <td>2.652644</td>\n      <td>0.012797</td>\n      <td>-0.010471</td>\n      <td>0.000750</td>\n      <td>0.001951</td>\n      <td>2.767136</td>\n      <td>0.079031</td>\n      <td>0.184730</td>\n      <td>1.399219</td>\n      <td>1.259938</td>\n      <td>-1.234092</td>\n      <td>-1.087912</td>\n    </tr>\n    <tr>\n      <th>3748</th>\n      <td>90708480</td>\n      <td>1</td>\n      <td>62992.0</td>\n      <td>0.304804</td>\n      <td>2.657332</td>\n      <td>0.028395</td>\n      <td>-0.010514</td>\n      <td>0.000422</td>\n      <td>0.001948</td>\n      <td>2.767123</td>\n      <td>0.079024</td>\n      <td>0.184731</td>\n      <td>1.399220</td>\n      <td>1.259960</td>\n      <td>-1.202266</td>\n      <td>-1.058048</td>\n    </tr>\n    <tr>\n      <th>3750</th>\n      <td>90720000</td>\n      <td>1</td>\n      <td>63000.0</td>\n      <td>0.220553</td>\n      <td>2.659389</td>\n      <td>0.043966</td>\n      <td>-0.010547</td>\n      <td>0.000092</td>\n      <td>0.001944</td>\n      <td>2.767109</td>\n      <td>0.079018</td>\n      <td>0.184731</td>\n      <td>1.399220</td>\n      <td>1.259980</td>\n      <td>-1.170291</td>\n      <td>-1.028182</td>\n    </tr>\n  </tbody>\n</table>\n<p>1876 rows × 16 columns</p>\n</div>"
     },
     "metadata": {},
     "execution_count": 9
    }
   ],
   "source": [
    "elt[elt.AsteroidID==1]"
   ]
  },
  {
   "cell_type": "code",
   "execution_count": 8,
   "metadata": {},
   "outputs": [],
   "source": [
    "# Choose a set of interpolation times\n",
    "ts = np.arange(48000, 63001, 4.0)"
   ]
  },
  {
   "cell_type": "code",
   "execution_count": 12,
   "metadata": {},
   "outputs": [],
   "source": [
    "from asteroid_spline import spline_ast_data\n",
    "from orbital_element import unpack_elt_df, elt2vec, anomaly_M2f\n",
    "from planets_interp import get_sun_vectors"
   ]
  },
  {
   "cell_type": "code",
   "execution_count": 28,
   "metadata": {},
   "outputs": [],
   "source": [
    "# The columns to spline\n",
    "cols_spline = ['a', 'e', 'inc', 'Omega', 'omega', 'Mx', 'My']\n",
    "\n",
    "# Compute cosine and sine of M for splining\n",
    "M_in = elt.M.values\n",
    "elt['Mx'] = np.cos(M_in)\n",
    "elt['My'] = np.sin(M_in)\n",
    "\n",
    "# Spline these output columns\n",
    "elt_out = spline_ast_data(df_ast=elt, ts=ts, cols_spline=cols_spline)\n",
    "# Compute the splined M using atan2\n",
    "elt_out['M'] = np.arctan2(elt_out.My, elt_out.Mx)\n",
    "# Compute the splined f from M\n",
    "elt_out['f'] = anomaly_M2f(M=elt.M, e=elt.e)\n",
    "\n",
    "# Array of output times including repeated times for each asteroid\n",
    "ts_out = elt_out.mjd.values\n",
    "\n",
    "# Unpack orbital elements\n",
    "a, e, inc, Omega, omega, f = unpack_elt_df(elt_out)\n",
    "\n",
    "# Compute q and v in the heliocentric frame\n",
    "q_hel, v_hel = elt2vec(a=a, e=e, inc=inc, Omega=Omega, omega=omega, f=f)\n",
    "\n",
    "# Position and velocity of the sun\n",
    "q_sun, v_sun = get_sun_vectors(ts=ts_out)\n",
    "\n",
    "# The recovered position and velocity of the asteroid in the barycentric frame\n",
    "q: np.array = q_hel + q_sun\n",
    "v: np.array = v_hel + v_sun\n",
    "\n",
    "# Build output state vectors; the two key columns in the output are AsteroidID and mjd\n",
    "key_cols = elt_out.columns[0:2]\n",
    "# Cartesian coordinate columns\n",
    "cols_q = ['qx', 'qy', 'qz']\n",
    "cols_v = ['vx', 'vy', 'vz']\n",
    "# Need to copy from elts_out to avoid dreaded \"setting with copy\" warning in Pandas\n",
    "vec_out = elt_out[key_cols].copy()\n",
    "vec_out[cols_q] = q\n",
    "vec_out[cols_v] = v"
   ]
  },
  {
   "cell_type": "code",
   "execution_count": 29,
   "metadata": {},
   "outputs": [
    {
     "output_type": "execute_result",
     "data": {
      "text/plain": [
       "         TimeID  AsteroidID      mjd        qx        qy        qz        vx  \\\n",
       "0      69120000           1  48000.0 -1.155142  2.297488  0.282872 -0.009457   \n",
       "2      69131520           1  48008.0 -1.230156  2.252526  0.295376 -0.009294   \n",
       "4      69143040           1  48016.0 -1.303818  2.205093  0.307555 -0.009120   \n",
       "6      69154560           1  48024.0 -1.376042  2.155230  0.319395 -0.008935   \n",
       "8      69166080           1  48032.0 -1.446743  2.102983  0.330881 -0.008739   \n",
       "...         ...         ...      ...       ...       ...       ...       ...   \n",
       "37501  90673920          10  62968.0  0.866426  3.345069  0.106701 -0.008568   \n",
       "37503  90685440          10  62976.0  0.797684  3.359532  0.102446 -0.008616   \n",
       "37505  90696960          10  62984.0  0.728575  3.372451  0.098143 -0.008660   \n",
       "37507  90708480          10  62992.0  0.659129  3.383816  0.093796 -0.008700   \n",
       "37509  90720000          10  63000.0  0.589378  3.393618  0.089405 -0.008737   \n",
       "\n",
       "             vy        vz         a         e       inc     Omega     omega  \\\n",
       "0     -0.005464  0.001583  2.768788  0.077540  0.185062  1.408422  1.237946   \n",
       "2     -0.005776  0.001543  2.768714  0.077510  0.185060  1.408411  1.237912   \n",
       "4     -0.006082  0.001501  2.768639  0.077479  0.185057  1.408400  1.237879   \n",
       "6     -0.006383  0.001458  2.768562  0.077449  0.185055  1.408389  1.237846   \n",
       "8     -0.006678  0.001413  2.768484  0.077419  0.185053  1.408377  1.237814   \n",
       "...         ...       ...       ...       ...       ...       ...       ...   \n",
       "37501  0.001904 -0.000529  3.147865  0.104630  0.066709 -1.344501 -0.805614   \n",
       "37503  0.001712 -0.000535  3.147855  0.104630  0.066710 -1.344505 -0.805542   \n",
       "37505  0.001518 -0.000541  3.147844  0.104631  0.066710 -1.344509 -0.805467   \n",
       "37507  0.001323 -0.000546  3.147833  0.104631  0.066711 -1.344513 -0.805389   \n",
       "37509  0.001127 -0.000551  3.147822  0.104632  0.066711 -1.344516 -0.805309   \n",
       "\n",
       "              f         M        Mx        My  \n",
       "0     -0.601468 -0.517779  0.868921 -0.494952  \n",
       "2     -0.567257 -0.487900  0.883319 -0.468772  \n",
       "4     -0.532956 -0.458018  0.896930 -0.442172  \n",
       "6     -0.498569 -0.428134  0.909742 -0.415174  \n",
       "8     -0.464100 -0.398247  0.921742 -0.387803  \n",
       "...         ...       ...       ...       ...  \n",
       "37501  3.466036 -2.745134 -0.922434 -0.386154  \n",
       "37503  3.486312 -2.720576 -0.912674 -0.408689  \n",
       "37505  3.506618 -2.696021 -0.902364 -0.430974  \n",
       "37507  3.526955 -2.671469 -0.891512 -0.452997  \n",
       "37509  3.547326 -2.646919 -0.880124 -0.474744  \n",
       "\n",
       "[18760 rows x 18 columns]"
      ],
      "text/html": "<div>\n<style scoped>\n    .dataframe tbody tr th:only-of-type {\n        vertical-align: middle;\n    }\n\n    .dataframe tbody tr th {\n        vertical-align: top;\n    }\n\n    .dataframe thead th {\n        text-align: right;\n    }\n</style>\n<table border=\"1\" class=\"dataframe\">\n  <thead>\n    <tr style=\"text-align: right;\">\n      <th></th>\n      <th>TimeID</th>\n      <th>AsteroidID</th>\n      <th>mjd</th>\n      <th>qx</th>\n      <th>qy</th>\n      <th>qz</th>\n      <th>vx</th>\n      <th>vy</th>\n      <th>vz</th>\n      <th>a</th>\n      <th>e</th>\n      <th>inc</th>\n      <th>Omega</th>\n      <th>omega</th>\n      <th>f</th>\n      <th>M</th>\n      <th>Mx</th>\n      <th>My</th>\n    </tr>\n  </thead>\n  <tbody>\n    <tr>\n      <th>0</th>\n      <td>69120000</td>\n      <td>1</td>\n      <td>48000.0</td>\n      <td>-1.155142</td>\n      <td>2.297488</td>\n      <td>0.282872</td>\n      <td>-0.009457</td>\n      <td>-0.005464</td>\n      <td>0.001583</td>\n      <td>2.768788</td>\n      <td>0.077540</td>\n      <td>0.185062</td>\n      <td>1.408422</td>\n      <td>1.237946</td>\n      <td>-0.601468</td>\n      <td>-0.517779</td>\n      <td>0.868921</td>\n      <td>-0.494952</td>\n    </tr>\n    <tr>\n      <th>2</th>\n      <td>69131520</td>\n      <td>1</td>\n      <td>48008.0</td>\n      <td>-1.230156</td>\n      <td>2.252526</td>\n      <td>0.295376</td>\n      <td>-0.009294</td>\n      <td>-0.005776</td>\n      <td>0.001543</td>\n      <td>2.768714</td>\n      <td>0.077510</td>\n      <td>0.185060</td>\n      <td>1.408411</td>\n      <td>1.237912</td>\n      <td>-0.567257</td>\n      <td>-0.487900</td>\n      <td>0.883319</td>\n      <td>-0.468772</td>\n    </tr>\n    <tr>\n      <th>4</th>\n      <td>69143040</td>\n      <td>1</td>\n      <td>48016.0</td>\n      <td>-1.303818</td>\n      <td>2.205093</td>\n      <td>0.307555</td>\n      <td>-0.009120</td>\n      <td>-0.006082</td>\n      <td>0.001501</td>\n      <td>2.768639</td>\n      <td>0.077479</td>\n      <td>0.185057</td>\n      <td>1.408400</td>\n      <td>1.237879</td>\n      <td>-0.532956</td>\n      <td>-0.458018</td>\n      <td>0.896930</td>\n      <td>-0.442172</td>\n    </tr>\n    <tr>\n      <th>6</th>\n      <td>69154560</td>\n      <td>1</td>\n      <td>48024.0</td>\n      <td>-1.376042</td>\n      <td>2.155230</td>\n      <td>0.319395</td>\n      <td>-0.008935</td>\n      <td>-0.006383</td>\n      <td>0.001458</td>\n      <td>2.768562</td>\n      <td>0.077449</td>\n      <td>0.185055</td>\n      <td>1.408389</td>\n      <td>1.237846</td>\n      <td>-0.498569</td>\n      <td>-0.428134</td>\n      <td>0.909742</td>\n      <td>-0.415174</td>\n    </tr>\n    <tr>\n      <th>8</th>\n      <td>69166080</td>\n      <td>1</td>\n      <td>48032.0</td>\n      <td>-1.446743</td>\n      <td>2.102983</td>\n      <td>0.330881</td>\n      <td>-0.008739</td>\n      <td>-0.006678</td>\n      <td>0.001413</td>\n      <td>2.768484</td>\n      <td>0.077419</td>\n      <td>0.185053</td>\n      <td>1.408377</td>\n      <td>1.237814</td>\n      <td>-0.464100</td>\n      <td>-0.398247</td>\n      <td>0.921742</td>\n      <td>-0.387803</td>\n    </tr>\n    <tr>\n      <th>...</th>\n      <td>...</td>\n      <td>...</td>\n      <td>...</td>\n      <td>...</td>\n      <td>...</td>\n      <td>...</td>\n      <td>...</td>\n      <td>...</td>\n      <td>...</td>\n      <td>...</td>\n      <td>...</td>\n      <td>...</td>\n      <td>...</td>\n      <td>...</td>\n      <td>...</td>\n      <td>...</td>\n      <td>...</td>\n      <td>...</td>\n    </tr>\n    <tr>\n      <th>37501</th>\n      <td>90673920</td>\n      <td>10</td>\n      <td>62968.0</td>\n      <td>0.866426</td>\n      <td>3.345069</td>\n      <td>0.106701</td>\n      <td>-0.008568</td>\n      <td>0.001904</td>\n      <td>-0.000529</td>\n      <td>3.147865</td>\n      <td>0.104630</td>\n      <td>0.066709</td>\n      <td>-1.344501</td>\n      <td>-0.805614</td>\n      <td>3.466036</td>\n      <td>-2.745134</td>\n      <td>-0.922434</td>\n      <td>-0.386154</td>\n    </tr>\n    <tr>\n      <th>37503</th>\n      <td>90685440</td>\n      <td>10</td>\n      <td>62976.0</td>\n      <td>0.797684</td>\n      <td>3.359532</td>\n      <td>0.102446</td>\n      <td>-0.008616</td>\n      <td>0.001712</td>\n      <td>-0.000535</td>\n      <td>3.147855</td>\n      <td>0.104630</td>\n      <td>0.066710</td>\n      <td>-1.344505</td>\n      <td>-0.805542</td>\n      <td>3.486312</td>\n      <td>-2.720576</td>\n      <td>-0.912674</td>\n      <td>-0.408689</td>\n    </tr>\n    <tr>\n      <th>37505</th>\n      <td>90696960</td>\n      <td>10</td>\n      <td>62984.0</td>\n      <td>0.728575</td>\n      <td>3.372451</td>\n      <td>0.098143</td>\n      <td>-0.008660</td>\n      <td>0.001518</td>\n      <td>-0.000541</td>\n      <td>3.147844</td>\n      <td>0.104631</td>\n      <td>0.066710</td>\n      <td>-1.344509</td>\n      <td>-0.805467</td>\n      <td>3.506618</td>\n      <td>-2.696021</td>\n      <td>-0.902364</td>\n      <td>-0.430974</td>\n    </tr>\n    <tr>\n      <th>37507</th>\n      <td>90708480</td>\n      <td>10</td>\n      <td>62992.0</td>\n      <td>0.659129</td>\n      <td>3.383816</td>\n      <td>0.093796</td>\n      <td>-0.008700</td>\n      <td>0.001323</td>\n      <td>-0.000546</td>\n      <td>3.147833</td>\n      <td>0.104631</td>\n      <td>0.066711</td>\n      <td>-1.344513</td>\n      <td>-0.805389</td>\n      <td>3.526955</td>\n      <td>-2.671469</td>\n      <td>-0.891512</td>\n      <td>-0.452997</td>\n    </tr>\n    <tr>\n      <th>37509</th>\n      <td>90720000</td>\n      <td>10</td>\n      <td>63000.0</td>\n      <td>0.589378</td>\n      <td>3.393618</td>\n      <td>0.089405</td>\n      <td>-0.008737</td>\n      <td>0.001127</td>\n      <td>-0.000551</td>\n      <td>3.147822</td>\n      <td>0.104632</td>\n      <td>0.066711</td>\n      <td>-1.344516</td>\n      <td>-0.805309</td>\n      <td>3.547326</td>\n      <td>-2.646919</td>\n      <td>-0.880124</td>\n      <td>-0.474744</td>\n    </tr>\n  </tbody>\n</table>\n<p>18760 rows × 18 columns</p>\n</div>"
     },
     "metadata": {},
     "execution_count": 29
    }
   ],
   "source": [
    "elt"
   ]
  },
  {
   "cell_type": "code",
   "execution_count": 23,
   "metadata": {},
   "outputs": [
    {
     "output_type": "execute_result",
     "data": {
      "text/plain": [
       "2.0886893088652876"
      ]
     },
     "metadata": {},
     "execution_count": 23
    }
   ],
   "source": [
    "np.arctan2(0.86, -0.49)"
   ]
  },
  {
   "cell_type": "code",
   "execution_count": 30,
   "metadata": {},
   "outputs": [
    {
     "output_type": "execute_result",
     "data": {
      "text/plain": [
       "             Mx        My         M\n",
       "0      0.868921 -0.494952 -0.517779\n",
       "1      0.876218 -0.481916       NaN\n",
       "2      0.883319 -0.468772 -0.487900\n",
       "3      0.890224 -0.455523       NaN\n",
       "4      0.896930 -0.442172 -0.458018\n",
       "...         ...       ...       ...\n",
       "37505 -0.902364 -0.430974 -2.696021\n",
       "37506 -0.897006 -0.442019       NaN\n",
       "37507 -0.891512 -0.452997 -2.671469\n",
       "37508 -0.885885 -0.463906       NaN\n",
       "37509 -0.880124 -0.474744 -2.646919\n",
       "\n",
       "[37510 rows x 3 columns]"
      ],
      "text/html": "<div>\n<style scoped>\n    .dataframe tbody tr th:only-of-type {\n        vertical-align: middle;\n    }\n\n    .dataframe tbody tr th {\n        vertical-align: top;\n    }\n\n    .dataframe thead th {\n        text-align: right;\n    }\n</style>\n<table border=\"1\" class=\"dataframe\">\n  <thead>\n    <tr style=\"text-align: right;\">\n      <th></th>\n      <th>Mx</th>\n      <th>My</th>\n      <th>M</th>\n    </tr>\n  </thead>\n  <tbody>\n    <tr>\n      <th>0</th>\n      <td>0.868921</td>\n      <td>-0.494952</td>\n      <td>-0.517779</td>\n    </tr>\n    <tr>\n      <th>1</th>\n      <td>0.876218</td>\n      <td>-0.481916</td>\n      <td>NaN</td>\n    </tr>\n    <tr>\n      <th>2</th>\n      <td>0.883319</td>\n      <td>-0.468772</td>\n      <td>-0.487900</td>\n    </tr>\n    <tr>\n      <th>3</th>\n      <td>0.890224</td>\n      <td>-0.455523</td>\n      <td>NaN</td>\n    </tr>\n    <tr>\n      <th>4</th>\n      <td>0.896930</td>\n      <td>-0.442172</td>\n      <td>-0.458018</td>\n    </tr>\n    <tr>\n      <th>...</th>\n      <td>...</td>\n      <td>...</td>\n      <td>...</td>\n    </tr>\n    <tr>\n      <th>37505</th>\n      <td>-0.902364</td>\n      <td>-0.430974</td>\n      <td>-2.696021</td>\n    </tr>\n    <tr>\n      <th>37506</th>\n      <td>-0.897006</td>\n      <td>-0.442019</td>\n      <td>NaN</td>\n    </tr>\n    <tr>\n      <th>37507</th>\n      <td>-0.891512</td>\n      <td>-0.452997</td>\n      <td>-2.671469</td>\n    </tr>\n    <tr>\n      <th>37508</th>\n      <td>-0.885885</td>\n      <td>-0.463906</td>\n      <td>NaN</td>\n    </tr>\n    <tr>\n      <th>37509</th>\n      <td>-0.880124</td>\n      <td>-0.474744</td>\n      <td>-2.646919</td>\n    </tr>\n  </tbody>\n</table>\n<p>37510 rows × 3 columns</p>\n</div>"
     },
     "metadata": {},
     "execution_count": 30
    }
   ],
   "source": [
    "elt_out[['Mx', 'My', 'M']]"
   ]
  },
  {
   "cell_type": "code",
   "execution_count": 19,
   "metadata": {},
   "outputs": [
    {
     "output_type": "execute_result",
     "data": {
      "text/plain": [
       "0       -0.494952\n",
       "1       -0.481916\n",
       "2       -0.468772\n",
       "3       -0.455523\n",
       "4       -0.442172\n",
       "           ...   \n",
       "37505   -0.430974\n",
       "37506   -0.442019\n",
       "37507   -0.452997\n",
       "37508   -0.463906\n",
       "37509   -0.474744\n",
       "Name: My, Length: 37510, dtype: float64"
      ]
     },
     "metadata": {},
     "execution_count": 19
    }
   ],
   "source": [
    "elt_out.My"
   ]
  },
  {
   "cell_type": "code",
   "execution_count": 7,
   "metadata": {},
   "outputs": [],
   "source": [
    "# Spline orbital elements\n",
    "df_elt = spline_ast_elt(elt=df_ast, ts=ts)"
   ]
  },
  {
   "cell_type": "code",
   "execution_count": 8,
   "metadata": {},
   "outputs": [
    {
     "output_type": "execute_result",
     "data": {
      "text/plain": [
       "       AsteroidID      mjd        qx        qy        qz        vx        vy  \\\n",
       "0               1  48000.0 -1.155142  2.297488  0.282872 -0.009457 -0.005464   \n",
       "1               1  48004.0 -1.192813  2.275319  0.289164 -0.009377 -0.005620   \n",
       "2               1  48008.0 -1.230156  2.252526  0.295376 -0.009294 -0.005776   \n",
       "3               1  48012.0 -1.267161  2.229116  0.301507 -0.009208 -0.005929   \n",
       "4               1  48016.0 -1.303818  2.205093  0.307555 -0.009120 -0.006082   \n",
       "...           ...      ...       ...       ...       ...       ...       ...   \n",
       "37505          10  62984.0  0.728575  3.372451  0.098143 -0.008660  0.001518   \n",
       "37506          10  62988.0  0.693892  3.378329  0.095975 -0.008681  0.001421   \n",
       "37507          10  62992.0  0.659129  3.383816  0.093796 -0.008700  0.001323   \n",
       "37508          10  62996.0  0.624289  3.388913  0.091606 -0.008719  0.001225   \n",
       "37509          10  63000.0  0.589378  3.393618  0.089405 -0.008737  0.001127   \n",
       "\n",
       "             vz  \n",
       "0      0.001583  \n",
       "1      0.001563  \n",
       "2      0.001543  \n",
       "3      0.001522  \n",
       "4      0.001501  \n",
       "...         ...  \n",
       "37505 -0.000541  \n",
       "37506 -0.000543  \n",
       "37507 -0.000546  \n",
       "37508 -0.000549  \n",
       "37509 -0.000551  \n",
       "\n",
       "[37510 rows x 8 columns]"
      ],
      "text/html": "<div>\n<style scoped>\n    .dataframe tbody tr th:only-of-type {\n        vertical-align: middle;\n    }\n\n    .dataframe tbody tr th {\n        vertical-align: top;\n    }\n\n    .dataframe thead th {\n        text-align: right;\n    }\n</style>\n<table border=\"1\" class=\"dataframe\">\n  <thead>\n    <tr style=\"text-align: right;\">\n      <th></th>\n      <th>AsteroidID</th>\n      <th>mjd</th>\n      <th>qx</th>\n      <th>qy</th>\n      <th>qz</th>\n      <th>vx</th>\n      <th>vy</th>\n      <th>vz</th>\n    </tr>\n  </thead>\n  <tbody>\n    <tr>\n      <th>0</th>\n      <td>1</td>\n      <td>48000.0</td>\n      <td>-1.155142</td>\n      <td>2.297488</td>\n      <td>0.282872</td>\n      <td>-0.009457</td>\n      <td>-0.005464</td>\n      <td>0.001583</td>\n    </tr>\n    <tr>\n      <th>1</th>\n      <td>1</td>\n      <td>48004.0</td>\n      <td>-1.192813</td>\n      <td>2.275319</td>\n      <td>0.289164</td>\n      <td>-0.009377</td>\n      <td>-0.005620</td>\n      <td>0.001563</td>\n    </tr>\n    <tr>\n      <th>2</th>\n      <td>1</td>\n      <td>48008.0</td>\n      <td>-1.230156</td>\n      <td>2.252526</td>\n      <td>0.295376</td>\n      <td>-0.009294</td>\n      <td>-0.005776</td>\n      <td>0.001543</td>\n    </tr>\n    <tr>\n      <th>3</th>\n      <td>1</td>\n      <td>48012.0</td>\n      <td>-1.267161</td>\n      <td>2.229116</td>\n      <td>0.301507</td>\n      <td>-0.009208</td>\n      <td>-0.005929</td>\n      <td>0.001522</td>\n    </tr>\n    <tr>\n      <th>4</th>\n      <td>1</td>\n      <td>48016.0</td>\n      <td>-1.303818</td>\n      <td>2.205093</td>\n      <td>0.307555</td>\n      <td>-0.009120</td>\n      <td>-0.006082</td>\n      <td>0.001501</td>\n    </tr>\n    <tr>\n      <th>...</th>\n      <td>...</td>\n      <td>...</td>\n      <td>...</td>\n      <td>...</td>\n      <td>...</td>\n      <td>...</td>\n      <td>...</td>\n      <td>...</td>\n    </tr>\n    <tr>\n      <th>37505</th>\n      <td>10</td>\n      <td>62984.0</td>\n      <td>0.728575</td>\n      <td>3.372451</td>\n      <td>0.098143</td>\n      <td>-0.008660</td>\n      <td>0.001518</td>\n      <td>-0.000541</td>\n    </tr>\n    <tr>\n      <th>37506</th>\n      <td>10</td>\n      <td>62988.0</td>\n      <td>0.693892</td>\n      <td>3.378329</td>\n      <td>0.095975</td>\n      <td>-0.008681</td>\n      <td>0.001421</td>\n      <td>-0.000543</td>\n    </tr>\n    <tr>\n      <th>37507</th>\n      <td>10</td>\n      <td>62992.0</td>\n      <td>0.659129</td>\n      <td>3.383816</td>\n      <td>0.093796</td>\n      <td>-0.008700</td>\n      <td>0.001323</td>\n      <td>-0.000546</td>\n    </tr>\n    <tr>\n      <th>37508</th>\n      <td>10</td>\n      <td>62996.0</td>\n      <td>0.624289</td>\n      <td>3.388913</td>\n      <td>0.091606</td>\n      <td>-0.008719</td>\n      <td>0.001225</td>\n      <td>-0.000549</td>\n    </tr>\n    <tr>\n      <th>37509</th>\n      <td>10</td>\n      <td>63000.0</td>\n      <td>0.589378</td>\n      <td>3.393618</td>\n      <td>0.089405</td>\n      <td>-0.008737</td>\n      <td>0.001127</td>\n      <td>-0.000551</td>\n    </tr>\n  </tbody>\n</table>\n<p>37510 rows × 8 columns</p>\n</div>"
     },
     "metadata": {},
     "execution_count": 8
    }
   ],
   "source": [
    "df_elt"
   ]
  },
  {
   "cell_type": "code",
   "execution_count": 9,
   "metadata": {},
   "outputs": [],
   "source": [
    "# Spline vectors directly\n",
    "df_vec = spline_ast_vec(vec=df_ast, ts=ts)"
   ]
  },
  {
   "cell_type": "code",
   "execution_count": 10,
   "metadata": {},
   "outputs": [
    {
     "output_type": "execute_result",
     "data": {
      "text/plain": [
       "       AsteroidID      mjd        qx        qy        qz        vx        vy  \\\n",
       "0               1  48000.0 -1.155142  2.297488  0.282872 -0.009457 -0.005464   \n",
       "1               1  48004.0 -1.192813  2.275319  0.289164 -0.009377 -0.005620   \n",
       "2               1  48008.0 -1.230156  2.252526  0.295376 -0.009294 -0.005776   \n",
       "3               1  48012.0 -1.267161  2.229116  0.301507 -0.009208 -0.005929   \n",
       "4               1  48016.0 -1.303818  2.205093  0.307555 -0.009120 -0.006082   \n",
       "...           ...      ...       ...       ...       ...       ...       ...   \n",
       "37505          10  62984.0  0.728575  3.372451  0.098143 -0.008660  0.001518   \n",
       "37506          10  62988.0  0.693892  3.378329  0.095975 -0.008681  0.001421   \n",
       "37507          10  62992.0  0.659129  3.383816  0.093796 -0.008700  0.001323   \n",
       "37508          10  62996.0  0.624289  3.388913  0.091606 -0.008719  0.001225   \n",
       "37509          10  63000.0  0.589378  3.393618  0.089405 -0.008737  0.001127   \n",
       "\n",
       "             vz  \n",
       "0      0.001583  \n",
       "1      0.001563  \n",
       "2      0.001543  \n",
       "3      0.001522  \n",
       "4      0.001501  \n",
       "...         ...  \n",
       "37505 -0.000541  \n",
       "37506 -0.000543  \n",
       "37507 -0.000546  \n",
       "37508 -0.000549  \n",
       "37509 -0.000551  \n",
       "\n",
       "[37510 rows x 8 columns]"
      ],
      "text/html": "<div>\n<style scoped>\n    .dataframe tbody tr th:only-of-type {\n        vertical-align: middle;\n    }\n\n    .dataframe tbody tr th {\n        vertical-align: top;\n    }\n\n    .dataframe thead th {\n        text-align: right;\n    }\n</style>\n<table border=\"1\" class=\"dataframe\">\n  <thead>\n    <tr style=\"text-align: right;\">\n      <th></th>\n      <th>AsteroidID</th>\n      <th>mjd</th>\n      <th>qx</th>\n      <th>qy</th>\n      <th>qz</th>\n      <th>vx</th>\n      <th>vy</th>\n      <th>vz</th>\n    </tr>\n  </thead>\n  <tbody>\n    <tr>\n      <th>0</th>\n      <td>1</td>\n      <td>48000.0</td>\n      <td>-1.155142</td>\n      <td>2.297488</td>\n      <td>0.282872</td>\n      <td>-0.009457</td>\n      <td>-0.005464</td>\n      <td>0.001583</td>\n    </tr>\n    <tr>\n      <th>1</th>\n      <td>1</td>\n      <td>48004.0</td>\n      <td>-1.192813</td>\n      <td>2.275319</td>\n      <td>0.289164</td>\n      <td>-0.009377</td>\n      <td>-0.005620</td>\n      <td>0.001563</td>\n    </tr>\n    <tr>\n      <th>2</th>\n      <td>1</td>\n      <td>48008.0</td>\n      <td>-1.230156</td>\n      <td>2.252526</td>\n      <td>0.295376</td>\n      <td>-0.009294</td>\n      <td>-0.005776</td>\n      <td>0.001543</td>\n    </tr>\n    <tr>\n      <th>3</th>\n      <td>1</td>\n      <td>48012.0</td>\n      <td>-1.267161</td>\n      <td>2.229116</td>\n      <td>0.301507</td>\n      <td>-0.009208</td>\n      <td>-0.005929</td>\n      <td>0.001522</td>\n    </tr>\n    <tr>\n      <th>4</th>\n      <td>1</td>\n      <td>48016.0</td>\n      <td>-1.303818</td>\n      <td>2.205093</td>\n      <td>0.307555</td>\n      <td>-0.009120</td>\n      <td>-0.006082</td>\n      <td>0.001501</td>\n    </tr>\n    <tr>\n      <th>...</th>\n      <td>...</td>\n      <td>...</td>\n      <td>...</td>\n      <td>...</td>\n      <td>...</td>\n      <td>...</td>\n      <td>...</td>\n      <td>...</td>\n    </tr>\n    <tr>\n      <th>37505</th>\n      <td>10</td>\n      <td>62984.0</td>\n      <td>0.728575</td>\n      <td>3.372451</td>\n      <td>0.098143</td>\n      <td>-0.008660</td>\n      <td>0.001518</td>\n      <td>-0.000541</td>\n    </tr>\n    <tr>\n      <th>37506</th>\n      <td>10</td>\n      <td>62988.0</td>\n      <td>0.693892</td>\n      <td>3.378329</td>\n      <td>0.095975</td>\n      <td>-0.008681</td>\n      <td>0.001421</td>\n      <td>-0.000543</td>\n    </tr>\n    <tr>\n      <th>37507</th>\n      <td>10</td>\n      <td>62992.0</td>\n      <td>0.659129</td>\n      <td>3.383816</td>\n      <td>0.093796</td>\n      <td>-0.008700</td>\n      <td>0.001323</td>\n      <td>-0.000546</td>\n    </tr>\n    <tr>\n      <th>37508</th>\n      <td>10</td>\n      <td>62996.0</td>\n      <td>0.624289</td>\n      <td>3.388913</td>\n      <td>0.091606</td>\n      <td>-0.008719</td>\n      <td>0.001225</td>\n      <td>-0.000549</td>\n    </tr>\n    <tr>\n      <th>37509</th>\n      <td>10</td>\n      <td>63000.0</td>\n      <td>0.589378</td>\n      <td>3.393618</td>\n      <td>0.089405</td>\n      <td>-0.008737</td>\n      <td>0.001127</td>\n      <td>-0.000551</td>\n    </tr>\n  </tbody>\n</table>\n<p>37510 rows × 8 columns</p>\n</div>"
     },
     "metadata": {},
     "execution_count": 10
    }
   ],
   "source": [
    "df_vec"
   ]
  },
  {
   "cell_type": "code",
   "execution_count": null,
   "metadata": {},
   "outputs": [],
   "source": []
  }
 ],
 "metadata": {
  "kernelspec": {
   "display_name": "kepler",
   "language": "python",
   "name": "kepler"
  },
  "language_info": {
   "codemirror_mode": {
    "name": "ipython",
    "version": 3
   },
   "file_extension": ".py",
   "mimetype": "text/x-python",
   "name": "python",
   "nbconvert_exporter": "python",
   "pygments_lexer": "ipython3",
   "version": "3.8.5"
  }
 },
 "nbformat": 4,
 "nbformat_minor": 4
}