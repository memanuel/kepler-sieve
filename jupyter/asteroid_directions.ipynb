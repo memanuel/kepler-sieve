{
 "cells": [
  {
   "cell_type": "code",
   "execution_count": 1,
   "metadata": {},
   "outputs": [],
   "source": [
    "# Core\n",
    "import numpy as np\n",
    "import pandas as pd\n",
    "from scipy.interpolate import CubicSpline"
   ]
  },
  {
   "cell_type": "code",
   "execution_count": 2,
   "metadata": {},
   "outputs": [],
   "source": [
    "# Local imports\n",
    "import kepler_sieve\n",
    "# from asteroid_element import get_asteroids\n",
    "from asteroid_data import load_ast_vectors, load_ast_data, ast_add_earth_vectors, ast_add_earth_pos, ast_add_sun_vectors\n",
    "from asteroid_spline import spline_ast_vec, spline_ast_elt\n",
    "from db_config import db_engine\n",
    "from db_utils import sp2df"
   ]
  },
  {
   "cell_type": "code",
   "execution_count": 3,
   "metadata": {},
   "outputs": [],
   "source": [
    "# df_ast_vectors = load_ast_vectors(n0=1, n1=11)"
   ]
  },
  {
   "cell_type": "code",
   "execution_count": 4,
   "metadata": {},
   "outputs": [],
   "source": [
    "# df_ast_data = load_ast_data(n0=0, n1=10)"
   ]
  },
  {
   "cell_type": "code",
   "execution_count": 5,
   "metadata": {},
   "outputs": [],
   "source": [
    "df_ast = load_ast_data(n0=1, n1=11)"
   ]
  },
  {
   "cell_type": "code",
   "execution_count": 6,
   "metadata": {},
   "outputs": [],
   "source": [
    "ast_add_earth_pos(df_ast)"
   ]
  },
  {
   "cell_type": "code",
   "execution_count": 7,
   "metadata": {},
   "outputs": [
    {
     "output_type": "execute_result",
     "data": {
      "text/plain": [
       "         TimeID  AsteroidID      mjd        qx        qy        qz        vx  \\\n",
       "0      69120000           1  48000.0 -1.155142  2.297488  0.282872 -0.009457   \n",
       "1      69125760           1  48004.0 -1.192813  2.275319  0.289164 -0.009377   \n",
       "2      69131520           1  48008.0 -1.230156  2.252526  0.295376 -0.009294   \n",
       "3      69137280           1  48012.0 -1.267161  2.229116  0.301507 -0.009208   \n",
       "4      69143040           1  48016.0 -1.303818  2.205093  0.307555 -0.009120   \n",
       "...         ...         ...      ...       ...       ...       ...       ...   \n",
       "37505  90696960          10  62984.0  0.728575  3.372451  0.098143 -0.008660   \n",
       "37506  90702720          10  62988.0  0.693892  3.378329  0.095975 -0.008681   \n",
       "37507  90708480          10  62992.0  0.659129  3.383816  0.093796 -0.008700   \n",
       "37508  90714240          10  62996.0  0.624289  3.388913  0.091606 -0.008719   \n",
       "37509  90720000          10  63000.0  0.589378  3.393618  0.089405 -0.008737   \n",
       "\n",
       "             vy        vz         a         e       inc     Omega     omega  \\\n",
       "0     -0.005464  0.001583  2.768788  0.077540  0.185062  1.408422  1.237946   \n",
       "1     -0.005620  0.001563  2.768752  0.077525  0.185061  1.408417  1.237928   \n",
       "2     -0.005776  0.001543  2.768714  0.077510  0.185060  1.408411  1.237912   \n",
       "3     -0.005929  0.001522  2.768677  0.077495  0.185059  1.408406  1.237895   \n",
       "4     -0.006082  0.001501  2.768639  0.077479  0.185057  1.408400  1.237879   \n",
       "...         ...       ...       ...       ...       ...       ...       ...   \n",
       "37505  0.001518 -0.000541  3.147844  0.104631  0.066710 -1.344509 -0.805467   \n",
       "37506  0.001421 -0.000543  3.147839  0.104631  0.066711 -1.344511 -0.805428   \n",
       "37507  0.001323 -0.000546  3.147833  0.104631  0.066711 -1.344513 -0.805389   \n",
       "37508  0.001225 -0.000549  3.147828  0.104632  0.066711 -1.344515 -0.805349   \n",
       "37509  0.001127 -0.000551  3.147822  0.104632  0.066711 -1.344516 -0.805309   \n",
       "\n",
       "              f         M  earth_qx  earth_qy  earth_qz  \n",
       "0     -0.601468 -0.517779 -0.880033 -0.483797 -0.000050  \n",
       "1     -0.584374 -0.502840 -0.845941 -0.543195 -0.000054  \n",
       "2     -0.567257 -0.487900 -0.807882 -0.600059 -0.000056  \n",
       "3     -0.550118 -0.472959 -0.766061 -0.654113 -0.000055  \n",
       "4     -0.532956 -0.458018 -0.720707 -0.705117 -0.000054  \n",
       "...         ...       ...       ...       ...       ...  \n",
       "37505  3.506618 -2.696021 -0.804421 -0.605790  0.000125  \n",
       "37506  3.516782 -2.683744 -0.762203 -0.659471  0.000130  \n",
       "37507  3.526955 -2.671469 -0.716489 -0.710085  0.000132  \n",
       "37508  3.537136 -2.659194 -0.667499 -0.757430  0.000132  \n",
       "37509  3.547326 -2.646919 -0.615447 -0.801313  0.000134  \n",
       "\n",
       "[37510 rows x 19 columns]"
      ],
      "text/html": "<div>\n<style scoped>\n    .dataframe tbody tr th:only-of-type {\n        vertical-align: middle;\n    }\n\n    .dataframe tbody tr th {\n        vertical-align: top;\n    }\n\n    .dataframe thead th {\n        text-align: right;\n    }\n</style>\n<table border=\"1\" class=\"dataframe\">\n  <thead>\n    <tr style=\"text-align: right;\">\n      <th></th>\n      <th>TimeID</th>\n      <th>AsteroidID</th>\n      <th>mjd</th>\n      <th>qx</th>\n      <th>qy</th>\n      <th>qz</th>\n      <th>vx</th>\n      <th>vy</th>\n      <th>vz</th>\n      <th>a</th>\n      <th>e</th>\n      <th>inc</th>\n      <th>Omega</th>\n      <th>omega</th>\n      <th>f</th>\n      <th>M</th>\n      <th>earth_qx</th>\n      <th>earth_qy</th>\n      <th>earth_qz</th>\n    </tr>\n  </thead>\n  <tbody>\n    <tr>\n      <th>0</th>\n      <td>69120000</td>\n      <td>1</td>\n      <td>48000.0</td>\n      <td>-1.155142</td>\n      <td>2.297488</td>\n      <td>0.282872</td>\n      <td>-0.009457</td>\n      <td>-0.005464</td>\n      <td>0.001583</td>\n      <td>2.768788</td>\n      <td>0.077540</td>\n      <td>0.185062</td>\n      <td>1.408422</td>\n      <td>1.237946</td>\n      <td>-0.601468</td>\n      <td>-0.517779</td>\n      <td>-0.880033</td>\n      <td>-0.483797</td>\n      <td>-0.000050</td>\n    </tr>\n    <tr>\n      <th>1</th>\n      <td>69125760</td>\n      <td>1</td>\n      <td>48004.0</td>\n      <td>-1.192813</td>\n      <td>2.275319</td>\n      <td>0.289164</td>\n      <td>-0.009377</td>\n      <td>-0.005620</td>\n      <td>0.001563</td>\n      <td>2.768752</td>\n      <td>0.077525</td>\n      <td>0.185061</td>\n      <td>1.408417</td>\n      <td>1.237928</td>\n      <td>-0.584374</td>\n      <td>-0.502840</td>\n      <td>-0.845941</td>\n      <td>-0.543195</td>\n      <td>-0.000054</td>\n    </tr>\n    <tr>\n      <th>2</th>\n      <td>69131520</td>\n      <td>1</td>\n      <td>48008.0</td>\n      <td>-1.230156</td>\n      <td>2.252526</td>\n      <td>0.295376</td>\n      <td>-0.009294</td>\n      <td>-0.005776</td>\n      <td>0.001543</td>\n      <td>2.768714</td>\n      <td>0.077510</td>\n      <td>0.185060</td>\n      <td>1.408411</td>\n      <td>1.237912</td>\n      <td>-0.567257</td>\n      <td>-0.487900</td>\n      <td>-0.807882</td>\n      <td>-0.600059</td>\n      <td>-0.000056</td>\n    </tr>\n    <tr>\n      <th>3</th>\n      <td>69137280</td>\n      <td>1</td>\n      <td>48012.0</td>\n      <td>-1.267161</td>\n      <td>2.229116</td>\n      <td>0.301507</td>\n      <td>-0.009208</td>\n      <td>-0.005929</td>\n      <td>0.001522</td>\n      <td>2.768677</td>\n      <td>0.077495</td>\n      <td>0.185059</td>\n      <td>1.408406</td>\n      <td>1.237895</td>\n      <td>-0.550118</td>\n      <td>-0.472959</td>\n      <td>-0.766061</td>\n      <td>-0.654113</td>\n      <td>-0.000055</td>\n    </tr>\n    <tr>\n      <th>4</th>\n      <td>69143040</td>\n      <td>1</td>\n      <td>48016.0</td>\n      <td>-1.303818</td>\n      <td>2.205093</td>\n      <td>0.307555</td>\n      <td>-0.009120</td>\n      <td>-0.006082</td>\n      <td>0.001501</td>\n      <td>2.768639</td>\n      <td>0.077479</td>\n      <td>0.185057</td>\n      <td>1.408400</td>\n      <td>1.237879</td>\n      <td>-0.532956</td>\n      <td>-0.458018</td>\n      <td>-0.720707</td>\n      <td>-0.705117</td>\n      <td>-0.000054</td>\n    </tr>\n    <tr>\n      <th>...</th>\n      <td>...</td>\n      <td>...</td>\n      <td>...</td>\n      <td>...</td>\n      <td>...</td>\n      <td>...</td>\n      <td>...</td>\n      <td>...</td>\n      <td>...</td>\n      <td>...</td>\n      <td>...</td>\n      <td>...</td>\n      <td>...</td>\n      <td>...</td>\n      <td>...</td>\n      <td>...</td>\n      <td>...</td>\n      <td>...</td>\n      <td>...</td>\n    </tr>\n    <tr>\n      <th>37505</th>\n      <td>90696960</td>\n      <td>10</td>\n      <td>62984.0</td>\n      <td>0.728575</td>\n      <td>3.372451</td>\n      <td>0.098143</td>\n      <td>-0.008660</td>\n      <td>0.001518</td>\n      <td>-0.000541</td>\n      <td>3.147844</td>\n      <td>0.104631</td>\n      <td>0.066710</td>\n      <td>-1.344509</td>\n      <td>-0.805467</td>\n      <td>3.506618</td>\n      <td>-2.696021</td>\n      <td>-0.804421</td>\n      <td>-0.605790</td>\n      <td>0.000125</td>\n    </tr>\n    <tr>\n      <th>37506</th>\n      <td>90702720</td>\n      <td>10</td>\n      <td>62988.0</td>\n      <td>0.693892</td>\n      <td>3.378329</td>\n      <td>0.095975</td>\n      <td>-0.008681</td>\n      <td>0.001421</td>\n      <td>-0.000543</td>\n      <td>3.147839</td>\n      <td>0.104631</td>\n      <td>0.066711</td>\n      <td>-1.344511</td>\n      <td>-0.805428</td>\n      <td>3.516782</td>\n      <td>-2.683744</td>\n      <td>-0.762203</td>\n      <td>-0.659471</td>\n      <td>0.000130</td>\n    </tr>\n    <tr>\n      <th>37507</th>\n      <td>90708480</td>\n      <td>10</td>\n      <td>62992.0</td>\n      <td>0.659129</td>\n      <td>3.383816</td>\n      <td>0.093796</td>\n      <td>-0.008700</td>\n      <td>0.001323</td>\n      <td>-0.000546</td>\n      <td>3.147833</td>\n      <td>0.104631</td>\n      <td>0.066711</td>\n      <td>-1.344513</td>\n      <td>-0.805389</td>\n      <td>3.526955</td>\n      <td>-2.671469</td>\n      <td>-0.716489</td>\n      <td>-0.710085</td>\n      <td>0.000132</td>\n    </tr>\n    <tr>\n      <th>37508</th>\n      <td>90714240</td>\n      <td>10</td>\n      <td>62996.0</td>\n      <td>0.624289</td>\n      <td>3.388913</td>\n      <td>0.091606</td>\n      <td>-0.008719</td>\n      <td>0.001225</td>\n      <td>-0.000549</td>\n      <td>3.147828</td>\n      <td>0.104632</td>\n      <td>0.066711</td>\n      <td>-1.344515</td>\n      <td>-0.805349</td>\n      <td>3.537136</td>\n      <td>-2.659194</td>\n      <td>-0.667499</td>\n      <td>-0.757430</td>\n      <td>0.000132</td>\n    </tr>\n    <tr>\n      <th>37509</th>\n      <td>90720000</td>\n      <td>10</td>\n      <td>63000.0</td>\n      <td>0.589378</td>\n      <td>3.393618</td>\n      <td>0.089405</td>\n      <td>-0.008737</td>\n      <td>0.001127</td>\n      <td>-0.000551</td>\n      <td>3.147822</td>\n      <td>0.104632</td>\n      <td>0.066711</td>\n      <td>-1.344516</td>\n      <td>-0.805309</td>\n      <td>3.547326</td>\n      <td>-2.646919</td>\n      <td>-0.615447</td>\n      <td>-0.801313</td>\n      <td>0.000134</td>\n    </tr>\n  </tbody>\n</table>\n<p>37510 rows × 19 columns</p>\n</div>"
     },
     "metadata": {},
     "execution_count": 7
    }
   ],
   "source": [
    "df_ast"
   ]
  },
  {
   "cell_type": "code",
   "execution_count": 8,
   "metadata": {},
   "outputs": [],
   "source": [
    "# Sample dates to interpolate\n",
    "mjd = np.arange(59000, 59100, 0.25)"
   ]
  },
  {
   "cell_type": "code",
   "execution_count": 9,
   "metadata": {},
   "outputs": [],
   "source": [
    "# Spline vectors directly\n",
    "df_vec = spline_ast_vec(df_ast=df_ast, mjd=mjd)"
   ]
  },
  {
   "cell_type": "code",
   "execution_count": 10,
   "metadata": {},
   "outputs": [
    {
     "output_type": "execute_result",
     "data": {
      "text/plain": [
       "      AsteroidID       mjd        qx        qy        qz        vx        vy  \\\n",
       "0              1  59000.00  2.200915 -1.931843 -0.467561  0.006340  0.007130   \n",
       "1              1  59000.25  2.202500 -1.930060 -0.467797  0.006334  0.007136   \n",
       "2              1  59000.50  2.204082 -1.928275 -0.468033  0.006328  0.007141   \n",
       "3              1  59000.75  2.205664 -1.926489 -0.468268  0.006322  0.007147   \n",
       "4              1  59001.00  2.207243 -1.924702 -0.468503  0.006316  0.007152   \n",
       "...          ...       ...       ...       ...       ...       ...       ...   \n",
       "3995          10  59098.75 -0.902277  3.228486 -0.009105 -0.008493 -0.003236   \n",
       "3996          10  59099.00 -0.904400  3.227676 -0.009255 -0.008491 -0.003243   \n",
       "3997          10  59099.25 -0.906522  3.226865 -0.009406 -0.008489 -0.003249   \n",
       "3998          10  59099.50 -0.908644  3.226052 -0.009556 -0.008487 -0.003255   \n",
       "3999          10  59099.75 -0.910766  3.225237 -0.009707 -0.008486 -0.003262   \n",
       "\n",
       "            vz  \n",
       "0    -0.000945  \n",
       "1    -0.000943  \n",
       "2    -0.000942  \n",
       "3    -0.000941  \n",
       "4    -0.000939  \n",
       "...        ...  \n",
       "3995 -0.000602  \n",
       "3996 -0.000602  \n",
       "3997 -0.000602  \n",
       "3998 -0.000602  \n",
       "3999 -0.000602  \n",
       "\n",
       "[4000 rows x 8 columns]"
      ],
      "text/html": "<div>\n<style scoped>\n    .dataframe tbody tr th:only-of-type {\n        vertical-align: middle;\n    }\n\n    .dataframe tbody tr th {\n        vertical-align: top;\n    }\n\n    .dataframe thead th {\n        text-align: right;\n    }\n</style>\n<table border=\"1\" class=\"dataframe\">\n  <thead>\n    <tr style=\"text-align: right;\">\n      <th></th>\n      <th>AsteroidID</th>\n      <th>mjd</th>\n      <th>qx</th>\n      <th>qy</th>\n      <th>qz</th>\n      <th>vx</th>\n      <th>vy</th>\n      <th>vz</th>\n    </tr>\n  </thead>\n  <tbody>\n    <tr>\n      <th>0</th>\n      <td>1</td>\n      <td>59000.00</td>\n      <td>2.200915</td>\n      <td>-1.931843</td>\n      <td>-0.467561</td>\n      <td>0.006340</td>\n      <td>0.007130</td>\n      <td>-0.000945</td>\n    </tr>\n    <tr>\n      <th>1</th>\n      <td>1</td>\n      <td>59000.25</td>\n      <td>2.202500</td>\n      <td>-1.930060</td>\n      <td>-0.467797</td>\n      <td>0.006334</td>\n      <td>0.007136</td>\n      <td>-0.000943</td>\n    </tr>\n    <tr>\n      <th>2</th>\n      <td>1</td>\n      <td>59000.50</td>\n      <td>2.204082</td>\n      <td>-1.928275</td>\n      <td>-0.468033</td>\n      <td>0.006328</td>\n      <td>0.007141</td>\n      <td>-0.000942</td>\n    </tr>\n    <tr>\n      <th>3</th>\n      <td>1</td>\n      <td>59000.75</td>\n      <td>2.205664</td>\n      <td>-1.926489</td>\n      <td>-0.468268</td>\n      <td>0.006322</td>\n      <td>0.007147</td>\n      <td>-0.000941</td>\n    </tr>\n    <tr>\n      <th>4</th>\n      <td>1</td>\n      <td>59001.00</td>\n      <td>2.207243</td>\n      <td>-1.924702</td>\n      <td>-0.468503</td>\n      <td>0.006316</td>\n      <td>0.007152</td>\n      <td>-0.000939</td>\n    </tr>\n    <tr>\n      <th>...</th>\n      <td>...</td>\n      <td>...</td>\n      <td>...</td>\n      <td>...</td>\n      <td>...</td>\n      <td>...</td>\n      <td>...</td>\n      <td>...</td>\n    </tr>\n    <tr>\n      <th>3995</th>\n      <td>10</td>\n      <td>59098.75</td>\n      <td>-0.902277</td>\n      <td>3.228486</td>\n      <td>-0.009105</td>\n      <td>-0.008493</td>\n      <td>-0.003236</td>\n      <td>-0.000602</td>\n    </tr>\n    <tr>\n      <th>3996</th>\n      <td>10</td>\n      <td>59099.00</td>\n      <td>-0.904400</td>\n      <td>3.227676</td>\n      <td>-0.009255</td>\n      <td>-0.008491</td>\n      <td>-0.003243</td>\n      <td>-0.000602</td>\n    </tr>\n    <tr>\n      <th>3997</th>\n      <td>10</td>\n      <td>59099.25</td>\n      <td>-0.906522</td>\n      <td>3.226865</td>\n      <td>-0.009406</td>\n      <td>-0.008489</td>\n      <td>-0.003249</td>\n      <td>-0.000602</td>\n    </tr>\n    <tr>\n      <th>3998</th>\n      <td>10</td>\n      <td>59099.50</td>\n      <td>-0.908644</td>\n      <td>3.226052</td>\n      <td>-0.009556</td>\n      <td>-0.008487</td>\n      <td>-0.003255</td>\n      <td>-0.000602</td>\n    </tr>\n    <tr>\n      <th>3999</th>\n      <td>10</td>\n      <td>59099.75</td>\n      <td>-0.910766</td>\n      <td>3.225237</td>\n      <td>-0.009707</td>\n      <td>-0.008486</td>\n      <td>-0.003262</td>\n      <td>-0.000602</td>\n    </tr>\n  </tbody>\n</table>\n<p>4000 rows × 8 columns</p>\n</div>"
     },
     "metadata": {},
     "execution_count": 10
    }
   ],
   "source": [
    "df_vec"
   ]
  },
  {
   "cell_type": "code",
   "execution_count": 13,
   "metadata": {},
   "outputs": [],
   "source": [
    "# Spline orbital elements\n",
    "df_elt = spline_ast_elt(df_ast=df_ast, mjd=mjd)\n",
    "\n",
    "# Add sun position\n",
    "ast_add_earth_pos(df_ast=df_elt)\n",
    "ast_add_sun_vectors(df_ast=df_elt)"
   ]
  },
  {
   "cell_type": "code",
   "execution_count": 14,
   "metadata": {},
   "outputs": [
    {
     "output_type": "execute_result",
     "data": {
      "text/plain": [
       "      AsteroidID       mjd         a         e       inc     Omega     omega  \\\n",
       "0              1  59000.00  2.767657  0.077557  0.184806  1.401272  1.286860   \n",
       "1              1  59000.25  2.767654  0.077558  0.184806  1.401272  1.286859   \n",
       "2              1  59000.50  2.767652  0.077559  0.184806  1.401271  1.286858   \n",
       "3              1  59000.75  2.767650  0.077560  0.184806  1.401271  1.286856   \n",
       "4              1  59001.00  2.767647  0.077561  0.184806  1.401270  1.286855   \n",
       "...          ...       ...       ...       ...       ...       ...       ...   \n",
       "3995          10  59098.75  3.142588  0.112017  0.066875 -1.340438 -0.830428   \n",
       "3996          10  59099.00  3.142589  0.112016  0.066875 -1.340438 -0.830428   \n",
       "3997          10  59099.25  3.142589  0.112016  0.066875 -1.340438 -0.830429   \n",
       "3998          10  59099.50  3.142590  0.112016  0.066875 -1.340438 -0.830429   \n",
       "3999          10  59099.75  3.142590  0.112016  0.066875 -1.340438 -0.830429   \n",
       "\n",
       "             f         M  earth_qx  earth_qy  earth_qz    sun_qx    sun_qy  \\\n",
       "0    -3.401546  2.839411 -0.356169 -0.944135  0.000100 -0.356169 -0.944135   \n",
       "1    -3.400738  2.840346 -0.352203 -0.945632  0.000100 -0.352203 -0.945632   \n",
       "2    -3.399930  2.841282 -0.348231 -0.947111  0.000100 -0.348231 -0.947111   \n",
       "3    -3.399122  2.842217 -0.344252 -0.948574  0.000100 -0.344252 -0.948574   \n",
       "4    -3.398314  2.843153 -0.340268 -0.950019  0.000100 -0.340268 -0.950019   \n",
       "...        ...       ...       ...       ...       ...       ...       ...   \n",
       "3995 -2.261876 -2.089078  0.964427 -0.265909  0.000092  0.964427 -0.265909   \n",
       "3996 -2.262896 -2.088307  0.965510 -0.261785  0.000092  0.965510 -0.261785   \n",
       "3997 -2.263968 -2.087535  0.966576 -0.257655  0.000092  0.966576 -0.257655   \n",
       "3998 -2.265008 -2.086763  0.967625 -0.253521  0.000092  0.967625 -0.253521   \n",
       "3999 -2.265934 -2.085991  0.968655 -0.249382  0.000091  0.968655 -0.249382   \n",
       "\n",
       "        sun_qz    sun_vx    sun_vy        sun_vz  \n",
       "0     0.000100  0.015852 -0.006019  4.071973e-07  \n",
       "1     0.000100  0.015876 -0.005952  4.450600e-07  \n",
       "2     0.000100  0.015900 -0.005884  4.832676e-07  \n",
       "3     0.000100  0.015924 -0.005816  5.216532e-07  \n",
       "4     0.000100  0.015948 -0.005748  5.600449e-07  \n",
       "...        ...       ...       ...           ...  \n",
       "3995  0.000092  0.004368  0.016489 -9.391485e-07  \n",
       "3996  0.000092  0.004298  0.016508 -9.648162e-07  \n",
       "3997  0.000092  0.004228  0.016528 -9.893583e-07  \n",
       "3998  0.000092  0.004158  0.016547 -1.012715e-06  \n",
       "3999  0.000091  0.004088  0.016566 -1.034828e-06  \n",
       "\n",
       "[4000 rows x 18 columns]"
      ],
      "text/html": "<div>\n<style scoped>\n    .dataframe tbody tr th:only-of-type {\n        vertical-align: middle;\n    }\n\n    .dataframe tbody tr th {\n        vertical-align: top;\n    }\n\n    .dataframe thead th {\n        text-align: right;\n    }\n</style>\n<table border=\"1\" class=\"dataframe\">\n  <thead>\n    <tr style=\"text-align: right;\">\n      <th></th>\n      <th>AsteroidID</th>\n      <th>mjd</th>\n      <th>a</th>\n      <th>e</th>\n      <th>inc</th>\n      <th>Omega</th>\n      <th>omega</th>\n      <th>f</th>\n      <th>M</th>\n      <th>earth_qx</th>\n      <th>earth_qy</th>\n      <th>earth_qz</th>\n      <th>sun_qx</th>\n      <th>sun_qy</th>\n      <th>sun_qz</th>\n      <th>sun_vx</th>\n      <th>sun_vy</th>\n      <th>sun_vz</th>\n    </tr>\n  </thead>\n  <tbody>\n    <tr>\n      <th>0</th>\n      <td>1</td>\n      <td>59000.00</td>\n      <td>2.767657</td>\n      <td>0.077557</td>\n      <td>0.184806</td>\n      <td>1.401272</td>\n      <td>1.286860</td>\n      <td>-3.401546</td>\n      <td>2.839411</td>\n      <td>-0.356169</td>\n      <td>-0.944135</td>\n      <td>0.000100</td>\n      <td>-0.356169</td>\n      <td>-0.944135</td>\n      <td>0.000100</td>\n      <td>0.015852</td>\n      <td>-0.006019</td>\n      <td>4.071973e-07</td>\n    </tr>\n    <tr>\n      <th>1</th>\n      <td>1</td>\n      <td>59000.25</td>\n      <td>2.767654</td>\n      <td>0.077558</td>\n      <td>0.184806</td>\n      <td>1.401272</td>\n      <td>1.286859</td>\n      <td>-3.400738</td>\n      <td>2.840346</td>\n      <td>-0.352203</td>\n      <td>-0.945632</td>\n      <td>0.000100</td>\n      <td>-0.352203</td>\n      <td>-0.945632</td>\n      <td>0.000100</td>\n      <td>0.015876</td>\n      <td>-0.005952</td>\n      <td>4.450600e-07</td>\n    </tr>\n    <tr>\n      <th>2</th>\n      <td>1</td>\n      <td>59000.50</td>\n      <td>2.767652</td>\n      <td>0.077559</td>\n      <td>0.184806</td>\n      <td>1.401271</td>\n      <td>1.286858</td>\n      <td>-3.399930</td>\n      <td>2.841282</td>\n      <td>-0.348231</td>\n      <td>-0.947111</td>\n      <td>0.000100</td>\n      <td>-0.348231</td>\n      <td>-0.947111</td>\n      <td>0.000100</td>\n      <td>0.015900</td>\n      <td>-0.005884</td>\n      <td>4.832676e-07</td>\n    </tr>\n    <tr>\n      <th>3</th>\n      <td>1</td>\n      <td>59000.75</td>\n      <td>2.767650</td>\n      <td>0.077560</td>\n      <td>0.184806</td>\n      <td>1.401271</td>\n      <td>1.286856</td>\n      <td>-3.399122</td>\n      <td>2.842217</td>\n      <td>-0.344252</td>\n      <td>-0.948574</td>\n      <td>0.000100</td>\n      <td>-0.344252</td>\n      <td>-0.948574</td>\n      <td>0.000100</td>\n      <td>0.015924</td>\n      <td>-0.005816</td>\n      <td>5.216532e-07</td>\n    </tr>\n    <tr>\n      <th>4</th>\n      <td>1</td>\n      <td>59001.00</td>\n      <td>2.767647</td>\n      <td>0.077561</td>\n      <td>0.184806</td>\n      <td>1.401270</td>\n      <td>1.286855</td>\n      <td>-3.398314</td>\n      <td>2.843153</td>\n      <td>-0.340268</td>\n      <td>-0.950019</td>\n      <td>0.000100</td>\n      <td>-0.340268</td>\n      <td>-0.950019</td>\n      <td>0.000100</td>\n      <td>0.015948</td>\n      <td>-0.005748</td>\n      <td>5.600449e-07</td>\n    </tr>\n    <tr>\n      <th>...</th>\n      <td>...</td>\n      <td>...</td>\n      <td>...</td>\n      <td>...</td>\n      <td>...</td>\n      <td>...</td>\n      <td>...</td>\n      <td>...</td>\n      <td>...</td>\n      <td>...</td>\n      <td>...</td>\n      <td>...</td>\n      <td>...</td>\n      <td>...</td>\n      <td>...</td>\n      <td>...</td>\n      <td>...</td>\n      <td>...</td>\n    </tr>\n    <tr>\n      <th>3995</th>\n      <td>10</td>\n      <td>59098.75</td>\n      <td>3.142588</td>\n      <td>0.112017</td>\n      <td>0.066875</td>\n      <td>-1.340438</td>\n      <td>-0.830428</td>\n      <td>-2.261876</td>\n      <td>-2.089078</td>\n      <td>0.964427</td>\n      <td>-0.265909</td>\n      <td>0.000092</td>\n      <td>0.964427</td>\n      <td>-0.265909</td>\n      <td>0.000092</td>\n      <td>0.004368</td>\n      <td>0.016489</td>\n      <td>-9.391485e-07</td>\n    </tr>\n    <tr>\n      <th>3996</th>\n      <td>10</td>\n      <td>59099.00</td>\n      <td>3.142589</td>\n      <td>0.112016</td>\n      <td>0.066875</td>\n      <td>-1.340438</td>\n      <td>-0.830428</td>\n      <td>-2.262896</td>\n      <td>-2.088307</td>\n      <td>0.965510</td>\n      <td>-0.261785</td>\n      <td>0.000092</td>\n      <td>0.965510</td>\n      <td>-0.261785</td>\n      <td>0.000092</td>\n      <td>0.004298</td>\n      <td>0.016508</td>\n      <td>-9.648162e-07</td>\n    </tr>\n    <tr>\n      <th>3997</th>\n      <td>10</td>\n      <td>59099.25</td>\n      <td>3.142589</td>\n      <td>0.112016</td>\n      <td>0.066875</td>\n      <td>-1.340438</td>\n      <td>-0.830429</td>\n      <td>-2.263968</td>\n      <td>-2.087535</td>\n      <td>0.966576</td>\n      <td>-0.257655</td>\n      <td>0.000092</td>\n      <td>0.966576</td>\n      <td>-0.257655</td>\n      <td>0.000092</td>\n      <td>0.004228</td>\n      <td>0.016528</td>\n      <td>-9.893583e-07</td>\n    </tr>\n    <tr>\n      <th>3998</th>\n      <td>10</td>\n      <td>59099.50</td>\n      <td>3.142590</td>\n      <td>0.112016</td>\n      <td>0.066875</td>\n      <td>-1.340438</td>\n      <td>-0.830429</td>\n      <td>-2.265008</td>\n      <td>-2.086763</td>\n      <td>0.967625</td>\n      <td>-0.253521</td>\n      <td>0.000092</td>\n      <td>0.967625</td>\n      <td>-0.253521</td>\n      <td>0.000092</td>\n      <td>0.004158</td>\n      <td>0.016547</td>\n      <td>-1.012715e-06</td>\n    </tr>\n    <tr>\n      <th>3999</th>\n      <td>10</td>\n      <td>59099.75</td>\n      <td>3.142590</td>\n      <td>0.112016</td>\n      <td>0.066875</td>\n      <td>-1.340438</td>\n      <td>-0.830429</td>\n      <td>-2.265934</td>\n      <td>-2.085991</td>\n      <td>0.968655</td>\n      <td>-0.249382</td>\n      <td>0.000091</td>\n      <td>0.968655</td>\n      <td>-0.249382</td>\n      <td>0.000091</td>\n      <td>0.004088</td>\n      <td>0.016566</td>\n      <td>-1.034828e-06</td>\n    </tr>\n  </tbody>\n</table>\n<p>4000 rows × 18 columns</p>\n</div>"
     },
     "metadata": {},
     "execution_count": 14
    }
   ],
   "source": [
    "df_elt"
   ]
  },
  {
   "cell_type": "code",
   "execution_count": null,
   "metadata": {},
   "outputs": [],
   "source": []
  }
 ],
 "metadata": {
  "kernelspec": {
   "display_name": "kepler",
   "language": "python",
   "name": "kepler"
  },
  "language_info": {
   "codemirror_mode": {
    "name": "ipython",
    "version": 3
   },
   "file_extension": ".py",
   "mimetype": "text/x-python",
   "name": "python",
   "nbconvert_exporter": "python",
   "pygments_lexer": "ipython3",
   "version": "3.8.5"
  }
 },
 "nbformat": 4,
 "nbformat_minor": 4
}