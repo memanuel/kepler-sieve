{
 "cells": [
  {
   "cell_type": "code",
   "execution_count": 1,
   "metadata": {},
   "outputs": [],
   "source": [
    "# Core\n",
    "import numpy as np\n",
    "import pandas as pd\n",
    "from scipy.interpolate import CubicSpline, RectBivariateSpline\n",
    "\n",
    "# Astronomy\n",
    "import astropy\n",
    "from astropy.units import au, minute\n",
    "\n",
    "from typing import List, Optional"
   ]
  },
  {
   "cell_type": "code",
   "execution_count": 2,
   "metadata": {},
   "outputs": [],
   "source": [
    "# Local imports\n",
    "import kepler_sieve\n",
    "from asteroid_data import load_ast_pos\n",
    "from asteroid_spline import get_df_shape, make_spline_df, spline_ast_data\n",
    "# from asteroid_spline import make_spline_df, spline_ast_vec, spline_ast_elt\n",
    "from planets_interp import get_earth_pos\n",
    "from asteroid_direction import calc_dir_ast2obs, c\n",
    "from db_utils import sp2df, df2db\n",
    "import matplotlib.pyplot as plt"
   ]
  },
  {
   "cell_type": "code",
   "execution_count": 3,
   "metadata": {},
   "outputs": [],
   "source": [
    "# Inputs\n",
    "n0 = 0\n",
    "n1 = 100"
   ]
  },
  {
   "cell_type": "code",
   "execution_count": 4,
   "metadata": {},
   "outputs": [],
   "source": [
    "# Calculate the direction and light time\n",
    "df = calc_dir_ast2obs(n0=n0, n1=n1)"
   ]
  },
  {
   "cell_type": "code",
   "execution_count": 5,
   "metadata": {},
   "outputs": [
    {
     "output_type": "execute_result",
     "data": {
      "text/plain": [
       "        AsteroidID    TimeID          tAst    qAst_x    qAst_y    qAst_z  \\\n",
       "0                1  69120000  47999.983776 -1.155142  2.297488  0.282872   \n",
       "1                1  69125760  48003.983514 -1.192658  2.275412  0.289138   \n",
       "2                1  69131520  48007.983258 -1.230000  2.252623  0.295350   \n",
       "3                1  69137280  48011.983008 -1.267005  2.229217  0.301481   \n",
       "4                1  69143040  48015.982766 -1.303660  2.205197  0.307529   \n",
       "...            ...       ...           ...       ...       ...       ...   \n",
       "371344          99  90696960  62983.975925  2.347295  2.122368  0.009607   \n",
       "371345          99  90702720  62987.975892  2.326025  2.148681  0.017950   \n",
       "371346          99  90708480  62991.975875  2.304407  2.174673  0.026290   \n",
       "371347          99  90714240  62995.975873  2.282446  2.200342  0.034626   \n",
       "371348          99  90720000  62999.975885  2.260146  2.225685  0.042957   \n",
       "\n",
       "           tObs    qObs_x    qObs_y    qObs_z  LightTime        ux        uy  \\\n",
       "0       48000.0 -0.880033 -0.483797 -0.000050  23.362923 -0.097934  0.990084   \n",
       "1       48004.0 -0.845941 -0.543194 -0.000054  23.740465 -0.121519  0.987404   \n",
       "2       48008.0 -0.807882 -0.600059 -0.000056  24.108877 -0.145674  0.984069   \n",
       "3       48012.0 -0.766061 -0.654113 -0.000055  24.468004 -0.170329  0.980041   \n",
       "4       48016.0 -0.720707 -0.705117 -0.000054  24.817330 -0.195416  0.975287   \n",
       "...         ...       ...       ...       ...        ...       ...       ...   \n",
       "371344  62984.0 -0.804421 -0.605790  0.000125  34.668216  0.756050  0.654510   \n",
       "371345  62988.0 -0.762203 -0.659471  0.000130  34.715004  0.739820  0.672791   \n",
       "371346  62992.0 -0.716489 -0.710085  0.000132  34.740041  0.723167  0.690645   \n",
       "371347  62996.0 -0.667499 -0.757430  0.000132  34.743486  0.706111  0.708053   \n",
       "371348  63000.0 -0.615447 -0.801313  0.000134  34.725364  0.688671  0.725001   \n",
       "\n",
       "              uz  \n",
       "0       0.100715  \n",
       "1       0.101321  \n",
       "2       0.101916  \n",
       "3       0.102504  \n",
       "4       0.103088  \n",
       "...          ...  \n",
       "371344  0.002287  \n",
       "371345  0.004281  \n",
       "371346  0.006274  \n",
       "371347  0.008269  \n",
       "371348  0.010268  \n",
       "\n",
       "[371349 rows x 14 columns]"
      ],
      "text/html": "<div>\n<style scoped>\n    .dataframe tbody tr th:only-of-type {\n        vertical-align: middle;\n    }\n\n    .dataframe tbody tr th {\n        vertical-align: top;\n    }\n\n    .dataframe thead th {\n        text-align: right;\n    }\n</style>\n<table border=\"1\" class=\"dataframe\">\n  <thead>\n    <tr style=\"text-align: right;\">\n      <th></th>\n      <th>AsteroidID</th>\n      <th>TimeID</th>\n      <th>tAst</th>\n      <th>qAst_x</th>\n      <th>qAst_y</th>\n      <th>qAst_z</th>\n      <th>tObs</th>\n      <th>qObs_x</th>\n      <th>qObs_y</th>\n      <th>qObs_z</th>\n      <th>LightTime</th>\n      <th>ux</th>\n      <th>uy</th>\n      <th>uz</th>\n    </tr>\n  </thead>\n  <tbody>\n    <tr>\n      <th>0</th>\n      <td>1</td>\n      <td>69120000</td>\n      <td>47999.983776</td>\n      <td>-1.155142</td>\n      <td>2.297488</td>\n      <td>0.282872</td>\n      <td>48000.0</td>\n      <td>-0.880033</td>\n      <td>-0.483797</td>\n      <td>-0.000050</td>\n      <td>23.362923</td>\n      <td>-0.097934</td>\n      <td>0.990084</td>\n      <td>0.100715</td>\n    </tr>\n    <tr>\n      <th>1</th>\n      <td>1</td>\n      <td>69125760</td>\n      <td>48003.983514</td>\n      <td>-1.192658</td>\n      <td>2.275412</td>\n      <td>0.289138</td>\n      <td>48004.0</td>\n      <td>-0.845941</td>\n      <td>-0.543194</td>\n      <td>-0.000054</td>\n      <td>23.740465</td>\n      <td>-0.121519</td>\n      <td>0.987404</td>\n      <td>0.101321</td>\n    </tr>\n    <tr>\n      <th>2</th>\n      <td>1</td>\n      <td>69131520</td>\n      <td>48007.983258</td>\n      <td>-1.230000</td>\n      <td>2.252623</td>\n      <td>0.295350</td>\n      <td>48008.0</td>\n      <td>-0.807882</td>\n      <td>-0.600059</td>\n      <td>-0.000056</td>\n      <td>24.108877</td>\n      <td>-0.145674</td>\n      <td>0.984069</td>\n      <td>0.101916</td>\n    </tr>\n    <tr>\n      <th>3</th>\n      <td>1</td>\n      <td>69137280</td>\n      <td>48011.983008</td>\n      <td>-1.267005</td>\n      <td>2.229217</td>\n      <td>0.301481</td>\n      <td>48012.0</td>\n      <td>-0.766061</td>\n      <td>-0.654113</td>\n      <td>-0.000055</td>\n      <td>24.468004</td>\n      <td>-0.170329</td>\n      <td>0.980041</td>\n      <td>0.102504</td>\n    </tr>\n    <tr>\n      <th>4</th>\n      <td>1</td>\n      <td>69143040</td>\n      <td>48015.982766</td>\n      <td>-1.303660</td>\n      <td>2.205197</td>\n      <td>0.307529</td>\n      <td>48016.0</td>\n      <td>-0.720707</td>\n      <td>-0.705117</td>\n      <td>-0.000054</td>\n      <td>24.817330</td>\n      <td>-0.195416</td>\n      <td>0.975287</td>\n      <td>0.103088</td>\n    </tr>\n    <tr>\n      <th>...</th>\n      <td>...</td>\n      <td>...</td>\n      <td>...</td>\n      <td>...</td>\n      <td>...</td>\n      <td>...</td>\n      <td>...</td>\n      <td>...</td>\n      <td>...</td>\n      <td>...</td>\n      <td>...</td>\n      <td>...</td>\n      <td>...</td>\n      <td>...</td>\n    </tr>\n    <tr>\n      <th>371344</th>\n      <td>99</td>\n      <td>90696960</td>\n      <td>62983.975925</td>\n      <td>2.347295</td>\n      <td>2.122368</td>\n      <td>0.009607</td>\n      <td>62984.0</td>\n      <td>-0.804421</td>\n      <td>-0.605790</td>\n      <td>0.000125</td>\n      <td>34.668216</td>\n      <td>0.756050</td>\n      <td>0.654510</td>\n      <td>0.002287</td>\n    </tr>\n    <tr>\n      <th>371345</th>\n      <td>99</td>\n      <td>90702720</td>\n      <td>62987.975892</td>\n      <td>2.326025</td>\n      <td>2.148681</td>\n      <td>0.017950</td>\n      <td>62988.0</td>\n      <td>-0.762203</td>\n      <td>-0.659471</td>\n      <td>0.000130</td>\n      <td>34.715004</td>\n      <td>0.739820</td>\n      <td>0.672791</td>\n      <td>0.004281</td>\n    </tr>\n    <tr>\n      <th>371346</th>\n      <td>99</td>\n      <td>90708480</td>\n      <td>62991.975875</td>\n      <td>2.304407</td>\n      <td>2.174673</td>\n      <td>0.026290</td>\n      <td>62992.0</td>\n      <td>-0.716489</td>\n      <td>-0.710085</td>\n      <td>0.000132</td>\n      <td>34.740041</td>\n      <td>0.723167</td>\n      <td>0.690645</td>\n      <td>0.006274</td>\n    </tr>\n    <tr>\n      <th>371347</th>\n      <td>99</td>\n      <td>90714240</td>\n      <td>62995.975873</td>\n      <td>2.282446</td>\n      <td>2.200342</td>\n      <td>0.034626</td>\n      <td>62996.0</td>\n      <td>-0.667499</td>\n      <td>-0.757430</td>\n      <td>0.000132</td>\n      <td>34.743486</td>\n      <td>0.706111</td>\n      <td>0.708053</td>\n      <td>0.008269</td>\n    </tr>\n    <tr>\n      <th>371348</th>\n      <td>99</td>\n      <td>90720000</td>\n      <td>62999.975885</td>\n      <td>2.260146</td>\n      <td>2.225685</td>\n      <td>0.042957</td>\n      <td>63000.0</td>\n      <td>-0.615447</td>\n      <td>-0.801313</td>\n      <td>0.000134</td>\n      <td>34.725364</td>\n      <td>0.688671</td>\n      <td>0.725001</td>\n      <td>0.010268</td>\n    </tr>\n  </tbody>\n</table>\n<p>371349 rows × 14 columns</p>\n</div>"
     },
     "metadata": {},
     "execution_count": 5
    }
   ],
   "source": [
    "df"
   ]
  },
  {
   "cell_type": "code",
   "execution_count": null,
   "metadata": {},
   "outputs": [],
   "source": []
  }
 ],
 "metadata": {
  "kernelspec": {
   "display_name": "kepler",
   "language": "python",
   "name": "kepler"
  },
  "language_info": {
   "codemirror_mode": {
    "name": "ipython",
    "version": 3
   },
   "file_extension": ".py",
   "mimetype": "text/x-python",
   "name": "python",
   "nbconvert_exporter": "python",
   "pygments_lexer": "ipython3",
   "version": "3.8.5"
  }
 },
 "nbformat": 4,
 "nbformat_minor": 4
}