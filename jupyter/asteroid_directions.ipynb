{
 "cells": [
  {
   "cell_type": "code",
   "execution_count": 1,
   "metadata": {},
   "outputs": [],
   "source": [
    "# Core\n",
    "import numpy as np\n",
    "import pandas as pd\n",
    "from scipy.interpolate import CubicSpline"
   ]
  },
  {
   "cell_type": "code",
   "execution_count": 3,
   "metadata": {},
   "outputs": [],
   "source": [
    "# Local imports\n",
    "import kepler_sieve\n",
    "# from asteroid_element import get_asteroids\n",
    "from asteroid_data import load_ast_vectors, load_ast_data, ast_add_earth_vectors, ast_add_earth_pos\n",
    "from asteroid_spline import spline_ast_vec\n",
    "from db_config import db_engine\n",
    "from db_utils import sp2df"
   ]
  },
  {
   "cell_type": "code",
   "execution_count": 4,
   "metadata": {},
   "outputs": [],
   "source": [
    "# df_ast_vectors = load_ast_vectors(n0=1, n1=11)"
   ]
  },
  {
   "cell_type": "code",
   "execution_count": 5,
   "metadata": {},
   "outputs": [],
   "source": [
    "# df_ast_data = load_ast_data(n0=0, n1=10)"
   ]
  },
  {
   "cell_type": "code",
   "execution_count": 6,
   "metadata": {},
   "outputs": [],
   "source": [
    "df_ast = load_ast_data(n0=1, n1=11)"
   ]
  },
  {
   "cell_type": "code",
   "execution_count": 7,
   "metadata": {},
   "outputs": [],
   "source": [
    "ast_add_earth_pos(df_ast)"
   ]
  },
  {
   "cell_type": "code",
   "execution_count": 8,
   "metadata": {},
   "outputs": [
    {
     "output_type": "execute_result",
     "data": {
      "text/plain": [
       "         TimeID  AsteroidID      mjd        qx        qy        qz        vx  \\\n",
       "0      69120000           1  48000.0 -1.155142  2.297488  0.282872 -0.009457   \n",
       "1      69125760           1  48004.0 -1.192813  2.275319  0.289164 -0.009377   \n",
       "2      69131520           1  48008.0 -1.230156  2.252526  0.295376 -0.009294   \n",
       "3      69137280           1  48012.0 -1.267161  2.229116  0.301507 -0.009208   \n",
       "4      69143040           1  48016.0 -1.303818  2.205093  0.307555 -0.009120   \n",
       "...         ...         ...      ...       ...       ...       ...       ...   \n",
       "37505  90696960          10  62984.0  0.728575  3.372451  0.098143 -0.008660   \n",
       "37506  90702720          10  62988.0  0.693892  3.378329  0.095975 -0.008681   \n",
       "37507  90708480          10  62992.0  0.659129  3.383816  0.093796 -0.008700   \n",
       "37508  90714240          10  62996.0  0.624289  3.388913  0.091606 -0.008719   \n",
       "37509  90720000          10  63000.0  0.589378  3.393618  0.089405 -0.008737   \n",
       "\n",
       "             vy        vz         a         e       inc     Omega     omega  \\\n",
       "0     -0.005464  0.001583  2.768788  0.077540  0.185062  1.408422  1.237946   \n",
       "1     -0.005620  0.001563  2.768752  0.077525  0.185061  1.408417  1.237928   \n",
       "2     -0.005776  0.001543  2.768714  0.077510  0.185060  1.408411  1.237912   \n",
       "3     -0.005929  0.001522  2.768677  0.077495  0.185059  1.408406  1.237895   \n",
       "4     -0.006082  0.001501  2.768639  0.077479  0.185057  1.408400  1.237879   \n",
       "...         ...       ...       ...       ...       ...       ...       ...   \n",
       "37505  0.001518 -0.000541  3.147844  0.104631  0.066710 -1.344509 -0.805467   \n",
       "37506  0.001421 -0.000543  3.147839  0.104631  0.066711 -1.344511 -0.805428   \n",
       "37507  0.001323 -0.000546  3.147833  0.104631  0.066711 -1.344513 -0.805389   \n",
       "37508  0.001225 -0.000549  3.147828  0.104632  0.066711 -1.344515 -0.805349   \n",
       "37509  0.001127 -0.000551  3.147822  0.104632  0.066711 -1.344516 -0.805309   \n",
       "\n",
       "              f         M  earth_qx  earth_qy  earth_qz  \n",
       "0     -0.601468 -0.517779 -0.880033 -0.483797 -0.000050  \n",
       "1     -0.584374 -0.502840 -0.845941 -0.543195 -0.000054  \n",
       "2     -0.567257 -0.487900 -0.807882 -0.600059 -0.000056  \n",
       "3     -0.550118 -0.472959 -0.766061 -0.654113 -0.000055  \n",
       "4     -0.532956 -0.458018 -0.720707 -0.705117 -0.000054  \n",
       "...         ...       ...       ...       ...       ...  \n",
       "37505  3.506618 -2.696021 -0.804421 -0.605790  0.000125  \n",
       "37506  3.516782 -2.683744 -0.762203 -0.659471  0.000130  \n",
       "37507  3.526955 -2.671469 -0.716489 -0.710085  0.000132  \n",
       "37508  3.537136 -2.659194 -0.667499 -0.757430  0.000132  \n",
       "37509  3.547326 -2.646919 -0.615447 -0.801313  0.000134  \n",
       "\n",
       "[37510 rows x 19 columns]"
      ],
      "text/html": "<div>\n<style scoped>\n    .dataframe tbody tr th:only-of-type {\n        vertical-align: middle;\n    }\n\n    .dataframe tbody tr th {\n        vertical-align: top;\n    }\n\n    .dataframe thead th {\n        text-align: right;\n    }\n</style>\n<table border=\"1\" class=\"dataframe\">\n  <thead>\n    <tr style=\"text-align: right;\">\n      <th></th>\n      <th>TimeID</th>\n      <th>AsteroidID</th>\n      <th>mjd</th>\n      <th>qx</th>\n      <th>qy</th>\n      <th>qz</th>\n      <th>vx</th>\n      <th>vy</th>\n      <th>vz</th>\n      <th>a</th>\n      <th>e</th>\n      <th>inc</th>\n      <th>Omega</th>\n      <th>omega</th>\n      <th>f</th>\n      <th>M</th>\n      <th>earth_qx</th>\n      <th>earth_qy</th>\n      <th>earth_qz</th>\n    </tr>\n  </thead>\n  <tbody>\n    <tr>\n      <th>0</th>\n      <td>69120000</td>\n      <td>1</td>\n      <td>48000.0</td>\n      <td>-1.155142</td>\n      <td>2.297488</td>\n      <td>0.282872</td>\n      <td>-0.009457</td>\n      <td>-0.005464</td>\n      <td>0.001583</td>\n      <td>2.768788</td>\n      <td>0.077540</td>\n      <td>0.185062</td>\n      <td>1.408422</td>\n      <td>1.237946</td>\n      <td>-0.601468</td>\n      <td>-0.517779</td>\n      <td>-0.880033</td>\n      <td>-0.483797</td>\n      <td>-0.000050</td>\n    </tr>\n    <tr>\n      <th>1</th>\n      <td>69125760</td>\n      <td>1</td>\n      <td>48004.0</td>\n      <td>-1.192813</td>\n      <td>2.275319</td>\n      <td>0.289164</td>\n      <td>-0.009377</td>\n      <td>-0.005620</td>\n      <td>0.001563</td>\n      <td>2.768752</td>\n      <td>0.077525</td>\n      <td>0.185061</td>\n      <td>1.408417</td>\n      <td>1.237928</td>\n      <td>-0.584374</td>\n      <td>-0.502840</td>\n      <td>-0.845941</td>\n      <td>-0.543195</td>\n      <td>-0.000054</td>\n    </tr>\n    <tr>\n      <th>2</th>\n      <td>69131520</td>\n      <td>1</td>\n      <td>48008.0</td>\n      <td>-1.230156</td>\n      <td>2.252526</td>\n      <td>0.295376</td>\n      <td>-0.009294</td>\n      <td>-0.005776</td>\n      <td>0.001543</td>\n      <td>2.768714</td>\n      <td>0.077510</td>\n      <td>0.185060</td>\n      <td>1.408411</td>\n      <td>1.237912</td>\n      <td>-0.567257</td>\n      <td>-0.487900</td>\n      <td>-0.807882</td>\n      <td>-0.600059</td>\n      <td>-0.000056</td>\n    </tr>\n    <tr>\n      <th>3</th>\n      <td>69137280</td>\n      <td>1</td>\n      <td>48012.0</td>\n      <td>-1.267161</td>\n      <td>2.229116</td>\n      <td>0.301507</td>\n      <td>-0.009208</td>\n      <td>-0.005929</td>\n      <td>0.001522</td>\n      <td>2.768677</td>\n      <td>0.077495</td>\n      <td>0.185059</td>\n      <td>1.408406</td>\n      <td>1.237895</td>\n      <td>-0.550118</td>\n      <td>-0.472959</td>\n      <td>-0.766061</td>\n      <td>-0.654113</td>\n      <td>-0.000055</td>\n    </tr>\n    <tr>\n      <th>4</th>\n      <td>69143040</td>\n      <td>1</td>\n      <td>48016.0</td>\n      <td>-1.303818</td>\n      <td>2.205093</td>\n      <td>0.307555</td>\n      <td>-0.009120</td>\n      <td>-0.006082</td>\n      <td>0.001501</td>\n      <td>2.768639</td>\n      <td>0.077479</td>\n      <td>0.185057</td>\n      <td>1.408400</td>\n      <td>1.237879</td>\n      <td>-0.532956</td>\n      <td>-0.458018</td>\n      <td>-0.720707</td>\n      <td>-0.705117</td>\n      <td>-0.000054</td>\n    </tr>\n    <tr>\n      <th>...</th>\n      <td>...</td>\n      <td>...</td>\n      <td>...</td>\n      <td>...</td>\n      <td>...</td>\n      <td>...</td>\n      <td>...</td>\n      <td>...</td>\n      <td>...</td>\n      <td>...</td>\n      <td>...</td>\n      <td>...</td>\n      <td>...</td>\n      <td>...</td>\n      <td>...</td>\n      <td>...</td>\n      <td>...</td>\n      <td>...</td>\n      <td>...</td>\n    </tr>\n    <tr>\n      <th>37505</th>\n      <td>90696960</td>\n      <td>10</td>\n      <td>62984.0</td>\n      <td>0.728575</td>\n      <td>3.372451</td>\n      <td>0.098143</td>\n      <td>-0.008660</td>\n      <td>0.001518</td>\n      <td>-0.000541</td>\n      <td>3.147844</td>\n      <td>0.104631</td>\n      <td>0.066710</td>\n      <td>-1.344509</td>\n      <td>-0.805467</td>\n      <td>3.506618</td>\n      <td>-2.696021</td>\n      <td>-0.804421</td>\n      <td>-0.605790</td>\n      <td>0.000125</td>\n    </tr>\n    <tr>\n      <th>37506</th>\n      <td>90702720</td>\n      <td>10</td>\n      <td>62988.0</td>\n      <td>0.693892</td>\n      <td>3.378329</td>\n      <td>0.095975</td>\n      <td>-0.008681</td>\n      <td>0.001421</td>\n      <td>-0.000543</td>\n      <td>3.147839</td>\n      <td>0.104631</td>\n      <td>0.066711</td>\n      <td>-1.344511</td>\n      <td>-0.805428</td>\n      <td>3.516782</td>\n      <td>-2.683744</td>\n      <td>-0.762203</td>\n      <td>-0.659471</td>\n      <td>0.000130</td>\n    </tr>\n    <tr>\n      <th>37507</th>\n      <td>90708480</td>\n      <td>10</td>\n      <td>62992.0</td>\n      <td>0.659129</td>\n      <td>3.383816</td>\n      <td>0.093796</td>\n      <td>-0.008700</td>\n      <td>0.001323</td>\n      <td>-0.000546</td>\n      <td>3.147833</td>\n      <td>0.104631</td>\n      <td>0.066711</td>\n      <td>-1.344513</td>\n      <td>-0.805389</td>\n      <td>3.526955</td>\n      <td>-2.671469</td>\n      <td>-0.716489</td>\n      <td>-0.710085</td>\n      <td>0.000132</td>\n    </tr>\n    <tr>\n      <th>37508</th>\n      <td>90714240</td>\n      <td>10</td>\n      <td>62996.0</td>\n      <td>0.624289</td>\n      <td>3.388913</td>\n      <td>0.091606</td>\n      <td>-0.008719</td>\n      <td>0.001225</td>\n      <td>-0.000549</td>\n      <td>3.147828</td>\n      <td>0.104632</td>\n      <td>0.066711</td>\n      <td>-1.344515</td>\n      <td>-0.805349</td>\n      <td>3.537136</td>\n      <td>-2.659194</td>\n      <td>-0.667499</td>\n      <td>-0.757430</td>\n      <td>0.000132</td>\n    </tr>\n    <tr>\n      <th>37509</th>\n      <td>90720000</td>\n      <td>10</td>\n      <td>63000.0</td>\n      <td>0.589378</td>\n      <td>3.393618</td>\n      <td>0.089405</td>\n      <td>-0.008737</td>\n      <td>0.001127</td>\n      <td>-0.000551</td>\n      <td>3.147822</td>\n      <td>0.104632</td>\n      <td>0.066711</td>\n      <td>-1.344516</td>\n      <td>-0.805309</td>\n      <td>3.547326</td>\n      <td>-2.646919</td>\n      <td>-0.615447</td>\n      <td>-0.801313</td>\n      <td>0.000134</td>\n    </tr>\n  </tbody>\n</table>\n<p>37510 rows × 19 columns</p>\n</div>"
     },
     "metadata": {},
     "execution_count": 8
    }
   ],
   "source": [
    "df_ast"
   ]
  },
  {
   "cell_type": "code",
   "execution_count": 9,
   "metadata": {},
   "outputs": [],
   "source": [
    "mjd = np.arange(48000, 48100, 0.25)"
   ]
  },
  {
   "cell_type": "code",
   "execution_count": 10,
   "metadata": {},
   "outputs": [],
   "source": [
    "df_out = spline_ast_vec(df_ast=df_ast, mjd=mjd)"
   ]
  },
  {
   "cell_type": "code",
   "execution_count": 11,
   "metadata": {},
   "outputs": [
    {
     "output_type": "execute_result",
     "data": {
      "text/plain": [
       "      AsteroidID       mjd        qx        qy        qz        vx        vy  \\\n",
       "0              1  48000.00 -1.155142  2.297488  0.282872 -0.009457 -0.005464   \n",
       "1              1  48000.25 -1.157506  2.296121  0.283268 -0.009453 -0.005474   \n",
       "2              1  48000.50 -1.159869  2.294751  0.283663 -0.009448 -0.005484   \n",
       "3              1  48000.75 -1.162230  2.293379  0.284058 -0.009443 -0.005494   \n",
       "4              1  48001.00 -1.164590  2.292005  0.284452 -0.009438 -0.005503   \n",
       "...          ...       ...       ...       ...       ...       ...       ...   \n",
       "3995          10  48098.75  2.951892 -1.104262  0.174600  0.004426  0.008572   \n",
       "3996          10  48099.00  2.952997 -1.102119  0.174706  0.004419  0.008575   \n",
       "3997          10  48099.25  2.954101 -1.099975  0.174812  0.004412  0.008577   \n",
       "3998          10  48099.50  2.955203 -1.097830  0.174918  0.004405  0.008580   \n",
       "3999          10  48099.75  2.956304 -1.095685  0.175024  0.004398  0.008582   \n",
       "\n",
       "            vz  earth_qx  earth_qy  earth_qz  \n",
       "0     0.001583 -0.880033 -0.483797 -0.000050  \n",
       "1     0.001581 -0.878022 -0.487578 -0.000050  \n",
       "2     0.001580 -0.875994 -0.491350 -0.000050  \n",
       "3     0.001579 -0.873951 -0.495114 -0.000051  \n",
       "4     0.001578 -0.871891 -0.498868 -0.000051  \n",
       "...        ...       ...       ...       ...  \n",
       "3995  0.000426  0.562749 -0.845273 -0.000061  \n",
       "3996  0.000425  0.566257 -0.842897 -0.000061  \n",
       "3997  0.000425  0.569755 -0.840508 -0.000061  \n",
       "3998  0.000424  0.573243 -0.838103 -0.000061  \n",
       "3999  0.000424  0.576721 -0.835683 -0.000061  \n",
       "\n",
       "[4000 rows x 11 columns]"
      ],
      "text/html": "<div>\n<style scoped>\n    .dataframe tbody tr th:only-of-type {\n        vertical-align: middle;\n    }\n\n    .dataframe tbody tr th {\n        vertical-align: top;\n    }\n\n    .dataframe thead th {\n        text-align: right;\n    }\n</style>\n<table border=\"1\" class=\"dataframe\">\n  <thead>\n    <tr style=\"text-align: right;\">\n      <th></th>\n      <th>AsteroidID</th>\n      <th>mjd</th>\n      <th>qx</th>\n      <th>qy</th>\n      <th>qz</th>\n      <th>vx</th>\n      <th>vy</th>\n      <th>vz</th>\n      <th>earth_qx</th>\n      <th>earth_qy</th>\n      <th>earth_qz</th>\n    </tr>\n  </thead>\n  <tbody>\n    <tr>\n      <th>0</th>\n      <td>1</td>\n      <td>48000.00</td>\n      <td>-1.155142</td>\n      <td>2.297488</td>\n      <td>0.282872</td>\n      <td>-0.009457</td>\n      <td>-0.005464</td>\n      <td>0.001583</td>\n      <td>-0.880033</td>\n      <td>-0.483797</td>\n      <td>-0.000050</td>\n    </tr>\n    <tr>\n      <th>1</th>\n      <td>1</td>\n      <td>48000.25</td>\n      <td>-1.157506</td>\n      <td>2.296121</td>\n      <td>0.283268</td>\n      <td>-0.009453</td>\n      <td>-0.005474</td>\n      <td>0.001581</td>\n      <td>-0.878022</td>\n      <td>-0.487578</td>\n      <td>-0.000050</td>\n    </tr>\n    <tr>\n      <th>2</th>\n      <td>1</td>\n      <td>48000.50</td>\n      <td>-1.159869</td>\n      <td>2.294751</td>\n      <td>0.283663</td>\n      <td>-0.009448</td>\n      <td>-0.005484</td>\n      <td>0.001580</td>\n      <td>-0.875994</td>\n      <td>-0.491350</td>\n      <td>-0.000050</td>\n    </tr>\n    <tr>\n      <th>3</th>\n      <td>1</td>\n      <td>48000.75</td>\n      <td>-1.162230</td>\n      <td>2.293379</td>\n      <td>0.284058</td>\n      <td>-0.009443</td>\n      <td>-0.005494</td>\n      <td>0.001579</td>\n      <td>-0.873951</td>\n      <td>-0.495114</td>\n      <td>-0.000051</td>\n    </tr>\n    <tr>\n      <th>4</th>\n      <td>1</td>\n      <td>48001.00</td>\n      <td>-1.164590</td>\n      <td>2.292005</td>\n      <td>0.284452</td>\n      <td>-0.009438</td>\n      <td>-0.005503</td>\n      <td>0.001578</td>\n      <td>-0.871891</td>\n      <td>-0.498868</td>\n      <td>-0.000051</td>\n    </tr>\n    <tr>\n      <th>...</th>\n      <td>...</td>\n      <td>...</td>\n      <td>...</td>\n      <td>...</td>\n      <td>...</td>\n      <td>...</td>\n      <td>...</td>\n      <td>...</td>\n      <td>...</td>\n      <td>...</td>\n      <td>...</td>\n    </tr>\n    <tr>\n      <th>3995</th>\n      <td>10</td>\n      <td>48098.75</td>\n      <td>2.951892</td>\n      <td>-1.104262</td>\n      <td>0.174600</td>\n      <td>0.004426</td>\n      <td>0.008572</td>\n      <td>0.000426</td>\n      <td>0.562749</td>\n      <td>-0.845273</td>\n      <td>-0.000061</td>\n    </tr>\n    <tr>\n      <th>3996</th>\n      <td>10</td>\n      <td>48099.00</td>\n      <td>2.952997</td>\n      <td>-1.102119</td>\n      <td>0.174706</td>\n      <td>0.004419</td>\n      <td>0.008575</td>\n      <td>0.000425</td>\n      <td>0.566257</td>\n      <td>-0.842897</td>\n      <td>-0.000061</td>\n    </tr>\n    <tr>\n      <th>3997</th>\n      <td>10</td>\n      <td>48099.25</td>\n      <td>2.954101</td>\n      <td>-1.099975</td>\n      <td>0.174812</td>\n      <td>0.004412</td>\n      <td>0.008577</td>\n      <td>0.000425</td>\n      <td>0.569755</td>\n      <td>-0.840508</td>\n      <td>-0.000061</td>\n    </tr>\n    <tr>\n      <th>3998</th>\n      <td>10</td>\n      <td>48099.50</td>\n      <td>2.955203</td>\n      <td>-1.097830</td>\n      <td>0.174918</td>\n      <td>0.004405</td>\n      <td>0.008580</td>\n      <td>0.000424</td>\n      <td>0.573243</td>\n      <td>-0.838103</td>\n      <td>-0.000061</td>\n    </tr>\n    <tr>\n      <th>3999</th>\n      <td>10</td>\n      <td>48099.75</td>\n      <td>2.956304</td>\n      <td>-1.095685</td>\n      <td>0.175024</td>\n      <td>0.004398</td>\n      <td>0.008582</td>\n      <td>0.000424</td>\n      <td>0.576721</td>\n      <td>-0.835683</td>\n      <td>-0.000061</td>\n    </tr>\n  </tbody>\n</table>\n<p>4000 rows × 11 columns</p>\n</div>"
     },
     "metadata": {},
     "execution_count": 11
    }
   ],
   "source": [
    "df_out"
   ]
  },
  {
   "cell_type": "code",
   "execution_count": null,
   "metadata": {},
   "outputs": [],
   "source": []
  }
 ],
 "metadata": {
  "kernelspec": {
   "display_name": "kepler",
   "language": "python",
   "name": "kepler"
  },
  "language_info": {
   "codemirror_mode": {
    "name": "ipython",
    "version": 3
   },
   "file_extension": ".py",
   "mimetype": "text/x-python",
   "name": "python",
   "nbconvert_exporter": "python",
   "pygments_lexer": "ipython3",
   "version": "3.8.5"
  }
 },
 "nbformat": 4,
 "nbformat_minor": 4
}