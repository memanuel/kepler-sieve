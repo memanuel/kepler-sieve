{
 "cells": [
  {
   "cell_type": "code",
   "execution_count": 1,
   "metadata": {},
   "outputs": [],
   "source": [
    "# Core\n",
    "import numpy as np\n",
    "import pandas as pd"
   ]
  },
  {
   "cell_type": "code",
   "execution_count": 9,
   "metadata": {},
   "outputs": [],
   "source": [
    "# Local imports\n",
    "import kepler_sieve\n",
    "from asteroid_element import get_asteroids\n",
    "from asteroid_data import load_ast_vectors, load_ast_data, ast_add_earth_vectors, ast_add_earth_pos\n",
    "from db_config import db_engine\n",
    "from db_utils import sp2df"
   ]
  },
  {
   "cell_type": "code",
   "execution_count": 10,
   "metadata": {},
   "outputs": [],
   "source": [
    "df_ast = load_ast_vectors(n0=0, n1=10)"
   ]
  },
  {
   "cell_type": "code",
   "execution_count": 11,
   "metadata": {},
   "outputs": [],
   "source": [
    "df_ast_data = load_ast_data(n0=0, n1=10)"
   ]
  },
  {
   "cell_type": "code",
   "execution_count": 14,
   "metadata": {},
   "outputs": [
    {
     "output_type": "execute_result",
     "data": {
      "text/plain": [
       "         TimeID  AsteroidID      mjd        qx        qy        qz        vx  \\\n",
       "0      69120000           1  48000.0 -1.155142  2.297488  0.282872 -0.009457   \n",
       "1      69120000           2  48000.0  1.263645  1.622146 -1.221911 -0.011052   \n",
       "2      69120000           3  48000.0 -2.327128 -2.304102  0.612546  0.005425   \n",
       "3      69120000           4  48000.0  2.389176  0.076269 -0.292686  0.000585   \n",
       "4      69120000           5  48000.0  2.217007  1.378914 -0.230212 -0.007175   \n",
       "...         ...         ...      ...       ...       ...       ...       ...   \n",
       "33754  90720000           5  63000.0  2.730913  0.617271 -0.204941 -0.003742   \n",
       "33755  90720000           6  63000.0 -2.844369  0.004555  0.494039 -0.000399   \n",
       "33756  90720000           7  63000.0 -0.344955 -2.738874  0.016020  0.009450   \n",
       "33757  90720000           8  63000.0 -1.600710  1.520260  0.098735 -0.009114   \n",
       "33758  90720000           9  63000.0 -0.095203  2.099927  0.082693 -0.012503   \n",
       "\n",
       "             vy        vz  earth_qx  earth_qy  earth_qz  \n",
       "0     -0.005464  0.001583 -0.880033 -0.483797 -0.000050  \n",
       "1      0.003894 -0.001794 -0.880033 -0.483797 -0.000050  \n",
       "2     -0.006001  0.001161 -0.880033 -0.483797 -0.000050  \n",
       "3      0.010951 -0.000403 -0.880033 -0.483797 -0.000050  \n",
       "4      0.007700 -0.000151 -0.880033 -0.483797 -0.000050  \n",
       "...         ...       ...       ...       ...       ...  \n",
       "33754  0.009037 -0.000444 -0.615447 -0.801313  0.000134  \n",
       "33755 -0.008920  0.001828 -0.615447 -0.801313  0.000134  \n",
       "33756  0.000438  0.000891 -0.615447 -0.801313  0.000134  \n",
       "33757 -0.007027  0.001136 -0.615447 -0.801313  0.000134  \n",
       "33758 -0.000175  0.001132 -0.615447 -0.801313  0.000134  \n",
       "\n",
       "[33759 rows x 12 columns]"
      ],
      "text/html": "<div>\n<style scoped>\n    .dataframe tbody tr th:only-of-type {\n        vertical-align: middle;\n    }\n\n    .dataframe tbody tr th {\n        vertical-align: top;\n    }\n\n    .dataframe thead th {\n        text-align: right;\n    }\n</style>\n<table border=\"1\" class=\"dataframe\">\n  <thead>\n    <tr style=\"text-align: right;\">\n      <th></th>\n      <th>TimeID</th>\n      <th>AsteroidID</th>\n      <th>mjd</th>\n      <th>qx</th>\n      <th>qy</th>\n      <th>qz</th>\n      <th>vx</th>\n      <th>vy</th>\n      <th>vz</th>\n      <th>earth_qx</th>\n      <th>earth_qy</th>\n      <th>earth_qz</th>\n    </tr>\n  </thead>\n  <tbody>\n    <tr>\n      <th>0</th>\n      <td>69120000</td>\n      <td>1</td>\n      <td>48000.0</td>\n      <td>-1.155142</td>\n      <td>2.297488</td>\n      <td>0.282872</td>\n      <td>-0.009457</td>\n      <td>-0.005464</td>\n      <td>0.001583</td>\n      <td>-0.880033</td>\n      <td>-0.483797</td>\n      <td>-0.000050</td>\n    </tr>\n    <tr>\n      <th>1</th>\n      <td>69120000</td>\n      <td>2</td>\n      <td>48000.0</td>\n      <td>1.263645</td>\n      <td>1.622146</td>\n      <td>-1.221911</td>\n      <td>-0.011052</td>\n      <td>0.003894</td>\n      <td>-0.001794</td>\n      <td>-0.880033</td>\n      <td>-0.483797</td>\n      <td>-0.000050</td>\n    </tr>\n    <tr>\n      <th>2</th>\n      <td>69120000</td>\n      <td>3</td>\n      <td>48000.0</td>\n      <td>-2.327128</td>\n      <td>-2.304102</td>\n      <td>0.612546</td>\n      <td>0.005425</td>\n      <td>-0.006001</td>\n      <td>0.001161</td>\n      <td>-0.880033</td>\n      <td>-0.483797</td>\n      <td>-0.000050</td>\n    </tr>\n    <tr>\n      <th>3</th>\n      <td>69120000</td>\n      <td>4</td>\n      <td>48000.0</td>\n      <td>2.389176</td>\n      <td>0.076269</td>\n      <td>-0.292686</td>\n      <td>0.000585</td>\n      <td>0.010951</td>\n      <td>-0.000403</td>\n      <td>-0.880033</td>\n      <td>-0.483797</td>\n      <td>-0.000050</td>\n    </tr>\n    <tr>\n      <th>4</th>\n      <td>69120000</td>\n      <td>5</td>\n      <td>48000.0</td>\n      <td>2.217007</td>\n      <td>1.378914</td>\n      <td>-0.230212</td>\n      <td>-0.007175</td>\n      <td>0.007700</td>\n      <td>-0.000151</td>\n      <td>-0.880033</td>\n      <td>-0.483797</td>\n      <td>-0.000050</td>\n    </tr>\n    <tr>\n      <th>...</th>\n      <td>...</td>\n      <td>...</td>\n      <td>...</td>\n      <td>...</td>\n      <td>...</td>\n      <td>...</td>\n      <td>...</td>\n      <td>...</td>\n      <td>...</td>\n      <td>...</td>\n      <td>...</td>\n      <td>...</td>\n    </tr>\n    <tr>\n      <th>33754</th>\n      <td>90720000</td>\n      <td>5</td>\n      <td>63000.0</td>\n      <td>2.730913</td>\n      <td>0.617271</td>\n      <td>-0.204941</td>\n      <td>-0.003742</td>\n      <td>0.009037</td>\n      <td>-0.000444</td>\n      <td>-0.615447</td>\n      <td>-0.801313</td>\n      <td>0.000134</td>\n    </tr>\n    <tr>\n      <th>33755</th>\n      <td>90720000</td>\n      <td>6</td>\n      <td>63000.0</td>\n      <td>-2.844369</td>\n      <td>0.004555</td>\n      <td>0.494039</td>\n      <td>-0.000399</td>\n      <td>-0.008920</td>\n      <td>0.001828</td>\n      <td>-0.615447</td>\n      <td>-0.801313</td>\n      <td>0.000134</td>\n    </tr>\n    <tr>\n      <th>33756</th>\n      <td>90720000</td>\n      <td>7</td>\n      <td>63000.0</td>\n      <td>-0.344955</td>\n      <td>-2.738874</td>\n      <td>0.016020</td>\n      <td>0.009450</td>\n      <td>0.000438</td>\n      <td>0.000891</td>\n      <td>-0.615447</td>\n      <td>-0.801313</td>\n      <td>0.000134</td>\n    </tr>\n    <tr>\n      <th>33757</th>\n      <td>90720000</td>\n      <td>8</td>\n      <td>63000.0</td>\n      <td>-1.600710</td>\n      <td>1.520260</td>\n      <td>0.098735</td>\n      <td>-0.009114</td>\n      <td>-0.007027</td>\n      <td>0.001136</td>\n      <td>-0.615447</td>\n      <td>-0.801313</td>\n      <td>0.000134</td>\n    </tr>\n    <tr>\n      <th>33758</th>\n      <td>90720000</td>\n      <td>9</td>\n      <td>63000.0</td>\n      <td>-0.095203</td>\n      <td>2.099927</td>\n      <td>0.082693</td>\n      <td>-0.012503</td>\n      <td>-0.000175</td>\n      <td>0.001132</td>\n      <td>-0.615447</td>\n      <td>-0.801313</td>\n      <td>0.000134</td>\n    </tr>\n  </tbody>\n</table>\n<p>33759 rows × 12 columns</p>\n</div>"
     },
     "metadata": {},
     "execution_count": 14
    }
   ],
   "source": [
    "df_ast"
   ]
  },
  {
   "cell_type": "code",
   "execution_count": 13,
   "metadata": {},
   "outputs": [],
   "source": [
    "ast_add_earth_pos(df_ast)"
   ]
  },
  {
   "cell_type": "code",
   "execution_count": null,
   "metadata": {},
   "outputs": [],
   "source": []
  }
 ],
 "metadata": {
  "kernelspec": {
   "display_name": "kepler",
   "language": "python",
   "name": "kepler"
  },
  "language_info": {
   "codemirror_mode": {
    "name": "ipython",
    "version": 3
   },
   "file_extension": ".py",
   "mimetype": "text/x-python",
   "name": "python",
   "nbconvert_exporter": "python",
   "pygments_lexer": "ipython3",
   "version": "3.8.5"
  }
 },
 "nbformat": 4,
 "nbformat_minor": 4
}