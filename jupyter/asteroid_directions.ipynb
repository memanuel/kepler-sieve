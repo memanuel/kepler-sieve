{
 "cells": [
  {
   "cell_type": "code",
   "execution_count": 1,
   "metadata": {},
   "outputs": [],
   "source": [
    "# Core\n",
    "import numpy as np\n",
    "import pandas as pd\n",
    "from scipy.interpolate import CubicSpline\n",
    "\n",
    "# Astronomy\n",
    "import astropy\n",
    "from astropy.units import au, minute"
   ]
  },
  {
   "cell_type": "code",
   "execution_count": 7,
   "metadata": {},
   "outputs": [],
   "source": [
    "# Local imports\n",
    "import kepler_sieve\n",
    "from asteroid_data import load_ast_vectors\n",
    "from asteroid_spline import get_df_shape, make_spline_df\n",
    "from planets_interp import get_earth_pos\n",
    "from asteroid_direction import calc_dir_ast2obs\n",
    "from db_utils import sp2df, df2db\n",
    "import matplotlib.pyplot as plt"
   ]
  },
  {
   "cell_type": "code",
   "execution_count": 3,
   "metadata": {},
   "outputs": [],
   "source": [
    "# Calculate the direction and light time\n",
    "df = calc_dir_ast2obs(n0=0, n1=100)"
   ]
  },
  {
   "cell_type": "code",
   "execution_count": 4,
   "metadata": {},
   "outputs": [
    {
     "output_type": "execute_result",
     "data": {
      "text/plain": [
       "        AsteroidID    TimeID     tAst    qAst_x    qAst_y    qAst_z    vAst_x  \\\n",
       "0                1  69120000  48000.0 -1.155142  2.297488  0.282872 -0.009457   \n",
       "99               1  69125760  48004.0 -1.192813  2.275319  0.289164 -0.009377   \n",
       "198              1  69131520  48008.0 -1.230156  2.252526  0.295376 -0.009294   \n",
       "297              1  69137280  48012.0 -1.267161  2.229116  0.301507 -0.009208   \n",
       "396              1  69143040  48016.0 -1.303818  2.205093  0.307555 -0.009120   \n",
       "...            ...       ...      ...       ...       ...       ...       ...   \n",
       "370952          99  90696960  62984.0  2.347168  2.122528  0.009658 -0.005274   \n",
       "371051          99  90702720  62988.0  2.325895  2.148838  0.018000 -0.005362   \n",
       "371150          99  90708480  62992.0  2.304276  2.174829  0.026340 -0.005448   \n",
       "371249          99  90714240  62996.0  2.282313  2.200496  0.034676 -0.005533   \n",
       "371348          99  90720000  63000.0  2.260011  2.225837  0.043007 -0.005618   \n",
       "\n",
       "          vAst_y    vAst_z  LightTime          tObs    qObs_x    qObs_y  \\\n",
       "0      -0.005464  0.001583  23.365052  48000.016226 -0.879903 -0.484043   \n",
       "99     -0.005620  0.001563  23.742002  48004.016488 -0.845792 -0.543434   \n",
       "198    -0.005776  0.001543  24.110400  48008.016743 -0.807715 -0.600292   \n",
       "297    -0.005929  0.001522  24.469509  48012.016993 -0.765876 -0.654337   \n",
       "396    -0.006082  0.001501  24.818813  48016.017235 -0.720504 -0.705329   \n",
       "...          ...       ...        ...           ...       ...       ...   \n",
       "370952  0.006617  0.002086  34.668563  62984.024075 -0.804178 -0.606122   \n",
       "371051  0.006538  0.002085  34.715220  62988.024108 -0.761938 -0.659785   \n",
       "371150  0.006457  0.002085  34.740126  62992.024125 -0.716203 -0.710380   \n",
       "371249  0.006376  0.002083  34.743441  62996.024127 -0.667194 -0.757706   \n",
       "371348  0.006294  0.002082  34.725189  63000.024115 -0.615124 -0.801567   \n",
       "\n",
       "          qObs_z        ux        uy        uz  \n",
       "0      -0.000050 -0.097971  0.990081  0.100705  \n",
       "99     -0.000054 -0.121560  0.987400  0.101312  \n",
       "198    -0.000056 -0.145719  0.984064  0.101907  \n",
       "297    -0.000055 -0.170378  0.980034  0.102496  \n",
       "396    -0.000054 -0.195467  0.975278  0.103079  \n",
       "...          ...       ...       ...       ...  \n",
       "370952  0.000125  0.755986  0.654584  0.002287  \n",
       "371051  0.000130  0.739754  0.672864  0.004281  \n",
       "371150  0.000132  0.723099  0.690716  0.006274  \n",
       "371249  0.000132  0.706041  0.708123  0.008269  \n",
       "371348  0.000134  0.688600  0.725069  0.010268  \n",
       "\n",
       "[371349 rows x 17 columns]"
      ],
      "text/html": "<div>\n<style scoped>\n    .dataframe tbody tr th:only-of-type {\n        vertical-align: middle;\n    }\n\n    .dataframe tbody tr th {\n        vertical-align: top;\n    }\n\n    .dataframe thead th {\n        text-align: right;\n    }\n</style>\n<table border=\"1\" class=\"dataframe\">\n  <thead>\n    <tr style=\"text-align: right;\">\n      <th></th>\n      <th>AsteroidID</th>\n      <th>TimeID</th>\n      <th>tAst</th>\n      <th>qAst_x</th>\n      <th>qAst_y</th>\n      <th>qAst_z</th>\n      <th>vAst_x</th>\n      <th>vAst_y</th>\n      <th>vAst_z</th>\n      <th>LightTime</th>\n      <th>tObs</th>\n      <th>qObs_x</th>\n      <th>qObs_y</th>\n      <th>qObs_z</th>\n      <th>ux</th>\n      <th>uy</th>\n      <th>uz</th>\n    </tr>\n  </thead>\n  <tbody>\n    <tr>\n      <th>0</th>\n      <td>1</td>\n      <td>69120000</td>\n      <td>48000.0</td>\n      <td>-1.155142</td>\n      <td>2.297488</td>\n      <td>0.282872</td>\n      <td>-0.009457</td>\n      <td>-0.005464</td>\n      <td>0.001583</td>\n      <td>23.365052</td>\n      <td>48000.016226</td>\n      <td>-0.879903</td>\n      <td>-0.484043</td>\n      <td>-0.000050</td>\n      <td>-0.097971</td>\n      <td>0.990081</td>\n      <td>0.100705</td>\n    </tr>\n    <tr>\n      <th>99</th>\n      <td>1</td>\n      <td>69125760</td>\n      <td>48004.0</td>\n      <td>-1.192813</td>\n      <td>2.275319</td>\n      <td>0.289164</td>\n      <td>-0.009377</td>\n      <td>-0.005620</td>\n      <td>0.001563</td>\n      <td>23.742002</td>\n      <td>48004.016488</td>\n      <td>-0.845792</td>\n      <td>-0.543434</td>\n      <td>-0.000054</td>\n      <td>-0.121560</td>\n      <td>0.987400</td>\n      <td>0.101312</td>\n    </tr>\n    <tr>\n      <th>198</th>\n      <td>1</td>\n      <td>69131520</td>\n      <td>48008.0</td>\n      <td>-1.230156</td>\n      <td>2.252526</td>\n      <td>0.295376</td>\n      <td>-0.009294</td>\n      <td>-0.005776</td>\n      <td>0.001543</td>\n      <td>24.110400</td>\n      <td>48008.016743</td>\n      <td>-0.807715</td>\n      <td>-0.600292</td>\n      <td>-0.000056</td>\n      <td>-0.145719</td>\n      <td>0.984064</td>\n      <td>0.101907</td>\n    </tr>\n    <tr>\n      <th>297</th>\n      <td>1</td>\n      <td>69137280</td>\n      <td>48012.0</td>\n      <td>-1.267161</td>\n      <td>2.229116</td>\n      <td>0.301507</td>\n      <td>-0.009208</td>\n      <td>-0.005929</td>\n      <td>0.001522</td>\n      <td>24.469509</td>\n      <td>48012.016993</td>\n      <td>-0.765876</td>\n      <td>-0.654337</td>\n      <td>-0.000055</td>\n      <td>-0.170378</td>\n      <td>0.980034</td>\n      <td>0.102496</td>\n    </tr>\n    <tr>\n      <th>396</th>\n      <td>1</td>\n      <td>69143040</td>\n      <td>48016.0</td>\n      <td>-1.303818</td>\n      <td>2.205093</td>\n      <td>0.307555</td>\n      <td>-0.009120</td>\n      <td>-0.006082</td>\n      <td>0.001501</td>\n      <td>24.818813</td>\n      <td>48016.017235</td>\n      <td>-0.720504</td>\n      <td>-0.705329</td>\n      <td>-0.000054</td>\n      <td>-0.195467</td>\n      <td>0.975278</td>\n      <td>0.103079</td>\n    </tr>\n    <tr>\n      <th>...</th>\n      <td>...</td>\n      <td>...</td>\n      <td>...</td>\n      <td>...</td>\n      <td>...</td>\n      <td>...</td>\n      <td>...</td>\n      <td>...</td>\n      <td>...</td>\n      <td>...</td>\n      <td>...</td>\n      <td>...</td>\n      <td>...</td>\n      <td>...</td>\n      <td>...</td>\n      <td>...</td>\n      <td>...</td>\n    </tr>\n    <tr>\n      <th>370952</th>\n      <td>99</td>\n      <td>90696960</td>\n      <td>62984.0</td>\n      <td>2.347168</td>\n      <td>2.122528</td>\n      <td>0.009658</td>\n      <td>-0.005274</td>\n      <td>0.006617</td>\n      <td>0.002086</td>\n      <td>34.668563</td>\n      <td>62984.024075</td>\n      <td>-0.804178</td>\n      <td>-0.606122</td>\n      <td>0.000125</td>\n      <td>0.755986</td>\n      <td>0.654584</td>\n      <td>0.002287</td>\n    </tr>\n    <tr>\n      <th>371051</th>\n      <td>99</td>\n      <td>90702720</td>\n      <td>62988.0</td>\n      <td>2.325895</td>\n      <td>2.148838</td>\n      <td>0.018000</td>\n      <td>-0.005362</td>\n      <td>0.006538</td>\n      <td>0.002085</td>\n      <td>34.715220</td>\n      <td>62988.024108</td>\n      <td>-0.761938</td>\n      <td>-0.659785</td>\n      <td>0.000130</td>\n      <td>0.739754</td>\n      <td>0.672864</td>\n      <td>0.004281</td>\n    </tr>\n    <tr>\n      <th>371150</th>\n      <td>99</td>\n      <td>90708480</td>\n      <td>62992.0</td>\n      <td>2.304276</td>\n      <td>2.174829</td>\n      <td>0.026340</td>\n      <td>-0.005448</td>\n      <td>0.006457</td>\n      <td>0.002085</td>\n      <td>34.740126</td>\n      <td>62992.024125</td>\n      <td>-0.716203</td>\n      <td>-0.710380</td>\n      <td>0.000132</td>\n      <td>0.723099</td>\n      <td>0.690716</td>\n      <td>0.006274</td>\n    </tr>\n    <tr>\n      <th>371249</th>\n      <td>99</td>\n      <td>90714240</td>\n      <td>62996.0</td>\n      <td>2.282313</td>\n      <td>2.200496</td>\n      <td>0.034676</td>\n      <td>-0.005533</td>\n      <td>0.006376</td>\n      <td>0.002083</td>\n      <td>34.743441</td>\n      <td>62996.024127</td>\n      <td>-0.667194</td>\n      <td>-0.757706</td>\n      <td>0.000132</td>\n      <td>0.706041</td>\n      <td>0.708123</td>\n      <td>0.008269</td>\n    </tr>\n    <tr>\n      <th>371348</th>\n      <td>99</td>\n      <td>90720000</td>\n      <td>63000.0</td>\n      <td>2.260011</td>\n      <td>2.225837</td>\n      <td>0.043007</td>\n      <td>-0.005618</td>\n      <td>0.006294</td>\n      <td>0.002082</td>\n      <td>34.725189</td>\n      <td>63000.024115</td>\n      <td>-0.615124</td>\n      <td>-0.801567</td>\n      <td>0.000134</td>\n      <td>0.688600</td>\n      <td>0.725069</td>\n      <td>0.010268</td>\n    </tr>\n  </tbody>\n</table>\n<p>371349 rows × 17 columns</p>\n</div>"
     },
     "metadata": {},
     "execution_count": 4
    }
   ],
   "source": [
    "df"
   ]
  },
  {
   "cell_type": "code",
   "execution_count": 5,
   "metadata": {},
   "outputs": [],
   "source": [
    "# Rename column tAst back to mjd to match DB schema\n",
    "df.rename(columns={'tAst':'mjd'}, inplace=True)\n",
    "\n",
    "# Arguments to df2db\n",
    "schema = 'KS'\n",
    "table = 'AsteroidDirections2'\n",
    "columns = ['AsteroidID', 'TimeID', 'mjd', 'ux', 'uy', 'uz', 'LightTime']\n",
    "chunksize = 2**19\n",
    "verbose = False\n",
    "progbar = True"
   ]
  },
  {
   "cell_type": "code",
   "execution_count": 6,
   "metadata": {},
   "outputs": [
    {
     "output_type": "display_data",
     "data": {
      "text/plain": "  0%|          | 0/1 [00:00<?, ?it/s]",
      "application/vnd.jupyter.widget-view+json": {
       "version_major": 2,
       "version_minor": 0,
       "model_id": "007f2f2eb1494c98b45051d178a04db7"
      }
     },
     "metadata": {}
    }
   ],
   "source": [
    "df2db(df=df, schema=schema, table=table, columns=columns, chunksize=chunksize, verbose=verbose, progbar=progbar)"
   ]
  },
  {
   "cell_type": "code",
   "execution_count": null,
   "metadata": {},
   "outputs": [],
   "source": []
  }
 ],
 "metadata": {
  "kernelspec": {
   "display_name": "kepler",
   "language": "python",
   "name": "kepler"
  },
  "language_info": {
   "codemirror_mode": {
    "name": "ipython",
    "version": 3
   },
   "file_extension": ".py",
   "mimetype": "text/x-python",
   "name": "python",
   "nbconvert_exporter": "python",
   "pygments_lexer": "ipython3",
   "version": "3.8.5"
  }
 },
 "nbformat": 4,
 "nbformat_minor": 4
}