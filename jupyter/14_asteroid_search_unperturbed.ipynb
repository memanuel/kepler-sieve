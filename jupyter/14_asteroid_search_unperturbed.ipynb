{
 "cells": [
  {
   "cell_type": "code",
   "execution_count": null,
   "metadata": {},
   "outputs": [],
   "source": [
    "# Core\n",
    "import numpy as np\n",
    "import pandas as pd\n",
    "\n",
    "# Tensorflow / ML\n",
    "import tensorflow as tf\n",
    "# from tensorflow.python.keras import backend as K\n",
    "\n",
    "# Plotting\n",
    "import matplotlib.pyplot as plt\n",
    "import matplotlib as mpl\n",
    "\n",
    "# Utility\n",
    "import time"
   ]
  },
  {
   "cell_type": "code",
   "execution_count": 2,
   "metadata": {},
   "outputs": [
    {
     "name": "stdout",
     "output_type": "stream",
     "text": [
      "Found 4 GPUs.  Setting memory growth = True.\n"
     ]
    }
   ],
   "source": [
    "# Configure TF GPU growth\n",
    "import kepler_sieve\n",
    "from tf_utils import gpu_grow_memory\n",
    "gpu_grow_memory(verbose=True)"
   ]
  },
  {
   "cell_type": "code",
   "execution_count": 3,
   "metadata": {},
   "outputs": [],
   "source": [
    "# MSE Imports\n",
    "from asteroid_element import load_ast_elt\n",
    "from candidate_element import asteroid_elts, perturb_elts, random_elts, elts_add_mixture_params, elts_add_H\n",
    "from ztf_ast import load_ztf_nearest_ast, calc_hit_freq\n",
    "from ztf_element import load_ztf_batch, make_ztf_batch, ztf_score_by_elt, ztf_elt_summary\n",
    "from asteroid_model import AsteroidPosition, AsteroidDirection, make_model_ast_pos\n",
    "from asteroid_search_layers import CandidateElements, MixtureParameters, TrajectoryScore\n",
    "from asteroid_search_model import AsteroidSearchModel, make_opt_adam\n",
    "from asteroid_search_report import traj_diff\n",
    "from nearest_asteroid import nearest_ast_elt_cart, nearest_ast_elt_cov, elt_q_norm\n",
    "from element_eda import score_by_elt\n",
    "from asteroid_dataframe import calc_ast_data, spline_ast_vec_df\n",
    "from astro_utils import deg2dist, dist2deg, dist2sec"
   ]
  },
  {
   "cell_type": "code",
   "execution_count": 4,
   "metadata": {},
   "outputs": [],
   "source": [
    "# Aliases\n",
    "keras = tf.keras\n",
    "\n",
    "# Constants\n",
    "dtype = tf.float32\n",
    "dtype_np = np.float32\n",
    "space_dims = 3"
   ]
  },
  {
   "cell_type": "code",
   "execution_count": 5,
   "metadata": {},
   "outputs": [],
   "source": [
    "# Set plot style variables\n",
    "mpl.rcParams['figure.figsize'] = [16.0, 10.0]\n",
    "mpl.rcParams['font.size'] = 16"
   ]
  },
  {
   "cell_type": "markdown",
   "metadata": {},
   "source": [
    "## Load ZTF Data and Batch of Orbital Elements"
   ]
  },
  {
   "cell_type": "code",
   "execution_count": 6,
   "metadata": {},
   "outputs": [],
   "source": [
    "# Load orbital elements for known asteroids\n",
    "ast_elt = load_ast_elt()\n",
    "\n",
    "# Number of asteroids\n",
    "N_ast = ast_elt.shape[0]"
   ]
  },
  {
   "cell_type": "code",
   "execution_count": 7,
   "metadata": {},
   "outputs": [],
   "source": [
    "# Load ztf nearest asteroid data\n",
    "ztf_ast = load_ztf_nearest_ast()"
   ]
  },
  {
   "cell_type": "code",
   "execution_count": 8,
   "metadata": {},
   "outputs": [],
   "source": [
    "# Asteroid numbers and hit counts\n",
    "ast_num, hit_count = calc_hit_freq(ztf=ztf_ast, thresh_sec=2.0)\n",
    "\n",
    "# Sort the hit counts in descending order and find the top batch_size\n",
    "idx = np.argsort(hit_count)[::-1]\n",
    "\n",
    "# Extract the asteroid number and hit count for this batch\n",
    "ast_num_best = ast_num[idx]\n",
    "hit_count_best = hit_count[idx]"
   ]
  },
  {
   "cell_type": "code",
   "execution_count": 9,
   "metadata": {},
   "outputs": [],
   "source": [
    "# Parameters to build elements batch\n",
    "batch_size = 64\n",
    "\n",
    "# Batch of unperturbed elements\n",
    "elts_ast = asteroid_elts(ast_nums=ast_num_best[0:batch_size])"
   ]
  },
  {
   "cell_type": "code",
   "execution_count": 10,
   "metadata": {},
   "outputs": [],
   "source": [
    "# # Review unperturbed elements\n",
    "# elts_ast"
   ]
  },
  {
   "cell_type": "code",
   "execution_count": 11,
   "metadata": {},
   "outputs": [],
   "source": [
    "# Choose which elements to search on\n",
    "elts = elts_ast"
   ]
  },
  {
   "cell_type": "code",
   "execution_count": 12,
   "metadata": {},
   "outputs": [],
   "source": [
    "# Review nearest asteroid to these candidate elements\n",
    "# elts_near"
   ]
  },
  {
   "cell_type": "markdown",
   "metadata": {},
   "source": [
    "## Batches of ZTF Data Near Initial Candidate Elements"
   ]
  },
  {
   "cell_type": "code",
   "execution_count": 13,
   "metadata": {},
   "outputs": [],
   "source": [
    "# Arguments to make_ztf_batch\n",
    "thresh_deg = 2.0\n",
    "near_ast = False\n",
    "regenerate = False"
   ]
  },
  {
   "cell_type": "code",
   "execution_count": 14,
   "metadata": {},
   "outputs": [],
   "source": [
    "# Load perturbed element batch\n",
    "ztf_elt = load_ztf_batch(elts=elts, thresh_deg=thresh_deg, near_ast=near_ast, regenerate=regenerate)"
   ]
  },
  {
   "cell_type": "code",
   "execution_count": 15,
   "metadata": {},
   "outputs": [
    {
     "data": {
      "text/html": [
       "<div>\n",
       "<style scoped>\n",
       "    .dataframe tbody tr th:only-of-type {\n",
       "        vertical-align: middle;\n",
       "    }\n",
       "\n",
       "    .dataframe tbody tr th {\n",
       "        vertical-align: top;\n",
       "    }\n",
       "\n",
       "    .dataframe thead th {\n",
       "        text-align: right;\n",
       "    }\n",
       "</style>\n",
       "<table border=\"1\" class=\"dataframe\">\n",
       "  <thead>\n",
       "    <tr style=\"text-align: right;\">\n",
       "      <th></th>\n",
       "      <th>ztf_id</th>\n",
       "      <th>element_id</th>\n",
       "      <th>ObjectID</th>\n",
       "      <th>CandidateID</th>\n",
       "      <th>TimeStampID</th>\n",
       "      <th>mjd</th>\n",
       "      <th>ra</th>\n",
       "      <th>dec</th>\n",
       "      <th>mag_app</th>\n",
       "      <th>ux</th>\n",
       "      <th>...</th>\n",
       "      <th>vz</th>\n",
       "      <th>elt_ux</th>\n",
       "      <th>elt_uy</th>\n",
       "      <th>elt_uz</th>\n",
       "      <th>elt_r</th>\n",
       "      <th>s</th>\n",
       "      <th>s_sec</th>\n",
       "      <th>z</th>\n",
       "      <th>v</th>\n",
       "      <th>is_hit</th>\n",
       "    </tr>\n",
       "  </thead>\n",
       "  <tbody>\n",
       "    <tr>\n",
       "      <th>0</th>\n",
       "      <td>53851</td>\n",
       "      <td>733</td>\n",
       "      <td>b'ZTF18abnothj'</td>\n",
       "      <td>594197584815010004</td>\n",
       "      <td>5501</td>\n",
       "      <td>58348.197581</td>\n",
       "      <td>266.229165</td>\n",
       "      <td>-13.513802</td>\n",
       "      <td>16.755600</td>\n",
       "      <td>-0.063945</td>\n",
       "      <td>...</td>\n",
       "      <td>0.004080</td>\n",
       "      <td>-0.057300</td>\n",
       "      <td>-0.982042</td>\n",
       "      <td>0.179751</td>\n",
       "      <td>2.234078</td>\n",
       "      <td>0.010624</td>\n",
       "      <td>2191.408734</td>\n",
       "      <td>0.999944</td>\n",
       "      <td>0.092645</td>\n",
       "      <td>False</td>\n",
       "    </tr>\n",
       "    <tr>\n",
       "      <th>1</th>\n",
       "      <td>73603</td>\n",
       "      <td>733</td>\n",
       "      <td>b'ZTF18ablwzmb'</td>\n",
       "      <td>609167834815015007</td>\n",
       "      <td>7226</td>\n",
       "      <td>58363.167836</td>\n",
       "      <td>265.761064</td>\n",
       "      <td>-13.509195</td>\n",
       "      <td>18.339701</td>\n",
       "      <td>-0.071871</td>\n",
       "      <td>...</td>\n",
       "      <td>0.003999</td>\n",
       "      <td>-0.055041</td>\n",
       "      <td>-0.979702</td>\n",
       "      <td>0.192757</td>\n",
       "      <td>2.397172</td>\n",
       "      <td>0.027352</td>\n",
       "      <td>5641.954857</td>\n",
       "      <td>0.999626</td>\n",
       "      <td>0.614061</td>\n",
       "      <td>False</td>\n",
       "    </tr>\n",
       "    <tr>\n",
       "      <th>2</th>\n",
       "      <td>73604</td>\n",
       "      <td>733</td>\n",
       "      <td>b'ZTF18ablwzmb'</td>\n",
       "      <td>594197584815015003</td>\n",
       "      <td>5501</td>\n",
       "      <td>58348.197581</td>\n",
       "      <td>265.761024</td>\n",
       "      <td>-13.509148</td>\n",
       "      <td>16.035999</td>\n",
       "      <td>-0.071871</td>\n",
       "      <td>...</td>\n",
       "      <td>0.004080</td>\n",
       "      <td>-0.057300</td>\n",
       "      <td>-0.982042</td>\n",
       "      <td>0.179751</td>\n",
       "      <td>2.234078</td>\n",
       "      <td>0.016809</td>\n",
       "      <td>3467.151428</td>\n",
       "      <td>0.999859</td>\n",
       "      <td>0.231907</td>\n",
       "      <td>False</td>\n",
       "    </tr>\n",
       "    <tr>\n",
       "      <th>3</th>\n",
       "      <td>73605</td>\n",
       "      <td>733</td>\n",
       "      <td>b'ZTF18ablwzmb'</td>\n",
       "      <td>584189894815015004</td>\n",
       "      <td>4646</td>\n",
       "      <td>58338.189896</td>\n",
       "      <td>265.761079</td>\n",
       "      <td>-13.509107</td>\n",
       "      <td>16.892200</td>\n",
       "      <td>-0.071871</td>\n",
       "      <td>...</td>\n",
       "      <td>0.004126</td>\n",
       "      <td>-0.045072</td>\n",
       "      <td>-0.984663</td>\n",
       "      <td>0.168544</td>\n",
       "      <td>2.138928</td>\n",
       "      <td>0.027030</td>\n",
       "      <td>5575.548058</td>\n",
       "      <td>0.999635</td>\n",
       "      <td>0.599691</td>\n",
       "      <td>False</td>\n",
       "    </tr>\n",
       "    <tr>\n",
       "      <th>4</th>\n",
       "      <td>82343</td>\n",
       "      <td>733</td>\n",
       "      <td>b'ZTF18abiydvm'</td>\n",
       "      <td>635193253015015018</td>\n",
       "      <td>12089</td>\n",
       "      <td>58389.193252</td>\n",
       "      <td>270.331454</td>\n",
       "      <td>-11.244934</td>\n",
       "      <td>17.196199</td>\n",
       "      <td>0.005674</td>\n",
       "      <td>...</td>\n",
       "      <td>0.003825</td>\n",
       "      <td>0.000919</td>\n",
       "      <td>-0.977996</td>\n",
       "      <td>0.208622</td>\n",
       "      <td>2.703478</td>\n",
       "      <td>0.005450</td>\n",
       "      <td>1124.103915</td>\n",
       "      <td>0.999985</td>\n",
       "      <td>0.024378</td>\n",
       "      <td>False</td>\n",
       "    </tr>\n",
       "    <tr>\n",
       "      <th>...</th>\n",
       "      <td>...</td>\n",
       "      <td>...</td>\n",
       "      <td>...</td>\n",
       "      <td>...</td>\n",
       "      <td>...</td>\n",
       "      <td>...</td>\n",
       "      <td>...</td>\n",
       "      <td>...</td>\n",
       "      <td>...</td>\n",
       "      <td>...</td>\n",
       "      <td>...</td>\n",
       "      <td>...</td>\n",
       "      <td>...</td>\n",
       "      <td>...</td>\n",
       "      <td>...</td>\n",
       "      <td>...</td>\n",
       "      <td>...</td>\n",
       "      <td>...</td>\n",
       "      <td>...</td>\n",
       "      <td>...</td>\n",
       "      <td>...</td>\n",
       "    </tr>\n",
       "    <tr>\n",
       "      <th>322909</th>\n",
       "      <td>5651234</td>\n",
       "      <td>324582</td>\n",
       "      <td>b'ZTF20aaqvkyr'</td>\n",
       "      <td>1150185754815015006</td>\n",
       "      <td>96635</td>\n",
       "      <td>58904.185752</td>\n",
       "      <td>42.384302</td>\n",
       "      <td>29.148349</td>\n",
       "      <td>18.648100</td>\n",
       "      <td>0.645100</td>\n",
       "      <td>...</td>\n",
       "      <td>-0.001541</td>\n",
       "      <td>0.627608</td>\n",
       "      <td>0.750726</td>\n",
       "      <td>0.206199</td>\n",
       "      <td>2.981918</td>\n",
       "      <td>0.025126</td>\n",
       "      <td>5182.803024</td>\n",
       "      <td>0.999684</td>\n",
       "      <td>0.518186</td>\n",
       "      <td>False</td>\n",
       "    </tr>\n",
       "    <tr>\n",
       "      <th>322910</th>\n",
       "      <td>5651378</td>\n",
       "      <td>324582</td>\n",
       "      <td>b'ZTF20aaqvkyo'</td>\n",
       "      <td>1150185754815015007</td>\n",
       "      <td>96635</td>\n",
       "      <td>58904.185752</td>\n",
       "      <td>42.122572</td>\n",
       "      <td>29.195466</td>\n",
       "      <td>18.337299</td>\n",
       "      <td>0.647485</td>\n",
       "      <td>...</td>\n",
       "      <td>-0.001541</td>\n",
       "      <td>0.627608</td>\n",
       "      <td>0.750726</td>\n",
       "      <td>0.206199</td>\n",
       "      <td>2.981918</td>\n",
       "      <td>0.029094</td>\n",
       "      <td>6001.222051</td>\n",
       "      <td>0.999577</td>\n",
       "      <td>0.694749</td>\n",
       "      <td>False</td>\n",
       "    </tr>\n",
       "    <tr>\n",
       "      <th>322911</th>\n",
       "      <td>5651434</td>\n",
       "      <td>324582</td>\n",
       "      <td>b'ZTF20aaqvkus'</td>\n",
       "      <td>1150185310315015002</td>\n",
       "      <td>96634</td>\n",
       "      <td>58904.185313</td>\n",
       "      <td>43.256211</td>\n",
       "      <td>29.954124</td>\n",
       "      <td>19.257601</td>\n",
       "      <td>0.631015</td>\n",
       "      <td>...</td>\n",
       "      <td>-0.001541</td>\n",
       "      <td>0.627610</td>\n",
       "      <td>0.750725</td>\n",
       "      <td>0.206200</td>\n",
       "      <td>2.981912</td>\n",
       "      <td>0.017707</td>\n",
       "      <td>3652.453216</td>\n",
       "      <td>0.999843</td>\n",
       "      <td>0.257358</td>\n",
       "      <td>False</td>\n",
       "    </tr>\n",
       "    <tr>\n",
       "      <th>322912</th>\n",
       "      <td>5651513</td>\n",
       "      <td>324582</td>\n",
       "      <td>b'ZTF20aaqvlna'</td>\n",
       "      <td>1150185755115015011</td>\n",
       "      <td>96635</td>\n",
       "      <td>58904.185752</td>\n",
       "      <td>42.388038</td>\n",
       "      <td>28.228923</td>\n",
       "      <td>19.199400</td>\n",
       "      <td>0.650751</td>\n",
       "      <td>...</td>\n",
       "      <td>-0.001541</td>\n",
       "      <td>0.627608</td>\n",
       "      <td>0.750726</td>\n",
       "      <td>0.206199</td>\n",
       "      <td>2.981918</td>\n",
       "      <td>0.030306</td>\n",
       "      <td>6251.306560</td>\n",
       "      <td>0.999541</td>\n",
       "      <td>0.753854</td>\n",
       "      <td>False</td>\n",
       "    </tr>\n",
       "    <tr>\n",
       "      <th>322913</th>\n",
       "      <td>5651704</td>\n",
       "      <td>324582</td>\n",
       "      <td>b'ZTF20aaqvlmz'</td>\n",
       "      <td>1150185755115015003</td>\n",
       "      <td>96635</td>\n",
       "      <td>58904.185752</td>\n",
       "      <td>41.916630</td>\n",
       "      <td>28.631276</td>\n",
       "      <td>18.967100</td>\n",
       "      <td>0.653128</td>\n",
       "      <td>...</td>\n",
       "      <td>-0.001541</td>\n",
       "      <td>0.627608</td>\n",
       "      <td>0.750726</td>\n",
       "      <td>0.206199</td>\n",
       "      <td>2.981918</td>\n",
       "      <td>0.033791</td>\n",
       "      <td>6970.130701</td>\n",
       "      <td>0.999429</td>\n",
       "      <td>0.937173</td>\n",
       "      <td>False</td>\n",
       "    </tr>\n",
       "  </tbody>\n",
       "</table>\n",
       "<p>322914 rows × 27 columns</p>\n",
       "</div>"
      ],
      "text/plain": [
       "         ztf_id  element_id         ObjectID          CandidateID  \\\n",
       "0         53851         733  b'ZTF18abnothj'   594197584815010004   \n",
       "1         73603         733  b'ZTF18ablwzmb'   609167834815015007   \n",
       "2         73604         733  b'ZTF18ablwzmb'   594197584815015003   \n",
       "3         73605         733  b'ZTF18ablwzmb'   584189894815015004   \n",
       "4         82343         733  b'ZTF18abiydvm'   635193253015015018   \n",
       "...         ...         ...              ...                  ...   \n",
       "322909  5651234      324582  b'ZTF20aaqvkyr'  1150185754815015006   \n",
       "322910  5651378      324582  b'ZTF20aaqvkyo'  1150185754815015007   \n",
       "322911  5651434      324582  b'ZTF20aaqvkus'  1150185310315015002   \n",
       "322912  5651513      324582  b'ZTF20aaqvlna'  1150185755115015011   \n",
       "322913  5651704      324582  b'ZTF20aaqvlmz'  1150185755115015003   \n",
       "\n",
       "        TimeStampID           mjd          ra        dec    mag_app        ux  \\\n",
       "0              5501  58348.197581  266.229165 -13.513802  16.755600 -0.063945   \n",
       "1              7226  58363.167836  265.761064 -13.509195  18.339701 -0.071871   \n",
       "2              5501  58348.197581  265.761024 -13.509148  16.035999 -0.071871   \n",
       "3              4646  58338.189896  265.761079 -13.509107  16.892200 -0.071871   \n",
       "4             12089  58389.193252  270.331454 -11.244934  17.196199  0.005674   \n",
       "...             ...           ...         ...        ...        ...       ...   \n",
       "322909        96635  58904.185752   42.384302  29.148349  18.648100  0.645100   \n",
       "322910        96635  58904.185752   42.122572  29.195466  18.337299  0.647485   \n",
       "322911        96634  58904.185313   43.256211  29.954124  19.257601  0.631015   \n",
       "322912        96635  58904.185752   42.388038  28.228923  19.199400  0.650751   \n",
       "322913        96635  58904.185752   41.916630  28.631276  18.967100  0.653128   \n",
       "\n",
       "        ...        vz    elt_ux    elt_uy    elt_uz     elt_r         s  \\\n",
       "0       ...  0.004080 -0.057300 -0.982042  0.179751  2.234078  0.010624   \n",
       "1       ...  0.003999 -0.055041 -0.979702  0.192757  2.397172  0.027352   \n",
       "2       ...  0.004080 -0.057300 -0.982042  0.179751  2.234078  0.016809   \n",
       "3       ...  0.004126 -0.045072 -0.984663  0.168544  2.138928  0.027030   \n",
       "4       ...  0.003825  0.000919 -0.977996  0.208622  2.703478  0.005450   \n",
       "...     ...       ...       ...       ...       ...       ...       ...   \n",
       "322909  ... -0.001541  0.627608  0.750726  0.206199  2.981918  0.025126   \n",
       "322910  ... -0.001541  0.627608  0.750726  0.206199  2.981918  0.029094   \n",
       "322911  ... -0.001541  0.627610  0.750725  0.206200  2.981912  0.017707   \n",
       "322912  ... -0.001541  0.627608  0.750726  0.206199  2.981918  0.030306   \n",
       "322913  ... -0.001541  0.627608  0.750726  0.206199  2.981918  0.033791   \n",
       "\n",
       "              s_sec         z         v  is_hit  \n",
       "0       2191.408734  0.999944  0.092645   False  \n",
       "1       5641.954857  0.999626  0.614061   False  \n",
       "2       3467.151428  0.999859  0.231907   False  \n",
       "3       5575.548058  0.999635  0.599691   False  \n",
       "4       1124.103915  0.999985  0.024378   False  \n",
       "...             ...       ...       ...     ...  \n",
       "322909  5182.803024  0.999684  0.518186   False  \n",
       "322910  6001.222051  0.999577  0.694749   False  \n",
       "322911  3652.453216  0.999843  0.257358   False  \n",
       "322912  6251.306560  0.999541  0.753854   False  \n",
       "322913  6970.130701  0.999429  0.937173   False  \n",
       "\n",
       "[322914 rows x 27 columns]"
      ]
     },
     "execution_count": 15,
     "metadata": {},
     "output_type": "execute_result"
    }
   ],
   "source": [
    "# Review ZTF elements\n",
    "ztf_elt"
   ]
  },
  {
   "cell_type": "code",
   "execution_count": 16,
   "metadata": {},
   "outputs": [],
   "source": [
    "# Score by element - perturbed\n",
    "score_by_elt = ztf_score_by_elt(ztf_elt)"
   ]
  },
  {
   "cell_type": "code",
   "execution_count": 17,
   "metadata": {},
   "outputs": [
    {
     "name": "stdout",
     "output_type": "stream",
     "text": [
      "ZTF Element Dataframe Perturbed Asteroids:\n",
      "                  Total     (Per Batch)\n",
      "Observations   :   322914   (     5046)\n",
      "\n",
      "Summarize score = sum(-1.0 - log(v)) by batch.  (Mean=0, Variance=num_obs)\n",
      "Mean score     :    2908.12\n",
      "Sqrt(batch_obs):      71.03\n",
      "Mean t_score   :      45.02\n"
     ]
    }
   ],
   "source": [
    "# Summarize the ztf element batch: perturbed asteroids\n",
    "ztf_elt_summary(ztf_elt, score_by_elt, 'Perturbed Asteroids')"
   ]
  },
  {
   "cell_type": "code",
   "execution_count": 18,
   "metadata": {},
   "outputs": [],
   "source": [
    "# Mixture parameters\n",
    "num_hits: int = 10\n",
    "R_deg: float = 0.5"
   ]
  },
  {
   "cell_type": "code",
   "execution_count": 19,
   "metadata": {},
   "outputs": [],
   "source": [
    "# Add mixture parameters to candidate elements\n",
    "elts_add_mixture_params(elts=elts, num_hits=num_hits, R_deg=R_deg, thresh_deg=thresh_deg)"
   ]
  },
  {
   "cell_type": "code",
   "execution_count": 20,
   "metadata": {},
   "outputs": [],
   "source": [
    "# Add brightness parameter H\n",
    "elts_add_H(elts=elts)"
   ]
  },
  {
   "cell_type": "code",
   "execution_count": 21,
   "metadata": {},
   "outputs": [
    {
     "data": {
      "text/html": [
       "<div>\n",
       "<style scoped>\n",
       "    .dataframe tbody tr th:only-of-type {\n",
       "        vertical-align: middle;\n",
       "    }\n",
       "\n",
       "    .dataframe tbody tr th {\n",
       "        vertical-align: top;\n",
       "    }\n",
       "\n",
       "    .dataframe thead th {\n",
       "        text-align: right;\n",
       "    }\n",
       "</style>\n",
       "<table border=\"1\" class=\"dataframe\">\n",
       "  <thead>\n",
       "    <tr style=\"text-align: right;\">\n",
       "      <th></th>\n",
       "      <th>element_id</th>\n",
       "      <th>a</th>\n",
       "      <th>e</th>\n",
       "      <th>inc</th>\n",
       "      <th>Omega</th>\n",
       "      <th>omega</th>\n",
       "      <th>f</th>\n",
       "      <th>epoch</th>\n",
       "      <th>num_hits</th>\n",
       "      <th>R</th>\n",
       "      <th>thresh_s</th>\n",
       "      <th>H</th>\n",
       "      <th>sigma_mag</th>\n",
       "    </tr>\n",
       "  </thead>\n",
       "  <tbody>\n",
       "    <tr>\n",
       "      <th>0</th>\n",
       "      <td>51921</td>\n",
       "      <td>2.669306</td>\n",
       "      <td>0.217361</td>\n",
       "      <td>0.499554</td>\n",
       "      <td>4.699703</td>\n",
       "      <td>2.450796</td>\n",
       "      <td>-1.133491</td>\n",
       "      <td>58600.0</td>\n",
       "      <td>10</td>\n",
       "      <td>0.008727</td>\n",
       "      <td>0.034905</td>\n",
       "      <td>16.5</td>\n",
       "      <td>4.0</td>\n",
       "    </tr>\n",
       "    <tr>\n",
       "      <th>1</th>\n",
       "      <td>59244</td>\n",
       "      <td>2.634727</td>\n",
       "      <td>0.262503</td>\n",
       "      <td>0.465045</td>\n",
       "      <td>5.738298</td>\n",
       "      <td>1.766995</td>\n",
       "      <td>-1.601363</td>\n",
       "      <td>58600.0</td>\n",
       "      <td>10</td>\n",
       "      <td>0.008727</td>\n",
       "      <td>0.034905</td>\n",
       "      <td>16.5</td>\n",
       "      <td>4.0</td>\n",
       "    </tr>\n",
       "    <tr>\n",
       "      <th>2</th>\n",
       "      <td>15786</td>\n",
       "      <td>1.883227</td>\n",
       "      <td>0.047655</td>\n",
       "      <td>0.392360</td>\n",
       "      <td>6.134689</td>\n",
       "      <td>0.804823</td>\n",
       "      <td>-1.246069</td>\n",
       "      <td>58600.0</td>\n",
       "      <td>10</td>\n",
       "      <td>0.008727</td>\n",
       "      <td>0.034905</td>\n",
       "      <td>16.5</td>\n",
       "      <td>4.0</td>\n",
       "    </tr>\n",
       "    <tr>\n",
       "      <th>3</th>\n",
       "      <td>3904</td>\n",
       "      <td>2.556387</td>\n",
       "      <td>0.098279</td>\n",
       "      <td>0.261542</td>\n",
       "      <td>5.450163</td>\n",
       "      <td>2.202423</td>\n",
       "      <td>-1.357345</td>\n",
       "      <td>58600.0</td>\n",
       "      <td>10</td>\n",
       "      <td>0.008727</td>\n",
       "      <td>0.034905</td>\n",
       "      <td>16.5</td>\n",
       "      <td>4.0</td>\n",
       "    </tr>\n",
       "    <tr>\n",
       "      <th>4</th>\n",
       "      <td>142999</td>\n",
       "      <td>2.619944</td>\n",
       "      <td>0.191376</td>\n",
       "      <td>0.514017</td>\n",
       "      <td>0.238022</td>\n",
       "      <td>0.946463</td>\n",
       "      <td>-1.299301</td>\n",
       "      <td>58600.0</td>\n",
       "      <td>10</td>\n",
       "      <td>0.008727</td>\n",
       "      <td>0.034905</td>\n",
       "      <td>16.5</td>\n",
       "      <td>4.0</td>\n",
       "    </tr>\n",
       "    <tr>\n",
       "      <th>...</th>\n",
       "      <td>...</td>\n",
       "      <td>...</td>\n",
       "      <td>...</td>\n",
       "      <td>...</td>\n",
       "      <td>...</td>\n",
       "      <td>...</td>\n",
       "      <td>...</td>\n",
       "      <td>...</td>\n",
       "      <td>...</td>\n",
       "      <td>...</td>\n",
       "      <td>...</td>\n",
       "      <td>...</td>\n",
       "      <td>...</td>\n",
       "    </tr>\n",
       "    <tr>\n",
       "      <th>59</th>\n",
       "      <td>11952</td>\n",
       "      <td>2.219650</td>\n",
       "      <td>0.086091</td>\n",
       "      <td>0.117967</td>\n",
       "      <td>0.042442</td>\n",
       "      <td>2.904823</td>\n",
       "      <td>-3.016580</td>\n",
       "      <td>58600.0</td>\n",
       "      <td>10</td>\n",
       "      <td>0.008727</td>\n",
       "      <td>0.034905</td>\n",
       "      <td>16.5</td>\n",
       "      <td>4.0</td>\n",
       "    </tr>\n",
       "    <tr>\n",
       "      <th>60</th>\n",
       "      <td>134815</td>\n",
       "      <td>2.612770</td>\n",
       "      <td>0.140831</td>\n",
       "      <td>0.513922</td>\n",
       "      <td>0.272689</td>\n",
       "      <td>0.645552</td>\n",
       "      <td>-0.957836</td>\n",
       "      <td>58600.0</td>\n",
       "      <td>10</td>\n",
       "      <td>0.008727</td>\n",
       "      <td>0.034905</td>\n",
       "      <td>16.5</td>\n",
       "      <td>4.0</td>\n",
       "    </tr>\n",
       "    <tr>\n",
       "      <th>61</th>\n",
       "      <td>27860</td>\n",
       "      <td>2.619406</td>\n",
       "      <td>0.096185</td>\n",
       "      <td>0.200633</td>\n",
       "      <td>5.541400</td>\n",
       "      <td>3.266046</td>\n",
       "      <td>3.948770</td>\n",
       "      <td>58600.0</td>\n",
       "      <td>10</td>\n",
       "      <td>0.008727</td>\n",
       "      <td>0.034905</td>\n",
       "      <td>16.5</td>\n",
       "      <td>4.0</td>\n",
       "    </tr>\n",
       "    <tr>\n",
       "      <th>62</th>\n",
       "      <td>85937</td>\n",
       "      <td>2.342291</td>\n",
       "      <td>0.197267</td>\n",
       "      <td>0.439063</td>\n",
       "      <td>5.279693</td>\n",
       "      <td>3.210025</td>\n",
       "      <td>3.947687</td>\n",
       "      <td>58600.0</td>\n",
       "      <td>10</td>\n",
       "      <td>0.008727</td>\n",
       "      <td>0.034905</td>\n",
       "      <td>16.5</td>\n",
       "      <td>4.0</td>\n",
       "    </tr>\n",
       "    <tr>\n",
       "      <th>63</th>\n",
       "      <td>72911</td>\n",
       "      <td>3.155569</td>\n",
       "      <td>0.086495</td>\n",
       "      <td>0.262050</td>\n",
       "      <td>5.311936</td>\n",
       "      <td>2.108568</td>\n",
       "      <td>-1.020687</td>\n",
       "      <td>58600.0</td>\n",
       "      <td>10</td>\n",
       "      <td>0.008727</td>\n",
       "      <td>0.034905</td>\n",
       "      <td>16.5</td>\n",
       "      <td>4.0</td>\n",
       "    </tr>\n",
       "  </tbody>\n",
       "</table>\n",
       "<p>64 rows × 13 columns</p>\n",
       "</div>"
      ],
      "text/plain": [
       "    element_id         a         e       inc     Omega     omega         f  \\\n",
       "0        51921  2.669306  0.217361  0.499554  4.699703  2.450796 -1.133491   \n",
       "1        59244  2.634727  0.262503  0.465045  5.738298  1.766995 -1.601363   \n",
       "2        15786  1.883227  0.047655  0.392360  6.134689  0.804823 -1.246069   \n",
       "3         3904  2.556387  0.098279  0.261542  5.450163  2.202423 -1.357345   \n",
       "4       142999  2.619944  0.191376  0.514017  0.238022  0.946463 -1.299301   \n",
       "..         ...       ...       ...       ...       ...       ...       ...   \n",
       "59       11952  2.219650  0.086091  0.117967  0.042442  2.904823 -3.016580   \n",
       "60      134815  2.612770  0.140831  0.513922  0.272689  0.645552 -0.957836   \n",
       "61       27860  2.619406  0.096185  0.200633  5.541400  3.266046  3.948770   \n",
       "62       85937  2.342291  0.197267  0.439063  5.279693  3.210025  3.947687   \n",
       "63       72911  3.155569  0.086495  0.262050  5.311936  2.108568 -1.020687   \n",
       "\n",
       "      epoch  num_hits         R  thresh_s     H  sigma_mag  \n",
       "0   58600.0        10  0.008727  0.034905  16.5        4.0  \n",
       "1   58600.0        10  0.008727  0.034905  16.5        4.0  \n",
       "2   58600.0        10  0.008727  0.034905  16.5        4.0  \n",
       "3   58600.0        10  0.008727  0.034905  16.5        4.0  \n",
       "4   58600.0        10  0.008727  0.034905  16.5        4.0  \n",
       "..      ...       ...       ...       ...   ...        ...  \n",
       "59  58600.0        10  0.008727  0.034905  16.5        4.0  \n",
       "60  58600.0        10  0.008727  0.034905  16.5        4.0  \n",
       "61  58600.0        10  0.008727  0.034905  16.5        4.0  \n",
       "62  58600.0        10  0.008727  0.034905  16.5        4.0  \n",
       "63  58600.0        10  0.008727  0.034905  16.5        4.0  \n",
       "\n",
       "[64 rows x 13 columns]"
      ]
     },
     "execution_count": 21,
     "metadata": {},
     "output_type": "execute_result"
    }
   ],
   "source": [
    "# Review perturbed elements; includes nearest asteroid number and distance\n",
    "elts"
   ]
  },
  {
   "cell_type": "markdown",
   "metadata": {},
   "source": [
    "## Train on Unperturbed Elements: Learn Mixture Parameters"
   ]
  },
  {
   "cell_type": "code",
   "execution_count": 22,
   "metadata": {},
   "outputs": [],
   "source": [
    "# Observatory for ZTF data is Palomar Mountain\n",
    "site_name = 'palomar'"
   ]
  },
  {
   "cell_type": "code",
   "execution_count": 23,
   "metadata": {},
   "outputs": [],
   "source": [
    "# Training parameters\n",
    "learning_rate = 2.0**-15\n",
    "clipnorm = 1.0\n",
    "save_at_end: bool = True"
   ]
  },
  {
   "cell_type": "code",
   "execution_count": 24,
   "metadata": {},
   "outputs": [],
   "source": [
    "# Build asteroid search model\n",
    "model = AsteroidSearchModel(\n",
    "            elts=elts, ztf_elt=ztf_elt, \n",
    "            site_name=site_name, thresh_deg=thresh_deg, \n",
    "            learning_rate=learning_rate, clipnorm=clipnorm,\n",
    "            name='model')"
   ]
  },
  {
   "cell_type": "code",
   "execution_count": 25,
   "metadata": {},
   "outputs": [
    {
     "name": "stdout",
     "output_type": "stream",
     "text": [
      "     \\  log_like :  hits  :  R_deg    :    R_sec : thresh_deg\n",
      "Mean :     3.08  :   0.00 :  0.499750 :  1799.10 : 2.000000\n",
      "Std  :     1.46  :   0.00 :  0.000000 :     0.00 : 0.000000\n",
      "Min  :    -0.15  :   0.00 :  0.499750 :  1799.10 : 2.000000\n",
      "Max  :     6.30  :   0.00 :  0.499750 :  1799.10 : 2.000000\n",
      "Trained for 0 batches over 0 epochs and 0 episodes.\n"
     ]
    }
   ],
   "source": [
    "# Report before training starts\n",
    "model.report()"
   ]
  },
  {
   "cell_type": "code",
   "execution_count": 26,
   "metadata": {},
   "outputs": [
    {
     "data": {
      "image/png": "[encoded data removed]",
      "text/plain": [
       "<Figure size 1152x720 with 1 Axes>"
      ]
     },
     "metadata": {
      "needs_background": "light"
     },
     "output_type": "display_data"
    }
   ],
   "source": [
    "# Bar chart - log likelihood by element\n",
    "fig, ax = model.plot_bar('log_like', sorted=False)"
   ]
  },
  {
   "cell_type": "code",
   "execution_count": 27,
   "metadata": {},
   "outputs": [],
   "source": [
    "# Preliminary round of training with frozen elements\n",
    "model.freeze_candidate_elements()\n",
    "model.thaw_score()"
   ]
  },
  {
   "cell_type": "code",
   "execution_count": 28,
   "metadata": {},
   "outputs": [
    {
     "name": "stdout",
     "output_type": "stream",
     "text": [
      "Applying learning_rate 9.77e-04 (2.0^-10.0) for adaptive training.\n",
      "\n",
      "Training episode 0: Epoch    0, Batch      0\n",
      "effective_learning_rate=9.766e-04, training_time 0 sec.\n",
      "Train on 6400 samples\n",
      "Epoch 1/5\n",
      "6400/6400 [==============================] - 5s 740us/sample - loss: -635.8330\n",
      "Epoch 2/5\n",
      "6400/6400 [==============================] - 3s 424us/sample - loss: -12906.3837\n",
      "Epoch 3/5\n",
      "6400/6400 [==============================] - 3s 400us/sample - loss: -136213.5491\n",
      "Epoch 4/5\n",
      "6400/6400 [==============================] - 3s 391us/sample - loss: -1020089.5900\n",
      "Epoch 5/5\n",
      "6400/6400 [==============================] - 3s 398us/sample - loss: -4782018.6850\n",
      "Geom Mean Resolution: 0.000557 degrees (   2.0 arc seconds)\n",
      "Mean Hits          :    200.05\n",
      "Mean Log Likelihood:    782.11\n",
      "\n",
      "Training episode 1: Epoch    5, Batch    500\n",
      "effective_learning_rate=9.766e-04, training_time 26 sec.\n",
      "Train on 6400 samples\n",
      "Epoch 6/10\n",
      "6400/6400 [==============================] - 3s 411us/sample - loss: -7720389.8350\n",
      "Epoch 7/10\n",
      "6400/6400 [==============================] - 3s 416us/sample - loss: -7089752.8750\n",
      "Adjusted element weight down on 38 candidate elements. Mean weight = 7.03e-01\n",
      "Geom Mean Resolution: 0.000575 degrees (   2.1 arc seconds)\n",
      "Mean Hits          :    195.99\n",
      "Mean Log Likelihood:    923.07\n",
      "\n",
      "Training episode 2: Epoch    7, Batch    700\n",
      "effective_learning_rate=6.866e-04, training_time 31 sec.\n",
      "Train on 6400 samples\n",
      "Epoch 8/12\n",
      "6400/6400 [==============================] - 3s 412us/sample - loss: -3685667.6950\n",
      "Epoch 9/12\n",
      "6400/6400 [==============================] - 3s 416us/sample - loss: -3845210.9725\n",
      "Epoch 10/12\n",
      "6400/6400 [==============================] - 3s 406us/sample - loss: -3871688.9050\n",
      "Epoch 11/12\n",
      "6400/6400 [==============================] - 3s 414us/sample - loss: -3893693.1450\n",
      "Epoch 12/12\n",
      "6400/6400 [==============================] - 3s 413us/sample - loss: -3904291.4225\n",
      "Adjusted element weight down on 41 candidate elements. Mean weight = 5.31e-01\n",
      "Geom Mean Resolution: 0.000559 degrees (   2.0 arc seconds)\n",
      "Mean Hits          :    196.04\n",
      "Mean Log Likelihood:    974.69\n",
      "\n",
      "Training episode 3: Epoch   12, Batch   1200\n",
      "effective_learning_rate=5.188e-04, training_time 44 sec.\n",
      "Train on 6400 samples\n",
      "Epoch 13/17\n",
      "6400/6400 [==============================] - 3s 420us/sample - loss: -1981781.8050\n",
      "Epoch 14/17\n",
      "6400/6400 [==============================] - 3s 410us/sample - loss: -2081111.5863\n",
      "Epoch 15/17\n",
      "6400/6400 [==============================] - 3s 412us/sample - loss: -2099112.4762\n",
      "Epoch 16/17\n",
      "6400/6400 [==============================] - 3s 407us/sample - loss: -2107288.7075\n",
      "Epoch 17/17\n",
      "6400/6400 [==============================] - 3s 414us/sample - loss: -2115342.4900\n",
      "Adjusted element weight down on 41 candidate elements. Mean weight = 4.45e-01\n",
      "Geom Mean Resolution: 0.000548 degrees (   2.0 arc seconds)\n",
      "Mean Hits          :    195.98\n",
      "Mean Log Likelihood:   1010.74\n",
      "\n",
      "Training episode 4: Epoch   17, Batch   1700\n",
      "effective_learning_rate=4.349e-04, training_time 58 sec.\n",
      "Train on 6400 samples\n",
      "Epoch 18/22\n",
      "6400/6400 [==============================] - 3s 416us/sample - loss: -1153212.2975\n",
      "Epoch 19/22\n",
      "6400/6400 [==============================] - 3s 413us/sample - loss: -1202592.7775\n",
      "Epoch 20/22\n",
      "6400/6400 [==============================] - 3s 423us/sample - loss: -1220393.5150\n",
      "Epoch 21/22\n",
      "6400/6400 [==============================] - 3s 412us/sample - loss: -1226032.8538\n",
      "Epoch 22/22\n",
      "6400/6400 [==============================] - 3s 422us/sample - loss: -1229274.5062\n",
      "Adjusted element weight down on 42 candidate elements. Mean weight = 3.95e-01\n",
      "Geom Mean Resolution: 0.000541 degrees (   1.9 arc seconds)\n",
      "Mean Hits          :    195.96\n",
      "Mean Log Likelihood:   1038.28\n",
      "\n",
      "********************************************************************************\n",
      "Terminating: Completed 2200 batches.\n",
      "********************************************************************************\n",
      "Restoring original learning rate 3.05e-05.\n"
     ]
    }
   ],
   "source": [
    "# Train perturbed model with frozen orbital elements\n",
    "model.search_adaptive(\n",
    "    # max_batches=15000,\n",
    "    max_batches=model.current_batch+2000,\n",
    "    learning_rate=2.0**-10,\n",
    "    reset_active_weight=True,\n",
    ")"
   ]
  },
  {
   "cell_type": "code",
   "execution_count": null,
   "metadata": {},
   "outputs": [],
   "source": [
    "# Report results\n",
    "model.report()"
   ]
  },
  {
   "cell_type": "code",
   "execution_count": null,
   "metadata": {},
   "outputs": [],
   "source": [
    "# # Save the model after extended training\n",
    "# model.save_state()"
   ]
  },
  {
   "cell_type": "code",
   "execution_count": null,
   "metadata": {},
   "outputs": [],
   "source": [
    "# Load fully trained model\n",
    "model.load()"
   ]
  },
  {
   "cell_type": "code",
   "execution_count": null,
   "metadata": {},
   "outputs": [],
   "source": [
    "elts_fit = model.candidates_df()\n",
    "# np.mean(elts_fit.sigma_mag)"
   ]
  },
  {
   "cell_type": "code",
   "execution_count": null,
   "metadata": {},
   "outputs": [],
   "source": [
    "cols = ['hits', 'log_like', 'num_hits', 'R_sec', 'thresh_deg', 'H', 'sigma_mag']\n",
    "# pd.set_option('display.max_rows', 10)\n",
    "elts_fit[cols].sort_values(by='log_like', ascending=False)"
   ]
  },
  {
   "cell_type": "code",
   "execution_count": null,
   "metadata": {},
   "outputs": [],
   "source": [
    "elts_fit.sigma_mag.mean()"
   ]
  },
  {
   "cell_type": "code",
   "execution_count": null,
   "metadata": {},
   "outputs": [],
   "source": [
    "# Train perturbed model with frozen orbital elements\n",
    "model.search_adaptive(\n",
    "    max_batches=model.current_batches+1000,\n",
    "    learning_rate=2.0**-12,\n",
    ")"
   ]
  },
  {
   "cell_type": "code",
   "execution_count": null,
   "metadata": {},
   "outputs": [],
   "source": [
    "# Report results for fully trained model\n",
    "model.report()"
   ]
  },
  {
   "cell_type": "markdown",
   "metadata": {},
   "source": [
    "## Review Results Graphically"
   ]
  },
  {
   "cell_type": "code",
   "execution_count": null,
   "metadata": {},
   "outputs": [],
   "source": [
    "# Bar chart - log likelihood by element\n",
    "fig, ax = model.plot_bar('log_like', sorted=False)"
   ]
  },
  {
   "cell_type": "code",
   "execution_count": null,
   "metadata": {},
   "outputs": [],
   "source": [
    "# Bar chart: hits\n",
    "fig, ax = model.plot_bar('hits', sorted=False)"
   ]
  },
  {
   "cell_type": "code",
   "execution_count": null,
   "metadata": {},
   "outputs": [],
   "source": [
    "# Bar chart: log likelihood\n",
    "fig, ax = model.plot_bar('minus_log_R', sorted=False)"
   ]
  },
  {
   "cell_type": "code",
   "execution_count": null,
   "metadata": {},
   "outputs": [],
   "source": [
    "# Learning curve: log likelihood\n",
    "fig, ax = model.plot_hist('log_like')"
   ]
  },
  {
   "cell_type": "code",
   "execution_count": null,
   "metadata": {},
   "outputs": [],
   "source": [
    "# Learning curve: hits\n",
    "fig, ax = model.plot_hist('hits')"
   ]
  },
  {
   "cell_type": "markdown",
   "metadata": {},
   "source": [
    "## Distance vs. Nearest Asteroid for Fitted Elements"
   ]
  },
  {
   "cell_type": "code",
   "execution_count": null,
   "metadata": {},
   "outputs": [],
   "source": [
    "# Find nearest asteroid to fitted elements\n",
    "elts_fit, elts_near = model.nearest_ast()"
   ]
  },
  {
   "cell_type": "code",
   "execution_count": null,
   "metadata": {},
   "outputs": [],
   "source": [
    "# # Review asteroids nearest to the fitted elements\n",
    "# elts_near"
   ]
  },
  {
   "cell_type": "code",
   "execution_count": null,
   "metadata": {},
   "outputs": [],
   "source": [
    "# Review fitted elements including nearest asteroid\n",
    "elts_fit"
   ]
  },
  {
   "cell_type": "code",
   "execution_count": null,
   "metadata": {},
   "outputs": [],
   "source": [
    "# Filter for only the good ones\n",
    "mask = (elts_fit.log_like > 200) & (elts_fit.R_sec < 60)\n",
    "elts_fit[mask]"
   ]
  },
  {
   "cell_type": "code",
   "execution_count": null,
   "metadata": {},
   "outputs": [],
   "source": [
    "# Filter for incomplete convergence\n",
    "mask = (elts_fit.log_like > 200) & (elts_fit.R_sec >= 60)\n",
    "elts_fit[mask]"
   ]
  },
  {
   "cell_type": "markdown",
   "metadata": {},
   "source": [
    "## Visualize Error vs. Nearest Asteroid"
   ]
  },
  {
   "cell_type": "code",
   "execution_count": null,
   "metadata": {},
   "outputs": [],
   "source": [
    "model.elts_near_ast"
   ]
  },
  {
   "cell_type": "code",
   "execution_count": null,
   "metadata": {},
   "outputs": [],
   "source": [
    "# Plot position error vs. known elements\n",
    "fig, ax = model.plot_q_error(is_log=True, use_near_ast_dist=True)"
   ]
  },
  {
   "cell_type": "code",
   "execution_count": null,
   "metadata": {},
   "outputs": [],
   "source": [
    "# Plot error in orbital elements\n",
    "fig, ax = model.plot_elt_error(elt_name='a', is_log=True, elt_num=None)"
   ]
  },
  {
   "cell_type": "code",
   "execution_count": null,
   "metadata": {},
   "outputs": [],
   "source": [
    "# Plot error in orbital elements\n",
    "fig, ax = model.plot_elt_error(elt_name='e', is_log=True, elt_num=None)"
   ]
  },
  {
   "cell_type": "code",
   "execution_count": null,
   "metadata": {},
   "outputs": [],
   "source": []
  }
 ],
 "metadata": {
  "kernelspec": {
   "display_name": "Python [conda env:kepler]",
   "language": "python",
   "name": "conda-env-kepler-py"
  },
  "language_info": {
   "codemirror_mode": {
    "name": "ipython",
    "version": 3
   },
   "file_extension": ".py",
   "mimetype": "text/x-python",
   "name": "python",
   "nbconvert_exporter": "python",
   "pygments_lexer": "ipython3",
   "version": "3.7.6"
  }
 },
 "nbformat": 4,
 "nbformat_minor": 4
}
