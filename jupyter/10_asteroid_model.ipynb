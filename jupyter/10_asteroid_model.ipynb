{
 "cells": [
  {
   "cell_type": "code",
   "execution_count": 1,
   "metadata": {},
   "outputs": [],
   "source": [
    "# Core\n",
    "import numpy as np\n",
    "import pandas as pd\n",
    "\n",
    "# Tensorflow / ML\n",
    "import tensorflow as tf\n",
    "from tensorflow.python.keras import backend as K\n",
    "keras = tf.keras\n",
    "\n",
    "# MSE imports\n",
    "import kepler_sieve\n",
    "from ztf_ast import load_ztf_nearest_ast, calc_hit_freq\n",
    "from ztf_element import make_ztf_batch, load_ztf_batch\n",
    "from asteroid_element import load_ast_elt\n",
    "from candidate_element import asteroid_elts, perturb_elts, random_elts\n",
    "from asteroid_model import make_model_ast_pos, make_model_ast_dir\n",
    "from asteroid_model import AsteroidPosition, AsteroidDirection\n",
    "from astro_utils import dist2deg, dist2sec, deg2dist"
   ]
  },
  {
   "cell_type": "markdown",
   "metadata": {},
   "source": [
    "## Load ZTF Data and Batch of Orbital Elements"
   ]
  },
  {
   "cell_type": "code",
   "execution_count": 2,
   "metadata": {},
   "outputs": [],
   "source": [
    "# Load orbital elements for known asteroids\n",
    "ast_elt = load_ast_elt()\n",
    "\n",
    "# Number of asteroids\n",
    "N_ast = ast_elt.shape[0]"
   ]
  },
  {
   "cell_type": "code",
   "execution_count": 3,
   "metadata": {},
   "outputs": [],
   "source": [
    "# Load ztf nearest asteroid data\n",
    "ztf_ast = load_ztf_nearest_ast()"
   ]
  },
  {
   "cell_type": "code",
   "execution_count": 4,
   "metadata": {},
   "outputs": [],
   "source": [
    "# Asteroid numbers and hit counts\n",
    "ast_num, hit_count = calc_hit_freq(ztf=ztf_ast, thresh_sec=2.0)\n",
    "\n",
    "# Sort the hit counts in descending order and find the top batch_size\n",
    "idx = np.argsort(hit_count)[::-1]\n",
    "\n",
    "# Extract the asteroid number and hit count for this batch\n",
    "ast_num_best = ast_num[idx]\n",
    "hit_count_best = hit_count[idx]"
   ]
  },
  {
   "cell_type": "code",
   "execution_count": 5,
   "metadata": {},
   "outputs": [],
   "source": [
    "# Set element batch size\n",
    "elt_batch_size = 64\n",
    "\n",
    "# Batch of unperturbed elements\n",
    "elts_ast = asteroid_elts(ast_nums=ast_num_best[0:elt_batch_size])"
   ]
  },
  {
   "cell_type": "code",
   "execution_count": 6,
   "metadata": {},
   "outputs": [
    {
     "data": {
      "text/html": [
       "<div>\n",
       "<style scoped>\n",
       "    .dataframe tbody tr th:only-of-type {\n",
       "        vertical-align: middle;\n",
       "    }\n",
       "\n",
       "    .dataframe tbody tr th {\n",
       "        vertical-align: top;\n",
       "    }\n",
       "\n",
       "    .dataframe thead th {\n",
       "        text-align: right;\n",
       "    }\n",
       "</style>\n",
       "<table border=\"1\" class=\"dataframe\">\n",
       "  <thead>\n",
       "    <tr style=\"text-align: right;\">\n",
       "      <th></th>\n",
       "      <th>element_id</th>\n",
       "      <th>a</th>\n",
       "      <th>e</th>\n",
       "      <th>inc</th>\n",
       "      <th>Omega</th>\n",
       "      <th>omega</th>\n",
       "      <th>f</th>\n",
       "      <th>epoch</th>\n",
       "    </tr>\n",
       "  </thead>\n",
       "  <tbody>\n",
       "    <tr>\n",
       "      <th>0</th>\n",
       "      <td>51921</td>\n",
       "      <td>2.669306</td>\n",
       "      <td>0.217361</td>\n",
       "      <td>0.499554</td>\n",
       "      <td>4.699703</td>\n",
       "      <td>2.450796</td>\n",
       "      <td>-1.133491</td>\n",
       "      <td>58600.0</td>\n",
       "    </tr>\n",
       "    <tr>\n",
       "      <th>1</th>\n",
       "      <td>59244</td>\n",
       "      <td>2.634727</td>\n",
       "      <td>0.262503</td>\n",
       "      <td>0.465045</td>\n",
       "      <td>5.738298</td>\n",
       "      <td>1.766995</td>\n",
       "      <td>-1.601363</td>\n",
       "      <td>58600.0</td>\n",
       "    </tr>\n",
       "    <tr>\n",
       "      <th>2</th>\n",
       "      <td>15786</td>\n",
       "      <td>1.883227</td>\n",
       "      <td>0.047655</td>\n",
       "      <td>0.392360</td>\n",
       "      <td>6.134689</td>\n",
       "      <td>0.804823</td>\n",
       "      <td>-1.246069</td>\n",
       "      <td>58600.0</td>\n",
       "    </tr>\n",
       "    <tr>\n",
       "      <th>3</th>\n",
       "      <td>3904</td>\n",
       "      <td>2.556387</td>\n",
       "      <td>0.098279</td>\n",
       "      <td>0.261542</td>\n",
       "      <td>5.450163</td>\n",
       "      <td>2.202423</td>\n",
       "      <td>-1.357345</td>\n",
       "      <td>58600.0</td>\n",
       "    </tr>\n",
       "    <tr>\n",
       "      <th>4</th>\n",
       "      <td>142999</td>\n",
       "      <td>2.619944</td>\n",
       "      <td>0.191376</td>\n",
       "      <td>0.514017</td>\n",
       "      <td>0.238022</td>\n",
       "      <td>0.946463</td>\n",
       "      <td>-1.299301</td>\n",
       "      <td>58600.0</td>\n",
       "    </tr>\n",
       "    <tr>\n",
       "      <th>...</th>\n",
       "      <td>...</td>\n",
       "      <td>...</td>\n",
       "      <td>...</td>\n",
       "      <td>...</td>\n",
       "      <td>...</td>\n",
       "      <td>...</td>\n",
       "      <td>...</td>\n",
       "      <td>...</td>\n",
       "    </tr>\n",
       "    <tr>\n",
       "      <th>59</th>\n",
       "      <td>11952</td>\n",
       "      <td>2.219650</td>\n",
       "      <td>0.086091</td>\n",
       "      <td>0.117967</td>\n",
       "      <td>0.042442</td>\n",
       "      <td>2.904823</td>\n",
       "      <td>-3.016580</td>\n",
       "      <td>58600.0</td>\n",
       "    </tr>\n",
       "    <tr>\n",
       "      <th>60</th>\n",
       "      <td>134815</td>\n",
       "      <td>2.612770</td>\n",
       "      <td>0.140831</td>\n",
       "      <td>0.513922</td>\n",
       "      <td>0.272689</td>\n",
       "      <td>0.645552</td>\n",
       "      <td>-0.957836</td>\n",
       "      <td>58600.0</td>\n",
       "    </tr>\n",
       "    <tr>\n",
       "      <th>61</th>\n",
       "      <td>27860</td>\n",
       "      <td>2.619406</td>\n",
       "      <td>0.096185</td>\n",
       "      <td>0.200633</td>\n",
       "      <td>5.541400</td>\n",
       "      <td>3.266046</td>\n",
       "      <td>3.948770</td>\n",
       "      <td>58600.0</td>\n",
       "    </tr>\n",
       "    <tr>\n",
       "      <th>62</th>\n",
       "      <td>85937</td>\n",
       "      <td>2.342291</td>\n",
       "      <td>0.197267</td>\n",
       "      <td>0.439063</td>\n",
       "      <td>5.279693</td>\n",
       "      <td>3.210025</td>\n",
       "      <td>3.947687</td>\n",
       "      <td>58600.0</td>\n",
       "    </tr>\n",
       "    <tr>\n",
       "      <th>63</th>\n",
       "      <td>72911</td>\n",
       "      <td>3.155569</td>\n",
       "      <td>0.086495</td>\n",
       "      <td>0.262050</td>\n",
       "      <td>5.311936</td>\n",
       "      <td>2.108568</td>\n",
       "      <td>-1.020687</td>\n",
       "      <td>58600.0</td>\n",
       "    </tr>\n",
       "  </tbody>\n",
       "</table>\n",
       "<p>64 rows × 8 columns</p>\n",
       "</div>"
      ],
      "text/plain": [
       "    element_id         a         e       inc     Omega     omega         f  \\\n",
       "0        51921  2.669306  0.217361  0.499554  4.699703  2.450796 -1.133491   \n",
       "1        59244  2.634727  0.262503  0.465045  5.738298  1.766995 -1.601363   \n",
       "2        15786  1.883227  0.047655  0.392360  6.134689  0.804823 -1.246069   \n",
       "3         3904  2.556387  0.098279  0.261542  5.450163  2.202423 -1.357345   \n",
       "4       142999  2.619944  0.191376  0.514017  0.238022  0.946463 -1.299301   \n",
       "..         ...       ...       ...       ...       ...       ...       ...   \n",
       "59       11952  2.219650  0.086091  0.117967  0.042442  2.904823 -3.016580   \n",
       "60      134815  2.612770  0.140831  0.513922  0.272689  0.645552 -0.957836   \n",
       "61       27860  2.619406  0.096185  0.200633  5.541400  3.266046  3.948770   \n",
       "62       85937  2.342291  0.197267  0.439063  5.279693  3.210025  3.947687   \n",
       "63       72911  3.155569  0.086495  0.262050  5.311936  2.108568 -1.020687   \n",
       "\n",
       "      epoch  \n",
       "0   58600.0  \n",
       "1   58600.0  \n",
       "2   58600.0  \n",
       "3   58600.0  \n",
       "4   58600.0  \n",
       "..      ...  \n",
       "59  58600.0  \n",
       "60  58600.0  \n",
       "61  58600.0  \n",
       "62  58600.0  \n",
       "63  58600.0  \n",
       "\n",
       "[64 rows x 8 columns]"
      ]
     },
     "execution_count": 6,
     "metadata": {},
     "output_type": "execute_result"
    }
   ],
   "source": [
    "elts_ast"
   ]
  },
  {
   "cell_type": "code",
   "execution_count": 7,
   "metadata": {},
   "outputs": [],
   "source": [
    "# Perturb orbital elements\n",
    "sigma_a = 0.0 \n",
    "sigma_e = 0.0 \n",
    "sigma_f_deg = 0.1\n",
    "sigma_Omega_deg = 0.0\n",
    "sigma_omega_deg = 0.0\n",
    "mask_pert = None\n",
    "random_seed = 42\n",
    "\n",
    "elts_pert = perturb_elts(elts_ast, sigma_a=sigma_a, sigma_e=sigma_e, sigma_f_deg=sigma_f_deg, \n",
    "                         sigma_Omega_deg=sigma_Omega_deg, sigma_omega_deg=sigma_omega_deg,\n",
    "                         mask_pert=mask_pert, random_seed=random_seed)"
   ]
  },
  {
   "cell_type": "code",
   "execution_count": 8,
   "metadata": {},
   "outputs": [
    {
     "data": {
      "text/html": [
       "<div>\n",
       "<style scoped>\n",
       "    .dataframe tbody tr th:only-of-type {\n",
       "        vertical-align: middle;\n",
       "    }\n",
       "\n",
       "    .dataframe tbody tr th {\n",
       "        vertical-align: top;\n",
       "    }\n",
       "\n",
       "    .dataframe thead th {\n",
       "        text-align: right;\n",
       "    }\n",
       "</style>\n",
       "<table border=\"1\" class=\"dataframe\">\n",
       "  <thead>\n",
       "    <tr style=\"text-align: right;\">\n",
       "      <th></th>\n",
       "      <th>element_id</th>\n",
       "      <th>a</th>\n",
       "      <th>e</th>\n",
       "      <th>inc</th>\n",
       "      <th>Omega</th>\n",
       "      <th>omega</th>\n",
       "      <th>f</th>\n",
       "      <th>epoch</th>\n",
       "    </tr>\n",
       "  </thead>\n",
       "  <tbody>\n",
       "    <tr>\n",
       "      <th>0</th>\n",
       "      <td>51921</td>\n",
       "      <td>2.669306</td>\n",
       "      <td>0.217361</td>\n",
       "      <td>0.499554</td>\n",
       "      <td>4.699703</td>\n",
       "      <td>2.450796</td>\n",
       "      <td>-1.133117</td>\n",
       "      <td>58600.0</td>\n",
       "    </tr>\n",
       "    <tr>\n",
       "      <th>1</th>\n",
       "      <td>59244</td>\n",
       "      <td>2.634727</td>\n",
       "      <td>0.262503</td>\n",
       "      <td>0.465045</td>\n",
       "      <td>5.738298</td>\n",
       "      <td>1.766995</td>\n",
       "      <td>-1.603537</td>\n",
       "      <td>58600.0</td>\n",
       "    </tr>\n",
       "    <tr>\n",
       "      <th>2</th>\n",
       "      <td>15786</td>\n",
       "      <td>1.883227</td>\n",
       "      <td>0.047655</td>\n",
       "      <td>0.392360</td>\n",
       "      <td>6.134689</td>\n",
       "      <td>0.804823</td>\n",
       "      <td>-1.245767</td>\n",
       "      <td>58600.0</td>\n",
       "    </tr>\n",
       "    <tr>\n",
       "      <th>3</th>\n",
       "      <td>3904</td>\n",
       "      <td>2.556387</td>\n",
       "      <td>0.098279</td>\n",
       "      <td>0.261542</td>\n",
       "      <td>5.450163</td>\n",
       "      <td>2.202423</td>\n",
       "      <td>-1.356673</td>\n",
       "      <td>58600.0</td>\n",
       "    </tr>\n",
       "    <tr>\n",
       "      <th>4</th>\n",
       "      <td>142999</td>\n",
       "      <td>2.619944</td>\n",
       "      <td>0.191376</td>\n",
       "      <td>0.514017</td>\n",
       "      <td>0.238022</td>\n",
       "      <td>0.946463</td>\n",
       "      <td>-1.300844</td>\n",
       "      <td>58600.0</td>\n",
       "    </tr>\n",
       "    <tr>\n",
       "      <th>...</th>\n",
       "      <td>...</td>\n",
       "      <td>...</td>\n",
       "      <td>...</td>\n",
       "      <td>...</td>\n",
       "      <td>...</td>\n",
       "      <td>...</td>\n",
       "      <td>...</td>\n",
       "      <td>...</td>\n",
       "    </tr>\n",
       "    <tr>\n",
       "      <th>59</th>\n",
       "      <td>11952</td>\n",
       "      <td>2.219650</td>\n",
       "      <td>0.086091</td>\n",
       "      <td>0.117967</td>\n",
       "      <td>0.042442</td>\n",
       "      <td>2.904823</td>\n",
       "      <td>-3.014978</td>\n",
       "      <td>58600.0</td>\n",
       "    </tr>\n",
       "    <tr>\n",
       "      <th>60</th>\n",
       "      <td>134815</td>\n",
       "      <td>2.612770</td>\n",
       "      <td>0.140831</td>\n",
       "      <td>0.513922</td>\n",
       "      <td>0.272689</td>\n",
       "      <td>0.645552</td>\n",
       "      <td>-0.954132</td>\n",
       "      <td>58600.0</td>\n",
       "    </tr>\n",
       "    <tr>\n",
       "      <th>61</th>\n",
       "      <td>27860</td>\n",
       "      <td>2.619406</td>\n",
       "      <td>0.096185</td>\n",
       "      <td>0.200633</td>\n",
       "      <td>5.541400</td>\n",
       "      <td>3.266046</td>\n",
       "      <td>3.950572</td>\n",
       "      <td>58600.0</td>\n",
       "    </tr>\n",
       "    <tr>\n",
       "      <th>62</th>\n",
       "      <td>85937</td>\n",
       "      <td>2.342291</td>\n",
       "      <td>0.197267</td>\n",
       "      <td>0.439063</td>\n",
       "      <td>5.279693</td>\n",
       "      <td>3.210025</td>\n",
       "      <td>3.945035</td>\n",
       "      <td>58600.0</td>\n",
       "    </tr>\n",
       "    <tr>\n",
       "      <th>63</th>\n",
       "      <td>72911</td>\n",
       "      <td>3.155569</td>\n",
       "      <td>0.086495</td>\n",
       "      <td>0.262050</td>\n",
       "      <td>5.311936</td>\n",
       "      <td>2.108568</td>\n",
       "      <td>-1.021533</td>\n",
       "      <td>58600.0</td>\n",
       "    </tr>\n",
       "  </tbody>\n",
       "</table>\n",
       "<p>64 rows × 8 columns</p>\n",
       "</div>"
      ],
      "text/plain": [
       "    element_id         a         e       inc     Omega     omega         f  \\\n",
       "0        51921  2.669306  0.217361  0.499554  4.699703  2.450796 -1.133117   \n",
       "1        59244  2.634727  0.262503  0.465045  5.738298  1.766995 -1.603537   \n",
       "2        15786  1.883227  0.047655  0.392360  6.134689  0.804823 -1.245767   \n",
       "3         3904  2.556387  0.098279  0.261542  5.450163  2.202423 -1.356673   \n",
       "4       142999  2.619944  0.191376  0.514017  0.238022  0.946463 -1.300844   \n",
       "..         ...       ...       ...       ...       ...       ...       ...   \n",
       "59       11952  2.219650  0.086091  0.117967  0.042442  2.904823 -3.014978   \n",
       "60      134815  2.612770  0.140831  0.513922  0.272689  0.645552 -0.954132   \n",
       "61       27860  2.619406  0.096185  0.200633  5.541400  3.266046  3.950572   \n",
       "62       85937  2.342291  0.197267  0.439063  5.279693  3.210025  3.945035   \n",
       "63       72911  3.155569  0.086495  0.262050  5.311936  2.108568 -1.021533   \n",
       "\n",
       "      epoch  \n",
       "0   58600.0  \n",
       "1   58600.0  \n",
       "2   58600.0  \n",
       "3   58600.0  \n",
       "4   58600.0  \n",
       "..      ...  \n",
       "59  58600.0  \n",
       "60  58600.0  \n",
       "61  58600.0  \n",
       "62  58600.0  \n",
       "63  58600.0  \n",
       "\n",
       "[64 rows x 8 columns]"
      ]
     },
     "execution_count": 8,
     "metadata": {},
     "output_type": "execute_result"
    }
   ],
   "source": [
    "elts_pert"
   ]
  },
  {
   "cell_type": "markdown",
   "metadata": {},
   "source": [
    "## Batches of ZTF Data vs. Elements"
   ]
  },
  {
   "cell_type": "code",
   "execution_count": 9,
   "metadata": {},
   "outputs": [],
   "source": [
    "# Arguments to make_ztf_batch\n",
    "thresh_deg = 1.0\n",
    "near_ast = False\n",
    "regenerate = False"
   ]
  },
  {
   "cell_type": "code",
   "execution_count": 10,
   "metadata": {},
   "outputs": [],
   "source": [
    "# Load unperturbed element batch\n",
    "ztf_elt_ast = load_ztf_batch(elts=elts_ast, thresh_deg=thresh_deg, near_ast=near_ast, regenerate=regenerate)"
   ]
  },
  {
   "cell_type": "code",
   "execution_count": 11,
   "metadata": {},
   "outputs": [],
   "source": [
    "# Load perturbed element batch\n",
    "ztf_elt_pert = load_ztf_batch(elts=elts_pert, thresh_deg=thresh_deg, near_ast=near_ast, regenerate=regenerate)"
   ]
  },
  {
   "cell_type": "code",
   "execution_count": 12,
   "metadata": {},
   "outputs": [
    {
     "data": {
      "text/html": [
       "<div>\n",
       "<style scoped>\n",
       "    .dataframe tbody tr th:only-of-type {\n",
       "        vertical-align: middle;\n",
       "    }\n",
       "\n",
       "    .dataframe tbody tr th {\n",
       "        vertical-align: top;\n",
       "    }\n",
       "\n",
       "    .dataframe thead th {\n",
       "        text-align: right;\n",
       "    }\n",
       "</style>\n",
       "<table border=\"1\" class=\"dataframe\">\n",
       "  <thead>\n",
       "    <tr style=\"text-align: right;\">\n",
       "      <th></th>\n",
       "      <th>ztf_id</th>\n",
       "      <th>element_id</th>\n",
       "      <th>ObjectID</th>\n",
       "      <th>CandidateID</th>\n",
       "      <th>TimeStampID</th>\n",
       "      <th>mjd</th>\n",
       "      <th>ra</th>\n",
       "      <th>dec</th>\n",
       "      <th>mag_app</th>\n",
       "      <th>ux</th>\n",
       "      <th>...</th>\n",
       "      <th>vz</th>\n",
       "      <th>elt_ux</th>\n",
       "      <th>elt_uy</th>\n",
       "      <th>elt_uz</th>\n",
       "      <th>elt_r</th>\n",
       "      <th>s</th>\n",
       "      <th>s_sec</th>\n",
       "      <th>z</th>\n",
       "      <th>v</th>\n",
       "      <th>is_hit</th>\n",
       "    </tr>\n",
       "  </thead>\n",
       "  <tbody>\n",
       "    <tr>\n",
       "      <th>0</th>\n",
       "      <td>53851</td>\n",
       "      <td>733</td>\n",
       "      <td>b'ZTF18abnothj'</td>\n",
       "      <td>594197584815010004</td>\n",
       "      <td>5501</td>\n",
       "      <td>58348.197581</td>\n",
       "      <td>266.229165</td>\n",
       "      <td>-13.513802</td>\n",
       "      <td>16.755600</td>\n",
       "      <td>-0.063945</td>\n",
       "      <td>...</td>\n",
       "      <td>0.004080</td>\n",
       "      <td>-0.057300</td>\n",
       "      <td>-0.982042</td>\n",
       "      <td>0.179751</td>\n",
       "      <td>2.234078</td>\n",
       "      <td>0.010624</td>\n",
       "      <td>2191.408734</td>\n",
       "      <td>0.999944</td>\n",
       "      <td>0.370552</td>\n",
       "      <td>False</td>\n",
       "    </tr>\n",
       "    <tr>\n",
       "      <th>1</th>\n",
       "      <td>73604</td>\n",
       "      <td>733</td>\n",
       "      <td>b'ZTF18ablwzmb'</td>\n",
       "      <td>594197584815015003</td>\n",
       "      <td>5501</td>\n",
       "      <td>58348.197581</td>\n",
       "      <td>265.761024</td>\n",
       "      <td>-13.509148</td>\n",
       "      <td>16.035999</td>\n",
       "      <td>-0.071871</td>\n",
       "      <td>...</td>\n",
       "      <td>0.004080</td>\n",
       "      <td>-0.057300</td>\n",
       "      <td>-0.982042</td>\n",
       "      <td>0.179751</td>\n",
       "      <td>2.234078</td>\n",
       "      <td>0.016809</td>\n",
       "      <td>3467.151428</td>\n",
       "      <td>0.999859</td>\n",
       "      <td>0.927559</td>\n",
       "      <td>False</td>\n",
       "    </tr>\n",
       "    <tr>\n",
       "      <th>2</th>\n",
       "      <td>82343</td>\n",
       "      <td>733</td>\n",
       "      <td>b'ZTF18abiydvm'</td>\n",
       "      <td>635193253015015018</td>\n",
       "      <td>12089</td>\n",
       "      <td>58389.193252</td>\n",
       "      <td>270.331454</td>\n",
       "      <td>-11.244934</td>\n",
       "      <td>17.196199</td>\n",
       "      <td>0.005674</td>\n",
       "      <td>...</td>\n",
       "      <td>0.003825</td>\n",
       "      <td>0.000919</td>\n",
       "      <td>-0.977996</td>\n",
       "      <td>0.208622</td>\n",
       "      <td>2.703478</td>\n",
       "      <td>0.005450</td>\n",
       "      <td>1124.103915</td>\n",
       "      <td>0.999985</td>\n",
       "      <td>0.097503</td>\n",
       "      <td>False</td>\n",
       "    </tr>\n",
       "    <tr>\n",
       "      <th>3</th>\n",
       "      <td>257221</td>\n",
       "      <td>733</td>\n",
       "      <td>b'ZTF18acakcqg'</td>\n",
       "      <td>931471223715015007</td>\n",
       "      <td>39920</td>\n",
       "      <td>58685.471227</td>\n",
       "      <td>29.693832</td>\n",
       "      <td>42.180412</td>\n",
       "      <td>19.289200</td>\n",
       "      <td>0.643725</td>\n",
       "      <td>...</td>\n",
       "      <td>-0.001953</td>\n",
       "      <td>0.639004</td>\n",
       "      <td>0.610779</td>\n",
       "      <td>0.467571</td>\n",
       "      <td>2.175851</td>\n",
       "      <td>0.008713</td>\n",
       "      <td>1797.091521</td>\n",
       "      <td>0.999962</td>\n",
       "      <td>0.249197</td>\n",
       "      <td>False</td>\n",
       "    </tr>\n",
       "    <tr>\n",
       "      <th>4</th>\n",
       "      <td>327000</td>\n",
       "      <td>733</td>\n",
       "      <td>b'ZTF18achmdmw'</td>\n",
       "      <td>937465970615015011</td>\n",
       "      <td>40837</td>\n",
       "      <td>58691.465972</td>\n",
       "      <td>33.104905</td>\n",
       "      <td>44.059131</td>\n",
       "      <td>17.725201</td>\n",
       "      <td>0.601970</td>\n",
       "      <td>...</td>\n",
       "      <td>-0.002129</td>\n",
       "      <td>0.606278</td>\n",
       "      <td>0.637608</td>\n",
       "      <td>0.475272</td>\n",
       "      <td>2.114866</td>\n",
       "      <td>0.007949</td>\n",
       "      <td>1639.539679</td>\n",
       "      <td>0.999968</td>\n",
       "      <td>0.207419</td>\n",
       "      <td>False</td>\n",
       "    </tr>\n",
       "    <tr>\n",
       "      <th>...</th>\n",
       "      <td>...</td>\n",
       "      <td>...</td>\n",
       "      <td>...</td>\n",
       "      <td>...</td>\n",
       "      <td>...</td>\n",
       "      <td>...</td>\n",
       "      <td>...</td>\n",
       "      <td>...</td>\n",
       "      <td>...</td>\n",
       "      <td>...</td>\n",
       "      <td>...</td>\n",
       "      <td>...</td>\n",
       "      <td>...</td>\n",
       "      <td>...</td>\n",
       "      <td>...</td>\n",
       "      <td>...</td>\n",
       "      <td>...</td>\n",
       "      <td>...</td>\n",
       "      <td>...</td>\n",
       "      <td>...</td>\n",
       "      <td>...</td>\n",
       "    </tr>\n",
       "    <tr>\n",
       "      <th>90206</th>\n",
       "      <td>5650588</td>\n",
       "      <td>324582</td>\n",
       "      <td>b'ZTF20aaqvhld'</td>\n",
       "      <td>1150176701515015008</td>\n",
       "      <td>96618</td>\n",
       "      <td>58904.176701</td>\n",
       "      <td>44.164238</td>\n",
       "      <td>29.650540</td>\n",
       "      <td>18.084700</td>\n",
       "      <td>0.623416</td>\n",
       "      <td>...</td>\n",
       "      <td>-0.001541</td>\n",
       "      <td>0.627640</td>\n",
       "      <td>0.750696</td>\n",
       "      <td>0.206212</td>\n",
       "      <td>2.981799</td>\n",
       "      <td>0.008187</td>\n",
       "      <td>1688.638104</td>\n",
       "      <td>0.999966</td>\n",
       "      <td>0.220027</td>\n",
       "      <td>False</td>\n",
       "    </tr>\n",
       "    <tr>\n",
       "      <th>90207</th>\n",
       "      <td>5650589</td>\n",
       "      <td>324582</td>\n",
       "      <td>b'ZTF20aaqvhld'</td>\n",
       "      <td>1150176245715015005</td>\n",
       "      <td>96617</td>\n",
       "      <td>58904.176250</td>\n",
       "      <td>44.164062</td>\n",
       "      <td>29.650536</td>\n",
       "      <td>18.165199</td>\n",
       "      <td>0.623417</td>\n",
       "      <td>...</td>\n",
       "      <td>-0.001541</td>\n",
       "      <td>0.627641</td>\n",
       "      <td>0.750695</td>\n",
       "      <td>0.206213</td>\n",
       "      <td>2.981793</td>\n",
       "      <td>0.008187</td>\n",
       "      <td>1688.601889</td>\n",
       "      <td>0.999966</td>\n",
       "      <td>0.220018</td>\n",
       "      <td>False</td>\n",
       "    </tr>\n",
       "    <tr>\n",
       "      <th>90208</th>\n",
       "      <td>5650665</td>\n",
       "      <td>324582</td>\n",
       "      <td>b'ZTF20aaqvhll'</td>\n",
       "      <td>1150176245815015010</td>\n",
       "      <td>96617</td>\n",
       "      <td>58904.176250</td>\n",
       "      <td>44.368640</td>\n",
       "      <td>28.490480</td>\n",
       "      <td>19.025200</td>\n",
       "      <td>0.628284</td>\n",
       "      <td>...</td>\n",
       "      <td>-0.001541</td>\n",
       "      <td>0.627641</td>\n",
       "      <td>0.750695</td>\n",
       "      <td>0.206213</td>\n",
       "      <td>2.981793</td>\n",
       "      <td>0.013370</td>\n",
       "      <td>2757.856412</td>\n",
       "      <td>0.999911</td>\n",
       "      <td>0.586871</td>\n",
       "      <td>False</td>\n",
       "    </tr>\n",
       "    <tr>\n",
       "      <th>90209</th>\n",
       "      <td>5650697</td>\n",
       "      <td>324582</td>\n",
       "      <td>b'ZTF20aaqvhmb'</td>\n",
       "      <td>1150176246015015005</td>\n",
       "      <td>96617</td>\n",
       "      <td>58904.176250</td>\n",
       "      <td>43.296207</td>\n",
       "      <td>29.505908</td>\n",
       "      <td>19.852800</td>\n",
       "      <td>0.633424</td>\n",
       "      <td>...</td>\n",
       "      <td>-0.001541</td>\n",
       "      <td>0.627641</td>\n",
       "      <td>0.750695</td>\n",
       "      <td>0.206213</td>\n",
       "      <td>2.981793</td>\n",
       "      <td>0.012388</td>\n",
       "      <td>2555.278205</td>\n",
       "      <td>0.999923</td>\n",
       "      <td>0.503822</td>\n",
       "      <td>False</td>\n",
       "    </tr>\n",
       "    <tr>\n",
       "      <th>90210</th>\n",
       "      <td>5650705</td>\n",
       "      <td>324582</td>\n",
       "      <td>b'ZTF20aaqvhlg'</td>\n",
       "      <td>1150176245715015008</td>\n",
       "      <td>96617</td>\n",
       "      <td>58904.176250</td>\n",
       "      <td>44.621045</td>\n",
       "      <td>29.303550</td>\n",
       "      <td>19.647400</td>\n",
       "      <td>0.620689</td>\n",
       "      <td>...</td>\n",
       "      <td>-0.001541</td>\n",
       "      <td>0.627641</td>\n",
       "      <td>0.750695</td>\n",
       "      <td>0.206213</td>\n",
       "      <td>2.981793</td>\n",
       "      <td>0.009206</td>\n",
       "      <td>1898.912116</td>\n",
       "      <td>0.999958</td>\n",
       "      <td>0.278236</td>\n",
       "      <td>False</td>\n",
       "    </tr>\n",
       "  </tbody>\n",
       "</table>\n",
       "<p>90211 rows × 27 columns</p>\n",
       "</div>"
      ],
      "text/plain": [
       "        ztf_id  element_id         ObjectID          CandidateID  TimeStampID  \\\n",
       "0        53851         733  b'ZTF18abnothj'   594197584815010004         5501   \n",
       "1        73604         733  b'ZTF18ablwzmb'   594197584815015003         5501   \n",
       "2        82343         733  b'ZTF18abiydvm'   635193253015015018        12089   \n",
       "3       257221         733  b'ZTF18acakcqg'   931471223715015007        39920   \n",
       "4       327000         733  b'ZTF18achmdmw'   937465970615015011        40837   \n",
       "...        ...         ...              ...                  ...          ...   \n",
       "90206  5650588      324582  b'ZTF20aaqvhld'  1150176701515015008        96618   \n",
       "90207  5650589      324582  b'ZTF20aaqvhld'  1150176245715015005        96617   \n",
       "90208  5650665      324582  b'ZTF20aaqvhll'  1150176245815015010        96617   \n",
       "90209  5650697      324582  b'ZTF20aaqvhmb'  1150176246015015005        96617   \n",
       "90210  5650705      324582  b'ZTF20aaqvhlg'  1150176245715015008        96617   \n",
       "\n",
       "                mjd          ra        dec    mag_app        ux  ...  \\\n",
       "0      58348.197581  266.229165 -13.513802  16.755600 -0.063945  ...   \n",
       "1      58348.197581  265.761024 -13.509148  16.035999 -0.071871  ...   \n",
       "2      58389.193252  270.331454 -11.244934  17.196199  0.005674  ...   \n",
       "3      58685.471227   29.693832  42.180412  19.289200  0.643725  ...   \n",
       "4      58691.465972   33.104905  44.059131  17.725201  0.601970  ...   \n",
       "...             ...         ...        ...        ...       ...  ...   \n",
       "90206  58904.176701   44.164238  29.650540  18.084700  0.623416  ...   \n",
       "90207  58904.176250   44.164062  29.650536  18.165199  0.623417  ...   \n",
       "90208  58904.176250   44.368640  28.490480  19.025200  0.628284  ...   \n",
       "90209  58904.176250   43.296207  29.505908  19.852800  0.633424  ...   \n",
       "90210  58904.176250   44.621045  29.303550  19.647400  0.620689  ...   \n",
       "\n",
       "             vz    elt_ux    elt_uy    elt_uz     elt_r         s  \\\n",
       "0      0.004080 -0.057300 -0.982042  0.179751  2.234078  0.010624   \n",
       "1      0.004080 -0.057300 -0.982042  0.179751  2.234078  0.016809   \n",
       "2      0.003825  0.000919 -0.977996  0.208622  2.703478  0.005450   \n",
       "3     -0.001953  0.639004  0.610779  0.467571  2.175851  0.008713   \n",
       "4     -0.002129  0.606278  0.637608  0.475272  2.114866  0.007949   \n",
       "...         ...       ...       ...       ...       ...       ...   \n",
       "90206 -0.001541  0.627640  0.750696  0.206212  2.981799  0.008187   \n",
       "90207 -0.001541  0.627641  0.750695  0.206213  2.981793  0.008187   \n",
       "90208 -0.001541  0.627641  0.750695  0.206213  2.981793  0.013370   \n",
       "90209 -0.001541  0.627641  0.750695  0.206213  2.981793  0.012388   \n",
       "90210 -0.001541  0.627641  0.750695  0.206213  2.981793  0.009206   \n",
       "\n",
       "             s_sec         z         v  is_hit  \n",
       "0      2191.408734  0.999944  0.370552   False  \n",
       "1      3467.151428  0.999859  0.927559   False  \n",
       "2      1124.103915  0.999985  0.097503   False  \n",
       "3      1797.091521  0.999962  0.249197   False  \n",
       "4      1639.539679  0.999968  0.207419   False  \n",
       "...            ...       ...       ...     ...  \n",
       "90206  1688.638104  0.999966  0.220027   False  \n",
       "90207  1688.601889  0.999966  0.220018   False  \n",
       "90208  2757.856412  0.999911  0.586871   False  \n",
       "90209  2555.278205  0.999923  0.503822   False  \n",
       "90210  1898.912116  0.999958  0.278236   False  \n",
       "\n",
       "[90211 rows x 27 columns]"
      ]
     },
     "execution_count": 12,
     "metadata": {},
     "output_type": "execute_result"
    }
   ],
   "source": [
    "ztf_elt_ast"
   ]
  },
  {
   "cell_type": "code",
   "execution_count": 13,
   "metadata": {},
   "outputs": [
    {
     "data": {
      "text/plain": [
       "Index(['ztf_id', 'element_id', 'ObjectID', 'CandidateID', 'TimeStampID', 'mjd',\n",
       "       'ra', 'dec', 'mag_app', 'ux', 'uy', 'uz', 'qx', 'qy', 'qz', 'vx', 'vy',\n",
       "       'vz', 'elt_ux', 'elt_uy', 'elt_uz', 'elt_r', 's', 's_sec', 'z', 'v',\n",
       "       'is_hit'],\n",
       "      dtype='object')"
      ]
     },
     "execution_count": 13,
     "metadata": {},
     "output_type": "execute_result"
    }
   ],
   "source": [
    "ztf_elt_ast.columns"
   ]
  },
  {
   "cell_type": "code",
   "execution_count": 14,
   "metadata": {},
   "outputs": [
    {
     "name": "stdout",
     "output_type": "stream",
     "text": [
      "Best asteroid has element_id = 51921\n",
      "Hit count: 158\n",
      "Closest hit: 0.381 arc seconds\n"
     ]
    }
   ],
   "source": [
    "# Review results\n",
    "ztf_elt = ztf_elt_ast\n",
    "element_id_best = ast_num_best[0]\n",
    "mask = (ztf_elt.element_id == element_id_best)\n",
    "hits_best = np.sum(ztf_elt[mask].is_hit)\n",
    "s_sec_min = np.min(ztf_elt[mask].s_sec)\n",
    "idx = np.argmin(ztf_elt.s)\n",
    "ztf_id = ztf_elt.ztf_id[idx]\n",
    "# ztf_elt[mask].iloc[idx:idx+1]\n",
    "print(f'Best asteroid has element_id = {element_id_best}')\n",
    "print(f'Hit count: {hits_best}')\n",
    "print(f'Closest hit: {s_sec_min:0.3f} arc seconds')\n",
    "# ztf_elt[mask]"
   ]
  },
  {
   "cell_type": "markdown",
   "metadata": {},
   "source": [
    "## Load Position and Direction Models"
   ]
  },
  {
   "cell_type": "code",
   "execution_count": 15,
   "metadata": {},
   "outputs": [],
   "source": [
    "# Data types\n",
    "dtype = tf.float32\n",
    "dtype_np = np.float32"
   ]
  },
  {
   "cell_type": "code",
   "execution_count": 16,
   "metadata": {},
   "outputs": [],
   "source": [
    "# Alias ztf_elt\n",
    "ztf_elt = ztf_elt_ast.copy()"
   ]
  },
  {
   "cell_type": "code",
   "execution_count": 17,
   "metadata": {},
   "outputs": [],
   "source": [
    "# Build numpy array of times\n",
    "ts_np = ztf_elt.mjd.values.astype(dtype_np)\n",
    "\n",
    "# Build tensor of flattened times\n",
    "ts = keras.backend.constant(ts_np)"
   ]
  },
  {
   "cell_type": "code",
   "execution_count": 18,
   "metadata": {},
   "outputs": [],
   "source": [
    "# Get observation count per element\n",
    "row_lengths_np = ztf_elt.element_id.groupby(ztf_elt.element_id).count().values.astype(np.int32)\n",
    "\n",
    "# Tensor of row lengths\n",
    "row_lengths = keras.backend.constant(row_lengths_np, dtype=tf.int32)"
   ]
  },
  {
   "cell_type": "code",
   "execution_count": 19,
   "metadata": {},
   "outputs": [
    {
     "data": {
      "text/plain": [
       "<tf.Tensor: shape=(64,), dtype=int32, numpy=\n",
       "array([1424,  936, 1117, 1087, 1035, 1028,  780, 2747,  926, 2485, 1023,\n",
       "       1013, 1063,  858, 1943,  950,  636, 1199, 1547, 1477,  991,  790,\n",
       "       3205, 2719, 1613,  771, 1047, 1253,  845, 3084,  866, 1474, 2678,\n",
       "        802, 1653,  708, 1043,  855, 2362, 1012, 1048, 1677,  916,  813,\n",
       "       1101, 1180, 2708,  688, 1929, 2871, 1099,  743,  943, 2018, 2717,\n",
       "        595,  864,  941, 2628, 3127,  943, 1726,  762, 1129], dtype=int32)>"
      ]
     },
     "execution_count": 19,
     "metadata": {},
     "output_type": "execute_result"
    }
   ],
   "source": [
    "row_lengths"
   ]
  },
  {
   "cell_type": "code",
   "execution_count": 20,
   "metadata": {},
   "outputs": [],
   "source": [
    "# Build ragged tensor of input times\n",
    "ts_r = tf.RaggedTensor.from_row_lengths(values=ztf_elt.mjd.values.astype(dtype_np), row_lengths=row_lengths)"
   ]
  },
  {
   "cell_type": "code",
   "execution_count": 21,
   "metadata": {},
   "outputs": [],
   "source": [
    "# Unique times\n",
    "ts_unq = np.unique(ztf_elt_ast.mjd)\n",
    "TimeStampID_unq = np.unique(ztf_elt_ast.TimeStampID)\n",
    "\n",
    "# The epoch\n",
    "epoch0 = elts_ast.epoch[0]"
   ]
  },
  {
   "cell_type": "code",
   "execution_count": 22,
   "metadata": {},
   "outputs": [
    {
     "name": "stdout",
     "output_type": "stream",
     "text": [
      "ts.shape=(90211,)\n",
      "ts.shape=(64, None)\n",
      "ts_unq.shape=(6383,)\n"
     ]
    }
   ],
   "source": [
    "# Report time tensor shapes\n",
    "print(f'ts.shape={ts.shape}')\n",
    "print(f'ts.shape={ts_r.shape}')\n",
    "# print(f'ts_flat.shape={ts_flat.shape}')\n",
    "print(f'ts_unq.shape={ts_unq.shape}')"
   ]
  },
  {
   "cell_type": "code",
   "execution_count": 23,
   "metadata": {},
   "outputs": [],
   "source": [
    "# Observation site\n",
    "site_name = 'palomar'"
   ]
  },
  {
   "cell_type": "code",
   "execution_count": 24,
   "metadata": {},
   "outputs": [],
   "source": [
    "# Build position model\n",
    "model_pos = make_model_ast_pos(ts_np=ts_np, row_lengths_np=row_lengths_np)"
   ]
  },
  {
   "cell_type": "code",
   "execution_count": 25,
   "metadata": {},
   "outputs": [],
   "source": [
    "# Build direction model\n",
    "model_dir = make_model_ast_dir(ts_np=ts_np, row_lengths_np=row_lengths_np, site_name=site_name)"
   ]
  },
  {
   "cell_type": "code",
   "execution_count": 26,
   "metadata": {},
   "outputs": [],
   "source": [
    "# Stack elements as a dict of numpy arrays for prediction\n",
    "cols_elt = ['a', 'e', 'inc', 'Omega', 'omega', 'f', 'epoch']\n",
    "elts_ast_dict = {col : elts_ast[col].values for col in cols_elt}\n",
    "# elts_ast_dict"
   ]
  },
  {
   "cell_type": "markdown",
   "metadata": {},
   "source": [
    "## Run and Calibrate Position Model"
   ]
  },
  {
   "cell_type": "code",
   "execution_count": 27,
   "metadata": {},
   "outputs": [
    {
     "name": "stdout",
     "output_type": "stream",
     "text": [
      "Model: \"model_asteroid_pos\"\n",
      "__________________________________________________________________________________________________\n",
      "Layer (type)                    Output Shape         Param #     Connected to                     \n",
      "==================================================================================================\n",
      "a (InputLayer)                  [(64,)]              0                                            \n",
      "__________________________________________________________________________________________________\n",
      "Omega (InputLayer)              [(64,)]              0                                            \n",
      "__________________________________________________________________________________________________\n",
      "e (InputLayer)                  [(64,)]              0                                            \n",
      "__________________________________________________________________________________________________\n",
      "epoch (InputLayer)              [(64,)]              0                                            \n",
      "__________________________________________________________________________________________________\n",
      "f (InputLayer)                  [(64,)]              0                                            \n",
      "__________________________________________________________________________________________________\n",
      "inc (InputLayer)                [(64,)]              0                                            \n",
      "__________________________________________________________________________________________________\n",
      "omega (InputLayer)              [(64,)]              0                                            \n",
      "__________________________________________________________________________________________________\n",
      "ast_pos_layer (AsteroidPosition ((90211, 3), (90211, 541266      a[0][0]                          \n",
      "__________________________________________________________________________________________________\n",
      "q (Lambda)                      (64, None, 3)        0           ast_pos_layer[0][0]              \n",
      "__________________________________________________________________________________________________\n",
      "v (Lambda)                      (64, None, 3)        0           ast_pos_layer[0][1]              \n",
      "==================================================================================================\n",
      "Total params: 541,266\n",
      "Trainable params: 0\n",
      "Non-trainable params: 541,266\n",
      "__________________________________________________________________________________________________\n"
     ]
    }
   ],
   "source": [
    "model_pos.summary()"
   ]
  },
  {
   "cell_type": "code",
   "execution_count": 28,
   "metadata": {},
   "outputs": [],
   "source": [
    "# Predict position model\n",
    "q_pred, v_pred = model_pos.predict(elts_ast_dict)"
   ]
  },
  {
   "cell_type": "code",
   "execution_count": 29,
   "metadata": {},
   "outputs": [
    {
     "name": "stdout",
     "output_type": "stream",
     "text": [
      "q_pred.shape = (64, None, 3)\n",
      "v_pred.shape = (64, None, 3)\n"
     ]
    }
   ],
   "source": [
    "# Review shape of predictions\n",
    "print(f'q_pred.shape = {q_pred.shape}')\n",
    "print(f'v_pred.shape = {v_pred.shape}')"
   ]
  },
  {
   "cell_type": "code",
   "execution_count": 30,
   "metadata": {},
   "outputs": [],
   "source": [
    "# Calibration arrays (flat)\n",
    "cols_q_ast = ['qx', 'qy', 'qz']\n",
    "cols_v_ast = ['vx', 'vy', 'vz']\n",
    "q_ast = ztf_elt[cols_q_ast].values.astype(dtype_np)\n",
    "v_ast = ztf_elt[cols_v_ast].values.astype(dtype_np)"
   ]
  },
  {
   "cell_type": "code",
   "execution_count": 31,
   "metadata": {},
   "outputs": [],
   "source": [
    "# Run calibration\n",
    "model_pos.ast_pos_layer.calibrate(elts=elts_ast, q_ast=q_ast, v_ast=v_ast)"
   ]
  },
  {
   "cell_type": "code",
   "execution_count": 32,
   "metadata": {},
   "outputs": [
    {
     "name": "stdout",
     "output_type": "stream",
     "text": [
      "Mean calibration adjustments:\n",
      "mean_dq = 9.85e-05\n",
      "mean_dq = 9.30e-07\n"
     ]
    }
   ],
   "source": [
    "# Check that corrections during calibration aren't too large\n",
    "mean_dq = np.mean(tf.linalg.norm(model_pos.ast_pos_layer.dq, axis=1))\n",
    "mean_dv = np.mean(tf.linalg.norm(model_pos.ast_pos_layer.dv, axis=1))\n",
    "\n",
    "print(f'Mean calibration adjustments:')\n",
    "print(f'mean_dq = {mean_dq:6.2e}')\n",
    "print(f'mean_dv = {mean_dv:6.2e}')"
   ]
  },
  {
   "cell_type": "markdown",
   "metadata": {},
   "source": [
    "## Predict Direction Model"
   ]
  },
  {
   "cell_type": "code",
   "execution_count": null,
   "metadata": {},
   "outputs": [],
   "source": [
    "model_dir.summary()"
   ]
  },
  {
   "cell_type": "code",
   "execution_count": null,
   "metadata": {},
   "outputs": [],
   "source": [
    "# Calibrate direction model's position layer\n",
    "model_dir.ast_pos_layer.calibrate(elts=elts_ast, q_ast=q_ast, v_ast=v_ast)"
   ]
  },
  {
   "cell_type": "code",
   "execution_count": null,
   "metadata": {},
   "outputs": [],
   "source": [
    "# Predict calibrated direction model\n",
    "u_pred, r_pred = model_dir.predict(elts_ast_dict)"
   ]
  },
  {
   "cell_type": "code",
   "execution_count": null,
   "metadata": {},
   "outputs": [],
   "source": [
    "# Review shape of predictions\n",
    "print(f'u_pred.shape = {u_pred.shape}')\n",
    "print(f'r_pred.shape = {r_pred.shape}')"
   ]
  },
  {
   "cell_type": "code",
   "execution_count": null,
   "metadata": {},
   "outputs": [],
   "source": [
    "# Compare to direction on the ztf_elt frame (should be the same!)\n",
    "cols_u = ['elt_ux', 'elt_uy', 'elt_uz']\n",
    "u_exp = ztf_elt[cols_u].values\n",
    "u_diff = u_pred.values - u_exp\n",
    "mean_diff_s = np.mean(np.linalg.norm(u_diff, axis=1))\n",
    "mean_diff_sec = dist2sec(mean_diff_s)\n",
    "\n",
    "# Report results\n",
    "print(f'Mean direction difference:')\n",
    "print(f'Cartesian  : {mean_diff_s:8.2e}')\n",
    "print(f'Arc Seconds: {mean_diff_sec:6.3f}')"
   ]
  },
  {
   "cell_type": "markdown",
   "metadata": {},
   "source": [
    "## Assemble Tensors for Prototype Model"
   ]
  },
  {
   "cell_type": "code",
   "execution_count": null,
   "metadata": {},
   "outputs": [],
   "source": [
    "# Orbital elements\n",
    "a = tf.Variable(initial_value=elts_ast.a, dtype=dtype, name='a')\n",
    "e = tf.Variable(initial_value=elts_ast.e, dtype=dtype, name='e')\n",
    "inc = tf.Variable(initial_value=elts_ast.inc, dtype=dtype, name='inc')\n",
    "Omega = tf.Variable(initial_value=elts_ast.Omega, dtype=dtype, name='Omega')\n",
    "omega = tf.Variable(initial_value=elts_ast.omega, dtype=dtype, name='omega')\n",
    "f = tf.Variable(initial_value=elts_ast.f, dtype=dtype, name='f')\n",
    "epoch = tf.constant(value=elts_ast.epoch, dtype=dtype, name='epoch')"
   ]
  },
  {
   "cell_type": "code",
   "execution_count": null,
   "metadata": {},
   "outputs": [],
   "source": [
    "# Review element shapes (all the same)\n",
    "print(f'a.shape = {a.shape}')"
   ]
  },
  {
   "cell_type": "code",
   "execution_count": null,
   "metadata": {},
   "outputs": [],
   "source": [
    "# Review ztf_elt on best candidate\n",
    "mask_best = (ztf_elt.element_id == element_id_best)\n",
    "ztf_elt_best = ztf_elt[mask_best]\n",
    "ztf_elt_best"
   ]
  },
  {
   "cell_type": "code",
   "execution_count": null,
   "metadata": {},
   "outputs": [],
   "source": [
    "# Build ragged tensor of u_obs\n",
    "cols_u_obs = ['ux', 'uy', 'uz']\n",
    "u_obs_r = tf.RaggedTensor.from_row_lengths(values=ztf_elt[cols_u_obs].values, row_lengths=row_lengths)\n",
    "\n",
    "# Review shape\n",
    "print(f'u_obs_r.shape = {u_obs_r.shape}')"
   ]
  },
  {
   "cell_type": "code",
   "execution_count": null,
   "metadata": {},
   "outputs": [],
   "source": [
    "# Latest time\n",
    "t_max = np.max(ztf_elt.mjd.values)\n",
    "\n",
    "# Time for padded values\n",
    "t_pad = t_max + 1.0"
   ]
  },
  {
   "cell_type": "code",
   "execution_count": null,
   "metadata": {},
   "outputs": [],
   "source": [
    "# Convert ragged to 2D\n",
    "ts_2d = ts_r.to_tensor(default_value=t_pad)\n",
    "ts_2d_np = ts_2d.numpy()\n",
    "\n",
    "print(f'ts_2d.shape = {ts_2d.shape}')"
   ]
  },
  {
   "cell_type": "markdown",
   "metadata": {},
   "source": [
    "## Calculate Position and Direction Using Layers in asteroid_model.py"
   ]
  },
  {
   "cell_type": "code",
   "execution_count": null,
   "metadata": {},
   "outputs": [],
   "source": [
    "# Build position layer\n",
    "ast_pos_layer = AsteroidPosition(ts_np=ts_np, row_lengths_np=row_lengths_np, name='ast_pos_layer')"
   ]
  },
  {
   "cell_type": "code",
   "execution_count": null,
   "metadata": {},
   "outputs": [],
   "source": [
    "# Build direction layer\n",
    "direction_layer = AsteroidDirection(ts_np=ts_np, row_lengths_np=row_lengths_np, site_name=site_name, name='u_pred')"
   ]
  },
  {
   "cell_type": "code",
   "execution_count": null,
   "metadata": {},
   "outputs": [],
   "source": [
    "# Predict position using the layer\n",
    "q_pred, v_pred = ast_pos_layer(a, e, inc, Omega, omega, f, epoch)"
   ]
  },
  {
   "cell_type": "code",
   "execution_count": null,
   "metadata": {},
   "outputs": [],
   "source": [
    "# Review output\n",
    "print(f'q_pred.shape = {q_pred.shape}')\n",
    "print(f'v_pred.shape = {q_pred.shape}')"
   ]
  },
  {
   "cell_type": "code",
   "execution_count": null,
   "metadata": {},
   "outputs": [],
   "source": [
    "# Run calibration\n",
    "ast_pos_layer.calibrate(elts=elts_ast, q_ast=q_ast, v_ast=v_ast)"
   ]
  },
  {
   "cell_type": "code",
   "execution_count": null,
   "metadata": {},
   "outputs": [],
   "source": [
    "# Check that corrections during calibration aren't too large\n",
    "mean_dq = np.mean(tf.linalg.norm(ast_pos_layer.dq, axis=1))\n",
    "mean_dv = np.mean(tf.linalg.norm(ast_pos_layer.dv, axis=1))\n",
    "\n",
    "print(f'Mean calibration adjustments:')\n",
    "print(f'mean_dq = {mean_dq:6.2e}')\n",
    "print(f'mean_dq = {mean_dv:6.2e}')"
   ]
  },
  {
   "cell_type": "code",
   "execution_count": null,
   "metadata": {},
   "outputs": [],
   "source": [
    "# Convert q, v to ragged tensors matching the element batch\n",
    "q_r = tf.RaggedTensor.from_row_lengths(values=q_pred, row_lengths=row_lengths, name='q_r')\n",
    "v_r = tf.RaggedTensor.from_row_lengths(values=v_pred, row_lengths=row_lengths, name='v_r')"
   ]
  },
  {
   "cell_type": "code",
   "execution_count": null,
   "metadata": {},
   "outputs": [],
   "source": [
    "# Report shapes\n",
    "print(f'q_r.shape={q_r.shape}')"
   ]
  },
  {
   "cell_type": "code",
   "execution_count": null,
   "metadata": {},
   "outputs": [],
   "source": [
    "# Predict direction using the layer\n",
    "u_pred, r_pred = direction_layer(a, e, inc, Omega, omega, f, epoch)"
   ]
  },
  {
   "cell_type": "code",
   "execution_count": null,
   "metadata": {},
   "outputs": [],
   "source": [
    "# Report shapes\n",
    "print(f'u_pred.shape={u_pred.shape}')\n",
    "print(f'r_pred.shape={r_pred.shape}')"
   ]
  },
  {
   "cell_type": "markdown",
   "metadata": {},
   "source": [
    "## Create Input Tensors for Functional API Model Debugging"
   ]
  },
  {
   "cell_type": "code",
   "execution_count": null,
   "metadata": {},
   "outputs": [],
   "source": [
    "# Input tensors\n",
    "in_a = keras.Input(shape=(), batch_size=elt_batch_size, name='a')\n",
    "in_e = keras.Input(shape=(), batch_size=elt_batch_size, name='e')\n",
    "in_inc = keras.Input(shape=(), batch_size=elt_batch_size, name='inc')\n",
    "in_Omega = keras.Input(shape=(), batch_size=elt_batch_size, name='Omega')\n",
    "in_omega = keras.Input(shape=(), batch_size=elt_batch_size, name='omega')\n",
    "in_f = keras.Input(shape=(), batch_size=elt_batch_size, name='f')\n",
    "in_epoch = keras.Input(shape=(), batch_size=elt_batch_size, name='epoch')\n",
    "\n",
    "# Wrap inputs\n",
    "inputs = (in_a, in_e, in_inc, in_Omega, in_omega, in_f, in_epoch)"
   ]
  },
  {
   "cell_type": "code",
   "execution_count": null,
   "metadata": {},
   "outputs": [],
   "source": [
    "in_a"
   ]
  },
  {
   "cell_type": "code",
   "execution_count": null,
   "metadata": {},
   "outputs": [],
   "source": [
    "a"
   ]
  },
  {
   "cell_type": "code",
   "execution_count": null,
   "metadata": {},
   "outputs": [],
   "source": [
    "data_size = tf.reduce_sum(row_lengths)\n",
    "elt_shape = (data_size, 1,)"
   ]
  },
  {
   "cell_type": "code",
   "execution_count": null,
   "metadata": {},
   "outputs": [],
   "source": [
    "# Create output tensor\n",
    "ast_pos_layer = AsteroidPosition(ts_np=ts_np, row_lengths_np=row_lengths_np)\n",
    "q_flat, v_flat = ast_pos_layer(in_a, in_e, in_inc, in_Omega, in_omega, in_f, in_epoch)"
   ]
  },
  {
   "cell_type": "code",
   "execution_count": null,
   "metadata": {},
   "outputs": [],
   "source": [
    "# Predict direction\n",
    "u_pred, r_pred = direction_layer(in_a, in_e, in_inc, in_Omega, in_omega, in_f, in_epoch)"
   ]
  },
  {
   "cell_type": "code",
   "execution_count": null,
   "metadata": {},
   "outputs": [],
   "source": [
    "# Review output\n",
    "print(f'u_pred.shape = {u_pred.shape}')\n",
    "print(f'r_pred.shape = {r_pred.shape}')"
   ]
  },
  {
   "cell_type": "code",
   "execution_count": null,
   "metadata": {},
   "outputs": [],
   "source": [
    "# Build test position model\n",
    "model_pos_test = keras.Model(inputs=inputs, outputs=[q_flat, v_flat])"
   ]
  },
  {
   "cell_type": "code",
   "execution_count": null,
   "metadata": {},
   "outputs": [],
   "source": [
    "# Build test direction model\n",
    "model_dir_test = keras.Model(inputs=inputs, outputs=[u_pred, r_pred])"
   ]
  },
  {
   "cell_type": "code",
   "execution_count": null,
   "metadata": {},
   "outputs": [],
   "source": [
    "model_dir_test([a, e, inc, Omega, omega, f, epoch])"
   ]
  },
  {
   "cell_type": "markdown",
   "metadata": {},
   "source": [
    "## Imports for Step by Step Calculations"
   ]
  },
  {
   "cell_type": "code",
   "execution_count": null,
   "metadata": {},
   "outputs": [],
   "source": [
    "import astropy\n",
    "from astropy.units import au, day, year\n",
    "\n",
    "# Local imports\n",
    "from orbital_element import MeanToTrueAnomaly, TrueToMeanAnomaly\n",
    "from asteroid_data import get_earth_pos, get_sun_pos_vel\n",
    "from asteroid_model import ElementToPosition\n",
    "from ra_dec import calc_topos"
   ]
  },
  {
   "cell_type": "code",
   "execution_count": null,
   "metadata": {},
   "outputs": [],
   "source": [
    "# Constants\n",
    "\n",
    "# The gravitational constant in ('day', 'AU', 'Msun') coordinates\n",
    "# Hard code G\n",
    "G_ = 0.00029591220828559104\n",
    "# The gravitational field strength mu = G * (m0 + m1)\n",
    "# For massless asteroids orbiting the sun with units Msun, m0=1.0, m1=0.0, and mu = G\n",
    "mu = tf.constant(G_)\n",
    "\n",
    "# Speed of light; express this in AU / day\n",
    "light_speed_au_day = astropy.constants.c.to(au / day).value\n",
    "\n",
    "# Number of spatial dimensions\n",
    "space_dims = 3\n",
    "\n",
    "# Data types\n",
    "dtype = tf.float32\n",
    "dtype_np = np.float32"
   ]
  },
  {
   "cell_type": "code",
   "execution_count": null,
   "metadata": {},
   "outputs": [],
   "source": [
    "# Build direction layer\n",
    "direction_layer = AsteroidDirection(ts_np=ts_np, row_lengths_np=row_lengths_np, site_name=site_name, name='u_pred')"
   ]
  },
  {
   "cell_type": "code",
   "execution_count": null,
   "metadata": {},
   "outputs": [],
   "source": [
    "# Predict direction layer\n",
    "u_pred, r_pred = direction_layer(a, e, inc, Omega, omega, f, epoch)"
   ]
  },
  {
   "cell_type": "code",
   "execution_count": null,
   "metadata": {},
   "outputs": [],
   "source": [
    "u_pred.shape"
   ]
  },
  {
   "cell_type": "markdown",
   "metadata": {},
   "source": [
    "## Step by Step Calculation of Asteroid Position"
   ]
  },
  {
   "cell_type": "code",
   "execution_count": null,
   "metadata": {},
   "outputs": [],
   "source": [
    "epoch.shape"
   ]
  },
  {
   "cell_type": "code",
   "execution_count": null,
   "metadata": {},
   "outputs": [],
   "source": [
    "target_shape = (1,)"
   ]
  },
  {
   "cell_type": "code",
   "execution_count": null,
   "metadata": {},
   "outputs": [],
   "source": [
    "# Time relative to epoch\n",
    "epoch_t  = keras.layers.Reshape(target_shape, name='epoch_t')(tf.repeat(epoch, row_lengths))\n",
    "t = keras.layers.subtract([ts, epoch_t], name='t')"
   ]
  },
  {
   "cell_type": "code",
   "execution_count": null,
   "metadata": {},
   "outputs": [],
   "source": [
    "# Report\n",
    "print(f'ts.shape = {ts.shape}')\n",
    "print(f'epoch.shape = {epoch.shape}')\n",
    "print(f't.shape = {t.shape}')"
   ]
  },
  {
   "cell_type": "code",
   "execution_count": null,
   "metadata": {},
   "outputs": [],
   "source": [
    "# Compute eccentric anomaly E from f and e\n",
    "M = TrueToMeanAnomaly(name='TrueToMeanAnomaly')([f, e])\n",
    "\n",
    "# Compute mean motion N from mu and a\n",
    "a3 = tf.math.pow(a, 3, name='a3')\n",
    "mu_over_a3 = tf.divide(mu, a3, name='mu_over_a3')\n",
    "N = tf.sqrt(mu_over_a3, name='N')"
   ]
  },
  {
   "cell_type": "code",
   "execution_count": null,
   "metadata": {},
   "outputs": [],
   "source": [
    "# Repeat the constant orbital elements to be vectors of shape (batch_size, traj_size, 1)\n",
    "a_t = keras.layers.Reshape(target_shape, name='a_t')(tf.repeat(a, row_lengths))\n",
    "e_t = keras.layers.Reshape(target_shape, name='e_t')(tf.repeat(e, row_lengths))\n",
    "inc_t = keras.layers.Reshape(target_shape, name='inc_t')(tf.repeat(inc, row_lengths))\n",
    "Omega_t = keras.layers.Reshape(target_shape, name='Omega_t')(tf.repeat(Omega, row_lengths))\n",
    "omega_t = keras.layers.Reshape(target_shape, name='omega_t')(tf.repeat(omega, row_lengths))"
   ]
  },
  {
   "cell_type": "code",
   "execution_count": null,
   "metadata": {},
   "outputs": [],
   "source": [
    "# Report\n",
    "print(f'a_t.shape = {a_t.shape}')"
   ]
  },
  {
   "cell_type": "code",
   "execution_count": null,
   "metadata": {},
   "outputs": [],
   "source": [
    "# Repeat initial mean anomaly M0 and mean motion N0 to match shape of outputs\n",
    "M0_t  = keras.layers.Reshape(target_shape, name='M0_t')(tf.repeat(M, row_lengths))\n",
    "N0_t  = keras.layers.Reshape(target_shape, name='N0_t')(tf.repeat(N, row_lengths))\n",
    "# Compute the mean anomaly M(t) as a function of time\n",
    "N_mult_t = keras.layers.multiply(inputs=[N0_t, t])\n",
    "M_t = keras.layers.add(inputs=[M0_t, N_mult_t])"
   ]
  },
  {
   "cell_type": "code",
   "execution_count": null,
   "metadata": {},
   "outputs": [],
   "source": [
    "# Compute the true anomaly from the mean anomly and eccentricity\n",
    "f_t = MeanToTrueAnomaly(name='mean_to_true_anomaly')([M_t, e_t])\n",
    "\n",
    "# Wrap orbital elements into one tuple of inputs for layer converting to cartesian coordinates\n",
    "elt_t = (a_t, e_t, inc_t, Omega_t, omega_t, f_t,)"
   ]
  },
  {
   "cell_type": "code",
   "execution_count": null,
   "metadata": {},
   "outputs": [],
   "source": [
    "# Report\n",
    "print(f'M_t.shape = {M_t.shape}')\n",
    "print(f'f_t.shape = {f_t.shape}')"
   ]
  },
  {
   "cell_type": "code",
   "execution_count": null,
   "metadata": {},
   "outputs": [],
   "source": [
    "# Convert orbital elements to heliocentric cartesian coordinates\n",
    "q_helio, v_helio = ElementToPosition(name='q_helio')(elt_t)"
   ]
  },
  {
   "cell_type": "code",
   "execution_count": null,
   "metadata": {},
   "outputs": [],
   "source": [
    "# Report\n",
    "q_helio.shape"
   ]
  },
  {
   "cell_type": "code",
   "execution_count": null,
   "metadata": {},
   "outputs": [],
   "source": []
  }
 ],
 "metadata": {
  "kernelspec": {
   "display_name": "Python [conda env:kepler]",
   "language": "python",
   "name": "conda-env-kepler-py"
  },
  "language_info": {
   "codemirror_mode": {
    "name": "ipython",
    "version": 3
   },
   "file_extension": ".py",
   "mimetype": "text/x-python",
   "name": "python",
   "nbconvert_exporter": "python",
   "pygments_lexer": "ipython3",
   "version": "3.7.6"
  }
 },
 "nbformat": 4,
 "nbformat_minor": 4
}
