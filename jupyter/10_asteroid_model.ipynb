{
 "cells": [
  {
   "cell_type": "code",
   "execution_count": 1,
   "metadata": {},
   "outputs": [
    {
     "name": "stdout",
     "output_type": "stream",
     "text": [
      "Found 4 GPUs.  Setting memory growth = True.\n"
     ]
    }
   ],
   "source": [
    "# Core\n",
    "import numpy as np\n",
    "import pandas as pd\n",
    "\n",
    "# Tensorflow / ML\n",
    "import tensorflow as tf\n",
    "from tensorflow.python.keras import backend as K\n",
    "keras = tf.keras\n",
    "\n",
    "# MSE imports\n",
    "import kepler_sieve\n",
    "from ztf_ast import load_ztf_nearest_ast, calc_hit_freq\n",
    "from ztf_element import make_ztf_batch, load_ztf_batch\n",
    "from asteroid_element import load_ast_elt\n",
    "from candidate_element import orbital_element_batch, perturb_elts, random_elts\n",
    "from asteroid_model import make_model_ast_pos, make_model_ast_dir\n",
    "from asteroid_model import AsteroidPosition, AsteroidDirection\n",
    "from astro_utils import dist2deg, dist2sec, deg2dist"
   ]
  },
  {
   "cell_type": "markdown",
   "metadata": {},
   "source": [
    "## Load ZTF Data and Batch of Orbital Elements"
   ]
  },
  {
   "cell_type": "code",
   "execution_count": 2,
   "metadata": {},
   "outputs": [],
   "source": [
    "# Load orbital elements for known asteroids\n",
    "ast_elt = load_ast_elt()\n",
    "\n",
    "# Number of asteroids\n",
    "N_ast = ast_elt.shape[0]"
   ]
  },
  {
   "cell_type": "code",
   "execution_count": 3,
   "metadata": {},
   "outputs": [],
   "source": [
    "# Load ztf nearest asteroid data\n",
    "ztf_ast = load_ztf_nearest_ast()"
   ]
  },
  {
   "cell_type": "code",
   "execution_count": 4,
   "metadata": {},
   "outputs": [],
   "source": [
    "# Asteroid numbers and hit counts\n",
    "ast_num, hit_count = calc_hit_freq(ztf=ztf_ast, thresh_sec=2.0)\n",
    "\n",
    "# Sort the hit counts in descending order and find the top batch_size\n",
    "idx = np.argsort(hit_count)[::-1]\n",
    "\n",
    "# Extract the asteroid number and hit count for this batch\n",
    "ast_num_best = ast_num[idx]\n",
    "hit_count_best = hit_count[idx]"
   ]
  },
  {
   "cell_type": "code",
   "execution_count": 5,
   "metadata": {},
   "outputs": [],
   "source": [
    "# Set element batch size\n",
    "elt_batch_size = 64\n",
    "\n",
    "# Batch of unperturbed elements\n",
    "elts_ast = orbital_element_batch(ast_nums=ast_num_best[0:elt_batch_size])"
   ]
  },
  {
   "cell_type": "code",
   "execution_count": 6,
   "metadata": {},
   "outputs": [
    {
     "data": {
      "text/html": [
       "<div>\n",
       "<style scoped>\n",
       "    .dataframe tbody tr th:only-of-type {\n",
       "        vertical-align: middle;\n",
       "    }\n",
       "\n",
       "    .dataframe tbody tr th {\n",
       "        vertical-align: top;\n",
       "    }\n",
       "\n",
       "    .dataframe thead th {\n",
       "        text-align: right;\n",
       "    }\n",
       "</style>\n",
       "<table border=\"1\" class=\"dataframe\">\n",
       "  <thead>\n",
       "    <tr style=\"text-align: right;\">\n",
       "      <th></th>\n",
       "      <th>element_id</th>\n",
       "      <th>a</th>\n",
       "      <th>e</th>\n",
       "      <th>inc</th>\n",
       "      <th>Omega</th>\n",
       "      <th>omega</th>\n",
       "      <th>f</th>\n",
       "      <th>epoch</th>\n",
       "    </tr>\n",
       "  </thead>\n",
       "  <tbody>\n",
       "    <tr>\n",
       "      <th>0</th>\n",
       "      <td>51921</td>\n",
       "      <td>2.669306</td>\n",
       "      <td>0.217361</td>\n",
       "      <td>0.499554</td>\n",
       "      <td>4.699703</td>\n",
       "      <td>2.450796</td>\n",
       "      <td>-1.133491</td>\n",
       "      <td>58600.0</td>\n",
       "    </tr>\n",
       "    <tr>\n",
       "      <th>1</th>\n",
       "      <td>59244</td>\n",
       "      <td>2.634727</td>\n",
       "      <td>0.262503</td>\n",
       "      <td>0.465045</td>\n",
       "      <td>5.738297</td>\n",
       "      <td>1.766995</td>\n",
       "      <td>-1.601363</td>\n",
       "      <td>58600.0</td>\n",
       "    </tr>\n",
       "    <tr>\n",
       "      <th>2</th>\n",
       "      <td>15786</td>\n",
       "      <td>1.883227</td>\n",
       "      <td>0.047655</td>\n",
       "      <td>0.392360</td>\n",
       "      <td>6.134689</td>\n",
       "      <td>0.804823</td>\n",
       "      <td>-1.246069</td>\n",
       "      <td>58600.0</td>\n",
       "    </tr>\n",
       "    <tr>\n",
       "      <th>3</th>\n",
       "      <td>3904</td>\n",
       "      <td>2.556387</td>\n",
       "      <td>0.098279</td>\n",
       "      <td>0.261542</td>\n",
       "      <td>5.450163</td>\n",
       "      <td>2.202423</td>\n",
       "      <td>-1.357345</td>\n",
       "      <td>58600.0</td>\n",
       "    </tr>\n",
       "    <tr>\n",
       "      <th>4</th>\n",
       "      <td>142999</td>\n",
       "      <td>2.619944</td>\n",
       "      <td>0.191376</td>\n",
       "      <td>0.514017</td>\n",
       "      <td>0.238022</td>\n",
       "      <td>0.946463</td>\n",
       "      <td>-1.299301</td>\n",
       "      <td>58600.0</td>\n",
       "    </tr>\n",
       "    <tr>\n",
       "      <th>...</th>\n",
       "      <td>...</td>\n",
       "      <td>...</td>\n",
       "      <td>...</td>\n",
       "      <td>...</td>\n",
       "      <td>...</td>\n",
       "      <td>...</td>\n",
       "      <td>...</td>\n",
       "      <td>...</td>\n",
       "    </tr>\n",
       "    <tr>\n",
       "      <th>59</th>\n",
       "      <td>11952</td>\n",
       "      <td>2.219650</td>\n",
       "      <td>0.086091</td>\n",
       "      <td>0.117967</td>\n",
       "      <td>0.042442</td>\n",
       "      <td>2.904823</td>\n",
       "      <td>-3.016580</td>\n",
       "      <td>58600.0</td>\n",
       "    </tr>\n",
       "    <tr>\n",
       "      <th>60</th>\n",
       "      <td>134815</td>\n",
       "      <td>2.612770</td>\n",
       "      <td>0.140831</td>\n",
       "      <td>0.513923</td>\n",
       "      <td>0.272689</td>\n",
       "      <td>0.645552</td>\n",
       "      <td>-0.957836</td>\n",
       "      <td>58600.0</td>\n",
       "    </tr>\n",
       "    <tr>\n",
       "      <th>61</th>\n",
       "      <td>27860</td>\n",
       "      <td>2.619406</td>\n",
       "      <td>0.096185</td>\n",
       "      <td>0.200633</td>\n",
       "      <td>5.541399</td>\n",
       "      <td>3.266046</td>\n",
       "      <td>3.948770</td>\n",
       "      <td>58600.0</td>\n",
       "    </tr>\n",
       "    <tr>\n",
       "      <th>62</th>\n",
       "      <td>85937</td>\n",
       "      <td>2.342292</td>\n",
       "      <td>0.197267</td>\n",
       "      <td>0.439063</td>\n",
       "      <td>5.279693</td>\n",
       "      <td>3.210025</td>\n",
       "      <td>3.947687</td>\n",
       "      <td>58600.0</td>\n",
       "    </tr>\n",
       "    <tr>\n",
       "      <th>63</th>\n",
       "      <td>72911</td>\n",
       "      <td>3.155569</td>\n",
       "      <td>0.086495</td>\n",
       "      <td>0.262050</td>\n",
       "      <td>5.311936</td>\n",
       "      <td>2.108568</td>\n",
       "      <td>-1.020687</td>\n",
       "      <td>58600.0</td>\n",
       "    </tr>\n",
       "  </tbody>\n",
       "</table>\n",
       "<p>64 rows × 8 columns</p>\n",
       "</div>"
      ],
      "text/plain": [
       "    element_id         a         e       inc     Omega     omega         f  \\\n",
       "0        51921  2.669306  0.217361  0.499554  4.699703  2.450796 -1.133491   \n",
       "1        59244  2.634727  0.262503  0.465045  5.738297  1.766995 -1.601363   \n",
       "2        15786  1.883227  0.047655  0.392360  6.134689  0.804823 -1.246069   \n",
       "3         3904  2.556387  0.098279  0.261542  5.450163  2.202423 -1.357345   \n",
       "4       142999  2.619944  0.191376  0.514017  0.238022  0.946463 -1.299301   \n",
       "..         ...       ...       ...       ...       ...       ...       ...   \n",
       "59       11952  2.219650  0.086091  0.117967  0.042442  2.904823 -3.016580   \n",
       "60      134815  2.612770  0.140831  0.513923  0.272689  0.645552 -0.957836   \n",
       "61       27860  2.619406  0.096185  0.200633  5.541399  3.266046  3.948770   \n",
       "62       85937  2.342292  0.197267  0.439063  5.279693  3.210025  3.947687   \n",
       "63       72911  3.155569  0.086495  0.262050  5.311936  2.108568 -1.020687   \n",
       "\n",
       "      epoch  \n",
       "0   58600.0  \n",
       "1   58600.0  \n",
       "2   58600.0  \n",
       "3   58600.0  \n",
       "4   58600.0  \n",
       "..      ...  \n",
       "59  58600.0  \n",
       "60  58600.0  \n",
       "61  58600.0  \n",
       "62  58600.0  \n",
       "63  58600.0  \n",
       "\n",
       "[64 rows x 8 columns]"
      ]
     },
     "execution_count": 6,
     "metadata": {},
     "output_type": "execute_result"
    }
   ],
   "source": [
    "elts_ast"
   ]
  },
  {
   "cell_type": "code",
   "execution_count": 7,
   "metadata": {},
   "outputs": [],
   "source": [
    "# Perturb orbital elements\n",
    "sigma_a = 0.0 \n",
    "sigma_e = 0.0 \n",
    "sigma_f_deg = 0.1\n",
    "sigma_Omega_deg = 0.0\n",
    "sigma_omega_deg = 0.0\n",
    "mask_pert = None\n",
    "random_seed = 42\n",
    "\n",
    "elts_pert = perturb_elts(elts_ast, sigma_a=sigma_a, sigma_e=sigma_e, sigma_f_deg=sigma_f_deg, \n",
    "                         sigma_Omega_deg=sigma_Omega_deg, sigma_omega_deg=sigma_omega_deg,\n",
    "                         mask_pert=mask_pert, random_seed=random_seed)"
   ]
  },
  {
   "cell_type": "code",
   "execution_count": 8,
   "metadata": {},
   "outputs": [
    {
     "data": {
      "text/html": [
       "<div>\n",
       "<style scoped>\n",
       "    .dataframe tbody tr th:only-of-type {\n",
       "        vertical-align: middle;\n",
       "    }\n",
       "\n",
       "    .dataframe tbody tr th {\n",
       "        vertical-align: top;\n",
       "    }\n",
       "\n",
       "    .dataframe thead th {\n",
       "        text-align: right;\n",
       "    }\n",
       "</style>\n",
       "<table border=\"1\" class=\"dataframe\">\n",
       "  <thead>\n",
       "    <tr style=\"text-align: right;\">\n",
       "      <th></th>\n",
       "      <th>element_id</th>\n",
       "      <th>a</th>\n",
       "      <th>e</th>\n",
       "      <th>inc</th>\n",
       "      <th>Omega</th>\n",
       "      <th>omega</th>\n",
       "      <th>f</th>\n",
       "      <th>epoch</th>\n",
       "    </tr>\n",
       "  </thead>\n",
       "  <tbody>\n",
       "    <tr>\n",
       "      <th>0</th>\n",
       "      <td>51921</td>\n",
       "      <td>2.669306</td>\n",
       "      <td>0.217361</td>\n",
       "      <td>0.499554</td>\n",
       "      <td>4.699703</td>\n",
       "      <td>2.450796</td>\n",
       "      <td>-1.133117</td>\n",
       "      <td>58600.0</td>\n",
       "    </tr>\n",
       "    <tr>\n",
       "      <th>1</th>\n",
       "      <td>59244</td>\n",
       "      <td>2.634727</td>\n",
       "      <td>0.262503</td>\n",
       "      <td>0.465045</td>\n",
       "      <td>5.738297</td>\n",
       "      <td>1.766995</td>\n",
       "      <td>-1.603537</td>\n",
       "      <td>58600.0</td>\n",
       "    </tr>\n",
       "    <tr>\n",
       "      <th>2</th>\n",
       "      <td>15786</td>\n",
       "      <td>1.883227</td>\n",
       "      <td>0.047655</td>\n",
       "      <td>0.392360</td>\n",
       "      <td>6.134689</td>\n",
       "      <td>0.804823</td>\n",
       "      <td>-1.245767</td>\n",
       "      <td>58600.0</td>\n",
       "    </tr>\n",
       "    <tr>\n",
       "      <th>3</th>\n",
       "      <td>3904</td>\n",
       "      <td>2.556387</td>\n",
       "      <td>0.098279</td>\n",
       "      <td>0.261542</td>\n",
       "      <td>5.450163</td>\n",
       "      <td>2.202423</td>\n",
       "      <td>-1.356673</td>\n",
       "      <td>58600.0</td>\n",
       "    </tr>\n",
       "    <tr>\n",
       "      <th>4</th>\n",
       "      <td>142999</td>\n",
       "      <td>2.619945</td>\n",
       "      <td>0.191376</td>\n",
       "      <td>0.514017</td>\n",
       "      <td>0.238022</td>\n",
       "      <td>0.946463</td>\n",
       "      <td>-1.300844</td>\n",
       "      <td>58600.0</td>\n",
       "    </tr>\n",
       "    <tr>\n",
       "      <th>...</th>\n",
       "      <td>...</td>\n",
       "      <td>...</td>\n",
       "      <td>...</td>\n",
       "      <td>...</td>\n",
       "      <td>...</td>\n",
       "      <td>...</td>\n",
       "      <td>...</td>\n",
       "      <td>...</td>\n",
       "    </tr>\n",
       "    <tr>\n",
       "      <th>59</th>\n",
       "      <td>11952</td>\n",
       "      <td>2.219650</td>\n",
       "      <td>0.086091</td>\n",
       "      <td>0.117967</td>\n",
       "      <td>0.042442</td>\n",
       "      <td>2.904823</td>\n",
       "      <td>-3.014978</td>\n",
       "      <td>58600.0</td>\n",
       "    </tr>\n",
       "    <tr>\n",
       "      <th>60</th>\n",
       "      <td>134815</td>\n",
       "      <td>2.612770</td>\n",
       "      <td>0.140831</td>\n",
       "      <td>0.513923</td>\n",
       "      <td>0.272689</td>\n",
       "      <td>0.645552</td>\n",
       "      <td>-0.954132</td>\n",
       "      <td>58600.0</td>\n",
       "    </tr>\n",
       "    <tr>\n",
       "      <th>61</th>\n",
       "      <td>27860</td>\n",
       "      <td>2.619406</td>\n",
       "      <td>0.096185</td>\n",
       "      <td>0.200633</td>\n",
       "      <td>5.541399</td>\n",
       "      <td>3.266046</td>\n",
       "      <td>3.950572</td>\n",
       "      <td>58600.0</td>\n",
       "    </tr>\n",
       "    <tr>\n",
       "      <th>62</th>\n",
       "      <td>85937</td>\n",
       "      <td>2.342292</td>\n",
       "      <td>0.197267</td>\n",
       "      <td>0.439063</td>\n",
       "      <td>5.279693</td>\n",
       "      <td>3.210025</td>\n",
       "      <td>3.945035</td>\n",
       "      <td>58600.0</td>\n",
       "    </tr>\n",
       "    <tr>\n",
       "      <th>63</th>\n",
       "      <td>72911</td>\n",
       "      <td>3.155569</td>\n",
       "      <td>0.086495</td>\n",
       "      <td>0.262050</td>\n",
       "      <td>5.311936</td>\n",
       "      <td>2.108568</td>\n",
       "      <td>-1.021533</td>\n",
       "      <td>58600.0</td>\n",
       "    </tr>\n",
       "  </tbody>\n",
       "</table>\n",
       "<p>64 rows × 8 columns</p>\n",
       "</div>"
      ],
      "text/plain": [
       "    element_id         a         e       inc     Omega     omega         f  \\\n",
       "0        51921  2.669306  0.217361  0.499554  4.699703  2.450796 -1.133117   \n",
       "1        59244  2.634727  0.262503  0.465045  5.738297  1.766995 -1.603537   \n",
       "2        15786  1.883227  0.047655  0.392360  6.134689  0.804823 -1.245767   \n",
       "3         3904  2.556387  0.098279  0.261542  5.450163  2.202423 -1.356673   \n",
       "4       142999  2.619945  0.191376  0.514017  0.238022  0.946463 -1.300844   \n",
       "..         ...       ...       ...       ...       ...       ...       ...   \n",
       "59       11952  2.219650  0.086091  0.117967  0.042442  2.904823 -3.014978   \n",
       "60      134815  2.612770  0.140831  0.513923  0.272689  0.645552 -0.954132   \n",
       "61       27860  2.619406  0.096185  0.200633  5.541399  3.266046  3.950572   \n",
       "62       85937  2.342292  0.197267  0.439063  5.279693  3.210025  3.945035   \n",
       "63       72911  3.155569  0.086495  0.262050  5.311936  2.108568 -1.021533   \n",
       "\n",
       "      epoch  \n",
       "0   58600.0  \n",
       "1   58600.0  \n",
       "2   58600.0  \n",
       "3   58600.0  \n",
       "4   58600.0  \n",
       "..      ...  \n",
       "59  58600.0  \n",
       "60  58600.0  \n",
       "61  58600.0  \n",
       "62  58600.0  \n",
       "63  58600.0  \n",
       "\n",
       "[64 rows x 8 columns]"
      ]
     },
     "execution_count": 8,
     "metadata": {},
     "output_type": "execute_result"
    }
   ],
   "source": [
    "elts_pert"
   ]
  },
  {
   "cell_type": "markdown",
   "metadata": {},
   "source": [
    "## Batches of ZTF Data vs. Elements"
   ]
  },
  {
   "cell_type": "code",
   "execution_count": 9,
   "metadata": {},
   "outputs": [],
   "source": [
    "# Arguments to make_ztf_batch\n",
    "thresh_deg = 1.0\n",
    "near_ast = False\n",
    "regenerate = False"
   ]
  },
  {
   "cell_type": "code",
   "execution_count": 10,
   "metadata": {},
   "outputs": [],
   "source": [
    "# Load unperturbed element batch\n",
    "ztf_elt_ast = load_ztf_batch(elts=elts_ast, thresh_deg=thresh_deg, near_ast=near_ast, regenerate=regenerate)"
   ]
  },
  {
   "cell_type": "code",
   "execution_count": 11,
   "metadata": {},
   "outputs": [],
   "source": [
    "# Load perturbed element batch\n",
    "ztf_elt_pert = load_ztf_batch(elts=elts_pert, thresh_deg=thresh_deg, near_ast=near_ast, regenerate=regenerate)"
   ]
  },
  {
   "cell_type": "code",
   "execution_count": 12,
   "metadata": {},
   "outputs": [
    {
     "data": {
      "text/html": [
       "<div>\n",
       "<style scoped>\n",
       "    .dataframe tbody tr th:only-of-type {\n",
       "        vertical-align: middle;\n",
       "    }\n",
       "\n",
       "    .dataframe tbody tr th {\n",
       "        vertical-align: top;\n",
       "    }\n",
       "\n",
       "    .dataframe thead th {\n",
       "        text-align: right;\n",
       "    }\n",
       "</style>\n",
       "<table border=\"1\" class=\"dataframe\">\n",
       "  <thead>\n",
       "    <tr style=\"text-align: right;\">\n",
       "      <th></th>\n",
       "      <th>ztf_id</th>\n",
       "      <th>element_id</th>\n",
       "      <th>ObjectID</th>\n",
       "      <th>CandidateID</th>\n",
       "      <th>TimeStampID</th>\n",
       "      <th>mjd</th>\n",
       "      <th>ra</th>\n",
       "      <th>dec</th>\n",
       "      <th>ux</th>\n",
       "      <th>uy</th>\n",
       "      <th>...</th>\n",
       "      <th>vz</th>\n",
       "      <th>elt_ux</th>\n",
       "      <th>elt_uy</th>\n",
       "      <th>elt_uz</th>\n",
       "      <th>elt_r</th>\n",
       "      <th>s</th>\n",
       "      <th>s_sec</th>\n",
       "      <th>z</th>\n",
       "      <th>v</th>\n",
       "      <th>is_hit</th>\n",
       "    </tr>\n",
       "  </thead>\n",
       "  <tbody>\n",
       "    <tr>\n",
       "      <th>0</th>\n",
       "      <td>53851</td>\n",
       "      <td>733</td>\n",
       "      <td>b'ZTF18abnothj'</td>\n",
       "      <td>594197584815010004</td>\n",
       "      <td>5501</td>\n",
       "      <td>58348.197581</td>\n",
       "      <td>266.229165</td>\n",
       "      <td>-13.513802</td>\n",
       "      <td>-0.063945</td>\n",
       "      <td>-0.983101</td>\n",
       "      <td>...</td>\n",
       "      <td>0.004080</td>\n",
       "      <td>-0.057300</td>\n",
       "      <td>-0.982042</td>\n",
       "      <td>0.179751</td>\n",
       "      <td>2.234078</td>\n",
       "      <td>0.010624</td>\n",
       "      <td>2191.371398</td>\n",
       "      <td>0.999944</td>\n",
       "      <td>0.370539</td>\n",
       "      <td>False</td>\n",
       "    </tr>\n",
       "    <tr>\n",
       "      <th>1</th>\n",
       "      <td>73604</td>\n",
       "      <td>733</td>\n",
       "      <td>b'ZTF18ablwzmb'</td>\n",
       "      <td>594197584815015003</td>\n",
       "      <td>5501</td>\n",
       "      <td>58348.197581</td>\n",
       "      <td>265.761024</td>\n",
       "      <td>-13.509148</td>\n",
       "      <td>-0.071871</td>\n",
       "      <td>-0.982578</td>\n",
       "      <td>...</td>\n",
       "      <td>0.004080</td>\n",
       "      <td>-0.057300</td>\n",
       "      <td>-0.982042</td>\n",
       "      <td>0.179751</td>\n",
       "      <td>2.234078</td>\n",
       "      <td>0.016809</td>\n",
       "      <td>3467.103003</td>\n",
       "      <td>0.999859</td>\n",
       "      <td>0.927533</td>\n",
       "      <td>False</td>\n",
       "    </tr>\n",
       "    <tr>\n",
       "      <th>2</th>\n",
       "      <td>82343</td>\n",
       "      <td>733</td>\n",
       "      <td>b'ZTF18abiydvm'</td>\n",
       "      <td>635193253015015018</td>\n",
       "      <td>12089</td>\n",
       "      <td>58389.193252</td>\n",
       "      <td>270.331454</td>\n",
       "      <td>-11.244934</td>\n",
       "      <td>0.005674</td>\n",
       "      <td>-0.977422</td>\n",
       "      <td>...</td>\n",
       "      <td>0.003825</td>\n",
       "      <td>0.000918</td>\n",
       "      <td>-0.977996</td>\n",
       "      <td>0.208622</td>\n",
       "      <td>2.703478</td>\n",
       "      <td>0.005450</td>\n",
       "      <td>1124.142942</td>\n",
       "      <td>0.999985</td>\n",
       "      <td>0.097510</td>\n",
       "      <td>False</td>\n",
       "    </tr>\n",
       "    <tr>\n",
       "      <th>3</th>\n",
       "      <td>257221</td>\n",
       "      <td>733</td>\n",
       "      <td>b'ZTF18acakcqg'</td>\n",
       "      <td>931471223715015007</td>\n",
       "      <td>39920</td>\n",
       "      <td>58685.471227</td>\n",
       "      <td>29.693832</td>\n",
       "      <td>42.180412</td>\n",
       "      <td>0.643725</td>\n",
       "      <td>0.603886</td>\n",
       "      <td>...</td>\n",
       "      <td>-0.001953</td>\n",
       "      <td>0.639004</td>\n",
       "      <td>0.610779</td>\n",
       "      <td>0.467571</td>\n",
       "      <td>2.175851</td>\n",
       "      <td>0.008712</td>\n",
       "      <td>1797.042210</td>\n",
       "      <td>0.999962</td>\n",
       "      <td>0.249184</td>\n",
       "      <td>False</td>\n",
       "    </tr>\n",
       "    <tr>\n",
       "      <th>4</th>\n",
       "      <td>327000</td>\n",
       "      <td>733</td>\n",
       "      <td>b'ZTF18achmdmw'</td>\n",
       "      <td>937465970615015011</td>\n",
       "      <td>40837</td>\n",
       "      <td>58691.465972</td>\n",
       "      <td>33.104905</td>\n",
       "      <td>44.059131</td>\n",
       "      <td>0.601970</td>\n",
       "      <td>0.636719</td>\n",
       "      <td>...</td>\n",
       "      <td>-0.002129</td>\n",
       "      <td>0.606278</td>\n",
       "      <td>0.637608</td>\n",
       "      <td>0.475272</td>\n",
       "      <td>2.114865</td>\n",
       "      <td>0.007949</td>\n",
       "      <td>1639.537152</td>\n",
       "      <td>0.999968</td>\n",
       "      <td>0.207418</td>\n",
       "      <td>False</td>\n",
       "    </tr>\n",
       "    <tr>\n",
       "      <th>...</th>\n",
       "      <td>...</td>\n",
       "      <td>...</td>\n",
       "      <td>...</td>\n",
       "      <td>...</td>\n",
       "      <td>...</td>\n",
       "      <td>...</td>\n",
       "      <td>...</td>\n",
       "      <td>...</td>\n",
       "      <td>...</td>\n",
       "      <td>...</td>\n",
       "      <td>...</td>\n",
       "      <td>...</td>\n",
       "      <td>...</td>\n",
       "      <td>...</td>\n",
       "      <td>...</td>\n",
       "      <td>...</td>\n",
       "      <td>...</td>\n",
       "      <td>...</td>\n",
       "      <td>...</td>\n",
       "      <td>...</td>\n",
       "      <td>...</td>\n",
       "    </tr>\n",
       "    <tr>\n",
       "      <th>90205</th>\n",
       "      <td>5650588</td>\n",
       "      <td>324582</td>\n",
       "      <td>b'ZTF20aaqvhld'</td>\n",
       "      <td>1150176701515015008</td>\n",
       "      <td>96618</td>\n",
       "      <td>58904.176701</td>\n",
       "      <td>44.164238</td>\n",
       "      <td>29.650540</td>\n",
       "      <td>0.623416</td>\n",
       "      <td>0.752309</td>\n",
       "      <td>...</td>\n",
       "      <td>-0.001541</td>\n",
       "      <td>0.627640</td>\n",
       "      <td>0.750696</td>\n",
       "      <td>0.206212</td>\n",
       "      <td>2.981799</td>\n",
       "      <td>0.008187</td>\n",
       "      <td>1688.636853</td>\n",
       "      <td>0.999966</td>\n",
       "      <td>0.220027</td>\n",
       "      <td>False</td>\n",
       "    </tr>\n",
       "    <tr>\n",
       "      <th>90206</th>\n",
       "      <td>5650589</td>\n",
       "      <td>324582</td>\n",
       "      <td>b'ZTF20aaqvhld'</td>\n",
       "      <td>1150176245715015005</td>\n",
       "      <td>96617</td>\n",
       "      <td>58904.176250</td>\n",
       "      <td>44.164062</td>\n",
       "      <td>29.650536</td>\n",
       "      <td>0.623417</td>\n",
       "      <td>0.752307</td>\n",
       "      <td>...</td>\n",
       "      <td>-0.001541</td>\n",
       "      <td>0.627641</td>\n",
       "      <td>0.750695</td>\n",
       "      <td>0.206213</td>\n",
       "      <td>2.981793</td>\n",
       "      <td>0.008187</td>\n",
       "      <td>1688.600639</td>\n",
       "      <td>0.999966</td>\n",
       "      <td>0.220018</td>\n",
       "      <td>False</td>\n",
       "    </tr>\n",
       "    <tr>\n",
       "      <th>90207</th>\n",
       "      <td>5650665</td>\n",
       "      <td>324582</td>\n",
       "      <td>b'ZTF20aaqvhll'</td>\n",
       "      <td>1150176245815015010</td>\n",
       "      <td>96617</td>\n",
       "      <td>58904.176250</td>\n",
       "      <td>44.368640</td>\n",
       "      <td>28.490480</td>\n",
       "      <td>0.628284</td>\n",
       "      <td>0.753618</td>\n",
       "      <td>...</td>\n",
       "      <td>-0.001541</td>\n",
       "      <td>0.627641</td>\n",
       "      <td>0.750695</td>\n",
       "      <td>0.206213</td>\n",
       "      <td>2.981793</td>\n",
       "      <td>0.013370</td>\n",
       "      <td>2757.856469</td>\n",
       "      <td>0.999911</td>\n",
       "      <td>0.586871</td>\n",
       "      <td>False</td>\n",
       "    </tr>\n",
       "    <tr>\n",
       "      <th>90208</th>\n",
       "      <td>5650697</td>\n",
       "      <td>324582</td>\n",
       "      <td>b'ZTF20aaqvhmb'</td>\n",
       "      <td>1150176246015015005</td>\n",
       "      <td>96617</td>\n",
       "      <td>58904.176250</td>\n",
       "      <td>43.296207</td>\n",
       "      <td>29.505908</td>\n",
       "      <td>0.633424</td>\n",
       "      <td>0.743491</td>\n",
       "      <td>...</td>\n",
       "      <td>-0.001541</td>\n",
       "      <td>0.627641</td>\n",
       "      <td>0.750695</td>\n",
       "      <td>0.206213</td>\n",
       "      <td>2.981793</td>\n",
       "      <td>0.012388</td>\n",
       "      <td>2555.279465</td>\n",
       "      <td>0.999923</td>\n",
       "      <td>0.503822</td>\n",
       "      <td>False</td>\n",
       "    </tr>\n",
       "    <tr>\n",
       "      <th>90209</th>\n",
       "      <td>5650705</td>\n",
       "      <td>324582</td>\n",
       "      <td>b'ZTF20aaqvhlg'</td>\n",
       "      <td>1150176245715015008</td>\n",
       "      <td>96617</td>\n",
       "      <td>58904.176250</td>\n",
       "      <td>44.621045</td>\n",
       "      <td>29.303550</td>\n",
       "      <td>0.620689</td>\n",
       "      <td>0.756675</td>\n",
       "      <td>...</td>\n",
       "      <td>-0.001541</td>\n",
       "      <td>0.627641</td>\n",
       "      <td>0.750695</td>\n",
       "      <td>0.206213</td>\n",
       "      <td>2.981793</td>\n",
       "      <td>0.009206</td>\n",
       "      <td>1898.910180</td>\n",
       "      <td>0.999958</td>\n",
       "      <td>0.278235</td>\n",
       "      <td>False</td>\n",
       "    </tr>\n",
       "  </tbody>\n",
       "</table>\n",
       "<p>90210 rows × 26 columns</p>\n",
       "</div>"
      ],
      "text/plain": [
       "        ztf_id  element_id         ObjectID          CandidateID  TimeStampID  \\\n",
       "0        53851         733  b'ZTF18abnothj'   594197584815010004         5501   \n",
       "1        73604         733  b'ZTF18ablwzmb'   594197584815015003         5501   \n",
       "2        82343         733  b'ZTF18abiydvm'   635193253015015018        12089   \n",
       "3       257221         733  b'ZTF18acakcqg'   931471223715015007        39920   \n",
       "4       327000         733  b'ZTF18achmdmw'   937465970615015011        40837   \n",
       "...        ...         ...              ...                  ...          ...   \n",
       "90205  5650588      324582  b'ZTF20aaqvhld'  1150176701515015008        96618   \n",
       "90206  5650589      324582  b'ZTF20aaqvhld'  1150176245715015005        96617   \n",
       "90207  5650665      324582  b'ZTF20aaqvhll'  1150176245815015010        96617   \n",
       "90208  5650697      324582  b'ZTF20aaqvhmb'  1150176246015015005        96617   \n",
       "90209  5650705      324582  b'ZTF20aaqvhlg'  1150176245715015008        96617   \n",
       "\n",
       "                mjd          ra        dec        ux        uy  ...        vz  \\\n",
       "0      58348.197581  266.229165 -13.513802 -0.063945 -0.983101  ...  0.004080   \n",
       "1      58348.197581  265.761024 -13.509148 -0.071871 -0.982578  ...  0.004080   \n",
       "2      58389.193252  270.331454 -11.244934  0.005674 -0.977422  ...  0.003825   \n",
       "3      58685.471227   29.693832  42.180412  0.643725  0.603886  ... -0.001953   \n",
       "4      58691.465972   33.104905  44.059131  0.601970  0.636719  ... -0.002129   \n",
       "...             ...         ...        ...       ...       ...  ...       ...   \n",
       "90205  58904.176701   44.164238  29.650540  0.623416  0.752309  ... -0.001541   \n",
       "90206  58904.176250   44.164062  29.650536  0.623417  0.752307  ... -0.001541   \n",
       "90207  58904.176250   44.368640  28.490480  0.628284  0.753618  ... -0.001541   \n",
       "90208  58904.176250   43.296207  29.505908  0.633424  0.743491  ... -0.001541   \n",
       "90209  58904.176250   44.621045  29.303550  0.620689  0.756675  ... -0.001541   \n",
       "\n",
       "         elt_ux    elt_uy    elt_uz     elt_r         s        s_sec  \\\n",
       "0     -0.057300 -0.982042  0.179751  2.234078  0.010624  2191.371398   \n",
       "1     -0.057300 -0.982042  0.179751  2.234078  0.016809  3467.103003   \n",
       "2      0.000918 -0.977996  0.208622  2.703478  0.005450  1124.142942   \n",
       "3      0.639004  0.610779  0.467571  2.175851  0.008712  1797.042210   \n",
       "4      0.606278  0.637608  0.475272  2.114865  0.007949  1639.537152   \n",
       "...         ...       ...       ...       ...       ...          ...   \n",
       "90205  0.627640  0.750696  0.206212  2.981799  0.008187  1688.636853   \n",
       "90206  0.627641  0.750695  0.206213  2.981793  0.008187  1688.600639   \n",
       "90207  0.627641  0.750695  0.206213  2.981793  0.013370  2757.856469   \n",
       "90208  0.627641  0.750695  0.206213  2.981793  0.012388  2555.279465   \n",
       "90209  0.627641  0.750695  0.206213  2.981793  0.009206  1898.910180   \n",
       "\n",
       "              z         v  is_hit  \n",
       "0      0.999944  0.370539   False  \n",
       "1      0.999859  0.927533   False  \n",
       "2      0.999985  0.097510   False  \n",
       "3      0.999962  0.249184   False  \n",
       "4      0.999968  0.207418   False  \n",
       "...         ...       ...     ...  \n",
       "90205  0.999966  0.220027   False  \n",
       "90206  0.999966  0.220018   False  \n",
       "90207  0.999911  0.586871   False  \n",
       "90208  0.999923  0.503822   False  \n",
       "90209  0.999958  0.278235   False  \n",
       "\n",
       "[90210 rows x 26 columns]"
      ]
     },
     "execution_count": 12,
     "metadata": {},
     "output_type": "execute_result"
    }
   ],
   "source": [
    "ztf_elt_ast"
   ]
  },
  {
   "cell_type": "code",
   "execution_count": 13,
   "metadata": {},
   "outputs": [
    {
     "data": {
      "text/plain": [
       "Index(['ztf_id', 'element_id', 'ObjectID', 'CandidateID', 'TimeStampID', 'mjd',\n",
       "       'ra', 'dec', 'ux', 'uy', 'uz', 'qx', 'qy', 'qz', 'vx', 'vy', 'vz',\n",
       "       'elt_ux', 'elt_uy', 'elt_uz', 'elt_r', 's', 's_sec', 'z', 'v',\n",
       "       'is_hit'],\n",
       "      dtype='object')"
      ]
     },
     "execution_count": 13,
     "metadata": {},
     "output_type": "execute_result"
    }
   ],
   "source": [
    "ztf_elt_ast.columns"
   ]
  },
  {
   "cell_type": "code",
   "execution_count": 14,
   "metadata": {},
   "outputs": [
    {
     "name": "stdout",
     "output_type": "stream",
     "text": [
      "Best asteroid has element_id = 51921\n",
      "Hit count: 158\n",
      "Closest hit: 0.382 arc seconds\n"
     ]
    }
   ],
   "source": [
    "# Review results\n",
    "ztf_elt = ztf_elt_ast\n",
    "element_id_best = ast_num_best[0]\n",
    "mask = (ztf_elt.element_id == element_id_best)\n",
    "hits_best = np.sum(ztf_elt[mask].is_hit)\n",
    "s_sec_min = np.min(ztf_elt[mask].s_sec)\n",
    "idx = np.argmin(ztf_elt.s)\n",
    "ztf_id = ztf_elt.ztf_id[idx]\n",
    "# ztf_elt[mask].iloc[idx:idx+1]\n",
    "print(f'Best asteroid has element_id = {element_id_best}')\n",
    "print(f'Hit count: {hits_best}')\n",
    "print(f'Closest hit: {s_sec_min:0.3f} arc seconds')\n",
    "# ztf_elt[mask]"
   ]
  },
  {
   "cell_type": "markdown",
   "metadata": {},
   "source": [
    "## Load Position and Direction Models"
   ]
  },
  {
   "cell_type": "code",
   "execution_count": 15,
   "metadata": {},
   "outputs": [],
   "source": [
    "# Data types\n",
    "dtype = tf.float32\n",
    "dtype_np = np.float32"
   ]
  },
  {
   "cell_type": "code",
   "execution_count": 16,
   "metadata": {},
   "outputs": [],
   "source": [
    "# Alias ztf_elt\n",
    "ztf_elt = ztf_elt_ast.copy()"
   ]
  },
  {
   "cell_type": "code",
   "execution_count": 17,
   "metadata": {},
   "outputs": [],
   "source": [
    "# Build numpy array of times\n",
    "ts_np = ztf_elt.mjd.values.astype(dtype_np)\n",
    "\n",
    "# Build tensor of flattened times\n",
    "ts = keras.backend.constant(ts_np)"
   ]
  },
  {
   "cell_type": "code",
   "execution_count": 18,
   "metadata": {},
   "outputs": [],
   "source": [
    "# Get observation count per element\n",
    "row_lengths_np = ztf_elt.element_id.groupby(ztf_elt.element_id).count().values.astype(np.int32)\n",
    "\n",
    "# Tensor of row lengths\n",
    "row_lengths = keras.backend.constant(row_lengths_np, dtype=tf.int32)"
   ]
  },
  {
   "cell_type": "code",
   "execution_count": 19,
   "metadata": {},
   "outputs": [
    {
     "data": {
      "text/plain": [
       "<tf.Tensor: shape=(64,), dtype=int32, numpy=\n",
       "array([1424,  936, 1117, 1087, 1035, 1028,  780, 2747,  926, 2485, 1023,\n",
       "       1013, 1063,  858, 1943,  949,  636, 1199, 1547, 1477,  991,  790,\n",
       "       3205, 2719, 1612,  771, 1047, 1253,  845, 3085,  866, 1474, 2678,\n",
       "        802, 1653,  708, 1043,  855, 2362, 1012, 1048, 1677,  916,  813,\n",
       "       1101, 1180, 2708,  688, 1929, 2871, 1099,  743,  943, 2018, 2717,\n",
       "        595,  864,  941, 2628, 3127,  943, 1726,  762, 1129], dtype=int32)>"
      ]
     },
     "execution_count": 19,
     "metadata": {},
     "output_type": "execute_result"
    }
   ],
   "source": [
    "row_lengths"
   ]
  },
  {
   "cell_type": "code",
   "execution_count": 20,
   "metadata": {},
   "outputs": [],
   "source": [
    "# Build ragged tensor of input times\n",
    "ts_r = tf.RaggedTensor.from_row_lengths(values=ztf_elt.mjd.values.astype(dtype_np), row_lengths=row_lengths)"
   ]
  },
  {
   "cell_type": "code",
   "execution_count": 21,
   "metadata": {},
   "outputs": [],
   "source": [
    "# Unique times\n",
    "ts_unq = np.unique(ztf_elt_ast.mjd)\n",
    "TimeStampID_unq = np.unique(ztf_elt_ast.TimeStampID)\n",
    "\n",
    "# The epoch\n",
    "epoch0 = elts_ast.epoch[0]"
   ]
  },
  {
   "cell_type": "code",
   "execution_count": 22,
   "metadata": {},
   "outputs": [
    {
     "name": "stdout",
     "output_type": "stream",
     "text": [
      "ts.shape=(90210,)\n",
      "ts.shape=(64, None)\n",
      "ts_unq.shape=(6383,)\n"
     ]
    }
   ],
   "source": [
    "# Report time tensor shapes\n",
    "print(f'ts.shape={ts.shape}')\n",
    "print(f'ts.shape={ts_r.shape}')\n",
    "# print(f'ts_flat.shape={ts_flat.shape}')\n",
    "print(f'ts_unq.shape={ts_unq.shape}')"
   ]
  },
  {
   "cell_type": "code",
   "execution_count": 23,
   "metadata": {},
   "outputs": [],
   "source": [
    "# Observation site\n",
    "site_name = 'palomar'"
   ]
  },
  {
   "cell_type": "code",
   "execution_count": 24,
   "metadata": {},
   "outputs": [],
   "source": [
    "# Build position model\n",
    "model_pos = make_model_ast_pos(ts_np=ts_np, row_lengths_np=row_lengths_np)"
   ]
  },
  {
   "cell_type": "code",
   "execution_count": 25,
   "metadata": {},
   "outputs": [],
   "source": [
    "# Build direction model\n",
    "model_dir = make_model_ast_dir(ts_np=ts_np, row_lengths_np=row_lengths_np, site_name=site_name)"
   ]
  },
  {
   "cell_type": "code",
   "execution_count": 26,
   "metadata": {},
   "outputs": [],
   "source": [
    "# Stack elements as a dict of numpy arrays for prediction\n",
    "cols_elt = ['a', 'e', 'inc', 'Omega', 'omega', 'f', 'epoch']\n",
    "elts_ast_dict = {col : elts_ast[col].values for col in cols_elt}\n",
    "# elts_ast_dict"
   ]
  },
  {
   "cell_type": "markdown",
   "metadata": {},
   "source": [
    "## Run and Calibrate Position Model"
   ]
  },
  {
   "cell_type": "code",
   "execution_count": 27,
   "metadata": {},
   "outputs": [
    {
     "name": "stdout",
     "output_type": "stream",
     "text": [
      "Model: \"model_asteroid_pos\"\n",
      "__________________________________________________________________________________________________\n",
      "Layer (type)                    Output Shape         Param #     Connected to                     \n",
      "==================================================================================================\n",
      "a (InputLayer)                  [(64,)]              0                                            \n",
      "__________________________________________________________________________________________________\n",
      "Omega (InputLayer)              [(64,)]              0                                            \n",
      "__________________________________________________________________________________________________\n",
      "e (InputLayer)                  [(64,)]              0                                            \n",
      "__________________________________________________________________________________________________\n",
      "epoch (InputLayer)              [(64,)]              0                                            \n",
      "__________________________________________________________________________________________________\n",
      "f (InputLayer)                  [(64,)]              0                                            \n",
      "__________________________________________________________________________________________________\n",
      "inc (InputLayer)                [(64,)]              0                                            \n",
      "__________________________________________________________________________________________________\n",
      "omega (InputLayer)              [(64,)]              0                                            \n",
      "__________________________________________________________________________________________________\n",
      "ast_pos_layer (AsteroidPosition ((90210, 3), (90210, 541260      a[0][0]                          \n",
      "__________________________________________________________________________________________________\n",
      "q (Lambda)                      (64, None, 3)        0           ast_pos_layer[0][0]              \n",
      "__________________________________________________________________________________________________\n",
      "v (Lambda)                      (64, None, 3)        0           ast_pos_layer[0][1]              \n",
      "==================================================================================================\n",
      "Total params: 541,260\n",
      "Trainable params: 0\n",
      "Non-trainable params: 541,260\n",
      "__________________________________________________________________________________________________\n"
     ]
    }
   ],
   "source": [
    "model_pos.summary()"
   ]
  },
  {
   "cell_type": "code",
   "execution_count": 28,
   "metadata": {},
   "outputs": [],
   "source": [
    "# Predict position model\n",
    "q_pred, v_pred = model_pos.predict(elts_ast_dict)"
   ]
  },
  {
   "cell_type": "code",
   "execution_count": 29,
   "metadata": {},
   "outputs": [
    {
     "name": "stdout",
     "output_type": "stream",
     "text": [
      "q_pred.shape = (64, None, 3)\n",
      "v_pred.shape = (64, None, 3)\n"
     ]
    }
   ],
   "source": [
    "# Review shape of predictions\n",
    "print(f'q_pred.shape = {q_pred.shape}')\n",
    "print(f'v_pred.shape = {v_pred.shape}')"
   ]
  },
  {
   "cell_type": "code",
   "execution_count": 30,
   "metadata": {},
   "outputs": [],
   "source": [
    "# Calibration arrays (flat)\n",
    "cols_q_ast = ['qx', 'qy', 'qz']\n",
    "cols_v_ast = ['vx', 'vy', 'vz']\n",
    "q_ast = ztf_elt[cols_q_ast].values.astype(dtype_np)\n",
    "v_ast = ztf_elt[cols_v_ast].values.astype(dtype_np)"
   ]
  },
  {
   "cell_type": "code",
   "execution_count": 31,
   "metadata": {},
   "outputs": [],
   "source": [
    "# Run calibration\n",
    "model_pos.ast_pos_layer.calibrate(elts=elts_ast, q_ast=q_ast, v_ast=v_ast)"
   ]
  },
  {
   "cell_type": "code",
   "execution_count": 32,
   "metadata": {},
   "outputs": [
    {
     "name": "stdout",
     "output_type": "stream",
     "text": [
      "Mean calibration adjustments:\n",
      "mean_dq = 9.84e-05\n",
      "mean_dq = 9.31e-07\n"
     ]
    }
   ],
   "source": [
    "# Check that corrections during calibration aren't too large\n",
    "mean_dq = np.mean(tf.linalg.norm(model_pos.ast_pos_layer.dq, axis=1))\n",
    "mean_dv = np.mean(tf.linalg.norm(model_pos.ast_pos_layer.dv, axis=1))\n",
    "\n",
    "print(f'Mean calibration adjustments:')\n",
    "print(f'mean_dq = {mean_dq:6.2e}')\n",
    "print(f'mean_dq = {mean_dv:6.2e}')"
   ]
  },
  {
   "cell_type": "markdown",
   "metadata": {},
   "source": [
    "## Predict Direction Model"
   ]
  },
  {
   "cell_type": "code",
   "execution_count": 33,
   "metadata": {},
   "outputs": [
    {
     "name": "stdout",
     "output_type": "stream",
     "text": [
      "Model: \"model_asteroid_dir\"\n",
      "__________________________________________________________________________________________________\n",
      "Layer (type)                    Output Shape         Param #     Connected to                     \n",
      "==================================================================================================\n",
      "a (InputLayer)                  [(64,)]              0                                            \n",
      "__________________________________________________________________________________________________\n",
      "Omega (InputLayer)              [(64,)]              0                                            \n",
      "__________________________________________________________________________________________________\n",
      "e (InputLayer)                  [(64,)]              0                                            \n",
      "__________________________________________________________________________________________________\n",
      "epoch (InputLayer)              [(64,)]              0                                            \n",
      "__________________________________________________________________________________________________\n",
      "f (InputLayer)                  [(64,)]              0                                            \n",
      "__________________________________________________________________________________________________\n",
      "inc (InputLayer)                [(64,)]              0                                            \n",
      "__________________________________________________________________________________________________\n",
      "omega (InputLayer)              [(64,)]              0                                            \n",
      "__________________________________________________________________________________________________\n",
      "ast_dir_layer (AsteroidDirectio ((90210, 3), (90210, 541260      a[0][0]                          \n",
      "__________________________________________________________________________________________________\n",
      "u (Lambda)                      (64, None, 3)        0           ast_dir_layer[0][0]              \n",
      "__________________________________________________________________________________________________\n",
      "r (Lambda)                      (64, None, 1)        0           ast_dir_layer[0][1]              \n",
      "__________________________________________________________________________________________________\n",
      "q_ast (AsteroidPosition)        multiple             541260                                       \n",
      "==================================================================================================\n",
      "Total params: 541,260\n",
      "Trainable params: 0\n",
      "Non-trainable params: 541,260\n",
      "__________________________________________________________________________________________________\n"
     ]
    }
   ],
   "source": [
    "model_dir.summary()"
   ]
  },
  {
   "cell_type": "code",
   "execution_count": 34,
   "metadata": {},
   "outputs": [],
   "source": [
    "# Calibrate direction model's position layer\n",
    "model_dir.ast_pos_layer.calibrate(elts=elts_ast, q_ast=q_ast, v_ast=v_ast)"
   ]
  },
  {
   "cell_type": "code",
   "execution_count": 35,
   "metadata": {},
   "outputs": [],
   "source": [
    "# Predict calibrated direction model\n",
    "u_pred, r_pred = model_dir.predict(elts_ast_dict)"
   ]
  },
  {
   "cell_type": "code",
   "execution_count": 36,
   "metadata": {},
   "outputs": [
    {
     "name": "stdout",
     "output_type": "stream",
     "text": [
      "u_pred.shape = (64, None, 3)\n",
      "r_pred.shape = (64, None, 1)\n"
     ]
    }
   ],
   "source": [
    "# Review shape of predictions\n",
    "print(f'u_pred.shape = {u_pred.shape}')\n",
    "print(f'r_pred.shape = {r_pred.shape}')"
   ]
  },
  {
   "cell_type": "code",
   "execution_count": 37,
   "metadata": {},
   "outputs": [
    {
     "name": "stdout",
     "output_type": "stream",
     "text": [
      "Mean direction difference:\n",
      "Cartesian  : 7.86e-06\n",
      "Arc Seconds:  1.622\n"
     ]
    }
   ],
   "source": [
    "# Compare to direction on the ztf_elt frame (should be the same!)\n",
    "cols_u = ['elt_ux', 'elt_uy', 'elt_uz']\n",
    "u_exp = ztf_elt[cols_u].values\n",
    "u_diff = u_pred.values - u_exp\n",
    "mean_diff_s = np.mean(np.linalg.norm(u_diff, axis=1))\n",
    "mean_diff_sec = dist2sec(mean_diff_s)\n",
    "\n",
    "# Report results\n",
    "print(f'Mean direction difference:')\n",
    "print(f'Cartesian  : {mean_diff_s:8.2e}')\n",
    "print(f'Arc Seconds: {mean_diff_sec:6.3f}')"
   ]
  },
  {
   "cell_type": "markdown",
   "metadata": {},
   "source": [
    "## Assemble Tensors for Prototype Model"
   ]
  },
  {
   "cell_type": "code",
   "execution_count": 38,
   "metadata": {},
   "outputs": [],
   "source": [
    "# Orbital elements\n",
    "a = tf.Variable(initial_value=elts_ast.a, dtype=dtype, name='a')\n",
    "e = tf.Variable(initial_value=elts_ast.e, dtype=dtype, name='e')\n",
    "inc = tf.Variable(initial_value=elts_ast.inc, dtype=dtype, name='inc')\n",
    "Omega = tf.Variable(initial_value=elts_ast.Omega, dtype=dtype, name='Omega')\n",
    "omega = tf.Variable(initial_value=elts_ast.omega, dtype=dtype, name='omega')\n",
    "f = tf.Variable(initial_value=elts_ast.f, dtype=dtype, name='f')\n",
    "epoch = tf.constant(value=elts_ast.epoch, dtype=dtype, name='epoch')"
   ]
  },
  {
   "cell_type": "code",
   "execution_count": 39,
   "metadata": {},
   "outputs": [
    {
     "name": "stdout",
     "output_type": "stream",
     "text": [
      "a.shape = (64,)\n"
     ]
    }
   ],
   "source": [
    "# Review element shapes (all the same)\n",
    "print(f'a.shape = {a.shape}')"
   ]
  },
  {
   "cell_type": "code",
   "execution_count": 40,
   "metadata": {},
   "outputs": [
    {
     "data": {
      "text/html": [
       "<div>\n",
       "<style scoped>\n",
       "    .dataframe tbody tr th:only-of-type {\n",
       "        vertical-align: middle;\n",
       "    }\n",
       "\n",
       "    .dataframe tbody tr th {\n",
       "        vertical-align: top;\n",
       "    }\n",
       "\n",
       "    .dataframe thead th {\n",
       "        text-align: right;\n",
       "    }\n",
       "</style>\n",
       "<table border=\"1\" class=\"dataframe\">\n",
       "  <thead>\n",
       "    <tr style=\"text-align: right;\">\n",
       "      <th></th>\n",
       "      <th>ztf_id</th>\n",
       "      <th>element_id</th>\n",
       "      <th>ObjectID</th>\n",
       "      <th>CandidateID</th>\n",
       "      <th>TimeStampID</th>\n",
       "      <th>mjd</th>\n",
       "      <th>ra</th>\n",
       "      <th>dec</th>\n",
       "      <th>ux</th>\n",
       "      <th>uy</th>\n",
       "      <th>...</th>\n",
       "      <th>vz</th>\n",
       "      <th>elt_ux</th>\n",
       "      <th>elt_uy</th>\n",
       "      <th>elt_uz</th>\n",
       "      <th>elt_r</th>\n",
       "      <th>s</th>\n",
       "      <th>s_sec</th>\n",
       "      <th>z</th>\n",
       "      <th>v</th>\n",
       "      <th>is_hit</th>\n",
       "    </tr>\n",
       "  </thead>\n",
       "  <tbody>\n",
       "    <tr>\n",
       "      <th>49064</th>\n",
       "      <td>254639</td>\n",
       "      <td>51921</td>\n",
       "      <td>b'ZTF17aaaexyh'</td>\n",
       "      <td>929453032715010002</td>\n",
       "      <td>39524</td>\n",
       "      <td>58683.453032</td>\n",
       "      <td>30.512085</td>\n",
       "      <td>25.122180</td>\n",
       "      <td>0.780026</td>\n",
       "      <td>0.590635</td>\n",
       "      <td>...</td>\n",
       "      <td>0.003049</td>\n",
       "      <td>0.773781</td>\n",
       "      <td>0.598746</td>\n",
       "      <td>0.206801</td>\n",
       "      <td>2.425591</td>\n",
       "      <td>0.010237</td>\n",
       "      <td>2111.633673</td>\n",
       "      <td>0.999948</td>\n",
       "      <td>3.440641e-01</td>\n",
       "      <td>False</td>\n",
       "    </tr>\n",
       "    <tr>\n",
       "      <th>49065</th>\n",
       "      <td>254654</td>\n",
       "      <td>51921</td>\n",
       "      <td>b'ZTF17aaaexyh'</td>\n",
       "      <td>929479172715010000</td>\n",
       "      <td>39555</td>\n",
       "      <td>58683.479178</td>\n",
       "      <td>30.512152</td>\n",
       "      <td>25.122183</td>\n",
       "      <td>0.780025</td>\n",
       "      <td>0.590636</td>\n",
       "      <td>...</td>\n",
       "      <td>0.003049</td>\n",
       "      <td>0.773681</td>\n",
       "      <td>0.598853</td>\n",
       "      <td>0.206866</td>\n",
       "      <td>2.425228</td>\n",
       "      <td>0.010383</td>\n",
       "      <td>2141.648464</td>\n",
       "      <td>0.999946</td>\n",
       "      <td>3.539146e-01</td>\n",
       "      <td>False</td>\n",
       "    </tr>\n",
       "    <tr>\n",
       "      <th>49066</th>\n",
       "      <td>285559</td>\n",
       "      <td>51921</td>\n",
       "      <td>b'ZTF19abiquuf'</td>\n",
       "      <td>936427393415015002</td>\n",
       "      <td>40501</td>\n",
       "      <td>58690.427396</td>\n",
       "      <td>33.557434</td>\n",
       "      <td>26.797350</td>\n",
       "      <td>0.743838</td>\n",
       "      <td>0.632026</td>\n",
       "      <td>...</td>\n",
       "      <td>0.002976</td>\n",
       "      <td>0.746833</td>\n",
       "      <td>0.626025</td>\n",
       "      <td>0.224350</td>\n",
       "      <td>2.329539</td>\n",
       "      <td>0.009682</td>\n",
       "      <td>1997.086804</td>\n",
       "      <td>0.999953</td>\n",
       "      <td>3.077489e-01</td>\n",
       "      <td>False</td>\n",
       "    </tr>\n",
       "    <tr>\n",
       "      <th>49067</th>\n",
       "      <td>285642</td>\n",
       "      <td>51921</td>\n",
       "      <td>b'ZTF19abiquzf'</td>\n",
       "      <td>936427393915015000</td>\n",
       "      <td>40501</td>\n",
       "      <td>58690.427396</td>\n",
       "      <td>32.542958</td>\n",
       "      <td>27.063322</td>\n",
       "      <td>0.750685</td>\n",
       "      <td>0.620481</td>\n",
       "      <td>...</td>\n",
       "      <td>0.002976</td>\n",
       "      <td>0.746833</td>\n",
       "      <td>0.626025</td>\n",
       "      <td>0.224350</td>\n",
       "      <td>2.329539</td>\n",
       "      <td>0.007210</td>\n",
       "      <td>1487.255810</td>\n",
       "      <td>0.999974</td>\n",
       "      <td>1.706772e-01</td>\n",
       "      <td>False</td>\n",
       "    </tr>\n",
       "    <tr>\n",
       "      <th>49068</th>\n",
       "      <td>292364</td>\n",
       "      <td>51921</td>\n",
       "      <td>b'ZTF19abiquzd'</td>\n",
       "      <td>936427393915015002</td>\n",
       "      <td>40501</td>\n",
       "      <td>58690.427396</td>\n",
       "      <td>32.772683</td>\n",
       "      <td>26.984702</td>\n",
       "      <td>0.749282</td>\n",
       "      <td>0.623062</td>\n",
       "      <td>...</td>\n",
       "      <td>0.002976</td>\n",
       "      <td>0.746833</td>\n",
       "      <td>0.626025</td>\n",
       "      <td>0.224350</td>\n",
       "      <td>2.329539</td>\n",
       "      <td>0.003845</td>\n",
       "      <td>793.025303</td>\n",
       "      <td>0.999993</td>\n",
       "      <td>4.852657e-02</td>\n",
       "      <td>False</td>\n",
       "    </tr>\n",
       "    <tr>\n",
       "      <th>...</th>\n",
       "      <td>...</td>\n",
       "      <td>...</td>\n",
       "      <td>...</td>\n",
       "      <td>...</td>\n",
       "      <td>...</td>\n",
       "      <td>...</td>\n",
       "      <td>...</td>\n",
       "      <td>...</td>\n",
       "      <td>...</td>\n",
       "      <td>...</td>\n",
       "      <td>...</td>\n",
       "      <td>...</td>\n",
       "      <td>...</td>\n",
       "      <td>...</td>\n",
       "      <td>...</td>\n",
       "      <td>...</td>\n",
       "      <td>...</td>\n",
       "      <td>...</td>\n",
       "      <td>...</td>\n",
       "      <td>...</td>\n",
       "      <td>...</td>\n",
       "    </tr>\n",
       "    <tr>\n",
       "      <th>49767</th>\n",
       "      <td>5447565</td>\n",
       "      <td>51921</td>\n",
       "      <td>b'ZTF20aapdeiy'</td>\n",
       "      <td>1145119391715015002</td>\n",
       "      <td>95200</td>\n",
       "      <td>58899.119398</td>\n",
       "      <td>40.107769</td>\n",
       "      <td>39.932949</td>\n",
       "      <td>0.586472</td>\n",
       "      <td>0.708557</td>\n",
       "      <td>...</td>\n",
       "      <td>-0.001161</td>\n",
       "      <td>0.586477</td>\n",
       "      <td>0.708552</td>\n",
       "      <td>0.392427</td>\n",
       "      <td>1.969148</td>\n",
       "      <td>0.000007</td>\n",
       "      <td>1.543181</td>\n",
       "      <td>1.000000</td>\n",
       "      <td>1.837551e-07</td>\n",
       "      <td>True</td>\n",
       "    </tr>\n",
       "    <tr>\n",
       "      <th>49768</th>\n",
       "      <td>5461054</td>\n",
       "      <td>51921</td>\n",
       "      <td>b'ZTF18abnzokb'</td>\n",
       "      <td>1145163031715010010</td>\n",
       "      <td>95280</td>\n",
       "      <td>58899.163032</td>\n",
       "      <td>40.387826</td>\n",
       "      <td>40.141830</td>\n",
       "      <td>0.582264</td>\n",
       "      <td>0.710898</td>\n",
       "      <td>...</td>\n",
       "      <td>-0.001163</td>\n",
       "      <td>0.586279</td>\n",
       "      <td>0.708772</td>\n",
       "      <td>0.392325</td>\n",
       "      <td>1.969530</td>\n",
       "      <td>0.005016</td>\n",
       "      <td>1034.707623</td>\n",
       "      <td>0.999987</td>\n",
       "      <td>8.261148e-02</td>\n",
       "      <td>False</td>\n",
       "    </tr>\n",
       "    <tr>\n",
       "      <th>49769</th>\n",
       "      <td>5461101</td>\n",
       "      <td>51921</td>\n",
       "      <td>b'ZTF20aapendd'</td>\n",
       "      <td>1145163031715015008</td>\n",
       "      <td>95280</td>\n",
       "      <td>58899.163032</td>\n",
       "      <td>40.131138</td>\n",
       "      <td>39.932511</td>\n",
       "      <td>0.586274</td>\n",
       "      <td>0.708777</td>\n",
       "      <td>...</td>\n",
       "      <td>-0.001163</td>\n",
       "      <td>0.586279</td>\n",
       "      <td>0.708772</td>\n",
       "      <td>0.392325</td>\n",
       "      <td>1.969530</td>\n",
       "      <td>0.000007</td>\n",
       "      <td>1.500867</td>\n",
       "      <td>1.000000</td>\n",
       "      <td>1.738164e-07</td>\n",
       "      <td>True</td>\n",
       "    </tr>\n",
       "    <tr>\n",
       "      <th>49770</th>\n",
       "      <td>5646723</td>\n",
       "      <td>51921</td>\n",
       "      <td>b'ZTF20aaqulnc'</td>\n",
       "      <td>1150144742815015009</td>\n",
       "      <td>96582</td>\n",
       "      <td>58904.144745</td>\n",
       "      <td>42.885851</td>\n",
       "      <td>39.904980</td>\n",
       "      <td>0.562069</td>\n",
       "      <td>0.734151</td>\n",
       "      <td>...</td>\n",
       "      <td>-0.001294</td>\n",
       "      <td>0.562074</td>\n",
       "      <td>0.734146</td>\n",
       "      <td>0.380923</td>\n",
       "      <td>2.012406</td>\n",
       "      <td>0.000007</td>\n",
       "      <td>1.436572</td>\n",
       "      <td>1.000000</td>\n",
       "      <td>1.592431e-07</td>\n",
       "      <td>True</td>\n",
       "    </tr>\n",
       "    <tr>\n",
       "      <th>49771</th>\n",
       "      <td>5650643</td>\n",
       "      <td>51921</td>\n",
       "      <td>b'ZTF20aaqvhso'</td>\n",
       "      <td>1150177152815015016</td>\n",
       "      <td>96619</td>\n",
       "      <td>58904.177153</td>\n",
       "      <td>42.903976</td>\n",
       "      <td>39.904761</td>\n",
       "      <td>0.561906</td>\n",
       "      <td>0.734314</td>\n",
       "      <td>...</td>\n",
       "      <td>-0.001295</td>\n",
       "      <td>0.561911</td>\n",
       "      <td>0.734309</td>\n",
       "      <td>0.380848</td>\n",
       "      <td>2.012688</td>\n",
       "      <td>0.000007</td>\n",
       "      <td>1.520883</td>\n",
       "      <td>1.000000</td>\n",
       "      <td>1.784832e-07</td>\n",
       "      <td>True</td>\n",
       "    </tr>\n",
       "  </tbody>\n",
       "</table>\n",
       "<p>708 rows × 26 columns</p>\n",
       "</div>"
      ],
      "text/plain": [
       "        ztf_id  element_id         ObjectID          CandidateID  TimeStampID  \\\n",
       "49064   254639       51921  b'ZTF17aaaexyh'   929453032715010002        39524   \n",
       "49065   254654       51921  b'ZTF17aaaexyh'   929479172715010000        39555   \n",
       "49066   285559       51921  b'ZTF19abiquuf'   936427393415015002        40501   \n",
       "49067   285642       51921  b'ZTF19abiquzf'   936427393915015000        40501   \n",
       "49068   292364       51921  b'ZTF19abiquzd'   936427393915015002        40501   \n",
       "...        ...         ...              ...                  ...          ...   \n",
       "49767  5447565       51921  b'ZTF20aapdeiy'  1145119391715015002        95200   \n",
       "49768  5461054       51921  b'ZTF18abnzokb'  1145163031715010010        95280   \n",
       "49769  5461101       51921  b'ZTF20aapendd'  1145163031715015008        95280   \n",
       "49770  5646723       51921  b'ZTF20aaqulnc'  1150144742815015009        96582   \n",
       "49771  5650643       51921  b'ZTF20aaqvhso'  1150177152815015016        96619   \n",
       "\n",
       "                mjd         ra        dec        ux        uy  ...        vz  \\\n",
       "49064  58683.453032  30.512085  25.122180  0.780026  0.590635  ...  0.003049   \n",
       "49065  58683.479178  30.512152  25.122183  0.780025  0.590636  ...  0.003049   \n",
       "49066  58690.427396  33.557434  26.797350  0.743838  0.632026  ...  0.002976   \n",
       "49067  58690.427396  32.542958  27.063322  0.750685  0.620481  ...  0.002976   \n",
       "49068  58690.427396  32.772683  26.984702  0.749282  0.623062  ...  0.002976   \n",
       "...             ...        ...        ...       ...       ...  ...       ...   \n",
       "49767  58899.119398  40.107769  39.932949  0.586472  0.708557  ... -0.001161   \n",
       "49768  58899.163032  40.387826  40.141830  0.582264  0.710898  ... -0.001163   \n",
       "49769  58899.163032  40.131138  39.932511  0.586274  0.708777  ... -0.001163   \n",
       "49770  58904.144745  42.885851  39.904980  0.562069  0.734151  ... -0.001294   \n",
       "49771  58904.177153  42.903976  39.904761  0.561906  0.734314  ... -0.001295   \n",
       "\n",
       "         elt_ux    elt_uy    elt_uz     elt_r         s        s_sec  \\\n",
       "49064  0.773781  0.598746  0.206801  2.425591  0.010237  2111.633673   \n",
       "49065  0.773681  0.598853  0.206866  2.425228  0.010383  2141.648464   \n",
       "49066  0.746833  0.626025  0.224350  2.329539  0.009682  1997.086804   \n",
       "49067  0.746833  0.626025  0.224350  2.329539  0.007210  1487.255810   \n",
       "49068  0.746833  0.626025  0.224350  2.329539  0.003845   793.025303   \n",
       "...         ...       ...       ...       ...       ...          ...   \n",
       "49767  0.586477  0.708552  0.392427  1.969148  0.000007     1.543181   \n",
       "49768  0.586279  0.708772  0.392325  1.969530  0.005016  1034.707623   \n",
       "49769  0.586279  0.708772  0.392325  1.969530  0.000007     1.500867   \n",
       "49770  0.562074  0.734146  0.380923  2.012406  0.000007     1.436572   \n",
       "49771  0.561911  0.734309  0.380848  2.012688  0.000007     1.520883   \n",
       "\n",
       "              z             v  is_hit  \n",
       "49064  0.999948  3.440641e-01   False  \n",
       "49065  0.999946  3.539146e-01   False  \n",
       "49066  0.999953  3.077489e-01   False  \n",
       "49067  0.999974  1.706772e-01   False  \n",
       "49068  0.999993  4.852657e-02   False  \n",
       "...         ...           ...     ...  \n",
       "49767  1.000000  1.837551e-07    True  \n",
       "49768  0.999987  8.261148e-02   False  \n",
       "49769  1.000000  1.738164e-07    True  \n",
       "49770  1.000000  1.592431e-07    True  \n",
       "49771  1.000000  1.784832e-07    True  \n",
       "\n",
       "[708 rows x 26 columns]"
      ]
     },
     "execution_count": 40,
     "metadata": {},
     "output_type": "execute_result"
    }
   ],
   "source": [
    "# Review ztf_elt on best candidate\n",
    "mask_best = (ztf_elt.element_id == element_id_best)\n",
    "ztf_elt_best = ztf_elt[mask_best]\n",
    "ztf_elt_best"
   ]
  },
  {
   "cell_type": "code",
   "execution_count": 41,
   "metadata": {},
   "outputs": [
    {
     "name": "stdout",
     "output_type": "stream",
     "text": [
      "u_obs_r.shape = (64, None, 3)\n"
     ]
    }
   ],
   "source": [
    "# Build ragged tensor of u_obs\n",
    "cols_u_obs = ['ux', 'uy', 'uz']\n",
    "u_obs_r = tf.RaggedTensor.from_row_lengths(values=ztf_elt[cols_u_obs].values, row_lengths=row_lengths)\n",
    "\n",
    "# Review shape\n",
    "print(f'u_obs_r.shape = {u_obs_r.shape}')"
   ]
  },
  {
   "cell_type": "code",
   "execution_count": 42,
   "metadata": {},
   "outputs": [],
   "source": [
    "# Latest time\n",
    "t_max = np.max(ztf_elt.mjd.values)\n",
    "\n",
    "# Time for padded values\n",
    "t_pad = t_max + 1.0"
   ]
  },
  {
   "cell_type": "code",
   "execution_count": 43,
   "metadata": {},
   "outputs": [
    {
     "name": "stdout",
     "output_type": "stream",
     "text": [
      "ts_2d.shape = (64, 3205)\n"
     ]
    }
   ],
   "source": [
    "# Convert ragged to 2D\n",
    "ts_2d = ts_r.to_tensor(default_value=t_pad)\n",
    "ts_2d_np = ts_2d.numpy()\n",
    "\n",
    "print(f'ts_2d.shape = {ts_2d.shape}')"
   ]
  },
  {
   "cell_type": "markdown",
   "metadata": {},
   "source": [
    "## Calculate Position and Direction Using Layers in asteroid_model.py"
   ]
  },
  {
   "cell_type": "code",
   "execution_count": 44,
   "metadata": {},
   "outputs": [],
   "source": [
    "# Build position layer\n",
    "ast_pos_layer = AsteroidPosition(ts_np=ts_np, row_lengths_np=row_lengths_np, name='ast_pos_layer')"
   ]
  },
  {
   "cell_type": "code",
   "execution_count": 45,
   "metadata": {},
   "outputs": [],
   "source": [
    "# Build direction layer\n",
    "direction_layer = AsteroidDirection(ts_np=ts_np, row_lengths_np=row_lengths_np, site_name=site_name, name='u_pred')"
   ]
  },
  {
   "cell_type": "code",
   "execution_count": 46,
   "metadata": {},
   "outputs": [],
   "source": [
    "# Predict position using the layer\n",
    "q_pred, v_pred = ast_pos_layer(a, e, inc, Omega, omega, f, epoch)"
   ]
  },
  {
   "cell_type": "code",
   "execution_count": 47,
   "metadata": {},
   "outputs": [
    {
     "name": "stdout",
     "output_type": "stream",
     "text": [
      "q_pred.shape = (90210, 3)\n",
      "v_pred.shape = (90210, 3)\n"
     ]
    }
   ],
   "source": [
    "# Review output\n",
    "print(f'q_pred.shape = {q_pred.shape}')\n",
    "print(f'v_pred.shape = {q_pred.shape}')"
   ]
  },
  {
   "cell_type": "code",
   "execution_count": 48,
   "metadata": {},
   "outputs": [],
   "source": [
    "# Run calibration\n",
    "ast_pos_layer.calibrate(elts=elts_ast, q_ast=q_ast, v_ast=v_ast)"
   ]
  },
  {
   "cell_type": "code",
   "execution_count": 49,
   "metadata": {},
   "outputs": [
    {
     "name": "stdout",
     "output_type": "stream",
     "text": [
      "Mean calibration adjustments:\n",
      "mean_dq = 9.84e-05\n",
      "mean_dq = 9.31e-07\n"
     ]
    }
   ],
   "source": [
    "# Check that corrections during calibration aren't too large\n",
    "mean_dq = np.mean(tf.linalg.norm(ast_pos_layer.dq, axis=1))\n",
    "mean_dv = np.mean(tf.linalg.norm(ast_pos_layer.dv, axis=1))\n",
    "\n",
    "print(f'Mean calibration adjustments:')\n",
    "print(f'mean_dq = {mean_dq:6.2e}')\n",
    "print(f'mean_dq = {mean_dv:6.2e}')"
   ]
  },
  {
   "cell_type": "code",
   "execution_count": 50,
   "metadata": {},
   "outputs": [],
   "source": [
    "# Convert q, v to ragged tensors matching the element batch\n",
    "q_r = tf.RaggedTensor.from_row_lengths(values=q_pred, row_lengths=row_lengths, name='q_r')\n",
    "v_r = tf.RaggedTensor.from_row_lengths(values=v_pred, row_lengths=row_lengths, name='v_r')"
   ]
  },
  {
   "cell_type": "code",
   "execution_count": 51,
   "metadata": {},
   "outputs": [
    {
     "name": "stdout",
     "output_type": "stream",
     "text": [
      "q_r.shape=(64, None, 3)\n"
     ]
    }
   ],
   "source": [
    "# Report shapes\n",
    "print(f'q_r.shape={q_r.shape}')"
   ]
  },
  {
   "cell_type": "code",
   "execution_count": 52,
   "metadata": {},
   "outputs": [],
   "source": [
    "# Predict direction using the layer\n",
    "u_pred, r_pred = direction_layer(a, e, inc, Omega, omega, f, epoch)"
   ]
  },
  {
   "cell_type": "code",
   "execution_count": 53,
   "metadata": {},
   "outputs": [
    {
     "name": "stdout",
     "output_type": "stream",
     "text": [
      "u_pred.shape=(90210, 3)\n",
      "r_pred.shape=(90210, 1)\n"
     ]
    }
   ],
   "source": [
    "# Report shapes\n",
    "print(f'u_pred.shape={u_pred.shape}')\n",
    "print(f'r_pred.shape={r_pred.shape}')"
   ]
  },
  {
   "cell_type": "markdown",
   "metadata": {},
   "source": [
    "## Create Input Tensors for Functional API Model Debugging"
   ]
  },
  {
   "cell_type": "code",
   "execution_count": 54,
   "metadata": {},
   "outputs": [],
   "source": [
    "# Input tensors\n",
    "in_a = keras.Input(shape=(), batch_size=elt_batch_size, name='a')\n",
    "in_e = keras.Input(shape=(), batch_size=elt_batch_size, name='e')\n",
    "in_inc = keras.Input(shape=(), batch_size=elt_batch_size, name='inc')\n",
    "in_Omega = keras.Input(shape=(), batch_size=elt_batch_size, name='Omega')\n",
    "in_omega = keras.Input(shape=(), batch_size=elt_batch_size, name='omega')\n",
    "in_f = keras.Input(shape=(), batch_size=elt_batch_size, name='f')\n",
    "in_epoch = keras.Input(shape=(), batch_size=elt_batch_size, name='epoch')\n",
    "\n",
    "# Wrap inputs\n",
    "inputs = (in_a, in_e, in_inc, in_Omega, in_omega, in_f, in_epoch)"
   ]
  },
  {
   "cell_type": "code",
   "execution_count": 55,
   "metadata": {},
   "outputs": [
    {
     "data": {
      "text/plain": [
       "<tf.Tensor 'a_2:0' shape=(64,) dtype=float32>"
      ]
     },
     "execution_count": 55,
     "metadata": {},
     "output_type": "execute_result"
    }
   ],
   "source": [
    "in_a"
   ]
  },
  {
   "cell_type": "code",
   "execution_count": 56,
   "metadata": {},
   "outputs": [
    {
     "data": {
      "text/plain": [
       "<tf.Variable 'a:0' shape=(64,) dtype=float32, numpy=\n",
       "array([2.6693056, 2.634727 , 1.8832273, 2.5563872, 2.6199443, 2.407715 ,\n",
       "       2.3491726, 2.3106558, 2.2718794, 2.6123784, 2.6039326, 3.0796754,\n",
       "       3.1138892, 2.331416 , 3.0063655, 2.344482 , 2.286487 , 2.5829718,\n",
       "       2.5813491, 2.6285136, 2.6182237, 3.2066405, 2.9078937, 2.6719072,\n",
       "       2.3353634, 3.1711535, 2.3273304, 2.6373718, 2.4007137, 2.3050103,\n",
       "       2.6771643, 2.6571858, 2.42876  , 1.903306 , 2.5840602, 2.4018168,\n",
       "       2.5349774, 2.6773167, 3.0751357, 3.1739578, 3.2142053, 2.6185794,\n",
       "       3.1158593, 1.9388875, 2.7592251, 2.275916 , 2.3057158, 3.3988707,\n",
       "       2.391135 , 2.2808902, 2.240677 , 1.9278089, 1.968155 , 2.5760422,\n",
       "       2.581424 , 2.3393567, 2.9165266, 2.6267219, 3.2064335, 2.2196503,\n",
       "       2.6127703, 2.6194055, 2.3422916, 3.155569 ], dtype=float32)>"
      ]
     },
     "execution_count": 56,
     "metadata": {},
     "output_type": "execute_result"
    }
   ],
   "source": [
    "a"
   ]
  },
  {
   "cell_type": "code",
   "execution_count": 57,
   "metadata": {},
   "outputs": [],
   "source": [
    "data_size = tf.reduce_sum(row_lengths)\n",
    "elt_shape = (data_size, 1,)"
   ]
  },
  {
   "cell_type": "code",
   "execution_count": 58,
   "metadata": {},
   "outputs": [],
   "source": [
    "# Create output tensor\n",
    "ast_pos_layer = AsteroidPosition(ts_np=ts_np, row_lengths_np=row_lengths_np)\n",
    "q_flat, v_flat = ast_pos_layer(in_a, in_e, in_inc, in_Omega, in_omega, in_f, in_epoch)"
   ]
  },
  {
   "cell_type": "code",
   "execution_count": 59,
   "metadata": {},
   "outputs": [],
   "source": [
    "# Predict direction\n",
    "u_pred, r_pred = direction_layer(in_a, in_e, in_inc, in_Omega, in_omega, in_f, in_epoch)"
   ]
  },
  {
   "cell_type": "code",
   "execution_count": 60,
   "metadata": {},
   "outputs": [
    {
     "name": "stdout",
     "output_type": "stream",
     "text": [
      "u_pred.shape = (90210, 3)\n",
      "r_pred.shape = (90210, 1)\n"
     ]
    }
   ],
   "source": [
    "# Review output\n",
    "print(f'u_pred.shape = {u_pred.shape}')\n",
    "print(f'r_pred.shape = {r_pred.shape}')"
   ]
  },
  {
   "cell_type": "code",
   "execution_count": 61,
   "metadata": {},
   "outputs": [],
   "source": [
    "# Build test position model\n",
    "model_pos_test = keras.Model(inputs=inputs, outputs=[q_flat, v_flat])"
   ]
  },
  {
   "cell_type": "code",
   "execution_count": 62,
   "metadata": {},
   "outputs": [],
   "source": [
    "# Build test direction model\n",
    "model_dir_test = keras.Model(inputs=inputs, outputs=[u_pred, r_pred])"
   ]
  },
  {
   "cell_type": "code",
   "execution_count": 63,
   "metadata": {},
   "outputs": [
    {
     "data": {
      "text/plain": [
       "[<tf.Tensor: shape=(90210, 3), dtype=float32, numpy=\n",
       " array([[-5.7236522e-02, -9.8204035e-01,  1.7977960e-01],\n",
       "        [-5.7236522e-02, -9.8204035e-01,  1.7977960e-01],\n",
       "        [ 9.4392640e-04, -9.7799307e-01,  2.0863535e-01],\n",
       "        ...,\n",
       "        [ 6.2769508e-01,  7.5064498e-01,  2.0623037e-01],\n",
       "        [ 6.2769508e-01,  7.5064498e-01,  2.0623037e-01],\n",
       "        [ 6.2769508e-01,  7.5064498e-01,  2.0623037e-01]], dtype=float32)>,\n",
       " <tf.Tensor: shape=(90210, 1), dtype=float32, numpy=\n",
       " array([[2.234171 ],\n",
       "        [2.234171 ],\n",
       "        [2.7035184],\n",
       "        ...,\n",
       "        [2.9816544],\n",
       "        [2.9816544],\n",
       "        [2.9816544]], dtype=float32)>]"
      ]
     },
     "execution_count": 63,
     "metadata": {},
     "output_type": "execute_result"
    }
   ],
   "source": [
    "model_dir_test([a, e, inc, Omega, omega, f, epoch])"
   ]
  },
  {
   "cell_type": "markdown",
   "metadata": {},
   "source": [
    "## Imports for Step by Step Calculations"
   ]
  },
  {
   "cell_type": "code",
   "execution_count": 64,
   "metadata": {},
   "outputs": [],
   "source": [
    "import astropy\n",
    "from astropy.units import au, day, year\n",
    "\n",
    "# Local imports\n",
    "from orbital_element import MeanToTrueAnomaly, TrueToMeanAnomaly\n",
    "from asteroid_data import get_earth_pos, get_sun_pos_vel\n",
    "from asteroid_model import ElementToPosition\n",
    "from ra_dec import calc_topos"
   ]
  },
  {
   "cell_type": "code",
   "execution_count": 65,
   "metadata": {},
   "outputs": [],
   "source": [
    "# Constants\n",
    "\n",
    "# The gravitational constant in ('day', 'AU', 'Msun') coordinates\n",
    "# Hard code G\n",
    "G_ = 0.00029591220828559104\n",
    "# The gravitational field strength mu = G * (m0 + m1)\n",
    "# For massless asteroids orbiting the sun with units Msun, m0=1.0, m1=0.0, and mu = G\n",
    "mu = tf.constant(G_)\n",
    "\n",
    "# Speed of light; express this in AU / day\n",
    "light_speed_au_day = astropy.constants.c.to(au / day).value\n",
    "\n",
    "# Number of spatial dimensions\n",
    "space_dims = 3\n",
    "\n",
    "# Data types\n",
    "dtype = tf.float32\n",
    "dtype_np = np.float32"
   ]
  },
  {
   "cell_type": "code",
   "execution_count": 66,
   "metadata": {},
   "outputs": [],
   "source": [
    "# Build direction layer\n",
    "direction_layer = AsteroidDirection(ts_np=ts_np, row_lengths_np=row_lengths_np, site_name=site_name, name='u_pred')"
   ]
  },
  {
   "cell_type": "code",
   "execution_count": 67,
   "metadata": {},
   "outputs": [],
   "source": [
    "# Predict direction layer\n",
    "u_pred, r_pred = direction_layer(a, e, inc, Omega, omega, f, epoch)"
   ]
  },
  {
   "cell_type": "code",
   "execution_count": 68,
   "metadata": {},
   "outputs": [
    {
     "data": {
      "text/plain": [
       "TensorShape([90210, 3])"
      ]
     },
     "execution_count": 68,
     "metadata": {},
     "output_type": "execute_result"
    }
   ],
   "source": [
    "u_pred.shape"
   ]
  },
  {
   "cell_type": "markdown",
   "metadata": {},
   "source": [
    "## Step by Step Calculation of Asteroid Position"
   ]
  },
  {
   "cell_type": "code",
   "execution_count": 69,
   "metadata": {},
   "outputs": [
    {
     "data": {
      "text/plain": [
       "TensorShape([64])"
      ]
     },
     "execution_count": 69,
     "metadata": {},
     "output_type": "execute_result"
    }
   ],
   "source": [
    "epoch.shape"
   ]
  },
  {
   "cell_type": "code",
   "execution_count": 70,
   "metadata": {},
   "outputs": [],
   "source": [
    "target_shape = (1,)"
   ]
  },
  {
   "cell_type": "code",
   "execution_count": 71,
   "metadata": {},
   "outputs": [],
   "source": [
    "# Time relative to epoch\n",
    "epoch_t  = keras.layers.Reshape(target_shape, name='epoch_t')(tf.repeat(epoch, row_lengths))\n",
    "t = keras.layers.subtract([ts, epoch_t], name='t')"
   ]
  },
  {
   "cell_type": "code",
   "execution_count": 72,
   "metadata": {},
   "outputs": [
    {
     "name": "stdout",
     "output_type": "stream",
     "text": [
      "ts.shape = (90210,)\n",
      "epoch.shape = (64,)\n",
      "t.shape = (90210, 1)\n"
     ]
    }
   ],
   "source": [
    "# Report\n",
    "print(f'ts.shape = {ts.shape}')\n",
    "print(f'epoch.shape = {epoch.shape}')\n",
    "print(f't.shape = {t.shape}')"
   ]
  },
  {
   "cell_type": "code",
   "execution_count": 73,
   "metadata": {},
   "outputs": [],
   "source": [
    "# Compute eccentric anomaly E from f and e\n",
    "M = TrueToMeanAnomaly(name='TrueToMeanAnomaly')([f, e])\n",
    "\n",
    "# Compute mean motion N from mu and a\n",
    "a3 = tf.math.pow(a, 3, name='a3')\n",
    "mu_over_a3 = tf.divide(mu, a3, name='mu_over_a3')\n",
    "N = tf.sqrt(mu_over_a3, name='N')"
   ]
  },
  {
   "cell_type": "code",
   "execution_count": 74,
   "metadata": {},
   "outputs": [],
   "source": [
    "# Repeat the constant orbital elements to be vectors of shape (batch_size, traj_size, 1)\n",
    "a_t = keras.layers.Reshape(target_shape, name='a_t')(tf.repeat(a, row_lengths))\n",
    "e_t = keras.layers.Reshape(target_shape, name='e_t')(tf.repeat(e, row_lengths))\n",
    "inc_t = keras.layers.Reshape(target_shape, name='inc_t')(tf.repeat(inc, row_lengths))\n",
    "Omega_t = keras.layers.Reshape(target_shape, name='Omega_t')(tf.repeat(Omega, row_lengths))\n",
    "omega_t = keras.layers.Reshape(target_shape, name='omega_t')(tf.repeat(omega, row_lengths))"
   ]
  },
  {
   "cell_type": "code",
   "execution_count": 75,
   "metadata": {},
   "outputs": [
    {
     "name": "stdout",
     "output_type": "stream",
     "text": [
      "a_t.shape = (90210, 1)\n"
     ]
    }
   ],
   "source": [
    "# Report\n",
    "print(f'a_t.shape = {a_t.shape}')"
   ]
  },
  {
   "cell_type": "code",
   "execution_count": 76,
   "metadata": {},
   "outputs": [],
   "source": [
    "# Repeat initial mean anomaly M0 and mean motion N0 to match shape of outputs\n",
    "M0_t  = keras.layers.Reshape(target_shape, name='M0_t')(tf.repeat(M, row_lengths))\n",
    "N0_t  = keras.layers.Reshape(target_shape, name='N0_t')(tf.repeat(N, row_lengths))\n",
    "# Compute the mean anomaly M(t) as a function of time\n",
    "N_mult_t = keras.layers.multiply(inputs=[N0_t, t])\n",
    "M_t = keras.layers.add(inputs=[M0_t, N_mult_t])"
   ]
  },
  {
   "cell_type": "code",
   "execution_count": 77,
   "metadata": {},
   "outputs": [],
   "source": [
    "# Compute the true anomaly from the mean anomly and eccentricity\n",
    "f_t = MeanToTrueAnomaly(name='mean_to_true_anomaly')([M_t, e_t])\n",
    "\n",
    "# Wrap orbital elements into one tuple of inputs for layer converting to cartesian coordinates\n",
    "elt_t = (a_t, e_t, inc_t, Omega_t, omega_t, f_t,)"
   ]
  },
  {
   "cell_type": "code",
   "execution_count": 78,
   "metadata": {},
   "outputs": [
    {
     "name": "stdout",
     "output_type": "stream",
     "text": [
      "M_t.shape = (90210, 1)\n",
      "f_t.shape = (90210, 1)\n"
     ]
    }
   ],
   "source": [
    "# Report\n",
    "print(f'M_t.shape = {M_t.shape}')\n",
    "print(f'f_t.shape = {f_t.shape}')"
   ]
  },
  {
   "cell_type": "code",
   "execution_count": 79,
   "metadata": {},
   "outputs": [],
   "source": [
    "# Convert orbital elements to heliocentric cartesian coordinates\n",
    "q_helio, v_helio = ElementToPosition(name='q_helio')(elt_t)"
   ]
  },
  {
   "cell_type": "code",
   "execution_count": 80,
   "metadata": {},
   "outputs": [
    {
     "data": {
      "text/plain": [
       "TensorShape([90210, 3])"
      ]
     },
     "execution_count": 80,
     "metadata": {},
     "output_type": "execute_result"
    }
   ],
   "source": [
    "# Report\n",
    "q_helio.shape"
   ]
  },
  {
   "cell_type": "code",
   "execution_count": null,
   "metadata": {},
   "outputs": [],
   "source": []
  }
 ],
 "metadata": {
  "kernelspec": {
   "display_name": "Python [conda env:kepler]",
   "language": "python",
   "name": "conda-env-kepler-py"
  },
  "language_info": {
   "codemirror_mode": {
    "name": "ipython",
    "version": 3
   },
   "file_extension": ".py",
   "mimetype": "text/x-python",
   "name": "python",
   "nbconvert_exporter": "python",
   "pygments_lexer": "ipython3",
   "version": "3.7.6"
  }
 },
 "nbformat": 4,
 "nbformat_minor": 4
}
