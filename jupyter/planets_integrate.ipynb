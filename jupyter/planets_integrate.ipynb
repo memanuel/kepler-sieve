{
 "cells": [
  {
   "cell_type": "code",
   "execution_count": 1,
   "metadata": {},
   "outputs": [],
   "source": [
    "# Core\n",
    "import numpy as np\n",
    "import pandas as pd\n",
    "import dask.dataframe as dd\n",
    "\n",
    "# Astronomy\n",
    "import rebound"
   ]
  },
  {
   "cell_type": "code",
   "execution_count": 2,
   "metadata": {},
   "outputs": [],
   "source": [
    "# Local imports\n",
    "import kepler_sieve\n",
    "from horizons import make_sim_horizons\n",
    "from rebound_sim import make_sim_planets\n",
    "from rebound_integrate import integrate_numpy, integrate_df\n",
    "from planets_test import get_integration_diff\n",
    "from db_config import db_engine\n",
    "from db_utils import sp2df, get_columns, df2csv, csv2db_stage, csv2db, csvs2db"
   ]
  },
  {
   "cell_type": "code",
   "execution_count": 3,
   "metadata": {},
   "outputs": [],
   "source": [
    "# Typing\n",
    "from typing import Tuple"
   ]
  },
  {
   "cell_type": "code",
   "execution_count": 4,
   "metadata": {},
   "outputs": [
    {
     "output_type": "execute_result",
     "data": {
      "text/plain": [
       "           TimeID   BodyID           MJD        qx        qy        qz  \\\n",
       "0       111733560  1000362  77592.750000 -2.629571 -0.081448  0.155729   \n",
       "1       111733560  1000363  77592.750000 -2.783687 -0.896859  0.219644   \n",
       "2       111733560  1000365  77592.750000 -2.967900  0.542988 -0.175328   \n",
       "3       111733560  1000366  77592.750000 -3.270584  0.284602 -0.102016   \n",
       "4       111733560  1000369  77592.750000  2.311616  0.300756 -0.524972   \n",
       "...           ...      ...           ...       ...       ...       ...   \n",
       "123325  111744030  1001036  77600.020833 -3.136739 -1.338182 -0.343996   \n",
       "123326  111744030  1001093  77600.020833  2.445547  0.864619 -0.693449   \n",
       "123327  111744030  1001107  77600.020833 -2.848030  0.805584  0.297822   \n",
       "123328  111744030  1001171  77600.020833  2.486780  0.629405 -0.132839   \n",
       "123329  111744030  1001467  77600.020833  0.671463  3.327788  1.255360   \n",
       "\n",
       "              vx        vy        vz  \n",
       "0      -0.000158 -0.010404 -0.001304  \n",
       "1       0.003137 -0.009164 -0.000708  \n",
       "2      -0.003030 -0.008797  0.001938  \n",
       "3      -0.000266 -0.009124 -0.001659  \n",
       "4      -0.001422  0.011563  0.000160  \n",
       "...          ...       ...       ...  \n",
       "123325  0.005512 -0.004426  0.003443  \n",
       "123326 -0.000299  0.010807  0.003068  \n",
       "123327 -0.003402 -0.009710  0.000790  \n",
       "123328 -0.004174  0.010901 -0.000108  \n",
       "123329 -0.008156  0.002954 -0.000870  \n",
       "\n",
       "[123330 rows x 9 columns]"
      ],
      "text/html": "<div>\n<style scoped>\n    .dataframe tbody tr th:only-of-type {\n        vertical-align: middle;\n    }\n\n    .dataframe tbody tr th {\n        vertical-align: top;\n    }\n\n    .dataframe thead th {\n        text-align: right;\n    }\n</style>\n<table border=\"1\" class=\"dataframe\">\n  <thead>\n    <tr style=\"text-align: right;\">\n      <th></th>\n      <th>TimeID</th>\n      <th>BodyID</th>\n      <th>MJD</th>\n      <th>qx</th>\n      <th>qy</th>\n      <th>qz</th>\n      <th>vx</th>\n      <th>vy</th>\n      <th>vz</th>\n    </tr>\n  </thead>\n  <tbody>\n    <tr>\n      <th>0</th>\n      <td>111733560</td>\n      <td>1000362</td>\n      <td>77592.750000</td>\n      <td>-2.629571</td>\n      <td>-0.081448</td>\n      <td>0.155729</td>\n      <td>-0.000158</td>\n      <td>-0.010404</td>\n      <td>-0.001304</td>\n    </tr>\n    <tr>\n      <th>1</th>\n      <td>111733560</td>\n      <td>1000363</td>\n      <td>77592.750000</td>\n      <td>-2.783687</td>\n      <td>-0.896859</td>\n      <td>0.219644</td>\n      <td>0.003137</td>\n      <td>-0.009164</td>\n      <td>-0.000708</td>\n    </tr>\n    <tr>\n      <th>2</th>\n      <td>111733560</td>\n      <td>1000365</td>\n      <td>77592.750000</td>\n      <td>-2.967900</td>\n      <td>0.542988</td>\n      <td>-0.175328</td>\n      <td>-0.003030</td>\n      <td>-0.008797</td>\n      <td>0.001938</td>\n    </tr>\n    <tr>\n      <th>3</th>\n      <td>111733560</td>\n      <td>1000366</td>\n      <td>77592.750000</td>\n      <td>-3.270584</td>\n      <td>0.284602</td>\n      <td>-0.102016</td>\n      <td>-0.000266</td>\n      <td>-0.009124</td>\n      <td>-0.001659</td>\n    </tr>\n    <tr>\n      <th>4</th>\n      <td>111733560</td>\n      <td>1000369</td>\n      <td>77592.750000</td>\n      <td>2.311616</td>\n      <td>0.300756</td>\n      <td>-0.524972</td>\n      <td>-0.001422</td>\n      <td>0.011563</td>\n      <td>0.000160</td>\n    </tr>\n    <tr>\n      <th>...</th>\n      <td>...</td>\n      <td>...</td>\n      <td>...</td>\n      <td>...</td>\n      <td>...</td>\n      <td>...</td>\n      <td>...</td>\n      <td>...</td>\n      <td>...</td>\n    </tr>\n    <tr>\n      <th>123325</th>\n      <td>111744030</td>\n      <td>1001036</td>\n      <td>77600.020833</td>\n      <td>-3.136739</td>\n      <td>-1.338182</td>\n      <td>-0.343996</td>\n      <td>0.005512</td>\n      <td>-0.004426</td>\n      <td>0.003443</td>\n    </tr>\n    <tr>\n      <th>123326</th>\n      <td>111744030</td>\n      <td>1001093</td>\n      <td>77600.020833</td>\n      <td>2.445547</td>\n      <td>0.864619</td>\n      <td>-0.693449</td>\n      <td>-0.000299</td>\n      <td>0.010807</td>\n      <td>0.003068</td>\n    </tr>\n    <tr>\n      <th>123327</th>\n      <td>111744030</td>\n      <td>1001107</td>\n      <td>77600.020833</td>\n      <td>-2.848030</td>\n      <td>0.805584</td>\n      <td>0.297822</td>\n      <td>-0.003402</td>\n      <td>-0.009710</td>\n      <td>0.000790</td>\n    </tr>\n    <tr>\n      <th>123328</th>\n      <td>111744030</td>\n      <td>1001171</td>\n      <td>77600.020833</td>\n      <td>2.486780</td>\n      <td>0.629405</td>\n      <td>-0.132839</td>\n      <td>-0.004174</td>\n      <td>0.010901</td>\n      <td>-0.000108</td>\n    </tr>\n    <tr>\n      <th>123329</th>\n      <td>111744030</td>\n      <td>1001467</td>\n      <td>77600.020833</td>\n      <td>0.671463</td>\n      <td>3.327788</td>\n      <td>1.255360</td>\n      <td>-0.008156</td>\n      <td>0.002954</td>\n      <td>-0.000870</td>\n    </tr>\n  </tbody>\n</table>\n<p>123330 rows × 9 columns</p>\n</div>"
     },
     "metadata": {},
     "execution_count": 4
    }
   ],
   "source": [
    "fname = '/home/michael/Harvard/kepler-sieve/data/df2db/StateVectors_DE435/StateVectors_DE435-chunk-1202.csv'\n",
    "df = pd.read_csv(fname)\n",
    "df"
   ]
  },
  {
   "cell_type": "code",
   "execution_count": null,
   "metadata": {},
   "outputs": [],
   "source": [
    "def dfvec2elt(df_vec: pd.DataFrame, sim: rebound.Simulation):\n",
    "    \"\"\"\n",
    "    Generate DataFrame of orbital elements from an input DataFrame of state vectors.\n",
    "    INPUTS:\n",
    "        df_vec: DataFrame of state vectors\n",
    "        sim:    Rebound simulation of the all the objects under consideration\n",
    "    OUTPUTS:\n",
    "        df_elt: DataFrame of orbital elements.  Outputs include a, e, inc, Omega, omega, f, M\n",
    "    \"\"\"\n",
    "    pass"
   ]
  },
  {
   "cell_type": "code",
   "execution_count": 23,
   "metadata": {},
   "outputs": [
    {
     "output_type": "execute_result",
     "data": {
      "text/plain": [
       "37200.0"
      ]
     },
     "metadata": {},
     "execution_count": 23
    }
   ],
   "source": [
    "# Arrays for a, e, inc, Omega, omega, f, M\n",
    "shape_elt: Tuple[int] = (M, N)\n",
    "orb_a: np.array = np.full(shape_elt, fill_value=np.nan, dtype=np.float64)\n",
    "orb_e: np.array = np.full(shape_elt, fill_value=np.nan, dtype=np.float64)\n",
    "orb_inc: np.array = np.full(shape_elt, fill_value=np.nan, dtype=np.float64)\n",
    "orb_Omega: np.array = np.full(shape_elt, fill_value=np.nan, dtype=np.float64)\n",
    "orb_omega: np.array = np.full(shape_elt, fill_value=np.nan, dtype=np.float64)\n",
    "orb_f: np.array = np.full(shape_elt, fill_value=np.nan, dtype=np.float64)\n",
    "orb_M: np.array = np.full(shape_elt, fill_value=np.nan, dtype=np.float64)\n",
    "\n",
    "# Wrap these into a named tuple\n",
    "elts: OrbitalElement = \\\n",
    "    OrbitalElement(a=orb_a, e=orb_e, inc=orb_inc,\n",
    "                    Omega=orb_Omega, omega=orb_omega, f=orb_f, M=orb_M)"
   ]
  },
  {
   "cell_type": "code",
   "execution_count": 28,
   "metadata": {},
   "outputs": [
    {
     "output_type": "stream",
     "name": "stdout",
     "text": [
      "0:30:00.500000\n"
     ]
    }
   ],
   "source": [
    "from datetime import timedelta\n",
    "time_str = timedelta(seconds=1800.5)\n",
    "print(time_str)"
   ]
  },
  {
   "cell_type": "code",
   "execution_count": 4,
   "metadata": {},
   "outputs": [
    {
     "output_type": "stream",
     "name": "stdout",
     "text": [
      "Added bodies to simulation.\n"
     ]
    }
   ],
   "source": [
    "# Make sim with planets\n",
    "epoch = 59000\n",
    "sim_epoch = make_sim_planets(epoch=epoch)"
   ]
  },
  {
   "cell_type": "code",
   "execution_count": 5,
   "metadata": {},
   "outputs": [],
   "source": [
    "# Date range to process\n",
    "mjd0: int = epoch-100\n",
    "mjd1: int = epoch+100"
   ]
  },
  {
   "cell_type": "code",
   "execution_count": 6,
   "metadata": {},
   "outputs": [],
   "source": [
    "# Shared time_step and save_step\n",
    "time_step: int = 1\n",
    "\n",
    "# Flags for building simulation archive\n",
    "save_elements: bool = True\n",
    "progbar: bool = True"
   ]
  },
  {
   "cell_type": "code",
   "execution_count": 7,
   "metadata": {},
   "outputs": [],
   "source": [
    "# Save simulation as Numpy arrays\n",
    "# body_ids, body_names, epochs, q, v, elts = integrate_numpy(sim_epoch=sim_epoch, mjd0=mjd0, mjd1=mjd1, time_step=time_step, save_elements=save_elements, progbar=True)"
   ]
  },
  {
   "cell_type": "code",
   "execution_count": 8,
   "metadata": {},
   "outputs": [
    {
     "output_type": "display_data",
     "data": {
      "text/plain": "  0%|          | 0/101 [00:00<?, ?it/s]",
      "application/vnd.jupyter.widget-view+json": {
       "version_major": 2,
       "version_minor": 0,
       "model_id": "9a73637a3d304d56b344c51018a227d5"
      }
     },
     "metadata": {}
    },
    {
     "output_type": "display_data",
     "data": {
      "text/plain": "  0%|          | 0/100 [00:00<?, ?it/s]",
      "application/vnd.jupyter.widget-view+json": {
       "version_major": 2,
       "version_minor": 0,
       "model_id": "e23edf4497444995ad1249eb6044dd80"
      }
     },
     "metadata": {}
    }
   ],
   "source": [
    "df = integrate_df(sim_epoch=sim_epoch, mjd0=mjd0, mjd1=mjd1, time_step=time_step, save_elements=save_elements, progbar=True)"
   ]
  },
  {
   "cell_type": "code",
   "execution_count": 9,
   "metadata": {},
   "outputs": [
    {
     "output_type": "execute_result",
     "data": {
      "text/plain": [
       "     TimeID  BodyID      MJD         qx         qy        qz        vx  \\\n",
       "0  84816000      10  58900.0  -0.004221   0.007326  0.000035 -0.000008   \n",
       "1  84816000       1  58900.0  -0.217196   0.256225  0.039910 -0.027079   \n",
       "2  84816000       2  58900.0   0.047415   0.725334  0.006907 -0.020251   \n",
       "3  84816000     399  58900.0  -0.873491   0.478566  0.000017 -0.008494   \n",
       "4  84816000     301  58900.0  -0.872089   0.476317 -0.000083 -0.007999   \n",
       "5  84816000       4  58900.0  -0.784999  -1.305526 -0.008318  0.012547   \n",
       "6  84816000       5  58900.0   0.898803  -5.122727  0.001138  0.007340   \n",
       "7  84816000       6  58900.0   4.039565  -9.170298 -0.001362  0.004796   \n",
       "8  84816000       7  58900.0  16.104182  11.540741 -0.165769 -0.002320   \n",
       "9  84816000       8  58900.0  29.271555  -6.202268 -0.546868  0.000630   \n",
       "\n",
       "         vy            vz          a         e       inc     Omega     omega  \\\n",
       "0 -0.000002  2.283442e-07        NaN       NaN       NaN       NaN       NaN   \n",
       "1 -0.017177  1.080142e-03   0.387097  0.205652  0.122239  0.843105  0.509335   \n",
       "2  0.001344  1.186871e-03   0.723328  0.006747  0.059246  1.337354  0.957278   \n",
       "3 -0.015196  1.518513e-06   1.000768  0.017385  0.000077  2.886969 -1.065969   \n",
       "4 -0.014910 -4.543185e-05   0.002577  0.046343  0.089001  1.691851  1.293892   \n",
       "5 -0.005955 -4.325253e-04   1.523691  0.093487  0.032254  0.863961 -1.280166   \n",
       "6  0.001664 -1.711022e-04   5.203469  0.048696  0.022752  1.754349 -1.509899   \n",
       "7  0.002233 -2.297898e-04   9.580375  0.051093  0.043393  1.982610 -0.388304   \n",
       "8  0.003014  4.124782e-05  19.178276  0.046451  0.013448  1.293048  1.723148   \n",
       "9  0.003090 -7.813982e-05  30.199682  0.010196  0.030895  2.299890 -1.986125   \n",
       "\n",
       "          f         M  \n",
       "0       NaN       NaN  \n",
       "1  0.927129  0.627633  \n",
       "2 -0.795348 -0.785747  \n",
       "3  0.823827  0.798538  \n",
       "4 -3.997685  2.213882  \n",
       "5 -1.691031 -1.504104  \n",
       "6  4.642178 -1.543644  \n",
       "7 -2.750078 -2.709661  \n",
       "8 -2.394865 -2.330122  \n",
       "9 -0.522547 -0.512437  "
      ],
      "text/html": "<div>\n<style scoped>\n    .dataframe tbody tr th:only-of-type {\n        vertical-align: middle;\n    }\n\n    .dataframe tbody tr th {\n        vertical-align: top;\n    }\n\n    .dataframe thead th {\n        text-align: right;\n    }\n</style>\n<table border=\"1\" class=\"dataframe\">\n  <thead>\n    <tr style=\"text-align: right;\">\n      <th></th>\n      <th>TimeID</th>\n      <th>BodyID</th>\n      <th>MJD</th>\n      <th>qx</th>\n      <th>qy</th>\n      <th>qz</th>\n      <th>vx</th>\n      <th>vy</th>\n      <th>vz</th>\n      <th>a</th>\n      <th>e</th>\n      <th>inc</th>\n      <th>Omega</th>\n      <th>omega</th>\n      <th>f</th>\n      <th>M</th>\n    </tr>\n  </thead>\n  <tbody>\n    <tr>\n      <th>0</th>\n      <td>84816000</td>\n      <td>10</td>\n      <td>58900.0</td>\n      <td>-0.004221</td>\n      <td>0.007326</td>\n      <td>0.000035</td>\n      <td>-0.000008</td>\n      <td>-0.000002</td>\n      <td>2.283442e-07</td>\n      <td>NaN</td>\n      <td>NaN</td>\n      <td>NaN</td>\n      <td>NaN</td>\n      <td>NaN</td>\n      <td>NaN</td>\n      <td>NaN</td>\n    </tr>\n    <tr>\n      <th>1</th>\n      <td>84816000</td>\n      <td>1</td>\n      <td>58900.0</td>\n      <td>-0.217196</td>\n      <td>0.256225</td>\n      <td>0.039910</td>\n      <td>-0.027079</td>\n      <td>-0.017177</td>\n      <td>1.080142e-03</td>\n      <td>0.387097</td>\n      <td>0.205652</td>\n      <td>0.122239</td>\n      <td>0.843105</td>\n      <td>0.509335</td>\n      <td>0.927129</td>\n      <td>0.627633</td>\n    </tr>\n    <tr>\n      <th>2</th>\n      <td>84816000</td>\n      <td>2</td>\n      <td>58900.0</td>\n      <td>0.047415</td>\n      <td>0.725334</td>\n      <td>0.006907</td>\n      <td>-0.020251</td>\n      <td>0.001344</td>\n      <td>1.186871e-03</td>\n      <td>0.723328</td>\n      <td>0.006747</td>\n      <td>0.059246</td>\n      <td>1.337354</td>\n      <td>0.957278</td>\n      <td>-0.795348</td>\n      <td>-0.785747</td>\n    </tr>\n    <tr>\n      <th>3</th>\n      <td>84816000</td>\n      <td>399</td>\n      <td>58900.0</td>\n      <td>-0.873491</td>\n      <td>0.478566</td>\n      <td>0.000017</td>\n      <td>-0.008494</td>\n      <td>-0.015196</td>\n      <td>1.518513e-06</td>\n      <td>1.000768</td>\n      <td>0.017385</td>\n      <td>0.000077</td>\n      <td>2.886969</td>\n      <td>-1.065969</td>\n      <td>0.823827</td>\n      <td>0.798538</td>\n    </tr>\n    <tr>\n      <th>4</th>\n      <td>84816000</td>\n      <td>301</td>\n      <td>58900.0</td>\n      <td>-0.872089</td>\n      <td>0.476317</td>\n      <td>-0.000083</td>\n      <td>-0.007999</td>\n      <td>-0.014910</td>\n      <td>-4.543185e-05</td>\n      <td>0.002577</td>\n      <td>0.046343</td>\n      <td>0.089001</td>\n      <td>1.691851</td>\n      <td>1.293892</td>\n      <td>-3.997685</td>\n      <td>2.213882</td>\n    </tr>\n    <tr>\n      <th>5</th>\n      <td>84816000</td>\n      <td>4</td>\n      <td>58900.0</td>\n      <td>-0.784999</td>\n      <td>-1.305526</td>\n      <td>-0.008318</td>\n      <td>0.012547</td>\n      <td>-0.005955</td>\n      <td>-4.325253e-04</td>\n      <td>1.523691</td>\n      <td>0.093487</td>\n      <td>0.032254</td>\n      <td>0.863961</td>\n      <td>-1.280166</td>\n      <td>-1.691031</td>\n      <td>-1.504104</td>\n    </tr>\n    <tr>\n      <th>6</th>\n      <td>84816000</td>\n      <td>5</td>\n      <td>58900.0</td>\n      <td>0.898803</td>\n      <td>-5.122727</td>\n      <td>0.001138</td>\n      <td>0.007340</td>\n      <td>0.001664</td>\n      <td>-1.711022e-04</td>\n      <td>5.203469</td>\n      <td>0.048696</td>\n      <td>0.022752</td>\n      <td>1.754349</td>\n      <td>-1.509899</td>\n      <td>4.642178</td>\n      <td>-1.543644</td>\n    </tr>\n    <tr>\n      <th>7</th>\n      <td>84816000</td>\n      <td>6</td>\n      <td>58900.0</td>\n      <td>4.039565</td>\n      <td>-9.170298</td>\n      <td>-0.001362</td>\n      <td>0.004796</td>\n      <td>0.002233</td>\n      <td>-2.297898e-04</td>\n      <td>9.580375</td>\n      <td>0.051093</td>\n      <td>0.043393</td>\n      <td>1.982610</td>\n      <td>-0.388304</td>\n      <td>-2.750078</td>\n      <td>-2.709661</td>\n    </tr>\n    <tr>\n      <th>8</th>\n      <td>84816000</td>\n      <td>7</td>\n      <td>58900.0</td>\n      <td>16.104182</td>\n      <td>11.540741</td>\n      <td>-0.165769</td>\n      <td>-0.002320</td>\n      <td>0.003014</td>\n      <td>4.124782e-05</td>\n      <td>19.178276</td>\n      <td>0.046451</td>\n      <td>0.013448</td>\n      <td>1.293048</td>\n      <td>1.723148</td>\n      <td>-2.394865</td>\n      <td>-2.330122</td>\n    </tr>\n    <tr>\n      <th>9</th>\n      <td>84816000</td>\n      <td>8</td>\n      <td>58900.0</td>\n      <td>29.271555</td>\n      <td>-6.202268</td>\n      <td>-0.546868</td>\n      <td>0.000630</td>\n      <td>0.003090</td>\n      <td>-7.813982e-05</td>\n      <td>30.199682</td>\n      <td>0.010196</td>\n      <td>0.030895</td>\n      <td>2.299890</td>\n      <td>-1.986125</td>\n      <td>-0.522547</td>\n      <td>-0.512437</td>\n    </tr>\n  </tbody>\n</table>\n</div>"
     },
     "metadata": {},
     "execution_count": 9
    }
   ],
   "source": [
    "df[0:10]"
   ]
  },
  {
   "cell_type": "code",
   "execution_count": 10,
   "metadata": {},
   "outputs": [],
   "source": [
    "mjd0 = 55350\n",
    "mjd1 = 62650\n",
    "dfd = get_integration_diff(BodyCollectionCD='P', mjd0=mjd0, mjd1=mjd1, by_date=False)"
   ]
  },
  {
   "cell_type": "code",
   "execution_count": 11,
   "metadata": {},
   "outputs": [],
   "source": [
    "# dfd[0:12]"
   ]
  },
  {
   "cell_type": "code",
   "execution_count": 12,
   "metadata": {},
   "outputs": [],
   "source": [
    "chunksize=1000\n",
    "ddf = dd.from_pandas(df, chunksize=chunksize, name='Integration')"
   ]
  },
  {
   "cell_type": "code",
   "execution_count": 13,
   "metadata": {},
   "outputs": [
    {
     "output_type": "execute_result",
     "data": {
      "text/plain": [
       "Dask DataFrame Structure:\n",
       "              TimeID BodyID      MJD       qx       qy       qz       vx       vy       vz        a        e      inc    Omega    omega        f        M\n",
       "npartitions=3                                                                                                                                            \n",
       "0              int32  int64  float64  float64  float64  float64  float64  float64  float64  float64  float64  float64  float64  float64  float64  float64\n",
       "1000             ...    ...      ...      ...      ...      ...      ...      ...      ...      ...      ...      ...      ...      ...      ...      ...\n",
       "2000             ...    ...      ...      ...      ...      ...      ...      ...      ...      ...      ...      ...      ...      ...      ...      ...\n",
       "2210             ...    ...      ...      ...      ...      ...      ...      ...      ...      ...      ...      ...      ...      ...      ...      ...\n",
       "Dask Name: Integration, 3 tasks"
      ],
      "text/html": "<div><strong>Dask DataFrame Structure:</strong></div>\n<div>\n<style scoped>\n    .dataframe tbody tr th:only-of-type {\n        vertical-align: middle;\n    }\n\n    .dataframe tbody tr th {\n        vertical-align: top;\n    }\n\n    .dataframe thead th {\n        text-align: right;\n    }\n</style>\n<table border=\"1\" class=\"dataframe\">\n  <thead>\n    <tr style=\"text-align: right;\">\n      <th></th>\n      <th>TimeID</th>\n      <th>BodyID</th>\n      <th>MJD</th>\n      <th>qx</th>\n      <th>qy</th>\n      <th>qz</th>\n      <th>vx</th>\n      <th>vy</th>\n      <th>vz</th>\n      <th>a</th>\n      <th>e</th>\n      <th>inc</th>\n      <th>Omega</th>\n      <th>omega</th>\n      <th>f</th>\n      <th>M</th>\n    </tr>\n    <tr>\n      <th>npartitions=3</th>\n      <th></th>\n      <th></th>\n      <th></th>\n      <th></th>\n      <th></th>\n      <th></th>\n      <th></th>\n      <th></th>\n      <th></th>\n      <th></th>\n      <th></th>\n      <th></th>\n      <th></th>\n      <th></th>\n      <th></th>\n      <th></th>\n    </tr>\n  </thead>\n  <tbody>\n    <tr>\n      <th>0</th>\n      <td>int32</td>\n      <td>int64</td>\n      <td>float64</td>\n      <td>float64</td>\n      <td>float64</td>\n      <td>float64</td>\n      <td>float64</td>\n      <td>float64</td>\n      <td>float64</td>\n      <td>float64</td>\n      <td>float64</td>\n      <td>float64</td>\n      <td>float64</td>\n      <td>float64</td>\n      <td>float64</td>\n      <td>float64</td>\n    </tr>\n    <tr>\n      <th>1000</th>\n      <td>...</td>\n      <td>...</td>\n      <td>...</td>\n      <td>...</td>\n      <td>...</td>\n      <td>...</td>\n      <td>...</td>\n      <td>...</td>\n      <td>...</td>\n      <td>...</td>\n      <td>...</td>\n      <td>...</td>\n      <td>...</td>\n      <td>...</td>\n      <td>...</td>\n      <td>...</td>\n    </tr>\n    <tr>\n      <th>2000</th>\n      <td>...</td>\n      <td>...</td>\n      <td>...</td>\n      <td>...</td>\n      <td>...</td>\n      <td>...</td>\n      <td>...</td>\n      <td>...</td>\n      <td>...</td>\n      <td>...</td>\n      <td>...</td>\n      <td>...</td>\n      <td>...</td>\n      <td>...</td>\n      <td>...</td>\n      <td>...</td>\n    </tr>\n    <tr>\n      <th>2210</th>\n      <td>...</td>\n      <td>...</td>\n      <td>...</td>\n      <td>...</td>\n      <td>...</td>\n      <td>...</td>\n      <td>...</td>\n      <td>...</td>\n      <td>...</td>\n      <td>...</td>\n      <td>...</td>\n      <td>...</td>\n      <td>...</td>\n      <td>...</td>\n      <td>...</td>\n      <td>...</td>\n    </tr>\n  </tbody>\n</table>\n</div>\n<div>Dask Name: Integration, 3 tasks</div>"
     },
     "metadata": {},
     "execution_count": 13
    }
   ],
   "source": [
    "ddf"
   ]
  },
  {
   "cell_type": "code",
   "execution_count": 14,
   "metadata": {},
   "outputs": [],
   "source": [
    "# Columns for state vectors and orbital element frames\n",
    "cols_vec = ['TimeID', 'BodyID', 'MJD', 'qx', 'qy', 'qz', 'vx', 'vy', 'vz']\n",
    "cols_elt = ['TimeID', 'BodyID', 'MJD', 'a', 'e', 'inc', 'Omega', 'omega', 'f', 'M']\n",
    "\n",
    "elt_col_map = {\n",
    "    'Omega':'Omega_node', \n",
    "    'omega': 'omega_peri',\n",
    "}\n",
    "\n",
    "# DataFrame with the state vectors\n",
    "df_vec = df[cols_vec]\n",
    "    \n",
    "mask = (df.BodyID != 10)\n",
    "df_elt = df[mask][cols_elt]\n",
    "df_elt.rename(columns=elt_col_map, inplace=True)"
   ]
  },
  {
   "cell_type": "code",
   "execution_count": 15,
   "metadata": {},
   "outputs": [],
   "source": [
    "# columns = get_columns(schema='KS', table='StateVectors')\n",
    "# fname_csv = '~/Harvard/kepler-sieve/data/df2db/Integration_Planets.csv'\n",
    "# chunksize = 1000\n",
    "# fnames_csv = df2csv(df=df, fname_csv=fname_csv, columns=columns, chunksize=chunksize)"
   ]
  },
  {
   "cell_type": "code",
   "execution_count": 16,
   "metadata": {},
   "outputs": [],
   "source": [
    "# pd.read_csv(fnames_csv[0])"
   ]
  },
  {
   "cell_type": "code",
   "execution_count": 17,
   "metadata": {},
   "outputs": [],
   "source": [
    "# i = 0\n",
    "# with db_engine.connect() as conn:    \n",
    "#     csv2db_stage(schema='KS', table='Integration_Planets', columns=columns, fname_csv=fnames_csv[i], i=0, conn=conn)"
   ]
  },
  {
   "cell_type": "code",
   "execution_count": 18,
   "metadata": {},
   "outputs": [],
   "source": [
    "# with db_engine.connect() as conn:    \n",
    "#     csv2db(schema='KS', table='Integration_Planets', columns=columns, i=0, conn=conn)"
   ]
  },
  {
   "cell_type": "code",
   "execution_count": 19,
   "metadata": {},
   "outputs": [],
   "source": [
    "# csvs2db(schema='KS', table='Integration_Planets', fnames_csv=fnames_csv, columns=columns, progbar=True)"
   ]
  },
  {
   "cell_type": "code",
   "execution_count": 20,
   "metadata": {},
   "outputs": [],
   "source": [
    "columns_elt = get_columns(schema='KS', table='OrbitalElements')\n",
    "fname_csv = '~/Harvard/kepler-sieve/data/df2db/OrbitalElements.csv'\n",
    "chunksize = 1000"
   ]
  },
  {
   "cell_type": "code",
   "execution_count": 21,
   "metadata": {},
   "outputs": [
    {
     "output_type": "execute_result",
     "data": {
      "text/plain": [
       "['/home/michael/Harvard/kepler-sieve/data/df2db/OrbitalElements-chunk-0.csv',\n",
       " '/home/michael/Harvard/kepler-sieve/data/df2db/OrbitalElements-chunk-1.csv',\n",
       " '/home/michael/Harvard/kepler-sieve/data/df2db/OrbitalElements-chunk-2.csv']"
      ]
     },
     "metadata": {},
     "execution_count": 21
    }
   ],
   "source": [
    "fnames_csv = df2csv(df=df_elt, fname_csv=fname_csv, columns=columns_elt, chunksize=chunksize)\n",
    "fnames_csv"
   ]
  },
  {
   "cell_type": "code",
   "execution_count": 22,
   "metadata": {},
   "outputs": [
    {
     "output_type": "display_data",
     "data": {
      "text/plain": "  0%|          | 0/3 [00:00<?, ?it/s]",
      "application/vnd.jupyter.widget-view+json": {
       "version_major": 2,
       "version_minor": 0,
       "model_id": "36b9f42ef4a5448b93148b78732363f9"
      }
     },
     "metadata": {}
    }
   ],
   "source": [
    "csvs2db(schema='KS', table='OrbitalElements', fnames_csv=fnames_csv, columns=columns_elt, progbar=True)"
   ]
  },
  {
   "cell_type": "code",
   "execution_count": null,
   "metadata": {},
   "outputs": [],
   "source": []
  }
 ],
 "metadata": {
  "kernelspec": {
   "name": "python3",
   "display_name": "Python 3",
   "language": "python"
  },
  "language_info": {
   "codemirror_mode": {
    "name": "ipython",
    "version": 3
   },
   "file_extension": ".py",
   "mimetype": "text/x-python",
   "name": "python",
   "nbconvert_exporter": "python",
   "pygments_lexer": "ipython3",
   "version": "3.8.5-final"
  }
 },
 "nbformat": 4,
 "nbformat_minor": 4
}