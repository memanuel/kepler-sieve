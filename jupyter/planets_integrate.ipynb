{
 "cells": [
  {
   "cell_type": "code",
   "execution_count": 1,
   "metadata": {},
   "outputs": [],
   "source": [
    "# Core\n",
    "import numpy as np\n",
    "import pandas as pd\n",
    "\n",
    "# Astronomy\n",
    "import rebound"
   ]
  },
  {
   "cell_type": "code",
   "execution_count": 2,
   "metadata": {},
   "outputs": [],
   "source": [
    "# Local imports\n",
    "import kepler_sieve\n",
    "from horizons import make_sim_horizons\n",
    "from rebound_utils import make_sim_planets, integrate_numpy, integrate_df"
   ]
  },
  {
   "cell_type": "code",
   "execution_count": 3,
   "metadata": {},
   "outputs": [],
   "source": [
    "# Typing\n",
    "from typing import Tuple"
   ]
  },
  {
   "cell_type": "code",
   "execution_count": 4,
   "metadata": {},
   "outputs": [
    {
     "output_type": "stream",
     "name": "stdout",
     "text": [
      "Saved simulation snapshot to ../data/rebound/sim/Planets_59000.bin and body names and IDs to ../data/rebound/sim/Planets_bodies.npz.\n"
     ]
    }
   ],
   "source": [
    "# Make sim with planets\n",
    "epoch = 59000\n",
    "sim_epoch = make_sim_planets(epoch=epoch)"
   ]
  },
  {
   "cell_type": "code",
   "execution_count": 5,
   "metadata": {},
   "outputs": [],
   "source": [
    "# Date range to process\n",
    "mjd0: int = epoch-100\n",
    "mjd1: int = epoch+100"
   ]
  },
  {
   "cell_type": "code",
   "execution_count": 6,
   "metadata": {},
   "outputs": [],
   "source": [
    "# Shared time_step and save_step\n",
    "time_step: int = 1\n",
    "\n",
    "# Flags for building simulation archive\n",
    "save_elements: bool = False\n",
    "progbar: bool = True"
   ]
  },
  {
   "cell_type": "code",
   "execution_count": 7,
   "metadata": {},
   "outputs": [
    {
     "output_type": "display_data",
     "data": {
      "text/plain": "  0%|          | 0/101 [00:00<?, ?it/s]",
      "application/vnd.jupyter.widget-view+json": {
       "version_major": 2,
       "version_minor": 0,
       "model_id": "c5bc0ec8199a4caf86b103f137053878"
      }
     },
     "metadata": {}
    },
    {
     "output_type": "display_data",
     "data": {
      "text/plain": "  0%|          | 0/100 [00:00<?, ?it/s]",
      "application/vnd.jupyter.widget-view+json": {
       "version_major": 2,
       "version_minor": 0,
       "model_id": "fce176cf45ea4845a4475eb81fde56e9"
      }
     },
     "metadata": {}
    }
   ],
   "source": [
    "# Save simulation as Numpy arrays\n",
    "body_id, body_name, epoch, q, v = integrate_numpy(sim_epoch=sim_epoch, mjd0=mjd0, mjd1=mjd1, time_step=time_step, save_elements=save_elements, progbar=True)"
   ]
  },
  {
   "cell_type": "code",
   "execution_count": 18,
   "metadata": {},
   "outputs": [
    {
     "output_type": "display_data",
     "data": {
      "text/plain": "  0%|          | 0/101 [00:00<?, ?it/s]",
      "application/vnd.jupyter.widget-view+json": {
       "version_major": 2,
       "version_minor": 0,
       "model_id": "aa3822b12ebc4cae817ee3200a57528a"
      }
     },
     "metadata": {}
    },
    {
     "output_type": "display_data",
     "data": {
      "text/plain": "  0%|          | 0/100 [00:00<?, ?it/s]",
      "application/vnd.jupyter.widget-view+json": {
       "version_major": 2,
       "version_minor": 0,
       "model_id": "b6ff23443fac4852a29c1c40e8f0fc06"
      }
     },
     "metadata": {}
    }
   ],
   "source": [
    "df = integrate_df(sim_epoch=sim_epoch, mjd0=mjd0, mjd1=mjd1, time_step=time_step, save_elements=save_elements, progbar=True)"
   ]
  },
  {
   "cell_type": "code",
   "execution_count": 19,
   "metadata": {},
   "outputs": [
    {
     "output_type": "execute_result",
     "data": {
      "text/plain": [
       "        TimeID  BodyID            BodyName      MJD         qx         qy  \\\n",
       "0     84816000      10                 Sun  58900.0  -0.004221   0.007326   \n",
       "1     84816000       1  Mercury Barycenter  58900.0  -0.217196   0.256225   \n",
       "2     84816000       2    Venus Barycenter  58900.0   0.047415   0.725334   \n",
       "3     84816000     399               Earth  58900.0  -0.873491   0.478566   \n",
       "4     84816000     301                Moon  58900.0  -0.872089   0.476317   \n",
       "...        ...     ...                 ...      ...        ...        ...   \n",
       "2206  85104000       5  Jupiter Barycenter  59100.0   2.307919  -4.578456   \n",
       "2207  85104000       6   Saturn Barycenter  59100.0   4.973013  -8.670475   \n",
       "2208  85104000       7   Uranus Barycenter  59100.0  15.628033  12.134521   \n",
       "2209  85104000       8  Neptune Barycenter  59100.0  29.391047  -5.583021   \n",
       "2210  85104000       9    Pluto Barycenter  59100.0  13.715764 -31.221815   \n",
       "\n",
       "            qz        vx        vy            vz  \n",
       "0     0.000035 -0.000008 -0.000002  2.283442e-07  \n",
       "1     0.039910 -0.027079 -0.017177  1.080142e-03  \n",
       "2     0.006907 -0.020251  0.001344  1.186871e-03  \n",
       "3     0.000017 -0.008494 -0.015196  1.518513e-06  \n",
       "4    -0.000083 -0.007999 -0.014910 -4.543185e-05  \n",
       "...        ...       ...       ...           ...  \n",
       "2206 -0.032642  0.006645  0.003755 -1.642408e-04  \n",
       "2207 -0.047221  0.004529  0.002761 -2.283492e-04  \n",
       "2208 -0.157395 -0.002441  0.002923  4.248123e-05  \n",
       "2209 -0.562374  0.000565  0.003103 -7.691335e-05  \n",
       "2210 -0.626491  0.002947  0.000591 -9.156320e-04  \n",
       "\n",
       "[2211 rows x 10 columns]"
      ],
      "text/html": "<div>\n<style scoped>\n    .dataframe tbody tr th:only-of-type {\n        vertical-align: middle;\n    }\n\n    .dataframe tbody tr th {\n        vertical-align: top;\n    }\n\n    .dataframe thead th {\n        text-align: right;\n    }\n</style>\n<table border=\"1\" class=\"dataframe\">\n  <thead>\n    <tr style=\"text-align: right;\">\n      <th></th>\n      <th>TimeID</th>\n      <th>BodyID</th>\n      <th>BodyName</th>\n      <th>MJD</th>\n      <th>qx</th>\n      <th>qy</th>\n      <th>qz</th>\n      <th>vx</th>\n      <th>vy</th>\n      <th>vz</th>\n    </tr>\n  </thead>\n  <tbody>\n    <tr>\n      <th>0</th>\n      <td>84816000</td>\n      <td>10</td>\n      <td>Sun</td>\n      <td>58900.0</td>\n      <td>-0.004221</td>\n      <td>0.007326</td>\n      <td>0.000035</td>\n      <td>-0.000008</td>\n      <td>-0.000002</td>\n      <td>2.283442e-07</td>\n    </tr>\n    <tr>\n      <th>1</th>\n      <td>84816000</td>\n      <td>1</td>\n      <td>Mercury Barycenter</td>\n      <td>58900.0</td>\n      <td>-0.217196</td>\n      <td>0.256225</td>\n      <td>0.039910</td>\n      <td>-0.027079</td>\n      <td>-0.017177</td>\n      <td>1.080142e-03</td>\n    </tr>\n    <tr>\n      <th>2</th>\n      <td>84816000</td>\n      <td>2</td>\n      <td>Venus Barycenter</td>\n      <td>58900.0</td>\n      <td>0.047415</td>\n      <td>0.725334</td>\n      <td>0.006907</td>\n      <td>-0.020251</td>\n      <td>0.001344</td>\n      <td>1.186871e-03</td>\n    </tr>\n    <tr>\n      <th>3</th>\n      <td>84816000</td>\n      <td>399</td>\n      <td>Earth</td>\n      <td>58900.0</td>\n      <td>-0.873491</td>\n      <td>0.478566</td>\n      <td>0.000017</td>\n      <td>-0.008494</td>\n      <td>-0.015196</td>\n      <td>1.518513e-06</td>\n    </tr>\n    <tr>\n      <th>4</th>\n      <td>84816000</td>\n      <td>301</td>\n      <td>Moon</td>\n      <td>58900.0</td>\n      <td>-0.872089</td>\n      <td>0.476317</td>\n      <td>-0.000083</td>\n      <td>-0.007999</td>\n      <td>-0.014910</td>\n      <td>-4.543185e-05</td>\n    </tr>\n    <tr>\n      <th>...</th>\n      <td>...</td>\n      <td>...</td>\n      <td>...</td>\n      <td>...</td>\n      <td>...</td>\n      <td>...</td>\n      <td>...</td>\n      <td>...</td>\n      <td>...</td>\n      <td>...</td>\n    </tr>\n    <tr>\n      <th>2206</th>\n      <td>85104000</td>\n      <td>5</td>\n      <td>Jupiter Barycenter</td>\n      <td>59100.0</td>\n      <td>2.307919</td>\n      <td>-4.578456</td>\n      <td>-0.032642</td>\n      <td>0.006645</td>\n      <td>0.003755</td>\n      <td>-1.642408e-04</td>\n    </tr>\n    <tr>\n      <th>2207</th>\n      <td>85104000</td>\n      <td>6</td>\n      <td>Saturn Barycenter</td>\n      <td>59100.0</td>\n      <td>4.973013</td>\n      <td>-8.670475</td>\n      <td>-0.047221</td>\n      <td>0.004529</td>\n      <td>0.002761</td>\n      <td>-2.283492e-04</td>\n    </tr>\n    <tr>\n      <th>2208</th>\n      <td>85104000</td>\n      <td>7</td>\n      <td>Uranus Barycenter</td>\n      <td>59100.0</td>\n      <td>15.628033</td>\n      <td>12.134521</td>\n      <td>-0.157395</td>\n      <td>-0.002441</td>\n      <td>0.002923</td>\n      <td>4.248123e-05</td>\n    </tr>\n    <tr>\n      <th>2209</th>\n      <td>85104000</td>\n      <td>8</td>\n      <td>Neptune Barycenter</td>\n      <td>59100.0</td>\n      <td>29.391047</td>\n      <td>-5.583021</td>\n      <td>-0.562374</td>\n      <td>0.000565</td>\n      <td>0.003103</td>\n      <td>-7.691335e-05</td>\n    </tr>\n    <tr>\n      <th>2210</th>\n      <td>85104000</td>\n      <td>9</td>\n      <td>Pluto Barycenter</td>\n      <td>59100.0</td>\n      <td>13.715764</td>\n      <td>-31.221815</td>\n      <td>-0.626491</td>\n      <td>0.002947</td>\n      <td>0.000591</td>\n      <td>-9.156320e-04</td>\n    </tr>\n  </tbody>\n</table>\n<p>2211 rows × 10 columns</p>\n</div>"
     },
     "metadata": {},
     "execution_count": 19
    }
   ],
   "source": [
    "df"
   ]
  },
  {
   "cell_type": "code",
   "execution_count": null,
   "metadata": {},
   "outputs": [],
   "source": []
  }
 ],
 "metadata": {
  "kernelspec": {
   "name": "python3",
   "display_name": "Python 3.8.5 64-bit",
   "metadata": {
    "interpreter": {
     "hash": "2fedf230483cf0b89defa3251873a69144496d82ff9837a518775b45b58b2cde"
    }
   }
  },
  "language_info": {
   "codemirror_mode": {
    "name": "ipython",
    "version": 3
   },
   "file_extension": ".py",
   "mimetype": "text/x-python",
   "name": "python",
   "nbconvert_exporter": "python",
   "pygments_lexer": "ipython3",
   "version": "3.8.5-final"
  }
 },
 "nbformat": 4,
 "nbformat_minor": 4
}