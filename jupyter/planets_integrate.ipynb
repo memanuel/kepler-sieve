{
 "cells": [
  {
   "cell_type": "code",
   "execution_count": 1,
   "metadata": {},
   "outputs": [],
   "source": [
    "# Core\n",
    "import numpy as np\n",
    "import pandas as pd\n",
    "\n",
    "# Astronomy\n",
    "import rebound"
   ]
  },
  {
   "cell_type": "code",
   "execution_count": 2,
   "metadata": {},
   "outputs": [],
   "source": [
    "# Local imports\n",
    "import kepler_sieve\n",
    "from horizons import make_sim_horizons\n",
    "from rebound_utils import make_sim_planets, integrate_numpy, integrate_df\n",
    "from planets_test import get_integration_diff\n",
    "from db_utils import sp2df"
   ]
  },
  {
   "cell_type": "code",
   "execution_count": 3,
   "metadata": {},
   "outputs": [],
   "source": [
    "# Typing\n",
    "from typing import Tuple"
   ]
  },
  {
   "cell_type": "code",
   "execution_count": 4,
   "metadata": {},
   "outputs": [],
   "source": [
    "# Make sim with planets\n",
    "epoch = 59000\n",
    "sim_epoch = make_sim_planets(epoch=epoch)"
   ]
  },
  {
   "cell_type": "code",
   "execution_count": 5,
   "metadata": {},
   "outputs": [],
   "source": [
    "# Date range to process\n",
    "mjd0: int = epoch-100\n",
    "mjd1: int = epoch+100"
   ]
  },
  {
   "cell_type": "code",
   "execution_count": 6,
   "metadata": {},
   "outputs": [],
   "source": [
    "# Shared time_step and save_step\n",
    "time_step: int = 1\n",
    "\n",
    "# Flags for building simulation archive\n",
    "save_elements: bool = True\n",
    "progbar: bool = True"
   ]
  },
  {
   "cell_type": "code",
   "execution_count": 7,
   "metadata": {},
   "outputs": [
    {
     "output_type": "display_data",
     "data": {
      "text/plain": "  0%|          | 0/101 [00:00<?, ?it/s]",
      "application/vnd.jupyter.widget-view+json": {
       "version_major": 2,
       "version_minor": 0,
       "model_id": "0a87954b4d0a4dcb9ee050f4a34861ba"
      }
     },
     "metadata": {}
    },
    {
     "output_type": "display_data",
     "data": {
      "text/plain": "  0%|          | 0/100 [00:00<?, ?it/s]",
      "application/vnd.jupyter.widget-view+json": {
       "version_major": 2,
       "version_minor": 0,
       "model_id": "226cd428d80e4e52ad6a6953c2e3e6bf"
      }
     },
     "metadata": {}
    }
   ],
   "source": [
    "# Save simulation as Numpy arrays\n",
    "body_id, body_name, epoch, q, v, elts = integrate_numpy(sim_epoch=sim_epoch, mjd0=mjd0, mjd1=mjd1, time_step=time_step, save_elements=save_elements, progbar=True)"
   ]
  },
  {
   "cell_type": "code",
   "execution_count": 8,
   "metadata": {},
   "outputs": [
    {
     "output_type": "display_data",
     "data": {
      "text/plain": "  0%|          | 0/101 [00:00<?, ?it/s]",
      "application/vnd.jupyter.widget-view+json": {
       "version_major": 2,
       "version_minor": 0,
       "model_id": "94c2b2cfde074c8ea56f9aa98623ce4e"
      }
     },
     "metadata": {}
    },
    {
     "output_type": "display_data",
     "data": {
      "text/plain": "  0%|          | 0/100 [00:00<?, ?it/s]",
      "application/vnd.jupyter.widget-view+json": {
       "version_major": 2,
       "version_minor": 0,
       "model_id": "a987562c9337489eb9a663757d63eaef"
      }
     },
     "metadata": {}
    }
   ],
   "source": [
    "df = integrate_df(sim_epoch=sim_epoch, mjd0=mjd0, mjd1=mjd1, time_step=time_step, save_elements=save_elements, progbar=True)"
   ]
  },
  {
   "cell_type": "code",
   "execution_count": 9,
   "metadata": {},
   "outputs": [
    {
     "output_type": "execute_result",
     "data": {
      "text/plain": [
       "     TimeID  BodyID            BodyName      MJD         qx         qy  \\\n",
       "0  84816000      10                 Sun  58900.0  -0.004221   0.007326   \n",
       "1  84816000       1  Mercury Barycenter  58900.0  -0.217196   0.256225   \n",
       "2  84816000       2    Venus Barycenter  58900.0   0.047415   0.725334   \n",
       "3  84816000     399               Earth  58900.0  -0.873491   0.478566   \n",
       "4  84816000     301                Moon  58900.0  -0.872089   0.476317   \n",
       "5  84816000       4     Mars Barycenter  58900.0  -0.784999  -1.305526   \n",
       "6  84816000       5  Jupiter Barycenter  58900.0   0.898803  -5.122727   \n",
       "7  84816000       6   Saturn Barycenter  58900.0   4.039565  -9.170298   \n",
       "8  84816000       7   Uranus Barycenter  58900.0  16.104182  11.540741   \n",
       "9  84816000       8  Neptune Barycenter  58900.0  29.271555  -6.202268   \n",
       "\n",
       "         qz        vx        vy            vz          a         e       inc  \\\n",
       "0  0.000035 -0.000008 -0.000002  2.283442e-07        NaN       NaN       NaN   \n",
       "1  0.039910 -0.027079 -0.017177  1.080142e-03   0.387097  0.205652  0.122239   \n",
       "2  0.006907 -0.020251  0.001344  1.186871e-03   0.723328  0.006747  0.059246   \n",
       "3  0.000017 -0.008494 -0.015196  1.518513e-06   1.000768  0.017385  0.000077   \n",
       "4 -0.000083 -0.007999 -0.014910 -4.543185e-05   0.942827  0.046425  0.002703   \n",
       "5 -0.008318  0.012547 -0.005955 -4.325253e-04   1.523691  0.093487  0.032254   \n",
       "6  0.001138  0.007340  0.001664 -1.711022e-04   5.203469  0.048696  0.022752   \n",
       "7 -0.001362  0.004796  0.002233 -2.297898e-04   9.580375  0.051093  0.043393   \n",
       "8 -0.165769 -0.002320  0.003014  4.124782e-05  19.178276  0.046451  0.013448   \n",
       "9 -0.546868  0.000630  0.003090 -7.813982e-05  30.199682  0.010196  0.030895   \n",
       "\n",
       "      Omega     omega         f         M  \n",
       "0       NaN       NaN       NaN       NaN  \n",
       "1  0.843105  0.509335  0.927129  0.627633  \n",
       "2  1.337354  0.957278 -0.795348 -0.785747  \n",
       "3  2.886969 -1.065969  0.823827  0.798538  \n",
       "4 -0.539749 -0.025032 -3.072250 -3.065586  \n",
       "5  0.863961 -1.280166 -1.691031 -1.504104  \n",
       "6  1.754349 -1.509899  4.642178 -1.543644  \n",
       "7  1.982610 -0.388304 -2.750078 -2.709661  \n",
       "8  1.293048  1.723148 -2.394865 -2.330122  \n",
       "9  2.299890 -1.986125 -0.522547 -0.512437  "
      ],
      "text/html": "<div>\n<style scoped>\n    .dataframe tbody tr th:only-of-type {\n        vertical-align: middle;\n    }\n\n    .dataframe tbody tr th {\n        vertical-align: top;\n    }\n\n    .dataframe thead th {\n        text-align: right;\n    }\n</style>\n<table border=\"1\" class=\"dataframe\">\n  <thead>\n    <tr style=\"text-align: right;\">\n      <th></th>\n      <th>TimeID</th>\n      <th>BodyID</th>\n      <th>BodyName</th>\n      <th>MJD</th>\n      <th>qx</th>\n      <th>qy</th>\n      <th>qz</th>\n      <th>vx</th>\n      <th>vy</th>\n      <th>vz</th>\n      <th>a</th>\n      <th>e</th>\n      <th>inc</th>\n      <th>Omega</th>\n      <th>omega</th>\n      <th>f</th>\n      <th>M</th>\n    </tr>\n  </thead>\n  <tbody>\n    <tr>\n      <th>0</th>\n      <td>84816000</td>\n      <td>10</td>\n      <td>Sun</td>\n      <td>58900.0</td>\n      <td>-0.004221</td>\n      <td>0.007326</td>\n      <td>0.000035</td>\n      <td>-0.000008</td>\n      <td>-0.000002</td>\n      <td>2.283442e-07</td>\n      <td>NaN</td>\n      <td>NaN</td>\n      <td>NaN</td>\n      <td>NaN</td>\n      <td>NaN</td>\n      <td>NaN</td>\n      <td>NaN</td>\n    </tr>\n    <tr>\n      <th>1</th>\n      <td>84816000</td>\n      <td>1</td>\n      <td>Mercury Barycenter</td>\n      <td>58900.0</td>\n      <td>-0.217196</td>\n      <td>0.256225</td>\n      <td>0.039910</td>\n      <td>-0.027079</td>\n      <td>-0.017177</td>\n      <td>1.080142e-03</td>\n      <td>0.387097</td>\n      <td>0.205652</td>\n      <td>0.122239</td>\n      <td>0.843105</td>\n      <td>0.509335</td>\n      <td>0.927129</td>\n      <td>0.627633</td>\n    </tr>\n    <tr>\n      <th>2</th>\n      <td>84816000</td>\n      <td>2</td>\n      <td>Venus Barycenter</td>\n      <td>58900.0</td>\n      <td>0.047415</td>\n      <td>0.725334</td>\n      <td>0.006907</td>\n      <td>-0.020251</td>\n      <td>0.001344</td>\n      <td>1.186871e-03</td>\n      <td>0.723328</td>\n      <td>0.006747</td>\n      <td>0.059246</td>\n      <td>1.337354</td>\n      <td>0.957278</td>\n      <td>-0.795348</td>\n      <td>-0.785747</td>\n    </tr>\n    <tr>\n      <th>3</th>\n      <td>84816000</td>\n      <td>399</td>\n      <td>Earth</td>\n      <td>58900.0</td>\n      <td>-0.873491</td>\n      <td>0.478566</td>\n      <td>0.000017</td>\n      <td>-0.008494</td>\n      <td>-0.015196</td>\n      <td>1.518513e-06</td>\n      <td>1.000768</td>\n      <td>0.017385</td>\n      <td>0.000077</td>\n      <td>2.886969</td>\n      <td>-1.065969</td>\n      <td>0.823827</td>\n      <td>0.798538</td>\n    </tr>\n    <tr>\n      <th>4</th>\n      <td>84816000</td>\n      <td>301</td>\n      <td>Moon</td>\n      <td>58900.0</td>\n      <td>-0.872089</td>\n      <td>0.476317</td>\n      <td>-0.000083</td>\n      <td>-0.007999</td>\n      <td>-0.014910</td>\n      <td>-4.543185e-05</td>\n      <td>0.942827</td>\n      <td>0.046425</td>\n      <td>0.002703</td>\n      <td>-0.539749</td>\n      <td>-0.025032</td>\n      <td>-3.072250</td>\n      <td>-3.065586</td>\n    </tr>\n    <tr>\n      <th>5</th>\n      <td>84816000</td>\n      <td>4</td>\n      <td>Mars Barycenter</td>\n      <td>58900.0</td>\n      <td>-0.784999</td>\n      <td>-1.305526</td>\n      <td>-0.008318</td>\n      <td>0.012547</td>\n      <td>-0.005955</td>\n      <td>-4.325253e-04</td>\n      <td>1.523691</td>\n      <td>0.093487</td>\n      <td>0.032254</td>\n      <td>0.863961</td>\n      <td>-1.280166</td>\n      <td>-1.691031</td>\n      <td>-1.504104</td>\n    </tr>\n    <tr>\n      <th>6</th>\n      <td>84816000</td>\n      <td>5</td>\n      <td>Jupiter Barycenter</td>\n      <td>58900.0</td>\n      <td>0.898803</td>\n      <td>-5.122727</td>\n      <td>0.001138</td>\n      <td>0.007340</td>\n      <td>0.001664</td>\n      <td>-1.711022e-04</td>\n      <td>5.203469</td>\n      <td>0.048696</td>\n      <td>0.022752</td>\n      <td>1.754349</td>\n      <td>-1.509899</td>\n      <td>4.642178</td>\n      <td>-1.543644</td>\n    </tr>\n    <tr>\n      <th>7</th>\n      <td>84816000</td>\n      <td>6</td>\n      <td>Saturn Barycenter</td>\n      <td>58900.0</td>\n      <td>4.039565</td>\n      <td>-9.170298</td>\n      <td>-0.001362</td>\n      <td>0.004796</td>\n      <td>0.002233</td>\n      <td>-2.297898e-04</td>\n      <td>9.580375</td>\n      <td>0.051093</td>\n      <td>0.043393</td>\n      <td>1.982610</td>\n      <td>-0.388304</td>\n      <td>-2.750078</td>\n      <td>-2.709661</td>\n    </tr>\n    <tr>\n      <th>8</th>\n      <td>84816000</td>\n      <td>7</td>\n      <td>Uranus Barycenter</td>\n      <td>58900.0</td>\n      <td>16.104182</td>\n      <td>11.540741</td>\n      <td>-0.165769</td>\n      <td>-0.002320</td>\n      <td>0.003014</td>\n      <td>4.124782e-05</td>\n      <td>19.178276</td>\n      <td>0.046451</td>\n      <td>0.013448</td>\n      <td>1.293048</td>\n      <td>1.723148</td>\n      <td>-2.394865</td>\n      <td>-2.330122</td>\n    </tr>\n    <tr>\n      <th>9</th>\n      <td>84816000</td>\n      <td>8</td>\n      <td>Neptune Barycenter</td>\n      <td>58900.0</td>\n      <td>29.271555</td>\n      <td>-6.202268</td>\n      <td>-0.546868</td>\n      <td>0.000630</td>\n      <td>0.003090</td>\n      <td>-7.813982e-05</td>\n      <td>30.199682</td>\n      <td>0.010196</td>\n      <td>0.030895</td>\n      <td>2.299890</td>\n      <td>-1.986125</td>\n      <td>-0.522547</td>\n      <td>-0.512437</td>\n    </tr>\n  </tbody>\n</table>\n</div>"
     },
     "metadata": {},
     "execution_count": 9
    }
   ],
   "source": [
    "df[0:10]"
   ]
  },
  {
   "cell_type": "code",
   "execution_count": 10,
   "metadata": {},
   "outputs": [],
   "source": [
    "sim = sim_epoch"
   ]
  },
  {
   "cell_type": "code",
   "execution_count": 11,
   "metadata": {},
   "outputs": [],
   "source": [
    "sun = sim.particles['Sun']\n",
    "earth = sim.particles['Earth']\n",
    "# emb = sim.particles['Earth-Moon Barycenter']\n",
    "\n",
    "orb_earth = sim.particles['Earth'].calculate_orbit(primary=sun)\n",
    "orb_moon = sim.particles['Moon'].calculate_orbit(primary=sun)\n",
    "# orb_emb = sim.particles['Earth-Moon Barycenter'].calculate_orbit(primary=sun)\n",
    "orb_jup = sim.particles['Jupiter Barycenter'].calculate_orbit(primary=sun)"
   ]
  },
  {
   "cell_type": "code",
   "execution_count": 12,
   "metadata": {},
   "outputs": [
    {
     "output_type": "stream",
     "name": "stdout",
     "text": [
      "Earth:\n<rebound.Orbit instance, a=0.9997891554084537 e=0.016685133554755066 inc=4.273872541840796e-05 Omega=3.021904759432298 omega=-1.2514627746224694 f=2.5883083257077732>\n\nMoon:\n<rebound.Orbit instance, a=1.0188833113525768 e=0.041496371409711685 inc=0.00043801183180148135 Omega=-2.568999677287023 omega=-0.8634168046564179 f=1.5056025805862592>\n\nJupiter:\n<rebound.Orbit instance, a=5.203845531954163 e=0.048665016635874206 inc=0.022752117229575375 Omega=1.754348802499503 omega=-1.5114375946087053 f=-1.493920888437204>\n"
     ]
    }
   ],
   "source": [
    "print('Earth:')\n",
    "print(orb_earth)\n",
    "\n",
    "print('\\nMoon:')\n",
    "print(orb_moon)\n",
    "\n",
    "print('\\nJupiter:')\n",
    "print(orb_jup)"
   ]
  },
  {
   "cell_type": "code",
   "execution_count": 13,
   "metadata": {},
   "outputs": [
    {
     "output_type": "execute_result",
     "data": {
      "text/plain": [
       "3.003489614531686e-06"
      ]
     },
     "metadata": {},
     "execution_count": 13
    }
   ],
   "source": [
    "earth.m"
   ]
  },
  {
   "cell_type": "code",
   "execution_count": 14,
   "metadata": {},
   "outputs": [],
   "source": [
    "mjd0 = 55350\n",
    "mjd1 = 62650\n",
    "df = get_integration_diff(BodyCollectionCD='P', mjd0=mjd0, mjd1=mjd1, by_date=False)"
   ]
  },
  {
   "cell_type": "code",
   "execution_count": 15,
   "metadata": {},
   "outputs": [
    {
     "output_type": "execute_result",
     "data": {
      "text/plain": [
       "Empty DataFrame\n",
       "Columns: [TimeID, BodyID, MJD, dq, dv, dq_rel, dv_rel]\n",
       "Index: []"
      ],
      "text/html": "<div>\n<style scoped>\n    .dataframe tbody tr th:only-of-type {\n        vertical-align: middle;\n    }\n\n    .dataframe tbody tr th {\n        vertical-align: top;\n    }\n\n    .dataframe thead th {\n        text-align: right;\n    }\n</style>\n<table border=\"1\" class=\"dataframe\">\n  <thead>\n    <tr style=\"text-align: right;\">\n      <th></th>\n      <th>TimeID</th>\n      <th>BodyID</th>\n      <th>MJD</th>\n      <th>dq</th>\n      <th>dv</th>\n      <th>dq_rel</th>\n      <th>dv_rel</th>\n    </tr>\n  </thead>\n  <tbody>\n  </tbody>\n</table>\n</div>"
     },
     "metadata": {},
     "execution_count": 15
    }
   ],
   "source": [
    "df[0:12]"
   ]
  },
  {
   "cell_type": "code",
   "execution_count": 19,
   "metadata": {},
   "outputs": [],
   "source": [
    "sp2df(sp_name='KS.MakeTable_IntegrationDiff', params=dict())"
   ]
  },
  {
   "cell_type": "code",
   "execution_count": 16,
   "metadata": {},
   "outputs": [],
   "source": [
    "import sqlalchemy\n",
    "from db_utils import db_engine\n",
    "\n",
    "sp_name = 'KS.MakeTable_IntegrationDiff'\n",
    "params = dict()\n",
    "\n",
    "# Combine the arguments into a string formatted as expected by SQL alchemy\n",
    "arg_str = ', '.join(f':{k}' for k in params.keys())\n",
    "# Assemble the SQL string\n",
    "sql_str = f'CALL {sp_name}({arg_str});'\n",
    "# Bind the parameters into a SQL ALchemy text object\n",
    "sql_stmt = sqlalchemy.text(sql_str).bindparams(**params)"
   ]
  },
  {
   "cell_type": "code",
   "execution_count": 17,
   "metadata": {},
   "outputs": [
    {
     "output_type": "stream",
     "name": "stdout",
     "text": [
      "CALL KS.MakeTable_IntegrationDiff();\n"
     ]
    }
   ],
   "source": [
    "print(sql_stmt)"
   ]
  },
  {
   "cell_type": "code",
   "execution_count": 18,
   "metadata": {},
   "outputs": [],
   "source": [
    "with db_engine.connect() as conn:\n",
    "    conn.execute(sql_stmt)"
   ]
  },
  {
   "cell_type": "code",
   "execution_count": 26,
   "metadata": {},
   "outputs": [],
   "source": [
    "# Execute the bound SQL and return as a DataFrame\n",
    "with db_engine.connect() as conn:\n",
    "    try:\n",
    "        df = pd.read_sql(sql_stmt, conn)\n",
    "    # OK to run an SP with no results; just return None instead\n",
    "    except sqlalchemy.exc.ResourceClosedError:\n",
    "        df = None"
   ]
  },
  {
   "cell_type": "code",
   "execution_count": 31,
   "metadata": {},
   "outputs": [
    {
     "output_type": "stream",
     "name": "stdout",
     "text": [
      "CALL KS.MakeTable_IntegrationDiff();\n"
     ]
    }
   ],
   "source": [
    "print('CALL KS.MakeTable_IntegrationDiff();')"
   ]
  },
  {
   "cell_type": "code",
   "execution_count": null,
   "metadata": {},
   "outputs": [],
   "source": []
  }
 ],
 "metadata": {
  "kernelspec": {
   "name": "python3",
   "display_name": "Python 3",
   "language": "python"
  },
  "language_info": {
   "codemirror_mode": {
    "name": "ipython",
    "version": 3
   },
   "file_extension": ".py",
   "mimetype": "text/x-python",
   "name": "python",
   "nbconvert_exporter": "python",
   "pygments_lexer": "ipython3",
   "version": "3.8.5-final"
  }
 },
 "nbformat": 4,
 "nbformat_minor": 4
}