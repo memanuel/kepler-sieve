{
 "cells": [
  {
   "cell_type": "code",
   "execution_count": 1,
   "metadata": {},
   "outputs": [],
   "source": [
    "# Core\n",
    "import numpy as np\n",
    "import pandas as pd\n",
    "import dask.dataframe as dd\n",
    "import dask.multiprocessing\n",
    "\n",
    "import glob\n",
    "\n",
    "# Astronomy\n",
    "import rebound"
   ]
  },
  {
   "cell_type": "code",
   "execution_count": 2,
   "metadata": {},
   "outputs": [],
   "source": [
    "# Local imports\n",
    "import kepler_sieve\n",
    "from horizons import make_sim_horizons\n",
    "from rebound_sim import make_sim_planets\n",
    "from rebound_integrate import integrate_numpy, integrate_df, integrate_mjds\n",
    "from planets_test import get_integration_diff\n",
    "from db_config import db_engine\n",
    "from db_utils import sp2df, get_columns, df2csv, csv2db, csvs2db"
   ]
  },
  {
   "cell_type": "code",
   "execution_count": 7,
   "metadata": {},
   "outputs": [],
   "source": [
    "# Typing\n",
    "from typing import Tuple"
   ]
  },
  {
   "cell_type": "code",
   "execution_count": 47,
   "metadata": {},
   "outputs": [],
   "source": [
    "# Make sim with planets\n",
    "epoch = 59000\n",
    "sim_epoch = make_sim_planets(epoch=epoch)"
   ]
  },
  {
   "cell_type": "code",
   "execution_count": 9,
   "metadata": {},
   "outputs": [],
   "source": [
    "# Date range to process\n",
    "mjd0: int = epoch-100\n",
    "mjd1: int = epoch+100"
   ]
  },
  {
   "cell_type": "code",
   "execution_count": 10,
   "metadata": {},
   "outputs": [],
   "source": [
    "# Shared time_step and save_step\n",
    "steps_per_day: int = 1\n",
    "\n",
    "# Flags for building simulation archive\n",
    "save_elements: bool = True\n",
    "progbar: bool = True"
   ]
  },
  {
   "cell_type": "code",
   "execution_count": 11,
   "metadata": {},
   "outputs": [],
   "source": [
    "# Save simulation as Numpy arrays\n",
    "# body_ids, body_names, epochs, q, v, elts = integrate_numpy(sim_epoch=sim_epoch, mjd0=mjd0, mjd1=mjd1, time_step=time_step, save_elements=save_elements, progbar=True)"
   ]
  },
  {
   "cell_type": "code",
   "execution_count": 16,
   "metadata": {},
   "outputs": [
    {
     "output_type": "stream",
     "name": "stdout",
     "text": [
      "epoch=59000.0\n"
     ]
    },
    {
     "output_type": "display_data",
     "data": {
      "text/plain": "  0%|          | 0/101 [00:00<?, ?it/s]",
      "application/vnd.jupyter.widget-view+json": {
       "version_major": 2,
       "version_minor": 0,
       "model_id": "35689217f8754fc58e4160c1302672c1"
      }
     },
     "metadata": {}
    },
    {
     "output_type": "display_data",
     "data": {
      "text/plain": "  0%|          | 0/100 [00:00<?, ?it/s]",
      "application/vnd.jupyter.widget-view+json": {
       "version_major": 2,
       "version_minor": 0,
       "model_id": "61ce3cb9cce34653a0700bed9ac030c5"
      }
     },
     "metadata": {}
    }
   ],
   "source": [
    "mjds = np.arange(58900, 59101)\n",
    "body_ids, body_names, q, v, elts = integrate_mjds(sim_epoch=sim_epoch, mjds=mjds, save_elements=True, progbar=True)"
   ]
  },
  {
   "cell_type": "code",
   "execution_count": 17,
   "metadata": {},
   "outputs": [
    {
     "output_type": "stream",
     "name": "stdout",
     "text": [
      "epoch=59000.0\n"
     ]
    },
    {
     "output_type": "display_data",
     "data": {
      "text/plain": "  0%|          | 0/3651 [00:00<?, ?it/s]",
      "application/vnd.jupyter.widget-view+json": {
       "version_major": 2,
       "version_minor": 0,
       "model_id": "8d6c5284c71d46c091cfe14f7d88874c"
      }
     },
     "metadata": {}
    },
    {
     "output_type": "display_data",
     "data": {
      "text/plain": "  0%|          | 0/3650 [00:00<?, ?it/s]",
      "application/vnd.jupyter.widget-view+json": {
       "version_major": 2,
       "version_minor": 0,
       "model_id": "045b3ce7e76e44999fdb46d76332fdc3"
      }
     },
     "metadata": {}
    }
   ],
   "source": [
    "df = integrate_df(sim_epoch=sim_epoch, mjd0=mjd0, mjd1=mjd1, interval_p=1, interval_q=1, \n",
    "                  save_elements=save_elements, progbar=True)"
   ]
  },
  {
   "cell_type": "code",
   "execution_count": 18,
   "metadata": {},
   "outputs": [
    {
     "output_type": "execute_result",
     "data": {
      "text/plain": [
       "     TimeID  BodyID      MJD         qx         qy        qz        vx  \\\n",
       "0  79704000      10  55350.0  -0.004091   0.002036  0.000013 -0.000002   \n",
       "1  79704000       1  55350.0   0.316987  -0.240510 -0.049266  0.011411   \n",
       "2  79704000       2  55350.0  -0.675194   0.256483  0.042228 -0.007267   \n",
       "3  79704000     399  55350.0  -0.314337  -0.963601  0.000034  0.016094   \n",
       "4  79704000     301  55350.0  -0.312236  -0.965290  0.000190  0.016447   \n",
       "5  79704000       4  55350.0  -1.644921  -0.121043  0.037724  0.001567   \n",
       "6  79704000       5  55350.0   4.861469  -1.018005 -0.104634  0.001455   \n",
       "7  79704000       6  55350.0  -9.498782  -0.593382  0.388313  0.000049   \n",
       "8  79704000       7  55350.0  20.065736  -0.957272 -0.263523  0.000159   \n",
       "9  79704000       8  55350.0  25.077337 -16.492668 -0.238297  0.001704   \n",
       "\n",
       "         vy            vz          a         e       inc     Omega     omega  \\\n",
       "0 -0.000006  3.848410e-08        NaN       NaN       NaN       NaN       NaN   \n",
       "1  0.023751  8.938388e-04   0.387099  0.205626  0.122249  0.843300  0.508838   \n",
       "2 -0.019013  1.590128e-04   0.723330  0.006810  0.059245  1.337804  0.958506   \n",
       "3 -0.005338 -3.727066e-07   0.999690  0.017134  0.000033  1.982947 -0.177364   \n",
       "4 -0.004905  3.947402e-05   0.002546  0.061584  0.091279 -1.359143 -2.299887   \n",
       "5 -0.012766 -3.058587e-04   1.523755  0.093306  0.032269  0.864364 -1.281375   \n",
       "6  0.007745 -6.472818e-05   5.202790  0.048901  0.022756  1.754244 -1.501117   \n",
       "7 -0.005580  9.511699e-05   9.519125  0.054167  0.043422  1.983303 -0.407909   \n",
       "8  0.003745  1.186254e-05  19.271609  0.043002  0.013473  1.292190  1.687635   \n",
       "9  0.002641 -9.366565e-05  30.230740  0.011491  0.030859  2.299768 -1.952692   \n",
       "\n",
       "          f         M  \n",
       "0       NaN       NaN  \n",
       "1 -1.999692 -1.602653  \n",
       "2  0.483104  0.476806  \n",
       "3  2.595936  2.577955  \n",
       "4  2.984025  2.963779  \n",
       "5  3.633213 -2.556157  \n",
       "6 -0.459688 -0.417686  \n",
       "7  1.629130  1.520777  \n",
       "8 -3.027608 -3.017503  \n",
       "9 -0.928689 -0.910379  "
      ],
      "text/html": "<div>\n<style scoped>\n    .dataframe tbody tr th:only-of-type {\n        vertical-align: middle;\n    }\n\n    .dataframe tbody tr th {\n        vertical-align: top;\n    }\n\n    .dataframe thead th {\n        text-align: right;\n    }\n</style>\n<table border=\"1\" class=\"dataframe\">\n  <thead>\n    <tr style=\"text-align: right;\">\n      <th></th>\n      <th>TimeID</th>\n      <th>BodyID</th>\n      <th>MJD</th>\n      <th>qx</th>\n      <th>qy</th>\n      <th>qz</th>\n      <th>vx</th>\n      <th>vy</th>\n      <th>vz</th>\n      <th>a</th>\n      <th>e</th>\n      <th>inc</th>\n      <th>Omega</th>\n      <th>omega</th>\n      <th>f</th>\n      <th>M</th>\n    </tr>\n  </thead>\n  <tbody>\n    <tr>\n      <th>0</th>\n      <td>79704000</td>\n      <td>10</td>\n      <td>55350.0</td>\n      <td>-0.004091</td>\n      <td>0.002036</td>\n      <td>0.000013</td>\n      <td>-0.000002</td>\n      <td>-0.000006</td>\n      <td>3.848410e-08</td>\n      <td>NaN</td>\n      <td>NaN</td>\n      <td>NaN</td>\n      <td>NaN</td>\n      <td>NaN</td>\n      <td>NaN</td>\n      <td>NaN</td>\n    </tr>\n    <tr>\n      <th>1</th>\n      <td>79704000</td>\n      <td>1</td>\n      <td>55350.0</td>\n      <td>0.316987</td>\n      <td>-0.240510</td>\n      <td>-0.049266</td>\n      <td>0.011411</td>\n      <td>0.023751</td>\n      <td>8.938388e-04</td>\n      <td>0.387099</td>\n      <td>0.205626</td>\n      <td>0.122249</td>\n      <td>0.843300</td>\n      <td>0.508838</td>\n      <td>-1.999692</td>\n      <td>-1.602653</td>\n    </tr>\n    <tr>\n      <th>2</th>\n      <td>79704000</td>\n      <td>2</td>\n      <td>55350.0</td>\n      <td>-0.675194</td>\n      <td>0.256483</td>\n      <td>0.042228</td>\n      <td>-0.007267</td>\n      <td>-0.019013</td>\n      <td>1.590128e-04</td>\n      <td>0.723330</td>\n      <td>0.006810</td>\n      <td>0.059245</td>\n      <td>1.337804</td>\n      <td>0.958506</td>\n      <td>0.483104</td>\n      <td>0.476806</td>\n    </tr>\n    <tr>\n      <th>3</th>\n      <td>79704000</td>\n      <td>399</td>\n      <td>55350.0</td>\n      <td>-0.314337</td>\n      <td>-0.963601</td>\n      <td>0.000034</td>\n      <td>0.016094</td>\n      <td>-0.005338</td>\n      <td>-3.727066e-07</td>\n      <td>0.999690</td>\n      <td>0.017134</td>\n      <td>0.000033</td>\n      <td>1.982947</td>\n      <td>-0.177364</td>\n      <td>2.595936</td>\n      <td>2.577955</td>\n    </tr>\n    <tr>\n      <th>4</th>\n      <td>79704000</td>\n      <td>301</td>\n      <td>55350.0</td>\n      <td>-0.312236</td>\n      <td>-0.965290</td>\n      <td>0.000190</td>\n      <td>0.016447</td>\n      <td>-0.004905</td>\n      <td>3.947402e-05</td>\n      <td>0.002546</td>\n      <td>0.061584</td>\n      <td>0.091279</td>\n      <td>-1.359143</td>\n      <td>-2.299887</td>\n      <td>2.984025</td>\n      <td>2.963779</td>\n    </tr>\n    <tr>\n      <th>5</th>\n      <td>79704000</td>\n      <td>4</td>\n      <td>55350.0</td>\n      <td>-1.644921</td>\n      <td>-0.121043</td>\n      <td>0.037724</td>\n      <td>0.001567</td>\n      <td>-0.012766</td>\n      <td>-3.058587e-04</td>\n      <td>1.523755</td>\n      <td>0.093306</td>\n      <td>0.032269</td>\n      <td>0.864364</td>\n      <td>-1.281375</td>\n      <td>3.633213</td>\n      <td>-2.556157</td>\n    </tr>\n    <tr>\n      <th>6</th>\n      <td>79704000</td>\n      <td>5</td>\n      <td>55350.0</td>\n      <td>4.861469</td>\n      <td>-1.018005</td>\n      <td>-0.104634</td>\n      <td>0.001455</td>\n      <td>0.007745</td>\n      <td>-6.472818e-05</td>\n      <td>5.202790</td>\n      <td>0.048901</td>\n      <td>0.022756</td>\n      <td>1.754244</td>\n      <td>-1.501117</td>\n      <td>-0.459688</td>\n      <td>-0.417686</td>\n    </tr>\n    <tr>\n      <th>7</th>\n      <td>79704000</td>\n      <td>6</td>\n      <td>55350.0</td>\n      <td>-9.498782</td>\n      <td>-0.593382</td>\n      <td>0.388313</td>\n      <td>0.000049</td>\n      <td>-0.005580</td>\n      <td>9.511699e-05</td>\n      <td>9.519125</td>\n      <td>0.054167</td>\n      <td>0.043422</td>\n      <td>1.983303</td>\n      <td>-0.407909</td>\n      <td>1.629130</td>\n      <td>1.520777</td>\n    </tr>\n    <tr>\n      <th>8</th>\n      <td>79704000</td>\n      <td>7</td>\n      <td>55350.0</td>\n      <td>20.065736</td>\n      <td>-0.957272</td>\n      <td>-0.263523</td>\n      <td>0.000159</td>\n      <td>0.003745</td>\n      <td>1.186254e-05</td>\n      <td>19.271609</td>\n      <td>0.043002</td>\n      <td>0.013473</td>\n      <td>1.292190</td>\n      <td>1.687635</td>\n      <td>-3.027608</td>\n      <td>-3.017503</td>\n    </tr>\n    <tr>\n      <th>9</th>\n      <td>79704000</td>\n      <td>8</td>\n      <td>55350.0</td>\n      <td>25.077337</td>\n      <td>-16.492668</td>\n      <td>-0.238297</td>\n      <td>0.001704</td>\n      <td>0.002641</td>\n      <td>-9.366565e-05</td>\n      <td>30.230740</td>\n      <td>0.011491</td>\n      <td>0.030859</td>\n      <td>2.299768</td>\n      <td>-1.952692</td>\n      <td>-0.928689</td>\n      <td>-0.910379</td>\n    </tr>\n  </tbody>\n</table>\n</div>"
     },
     "metadata": {},
     "execution_count": 18
    }
   ],
   "source": [
    "df[0:10]"
   ]
  },
  {
   "cell_type": "code",
   "execution_count": 15,
   "metadata": {},
   "outputs": [],
   "source": [
    "mjd0 = 55350\n",
    "mjd1 = 62650\n",
    "body_collection = 'Planets'\n",
    "dfd = get_integration_diff(body_collection='Planets', mjd0=mjd0, mjd1=mjd1, by_date=False)"
   ]
  },
  {
   "cell_type": "code",
   "execution_count": 16,
   "metadata": {},
   "outputs": [
    {
     "output_type": "execute_result",
     "data": {
      "text/plain": [
       "         TimeID  BodyID      MJD            dq            dv        dq_rel  \\\n",
       "0      79704000       1  55350.0  1.266140e-05  8.906567e-07  3.323542e-05   \n",
       "1      79704000       2  55350.0  6.010629e-06  1.690565e-07  8.309523e-06   \n",
       "2      79704000       4  55350.0  2.133959e-06  1.914419e-08  1.404944e-06   \n",
       "3      79704000       5  55350.0  2.155405e-07  3.161788e-10  4.152260e-08   \n",
       "4      79704000       6  55350.0  2.329974e-08  1.299742e-11  2.450806e-09   \n",
       "...         ...     ...      ...           ...           ...           ...   \n",
       "80306  90216000       8  62650.0  1.040801e-09  7.188373e-13  3.938465e-11   \n",
       "80307  90216000       9  62650.0  8.755010e-10  4.939106e-13  3.034195e-11   \n",
       "80308  90216000      10  62650.0  1.194718e-08  4.332699e-12  2.010679e-06   \n",
       "80309  90216000     301  62650.0  4.599636e-06  3.356210e-07  4.599980e-06   \n",
       "80310  90216000     399  62650.0  3.436168e-06  5.628162e-08  3.436430e-06   \n",
       "\n",
       "             dv_rel  \n",
       "0      3.221320e-05  \n",
       "1      8.358312e-06  \n",
       "2      1.373448e-06  \n",
       "3      4.195980e-08  \n",
       "4      2.331962e-09  \n",
       "...             ...  \n",
       "80306  2.601129e-10  \n",
       "80307  2.166224e-10  \n",
       "80308  5.891571e-07  \n",
       "80309  1.949895e-05  \n",
       "80310  3.271729e-06  \n",
       "\n",
       "[80311 rows x 7 columns]"
      ],
      "text/html": "<div>\n<style scoped>\n    .dataframe tbody tr th:only-of-type {\n        vertical-align: middle;\n    }\n\n    .dataframe tbody tr th {\n        vertical-align: top;\n    }\n\n    .dataframe thead th {\n        text-align: right;\n    }\n</style>\n<table border=\"1\" class=\"dataframe\">\n  <thead>\n    <tr style=\"text-align: right;\">\n      <th></th>\n      <th>TimeID</th>\n      <th>BodyID</th>\n      <th>MJD</th>\n      <th>dq</th>\n      <th>dv</th>\n      <th>dq_rel</th>\n      <th>dv_rel</th>\n    </tr>\n  </thead>\n  <tbody>\n    <tr>\n      <th>0</th>\n      <td>79704000</td>\n      <td>1</td>\n      <td>55350.0</td>\n      <td>1.266140e-05</td>\n      <td>8.906567e-07</td>\n      <td>3.323542e-05</td>\n      <td>3.221320e-05</td>\n    </tr>\n    <tr>\n      <th>1</th>\n      <td>79704000</td>\n      <td>2</td>\n      <td>55350.0</td>\n      <td>6.010629e-06</td>\n      <td>1.690565e-07</td>\n      <td>8.309523e-06</td>\n      <td>8.358312e-06</td>\n    </tr>\n    <tr>\n      <th>2</th>\n      <td>79704000</td>\n      <td>4</td>\n      <td>55350.0</td>\n      <td>2.133959e-06</td>\n      <td>1.914419e-08</td>\n      <td>1.404944e-06</td>\n      <td>1.373448e-06</td>\n    </tr>\n    <tr>\n      <th>3</th>\n      <td>79704000</td>\n      <td>5</td>\n      <td>55350.0</td>\n      <td>2.155405e-07</td>\n      <td>3.161788e-10</td>\n      <td>4.152260e-08</td>\n      <td>4.195980e-08</td>\n    </tr>\n    <tr>\n      <th>4</th>\n      <td>79704000</td>\n      <td>6</td>\n      <td>55350.0</td>\n      <td>2.329974e-08</td>\n      <td>1.299742e-11</td>\n      <td>2.450806e-09</td>\n      <td>2.331962e-09</td>\n    </tr>\n    <tr>\n      <th>...</th>\n      <td>...</td>\n      <td>...</td>\n      <td>...</td>\n      <td>...</td>\n      <td>...</td>\n      <td>...</td>\n      <td>...</td>\n    </tr>\n    <tr>\n      <th>80306</th>\n      <td>90216000</td>\n      <td>8</td>\n      <td>62650.0</td>\n      <td>1.040801e-09</td>\n      <td>7.188373e-13</td>\n      <td>3.938465e-11</td>\n      <td>2.601129e-10</td>\n    </tr>\n    <tr>\n      <th>80307</th>\n      <td>90216000</td>\n      <td>9</td>\n      <td>62650.0</td>\n      <td>8.755010e-10</td>\n      <td>4.939106e-13</td>\n      <td>3.034195e-11</td>\n      <td>2.166224e-10</td>\n    </tr>\n    <tr>\n      <th>80308</th>\n      <td>90216000</td>\n      <td>10</td>\n      <td>62650.0</td>\n      <td>1.194718e-08</td>\n      <td>4.332699e-12</td>\n      <td>2.010679e-06</td>\n      <td>5.891571e-07</td>\n    </tr>\n    <tr>\n      <th>80309</th>\n      <td>90216000</td>\n      <td>301</td>\n      <td>62650.0</td>\n      <td>4.599636e-06</td>\n      <td>3.356210e-07</td>\n      <td>4.599980e-06</td>\n      <td>1.949895e-05</td>\n    </tr>\n    <tr>\n      <th>80310</th>\n      <td>90216000</td>\n      <td>399</td>\n      <td>62650.0</td>\n      <td>3.436168e-06</td>\n      <td>5.628162e-08</td>\n      <td>3.436430e-06</td>\n      <td>3.271729e-06</td>\n    </tr>\n  </tbody>\n</table>\n<p>80311 rows × 7 columns</p>\n</div>"
     },
     "metadata": {},
     "execution_count": 16
    }
   ],
   "source": [
    "dfd"
   ]
  },
  {
   "cell_type": "code",
   "execution_count": 22,
   "metadata": {},
   "outputs": [],
   "source": [
    "params={'BodyCollectionName': 'Planets', 'epoch': 59100}\n",
    "df_h = sp2df('JPL.GetHorizonsStateCollection', params)"
   ]
  },
  {
   "cell_type": "code",
   "execution_count": 41,
   "metadata": {},
   "outputs": [
    {
     "output_type": "stream",
     "name": "stdout",
     "text": [
      "epoch=59000.0\n"
     ]
    },
    {
     "output_type": "display_data",
     "data": {
      "text/plain": "  0%|          | 0/101 [00:00<?, ?it/s]",
      "application/vnd.jupyter.widget-view+json": {
       "version_major": 2,
       "version_minor": 0,
       "model_id": "12599e6f47bc4093a0e3e2830715999c"
      }
     },
     "metadata": {}
    },
    {
     "output_type": "display_data",
     "data": {
      "text/plain": "  0%|          | 0/100 [00:00<?, ?it/s]",
      "application/vnd.jupyter.widget-view+json": {
       "version_major": 2,
       "version_minor": 0,
       "model_id": "396f36a7351e4294a60d751cc0270640"
      }
     },
     "metadata": {}
    }
   ],
   "source": [
    "df_k = integrate_df(sim_epoch=sim_epoch, mjd0=58900, mjd1=59100, interval_p=1, interval_q=1, \n",
    "                    save_elements=save_elements, progbar=True)"
   ]
  },
  {
   "cell_type": "code",
   "execution_count": 42,
   "metadata": {},
   "outputs": [
    {
     "output_type": "execute_result",
     "data": {
      "text/plain": [
       "      BodyID         qx         qy        qz\n",
       "1100      10  -0.005040   0.007027  0.000058\n",
       "1101       1  -0.398018  -0.035904  0.032599\n",
       "1102       2  -0.284042  -0.662575  0.006970\n",
       "1103     399  -0.356169  -0.944135  0.000100\n",
       "1104     301  -0.358599  -0.943750  0.000324\n",
       "1105       4   0.608101  -1.261972 -0.041575\n",
       "1106       5   1.620732  -4.902980 -0.015923\n",
       "1107       6   4.512971  -8.933589 -0.024328\n",
       "1108       7  15.869135  11.839889 -0.161613\n",
       "1109       8  29.332922  -5.892970 -0.554652\n",
       "1110       9  13.420570 -31.279729 -0.534906"
      ],
      "text/html": "<div>\n<style scoped>\n    .dataframe tbody tr th:only-of-type {\n        vertical-align: middle;\n    }\n\n    .dataframe tbody tr th {\n        vertical-align: top;\n    }\n\n    .dataframe thead th {\n        text-align: right;\n    }\n</style>\n<table border=\"1\" class=\"dataframe\">\n  <thead>\n    <tr style=\"text-align: right;\">\n      <th></th>\n      <th>BodyID</th>\n      <th>qx</th>\n      <th>qy</th>\n      <th>qz</th>\n    </tr>\n  </thead>\n  <tbody>\n    <tr>\n      <th>1100</th>\n      <td>10</td>\n      <td>-0.005040</td>\n      <td>0.007027</td>\n      <td>0.000058</td>\n    </tr>\n    <tr>\n      <th>1101</th>\n      <td>1</td>\n      <td>-0.398018</td>\n      <td>-0.035904</td>\n      <td>0.032599</td>\n    </tr>\n    <tr>\n      <th>1102</th>\n      <td>2</td>\n      <td>-0.284042</td>\n      <td>-0.662575</td>\n      <td>0.006970</td>\n    </tr>\n    <tr>\n      <th>1103</th>\n      <td>399</td>\n      <td>-0.356169</td>\n      <td>-0.944135</td>\n      <td>0.000100</td>\n    </tr>\n    <tr>\n      <th>1104</th>\n      <td>301</td>\n      <td>-0.358599</td>\n      <td>-0.943750</td>\n      <td>0.000324</td>\n    </tr>\n    <tr>\n      <th>1105</th>\n      <td>4</td>\n      <td>0.608101</td>\n      <td>-1.261972</td>\n      <td>-0.041575</td>\n    </tr>\n    <tr>\n      <th>1106</th>\n      <td>5</td>\n      <td>1.620732</td>\n      <td>-4.902980</td>\n      <td>-0.015923</td>\n    </tr>\n    <tr>\n      <th>1107</th>\n      <td>6</td>\n      <td>4.512971</td>\n      <td>-8.933589</td>\n      <td>-0.024328</td>\n    </tr>\n    <tr>\n      <th>1108</th>\n      <td>7</td>\n      <td>15.869135</td>\n      <td>11.839889</td>\n      <td>-0.161613</td>\n    </tr>\n    <tr>\n      <th>1109</th>\n      <td>8</td>\n      <td>29.332922</td>\n      <td>-5.892970</td>\n      <td>-0.554652</td>\n    </tr>\n    <tr>\n      <th>1110</th>\n      <td>9</td>\n      <td>13.420570</td>\n      <td>-31.279729</td>\n      <td>-0.534906</td>\n    </tr>\n  </tbody>\n</table>\n</div>"
     },
     "metadata": {},
     "execution_count": 42
    }
   ],
   "source": [
    "mask = (df_k.TimeID == 59000*24*60)\n",
    "df_k1 = df_k[mask][['BodyID', 'qx', 'qy', 'qz']]\n",
    "df_k1"
   ]
  },
  {
   "cell_type": "code",
   "execution_count": null,
   "metadata": {},
   "outputs": [],
   "source": [
    "def test_integration_df(df: pd.DataFrame, epoch: int):\n",
    "    \"\"\"Test an integration data frame against Horizons\"\"\"\n",
    "    # Mask the data frame to match the desired epoch\n",
    "    mask = (df_k.TimeID == epoch*24*60)\n",
    "    # Extract this date and the fields to test\n",
    "    df_k = df[mask][['BodyID', 'qx', 'qy', 'qz', 'vx', 'vy', 'vz']]\n",
    "    \n",
    "    # Look up the configuration on Horizons\n",
    "    params={'BodyCollectionName': 'Planets', 'epoch': epoch}\n",
    "    df_h = sp2df('JPL.GetHorizonsStateCollection', params)\n",
    "    # Filter down to just the relevant columns\n",
    "    df_h[['BodyID', 'qx', 'qy', 'qz', 'vx', 'vy', 'vz']]"
   ]
  },
  {
   "cell_type": "code",
   "execution_count": 40,
   "metadata": {},
   "outputs": [
    {
     "output_type": "execute_result",
     "data": {
      "text/plain": [
       "    BodyID         qx         qy        qz        vx        vy            vz\n",
       "0       10  -0.005826   0.006608  0.000081 -0.000008 -0.000005  2.220491e-07\n",
       "1        1  -0.317875  -0.317046  0.002258  0.014525 -0.018247 -2.823499e-03\n",
       "2        2   0.494811   0.527669 -0.021659 -0.014655  0.013922  1.036568e-03\n",
       "3      399   0.969669  -0.245238  0.000091  0.004018  0.016585 -1.055631e-06\n",
       "4      301   0.971436  -0.243200 -0.000048  0.003589  0.016942  3.932465e-05\n",
       "5        4   1.383769  -0.026631 -0.034705  0.000864  0.015180  2.970566e-04\n",
       "6        5   2.307919  -4.578456 -0.032642  0.006645  0.003755 -1.642408e-04\n",
       "7        6   4.973013  -8.670475 -0.047221  0.004529  0.002761 -2.283492e-04\n",
       "8        7  15.628033  12.134521 -0.157395 -0.002441  0.002923  4.248123e-05\n",
       "9        8  29.391047  -5.583021 -0.562374  0.000565  0.003103 -7.691335e-05\n",
       "10       9  13.715764 -31.221815 -0.626491  0.002947  0.000591 -9.156320e-04"
      ],
      "text/html": "<div>\n<style scoped>\n    .dataframe tbody tr th:only-of-type {\n        vertical-align: middle;\n    }\n\n    .dataframe tbody tr th {\n        vertical-align: top;\n    }\n\n    .dataframe thead th {\n        text-align: right;\n    }\n</style>\n<table border=\"1\" class=\"dataframe\">\n  <thead>\n    <tr style=\"text-align: right;\">\n      <th></th>\n      <th>BodyID</th>\n      <th>qx</th>\n      <th>qy</th>\n      <th>qz</th>\n      <th>vx</th>\n      <th>vy</th>\n      <th>vz</th>\n    </tr>\n  </thead>\n  <tbody>\n    <tr>\n      <th>0</th>\n      <td>10</td>\n      <td>-0.005826</td>\n      <td>0.006608</td>\n      <td>0.000081</td>\n      <td>-0.000008</td>\n      <td>-0.000005</td>\n      <td>2.220491e-07</td>\n    </tr>\n    <tr>\n      <th>1</th>\n      <td>1</td>\n      <td>-0.317875</td>\n      <td>-0.317046</td>\n      <td>0.002258</td>\n      <td>0.014525</td>\n      <td>-0.018247</td>\n      <td>-2.823499e-03</td>\n    </tr>\n    <tr>\n      <th>2</th>\n      <td>2</td>\n      <td>0.494811</td>\n      <td>0.527669</td>\n      <td>-0.021659</td>\n      <td>-0.014655</td>\n      <td>0.013922</td>\n      <td>1.036568e-03</td>\n    </tr>\n    <tr>\n      <th>3</th>\n      <td>399</td>\n      <td>0.969669</td>\n      <td>-0.245238</td>\n      <td>0.000091</td>\n      <td>0.004018</td>\n      <td>0.016585</td>\n      <td>-1.055631e-06</td>\n    </tr>\n    <tr>\n      <th>4</th>\n      <td>301</td>\n      <td>0.971436</td>\n      <td>-0.243200</td>\n      <td>-0.000048</td>\n      <td>0.003589</td>\n      <td>0.016942</td>\n      <td>3.932465e-05</td>\n    </tr>\n    <tr>\n      <th>5</th>\n      <td>4</td>\n      <td>1.383769</td>\n      <td>-0.026631</td>\n      <td>-0.034705</td>\n      <td>0.000864</td>\n      <td>0.015180</td>\n      <td>2.970566e-04</td>\n    </tr>\n    <tr>\n      <th>6</th>\n      <td>5</td>\n      <td>2.307919</td>\n      <td>-4.578456</td>\n      <td>-0.032642</td>\n      <td>0.006645</td>\n      <td>0.003755</td>\n      <td>-1.642408e-04</td>\n    </tr>\n    <tr>\n      <th>7</th>\n      <td>6</td>\n      <td>4.973013</td>\n      <td>-8.670475</td>\n      <td>-0.047221</td>\n      <td>0.004529</td>\n      <td>0.002761</td>\n      <td>-2.283492e-04</td>\n    </tr>\n    <tr>\n      <th>8</th>\n      <td>7</td>\n      <td>15.628033</td>\n      <td>12.134521</td>\n      <td>-0.157395</td>\n      <td>-0.002441</td>\n      <td>0.002923</td>\n      <td>4.248123e-05</td>\n    </tr>\n    <tr>\n      <th>9</th>\n      <td>8</td>\n      <td>29.391047</td>\n      <td>-5.583021</td>\n      <td>-0.562374</td>\n      <td>0.000565</td>\n      <td>0.003103</td>\n      <td>-7.691335e-05</td>\n    </tr>\n    <tr>\n      <th>10</th>\n      <td>9</td>\n      <td>13.715764</td>\n      <td>-31.221815</td>\n      <td>-0.626491</td>\n      <td>0.002947</td>\n      <td>0.000591</td>\n      <td>-9.156320e-04</td>\n    </tr>\n  </tbody>\n</table>\n</div>"
     },
     "metadata": {},
     "execution_count": 40
    }
   ],
   "source": [
    "df_h = df_h[['BodyID', 'qx', 'qy', 'qz', 'vx', 'vy', 'vz']]\n",
    "df_h"
   ]
  },
  {
   "cell_type": "code",
   "execution_count": 50,
   "metadata": {},
   "outputs": [
    {
     "output_type": "execute_result",
     "data": {
      "text/plain": [
       "<rebound.Particle object, m=3.003489614531686e-06 x=-0.3561687722518891 y=-0.9441353157289663 z=9.99339693475901e-05 vx=0.01585208637634398 vy=-0.00601929192652646 vz=4.071973103165173e-07>"
      ]
     },
     "metadata": {},
     "execution_count": 50
    }
   ],
   "source": [
    "sim_epoch.particles['Earth']"
   ]
  },
  {
   "cell_type": "code",
   "execution_count": null,
   "metadata": {},
   "outputs": [],
   "source": []
  }
 ],
 "metadata": {
  "kernelspec": {
   "name": "python3",
   "display_name": "Python 3",
   "language": "python"
  },
  "language_info": {
   "codemirror_mode": {
    "name": "ipython",
    "version": 3
   },
   "file_extension": ".py",
   "mimetype": "text/x-python",
   "name": "python",
   "nbconvert_exporter": "python",
   "pygments_lexer": "ipython3",
   "version": "3.8.8-final"
  }
 },
 "nbformat": 4,
 "nbformat_minor": 4
}