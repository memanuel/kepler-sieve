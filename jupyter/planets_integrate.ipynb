{
 "cells": [
  {
   "cell_type": "code",
   "execution_count": 2,
   "metadata": {},
   "outputs": [],
   "source": [
    "# Core\n",
    "import numpy as np\n",
    "import rebound"
   ]
  },
  {
   "cell_type": "code",
   "execution_count": 8,
   "metadata": {},
   "outputs": [],
   "source": [
    "# Local imports\n",
    "import kepler_sieve\n",
    "from horizons import make_sim_horizons\n",
    "from rebound_utils import make_sim_planets, make_archive"
   ]
  },
  {
   "cell_type": "code",
   "execution_count": 25,
   "metadata": {},
   "outputs": [],
   "source": [
    "# Typing\n",
    "from typing import Tuple"
   ]
  },
  {
   "cell_type": "code",
   "execution_count": 19,
   "metadata": {},
   "outputs": [],
   "source": [
    "# Make sim with planets\n",
    "epoch = 59000\n",
    "sim_epoch = make_sim_planets(epoch=epoch)"
   ]
  },
  {
   "cell_type": "code",
   "execution_count": 9,
   "metadata": {},
   "outputs": [],
   "source": [
    "# Date range to process\n",
    "mjd0: int = epoch-100\n",
    "mjd1: int = epoch+100"
   ]
  },
  {
   "cell_type": "code",
   "execution_count": 10,
   "metadata": {},
   "outputs": [],
   "source": [
    "# Shared time_step and save_step\n",
    "time_step: int = 1\n",
    "save_step: int = 1\n",
    "\n",
    "# Flags for building simulation archive\n",
    "save_elements: bool = False\n",
    "progbar: bool = True"
   ]
  },
  {
   "cell_type": "code",
   "execution_count": 15,
   "metadata": {},
   "outputs": [],
   "source": [
    "# # Make simulation archive\n",
    "# sa_planets = make_archive(sim_epoch=sim, \n",
    "#                  mjd0=mjd0, mjd1=mjd1, time_step=time_step, save_step=save_step,\n",
    "#                  save_elements=save_elements, progbar=progbar)"
   ]
  },
  {
   "cell_type": "code",
   "execution_count": 20,
   "metadata": {},
   "outputs": [],
   "source": [
    "# Look up the epoch from the base simulation\n",
    "epoch: int = sim_epoch.epoch\n",
    "\n",
    "# Look up body IDs and names\n",
    "body_ids: np.ndarray = sim_epoch.body_ids\n",
    "body_names: np.ndarray = sim_epoch.body_names"
   ]
  },
  {
   "cell_type": "code",
   "execution_count": 21,
   "metadata": {},
   "outputs": [
    {
     "data": {
      "text/plain": [
       "array([ 10,   1,   2, 399, 301,   4,   5,   6,   7,   8,   9])"
      ]
     },
     "execution_count": 21,
     "metadata": {},
     "output_type": "execute_result"
    }
   ],
   "source": [
    "body_ids"
   ]
  },
  {
   "cell_type": "code",
   "execution_count": 22,
   "metadata": {},
   "outputs": [
    {
     "data": {
      "text/plain": [
       "array(['Sun', 'Mercury Barycenter', 'Venus Barycenter', 'Earth', 'Moon',\n",
       "       'Mars Barycenter', 'Jupiter Barycenter', 'Saturn Barycenter',\n",
       "       'Uranus Barycenter', 'Neptune Barycenter', 'Pluto Barycenter'],\n",
       "      dtype=object)"
      ]
     },
     "execution_count": 22,
     "metadata": {},
     "output_type": "execute_result"
    }
   ],
   "source": [
    "body_names"
   ]
  },
  {
   "cell_type": "code",
   "execution_count": 23,
   "metadata": {},
   "outputs": [],
   "source": [
    "# This way, time is indexed from t0=0 to t1 = (dt1-dt0)\n",
    "t0: float = 0.0\n",
    "t1: float = mjd1 - mjd0\n",
    "t_epoch: float = float(epoch) - mjd0\n",
    "\n",
    "# Create copies of the simulation to integrate forward and backward\n",
    "sim_fwd: rebound.Simulation = sim_epoch.copy()\n",
    "sim_back: rebound.Simulation = sim_epoch.copy()\n",
    "\n",
    "# Set the time counter on both simulation copies to the epoch time\n",
    "sim_fwd.t = t_epoch\n",
    "sim_back.t = t_epoch\n",
    "# Flip sign of dt on sim_back\n",
    "sim_back.dt *= -1.0\n",
    "\n",
    "# Set the times for snapshots in both directions;\n",
    "ts: np.array = np.arange(t0, t1+time_step, time_step)\n",
    "idx: int = np.searchsorted(ts, t_epoch, side='left')\n",
    "ts_fwd: np.array = ts[idx:]\n",
    "ts_back: np.array = ts[:idx][::-1]\n",
    "\n",
    "# The epochs corresponding to the times in ts; as MJD and as datetime\n",
    "epochs: np.array = ts + (epoch - t_epoch)"
   ]
  },
  {
   "cell_type": "code",
   "execution_count": 26,
   "metadata": {},
   "outputs": [],
   "source": [
    "# Number of snapshots\n",
    "M_back: int = len(ts_back)\n",
    "M_fwd: int = len(ts_fwd)\n",
    "M: int = M_back + M_fwd\n",
    "# Number of particles\n",
    "N: int = sim_epoch.N\n",
    "\n",
    "# Initialize arrays for the position and velocity\n",
    "shape_qv: Tuple[int] = (M, N, 3)\n",
    "q: np.array = np.zeros(shape_qv, dtype=np.float64)\n",
    "v: np.array = np.zeros(shape_qv, dtype=np.float64)"
   ]
  },
  {
   "cell_type": "code",
   "execution_count": null,
   "metadata": {},
   "outputs": [],
   "source": []
  }
 ],
 "metadata": {
  "kernelspec": {
   "display_name": "Python [conda env:kepler]",
   "language": "python",
   "name": "conda-env-kepler-py"
  },
  "language_info": {
   "codemirror_mode": {
    "name": "ipython",
    "version": 3
   },
   "file_extension": ".py",
   "mimetype": "text/x-python",
   "name": "python",
   "nbconvert_exporter": "python",
   "pygments_lexer": "ipython3",
   "version": "3.8.2"
  }
 },
 "nbformat": 4,
 "nbformat_minor": 4
}
