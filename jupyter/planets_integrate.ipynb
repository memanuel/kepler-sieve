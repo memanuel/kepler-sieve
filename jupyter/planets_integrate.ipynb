{
 "cells": [
  {
   "cell_type": "code",
   "execution_count": 1,
   "metadata": {},
   "outputs": [],
   "source": [
    "# Core\n",
    "import numpy as np\n",
    "import pandas as pd\n",
    "import dask.dataframe as dd\n",
    "import dask.multiprocessing\n",
    "\n",
    "import glob\n",
    "\n",
    "# Astronomy\n",
    "import rebound"
   ]
  },
  {
   "cell_type": "code",
   "execution_count": 2,
   "metadata": {},
   "outputs": [],
   "source": [
    "# Local imports\n",
    "import kepler_sieve\n",
    "from horizons import make_sim_horizons\n",
    "from rebound_sim import make_sim_planets\n",
    "from rebound_integrate import integrate_numpy, integrate_df\n",
    "from planets_test import get_integration_diff\n",
    "from db_config import db_engine\n",
    "from db_utils import sp2df, get_columns, df2csv, csv2db_stage, csv2db, csvs2db"
   ]
  },
  {
   "cell_type": "code",
   "execution_count": 3,
   "metadata": {},
   "outputs": [],
   "source": [
    "# Typing\n",
    "from typing import Tuple"
   ]
  },
  {
   "cell_type": "code",
   "execution_count": 4,
   "metadata": {},
   "outputs": [],
   "source": [
    "dir_csv: str = '../data/df2db'\n",
    "schema = 'KS'\n",
    "table = 'StateVectors_Planets'\n"
   ]
  },
  {
   "cell_type": "code",
   "execution_count": 5,
   "metadata": {},
   "outputs": [],
   "source": [
    "search_path = os.path.join(dir_csv, table, f'{table}-chunk*.csv')\n",
    "fnames_csv = glob.glob(search_path)\n",
    "fnames_csv.sort()\n"
   ]
  },
  {
   "cell_type": "code",
   "execution_count": 6,
   "metadata": {},
   "outputs": [],
   "source": [
    "# fnames_csv"
   ]
  },
  {
   "cell_type": "code",
   "execution_count": 7,
   "metadata": {},
   "outputs": [
    {
     "output_type": "execute_result",
     "data": {
      "text/plain": [
       "          TimeID  BodyID           MJD        qx        qy        qz  \\\n",
       "0       69120000      10  48000.000000 -0.000087  0.000283 -0.000038   \n",
       "1       69120000       1  48000.000000 -0.368024  0.060541  0.038664   \n",
       "2       69120000       2  48000.000000 -0.078729 -0.722042 -0.005349   \n",
       "3       69120000     399  48000.000000 -0.880033 -0.483797 -0.000050   \n",
       "4       69120000     301  48000.000000 -0.878467 -0.485862 -0.000074   \n",
       "...          ...     ...           ...       ...       ...       ...   \n",
       "524283  69358310       1  48165.493056 -0.146997  0.282619  0.036548   \n",
       "524284  69358310       2  48165.493056 -0.703864  0.139536  0.042519   \n",
       "524285  69358310     399  48165.493056  0.991662  0.142976 -0.000048   \n",
       "524286  69358310     301  48165.493056  0.993849  0.141672  0.000043   \n",
       "524287  69358310       4  48165.493056  1.200931  0.792782 -0.012982   \n",
       "\n",
       "              vx        vy            vz  \n",
       "0       0.000005  0.000001 -8.899307e-08  \n",
       "1      -0.010381 -0.026552 -1.215214e-03  \n",
       "2       0.019977 -0.002266 -1.183946e-03  \n",
       "3       0.008013 -0.015142 -1.027002e-06  \n",
       "4       0.008452 -0.014761  5.031420e-05  \n",
       "...          ...       ...           ...  \n",
       "524283 -0.030576 -0.011980  1.828841e-03  \n",
       "524284 -0.004015 -0.019932 -3.993473e-05  \n",
       "524285 -0.002725  0.016961 -2.924596e-07  \n",
       "524286 -0.002455  0.017491  4.658083e-05  \n",
       "524287 -0.007166  0.012874  4.458976e-04  \n",
       "\n",
       "[524288 rows x 9 columns]"
      ],
      "text/html": "<div>\n<style scoped>\n    .dataframe tbody tr th:only-of-type {\n        vertical-align: middle;\n    }\n\n    .dataframe tbody tr th {\n        vertical-align: top;\n    }\n\n    .dataframe thead th {\n        text-align: right;\n    }\n</style>\n<table border=\"1\" class=\"dataframe\">\n  <thead>\n    <tr style=\"text-align: right;\">\n      <th></th>\n      <th>TimeID</th>\n      <th>BodyID</th>\n      <th>MJD</th>\n      <th>qx</th>\n      <th>qy</th>\n      <th>qz</th>\n      <th>vx</th>\n      <th>vy</th>\n      <th>vz</th>\n    </tr>\n  </thead>\n  <tbody>\n    <tr>\n      <th>0</th>\n      <td>69120000</td>\n      <td>10</td>\n      <td>48000.000000</td>\n      <td>-0.000087</td>\n      <td>0.000283</td>\n      <td>-0.000038</td>\n      <td>0.000005</td>\n      <td>0.000001</td>\n      <td>-8.899307e-08</td>\n    </tr>\n    <tr>\n      <th>1</th>\n      <td>69120000</td>\n      <td>1</td>\n      <td>48000.000000</td>\n      <td>-0.368024</td>\n      <td>0.060541</td>\n      <td>0.038664</td>\n      <td>-0.010381</td>\n      <td>-0.026552</td>\n      <td>-1.215214e-03</td>\n    </tr>\n    <tr>\n      <th>2</th>\n      <td>69120000</td>\n      <td>2</td>\n      <td>48000.000000</td>\n      <td>-0.078729</td>\n      <td>-0.722042</td>\n      <td>-0.005349</td>\n      <td>0.019977</td>\n      <td>-0.002266</td>\n      <td>-1.183946e-03</td>\n    </tr>\n    <tr>\n      <th>3</th>\n      <td>69120000</td>\n      <td>399</td>\n      <td>48000.000000</td>\n      <td>-0.880033</td>\n      <td>-0.483797</td>\n      <td>-0.000050</td>\n      <td>0.008013</td>\n      <td>-0.015142</td>\n      <td>-1.027002e-06</td>\n    </tr>\n    <tr>\n      <th>4</th>\n      <td>69120000</td>\n      <td>301</td>\n      <td>48000.000000</td>\n      <td>-0.878467</td>\n      <td>-0.485862</td>\n      <td>-0.000074</td>\n      <td>0.008452</td>\n      <td>-0.014761</td>\n      <td>5.031420e-05</td>\n    </tr>\n    <tr>\n      <th>...</th>\n      <td>...</td>\n      <td>...</td>\n      <td>...</td>\n      <td>...</td>\n      <td>...</td>\n      <td>...</td>\n      <td>...</td>\n      <td>...</td>\n      <td>...</td>\n    </tr>\n    <tr>\n      <th>524283</th>\n      <td>69358310</td>\n      <td>1</td>\n      <td>48165.493056</td>\n      <td>-0.146997</td>\n      <td>0.282619</td>\n      <td>0.036548</td>\n      <td>-0.030576</td>\n      <td>-0.011980</td>\n      <td>1.828841e-03</td>\n    </tr>\n    <tr>\n      <th>524284</th>\n      <td>69358310</td>\n      <td>2</td>\n      <td>48165.493056</td>\n      <td>-0.703864</td>\n      <td>0.139536</td>\n      <td>0.042519</td>\n      <td>-0.004015</td>\n      <td>-0.019932</td>\n      <td>-3.993473e-05</td>\n    </tr>\n    <tr>\n      <th>524285</th>\n      <td>69358310</td>\n      <td>399</td>\n      <td>48165.493056</td>\n      <td>0.991662</td>\n      <td>0.142976</td>\n      <td>-0.000048</td>\n      <td>-0.002725</td>\n      <td>0.016961</td>\n      <td>-2.924596e-07</td>\n    </tr>\n    <tr>\n      <th>524286</th>\n      <td>69358310</td>\n      <td>301</td>\n      <td>48165.493056</td>\n      <td>0.993849</td>\n      <td>0.141672</td>\n      <td>0.000043</td>\n      <td>-0.002455</td>\n      <td>0.017491</td>\n      <td>4.658083e-05</td>\n    </tr>\n    <tr>\n      <th>524287</th>\n      <td>69358310</td>\n      <td>4</td>\n      <td>48165.493056</td>\n      <td>1.200931</td>\n      <td>0.792782</td>\n      <td>-0.012982</td>\n      <td>-0.007166</td>\n      <td>0.012874</td>\n      <td>4.458976e-04</td>\n    </tr>\n  </tbody>\n</table>\n<p>524288 rows × 9 columns</p>\n</div>"
     },
     "metadata": {},
     "execution_count": 7
    }
   ],
   "source": [
    "fname = '/home/michael/Harvard/kepler-sieve/data/df2db/StateVectors_Planets/StateVectors_Planets-chunk-00.csv'\n",
    "df = pd.read_csv(fname)\n",
    "df"
   ]
  },
  {
   "cell_type": "code",
   "execution_count": 8,
   "metadata": {},
   "outputs": [],
   "source": [
    "def dfvec2elt(df_vec: pd.DataFrame, sim: rebound.Simulation):\n",
    "    \"\"\"\n",
    "    Generate DataFrame of orbital elements from an input DataFrame of state vectors.\n",
    "    INPUTS:\n",
    "        df_vec: DataFrame of state vectors\n",
    "        sim:    Rebound simulation of the all the objects under consideration\n",
    "    OUTPUTS:\n",
    "        df_elt: DataFrame of orbital elements.  Outputs include a, e, inc, Omega, omega, f, M\n",
    "    \"\"\"\n",
    "    pass"
   ]
  },
  {
   "cell_type": "code",
   "execution_count": 10,
   "metadata": {},
   "outputs": [],
   "source": [
    "# # Shape: M time steps, N bodies\n",
    "# M: int = 0\n",
    "# N: int = 0\n",
    "\n",
    "# # Arrays for a, e, inc, Omega, omega, f, M\n",
    "# shape_elt: Tuple[int] = (M, N)\n",
    "# orb_a: np.array = np.full(shape_elt, fill_value=np.nan, dtype=np.float64)\n",
    "# orb_e: np.array = np.full(shape_elt, fill_value=np.nan, dtype=np.float64)\n",
    "# orb_inc: np.array = np.full(shape_elt, fill_value=np.nan, dtype=np.float64)\n",
    "# orb_Omega: np.array = np.full(shape_elt, fill_value=np.nan, dtype=np.float64)\n",
    "# orb_omega: np.array = np.full(shape_elt, fill_value=np.nan, dtype=np.float64)\n",
    "# orb_f: np.array = np.full(shape_elt, fill_value=np.nan, dtype=np.float64)\n",
    "# orb_M: np.array = np.full(shape_elt, fill_value=np.nan, dtype=np.float64)\n",
    "\n",
    "# # Wrap these into a named tuple\n",
    "# elts: OrbitalElement = \\\n",
    "#     OrbitalElement(a=orb_a, e=orb_e, inc=orb_inc,\n",
    "#                     Omega=orb_Omega, omega=orb_omega, f=orb_f, M=orb_M)"
   ]
  },
  {
   "cell_type": "code",
   "execution_count": 11,
   "metadata": {},
   "outputs": [
    {
     "output_type": "stream",
     "name": "stdout",
     "text": [
      "Added bodies to simulation.\n"
     ]
    }
   ],
   "source": [
    "# Make sim with planets\n",
    "epoch = 59000\n",
    "sim_epoch = make_sim_planets(epoch=epoch)"
   ]
  },
  {
   "cell_type": "code",
   "execution_count": 12,
   "metadata": {},
   "outputs": [],
   "source": [
    "# Date range to process\n",
    "mjd0: int = epoch-100\n",
    "mjd1: int = epoch+100"
   ]
  },
  {
   "cell_type": "code",
   "execution_count": 13,
   "metadata": {},
   "outputs": [],
   "source": [
    "# Shared time_step and save_step\n",
    "steps_per_day: int = 1\n",
    "\n",
    "# Flags for building simulation archive\n",
    "save_elements: bool = True\n",
    "progbar: bool = True"
   ]
  },
  {
   "cell_type": "code",
   "execution_count": 14,
   "metadata": {},
   "outputs": [],
   "source": [
    "# Save simulation as Numpy arrays\n",
    "# body_ids, body_names, epochs, q, v, elts = integrate_numpy(sim_epoch=sim_epoch, mjd0=mjd0, mjd1=mjd1, time_step=time_step, save_elements=save_elements, progbar=True)"
   ]
  },
  {
   "cell_type": "code",
   "execution_count": 15,
   "metadata": {},
   "outputs": [
    {
     "output_type": "display_data",
     "data": {
      "text/plain": "  0%|          | 0/101 [00:00<?, ?it/s]",
      "application/vnd.jupyter.widget-view+json": {
       "version_major": 2,
       "version_minor": 0,
       "model_id": "0b77e85abea04d478ee0b2d227f73ee4"
      }
     },
     "metadata": {}
    },
    {
     "output_type": "display_data",
     "data": {
      "text/plain": "  0%|          | 0/100 [00:00<?, ?it/s]",
      "application/vnd.jupyter.widget-view+json": {
       "version_major": 2,
       "version_minor": 0,
       "model_id": "677a9c4e9ded41a8a49f2466aac36c2e"
      }
     },
     "metadata": {}
    }
   ],
   "source": [
    "df = integrate_df(sim_epoch=sim_epoch, mjd0=mjd0, mjd1=mjd1, steps_per_day=steps_per_day, save_elements=save_elements, progbar=True)"
   ]
  },
  {
   "cell_type": "code",
   "execution_count": 16,
   "metadata": {},
   "outputs": [
    {
     "output_type": "execute_result",
     "data": {
      "text/plain": [
       "     TimeID  BodyID      MJD         qx         qy        qz        vx  \\\n",
       "0  84816000      10  58900.0  -0.004221   0.007326  0.000035 -0.000008   \n",
       "1  84816000       1  58900.0  -0.217196   0.256225  0.039910 -0.027079   \n",
       "2  84816000       2  58900.0   0.047415   0.725334  0.006907 -0.020251   \n",
       "3  84816000     399  58900.0  -0.873491   0.478566  0.000017 -0.008494   \n",
       "4  84816000     301  58900.0  -0.872089   0.476317 -0.000083 -0.007999   \n",
       "5  84816000       4  58900.0  -0.784999  -1.305526 -0.008318  0.012547   \n",
       "6  84816000       5  58900.0   0.898803  -5.122727  0.001138  0.007340   \n",
       "7  84816000       6  58900.0   4.039565  -9.170298 -0.001362  0.004796   \n",
       "8  84816000       7  58900.0  16.104182  11.540741 -0.165769 -0.002320   \n",
       "9  84816000       8  58900.0  29.271555  -6.202268 -0.546868  0.000630   \n",
       "\n",
       "         vy            vz          a         e       inc     Omega     omega  \\\n",
       "0 -0.000002  2.283442e-07        NaN       NaN       NaN       NaN       NaN   \n",
       "1 -0.017177  1.080142e-03   0.387097  0.205652  0.122239  0.843105  0.509335   \n",
       "2  0.001344  1.186871e-03   0.723328  0.006747  0.059246  1.337354  0.957278   \n",
       "3 -0.015196  1.518513e-06   1.000768  0.017385  0.000077  2.886969 -1.065969   \n",
       "4 -0.014910 -4.543185e-05   0.002577  0.046343  0.089001  1.691851  1.293892   \n",
       "5 -0.005955 -4.325253e-04   1.523691  0.093487  0.032254  0.863961 -1.280166   \n",
       "6  0.001664 -1.711022e-04   5.203469  0.048696  0.022752  1.754349 -1.509899   \n",
       "7  0.002233 -2.297898e-04   9.580375  0.051093  0.043393  1.982610 -0.388304   \n",
       "8  0.003014  4.124782e-05  19.178276  0.046451  0.013448  1.293048  1.723148   \n",
       "9  0.003090 -7.813982e-05  30.199682  0.010196  0.030895  2.299890 -1.986125   \n",
       "\n",
       "          f         M  \n",
       "0       NaN       NaN  \n",
       "1  0.927129  0.627633  \n",
       "2 -0.795348 -0.785747  \n",
       "3  0.823827  0.798538  \n",
       "4 -3.997685  2.213882  \n",
       "5 -1.691031 -1.504104  \n",
       "6  4.642178 -1.543644  \n",
       "7 -2.750078 -2.709661  \n",
       "8 -2.394865 -2.330122  \n",
       "9 -0.522547 -0.512437  "
      ],
      "text/html": "<div>\n<style scoped>\n    .dataframe tbody tr th:only-of-type {\n        vertical-align: middle;\n    }\n\n    .dataframe tbody tr th {\n        vertical-align: top;\n    }\n\n    .dataframe thead th {\n        text-align: right;\n    }\n</style>\n<table border=\"1\" class=\"dataframe\">\n  <thead>\n    <tr style=\"text-align: right;\">\n      <th></th>\n      <th>TimeID</th>\n      <th>BodyID</th>\n      <th>MJD</th>\n      <th>qx</th>\n      <th>qy</th>\n      <th>qz</th>\n      <th>vx</th>\n      <th>vy</th>\n      <th>vz</th>\n      <th>a</th>\n      <th>e</th>\n      <th>inc</th>\n      <th>Omega</th>\n      <th>omega</th>\n      <th>f</th>\n      <th>M</th>\n    </tr>\n  </thead>\n  <tbody>\n    <tr>\n      <th>0</th>\n      <td>84816000</td>\n      <td>10</td>\n      <td>58900.0</td>\n      <td>-0.004221</td>\n      <td>0.007326</td>\n      <td>0.000035</td>\n      <td>-0.000008</td>\n      <td>-0.000002</td>\n      <td>2.283442e-07</td>\n      <td>NaN</td>\n      <td>NaN</td>\n      <td>NaN</td>\n      <td>NaN</td>\n      <td>NaN</td>\n      <td>NaN</td>\n      <td>NaN</td>\n    </tr>\n    <tr>\n      <th>1</th>\n      <td>84816000</td>\n      <td>1</td>\n      <td>58900.0</td>\n      <td>-0.217196</td>\n      <td>0.256225</td>\n      <td>0.039910</td>\n      <td>-0.027079</td>\n      <td>-0.017177</td>\n      <td>1.080142e-03</td>\n      <td>0.387097</td>\n      <td>0.205652</td>\n      <td>0.122239</td>\n      <td>0.843105</td>\n      <td>0.509335</td>\n      <td>0.927129</td>\n      <td>0.627633</td>\n    </tr>\n    <tr>\n      <th>2</th>\n      <td>84816000</td>\n      <td>2</td>\n      <td>58900.0</td>\n      <td>0.047415</td>\n      <td>0.725334</td>\n      <td>0.006907</td>\n      <td>-0.020251</td>\n      <td>0.001344</td>\n      <td>1.186871e-03</td>\n      <td>0.723328</td>\n      <td>0.006747</td>\n      <td>0.059246</td>\n      <td>1.337354</td>\n      <td>0.957278</td>\n      <td>-0.795348</td>\n      <td>-0.785747</td>\n    </tr>\n    <tr>\n      <th>3</th>\n      <td>84816000</td>\n      <td>399</td>\n      <td>58900.0</td>\n      <td>-0.873491</td>\n      <td>0.478566</td>\n      <td>0.000017</td>\n      <td>-0.008494</td>\n      <td>-0.015196</td>\n      <td>1.518513e-06</td>\n      <td>1.000768</td>\n      <td>0.017385</td>\n      <td>0.000077</td>\n      <td>2.886969</td>\n      <td>-1.065969</td>\n      <td>0.823827</td>\n      <td>0.798538</td>\n    </tr>\n    <tr>\n      <th>4</th>\n      <td>84816000</td>\n      <td>301</td>\n      <td>58900.0</td>\n      <td>-0.872089</td>\n      <td>0.476317</td>\n      <td>-0.000083</td>\n      <td>-0.007999</td>\n      <td>-0.014910</td>\n      <td>-4.543185e-05</td>\n      <td>0.002577</td>\n      <td>0.046343</td>\n      <td>0.089001</td>\n      <td>1.691851</td>\n      <td>1.293892</td>\n      <td>-3.997685</td>\n      <td>2.213882</td>\n    </tr>\n    <tr>\n      <th>5</th>\n      <td>84816000</td>\n      <td>4</td>\n      <td>58900.0</td>\n      <td>-0.784999</td>\n      <td>-1.305526</td>\n      <td>-0.008318</td>\n      <td>0.012547</td>\n      <td>-0.005955</td>\n      <td>-4.325253e-04</td>\n      <td>1.523691</td>\n      <td>0.093487</td>\n      <td>0.032254</td>\n      <td>0.863961</td>\n      <td>-1.280166</td>\n      <td>-1.691031</td>\n      <td>-1.504104</td>\n    </tr>\n    <tr>\n      <th>6</th>\n      <td>84816000</td>\n      <td>5</td>\n      <td>58900.0</td>\n      <td>0.898803</td>\n      <td>-5.122727</td>\n      <td>0.001138</td>\n      <td>0.007340</td>\n      <td>0.001664</td>\n      <td>-1.711022e-04</td>\n      <td>5.203469</td>\n      <td>0.048696</td>\n      <td>0.022752</td>\n      <td>1.754349</td>\n      <td>-1.509899</td>\n      <td>4.642178</td>\n      <td>-1.543644</td>\n    </tr>\n    <tr>\n      <th>7</th>\n      <td>84816000</td>\n      <td>6</td>\n      <td>58900.0</td>\n      <td>4.039565</td>\n      <td>-9.170298</td>\n      <td>-0.001362</td>\n      <td>0.004796</td>\n      <td>0.002233</td>\n      <td>-2.297898e-04</td>\n      <td>9.580375</td>\n      <td>0.051093</td>\n      <td>0.043393</td>\n      <td>1.982610</td>\n      <td>-0.388304</td>\n      <td>-2.750078</td>\n      <td>-2.709661</td>\n    </tr>\n    <tr>\n      <th>8</th>\n      <td>84816000</td>\n      <td>7</td>\n      <td>58900.0</td>\n      <td>16.104182</td>\n      <td>11.540741</td>\n      <td>-0.165769</td>\n      <td>-0.002320</td>\n      <td>0.003014</td>\n      <td>4.124782e-05</td>\n      <td>19.178276</td>\n      <td>0.046451</td>\n      <td>0.013448</td>\n      <td>1.293048</td>\n      <td>1.723148</td>\n      <td>-2.394865</td>\n      <td>-2.330122</td>\n    </tr>\n    <tr>\n      <th>9</th>\n      <td>84816000</td>\n      <td>8</td>\n      <td>58900.0</td>\n      <td>29.271555</td>\n      <td>-6.202268</td>\n      <td>-0.546868</td>\n      <td>0.000630</td>\n      <td>0.003090</td>\n      <td>-7.813982e-05</td>\n      <td>30.199682</td>\n      <td>0.010196</td>\n      <td>0.030895</td>\n      <td>2.299890</td>\n      <td>-1.986125</td>\n      <td>-0.522547</td>\n      <td>-0.512437</td>\n    </tr>\n  </tbody>\n</table>\n</div>"
     },
     "metadata": {},
     "execution_count": 16
    }
   ],
   "source": [
    "df[0:10]"
   ]
  },
  {
   "cell_type": "code",
   "execution_count": 17,
   "metadata": {},
   "outputs": [],
   "source": [
    "mjd0 = 55350\n",
    "mjd1 = 62650\n",
    "body_collection = 'Planets'\n",
    "# dfd = get_integration_diff(body_collection='Planets', mjd0=mjd0, mjd1=mjd1, by_date=False)"
   ]
  },
  {
   "cell_type": "code",
   "execution_count": 20,
   "metadata": {},
   "outputs": [
    {
     "output_type": "execute_result",
     "data": {
      "text/plain": [
       "        TimeID      MJD    dq_rel    dv_rel\n",
       "0     79704000  55350.0  0.000005  0.000006\n",
       "1     79705440  55351.0  0.000005  0.000006\n",
       "2     79706880  55352.0  0.000005  0.000006\n",
       "3     79708320  55353.0  0.000005  0.000007\n",
       "4     79709760  55354.0  0.000005  0.000007\n",
       "...        ...      ...       ...       ...\n",
       "7296  90210240  62646.0  0.000004  0.000005\n",
       "7297  90211680  62647.0  0.000004  0.000006\n",
       "7298  90213120  62648.0  0.000005  0.000006\n",
       "7299  90214560  62649.0  0.000005  0.000006\n",
       "7300  90216000  62650.0  0.000005  0.000006\n",
       "\n",
       "[7301 rows x 4 columns]"
      ],
      "text/html": "<div>\n<style scoped>\n    .dataframe tbody tr th:only-of-type {\n        vertical-align: middle;\n    }\n\n    .dataframe tbody tr th {\n        vertical-align: top;\n    }\n\n    .dataframe thead th {\n        text-align: right;\n    }\n</style>\n<table border=\"1\" class=\"dataframe\">\n  <thead>\n    <tr style=\"text-align: right;\">\n      <th></th>\n      <th>TimeID</th>\n      <th>MJD</th>\n      <th>dq_rel</th>\n      <th>dv_rel</th>\n    </tr>\n  </thead>\n  <tbody>\n    <tr>\n      <th>0</th>\n      <td>79704000</td>\n      <td>55350.0</td>\n      <td>0.000005</td>\n      <td>0.000006</td>\n    </tr>\n    <tr>\n      <th>1</th>\n      <td>79705440</td>\n      <td>55351.0</td>\n      <td>0.000005</td>\n      <td>0.000006</td>\n    </tr>\n    <tr>\n      <th>2</th>\n      <td>79706880</td>\n      <td>55352.0</td>\n      <td>0.000005</td>\n      <td>0.000006</td>\n    </tr>\n    <tr>\n      <th>3</th>\n      <td>79708320</td>\n      <td>55353.0</td>\n      <td>0.000005</td>\n      <td>0.000007</td>\n    </tr>\n    <tr>\n      <th>4</th>\n      <td>79709760</td>\n      <td>55354.0</td>\n      <td>0.000005</td>\n      <td>0.000007</td>\n    </tr>\n    <tr>\n      <th>...</th>\n      <td>...</td>\n      <td>...</td>\n      <td>...</td>\n      <td>...</td>\n    </tr>\n    <tr>\n      <th>7296</th>\n      <td>90210240</td>\n      <td>62646.0</td>\n      <td>0.000004</td>\n      <td>0.000005</td>\n    </tr>\n    <tr>\n      <th>7297</th>\n      <td>90211680</td>\n      <td>62647.0</td>\n      <td>0.000004</td>\n      <td>0.000006</td>\n    </tr>\n    <tr>\n      <th>7298</th>\n      <td>90213120</td>\n      <td>62648.0</td>\n      <td>0.000005</td>\n      <td>0.000006</td>\n    </tr>\n    <tr>\n      <th>7299</th>\n      <td>90214560</td>\n      <td>62649.0</td>\n      <td>0.000005</td>\n      <td>0.000006</td>\n    </tr>\n    <tr>\n      <th>7300</th>\n      <td>90216000</td>\n      <td>62650.0</td>\n      <td>0.000005</td>\n      <td>0.000006</td>\n    </tr>\n  </tbody>\n</table>\n<p>7301 rows × 4 columns</p>\n</div>"
     },
     "metadata": {},
     "execution_count": 20
    }
   ],
   "source": [
    "dfd"
   ]
  },
  {
   "cell_type": "code",
   "execution_count": 18,
   "metadata": {},
   "outputs": [
    {
     "output_type": "error",
     "ename": "KeyError",
     "evalue": "'dq'",
     "traceback": [
      "\u001b[0;31m---------------------------------------------------------------------------\u001b[0m",
      "\u001b[0;31mKeyError\u001b[0m                                  Traceback (most recent call last)",
      "\u001b[0;32m~/Anaconda/anaconda3-2020.11/envs/kepler/lib/python3.8/site-packages/pandas/core/indexes/base.py\u001b[0m in \u001b[0;36mget_loc\u001b[0;34m(self, key, method, tolerance)\u001b[0m\n\u001b[1;32m   3079\u001b[0m             \u001b[0;32mtry\u001b[0m\u001b[0;34m:\u001b[0m\u001b[0;34m\u001b[0m\u001b[0;34m\u001b[0m\u001b[0m\n\u001b[0;32m-> 3080\u001b[0;31m                 \u001b[0;32mreturn\u001b[0m \u001b[0mself\u001b[0m\u001b[0;34m.\u001b[0m\u001b[0m_engine\u001b[0m\u001b[0;34m.\u001b[0m\u001b[0mget_loc\u001b[0m\u001b[0;34m(\u001b[0m\u001b[0mcasted_key\u001b[0m\u001b[0;34m)\u001b[0m\u001b[0;34m\u001b[0m\u001b[0;34m\u001b[0m\u001b[0m\n\u001b[0m\u001b[1;32m   3081\u001b[0m             \u001b[0;32mexcept\u001b[0m \u001b[0mKeyError\u001b[0m \u001b[0;32mas\u001b[0m \u001b[0merr\u001b[0m\u001b[0;34m:\u001b[0m\u001b[0;34m\u001b[0m\u001b[0;34m\u001b[0m\u001b[0m\n",
      "\u001b[0;32mpandas/_libs/index.pyx\u001b[0m in \u001b[0;36mpandas._libs.index.IndexEngine.get_loc\u001b[0;34m()\u001b[0m\n",
      "\u001b[0;32mpandas/_libs/index.pyx\u001b[0m in \u001b[0;36mpandas._libs.index.IndexEngine.get_loc\u001b[0;34m()\u001b[0m\n",
      "\u001b[0;32mpandas/_libs/hashtable_class_helper.pxi\u001b[0m in \u001b[0;36mpandas._libs.hashtable.PyObjectHashTable.get_item\u001b[0;34m()\u001b[0m\n",
      "\u001b[0;32mpandas/_libs/hashtable_class_helper.pxi\u001b[0m in \u001b[0;36mpandas._libs.hashtable.PyObjectHashTable.get_item\u001b[0;34m()\u001b[0m\n",
      "\u001b[0;31mKeyError\u001b[0m: 'dq'",
      "\nThe above exception was the direct cause of the following exception:\n",
      "\u001b[0;31mKeyError\u001b[0m                                  Traceback (most recent call last)",
      "\u001b[0;32m<ipython-input-18-95ad7195e14e>\u001b[0m in \u001b[0;36m<module>\u001b[0;34m\u001b[0m\n\u001b[1;32m      4\u001b[0m \u001b[0;34m\u001b[0m\u001b[0m\n\u001b[1;32m      5\u001b[0m \u001b[0;31m# Error on all 11 bodies (Sun, 9 Planets, Moon)\u001b[0m\u001b[0;34m\u001b[0m\u001b[0;34m\u001b[0m\u001b[0;34m\u001b[0m\u001b[0m\n\u001b[0;32m----> 6\u001b[0;31m \u001b[0mmean_dq\u001b[0m \u001b[0;34m=\u001b[0m \u001b[0mnp\u001b[0m\u001b[0;34m.\u001b[0m\u001b[0mmean\u001b[0m\u001b[0;34m(\u001b[0m\u001b[0mdfd\u001b[0m\u001b[0;34m[\u001b[0m\u001b[0;34m'dq'\u001b[0m\u001b[0;34m]\u001b[0m\u001b[0;34m)\u001b[0m\u001b[0;34m\u001b[0m\u001b[0;34m\u001b[0m\u001b[0m\n\u001b[0m\u001b[1;32m      7\u001b[0m \u001b[0mmean_dq_rel\u001b[0m \u001b[0;34m=\u001b[0m \u001b[0mnp\u001b[0m\u001b[0;34m.\u001b[0m\u001b[0mmean\u001b[0m\u001b[0;34m(\u001b[0m\u001b[0mdfd\u001b[0m\u001b[0;34m[\u001b[0m\u001b[0;34m'dq_rel'\u001b[0m\u001b[0;34m]\u001b[0m\u001b[0;34m)\u001b[0m\u001b[0;34m\u001b[0m\u001b[0;34m\u001b[0m\u001b[0m\n\u001b[1;32m      8\u001b[0m \u001b[0;34m\u001b[0m\u001b[0m\n",
      "\u001b[0;32m~/Anaconda/anaconda3-2020.11/envs/kepler/lib/python3.8/site-packages/pandas/core/frame.py\u001b[0m in \u001b[0;36m__getitem__\u001b[0;34m(self, key)\u001b[0m\n\u001b[1;32m   3022\u001b[0m             \u001b[0;32mif\u001b[0m \u001b[0mself\u001b[0m\u001b[0;34m.\u001b[0m\u001b[0mcolumns\u001b[0m\u001b[0;34m.\u001b[0m\u001b[0mnlevels\u001b[0m \u001b[0;34m>\u001b[0m \u001b[0;36m1\u001b[0m\u001b[0;34m:\u001b[0m\u001b[0;34m\u001b[0m\u001b[0;34m\u001b[0m\u001b[0m\n\u001b[1;32m   3023\u001b[0m                 \u001b[0;32mreturn\u001b[0m \u001b[0mself\u001b[0m\u001b[0;34m.\u001b[0m\u001b[0m_getitem_multilevel\u001b[0m\u001b[0;34m(\u001b[0m\u001b[0mkey\u001b[0m\u001b[0;34m)\u001b[0m\u001b[0;34m\u001b[0m\u001b[0;34m\u001b[0m\u001b[0m\n\u001b[0;32m-> 3024\u001b[0;31m             \u001b[0mindexer\u001b[0m \u001b[0;34m=\u001b[0m \u001b[0mself\u001b[0m\u001b[0;34m.\u001b[0m\u001b[0mcolumns\u001b[0m\u001b[0;34m.\u001b[0m\u001b[0mget_loc\u001b[0m\u001b[0;34m(\u001b[0m\u001b[0mkey\u001b[0m\u001b[0;34m)\u001b[0m\u001b[0;34m\u001b[0m\u001b[0;34m\u001b[0m\u001b[0m\n\u001b[0m\u001b[1;32m   3025\u001b[0m             \u001b[0;32mif\u001b[0m \u001b[0mis_integer\u001b[0m\u001b[0;34m(\u001b[0m\u001b[0mindexer\u001b[0m\u001b[0;34m)\u001b[0m\u001b[0;34m:\u001b[0m\u001b[0;34m\u001b[0m\u001b[0;34m\u001b[0m\u001b[0m\n\u001b[1;32m   3026\u001b[0m                 \u001b[0mindexer\u001b[0m \u001b[0;34m=\u001b[0m \u001b[0;34m[\u001b[0m\u001b[0mindexer\u001b[0m\u001b[0;34m]\u001b[0m\u001b[0;34m\u001b[0m\u001b[0;34m\u001b[0m\u001b[0m\n",
      "\u001b[0;32m~/Anaconda/anaconda3-2020.11/envs/kepler/lib/python3.8/site-packages/pandas/core/indexes/base.py\u001b[0m in \u001b[0;36mget_loc\u001b[0;34m(self, key, method, tolerance)\u001b[0m\n\u001b[1;32m   3080\u001b[0m                 \u001b[0;32mreturn\u001b[0m \u001b[0mself\u001b[0m\u001b[0;34m.\u001b[0m\u001b[0m_engine\u001b[0m\u001b[0;34m.\u001b[0m\u001b[0mget_loc\u001b[0m\u001b[0;34m(\u001b[0m\u001b[0mcasted_key\u001b[0m\u001b[0;34m)\u001b[0m\u001b[0;34m\u001b[0m\u001b[0;34m\u001b[0m\u001b[0m\n\u001b[1;32m   3081\u001b[0m             \u001b[0;32mexcept\u001b[0m \u001b[0mKeyError\u001b[0m \u001b[0;32mas\u001b[0m \u001b[0merr\u001b[0m\u001b[0;34m:\u001b[0m\u001b[0;34m\u001b[0m\u001b[0;34m\u001b[0m\u001b[0m\n\u001b[0;32m-> 3082\u001b[0;31m                 \u001b[0;32mraise\u001b[0m \u001b[0mKeyError\u001b[0m\u001b[0;34m(\u001b[0m\u001b[0mkey\u001b[0m\u001b[0;34m)\u001b[0m \u001b[0;32mfrom\u001b[0m \u001b[0merr\u001b[0m\u001b[0;34m\u001b[0m\u001b[0;34m\u001b[0m\u001b[0m\n\u001b[0m\u001b[1;32m   3083\u001b[0m \u001b[0;34m\u001b[0m\u001b[0m\n\u001b[1;32m   3084\u001b[0m         \u001b[0;32mif\u001b[0m \u001b[0mtolerance\u001b[0m \u001b[0;32mis\u001b[0m \u001b[0;32mnot\u001b[0m \u001b[0;32mNone\u001b[0m\u001b[0;34m:\u001b[0m\u001b[0;34m\u001b[0m\u001b[0;34m\u001b[0m\u001b[0m\n",
      "\u001b[0;31mKeyError\u001b[0m: 'dq'"
     ]
    }
   ],
   "source": [
    "    # Get DataFrames of errors by date and for each body\n",
    "    df = get_integration_diff(body_collection=body_collection, mjd0=mjd0, mjd1=mjd1, by_date=False)\n",
    "    dfd = get_integration_diff(body_collection=body_collection, mjd0=mjd0, mjd1=mjd1, by_date=True)\n",
    "    \n",
    "    # Error on all 11 bodies (Sun, 9 Planets, Moon)\n",
    "    mean_dq = np.mean(dfd['dq'])\n",
    "    mean_dq_rel = np.mean(dfd['dq_rel'])\n",
    "\n",
    "    # Error on 11 bodies excluding Mercury\n",
    "    mask = (dfd.BodyID != 1)\n",
    "    dfd_xm = dfd_p[mask].groupby(dfd.TimeID).mean()\n",
    "    mean_dq_xm = np.mean(dfd_xm['dq'])\n",
    "    mean_dq_rel_xm = np.mean(dfd_xm['dq_rel'])\n",
    "\n",
    "    # Report results\n",
    "    print()\n",
    "    print_stars()\n",
    "    print(f'Mean Error - Integration with {body_collection}:')\n",
    "    print('                  All Bodies : Ex Mercury')\n",
    "    print(f'Absolute Error: {mean_dq:5.3e} : {mean_dq_xm:5.3e}')\n",
    "    print(f'Relative Error: {mean_dq_rel:5.3e} : {mean_dq_rel_xm:5.3e}')"
   ]
  },
  {
   "cell_type": "code",
   "execution_count": 14,
   "metadata": {},
   "outputs": [
    {
     "output_type": "execute_result",
     "data": {
      "text/plain": [
       "      TimeID  BodyID      MJD            dq            dv        dq_rel  \\\n",
       "0   79704000       1  55350.0  1.266140e-05  8.906567e-07  3.323542e-05   \n",
       "1   79704000       2  55350.0  6.010629e-06  1.690565e-07  8.309523e-06   \n",
       "2   79704000       4  55350.0  2.133959e-06  1.914419e-08  1.404944e-06   \n",
       "3   79704000       5  55350.0  2.155405e-07  3.161788e-10  4.152260e-08   \n",
       "4   79704000       6  55350.0  2.329974e-08  1.299742e-11  2.450806e-09   \n",
       "5   79704000       7  55350.0  2.996576e-09  2.104896e-12  1.580465e-10   \n",
       "6   79704000       8  55350.0  7.576032e-10  4.911387e-13  2.866826e-11   \n",
       "7   79704000       9  55350.0  1.190573e-09  7.777049e-13  4.126128e-11   \n",
       "8   79704000      10  55350.0  1.255777e-08  6.574643e-12  2.113440e-06   \n",
       "9   79704000     301  55350.0  3.263919e-06  3.440492e-07  3.264163e-06   \n",
       "10  79704000     399  55350.0  3.450215e-06  6.061251e-08  3.450478e-06   \n",
       "11  79705440       1  55351.0  1.305681e-05  9.215719e-07  3.427336e-05   \n",
       "\n",
       "          dv_rel  \n",
       "0   3.221320e-05  \n",
       "1   8.358312e-06  \n",
       "2   1.373448e-06  \n",
       "3   4.195980e-08  \n",
       "4   2.331962e-09  \n",
       "5   5.405252e-10  \n",
       "6   1.777196e-10  \n",
       "7   3.410906e-10  \n",
       "8   8.940150e-07  \n",
       "9   1.998861e-05  \n",
       "10  3.523489e-06  \n",
       "11  3.333134e-05  "
      ],
      "text/html": "<div>\n<style scoped>\n    .dataframe tbody tr th:only-of-type {\n        vertical-align: middle;\n    }\n\n    .dataframe tbody tr th {\n        vertical-align: top;\n    }\n\n    .dataframe thead th {\n        text-align: right;\n    }\n</style>\n<table border=\"1\" class=\"dataframe\">\n  <thead>\n    <tr style=\"text-align: right;\">\n      <th></th>\n      <th>TimeID</th>\n      <th>BodyID</th>\n      <th>MJD</th>\n      <th>dq</th>\n      <th>dv</th>\n      <th>dq_rel</th>\n      <th>dv_rel</th>\n    </tr>\n  </thead>\n  <tbody>\n    <tr>\n      <th>0</th>\n      <td>79704000</td>\n      <td>1</td>\n      <td>55350.0</td>\n      <td>1.266140e-05</td>\n      <td>8.906567e-07</td>\n      <td>3.323542e-05</td>\n      <td>3.221320e-05</td>\n    </tr>\n    <tr>\n      <th>1</th>\n      <td>79704000</td>\n      <td>2</td>\n      <td>55350.0</td>\n      <td>6.010629e-06</td>\n      <td>1.690565e-07</td>\n      <td>8.309523e-06</td>\n      <td>8.358312e-06</td>\n    </tr>\n    <tr>\n      <th>2</th>\n      <td>79704000</td>\n      <td>4</td>\n      <td>55350.0</td>\n      <td>2.133959e-06</td>\n      <td>1.914419e-08</td>\n      <td>1.404944e-06</td>\n      <td>1.373448e-06</td>\n    </tr>\n    <tr>\n      <th>3</th>\n      <td>79704000</td>\n      <td>5</td>\n      <td>55350.0</td>\n      <td>2.155405e-07</td>\n      <td>3.161788e-10</td>\n      <td>4.152260e-08</td>\n      <td>4.195980e-08</td>\n    </tr>\n    <tr>\n      <th>4</th>\n      <td>79704000</td>\n      <td>6</td>\n      <td>55350.0</td>\n      <td>2.329974e-08</td>\n      <td>1.299742e-11</td>\n      <td>2.450806e-09</td>\n      <td>2.331962e-09</td>\n    </tr>\n    <tr>\n      <th>5</th>\n      <td>79704000</td>\n      <td>7</td>\n      <td>55350.0</td>\n      <td>2.996576e-09</td>\n      <td>2.104896e-12</td>\n      <td>1.580465e-10</td>\n      <td>5.405252e-10</td>\n    </tr>\n    <tr>\n      <th>6</th>\n      <td>79704000</td>\n      <td>8</td>\n      <td>55350.0</td>\n      <td>7.576032e-10</td>\n      <td>4.911387e-13</td>\n      <td>2.866826e-11</td>\n      <td>1.777196e-10</td>\n    </tr>\n    <tr>\n      <th>7</th>\n      <td>79704000</td>\n      <td>9</td>\n      <td>55350.0</td>\n      <td>1.190573e-09</td>\n      <td>7.777049e-13</td>\n      <td>4.126128e-11</td>\n      <td>3.410906e-10</td>\n    </tr>\n    <tr>\n      <th>8</th>\n      <td>79704000</td>\n      <td>10</td>\n      <td>55350.0</td>\n      <td>1.255777e-08</td>\n      <td>6.574643e-12</td>\n      <td>2.113440e-06</td>\n      <td>8.940150e-07</td>\n    </tr>\n    <tr>\n      <th>9</th>\n      <td>79704000</td>\n      <td>301</td>\n      <td>55350.0</td>\n      <td>3.263919e-06</td>\n      <td>3.440492e-07</td>\n      <td>3.264163e-06</td>\n      <td>1.998861e-05</td>\n    </tr>\n    <tr>\n      <th>10</th>\n      <td>79704000</td>\n      <td>399</td>\n      <td>55350.0</td>\n      <td>3.450215e-06</td>\n      <td>6.061251e-08</td>\n      <td>3.450478e-06</td>\n      <td>3.523489e-06</td>\n    </tr>\n    <tr>\n      <th>11</th>\n      <td>79705440</td>\n      <td>1</td>\n      <td>55351.0</td>\n      <td>1.305681e-05</td>\n      <td>9.215719e-07</td>\n      <td>3.427336e-05</td>\n      <td>3.333134e-05</td>\n    </tr>\n  </tbody>\n</table>\n</div>"
     },
     "metadata": {},
     "execution_count": 14
    }
   ],
   "source": [
    "dfd[0:12]"
   ]
  },
  {
   "cell_type": "code",
   "execution_count": 20,
   "metadata": {},
   "outputs": [
    {
     "output_type": "execute_result",
     "data": {
      "text/plain": [
       "              TimeID  BodyID      MJD        dq            dv    dq_rel  \\\n",
       "TimeID                                                                    \n",
       "79704000  79704000.0    75.1  55350.0  0.000002  5.932015e-08  0.000002   \n",
       "79705440  79705440.0    75.1  55351.0  0.000002  6.041866e-08  0.000002   \n",
       "79706880  79706880.0    75.1  55352.0  0.000002  6.163453e-08  0.000002   \n",
       "79708320  79708320.0    75.1  55353.0  0.000002  6.293608e-08  0.000002   \n",
       "79709760  79709760.0    75.1  55354.0  0.000002  6.429070e-08  0.000002   \n",
       "...              ...     ...      ...       ...           ...       ...   \n",
       "90210240  90210240.0    75.1  62646.0  0.000002  5.674746e-08  0.000002   \n",
       "90211680  90211680.0    75.1  62647.0  0.000002  5.717010e-08  0.000002   \n",
       "90213120  90213120.0    75.1  62648.0  0.000002  5.752214e-08  0.000002   \n",
       "90214560  90214560.0    75.1  62649.0  0.000002  5.780423e-08  0.000002   \n",
       "90216000  90216000.0    75.1  62650.0  0.000002  5.802102e-08  0.000002   \n",
       "\n",
       "            dv_rel  \n",
       "TimeID              \n",
       "79704000  0.000003  \n",
       "79705440  0.000003  \n",
       "79706880  0.000004  \n",
       "79708320  0.000004  \n",
       "79709760  0.000004  \n",
       "...            ...  \n",
       "90210240  0.000003  \n",
       "90211680  0.000003  \n",
       "90213120  0.000003  \n",
       "90214560  0.000003  \n",
       "90216000  0.000003  \n",
       "\n",
       "[7301 rows x 7 columns]"
      ],
      "text/html": "<div>\n<style scoped>\n    .dataframe tbody tr th:only-of-type {\n        vertical-align: middle;\n    }\n\n    .dataframe tbody tr th {\n        vertical-align: top;\n    }\n\n    .dataframe thead th {\n        text-align: right;\n    }\n</style>\n<table border=\"1\" class=\"dataframe\">\n  <thead>\n    <tr style=\"text-align: right;\">\n      <th></th>\n      <th>TimeID</th>\n      <th>BodyID</th>\n      <th>MJD</th>\n      <th>dq</th>\n      <th>dv</th>\n      <th>dq_rel</th>\n      <th>dv_rel</th>\n    </tr>\n    <tr>\n      <th>TimeID</th>\n      <th></th>\n      <th></th>\n      <th></th>\n      <th></th>\n      <th></th>\n      <th></th>\n      <th></th>\n    </tr>\n  </thead>\n  <tbody>\n    <tr>\n      <th>79704000</th>\n      <td>79704000.0</td>\n      <td>75.1</td>\n      <td>55350.0</td>\n      <td>0.000002</td>\n      <td>5.932015e-08</td>\n      <td>0.000002</td>\n      <td>0.000003</td>\n    </tr>\n    <tr>\n      <th>79705440</th>\n      <td>79705440.0</td>\n      <td>75.1</td>\n      <td>55351.0</td>\n      <td>0.000002</td>\n      <td>6.041866e-08</td>\n      <td>0.000002</td>\n      <td>0.000003</td>\n    </tr>\n    <tr>\n      <th>79706880</th>\n      <td>79706880.0</td>\n      <td>75.1</td>\n      <td>55352.0</td>\n      <td>0.000002</td>\n      <td>6.163453e-08</td>\n      <td>0.000002</td>\n      <td>0.000004</td>\n    </tr>\n    <tr>\n      <th>79708320</th>\n      <td>79708320.0</td>\n      <td>75.1</td>\n      <td>55353.0</td>\n      <td>0.000002</td>\n      <td>6.293608e-08</td>\n      <td>0.000002</td>\n      <td>0.000004</td>\n    </tr>\n    <tr>\n      <th>79709760</th>\n      <td>79709760.0</td>\n      <td>75.1</td>\n      <td>55354.0</td>\n      <td>0.000002</td>\n      <td>6.429070e-08</td>\n      <td>0.000002</td>\n      <td>0.000004</td>\n    </tr>\n    <tr>\n      <th>...</th>\n      <td>...</td>\n      <td>...</td>\n      <td>...</td>\n      <td>...</td>\n      <td>...</td>\n      <td>...</td>\n      <td>...</td>\n    </tr>\n    <tr>\n      <th>90210240</th>\n      <td>90210240.0</td>\n      <td>75.1</td>\n      <td>62646.0</td>\n      <td>0.000002</td>\n      <td>5.674746e-08</td>\n      <td>0.000002</td>\n      <td>0.000003</td>\n    </tr>\n    <tr>\n      <th>90211680</th>\n      <td>90211680.0</td>\n      <td>75.1</td>\n      <td>62647.0</td>\n      <td>0.000002</td>\n      <td>5.717010e-08</td>\n      <td>0.000002</td>\n      <td>0.000003</td>\n    </tr>\n    <tr>\n      <th>90213120</th>\n      <td>90213120.0</td>\n      <td>75.1</td>\n      <td>62648.0</td>\n      <td>0.000002</td>\n      <td>5.752214e-08</td>\n      <td>0.000002</td>\n      <td>0.000003</td>\n    </tr>\n    <tr>\n      <th>90214560</th>\n      <td>90214560.0</td>\n      <td>75.1</td>\n      <td>62649.0</td>\n      <td>0.000002</td>\n      <td>5.780423e-08</td>\n      <td>0.000002</td>\n      <td>0.000003</td>\n    </tr>\n    <tr>\n      <th>90216000</th>\n      <td>90216000.0</td>\n      <td>75.1</td>\n      <td>62650.0</td>\n      <td>0.000002</td>\n      <td>5.802102e-08</td>\n      <td>0.000002</td>\n      <td>0.000003</td>\n    </tr>\n  </tbody>\n</table>\n<p>7301 rows × 7 columns</p>\n</div>"
     },
     "metadata": {},
     "execution_count": 20
    }
   ],
   "source": [
    "# Filter out entries for Mercury\n",
    "mask = (dfd.BodyID != 1)\n",
    "# Take the mean\n",
    "dfd[mask].groupby(dfd.TimeID).mean()"
   ]
  },
  {
   "cell_type": "code",
   "execution_count": 14,
   "metadata": {},
   "outputs": [],
   "source": [
    "# Columns for state vectors and orbital element frames\n",
    "cols_vec = ['TimeID', 'BodyID', 'MJD', 'qx', 'qy', 'qz', 'vx', 'vy', 'vz']\n",
    "cols_elt = ['TimeID', 'BodyID', 'MJD', 'a', 'e', 'inc', 'Omega', 'omega', 'f', 'M']\n",
    "\n",
    "elt_col_map = {\n",
    "    'Omega':'Omega_node', \n",
    "    'omega': 'omega_peri',\n",
    "}\n",
    "\n",
    "# DataFrame with the state vectors\n",
    "df_vec = df[cols_vec]\n",
    "    \n",
    "mask = (df.BodyID != 10)\n",
    "df_elt = df[mask][cols_elt]\n",
    "df_elt.rename(columns=elt_col_map, inplace=True)"
   ]
  },
  {
   "cell_type": "code",
   "execution_count": 15,
   "metadata": {},
   "outputs": [],
   "source": [
    "# columns = get_columns(schema='KS', table='StateVectors')\n",
    "# fname_csv = '~/Harvard/kepler-sieve/data/df2db/Integration_Planets.csv'\n",
    "# chunksize = 1000\n",
    "# fnames_csv = df2csv(df=df, fname_csv=fname_csv, columns=columns, chunksize=chunksize)"
   ]
  },
  {
   "cell_type": "code",
   "execution_count": 16,
   "metadata": {},
   "outputs": [],
   "source": [
    "# pd.read_csv(fnames_csv[0])"
   ]
  },
  {
   "cell_type": "code",
   "execution_count": 17,
   "metadata": {},
   "outputs": [],
   "source": [
    "# i = 0\n",
    "# with db_engine.connect() as conn:    \n",
    "#     csv2db_stage(schema='KS', table='Integration_Planets', columns=columns, fname_csv=fnames_csv[i], i=0, conn=conn)"
   ]
  },
  {
   "cell_type": "code",
   "execution_count": 18,
   "metadata": {},
   "outputs": [],
   "source": [
    "# with db_engine.connect() as conn:    \n",
    "#     csv2db(schema='KS', table='Integration_Planets', columns=columns, i=0, conn=conn)"
   ]
  },
  {
   "cell_type": "code",
   "execution_count": 19,
   "metadata": {},
   "outputs": [],
   "source": [
    "# csvs2db(schema='KS', table='Integration_Planets', fnames_csv=fnames_csv, columns=columns, progbar=True)"
   ]
  },
  {
   "cell_type": "code",
   "execution_count": 20,
   "metadata": {},
   "outputs": [],
   "source": [
    "columns_elt = get_columns(schema='KS', table='OrbitalElements')\n",
    "fname_csv = '~/Harvard/kepler-sieve/data/df2db/OrbitalElements.csv'\n",
    "chunksize = 1000"
   ]
  },
  {
   "cell_type": "code",
   "execution_count": 21,
   "metadata": {},
   "outputs": [
    {
     "output_type": "execute_result",
     "data": {
      "text/plain": [
       "['/home/michael/Harvard/kepler-sieve/data/df2db/OrbitalElements-chunk-0.csv',\n",
       " '/home/michael/Harvard/kepler-sieve/data/df2db/OrbitalElements-chunk-1.csv',\n",
       " '/home/michael/Harvard/kepler-sieve/data/df2db/OrbitalElements-chunk-2.csv']"
      ]
     },
     "metadata": {},
     "execution_count": 21
    }
   ],
   "source": [
    "fnames_csv = df2csv(df=df_elt, fname_csv=fname_csv, columns=columns_elt, chunksize=chunksize)\n",
    "fnames_csv"
   ]
  },
  {
   "cell_type": "code",
   "execution_count": 22,
   "metadata": {},
   "outputs": [
    {
     "output_type": "display_data",
     "data": {
      "text/plain": "  0%|          | 0/3 [00:00<?, ?it/s]",
      "application/vnd.jupyter.widget-view+json": {
       "version_major": 2,
       "version_minor": 0,
       "model_id": "36b9f42ef4a5448b93148b78732363f9"
      }
     },
     "metadata": {}
    }
   ],
   "source": [
    "csvs2db(schema='KS', table='OrbitalElements', fnames_csv=fnames_csv, columns=columns_elt, progbar=True)"
   ]
  },
  {
   "cell_type": "code",
   "execution_count": null,
   "metadata": {},
   "outputs": [],
   "source": []
  }
 ],
 "metadata": {
  "kernelspec": {
   "name": "python3",
   "display_name": "Python 3",
   "language": "python"
  },
  "language_info": {
   "codemirror_mode": {
    "name": "ipython",
    "version": 3
   },
   "file_extension": ".py",
   "mimetype": "text/x-python",
   "name": "python",
   "nbconvert_exporter": "python",
   "pygments_lexer": "ipython3",
   "version": "3.8.5-final"
  }
 },
 "nbformat": 4,
 "nbformat_minor": 4
}