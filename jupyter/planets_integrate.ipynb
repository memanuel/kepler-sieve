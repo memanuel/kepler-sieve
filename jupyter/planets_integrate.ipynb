{
 "cells": [
  {
   "cell_type": "code",
   "execution_count": 1,
   "metadata": {},
   "outputs": [],
   "source": [
    "# Core\n",
    "import numpy as np\n",
    "import pandas as pd\n",
    "import dask.dataframe as dd\n",
    "import dask.multiprocessing\n",
    "\n",
    "import glob\n",
    "\n",
    "# Astronomy\n",
    "import rebound"
   ]
  },
  {
   "cell_type": "code",
   "execution_count": 2,
   "metadata": {},
   "outputs": [],
   "source": [
    "# Local imports\n",
    "import kepler_sieve\n",
    "from horizons import make_sim_horizons\n",
    "from rebound_sim import make_sim_planets\n",
    "from rebound_integrate import integrate_numpy, integrate_df, integrate_mjds, integrate_mjds_df\n",
    "from planets_test import get_integration_diff, live_integration_diff\n",
    "from db_config import db_engine\n",
    "from db_utils import sp2df, get_columns, df2csv, csv2db, csvs2db"
   ]
  },
  {
   "cell_type": "code",
   "execution_count": 3,
   "metadata": {},
   "outputs": [],
   "source": [
    "# Typing\n",
    "from typing import Tuple"
   ]
  },
  {
   "cell_type": "code",
   "execution_count": 4,
   "metadata": {},
   "outputs": [],
   "source": [
    "# Make sim with planets\n",
    "epoch = 59000\n",
    "sim_epoch = make_sim_planets(epoch=epoch)"
   ]
  },
  {
   "cell_type": "code",
   "execution_count": 5,
   "metadata": {},
   "outputs": [],
   "source": [
    "# Date range to process\n",
    "mjd0: int = epoch-100\n",
    "mjd1: int = epoch+100"
   ]
  },
  {
   "cell_type": "code",
   "execution_count": 6,
   "metadata": {},
   "outputs": [],
   "source": [
    "# Shared time_step and save_step\n",
    "steps_per_day: int = 1\n",
    "\n",
    "# Flags for building simulation archive\n",
    "save_elements: bool = True\n",
    "progbar: bool = True"
   ]
  },
  {
   "cell_type": "code",
   "execution_count": 7,
   "metadata": {},
   "outputs": [],
   "source": [
    "# Save simulation as Numpy arrays\n",
    "# body_ids, body_names, epochs, q, v, elts = integrate_numpy(sim_epoch=sim_epoch, mjd0=mjd0, mjd1=mjd1, time_step=time_step, save_elements=save_elements, progbar=True)"
   ]
  },
  {
   "cell_type": "code",
   "execution_count": 8,
   "metadata": {},
   "outputs": [
    {
     "output_type": "display_data",
     "data": {
      "text/plain": "  0%|          | 0/101 [00:00<?, ?it/s]",
      "application/vnd.jupyter.widget-view+json": {
       "version_major": 2,
       "version_minor": 0,
       "model_id": "047d2d4e99594ae19283e34625723609"
      }
     },
     "metadata": {}
    },
    {
     "output_type": "display_data",
     "data": {
      "text/plain": "  0%|          | 0/100 [00:00<?, ?it/s]",
      "application/vnd.jupyter.widget-view+json": {
       "version_major": 2,
       "version_minor": 0,
       "model_id": "4c03bf40b3d94c6f915ae09cbf61c16b"
      }
     },
     "metadata": {}
    }
   ],
   "source": [
    "mjds = np.arange(58900, 59101)\n",
    "body_ids, body_names, q, v, elts = integrate_mjds(sim_epoch=sim_epoch, mjds=mjds, save_elements=True, progbar=True)"
   ]
  },
  {
   "cell_type": "code",
   "execution_count": 9,
   "metadata": {},
   "outputs": [
    {
     "output_type": "display_data",
     "data": {
      "text/plain": "  0%|          | 0/101 [00:00<?, ?it/s]",
      "application/vnd.jupyter.widget-view+json": {
       "version_major": 2,
       "version_minor": 0,
       "model_id": "c45babc6cb18487e8e15664731c1a689"
      }
     },
     "metadata": {}
    },
    {
     "output_type": "display_data",
     "data": {
      "text/plain": "  0%|          | 0/100 [00:00<?, ?it/s]",
      "application/vnd.jupyter.widget-view+json": {
       "version_major": 2,
       "version_minor": 0,
       "model_id": "00c6217ce50b44dbb8edc2e19fbd6e5d"
      }
     },
     "metadata": {}
    }
   ],
   "source": [
    "df = integrate_df(sim_epoch=sim_epoch, mjd0=mjd0, mjd1=mjd1, interval_p=1, interval_q=1, \n",
    "                  save_elements=save_elements, progbar=True)"
   ]
  },
  {
   "cell_type": "code",
   "execution_count": 10,
   "metadata": {},
   "outputs": [
    {
     "output_type": "stream",
     "name": "stdout",
     "text": [
      "Mean relative error: 7.448e-08\n"
     ]
    }
   ],
   "source": [
    "mean_dq_rel = live_integration_diff(df)\n",
    "print(f'Mean relative error: {mean_dq_rel:5.3e}')"
   ]
  },
  {
   "cell_type": "code",
   "execution_count": 14,
   "metadata": {},
   "outputs": [
    {
     "output_type": "display_data",
     "data": {
      "text/plain": "  0%|          | 0/101 [00:00<?, ?it/s]",
      "application/vnd.jupyter.widget-view+json": {
       "version_major": 2,
       "version_minor": 0,
       "model_id": "656b45242b9f4a63ad89e37af6fa1c37"
      }
     },
     "metadata": {}
    },
    {
     "output_type": "display_data",
     "data": {
      "text/plain": "  0%|          | 0/100 [00:00<?, ?it/s]",
      "application/vnd.jupyter.widget-view+json": {
       "version_major": 2,
       "version_minor": 0,
       "model_id": "e650cb3901114877bc8fa3f2c06811c5"
      }
     },
     "metadata": {}
    }
   ],
   "source": [
    "df2 = integrate_mjds_df(sim_epoch=sim_epoch, mjds=mjds, save_elements=True, progbar=True)"
   ]
  },
  {
   "cell_type": "code",
   "execution_count": 15,
   "metadata": {},
   "outputs": [
    {
     "output_type": "execute_result",
     "data": {
      "text/plain": [
       "        TimeID  BodyID    MJD         qx         qy        qz        vx  \\\n",
       "0     84816000      10  58900  -0.004221   0.007326  0.000035 -0.000008   \n",
       "1     84816000       1  58900  -0.217196   0.256225  0.039910 -0.027079   \n",
       "2     84816000       2  58900   0.047415   0.725334  0.006907 -0.020251   \n",
       "3     84816000     399  58900  -0.873491   0.478566  0.000017 -0.008494   \n",
       "4     84816000     301  58900  -0.872089   0.476317 -0.000083 -0.007999   \n",
       "...        ...     ...    ...        ...        ...       ...       ...   \n",
       "2206  85104000       5  59100   2.307919  -4.578456 -0.032642  0.006645   \n",
       "2207  85104000       6  59100   4.973013  -8.670475 -0.047221  0.004529   \n",
       "2208  85104000       7  59100  15.628033  12.134521 -0.157395 -0.002441   \n",
       "2209  85104000       8  59100  29.391047  -5.583021 -0.562374  0.000565   \n",
       "2210  85104000       9  59100  13.715764 -31.221815 -0.626491  0.002947   \n",
       "\n",
       "            vy            vz          a         e       inc     Omega  \\\n",
       "0    -0.000002  2.283442e-07        NaN       NaN       NaN       NaN   \n",
       "1    -0.017177  1.080142e-03   0.387097  0.205652  0.122239  0.843105   \n",
       "2     0.001344  1.186871e-03   0.723328  0.006747  0.059246  1.337354   \n",
       "3    -0.015196  1.518513e-06   1.000768  0.017385  0.000077  2.886969   \n",
       "4    -0.014910 -4.543185e-05   0.002577  0.046343  0.089001  1.691851   \n",
       "...        ...           ...        ...       ...       ...       ...   \n",
       "2206  0.003755 -1.642408e-04   5.203839  0.048653  0.022751  1.754343   \n",
       "2207  0.002761 -2.283492e-04   9.580985  0.051417  0.043393  1.982609   \n",
       "2208  0.002923  4.248123e-05  19.198881  0.045545  0.013446  1.293179   \n",
       "2209  0.003103 -7.691335e-05  30.240421  0.011554  0.030885  2.299663   \n",
       "2210  0.000591 -9.156320e-04  39.850321  0.252369  0.298403  1.925040   \n",
       "\n",
       "         omega         f         M  \n",
       "0          NaN       NaN       NaN  \n",
       "1     0.509335  0.927129  0.627633  \n",
       "2     0.957278 -0.795348 -0.785747  \n",
       "3    -1.065969  0.823827  0.798538  \n",
       "4     1.293892 -3.997685  2.213882  \n",
       "...        ...       ...       ...  \n",
       "2206 -1.511475 -1.346253 -1.252190  \n",
       "2207 -0.402522 -2.629856 -2.577759  \n",
       "2208  1.708384 -2.341829 -2.274924  \n",
       "2209 -2.012439 -0.474894 -0.464409  \n",
       "2210  2.013668 -5.092749  0.756724  \n",
       "\n",
       "[2211 rows x 16 columns]"
      ],
      "text/html": "<div>\n<style scoped>\n    .dataframe tbody tr th:only-of-type {\n        vertical-align: middle;\n    }\n\n    .dataframe tbody tr th {\n        vertical-align: top;\n    }\n\n    .dataframe thead th {\n        text-align: right;\n    }\n</style>\n<table border=\"1\" class=\"dataframe\">\n  <thead>\n    <tr style=\"text-align: right;\">\n      <th></th>\n      <th>TimeID</th>\n      <th>BodyID</th>\n      <th>MJD</th>\n      <th>qx</th>\n      <th>qy</th>\n      <th>qz</th>\n      <th>vx</th>\n      <th>vy</th>\n      <th>vz</th>\n      <th>a</th>\n      <th>e</th>\n      <th>inc</th>\n      <th>Omega</th>\n      <th>omega</th>\n      <th>f</th>\n      <th>M</th>\n    </tr>\n  </thead>\n  <tbody>\n    <tr>\n      <th>0</th>\n      <td>84816000</td>\n      <td>10</td>\n      <td>58900</td>\n      <td>-0.004221</td>\n      <td>0.007326</td>\n      <td>0.000035</td>\n      <td>-0.000008</td>\n      <td>-0.000002</td>\n      <td>2.283442e-07</td>\n      <td>NaN</td>\n      <td>NaN</td>\n      <td>NaN</td>\n      <td>NaN</td>\n      <td>NaN</td>\n      <td>NaN</td>\n      <td>NaN</td>\n    </tr>\n    <tr>\n      <th>1</th>\n      <td>84816000</td>\n      <td>1</td>\n      <td>58900</td>\n      <td>-0.217196</td>\n      <td>0.256225</td>\n      <td>0.039910</td>\n      <td>-0.027079</td>\n      <td>-0.017177</td>\n      <td>1.080142e-03</td>\n      <td>0.387097</td>\n      <td>0.205652</td>\n      <td>0.122239</td>\n      <td>0.843105</td>\n      <td>0.509335</td>\n      <td>0.927129</td>\n      <td>0.627633</td>\n    </tr>\n    <tr>\n      <th>2</th>\n      <td>84816000</td>\n      <td>2</td>\n      <td>58900</td>\n      <td>0.047415</td>\n      <td>0.725334</td>\n      <td>0.006907</td>\n      <td>-0.020251</td>\n      <td>0.001344</td>\n      <td>1.186871e-03</td>\n      <td>0.723328</td>\n      <td>0.006747</td>\n      <td>0.059246</td>\n      <td>1.337354</td>\n      <td>0.957278</td>\n      <td>-0.795348</td>\n      <td>-0.785747</td>\n    </tr>\n    <tr>\n      <th>3</th>\n      <td>84816000</td>\n      <td>399</td>\n      <td>58900</td>\n      <td>-0.873491</td>\n      <td>0.478566</td>\n      <td>0.000017</td>\n      <td>-0.008494</td>\n      <td>-0.015196</td>\n      <td>1.518513e-06</td>\n      <td>1.000768</td>\n      <td>0.017385</td>\n      <td>0.000077</td>\n      <td>2.886969</td>\n      <td>-1.065969</td>\n      <td>0.823827</td>\n      <td>0.798538</td>\n    </tr>\n    <tr>\n      <th>4</th>\n      <td>84816000</td>\n      <td>301</td>\n      <td>58900</td>\n      <td>-0.872089</td>\n      <td>0.476317</td>\n      <td>-0.000083</td>\n      <td>-0.007999</td>\n      <td>-0.014910</td>\n      <td>-4.543185e-05</td>\n      <td>0.002577</td>\n      <td>0.046343</td>\n      <td>0.089001</td>\n      <td>1.691851</td>\n      <td>1.293892</td>\n      <td>-3.997685</td>\n      <td>2.213882</td>\n    </tr>\n    <tr>\n      <th>...</th>\n      <td>...</td>\n      <td>...</td>\n      <td>...</td>\n      <td>...</td>\n      <td>...</td>\n      <td>...</td>\n      <td>...</td>\n      <td>...</td>\n      <td>...</td>\n      <td>...</td>\n      <td>...</td>\n      <td>...</td>\n      <td>...</td>\n      <td>...</td>\n      <td>...</td>\n      <td>...</td>\n    </tr>\n    <tr>\n      <th>2206</th>\n      <td>85104000</td>\n      <td>5</td>\n      <td>59100</td>\n      <td>2.307919</td>\n      <td>-4.578456</td>\n      <td>-0.032642</td>\n      <td>0.006645</td>\n      <td>0.003755</td>\n      <td>-1.642408e-04</td>\n      <td>5.203839</td>\n      <td>0.048653</td>\n      <td>0.022751</td>\n      <td>1.754343</td>\n      <td>-1.511475</td>\n      <td>-1.346253</td>\n      <td>-1.252190</td>\n    </tr>\n    <tr>\n      <th>2207</th>\n      <td>85104000</td>\n      <td>6</td>\n      <td>59100</td>\n      <td>4.973013</td>\n      <td>-8.670475</td>\n      <td>-0.047221</td>\n      <td>0.004529</td>\n      <td>0.002761</td>\n      <td>-2.283492e-04</td>\n      <td>9.580985</td>\n      <td>0.051417</td>\n      <td>0.043393</td>\n      <td>1.982609</td>\n      <td>-0.402522</td>\n      <td>-2.629856</td>\n      <td>-2.577759</td>\n    </tr>\n    <tr>\n      <th>2208</th>\n      <td>85104000</td>\n      <td>7</td>\n      <td>59100</td>\n      <td>15.628033</td>\n      <td>12.134521</td>\n      <td>-0.157395</td>\n      <td>-0.002441</td>\n      <td>0.002923</td>\n      <td>4.248123e-05</td>\n      <td>19.198881</td>\n      <td>0.045545</td>\n      <td>0.013446</td>\n      <td>1.293179</td>\n      <td>1.708384</td>\n      <td>-2.341829</td>\n      <td>-2.274924</td>\n    </tr>\n    <tr>\n      <th>2209</th>\n      <td>85104000</td>\n      <td>8</td>\n      <td>59100</td>\n      <td>29.391047</td>\n      <td>-5.583021</td>\n      <td>-0.562374</td>\n      <td>0.000565</td>\n      <td>0.003103</td>\n      <td>-7.691335e-05</td>\n      <td>30.240421</td>\n      <td>0.011554</td>\n      <td>0.030885</td>\n      <td>2.299663</td>\n      <td>-2.012439</td>\n      <td>-0.474894</td>\n      <td>-0.464409</td>\n    </tr>\n    <tr>\n      <th>2210</th>\n      <td>85104000</td>\n      <td>9</td>\n      <td>59100</td>\n      <td>13.715764</td>\n      <td>-31.221815</td>\n      <td>-0.626491</td>\n      <td>0.002947</td>\n      <td>0.000591</td>\n      <td>-9.156320e-04</td>\n      <td>39.850321</td>\n      <td>0.252369</td>\n      <td>0.298403</td>\n      <td>1.925040</td>\n      <td>2.013668</td>\n      <td>-5.092749</td>\n      <td>0.756724</td>\n    </tr>\n  </tbody>\n</table>\n<p>2211 rows × 16 columns</p>\n</div>"
     },
     "metadata": {},
     "execution_count": 15
    }
   ],
   "source": [
    "df2"
   ]
  },
  {
   "cell_type": "code",
   "execution_count": 13,
   "metadata": {},
   "outputs": [
    {
     "output_type": "execute_result",
     "data": {
      "text/plain": [
       "        TimeID  BodyID      MJD         qx         qy        qz        vx  \\\n",
       "0     84816000      10  58900.0  -0.004221   0.007326  0.000035 -0.000008   \n",
       "1     84816000       1  58900.0  -0.217196   0.256225  0.039910 -0.027079   \n",
       "2     84816000       2  58900.0   0.047415   0.725334  0.006907 -0.020251   \n",
       "3     84816000     399  58900.0  -0.873491   0.478566  0.000017 -0.008494   \n",
       "4     84816000     301  58900.0  -0.872089   0.476317 -0.000083 -0.007999   \n",
       "...        ...     ...      ...        ...        ...       ...       ...   \n",
       "2206  85104000       5  59100.0   2.307919  -4.578456 -0.032642  0.006645   \n",
       "2207  85104000       6  59100.0   4.973013  -8.670475 -0.047221  0.004529   \n",
       "2208  85104000       7  59100.0  15.628033  12.134521 -0.157395 -0.002441   \n",
       "2209  85104000       8  59100.0  29.391047  -5.583021 -0.562374  0.000565   \n",
       "2210  85104000       9  59100.0  13.715764 -31.221815 -0.626491  0.002947   \n",
       "\n",
       "            vy            vz          a         e       inc     Omega  \\\n",
       "0    -0.000002  2.283442e-07        NaN       NaN       NaN       NaN   \n",
       "1    -0.017177  1.080142e-03   0.387097  0.205652  0.122239  0.843105   \n",
       "2     0.001344  1.186871e-03   0.723328  0.006747  0.059246  1.337354   \n",
       "3    -0.015196  1.518513e-06   1.000768  0.017385  0.000077  2.886969   \n",
       "4    -0.014910 -4.543185e-05   0.002577  0.046343  0.089001  1.691851   \n",
       "...        ...           ...        ...       ...       ...       ...   \n",
       "2206  0.003755 -1.642408e-04   5.203839  0.048653  0.022751  1.754343   \n",
       "2207  0.002761 -2.283492e-04   9.580985  0.051417  0.043393  1.982609   \n",
       "2208  0.002923  4.248123e-05  19.198881  0.045545  0.013446  1.293179   \n",
       "2209  0.003103 -7.691335e-05  30.240421  0.011554  0.030885  2.299663   \n",
       "2210  0.000591 -9.156320e-04  39.850321  0.252369  0.298403  1.925040   \n",
       "\n",
       "         omega         f         M  \n",
       "0          NaN       NaN       NaN  \n",
       "1     0.509335  0.927129  0.627633  \n",
       "2     0.957278 -0.795348 -0.785747  \n",
       "3    -1.065969  0.823827  0.798538  \n",
       "4     1.293892 -3.997685  2.213882  \n",
       "...        ...       ...       ...  \n",
       "2206 -1.511475 -1.346253 -1.252190  \n",
       "2207 -0.402522 -2.629856 -2.577759  \n",
       "2208  1.708384 -2.341829 -2.274924  \n",
       "2209 -2.012439 -0.474894 -0.464409  \n",
       "2210  2.013668 -5.092749  0.756724  \n",
       "\n",
       "[2211 rows x 16 columns]"
      ],
      "text/html": "<div>\n<style scoped>\n    .dataframe tbody tr th:only-of-type {\n        vertical-align: middle;\n    }\n\n    .dataframe tbody tr th {\n        vertical-align: top;\n    }\n\n    .dataframe thead th {\n        text-align: right;\n    }\n</style>\n<table border=\"1\" class=\"dataframe\">\n  <thead>\n    <tr style=\"text-align: right;\">\n      <th></th>\n      <th>TimeID</th>\n      <th>BodyID</th>\n      <th>MJD</th>\n      <th>qx</th>\n      <th>qy</th>\n      <th>qz</th>\n      <th>vx</th>\n      <th>vy</th>\n      <th>vz</th>\n      <th>a</th>\n      <th>e</th>\n      <th>inc</th>\n      <th>Omega</th>\n      <th>omega</th>\n      <th>f</th>\n      <th>M</th>\n    </tr>\n  </thead>\n  <tbody>\n    <tr>\n      <th>0</th>\n      <td>84816000</td>\n      <td>10</td>\n      <td>58900.0</td>\n      <td>-0.004221</td>\n      <td>0.007326</td>\n      <td>0.000035</td>\n      <td>-0.000008</td>\n      <td>-0.000002</td>\n      <td>2.283442e-07</td>\n      <td>NaN</td>\n      <td>NaN</td>\n      <td>NaN</td>\n      <td>NaN</td>\n      <td>NaN</td>\n      <td>NaN</td>\n      <td>NaN</td>\n    </tr>\n    <tr>\n      <th>1</th>\n      <td>84816000</td>\n      <td>1</td>\n      <td>58900.0</td>\n      <td>-0.217196</td>\n      <td>0.256225</td>\n      <td>0.039910</td>\n      <td>-0.027079</td>\n      <td>-0.017177</td>\n      <td>1.080142e-03</td>\n      <td>0.387097</td>\n      <td>0.205652</td>\n      <td>0.122239</td>\n      <td>0.843105</td>\n      <td>0.509335</td>\n      <td>0.927129</td>\n      <td>0.627633</td>\n    </tr>\n    <tr>\n      <th>2</th>\n      <td>84816000</td>\n      <td>2</td>\n      <td>58900.0</td>\n      <td>0.047415</td>\n      <td>0.725334</td>\n      <td>0.006907</td>\n      <td>-0.020251</td>\n      <td>0.001344</td>\n      <td>1.186871e-03</td>\n      <td>0.723328</td>\n      <td>0.006747</td>\n      <td>0.059246</td>\n      <td>1.337354</td>\n      <td>0.957278</td>\n      <td>-0.795348</td>\n      <td>-0.785747</td>\n    </tr>\n    <tr>\n      <th>3</th>\n      <td>84816000</td>\n      <td>399</td>\n      <td>58900.0</td>\n      <td>-0.873491</td>\n      <td>0.478566</td>\n      <td>0.000017</td>\n      <td>-0.008494</td>\n      <td>-0.015196</td>\n      <td>1.518513e-06</td>\n      <td>1.000768</td>\n      <td>0.017385</td>\n      <td>0.000077</td>\n      <td>2.886969</td>\n      <td>-1.065969</td>\n      <td>0.823827</td>\n      <td>0.798538</td>\n    </tr>\n    <tr>\n      <th>4</th>\n      <td>84816000</td>\n      <td>301</td>\n      <td>58900.0</td>\n      <td>-0.872089</td>\n      <td>0.476317</td>\n      <td>-0.000083</td>\n      <td>-0.007999</td>\n      <td>-0.014910</td>\n      <td>-4.543185e-05</td>\n      <td>0.002577</td>\n      <td>0.046343</td>\n      <td>0.089001</td>\n      <td>1.691851</td>\n      <td>1.293892</td>\n      <td>-3.997685</td>\n      <td>2.213882</td>\n    </tr>\n    <tr>\n      <th>...</th>\n      <td>...</td>\n      <td>...</td>\n      <td>...</td>\n      <td>...</td>\n      <td>...</td>\n      <td>...</td>\n      <td>...</td>\n      <td>...</td>\n      <td>...</td>\n      <td>...</td>\n      <td>...</td>\n      <td>...</td>\n      <td>...</td>\n      <td>...</td>\n      <td>...</td>\n      <td>...</td>\n    </tr>\n    <tr>\n      <th>2206</th>\n      <td>85104000</td>\n      <td>5</td>\n      <td>59100.0</td>\n      <td>2.307919</td>\n      <td>-4.578456</td>\n      <td>-0.032642</td>\n      <td>0.006645</td>\n      <td>0.003755</td>\n      <td>-1.642408e-04</td>\n      <td>5.203839</td>\n      <td>0.048653</td>\n      <td>0.022751</td>\n      <td>1.754343</td>\n      <td>-1.511475</td>\n      <td>-1.346253</td>\n      <td>-1.252190</td>\n    </tr>\n    <tr>\n      <th>2207</th>\n      <td>85104000</td>\n      <td>6</td>\n      <td>59100.0</td>\n      <td>4.973013</td>\n      <td>-8.670475</td>\n      <td>-0.047221</td>\n      <td>0.004529</td>\n      <td>0.002761</td>\n      <td>-2.283492e-04</td>\n      <td>9.580985</td>\n      <td>0.051417</td>\n      <td>0.043393</td>\n      <td>1.982609</td>\n      <td>-0.402522</td>\n      <td>-2.629856</td>\n      <td>-2.577759</td>\n    </tr>\n    <tr>\n      <th>2208</th>\n      <td>85104000</td>\n      <td>7</td>\n      <td>59100.0</td>\n      <td>15.628033</td>\n      <td>12.134521</td>\n      <td>-0.157395</td>\n      <td>-0.002441</td>\n      <td>0.002923</td>\n      <td>4.248123e-05</td>\n      <td>19.198881</td>\n      <td>0.045545</td>\n      <td>0.013446</td>\n      <td>1.293179</td>\n      <td>1.708384</td>\n      <td>-2.341829</td>\n      <td>-2.274924</td>\n    </tr>\n    <tr>\n      <th>2209</th>\n      <td>85104000</td>\n      <td>8</td>\n      <td>59100.0</td>\n      <td>29.391047</td>\n      <td>-5.583021</td>\n      <td>-0.562374</td>\n      <td>0.000565</td>\n      <td>0.003103</td>\n      <td>-7.691335e-05</td>\n      <td>30.240421</td>\n      <td>0.011554</td>\n      <td>0.030885</td>\n      <td>2.299663</td>\n      <td>-2.012439</td>\n      <td>-0.474894</td>\n      <td>-0.464409</td>\n    </tr>\n    <tr>\n      <th>2210</th>\n      <td>85104000</td>\n      <td>9</td>\n      <td>59100.0</td>\n      <td>13.715764</td>\n      <td>-31.221815</td>\n      <td>-0.626491</td>\n      <td>0.002947</td>\n      <td>0.000591</td>\n      <td>-9.156320e-04</td>\n      <td>39.850321</td>\n      <td>0.252369</td>\n      <td>0.298403</td>\n      <td>1.925040</td>\n      <td>2.013668</td>\n      <td>-5.092749</td>\n      <td>0.756724</td>\n    </tr>\n  </tbody>\n</table>\n<p>2211 rows × 16 columns</p>\n</div>"
     },
     "metadata": {},
     "execution_count": 13
    }
   ],
   "source": [
    "df"
   ]
  },
  {
   "cell_type": "code",
   "execution_count": 16,
   "metadata": {},
   "outputs": [
    {
     "output_type": "execute_result",
     "data": {
      "text/plain": [
       "      TimeID  BodyID   MJD    qx    qy    qz    vx    vy    vz      a      e  \\\n",
       "0       True    True  True  True  True  True  True  True  True  False  False   \n",
       "1       True    True  True  True  True  True  True  True  True   True   True   \n",
       "2       True    True  True  True  True  True  True  True  True   True   True   \n",
       "3       True    True  True  True  True  True  True  True  True   True   True   \n",
       "4       True    True  True  True  True  True  True  True  True   True   True   \n",
       "...      ...     ...   ...   ...   ...   ...   ...   ...   ...    ...    ...   \n",
       "2206    True    True  True  True  True  True  True  True  True   True   True   \n",
       "2207    True    True  True  True  True  True  True  True  True   True   True   \n",
       "2208    True    True  True  True  True  True  True  True  True   True   True   \n",
       "2209    True    True  True  True  True  True  True  True  True   True   True   \n",
       "2210    True    True  True  True  True  True  True  True  True   True   True   \n",
       "\n",
       "        inc  Omega  omega      f      M  \n",
       "0     False  False  False  False  False  \n",
       "1      True   True   True   True   True  \n",
       "2      True   True   True   True   True  \n",
       "3      True   True   True   True   True  \n",
       "4      True   True   True   True   True  \n",
       "...     ...    ...    ...    ...    ...  \n",
       "2206   True   True   True   True   True  \n",
       "2207   True   True   True   True   True  \n",
       "2208   True   True   True   True   True  \n",
       "2209   True   True   True   True   True  \n",
       "2210   True   True   True   True   True  \n",
       "\n",
       "[2211 rows x 16 columns]"
      ],
      "text/html": "<div>\n<style scoped>\n    .dataframe tbody tr th:only-of-type {\n        vertical-align: middle;\n    }\n\n    .dataframe tbody tr th {\n        vertical-align: top;\n    }\n\n    .dataframe thead th {\n        text-align: right;\n    }\n</style>\n<table border=\"1\" class=\"dataframe\">\n  <thead>\n    <tr style=\"text-align: right;\">\n      <th></th>\n      <th>TimeID</th>\n      <th>BodyID</th>\n      <th>MJD</th>\n      <th>qx</th>\n      <th>qy</th>\n      <th>qz</th>\n      <th>vx</th>\n      <th>vy</th>\n      <th>vz</th>\n      <th>a</th>\n      <th>e</th>\n      <th>inc</th>\n      <th>Omega</th>\n      <th>omega</th>\n      <th>f</th>\n      <th>M</th>\n    </tr>\n  </thead>\n  <tbody>\n    <tr>\n      <th>0</th>\n      <td>True</td>\n      <td>True</td>\n      <td>True</td>\n      <td>True</td>\n      <td>True</td>\n      <td>True</td>\n      <td>True</td>\n      <td>True</td>\n      <td>True</td>\n      <td>False</td>\n      <td>False</td>\n      <td>False</td>\n      <td>False</td>\n      <td>False</td>\n      <td>False</td>\n      <td>False</td>\n    </tr>\n    <tr>\n      <th>1</th>\n      <td>True</td>\n      <td>True</td>\n      <td>True</td>\n      <td>True</td>\n      <td>True</td>\n      <td>True</td>\n      <td>True</td>\n      <td>True</td>\n      <td>True</td>\n      <td>True</td>\n      <td>True</td>\n      <td>True</td>\n      <td>True</td>\n      <td>True</td>\n      <td>True</td>\n      <td>True</td>\n    </tr>\n    <tr>\n      <th>2</th>\n      <td>True</td>\n      <td>True</td>\n      <td>True</td>\n      <td>True</td>\n      <td>True</td>\n      <td>True</td>\n      <td>True</td>\n      <td>True</td>\n      <td>True</td>\n      <td>True</td>\n      <td>True</td>\n      <td>True</td>\n      <td>True</td>\n      <td>True</td>\n      <td>True</td>\n      <td>True</td>\n    </tr>\n    <tr>\n      <th>3</th>\n      <td>True</td>\n      <td>True</td>\n      <td>True</td>\n      <td>True</td>\n      <td>True</td>\n      <td>True</td>\n      <td>True</td>\n      <td>True</td>\n      <td>True</td>\n      <td>True</td>\n      <td>True</td>\n      <td>True</td>\n      <td>True</td>\n      <td>True</td>\n      <td>True</td>\n      <td>True</td>\n    </tr>\n    <tr>\n      <th>4</th>\n      <td>True</td>\n      <td>True</td>\n      <td>True</td>\n      <td>True</td>\n      <td>True</td>\n      <td>True</td>\n      <td>True</td>\n      <td>True</td>\n      <td>True</td>\n      <td>True</td>\n      <td>True</td>\n      <td>True</td>\n      <td>True</td>\n      <td>True</td>\n      <td>True</td>\n      <td>True</td>\n    </tr>\n    <tr>\n      <th>...</th>\n      <td>...</td>\n      <td>...</td>\n      <td>...</td>\n      <td>...</td>\n      <td>...</td>\n      <td>...</td>\n      <td>...</td>\n      <td>...</td>\n      <td>...</td>\n      <td>...</td>\n      <td>...</td>\n      <td>...</td>\n      <td>...</td>\n      <td>...</td>\n      <td>...</td>\n      <td>...</td>\n    </tr>\n    <tr>\n      <th>2206</th>\n      <td>True</td>\n      <td>True</td>\n      <td>True</td>\n      <td>True</td>\n      <td>True</td>\n      <td>True</td>\n      <td>True</td>\n      <td>True</td>\n      <td>True</td>\n      <td>True</td>\n      <td>True</td>\n      <td>True</td>\n      <td>True</td>\n      <td>True</td>\n      <td>True</td>\n      <td>True</td>\n    </tr>\n    <tr>\n      <th>2207</th>\n      <td>True</td>\n      <td>True</td>\n      <td>True</td>\n      <td>True</td>\n      <td>True</td>\n      <td>True</td>\n      <td>True</td>\n      <td>True</td>\n      <td>True</td>\n      <td>True</td>\n      <td>True</td>\n      <td>True</td>\n      <td>True</td>\n      <td>True</td>\n      <td>True</td>\n      <td>True</td>\n    </tr>\n    <tr>\n      <th>2208</th>\n      <td>True</td>\n      <td>True</td>\n      <td>True</td>\n      <td>True</td>\n      <td>True</td>\n      <td>True</td>\n      <td>True</td>\n      <td>True</td>\n      <td>True</td>\n      <td>True</td>\n      <td>True</td>\n      <td>True</td>\n      <td>True</td>\n      <td>True</td>\n      <td>True</td>\n      <td>True</td>\n    </tr>\n    <tr>\n      <th>2209</th>\n      <td>True</td>\n      <td>True</td>\n      <td>True</td>\n      <td>True</td>\n      <td>True</td>\n      <td>True</td>\n      <td>True</td>\n      <td>True</td>\n      <td>True</td>\n      <td>True</td>\n      <td>True</td>\n      <td>True</td>\n      <td>True</td>\n      <td>True</td>\n      <td>True</td>\n      <td>True</td>\n    </tr>\n    <tr>\n      <th>2210</th>\n      <td>True</td>\n      <td>True</td>\n      <td>True</td>\n      <td>True</td>\n      <td>True</td>\n      <td>True</td>\n      <td>True</td>\n      <td>True</td>\n      <td>True</td>\n      <td>True</td>\n      <td>True</td>\n      <td>True</td>\n      <td>True</td>\n      <td>True</td>\n      <td>True</td>\n      <td>True</td>\n    </tr>\n  </tbody>\n</table>\n<p>2211 rows × 16 columns</p>\n</div>"
     },
     "metadata": {},
     "execution_count": 16
    }
   ],
   "source": [
    "df2==df"
   ]
  },
  {
   "cell_type": "code",
   "execution_count": null,
   "metadata": {},
   "outputs": [],
   "source": []
  }
 ],
 "metadata": {
  "kernelspec": {
   "name": "python3",
   "display_name": "Python 3",
   "language": "python"
  },
  "language_info": {
   "codemirror_mode": {
    "name": "ipython",
    "version": 3
   },
   "file_extension": ".py",
   "mimetype": "text/x-python",
   "name": "python",
   "nbconvert_exporter": "python",
   "pygments_lexer": "ipython3",
   "version": "3.8.8-final"
  }
 },
 "nbformat": 4,
 "nbformat_minor": 4
}