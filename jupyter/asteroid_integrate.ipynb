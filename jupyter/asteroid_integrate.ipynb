{
 "cells": [
  {
   "cell_type": "code",
   "execution_count": 1,
   "metadata": {},
   "outputs": [],
   "source": [
    "# Core\n",
    "import numpy as np\n",
    "import pandas as pd\n",
    "\n",
    "# Astronomy\n",
    "import rebound"
   ]
  },
  {
   "cell_type": "code",
   "execution_count": 2,
   "metadata": {},
   "outputs": [
    {
     "output_type": "error",
     "ename": "ImportError",
     "evalue": "cannot import name 'process_sim' from 'asteroid_integrate' (/home/michael/Harvard/kepler-sieve/src/asteroid_integrate.py)",
     "traceback": [
      "\u001b[0;31m---------------------------------------------------------------------------\u001b[0m",
      "\u001b[0;31mImportError\u001b[0m                               Traceback (most recent call last)",
      "\u001b[0;32m<ipython-input-2-933a101f374a>\u001b[0m in \u001b[0;36m<module>\u001b[0;34m\u001b[0m\n\u001b[1;32m      4\u001b[0m \u001b[0;32mfrom\u001b[0m \u001b[0mrebound_integrate\u001b[0m \u001b[0;32mimport\u001b[0m \u001b[0mintegrate_df\u001b[0m\u001b[0;34m\u001b[0m\u001b[0;34m\u001b[0m\u001b[0m\n\u001b[1;32m      5\u001b[0m \u001b[0;32mfrom\u001b[0m \u001b[0masteroid_element\u001b[0m \u001b[0;32mimport\u001b[0m \u001b[0mmake_sim_asteroids\u001b[0m\u001b[0;34m,\u001b[0m \u001b[0mget_ast_ref_elts\u001b[0m\u001b[0;34m,\u001b[0m \u001b[0madd_asteroid_elts\u001b[0m\u001b[0;34m,\u001b[0m \u001b[0mget_asteroids\u001b[0m\u001b[0;34m\u001b[0m\u001b[0;34m\u001b[0m\u001b[0m\n\u001b[0;32m----> 6\u001b[0;31m \u001b[0;32mfrom\u001b[0m \u001b[0masteroid_integrate\u001b[0m \u001b[0;32mimport\u001b[0m \u001b[0mprocess_sim\u001b[0m\u001b[0;34m\u001b[0m\u001b[0;34m\u001b[0m\u001b[0m\n\u001b[0m\u001b[1;32m      7\u001b[0m \u001b[0;32mfrom\u001b[0m \u001b[0mdb_config\u001b[0m \u001b[0;32mimport\u001b[0m \u001b[0mdb_engine\u001b[0m\u001b[0;34m\u001b[0m\u001b[0;34m\u001b[0m\u001b[0m\n\u001b[1;32m      8\u001b[0m \u001b[0;32mfrom\u001b[0m \u001b[0mdb_utils\u001b[0m \u001b[0;32mimport\u001b[0m \u001b[0msp2df\u001b[0m\u001b[0;34m\u001b[0m\u001b[0;34m\u001b[0m\u001b[0m\n",
      "\u001b[0;31mImportError\u001b[0m: cannot import name 'process_sim' from 'asteroid_integrate' (/home/michael/Harvard/kepler-sieve/src/asteroid_integrate.py)"
     ]
    }
   ],
   "source": [
    "# Local imports\n",
    "import kepler_sieve\n",
    "from rebound_sim import make_sim_planets\n",
    "from rebound_integrate import integrate_df\n",
    "from asteroid_element import make_sim_asteroids, get_ast_ref_elts, add_asteroid_elts, get_asteroids\n",
    "from asteroid_integrate import integrate_ast\n",
    "from db_config import db_engine\n",
    "from db_utils import sp2df"
   ]
  },
  {
   "cell_type": "code",
   "execution_count": 3,
   "metadata": {},
   "outputs": [],
   "source": [
    "# Typing\n",
    "from typing import Tuple"
   ]
  },
  {
   "cell_type": "code",
   "execution_count": 4,
   "metadata": {},
   "outputs": [],
   "source": [
    "epoch = 59000\n",
    "n0 = 0\n",
    "n1 = 100\n",
    "elts = get_ast_ref_elts(epoch=epoch, n0=n0, n1=n1)"
   ]
  },
  {
   "cell_type": "code",
   "execution_count": 5,
   "metadata": {},
   "outputs": [
    {
     "output_type": "execute_result",
     "data": {
      "text/plain": [
       "    AsteroidID    TimeID AsteroidName    epoch         a         e       inc  \\\n",
       "0           10  84960000       Hygiea  59000.0  3.142435  0.112117  0.066877   \n",
       "1           11  84960000   Parthenope  59000.0  2.452390  0.099823  0.080841   \n",
       "2           12  84960000     Victoria  59000.0  2.333778  0.220439  0.146132   \n",
       "3           13  84960000       Egeria  59000.0  2.576064  0.085283  0.288599   \n",
       "4           14  84960000        Irene  59000.0  2.586377  0.166250  0.159199   \n",
       "..         ...       ...          ...      ...       ...       ...       ...   \n",
       "85          95  84960000     Arethusa  59000.0  3.064051  0.152789  0.226817   \n",
       "86          96  84960000        Aegle  59000.0  3.048360  0.141178  0.278942   \n",
       "87          97  84960000       Klotho  59000.0  2.669021  0.257298  0.205558   \n",
       "88          98  84960000       Ianthe  59000.0  2.686497  0.187233  0.271867   \n",
       "89          99  84960000         Dike  59000.0  2.664873  0.194961  0.241685   \n",
       "\n",
       "       Omega     omega         M   BodyID       BodyName  \n",
       "0   4.942745  5.452634  3.889476  1000010      SB.Hygiea  \n",
       "1   2.190884  3.409659  0.378768  1000011  SB.Parthenope  \n",
       "2   4.108523  1.216394  4.255719  1000012    SB.Victoria  \n",
       "3   0.754349  1.403498  4.939327  1000013      SB.Egeria  \n",
       "4   1.503147  1.706961  4.534291  1000014       SB.Irene  \n",
       "..       ...       ...       ...      ...            ...  \n",
       "85  4.241497  2.684048  2.578014  1000095    SB.Arethusa  \n",
       "86  5.611058  3.638345  3.115040  1000096       SB.Aegle  \n",
       "87  2.785849  4.689231  0.723346  1000097      SB.Klotho  \n",
       "88  6.176797  2.768649  3.757108  1000098      SB.Ianthe  \n",
       "89  0.724558  3.415827  5.845656  1000099        SB.Dike  \n",
       "\n",
       "[90 rows x 12 columns]"
      ],
      "text/html": "<div>\n<style scoped>\n    .dataframe tbody tr th:only-of-type {\n        vertical-align: middle;\n    }\n\n    .dataframe tbody tr th {\n        vertical-align: top;\n    }\n\n    .dataframe thead th {\n        text-align: right;\n    }\n</style>\n<table border=\"1\" class=\"dataframe\">\n  <thead>\n    <tr style=\"text-align: right;\">\n      <th></th>\n      <th>AsteroidID</th>\n      <th>TimeID</th>\n      <th>AsteroidName</th>\n      <th>epoch</th>\n      <th>a</th>\n      <th>e</th>\n      <th>inc</th>\n      <th>Omega</th>\n      <th>omega</th>\n      <th>M</th>\n      <th>BodyID</th>\n      <th>BodyName</th>\n    </tr>\n  </thead>\n  <tbody>\n    <tr>\n      <th>0</th>\n      <td>10</td>\n      <td>84960000</td>\n      <td>Hygiea</td>\n      <td>59000.0</td>\n      <td>3.142435</td>\n      <td>0.112117</td>\n      <td>0.066877</td>\n      <td>4.942745</td>\n      <td>5.452634</td>\n      <td>3.889476</td>\n      <td>1000010</td>\n      <td>SB.Hygiea</td>\n    </tr>\n    <tr>\n      <th>1</th>\n      <td>11</td>\n      <td>84960000</td>\n      <td>Parthenope</td>\n      <td>59000.0</td>\n      <td>2.452390</td>\n      <td>0.099823</td>\n      <td>0.080841</td>\n      <td>2.190884</td>\n      <td>3.409659</td>\n      <td>0.378768</td>\n      <td>1000011</td>\n      <td>SB.Parthenope</td>\n    </tr>\n    <tr>\n      <th>2</th>\n      <td>12</td>\n      <td>84960000</td>\n      <td>Victoria</td>\n      <td>59000.0</td>\n      <td>2.333778</td>\n      <td>0.220439</td>\n      <td>0.146132</td>\n      <td>4.108523</td>\n      <td>1.216394</td>\n      <td>4.255719</td>\n      <td>1000012</td>\n      <td>SB.Victoria</td>\n    </tr>\n    <tr>\n      <th>3</th>\n      <td>13</td>\n      <td>84960000</td>\n      <td>Egeria</td>\n      <td>59000.0</td>\n      <td>2.576064</td>\n      <td>0.085283</td>\n      <td>0.288599</td>\n      <td>0.754349</td>\n      <td>1.403498</td>\n      <td>4.939327</td>\n      <td>1000013</td>\n      <td>SB.Egeria</td>\n    </tr>\n    <tr>\n      <th>4</th>\n      <td>14</td>\n      <td>84960000</td>\n      <td>Irene</td>\n      <td>59000.0</td>\n      <td>2.586377</td>\n      <td>0.166250</td>\n      <td>0.159199</td>\n      <td>1.503147</td>\n      <td>1.706961</td>\n      <td>4.534291</td>\n      <td>1000014</td>\n      <td>SB.Irene</td>\n    </tr>\n    <tr>\n      <th>...</th>\n      <td>...</td>\n      <td>...</td>\n      <td>...</td>\n      <td>...</td>\n      <td>...</td>\n      <td>...</td>\n      <td>...</td>\n      <td>...</td>\n      <td>...</td>\n      <td>...</td>\n      <td>...</td>\n      <td>...</td>\n    </tr>\n    <tr>\n      <th>85</th>\n      <td>95</td>\n      <td>84960000</td>\n      <td>Arethusa</td>\n      <td>59000.0</td>\n      <td>3.064051</td>\n      <td>0.152789</td>\n      <td>0.226817</td>\n      <td>4.241497</td>\n      <td>2.684048</td>\n      <td>2.578014</td>\n      <td>1000095</td>\n      <td>SB.Arethusa</td>\n    </tr>\n    <tr>\n      <th>86</th>\n      <td>96</td>\n      <td>84960000</td>\n      <td>Aegle</td>\n      <td>59000.0</td>\n      <td>3.048360</td>\n      <td>0.141178</td>\n      <td>0.278942</td>\n      <td>5.611058</td>\n      <td>3.638345</td>\n      <td>3.115040</td>\n      <td>1000096</td>\n      <td>SB.Aegle</td>\n    </tr>\n    <tr>\n      <th>87</th>\n      <td>97</td>\n      <td>84960000</td>\n      <td>Klotho</td>\n      <td>59000.0</td>\n      <td>2.669021</td>\n      <td>0.257298</td>\n      <td>0.205558</td>\n      <td>2.785849</td>\n      <td>4.689231</td>\n      <td>0.723346</td>\n      <td>1000097</td>\n      <td>SB.Klotho</td>\n    </tr>\n    <tr>\n      <th>88</th>\n      <td>98</td>\n      <td>84960000</td>\n      <td>Ianthe</td>\n      <td>59000.0</td>\n      <td>2.686497</td>\n      <td>0.187233</td>\n      <td>0.271867</td>\n      <td>6.176797</td>\n      <td>2.768649</td>\n      <td>3.757108</td>\n      <td>1000098</td>\n      <td>SB.Ianthe</td>\n    </tr>\n    <tr>\n      <th>89</th>\n      <td>99</td>\n      <td>84960000</td>\n      <td>Dike</td>\n      <td>59000.0</td>\n      <td>2.664873</td>\n      <td>0.194961</td>\n      <td>0.241685</td>\n      <td>0.724558</td>\n      <td>3.415827</td>\n      <td>5.845656</td>\n      <td>1000099</td>\n      <td>SB.Dike</td>\n    </tr>\n  </tbody>\n</table>\n<p>90 rows × 12 columns</p>\n</div>"
     },
     "metadata": {},
     "execution_count": 5
    }
   ],
   "source": [
    "elts"
   ]
  },
  {
   "cell_type": "code",
   "execution_count": 6,
   "metadata": {},
   "outputs": [],
   "source": [
    "sim = make_sim_asteroids(epoch=epoch, n0=n0, n1=n1)"
   ]
  },
  {
   "cell_type": "code",
   "execution_count": 7,
   "metadata": {},
   "outputs": [
    {
     "output_type": "execute_result",
     "data": {
      "text/plain": [
       "array([     10,       1,       2,     399,     301,       4,       5,\n",
       "             6,       7,       8,       9, 1000010, 1000011, 1000012,\n",
       "       1000013, 1000014, 1000015, 1000016, 1000017, 1000018, 1000019,\n",
       "       1000020, 1000021, 1000022, 1000023, 1000024, 1000025, 1000026,\n",
       "       1000027, 1000028, 1000029, 1000030, 1000031, 1000032, 1000033,\n",
       "       1000034, 1000035, 1000036, 1000037, 1000038, 1000039, 1000040,\n",
       "       1000041, 1000042, 1000043, 1000044, 1000045, 1000046, 1000047,\n",
       "       1000048, 1000049, 1000050, 1000051, 1000052, 1000053, 1000054,\n",
       "       1000055, 1000056, 1000057, 1000058, 1000059, 1000060, 1000061,\n",
       "       1000062, 1000063, 1000064, 1000065, 1000066, 1000067, 1000068,\n",
       "       1000069, 1000070, 1000071, 1000072, 1000073, 1000074, 1000075,\n",
       "       1000076, 1000077, 1000078, 1000079, 1000080, 1000081, 1000082,\n",
       "       1000083, 1000084, 1000085, 1000086, 1000087, 1000088, 1000089,\n",
       "       1000090, 1000091, 1000092, 1000093, 1000094, 1000095, 1000096,\n",
       "       1000097, 1000098, 1000099])"
      ]
     },
     "metadata": {},
     "execution_count": 7
    }
   ],
   "source": [
    "sim.body_ids"
   ]
  },
  {
   "cell_type": "code",
   "execution_count": 8,
   "metadata": {},
   "outputs": [],
   "source": [
    "# sim.body_namesm"
   ]
  },
  {
   "cell_type": "code",
   "execution_count": 9,
   "metadata": {},
   "outputs": [],
   "source": [
    "mjd0=58900\n",
    "mjd1=59100\n",
    "steps_per_day=1\n",
    "progbar=True"
   ]
  },
  {
   "cell_type": "code",
   "execution_count": 10,
   "metadata": {},
   "outputs": [
    {
     "output_type": "display_data",
     "data": {
      "text/plain": "  0%|          | 0/101 [00:00<?, ?it/s]",
      "application/vnd.jupyter.widget-view+json": {
       "version_major": 2,
       "version_minor": 0,
       "model_id": "91b7672d02d948fe8d341ad9d0ffff97"
      }
     },
     "metadata": {}
    },
    {
     "output_type": "display_data",
     "data": {
      "text/plain": "  0%|          | 0/100 [00:00<?, ?it/s]",
      "application/vnd.jupyter.widget-view+json": {
       "version_major": 2,
       "version_minor": 0,
       "model_id": "a723fc54e29943f6b454b60a6b2223ef"
      }
     },
     "metadata": {}
    }
   ],
   "source": [
    "df_vec, df_elt = integrate_ast(sim_epoch=sim, mjd0=mjd0, mjd1=mjd1, steps_per_day=steps_per_day, \n",
    "                    save_elements=True, progbar=progbar)"
   ]
  },
  {
   "cell_type": "code",
   "execution_count": 11,
   "metadata": {},
   "outputs": [
    {
     "output_type": "execute_result",
     "data": {
      "text/plain": [
       "         TimeID   BodyID      MJD        qx        qy        qz        vx  \\\n",
       "0      84816000       10  58900.0 -0.004221  0.007326  0.000035 -0.000008   \n",
       "1      84816000        1  58900.0 -0.217196  0.256225  0.039910 -0.027079   \n",
       "2      84816000        2  58900.0  0.047415  0.725334  0.006907 -0.020251   \n",
       "3      84816000      399  58900.0 -0.873491  0.478566  0.000017 -0.008494   \n",
       "4      84816000      301  58900.0 -0.872089  0.476317 -0.000083 -0.007999   \n",
       "...         ...      ...      ...       ...       ...       ...       ...   \n",
       "20296  85104000  1000095  59100.0 -3.111452 -1.585699 -0.471925  0.003358   \n",
       "20297  85104000  1000096  59100.0  3.398728  0.113087  0.631092 -0.000909   \n",
       "20298  85104000  1000097  59100.0 -2.410295  0.799996  0.019632 -0.005939   \n",
       "20299  85104000  1000098  59100.0  2.910055  0.711917  0.281902 -0.003599   \n",
       "20300  85104000  1000099  59100.0 -1.288647 -1.710423 -0.107259  0.010158   \n",
       "\n",
       "             vy            vz         a         e       inc     Omega  \\\n",
       "0     -0.000002  2.283442e-07       NaN       NaN       NaN       NaN   \n",
       "1     -0.017177  1.080142e-03  0.387097  0.205652  0.122239  0.843105   \n",
       "2      0.001344  1.186871e-03  0.723328  0.006747  0.059246  1.337354   \n",
       "3     -0.015196  1.518513e-06  1.000768  0.017385  0.000077  2.886969   \n",
       "4     -0.014910 -4.543185e-05  0.002577  0.046343  0.089001  1.691851   \n",
       "...         ...           ...       ...       ...       ...       ...   \n",
       "20296 -0.007615  1.489416e-03  3.063683  0.152904  0.226828 -2.041735   \n",
       "20297  0.008363  1.714845e-03  3.048257  0.141230  0.278947 -0.672116   \n",
       "20298 -0.009104  2.209473e-03  2.668847  0.257323  0.205569  2.785837   \n",
       "20299  0.008276  2.189298e-03  2.686593  0.187256  0.271865 -0.106390   \n",
       "20300 -0.007245 -2.997001e-03  2.664822  0.194959  0.241686  0.724555   \n",
       "\n",
       "          omega         f         M  \n",
       "0           NaN       NaN       NaN  \n",
       "1      0.509335  0.927129  0.627633  \n",
       "2      0.957278 -0.795348 -0.785747  \n",
       "3     -1.065969  0.823827  0.798538  \n",
       "4      1.293892 -3.997685  2.213882  \n",
       "...         ...       ...       ...  \n",
       "20296  2.683601 -3.322059  2.899338  \n",
       "20297 -2.645492  3.368376 -2.844074  \n",
       "20298 -1.594280  1.632117  1.118107  \n",
       "20299  2.768252 -2.412491 -2.134862  \n",
       "20300 -2.867091 -0.063966 -0.042277  \n",
       "\n",
       "[20301 rows x 16 columns]"
      ],
      "text/html": "<div>\n<style scoped>\n    .dataframe tbody tr th:only-of-type {\n        vertical-align: middle;\n    }\n\n    .dataframe tbody tr th {\n        vertical-align: top;\n    }\n\n    .dataframe thead th {\n        text-align: right;\n    }\n</style>\n<table border=\"1\" class=\"dataframe\">\n  <thead>\n    <tr style=\"text-align: right;\">\n      <th></th>\n      <th>TimeID</th>\n      <th>BodyID</th>\n      <th>MJD</th>\n      <th>qx</th>\n      <th>qy</th>\n      <th>qz</th>\n      <th>vx</th>\n      <th>vy</th>\n      <th>vz</th>\n      <th>a</th>\n      <th>e</th>\n      <th>inc</th>\n      <th>Omega</th>\n      <th>omega</th>\n      <th>f</th>\n      <th>M</th>\n    </tr>\n  </thead>\n  <tbody>\n    <tr>\n      <th>0</th>\n      <td>84816000</td>\n      <td>10</td>\n      <td>58900.0</td>\n      <td>-0.004221</td>\n      <td>0.007326</td>\n      <td>0.000035</td>\n      <td>-0.000008</td>\n      <td>-0.000002</td>\n      <td>2.283442e-07</td>\n      <td>NaN</td>\n      <td>NaN</td>\n      <td>NaN</td>\n      <td>NaN</td>\n      <td>NaN</td>\n      <td>NaN</td>\n      <td>NaN</td>\n    </tr>\n    <tr>\n      <th>1</th>\n      <td>84816000</td>\n      <td>1</td>\n      <td>58900.0</td>\n      <td>-0.217196</td>\n      <td>0.256225</td>\n      <td>0.039910</td>\n      <td>-0.027079</td>\n      <td>-0.017177</td>\n      <td>1.080142e-03</td>\n      <td>0.387097</td>\n      <td>0.205652</td>\n      <td>0.122239</td>\n      <td>0.843105</td>\n      <td>0.509335</td>\n      <td>0.927129</td>\n      <td>0.627633</td>\n    </tr>\n    <tr>\n      <th>2</th>\n      <td>84816000</td>\n      <td>2</td>\n      <td>58900.0</td>\n      <td>0.047415</td>\n      <td>0.725334</td>\n      <td>0.006907</td>\n      <td>-0.020251</td>\n      <td>0.001344</td>\n      <td>1.186871e-03</td>\n      <td>0.723328</td>\n      <td>0.006747</td>\n      <td>0.059246</td>\n      <td>1.337354</td>\n      <td>0.957278</td>\n      <td>-0.795348</td>\n      <td>-0.785747</td>\n    </tr>\n    <tr>\n      <th>3</th>\n      <td>84816000</td>\n      <td>399</td>\n      <td>58900.0</td>\n      <td>-0.873491</td>\n      <td>0.478566</td>\n      <td>0.000017</td>\n      <td>-0.008494</td>\n      <td>-0.015196</td>\n      <td>1.518513e-06</td>\n      <td>1.000768</td>\n      <td>0.017385</td>\n      <td>0.000077</td>\n      <td>2.886969</td>\n      <td>-1.065969</td>\n      <td>0.823827</td>\n      <td>0.798538</td>\n    </tr>\n    <tr>\n      <th>4</th>\n      <td>84816000</td>\n      <td>301</td>\n      <td>58900.0</td>\n      <td>-0.872089</td>\n      <td>0.476317</td>\n      <td>-0.000083</td>\n      <td>-0.007999</td>\n      <td>-0.014910</td>\n      <td>-4.543185e-05</td>\n      <td>0.002577</td>\n      <td>0.046343</td>\n      <td>0.089001</td>\n      <td>1.691851</td>\n      <td>1.293892</td>\n      <td>-3.997685</td>\n      <td>2.213882</td>\n    </tr>\n    <tr>\n      <th>...</th>\n      <td>...</td>\n      <td>...</td>\n      <td>...</td>\n      <td>...</td>\n      <td>...</td>\n      <td>...</td>\n      <td>...</td>\n      <td>...</td>\n      <td>...</td>\n      <td>...</td>\n      <td>...</td>\n      <td>...</td>\n      <td>...</td>\n      <td>...</td>\n      <td>...</td>\n      <td>...</td>\n    </tr>\n    <tr>\n      <th>20296</th>\n      <td>85104000</td>\n      <td>1000095</td>\n      <td>59100.0</td>\n      <td>-3.111452</td>\n      <td>-1.585699</td>\n      <td>-0.471925</td>\n      <td>0.003358</td>\n      <td>-0.007615</td>\n      <td>1.489416e-03</td>\n      <td>3.063683</td>\n      <td>0.152904</td>\n      <td>0.226828</td>\n      <td>-2.041735</td>\n      <td>2.683601</td>\n      <td>-3.322059</td>\n      <td>2.899338</td>\n    </tr>\n    <tr>\n      <th>20297</th>\n      <td>85104000</td>\n      <td>1000096</td>\n      <td>59100.0</td>\n      <td>3.398728</td>\n      <td>0.113087</td>\n      <td>0.631092</td>\n      <td>-0.000909</td>\n      <td>0.008363</td>\n      <td>1.714845e-03</td>\n      <td>3.048257</td>\n      <td>0.141230</td>\n      <td>0.278947</td>\n      <td>-0.672116</td>\n      <td>-2.645492</td>\n      <td>3.368376</td>\n      <td>-2.844074</td>\n    </tr>\n    <tr>\n      <th>20298</th>\n      <td>85104000</td>\n      <td>1000097</td>\n      <td>59100.0</td>\n      <td>-2.410295</td>\n      <td>0.799996</td>\n      <td>0.019632</td>\n      <td>-0.005939</td>\n      <td>-0.009104</td>\n      <td>2.209473e-03</td>\n      <td>2.668847</td>\n      <td>0.257323</td>\n      <td>0.205569</td>\n      <td>2.785837</td>\n      <td>-1.594280</td>\n      <td>1.632117</td>\n      <td>1.118107</td>\n    </tr>\n    <tr>\n      <th>20299</th>\n      <td>85104000</td>\n      <td>1000098</td>\n      <td>59100.0</td>\n      <td>2.910055</td>\n      <td>0.711917</td>\n      <td>0.281902</td>\n      <td>-0.003599</td>\n      <td>0.008276</td>\n      <td>2.189298e-03</td>\n      <td>2.686593</td>\n      <td>0.187256</td>\n      <td>0.271865</td>\n      <td>-0.106390</td>\n      <td>2.768252</td>\n      <td>-2.412491</td>\n      <td>-2.134862</td>\n    </tr>\n    <tr>\n      <th>20300</th>\n      <td>85104000</td>\n      <td>1000099</td>\n      <td>59100.0</td>\n      <td>-1.288647</td>\n      <td>-1.710423</td>\n      <td>-0.107259</td>\n      <td>0.010158</td>\n      <td>-0.007245</td>\n      <td>-2.997001e-03</td>\n      <td>2.664822</td>\n      <td>0.194959</td>\n      <td>0.241686</td>\n      <td>0.724555</td>\n      <td>-2.867091</td>\n      <td>-0.063966</td>\n      <td>-0.042277</td>\n    </tr>\n  </tbody>\n</table>\n<p>20301 rows × 16 columns</p>\n</div>"
     },
     "metadata": {},
     "execution_count": 11
    }
   ],
   "source": [
    "df"
   ]
  },
  {
   "cell_type": "code",
   "execution_count": 3,
   "metadata": {},
   "outputs": [],
   "source": [
    "from db_utils import db_engine"
   ]
  },
  {
   "cell_type": "code",
   "execution_count": 4,
   "metadata": {},
   "outputs": [],
   "source": [
    "conn = db_engine.connect()"
   ]
  },
  {
   "cell_type": "code",
   "execution_count": 5,
   "metadata": {},
   "outputs": [
    {
     "output_type": "execute_result",
     "data": {
      "text/plain": [
       "sqlalchemy.engine.base.Connection"
      ]
     },
     "metadata": {},
     "execution_count": 5
    }
   ],
   "source": [
    "type(conn)"
   ]
  },
  {
   "cell_type": "code",
   "execution_count": 6,
   "metadata": {},
   "outputs": [],
   "source": [
    "conn.close()"
   ]
  },
  {
   "cell_type": "code",
   "execution_count": null,
   "metadata": {},
   "outputs": [],
   "source": []
  }
 ],
 "metadata": {
  "kernelspec": {
   "name": "python3",
   "display_name": "Python 3",
   "language": "python"
  },
  "language_info": {
   "codemirror_mode": {
    "name": "ipython",
    "version": 3
   },
   "file_extension": ".py",
   "mimetype": "text/x-python",
   "name": "python",
   "nbconvert_exporter": "python",
   "pygments_lexer": "ipython3",
   "version": "3.8.5-final"
  }
 },
 "nbformat": 4,
 "nbformat_minor": 4
}