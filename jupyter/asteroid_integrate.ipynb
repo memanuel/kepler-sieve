{
 "cells": [
  {
   "cell_type": "code",
   "execution_count": 1,
   "metadata": {},
   "outputs": [],
   "source": [
    "# Core\n",
    "import numpy as np\n",
    "import pandas as pd\n",
    "\n",
    "# Astronomy\n",
    "import rebound"
   ]
  },
  {
   "cell_type": "code",
   "execution_count": 2,
   "metadata": {},
   "outputs": [],
   "source": [
    "# Local imports\n",
    "import kepler_sieve\n",
    "from rebound_sim import make_sim_planets\n",
    "from rebound_integrate import integrate_df\n",
    "from asteroid_element import make_sim_asteroids, get_ast_ref_elts, add_asteroid_elts, get_asteroids\n",
    "from asteroid_integrate import integrate_ast\n",
    "from asteroid_integration_test import get_diff_by_date, get_diff_by_ast\n",
    "from db_config import db_engine\n",
    "from db_utils import sp2df"
   ]
  },
  {
   "cell_type": "code",
   "execution_count": 3,
   "metadata": {},
   "outputs": [],
   "source": [
    "# Typing\n",
    "from typing import Tuple"
   ]
  },
  {
   "cell_type": "code",
   "execution_count": 11,
   "metadata": {},
   "outputs": [],
   "source": [
    "epoch = 59000\n",
    "n0 = 0\n",
    "n1 = 100\n",
    "elts = get_ast_ref_elts(epoch=epoch, n0=n0, n1=n1, missing=False)"
   ]
  },
  {
   "cell_type": "code",
   "execution_count": 12,
   "metadata": {},
   "outputs": [
    {
     "output_type": "execute_result",
     "data": {
      "text/plain": [
       "    AsteroidID    TimeID AsteroidName    epoch         a         e       inc  \\\n",
       "0            1  84960000        Ceres  59000.0  2.767657  0.077557  0.184806   \n",
       "1            2  84960000       Pallas  59000.0  2.773841  0.229972  0.607949   \n",
       "2            3  84960000         Juno  59000.0  2.668285  0.256936  0.226736   \n",
       "3            4  84960000        Vesta  59000.0  2.362014  0.088516  0.124650   \n",
       "4            5  84960000      Astraea  59000.0  2.574037  0.190913  0.093679   \n",
       "..         ...       ...          ...      ...       ...       ...       ...   \n",
       "94          95  84960000     Arethusa  59000.0  3.064051  0.152789  0.226817   \n",
       "95          96  84960000        Aegle  59000.0  3.048360  0.141178  0.278942   \n",
       "96          97  84960000       Klotho  59000.0  2.669021  0.257298  0.205558   \n",
       "97          98  84960000       Ianthe  59000.0  2.686497  0.187233  0.271867   \n",
       "98          99  84960000         Dike  59000.0  2.664873  0.194961  0.241685   \n",
       "\n",
       "       Omega     omega         M   BodyID     BodyName  \n",
       "0   1.401272  1.286860  2.839411  1000001     SB.Ceres  \n",
       "1   3.019851  5.414053  2.530303  1000002    SB.Pallas  \n",
       "2   2.964468  4.329572  2.189260  1000003      SB.Juno  \n",
       "3   1.811810  2.633265  3.566190  1000004     SB.Vesta  \n",
       "4   2.470881  6.259596  0.311477  1000005   SB.Astraea  \n",
       "..       ...       ...       ...      ...          ...  \n",
       "94  4.241497  2.684048  2.578014  1000095  SB.Arethusa  \n",
       "95  5.611058  3.638345  3.115040  1000096     SB.Aegle  \n",
       "96  2.785849  4.689231  0.723346  1000097    SB.Klotho  \n",
       "97  6.176797  2.768649  3.757108  1000098    SB.Ianthe  \n",
       "98  0.724558  3.415827  5.845656  1000099      SB.Dike  \n",
       "\n",
       "[99 rows x 12 columns]"
      ],
      "text/html": "<div>\n<style scoped>\n    .dataframe tbody tr th:only-of-type {\n        vertical-align: middle;\n    }\n\n    .dataframe tbody tr th {\n        vertical-align: top;\n    }\n\n    .dataframe thead th {\n        text-align: right;\n    }\n</style>\n<table border=\"1\" class=\"dataframe\">\n  <thead>\n    <tr style=\"text-align: right;\">\n      <th></th>\n      <th>AsteroidID</th>\n      <th>TimeID</th>\n      <th>AsteroidName</th>\n      <th>epoch</th>\n      <th>a</th>\n      <th>e</th>\n      <th>inc</th>\n      <th>Omega</th>\n      <th>omega</th>\n      <th>M</th>\n      <th>BodyID</th>\n      <th>BodyName</th>\n    </tr>\n  </thead>\n  <tbody>\n    <tr>\n      <th>0</th>\n      <td>1</td>\n      <td>84960000</td>\n      <td>Ceres</td>\n      <td>59000.0</td>\n      <td>2.767657</td>\n      <td>0.077557</td>\n      <td>0.184806</td>\n      <td>1.401272</td>\n      <td>1.286860</td>\n      <td>2.839411</td>\n      <td>1000001</td>\n      <td>SB.Ceres</td>\n    </tr>\n    <tr>\n      <th>1</th>\n      <td>2</td>\n      <td>84960000</td>\n      <td>Pallas</td>\n      <td>59000.0</td>\n      <td>2.773841</td>\n      <td>0.229972</td>\n      <td>0.607949</td>\n      <td>3.019851</td>\n      <td>5.414053</td>\n      <td>2.530303</td>\n      <td>1000002</td>\n      <td>SB.Pallas</td>\n    </tr>\n    <tr>\n      <th>2</th>\n      <td>3</td>\n      <td>84960000</td>\n      <td>Juno</td>\n      <td>59000.0</td>\n      <td>2.668285</td>\n      <td>0.256936</td>\n      <td>0.226736</td>\n      <td>2.964468</td>\n      <td>4.329572</td>\n      <td>2.189260</td>\n      <td>1000003</td>\n      <td>SB.Juno</td>\n    </tr>\n    <tr>\n      <th>3</th>\n      <td>4</td>\n      <td>84960000</td>\n      <td>Vesta</td>\n      <td>59000.0</td>\n      <td>2.362014</td>\n      <td>0.088516</td>\n      <td>0.124650</td>\n      <td>1.811810</td>\n      <td>2.633265</td>\n      <td>3.566190</td>\n      <td>1000004</td>\n      <td>SB.Vesta</td>\n    </tr>\n    <tr>\n      <th>4</th>\n      <td>5</td>\n      <td>84960000</td>\n      <td>Astraea</td>\n      <td>59000.0</td>\n      <td>2.574037</td>\n      <td>0.190913</td>\n      <td>0.093679</td>\n      <td>2.470881</td>\n      <td>6.259596</td>\n      <td>0.311477</td>\n      <td>1000005</td>\n      <td>SB.Astraea</td>\n    </tr>\n    <tr>\n      <th>...</th>\n      <td>...</td>\n      <td>...</td>\n      <td>...</td>\n      <td>...</td>\n      <td>...</td>\n      <td>...</td>\n      <td>...</td>\n      <td>...</td>\n      <td>...</td>\n      <td>...</td>\n      <td>...</td>\n      <td>...</td>\n    </tr>\n    <tr>\n      <th>94</th>\n      <td>95</td>\n      <td>84960000</td>\n      <td>Arethusa</td>\n      <td>59000.0</td>\n      <td>3.064051</td>\n      <td>0.152789</td>\n      <td>0.226817</td>\n      <td>4.241497</td>\n      <td>2.684048</td>\n      <td>2.578014</td>\n      <td>1000095</td>\n      <td>SB.Arethusa</td>\n    </tr>\n    <tr>\n      <th>95</th>\n      <td>96</td>\n      <td>84960000</td>\n      <td>Aegle</td>\n      <td>59000.0</td>\n      <td>3.048360</td>\n      <td>0.141178</td>\n      <td>0.278942</td>\n      <td>5.611058</td>\n      <td>3.638345</td>\n      <td>3.115040</td>\n      <td>1000096</td>\n      <td>SB.Aegle</td>\n    </tr>\n    <tr>\n      <th>96</th>\n      <td>97</td>\n      <td>84960000</td>\n      <td>Klotho</td>\n      <td>59000.0</td>\n      <td>2.669021</td>\n      <td>0.257298</td>\n      <td>0.205558</td>\n      <td>2.785849</td>\n      <td>4.689231</td>\n      <td>0.723346</td>\n      <td>1000097</td>\n      <td>SB.Klotho</td>\n    </tr>\n    <tr>\n      <th>97</th>\n      <td>98</td>\n      <td>84960000</td>\n      <td>Ianthe</td>\n      <td>59000.0</td>\n      <td>2.686497</td>\n      <td>0.187233</td>\n      <td>0.271867</td>\n      <td>6.176797</td>\n      <td>2.768649</td>\n      <td>3.757108</td>\n      <td>1000098</td>\n      <td>SB.Ianthe</td>\n    </tr>\n    <tr>\n      <th>98</th>\n      <td>99</td>\n      <td>84960000</td>\n      <td>Dike</td>\n      <td>59000.0</td>\n      <td>2.664873</td>\n      <td>0.194961</td>\n      <td>0.241685</td>\n      <td>0.724558</td>\n      <td>3.415827</td>\n      <td>5.845656</td>\n      <td>1000099</td>\n      <td>SB.Dike</td>\n    </tr>\n  </tbody>\n</table>\n<p>99 rows × 12 columns</p>\n</div>"
     },
     "metadata": {},
     "execution_count": 12
    }
   ],
   "source": [
    "elts"
   ]
  },
  {
   "cell_type": "code",
   "execution_count": 13,
   "metadata": {},
   "outputs": [],
   "source": [
    "sim = make_sim_asteroids(epoch=epoch, n0=n0, n1=n1, missing=True)"
   ]
  },
  {
   "cell_type": "code",
   "execution_count": 14,
   "metadata": {},
   "outputs": [
    {
     "output_type": "execute_result",
     "data": {
      "text/plain": [
       "array([10, 1, 2, 399, 301, 4, 5, 6, 7, 8, 9], dtype=object)"
      ]
     },
     "metadata": {},
     "execution_count": 14
    }
   ],
   "source": [
    "sim.body_ids"
   ]
  },
  {
   "cell_type": "code",
   "execution_count": 15,
   "metadata": {},
   "outputs": [],
   "source": [
    "# sim.body_namesm"
   ]
  },
  {
   "cell_type": "code",
   "execution_count": 16,
   "metadata": {},
   "outputs": [],
   "source": [
    "mjd0=58900\n",
    "mjd1=59100\n",
    "steps_per_day=1\n",
    "progbar=True"
   ]
  },
  {
   "cell_type": "code",
   "execution_count": 18,
   "metadata": {},
   "outputs": [
    {
     "output_type": "stream",
     "name": "stdout",
     "text": [
      "\n********************************************************************************\nIntegrating 0 asteroids in 0000000-0000000 from 58900 to 58900...\n"
     ]
    },
    {
     "output_type": "display_data",
     "data": {
      "text/plain": "|          | 0/0 [00:00<?, ?it/s]",
      "application/vnd.jupyter.widget-view+json": {
       "version_major": 2,
       "version_minor": 0,
       "model_id": "3fef4c2d0ea147a89e63babbbe072d2e"
      }
     },
     "metadata": {}
    },
    {
     "output_type": "display_data",
     "data": {
      "text/plain": "  0%|          | 0/1 [00:00<?, ?it/s]",
      "application/vnd.jupyter.widget-view+json": {
       "version_major": 2,
       "version_minor": 0,
       "model_id": "9ec391f82a1948c4a480034a108372d7"
      }
     },
     "metadata": {}
    }
   ],
   "source": [
    "df_vec, df_elt = integrate_ast(sim=sim, mjd0=mjd0, mjd1=mjd1, interval=4, progbar=progbar)"
   ]
  },
  {
   "cell_type": "code",
   "execution_count": 7,
   "metadata": {},
   "outputs": [],
   "source": [
    "df = get_diff_by_ast()"
   ]
  },
  {
   "cell_type": "code",
   "execution_count": 19,
   "metadata": {},
   "outputs": [
    {
     "output_type": "execute_result",
     "data": {
      "text/plain": [
       "    AsteroidID            dq        dq_rel\n",
       "0            1  3.096303e-06  1.118136e-06\n",
       "1            2  1.074490e-06  3.873652e-07\n",
       "2            3  5.764792e-07  2.160486e-07\n",
       "3            4  1.990538e-06  8.429420e-07\n",
       "4            5  7.173845e-07  2.787001e-07\n",
       "..         ...           ...           ...\n",
       "94          95  1.795177e-06  5.858835e-07\n",
       "95          96  9.315190e-07  3.055803e-07\n",
       "96          97  5.004669e-07  1.875096e-07\n",
       "97          98  1.052994e-06  3.919581e-07\n",
       "98          99  2.305963e-06  8.653180e-07\n",
       "\n",
       "[99 rows x 3 columns]"
      ],
      "text/html": "<div>\n<style scoped>\n    .dataframe tbody tr th:only-of-type {\n        vertical-align: middle;\n    }\n\n    .dataframe tbody tr th {\n        vertical-align: top;\n    }\n\n    .dataframe thead th {\n        text-align: right;\n    }\n</style>\n<table border=\"1\" class=\"dataframe\">\n  <thead>\n    <tr style=\"text-align: right;\">\n      <th></th>\n      <th>AsteroidID</th>\n      <th>dq</th>\n      <th>dq_rel</th>\n    </tr>\n  </thead>\n  <tbody>\n    <tr>\n      <th>0</th>\n      <td>1</td>\n      <td>3.096303e-06</td>\n      <td>1.118136e-06</td>\n    </tr>\n    <tr>\n      <th>1</th>\n      <td>2</td>\n      <td>1.074490e-06</td>\n      <td>3.873652e-07</td>\n    </tr>\n    <tr>\n      <th>2</th>\n      <td>3</td>\n      <td>5.764792e-07</td>\n      <td>2.160486e-07</td>\n    </tr>\n    <tr>\n      <th>3</th>\n      <td>4</td>\n      <td>1.990538e-06</td>\n      <td>8.429420e-07</td>\n    </tr>\n    <tr>\n      <th>4</th>\n      <td>5</td>\n      <td>7.173845e-07</td>\n      <td>2.787001e-07</td>\n    </tr>\n    <tr>\n      <th>...</th>\n      <td>...</td>\n      <td>...</td>\n      <td>...</td>\n    </tr>\n    <tr>\n      <th>94</th>\n      <td>95</td>\n      <td>1.795177e-06</td>\n      <td>5.858835e-07</td>\n    </tr>\n    <tr>\n      <th>95</th>\n      <td>96</td>\n      <td>9.315190e-07</td>\n      <td>3.055803e-07</td>\n    </tr>\n    <tr>\n      <th>96</th>\n      <td>97</td>\n      <td>5.004669e-07</td>\n      <td>1.875096e-07</td>\n    </tr>\n    <tr>\n      <th>97</th>\n      <td>98</td>\n      <td>1.052994e-06</td>\n      <td>3.919581e-07</td>\n    </tr>\n    <tr>\n      <th>98</th>\n      <td>99</td>\n      <td>2.305963e-06</td>\n      <td>8.653180e-07</td>\n    </tr>\n  </tbody>\n</table>\n<p>99 rows × 3 columns</p>\n</div>"
     },
     "metadata": {},
     "execution_count": 19
    }
   ],
   "source": [
    "df"
   ]
  },
  {
   "cell_type": "code",
   "execution_count": 20,
   "metadata": {},
   "outputs": [],
   "source": [
    "elt_dates = sp2df(sp_name='JPL.GetAsteroidRefElementDates', params={'epoch':59000})"
   ]
  },
  {
   "cell_type": "code",
   "execution_count": 21,
   "metadata": {},
   "outputs": [
    {
     "output_type": "execute_result",
     "data": {
      "text/plain": [
       "        TimeID    epoch  AsteroidCount\n",
       "0     74203200  51530.0              1\n",
       "1     74211840  51536.0              1\n",
       "2     74224800  51545.0              3\n",
       "3     74232000  51550.0              1\n",
       "4     74234880  51552.0              1\n",
       "...        ...      ...            ...\n",
       "4972  84951360  58994.0              5\n",
       "4973  84952800  58995.0              4\n",
       "4974  84955680  58997.0              3\n",
       "4975  84957120  58998.0              2\n",
       "4976  84958560  58999.0              4\n",
       "\n",
       "[4977 rows x 3 columns]"
      ],
      "text/html": "<div>\n<style scoped>\n    .dataframe tbody tr th:only-of-type {\n        vertical-align: middle;\n    }\n\n    .dataframe tbody tr th {\n        vertical-align: top;\n    }\n\n    .dataframe thead th {\n        text-align: right;\n    }\n</style>\n<table border=\"1\" class=\"dataframe\">\n  <thead>\n    <tr style=\"text-align: right;\">\n      <th></th>\n      <th>TimeID</th>\n      <th>epoch</th>\n      <th>AsteroidCount</th>\n    </tr>\n  </thead>\n  <tbody>\n    <tr>\n      <th>0</th>\n      <td>74203200</td>\n      <td>51530.0</td>\n      <td>1</td>\n    </tr>\n    <tr>\n      <th>1</th>\n      <td>74211840</td>\n      <td>51536.0</td>\n      <td>1</td>\n    </tr>\n    <tr>\n      <th>2</th>\n      <td>74224800</td>\n      <td>51545.0</td>\n      <td>3</td>\n    </tr>\n    <tr>\n      <th>3</th>\n      <td>74232000</td>\n      <td>51550.0</td>\n      <td>1</td>\n    </tr>\n    <tr>\n      <th>4</th>\n      <td>74234880</td>\n      <td>51552.0</td>\n      <td>1</td>\n    </tr>\n    <tr>\n      <th>...</th>\n      <td>...</td>\n      <td>...</td>\n      <td>...</td>\n    </tr>\n    <tr>\n      <th>4972</th>\n      <td>84951360</td>\n      <td>58994.0</td>\n      <td>5</td>\n    </tr>\n    <tr>\n      <th>4973</th>\n      <td>84952800</td>\n      <td>58995.0</td>\n      <td>4</td>\n    </tr>\n    <tr>\n      <th>4974</th>\n      <td>84955680</td>\n      <td>58997.0</td>\n      <td>3</td>\n    </tr>\n    <tr>\n      <th>4975</th>\n      <td>84957120</td>\n      <td>58998.0</td>\n      <td>2</td>\n    </tr>\n    <tr>\n      <th>4976</th>\n      <td>84958560</td>\n      <td>58999.0</td>\n      <td>4</td>\n    </tr>\n  </tbody>\n</table>\n<p>4977 rows × 3 columns</p>\n</div>"
     },
     "metadata": {},
     "execution_count": 21
    }
   ],
   "source": [
    "elt_dates"
   ]
  },
  {
   "cell_type": "code",
   "execution_count": null,
   "metadata": {},
   "outputs": [],
   "source": []
  }
 ],
 "metadata": {
  "kernelspec": {
   "name": "python3",
   "display_name": "Python 3",
   "language": "python"
  },
  "language_info": {
   "codemirror_mode": {
    "name": "ipython",
    "version": 3
   },
   "file_extension": ".py",
   "mimetype": "text/x-python",
   "name": "python",
   "nbconvert_exporter": "python",
   "pygments_lexer": "ipython3",
   "version": "3.8.5-final"
  }
 },
 "nbformat": 4,
 "nbformat_minor": 4
}