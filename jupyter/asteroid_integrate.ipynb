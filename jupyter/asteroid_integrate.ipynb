{
 "cells": [
  {
   "cell_type": "code",
   "execution_count": 1,
   "metadata": {},
   "outputs": [],
   "source": [
    "# Core\n",
    "import numpy as np\n",
    "import pandas as pd\n",
    "\n",
    "# Astronomy\n",
    "import rebound"
   ]
  },
  {
   "cell_type": "code",
   "execution_count": 2,
   "metadata": {},
   "outputs": [],
   "source": [
    "# Local imports\n",
    "import kepler_sieve\n",
    "from rebound_sim import make_sim_planets\n",
    "from rebound_integrate import integrate_df\n",
    "from asteroid_element import make_sim_asteroids, get_ast_ref_elts, add_asteroid_elts, get_asteroids\n",
    "from asteroid_integrate import process_sim\n",
    "from db_config import db_engine\n",
    "from db_utils import sp2df"
   ]
  },
  {
   "cell_type": "code",
   "execution_count": 3,
   "metadata": {},
   "outputs": [],
   "source": [
    "# Typing\n",
    "from typing import Tuple"
   ]
  },
  {
   "cell_type": "code",
   "execution_count": 4,
   "metadata": {},
   "outputs": [],
   "source": [
    "epoch = 59000\n",
    "n0 = 0\n",
    "n1 = 100\n",
    "elts = get_ast_ref_elts(epoch=epoch, n0=n0, n1=n1)"
   ]
  },
  {
   "cell_type": "code",
   "execution_count": 5,
   "metadata": {},
   "outputs": [
    {
     "output_type": "execute_result",
     "data": {
      "text/plain": [
       "    AsteroidID    TimeID AsteroidName    epoch         a         e       inc  \\\n",
       "0            2  84960000       Pallas  59000.0  2.773841  0.229972  0.607949   \n",
       "1            3  84960000         Juno  59000.0  2.668285  0.256936  0.226736   \n",
       "2            5  84960000      Astraea  59000.0  2.574037  0.190913  0.093679   \n",
       "3            6  84960000         Hebe  59000.0  2.424533  0.203219  0.257255   \n",
       "4            7  84960000         Iris  59000.0  2.387375  0.230145  0.096370   \n",
       "..         ...       ...          ...      ...       ...       ...       ...   \n",
       "92          95  84960000     Arethusa  59000.0  3.064051  0.152789  0.226817   \n",
       "93          96  84960000        Aegle  59000.0  3.048360  0.141178  0.278942   \n",
       "94          97  84960000       Klotho  59000.0  2.669021  0.257298  0.205558   \n",
       "95          98  84960000       Ianthe  59000.0  2.686497  0.187233  0.271867   \n",
       "96          99  84960000         Dike  59000.0  2.664873  0.194961  0.241685   \n",
       "\n",
       "       Omega     omega         M   BodyID     BodyName  \n",
       "0   3.019851  5.414053  2.530303  1000002    SB.Pallas  \n",
       "1   2.964468  4.329572  2.189260  1000003      SB.Juno  \n",
       "2   2.470881  6.259596  0.311477  1000005   SB.Astraea  \n",
       "3   2.419784  4.184187  3.328107  1000006      SB.Hebe  \n",
       "4   4.530245  2.534245  4.318395  1000007      SB.Iris  \n",
       "..       ...       ...       ...      ...          ...  \n",
       "92  4.241497  2.684048  2.578014  1000095  SB.Arethusa  \n",
       "93  5.611058  3.638345  3.115040  1000096     SB.Aegle  \n",
       "94  2.785849  4.689231  0.723346  1000097    SB.Klotho  \n",
       "95  6.176797  2.768649  3.757108  1000098    SB.Ianthe  \n",
       "96  0.724558  3.415827  5.845656  1000099      SB.Dike  \n",
       "\n",
       "[97 rows x 12 columns]"
      ],
      "text/html": "<div>\n<style scoped>\n    .dataframe tbody tr th:only-of-type {\n        vertical-align: middle;\n    }\n\n    .dataframe tbody tr th {\n        vertical-align: top;\n    }\n\n    .dataframe thead th {\n        text-align: right;\n    }\n</style>\n<table border=\"1\" class=\"dataframe\">\n  <thead>\n    <tr style=\"text-align: right;\">\n      <th></th>\n      <th>AsteroidID</th>\n      <th>TimeID</th>\n      <th>AsteroidName</th>\n      <th>epoch</th>\n      <th>a</th>\n      <th>e</th>\n      <th>inc</th>\n      <th>Omega</th>\n      <th>omega</th>\n      <th>M</th>\n      <th>BodyID</th>\n      <th>BodyName</th>\n    </tr>\n  </thead>\n  <tbody>\n    <tr>\n      <th>0</th>\n      <td>2</td>\n      <td>84960000</td>\n      <td>Pallas</td>\n      <td>59000.0</td>\n      <td>2.773841</td>\n      <td>0.229972</td>\n      <td>0.607949</td>\n      <td>3.019851</td>\n      <td>5.414053</td>\n      <td>2.530303</td>\n      <td>1000002</td>\n      <td>SB.Pallas</td>\n    </tr>\n    <tr>\n      <th>1</th>\n      <td>3</td>\n      <td>84960000</td>\n      <td>Juno</td>\n      <td>59000.0</td>\n      <td>2.668285</td>\n      <td>0.256936</td>\n      <td>0.226736</td>\n      <td>2.964468</td>\n      <td>4.329572</td>\n      <td>2.189260</td>\n      <td>1000003</td>\n      <td>SB.Juno</td>\n    </tr>\n    <tr>\n      <th>2</th>\n      <td>5</td>\n      <td>84960000</td>\n      <td>Astraea</td>\n      <td>59000.0</td>\n      <td>2.574037</td>\n      <td>0.190913</td>\n      <td>0.093679</td>\n      <td>2.470881</td>\n      <td>6.259596</td>\n      <td>0.311477</td>\n      <td>1000005</td>\n      <td>SB.Astraea</td>\n    </tr>\n    <tr>\n      <th>3</th>\n      <td>6</td>\n      <td>84960000</td>\n      <td>Hebe</td>\n      <td>59000.0</td>\n      <td>2.424533</td>\n      <td>0.203219</td>\n      <td>0.257255</td>\n      <td>2.419784</td>\n      <td>4.184187</td>\n      <td>3.328107</td>\n      <td>1000006</td>\n      <td>SB.Hebe</td>\n    </tr>\n    <tr>\n      <th>4</th>\n      <td>7</td>\n      <td>84960000</td>\n      <td>Iris</td>\n      <td>59000.0</td>\n      <td>2.387375</td>\n      <td>0.230145</td>\n      <td>0.096370</td>\n      <td>4.530245</td>\n      <td>2.534245</td>\n      <td>4.318395</td>\n      <td>1000007</td>\n      <td>SB.Iris</td>\n    </tr>\n    <tr>\n      <th>...</th>\n      <td>...</td>\n      <td>...</td>\n      <td>...</td>\n      <td>...</td>\n      <td>...</td>\n      <td>...</td>\n      <td>...</td>\n      <td>...</td>\n      <td>...</td>\n      <td>...</td>\n      <td>...</td>\n      <td>...</td>\n    </tr>\n    <tr>\n      <th>92</th>\n      <td>95</td>\n      <td>84960000</td>\n      <td>Arethusa</td>\n      <td>59000.0</td>\n      <td>3.064051</td>\n      <td>0.152789</td>\n      <td>0.226817</td>\n      <td>4.241497</td>\n      <td>2.684048</td>\n      <td>2.578014</td>\n      <td>1000095</td>\n      <td>SB.Arethusa</td>\n    </tr>\n    <tr>\n      <th>93</th>\n      <td>96</td>\n      <td>84960000</td>\n      <td>Aegle</td>\n      <td>59000.0</td>\n      <td>3.048360</td>\n      <td>0.141178</td>\n      <td>0.278942</td>\n      <td>5.611058</td>\n      <td>3.638345</td>\n      <td>3.115040</td>\n      <td>1000096</td>\n      <td>SB.Aegle</td>\n    </tr>\n    <tr>\n      <th>94</th>\n      <td>97</td>\n      <td>84960000</td>\n      <td>Klotho</td>\n      <td>59000.0</td>\n      <td>2.669021</td>\n      <td>0.257298</td>\n      <td>0.205558</td>\n      <td>2.785849</td>\n      <td>4.689231</td>\n      <td>0.723346</td>\n      <td>1000097</td>\n      <td>SB.Klotho</td>\n    </tr>\n    <tr>\n      <th>95</th>\n      <td>98</td>\n      <td>84960000</td>\n      <td>Ianthe</td>\n      <td>59000.0</td>\n      <td>2.686497</td>\n      <td>0.187233</td>\n      <td>0.271867</td>\n      <td>6.176797</td>\n      <td>2.768649</td>\n      <td>3.757108</td>\n      <td>1000098</td>\n      <td>SB.Ianthe</td>\n    </tr>\n    <tr>\n      <th>96</th>\n      <td>99</td>\n      <td>84960000</td>\n      <td>Dike</td>\n      <td>59000.0</td>\n      <td>2.664873</td>\n      <td>0.194961</td>\n      <td>0.241685</td>\n      <td>0.724558</td>\n      <td>3.415827</td>\n      <td>5.845656</td>\n      <td>1000099</td>\n      <td>SB.Dike</td>\n    </tr>\n  </tbody>\n</table>\n<p>97 rows × 12 columns</p>\n</div>"
     },
     "metadata": {},
     "execution_count": 5
    }
   ],
   "source": [
    "elts"
   ]
  },
  {
   "cell_type": "code",
   "execution_count": 6,
   "metadata": {},
   "outputs": [],
   "source": [
    "sim = make_sim_asteroids(epoch=epoch, n0=n0, n1=n1)"
   ]
  },
  {
   "cell_type": "code",
   "execution_count": 7,
   "metadata": {},
   "outputs": [
    {
     "output_type": "execute_result",
     "data": {
      "text/plain": [
       "array([     10,       1,       2,     399,     301,       4,       5,\n",
       "             6,       7,       8,       9, 1000002, 1000003, 1000005,\n",
       "       1000006, 1000007, 1000008, 1000009, 1000010, 1000011, 1000012,\n",
       "       1000013, 1000014, 1000015, 1000016, 1000017, 1000018, 1000019,\n",
       "       1000020, 1000021, 1000022, 1000023, 1000024, 1000025, 1000026,\n",
       "       1000027, 1000028, 1000029, 1000030, 1000031, 1000032, 1000033,\n",
       "       1000034, 1000035, 1000036, 1000037, 1000038, 1000039, 1000040,\n",
       "       1000041, 1000042, 1000043, 1000044, 1000045, 1000046, 1000047,\n",
       "       1000048, 1000049, 1000050, 1000051, 1000052, 1000053, 1000054,\n",
       "       1000055, 1000056, 1000057, 1000058, 1000059, 1000060, 1000061,\n",
       "       1000062, 1000063, 1000064, 1000065, 1000066, 1000067, 1000068,\n",
       "       1000069, 1000070, 1000071, 1000072, 1000073, 1000074, 1000075,\n",
       "       1000076, 1000077, 1000078, 1000079, 1000080, 1000081, 1000082,\n",
       "       1000083, 1000084, 1000085, 1000086, 1000087, 1000088, 1000089,\n",
       "       1000090, 1000091, 1000092, 1000093, 1000094, 1000095, 1000096,\n",
       "       1000097, 1000098, 1000099])"
      ]
     },
     "metadata": {},
     "execution_count": 7
    }
   ],
   "source": [
    "sim.body_ids"
   ]
  },
  {
   "cell_type": "code",
   "execution_count": 8,
   "metadata": {},
   "outputs": [],
   "source": [
    "# sim.body_namesm"
   ]
  },
  {
   "cell_type": "code",
   "execution_count": 9,
   "metadata": {},
   "outputs": [],
   "source": [
    "mjd0=58900\n",
    "mjd1=59100\n",
    "steps_per_day=1\n",
    "progbar=True"
   ]
  },
  {
   "cell_type": "code",
   "execution_count": 10,
   "metadata": {},
   "outputs": [
    {
     "output_type": "display_data",
     "data": {
      "text/plain": "  0%|          | 0/101 [00:00<?, ?it/s]",
      "application/vnd.jupyter.widget-view+json": {
       "version_major": 2,
       "version_minor": 0,
       "model_id": "23792830b4c2453595ddee9e160e19cc"
      }
     },
     "metadata": {}
    },
    {
     "output_type": "display_data",
     "data": {
      "text/plain": "  0%|          | 0/100 [00:00<?, ?it/s]",
      "application/vnd.jupyter.widget-view+json": {
       "version_major": 2,
       "version_minor": 0,
       "model_id": "f9d2c6f99c104f31965f8ae0ff83b35d"
      }
     },
     "metadata": {}
    }
   ],
   "source": [
    "df = integrate_df(sim_epoch=sim, mjd0=mjd0, mjd1=mjd1, steps_per_day=steps_per_day, \n",
    "                    save_elements=True, progbar=progbar)"
   ]
  },
  {
   "cell_type": "code",
   "execution_count": 11,
   "metadata": {},
   "outputs": [
    {
     "output_type": "execute_result",
     "data": {
      "text/plain": [
       "         TimeID   BodyID      MJD        qx        qy        qz        vx  \\\n",
       "0      84816000       10  58900.0 -0.004221  0.007326  0.000035 -0.000008   \n",
       "1      84816000        1  58900.0 -0.217196  0.256225  0.039910 -0.027079   \n",
       "2      84816000        2  58900.0  0.047415  0.725334  0.006907 -0.020251   \n",
       "3      84816000      399  58900.0 -0.873491  0.478566  0.000017 -0.008494   \n",
       "4      84816000      301  58900.0 -0.872089  0.476317 -0.000083 -0.007999   \n",
       "...         ...      ...      ...       ...       ...       ...       ...   \n",
       "21703  85104000  1000095  59100.0 -3.111452 -1.585699 -0.471925  0.003358   \n",
       "21704  85104000  1000096  59100.0  3.398728  0.113087  0.631092 -0.000909   \n",
       "21705  85104000  1000097  59100.0 -2.410295  0.799996  0.019632 -0.005939   \n",
       "21706  85104000  1000098  59100.0  2.910055  0.711917  0.281902 -0.003599   \n",
       "21707  85104000  1000099  59100.0 -1.288647 -1.710423 -0.107259  0.010158   \n",
       "\n",
       "             vy            vz         a         e       inc     Omega  \\\n",
       "0     -0.000002  2.283442e-07       NaN       NaN       NaN       NaN   \n",
       "1     -0.017177  1.080142e-03  0.387097  0.205652  0.122239  0.843105   \n",
       "2      0.001344  1.186871e-03  0.723328  0.006747  0.059246  1.337354   \n",
       "3     -0.015196  1.518513e-06  1.000768  0.017385  0.000077  2.886969   \n",
       "4     -0.014910 -4.543185e-05  0.002577  0.046343  0.089001  1.691851   \n",
       "...         ...           ...       ...       ...       ...       ...   \n",
       "21703 -0.007615  1.489416e-03  3.063683  0.152904  0.226828 -2.041735   \n",
       "21704  0.008363  1.714845e-03  3.048257  0.141230  0.278947 -0.672116   \n",
       "21705 -0.009104  2.209473e-03  2.668847  0.257323  0.205569  2.785837   \n",
       "21706  0.008276  2.189298e-03  2.686593  0.187256  0.271865 -0.106390   \n",
       "21707 -0.007245 -2.997001e-03  2.664822  0.194959  0.241686  0.724555   \n",
       "\n",
       "          omega         f         M  \n",
       "0           NaN       NaN       NaN  \n",
       "1      0.509335  0.927129  0.627633  \n",
       "2      0.957278 -0.795348 -0.785747  \n",
       "3     -1.065969  0.823827  0.798538  \n",
       "4      1.293892 -3.997685  2.213882  \n",
       "...         ...       ...       ...  \n",
       "21703  2.683601 -3.322059  2.899338  \n",
       "21704 -2.645492  3.368376 -2.844074  \n",
       "21705 -1.594280  1.632117  1.118107  \n",
       "21706  2.768252 -2.412491 -2.134862  \n",
       "21707 -2.867091 -0.063966 -0.042277  \n",
       "\n",
       "[21708 rows x 16 columns]"
      ],
      "text/html": "<div>\n<style scoped>\n    .dataframe tbody tr th:only-of-type {\n        vertical-align: middle;\n    }\n\n    .dataframe tbody tr th {\n        vertical-align: top;\n    }\n\n    .dataframe thead th {\n        text-align: right;\n    }\n</style>\n<table border=\"1\" class=\"dataframe\">\n  <thead>\n    <tr style=\"text-align: right;\">\n      <th></th>\n      <th>TimeID</th>\n      <th>BodyID</th>\n      <th>MJD</th>\n      <th>qx</th>\n      <th>qy</th>\n      <th>qz</th>\n      <th>vx</th>\n      <th>vy</th>\n      <th>vz</th>\n      <th>a</th>\n      <th>e</th>\n      <th>inc</th>\n      <th>Omega</th>\n      <th>omega</th>\n      <th>f</th>\n      <th>M</th>\n    </tr>\n  </thead>\n  <tbody>\n    <tr>\n      <th>0</th>\n      <td>84816000</td>\n      <td>10</td>\n      <td>58900.0</td>\n      <td>-0.004221</td>\n      <td>0.007326</td>\n      <td>0.000035</td>\n      <td>-0.000008</td>\n      <td>-0.000002</td>\n      <td>2.283442e-07</td>\n      <td>NaN</td>\n      <td>NaN</td>\n      <td>NaN</td>\n      <td>NaN</td>\n      <td>NaN</td>\n      <td>NaN</td>\n      <td>NaN</td>\n    </tr>\n    <tr>\n      <th>1</th>\n      <td>84816000</td>\n      <td>1</td>\n      <td>58900.0</td>\n      <td>-0.217196</td>\n      <td>0.256225</td>\n      <td>0.039910</td>\n      <td>-0.027079</td>\n      <td>-0.017177</td>\n      <td>1.080142e-03</td>\n      <td>0.387097</td>\n      <td>0.205652</td>\n      <td>0.122239</td>\n      <td>0.843105</td>\n      <td>0.509335</td>\n      <td>0.927129</td>\n      <td>0.627633</td>\n    </tr>\n    <tr>\n      <th>2</th>\n      <td>84816000</td>\n      <td>2</td>\n      <td>58900.0</td>\n      <td>0.047415</td>\n      <td>0.725334</td>\n      <td>0.006907</td>\n      <td>-0.020251</td>\n      <td>0.001344</td>\n      <td>1.186871e-03</td>\n      <td>0.723328</td>\n      <td>0.006747</td>\n      <td>0.059246</td>\n      <td>1.337354</td>\n      <td>0.957278</td>\n      <td>-0.795348</td>\n      <td>-0.785747</td>\n    </tr>\n    <tr>\n      <th>3</th>\n      <td>84816000</td>\n      <td>399</td>\n      <td>58900.0</td>\n      <td>-0.873491</td>\n      <td>0.478566</td>\n      <td>0.000017</td>\n      <td>-0.008494</td>\n      <td>-0.015196</td>\n      <td>1.518513e-06</td>\n      <td>1.000768</td>\n      <td>0.017385</td>\n      <td>0.000077</td>\n      <td>2.886969</td>\n      <td>-1.065969</td>\n      <td>0.823827</td>\n      <td>0.798538</td>\n    </tr>\n    <tr>\n      <th>4</th>\n      <td>84816000</td>\n      <td>301</td>\n      <td>58900.0</td>\n      <td>-0.872089</td>\n      <td>0.476317</td>\n      <td>-0.000083</td>\n      <td>-0.007999</td>\n      <td>-0.014910</td>\n      <td>-4.543185e-05</td>\n      <td>0.002577</td>\n      <td>0.046343</td>\n      <td>0.089001</td>\n      <td>1.691851</td>\n      <td>1.293892</td>\n      <td>-3.997685</td>\n      <td>2.213882</td>\n    </tr>\n    <tr>\n      <th>...</th>\n      <td>...</td>\n      <td>...</td>\n      <td>...</td>\n      <td>...</td>\n      <td>...</td>\n      <td>...</td>\n      <td>...</td>\n      <td>...</td>\n      <td>...</td>\n      <td>...</td>\n      <td>...</td>\n      <td>...</td>\n      <td>...</td>\n      <td>...</td>\n      <td>...</td>\n      <td>...</td>\n    </tr>\n    <tr>\n      <th>21703</th>\n      <td>85104000</td>\n      <td>1000095</td>\n      <td>59100.0</td>\n      <td>-3.111452</td>\n      <td>-1.585699</td>\n      <td>-0.471925</td>\n      <td>0.003358</td>\n      <td>-0.007615</td>\n      <td>1.489416e-03</td>\n      <td>3.063683</td>\n      <td>0.152904</td>\n      <td>0.226828</td>\n      <td>-2.041735</td>\n      <td>2.683601</td>\n      <td>-3.322059</td>\n      <td>2.899338</td>\n    </tr>\n    <tr>\n      <th>21704</th>\n      <td>85104000</td>\n      <td>1000096</td>\n      <td>59100.0</td>\n      <td>3.398728</td>\n      <td>0.113087</td>\n      <td>0.631092</td>\n      <td>-0.000909</td>\n      <td>0.008363</td>\n      <td>1.714845e-03</td>\n      <td>3.048257</td>\n      <td>0.141230</td>\n      <td>0.278947</td>\n      <td>-0.672116</td>\n      <td>-2.645492</td>\n      <td>3.368376</td>\n      <td>-2.844074</td>\n    </tr>\n    <tr>\n      <th>21705</th>\n      <td>85104000</td>\n      <td>1000097</td>\n      <td>59100.0</td>\n      <td>-2.410295</td>\n      <td>0.799996</td>\n      <td>0.019632</td>\n      <td>-0.005939</td>\n      <td>-0.009104</td>\n      <td>2.209473e-03</td>\n      <td>2.668847</td>\n      <td>0.257323</td>\n      <td>0.205569</td>\n      <td>2.785837</td>\n      <td>-1.594280</td>\n      <td>1.632117</td>\n      <td>1.118107</td>\n    </tr>\n    <tr>\n      <th>21706</th>\n      <td>85104000</td>\n      <td>1000098</td>\n      <td>59100.0</td>\n      <td>2.910055</td>\n      <td>0.711917</td>\n      <td>0.281902</td>\n      <td>-0.003599</td>\n      <td>0.008276</td>\n      <td>2.189298e-03</td>\n      <td>2.686593</td>\n      <td>0.187256</td>\n      <td>0.271865</td>\n      <td>-0.106390</td>\n      <td>2.768252</td>\n      <td>-2.412491</td>\n      <td>-2.134862</td>\n    </tr>\n    <tr>\n      <th>21707</th>\n      <td>85104000</td>\n      <td>1000099</td>\n      <td>59100.0</td>\n      <td>-1.288647</td>\n      <td>-1.710423</td>\n      <td>-0.107259</td>\n      <td>0.010158</td>\n      <td>-0.007245</td>\n      <td>-2.997001e-03</td>\n      <td>2.664822</td>\n      <td>0.194959</td>\n      <td>0.241686</td>\n      <td>0.724555</td>\n      <td>-2.867091</td>\n      <td>-0.063966</td>\n      <td>-0.042277</td>\n    </tr>\n  </tbody>\n</table>\n<p>21708 rows × 16 columns</p>\n</div>"
     },
     "metadata": {},
     "execution_count": 11
    }
   ],
   "source": [
    "df"
   ]
  },
  {
   "cell_type": "code",
   "execution_count": 15,
   "metadata": {},
   "outputs": [],
   "source": [
    "ast = get_asteroids(key_to_body_id=True)"
   ]
  },
  {
   "cell_type": "code",
   "execution_count": 16,
   "metadata": {},
   "outputs": [
    {
     "output_type": "execute_result",
     "data": {
      "text/plain": [
       "         AsteroidID   BodyID AsteroidName     BodyName\n",
       "BodyID                                                \n",
       "1000001           1  1000001        Ceres     SB.Ceres\n",
       "1000002           2  1000002       Pallas    SB.Pallas\n",
       "1000003           3  1000003         Juno      SB.Juno\n",
       "1000004           4  1000004        Vesta     SB.Vesta\n",
       "1000005           5  1000005      Astraea   SB.Astraea\n",
       "...             ...      ...          ...          ...\n",
       "2413590     1413590  2413590     6013 P-L  SB.6013 P-L\n",
       "2413591     1413591  2413591     6331 P-L  SB.6331 P-L\n",
       "2413592     1413592  2413592     6344 P-L  SB.6344 P-L\n",
       "2413593     1413593  2413593     2060 T-2  SB.2060 T-2\n",
       "2413594     1413594  2413594     2678 T-3  SB.2678 T-3\n",
       "\n",
       "[958724 rows x 4 columns]"
      ],
      "text/html": "<div>\n<style scoped>\n    .dataframe tbody tr th:only-of-type {\n        vertical-align: middle;\n    }\n\n    .dataframe tbody tr th {\n        vertical-align: top;\n    }\n\n    .dataframe thead th {\n        text-align: right;\n    }\n</style>\n<table border=\"1\" class=\"dataframe\">\n  <thead>\n    <tr style=\"text-align: right;\">\n      <th></th>\n      <th>AsteroidID</th>\n      <th>BodyID</th>\n      <th>AsteroidName</th>\n      <th>BodyName</th>\n    </tr>\n    <tr>\n      <th>BodyID</th>\n      <th></th>\n      <th></th>\n      <th></th>\n      <th></th>\n    </tr>\n  </thead>\n  <tbody>\n    <tr>\n      <th>1000001</th>\n      <td>1</td>\n      <td>1000001</td>\n      <td>Ceres</td>\n      <td>SB.Ceres</td>\n    </tr>\n    <tr>\n      <th>1000002</th>\n      <td>2</td>\n      <td>1000002</td>\n      <td>Pallas</td>\n      <td>SB.Pallas</td>\n    </tr>\n    <tr>\n      <th>1000003</th>\n      <td>3</td>\n      <td>1000003</td>\n      <td>Juno</td>\n      <td>SB.Juno</td>\n    </tr>\n    <tr>\n      <th>1000004</th>\n      <td>4</td>\n      <td>1000004</td>\n      <td>Vesta</td>\n      <td>SB.Vesta</td>\n    </tr>\n    <tr>\n      <th>1000005</th>\n      <td>5</td>\n      <td>1000005</td>\n      <td>Astraea</td>\n      <td>SB.Astraea</td>\n    </tr>\n    <tr>\n      <th>...</th>\n      <td>...</td>\n      <td>...</td>\n      <td>...</td>\n      <td>...</td>\n    </tr>\n    <tr>\n      <th>2413590</th>\n      <td>1413590</td>\n      <td>2413590</td>\n      <td>6013 P-L</td>\n      <td>SB.6013 P-L</td>\n    </tr>\n    <tr>\n      <th>2413591</th>\n      <td>1413591</td>\n      <td>2413591</td>\n      <td>6331 P-L</td>\n      <td>SB.6331 P-L</td>\n    </tr>\n    <tr>\n      <th>2413592</th>\n      <td>1413592</td>\n      <td>2413592</td>\n      <td>6344 P-L</td>\n      <td>SB.6344 P-L</td>\n    </tr>\n    <tr>\n      <th>2413593</th>\n      <td>1413593</td>\n      <td>2413593</td>\n      <td>2060 T-2</td>\n      <td>SB.2060 T-2</td>\n    </tr>\n    <tr>\n      <th>2413594</th>\n      <td>1413594</td>\n      <td>2413594</td>\n      <td>2678 T-3</td>\n      <td>SB.2678 T-3</td>\n    </tr>\n  </tbody>\n</table>\n<p>958724 rows × 4 columns</p>\n</div>"
     },
     "metadata": {},
     "execution_count": 16
    }
   ],
   "source": [
    "ast"
   ]
  },
  {
   "cell_type": "code",
   "execution_count": 12,
   "metadata": {},
   "outputs": [],
   "source": [
    "# Columns for state vectors and orbital element frames\n",
    "cols_vec = ['TimeID', 'AsteroidID', 'MJD', 'qx', 'qy', 'qz', 'vx', 'vy', 'vz']\n",
    "cols_elt = ['TimeID', 'AsteroidID', 'MJD', 'a', 'e', 'inc', 'Omega', 'omega', 'f', 'M']\n",
    "\n",
    "# Mapping to rename columns to match DB; MariaDB has case insensitive column names :(\n",
    "elt_col_map = {\n",
    "    'Omega':'Omega_node', \n",
    "    'omega': 'omega_peri',\n",
    "}\n"
   ]
  },
  {
   "cell_type": "code",
   "execution_count": 13,
   "metadata": {},
   "outputs": [],
   "source": [
    "mask = df.BodyID > 1000000;\n",
    "df = df[mask]"
   ]
  },
  {
   "cell_type": "code",
   "execution_count": 17,
   "metadata": {},
   "outputs": [],
   "source": [
    "df['AsteroidID'] = ast.loc[df.BodyID, 'AsteroidID'].values"
   ]
  },
  {
   "cell_type": "code",
   "execution_count": 18,
   "metadata": {},
   "outputs": [],
   "source": [
    "df_vec = df[cols_vec]"
   ]
  },
  {
   "cell_type": "code",
   "execution_count": 19,
   "metadata": {},
   "outputs": [],
   "source": [
    "df_elt = df[cols_elt]\n",
    "df_elt.rename(columns=elt_col_map, inplace=True)"
   ]
  },
  {
   "cell_type": "code",
   "execution_count": 20,
   "metadata": {},
   "outputs": [
    {
     "output_type": "stream",
     "name": "stdout",
     "text": [
      "\n********************************************************************************\nIntegrating asteroids 000000-000100 from 58900 to 59100...\n"
     ]
    },
    {
     "output_type": "display_data",
     "data": {
      "text/plain": "  0%|          | 0/101 [00:00<?, ?it/s]",
      "application/vnd.jupyter.widget-view+json": {
       "version_major": 2,
       "version_minor": 0,
       "model_id": "ec59991c94d543ccb9d85bda49105c6d"
      }
     },
     "metadata": {}
    },
    {
     "output_type": "display_data",
     "data": {
      "text/plain": "  0%|          | 0/100 [00:00<?, ?it/s]",
      "application/vnd.jupyter.widget-view+json": {
       "version_major": 2,
       "version_minor": 0,
       "model_id": "286464af145340088d337a970dc6a1c7"
      }
     },
     "metadata": {}
    },
    {
     "output_type": "stream",
     "name": "stdout",
     "text": [
      "\n",
      "********************************************************************************\n",
      "Saving from DataFrame to AsteroidVectors...\n",
      "Extracting 19497 records from DataFrame into CSV files in chunks of 524288 rows...\n",
      "CSV file name: ../data/df2db/AsteroidVectors/pid_292675/AsteroidVectors.csv\n",
      "Elapsed Time for CSV Conversion: 0:00:00.291054\n",
      "Elapsed Time for DB insertion: 0:00:00.878609\n",
      "\n",
      "Saving from DataFrame to AsteroidElements...\n",
      "Extracting 19497 records from DataFrame into CSV files in chunks of 524288 rows...\n",
      "CSV file name: ../data/df2db/AsteroidElements/pid_292675/AsteroidElements.csv\n",
      "Elapsed Time for CSV Conversion: 0:00:00.285199\n",
      "Elapsed Time for DB insertion: 0:00:01.041358\n"
     ]
    }
   ],
   "source": [
    "process_sim(sim=sim, n0=0, n1=100, mjd0=mjd0, mjd1=mjd1, steps_per_day=steps_per_day, truncate=False)"
   ]
  },
  {
   "cell_type": "code",
   "execution_count": null,
   "metadata": {},
   "outputs": [],
   "source": [
    "def csv2db(schema: str, table: str, columns: List[str], i: int, conn):\n",
    "    \"\"\"\n",
    "    Load one CSV file into a staging table for the named DB table.\n",
    "    INPUTS:\n",
    "        schema:    Schema of the DB table\n",
    "        table:     Name of the DB table\n",
    "        i:         Chunk number\n",
    "        conn:      DB connection object\n",
    "    OUTPUTS:\n",
    "        None.  Modifies the database by inserting from the staging table into the main table\n",
    "    \"\"\"\n",
    "\n",
    "    # Destination and staging table names\n",
    "    dest_table, staging_table = make_table_names(schema=schema, table=table, i=i)\n",
    "    # List of column names\n",
    "    col_list = '(' + ','.join(columns) + ')'\n",
    "    # Columns to select\n",
    "    select_fields = ',\\n'.join(columns)\n",
    "\n",
    "    # SQL to insert into the main table from the staging table\n",
    "    sql_insert_stage = \\\n",
    "        f\"\"\"\n",
    "        REPLACE INTO {dest_table}\n",
    "        {col_list}\n",
    "        SELECT\n",
    "        {select_fields}\n",
    "        FROM {staging_table};\n",
    "        \"\"\"\n",
    "\n",
    "    # SQL to drop the staging table, which is no longer needed\n",
    "    sql_drop_stage = f\"DROP TABLE {staging_table};\"\n",
    "\n",
    "    # Insert from the staging table, then drop it\n",
    "    conn.execute(sql_insert_stage)\n",
    "    conn.execute(sql_drop_stage)"
   ]
  },
  {
   "cell_type": "code",
   "execution_count": 22,
   "metadata": {},
   "outputs": [],
   "source": [
    "xx = []\n",
    "for i in range(10):\n",
    "    x = [i,]\n",
    "    xx.append(x)\n",
    "\n"
   ]
  },
  {
   "cell_type": "code",
   "execution_count": 23,
   "metadata": {},
   "outputs": [
    {
     "output_type": "execute_result",
     "data": {
      "text/plain": [
       "[[0], [1], [2], [3], [4], [5], [6], [7], [8], [9]]"
      ]
     },
     "metadata": {},
     "execution_count": 23
    }
   ],
   "source": [
    "xx"
   ]
  },
  {
   "cell_type": "code",
   "execution_count": 24,
   "metadata": {},
   "outputs": [],
   "source": [
    "import itertools"
   ]
  },
  {
   "cell_type": "code",
   "execution_count": 27,
   "metadata": {},
   "outputs": [
    {
     "output_type": "execute_result",
     "data": {
      "text/plain": [
       "[0, 1, 2, 3, 4, 5, 6, 7, 8, 9]"
      ]
     },
     "metadata": {},
     "execution_count": 27
    }
   ],
   "source": [
    "list(itertools.chain.from_iterable(xx))"
   ]
  },
  {
   "cell_type": "code",
   "execution_count": null,
   "metadata": {},
   "outputs": [],
   "source": []
  }
 ],
 "metadata": {
  "kernelspec": {
   "name": "python3",
   "display_name": "Python 3",
   "language": "python"
  },
  "language_info": {
   "codemirror_mode": {
    "name": "ipython",
    "version": 3
   },
   "file_extension": ".py",
   "mimetype": "text/x-python",
   "name": "python",
   "nbconvert_exporter": "python",
   "pygments_lexer": "ipython3",
   "version": "3.8.5-final"
  }
 },
 "nbformat": 4,
 "nbformat_minor": 4
}