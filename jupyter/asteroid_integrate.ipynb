{
 "cells": [
  {
   "cell_type": "code",
   "execution_count": 1,
   "metadata": {},
   "outputs": [],
   "source": [
    "# Core\n",
    "import numpy as np\n",
    "import pandas as pd\n",
    "\n",
    "# Astronomy\n",
    "import rebound"
   ]
  },
  {
   "cell_type": "code",
   "execution_count": 2,
   "metadata": {},
   "outputs": [],
   "source": [
    "# Local imports\n",
    "import kepler_sieve\n",
    "from rebound_sim import make_sim_planets\n",
    "from rebound_integrate import integrate_df\n",
    "from asteroid_element import make_sim_asteroids, get_ast_ref_elts, add_asteroid_elts, get_asteroids\n",
    "from db_config import db_engine\n",
    "from db_utils import sp2df"
   ]
  },
  {
   "cell_type": "code",
   "execution_count": 3,
   "metadata": {},
   "outputs": [],
   "source": [
    "# Typing\n",
    "from typing import Tuple"
   ]
  },
  {
   "cell_type": "code",
   "execution_count": 4,
   "metadata": {},
   "outputs": [],
   "source": [
    "# dir_csv: str = '../data/df2db'\n",
    "# schema = 'KS'\n",
    "# table = 'StateVectors_Planets'\n"
   ]
  },
  {
   "cell_type": "code",
   "execution_count": 5,
   "metadata": {},
   "outputs": [],
   "source": [
    "epoch = 59000\n",
    "n0 = 0\n",
    "n1 = 100\n",
    "elts = get_ast_ref_elts(epoch=epoch, n0=n0, n1=n1)"
   ]
  },
  {
   "cell_type": "code",
   "execution_count": 6,
   "metadata": {},
   "outputs": [
    {
     "output_type": "execute_result",
     "data": {
      "text/plain": [
       "    AsteroidID    TimeID AsteroidName    epoch         a         e       inc  \\\n",
       "0            2  84960000       Pallas  59000.0  2.773841  0.229972  0.607949   \n",
       "1            3  84960000         Juno  59000.0  2.668285  0.256936  0.226736   \n",
       "2            5  84960000      Astraea  59000.0  2.574037  0.190913  0.093679   \n",
       "3            6  84960000         Hebe  59000.0  2.424533  0.203219  0.257255   \n",
       "4            7  84960000         Iris  59000.0  2.387375  0.230145  0.096370   \n",
       "..         ...       ...          ...      ...       ...       ...       ...   \n",
       "92          95  84960000     Arethusa  59000.0  3.064051  0.152789  0.226817   \n",
       "93          96  84960000        Aegle  59000.0  3.048360  0.141178  0.278942   \n",
       "94          97  84960000       Klotho  59000.0  2.669021  0.257298  0.205558   \n",
       "95          98  84960000       Ianthe  59000.0  2.686497  0.187233  0.271867   \n",
       "96          99  84960000         Dike  59000.0  2.664873  0.194961  0.241685   \n",
       "\n",
       "       Omega     omega         M  \n",
       "0   3.019851  5.414053  2.530303  \n",
       "1   2.964468  4.329572  2.189260  \n",
       "2   2.470881  6.259596  0.311477  \n",
       "3   2.419784  4.184187  3.328107  \n",
       "4   4.530245  2.534245  4.318395  \n",
       "..       ...       ...       ...  \n",
       "92  4.241497  2.684048  2.578014  \n",
       "93  5.611058  3.638345  3.115040  \n",
       "94  2.785849  4.689231  0.723346  \n",
       "95  6.176797  2.768649  3.757108  \n",
       "96  0.724558  3.415827  5.845656  \n",
       "\n",
       "[97 rows x 10 columns]"
      ],
      "text/html": "<div>\n<style scoped>\n    .dataframe tbody tr th:only-of-type {\n        vertical-align: middle;\n    }\n\n    .dataframe tbody tr th {\n        vertical-align: top;\n    }\n\n    .dataframe thead th {\n        text-align: right;\n    }\n</style>\n<table border=\"1\" class=\"dataframe\">\n  <thead>\n    <tr style=\"text-align: right;\">\n      <th></th>\n      <th>AsteroidID</th>\n      <th>TimeID</th>\n      <th>AsteroidName</th>\n      <th>epoch</th>\n      <th>a</th>\n      <th>e</th>\n      <th>inc</th>\n      <th>Omega</th>\n      <th>omega</th>\n      <th>M</th>\n    </tr>\n  </thead>\n  <tbody>\n    <tr>\n      <th>0</th>\n      <td>2</td>\n      <td>84960000</td>\n      <td>Pallas</td>\n      <td>59000.0</td>\n      <td>2.773841</td>\n      <td>0.229972</td>\n      <td>0.607949</td>\n      <td>3.019851</td>\n      <td>5.414053</td>\n      <td>2.530303</td>\n    </tr>\n    <tr>\n      <th>1</th>\n      <td>3</td>\n      <td>84960000</td>\n      <td>Juno</td>\n      <td>59000.0</td>\n      <td>2.668285</td>\n      <td>0.256936</td>\n      <td>0.226736</td>\n      <td>2.964468</td>\n      <td>4.329572</td>\n      <td>2.189260</td>\n    </tr>\n    <tr>\n      <th>2</th>\n      <td>5</td>\n      <td>84960000</td>\n      <td>Astraea</td>\n      <td>59000.0</td>\n      <td>2.574037</td>\n      <td>0.190913</td>\n      <td>0.093679</td>\n      <td>2.470881</td>\n      <td>6.259596</td>\n      <td>0.311477</td>\n    </tr>\n    <tr>\n      <th>3</th>\n      <td>6</td>\n      <td>84960000</td>\n      <td>Hebe</td>\n      <td>59000.0</td>\n      <td>2.424533</td>\n      <td>0.203219</td>\n      <td>0.257255</td>\n      <td>2.419784</td>\n      <td>4.184187</td>\n      <td>3.328107</td>\n    </tr>\n    <tr>\n      <th>4</th>\n      <td>7</td>\n      <td>84960000</td>\n      <td>Iris</td>\n      <td>59000.0</td>\n      <td>2.387375</td>\n      <td>0.230145</td>\n      <td>0.096370</td>\n      <td>4.530245</td>\n      <td>2.534245</td>\n      <td>4.318395</td>\n    </tr>\n    <tr>\n      <th>...</th>\n      <td>...</td>\n      <td>...</td>\n      <td>...</td>\n      <td>...</td>\n      <td>...</td>\n      <td>...</td>\n      <td>...</td>\n      <td>...</td>\n      <td>...</td>\n      <td>...</td>\n    </tr>\n    <tr>\n      <th>92</th>\n      <td>95</td>\n      <td>84960000</td>\n      <td>Arethusa</td>\n      <td>59000.0</td>\n      <td>3.064051</td>\n      <td>0.152789</td>\n      <td>0.226817</td>\n      <td>4.241497</td>\n      <td>2.684048</td>\n      <td>2.578014</td>\n    </tr>\n    <tr>\n      <th>93</th>\n      <td>96</td>\n      <td>84960000</td>\n      <td>Aegle</td>\n      <td>59000.0</td>\n      <td>3.048360</td>\n      <td>0.141178</td>\n      <td>0.278942</td>\n      <td>5.611058</td>\n      <td>3.638345</td>\n      <td>3.115040</td>\n    </tr>\n    <tr>\n      <th>94</th>\n      <td>97</td>\n      <td>84960000</td>\n      <td>Klotho</td>\n      <td>59000.0</td>\n      <td>2.669021</td>\n      <td>0.257298</td>\n      <td>0.205558</td>\n      <td>2.785849</td>\n      <td>4.689231</td>\n      <td>0.723346</td>\n    </tr>\n    <tr>\n      <th>95</th>\n      <td>98</td>\n      <td>84960000</td>\n      <td>Ianthe</td>\n      <td>59000.0</td>\n      <td>2.686497</td>\n      <td>0.187233</td>\n      <td>0.271867</td>\n      <td>6.176797</td>\n      <td>2.768649</td>\n      <td>3.757108</td>\n    </tr>\n    <tr>\n      <th>96</th>\n      <td>99</td>\n      <td>84960000</td>\n      <td>Dike</td>\n      <td>59000.0</td>\n      <td>2.664873</td>\n      <td>0.194961</td>\n      <td>0.241685</td>\n      <td>0.724558</td>\n      <td>3.415827</td>\n      <td>5.845656</td>\n    </tr>\n  </tbody>\n</table>\n<p>97 rows × 10 columns</p>\n</div>"
     },
     "metadata": {},
     "execution_count": 6
    }
   ],
   "source": [
    "elts"
   ]
  },
  {
   "cell_type": "code",
   "execution_count": 7,
   "metadata": {},
   "outputs": [],
   "source": [
    "# ast"
   ]
  },
  {
   "cell_type": "code",
   "execution_count": 8,
   "metadata": {},
   "outputs": [],
   "source": [
    "sim = make_sim_asteroids(epoch=epoch, n0=n0, n1=n1)"
   ]
  },
  {
   "cell_type": "code",
   "execution_count": 9,
   "metadata": {},
   "outputs": [
    {
     "output_type": "execute_result",
     "data": {
      "text/plain": [
       "<rebound.Particle object, m=0.0 x=-2.901474180996998 y=-1.1922326535693424 z=0.39014258970008053 vx=0.001943496924910133 vy=-0.008331238903688531 vz=0.0018120636681717218>"
      ]
     },
     "metadata": {},
     "execution_count": 9
    }
   ],
   "source": [
    "sim.particles[12]"
   ]
  },
  {
   "cell_type": "code",
   "execution_count": 10,
   "metadata": {},
   "outputs": [
    {
     "output_type": "execute_result",
     "data": {
      "text/plain": [
       "array([     10,       1,       2,     399,     301,       4,       5,\n",
       "             6,       7,       8,       9, 1000002, 1000003, 1000005,\n",
       "       1000006, 1000007, 1000008, 1000009, 1000010, 1000011, 1000012,\n",
       "       1000013, 1000014, 1000015, 1000016, 1000017, 1000018, 1000019,\n",
       "       1000020, 1000021, 1000022, 1000023, 1000024, 1000025, 1000026,\n",
       "       1000027, 1000028, 1000029, 1000030, 1000031, 1000032, 1000033,\n",
       "       1000034, 1000035, 1000036, 1000037, 1000038, 1000039, 1000040,\n",
       "       1000041, 1000042, 1000043, 1000044, 1000045, 1000046, 1000047,\n",
       "       1000048, 1000049, 1000050, 1000051, 1000052, 1000053, 1000054,\n",
       "       1000055, 1000056, 1000057, 1000058, 1000059, 1000060, 1000061,\n",
       "       1000062, 1000063, 1000064, 1000065, 1000066, 1000067, 1000068,\n",
       "       1000069, 1000070, 1000071, 1000072, 1000073, 1000074, 1000075,\n",
       "       1000076, 1000077, 1000078, 1000079, 1000080, 1000081, 1000082,\n",
       "       1000083, 1000084, 1000085, 1000086, 1000087, 1000088, 1000089,\n",
       "       1000090, 1000091, 1000092, 1000093, 1000094, 1000095, 1000096,\n",
       "       1000097, 1000098, 1000099])"
      ]
     },
     "metadata": {},
     "execution_count": 10
    }
   ],
   "source": [
    "sim.body_ids"
   ]
  },
  {
   "cell_type": "code",
   "execution_count": 11,
   "metadata": {},
   "outputs": [
    {
     "output_type": "execute_result",
     "data": {
      "text/plain": [
       "array(['Sun', 'Mercury Barycenter', 'Venus Barycenter', 'Earth', 'Moon',\n",
       "       'Mars Barycenter', 'Jupiter Barycenter', 'Saturn Barycenter',\n",
       "       'Uranus Barycenter', 'Neptune Barycenter', 'Pluto Barycenter',\n",
       "       'SB.Pallas', 'SB.Juno', 'SB.Astraea', 'SB.Hebe', 'SB.Iris',\n",
       "       'SB.Flora', 'SB.Metis', 'SB.Hygiea', 'SB.Parthenope',\n",
       "       'SB.Victoria', 'SB.Egeria', 'SB.Irene', 'SB.Eunomia', 'SB.Psyche',\n",
       "       'SB.Thetis', 'SB.Melpomene', 'SB.Fortuna', 'SB.Massalia',\n",
       "       'SB.Lutetia', 'SB.Kalliope', 'SB.Thalia', 'SB.Themis',\n",
       "       'SB.Phocaea', 'SB.Proserpina', 'SB.Euterpe', 'SB.Bellona',\n",
       "       'SB.Amphitrite', 'SB.Urania', 'SB.Euphrosyne', 'SB.Pomona',\n",
       "       'SB.Polyhymnia', 'SB.Circe', 'SB.Leukothea', 'SB.Atalante',\n",
       "       'SB.Fides', 'SB.Leda', 'SB.Laetitia', 'SB.Harmonia', 'SB.Daphne',\n",
       "       'SB.Isis', 'SB.Ariadne', 'SB.Nysa', 'SB.Eugenia', 'SB.Hestia',\n",
       "       'SB.Aglaja', 'SB.Doris', 'SB.Pales', 'SB.Virginia', 'SB.Nemausa',\n",
       "       'SB.Europa', 'SB.Kalypso', 'SB.Alexandra', 'SB.Pandora',\n",
       "       'SB.Melete', 'SB.Mnemosyne', 'SB.Concordia', 'SB.Elpis', 'SB.Echo',\n",
       "       'SB.Danae', 'SB.Erato', 'SB.Ausonia', 'SB.Angelina', 'SB.Cybele',\n",
       "       'SB.Maja', 'SB.Asia', 'SB.Leto', 'SB.Hesperia', 'SB.Panopaea',\n",
       "       'SB.Niobe', 'SB.Feronia', 'SB.Klytia', 'SB.Galatea', 'SB.Eurydike',\n",
       "       'SB.Freia', 'SB.Frigga', 'SB.Diana', 'SB.Eurynome', 'SB.Sappho',\n",
       "       'SB.Terpsichore', 'SB.Alkmene', 'SB.Beatrix', 'SB.Klio', 'SB.Io',\n",
       "       'SB.Semele', 'SB.Sylvia', 'SB.Thisbe', 'SB.Julia', 'SB.Antiope',\n",
       "       'SB.Aegina', 'SB.Undina', 'SB.Minerva', 'SB.Aurora', 'SB.Arethusa',\n",
       "       'SB.Aegle', 'SB.Klotho', 'SB.Ianthe', 'SB.Dike'], dtype=object)"
      ]
     },
     "metadata": {},
     "execution_count": 11
    }
   ],
   "source": [
    "sim.body_names"
   ]
  },
  {
   "cell_type": "code",
   "execution_count": null,
   "metadata": {},
   "outputs": [],
   "source": []
  }
 ],
 "metadata": {
  "kernelspec": {
   "name": "python3",
   "display_name": "Python 3",
   "language": "python"
  },
  "language_info": {
   "codemirror_mode": {
    "name": "ipython",
    "version": 3
   },
   "file_extension": ".py",
   "mimetype": "text/x-python",
   "name": "python",
   "nbconvert_exporter": "python",
   "pygments_lexer": "ipython3",
   "version": "3.8.5-final"
  }
 },
 "nbformat": 4,
 "nbformat_minor": 4
}