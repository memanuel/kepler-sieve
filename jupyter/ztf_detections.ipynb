{
 "cells": [
  {
   "cell_type": "code",
   "execution_count": 1,
   "metadata": {},
   "outputs": [],
   "source": [
    "# Core\n",
    "import numpy as np\n",
    "import pandas as pd\n",
    "\n",
    "# DB\n",
    "import sqlalchemy\n",
    "from sqlalchemy import create_engine\n",
    "\n",
    "# Astronomy\n",
    "import rebound"
   ]
  },
  {
   "cell_type": "code",
   "execution_count": 2,
   "metadata": {},
   "outputs": [],
   "source": [
    "# Local imports\n",
    "import kepler_sieve\n",
    "from ztf_data_load import db_engine, load_ztf_classes, load_ztf_objects, load_ztf_detections, ztf_detection_add_dir\n",
    "# from db_config import db_engine\n",
    "from db_utils import sp2df"
   ]
  },
  {
   "cell_type": "code",
   "execution_count": 3,
   "metadata": {},
   "outputs": [],
   "source": [
    "df_cls = load_ztf_classes()"
   ]
  },
  {
   "cell_type": "code",
   "execution_count": 4,
   "metadata": {},
   "outputs": [
    {
     "output_type": "execute_result",
     "data": {
      "text/plain": [
       "    ObjectClassID ObjectClassName\n",
       "0               0           Other\n",
       "1               1            Ceph\n",
       "2               2            DSCT\n",
       "3               3              EB\n",
       "4               4             LPV\n",
       "5               5             RRL\n",
       "6               6             SNe\n",
       "7               7           AGN-I\n",
       "8               8          Blazar\n",
       "9               9         CV/Nova\n",
       "10             10            SNIa\n",
       "11             11           SNIbc\n",
       "12             12            SNII\n",
       "13             13           SNIIn\n",
       "14             14            SLSN\n",
       "15             15          EBSD/D\n",
       "16             16             EBC\n",
       "17             17  Periodic-Other\n",
       "18             18             AGN\n",
       "19             19              SN\n",
       "20             20   Variable Star\n",
       "21             21        Asteroid\n",
       "22             22           Bogus\n",
       "23             23          RS-CVn\n",
       "24             24           QSO-I"
      ],
      "text/html": "<div>\n<style scoped>\n    .dataframe tbody tr th:only-of-type {\n        vertical-align: middle;\n    }\n\n    .dataframe tbody tr th {\n        vertical-align: top;\n    }\n\n    .dataframe thead th {\n        text-align: right;\n    }\n</style>\n<table border=\"1\" class=\"dataframe\">\n  <thead>\n    <tr style=\"text-align: right;\">\n      <th></th>\n      <th>ObjectClassID</th>\n      <th>ObjectClassName</th>\n    </tr>\n  </thead>\n  <tbody>\n    <tr>\n      <th>0</th>\n      <td>0</td>\n      <td>Other</td>\n    </tr>\n    <tr>\n      <th>1</th>\n      <td>1</td>\n      <td>Ceph</td>\n    </tr>\n    <tr>\n      <th>2</th>\n      <td>2</td>\n      <td>DSCT</td>\n    </tr>\n    <tr>\n      <th>3</th>\n      <td>3</td>\n      <td>EB</td>\n    </tr>\n    <tr>\n      <th>4</th>\n      <td>4</td>\n      <td>LPV</td>\n    </tr>\n    <tr>\n      <th>5</th>\n      <td>5</td>\n      <td>RRL</td>\n    </tr>\n    <tr>\n      <th>6</th>\n      <td>6</td>\n      <td>SNe</td>\n    </tr>\n    <tr>\n      <th>7</th>\n      <td>7</td>\n      <td>AGN-I</td>\n    </tr>\n    <tr>\n      <th>8</th>\n      <td>8</td>\n      <td>Blazar</td>\n    </tr>\n    <tr>\n      <th>9</th>\n      <td>9</td>\n      <td>CV/Nova</td>\n    </tr>\n    <tr>\n      <th>10</th>\n      <td>10</td>\n      <td>SNIa</td>\n    </tr>\n    <tr>\n      <th>11</th>\n      <td>11</td>\n      <td>SNIbc</td>\n    </tr>\n    <tr>\n      <th>12</th>\n      <td>12</td>\n      <td>SNII</td>\n    </tr>\n    <tr>\n      <th>13</th>\n      <td>13</td>\n      <td>SNIIn</td>\n    </tr>\n    <tr>\n      <th>14</th>\n      <td>14</td>\n      <td>SLSN</td>\n    </tr>\n    <tr>\n      <th>15</th>\n      <td>15</td>\n      <td>EBSD/D</td>\n    </tr>\n    <tr>\n      <th>16</th>\n      <td>16</td>\n      <td>EBC</td>\n    </tr>\n    <tr>\n      <th>17</th>\n      <td>17</td>\n      <td>Periodic-Other</td>\n    </tr>\n    <tr>\n      <th>18</th>\n      <td>18</td>\n      <td>AGN</td>\n    </tr>\n    <tr>\n      <th>19</th>\n      <td>19</td>\n      <td>SN</td>\n    </tr>\n    <tr>\n      <th>20</th>\n      <td>20</td>\n      <td>Variable Star</td>\n    </tr>\n    <tr>\n      <th>21</th>\n      <td>21</td>\n      <td>Asteroid</td>\n    </tr>\n    <tr>\n      <th>22</th>\n      <td>22</td>\n      <td>Bogus</td>\n    </tr>\n    <tr>\n      <th>23</th>\n      <td>23</td>\n      <td>RS-CVn</td>\n    </tr>\n    <tr>\n      <th>24</th>\n      <td>24</td>\n      <td>QSO-I</td>\n    </tr>\n  </tbody>\n</table>\n</div>"
     },
     "metadata": {},
     "execution_count": 4
    }
   ],
   "source": [
    "df_cls"
   ]
  },
  {
   "cell_type": "code",
   "execution_count": 9,
   "metadata": {},
   "outputs": [],
   "source": [
    "df_obj = load_ztf_objects(0, 1000, 'ZTF17')\n"
   ]
  },
  {
   "cell_type": "code",
   "execution_count": 10,
   "metadata": {},
   "outputs": [
    {
     "output_type": "execute_result",
     "data": {
      "text/plain": [
       "         ObjectCD  ObservationCount          mjd0          mjd1     MeanRA  \\\n",
       "0    ZTF17aaaaaal               106  58367.465868  59275.263218  59.899022   \n",
       "1    ZTF17aaaaaam                69  58455.358530  59278.157500  60.275190   \n",
       "2    ZTF17aaaaaan               222  58343.446620  59292.203206  64.334170   \n",
       "3    ZTF17aaaaaao               138  58340.493391  59292.203206  63.989763   \n",
       "4    ZTF17aaaaaas               200  58348.490567  59292.158542  68.578095   \n",
       "..            ...               ...           ...           ...        ...   \n",
       "995  ZTF17aaaafxh               500  58344.475255  59292.166238  82.629663   \n",
       "996  ZTF17aaaafxk               175  58347.448368  59292.206030  82.492257   \n",
       "997  ZTF17aaaafxt                 2  58660.448403  58829.312546  33.720315   \n",
       "998  ZTF17aaaafxv                 3  58721.456852  59127.405174  27.846646   \n",
       "999  ZTF17aaaafxw                 2  58435.226759  58721.456852  27.828657   \n",
       "\n",
       "       MeanDEC  MeanMag_g  MeanMag_r  MeanMagPSF_g  MeanMagPSF_r  AsteroidProb  \n",
       "0    50.278084  16.440174  15.665651     16.427925     15.675536      0.991538  \n",
       "1    49.811785  18.715262  16.550849     18.763388     16.572272      0.937527  \n",
       "2    45.594256  16.544040  16.052844     16.547027     16.052882      0.869584  \n",
       "3    45.430490  17.023956  16.095724     17.035832     16.088380      0.799161  \n",
       "4    49.087084  17.309472  16.562732     17.320121     16.566059      0.562905  \n",
       "..         ...        ...        ...           ...           ...           ...  \n",
       "995  32.175141  17.291135  16.236467     17.304867     16.233893      0.919372  \n",
       "996  32.131850  17.856744  16.927300     17.866957     16.936085      0.865683  \n",
       "997  30.026622  16.310497  14.205728     16.478888     14.231841      0.575160  \n",
       "998  30.382350  15.761253  14.454487     15.703148     14.513006      0.955649  \n",
       "999  30.384358  14.499258  14.663340     14.486686     14.682414           NaN  \n",
       "\n",
       "[1000 rows x 11 columns]"
      ],
      "text/html": "<div>\n<style scoped>\n    .dataframe tbody tr th:only-of-type {\n        vertical-align: middle;\n    }\n\n    .dataframe tbody tr th {\n        vertical-align: top;\n    }\n\n    .dataframe thead th {\n        text-align: right;\n    }\n</style>\n<table border=\"1\" class=\"dataframe\">\n  <thead>\n    <tr style=\"text-align: right;\">\n      <th></th>\n      <th>ObjectCD</th>\n      <th>ObservationCount</th>\n      <th>mjd0</th>\n      <th>mjd1</th>\n      <th>MeanRA</th>\n      <th>MeanDEC</th>\n      <th>MeanMag_g</th>\n      <th>MeanMag_r</th>\n      <th>MeanMagPSF_g</th>\n      <th>MeanMagPSF_r</th>\n      <th>AsteroidProb</th>\n    </tr>\n  </thead>\n  <tbody>\n    <tr>\n      <th>0</th>\n      <td>ZTF17aaaaaal</td>\n      <td>106</td>\n      <td>58367.465868</td>\n      <td>59275.263218</td>\n      <td>59.899022</td>\n      <td>50.278084</td>\n      <td>16.440174</td>\n      <td>15.665651</td>\n      <td>16.427925</td>\n      <td>15.675536</td>\n      <td>0.991538</td>\n    </tr>\n    <tr>\n      <th>1</th>\n      <td>ZTF17aaaaaam</td>\n      <td>69</td>\n      <td>58455.358530</td>\n      <td>59278.157500</td>\n      <td>60.275190</td>\n      <td>49.811785</td>\n      <td>18.715262</td>\n      <td>16.550849</td>\n      <td>18.763388</td>\n      <td>16.572272</td>\n      <td>0.937527</td>\n    </tr>\n    <tr>\n      <th>2</th>\n      <td>ZTF17aaaaaan</td>\n      <td>222</td>\n      <td>58343.446620</td>\n      <td>59292.203206</td>\n      <td>64.334170</td>\n      <td>45.594256</td>\n      <td>16.544040</td>\n      <td>16.052844</td>\n      <td>16.547027</td>\n      <td>16.052882</td>\n      <td>0.869584</td>\n    </tr>\n    <tr>\n      <th>3</th>\n      <td>ZTF17aaaaaao</td>\n      <td>138</td>\n      <td>58340.493391</td>\n      <td>59292.203206</td>\n      <td>63.989763</td>\n      <td>45.430490</td>\n      <td>17.023956</td>\n      <td>16.095724</td>\n      <td>17.035832</td>\n      <td>16.088380</td>\n      <td>0.799161</td>\n    </tr>\n    <tr>\n      <th>4</th>\n      <td>ZTF17aaaaaas</td>\n      <td>200</td>\n      <td>58348.490567</td>\n      <td>59292.158542</td>\n      <td>68.578095</td>\n      <td>49.087084</td>\n      <td>17.309472</td>\n      <td>16.562732</td>\n      <td>17.320121</td>\n      <td>16.566059</td>\n      <td>0.562905</td>\n    </tr>\n    <tr>\n      <th>...</th>\n      <td>...</td>\n      <td>...</td>\n      <td>...</td>\n      <td>...</td>\n      <td>...</td>\n      <td>...</td>\n      <td>...</td>\n      <td>...</td>\n      <td>...</td>\n      <td>...</td>\n      <td>...</td>\n    </tr>\n    <tr>\n      <th>995</th>\n      <td>ZTF17aaaafxh</td>\n      <td>500</td>\n      <td>58344.475255</td>\n      <td>59292.166238</td>\n      <td>82.629663</td>\n      <td>32.175141</td>\n      <td>17.291135</td>\n      <td>16.236467</td>\n      <td>17.304867</td>\n      <td>16.233893</td>\n      <td>0.919372</td>\n    </tr>\n    <tr>\n      <th>996</th>\n      <td>ZTF17aaaafxk</td>\n      <td>175</td>\n      <td>58347.448368</td>\n      <td>59292.206030</td>\n      <td>82.492257</td>\n      <td>32.131850</td>\n      <td>17.856744</td>\n      <td>16.927300</td>\n      <td>17.866957</td>\n      <td>16.936085</td>\n      <td>0.865683</td>\n    </tr>\n    <tr>\n      <th>997</th>\n      <td>ZTF17aaaafxt</td>\n      <td>2</td>\n      <td>58660.448403</td>\n      <td>58829.312546</td>\n      <td>33.720315</td>\n      <td>30.026622</td>\n      <td>16.310497</td>\n      <td>14.205728</td>\n      <td>16.478888</td>\n      <td>14.231841</td>\n      <td>0.575160</td>\n    </tr>\n    <tr>\n      <th>998</th>\n      <td>ZTF17aaaafxv</td>\n      <td>3</td>\n      <td>58721.456852</td>\n      <td>59127.405174</td>\n      <td>27.846646</td>\n      <td>30.382350</td>\n      <td>15.761253</td>\n      <td>14.454487</td>\n      <td>15.703148</td>\n      <td>14.513006</td>\n      <td>0.955649</td>\n    </tr>\n    <tr>\n      <th>999</th>\n      <td>ZTF17aaaafxw</td>\n      <td>2</td>\n      <td>58435.226759</td>\n      <td>58721.456852</td>\n      <td>27.828657</td>\n      <td>30.384358</td>\n      <td>14.499258</td>\n      <td>14.663340</td>\n      <td>14.486686</td>\n      <td>14.682414</td>\n      <td>NaN</td>\n    </tr>\n  </tbody>\n</table>\n<p>1000 rows × 11 columns</p>\n</div>"
     },
     "metadata": {},
     "execution_count": 10
    }
   ],
   "source": [
    "df_obj"
   ]
  },
  {
   "cell_type": "code",
   "execution_count": 15,
   "metadata": {},
   "outputs": [
    {
     "output_type": "execute_result",
     "data": {
      "text/plain": [
       "         ObjectCD  ObservationCount          mjd0          mjd1      MeanRA  \\\n",
       "105  ZTF17aaaaalg                14  58315.404676  59210.110914  322.216570   \n",
       "106  ZTF17aaaaalh               135  58288.455069  59219.115637  322.684860   \n",
       "107  ZTF17aaaaali                28  58293.476667  59202.160023  322.781628   \n",
       "108  ZTF17aaaaall                92  58290.424907  59223.139549  320.596098   \n",
       "109  ZTF17aaaaalm                17  58372.310706  59028.468403  320.470442   \n",
       "\n",
       "       MeanDEC  MeanMag_g  MeanMag_r  MeanMagPSF_g  MeanMagPSF_r  AsteroidProb  \n",
       "105  45.588921  16.580629  15.774332     16.604777     15.784315      0.978871  \n",
       "106  45.301219  17.010044  16.349877     17.037022     16.358285      0.771089  \n",
       "107  45.454687  16.840763  15.912118     16.846028     15.919175      0.612402  \n",
       "108  48.335998  16.874866  15.621473     16.873303     15.648763      0.930158  \n",
       "109  48.492629        NaN  16.133761           NaN     16.144079      0.965826  "
      ],
      "text/html": "<div>\n<style scoped>\n    .dataframe tbody tr th:only-of-type {\n        vertical-align: middle;\n    }\n\n    .dataframe tbody tr th {\n        vertical-align: top;\n    }\n\n    .dataframe thead th {\n        text-align: right;\n    }\n</style>\n<table border=\"1\" class=\"dataframe\">\n  <thead>\n    <tr style=\"text-align: right;\">\n      <th></th>\n      <th>ObjectCD</th>\n      <th>ObservationCount</th>\n      <th>mjd0</th>\n      <th>mjd1</th>\n      <th>MeanRA</th>\n      <th>MeanDEC</th>\n      <th>MeanMag_g</th>\n      <th>MeanMag_r</th>\n      <th>MeanMagPSF_g</th>\n      <th>MeanMagPSF_r</th>\n      <th>AsteroidProb</th>\n    </tr>\n  </thead>\n  <tbody>\n    <tr>\n      <th>105</th>\n      <td>ZTF17aaaaalg</td>\n      <td>14</td>\n      <td>58315.404676</td>\n      <td>59210.110914</td>\n      <td>322.216570</td>\n      <td>45.588921</td>\n      <td>16.580629</td>\n      <td>15.774332</td>\n      <td>16.604777</td>\n      <td>15.784315</td>\n      <td>0.978871</td>\n    </tr>\n    <tr>\n      <th>106</th>\n      <td>ZTF17aaaaalh</td>\n      <td>135</td>\n      <td>58288.455069</td>\n      <td>59219.115637</td>\n      <td>322.684860</td>\n      <td>45.301219</td>\n      <td>17.010044</td>\n      <td>16.349877</td>\n      <td>17.037022</td>\n      <td>16.358285</td>\n      <td>0.771089</td>\n    </tr>\n    <tr>\n      <th>107</th>\n      <td>ZTF17aaaaali</td>\n      <td>28</td>\n      <td>58293.476667</td>\n      <td>59202.160023</td>\n      <td>322.781628</td>\n      <td>45.454687</td>\n      <td>16.840763</td>\n      <td>15.912118</td>\n      <td>16.846028</td>\n      <td>15.919175</td>\n      <td>0.612402</td>\n    </tr>\n    <tr>\n      <th>108</th>\n      <td>ZTF17aaaaall</td>\n      <td>92</td>\n      <td>58290.424907</td>\n      <td>59223.139549</td>\n      <td>320.596098</td>\n      <td>48.335998</td>\n      <td>16.874866</td>\n      <td>15.621473</td>\n      <td>16.873303</td>\n      <td>15.648763</td>\n      <td>0.930158</td>\n    </tr>\n    <tr>\n      <th>109</th>\n      <td>ZTF17aaaaalm</td>\n      <td>17</td>\n      <td>58372.310706</td>\n      <td>59028.468403</td>\n      <td>320.470442</td>\n      <td>48.492629</td>\n      <td>NaN</td>\n      <td>16.133761</td>\n      <td>NaN</td>\n      <td>16.144079</td>\n      <td>0.965826</td>\n    </tr>\n  </tbody>\n</table>\n</div>"
     },
     "metadata": {},
     "execution_count": 15
    }
   ],
   "source": [
    "df_obj.iloc[105:110]"
   ]
  },
  {
   "cell_type": "code",
   "execution_count": 17,
   "metadata": {},
   "outputs": [
    {
     "output_type": "execute_result",
     "data": {
      "text/plain": [
       "         ObjectCD  ObservationCount          mjd0          mjd1      MeanRA  \\\n",
       "105  ZTF17aaaaalg                14  58315.404676  59210.110914  322.216570   \n",
       "106  ZTF17aaaaalh               135  58288.455069  59219.115637  322.684860   \n",
       "107  ZTF17aaaaali                28  58293.476667  59202.160023  322.781628   \n",
       "108  ZTF17aaaaall                92  58290.424907  59223.139549  320.596098   \n",
       "109  ZTF17aaaaalm                17  58372.310706  59028.468403  320.470442   \n",
       "\n",
       "       MeanDEC  MeanMag_g  MeanMag_r  MeanMagPSF_g  MeanMagPSF_r  AsteroidProb  \n",
       "105  45.588921  16.580629  15.774332     16.604777     15.784315      0.978871  \n",
       "106  45.301219  17.010044  16.349877     17.037022     16.358285      0.771089  \n",
       "107  45.454687  16.840763  15.912118     16.846028     15.919175      0.612402  \n",
       "108  48.335998  16.874866  15.621473     16.873303     15.648763      0.930158  \n",
       "109  48.492629  -1.000000  16.133761     -1.000000     16.144079      0.965826  "
      ],
      "text/html": "<div>\n<style scoped>\n    .dataframe tbody tr th:only-of-type {\n        vertical-align: middle;\n    }\n\n    .dataframe tbody tr th {\n        vertical-align: top;\n    }\n\n    .dataframe thead th {\n        text-align: right;\n    }\n</style>\n<table border=\"1\" class=\"dataframe\">\n  <thead>\n    <tr style=\"text-align: right;\">\n      <th></th>\n      <th>ObjectCD</th>\n      <th>ObservationCount</th>\n      <th>mjd0</th>\n      <th>mjd1</th>\n      <th>MeanRA</th>\n      <th>MeanDEC</th>\n      <th>MeanMag_g</th>\n      <th>MeanMag_r</th>\n      <th>MeanMagPSF_g</th>\n      <th>MeanMagPSF_r</th>\n      <th>AsteroidProb</th>\n    </tr>\n  </thead>\n  <tbody>\n    <tr>\n      <th>105</th>\n      <td>ZTF17aaaaalg</td>\n      <td>14</td>\n      <td>58315.404676</td>\n      <td>59210.110914</td>\n      <td>322.216570</td>\n      <td>45.588921</td>\n      <td>16.580629</td>\n      <td>15.774332</td>\n      <td>16.604777</td>\n      <td>15.784315</td>\n      <td>0.978871</td>\n    </tr>\n    <tr>\n      <th>106</th>\n      <td>ZTF17aaaaalh</td>\n      <td>135</td>\n      <td>58288.455069</td>\n      <td>59219.115637</td>\n      <td>322.684860</td>\n      <td>45.301219</td>\n      <td>17.010044</td>\n      <td>16.349877</td>\n      <td>17.037022</td>\n      <td>16.358285</td>\n      <td>0.771089</td>\n    </tr>\n    <tr>\n      <th>107</th>\n      <td>ZTF17aaaaali</td>\n      <td>28</td>\n      <td>58293.476667</td>\n      <td>59202.160023</td>\n      <td>322.781628</td>\n      <td>45.454687</td>\n      <td>16.840763</td>\n      <td>15.912118</td>\n      <td>16.846028</td>\n      <td>15.919175</td>\n      <td>0.612402</td>\n    </tr>\n    <tr>\n      <th>108</th>\n      <td>ZTF17aaaaall</td>\n      <td>92</td>\n      <td>58290.424907</td>\n      <td>59223.139549</td>\n      <td>320.596098</td>\n      <td>48.335998</td>\n      <td>16.874866</td>\n      <td>15.621473</td>\n      <td>16.873303</td>\n      <td>15.648763</td>\n      <td>0.930158</td>\n    </tr>\n    <tr>\n      <th>109</th>\n      <td>ZTF17aaaaalm</td>\n      <td>17</td>\n      <td>58372.310706</td>\n      <td>59028.468403</td>\n      <td>320.470442</td>\n      <td>48.492629</td>\n      <td>-1.000000</td>\n      <td>16.133761</td>\n      <td>-1.000000</td>\n      <td>16.144079</td>\n      <td>0.965826</td>\n    </tr>\n  </tbody>\n</table>\n</div>"
     },
     "metadata": {},
     "execution_count": 17
    }
   ],
   "source": [
    "df_obj.iloc[105:110].fillna(-1.0)"
   ]
  },
  {
   "cell_type": "code",
   "execution_count": 13,
   "metadata": {},
   "outputs": [
    {
     "output_type": "execute_result",
     "data": {
      "text/plain": [
       "148"
      ]
     },
     "metadata": {},
     "execution_count": 13
    }
   ],
   "source": [
    "np.sum(np.isnan(df_obj.MeanMag_g))"
   ]
  },
  {
   "cell_type": "code",
   "execution_count": 7,
   "metadata": {},
   "outputs": [],
   "source": [
    "df_det = load_ztf_detections(0, 10, 0)"
   ]
  },
  {
   "cell_type": "code",
   "execution_count": 8,
   "metadata": {},
   "outputs": [
    {
     "output_type": "execute_result",
     "data": {
      "text/plain": [
       "           DetectionID      ObjectCD           mjd         RA        DEC  \\\n",
       "0  1457228490615015059  ZTF18adbdodf  59211.228495  76.092334 -13.177226   \n",
       "1  1457228490015015080  ZTF19aaeaenk  59211.228495  79.314825 -12.558813   \n",
       "2  1442294391315015008  ZTF19aaeaenk  59196.294398  79.314520 -12.558744   \n",
       "3  1457228490215015082  ZTF19abxlvtk  59211.228495  78.132314 -13.282117   \n",
       "4  1457228490615015065  ZTF20acubhxk  59211.228495  76.438589 -13.304719   \n",
       "5  1457228491815015029  ZTF20adahblx  59211.228495  78.402191 -11.033087   \n",
       "6  1457228490715015057  ZTF18achtbsa  59211.228495  77.478173 -12.856938   \n",
       "7  1457228493515015103  ZTF19aadkdtl  59211.228495  79.321827  -9.557205   \n",
       "8  1444339494615015004  ZTF19aadkdtl  59198.339491  79.321482  -9.557297   \n",
       "9  1457228493515015098  ZTF19aadkdtn  59211.228495  78.996498  -9.658824   \n",
       "\n",
       "      MagPSF     MagApp      MagNR  Sigma_RA  Sigma_DEC  \n",
       "0  15.729690  15.630600  13.363000      0.09       0.09  \n",
       "1  14.679854  14.875300  12.433000      0.09       0.09  \n",
       "2  15.751100  15.905200  12.277000      0.09       0.09  \n",
       "3  15.175592  15.220200  12.632999      0.09       0.09  \n",
       "4  15.885690  16.129999  13.796000      0.09       0.09  \n",
       "5  15.333986  15.201600  12.617000      0.09       0.09  \n",
       "6  17.131235  17.323700  13.962000      0.09       0.09  \n",
       "7  15.094650  15.059900  12.924000      0.09       0.09  \n",
       "8  17.247900  17.927099  12.927000      0.09       0.09  \n",
       "9  15.467650  15.290600  13.175000      0.09       0.09  "
      ],
      "text/html": "<div>\n<style scoped>\n    .dataframe tbody tr th:only-of-type {\n        vertical-align: middle;\n    }\n\n    .dataframe tbody tr th {\n        vertical-align: top;\n    }\n\n    .dataframe thead th {\n        text-align: right;\n    }\n</style>\n<table border=\"1\" class=\"dataframe\">\n  <thead>\n    <tr style=\"text-align: right;\">\n      <th></th>\n      <th>DetectionID</th>\n      <th>ObjectCD</th>\n      <th>mjd</th>\n      <th>RA</th>\n      <th>DEC</th>\n      <th>MagPSF</th>\n      <th>MagApp</th>\n      <th>MagNR</th>\n      <th>Sigma_RA</th>\n      <th>Sigma_DEC</th>\n    </tr>\n  </thead>\n  <tbody>\n    <tr>\n      <th>0</th>\n      <td>1457228490615015059</td>\n      <td>ZTF18adbdodf</td>\n      <td>59211.228495</td>\n      <td>76.092334</td>\n      <td>-13.177226</td>\n      <td>15.729690</td>\n      <td>15.630600</td>\n      <td>13.363000</td>\n      <td>0.09</td>\n      <td>0.09</td>\n    </tr>\n    <tr>\n      <th>1</th>\n      <td>1457228490015015080</td>\n      <td>ZTF19aaeaenk</td>\n      <td>59211.228495</td>\n      <td>79.314825</td>\n      <td>-12.558813</td>\n      <td>14.679854</td>\n      <td>14.875300</td>\n      <td>12.433000</td>\n      <td>0.09</td>\n      <td>0.09</td>\n    </tr>\n    <tr>\n      <th>2</th>\n      <td>1442294391315015008</td>\n      <td>ZTF19aaeaenk</td>\n      <td>59196.294398</td>\n      <td>79.314520</td>\n      <td>-12.558744</td>\n      <td>15.751100</td>\n      <td>15.905200</td>\n      <td>12.277000</td>\n      <td>0.09</td>\n      <td>0.09</td>\n    </tr>\n    <tr>\n      <th>3</th>\n      <td>1457228490215015082</td>\n      <td>ZTF19abxlvtk</td>\n      <td>59211.228495</td>\n      <td>78.132314</td>\n      <td>-13.282117</td>\n      <td>15.175592</td>\n      <td>15.220200</td>\n      <td>12.632999</td>\n      <td>0.09</td>\n      <td>0.09</td>\n    </tr>\n    <tr>\n      <th>4</th>\n      <td>1457228490615015065</td>\n      <td>ZTF20acubhxk</td>\n      <td>59211.228495</td>\n      <td>76.438589</td>\n      <td>-13.304719</td>\n      <td>15.885690</td>\n      <td>16.129999</td>\n      <td>13.796000</td>\n      <td>0.09</td>\n      <td>0.09</td>\n    </tr>\n    <tr>\n      <th>5</th>\n      <td>1457228491815015029</td>\n      <td>ZTF20adahblx</td>\n      <td>59211.228495</td>\n      <td>78.402191</td>\n      <td>-11.033087</td>\n      <td>15.333986</td>\n      <td>15.201600</td>\n      <td>12.617000</td>\n      <td>0.09</td>\n      <td>0.09</td>\n    </tr>\n    <tr>\n      <th>6</th>\n      <td>1457228490715015057</td>\n      <td>ZTF18achtbsa</td>\n      <td>59211.228495</td>\n      <td>77.478173</td>\n      <td>-12.856938</td>\n      <td>17.131235</td>\n      <td>17.323700</td>\n      <td>13.962000</td>\n      <td>0.09</td>\n      <td>0.09</td>\n    </tr>\n    <tr>\n      <th>7</th>\n      <td>1457228493515015103</td>\n      <td>ZTF19aadkdtl</td>\n      <td>59211.228495</td>\n      <td>79.321827</td>\n      <td>-9.557205</td>\n      <td>15.094650</td>\n      <td>15.059900</td>\n      <td>12.924000</td>\n      <td>0.09</td>\n      <td>0.09</td>\n    </tr>\n    <tr>\n      <th>8</th>\n      <td>1444339494615015004</td>\n      <td>ZTF19aadkdtl</td>\n      <td>59198.339491</td>\n      <td>79.321482</td>\n      <td>-9.557297</td>\n      <td>17.247900</td>\n      <td>17.927099</td>\n      <td>12.927000</td>\n      <td>0.09</td>\n      <td>0.09</td>\n    </tr>\n    <tr>\n      <th>9</th>\n      <td>1457228493515015098</td>\n      <td>ZTF19aadkdtn</td>\n      <td>59211.228495</td>\n      <td>78.996498</td>\n      <td>-9.658824</td>\n      <td>15.467650</td>\n      <td>15.290600</td>\n      <td>13.175000</td>\n      <td>0.09</td>\n      <td>0.09</td>\n    </tr>\n  </tbody>\n</table>\n</div>"
     },
     "metadata": {},
     "execution_count": 8
    }
   ],
   "source": [
    "df_det"
   ]
  },
  {
   "cell_type": "code",
   "execution_count": 9,
   "metadata": {},
   "outputs": [
    {
     "output_type": "execute_result",
     "data": {
      "text/plain": [
       "DetectionID      int64\n",
       "ObjectCD        object\n",
       "mjd            float64\n",
       "RA             float64\n",
       "DEC            float64\n",
       "MagPSF         float64\n",
       "MagApp         float64\n",
       "MagNR          float64\n",
       "Sigma_RA       float64\n",
       "Sigma_DEC      float64\n",
       "dtype: object"
      ]
     },
     "metadata": {},
     "execution_count": 9
    }
   ],
   "source": [
    "df_det.dtypes"
   ]
  },
  {
   "cell_type": "code",
   "execution_count": null,
   "metadata": {},
   "outputs": [],
   "source": []
  },
  {
   "cell_type": "code",
   "execution_count": null,
   "metadata": {},
   "outputs": [],
   "source": []
  }
 ],
 "metadata": {
  "kernelspec": {
   "display_name": "Python 3",
   "language": "python",
   "name": "python3"
  },
  "language_info": {
   "codemirror_mode": {
    "name": "ipython",
    "version": 3
   },
   "file_extension": ".py",
   "mimetype": "text/x-python",
   "name": "python",
   "nbconvert_exporter": "python",
   "pygments_lexer": "ipython3",
   "version": "3.8.8-final"
  }
 },
 "nbformat": 4,
 "nbformat_minor": 4
}