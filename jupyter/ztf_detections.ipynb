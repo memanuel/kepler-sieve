{
 "cells": [
  {
   "cell_type": "code",
   "execution_count": 1,
   "metadata": {},
   "outputs": [],
   "source": [
    "# Core\n",
    "import numpy as np\n",
    "import pandas as pd\n",
    "\n",
    "# Astronomy\n",
    "import rebound"
   ]
  },
  {
   "cell_type": "code",
   "execution_count": 2,
   "metadata": {},
   "outputs": [],
   "source": [
    "# Local imports\n",
    "import kepler_sieve\n",
    "from db_utils import sp2df, df2db, sp_run\n",
    "from astro_utils import mjd_to_datetime\n",
    "from rebound_sim import make_sim_planets\n",
    "from rebound_integrate import integrate_mjds, integrate_mjds_df\n",
    "from ra_dec import calc_topos\n",
    "from sky_patch import dir2SkyPatchID, SkyPatchID2dir\n",
    "from ztf_data import calc_ztf_detection_times \n",
    "from enrich_detections import calc_detections"
   ]
  },
  {
   "cell_type": "code",
   "execution_count": 3,
   "metadata": {},
   "outputs": [],
   "source": [
    "# Date range\n",
    "mjd0: int = 58270\n",
    "mjd1: int = mjd0 + 10\n",
    "\n",
    "# SkyPatch grid size\n",
    "N_sky_patch: int = 1024"
   ]
  },
  {
   "cell_type": "code",
   "execution_count": 6,
   "metadata": {},
   "outputs": [],
   "source": [
    "# Assemble a batch of detections\n",
    "df = calc_detections(mjd0=mjd0, mjd1=mjd1, N_sky_patch=N_sky_patch)"
   ]
  },
  {
   "cell_type": "code",
   "execution_count": 5,
   "metadata": {},
   "outputs": [
    {
     "output_type": "execute_result",
     "data": {
      "text/plain": [
       "        DetectionTimeID  DetectionID           mjd          ra        dec  \\\n",
       "0                     1            1  58270.167662  197.497479   9.661561   \n",
       "1                     1            2  58270.167662  197.528147   9.462841   \n",
       "2                     1            3  58270.167662  197.125117   9.456218   \n",
       "3                     1            4  58270.167662  196.874981   9.368209   \n",
       "4                     1            5  58270.167662  196.790613   9.262449   \n",
       "...                 ...          ...           ...         ...        ...   \n",
       "675138              910       676048  58279.457650  328.949154  49.864882   \n",
       "675139              910       676049  58279.457650  328.822659  49.862018   \n",
       "675140              910       676050  58279.457650  328.208625  49.975793   \n",
       "675141              910       676051  58279.457650  329.031648  49.880229   \n",
       "675142              910       676052  58279.457650  328.586834  49.929302   \n",
       "\n",
       "              ux        uy        uz        mag  SkyPatchID  k  \n",
       "0      -0.940203 -0.205183  0.271880  17.028400    14222632  1  \n",
       "1      -0.940593 -0.207164  0.269011  20.005800    14218532  1  \n",
       "2      -0.942678 -0.201138  0.266274  19.185200    14232865  1  \n",
       "3      -0.944177 -0.198029  0.263275  19.778099    14241053  1  \n",
       "4      -0.944884 -0.197557  0.261085  19.809299    14241050  1  \n",
       "...          ...       ...       ...        ...         ... ..  \n",
       "675138  0.552229 -0.000933  0.833692  18.890301     3486718  1  \n",
       "675139  0.551526 -0.002082  0.834155  18.224300     3484669  1  \n",
       "675140  0.546627 -0.006244  0.837353  18.119600     3466232  1  \n",
       "675141  0.552531 -0.000038  0.833492  18.830299     3486719  1  \n",
       "675142  0.549381 -0.003432  0.835565  18.100000     3476475  1  \n",
       "\n",
       "[675143 rows x 11 columns]"
      ],
      "text/html": "<div>\n<style scoped>\n    .dataframe tbody tr th:only-of-type {\n        vertical-align: middle;\n    }\n\n    .dataframe tbody tr th {\n        vertical-align: top;\n    }\n\n    .dataframe thead th {\n        text-align: right;\n    }\n</style>\n<table border=\"1\" class=\"dataframe\">\n  <thead>\n    <tr style=\"text-align: right;\">\n      <th></th>\n      <th>DetectionTimeID</th>\n      <th>DetectionID</th>\n      <th>mjd</th>\n      <th>ra</th>\n      <th>dec</th>\n      <th>ux</th>\n      <th>uy</th>\n      <th>uz</th>\n      <th>mag</th>\n      <th>SkyPatchID</th>\n      <th>k</th>\n    </tr>\n  </thead>\n  <tbody>\n    <tr>\n      <th>0</th>\n      <td>1</td>\n      <td>1</td>\n      <td>58270.167662</td>\n      <td>197.497479</td>\n      <td>9.661561</td>\n      <td>-0.940203</td>\n      <td>-0.205183</td>\n      <td>0.271880</td>\n      <td>17.028400</td>\n      <td>14222632</td>\n      <td>1</td>\n    </tr>\n    <tr>\n      <th>1</th>\n      <td>1</td>\n      <td>2</td>\n      <td>58270.167662</td>\n      <td>197.528147</td>\n      <td>9.462841</td>\n      <td>-0.940593</td>\n      <td>-0.207164</td>\n      <td>0.269011</td>\n      <td>20.005800</td>\n      <td>14218532</td>\n      <td>1</td>\n    </tr>\n    <tr>\n      <th>2</th>\n      <td>1</td>\n      <td>3</td>\n      <td>58270.167662</td>\n      <td>197.125117</td>\n      <td>9.456218</td>\n      <td>-0.942678</td>\n      <td>-0.201138</td>\n      <td>0.266274</td>\n      <td>19.185200</td>\n      <td>14232865</td>\n      <td>1</td>\n    </tr>\n    <tr>\n      <th>3</th>\n      <td>1</td>\n      <td>4</td>\n      <td>58270.167662</td>\n      <td>196.874981</td>\n      <td>9.368209</td>\n      <td>-0.944177</td>\n      <td>-0.198029</td>\n      <td>0.263275</td>\n      <td>19.778099</td>\n      <td>14241053</td>\n      <td>1</td>\n    </tr>\n    <tr>\n      <th>4</th>\n      <td>1</td>\n      <td>5</td>\n      <td>58270.167662</td>\n      <td>196.790613</td>\n      <td>9.262449</td>\n      <td>-0.944884</td>\n      <td>-0.197557</td>\n      <td>0.261085</td>\n      <td>19.809299</td>\n      <td>14241050</td>\n      <td>1</td>\n    </tr>\n    <tr>\n      <th>...</th>\n      <td>...</td>\n      <td>...</td>\n      <td>...</td>\n      <td>...</td>\n      <td>...</td>\n      <td>...</td>\n      <td>...</td>\n      <td>...</td>\n      <td>...</td>\n      <td>...</td>\n      <td>...</td>\n    </tr>\n    <tr>\n      <th>675138</th>\n      <td>910</td>\n      <td>676048</td>\n      <td>58279.457650</td>\n      <td>328.949154</td>\n      <td>49.864882</td>\n      <td>0.552229</td>\n      <td>-0.000933</td>\n      <td>0.833692</td>\n      <td>18.890301</td>\n      <td>3486718</td>\n      <td>1</td>\n    </tr>\n    <tr>\n      <th>675139</th>\n      <td>910</td>\n      <td>676049</td>\n      <td>58279.457650</td>\n      <td>328.822659</td>\n      <td>49.862018</td>\n      <td>0.551526</td>\n      <td>-0.002082</td>\n      <td>0.834155</td>\n      <td>18.224300</td>\n      <td>3484669</td>\n      <td>1</td>\n    </tr>\n    <tr>\n      <th>675140</th>\n      <td>910</td>\n      <td>676050</td>\n      <td>58279.457650</td>\n      <td>328.208625</td>\n      <td>49.975793</td>\n      <td>0.546627</td>\n      <td>-0.006244</td>\n      <td>0.837353</td>\n      <td>18.119600</td>\n      <td>3466232</td>\n      <td>1</td>\n    </tr>\n    <tr>\n      <th>675141</th>\n      <td>910</td>\n      <td>676051</td>\n      <td>58279.457650</td>\n      <td>329.031648</td>\n      <td>49.880229</td>\n      <td>0.552531</td>\n      <td>-0.000038</td>\n      <td>0.833492</td>\n      <td>18.830299</td>\n      <td>3486719</td>\n      <td>1</td>\n    </tr>\n    <tr>\n      <th>675142</th>\n      <td>910</td>\n      <td>676052</td>\n      <td>58279.457650</td>\n      <td>328.586834</td>\n      <td>49.929302</td>\n      <td>0.549381</td>\n      <td>-0.003432</td>\n      <td>0.835565</td>\n      <td>18.100000</td>\n      <td>3476475</td>\n      <td>1</td>\n    </tr>\n  </tbody>\n</table>\n<p>675143 rows × 11 columns</p>\n</div>"
     },
     "metadata": {},
     "execution_count": 5
    }
   ],
   "source": [
    "df"
   ]
  },
  {
   "source": [
    "## Calculate Direction of the Detections from RA/DEC"
   ],
   "cell_type": "markdown",
   "metadata": {}
  },
  {
   "cell_type": "code",
   "execution_count": 3,
   "metadata": {},
   "outputs": [],
   "source": [
    "# Date range\n",
    "mjd0: int = 58270\n",
    "mjd1: int = mjd0 + 10"
   ]
  },
  {
   "cell_type": "code",
   "execution_count": 4,
   "metadata": {},
   "outputs": [],
   "source": [
    "# Get DataFrame of raw detections\n",
    "params = {'mjd0':mjd0, 'mjd1': mjd1}\n",
    "df = sp2df('KS.GetRawDetections', params)"
   ]
  },
  {
   "cell_type": "code",
   "execution_count": 5,
   "metadata": {},
   "outputs": [],
   "source": [
    "# Calculate direction\n",
    "ztf_detection_add_dir(df)"
   ]
  },
  {
   "source": [
    "## Calculate SkyPatchID"
   ],
   "cell_type": "markdown",
   "metadata": {}
  },
  {
   "cell_type": "code",
   "execution_count": 6,
   "metadata": {},
   "outputs": [],
   "source": [
    "# Nx3 array of directions\n",
    "dir = df[['ux', 'uy', 'uz']].values\n",
    "N: int = 1024"
   ]
  },
  {
   "cell_type": "code",
   "execution_count": 7,
   "metadata": {},
   "outputs": [],
   "source": [
    "# Calculate the SkyPatchID\n",
    "SkyPatchID = dir2SkyPatchID(dir, N)"
   ]
  },
  {
   "cell_type": "code",
   "execution_count": 8,
   "metadata": {},
   "outputs": [],
   "source": [
    "# Add the SkyPatchID\n",
    "df['SkyPatchID'] = SkyPatchID"
   ]
  },
  {
   "cell_type": "code",
   "execution_count": 9,
   "metadata": {},
   "outputs": [],
   "source": [
    "# Add the field k for the detection number in each SkyPatch\n",
    "df['k'] = df.groupby(['DetectionTimeID', 'SkyPatchID']).cumcount()+1"
   ]
  },
  {
   "cell_type": "code",
   "execution_count": 10,
   "metadata": {},
   "outputs": [
    {
     "output_type": "execute_result",
     "data": {
      "text/plain": [
       "        DetectionTimeID  DetectionID           mjd          ra        dec  \\\n",
       "0                     1            1  58270.167662  197.497479   9.661561   \n",
       "1                     1            2  58270.167662  197.528147   9.462841   \n",
       "2                     1            3  58270.167662  197.125117   9.456218   \n",
       "3                     1            4  58270.167662  196.874981   9.368209   \n",
       "4                     1            5  58270.167662  196.790613   9.262449   \n",
       "...                 ...          ...           ...         ...        ...   \n",
       "676048              910       676049  58279.457650  328.822659  49.862018   \n",
       "676049              910       676050  58279.457650  328.208625  49.975793   \n",
       "676050              910       676051  58279.457650  329.031648  49.880229   \n",
       "676051              910       676052  58279.457650  328.586834  49.929302   \n",
       "676052              910       676053  58279.457650  328.595560  49.927447   \n",
       "\n",
       "              ux        uy        uz        mag  SkyPatchID  k  \n",
       "0      -0.940203 -0.205183  0.271880  17.028400    14222632  1  \n",
       "1      -0.940593 -0.207164  0.269011  20.005800    14218532  1  \n",
       "2      -0.942678 -0.201138  0.266274  19.185200    14232865  1  \n",
       "3      -0.944177 -0.198029  0.263275  19.778099    14241053  1  \n",
       "4      -0.944884 -0.197557  0.261085  19.809299    14241050  1  \n",
       "...          ...       ...       ...        ...         ... ..  \n",
       "676048  0.551526 -0.002082  0.834155  18.224300     3484669  1  \n",
       "676049  0.546627 -0.006244  0.837353  18.119600     3466232  1  \n",
       "676050  0.552531 -0.000038  0.833492  18.830299     3486719  1  \n",
       "676051  0.549381 -0.003432  0.835565  18.100000     3476475  1  \n",
       "676052  0.549454 -0.003375  0.835517  20.613199     3476475  2  \n",
       "\n",
       "[676053 rows x 11 columns]"
      ],
      "text/html": "<div>\n<style scoped>\n    .dataframe tbody tr th:only-of-type {\n        vertical-align: middle;\n    }\n\n    .dataframe tbody tr th {\n        vertical-align: top;\n    }\n\n    .dataframe thead th {\n        text-align: right;\n    }\n</style>\n<table border=\"1\" class=\"dataframe\">\n  <thead>\n    <tr style=\"text-align: right;\">\n      <th></th>\n      <th>DetectionTimeID</th>\n      <th>DetectionID</th>\n      <th>mjd</th>\n      <th>ra</th>\n      <th>dec</th>\n      <th>ux</th>\n      <th>uy</th>\n      <th>uz</th>\n      <th>mag</th>\n      <th>SkyPatchID</th>\n      <th>k</th>\n    </tr>\n  </thead>\n  <tbody>\n    <tr>\n      <th>0</th>\n      <td>1</td>\n      <td>1</td>\n      <td>58270.167662</td>\n      <td>197.497479</td>\n      <td>9.661561</td>\n      <td>-0.940203</td>\n      <td>-0.205183</td>\n      <td>0.271880</td>\n      <td>17.028400</td>\n      <td>14222632</td>\n      <td>1</td>\n    </tr>\n    <tr>\n      <th>1</th>\n      <td>1</td>\n      <td>2</td>\n      <td>58270.167662</td>\n      <td>197.528147</td>\n      <td>9.462841</td>\n      <td>-0.940593</td>\n      <td>-0.207164</td>\n      <td>0.269011</td>\n      <td>20.005800</td>\n      <td>14218532</td>\n      <td>1</td>\n    </tr>\n    <tr>\n      <th>2</th>\n      <td>1</td>\n      <td>3</td>\n      <td>58270.167662</td>\n      <td>197.125117</td>\n      <td>9.456218</td>\n      <td>-0.942678</td>\n      <td>-0.201138</td>\n      <td>0.266274</td>\n      <td>19.185200</td>\n      <td>14232865</td>\n      <td>1</td>\n    </tr>\n    <tr>\n      <th>3</th>\n      <td>1</td>\n      <td>4</td>\n      <td>58270.167662</td>\n      <td>196.874981</td>\n      <td>9.368209</td>\n      <td>-0.944177</td>\n      <td>-0.198029</td>\n      <td>0.263275</td>\n      <td>19.778099</td>\n      <td>14241053</td>\n      <td>1</td>\n    </tr>\n    <tr>\n      <th>4</th>\n      <td>1</td>\n      <td>5</td>\n      <td>58270.167662</td>\n      <td>196.790613</td>\n      <td>9.262449</td>\n      <td>-0.944884</td>\n      <td>-0.197557</td>\n      <td>0.261085</td>\n      <td>19.809299</td>\n      <td>14241050</td>\n      <td>1</td>\n    </tr>\n    <tr>\n      <th>...</th>\n      <td>...</td>\n      <td>...</td>\n      <td>...</td>\n      <td>...</td>\n      <td>...</td>\n      <td>...</td>\n      <td>...</td>\n      <td>...</td>\n      <td>...</td>\n      <td>...</td>\n      <td>...</td>\n    </tr>\n    <tr>\n      <th>676048</th>\n      <td>910</td>\n      <td>676049</td>\n      <td>58279.457650</td>\n      <td>328.822659</td>\n      <td>49.862018</td>\n      <td>0.551526</td>\n      <td>-0.002082</td>\n      <td>0.834155</td>\n      <td>18.224300</td>\n      <td>3484669</td>\n      <td>1</td>\n    </tr>\n    <tr>\n      <th>676049</th>\n      <td>910</td>\n      <td>676050</td>\n      <td>58279.457650</td>\n      <td>328.208625</td>\n      <td>49.975793</td>\n      <td>0.546627</td>\n      <td>-0.006244</td>\n      <td>0.837353</td>\n      <td>18.119600</td>\n      <td>3466232</td>\n      <td>1</td>\n    </tr>\n    <tr>\n      <th>676050</th>\n      <td>910</td>\n      <td>676051</td>\n      <td>58279.457650</td>\n      <td>329.031648</td>\n      <td>49.880229</td>\n      <td>0.552531</td>\n      <td>-0.000038</td>\n      <td>0.833492</td>\n      <td>18.830299</td>\n      <td>3486719</td>\n      <td>1</td>\n    </tr>\n    <tr>\n      <th>676051</th>\n      <td>910</td>\n      <td>676052</td>\n      <td>58279.457650</td>\n      <td>328.586834</td>\n      <td>49.929302</td>\n      <td>0.549381</td>\n      <td>-0.003432</td>\n      <td>0.835565</td>\n      <td>18.100000</td>\n      <td>3476475</td>\n      <td>1</td>\n    </tr>\n    <tr>\n      <th>676052</th>\n      <td>910</td>\n      <td>676053</td>\n      <td>58279.457650</td>\n      <td>328.595560</td>\n      <td>49.927447</td>\n      <td>0.549454</td>\n      <td>-0.003375</td>\n      <td>0.835517</td>\n      <td>20.613199</td>\n      <td>3476475</td>\n      <td>2</td>\n    </tr>\n  </tbody>\n</table>\n<p>676053 rows × 11 columns</p>\n</div>"
     },
     "metadata": {},
     "execution_count": 10
    }
   ],
   "source": [
    "df"
   ]
  },
  {
   "source": [
    "## Check Distance from SkyPatch Midpoint to Direction u"
   ],
   "cell_type": "markdown",
   "metadata": {}
  },
  {
   "cell_type": "code",
   "execution_count": 12,
   "metadata": {},
   "outputs": [],
   "source": [
    "# Direction at midpoint of the sky patches\n",
    "dir_mid = SkyPatchID2dir(SkyPatchID, N=N)\n",
    "\n",
    "# Difference to observed direction\n",
    "diff = np.linalg.norm(dir-dir_mid, axis=1)\n",
    "\n",
    "# Mean and max difference\n",
    "diff_mean = np.mean(diff)\n",
    "diff_max = np.max(diff)"
   ]
  },
  {
   "cell_type": "code",
   "execution_count": 16,
   "metadata": {},
   "outputs": [
    {
     "output_type": "stream",
     "name": "stdout",
     "text": [
      "Difference from quoted direction to center of SkyPatch: (deg)\nMean: 0.0978\nMax:  0.2444\n"
     ]
    }
   ],
   "source": [
    "# Report results\n",
    "print('Difference from quoted direction to center of SkyPatch: (deg)')\n",
    "print(f'Mean: {diff_mean*360:6.4f}')\n",
    "print(f'Max:  {diff_max*360:6.4f}')"
   ]
  },
  {
   "source": [
    "## Insert This batch into the SkyPatch"
   ],
   "cell_type": "markdown",
   "metadata": {}
  },
  {
   "cell_type": "code",
   "execution_count": 7,
   "metadata": {},
   "outputs": [
    {
     "output_type": "display_data",
     "data": {
      "text/plain": "  0%|          | 0/1 [00:00<?, ?it/s]",
      "application/vnd.jupyter.widget-view+json": {
       "version_major": 2,
       "version_minor": 0,
       "model_id": "b73c0444f11d486fb9e76ac7a5465608"
      }
     },
     "metadata": {}
    }
   ],
   "source": [
    "columns = ['DetectionTimeID', 'SkyPatchID', 'k', 'DetectionID', 'ux', 'uy', 'uz', 'mag']\n",
    "df2db(df=df, schema='KS', table='Detection', columns=columns)"
   ]
  },
  {
   "source": [
    "## Get SkyPatch Data"
   ],
   "cell_type": "markdown",
   "metadata": {}
  },
  {
   "cell_type": "code",
   "execution_count": 6,
   "metadata": {},
   "outputs": [],
   "source": [
    "# Get cube faces\n",
    "cf = sp2df('KS.GetCubeFace')"
   ]
  },
  {
   "cell_type": "code",
   "execution_count": 7,
   "metadata": {},
   "outputs": [
    {
     "output_type": "execute_result",
     "data": {
      "text/plain": [
       "   CubeFaceID CubeFaceCD  i  j1  j2   ci alpha beta gamma\n",
       "0           1         Z+  3   1   2  1.0     X    Y     Z\n",
       "1           2         Y+  2   3   1  1.0     Z    X     Y\n",
       "2           3         X+  1   2   3  1.0     Y    Z     X\n",
       "3           4         X-  1   2   3 -1.0     Y    Z     X\n",
       "4           5         Y-  2   3   1 -1.0     Z    X     Y\n",
       "5           6         Z-  3   1   2 -1.0     X    Y     Z"
      ],
      "text/html": "<div>\n<style scoped>\n    .dataframe tbody tr th:only-of-type {\n        vertical-align: middle;\n    }\n\n    .dataframe tbody tr th {\n        vertical-align: top;\n    }\n\n    .dataframe thead th {\n        text-align: right;\n    }\n</style>\n<table border=\"1\" class=\"dataframe\">\n  <thead>\n    <tr style=\"text-align: right;\">\n      <th></th>\n      <th>CubeFaceID</th>\n      <th>CubeFaceCD</th>\n      <th>i</th>\n      <th>j1</th>\n      <th>j2</th>\n      <th>ci</th>\n      <th>alpha</th>\n      <th>beta</th>\n      <th>gamma</th>\n    </tr>\n  </thead>\n  <tbody>\n    <tr>\n      <th>0</th>\n      <td>1</td>\n      <td>Z+</td>\n      <td>3</td>\n      <td>1</td>\n      <td>2</td>\n      <td>1.0</td>\n      <td>X</td>\n      <td>Y</td>\n      <td>Z</td>\n    </tr>\n    <tr>\n      <th>1</th>\n      <td>2</td>\n      <td>Y+</td>\n      <td>2</td>\n      <td>3</td>\n      <td>1</td>\n      <td>1.0</td>\n      <td>Z</td>\n      <td>X</td>\n      <td>Y</td>\n    </tr>\n    <tr>\n      <th>2</th>\n      <td>3</td>\n      <td>X+</td>\n      <td>1</td>\n      <td>2</td>\n      <td>3</td>\n      <td>1.0</td>\n      <td>Y</td>\n      <td>Z</td>\n      <td>X</td>\n    </tr>\n    <tr>\n      <th>3</th>\n      <td>4</td>\n      <td>X-</td>\n      <td>1</td>\n      <td>2</td>\n      <td>3</td>\n      <td>-1.0</td>\n      <td>Y</td>\n      <td>Z</td>\n      <td>X</td>\n    </tr>\n    <tr>\n      <th>4</th>\n      <td>5</td>\n      <td>Y-</td>\n      <td>2</td>\n      <td>3</td>\n      <td>1</td>\n      <td>-1.0</td>\n      <td>Z</td>\n      <td>X</td>\n      <td>Y</td>\n    </tr>\n    <tr>\n      <th>5</th>\n      <td>6</td>\n      <td>Z-</td>\n      <td>3</td>\n      <td>1</td>\n      <td>2</td>\n      <td>-1.0</td>\n      <td>X</td>\n      <td>Y</td>\n      <td>Z</td>\n    </tr>\n  </tbody>\n</table>\n</div>"
     },
     "metadata": {},
     "execution_count": 7
    }
   ],
   "source": [
    "cf"
   ]
  },
  {
   "cell_type": "code",
   "execution_count": 30,
   "metadata": {},
   "outputs": [
    {
     "output_type": "stream",
     "name": "stdout",
     "text": [
      "sp2df(sp_name) failed!\n",
      "Traceback (most recent call last):\n",
      "  File \"/home/michael/Harvard/kepler-sieve/src/db_utils.py\", line 74, in sp2df\n",
      "    df = pd.read_sql(sql_stmt, conn)\n",
      "  File \"/home/michael/Anaconda/anaconda3-2020.11/envs/kepler/lib/python3.8/site-packages/pandas/io/sql.py\", line 510, in read_sql\n",
      "    return pandas_sql.read_query(\n",
      "  File \"/home/michael/Anaconda/anaconda3-2020.11/envs/kepler/lib/python3.8/site-packages/pandas/io/sql.py\", line 1294, in read_query\n",
      "    result = self.execute(*args)\n",
      "  File \"/home/michael/Anaconda/anaconda3-2020.11/envs/kepler/lib/python3.8/site-packages/pandas/io/sql.py\", line 1162, in execute\n",
      "    return self.connectable.execution_options().execute(*args, **kwargs)\n",
      "  File \"/home/michael/Anaconda/anaconda3-2020.11/envs/kepler/lib/python3.8/site-packages/sqlalchemy/engine/base.py\", line 1123, in execute\n",
      "    return meth(self, multiparams, params, _EMPTY_EXECUTION_OPTS)\n",
      "  File \"/home/michael/Anaconda/anaconda3-2020.11/envs/kepler/lib/python3.8/site-packages/sqlalchemy/sql/elements.py\", line 310, in _execute_on_connection\n",
      "    return connection._execute_clauseelement(\n",
      "  File \"/home/michael/Anaconda/anaconda3-2020.11/envs/kepler/lib/python3.8/site-packages/sqlalchemy/engine/base.py\", line 1312, in _execute_clauseelement\n",
      "    ret = self._execute_context(\n",
      "  File \"/home/michael/Anaconda/anaconda3-2020.11/envs/kepler/lib/python3.8/site-packages/sqlalchemy/engine/base.py\", line 1671, in _execute_context\n",
      "    self._handle_dbapi_exception(\n",
      "  File \"/home/michael/Anaconda/anaconda3-2020.11/envs/kepler/lib/python3.8/site-packages/sqlalchemy/engine/base.py\", line 1856, in _handle_dbapi_exception\n",
      "    util.raise_(exc_info[1], with_traceback=exc_info[2])\n",
      "  File \"/home/michael/Anaconda/anaconda3-2020.11/envs/kepler/lib/python3.8/site-packages/sqlalchemy/util/compat.py\", line 180, in raise_\n",
      "    raise exception\n",
      "  File \"/home/michael/Anaconda/anaconda3-2020.11/envs/kepler/lib/python3.8/site-packages/sqlalchemy/engine/base.py\", line 1628, in _execute_context\n",
      "    self.dialect.do_execute(\n",
      "  File \"/home/michael/Anaconda/anaconda3-2020.11/envs/kepler/lib/python3.8/site-packages/sqlalchemy/engine/default.py\", line 663, in do_execute\n",
      "    cursor.execute(statement, parameters)\n",
      "  File \"/home/michael/Anaconda/anaconda3-2020.11/envs/kepler/lib/python3.8/site-packages/pymysql/cursors.py\", line 148, in execute\n",
      "    result = self._query(query)\n",
      "  File \"/home/michael/Anaconda/anaconda3-2020.11/envs/kepler/lib/python3.8/site-packages/pymysql/cursors.py\", line 310, in _query\n",
      "    conn.query(q)\n",
      "  File \"/home/michael/Anaconda/anaconda3-2020.11/envs/kepler/lib/python3.8/site-packages/pymysql/connections.py\", line 548, in query\n",
      "    self._affected_rows = self._read_query_result(unbuffered=unbuffered)\n",
      "  File \"/home/michael/Anaconda/anaconda3-2020.11/envs/kepler/lib/python3.8/site-packages/pymysql/connections.py\", line 775, in _read_query_result\n",
      "    result.read()\n",
      "  File \"/home/michael/Anaconda/anaconda3-2020.11/envs/kepler/lib/python3.8/site-packages/pymysql/connections.py\", line 1163, in read\n",
      "    self._read_result_packet(first_packet)\n",
      "  File \"/home/michael/Anaconda/anaconda3-2020.11/envs/kepler/lib/python3.8/site-packages/pymysql/connections.py\", line 1236, in _read_result_packet\n",
      "    self._read_rowdata_packet()\n",
      "  File \"/home/michael/Anaconda/anaconda3-2020.11/envs/kepler/lib/python3.8/site-packages/pymysql/connections.py\", line 1274, in _read_rowdata_packet\n",
      "    rows.append(self._read_row_from_packet(packet))\n",
      "  File \"/home/michael/Anaconda/anaconda3-2020.11/envs/kepler/lib/python3.8/site-packages/pymysql/connections.py\", line 1283, in _read_row_from_packet\n",
      "    data = packet.read_length_coded_string()\n",
      "  File \"/home/michael/Anaconda/anaconda3-2020.11/envs/kepler/lib/python3.8/site-packages/pymysql/protocol.py\", line 173, in read_length_coded_string\n",
      "    if length is None:\n",
      "KeyboardInterrupt\n"
     ]
    }
   ],
   "source": [
    "# Get the SkyPatch DataFrame\n",
    "sp = sp2df('KS.GetSkyPatch')"
   ]
  },
  {
   "cell_type": "code",
   "execution_count": 10,
   "metadata": {},
   "outputs": [
    {
     "output_type": "execute_result",
     "data": {
      "text/plain": [
       "          SkyPatchID  f     i     j         x         y         z\n",
       "0                  0  0     0     0 -0.577256 -0.577256  0.577538\n",
       "1                  1  0     0     1 -0.577444 -0.576880  0.577726\n",
       "2                  2  0     0     2 -0.577632 -0.576503  0.577914\n",
       "3                  3  0     0     3 -0.577820 -0.576126  0.578102\n",
       "4                  4  0     0     4 -0.578008 -0.575749  0.578290\n",
       "...              ... ..   ...   ...       ...       ...       ...\n",
       "25165819    25165819  5  2047  2043  0.578008  0.575749 -0.578290\n",
       "25165820    25165820  5  2047  2044  0.577820  0.576126 -0.578102\n",
       "25165821    25165821  5  2047  2045  0.577632  0.576503 -0.577914\n",
       "25165822    25165822  5  2047  2046  0.577444  0.576880 -0.577726\n",
       "25165823    25165823  5  2047  2047  0.577256  0.577256 -0.577538\n",
       "\n",
       "[25165824 rows x 7 columns]"
      ],
      "text/html": "<div>\n<style scoped>\n    .dataframe tbody tr th:only-of-type {\n        vertical-align: middle;\n    }\n\n    .dataframe tbody tr th {\n        vertical-align: top;\n    }\n\n    .dataframe thead th {\n        text-align: right;\n    }\n</style>\n<table border=\"1\" class=\"dataframe\">\n  <thead>\n    <tr style=\"text-align: right;\">\n      <th></th>\n      <th>SkyPatchID</th>\n      <th>f</th>\n      <th>i</th>\n      <th>j</th>\n      <th>x</th>\n      <th>y</th>\n      <th>z</th>\n    </tr>\n  </thead>\n  <tbody>\n    <tr>\n      <th>0</th>\n      <td>0</td>\n      <td>0</td>\n      <td>0</td>\n      <td>0</td>\n      <td>-0.577256</td>\n      <td>-0.577256</td>\n      <td>0.577538</td>\n    </tr>\n    <tr>\n      <th>1</th>\n      <td>1</td>\n      <td>0</td>\n      <td>0</td>\n      <td>1</td>\n      <td>-0.577444</td>\n      <td>-0.576880</td>\n      <td>0.577726</td>\n    </tr>\n    <tr>\n      <th>2</th>\n      <td>2</td>\n      <td>0</td>\n      <td>0</td>\n      <td>2</td>\n      <td>-0.577632</td>\n      <td>-0.576503</td>\n      <td>0.577914</td>\n    </tr>\n    <tr>\n      <th>3</th>\n      <td>3</td>\n      <td>0</td>\n      <td>0</td>\n      <td>3</td>\n      <td>-0.577820</td>\n      <td>-0.576126</td>\n      <td>0.578102</td>\n    </tr>\n    <tr>\n      <th>4</th>\n      <td>4</td>\n      <td>0</td>\n      <td>0</td>\n      <td>4</td>\n      <td>-0.578008</td>\n      <td>-0.575749</td>\n      <td>0.578290</td>\n    </tr>\n    <tr>\n      <th>...</th>\n      <td>...</td>\n      <td>...</td>\n      <td>...</td>\n      <td>...</td>\n      <td>...</td>\n      <td>...</td>\n      <td>...</td>\n    </tr>\n    <tr>\n      <th>25165819</th>\n      <td>25165819</td>\n      <td>5</td>\n      <td>2047</td>\n      <td>2043</td>\n      <td>0.578008</td>\n      <td>0.575749</td>\n      <td>-0.578290</td>\n    </tr>\n    <tr>\n      <th>25165820</th>\n      <td>25165820</td>\n      <td>5</td>\n      <td>2047</td>\n      <td>2044</td>\n      <td>0.577820</td>\n      <td>0.576126</td>\n      <td>-0.578102</td>\n    </tr>\n    <tr>\n      <th>25165821</th>\n      <td>25165821</td>\n      <td>5</td>\n      <td>2047</td>\n      <td>2045</td>\n      <td>0.577632</td>\n      <td>0.576503</td>\n      <td>-0.577914</td>\n    </tr>\n    <tr>\n      <th>25165822</th>\n      <td>25165822</td>\n      <td>5</td>\n      <td>2047</td>\n      <td>2046</td>\n      <td>0.577444</td>\n      <td>0.576880</td>\n      <td>-0.577726</td>\n    </tr>\n    <tr>\n      <th>25165823</th>\n      <td>25165823</td>\n      <td>5</td>\n      <td>2047</td>\n      <td>2047</td>\n      <td>0.577256</td>\n      <td>0.577256</td>\n      <td>-0.577538</td>\n    </tr>\n  </tbody>\n</table>\n<p>25165824 rows × 7 columns</p>\n</div>"
     },
     "metadata": {},
     "execution_count": 10
    }
   ],
   "source": [
    "sp"
   ]
  },
  {
   "source": [
    "## Insert batch (Just Directions; SkyPatchID Calculated Later)"
   ],
   "cell_type": "markdown",
   "metadata": {}
  },
  {
   "cell_type": "code",
   "execution_count": 11,
   "metadata": {},
   "outputs": [],
   "source": [
    "# Get date range to roll up\n",
    "dts = sp2df('KS.GetRawDetectionDates')"
   ]
  },
  {
   "cell_type": "code",
   "execution_count": 17,
   "metadata": {},
   "outputs": [],
   "source": [
    "mjd0 = dts.mjd0[0]\n",
    "mjd1 = dts.mjd1[0]"
   ]
  },
  {
   "cell_type": "code",
   "execution_count": 19,
   "metadata": {},
   "outputs": [
    {
     "output_type": "execute_result",
     "data": {
      "text/plain": [
       "59296"
      ]
     },
     "metadata": {},
     "execution_count": 19
    }
   ],
   "source": [
    "mjd1"
   ]
  },
  {
   "cell_type": "code",
   "execution_count": 40,
   "metadata": {},
   "outputs": [
    {
     "output_type": "display_data",
     "data": {
      "text/plain": "  0%|          | 0/1 [00:00<?, ?it/s]",
      "application/vnd.jupyter.widget-view+json": {
       "version_major": 2,
       "version_minor": 0,
       "model_id": "db0739f3cce04fca8d8ddfb4a1227d63"
      }
     },
     "metadata": {}
    }
   ],
   "source": [
    "columns = ['DetectionTimeID','DetectionID','ux', 'uy', 'uz', 'mag']\n",
    "df2db(df=df, schema='KS', table='DetectionBatch', columns=columns)"
   ]
  },
  {
   "source": [
    "## Calculate SkyPatchID from the Directions"
   ],
   "cell_type": "markdown",
   "metadata": {}
  },
  {
   "cell_type": "code",
   "execution_count": 63,
   "metadata": {},
   "outputs": [
    {
     "output_type": "execute_result",
     "data": {
      "text/plain": [
       "   CubeFaceID CubeFaceCD  i  j1  j2   ci alpha beta gamma\n",
       "0           1         Z+  3   1   2  1.0     X    Y     Z\n",
       "1           2         Y+  2   3   1  1.0     Z    X     Y\n",
       "2           3         X+  1   2   3  1.0     Y    Z     X\n",
       "3           4         X-  1   2   3 -1.0     Y    Z     X\n",
       "4           5         Y-  2   3   1 -1.0     Z    X     Y\n",
       "5           6         Z-  3   1   2 -1.0     X    Y     Z"
      ],
      "text/html": "<div>\n<style scoped>\n    .dataframe tbody tr th:only-of-type {\n        vertical-align: middle;\n    }\n\n    .dataframe tbody tr th {\n        vertical-align: top;\n    }\n\n    .dataframe thead th {\n        text-align: right;\n    }\n</style>\n<table border=\"1\" class=\"dataframe\">\n  <thead>\n    <tr style=\"text-align: right;\">\n      <th></th>\n      <th>CubeFaceID</th>\n      <th>CubeFaceCD</th>\n      <th>i</th>\n      <th>j1</th>\n      <th>j2</th>\n      <th>ci</th>\n      <th>alpha</th>\n      <th>beta</th>\n      <th>gamma</th>\n    </tr>\n  </thead>\n  <tbody>\n    <tr>\n      <th>0</th>\n      <td>1</td>\n      <td>Z+</td>\n      <td>3</td>\n      <td>1</td>\n      <td>2</td>\n      <td>1.0</td>\n      <td>X</td>\n      <td>Y</td>\n      <td>Z</td>\n    </tr>\n    <tr>\n      <th>1</th>\n      <td>2</td>\n      <td>Y+</td>\n      <td>2</td>\n      <td>3</td>\n      <td>1</td>\n      <td>1.0</td>\n      <td>Z</td>\n      <td>X</td>\n      <td>Y</td>\n    </tr>\n    <tr>\n      <th>2</th>\n      <td>3</td>\n      <td>X+</td>\n      <td>1</td>\n      <td>2</td>\n      <td>3</td>\n      <td>1.0</td>\n      <td>Y</td>\n      <td>Z</td>\n      <td>X</td>\n    </tr>\n    <tr>\n      <th>3</th>\n      <td>4</td>\n      <td>X-</td>\n      <td>1</td>\n      <td>2</td>\n      <td>3</td>\n      <td>-1.0</td>\n      <td>Y</td>\n      <td>Z</td>\n      <td>X</td>\n    </tr>\n    <tr>\n      <th>4</th>\n      <td>5</td>\n      <td>Y-</td>\n      <td>2</td>\n      <td>3</td>\n      <td>1</td>\n      <td>-1.0</td>\n      <td>Z</td>\n      <td>X</td>\n      <td>Y</td>\n    </tr>\n    <tr>\n      <th>5</th>\n      <td>6</td>\n      <td>Z-</td>\n      <td>3</td>\n      <td>1</td>\n      <td>2</td>\n      <td>-1.0</td>\n      <td>X</td>\n      <td>Y</td>\n      <td>Z</td>\n    </tr>\n  </tbody>\n</table>\n</div>"
     },
     "metadata": {},
     "execution_count": 63
    }
   ],
   "source": [
    "cf"
   ]
  },
  {
   "cell_type": "code",
   "execution_count": 84,
   "metadata": {},
   "outputs": [],
   "source": [
    "# Nx3 array of directions\n",
    "dir = df[['ux', 'uy', 'uz']].values"
   ]
  },
  {
   "cell_type": "code",
   "execution_count": 86,
   "metadata": {},
   "outputs": [],
   "source": [
    "SkyPatchID = dir2SkyPatchID(dir, N)"
   ]
  },
  {
   "cell_type": "code",
   "execution_count": 87,
   "metadata": {},
   "outputs": [],
   "source": [
    "dir_sp = sp.loc[SkyPatchID, ['x', 'y', 'z']].values"
   ]
  },
  {
   "cell_type": "code",
   "execution_count": 88,
   "metadata": {},
   "outputs": [],
   "source": [
    "dist = np.linalg.norm(diff, axis=1)"
   ]
  },
  {
   "cell_type": "code",
   "execution_count": 92,
   "metadata": {},
   "outputs": [
    {
     "output_type": "execute_result",
     "data": {
      "text/plain": [
       "0.24436361252903707"
      ]
     },
     "metadata": {},
     "execution_count": 92
    }
   ],
   "source": [
    "np.max(dist)*360.0"
   ]
  },
  {
   "cell_type": "code",
   "execution_count": 93,
   "metadata": {},
   "outputs": [
    {
     "output_type": "execute_result",
     "data": {
      "text/plain": [
       "0.0977585093661368"
      ]
     },
     "metadata": {},
     "execution_count": 93
    }
   ],
   "source": [
    "np.mean(dist)*360.0"
   ]
  },
  {
   "cell_type": "code",
   "execution_count": null,
   "metadata": {},
   "outputs": [],
   "source": []
  }
 ],
 "metadata": {
  "kernelspec": {
   "display_name": "Python 3",
   "language": "python",
   "name": "python3"
  },
  "language_info": {
   "codemirror_mode": {
    "name": "ipython",
    "version": 3
   },
   "file_extension": ".py",
   "mimetype": "text/x-python",
   "name": "python",
   "nbconvert_exporter": "python",
   "pygments_lexer": "ipython3",
   "version": "3.8.5"
  }
 },
 "nbformat": 4,
 "nbformat_minor": 4
}