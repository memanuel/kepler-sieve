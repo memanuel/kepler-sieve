{
 "cells": [
  {
   "cell_type": "code",
   "execution_count": 1,
   "metadata": {},
   "outputs": [],
   "source": [
    "# Core\n",
    "import numpy as np\n",
    "import pandas as pd\n",
    "\n",
    "# Astronomy\n",
    "import rebound"
   ]
  },
  {
   "cell_type": "code",
   "execution_count": 2,
   "metadata": {},
   "outputs": [],
   "source": [
    "# Local imports\n",
    "import kepler_sieve\n",
    "from db_utils import sp2df, df2db, sp_run\n",
    "from astro_utils import mjd_to_datetime\n",
    "from rebound_sim import make_sim_planets\n",
    "from rebound_integrate import integrate_mjds, integrate_mjds_df\n",
    "from ra_dec import calc_topos\n",
    "from ztf_data import calc_ztf_detection_times, ztf_raw_detections, ztf_detection_add_dir"
   ]
  },
  {
   "source": [
    "## Calculate Direction of the Detections from RA/DEC"
   ],
   "cell_type": "markdown",
   "metadata": {}
  },
  {
   "cell_type": "code",
   "execution_count": 3,
   "metadata": {},
   "outputs": [],
   "source": [
    "# Date range\n",
    "mjd0: int = 58270\n",
    "mjd1: int = mjd0 + 10"
   ]
  },
  {
   "cell_type": "code",
   "execution_count": 4,
   "metadata": {},
   "outputs": [],
   "source": [
    "# Get DataFrame of raw detections\n",
    "params = {'mjd0':mjd0, 'mjd1': mjd1}\n",
    "df = sp2df('KS.GetRawDetections', params)"
   ]
  },
  {
   "cell_type": "code",
   "execution_count": 5,
   "metadata": {},
   "outputs": [],
   "source": [
    "# Calculate direction\n",
    "ztf_detection_add_dir(df)"
   ]
  },
  {
   "cell_type": "code",
   "execution_count": 8,
   "metadata": {},
   "outputs": [
    {
     "output_type": "execute_result",
     "data": {
      "text/plain": [
       "        DetectionTimeID  DetectionID           mjd          ra        dec  \\\n",
       "0                     1            1  58270.167662  197.497479   9.661561   \n",
       "1                     1            2  58270.167662  197.528147   9.462841   \n",
       "2                     1            3  58270.167662  197.125117   9.456218   \n",
       "3                     1            4  58270.167662  196.874981   9.368209   \n",
       "4                     1            5  58270.167662  196.790613   9.262449   \n",
       "...                 ...          ...           ...         ...        ...   \n",
       "676048              910       676049  58279.457650  328.822659  49.862018   \n",
       "676049              910       676050  58279.457650  328.208625  49.975793   \n",
       "676050              910       676051  58279.457650  329.031648  49.880229   \n",
       "676051              910       676052  58279.457650  328.586834  49.929302   \n",
       "676052              910       676053  58279.457650  328.595560  49.927447   \n",
       "\n",
       "              ux        uy        uz        mag  \n",
       "0      -0.940203 -0.205183  0.271880  17.028400  \n",
       "1      -0.940593 -0.207164  0.269011  20.005800  \n",
       "2      -0.942678 -0.201138  0.266274  19.185200  \n",
       "3      -0.944177 -0.198029  0.263275  19.778099  \n",
       "4      -0.944884 -0.197557  0.261085  19.809299  \n",
       "...          ...       ...       ...        ...  \n",
       "676048  0.551526 -0.002082  0.834155  18.224300  \n",
       "676049  0.546627 -0.006244  0.837353  18.119600  \n",
       "676050  0.552531 -0.000038  0.833492  18.830299  \n",
       "676051  0.549381 -0.003432  0.835565  18.100000  \n",
       "676052  0.549454 -0.003375  0.835517  20.613199  \n",
       "\n",
       "[676053 rows x 9 columns]"
      ],
      "text/html": "<div>\n<style scoped>\n    .dataframe tbody tr th:only-of-type {\n        vertical-align: middle;\n    }\n\n    .dataframe tbody tr th {\n        vertical-align: top;\n    }\n\n    .dataframe thead th {\n        text-align: right;\n    }\n</style>\n<table border=\"1\" class=\"dataframe\">\n  <thead>\n    <tr style=\"text-align: right;\">\n      <th></th>\n      <th>DetectionTimeID</th>\n      <th>DetectionID</th>\n      <th>mjd</th>\n      <th>ra</th>\n      <th>dec</th>\n      <th>ux</th>\n      <th>uy</th>\n      <th>uz</th>\n      <th>mag</th>\n    </tr>\n  </thead>\n  <tbody>\n    <tr>\n      <th>0</th>\n      <td>1</td>\n      <td>1</td>\n      <td>58270.167662</td>\n      <td>197.497479</td>\n      <td>9.661561</td>\n      <td>-0.940203</td>\n      <td>-0.205183</td>\n      <td>0.271880</td>\n      <td>17.028400</td>\n    </tr>\n    <tr>\n      <th>1</th>\n      <td>1</td>\n      <td>2</td>\n      <td>58270.167662</td>\n      <td>197.528147</td>\n      <td>9.462841</td>\n      <td>-0.940593</td>\n      <td>-0.207164</td>\n      <td>0.269011</td>\n      <td>20.005800</td>\n    </tr>\n    <tr>\n      <th>2</th>\n      <td>1</td>\n      <td>3</td>\n      <td>58270.167662</td>\n      <td>197.125117</td>\n      <td>9.456218</td>\n      <td>-0.942678</td>\n      <td>-0.201138</td>\n      <td>0.266274</td>\n      <td>19.185200</td>\n    </tr>\n    <tr>\n      <th>3</th>\n      <td>1</td>\n      <td>4</td>\n      <td>58270.167662</td>\n      <td>196.874981</td>\n      <td>9.368209</td>\n      <td>-0.944177</td>\n      <td>-0.198029</td>\n      <td>0.263275</td>\n      <td>19.778099</td>\n    </tr>\n    <tr>\n      <th>4</th>\n      <td>1</td>\n      <td>5</td>\n      <td>58270.167662</td>\n      <td>196.790613</td>\n      <td>9.262449</td>\n      <td>-0.944884</td>\n      <td>-0.197557</td>\n      <td>0.261085</td>\n      <td>19.809299</td>\n    </tr>\n    <tr>\n      <th>...</th>\n      <td>...</td>\n      <td>...</td>\n      <td>...</td>\n      <td>...</td>\n      <td>...</td>\n      <td>...</td>\n      <td>...</td>\n      <td>...</td>\n      <td>...</td>\n    </tr>\n    <tr>\n      <th>676048</th>\n      <td>910</td>\n      <td>676049</td>\n      <td>58279.457650</td>\n      <td>328.822659</td>\n      <td>49.862018</td>\n      <td>0.551526</td>\n      <td>-0.002082</td>\n      <td>0.834155</td>\n      <td>18.224300</td>\n    </tr>\n    <tr>\n      <th>676049</th>\n      <td>910</td>\n      <td>676050</td>\n      <td>58279.457650</td>\n      <td>328.208625</td>\n      <td>49.975793</td>\n      <td>0.546627</td>\n      <td>-0.006244</td>\n      <td>0.837353</td>\n      <td>18.119600</td>\n    </tr>\n    <tr>\n      <th>676050</th>\n      <td>910</td>\n      <td>676051</td>\n      <td>58279.457650</td>\n      <td>329.031648</td>\n      <td>49.880229</td>\n      <td>0.552531</td>\n      <td>-0.000038</td>\n      <td>0.833492</td>\n      <td>18.830299</td>\n    </tr>\n    <tr>\n      <th>676051</th>\n      <td>910</td>\n      <td>676052</td>\n      <td>58279.457650</td>\n      <td>328.586834</td>\n      <td>49.929302</td>\n      <td>0.549381</td>\n      <td>-0.003432</td>\n      <td>0.835565</td>\n      <td>18.100000</td>\n    </tr>\n    <tr>\n      <th>676052</th>\n      <td>910</td>\n      <td>676053</td>\n      <td>58279.457650</td>\n      <td>328.595560</td>\n      <td>49.927447</td>\n      <td>0.549454</td>\n      <td>-0.003375</td>\n      <td>0.835517</td>\n      <td>20.613199</td>\n    </tr>\n  </tbody>\n</table>\n<p>676053 rows × 9 columns</p>\n</div>"
     },
     "metadata": {},
     "execution_count": 8
    }
   ],
   "source": [
    "df"
   ]
  },
  {
   "cell_type": "code",
   "execution_count": null,
   "metadata": {},
   "outputs": [],
   "source": []
  },
  {
   "source": [
    "## Get SkyPatch Data"
   ],
   "cell_type": "markdown",
   "metadata": {}
  },
  {
   "cell_type": "code",
   "execution_count": 6,
   "metadata": {},
   "outputs": [],
   "source": [
    "# Get cube faces\n",
    "cf = sp2df('KS.GetCubeFace')"
   ]
  },
  {
   "cell_type": "code",
   "execution_count": 7,
   "metadata": {},
   "outputs": [
    {
     "output_type": "execute_result",
     "data": {
      "text/plain": [
       "   CubeFaceID CubeFaceCD  i  j1  j2   ci alpha beta gamma\n",
       "0           1         Z+  3   1   2  1.0     X    Y     Z\n",
       "1           2         Y+  2   3   1  1.0     Z    X     Y\n",
       "2           3         X+  1   2   3  1.0     Y    Z     X\n",
       "3           4         X-  1   2   3 -1.0     Y    Z     X\n",
       "4           5         Y-  2   3   1 -1.0     Z    X     Y\n",
       "5           6         Z-  3   1   2 -1.0     X    Y     Z"
      ],
      "text/html": "<div>\n<style scoped>\n    .dataframe tbody tr th:only-of-type {\n        vertical-align: middle;\n    }\n\n    .dataframe tbody tr th {\n        vertical-align: top;\n    }\n\n    .dataframe thead th {\n        text-align: right;\n    }\n</style>\n<table border=\"1\" class=\"dataframe\">\n  <thead>\n    <tr style=\"text-align: right;\">\n      <th></th>\n      <th>CubeFaceID</th>\n      <th>CubeFaceCD</th>\n      <th>i</th>\n      <th>j1</th>\n      <th>j2</th>\n      <th>ci</th>\n      <th>alpha</th>\n      <th>beta</th>\n      <th>gamma</th>\n    </tr>\n  </thead>\n  <tbody>\n    <tr>\n      <th>0</th>\n      <td>1</td>\n      <td>Z+</td>\n      <td>3</td>\n      <td>1</td>\n      <td>2</td>\n      <td>1.0</td>\n      <td>X</td>\n      <td>Y</td>\n      <td>Z</td>\n    </tr>\n    <tr>\n      <th>1</th>\n      <td>2</td>\n      <td>Y+</td>\n      <td>2</td>\n      <td>3</td>\n      <td>1</td>\n      <td>1.0</td>\n      <td>Z</td>\n      <td>X</td>\n      <td>Y</td>\n    </tr>\n    <tr>\n      <th>2</th>\n      <td>3</td>\n      <td>X+</td>\n      <td>1</td>\n      <td>2</td>\n      <td>3</td>\n      <td>1.0</td>\n      <td>Y</td>\n      <td>Z</td>\n      <td>X</td>\n    </tr>\n    <tr>\n      <th>3</th>\n      <td>4</td>\n      <td>X-</td>\n      <td>1</td>\n      <td>2</td>\n      <td>3</td>\n      <td>-1.0</td>\n      <td>Y</td>\n      <td>Z</td>\n      <td>X</td>\n    </tr>\n    <tr>\n      <th>4</th>\n      <td>5</td>\n      <td>Y-</td>\n      <td>2</td>\n      <td>3</td>\n      <td>1</td>\n      <td>-1.0</td>\n      <td>Z</td>\n      <td>X</td>\n      <td>Y</td>\n    </tr>\n    <tr>\n      <th>5</th>\n      <td>6</td>\n      <td>Z-</td>\n      <td>3</td>\n      <td>1</td>\n      <td>2</td>\n      <td>-1.0</td>\n      <td>X</td>\n      <td>Y</td>\n      <td>Z</td>\n    </tr>\n  </tbody>\n</table>\n</div>"
     },
     "metadata": {},
     "execution_count": 7
    }
   ],
   "source": [
    "cf"
   ]
  },
  {
   "cell_type": "code",
   "execution_count": 78,
   "metadata": {},
   "outputs": [],
   "source": [
    "# Get the SkyPatch DataFrame\n",
    "sp = sp2df('KS.GetSkyPatch')"
   ]
  },
  {
   "cell_type": "code",
   "execution_count": 10,
   "metadata": {},
   "outputs": [
    {
     "output_type": "execute_result",
     "data": {
      "text/plain": [
       "          SkyPatchID  f     i     j         x         y         z\n",
       "0                  0  0     0     0 -0.577256 -0.577256  0.577538\n",
       "1                  1  0     0     1 -0.577444 -0.576880  0.577726\n",
       "2                  2  0     0     2 -0.577632 -0.576503  0.577914\n",
       "3                  3  0     0     3 -0.577820 -0.576126  0.578102\n",
       "4                  4  0     0     4 -0.578008 -0.575749  0.578290\n",
       "...              ... ..   ...   ...       ...       ...       ...\n",
       "25165819    25165819  5  2047  2043  0.578008  0.575749 -0.578290\n",
       "25165820    25165820  5  2047  2044  0.577820  0.576126 -0.578102\n",
       "25165821    25165821  5  2047  2045  0.577632  0.576503 -0.577914\n",
       "25165822    25165822  5  2047  2046  0.577444  0.576880 -0.577726\n",
       "25165823    25165823  5  2047  2047  0.577256  0.577256 -0.577538\n",
       "\n",
       "[25165824 rows x 7 columns]"
      ],
      "text/html": "<div>\n<style scoped>\n    .dataframe tbody tr th:only-of-type {\n        vertical-align: middle;\n    }\n\n    .dataframe tbody tr th {\n        vertical-align: top;\n    }\n\n    .dataframe thead th {\n        text-align: right;\n    }\n</style>\n<table border=\"1\" class=\"dataframe\">\n  <thead>\n    <tr style=\"text-align: right;\">\n      <th></th>\n      <th>SkyPatchID</th>\n      <th>f</th>\n      <th>i</th>\n      <th>j</th>\n      <th>x</th>\n      <th>y</th>\n      <th>z</th>\n    </tr>\n  </thead>\n  <tbody>\n    <tr>\n      <th>0</th>\n      <td>0</td>\n      <td>0</td>\n      <td>0</td>\n      <td>0</td>\n      <td>-0.577256</td>\n      <td>-0.577256</td>\n      <td>0.577538</td>\n    </tr>\n    <tr>\n      <th>1</th>\n      <td>1</td>\n      <td>0</td>\n      <td>0</td>\n      <td>1</td>\n      <td>-0.577444</td>\n      <td>-0.576880</td>\n      <td>0.577726</td>\n    </tr>\n    <tr>\n      <th>2</th>\n      <td>2</td>\n      <td>0</td>\n      <td>0</td>\n      <td>2</td>\n      <td>-0.577632</td>\n      <td>-0.576503</td>\n      <td>0.577914</td>\n    </tr>\n    <tr>\n      <th>3</th>\n      <td>3</td>\n      <td>0</td>\n      <td>0</td>\n      <td>3</td>\n      <td>-0.577820</td>\n      <td>-0.576126</td>\n      <td>0.578102</td>\n    </tr>\n    <tr>\n      <th>4</th>\n      <td>4</td>\n      <td>0</td>\n      <td>0</td>\n      <td>4</td>\n      <td>-0.578008</td>\n      <td>-0.575749</td>\n      <td>0.578290</td>\n    </tr>\n    <tr>\n      <th>...</th>\n      <td>...</td>\n      <td>...</td>\n      <td>...</td>\n      <td>...</td>\n      <td>...</td>\n      <td>...</td>\n      <td>...</td>\n    </tr>\n    <tr>\n      <th>25165819</th>\n      <td>25165819</td>\n      <td>5</td>\n      <td>2047</td>\n      <td>2043</td>\n      <td>0.578008</td>\n      <td>0.575749</td>\n      <td>-0.578290</td>\n    </tr>\n    <tr>\n      <th>25165820</th>\n      <td>25165820</td>\n      <td>5</td>\n      <td>2047</td>\n      <td>2044</td>\n      <td>0.577820</td>\n      <td>0.576126</td>\n      <td>-0.578102</td>\n    </tr>\n    <tr>\n      <th>25165821</th>\n      <td>25165821</td>\n      <td>5</td>\n      <td>2047</td>\n      <td>2045</td>\n      <td>0.577632</td>\n      <td>0.576503</td>\n      <td>-0.577914</td>\n    </tr>\n    <tr>\n      <th>25165822</th>\n      <td>25165822</td>\n      <td>5</td>\n      <td>2047</td>\n      <td>2046</td>\n      <td>0.577444</td>\n      <td>0.576880</td>\n      <td>-0.577726</td>\n    </tr>\n    <tr>\n      <th>25165823</th>\n      <td>25165823</td>\n      <td>5</td>\n      <td>2047</td>\n      <td>2047</td>\n      <td>0.577256</td>\n      <td>0.577256</td>\n      <td>-0.577538</td>\n    </tr>\n  </tbody>\n</table>\n<p>25165824 rows × 7 columns</p>\n</div>"
     },
     "metadata": {},
     "execution_count": 10
    }
   ],
   "source": [
    "sp"
   ]
  },
  {
   "source": [
    "## Insert batch (Just Directions; SkyPatchID Calculated Later)"
   ],
   "cell_type": "markdown",
   "metadata": {}
  },
  {
   "cell_type": "code",
   "execution_count": 40,
   "metadata": {},
   "outputs": [
    {
     "output_type": "display_data",
     "data": {
      "text/plain": "  0%|          | 0/1 [00:00<?, ?it/s]",
      "application/vnd.jupyter.widget-view+json": {
       "version_major": 2,
       "version_minor": 0,
       "model_id": "db0739f3cce04fca8d8ddfb4a1227d63"
      }
     },
     "metadata": {}
    }
   ],
   "source": [
    "columns = ['DetectionTimeID','DetectionID','ux', 'uy', 'uz', 'mag']\n",
    "df2db(df=df, schema='KS', table='DetectionBatch', columns=columns)"
   ]
  },
  {
   "source": [
    "## Calculate SkyPatchID from the Directions"
   ],
   "cell_type": "markdown",
   "metadata": {}
  },
  {
   "cell_type": "code",
   "execution_count": 63,
   "metadata": {},
   "outputs": [
    {
     "output_type": "execute_result",
     "data": {
      "text/plain": [
       "   CubeFaceID CubeFaceCD  i  j1  j2   ci alpha beta gamma\n",
       "0           1         Z+  3   1   2  1.0     X    Y     Z\n",
       "1           2         Y+  2   3   1  1.0     Z    X     Y\n",
       "2           3         X+  1   2   3  1.0     Y    Z     X\n",
       "3           4         X-  1   2   3 -1.0     Y    Z     X\n",
       "4           5         Y-  2   3   1 -1.0     Z    X     Y\n",
       "5           6         Z-  3   1   2 -1.0     X    Y     Z"
      ],
      "text/html": "<div>\n<style scoped>\n    .dataframe tbody tr th:only-of-type {\n        vertical-align: middle;\n    }\n\n    .dataframe tbody tr th {\n        vertical-align: top;\n    }\n\n    .dataframe thead th {\n        text-align: right;\n    }\n</style>\n<table border=\"1\" class=\"dataframe\">\n  <thead>\n    <tr style=\"text-align: right;\">\n      <th></th>\n      <th>CubeFaceID</th>\n      <th>CubeFaceCD</th>\n      <th>i</th>\n      <th>j1</th>\n      <th>j2</th>\n      <th>ci</th>\n      <th>alpha</th>\n      <th>beta</th>\n      <th>gamma</th>\n    </tr>\n  </thead>\n  <tbody>\n    <tr>\n      <th>0</th>\n      <td>1</td>\n      <td>Z+</td>\n      <td>3</td>\n      <td>1</td>\n      <td>2</td>\n      <td>1.0</td>\n      <td>X</td>\n      <td>Y</td>\n      <td>Z</td>\n    </tr>\n    <tr>\n      <th>1</th>\n      <td>2</td>\n      <td>Y+</td>\n      <td>2</td>\n      <td>3</td>\n      <td>1</td>\n      <td>1.0</td>\n      <td>Z</td>\n      <td>X</td>\n      <td>Y</td>\n    </tr>\n    <tr>\n      <th>2</th>\n      <td>3</td>\n      <td>X+</td>\n      <td>1</td>\n      <td>2</td>\n      <td>3</td>\n      <td>1.0</td>\n      <td>Y</td>\n      <td>Z</td>\n      <td>X</td>\n    </tr>\n    <tr>\n      <th>3</th>\n      <td>4</td>\n      <td>X-</td>\n      <td>1</td>\n      <td>2</td>\n      <td>3</td>\n      <td>-1.0</td>\n      <td>Y</td>\n      <td>Z</td>\n      <td>X</td>\n    </tr>\n    <tr>\n      <th>4</th>\n      <td>5</td>\n      <td>Y-</td>\n      <td>2</td>\n      <td>3</td>\n      <td>1</td>\n      <td>-1.0</td>\n      <td>Z</td>\n      <td>X</td>\n      <td>Y</td>\n    </tr>\n    <tr>\n      <th>5</th>\n      <td>6</td>\n      <td>Z-</td>\n      <td>3</td>\n      <td>1</td>\n      <td>2</td>\n      <td>-1.0</td>\n      <td>X</td>\n      <td>Y</td>\n      <td>Z</td>\n    </tr>\n  </tbody>\n</table>\n</div>"
     },
     "metadata": {},
     "execution_count": 63
    }
   ],
   "source": [
    "cf"
   ]
  },
  {
   "cell_type": "code",
   "execution_count": 83,
   "metadata": {},
   "outputs": [],
   "source": [
    "def dir2SkyPatchID(dir: np.array, N: int):\n",
    "    \"\"\"\n",
    "    Compute a vector of SkyPatchIDs from a 3 vectors of direction components\n",
    "    INPUTS:\n",
    "        dir: An array [ux, uy, uz] of directions on the unit sphere in the ecliptic frame; shape N_row x 3\n",
    "        N: Grid size for SkyPatch\n",
    "    \"\"\"\n",
    "\n",
    "    # Unpack components of directions\n",
    "    x = dir[:,0]\n",
    "    y = dir[:,1]\n",
    "    z = dir[:,2]\n",
    "\n",
    "    # The search array for k is ordered z, y, x, -x, -y, -z\n",
    "    sa = np.stack([z, y, x, -x, -y, -z]).T\n",
    "\n",
    "    # The index of of the largest element; zero based.  CubeFaceID = f+1\n",
    "    f = np.argmax(sa, axis=1)\n",
    "\n",
    "    # Row indexer for 2D array indexing\n",
    "    N_row: int = sa.shape[0]\n",
    "    row_idx = np.arange(N_row)\n",
    "\n",
    "    # Indices for axes corresponding to u and v and w\n",
    "    idx_j1 = cf.j1[f].values-1\n",
    "    idx_j2 = cf.j2[f].values-1\n",
    "    idx_i = cf.i[f].values-1\n",
    "\n",
    "    # Index of direction in the regular order\n",
    "    k = (3-f) % 3\n",
    "\n",
    "    # The projection of the direction onto the cube\n",
    "    a = t*dir[row_idx, idx_j1]\n",
    "    b = t*dir[row_idx, idx_j2]\n",
    "    c = t*dir[row_idx, idx_i]\n",
    "\n",
    "    # Compute the integer entries (i, j)\n",
    "    i = np.floor(N * (1.0 + a))\n",
    "    j = np.floor(N * (1.0 + b))\n",
    "\n",
    "    # Caclulate SkyPatchID\n",
    "    M: int = (2*N)\n",
    "    M2: int = M*M\n",
    "    SkyPatchID = f*M2 + i*M + j\n",
    "    return SkyPatchID"
   ]
  },
  {
   "cell_type": "code",
   "execution_count": 84,
   "metadata": {},
   "outputs": [],
   "source": [
    "# Nx3 array of directions\n",
    "dir = df[['ux', 'uy', 'uz']].values"
   ]
  },
  {
   "cell_type": "code",
   "execution_count": 86,
   "metadata": {},
   "outputs": [],
   "source": [
    "SkyPatchID = dir2SkyPatchID(dir, N)"
   ]
  },
  {
   "cell_type": "code",
   "execution_count": 87,
   "metadata": {},
   "outputs": [],
   "source": [
    "dir_sp = sp.loc[SkyPatchID, ['x', 'y', 'z']].values"
   ]
  },
  {
   "cell_type": "code",
   "execution_count": 88,
   "metadata": {},
   "outputs": [],
   "source": [
    "dist = np.linalg.norm(diff, axis=1)"
   ]
  },
  {
   "cell_type": "code",
   "execution_count": 92,
   "metadata": {},
   "outputs": [
    {
     "output_type": "execute_result",
     "data": {
      "text/plain": [
       "0.24436361252903707"
      ]
     },
     "metadata": {},
     "execution_count": 92
    }
   ],
   "source": [
    "np.max(dist)*360.0"
   ]
  },
  {
   "cell_type": "code",
   "execution_count": 93,
   "metadata": {},
   "outputs": [
    {
     "output_type": "execute_result",
     "data": {
      "text/plain": [
       "0.0977585093661368"
      ]
     },
     "metadata": {},
     "execution_count": 93
    }
   ],
   "source": [
    "np.mean(dist)*360.0"
   ]
  },
  {
   "cell_type": "code",
   "execution_count": null,
   "metadata": {},
   "outputs": [],
   "source": []
  }
 ],
 "metadata": {
  "kernelspec": {
   "display_name": "Python 3",
   "language": "python",
   "name": "python3"
  },
  "language_info": {
   "codemirror_mode": {
    "name": "ipython",
    "version": 3
   },
   "file_extension": ".py",
   "mimetype": "text/x-python",
   "name": "python",
   "nbconvert_exporter": "python",
   "pygments_lexer": "ipython3",
   "version": "3.8.8-final"
  }
 },
 "nbformat": 4,
 "nbformat_minor": 4
}