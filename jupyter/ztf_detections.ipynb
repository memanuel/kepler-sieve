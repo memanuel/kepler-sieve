{
 "cells": [
  {
   "cell_type": "code",
   "execution_count": 1,
   "metadata": {},
   "outputs": [],
   "source": [
    "# Core\n",
    "import numpy as np\n",
    "import pandas as pd\n",
    "\n",
    "# Astronomy\n",
    "import rebound"
   ]
  },
  {
   "cell_type": "code",
   "execution_count": 2,
   "metadata": {},
   "outputs": [],
   "source": [
    "# Local imports\n",
    "import kepler_sieve\n",
    "from db_utils import sp2df, df2db\n",
    "from astro_utils import mjd_to_datetime\n",
    "from rebound_sim import make_sim_planets\n",
    "from rebound_integrate import integrate_mjds, integrate_mjds_df\n",
    "from ra_dec import calc_topos\n",
    "# from ztf_data_load import db_engine, load_ztf_classes, load_ztf_objects, load_ztf_detections, ztf_detection_add_dir"
   ]
  },
  {
   "cell_type": "code",
   "execution_count": 3,
   "metadata": {},
   "outputs": [],
   "source": [
    "# Distinct ZTF detection times\n",
    "dt = sp2df('ZTF.GetDetectionTimes')"
   ]
  },
  {
   "cell_type": "code",
   "execution_count": 4,
   "metadata": {},
   "outputs": [],
   "source": [
    "# dt[0:5]"
   ]
  },
  {
   "cell_type": "code",
   "execution_count": 5,
   "metadata": {},
   "outputs": [],
   "source": [
    "# Filter down dt for testing\n",
    "# dt = dt.loc[0:1000]"
   ]
  },
  {
   "cell_type": "code",
   "execution_count": 6,
   "metadata": {},
   "outputs": [],
   "source": [
    "# DataFrame for output-- augmented set of detection times\n",
    "df = dt.copy()"
   ]
  },
  {
   "cell_type": "code",
   "execution_count": 7,
   "metadata": {},
   "outputs": [],
   "source": [
    "# Array of observations times as MJDs\n",
    "mjds = dt['MJD'].values"
   ]
  },
  {
   "cell_type": "code",
   "execution_count": 8,
   "metadata": {},
   "outputs": [],
   "source": [
    "# Populate the CalendarDateTime field\n",
    "df['CalendarDateTime'] = np.array([mjd_to_datetime(mjd) for mjd in mjds])"
   ]
  },
  {
   "cell_type": "code",
   "execution_count": 9,
   "metadata": {},
   "outputs": [],
   "source": [
    "# All available data sources as a DataFrame\n",
    "ds = sp2df('KS.GetDataSources')"
   ]
  },
  {
   "cell_type": "code",
   "execution_count": 10,
   "metadata": {},
   "outputs": [],
   "source": [
    "# Populate DataSourceID and ObservatoryID fields\n",
    "df['DataSourceID'] = ds.DataSourceID[ds.DataSourceCD=='ZTF'].values[0]\n",
    "df['ObservatoryID'] = ds.ObservatoryID[ds.DataSourceCD=='ZTF'].values[0]"
   ]
  },
  {
   "cell_type": "code",
   "execution_count": 11,
   "metadata": {},
   "outputs": [],
   "source": [
    "# Calculate Earth position\n",
    "sim_epoch = make_sim_planets(epoch=mjds[0])"
   ]
  },
  {
   "cell_type": "code",
   "execution_count": 12,
   "metadata": {},
   "outputs": [],
   "source": [
    "# Integrate the planets\n",
    "# df_p = integrate_mjds_df(sim_epoch=sim_epoch, mjds=mjds, save_elements=False, progbar=True)"
   ]
  },
  {
   "cell_type": "code",
   "execution_count": 13,
   "metadata": {},
   "outputs": [],
   "source": [
    "# df_p[0:5]"
   ]
  },
  {
   "cell_type": "code",
   "execution_count": 14,
   "metadata": {},
   "outputs": [
    {
     "output_type": "display_data",
     "data": {
      "text/plain": "  0%|          | 0/216702 [00:00<?, ?it/s]",
      "application/vnd.jupyter.widget-view+json": {
       "version_major": 2,
       "version_minor": 0,
       "model_id": "0368359c2a8b482aace7bfdc1b6e42c9"
      }
     },
     "metadata": {}
    },
    {
     "output_type": "display_data",
     "data": {
      "text/plain": "0it [00:00, ?it/s]",
      "application/vnd.jupyter.widget-view+json": {
       "version_major": 2,
       "version_minor": 0,
       "model_id": "92bd415df9ad4c169bbaf96eaa8d38b8"
      }
     },
     "metadata": {}
    }
   ],
   "source": [
    "# Integrate the planets saving outputs at these observation times\n",
    "body_ids, body_names, q, v, elts = integrate_mjds(sim_epoch=sim_epoch, mjds=mjds, save_elements=False, progbar=True)"
   ]
  },
  {
   "cell_type": "code",
   "execution_count": 15,
   "metadata": {},
   "outputs": [],
   "source": [
    "# Earth position at these observation times\n",
    "earth_idx = np.argmax(body_names=='Earth')\n",
    "q_earth = q[:,earth_idx,:]\n",
    "v_earth = v[:,earth_idx,:]"
   ]
  },
  {
   "cell_type": "code",
   "execution_count": 16,
   "metadata": {},
   "outputs": [],
   "source": [
    "# Calculate topos adjustment\n",
    "dq_topos, dv_topos = calc_topos(obstime_mjd=mjds, site_name='Palomar')"
   ]
  },
  {
   "cell_type": "code",
   "execution_count": 17,
   "metadata": {},
   "outputs": [
    {
     "output_type": "execute_result",
     "data": {
      "text/plain": [
       "(216702, 3)"
      ]
     },
     "metadata": {},
     "execution_count": 17
    }
   ],
   "source": [
    "dq_topos.shape"
   ]
  },
  {
   "cell_type": "code",
   "execution_count": 18,
   "metadata": {},
   "outputs": [],
   "source": [
    "# The position and velocity of the observatory\n",
    "q_obs = q_earth + dq_topos.value # in AU\n",
    "v_obs = v_earth + dv_topos.value # in AU / day"
   ]
  },
  {
   "cell_type": "code",
   "execution_count": 19,
   "metadata": {},
   "outputs": [],
   "source": [
    "# Position of the Sun\n",
    "sun_idx = np.argmax(body_names=='Sun')\n",
    "q_sun = q[:,sun_idx,:]"
   ]
  },
  {
   "cell_type": "code",
   "execution_count": 20,
   "metadata": {},
   "outputs": [],
   "source": [
    "# Save observatory position to augmented detection time DataFrame\n",
    "df[['qObs_x', 'qObs_y', 'qObs_z']] = q_obs\n",
    "df[['vObs_x', 'vObs_y', 'vObs_z']] = v_obs\n",
    "df[['qSun_x', 'qSun_y', 'qSun_z']] = q_sun"
   ]
  },
  {
   "cell_type": "code",
   "execution_count": 21,
   "metadata": {},
   "outputs": [
    {
     "output_type": "execute_result",
     "data": {
      "text/plain": [
       "        DetectionTimeID           MJD           CalendarDateTime  \\\n",
       "0                     1  58270.167662 2018-06-01 04:01:25.996783   \n",
       "1                     2  58270.168125 2018-06-01 04:02:05.999991   \n",
       "2                     3  58270.169965 2018-06-01 04:04:45.001903   \n",
       "3                     4  58270.170417 2018-06-01 04:05:24.002897   \n",
       "4                     5  58270.171343 2018-06-01 04:06:44.000648   \n",
       "...                 ...           ...                        ...   \n",
       "216697           216698  59295.526690 2021-03-22 12:38:25.998720   \n",
       "216698           216699  59295.527153 2021-03-22 12:39:06.001920   \n",
       "216699           216700  59295.527627 2021-03-22 12:39:46.998720   \n",
       "216700           216701  59295.528090 2021-03-22 12:40:27.001920   \n",
       "216701           216702  59295.529028 2021-03-22 12:41:48.001928   \n",
       "\n",
       "        DataSourceID  ObservatoryID    qObs_x    qObs_y    qObs_z    vObs_x  \\\n",
       "0                  1              1 -0.342267 -0.947311 -0.000032  0.015945   \n",
       "1                  1              1 -0.342260 -0.947314 -0.000032  0.015946   \n",
       "2                  1              1 -0.342231 -0.947325 -0.000032  0.015949   \n",
       "3                  1              1 -0.342223 -0.947328 -0.000032  0.015949   \n",
       "4                  1              1 -0.342209 -0.947333 -0.000032  0.015951   \n",
       "...              ...            ...       ...       ...       ...       ...   \n",
       "216697             1              1 -1.003215 -0.023336  0.000160  0.000431   \n",
       "216698             1              1 -1.003215 -0.023344  0.000161  0.000432   \n",
       "216699             1              1 -1.003215 -0.023352  0.000161  0.000432   \n",
       "216700             1              1 -1.003214 -0.023360  0.000161  0.000432   \n",
       "216701             1              1 -1.003214 -0.023376  0.000161  0.000433   \n",
       "\n",
       "          vObs_y    vObs_z    qSun_x    qSun_y    qSun_z  \n",
       "0      -0.006084  0.000088  0.000841  0.006808 -0.000097  \n",
       "1      -0.006083  0.000088  0.000841  0.006808 -0.000097  \n",
       "2      -0.006082  0.000088  0.000841  0.006808 -0.000097  \n",
       "3      -0.006082  0.000088  0.000841  0.006808 -0.000097  \n",
       "4      -0.006082  0.000088  0.000841  0.006808 -0.000097  \n",
       "...          ...       ...       ...       ...       ...  \n",
       "216697 -0.017329  0.000027 -0.007178  0.005510  0.000123  \n",
       "216698 -0.017329  0.000027 -0.007178  0.005510  0.000123  \n",
       "216699 -0.017328  0.000027 -0.007178  0.005510  0.000123  \n",
       "216700 -0.017327  0.000026 -0.007178  0.005510  0.000123  \n",
       "216701 -0.017326  0.000026 -0.007178  0.005510  0.000123  \n",
       "\n",
       "[216702 rows x 14 columns]"
      ],
      "text/html": "<div>\n<style scoped>\n    .dataframe tbody tr th:only-of-type {\n        vertical-align: middle;\n    }\n\n    .dataframe tbody tr th {\n        vertical-align: top;\n    }\n\n    .dataframe thead th {\n        text-align: right;\n    }\n</style>\n<table border=\"1\" class=\"dataframe\">\n  <thead>\n    <tr style=\"text-align: right;\">\n      <th></th>\n      <th>DetectionTimeID</th>\n      <th>MJD</th>\n      <th>CalendarDateTime</th>\n      <th>DataSourceID</th>\n      <th>ObservatoryID</th>\n      <th>qObs_x</th>\n      <th>qObs_y</th>\n      <th>qObs_z</th>\n      <th>vObs_x</th>\n      <th>vObs_y</th>\n      <th>vObs_z</th>\n      <th>qSun_x</th>\n      <th>qSun_y</th>\n      <th>qSun_z</th>\n    </tr>\n  </thead>\n  <tbody>\n    <tr>\n      <th>0</th>\n      <td>1</td>\n      <td>58270.167662</td>\n      <td>2018-06-01 04:01:25.996783</td>\n      <td>1</td>\n      <td>1</td>\n      <td>-0.342267</td>\n      <td>-0.947311</td>\n      <td>-0.000032</td>\n      <td>0.015945</td>\n      <td>-0.006084</td>\n      <td>0.000088</td>\n      <td>0.000841</td>\n      <td>0.006808</td>\n      <td>-0.000097</td>\n    </tr>\n    <tr>\n      <th>1</th>\n      <td>2</td>\n      <td>58270.168125</td>\n      <td>2018-06-01 04:02:05.999991</td>\n      <td>1</td>\n      <td>1</td>\n      <td>-0.342260</td>\n      <td>-0.947314</td>\n      <td>-0.000032</td>\n      <td>0.015946</td>\n      <td>-0.006083</td>\n      <td>0.000088</td>\n      <td>0.000841</td>\n      <td>0.006808</td>\n      <td>-0.000097</td>\n    </tr>\n    <tr>\n      <th>2</th>\n      <td>3</td>\n      <td>58270.169965</td>\n      <td>2018-06-01 04:04:45.001903</td>\n      <td>1</td>\n      <td>1</td>\n      <td>-0.342231</td>\n      <td>-0.947325</td>\n      <td>-0.000032</td>\n      <td>0.015949</td>\n      <td>-0.006082</td>\n      <td>0.000088</td>\n      <td>0.000841</td>\n      <td>0.006808</td>\n      <td>-0.000097</td>\n    </tr>\n    <tr>\n      <th>3</th>\n      <td>4</td>\n      <td>58270.170417</td>\n      <td>2018-06-01 04:05:24.002897</td>\n      <td>1</td>\n      <td>1</td>\n      <td>-0.342223</td>\n      <td>-0.947328</td>\n      <td>-0.000032</td>\n      <td>0.015949</td>\n      <td>-0.006082</td>\n      <td>0.000088</td>\n      <td>0.000841</td>\n      <td>0.006808</td>\n      <td>-0.000097</td>\n    </tr>\n    <tr>\n      <th>4</th>\n      <td>5</td>\n      <td>58270.171343</td>\n      <td>2018-06-01 04:06:44.000648</td>\n      <td>1</td>\n      <td>1</td>\n      <td>-0.342209</td>\n      <td>-0.947333</td>\n      <td>-0.000032</td>\n      <td>0.015951</td>\n      <td>-0.006082</td>\n      <td>0.000088</td>\n      <td>0.000841</td>\n      <td>0.006808</td>\n      <td>-0.000097</td>\n    </tr>\n    <tr>\n      <th>...</th>\n      <td>...</td>\n      <td>...</td>\n      <td>...</td>\n      <td>...</td>\n      <td>...</td>\n      <td>...</td>\n      <td>...</td>\n      <td>...</td>\n      <td>...</td>\n      <td>...</td>\n      <td>...</td>\n      <td>...</td>\n      <td>...</td>\n      <td>...</td>\n    </tr>\n    <tr>\n      <th>216697</th>\n      <td>216698</td>\n      <td>59295.526690</td>\n      <td>2021-03-22 12:38:25.998720</td>\n      <td>1</td>\n      <td>1</td>\n      <td>-1.003215</td>\n      <td>-0.023336</td>\n      <td>0.000160</td>\n      <td>0.000431</td>\n      <td>-0.017329</td>\n      <td>0.000027</td>\n      <td>-0.007178</td>\n      <td>0.005510</td>\n      <td>0.000123</td>\n    </tr>\n    <tr>\n      <th>216698</th>\n      <td>216699</td>\n      <td>59295.527153</td>\n      <td>2021-03-22 12:39:06.001920</td>\n      <td>1</td>\n      <td>1</td>\n      <td>-1.003215</td>\n      <td>-0.023344</td>\n      <td>0.000161</td>\n      <td>0.000432</td>\n      <td>-0.017329</td>\n      <td>0.000027</td>\n      <td>-0.007178</td>\n      <td>0.005510</td>\n      <td>0.000123</td>\n    </tr>\n    <tr>\n      <th>216699</th>\n      <td>216700</td>\n      <td>59295.527627</td>\n      <td>2021-03-22 12:39:46.998720</td>\n      <td>1</td>\n      <td>1</td>\n      <td>-1.003215</td>\n      <td>-0.023352</td>\n      <td>0.000161</td>\n      <td>0.000432</td>\n      <td>-0.017328</td>\n      <td>0.000027</td>\n      <td>-0.007178</td>\n      <td>0.005510</td>\n      <td>0.000123</td>\n    </tr>\n    <tr>\n      <th>216700</th>\n      <td>216701</td>\n      <td>59295.528090</td>\n      <td>2021-03-22 12:40:27.001920</td>\n      <td>1</td>\n      <td>1</td>\n      <td>-1.003214</td>\n      <td>-0.023360</td>\n      <td>0.000161</td>\n      <td>0.000432</td>\n      <td>-0.017327</td>\n      <td>0.000026</td>\n      <td>-0.007178</td>\n      <td>0.005510</td>\n      <td>0.000123</td>\n    </tr>\n    <tr>\n      <th>216701</th>\n      <td>216702</td>\n      <td>59295.529028</td>\n      <td>2021-03-22 12:41:48.001928</td>\n      <td>1</td>\n      <td>1</td>\n      <td>-1.003214</td>\n      <td>-0.023376</td>\n      <td>0.000161</td>\n      <td>0.000433</td>\n      <td>-0.017326</td>\n      <td>0.000026</td>\n      <td>-0.007178</td>\n      <td>0.005510</td>\n      <td>0.000123</td>\n    </tr>\n  </tbody>\n</table>\n<p>216702 rows × 14 columns</p>\n</div>"
     },
     "metadata": {},
     "execution_count": 21
    }
   ],
   "source": [
    "df"
   ]
  },
  {
   "cell_type": "code",
   "execution_count": 22,
   "metadata": {},
   "outputs": [
    {
     "output_type": "error",
     "ename": "NameError",
     "evalue": "name 'bound_' is not defined",
     "traceback": [
      "\u001b[0;31m---------------------------------------------------------------------------\u001b[0m",
      "\u001b[0;31mNameError\u001b[0m                                 Traceback (most recent call last)",
      "\u001b[0;32m<ipython-input-22-5beeacdca968>\u001b[0m in \u001b[0;36m<module>\u001b[0;34m\u001b[0m\n\u001b[0;32m----> 1\u001b[0;31m \u001b[0mbound_\u001b[0m\u001b[0;34m\u001b[0m\u001b[0;34m\u001b[0m\u001b[0m\n\u001b[0m",
      "\u001b[0;31mNameError\u001b[0m: name 'bound_' is not defined"
     ]
    }
   ],
   "source": [
    "bound_"
   ]
  },
  {
   "cell_type": "code",
   "execution_count": null,
   "metadata": {},
   "outputs": [],
   "source": []
  }
 ],
 "metadata": {
  "kernelspec": {
   "display_name": "Python 3",
   "language": "python",
   "name": "python3"
  },
  "language_info": {
   "codemirror_mode": {
    "name": "ipython",
    "version": 3
   },
   "file_extension": ".py",
   "mimetype": "text/x-python",
   "name": "python",
   "nbconvert_exporter": "python",
   "pygments_lexer": "ipython3",
   "version": "3.8.8-final"
  }
 },
 "nbformat": 4,
 "nbformat_minor": 4
}