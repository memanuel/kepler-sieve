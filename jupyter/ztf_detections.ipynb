{
 "cells": [
  {
   "cell_type": "code",
   "execution_count": 1,
   "metadata": {},
   "outputs": [],
   "source": [
    "# Core\n",
    "import numpy as np\n",
    "import pandas as pd\n",
    "\n",
    "# DB\n",
    "import sqlalchemy\n",
    "from sqlalchemy import create_engine\n",
    "\n",
    "# Astronomy\n",
    "import rebound"
   ]
  },
  {
   "cell_type": "code",
   "execution_count": 2,
   "metadata": {},
   "outputs": [],
   "source": [
    "# Local imports\n",
    "import kepler_sieve\n",
    "from db_utils import sp2df\n",
    "from astro_utils import mjd_to_datetime\n",
    "from rebound_sim import make_sim_planets\n",
    "from rebound_integrate import integrate_mjds\n",
    "# from ztf_data_load import db_engine, load_ztf_classes, load_ztf_objects, load_ztf_detections, ztf_detection_add_dir"
   ]
  },
  {
   "cell_type": "code",
   "execution_count": 3,
   "metadata": {},
   "outputs": [],
   "source": [
    "# Distinct ZTF detection times\n",
    "dt = sp2df('ZTF.GetDetectionTimes')"
   ]
  },
  {
   "cell_type": "code",
   "execution_count": 4,
   "metadata": {},
   "outputs": [
    {
     "output_type": "execute_result",
     "data": {
      "text/plain": [
       "   DetectionTimeID           MJD\n",
       "0                1  58270.167662\n",
       "1                2  58270.168125\n",
       "2                3  58270.169965\n",
       "3                4  58270.170417\n",
       "4                5  58270.171343"
      ],
      "text/html": "<div>\n<style scoped>\n    .dataframe tbody tr th:only-of-type {\n        vertical-align: middle;\n    }\n\n    .dataframe tbody tr th {\n        vertical-align: top;\n    }\n\n    .dataframe thead th {\n        text-align: right;\n    }\n</style>\n<table border=\"1\" class=\"dataframe\">\n  <thead>\n    <tr style=\"text-align: right;\">\n      <th></th>\n      <th>DetectionTimeID</th>\n      <th>MJD</th>\n    </tr>\n  </thead>\n  <tbody>\n    <tr>\n      <th>0</th>\n      <td>1</td>\n      <td>58270.167662</td>\n    </tr>\n    <tr>\n      <th>1</th>\n      <td>2</td>\n      <td>58270.168125</td>\n    </tr>\n    <tr>\n      <th>2</th>\n      <td>3</td>\n      <td>58270.169965</td>\n    </tr>\n    <tr>\n      <th>3</th>\n      <td>4</td>\n      <td>58270.170417</td>\n    </tr>\n    <tr>\n      <th>4</th>\n      <td>5</td>\n      <td>58270.171343</td>\n    </tr>\n  </tbody>\n</table>\n</div>"
     },
     "metadata": {},
     "execution_count": 4
    }
   ],
   "source": [
    "dt[0:5]"
   ]
  },
  {
   "cell_type": "code",
   "execution_count": 5,
   "metadata": {},
   "outputs": [],
   "source": [
    "df = dt.copy()"
   ]
  },
  {
   "cell_type": "code",
   "execution_count": 6,
   "metadata": {},
   "outputs": [],
   "source": [
    "# Array of observations times as MJDs\n",
    "mjds = dt['MJD'].values"
   ]
  },
  {
   "cell_type": "code",
   "execution_count": 7,
   "metadata": {},
   "outputs": [],
   "source": [
    "# Populate the CalendarDateTime field\n",
    "df['CalendarDateTime'] = np.array([mjd_to_datetime(mjd) for mjd in mjds])"
   ]
  },
  {
   "cell_type": "code",
   "execution_count": 8,
   "metadata": {},
   "outputs": [],
   "source": [
    "# Calculate Earth position\n",
    "sim_epoch = make_sim_planets(epoch=mjds[0])"
   ]
  },
  {
   "cell_type": "code",
   "execution_count": 9,
   "metadata": {},
   "outputs": [
    {
     "output_type": "display_data",
     "data": {
      "text/plain": "  0%|          | 0/100 [00:00<?, ?it/s]",
      "application/vnd.jupyter.widget-view+json": {
       "version_major": 2,
       "version_minor": 0,
       "model_id": "f4732feaec124f59a59608663d4cf9a4"
      }
     },
     "metadata": {}
    },
    {
     "output_type": "display_data",
     "data": {
      "text/plain": "0it [00:00, ?it/s]",
      "application/vnd.jupyter.widget-view+json": {
       "version_major": 2,
       "version_minor": 0,
       "model_id": "babd1d04a27b4c6c86a8214bbdb09099"
      }
     },
     "metadata": {}
    },
    {
     "output_type": "execute_result",
     "data": {
      "text/plain": [
       "(array([ 10,   1,   2, 399, 301,   4,   5,   6,   7,   8,   9]),\n",
       " array(['Sun', 'Mercury Barycenter', 'Venus Barycenter', 'Earth', 'Moon',\n",
       "        'Mars Barycenter', 'Jupiter Barycenter', 'Saturn Barycenter',\n",
       "        'Uranus Barycenter', 'Neptune Barycenter', 'Pluto Barycenter'],\n",
       "       dtype=object),\n",
       " array([[[ 8.40567333e-04,  6.80788190e-03, -9.71296235e-05],\n",
       "         [ 2.29552201e-01,  2.25720450e-01, -3.19090524e-03],\n",
       "         [-6.61889512e-01,  2.82219428e-01,  4.19247365e-02],\n",
       "         ...,\n",
       "         [ 1.74409862e+01,  9.56013848e+00, -1.90443874e-01],\n",
       "         [ 2.88108798e+01, -8.13370514e+00, -4.96477568e-01],\n",
       "         [ 1.12361856e+01, -3.16301897e+01,  1.34453204e-01]],\n",
       " \n",
       "        [[ 8.40564133e-04,  6.80788372e-03, -9.71295462e-05],\n",
       "         [ 2.29540619e-01,  2.25730413e-01, -3.18902886e-03],\n",
       "         [-6.61893152e-01,  2.82210738e-01,  4.19248272e-02],\n",
       "         ...,\n",
       "         [ 1.74409853e+01,  9.56013999e+00, -1.90443857e-01],\n",
       "         [ 2.88108802e+01, -8.13370374e+00, -4.96477606e-01],\n",
       "         [ 1.12361870e+01, -3.16301895e+01,  1.34452779e-01]],\n",
       " \n",
       "        [[ 8.40551416e-04,  6.80789097e-03, -9.71292390e-05],\n",
       "         [ 2.29494575e-01,  2.25770011e-01, -3.18157071e-03],\n",
       "         [-6.61907617e-01,  2.82176198e-01,  4.19251876e-02],\n",
       "         ...,\n",
       "         [ 1.74409817e+01,  9.56014600e+00, -1.90443789e-01],\n",
       "         [ 2.88108817e+01, -8.13369814e+00, -4.96477756e-01],\n",
       "         [ 1.12361925e+01, -3.16301888e+01,  1.34451091e-01]],\n",
       " \n",
       "        ...,\n",
       " \n",
       "        [[ 8.26667813e-04,  6.81577545e-03, -9.67936865e-05],\n",
       "         [ 1.75238091e-01,  2.64494745e-01,  4.95862910e-03],\n",
       "         [-6.76611147e-01,  2.44086429e-01,  4.22506069e-02],\n",
       "         ...,\n",
       "         [ 1.74371284e+01,  9.56669921e+00, -1.90369527e-01],\n",
       "         [ 2.88125509e+01, -8.12759739e+00, -4.96641856e-01],\n",
       "         [ 1.12422655e+01, -3.16294032e+01,  1.32610356e-01]],\n",
       " \n",
       "        [[ 8.26664606e-04,  6.81577726e-03, -9.67936090e-05],\n",
       "         [ 1.75224707e-01,  2.64502575e-01,  4.96049638e-03],\n",
       "         [-6.76614290e-01,  2.44077549e-01,  4.22506664e-02],\n",
       "         ...,\n",
       "         [ 1.74371275e+01,  9.56670073e+00, -1.90369510e-01],\n",
       "         [ 2.88125512e+01, -8.12759599e+00, -4.96641894e-01],\n",
       "         [ 1.12422669e+01, -3.16294031e+01,  1.32609932e-01]],\n",
       " \n",
       "        [[ 8.26661160e-04,  6.81577921e-03, -9.67935257e-05],\n",
       "         [ 1.75210323e-01,  2.64510989e-01,  4.96250319e-03],\n",
       "         [-6.76617668e-01,  2.44068006e-01,  4.22507302e-02],\n",
       "         ...,\n",
       "         [ 1.74371265e+01,  9.56670235e+00, -1.90369491e-01],\n",
       "         [ 2.88125517e+01, -8.12759447e+00, -4.96641935e-01],\n",
       "         [ 1.12422684e+01, -3.16294029e+01,  1.32609475e-01]]]),\n",
       " array([[[-6.91033213e-06,  3.93683709e-06,  1.66931378e-07],\n",
       "         [-2.50165331e-02,  2.15195054e-02,  4.05264262e-03],\n",
       "         [-7.86112085e-03, -1.87684185e-02,  1.95896367e-04],\n",
       "         ...,\n",
       "         [-1.91935205e-03,  3.26561109e-03,  3.69950692e-05],\n",
       "         [ 8.32011941e-04,  3.03971083e-03, -8.17712150e-05],\n",
       "         [ 3.02605082e-03,  3.91179172e-04, -9.17176283e-04]],\n",
       " \n",
       "        [[-6.91033554e-06,  3.93683329e-06,  1.66931497e-07],\n",
       "         [-2.50175204e-02,  2.15185603e-02,  4.05265597e-03],\n",
       "         [-7.86087647e-03, -1.87685201e-02,  1.95880871e-04],\n",
       "         ...,\n",
       "         [-1.91935236e-03,  3.26561092e-03,  3.69950725e-05],\n",
       "         [ 8.32011794e-04,  3.03971087e-03, -8.17712125e-05],\n",
       "         [ 3.02605077e-03,  3.91179286e-04, -9.17176284e-04]],\n",
       " \n",
       "        [[-6.91034907e-06,  3.93681818e-06,  1.66931971e-07],\n",
       "         [-2.50214444e-02,  2.15148034e-02,  4.05270896e-03],\n",
       "         [-7.85990513e-03, -1.87689237e-02,  1.95819282e-04],\n",
       "         ...,\n",
       "         [-1.91935357e-03,  3.26561026e-03,  3.69950857e-05],\n",
       "         [ 8.32011208e-04,  3.03971104e-03, -8.17712024e-05],\n",
       "         [ 3.02605061e-03,  3.91179742e-04, -9.17176286e-04]],\n",
       " \n",
       "        ...,\n",
       " \n",
       "        [[-6.92515085e-06,  3.92032694e-06,  1.67461864e-07],\n",
       "         [-2.89065475e-02,  1.69119669e-02,  4.03301305e-03],\n",
       "         [-6.78884595e-03, -1.91786455e-02,  1.28391580e-04],\n",
       "         ...,\n",
       "         [-1.92067137e-03,  3.26488780e-03,  3.70094703e-05],\n",
       "         [ 8.31373031e-04,  3.03989117e-03, -8.17602034e-05],\n",
       "         [ 3.02587387e-03,  3.91677038e-04, -9.17178384e-04]],\n",
       " \n",
       "        [[-6.92515427e-06,  3.92032313e-06,  1.67461990e-07],\n",
       "         [-2.89073404e-02,  1.69107954e-02,  4.03299006e-03],\n",
       "         [-6.78859628e-03, -1.91787329e-02,  1.28375973e-04],\n",
       "         ...,\n",
       "         [-1.92067167e-03,  3.26488764e-03,  3.70094737e-05],\n",
       "         [ 8.31372884e-04,  3.03989121e-03, -8.17602008e-05],\n",
       "         [ 3.02587383e-03,  3.91677153e-04, -9.17178385e-04]],\n",
       " \n",
       "        [[-6.92515795e-06,  3.92031904e-06,  1.67462124e-07],\n",
       "         [-2.89081925e-02,  1.69095364e-02,  4.03296535e-03],\n",
       "         [-6.78832796e-03, -1.91788269e-02,  1.28359200e-04],\n",
       "         ...,\n",
       "         [-1.92067200e-03,  3.26488746e-03,  3.70094772e-05],\n",
       "         [ 8.31372725e-04,  3.03989125e-03, -8.17601981e-05],\n",
       "         [ 3.02587378e-03,  3.91677276e-04, -9.17178385e-04]]]),\n",
       " None)"
      ]
     },
     "metadata": {},
     "execution_count": 9
    }
   ],
   "source": [
    "integrate_mjds(sim_epoch=sim_epoch, mjds=mjds[0:100], save_elements=False, progbar=True)"
   ]
  },
  {
   "cell_type": "code",
   "execution_count": 10,
   "metadata": {},
   "outputs": [],
   "source": [
    "# Calculate topos adjustment\n",
    "dq_topos = 0"
   ]
  },
  {
   "cell_type": "code",
   "execution_count": 11,
   "metadata": {},
   "outputs": [
    {
     "output_type": "execute_result",
     "data": {
      "text/plain": [
       "   DetectionTimeID           MJD           CalendarDateTime\n",
       "0                1  58270.167662 2018-06-01 04:01:25.996783\n",
       "1                2  58270.168125 2018-06-01 04:02:05.999991\n",
       "2                3  58270.169965 2018-06-01 04:04:45.001903\n",
       "3                4  58270.170417 2018-06-01 04:05:24.002897\n",
       "4                5  58270.171343 2018-06-01 04:06:44.000648"
      ],
      "text/html": "<div>\n<style scoped>\n    .dataframe tbody tr th:only-of-type {\n        vertical-align: middle;\n    }\n\n    .dataframe tbody tr th {\n        vertical-align: top;\n    }\n\n    .dataframe thead th {\n        text-align: right;\n    }\n</style>\n<table border=\"1\" class=\"dataframe\">\n  <thead>\n    <tr style=\"text-align: right;\">\n      <th></th>\n      <th>DetectionTimeID</th>\n      <th>MJD</th>\n      <th>CalendarDateTime</th>\n    </tr>\n  </thead>\n  <tbody>\n    <tr>\n      <th>0</th>\n      <td>1</td>\n      <td>58270.167662</td>\n      <td>2018-06-01 04:01:25.996783</td>\n    </tr>\n    <tr>\n      <th>1</th>\n      <td>2</td>\n      <td>58270.168125</td>\n      <td>2018-06-01 04:02:05.999991</td>\n    </tr>\n    <tr>\n      <th>2</th>\n      <td>3</td>\n      <td>58270.169965</td>\n      <td>2018-06-01 04:04:45.001903</td>\n    </tr>\n    <tr>\n      <th>3</th>\n      <td>4</td>\n      <td>58270.170417</td>\n      <td>2018-06-01 04:05:24.002897</td>\n    </tr>\n    <tr>\n      <th>4</th>\n      <td>5</td>\n      <td>58270.171343</td>\n      <td>2018-06-01 04:06:44.000648</td>\n    </tr>\n  </tbody>\n</table>\n</div>"
     },
     "metadata": {},
     "execution_count": 11
    }
   ],
   "source": [
    "df[0:5]"
   ]
  },
  {
   "cell_type": "code",
   "execution_count": null,
   "metadata": {},
   "outputs": [],
   "source": []
  }
 ],
 "metadata": {
  "kernelspec": {
   "display_name": "Python 3",
   "language": "python",
   "name": "python3"
  },
  "language_info": {
   "codemirror_mode": {
    "name": "ipython",
    "version": 3
   },
   "file_extension": ".py",
   "mimetype": "text/x-python",
   "name": "python",
   "nbconvert_exporter": "python",
   "pygments_lexer": "ipython3",
   "version": "3.8.8-final"
  }
 },
 "nbformat": 4,
 "nbformat_minor": 4
}