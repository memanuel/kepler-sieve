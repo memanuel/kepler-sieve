{
 "cells": [
  {
   "cell_type": "code",
   "execution_count": 1,
   "metadata": {},
   "outputs": [
    {
     "name": "stdout",
     "output_type": "stream",
     "text": [
      "Found 4 GPUs.  Setting memory growth = True.\n"
     ]
    }
   ],
   "source": [
    "# Core\n",
    "import numpy as np\n",
    "import pandas as pd\n",
    "\n",
    "# Tensorflow / ML\n",
    "import tensorflow as tf\n",
    "from tensorflow.python.keras import backend as K\n",
    "\n",
    "# Plotting\n",
    "import matplotlib.pyplot as plt\n",
    "import matplotlib as mpl\n",
    "\n",
    "# Utility\n",
    "import time\n",
    "\n",
    "# MSE Imports\n",
    "import kepler_sieve\n",
    "from asteroid_element import load_ast_elt\n",
    "from candidate_element import asteroid_elts, perturb_elts, random_elts, elts_add_mixture_params\n",
    "from ztf_ast import load_ztf_nearest_ast, calc_hit_freq\n",
    "from ztf_element import load_ztf_batch, make_ztf_batch, ztf_score_by_elt, ztf_elt_summary\n",
    "from asteroid_model import AsteroidPosition, AsteroidDirection, make_model_ast_pos\n",
    "from asteroid_search_layers import CandidateElements, TrajectoryScore\n",
    "from asteroid_search_model import AsteroidSearchModel, make_opt_adam\n",
    "from asteroid_search_report import traj_diff\n",
    "from candidate_element import score_by_elt\n",
    "from astro_utils import deg2dist, dist2deg, dist2sec"
   ]
  },
  {
   "cell_type": "code",
   "execution_count": 2,
   "metadata": {},
   "outputs": [],
   "source": [
    "# Aliases\n",
    "keras = tf.keras\n",
    "\n",
    "# Constants\n",
    "dtype = tf.float32\n",
    "dtype_np = np.float32\n",
    "space_dims = 3"
   ]
  },
  {
   "cell_type": "code",
   "execution_count": 3,
   "metadata": {},
   "outputs": [],
   "source": [
    "# Set plot style variables\n",
    "mpl.rcParams['figure.figsize'] = [16.0, 10.0]\n",
    "mpl.rcParams['font.size'] = 16"
   ]
  },
  {
   "cell_type": "code",
   "execution_count": 4,
   "metadata": {},
   "outputs": [],
   "source": [
    "# Color for plots\n",
    "color_mean = 'blue'\n",
    "color_lo = 'orange'\n",
    "color_hi = 'green'\n",
    "color_min = 'red'\n",
    "color_max = 'purple'"
   ]
  },
  {
   "cell_type": "markdown",
   "metadata": {},
   "source": [
    "## Load ZTF Data and Batch of Orbital Elements"
   ]
  },
  {
   "cell_type": "code",
   "execution_count": 5,
   "metadata": {},
   "outputs": [],
   "source": [
    "# Load orbital elements for known asteroids\n",
    "ast_elt = load_ast_elt()\n",
    "\n",
    "# Number of asteroids\n",
    "N_ast = ast_elt.shape[0]"
   ]
  },
  {
   "cell_type": "code",
   "execution_count": 6,
   "metadata": {},
   "outputs": [],
   "source": [
    "# Load ztf nearest asteroid data\n",
    "ztf_ast = load_ztf_nearest_ast()"
   ]
  },
  {
   "cell_type": "code",
   "execution_count": 7,
   "metadata": {},
   "outputs": [],
   "source": [
    "# Asteroid numbers and hit counts\n",
    "ast_num, hit_count = calc_hit_freq(ztf=ztf_ast, thresh_sec=2.0)\n",
    "\n",
    "# Sort the hit counts in descending order and find the top batch_size\n",
    "idx = np.argsort(hit_count)[::-1]\n",
    "\n",
    "# Extract the asteroid number and hit count for this batch\n",
    "ast_num_best = ast_num[idx]\n",
    "hit_count_best = hit_count[idx]"
   ]
  },
  {
   "cell_type": "code",
   "execution_count": 8,
   "metadata": {},
   "outputs": [],
   "source": [
    "# Parameters to build elements batch\n",
    "batch_size = 64\n",
    "\n",
    "# Batch of unperturbed elements\n",
    "elts_ast = asteroid_elts(ast_nums=ast_num_best[0:batch_size])"
   ]
  },
  {
   "cell_type": "code",
   "execution_count": 9,
   "metadata": {},
   "outputs": [],
   "source": [
    "# # Review unperturbed elements\n",
    "# elts_ast"
   ]
  },
  {
   "cell_type": "code",
   "execution_count": 10,
   "metadata": {},
   "outputs": [],
   "source": [
    "# Inputs to perturb elements: large\n",
    "sigma_a = 0.05\n",
    "sigma_e = 0.01\n",
    "sigma_inc_deg = 0.25\n",
    "sigma_f_deg = 1.0\n",
    "sigma_Omega_deg = 1.0\n",
    "sigma_omega_deg = 1.0\n",
    "mask_pert = None\n",
    "random_seed = 42\n",
    "\n",
    "# Perturb orbital elements\n",
    "elts_pert = perturb_elts(elts_ast, sigma_a=sigma_a, sigma_e=sigma_e, \n",
    "                         sigma_inc_deg=sigma_inc_deg, sigma_f_deg=sigma_f_deg, \n",
    "                         sigma_Omega_deg=sigma_Omega_deg, sigma_omega_deg=sigma_omega_deg,\n",
    "                         mask_pert=mask_pert, random_seed=random_seed)"
   ]
  },
  {
   "cell_type": "code",
   "execution_count": 11,
   "metadata": {},
   "outputs": [],
   "source": [
    "# Review perturbed elements\n",
    "# elts_pert"
   ]
  },
  {
   "cell_type": "code",
   "execution_count": 12,
   "metadata": {},
   "outputs": [],
   "source": [
    "# Random elements\n",
    "elts_rand = random_elts(element_id_start=0, size=batch_size,\n",
    "                        random_seed=random_seed, dtype=dtype_np)"
   ]
  },
  {
   "cell_type": "code",
   "execution_count": 13,
   "metadata": {},
   "outputs": [],
   "source": [
    "# Review random elements\n",
    "# elts_rand"
   ]
  },
  {
   "cell_type": "markdown",
   "metadata": {},
   "source": [
    "## Batches of ZTF Data vs. Elements"
   ]
  },
  {
   "cell_type": "code",
   "execution_count": 14,
   "metadata": {},
   "outputs": [],
   "source": [
    "# Arguments to make_ztf_batch\n",
    "# thresh_deg = 1.0\n",
    "thresh_deg = 2.0\n",
    "# thresh_deg = 4.0\n",
    "near_ast = False\n",
    "regenerate = False"
   ]
  },
  {
   "cell_type": "code",
   "execution_count": 15,
   "metadata": {},
   "outputs": [],
   "source": [
    "# Load unperturbed element batch\n",
    "ztf_elt_ast = load_ztf_batch(elts=elts_ast, thresh_deg=thresh_deg, near_ast=near_ast, regenerate=regenerate)"
   ]
  },
  {
   "cell_type": "code",
   "execution_count": 16,
   "metadata": {},
   "outputs": [],
   "source": [
    "# Load perturbed element batch\n",
    "ztf_elt_pert = load_ztf_batch(elts=elts_pert, thresh_deg=thresh_deg, near_ast=near_ast, regenerate=regenerate)"
   ]
  },
  {
   "cell_type": "code",
   "execution_count": 17,
   "metadata": {},
   "outputs": [],
   "source": [
    "# Load random element batch\n",
    "ztf_elt_rand = load_ztf_batch(elts=elts_rand, thresh_deg=thresh_deg, near_ast=near_ast, regenerate=regenerate)"
   ]
  },
  {
   "cell_type": "code",
   "execution_count": 18,
   "metadata": {},
   "outputs": [],
   "source": [
    "# Score by element - unperturbed\n",
    "score_by_elt_ast = ztf_score_by_elt(ztf_elt_ast)"
   ]
  },
  {
   "cell_type": "code",
   "execution_count": 19,
   "metadata": {},
   "outputs": [],
   "source": [
    "# Score by element - perturbed\n",
    "score_by_elt_pert = ztf_score_by_elt(ztf_elt_pert)"
   ]
  },
  {
   "cell_type": "code",
   "execution_count": 20,
   "metadata": {},
   "outputs": [],
   "source": [
    "# Score by element - random\n",
    "score_by_elt_rand = ztf_score_by_elt(ztf_elt_rand)"
   ]
  },
  {
   "cell_type": "code",
   "execution_count": 21,
   "metadata": {},
   "outputs": [
    {
     "name": "stdout",
     "output_type": "stream",
     "text": [
      "ZTF Element Dataframe Unperturbed Asteroids:\n",
      "                  Total     (Per Batch)\n",
      "Observations   :   322914   (     5046)\n",
      "\n",
      "Summarize score = sum(-1.0 - log(v)) by batch.  (Mean=0, Variance=num_obs)\n",
      "Mean score     :    2908.12\n",
      "Sqrt(batch_obs):      71.03\n",
      "Mean t_score   :      45.02\n"
     ]
    }
   ],
   "source": [
    "# Summarize the ztf element batch: unperturbed asteroids\n",
    "ztf_elt_summary(ztf_elt_ast, score_by_elt_ast, 'Unperturbed Asteroids')"
   ]
  },
  {
   "cell_type": "code",
   "execution_count": 22,
   "metadata": {},
   "outputs": [
    {
     "name": "stdout",
     "output_type": "stream",
     "text": [
      "ZTF Element Dataframe Perturbed Asteroids:\n",
      "                  Total     (Per Batch)\n",
      "Observations   :   290771   (     4543)\n",
      "\n",
      "Summarize score = sum(-1.0 - log(v)) by batch.  (Mean=0, Variance=num_obs)\n",
      "Mean score     :      42.77\n",
      "Sqrt(batch_obs):      67.40\n",
      "Mean t_score   :       0.58\n"
     ]
    }
   ],
   "source": [
    "# Summarize the ztf element batch: perturbed asteroids\n",
    "ztf_elt_summary(ztf_elt_pert, score_by_elt_pert, 'Perturbed Asteroids')"
   ]
  },
  {
   "cell_type": "code",
   "execution_count": 23,
   "metadata": {},
   "outputs": [
    {
     "name": "stdout",
     "output_type": "stream",
     "text": [
      "ZTF Element Dataframe Random Elements:\n",
      "                  Total     (Per Batch)\n",
      "Observations   :   265278   (     4211)\n",
      "\n",
      "Summarize score = sum(-1.0 - log(v)) by batch.  (Mean=0, Variance=num_obs)\n",
      "Mean score     :      54.71\n",
      "Sqrt(batch_obs):      64.89\n",
      "Mean t_score   :       0.27\n"
     ]
    }
   ],
   "source": [
    "# Summarize the ztf element batch: random elements\n",
    "ztf_elt_summary(ztf_elt_rand, score_by_elt_rand, 'Random Elements')"
   ]
  },
  {
   "cell_type": "code",
   "execution_count": 24,
   "metadata": {},
   "outputs": [],
   "source": [
    "# Mixture parameters\n",
    "num_hits: int = 20\n",
    "R_deg: float = 1.0"
   ]
  },
  {
   "cell_type": "code",
   "execution_count": 25,
   "metadata": {},
   "outputs": [],
   "source": [
    "# Add mixture parameters to candidate elements\n",
    "elts_add_mixture_params(elts=elts_ast, score_by_elt=score_by_elt_ast, num_hits=num_hits, R_deg=R_deg)\n",
    "elts_add_mixture_params(elts=elts_pert, score_by_elt=score_by_elt_pert, num_hits=num_hits, R_deg=R_deg)\n",
    "elts_add_mixture_params(elts=elts_rand, score_by_elt=score_by_elt_rand, num_hits=num_hits, R_deg=R_deg)"
   ]
  },
  {
   "cell_type": "code",
   "execution_count": 26,
   "metadata": {},
   "outputs": [
    {
     "data": {
      "text/html": [
       "<div>\n",
       "<style scoped>\n",
       "    .dataframe tbody tr th:only-of-type {\n",
       "        vertical-align: middle;\n",
       "    }\n",
       "\n",
       "    .dataframe tbody tr th {\n",
       "        vertical-align: top;\n",
       "    }\n",
       "\n",
       "    .dataframe thead th {\n",
       "        text-align: right;\n",
       "    }\n",
       "</style>\n",
       "<table border=\"1\" class=\"dataframe\">\n",
       "  <thead>\n",
       "    <tr style=\"text-align: right;\">\n",
       "      <th></th>\n",
       "      <th>element_id</th>\n",
       "      <th>a</th>\n",
       "      <th>e</th>\n",
       "      <th>inc</th>\n",
       "      <th>Omega</th>\n",
       "      <th>omega</th>\n",
       "      <th>f</th>\n",
       "      <th>epoch</th>\n",
       "      <th>h</th>\n",
       "      <th>R</th>\n",
       "    </tr>\n",
       "  </thead>\n",
       "  <tbody>\n",
       "    <tr>\n",
       "      <th>0</th>\n",
       "      <td>51921</td>\n",
       "      <td>2.669306</td>\n",
       "      <td>0.217361</td>\n",
       "      <td>0.499554</td>\n",
       "      <td>4.699703</td>\n",
       "      <td>2.450796</td>\n",
       "      <td>-1.133491</td>\n",
       "      <td>58600.0</td>\n",
       "      <td>0.004274</td>\n",
       "      <td>0.017453</td>\n",
       "    </tr>\n",
       "    <tr>\n",
       "      <th>1</th>\n",
       "      <td>59244</td>\n",
       "      <td>2.634727</td>\n",
       "      <td>0.262503</td>\n",
       "      <td>0.465045</td>\n",
       "      <td>5.738298</td>\n",
       "      <td>1.766995</td>\n",
       "      <td>-1.601363</td>\n",
       "      <td>58600.0</td>\n",
       "      <td>0.007025</td>\n",
       "      <td>0.017453</td>\n",
       "    </tr>\n",
       "    <tr>\n",
       "      <th>2</th>\n",
       "      <td>15786</td>\n",
       "      <td>1.883227</td>\n",
       "      <td>0.047655</td>\n",
       "      <td>0.392360</td>\n",
       "      <td>6.134689</td>\n",
       "      <td>0.804823</td>\n",
       "      <td>-1.246069</td>\n",
       "      <td>58600.0</td>\n",
       "      <td>0.005582</td>\n",
       "      <td>0.017453</td>\n",
       "    </tr>\n",
       "    <tr>\n",
       "      <th>3</th>\n",
       "      <td>3904</td>\n",
       "      <td>2.556387</td>\n",
       "      <td>0.098279</td>\n",
       "      <td>0.261542</td>\n",
       "      <td>5.450163</td>\n",
       "      <td>2.202423</td>\n",
       "      <td>-1.357345</td>\n",
       "      <td>58600.0</td>\n",
       "      <td>0.005266</td>\n",
       "      <td>0.017453</td>\n",
       "    </tr>\n",
       "    <tr>\n",
       "      <th>4</th>\n",
       "      <td>142999</td>\n",
       "      <td>2.619944</td>\n",
       "      <td>0.191376</td>\n",
       "      <td>0.514017</td>\n",
       "      <td>0.238022</td>\n",
       "      <td>0.946463</td>\n",
       "      <td>-1.299301</td>\n",
       "      <td>58600.0</td>\n",
       "      <td>0.005328</td>\n",
       "      <td>0.017453</td>\n",
       "    </tr>\n",
       "    <tr>\n",
       "      <th>...</th>\n",
       "      <td>...</td>\n",
       "      <td>...</td>\n",
       "      <td>...</td>\n",
       "      <td>...</td>\n",
       "      <td>...</td>\n",
       "      <td>...</td>\n",
       "      <td>...</td>\n",
       "      <td>...</td>\n",
       "      <td>...</td>\n",
       "      <td>...</td>\n",
       "    </tr>\n",
       "    <tr>\n",
       "      <th>59</th>\n",
       "      <td>11952</td>\n",
       "      <td>2.219650</td>\n",
       "      <td>0.086091</td>\n",
       "      <td>0.117967</td>\n",
       "      <td>0.042442</td>\n",
       "      <td>2.904823</td>\n",
       "      <td>-3.016580</td>\n",
       "      <td>58600.0</td>\n",
       "      <td>0.001716</td>\n",
       "      <td>0.017453</td>\n",
       "    </tr>\n",
       "    <tr>\n",
       "      <th>60</th>\n",
       "      <td>134815</td>\n",
       "      <td>2.612770</td>\n",
       "      <td>0.140831</td>\n",
       "      <td>0.513922</td>\n",
       "      <td>0.272689</td>\n",
       "      <td>0.645552</td>\n",
       "      <td>-0.957836</td>\n",
       "      <td>58600.0</td>\n",
       "      <td>0.006124</td>\n",
       "      <td>0.017453</td>\n",
       "    </tr>\n",
       "    <tr>\n",
       "      <th>61</th>\n",
       "      <td>27860</td>\n",
       "      <td>2.619406</td>\n",
       "      <td>0.096185</td>\n",
       "      <td>0.200633</td>\n",
       "      <td>5.541400</td>\n",
       "      <td>3.266046</td>\n",
       "      <td>3.948770</td>\n",
       "      <td>58600.0</td>\n",
       "      <td>0.003126</td>\n",
       "      <td>0.017453</td>\n",
       "    </tr>\n",
       "    <tr>\n",
       "      <th>62</th>\n",
       "      <td>85937</td>\n",
       "      <td>2.342291</td>\n",
       "      <td>0.197267</td>\n",
       "      <td>0.439063</td>\n",
       "      <td>5.279693</td>\n",
       "      <td>3.210025</td>\n",
       "      <td>3.947687</td>\n",
       "      <td>58600.0</td>\n",
       "      <td>0.007110</td>\n",
       "      <td>0.017453</td>\n",
       "    </tr>\n",
       "    <tr>\n",
       "      <th>63</th>\n",
       "      <td>72911</td>\n",
       "      <td>3.155569</td>\n",
       "      <td>0.086495</td>\n",
       "      <td>0.262050</td>\n",
       "      <td>5.311936</td>\n",
       "      <td>2.108568</td>\n",
       "      <td>-1.020687</td>\n",
       "      <td>58600.0</td>\n",
       "      <td>0.005221</td>\n",
       "      <td>0.017453</td>\n",
       "    </tr>\n",
       "  </tbody>\n",
       "</table>\n",
       "<p>64 rows × 10 columns</p>\n",
       "</div>"
      ],
      "text/plain": [
       "    element_id         a         e       inc     Omega     omega         f  \\\n",
       "0        51921  2.669306  0.217361  0.499554  4.699703  2.450796 -1.133491   \n",
       "1        59244  2.634727  0.262503  0.465045  5.738298  1.766995 -1.601363   \n",
       "2        15786  1.883227  0.047655  0.392360  6.134689  0.804823 -1.246069   \n",
       "3         3904  2.556387  0.098279  0.261542  5.450163  2.202423 -1.357345   \n",
       "4       142999  2.619944  0.191376  0.514017  0.238022  0.946463 -1.299301   \n",
       "..         ...       ...       ...       ...       ...       ...       ...   \n",
       "59       11952  2.219650  0.086091  0.117967  0.042442  2.904823 -3.016580   \n",
       "60      134815  2.612770  0.140831  0.513922  0.272689  0.645552 -0.957836   \n",
       "61       27860  2.619406  0.096185  0.200633  5.541400  3.266046  3.948770   \n",
       "62       85937  2.342291  0.197267  0.439063  5.279693  3.210025  3.947687   \n",
       "63       72911  3.155569  0.086495  0.262050  5.311936  2.108568 -1.020687   \n",
       "\n",
       "      epoch         h         R  \n",
       "0   58600.0  0.004274  0.017453  \n",
       "1   58600.0  0.007025  0.017453  \n",
       "2   58600.0  0.005582  0.017453  \n",
       "3   58600.0  0.005266  0.017453  \n",
       "4   58600.0  0.005328  0.017453  \n",
       "..      ...       ...       ...  \n",
       "59  58600.0  0.001716  0.017453  \n",
       "60  58600.0  0.006124  0.017453  \n",
       "61  58600.0  0.003126  0.017453  \n",
       "62  58600.0  0.007110  0.017453  \n",
       "63  58600.0  0.005221  0.017453  \n",
       "\n",
       "[64 rows x 10 columns]"
      ]
     },
     "execution_count": 26,
     "metadata": {},
     "output_type": "execute_result"
    }
   ],
   "source": [
    "# Review unperturbed elements\n",
    "elts_ast"
   ]
  },
  {
   "cell_type": "markdown",
   "metadata": {},
   "source": [
    "## View Example DataFrames and Hits"
   ]
  },
  {
   "cell_type": "code",
   "execution_count": 27,
   "metadata": {},
   "outputs": [
    {
     "data": {
      "text/html": [
       "<div>\n",
       "<style scoped>\n",
       "    .dataframe tbody tr th:only-of-type {\n",
       "        vertical-align: middle;\n",
       "    }\n",
       "\n",
       "    .dataframe tbody tr th {\n",
       "        vertical-align: top;\n",
       "    }\n",
       "\n",
       "    .dataframe thead th {\n",
       "        text-align: right;\n",
       "    }\n",
       "</style>\n",
       "<table border=\"1\" class=\"dataframe\">\n",
       "  <thead>\n",
       "    <tr style=\"text-align: right;\">\n",
       "      <th></th>\n",
       "      <th>ztf_id</th>\n",
       "      <th>element_id</th>\n",
       "      <th>ObjectID</th>\n",
       "      <th>CandidateID</th>\n",
       "      <th>TimeStampID</th>\n",
       "      <th>mjd</th>\n",
       "      <th>ra</th>\n",
       "      <th>dec</th>\n",
       "      <th>ux</th>\n",
       "      <th>uy</th>\n",
       "      <th>...</th>\n",
       "      <th>vz</th>\n",
       "      <th>elt_ux</th>\n",
       "      <th>elt_uy</th>\n",
       "      <th>elt_uz</th>\n",
       "      <th>elt_r</th>\n",
       "      <th>s</th>\n",
       "      <th>s_sec</th>\n",
       "      <th>z</th>\n",
       "      <th>v</th>\n",
       "      <th>is_hit</th>\n",
       "    </tr>\n",
       "  </thead>\n",
       "  <tbody>\n",
       "    <tr>\n",
       "      <th>0</th>\n",
       "      <td>53851</td>\n",
       "      <td>733</td>\n",
       "      <td>b'ZTF18abnothj'</td>\n",
       "      <td>594197584815010004</td>\n",
       "      <td>5501</td>\n",
       "      <td>58348.197581</td>\n",
       "      <td>266.229165</td>\n",
       "      <td>-13.513802</td>\n",
       "      <td>-0.063945</td>\n",
       "      <td>-0.983101</td>\n",
       "      <td>...</td>\n",
       "      <td>0.004080</td>\n",
       "      <td>-0.057300</td>\n",
       "      <td>-0.982042</td>\n",
       "      <td>0.179751</td>\n",
       "      <td>2.234078</td>\n",
       "      <td>0.010624</td>\n",
       "      <td>2191.408734</td>\n",
       "      <td>0.999944</td>\n",
       "      <td>0.092645</td>\n",
       "      <td>False</td>\n",
       "    </tr>\n",
       "    <tr>\n",
       "      <th>1</th>\n",
       "      <td>73603</td>\n",
       "      <td>733</td>\n",
       "      <td>b'ZTF18ablwzmb'</td>\n",
       "      <td>609167834815015007</td>\n",
       "      <td>7226</td>\n",
       "      <td>58363.167836</td>\n",
       "      <td>265.761064</td>\n",
       "      <td>-13.509195</td>\n",
       "      <td>-0.071871</td>\n",
       "      <td>-0.982579</td>\n",
       "      <td>...</td>\n",
       "      <td>0.003999</td>\n",
       "      <td>-0.055041</td>\n",
       "      <td>-0.979702</td>\n",
       "      <td>0.192757</td>\n",
       "      <td>2.397172</td>\n",
       "      <td>0.027352</td>\n",
       "      <td>5641.954857</td>\n",
       "      <td>0.999626</td>\n",
       "      <td>0.614061</td>\n",
       "      <td>False</td>\n",
       "    </tr>\n",
       "    <tr>\n",
       "      <th>2</th>\n",
       "      <td>73604</td>\n",
       "      <td>733</td>\n",
       "      <td>b'ZTF18ablwzmb'</td>\n",
       "      <td>594197584815015003</td>\n",
       "      <td>5501</td>\n",
       "      <td>58348.197581</td>\n",
       "      <td>265.761024</td>\n",
       "      <td>-13.509148</td>\n",
       "      <td>-0.071871</td>\n",
       "      <td>-0.982578</td>\n",
       "      <td>...</td>\n",
       "      <td>0.004080</td>\n",
       "      <td>-0.057300</td>\n",
       "      <td>-0.982042</td>\n",
       "      <td>0.179751</td>\n",
       "      <td>2.234078</td>\n",
       "      <td>0.016809</td>\n",
       "      <td>3467.151428</td>\n",
       "      <td>0.999859</td>\n",
       "      <td>0.231907</td>\n",
       "      <td>False</td>\n",
       "    </tr>\n",
       "    <tr>\n",
       "      <th>3</th>\n",
       "      <td>73605</td>\n",
       "      <td>733</td>\n",
       "      <td>b'ZTF18ablwzmb'</td>\n",
       "      <td>584189894815015004</td>\n",
       "      <td>4646</td>\n",
       "      <td>58338.189896</td>\n",
       "      <td>265.761079</td>\n",
       "      <td>-13.509107</td>\n",
       "      <td>-0.071871</td>\n",
       "      <td>-0.982578</td>\n",
       "      <td>...</td>\n",
       "      <td>0.004126</td>\n",
       "      <td>-0.045072</td>\n",
       "      <td>-0.984663</td>\n",
       "      <td>0.168544</td>\n",
       "      <td>2.138928</td>\n",
       "      <td>0.027030</td>\n",
       "      <td>5575.548058</td>\n",
       "      <td>0.999635</td>\n",
       "      <td>0.599691</td>\n",
       "      <td>False</td>\n",
       "    </tr>\n",
       "    <tr>\n",
       "      <th>4</th>\n",
       "      <td>82343</td>\n",
       "      <td>733</td>\n",
       "      <td>b'ZTF18abiydvm'</td>\n",
       "      <td>635193253015015018</td>\n",
       "      <td>12089</td>\n",
       "      <td>58389.193252</td>\n",
       "      <td>270.331454</td>\n",
       "      <td>-11.244934</td>\n",
       "      <td>0.005674</td>\n",
       "      <td>-0.977422</td>\n",
       "      <td>...</td>\n",
       "      <td>0.003825</td>\n",
       "      <td>0.000919</td>\n",
       "      <td>-0.977996</td>\n",
       "      <td>0.208622</td>\n",
       "      <td>2.703478</td>\n",
       "      <td>0.005450</td>\n",
       "      <td>1124.103915</td>\n",
       "      <td>0.999985</td>\n",
       "      <td>0.024378</td>\n",
       "      <td>False</td>\n",
       "    </tr>\n",
       "    <tr>\n",
       "      <th>...</th>\n",
       "      <td>...</td>\n",
       "      <td>...</td>\n",
       "      <td>...</td>\n",
       "      <td>...</td>\n",
       "      <td>...</td>\n",
       "      <td>...</td>\n",
       "      <td>...</td>\n",
       "      <td>...</td>\n",
       "      <td>...</td>\n",
       "      <td>...</td>\n",
       "      <td>...</td>\n",
       "      <td>...</td>\n",
       "      <td>...</td>\n",
       "      <td>...</td>\n",
       "      <td>...</td>\n",
       "      <td>...</td>\n",
       "      <td>...</td>\n",
       "      <td>...</td>\n",
       "      <td>...</td>\n",
       "      <td>...</td>\n",
       "      <td>...</td>\n",
       "    </tr>\n",
       "    <tr>\n",
       "      <th>322909</th>\n",
       "      <td>5651234</td>\n",
       "      <td>324582</td>\n",
       "      <td>b'ZTF20aaqvkyr'</td>\n",
       "      <td>1150185754815015006</td>\n",
       "      <td>96635</td>\n",
       "      <td>58904.185752</td>\n",
       "      <td>42.384302</td>\n",
       "      <td>29.148349</td>\n",
       "      <td>0.645100</td>\n",
       "      <td>0.733898</td>\n",
       "      <td>...</td>\n",
       "      <td>-0.001541</td>\n",
       "      <td>0.627608</td>\n",
       "      <td>0.750726</td>\n",
       "      <td>0.206199</td>\n",
       "      <td>2.981918</td>\n",
       "      <td>0.025126</td>\n",
       "      <td>5182.803024</td>\n",
       "      <td>0.999684</td>\n",
       "      <td>0.518186</td>\n",
       "      <td>False</td>\n",
       "    </tr>\n",
       "    <tr>\n",
       "      <th>322910</th>\n",
       "      <td>5651378</td>\n",
       "      <td>324582</td>\n",
       "      <td>b'ZTF20aaqvkyo'</td>\n",
       "      <td>1150185754815015007</td>\n",
       "      <td>96635</td>\n",
       "      <td>58904.185752</td>\n",
       "      <td>42.122572</td>\n",
       "      <td>29.195466</td>\n",
       "      <td>0.647485</td>\n",
       "      <td>0.731228</td>\n",
       "      <td>...</td>\n",
       "      <td>-0.001541</td>\n",
       "      <td>0.627608</td>\n",
       "      <td>0.750726</td>\n",
       "      <td>0.206199</td>\n",
       "      <td>2.981918</td>\n",
       "      <td>0.029094</td>\n",
       "      <td>6001.222051</td>\n",
       "      <td>0.999577</td>\n",
       "      <td>0.694749</td>\n",
       "      <td>False</td>\n",
       "    </tr>\n",
       "    <tr>\n",
       "      <th>322911</th>\n",
       "      <td>5651434</td>\n",
       "      <td>324582</td>\n",
       "      <td>b'ZTF20aaqvkus'</td>\n",
       "      <td>1150185310315015002</td>\n",
       "      <td>96634</td>\n",
       "      <td>58904.185313</td>\n",
       "      <td>43.256211</td>\n",
       "      <td>29.954124</td>\n",
       "      <td>0.631015</td>\n",
       "      <td>0.743348</td>\n",
       "      <td>...</td>\n",
       "      <td>-0.001541</td>\n",
       "      <td>0.627610</td>\n",
       "      <td>0.750725</td>\n",
       "      <td>0.206200</td>\n",
       "      <td>2.981912</td>\n",
       "      <td>0.017707</td>\n",
       "      <td>3652.453216</td>\n",
       "      <td>0.999843</td>\n",
       "      <td>0.257358</td>\n",
       "      <td>False</td>\n",
       "    </tr>\n",
       "    <tr>\n",
       "      <th>322912</th>\n",
       "      <td>5651513</td>\n",
       "      <td>324582</td>\n",
       "      <td>b'ZTF20aaqvlna'</td>\n",
       "      <td>1150185755115015011</td>\n",
       "      <td>96635</td>\n",
       "      <td>58904.185752</td>\n",
       "      <td>42.388038</td>\n",
       "      <td>28.228923</td>\n",
       "      <td>0.650751</td>\n",
       "      <td>0.733102</td>\n",
       "      <td>...</td>\n",
       "      <td>-0.001541</td>\n",
       "      <td>0.627608</td>\n",
       "      <td>0.750726</td>\n",
       "      <td>0.206199</td>\n",
       "      <td>2.981918</td>\n",
       "      <td>0.030306</td>\n",
       "      <td>6251.306560</td>\n",
       "      <td>0.999541</td>\n",
       "      <td>0.753854</td>\n",
       "      <td>False</td>\n",
       "    </tr>\n",
       "    <tr>\n",
       "      <th>322913</th>\n",
       "      <td>5651704</td>\n",
       "      <td>324582</td>\n",
       "      <td>b'ZTF20aaqvlmz'</td>\n",
       "      <td>1150185755115015003</td>\n",
       "      <td>96635</td>\n",
       "      <td>58904.185752</td>\n",
       "      <td>41.916630</td>\n",
       "      <td>28.631276</td>\n",
       "      <td>0.653128</td>\n",
       "      <td>0.728579</td>\n",
       "      <td>...</td>\n",
       "      <td>-0.001541</td>\n",
       "      <td>0.627608</td>\n",
       "      <td>0.750726</td>\n",
       "      <td>0.206199</td>\n",
       "      <td>2.981918</td>\n",
       "      <td>0.033791</td>\n",
       "      <td>6970.130701</td>\n",
       "      <td>0.999429</td>\n",
       "      <td>0.937173</td>\n",
       "      <td>False</td>\n",
       "    </tr>\n",
       "  </tbody>\n",
       "</table>\n",
       "<p>322914 rows × 26 columns</p>\n",
       "</div>"
      ],
      "text/plain": [
       "         ztf_id  element_id         ObjectID          CandidateID  \\\n",
       "0         53851         733  b'ZTF18abnothj'   594197584815010004   \n",
       "1         73603         733  b'ZTF18ablwzmb'   609167834815015007   \n",
       "2         73604         733  b'ZTF18ablwzmb'   594197584815015003   \n",
       "3         73605         733  b'ZTF18ablwzmb'   584189894815015004   \n",
       "4         82343         733  b'ZTF18abiydvm'   635193253015015018   \n",
       "...         ...         ...              ...                  ...   \n",
       "322909  5651234      324582  b'ZTF20aaqvkyr'  1150185754815015006   \n",
       "322910  5651378      324582  b'ZTF20aaqvkyo'  1150185754815015007   \n",
       "322911  5651434      324582  b'ZTF20aaqvkus'  1150185310315015002   \n",
       "322912  5651513      324582  b'ZTF20aaqvlna'  1150185755115015011   \n",
       "322913  5651704      324582  b'ZTF20aaqvlmz'  1150185755115015003   \n",
       "\n",
       "        TimeStampID           mjd          ra        dec        ux        uy  \\\n",
       "0              5501  58348.197581  266.229165 -13.513802 -0.063945 -0.983101   \n",
       "1              7226  58363.167836  265.761064 -13.509195 -0.071871 -0.982579   \n",
       "2              5501  58348.197581  265.761024 -13.509148 -0.071871 -0.982578   \n",
       "3              4646  58338.189896  265.761079 -13.509107 -0.071871 -0.982578   \n",
       "4             12089  58389.193252  270.331454 -11.244934  0.005674 -0.977422   \n",
       "...             ...           ...         ...        ...       ...       ...   \n",
       "322909        96635  58904.185752   42.384302  29.148349  0.645100  0.733898   \n",
       "322910        96635  58904.185752   42.122572  29.195466  0.647485  0.731228   \n",
       "322911        96634  58904.185313   43.256211  29.954124  0.631015  0.743348   \n",
       "322912        96635  58904.185752   42.388038  28.228923  0.650751  0.733102   \n",
       "322913        96635  58904.185752   41.916630  28.631276  0.653128  0.728579   \n",
       "\n",
       "        ...        vz    elt_ux    elt_uy    elt_uz     elt_r         s  \\\n",
       "0       ...  0.004080 -0.057300 -0.982042  0.179751  2.234078  0.010624   \n",
       "1       ...  0.003999 -0.055041 -0.979702  0.192757  2.397172  0.027352   \n",
       "2       ...  0.004080 -0.057300 -0.982042  0.179751  2.234078  0.016809   \n",
       "3       ...  0.004126 -0.045072 -0.984663  0.168544  2.138928  0.027030   \n",
       "4       ...  0.003825  0.000919 -0.977996  0.208622  2.703478  0.005450   \n",
       "...     ...       ...       ...       ...       ...       ...       ...   \n",
       "322909  ... -0.001541  0.627608  0.750726  0.206199  2.981918  0.025126   \n",
       "322910  ... -0.001541  0.627608  0.750726  0.206199  2.981918  0.029094   \n",
       "322911  ... -0.001541  0.627610  0.750725  0.206200  2.981912  0.017707   \n",
       "322912  ... -0.001541  0.627608  0.750726  0.206199  2.981918  0.030306   \n",
       "322913  ... -0.001541  0.627608  0.750726  0.206199  2.981918  0.033791   \n",
       "\n",
       "              s_sec         z         v  is_hit  \n",
       "0       2191.408734  0.999944  0.092645   False  \n",
       "1       5641.954857  0.999626  0.614061   False  \n",
       "2       3467.151428  0.999859  0.231907   False  \n",
       "3       5575.548058  0.999635  0.599691   False  \n",
       "4       1124.103915  0.999985  0.024378   False  \n",
       "...             ...       ...       ...     ...  \n",
       "322909  5182.803024  0.999684  0.518186   False  \n",
       "322910  6001.222051  0.999577  0.694749   False  \n",
       "322911  3652.453216  0.999843  0.257358   False  \n",
       "322912  6251.306560  0.999541  0.753854   False  \n",
       "322913  6970.130701  0.999429  0.937173   False  \n",
       "\n",
       "[322914 rows x 26 columns]"
      ]
     },
     "execution_count": 27,
     "metadata": {},
     "output_type": "execute_result"
    }
   ],
   "source": [
    "# Review ztf_elt DataFrame\n",
    "ztf_elt_ast"
   ]
  },
  {
   "cell_type": "code",
   "execution_count": 28,
   "metadata": {},
   "outputs": [
    {
     "data": {
      "text/html": [
       "<div>\n",
       "<style scoped>\n",
       "    .dataframe tbody tr th:only-of-type {\n",
       "        vertical-align: middle;\n",
       "    }\n",
       "\n",
       "    .dataframe tbody tr th {\n",
       "        vertical-align: top;\n",
       "    }\n",
       "\n",
       "    .dataframe thead th {\n",
       "        text-align: right;\n",
       "    }\n",
       "</style>\n",
       "<table border=\"1\" class=\"dataframe\">\n",
       "  <thead>\n",
       "    <tr style=\"text-align: right;\">\n",
       "      <th></th>\n",
       "      <th>ztf_id</th>\n",
       "      <th>element_id</th>\n",
       "      <th>ObjectID</th>\n",
       "      <th>CandidateID</th>\n",
       "      <th>TimeStampID</th>\n",
       "      <th>mjd</th>\n",
       "      <th>ra</th>\n",
       "      <th>dec</th>\n",
       "      <th>ux</th>\n",
       "      <th>uy</th>\n",
       "      <th>...</th>\n",
       "      <th>vz</th>\n",
       "      <th>elt_ux</th>\n",
       "      <th>elt_uy</th>\n",
       "      <th>elt_uz</th>\n",
       "      <th>elt_r</th>\n",
       "      <th>s</th>\n",
       "      <th>s_sec</th>\n",
       "      <th>z</th>\n",
       "      <th>v</th>\n",
       "      <th>is_hit</th>\n",
       "    </tr>\n",
       "  </thead>\n",
       "  <tbody>\n",
       "    <tr>\n",
       "      <th>30</th>\n",
       "      <td>341737</td>\n",
       "      <td>733</td>\n",
       "      <td>b'ZTF19abizrac'</td>\n",
       "      <td>937427766115015019</td>\n",
       "      <td>40797</td>\n",
       "      <td>58691.427766</td>\n",
       "      <td>33.130412</td>\n",
       "      <td>43.596186</td>\n",
       "      <td>0.606481</td>\n",
       "      <td>0.637452</td>\n",
       "      <td>...</td>\n",
       "      <td>-0.002127</td>\n",
       "      <td>0.606486</td>\n",
       "      <td>0.637448</td>\n",
       "      <td>0.475220</td>\n",
       "      <td>2.115260</td>\n",
       "      <td>0.000007</td>\n",
       "      <td>1.509138</td>\n",
       "      <td>1.0</td>\n",
       "      <td>4.393768e-08</td>\n",
       "      <td>True</td>\n",
       "    </tr>\n",
       "    <tr>\n",
       "      <th>33</th>\n",
       "      <td>345725</td>\n",
       "      <td>733</td>\n",
       "      <td>b'ZTF19abjajfg'</td>\n",
       "      <td>937467364815015020</td>\n",
       "      <td>40840</td>\n",
       "      <td>58691.467361</td>\n",
       "      <td>33.148426</td>\n",
       "      <td>43.605278</td>\n",
       "      <td>0.606265</td>\n",
       "      <td>0.637618</td>\n",
       "      <td>...</td>\n",
       "      <td>-0.002129</td>\n",
       "      <td>0.606270</td>\n",
       "      <td>0.637614</td>\n",
       "      <td>0.475274</td>\n",
       "      <td>2.114851</td>\n",
       "      <td>0.000007</td>\n",
       "      <td>1.479386</td>\n",
       "      <td>1.0</td>\n",
       "      <td>4.222230e-08</td>\n",
       "      <td>True</td>\n",
       "    </tr>\n",
       "    <tr>\n",
       "      <th>36</th>\n",
       "      <td>346522</td>\n",
       "      <td>733</td>\n",
       "      <td>b'ZTF19abjajmr'</td>\n",
       "      <td>937468726115015011</td>\n",
       "      <td>40842</td>\n",
       "      <td>58691.468727</td>\n",
       "      <td>33.149062</td>\n",
       "      <td>43.605587</td>\n",
       "      <td>0.606257</td>\n",
       "      <td>0.637624</td>\n",
       "      <td>...</td>\n",
       "      <td>-0.002129</td>\n",
       "      <td>0.606263</td>\n",
       "      <td>0.637619</td>\n",
       "      <td>0.475276</td>\n",
       "      <td>2.114837</td>\n",
       "      <td>0.000007</td>\n",
       "      <td>1.503609</td>\n",
       "      <td>1.0</td>\n",
       "      <td>4.361631e-08</td>\n",
       "      <td>True</td>\n",
       "    </tr>\n",
       "    <tr>\n",
       "      <th>40</th>\n",
       "      <td>347644</td>\n",
       "      <td>733</td>\n",
       "      <td>b'ZTF19abiyxiu'</td>\n",
       "      <td>937402264815015008</td>\n",
       "      <td>40777</td>\n",
       "      <td>58691.402269</td>\n",
       "      <td>33.118785</td>\n",
       "      <td>43.590288</td>\n",
       "      <td>0.606621</td>\n",
       "      <td>0.637345</td>\n",
       "      <td>...</td>\n",
       "      <td>-0.002127</td>\n",
       "      <td>0.606626</td>\n",
       "      <td>0.637341</td>\n",
       "      <td>0.475186</td>\n",
       "      <td>2.115523</td>\n",
       "      <td>0.000007</td>\n",
       "      <td>1.491440</td>\n",
       "      <td>1.0</td>\n",
       "      <td>4.291319e-08</td>\n",
       "      <td>True</td>\n",
       "    </tr>\n",
       "    <tr>\n",
       "      <th>47</th>\n",
       "      <td>431445</td>\n",
       "      <td>733</td>\n",
       "      <td>b'ZTF19abkkfhr'</td>\n",
       "      <td>934448315015015003</td>\n",
       "      <td>40221</td>\n",
       "      <td>58688.448310</td>\n",
       "      <td>31.751906</td>\n",
       "      <td>42.913068</td>\n",
       "      <td>0.622775</td>\n",
       "      <td>0.624451</td>\n",
       "      <td>...</td>\n",
       "      <td>-0.002040</td>\n",
       "      <td>0.622780</td>\n",
       "      <td>0.624447</td>\n",
       "      <td>0.471393</td>\n",
       "      <td>2.145603</td>\n",
       "      <td>0.000007</td>\n",
       "      <td>1.493960</td>\n",
       "      <td>1.0</td>\n",
       "      <td>4.305831e-08</td>\n",
       "      <td>True</td>\n",
       "    </tr>\n",
       "    <tr>\n",
       "      <th>...</th>\n",
       "      <td>...</td>\n",
       "      <td>...</td>\n",
       "      <td>...</td>\n",
       "      <td>...</td>\n",
       "      <td>...</td>\n",
       "      <td>...</td>\n",
       "      <td>...</td>\n",
       "      <td>...</td>\n",
       "      <td>...</td>\n",
       "      <td>...</td>\n",
       "      <td>...</td>\n",
       "      <td>...</td>\n",
       "      <td>...</td>\n",
       "      <td>...</td>\n",
       "      <td>...</td>\n",
       "      <td>...</td>\n",
       "      <td>...</td>\n",
       "      <td>...</td>\n",
       "      <td>...</td>\n",
       "      <td>...</td>\n",
       "      <td>...</td>\n",
       "    </tr>\n",
       "    <tr>\n",
       "      <th>322817</th>\n",
       "      <td>5447574</td>\n",
       "      <td>324582</td>\n",
       "      <td>b'ZTF20aapdfmj'</td>\n",
       "      <td>1145121244815015014</td>\n",
       "      <td>95204</td>\n",
       "      <td>58899.121250</td>\n",
       "      <td>42.392273</td>\n",
       "      <td>29.202629</td>\n",
       "      <td>0.644677</td>\n",
       "      <td>0.734024</td>\n",
       "      <td>...</td>\n",
       "      <td>-0.001502</td>\n",
       "      <td>0.644680</td>\n",
       "      <td>0.734021</td>\n",
       "      <td>0.213544</td>\n",
       "      <td>2.915471</td>\n",
       "      <td>0.000005</td>\n",
       "      <td>0.934688</td>\n",
       "      <td>1.0</td>\n",
       "      <td>1.685436e-08</td>\n",
       "      <td>True</td>\n",
       "    </tr>\n",
       "    <tr>\n",
       "      <th>322830</th>\n",
       "      <td>5450145</td>\n",
       "      <td>324582</td>\n",
       "      <td>b'ZTF20aapdfmj'</td>\n",
       "      <td>1145121716115015016</td>\n",
       "      <td>95205</td>\n",
       "      <td>58899.121713</td>\n",
       "      <td>42.392439</td>\n",
       "      <td>29.202638</td>\n",
       "      <td>0.644675</td>\n",
       "      <td>0.734026</td>\n",
       "      <td>...</td>\n",
       "      <td>-0.001502</td>\n",
       "      <td>0.644678</td>\n",
       "      <td>0.734022</td>\n",
       "      <td>0.213543</td>\n",
       "      <td>2.915477</td>\n",
       "      <td>0.000005</td>\n",
       "      <td>1.005771</td>\n",
       "      <td>1.0</td>\n",
       "      <td>1.951541e-08</td>\n",
       "      <td>True</td>\n",
       "    </tr>\n",
       "    <tr>\n",
       "      <th>322844</th>\n",
       "      <td>5461311</td>\n",
       "      <td>324582</td>\n",
       "      <td>b'ZTF20aapeobw'</td>\n",
       "      <td>1145164884815015018</td>\n",
       "      <td>95284</td>\n",
       "      <td>58899.164884</td>\n",
       "      <td>42.405891</td>\n",
       "      <td>29.202386</td>\n",
       "      <td>0.644538</td>\n",
       "      <td>0.734164</td>\n",
       "      <td>...</td>\n",
       "      <td>-0.001503</td>\n",
       "      <td>0.644541</td>\n",
       "      <td>0.734161</td>\n",
       "      <td>0.213479</td>\n",
       "      <td>2.916052</td>\n",
       "      <td>0.000004</td>\n",
       "      <td>0.890844</td>\n",
       "      <td>1.0</td>\n",
       "      <td>1.531025e-08</td>\n",
       "      <td>True</td>\n",
       "    </tr>\n",
       "    <tr>\n",
       "      <th>322845</th>\n",
       "      <td>5461312</td>\n",
       "      <td>324582</td>\n",
       "      <td>b'ZTF20aapeobw'</td>\n",
       "      <td>1145165336115015009</td>\n",
       "      <td>95285</td>\n",
       "      <td>58899.165336</td>\n",
       "      <td>42.406082</td>\n",
       "      <td>29.202412</td>\n",
       "      <td>0.644536</td>\n",
       "      <td>0.734166</td>\n",
       "      <td>...</td>\n",
       "      <td>-0.001503</td>\n",
       "      <td>0.644540</td>\n",
       "      <td>0.734163</td>\n",
       "      <td>0.213478</td>\n",
       "      <td>2.916058</td>\n",
       "      <td>0.000005</td>\n",
       "      <td>1.056357</td>\n",
       "      <td>1.0</td>\n",
       "      <td>2.152784e-08</td>\n",
       "      <td>True</td>\n",
       "    </tr>\n",
       "    <tr>\n",
       "      <th>322861</th>\n",
       "      <td>5569055</td>\n",
       "      <td>324582</td>\n",
       "      <td>b'ZTF20aaqiegi'</td>\n",
       "      <td>1149109466015015031</td>\n",
       "      <td>96104</td>\n",
       "      <td>58903.109468</td>\n",
       "      <td>43.677701</td>\n",
       "      <td>29.195480</td>\n",
       "      <td>0.631356</td>\n",
       "      <td>0.747152</td>\n",
       "      <td>...</td>\n",
       "      <td>-0.001533</td>\n",
       "      <td>0.631360</td>\n",
       "      <td>0.747149</td>\n",
       "      <td>0.207734</td>\n",
       "      <td>2.967860</td>\n",
       "      <td>0.000005</td>\n",
       "      <td>1.017359</td>\n",
       "      <td>1.0</td>\n",
       "      <td>1.996769e-08</td>\n",
       "      <td>True</td>\n",
       "    </tr>\n",
       "  </tbody>\n",
       "</table>\n",
       "<p>10333 rows × 26 columns</p>\n",
       "</div>"
      ],
      "text/plain": [
       "         ztf_id  element_id         ObjectID          CandidateID  \\\n",
       "30       341737         733  b'ZTF19abizrac'   937427766115015019   \n",
       "33       345725         733  b'ZTF19abjajfg'   937467364815015020   \n",
       "36       346522         733  b'ZTF19abjajmr'   937468726115015011   \n",
       "40       347644         733  b'ZTF19abiyxiu'   937402264815015008   \n",
       "47       431445         733  b'ZTF19abkkfhr'   934448315015015003   \n",
       "...         ...         ...              ...                  ...   \n",
       "322817  5447574      324582  b'ZTF20aapdfmj'  1145121244815015014   \n",
       "322830  5450145      324582  b'ZTF20aapdfmj'  1145121716115015016   \n",
       "322844  5461311      324582  b'ZTF20aapeobw'  1145164884815015018   \n",
       "322845  5461312      324582  b'ZTF20aapeobw'  1145165336115015009   \n",
       "322861  5569055      324582  b'ZTF20aaqiegi'  1149109466015015031   \n",
       "\n",
       "        TimeStampID           mjd         ra        dec        ux        uy  \\\n",
       "30            40797  58691.427766  33.130412  43.596186  0.606481  0.637452   \n",
       "33            40840  58691.467361  33.148426  43.605278  0.606265  0.637618   \n",
       "36            40842  58691.468727  33.149062  43.605587  0.606257  0.637624   \n",
       "40            40777  58691.402269  33.118785  43.590288  0.606621  0.637345   \n",
       "47            40221  58688.448310  31.751906  42.913068  0.622775  0.624451   \n",
       "...             ...           ...        ...        ...       ...       ...   \n",
       "322817        95204  58899.121250  42.392273  29.202629  0.644677  0.734024   \n",
       "322830        95205  58899.121713  42.392439  29.202638  0.644675  0.734026   \n",
       "322844        95284  58899.164884  42.405891  29.202386  0.644538  0.734164   \n",
       "322845        95285  58899.165336  42.406082  29.202412  0.644536  0.734166   \n",
       "322861        96104  58903.109468  43.677701  29.195480  0.631356  0.747152   \n",
       "\n",
       "        ...        vz    elt_ux    elt_uy    elt_uz     elt_r         s  \\\n",
       "30      ... -0.002127  0.606486  0.637448  0.475220  2.115260  0.000007   \n",
       "33      ... -0.002129  0.606270  0.637614  0.475274  2.114851  0.000007   \n",
       "36      ... -0.002129  0.606263  0.637619  0.475276  2.114837  0.000007   \n",
       "40      ... -0.002127  0.606626  0.637341  0.475186  2.115523  0.000007   \n",
       "47      ... -0.002040  0.622780  0.624447  0.471393  2.145603  0.000007   \n",
       "...     ...       ...       ...       ...       ...       ...       ...   \n",
       "322817  ... -0.001502  0.644680  0.734021  0.213544  2.915471  0.000005   \n",
       "322830  ... -0.001502  0.644678  0.734022  0.213543  2.915477  0.000005   \n",
       "322844  ... -0.001503  0.644541  0.734161  0.213479  2.916052  0.000004   \n",
       "322845  ... -0.001503  0.644540  0.734163  0.213478  2.916058  0.000005   \n",
       "322861  ... -0.001533  0.631360  0.747149  0.207734  2.967860  0.000005   \n",
       "\n",
       "           s_sec    z             v  is_hit  \n",
       "30      1.509138  1.0  4.393768e-08    True  \n",
       "33      1.479386  1.0  4.222230e-08    True  \n",
       "36      1.503609  1.0  4.361631e-08    True  \n",
       "40      1.491440  1.0  4.291319e-08    True  \n",
       "47      1.493960  1.0  4.305831e-08    True  \n",
       "...          ...  ...           ...     ...  \n",
       "322817  0.934688  1.0  1.685436e-08    True  \n",
       "322830  1.005771  1.0  1.951541e-08    True  \n",
       "322844  0.890844  1.0  1.531025e-08    True  \n",
       "322845  1.056357  1.0  2.152784e-08    True  \n",
       "322861  1.017359  1.0  1.996769e-08    True  \n",
       "\n",
       "[10333 rows x 26 columns]"
      ]
     },
     "execution_count": 28,
     "metadata": {},
     "output_type": "execute_result"
    }
   ],
   "source": [
    "# Review hits\n",
    "mask = ztf_elt_ast.is_hit\n",
    "ztf_elt_ast[mask]"
   ]
  },
  {
   "cell_type": "code",
   "execution_count": 29,
   "metadata": {},
   "outputs": [
    {
     "data": {
      "text/plain": [
       "Index(['ztf_id', 'element_id', 'ObjectID', 'CandidateID', 'TimeStampID', 'mjd',\n",
       "       'ra', 'dec', 'ux', 'uy', 'uz', 'qx', 'qy', 'qz', 'vx', 'vy', 'vz',\n",
       "       'elt_ux', 'elt_uy', 'elt_uz', 'elt_r', 's', 's_sec', 'z', 'v',\n",
       "       'is_hit'],\n",
       "      dtype='object')"
      ]
     },
     "execution_count": 29,
     "metadata": {},
     "output_type": "execute_result"
    }
   ],
   "source": [
    "ztf_elt_ast.columns"
   ]
  },
  {
   "cell_type": "code",
   "execution_count": 30,
   "metadata": {},
   "outputs": [],
   "source": [
    "# Alias ztf_elt_ast to ztf_elt\n",
    "ztf_elt = ztf_elt_ast"
   ]
  },
  {
   "cell_type": "code",
   "execution_count": 31,
   "metadata": {},
   "outputs": [],
   "source": [
    "# Build numpy array of times\n",
    "ts_np = ztf_elt.mjd.values.astype(dtype_np)\n",
    "\n",
    "# Get observation count per element\n",
    "row_lengths_np = ztf_elt.element_id.groupby(ztf_elt.element_id).count().values.astype(np.int32)"
   ]
  },
  {
   "cell_type": "code",
   "execution_count": 32,
   "metadata": {},
   "outputs": [
    {
     "name": "stdout",
     "output_type": "stream",
     "text": [
      "Best asteroid has element_id = 51921\n",
      "Hit count: 158 / 2682 observations\n",
      "Hit rate : 0.058911\n",
      "Closest hit: 0.381 arc seconds\n"
     ]
    }
   ],
   "source": [
    "# Review results\n",
    "element_id_best = ast_num_best[0]\n",
    "mask = (ztf_elt.element_id == element_id_best)\n",
    "hits_best = np.sum(ztf_elt[mask].is_hit)\n",
    "hit_rate_best = np.mean(ztf_elt[mask].is_hit)\n",
    "rows_best = np.sum(mask)\n",
    "s_sec_min = np.min(ztf_elt[mask].s_sec)\n",
    "idx = np.argmin(ztf_elt.s)\n",
    "ztf_id = ztf_elt.ztf_id[idx]\n",
    "# ztf_elt[mask].iloc[idx:idx+1]\n",
    "print(f'Best asteroid has element_id = {element_id_best}')\n",
    "print(f'Hit count: {hits_best} / {rows_best} observations')\n",
    "print(f'Hit rate : {hit_rate_best:8.6f}')\n",
    "print(f'Closest hit: {s_sec_min:0.3f} arc seconds')\n",
    "# ztf_elt[mask]"
   ]
  },
  {
   "cell_type": "markdown",
   "metadata": {},
   "source": [
    "## Build \"Gold\" Asteroid Search Model (Reference)"
   ]
  },
  {
   "cell_type": "code",
   "execution_count": 33,
   "metadata": {},
   "outputs": [],
   "source": [
    "# Observatory for ZTF data is Palomar Mountain\n",
    "site_name = 'palomar'"
   ]
  },
  {
   "cell_type": "code",
   "execution_count": 34,
   "metadata": {},
   "outputs": [],
   "source": [
    "# Training parameters\n",
    "learning_rate = 2.0**-12\n",
    "clipnorm = 1.0\n",
    "save_at_end: bool = True"
   ]
  },
  {
   "cell_type": "code",
   "execution_count": 35,
   "metadata": {},
   "outputs": [],
   "source": [
    "# \"Golden elements\": unperturbed, with sharp resolution setting and approximately correct hit rate\n",
    "elts_gold = elts_ast.copy()\n",
    "score_by_elt_gold = score_by_elt_ast.copy()\n",
    "ztf_elt_gold = ztf_elt_ast.copy()\n",
    "\n",
    "# The \"gold\" model has a big number of hits and a resolution of 10 arc seconds\n",
    "elts_add_mixture_params(elts=elts_gold, score_by_elt=score_by_elt_gold, num_hits=160, R_deg=10.0/3600.0, dtype=np.float32)"
   ]
  },
  {
   "cell_type": "code",
   "execution_count": 36,
   "metadata": {},
   "outputs": [],
   "source": [
    "# Build asteroid search model\n",
    "model_gold = AsteroidSearchModel(\n",
    "        elts=elts_gold, ztf_elt=ztf_elt_gold, \n",
    "        site_name=site_name, thresh_deg=thresh_deg, \n",
    "        learning_rate=learning_rate, clipnorm=clipnorm)"
   ]
  },
  {
   "cell_type": "code",
   "execution_count": 37,
   "metadata": {},
   "outputs": [
    {
     "name": "stdout",
     "output_type": "stream",
     "text": [
      "     \\  log_like :  hits  :  R_deg    :    R_sec\n",
      "Mean :  1329.89  : 162.88 :  0.002778 :    10.00\n",
      "Std  :   156.09  :  13.42 :  0.000000 :     0.00\n",
      "Min  :  1047.43  : 147.96 :  0.002778 :    10.00\n",
      "Max  :  1738.00  : 200.98 :  0.002778 :    10.00\n"
     ]
    }
   ],
   "source": [
    "# Report summary outputs\n",
    "model_gold.report()"
   ]
  },
  {
   "cell_type": "code",
   "execution_count": 38,
   "metadata": {},
   "outputs": [],
   "source": [
    "# Freeze orbital elements; train only mixture parameters\n",
    "model_gold.freeze_candidate_elements()"
   ]
  },
  {
   "cell_type": "code",
   "execution_count": 39,
   "metadata": {},
   "outputs": [],
   "source": [
    "# Adaptive search parameters - small size\n",
    "max_batches = 2000\n",
    "batches_per_epoch = 100\n",
    "epochs_per_episode = 5\n",
    "min_learning_rate = None\n",
    "verbose = 1"
   ]
  },
  {
   "cell_type": "code",
   "execution_count": 40,
   "metadata": {},
   "outputs": [],
   "source": [
    "# Load model\n",
    "# model_gold.load()"
   ]
  },
  {
   "cell_type": "code",
   "execution_count": 41,
   "metadata": {},
   "outputs": [
    {
     "name": "stdout",
     "output_type": "stream",
     "text": [
      "     \\  log_like :  hits  :  R_deg    :    R_sec\n",
      "Mean :  1329.89  : 162.88 :  0.002778 :    10.00\n",
      "Std  :   156.09  :  13.42 :  0.000000 :     0.00\n",
      "Min  :  1047.44  : 147.96 :  0.002778 :    10.00\n",
      "Max  :  1737.99  : 200.98 :  0.002778 :    10.00\n"
     ]
    }
   ],
   "source": [
    "# Report summary outputs\n",
    "model_gold.report()"
   ]
  },
  {
   "cell_type": "code",
   "execution_count": 42,
   "metadata": {},
   "outputs": [
    {
     "name": "stdout",
     "output_type": "stream",
     "text": [
      "\n",
      "Training episode 0: Epoch    0, Batch      0\n",
      "effective_learning_rate=2.441e-04, training_time 0 sec.\n",
      "Train on 6400 samples\n",
      "Epoch 1/5\n",
      "6400/6400 [==============================] - 4s 594us/sample - loss: -87284.2915\n",
      "Epoch 2/5\n",
      "6400/6400 [==============================] - 2s 281us/sample - loss: -91525.5693\n",
      "Epoch 3/5\n",
      "6400/6400 [==============================] - 2s 281us/sample - loss: -95591.2242\n",
      "Epoch 4/5\n",
      "6400/6400 [==============================] - 2s 285us/sample - loss: -99389.3405\n",
      "Epoch 5/5\n",
      "6400/6400 [==============================] - 2s 289us/sample - loss: -102820.7151\n",
      "Geom Mean Resolution: 0.000986 degrees (   3.6 arc seconds)\n",
      "Mean Hits          :    162.72\n",
      "Mean Log Likelihood:   1631.36\n",
      "\n",
      "Training episode 1: Epoch    5, Batch    500\n",
      "effective_learning_rate=2.441e-04, training_time 24 sec.\n",
      "Train on 6400 samples\n",
      "Epoch 6/10\n",
      "6400/6400 [==============================] - 2s 284us/sample - loss: -105793.8930\n",
      "Epoch 7/10\n",
      "6400/6400 [==============================] - 2s 287us/sample - loss: -108217.0570\n",
      "Epoch 8/10\n",
      "6400/6400 [==============================] - 2s 280us/sample - loss: -110042.5678\n",
      "Epoch 9/10\n",
      "6400/6400 [==============================] - 2s 283us/sample - loss: -111300.1466\n",
      "Epoch 10/10\n",
      "6400/6400 [==============================] - 2s 287us/sample - loss: -112084.7505\n",
      "Geom Mean Resolution: 0.000511 degrees (   1.8 arc seconds)\n",
      "Mean Hits          :    162.71\n",
      "Mean Log Likelihood:   1755.52\n",
      "\n",
      "Training episode 2: Epoch   10, Batch   1000\n",
      "effective_learning_rate=2.441e-04, training_time 33 sec.\n",
      "Train on 6400 samples\n",
      "Epoch 11/15\n",
      "6400/6400 [==============================] - 2s 283us/sample - loss: -112524.0423\n",
      "Epoch 12/15\n",
      "6400/6400 [==============================] - 2s 282us/sample - loss: -112742.4565\n",
      "Epoch 13/15\n",
      "6400/6400 [==============================] - 2s 282us/sample - loss: -112832.0405\n",
      "Epoch 14/15\n",
      "6400/6400 [==============================] - 2s 286us/sample - loss: -112859.5449\n",
      "Epoch 15/15\n",
      "6400/6400 [==============================] - 2s 287us/sample - loss: -112866.3328\n",
      "Adjusted element weight down on 1 candidate elements. Mean weight = 9.92e-01\n",
      "Geom Mean Resolution: 0.000450 degrees (   1.6 arc seconds)\n",
      "Mean Hits          :    162.71\n",
      "Mean Log Likelihood:   1763.55\n",
      "\n",
      "Training episode 3: Epoch   15, Batch   1500\n",
      "effective_learning_rate=2.422e-04, training_time 42 sec.\n",
      "Train on 6400 samples\n",
      "Epoch 16/20\n",
      "6400/6400 [==============================] - 2s 285us/sample - loss: -111949.0778\n",
      "Epoch 17/20\n",
      "6400/6400 [==============================] - 2s 284us/sample - loss: -111949.3373\n",
      "Epoch 18/20\n",
      "6400/6400 [==============================] - 2s 288us/sample - loss: -111949.3761\n",
      "Epoch 19/20\n",
      "6400/6400 [==============================] - 2s 283us/sample - loss: -111949.3395\n",
      "Adjusted element weight down on 24 candidate elements. Mean weight = 8.09e-01\n",
      "Geom Mean Resolution: 0.000449 degrees (   1.6 arc seconds)\n",
      "Mean Hits          :    162.71\n",
      "Mean Log Likelihood:   1763.56\n",
      "\n",
      "Training episode 4: Epoch   19, Batch   1900\n",
      "effective_learning_rate=1.974e-04, training_time 50 sec.\n",
      "Train on 6400 samples\n",
      "Epoch 20/24\n",
      "6400/6400 [==============================] - 2s 293us/sample - loss: -91076.9425\n",
      "Epoch 21/24\n",
      "6400/6400 [==============================] - 2s 289us/sample - loss: -91076.7965\n",
      "Adjusted element weight down on 28 candidate elements. Mean weight = 6.33e-01\n",
      "Geom Mean Resolution: 0.000449 degrees (   1.6 arc seconds)\n",
      "Mean Hits          :    162.71\n",
      "Mean Log Likelihood:   1763.56\n",
      "\n",
      "********************************************************************************\n",
      "Terminating: Completed 2100 batches.\n",
      "********************************************************************************\n",
      "Saving candidate elements DataFrame in ../data/candidate_elt/candidate_elt_5786683956193708071.h5.\n"
     ]
    }
   ],
   "source": [
    "# Adaptive search on gold model; should converge fast\n",
    "model_gold.search_adaptive(\n",
    "    max_batches=max_batches, \n",
    "    batches_per_epoch=batches_per_epoch,\n",
    "    epochs_per_episode=epochs_per_episode,\n",
    "    min_learning_rate=min_learning_rate,\n",
    "    save_at_end=save_at_end,\n",
    "    verbose=verbose)"
   ]
  },
  {
   "cell_type": "code",
   "execution_count": 43,
   "metadata": {},
   "outputs": [
    {
     "name": "stdout",
     "output_type": "stream",
     "text": [
      "     \\  log_like :  hits  :  R_deg    :    R_sec\n",
      "Mean :  1763.56  : 162.71 :  0.000470 :     1.69\n",
      "Std  :   173.33  :  13.40 :  0.000148 :     0.53\n",
      "Min  :  1435.95  : 147.95 :  0.000278 :     1.00\n",
      "Max  :  2193.68  : 200.99 :  0.000948 :     3.41\n"
     ]
    }
   ],
   "source": [
    "model_gold.report()"
   ]
  },
  {
   "cell_type": "code",
   "execution_count": 44,
   "metadata": {},
   "outputs": [
    {
     "data": {
      "image/png": "[encoded data removed]",
      "text/plain": [
       "<Figure size 1152x720 with 1 Axes>"
      ]
     },
     "metadata": {
      "needs_background": "light"
     },
     "output_type": "display_data"
    }
   ],
   "source": [
    "# Visualize log likelihood of gold model\n",
    "fig, ax = model_gold.plot_bar('log_like')"
   ]
  },
  {
   "cell_type": "code",
   "execution_count": 45,
   "metadata": {},
   "outputs": [],
   "source": [
    "# fig, ax = model_gold.plot_bar('hits', sorted=False)"
   ]
  },
  {
   "cell_type": "markdown",
   "metadata": {},
   "source": [
    "## Check that Predicted Direction Matches Expected Direction"
   ]
  },
  {
   "cell_type": "code",
   "execution_count": 46,
   "metadata": {},
   "outputs": [],
   "source": [
    "# Predicted direction\n",
    "u_pred, r_pred = model_gold.predict_direction()"
   ]
  },
  {
   "cell_type": "code",
   "execution_count": 47,
   "metadata": {},
   "outputs": [],
   "source": [
    "# Expected direction\n",
    "cols_u = ['elt_ux', 'elt_uy', 'elt_uz']\n",
    "u_true = ztf_elt_gold[cols_u].values"
   ]
  },
  {
   "cell_type": "code",
   "execution_count": 48,
   "metadata": {},
   "outputs": [
    {
     "name": "stdout",
     "output_type": "stream",
     "text": [
      "Mean direction error: 7.78e-06 Cartesian /   1.60 arc seconds\n"
     ]
    }
   ],
   "source": [
    "# Difference between actual and predicted\n",
    "du = u_pred - u_true\n",
    "u_err = np.linalg.norm(du, axis=-1)\n",
    "u_err_mean = np.mean(u_err)\n",
    "u_err_mean_sec = dist2sec(u_err_mean)\n",
    "print(f'Mean direction error: {u_err_mean:6.2e} Cartesian / {u_err_mean_sec:6.2f} arc seconds')"
   ]
  },
  {
   "cell_type": "markdown",
   "metadata": {},
   "source": [
    "## Train Model on Unperturbed Elements: Learn Mixture Parameters"
   ]
  },
  {
   "cell_type": "code",
   "execution_count": 49,
   "metadata": {},
   "outputs": [],
   "source": [
    "# Training parameters\n",
    "learning_rate = 2.0**-12\n",
    "clipnorm = 1.0"
   ]
  },
  {
   "cell_type": "code",
   "execution_count": 68,
   "metadata": {},
   "outputs": [],
   "source": [
    "# Build asteroid search model\n",
    "model_ast = AsteroidSearchModel(\n",
    "                elts=elts_ast, ztf_elt=ztf_elt, \n",
    "                site_name=site_name, thresh_deg=thresh_deg, \n",
    "                learning_rate=learning_rate, clipnorm=clipnorm,\n",
    "                name='model_ast')"
   ]
  },
  {
   "cell_type": "code",
   "execution_count": 69,
   "metadata": {},
   "outputs": [],
   "source": [
    "# Visualize model summary - layers and parameters\n",
    "# model_ast.summary()"
   ]
  },
  {
   "cell_type": "code",
   "execution_count": 70,
   "metadata": {},
   "outputs": [
    {
     "name": "stdout",
     "output_type": "stream",
     "text": [
      "     \\  log_like :  hits  :  R_deg    :    R_sec\n",
      "Mean :     1.29  :   0.00 :  1.000000 :  3600.00\n",
      "Std  :     0.68  :   0.00 :  0.000000 :     0.00\n",
      "Min  :    -0.28  :   0.00 :  1.000000 :  3600.00\n",
      "Max  :     2.56  :   0.00 :  1.000000 :  3600.00\n"
     ]
    }
   ],
   "source": [
    "# Report before training starts\n",
    "model_ast.report()"
   ]
  },
  {
   "cell_type": "code",
   "execution_count": 71,
   "metadata": {},
   "outputs": [
    {
     "data": {
      "image/png": "[encoded data removed]",
      "text/plain": [
       "<Figure size 1152x720 with 1 Axes>"
      ]
     },
     "metadata": {
      "needs_background": "light"
     },
     "output_type": "display_data"
    }
   ],
   "source": [
    "# Visualize log likelihood before traning\n",
    "fig, ax = model_ast.plot_bar('log_like', sorted=False)"
   ]
  },
  {
   "cell_type": "code",
   "execution_count": 72,
   "metadata": {},
   "outputs": [],
   "source": [
    "# Adaptive search parameters\n",
    "max_batches_mixture = 10000\n",
    "max_batches_element = 20000\n",
    "batches_per_epoch = 100\n",
    "epochs_per_episode = 5\n",
    "max_bad_episodes = 3\n",
    "learning_rate = 2.0**-12\n",
    "min_learning_rate = None\n",
    "save_at_end = True\n",
    "verbose = 1"
   ]
  },
  {
   "cell_type": "code",
   "execution_count": 73,
   "metadata": {},
   "outputs": [],
   "source": [
    "# # Tiny size for fast testing\n",
    "# max_batches_mixture = 1000\n",
    "# verbose = 0"
   ]
  },
  {
   "cell_type": "code",
   "execution_count": 74,
   "metadata": {},
   "outputs": [],
   "source": [
    "# Load model\n",
    "model_ast.load()"
   ]
  },
  {
   "cell_type": "code",
   "execution_count": 75,
   "metadata": {},
   "outputs": [
    {
     "name": "stdout",
     "output_type": "stream",
     "text": [
      "     \\  log_like :  hits  :  R_deg    :    R_sec\n",
      "Mean :     1.29  :   0.00 :  1.000000 :  3600.00\n",
      "Std  :     0.68  :   0.00 :  0.000000 :     0.00\n",
      "Min  :    -0.28  :   0.00 :  1.000000 :  3600.00\n",
      "Max  :     2.56  :   0.00 :  1.000000 :  3600.00\n"
     ]
    }
   ],
   "source": [
    "model_ast.report()"
   ]
  },
  {
   "cell_type": "code",
   "execution_count": 76,
   "metadata": {},
   "outputs": [],
   "source": [
    "# Preliminary round of training with frozen elements\n",
    "model_ast.freeze_candidate_elements()"
   ]
  },
  {
   "cell_type": "code",
   "execution_count": 77,
   "metadata": {},
   "outputs": [
    {
     "name": "stdout",
     "output_type": "stream",
     "text": [
      "\n",
      "Training episode 0: Epoch    0, Batch      0\n",
      "effective_learning_rate=2.441e-04, training_time 0 sec.\n",
      "Train on 6400 samples\n",
      "Epoch 1/5\n",
      "6400/6400 [==============================] - 4s 633us/sample - loss: -402.3521\n",
      "Epoch 2/5\n",
      "6400/6400 [==============================] - 2s 287us/sample - loss: -1670.9759\n",
      "Epoch 3/5\n",
      "6400/6400 [==============================] - 2s 291us/sample - loss: -3676.7060\n",
      "Epoch 4/5\n",
      "6400/6400 [==============================] - 2s 286us/sample - loss: -5850.9718\n",
      "Epoch 5/5\n",
      "6400/6400 [==============================] - 2s 286us/sample - loss: -8409.9047\n",
      "Geom Mean Resolution: 0.205501 degrees ( 739.8 arc seconds)\n",
      "Mean Hits          :      0.00\n",
      "Mean Log Likelihood:    155.12\n",
      "\n",
      "Training episode 1: Epoch    5, Batch    500\n",
      "effective_learning_rate=2.441e-04, training_time 21 sec.\n",
      "Train on 6400 samples\n",
      "Epoch 6/10\n",
      "6400/6400 [==============================] - 2s 287us/sample - loss: -11692.1227\n",
      "Epoch 7/10\n",
      "6400/6400 [==============================] - 2s 298us/sample - loss: -15725.7582\n",
      "Epoch 8/10\n",
      "6400/6400 [==============================] - 2s 292us/sample - loss: -20304.6146\n",
      "Epoch 9/10\n",
      "6400/6400 [==============================] - 2s 288us/sample - loss: -25360.3303\n",
      "Epoch 10/10\n",
      "6400/6400 [==============================] - 2s 293us/sample - loss: -30767.7006\n",
      "Geom Mean Resolution: 0.040056 degrees ( 144.2 arc seconds)\n",
      "Mean Hits          :    150.64\n",
      "Mean Log Likelihood:    524.68\n",
      "\n",
      "Training episode 2: Epoch   10, Batch   1000\n",
      "effective_learning_rate=2.441e-04, training_time 31 sec.\n",
      "Train on 6400 samples\n",
      "Epoch 11/15\n",
      "6400/6400 [==============================] - 2s 292us/sample - loss: -36376.9887\n",
      "Epoch 12/15\n",
      "6400/6400 [==============================] - 2s 295us/sample - loss: -42055.6665\n",
      "Epoch 13/15\n",
      "6400/6400 [==============================] - 2s 292us/sample - loss: -47699.1376\n",
      "Epoch 14/15\n",
      "6400/6400 [==============================] - 2s 290us/sample - loss: -53218.2818\n",
      "Epoch 15/15\n",
      "6400/6400 [==============================] - 2s 291us/sample - loss: -58597.1413\n",
      "Geom Mean Resolution: 0.009797 degrees (  35.3 arc seconds)\n",
      "Mean Hits          :    158.48\n",
      "Mean Log Likelihood:    957.43\n",
      "\n",
      "Training episode 3: Epoch   15, Batch   1500\n",
      "effective_learning_rate=2.441e-04, training_time 40 sec.\n",
      "Train on 6400 samples\n",
      "Epoch 16/20\n",
      "6400/6400 [==============================] - 2s 293us/sample - loss: -63868.0855\n",
      "Epoch 17/20\n",
      "6400/6400 [==============================] - 2s 292us/sample - loss: -69023.5839\n",
      "Epoch 18/20\n",
      "6400/6400 [==============================] - 2s 291us/sample - loss: -74041.6745\n",
      "Epoch 19/20\n",
      "6400/6400 [==============================] - 2s 292us/sample - loss: -78927.7820\n",
      "Epoch 20/20\n",
      "6400/6400 [==============================] - 2s 293us/sample - loss: -83651.8028\n",
      "Adjusted element weight down on 2 candidate elements. Mean weight = 9.84e-01\n",
      "Geom Mean Resolution: 0.002906 degrees (  10.5 arc seconds)\n",
      "Mean Hits          :    158.07\n",
      "Mean Log Likelihood:   1343.34\n",
      "\n",
      "Training episode 4: Epoch   20, Batch   2000\n",
      "effective_learning_rate=2.403e-04, training_time 50 sec.\n",
      "Train on 6400 samples\n",
      "Epoch 21/25\n",
      "6400/6400 [==============================] - 2s 294us/sample - loss: -88178.1536\n",
      "Epoch 22/25\n",
      "6400/6400 [==============================] - 2s 294us/sample - loss: -92443.4557\n",
      "Epoch 23/25\n",
      "6400/6400 [==============================] - 2s 289us/sample - loss: -96360.0677\n",
      "Epoch 24/25\n",
      "6400/6400 [==============================] - 2s 294us/sample - loss: -99842.1712\n",
      "Epoch 25/25\n",
      "6400/6400 [==============================] - 2s 295us/sample - loss: -102809.9742\n",
      "Adjusted element weight down on 1 candidate elements. Mean weight = 9.80e-01\n",
      "Geom Mean Resolution: 0.001056 degrees (   3.8 arc seconds)\n",
      "Mean Hits          :    157.95\n",
      "Mean Log Likelihood:   1626.78\n",
      "\n",
      "Training episode 5: Epoch   25, Batch   2500\n",
      "effective_learning_rate=2.394e-04, training_time 60 sec.\n",
      "Train on 6400 samples\n",
      "Epoch 26/30\n",
      "6400/6400 [==============================] - 2s 296us/sample - loss: -105189.7094\n",
      "Epoch 27/30\n",
      "6400/6400 [==============================] - 2s 293us/sample - loss: -106960.8421\n",
      "Epoch 28/30\n",
      "6400/6400 [==============================] - 2s 296us/sample - loss: -108171.1915\n",
      "Epoch 29/30\n",
      "6400/6400 [==============================] - 2s 297us/sample - loss: -108925.9695\n",
      "Epoch 30/30\n",
      "6400/6400 [==============================] - 2s 295us/sample - loss: -109354.3940\n",
      "Adjusted element weight down on 1 candidate elements. Mean weight = 9.77e-01\n",
      "Geom Mean Resolution: 0.000631 degrees (   2.3 arc seconds)\n",
      "Mean Hits          :    157.95\n",
      "Mean Log Likelihood:   1710.81\n",
      "\n",
      "Training episode 6: Epoch   30, Batch   3000\n",
      "effective_learning_rate=2.384e-04, training_time 69 sec.\n",
      "Train on 6400 samples\n",
      "Epoch 31/35\n",
      "6400/6400 [==============================] - 2s 301us/sample - loss: -109575.1002\n",
      "Epoch 32/35\n",
      "6400/6400 [==============================] - 2s 296us/sample - loss: -109676.3843\n",
      "Epoch 33/35\n",
      "6400/6400 [==============================] - 2s 298us/sample - loss: -109709.6973\n",
      "Epoch 34/35\n",
      "6400/6400 [==============================] - 2s 300us/sample - loss: -109719.3863\n",
      "Epoch 35/35\n",
      "6400/6400 [==============================] - 2s 296us/sample - loss: -109721.9848\n",
      "Adjusted element weight down on 1 candidate elements. Mean weight = 9.75e-01\n",
      "Geom Mean Resolution: 0.000585 degrees (   2.1 arc seconds)\n",
      "Mean Hits          :    157.95\n",
      "Mean Log Likelihood:   1714.41\n",
      "\n",
      "Training episode 7: Epoch   35, Batch   3500\n",
      "effective_learning_rate=2.379e-04, training_time 79 sec.\n",
      "Train on 6400 samples\n",
      "Epoch 36/40\n",
      "6400/6400 [==============================] - 2s 309us/sample - loss: -109722.6659\n",
      "Epoch 37/40\n",
      "6400/6400 [==============================] - 2s 300us/sample - loss: -109722.8215\n",
      "Epoch 38/40\n",
      "6400/6400 [==============================] - 2s 303us/sample - loss: -109722.8544\n",
      "Epoch 39/40\n",
      "6400/6400 [==============================] - 2s 303us/sample - loss: -109722.8602\n",
      "Epoch 40/40\n",
      "6400/6400 [==============================] - 2s 302us/sample - loss: -109722.8641\n",
      "Adjusted element weight down on 23 candidate elements. Mean weight = 8.08e-01\n",
      "Geom Mean Resolution: 0.000584 degrees (   2.1 arc seconds)\n",
      "Mean Hits          :    157.95\n",
      "Mean Log Likelihood:   1714.42\n",
      "\n",
      "Training episode 8: Epoch   40, Batch   4000\n",
      "effective_learning_rate=1.972e-04, training_time 89 sec.\n",
      "Train on 6400 samples\n",
      "Epoch 41/45\n",
      "6400/6400 [==============================] - 2s 304us/sample - loss: -91859.3539\n",
      "Epoch 42/45\n",
      "6400/6400 [==============================] - 2s 308us/sample - loss: -91859.3502\n",
      "Adjusted element weight down on 26 candidate elements. Mean weight = 6.43e-01\n",
      "Geom Mean Resolution: 0.000584 degrees (   2.1 arc seconds)\n",
      "Mean Hits          :    157.95\n",
      "Mean Log Likelihood:   1714.42\n",
      "\n",
      "Training episode 9: Epoch   42, Batch   4200\n",
      "effective_learning_rate=1.569e-04, training_time 94 sec.\n",
      "Train on 6400 samples\n",
      "Epoch 43/47\n",
      "6400/6400 [==============================] - 2s 302us/sample - loss: -73043.3230\n",
      "Epoch 44/47\n",
      "6400/6400 [==============================] - 2s 310us/sample - loss: -73043.3272\n",
      "Epoch 45/47\n",
      "6400/6400 [==============================] - 2s 309us/sample - loss: -73043.4111\n",
      "Epoch 46/47\n",
      "6400/6400 [==============================] - 2s 311us/sample - loss: -73043.3238\n",
      "Adjusted element weight down on 35 candidate elements. Mean weight = 4.74e-01\n",
      "Geom Mean Resolution: 0.000584 degrees (   2.1 arc seconds)\n",
      "Mean Hits          :    157.95\n",
      "Mean Log Likelihood:   1714.42\n",
      "\n",
      "********************************************************************************\n",
      "Terminating: Had 3 bad episodes.\n",
      "********************************************************************************\n",
      "Saving candidate elements DataFrame in ../data/candidate_elt/candidate_elt_7106012542350286640.h5.\n"
     ]
    }
   ],
   "source": [
    "# Train unperturbed model with frozen orbital elements\n",
    "model_ast.search_adaptive(\n",
    "    max_batches=max_batches_mixture, \n",
    "    batches_per_epoch=batches_per_epoch,\n",
    "    epochs_per_episode=epochs_per_episode,\n",
    "    min_learning_rate=min_learning_rate,\n",
    "    save_at_end=True,\n",
    "    verbose=verbose)"
   ]
  },
  {
   "cell_type": "code",
   "execution_count": 78,
   "metadata": {},
   "outputs": [
    {
     "name": "stdout",
     "output_type": "stream",
     "text": [
      "     \\  log_like :  hits  :  R_deg    :    R_sec\n",
      "Mean :  1714.42  : 157.95 :  0.062956 :   226.64\n",
      "Std  :   351.32  :  31.31 :  0.347903 :  1252.45\n",
      "Min  :    -0.00  :   0.00 :  0.000278 :     1.00\n",
      "Max  :  2193.68  : 200.99 :  2.000000 :  7200.00\n"
     ]
    }
   ],
   "source": [
    "# Report after initial training on mixture parameters\n",
    "model_ast.report()"
   ]
  },
  {
   "cell_type": "code",
   "execution_count": 79,
   "metadata": {},
   "outputs": [
    {
     "data": {
      "image/png": "[encoded data removed]",
      "text/plain": [
       "<Figure size 1152x720 with 1 Axes>"
      ]
     },
     "metadata": {
      "needs_background": "light"
     },
     "output_type": "display_data"
    }
   ],
   "source": [
    "# Bar chart - log likelihood by element\n",
    "fig, ax = model_ast.plot_bar('log_like', sorted=False)"
   ]
  },
  {
   "cell_type": "markdown",
   "metadata": {},
   "source": [
    "## Train Unperturbed Model Second Time on Orbital Elements"
   ]
  },
  {
   "cell_type": "code",
   "execution_count": 80,
   "metadata": {},
   "outputs": [],
   "source": [
    "# Unfreeze the elements, freeze the mixture model parameters\n",
    "model_ast.thaw_candidate_elements()\n",
    "model_ast.freeze_mixture_parameters()"
   ]
  },
  {
   "cell_type": "code",
   "execution_count": 81,
   "metadata": {},
   "outputs": [
    {
     "name": "stdout",
     "output_type": "stream",
     "text": [
      "     \\  log_like :  hits  :  R_deg    :    R_sec\n",
      "Mean :  1714.42  : 157.95 :  0.062956 :   226.64\n",
      "Std  :   351.32  :  31.31 :  0.347903 :  1252.45\n",
      "Min  :    -0.00  :   0.00 :  0.000278 :     1.00\n",
      "Max  :  2193.68  : 200.99 :  2.000000 :  7200.00\n"
     ]
    }
   ],
   "source": [
    "model_ast.report()"
   ]
  },
  {
   "cell_type": "code",
   "execution_count": 82,
   "metadata": {},
   "outputs": [
    {
     "name": "stdout",
     "output_type": "stream",
     "text": [
      "\n",
      "Training episode 10: Epoch   46, Batch   4600\n",
      "effective_learning_rate=1.156e-04, training_time 102 sec.\n",
      "Train on 6400 samples\n",
      "Epoch 47/51\n",
      "6400/6400 [==============================] - 4s 547us/sample - loss: -908.8373\n",
      "Epoch 48/51\n",
      "6400/6400 [==============================] - 2s 351us/sample - loss: 92.6264\n",
      "Adjusted element weight down on 62 candidate elements. Mean weight = 5.16e-01\n",
      "Geom Mean Resolution: 0.000584 degrees (   2.1 arc seconds)\n",
      "Mean Hits          :    157.95\n",
      "Mean Log Likelihood:   1714.42\n",
      "\n",
      "Training episode 11: Epoch   48, Batch   4800\n",
      "effective_learning_rate=1.259e-04, training_time 172 sec.\n",
      "Train on 6400 samples\n",
      "Epoch 49/53\n",
      "6400/6400 [==============================] - 2s 358us/sample - loss: -311.4763\n",
      "Epoch 50/53\n",
      "6400/6400 [==============================] - 2s 350us/sample - loss: 106.4086\n",
      "Adjusted element weight down on 63 candidate elements. Mean weight = 2.66e-01\n",
      "Geom Mean Resolution: 0.000584 degrees (   2.1 arc seconds)\n",
      "Mean Hits          :    157.95\n",
      "Mean Log Likelihood:   1714.42\n",
      "\n",
      "Training episode 12: Epoch   50, Batch   5000\n",
      "effective_learning_rate=6.485e-05, training_time 177 sec.\n",
      "Train on 6400 samples\n",
      "Epoch 51/55\n",
      "6400/6400 [==============================] - 2s 356us/sample - loss: 84.3487\n",
      "Adjusted element weight down on 62 candidate elements. Mean weight = 1.45e-01\n",
      "Geom Mean Resolution: 0.000584 degrees (   2.1 arc seconds)\n",
      "Mean Hits          :    157.95\n",
      "Mean Log Likelihood:   1714.42\n",
      "\n",
      "********************************************************************************\n",
      "Terminating: Had 3 bad episodes.\n",
      "********************************************************************************\n"
     ]
    }
   ],
   "source": [
    "# Train unperturbed model with frozen orbital elements\n",
    "model_ast.search_adaptive(\n",
    "    max_batches=max_batches_element, \n",
    "    batches_per_epoch=batches_per_epoch,\n",
    "    epochs_per_episode=epochs_per_episode,\n",
    "    min_learning_rate=min_learning_rate,\n",
    "    save_at_end=False,\n",
    "    verbose=verbose)"
   ]
  },
  {
   "cell_type": "code",
   "execution_count": 83,
   "metadata": {},
   "outputs": [
    {
     "name": "stdout",
     "output_type": "stream",
     "text": [
      "     \\  log_like :  hits  :  R_deg    :    R_sec\n",
      "Mean :  1714.42  : 157.95 :  0.062956 :   226.64\n",
      "Std  :   351.32  :  31.31 :  0.347903 :  1252.45\n",
      "Min  :     0.00  :   0.00 :  0.000278 :     1.00\n",
      "Max  :  2193.68  : 200.99 :  2.000000 :  7200.00\n"
     ]
    }
   ],
   "source": [
    "# Report after training\n",
    "model_ast.report()"
   ]
  },
  {
   "cell_type": "code",
   "execution_count": 84,
   "metadata": {},
   "outputs": [
    {
     "data": {
      "image/png": "[encoded data removed]",
      "text/plain": [
       "<Figure size 1152x720 with 1 Axes>"
      ]
     },
     "metadata": {
      "needs_background": "light"
     },
     "output_type": "display_data"
    }
   ],
   "source": [
    "# Bar chart - log likelihood by element\n",
    "fig, ax = model_ast.plot_bar('log_like', sorted=False)"
   ]
  },
  {
   "cell_type": "code",
   "execution_count": 85,
   "metadata": {},
   "outputs": [],
   "source": [
    "# model_ast.plot_score_bar('log_like', sorted=False, episode=0)"
   ]
  },
  {
   "cell_type": "code",
   "execution_count": 88,
   "metadata": {},
   "outputs": [
    {
     "data": {
      "image/png": "[encoded data removed]",
      "text/plain": [
       "<Figure size 1152x720 with 1 Axes>"
      ]
     },
     "metadata": {
      "needs_background": "light"
     },
     "output_type": "display_data"
    }
   ],
   "source": [
    "# Bar chart: log likelihood\n",
    "fig, ax = model_ast.plot_bar('log_like')"
   ]
  },
  {
   "cell_type": "code",
   "execution_count": 89,
   "metadata": {},
   "outputs": [
    {
     "data": {
      "image/png": "[encoded data removed]",
      "text/plain": [
       "<Figure size 1152x720 with 1 Axes>"
      ]
     },
     "metadata": {
      "needs_background": "light"
     },
     "output_type": "display_data"
    }
   ],
   "source": [
    "# Bar chart: hits\n",
    "fig, ax = model_ast.plot_bar('hits')"
   ]
  },
  {
   "cell_type": "code",
   "execution_count": 92,
   "metadata": {},
   "outputs": [
    {
     "data": {
      "image/png": "[encoded data removed]",
      "text/plain": [
       "<Figure size 1152x720 with 1 Axes>"
      ]
     },
     "metadata": {
      "needs_background": "light"
     },
     "output_type": "display_data"
    }
   ],
   "source": [
    "# Bar chart: log likelihood\n",
    "fig, ax = model_ast.plot_bar('R_deg', sorted=False)"
   ]
  },
  {
   "cell_type": "code",
   "execution_count": 94,
   "metadata": {},
   "outputs": [
    {
     "ename": "NameError",
     "evalue": "name 'score_att' is not defined",
     "output_type": "error",
     "traceback": [
      "\u001b[0;31m---------------------------------------------------------------------------\u001b[0m",
      "\u001b[0;31mNameError\u001b[0m                                 Traceback (most recent call last)",
      "\u001b[0;32m<ipython-input-94-8f3036eff564>\u001b[0m in \u001b[0;36m<module>\u001b[0;34m\u001b[0m\n\u001b[1;32m      1\u001b[0m \u001b[0;31m# Learning curve: log likelihood\u001b[0m\u001b[0;34m\u001b[0m\u001b[0;34m\u001b[0m\u001b[0;34m\u001b[0m\u001b[0m\n\u001b[0;32m----> 2\u001b[0;31m \u001b[0mmodel_ast\u001b[0m\u001b[0;34m.\u001b[0m\u001b[0mplot_hist\u001b[0m\u001b[0;34m(\u001b[0m\u001b[0;34m'log_like'\u001b[0m\u001b[0;34m)\u001b[0m\u001b[0;34m\u001b[0m\u001b[0;34m\u001b[0m\u001b[0m\n\u001b[0m",
      "\u001b[0;32m~/IACS/kepler-sieve/src/asteroid_search_model.py\u001b[0m in \u001b[0;36mplot_hist\u001b[0;34m(self, att_name)\u001b[0m\n\u001b[1;32m   1145\u001b[0m         \u001b[0mmin_elt\u001b[0m \u001b[0;34m=\u001b[0m \u001b[0mhist\u001b[0m\u001b[0;34m.\u001b[0m\u001b[0mlog_like_argmin\u001b[0m\u001b[0;34m.\u001b[0m\u001b[0mvalues\u001b[0m\u001b[0;34m[\u001b[0m\u001b[0;34m-\u001b[0m\u001b[0;36m1\u001b[0m\u001b[0;34m]\u001b[0m\u001b[0;34m\u001b[0m\u001b[0;34m\u001b[0m\u001b[0m\n\u001b[1;32m   1146\u001b[0m         \u001b[0mmax_elt\u001b[0m \u001b[0;34m=\u001b[0m \u001b[0mhist\u001b[0m\u001b[0;34m.\u001b[0m\u001b[0mlog_like_argmax\u001b[0m\u001b[0;34m.\u001b[0m\u001b[0mvalues\u001b[0m\u001b[0;34m[\u001b[0m\u001b[0;34m-\u001b[0m\u001b[0;36m1\u001b[0m\u001b[0;34m]\u001b[0m\u001b[0;34m\u001b[0m\u001b[0;34m\u001b[0m\u001b[0m\n\u001b[0;32m-> 1147\u001b[0;31m         \u001b[0mmin_label\u001b[0m \u001b[0;34m=\u001b[0m \u001b[0;34mf'min ({min_elt})'\u001b[0m \u001b[0;32mif\u001b[0m \u001b[0mscore_att\u001b[0m\u001b[0;34m==\u001b[0m\u001b[0;34m'log_like'\u001b[0m \u001b[0;32melse\u001b[0m \u001b[0;34m'min'\u001b[0m\u001b[0;34m\u001b[0m\u001b[0;34m\u001b[0m\u001b[0m\n\u001b[0m\u001b[1;32m   1148\u001b[0m         \u001b[0mmax_label\u001b[0m \u001b[0;34m=\u001b[0m \u001b[0;34mf'max ({max_elt})'\u001b[0m \u001b[0;32mif\u001b[0m \u001b[0mscore_att\u001b[0m\u001b[0;34m==\u001b[0m\u001b[0;34m'log_like'\u001b[0m \u001b[0;32melse\u001b[0m \u001b[0;34m'max'\u001b[0m\u001b[0;34m\u001b[0m\u001b[0;34m\u001b[0m\u001b[0m\n\u001b[1;32m   1149\u001b[0m \u001b[0;34m\u001b[0m\u001b[0m\n",
      "\u001b[0;31mNameError\u001b[0m: name 'score_att' is not defined"
     ]
    }
   ],
   "source": [
    "# Learning curve: log likelihood\n",
    "model_ast.plot_hist('log_like')"
   ]
  },
  {
   "cell_type": "code",
   "execution_count": 95,
   "metadata": {},
   "outputs": [
    {
     "ename": "NameError",
     "evalue": "name 'score_att' is not defined",
     "output_type": "error",
     "traceback": [
      "\u001b[0;31m---------------------------------------------------------------------------\u001b[0m",
      "\u001b[0;31mNameError\u001b[0m                                 Traceback (most recent call last)",
      "\u001b[0;32m<ipython-input-95-789ac949745c>\u001b[0m in \u001b[0;36m<module>\u001b[0;34m\u001b[0m\n\u001b[1;32m      1\u001b[0m \u001b[0;31m# Learning curve: hits\u001b[0m\u001b[0;34m\u001b[0m\u001b[0;34m\u001b[0m\u001b[0;34m\u001b[0m\u001b[0m\n\u001b[0;32m----> 2\u001b[0;31m \u001b[0mmodel_ast\u001b[0m\u001b[0;34m.\u001b[0m\u001b[0mplot_hist\u001b[0m\u001b[0;34m(\u001b[0m\u001b[0;34m'hits'\u001b[0m\u001b[0;34m)\u001b[0m\u001b[0;34m\u001b[0m\u001b[0;34m\u001b[0m\u001b[0m\n\u001b[0m",
      "\u001b[0;32m~/IACS/kepler-sieve/src/asteroid_search_model.py\u001b[0m in \u001b[0;36mplot_hist\u001b[0;34m(self, att_name)\u001b[0m\n\u001b[1;32m   1145\u001b[0m         }\n\u001b[1;32m   1146\u001b[0m         \u001b[0matt_title\u001b[0m \u001b[0;34m=\u001b[0m \u001b[0matt_title_tbl\u001b[0m\u001b[0;34m.\u001b[0m\u001b[0mget\u001b[0m\u001b[0;34m(\u001b[0m\u001b[0matt_name\u001b[0m\u001b[0;34m,\u001b[0m \u001b[0matt_name\u001b[0m\u001b[0;34m)\u001b[0m\u001b[0;34m\u001b[0m\u001b[0;34m\u001b[0m\u001b[0m\n\u001b[0;32m-> 1147\u001b[0;31m \u001b[0;34m\u001b[0m\u001b[0m\n\u001b[0m\u001b[1;32m   1148\u001b[0m         \u001b[0;31m# Plot total log likelihood over training\u001b[0m\u001b[0;34m\u001b[0m\u001b[0;34m\u001b[0m\u001b[0;34m\u001b[0m\u001b[0m\n\u001b[1;32m   1149\u001b[0m         \u001b[0mfig\u001b[0m\u001b[0;34m,\u001b[0m \u001b[0max\u001b[0m \u001b[0;34m=\u001b[0m \u001b[0mplt\u001b[0m\u001b[0;34m.\u001b[0m\u001b[0msubplots\u001b[0m\u001b[0;34m(\u001b[0m\u001b[0;34m)\u001b[0m\u001b[0;34m\u001b[0m\u001b[0;34m\u001b[0m\u001b[0m\n",
      "\u001b[0;31mNameError\u001b[0m: name 'score_att' is not defined"
     ]
    }
   ],
   "source": [
    "# Learning curve: hits\n",
    "model_ast.plot_hist('hits')"
   ]
  },
  {
   "cell_type": "code",
   "execution_count": 97,
   "metadata": {},
   "outputs": [
    {
     "data": {
      "image/png": "[encoded data removed]",
      "text/plain": [
       "<Figure size 1152x720 with 1 Axes>"
      ]
     },
     "metadata": {
      "needs_background": "light"
     },
     "output_type": "display_data"
    }
   ],
   "source": [
    "# Plot error in orbital elements\n",
    "fig, ax = model_ast.plot_elt_error(elts_true=elts_ast, elt_name='a', is_log=True, elt_num=None)"
   ]
  },
  {
   "cell_type": "code",
   "execution_count": 98,
   "metadata": {},
   "outputs": [
    {
     "data": {
      "image/png": "[encoded data removed]",
      "text/plain": [
       "<Figure size 1152x720 with 1 Axes>"
      ]
     },
     "metadata": {
      "needs_background": "light"
     },
     "output_type": "display_data"
    }
   ],
   "source": [
    "# Plot error in orbital elements\n",
    "fig, ax = model_ast.plot_elt_error(elts_true=elts_ast, elt_name='e', is_log=True, elt_num=None)"
   ]
  },
  {
   "cell_type": "code",
   "execution_count": 99,
   "metadata": {},
   "outputs": [
    {
     "data": {
      "image/png": "[encoded data removed]",
      "text/plain": [
       "<Figure size 1152x720 with 1 Axes>"
      ]
     },
     "metadata": {
      "needs_background": "light"
     },
     "output_type": "display_data"
    }
   ],
   "source": [
    "# Plot control variables for worst element\n",
    "fig, ax = model_ast.plot_control(element_num=54)"
   ]
  },
  {
   "cell_type": "code",
   "execution_count": 101,
   "metadata": {},
   "outputs": [
    {
     "data": {
      "image/png": "[encoded data removed]",
      "text/plain": [
       "<Figure size 1152x720 with 1 Axes>"
      ]
     },
     "metadata": {
      "needs_background": "light"
     },
     "output_type": "display_data"
    }
   ],
   "source": [
    "# Plot control variables for best element\n",
    "fig, ax = model_ast.plot_control(element_num=0)"
   ]
  },
  {
   "cell_type": "markdown",
   "metadata": {},
   "source": [
    "## Train on Perturbed Elements"
   ]
  },
  {
   "cell_type": "code",
   "execution_count": null,
   "metadata": {},
   "outputs": [],
   "source": [
    "# Build asteroid search model\n",
    "model_pert = AsteroidSearchModel(\n",
    "                 elts=elts_pert, ztf_elt=ztf_elt_pert, site_name=site_name,\n",
    "                 thresh_deg=thresh_deg, h=h, R_deg=R_deg,\n",
    "                 learning_rate=learning_rate, clipnorm=clipnorm)"
   ]
  },
  {
   "cell_type": "code",
   "execution_count": null,
   "metadata": {},
   "outputs": [],
   "source": [
    "# Freeze elements\n",
    "model_pert.freeze_elements()"
   ]
  },
  {
   "cell_type": "code",
   "execution_count": null,
   "metadata": {},
   "outputs": [],
   "source": [
    "# Train model on perturbed elements\n",
    "model_pert.search_adaptive(\n",
    "    max_batches=max_batches_mixture, \n",
    "    batches_per_epoch=batches_per_epoch,\n",
    "    epochs_per_episode=epochs_per_episode,\n",
    "    min_learning_rate=min_learning_rate,\n",
    "    regenerate=True,\n",
    "    verbose=verbose)"
   ]
  },
  {
   "cell_type": "code",
   "execution_count": null,
   "metadata": {},
   "outputs": [],
   "source": [
    "# Unfreeze the elements, freeze the mixture model parameters\n",
    "model_pert.thaw_candidate_elements()\n",
    "model_pert.freeze_mixture_parameters()"
   ]
  },
  {
   "cell_type": "code",
   "execution_count": null,
   "metadata": {},
   "outputs": [],
   "source": [
    "# Train unperturbed model with frozen orbital elements\n",
    "model_pert.search_adaptive(\n",
    "    max_batches=max_batches_element, \n",
    "    batches_per_epoch=batches_per_epoch,\n",
    "    epochs_per_episode=epochs_per_episode,\n",
    "    min_learning_rate=min_learning_rate,\n",
    "    regenerate=True,\n",
    "    verbose=verbose)"
   ]
  },
  {
   "cell_type": "code",
   "execution_count": null,
   "metadata": {},
   "outputs": [],
   "source": [
    "model_pert.report()"
   ]
  },
  {
   "cell_type": "markdown",
   "metadata": {},
   "source": [
    "## Train on Random Elements"
   ]
  },
  {
   "cell_type": "code",
   "execution_count": null,
   "metadata": {},
   "outputs": [],
   "source": [
    "# Filter elts_rand down to only those that had matching ztf observations\n",
    "idx = np.unique(ztf_elt_rand.element_id)\n",
    "elts_rand = elts_rand.loc[idx]"
   ]
  },
  {
   "cell_type": "code",
   "execution_count": null,
   "metadata": {},
   "outputs": [],
   "source": [
    "elts_rand['a'].dtype"
   ]
  },
  {
   "cell_type": "code",
   "execution_count": null,
   "metadata": {},
   "outputs": [],
   "source": [
    "elts_rand['a'].dtype"
   ]
  },
  {
   "cell_type": "code",
   "execution_count": null,
   "metadata": {},
   "outputs": [],
   "source": [
    "for col in ['a', 'e', 'f', 'inc', 'Omega', 'omega', 'epoch']:\n",
    "    elts_rand[col] = elts_rand[col].astype(np.float32)"
   ]
  },
  {
   "cell_type": "code",
   "execution_count": null,
   "metadata": {},
   "outputs": [],
   "source": [
    "# Build asteroid search model\n",
    "model_rand = AsteroidSearchModel(\n",
    "                 elts=elts_rand, ztf_elt=ztf_elt_rand, site_name=site_name,\n",
    "                 thresh_deg=thresh_deg, h=h, R_deg=R_deg,\n",
    "                 learning_rate=learning_rate, clipnorm=clipnorm)"
   ]
  },
  {
   "cell_type": "code",
   "execution_count": null,
   "metadata": {},
   "outputs": [],
   "source": [
    "# Train model on perturbed elements\n",
    "model_rand.search_adaptive(\n",
    "    max_batches=max_batches, \n",
    "    batches_per_epoch=batches_per_epoch,\n",
    "    epochs_per_episode=epochs_per_episode,\n",
    "    min_learning_rate=min_learning_rate,\n",
    "    verbose=verbose)"
   ]
  },
  {
   "cell_type": "code",
   "execution_count": null,
   "metadata": {},
   "outputs": [],
   "source": [
    "# Review likelihoods by element\n",
    "log_like_rand, orbital_elements_rand, mixture_parameters_rand = model_rand.calc_outputs()"
   ]
  },
  {
   "cell_type": "code",
   "execution_count": null,
   "metadata": {},
   "outputs": [],
   "source": [
    "log_like_rand"
   ]
  },
  {
   "cell_type": "code",
   "execution_count": null,
   "metadata": {},
   "outputs": [],
   "source": [
    "# orbital_elements_rand"
   ]
  },
  {
   "cell_type": "code",
   "execution_count": null,
   "metadata": {},
   "outputs": [],
   "source": []
  }
 ],
 "metadata": {
  "kernelspec": {
   "display_name": "Python [conda env:kepler]",
   "language": "python",
   "name": "conda-env-kepler-py"
  },
  "language_info": {
   "codemirror_mode": {
    "name": "ipython",
    "version": 3
   },
   "file_extension": ".py",
   "mimetype": "text/x-python",
   "name": "python",
   "nbconvert_exporter": "python",
   "pygments_lexer": "ipython3",
   "version": "3.7.6"
  }
 },
 "nbformat": 4,
 "nbformat_minor": 4
}
