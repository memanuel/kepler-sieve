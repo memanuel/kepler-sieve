{
 "cells": [
  {
   "cell_type": "code",
   "execution_count": 1,
   "metadata": {},
   "outputs": [
    {
     "name": "stdout",
     "output_type": "stream",
     "text": [
      "Found 4 GPUs.  Setting memory growth = True.\n"
     ]
    }
   ],
   "source": [
    "# Core\n",
    "import numpy as np\n",
    "import pandas as pd\n",
    "\n",
    "# Tensorflow / ML\n",
    "import tensorflow as tf\n",
    "from tensorflow.python.keras import backend as K\n",
    "\n",
    "# Plotting\n",
    "import matplotlib.pyplot as plt\n",
    "import matplotlib as mpl\n",
    "\n",
    "# Utility\n",
    "import time\n",
    "\n",
    "# MSE Imports\n",
    "import kepler_sieve\n",
    "from asteroid_element import load_ast_elt\n",
    "from candidate_element import asteroid_elts, perturb_elts, random_elts, elts_add_mixture_params\n",
    "from ztf_ast import load_ztf_nearest_ast, calc_hit_freq\n",
    "from ztf_element import load_ztf_batch, make_ztf_batch, ztf_score_by_elt, ztf_elt_summary\n",
    "from asteroid_model import AsteroidPosition, AsteroidDirection, make_model_ast_pos\n",
    "from asteroid_search_layers import CandidateElements, TrajectoryScore\n",
    "from asteroid_search_model import AsteroidSearchModel, make_opt_adam\n",
    "from asteroid_search_report import traj_diff\n",
    "from candidate_element import score_by_elt\n",
    "from astro_utils import deg2dist, dist2deg, dist2sec"
   ]
  },
  {
   "cell_type": "code",
   "execution_count": 2,
   "metadata": {},
   "outputs": [],
   "source": [
    "# Aliases\n",
    "keras = tf.keras\n",
    "\n",
    "# Constants\n",
    "dtype = tf.float32\n",
    "dtype_np = np.float32\n",
    "space_dims = 3"
   ]
  },
  {
   "cell_type": "code",
   "execution_count": 3,
   "metadata": {},
   "outputs": [],
   "source": [
    "# Set plot style variables\n",
    "mpl.rcParams['figure.figsize'] = [16.0, 10.0]\n",
    "mpl.rcParams['font.size'] = 16"
   ]
  },
  {
   "cell_type": "code",
   "execution_count": 4,
   "metadata": {},
   "outputs": [],
   "source": [
    "# Color for plots\n",
    "color_mean = 'blue'\n",
    "color_lo = 'orange'\n",
    "color_hi = 'green'\n",
    "color_min = 'red'\n",
    "color_max = 'purple'"
   ]
  },
  {
   "cell_type": "markdown",
   "metadata": {},
   "source": [
    "## Load ZTF Data and Batch of Orbital Elements"
   ]
  },
  {
   "cell_type": "code",
   "execution_count": 5,
   "metadata": {},
   "outputs": [],
   "source": [
    "# Load orbital elements for known asteroids\n",
    "ast_elt = load_ast_elt()\n",
    "\n",
    "# Number of asteroids\n",
    "N_ast = ast_elt.shape[0]"
   ]
  },
  {
   "cell_type": "code",
   "execution_count": 6,
   "metadata": {},
   "outputs": [],
   "source": [
    "# Load ztf nearest asteroid data\n",
    "ztf_ast = load_ztf_nearest_ast()"
   ]
  },
  {
   "cell_type": "code",
   "execution_count": 7,
   "metadata": {},
   "outputs": [],
   "source": [
    "# Asteroid numbers and hit counts\n",
    "ast_num, hit_count = calc_hit_freq(ztf=ztf_ast, thresh_sec=2.0)\n",
    "\n",
    "# Sort the hit counts in descending order and find the top batch_size\n",
    "idx = np.argsort(hit_count)[::-1]\n",
    "\n",
    "# Extract the asteroid number and hit count for this batch\n",
    "ast_num_best = ast_num[idx]\n",
    "hit_count_best = hit_count[idx]"
   ]
  },
  {
   "cell_type": "code",
   "execution_count": 8,
   "metadata": {},
   "outputs": [],
   "source": [
    "# Parameters to build elements batch\n",
    "batch_size = 64\n",
    "\n",
    "# Batch of unperturbed elements\n",
    "elts_ast = asteroid_elts(ast_nums=ast_num_best[0:batch_size])"
   ]
  },
  {
   "cell_type": "code",
   "execution_count": 9,
   "metadata": {},
   "outputs": [],
   "source": [
    "# # Review unperturbed elements\n",
    "# elts_ast"
   ]
  },
  {
   "cell_type": "code",
   "execution_count": 10,
   "metadata": {},
   "outputs": [],
   "source": [
    "# Inputs to perturb elements: large\n",
    "sigma_a = 0.05\n",
    "sigma_e = 0.01\n",
    "sigma_inc_deg = 0.25\n",
    "sigma_f_deg = 1.0\n",
    "sigma_Omega_deg = 1.0\n",
    "sigma_omega_deg = 1.0\n",
    "mask_pert = None\n",
    "random_seed = 42\n",
    "\n",
    "# Perturb orbital elements\n",
    "elts_pert = perturb_elts(elts_ast, sigma_a=sigma_a, sigma_e=sigma_e, \n",
    "                         sigma_inc_deg=sigma_inc_deg, sigma_f_deg=sigma_f_deg, \n",
    "                         sigma_Omega_deg=sigma_Omega_deg, sigma_omega_deg=sigma_omega_deg,\n",
    "                         mask_pert=mask_pert, random_seed=random_seed)"
   ]
  },
  {
   "cell_type": "code",
   "execution_count": 11,
   "metadata": {},
   "outputs": [],
   "source": [
    "# Review perturbed elements\n",
    "# elts_pert"
   ]
  },
  {
   "cell_type": "code",
   "execution_count": 12,
   "metadata": {},
   "outputs": [],
   "source": [
    "# Random elements\n",
    "elts_rand = random_elts(element_id_start=0, size=batch_size,\n",
    "                        random_seed=random_seed, dtype=dtype_np)"
   ]
  },
  {
   "cell_type": "code",
   "execution_count": 13,
   "metadata": {},
   "outputs": [],
   "source": [
    "# Review random elements\n",
    "# elts_rand"
   ]
  },
  {
   "cell_type": "markdown",
   "metadata": {},
   "source": [
    "## Batches of ZTF Data vs. Elements"
   ]
  },
  {
   "cell_type": "code",
   "execution_count": 14,
   "metadata": {},
   "outputs": [],
   "source": [
    "# Arguments to make_ztf_batch\n",
    "# thresh_deg = 1.0\n",
    "# thresh_deg = 2.0\n",
    "thresh_deg = 4.0\n",
    "near_ast = False\n",
    "regenerate = False"
   ]
  },
  {
   "cell_type": "code",
   "execution_count": 15,
   "metadata": {},
   "outputs": [],
   "source": [
    "# Load unperturbed element batch\n",
    "ztf_elt_ast = load_ztf_batch(elts=elts_ast, thresh_deg=thresh_deg, near_ast=near_ast, regenerate=regenerate)"
   ]
  },
  {
   "cell_type": "code",
   "execution_count": 16,
   "metadata": {},
   "outputs": [],
   "source": [
    "# Load perturbed element batch\n",
    "ztf_elt_pert = load_ztf_batch(elts=elts_pert, thresh_deg=thresh_deg, near_ast=near_ast, regenerate=regenerate)"
   ]
  },
  {
   "cell_type": "code",
   "execution_count": 17,
   "metadata": {},
   "outputs": [],
   "source": [
    "# Load random element batch\n",
    "ztf_elt_rand = load_ztf_batch(elts=elts_rand, thresh_deg=thresh_deg, near_ast=near_ast, regenerate=regenerate)"
   ]
  },
  {
   "cell_type": "code",
   "execution_count": 18,
   "metadata": {},
   "outputs": [],
   "source": [
    "# Score by element - unperturbed\n",
    "score_by_elt_ast = ztf_score_by_elt(ztf_elt_ast)"
   ]
  },
  {
   "cell_type": "code",
   "execution_count": 19,
   "metadata": {},
   "outputs": [],
   "source": [
    "# Score by element - perturbed\n",
    "score_by_elt_pert = ztf_score_by_elt(ztf_elt_pert)"
   ]
  },
  {
   "cell_type": "code",
   "execution_count": 20,
   "metadata": {},
   "outputs": [],
   "source": [
    "# Score by element - random\n",
    "score_by_elt_rand = ztf_score_by_elt(ztf_elt_rand)"
   ]
  },
  {
   "cell_type": "code",
   "execution_count": 21,
   "metadata": {},
   "outputs": [
    {
     "name": "stdout",
     "output_type": "stream",
     "text": [
      "ZTF Element Dataframe Unperturbed Asteroids:\n",
      "                  Total     (Per Batch)\n",
      "Observations   :  1233691   (    19276)\n",
      "\n",
      "Summarize score = sum(-1.0 - log(v)) by batch.  (Mean=0, Variance=num_obs)\n",
      "Mean score     :    3347.31\n",
      "Sqrt(batch_obs):     138.84\n",
      "Mean t_score   :      26.13\n"
     ]
    }
   ],
   "source": [
    "# Summarize the ztf element batch: unperturbed asteroids\n",
    "ztf_elt_summary(ztf_elt_ast, score_by_elt_ast, 'Unperturbed Asteroids')"
   ]
  },
  {
   "cell_type": "code",
   "execution_count": 22,
   "metadata": {},
   "outputs": [
    {
     "name": "stdout",
     "output_type": "stream",
     "text": [
      "ZTF Element Dataframe Perturbed Asteroids:\n",
      "                  Total     (Per Batch)\n",
      "Observations   :  1148437   (    17944)\n",
      "\n",
      "Summarize score = sum(-1.0 - log(v)) by batch.  (Mean=0, Variance=num_obs)\n",
      "Mean score     :     146.79\n",
      "Sqrt(batch_obs):     133.96\n",
      "Mean t_score   :       0.90\n"
     ]
    }
   ],
   "source": [
    "# Summarize the ztf element batch: perturbed asteroids\n",
    "ztf_elt_summary(ztf_elt_pert, score_by_elt_pert, 'Perturbed Asteroids')"
   ]
  },
  {
   "cell_type": "code",
   "execution_count": 23,
   "metadata": {},
   "outputs": [
    {
     "name": "stdout",
     "output_type": "stream",
     "text": [
      "ZTF Element Dataframe Random Elements:\n",
      "                  Total     (Per Batch)\n",
      "Observations   :  1056703   (    16773)\n",
      "\n",
      "Summarize score = sum(-1.0 - log(v)) by batch.  (Mean=0, Variance=num_obs)\n",
      "Mean score     :      82.21\n",
      "Sqrt(batch_obs):     129.51\n",
      "Mean t_score   :       0.28\n"
     ]
    }
   ],
   "source": [
    "# Summarize the ztf element batch: random elements\n",
    "ztf_elt_summary(ztf_elt_rand, score_by_elt_rand, 'Random Elements')"
   ]
  },
  {
   "cell_type": "code",
   "execution_count": 24,
   "metadata": {},
   "outputs": [],
   "source": [
    "# Mixture parameters\n",
    "num_hits: int = 10\n",
    "R_deg: float = 1.0"
   ]
  },
  {
   "cell_type": "code",
   "execution_count": 25,
   "metadata": {},
   "outputs": [],
   "source": [
    "# Add mixture parameters to candidate elements\n",
    "elts_add_mixture_params(elts=elts_ast, score_by_elt=score_by_elt_ast, num_hits=num_hits, R_deg=R_deg)\n",
    "elts_add_mixture_params(elts=elts_pert, score_by_elt=score_by_elt_pert, num_hits=num_hits, R_deg=R_deg)\n",
    "elts_add_mixture_params(elts=elts_rand, score_by_elt=score_by_elt_rand, num_hits=num_hits, R_deg=R_deg)"
   ]
  },
  {
   "cell_type": "code",
   "execution_count": null,
   "metadata": {},
   "outputs": [],
   "source": [
    "elts_ast"
   ]
  },
  {
   "cell_type": "code",
   "execution_count": null,
   "metadata": {},
   "outputs": [],
   "source": [
    "# ********************************************************************************************************************* \n",
    "def elts_add_hit_rate(elts: pd.DataFrame, score_by_elt: pd.DataFrame, num_hits: int = 10):\n",
    "    \"\"\"\n",
    "    Populate the hit rate h by guessing each element has num_hits hits\n",
    "    INPUTS:\n",
    "        elts: DataFrame with columns a, e, inc, Omega, omega, f, epoch\n",
    "        score_by_elt: DataFrame generated by ztf_score_by_element in ztf_element.py\n",
    "        num_hits:     Number of hits to assume for computing the initial guess on hit rate h\n",
    "    OUTPUTS:\n",
    "        Updated copy of elts frame\n",
    "    \"\"\"\n",
    "    # Filter elts down to the intersection\n",
    "    idx = elts.index.intersection(score_by_elt.index)\n",
    "    elts = elts.loc[idx]\n",
    "    \n",
    "    # Update column h\n",
    "    elts['h'] = num_hits / score_by_elt.num_obs.loc[idx].values\n",
    "\n",
    "    return elts\n",
    "\n",
    "# ********************************************************************************************************************* \n",
    "def elts_add_R_deg(elts: pd.DataFrame, R_deg: float, dtype=dtype):\n",
    "    \"\"\"\n",
    "    Add two columns to a DataFrame of orbital elements for the mixture parameters h and R.\n",
    "    INPUTS:\n",
    "        elts: DataFrame with columns a, e, inc, Omega, omega, f, epoch\n",
    "        R:    Resolution parameter (Cartesian distance)\n",
    "    OUTPUTS:\n",
    "        Modifies elts in place by adding column R\n",
    "    \"\"\"\n",
    "    # Number of asteroids in this batch\n",
    "    N_ast = elts.shape[0]\n",
    "\n",
    "    # Convert R from degrees to Cartesian\n",
    "    R = deg2dist(R_deg)\n",
    "\n",
    "    # Add column for R\n",
    "    elts['R'] = np.full(fill_value=R, shape=N_ast, dtype=dtype)\n",
    "\n",
    "# ********************************************************************************************************************* \n",
    "def elts_add_mixture_params(elts: pd.DataFrame, score_by_elt: pd.DataFrame, num_hits: int, R_deg: float, dtype=dtype):\n",
    "    \"\"\"\n",
    "    Add two columns to a DataFrame of orbital elements for the mixture parameters h and R.\n",
    "    INPUTS:\n",
    "        elts: DataFrame with columns a, e, inc, Omega, omega, f, epoch\n",
    "        score_by_elt: DataFrame generated by ztf_score_by_element in ztf_element.py\n",
    "        num_hits:     Number of hits to assume for computing the initial guess on hit rate h\n",
    "        R_deg:        Resolution parameter in degrees\n",
    "    OUTPUTS:\n",
    "        Modifies elts in place by adding columns h and R\n",
    "    \"\"\"\n",
    "    # Number of asteroids in this batch\n",
    "    N_ast = elts.shape[0]\n",
    "\n",
    "    # Convert R from degrees to Cartesian\n",
    "    R = deg2dist(R_deg)\n",
    "\n",
    "    # Add columns for h and R\n",
    "    elts = elts_add_hit_rate(elts=elts, score_by_elt=score_by_elt, num_hits=num_hits)\n",
    "    elts_add_R_deg(elts=elts, R_deg=R_deg)\n"
   ]
  },
  {
   "cell_type": "code",
   "execution_count": null,
   "metadata": {},
   "outputs": [],
   "source": []
  },
  {
   "cell_type": "code",
   "execution_count": null,
   "metadata": {},
   "outputs": [],
   "source": [
    "elts = elts_rand\n",
    "score_by_elt = score_by_elt_rand\n",
    "\n",
    "elts_add_hit_rate(elts=elts, score_by_elt=score_by_elt, num_hits=num_hits)"
   ]
  },
  {
   "cell_type": "code",
   "execution_count": null,
   "metadata": {},
   "outputs": [],
   "source": [
    "score_by_elt"
   ]
  },
  {
   "cell_type": "code",
   "execution_count": null,
   "metadata": {},
   "outputs": [],
   "source": [
    "elts"
   ]
  },
  {
   "cell_type": "code",
   "execution_count": null,
   "metadata": {},
   "outputs": [],
   "source": [
    "# Review unperturbed elements\n",
    "elts_ast"
   ]
  },
  {
   "cell_type": "code",
   "execution_count": null,
   "metadata": {},
   "outputs": [],
   "source": [
    "elts_ast.columns"
   ]
  },
  {
   "cell_type": "code",
   "execution_count": null,
   "metadata": {},
   "outputs": [],
   "source": [
    "raise ValueError"
   ]
  },
  {
   "cell_type": "markdown",
   "metadata": {},
   "source": [
    "## View Example DataFrames and Hits"
   ]
  },
  {
   "cell_type": "code",
   "execution_count": null,
   "metadata": {},
   "outputs": [],
   "source": [
    "# Review ztf_elt DataFrame\n",
    "ztf_elt_ast"
   ]
  },
  {
   "cell_type": "code",
   "execution_count": null,
   "metadata": {},
   "outputs": [],
   "source": [
    "# Review hits\n",
    "mask = ztf_elt_ast.is_hit\n",
    "ztf_elt_ast[mask]"
   ]
  },
  {
   "cell_type": "code",
   "execution_count": null,
   "metadata": {},
   "outputs": [],
   "source": [
    "ztf_elt_ast.columns"
   ]
  },
  {
   "cell_type": "code",
   "execution_count": null,
   "metadata": {},
   "outputs": [],
   "source": [
    "# Alias ztf_elt_ast to ztf_elt\n",
    "ztf_elt = ztf_elt_ast"
   ]
  },
  {
   "cell_type": "code",
   "execution_count": null,
   "metadata": {},
   "outputs": [],
   "source": [
    "# Build numpy array of times\n",
    "ts_np = ztf_elt.mjd.values.astype(dtype_np)\n",
    "\n",
    "# Get observation count per element\n",
    "row_lengths_np = ztf_elt.element_id.groupby(ztf_elt.element_id).count().values.astype(np.int32)"
   ]
  },
  {
   "cell_type": "code",
   "execution_count": null,
   "metadata": {},
   "outputs": [],
   "source": [
    "# Review results\n",
    "element_id_best = ast_num_best[0]\n",
    "mask = (ztf_elt.element_id == element_id_best)\n",
    "hits_best = np.sum(ztf_elt[mask].is_hit)\n",
    "hit_rate_best = np.mean(ztf_elt[mask].is_hit)\n",
    "rows_best = np.sum(mask)\n",
    "s_sec_min = np.min(ztf_elt[mask].s_sec)\n",
    "idx = np.argmin(ztf_elt.s)\n",
    "ztf_id = ztf_elt.ztf_id[idx]\n",
    "# ztf_elt[mask].iloc[idx:idx+1]\n",
    "print(f'Best asteroid has element_id = {element_id_best}')\n",
    "print(f'Hit count: {hits_best} / {rows_best} observations')\n",
    "print(f'Hit rate : {hit_rate_best:8.6f}')\n",
    "print(f'Closest hit: {s_sec_min:0.3f} arc seconds')\n",
    "# ztf_elt[mask]"
   ]
  },
  {
   "cell_type": "markdown",
   "metadata": {},
   "source": [
    "## Build \"Gold\" Asteroid Search Model (Reference)"
   ]
  },
  {
   "cell_type": "code",
   "execution_count": null,
   "metadata": {},
   "outputs": [],
   "source": [
    "# Ovservatory for ZTF data is Palomar Mountain\n",
    "site_name = 'palomar'"
   ]
  },
  {
   "cell_type": "code",
   "execution_count": null,
   "metadata": {},
   "outputs": [],
   "source": [
    "# Training parameters\n",
    "learning_rate = 2.0**-12\n",
    "clipnorm = 1.0\n",
    "regenerate = False"
   ]
  },
  {
   "cell_type": "code",
   "execution_count": null,
   "metadata": {},
   "outputs": [],
   "source": [
    "# \"Golden elements\": unperturbed, with sharp resolution setting and approximately correct hit rate\n",
    "elts_gold = elts_ast.copy()\n",
    "ztf_elt_gold = ztf_elt_ast.copy()\n",
    "# add_mixture_params(elts_gold, h=h_gold, R_deg=10.0/3600.0, dtype=np.float32)"
   ]
  },
  {
   "cell_type": "code",
   "execution_count": null,
   "metadata": {},
   "outputs": [],
   "source": [
    "# Build asteroid search model\n",
    "model_gold = AsteroidSearchModel(\n",
    "        elts=elts_gold, ztf_elt=ztf_elt_gold, \n",
    "        site_name=site_name, thresh_deg=thresh_deg, \n",
    "        learning_rate=learning_rate, clipnorm=clipnorm)"
   ]
  },
  {
   "cell_type": "code",
   "execution_count": null,
   "metadata": {},
   "outputs": [],
   "source": [
    "# Report summary outputs\n",
    "model_gold.report()"
   ]
  },
  {
   "cell_type": "code",
   "execution_count": null,
   "metadata": {},
   "outputs": [],
   "source": [
    "# Score using scipy optimization of h, lambda\n",
    "# elt_score_gold = score_by_elt(ztf_elt_gold, thresh_deg=thresh_deg, fit_mixture=True)\n",
    "# elt_score_gold = score_by_elt(ztf_elt_gold, thresh_deg=thresh_deg, fit_mixture=False)\n",
    "# elt_score_gold"
   ]
  },
  {
   "cell_type": "code",
   "execution_count": null,
   "metadata": {},
   "outputs": [],
   "source": [
    "# Freeze orbital elements; train only mixture parameters\n",
    "model_gold.freeze_candidate_elements()"
   ]
  },
  {
   "cell_type": "code",
   "execution_count": null,
   "metadata": {},
   "outputs": [],
   "source": [
    "# Adaptive search parameters - small size\n",
    "max_batches = 2000\n",
    "batches_per_epoch = 100\n",
    "epochs_per_episode = 5\n",
    "min_learning_rate = 2.0**-20\n",
    "verbose = 1"
   ]
  },
  {
   "cell_type": "code",
   "execution_count": null,
   "metadata": {},
   "outputs": [],
   "source": [
    "model_gold.search_adaptive(\n",
    "    max_batches=max_batches, \n",
    "    batches_per_epoch=batches_per_epoch,\n",
    "    epochs_per_episode=epochs_per_episode,\n",
    "    min_learning_rate=min_learning_rate,\n",
    "    regenerate=regenerate,\n",
    "    verbose=verbose)"
   ]
  },
  {
   "cell_type": "code",
   "execution_count": null,
   "metadata": {},
   "outputs": [],
   "source": [
    "model_gold.report()"
   ]
  },
  {
   "cell_type": "code",
   "execution_count": null,
   "metadata": {},
   "outputs": [],
   "source": [
    "# Visualize log likelihood of gold model\n",
    "model_gold.plot_score_bar('log_like')"
   ]
  },
  {
   "cell_type": "markdown",
   "metadata": {},
   "source": [
    "## Check that Predicted Direction Matches Expected Direction"
   ]
  },
  {
   "cell_type": "code",
   "execution_count": null,
   "metadata": {},
   "outputs": [],
   "source": [
    "# Predicted direction\n",
    "u_pred, r_pred = model_gold.predict_direction()"
   ]
  },
  {
   "cell_type": "code",
   "execution_count": null,
   "metadata": {},
   "outputs": [],
   "source": [
    "# Expected direction\n",
    "cols_u = ['elt_ux', 'elt_uy', 'elt_uz']\n",
    "u_true = ztf_elt_gold[cols_u].values"
   ]
  },
  {
   "cell_type": "code",
   "execution_count": null,
   "metadata": {},
   "outputs": [],
   "source": [
    "# Difference between actual and predicted\n",
    "du = u_pred - u_true\n",
    "u_err = np.linalg.norm(du, axis=-1)\n",
    "u_err_mean = np.mean(u_err)\n",
    "u_err_mean_sec = dist2sec(u_err_mean)\n",
    "print(f'Mean direction error: {u_err_mean:6.2e} Cartesian / {u_err_mean_sec:6.2f} arc seconds')"
   ]
  },
  {
   "cell_type": "markdown",
   "metadata": {},
   "source": [
    "## Build Asteroid Search Model"
   ]
  },
  {
   "cell_type": "code",
   "execution_count": null,
   "metadata": {},
   "outputs": [],
   "source": [
    "# Review candidate elements\n",
    "elts_ast"
   ]
  },
  {
   "cell_type": "code",
   "execution_count": null,
   "metadata": {},
   "outputs": [],
   "source": [
    "# elts_ast.h = 1.0/256.0"
   ]
  },
  {
   "cell_type": "code",
   "execution_count": null,
   "metadata": {},
   "outputs": [],
   "source": [
    "# Build asteroid search model\n",
    "model = AsteroidSearchModel(\n",
    "        elts=elts_ast, ztf_elt=ztf_elt, \n",
    "        site_name=site_name, thresh_deg=thresh_deg, \n",
    "        learning_rate=learning_rate, clipnorm=clipnorm)"
   ]
  },
  {
   "cell_type": "code",
   "execution_count": null,
   "metadata": {},
   "outputs": [],
   "source": [
    "# Report before training starts\n",
    "model.report()"
   ]
  },
  {
   "cell_type": "code",
   "execution_count": null,
   "metadata": {},
   "outputs": [],
   "source": [
    "# Built in log likelihood caclulation\n",
    "# model.calc_log_like()"
   ]
  },
  {
   "cell_type": "code",
   "execution_count": null,
   "metadata": {},
   "outputs": [],
   "source": [
    "# Visualize model summary - layers and parameters\n",
    "model.summary()"
   ]
  },
  {
   "cell_type": "code",
   "execution_count": null,
   "metadata": {},
   "outputs": [],
   "source": [
    "# Visualize log likelihood before traning\n",
    "model.plot_score_bar('log_like', sorted=False)"
   ]
  },
  {
   "cell_type": "markdown",
   "metadata": {},
   "source": [
    "## Fit Model on Unperturbed Elements"
   ]
  },
  {
   "cell_type": "code",
   "execution_count": null,
   "metadata": {},
   "outputs": [],
   "source": [
    "# Training parameters\n",
    "learning_rate = 2.0**-12\n",
    "clipnorm = 1.0\n",
    "regenerate = False"
   ]
  },
  {
   "cell_type": "code",
   "execution_count": null,
   "metadata": {},
   "outputs": [],
   "source": [
    "# Build asteroid search model\n",
    "model_ast = AsteroidSearchModel(\n",
    "                elts=elts_ast, ztf_elt=ztf_elt, \n",
    "                site_name=site_name, thresh_deg=thresh_deg, \n",
    "                learning_rate=learning_rate, clipnorm=clipnorm)"
   ]
  },
  {
   "cell_type": "code",
   "execution_count": null,
   "metadata": {},
   "outputs": [],
   "source": [
    "# Report before training starts\n",
    "model.report()"
   ]
  },
  {
   "cell_type": "code",
   "execution_count": null,
   "metadata": {},
   "outputs": [],
   "source": [
    "# Adaptive search parameters\n",
    "max_batches_mixture = 10000\n",
    "max_batches_element = 20000\n",
    "batches_per_epoch = 10\n",
    "epochs_per_episode = 5\n",
    "max_bad_episodes = 3\n",
    "learning_rate = 2.0**-12\n",
    "min_learning_rate = None\n",
    "verbose = 1"
   ]
  },
  {
   "cell_type": "code",
   "execution_count": null,
   "metadata": {},
   "outputs": [],
   "source": [
    "# # Tiny size for fast testing\n",
    "# max_batches = 1000\n",
    "# batches_per_epoch = 10"
   ]
  },
  {
   "cell_type": "code",
   "execution_count": null,
   "metadata": {},
   "outputs": [],
   "source": [
    "# Preliminary round of training with frozen elements\n",
    "model_ast.freeze_candidate_elements()"
   ]
  },
  {
   "cell_type": "code",
   "execution_count": null,
   "metadata": {},
   "outputs": [],
   "source": [
    "# Train unperturbed model with frozen orbital elements\n",
    "model_ast.search_adaptive(\n",
    "    max_batches=max_batches_mixture, \n",
    "    batches_per_epoch=batches_per_epoch,\n",
    "    epochs_per_episode=epochs_per_episode,\n",
    "    min_learning_rate=min_learning_rate,\n",
    "    regenerate=True,\n",
    "    verbose=verbose)"
   ]
  },
  {
   "cell_type": "code",
   "execution_count": null,
   "metadata": {},
   "outputs": [],
   "source": [
    "# Unfreeze the elements, freeze the mixture model parameters\n",
    "model_ast.thaw_candidate_elements()\n",
    "model_ast.freeze_mixture_parameters()"
   ]
  },
  {
   "cell_type": "code",
   "execution_count": null,
   "metadata": {},
   "outputs": [],
   "source": [
    "# Train unperturbed model with frozen orbital elements\n",
    "model_ast.search_adaptive(\n",
    "    max_batches=max_batches_element, \n",
    "    batches_per_epoch=batches_per_epoch,\n",
    "    epochs_per_episode=epochs_per_episode,\n",
    "    min_learning_rate=min_learning_rate,\n",
    "    regenerate=regenerate,\n",
    "    verbose=verbose)"
   ]
  },
  {
   "cell_type": "code",
   "execution_count": null,
   "metadata": {},
   "outputs": [],
   "source": [
    "# Report after training\n",
    "model_ast.report()"
   ]
  },
  {
   "cell_type": "code",
   "execution_count": null,
   "metadata": {},
   "outputs": [],
   "source": [
    "model_gold.plot_score_bar('log_like', episode=0)"
   ]
  },
  {
   "cell_type": "code",
   "execution_count": null,
   "metadata": {},
   "outputs": [],
   "source": [
    "# Bar chart: log likelihood\n",
    "model_ast.plot_score_bar('log_like', episode=0)"
   ]
  },
  {
   "cell_type": "code",
   "execution_count": null,
   "metadata": {},
   "outputs": [],
   "source": [
    "# Bar chart: hits\n",
    "model_ast.plot_score_bar('hits')"
   ]
  },
  {
   "cell_type": "code",
   "execution_count": null,
   "metadata": {},
   "outputs": [],
   "source": [
    "# Learning curve: log likelihood\n",
    "model_ast.plot_score_hist('log_like')"
   ]
  },
  {
   "cell_type": "code",
   "execution_count": null,
   "metadata": {},
   "outputs": [],
   "source": [
    "# Learning curve: hits\n",
    "model_ast.plot_score_hist('hits')"
   ]
  },
  {
   "cell_type": "code",
   "execution_count": null,
   "metadata": {},
   "outputs": [],
   "source": [
    "# Mixture parameter: resolution\n",
    "model_ast.plot_mixture_param('R_deg')"
   ]
  },
  {
   "cell_type": "code",
   "execution_count": null,
   "metadata": {},
   "outputs": [],
   "source": [
    "# Plot error in orbital elements\n",
    "model_ast.plot_elt_error(elts_true=elts_ast, elt_name='a', is_log=True, elt_num=None)"
   ]
  },
  {
   "cell_type": "code",
   "execution_count": null,
   "metadata": {},
   "outputs": [],
   "source": [
    "# Plot error in orbital elements\n",
    "model_ast.plot_elt_error(elts_true=elts_ast, elt_name='e', is_log=True, elt_num=None)"
   ]
  },
  {
   "cell_type": "code",
   "execution_count": null,
   "metadata": {},
   "outputs": [],
   "source": [
    "# Plot control variables for worst element\n",
    "model_ast.plot_control(element_num=55)"
   ]
  },
  {
   "cell_type": "code",
   "execution_count": null,
   "metadata": {},
   "outputs": [],
   "source": [
    "# Plot control variables for best element\n",
    "model_ast.plot_control(element_num=59)"
   ]
  },
  {
   "cell_type": "markdown",
   "metadata": {},
   "source": [
    "## Train on Perturbed Elements"
   ]
  },
  {
   "cell_type": "code",
   "execution_count": null,
   "metadata": {},
   "outputs": [],
   "source": [
    "# Build asteroid search model\n",
    "model_pert = AsteroidSearchModel(\n",
    "                 elts=elts_pert, ztf_elt=ztf_elt_pert, site_name=site_name,\n",
    "                 thresh_deg=thresh_deg, h=h, R_deg=R_deg,\n",
    "                 learning_rate=learning_rate, clipnorm=clipnorm)"
   ]
  },
  {
   "cell_type": "code",
   "execution_count": null,
   "metadata": {},
   "outputs": [],
   "source": [
    "# Freeze elements\n",
    "model_pert.freeze_elements()"
   ]
  },
  {
   "cell_type": "code",
   "execution_count": null,
   "metadata": {},
   "outputs": [],
   "source": [
    "# Train model on perturbed elements\n",
    "model_pert.search_adaptive(\n",
    "    max_batches=max_batches_mixture, \n",
    "    batches_per_epoch=batches_per_epoch,\n",
    "    epochs_per_episode=epochs_per_episode,\n",
    "    min_learning_rate=min_learning_rate,\n",
    "    regenerate=True,\n",
    "    verbose=verbose)"
   ]
  },
  {
   "cell_type": "code",
   "execution_count": null,
   "metadata": {},
   "outputs": [],
   "source": [
    "# Unfreeze the elements, freeze the mixture model parameters\n",
    "model_pert.thaw_candidate_elements()\n",
    "model_pert.freeze_mixture_parameters()"
   ]
  },
  {
   "cell_type": "code",
   "execution_count": null,
   "metadata": {},
   "outputs": [],
   "source": [
    "# Train unperturbed model with frozen orbital elements\n",
    "model_pert.search_adaptive(\n",
    "    max_batches=max_batches_element, \n",
    "    batches_per_epoch=batches_per_epoch,\n",
    "    epochs_per_episode=epochs_per_episode,\n",
    "    min_learning_rate=min_learning_rate,\n",
    "    regenerate=True,\n",
    "    verbose=verbose)"
   ]
  },
  {
   "cell_type": "code",
   "execution_count": null,
   "metadata": {},
   "outputs": [],
   "source": [
    "model_pert.report()"
   ]
  },
  {
   "cell_type": "markdown",
   "metadata": {},
   "source": [
    "## Train on Random Elements"
   ]
  },
  {
   "cell_type": "code",
   "execution_count": null,
   "metadata": {},
   "outputs": [],
   "source": [
    "# Filter elts_rand down to only those that had matching ztf observations\n",
    "idx = np.unique(ztf_elt_rand.element_id)\n",
    "elts_rand = elts_rand.loc[idx]"
   ]
  },
  {
   "cell_type": "code",
   "execution_count": null,
   "metadata": {},
   "outputs": [],
   "source": [
    "elts_rand['a'].dtype"
   ]
  },
  {
   "cell_type": "code",
   "execution_count": null,
   "metadata": {},
   "outputs": [],
   "source": [
    "elts_rand['a'].dtype"
   ]
  },
  {
   "cell_type": "code",
   "execution_count": null,
   "metadata": {},
   "outputs": [],
   "source": [
    "for col in ['a', 'e', 'f', 'inc', 'Omega', 'omega', 'epoch']:\n",
    "    elts_rand[col] = elts_rand[col].astype(np.float32)"
   ]
  },
  {
   "cell_type": "code",
   "execution_count": null,
   "metadata": {},
   "outputs": [],
   "source": [
    "# Build asteroid search model\n",
    "model_rand = AsteroidSearchModel(\n",
    "                 elts=elts_rand, ztf_elt=ztf_elt_rand, site_name=site_name,\n",
    "                 thresh_deg=thresh_deg, h=h, R_deg=R_deg,\n",
    "                 learning_rate=learning_rate, clipnorm=clipnorm)"
   ]
  },
  {
   "cell_type": "code",
   "execution_count": null,
   "metadata": {},
   "outputs": [],
   "source": [
    "# Train model on perturbed elements\n",
    "model_rand.search_adaptive(\n",
    "    max_batches=max_batches, \n",
    "    batches_per_epoch=batches_per_epoch,\n",
    "    epochs_per_episode=epochs_per_episode,\n",
    "    min_learning_rate=min_learning_rate,\n",
    "    verbose=verbose)"
   ]
  },
  {
   "cell_type": "code",
   "execution_count": null,
   "metadata": {},
   "outputs": [],
   "source": [
    "# Review likelihoods by element\n",
    "log_like_rand, orbital_elements_rand, mixture_parameters_rand = model_rand.calc_outputs()"
   ]
  },
  {
   "cell_type": "code",
   "execution_count": null,
   "metadata": {},
   "outputs": [],
   "source": [
    "log_like_rand"
   ]
  },
  {
   "cell_type": "code",
   "execution_count": null,
   "metadata": {},
   "outputs": [],
   "source": [
    "# orbital_elements_rand"
   ]
  },
  {
   "cell_type": "code",
   "execution_count": null,
   "metadata": {},
   "outputs": [],
   "source": []
  }
 ],
 "metadata": {
  "kernelspec": {
   "display_name": "Python [conda env:kepler]",
   "language": "python",
   "name": "conda-env-kepler-py"
  },
  "language_info": {
   "codemirror_mode": {
    "name": "ipython",
    "version": 3
   },
   "file_extension": ".py",
   "mimetype": "text/x-python",
   "name": "python",
   "nbconvert_exporter": "python",
   "pygments_lexer": "ipython3",
   "version": "3.7.6"
  }
 },
 "nbformat": 4,
 "nbformat_minor": 4
}
