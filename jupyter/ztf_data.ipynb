{
 "cells": [
  {
   "cell_type": "code",
   "execution_count": 1,
   "metadata": {},
   "outputs": [],
   "source": [
    "# Core\n",
    "import numpy as np\n",
    "import pandas as pd\n",
    "\n",
    "# DB\n",
    "import sqlalchemy\n",
    "from sqlalchemy import create_engine\n",
    "\n",
    "# Astronomy\n",
    "import rebound"
   ]
  },
  {
   "cell_type": "code",
   "execution_count": 2,
   "metadata": {},
   "outputs": [],
   "source": [
    "# Local imports\n",
    "import kepler_sieve\n",
    "from ztf_data import db_engine, load_ztf_classes, load_ztf_objects, load_ztf_detections, ztf_detection_add_dir\n",
    "# from db_config import db_engine\n",
    "from db_utils import sp2df"
   ]
  },
  {
   "cell_type": "code",
   "execution_count": 3,
   "metadata": {},
   "outputs": [],
   "source": [
    "df_cls = load_ztf_classes()"
   ]
  },
  {
   "cell_type": "code",
   "execution_count": 4,
   "metadata": {},
   "outputs": [
    {
     "output_type": "execute_result",
     "data": {
      "text/plain": [
       "    ObjectClassID ObjectClassName\n",
       "0               0           Other\n",
       "1               1            Ceph\n",
       "2               2            DSCT\n",
       "3               3              EB\n",
       "4               4             LPV\n",
       "5               5             RRL\n",
       "6               6             SNe\n",
       "7               7           AGN-I\n",
       "8               8          Blazar\n",
       "9               9         CV/Nova\n",
       "10             10            SNIa\n",
       "11             11           SNIbc\n",
       "12             12            SNII\n",
       "13             13           SNIIn\n",
       "14             14            SLSN\n",
       "15             15          EBSD/D\n",
       "16             16             EBC\n",
       "17             17  Periodic-Other\n",
       "18             18             AGN\n",
       "19             19              SN\n",
       "20             20   Variable Star\n",
       "21             21        Asteroid\n",
       "22             22           Bogus\n",
       "23             23          RS-CVn\n",
       "24             24           QSO-I"
      ],
      "text/html": "<div>\n<style scoped>\n    .dataframe tbody tr th:only-of-type {\n        vertical-align: middle;\n    }\n\n    .dataframe tbody tr th {\n        vertical-align: top;\n    }\n\n    .dataframe thead th {\n        text-align: right;\n    }\n</style>\n<table border=\"1\" class=\"dataframe\">\n  <thead>\n    <tr style=\"text-align: right;\">\n      <th></th>\n      <th>ObjectClassID</th>\n      <th>ObjectClassName</th>\n    </tr>\n  </thead>\n  <tbody>\n    <tr>\n      <th>0</th>\n      <td>0</td>\n      <td>Other</td>\n    </tr>\n    <tr>\n      <th>1</th>\n      <td>1</td>\n      <td>Ceph</td>\n    </tr>\n    <tr>\n      <th>2</th>\n      <td>2</td>\n      <td>DSCT</td>\n    </tr>\n    <tr>\n      <th>3</th>\n      <td>3</td>\n      <td>EB</td>\n    </tr>\n    <tr>\n      <th>4</th>\n      <td>4</td>\n      <td>LPV</td>\n    </tr>\n    <tr>\n      <th>5</th>\n      <td>5</td>\n      <td>RRL</td>\n    </tr>\n    <tr>\n      <th>6</th>\n      <td>6</td>\n      <td>SNe</td>\n    </tr>\n    <tr>\n      <th>7</th>\n      <td>7</td>\n      <td>AGN-I</td>\n    </tr>\n    <tr>\n      <th>8</th>\n      <td>8</td>\n      <td>Blazar</td>\n    </tr>\n    <tr>\n      <th>9</th>\n      <td>9</td>\n      <td>CV/Nova</td>\n    </tr>\n    <tr>\n      <th>10</th>\n      <td>10</td>\n      <td>SNIa</td>\n    </tr>\n    <tr>\n      <th>11</th>\n      <td>11</td>\n      <td>SNIbc</td>\n    </tr>\n    <tr>\n      <th>12</th>\n      <td>12</td>\n      <td>SNII</td>\n    </tr>\n    <tr>\n      <th>13</th>\n      <td>13</td>\n      <td>SNIIn</td>\n    </tr>\n    <tr>\n      <th>14</th>\n      <td>14</td>\n      <td>SLSN</td>\n    </tr>\n    <tr>\n      <th>15</th>\n      <td>15</td>\n      <td>EBSD/D</td>\n    </tr>\n    <tr>\n      <th>16</th>\n      <td>16</td>\n      <td>EBC</td>\n    </tr>\n    <tr>\n      <th>17</th>\n      <td>17</td>\n      <td>Periodic-Other</td>\n    </tr>\n    <tr>\n      <th>18</th>\n      <td>18</td>\n      <td>AGN</td>\n    </tr>\n    <tr>\n      <th>19</th>\n      <td>19</td>\n      <td>SN</td>\n    </tr>\n    <tr>\n      <th>20</th>\n      <td>20</td>\n      <td>Variable Star</td>\n    </tr>\n    <tr>\n      <th>21</th>\n      <td>21</td>\n      <td>Asteroid</td>\n    </tr>\n    <tr>\n      <th>22</th>\n      <td>22</td>\n      <td>Bogus</td>\n    </tr>\n    <tr>\n      <th>23</th>\n      <td>23</td>\n      <td>RS-CVn</td>\n    </tr>\n    <tr>\n      <th>24</th>\n      <td>24</td>\n      <td>QSO-I</td>\n    </tr>\n  </tbody>\n</table>\n</div>"
     },
     "metadata": {},
     "execution_count": 4
    }
   ],
   "source": [
    "df_cls"
   ]
  },
  {
   "cell_type": "code",
   "execution_count": 5,
   "metadata": {},
   "outputs": [],
   "source": [
    "df_obj = load_ztf_objects(0, 10, 'ZTF17')\n"
   ]
  },
  {
   "cell_type": "code",
   "execution_count": 6,
   "metadata": {},
   "outputs": [
    {
     "output_type": "execute_result",
     "data": {
      "text/plain": [
       "       ObjectCD  ObservationCount          mjd0          mjd1      MeanRA  \\\n",
       "0  ZTF17aaaaasi               347  58280.428194  59210.110914  324.488877   \n",
       "1  ZTF17aaaaclo               155  58443.265602  59290.178947   70.853230   \n",
       "2  ZTF17aaaaffg                35  58305.405590  59119.171389  319.054262   \n",
       "3  ZTF17aaaafxg                62  58350.489236  59292.206030   86.814523   \n",
       "4  ZTF17aaaaguj               166  58366.442083  59275.261806   69.468774   \n",
       "5  ZTF17aaaarde               172  58382.497002  59292.202731   59.516684   \n",
       "6  ZTF17aaaarvk                19  58426.412153  59194.261574   57.009040   \n",
       "7  ZTF17aaaasty                10  58347.470475  59218.187963   58.068906   \n",
       "8  ZTF17aaaatqi                 4  58694.465718  59110.455428   65.549200   \n",
       "9  ZTF17aaabaoc                42  58357.445880  59280.163287   81.885257   \n",
       "\n",
       "     MeanDEC  MeanMag_g  MeanMag_r  MeanMagPSF_g  MeanMagPSF_r  AsteroidProb  \n",
       "0  45.109846  18.585226  15.465914     18.671388     15.683508      0.985637  \n",
       "1   7.201669  16.718228  16.591636     16.730911     16.600370      0.996855  \n",
       "2  48.314584        NaN  15.706846           NaN     15.751171      0.973989  \n",
       "3  30.605866  19.890961  18.200003     19.920737     18.181950      0.983012  \n",
       "4  38.992608  16.895834  15.595335     16.906119     15.596677      1.000000  \n",
       "5  54.346128  18.672375  16.444349     18.680382     16.433505      0.977670  \n",
       "6  51.659964        NaN  16.206960           NaN     16.183672      0.995633  \n",
       "7  57.550521  16.609998  16.039139     16.604758     16.056506      0.984839  \n",
       "8  16.172235  16.956010  15.020318     16.792597     15.187533      0.963381  \n",
       "9  35.044659  18.930029  17.287681     18.990055     17.289737      1.000000  "
      ],
      "text/html": "<div>\n<style scoped>\n    .dataframe tbody tr th:only-of-type {\n        vertical-align: middle;\n    }\n\n    .dataframe tbody tr th {\n        vertical-align: top;\n    }\n\n    .dataframe thead th {\n        text-align: right;\n    }\n</style>\n<table border=\"1\" class=\"dataframe\">\n  <thead>\n    <tr style=\"text-align: right;\">\n      <th></th>\n      <th>ObjectCD</th>\n      <th>ObservationCount</th>\n      <th>mjd0</th>\n      <th>mjd1</th>\n      <th>MeanRA</th>\n      <th>MeanDEC</th>\n      <th>MeanMag_g</th>\n      <th>MeanMag_r</th>\n      <th>MeanMagPSF_g</th>\n      <th>MeanMagPSF_r</th>\n      <th>AsteroidProb</th>\n    </tr>\n  </thead>\n  <tbody>\n    <tr>\n      <th>0</th>\n      <td>ZTF17aaaaasi</td>\n      <td>347</td>\n      <td>58280.428194</td>\n      <td>59210.110914</td>\n      <td>324.488877</td>\n      <td>45.109846</td>\n      <td>18.585226</td>\n      <td>15.465914</td>\n      <td>18.671388</td>\n      <td>15.683508</td>\n      <td>0.985637</td>\n    </tr>\n    <tr>\n      <th>1</th>\n      <td>ZTF17aaaaclo</td>\n      <td>155</td>\n      <td>58443.265602</td>\n      <td>59290.178947</td>\n      <td>70.853230</td>\n      <td>7.201669</td>\n      <td>16.718228</td>\n      <td>16.591636</td>\n      <td>16.730911</td>\n      <td>16.600370</td>\n      <td>0.996855</td>\n    </tr>\n    <tr>\n      <th>2</th>\n      <td>ZTF17aaaaffg</td>\n      <td>35</td>\n      <td>58305.405590</td>\n      <td>59119.171389</td>\n      <td>319.054262</td>\n      <td>48.314584</td>\n      <td>NaN</td>\n      <td>15.706846</td>\n      <td>NaN</td>\n      <td>15.751171</td>\n      <td>0.973989</td>\n    </tr>\n    <tr>\n      <th>3</th>\n      <td>ZTF17aaaafxg</td>\n      <td>62</td>\n      <td>58350.489236</td>\n      <td>59292.206030</td>\n      <td>86.814523</td>\n      <td>30.605866</td>\n      <td>19.890961</td>\n      <td>18.200003</td>\n      <td>19.920737</td>\n      <td>18.181950</td>\n      <td>0.983012</td>\n    </tr>\n    <tr>\n      <th>4</th>\n      <td>ZTF17aaaaguj</td>\n      <td>166</td>\n      <td>58366.442083</td>\n      <td>59275.261806</td>\n      <td>69.468774</td>\n      <td>38.992608</td>\n      <td>16.895834</td>\n      <td>15.595335</td>\n      <td>16.906119</td>\n      <td>15.596677</td>\n      <td>1.000000</td>\n    </tr>\n    <tr>\n      <th>5</th>\n      <td>ZTF17aaaarde</td>\n      <td>172</td>\n      <td>58382.497002</td>\n      <td>59292.202731</td>\n      <td>59.516684</td>\n      <td>54.346128</td>\n      <td>18.672375</td>\n      <td>16.444349</td>\n      <td>18.680382</td>\n      <td>16.433505</td>\n      <td>0.977670</td>\n    </tr>\n    <tr>\n      <th>6</th>\n      <td>ZTF17aaaarvk</td>\n      <td>19</td>\n      <td>58426.412153</td>\n      <td>59194.261574</td>\n      <td>57.009040</td>\n      <td>51.659964</td>\n      <td>NaN</td>\n      <td>16.206960</td>\n      <td>NaN</td>\n      <td>16.183672</td>\n      <td>0.995633</td>\n    </tr>\n    <tr>\n      <th>7</th>\n      <td>ZTF17aaaasty</td>\n      <td>10</td>\n      <td>58347.470475</td>\n      <td>59218.187963</td>\n      <td>58.068906</td>\n      <td>57.550521</td>\n      <td>16.609998</td>\n      <td>16.039139</td>\n      <td>16.604758</td>\n      <td>16.056506</td>\n      <td>0.984839</td>\n    </tr>\n    <tr>\n      <th>8</th>\n      <td>ZTF17aaaatqi</td>\n      <td>4</td>\n      <td>58694.465718</td>\n      <td>59110.455428</td>\n      <td>65.549200</td>\n      <td>16.172235</td>\n      <td>16.956010</td>\n      <td>15.020318</td>\n      <td>16.792597</td>\n      <td>15.187533</td>\n      <td>0.963381</td>\n    </tr>\n    <tr>\n      <th>9</th>\n      <td>ZTF17aaabaoc</td>\n      <td>42</td>\n      <td>58357.445880</td>\n      <td>59280.163287</td>\n      <td>81.885257</td>\n      <td>35.044659</td>\n      <td>18.930029</td>\n      <td>17.287681</td>\n      <td>18.990055</td>\n      <td>17.289737</td>\n      <td>1.000000</td>\n    </tr>\n  </tbody>\n</table>\n</div>"
     },
     "metadata": {},
     "execution_count": 6
    }
   ],
   "source": [
    "df_obj"
   ]
  },
  {
   "cell_type": "code",
   "execution_count": 7,
   "metadata": {},
   "outputs": [],
   "source": [
    "df_det = load_ztf_detections(0, 10, 0)"
   ]
  },
  {
   "cell_type": "code",
   "execution_count": 8,
   "metadata": {},
   "outputs": [
    {
     "output_type": "execute_result",
     "data": {
      "text/plain": [
       "          DetectionID      ObjectCD           mjd          RA        DEC  \\\n",
       "0  516167660115015008  ZTF18aabpmzg  58270.167662  196.398414   9.591569   \n",
       "1  516167660915010000  ZTF17aabwnym  58270.167662  192.426449   9.354512   \n",
       "2  516167661515010000  ZTF17aacnkbw  58270.167662  191.341359   8.758481   \n",
       "3  516167661815010000  ZTF18aabvlxk  58270.167662  196.021287  10.491912   \n",
       "4  516167662515010000  ZTF17aaaplxn  58270.167662  192.689685  11.554165   \n",
       "5  516167662515015016  ZTF17aacnjdr  58270.167662  192.888466  10.942523   \n",
       "6  516167662915015011  ZTF17aabucib  58270.167662  190.635739  11.305474   \n",
       "7  516167663215010000  ZTF18aabppoa  58270.167662  197.184700  13.402262   \n",
       "8  516167663815015004  ZTF18aabpzey  58270.167662  194.830048  12.496480   \n",
       "9  516167663915010000  ZTF17aacnjgv  58270.167662  195.008807  12.045862   \n",
       "\n",
       "      MagPSF     MagApp      MagNR  Sigma_RA  Sigma_DEC  \n",
       "0  15.727263  15.762400  14.705000      0.09       0.09  \n",
       "1  17.722343  17.770201  15.422999      0.09       0.09  \n",
       "2  17.918642  17.881800  15.516000      0.09       0.09  \n",
       "3  16.975546  17.025600  15.289000      0.09       0.09  \n",
       "4  18.307011  18.343300  17.122999      0.09       0.09  \n",
       "5  17.364489  17.377399  15.302000      0.09       0.09  \n",
       "6  18.165871  18.121700  15.813000      0.09       0.09  \n",
       "7  14.257106  14.298100  13.120000      0.09       0.09  \n",
       "8  17.297316  17.367701  13.749000      0.09       0.09  \n",
       "9  16.681993  16.707001  15.143000      0.09       0.09  "
      ],
      "text/html": "<div>\n<style scoped>\n    .dataframe tbody tr th:only-of-type {\n        vertical-align: middle;\n    }\n\n    .dataframe tbody tr th {\n        vertical-align: top;\n    }\n\n    .dataframe thead th {\n        text-align: right;\n    }\n</style>\n<table border=\"1\" class=\"dataframe\">\n  <thead>\n    <tr style=\"text-align: right;\">\n      <th></th>\n      <th>DetectionID</th>\n      <th>ObjectCD</th>\n      <th>mjd</th>\n      <th>RA</th>\n      <th>DEC</th>\n      <th>MagPSF</th>\n      <th>MagApp</th>\n      <th>MagNR</th>\n      <th>Sigma_RA</th>\n      <th>Sigma_DEC</th>\n    </tr>\n  </thead>\n  <tbody>\n    <tr>\n      <th>0</th>\n      <td>516167660115015008</td>\n      <td>ZTF18aabpmzg</td>\n      <td>58270.167662</td>\n      <td>196.398414</td>\n      <td>9.591569</td>\n      <td>15.727263</td>\n      <td>15.762400</td>\n      <td>14.705000</td>\n      <td>0.09</td>\n      <td>0.09</td>\n    </tr>\n    <tr>\n      <th>1</th>\n      <td>516167660915010000</td>\n      <td>ZTF17aabwnym</td>\n      <td>58270.167662</td>\n      <td>192.426449</td>\n      <td>9.354512</td>\n      <td>17.722343</td>\n      <td>17.770201</td>\n      <td>15.422999</td>\n      <td>0.09</td>\n      <td>0.09</td>\n    </tr>\n    <tr>\n      <th>2</th>\n      <td>516167661515010000</td>\n      <td>ZTF17aacnkbw</td>\n      <td>58270.167662</td>\n      <td>191.341359</td>\n      <td>8.758481</td>\n      <td>17.918642</td>\n      <td>17.881800</td>\n      <td>15.516000</td>\n      <td>0.09</td>\n      <td>0.09</td>\n    </tr>\n    <tr>\n      <th>3</th>\n      <td>516167661815010000</td>\n      <td>ZTF18aabvlxk</td>\n      <td>58270.167662</td>\n      <td>196.021287</td>\n      <td>10.491912</td>\n      <td>16.975546</td>\n      <td>17.025600</td>\n      <td>15.289000</td>\n      <td>0.09</td>\n      <td>0.09</td>\n    </tr>\n    <tr>\n      <th>4</th>\n      <td>516167662515010000</td>\n      <td>ZTF17aaaplxn</td>\n      <td>58270.167662</td>\n      <td>192.689685</td>\n      <td>11.554165</td>\n      <td>18.307011</td>\n      <td>18.343300</td>\n      <td>17.122999</td>\n      <td>0.09</td>\n      <td>0.09</td>\n    </tr>\n    <tr>\n      <th>5</th>\n      <td>516167662515015016</td>\n      <td>ZTF17aacnjdr</td>\n      <td>58270.167662</td>\n      <td>192.888466</td>\n      <td>10.942523</td>\n      <td>17.364489</td>\n      <td>17.377399</td>\n      <td>15.302000</td>\n      <td>0.09</td>\n      <td>0.09</td>\n    </tr>\n    <tr>\n      <th>6</th>\n      <td>516167662915015011</td>\n      <td>ZTF17aabucib</td>\n      <td>58270.167662</td>\n      <td>190.635739</td>\n      <td>11.305474</td>\n      <td>18.165871</td>\n      <td>18.121700</td>\n      <td>15.813000</td>\n      <td>0.09</td>\n      <td>0.09</td>\n    </tr>\n    <tr>\n      <th>7</th>\n      <td>516167663215010000</td>\n      <td>ZTF18aabppoa</td>\n      <td>58270.167662</td>\n      <td>197.184700</td>\n      <td>13.402262</td>\n      <td>14.257106</td>\n      <td>14.298100</td>\n      <td>13.120000</td>\n      <td>0.09</td>\n      <td>0.09</td>\n    </tr>\n    <tr>\n      <th>8</th>\n      <td>516167663815015004</td>\n      <td>ZTF18aabpzey</td>\n      <td>58270.167662</td>\n      <td>194.830048</td>\n      <td>12.496480</td>\n      <td>17.297316</td>\n      <td>17.367701</td>\n      <td>13.749000</td>\n      <td>0.09</td>\n      <td>0.09</td>\n    </tr>\n    <tr>\n      <th>9</th>\n      <td>516167663915010000</td>\n      <td>ZTF17aacnjgv</td>\n      <td>58270.167662</td>\n      <td>195.008807</td>\n      <td>12.045862</td>\n      <td>16.681993</td>\n      <td>16.707001</td>\n      <td>15.143000</td>\n      <td>0.09</td>\n      <td>0.09</td>\n    </tr>\n  </tbody>\n</table>\n</div>"
     },
     "metadata": {},
     "execution_count": 8
    }
   ],
   "source": [
    "df_det"
   ]
  },
  {
   "cell_type": "code",
   "execution_count": 9,
   "metadata": {},
   "outputs": [
    {
     "output_type": "execute_result",
     "data": {
      "text/plain": [
       "DetectionID      int64\n",
       "ObjectCD        object\n",
       "mjd            float64\n",
       "RA             float64\n",
       "DEC            float64\n",
       "MagPSF         float64\n",
       "MagApp         float64\n",
       "MagNR          float64\n",
       "Sigma_RA       float64\n",
       "Sigma_DEC      float64\n",
       "dtype: object"
      ]
     },
     "metadata": {},
     "execution_count": 9
    }
   ],
   "source": [
    "df_det.dtypes"
   ]
  },
  {
   "cell_type": "code",
   "execution_count": null,
   "metadata": {},
   "outputs": [],
   "source": []
  },
  {
   "cell_type": "code",
   "execution_count": null,
   "metadata": {},
   "outputs": [],
   "source": []
  }
 ],
 "metadata": {
  "kernelspec": {
   "display_name": "kepler",
   "language": "python",
   "name": "kepler"
  },
  "language_info": {
   "codemirror_mode": {
    "name": "ipython",
    "version": 3
   },
   "file_extension": ".py",
   "mimetype": "text/x-python",
   "name": "python",
   "nbconvert_exporter": "python",
   "pygments_lexer": "ipython3",
   "version": "3.8.8-final"
  }
 },
 "nbformat": 4,
 "nbformat_minor": 4
}