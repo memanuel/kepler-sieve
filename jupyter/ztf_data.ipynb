{
 "cells": [
  {
   "cell_type": "code",
   "execution_count": 1,
   "metadata": {},
   "outputs": [],
   "source": [
    "# Core\n",
    "import numpy as np\n",
    "import pandas as pd\n",
    "\n",
    "# DB\n",
    "import sqlalchemy\n",
    "from sqlalchemy import create_engine\n",
    "\n",
    "# Astronomy\n",
    "import rebound"
   ]
  },
  {
   "cell_type": "code",
   "execution_count": 2,
   "metadata": {},
   "outputs": [],
   "source": [
    "# Local imports\n",
    "import kepler_sieve\n",
    "from ztf_data import db_engine, load_ztf_classes, load_ztf_objects, load_ztf_detections, ztf_detection_add_dir\n",
    "# from db_config import db_engine\n",
    "# from db_utils import sp2df"
   ]
  },
  {
   "cell_type": "code",
   "execution_count": 3,
   "metadata": {},
   "outputs": [],
   "source": [
    "df_cls = load_ztf_classes()"
   ]
  },
  {
   "cell_type": "code",
   "execution_count": 4,
   "metadata": {},
   "outputs": [],
   "source": [
    "# df_cls"
   ]
  },
  {
   "cell_type": "code",
   "execution_count": 5,
   "metadata": {},
   "outputs": [],
   "source": [
    "df_obj = load_ztf_objects(0, 10)"
   ]
  },
  {
   "cell_type": "code",
   "execution_count": 6,
   "metadata": {},
   "outputs": [
    {
     "output_type": "execute_result",
     "data": {
      "text/plain": [
       "          ObjectCD  ObservationCount          mjd0          mjd1      MeanRA  \\\n",
       "0  b'ZTF17aaaaasi'               347  58280.428194  59210.110914  324.488877   \n",
       "1  b'ZTF17aaaaclo'               155  58443.265602  59290.178947   70.853230   \n",
       "2  b'ZTF17aaaaffg'                35  58305.405590  59119.171389  319.054262   \n",
       "3  b'ZTF17aaaafxg'                62  58350.489236  59292.206030   86.814523   \n",
       "4  b'ZTF17aaaaguj'               166  58366.442083  59275.261806   69.468774   \n",
       "5  b'ZTF17aaaarde'               172  58382.497002  59292.202731   59.516684   \n",
       "6  b'ZTF17aaaarvk'                19  58426.412153  59194.261574   57.009040   \n",
       "7  b'ZTF17aaaasty'                10  58347.470475  59218.187963   58.068906   \n",
       "8  b'ZTF17aaaatqi'                 4  58694.465718  59110.455428   65.549200   \n",
       "9  b'ZTF17aaabaoc'                42  58357.445880  59280.163287   81.885257   \n",
       "\n",
       "     MeanDEC  MeanMag_g  MeanMag_r  MeanMagPSF_g  MeanMagPSF_r  AsteroidProb  \n",
       "0  45.109846  18.585226  15.465914     18.671388     15.683508      0.985637  \n",
       "1   7.201669  16.718228  16.591636     16.730911     16.600370      0.996855  \n",
       "2  48.314584        NaN  15.706846           NaN     15.751171      0.973989  \n",
       "3  30.605866  19.890961  18.200003     19.920737     18.181950      0.983012  \n",
       "4  38.992608  16.895834  15.595335     16.906119     15.596677      1.000000  \n",
       "5  54.346128  18.672375  16.444349     18.680382     16.433505      0.977670  \n",
       "6  51.659964        NaN  16.206960           NaN     16.183672      0.995633  \n",
       "7  57.550521  16.609998  16.039139     16.604758     16.056506      0.984839  \n",
       "8  16.172235  16.956010  15.020318     16.792597     15.187533      0.963381  \n",
       "9  35.044659  18.930029  17.287681     18.990055     17.289737      1.000000  "
      ],
      "text/html": "<div>\n<style scoped>\n    .dataframe tbody tr th:only-of-type {\n        vertical-align: middle;\n    }\n\n    .dataframe tbody tr th {\n        vertical-align: top;\n    }\n\n    .dataframe thead th {\n        text-align: right;\n    }\n</style>\n<table border=\"1\" class=\"dataframe\">\n  <thead>\n    <tr style=\"text-align: right;\">\n      <th></th>\n      <th>ObjectCD</th>\n      <th>ObservationCount</th>\n      <th>mjd0</th>\n      <th>mjd1</th>\n      <th>MeanRA</th>\n      <th>MeanDEC</th>\n      <th>MeanMag_g</th>\n      <th>MeanMag_r</th>\n      <th>MeanMagPSF_g</th>\n      <th>MeanMagPSF_r</th>\n      <th>AsteroidProb</th>\n    </tr>\n  </thead>\n  <tbody>\n    <tr>\n      <th>0</th>\n      <td>b'ZTF17aaaaasi'</td>\n      <td>347</td>\n      <td>58280.428194</td>\n      <td>59210.110914</td>\n      <td>324.488877</td>\n      <td>45.109846</td>\n      <td>18.585226</td>\n      <td>15.465914</td>\n      <td>18.671388</td>\n      <td>15.683508</td>\n      <td>0.985637</td>\n    </tr>\n    <tr>\n      <th>1</th>\n      <td>b'ZTF17aaaaclo'</td>\n      <td>155</td>\n      <td>58443.265602</td>\n      <td>59290.178947</td>\n      <td>70.853230</td>\n      <td>7.201669</td>\n      <td>16.718228</td>\n      <td>16.591636</td>\n      <td>16.730911</td>\n      <td>16.600370</td>\n      <td>0.996855</td>\n    </tr>\n    <tr>\n      <th>2</th>\n      <td>b'ZTF17aaaaffg'</td>\n      <td>35</td>\n      <td>58305.405590</td>\n      <td>59119.171389</td>\n      <td>319.054262</td>\n      <td>48.314584</td>\n      <td>NaN</td>\n      <td>15.706846</td>\n      <td>NaN</td>\n      <td>15.751171</td>\n      <td>0.973989</td>\n    </tr>\n    <tr>\n      <th>3</th>\n      <td>b'ZTF17aaaafxg'</td>\n      <td>62</td>\n      <td>58350.489236</td>\n      <td>59292.206030</td>\n      <td>86.814523</td>\n      <td>30.605866</td>\n      <td>19.890961</td>\n      <td>18.200003</td>\n      <td>19.920737</td>\n      <td>18.181950</td>\n      <td>0.983012</td>\n    </tr>\n    <tr>\n      <th>4</th>\n      <td>b'ZTF17aaaaguj'</td>\n      <td>166</td>\n      <td>58366.442083</td>\n      <td>59275.261806</td>\n      <td>69.468774</td>\n      <td>38.992608</td>\n      <td>16.895834</td>\n      <td>15.595335</td>\n      <td>16.906119</td>\n      <td>15.596677</td>\n      <td>1.000000</td>\n    </tr>\n    <tr>\n      <th>5</th>\n      <td>b'ZTF17aaaarde'</td>\n      <td>172</td>\n      <td>58382.497002</td>\n      <td>59292.202731</td>\n      <td>59.516684</td>\n      <td>54.346128</td>\n      <td>18.672375</td>\n      <td>16.444349</td>\n      <td>18.680382</td>\n      <td>16.433505</td>\n      <td>0.977670</td>\n    </tr>\n    <tr>\n      <th>6</th>\n      <td>b'ZTF17aaaarvk'</td>\n      <td>19</td>\n      <td>58426.412153</td>\n      <td>59194.261574</td>\n      <td>57.009040</td>\n      <td>51.659964</td>\n      <td>NaN</td>\n      <td>16.206960</td>\n      <td>NaN</td>\n      <td>16.183672</td>\n      <td>0.995633</td>\n    </tr>\n    <tr>\n      <th>7</th>\n      <td>b'ZTF17aaaasty'</td>\n      <td>10</td>\n      <td>58347.470475</td>\n      <td>59218.187963</td>\n      <td>58.068906</td>\n      <td>57.550521</td>\n      <td>16.609998</td>\n      <td>16.039139</td>\n      <td>16.604758</td>\n      <td>16.056506</td>\n      <td>0.984839</td>\n    </tr>\n    <tr>\n      <th>8</th>\n      <td>b'ZTF17aaaatqi'</td>\n      <td>4</td>\n      <td>58694.465718</td>\n      <td>59110.455428</td>\n      <td>65.549200</td>\n      <td>16.172235</td>\n      <td>16.956010</td>\n      <td>15.020318</td>\n      <td>16.792597</td>\n      <td>15.187533</td>\n      <td>0.963381</td>\n    </tr>\n    <tr>\n      <th>9</th>\n      <td>b'ZTF17aaabaoc'</td>\n      <td>42</td>\n      <td>58357.445880</td>\n      <td>59280.163287</td>\n      <td>81.885257</td>\n      <td>35.044659</td>\n      <td>18.930029</td>\n      <td>17.287681</td>\n      <td>18.990055</td>\n      <td>17.289737</td>\n      <td>1.000000</td>\n    </tr>\n  </tbody>\n</table>\n</div>"
     },
     "metadata": {},
     "execution_count": 6
    }
   ],
   "source": [
    "df_obj"
   ]
  },
  {
   "cell_type": "code",
   "execution_count": 7,
   "metadata": {},
   "outputs": [],
   "source": [
    "df_det = load_ztf_detections(0, 10)"
   ]
  },
  {
   "cell_type": "code",
   "execution_count": 8,
   "metadata": {},
   "outputs": [
    {
     "output_type": "execute_result",
     "data": {
      "text/plain": [
       "          ObjectCD          CandidateID           mjd         RA        DEC  \\\n",
       "0  b'ZTF18adbdodf'  1457228490615015059  59211.228495  76.092334 -13.177226   \n",
       "1  b'ZTF19aaeaenk'  1457228490015015080  59211.228495  79.314825 -12.558813   \n",
       "2  b'ZTF19aaeaenk'  1442294391315015008  59196.294398  79.314520 -12.558744   \n",
       "3  b'ZTF19abxlvtk'  1457228490215015082  59211.228495  78.132314 -13.282117   \n",
       "4  b'ZTF20acubhxk'  1457228490615015065  59211.228495  76.438589 -13.304719   \n",
       "5  b'ZTF20adahblx'  1457228491815015029  59211.228495  78.402191 -11.033087   \n",
       "6  b'ZTF18achtbsa'  1457228490715015057  59211.228495  77.478173 -12.856938   \n",
       "7  b'ZTF19aadkdtl'  1457228493515015103  59211.228495  79.321827  -9.557205   \n",
       "8  b'ZTF19aadkdtl'  1444339494615015004  59198.339491  79.321482  -9.557297   \n",
       "9  b'ZTF19aadkdtn'  1457228493515015098  59211.228495  78.996498  -9.658824   \n",
       "\n",
       "      MagPSF     MagApp      MagNR  Sigma_RA  Sigma_DEC  AsteroidProb  \n",
       "0  15.729690  15.630600  13.363000      0.09       0.09      0.533123  \n",
       "1  14.679854  14.875300  12.433000      0.09       0.09      0.942302  \n",
       "2  15.751100  15.905200  12.277000      0.09       0.09      0.942302  \n",
       "3  15.175592  15.220200  12.632999      0.09       0.09      0.981137  \n",
       "4  15.885690  16.129999  13.796000      0.09       0.09      0.535354  \n",
       "5  15.333986  15.201600  12.617000      0.09       0.09      0.481130  \n",
       "6  17.131235  17.323700  13.962000      0.09       0.09      0.559435  \n",
       "7  15.094650  15.059900  12.924000      0.09       0.09      0.990351  \n",
       "8  17.247900  17.927099  12.927000      0.09       0.09      0.990351  \n",
       "9  15.467650  15.290600  13.175000      0.09       0.09      0.538162  "
      ],
      "text/html": "<div>\n<style scoped>\n    .dataframe tbody tr th:only-of-type {\n        vertical-align: middle;\n    }\n\n    .dataframe tbody tr th {\n        vertical-align: top;\n    }\n\n    .dataframe thead th {\n        text-align: right;\n    }\n</style>\n<table border=\"1\" class=\"dataframe\">\n  <thead>\n    <tr style=\"text-align: right;\">\n      <th></th>\n      <th>ObjectCD</th>\n      <th>CandidateID</th>\n      <th>mjd</th>\n      <th>RA</th>\n      <th>DEC</th>\n      <th>MagPSF</th>\n      <th>MagApp</th>\n      <th>MagNR</th>\n      <th>Sigma_RA</th>\n      <th>Sigma_DEC</th>\n      <th>AsteroidProb</th>\n    </tr>\n  </thead>\n  <tbody>\n    <tr>\n      <th>0</th>\n      <td>b'ZTF18adbdodf'</td>\n      <td>1457228490615015059</td>\n      <td>59211.228495</td>\n      <td>76.092334</td>\n      <td>-13.177226</td>\n      <td>15.729690</td>\n      <td>15.630600</td>\n      <td>13.363000</td>\n      <td>0.09</td>\n      <td>0.09</td>\n      <td>0.533123</td>\n    </tr>\n    <tr>\n      <th>1</th>\n      <td>b'ZTF19aaeaenk'</td>\n      <td>1457228490015015080</td>\n      <td>59211.228495</td>\n      <td>79.314825</td>\n      <td>-12.558813</td>\n      <td>14.679854</td>\n      <td>14.875300</td>\n      <td>12.433000</td>\n      <td>0.09</td>\n      <td>0.09</td>\n      <td>0.942302</td>\n    </tr>\n    <tr>\n      <th>2</th>\n      <td>b'ZTF19aaeaenk'</td>\n      <td>1442294391315015008</td>\n      <td>59196.294398</td>\n      <td>79.314520</td>\n      <td>-12.558744</td>\n      <td>15.751100</td>\n      <td>15.905200</td>\n      <td>12.277000</td>\n      <td>0.09</td>\n      <td>0.09</td>\n      <td>0.942302</td>\n    </tr>\n    <tr>\n      <th>3</th>\n      <td>b'ZTF19abxlvtk'</td>\n      <td>1457228490215015082</td>\n      <td>59211.228495</td>\n      <td>78.132314</td>\n      <td>-13.282117</td>\n      <td>15.175592</td>\n      <td>15.220200</td>\n      <td>12.632999</td>\n      <td>0.09</td>\n      <td>0.09</td>\n      <td>0.981137</td>\n    </tr>\n    <tr>\n      <th>4</th>\n      <td>b'ZTF20acubhxk'</td>\n      <td>1457228490615015065</td>\n      <td>59211.228495</td>\n      <td>76.438589</td>\n      <td>-13.304719</td>\n      <td>15.885690</td>\n      <td>16.129999</td>\n      <td>13.796000</td>\n      <td>0.09</td>\n      <td>0.09</td>\n      <td>0.535354</td>\n    </tr>\n    <tr>\n      <th>5</th>\n      <td>b'ZTF20adahblx'</td>\n      <td>1457228491815015029</td>\n      <td>59211.228495</td>\n      <td>78.402191</td>\n      <td>-11.033087</td>\n      <td>15.333986</td>\n      <td>15.201600</td>\n      <td>12.617000</td>\n      <td>0.09</td>\n      <td>0.09</td>\n      <td>0.481130</td>\n    </tr>\n    <tr>\n      <th>6</th>\n      <td>b'ZTF18achtbsa'</td>\n      <td>1457228490715015057</td>\n      <td>59211.228495</td>\n      <td>77.478173</td>\n      <td>-12.856938</td>\n      <td>17.131235</td>\n      <td>17.323700</td>\n      <td>13.962000</td>\n      <td>0.09</td>\n      <td>0.09</td>\n      <td>0.559435</td>\n    </tr>\n    <tr>\n      <th>7</th>\n      <td>b'ZTF19aadkdtl'</td>\n      <td>1457228493515015103</td>\n      <td>59211.228495</td>\n      <td>79.321827</td>\n      <td>-9.557205</td>\n      <td>15.094650</td>\n      <td>15.059900</td>\n      <td>12.924000</td>\n      <td>0.09</td>\n      <td>0.09</td>\n      <td>0.990351</td>\n    </tr>\n    <tr>\n      <th>8</th>\n      <td>b'ZTF19aadkdtl'</td>\n      <td>1444339494615015004</td>\n      <td>59198.339491</td>\n      <td>79.321482</td>\n      <td>-9.557297</td>\n      <td>17.247900</td>\n      <td>17.927099</td>\n      <td>12.927000</td>\n      <td>0.09</td>\n      <td>0.09</td>\n      <td>0.990351</td>\n    </tr>\n    <tr>\n      <th>9</th>\n      <td>b'ZTF19aadkdtn'</td>\n      <td>1457228493515015098</td>\n      <td>59211.228495</td>\n      <td>78.996498</td>\n      <td>-9.658824</td>\n      <td>15.467650</td>\n      <td>15.290600</td>\n      <td>13.175000</td>\n      <td>0.09</td>\n      <td>0.09</td>\n      <td>0.538162</td>\n    </tr>\n  </tbody>\n</table>\n</div>"
     },
     "metadata": {},
     "execution_count": 8
    }
   ],
   "source": [
    "df_det"
   ]
  },
  {
   "cell_type": "code",
   "execution_count": 9,
   "metadata": {},
   "outputs": [
    {
     "output_type": "execute_result",
     "data": {
      "text/plain": [
       "ObjectCD           |S12\n",
       "CandidateID       int64\n",
       "mjd             float64\n",
       "RA              float64\n",
       "DEC             float64\n",
       "MagPSF          float64\n",
       "MagApp          float64\n",
       "MagNR           float64\n",
       "Sigma_RA        float64\n",
       "Sigma_DEC       float64\n",
       "AsteroidProb    float64\n",
       "dtype: object"
      ]
     },
     "metadata": {},
     "execution_count": 9
    }
   ],
   "source": [
    "df_det.dtypes"
   ]
  },
  {
   "cell_type": "code",
   "execution_count": null,
   "metadata": {},
   "outputs": [],
   "source": []
  }
 ],
 "metadata": {
  "kernelspec": {
   "display_name": "kepler",
   "language": "python",
   "name": "kepler"
  },
  "language_info": {
   "codemirror_mode": {
    "name": "ipython",
    "version": 3
   },
   "file_extension": ".py",
   "mimetype": "text/x-python",
   "name": "python",
   "nbconvert_exporter": "python",
   "pygments_lexer": "ipython3",
   "version": "3.8.8-final"
  }
 },
 "nbformat": 4,
 "nbformat_minor": 4
}