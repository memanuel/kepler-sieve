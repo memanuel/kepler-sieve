{
 "cells": [
  {
   "cell_type": "code",
   "execution_count": 1,
   "metadata": {},
   "outputs": [],
   "source": [
    "# Core\n",
    "import numpy as np\n",
    "import pandas as pd\n",
    "\n",
    "# DB\n",
    "import sqlalchemy\n",
    "from sqlalchemy import create_engine\n",
    "\n",
    "# Astronomy\n",
    "import rebound"
   ]
  },
  {
   "cell_type": "code",
   "execution_count": 2,
   "metadata": {},
   "outputs": [],
   "source": [
    "# Local imports\n",
    "import kepler_sieve\n",
    "from ztf_data import db_engine, load_ztf_classes, load_ztf_objects\n",
    "# from db_config import db_engine\n",
    "# from db_utils import sp2df"
   ]
  },
  {
   "cell_type": "code",
   "execution_count": 3,
   "metadata": {},
   "outputs": [
    {
     "output_type": "execute_result",
     "data": {
      "text/plain": [
       "    ClassID          ClassName\n",
       "0         0           b'Other'\n",
       "1         1            b'Ceph'\n",
       "2         2            b'DSCT'\n",
       "3         3              b'EB'\n",
       "4         4             b'LPV'\n",
       "5         5             b'RRL'\n",
       "6         6             b'SNe'\n",
       "7         7           b'AGN-I'\n",
       "8         8          b'Blazar'\n",
       "9         9         b'CV/Nova'\n",
       "10       10            b'SNIa'\n",
       "11       11           b'SNIbc'\n",
       "12       12            b'SNII'\n",
       "13       13           b'SNIIn'\n",
       "14       14            b'SLSN'\n",
       "15       15          b'EBSD/D'\n",
       "16       16             b'EBC'\n",
       "17       17  b'Periodic-Other'\n",
       "18       18             b'AGN'\n",
       "19       19              b'SN'\n",
       "20       20   b'Variable Star'\n",
       "21       21        b'Asteroid'\n",
       "22       22           b'Bogus'\n",
       "23       23          b'RS-CVn'\n",
       "24       24           b'QSO-I'"
      ],
      "text/html": "<div>\n<style scoped>\n    .dataframe tbody tr th:only-of-type {\n        vertical-align: middle;\n    }\n\n    .dataframe tbody tr th {\n        vertical-align: top;\n    }\n\n    .dataframe thead th {\n        text-align: right;\n    }\n</style>\n<table border=\"1\" class=\"dataframe\">\n  <thead>\n    <tr style=\"text-align: right;\">\n      <th></th>\n      <th>ClassID</th>\n      <th>ClassName</th>\n    </tr>\n  </thead>\n  <tbody>\n    <tr>\n      <th>0</th>\n      <td>0</td>\n      <td>b'Other'</td>\n    </tr>\n    <tr>\n      <th>1</th>\n      <td>1</td>\n      <td>b'Ceph'</td>\n    </tr>\n    <tr>\n      <th>2</th>\n      <td>2</td>\n      <td>b'DSCT'</td>\n    </tr>\n    <tr>\n      <th>3</th>\n      <td>3</td>\n      <td>b'EB'</td>\n    </tr>\n    <tr>\n      <th>4</th>\n      <td>4</td>\n      <td>b'LPV'</td>\n    </tr>\n    <tr>\n      <th>5</th>\n      <td>5</td>\n      <td>b'RRL'</td>\n    </tr>\n    <tr>\n      <th>6</th>\n      <td>6</td>\n      <td>b'SNe'</td>\n    </tr>\n    <tr>\n      <th>7</th>\n      <td>7</td>\n      <td>b'AGN-I'</td>\n    </tr>\n    <tr>\n      <th>8</th>\n      <td>8</td>\n      <td>b'Blazar'</td>\n    </tr>\n    <tr>\n      <th>9</th>\n      <td>9</td>\n      <td>b'CV/Nova'</td>\n    </tr>\n    <tr>\n      <th>10</th>\n      <td>10</td>\n      <td>b'SNIa'</td>\n    </tr>\n    <tr>\n      <th>11</th>\n      <td>11</td>\n      <td>b'SNIbc'</td>\n    </tr>\n    <tr>\n      <th>12</th>\n      <td>12</td>\n      <td>b'SNII'</td>\n    </tr>\n    <tr>\n      <th>13</th>\n      <td>13</td>\n      <td>b'SNIIn'</td>\n    </tr>\n    <tr>\n      <th>14</th>\n      <td>14</td>\n      <td>b'SLSN'</td>\n    </tr>\n    <tr>\n      <th>15</th>\n      <td>15</td>\n      <td>b'EBSD/D'</td>\n    </tr>\n    <tr>\n      <th>16</th>\n      <td>16</td>\n      <td>b'EBC'</td>\n    </tr>\n    <tr>\n      <th>17</th>\n      <td>17</td>\n      <td>b'Periodic-Other'</td>\n    </tr>\n    <tr>\n      <th>18</th>\n      <td>18</td>\n      <td>b'AGN'</td>\n    </tr>\n    <tr>\n      <th>19</th>\n      <td>19</td>\n      <td>b'SN'</td>\n    </tr>\n    <tr>\n      <th>20</th>\n      <td>20</td>\n      <td>b'Variable Star'</td>\n    </tr>\n    <tr>\n      <th>21</th>\n      <td>21</td>\n      <td>b'Asteroid'</td>\n    </tr>\n    <tr>\n      <th>22</th>\n      <td>22</td>\n      <td>b'Bogus'</td>\n    </tr>\n    <tr>\n      <th>23</th>\n      <td>23</td>\n      <td>b'RS-CVn'</td>\n    </tr>\n    <tr>\n      <th>24</th>\n      <td>24</td>\n      <td>b'QSO-I'</td>\n    </tr>\n  </tbody>\n</table>\n</div>"
     },
     "metadata": {},
     "execution_count": 3
    }
   ],
   "source": [
    "df_cls = load_ztf_classes()\n",
    "df_cls"
   ]
  },
  {
   "cell_type": "code",
   "execution_count": 4,
   "metadata": {},
   "outputs": [
    {
     "output_type": "execute_result",
     "data": {
      "text/plain": [
       "ClassID      int64\n",
       "ClassName     |S14\n",
       "dtype: object"
      ]
     },
     "metadata": {},
     "execution_count": 4
    }
   ],
   "source": [
    "df_cls.dtypes"
   ]
  },
  {
   "cell_type": "code",
   "execution_count": 5,
   "metadata": {},
   "outputs": [
    {
     "output_type": "execute_result",
     "data": {
      "text/plain": [
       "b'Other'"
      ]
     },
     "metadata": {},
     "execution_count": 5
    }
   ],
   "source": [
    "df_cls.loc[0].ClassName"
   ]
  },
  {
   "cell_type": "code",
   "execution_count": 6,
   "metadata": {},
   "outputs": [
    {
     "output_type": "execute_result",
     "data": {
      "text/plain": [
       "          ObjectCD  ObservationCount          mjd0          mjd1      MeanRA  \\\n",
       "0  b'ZTF17aaaaasi'               347  58280.428194  59210.110914  324.488877   \n",
       "1  b'ZTF17aaaaclo'               155  58443.265602  59290.178947   70.853230   \n",
       "2  b'ZTF17aaaaffg'                35  58305.405590  59119.171389  319.054262   \n",
       "3  b'ZTF17aaaafxg'                62  58350.489236  59292.206030   86.814523   \n",
       "4  b'ZTF17aaaaguj'               166  58366.442083  59275.261806   69.468774   \n",
       "5  b'ZTF17aaaarde'               172  58382.497002  59292.202731   59.516684   \n",
       "6  b'ZTF17aaaarvk'                19  58426.412153  59194.261574   57.009040   \n",
       "7  b'ZTF17aaaasty'                10  58347.470475  59218.187963   58.068906   \n",
       "8  b'ZTF17aaaatqi'                 4  58694.465718  59110.455428   65.549200   \n",
       "9  b'ZTF17aaabaoc'                42  58357.445880  59280.163287   81.885257   \n",
       "\n",
       "     MeanDEC  MeanMag_g  MeanMag_r  MeanMagPSF_g  MeanMagPSF_r  AsteroidProb  \n",
       "0  45.109846  18.585226  15.465914     18.671388     15.683508      0.985637  \n",
       "1   7.201669  16.718228  16.591636     16.730911     16.600370      0.996855  \n",
       "2  48.314584        NaN  15.706846           NaN     15.751171      0.973989  \n",
       "3  30.605866  19.890961  18.200003     19.920737     18.181950      0.983012  \n",
       "4  38.992608  16.895834  15.595335     16.906119     15.596677      1.000000  \n",
       "5  54.346128  18.672375  16.444349     18.680382     16.433505      0.977670  \n",
       "6  51.659964        NaN  16.206960           NaN     16.183672      0.995633  \n",
       "7  57.550521  16.609998  16.039139     16.604758     16.056506      0.984839  \n",
       "8  16.172235  16.956010  15.020318     16.792597     15.187533      0.963381  \n",
       "9  35.044659  18.930029  17.287681     18.990055     17.289737      1.000000  "
      ],
      "text/html": "<div>\n<style scoped>\n    .dataframe tbody tr th:only-of-type {\n        vertical-align: middle;\n    }\n\n    .dataframe tbody tr th {\n        vertical-align: top;\n    }\n\n    .dataframe thead th {\n        text-align: right;\n    }\n</style>\n<table border=\"1\" class=\"dataframe\">\n  <thead>\n    <tr style=\"text-align: right;\">\n      <th></th>\n      <th>ObjectCD</th>\n      <th>ObservationCount</th>\n      <th>mjd0</th>\n      <th>mjd1</th>\n      <th>MeanRA</th>\n      <th>MeanDEC</th>\n      <th>MeanMag_g</th>\n      <th>MeanMag_r</th>\n      <th>MeanMagPSF_g</th>\n      <th>MeanMagPSF_r</th>\n      <th>AsteroidProb</th>\n    </tr>\n  </thead>\n  <tbody>\n    <tr>\n      <th>0</th>\n      <td>b'ZTF17aaaaasi'</td>\n      <td>347</td>\n      <td>58280.428194</td>\n      <td>59210.110914</td>\n      <td>324.488877</td>\n      <td>45.109846</td>\n      <td>18.585226</td>\n      <td>15.465914</td>\n      <td>18.671388</td>\n      <td>15.683508</td>\n      <td>0.985637</td>\n    </tr>\n    <tr>\n      <th>1</th>\n      <td>b'ZTF17aaaaclo'</td>\n      <td>155</td>\n      <td>58443.265602</td>\n      <td>59290.178947</td>\n      <td>70.853230</td>\n      <td>7.201669</td>\n      <td>16.718228</td>\n      <td>16.591636</td>\n      <td>16.730911</td>\n      <td>16.600370</td>\n      <td>0.996855</td>\n    </tr>\n    <tr>\n      <th>2</th>\n      <td>b'ZTF17aaaaffg'</td>\n      <td>35</td>\n      <td>58305.405590</td>\n      <td>59119.171389</td>\n      <td>319.054262</td>\n      <td>48.314584</td>\n      <td>NaN</td>\n      <td>15.706846</td>\n      <td>NaN</td>\n      <td>15.751171</td>\n      <td>0.973989</td>\n    </tr>\n    <tr>\n      <th>3</th>\n      <td>b'ZTF17aaaafxg'</td>\n      <td>62</td>\n      <td>58350.489236</td>\n      <td>59292.206030</td>\n      <td>86.814523</td>\n      <td>30.605866</td>\n      <td>19.890961</td>\n      <td>18.200003</td>\n      <td>19.920737</td>\n      <td>18.181950</td>\n      <td>0.983012</td>\n    </tr>\n    <tr>\n      <th>4</th>\n      <td>b'ZTF17aaaaguj'</td>\n      <td>166</td>\n      <td>58366.442083</td>\n      <td>59275.261806</td>\n      <td>69.468774</td>\n      <td>38.992608</td>\n      <td>16.895834</td>\n      <td>15.595335</td>\n      <td>16.906119</td>\n      <td>15.596677</td>\n      <td>1.000000</td>\n    </tr>\n    <tr>\n      <th>5</th>\n      <td>b'ZTF17aaaarde'</td>\n      <td>172</td>\n      <td>58382.497002</td>\n      <td>59292.202731</td>\n      <td>59.516684</td>\n      <td>54.346128</td>\n      <td>18.672375</td>\n      <td>16.444349</td>\n      <td>18.680382</td>\n      <td>16.433505</td>\n      <td>0.977670</td>\n    </tr>\n    <tr>\n      <th>6</th>\n      <td>b'ZTF17aaaarvk'</td>\n      <td>19</td>\n      <td>58426.412153</td>\n      <td>59194.261574</td>\n      <td>57.009040</td>\n      <td>51.659964</td>\n      <td>NaN</td>\n      <td>16.206960</td>\n      <td>NaN</td>\n      <td>16.183672</td>\n      <td>0.995633</td>\n    </tr>\n    <tr>\n      <th>7</th>\n      <td>b'ZTF17aaaasty'</td>\n      <td>10</td>\n      <td>58347.470475</td>\n      <td>59218.187963</td>\n      <td>58.068906</td>\n      <td>57.550521</td>\n      <td>16.609998</td>\n      <td>16.039139</td>\n      <td>16.604758</td>\n      <td>16.056506</td>\n      <td>0.984839</td>\n    </tr>\n    <tr>\n      <th>8</th>\n      <td>b'ZTF17aaaatqi'</td>\n      <td>4</td>\n      <td>58694.465718</td>\n      <td>59110.455428</td>\n      <td>65.549200</td>\n      <td>16.172235</td>\n      <td>16.956010</td>\n      <td>15.020318</td>\n      <td>16.792597</td>\n      <td>15.187533</td>\n      <td>0.963381</td>\n    </tr>\n    <tr>\n      <th>9</th>\n      <td>b'ZTF17aaabaoc'</td>\n      <td>42</td>\n      <td>58357.445880</td>\n      <td>59280.163287</td>\n      <td>81.885257</td>\n      <td>35.044659</td>\n      <td>18.930029</td>\n      <td>17.287681</td>\n      <td>18.990055</td>\n      <td>17.289737</td>\n      <td>1.000000</td>\n    </tr>\n  </tbody>\n</table>\n</div>"
     },
     "metadata": {},
     "execution_count": 6
    }
   ],
   "source": [
    "df_obj = load_ztf_objects(0, 10)\n",
    "df_obj"
   ]
  },
  {
   "cell_type": "code",
   "execution_count": 7,
   "metadata": {},
   "outputs": [
    {
     "output_type": "execute_result",
     "data": {
      "text/plain": [
       "ObjectCD               |S12\n",
       "ObservationCount      int64\n",
       "mjd0                float64\n",
       "mjd1                float64\n",
       "MeanRA              float64\n",
       "MeanDEC             float64\n",
       "MeanMag_g           float64\n",
       "MeanMag_r           float64\n",
       "MeanMagPSF_g        float64\n",
       "MeanMagPSF_r        float64\n",
       "AsteroidProb        float64\n",
       "dtype: object"
      ]
     },
     "metadata": {},
     "execution_count": 7
    }
   ],
   "source": [
    "df_obj.dtypes"
   ]
  },
  {
   "cell_type": "code",
   "execution_count": 8,
   "metadata": {},
   "outputs": [
    {
     "output_type": "execute_result",
     "data": {
      "text/plain": [
       "          ObjectCD  ObservationCount          mjd0          mjd1      MeanRA  \\\n",
       "0  b'ZTF17aaabdov'               303  58345.493646  59278.156447   82.594384   \n",
       "1  b'ZTF17aaabfgy'               249  58385.497187  59278.153125   93.428447   \n",
       "2  b'ZTF17aaabfne'                16  58455.322859  59276.151586   80.091843   \n",
       "3  b'ZTF17aaabmkt'                90  58437.432940  59251.191030   85.323347   \n",
       "4  b'ZTF17aaabnpx'                36  58487.261794  59193.263796   84.532726   \n",
       "5  b'ZTF17aaabtdn'                72  58281.433924  59223.118935  320.506231   \n",
       "6  b'ZTF17aaabvov'                33  58373.494965  59278.156447   87.536587   \n",
       "7  b'ZTF17aaabvze'                59  58371.506944  59275.249178   88.972336   \n",
       "8  b'ZTF17aaabwth'               181  58318.421840  59267.199433   31.961055   \n",
       "9  b'ZTF17aaabxwz'               118  58437.430208  59268.236146   77.629430   \n",
       "\n",
       "     MeanDEC  MeanMag_g  MeanMag_r  MeanMagPSF_g  MeanMagPSF_r  AsteroidProb  \n",
       "0  36.485451  17.985296  16.818683     18.006860     16.824886      0.970335  \n",
       "1   9.175317  16.658608  16.003858     16.655999     16.018764      0.984581  \n",
       "2  17.324737  16.479459  16.331167     16.477189     16.327333      1.000000  \n",
       "3  14.774963  18.894710  18.030440     18.898542     18.062447      1.000000  \n",
       "4  16.072975  18.595087  17.419242     18.571584     17.438825      0.990201  \n",
       "5  50.874604  19.200991  17.014039     19.223782     17.016842      0.953554  \n",
       "6  35.064753  18.071466  17.081852     18.067973     17.063035      0.994096  \n",
       "7  36.056521  17.587325  16.699766     17.629865     16.697760      0.990497  \n",
       "8  53.358850  16.404493  15.855650     16.397319     15.869925      0.974159  \n",
       "9  21.481125  17.696143  16.930697     17.643548     16.950860      0.986144  "
      ],
      "text/html": "<div>\n<style scoped>\n    .dataframe tbody tr th:only-of-type {\n        vertical-align: middle;\n    }\n\n    .dataframe tbody tr th {\n        vertical-align: top;\n    }\n\n    .dataframe thead th {\n        text-align: right;\n    }\n</style>\n<table border=\"1\" class=\"dataframe\">\n  <thead>\n    <tr style=\"text-align: right;\">\n      <th></th>\n      <th>ObjectCD</th>\n      <th>ObservationCount</th>\n      <th>mjd0</th>\n      <th>mjd1</th>\n      <th>MeanRA</th>\n      <th>MeanDEC</th>\n      <th>MeanMag_g</th>\n      <th>MeanMag_r</th>\n      <th>MeanMagPSF_g</th>\n      <th>MeanMagPSF_r</th>\n      <th>AsteroidProb</th>\n    </tr>\n  </thead>\n  <tbody>\n    <tr>\n      <th>0</th>\n      <td>b'ZTF17aaabdov'</td>\n      <td>303</td>\n      <td>58345.493646</td>\n      <td>59278.156447</td>\n      <td>82.594384</td>\n      <td>36.485451</td>\n      <td>17.985296</td>\n      <td>16.818683</td>\n      <td>18.006860</td>\n      <td>16.824886</td>\n      <td>0.970335</td>\n    </tr>\n    <tr>\n      <th>1</th>\n      <td>b'ZTF17aaabfgy'</td>\n      <td>249</td>\n      <td>58385.497187</td>\n      <td>59278.153125</td>\n      <td>93.428447</td>\n      <td>9.175317</td>\n      <td>16.658608</td>\n      <td>16.003858</td>\n      <td>16.655999</td>\n      <td>16.018764</td>\n      <td>0.984581</td>\n    </tr>\n    <tr>\n      <th>2</th>\n      <td>b'ZTF17aaabfne'</td>\n      <td>16</td>\n      <td>58455.322859</td>\n      <td>59276.151586</td>\n      <td>80.091843</td>\n      <td>17.324737</td>\n      <td>16.479459</td>\n      <td>16.331167</td>\n      <td>16.477189</td>\n      <td>16.327333</td>\n      <td>1.000000</td>\n    </tr>\n    <tr>\n      <th>3</th>\n      <td>b'ZTF17aaabmkt'</td>\n      <td>90</td>\n      <td>58437.432940</td>\n      <td>59251.191030</td>\n      <td>85.323347</td>\n      <td>14.774963</td>\n      <td>18.894710</td>\n      <td>18.030440</td>\n      <td>18.898542</td>\n      <td>18.062447</td>\n      <td>1.000000</td>\n    </tr>\n    <tr>\n      <th>4</th>\n      <td>b'ZTF17aaabnpx'</td>\n      <td>36</td>\n      <td>58487.261794</td>\n      <td>59193.263796</td>\n      <td>84.532726</td>\n      <td>16.072975</td>\n      <td>18.595087</td>\n      <td>17.419242</td>\n      <td>18.571584</td>\n      <td>17.438825</td>\n      <td>0.990201</td>\n    </tr>\n    <tr>\n      <th>5</th>\n      <td>b'ZTF17aaabtdn'</td>\n      <td>72</td>\n      <td>58281.433924</td>\n      <td>59223.118935</td>\n      <td>320.506231</td>\n      <td>50.874604</td>\n      <td>19.200991</td>\n      <td>17.014039</td>\n      <td>19.223782</td>\n      <td>17.016842</td>\n      <td>0.953554</td>\n    </tr>\n    <tr>\n      <th>6</th>\n      <td>b'ZTF17aaabvov'</td>\n      <td>33</td>\n      <td>58373.494965</td>\n      <td>59278.156447</td>\n      <td>87.536587</td>\n      <td>35.064753</td>\n      <td>18.071466</td>\n      <td>17.081852</td>\n      <td>18.067973</td>\n      <td>17.063035</td>\n      <td>0.994096</td>\n    </tr>\n    <tr>\n      <th>7</th>\n      <td>b'ZTF17aaabvze'</td>\n      <td>59</td>\n      <td>58371.506944</td>\n      <td>59275.249178</td>\n      <td>88.972336</td>\n      <td>36.056521</td>\n      <td>17.587325</td>\n      <td>16.699766</td>\n      <td>17.629865</td>\n      <td>16.697760</td>\n      <td>0.990497</td>\n    </tr>\n    <tr>\n      <th>8</th>\n      <td>b'ZTF17aaabwth'</td>\n      <td>181</td>\n      <td>58318.421840</td>\n      <td>59267.199433</td>\n      <td>31.961055</td>\n      <td>53.358850</td>\n      <td>16.404493</td>\n      <td>15.855650</td>\n      <td>16.397319</td>\n      <td>15.869925</td>\n      <td>0.974159</td>\n    </tr>\n    <tr>\n      <th>9</th>\n      <td>b'ZTF17aaabxwz'</td>\n      <td>118</td>\n      <td>58437.430208</td>\n      <td>59268.236146</td>\n      <td>77.629430</td>\n      <td>21.481125</td>\n      <td>17.696143</td>\n      <td>16.930697</td>\n      <td>17.643548</td>\n      <td>16.950860</td>\n      <td>0.986144</td>\n    </tr>\n  </tbody>\n</table>\n</div>"
     },
     "metadata": {},
     "execution_count": 8
    }
   ],
   "source": [
    "load_ztf_objects(10, 10)"
   ]
  },
  {
   "cell_type": "code",
   "execution_count": null,
   "metadata": {},
   "outputs": [],
   "source": []
  }
 ],
 "metadata": {
  "kernelspec": {
   "display_name": "kepler",
   "language": "python",
   "name": "kepler"
  },
  "language_info": {
   "codemirror_mode": {
    "name": "ipython",
    "version": 3
   },
   "file_extension": ".py",
   "mimetype": "text/x-python",
   "name": "python",
   "nbconvert_exporter": "python",
   "pygments_lexer": "ipython3",
   "version": "3.8.8-final"
  }
 },
 "nbformat": 4,
 "nbformat_minor": 4
}