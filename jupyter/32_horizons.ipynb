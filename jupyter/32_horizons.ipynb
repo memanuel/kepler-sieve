{
 "cells": [
  {
   "cell_type": "markdown",
   "metadata": {},
   "source": [
    "# Load Horizons Data into KeplerDB"
   ]
  },
  {
   "cell_type": "code",
   "execution_count": 1,
   "metadata": {},
   "outputs": [],
   "source": [
    "# Core\n",
    "import numpy as np\n",
    "import pandas as pd\n",
    "\n",
    "# Utility\n",
    "import re\n",
    "import glob\n",
    "import time\n",
    "\n",
    "# Database\n",
    "import sqlalchemy\n",
    "from sqlalchemy import create_engine"
   ]
  },
  {
   "cell_type": "code",
   "execution_count": 3,
   "metadata": {},
   "outputs": [],
   "source": [
    "# MSE imports\n",
    "import kepler_sieve\n",
    "from horizons_files import hrzn_load_db, ast_elt_load_db\n",
    "from horizons_files import hrzn_txt2csv, hrzn_csv2df, hrzn_df2db, hrzn_txt2db, hrzn_csv2db\n",
    "from asteroid_element import load_ast_elt, load_data_impl, convert_data\n",
    "from astro_utils import anomaly_M2E, anomaly_E2f\n",
    "import db_config"
   ]
  },
  {
   "cell_type": "markdown",
   "metadata": {},
   "source": [
    "## Load all the Horizons CSV Files into JPL.HorizonsImport"
   ]
  },
  {
   "cell_type": "code",
   "execution_count": 4,
   "metadata": {},
   "outputs": [],
   "source": [
    "# hrzn_load()"
   ]
  },
  {
   "cell_type": "markdown",
   "metadata": {},
   "source": [
    "## Testing - Load CSV, Display as DataFrame"
   ]
  },
  {
   "cell_type": "code",
   "execution_count": 5,
   "metadata": {},
   "outputs": [],
   "source": [
    "fname_txt = '../data/jpl/horizons/planets/daily/010_sun.txt'\n",
    "# fname_txt = '../data/jpl/horizons/planets/daily/001_mercury_barycenter.txt'\n",
    "# fname_txt = '../data/jpl/horizons/moons/daily/301_moon.txt'\n",
    "# fname_txt = '../data/jpl/horizons/asteroids/weekly/ast_0001.txt'"
   ]
  },
  {
   "cell_type": "code",
   "execution_count": 6,
   "metadata": {},
   "outputs": [],
   "source": [
    "fname_csv = hrzn_txt2csv(fname_txt)"
   ]
  },
  {
   "cell_type": "code",
   "execution_count": 7,
   "metadata": {},
   "outputs": [
    {
     "data": {
      "text/plain": [
       "'/ssd1/tmp/mysql/jpl/010_sun.csv'"
      ]
     },
     "execution_count": 7,
     "metadata": {},
     "output_type": "execute_result"
    }
   ],
   "source": [
    "fname_csv"
   ]
  },
  {
   "cell_type": "code",
   "execution_count": 8,
   "metadata": {},
   "outputs": [],
   "source": [
    "df = hrzn_csv2df(fname_csv)"
   ]
  },
  {
   "cell_type": "code",
   "execution_count": 9,
   "metadata": {},
   "outputs": [],
   "source": [
    "pd.set_option('display.max_rows', 10)"
   ]
  },
  {
   "cell_type": "code",
   "execution_count": 10,
   "metadata": {},
   "outputs": [
    {
     "data": {
      "text/html": [
       "<div>\n",
       "<style scoped>\n",
       "    .dataframe tbody tr th:only-of-type {\n",
       "        vertical-align: middle;\n",
       "    }\n",
       "\n",
       "    .dataframe tbody tr th {\n",
       "        vertical-align: top;\n",
       "    }\n",
       "\n",
       "    .dataframe thead th {\n",
       "        text-align: right;\n",
       "    }\n",
       "</style>\n",
       "<table border=\"1\" class=\"dataframe\">\n",
       "  <thead>\n",
       "    <tr style=\"text-align: right;\">\n",
       "      <th></th>\n",
       "      <th>BodyTypeCD</th>\n",
       "      <th>BodyNumber</th>\n",
       "      <th>BodyName</th>\n",
       "      <th>IntegrationSource</th>\n",
       "      <th>JD</th>\n",
       "      <th>CalendarDateTime</th>\n",
       "      <th>delta_T</th>\n",
       "      <th>qx</th>\n",
       "      <th>qy</th>\n",
       "      <th>qz</th>\n",
       "      <th>vx</th>\n",
       "      <th>vy</th>\n",
       "      <th>vz</th>\n",
       "    </tr>\n",
       "  </thead>\n",
       "  <tbody>\n",
       "    <tr>\n",
       "      <th>0</th>\n",
       "      <td>S</td>\n",
       "      <td>10</td>\n",
       "      <td>Sun</td>\n",
       "      <td>DE431mx</td>\n",
       "      <td>2440400.5</td>\n",
       "      <td>1969-06-28</td>\n",
       "      <td>39.699541</td>\n",
       "      <td>0.004503</td>\n",
       "      <td>0.000810</td>\n",
       "      <td>-0.000061</td>\n",
       "      <td>-3.517495e-07</td>\n",
       "      <td>0.000006</td>\n",
       "      <td>-1.438024e-08</td>\n",
       "    </tr>\n",
       "    <tr>\n",
       "      <th>1</th>\n",
       "      <td>S</td>\n",
       "      <td>10</td>\n",
       "      <td>Sun</td>\n",
       "      <td>DE431mx</td>\n",
       "      <td>2440401.5</td>\n",
       "      <td>1969-06-29</td>\n",
       "      <td>39.702104</td>\n",
       "      <td>0.004502</td>\n",
       "      <td>0.000815</td>\n",
       "      <td>-0.000061</td>\n",
       "      <td>-3.587527e-07</td>\n",
       "      <td>0.000006</td>\n",
       "      <td>-1.432102e-08</td>\n",
       "    </tr>\n",
       "    <tr>\n",
       "      <th>2</th>\n",
       "      <td>S</td>\n",
       "      <td>10</td>\n",
       "      <td>Sun</td>\n",
       "      <td>DE431mx</td>\n",
       "      <td>2440402.5</td>\n",
       "      <td>1969-06-30</td>\n",
       "      <td>39.704668</td>\n",
       "      <td>0.004502</td>\n",
       "      <td>0.000821</td>\n",
       "      <td>-0.000061</td>\n",
       "      <td>-3.657021e-07</td>\n",
       "      <td>0.000006</td>\n",
       "      <td>-1.426221e-08</td>\n",
       "    </tr>\n",
       "    <tr>\n",
       "      <th>3</th>\n",
       "      <td>S</td>\n",
       "      <td>10</td>\n",
       "      <td>Sun</td>\n",
       "      <td>DE431mx</td>\n",
       "      <td>2440403.5</td>\n",
       "      <td>1969-07-01</td>\n",
       "      <td>39.707232</td>\n",
       "      <td>0.004501</td>\n",
       "      <td>0.000827</td>\n",
       "      <td>-0.000061</td>\n",
       "      <td>-3.725998e-07</td>\n",
       "      <td>0.000006</td>\n",
       "      <td>-1.420343e-08</td>\n",
       "    </tr>\n",
       "    <tr>\n",
       "      <th>4</th>\n",
       "      <td>S</td>\n",
       "      <td>10</td>\n",
       "      <td>Sun</td>\n",
       "      <td>DE431mx</td>\n",
       "      <td>2440404.5</td>\n",
       "      <td>1969-07-02</td>\n",
       "      <td>39.709795</td>\n",
       "      <td>0.004501</td>\n",
       "      <td>0.000832</td>\n",
       "      <td>-0.000061</td>\n",
       "      <td>-3.794481e-07</td>\n",
       "      <td>0.000006</td>\n",
       "      <td>-1.414425e-08</td>\n",
       "    </tr>\n",
       "    <tr>\n",
       "      <th>...</th>\n",
       "      <td>...</td>\n",
       "      <td>...</td>\n",
       "      <td>...</td>\n",
       "      <td>...</td>\n",
       "      <td>...</td>\n",
       "      <td>...</td>\n",
       "      <td>...</td>\n",
       "      <td>...</td>\n",
       "      <td>...</td>\n",
       "      <td>...</td>\n",
       "      <td>...</td>\n",
       "      <td>...</td>\n",
       "      <td>...</td>\n",
       "    </tr>\n",
       "    <tr>\n",
       "      <th>37196</th>\n",
       "      <td>S</td>\n",
       "      <td>10</td>\n",
       "      <td>Sun</td>\n",
       "      <td>DE431mx</td>\n",
       "      <td>2477596.5</td>\n",
       "      <td>2071-04-30</td>\n",
       "      <td>69.185505</td>\n",
       "      <td>-0.000708</td>\n",
       "      <td>-0.002510</td>\n",
       "      <td>-0.000002</td>\n",
       "      <td>4.158106e-06</td>\n",
       "      <td>-0.000004</td>\n",
       "      <td>-8.460845e-08</td>\n",
       "    </tr>\n",
       "    <tr>\n",
       "      <th>37197</th>\n",
       "      <td>S</td>\n",
       "      <td>10</td>\n",
       "      <td>Sun</td>\n",
       "      <td>DE431mx</td>\n",
       "      <td>2477597.5</td>\n",
       "      <td>2071-05-01</td>\n",
       "      <td>69.185494</td>\n",
       "      <td>-0.000704</td>\n",
       "      <td>-0.002514</td>\n",
       "      <td>-0.000002</td>\n",
       "      <td>4.164001e-06</td>\n",
       "      <td>-0.000004</td>\n",
       "      <td>-8.473888e-08</td>\n",
       "    </tr>\n",
       "    <tr>\n",
       "      <th>37198</th>\n",
       "      <td>S</td>\n",
       "      <td>10</td>\n",
       "      <td>Sun</td>\n",
       "      <td>DE431mx</td>\n",
       "      <td>2477598.5</td>\n",
       "      <td>2071-05-02</td>\n",
       "      <td>69.185482</td>\n",
       "      <td>-0.000700</td>\n",
       "      <td>-0.002518</td>\n",
       "      <td>-0.000002</td>\n",
       "      <td>4.169895e-06</td>\n",
       "      <td>-0.000004</td>\n",
       "      <td>-8.487000e-08</td>\n",
       "    </tr>\n",
       "    <tr>\n",
       "      <th>37199</th>\n",
       "      <td>S</td>\n",
       "      <td>10</td>\n",
       "      <td>Sun</td>\n",
       "      <td>DE431mx</td>\n",
       "      <td>2477599.5</td>\n",
       "      <td>2071-05-03</td>\n",
       "      <td>69.185470</td>\n",
       "      <td>-0.000696</td>\n",
       "      <td>-0.002522</td>\n",
       "      <td>-0.000002</td>\n",
       "      <td>4.175791e-06</td>\n",
       "      <td>-0.000004</td>\n",
       "      <td>-8.500189e-08</td>\n",
       "    </tr>\n",
       "    <tr>\n",
       "      <th>37200</th>\n",
       "      <td>S</td>\n",
       "      <td>10</td>\n",
       "      <td>Sun</td>\n",
       "      <td>DE431mx</td>\n",
       "      <td>2477600.5</td>\n",
       "      <td>2071-05-04</td>\n",
       "      <td>69.185457</td>\n",
       "      <td>-0.000692</td>\n",
       "      <td>-0.002526</td>\n",
       "      <td>-0.000002</td>\n",
       "      <td>4.181689e-06</td>\n",
       "      <td>-0.000004</td>\n",
       "      <td>-8.513458e-08</td>\n",
       "    </tr>\n",
       "  </tbody>\n",
       "</table>\n",
       "<p>37201 rows × 13 columns</p>\n",
       "</div>"
      ],
      "text/plain": [
       "      BodyTypeCD  BodyNumber BodyName IntegrationSource         JD  \\\n",
       "0              S          10      Sun           DE431mx  2440400.5   \n",
       "1              S          10      Sun           DE431mx  2440401.5   \n",
       "2              S          10      Sun           DE431mx  2440402.5   \n",
       "3              S          10      Sun           DE431mx  2440403.5   \n",
       "4              S          10      Sun           DE431mx  2440404.5   \n",
       "...          ...         ...      ...               ...        ...   \n",
       "37196          S          10      Sun           DE431mx  2477596.5   \n",
       "37197          S          10      Sun           DE431mx  2477597.5   \n",
       "37198          S          10      Sun           DE431mx  2477598.5   \n",
       "37199          S          10      Sun           DE431mx  2477599.5   \n",
       "37200          S          10      Sun           DE431mx  2477600.5   \n",
       "\n",
       "      CalendarDateTime    delta_T        qx        qy        qz            vx  \\\n",
       "0           1969-06-28  39.699541  0.004503  0.000810 -0.000061 -3.517495e-07   \n",
       "1           1969-06-29  39.702104  0.004502  0.000815 -0.000061 -3.587527e-07   \n",
       "2           1969-06-30  39.704668  0.004502  0.000821 -0.000061 -3.657021e-07   \n",
       "3           1969-07-01  39.707232  0.004501  0.000827 -0.000061 -3.725998e-07   \n",
       "4           1969-07-02  39.709795  0.004501  0.000832 -0.000061 -3.794481e-07   \n",
       "...                ...        ...       ...       ...       ...           ...   \n",
       "37196       2071-04-30  69.185505 -0.000708 -0.002510 -0.000002  4.158106e-06   \n",
       "37197       2071-05-01  69.185494 -0.000704 -0.002514 -0.000002  4.164001e-06   \n",
       "37198       2071-05-02  69.185482 -0.000700 -0.002518 -0.000002  4.169895e-06   \n",
       "37199       2071-05-03  69.185470 -0.000696 -0.002522 -0.000002  4.175791e-06   \n",
       "37200       2071-05-04  69.185457 -0.000692 -0.002526 -0.000002  4.181689e-06   \n",
       "\n",
       "             vy            vz  \n",
       "0      0.000006 -1.438024e-08  \n",
       "1      0.000006 -1.432102e-08  \n",
       "2      0.000006 -1.426221e-08  \n",
       "3      0.000006 -1.420343e-08  \n",
       "4      0.000006 -1.414425e-08  \n",
       "...         ...           ...  \n",
       "37196 -0.000004 -8.460845e-08  \n",
       "37197 -0.000004 -8.473888e-08  \n",
       "37198 -0.000004 -8.487000e-08  \n",
       "37199 -0.000004 -8.500189e-08  \n",
       "37200 -0.000004 -8.513458e-08  \n",
       "\n",
       "[37201 rows x 13 columns]"
      ]
     },
     "execution_count": 10,
     "metadata": {},
     "output_type": "execute_result"
    }
   ],
   "source": [
    "df"
   ]
  },
  {
   "cell_type": "markdown",
   "metadata": {},
   "source": [
    "## Testing - Populate Database from CSV"
   ]
  },
  {
   "cell_type": "code",
   "execution_count": 11,
   "metadata": {},
   "outputs": [],
   "source": [
    "connection_str = f'mysql+pymysql://{db_config.username}:{db_config.password}@{db_config.hostname}/JPL'"
   ]
  },
  {
   "cell_type": "code",
   "execution_count": 12,
   "metadata": {},
   "outputs": [],
   "source": [
    "engine = create_engine(connection_str)"
   ]
  },
  {
   "cell_type": "code",
   "execution_count": 13,
   "metadata": {},
   "outputs": [
    {
     "data": {
      "text/plain": [
       "['AsteroidElement',\n",
       " 'AsteroidElement_Numbered',\n",
       " 'AsteroidElement_Unnumbered',\n",
       " 'HorizonsBody',\n",
       " 'HorizonsImport',\n",
       " 'HorizonsTime',\n",
       " 'HorizonsVectors',\n",
       " 'LargeBody',\n",
       " 'SmallBody']"
      ]
     },
     "execution_count": 13,
     "metadata": {},
     "output_type": "execute_result"
    }
   ],
   "source": [
    "engine.table_names()"
   ]
  },
  {
   "cell_type": "code",
   "execution_count": 14,
   "metadata": {},
   "outputs": [],
   "source": [
    "# hrzn_txt2db(fname_txt)"
   ]
  },
  {
   "cell_type": "markdown",
   "metadata": {},
   "source": [
    "## Load the Asteroid Orbital Elements from JPL"
   ]
  },
  {
   "cell_type": "code",
   "execution_count": 15,
   "metadata": {},
   "outputs": [],
   "source": [
    "# ast_elt_load_db()"
   ]
  },
  {
   "cell_type": "code",
   "execution_count": null,
   "metadata": {},
   "outputs": [],
   "source": [
    "ast_elt = load_ast_elt()"
   ]
  },
  {
   "cell_type": "code",
   "execution_count": null,
   "metadata": {},
   "outputs": [],
   "source": [
    "ast_elt"
   ]
  },
  {
   "cell_type": "code",
   "execution_count": null,
   "metadata": {},
   "outputs": [],
   "source": []
  }
 ],
 "metadata": {
  "kernelspec": {
   "display_name": "Python [conda env:kepler]",
   "language": "python",
   "name": "conda-env-kepler-py"
  },
  "language_info": {
   "codemirror_mode": {
    "name": "ipython",
    "version": 3
   },
   "file_extension": ".py",
   "mimetype": "text/x-python",
   "name": "python",
   "nbconvert_exporter": "python",
   "pygments_lexer": "ipython3",
   "version": "3.7.6"
  }
 },
 "nbformat": 4,
 "nbformat_minor": 4
}
