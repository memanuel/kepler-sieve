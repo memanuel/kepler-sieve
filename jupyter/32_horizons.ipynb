{
 "cells": [
  {
   "cell_type": "markdown",
   "metadata": {},
   "source": [
    "# Load Horizons Data into KeplerDB"
   ]
  },
  {
   "cell_type": "code",
   "execution_count": 9,
   "metadata": {},
   "outputs": [],
   "source": [
    "# Core\n",
    "import numpy as np\n",
    "import pandas as pd\n",
    "\n",
    "# Utility\n",
    "import re\n",
    "import glob\n",
    "import time\n",
    "\n",
    "# Database\n",
    "import sqlalchemy\n",
    "from sqlalchemy import create_engine"
   ]
  },
  {
   "cell_type": "code",
   "execution_count": 2,
   "metadata": {},
   "outputs": [],
   "source": [
    "# MSE imports\n",
    "import kepler_sieve\n",
    "from horizons_files import hrzn_txt2csv, hrzn_csv2df, hrzn_df2db, hrzn_txt2db, hrzn_load\n",
    "import db_config"
   ]
  },
  {
   "cell_type": "code",
   "execution_count": 3,
   "metadata": {},
   "outputs": [],
   "source": [
    "# fname_txt = '../data/jpl/horizons/planets/001_mercury_barycenter.txt'\n",
    "# fname_txt = '../data/jpl/horizons/planets/010_sun.txt'\n",
    "fname_txt = '../data/jpl/horizons/asteroids/ast_0001.txt'"
   ]
  },
  {
   "cell_type": "code",
   "execution_count": null,
   "metadata": {},
   "outputs": [],
   "source": [
    "with open(fname_txt) as fh:\n",
    "    lines = fh.readlines()"
   ]
  },
  {
   "cell_type": "code",
   "execution_count": null,
   "metadata": {},
   "outputs": [],
   "source": [
    "for line in lines:\n",
    "    if line[0:18] == 'Target body name: ':\n",
    "        target_body = line[18:]\n",
    "        break"
   ]
  },
  {
   "cell_type": "code",
   "execution_count": null,
   "metadata": {},
   "outputs": [],
   "source": [
    "target_body"
   ]
  },
  {
   "cell_type": "code",
   "execution_count": null,
   "metadata": {},
   "outputs": [],
   "source": [
    "# regex search pattern\n",
    "# p = re.compile('(^.+) \\(([\\d]+)\\)[\\s]+\\{source: (.+)\\}\\n$')\n",
    "p = re.compile('(^[0-9]+) (.+) \\(.*\\)[\\s]+\\{source: (.+)\\}\\n$')"
   ]
  },
  {
   "cell_type": "code",
   "execution_count": null,
   "metadata": {},
   "outputs": [],
   "source": [
    "# extract name, number, and source from the target body string\n",
    "srch = p.search(target_body)\n",
    "print(srch.group(1))\n",
    "print(srch.group(2))\n",
    "print(srch.group(3))\n",
    "# body_name = srch.group(1)\n",
    "# body_number = srch.group(2)\n",
    "# integration_source = srch.group(3)"
   ]
  },
  {
   "cell_type": "code",
   "execution_count": null,
   "metadata": {},
   "outputs": [],
   "source": [
    "'ast_' in fname_txt"
   ]
  },
  {
   "cell_type": "code",
   "execution_count": null,
   "metadata": {},
   "outputs": [],
   "source": [
    "srch.group(3)"
   ]
  },
  {
   "cell_type": "code",
   "execution_count": 4,
   "metadata": {},
   "outputs": [],
   "source": [
    "fname_csv = hrzn_txt2csv(fname_txt)"
   ]
  },
  {
   "cell_type": "code",
   "execution_count": 5,
   "metadata": {},
   "outputs": [],
   "source": [
    "df = hrzn_csv2df(fname_csv)"
   ]
  },
  {
   "cell_type": "code",
   "execution_count": 6,
   "metadata": {},
   "outputs": [],
   "source": [
    "pd.set_option('display.max_rows', 20)"
   ]
  },
  {
   "cell_type": "code",
   "execution_count": 7,
   "metadata": {},
   "outputs": [
    {
     "data": {
      "text/html": [
       "<div>\n",
       "<style scoped>\n",
       "    .dataframe tbody tr th:only-of-type {\n",
       "        vertical-align: middle;\n",
       "    }\n",
       "\n",
       "    .dataframe tbody tr th {\n",
       "        vertical-align: top;\n",
       "    }\n",
       "\n",
       "    .dataframe thead th {\n",
       "        text-align: right;\n",
       "    }\n",
       "</style>\n",
       "<table border=\"1\" class=\"dataframe\">\n",
       "  <thead>\n",
       "    <tr style=\"text-align: right;\">\n",
       "      <th></th>\n",
       "      <th>BodyNumber</th>\n",
       "      <th>BodyName</th>\n",
       "      <th>IntegrationSource</th>\n",
       "      <th>JD</th>\n",
       "      <th>CalendarDateTime</th>\n",
       "      <th>delta_T</th>\n",
       "      <th>qx</th>\n",
       "      <th>qy</th>\n",
       "      <th>qz</th>\n",
       "      <th>vx</th>\n",
       "      <th>vy</th>\n",
       "      <th>vz</th>\n",
       "    </tr>\n",
       "  </thead>\n",
       "  <tbody>\n",
       "    <tr>\n",
       "      <th>0</th>\n",
       "      <td>1</td>\n",
       "      <td>Ceres</td>\n",
       "      <td>JPL#47</td>\n",
       "      <td>2440400.5</td>\n",
       "      <td>1969-06-28</td>\n",
       "      <td>39.699541</td>\n",
       "      <td>1.443184</td>\n",
       "      <td>-2.549274</td>\n",
       "      <td>-0.340158</td>\n",
       "      <td>0.008465</td>\n",
       "      <td>0.004489</td>\n",
       "      <td>-0.001436</td>\n",
       "    </tr>\n",
       "    <tr>\n",
       "      <th>1</th>\n",
       "      <td>1</td>\n",
       "      <td>Ceres</td>\n",
       "      <td>JPL#47</td>\n",
       "      <td>2440405.5</td>\n",
       "      <td>1969-07-03</td>\n",
       "      <td>39.712359</td>\n",
       "      <td>1.485300</td>\n",
       "      <td>-2.526463</td>\n",
       "      <td>-0.347286</td>\n",
       "      <td>0.008381</td>\n",
       "      <td>0.004635</td>\n",
       "      <td>-0.001416</td>\n",
       "    </tr>\n",
       "    <tr>\n",
       "      <th>2</th>\n",
       "      <td>1</td>\n",
       "      <td>Ceres</td>\n",
       "      <td>JPL#47</td>\n",
       "      <td>2440410.5</td>\n",
       "      <td>1969-07-08</td>\n",
       "      <td>39.725179</td>\n",
       "      <td>1.526988</td>\n",
       "      <td>-2.502924</td>\n",
       "      <td>-0.354315</td>\n",
       "      <td>0.008294</td>\n",
       "      <td>0.004780</td>\n",
       "      <td>-0.001396</td>\n",
       "    </tr>\n",
       "    <tr>\n",
       "      <th>3</th>\n",
       "      <td>1</td>\n",
       "      <td>Ceres</td>\n",
       "      <td>JPL#47</td>\n",
       "      <td>2440415.5</td>\n",
       "      <td>1969-07-13</td>\n",
       "      <td>39.738000</td>\n",
       "      <td>1.568239</td>\n",
       "      <td>-2.478664</td>\n",
       "      <td>-0.361242</td>\n",
       "      <td>0.008206</td>\n",
       "      <td>0.004923</td>\n",
       "      <td>-0.001375</td>\n",
       "    </tr>\n",
       "    <tr>\n",
       "      <th>4</th>\n",
       "      <td>1</td>\n",
       "      <td>Ceres</td>\n",
       "      <td>JPL#47</td>\n",
       "      <td>2440420.5</td>\n",
       "      <td>1969-07-18</td>\n",
       "      <td>39.750824</td>\n",
       "      <td>1.609040</td>\n",
       "      <td>-2.453693</td>\n",
       "      <td>-0.368064</td>\n",
       "      <td>0.008115</td>\n",
       "      <td>0.005065</td>\n",
       "      <td>-0.001354</td>\n",
       "    </tr>\n",
       "    <tr>\n",
       "      <th>5</th>\n",
       "      <td>1</td>\n",
       "      <td>Ceres</td>\n",
       "      <td>JPL#47</td>\n",
       "      <td>2440425.5</td>\n",
       "      <td>1969-07-23</td>\n",
       "      <td>39.763650</td>\n",
       "      <td>1.649382</td>\n",
       "      <td>-2.428017</td>\n",
       "      <td>-0.374782</td>\n",
       "      <td>0.008022</td>\n",
       "      <td>0.005205</td>\n",
       "      <td>-0.001333</td>\n",
       "    </tr>\n",
       "    <tr>\n",
       "      <th>6</th>\n",
       "      <td>1</td>\n",
       "      <td>Ceres</td>\n",
       "      <td>JPL#47</td>\n",
       "      <td>2440430.5</td>\n",
       "      <td>1969-07-28</td>\n",
       "      <td>39.776478</td>\n",
       "      <td>1.689253</td>\n",
       "      <td>-2.401648</td>\n",
       "      <td>-0.381392</td>\n",
       "      <td>0.007926</td>\n",
       "      <td>0.005343</td>\n",
       "      <td>-0.001311</td>\n",
       "    </tr>\n",
       "    <tr>\n",
       "      <th>7</th>\n",
       "      <td>1</td>\n",
       "      <td>Ceres</td>\n",
       "      <td>JPL#47</td>\n",
       "      <td>2440435.5</td>\n",
       "      <td>1969-08-02</td>\n",
       "      <td>39.789310</td>\n",
       "      <td>1.728642</td>\n",
       "      <td>-2.374592</td>\n",
       "      <td>-0.387894</td>\n",
       "      <td>0.007829</td>\n",
       "      <td>0.005479</td>\n",
       "      <td>-0.001289</td>\n",
       "    </tr>\n",
       "    <tr>\n",
       "      <th>8</th>\n",
       "      <td>1</td>\n",
       "      <td>Ceres</td>\n",
       "      <td>JPL#47</td>\n",
       "      <td>2440440.5</td>\n",
       "      <td>1969-08-07</td>\n",
       "      <td>39.802149</td>\n",
       "      <td>1.767541</td>\n",
       "      <td>-2.346859</td>\n",
       "      <td>-0.394284</td>\n",
       "      <td>0.007730</td>\n",
       "      <td>0.005614</td>\n",
       "      <td>-0.001267</td>\n",
       "    </tr>\n",
       "    <tr>\n",
       "      <th>9</th>\n",
       "      <td>1</td>\n",
       "      <td>Ceres</td>\n",
       "      <td>JPL#47</td>\n",
       "      <td>2440445.5</td>\n",
       "      <td>1969-08-12</td>\n",
       "      <td>39.814996</td>\n",
       "      <td>1.805937</td>\n",
       "      <td>-2.318458</td>\n",
       "      <td>-0.400563</td>\n",
       "      <td>0.007628</td>\n",
       "      <td>0.005746</td>\n",
       "      <td>-0.001244</td>\n",
       "    </tr>\n",
       "    <tr>\n",
       "      <th>...</th>\n",
       "      <td>...</td>\n",
       "      <td>...</td>\n",
       "      <td>...</td>\n",
       "      <td>...</td>\n",
       "      <td>...</td>\n",
       "      <td>...</td>\n",
       "      <td>...</td>\n",
       "      <td>...</td>\n",
       "      <td>...</td>\n",
       "      <td>...</td>\n",
       "      <td>...</td>\n",
       "      <td>...</td>\n",
       "    </tr>\n",
       "    <tr>\n",
       "      <th>7431</th>\n",
       "      <td>1</td>\n",
       "      <td>Ceres</td>\n",
       "      <td>JPL#47</td>\n",
       "      <td>2477555.5</td>\n",
       "      <td>2071-03-20</td>\n",
       "      <td>69.185581</td>\n",
       "      <td>2.533454</td>\n",
       "      <td>-1.484668</td>\n",
       "      <td>-0.516537</td>\n",
       "      <td>0.004787</td>\n",
       "      <td>0.008259</td>\n",
       "      <td>-0.000597</td>\n",
       "    </tr>\n",
       "    <tr>\n",
       "      <th>7432</th>\n",
       "      <td>1</td>\n",
       "      <td>Ceres</td>\n",
       "      <td>JPL#47</td>\n",
       "      <td>2477560.5</td>\n",
       "      <td>2071-03-25</td>\n",
       "      <td>69.185614</td>\n",
       "      <td>2.557031</td>\n",
       "      <td>-1.443167</td>\n",
       "      <td>-0.519447</td>\n",
       "      <td>0.004644</td>\n",
       "      <td>0.008341</td>\n",
       "      <td>-0.000568</td>\n",
       "    </tr>\n",
       "    <tr>\n",
       "      <th>7433</th>\n",
       "      <td>1</td>\n",
       "      <td>Ceres</td>\n",
       "      <td>JPL#47</td>\n",
       "      <td>2477565.5</td>\n",
       "      <td>2071-03-30</td>\n",
       "      <td>69.185637</td>\n",
       "      <td>2.579895</td>\n",
       "      <td>-1.401263</td>\n",
       "      <td>-0.522212</td>\n",
       "      <td>0.004501</td>\n",
       "      <td>0.008420</td>\n",
       "      <td>-0.000539</td>\n",
       "    </tr>\n",
       "    <tr>\n",
       "      <th>7434</th>\n",
       "      <td>1</td>\n",
       "      <td>Ceres</td>\n",
       "      <td>JPL#47</td>\n",
       "      <td>2477570.5</td>\n",
       "      <td>2071-04-04</td>\n",
       "      <td>69.185648</td>\n",
       "      <td>2.602039</td>\n",
       "      <td>-1.358968</td>\n",
       "      <td>-0.524832</td>\n",
       "      <td>0.004356</td>\n",
       "      <td>0.008497</td>\n",
       "      <td>-0.000509</td>\n",
       "    </tr>\n",
       "    <tr>\n",
       "      <th>7435</th>\n",
       "      <td>1</td>\n",
       "      <td>Ceres</td>\n",
       "      <td>JPL#47</td>\n",
       "      <td>2477575.5</td>\n",
       "      <td>2071-04-09</td>\n",
       "      <td>69.185646</td>\n",
       "      <td>2.623456</td>\n",
       "      <td>-1.316294</td>\n",
       "      <td>-0.527305</td>\n",
       "      <td>0.004210</td>\n",
       "      <td>0.008572</td>\n",
       "      <td>-0.000480</td>\n",
       "    </tr>\n",
       "    <tr>\n",
       "      <th>7436</th>\n",
       "      <td>1</td>\n",
       "      <td>Ceres</td>\n",
       "      <td>JPL#47</td>\n",
       "      <td>2477580.5</td>\n",
       "      <td>2071-04-14</td>\n",
       "      <td>69.185631</td>\n",
       "      <td>2.644141</td>\n",
       "      <td>-1.273253</td>\n",
       "      <td>-0.529631</td>\n",
       "      <td>0.004063</td>\n",
       "      <td>0.008644</td>\n",
       "      <td>-0.000450</td>\n",
       "    </tr>\n",
       "    <tr>\n",
       "      <th>7437</th>\n",
       "      <td>1</td>\n",
       "      <td>Ceres</td>\n",
       "      <td>JPL#47</td>\n",
       "      <td>2477585.5</td>\n",
       "      <td>2071-04-19</td>\n",
       "      <td>69.185603</td>\n",
       "      <td>2.664088</td>\n",
       "      <td>-1.229858</td>\n",
       "      <td>-0.531809</td>\n",
       "      <td>0.003915</td>\n",
       "      <td>0.008714</td>\n",
       "      <td>-0.000421</td>\n",
       "    </tr>\n",
       "    <tr>\n",
       "      <th>7438</th>\n",
       "      <td>1</td>\n",
       "      <td>Ceres</td>\n",
       "      <td>JPL#47</td>\n",
       "      <td>2477590.5</td>\n",
       "      <td>2071-04-24</td>\n",
       "      <td>69.185564</td>\n",
       "      <td>2.683292</td>\n",
       "      <td>-1.186119</td>\n",
       "      <td>-0.533838</td>\n",
       "      <td>0.003766</td>\n",
       "      <td>0.008781</td>\n",
       "      <td>-0.000391</td>\n",
       "    </tr>\n",
       "    <tr>\n",
       "      <th>7439</th>\n",
       "      <td>1</td>\n",
       "      <td>Ceres</td>\n",
       "      <td>JPL#47</td>\n",
       "      <td>2477595.5</td>\n",
       "      <td>2071-04-29</td>\n",
       "      <td>69.185516</td>\n",
       "      <td>2.701746</td>\n",
       "      <td>-1.142050</td>\n",
       "      <td>-0.535719</td>\n",
       "      <td>0.003616</td>\n",
       "      <td>0.008846</td>\n",
       "      <td>-0.000361</td>\n",
       "    </tr>\n",
       "    <tr>\n",
       "      <th>7440</th>\n",
       "      <td>1</td>\n",
       "      <td>Ceres</td>\n",
       "      <td>JPL#47</td>\n",
       "      <td>2477600.5</td>\n",
       "      <td>2071-05-04</td>\n",
       "      <td>69.185457</td>\n",
       "      <td>2.719447</td>\n",
       "      <td>-1.097662</td>\n",
       "      <td>-0.537450</td>\n",
       "      <td>0.003464</td>\n",
       "      <td>0.008909</td>\n",
       "      <td>-0.000331</td>\n",
       "    </tr>\n",
       "  </tbody>\n",
       "</table>\n",
       "<p>7441 rows × 12 columns</p>\n",
       "</div>"
      ],
      "text/plain": [
       "      BodyNumber BodyName IntegrationSource         JD CalendarDateTime  \\\n",
       "0              1    Ceres            JPL#47  2440400.5       1969-06-28   \n",
       "1              1    Ceres            JPL#47  2440405.5       1969-07-03   \n",
       "2              1    Ceres            JPL#47  2440410.5       1969-07-08   \n",
       "3              1    Ceres            JPL#47  2440415.5       1969-07-13   \n",
       "4              1    Ceres            JPL#47  2440420.5       1969-07-18   \n",
       "5              1    Ceres            JPL#47  2440425.5       1969-07-23   \n",
       "6              1    Ceres            JPL#47  2440430.5       1969-07-28   \n",
       "7              1    Ceres            JPL#47  2440435.5       1969-08-02   \n",
       "8              1    Ceres            JPL#47  2440440.5       1969-08-07   \n",
       "9              1    Ceres            JPL#47  2440445.5       1969-08-12   \n",
       "...          ...      ...               ...        ...              ...   \n",
       "7431           1    Ceres            JPL#47  2477555.5       2071-03-20   \n",
       "7432           1    Ceres            JPL#47  2477560.5       2071-03-25   \n",
       "7433           1    Ceres            JPL#47  2477565.5       2071-03-30   \n",
       "7434           1    Ceres            JPL#47  2477570.5       2071-04-04   \n",
       "7435           1    Ceres            JPL#47  2477575.5       2071-04-09   \n",
       "7436           1    Ceres            JPL#47  2477580.5       2071-04-14   \n",
       "7437           1    Ceres            JPL#47  2477585.5       2071-04-19   \n",
       "7438           1    Ceres            JPL#47  2477590.5       2071-04-24   \n",
       "7439           1    Ceres            JPL#47  2477595.5       2071-04-29   \n",
       "7440           1    Ceres            JPL#47  2477600.5       2071-05-04   \n",
       "\n",
       "        delta_T        qx        qy        qz        vx        vy        vz  \n",
       "0     39.699541  1.443184 -2.549274 -0.340158  0.008465  0.004489 -0.001436  \n",
       "1     39.712359  1.485300 -2.526463 -0.347286  0.008381  0.004635 -0.001416  \n",
       "2     39.725179  1.526988 -2.502924 -0.354315  0.008294  0.004780 -0.001396  \n",
       "3     39.738000  1.568239 -2.478664 -0.361242  0.008206  0.004923 -0.001375  \n",
       "4     39.750824  1.609040 -2.453693 -0.368064  0.008115  0.005065 -0.001354  \n",
       "5     39.763650  1.649382 -2.428017 -0.374782  0.008022  0.005205 -0.001333  \n",
       "6     39.776478  1.689253 -2.401648 -0.381392  0.007926  0.005343 -0.001311  \n",
       "7     39.789310  1.728642 -2.374592 -0.387894  0.007829  0.005479 -0.001289  \n",
       "8     39.802149  1.767541 -2.346859 -0.394284  0.007730  0.005614 -0.001267  \n",
       "9     39.814996  1.805937 -2.318458 -0.400563  0.007628  0.005746 -0.001244  \n",
       "...         ...       ...       ...       ...       ...       ...       ...  \n",
       "7431  69.185581  2.533454 -1.484668 -0.516537  0.004787  0.008259 -0.000597  \n",
       "7432  69.185614  2.557031 -1.443167 -0.519447  0.004644  0.008341 -0.000568  \n",
       "7433  69.185637  2.579895 -1.401263 -0.522212  0.004501  0.008420 -0.000539  \n",
       "7434  69.185648  2.602039 -1.358968 -0.524832  0.004356  0.008497 -0.000509  \n",
       "7435  69.185646  2.623456 -1.316294 -0.527305  0.004210  0.008572 -0.000480  \n",
       "7436  69.185631  2.644141 -1.273253 -0.529631  0.004063  0.008644 -0.000450  \n",
       "7437  69.185603  2.664088 -1.229858 -0.531809  0.003915  0.008714 -0.000421  \n",
       "7438  69.185564  2.683292 -1.186119 -0.533838  0.003766  0.008781 -0.000391  \n",
       "7439  69.185516  2.701746 -1.142050 -0.535719  0.003616  0.008846 -0.000361  \n",
       "7440  69.185457  2.719447 -1.097662 -0.537450  0.003464  0.008909 -0.000331  \n",
       "\n",
       "[7441 rows x 12 columns]"
      ]
     },
     "execution_count": 7,
     "metadata": {},
     "output_type": "execute_result"
    }
   ],
   "source": [
    "df"
   ]
  },
  {
   "cell_type": "code",
   "execution_count": 8,
   "metadata": {},
   "outputs": [
    {
     "data": {
      "application/vnd.jupyter.widget-view+json": {
       "model_id": "38b3bf38e50040aa9c1cb623b56bc8a9",
       "version_major": 2,
       "version_minor": 0
      },
      "text/plain": [
       "HBox(children=(FloatProgress(value=0.0, max=448.0), HTML(value='')))"
      ]
     },
     "metadata": {},
     "output_type": "display_data"
    },
    {
     "name": "stdout",
     "output_type": "stream",
     "text": [
      "\n"
     ]
    }
   ],
   "source": [
    "# hrzn_load()"
   ]
  },
  {
   "cell_type": "code",
   "execution_count": 11,
   "metadata": {},
   "outputs": [],
   "source": [
    "connection_str = f'mysql+pymysql://{db_config.username}:{db_config.password}@{db_config.hostname}/JPL'"
   ]
  },
  {
   "cell_type": "code",
   "execution_count": 12,
   "metadata": {},
   "outputs": [],
   "source": [
    "engine = create_engine(connection_str)"
   ]
  },
  {
   "cell_type": "code",
   "execution_count": 13,
   "metadata": {},
   "outputs": [
    {
     "data": {
      "text/plain": [
       "['HorizonsImport']"
      ]
     },
     "execution_count": 13,
     "metadata": {},
     "output_type": "execute_result"
    }
   ],
   "source": [
    "engine.table_names()"
   ]
  },
  {
   "cell_type": "code",
   "execution_count": 17,
   "metadata": {},
   "outputs": [],
   "source": [
    "t0 = time.time()\n",
    "with engine.connect() as conn:\n",
    "    df.to_sql(name='HorizonsImport', con=conn, if_exists='append', index=False)\n",
    "t1 = time.time()"
   ]
  },
  {
   "cell_type": "code",
   "execution_count": 18,
   "metadata": {},
   "outputs": [
    {
     "data": {
      "text/plain": [
       "1.509110927581787"
      ]
     },
     "execution_count": 18,
     "metadata": {},
     "output_type": "execute_result"
    }
   ],
   "source": [
    "t1 - t0"
   ]
  },
  {
   "cell_type": "code",
   "execution_count": null,
   "metadata": {},
   "outputs": [],
   "source": [
    "hrzn_txt2db(fname_txt)"
   ]
  },
  {
   "cell_type": "code",
   "execution_count": null,
   "metadata": {},
   "outputs": [],
   "source": []
  }
 ],
 "metadata": {
  "kernelspec": {
   "display_name": "Python [conda env:kepler]",
   "language": "python",
   "name": "conda-env-kepler-py"
  },
  "language_info": {
   "codemirror_mode": {
    "name": "ipython",
    "version": 3
   },
   "file_extension": ".py",
   "mimetype": "text/x-python",
   "name": "python",
   "nbconvert_exporter": "python",
   "pygments_lexer": "ipython3",
   "version": "3.7.6"
  }
 },
 "nbformat": 4,
 "nbformat_minor": 4
}
