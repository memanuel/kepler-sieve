{
 "cells": [
  {
   "cell_type": "markdown",
   "metadata": {},
   "source": [
    "# Load Horizons Data into KeplerDB"
   ]
  },
  {
   "cell_type": "code",
   "execution_count": 1,
   "metadata": {},
   "outputs": [],
   "source": [
    "# Core\n",
    "import numpy as np\n",
    "import pandas as pd\n",
    "\n",
    "# Utility\n",
    "import re\n",
    "import glob\n",
    "import time\n",
    "\n",
    "# Database\n",
    "import sqlalchemy\n",
    "from sqlalchemy import create_engine"
   ]
  },
  {
   "cell_type": "code",
   "execution_count": 2,
   "metadata": {},
   "outputs": [],
   "source": [
    "# MSE imports\n",
    "import kepler_sieve\n",
    "from horizons_files import hrzn_txt2csv, hrzn_csv2df, hrzn_df2db, hrzn_txt2db, hrzn_csv2db, hrzn_load\n",
    "from asteroid_element import load_ast_elt, load_data_impl, convert_data\n",
    "import db_config"
   ]
  },
  {
   "cell_type": "markdown",
   "metadata": {},
   "source": [
    "## Load all the Horizons CSV Files into JPL.HorizonsImport"
   ]
  },
  {
   "cell_type": "code",
   "execution_count": 3,
   "metadata": {},
   "outputs": [],
   "source": [
    "# hrzn_load()"
   ]
  },
  {
   "cell_type": "markdown",
   "metadata": {},
   "source": [
    "## Testing - Load CSV, Display as DataFrame"
   ]
  },
  {
   "cell_type": "code",
   "execution_count": 4,
   "metadata": {},
   "outputs": [],
   "source": [
    "fname_txt = '../data/jpl/horizons/planets/daily/010_sun.txt'\n",
    "# fname_txt = '../data/jpl/horizons/planets/daily/001_mercury_barycenter.txt'\n",
    "# fname_txt = '../data/jpl/horizons/moons/daily/301_moon.txt'\n",
    "# fname_txt = '../data/jpl/horizons/asteroids/weekly/ast_0001.txt'"
   ]
  },
  {
   "cell_type": "code",
   "execution_count": 5,
   "metadata": {},
   "outputs": [],
   "source": [
    "fname_csv = hrzn_txt2csv(fname_txt)"
   ]
  },
  {
   "cell_type": "code",
   "execution_count": 6,
   "metadata": {},
   "outputs": [
    {
     "data": {
      "text/plain": [
       "'/ssd1/tmp/mysql/jpl/010_sun.csv'"
      ]
     },
     "execution_count": 6,
     "metadata": {},
     "output_type": "execute_result"
    }
   ],
   "source": [
    "fname_csv"
   ]
  },
  {
   "cell_type": "code",
   "execution_count": 7,
   "metadata": {},
   "outputs": [],
   "source": [
    "df = hrzn_csv2df(fname_csv)"
   ]
  },
  {
   "cell_type": "code",
   "execution_count": 8,
   "metadata": {},
   "outputs": [],
   "source": [
    "pd.set_option('display.max_rows', 10)"
   ]
  },
  {
   "cell_type": "code",
   "execution_count": 9,
   "metadata": {},
   "outputs": [
    {
     "data": {
      "text/html": [
       "<div>\n",
       "<style scoped>\n",
       "    .dataframe tbody tr th:only-of-type {\n",
       "        vertical-align: middle;\n",
       "    }\n",
       "\n",
       "    .dataframe tbody tr th {\n",
       "        vertical-align: top;\n",
       "    }\n",
       "\n",
       "    .dataframe thead th {\n",
       "        text-align: right;\n",
       "    }\n",
       "</style>\n",
       "<table border=\"1\" class=\"dataframe\">\n",
       "  <thead>\n",
       "    <tr style=\"text-align: right;\">\n",
       "      <th></th>\n",
       "      <th>BodyTypeCD</th>\n",
       "      <th>BodyNumber</th>\n",
       "      <th>BodyName</th>\n",
       "      <th>IntegrationSource</th>\n",
       "      <th>JD</th>\n",
       "      <th>CalendarDateTime</th>\n",
       "      <th>delta_T</th>\n",
       "      <th>qx</th>\n",
       "      <th>qy</th>\n",
       "      <th>qz</th>\n",
       "      <th>vx</th>\n",
       "      <th>vy</th>\n",
       "      <th>vz</th>\n",
       "    </tr>\n",
       "  </thead>\n",
       "  <tbody>\n",
       "    <tr>\n",
       "      <th>0</th>\n",
       "      <td>S</td>\n",
       "      <td>10</td>\n",
       "      <td>Sun</td>\n",
       "      <td>DE431mx</td>\n",
       "      <td>2440400.5</td>\n",
       "      <td>1969-06-28</td>\n",
       "      <td>39.699541</td>\n",
       "      <td>0.004503</td>\n",
       "      <td>0.000810</td>\n",
       "      <td>-0.000061</td>\n",
       "      <td>-3.517495e-07</td>\n",
       "      <td>0.000006</td>\n",
       "      <td>-1.438024e-08</td>\n",
       "    </tr>\n",
       "    <tr>\n",
       "      <th>1</th>\n",
       "      <td>S</td>\n",
       "      <td>10</td>\n",
       "      <td>Sun</td>\n",
       "      <td>DE431mx</td>\n",
       "      <td>2440401.5</td>\n",
       "      <td>1969-06-29</td>\n",
       "      <td>39.702104</td>\n",
       "      <td>0.004502</td>\n",
       "      <td>0.000815</td>\n",
       "      <td>-0.000061</td>\n",
       "      <td>-3.587527e-07</td>\n",
       "      <td>0.000006</td>\n",
       "      <td>-1.432102e-08</td>\n",
       "    </tr>\n",
       "    <tr>\n",
       "      <th>2</th>\n",
       "      <td>S</td>\n",
       "      <td>10</td>\n",
       "      <td>Sun</td>\n",
       "      <td>DE431mx</td>\n",
       "      <td>2440402.5</td>\n",
       "      <td>1969-06-30</td>\n",
       "      <td>39.704668</td>\n",
       "      <td>0.004502</td>\n",
       "      <td>0.000821</td>\n",
       "      <td>-0.000061</td>\n",
       "      <td>-3.657021e-07</td>\n",
       "      <td>0.000006</td>\n",
       "      <td>-1.426221e-08</td>\n",
       "    </tr>\n",
       "    <tr>\n",
       "      <th>3</th>\n",
       "      <td>S</td>\n",
       "      <td>10</td>\n",
       "      <td>Sun</td>\n",
       "      <td>DE431mx</td>\n",
       "      <td>2440403.5</td>\n",
       "      <td>1969-07-01</td>\n",
       "      <td>39.707232</td>\n",
       "      <td>0.004501</td>\n",
       "      <td>0.000827</td>\n",
       "      <td>-0.000061</td>\n",
       "      <td>-3.725998e-07</td>\n",
       "      <td>0.000006</td>\n",
       "      <td>-1.420343e-08</td>\n",
       "    </tr>\n",
       "    <tr>\n",
       "      <th>4</th>\n",
       "      <td>S</td>\n",
       "      <td>10</td>\n",
       "      <td>Sun</td>\n",
       "      <td>DE431mx</td>\n",
       "      <td>2440404.5</td>\n",
       "      <td>1969-07-02</td>\n",
       "      <td>39.709795</td>\n",
       "      <td>0.004501</td>\n",
       "      <td>0.000832</td>\n",
       "      <td>-0.000061</td>\n",
       "      <td>-3.794481e-07</td>\n",
       "      <td>0.000006</td>\n",
       "      <td>-1.414425e-08</td>\n",
       "    </tr>\n",
       "    <tr>\n",
       "      <th>...</th>\n",
       "      <td>...</td>\n",
       "      <td>...</td>\n",
       "      <td>...</td>\n",
       "      <td>...</td>\n",
       "      <td>...</td>\n",
       "      <td>...</td>\n",
       "      <td>...</td>\n",
       "      <td>...</td>\n",
       "      <td>...</td>\n",
       "      <td>...</td>\n",
       "      <td>...</td>\n",
       "      <td>...</td>\n",
       "      <td>...</td>\n",
       "    </tr>\n",
       "    <tr>\n",
       "      <th>37196</th>\n",
       "      <td>S</td>\n",
       "      <td>10</td>\n",
       "      <td>Sun</td>\n",
       "      <td>DE431mx</td>\n",
       "      <td>2477596.5</td>\n",
       "      <td>2071-04-30</td>\n",
       "      <td>69.185505</td>\n",
       "      <td>-0.000708</td>\n",
       "      <td>-0.002510</td>\n",
       "      <td>-0.000002</td>\n",
       "      <td>4.158106e-06</td>\n",
       "      <td>-0.000004</td>\n",
       "      <td>-8.460845e-08</td>\n",
       "    </tr>\n",
       "    <tr>\n",
       "      <th>37197</th>\n",
       "      <td>S</td>\n",
       "      <td>10</td>\n",
       "      <td>Sun</td>\n",
       "      <td>DE431mx</td>\n",
       "      <td>2477597.5</td>\n",
       "      <td>2071-05-01</td>\n",
       "      <td>69.185494</td>\n",
       "      <td>-0.000704</td>\n",
       "      <td>-0.002514</td>\n",
       "      <td>-0.000002</td>\n",
       "      <td>4.164001e-06</td>\n",
       "      <td>-0.000004</td>\n",
       "      <td>-8.473888e-08</td>\n",
       "    </tr>\n",
       "    <tr>\n",
       "      <th>37198</th>\n",
       "      <td>S</td>\n",
       "      <td>10</td>\n",
       "      <td>Sun</td>\n",
       "      <td>DE431mx</td>\n",
       "      <td>2477598.5</td>\n",
       "      <td>2071-05-02</td>\n",
       "      <td>69.185482</td>\n",
       "      <td>-0.000700</td>\n",
       "      <td>-0.002518</td>\n",
       "      <td>-0.000002</td>\n",
       "      <td>4.169895e-06</td>\n",
       "      <td>-0.000004</td>\n",
       "      <td>-8.487000e-08</td>\n",
       "    </tr>\n",
       "    <tr>\n",
       "      <th>37199</th>\n",
       "      <td>S</td>\n",
       "      <td>10</td>\n",
       "      <td>Sun</td>\n",
       "      <td>DE431mx</td>\n",
       "      <td>2477599.5</td>\n",
       "      <td>2071-05-03</td>\n",
       "      <td>69.185470</td>\n",
       "      <td>-0.000696</td>\n",
       "      <td>-0.002522</td>\n",
       "      <td>-0.000002</td>\n",
       "      <td>4.175791e-06</td>\n",
       "      <td>-0.000004</td>\n",
       "      <td>-8.500189e-08</td>\n",
       "    </tr>\n",
       "    <tr>\n",
       "      <th>37200</th>\n",
       "      <td>S</td>\n",
       "      <td>10</td>\n",
       "      <td>Sun</td>\n",
       "      <td>DE431mx</td>\n",
       "      <td>2477600.5</td>\n",
       "      <td>2071-05-04</td>\n",
       "      <td>69.185457</td>\n",
       "      <td>-0.000692</td>\n",
       "      <td>-0.002526</td>\n",
       "      <td>-0.000002</td>\n",
       "      <td>4.181689e-06</td>\n",
       "      <td>-0.000004</td>\n",
       "      <td>-8.513458e-08</td>\n",
       "    </tr>\n",
       "  </tbody>\n",
       "</table>\n",
       "<p>37201 rows × 13 columns</p>\n",
       "</div>"
      ],
      "text/plain": [
       "      BodyTypeCD  BodyNumber BodyName IntegrationSource         JD  \\\n",
       "0              S          10      Sun           DE431mx  2440400.5   \n",
       "1              S          10      Sun           DE431mx  2440401.5   \n",
       "2              S          10      Sun           DE431mx  2440402.5   \n",
       "3              S          10      Sun           DE431mx  2440403.5   \n",
       "4              S          10      Sun           DE431mx  2440404.5   \n",
       "...          ...         ...      ...               ...        ...   \n",
       "37196          S          10      Sun           DE431mx  2477596.5   \n",
       "37197          S          10      Sun           DE431mx  2477597.5   \n",
       "37198          S          10      Sun           DE431mx  2477598.5   \n",
       "37199          S          10      Sun           DE431mx  2477599.5   \n",
       "37200          S          10      Sun           DE431mx  2477600.5   \n",
       "\n",
       "      CalendarDateTime    delta_T        qx        qy        qz            vx  \\\n",
       "0           1969-06-28  39.699541  0.004503  0.000810 -0.000061 -3.517495e-07   \n",
       "1           1969-06-29  39.702104  0.004502  0.000815 -0.000061 -3.587527e-07   \n",
       "2           1969-06-30  39.704668  0.004502  0.000821 -0.000061 -3.657021e-07   \n",
       "3           1969-07-01  39.707232  0.004501  0.000827 -0.000061 -3.725998e-07   \n",
       "4           1969-07-02  39.709795  0.004501  0.000832 -0.000061 -3.794481e-07   \n",
       "...                ...        ...       ...       ...       ...           ...   \n",
       "37196       2071-04-30  69.185505 -0.000708 -0.002510 -0.000002  4.158106e-06   \n",
       "37197       2071-05-01  69.185494 -0.000704 -0.002514 -0.000002  4.164001e-06   \n",
       "37198       2071-05-02  69.185482 -0.000700 -0.002518 -0.000002  4.169895e-06   \n",
       "37199       2071-05-03  69.185470 -0.000696 -0.002522 -0.000002  4.175791e-06   \n",
       "37200       2071-05-04  69.185457 -0.000692 -0.002526 -0.000002  4.181689e-06   \n",
       "\n",
       "             vy            vz  \n",
       "0      0.000006 -1.438024e-08  \n",
       "1      0.000006 -1.432102e-08  \n",
       "2      0.000006 -1.426221e-08  \n",
       "3      0.000006 -1.420343e-08  \n",
       "4      0.000006 -1.414425e-08  \n",
       "...         ...           ...  \n",
       "37196 -0.000004 -8.460845e-08  \n",
       "37197 -0.000004 -8.473888e-08  \n",
       "37198 -0.000004 -8.487000e-08  \n",
       "37199 -0.000004 -8.500189e-08  \n",
       "37200 -0.000004 -8.513458e-08  \n",
       "\n",
       "[37201 rows x 13 columns]"
      ]
     },
     "execution_count": 9,
     "metadata": {},
     "output_type": "execute_result"
    }
   ],
   "source": [
    "df"
   ]
  },
  {
   "cell_type": "markdown",
   "metadata": {},
   "source": [
    "## Testing - Populate Database from CSV"
   ]
  },
  {
   "cell_type": "code",
   "execution_count": 10,
   "metadata": {},
   "outputs": [],
   "source": [
    "connection_str = f'mysql+pymysql://{db_config.username}:{db_config.password}@{db_config.hostname}/JPL'"
   ]
  },
  {
   "cell_type": "code",
   "execution_count": 11,
   "metadata": {},
   "outputs": [],
   "source": [
    "engine = create_engine(connection_str)"
   ]
  },
  {
   "cell_type": "code",
   "execution_count": 12,
   "metadata": {},
   "outputs": [
    {
     "data": {
      "text/plain": [
       "['AsteroidElement_Numbered',\n",
       " 'AsteroidElement_Unnumbered',\n",
       " 'HorizonsBody',\n",
       " 'HorizonsImport',\n",
       " 'HorizonsTime',\n",
       " 'HorizonsVectors',\n",
       " 'LargeBody',\n",
       " 'SmallBody']"
      ]
     },
     "execution_count": 12,
     "metadata": {},
     "output_type": "execute_result"
    }
   ],
   "source": [
    "engine.table_names()"
   ]
  },
  {
   "cell_type": "code",
   "execution_count": 13,
   "metadata": {},
   "outputs": [],
   "source": [
    "# hrzn_txt2db(fname_txt)"
   ]
  },
  {
   "cell_type": "markdown",
   "metadata": {},
   "source": [
    "## Load the Asteroid Orbital Elements from JPL"
   ]
  },
  {
   "cell_type": "code",
   "execution_count": 14,
   "metadata": {},
   "outputs": [
    {
     "name": "stderr",
     "output_type": "stream",
     "text": [
      "  0%|          | 803/958724 [00:00<05:37, 2837.51it/s]"
     ]
    },
    {
     "name": "stdout",
     "output_type": "stream",
     "text": [
      "Making big simulation with all 958724 asteroids...\n"
     ]
    },
    {
     "name": "stderr",
     "output_type": "stream",
     "text": [
      "100%|██████████| 958724/958724 [02:44<00:00, 5815.76it/s]\n"
     ]
    },
    {
     "name": "stdout",
     "output_type": "stream",
     "text": [
      "Computing orbital elements...\n"
     ]
    },
    {
     "name": "stderr",
     "output_type": "stream",
     "text": [
      " 10%|▉         | 94789/958724 [00:00<00:00, 947884.12it/s]"
     ]
    },
    {
     "name": "stdout",
     "output_type": "stream",
     "text": [
      "Copying additional orbital elements to DataFrame...\n"
     ]
    },
    {
     "name": "stderr",
     "output_type": "stream",
     "text": [
      "100%|██████████| 958724/958724 [00:00<00:00, 1006439.30it/s]\n"
     ]
    }
   ],
   "source": [
    "df = load_ast_elt()"
   ]
  },
  {
   "cell_type": "code",
   "execution_count": 16,
   "metadata": {},
   "outputs": [
    {
     "data": {
      "text/html": [
       "<div>\n",
       "<style scoped>\n",
       "    .dataframe tbody tr th:only-of-type {\n",
       "        vertical-align: middle;\n",
       "    }\n",
       "\n",
       "    .dataframe tbody tr th {\n",
       "        vertical-align: top;\n",
       "    }\n",
       "\n",
       "    .dataframe thead th {\n",
       "        text-align: right;\n",
       "    }\n",
       "</style>\n",
       "<table border=\"1\" class=\"dataframe\">\n",
       "  <thead>\n",
       "    <tr style=\"text-align: right;\">\n",
       "      <th></th>\n",
       "      <th>Num</th>\n",
       "      <th>Name</th>\n",
       "      <th>epoch</th>\n",
       "      <th>a</th>\n",
       "      <th>e</th>\n",
       "      <th>inc</th>\n",
       "      <th>Omega</th>\n",
       "      <th>omega</th>\n",
       "      <th>M</th>\n",
       "      <th>H</th>\n",
       "      <th>G</th>\n",
       "      <th>Ref</th>\n",
       "      <th>f</th>\n",
       "      <th>P</th>\n",
       "      <th>n</th>\n",
       "      <th>long</th>\n",
       "      <th>theta</th>\n",
       "      <th>pomega</th>\n",
       "      <th>T_peri</th>\n",
       "      <th>row_num</th>\n",
       "    </tr>\n",
       "    <tr>\n",
       "      <th>Num</th>\n",
       "      <th></th>\n",
       "      <th></th>\n",
       "      <th></th>\n",
       "      <th></th>\n",
       "      <th></th>\n",
       "      <th></th>\n",
       "      <th></th>\n",
       "      <th></th>\n",
       "      <th></th>\n",
       "      <th></th>\n",
       "      <th></th>\n",
       "      <th></th>\n",
       "      <th></th>\n",
       "      <th></th>\n",
       "      <th></th>\n",
       "      <th></th>\n",
       "      <th></th>\n",
       "      <th></th>\n",
       "      <th></th>\n",
       "      <th></th>\n",
       "    </tr>\n",
       "  </thead>\n",
       "  <tbody>\n",
       "    <tr>\n",
       "      <th>1</th>\n",
       "      <td>1</td>\n",
       "      <td>Ceres</td>\n",
       "      <td>58600.0</td>\n",
       "      <td>2.769165</td>\n",
       "      <td>0.076009</td>\n",
       "      <td>0.184901</td>\n",
       "      <td>1.401596</td>\n",
       "      <td>1.284522</td>\n",
       "      <td>1.350398</td>\n",
       "      <td>3.40</td>\n",
       "      <td>0.12</td>\n",
       "      <td>JPL 47</td>\n",
       "      <td>1.501306</td>\n",
       "      <td>1683.145658</td>\n",
       "      <td>0.003733</td>\n",
       "      <td>4.036516</td>\n",
       "      <td>4.187424</td>\n",
       "      <td>2.686118</td>\n",
       "      <td>-361.745861</td>\n",
       "      <td>0</td>\n",
       "    </tr>\n",
       "    <tr>\n",
       "      <th>2</th>\n",
       "      <td>2</td>\n",
       "      <td>Pallas</td>\n",
       "      <td>59000.0</td>\n",
       "      <td>2.773841</td>\n",
       "      <td>0.229972</td>\n",
       "      <td>0.607949</td>\n",
       "      <td>3.019851</td>\n",
       "      <td>5.414053</td>\n",
       "      <td>2.530303</td>\n",
       "      <td>4.20</td>\n",
       "      <td>0.11</td>\n",
       "      <td>JPL 37</td>\n",
       "      <td>2.742191</td>\n",
       "      <td>1687.410960</td>\n",
       "      <td>0.003724</td>\n",
       "      <td>4.681022</td>\n",
       "      <td>4.892910</td>\n",
       "      <td>2.150719</td>\n",
       "      <td>-679.537622</td>\n",
       "      <td>1</td>\n",
       "    </tr>\n",
       "    <tr>\n",
       "      <th>3</th>\n",
       "      <td>3</td>\n",
       "      <td>Juno</td>\n",
       "      <td>59000.0</td>\n",
       "      <td>2.668285</td>\n",
       "      <td>0.256936</td>\n",
       "      <td>0.226736</td>\n",
       "      <td>2.964468</td>\n",
       "      <td>4.329572</td>\n",
       "      <td>2.189260</td>\n",
       "      <td>5.33</td>\n",
       "      <td>0.32</td>\n",
       "      <td>JPL 112</td>\n",
       "      <td>2.535135</td>\n",
       "      <td>1592.013779</td>\n",
       "      <td>0.003947</td>\n",
       "      <td>3.200114</td>\n",
       "      <td>3.545989</td>\n",
       "      <td>1.010854</td>\n",
       "      <td>-554.707814</td>\n",
       "      <td>2</td>\n",
       "    </tr>\n",
       "    <tr>\n",
       "      <th>4</th>\n",
       "      <td>4</td>\n",
       "      <td>Vesta</td>\n",
       "      <td>58600.0</td>\n",
       "      <td>2.361418</td>\n",
       "      <td>0.088721</td>\n",
       "      <td>0.124647</td>\n",
       "      <td>1.811840</td>\n",
       "      <td>2.630709</td>\n",
       "      <td>1.673106</td>\n",
       "      <td>3.00</td>\n",
       "      <td>0.32</td>\n",
       "      <td>JPL 35</td>\n",
       "      <td>1.846768</td>\n",
       "      <td>1325.432768</td>\n",
       "      <td>0.004740</td>\n",
       "      <td>6.115656</td>\n",
       "      <td>0.006132</td>\n",
       "      <td>4.442550</td>\n",
       "      <td>-352.940426</td>\n",
       "      <td>3</td>\n",
       "    </tr>\n",
       "    <tr>\n",
       "      <th>5</th>\n",
       "      <td>5</td>\n",
       "      <td>Astraea</td>\n",
       "      <td>59000.0</td>\n",
       "      <td>2.574037</td>\n",
       "      <td>0.190913</td>\n",
       "      <td>0.093679</td>\n",
       "      <td>2.470881</td>\n",
       "      <td>6.259596</td>\n",
       "      <td>0.311477</td>\n",
       "      <td>6.90</td>\n",
       "      <td>0.15</td>\n",
       "      <td>JPL 114</td>\n",
       "      <td>0.461775</td>\n",
       "      <td>1508.414438</td>\n",
       "      <td>0.004165</td>\n",
       "      <td>2.758769</td>\n",
       "      <td>2.909067</td>\n",
       "      <td>2.447291</td>\n",
       "      <td>-74.776891</td>\n",
       "      <td>4</td>\n",
       "    </tr>\n",
       "    <tr>\n",
       "      <th>...</th>\n",
       "      <td>...</td>\n",
       "      <td>...</td>\n",
       "      <td>...</td>\n",
       "      <td>...</td>\n",
       "      <td>...</td>\n",
       "      <td>...</td>\n",
       "      <td>...</td>\n",
       "      <td>...</td>\n",
       "      <td>...</td>\n",
       "      <td>...</td>\n",
       "      <td>...</td>\n",
       "      <td>...</td>\n",
       "      <td>...</td>\n",
       "      <td>...</td>\n",
       "      <td>...</td>\n",
       "      <td>...</td>\n",
       "      <td>...</td>\n",
       "      <td>...</td>\n",
       "      <td>...</td>\n",
       "      <td>...</td>\n",
       "    </tr>\n",
       "    <tr>\n",
       "      <th>1413590</th>\n",
       "      <td>1413590</td>\n",
       "      <td>6013 P-L</td>\n",
       "      <td>37203.0</td>\n",
       "      <td>2.280861</td>\n",
       "      <td>0.185919</td>\n",
       "      <td>0.104448</td>\n",
       "      <td>3.389951</td>\n",
       "      <td>3.411120</td>\n",
       "      <td>5.970031</td>\n",
       "      <td>17.14</td>\n",
       "      <td>0.15</td>\n",
       "      <td>JPL 5</td>\n",
       "      <td>5.823982</td>\n",
       "      <td>1258.191236</td>\n",
       "      <td>0.004994</td>\n",
       "      <td>0.204732</td>\n",
       "      <td>0.058683</td>\n",
       "      <td>0.517886</td>\n",
       "      <td>62.708374</td>\n",
       "      <td>958719</td>\n",
       "    </tr>\n",
       "    <tr>\n",
       "      <th>1413591</th>\n",
       "      <td>1413591</td>\n",
       "      <td>6331 P-L</td>\n",
       "      <td>59000.0</td>\n",
       "      <td>2.334910</td>\n",
       "      <td>0.282919</td>\n",
       "      <td>0.141062</td>\n",
       "      <td>6.200251</td>\n",
       "      <td>0.091040</td>\n",
       "      <td>4.539829</td>\n",
       "      <td>18.50</td>\n",
       "      <td>0.15</td>\n",
       "      <td>JPL 8</td>\n",
       "      <td>4.036234</td>\n",
       "      <td>1303.177715</td>\n",
       "      <td>0.004821</td>\n",
       "      <td>4.547935</td>\n",
       "      <td>4.044341</td>\n",
       "      <td>0.008106</td>\n",
       "      <td>361.584605</td>\n",
       "      <td>958720</td>\n",
       "    </tr>\n",
       "    <tr>\n",
       "      <th>1413592</th>\n",
       "      <td>1413592</td>\n",
       "      <td>6344 P-L</td>\n",
       "      <td>59000.0</td>\n",
       "      <td>2.817151</td>\n",
       "      <td>0.662446</td>\n",
       "      <td>0.081669</td>\n",
       "      <td>3.193653</td>\n",
       "      <td>4.099689</td>\n",
       "      <td>4.197056</td>\n",
       "      <td>20.40</td>\n",
       "      <td>0.15</td>\n",
       "      <td>JPL 17</td>\n",
       "      <td>3.444418</td>\n",
       "      <td>1727.084616</td>\n",
       "      <td>0.003638</td>\n",
       "      <td>5.207212</td>\n",
       "      <td>4.454574</td>\n",
       "      <td>1.010156</td>\n",
       "      <td>573.422791</td>\n",
       "      <td>958721</td>\n",
       "    </tr>\n",
       "    <tr>\n",
       "      <th>1413593</th>\n",
       "      <td>1413593</td>\n",
       "      <td>2060 T-2</td>\n",
       "      <td>41956.0</td>\n",
       "      <td>2.373136</td>\n",
       "      <td>0.202053</td>\n",
       "      <td>0.012784</td>\n",
       "      <td>3.080490</td>\n",
       "      <td>3.456215</td>\n",
       "      <td>6.202047</td>\n",
       "      <td>18.07</td>\n",
       "      <td>0.15</td>\n",
       "      <td>JPL 3</td>\n",
       "      <td>6.158491</td>\n",
       "      <td>1335.310820</td>\n",
       "      <td>0.004705</td>\n",
       "      <td>0.172382</td>\n",
       "      <td>0.128825</td>\n",
       "      <td>0.253520</td>\n",
       "      <td>17.243584</td>\n",
       "      <td>958722</td>\n",
       "    </tr>\n",
       "    <tr>\n",
       "      <th>1413594</th>\n",
       "      <td>1413594</td>\n",
       "      <td>2678 T-3</td>\n",
       "      <td>43429.0</td>\n",
       "      <td>2.260404</td>\n",
       "      <td>0.258348</td>\n",
       "      <td>0.168633</td>\n",
       "      <td>3.569416</td>\n",
       "      <td>2.591761</td>\n",
       "      <td>0.267387</td>\n",
       "      <td>18.06</td>\n",
       "      <td>0.15</td>\n",
       "      <td>JPL 3</td>\n",
       "      <td>0.462770</td>\n",
       "      <td>1241.302207</td>\n",
       "      <td>0.005062</td>\n",
       "      <td>0.145378</td>\n",
       "      <td>0.340761</td>\n",
       "      <td>6.161177</td>\n",
       "      <td>-52.824766</td>\n",
       "      <td>958723</td>\n",
       "    </tr>\n",
       "  </tbody>\n",
       "</table>\n",
       "<p>958724 rows × 20 columns</p>\n",
       "</div>"
      ],
      "text/plain": [
       "             Num      Name    epoch         a         e       inc     Omega  \\\n",
       "Num                                                                           \n",
       "1              1     Ceres  58600.0  2.769165  0.076009  0.184901  1.401596   \n",
       "2              2    Pallas  59000.0  2.773841  0.229972  0.607949  3.019851   \n",
       "3              3      Juno  59000.0  2.668285  0.256936  0.226736  2.964468   \n",
       "4              4     Vesta  58600.0  2.361418  0.088721  0.124647  1.811840   \n",
       "5              5   Astraea  59000.0  2.574037  0.190913  0.093679  2.470881   \n",
       "...          ...       ...      ...       ...       ...       ...       ...   \n",
       "1413590  1413590  6013 P-L  37203.0  2.280861  0.185919  0.104448  3.389951   \n",
       "1413591  1413591  6331 P-L  59000.0  2.334910  0.282919  0.141062  6.200251   \n",
       "1413592  1413592  6344 P-L  59000.0  2.817151  0.662446  0.081669  3.193653   \n",
       "1413593  1413593  2060 T-2  41956.0  2.373136  0.202053  0.012784  3.080490   \n",
       "1413594  1413594  2678 T-3  43429.0  2.260404  0.258348  0.168633  3.569416   \n",
       "\n",
       "            omega         M      H     G      Ref         f            P  \\\n",
       "Num                                                                        \n",
       "1        1.284522  1.350398   3.40  0.12   JPL 47  1.501306  1683.145658   \n",
       "2        5.414053  2.530303   4.20  0.11   JPL 37  2.742191  1687.410960   \n",
       "3        4.329572  2.189260   5.33  0.32  JPL 112  2.535135  1592.013779   \n",
       "4        2.630709  1.673106   3.00  0.32   JPL 35  1.846768  1325.432768   \n",
       "5        6.259596  0.311477   6.90  0.15  JPL 114  0.461775  1508.414438   \n",
       "...           ...       ...    ...   ...      ...       ...          ...   \n",
       "1413590  3.411120  5.970031  17.14  0.15    JPL 5  5.823982  1258.191236   \n",
       "1413591  0.091040  4.539829  18.50  0.15    JPL 8  4.036234  1303.177715   \n",
       "1413592  4.099689  4.197056  20.40  0.15   JPL 17  3.444418  1727.084616   \n",
       "1413593  3.456215  6.202047  18.07  0.15    JPL 3  6.158491  1335.310820   \n",
       "1413594  2.591761  0.267387  18.06  0.15    JPL 3  0.462770  1241.302207   \n",
       "\n",
       "                n      long     theta    pomega      T_peri  row_num  \n",
       "Num                                                                   \n",
       "1        0.003733  4.036516  4.187424  2.686118 -361.745861        0  \n",
       "2        0.003724  4.681022  4.892910  2.150719 -679.537622        1  \n",
       "3        0.003947  3.200114  3.545989  1.010854 -554.707814        2  \n",
       "4        0.004740  6.115656  0.006132  4.442550 -352.940426        3  \n",
       "5        0.004165  2.758769  2.909067  2.447291  -74.776891        4  \n",
       "...           ...       ...       ...       ...         ...      ...  \n",
       "1413590  0.004994  0.204732  0.058683  0.517886   62.708374   958719  \n",
       "1413591  0.004821  4.547935  4.044341  0.008106  361.584605   958720  \n",
       "1413592  0.003638  5.207212  4.454574  1.010156  573.422791   958721  \n",
       "1413593  0.004705  0.172382  0.128825  0.253520   17.243584   958722  \n",
       "1413594  0.005062  0.145378  0.340761  6.161177  -52.824766   958723  \n",
       "\n",
       "[958724 rows x 20 columns]"
      ]
     },
     "execution_count": 16,
     "metadata": {},
     "output_type": "execute_result"
    }
   ],
   "source": [
    "df"
   ]
  },
  {
   "cell_type": "code",
   "execution_count": 17,
   "metadata": {},
   "outputs": [],
   "source": [
    "from astro_utils import anomaly_M2E_impl"
   ]
  },
  {
   "cell_type": "code",
   "execution_count": 18,
   "metadata": {},
   "outputs": [],
   "source": [
    "M = df.M.values\n",
    "e = df.e.values\n",
    "E0 = None"
   ]
  },
  {
   "cell_type": "code",
   "execution_count": 19,
   "metadata": {},
   "outputs": [],
   "source": [
    "E = anomaly_M2E_impl(M=M, e=e)"
   ]
  },
  {
   "cell_type": "code",
   "execution_count": 24,
   "metadata": {},
   "outputs": [],
   "source": [
    "tau = 2.0 * np.pi"
   ]
  },
  {
   "cell_type": "code",
   "execution_count": 21,
   "metadata": {},
   "outputs": [],
   "source": [
    "def anomaly_E2f_v1(E: np.ndarray, e: np.ndarray) -> np.ndarray:\n",
    "    \"\"\"\n",
    "    Convert the eccentric anomaly E to the true anomaly f\n",
    "    INPUTS:\n",
    "        E: The Eccenctric anomaly\n",
    "        e: The eccentricity\n",
    "    OUTPUTS:\n",
    "        f: The true anomaly    \n",
    "    \"\"\"\n",
    "    # See https://en.wikipedia.org/wiki/Eccentric_anomaly\n",
    "    # Use formula f = 2 arg(sqrt(1-e) cos(E/2), sqrt(1+e) sin(E/2))\n",
    "    \n",
    "    # Apply formula\n",
    "    ecc_ratio = np.sqrt( (1.0 + e) / (1.0 - e))\n",
    "    half_E = E * 0.5\n",
    "    f = 2.0 * np.arctan(ecc_ratio * np.tan(half_E))\n",
    "    # Shift angle returned to the interval [0, 2 pi)\n",
    "    return f % tau"
   ]
  },
  {
   "cell_type": "code",
   "execution_count": 22,
   "metadata": {},
   "outputs": [],
   "source": [
    "def anomaly_E2f(E: np.ndarray, e: np.ndarray) -> np.ndarray:\n",
    "    \"\"\"\n",
    "    Convert the eccentric anomaly E to the true anomaly f\n",
    "    INPUTS:\n",
    "        E: The Eccenctric anomaly\n",
    "        e: The eccentricity\n",
    "    OUTPUTS:\n",
    "        f: The true anomaly    \n",
    "    \"\"\"\n",
    "    # See https://en.wikipedia.org/wiki/Eccentric_anomaly\n",
    "    # Use formula f = 2 arg(sqrt(1-e) cos(E/2), sqrt(1+e) sin(E/2))\n",
    "    \n",
    "    # Apply formula\n",
    "    half_E = E * 0.5\n",
    "    x = np.sqrt(1.0 - e) * np.cos(half_E)\n",
    "    y = np.sqrt(1.0 + e) * np.sin(half_E)    \n",
    "    f = 2.0 * np.arctan2(y, x)\n",
    "    # Shift angle returned to the interval [0, 2 pi)\n",
    "    return f % tau"
   ]
  },
  {
   "cell_type": "code",
   "execution_count": 25,
   "metadata": {},
   "outputs": [],
   "source": [
    "f_mse = anomaly_E2f(E, e)"
   ]
  },
  {
   "cell_type": "code",
   "execution_count": 26,
   "metadata": {},
   "outputs": [],
   "source": [
    "f_reb = df.f.values"
   ]
  },
  {
   "cell_type": "code",
   "execution_count": 27,
   "metadata": {},
   "outputs": [],
   "source": [
    "f_err = np.abs(f_mse - f_reb)"
   ]
  },
  {
   "cell_type": "code",
   "execution_count": 33,
   "metadata": {},
   "outputs": [
    {
     "data": {
      "text/plain": [
       "6.650360262483446e-10"
      ]
     },
     "execution_count": 33,
     "metadata": {},
     "output_type": "execute_result"
    }
   ],
   "source": [
    "np.max(np.sin(f_err))"
   ]
  },
  {
   "cell_type": "code",
   "execution_count": 28,
   "metadata": {},
   "outputs": [
    {
     "data": {
      "text/plain": [
       "array([5.32907052e-15, 8.88178420e-16, 0.00000000e+00, ...,\n",
       "       0.00000000e+00, 0.00000000e+00, 1.22124533e-15])"
      ]
     },
     "execution_count": 28,
     "metadata": {},
     "output_type": "execute_result"
    }
   ],
   "source": [
    "f_err"
   ]
  },
  {
   "cell_type": "code",
   "execution_count": 29,
   "metadata": {},
   "outputs": [],
   "source": [
    "idx = np.argmax(np.sin(f_err))"
   ]
  },
  {
   "cell_type": "code",
   "execution_count": 30,
   "metadata": {},
   "outputs": [
    {
     "data": {
      "text/html": [
       "<div>\n",
       "<style scoped>\n",
       "    .dataframe tbody tr th:only-of-type {\n",
       "        vertical-align: middle;\n",
       "    }\n",
       "\n",
       "    .dataframe tbody tr th {\n",
       "        vertical-align: top;\n",
       "    }\n",
       "\n",
       "    .dataframe thead th {\n",
       "        text-align: right;\n",
       "    }\n",
       "</style>\n",
       "<table border=\"1\" class=\"dataframe\">\n",
       "  <thead>\n",
       "    <tr style=\"text-align: right;\">\n",
       "      <th></th>\n",
       "      <th>Num</th>\n",
       "      <th>Name</th>\n",
       "      <th>epoch</th>\n",
       "      <th>a</th>\n",
       "      <th>e</th>\n",
       "      <th>inc</th>\n",
       "      <th>Omega</th>\n",
       "      <th>omega</th>\n",
       "      <th>M</th>\n",
       "      <th>H</th>\n",
       "      <th>G</th>\n",
       "      <th>Ref</th>\n",
       "      <th>f</th>\n",
       "      <th>P</th>\n",
       "      <th>n</th>\n",
       "      <th>long</th>\n",
       "      <th>theta</th>\n",
       "      <th>pomega</th>\n",
       "      <th>T_peri</th>\n",
       "      <th>row_num</th>\n",
       "    </tr>\n",
       "    <tr>\n",
       "      <th>Num</th>\n",
       "      <th></th>\n",
       "      <th></th>\n",
       "      <th></th>\n",
       "      <th></th>\n",
       "      <th></th>\n",
       "      <th></th>\n",
       "      <th></th>\n",
       "      <th></th>\n",
       "      <th></th>\n",
       "      <th></th>\n",
       "      <th></th>\n",
       "      <th></th>\n",
       "      <th></th>\n",
       "      <th></th>\n",
       "      <th></th>\n",
       "      <th></th>\n",
       "      <th></th>\n",
       "      <th></th>\n",
       "      <th></th>\n",
       "      <th></th>\n",
       "    </tr>\n",
       "  </thead>\n",
       "  <tbody>\n",
       "    <tr>\n",
       "      <th>1226469</th>\n",
       "      <td>1226469</td>\n",
       "      <td>2014 GH36</td>\n",
       "      <td>59000.0</td>\n",
       "      <td>2.258538</td>\n",
       "      <td>0.143281</td>\n",
       "      <td>0.056828</td>\n",
       "      <td>1.86741</td>\n",
       "      <td>1.303231</td>\n",
       "      <td>5.247814</td>\n",
       "      <td>18.9</td>\n",
       "      <td>0.15</td>\n",
       "      <td>JPL 8</td>\n",
       "      <td>4.979955</td>\n",
       "      <td>1239.765452</td>\n",
       "      <td>0.005068</td>\n",
       "      <td>2.13527</td>\n",
       "      <td>1.867411</td>\n",
       "      <td>3.170641</td>\n",
       "      <td>204.294138</td>\n",
       "      <td>771602</td>\n",
       "    </tr>\n",
       "  </tbody>\n",
       "</table>\n",
       "</div>"
      ],
      "text/plain": [
       "             Num       Name    epoch         a         e       inc    Omega  \\\n",
       "Num                                                                           \n",
       "1226469  1226469  2014 GH36  59000.0  2.258538  0.143281  0.056828  1.86741   \n",
       "\n",
       "            omega         M     H     G    Ref         f            P  \\\n",
       "Num                                                                     \n",
       "1226469  1.303231  5.247814  18.9  0.15  JPL 8  4.979955  1239.765452   \n",
       "\n",
       "                n     long     theta    pomega      T_peri  row_num  \n",
       "Num                                                                  \n",
       "1226469  0.005068  2.13527  1.867411  3.170641  204.294138   771602  "
      ]
     },
     "execution_count": 30,
     "metadata": {},
     "output_type": "execute_result"
    }
   ],
   "source": [
    "df.iloc[idx:idx+1]"
   ]
  },
  {
   "cell_type": "code",
   "execution_count": 31,
   "metadata": {},
   "outputs": [
    {
     "data": {
      "text/plain": [
       "4.979954686647644"
      ]
     },
     "execution_count": 31,
     "metadata": {},
     "output_type": "execute_result"
    }
   ],
   "source": [
    "f_mse[idx]"
   ]
  },
  {
   "cell_type": "code",
   "execution_count": 34,
   "metadata": {},
   "outputs": [],
   "source": [
    "f1 = anomaly_E2f_v1(E, e)"
   ]
  },
  {
   "cell_type": "code",
   "execution_count": 37,
   "metadata": {},
   "outputs": [],
   "source": [
    "f = anomaly_E2f(E, e)"
   ]
  },
  {
   "cell_type": "code",
   "execution_count": 38,
   "metadata": {},
   "outputs": [
    {
     "data": {
      "text/plain": [
       "8.881784197001252e-16"
      ]
     },
     "execution_count": 38,
     "metadata": {},
     "output_type": "execute_result"
    }
   ],
   "source": [
    "np.max(f1 - f)"
   ]
  },
  {
   "cell_type": "code",
   "execution_count": null,
   "metadata": {},
   "outputs": [],
   "source": []
  }
 ],
 "metadata": {
  "kernelspec": {
   "display_name": "Python [conda env:kepler]",
   "language": "python",
   "name": "conda-env-kepler-py"
  },
  "language_info": {
   "codemirror_mode": {
    "name": "ipython",
    "version": 3
   },
   "file_extension": ".py",
   "mimetype": "text/x-python",
   "name": "python",
   "nbconvert_exporter": "python",
   "pygments_lexer": "ipython3",
   "version": "3.7.6"
  }
 },
 "nbformat": 4,
 "nbformat_minor": 4
}
