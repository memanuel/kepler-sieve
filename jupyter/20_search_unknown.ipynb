{
 "cells": [
  {
   "cell_type": "code",
   "execution_count": 1,
   "metadata": {},
   "outputs": [],
   "source": [
    "# Core\n",
    "import numpy as np\n",
    "import pandas as pd\n",
    "\n",
    "# Tensorflow / ML\n",
    "import tensorflow as tf\n",
    "\n",
    "# Utility\n",
    "import os\n",
    "\n",
    "# Plotting\n",
    "import matplotlib.pyplot as plt\n",
    "import matplotlib as mpl\n",
    "    \n",
    "# Utility\n",
    "import time"
   ]
  },
  {
   "cell_type": "code",
   "execution_count": 2,
   "metadata": {},
   "outputs": [],
   "source": [
    "# Set visibible GPU\n",
    "gpu_num: int = 1\n",
    "os.environ['CUDA_VISIBLE_DEVICES']=f'{gpu_num}'"
   ]
  },
  {
   "cell_type": "code",
   "execution_count": 3,
   "metadata": {},
   "outputs": [
    {
     "name": "stdout",
     "output_type": "stream",
     "text": [
      "Found 1 GPUs.  Setting memory growth = True.\n"
     ]
    }
   ],
   "source": [
    "# Configure TF GPU growth\n",
    "import kepler_sieve\n",
    "from tf_utils import gpu_grow_memory, get_gpu_device\n",
    "gpu_grow_memory(verbose=True)"
   ]
  },
  {
   "cell_type": "code",
   "execution_count": 4,
   "metadata": {},
   "outputs": [],
   "source": [
    "# MSE Imports\n",
    "from asteroid_search import load_fitted_elts, load_ztf_hits, append_fitted_elt, append_ztf_hit, file_name_model\n",
    "from asteroid_element import load_ast_elt\n",
    "from candidate_element import asteroid_elts, perturb_elts, random_elts, elts_add_mixture_params, elts_add_H\n",
    "from random_elements import load_best_random_elts, make_ztf_ast\n",
    "from ztf_ast import load_ztf_nearest_ast, calc_hit_freq\n",
    "from ztf_element import load_ztf_batch, make_ztf_batch, ztf_score_by_elt, ztf_elt_summary\n",
    "from asteroid_model import AsteroidPosition, AsteroidDirection, make_model_ast_pos\n",
    "from asteroid_search_layers import CandidateElements, MixtureParameters, TrajectoryScore\n",
    "from asteroid_search_model import AsteroidSearchModel\n",
    "from asteroid_search_report import traj_diff\n",
    "from nearest_asteroid import nearest_ast_elt_cart, nearest_ast_elt_cov, elt_q_norm\n",
    "from element_eda import score_by_elt\n",
    "from asteroid_dataframe import calc_ast_data, spline_ast_vec_df\n",
    "from astro_utils import deg2dist, dist2deg, dist2sec"
   ]
  },
  {
   "cell_type": "code",
   "execution_count": 5,
   "metadata": {},
   "outputs": [],
   "source": [
    "# Aliases\n",
    "keras = tf.keras\n",
    "\n",
    "# Constants\n",
    "dtype = tf.float32\n",
    "dtype_np = np.float32\n",
    "space_dims = 3"
   ]
  },
  {
   "cell_type": "code",
   "execution_count": 6,
   "metadata": {},
   "outputs": [],
   "source": [
    "# Set plot style variables\n",
    "mpl.rcParams['figure.figsize'] = [16.0, 10.0]\n",
    "mpl.rcParams['font.size'] = 16"
   ]
  },
  {
   "cell_type": "markdown",
   "metadata": {},
   "source": [
    "## Review Fitted Elements"
   ]
  },
  {
   "cell_type": "code",
   "execution_count": 7,
   "metadata": {},
   "outputs": [],
   "source": [
    "known_ast = False\n",
    "min_hits = 8\n",
    "max_res: float = 20.0"
   ]
  },
  {
   "cell_type": "code",
   "execution_count": 8,
   "metadata": {},
   "outputs": [],
   "source": [
    "fitted_elts = load_fitted_elts(known_ast=known_ast, min_hits=min_hits)\n",
    "fitted_elts.hits = np.round(fitted_elts.hits)\n",
    "fitted_elts.sort_values(['hits', 'R_sec'], ascending=[False, True], inplace=True)\n",
    "best_element_id = fitted_elts.element_id.iloc[0]"
   ]
  },
  {
   "cell_type": "code",
   "execution_count": 9,
   "metadata": {},
   "outputs": [],
   "source": [
    "is_good = fitted_elts.R_sec < max_res\n",
    "good_elts = fitted_elts[is_good]"
   ]
  },
  {
   "cell_type": "code",
   "execution_count": 12,
   "metadata": {},
   "outputs": [
    {
     "data": {
      "text/html": [
       "<div>\n",
       "<style scoped>\n",
       "    .dataframe tbody tr th:only-of-type {\n",
       "        vertical-align: middle;\n",
       "    }\n",
       "\n",
       "    .dataframe tbody tr th {\n",
       "        vertical-align: top;\n",
       "    }\n",
       "\n",
       "    .dataframe thead th {\n",
       "        text-align: right;\n",
       "    }\n",
       "</style>\n",
       "<table border=\"1\" class=\"dataframe\">\n",
       "  <thead>\n",
       "    <tr style=\"text-align: right;\">\n",
       "      <th></th>\n",
       "      <th>element_id</th>\n",
       "      <th>a</th>\n",
       "      <th>e</th>\n",
       "      <th>inc</th>\n",
       "      <th>Omega</th>\n",
       "      <th>omega</th>\n",
       "      <th>f</th>\n",
       "      <th>epoch</th>\n",
       "      <th>num_hits</th>\n",
       "      <th>R_sec</th>\n",
       "      <th>thresh_sec</th>\n",
       "      <th>log_like</th>\n",
       "      <th>hits</th>\n",
       "      <th>num_rows_close</th>\n",
       "      <th>timestamp</th>\n",
       "    </tr>\n",
       "    <tr>\n",
       "      <th>element_id</th>\n",
       "      <th></th>\n",
       "      <th></th>\n",
       "      <th></th>\n",
       "      <th></th>\n",
       "      <th></th>\n",
       "      <th></th>\n",
       "      <th></th>\n",
       "      <th></th>\n",
       "      <th></th>\n",
       "      <th></th>\n",
       "      <th></th>\n",
       "      <th></th>\n",
       "      <th></th>\n",
       "      <th></th>\n",
       "      <th></th>\n",
       "    </tr>\n",
       "  </thead>\n",
       "  <tbody>\n",
       "    <tr>\n",
       "      <th>170789</th>\n",
       "      <td>170789</td>\n",
       "      <td>2.735330</td>\n",
       "      <td>0.152867</td>\n",
       "      <td>0.403704</td>\n",
       "      <td>6.038029</td>\n",
       "      <td>3.016818</td>\n",
       "      <td>-3.443415</td>\n",
       "      <td>58600.0</td>\n",
       "      <td>9.997651</td>\n",
       "      <td>5.272874</td>\n",
       "      <td>336.844482</td>\n",
       "      <td>63.894360</td>\n",
       "      <td>10.0</td>\n",
       "      <td>13.0</td>\n",
       "      <td>2020-04-27 15:50:49.486473</td>\n",
       "    </tr>\n",
       "    <tr>\n",
       "      <th>178421</th>\n",
       "      <td>178421</td>\n",
       "      <td>3.159712</td>\n",
       "      <td>0.088905</td>\n",
       "      <td>0.153618</td>\n",
       "      <td>2.668798</td>\n",
       "      <td>4.773842</td>\n",
       "      <td>-0.463039</td>\n",
       "      <td>58600.0</td>\n",
       "      <td>10.988490</td>\n",
       "      <td>10.796460</td>\n",
       "      <td>502.733093</td>\n",
       "      <td>61.412579</td>\n",
       "      <td>10.0</td>\n",
       "      <td>19.0</td>\n",
       "      <td>2020-04-28 08:06:44.166954</td>\n",
       "    </tr>\n",
       "    <tr>\n",
       "      <th>44117</th>\n",
       "      <td>44117</td>\n",
       "      <td>2.935864</td>\n",
       "      <td>0.187419</td>\n",
       "      <td>0.124515</td>\n",
       "      <td>3.166528</td>\n",
       "      <td>1.230836</td>\n",
       "      <td>-3.122138</td>\n",
       "      <td>58600.0</td>\n",
       "      <td>9.990374</td>\n",
       "      <td>13.031281</td>\n",
       "      <td>863.441772</td>\n",
       "      <td>57.351826</td>\n",
       "      <td>10.0</td>\n",
       "      <td>29.0</td>\n",
       "      <td>2020-04-24 20:09:21.720375</td>\n",
       "    </tr>\n",
       "    <tr>\n",
       "      <th>3308</th>\n",
       "      <td>3308</td>\n",
       "      <td>3.026904</td>\n",
       "      <td>0.119945</td>\n",
       "      <td>0.129432</td>\n",
       "      <td>3.903342</td>\n",
       "      <td>4.525802</td>\n",
       "      <td>4.818909</td>\n",
       "      <td>58600.0</td>\n",
       "      <td>9.921326</td>\n",
       "      <td>5.803865</td>\n",
       "      <td>336.060303</td>\n",
       "      <td>59.502411</td>\n",
       "      <td>9.0</td>\n",
       "      <td>14.0</td>\n",
       "      <td>2020-04-23 22:58:22.891494</td>\n",
       "    </tr>\n",
       "    <tr>\n",
       "      <th>45801</th>\n",
       "      <td>45801</td>\n",
       "      <td>2.754677</td>\n",
       "      <td>0.047293</td>\n",
       "      <td>0.118126</td>\n",
       "      <td>3.139070</td>\n",
       "      <td>5.767782</td>\n",
       "      <td>-1.949476</td>\n",
       "      <td>58600.0</td>\n",
       "      <td>8.976903</td>\n",
       "      <td>12.320272</td>\n",
       "      <td>589.068054</td>\n",
       "      <td>50.120068</td>\n",
       "      <td>9.0</td>\n",
       "      <td>18.0</td>\n",
       "      <td>2020-04-24 20:53:59.991079</td>\n",
       "    </tr>\n",
       "    <tr>\n",
       "      <th>191915</th>\n",
       "      <td>191915</td>\n",
       "      <td>2.315446</td>\n",
       "      <td>0.192885</td>\n",
       "      <td>0.057156</td>\n",
       "      <td>2.130249</td>\n",
       "      <td>2.865086</td>\n",
       "      <td>-4.122024</td>\n",
       "      <td>58600.0</td>\n",
       "      <td>7.974357</td>\n",
       "      <td>13.703813</td>\n",
       "      <td>732.464905</td>\n",
       "      <td>37.517681</td>\n",
       "      <td>8.0</td>\n",
       "      <td>41.0</td>\n",
       "      <td>2020-04-28 07:12:19.739871</td>\n",
       "    </tr>\n",
       "    <tr>\n",
       "      <th>113970</th>\n",
       "      <td>113970</td>\n",
       "      <td>2.897023</td>\n",
       "      <td>0.068932</td>\n",
       "      <td>0.209250</td>\n",
       "      <td>5.663728</td>\n",
       "      <td>3.868474</td>\n",
       "      <td>4.450756</td>\n",
       "      <td>58600.0</td>\n",
       "      <td>7.983499</td>\n",
       "      <td>14.468097</td>\n",
       "      <td>690.245483</td>\n",
       "      <td>46.563499</td>\n",
       "      <td>8.0</td>\n",
       "      <td>14.0</td>\n",
       "      <td>2020-04-26 10:51:54.459207</td>\n",
       "    </tr>\n",
       "    <tr>\n",
       "      <th>96507</th>\n",
       "      <td>96507</td>\n",
       "      <td>2.820178</td>\n",
       "      <td>0.069025</td>\n",
       "      <td>0.080228</td>\n",
       "      <td>2.221972</td>\n",
       "      <td>0.960994</td>\n",
       "      <td>-2.630978</td>\n",
       "      <td>58600.0</td>\n",
       "      <td>9.045378</td>\n",
       "      <td>18.369638</td>\n",
       "      <td>750.331299</td>\n",
       "      <td>42.609283</td>\n",
       "      <td>8.0</td>\n",
       "      <td>28.0</td>\n",
       "      <td>2020-04-26 01:52:35.212885</td>\n",
       "    </tr>\n",
       "    <tr>\n",
       "      <th>50775</th>\n",
       "      <td>50775</td>\n",
       "      <td>2.374712</td>\n",
       "      <td>0.100280</td>\n",
       "      <td>0.165483</td>\n",
       "      <td>4.280114</td>\n",
       "      <td>5.955170</td>\n",
       "      <td>2.995417</td>\n",
       "      <td>58600.0</td>\n",
       "      <td>9.970323</td>\n",
       "      <td>19.354061</td>\n",
       "      <td>862.389160</td>\n",
       "      <td>47.708138</td>\n",
       "      <td>8.0</td>\n",
       "      <td>31.0</td>\n",
       "      <td>2020-04-24 23:35:22.881139</td>\n",
       "    </tr>\n",
       "  </tbody>\n",
       "</table>\n",
       "</div>"
      ],
      "text/plain": [
       "            element_id         a         e       inc     Omega     omega  \\\n",
       "element_id                                                                 \n",
       "170789          170789  2.735330  0.152867  0.403704  6.038029  3.016818   \n",
       "178421          178421  3.159712  0.088905  0.153618  2.668798  4.773842   \n",
       "44117            44117  2.935864  0.187419  0.124515  3.166528  1.230836   \n",
       "3308              3308  3.026904  0.119945  0.129432  3.903342  4.525802   \n",
       "45801            45801  2.754677  0.047293  0.118126  3.139070  5.767782   \n",
       "191915          191915  2.315446  0.192885  0.057156  2.130249  2.865086   \n",
       "113970          113970  2.897023  0.068932  0.209250  5.663728  3.868474   \n",
       "96507            96507  2.820178  0.069025  0.080228  2.221972  0.960994   \n",
       "50775            50775  2.374712  0.100280  0.165483  4.280114  5.955170   \n",
       "\n",
       "                   f    epoch   num_hits      R_sec  thresh_sec   log_like  \\\n",
       "element_id                                                                   \n",
       "170789     -3.443415  58600.0   9.997651   5.272874  336.844482  63.894360   \n",
       "178421     -0.463039  58600.0  10.988490  10.796460  502.733093  61.412579   \n",
       "44117      -3.122138  58600.0   9.990374  13.031281  863.441772  57.351826   \n",
       "3308        4.818909  58600.0   9.921326   5.803865  336.060303  59.502411   \n",
       "45801      -1.949476  58600.0   8.976903  12.320272  589.068054  50.120068   \n",
       "191915     -4.122024  58600.0   7.974357  13.703813  732.464905  37.517681   \n",
       "113970      4.450756  58600.0   7.983499  14.468097  690.245483  46.563499   \n",
       "96507      -2.630978  58600.0   9.045378  18.369638  750.331299  42.609283   \n",
       "50775       2.995417  58600.0   9.970323  19.354061  862.389160  47.708138   \n",
       "\n",
       "            hits  num_rows_close                  timestamp  \n",
       "element_id                                                   \n",
       "170789      10.0            13.0 2020-04-27 15:50:49.486473  \n",
       "178421      10.0            19.0 2020-04-28 08:06:44.166954  \n",
       "44117       10.0            29.0 2020-04-24 20:09:21.720375  \n",
       "3308         9.0            14.0 2020-04-23 22:58:22.891494  \n",
       "45801        9.0            18.0 2020-04-24 20:53:59.991079  \n",
       "191915       8.0            41.0 2020-04-28 07:12:19.739871  \n",
       "113970       8.0            14.0 2020-04-26 10:51:54.459207  \n",
       "96507        8.0            28.0 2020-04-26 01:52:35.212885  \n",
       "50775        8.0            31.0 2020-04-24 23:35:22.881139  "
      ]
     },
     "execution_count": 12,
     "metadata": {},
     "output_type": "execute_result"
    }
   ],
   "source": [
    "good_elts"
   ]
  },
  {
   "cell_type": "code",
   "execution_count": 13,
   "metadata": {},
   "outputs": [
    {
     "data": {
      "text/plain": [
       "9"
      ]
     },
     "execution_count": 13,
     "metadata": {},
     "output_type": "execute_result"
    }
   ],
   "source": [
    "good_elts.shape[0]"
   ]
  },
  {
   "cell_type": "code",
   "execution_count": null,
   "metadata": {},
   "outputs": [],
   "source": [
    "fitted_elts.loc[best_element_id]"
   ]
  },
  {
   "cell_type": "code",
   "execution_count": null,
   "metadata": {},
   "outputs": [],
   "source": [
    "cols_elt = ['a', 'e', 'inc', 'Omega', 'omega', 'f', 'epoch']\n",
    "best_elt = fitted_elts[cols_elt].loc[best_element_id]"
   ]
  },
  {
   "cell_type": "code",
   "execution_count": null,
   "metadata": {},
   "outputs": [],
   "source": [
    "# fitted_elts.to_csv('../data/candidate_elt/fitted_elts_best.csv')"
   ]
  },
  {
   "cell_type": "markdown",
   "metadata": {},
   "source": [
    "## Review ZTF Hits"
   ]
  },
  {
   "cell_type": "code",
   "execution_count": null,
   "metadata": {},
   "outputs": [],
   "source": [
    "ztf_hits = load_ztf_hits(known_ast=known_ast, display=True, min_hits=3)"
   ]
  },
  {
   "cell_type": "code",
   "execution_count": null,
   "metadata": {},
   "outputs": [],
   "source": [
    "ztf_hits.loc[best_element_id]"
   ]
  },
  {
   "cell_type": "code",
   "execution_count": null,
   "metadata": {},
   "outputs": [],
   "source": [
    "cols = ['ObjectID', 'CandidateID', 'mjd', 'ra', 'dec', 'mag_app', 's_sec']\n",
    "best_hits  = ztf_hits[cols].loc[best_element_id].reset_index()"
   ]
  },
  {
   "cell_type": "code",
   "execution_count": null,
   "metadata": {},
   "outputs": [],
   "source": [
    "best_hits"
   ]
  },
  {
   "cell_type": "code",
   "execution_count": null,
   "metadata": {},
   "outputs": [],
   "source": [
    "# best_hits.to_csv('../data/candidate_elt/ztf_hits_best.csv')"
   ]
  },
  {
   "cell_type": "code",
   "execution_count": null,
   "metadata": {},
   "outputs": [],
   "source": [
    "np.mean(ztf_hits.s_sec.loc[best_element_id])"
   ]
  },
  {
   "cell_type": "code",
   "execution_count": null,
   "metadata": {},
   "outputs": [],
   "source": [
    "ztf_id_close = ztf_hits.ztf_id.loc[best_element_id]"
   ]
  },
  {
   "cell_type": "code",
   "execution_count": null,
   "metadata": {},
   "outputs": [],
   "source": [
    "# ztf_hits.to_csv('../data/candidate_elt/ztf_hits_unknown.csv')"
   ]
  },
  {
   "cell_type": "markdown",
   "metadata": {},
   "source": [
    "## Load ZTF Data and Batch of Orbital Elements"
   ]
  },
  {
   "cell_type": "code",
   "execution_count": null,
   "metadata": {},
   "outputs": [],
   "source": [
    "# Load orbital elements for known asteroids\n",
    "ast_elt = load_ast_elt()\n",
    "\n",
    "# Number of asteroids\n",
    "N_ast = ast_elt.shape[0]"
   ]
  },
  {
   "cell_type": "code",
   "execution_count": null,
   "metadata": {},
   "outputs": [],
   "source": [
    "# Parameters to build random orbital elements and ztf_ast\n",
    "batch_size_init = 1024\n",
    "batch_size = 64\n",
    "random_seed = best_element_id // batch_size\n",
    "thresh_deg = 2.0"
   ]
  },
  {
   "cell_type": "code",
   "execution_count": null,
   "metadata": {},
   "outputs": [],
   "source": [
    "# Load ztf nearest asteroid data\n",
    "ztf_ast = make_ztf_ast(known_ast=known_ast)"
   ]
  },
  {
   "cell_type": "code",
   "execution_count": null,
   "metadata": {},
   "outputs": [],
   "source": [
    "# Review ztf_ast\n",
    "ztf_ast"
   ]
  },
  {
   "cell_type": "code",
   "execution_count": null,
   "metadata": {},
   "outputs": [],
   "source": [
    "# Best random elements\n",
    "elts = load_best_random_elts(random_seed=random_seed, known_ast=known_ast, \n",
    "                             batch_size_init=batch_size_init, batch_size=batch_size, thresh_deg=thresh_deg)"
   ]
  },
  {
   "cell_type": "code",
   "execution_count": null,
   "metadata": {},
   "outputs": [],
   "source": [
    "# # Review best random elements\n",
    "# elts"
   ]
  },
  {
   "cell_type": "code",
   "execution_count": null,
   "metadata": {},
   "outputs": [],
   "source": [
    "ztf_ast.loc[ztf_id_close]"
   ]
  },
  {
   "cell_type": "code",
   "execution_count": null,
   "metadata": {},
   "outputs": [],
   "source": [
    "close_ast_num = ztf_ast.nearest_ast_num.loc[ztf_id_close].mode().values[0]\n",
    "close_ast_num"
   ]
  },
  {
   "cell_type": "code",
   "execution_count": null,
   "metadata": {},
   "outputs": [],
   "source": [
    "nearest_ast_dist = ztf_ast.nearest_ast_dist.loc[ztf_id_close]"
   ]
  },
  {
   "cell_type": "code",
   "execution_count": null,
   "metadata": {},
   "outputs": [],
   "source": [
    "nearest_ast_sec = dist2sec(nearest_ast_dist).values\n",
    "nearest_ast_sec"
   ]
  },
  {
   "cell_type": "code",
   "execution_count": null,
   "metadata": {},
   "outputs": [],
   "source": [
    "np.mean(nearest_ast_sec)"
   ]
  },
  {
   "cell_type": "code",
   "execution_count": null,
   "metadata": {},
   "outputs": [],
   "source": [
    "ast_elt.Name.loc[close_ast_num]"
   ]
  },
  {
   "cell_type": "code",
   "execution_count": null,
   "metadata": {},
   "outputs": [],
   "source": [
    "near_elt = ast_elt[cols_elt].loc[close_ast_num]\n",
    "near_elt"
   ]
  },
  {
   "cell_type": "code",
   "execution_count": null,
   "metadata": {},
   "outputs": [],
   "source": [
    "best_elt - near_elt"
   ]
  },
  {
   "cell_type": "markdown",
   "metadata": {},
   "source": [
    "## Batches of ZTF Data Near Initial Candidate Elements"
   ]
  },
  {
   "cell_type": "code",
   "execution_count": null,
   "metadata": {},
   "outputs": [],
   "source": [
    "# Arguments to make_ztf_batch\n",
    "near_ast = False\n",
    "regenerate = False"
   ]
  },
  {
   "cell_type": "code",
   "execution_count": null,
   "metadata": {},
   "outputs": [],
   "source": [
    "# Load perturbed element batch\n",
    "ztf_elt = load_ztf_batch(elts=elts, ztf=ztf_ast, thresh_deg=thresh_deg, near_ast=near_ast, regenerate=regenerate)"
   ]
  },
  {
   "cell_type": "code",
   "execution_count": null,
   "metadata": {},
   "outputs": [],
   "source": [
    "# # Review ZTF elements\n",
    "# ztf_elt"
   ]
  },
  {
   "cell_type": "code",
   "execution_count": null,
   "metadata": {},
   "outputs": [],
   "source": [
    "# Mixture parameters\n",
    "num_hits: int = 10\n",
    "R_deg: float = 0.5"
   ]
  },
  {
   "cell_type": "code",
   "execution_count": null,
   "metadata": {},
   "outputs": [],
   "source": [
    "# Add mixture parameters to candidate elements\n",
    "elts_add_mixture_params(elts=elts, num_hits=num_hits, R_deg=R_deg, thresh_deg=thresh_deg)"
   ]
  },
  {
   "cell_type": "code",
   "execution_count": null,
   "metadata": {},
   "outputs": [],
   "source": [
    "# Add brightness parameter H\n",
    "elts_add_H(elts=elts)"
   ]
  },
  {
   "cell_type": "code",
   "execution_count": null,
   "metadata": {},
   "outputs": [],
   "source": [
    "# # Review perturbed elements\n",
    "# elts"
   ]
  },
  {
   "cell_type": "markdown",
   "metadata": {},
   "source": [
    "## Build Asteroid Search Model"
   ]
  },
  {
   "cell_type": "code",
   "execution_count": null,
   "metadata": {},
   "outputs": [],
   "source": [
    "# Observatory for ZTF data is Palomar Mountain\n",
    "site_name = 'palomar'"
   ]
  },
  {
   "cell_type": "code",
   "execution_count": null,
   "metadata": {},
   "outputs": [],
   "source": [
    "# Training parameters\n",
    "learning_rate = 2.0**-12\n",
    "clipnorm = 1.0"
   ]
  },
  {
   "cell_type": "code",
   "execution_count": null,
   "metadata": {},
   "outputs": [],
   "source": [
    "# The file name for the saved model\n",
    "file_name = file_name_model(seed=random_seed, known_ast=known_ast, \n",
    "                            batch_size_init=batch_size_init, batch_size=batch_size, thresh_deg=thresh_deg)"
   ]
  },
  {
   "cell_type": "code",
   "execution_count": null,
   "metadata": {},
   "outputs": [],
   "source": [
    "# Build asteroid search model\n",
    "model = AsteroidSearchModel(\n",
    "                elts=elts, ztf_elt=ztf_elt, \n",
    "                site_name=site_name, thresh_deg=thresh_deg, \n",
    "                learning_rate=learning_rate, clipnorm=clipnorm,\n",
    "                name='model',\n",
    "                file_name=file_name,\n",
    ")"
   ]
  },
  {
   "cell_type": "code",
   "execution_count": null,
   "metadata": {},
   "outputs": [],
   "source": [
    "# Load trained model\n",
    "model.load()"
   ]
  },
  {
   "cell_type": "code",
   "execution_count": null,
   "metadata": {},
   "outputs": [],
   "source": [
    "# Report before training starts\n",
    "model.report()"
   ]
  },
  {
   "cell_type": "code",
   "execution_count": null,
   "metadata": {},
   "outputs": [],
   "source": [
    "# Generate fitted elements\n",
    "elts_fit = model.candidates_df()"
   ]
  },
  {
   "cell_type": "code",
   "execution_count": null,
   "metadata": {},
   "outputs": [],
   "source": [
    "cols = ['element_id', 'a', 'e', 'inc', 'Omega', 'omega', 'f', 'epoch',\n",
    "        'num_hits', 'R', 'R_deg', 'R_sec', 'R_max', 'R_deg_max', 'thresh_s',\n",
    "        'thresh_deg', 'thresh_sec', 'log_like', 'hits', 'num_rows_close']"
   ]
  },
  {
   "cell_type": "code",
   "execution_count": null,
   "metadata": {},
   "outputs": [],
   "source": [
    "# elts_fit[cols]"
   ]
  },
  {
   "cell_type": "code",
   "execution_count": null,
   "metadata": {},
   "outputs": [],
   "source": [
    "# Save ztf_hits to ztf_hits_known_ast or ztf_unknown_ast"
   ]
  },
  {
   "cell_type": "code",
   "execution_count": null,
   "metadata": {},
   "outputs": [],
   "source": [
    "# Generate ZTF hits\n",
    "ztf_hit = model.calc_ztf_hits()"
   ]
  },
  {
   "cell_type": "code",
   "execution_count": null,
   "metadata": {},
   "outputs": [],
   "source": [
    "# ztf_hit"
   ]
  },
  {
   "cell_type": "code",
   "execution_count": null,
   "metadata": {},
   "outputs": [],
   "source": [
    "elts_fit, elts_near_ast = model.nearest_ast()"
   ]
  },
  {
   "cell_type": "code",
   "execution_count": null,
   "metadata": {},
   "outputs": [],
   "source": [
    "# Review asteroids nearest to the fitted elements\n",
    "cols = ['element_id', 'log_like', 'hits', 'R_sec', 'thresh_sec', 'nearest_ast_num', 'nearest_ast_dist', 'nearest_ast_q_norm']\n",
    "\n",
    "# Summary\n",
    "has_hits = (model.elts_fit.hits >= 5)\n",
    "is_converged = has_hits\n",
    "num_converged = np.sum(is_converged)\n",
    "\n",
    "# Mean on converged\n",
    "mean_hits = np.mean(model.elts_fit.hits[is_converged])\n",
    "mean_R_sec = np.mean(model.elts_fit.R_sec[is_converged])\n",
    "err_cart_mean = np.mean(model.elts_near_ast.nearest_ast_dist[is_converged])\n",
    "err_cart_geo = np.exp(np.mean(np.log(model.elts_near_ast.nearest_ast_dist[is_converged])))\n",
    "err_cov_mean = np.exp(np.mean(np.log(model.elts_near_ast.nearest_ast_q_norm[is_converged])))\n",
    "\n",
    "# Report\n",
    "print(f'Good convergence on {num_converged} asteroids.')\n",
    "print(f'Mean on converged asteroids:')\n",
    "print(f'Number of hits         : {mean_hits:5.2f}')\n",
    "print(f'Resolution in arc sec  : {mean_R_sec:5.2f}')\n",
    "print(f'GeoMean Distance in AU : {err_cart_geo:5.2e}')\n",
    "print(f'Covariance norm        : {err_cov_mean:5.2e}')"
   ]
  },
  {
   "cell_type": "code",
   "execution_count": null,
   "metadata": {},
   "outputs": [],
   "source": [
    "# Review good matches\n",
    "model.elts_fit[cols][is_converged].sort_values(by=['hits', 'R_sec'], ascending=[False, True])"
   ]
  },
  {
   "cell_type": "code",
   "execution_count": null,
   "metadata": {},
   "outputs": [],
   "source": [
    "from nearest_asteroid import calc_elt_pos, ts"
   ]
  },
  {
   "cell_type": "code",
   "execution_count": null,
   "metadata": {},
   "outputs": [],
   "source": [
    "best_loc = best_element_id % batch_size\n",
    "elts.loc[best_loc:best_loc]"
   ]
  },
  {
   "cell_type": "code",
   "execution_count": null,
   "metadata": {},
   "outputs": [],
   "source": [
    "q_best_elt = calc_elt_pos(elts.loc[best_loc:best_loc], ts)"
   ]
  },
  {
   "cell_type": "code",
   "execution_count": null,
   "metadata": {},
   "outputs": [],
   "source": [
    "q_near_ast = calc_elt_pos(ast_elt.loc[close_ast_num:close_ast_num], ts)"
   ]
  },
  {
   "cell_type": "code",
   "execution_count": null,
   "metadata": {},
   "outputs": [],
   "source": [
    "mean_dist = np.mean(np.linalg.norm(q_best_elt-q_near_ast, axis=2))\n",
    "mean_dist"
   ]
  },
  {
   "cell_type": "code",
   "execution_count": null,
   "metadata": {},
   "outputs": [],
   "source": [
    "elt_q_norm(elts.loc[best_loc:best_loc], np.array([close_ast_num]))"
   ]
  },
  {
   "cell_type": "code",
   "execution_count": null,
   "metadata": {},
   "outputs": [],
   "source": []
  }
 ],
 "metadata": {
  "kernelspec": {
   "display_name": "Python [conda env:kepler]",
   "language": "python",
   "name": "conda-env-kepler-py"
  },
  "language_info": {
   "codemirror_mode": {
    "name": "ipython",
    "version": 3
   },
   "file_extension": ".py",
   "mimetype": "text/x-python",
   "name": "python",
   "nbconvert_exporter": "python",
   "pygments_lexer": "ipython3",
   "version": "3.7.6"
  }
 },
 "nbformat": 4,
 "nbformat_minor": 4
}
