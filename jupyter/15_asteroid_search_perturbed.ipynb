{
 "cells": [
  {
   "cell_type": "code",
   "execution_count": 1,
   "metadata": {},
   "outputs": [
    {
     "name": "stdout",
     "output_type": "stream",
     "text": [
      "Found 4 GPUs.  Setting memory growth = True.\n"
     ]
    }
   ],
   "source": [
    "# Core\n",
    "import numpy as np\n",
    "import pandas as pd\n",
    "\n",
    "# Tensorflow / ML\n",
    "import tensorflow as tf\n",
    "\n",
    "# Plotting\n",
    "import matplotlib.pyplot as plt\n",
    "import matplotlib as mpl\n",
    "\n",
    "# Utility\n",
    "import time\n",
    "\n",
    "# MSE Imports\n",
    "import kepler_sieve\n",
    "from asteroid_element import load_ast_elt\n",
    "from candidate_element import asteroid_elts, perturb_elts, random_elts, elts_add_mixture_params, elts_add_H\n",
    "from ztf_ast import load_ztf_nearest_ast, calc_hit_freq\n",
    "from ztf_element import load_ztf_batch, make_ztf_batch, ztf_score_by_elt, ztf_elt_summary\n",
    "from asteroid_model import AsteroidPosition, AsteroidDirection, make_model_ast_pos\n",
    "from asteroid_search_layers import CandidateElements, MixtureParameters, TrajectoryScore\n",
    "from asteroid_search_model import AsteroidSearchModel, make_opt_adam\n",
    "from asteroid_search_report import traj_diff\n",
    "from nearest_asteroid import nearest_ast_elt_cart, nearest_ast_elt_cov, elt_q_norm\n",
    "from element_eda import score_by_elt\n",
    "from asteroid_dataframe import calc_ast_data, spline_ast_vec_df\n",
    "from astro_utils import deg2dist, dist2deg, dist2sec"
   ]
  },
  {
   "cell_type": "code",
   "execution_count": 2,
   "metadata": {},
   "outputs": [],
   "source": [
    "# Aliases\n",
    "keras = tf.keras\n",
    "\n",
    "# Constants\n",
    "dtype = tf.float32\n",
    "dtype_np = np.float32\n",
    "space_dims = 3"
   ]
  },
  {
   "cell_type": "code",
   "execution_count": 3,
   "metadata": {},
   "outputs": [],
   "source": [
    "# Set plot style variables\n",
    "mpl.rcParams['figure.figsize'] = [16.0, 10.0]\n",
    "mpl.rcParams['font.size'] = 16"
   ]
  },
  {
   "cell_type": "markdown",
   "metadata": {},
   "source": [
    "## Load ZTF Data and Batch of Orbital Elements"
   ]
  },
  {
   "cell_type": "code",
   "execution_count": 48,
   "metadata": {},
   "outputs": [],
   "source": [
    "# Load orbital elements for known asteroids\n",
    "ast_elt = load_ast_elt()\n",
    "\n",
    "# Number of asteroids\n",
    "N_ast = ast_elt.shape[0]"
   ]
  },
  {
   "cell_type": "code",
   "execution_count": 49,
   "metadata": {},
   "outputs": [],
   "source": [
    "# Load ztf nearest asteroid data\n",
    "ztf_ast = load_ztf_nearest_ast()"
   ]
  },
  {
   "cell_type": "code",
   "execution_count": 50,
   "metadata": {},
   "outputs": [],
   "source": [
    "# Asteroid numbers and hit counts\n",
    "ast_num, hit_count = calc_hit_freq(ztf=ztf_ast, thresh_sec=2.0)\n",
    "\n",
    "# Sort the hit counts in descending order and find the top batch_size\n",
    "idx = np.argsort(hit_count)[::-1]\n",
    "\n",
    "# Extract the asteroid number and hit count for this batch\n",
    "ast_num_best = ast_num[idx]\n",
    "hit_count_best = hit_count[idx]"
   ]
  },
  {
   "cell_type": "code",
   "execution_count": 51,
   "metadata": {},
   "outputs": [],
   "source": [
    "# Parameters to build elements batch\n",
    "batch_size = 64\n",
    "\n",
    "# Batch of unperturbed elements\n",
    "elts_ast = asteroid_elts(ast_nums=ast_num_best[0:batch_size])"
   ]
  },
  {
   "cell_type": "code",
   "execution_count": 52,
   "metadata": {},
   "outputs": [],
   "source": [
    "# # Review unperturbed elements\n",
    "# elts_ast"
   ]
  },
  {
   "cell_type": "code",
   "execution_count": 53,
   "metadata": {},
   "outputs": [],
   "source": [
    "# Inputs to perturb elements: large\n",
    "sigma_a = 0.05\n",
    "sigma_e = 0.01\n",
    "sigma_inc_deg = 0.25\n",
    "sigma_f_deg = 1.0\n",
    "sigma_Omega_deg = 1.0\n",
    "sigma_omega_deg = 1.0\n",
    "mask_pert = None\n",
    "random_seed = 42\n",
    "\n",
    "# Perturb orbital elements\n",
    "elts_pert= perturb_elts(elts_ast, sigma_a=sigma_a, sigma_e=sigma_e, \n",
    "                    sigma_inc_deg=sigma_inc_deg, sigma_f_deg=sigma_f_deg, \n",
    "                    sigma_Omega_deg=sigma_Omega_deg, sigma_omega_deg=sigma_omega_deg,\n",
    "                    mask_pert=mask_pert, random_seed=random_seed)"
   ]
  },
  {
   "cell_type": "code",
   "execution_count": 54,
   "metadata": {},
   "outputs": [],
   "source": [
    "# Choose which elements to search on\n",
    "elts = elts_pert"
   ]
  },
  {
   "cell_type": "code",
   "execution_count": 11,
   "metadata": {},
   "outputs": [],
   "source": [
    "# Search for nearest asteroids to these elements\n",
    "# elts_near = nearest_ast_elt(elts)"
   ]
  },
  {
   "cell_type": "code",
   "execution_count": 12,
   "metadata": {},
   "outputs": [],
   "source": [
    "# Review selected initial candidate elements, including the nearest asteroid information\n",
    "# elts"
   ]
  },
  {
   "cell_type": "code",
   "execution_count": 13,
   "metadata": {},
   "outputs": [],
   "source": [
    "# Review nearest asteroid to these candidate elements\n",
    "# elts_near"
   ]
  },
  {
   "cell_type": "code",
   "execution_count": 14,
   "metadata": {},
   "outputs": [],
   "source": [
    "# How many elements are still closest to the original elements?\n",
    "# np.sum(elts.nearest_ast_num == elts.element_id)"
   ]
  },
  {
   "cell_type": "markdown",
   "metadata": {},
   "source": [
    "## Batches of ZTF Data Near Initial Candidate Elements"
   ]
  },
  {
   "cell_type": "code",
   "execution_count": 55,
   "metadata": {},
   "outputs": [],
   "source": [
    "# Arguments to make_ztf_batch\n",
    "thresh_deg = 2.0\n",
    "near_ast = False\n",
    "regenerate = False"
   ]
  },
  {
   "cell_type": "code",
   "execution_count": 56,
   "metadata": {},
   "outputs": [],
   "source": [
    "# Load perturbed element batch\n",
    "ztf_elt = load_ztf_batch(elts=elts, thresh_deg=thresh_deg, near_ast=near_ast, regenerate=regenerate)"
   ]
  },
  {
   "cell_type": "code",
   "execution_count": 57,
   "metadata": {},
   "outputs": [
    {
     "data": {
      "text/html": [
       "<div>\n",
       "<style scoped>\n",
       "    .dataframe tbody tr th:only-of-type {\n",
       "        vertical-align: middle;\n",
       "    }\n",
       "\n",
       "    .dataframe tbody tr th {\n",
       "        vertical-align: top;\n",
       "    }\n",
       "\n",
       "    .dataframe thead th {\n",
       "        text-align: right;\n",
       "    }\n",
       "</style>\n",
       "<table border=\"1\" class=\"dataframe\">\n",
       "  <thead>\n",
       "    <tr style=\"text-align: right;\">\n",
       "      <th></th>\n",
       "      <th>ztf_id</th>\n",
       "      <th>element_id</th>\n",
       "      <th>ObjectID</th>\n",
       "      <th>CandidateID</th>\n",
       "      <th>TimeStampID</th>\n",
       "      <th>mjd</th>\n",
       "      <th>ra</th>\n",
       "      <th>dec</th>\n",
       "      <th>ux</th>\n",
       "      <th>uy</th>\n",
       "      <th>...</th>\n",
       "      <th>vz</th>\n",
       "      <th>elt_ux</th>\n",
       "      <th>elt_uy</th>\n",
       "      <th>elt_uz</th>\n",
       "      <th>elt_r</th>\n",
       "      <th>s</th>\n",
       "      <th>s_sec</th>\n",
       "      <th>z</th>\n",
       "      <th>v</th>\n",
       "      <th>is_hit</th>\n",
       "    </tr>\n",
       "  </thead>\n",
       "  <tbody>\n",
       "    <tr>\n",
       "      <th>0</th>\n",
       "      <td>306</td>\n",
       "      <td>733</td>\n",
       "      <td>b'ZTF18abiyevm'</td>\n",
       "      <td>567274570115015018</td>\n",
       "      <td>3341</td>\n",
       "      <td>58321.274572</td>\n",
       "      <td>275.834958</td>\n",
       "      <td>-12.178240</td>\n",
       "      <td>0.099376</td>\n",
       "      <td>-0.976101</td>\n",
       "      <td>...</td>\n",
       "      <td>0.004095</td>\n",
       "      <td>0.080910</td>\n",
       "      <td>-0.982320</td>\n",
       "      <td>0.168822</td>\n",
       "      <td>2.050675</td>\n",
       "      <td>0.031258</td>\n",
       "      <td>6447.753750</td>\n",
       "      <td>0.999511</td>\n",
       "      <td>0.801975</td>\n",
       "      <td>False</td>\n",
       "    </tr>\n",
       "    <tr>\n",
       "      <th>1</th>\n",
       "      <td>6391</td>\n",
       "      <td>733</td>\n",
       "      <td>b'ZTF18ablpbwh'</td>\n",
       "      <td>617122522515015016</td>\n",
       "      <td>8730</td>\n",
       "      <td>58371.122523</td>\n",
       "      <td>272.156750</td>\n",
       "      <td>-10.136454</td>\n",
       "      <td>0.037046</td>\n",
       "      <td>-0.972528</td>\n",
       "      <td>...</td>\n",
       "      <td>0.003837</td>\n",
       "      <td>0.016116</td>\n",
       "      <td>-0.975703</td>\n",
       "      <td>0.218503</td>\n",
       "      <td>2.491969</td>\n",
       "      <td>0.024005</td>\n",
       "      <td>4951.468379</td>\n",
       "      <td>0.999712</td>\n",
       "      <td>0.472962</td>\n",
       "      <td>False</td>\n",
       "    </tr>\n",
       "    <tr>\n",
       "      <th>2</th>\n",
       "      <td>6392</td>\n",
       "      <td>733</td>\n",
       "      <td>b'ZTF18ablpbwh'</td>\n",
       "      <td>618126362515015025</td>\n",
       "      <td>8913</td>\n",
       "      <td>58372.126366</td>\n",
       "      <td>272.156760</td>\n",
       "      <td>-10.136446</td>\n",
       "      <td>0.037046</td>\n",
       "      <td>-0.972528</td>\n",
       "      <td>...</td>\n",
       "      <td>0.003830</td>\n",
       "      <td>0.017464</td>\n",
       "      <td>-0.975564</td>\n",
       "      <td>0.219021</td>\n",
       "      <td>2.503645</td>\n",
       "      <td>0.022568</td>\n",
       "      <td>4655.153797</td>\n",
       "      <td>0.999745</td>\n",
       "      <td>0.418050</td>\n",
       "      <td>False</td>\n",
       "    </tr>\n",
       "    <tr>\n",
       "      <th>3</th>\n",
       "      <td>6393</td>\n",
       "      <td>733</td>\n",
       "      <td>b'ZTF18ablpbwh'</td>\n",
       "      <td>611146562515015015</td>\n",
       "      <td>7585</td>\n",
       "      <td>58365.146562</td>\n",
       "      <td>272.156733</td>\n",
       "      <td>-10.136444</td>\n",
       "      <td>0.037046</td>\n",
       "      <td>-0.972528</td>\n",
       "      <td>...</td>\n",
       "      <td>0.003876</td>\n",
       "      <td>0.010155</td>\n",
       "      <td>-0.976524</td>\n",
       "      <td>0.215169</td>\n",
       "      <td>2.423439</td>\n",
       "      <td>0.030883</td>\n",
       "      <td>6370.298847</td>\n",
       "      <td>0.999523</td>\n",
       "      <td>0.782824</td>\n",
       "      <td>False</td>\n",
       "    </tr>\n",
       "    <tr>\n",
       "      <th>4</th>\n",
       "      <td>12249</td>\n",
       "      <td>733</td>\n",
       "      <td>b'ZTF18ablwzcc'</td>\n",
       "      <td>584190354815015015</td>\n",
       "      <td>4647</td>\n",
       "      <td>58338.190359</td>\n",
       "      <td>273.272132</td>\n",
       "      <td>-13.497675</td>\n",
       "      <td>0.055502</td>\n",
       "      <td>-0.983530</td>\n",
       "      <td>...</td>\n",
       "      <td>0.004023</td>\n",
       "      <td>0.030085</td>\n",
       "      <td>-0.980846</td>\n",
       "      <td>0.192450</td>\n",
       "      <td>2.155818</td>\n",
       "      <td>0.032724</td>\n",
       "      <td>6750.065879</td>\n",
       "      <td>0.999465</td>\n",
       "      <td>0.878934</td>\n",
       "      <td>False</td>\n",
       "    </tr>\n",
       "    <tr>\n",
       "      <th>...</th>\n",
       "      <td>...</td>\n",
       "      <td>...</td>\n",
       "      <td>...</td>\n",
       "      <td>...</td>\n",
       "      <td>...</td>\n",
       "      <td>...</td>\n",
       "      <td>...</td>\n",
       "      <td>...</td>\n",
       "      <td>...</td>\n",
       "      <td>...</td>\n",
       "      <td>...</td>\n",
       "      <td>...</td>\n",
       "      <td>...</td>\n",
       "      <td>...</td>\n",
       "      <td>...</td>\n",
       "      <td>...</td>\n",
       "      <td>...</td>\n",
       "      <td>...</td>\n",
       "      <td>...</td>\n",
       "      <td>...</td>\n",
       "      <td>...</td>\n",
       "    </tr>\n",
       "    <tr>\n",
       "      <th>290766</th>\n",
       "      <td>5650772</td>\n",
       "      <td>324582</td>\n",
       "      <td>b'ZTF20aaqvhnd'</td>\n",
       "      <td>1150176700415015000</td>\n",
       "      <td>96618</td>\n",
       "      <td>58904.176701</td>\n",
       "      <td>48.664349</td>\n",
       "      <td>31.318054</td>\n",
       "      <td>0.564235</td>\n",
       "      <td>0.795279</td>\n",
       "      <td>...</td>\n",
       "      <td>-0.001786</td>\n",
       "      <td>0.584015</td>\n",
       "      <td>0.786561</td>\n",
       "      <td>0.200621</td>\n",
       "      <td>2.748814</td>\n",
       "      <td>0.030221</td>\n",
       "      <td>6233.797319</td>\n",
       "      <td>0.999543</td>\n",
       "      <td>0.749638</td>\n",
       "      <td>False</td>\n",
       "    </tr>\n",
       "    <tr>\n",
       "      <th>290767</th>\n",
       "      <td>5650773</td>\n",
       "      <td>324582</td>\n",
       "      <td>b'ZTF20aaqvhns'</td>\n",
       "      <td>1150176245615015007</td>\n",
       "      <td>96617</td>\n",
       "      <td>58904.176250</td>\n",
       "      <td>45.820577</td>\n",
       "      <td>29.378228</td>\n",
       "      <td>0.607285</td>\n",
       "      <td>0.768505</td>\n",
       "      <td>...</td>\n",
       "      <td>-0.001786</td>\n",
       "      <td>0.584016</td>\n",
       "      <td>0.786559</td>\n",
       "      <td>0.200622</td>\n",
       "      <td>2.748808</td>\n",
       "      <td>0.029465</td>\n",
       "      <td>6077.915470</td>\n",
       "      <td>0.999566</td>\n",
       "      <td>0.712618</td>\n",
       "      <td>False</td>\n",
       "    </tr>\n",
       "    <tr>\n",
       "      <th>290768</th>\n",
       "      <td>5650789</td>\n",
       "      <td>324582</td>\n",
       "      <td>b'ZTF20aaqvhnm'</td>\n",
       "      <td>1150176245015015006</td>\n",
       "      <td>96617</td>\n",
       "      <td>58904.176250</td>\n",
       "      <td>48.881586</td>\n",
       "      <td>28.300138</td>\n",
       "      <td>0.579016</td>\n",
       "      <td>0.797156</td>\n",
       "      <td>...</td>\n",
       "      <td>-0.001786</td>\n",
       "      <td>0.584016</td>\n",
       "      <td>0.786559</td>\n",
       "      <td>0.200622</td>\n",
       "      <td>2.748808</td>\n",
       "      <td>0.031743</td>\n",
       "      <td>6547.783696</td>\n",
       "      <td>0.999496</td>\n",
       "      <td>0.827049</td>\n",
       "      <td>False</td>\n",
       "    </tr>\n",
       "    <tr>\n",
       "      <th>290769</th>\n",
       "      <td>5650791</td>\n",
       "      <td>324582</td>\n",
       "      <td>b'ZTF20aaqvhog'</td>\n",
       "      <td>1150176244815015007</td>\n",
       "      <td>96617</td>\n",
       "      <td>58904.176250</td>\n",
       "      <td>49.429756</td>\n",
       "      <td>29.370649</td>\n",
       "      <td>0.566783</td>\n",
       "      <td>0.802441</td>\n",
       "      <td>...</td>\n",
       "      <td>-0.001786</td>\n",
       "      <td>0.584016</td>\n",
       "      <td>0.786559</td>\n",
       "      <td>0.200622</td>\n",
       "      <td>2.748808</td>\n",
       "      <td>0.027275</td>\n",
       "      <td>5625.990260</td>\n",
       "      <td>0.999628</td>\n",
       "      <td>0.610591</td>\n",
       "      <td>False</td>\n",
       "    </tr>\n",
       "    <tr>\n",
       "      <th>290770</th>\n",
       "      <td>5650821</td>\n",
       "      <td>324582</td>\n",
       "      <td>b'ZTF20aaqvhsw'</td>\n",
       "      <td>1150176702215015011</td>\n",
       "      <td>96618</td>\n",
       "      <td>58904.176701</td>\n",
       "      <td>47.838401</td>\n",
       "      <td>31.601561</td>\n",
       "      <td>0.571690</td>\n",
       "      <td>0.787678</td>\n",
       "      <td>...</td>\n",
       "      <td>-0.001786</td>\n",
       "      <td>0.584015</td>\n",
       "      <td>0.786561</td>\n",
       "      <td>0.200621</td>\n",
       "      <td>2.748814</td>\n",
       "      <td>0.031545</td>\n",
       "      <td>6506.984732</td>\n",
       "      <td>0.999502</td>\n",
       "      <td>0.816775</td>\n",
       "      <td>False</td>\n",
       "    </tr>\n",
       "  </tbody>\n",
       "</table>\n",
       "<p>290771 rows × 27 columns</p>\n",
       "</div>"
      ],
      "text/plain": [
       "         ztf_id  element_id         ObjectID          CandidateID  \\\n",
       "0           306         733  b'ZTF18abiyevm'   567274570115015018   \n",
       "1          6391         733  b'ZTF18ablpbwh'   617122522515015016   \n",
       "2          6392         733  b'ZTF18ablpbwh'   618126362515015025   \n",
       "3          6393         733  b'ZTF18ablpbwh'   611146562515015015   \n",
       "4         12249         733  b'ZTF18ablwzcc'   584190354815015015   \n",
       "...         ...         ...              ...                  ...   \n",
       "290766  5650772      324582  b'ZTF20aaqvhnd'  1150176700415015000   \n",
       "290767  5650773      324582  b'ZTF20aaqvhns'  1150176245615015007   \n",
       "290768  5650789      324582  b'ZTF20aaqvhnm'  1150176245015015006   \n",
       "290769  5650791      324582  b'ZTF20aaqvhog'  1150176244815015007   \n",
       "290770  5650821      324582  b'ZTF20aaqvhsw'  1150176702215015011   \n",
       "\n",
       "        TimeStampID           mjd          ra        dec        ux        uy  \\\n",
       "0              3341  58321.274572  275.834958 -12.178240  0.099376 -0.976101   \n",
       "1              8730  58371.122523  272.156750 -10.136454  0.037046 -0.972528   \n",
       "2              8913  58372.126366  272.156760 -10.136446  0.037046 -0.972528   \n",
       "3              7585  58365.146562  272.156733 -10.136444  0.037046 -0.972528   \n",
       "4              4647  58338.190359  273.272132 -13.497675  0.055502 -0.983530   \n",
       "...             ...           ...         ...        ...       ...       ...   \n",
       "290766        96618  58904.176701   48.664349  31.318054  0.564235  0.795279   \n",
       "290767        96617  58904.176250   45.820577  29.378228  0.607285  0.768505   \n",
       "290768        96617  58904.176250   48.881586  28.300138  0.579016  0.797156   \n",
       "290769        96617  58904.176250   49.429756  29.370649  0.566783  0.802441   \n",
       "290770        96618  58904.176701   47.838401  31.601561  0.571690  0.787678   \n",
       "\n",
       "        ...        vz    elt_ux    elt_uy    elt_uz     elt_r         s  \\\n",
       "0       ...  0.004095  0.080910 -0.982320  0.168822  2.050675  0.031258   \n",
       "1       ...  0.003837  0.016116 -0.975703  0.218503  2.491969  0.024005   \n",
       "2       ...  0.003830  0.017464 -0.975564  0.219021  2.503645  0.022568   \n",
       "3       ...  0.003876  0.010155 -0.976524  0.215169  2.423439  0.030883   \n",
       "4       ...  0.004023  0.030085 -0.980846  0.192450  2.155818  0.032724   \n",
       "...     ...       ...       ...       ...       ...       ...       ...   \n",
       "290766  ... -0.001786  0.584015  0.786561  0.200621  2.748814  0.030221   \n",
       "290767  ... -0.001786  0.584016  0.786559  0.200622  2.748808  0.029465   \n",
       "290768  ... -0.001786  0.584016  0.786559  0.200622  2.748808  0.031743   \n",
       "290769  ... -0.001786  0.584016  0.786559  0.200622  2.748808  0.027275   \n",
       "290770  ... -0.001786  0.584015  0.786561  0.200621  2.748814  0.031545   \n",
       "\n",
       "              s_sec         z         v  is_hit  \n",
       "0       6447.753750  0.999511  0.801975   False  \n",
       "1       4951.468379  0.999712  0.472962   False  \n",
       "2       4655.153797  0.999745  0.418050   False  \n",
       "3       6370.298847  0.999523  0.782824   False  \n",
       "4       6750.065879  0.999465  0.878934   False  \n",
       "...             ...       ...       ...     ...  \n",
       "290766  6233.797319  0.999543  0.749638   False  \n",
       "290767  6077.915470  0.999566  0.712618   False  \n",
       "290768  6547.783696  0.999496  0.827049   False  \n",
       "290769  5625.990260  0.999628  0.610591   False  \n",
       "290770  6506.984732  0.999502  0.816775   False  \n",
       "\n",
       "[290771 rows x 27 columns]"
      ]
     },
     "execution_count": 57,
     "metadata": {},
     "output_type": "execute_result"
    }
   ],
   "source": [
    "# Review ZTF elements\n",
    "ztf_elt"
   ]
  },
  {
   "cell_type": "code",
   "execution_count": 58,
   "metadata": {},
   "outputs": [],
   "source": [
    "# Score by element - perturbed\n",
    "score_by_elt = ztf_score_by_elt(ztf_elt)"
   ]
  },
  {
   "cell_type": "code",
   "execution_count": 59,
   "metadata": {},
   "outputs": [
    {
     "name": "stdout",
     "output_type": "stream",
     "text": [
      "ZTF Element Dataframe Perturbed Asteroids:\n",
      "                  Total     (Per Batch)\n",
      "Observations   :   290771   (     4543)\n",
      "\n",
      "Summarize score = sum(-1.0 - log(v)) by batch.  (Mean=0, Variance=num_obs)\n",
      "Mean score     :      42.77\n",
      "Sqrt(batch_obs):      67.40\n",
      "Mean t_score   :       0.58\n"
     ]
    }
   ],
   "source": [
    "# Summarize the ztf element batch: perturbed asteroids\n",
    "ztf_elt_summary(ztf_elt, score_by_elt, 'Perturbed Asteroids')"
   ]
  },
  {
   "cell_type": "code",
   "execution_count": 60,
   "metadata": {},
   "outputs": [],
   "source": [
    "# Mixture parameters\n",
    "num_hits: int = 10\n",
    "R_deg: float = 0.5"
   ]
  },
  {
   "cell_type": "code",
   "execution_count": 61,
   "metadata": {},
   "outputs": [],
   "source": [
    "# Add mixture parameters to candidate elements\n",
    "elts_add_mixture_params(elts=elts, num_hits=num_hits, R_deg=R_deg, thresh_deg=thresh_deg)"
   ]
  },
  {
   "cell_type": "code",
   "execution_count": 62,
   "metadata": {},
   "outputs": [],
   "source": [
    "# Add brightness parameter H\n",
    "elts_add_H(elts=elts)"
   ]
  },
  {
   "cell_type": "code",
   "execution_count": 63,
   "metadata": {},
   "outputs": [
    {
     "data": {
      "text/html": [
       "<div>\n",
       "<style scoped>\n",
       "    .dataframe tbody tr th:only-of-type {\n",
       "        vertical-align: middle;\n",
       "    }\n",
       "\n",
       "    .dataframe tbody tr th {\n",
       "        vertical-align: top;\n",
       "    }\n",
       "\n",
       "    .dataframe thead th {\n",
       "        text-align: right;\n",
       "    }\n",
       "</style>\n",
       "<table border=\"1\" class=\"dataframe\">\n",
       "  <thead>\n",
       "    <tr style=\"text-align: right;\">\n",
       "      <th></th>\n",
       "      <th>element_id</th>\n",
       "      <th>a</th>\n",
       "      <th>e</th>\n",
       "      <th>inc</th>\n",
       "      <th>Omega</th>\n",
       "      <th>omega</th>\n",
       "      <th>f</th>\n",
       "      <th>epoch</th>\n",
       "      <th>num_hits</th>\n",
       "      <th>R</th>\n",
       "      <th>thresh_s</th>\n",
       "      <th>H</th>\n",
       "    </tr>\n",
       "  </thead>\n",
       "  <tbody>\n",
       "    <tr>\n",
       "      <th>0</th>\n",
       "      <td>51921</td>\n",
       "      <td>2.736430</td>\n",
       "      <td>0.219134</td>\n",
       "      <td>0.499988</td>\n",
       "      <td>4.721815</td>\n",
       "      <td>2.452489</td>\n",
       "      <td>-1.129754</td>\n",
       "      <td>58600.0</td>\n",
       "      <td>10</td>\n",
       "      <td>0.008727</td>\n",
       "      <td>0.034905</td>\n",
       "      <td>16.5</td>\n",
       "    </tr>\n",
       "    <tr>\n",
       "      <th>1</th>\n",
       "      <td>59244</td>\n",
       "      <td>2.616575</td>\n",
       "      <td>0.266087</td>\n",
       "      <td>0.462848</td>\n",
       "      <td>5.725946</td>\n",
       "      <td>1.777382</td>\n",
       "      <td>-1.623105</td>\n",
       "      <td>58600.0</td>\n",
       "      <td>10</td>\n",
       "      <td>0.008727</td>\n",
       "      <td>0.034905</td>\n",
       "      <td>16.5</td>\n",
       "    </tr>\n",
       "    <tr>\n",
       "      <th>2</th>\n",
       "      <td>15786</td>\n",
       "      <td>1.945213</td>\n",
       "      <td>0.047621</td>\n",
       "      <td>0.385594</td>\n",
       "      <td>6.142435</td>\n",
       "      <td>0.790543</td>\n",
       "      <td>-1.243047</td>\n",
       "      <td>58600.0</td>\n",
       "      <td>10</td>\n",
       "      <td>0.008727</td>\n",
       "      <td>0.034905</td>\n",
       "      <td>16.5</td>\n",
       "    </tr>\n",
       "    <tr>\n",
       "      <th>3</th>\n",
       "      <td>3904</td>\n",
       "      <td>2.758664</td>\n",
       "      <td>0.099270</td>\n",
       "      <td>0.261841</td>\n",
       "      <td>5.463683</td>\n",
       "      <td>2.238942</td>\n",
       "      <td>-1.350620</td>\n",
       "      <td>58600.0</td>\n",
       "      <td>10</td>\n",
       "      <td>0.008727</td>\n",
       "      <td>0.034905</td>\n",
       "      <td>16.5</td>\n",
       "    </tr>\n",
       "    <tr>\n",
       "      <th>4</th>\n",
       "      <td>142999</td>\n",
       "      <td>2.589450</td>\n",
       "      <td>0.192070</td>\n",
       "      <td>0.509382</td>\n",
       "      <td>0.221844</td>\n",
       "      <td>0.928905</td>\n",
       "      <td>-1.314727</td>\n",
       "      <td>58600.0</td>\n",
       "      <td>10</td>\n",
       "      <td>0.008727</td>\n",
       "      <td>0.034905</td>\n",
       "      <td>16.5</td>\n",
       "    </tr>\n",
       "    <tr>\n",
       "      <th>...</th>\n",
       "      <td>...</td>\n",
       "      <td>...</td>\n",
       "      <td>...</td>\n",
       "      <td>...</td>\n",
       "      <td>...</td>\n",
       "      <td>...</td>\n",
       "      <td>...</td>\n",
       "      <td>...</td>\n",
       "      <td>...</td>\n",
       "      <td>...</td>\n",
       "      <td>...</td>\n",
       "      <td>...</td>\n",
       "    </tr>\n",
       "    <tr>\n",
       "      <th>59</th>\n",
       "      <td>11952</td>\n",
       "      <td>2.330603</td>\n",
       "      <td>0.084892</td>\n",
       "      <td>0.117649</td>\n",
       "      <td>0.042808</td>\n",
       "      <td>2.890716</td>\n",
       "      <td>-3.000560</td>\n",
       "      <td>58600.0</td>\n",
       "      <td>10</td>\n",
       "      <td>0.008727</td>\n",
       "      <td>0.034905</td>\n",
       "      <td>16.5</td>\n",
       "    </tr>\n",
       "    <tr>\n",
       "      <th>60</th>\n",
       "      <td>134815</td>\n",
       "      <td>2.550916</td>\n",
       "      <td>0.141660</td>\n",
       "      <td>0.510228</td>\n",
       "      <td>0.284591</td>\n",
       "      <td>0.630896</td>\n",
       "      <td>-0.920797</td>\n",
       "      <td>58600.0</td>\n",
       "      <td>10</td>\n",
       "      <td>0.008727</td>\n",
       "      <td>0.034905</td>\n",
       "      <td>16.5</td>\n",
       "    </tr>\n",
       "    <tr>\n",
       "      <th>61</th>\n",
       "      <td>27860</td>\n",
       "      <td>2.595202</td>\n",
       "      <td>0.098315</td>\n",
       "      <td>0.194023</td>\n",
       "      <td>5.535984</td>\n",
       "      <td>3.255585</td>\n",
       "      <td>3.966790</td>\n",
       "      <td>58600.0</td>\n",
       "      <td>10</td>\n",
       "      <td>0.008727</td>\n",
       "      <td>0.034905</td>\n",
       "      <td>16.5</td>\n",
       "    </tr>\n",
       "    <tr>\n",
       "      <th>62</th>\n",
       "      <td>85937</td>\n",
       "      <td>2.216242</td>\n",
       "      <td>0.195323</td>\n",
       "      <td>0.437115</td>\n",
       "      <td>5.285351</td>\n",
       "      <td>3.172956</td>\n",
       "      <td>3.921169</td>\n",
       "      <td>58600.0</td>\n",
       "      <td>10</td>\n",
       "      <td>0.008727</td>\n",
       "      <td>0.034905</td>\n",
       "      <td>16.5</td>\n",
       "    </tr>\n",
       "    <tr>\n",
       "      <th>63</th>\n",
       "      <td>72911</td>\n",
       "      <td>2.972367</td>\n",
       "      <td>0.086007</td>\n",
       "      <td>0.265786</td>\n",
       "      <td>5.309665</td>\n",
       "      <td>2.099392</td>\n",
       "      <td>-1.029139</td>\n",
       "      <td>58600.0</td>\n",
       "      <td>10</td>\n",
       "      <td>0.008727</td>\n",
       "      <td>0.034905</td>\n",
       "      <td>16.5</td>\n",
       "    </tr>\n",
       "  </tbody>\n",
       "</table>\n",
       "<p>64 rows × 12 columns</p>\n",
       "</div>"
      ],
      "text/plain": [
       "    element_id         a         e       inc     Omega     omega         f  \\\n",
       "0        51921  2.736430  0.219134  0.499988  4.721815  2.452489 -1.129754   \n",
       "1        59244  2.616575  0.266087  0.462848  5.725946  1.777382 -1.623105   \n",
       "2        15786  1.945213  0.047621  0.385594  6.142435  0.790543 -1.243047   \n",
       "3         3904  2.758664  0.099270  0.261841  5.463683  2.238942 -1.350620   \n",
       "4       142999  2.589450  0.192070  0.509382  0.221844  0.928905 -1.314727   \n",
       "..         ...       ...       ...       ...       ...       ...       ...   \n",
       "59       11952  2.330603  0.084892  0.117649  0.042808  2.890716 -3.000560   \n",
       "60      134815  2.550916  0.141660  0.510228  0.284591  0.630896 -0.920797   \n",
       "61       27860  2.595202  0.098315  0.194023  5.535984  3.255585  3.966790   \n",
       "62       85937  2.216242  0.195323  0.437115  5.285351  3.172956  3.921169   \n",
       "63       72911  2.972367  0.086007  0.265786  5.309665  2.099392 -1.029139   \n",
       "\n",
       "      epoch  num_hits         R  thresh_s     H  \n",
       "0   58600.0        10  0.008727  0.034905  16.5  \n",
       "1   58600.0        10  0.008727  0.034905  16.5  \n",
       "2   58600.0        10  0.008727  0.034905  16.5  \n",
       "3   58600.0        10  0.008727  0.034905  16.5  \n",
       "4   58600.0        10  0.008727  0.034905  16.5  \n",
       "..      ...       ...       ...       ...   ...  \n",
       "59  58600.0        10  0.008727  0.034905  16.5  \n",
       "60  58600.0        10  0.008727  0.034905  16.5  \n",
       "61  58600.0        10  0.008727  0.034905  16.5  \n",
       "62  58600.0        10  0.008727  0.034905  16.5  \n",
       "63  58600.0        10  0.008727  0.034905  16.5  \n",
       "\n",
       "[64 rows x 12 columns]"
      ]
     },
     "execution_count": 63,
     "metadata": {},
     "output_type": "execute_result"
    }
   ],
   "source": [
    "# Review perturbed elements; includes nearest asteroid number and distance\n",
    "elts"
   ]
  },
  {
   "cell_type": "markdown",
   "metadata": {},
   "source": [
    "## Train on Perturbed Elements: Learn Mixture Parameters"
   ]
  },
  {
   "cell_type": "code",
   "execution_count": 64,
   "metadata": {},
   "outputs": [],
   "source": [
    "# Observatory for ZTF data is Palomar Mountain\n",
    "site_name = 'palomar'"
   ]
  },
  {
   "cell_type": "code",
   "execution_count": 65,
   "metadata": {},
   "outputs": [],
   "source": [
    "# Training parameters\n",
    "learning_rate = 2.0**-15\n",
    "clipnorm = 1.0\n",
    "save_at_end: bool = True"
   ]
  },
  {
   "cell_type": "code",
   "execution_count": 66,
   "metadata": {},
   "outputs": [],
   "source": [
    "# Build asteroid search model\n",
    "model = AsteroidSearchModel(\n",
    "                elts=elts, ztf_elt=ztf_elt, \n",
    "                site_name=site_name, thresh_deg=thresh_deg, \n",
    "                learning_rate=learning_rate, clipnorm=clipnorm,\n",
    "                name='model')"
   ]
  },
  {
   "cell_type": "code",
   "execution_count": 67,
   "metadata": {},
   "outputs": [
    {
     "name": "stdout",
     "output_type": "stream",
     "text": [
      "     \\  log_like :  hits  :  R_deg    :    R_sec : thresh_deg\n",
      "Mean :     0.08  :   0.00 :  0.499867 :  1799.52 : 2.000000\n",
      "Std  :     0.89  :   0.00 :  0.000212 :     0.76 : 0.000000\n",
      "Min  :    -1.16  :   0.00 :  0.499750 :  1799.10 : 2.000000\n",
      "Max  :     3.48  :   0.00 :  0.500250 :  1800.90 : 2.000000\n",
      "Trained for 0 batches over 0 epochs and 0 episodes.\n"
     ]
    }
   ],
   "source": [
    "# Report before training starts\n",
    "model.report()"
   ]
  },
  {
   "cell_type": "code",
   "execution_count": 68,
   "metadata": {},
   "outputs": [
    {
     "name": "stdout",
     "output_type": "stream",
     "text": [
      "\n",
      "Training episode 0: Epoch    0, Batch      0\n",
      "effective_learning_rate=3.052e-05, training_time 0 sec.\n",
      "Train on 6400 samples\n",
      "Epoch 1/5\n",
      "6400/6400 [==============================] - 3s 496us/sample - loss: -64.4557\n",
      "Epoch 2/5\n",
      "6400/6400 [==============================] - 2s 292us/sample - loss: -67.8418\n",
      "Epoch 3/5\n",
      "6400/6400 [==============================] - 2s 295us/sample - loss: -71.3649\n",
      "Epoch 4/5\n",
      "6400/6400 [==============================] - 2s 300us/sample - loss: -75.0325\n",
      "Epoch 5/5\n",
      "6400/6400 [==============================] - 2s 298us/sample - loss: -78.8502\n",
      "Adjusted element weight down on 20 candidate elements. Mean weight = 8.44e-01\n",
      "Geom Mean Resolution: 0.484758 degrees (1745.1 arc seconds)\n",
      "Mean Hits          :      0.00\n",
      "Mean Log Likelihood:      0.23\n",
      "\n",
      "Training episode 1: Epoch    5, Batch    500\n",
      "effective_learning_rate=2.575e-05, training_time 29 sec.\n",
      "Train on 6400 samples\n",
      "Epoch 6/10\n",
      "6400/6400 [==============================] - 2s 300us/sample - loss: -73.1187\n",
      "Epoch 7/10\n",
      "6400/6400 [==============================] - 2s 297us/sample - loss: -76.7785\n",
      "Epoch 8/10\n",
      "6400/6400 [==============================] - 2s 297us/sample - loss: -80.5803\n",
      "Epoch 9/10\n",
      "6400/6400 [==============================] - 2s 296us/sample - loss: -84.5241\n",
      "Epoch 10/10\n",
      "6400/6400 [==============================] - 2s 301us/sample - loss: -88.6076\n",
      "Adjusted element weight down on 22 candidate elements. Mean weight = 7.50e-01\n",
      "Geom Mean Resolution: 0.467587 degrees (1683.3 arc seconds)\n",
      "Mean Hits          :      0.00\n",
      "Mean Log Likelihood:      0.40\n",
      "\n",
      "Training episode 2: Epoch   10, Batch   1000\n",
      "effective_learning_rate=2.289e-05, training_time 38 sec.\n",
      "Train on 6400 samples\n",
      "Epoch 11/15\n",
      "6400/6400 [==============================] - 2s 303us/sample - loss: -87.3678\n",
      "Epoch 12/15\n",
      "6400/6400 [==============================] - 2s 298us/sample - loss: -91.5383\n",
      "Epoch 13/15\n",
      "6400/6400 [==============================] - 2s 304us/sample - loss: -95.8261\n",
      "Epoch 14/15\n",
      "6400/6400 [==============================] - 2s 301us/sample - loss: -100.2248\n",
      "Epoch 15/15\n",
      "6400/6400 [==============================] - 2s 301us/sample - loss: -104.7255\n",
      "Adjusted element weight down on 23 candidate elements. Mean weight = 6.86e-01\n",
      "Geom Mean Resolution: 0.448755 degrees (1615.5 arc seconds)\n",
      "Mean Hits          :      0.00\n",
      "Mean Log Likelihood:      0.59\n",
      "\n",
      "Training episode 3: Epoch   15, Batch   1500\n",
      "effective_learning_rate=2.092e-05, training_time 48 sec.\n",
      "Train on 6400 samples\n",
      "Epoch 16/20\n",
      "6400/6400 [==============================] - 2s 306us/sample - loss: -105.2396\n",
      "Epoch 17/20\n",
      "6400/6400 [==============================] - 2s 304us/sample - loss: -109.8218\n",
      "Epoch 18/20\n",
      "6400/6400 [==============================] - 2s 311us/sample - loss: -114.4756\n",
      "Epoch 19/20\n",
      "6400/6400 [==============================] - 2s 306us/sample - loss: -119.1899\n",
      "Epoch 20/20\n",
      "6400/6400 [==============================] - 2s 307us/sample - loss: -123.9531\n",
      "Adjusted element weight down on 28 candidate elements. Mean weight = 6.20e-01\n",
      "Geom Mean Resolution: 0.431008 degrees (1551.6 arc seconds)\n",
      "Mean Hits          :      0.00\n",
      "Mean Log Likelihood:      0.79\n",
      "\n",
      "Training episode 4: Epoch   20, Batch   2000\n",
      "effective_learning_rate=1.892e-05, training_time 58 sec.\n",
      "Train on 6400 samples\n",
      "Epoch 21/25\n",
      "6400/6400 [==============================] - 2s 306us/sample - loss: -124.3277\n",
      "Epoch 22/25\n",
      "6400/6400 [==============================] - 2s 312us/sample - loss: -129.0584\n",
      "Epoch 23/25\n",
      "6400/6400 [==============================] - 2s 311us/sample - loss: -133.8056\n",
      "Epoch 24/25\n",
      "6400/6400 [==============================] - 2s 310us/sample - loss: -138.5603\n",
      "Epoch 25/25\n",
      "6400/6400 [==============================] - 2s 309us/sample - loss: -143.3143\n",
      "Adjusted element weight down on 31 candidate elements. Mean weight = 5.60e-01\n",
      "Geom Mean Resolution: 0.415997 degrees (1497.6 arc seconds)\n",
      "Mean Hits          :      0.00\n",
      "Mean Log Likelihood:      1.00\n",
      "\n",
      "Training episode 5: Epoch   25, Batch   2500\n",
      "effective_learning_rate=1.709e-05, training_time 68 sec.\n",
      "Train on 6400 samples\n",
      "Epoch 26/30\n",
      "6400/6400 [==============================] - 2s 318us/sample - loss: -142.2673\n",
      "Epoch 27/30\n",
      "6400/6400 [==============================] - 2s 322us/sample - loss: -146.8915\n",
      "Epoch 28/30\n",
      "6400/6400 [==============================] - 2s 320us/sample - loss: -151.5073\n",
      "Epoch 29/30\n",
      "6400/6400 [==============================] - 2s 317us/sample - loss: -156.1117\n",
      "Epoch 30/30\n",
      "6400/6400 [==============================] - 2s 316us/sample - loss: -160.7037\n",
      "Adjusted element weight down on 33 candidate elements. Mean weight = 5.12e-01\n",
      "Geom Mean Resolution: 0.403859 degrees (1453.9 arc seconds)\n",
      "Mean Hits          :      0.00\n",
      "Mean Log Likelihood:      1.20\n",
      "\n",
      "Training episode 6: Epoch   30, Batch   3000\n",
      "effective_learning_rate=1.564e-05, training_time 79 sec.\n",
      "Train on 6400 samples\n",
      "Epoch 31/35\n",
      "6400/6400 [==============================] - 2s 317us/sample - loss: -159.3479\n",
      "Epoch 32/35\n",
      "6400/6400 [==============================] - 2s 315us/sample - loss: -163.8294\n",
      "Epoch 33/35\n",
      "6400/6400 [==============================] - 2s 319us/sample - loss: -168.3109\n",
      "Epoch 34/35\n",
      "6400/6400 [==============================] - 2s 311us/sample - loss: -172.7973\n",
      "Epoch 35/35\n",
      "6400/6400 [==============================] - 2s 312us/sample - loss: -177.2941\n",
      "Adjusted element weight down on 36 candidate elements. Mean weight = 4.65e-01\n",
      "Geom Mean Resolution: 0.393485 degrees (1416.5 arc seconds)\n",
      "Mean Hits          :      0.00\n",
      "Mean Log Likelihood:      1.39\n",
      "\n",
      "Training episode 7: Epoch   35, Batch   3500\n",
      "effective_learning_rate=1.420e-05, training_time 89 sec.\n",
      "Train on 6400 samples\n",
      "Epoch 36/40\n",
      "6400/6400 [==============================] - 2s 318us/sample - loss: -178.7674\n",
      "Epoch 37/40\n",
      "6400/6400 [==============================] - 2s 315us/sample - loss: -183.2586\n",
      "Epoch 38/40\n",
      "6400/6400 [==============================] - 2s 316us/sample - loss: -187.7718\n",
      "Epoch 39/40\n",
      "6400/6400 [==============================] - 2s 317us/sample - loss: -192.3076\n",
      "Epoch 40/40\n",
      "6400/6400 [==============================] - 2s 324us/sample - loss: -196.8638\n",
      "Adjusted element weight down on 37 candidate elements. Mean weight = 4.36e-01\n",
      "Geom Mean Resolution: 0.386173 degrees (1390.2 arc seconds)\n",
      "Mean Hits          :      0.00\n",
      "Mean Log Likelihood:      1.59\n",
      "\n",
      "Training episode 8: Epoch   40, Batch   4000\n",
      "effective_learning_rate=1.330e-05, training_time 99 sec.\n",
      "Train on 6400 samples\n",
      "Epoch 41/45\n",
      "6400/6400 [==============================] - 2s 325us/sample - loss: -198.7747\n",
      "Epoch 42/45\n",
      "6400/6400 [==============================] - 2s 323us/sample - loss: -203.3237\n",
      "Epoch 43/45\n",
      "6400/6400 [==============================] - 2s 322us/sample - loss: -207.8751\n",
      "Epoch 44/45\n",
      "6400/6400 [==============================] - 2s 320us/sample - loss: -212.4203\n",
      "Epoch 45/45\n",
      "6400/6400 [==============================] - 2s 322us/sample - loss: -216.9521\n",
      "Adjusted element weight down on 39 candidate elements. Mean weight = 4.05e-01\n",
      "Geom Mean Resolution: 0.381349 degrees (1372.9 arc seconds)\n",
      "Mean Hits          :      0.00\n",
      "Mean Log Likelihood:      1.80\n",
      "\n",
      "Training episode 9: Epoch   45, Batch   4500\n",
      "effective_learning_rate=1.237e-05, training_time 110 sec.\n",
      "Train on 6400 samples\n",
      "Epoch 46/50\n",
      "6400/6400 [==============================] - 2s 328us/sample - loss: -217.1726\n",
      "Epoch 47/50\n",
      "6400/6400 [==============================] - 2s 328us/sample - loss: -221.6143\n",
      "Epoch 48/50\n",
      "6400/6400 [==============================] - 2s 326us/sample - loss: -226.0210\n",
      "Epoch 49/50\n",
      "6400/6400 [==============================] - 2s 327us/sample - loss: -230.3852\n",
      "Epoch 50/50\n",
      "6400/6400 [==============================] - 2s 325us/sample - loss: -234.7017\n",
      "Adjusted element weight down on 37 candidate elements. Mean weight = 3.87e-01\n",
      "Geom Mean Resolution: 0.378715 degrees (1363.4 arc seconds)\n",
      "Mean Hits          :      0.00\n",
      "Mean Log Likelihood:      1.99\n",
      "\n",
      "********************************************************************************\n",
      "Terminating: Completed 5000 batches.\n",
      "********************************************************************************\n"
     ]
    }
   ],
   "source": [
    "# Train perturbed model with frozen orbital elements\n",
    "model.search_adaptive(\n",
    "    max_batches=2000, \n",
    "    learning_rate=2.0**-12,\n",
    ")"
   ]
  },
  {
   "cell_type": "code",
   "execution_count": 69,
   "metadata": {},
   "outputs": [
    {
     "name": "stdout",
     "output_type": "stream",
     "text": [
      "     \\  log_like :  hits  :  R_deg    :    R_sec : thresh_deg\n",
      "Mean :     1.99  :   0.00 :  0.442722 :  1593.80 : 2.000000\n",
      "Std  :     4.45  :   0.00 :  0.234434 :   843.96 : 0.000000\n",
      "Min  :    -0.77  :   0.00 :  0.103033 :   370.92 : 2.000000\n",
      "Max  :    23.39  :   0.00 :  0.999962 :  3599.86 : 2.000000\n",
      "Trained for 5000 batches over 50 epochs and 10 episodes.\n"
     ]
    }
   ],
   "source": [
    "# Report results\n",
    "model.report()"
   ]
  },
  {
   "cell_type": "code",
   "execution_count": 70,
   "metadata": {},
   "outputs": [],
   "source": [
    "# model.save_state()"
   ]
  },
  {
   "cell_type": "code",
   "execution_count": 71,
   "metadata": {},
   "outputs": [
    {
     "data": {
      "image/png": "[encoded data removed]",
      "text/plain": [
       "<Figure size 1152x720 with 1 Axes>"
      ]
     },
     "metadata": {
      "needs_background": "light"
     },
     "output_type": "display_data"
    }
   ],
   "source": [
    "# Visualize log likelihood before traning\n",
    "fig, ax = model.plot_bar('log_like', sorted=False)"
   ]
  },
  {
   "cell_type": "code",
   "execution_count": 72,
   "metadata": {},
   "outputs": [],
   "source": [
    "# Adaptive search parameters\n",
    "batches_per_epoch = 100\n",
    "epochs_per_episode = 5\n",
    "max_bad_episodes = 3\n",
    "min_learning_rate = None\n",
    "save_at_end = False\n",
    "reset_active_weight = False\n",
    "verbose = 1"
   ]
  },
  {
   "cell_type": "code",
   "execution_count": 74,
   "metadata": {},
   "outputs": [],
   "source": [
    "# # Load model\n",
    "# model.load()\n",
    "# model.report()"
   ]
  },
  {
   "cell_type": "markdown",
   "metadata": {},
   "source": [
    "## Train on Perturbed Model: Joint (Elements & Mixture)"
   ]
  },
  {
   "cell_type": "code",
   "execution_count": 75,
   "metadata": {},
   "outputs": [],
   "source": [
    "# Unfreeze the elements\n",
    "model.thaw_candidate_elements()\n",
    "model.thaw_mixture_parameters()\n",
    "# model.thaw_score()"
   ]
  },
  {
   "cell_type": "code",
   "execution_count": 76,
   "metadata": {},
   "outputs": [
    {
     "name": "stdout",
     "output_type": "stream",
     "text": [
      "     \\  log_like :  hits  :  R_deg    :    R_sec : thresh_deg\n",
      "Mean :     1.99  :   0.00 :  0.442722 :  1593.80 : 2.000000\n",
      "Std  :     4.45  :   0.00 :  0.234434 :   843.96 : 0.000000\n",
      "Min  :    -0.77  :   0.00 :  0.103033 :   370.92 : 2.000000\n",
      "Max  :    23.39  :   0.00 :  0.999962 :  3599.86 : 2.000000\n",
      "Trained for 5000 batches over 50 epochs and 10 episodes.\n"
     ]
    }
   ],
   "source": [
    "model.report()"
   ]
  },
  {
   "cell_type": "code",
   "execution_count": 77,
   "metadata": {},
   "outputs": [
    {
     "name": "stdout",
     "output_type": "stream",
     "text": [
      "\n",
      "Training episode 10: Epoch   50, Batch   5000\n",
      "effective_learning_rate=1.180e-05, training_time 120 sec.\n",
      "Train on 6400 samples\n",
      "Epoch 51/55\n",
      "6400/6400 [==============================] - 4s 677us/sample - loss: -592.5831\n",
      "Epoch 52/55\n",
      "6400/6400 [==============================] - 3s 423us/sample - loss: -755.3328\n",
      "Epoch 53/55\n",
      "6400/6400 [==============================] - 3s 420us/sample - loss: -849.5903\n",
      "Epoch 54/55\n",
      "6400/6400 [==============================] - 3s 421us/sample - loss: -933.0597\n",
      "Epoch 55/55\n",
      "6400/6400 [==============================] - 3s 418us/sample - loss: -1012.0121\n",
      "Geom Mean Resolution: 0.312827 degrees (1126.2 arc seconds)\n",
      "Mean Hits          :      0.00\n",
      "Mean Log Likelihood:     17.34\n",
      "\n",
      "Training episode 11: Epoch   55, Batch   5500\n",
      "effective_learning_rate=1.180e-05, training_time 251 sec.\n",
      "Train on 6400 samples\n",
      "Epoch 56/60\n",
      "6400/6400 [==============================] - 3s 425us/sample - loss: -1088.8931\n",
      "Epoch 57/60\n",
      "6400/6400 [==============================] - 3s 422us/sample - loss: -1165.2284\n",
      "Epoch 58/60\n",
      "6400/6400 [==============================] - 3s 420us/sample - loss: -1241.2229\n",
      "Epoch 59/60\n",
      "6400/6400 [==============================] - 3s 427us/sample - loss: -1317.1549\n",
      "Epoch 60/60\n",
      "6400/6400 [==============================] - 3s 423us/sample - loss: -1393.0471\n",
      "Geom Mean Resolution: 0.274419 degrees ( 987.9 arc seconds)\n",
      "Mean Hits          :      0.00\n",
      "Mean Log Likelihood:     23.65\n",
      "\n",
      "Training episode 12: Epoch   60, Batch   6000\n",
      "effective_learning_rate=1.180e-05, training_time 266 sec.\n",
      "Train on 6400 samples\n",
      "Epoch 61/65\n",
      "6400/6400 [==============================] - 3s 422us/sample - loss: -1469.2049\n",
      "Epoch 62/65\n",
      "6400/6400 [==============================] - 3s 418us/sample - loss: -1545.9684\n",
      "Epoch 63/65\n",
      "6400/6400 [==============================] - 3s 426us/sample - loss: -1623.0676\n",
      "Epoch 64/65\n",
      "6400/6400 [==============================] - 3s 423us/sample - loss: -1700.5256\n",
      "Epoch 65/65\n",
      "6400/6400 [==============================] - 3s 423us/sample - loss: -1778.3226\n",
      "Geom Mean Resolution: 0.244087 degrees ( 878.7 arc seconds)\n",
      "Mean Hits          :      0.00\n",
      "Mean Log Likelihood:     30.15\n",
      "\n",
      "Training episode 13: Epoch   65, Batch   6500\n",
      "effective_learning_rate=1.180e-05, training_time 281 sec.\n",
      "Train on 6400 samples\n",
      "Epoch 66/70\n",
      "6400/6400 [==============================] - 3s 442us/sample - loss: -1856.5441\n",
      "Epoch 67/70\n",
      "6400/6400 [==============================] - 3s 425us/sample - loss: -1934.9378\n",
      "Epoch 68/70\n",
      "6400/6400 [==============================] - 3s 426us/sample - loss: -2013.7208\n",
      "Epoch 69/70\n",
      "6400/6400 [==============================] - 3s 428us/sample - loss: -2092.9038\n",
      "Epoch 70/70\n",
      "6400/6400 [==============================] - 3s 430us/sample - loss: -2172.4190\n",
      "Geom Mean Resolution: 0.218542 degrees ( 786.7 arc seconds)\n",
      "Mean Hits          :      0.00\n",
      "Mean Log Likelihood:     37.02\n",
      "\n",
      "Training episode 14: Epoch   70, Batch   7000\n",
      "effective_learning_rate=1.180e-05, training_time 296 sec.\n",
      "Train on 6400 samples\n",
      "Epoch 71/75\n",
      "6400/6400 [==============================] - 3s 429us/sample - loss: -2252.3001\n",
      "Epoch 72/75\n",
      "6400/6400 [==============================] - 3s 431us/sample - loss: -2333.3598\n",
      "Epoch 73/75\n",
      "6400/6400 [==============================] - 3s 427us/sample - loss: -2414.6997\n",
      "Epoch 74/75\n",
      "6400/6400 [==============================] - 3s 430us/sample - loss: -2496.5640\n",
      "Epoch 75/75\n",
      "6400/6400 [==============================] - 3s 430us/sample - loss: -2578.9531\n",
      "Geom Mean Resolution: 0.196276 degrees ( 706.6 arc seconds)\n",
      "Mean Hits          :      0.00\n",
      "Mean Log Likelihood:     44.71\n",
      "\n",
      "Training episode 15: Epoch   75, Batch   7500\n",
      "effective_learning_rate=1.180e-05, training_time 311 sec.\n",
      "Train on 6400 samples\n",
      "Epoch 76/80\n",
      "6400/6400 [==============================] - 3s 435us/sample - loss: -2662.1999\n",
      "Epoch 77/80\n",
      "6400/6400 [==============================] - 3s 428us/sample - loss: -2745.6755\n",
      "Epoch 78/80\n",
      "6400/6400 [==============================] - 3s 429us/sample - loss: -2829.5498\n",
      "Epoch 79/80\n",
      "6400/6400 [==============================] - 3s 432us/sample - loss: -2914.4764\n",
      "Epoch 80/80\n",
      "6400/6400 [==============================] - 3s 434us/sample - loss: -2999.8165\n",
      "Adjusted element weight down on 2 candidate elements. Mean weight = 9.84e-01\n",
      "Geom Mean Resolution: 0.176616 degrees ( 635.8 arc seconds)\n",
      "Mean Hits          :      0.00\n",
      "Mean Log Likelihood:     53.10\n",
      "\n",
      "Training episode 16: Epoch   80, Batch   8000\n",
      "effective_learning_rate=3.004e-05, training_time 326 sec.\n",
      "Train on 6400 samples\n",
      "Epoch 81/85\n",
      "6400/6400 [==============================] - 3s 441us/sample - loss: -3085.8873\n",
      "Epoch 82/85\n",
      "6400/6400 [==============================] - 3s 436us/sample - loss: -3172.6865\n",
      "Epoch 83/85\n",
      "6400/6400 [==============================] - 3s 432us/sample - loss: -3259.9458\n",
      "Epoch 84/85\n",
      "6400/6400 [==============================] - 3s 435us/sample - loss: -3347.5847\n",
      "Epoch 85/85\n",
      "6400/6400 [==============================] - 3s 438us/sample - loss: -3435.6166\n",
      "Adjusted element weight down on 2 candidate elements. Mean weight = 9.77e-01\n",
      "Geom Mean Resolution: 0.158943 degrees ( 572.2 arc seconds)\n",
      "Mean Hits          :      0.00\n",
      "Mean Log Likelihood:     62.33\n",
      "\n",
      "Training episode 17: Epoch   85, Batch   8500\n",
      "effective_learning_rate=2.980e-05, training_time 341 sec.\n",
      "Train on 6400 samples\n",
      "Epoch 86/90\n",
      "6400/6400 [==============================] - 3s 445us/sample - loss: -3524.2543\n",
      "Epoch 87/90\n",
      "6400/6400 [==============================] - 3s 440us/sample - loss: -3613.6083\n",
      "Epoch 88/90\n",
      "6400/6400 [==============================] - 3s 437us/sample - loss: -3703.3621\n",
      "Epoch 89/90\n",
      "6400/6400 [==============================] - 3s 438us/sample - loss: -3793.4121\n",
      "Epoch 90/90\n",
      "6400/6400 [==============================] - 3s 444us/sample - loss: -3883.6297\n",
      "Adjusted element weight down on 1 candidate elements. Mean weight = 9.75e-01\n",
      "Geom Mean Resolution: 0.143262 degrees ( 515.7 arc seconds)\n",
      "Mean Hits          :      2.42\n",
      "Mean Log Likelihood:     72.36\n",
      "\n",
      "Training episode 18: Epoch   90, Batch   9000\n",
      "effective_learning_rate=2.974e-05, training_time 357 sec.\n",
      "Train on 6400 samples\n",
      "Epoch 91/95\n",
      "6400/6400 [==============================] - 3s 451us/sample - loss: -3973.8546\n",
      "Epoch 92/95\n",
      "6400/6400 [==============================] - 3s 446us/sample - loss: -4064.6322\n",
      "Epoch 93/95\n",
      "6400/6400 [==============================] - 3s 448us/sample - loss: -4155.5883\n",
      "Epoch 94/95\n",
      "6400/6400 [==============================] - 3s 448us/sample - loss: -4246.5982\n",
      "Epoch 95/95\n",
      "6400/6400 [==============================] - 3s 445us/sample - loss: -4337.6937\n",
      "Adjusted element weight down on 2 candidate elements. Mean weight = 9.66e-01\n",
      "Geom Mean Resolution: 0.129529 degrees ( 466.3 arc seconds)\n",
      "Mean Hits          :      5.36\n",
      "Mean Log Likelihood:     83.07\n",
      "\n",
      "Training episode 19: Epoch   95, Batch   9500\n",
      "effective_learning_rate=2.947e-05, training_time 373 sec.\n",
      "Train on 6400 samples\n",
      "Epoch 96/100\n",
      "6400/6400 [==============================] - 3s 453us/sample - loss: -4428.2952\n",
      "Epoch 97/100\n",
      "6400/6400 [==============================] - 3s 448us/sample - loss: -4519.3537\n",
      "Epoch 98/100\n",
      "6400/6400 [==============================] - 3s 451us/sample - loss: -4610.4024\n",
      "Epoch 99/100\n",
      "6400/6400 [==============================] - 3s 448us/sample - loss: -4701.4377\n",
      "Epoch 100/100\n",
      "6400/6400 [==============================] - 3s 457us/sample - loss: -4792.0120\n",
      "Adjusted element weight down on 2 candidate elements. Mean weight = 9.61e-01\n",
      "Geom Mean Resolution: 0.117555 degrees ( 423.2 arc seconds)\n",
      "Mean Hits          :     12.81\n",
      "Mean Log Likelihood:     94.35\n",
      "\n",
      "********************************************************************************\n",
      "Terminating: Completed 10000 batches.\n",
      "********************************************************************************\n"
     ]
    }
   ],
   "source": [
    "# Train model in joint mode\n",
    "model.search_adaptive(max_batches=model.current_batch+5000)"
   ]
  },
  {
   "cell_type": "code",
   "execution_count": 78,
   "metadata": {},
   "outputs": [
    {
     "name": "stdout",
     "output_type": "stream",
     "text": [
      "     \\  log_like :  hits  :  R_deg    :    R_sec : thresh_deg\n",
      "Mean :    94.35  :  12.81 :  0.142455 :   512.84 : 2.000000\n",
      "Std  :   145.79  :  44.18 :  0.081611 :   293.80 : 0.000000\n",
      "Min  :     8.60  :   0.00 :  0.023771 :    85.58 : 2.000000\n",
      "Max  :   633.86  : 188.80 :  0.320129 :  1152.46 : 2.000000\n",
      "Trained for 10000 batches over 100 epochs and 20 episodes.\n"
     ]
    }
   ],
   "source": [
    "model.report()"
   ]
  },
  {
   "cell_type": "code",
   "execution_count": 80,
   "metadata": {},
   "outputs": [
    {
     "data": {
      "image/png": "[encoded data removed]",
      "text/plain": [
       "<Figure size 1152x720 with 1 Axes>"
      ]
     },
     "metadata": {
      "needs_background": "light"
     },
     "output_type": "display_data"
    }
   ],
   "source": [
    "# Bar chart - log likelihood by element\n",
    "fig, ax = model.plot_bar('log_like', sorted=False)"
   ]
  },
  {
   "cell_type": "code",
   "execution_count": 81,
   "metadata": {},
   "outputs": [
    {
     "data": {
      "image/png": "[encoded data removed]",
      "text/plain": [
       "<Figure size 1152x720 with 1 Axes>"
      ]
     },
     "metadata": {
      "needs_background": "light"
     },
     "output_type": "display_data"
    }
   ],
   "source": [
    "# Bar chart - hits\n",
    "fig, ax = model.plot_bar('hits', sorted=False)"
   ]
  },
  {
   "cell_type": "code",
   "execution_count": null,
   "metadata": {},
   "outputs": [],
   "source": [
    "# # Bar chart - resolution\n",
    "# fig, ax = model.plot_bar('R_deg', sorted=False)"
   ]
  },
  {
   "cell_type": "code",
   "execution_count": null,
   "metadata": {},
   "outputs": [],
   "source": [
    "# # Save model\n",
    "# model.save_state()"
   ]
  },
  {
   "cell_type": "code",
   "execution_count": 84,
   "metadata": {},
   "outputs": [
    {
     "name": "stdout",
     "output_type": "stream",
     "text": [
      "\n",
      "Training episode 24: Epoch  120, Batch  12000\n",
      "effective_learning_rate=2.441e-04, training_time 525 sec.\n",
      "Train on 6400 samples\n",
      "Epoch 121/125\n",
      "6400/6400 [==============================] - 3s 528us/sample - loss: -11442.0423\n",
      "Epoch 122/125\n",
      "6400/6400 [==============================] - 2s 363us/sample - loss: -11599.6702\n",
      "Epoch 123/125\n",
      "6400/6400 [==============================] - 2s 365us/sample - loss: -11756.1708\n",
      "Epoch 124/125\n",
      "6400/6400 [==============================] - 2s 363us/sample - loss: -11911.6586\n",
      "Epoch 125/125\n",
      "6400/6400 [==============================] - 2s 362us/sample - loss: -12066.2398\n",
      "Adjusted element weight down on 9 candidate elements. Mean weight = 9.30e-01\n",
      "Geom Mean Resolution: 0.082967 degrees ( 298.7 arc seconds)\n",
      "Mean Hits          :     28.92\n",
      "Mean Log Likelihood:    156.11\n",
      "\n",
      "Training episode 25: Epoch  125, Batch  12500\n",
      "effective_learning_rate=2.270e-04, training_time 553 sec.\n",
      "Train on 6400 samples\n",
      "Epoch 126/130\n",
      "6400/6400 [==============================] - 2s 362us/sample - loss: -12006.5317\n",
      "Epoch 127/130\n",
      "6400/6400 [==============================] - 2s 363us/sample - loss: -12159.2715\n",
      "Epoch 128/130\n",
      "6400/6400 [==============================] - 2s 367us/sample - loss: -12311.3179\n",
      "Epoch 129/130\n",
      "6400/6400 [==============================] - 2s 366us/sample - loss: -12462.7188\n",
      "Epoch 130/130\n",
      "6400/6400 [==============================] - 2s 364us/sample - loss: -12613.5450\n",
      "Adjusted element weight down on 10 candidate elements. Mean weight = 8.87e-01\n",
      "Geom Mean Resolution: 0.081480 degrees ( 293.3 arc seconds)\n",
      "Mean Hits          :     29.11\n",
      "Mean Log Likelihood:    165.91\n",
      "\n",
      "Training episode 26: Epoch  130, Batch  13000\n",
      "effective_learning_rate=2.165e-04, training_time 564 sec.\n",
      "Train on 6400 samples\n",
      "Epoch 131/135\n",
      "6400/6400 [==============================] - 2s 369us/sample - loss: -12633.3464\n",
      "Epoch 132/135\n",
      "6400/6400 [==============================] - 2s 367us/sample - loss: -12782.9613\n",
      "Epoch 133/135\n",
      "6400/6400 [==============================] - 2s 366us/sample - loss: -12932.0926\n",
      "Epoch 134/135\n",
      "6400/6400 [==============================] - 2s 366us/sample - loss: -13080.7680\n",
      "Epoch 135/135\n",
      "6400/6400 [==============================] - 2s 364us/sample - loss: -13228.9655\n",
      "Adjusted element weight down on 9 candidate elements. Mean weight = 8.67e-01\n",
      "Geom Mean Resolution: 0.080453 degrees ( 289.6 arc seconds)\n",
      "Mean Hits          :     29.21\n",
      "Mean Log Likelihood:    175.52\n",
      "\n",
      "Training episode 27: Epoch  135, Batch  13500\n",
      "effective_learning_rate=2.117e-04, training_time 576 sec.\n",
      "Train on 6400 samples\n",
      "Epoch 136/140\n",
      "6400/6400 [==============================] - 2s 364us/sample - loss: -13314.2032\n",
      "Epoch 137/140\n",
      "6400/6400 [==============================] - 2s 371us/sample - loss: -13461.5102\n",
      "Epoch 138/140\n",
      "6400/6400 [==============================] - 2s 371us/sample - loss: -13608.3681\n",
      "Epoch 139/140\n",
      "6400/6400 [==============================] - 2s 376us/sample - loss: -13754.8224\n",
      "Epoch 140/140\n",
      "6400/6400 [==============================] - 2s 366us/sample - loss: -13900.8288\n",
      "Adjusted element weight down on 11 candidate elements. Mean weight = 8.48e-01\n",
      "Geom Mean Resolution: 0.079758 degrees ( 287.1 arc seconds)\n",
      "Mean Hits          :     31.63\n",
      "Mean Log Likelihood:    184.98\n",
      "\n",
      "********************************************************************************\n",
      "Terminating: Completed 14000 batches.\n",
      "********************************************************************************\n"
     ]
    }
   ],
   "source": [
    "# Search with frozen elements\n",
    "model.freeze_candidate_elements()\n",
    "model.search_adaptive(\n",
    "    max_batches=model.current_batch+2000, \n",
    "    learning_rate=2**-12,\n",
    "    reset_active_weight=True)"
   ]
  },
  {
   "cell_type": "code",
   "execution_count": 85,
   "metadata": {},
   "outputs": [
    {
     "name": "stdout",
     "output_type": "stream",
     "text": [
      "     \\  log_like :  hits  :  R_deg    :    R_sec : thresh_deg\n",
      "Mean :   184.98  :  31.63 :  0.110667 :   398.40 : 2.000000\n",
      "Std  :   285.23  :  65.51 :  0.079798 :   287.27 : 0.000000\n",
      "Min  :    11.07  :   0.00 :  0.008494 :    30.58 : 2.000000\n",
      "Max  :  1045.26  : 194.52 :  0.344380 :  1239.77 : 2.000000\n",
      "Trained for 14000 batches over 140 epochs and 28 episodes.\n"
     ]
    }
   ],
   "source": [
    "model.report()"
   ]
  },
  {
   "cell_type": "code",
   "execution_count": 86,
   "metadata": {},
   "outputs": [
    {
     "data": {
      "image/png": "[encoded data removed]",
      "text/plain": [
       "<Figure size 1152x720 with 1 Axes>"
      ]
     },
     "metadata": {
      "needs_background": "light"
     },
     "output_type": "display_data"
    }
   ],
   "source": [
    "fig, ax = model.plot_bar('log_like', sorted=False)"
   ]
  },
  {
   "cell_type": "code",
   "execution_count": 87,
   "metadata": {},
   "outputs": [],
   "source": [
    "# model.save_state()"
   ]
  },
  {
   "cell_type": "code",
   "execution_count": 88,
   "metadata": {},
   "outputs": [
    {
     "name": "stdout",
     "output_type": "stream",
     "text": [
      "\n",
      "Training episode 28: Epoch  140, Batch  14000\n",
      "effective_learning_rate=3.052e-05, training_time 588 sec.\n",
      "Train on 6400 samples\n",
      "Epoch 141/145\n",
      "6400/6400 [==============================] - 4s 685us/sample - loss: -2938.2645\n",
      "Epoch 142/145\n",
      "6400/6400 [==============================] - 3s 462us/sample - loss: -3145.1509\n",
      "Epoch 143/145\n",
      "6400/6400 [==============================] - 3s 466us/sample - loss: -3241.1658\n",
      "Epoch 144/145\n",
      "6400/6400 [==============================] - 3s 466us/sample - loss: -3316.8744\n",
      "Epoch 145/145\n",
      "6400/6400 [==============================] - 3s 471us/sample - loss: -3384.7549\n",
      "Adjusted element weight down on 18 candidate elements. Mean weight = 8.59e-01\n",
      "Geom Mean Resolution: 0.077303 degrees ( 278.3 arc seconds)\n",
      "Mean Hits          :     31.82\n",
      "Mean Log Likelihood:    189.59\n",
      "\n",
      "Training episode 29: Epoch  145, Batch  14500\n",
      "effective_learning_rate=2.623e-05, training_time 650 sec.\n",
      "Train on 6400 samples\n",
      "Epoch 146/150\n",
      "6400/6400 [==============================] - 3s 472us/sample - loss: -4412.3361\n",
      "Epoch 147/150\n",
      "6400/6400 [==============================] - 3s 472us/sample - loss: -4442.1022\n",
      "Epoch 148/150\n",
      "6400/6400 [==============================] - 3s 470us/sample - loss: -4516.3442\n",
      "Epoch 149/150\n",
      "6400/6400 [==============================] - 3s 469us/sample - loss: -4588.2259\n",
      "Epoch 150/150\n",
      "6400/6400 [==============================] - 3s 475us/sample - loss: -4662.9029\n",
      "Adjusted element weight down on 16 candidate elements. Mean weight = 7.93e-01\n",
      "Geom Mean Resolution: 0.075942 degrees ( 273.4 arc seconds)\n",
      "Mean Hits          :     32.52\n",
      "Mean Log Likelihood:    193.44\n",
      "\n",
      "Training episode 30: Epoch  150, Batch  15000\n",
      "effective_learning_rate=2.420e-05, training_time 667 sec.\n",
      "Train on 6400 samples\n",
      "Epoch 151/155\n",
      "6400/6400 [==============================] - 3s 479us/sample - loss: -6482.0119\n",
      "Epoch 152/155\n",
      "6400/6400 [==============================] - 3s 480us/sample - loss: -6557.9005\n",
      "Epoch 153/155\n",
      "6400/6400 [==============================] - 3s 474us/sample - loss: -6658.4030\n",
      "Epoch 154/155\n",
      "6400/6400 [==============================] - 3s 479us/sample - loss: -6757.7060\n",
      "Epoch 155/155\n",
      "6400/6400 [==============================] - 3s 480us/sample - loss: -6855.5101\n",
      "Adjusted element weight down on 18 candidate elements. Mean weight = 7.32e-01\n",
      "Geom Mean Resolution: 0.074572 degrees ( 268.5 arc seconds)\n",
      "Mean Hits          :     32.69\n",
      "Mean Log Likelihood:    198.82\n",
      "\n",
      "Training episode 31: Epoch  155, Batch  15500\n",
      "effective_learning_rate=2.235e-05, training_time 683 sec.\n",
      "Train on 6400 samples\n",
      "Epoch 156/160\n",
      "6400/6400 [==============================] - 3s 484us/sample - loss: -6937.2460\n",
      "Epoch 157/160\n",
      "6400/6400 [==============================] - 3s 483us/sample - loss: -6972.2001\n",
      "Epoch 158/160\n",
      "6400/6400 [==============================] - 3s 480us/sample - loss: -7074.4330\n",
      "Epoch 159/160\n",
      "6400/6400 [==============================] - 3s 478us/sample - loss: -7170.6257\n",
      "Epoch 160/160\n",
      "6400/6400 [==============================] - 3s 481us/sample - loss: -7259.6658\n",
      "Adjusted element weight down on 17 candidate elements. Mean weight = 7.02e-01\n",
      "Geom Mean Resolution: 0.073607 degrees ( 265.0 arc seconds)\n",
      "Mean Hits          :     33.24\n",
      "Mean Log Likelihood:    203.57\n",
      "\n",
      "Training episode 32: Epoch  160, Batch  16000\n",
      "effective_learning_rate=2.143e-05, training_time 700 sec.\n",
      "Train on 6400 samples\n",
      "Epoch 161/165\n",
      "6400/6400 [==============================] - 3s 490us/sample - loss: -8398.8486\n",
      "Epoch 162/165\n",
      "6400/6400 [==============================] - 3s 498us/sample - loss: -8516.8491\n",
      "Epoch 163/165\n",
      "6400/6400 [==============================] - 3s 493us/sample - loss: -8637.0271\n",
      "Epoch 164/165\n",
      "6400/6400 [==============================] - 3s 483us/sample - loss: -8732.1366\n",
      "Epoch 165/165\n",
      "6400/6400 [==============================] - 3s 486us/sample - loss: -8827.5928\n",
      "Adjusted element weight down on 20 candidate elements. Mean weight = 6.60e-01\n",
      "Geom Mean Resolution: 0.073031 degrees ( 262.9 arc seconds)\n",
      "Mean Hits          :     33.77\n",
      "Mean Log Likelihood:    209.26\n",
      "\n",
      "Training episode 33: Epoch  165, Batch  16500\n",
      "effective_learning_rate=2.015e-05, training_time 717 sec.\n",
      "Train on 6400 samples\n",
      "Epoch 166/170\n",
      "6400/6400 [==============================] - 3s 492us/sample - loss: -9484.6729\n",
      "Epoch 167/170\n",
      "6400/6400 [==============================] - 3s 491us/sample - loss: -9634.4770\n",
      "Epoch 168/170\n",
      "6400/6400 [==============================] - 3s 488us/sample - loss: -9750.2187\n",
      "Epoch 169/170\n",
      "6400/6400 [==============================] - 3s 486us/sample - loss: -9855.8575\n",
      "Epoch 170/170\n",
      "6400/6400 [==============================] - 3s 490us/sample - loss: -9962.4064\n",
      "Adjusted element weight down on 21 candidate elements. Mean weight = 6.24e-01\n",
      "Geom Mean Resolution: 0.072461 degrees ( 260.9 arc seconds)\n",
      "Mean Hits          :     34.16\n",
      "Mean Log Likelihood:    215.91\n",
      "\n",
      "Training episode 34: Epoch  170, Batch  17000\n",
      "effective_learning_rate=1.904e-05, training_time 734 sec.\n",
      "Train on 6400 samples\n",
      "Epoch 171/175\n",
      "6400/6400 [==============================] - 3s 492us/sample - loss: -10007.2323\n",
      "Epoch 172/175\n",
      "6400/6400 [==============================] - 3s 496us/sample - loss: -10098.7270\n",
      "Epoch 173/175\n",
      "6400/6400 [==============================] - 3s 498us/sample - loss: -10203.9703\n",
      "Epoch 174/175\n",
      "6400/6400 [==============================] - 3s 497us/sample - loss: -10302.2867\n",
      "Epoch 175/175\n",
      "6400/6400 [==============================] - 3s 494us/sample - loss: -10398.5613\n",
      "Adjusted element weight down on 23 candidate elements. Mean weight = 5.86e-01\n",
      "Geom Mean Resolution: 0.072370 degrees ( 260.5 arc seconds)\n",
      "Mean Hits          :     34.36\n",
      "Mean Log Likelihood:    221.49\n",
      "\n",
      "Training episode 35: Epoch  175, Batch  17500\n",
      "effective_learning_rate=1.789e-05, training_time 752 sec.\n",
      "Train on 6400 samples\n",
      "Epoch 176/180\n",
      "6400/6400 [==============================] - 3s 495us/sample - loss: -10465.4337\n",
      "Epoch 177/180\n",
      "6400/6400 [==============================] - 3s 498us/sample - loss: -10542.8627\n",
      "Epoch 178/180\n",
      "6400/6400 [==============================] - 3s 493us/sample - loss: -10644.6936\n",
      "Epoch 179/180\n",
      "6400/6400 [==============================] - 3s 492us/sample - loss: -10742.0513\n",
      "Epoch 180/180\n",
      "6400/6400 [==============================] - 3s 490us/sample - loss: -10833.4945\n",
      "Adjusted element weight down on 22 candidate elements. Mean weight = 5.61e-01\n",
      "Geom Mean Resolution: 0.072420 degrees ( 260.7 arc seconds)\n",
      "Mean Hits          :     34.36\n",
      "Mean Log Likelihood:    227.14\n",
      "\n",
      "Training episode 36: Epoch  180, Batch  18000\n",
      "effective_learning_rate=1.713e-05, training_time 769 sec.\n",
      "Train on 6400 samples\n",
      "Epoch 181/185\n",
      "6400/6400 [==============================] - 3s 499us/sample - loss: -10871.4359\n",
      "Epoch 182/185\n",
      "6400/6400 [==============================] - 3s 505us/sample - loss: -10937.9008\n",
      "Epoch 183/185\n",
      "6400/6400 [==============================] - 3s 505us/sample - loss: -11029.5377\n",
      "Epoch 184/185\n",
      "6400/6400 [==============================] - 3s 503us/sample - loss: -11121.7885\n",
      "Epoch 185/185\n",
      "6400/6400 [==============================] - 3s 500us/sample - loss: -11214.4498\n",
      "Adjusted element weight down on 23 candidate elements. Mean weight = 5.44e-01\n",
      "Geom Mean Resolution: 0.072890 degrees ( 262.4 arc seconds)\n",
      "Mean Hits          :     34.42\n",
      "Mean Log Likelihood:    232.47\n",
      "\n",
      "Training episode 37: Epoch  185, Batch  18500\n",
      "effective_learning_rate=1.661e-05, training_time 786 sec.\n",
      "Train on 6400 samples\n",
      "Epoch 186/190\n",
      "6400/6400 [==============================] - 3s 512us/sample - loss: -11301.1202\n",
      "Epoch 187/190\n",
      "6400/6400 [==============================] - 3s 505us/sample - loss: -11371.0434\n",
      "Epoch 188/190\n",
      "6400/6400 [==============================] - 3s 499us/sample - loss: -11466.5814\n",
      "Epoch 189/190\n",
      "6400/6400 [==============================] - 3s 501us/sample - loss: -11559.3343\n",
      "Epoch 190/190\n",
      "6400/6400 [==============================] - 3s 505us/sample - loss: -11647.4221\n",
      "Adjusted element weight down on 25 candidate elements. Mean weight = 5.31e-01\n",
      "Geom Mean Resolution: 0.073352 degrees ( 264.1 arc seconds)\n",
      "Mean Hits          :     34.36\n",
      "Mean Log Likelihood:    237.85\n",
      "\n",
      "********************************************************************************\n",
      "Terminating: Completed 19000 batches.\n",
      "********************************************************************************\n"
     ]
    }
   ],
   "source": [
    "# Search with live elements\n",
    "model.thaw_candidate_elements()\n",
    "model.search_adaptive(\n",
    "    max_batches=model.current_batch+5000,\n",
    "    learning_rate=2**-15,\n",
    "    reset_active_weight=True)"
   ]
  },
  {
   "cell_type": "code",
   "execution_count": 89,
   "metadata": {},
   "outputs": [
    {
     "name": "stdout",
     "output_type": "stream",
     "text": [
      "     \\  log_like :  hits  :  R_deg    :    R_sec : thresh_deg\n",
      "Mean :   237.85  :  34.36 :  0.133044 :   478.96 : 2.000000\n",
      "Std  :   345.27  :  65.12 :  0.123568 :   444.85 : 0.000000\n",
      "Min  :    11.50  :   0.00 :  0.004975 :    17.91 : 2.000000\n",
      "Max  :  1183.88  : 194.52 :  0.444841 :  1601.43 : 2.000000\n",
      "Trained for 19000 batches over 190 epochs and 38 episodes.\n"
     ]
    }
   ],
   "source": [
    "model.report()"
   ]
  },
  {
   "cell_type": "code",
   "execution_count": 90,
   "metadata": {},
   "outputs": [
    {
     "data": {
      "image/png": "[encoded data removed]",
      "text/plain": [
       "<Figure size 1152x720 with 1 Axes>"
      ]
     },
     "metadata": {
      "needs_background": "light"
     },
     "output_type": "display_data"
    }
   ],
   "source": [
    "fig, ax = model.plot_bar('log_like', sorted=False)"
   ]
  },
  {
   "cell_type": "code",
   "execution_count": 91,
   "metadata": {},
   "outputs": [],
   "source": [
    "# model.save_state()"
   ]
  },
  {
   "cell_type": "markdown",
   "metadata": {},
   "source": [
    "## Prototype"
   ]
  },
  {
   "cell_type": "code",
   "execution_count": null,
   "metadata": {},
   "outputs": [],
   "source": [
    "# # Unfreeze the score layer\n",
    "# model.thaw_score()"
   ]
  },
  {
   "cell_type": "code",
   "execution_count": null,
   "metadata": {},
   "outputs": [],
   "source": [
    "# Length of training\n",
    "max_batches_element = 22000\n",
    "\n",
    "# thresh_deg at end: 500 arc seconds\n",
    "thresh_deg_end = 500 / 3600.0\n",
    "\n",
    "# New smaller learning rate\n",
    "learning_rate = 2.0**-15\n",
    "\n",
    "# Reset active weight\n",
    "reset_active_weight = True"
   ]
  },
  {
   "cell_type": "code",
   "execution_count": null,
   "metadata": {},
   "outputs": [],
   "source": [
    "# Train model in joint mode\n",
    "model.search_adaptive(\n",
    "    max_batches=max_batches_element, \n",
    "    batches_per_epoch=batches_per_epoch,\n",
    "    epochs_per_episode=epochs_per_episode,\n",
    "    thresh_deg_end=thresh_deg_end,\n",
    "    learning_rate=learning_rate,\n",
    "    reset_active_weight=reset_active_weight,\n",
    "    verbose=verbose)"
   ]
  },
  {
   "cell_type": "code",
   "execution_count": null,
   "metadata": {},
   "outputs": [],
   "source": [
    "model.report()"
   ]
  },
  {
   "cell_type": "code",
   "execution_count": null,
   "metadata": {},
   "outputs": [],
   "source": [
    "# model.save_state()"
   ]
  },
  {
   "cell_type": "code",
   "execution_count": null,
   "metadata": {},
   "outputs": [],
   "source": [
    "# Lower threshold manually\n",
    "thresh_deg_score = 1.0\n",
    "model.set_thresh_deg_score(thresh_deg_score)\n",
    "model.freeze_score()"
   ]
  },
  {
   "cell_type": "code",
   "execution_count": null,
   "metadata": {},
   "outputs": [],
   "source": [
    "model.search_adaptive(\n",
    "    max_batches=20000, \n",
    "    batches_per_epoch=batches_per_epoch,\n",
    "    epochs_per_episode=epochs_per_episode,\n",
    "    learning_rate=2.0**-15,\n",
    "    reset_active_weight=True,\n",
    "    verbose=verbose)"
   ]
  },
  {
   "cell_type": "code",
   "execution_count": null,
   "metadata": {},
   "outputs": [],
   "source": [
    "model.report()"
   ]
  },
  {
   "cell_type": "code",
   "execution_count": null,
   "metadata": {},
   "outputs": [],
   "source": [
    "# model.save_state()"
   ]
  },
  {
   "cell_type": "markdown",
   "metadata": {},
   "source": [
    "## Review Results Graphically"
   ]
  },
  {
   "cell_type": "code",
   "execution_count": null,
   "metadata": {},
   "outputs": [],
   "source": [
    "# Bar chart - log likelihood by element\n",
    "fig, ax = model.plot_bar('log_like', sorted=False)"
   ]
  },
  {
   "cell_type": "code",
   "execution_count": null,
   "metadata": {},
   "outputs": [],
   "source": [
    "# Bar chart: hits\n",
    "fig, ax = model.plot_bar('hits', sorted=False)"
   ]
  },
  {
   "cell_type": "code",
   "execution_count": null,
   "metadata": {},
   "outputs": [],
   "source": [
    "# Bar chart: log likelihood\n",
    "fig, ax = model.plot_bar('log_R', sorted=False)"
   ]
  },
  {
   "cell_type": "code",
   "execution_count": null,
   "metadata": {},
   "outputs": [],
   "source": [
    "# # Learning curve: log likelihood\n",
    "# fig, ax = model.plot_hist('log_like')"
   ]
  },
  {
   "cell_type": "code",
   "execution_count": null,
   "metadata": {},
   "outputs": [],
   "source": [
    "# # Learning curve: hits\n",
    "# fig, ax = model.plot_hist('hits')"
   ]
  },
  {
   "cell_type": "markdown",
   "metadata": {},
   "source": [
    "## Distance vs. Nearest Asteroid for Fitted Elements"
   ]
  },
  {
   "cell_type": "code",
   "execution_count": null,
   "metadata": {},
   "outputs": [],
   "source": [
    "# Find nearest asteroid to fitted elements\n",
    "elts_fit, elts_near = model.nearest_ast()"
   ]
  },
  {
   "cell_type": "code",
   "execution_count": null,
   "metadata": {},
   "outputs": [],
   "source": [
    "q_norm = elt_q_norm(elts=elts_fit, ast_num=elts_fit.nearest_ast_num)\n",
    "elts_fit['nearest_ast_q_norm'] = q_norm"
   ]
  },
  {
   "cell_type": "code",
   "execution_count": null,
   "metadata": {},
   "outputs": [],
   "source": [
    "# # Review asteroids nearest to the fitted elements\n",
    "# elts_near"
   ]
  },
  {
   "cell_type": "code",
   "execution_count": null,
   "metadata": {},
   "outputs": [],
   "source": [
    "# Review fitted elements including nearest asteroid\n",
    "elts_fit"
   ]
  },
  {
   "cell_type": "code",
   "execution_count": null,
   "metadata": {},
   "outputs": [],
   "source": [
    "# Filter for only the good ones\n",
    "mask = (elts_fit.log_like > 200) & (elts_fit.R_sec < 60)\n",
    "elts_fit[mask]"
   ]
  },
  {
   "cell_type": "code",
   "execution_count": null,
   "metadata": {},
   "outputs": [],
   "source": [
    "# Filter for incomplete convergence\n",
    "mask = (elts_fit.log_like > 200) & (elts_fit.R_sec >= 60)\n",
    "elts_fit[mask]"
   ]
  },
  {
   "cell_type": "markdown",
   "metadata": {},
   "source": [
    "## Visualize Error vs. Nearest Asteroid"
   ]
  },
  {
   "cell_type": "code",
   "execution_count": null,
   "metadata": {},
   "outputs": [],
   "source": [
    "model.elts_near_ast"
   ]
  },
  {
   "cell_type": "code",
   "execution_count": null,
   "metadata": {},
   "outputs": [],
   "source": [
    "# Plot position error vs. known elements\n",
    "fig, ax = model.plot_q_error(is_log=True, use_near_ast_dist=True)"
   ]
  },
  {
   "cell_type": "code",
   "execution_count": null,
   "metadata": {},
   "outputs": [],
   "source": [
    "# Plot error in orbital elements\n",
    "fig, ax = model.plot_elt_error(elt_name='a', is_log=True, elt_num=None)"
   ]
  },
  {
   "cell_type": "code",
   "execution_count": null,
   "metadata": {},
   "outputs": [],
   "source": [
    "# Plot error in orbital elements\n",
    "fig, ax = model.plot_elt_error(elt_name='e', is_log=True, elt_num=None)"
   ]
  },
  {
   "cell_type": "code",
   "execution_count": null,
   "metadata": {},
   "outputs": [],
   "source": []
  }
 ],
 "metadata": {
  "kernelspec": {
   "display_name": "Python [conda env:kepler]",
   "language": "python",
   "name": "conda-env-kepler-py"
  },
  "language_info": {
   "codemirror_mode": {
    "name": "ipython",
    "version": 3
   },
   "file_extension": ".py",
   "mimetype": "text/x-python",
   "name": "python",
   "nbconvert_exporter": "python",
   "pygments_lexer": "ipython3",
   "version": "3.7.6"
  }
 },
 "nbformat": 4,
 "nbformat_minor": 4
}
