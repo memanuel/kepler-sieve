{
 "cells": [
  {
   "cell_type": "code",
   "execution_count": 1,
   "metadata": {},
   "outputs": [
    {
     "name": "stdout",
     "output_type": "stream",
     "text": [
      "Found 4 GPUs.  Setting memory growth = True.\n"
     ]
    }
   ],
   "source": [
    "# Core\n",
    "import numpy as np\n",
    "import pandas as pd\n",
    "\n",
    "# Tensorflow / ML\n",
    "import tensorflow as tf\n",
    "\n",
    "# Plotting\n",
    "import matplotlib.pyplot as plt\n",
    "import matplotlib as mpl\n",
    "\n",
    "# Utility\n",
    "import time\n",
    "\n",
    "# MSE Imports\n",
    "import kepler_sieve\n",
    "from asteroid_element import load_ast_elt\n",
    "from candidate_element import asteroid_elts, perturb_elts, random_elts, elts_add_mixture_params, elts_add_H\n",
    "from ztf_ast import load_ztf_nearest_ast, calc_hit_freq\n",
    "from ztf_element import load_ztf_batch, make_ztf_batch, ztf_score_by_elt, ztf_elt_summary\n",
    "from asteroid_model import AsteroidPosition, AsteroidDirection, make_model_ast_pos\n",
    "from asteroid_search_layers import CandidateElements, MixtureParameters, TrajectoryScore\n",
    "from asteroid_search_model import AsteroidSearchModel, make_opt_adam\n",
    "from asteroid_search_report import traj_diff\n",
    "from nearest_asteroid import nearest_ast_elt_cart, nearest_ast_elt_cov, elt_q_norm\n",
    "from element_eda import score_by_elt\n",
    "from asteroid_dataframe import calc_ast_data, spline_ast_vec_df\n",
    "from astro_utils import deg2dist, dist2deg, dist2sec"
   ]
  },
  {
   "cell_type": "code",
   "execution_count": 2,
   "metadata": {},
   "outputs": [],
   "source": [
    "# Aliases\n",
    "keras = tf.keras\n",
    "\n",
    "# Constants\n",
    "dtype = tf.float32\n",
    "dtype_np = np.float32\n",
    "space_dims = 3"
   ]
  },
  {
   "cell_type": "code",
   "execution_count": 3,
   "metadata": {},
   "outputs": [],
   "source": [
    "# Set plot style variables\n",
    "mpl.rcParams['figure.figsize'] = [16.0, 10.0]\n",
    "mpl.rcParams['font.size'] = 16"
   ]
  },
  {
   "cell_type": "markdown",
   "metadata": {},
   "source": [
    "## Load ZTF Data and Batch of Orbital Elements"
   ]
  },
  {
   "cell_type": "code",
   "execution_count": 4,
   "metadata": {},
   "outputs": [],
   "source": [
    "# Load orbital elements for known asteroids\n",
    "ast_elt = load_ast_elt()\n",
    "\n",
    "# Number of asteroids\n",
    "N_ast = ast_elt.shape[0]"
   ]
  },
  {
   "cell_type": "code",
   "execution_count": 5,
   "metadata": {},
   "outputs": [],
   "source": [
    "# Load ztf nearest asteroid data\n",
    "ztf_ast = load_ztf_nearest_ast()"
   ]
  },
  {
   "cell_type": "code",
   "execution_count": 6,
   "metadata": {},
   "outputs": [],
   "source": [
    "# Asteroid numbers and hit counts\n",
    "ast_num, hit_count = calc_hit_freq(ztf=ztf_ast, thresh_sec=2.0)\n",
    "\n",
    "# Sort the hit counts in descending order and find the top batch_size\n",
    "idx = np.argsort(hit_count)[::-1]\n",
    "\n",
    "# Extract the asteroid number and hit count for this batch\n",
    "ast_num_best = ast_num[idx]\n",
    "hit_count_best = hit_count[idx]"
   ]
  },
  {
   "cell_type": "code",
   "execution_count": 7,
   "metadata": {},
   "outputs": [],
   "source": [
    "# Parameters to build elements batch\n",
    "batch_size = 64\n",
    "\n",
    "# Batch of unperturbed elements\n",
    "elts_ast = asteroid_elts(ast_nums=ast_num_best[0:batch_size])"
   ]
  },
  {
   "cell_type": "code",
   "execution_count": 8,
   "metadata": {},
   "outputs": [],
   "source": [
    "# # Review unperturbed elements\n",
    "# elts_ast"
   ]
  },
  {
   "cell_type": "code",
   "execution_count": 9,
   "metadata": {},
   "outputs": [],
   "source": [
    "# Inputs to perturb elements: large\n",
    "sigma_a = 0.05\n",
    "sigma_e = 0.01\n",
    "sigma_inc_deg = 0.25\n",
    "sigma_f_deg = 1.0\n",
    "sigma_Omega_deg = 1.0\n",
    "sigma_omega_deg = 1.0\n",
    "mask_pert = None\n",
    "random_seed = 42\n",
    "\n",
    "# Perturb orbital elements\n",
    "elts_pert= perturb_elts(elts_ast, sigma_a=sigma_a, sigma_e=sigma_e, \n",
    "                    sigma_inc_deg=sigma_inc_deg, sigma_f_deg=sigma_f_deg, \n",
    "                    sigma_Omega_deg=sigma_Omega_deg, sigma_omega_deg=sigma_omega_deg,\n",
    "                    mask_pert=mask_pert, random_seed=random_seed)"
   ]
  },
  {
   "cell_type": "code",
   "execution_count": 10,
   "metadata": {},
   "outputs": [],
   "source": [
    "# Choose which elements to search on\n",
    "elts = elts_pert"
   ]
  },
  {
   "cell_type": "code",
   "execution_count": 11,
   "metadata": {},
   "outputs": [],
   "source": [
    "# Search for nearest asteroids to these elements\n",
    "# elts_near = nearest_ast_elt(elts)"
   ]
  },
  {
   "cell_type": "code",
   "execution_count": 12,
   "metadata": {},
   "outputs": [],
   "source": [
    "# Review selected initial candidate elements, including the nearest asteroid information\n",
    "# elts"
   ]
  },
  {
   "cell_type": "code",
   "execution_count": 13,
   "metadata": {},
   "outputs": [],
   "source": [
    "# Review nearest asteroid to these candidate elements\n",
    "# elts_near"
   ]
  },
  {
   "cell_type": "code",
   "execution_count": 14,
   "metadata": {},
   "outputs": [],
   "source": [
    "# How many elements are still closest to the original elements?\n",
    "# np.sum(elts.nearest_ast_num == elts.element_id)"
   ]
  },
  {
   "cell_type": "markdown",
   "metadata": {},
   "source": [
    "## Batches of ZTF Data Near Initial Candidate Elements"
   ]
  },
  {
   "cell_type": "code",
   "execution_count": 15,
   "metadata": {},
   "outputs": [],
   "source": [
    "# Arguments to make_ztf_batch\n",
    "thresh_deg = 2.0\n",
    "near_ast = False\n",
    "regenerate = False"
   ]
  },
  {
   "cell_type": "code",
   "execution_count": 16,
   "metadata": {},
   "outputs": [],
   "source": [
    "# Load perturbed element batch\n",
    "ztf_elt = load_ztf_batch(elts=elts, thresh_deg=thresh_deg, near_ast=near_ast, regenerate=regenerate)"
   ]
  },
  {
   "cell_type": "code",
   "execution_count": 17,
   "metadata": {},
   "outputs": [
    {
     "data": {
      "text/html": [
       "<div>\n",
       "<style scoped>\n",
       "    .dataframe tbody tr th:only-of-type {\n",
       "        vertical-align: middle;\n",
       "    }\n",
       "\n",
       "    .dataframe tbody tr th {\n",
       "        vertical-align: top;\n",
       "    }\n",
       "\n",
       "    .dataframe thead th {\n",
       "        text-align: right;\n",
       "    }\n",
       "</style>\n",
       "<table border=\"1\" class=\"dataframe\">\n",
       "  <thead>\n",
       "    <tr style=\"text-align: right;\">\n",
       "      <th></th>\n",
       "      <th>ztf_id</th>\n",
       "      <th>element_id</th>\n",
       "      <th>ObjectID</th>\n",
       "      <th>CandidateID</th>\n",
       "      <th>TimeStampID</th>\n",
       "      <th>mjd</th>\n",
       "      <th>ra</th>\n",
       "      <th>dec</th>\n",
       "      <th>ux</th>\n",
       "      <th>uy</th>\n",
       "      <th>...</th>\n",
       "      <th>vz</th>\n",
       "      <th>elt_ux</th>\n",
       "      <th>elt_uy</th>\n",
       "      <th>elt_uz</th>\n",
       "      <th>elt_r</th>\n",
       "      <th>s</th>\n",
       "      <th>s_sec</th>\n",
       "      <th>z</th>\n",
       "      <th>v</th>\n",
       "      <th>is_hit</th>\n",
       "    </tr>\n",
       "  </thead>\n",
       "  <tbody>\n",
       "    <tr>\n",
       "      <th>0</th>\n",
       "      <td>306</td>\n",
       "      <td>733</td>\n",
       "      <td>b'ZTF18abiyevm'</td>\n",
       "      <td>567274570115015018</td>\n",
       "      <td>3341</td>\n",
       "      <td>58321.274572</td>\n",
       "      <td>275.834958</td>\n",
       "      <td>-12.178240</td>\n",
       "      <td>0.099376</td>\n",
       "      <td>-0.976101</td>\n",
       "      <td>...</td>\n",
       "      <td>0.004095</td>\n",
       "      <td>0.080910</td>\n",
       "      <td>-0.982320</td>\n",
       "      <td>0.168822</td>\n",
       "      <td>2.050675</td>\n",
       "      <td>0.031258</td>\n",
       "      <td>6447.753750</td>\n",
       "      <td>0.999511</td>\n",
       "      <td>0.801975</td>\n",
       "      <td>False</td>\n",
       "    </tr>\n",
       "    <tr>\n",
       "      <th>1</th>\n",
       "      <td>6391</td>\n",
       "      <td>733</td>\n",
       "      <td>b'ZTF18ablpbwh'</td>\n",
       "      <td>617122522515015016</td>\n",
       "      <td>8730</td>\n",
       "      <td>58371.122523</td>\n",
       "      <td>272.156750</td>\n",
       "      <td>-10.136454</td>\n",
       "      <td>0.037046</td>\n",
       "      <td>-0.972528</td>\n",
       "      <td>...</td>\n",
       "      <td>0.003837</td>\n",
       "      <td>0.016116</td>\n",
       "      <td>-0.975703</td>\n",
       "      <td>0.218503</td>\n",
       "      <td>2.491969</td>\n",
       "      <td>0.024005</td>\n",
       "      <td>4951.468379</td>\n",
       "      <td>0.999712</td>\n",
       "      <td>0.472962</td>\n",
       "      <td>False</td>\n",
       "    </tr>\n",
       "    <tr>\n",
       "      <th>2</th>\n",
       "      <td>6392</td>\n",
       "      <td>733</td>\n",
       "      <td>b'ZTF18ablpbwh'</td>\n",
       "      <td>618126362515015025</td>\n",
       "      <td>8913</td>\n",
       "      <td>58372.126366</td>\n",
       "      <td>272.156760</td>\n",
       "      <td>-10.136446</td>\n",
       "      <td>0.037046</td>\n",
       "      <td>-0.972528</td>\n",
       "      <td>...</td>\n",
       "      <td>0.003830</td>\n",
       "      <td>0.017464</td>\n",
       "      <td>-0.975564</td>\n",
       "      <td>0.219021</td>\n",
       "      <td>2.503645</td>\n",
       "      <td>0.022568</td>\n",
       "      <td>4655.153797</td>\n",
       "      <td>0.999745</td>\n",
       "      <td>0.418050</td>\n",
       "      <td>False</td>\n",
       "    </tr>\n",
       "    <tr>\n",
       "      <th>3</th>\n",
       "      <td>6393</td>\n",
       "      <td>733</td>\n",
       "      <td>b'ZTF18ablpbwh'</td>\n",
       "      <td>611146562515015015</td>\n",
       "      <td>7585</td>\n",
       "      <td>58365.146562</td>\n",
       "      <td>272.156733</td>\n",
       "      <td>-10.136444</td>\n",
       "      <td>0.037046</td>\n",
       "      <td>-0.972528</td>\n",
       "      <td>...</td>\n",
       "      <td>0.003876</td>\n",
       "      <td>0.010155</td>\n",
       "      <td>-0.976524</td>\n",
       "      <td>0.215169</td>\n",
       "      <td>2.423439</td>\n",
       "      <td>0.030883</td>\n",
       "      <td>6370.298847</td>\n",
       "      <td>0.999523</td>\n",
       "      <td>0.782824</td>\n",
       "      <td>False</td>\n",
       "    </tr>\n",
       "    <tr>\n",
       "      <th>4</th>\n",
       "      <td>12249</td>\n",
       "      <td>733</td>\n",
       "      <td>b'ZTF18ablwzcc'</td>\n",
       "      <td>584190354815015015</td>\n",
       "      <td>4647</td>\n",
       "      <td>58338.190359</td>\n",
       "      <td>273.272132</td>\n",
       "      <td>-13.497675</td>\n",
       "      <td>0.055502</td>\n",
       "      <td>-0.983530</td>\n",
       "      <td>...</td>\n",
       "      <td>0.004023</td>\n",
       "      <td>0.030085</td>\n",
       "      <td>-0.980846</td>\n",
       "      <td>0.192450</td>\n",
       "      <td>2.155818</td>\n",
       "      <td>0.032724</td>\n",
       "      <td>6750.065879</td>\n",
       "      <td>0.999465</td>\n",
       "      <td>0.878934</td>\n",
       "      <td>False</td>\n",
       "    </tr>\n",
       "    <tr>\n",
       "      <th>...</th>\n",
       "      <td>...</td>\n",
       "      <td>...</td>\n",
       "      <td>...</td>\n",
       "      <td>...</td>\n",
       "      <td>...</td>\n",
       "      <td>...</td>\n",
       "      <td>...</td>\n",
       "      <td>...</td>\n",
       "      <td>...</td>\n",
       "      <td>...</td>\n",
       "      <td>...</td>\n",
       "      <td>...</td>\n",
       "      <td>...</td>\n",
       "      <td>...</td>\n",
       "      <td>...</td>\n",
       "      <td>...</td>\n",
       "      <td>...</td>\n",
       "      <td>...</td>\n",
       "      <td>...</td>\n",
       "      <td>...</td>\n",
       "      <td>...</td>\n",
       "    </tr>\n",
       "    <tr>\n",
       "      <th>290766</th>\n",
       "      <td>5650772</td>\n",
       "      <td>324582</td>\n",
       "      <td>b'ZTF20aaqvhnd'</td>\n",
       "      <td>1150176700415015000</td>\n",
       "      <td>96618</td>\n",
       "      <td>58904.176701</td>\n",
       "      <td>48.664349</td>\n",
       "      <td>31.318054</td>\n",
       "      <td>0.564235</td>\n",
       "      <td>0.795279</td>\n",
       "      <td>...</td>\n",
       "      <td>-0.001786</td>\n",
       "      <td>0.584015</td>\n",
       "      <td>0.786561</td>\n",
       "      <td>0.200621</td>\n",
       "      <td>2.748814</td>\n",
       "      <td>0.030221</td>\n",
       "      <td>6233.797319</td>\n",
       "      <td>0.999543</td>\n",
       "      <td>0.749638</td>\n",
       "      <td>False</td>\n",
       "    </tr>\n",
       "    <tr>\n",
       "      <th>290767</th>\n",
       "      <td>5650773</td>\n",
       "      <td>324582</td>\n",
       "      <td>b'ZTF20aaqvhns'</td>\n",
       "      <td>1150176245615015007</td>\n",
       "      <td>96617</td>\n",
       "      <td>58904.176250</td>\n",
       "      <td>45.820577</td>\n",
       "      <td>29.378228</td>\n",
       "      <td>0.607285</td>\n",
       "      <td>0.768505</td>\n",
       "      <td>...</td>\n",
       "      <td>-0.001786</td>\n",
       "      <td>0.584016</td>\n",
       "      <td>0.786559</td>\n",
       "      <td>0.200622</td>\n",
       "      <td>2.748808</td>\n",
       "      <td>0.029465</td>\n",
       "      <td>6077.915470</td>\n",
       "      <td>0.999566</td>\n",
       "      <td>0.712618</td>\n",
       "      <td>False</td>\n",
       "    </tr>\n",
       "    <tr>\n",
       "      <th>290768</th>\n",
       "      <td>5650789</td>\n",
       "      <td>324582</td>\n",
       "      <td>b'ZTF20aaqvhnm'</td>\n",
       "      <td>1150176245015015006</td>\n",
       "      <td>96617</td>\n",
       "      <td>58904.176250</td>\n",
       "      <td>48.881586</td>\n",
       "      <td>28.300138</td>\n",
       "      <td>0.579016</td>\n",
       "      <td>0.797156</td>\n",
       "      <td>...</td>\n",
       "      <td>-0.001786</td>\n",
       "      <td>0.584016</td>\n",
       "      <td>0.786559</td>\n",
       "      <td>0.200622</td>\n",
       "      <td>2.748808</td>\n",
       "      <td>0.031743</td>\n",
       "      <td>6547.783696</td>\n",
       "      <td>0.999496</td>\n",
       "      <td>0.827049</td>\n",
       "      <td>False</td>\n",
       "    </tr>\n",
       "    <tr>\n",
       "      <th>290769</th>\n",
       "      <td>5650791</td>\n",
       "      <td>324582</td>\n",
       "      <td>b'ZTF20aaqvhog'</td>\n",
       "      <td>1150176244815015007</td>\n",
       "      <td>96617</td>\n",
       "      <td>58904.176250</td>\n",
       "      <td>49.429756</td>\n",
       "      <td>29.370649</td>\n",
       "      <td>0.566783</td>\n",
       "      <td>0.802441</td>\n",
       "      <td>...</td>\n",
       "      <td>-0.001786</td>\n",
       "      <td>0.584016</td>\n",
       "      <td>0.786559</td>\n",
       "      <td>0.200622</td>\n",
       "      <td>2.748808</td>\n",
       "      <td>0.027275</td>\n",
       "      <td>5625.990260</td>\n",
       "      <td>0.999628</td>\n",
       "      <td>0.610591</td>\n",
       "      <td>False</td>\n",
       "    </tr>\n",
       "    <tr>\n",
       "      <th>290770</th>\n",
       "      <td>5650821</td>\n",
       "      <td>324582</td>\n",
       "      <td>b'ZTF20aaqvhsw'</td>\n",
       "      <td>1150176702215015011</td>\n",
       "      <td>96618</td>\n",
       "      <td>58904.176701</td>\n",
       "      <td>47.838401</td>\n",
       "      <td>31.601561</td>\n",
       "      <td>0.571690</td>\n",
       "      <td>0.787678</td>\n",
       "      <td>...</td>\n",
       "      <td>-0.001786</td>\n",
       "      <td>0.584015</td>\n",
       "      <td>0.786561</td>\n",
       "      <td>0.200621</td>\n",
       "      <td>2.748814</td>\n",
       "      <td>0.031545</td>\n",
       "      <td>6506.984732</td>\n",
       "      <td>0.999502</td>\n",
       "      <td>0.816775</td>\n",
       "      <td>False</td>\n",
       "    </tr>\n",
       "  </tbody>\n",
       "</table>\n",
       "<p>290771 rows × 27 columns</p>\n",
       "</div>"
      ],
      "text/plain": [
       "         ztf_id  element_id         ObjectID          CandidateID  \\\n",
       "0           306         733  b'ZTF18abiyevm'   567274570115015018   \n",
       "1          6391         733  b'ZTF18ablpbwh'   617122522515015016   \n",
       "2          6392         733  b'ZTF18ablpbwh'   618126362515015025   \n",
       "3          6393         733  b'ZTF18ablpbwh'   611146562515015015   \n",
       "4         12249         733  b'ZTF18ablwzcc'   584190354815015015   \n",
       "...         ...         ...              ...                  ...   \n",
       "290766  5650772      324582  b'ZTF20aaqvhnd'  1150176700415015000   \n",
       "290767  5650773      324582  b'ZTF20aaqvhns'  1150176245615015007   \n",
       "290768  5650789      324582  b'ZTF20aaqvhnm'  1150176245015015006   \n",
       "290769  5650791      324582  b'ZTF20aaqvhog'  1150176244815015007   \n",
       "290770  5650821      324582  b'ZTF20aaqvhsw'  1150176702215015011   \n",
       "\n",
       "        TimeStampID           mjd          ra        dec        ux        uy  \\\n",
       "0              3341  58321.274572  275.834958 -12.178240  0.099376 -0.976101   \n",
       "1              8730  58371.122523  272.156750 -10.136454  0.037046 -0.972528   \n",
       "2              8913  58372.126366  272.156760 -10.136446  0.037046 -0.972528   \n",
       "3              7585  58365.146562  272.156733 -10.136444  0.037046 -0.972528   \n",
       "4              4647  58338.190359  273.272132 -13.497675  0.055502 -0.983530   \n",
       "...             ...           ...         ...        ...       ...       ...   \n",
       "290766        96618  58904.176701   48.664349  31.318054  0.564235  0.795279   \n",
       "290767        96617  58904.176250   45.820577  29.378228  0.607285  0.768505   \n",
       "290768        96617  58904.176250   48.881586  28.300138  0.579016  0.797156   \n",
       "290769        96617  58904.176250   49.429756  29.370649  0.566783  0.802441   \n",
       "290770        96618  58904.176701   47.838401  31.601561  0.571690  0.787678   \n",
       "\n",
       "        ...        vz    elt_ux    elt_uy    elt_uz     elt_r         s  \\\n",
       "0       ...  0.004095  0.080910 -0.982320  0.168822  2.050675  0.031258   \n",
       "1       ...  0.003837  0.016116 -0.975703  0.218503  2.491969  0.024005   \n",
       "2       ...  0.003830  0.017464 -0.975564  0.219021  2.503645  0.022568   \n",
       "3       ...  0.003876  0.010155 -0.976524  0.215169  2.423439  0.030883   \n",
       "4       ...  0.004023  0.030085 -0.980846  0.192450  2.155818  0.032724   \n",
       "...     ...       ...       ...       ...       ...       ...       ...   \n",
       "290766  ... -0.001786  0.584015  0.786561  0.200621  2.748814  0.030221   \n",
       "290767  ... -0.001786  0.584016  0.786559  0.200622  2.748808  0.029465   \n",
       "290768  ... -0.001786  0.584016  0.786559  0.200622  2.748808  0.031743   \n",
       "290769  ... -0.001786  0.584016  0.786559  0.200622  2.748808  0.027275   \n",
       "290770  ... -0.001786  0.584015  0.786561  0.200621  2.748814  0.031545   \n",
       "\n",
       "              s_sec         z         v  is_hit  \n",
       "0       6447.753750  0.999511  0.801975   False  \n",
       "1       4951.468379  0.999712  0.472962   False  \n",
       "2       4655.153797  0.999745  0.418050   False  \n",
       "3       6370.298847  0.999523  0.782824   False  \n",
       "4       6750.065879  0.999465  0.878934   False  \n",
       "...             ...       ...       ...     ...  \n",
       "290766  6233.797319  0.999543  0.749638   False  \n",
       "290767  6077.915470  0.999566  0.712618   False  \n",
       "290768  6547.783696  0.999496  0.827049   False  \n",
       "290769  5625.990260  0.999628  0.610591   False  \n",
       "290770  6506.984732  0.999502  0.816775   False  \n",
       "\n",
       "[290771 rows x 27 columns]"
      ]
     },
     "execution_count": 17,
     "metadata": {},
     "output_type": "execute_result"
    }
   ],
   "source": [
    "# Review ZTF elements\n",
    "ztf_elt"
   ]
  },
  {
   "cell_type": "code",
   "execution_count": 18,
   "metadata": {},
   "outputs": [],
   "source": [
    "# Score by element - perturbed\n",
    "score_by_elt = ztf_score_by_elt(ztf_elt)"
   ]
  },
  {
   "cell_type": "code",
   "execution_count": 19,
   "metadata": {},
   "outputs": [
    {
     "name": "stdout",
     "output_type": "stream",
     "text": [
      "ZTF Element Dataframe Perturbed Asteroids:\n",
      "                  Total     (Per Batch)\n",
      "Observations   :   290771   (     4543)\n",
      "\n",
      "Summarize score = sum(-1.0 - log(v)) by batch.  (Mean=0, Variance=num_obs)\n",
      "Mean score     :      42.77\n",
      "Sqrt(batch_obs):      67.40\n",
      "Mean t_score   :       0.58\n"
     ]
    }
   ],
   "source": [
    "# Summarize the ztf element batch: perturbed asteroids\n",
    "ztf_elt_summary(ztf_elt, score_by_elt, 'Perturbed Asteroids')"
   ]
  },
  {
   "cell_type": "code",
   "execution_count": 20,
   "metadata": {},
   "outputs": [],
   "source": [
    "# Mixture parameters\n",
    "num_hits: int = 10\n",
    "R_deg: float = 0.5"
   ]
  },
  {
   "cell_type": "code",
   "execution_count": 21,
   "metadata": {},
   "outputs": [],
   "source": [
    "# Add mixture parameters to candidate elements\n",
    "elts_add_mixture_params(elts=elts, num_hits=num_hits, R_deg=R_deg, thresh_deg=thresh_deg)"
   ]
  },
  {
   "cell_type": "code",
   "execution_count": 22,
   "metadata": {},
   "outputs": [],
   "source": [
    "# Add brightness parameter H\n",
    "elts_add_H(elts=elts)"
   ]
  },
  {
   "cell_type": "code",
   "execution_count": 23,
   "metadata": {},
   "outputs": [
    {
     "data": {
      "text/html": [
       "<div>\n",
       "<style scoped>\n",
       "    .dataframe tbody tr th:only-of-type {\n",
       "        vertical-align: middle;\n",
       "    }\n",
       "\n",
       "    .dataframe tbody tr th {\n",
       "        vertical-align: top;\n",
       "    }\n",
       "\n",
       "    .dataframe thead th {\n",
       "        text-align: right;\n",
       "    }\n",
       "</style>\n",
       "<table border=\"1\" class=\"dataframe\">\n",
       "  <thead>\n",
       "    <tr style=\"text-align: right;\">\n",
       "      <th></th>\n",
       "      <th>element_id</th>\n",
       "      <th>a</th>\n",
       "      <th>e</th>\n",
       "      <th>inc</th>\n",
       "      <th>Omega</th>\n",
       "      <th>omega</th>\n",
       "      <th>f</th>\n",
       "      <th>epoch</th>\n",
       "      <th>num_hits</th>\n",
       "      <th>R</th>\n",
       "      <th>thresh_s</th>\n",
       "      <th>H</th>\n",
       "      <th>sigma_mag</th>\n",
       "    </tr>\n",
       "  </thead>\n",
       "  <tbody>\n",
       "    <tr>\n",
       "      <th>0</th>\n",
       "      <td>51921</td>\n",
       "      <td>2.736430</td>\n",
       "      <td>0.219134</td>\n",
       "      <td>0.499988</td>\n",
       "      <td>4.721815</td>\n",
       "      <td>2.452489</td>\n",
       "      <td>-1.129754</td>\n",
       "      <td>58600.0</td>\n",
       "      <td>10</td>\n",
       "      <td>0.008727</td>\n",
       "      <td>0.034905</td>\n",
       "      <td>16.5</td>\n",
       "      <td>4.0</td>\n",
       "    </tr>\n",
       "    <tr>\n",
       "      <th>1</th>\n",
       "      <td>59244</td>\n",
       "      <td>2.616575</td>\n",
       "      <td>0.266087</td>\n",
       "      <td>0.462848</td>\n",
       "      <td>5.725946</td>\n",
       "      <td>1.777382</td>\n",
       "      <td>-1.623105</td>\n",
       "      <td>58600.0</td>\n",
       "      <td>10</td>\n",
       "      <td>0.008727</td>\n",
       "      <td>0.034905</td>\n",
       "      <td>16.5</td>\n",
       "      <td>4.0</td>\n",
       "    </tr>\n",
       "    <tr>\n",
       "      <th>2</th>\n",
       "      <td>15786</td>\n",
       "      <td>1.945213</td>\n",
       "      <td>0.047621</td>\n",
       "      <td>0.385594</td>\n",
       "      <td>6.142435</td>\n",
       "      <td>0.790543</td>\n",
       "      <td>-1.243047</td>\n",
       "      <td>58600.0</td>\n",
       "      <td>10</td>\n",
       "      <td>0.008727</td>\n",
       "      <td>0.034905</td>\n",
       "      <td>16.5</td>\n",
       "      <td>4.0</td>\n",
       "    </tr>\n",
       "    <tr>\n",
       "      <th>3</th>\n",
       "      <td>3904</td>\n",
       "      <td>2.758664</td>\n",
       "      <td>0.099270</td>\n",
       "      <td>0.261841</td>\n",
       "      <td>5.463683</td>\n",
       "      <td>2.238942</td>\n",
       "      <td>-1.350620</td>\n",
       "      <td>58600.0</td>\n",
       "      <td>10</td>\n",
       "      <td>0.008727</td>\n",
       "      <td>0.034905</td>\n",
       "      <td>16.5</td>\n",
       "      <td>4.0</td>\n",
       "    </tr>\n",
       "    <tr>\n",
       "      <th>4</th>\n",
       "      <td>142999</td>\n",
       "      <td>2.589450</td>\n",
       "      <td>0.192070</td>\n",
       "      <td>0.509382</td>\n",
       "      <td>0.221844</td>\n",
       "      <td>0.928905</td>\n",
       "      <td>-1.314727</td>\n",
       "      <td>58600.0</td>\n",
       "      <td>10</td>\n",
       "      <td>0.008727</td>\n",
       "      <td>0.034905</td>\n",
       "      <td>16.5</td>\n",
       "      <td>4.0</td>\n",
       "    </tr>\n",
       "    <tr>\n",
       "      <th>...</th>\n",
       "      <td>...</td>\n",
       "      <td>...</td>\n",
       "      <td>...</td>\n",
       "      <td>...</td>\n",
       "      <td>...</td>\n",
       "      <td>...</td>\n",
       "      <td>...</td>\n",
       "      <td>...</td>\n",
       "      <td>...</td>\n",
       "      <td>...</td>\n",
       "      <td>...</td>\n",
       "      <td>...</td>\n",
       "      <td>...</td>\n",
       "    </tr>\n",
       "    <tr>\n",
       "      <th>59</th>\n",
       "      <td>11952</td>\n",
       "      <td>2.330603</td>\n",
       "      <td>0.084892</td>\n",
       "      <td>0.117649</td>\n",
       "      <td>0.042808</td>\n",
       "      <td>2.890716</td>\n",
       "      <td>-3.000560</td>\n",
       "      <td>58600.0</td>\n",
       "      <td>10</td>\n",
       "      <td>0.008727</td>\n",
       "      <td>0.034905</td>\n",
       "      <td>16.5</td>\n",
       "      <td>4.0</td>\n",
       "    </tr>\n",
       "    <tr>\n",
       "      <th>60</th>\n",
       "      <td>134815</td>\n",
       "      <td>2.550916</td>\n",
       "      <td>0.141660</td>\n",
       "      <td>0.510228</td>\n",
       "      <td>0.284591</td>\n",
       "      <td>0.630896</td>\n",
       "      <td>-0.920797</td>\n",
       "      <td>58600.0</td>\n",
       "      <td>10</td>\n",
       "      <td>0.008727</td>\n",
       "      <td>0.034905</td>\n",
       "      <td>16.5</td>\n",
       "      <td>4.0</td>\n",
       "    </tr>\n",
       "    <tr>\n",
       "      <th>61</th>\n",
       "      <td>27860</td>\n",
       "      <td>2.595202</td>\n",
       "      <td>0.098315</td>\n",
       "      <td>0.194023</td>\n",
       "      <td>5.535984</td>\n",
       "      <td>3.255585</td>\n",
       "      <td>3.966790</td>\n",
       "      <td>58600.0</td>\n",
       "      <td>10</td>\n",
       "      <td>0.008727</td>\n",
       "      <td>0.034905</td>\n",
       "      <td>16.5</td>\n",
       "      <td>4.0</td>\n",
       "    </tr>\n",
       "    <tr>\n",
       "      <th>62</th>\n",
       "      <td>85937</td>\n",
       "      <td>2.216242</td>\n",
       "      <td>0.195323</td>\n",
       "      <td>0.437115</td>\n",
       "      <td>5.285351</td>\n",
       "      <td>3.172956</td>\n",
       "      <td>3.921169</td>\n",
       "      <td>58600.0</td>\n",
       "      <td>10</td>\n",
       "      <td>0.008727</td>\n",
       "      <td>0.034905</td>\n",
       "      <td>16.5</td>\n",
       "      <td>4.0</td>\n",
       "    </tr>\n",
       "    <tr>\n",
       "      <th>63</th>\n",
       "      <td>72911</td>\n",
       "      <td>2.972367</td>\n",
       "      <td>0.086007</td>\n",
       "      <td>0.265786</td>\n",
       "      <td>5.309665</td>\n",
       "      <td>2.099392</td>\n",
       "      <td>-1.029139</td>\n",
       "      <td>58600.0</td>\n",
       "      <td>10</td>\n",
       "      <td>0.008727</td>\n",
       "      <td>0.034905</td>\n",
       "      <td>16.5</td>\n",
       "      <td>4.0</td>\n",
       "    </tr>\n",
       "  </tbody>\n",
       "</table>\n",
       "<p>64 rows × 13 columns</p>\n",
       "</div>"
      ],
      "text/plain": [
       "    element_id         a         e       inc     Omega     omega         f  \\\n",
       "0        51921  2.736430  0.219134  0.499988  4.721815  2.452489 -1.129754   \n",
       "1        59244  2.616575  0.266087  0.462848  5.725946  1.777382 -1.623105   \n",
       "2        15786  1.945213  0.047621  0.385594  6.142435  0.790543 -1.243047   \n",
       "3         3904  2.758664  0.099270  0.261841  5.463683  2.238942 -1.350620   \n",
       "4       142999  2.589450  0.192070  0.509382  0.221844  0.928905 -1.314727   \n",
       "..         ...       ...       ...       ...       ...       ...       ...   \n",
       "59       11952  2.330603  0.084892  0.117649  0.042808  2.890716 -3.000560   \n",
       "60      134815  2.550916  0.141660  0.510228  0.284591  0.630896 -0.920797   \n",
       "61       27860  2.595202  0.098315  0.194023  5.535984  3.255585  3.966790   \n",
       "62       85937  2.216242  0.195323  0.437115  5.285351  3.172956  3.921169   \n",
       "63       72911  2.972367  0.086007  0.265786  5.309665  2.099392 -1.029139   \n",
       "\n",
       "      epoch  num_hits         R  thresh_s     H  sigma_mag  \n",
       "0   58600.0        10  0.008727  0.034905  16.5        4.0  \n",
       "1   58600.0        10  0.008727  0.034905  16.5        4.0  \n",
       "2   58600.0        10  0.008727  0.034905  16.5        4.0  \n",
       "3   58600.0        10  0.008727  0.034905  16.5        4.0  \n",
       "4   58600.0        10  0.008727  0.034905  16.5        4.0  \n",
       "..      ...       ...       ...       ...   ...        ...  \n",
       "59  58600.0        10  0.008727  0.034905  16.5        4.0  \n",
       "60  58600.0        10  0.008727  0.034905  16.5        4.0  \n",
       "61  58600.0        10  0.008727  0.034905  16.5        4.0  \n",
       "62  58600.0        10  0.008727  0.034905  16.5        4.0  \n",
       "63  58600.0        10  0.008727  0.034905  16.5        4.0  \n",
       "\n",
       "[64 rows x 13 columns]"
      ]
     },
     "execution_count": 23,
     "metadata": {},
     "output_type": "execute_result"
    }
   ],
   "source": [
    "# Review perturbed elements; includes nearest asteroid number and distance\n",
    "elts"
   ]
  },
  {
   "cell_type": "markdown",
   "metadata": {},
   "source": [
    "## Train on Perturbed Elements: Learn Mixture Parameters"
   ]
  },
  {
   "cell_type": "code",
   "execution_count": 24,
   "metadata": {},
   "outputs": [],
   "source": [
    "# Observatory for ZTF data is Palomar Mountain\n",
    "site_name = 'palomar'"
   ]
  },
  {
   "cell_type": "code",
   "execution_count": 25,
   "metadata": {},
   "outputs": [],
   "source": [
    "# Training parameters\n",
    "learning_rate = 2.0**-15\n",
    "clipnorm = 1.0\n",
    "save_at_end: bool = True"
   ]
  },
  {
   "cell_type": "code",
   "execution_count": 26,
   "metadata": {},
   "outputs": [],
   "source": [
    "# Build asteroid search model\n",
    "model = AsteroidSearchModel(\n",
    "                elts=elts, ztf_elt=ztf_elt, \n",
    "                site_name=site_name, thresh_deg=thresh_deg, \n",
    "                learning_rate=learning_rate, clipnorm=clipnorm,\n",
    "                name='model')"
   ]
  },
  {
   "cell_type": "code",
   "execution_count": 27,
   "metadata": {},
   "outputs": [
    {
     "name": "stdout",
     "output_type": "stream",
     "text": [
      "     \\  log_like :  hits  :  R_deg    :    R_sec : thresh_deg\n",
      "Mean :     0.07  :   0.00 :  0.499852 :  1799.47 : 2.000000\n",
      "Std  :     0.88  :   0.00 :  0.000201 :     0.72 : 0.000000\n",
      "Min  :    -1.31  :   0.00 :  0.499750 :  1799.10 : 2.000000\n",
      "Max  :     3.56  :   0.00 :  0.500250 :  1800.90 : 2.000000\n",
      "Trained for 0 batches over 0 epochs and 0 episodes.\n"
     ]
    }
   ],
   "source": [
    "# Report before training starts\n",
    "model.report()"
   ]
  },
  {
   "cell_type": "code",
   "execution_count": 28,
   "metadata": {},
   "outputs": [],
   "source": [
    "# Train perturbed model with frozen orbital elements\n",
    "model.freeze_candidate_elements()"
   ]
  },
  {
   "cell_type": "code",
   "execution_count": 29,
   "metadata": {},
   "outputs": [],
   "source": [
    "# model.search_adaptive(\n",
    "#     max_batches=model.current_batch + 1000, \n",
    "#     learning_rate=2.0**-10,\n",
    "# )"
   ]
  },
  {
   "cell_type": "code",
   "execution_count": 30,
   "metadata": {},
   "outputs": [],
   "source": [
    "# model.save_state()"
   ]
  },
  {
   "cell_type": "code",
   "execution_count": 31,
   "metadata": {},
   "outputs": [],
   "source": [
    "# Load model\n",
    "model.load()"
   ]
  },
  {
   "cell_type": "code",
   "execution_count": 32,
   "metadata": {},
   "outputs": [
    {
     "name": "stdout",
     "output_type": "stream",
     "text": [
      "     \\  log_like :  hits  :  R_deg    :    R_sec : thresh_deg\n",
      "Mean :   233.70  :  34.22 :  0.133044 :   478.96 : 2.000000\n",
      "Std  :   337.98  :  65.12 :  0.123568 :   444.85 : 0.000000\n",
      "Min  :    11.65  :   0.00 :  0.004975 :    17.91 : 2.000000\n",
      "Max  :  1148.76  : 194.49 :  0.444841 :  1601.43 : 2.000000\n",
      "Trained for 19000 batches over 190 epochs and 38 episodes.\n"
     ]
    }
   ],
   "source": [
    "# Report results\n",
    "model.report()"
   ]
  },
  {
   "cell_type": "code",
   "execution_count": 33,
   "metadata": {},
   "outputs": [
    {
     "data": {
      "image/png": "[encoded data removed]",
      "text/plain": [
       "<Figure size 1152x720 with 1 Axes>"
      ]
     },
     "metadata": {
      "needs_background": "light"
     },
     "output_type": "display_data"
    }
   ],
   "source": [
    "# Visualize log likelihood before traning\n",
    "fig, ax = model.plot_bar('log_like', sorted=False)"
   ]
  },
  {
   "cell_type": "markdown",
   "metadata": {},
   "source": [
    "## Train on Perturbed Model: Joint (Elements & Mixture)"
   ]
  },
  {
   "cell_type": "code",
   "execution_count": 34,
   "metadata": {},
   "outputs": [],
   "source": [
    "# Adaptive search parameters\n",
    "batches_per_epoch = 100\n",
    "epochs_per_episode = 5\n",
    "max_bad_episodes = 3\n",
    "min_learning_rate = None\n",
    "save_at_end = False\n",
    "reset_active_weight = True\n",
    "verbose = 1"
   ]
  },
  {
   "cell_type": "code",
   "execution_count": 35,
   "metadata": {},
   "outputs": [],
   "source": [
    "# Unfreeze the elements\n",
    "model.thaw_candidate_elements()\n",
    "model.thaw_mixture_parameters()\n",
    "# model.thaw_score()"
   ]
  },
  {
   "cell_type": "code",
   "execution_count": 36,
   "metadata": {},
   "outputs": [
    {
     "name": "stdout",
     "output_type": "stream",
     "text": [
      "     \\  log_like :  hits  :  R_deg    :    R_sec : thresh_deg\n",
      "Mean :   233.70  :  34.22 :  0.133044 :   478.96 : 2.000000\n",
      "Std  :   337.98  :  65.12 :  0.123568 :   444.85 : 0.000000\n",
      "Min  :    11.65  :   0.00 :  0.004975 :    17.91 : 2.000000\n",
      "Max  :  1148.76  : 194.49 :  0.444841 :  1601.43 : 2.000000\n",
      "Trained for 19000 batches over 190 epochs and 38 episodes.\n"
     ]
    }
   ],
   "source": [
    "model.report()"
   ]
  },
  {
   "cell_type": "code",
   "execution_count": 37,
   "metadata": {},
   "outputs": [
    {
     "name": "stdout",
     "output_type": "stream",
     "text": [
      "Applying learning_rate 2.44e-04 (2.0^-12.0) for adaptive training.\n",
      "\n",
      "Training episode 38: Epoch  190, Batch  19000\n",
      "effective_learning_rate=2.441e-04, training_time 804 sec.\n",
      "Train on 6400 samples\n",
      "Epoch 191/195\n",
      "6400/6400 [==============================] - 6s 870us/sample - loss: nan\n",
      "Adjusted element weight down on 35 candidate elements. Mean weight = 7.27e-01\n",
      "Geom Mean Resolution: 0.075573 degrees ( 272.1 arc seconds)\n",
      "Mean Hits          :     34.23\n",
      "Mean Log Likelihood:    236.93\n",
      "\n",
      "Training episode 39: Epoch  191, Batch  19100\n",
      "effective_learning_rate=1.774e-04, training_time 832 sec.\n",
      "Train on 6400 samples\n",
      "Epoch 192/196\n",
      "6400/6400 [==============================] - 3s 502us/sample - loss: nan\n",
      "Adjusted element weight down on 27 candidate elements. Mean weight = 6.13e-01\n",
      "Geom Mean Resolution: 0.078548 degrees ( 282.8 arc seconds)\n",
      "Mean Hits          :     34.23\n",
      "Mean Log Likelihood:    240.07\n",
      "\n",
      "Training episode 40: Epoch  192, Batch  19200\n",
      "effective_learning_rate=1.497e-04, training_time 837 sec.\n",
      "Train on 6400 samples\n",
      "Epoch 193/197\n",
      "6400/6400 [==============================] - 3s 500us/sample - loss: nan\n",
      "Adjusted element weight down on 25 candidate elements. Mean weight = 5.55e-01\n",
      "Geom Mean Resolution: 0.081690 degrees ( 294.1 arc seconds)\n",
      "Mean Hits          :     34.35\n",
      "Mean Log Likelihood:    243.09\n",
      "\n",
      "Training episode 41: Epoch  193, Batch  19300\n",
      "effective_learning_rate=1.354e-04, training_time 841 sec.\n",
      "Train on 6400 samples\n",
      "Epoch 194/198\n",
      "6400/6400 [==============================] - 3s 514us/sample - loss: nan\n",
      "Adjusted element weight down on 23 candidate elements. Mean weight = 5.19e-01\n",
      "Geom Mean Resolution: 0.085262 degrees ( 306.9 arc seconds)\n",
      "Mean Hits          :     34.41\n",
      "Mean Log Likelihood:    246.18\n",
      "\n",
      "Training episode 42: Epoch  194, Batch  19400\n",
      "effective_learning_rate=1.266e-04, training_time 846 sec.\n",
      "Train on 6400 samples\n",
      "Epoch 195/199\n",
      "6400/6400 [==============================] - 3s 509us/sample - loss: nan\n",
      "Adjusted element weight down on 23 candidate elements. Mean weight = 5.01e-01\n",
      "Geom Mean Resolution: 0.089312 degrees ( 321.5 arc seconds)\n",
      "Mean Hits          :     34.48\n",
      "Mean Log Likelihood:    249.98\n",
      "\n",
      "Training episode 43: Epoch  195, Batch  19500\n",
      "effective_learning_rate=1.224e-04, training_time 851 sec.\n",
      "Train on 6400 samples\n",
      "Epoch 196/200\n",
      "6400/6400 [==============================] - 3s 501us/sample - loss: nan\n",
      "Adjusted element weight down on 21 candidate elements. Mean weight = 4.85e-01\n",
      "Geom Mean Resolution: 0.093266 degrees ( 335.8 arc seconds)\n",
      "Mean Hits          :     34.70\n",
      "Mean Log Likelihood:    254.28\n",
      "\n",
      "Training episode 44: Epoch  196, Batch  19600\n",
      "effective_learning_rate=1.185e-04, training_time 855 sec.\n",
      "Train on 6400 samples\n",
      "Epoch 197/201\n",
      "6400/6400 [==============================] - 3s 500us/sample - loss: nan\n",
      "Adjusted element weight down on 23 candidate elements. Mean weight = 4.51e-01\n",
      "Geom Mean Resolution: 0.097240 degrees ( 350.1 arc seconds)\n",
      "Mean Hits          :     34.83\n",
      "Mean Log Likelihood:    259.40\n",
      "\n",
      "Training episode 45: Epoch  197, Batch  19700\n",
      "effective_learning_rate=1.100e-04, training_time 860 sec.\n",
      "Train on 6400 samples\n",
      "Epoch 198/202\n",
      "6400/6400 [==============================] - 3s 526us/sample - loss: nan\n",
      "Adjusted element weight down on 19 candidate elements. Mean weight = 4.25e-01\n",
      "Geom Mean Resolution: 0.101217 degrees ( 364.4 arc seconds)\n",
      "Mean Hits          :     34.87\n",
      "Mean Log Likelihood:    265.12\n",
      "\n",
      "Training episode 46: Epoch  198, Batch  19800\n",
      "effective_learning_rate=1.037e-04, training_time 865 sec.\n",
      "Train on 6400 samples\n",
      "Epoch 199/203\n",
      "6400/6400 [==============================] - 3s 518us/sample - loss: nan\n",
      "Adjusted element weight down on 23 candidate elements. Mean weight = 3.69e-01\n",
      "Geom Mean Resolution: 0.104248 degrees ( 375.3 arc seconds)\n",
      "Mean Hits          :     35.07\n",
      "Mean Log Likelihood:    271.02\n",
      "\n",
      "Training episode 47: Epoch  199, Batch  19900\n",
      "effective_learning_rate=9.003e-05, training_time 870 sec.\n",
      "Train on 6400 samples\n",
      "Epoch 200/204\n",
      "6400/6400 [==============================] - 3s 520us/sample - loss: nan\n",
      "Adjusted element weight down on 23 candidate elements. Mean weight = 3.04e-01\n",
      "Geom Mean Resolution: 0.106300 degrees ( 382.7 arc seconds)\n",
      "Mean Hits          :     35.14\n",
      "Mean Log Likelihood:    276.23\n",
      "\n",
      "Training episode 48: Epoch  200, Batch  20000\n",
      "effective_learning_rate=7.419e-05, training_time 874 sec.\n",
      "Train on 6400 samples\n",
      "Epoch 201/205\n",
      "6400/6400 [==============================] - 3s 531us/sample - loss: nan\n",
      "Adjusted element weight down on 29 candidate elements. Mean weight = 2.66e-01\n",
      "Geom Mean Resolution: 0.108064 degrees ( 389.0 arc seconds)\n",
      "Mean Hits          :     35.10\n",
      "Mean Log Likelihood:    280.63\n",
      "\n",
      "Training episode 49: Epoch  201, Batch  20100\n",
      "effective_learning_rate=6.484e-05, training_time 879 sec.\n",
      "Train on 6400 samples\n",
      "Epoch 202/206\n",
      "6400/6400 [==============================] - 3s 533us/sample - loss: nan\n",
      "Adjusted element weight down on 30 candidate elements. Mean weight = 2.33e-01\n",
      "Geom Mean Resolution: 0.109975 degrees ( 395.9 arc seconds)\n",
      "Mean Hits          :     35.17\n",
      "Mean Log Likelihood:    285.02\n",
      "\n",
      "Training episode 50: Epoch  202, Batch  20200\n",
      "effective_learning_rate=5.698e-05, training_time 884 sec.\n",
      "Train on 6400 samples\n",
      "Epoch 203/207\n",
      "6400/6400 [==============================] - 3s 537us/sample - loss: nan\n",
      "Adjusted element weight down on 25 candidate elements. Mean weight = 2.02e-01\n",
      "Geom Mean Resolution: 0.111678 degrees ( 402.0 arc seconds)\n",
      "Mean Hits          :     35.32\n",
      "Mean Log Likelihood:    289.65\n",
      "\n",
      "Training episode 51: Epoch  203, Batch  20300\n",
      "effective_learning_rate=4.925e-05, training_time 889 sec.\n",
      "Train on 6400 samples\n",
      "Epoch 204/208\n",
      "6400/6400 [==============================] - 4s 548us/sample - loss: nan - loss: n\n",
      "Adjusted element weight down on 32 candidate elements. Mean weight = 1.82e-01\n",
      "Geom Mean Resolution: 0.113378 degrees ( 408.2 arc seconds)\n",
      "Mean Hits          :     35.51\n",
      "Mean Log Likelihood:    292.76\n",
      "\n",
      "Training episode 52: Epoch  204, Batch  20400\n",
      "effective_learning_rate=4.433e-05, training_time 894 sec.\n",
      "Train on 6400 samples\n",
      "Epoch 205/209\n",
      "6400/6400 [==============================] - 3s 542us/sample - loss: nan\n",
      "Adjusted element weight down on 35 candidate elements. Mean weight = 1.43e-01\n",
      "Geom Mean Resolution: 0.114156 degrees ( 411.0 arc seconds)\n",
      "Mean Hits          :     35.54\n",
      "Mean Log Likelihood:    295.15\n",
      "\n",
      "Training episode 53: Epoch  205, Batch  20500\n",
      "effective_learning_rate=3.484e-05, training_time 898 sec.\n",
      "Train on 6400 samples\n",
      "Epoch 206/210\n",
      "6400/6400 [==============================] - 4s 548us/sample - loss: nan\n",
      "Adjusted element weight down on 37 candidate elements. Mean weight = 1.06e-01\n",
      "Geom Mean Resolution: 0.114558 degrees ( 412.4 arc seconds)\n",
      "Mean Hits          :     35.61\n",
      "Mean Log Likelihood:    297.43\n",
      "\n",
      "Training episode 54: Epoch  206, Batch  20600\n",
      "effective_learning_rate=2.598e-05, training_time 903 sec.\n",
      "Train on 6400 samples\n",
      "Epoch 207/211\n",
      "6400/6400 [==============================] - 3s 544us/sample - loss: nan\n",
      "Adjusted element weight down on 35 candidate elements. Mean weight = 8.05e-02\n",
      "Geom Mean Resolution: 0.114744 degrees ( 413.1 arc seconds)\n",
      "Mean Hits          :     35.77\n",
      "Mean Log Likelihood:    299.04\n",
      "\n",
      "Training episode 55: Epoch  207, Batch  20700\n",
      "effective_learning_rate=1.964e-05, training_time 908 sec.\n",
      "Train on 6400 samples\n",
      "Epoch 208/212\n",
      "6400/6400 [==============================] - 4s 561us/sample - loss: nan\n",
      "Adjusted element weight down on 35 candidate elements. Mean weight = 6.64e-02\n",
      "Geom Mean Resolution: 0.114855 degrees ( 413.5 arc seconds)\n",
      "Mean Hits          :     35.85\n",
      "Mean Log Likelihood:    300.62\n",
      "\n",
      "Training episode 56: Epoch  208, Batch  20800\n",
      "effective_learning_rate=1.621e-05, training_time 913 sec.\n",
      "Train on 6400 samples\n",
      "Epoch 209/213\n",
      "6400/6400 [==============================] - 4s 558us/sample - loss: nan\n",
      "Adjusted element weight down on 38 candidate elements. Mean weight = 5.53e-02\n",
      "Geom Mean Resolution: 0.114721 degrees ( 413.0 arc seconds)\n",
      "Mean Hits          :     35.84\n",
      "Mean Log Likelihood:    301.84\n",
      "\n",
      "Training episode 57: Epoch  209, Batch  20900\n",
      "effective_learning_rate=1.349e-05, training_time 918 sec.\n",
      "Train on 6400 samples\n",
      "Epoch 210/214\n",
      "6400/6400 [==============================] - 4s 564us/sample - loss: nan\n",
      "Adjusted element weight down on 35 candidate elements. Mean weight = 4.64e-02\n",
      "Geom Mean Resolution: 0.114555 degrees ( 412.4 arc seconds)\n",
      "Mean Hits          :     35.90\n",
      "Mean Log Likelihood:    302.68\n",
      "\n",
      "Training episode 58: Epoch  210, Batch  21000\n",
      "effective_learning_rate=1.134e-05, training_time 923 sec.\n",
      "Train on 6400 samples\n",
      "Epoch 211/215\n",
      "6400/6400 [==============================] - 4s 567us/sample - loss: nan\n",
      "Adjusted element weight down on 26 candidate elements. Mean weight = 4.48e-02\n",
      "Geom Mean Resolution: 0.114458 degrees ( 412.0 arc seconds)\n",
      "Mean Hits          :     35.96\n",
      "Mean Log Likelihood:    303.66\n",
      "\n",
      "Training episode 59: Epoch  211, Batch  21100\n",
      "effective_learning_rate=1.095e-05, training_time 928 sec.\n",
      "Train on 6400 samples\n",
      "Epoch 212/216\n",
      "6400/6400 [==============================] - 4s 567us/sample - loss: nan\n",
      "Adjusted element weight down on 29 candidate elements. Mean weight = 3.54e-02\n",
      "Geom Mean Resolution: 0.114219 degrees ( 411.2 arc seconds)\n",
      "Mean Hits          :     35.98\n",
      "Mean Log Likelihood:    304.60\n",
      "\n",
      "Training episode 60: Epoch  212, Batch  21200\n",
      "effective_learning_rate=8.635e-06, training_time 933 sec.\n",
      "Train on 6400 samples\n",
      "Epoch 213/217\n",
      "6400/6400 [==============================] - 4s 569us/sample - loss: nan\n",
      "Adjusted element weight down on 27 candidate elements. Mean weight = 3.27e-02\n",
      "Geom Mean Resolution: 0.114020 degrees ( 410.5 arc seconds)\n",
      "Mean Hits          :     35.97\n",
      "Mean Log Likelihood:    305.50\n",
      "\n",
      "Training episode 61: Epoch  213, Batch  21300\n",
      "effective_learning_rate=7.977e-06, training_time 938 sec.\n",
      "Train on 6400 samples\n",
      "Epoch 214/218\n",
      "6400/6400 [==============================] - 4s 574us/sample - loss: nan\n",
      "Adjusted element weight down on 31 candidate elements. Mean weight = 3.02e-02\n",
      "Geom Mean Resolution: 0.113758 degrees ( 409.5 arc seconds)\n",
      "Mean Hits          :     36.01\n",
      "Mean Log Likelihood:    306.44\n",
      "\n",
      "Training episode 62: Epoch  214, Batch  21400\n",
      "effective_learning_rate=7.384e-06, training_time 943 sec.\n",
      "Train on 6400 samples\n",
      "Epoch 215/219\n",
      "6400/6400 [==============================] - 4s 582us/sample - loss: nan\n",
      "Adjusted element weight down on 26 candidate elements. Mean weight = 2.42e-02\n",
      "Geom Mean Resolution: 0.113533 degrees ( 408.7 arc seconds)\n",
      "Mean Hits          :     36.02\n",
      "Mean Log Likelihood:    307.31\n",
      "\n",
      "Training episode 63: Epoch  215, Batch  21500\n",
      "effective_learning_rate=5.916e-06, training_time 948 sec.\n",
      "Train on 6400 samples\n",
      "Epoch 216/220\n",
      "6400/6400 [==============================] - 4s 579us/sample - loss: nan\n",
      "Adjusted element weight down on 26 candidate elements. Mean weight = 2.33e-02\n",
      "Geom Mean Resolution: 0.113244 degrees ( 407.7 arc seconds)\n",
      "Mean Hits          :     36.06\n",
      "Mean Log Likelihood:    308.27\n",
      "\n",
      "Training episode 64: Epoch  216, Batch  21600\n",
      "effective_learning_rate=5.698e-06, training_time 953 sec.\n",
      "Train on 6400 samples\n",
      "Epoch 217/221\n",
      "6400/6400 [==============================] - 4s 583us/sample - loss: nan\n",
      "Adjusted element weight down on 30 candidate elements. Mean weight = 2.24e-02\n",
      "Geom Mean Resolution: 0.113051 degrees ( 407.0 arc seconds)\n",
      "Mean Hits          :     36.09\n",
      "Mean Log Likelihood:    308.86\n",
      "\n",
      "Training episode 65: Epoch  217, Batch  21700\n",
      "effective_learning_rate=5.457e-06, training_time 958 sec.\n",
      "Train on 6400 samples\n",
      "Epoch 218/222\n",
      "6400/6400 [==============================] - 4s 587us/sample - loss: nan\n",
      "Adjusted element weight down on 29 candidate elements. Mean weight = 1.75e-02\n",
      "Geom Mean Resolution: 0.112925 degrees ( 406.5 arc seconds)\n",
      "Mean Hits          :     36.17\n",
      "Mean Log Likelihood:    309.55\n",
      "\n",
      "Training episode 66: Epoch  218, Batch  21800\n",
      "effective_learning_rate=4.263e-06, training_time 963 sec.\n",
      "Train on 6400 samples\n",
      "Epoch 219/223\n",
      "6400/6400 [==============================] - 4s 598us/sample - loss: nan\n",
      "Adjusted element weight down on 25 candidate elements. Mean weight = 1.49e-02\n",
      "Geom Mean Resolution: 0.112766 degrees ( 406.0 arc seconds)\n",
      "Mean Hits          :     36.20\n",
      "Mean Log Likelihood:    310.27\n",
      "\n",
      "Training episode 67: Epoch  219, Batch  21900\n",
      "effective_learning_rate=3.635e-06, training_time 968 sec.\n",
      "Train on 6400 samples\n",
      "Epoch 220/224\n",
      "6400/6400 [==============================] - 4s 601us/sample - loss: nan\n",
      "Adjusted element weight down on 25 candidate elements. Mean weight = 1.33e-02\n",
      "Geom Mean Resolution: 0.112623 degrees ( 405.4 arc seconds)\n",
      "Mean Hits          :     36.22\n",
      "Mean Log Likelihood:    310.88\n",
      "\n",
      "Training episode 68: Epoch  220, Batch  22000\n",
      "effective_learning_rate=3.258e-06, training_time 973 sec.\n",
      "Train on 6400 samples\n",
      "Epoch 221/225\n",
      "6400/6400 [==============================] - 4s 604us/sample - loss: nan\n",
      "Adjusted element weight down on 27 candidate elements. Mean weight = 1.15e-02\n",
      "Geom Mean Resolution: 0.112450 degrees ( 404.8 arc seconds)\n",
      "Mean Hits          :     36.20\n",
      "Mean Log Likelihood:    311.60\n",
      "\n",
      "Training episode 69: Epoch  221, Batch  22100\n",
      "effective_learning_rate=2.800e-06, training_time 979 sec.\n",
      "Train on 6400 samples\n",
      "Epoch 222/226\n",
      "6400/6400 [==============================] - 4s 606us/sample - loss: nan\n",
      "Adjusted element weight down on 24 candidate elements. Mean weight = 1.10e-02\n",
      "Geom Mean Resolution: 0.112305 degrees ( 404.3 arc seconds)\n",
      "Mean Hits          :     36.25\n",
      "Mean Log Likelihood:    312.30\n",
      "\n",
      "Training episode 70: Epoch  222, Batch  22200\n",
      "effective_learning_rate=2.692e-06, training_time 984 sec.\n",
      "Train on 6400 samples\n",
      "Epoch 223/227\n",
      "6400/6400 [==============================] - 4s 613us/sample - loss: nan\n",
      "Adjusted element weight down on 25 candidate elements. Mean weight = 1.08e-02\n",
      "Geom Mean Resolution: 0.112281 degrees ( 404.2 arc seconds)\n",
      "Mean Hits          :     36.23\n",
      "Mean Log Likelihood:    312.91\n",
      "\n",
      "Training episode 71: Epoch  223, Batch  22300\n",
      "effective_learning_rate=2.635e-06, training_time 989 sec.\n",
      "Train on 6400 samples\n",
      "Epoch 224/228\n",
      "6400/6400 [==============================] - 4s 620us/sample - loss: nan\n",
      "Adjusted element weight down on 27 candidate elements. Mean weight = 9.62e-03\n",
      "Geom Mean Resolution: 0.112429 degrees ( 404.7 arc seconds)\n",
      "Mean Hits          :     36.12\n",
      "Mean Log Likelihood:    313.54\n",
      "\n",
      "Training episode 72: Epoch  224, Batch  22400\n",
      "effective_learning_rate=2.349e-06, training_time 994 sec.\n",
      "Train on 6400 samples\n",
      "Epoch 225/229\n",
      "6400/6400 [==============================] - 4s 626us/sample - loss: nan\n",
      "Adjusted element weight down on 25 candidate elements. Mean weight = 9.54e-03\n",
      "Geom Mean Resolution: 0.112433 degrees ( 404.8 arc seconds)\n",
      "Mean Hits          :     36.15\n",
      "Mean Log Likelihood:    314.09\n",
      "\n",
      "Training episode 73: Epoch  225, Batch  22500\n",
      "effective_learning_rate=2.329e-06, training_time 1000 sec.\n",
      "Train on 6400 samples\n",
      "Epoch 226/230\n",
      "6400/6400 [==============================] - 4s 619us/sample - loss: nan\n",
      "Adjusted element weight down on 29 candidate elements. Mean weight = 7.55e-03\n",
      "Geom Mean Resolution: 0.112325 degrees ( 404.4 arc seconds)\n",
      "Mean Hits          :     36.15\n",
      "Mean Log Likelihood:    314.63\n",
      "\n",
      "********************************************************************************\n",
      "Terminating: Effective Learning Rate 1.842e-06 <= minimum 1.907e-06.\n",
      "********************************************************************************\n",
      "Restoring original learning rate 3.0517578125e-05.\n"
     ]
    }
   ],
   "source": [
    "# Train model in joint mode\n",
    "model.search_adaptive(\n",
    "    max_batches=model.current_batch+5000,\n",
    "    learning_rate=2.0**-12,\n",
    "    reset_active_weight=True)"
   ]
  },
  {
   "cell_type": "code",
   "execution_count": 38,
   "metadata": {},
   "outputs": [
    {
     "data": {
      "text/plain": [
       "array([1326.4156  ,  917.8944  ,   27.929247,  290.89163 ,   37.17715 ,\n",
       "       1512.1952  ,   93.96491 ,  431.10205 ,   65.15433 ,  191.0976  ,\n",
       "         30.349146, 1196.2588  ,  123.374084,   28.717905,  467.21616 ,\n",
       "         51.3503  ,  102.79762 ,  159.39828 ,  228.01813 ,  147.39577 ,\n",
       "         73.855804, 1087.9114  ,  949.13666 ,  284.74313 ,   68.897804,\n",
       "       1054.6205  ,   68.01531 ,  100.04437 ,   74.09749 ,  233.87567 ,\n",
       "         48.39957 ,  125.69894 ,  900.7744  ,   54.588272,  168.82695 ,\n",
       "         31.5316  ,   25.43782 ,   91.60449 ,  238.46608 ,  158.327   ,\n",
       "       1108.6733  ,  887.9337  ,  129.6333  ,  125.755455,   24.457348,\n",
       "        129.21846 ,  104.40936 , 1095.1758  ,  207.91275 ,   76.25376 ,\n",
       "       1026.6796  ,   54.97877 ,   75.905205,  159.59296 ,  479.59445 ,\n",
       "        131.518   ,  103.879616,  128.42609 ,   70.21701 ,  153.15208 ,\n",
       "        105.42731 ,  158.43639 ,  149.54532 ,  181.95012 ], dtype=float32)"
      ]
     },
     "execution_count": 38,
     "metadata": {},
     "output_type": "execute_result"
    }
   ],
   "source": [
    "model.log_like"
   ]
  },
  {
   "cell_type": "code",
   "execution_count": null,
   "metadata": {},
   "outputs": [],
   "source": [
    "model.lo"
   ]
  },
  {
   "cell_type": "code",
   "execution_count": null,
   "metadata": {},
   "outputs": [],
   "source": [
    "model.report()"
   ]
  },
  {
   "cell_type": "code",
   "execution_count": 39,
   "metadata": {},
   "outputs": [
    {
     "data": {
      "image/png": "[encoded data removed]",
      "text/plain": [
       "<Figure size 1152x720 with 1 Axes>"
      ]
     },
     "metadata": {
      "needs_background": "light"
     },
     "output_type": "display_data"
    }
   ],
   "source": [
    "# Bar chart - log likelihood by element\n",
    "fig, ax = model.plot_bar('log_like', sorted=False)"
   ]
  },
  {
   "cell_type": "code",
   "execution_count": 40,
   "metadata": {},
   "outputs": [
    {
     "data": {
      "image/png": "[encoded data removed]",
      "text/plain": [
       "<Figure size 1152x720 with 1 Axes>"
      ]
     },
     "metadata": {
      "needs_background": "light"
     },
     "output_type": "display_data"
    }
   ],
   "source": [
    "# Bar chart - hits\n",
    "fig, ax = model.plot_bar('hits', sorted=False)"
   ]
  },
  {
   "cell_type": "code",
   "execution_count": null,
   "metadata": {},
   "outputs": [],
   "source": [
    "# # Bar chart - resolution\n",
    "# fig, ax = model.plot_bar('R_deg', sorted=False)"
   ]
  },
  {
   "cell_type": "code",
   "execution_count": null,
   "metadata": {},
   "outputs": [],
   "source": [
    "# # Save model\n",
    "# model.save_state()"
   ]
  },
  {
   "cell_type": "code",
   "execution_count": null,
   "metadata": {},
   "outputs": [],
   "source": [
    "# Search with frozen elements\n",
    "model.freeze_candidate_elements()\n",
    "model.search_adaptive(\n",
    "    max_batches=model.current_batch+2000, \n",
    "    learning_rate=2**-12,\n",
    "    reset_active_weight=True)"
   ]
  },
  {
   "cell_type": "code",
   "execution_count": null,
   "metadata": {},
   "outputs": [],
   "source": [
    "model.report()"
   ]
  },
  {
   "cell_type": "code",
   "execution_count": null,
   "metadata": {},
   "outputs": [],
   "source": [
    "fig, ax = model.plot_bar('log_like', sorted=False)"
   ]
  },
  {
   "cell_type": "code",
   "execution_count": null,
   "metadata": {},
   "outputs": [],
   "source": [
    "# model.save_state()"
   ]
  },
  {
   "cell_type": "code",
   "execution_count": null,
   "metadata": {},
   "outputs": [],
   "source": [
    "# Search with live elements\n",
    "model.thaw_candidate_elements()\n",
    "model.search_adaptive(\n",
    "    max_batches=model.current_batch+5000,\n",
    "    learning_rate=2**-15,\n",
    "    reset_active_weight=True)"
   ]
  },
  {
   "cell_type": "code",
   "execution_count": null,
   "metadata": {},
   "outputs": [],
   "source": [
    "model.report()"
   ]
  },
  {
   "cell_type": "code",
   "execution_count": null,
   "metadata": {},
   "outputs": [],
   "source": [
    "fig, ax = model.plot_bar('log_like', sorted=False)"
   ]
  },
  {
   "cell_type": "code",
   "execution_count": null,
   "metadata": {},
   "outputs": [],
   "source": [
    "# model.save_state()"
   ]
  },
  {
   "cell_type": "code",
   "execution_count": null,
   "metadata": {},
   "outputs": [],
   "source": [
    "# # Unfreeze the score layer\n",
    "# model.thaw_score()"
   ]
  },
  {
   "cell_type": "code",
   "execution_count": null,
   "metadata": {},
   "outputs": [],
   "source": [
    "# Length of training\n",
    "max_batches_element = 22000\n",
    "\n",
    "# thresh_deg at end: 500 arc seconds\n",
    "thresh_deg_end = 500 / 3600.0\n",
    "\n",
    "# New smaller learning rate\n",
    "learning_rate = 2.0**-15\n",
    "\n",
    "# Reset active weight\n",
    "reset_active_weight = True"
   ]
  },
  {
   "cell_type": "code",
   "execution_count": null,
   "metadata": {},
   "outputs": [],
   "source": [
    "# Train model in joint mode\n",
    "model.search_adaptive(\n",
    "    max_batches=max_batches_element, \n",
    "    batches_per_epoch=batches_per_epoch,\n",
    "    epochs_per_episode=epochs_per_episode,\n",
    "    thresh_deg_end=thresh_deg_end,\n",
    "    learning_rate=learning_rate,\n",
    "    reset_active_weight=reset_active_weight,\n",
    "    verbose=verbose)"
   ]
  },
  {
   "cell_type": "code",
   "execution_count": null,
   "metadata": {},
   "outputs": [],
   "source": [
    "model.report()"
   ]
  },
  {
   "cell_type": "code",
   "execution_count": null,
   "metadata": {},
   "outputs": [],
   "source": [
    "# model.save_state()"
   ]
  },
  {
   "cell_type": "code",
   "execution_count": null,
   "metadata": {},
   "outputs": [],
   "source": [
    "# Lower threshold manually\n",
    "thresh_deg_score = 1.0\n",
    "model.set_thresh_deg_score(thresh_deg_score)\n",
    "model.freeze_score()"
   ]
  },
  {
   "cell_type": "code",
   "execution_count": null,
   "metadata": {},
   "outputs": [],
   "source": [
    "model.search_adaptive(\n",
    "    max_batches=20000, \n",
    "    batches_per_epoch=batches_per_epoch,\n",
    "    epochs_per_episode=epochs_per_episode,\n",
    "    learning_rate=2.0**-15,\n",
    "    reset_active_weight=True,\n",
    "    verbose=verbose)"
   ]
  },
  {
   "cell_type": "code",
   "execution_count": null,
   "metadata": {},
   "outputs": [],
   "source": [
    "model.report()"
   ]
  },
  {
   "cell_type": "code",
   "execution_count": null,
   "metadata": {},
   "outputs": [],
   "source": [
    "# model.save_state()"
   ]
  },
  {
   "cell_type": "markdown",
   "metadata": {},
   "source": [
    "## Review Results Graphically"
   ]
  },
  {
   "cell_type": "code",
   "execution_count": null,
   "metadata": {},
   "outputs": [],
   "source": [
    "# Bar chart - log likelihood by element\n",
    "fig, ax = model.plot_bar('log_like', sorted=False)"
   ]
  },
  {
   "cell_type": "code",
   "execution_count": null,
   "metadata": {},
   "outputs": [],
   "source": [
    "# Bar chart: hits\n",
    "fig, ax = model.plot_bar('hits', sorted=False)"
   ]
  },
  {
   "cell_type": "code",
   "execution_count": null,
   "metadata": {},
   "outputs": [],
   "source": [
    "# Bar chart: log likelihood\n",
    "fig, ax = model.plot_bar('log_R', sorted=False)"
   ]
  },
  {
   "cell_type": "code",
   "execution_count": null,
   "metadata": {},
   "outputs": [],
   "source": [
    "# # Learning curve: log likelihood\n",
    "# fig, ax = model.plot_hist('log_like')"
   ]
  },
  {
   "cell_type": "code",
   "execution_count": null,
   "metadata": {},
   "outputs": [],
   "source": [
    "# # Learning curve: hits\n",
    "# fig, ax = model.plot_hist('hits')"
   ]
  },
  {
   "cell_type": "markdown",
   "metadata": {},
   "source": [
    "## Distance vs. Nearest Asteroid for Fitted Elements"
   ]
  },
  {
   "cell_type": "code",
   "execution_count": null,
   "metadata": {},
   "outputs": [],
   "source": [
    "# Find nearest asteroid to fitted elements\n",
    "elts_fit, elts_near = model.nearest_ast()"
   ]
  },
  {
   "cell_type": "code",
   "execution_count": null,
   "metadata": {},
   "outputs": [],
   "source": [
    "q_norm = elt_q_norm(elts=elts_fit, ast_num=elts_fit.nearest_ast_num)\n",
    "elts_fit['nearest_ast_q_norm'] = q_norm"
   ]
  },
  {
   "cell_type": "code",
   "execution_count": null,
   "metadata": {},
   "outputs": [],
   "source": [
    "# # Review asteroids nearest to the fitted elements\n",
    "# elts_near"
   ]
  },
  {
   "cell_type": "code",
   "execution_count": null,
   "metadata": {},
   "outputs": [],
   "source": [
    "# Review fitted elements including nearest asteroid\n",
    "elts_fit"
   ]
  },
  {
   "cell_type": "code",
   "execution_count": null,
   "metadata": {},
   "outputs": [],
   "source": [
    "# Filter for only the good ones\n",
    "mask = (elts_fit.log_like > 200) & (elts_fit.R_sec < 60)\n",
    "elts_fit[mask]"
   ]
  },
  {
   "cell_type": "code",
   "execution_count": null,
   "metadata": {},
   "outputs": [],
   "source": [
    "# Filter for incomplete convergence\n",
    "mask = (elts_fit.log_like > 200) & (elts_fit.R_sec >= 60)\n",
    "elts_fit[mask]"
   ]
  },
  {
   "cell_type": "markdown",
   "metadata": {},
   "source": [
    "## Visualize Error vs. Nearest Asteroid"
   ]
  },
  {
   "cell_type": "code",
   "execution_count": null,
   "metadata": {},
   "outputs": [],
   "source": [
    "model.elts_near_ast"
   ]
  },
  {
   "cell_type": "code",
   "execution_count": null,
   "metadata": {},
   "outputs": [],
   "source": [
    "# Plot position error vs. known elements\n",
    "fig, ax = model.plot_q_error(is_log=True, use_near_ast_dist=True)"
   ]
  },
  {
   "cell_type": "code",
   "execution_count": null,
   "metadata": {},
   "outputs": [],
   "source": [
    "# Plot error in orbital elements\n",
    "fig, ax = model.plot_elt_error(elt_name='a', is_log=True, elt_num=None)"
   ]
  },
  {
   "cell_type": "code",
   "execution_count": null,
   "metadata": {},
   "outputs": [],
   "source": [
    "# Plot error in orbital elements\n",
    "fig, ax = model.plot_elt_error(elt_name='e', is_log=True, elt_num=None)"
   ]
  },
  {
   "cell_type": "code",
   "execution_count": null,
   "metadata": {},
   "outputs": [],
   "source": []
  }
 ],
 "metadata": {
  "kernelspec": {
   "display_name": "Python [conda env:kepler]",
   "language": "python",
   "name": "conda-env-kepler-py"
  },
  "language_info": {
   "codemirror_mode": {
    "name": "ipython",
    "version": 3
   },
   "file_extension": ".py",
   "mimetype": "text/x-python",
   "name": "python",
   "nbconvert_exporter": "python",
   "pygments_lexer": "ipython3",
   "version": "3.7.6"
  }
 },
 "nbformat": 4,
 "nbformat_minor": 4
}
