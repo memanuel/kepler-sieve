{
 "cells": [
  {
   "cell_type": "code",
   "execution_count": 1,
   "metadata": {},
   "outputs": [],
   "source": [
    "# Core\n",
    "import numpy as np\n",
    "import pandas as pd\n",
    "\n",
    "# Tensorflow / ML\n",
    "import tensorflow as tf\n",
    "\n",
    "# Plotting\n",
    "import matplotlib.pyplot as plt\n",
    "import matplotlib as mpl\n",
    "\n",
    "# Utility\n",
    "import time"
   ]
  },
  {
   "cell_type": "code",
   "execution_count": 2,
   "metadata": {},
   "outputs": [
    {
     "name": "stdout",
     "output_type": "stream",
     "text": [
      "Found 4 GPUs.  Setting memory growth = True.\n"
     ]
    }
   ],
   "source": [
    "# Configure TF GPU growth\n",
    "import kepler_sieve\n",
    "from tf_utils import gpu_grow_memory\n",
    "gpu_grow_memory(verbose=True)"
   ]
  },
  {
   "cell_type": "code",
   "execution_count": 3,
   "metadata": {},
   "outputs": [],
   "source": [
    "# MSE Imports\n",
    "from asteroid_element import load_ast_elt\n",
    "from candidate_element import asteroid_elts, perturb_elts, random_elts, elts_add_mixture_params, elts_add_H\n",
    "from ztf_ast import load_ztf_nearest_ast, calc_hit_freq\n",
    "from ztf_element import load_ztf_batch, make_ztf_batch, ztf_score_by_elt, ztf_elt_summary\n",
    "from asteroid_model import AsteroidPosition, AsteroidDirection, make_model_ast_pos\n",
    "from asteroid_search_layers import CandidateElements, MixtureParameters, TrajectoryScore\n",
    "from asteroid_search_model import AsteroidSearchModel, make_opt_adam\n",
    "from asteroid_search_report import traj_diff\n",
    "from nearest_asteroid import nearest_ast_elt_cart, nearest_ast_elt_cov, elt_q_norm\n",
    "from element_eda import score_by_elt\n",
    "from asteroid_dataframe import calc_ast_data, spline_ast_vec_df\n",
    "from astro_utils import deg2dist, dist2deg, dist2sec"
   ]
  },
  {
   "cell_type": "code",
   "execution_count": 4,
   "metadata": {},
   "outputs": [],
   "source": [
    "# Aliases\n",
    "keras = tf.keras\n",
    "\n",
    "# Constants\n",
    "dtype = tf.float32\n",
    "dtype_np = np.float32\n",
    "space_dims = 3"
   ]
  },
  {
   "cell_type": "code",
   "execution_count": 5,
   "metadata": {},
   "outputs": [],
   "source": [
    "# Set plot style variables\n",
    "mpl.rcParams['figure.figsize'] = [16.0, 10.0]\n",
    "mpl.rcParams['font.size'] = 16"
   ]
  },
  {
   "cell_type": "markdown",
   "metadata": {},
   "source": [
    "## Load ZTF Data and Batch of Orbital Elements"
   ]
  },
  {
   "cell_type": "code",
   "execution_count": 6,
   "metadata": {},
   "outputs": [],
   "source": [
    "# Load orbital elements for known asteroids\n",
    "ast_elt = load_ast_elt()\n",
    "\n",
    "# Number of asteroids\n",
    "N_ast = ast_elt.shape[0]"
   ]
  },
  {
   "cell_type": "code",
   "execution_count": 7,
   "metadata": {},
   "outputs": [],
   "source": [
    "# Load ztf nearest asteroid data\n",
    "ztf_ast = load_ztf_nearest_ast()"
   ]
  },
  {
   "cell_type": "code",
   "execution_count": 8,
   "metadata": {},
   "outputs": [],
   "source": [
    "# Asteroid numbers and hit counts\n",
    "ast_num, hit_count = calc_hit_freq(ztf=ztf_ast, thresh_sec=2.0)\n",
    "\n",
    "# Sort the hit counts in descending order and find the top batch_size\n",
    "idx = np.argsort(hit_count)[::-1]\n",
    "\n",
    "# Extract the asteroid number and hit count for this batch\n",
    "ast_num_best = ast_num[idx]\n",
    "hit_count_best = hit_count[idx]"
   ]
  },
  {
   "cell_type": "code",
   "execution_count": 9,
   "metadata": {},
   "outputs": [],
   "source": [
    "# Parameters to build elements batch\n",
    "batch_size = 64\n",
    "\n",
    "# Batch of unperturbed elements\n",
    "elts_ast = asteroid_elts(ast_nums=ast_num_best[0:batch_size])"
   ]
  },
  {
   "cell_type": "code",
   "execution_count": 10,
   "metadata": {},
   "outputs": [],
   "source": [
    "# # Review unperturbed elements\n",
    "# elts_ast"
   ]
  },
  {
   "cell_type": "code",
   "execution_count": 11,
   "metadata": {},
   "outputs": [],
   "source": [
    "# Inputs to perturb elements: large\n",
    "sigma_a = 0.05\n",
    "sigma_e = 0.01\n",
    "sigma_inc_deg = 0.25\n",
    "sigma_f_deg = 1.0\n",
    "sigma_Omega_deg = 1.0\n",
    "sigma_omega_deg = 1.0\n",
    "mask_pert = None\n",
    "random_seed = 42"
   ]
  },
  {
   "cell_type": "code",
   "execution_count": 12,
   "metadata": {},
   "outputs": [],
   "source": [
    "# Inputs to perturb elements: small\n",
    "sigma_a = 0.01\n",
    "sigma_e = 0.0025\n",
    "sigma_inc_deg = 0.05\n",
    "sigma_f_deg = 0.25\n",
    "sigma_Omega_deg = 0.25\n",
    "sigma_omega_deg = 0.25\n",
    "mask_pert = None\n",
    "random_seed = 42"
   ]
  },
  {
   "cell_type": "code",
   "execution_count": 13,
   "metadata": {},
   "outputs": [],
   "source": [
    "# Perturb orbital elements\n",
    "elts_pert= perturb_elts(elts_ast, sigma_a=sigma_a, sigma_e=sigma_e, \n",
    "                    sigma_inc_deg=sigma_inc_deg, sigma_f_deg=sigma_f_deg, \n",
    "                    sigma_Omega_deg=sigma_Omega_deg, sigma_omega_deg=sigma_omega_deg,\n",
    "                    mask_pert=mask_pert, random_seed=random_seed)"
   ]
  },
  {
   "cell_type": "code",
   "execution_count": 14,
   "metadata": {},
   "outputs": [],
   "source": [
    "# Choose which elements to search on\n",
    "elts = elts_pert"
   ]
  },
  {
   "cell_type": "code",
   "execution_count": 15,
   "metadata": {},
   "outputs": [],
   "source": [
    "# # Search for nearest asteroids to these elements\n",
    "# elts_near = nearest_ast_elt(elts)"
   ]
  },
  {
   "cell_type": "code",
   "execution_count": 16,
   "metadata": {},
   "outputs": [],
   "source": [
    "# Review selected initial candidate elements, including the nearest asteroid information\n",
    "# elts"
   ]
  },
  {
   "cell_type": "code",
   "execution_count": 17,
   "metadata": {},
   "outputs": [],
   "source": [
    "# Review nearest asteroid to these candidate elements\n",
    "# elts_near"
   ]
  },
  {
   "cell_type": "code",
   "execution_count": 18,
   "metadata": {},
   "outputs": [],
   "source": [
    "# How many elements are still closest to the original elements?\n",
    "# np.sum(elts.nearest_ast_num == elts.element_id)"
   ]
  },
  {
   "cell_type": "markdown",
   "metadata": {},
   "source": [
    "## Batches of ZTF Data Near Initial Candidate Elements"
   ]
  },
  {
   "cell_type": "code",
   "execution_count": 19,
   "metadata": {},
   "outputs": [],
   "source": [
    "# Arguments to make_ztf_batch\n",
    "thresh_deg = 2.0\n",
    "near_ast = False\n",
    "regenerate = False"
   ]
  },
  {
   "cell_type": "code",
   "execution_count": 20,
   "metadata": {},
   "outputs": [],
   "source": [
    "# Load perturbed element batch\n",
    "ztf_elt = load_ztf_batch(elts=elts, thresh_deg=thresh_deg, near_ast=near_ast, regenerate=regenerate)"
   ]
  },
  {
   "cell_type": "code",
   "execution_count": 21,
   "metadata": {},
   "outputs": [
    {
     "data": {
      "text/html": [
       "<div>\n",
       "<style scoped>\n",
       "    .dataframe tbody tr th:only-of-type {\n",
       "        vertical-align: middle;\n",
       "    }\n",
       "\n",
       "    .dataframe tbody tr th {\n",
       "        vertical-align: top;\n",
       "    }\n",
       "\n",
       "    .dataframe thead th {\n",
       "        text-align: right;\n",
       "    }\n",
       "</style>\n",
       "<table border=\"1\" class=\"dataframe\">\n",
       "  <thead>\n",
       "    <tr style=\"text-align: right;\">\n",
       "      <th></th>\n",
       "      <th>ztf_id</th>\n",
       "      <th>element_id</th>\n",
       "      <th>ObjectID</th>\n",
       "      <th>CandidateID</th>\n",
       "      <th>TimeStampID</th>\n",
       "      <th>mjd</th>\n",
       "      <th>ra</th>\n",
       "      <th>dec</th>\n",
       "      <th>mag_app</th>\n",
       "      <th>ux</th>\n",
       "      <th>...</th>\n",
       "      <th>vz</th>\n",
       "      <th>elt_ux</th>\n",
       "      <th>elt_uy</th>\n",
       "      <th>elt_uz</th>\n",
       "      <th>elt_r</th>\n",
       "      <th>s</th>\n",
       "      <th>s_sec</th>\n",
       "      <th>z</th>\n",
       "      <th>v</th>\n",
       "      <th>is_hit</th>\n",
       "    </tr>\n",
       "  </thead>\n",
       "  <tbody>\n",
       "    <tr>\n",
       "      <th>0</th>\n",
       "      <td>53851</td>\n",
       "      <td>733</td>\n",
       "      <td>b'ZTF18abnothj'</td>\n",
       "      <td>594197584815010004</td>\n",
       "      <td>5501</td>\n",
       "      <td>58348.197581</td>\n",
       "      <td>266.229165</td>\n",
       "      <td>-13.513802</td>\n",
       "      <td>16.755600</td>\n",
       "      <td>-0.063945</td>\n",
       "      <td>...</td>\n",
       "      <td>0.004058</td>\n",
       "      <td>-0.041592</td>\n",
       "      <td>-0.981941</td>\n",
       "      <td>0.184561</td>\n",
       "      <td>2.234762</td>\n",
       "      <td>0.025900</td>\n",
       "      <td>5342.395278</td>\n",
       "      <td>0.999665</td>\n",
       "      <td>0.550588</td>\n",
       "      <td>False</td>\n",
       "    </tr>\n",
       "    <tr>\n",
       "      <th>1</th>\n",
       "      <td>73604</td>\n",
       "      <td>733</td>\n",
       "      <td>b'ZTF18ablwzmb'</td>\n",
       "      <td>594197584815015003</td>\n",
       "      <td>5501</td>\n",
       "      <td>58348.197581</td>\n",
       "      <td>265.761024</td>\n",
       "      <td>-13.509148</td>\n",
       "      <td>16.035999</td>\n",
       "      <td>-0.071871</td>\n",
       "      <td>...</td>\n",
       "      <td>0.004058</td>\n",
       "      <td>-0.041592</td>\n",
       "      <td>-0.981941</td>\n",
       "      <td>0.184561</td>\n",
       "      <td>2.234762</td>\n",
       "      <td>0.033026</td>\n",
       "      <td>6812.476092</td>\n",
       "      <td>0.999455</td>\n",
       "      <td>0.895261</td>\n",
       "      <td>False</td>\n",
       "    </tr>\n",
       "    <tr>\n",
       "      <th>2</th>\n",
       "      <td>82343</td>\n",
       "      <td>733</td>\n",
       "      <td>b'ZTF18abiydvm'</td>\n",
       "      <td>635193253015015018</td>\n",
       "      <td>12089</td>\n",
       "      <td>58389.193252</td>\n",
       "      <td>270.331454</td>\n",
       "      <td>-11.244934</td>\n",
       "      <td>17.196199</td>\n",
       "      <td>0.005674</td>\n",
       "      <td>...</td>\n",
       "      <td>0.003801</td>\n",
       "      <td>0.012795</td>\n",
       "      <td>-0.977103</td>\n",
       "      <td>0.212383</td>\n",
       "      <td>2.702320</td>\n",
       "      <td>0.007222</td>\n",
       "      <td>1489.642347</td>\n",
       "      <td>0.999974</td>\n",
       "      <td>0.042810</td>\n",
       "      <td>False</td>\n",
       "    </tr>\n",
       "    <tr>\n",
       "      <th>3</th>\n",
       "      <td>82356</td>\n",
       "      <td>733</td>\n",
       "      <td>b'ZTF18abfivlq'</td>\n",
       "      <td>580301301415015008</td>\n",
       "      <td>4298</td>\n",
       "      <td>58334.301308</td>\n",
       "      <td>269.895080</td>\n",
       "      <td>-12.887404</td>\n",
       "      <td>18.069599</td>\n",
       "      <td>-0.001785</td>\n",
       "      <td>...</td>\n",
       "      <td>0.004122</td>\n",
       "      <td>-0.020236</td>\n",
       "      <td>-0.985475</td>\n",
       "      <td>0.168609</td>\n",
       "      <td>2.108963</td>\n",
       "      <td>0.023598</td>\n",
       "      <td>4867.556965</td>\n",
       "      <td>0.999722</td>\n",
       "      <td>0.457068</td>\n",
       "      <td>False</td>\n",
       "    </tr>\n",
       "    <tr>\n",
       "      <th>4</th>\n",
       "      <td>82357</td>\n",
       "      <td>733</td>\n",
       "      <td>b'ZTF18abfivlq'</td>\n",
       "      <td>580340131415015012</td>\n",
       "      <td>4342</td>\n",
       "      <td>58334.340139</td>\n",
       "      <td>269.895074</td>\n",
       "      <td>-12.887407</td>\n",
       "      <td>15.471100</td>\n",
       "      <td>-0.001785</td>\n",
       "      <td>...</td>\n",
       "      <td>0.004122</td>\n",
       "      <td>-0.020329</td>\n",
       "      <td>-0.985464</td>\n",
       "      <td>0.168661</td>\n",
       "      <td>2.109275</td>\n",
       "      <td>0.023637</td>\n",
       "      <td>4875.610226</td>\n",
       "      <td>0.999721</td>\n",
       "      <td>0.458582</td>\n",
       "      <td>False</td>\n",
       "    </tr>\n",
       "    <tr>\n",
       "      <th>...</th>\n",
       "      <td>...</td>\n",
       "      <td>...</td>\n",
       "      <td>...</td>\n",
       "      <td>...</td>\n",
       "      <td>...</td>\n",
       "      <td>...</td>\n",
       "      <td>...</td>\n",
       "      <td>...</td>\n",
       "      <td>...</td>\n",
       "      <td>...</td>\n",
       "      <td>...</td>\n",
       "      <td>...</td>\n",
       "      <td>...</td>\n",
       "      <td>...</td>\n",
       "      <td>...</td>\n",
       "      <td>...</td>\n",
       "      <td>...</td>\n",
       "      <td>...</td>\n",
       "      <td>...</td>\n",
       "      <td>...</td>\n",
       "      <td>...</td>\n",
       "    </tr>\n",
       "    <tr>\n",
       "      <th>315312</th>\n",
       "      <td>5651017</td>\n",
       "      <td>324582</td>\n",
       "      <td>b'ZTF20aaqvkiv'</td>\n",
       "      <td>1150185310015015007</td>\n",
       "      <td>96634</td>\n",
       "      <td>58904.185313</td>\n",
       "      <td>43.164491</td>\n",
       "      <td>30.568791</td>\n",
       "      <td>19.821800</td>\n",
       "      <td>0.628021</td>\n",
       "      <td>...</td>\n",
       "      <td>-0.001586</td>\n",
       "      <td>0.620235</td>\n",
       "      <td>0.757066</td>\n",
       "      <td>0.205329</td>\n",
       "      <td>2.936159</td>\n",
       "      <td>0.031535</td>\n",
       "      <td>6504.889092</td>\n",
       "      <td>0.999503</td>\n",
       "      <td>0.816249</td>\n",
       "      <td>False</td>\n",
       "    </tr>\n",
       "    <tr>\n",
       "      <th>315313</th>\n",
       "      <td>5651103</td>\n",
       "      <td>324582</td>\n",
       "      <td>b'ZTF20aaqvkiu'</td>\n",
       "      <td>1150185310015015006</td>\n",
       "      <td>96634</td>\n",
       "      <td>58904.185313</td>\n",
       "      <td>42.979527</td>\n",
       "      <td>30.566971</td>\n",
       "      <td>19.499599</td>\n",
       "      <td>0.629931</td>\n",
       "      <td>...</td>\n",
       "      <td>-0.001586</td>\n",
       "      <td>0.620235</td>\n",
       "      <td>0.757066</td>\n",
       "      <td>0.205329</td>\n",
       "      <td>2.936159</td>\n",
       "      <td>0.033577</td>\n",
       "      <td>6926.136324</td>\n",
       "      <td>0.999436</td>\n",
       "      <td>0.925381</td>\n",
       "      <td>False</td>\n",
       "    </tr>\n",
       "    <tr>\n",
       "      <th>315314</th>\n",
       "      <td>5651180</td>\n",
       "      <td>324582</td>\n",
       "      <td>b'ZTF20aaqvkur'</td>\n",
       "      <td>1150185310315015001</td>\n",
       "      <td>96634</td>\n",
       "      <td>58904.185313</td>\n",
       "      <td>42.969119</td>\n",
       "      <td>30.230791</td>\n",
       "      <td>18.551399</td>\n",
       "      <td>0.632210</td>\n",
       "      <td>...</td>\n",
       "      <td>-0.001586</td>\n",
       "      <td>0.620235</td>\n",
       "      <td>0.757066</td>\n",
       "      <td>0.205329</td>\n",
       "      <td>2.936159</td>\n",
       "      <td>0.030243</td>\n",
       "      <td>6238.306185</td>\n",
       "      <td>0.999543</td>\n",
       "      <td>0.750722</td>\n",
       "      <td>False</td>\n",
       "    </tr>\n",
       "    <tr>\n",
       "      <th>315315</th>\n",
       "      <td>5651234</td>\n",
       "      <td>324582</td>\n",
       "      <td>b'ZTF20aaqvkyr'</td>\n",
       "      <td>1150185754815015006</td>\n",
       "      <td>96635</td>\n",
       "      <td>58904.185752</td>\n",
       "      <td>42.384302</td>\n",
       "      <td>29.148349</td>\n",
       "      <td>18.648100</td>\n",
       "      <td>0.645100</td>\n",
       "      <td>...</td>\n",
       "      <td>-0.001586</td>\n",
       "      <td>0.620233</td>\n",
       "      <td>0.757067</td>\n",
       "      <td>0.205329</td>\n",
       "      <td>2.936165</td>\n",
       "      <td>0.034777</td>\n",
       "      <td>7173.582036</td>\n",
       "      <td>0.999395</td>\n",
       "      <td>0.992676</td>\n",
       "      <td>False</td>\n",
       "    </tr>\n",
       "    <tr>\n",
       "      <th>315316</th>\n",
       "      <td>5651434</td>\n",
       "      <td>324582</td>\n",
       "      <td>b'ZTF20aaqvkus'</td>\n",
       "      <td>1150185310315015002</td>\n",
       "      <td>96634</td>\n",
       "      <td>58904.185313</td>\n",
       "      <td>43.256211</td>\n",
       "      <td>29.954124</td>\n",
       "      <td>19.257601</td>\n",
       "      <td>0.631015</td>\n",
       "      <td>...</td>\n",
       "      <td>-0.001586</td>\n",
       "      <td>0.620235</td>\n",
       "      <td>0.757066</td>\n",
       "      <td>0.205329</td>\n",
       "      <td>2.936159</td>\n",
       "      <td>0.024085</td>\n",
       "      <td>4967.974088</td>\n",
       "      <td>0.999710</td>\n",
       "      <td>0.476120</td>\n",
       "      <td>False</td>\n",
       "    </tr>\n",
       "  </tbody>\n",
       "</table>\n",
       "<p>315317 rows × 27 columns</p>\n",
       "</div>"
      ],
      "text/plain": [
       "         ztf_id  element_id         ObjectID          CandidateID  \\\n",
       "0         53851         733  b'ZTF18abnothj'   594197584815010004   \n",
       "1         73604         733  b'ZTF18ablwzmb'   594197584815015003   \n",
       "2         82343         733  b'ZTF18abiydvm'   635193253015015018   \n",
       "3         82356         733  b'ZTF18abfivlq'   580301301415015008   \n",
       "4         82357         733  b'ZTF18abfivlq'   580340131415015012   \n",
       "...         ...         ...              ...                  ...   \n",
       "315312  5651017      324582  b'ZTF20aaqvkiv'  1150185310015015007   \n",
       "315313  5651103      324582  b'ZTF20aaqvkiu'  1150185310015015006   \n",
       "315314  5651180      324582  b'ZTF20aaqvkur'  1150185310315015001   \n",
       "315315  5651234      324582  b'ZTF20aaqvkyr'  1150185754815015006   \n",
       "315316  5651434      324582  b'ZTF20aaqvkus'  1150185310315015002   \n",
       "\n",
       "        TimeStampID           mjd          ra        dec    mag_app        ux  \\\n",
       "0              5501  58348.197581  266.229165 -13.513802  16.755600 -0.063945   \n",
       "1              5501  58348.197581  265.761024 -13.509148  16.035999 -0.071871   \n",
       "2             12089  58389.193252  270.331454 -11.244934  17.196199  0.005674   \n",
       "3              4298  58334.301308  269.895080 -12.887404  18.069599 -0.001785   \n",
       "4              4342  58334.340139  269.895074 -12.887407  15.471100 -0.001785   \n",
       "...             ...           ...         ...        ...        ...       ...   \n",
       "315312        96634  58904.185313   43.164491  30.568791  19.821800  0.628021   \n",
       "315313        96634  58904.185313   42.979527  30.566971  19.499599  0.629931   \n",
       "315314        96634  58904.185313   42.969119  30.230791  18.551399  0.632210   \n",
       "315315        96635  58904.185752   42.384302  29.148349  18.648100  0.645100   \n",
       "315316        96634  58904.185313   43.256211  29.954124  19.257601  0.631015   \n",
       "\n",
       "        ...        vz    elt_ux    elt_uy    elt_uz     elt_r         s  \\\n",
       "0       ...  0.004058 -0.041592 -0.981941  0.184561  2.234762  0.025900   \n",
       "1       ...  0.004058 -0.041592 -0.981941  0.184561  2.234762  0.033026   \n",
       "2       ...  0.003801  0.012795 -0.977103  0.212383  2.702320  0.007222   \n",
       "3       ...  0.004122 -0.020236 -0.985475  0.168609  2.108963  0.023598   \n",
       "4       ...  0.004122 -0.020329 -0.985464  0.168661  2.109275  0.023637   \n",
       "...     ...       ...       ...       ...       ...       ...       ...   \n",
       "315312  ... -0.001586  0.620235  0.757066  0.205329  2.936159  0.031535   \n",
       "315313  ... -0.001586  0.620235  0.757066  0.205329  2.936159  0.033577   \n",
       "315314  ... -0.001586  0.620235  0.757066  0.205329  2.936159  0.030243   \n",
       "315315  ... -0.001586  0.620233  0.757067  0.205329  2.936165  0.034777   \n",
       "315316  ... -0.001586  0.620235  0.757066  0.205329  2.936159  0.024085   \n",
       "\n",
       "              s_sec         z         v  is_hit  \n",
       "0       5342.395278  0.999665  0.550588   False  \n",
       "1       6812.476092  0.999455  0.895261   False  \n",
       "2       1489.642347  0.999974  0.042810   False  \n",
       "3       4867.556965  0.999722  0.457068   False  \n",
       "4       4875.610226  0.999721  0.458582   False  \n",
       "...             ...       ...       ...     ...  \n",
       "315312  6504.889092  0.999503  0.816249   False  \n",
       "315313  6926.136324  0.999436  0.925381   False  \n",
       "315314  6238.306185  0.999543  0.750722   False  \n",
       "315315  7173.582036  0.999395  0.992676   False  \n",
       "315316  4967.974088  0.999710  0.476120   False  \n",
       "\n",
       "[315317 rows x 27 columns]"
      ]
     },
     "execution_count": 21,
     "metadata": {},
     "output_type": "execute_result"
    }
   ],
   "source": [
    "# Review ZTF elements\n",
    "ztf_elt"
   ]
  },
  {
   "cell_type": "code",
   "execution_count": 22,
   "metadata": {},
   "outputs": [],
   "source": [
    "# Score by element - perturbed\n",
    "score_by_elt = ztf_score_by_elt(ztf_elt)"
   ]
  },
  {
   "cell_type": "code",
   "execution_count": 23,
   "metadata": {},
   "outputs": [
    {
     "name": "stdout",
     "output_type": "stream",
     "text": [
      "ZTF Element Dataframe Perturbed Asteroids:\n",
      "                  Total     (Per Batch)\n",
      "Observations   :   315317   (     4927)\n",
      "\n",
      "Summarize score = sum(-1.0 - log(v)) by batch.  (Mean=0, Variance=num_obs)\n",
      "Mean score     :     252.73\n",
      "Sqrt(batch_obs):      70.19\n",
      "Mean t_score   :       3.71\n"
     ]
    }
   ],
   "source": [
    "# Summarize the ztf element batch: perturbed asteroids\n",
    "ztf_elt_summary(ztf_elt, score_by_elt, 'Perturbed Asteroids')"
   ]
  },
  {
   "cell_type": "code",
   "execution_count": 24,
   "metadata": {},
   "outputs": [],
   "source": [
    "# Mixture parameters\n",
    "num_hits: int = 10\n",
    "R_deg: float = 0.5"
   ]
  },
  {
   "cell_type": "code",
   "execution_count": 25,
   "metadata": {},
   "outputs": [],
   "source": [
    "# Add mixture parameters to candidate elements\n",
    "elts_add_mixture_params(elts=elts, num_hits=num_hits, R_deg=R_deg, thresh_deg=thresh_deg)"
   ]
  },
  {
   "cell_type": "code",
   "execution_count": 26,
   "metadata": {},
   "outputs": [],
   "source": [
    "# Add brightness parameter H\n",
    "elts_add_H(elts=elts)"
   ]
  },
  {
   "cell_type": "code",
   "execution_count": 27,
   "metadata": {},
   "outputs": [
    {
     "data": {
      "text/html": [
       "<div>\n",
       "<style scoped>\n",
       "    .dataframe tbody tr th:only-of-type {\n",
       "        vertical-align: middle;\n",
       "    }\n",
       "\n",
       "    .dataframe tbody tr th {\n",
       "        vertical-align: top;\n",
       "    }\n",
       "\n",
       "    .dataframe thead th {\n",
       "        text-align: right;\n",
       "    }\n",
       "</style>\n",
       "<table border=\"1\" class=\"dataframe\">\n",
       "  <thead>\n",
       "    <tr style=\"text-align: right;\">\n",
       "      <th></th>\n",
       "      <th>element_id</th>\n",
       "      <th>a</th>\n",
       "      <th>e</th>\n",
       "      <th>inc</th>\n",
       "      <th>Omega</th>\n",
       "      <th>omega</th>\n",
       "      <th>f</th>\n",
       "      <th>epoch</th>\n",
       "      <th>num_hits</th>\n",
       "      <th>R</th>\n",
       "      <th>thresh_s</th>\n",
       "      <th>H</th>\n",
       "      <th>sigma_mag</th>\n",
       "    </tr>\n",
       "  </thead>\n",
       "  <tbody>\n",
       "    <tr>\n",
       "      <th>0</th>\n",
       "      <td>51921</td>\n",
       "      <td>2.682597</td>\n",
       "      <td>0.217803</td>\n",
       "      <td>0.499641</td>\n",
       "      <td>4.705231</td>\n",
       "      <td>2.451220</td>\n",
       "      <td>-1.132557</td>\n",
       "      <td>58600.0</td>\n",
       "      <td>10</td>\n",
       "      <td>0.008727</td>\n",
       "      <td>0.034905</td>\n",
       "      <td>16.5</td>\n",
       "      <td>4.0</td>\n",
       "    </tr>\n",
       "    <tr>\n",
       "      <th>1</th>\n",
       "      <td>59244</td>\n",
       "      <td>2.631087</td>\n",
       "      <td>0.263394</td>\n",
       "      <td>0.464606</td>\n",
       "      <td>5.735210</td>\n",
       "      <td>1.769592</td>\n",
       "      <td>-1.606798</td>\n",
       "      <td>58600.0</td>\n",
       "      <td>10</td>\n",
       "      <td>0.008727</td>\n",
       "      <td>0.034905</td>\n",
       "      <td>16.5</td>\n",
       "      <td>4.0</td>\n",
       "    </tr>\n",
       "    <tr>\n",
       "      <th>2</th>\n",
       "      <td>15786</td>\n",
       "      <td>1.895464</td>\n",
       "      <td>0.047647</td>\n",
       "      <td>0.391007</td>\n",
       "      <td>6.136626</td>\n",
       "      <td>0.801253</td>\n",
       "      <td>-1.245314</td>\n",
       "      <td>58600.0</td>\n",
       "      <td>10</td>\n",
       "      <td>0.008727</td>\n",
       "      <td>0.034905</td>\n",
       "      <td>16.5</td>\n",
       "      <td>4.0</td>\n",
       "    </tr>\n",
       "    <tr>\n",
       "      <th>3</th>\n",
       "      <td>3904</td>\n",
       "      <td>2.595620</td>\n",
       "      <td>0.098526</td>\n",
       "      <td>0.261602</td>\n",
       "      <td>5.453543</td>\n",
       "      <td>2.211553</td>\n",
       "      <td>-1.355664</td>\n",
       "      <td>58600.0</td>\n",
       "      <td>10</td>\n",
       "      <td>0.008727</td>\n",
       "      <td>0.034905</td>\n",
       "      <td>16.5</td>\n",
       "      <td>4.0</td>\n",
       "    </tr>\n",
       "    <tr>\n",
       "      <th>4</th>\n",
       "      <td>142999</td>\n",
       "      <td>2.613817</td>\n",
       "      <td>0.191549</td>\n",
       "      <td>0.513090</td>\n",
       "      <td>0.233977</td>\n",
       "      <td>0.942074</td>\n",
       "      <td>-1.303158</td>\n",
       "      <td>58600.0</td>\n",
       "      <td>10</td>\n",
       "      <td>0.008727</td>\n",
       "      <td>0.034905</td>\n",
       "      <td>16.5</td>\n",
       "      <td>4.0</td>\n",
       "    </tr>\n",
       "    <tr>\n",
       "      <th>...</th>\n",
       "      <td>...</td>\n",
       "      <td>...</td>\n",
       "      <td>...</td>\n",
       "      <td>...</td>\n",
       "      <td>...</td>\n",
       "      <td>...</td>\n",
       "      <td>...</td>\n",
       "      <td>...</td>\n",
       "      <td>...</td>\n",
       "      <td>...</td>\n",
       "      <td>...</td>\n",
       "      <td>...</td>\n",
       "      <td>...</td>\n",
       "    </tr>\n",
       "    <tr>\n",
       "      <th>59</th>\n",
       "      <td>11952</td>\n",
       "      <td>2.241410</td>\n",
       "      <td>0.085789</td>\n",
       "      <td>0.117903</td>\n",
       "      <td>0.042534</td>\n",
       "      <td>2.901296</td>\n",
       "      <td>-3.012575</td>\n",
       "      <td>58600.0</td>\n",
       "      <td>10</td>\n",
       "      <td>0.008727</td>\n",
       "      <td>0.034905</td>\n",
       "      <td>16.5</td>\n",
       "      <td>4.0</td>\n",
       "    </tr>\n",
       "    <tr>\n",
       "      <th>60</th>\n",
       "      <td>134815</td>\n",
       "      <td>2.600280</td>\n",
       "      <td>0.141038</td>\n",
       "      <td>0.513184</td>\n",
       "      <td>0.275664</td>\n",
       "      <td>0.641888</td>\n",
       "      <td>-0.948576</td>\n",
       "      <td>58600.0</td>\n",
       "      <td>10</td>\n",
       "      <td>0.008727</td>\n",
       "      <td>0.034905</td>\n",
       "      <td>16.5</td>\n",
       "      <td>4.0</td>\n",
       "    </tr>\n",
       "    <tr>\n",
       "      <th>61</th>\n",
       "      <td>27860</td>\n",
       "      <td>2.614547</td>\n",
       "      <td>0.096713</td>\n",
       "      <td>0.199311</td>\n",
       "      <td>5.540046</td>\n",
       "      <td>3.263431</td>\n",
       "      <td>3.953275</td>\n",
       "      <td>58600.0</td>\n",
       "      <td>10</td>\n",
       "      <td>0.008727</td>\n",
       "      <td>0.034905</td>\n",
       "      <td>16.5</td>\n",
       "      <td>4.0</td>\n",
       "    </tr>\n",
       "    <tr>\n",
       "      <th>62</th>\n",
       "      <td>85937</td>\n",
       "      <td>2.316521</td>\n",
       "      <td>0.196779</td>\n",
       "      <td>0.438674</td>\n",
       "      <td>5.281107</td>\n",
       "      <td>3.200757</td>\n",
       "      <td>3.941057</td>\n",
       "      <td>58600.0</td>\n",
       "      <td>10</td>\n",
       "      <td>0.008727</td>\n",
       "      <td>0.034905</td>\n",
       "      <td>16.5</td>\n",
       "      <td>4.0</td>\n",
       "    </tr>\n",
       "    <tr>\n",
       "      <th>63</th>\n",
       "      <td>72911</td>\n",
       "      <td>3.118047</td>\n",
       "      <td>0.086373</td>\n",
       "      <td>0.262797</td>\n",
       "      <td>5.311368</td>\n",
       "      <td>2.106274</td>\n",
       "      <td>-1.022800</td>\n",
       "      <td>58600.0</td>\n",
       "      <td>10</td>\n",
       "      <td>0.008727</td>\n",
       "      <td>0.034905</td>\n",
       "      <td>16.5</td>\n",
       "      <td>4.0</td>\n",
       "    </tr>\n",
       "  </tbody>\n",
       "</table>\n",
       "<p>64 rows × 13 columns</p>\n",
       "</div>"
      ],
      "text/plain": [
       "    element_id         a         e       inc     Omega     omega         f  \\\n",
       "0        51921  2.682597  0.217803  0.499641  4.705231  2.451220 -1.132557   \n",
       "1        59244  2.631087  0.263394  0.464606  5.735210  1.769592 -1.606798   \n",
       "2        15786  1.895464  0.047647  0.391007  6.136626  0.801253 -1.245314   \n",
       "3         3904  2.595620  0.098526  0.261602  5.453543  2.211553 -1.355664   \n",
       "4       142999  2.613817  0.191549  0.513090  0.233977  0.942074 -1.303158   \n",
       "..         ...       ...       ...       ...       ...       ...       ...   \n",
       "59       11952  2.241410  0.085789  0.117903  0.042534  2.901296 -3.012575   \n",
       "60      134815  2.600280  0.141038  0.513184  0.275664  0.641888 -0.948576   \n",
       "61       27860  2.614547  0.096713  0.199311  5.540046  3.263431  3.953275   \n",
       "62       85937  2.316521  0.196779  0.438674  5.281107  3.200757  3.941057   \n",
       "63       72911  3.118047  0.086373  0.262797  5.311368  2.106274 -1.022800   \n",
       "\n",
       "      epoch  num_hits         R  thresh_s     H  sigma_mag  \n",
       "0   58600.0        10  0.008727  0.034905  16.5        4.0  \n",
       "1   58600.0        10  0.008727  0.034905  16.5        4.0  \n",
       "2   58600.0        10  0.008727  0.034905  16.5        4.0  \n",
       "3   58600.0        10  0.008727  0.034905  16.5        4.0  \n",
       "4   58600.0        10  0.008727  0.034905  16.5        4.0  \n",
       "..      ...       ...       ...       ...   ...        ...  \n",
       "59  58600.0        10  0.008727  0.034905  16.5        4.0  \n",
       "60  58600.0        10  0.008727  0.034905  16.5        4.0  \n",
       "61  58600.0        10  0.008727  0.034905  16.5        4.0  \n",
       "62  58600.0        10  0.008727  0.034905  16.5        4.0  \n",
       "63  58600.0        10  0.008727  0.034905  16.5        4.0  \n",
       "\n",
       "[64 rows x 13 columns]"
      ]
     },
     "execution_count": 27,
     "metadata": {},
     "output_type": "execute_result"
    }
   ],
   "source": [
    "# Review perturbed elements; includes nearest asteroid number and distance\n",
    "elts"
   ]
  },
  {
   "cell_type": "markdown",
   "metadata": {},
   "source": [
    "## Train on Perturbed Elements: Learn Mixture Parameters"
   ]
  },
  {
   "cell_type": "code",
   "execution_count": 28,
   "metadata": {},
   "outputs": [],
   "source": [
    "# Observatory for ZTF data is Palomar Mountain\n",
    "site_name = 'palomar'"
   ]
  },
  {
   "cell_type": "code",
   "execution_count": 29,
   "metadata": {},
   "outputs": [],
   "source": [
    "# Training parameters\n",
    "learning_rate = 2.0**-12\n",
    "clipnorm = 1.0\n",
    "save_at_end: bool = True"
   ]
  },
  {
   "cell_type": "code",
   "execution_count": 30,
   "metadata": {},
   "outputs": [],
   "source": [
    "# Build asteroid search model\n",
    "model = AsteroidSearchModel(\n",
    "                elts=elts, ztf_elt=ztf_elt, \n",
    "                site_name=site_name, thresh_deg=thresh_deg, \n",
    "                learning_rate=learning_rate, clipnorm=clipnorm,\n",
    "                name='model')"
   ]
  },
  {
   "cell_type": "code",
   "execution_count": 31,
   "metadata": {},
   "outputs": [
    {
     "name": "stdout",
     "output_type": "stream",
     "text": [
      "     \\  log_like :  hits  :    R_sec : thresh_sec\n",
      "Mean :     0.83  :   0.00 :  1795.74 :  7200.00\n",
      "Std  :     1.56  :   0.00 :     5.79 :     0.00\n",
      "Min  :    -1.56  :   0.00 :  1792.81 :  7200.00\n",
      "Max  :     5.91  :   0.00 :  1807.21 :  7200.00\n",
      "Trained for 0 batches over 0 epochs and 0 episodes.\n"
     ]
    }
   ],
   "source": [
    "# Report before training starts\n",
    "model.report()"
   ]
  },
  {
   "cell_type": "code",
   "execution_count": 32,
   "metadata": {},
   "outputs": [],
   "source": [
    "# Train perturbed model with frozen orbital elements\n",
    "model.freeze_candidate_elements()\n",
    "model.thaw_score()"
   ]
  },
  {
   "cell_type": "code",
   "execution_count": 33,
   "metadata": {},
   "outputs": [],
   "source": [
    "# model.search_adaptive(\n",
    "#     max_batches=model.current_batch + 1000, \n",
    "#     learning_rate=2.0**-10,\n",
    "# )"
   ]
  },
  {
   "cell_type": "code",
   "execution_count": 34,
   "metadata": {},
   "outputs": [],
   "source": [
    "# model.save_state()"
   ]
  },
  {
   "cell_type": "code",
   "execution_count": 35,
   "metadata": {},
   "outputs": [],
   "source": [
    "# Load model\n",
    "model.load()"
   ]
  },
  {
   "cell_type": "code",
   "execution_count": 36,
   "metadata": {},
   "outputs": [
    {
     "name": "stdout",
     "output_type": "stream",
     "text": [
      "     \\  log_like :  hits  :    R_sec : thresh_sec\n",
      "Mean :   326.80  :  78.09 :   585.13 :  4020.69\n",
      "Std  :   193.87  :  78.58 :   712.71 :  2668.15\n",
      "Min  :     7.22  :   0.00 :    48.63 :   726.60\n",
      "Max  :   720.25  : 195.37 :  2194.85 :  7200.00\n",
      "Trained for 8600 batches over 86 epochs and 32 episodes.\n"
     ]
    }
   ],
   "source": [
    "# Report results\n",
    "model.report()"
   ]
  },
  {
   "cell_type": "code",
   "execution_count": 37,
   "metadata": {},
   "outputs": [
    {
     "data": {
      "image/png": "[encoded data removed]",
      "text/plain": [
       "<Figure size 1152x720 with 1 Axes>"
      ]
     },
     "metadata": {
      "needs_background": "light"
     },
     "output_type": "display_data"
    }
   ],
   "source": [
    "# Visualize log likelihood before traning\n",
    "fig, ax = model.plot_bar('log_like', sorted=False)"
   ]
  },
  {
   "cell_type": "code",
   "execution_count": 38,
   "metadata": {},
   "outputs": [
    {
     "ename": "ValueError",
     "evalue": "",
     "output_type": "error",
     "traceback": [
      "\u001b[0;31m---------------------------------------------------------------------------\u001b[0m",
      "\u001b[0;31mValueError\u001b[0m                                Traceback (most recent call last)",
      "\u001b[0;32m<ipython-input-38-e4c8e09828d5>\u001b[0m in \u001b[0;36m<module>\u001b[0;34m\u001b[0m\n\u001b[0;32m----> 1\u001b[0;31m \u001b[0;32mraise\u001b[0m \u001b[0mValueError\u001b[0m\u001b[0;34m\u001b[0m\u001b[0;34m\u001b[0m\u001b[0m\n\u001b[0m",
      "\u001b[0;31mValueError\u001b[0m: "
     ]
    }
   ],
   "source": [
    "raise ValueError"
   ]
  },
  {
   "cell_type": "markdown",
   "metadata": {},
   "source": [
    "## Train on Perturbed Model: Joint (Elements & Mixture)"
   ]
  },
  {
   "cell_type": "code",
   "execution_count": null,
   "metadata": {},
   "outputs": [],
   "source": [
    "# # Adaptive search parameters\n",
    "# batches_per_epoch = 100\n",
    "# epochs_per_episode = 5\n",
    "# max_bad_episodes = 3\n",
    "# min_learning_rate = None\n",
    "# save_at_end = False\n",
    "# reset_active_weight = True\n",
    "# verbose = 1"
   ]
  },
  {
   "cell_type": "code",
   "execution_count": 39,
   "metadata": {},
   "outputs": [
    {
     "name": "stdout",
     "output_type": "stream",
     "text": [
      "\n",
      "Training episode 32: Epoch   86, Batch   8600\n",
      "effective_learning_rate=2.441e-04, training_time 552 sec.\n",
      "Train on 6400 samples\n",
      "Epoch 87/91\n",
      "6400/6400 [==============================] - 6s 883us/sample - loss: -936.2139\n",
      "Epoch 88/91\n",
      "3648/6400 [================>.............] - ETA: 1s - loss: -2544.7456"
     ]
    },
    {
     "ename": "KeyboardInterrupt",
     "evalue": "",
     "output_type": "error",
     "traceback": [
      "\u001b[0;31m---------------------------------------------------------------------------\u001b[0m",
      "\u001b[0;31mKeyboardInterrupt\u001b[0m                         Traceback (most recent call last)",
      "\u001b[0;32m<ipython-input-39-45ad56affe8e>\u001b[0m in \u001b[0;36m<module>\u001b[0;34m\u001b[0m\n\u001b[1;32m      4\u001b[0m     \u001b[0mmax_batches\u001b[0m\u001b[0;34m=\u001b[0m\u001b[0mmodel\u001b[0m\u001b[0;34m.\u001b[0m\u001b[0mcurrent_batch\u001b[0m\u001b[0;34m+\u001b[0m\u001b[0;36m5000\u001b[0m\u001b[0;34m,\u001b[0m\u001b[0;34m\u001b[0m\u001b[0;34m\u001b[0m\u001b[0m\n\u001b[1;32m      5\u001b[0m     \u001b[0mlearning_rate\u001b[0m\u001b[0;34m=\u001b[0m\u001b[0;36m2.0\u001b[0m\u001b[0;34m**\u001b[0m\u001b[0;34m-\u001b[0m\u001b[0;36m12\u001b[0m\u001b[0;34m,\u001b[0m\u001b[0;34m\u001b[0m\u001b[0;34m\u001b[0m\u001b[0m\n\u001b[0;32m----> 6\u001b[0;31m     reset_active_weight=True)\n\u001b[0m",
      "\u001b[0;32m~/IACS/kepler-sieve/src/asteroid_search_model.py\u001b[0m in \u001b[0;36msearch_adaptive\u001b[0;34m(self, max_batches, batches_per_epoch, epochs_per_episode, thresh_deg_start, thresh_deg_end, max_bad_episodes, learning_rate, min_learning_rate, reset_active_weight, save_at_end, verbose)\u001b[0m\n\u001b[1;32m   1418\u001b[0m               \u001b[0;34m(\u001b[0m\u001b[0mself\u001b[0m\u001b[0;34m.\u001b[0m\u001b[0mbad_episode_count\u001b[0m \u001b[0;34m<\u001b[0m \u001b[0mmax_bad_episodes\u001b[0m\u001b[0;34m)\u001b[0m \u001b[0;32mand\u001b[0m\u001b[0;31m \u001b[0m\u001b[0;31m\\\u001b[0m\u001b[0;34m\u001b[0m\u001b[0;34m\u001b[0m\u001b[0m\n\u001b[1;32m   1419\u001b[0m               \u001b[0;34m(\u001b[0m\u001b[0mmin_learning_rate\u001b[0m \u001b[0;34m<\u001b[0m \u001b[0mself\u001b[0m\u001b[0;34m.\u001b[0m\u001b[0meffective_learning_rate\u001b[0m\u001b[0;34m)\u001b[0m\u001b[0;34m:\u001b[0m\u001b[0;34m\u001b[0m\u001b[0;34m\u001b[0m\u001b[0m\n\u001b[0;32m-> 1420\u001b[0;31m               \u001b[0mself\u001b[0m\u001b[0;34m.\u001b[0m\u001b[0mtrain_one_episode\u001b[0m\u001b[0;34m(\u001b[0m\u001b[0mverbose\u001b[0m\u001b[0;34m=\u001b[0m\u001b[0mverbose\u001b[0m\u001b[0;34m)\u001b[0m\u001b[0;34m\u001b[0m\u001b[0;34m\u001b[0m\u001b[0m\n\u001b[0m\u001b[1;32m   1421\u001b[0m \u001b[0;34m\u001b[0m\u001b[0m\n\u001b[1;32m   1422\u001b[0m         \u001b[0;31m# Report cause of training termination\u001b[0m\u001b[0;34m\u001b[0m\u001b[0;34m\u001b[0m\u001b[0;34m\u001b[0m\u001b[0m\n",
      "\u001b[0;32m~/IACS/kepler-sieve/src/asteroid_search_model.py\u001b[0m in \u001b[0;36mtrain_one_episode\u001b[0;34m(self, verbose)\u001b[0m\n\u001b[1;32m   1336\u001b[0m         hist = self.fit(x=self.x_trn, batch_size=self.batch_size, epochs=self.current_epoch+self.epochs_per_episode, \n\u001b[1;32m   1337\u001b[0m                         \u001b[0msteps_per_epoch\u001b[0m\u001b[0;34m=\u001b[0m\u001b[0mself\u001b[0m\u001b[0;34m.\u001b[0m\u001b[0mbatches_per_epoch\u001b[0m\u001b[0;34m,\u001b[0m \u001b[0minitial_epoch\u001b[0m\u001b[0;34m=\u001b[0m\u001b[0mself\u001b[0m\u001b[0;34m.\u001b[0m\u001b[0mcurrent_epoch\u001b[0m\u001b[0;34m,\u001b[0m\u001b[0;34m\u001b[0m\u001b[0;34m\u001b[0m\u001b[0m\n\u001b[0;32m-> 1338\u001b[0;31m                         callbacks=self.callbacks, shuffle=False, verbose=verbose)\n\u001b[0m\u001b[1;32m   1339\u001b[0m \u001b[0;34m\u001b[0m\u001b[0m\n\u001b[1;32m   1340\u001b[0m         \u001b[0;31m# Episode end processing; includes LR adjustment\u001b[0m\u001b[0;34m\u001b[0m\u001b[0;34m\u001b[0m\u001b[0;34m\u001b[0m\u001b[0m\n",
      "\u001b[0;32m~/anaconda3/envs/kepler/lib/python3.7/site-packages/tensorflow_core/python/keras/engine/training.py\u001b[0m in \u001b[0;36mfit\u001b[0;34m(self, x, y, batch_size, epochs, verbose, callbacks, validation_split, validation_data, shuffle, class_weight, sample_weight, initial_epoch, steps_per_epoch, validation_steps, validation_freq, max_queue_size, workers, use_multiprocessing, **kwargs)\u001b[0m\n\u001b[1;32m    817\u001b[0m         \u001b[0mmax_queue_size\u001b[0m\u001b[0;34m=\u001b[0m\u001b[0mmax_queue_size\u001b[0m\u001b[0;34m,\u001b[0m\u001b[0;34m\u001b[0m\u001b[0;34m\u001b[0m\u001b[0m\n\u001b[1;32m    818\u001b[0m         \u001b[0mworkers\u001b[0m\u001b[0;34m=\u001b[0m\u001b[0mworkers\u001b[0m\u001b[0;34m,\u001b[0m\u001b[0;34m\u001b[0m\u001b[0;34m\u001b[0m\u001b[0m\n\u001b[0;32m--> 819\u001b[0;31m         use_multiprocessing=use_multiprocessing)\n\u001b[0m\u001b[1;32m    820\u001b[0m \u001b[0;34m\u001b[0m\u001b[0m\n\u001b[1;32m    821\u001b[0m   def evaluate(self,\n",
      "\u001b[0;32m~/anaconda3/envs/kepler/lib/python3.7/site-packages/tensorflow_core/python/keras/engine/training_v2.py\u001b[0m in \u001b[0;36mfit\u001b[0;34m(self, model, x, y, batch_size, epochs, verbose, callbacks, validation_split, validation_data, shuffle, class_weight, sample_weight, initial_epoch, steps_per_epoch, validation_steps, validation_freq, max_queue_size, workers, use_multiprocessing, **kwargs)\u001b[0m\n\u001b[1;32m    340\u001b[0m                 \u001b[0mmode\u001b[0m\u001b[0;34m=\u001b[0m\u001b[0mModeKeys\u001b[0m\u001b[0;34m.\u001b[0m\u001b[0mTRAIN\u001b[0m\u001b[0;34m,\u001b[0m\u001b[0;34m\u001b[0m\u001b[0;34m\u001b[0m\u001b[0m\n\u001b[1;32m    341\u001b[0m                 \u001b[0mtraining_context\u001b[0m\u001b[0;34m=\u001b[0m\u001b[0mtraining_context\u001b[0m\u001b[0;34m,\u001b[0m\u001b[0;34m\u001b[0m\u001b[0;34m\u001b[0m\u001b[0m\n\u001b[0;32m--> 342\u001b[0;31m                 total_epochs=epochs)\n\u001b[0m\u001b[1;32m    343\u001b[0m             \u001b[0mcbks\u001b[0m\u001b[0;34m.\u001b[0m\u001b[0mmake_logs\u001b[0m\u001b[0;34m(\u001b[0m\u001b[0mmodel\u001b[0m\u001b[0;34m,\u001b[0m \u001b[0mepoch_logs\u001b[0m\u001b[0;34m,\u001b[0m \u001b[0mtraining_result\u001b[0m\u001b[0;34m,\u001b[0m \u001b[0mModeKeys\u001b[0m\u001b[0;34m.\u001b[0m\u001b[0mTRAIN\u001b[0m\u001b[0;34m)\u001b[0m\u001b[0;34m\u001b[0m\u001b[0;34m\u001b[0m\u001b[0m\n\u001b[1;32m    344\u001b[0m \u001b[0;34m\u001b[0m\u001b[0m\n",
      "\u001b[0;32m~/anaconda3/envs/kepler/lib/python3.7/site-packages/tensorflow_core/python/keras/engine/training_v2.py\u001b[0m in \u001b[0;36mrun_one_epoch\u001b[0;34m(model, iterator, execution_function, dataset_size, batch_size, strategy, steps_per_epoch, num_samples, mode, training_context, total_epochs)\u001b[0m\n\u001b[1;32m    126\u001b[0m         step=step, mode=mode, size=current_batch_size) as batch_logs:\n\u001b[1;32m    127\u001b[0m       \u001b[0;32mtry\u001b[0m\u001b[0;34m:\u001b[0m\u001b[0;34m\u001b[0m\u001b[0;34m\u001b[0m\u001b[0m\n\u001b[0;32m--> 128\u001b[0;31m         \u001b[0mbatch_outs\u001b[0m \u001b[0;34m=\u001b[0m \u001b[0mexecution_function\u001b[0m\u001b[0;34m(\u001b[0m\u001b[0miterator\u001b[0m\u001b[0;34m)\u001b[0m\u001b[0;34m\u001b[0m\u001b[0;34m\u001b[0m\u001b[0m\n\u001b[0m\u001b[1;32m    129\u001b[0m       \u001b[0;32mexcept\u001b[0m \u001b[0;34m(\u001b[0m\u001b[0mStopIteration\u001b[0m\u001b[0;34m,\u001b[0m \u001b[0merrors\u001b[0m\u001b[0;34m.\u001b[0m\u001b[0mOutOfRangeError\u001b[0m\u001b[0;34m)\u001b[0m\u001b[0;34m:\u001b[0m\u001b[0;34m\u001b[0m\u001b[0;34m\u001b[0m\u001b[0m\n\u001b[1;32m    130\u001b[0m         \u001b[0;31m# TODO(kaftan): File bug about tf function and errors.OutOfRangeError?\u001b[0m\u001b[0;34m\u001b[0m\u001b[0;34m\u001b[0m\u001b[0;34m\u001b[0m\u001b[0m\n",
      "\u001b[0;32m~/anaconda3/envs/kepler/lib/python3.7/site-packages/tensorflow_core/python/keras/engine/training_v2_utils.py\u001b[0m in \u001b[0;36mexecution_function\u001b[0;34m(input_fn)\u001b[0m\n\u001b[1;32m     96\u001b[0m     \u001b[0;31m# `numpy` translates Tensors to values in Eager mode.\u001b[0m\u001b[0;34m\u001b[0m\u001b[0;34m\u001b[0m\u001b[0;34m\u001b[0m\u001b[0m\n\u001b[1;32m     97\u001b[0m     return nest.map_structure(_non_none_constant_value,\n\u001b[0;32m---> 98\u001b[0;31m                               distributed_function(input_fn))\n\u001b[0m\u001b[1;32m     99\u001b[0m \u001b[0;34m\u001b[0m\u001b[0m\n\u001b[1;32m    100\u001b[0m   \u001b[0;32mreturn\u001b[0m \u001b[0mexecution_function\u001b[0m\u001b[0;34m\u001b[0m\u001b[0;34m\u001b[0m\u001b[0m\n",
      "\u001b[0;32m~/anaconda3/envs/kepler/lib/python3.7/site-packages/tensorflow_core/python/eager/def_function.py\u001b[0m in \u001b[0;36m__call__\u001b[0;34m(self, *args, **kwds)\u001b[0m\n\u001b[1;32m    566\u001b[0m         \u001b[0mxla_context\u001b[0m\u001b[0;34m.\u001b[0m\u001b[0mExit\u001b[0m\u001b[0;34m(\u001b[0m\u001b[0;34m)\u001b[0m\u001b[0;34m\u001b[0m\u001b[0;34m\u001b[0m\u001b[0m\n\u001b[1;32m    567\u001b[0m     \u001b[0;32melse\u001b[0m\u001b[0;34m:\u001b[0m\u001b[0;34m\u001b[0m\u001b[0;34m\u001b[0m\u001b[0m\n\u001b[0;32m--> 568\u001b[0;31m       \u001b[0mresult\u001b[0m \u001b[0;34m=\u001b[0m \u001b[0mself\u001b[0m\u001b[0;34m.\u001b[0m\u001b[0m_call\u001b[0m\u001b[0;34m(\u001b[0m\u001b[0;34m*\u001b[0m\u001b[0margs\u001b[0m\u001b[0;34m,\u001b[0m \u001b[0;34m**\u001b[0m\u001b[0mkwds\u001b[0m\u001b[0;34m)\u001b[0m\u001b[0;34m\u001b[0m\u001b[0;34m\u001b[0m\u001b[0m\n\u001b[0m\u001b[1;32m    569\u001b[0m \u001b[0;34m\u001b[0m\u001b[0m\n\u001b[1;32m    570\u001b[0m     \u001b[0;32mif\u001b[0m \u001b[0mtracing_count\u001b[0m \u001b[0;34m==\u001b[0m \u001b[0mself\u001b[0m\u001b[0;34m.\u001b[0m\u001b[0m_get_tracing_count\u001b[0m\u001b[0;34m(\u001b[0m\u001b[0;34m)\u001b[0m\u001b[0;34m:\u001b[0m\u001b[0;34m\u001b[0m\u001b[0;34m\u001b[0m\u001b[0m\n",
      "\u001b[0;32m~/anaconda3/envs/kepler/lib/python3.7/site-packages/tensorflow_core/python/eager/def_function.py\u001b[0m in \u001b[0;36m_call\u001b[0;34m(self, *args, **kwds)\u001b[0m\n\u001b[1;32m    597\u001b[0m       \u001b[0;31m# In this case we have created variables on the first call, so we run the\u001b[0m\u001b[0;34m\u001b[0m\u001b[0;34m\u001b[0m\u001b[0;34m\u001b[0m\u001b[0m\n\u001b[1;32m    598\u001b[0m       \u001b[0;31m# defunned version which is guaranteed to never create variables.\u001b[0m\u001b[0;34m\u001b[0m\u001b[0;34m\u001b[0m\u001b[0;34m\u001b[0m\u001b[0m\n\u001b[0;32m--> 599\u001b[0;31m       \u001b[0;32mreturn\u001b[0m \u001b[0mself\u001b[0m\u001b[0;34m.\u001b[0m\u001b[0m_stateless_fn\u001b[0m\u001b[0;34m(\u001b[0m\u001b[0;34m*\u001b[0m\u001b[0margs\u001b[0m\u001b[0;34m,\u001b[0m \u001b[0;34m**\u001b[0m\u001b[0mkwds\u001b[0m\u001b[0;34m)\u001b[0m  \u001b[0;31m# pylint: disable=not-callable\u001b[0m\u001b[0;34m\u001b[0m\u001b[0;34m\u001b[0m\u001b[0m\n\u001b[0m\u001b[1;32m    600\u001b[0m     \u001b[0;32melif\u001b[0m \u001b[0mself\u001b[0m\u001b[0;34m.\u001b[0m\u001b[0m_stateful_fn\u001b[0m \u001b[0;32mis\u001b[0m \u001b[0;32mnot\u001b[0m \u001b[0;32mNone\u001b[0m\u001b[0;34m:\u001b[0m\u001b[0;34m\u001b[0m\u001b[0;34m\u001b[0m\u001b[0m\n\u001b[1;32m    601\u001b[0m       \u001b[0;31m# Release the lock early so that multiple threads can perform the call\u001b[0m\u001b[0;34m\u001b[0m\u001b[0;34m\u001b[0m\u001b[0;34m\u001b[0m\u001b[0m\n",
      "\u001b[0;32m~/anaconda3/envs/kepler/lib/python3.7/site-packages/tensorflow_core/python/eager/function.py\u001b[0m in \u001b[0;36m__call__\u001b[0;34m(self, *args, **kwargs)\u001b[0m\n\u001b[1;32m   2361\u001b[0m     \u001b[0;32mwith\u001b[0m \u001b[0mself\u001b[0m\u001b[0;34m.\u001b[0m\u001b[0m_lock\u001b[0m\u001b[0;34m:\u001b[0m\u001b[0;34m\u001b[0m\u001b[0;34m\u001b[0m\u001b[0m\n\u001b[1;32m   2362\u001b[0m       \u001b[0mgraph_function\u001b[0m\u001b[0;34m,\u001b[0m \u001b[0margs\u001b[0m\u001b[0;34m,\u001b[0m \u001b[0mkwargs\u001b[0m \u001b[0;34m=\u001b[0m \u001b[0mself\u001b[0m\u001b[0;34m.\u001b[0m\u001b[0m_maybe_define_function\u001b[0m\u001b[0;34m(\u001b[0m\u001b[0margs\u001b[0m\u001b[0;34m,\u001b[0m \u001b[0mkwargs\u001b[0m\u001b[0;34m)\u001b[0m\u001b[0;34m\u001b[0m\u001b[0;34m\u001b[0m\u001b[0m\n\u001b[0;32m-> 2363\u001b[0;31m     \u001b[0;32mreturn\u001b[0m \u001b[0mgraph_function\u001b[0m\u001b[0;34m.\u001b[0m\u001b[0m_filtered_call\u001b[0m\u001b[0;34m(\u001b[0m\u001b[0margs\u001b[0m\u001b[0;34m,\u001b[0m \u001b[0mkwargs\u001b[0m\u001b[0;34m)\u001b[0m  \u001b[0;31m# pylint: disable=protected-access\u001b[0m\u001b[0;34m\u001b[0m\u001b[0;34m\u001b[0m\u001b[0m\n\u001b[0m\u001b[1;32m   2364\u001b[0m \u001b[0;34m\u001b[0m\u001b[0m\n\u001b[1;32m   2365\u001b[0m   \u001b[0;34m@\u001b[0m\u001b[0mproperty\u001b[0m\u001b[0;34m\u001b[0m\u001b[0;34m\u001b[0m\u001b[0m\n",
      "\u001b[0;32m~/anaconda3/envs/kepler/lib/python3.7/site-packages/tensorflow_core/python/eager/function.py\u001b[0m in \u001b[0;36m_filtered_call\u001b[0;34m(self, args, kwargs)\u001b[0m\n\u001b[1;32m   1609\u001b[0m          if isinstance(t, (ops.Tensor,\n\u001b[1;32m   1610\u001b[0m                            resource_variable_ops.BaseResourceVariable))),\n\u001b[0;32m-> 1611\u001b[0;31m         self.captured_inputs)\n\u001b[0m\u001b[1;32m   1612\u001b[0m \u001b[0;34m\u001b[0m\u001b[0m\n\u001b[1;32m   1613\u001b[0m   \u001b[0;32mdef\u001b[0m \u001b[0m_call_flat\u001b[0m\u001b[0;34m(\u001b[0m\u001b[0mself\u001b[0m\u001b[0;34m,\u001b[0m \u001b[0margs\u001b[0m\u001b[0;34m,\u001b[0m \u001b[0mcaptured_inputs\u001b[0m\u001b[0;34m,\u001b[0m \u001b[0mcancellation_manager\u001b[0m\u001b[0;34m=\u001b[0m\u001b[0;32mNone\u001b[0m\u001b[0;34m)\u001b[0m\u001b[0;34m:\u001b[0m\u001b[0;34m\u001b[0m\u001b[0;34m\u001b[0m\u001b[0m\n",
      "\u001b[0;32m~/anaconda3/envs/kepler/lib/python3.7/site-packages/tensorflow_core/python/eager/function.py\u001b[0m in \u001b[0;36m_call_flat\u001b[0;34m(self, args, captured_inputs, cancellation_manager)\u001b[0m\n\u001b[1;32m   1690\u001b[0m       \u001b[0;31m# No tape is watching; skip to running the function.\u001b[0m\u001b[0;34m\u001b[0m\u001b[0;34m\u001b[0m\u001b[0;34m\u001b[0m\u001b[0m\n\u001b[1;32m   1691\u001b[0m       return self._build_call_outputs(self._inference_function.call(\n\u001b[0;32m-> 1692\u001b[0;31m           ctx, args, cancellation_manager=cancellation_manager))\n\u001b[0m\u001b[1;32m   1693\u001b[0m     forward_backward = self._select_forward_and_backward_functions(\n\u001b[1;32m   1694\u001b[0m         \u001b[0margs\u001b[0m\u001b[0;34m,\u001b[0m\u001b[0;34m\u001b[0m\u001b[0;34m\u001b[0m\u001b[0m\n",
      "\u001b[0;32m~/anaconda3/envs/kepler/lib/python3.7/site-packages/tensorflow_core/python/eager/function.py\u001b[0m in \u001b[0;36mcall\u001b[0;34m(self, ctx, args, cancellation_manager)\u001b[0m\n\u001b[1;32m    543\u001b[0m               \u001b[0minputs\u001b[0m\u001b[0;34m=\u001b[0m\u001b[0margs\u001b[0m\u001b[0;34m,\u001b[0m\u001b[0;34m\u001b[0m\u001b[0;34m\u001b[0m\u001b[0m\n\u001b[1;32m    544\u001b[0m               \u001b[0mattrs\u001b[0m\u001b[0;34m=\u001b[0m\u001b[0;34m(\u001b[0m\u001b[0;34m\"executor_type\"\u001b[0m\u001b[0;34m,\u001b[0m \u001b[0mexecutor_type\u001b[0m\u001b[0;34m,\u001b[0m \u001b[0;34m\"config_proto\"\u001b[0m\u001b[0;34m,\u001b[0m \u001b[0mconfig\u001b[0m\u001b[0;34m)\u001b[0m\u001b[0;34m,\u001b[0m\u001b[0;34m\u001b[0m\u001b[0;34m\u001b[0m\u001b[0m\n\u001b[0;32m--> 545\u001b[0;31m               ctx=ctx)\n\u001b[0m\u001b[1;32m    546\u001b[0m         \u001b[0;32melse\u001b[0m\u001b[0;34m:\u001b[0m\u001b[0;34m\u001b[0m\u001b[0;34m\u001b[0m\u001b[0m\n\u001b[1;32m    547\u001b[0m           outputs = execute.execute_with_cancellation(\n",
      "\u001b[0;32m~/anaconda3/envs/kepler/lib/python3.7/site-packages/tensorflow_core/python/eager/execute.py\u001b[0m in \u001b[0;36mquick_execute\u001b[0;34m(op_name, num_outputs, inputs, attrs, ctx, name)\u001b[0m\n\u001b[1;32m     59\u001b[0m     tensors = pywrap_tensorflow.TFE_Py_Execute(ctx._handle, device_name,\n\u001b[1;32m     60\u001b[0m                                                \u001b[0mop_name\u001b[0m\u001b[0;34m,\u001b[0m \u001b[0minputs\u001b[0m\u001b[0;34m,\u001b[0m \u001b[0mattrs\u001b[0m\u001b[0;34m,\u001b[0m\u001b[0;34m\u001b[0m\u001b[0;34m\u001b[0m\u001b[0m\n\u001b[0;32m---> 61\u001b[0;31m                                                num_outputs)\n\u001b[0m\u001b[1;32m     62\u001b[0m   \u001b[0;32mexcept\u001b[0m \u001b[0mcore\u001b[0m\u001b[0;34m.\u001b[0m\u001b[0m_NotOkStatusException\u001b[0m \u001b[0;32mas\u001b[0m \u001b[0me\u001b[0m\u001b[0;34m:\u001b[0m\u001b[0;34m\u001b[0m\u001b[0;34m\u001b[0m\u001b[0m\n\u001b[1;32m     63\u001b[0m     \u001b[0;32mif\u001b[0m \u001b[0mname\u001b[0m \u001b[0;32mis\u001b[0m \u001b[0;32mnot\u001b[0m \u001b[0;32mNone\u001b[0m\u001b[0;34m:\u001b[0m\u001b[0;34m\u001b[0m\u001b[0;34m\u001b[0m\u001b[0m\n",
      "\u001b[0;31mKeyboardInterrupt\u001b[0m: "
     ]
    }
   ],
   "source": [
    "# Train model\n",
    "model.thaw_all()\n",
    "model.search_adaptive(\n",
    "    max_batches=model.current_batch+5000,\n",
    "    learning_rate=2.0**-12,\n",
    "    reset_active_weight=True)"
   ]
  },
  {
   "cell_type": "code",
   "execution_count": null,
   "metadata": {},
   "outputs": [],
   "source": [
    "model.report()"
   ]
  },
  {
   "cell_type": "code",
   "execution_count": null,
   "metadata": {},
   "outputs": [],
   "source": [
    "# Train model in joint mode\n",
    "model.thaw_candidate_elements()\n",
    "model.search_adaptive(\n",
    "    max_batches=model.current_batch+5000,\n",
    "    learning_rate=2.0**-12,\n",
    "    min_learning_rate=2.0**-24,\n",
    "    reset_active_weight=False)"
   ]
  },
  {
   "cell_type": "code",
   "execution_count": null,
   "metadata": {},
   "outputs": [],
   "source": [
    "model.report()"
   ]
  },
  {
   "cell_type": "code",
   "execution_count": null,
   "metadata": {},
   "outputs": [],
   "source": [
    "# model.save_state()"
   ]
  },
  {
   "cell_type": "code",
   "execution_count": null,
   "metadata": {},
   "outputs": [],
   "source": [
    "# Bar chart - log likelihood by element\n",
    "fig, ax = model.plot_bar('log_like', sorted=False)"
   ]
  },
  {
   "cell_type": "code",
   "execution_count": null,
   "metadata": {},
   "outputs": [],
   "source": [
    "# Bar chart - hits\n",
    "fig, ax = model.plot_bar('hits', sorted=False)"
   ]
  },
  {
   "cell_type": "code",
   "execution_count": null,
   "metadata": {},
   "outputs": [],
   "source": [
    "# Bar chart - resolution\n",
    "fig, ax = model.plot_bar('R_deg', sorted=False)"
   ]
  },
  {
   "cell_type": "code",
   "execution_count": null,
   "metadata": {},
   "outputs": [],
   "source": [
    "# Bar chart - sigma_mag\n",
    "fig, ax = model.plot_bar('sigma_mag', sorted=False)"
   ]
  },
  {
   "cell_type": "code",
   "execution_count": null,
   "metadata": {},
   "outputs": [],
   "source": [
    "# # Save model\n",
    "# model.save_state()"
   ]
  },
  {
   "cell_type": "code",
   "execution_count": null,
   "metadata": {},
   "outputs": [],
   "source": [
    "# Search \n",
    "model.thaw_all()\n",
    "model.search_adaptive(\n",
    "    max_batches=model.current_batch+5000, \n",
    "    learning_rate=2**-12,\n",
    "    reset_active_weight=False)"
   ]
  },
  {
   "cell_type": "code",
   "execution_count": null,
   "metadata": {},
   "outputs": [],
   "source": [
    "model.report()"
   ]
  },
  {
   "cell_type": "code",
   "execution_count": null,
   "metadata": {},
   "outputs": [],
   "source": [
    "fig, ax = model.plot_bar('log_like', sorted=False)"
   ]
  },
  {
   "cell_type": "code",
   "execution_count": null,
   "metadata": {},
   "outputs": [],
   "source": [
    "# model.save_state()"
   ]
  },
  {
   "cell_type": "code",
   "execution_count": null,
   "metadata": {},
   "outputs": [],
   "source": [
    "# # Unfreeze the score layer\n",
    "# model.thaw_score()"
   ]
  },
  {
   "cell_type": "code",
   "execution_count": null,
   "metadata": {},
   "outputs": [],
   "source": [
    "# # Lower threshold manually\n",
    "# thresh_deg_score = 1.0\n",
    "# model.set_thresh_deg_max(thresh_deg_score)\n",
    "# model.freeze_score()"
   ]
  },
  {
   "cell_type": "code",
   "execution_count": null,
   "metadata": {},
   "outputs": [],
   "source": [
    "# model.search_adaptive(\n",
    "#     max_batches=20000, \n",
    "#     batches_per_epoch=batches_per_epoch,\n",
    "#     epochs_per_episode=epochs_per_episode,\n",
    "#     learning_rate=2.0**-15,\n",
    "#     reset_active_weight=True,\n",
    "#     verbose=verbose)"
   ]
  },
  {
   "cell_type": "code",
   "execution_count": null,
   "metadata": {},
   "outputs": [],
   "source": [
    "# model.report()"
   ]
  },
  {
   "cell_type": "code",
   "execution_count": null,
   "metadata": {},
   "outputs": [],
   "source": [
    "# model.save_state()"
   ]
  },
  {
   "cell_type": "markdown",
   "metadata": {},
   "source": [
    "## Review Results Graphically"
   ]
  },
  {
   "cell_type": "code",
   "execution_count": 40,
   "metadata": {},
   "outputs": [],
   "source": [
    "model.load()"
   ]
  },
  {
   "cell_type": "code",
   "execution_count": 41,
   "metadata": {},
   "outputs": [
    {
     "data": {
      "image/png": "[encoded data removed]",
      "text/plain": [
       "<Figure size 1152x720 with 1 Axes>"
      ]
     },
     "metadata": {
      "needs_background": "light"
     },
     "output_type": "display_data"
    }
   ],
   "source": [
    "# Bar chart - log likelihood by element\n",
    "fig, ax = model.plot_bar('log_like', sorted=False)"
   ]
  },
  {
   "cell_type": "code",
   "execution_count": 42,
   "metadata": {},
   "outputs": [
    {
     "data": {
      "image/png": "[encoded data removed]",
      "text/plain": [
       "<Figure size 1152x720 with 1 Axes>"
      ]
     },
     "metadata": {
      "needs_background": "light"
     },
     "output_type": "display_data"
    }
   ],
   "source": [
    "# Bar chart: hits\n",
    "fig, ax = model.plot_bar('hits', sorted=False)"
   ]
  },
  {
   "cell_type": "code",
   "execution_count": 43,
   "metadata": {},
   "outputs": [
    {
     "data": {
      "image/png": "[encoded data removed]",
      "text/plain": [
       "<Figure size 1152x720 with 1 Axes>"
      ]
     },
     "metadata": {
      "needs_background": "light"
     },
     "output_type": "display_data"
    }
   ],
   "source": [
    "# Bar chart: log likelihood\n",
    "fig, ax = model.plot_bar('minus_log_R', sorted=False)"
   ]
  },
  {
   "cell_type": "code",
   "execution_count": null,
   "metadata": {},
   "outputs": [],
   "source": [
    "# # Learning curve: log likelihood\n",
    "# fig, ax = model.plot_hist('log_like')"
   ]
  },
  {
   "cell_type": "code",
   "execution_count": null,
   "metadata": {},
   "outputs": [],
   "source": [
    "# # Learning curve: hits\n",
    "# fig, ax = model.plot_hist('hits')"
   ]
  },
  {
   "cell_type": "markdown",
   "metadata": {},
   "source": [
    "## Distance vs. Nearest Asteroid for Fitted Elements"
   ]
  },
  {
   "cell_type": "code",
   "execution_count": 44,
   "metadata": {},
   "outputs": [],
   "source": [
    "# Find nearest asteroid to fitted elements\n",
    "elts_fit, elts_near = model.nearest_ast()"
   ]
  },
  {
   "cell_type": "code",
   "execution_count": 46,
   "metadata": {},
   "outputs": [],
   "source": [
    "# model.save_state()"
   ]
  },
  {
   "cell_type": "code",
   "execution_count": null,
   "metadata": {},
   "outputs": [],
   "source": [
    "# q_norm = elt_q_norm(elts=elts_fit, ast_num=elts_fit.nearest_ast_num)\n",
    "# elts_fit['nearest_ast_q_norm'] = q_norm"
   ]
  },
  {
   "cell_type": "code",
   "execution_count": null,
   "metadata": {},
   "outputs": [],
   "source": [
    "elt_q_norm(elts=model.elts_fit, ast_num=model.elts_near_ast.nearest_ast_num)"
   ]
  },
  {
   "cell_type": "code",
   "execution_count": 47,
   "metadata": {},
   "outputs": [
    {
     "data": {
      "text/html": [
       "<div>\n",
       "<style scoped>\n",
       "    .dataframe tbody tr th:only-of-type {\n",
       "        vertical-align: middle;\n",
       "    }\n",
       "\n",
       "    .dataframe tbody tr th {\n",
       "        vertical-align: top;\n",
       "    }\n",
       "\n",
       "    .dataframe thead th {\n",
       "        text-align: right;\n",
       "    }\n",
       "</style>\n",
       "<table border=\"1\" class=\"dataframe\">\n",
       "  <thead>\n",
       "    <tr style=\"text-align: right;\">\n",
       "      <th></th>\n",
       "      <th>element_id</th>\n",
       "      <th>nearest_ast_num</th>\n",
       "      <th>nearest_ast_name</th>\n",
       "      <th>nearest_ast_dist</th>\n",
       "      <th>a</th>\n",
       "      <th>e</th>\n",
       "      <th>inc</th>\n",
       "      <th>Omega</th>\n",
       "      <th>omega</th>\n",
       "      <th>f</th>\n",
       "      <th>epoch</th>\n",
       "      <th>nearest_ast_q_norm</th>\n",
       "    </tr>\n",
       "  </thead>\n",
       "  <tbody>\n",
       "    <tr>\n",
       "      <th>0</th>\n",
       "      <td>51921</td>\n",
       "      <td>51921</td>\n",
       "      <td>2001 QU90</td>\n",
       "      <td>0.001334</td>\n",
       "      <td>2.669306</td>\n",
       "      <td>0.217361</td>\n",
       "      <td>0.499554</td>\n",
       "      <td>4.699703</td>\n",
       "      <td>2.450796</td>\n",
       "      <td>-1.133491</td>\n",
       "      <td>58600.0</td>\n",
       "      <td>0.018009</td>\n",
       "    </tr>\n",
       "    <tr>\n",
       "      <th>1</th>\n",
       "      <td>59244</td>\n",
       "      <td>59244</td>\n",
       "      <td>1999 CG6</td>\n",
       "      <td>0.000114</td>\n",
       "      <td>2.634727</td>\n",
       "      <td>0.262503</td>\n",
       "      <td>0.465045</td>\n",
       "      <td>5.738298</td>\n",
       "      <td>1.766995</td>\n",
       "      <td>-1.601363</td>\n",
       "      <td>58600.0</td>\n",
       "      <td>0.033423</td>\n",
       "    </tr>\n",
       "    <tr>\n",
       "      <th>2</th>\n",
       "      <td>15786</td>\n",
       "      <td>15786</td>\n",
       "      <td>1993 RS</td>\n",
       "      <td>0.002329</td>\n",
       "      <td>1.883227</td>\n",
       "      <td>0.047655</td>\n",
       "      <td>0.392360</td>\n",
       "      <td>6.134689</td>\n",
       "      <td>0.804823</td>\n",
       "      <td>-1.246069</td>\n",
       "      <td>58600.0</td>\n",
       "      <td>0.032022</td>\n",
       "    </tr>\n",
       "    <tr>\n",
       "      <th>3</th>\n",
       "      <td>3904</td>\n",
       "      <td>183376</td>\n",
       "      <td>2002 XM30</td>\n",
       "      <td>0.005325</td>\n",
       "      <td>2.629361</td>\n",
       "      <td>0.151293</td>\n",
       "      <td>0.251135</td>\n",
       "      <td>4.998281</td>\n",
       "      <td>2.500687</td>\n",
       "      <td>-1.282352</td>\n",
       "      <td>58600.0</td>\n",
       "      <td>1.029664</td>\n",
       "    </tr>\n",
       "    <tr>\n",
       "      <th>4</th>\n",
       "      <td>142999</td>\n",
       "      <td>142999</td>\n",
       "      <td>2002 VZ98</td>\n",
       "      <td>0.000089</td>\n",
       "      <td>2.619944</td>\n",
       "      <td>0.191376</td>\n",
       "      <td>0.514017</td>\n",
       "      <td>0.238022</td>\n",
       "      <td>0.946463</td>\n",
       "      <td>-1.299301</td>\n",
       "      <td>58600.0</td>\n",
       "      <td>0.004076</td>\n",
       "    </tr>\n",
       "    <tr>\n",
       "      <th>...</th>\n",
       "      <td>...</td>\n",
       "      <td>...</td>\n",
       "      <td>...</td>\n",
       "      <td>...</td>\n",
       "      <td>...</td>\n",
       "      <td>...</td>\n",
       "      <td>...</td>\n",
       "      <td>...</td>\n",
       "      <td>...</td>\n",
       "      <td>...</td>\n",
       "      <td>...</td>\n",
       "      <td>...</td>\n",
       "    </tr>\n",
       "    <tr>\n",
       "      <th>59</th>\n",
       "      <td>11952</td>\n",
       "      <td>11952</td>\n",
       "      <td>1994 AM3</td>\n",
       "      <td>0.003118</td>\n",
       "      <td>2.219650</td>\n",
       "      <td>0.086091</td>\n",
       "      <td>0.117967</td>\n",
       "      <td>0.042442</td>\n",
       "      <td>2.904823</td>\n",
       "      <td>-3.016580</td>\n",
       "      <td>58600.0</td>\n",
       "      <td>0.285117</td>\n",
       "    </tr>\n",
       "    <tr>\n",
       "      <th>60</th>\n",
       "      <td>134815</td>\n",
       "      <td>323805</td>\n",
       "      <td>2005 QT165</td>\n",
       "      <td>0.007714</td>\n",
       "      <td>2.728667</td>\n",
       "      <td>0.140163</td>\n",
       "      <td>0.458260</td>\n",
       "      <td>0.302517</td>\n",
       "      <td>0.496076</td>\n",
       "      <td>-0.584965</td>\n",
       "      <td>58600.0</td>\n",
       "      <td>0.934417</td>\n",
       "    </tr>\n",
       "    <tr>\n",
       "      <th>61</th>\n",
       "      <td>27860</td>\n",
       "      <td>27860</td>\n",
       "      <td>1995 BV2</td>\n",
       "      <td>0.000322</td>\n",
       "      <td>2.619406</td>\n",
       "      <td>0.096185</td>\n",
       "      <td>0.200633</td>\n",
       "      <td>5.541400</td>\n",
       "      <td>3.266046</td>\n",
       "      <td>3.948770</td>\n",
       "      <td>58600.0</td>\n",
       "      <td>0.027114</td>\n",
       "    </tr>\n",
       "    <tr>\n",
       "      <th>62</th>\n",
       "      <td>85937</td>\n",
       "      <td>85937</td>\n",
       "      <td>1999 DL1</td>\n",
       "      <td>0.001699</td>\n",
       "      <td>2.342291</td>\n",
       "      <td>0.197267</td>\n",
       "      <td>0.439063</td>\n",
       "      <td>5.279693</td>\n",
       "      <td>3.210025</td>\n",
       "      <td>3.947687</td>\n",
       "      <td>58600.0</td>\n",
       "      <td>0.047283</td>\n",
       "    </tr>\n",
       "    <tr>\n",
       "      <th>63</th>\n",
       "      <td>72911</td>\n",
       "      <td>72911</td>\n",
       "      <td>2001 OC32</td>\n",
       "      <td>0.000781</td>\n",
       "      <td>3.155569</td>\n",
       "      <td>0.086495</td>\n",
       "      <td>0.262050</td>\n",
       "      <td>5.311936</td>\n",
       "      <td>2.108568</td>\n",
       "      <td>-1.020687</td>\n",
       "      <td>58600.0</td>\n",
       "      <td>0.012112</td>\n",
       "    </tr>\n",
       "  </tbody>\n",
       "</table>\n",
       "<p>64 rows × 12 columns</p>\n",
       "</div>"
      ],
      "text/plain": [
       "    element_id  nearest_ast_num nearest_ast_name  nearest_ast_dist         a  \\\n",
       "0        51921            51921        2001 QU90          0.001334  2.669306   \n",
       "1        59244            59244         1999 CG6          0.000114  2.634727   \n",
       "2        15786            15786          1993 RS          0.002329  1.883227   \n",
       "3         3904           183376        2002 XM30          0.005325  2.629361   \n",
       "4       142999           142999        2002 VZ98          0.000089  2.619944   \n",
       "..         ...              ...              ...               ...       ...   \n",
       "59       11952            11952         1994 AM3          0.003118  2.219650   \n",
       "60      134815           323805       2005 QT165          0.007714  2.728667   \n",
       "61       27860            27860         1995 BV2          0.000322  2.619406   \n",
       "62       85937            85937         1999 DL1          0.001699  2.342291   \n",
       "63       72911            72911        2001 OC32          0.000781  3.155569   \n",
       "\n",
       "           e       inc     Omega     omega         f    epoch  \\\n",
       "0   0.217361  0.499554  4.699703  2.450796 -1.133491  58600.0   \n",
       "1   0.262503  0.465045  5.738298  1.766995 -1.601363  58600.0   \n",
       "2   0.047655  0.392360  6.134689  0.804823 -1.246069  58600.0   \n",
       "3   0.151293  0.251135  4.998281  2.500687 -1.282352  58600.0   \n",
       "4   0.191376  0.514017  0.238022  0.946463 -1.299301  58600.0   \n",
       "..       ...       ...       ...       ...       ...      ...   \n",
       "59  0.086091  0.117967  0.042442  2.904823 -3.016580  58600.0   \n",
       "60  0.140163  0.458260  0.302517  0.496076 -0.584965  58600.0   \n",
       "61  0.096185  0.200633  5.541400  3.266046  3.948770  58600.0   \n",
       "62  0.197267  0.439063  5.279693  3.210025  3.947687  58600.0   \n",
       "63  0.086495  0.262050  5.311936  2.108568 -1.020687  58600.0   \n",
       "\n",
       "    nearest_ast_q_norm  \n",
       "0             0.018009  \n",
       "1             0.033423  \n",
       "2             0.032022  \n",
       "3             1.029664  \n",
       "4             0.004076  \n",
       "..                 ...  \n",
       "59            0.285117  \n",
       "60            0.934417  \n",
       "61            0.027114  \n",
       "62            0.047283  \n",
       "63            0.012112  \n",
       "\n",
       "[64 rows x 12 columns]"
      ]
     },
     "execution_count": 47,
     "metadata": {},
     "output_type": "execute_result"
    }
   ],
   "source": [
    "# Review asteroids nearest to the fitted elements\n",
    "elts_near"
   ]
  },
  {
   "cell_type": "code",
   "execution_count": 48,
   "metadata": {},
   "outputs": [
    {
     "data": {
      "text/html": [
       "<div>\n",
       "<style scoped>\n",
       "    .dataframe tbody tr th:only-of-type {\n",
       "        vertical-align: middle;\n",
       "    }\n",
       "\n",
       "    .dataframe tbody tr th {\n",
       "        vertical-align: top;\n",
       "    }\n",
       "\n",
       "    .dataframe thead th {\n",
       "        text-align: right;\n",
       "    }\n",
       "</style>\n",
       "<table border=\"1\" class=\"dataframe\">\n",
       "  <thead>\n",
       "    <tr style=\"text-align: right;\">\n",
       "      <th></th>\n",
       "      <th>element_id</th>\n",
       "      <th>a</th>\n",
       "      <th>e</th>\n",
       "      <th>inc</th>\n",
       "      <th>Omega</th>\n",
       "      <th>omega</th>\n",
       "      <th>f</th>\n",
       "      <th>epoch</th>\n",
       "      <th>num_hits</th>\n",
       "      <th>R</th>\n",
       "      <th>...</th>\n",
       "      <th>thresh_s</th>\n",
       "      <th>thresh_deg</th>\n",
       "      <th>thresh_sec</th>\n",
       "      <th>log_like</th>\n",
       "      <th>hits</th>\n",
       "      <th>H</th>\n",
       "      <th>sigma_mag</th>\n",
       "      <th>nearest_ast_num</th>\n",
       "      <th>nearest_ast_dist</th>\n",
       "      <th>nearest_ast_q_norm</th>\n",
       "    </tr>\n",
       "  </thead>\n",
       "  <tbody>\n",
       "    <tr>\n",
       "      <th>0</th>\n",
       "      <td>51921</td>\n",
       "      <td>2.675046</td>\n",
       "      <td>0.218450</td>\n",
       "      <td>0.499993</td>\n",
       "      <td>4.699408</td>\n",
       "      <td>2.453120</td>\n",
       "      <td>-1.134141</td>\n",
       "      <td>58600.0</td>\n",
       "      <td>218.098709</td>\n",
       "      <td>0.000640</td>\n",
       "      <td>...</td>\n",
       "      <td>0.009888</td>\n",
       "      <td>0.566537</td>\n",
       "      <td>2039.532593</td>\n",
       "      <td>609.789307</td>\n",
       "      <td>192.484192</td>\n",
       "      <td>14.370741</td>\n",
       "      <td>3.920355</td>\n",
       "      <td>51921</td>\n",
       "      <td>0.001334</td>\n",
       "      <td>0.018009</td>\n",
       "    </tr>\n",
       "    <tr>\n",
       "      <th>1</th>\n",
       "      <td>59244</td>\n",
       "      <td>2.634402</td>\n",
       "      <td>0.262740</td>\n",
       "      <td>0.464963</td>\n",
       "      <td>5.738107</td>\n",
       "      <td>1.770300</td>\n",
       "      <td>-1.604035</td>\n",
       "      <td>58600.0</td>\n",
       "      <td>189.277298</td>\n",
       "      <td>0.000528</td>\n",
       "      <td>...</td>\n",
       "      <td>0.004279</td>\n",
       "      <td>0.245144</td>\n",
       "      <td>882.517334</td>\n",
       "      <td>532.247925</td>\n",
       "      <td>189.465775</td>\n",
       "      <td>16.223373</td>\n",
       "      <td>3.979937</td>\n",
       "      <td>59244</td>\n",
       "      <td>0.000114</td>\n",
       "      <td>0.033423</td>\n",
       "    </tr>\n",
       "    <tr>\n",
       "      <th>2</th>\n",
       "      <td>15786</td>\n",
       "      <td>1.889393</td>\n",
       "      <td>0.049567</td>\n",
       "      <td>0.392994</td>\n",
       "      <td>6.134999</td>\n",
       "      <td>0.799119</td>\n",
       "      <td>-1.238233</td>\n",
       "      <td>58600.0</td>\n",
       "      <td>243.072052</td>\n",
       "      <td>0.000901</td>\n",
       "      <td>...</td>\n",
       "      <td>0.027122</td>\n",
       "      <td>1.554050</td>\n",
       "      <td>5594.581055</td>\n",
       "      <td>598.224670</td>\n",
       "      <td>190.409561</td>\n",
       "      <td>14.719053</td>\n",
       "      <td>4.188690</td>\n",
       "      <td>15786</td>\n",
       "      <td>0.002329</td>\n",
       "      <td>0.032022</td>\n",
       "    </tr>\n",
       "    <tr>\n",
       "      <th>3</th>\n",
       "      <td>3904</td>\n",
       "      <td>2.633085</td>\n",
       "      <td>0.112778</td>\n",
       "      <td>0.276166</td>\n",
       "      <td>5.456234</td>\n",
       "      <td>2.206308</td>\n",
       "      <td>-1.354316</td>\n",
       "      <td>58600.0</td>\n",
       "      <td>227.127686</td>\n",
       "      <td>0.002998</td>\n",
       "      <td>...</td>\n",
       "      <td>0.034905</td>\n",
       "      <td>2.000000</td>\n",
       "      <td>7199.998535</td>\n",
       "      <td>140.794662</td>\n",
       "      <td>0.000000</td>\n",
       "      <td>16.939259</td>\n",
       "      <td>3.575644</td>\n",
       "      <td>183376</td>\n",
       "      <td>0.005325</td>\n",
       "      <td>1.029664</td>\n",
       "    </tr>\n",
       "    <tr>\n",
       "      <th>4</th>\n",
       "      <td>142999</td>\n",
       "      <td>2.619658</td>\n",
       "      <td>0.191178</td>\n",
       "      <td>0.513962</td>\n",
       "      <td>0.237874</td>\n",
       "      <td>0.944763</td>\n",
       "      <td>-1.298294</td>\n",
       "      <td>58600.0</td>\n",
       "      <td>205.016174</td>\n",
       "      <td>0.000838</td>\n",
       "      <td>...</td>\n",
       "      <td>0.011942</td>\n",
       "      <td>0.684220</td>\n",
       "      <td>2463.191650</td>\n",
       "      <td>361.568115</td>\n",
       "      <td>107.172722</td>\n",
       "      <td>15.660192</td>\n",
       "      <td>3.983000</td>\n",
       "      <td>142999</td>\n",
       "      <td>0.000089</td>\n",
       "      <td>0.004076</td>\n",
       "    </tr>\n",
       "    <tr>\n",
       "      <th>...</th>\n",
       "      <td>...</td>\n",
       "      <td>...</td>\n",
       "      <td>...</td>\n",
       "      <td>...</td>\n",
       "      <td>...</td>\n",
       "      <td>...</td>\n",
       "      <td>...</td>\n",
       "      <td>...</td>\n",
       "      <td>...</td>\n",
       "      <td>...</td>\n",
       "      <td>...</td>\n",
       "      <td>...</td>\n",
       "      <td>...</td>\n",
       "      <td>...</td>\n",
       "      <td>...</td>\n",
       "      <td>...</td>\n",
       "      <td>...</td>\n",
       "      <td>...</td>\n",
       "      <td>...</td>\n",
       "      <td>...</td>\n",
       "      <td>...</td>\n",
       "    </tr>\n",
       "    <tr>\n",
       "      <th>59</th>\n",
       "      <td>11952</td>\n",
       "      <td>2.226659</td>\n",
       "      <td>0.062010</td>\n",
       "      <td>0.116723</td>\n",
       "      <td>0.035377</td>\n",
       "      <td>2.878006</td>\n",
       "      <td>-3.014315</td>\n",
       "      <td>58600.0</td>\n",
       "      <td>1023.999939</td>\n",
       "      <td>0.006515</td>\n",
       "      <td>...</td>\n",
       "      <td>0.034905</td>\n",
       "      <td>2.000000</td>\n",
       "      <td>7199.998535</td>\n",
       "      <td>379.601379</td>\n",
       "      <td>0.000000</td>\n",
       "      <td>14.368334</td>\n",
       "      <td>4.261757</td>\n",
       "      <td>11952</td>\n",
       "      <td>0.003118</td>\n",
       "      <td>0.285117</td>\n",
       "    </tr>\n",
       "    <tr>\n",
       "      <th>60</th>\n",
       "      <td>134815</td>\n",
       "      <td>2.724872</td>\n",
       "      <td>0.194788</td>\n",
       "      <td>0.510490</td>\n",
       "      <td>0.258896</td>\n",
       "      <td>0.659054</td>\n",
       "      <td>-0.985220</td>\n",
       "      <td>58600.0</td>\n",
       "      <td>454.349121</td>\n",
       "      <td>0.009013</td>\n",
       "      <td>...</td>\n",
       "      <td>0.034905</td>\n",
       "      <td>2.000000</td>\n",
       "      <td>7199.998535</td>\n",
       "      <td>144.314880</td>\n",
       "      <td>0.000000</td>\n",
       "      <td>15.891478</td>\n",
       "      <td>3.665882</td>\n",
       "      <td>323805</td>\n",
       "      <td>0.007714</td>\n",
       "      <td>0.934417</td>\n",
       "    </tr>\n",
       "    <tr>\n",
       "      <th>61</th>\n",
       "      <td>27860</td>\n",
       "      <td>2.618529</td>\n",
       "      <td>0.093890</td>\n",
       "      <td>0.200662</td>\n",
       "      <td>5.541882</td>\n",
       "      <td>3.264583</td>\n",
       "      <td>3.948677</td>\n",
       "      <td>58600.0</td>\n",
       "      <td>151.899857</td>\n",
       "      <td>0.000302</td>\n",
       "      <td>...</td>\n",
       "      <td>0.003523</td>\n",
       "      <td>0.201834</td>\n",
       "      <td>726.601929</td>\n",
       "      <td>408.585968</td>\n",
       "      <td>148.230881</td>\n",
       "      <td>15.084631</td>\n",
       "      <td>3.990959</td>\n",
       "      <td>27860</td>\n",
       "      <td>0.000322</td>\n",
       "      <td>0.027114</td>\n",
       "    </tr>\n",
       "    <tr>\n",
       "      <th>62</th>\n",
       "      <td>85937</td>\n",
       "      <td>2.336179</td>\n",
       "      <td>0.193380</td>\n",
       "      <td>0.438922</td>\n",
       "      <td>5.280168</td>\n",
       "      <td>3.210401</td>\n",
       "      <td>3.943785</td>\n",
       "      <td>58600.0</td>\n",
       "      <td>173.076828</td>\n",
       "      <td>0.000958</td>\n",
       "      <td>...</td>\n",
       "      <td>0.011126</td>\n",
       "      <td>0.637500</td>\n",
       "      <td>2294.999756</td>\n",
       "      <td>423.030579</td>\n",
       "      <td>149.177841</td>\n",
       "      <td>16.095934</td>\n",
       "      <td>3.537576</td>\n",
       "      <td>85937</td>\n",
       "      <td>0.001699</td>\n",
       "      <td>0.047283</td>\n",
       "    </tr>\n",
       "    <tr>\n",
       "      <th>63</th>\n",
       "      <td>72911</td>\n",
       "      <td>3.160070</td>\n",
       "      <td>0.087326</td>\n",
       "      <td>0.262138</td>\n",
       "      <td>5.311819</td>\n",
       "      <td>2.107622</td>\n",
       "      <td>-1.018728</td>\n",
       "      <td>58600.0</td>\n",
       "      <td>158.272934</td>\n",
       "      <td>0.000585</td>\n",
       "      <td>...</td>\n",
       "      <td>0.008332</td>\n",
       "      <td>0.477418</td>\n",
       "      <td>1718.705933</td>\n",
       "      <td>360.000763</td>\n",
       "      <td>145.453262</td>\n",
       "      <td>14.040302</td>\n",
       "      <td>3.994172</td>\n",
       "      <td>72911</td>\n",
       "      <td>0.000781</td>\n",
       "      <td>0.012112</td>\n",
       "    </tr>\n",
       "  </tbody>\n",
       "</table>\n",
       "<p>64 rows × 24 columns</p>\n",
       "</div>"
      ],
      "text/plain": [
       "    element_id         a         e       inc     Omega     omega         f  \\\n",
       "0        51921  2.675046  0.218450  0.499993  4.699408  2.453120 -1.134141   \n",
       "1        59244  2.634402  0.262740  0.464963  5.738107  1.770300 -1.604035   \n",
       "2        15786  1.889393  0.049567  0.392994  6.134999  0.799119 -1.238233   \n",
       "3         3904  2.633085  0.112778  0.276166  5.456234  2.206308 -1.354316   \n",
       "4       142999  2.619658  0.191178  0.513962  0.237874  0.944763 -1.298294   \n",
       "..         ...       ...       ...       ...       ...       ...       ...   \n",
       "59       11952  2.226659  0.062010  0.116723  0.035377  2.878006 -3.014315   \n",
       "60      134815  2.724872  0.194788  0.510490  0.258896  0.659054 -0.985220   \n",
       "61       27860  2.618529  0.093890  0.200662  5.541882  3.264583  3.948677   \n",
       "62       85937  2.336179  0.193380  0.438922  5.280168  3.210401  3.943785   \n",
       "63       72911  3.160070  0.087326  0.262138  5.311819  2.107622 -1.018728   \n",
       "\n",
       "      epoch     num_hits         R  ...  thresh_s  thresh_deg   thresh_sec  \\\n",
       "0   58600.0   218.098709  0.000640  ...  0.009888    0.566537  2039.532593   \n",
       "1   58600.0   189.277298  0.000528  ...  0.004279    0.245144   882.517334   \n",
       "2   58600.0   243.072052  0.000901  ...  0.027122    1.554050  5594.581055   \n",
       "3   58600.0   227.127686  0.002998  ...  0.034905    2.000000  7199.998535   \n",
       "4   58600.0   205.016174  0.000838  ...  0.011942    0.684220  2463.191650   \n",
       "..      ...          ...       ...  ...       ...         ...          ...   \n",
       "59  58600.0  1023.999939  0.006515  ...  0.034905    2.000000  7199.998535   \n",
       "60  58600.0   454.349121  0.009013  ...  0.034905    2.000000  7199.998535   \n",
       "61  58600.0   151.899857  0.000302  ...  0.003523    0.201834   726.601929   \n",
       "62  58600.0   173.076828  0.000958  ...  0.011126    0.637500  2294.999756   \n",
       "63  58600.0   158.272934  0.000585  ...  0.008332    0.477418  1718.705933   \n",
       "\n",
       "      log_like        hits          H  sigma_mag  nearest_ast_num  \\\n",
       "0   609.789307  192.484192  14.370741   3.920355            51921   \n",
       "1   532.247925  189.465775  16.223373   3.979937            59244   \n",
       "2   598.224670  190.409561  14.719053   4.188690            15786   \n",
       "3   140.794662    0.000000  16.939259   3.575644           183376   \n",
       "4   361.568115  107.172722  15.660192   3.983000           142999   \n",
       "..         ...         ...        ...        ...              ...   \n",
       "59  379.601379    0.000000  14.368334   4.261757            11952   \n",
       "60  144.314880    0.000000  15.891478   3.665882           323805   \n",
       "61  408.585968  148.230881  15.084631   3.990959            27860   \n",
       "62  423.030579  149.177841  16.095934   3.537576            85937   \n",
       "63  360.000763  145.453262  14.040302   3.994172            72911   \n",
       "\n",
       "    nearest_ast_dist  nearest_ast_q_norm  \n",
       "0           0.001334            0.018009  \n",
       "1           0.000114            0.033423  \n",
       "2           0.002329            0.032022  \n",
       "3           0.005325            1.029664  \n",
       "4           0.000089            0.004076  \n",
       "..               ...                 ...  \n",
       "59          0.003118            0.285117  \n",
       "60          0.007714            0.934417  \n",
       "61          0.000322            0.027114  \n",
       "62          0.001699            0.047283  \n",
       "63          0.000781            0.012112  \n",
       "\n",
       "[64 rows x 24 columns]"
      ]
     },
     "execution_count": 48,
     "metadata": {},
     "output_type": "execute_result"
    }
   ],
   "source": [
    "# Review fitted elements including nearest asteroid\n",
    "elts_fit"
   ]
  },
  {
   "cell_type": "code",
   "execution_count": null,
   "metadata": {},
   "outputs": [],
   "source": [
    "# Filter for only the good ones\n",
    "mask = (elts_fit.log_like > 200) & (elts_fit.R_sec < 120)\n",
    "elts_fit[mask]"
   ]
  },
  {
   "cell_type": "code",
   "execution_count": null,
   "metadata": {},
   "outputs": [],
   "source": [
    "# Filter for incomplete convergence\n",
    "mask = (elts_fit.log_like > 200) & (elts_fit.R_sec >= 60)\n",
    "elts_fit[mask]"
   ]
  },
  {
   "cell_type": "markdown",
   "metadata": {},
   "source": [
    "## Visualize Error vs. Nearest Asteroid"
   ]
  },
  {
   "cell_type": "code",
   "execution_count": null,
   "metadata": {},
   "outputs": [],
   "source": [
    "model.elts_near_ast"
   ]
  },
  {
   "cell_type": "code",
   "execution_count": null,
   "metadata": {},
   "outputs": [],
   "source": [
    "use_near_ast_dist = True\n",
    "is_log = False\n",
    "plot_type = 'cart'\n",
    "self = model\n",
    "\n",
    "# If elts_true wasn't specified, it defaults to nearest asteroid elements\n",
    "elts_true = self.elts_near_ast\n",
    "\n",
    "# Calculate distance error with selected method: live or from near_ast\n",
    "if use_near_ast_dist:\n",
    "    q_err = self.elts_near_ast.nearest_ast_dist\n",
    "    calc_method = '20 Years of Monthly Dates'\n",
    "else:\n",
    "    hist_err, q_err = self.calc_error(elts_true)\n",
    "    calc_method = 'Observation Dates'\n",
    "\n",
    "# Compute the q_norm error\n",
    "q_norm_err = elt_q_norm(elts=self.elts_fit, ast_num=model.elts_near_ast.nearest_ast_num)\n",
    "\n",
    "# Choose between Cartesian distance and q_norm\n",
    "err_tbl = {\n",
    "    'cart': q_err,\n",
    "    'cov': q_norm_err,\n",
    "}\n",
    "err = err_tbl[plot_type]\n",
    "\n",
    "# Get element numbers and mean error over the whole batch\n",
    "element_num = np.arange(self.batch_size, dtype=np.int32)\n",
    "mean_err = np.exp(np.mean(np.log(err+2**-40))) if is_log else np.mean(err)\n",
    "\n",
    "# Type of error\n",
    "is_q_norm: bool = (plot_type == 'cov')\n",
    "# error_type = 'Covariance' if is_q_norm else 'Cartesian'\n",
    "error_tag = 'Covariance Error' if is_q_norm else 'Mean Position Error in AU'\n",
    "\n",
    "# Caption for y-axis\n",
    "ylabel_prefix = 'Inverse ' if is_log else ''\n",
    "ylabel_suffix = ' (log scaled)' if is_log else ''\n",
    "ylabel = f'{ylabel_prefix}{error_tag}{ylabel_suffix}'\n",
    "\n",
    "# Plot selected error\n",
    "fig, ax = plt.subplots()\n",
    "ax.set_title(f'{error_tag} vs. Elements on {calc_method}')\n",
    "ax.set_xlabel('Element')\n",
    "ax.set_ylabel(ylabel)\n",
    "if is_log:\n",
    "    ax.bar(x=element_num, height=1.0/err, label='elt', color='blue')\n",
    "    ax.axhline(y=1.0/mean_err, label='mean', color='red')\n",
    "    ax.set_yscale('log', basey=2)\n",
    "else:\n",
    "    ax.bar(x=element_num, height=err, label='elt', color='blue')\n",
    "    ax.axhline(y=mean_err, label='mean', color='red')\n",
    "ax.grid()\n",
    "ax.legend()\n",
    "# fig.savefig('../figs/training/q_error.png', bbox_inches='tight')\n",
    "plt.show()"
   ]
  },
  {
   "cell_type": "code",
   "execution_count": 50,
   "metadata": {},
   "outputs": [
    {
     "data": {
      "image/png": "[encoded data removed]",
      "text/plain": [
       "<Figure size 1152x720 with 1 Axes>"
      ]
     },
     "metadata": {
      "needs_background": "light"
     },
     "output_type": "display_data"
    }
   ],
   "source": [
    "# Plot position error vs. known elements\n",
    "fig, ax = model.plot_q_error(plot_type='cart', is_log=True, use_near_ast_dist=True)"
   ]
  },
  {
   "cell_type": "code",
   "execution_count": 51,
   "metadata": {},
   "outputs": [
    {
     "data": {
      "image/png": "[encoded data removed]",
      "text/plain": [
       "<Figure size 1152x720 with 1 Axes>"
      ]
     },
     "metadata": {
      "needs_background": "light"
     },
     "output_type": "display_data"
    }
   ],
   "source": [
    "# Plot position error vs. known elements\n",
    "fig, ax = model.plot_q_error(plot_type='cov', is_log=True, use_near_ast_dist=True)"
   ]
  },
  {
   "cell_type": "code",
   "execution_count": 52,
   "metadata": {},
   "outputs": [
    {
     "data": {
      "image/png": "[encoded data removed]",
      "text/plain": [
       "<Figure size 1152x720 with 1 Axes>"
      ]
     },
     "metadata": {
      "needs_background": "light"
     },
     "output_type": "display_data"
    }
   ],
   "source": [
    "# Plot error in orbital elements\n",
    "fig, ax = model.plot_elt_error(elt_name='a', is_log=True, elt_num=None)"
   ]
  },
  {
   "cell_type": "code",
   "execution_count": null,
   "metadata": {},
   "outputs": [],
   "source": [
    "# Plot error in orbital elements\n",
    "fig, ax = model.plot_elt_error(elt_name='e', is_log=True, elt_num=None)"
   ]
  },
  {
   "cell_type": "code",
   "execution_count": null,
   "metadata": {},
   "outputs": [],
   "source": []
  }
 ],
 "metadata": {
  "kernelspec": {
   "display_name": "Python [conda env:kepler]",
   "language": "python",
   "name": "conda-env-kepler-py"
  },
  "language_info": {
   "codemirror_mode": {
    "name": "ipython",
    "version": 3
   },
   "file_extension": ".py",
   "mimetype": "text/x-python",
   "name": "python",
   "nbconvert_exporter": "python",
   "pygments_lexer": "ipython3",
   "version": "3.7.6"
  }
 },
 "nbformat": 4,
 "nbformat_minor": 4
}
