{
 "cells": [
  {
   "cell_type": "code",
   "execution_count": null,
   "metadata": {},
   "outputs": [],
   "source": [
    "# Core\n",
    "import numpy as np\n",
    "import pandas as pd\n",
    "\n",
    "# Tensorflow / ML\n",
    "import tensorflow as tf\n",
    "from tensorflow.python.keras import backend as K\n",
    "\n",
    "# Plotting\n",
    "import matplotlib.pyplot as plt\n",
    "import matplotlib as mpl\n",
    "\n",
    "# Utility\n",
    "import time\n",
    "\n",
    "# MSE Imports\n",
    "import kepler_sieve\n",
    "from asteroid_element import load_ast_elt\n",
    "from candidate_element import asteroid_elts, perturb_elts, random_elts, elts_add_mixture_params, elts_add_H\n",
    "from ztf_ast import load_ztf_nearest_ast, calc_hit_freq\n",
    "from ztf_element import load_ztf_batch, make_ztf_batch, ztf_score_by_elt, ztf_elt_summary\n",
    "from asteroid_model import AsteroidPosition, AsteroidDirection, make_model_ast_pos\n",
    "from asteroid_search_layers import CandidateElements, MixtureParameters, TrajectoryScore\n",
    "from asteroid_search_model import AsteroidSearchModel, make_opt_adam\n",
    "from asteroid_search_report import traj_diff\n",
    "from nearest_asteroid import nearest_ast_elt_cart, nearest_ast_elt_cov, elt_q_norm\n",
    "from element_eda import score_by_elt\n",
    "from asteroid_dataframe import calc_ast_data, spline_ast_vec_df\n",
    "from astro_utils import deg2dist, dist2deg, dist2sec"
   ]
  },
  {
   "cell_type": "code",
   "execution_count": 2,
   "metadata": {},
   "outputs": [],
   "source": [
    "# Aliases\n",
    "keras = tf.keras\n",
    "\n",
    "# Constants\n",
    "dtype = tf.float32\n",
    "dtype_np = np.float32\n",
    "space_dims = 3"
   ]
  },
  {
   "cell_type": "code",
   "execution_count": 3,
   "metadata": {},
   "outputs": [],
   "source": [
    "# Set plot style variables\n",
    "mpl.rcParams['figure.figsize'] = [16.0, 10.0]\n",
    "mpl.rcParams['font.size'] = 16"
   ]
  },
  {
   "cell_type": "markdown",
   "metadata": {},
   "source": [
    "## Load ZTF Data and Batch of Orbital Elements"
   ]
  },
  {
   "cell_type": "code",
   "execution_count": 4,
   "metadata": {},
   "outputs": [],
   "source": [
    "# Load orbital elements for known asteroids\n",
    "ast_elt = load_ast_elt()\n",
    "\n",
    "# Number of asteroids\n",
    "N_ast = ast_elt.shape[0]"
   ]
  },
  {
   "cell_type": "code",
   "execution_count": 5,
   "metadata": {},
   "outputs": [],
   "source": [
    "# Load ztf nearest asteroid data\n",
    "ztf_ast = load_ztf_nearest_ast()"
   ]
  },
  {
   "cell_type": "code",
   "execution_count": 6,
   "metadata": {},
   "outputs": [],
   "source": [
    "# Asteroid numbers and hit counts\n",
    "ast_num, hit_count = calc_hit_freq(ztf=ztf_ast, thresh_sec=2.0)\n",
    "\n",
    "# Sort the hit counts in descending order and find the top batch_size\n",
    "idx = np.argsort(hit_count)[::-1]\n",
    "\n",
    "# Extract the asteroid number and hit count for this batch\n",
    "ast_num_best = ast_num[idx]\n",
    "hit_count_best = hit_count[idx]"
   ]
  },
  {
   "cell_type": "code",
   "execution_count": 7,
   "metadata": {},
   "outputs": [],
   "source": [
    "# Parameters to build elements batch\n",
    "batch_size = 64\n",
    "\n",
    "# Batch of unperturbed elements\n",
    "elts_ast = asteroid_elts(ast_nums=ast_num_best[0:batch_size])"
   ]
  },
  {
   "cell_type": "code",
   "execution_count": 8,
   "metadata": {},
   "outputs": [],
   "source": [
    "# # Review unperturbed elements\n",
    "# elts_ast"
   ]
  },
  {
   "cell_type": "code",
   "execution_count": 9,
   "metadata": {},
   "outputs": [],
   "source": [
    "# Inputs to perturb elements: large\n",
    "sigma_a = 0.05\n",
    "sigma_e = 0.01\n",
    "sigma_inc_deg = 0.25\n",
    "sigma_f_deg = 1.0\n",
    "sigma_Omega_deg = 1.0\n",
    "sigma_omega_deg = 1.0\n",
    "mask_pert = None\n",
    "random_seed = 42\n",
    "\n",
    "# Perturb orbital elements\n",
    "elts_pert= perturb_elts(elts_ast, sigma_a=sigma_a, sigma_e=sigma_e, \n",
    "                    sigma_inc_deg=sigma_inc_deg, sigma_f_deg=sigma_f_deg, \n",
    "                    sigma_Omega_deg=sigma_Omega_deg, sigma_omega_deg=sigma_omega_deg,\n",
    "                    mask_pert=mask_pert, random_seed=random_seed)"
   ]
  },
  {
   "cell_type": "code",
   "execution_count": 10,
   "metadata": {},
   "outputs": [],
   "source": [
    "# Choose which elements to search on\n",
    "# elts = elts_pert\n",
    "elts = elts_ast"
   ]
  },
  {
   "cell_type": "code",
   "execution_count": 11,
   "metadata": {},
   "outputs": [],
   "source": [
    "# Search for nearest asteroids to these elements\n",
    "# elts_near = nearest_ast_elt(elts)"
   ]
  },
  {
   "cell_type": "code",
   "execution_count": 12,
   "metadata": {},
   "outputs": [],
   "source": [
    "# Review selected initial candidate elements, including the nearest asteroid information\n",
    "# elts"
   ]
  },
  {
   "cell_type": "code",
   "execution_count": 13,
   "metadata": {},
   "outputs": [],
   "source": [
    "# Review nearest asteroid to these candidate elements\n",
    "# elts_near"
   ]
  },
  {
   "cell_type": "code",
   "execution_count": 14,
   "metadata": {},
   "outputs": [],
   "source": [
    "# How many elements are still closest to the original elements?\n",
    "# np.sum(elts.nearest_ast_num == elts.element_id)"
   ]
  },
  {
   "cell_type": "markdown",
   "metadata": {},
   "source": [
    "## Batches of ZTF Data Near Initial Candidate Elements"
   ]
  },
  {
   "cell_type": "code",
   "execution_count": 15,
   "metadata": {},
   "outputs": [],
   "source": [
    "# Arguments to make_ztf_batch\n",
    "thresh_deg = 2.0\n",
    "near_ast = False\n",
    "regenerate = False"
   ]
  },
  {
   "cell_type": "code",
   "execution_count": 16,
   "metadata": {},
   "outputs": [
    {
     "data": {
      "text/html": [
       "<div>\n",
       "<style scoped>\n",
       "    .dataframe tbody tr th:only-of-type {\n",
       "        vertical-align: middle;\n",
       "    }\n",
       "\n",
       "    .dataframe tbody tr th {\n",
       "        vertical-align: top;\n",
       "    }\n",
       "\n",
       "    .dataframe thead th {\n",
       "        text-align: right;\n",
       "    }\n",
       "</style>\n",
       "<table border=\"1\" class=\"dataframe\">\n",
       "  <thead>\n",
       "    <tr style=\"text-align: right;\">\n",
       "      <th></th>\n",
       "      <th>element_id</th>\n",
       "      <th>a</th>\n",
       "      <th>e</th>\n",
       "      <th>inc</th>\n",
       "      <th>Omega</th>\n",
       "      <th>omega</th>\n",
       "      <th>f</th>\n",
       "      <th>epoch</th>\n",
       "    </tr>\n",
       "  </thead>\n",
       "  <tbody>\n",
       "    <tr>\n",
       "      <th>0</th>\n",
       "      <td>51921</td>\n",
       "      <td>2.669306</td>\n",
       "      <td>0.217361</td>\n",
       "      <td>0.499554</td>\n",
       "      <td>4.699703</td>\n",
       "      <td>2.450796</td>\n",
       "      <td>-1.133491</td>\n",
       "      <td>58600.0</td>\n",
       "    </tr>\n",
       "    <tr>\n",
       "      <th>1</th>\n",
       "      <td>59244</td>\n",
       "      <td>2.634727</td>\n",
       "      <td>0.262503</td>\n",
       "      <td>0.465045</td>\n",
       "      <td>5.738298</td>\n",
       "      <td>1.766995</td>\n",
       "      <td>-1.601363</td>\n",
       "      <td>58600.0</td>\n",
       "    </tr>\n",
       "    <tr>\n",
       "      <th>2</th>\n",
       "      <td>15786</td>\n",
       "      <td>1.883227</td>\n",
       "      <td>0.047655</td>\n",
       "      <td>0.392360</td>\n",
       "      <td>6.134689</td>\n",
       "      <td>0.804823</td>\n",
       "      <td>-1.246069</td>\n",
       "      <td>58600.0</td>\n",
       "    </tr>\n",
       "    <tr>\n",
       "      <th>3</th>\n",
       "      <td>3904</td>\n",
       "      <td>2.556387</td>\n",
       "      <td>0.098279</td>\n",
       "      <td>0.261542</td>\n",
       "      <td>5.450163</td>\n",
       "      <td>2.202423</td>\n",
       "      <td>-1.357345</td>\n",
       "      <td>58600.0</td>\n",
       "    </tr>\n",
       "    <tr>\n",
       "      <th>4</th>\n",
       "      <td>142999</td>\n",
       "      <td>2.619944</td>\n",
       "      <td>0.191376</td>\n",
       "      <td>0.514017</td>\n",
       "      <td>0.238022</td>\n",
       "      <td>0.946463</td>\n",
       "      <td>-1.299301</td>\n",
       "      <td>58600.0</td>\n",
       "    </tr>\n",
       "    <tr>\n",
       "      <th>...</th>\n",
       "      <td>...</td>\n",
       "      <td>...</td>\n",
       "      <td>...</td>\n",
       "      <td>...</td>\n",
       "      <td>...</td>\n",
       "      <td>...</td>\n",
       "      <td>...</td>\n",
       "      <td>...</td>\n",
       "    </tr>\n",
       "    <tr>\n",
       "      <th>59</th>\n",
       "      <td>11952</td>\n",
       "      <td>2.219650</td>\n",
       "      <td>0.086091</td>\n",
       "      <td>0.117967</td>\n",
       "      <td>0.042442</td>\n",
       "      <td>2.904823</td>\n",
       "      <td>-3.016580</td>\n",
       "      <td>58600.0</td>\n",
       "    </tr>\n",
       "    <tr>\n",
       "      <th>60</th>\n",
       "      <td>134815</td>\n",
       "      <td>2.612770</td>\n",
       "      <td>0.140831</td>\n",
       "      <td>0.513922</td>\n",
       "      <td>0.272689</td>\n",
       "      <td>0.645552</td>\n",
       "      <td>-0.957836</td>\n",
       "      <td>58600.0</td>\n",
       "    </tr>\n",
       "    <tr>\n",
       "      <th>61</th>\n",
       "      <td>27860</td>\n",
       "      <td>2.619406</td>\n",
       "      <td>0.096185</td>\n",
       "      <td>0.200633</td>\n",
       "      <td>5.541400</td>\n",
       "      <td>3.266046</td>\n",
       "      <td>3.948770</td>\n",
       "      <td>58600.0</td>\n",
       "    </tr>\n",
       "    <tr>\n",
       "      <th>62</th>\n",
       "      <td>85937</td>\n",
       "      <td>2.342291</td>\n",
       "      <td>0.197267</td>\n",
       "      <td>0.439063</td>\n",
       "      <td>5.279693</td>\n",
       "      <td>3.210025</td>\n",
       "      <td>3.947687</td>\n",
       "      <td>58600.0</td>\n",
       "    </tr>\n",
       "    <tr>\n",
       "      <th>63</th>\n",
       "      <td>72911</td>\n",
       "      <td>3.155569</td>\n",
       "      <td>0.086495</td>\n",
       "      <td>0.262050</td>\n",
       "      <td>5.311936</td>\n",
       "      <td>2.108568</td>\n",
       "      <td>-1.020687</td>\n",
       "      <td>58600.0</td>\n",
       "    </tr>\n",
       "  </tbody>\n",
       "</table>\n",
       "<p>64 rows × 8 columns</p>\n",
       "</div>"
      ],
      "text/plain": [
       "    element_id         a         e       inc     Omega     omega         f  \\\n",
       "0        51921  2.669306  0.217361  0.499554  4.699703  2.450796 -1.133491   \n",
       "1        59244  2.634727  0.262503  0.465045  5.738298  1.766995 -1.601363   \n",
       "2        15786  1.883227  0.047655  0.392360  6.134689  0.804823 -1.246069   \n",
       "3         3904  2.556387  0.098279  0.261542  5.450163  2.202423 -1.357345   \n",
       "4       142999  2.619944  0.191376  0.514017  0.238022  0.946463 -1.299301   \n",
       "..         ...       ...       ...       ...       ...       ...       ...   \n",
       "59       11952  2.219650  0.086091  0.117967  0.042442  2.904823 -3.016580   \n",
       "60      134815  2.612770  0.140831  0.513922  0.272689  0.645552 -0.957836   \n",
       "61       27860  2.619406  0.096185  0.200633  5.541400  3.266046  3.948770   \n",
       "62       85937  2.342291  0.197267  0.439063  5.279693  3.210025  3.947687   \n",
       "63       72911  3.155569  0.086495  0.262050  5.311936  2.108568 -1.020687   \n",
       "\n",
       "      epoch  \n",
       "0   58600.0  \n",
       "1   58600.0  \n",
       "2   58600.0  \n",
       "3   58600.0  \n",
       "4   58600.0  \n",
       "..      ...  \n",
       "59  58600.0  \n",
       "60  58600.0  \n",
       "61  58600.0  \n",
       "62  58600.0  \n",
       "63  58600.0  \n",
       "\n",
       "[64 rows x 8 columns]"
      ]
     },
     "execution_count": 16,
     "metadata": {},
     "output_type": "execute_result"
    }
   ],
   "source": [
    "elts"
   ]
  },
  {
   "cell_type": "code",
   "execution_count": 17,
   "metadata": {},
   "outputs": [],
   "source": [
    "# Load perturbed element batch\n",
    "ztf_elt = load_ztf_batch(elts=elts, thresh_deg=thresh_deg, near_ast=near_ast, regenerate=regenerate)"
   ]
  },
  {
   "cell_type": "code",
   "execution_count": 18,
   "metadata": {},
   "outputs": [
    {
     "data": {
      "text/html": [
       "<div>\n",
       "<style scoped>\n",
       "    .dataframe tbody tr th:only-of-type {\n",
       "        vertical-align: middle;\n",
       "    }\n",
       "\n",
       "    .dataframe tbody tr th {\n",
       "        vertical-align: top;\n",
       "    }\n",
       "\n",
       "    .dataframe thead th {\n",
       "        text-align: right;\n",
       "    }\n",
       "</style>\n",
       "<table border=\"1\" class=\"dataframe\">\n",
       "  <thead>\n",
       "    <tr style=\"text-align: right;\">\n",
       "      <th></th>\n",
       "      <th>ztf_id</th>\n",
       "      <th>element_id</th>\n",
       "      <th>ObjectID</th>\n",
       "      <th>CandidateID</th>\n",
       "      <th>TimeStampID</th>\n",
       "      <th>mjd</th>\n",
       "      <th>ra</th>\n",
       "      <th>dec</th>\n",
       "      <th>mag_app</th>\n",
       "      <th>ux</th>\n",
       "      <th>...</th>\n",
       "      <th>vz</th>\n",
       "      <th>elt_ux</th>\n",
       "      <th>elt_uy</th>\n",
       "      <th>elt_uz</th>\n",
       "      <th>elt_r</th>\n",
       "      <th>s</th>\n",
       "      <th>s_sec</th>\n",
       "      <th>z</th>\n",
       "      <th>v</th>\n",
       "      <th>is_hit</th>\n",
       "    </tr>\n",
       "  </thead>\n",
       "  <tbody>\n",
       "    <tr>\n",
       "      <th>0</th>\n",
       "      <td>53851</td>\n",
       "      <td>733</td>\n",
       "      <td>b'ZTF18abnothj'</td>\n",
       "      <td>594197584815010004</td>\n",
       "      <td>5501</td>\n",
       "      <td>58348.197581</td>\n",
       "      <td>266.229165</td>\n",
       "      <td>-13.513802</td>\n",
       "      <td>16.755600</td>\n",
       "      <td>-0.063945</td>\n",
       "      <td>...</td>\n",
       "      <td>0.004080</td>\n",
       "      <td>-0.057300</td>\n",
       "      <td>-0.982042</td>\n",
       "      <td>0.179751</td>\n",
       "      <td>2.234078</td>\n",
       "      <td>0.010624</td>\n",
       "      <td>2191.408734</td>\n",
       "      <td>0.999944</td>\n",
       "      <td>0.092645</td>\n",
       "      <td>False</td>\n",
       "    </tr>\n",
       "    <tr>\n",
       "      <th>1</th>\n",
       "      <td>73603</td>\n",
       "      <td>733</td>\n",
       "      <td>b'ZTF18ablwzmb'</td>\n",
       "      <td>609167834815015007</td>\n",
       "      <td>7226</td>\n",
       "      <td>58363.167836</td>\n",
       "      <td>265.761064</td>\n",
       "      <td>-13.509195</td>\n",
       "      <td>18.339701</td>\n",
       "      <td>-0.071871</td>\n",
       "      <td>...</td>\n",
       "      <td>0.003999</td>\n",
       "      <td>-0.055041</td>\n",
       "      <td>-0.979702</td>\n",
       "      <td>0.192757</td>\n",
       "      <td>2.397172</td>\n",
       "      <td>0.027352</td>\n",
       "      <td>5641.954857</td>\n",
       "      <td>0.999626</td>\n",
       "      <td>0.614061</td>\n",
       "      <td>False</td>\n",
       "    </tr>\n",
       "    <tr>\n",
       "      <th>2</th>\n",
       "      <td>73604</td>\n",
       "      <td>733</td>\n",
       "      <td>b'ZTF18ablwzmb'</td>\n",
       "      <td>594197584815015003</td>\n",
       "      <td>5501</td>\n",
       "      <td>58348.197581</td>\n",
       "      <td>265.761024</td>\n",
       "      <td>-13.509148</td>\n",
       "      <td>16.035999</td>\n",
       "      <td>-0.071871</td>\n",
       "      <td>...</td>\n",
       "      <td>0.004080</td>\n",
       "      <td>-0.057300</td>\n",
       "      <td>-0.982042</td>\n",
       "      <td>0.179751</td>\n",
       "      <td>2.234078</td>\n",
       "      <td>0.016809</td>\n",
       "      <td>3467.151428</td>\n",
       "      <td>0.999859</td>\n",
       "      <td>0.231907</td>\n",
       "      <td>False</td>\n",
       "    </tr>\n",
       "    <tr>\n",
       "      <th>3</th>\n",
       "      <td>73605</td>\n",
       "      <td>733</td>\n",
       "      <td>b'ZTF18ablwzmb'</td>\n",
       "      <td>584189894815015004</td>\n",
       "      <td>4646</td>\n",
       "      <td>58338.189896</td>\n",
       "      <td>265.761079</td>\n",
       "      <td>-13.509107</td>\n",
       "      <td>16.892200</td>\n",
       "      <td>-0.071871</td>\n",
       "      <td>...</td>\n",
       "      <td>0.004126</td>\n",
       "      <td>-0.045072</td>\n",
       "      <td>-0.984663</td>\n",
       "      <td>0.168544</td>\n",
       "      <td>2.138928</td>\n",
       "      <td>0.027030</td>\n",
       "      <td>5575.548058</td>\n",
       "      <td>0.999635</td>\n",
       "      <td>0.599691</td>\n",
       "      <td>False</td>\n",
       "    </tr>\n",
       "    <tr>\n",
       "      <th>4</th>\n",
       "      <td>82343</td>\n",
       "      <td>733</td>\n",
       "      <td>b'ZTF18abiydvm'</td>\n",
       "      <td>635193253015015018</td>\n",
       "      <td>12089</td>\n",
       "      <td>58389.193252</td>\n",
       "      <td>270.331454</td>\n",
       "      <td>-11.244934</td>\n",
       "      <td>17.196199</td>\n",
       "      <td>0.005674</td>\n",
       "      <td>...</td>\n",
       "      <td>0.003825</td>\n",
       "      <td>0.000919</td>\n",
       "      <td>-0.977996</td>\n",
       "      <td>0.208622</td>\n",
       "      <td>2.703478</td>\n",
       "      <td>0.005450</td>\n",
       "      <td>1124.103915</td>\n",
       "      <td>0.999985</td>\n",
       "      <td>0.024378</td>\n",
       "      <td>False</td>\n",
       "    </tr>\n",
       "    <tr>\n",
       "      <th>...</th>\n",
       "      <td>...</td>\n",
       "      <td>...</td>\n",
       "      <td>...</td>\n",
       "      <td>...</td>\n",
       "      <td>...</td>\n",
       "      <td>...</td>\n",
       "      <td>...</td>\n",
       "      <td>...</td>\n",
       "      <td>...</td>\n",
       "      <td>...</td>\n",
       "      <td>...</td>\n",
       "      <td>...</td>\n",
       "      <td>...</td>\n",
       "      <td>...</td>\n",
       "      <td>...</td>\n",
       "      <td>...</td>\n",
       "      <td>...</td>\n",
       "      <td>...</td>\n",
       "      <td>...</td>\n",
       "      <td>...</td>\n",
       "      <td>...</td>\n",
       "    </tr>\n",
       "    <tr>\n",
       "      <th>322909</th>\n",
       "      <td>5651234</td>\n",
       "      <td>324582</td>\n",
       "      <td>b'ZTF20aaqvkyr'</td>\n",
       "      <td>1150185754815015006</td>\n",
       "      <td>96635</td>\n",
       "      <td>58904.185752</td>\n",
       "      <td>42.384302</td>\n",
       "      <td>29.148349</td>\n",
       "      <td>18.648100</td>\n",
       "      <td>0.645100</td>\n",
       "      <td>...</td>\n",
       "      <td>-0.001541</td>\n",
       "      <td>0.627608</td>\n",
       "      <td>0.750726</td>\n",
       "      <td>0.206199</td>\n",
       "      <td>2.981918</td>\n",
       "      <td>0.025126</td>\n",
       "      <td>5182.803024</td>\n",
       "      <td>0.999684</td>\n",
       "      <td>0.518186</td>\n",
       "      <td>False</td>\n",
       "    </tr>\n",
       "    <tr>\n",
       "      <th>322910</th>\n",
       "      <td>5651378</td>\n",
       "      <td>324582</td>\n",
       "      <td>b'ZTF20aaqvkyo'</td>\n",
       "      <td>1150185754815015007</td>\n",
       "      <td>96635</td>\n",
       "      <td>58904.185752</td>\n",
       "      <td>42.122572</td>\n",
       "      <td>29.195466</td>\n",
       "      <td>18.337299</td>\n",
       "      <td>0.647485</td>\n",
       "      <td>...</td>\n",
       "      <td>-0.001541</td>\n",
       "      <td>0.627608</td>\n",
       "      <td>0.750726</td>\n",
       "      <td>0.206199</td>\n",
       "      <td>2.981918</td>\n",
       "      <td>0.029094</td>\n",
       "      <td>6001.222051</td>\n",
       "      <td>0.999577</td>\n",
       "      <td>0.694749</td>\n",
       "      <td>False</td>\n",
       "    </tr>\n",
       "    <tr>\n",
       "      <th>322911</th>\n",
       "      <td>5651434</td>\n",
       "      <td>324582</td>\n",
       "      <td>b'ZTF20aaqvkus'</td>\n",
       "      <td>1150185310315015002</td>\n",
       "      <td>96634</td>\n",
       "      <td>58904.185313</td>\n",
       "      <td>43.256211</td>\n",
       "      <td>29.954124</td>\n",
       "      <td>19.257601</td>\n",
       "      <td>0.631015</td>\n",
       "      <td>...</td>\n",
       "      <td>-0.001541</td>\n",
       "      <td>0.627610</td>\n",
       "      <td>0.750725</td>\n",
       "      <td>0.206200</td>\n",
       "      <td>2.981912</td>\n",
       "      <td>0.017707</td>\n",
       "      <td>3652.453216</td>\n",
       "      <td>0.999843</td>\n",
       "      <td>0.257358</td>\n",
       "      <td>False</td>\n",
       "    </tr>\n",
       "    <tr>\n",
       "      <th>322912</th>\n",
       "      <td>5651513</td>\n",
       "      <td>324582</td>\n",
       "      <td>b'ZTF20aaqvlna'</td>\n",
       "      <td>1150185755115015011</td>\n",
       "      <td>96635</td>\n",
       "      <td>58904.185752</td>\n",
       "      <td>42.388038</td>\n",
       "      <td>28.228923</td>\n",
       "      <td>19.199400</td>\n",
       "      <td>0.650751</td>\n",
       "      <td>...</td>\n",
       "      <td>-0.001541</td>\n",
       "      <td>0.627608</td>\n",
       "      <td>0.750726</td>\n",
       "      <td>0.206199</td>\n",
       "      <td>2.981918</td>\n",
       "      <td>0.030306</td>\n",
       "      <td>6251.306560</td>\n",
       "      <td>0.999541</td>\n",
       "      <td>0.753854</td>\n",
       "      <td>False</td>\n",
       "    </tr>\n",
       "    <tr>\n",
       "      <th>322913</th>\n",
       "      <td>5651704</td>\n",
       "      <td>324582</td>\n",
       "      <td>b'ZTF20aaqvlmz'</td>\n",
       "      <td>1150185755115015003</td>\n",
       "      <td>96635</td>\n",
       "      <td>58904.185752</td>\n",
       "      <td>41.916630</td>\n",
       "      <td>28.631276</td>\n",
       "      <td>18.967100</td>\n",
       "      <td>0.653128</td>\n",
       "      <td>...</td>\n",
       "      <td>-0.001541</td>\n",
       "      <td>0.627608</td>\n",
       "      <td>0.750726</td>\n",
       "      <td>0.206199</td>\n",
       "      <td>2.981918</td>\n",
       "      <td>0.033791</td>\n",
       "      <td>6970.130701</td>\n",
       "      <td>0.999429</td>\n",
       "      <td>0.937173</td>\n",
       "      <td>False</td>\n",
       "    </tr>\n",
       "  </tbody>\n",
       "</table>\n",
       "<p>322914 rows × 27 columns</p>\n",
       "</div>"
      ],
      "text/plain": [
       "         ztf_id  element_id         ObjectID          CandidateID  \\\n",
       "0         53851         733  b'ZTF18abnothj'   594197584815010004   \n",
       "1         73603         733  b'ZTF18ablwzmb'   609167834815015007   \n",
       "2         73604         733  b'ZTF18ablwzmb'   594197584815015003   \n",
       "3         73605         733  b'ZTF18ablwzmb'   584189894815015004   \n",
       "4         82343         733  b'ZTF18abiydvm'   635193253015015018   \n",
       "...         ...         ...              ...                  ...   \n",
       "322909  5651234      324582  b'ZTF20aaqvkyr'  1150185754815015006   \n",
       "322910  5651378      324582  b'ZTF20aaqvkyo'  1150185754815015007   \n",
       "322911  5651434      324582  b'ZTF20aaqvkus'  1150185310315015002   \n",
       "322912  5651513      324582  b'ZTF20aaqvlna'  1150185755115015011   \n",
       "322913  5651704      324582  b'ZTF20aaqvlmz'  1150185755115015003   \n",
       "\n",
       "        TimeStampID           mjd          ra        dec    mag_app        ux  \\\n",
       "0              5501  58348.197581  266.229165 -13.513802  16.755600 -0.063945   \n",
       "1              7226  58363.167836  265.761064 -13.509195  18.339701 -0.071871   \n",
       "2              5501  58348.197581  265.761024 -13.509148  16.035999 -0.071871   \n",
       "3              4646  58338.189896  265.761079 -13.509107  16.892200 -0.071871   \n",
       "4             12089  58389.193252  270.331454 -11.244934  17.196199  0.005674   \n",
       "...             ...           ...         ...        ...        ...       ...   \n",
       "322909        96635  58904.185752   42.384302  29.148349  18.648100  0.645100   \n",
       "322910        96635  58904.185752   42.122572  29.195466  18.337299  0.647485   \n",
       "322911        96634  58904.185313   43.256211  29.954124  19.257601  0.631015   \n",
       "322912        96635  58904.185752   42.388038  28.228923  19.199400  0.650751   \n",
       "322913        96635  58904.185752   41.916630  28.631276  18.967100  0.653128   \n",
       "\n",
       "        ...        vz    elt_ux    elt_uy    elt_uz     elt_r         s  \\\n",
       "0       ...  0.004080 -0.057300 -0.982042  0.179751  2.234078  0.010624   \n",
       "1       ...  0.003999 -0.055041 -0.979702  0.192757  2.397172  0.027352   \n",
       "2       ...  0.004080 -0.057300 -0.982042  0.179751  2.234078  0.016809   \n",
       "3       ...  0.004126 -0.045072 -0.984663  0.168544  2.138928  0.027030   \n",
       "4       ...  0.003825  0.000919 -0.977996  0.208622  2.703478  0.005450   \n",
       "...     ...       ...       ...       ...       ...       ...       ...   \n",
       "322909  ... -0.001541  0.627608  0.750726  0.206199  2.981918  0.025126   \n",
       "322910  ... -0.001541  0.627608  0.750726  0.206199  2.981918  0.029094   \n",
       "322911  ... -0.001541  0.627610  0.750725  0.206200  2.981912  0.017707   \n",
       "322912  ... -0.001541  0.627608  0.750726  0.206199  2.981918  0.030306   \n",
       "322913  ... -0.001541  0.627608  0.750726  0.206199  2.981918  0.033791   \n",
       "\n",
       "              s_sec         z         v  is_hit  \n",
       "0       2191.408734  0.999944  0.092645   False  \n",
       "1       5641.954857  0.999626  0.614061   False  \n",
       "2       3467.151428  0.999859  0.231907   False  \n",
       "3       5575.548058  0.999635  0.599691   False  \n",
       "4       1124.103915  0.999985  0.024378   False  \n",
       "...             ...       ...       ...     ...  \n",
       "322909  5182.803024  0.999684  0.518186   False  \n",
       "322910  6001.222051  0.999577  0.694749   False  \n",
       "322911  3652.453216  0.999843  0.257358   False  \n",
       "322912  6251.306560  0.999541  0.753854   False  \n",
       "322913  6970.130701  0.999429  0.937173   False  \n",
       "\n",
       "[322914 rows x 27 columns]"
      ]
     },
     "execution_count": 18,
     "metadata": {},
     "output_type": "execute_result"
    }
   ],
   "source": [
    "ztf_elt"
   ]
  },
  {
   "cell_type": "code",
   "execution_count": 19,
   "metadata": {},
   "outputs": [],
   "source": [
    "# Score by element - perturbed\n",
    "score_by_elt = ztf_score_by_elt(ztf_elt)"
   ]
  },
  {
   "cell_type": "code",
   "execution_count": 20,
   "metadata": {},
   "outputs": [
    {
     "name": "stdout",
     "output_type": "stream",
     "text": [
      "ZTF Element Dataframe Perturbed Asteroids:\n",
      "                  Total     (Per Batch)\n",
      "Observations   :   322914   (     5046)\n",
      "\n",
      "Summarize score = sum(-1.0 - log(v)) by batch.  (Mean=0, Variance=num_obs)\n",
      "Mean score     :    2908.12\n",
      "Sqrt(batch_obs):      71.03\n",
      "Mean t_score   :      45.02\n"
     ]
    }
   ],
   "source": [
    "# Summarize the ztf element batch: perturbed asteroids\n",
    "ztf_elt_summary(ztf_elt, score_by_elt, 'Perturbed Asteroids')"
   ]
  },
  {
   "cell_type": "code",
   "execution_count": 21,
   "metadata": {},
   "outputs": [],
   "source": [
    "# Mixture parameters\n",
    "num_hits: int = 10\n",
    "R_deg: float = 0.5"
   ]
  },
  {
   "cell_type": "code",
   "execution_count": 22,
   "metadata": {},
   "outputs": [],
   "source": [
    "# Add mixture parameters to candidate elements\n",
    "elts_add_mixture_params(elts=elts, num_hits=num_hits, R_deg=R_deg, thresh_deg=thresh_deg)"
   ]
  },
  {
   "cell_type": "code",
   "execution_count": 23,
   "metadata": {},
   "outputs": [],
   "source": [
    "# Add brightness parameter H\n",
    "elts_add_H(elts=elts)"
   ]
  },
  {
   "cell_type": "code",
   "execution_count": 24,
   "metadata": {},
   "outputs": [
    {
     "data": {
      "text/html": [
       "<div>\n",
       "<style scoped>\n",
       "    .dataframe tbody tr th:only-of-type {\n",
       "        vertical-align: middle;\n",
       "    }\n",
       "\n",
       "    .dataframe tbody tr th {\n",
       "        vertical-align: top;\n",
       "    }\n",
       "\n",
       "    .dataframe thead th {\n",
       "        text-align: right;\n",
       "    }\n",
       "</style>\n",
       "<table border=\"1\" class=\"dataframe\">\n",
       "  <thead>\n",
       "    <tr style=\"text-align: right;\">\n",
       "      <th></th>\n",
       "      <th>element_id</th>\n",
       "      <th>a</th>\n",
       "      <th>e</th>\n",
       "      <th>inc</th>\n",
       "      <th>Omega</th>\n",
       "      <th>omega</th>\n",
       "      <th>f</th>\n",
       "      <th>epoch</th>\n",
       "      <th>num_hits</th>\n",
       "      <th>R</th>\n",
       "      <th>thresh_s</th>\n",
       "      <th>H</th>\n",
       "    </tr>\n",
       "  </thead>\n",
       "  <tbody>\n",
       "    <tr>\n",
       "      <th>0</th>\n",
       "      <td>51921</td>\n",
       "      <td>2.669306</td>\n",
       "      <td>0.217361</td>\n",
       "      <td>0.499554</td>\n",
       "      <td>4.699703</td>\n",
       "      <td>2.450796</td>\n",
       "      <td>-1.133491</td>\n",
       "      <td>58600.0</td>\n",
       "      <td>10</td>\n",
       "      <td>0.008727</td>\n",
       "      <td>0.034905</td>\n",
       "      <td>16.5</td>\n",
       "    </tr>\n",
       "    <tr>\n",
       "      <th>1</th>\n",
       "      <td>59244</td>\n",
       "      <td>2.634727</td>\n",
       "      <td>0.262503</td>\n",
       "      <td>0.465045</td>\n",
       "      <td>5.738298</td>\n",
       "      <td>1.766995</td>\n",
       "      <td>-1.601363</td>\n",
       "      <td>58600.0</td>\n",
       "      <td>10</td>\n",
       "      <td>0.008727</td>\n",
       "      <td>0.034905</td>\n",
       "      <td>16.5</td>\n",
       "    </tr>\n",
       "    <tr>\n",
       "      <th>2</th>\n",
       "      <td>15786</td>\n",
       "      <td>1.883227</td>\n",
       "      <td>0.047655</td>\n",
       "      <td>0.392360</td>\n",
       "      <td>6.134689</td>\n",
       "      <td>0.804823</td>\n",
       "      <td>-1.246069</td>\n",
       "      <td>58600.0</td>\n",
       "      <td>10</td>\n",
       "      <td>0.008727</td>\n",
       "      <td>0.034905</td>\n",
       "      <td>16.5</td>\n",
       "    </tr>\n",
       "    <tr>\n",
       "      <th>3</th>\n",
       "      <td>3904</td>\n",
       "      <td>2.556387</td>\n",
       "      <td>0.098279</td>\n",
       "      <td>0.261542</td>\n",
       "      <td>5.450163</td>\n",
       "      <td>2.202423</td>\n",
       "      <td>-1.357345</td>\n",
       "      <td>58600.0</td>\n",
       "      <td>10</td>\n",
       "      <td>0.008727</td>\n",
       "      <td>0.034905</td>\n",
       "      <td>16.5</td>\n",
       "    </tr>\n",
       "    <tr>\n",
       "      <th>4</th>\n",
       "      <td>142999</td>\n",
       "      <td>2.619944</td>\n",
       "      <td>0.191376</td>\n",
       "      <td>0.514017</td>\n",
       "      <td>0.238022</td>\n",
       "      <td>0.946463</td>\n",
       "      <td>-1.299301</td>\n",
       "      <td>58600.0</td>\n",
       "      <td>10</td>\n",
       "      <td>0.008727</td>\n",
       "      <td>0.034905</td>\n",
       "      <td>16.5</td>\n",
       "    </tr>\n",
       "    <tr>\n",
       "      <th>...</th>\n",
       "      <td>...</td>\n",
       "      <td>...</td>\n",
       "      <td>...</td>\n",
       "      <td>...</td>\n",
       "      <td>...</td>\n",
       "      <td>...</td>\n",
       "      <td>...</td>\n",
       "      <td>...</td>\n",
       "      <td>...</td>\n",
       "      <td>...</td>\n",
       "      <td>...</td>\n",
       "      <td>...</td>\n",
       "    </tr>\n",
       "    <tr>\n",
       "      <th>59</th>\n",
       "      <td>11952</td>\n",
       "      <td>2.219650</td>\n",
       "      <td>0.086091</td>\n",
       "      <td>0.117967</td>\n",
       "      <td>0.042442</td>\n",
       "      <td>2.904823</td>\n",
       "      <td>-3.016580</td>\n",
       "      <td>58600.0</td>\n",
       "      <td>10</td>\n",
       "      <td>0.008727</td>\n",
       "      <td>0.034905</td>\n",
       "      <td>16.5</td>\n",
       "    </tr>\n",
       "    <tr>\n",
       "      <th>60</th>\n",
       "      <td>134815</td>\n",
       "      <td>2.612770</td>\n",
       "      <td>0.140831</td>\n",
       "      <td>0.513922</td>\n",
       "      <td>0.272689</td>\n",
       "      <td>0.645552</td>\n",
       "      <td>-0.957836</td>\n",
       "      <td>58600.0</td>\n",
       "      <td>10</td>\n",
       "      <td>0.008727</td>\n",
       "      <td>0.034905</td>\n",
       "      <td>16.5</td>\n",
       "    </tr>\n",
       "    <tr>\n",
       "      <th>61</th>\n",
       "      <td>27860</td>\n",
       "      <td>2.619406</td>\n",
       "      <td>0.096185</td>\n",
       "      <td>0.200633</td>\n",
       "      <td>5.541400</td>\n",
       "      <td>3.266046</td>\n",
       "      <td>3.948770</td>\n",
       "      <td>58600.0</td>\n",
       "      <td>10</td>\n",
       "      <td>0.008727</td>\n",
       "      <td>0.034905</td>\n",
       "      <td>16.5</td>\n",
       "    </tr>\n",
       "    <tr>\n",
       "      <th>62</th>\n",
       "      <td>85937</td>\n",
       "      <td>2.342291</td>\n",
       "      <td>0.197267</td>\n",
       "      <td>0.439063</td>\n",
       "      <td>5.279693</td>\n",
       "      <td>3.210025</td>\n",
       "      <td>3.947687</td>\n",
       "      <td>58600.0</td>\n",
       "      <td>10</td>\n",
       "      <td>0.008727</td>\n",
       "      <td>0.034905</td>\n",
       "      <td>16.5</td>\n",
       "    </tr>\n",
       "    <tr>\n",
       "      <th>63</th>\n",
       "      <td>72911</td>\n",
       "      <td>3.155569</td>\n",
       "      <td>0.086495</td>\n",
       "      <td>0.262050</td>\n",
       "      <td>5.311936</td>\n",
       "      <td>2.108568</td>\n",
       "      <td>-1.020687</td>\n",
       "      <td>58600.0</td>\n",
       "      <td>10</td>\n",
       "      <td>0.008727</td>\n",
       "      <td>0.034905</td>\n",
       "      <td>16.5</td>\n",
       "    </tr>\n",
       "  </tbody>\n",
       "</table>\n",
       "<p>64 rows × 12 columns</p>\n",
       "</div>"
      ],
      "text/plain": [
       "    element_id         a         e       inc     Omega     omega         f  \\\n",
       "0        51921  2.669306  0.217361  0.499554  4.699703  2.450796 -1.133491   \n",
       "1        59244  2.634727  0.262503  0.465045  5.738298  1.766995 -1.601363   \n",
       "2        15786  1.883227  0.047655  0.392360  6.134689  0.804823 -1.246069   \n",
       "3         3904  2.556387  0.098279  0.261542  5.450163  2.202423 -1.357345   \n",
       "4       142999  2.619944  0.191376  0.514017  0.238022  0.946463 -1.299301   \n",
       "..         ...       ...       ...       ...       ...       ...       ...   \n",
       "59       11952  2.219650  0.086091  0.117967  0.042442  2.904823 -3.016580   \n",
       "60      134815  2.612770  0.140831  0.513922  0.272689  0.645552 -0.957836   \n",
       "61       27860  2.619406  0.096185  0.200633  5.541400  3.266046  3.948770   \n",
       "62       85937  2.342291  0.197267  0.439063  5.279693  3.210025  3.947687   \n",
       "63       72911  3.155569  0.086495  0.262050  5.311936  2.108568 -1.020687   \n",
       "\n",
       "      epoch  num_hits         R  thresh_s     H  \n",
       "0   58600.0        10  0.008727  0.034905  16.5  \n",
       "1   58600.0        10  0.008727  0.034905  16.5  \n",
       "2   58600.0        10  0.008727  0.034905  16.5  \n",
       "3   58600.0        10  0.008727  0.034905  16.5  \n",
       "4   58600.0        10  0.008727  0.034905  16.5  \n",
       "..      ...       ...       ...       ...   ...  \n",
       "59  58600.0        10  0.008727  0.034905  16.5  \n",
       "60  58600.0        10  0.008727  0.034905  16.5  \n",
       "61  58600.0        10  0.008727  0.034905  16.5  \n",
       "62  58600.0        10  0.008727  0.034905  16.5  \n",
       "63  58600.0        10  0.008727  0.034905  16.5  \n",
       "\n",
       "[64 rows x 12 columns]"
      ]
     },
     "execution_count": 24,
     "metadata": {},
     "output_type": "execute_result"
    }
   ],
   "source": [
    "# Review perturbed elements; includes nearest asteroid number and distance\n",
    "elts"
   ]
  },
  {
   "cell_type": "markdown",
   "metadata": {},
   "source": [
    "## Train on Perturbed Elements: Learn Mixture Parameters"
   ]
  },
  {
   "cell_type": "code",
   "execution_count": 25,
   "metadata": {},
   "outputs": [],
   "source": [
    "# Observatory for ZTF data is Palomar Mountain\n",
    "site_name = 'palomar'"
   ]
  },
  {
   "cell_type": "code",
   "execution_count": 26,
   "metadata": {},
   "outputs": [],
   "source": [
    "# Training parameters\n",
    "learning_rate = 2.0**-15\n",
    "clipnorm = 1.0\n",
    "save_at_end: bool = True"
   ]
  },
  {
   "cell_type": "code",
   "execution_count": 27,
   "metadata": {},
   "outputs": [],
   "source": [
    "# Build asteroid search model\n",
    "model = AsteroidSearchModel(\n",
    "                elts=elts, ztf_elt=ztf_elt, \n",
    "                site_name=site_name, thresh_deg=thresh_deg, \n",
    "                learning_rate=learning_rate, clipnorm=clipnorm,\n",
    "                name='model')"
   ]
  },
  {
   "cell_type": "code",
   "execution_count": 28,
   "metadata": {},
   "outputs": [
    {
     "name": "stdout",
     "output_type": "stream",
     "text": [
      "     \\  log_like :  hits  :  R_deg    :    R_sec : thresh_deg\n",
      "Mean :     3.13  :   0.00 :  0.499750 :  1799.10 : 2.000000\n",
      "Std  :     1.42  :   0.00 :  0.000000 :     0.00 : 0.000000\n",
      "Min  :     0.16  :   0.00 :  0.499750 :  1799.10 : 2.000000\n",
      "Max  :     6.42  :   0.00 :  0.499750 :  1799.10 : 2.000000\n",
      "Trained for 0 batches over 0 epochs and 0 episodes.\n"
     ]
    }
   ],
   "source": [
    "# Report before training starts\n",
    "model.report()"
   ]
  },
  {
   "cell_type": "code",
   "execution_count": 33,
   "metadata": {},
   "outputs": [
    {
     "name": "stdout",
     "output_type": "stream",
     "text": [
      "\n",
      "Training episode 16: Epoch   80, Batch   8000\n",
      "effective_learning_rate=3.052e-05, training_time 211 sec.\n",
      "Train on 6400 samples\n",
      "Epoch 81/85\n",
      "6400/6400 [==============================] - 2s 340us/sample - loss: -35791.7130\n",
      "Epoch 82/85\n",
      "6400/6400 [==============================] - 2s 332us/sample - loss: -36547.5078\n",
      "Epoch 83/85\n",
      "6400/6400 [==============================] - 2s 334us/sample - loss: -37302.4035\n",
      "Epoch 84/85\n",
      "6400/6400 [==============================] - 2s 332us/sample - loss: -38056.3582\n",
      "Epoch 85/85\n",
      "6400/6400 [==============================] - 2s 331us/sample - loss: -38809.3324\n",
      "Geom Mean Resolution: 0.031023 degrees ( 111.7 arc seconds)\n",
      "Mean Hits          :    124.65\n",
      "Mean Log Likelihood:    499.71\n",
      "\n",
      "Training episode 17: Epoch   85, Batch   8500\n",
      "effective_learning_rate=3.052e-05, training_time 229 sec.\n",
      "Train on 6400 samples\n",
      "Epoch 86/90\n",
      "6400/6400 [==============================] - 2s 336us/sample - loss: -39561.4104\n",
      "Epoch 87/90\n",
      "6400/6400 [==============================] - 2s 338us/sample - loss: -40312.4944\n",
      "Epoch 88/90\n",
      "6400/6400 [==============================] - 2s 330us/sample - loss: -41062.6234\n",
      "Epoch 89/90\n",
      "6400/6400 [==============================] - 2s 329us/sample - loss: -41811.8646\n",
      "Epoch 90/90\n",
      "6400/6400 [==============================] - 2s 332us/sample - loss: -42560.1387\n",
      "Geom Mean Resolution: 0.027200 degrees (  97.9 arc seconds)\n",
      "Mean Hits          :    157.02\n",
      "Mean Log Likelihood:    547.56\n",
      "\n",
      "Training episode 18: Epoch   90, Batch   9000\n",
      "effective_learning_rate=3.052e-05, training_time 240 sec.\n",
      "Train on 6400 samples\n",
      "Epoch 91/95\n",
      "6400/6400 [==============================] - 2s 335us/sample - loss: -43307.5425\n",
      "Epoch 92/95\n",
      "6400/6400 [==============================] - 2s 335us/sample - loss: -44054.0485\n",
      "Epoch 93/95\n",
      "6400/6400 [==============================] - 2s 344us/sample - loss: -44799.6951\n",
      "Epoch 94/95\n",
      "6400/6400 [==============================] - 2s 340us/sample - loss: -45544.4629\n",
      "Epoch 95/95\n",
      "6400/6400 [==============================] - 2s 334us/sample - loss: -46288.4173\n",
      "Geom Mean Resolution: 0.023881 degrees (  86.0 arc seconds)\n",
      "Mean Hits          :    160.69\n",
      "Mean Log Likelihood:    595.06\n",
      "\n",
      "Training episode 19: Epoch   95, Batch   9500\n",
      "effective_learning_rate=3.052e-05, training_time 251 sec.\n",
      "Train on 6400 samples\n",
      "Epoch 96/100\n",
      "6400/6400 [==============================] - 2s 334us/sample - loss: -47031.4917\n",
      "Epoch 97/100\n",
      "6400/6400 [==============================] - 2s 337us/sample - loss: -47773.6630\n",
      "Epoch 98/100\n",
      "6400/6400 [==============================] - 2s 336us/sample - loss: -48514.9957\n",
      "Epoch 99/100\n",
      "6400/6400 [==============================] - 2s 337us/sample - loss: -49255.3517\n",
      "Epoch 100/100\n",
      "6400/6400 [==============================] - 2s 334us/sample - loss: -49994.7937\n",
      "Geom Mean Resolution: 0.020989 degrees (  75.6 arc seconds)\n",
      "Mean Hits          :    161.61\n",
      "Mean Log Likelihood:    642.25\n",
      "\n",
      "Training episode 20: Epoch  100, Batch  10000\n",
      "effective_learning_rate=3.052e-05, training_time 262 sec.\n",
      "Train on 6400 samples\n",
      "Epoch 101/105\n",
      "6400/6400 [==============================] - 2s 338us/sample - loss: -50733.2200\n",
      "Epoch 102/105\n",
      "6400/6400 [==============================] - 2s 335us/sample - loss: -51470.6183\n",
      "Epoch 103/105\n",
      "6400/6400 [==============================] - 2s 334us/sample - loss: -52206.9868\n",
      "Epoch 104/105\n",
      "6400/6400 [==============================] - 2s 337us/sample - loss: -52942.2150\n",
      "Epoch 105/105\n",
      "6400/6400 [==============================] - 2s 338us/sample - loss: -53676.3373\n",
      "Geom Mean Resolution: 0.018462 degrees (  66.5 arc seconds)\n",
      "Mean Hits          :    162.22\n",
      "Mean Log Likelihood:    689.05\n",
      "\n",
      "********************************************************************************\n",
      "Terminating: Completed 10500 batches.\n",
      "********************************************************************************\n"
     ]
    }
   ],
   "source": [
    "# Train perturbed model with frozen orbital elements\n",
    "model.search_adaptive(\n",
    "    max_batches=model.current_batch+2500, \n",
    "    learning_rate=2.0**-12,\n",
    ")"
   ]
  },
  {
   "cell_type": "markdown",
   "metadata": {},
   "source": [
    "## Prototype Magnitude Layer"
   ]
  },
  {
   "cell_type": "code",
   "execution_count": null,
   "metadata": {},
   "outputs": [],
   "source": [
    "model.magnitude"
   ]
  },
  {
   "cell_type": "code",
   "execution_count": null,
   "metadata": {},
   "outputs": [],
   "source": [
    "H = model.get_H()"
   ]
  },
  {
   "cell_type": "code",
   "execution_count": null,
   "metadata": {},
   "outputs": [],
   "source": [
    "H.shape"
   ]
  },
  {
   "cell_type": "code",
   "execution_count": null,
   "metadata": {},
   "outputs": [],
   "source": [
    "q_pred, v_pred = model.predict_position()"
   ]
  },
  {
   "cell_type": "code",
   "execution_count": null,
   "metadata": {},
   "outputs": [],
   "source": [
    "mag = model.magnitude(q_pred)"
   ]
  },
  {
   "cell_type": "code",
   "execution_count": null,
   "metadata": {},
   "outputs": [],
   "source": [
    "np.mean(mag)"
   ]
  },
  {
   "cell_type": "code",
   "execution_count": null,
   "metadata": {},
   "outputs": [],
   "source": [
    "np.mean(ztf_elt.mag_app)"
   ]
  },
  {
   "cell_type": "code",
   "execution_count": null,
   "metadata": {},
   "outputs": [],
   "source": [
    "raise ValueError"
   ]
  },
  {
   "cell_type": "markdown",
   "metadata": {},
   "source": [
    "## End Prototype"
   ]
  },
  {
   "cell_type": "code",
   "execution_count": null,
   "metadata": {},
   "outputs": [],
   "source": [
    "# Visualize log likelihood before traning\n",
    "fig, ax = model.plot_bar('log_like', sorted=False)"
   ]
  },
  {
   "cell_type": "code",
   "execution_count": null,
   "metadata": {},
   "outputs": [],
   "source": [
    "# Adaptive search parameters\n",
    "max_batches_mixture = 2000\n",
    "max_batches_element = 10000\n",
    "batches_per_epoch = 100\n",
    "epochs_per_episode = 5\n",
    "max_bad_episodes = 3\n",
    "min_learning_rate = None\n",
    "save_at_end = False\n",
    "reset_active_weight = False\n",
    "verbose = 1"
   ]
  },
  {
   "cell_type": "code",
   "execution_count": null,
   "metadata": {},
   "outputs": [],
   "source": [
    "# # Load model\n",
    "# model.load()\n",
    "# model.report()"
   ]
  },
  {
   "cell_type": "code",
   "execution_count": null,
   "metadata": {},
   "outputs": [],
   "source": [
    "# Preliminary round of training with frozen elements\n",
    "model.freeze_candidate_elements()\n",
    "# model.thaw_score()"
   ]
  },
  {
   "cell_type": "code",
   "execution_count": null,
   "metadata": {},
   "outputs": [],
   "source": [
    "model.recompile()"
   ]
  },
  {
   "cell_type": "code",
   "execution_count": null,
   "metadata": {},
   "outputs": [],
   "source": [
    "model.loss"
   ]
  },
  {
   "cell_type": "code",
   "execution_count": null,
   "metadata": {},
   "outputs": [],
   "source": [
    "# Train perturbed model with frozen orbital elements\n",
    "model.search_adaptive(\n",
    "    max_batches=model.current_batch+500, \n",
    "    learning_rate=2.0**-12,\n",
    ")"
   ]
  },
  {
   "cell_type": "code",
   "execution_count": null,
   "metadata": {},
   "outputs": [],
   "source": [
    "# Report after initial training on mixture parameters\n",
    "model.report()"
   ]
  },
  {
   "cell_type": "code",
   "execution_count": null,
   "metadata": {},
   "outputs": [],
   "source": [
    "model.save_state()"
   ]
  },
  {
   "cell_type": "code",
   "execution_count": null,
   "metadata": {},
   "outputs": [],
   "source": [
    "# Bar chart - log likelihood by element\n",
    "fig, ax = model.plot_bar('log_like', sorted=False)"
   ]
  },
  {
   "cell_type": "code",
   "execution_count": null,
   "metadata": {},
   "outputs": [],
   "source": [
    "# # Bar chart - hits by element\n",
    "# fig, ax = model.plot_bar('hits', sorted=False)"
   ]
  },
  {
   "cell_type": "code",
   "execution_count": null,
   "metadata": {},
   "outputs": [],
   "source": [
    "# # Bar chart - resolution by element\n",
    "# fig, ax = model.plot_bar('R_deg', sorted=False)"
   ]
  },
  {
   "cell_type": "markdown",
   "metadata": {},
   "source": [
    "## Train on Perturbed Model: Joint (Elements & Mixture)"
   ]
  },
  {
   "cell_type": "code",
   "execution_count": null,
   "metadata": {},
   "outputs": [],
   "source": [
    "model.summary()"
   ]
  },
  {
   "cell_type": "code",
   "execution_count": null,
   "metadata": {},
   "outputs": [],
   "source": [
    "# model.save_state()"
   ]
  },
  {
   "cell_type": "code",
   "execution_count": null,
   "metadata": {},
   "outputs": [],
   "source": [
    "model.load()"
   ]
  },
  {
   "cell_type": "code",
   "execution_count": null,
   "metadata": {},
   "outputs": [],
   "source": [
    "# Unfreeze the elements\n",
    "model.thaw_candidate_elements()\n",
    "model.thaw_mixture_parameters()\n",
    "# model.thaw_score()"
   ]
  },
  {
   "cell_type": "code",
   "execution_count": null,
   "metadata": {},
   "outputs": [],
   "source": [
    "model.report()"
   ]
  },
  {
   "cell_type": "code",
   "execution_count": null,
   "metadata": {},
   "outputs": [],
   "source": [
    "# Length of training\n",
    "max_batches_element = 2000\n",
    "\n",
    "# thresh_deg at end: don't use, score layer is thawed\n",
    "thresh_deg_end = None\n",
    "\n",
    "# New smaller learning rate\n",
    "learning_rate = 2.0**-15\n",
    "\n",
    "# Reset active weight\n",
    "reset_active_weight = True"
   ]
  },
  {
   "cell_type": "code",
   "execution_count": null,
   "metadata": {},
   "outputs": [],
   "source": [
    "# Train model in joint mode\n",
    "model.search_adaptive(max_batches=model.current_batch+500)"
   ]
  },
  {
   "cell_type": "code",
   "execution_count": null,
   "metadata": {},
   "outputs": [],
   "source": [
    "# Train model in joint mode\n",
    "model.search_adaptive(\n",
    "    max_batches=1000, \n",
    "    batches_per_epoch=batches_per_epoch,\n",
    "    epochs_per_episode=epochs_per_episode,\n",
    "    thresh_deg_end=thresh_deg_end,\n",
    "    learning_rate=learning_rate,\n",
    "    reset_active_weight=reset_active_weight,\n",
    "    verbose=verbose)"
   ]
  },
  {
   "cell_type": "code",
   "execution_count": null,
   "metadata": {},
   "outputs": [],
   "source": [
    "model.report()"
   ]
  },
  {
   "cell_type": "code",
   "execution_count": null,
   "metadata": {},
   "outputs": [],
   "source": [
    "# Bar chart - log likelihood by element\n",
    "fig, ax = model.plot_bar('log_like', sorted=False)"
   ]
  },
  {
   "cell_type": "code",
   "execution_count": null,
   "metadata": {},
   "outputs": [],
   "source": [
    "# Bar chart - hits\n",
    "fig, ax = model.plot_bar('hits', sorted=False)"
   ]
  },
  {
   "cell_type": "code",
   "execution_count": null,
   "metadata": {},
   "outputs": [],
   "source": [
    "# Bar chart - hits\n",
    "fig, ax = model.plot_bar('R_deg', sorted=False)"
   ]
  },
  {
   "cell_type": "code",
   "execution_count": null,
   "metadata": {},
   "outputs": [],
   "source": [
    "# Bar chart - hits\n",
    "fig, ax = model.plot_bar('thresh_deg', sorted=False)"
   ]
  },
  {
   "cell_type": "code",
   "execution_count": null,
   "metadata": {},
   "outputs": [],
   "source": [
    "# Save model\n",
    "model.save_state()"
   ]
  },
  {
   "cell_type": "code",
   "execution_count": null,
   "metadata": {},
   "outputs": [],
   "source": [
    "model.freeze_candidate_elements()"
   ]
  },
  {
   "cell_type": "code",
   "execution_count": null,
   "metadata": {},
   "outputs": [],
   "source": [
    "# Train model in joint mode\n",
    "model.search_adaptive(\n",
    "    max_batches=model.current_batch+2000, \n",
    "    batches_per_epoch=batches_per_epoch,\n",
    "    epochs_per_episode=epochs_per_episode,\n",
    "    learning_rate=learning_rate,\n",
    "    reset_active_weight=True,\n",
    "    verbose=verbose)"
   ]
  },
  {
   "cell_type": "code",
   "execution_count": null,
   "metadata": {},
   "outputs": [],
   "source": [
    "model.report()"
   ]
  },
  {
   "cell_type": "code",
   "execution_count": null,
   "metadata": {},
   "outputs": [],
   "source": [
    "model.save_state()"
   ]
  },
  {
   "cell_type": "code",
   "execution_count": null,
   "metadata": {},
   "outputs": [],
   "source": [
    "model.thaw_score()"
   ]
  },
  {
   "cell_type": "code",
   "execution_count": null,
   "metadata": {},
   "outputs": [],
   "source": [
    "# Train model in joint mode\n",
    "model.search_adaptive(\n",
    "    max_batches=model.current_batch+2000, \n",
    "    batches_per_epoch=batches_per_epoch,\n",
    "    epochs_per_episode=epochs_per_episode,\n",
    "    learning_rate=learning_rate,\n",
    "    reset_active_weight=True,\n",
    "    verbose=verbose)"
   ]
  },
  {
   "cell_type": "code",
   "execution_count": null,
   "metadata": {},
   "outputs": [],
   "source": [
    "model.report()"
   ]
  },
  {
   "cell_type": "code",
   "execution_count": null,
   "metadata": {},
   "outputs": [],
   "source": [
    "model.save_state()"
   ]
  },
  {
   "cell_type": "markdown",
   "metadata": {},
   "source": [
    "## Extended Training"
   ]
  },
  {
   "cell_type": "code",
   "execution_count": null,
   "metadata": {},
   "outputs": [],
   "source": [
    "# # Unfreeze the score layer\n",
    "# model.thaw_score()"
   ]
  },
  {
   "cell_type": "code",
   "execution_count": null,
   "metadata": {},
   "outputs": [],
   "source": [
    "# Length of training\n",
    "max_batches_element = 22000\n",
    "\n",
    "# thresh_deg at end: 500 arc seconds\n",
    "thresh_deg_end = 500 / 3600.0\n",
    "\n",
    "# New smaller learning rate\n",
    "learning_rate = 2.0**-15\n",
    "\n",
    "# Reset active weight\n",
    "reset_active_weight = True"
   ]
  },
  {
   "cell_type": "code",
   "execution_count": null,
   "metadata": {},
   "outputs": [],
   "source": [
    "# Train model in joint mode\n",
    "model.search_adaptive(\n",
    "    max_batches=max_batches_element, \n",
    "    batches_per_epoch=batches_per_epoch,\n",
    "    epochs_per_episode=epochs_per_episode,\n",
    "    thresh_deg_end=thresh_deg_end,\n",
    "    learning_rate=learning_rate,\n",
    "    reset_active_weight=reset_active_weight,\n",
    "    verbose=verbose)"
   ]
  },
  {
   "cell_type": "code",
   "execution_count": null,
   "metadata": {},
   "outputs": [],
   "source": [
    "model.report()"
   ]
  },
  {
   "cell_type": "code",
   "execution_count": null,
   "metadata": {},
   "outputs": [],
   "source": [
    "# model.save_state()"
   ]
  },
  {
   "cell_type": "code",
   "execution_count": null,
   "metadata": {},
   "outputs": [],
   "source": [
    "# Lower threshold manually\n",
    "thresh_deg_score = 1.0\n",
    "model.set_thresh_deg_score(thresh_deg_score)\n",
    "model.freeze_score()"
   ]
  },
  {
   "cell_type": "code",
   "execution_count": null,
   "metadata": {},
   "outputs": [],
   "source": [
    "model.search_adaptive(\n",
    "    max_batches=20000, \n",
    "    batches_per_epoch=batches_per_epoch,\n",
    "    epochs_per_episode=epochs_per_episode,\n",
    "    learning_rate=2.0**-15,\n",
    "    reset_active_weight=True,\n",
    "    verbose=verbose)"
   ]
  },
  {
   "cell_type": "code",
   "execution_count": null,
   "metadata": {},
   "outputs": [],
   "source": [
    "model.report()"
   ]
  },
  {
   "cell_type": "code",
   "execution_count": null,
   "metadata": {},
   "outputs": [],
   "source": [
    "# model.save_state()"
   ]
  },
  {
   "cell_type": "markdown",
   "metadata": {},
   "source": [
    "## Review Results Graphically"
   ]
  },
  {
   "cell_type": "code",
   "execution_count": null,
   "metadata": {},
   "outputs": [],
   "source": [
    "# Bar chart - log likelihood by element\n",
    "fig, ax = model.plot_bar('log_like', sorted=False)"
   ]
  },
  {
   "cell_type": "code",
   "execution_count": null,
   "metadata": {},
   "outputs": [],
   "source": [
    "# Bar chart: hits\n",
    "fig, ax = model.plot_bar('hits', sorted=False)"
   ]
  },
  {
   "cell_type": "code",
   "execution_count": null,
   "metadata": {},
   "outputs": [],
   "source": [
    "# Bar chart: log likelihood\n",
    "fig, ax = model.plot_bar('log_R', sorted=False)"
   ]
  },
  {
   "cell_type": "code",
   "execution_count": null,
   "metadata": {},
   "outputs": [],
   "source": [
    "# # Learning curve: log likelihood\n",
    "# fig, ax = model.plot_hist('log_like')"
   ]
  },
  {
   "cell_type": "code",
   "execution_count": null,
   "metadata": {},
   "outputs": [],
   "source": [
    "# # Learning curve: hits\n",
    "# fig, ax = model.plot_hist('hits')"
   ]
  },
  {
   "cell_type": "markdown",
   "metadata": {},
   "source": [
    "## Distance vs. Nearest Asteroid for Fitted Elements"
   ]
  },
  {
   "cell_type": "code",
   "execution_count": null,
   "metadata": {},
   "outputs": [],
   "source": [
    "# Find nearest asteroid to fitted elements\n",
    "elts_fit, elts_near = model.nearest_ast()"
   ]
  },
  {
   "cell_type": "code",
   "execution_count": null,
   "metadata": {},
   "outputs": [],
   "source": [
    "q_norm = elt_q_norm(elts=elts_fit, ast_num=elts_fit.nearest_ast_num)\n",
    "elts_fit['nearest_ast_q_norm'] = q_norm"
   ]
  },
  {
   "cell_type": "code",
   "execution_count": null,
   "metadata": {},
   "outputs": [],
   "source": [
    "# # Review asteroids nearest to the fitted elements\n",
    "# elts_near"
   ]
  },
  {
   "cell_type": "code",
   "execution_count": null,
   "metadata": {},
   "outputs": [],
   "source": [
    "# Review fitted elements including nearest asteroid\n",
    "elts_fit"
   ]
  },
  {
   "cell_type": "code",
   "execution_count": null,
   "metadata": {},
   "outputs": [],
   "source": [
    "# Filter for only the good ones\n",
    "mask = (elts_fit.log_like > 200) & (elts_fit.R_sec < 60)\n",
    "elts_fit[mask]"
   ]
  },
  {
   "cell_type": "code",
   "execution_count": null,
   "metadata": {},
   "outputs": [],
   "source": [
    "# Filter for incomplete convergence\n",
    "mask = (elts_fit.log_like > 200) & (elts_fit.R_sec >= 60)\n",
    "elts_fit[mask]"
   ]
  },
  {
   "cell_type": "markdown",
   "metadata": {},
   "source": [
    "## Visualize Error vs. Nearest Asteroid"
   ]
  },
  {
   "cell_type": "code",
   "execution_count": null,
   "metadata": {},
   "outputs": [],
   "source": [
    "model.elts_near_ast"
   ]
  },
  {
   "cell_type": "code",
   "execution_count": null,
   "metadata": {},
   "outputs": [],
   "source": [
    "# Plot position error vs. known elements\n",
    "fig, ax = model.plot_q_error(is_log=True, use_near_ast_dist=True)"
   ]
  },
  {
   "cell_type": "code",
   "execution_count": null,
   "metadata": {},
   "outputs": [],
   "source": [
    "# Plot error in orbital elements\n",
    "fig, ax = model.plot_elt_error(elt_name='a', is_log=True, elt_num=None)"
   ]
  },
  {
   "cell_type": "code",
   "execution_count": null,
   "metadata": {},
   "outputs": [],
   "source": [
    "# Plot error in orbital elements\n",
    "fig, ax = model.plot_elt_error(elt_name='e', is_log=True, elt_num=None)"
   ]
  },
  {
   "cell_type": "code",
   "execution_count": null,
   "metadata": {},
   "outputs": [],
   "source": []
  }
 ],
 "metadata": {
  "kernelspec": {
   "display_name": "Python [conda env:kepler]",
   "language": "python",
   "name": "conda-env-kepler-py"
  },
  "language_info": {
   "codemirror_mode": {
    "name": "ipython",
    "version": 3
   },
   "file_extension": ".py",
   "mimetype": "text/x-python",
   "name": "python",
   "nbconvert_exporter": "python",
   "pygments_lexer": "ipython3",
   "version": "3.7.6"
  }
 },
 "nbformat": 4,
 "nbformat_minor": 4
}
