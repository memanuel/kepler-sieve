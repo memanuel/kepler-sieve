{
 "cells": [
  {
   "cell_type": "code",
   "execution_count": 1,
   "metadata": {},
   "outputs": [],
   "source": [
    "# Core\n",
    "import numpy as np\n",
    "import pandas as pd\n",
    "\n",
    "# Astronomy\n",
    "import rebound"
   ]
  },
  {
   "cell_type": "code",
   "execution_count": 2,
   "metadata": {},
   "outputs": [],
   "source": [
    "# Local imports\n",
    "import kepler_sieve\n",
    "from db_utils import sp2df"
   ]
  },
  {
   "cell_type": "code",
   "execution_count": 3,
   "metadata": {},
   "outputs": [],
   "source": [
    "from asteroid_element import get_ast_elts, make_sim_asteroids\n",
    "from orbital_element import anomaly_E2f, anomaly_f2E, anomaly_E2M, danby_guess, danby_iteration, anomaly_M2E_danby\n",
    "from orbital_element import elt2pos, elt2vec\n",
    "from orbital_element_test import make_test_elements, get_test_elements, angle_distance, report_test, test_E2f, test_E2M, test_M2E, test_all\n",
    "from asteroid_data import ast_add_earth_elts, ast_add_sun_vectors"
   ]
  },
  {
   "cell_type": "code",
   "execution_count": 4,
   "metadata": {},
   "outputs": [],
   "source": [
    "from planets_interp import get_earth_pos, get_earth_vectors, get_earth_elt, get_sun_vectors"
   ]
  },
  {
   "cell_type": "code",
   "execution_count": 5,
   "metadata": {},
   "outputs": [],
   "source": [
    "# Get test orbital elements\n",
    "elts = get_test_elements()"
   ]
  },
  {
   "cell_type": "code",
   "execution_count": 6,
   "metadata": {},
   "outputs": [
    {
     "output_type": "execute_result",
     "data": {
      "text/plain": [
       "        TimeID  AsteroidID      mjd        qx        qy        qz        vx  \\\n",
       "0     84960000           1  59000.0  2.200915 -1.931843 -0.467561  0.006340   \n",
       "1     84960000           2  59000.0  0.662691 -2.706223  1.817727  0.008356   \n",
       "2     84960000           3  59000.0 -2.901474 -1.192233  0.390143  0.001943   \n",
       "3     84960000           4  59000.0 -0.240387  2.551044 -0.047390 -0.010162   \n",
       "4     84960000           5  59000.0 -2.063769  0.498221  0.084128 -0.003827   \n",
       "...        ...         ...      ...       ...       ...       ...       ...   \n",
       "9988  84960000        9995  59000.0  1.929299  1.989779  0.047063 -0.006940   \n",
       "9989  84960000        9996  59000.0 -0.850272 -2.870477  0.281759  0.009476   \n",
       "9990  84960000        9997  59000.0 -2.235940 -1.662699 -0.104958  0.005379   \n",
       "9991  84960000        9998  59000.0  1.949042 -0.287275  0.015234  0.001389   \n",
       "9992  84960000        9999  59000.0 -0.195576 -2.674867 -0.024923  0.010739   \n",
       "\n",
       "            vy        vz         a         e       inc     Omega     omega  \\\n",
       "0     0.007130 -0.000945  2.767657  0.077557  0.184806  1.401272  1.286860   \n",
       "1     0.000283 -0.000904  2.773841  0.229972  0.607949  3.019851 -0.869132   \n",
       "2    -0.008331  0.001812  2.668285  0.256936  0.226736  2.964468 -1.953614   \n",
       "3    -0.001270  0.001274  2.362014  0.088516  0.124650  1.811810  2.633265   \n",
       "4    -0.012194  0.001120  2.574037  0.190913  0.093679  2.470881 -0.023590   \n",
       "...        ...       ...       ...       ...       ...       ...       ...   \n",
       "9988  0.006451  0.000343  2.390249  0.160610  0.040347  0.363924 -2.826248   \n",
       "9989 -0.000501  0.000683  2.796605  0.235174  0.133652 -2.629937  2.898821   \n",
       "9990 -0.008184 -0.000224  2.545674  0.113059  0.042929 -0.427796  1.579063   \n",
       "9991  0.012640  0.000860  2.160961  0.093852  0.068282 -0.262023  0.578132   \n",
       "9992 -0.000248 -0.000587  2.839917  0.071351  0.055830  1.332848 -2.196556   \n",
       "\n",
       "             f         M  \n",
       "0    -3.401546  2.839411  \n",
       "1     2.742191  2.530303  \n",
       "2     2.535135  2.189260  \n",
       "3    -2.783176 -2.716995  \n",
       "4     0.461775  0.311477  \n",
       "...        ...       ...  \n",
       "9988  3.260392 -2.979609  \n",
       "9989 -2.120904 -1.682728  \n",
       "9990 -3.649961  2.514484  \n",
       "9991 -0.465334 -0.386152  \n",
       "9992 -0.777759 -0.681360  \n",
       "\n",
       "[9993 rows x 16 columns]"
      ],
      "text/html": "<div>\n<style scoped>\n    .dataframe tbody tr th:only-of-type {\n        vertical-align: middle;\n    }\n\n    .dataframe tbody tr th {\n        vertical-align: top;\n    }\n\n    .dataframe thead th {\n        text-align: right;\n    }\n</style>\n<table border=\"1\" class=\"dataframe\">\n  <thead>\n    <tr style=\"text-align: right;\">\n      <th></th>\n      <th>TimeID</th>\n      <th>AsteroidID</th>\n      <th>mjd</th>\n      <th>qx</th>\n      <th>qy</th>\n      <th>qz</th>\n      <th>vx</th>\n      <th>vy</th>\n      <th>vz</th>\n      <th>a</th>\n      <th>e</th>\n      <th>inc</th>\n      <th>Omega</th>\n      <th>omega</th>\n      <th>f</th>\n      <th>M</th>\n    </tr>\n  </thead>\n  <tbody>\n    <tr>\n      <th>0</th>\n      <td>84960000</td>\n      <td>1</td>\n      <td>59000.0</td>\n      <td>2.200915</td>\n      <td>-1.931843</td>\n      <td>-0.467561</td>\n      <td>0.006340</td>\n      <td>0.007130</td>\n      <td>-0.000945</td>\n      <td>2.767657</td>\n      <td>0.077557</td>\n      <td>0.184806</td>\n      <td>1.401272</td>\n      <td>1.286860</td>\n      <td>-3.401546</td>\n      <td>2.839411</td>\n    </tr>\n    <tr>\n      <th>1</th>\n      <td>84960000</td>\n      <td>2</td>\n      <td>59000.0</td>\n      <td>0.662691</td>\n      <td>-2.706223</td>\n      <td>1.817727</td>\n      <td>0.008356</td>\n      <td>0.000283</td>\n      <td>-0.000904</td>\n      <td>2.773841</td>\n      <td>0.229972</td>\n      <td>0.607949</td>\n      <td>3.019851</td>\n      <td>-0.869132</td>\n      <td>2.742191</td>\n      <td>2.530303</td>\n    </tr>\n    <tr>\n      <th>2</th>\n      <td>84960000</td>\n      <td>3</td>\n      <td>59000.0</td>\n      <td>-2.901474</td>\n      <td>-1.192233</td>\n      <td>0.390143</td>\n      <td>0.001943</td>\n      <td>-0.008331</td>\n      <td>0.001812</td>\n      <td>2.668285</td>\n      <td>0.256936</td>\n      <td>0.226736</td>\n      <td>2.964468</td>\n      <td>-1.953614</td>\n      <td>2.535135</td>\n      <td>2.189260</td>\n    </tr>\n    <tr>\n      <th>3</th>\n      <td>84960000</td>\n      <td>4</td>\n      <td>59000.0</td>\n      <td>-0.240387</td>\n      <td>2.551044</td>\n      <td>-0.047390</td>\n      <td>-0.010162</td>\n      <td>-0.001270</td>\n      <td>0.001274</td>\n      <td>2.362014</td>\n      <td>0.088516</td>\n      <td>0.124650</td>\n      <td>1.811810</td>\n      <td>2.633265</td>\n      <td>-2.783176</td>\n      <td>-2.716995</td>\n    </tr>\n    <tr>\n      <th>4</th>\n      <td>84960000</td>\n      <td>5</td>\n      <td>59000.0</td>\n      <td>-2.063769</td>\n      <td>0.498221</td>\n      <td>0.084128</td>\n      <td>-0.003827</td>\n      <td>-0.012194</td>\n      <td>0.001120</td>\n      <td>2.574037</td>\n      <td>0.190913</td>\n      <td>0.093679</td>\n      <td>2.470881</td>\n      <td>-0.023590</td>\n      <td>0.461775</td>\n      <td>0.311477</td>\n    </tr>\n    <tr>\n      <th>...</th>\n      <td>...</td>\n      <td>...</td>\n      <td>...</td>\n      <td>...</td>\n      <td>...</td>\n      <td>...</td>\n      <td>...</td>\n      <td>...</td>\n      <td>...</td>\n      <td>...</td>\n      <td>...</td>\n      <td>...</td>\n      <td>...</td>\n      <td>...</td>\n      <td>...</td>\n      <td>...</td>\n    </tr>\n    <tr>\n      <th>9988</th>\n      <td>84960000</td>\n      <td>9995</td>\n      <td>59000.0</td>\n      <td>1.929299</td>\n      <td>1.989779</td>\n      <td>0.047063</td>\n      <td>-0.006940</td>\n      <td>0.006451</td>\n      <td>0.000343</td>\n      <td>2.390249</td>\n      <td>0.160610</td>\n      <td>0.040347</td>\n      <td>0.363924</td>\n      <td>-2.826248</td>\n      <td>3.260392</td>\n      <td>-2.979609</td>\n    </tr>\n    <tr>\n      <th>9989</th>\n      <td>84960000</td>\n      <td>9996</td>\n      <td>59000.0</td>\n      <td>-0.850272</td>\n      <td>-2.870477</td>\n      <td>0.281759</td>\n      <td>0.009476</td>\n      <td>-0.000501</td>\n      <td>0.000683</td>\n      <td>2.796605</td>\n      <td>0.235174</td>\n      <td>0.133652</td>\n      <td>-2.629937</td>\n      <td>2.898821</td>\n      <td>-2.120904</td>\n      <td>-1.682728</td>\n    </tr>\n    <tr>\n      <th>9990</th>\n      <td>84960000</td>\n      <td>9997</td>\n      <td>59000.0</td>\n      <td>-2.235940</td>\n      <td>-1.662699</td>\n      <td>-0.104958</td>\n      <td>0.005379</td>\n      <td>-0.008184</td>\n      <td>-0.000224</td>\n      <td>2.545674</td>\n      <td>0.113059</td>\n      <td>0.042929</td>\n      <td>-0.427796</td>\n      <td>1.579063</td>\n      <td>-3.649961</td>\n      <td>2.514484</td>\n    </tr>\n    <tr>\n      <th>9991</th>\n      <td>84960000</td>\n      <td>9998</td>\n      <td>59000.0</td>\n      <td>1.949042</td>\n      <td>-0.287275</td>\n      <td>0.015234</td>\n      <td>0.001389</td>\n      <td>0.012640</td>\n      <td>0.000860</td>\n      <td>2.160961</td>\n      <td>0.093852</td>\n      <td>0.068282</td>\n      <td>-0.262023</td>\n      <td>0.578132</td>\n      <td>-0.465334</td>\n      <td>-0.386152</td>\n    </tr>\n    <tr>\n      <th>9992</th>\n      <td>84960000</td>\n      <td>9999</td>\n      <td>59000.0</td>\n      <td>-0.195576</td>\n      <td>-2.674867</td>\n      <td>-0.024923</td>\n      <td>0.010739</td>\n      <td>-0.000248</td>\n      <td>-0.000587</td>\n      <td>2.839917</td>\n      <td>0.071351</td>\n      <td>0.055830</td>\n      <td>1.332848</td>\n      <td>-2.196556</td>\n      <td>-0.777759</td>\n      <td>-0.681360</td>\n    </tr>\n  </tbody>\n</table>\n<p>9993 rows × 16 columns</p>\n</div>"
     },
     "metadata": {},
     "execution_count": 6
    }
   ],
   "source": [
    "elts"
   ]
  },
  {
   "cell_type": "code",
   "execution_count": 7,
   "metadata": {},
   "outputs": [],
   "source": [
    "# Add vectors for the sun\n",
    "elts_aug = elts.copy()\n",
    "ast_add_earth_elts(elts_aug)\n",
    "ast_add_sun_vectors(elts_aug)\n"
   ]
  },
  {
   "cell_type": "code",
   "execution_count": 8,
   "metadata": {},
   "outputs": [
    {
     "output_type": "execute_result",
     "data": {
      "text/plain": [
       "        TimeID  AsteroidID      mjd        qx        qy        qz        vx  \\\n",
       "0     84960000           1  59000.0  2.200915 -1.931843 -0.467561  0.006340   \n",
       "1     84960000           2  59000.0  0.662691 -2.706223  1.817727  0.008356   \n",
       "2     84960000           3  59000.0 -2.901474 -1.192233  0.390143  0.001943   \n",
       "3     84960000           4  59000.0 -0.240387  2.551044 -0.047390 -0.010162   \n",
       "4     84960000           5  59000.0 -2.063769  0.498221  0.084128 -0.003827   \n",
       "...        ...         ...      ...       ...       ...       ...       ...   \n",
       "9988  84960000        9995  59000.0  1.929299  1.989779  0.047063 -0.006940   \n",
       "9989  84960000        9996  59000.0 -0.850272 -2.870477  0.281759  0.009476   \n",
       "9990  84960000        9997  59000.0 -2.235940 -1.662699 -0.104958  0.005379   \n",
       "9991  84960000        9998  59000.0  1.949042 -0.287275  0.015234  0.001389   \n",
       "9992  84960000        9999  59000.0 -0.195576 -2.674867 -0.024923  0.010739   \n",
       "\n",
       "            vy        vz         a  ...  earth_Omega  earth_omega   earth_f  \\\n",
       "0     0.007130 -0.000945  2.767657  ...     3.021905    -1.251463  2.588308   \n",
       "1     0.000283 -0.000904  2.773841  ...     3.021905    -1.251463  2.588308   \n",
       "2    -0.008331  0.001812  2.668285  ...     3.021905    -1.251463  2.588308   \n",
       "3    -0.001270  0.001274  2.362014  ...     3.021905    -1.251463  2.588308   \n",
       "4    -0.012194  0.001120  2.574037  ...     3.021905    -1.251463  2.588308   \n",
       "...        ...       ...       ...  ...          ...          ...       ...   \n",
       "9988  0.006451  0.000343  2.390249  ...     3.021905    -1.251463  2.588308   \n",
       "9989 -0.000501  0.000683  2.796605  ...     3.021905    -1.251463  2.588308   \n",
       "9990 -0.008184 -0.000224  2.545674  ...     3.021905    -1.251463  2.588308   \n",
       "9991  0.012640  0.000860  2.160961  ...     3.021905    -1.251463  2.588308   \n",
       "9992 -0.000248 -0.000587  2.839917  ...     3.021905    -1.251463  2.588308   \n",
       "\n",
       "       earth_M   sun_qx    sun_qy    sun_qz    sun_vx    sun_vy        sun_vz  \n",
       "0     2.570585 -0.00504  0.007027  0.000058 -0.000008 -0.000004  2.328685e-07  \n",
       "1     2.570585 -0.00504  0.007027  0.000058 -0.000008 -0.000004  2.328685e-07  \n",
       "2     2.570585 -0.00504  0.007027  0.000058 -0.000008 -0.000004  2.328685e-07  \n",
       "3     2.570585 -0.00504  0.007027  0.000058 -0.000008 -0.000004  2.328685e-07  \n",
       "4     2.570585 -0.00504  0.007027  0.000058 -0.000008 -0.000004  2.328685e-07  \n",
       "...        ...      ...       ...       ...       ...       ...           ...  \n",
       "9988  2.570585 -0.00504  0.007027  0.000058 -0.000008 -0.000004  2.328685e-07  \n",
       "9989  2.570585 -0.00504  0.007027  0.000058 -0.000008 -0.000004  2.328685e-07  \n",
       "9990  2.570585 -0.00504  0.007027  0.000058 -0.000008 -0.000004  2.328685e-07  \n",
       "9991  2.570585 -0.00504  0.007027  0.000058 -0.000008 -0.000004  2.328685e-07  \n",
       "9992  2.570585 -0.00504  0.007027  0.000058 -0.000008 -0.000004  2.328685e-07  \n",
       "\n",
       "[9993 rows x 29 columns]"
      ],
      "text/html": "<div>\n<style scoped>\n    .dataframe tbody tr th:only-of-type {\n        vertical-align: middle;\n    }\n\n    .dataframe tbody tr th {\n        vertical-align: top;\n    }\n\n    .dataframe thead th {\n        text-align: right;\n    }\n</style>\n<table border=\"1\" class=\"dataframe\">\n  <thead>\n    <tr style=\"text-align: right;\">\n      <th></th>\n      <th>TimeID</th>\n      <th>AsteroidID</th>\n      <th>mjd</th>\n      <th>qx</th>\n      <th>qy</th>\n      <th>qz</th>\n      <th>vx</th>\n      <th>vy</th>\n      <th>vz</th>\n      <th>a</th>\n      <th>...</th>\n      <th>earth_Omega</th>\n      <th>earth_omega</th>\n      <th>earth_f</th>\n      <th>earth_M</th>\n      <th>sun_qx</th>\n      <th>sun_qy</th>\n      <th>sun_qz</th>\n      <th>sun_vx</th>\n      <th>sun_vy</th>\n      <th>sun_vz</th>\n    </tr>\n  </thead>\n  <tbody>\n    <tr>\n      <th>0</th>\n      <td>84960000</td>\n      <td>1</td>\n      <td>59000.0</td>\n      <td>2.200915</td>\n      <td>-1.931843</td>\n      <td>-0.467561</td>\n      <td>0.006340</td>\n      <td>0.007130</td>\n      <td>-0.000945</td>\n      <td>2.767657</td>\n      <td>...</td>\n      <td>3.021905</td>\n      <td>-1.251463</td>\n      <td>2.588308</td>\n      <td>2.570585</td>\n      <td>-0.00504</td>\n      <td>0.007027</td>\n      <td>0.000058</td>\n      <td>-0.000008</td>\n      <td>-0.000004</td>\n      <td>2.328685e-07</td>\n    </tr>\n    <tr>\n      <th>1</th>\n      <td>84960000</td>\n      <td>2</td>\n      <td>59000.0</td>\n      <td>0.662691</td>\n      <td>-2.706223</td>\n      <td>1.817727</td>\n      <td>0.008356</td>\n      <td>0.000283</td>\n      <td>-0.000904</td>\n      <td>2.773841</td>\n      <td>...</td>\n      <td>3.021905</td>\n      <td>-1.251463</td>\n      <td>2.588308</td>\n      <td>2.570585</td>\n      <td>-0.00504</td>\n      <td>0.007027</td>\n      <td>0.000058</td>\n      <td>-0.000008</td>\n      <td>-0.000004</td>\n      <td>2.328685e-07</td>\n    </tr>\n    <tr>\n      <th>2</th>\n      <td>84960000</td>\n      <td>3</td>\n      <td>59000.0</td>\n      <td>-2.901474</td>\n      <td>-1.192233</td>\n      <td>0.390143</td>\n      <td>0.001943</td>\n      <td>-0.008331</td>\n      <td>0.001812</td>\n      <td>2.668285</td>\n      <td>...</td>\n      <td>3.021905</td>\n      <td>-1.251463</td>\n      <td>2.588308</td>\n      <td>2.570585</td>\n      <td>-0.00504</td>\n      <td>0.007027</td>\n      <td>0.000058</td>\n      <td>-0.000008</td>\n      <td>-0.000004</td>\n      <td>2.328685e-07</td>\n    </tr>\n    <tr>\n      <th>3</th>\n      <td>84960000</td>\n      <td>4</td>\n      <td>59000.0</td>\n      <td>-0.240387</td>\n      <td>2.551044</td>\n      <td>-0.047390</td>\n      <td>-0.010162</td>\n      <td>-0.001270</td>\n      <td>0.001274</td>\n      <td>2.362014</td>\n      <td>...</td>\n      <td>3.021905</td>\n      <td>-1.251463</td>\n      <td>2.588308</td>\n      <td>2.570585</td>\n      <td>-0.00504</td>\n      <td>0.007027</td>\n      <td>0.000058</td>\n      <td>-0.000008</td>\n      <td>-0.000004</td>\n      <td>2.328685e-07</td>\n    </tr>\n    <tr>\n      <th>4</th>\n      <td>84960000</td>\n      <td>5</td>\n      <td>59000.0</td>\n      <td>-2.063769</td>\n      <td>0.498221</td>\n      <td>0.084128</td>\n      <td>-0.003827</td>\n      <td>-0.012194</td>\n      <td>0.001120</td>\n      <td>2.574037</td>\n      <td>...</td>\n      <td>3.021905</td>\n      <td>-1.251463</td>\n      <td>2.588308</td>\n      <td>2.570585</td>\n      <td>-0.00504</td>\n      <td>0.007027</td>\n      <td>0.000058</td>\n      <td>-0.000008</td>\n      <td>-0.000004</td>\n      <td>2.328685e-07</td>\n    </tr>\n    <tr>\n      <th>...</th>\n      <td>...</td>\n      <td>...</td>\n      <td>...</td>\n      <td>...</td>\n      <td>...</td>\n      <td>...</td>\n      <td>...</td>\n      <td>...</td>\n      <td>...</td>\n      <td>...</td>\n      <td>...</td>\n      <td>...</td>\n      <td>...</td>\n      <td>...</td>\n      <td>...</td>\n      <td>...</td>\n      <td>...</td>\n      <td>...</td>\n      <td>...</td>\n      <td>...</td>\n      <td>...</td>\n    </tr>\n    <tr>\n      <th>9988</th>\n      <td>84960000</td>\n      <td>9995</td>\n      <td>59000.0</td>\n      <td>1.929299</td>\n      <td>1.989779</td>\n      <td>0.047063</td>\n      <td>-0.006940</td>\n      <td>0.006451</td>\n      <td>0.000343</td>\n      <td>2.390249</td>\n      <td>...</td>\n      <td>3.021905</td>\n      <td>-1.251463</td>\n      <td>2.588308</td>\n      <td>2.570585</td>\n      <td>-0.00504</td>\n      <td>0.007027</td>\n      <td>0.000058</td>\n      <td>-0.000008</td>\n      <td>-0.000004</td>\n      <td>2.328685e-07</td>\n    </tr>\n    <tr>\n      <th>9989</th>\n      <td>84960000</td>\n      <td>9996</td>\n      <td>59000.0</td>\n      <td>-0.850272</td>\n      <td>-2.870477</td>\n      <td>0.281759</td>\n      <td>0.009476</td>\n      <td>-0.000501</td>\n      <td>0.000683</td>\n      <td>2.796605</td>\n      <td>...</td>\n      <td>3.021905</td>\n      <td>-1.251463</td>\n      <td>2.588308</td>\n      <td>2.570585</td>\n      <td>-0.00504</td>\n      <td>0.007027</td>\n      <td>0.000058</td>\n      <td>-0.000008</td>\n      <td>-0.000004</td>\n      <td>2.328685e-07</td>\n    </tr>\n    <tr>\n      <th>9990</th>\n      <td>84960000</td>\n      <td>9997</td>\n      <td>59000.0</td>\n      <td>-2.235940</td>\n      <td>-1.662699</td>\n      <td>-0.104958</td>\n      <td>0.005379</td>\n      <td>-0.008184</td>\n      <td>-0.000224</td>\n      <td>2.545674</td>\n      <td>...</td>\n      <td>3.021905</td>\n      <td>-1.251463</td>\n      <td>2.588308</td>\n      <td>2.570585</td>\n      <td>-0.00504</td>\n      <td>0.007027</td>\n      <td>0.000058</td>\n      <td>-0.000008</td>\n      <td>-0.000004</td>\n      <td>2.328685e-07</td>\n    </tr>\n    <tr>\n      <th>9991</th>\n      <td>84960000</td>\n      <td>9998</td>\n      <td>59000.0</td>\n      <td>1.949042</td>\n      <td>-0.287275</td>\n      <td>0.015234</td>\n      <td>0.001389</td>\n      <td>0.012640</td>\n      <td>0.000860</td>\n      <td>2.160961</td>\n      <td>...</td>\n      <td>3.021905</td>\n      <td>-1.251463</td>\n      <td>2.588308</td>\n      <td>2.570585</td>\n      <td>-0.00504</td>\n      <td>0.007027</td>\n      <td>0.000058</td>\n      <td>-0.000008</td>\n      <td>-0.000004</td>\n      <td>2.328685e-07</td>\n    </tr>\n    <tr>\n      <th>9992</th>\n      <td>84960000</td>\n      <td>9999</td>\n      <td>59000.0</td>\n      <td>-0.195576</td>\n      <td>-2.674867</td>\n      <td>-0.024923</td>\n      <td>0.010739</td>\n      <td>-0.000248</td>\n      <td>-0.000587</td>\n      <td>2.839917</td>\n      <td>...</td>\n      <td>3.021905</td>\n      <td>-1.251463</td>\n      <td>2.588308</td>\n      <td>2.570585</td>\n      <td>-0.00504</td>\n      <td>0.007027</td>\n      <td>0.000058</td>\n      <td>-0.000008</td>\n      <td>-0.000004</td>\n      <td>2.328685e-07</td>\n    </tr>\n  </tbody>\n</table>\n<p>9993 rows × 29 columns</p>\n</div>"
     },
     "metadata": {},
     "execution_count": 8
    }
   ],
   "source": [
    "elts_aug"
   ]
  },
  {
   "cell_type": "code",
   "execution_count": 10,
   "metadata": {},
   "outputs": [
    {
     "output_type": "execute_result",
     "data": {
      "text/plain": [
       "        TimeID  AsteroidID      mjd\n",
       "0     84960000           1  59000.0\n",
       "1     84960000           2  59000.0\n",
       "2     84960000           3  59000.0\n",
       "3     84960000           4  59000.0\n",
       "4     84960000           5  59000.0\n",
       "...        ...         ...      ...\n",
       "9988  84960000        9995  59000.0\n",
       "9989  84960000        9996  59000.0\n",
       "9990  84960000        9997  59000.0\n",
       "9991  84960000        9998  59000.0\n",
       "9992  84960000        9999  59000.0\n",
       "\n",
       "[9993 rows x 3 columns]"
      ],
      "text/html": "<div>\n<style scoped>\n    .dataframe tbody tr th:only-of-type {\n        vertical-align: middle;\n    }\n\n    .dataframe tbody tr th {\n        vertical-align: top;\n    }\n\n    .dataframe thead th {\n        text-align: right;\n    }\n</style>\n<table border=\"1\" class=\"dataframe\">\n  <thead>\n    <tr style=\"text-align: right;\">\n      <th></th>\n      <th>TimeID</th>\n      <th>AsteroidID</th>\n      <th>mjd</th>\n    </tr>\n  </thead>\n  <tbody>\n    <tr>\n      <th>0</th>\n      <td>84960000</td>\n      <td>1</td>\n      <td>59000.0</td>\n    </tr>\n    <tr>\n      <th>1</th>\n      <td>84960000</td>\n      <td>2</td>\n      <td>59000.0</td>\n    </tr>\n    <tr>\n      <th>2</th>\n      <td>84960000</td>\n      <td>3</td>\n      <td>59000.0</td>\n    </tr>\n    <tr>\n      <th>3</th>\n      <td>84960000</td>\n      <td>4</td>\n      <td>59000.0</td>\n    </tr>\n    <tr>\n      <th>4</th>\n      <td>84960000</td>\n      <td>5</td>\n      <td>59000.0</td>\n    </tr>\n    <tr>\n      <th>...</th>\n      <td>...</td>\n      <td>...</td>\n      <td>...</td>\n    </tr>\n    <tr>\n      <th>9988</th>\n      <td>84960000</td>\n      <td>9995</td>\n      <td>59000.0</td>\n    </tr>\n    <tr>\n      <th>9989</th>\n      <td>84960000</td>\n      <td>9996</td>\n      <td>59000.0</td>\n    </tr>\n    <tr>\n      <th>9990</th>\n      <td>84960000</td>\n      <td>9997</td>\n      <td>59000.0</td>\n    </tr>\n    <tr>\n      <th>9991</th>\n      <td>84960000</td>\n      <td>9998</td>\n      <td>59000.0</td>\n    </tr>\n    <tr>\n      <th>9992</th>\n      <td>84960000</td>\n      <td>9999</td>\n      <td>59000.0</td>\n    </tr>\n  </tbody>\n</table>\n<p>9993 rows × 3 columns</p>\n</div>"
     },
     "metadata": {},
     "execution_count": 10
    }
   ],
   "source": [
    "key_cols = elts.columns[0:3]\n",
    "elts[key_cols]"
   ]
  },
  {
   "cell_type": "code",
   "execution_count": 7,
   "metadata": {},
   "outputs": [],
   "source": [
    "# test_all()"
   ]
  },
  {
   "cell_type": "code",
   "execution_count": 7,
   "metadata": {},
   "outputs": [],
   "source": [
    "# Unpack orbital elements\n",
    "a = elts.a.values\n",
    "e = elts.e.values\n",
    "inc = elts.inc.values\n",
    "Omega = elts.Omega.values\n",
    "omega = elts.omega.values\n",
    "f = elts.f.values\n",
    "M = elts.M.values"
   ]
  },
  {
   "cell_type": "code",
   "execution_count": 9,
   "metadata": {},
   "outputs": [],
   "source": [
    "# The state vectors according to the integration\n",
    "cols_q = ['qx', 'qy', 'qz']\n",
    "cols_v = ['vx', 'vy', 'vz']\n",
    "q: np.array = elts[cols_q].values\n",
    "v: np.array = elts[cols_v].values\n"
   ]
  },
  {
   "cell_type": "code",
   "execution_count": 24,
   "metadata": {},
   "outputs": [],
   "source": [
    "# State vectors from elements\n",
    "q_hel, v_hel = elt2vec(a=a, e=e, inc=inc, Omega=Omega, omega=omega, f=f)"
   ]
  },
  {
   "cell_type": "code",
   "execution_count": 25,
   "metadata": {},
   "outputs": [],
   "source": [
    "# State vectors for sun\n",
    "ts = elts.mjd.values\n",
    "q_sun, v_sun = get_sun_vectors(ts)"
   ]
  },
  {
   "cell_type": "code",
   "execution_count": 26,
   "metadata": {},
   "outputs": [],
   "source": [
    "# Barycentric state vectors from elements\n",
    "q2 = q_hel + q_sun\n",
    "v2 = v_hel + v_sun"
   ]
  },
  {
   "cell_type": "code",
   "execution_count": 27,
   "metadata": {},
   "outputs": [],
   "source": [
    "# difference in vectors\n",
    "dq = q2 - q\n",
    "dv = v2 - v\n",
    "\n",
    "# error in vectors\n",
    "err_q: np.array = np.sqrt(np.sum(np.square(dq), axis=-1))\n",
    "err_v: np.array = np.sqrt(np.sum(np.square(dv), axis=-1))"
   ]
  },
  {
   "cell_type": "code",
   "execution_count": 29,
   "metadata": {},
   "outputs": [
    {
     "output_type": "execute_result",
     "data": {
      "text/plain": [
       "4.233503582580232e-15"
      ]
     },
     "metadata": {},
     "execution_count": 29
    }
   ],
   "source": [
    "np.mean(err_q)"
   ]
  },
  {
   "cell_type": "code",
   "execution_count": 30,
   "metadata": {},
   "outputs": [
    {
     "output_type": "execute_result",
     "data": {
      "text/plain": [
       "array([3.49542859, 3.06629608, 3.18467013, ..., 3.56878981, 4.64392038,\n",
       "       3.92160801])"
      ]
     },
     "metadata": {},
     "execution_count": 30
    }
   ],
   "source": [
    "err_v"
   ]
  },
  {
   "cell_type": "code",
   "execution_count": 31,
   "metadata": {},
   "outputs": [
    {
     "output_type": "execute_result",
     "data": {
      "text/plain": [
       "array([ 0.00634042,  0.00713024, -0.00094455])"
      ]
     },
     "metadata": {},
     "execution_count": 31
    }
   ],
   "source": [
    "v[0]"
   ]
  },
  {
   "cell_type": "code",
   "execution_count": 32,
   "metadata": {},
   "outputs": [
    {
     "output_type": "execute_result",
     "data": {
      "text/plain": [
       "array([ 2.31879481,  2.60561919, -0.34508249])"
      ]
     },
     "metadata": {},
     "execution_count": 32
    }
   ],
   "source": [
    "v2[0]"
   ]
  },
  {
   "cell_type": "code",
   "execution_count": 33,
   "metadata": {},
   "outputs": [
    {
     "output_type": "execute_result",
     "data": {
      "text/plain": [
       "0.009588193859724448"
      ]
     },
     "metadata": {},
     "execution_count": 33
    }
   ],
   "source": [
    "np.linalg.norm(v[0])"
   ]
  },
  {
   "cell_type": "code",
   "execution_count": 35,
   "metadata": {},
   "outputs": [
    {
     "output_type": "execute_result",
     "data": {
      "text/plain": [
       "3.5050167831417713"
      ]
     },
     "metadata": {},
     "execution_count": 35
    }
   ],
   "source": [
    "np.linalg.norm(v2[0])"
   ]
  },
  {
   "cell_type": "code",
   "execution_count": 36,
   "metadata": {},
   "outputs": [
    {
     "output_type": "execute_result",
     "data": {
      "text/plain": [
       "365.5554773318383"
      ]
     },
     "metadata": {},
     "execution_count": 36
    }
   ],
   "source": [
    "np.linalg.norm(v2[0])  / np.linalg.norm(v[0])"
   ]
  },
  {
   "cell_type": "code",
   "execution_count": 37,
   "metadata": {},
   "outputs": [],
   "source": [
    "from rebound_sim import make_sim_planets"
   ]
  },
  {
   "cell_type": "code",
   "execution_count": 38,
   "metadata": {},
   "outputs": [],
   "source": [
    "sim = make_sim_planets(epoch=59000)"
   ]
  },
  {
   "cell_type": "code",
   "execution_count": 40,
   "metadata": {},
   "outputs": [
    {
     "output_type": "stream",
     "name": "stdout",
     "text": [
      "2.959122082855910945e-04\n"
     ]
    }
   ],
   "source": [
    "print(f'{sim.G:20.18e}')"
   ]
  },
  {
   "cell_type": "code",
   "execution_count": null,
   "metadata": {},
   "outputs": [],
   "source": []
  }
 ],
 "metadata": {
  "kernelspec": {
   "name": "python385jvsc74a57bd02fedf230483cf0b89defa3251873a69144496d82ff9837a518775b45b58b2cde",
   "display_name": "Python 3.8.5 64-bit ('kepler': conda)"
  },
  "language_info": {
   "codemirror_mode": {
    "name": "ipython",
    "version": 3
   },
   "file_extension": ".py",
   "mimetype": "text/x-python",
   "name": "python",
   "nbconvert_exporter": "python",
   "pygments_lexer": "ipython3",
   "version": "3.8.5"
  }
 },
 "nbformat": 4,
 "nbformat_minor": 4
}