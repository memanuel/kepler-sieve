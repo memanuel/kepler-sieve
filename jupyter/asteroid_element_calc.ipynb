{
 "cells": [
  {
   "cell_type": "code",
   "execution_count": 1,
   "metadata": {},
   "outputs": [],
   "source": [
    "# Core\n",
    "import numpy as np\n",
    "import pandas as pd\n",
    "\n",
    "# Astronomy\n",
    "import rebound"
   ]
  },
  {
   "cell_type": "code",
   "execution_count": 2,
   "metadata": {},
   "outputs": [],
   "source": [
    "# Local imports\n",
    "import kepler_sieve\n",
    "from db_utils import sp2df"
   ]
  },
  {
   "cell_type": "code",
   "execution_count": 3,
   "metadata": {},
   "outputs": [],
   "source": [
    "from asteroid_element import get_ast_elts, get_ast_ref_elts, make_sim_asteroids\n",
    "from asteroid_element_synch import process_dates, calc_ref_elt"
   ]
  },
  {
   "cell_type": "code",
   "execution_count": 13,
   "metadata": {},
   "outputs": [],
   "source": [
    "# Get orbital elements of first 10 asteroids\n",
    "n0=0\n",
    "n1=10000\n",
    "epoch=59000\n",
    "elts = get_ast_elts(n0=n0, n1=n1, epoch=epoch)"
   ]
  },
  {
   "cell_type": "code",
   "execution_count": 14,
   "metadata": {},
   "outputs": [
    {
     "output_type": "execute_result",
     "data": {
      "text/plain": [
       "        TimeID  AsteroidID      mjd         a         e       inc     Omega  \\\n",
       "0     84960000           1  59000.0  2.767657  0.077557  0.184806  1.401272   \n",
       "1     84960000           2  59000.0  2.773841  0.229972  0.607949  3.019851   \n",
       "2     84960000           3  59000.0  2.668285  0.256936  0.226736  2.964468   \n",
       "3     84960000           4  59000.0  2.362014  0.088516  0.124650  1.811810   \n",
       "4     84960000           5  59000.0  2.574037  0.190913  0.093679  2.470881   \n",
       "...        ...         ...      ...       ...       ...       ...       ...   \n",
       "9988  84960000        9995  59000.0  2.390249  0.160610  0.040347  0.363924   \n",
       "9989  84960000        9996  59000.0  2.796605  0.235174  0.133652 -2.629937   \n",
       "9990  84960000        9997  59000.0  2.545674  0.113059  0.042929 -0.427796   \n",
       "9991  84960000        9998  59000.0  2.160961  0.093852  0.068282 -0.262023   \n",
       "9992  84960000        9999  59000.0  2.839917  0.071351  0.055830  1.332848   \n",
       "\n",
       "         omega         f         M  \n",
       "0     1.286860 -3.401546  2.839411  \n",
       "1    -0.869132  2.742191  2.530303  \n",
       "2    -1.953614  2.535135  2.189260  \n",
       "3     2.633265 -2.783176 -2.716995  \n",
       "4    -0.023590  0.461775  0.311477  \n",
       "...        ...       ...       ...  \n",
       "9988 -2.826248  3.260392 -2.979609  \n",
       "9989  2.898821 -2.120904 -1.682728  \n",
       "9990  1.579063 -3.649961  2.514484  \n",
       "9991  0.578132 -0.465334 -0.386152  \n",
       "9992 -2.196556 -0.777759 -0.681360  \n",
       "\n",
       "[9993 rows x 10 columns]"
      ],
      "text/html": "<div>\n<style scoped>\n    .dataframe tbody tr th:only-of-type {\n        vertical-align: middle;\n    }\n\n    .dataframe tbody tr th {\n        vertical-align: top;\n    }\n\n    .dataframe thead th {\n        text-align: right;\n    }\n</style>\n<table border=\"1\" class=\"dataframe\">\n  <thead>\n    <tr style=\"text-align: right;\">\n      <th></th>\n      <th>TimeID</th>\n      <th>AsteroidID</th>\n      <th>mjd</th>\n      <th>a</th>\n      <th>e</th>\n      <th>inc</th>\n      <th>Omega</th>\n      <th>omega</th>\n      <th>f</th>\n      <th>M</th>\n    </tr>\n  </thead>\n  <tbody>\n    <tr>\n      <th>0</th>\n      <td>84960000</td>\n      <td>1</td>\n      <td>59000.0</td>\n      <td>2.767657</td>\n      <td>0.077557</td>\n      <td>0.184806</td>\n      <td>1.401272</td>\n      <td>1.286860</td>\n      <td>-3.401546</td>\n      <td>2.839411</td>\n    </tr>\n    <tr>\n      <th>1</th>\n      <td>84960000</td>\n      <td>2</td>\n      <td>59000.0</td>\n      <td>2.773841</td>\n      <td>0.229972</td>\n      <td>0.607949</td>\n      <td>3.019851</td>\n      <td>-0.869132</td>\n      <td>2.742191</td>\n      <td>2.530303</td>\n    </tr>\n    <tr>\n      <th>2</th>\n      <td>84960000</td>\n      <td>3</td>\n      <td>59000.0</td>\n      <td>2.668285</td>\n      <td>0.256936</td>\n      <td>0.226736</td>\n      <td>2.964468</td>\n      <td>-1.953614</td>\n      <td>2.535135</td>\n      <td>2.189260</td>\n    </tr>\n    <tr>\n      <th>3</th>\n      <td>84960000</td>\n      <td>4</td>\n      <td>59000.0</td>\n      <td>2.362014</td>\n      <td>0.088516</td>\n      <td>0.124650</td>\n      <td>1.811810</td>\n      <td>2.633265</td>\n      <td>-2.783176</td>\n      <td>-2.716995</td>\n    </tr>\n    <tr>\n      <th>4</th>\n      <td>84960000</td>\n      <td>5</td>\n      <td>59000.0</td>\n      <td>2.574037</td>\n      <td>0.190913</td>\n      <td>0.093679</td>\n      <td>2.470881</td>\n      <td>-0.023590</td>\n      <td>0.461775</td>\n      <td>0.311477</td>\n    </tr>\n    <tr>\n      <th>...</th>\n      <td>...</td>\n      <td>...</td>\n      <td>...</td>\n      <td>...</td>\n      <td>...</td>\n      <td>...</td>\n      <td>...</td>\n      <td>...</td>\n      <td>...</td>\n      <td>...</td>\n    </tr>\n    <tr>\n      <th>9988</th>\n      <td>84960000</td>\n      <td>9995</td>\n      <td>59000.0</td>\n      <td>2.390249</td>\n      <td>0.160610</td>\n      <td>0.040347</td>\n      <td>0.363924</td>\n      <td>-2.826248</td>\n      <td>3.260392</td>\n      <td>-2.979609</td>\n    </tr>\n    <tr>\n      <th>9989</th>\n      <td>84960000</td>\n      <td>9996</td>\n      <td>59000.0</td>\n      <td>2.796605</td>\n      <td>0.235174</td>\n      <td>0.133652</td>\n      <td>-2.629937</td>\n      <td>2.898821</td>\n      <td>-2.120904</td>\n      <td>-1.682728</td>\n    </tr>\n    <tr>\n      <th>9990</th>\n      <td>84960000</td>\n      <td>9997</td>\n      <td>59000.0</td>\n      <td>2.545674</td>\n      <td>0.113059</td>\n      <td>0.042929</td>\n      <td>-0.427796</td>\n      <td>1.579063</td>\n      <td>-3.649961</td>\n      <td>2.514484</td>\n    </tr>\n    <tr>\n      <th>9991</th>\n      <td>84960000</td>\n      <td>9998</td>\n      <td>59000.0</td>\n      <td>2.160961</td>\n      <td>0.093852</td>\n      <td>0.068282</td>\n      <td>-0.262023</td>\n      <td>0.578132</td>\n      <td>-0.465334</td>\n      <td>-0.386152</td>\n    </tr>\n    <tr>\n      <th>9992</th>\n      <td>84960000</td>\n      <td>9999</td>\n      <td>59000.0</td>\n      <td>2.839917</td>\n      <td>0.071351</td>\n      <td>0.055830</td>\n      <td>1.332848</td>\n      <td>-2.196556</td>\n      <td>-0.777759</td>\n      <td>-0.681360</td>\n    </tr>\n  </tbody>\n</table>\n<p>9993 rows × 10 columns</p>\n</div>"
     },
     "metadata": {},
     "execution_count": 14
    }
   ],
   "source": [
    "elts"
   ]
  },
  {
   "cell_type": "code",
   "execution_count": 15,
   "metadata": {},
   "outputs": [],
   "source": [
    "# Build simulation with these\n",
    "# sim = make_sim_asteroids(epoch=epoch, n0=n0, n1=n1)"
   ]
  },
  {
   "cell_type": "code",
   "execution_count": 16,
   "metadata": {},
   "outputs": [],
   "source": [
    "# Unpack elements\n",
    "a = elts.a.values\n",
    "e = elts.e.values\n",
    "inc = elts.inc.values\n",
    "Omega = elts.Omega.values\n",
    "omega = elts.omega.values\n",
    "f = elts.f.values\n",
    "M = elts.M.values"
   ]
  },
  {
   "cell_type": "code",
   "execution_count": null,
   "metadata": {},
   "outputs": [],
   "source": []
  },
  {
   "cell_type": "code",
   "execution_count": null,
   "metadata": {},
   "outputs": [],
   "source": []
  }
 ],
 "metadata": {
  "kernelspec": {
   "name": "python385jvsc74a57bd02fedf230483cf0b89defa3251873a69144496d82ff9837a518775b45b58b2cde",
   "display_name": "Python 3.8.5 64-bit ('kepler': conda)"
  },
  "language_info": {
   "codemirror_mode": {
    "name": "ipython",
    "version": 3
   },
   "file_extension": ".py",
   "mimetype": "text/x-python",
   "name": "python",
   "nbconvert_exporter": "python",
   "pygments_lexer": "ipython3",
   "version": "3.8.5"
  }
 },
 "nbformat": 4,
 "nbformat_minor": 4
}