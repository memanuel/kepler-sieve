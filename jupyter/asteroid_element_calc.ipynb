{
 "cells": [
  {
   "cell_type": "code",
   "execution_count": 1,
   "metadata": {},
   "outputs": [],
   "source": [
    "# Core\n",
    "import numpy as np\n",
    "import pandas as pd\n",
    "\n",
    "# Astronomy\n",
    "import rebound"
   ]
  },
  {
   "cell_type": "code",
   "execution_count": 2,
   "metadata": {},
   "outputs": [],
   "source": [
    "# Local imports\n",
    "import kepler_sieve\n",
    "from db_utils import sp2df"
   ]
  },
  {
   "cell_type": "code",
   "execution_count": 3,
   "metadata": {},
   "outputs": [],
   "source": [
    "from asteroid_element import get_ast_elts, make_sim_asteroids\n",
    "from orbital_element import anomaly_E2f, anomaly_f2E, anomaly_E2M, danby_guess, danby_iteration, elt2pos\n",
    "from orbital_element_test import make_test_elements, get_test_elements, angle_distance, report_test, test_E2f, test_E2M, test_M2E, test_all\n",
    "from asteroid_data import ast_add_sun_vectors"
   ]
  },
  {
   "cell_type": "code",
   "execution_count": 4,
   "metadata": {},
   "outputs": [],
   "source": [
    "from planets_interp import get_earth_pos, get_earth_vectors, get_earth_elt, get_sun_vectors"
   ]
  },
  {
   "cell_type": "code",
   "execution_count": 5,
   "metadata": {},
   "outputs": [],
   "source": [
    "# Get test orbital elements\n",
    "elts = get_test_elements()\n",
    "\n",
    "# Add vectors for the sun\n",
    "ast_add_sun_vectors(elts)"
   ]
  },
  {
   "cell_type": "code",
   "execution_count": 6,
   "metadata": {},
   "outputs": [
    {
     "output_type": "execute_result",
     "data": {
      "text/plain": [
       "        TimeID  AsteroidID      mjd        qx        qy        qz        vx  \\\n",
       "0     84960000           1  59000.0  2.200915 -1.931843 -0.467561  0.006340   \n",
       "1     84960000           2  59000.0  0.662691 -2.706223  1.817727  0.008356   \n",
       "2     84960000           3  59000.0 -2.901474 -1.192233  0.390143  0.001943   \n",
       "3     84960000           4  59000.0 -0.240387  2.551044 -0.047390 -0.010162   \n",
       "4     84960000           5  59000.0 -2.063769  0.498221  0.084128 -0.003827   \n",
       "...        ...         ...      ...       ...       ...       ...       ...   \n",
       "9988  84960000        9995  59000.0  1.929299  1.989779  0.047063 -0.006940   \n",
       "9989  84960000        9996  59000.0 -0.850272 -2.870477  0.281759  0.009476   \n",
       "9990  84960000        9997  59000.0 -2.235940 -1.662699 -0.104958  0.005379   \n",
       "9991  84960000        9998  59000.0  1.949042 -0.287275  0.015234  0.001389   \n",
       "9992  84960000        9999  59000.0 -0.195576 -2.674867 -0.024923  0.010739   \n",
       "\n",
       "            vy        vz         a  ...     Omega     omega         f  \\\n",
       "0     0.007130 -0.000945  2.767657  ...  1.401272  1.286860 -3.401546   \n",
       "1     0.000283 -0.000904  2.773841  ...  3.019851 -0.869132  2.742191   \n",
       "2    -0.008331  0.001812  2.668285  ...  2.964468 -1.953614  2.535135   \n",
       "3    -0.001270  0.001274  2.362014  ...  1.811810  2.633265 -2.783176   \n",
       "4    -0.012194  0.001120  2.574037  ...  2.470881 -0.023590  0.461775   \n",
       "...        ...       ...       ...  ...       ...       ...       ...   \n",
       "9988  0.006451  0.000343  2.390249  ...  0.363924 -2.826248  3.260392   \n",
       "9989 -0.000501  0.000683  2.796605  ... -2.629937  2.898821 -2.120904   \n",
       "9990 -0.008184 -0.000224  2.545674  ... -0.427796  1.579063 -3.649961   \n",
       "9991  0.012640  0.000860  2.160961  ... -0.262023  0.578132 -0.465334   \n",
       "9992 -0.000248 -0.000587  2.839917  ...  1.332848 -2.196556 -0.777759   \n",
       "\n",
       "             M   sun_qx    sun_qy    sun_qz    sun_vx    sun_vy        sun_vz  \n",
       "0     2.839411 -0.00504  0.007027  0.000058 -0.000008 -0.000004  2.328685e-07  \n",
       "1     2.530303 -0.00504  0.007027  0.000058 -0.000008 -0.000004  2.328685e-07  \n",
       "2     2.189260 -0.00504  0.007027  0.000058 -0.000008 -0.000004  2.328685e-07  \n",
       "3    -2.716995 -0.00504  0.007027  0.000058 -0.000008 -0.000004  2.328685e-07  \n",
       "4     0.311477 -0.00504  0.007027  0.000058 -0.000008 -0.000004  2.328685e-07  \n",
       "...        ...      ...       ...       ...       ...       ...           ...  \n",
       "9988 -2.979609 -0.00504  0.007027  0.000058 -0.000008 -0.000004  2.328685e-07  \n",
       "9989 -1.682728 -0.00504  0.007027  0.000058 -0.000008 -0.000004  2.328685e-07  \n",
       "9990  2.514484 -0.00504  0.007027  0.000058 -0.000008 -0.000004  2.328685e-07  \n",
       "9991 -0.386152 -0.00504  0.007027  0.000058 -0.000008 -0.000004  2.328685e-07  \n",
       "9992 -0.681360 -0.00504  0.007027  0.000058 -0.000008 -0.000004  2.328685e-07  \n",
       "\n",
       "[9993 rows x 22 columns]"
      ],
      "text/html": "<div>\n<style scoped>\n    .dataframe tbody tr th:only-of-type {\n        vertical-align: middle;\n    }\n\n    .dataframe tbody tr th {\n        vertical-align: top;\n    }\n\n    .dataframe thead th {\n        text-align: right;\n    }\n</style>\n<table border=\"1\" class=\"dataframe\">\n  <thead>\n    <tr style=\"text-align: right;\">\n      <th></th>\n      <th>TimeID</th>\n      <th>AsteroidID</th>\n      <th>mjd</th>\n      <th>qx</th>\n      <th>qy</th>\n      <th>qz</th>\n      <th>vx</th>\n      <th>vy</th>\n      <th>vz</th>\n      <th>a</th>\n      <th>...</th>\n      <th>Omega</th>\n      <th>omega</th>\n      <th>f</th>\n      <th>M</th>\n      <th>sun_qx</th>\n      <th>sun_qy</th>\n      <th>sun_qz</th>\n      <th>sun_vx</th>\n      <th>sun_vy</th>\n      <th>sun_vz</th>\n    </tr>\n  </thead>\n  <tbody>\n    <tr>\n      <th>0</th>\n      <td>84960000</td>\n      <td>1</td>\n      <td>59000.0</td>\n      <td>2.200915</td>\n      <td>-1.931843</td>\n      <td>-0.467561</td>\n      <td>0.006340</td>\n      <td>0.007130</td>\n      <td>-0.000945</td>\n      <td>2.767657</td>\n      <td>...</td>\n      <td>1.401272</td>\n      <td>1.286860</td>\n      <td>-3.401546</td>\n      <td>2.839411</td>\n      <td>-0.00504</td>\n      <td>0.007027</td>\n      <td>0.000058</td>\n      <td>-0.000008</td>\n      <td>-0.000004</td>\n      <td>2.328685e-07</td>\n    </tr>\n    <tr>\n      <th>1</th>\n      <td>84960000</td>\n      <td>2</td>\n      <td>59000.0</td>\n      <td>0.662691</td>\n      <td>-2.706223</td>\n      <td>1.817727</td>\n      <td>0.008356</td>\n      <td>0.000283</td>\n      <td>-0.000904</td>\n      <td>2.773841</td>\n      <td>...</td>\n      <td>3.019851</td>\n      <td>-0.869132</td>\n      <td>2.742191</td>\n      <td>2.530303</td>\n      <td>-0.00504</td>\n      <td>0.007027</td>\n      <td>0.000058</td>\n      <td>-0.000008</td>\n      <td>-0.000004</td>\n      <td>2.328685e-07</td>\n    </tr>\n    <tr>\n      <th>2</th>\n      <td>84960000</td>\n      <td>3</td>\n      <td>59000.0</td>\n      <td>-2.901474</td>\n      <td>-1.192233</td>\n      <td>0.390143</td>\n      <td>0.001943</td>\n      <td>-0.008331</td>\n      <td>0.001812</td>\n      <td>2.668285</td>\n      <td>...</td>\n      <td>2.964468</td>\n      <td>-1.953614</td>\n      <td>2.535135</td>\n      <td>2.189260</td>\n      <td>-0.00504</td>\n      <td>0.007027</td>\n      <td>0.000058</td>\n      <td>-0.000008</td>\n      <td>-0.000004</td>\n      <td>2.328685e-07</td>\n    </tr>\n    <tr>\n      <th>3</th>\n      <td>84960000</td>\n      <td>4</td>\n      <td>59000.0</td>\n      <td>-0.240387</td>\n      <td>2.551044</td>\n      <td>-0.047390</td>\n      <td>-0.010162</td>\n      <td>-0.001270</td>\n      <td>0.001274</td>\n      <td>2.362014</td>\n      <td>...</td>\n      <td>1.811810</td>\n      <td>2.633265</td>\n      <td>-2.783176</td>\n      <td>-2.716995</td>\n      <td>-0.00504</td>\n      <td>0.007027</td>\n      <td>0.000058</td>\n      <td>-0.000008</td>\n      <td>-0.000004</td>\n      <td>2.328685e-07</td>\n    </tr>\n    <tr>\n      <th>4</th>\n      <td>84960000</td>\n      <td>5</td>\n      <td>59000.0</td>\n      <td>-2.063769</td>\n      <td>0.498221</td>\n      <td>0.084128</td>\n      <td>-0.003827</td>\n      <td>-0.012194</td>\n      <td>0.001120</td>\n      <td>2.574037</td>\n      <td>...</td>\n      <td>2.470881</td>\n      <td>-0.023590</td>\n      <td>0.461775</td>\n      <td>0.311477</td>\n      <td>-0.00504</td>\n      <td>0.007027</td>\n      <td>0.000058</td>\n      <td>-0.000008</td>\n      <td>-0.000004</td>\n      <td>2.328685e-07</td>\n    </tr>\n    <tr>\n      <th>...</th>\n      <td>...</td>\n      <td>...</td>\n      <td>...</td>\n      <td>...</td>\n      <td>...</td>\n      <td>...</td>\n      <td>...</td>\n      <td>...</td>\n      <td>...</td>\n      <td>...</td>\n      <td>...</td>\n      <td>...</td>\n      <td>...</td>\n      <td>...</td>\n      <td>...</td>\n      <td>...</td>\n      <td>...</td>\n      <td>...</td>\n      <td>...</td>\n      <td>...</td>\n      <td>...</td>\n    </tr>\n    <tr>\n      <th>9988</th>\n      <td>84960000</td>\n      <td>9995</td>\n      <td>59000.0</td>\n      <td>1.929299</td>\n      <td>1.989779</td>\n      <td>0.047063</td>\n      <td>-0.006940</td>\n      <td>0.006451</td>\n      <td>0.000343</td>\n      <td>2.390249</td>\n      <td>...</td>\n      <td>0.363924</td>\n      <td>-2.826248</td>\n      <td>3.260392</td>\n      <td>-2.979609</td>\n      <td>-0.00504</td>\n      <td>0.007027</td>\n      <td>0.000058</td>\n      <td>-0.000008</td>\n      <td>-0.000004</td>\n      <td>2.328685e-07</td>\n    </tr>\n    <tr>\n      <th>9989</th>\n      <td>84960000</td>\n      <td>9996</td>\n      <td>59000.0</td>\n      <td>-0.850272</td>\n      <td>-2.870477</td>\n      <td>0.281759</td>\n      <td>0.009476</td>\n      <td>-0.000501</td>\n      <td>0.000683</td>\n      <td>2.796605</td>\n      <td>...</td>\n      <td>-2.629937</td>\n      <td>2.898821</td>\n      <td>-2.120904</td>\n      <td>-1.682728</td>\n      <td>-0.00504</td>\n      <td>0.007027</td>\n      <td>0.000058</td>\n      <td>-0.000008</td>\n      <td>-0.000004</td>\n      <td>2.328685e-07</td>\n    </tr>\n    <tr>\n      <th>9990</th>\n      <td>84960000</td>\n      <td>9997</td>\n      <td>59000.0</td>\n      <td>-2.235940</td>\n      <td>-1.662699</td>\n      <td>-0.104958</td>\n      <td>0.005379</td>\n      <td>-0.008184</td>\n      <td>-0.000224</td>\n      <td>2.545674</td>\n      <td>...</td>\n      <td>-0.427796</td>\n      <td>1.579063</td>\n      <td>-3.649961</td>\n      <td>2.514484</td>\n      <td>-0.00504</td>\n      <td>0.007027</td>\n      <td>0.000058</td>\n      <td>-0.000008</td>\n      <td>-0.000004</td>\n      <td>2.328685e-07</td>\n    </tr>\n    <tr>\n      <th>9991</th>\n      <td>84960000</td>\n      <td>9998</td>\n      <td>59000.0</td>\n      <td>1.949042</td>\n      <td>-0.287275</td>\n      <td>0.015234</td>\n      <td>0.001389</td>\n      <td>0.012640</td>\n      <td>0.000860</td>\n      <td>2.160961</td>\n      <td>...</td>\n      <td>-0.262023</td>\n      <td>0.578132</td>\n      <td>-0.465334</td>\n      <td>-0.386152</td>\n      <td>-0.00504</td>\n      <td>0.007027</td>\n      <td>0.000058</td>\n      <td>-0.000008</td>\n      <td>-0.000004</td>\n      <td>2.328685e-07</td>\n    </tr>\n    <tr>\n      <th>9992</th>\n      <td>84960000</td>\n      <td>9999</td>\n      <td>59000.0</td>\n      <td>-0.195576</td>\n      <td>-2.674867</td>\n      <td>-0.024923</td>\n      <td>0.010739</td>\n      <td>-0.000248</td>\n      <td>-0.000587</td>\n      <td>2.839917</td>\n      <td>...</td>\n      <td>1.332848</td>\n      <td>-2.196556</td>\n      <td>-0.777759</td>\n      <td>-0.681360</td>\n      <td>-0.00504</td>\n      <td>0.007027</td>\n      <td>0.000058</td>\n      <td>-0.000008</td>\n      <td>-0.000004</td>\n      <td>2.328685e-07</td>\n    </tr>\n  </tbody>\n</table>\n<p>9993 rows × 22 columns</p>\n</div>"
     },
     "metadata": {},
     "execution_count": 6
    }
   ],
   "source": [
    "elts"
   ]
  },
  {
   "cell_type": "code",
   "execution_count": 7,
   "metadata": {},
   "outputs": [],
   "source": [
    "# test_all()"
   ]
  },
  {
   "cell_type": "code",
   "execution_count": 8,
   "metadata": {},
   "outputs": [],
   "source": [
    "# Unpack orbital elements\n",
    "a = elts.a.values\n",
    "e = elts.e.values\n",
    "inc = elts.inc.values\n",
    "Omega = elts.Omega.values\n",
    "omega = elts.omega.values\n",
    "f = elts.f.values\n",
    "M = elts.M.values"
   ]
  },
  {
   "cell_type": "code",
   "execution_count": 9,
   "metadata": {},
   "outputs": [],
   "source": [
    "# Position of the sun\n",
    "cols_q_sun = ['sun_qx', 'sun_qy', 'sun_qz']\n",
    "q_sun = elts[cols_q_sun].values"
   ]
  },
  {
   "cell_type": "code",
   "execution_count": 10,
   "metadata": {},
   "outputs": [],
   "source": [
    "# Calculate the distance from the center, r; SSD equation 2.20\n",
    "r = a * (1.0 - np.square(e)) / (1.0 + e * np.cos(f))\n",
    "\n",
    "# Calculate intermediate results used for angular rotations\n",
    "# The angle in the elliptic plane, measured from the reference direction\n",
    "theta = omega + f \n",
    "# Trigonometric functions of the angles\n",
    "cos_inc = np.cos(inc)\n",
    "sin_inc = np.sin(inc)\n",
    "cos_Omega = np.cos(Omega)\n",
    "sin_Omega = np.sin(Omega)\n",
    "cos_theta = np.cos(theta)\n",
    "sin_theta = np.sin(theta)"
   ]
  },
  {
   "cell_type": "code",
   "execution_count": 11,
   "metadata": {},
   "outputs": [],
   "source": [
    "# The cartesian position coordinates; see SSD equation 2.122\n",
    "qx = r * (cos_Omega*cos_theta - sin_Omega*sin_theta*cos_inc)\n",
    "qy = r * (sin_Omega*cos_theta + cos_Omega*sin_theta*cos_inc)\n",
    "qz = r * (sin_theta*sin_inc)"
   ]
  },
  {
   "cell_type": "code",
   "execution_count": 12,
   "metadata": {},
   "outputs": [],
   "source": [
    "# Reconstructed position\n",
    "q_hel = np.stack([qx, qy, qz], axis=1)\n",
    "q2 = q_hel + q_sun"
   ]
  },
  {
   "cell_type": "code",
   "execution_count": 13,
   "metadata": {},
   "outputs": [],
   "source": [
    "# The position according to the integration\n",
    "cols_q = ['qx', 'qy', 'qz']\n",
    "q: np.array = elts[cols_q].values"
   ]
  },
  {
   "cell_type": "code",
   "execution_count": 14,
   "metadata": {},
   "outputs": [
    {
     "output_type": "stream",
     "name": "stdout",
     "text": [
      "\nTest: elt2pos\nRMS error: 5.283e-14\nMax error: 4.464e-12\n*** PASS ***\n"
     ]
    }
   ],
   "source": [
    "# Position error\n",
    "dq = q2 - q\n",
    "err: np.array = np.sqrt(np.sum(np.square(dq), axis=1))\n",
    "report_test(err, 'elt2pos', 1.0E-9)"
   ]
  },
  {
   "cell_type": "code",
   "execution_count": 15,
   "metadata": {},
   "outputs": [],
   "source": [
    "# The gravitational constant in unit system (years, AU, Msun)\n",
    "# numerical value close to 4 pi^2; see rebound documentation for exact value        \n",
    "G_ = 39.476926421373\n",
    "mu = G_ * 1.0\n",
    "\n",
    "# The speed\n",
    "one_minus_e2 = 1.0 - np.square(e)\n",
    "v0 = np.sqrt(mu / a / one_minus_e2)"
   ]
  },
  {
   "cell_type": "code",
   "execution_count": 17,
   "metadata": {},
   "outputs": [],
   "source": [
    "# Velocity\n",
    "# vx = v0*((e+cf)*(-ci*co*sO - cO*so) - sf*(co*cO - ci*so*sO))\n",
    "# vy = v0*((e+cf)*(ci*co*cO - sO*so)  - sf*(co*sO + ci*so*cO))\n",
    "# vz = v0*((e+cf)*co*si - sf*si*so)\n",
    "# vx = v0 * ()"
   ]
  },
  {
   "cell_type": "code",
   "execution_count": 18,
   "metadata": {},
   "outputs": [],
   "source": [
    "epcos_f = np.cos(f)\n"
   ]
  },
  {
   "cell_type": "code",
   "execution_count": 19,
   "metadata": {},
   "outputs": [],
   "source": [
    "from orbital_element import tau, anomaly_M2E_danby, interp_M2E, anomaly_M2E"
   ]
  },
  {
   "cell_type": "code",
   "execution_count": 20,
   "metadata": {},
   "outputs": [
    {
     "output_type": "execute_result",
     "data": {
      "text/plain": [
       "array([2.86089618, 2.64073125, 2.36866221, ..., 2.57515446, 5.75798806,\n",
       "       5.53882808])"
      ]
     },
     "metadata": {},
     "execution_count": 20
    }
   ],
   "source": [
    "E = anomaly_M2E_danby(M, e)\n",
    "E"
   ]
  },
  {
   "cell_type": "code",
   "execution_count": 21,
   "metadata": {},
   "outputs": [],
   "source": [
    "E2 = interp_M2E.ev(M, e) % tau"
   ]
  },
  {
   "cell_type": "code",
   "execution_count": 22,
   "metadata": {},
   "outputs": [
    {
     "output_type": "execute_result",
     "data": {
      "text/plain": [
       "array([2.86089618e+00, 2.64073125e+00, 2.36866221e+00, ...,\n",
       "       2.57515446e+00, 5.22312761e-20, 2.41446786e-20])"
      ]
     },
     "metadata": {},
     "execution_count": 22
    }
   ],
   "source": [
    "E2"
   ]
  },
  {
   "cell_type": "code",
   "execution_count": 23,
   "metadata": {},
   "outputs": [],
   "source": [
    "err = angle_distance(E, E2)"
   ]
  },
  {
   "cell_type": "code",
   "execution_count": 26,
   "metadata": {},
   "outputs": [
    {
     "output_type": "execute_result",
     "data": {
      "text/plain": [
       "5394"
      ]
     },
     "metadata": {},
     "execution_count": 26
    }
   ],
   "source": [
    "idx = np.argmax(err)"
   ]
  },
  {
   "cell_type": "code",
   "execution_count": 27,
   "metadata": {},
   "outputs": [
    {
     "output_type": "execute_result",
     "data": {
      "text/plain": [
       "2.0337550613296607"
      ]
     },
     "metadata": {},
     "execution_count": 27
    }
   ],
   "source": [
    "elts.iloc[idx]"
   ]
  },
  {
   "cell_type": "code",
   "execution_count": 29,
   "metadata": {},
   "outputs": [
    {
     "output_type": "execute_result",
     "data": {
      "text/plain": [
       "6.283185307179586"
      ]
     },
     "metadata": {},
     "execution_count": 29
    }
   ],
   "source": [
    "E2[idx]"
   ]
  },
  {
   "cell_type": "code",
   "execution_count": null,
   "metadata": {},
   "outputs": [],
   "source": []
  },
  {
   "cell_type": "code",
   "execution_count": null,
   "metadata": {},
   "outputs": [],
   "source": []
  }
 ],
 "metadata": {
  "kernelspec": {
   "name": "python385jvsc74a57bd02fedf230483cf0b89defa3251873a69144496d82ff9837a518775b45b58b2cde",
   "display_name": "Python 3.8.5 64-bit ('kepler': conda)"
  },
  "language_info": {
   "codemirror_mode": {
    "name": "ipython",
    "version": 3
   },
   "file_extension": ".py",
   "mimetype": "text/x-python",
   "name": "python",
   "nbconvert_exporter": "python",
   "pygments_lexer": "ipython3",
   "version": "3.8.5"
  }
 },
 "nbformat": 4,
 "nbformat_minor": 4
}