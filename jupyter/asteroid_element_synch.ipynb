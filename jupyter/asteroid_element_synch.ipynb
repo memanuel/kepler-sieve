{
 "cells": [
  {
   "cell_type": "code",
   "execution_count": 1,
   "metadata": {},
   "outputs": [],
   "source": [
    "# Core\n",
    "import numpy as np\n",
    "import pandas as pd\n",
    "\n",
    "# Astronomy\n",
    "import rebound"
   ]
  },
  {
   "cell_type": "code",
   "execution_count": 2,
   "metadata": {},
   "outputs": [],
   "source": [
    "# Local imports\n",
    "import kepler_sieve\n",
    "from horizons import make_sim_horizons\n",
    "from rebound_sim import make_sim_planets\n",
    "from rebound_integrate import integrate_numpy, integrate_df\n",
    "from db_config import db_engine\n",
    "from db_utils import sp2df, get_columns, df2csv, csv2db_stage, csv2db, csvs2db"
   ]
  },
  {
   "cell_type": "code",
   "execution_count": 3,
   "metadata": {},
   "outputs": [],
   "source": [
    "from asteroid_element import get_ast_ref_elts, add_asteroid_elts, update_asteroid_elements\n",
    "from asteroid_element_synch import process_dates"
   ]
  },
  {
   "cell_type": "code",
   "execution_count": 4,
   "metadata": {},
   "outputs": [],
   "source": [
    "# Typing\n",
    "from typing import Tuple, List"
   ]
  },
  {
   "cell_type": "code",
   "execution_count": 5,
   "metadata": {},
   "outputs": [],
   "source": [
    "epoch_out = 59000\n",
    "elt_dates = sp2df(sp_name='KS.GetAsteroidRefElementDates', params={'epoch':epoch_out})"
   ]
  },
  {
   "cell_type": "code",
   "execution_count": 6,
   "metadata": {},
   "outputs": [
    {
     "output_type": "execute_result",
     "data": {
      "text/plain": [
       "        TimeID    epoch  AsteroidCount\n",
       "0     60416640  41956.0              1\n",
       "1     62537760  43429.0              1\n",
       "2     63433440  44051.0              1\n",
       "3     63678240  44221.0              1\n",
       "4     64319040  44666.0              1\n",
       "...        ...      ...            ...\n",
       "5242  84975840  59011.0              2\n",
       "5243  84977280  59012.0              1\n",
       "5244  84978720  59013.0              2\n",
       "5245  84980160  59014.0              6\n",
       "5246  84981600  59015.0              2\n",
       "\n",
       "[5247 rows x 3 columns]"
      ],
      "text/html": "<div>\n<style scoped>\n    .dataframe tbody tr th:only-of-type {\n        vertical-align: middle;\n    }\n\n    .dataframe tbody tr th {\n        vertical-align: top;\n    }\n\n    .dataframe thead th {\n        text-align: right;\n    }\n</style>\n<table border=\"1\" class=\"dataframe\">\n  <thead>\n    <tr style=\"text-align: right;\">\n      <th></th>\n      <th>TimeID</th>\n      <th>epoch</th>\n      <th>AsteroidCount</th>\n    </tr>\n  </thead>\n  <tbody>\n    <tr>\n      <th>0</th>\n      <td>60416640</td>\n      <td>41956.0</td>\n      <td>1</td>\n    </tr>\n    <tr>\n      <th>1</th>\n      <td>62537760</td>\n      <td>43429.0</td>\n      <td>1</td>\n    </tr>\n    <tr>\n      <th>2</th>\n      <td>63433440</td>\n      <td>44051.0</td>\n      <td>1</td>\n    </tr>\n    <tr>\n      <th>3</th>\n      <td>63678240</td>\n      <td>44221.0</td>\n      <td>1</td>\n    </tr>\n    <tr>\n      <th>4</th>\n      <td>64319040</td>\n      <td>44666.0</td>\n      <td>1</td>\n    </tr>\n    <tr>\n      <th>...</th>\n      <td>...</td>\n      <td>...</td>\n      <td>...</td>\n    </tr>\n    <tr>\n      <th>5242</th>\n      <td>84975840</td>\n      <td>59011.0</td>\n      <td>2</td>\n    </tr>\n    <tr>\n      <th>5243</th>\n      <td>84977280</td>\n      <td>59012.0</td>\n      <td>1</td>\n    </tr>\n    <tr>\n      <th>5244</th>\n      <td>84978720</td>\n      <td>59013.0</td>\n      <td>2</td>\n    </tr>\n    <tr>\n      <th>5245</th>\n      <td>84980160</td>\n      <td>59014.0</td>\n      <td>6</td>\n    </tr>\n    <tr>\n      <th>5246</th>\n      <td>84981600</td>\n      <td>59015.0</td>\n      <td>2</td>\n    </tr>\n  </tbody>\n</table>\n<p>5247 rows × 3 columns</p>\n</div>"
     },
     "metadata": {},
     "execution_count": 6
    }
   ],
   "source": [
    "elt_dates"
   ]
  },
  {
   "cell_type": "code",
   "execution_count": 7,
   "metadata": {},
   "outputs": [],
   "source": [
    "# First epoch\n",
    "epoch0 = int(elt_dates.epoch[0])"
   ]
  },
  {
   "cell_type": "code",
   "execution_count": 8,
   "metadata": {},
   "outputs": [
    {
     "output_type": "stream",
     "name": "stdout",
     "text": [
      "Added bodies to simulation.\n"
     ]
    }
   ],
   "source": [
    "# Start with a base simulation of the Sun, Planets and Moon\n",
    "sim = make_sim_planets(epoch=epoch0)\n",
    "# Set simulation time t to match epoch\n",
    "sim.t = sim.epoch\n",
    "# Set the number of active particles to the base simulation\n",
    "# https://rebound.readthedocs.io/en/latest/ipython/Testparticles.html\n",
    "sim.N_active = sim.N"
   ]
  },
  {
   "cell_type": "code",
   "execution_count": 9,
   "metadata": {},
   "outputs": [],
   "source": [
    "# Get the elements\n",
    "# elts = sp2df(sp_name='KS.GetAsteroidRefElements', params={'epoch':epoch0})\n",
    "elts = get_ast_ref_elts(epoch0)"
   ]
  },
  {
   "cell_type": "code",
   "execution_count": 10,
   "metadata": {},
   "outputs": [
    {
     "output_type": "execute_result",
     "data": {
      "text/plain": [
       "   AsteroidID    TimeID AsteroidName    epoch         a         e       inc  \\\n",
       "0     1413593  60416640     2060 T-2  41956.0  2.373136  0.202053  0.012784   \n",
       "\n",
       "     Omega     omega         f         M  \n",
       "0  3.08049  3.456215  6.158491  6.202047  "
      ],
      "text/html": "<div>\n<style scoped>\n    .dataframe tbody tr th:only-of-type {\n        vertical-align: middle;\n    }\n\n    .dataframe tbody tr th {\n        vertical-align: top;\n    }\n\n    .dataframe thead th {\n        text-align: right;\n    }\n</style>\n<table border=\"1\" class=\"dataframe\">\n  <thead>\n    <tr style=\"text-align: right;\">\n      <th></th>\n      <th>AsteroidID</th>\n      <th>TimeID</th>\n      <th>AsteroidName</th>\n      <th>epoch</th>\n      <th>a</th>\n      <th>e</th>\n      <th>inc</th>\n      <th>Omega</th>\n      <th>omega</th>\n      <th>f</th>\n      <th>M</th>\n    </tr>\n  </thead>\n  <tbody>\n    <tr>\n      <th>0</th>\n      <td>1413593</td>\n      <td>60416640</td>\n      <td>2060 T-2</td>\n      <td>41956.0</td>\n      <td>2.373136</td>\n      <td>0.202053</td>\n      <td>0.012784</td>\n      <td>3.08049</td>\n      <td>3.456215</td>\n      <td>6.158491</td>\n      <td>6.202047</td>\n    </tr>\n  </tbody>\n</table>\n</div>"
     },
     "metadata": {},
     "execution_count": 10
    }
   ],
   "source": [
    "elts"
   ]
  },
  {
   "cell_type": "code",
   "execution_count": 11,
   "metadata": {},
   "outputs": [],
   "source": [
    "# First set of asteroid IDs\n",
    "asteroid_ids = add_asteroid_elts(sim=sim, elts=elts)"
   ]
  },
  {
   "cell_type": "code",
   "execution_count": 12,
   "metadata": {},
   "outputs": [
    {
     "output_type": "execute_result",
     "data": {
      "text/plain": [
       "array([1413593])"
      ]
     },
     "metadata": {},
     "execution_count": 12
    }
   ],
   "source": [
    "asteroid_ids"
   ]
  },
  {
   "cell_type": "code",
   "execution_count": 13,
   "metadata": {},
   "outputs": [],
   "source": [
    "epoch = epoch0 + 100\n",
    "sim.integrate(epoch, exact_finish_time=1)"
   ]
  },
  {
   "cell_type": "code",
   "execution_count": 14,
   "metadata": {},
   "outputs": [
    {
     "output_type": "execute_result",
     "data": {
      "text/plain": [
       "<rebound.Particle object, m=0.0 x=1.2967077821137172 y=1.454334678850183 z=-0.019483520340996357 vx=-0.009079326348883594 vy=0.009824672557089268 vz=-0.00011830502105655515>"
      ]
     },
     "metadata": {},
     "execution_count": 14
    }
   ],
   "source": [
    "sim.particles[-1]"
   ]
  },
  {
   "cell_type": "code",
   "execution_count": 15,
   "metadata": {},
   "outputs": [],
   "source": [
    "# Copy of elements\n",
    "elts_old = elts.copy()"
   ]
  },
  {
   "cell_type": "code",
   "execution_count": 16,
   "metadata": {},
   "outputs": [],
   "source": [
    "update_asteroid_elements(sim=sim, elts=elts, epoch=epoch)"
   ]
  },
  {
   "cell_type": "code",
   "execution_count": 17,
   "metadata": {},
   "outputs": [
    {
     "output_type": "execute_result",
     "data": {
      "text/plain": [
       "   AsteroidID    TimeID AsteroidName    epoch         a         e       inc  \\\n",
       "0     1413593  60416640     2060 T-2  41956.0  2.373136  0.202053  0.012784   \n",
       "\n",
       "     Omega     omega         f         M  \n",
       "0  3.08049  3.456215  6.158491  6.202047  "
      ],
      "text/html": "<div>\n<style scoped>\n    .dataframe tbody tr th:only-of-type {\n        vertical-align: middle;\n    }\n\n    .dataframe tbody tr th {\n        vertical-align: top;\n    }\n\n    .dataframe thead th {\n        text-align: right;\n    }\n</style>\n<table border=\"1\" class=\"dataframe\">\n  <thead>\n    <tr style=\"text-align: right;\">\n      <th></th>\n      <th>AsteroidID</th>\n      <th>TimeID</th>\n      <th>AsteroidName</th>\n      <th>epoch</th>\n      <th>a</th>\n      <th>e</th>\n      <th>inc</th>\n      <th>Omega</th>\n      <th>omega</th>\n      <th>f</th>\n      <th>M</th>\n    </tr>\n  </thead>\n  <tbody>\n    <tr>\n      <th>0</th>\n      <td>1413593</td>\n      <td>60416640</td>\n      <td>2060 T-2</td>\n      <td>41956.0</td>\n      <td>2.373136</td>\n      <td>0.202053</td>\n      <td>0.012784</td>\n      <td>3.08049</td>\n      <td>3.456215</td>\n      <td>6.158491</td>\n      <td>6.202047</td>\n    </tr>\n  </tbody>\n</table>\n</div>"
     },
     "metadata": {},
     "execution_count": 17
    }
   ],
   "source": [
    "elts_old"
   ]
  },
  {
   "cell_type": "code",
   "execution_count": 18,
   "metadata": {},
   "outputs": [
    {
     "output_type": "execute_result",
     "data": {
      "text/plain": [
       "   AsteroidID    TimeID AsteroidName    epoch         a         e       inc  \\\n",
       "0     1413593  60560640     2060 T-2  42056.0  2.367485  0.200858  0.012753   \n",
       "\n",
       "      Omega     omega         f         M  \n",
       "0  3.083035 -2.838647  0.598284  0.397882  "
      ],
      "text/html": "<div>\n<style scoped>\n    .dataframe tbody tr th:only-of-type {\n        vertical-align: middle;\n    }\n\n    .dataframe tbody tr th {\n        vertical-align: top;\n    }\n\n    .dataframe thead th {\n        text-align: right;\n    }\n</style>\n<table border=\"1\" class=\"dataframe\">\n  <thead>\n    <tr style=\"text-align: right;\">\n      <th></th>\n      <th>AsteroidID</th>\n      <th>TimeID</th>\n      <th>AsteroidName</th>\n      <th>epoch</th>\n      <th>a</th>\n      <th>e</th>\n      <th>inc</th>\n      <th>Omega</th>\n      <th>omega</th>\n      <th>f</th>\n      <th>M</th>\n    </tr>\n  </thead>\n  <tbody>\n    <tr>\n      <th>0</th>\n      <td>1413593</td>\n      <td>60560640</td>\n      <td>2060 T-2</td>\n      <td>42056.0</td>\n      <td>2.367485</td>\n      <td>0.200858</td>\n      <td>0.012753</td>\n      <td>3.083035</td>\n      <td>-2.838647</td>\n      <td>0.598284</td>\n      <td>0.397882</td>\n    </tr>\n  </tbody>\n</table>\n</div>"
     },
     "metadata": {},
     "execution_count": 18
    }
   ],
   "source": [
    "elts"
   ]
  },
  {
   "cell_type": "code",
   "execution_count": 19,
   "metadata": {},
   "outputs": [],
   "source": [
    "elts_new =  get_ast_ref_elts(elt_dates.epoch[1])"
   ]
  },
  {
   "cell_type": "code",
   "execution_count": 20,
   "metadata": {},
   "outputs": [
    {
     "output_type": "execute_result",
     "data": {
      "text/plain": [
       "   AsteroidID    TimeID AsteroidName    epoch         a         e       inc  \\\n",
       "0     1413594  62537760     2678 T-3  43429.0  2.260404  0.258348  0.168633   \n",
       "\n",
       "      Omega     omega        f         M  \n",
       "0  3.569416  2.591761  0.46277  0.267387  "
      ],
      "text/html": "<div>\n<style scoped>\n    .dataframe tbody tr th:only-of-type {\n        vertical-align: middle;\n    }\n\n    .dataframe tbody tr th {\n        vertical-align: top;\n    }\n\n    .dataframe thead th {\n        text-align: right;\n    }\n</style>\n<table border=\"1\" class=\"dataframe\">\n  <thead>\n    <tr style=\"text-align: right;\">\n      <th></th>\n      <th>AsteroidID</th>\n      <th>TimeID</th>\n      <th>AsteroidName</th>\n      <th>epoch</th>\n      <th>a</th>\n      <th>e</th>\n      <th>inc</th>\n      <th>Omega</th>\n      <th>omega</th>\n      <th>f</th>\n      <th>M</th>\n    </tr>\n  </thead>\n  <tbody>\n    <tr>\n      <th>0</th>\n      <td>1413594</td>\n      <td>62537760</td>\n      <td>2678 T-3</td>\n      <td>43429.0</td>\n      <td>2.260404</td>\n      <td>0.258348</td>\n      <td>0.168633</td>\n      <td>3.569416</td>\n      <td>2.591761</td>\n      <td>0.46277</td>\n      <td>0.267387</td>\n    </tr>\n  </tbody>\n</table>\n</div>"
     },
     "metadata": {},
     "execution_count": 20
    }
   ],
   "source": [
    "elts_new"
   ]
  },
  {
   "cell_type": "code",
   "execution_count": 21,
   "metadata": {},
   "outputs": [
    {
     "output_type": "execute_result",
     "data": {
      "text/plain": [
       "   AsteroidID    TimeID AsteroidName    epoch         a         e       inc  \\\n",
       "0     1413593  60560640     2060 T-2  42056.0  2.367485  0.200858  0.012753   \n",
       "1     1413594  62537760     2678 T-3  43429.0  2.260404  0.258348  0.168633   \n",
       "\n",
       "      Omega     omega         f         M  \n",
       "0  3.083035 -2.838647  0.598284  0.397882  \n",
       "1  3.569416  2.591761  0.462770  0.267387  "
      ],
      "text/html": "<div>\n<style scoped>\n    .dataframe tbody tr th:only-of-type {\n        vertical-align: middle;\n    }\n\n    .dataframe tbody tr th {\n        vertical-align: top;\n    }\n\n    .dataframe thead th {\n        text-align: right;\n    }\n</style>\n<table border=\"1\" class=\"dataframe\">\n  <thead>\n    <tr style=\"text-align: right;\">\n      <th></th>\n      <th>AsteroidID</th>\n      <th>TimeID</th>\n      <th>AsteroidName</th>\n      <th>epoch</th>\n      <th>a</th>\n      <th>e</th>\n      <th>inc</th>\n      <th>Omega</th>\n      <th>omega</th>\n      <th>f</th>\n      <th>M</th>\n    </tr>\n  </thead>\n  <tbody>\n    <tr>\n      <th>0</th>\n      <td>1413593</td>\n      <td>60560640</td>\n      <td>2060 T-2</td>\n      <td>42056.0</td>\n      <td>2.367485</td>\n      <td>0.200858</td>\n      <td>0.012753</td>\n      <td>3.083035</td>\n      <td>-2.838647</td>\n      <td>0.598284</td>\n      <td>0.397882</td>\n    </tr>\n    <tr>\n      <th>1</th>\n      <td>1413594</td>\n      <td>62537760</td>\n      <td>2678 T-3</td>\n      <td>43429.0</td>\n      <td>2.260404</td>\n      <td>0.258348</td>\n      <td>0.168633</td>\n      <td>3.569416</td>\n      <td>2.591761</td>\n      <td>0.462770</td>\n      <td>0.267387</td>\n    </tr>\n  </tbody>\n</table>\n</div>"
     },
     "metadata": {},
     "execution_count": 21
    }
   ],
   "source": [
    "pd.concat([elts, elts_new]).reset_index(drop=True)"
   ]
  },
  {
   "cell_type": "code",
   "execution_count": 15,
   "metadata": {},
   "outputs": [],
   "source": [
    "def process_dates(epoch):\n",
    "    \"\"\"Process all the orbital elements to the reference epoch\"\"\"\n",
    "\n",
    "    # All the reference dates with orbital elements that must be brought forward\n",
    "    elt_dates = sp2df(sp_name='KS.GetAsteroidRefElementDates', params={'epoch':epoch})\n",
    "    # The first date to process\n",
    "    epoch = np.int32(elt_dates.epoch[0])\n",
    "    # Get the elements on the first date\n",
    "    elts = get_ast_ref_elts(epoch=epoch)\n",
    "\n",
    "    # Number of dates to process\n",
    "    epochs: np.array = elt_dates.epoch.values\n",
    "    N_date: int = epochs.shape[0]\n",
    "\n",
    "    # Iterate through the remaining dates\n",
    "    # for i in range(1, N_date):\n",
    "    for i in range(2):\n",
    "        # Two epochs: current one (with quoted elements) and next one\n",
    "        epoch: int = epochs[i]\n",
    "        epoch_next: int = epochs[i+1]\n",
    "\n",
    "        # Initialize a planets simulation as of epoch\n",
    "        sim = make_sim_planets(epoch=epoch, load_file=True)\n",
    "        sim.t = np.float64(epoch)\n",
    "        sim.N_active = sim.N\n",
    "        # Add asteroids previously processed with their current orbital elements\n",
    "        asteroid_ids = add_asteroid_elts(sim=sim, elts=elts)\n",
    "\n",
    "        # Integrate to the next epoch\n",
    "        sim.integrate(epoch_next, exact_finish_time=1)\n",
    "        # Update the asteroid elements as of this epoch\n",
    "        update_asteroid_elements(sim=sim, elts=elts, epoch=epoch)\n",
    "        # Fetch the new orbital elements at the next epoch\n",
    "        elts_new = get_ast_ref_elts(epoch=epoch_next)\n",
    "        # Append the new elements to the main elts frame\n",
    "        elts = pd.concat([elts, elts_new]).reset_index(drop=True)\n",
    "\n",
    "    return sim, elts"
   ]
  },
  {
   "cell_type": "code",
   "execution_count": 16,
   "metadata": {},
   "outputs": [],
   "source": [
    "sim, elts = process_dates(59000)"
   ]
  },
  {
   "cell_type": "code",
   "execution_count": 17,
   "metadata": {},
   "outputs": [
    {
     "output_type": "execute_result",
     "data": {
      "text/plain": [
       "   AsteroidID    TimeID AsteroidName    epoch         a         e       inc  \\\n",
       "0     1413593  62537760     2060 T-2  43429.0  2.347232  0.201381  0.012812   \n",
       "1     1413593  62537760     2060 T-2  43429.0  2.358819  0.207335  0.012790   \n",
       "2     1413594  62537760     2678 T-3  43429.0  2.260404  0.258348  0.168633   \n",
       "\n",
       "      Omega     omega         f         M  \n",
       "0  3.082599 -2.823637  3.396120 -2.768567  \n",
       "1  3.085074 -2.835494  2.943949  2.848092  \n",
       "2  3.569416  2.591761  0.462770  0.267387  "
      ],
      "text/html": "<div>\n<style scoped>\n    .dataframe tbody tr th:only-of-type {\n        vertical-align: middle;\n    }\n\n    .dataframe tbody tr th {\n        vertical-align: top;\n    }\n\n    .dataframe thead th {\n        text-align: right;\n    }\n</style>\n<table border=\"1\" class=\"dataframe\">\n  <thead>\n    <tr style=\"text-align: right;\">\n      <th></th>\n      <th>AsteroidID</th>\n      <th>TimeID</th>\n      <th>AsteroidName</th>\n      <th>epoch</th>\n      <th>a</th>\n      <th>e</th>\n      <th>inc</th>\n      <th>Omega</th>\n      <th>omega</th>\n      <th>f</th>\n      <th>M</th>\n    </tr>\n  </thead>\n  <tbody>\n    <tr>\n      <th>0</th>\n      <td>1413593</td>\n      <td>62537760</td>\n      <td>2060 T-2</td>\n      <td>43429.0</td>\n      <td>2.347232</td>\n      <td>0.201381</td>\n      <td>0.012812</td>\n      <td>3.082599</td>\n      <td>-2.823637</td>\n      <td>3.396120</td>\n      <td>-2.768567</td>\n    </tr>\n    <tr>\n      <th>1</th>\n      <td>1413593</td>\n      <td>62537760</td>\n      <td>2060 T-2</td>\n      <td>43429.0</td>\n      <td>2.358819</td>\n      <td>0.207335</td>\n      <td>0.012790</td>\n      <td>3.085074</td>\n      <td>-2.835494</td>\n      <td>2.943949</td>\n      <td>2.848092</td>\n    </tr>\n    <tr>\n      <th>2</th>\n      <td>1413594</td>\n      <td>62537760</td>\n      <td>2678 T-3</td>\n      <td>43429.0</td>\n      <td>2.260404</td>\n      <td>0.258348</td>\n      <td>0.168633</td>\n      <td>3.569416</td>\n      <td>2.591761</td>\n      <td>0.462770</td>\n      <td>0.267387</td>\n    </tr>\n  </tbody>\n</table>\n</div>"
     },
     "metadata": {},
     "execution_count": 17
    }
   ],
   "source": [
    "elts"
   ]
  },
  {
   "cell_type": "code",
   "execution_count": null,
   "metadata": {},
   "outputs": [],
   "source": []
  }
 ],
 "metadata": {
  "kernelspec": {
   "name": "python3",
   "display_name": "Python 3",
   "language": "python"
  },
  "language_info": {
   "codemirror_mode": {
    "name": "ipython",
    "version": 3
   },
   "file_extension": ".py",
   "mimetype": "text/x-python",
   "name": "python",
   "nbconvert_exporter": "python",
   "pygments_lexer": "ipython3",
   "version": "3.8.5-final"
  }
 },
 "nbformat": 4,
 "nbformat_minor": 4
}