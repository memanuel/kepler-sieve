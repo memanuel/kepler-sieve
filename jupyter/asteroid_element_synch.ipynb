{
 "cells": [
  {
   "cell_type": "code",
   "execution_count": 1,
   "metadata": {},
   "outputs": [],
   "source": [
    "# Core\n",
    "import numpy as np\n",
    "import pandas as pd\n",
    "\n",
    "# Astronomy\n",
    "import rebound"
   ]
  },
  {
   "cell_type": "code",
   "execution_count": 2,
   "metadata": {},
   "outputs": [],
   "source": [
    "# Local imports\n",
    "import kepler_sieve\n",
    "from horizons import make_sim_horizons\n",
    "from rebound_sim import make_sim_planets\n",
    "from rebound_integrate import integrate_numpy, integrate_df\n",
    "from db_config import db_engine\n",
    "from db_utils import sp2df, get_columns, df2db, df2csv, csv2db_stage, csv2db, csvs2db"
   ]
  },
  {
   "cell_type": "code",
   "execution_count": 3,
   "metadata": {},
   "outputs": [],
   "source": [
    "from asteroid_element import get_ast_ref_elts, get_ast_ref_elts_jpl, add_asteroid_elts, update_asteroid_elements\n",
    "from asteroid_element_synch import process_dates, calc_ref_elt"
   ]
  },
  {
   "cell_type": "code",
   "execution_count": 4,
   "metadata": {},
   "outputs": [],
   "source": [
    "# Typing\n",
    "from typing import Tuple, List"
   ]
  },
  {
   "cell_type": "code",
   "execution_count": 5,
   "metadata": {},
   "outputs": [],
   "source": [
    "epoch_out = 59000\n",
    "elt_dates = sp2df(sp_name='JPL.GetAsteroidRefElementDates', params={'epoch':epoch_out})"
   ]
  },
  {
   "cell_type": "code",
   "execution_count": 6,
   "metadata": {},
   "outputs": [
    {
     "output_type": "execute_result",
     "data": {
      "text/plain": [
       "     epoch  AsteroidCount\n",
       "0    58873              8\n",
       "1    58874             19\n",
       "2    58875              8\n",
       "3    58876              7\n",
       "4    58877              7\n",
       "..     ...            ...\n",
       "115  59011              2\n",
       "116  59012              1\n",
       "117  59013              2\n",
       "118  59014              6\n",
       "119  59015              2\n",
       "\n",
       "[120 rows x 2 columns]"
      ],
      "text/html": "<div>\n<style scoped>\n    .dataframe tbody tr th:only-of-type {\n        vertical-align: middle;\n    }\n\n    .dataframe tbody tr th {\n        vertical-align: top;\n    }\n\n    .dataframe thead th {\n        text-align: right;\n    }\n</style>\n<table border=\"1\" class=\"dataframe\">\n  <thead>\n    <tr style=\"text-align: right;\">\n      <th></th>\n      <th>epoch</th>\n      <th>AsteroidCount</th>\n    </tr>\n  </thead>\n  <tbody>\n    <tr>\n      <th>0</th>\n      <td>58873</td>\n      <td>8</td>\n    </tr>\n    <tr>\n      <th>1</th>\n      <td>58874</td>\n      <td>19</td>\n    </tr>\n    <tr>\n      <th>2</th>\n      <td>58875</td>\n      <td>8</td>\n    </tr>\n    <tr>\n      <th>3</th>\n      <td>58876</td>\n      <td>7</td>\n    </tr>\n    <tr>\n      <th>4</th>\n      <td>58877</td>\n      <td>7</td>\n    </tr>\n    <tr>\n      <th>...</th>\n      <td>...</td>\n      <td>...</td>\n    </tr>\n    <tr>\n      <th>115</th>\n      <td>59011</td>\n      <td>2</td>\n    </tr>\n    <tr>\n      <th>116</th>\n      <td>59012</td>\n      <td>1</td>\n    </tr>\n    <tr>\n      <th>117</th>\n      <td>59013</td>\n      <td>2</td>\n    </tr>\n    <tr>\n      <th>118</th>\n      <td>59014</td>\n      <td>6</td>\n    </tr>\n    <tr>\n      <th>119</th>\n      <td>59015</td>\n      <td>2</td>\n    </tr>\n  </tbody>\n</table>\n<p>120 rows × 2 columns</p>\n</div>"
     },
     "metadata": {},
     "execution_count": 6
    }
   ],
   "source": [
    "elt_dates"
   ]
  },
  {
   "cell_type": "code",
   "execution_count": 9,
   "metadata": {},
   "outputs": [],
   "source": [
    "# First epoch\n",
    "epoch0 = int(elt_dates.epoch[0])"
   ]
  },
  {
   "cell_type": "code",
   "execution_count": 25,
   "metadata": {},
   "outputs": [
    {
     "output_type": "stream",
     "name": "stdout",
     "text": [
      "Added bodies to simulation.\n"
     ]
    }
   ],
   "source": [
    "# Start with a base simulation of the Sun, Planets and Moon\n",
    "sim = make_sim_planets(epoch=epoch0)\n",
    "# Set simulation time t to match epoch\n",
    "sim.t = sim.epoch\n",
    "# Set the number of active particles to the base simulation\n",
    "# https://rebound.readthedocs.io/en/latest/ipython/Testparticles.html\n",
    "sim.N_active = sim.N"
   ]
  },
  {
   "cell_type": "code",
   "execution_count": 26,
   "metadata": {},
   "outputs": [],
   "source": [
    "# Get the elements\n",
    "# elts = sp2df(sp_name='KS.GetAsteroidRefElements', params={'epoch':epoch0})\n",
    "elts = get_ast_ref_elts_jpl(epoch0)"
   ]
  },
  {
   "cell_type": "code",
   "execution_count": 27,
   "metadata": {},
   "outputs": [
    {
     "output_type": "execute_result",
     "data": {
      "text/plain": [
       "   AsteroidID    TimeID AsteroidName    epoch         a         e       inc  \\\n",
       "0     1413593  60416640     2060 T-2  41956.0  2.373136  0.202053  0.012784   \n",
       "\n",
       "     Omega     omega         M  \n",
       "0  3.08049  3.456215  6.202047  "
      ],
      "text/html": "<div>\n<style scoped>\n    .dataframe tbody tr th:only-of-type {\n        vertical-align: middle;\n    }\n\n    .dataframe tbody tr th {\n        vertical-align: top;\n    }\n\n    .dataframe thead th {\n        text-align: right;\n    }\n</style>\n<table border=\"1\" class=\"dataframe\">\n  <thead>\n    <tr style=\"text-align: right;\">\n      <th></th>\n      <th>AsteroidID</th>\n      <th>TimeID</th>\n      <th>AsteroidName</th>\n      <th>epoch</th>\n      <th>a</th>\n      <th>e</th>\n      <th>inc</th>\n      <th>Omega</th>\n      <th>omega</th>\n      <th>M</th>\n    </tr>\n  </thead>\n  <tbody>\n    <tr>\n      <th>0</th>\n      <td>1413593</td>\n      <td>60416640</td>\n      <td>2060 T-2</td>\n      <td>41956.0</td>\n      <td>2.373136</td>\n      <td>0.202053</td>\n      <td>0.012784</td>\n      <td>3.08049</td>\n      <td>3.456215</td>\n      <td>6.202047</td>\n    </tr>\n  </tbody>\n</table>\n</div>"
     },
     "metadata": {},
     "execution_count": 27
    }
   ],
   "source": [
    "elts"
   ]
  },
  {
   "cell_type": "code",
   "execution_count": 28,
   "metadata": {},
   "outputs": [],
   "source": [
    "# First set of asteroid IDs\n",
    "asteroid_ids = add_asteroid_elts(sim=sim, elts=elts)"
   ]
  },
  {
   "cell_type": "code",
   "execution_count": 29,
   "metadata": {},
   "outputs": [
    {
     "output_type": "execute_result",
     "data": {
      "text/plain": [
       "array([1413593])"
      ]
     },
     "metadata": {},
     "execution_count": 29
    }
   ],
   "source": [
    "asteroid_ids"
   ]
  },
  {
   "cell_type": "code",
   "execution_count": 10,
   "metadata": {},
   "outputs": [],
   "source": [
    "sim, elts = process_dates(epoch_out, max_dates=3)"
   ]
  },
  {
   "cell_type": "code",
   "execution_count": 11,
   "metadata": {},
   "outputs": [
    {
     "output_type": "execute_result",
     "data": {
      "text/plain": [
       "  AsteroidID    TimeID AsteroidName    epoch         a         e       inc  \\\n",
       "0    1413593  84960000     2060 T-2  59000.0  2.319947  0.193103  0.013013   \n",
       "1    1413594  84960000     2678 T-3  59000.0  2.243868  0.265620  0.169600   \n",
       "2    1000007  84960000     1979 MW5  59000.0  3.185015  0.298391  0.164023   \n",
       "\n",
       "      Omega     omega         M         f  \n",
       "0  3.085343 -2.811390 -0.435800  5.640864  \n",
       "1 -2.723455  2.611393 -1.980524 -2.398462  \n",
       "2  2.169598  2.773325  1.322903 -4.361898  "
      ],
      "text/html": "<div>\n<style scoped>\n    .dataframe tbody tr th:only-of-type {\n        vertical-align: middle;\n    }\n\n    .dataframe tbody tr th {\n        vertical-align: top;\n    }\n\n    .dataframe thead th {\n        text-align: right;\n    }\n</style>\n<table border=\"1\" class=\"dataframe\">\n  <thead>\n    <tr style=\"text-align: right;\">\n      <th></th>\n      <th>AsteroidID</th>\n      <th>TimeID</th>\n      <th>AsteroidName</th>\n      <th>epoch</th>\n      <th>a</th>\n      <th>e</th>\n      <th>inc</th>\n      <th>Omega</th>\n      <th>omega</th>\n      <th>M</th>\n      <th>f</th>\n    </tr>\n  </thead>\n  <tbody>\n    <tr>\n      <th>0</th>\n      <td>1413593</td>\n      <td>84960000</td>\n      <td>2060 T-2</td>\n      <td>59000.0</td>\n      <td>2.319947</td>\n      <td>0.193103</td>\n      <td>0.013013</td>\n      <td>3.085343</td>\n      <td>-2.811390</td>\n      <td>-0.435800</td>\n      <td>5.640864</td>\n    </tr>\n    <tr>\n      <th>1</th>\n      <td>1413594</td>\n      <td>84960000</td>\n      <td>2678 T-3</td>\n      <td>59000.0</td>\n      <td>2.243868</td>\n      <td>0.265620</td>\n      <td>0.169600</td>\n      <td>-2.723455</td>\n      <td>2.611393</td>\n      <td>-1.980524</td>\n      <td>-2.398462</td>\n    </tr>\n    <tr>\n      <th>2</th>\n      <td>1000007</td>\n      <td>84960000</td>\n      <td>1979 MW5</td>\n      <td>59000.0</td>\n      <td>3.185015</td>\n      <td>0.298391</td>\n      <td>0.164023</td>\n      <td>2.169598</td>\n      <td>2.773325</td>\n      <td>1.322903</td>\n      <td>-4.361898</td>\n    </tr>\n  </tbody>\n</table>\n</div>"
     },
     "metadata": {},
     "execution_count": 11
    }
   ],
   "source": [
    "elts"
   ]
  },
  {
   "cell_type": "code",
   "execution_count": 32,
   "metadata": {},
   "outputs": [],
   "source": [
    "max_date = 3\n",
    "N_date = 1000"
   ]
  },
  {
   "cell_type": "code",
   "execution_count": 12,
   "metadata": {},
   "outputs": [],
   "source": [
    "ref_elts = calc_ref_elt(sim)"
   ]
  },
  {
   "cell_type": "code",
   "execution_count": 13,
   "metadata": {},
   "outputs": [
    {
     "output_type": "execute_result",
     "data": {
      "text/plain": [
       "   AsteroidID    TimeID    epoch         a         e       inc  Omega_node  \\\n",
       "0   1413593.0  84960000  59000.0  2.319947  0.193103  0.013013    3.085343   \n",
       "1   1413594.0  84960000  59000.0  2.243868  0.265620  0.169600    3.559730   \n",
       "2   1000007.0  84960000  59000.0  3.185015  0.298391  0.164023    2.169598   \n",
       "\n",
       "   omega_peri         f         M         d         v         h       period  \\\n",
       "0    3.471796  5.640864  5.847385  1.934352  0.013366  0.025725  1289.805987   \n",
       "1    2.611393  3.884723  4.302661  2.592652  0.009825  0.024859  1226.883202   \n",
       "2    2.773325  1.921288  1.322903  3.232631  0.009502  0.029321  2074.791898   \n",
       "\n",
       "   mean_motion        T_peri    pomega  \n",
       "0     0.004871  59089.460562  0.273954  \n",
       "1     0.005121  59386.726134  6.171122  \n",
       "2     0.003028  58563.159785  4.942923  "
      ],
      "text/html": "<div>\n<style scoped>\n    .dataframe tbody tr th:only-of-type {\n        vertical-align: middle;\n    }\n\n    .dataframe tbody tr th {\n        vertical-align: top;\n    }\n\n    .dataframe thead th {\n        text-align: right;\n    }\n</style>\n<table border=\"1\" class=\"dataframe\">\n  <thead>\n    <tr style=\"text-align: right;\">\n      <th></th>\n      <th>AsteroidID</th>\n      <th>TimeID</th>\n      <th>epoch</th>\n      <th>a</th>\n      <th>e</th>\n      <th>inc</th>\n      <th>Omega_node</th>\n      <th>omega_peri</th>\n      <th>f</th>\n      <th>M</th>\n      <th>d</th>\n      <th>v</th>\n      <th>h</th>\n      <th>period</th>\n      <th>mean_motion</th>\n      <th>T_peri</th>\n      <th>pomega</th>\n    </tr>\n  </thead>\n  <tbody>\n    <tr>\n      <th>0</th>\n      <td>1413593.0</td>\n      <td>84960000</td>\n      <td>59000.0</td>\n      <td>2.319947</td>\n      <td>0.193103</td>\n      <td>0.013013</td>\n      <td>3.085343</td>\n      <td>3.471796</td>\n      <td>5.640864</td>\n      <td>5.847385</td>\n      <td>1.934352</td>\n      <td>0.013366</td>\n      <td>0.025725</td>\n      <td>1289.805987</td>\n      <td>0.004871</td>\n      <td>59089.460562</td>\n      <td>0.273954</td>\n    </tr>\n    <tr>\n      <th>1</th>\n      <td>1413594.0</td>\n      <td>84960000</td>\n      <td>59000.0</td>\n      <td>2.243868</td>\n      <td>0.265620</td>\n      <td>0.169600</td>\n      <td>3.559730</td>\n      <td>2.611393</td>\n      <td>3.884723</td>\n      <td>4.302661</td>\n      <td>2.592652</td>\n      <td>0.009825</td>\n      <td>0.024859</td>\n      <td>1226.883202</td>\n      <td>0.005121</td>\n      <td>59386.726134</td>\n      <td>6.171122</td>\n    </tr>\n    <tr>\n      <th>2</th>\n      <td>1000007.0</td>\n      <td>84960000</td>\n      <td>59000.0</td>\n      <td>3.185015</td>\n      <td>0.298391</td>\n      <td>0.164023</td>\n      <td>2.169598</td>\n      <td>2.773325</td>\n      <td>1.921288</td>\n      <td>1.322903</td>\n      <td>3.232631</td>\n      <td>0.009502</td>\n      <td>0.029321</td>\n      <td>2074.791898</td>\n      <td>0.003028</td>\n      <td>58563.159785</td>\n      <td>4.942923</td>\n    </tr>\n  </tbody>\n</table>\n</div>"
     },
     "metadata": {},
     "execution_count": 13
    }
   ],
   "source": [
    "ref_elts"
   ]
  },
  {
   "cell_type": "code",
   "execution_count": 17,
   "metadata": {},
   "outputs": [
    {
     "output_type": "stream",
     "name": "stdout",
     "text": [
      "Extracting 3 records from DataFrame into CSV files in chunks of 0 rows...\n",
      "CSV file name: ../data/df2db/AsteroidElement_Ref/AsteroidElement_Ref.csv\n",
      "Elapsed Time for CSV Conversion: 0:00:00.003431\n",
      "Elapsed Time for DB insertion: 0:00:00.089094\n"
     ]
    }
   ],
   "source": [
    "schema='KS'\n",
    "table='AsteroidElement_Ref'\n",
    "truncate=False\n",
    "chunksize=0\n",
    "verbose=True\n",
    "df2db(df=ref_elts, schema=schema, table=table, truncate=truncate, chunksize=chunksize, verbose=verbose)"
   ]
  },
  {
   "cell_type": "code",
   "execution_count": 23,
   "metadata": {},
   "outputs": [
    {
     "output_type": "error",
     "ename": "AttributeError",
     "evalue": "'Particles' object has no attribute 'a'",
     "traceback": [
      "\u001b[0;31m---------------------------------------------------------------------------\u001b[0m",
      "\u001b[0;31mAttributeError\u001b[0m                            Traceback (most recent call last)",
      "\u001b[0;32m<ipython-input-23-24db04bdd08f>\u001b[0m in \u001b[0;36m<module>\u001b[0;34m\u001b[0m\n\u001b[0;32m----> 1\u001b[0;31m \u001b[0msim\u001b[0m\u001b[0;34m.\u001b[0m\u001b[0mparticles\u001b[0m\u001b[0;34m.\u001b[0m\u001b[0ma\u001b[0m\u001b[0;34m\u001b[0m\u001b[0;34m\u001b[0m\u001b[0m\n\u001b[0m",
      "\u001b[0;31mAttributeError\u001b[0m: 'Particles' object has no attribute 'a'"
     ]
    }
   ],
   "source": [
    "sim.particles"
   ]
  },
  {
   "cell_type": "code",
   "execution_count": 36,
   "metadata": {},
   "outputs": [],
   "source": [
    "EA = 1"
   ]
  },
  {
   "cell_type": "code",
   "execution_count": null,
   "metadata": {},
   "outputs": [],
   "source": []
  }
 ],
 "metadata": {
  "kernelspec": {
   "name": "python3",
   "display_name": "Python 3",
   "language": "python"
  },
  "language_info": {
   "codemirror_mode": {
    "name": "ipython",
    "version": 3
   },
   "file_extension": ".py",
   "mimetype": "text/x-python",
   "name": "python",
   "nbconvert_exporter": "python",
   "pygments_lexer": "ipython3",
   "version": "3.8.5-final"
  }
 },
 "nbformat": 4,
 "nbformat_minor": 4
}