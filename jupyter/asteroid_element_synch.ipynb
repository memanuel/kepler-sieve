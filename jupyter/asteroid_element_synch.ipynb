{
 "cells": [
  {
   "cell_type": "code",
   "execution_count": 1,
   "metadata": {},
   "outputs": [],
   "source": [
    "# Core\n",
    "import numpy as np\n",
    "import pandas as pd\n",
    "\n",
    "# Astronomy\n",
    "import rebound"
   ]
  },
  {
   "cell_type": "code",
   "execution_count": 2,
   "metadata": {},
   "outputs": [],
   "source": [
    "# Local imports\n",
    "import kepler_sieve\n",
    "from horizons import make_sim_horizons\n",
    "from rebound_sim import make_sim_planets\n",
    "from rebound_integrate import integrate_numpy, integrate_df\n",
    "from db_config import db_engine\n",
    "from db_utils import sp2df, get_columns, df2db, df2csv, csv2db, csvs2db"
   ]
  },
  {
   "cell_type": "code",
   "execution_count": 3,
   "metadata": {},
   "outputs": [],
   "source": [
    "from asteroid_element import get_ast_ref_elts, get_ast_ref_elts_jpl, add_asteroid_elts, update_asteroid_elements\n",
    "from asteroid_element_synch import process_dates, calc_ref_elt"
   ]
  },
  {
   "cell_type": "code",
   "execution_count": 4,
   "metadata": {},
   "outputs": [],
   "source": [
    "# Typing\n",
    "from typing import Tuple, List"
   ]
  },
  {
   "cell_type": "code",
   "execution_count": 6,
   "metadata": {},
   "outputs": [],
   "source": [
    "epoch_out = 59000\n",
    "elt_dates = sp2df(sp_name='JPL.GetAsteroidRefElementDates', params={'epoch':epoch_out})"
   ]
  },
  {
   "cell_type": "code",
   "execution_count": 7,
   "metadata": {},
   "outputs": [
    {
     "output_type": "execute_result",
     "data": {
      "text/plain": [
       "        TimeID    epoch  AsteroidCount\n",
       "0     63678240  44221.0              1\n",
       "1     64319040  44666.0              1\n",
       "2     64334880  44677.0              1\n",
       "3     68271840  47411.0              1\n",
       "4     68562720  47613.0              1\n",
       "...        ...      ...            ...\n",
       "5229  84951360  58994.0              5\n",
       "5230  84952800  58995.0              4\n",
       "5231  84955680  58997.0              3\n",
       "5232  84957120  58998.0              2\n",
       "5233  84958560  58999.0              4\n",
       "\n",
       "[5234 rows x 3 columns]"
      ],
      "text/html": "<div>\n<style scoped>\n    .dataframe tbody tr th:only-of-type {\n        vertical-align: middle;\n    }\n\n    .dataframe tbody tr th {\n        vertical-align: top;\n    }\n\n    .dataframe thead th {\n        text-align: right;\n    }\n</style>\n<table border=\"1\" class=\"dataframe\">\n  <thead>\n    <tr style=\"text-align: right;\">\n      <th></th>\n      <th>TimeID</th>\n      <th>epoch</th>\n      <th>AsteroidCount</th>\n    </tr>\n  </thead>\n  <tbody>\n    <tr>\n      <th>0</th>\n      <td>63678240</td>\n      <td>44221.0</td>\n      <td>1</td>\n    </tr>\n    <tr>\n      <th>1</th>\n      <td>64319040</td>\n      <td>44666.0</td>\n      <td>1</td>\n    </tr>\n    <tr>\n      <th>2</th>\n      <td>64334880</td>\n      <td>44677.0</td>\n      <td>1</td>\n    </tr>\n    <tr>\n      <th>3</th>\n      <td>68271840</td>\n      <td>47411.0</td>\n      <td>1</td>\n    </tr>\n    <tr>\n      <th>4</th>\n      <td>68562720</td>\n      <td>47613.0</td>\n      <td>1</td>\n    </tr>\n    <tr>\n      <th>...</th>\n      <td>...</td>\n      <td>...</td>\n      <td>...</td>\n    </tr>\n    <tr>\n      <th>5229</th>\n      <td>84951360</td>\n      <td>58994.0</td>\n      <td>5</td>\n    </tr>\n    <tr>\n      <th>5230</th>\n      <td>84952800</td>\n      <td>58995.0</td>\n      <td>4</td>\n    </tr>\n    <tr>\n      <th>5231</th>\n      <td>84955680</td>\n      <td>58997.0</td>\n      <td>3</td>\n    </tr>\n    <tr>\n      <th>5232</th>\n      <td>84957120</td>\n      <td>58998.0</td>\n      <td>2</td>\n    </tr>\n    <tr>\n      <th>5233</th>\n      <td>84958560</td>\n      <td>58999.0</td>\n      <td>4</td>\n    </tr>\n  </tbody>\n</table>\n<p>5234 rows × 3 columns</p>\n</div>"
     },
     "metadata": {},
     "execution_count": 7
    }
   ],
   "source": [
    "elt_dates"
   ]
  },
  {
   "cell_type": "code",
   "execution_count": 9,
   "metadata": {},
   "outputs": [
    {
     "output_type": "execute_result",
     "data": {
      "text/plain": [
       "        TimeID    epoch  AsteroidCount\n",
       "4909  84384000  58600.0              2"
      ],
      "text/html": "<div>\n<style scoped>\n    .dataframe tbody tr th:only-of-type {\n        vertical-align: middle;\n    }\n\n    .dataframe tbody tr th {\n        vertical-align: top;\n    }\n\n    .dataframe thead th {\n        text-align: right;\n    }\n</style>\n<table border=\"1\" class=\"dataframe\">\n  <thead>\n    <tr style=\"text-align: right;\">\n      <th></th>\n      <th>TimeID</th>\n      <th>epoch</th>\n      <th>AsteroidCount</th>\n    </tr>\n  </thead>\n  <tbody>\n    <tr>\n      <th>4909</th>\n      <td>84384000</td>\n      <td>58600.0</td>\n      <td>2</td>\n    </tr>\n  </tbody>\n</table>\n</div>"
     },
     "metadata": {},
     "execution_count": 9
    }
   ],
   "source": [
    "mask = (elt_dates.epoch == 58600)\n",
    "elt_dates[mask]"
   ]
  },
  {
   "cell_type": "code",
   "execution_count": 7,
   "metadata": {},
   "outputs": [],
   "source": [
    "# First epoch\n",
    "# epoch0 = int(elt_dates.epoch[0])\n",
    "epoch0 = 58600"
   ]
  },
  {
   "cell_type": "code",
   "execution_count": 8,
   "metadata": {},
   "outputs": [],
   "source": [
    "# Start with a base simulation of the Sun, Planets and Moon\n",
    "sim = make_sim_planets(epoch=epoch0)\n",
    "# Set simulation time t to match epoch\n",
    "sim.t = sim.epoch\n",
    "# Set the number of active particles to the base simulation\n",
    "# https://rebound.readthedocs.io/en/latest/ipython/Testparticles.html\n",
    "sim.N_active = sim.N"
   ]
  },
  {
   "cell_type": "code",
   "execution_count": 9,
   "metadata": {},
   "outputs": [],
   "source": [
    "# Get the elements\n",
    "# elts = sp2df(sp_name='KS.GetAsteroidRefElements', params={'epoch':epoch0})\n",
    "elts = get_ast_ref_elts_jpl(epoch0)"
   ]
  },
  {
   "cell_type": "code",
   "execution_count": 10,
   "metadata": {},
   "outputs": [
    {
     "output_type": "execute_result",
     "data": {
      "text/plain": [
       "   AsteroidID    TimeID AsteroidName    epoch         a         e       inc  \\\n",
       "0           1  84384000        Ceres  58600.0  2.769165  0.076009  0.184901   \n",
       "1           4  84384000        Vesta  58600.0  2.361418  0.088721  0.124647   \n",
       "\n",
       "      Omega     omega         M   BodyID  BodyName  \n",
       "0  1.401596  1.284522  1.350398  1000001  SB.Ceres  \n",
       "1  1.811840  2.630709  1.673106  1000004  SB.Vesta  "
      ],
      "text/html": "<div>\n<style scoped>\n    .dataframe tbody tr th:only-of-type {\n        vertical-align: middle;\n    }\n\n    .dataframe tbody tr th {\n        vertical-align: top;\n    }\n\n    .dataframe thead th {\n        text-align: right;\n    }\n</style>\n<table border=\"1\" class=\"dataframe\">\n  <thead>\n    <tr style=\"text-align: right;\">\n      <th></th>\n      <th>AsteroidID</th>\n      <th>TimeID</th>\n      <th>AsteroidName</th>\n      <th>epoch</th>\n      <th>a</th>\n      <th>e</th>\n      <th>inc</th>\n      <th>Omega</th>\n      <th>omega</th>\n      <th>M</th>\n      <th>BodyID</th>\n      <th>BodyName</th>\n    </tr>\n  </thead>\n  <tbody>\n    <tr>\n      <th>0</th>\n      <td>1</td>\n      <td>84384000</td>\n      <td>Ceres</td>\n      <td>58600.0</td>\n      <td>2.769165</td>\n      <td>0.076009</td>\n      <td>0.184901</td>\n      <td>1.401596</td>\n      <td>1.284522</td>\n      <td>1.350398</td>\n      <td>1000001</td>\n      <td>SB.Ceres</td>\n    </tr>\n    <tr>\n      <th>1</th>\n      <td>4</td>\n      <td>84384000</td>\n      <td>Vesta</td>\n      <td>58600.0</td>\n      <td>2.361418</td>\n      <td>0.088721</td>\n      <td>0.124647</td>\n      <td>1.811840</td>\n      <td>2.630709</td>\n      <td>1.673106</td>\n      <td>1000004</td>\n      <td>SB.Vesta</td>\n    </tr>\n  </tbody>\n</table>\n</div>"
     },
     "metadata": {},
     "execution_count": 10
    }
   ],
   "source": [
    "elts = elts[0:2]\n",
    "elts_orig = elts.copy()\n",
    "elts"
   ]
  },
  {
   "cell_type": "code",
   "execution_count": 69,
   "metadata": {},
   "outputs": [
    {
     "output_type": "execute_result",
     "data": {
      "text/plain": [
       "11"
      ]
     },
     "metadata": {},
     "execution_count": 69
    }
   ],
   "source": [
    "sim.N"
   ]
  },
  {
   "cell_type": "code",
   "execution_count": 71,
   "metadata": {},
   "outputs": [],
   "source": [
    "i=0\n",
    "a = elts.a[i]\n",
    "e = elts.e[i]\n",
    "inc = elts.inc[i]\n",
    "Omega = elts.Omega[i]\n",
    "omega = elts.omega[i]\n",
    "M = elts.M[i]"
   ]
  },
  {
   "cell_type": "code",
   "execution_count": 87,
   "metadata": {},
   "outputs": [
    {
     "output_type": "execute_result",
     "data": {
      "text/plain": [
       "2.769165100000001"
      ]
     },
     "metadata": {},
     "execution_count": 87
    }
   ],
   "source": [
    "sim.particles[12].calculate_orbit(primary=primary).a"
   ]
  },
  {
   "cell_type": "code",
   "execution_count": 88,
   "metadata": {},
   "outputs": [],
   "source": [
    "orbits = sim.calculate_orbits(primary=primary)"
   ]
  },
  {
   "cell_type": "code",
   "execution_count": 93,
   "metadata": {},
   "outputs": [
    {
     "output_type": "execute_result",
     "data": {
      "text/plain": [
       "2.769165100000001"
      ]
     },
     "metadata": {},
     "execution_count": 93
    }
   ],
   "source": [
    "orbits[11].a"
   ]
  },
  {
   "cell_type": "code",
   "execution_count": 74,
   "metadata": {},
   "outputs": [
    {
     "output_type": "execute_result",
     "data": {
      "text/plain": [
       "<rebound.Particle object, m=1.0 x=-0.001699702116697901 y=0.007591941485824569 z=-3.294738263228371e-05 vx=-8.347175817777104e-06 vy=7.503821640682956e-07 vz=2.164051447319061e-07>"
      ]
     },
     "metadata": {},
     "execution_count": 74
    }
   ],
   "source": [
    "primary = sim.particles['Sun']\n",
    "primary"
   ]
  },
  {
   "cell_type": "code",
   "execution_count": 77,
   "metadata": {},
   "outputs": [],
   "source": [
    "sim.add(m=0.0, a=a, e=e, inc=inc, Omega=Omega, omega=omega, M=M, primary=primary)\n",
    "# sim.particles[-1].name = elts.AsteroidName[i]"
   ]
  },
  {
   "cell_type": "code",
   "execution_count": 84,
   "metadata": {},
   "outputs": [
    {
     "output_type": "execute_result",
     "data": {
      "text/plain": [
       "<rebound.Particle object, m=0.0 x=-1.358266863358887 y=-2.3650681547556127 z=0.17534354611513353 vx=0.00845671670723955 vy=-0.005875569796473027 vz=-0.0017455417801408722>"
      ]
     },
     "metadata": {},
     "execution_count": 84
    }
   ],
   "source": [
    "sim.calculate_orbits(primary=primary)"
   ]
  },
  {
   "cell_type": "code",
   "execution_count": 85,
   "metadata": {},
   "outputs": [
    {
     "output_type": "execute_result",
     "data": {
      "text/plain": [
       "2.7498584752273363"
      ]
     },
     "metadata": {},
     "execution_count": 85
    }
   ],
   "source": [
    "sim.particles[12].a"
   ]
  },
  {
   "cell_type": "code",
   "execution_count": 11,
   "metadata": {},
   "outputs": [],
   "source": [
    "# First set of asteroid IDs\n",
    "asteroid_ids = add_asteroid_elts(sim=sim, elts=elts)"
   ]
  },
  {
   "cell_type": "code",
   "execution_count": 12,
   "metadata": {},
   "outputs": [
    {
     "output_type": "execute_result",
     "data": {
      "text/plain": [
       "2.7498584752273363"
      ]
     },
     "metadata": {},
     "execution_count": 12
    }
   ],
   "source": [
    "# sim.t\n",
    "sim.particles[11].a"
   ]
  },
  {
   "cell_type": "code",
   "execution_count": 34,
   "metadata": {},
   "outputs": [
    {
     "output_type": "execute_result",
     "data": {
      "text/plain": [
       "array([1, 4])"
      ]
     },
     "metadata": {},
     "execution_count": 34
    }
   ],
   "source": [
    "asteroid_ids"
   ]
  },
  {
   "cell_type": "code",
   "execution_count": 13,
   "metadata": {},
   "outputs": [
    {
     "output_type": "execute_result",
     "data": {
      "text/plain": [
       "        TimeID    epoch  AsteroidCount\n",
       "4912  84384000  58600.0              2"
      ],
      "text/html": "<div>\n<style scoped>\n    .dataframe tbody tr th:only-of-type {\n        vertical-align: middle;\n    }\n\n    .dataframe tbody tr th {\n        vertical-align: top;\n    }\n\n    .dataframe thead th {\n        text-align: right;\n    }\n</style>\n<table border=\"1\" class=\"dataframe\">\n  <thead>\n    <tr style=\"text-align: right;\">\n      <th></th>\n      <th>TimeID</th>\n      <th>epoch</th>\n      <th>AsteroidCount</th>\n    </tr>\n  </thead>\n  <tbody>\n    <tr>\n      <th>4912</th>\n      <td>84384000</td>\n      <td>58600.0</td>\n      <td>2</td>\n    </tr>\n  </tbody>\n</table>\n</div>"
     },
     "metadata": {},
     "execution_count": 13
    }
   ],
   "source": [
    "elt_dates2 = elt_dates.loc[elt_dates.epoch==58600]\n",
    "elt_dates2"
   ]
  },
  {
   "cell_type": "code",
   "execution_count": 38,
   "metadata": {},
   "outputs": [],
   "source": []
  },
  {
   "cell_type": "code",
   "execution_count": 39,
   "metadata": {},
   "outputs": [],
   "source": [
    "# Integrate to the next epoch\n",
    "# sim.integrate(epoch_next, exact_finish_time=1)\n",
    "# Update the asteroid elements as of this epoch\n",
    "update_asteroid_elements(sim=sim, elts=elts, epoch=epoch0)\n"
   ]
  },
  {
   "cell_type": "code",
   "execution_count": 14,
   "metadata": {},
   "outputs": [
    {
     "output_type": "execute_result",
     "data": {
      "text/plain": [
       "   AsteroidID    TimeID AsteroidName    epoch         a         e       inc  \\\n",
       "0           1  84384000        Ceres  58600.0  2.769165  0.076009  0.184901   \n",
       "1           4  84384000        Vesta  58600.0  2.361418  0.088721  0.124647   \n",
       "\n",
       "      Omega     omega         M   BodyID  BodyName  \n",
       "0  1.401596  1.284522  1.350398  1000001  SB.Ceres  \n",
       "1  1.811840  2.630709  1.673106  1000004  SB.Vesta  "
      ],
      "text/html": "<div>\n<style scoped>\n    .dataframe tbody tr th:only-of-type {\n        vertical-align: middle;\n    }\n\n    .dataframe tbody tr th {\n        vertical-align: top;\n    }\n\n    .dataframe thead th {\n        text-align: right;\n    }\n</style>\n<table border=\"1\" class=\"dataframe\">\n  <thead>\n    <tr style=\"text-align: right;\">\n      <th></th>\n      <th>AsteroidID</th>\n      <th>TimeID</th>\n      <th>AsteroidName</th>\n      <th>epoch</th>\n      <th>a</th>\n      <th>e</th>\n      <th>inc</th>\n      <th>Omega</th>\n      <th>omega</th>\n      <th>M</th>\n      <th>BodyID</th>\n      <th>BodyName</th>\n    </tr>\n  </thead>\n  <tbody>\n    <tr>\n      <th>0</th>\n      <td>1</td>\n      <td>84384000</td>\n      <td>Ceres</td>\n      <td>58600.0</td>\n      <td>2.769165</td>\n      <td>0.076009</td>\n      <td>0.184901</td>\n      <td>1.401596</td>\n      <td>1.284522</td>\n      <td>1.350398</td>\n      <td>1000001</td>\n      <td>SB.Ceres</td>\n    </tr>\n    <tr>\n      <th>1</th>\n      <td>4</td>\n      <td>84384000</td>\n      <td>Vesta</td>\n      <td>58600.0</td>\n      <td>2.361418</td>\n      <td>0.088721</td>\n      <td>0.124647</td>\n      <td>1.811840</td>\n      <td>2.630709</td>\n      <td>1.673106</td>\n      <td>1000004</td>\n      <td>SB.Vesta</td>\n    </tr>\n  </tbody>\n</table>\n</div>"
     },
     "metadata": {},
     "execution_count": 14
    }
   ],
   "source": [
    "elts"
   ]
  },
  {
   "cell_type": "code",
   "execution_count": 15,
   "metadata": {},
   "outputs": [
    {
     "output_type": "execute_result",
     "data": {
      "text/plain": [
       "0    0.0\n",
       "1    0.0\n",
       "Name: a, dtype: float64"
      ]
     },
     "metadata": {},
     "execution_count": 15
    }
   ],
   "source": [
    "elts.a - elts_orig.a"
   ]
  },
  {
   "cell_type": "code",
   "execution_count": 17,
   "metadata": {},
   "outputs": [],
   "source": [
    "sim, elts = process_dates(epoch_out, elt_dates=elt_dates2, max_dates=1)"
   ]
  },
  {
   "cell_type": "code",
   "execution_count": 24,
   "metadata": {},
   "outputs": [
    {
     "output_type": "execute_result",
     "data": {
      "text/plain": [
       "   AsteroidID    TimeID AsteroidName    epoch         a         e       inc  \\\n",
       "0           1  84384000        Ceres  58600.0  2.769165  0.076009  0.184901   \n",
       "1           4  84384000        Vesta  58600.0  2.361418  0.088721  0.124647   \n",
       "\n",
       "      Omega     omega         M   BodyID  BodyName  \n",
       "0  1.401596  1.284522  1.350398  1000001  SB.Ceres  \n",
       "1  1.811840  2.630709  1.673106  1000004  SB.Vesta  "
      ],
      "text/html": "<div>\n<style scoped>\n    .dataframe tbody tr th:only-of-type {\n        vertical-align: middle;\n    }\n\n    .dataframe tbody tr th {\n        vertical-align: top;\n    }\n\n    .dataframe thead th {\n        text-align: right;\n    }\n</style>\n<table border=\"1\" class=\"dataframe\">\n  <thead>\n    <tr style=\"text-align: right;\">\n      <th></th>\n      <th>AsteroidID</th>\n      <th>TimeID</th>\n      <th>AsteroidName</th>\n      <th>epoch</th>\n      <th>a</th>\n      <th>e</th>\n      <th>inc</th>\n      <th>Omega</th>\n      <th>omega</th>\n      <th>M</th>\n      <th>BodyID</th>\n      <th>BodyName</th>\n    </tr>\n  </thead>\n  <tbody>\n    <tr>\n      <th>0</th>\n      <td>1</td>\n      <td>84384000</td>\n      <td>Ceres</td>\n      <td>58600.0</td>\n      <td>2.769165</td>\n      <td>0.076009</td>\n      <td>0.184901</td>\n      <td>1.401596</td>\n      <td>1.284522</td>\n      <td>1.350398</td>\n      <td>1000001</td>\n      <td>SB.Ceres</td>\n    </tr>\n    <tr>\n      <th>1</th>\n      <td>4</td>\n      <td>84384000</td>\n      <td>Vesta</td>\n      <td>58600.0</td>\n      <td>2.361418</td>\n      <td>0.088721</td>\n      <td>0.124647</td>\n      <td>1.811840</td>\n      <td>2.630709</td>\n      <td>1.673106</td>\n      <td>1000004</td>\n      <td>SB.Vesta</td>\n    </tr>\n  </tbody>\n</table>\n</div>"
     },
     "metadata": {},
     "execution_count": 24
    }
   ],
   "source": [
    "elts"
   ]
  },
  {
   "cell_type": "code",
   "execution_count": 32,
   "metadata": {},
   "outputs": [],
   "source": [
    "max_date = 3\n",
    "N_date = 1000"
   ]
  },
  {
   "cell_type": "code",
   "execution_count": 12,
   "metadata": {},
   "outputs": [],
   "source": [
    "ref_elts = calc_ref_elt(sim)"
   ]
  },
  {
   "cell_type": "code",
   "execution_count": 13,
   "metadata": {},
   "outputs": [
    {
     "output_type": "execute_result",
     "data": {
      "text/plain": [
       "   AsteroidID    TimeID    epoch         a         e       inc  Omega_node  \\\n",
       "0   1413593.0  84960000  59000.0  2.319947  0.193103  0.013013    3.085343   \n",
       "1   1413594.0  84960000  59000.0  2.243868  0.265620  0.169600    3.559730   \n",
       "2   1000007.0  84960000  59000.0  3.185015  0.298391  0.164023    2.169598   \n",
       "\n",
       "   omega_peri         f         M         d         v         h       period  \\\n",
       "0    3.471796  5.640864  5.847385  1.934352  0.013366  0.025725  1289.805987   \n",
       "1    2.611393  3.884723  4.302661  2.592652  0.009825  0.024859  1226.883202   \n",
       "2    2.773325  1.921288  1.322903  3.232631  0.009502  0.029321  2074.791898   \n",
       "\n",
       "   mean_motion        T_peri    pomega  \n",
       "0     0.004871  59089.460562  0.273954  \n",
       "1     0.005121  59386.726134  6.171122  \n",
       "2     0.003028  58563.159785  4.942923  "
      ],
      "text/html": "<div>\n<style scoped>\n    .dataframe tbody tr th:only-of-type {\n        vertical-align: middle;\n    }\n\n    .dataframe tbody tr th {\n        vertical-align: top;\n    }\n\n    .dataframe thead th {\n        text-align: right;\n    }\n</style>\n<table border=\"1\" class=\"dataframe\">\n  <thead>\n    <tr style=\"text-align: right;\">\n      <th></th>\n      <th>AsteroidID</th>\n      <th>TimeID</th>\n      <th>epoch</th>\n      <th>a</th>\n      <th>e</th>\n      <th>inc</th>\n      <th>Omega_node</th>\n      <th>omega_peri</th>\n      <th>f</th>\n      <th>M</th>\n      <th>d</th>\n      <th>v</th>\n      <th>h</th>\n      <th>period</th>\n      <th>mean_motion</th>\n      <th>T_peri</th>\n      <th>pomega</th>\n    </tr>\n  </thead>\n  <tbody>\n    <tr>\n      <th>0</th>\n      <td>1413593.0</td>\n      <td>84960000</td>\n      <td>59000.0</td>\n      <td>2.319947</td>\n      <td>0.193103</td>\n      <td>0.013013</td>\n      <td>3.085343</td>\n      <td>3.471796</td>\n      <td>5.640864</td>\n      <td>5.847385</td>\n      <td>1.934352</td>\n      <td>0.013366</td>\n      <td>0.025725</td>\n      <td>1289.805987</td>\n      <td>0.004871</td>\n      <td>59089.460562</td>\n      <td>0.273954</td>\n    </tr>\n    <tr>\n      <th>1</th>\n      <td>1413594.0</td>\n      <td>84960000</td>\n      <td>59000.0</td>\n      <td>2.243868</td>\n      <td>0.265620</td>\n      <td>0.169600</td>\n      <td>3.559730</td>\n      <td>2.611393</td>\n      <td>3.884723</td>\n      <td>4.302661</td>\n      <td>2.592652</td>\n      <td>0.009825</td>\n      <td>0.024859</td>\n      <td>1226.883202</td>\n      <td>0.005121</td>\n      <td>59386.726134</td>\n      <td>6.171122</td>\n    </tr>\n    <tr>\n      <th>2</th>\n      <td>1000007.0</td>\n      <td>84960000</td>\n      <td>59000.0</td>\n      <td>3.185015</td>\n      <td>0.298391</td>\n      <td>0.164023</td>\n      <td>2.169598</td>\n      <td>2.773325</td>\n      <td>1.921288</td>\n      <td>1.322903</td>\n      <td>3.232631</td>\n      <td>0.009502</td>\n      <td>0.029321</td>\n      <td>2074.791898</td>\n      <td>0.003028</td>\n      <td>58563.159785</td>\n      <td>4.942923</td>\n    </tr>\n  </tbody>\n</table>\n</div>"
     },
     "metadata": {},
     "execution_count": 13
    }
   ],
   "source": [
    "ref_elts"
   ]
  },
  {
   "cell_type": "code",
   "execution_count": 17,
   "metadata": {},
   "outputs": [
    {
     "output_type": "stream",
     "name": "stdout",
     "text": [
      "Extracting 3 records from DataFrame into CSV files in chunks of 0 rows...\n",
      "CSV file name: ../data/df2db/AsteroidElement_Ref/AsteroidElement_Ref.csv\n",
      "Elapsed Time for CSV Conversion: 0:00:00.003431\n",
      "Elapsed Time for DB insertion: 0:00:00.089094\n"
     ]
    }
   ],
   "source": [
    "schema='KS'\n",
    "table='AsteroidElement_Ref'\n",
    "truncate=False\n",
    "chunksize=0\n",
    "verbose=True\n",
    "df2db(df=ref_elts, schema=schema, table=table, truncate=truncate, chunksize=chunksize, verbose=verbose)"
   ]
  },
  {
   "cell_type": "code",
   "execution_count": null,
   "metadata": {},
   "outputs": [],
   "source": []
  }
 ],
 "metadata": {
  "kernelspec": {
   "name": "python3",
   "display_name": "Python 3",
   "language": "python"
  },
  "language_info": {
   "codemirror_mode": {
    "name": "ipython",
    "version": 3
   },
   "file_extension": ".py",
   "mimetype": "text/x-python",
   "name": "python",
   "nbconvert_exporter": "python",
   "pygments_lexer": "ipython3",
   "version": "3.8.5-final"
  }
 },
 "nbformat": 4,
 "nbformat_minor": 4
}