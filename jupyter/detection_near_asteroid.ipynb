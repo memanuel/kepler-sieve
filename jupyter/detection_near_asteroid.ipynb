{
 "cells": [
  {
   "cell_type": "code",
   "execution_count": 1,
   "metadata": {},
   "outputs": [],
   "source": [
    "# Core\n",
    "import numpy as np\n",
    "import pandas as pd\n",
    "\n",
    "# Astronomy\n",
    "import astropy\n",
    "from astropy.units import au, minute"
   ]
  },
  {
   "cell_type": "code",
   "execution_count": 16,
   "metadata": {},
   "outputs": [],
   "source": [
    "# Local imports\n",
    "import kepler_sieve\n",
    "from asteroid_spline import spline_ast_data\n",
    "from asteroid_direction import calc_dir_ast2obs\n",
    "from db_utils import sp2df, df2db"
   ]
  },
  {
   "cell_type": "code",
   "execution_count": 14,
   "metadata": {},
   "outputs": [],
   "source": [
    "# Column groups\n",
    "cols_dir = ['ux', 'uy', 'uz']\n",
    "cols_spline = cols_dir + ['LightTime']"
   ]
  },
  {
   "cell_type": "code",
   "execution_count": 3,
   "metadata": {},
   "outputs": [],
   "source": [
    "# Get detection times\n",
    "sp_name = 'KS.GetDetectionTimes'\n",
    "params = dict()\n",
    "dt = sp2df(sp_name=sp_name, params=params)"
   ]
  },
  {
   "cell_type": "code",
   "execution_count": 4,
   "metadata": {},
   "outputs": [
    {
     "output_type": "stream",
     "name": "stdout",
     "text": [
      "Date range for splines: 58254.0-59312.0\n"
     ]
    }
   ],
   "source": [
    "# Calculate range of times required for splines\n",
    "pad = 16.0\n",
    "mjd0 = np.floor(np.min(dt.mjd)) - pad\n",
    "mjd1 = np.ceil(np.max(dt.mjd)) + pad\n",
    "\n",
    "print(f'Date range for splines: {mjd0}-{mjd1}')"
   ]
  },
  {
   "cell_type": "code",
   "execution_count": 5,
   "metadata": {},
   "outputs": [],
   "source": [
    "# Get block of asteroid detections (directions only)\n",
    "sp_name = 'KS.GetDetectionDirections'\n",
    "params = {\n",
    "    'd0': 0,\n",
    "    'd1': 100,\n",
    "}\n",
    "det = sp2df(sp_name=sp_name, params=params)"
   ]
  },
  {
   "cell_type": "code",
   "execution_count": 6,
   "metadata": {},
   "outputs": [
    {
     "output_type": "execute_result",
     "data": {
      "text/plain": [
       "    DetectionID           mjd        ux        uy        uz\n",
       "0             1  58270.167662 -0.940203 -0.205183  0.271880\n",
       "1             2  58270.167662 -0.940593 -0.207164  0.269011\n",
       "2             3  58270.167662 -0.942678 -0.201138  0.266274\n",
       "3             4  58270.167662 -0.944177 -0.198029  0.263275\n",
       "4             5  58270.167662 -0.944884 -0.197557  0.261085\n",
       "..          ...           ...       ...       ...       ...\n",
       "94           95  58270.167662 -0.965812 -0.141616  0.217143\n",
       "95           96  58270.167662 -0.964592 -0.142827  0.221728\n",
       "96           97  58270.167662 -0.967082 -0.133162  0.216842\n",
       "97           98  58270.167662 -0.966287 -0.137820  0.217475\n",
       "98           99  58270.167662 -0.964557 -0.147210  0.218995\n",
       "\n",
       "[99 rows x 5 columns]"
      ],
      "text/html": "<div>\n<style scoped>\n    .dataframe tbody tr th:only-of-type {\n        vertical-align: middle;\n    }\n\n    .dataframe tbody tr th {\n        vertical-align: top;\n    }\n\n    .dataframe thead th {\n        text-align: right;\n    }\n</style>\n<table border=\"1\" class=\"dataframe\">\n  <thead>\n    <tr style=\"text-align: right;\">\n      <th></th>\n      <th>DetectionID</th>\n      <th>mjd</th>\n      <th>ux</th>\n      <th>uy</th>\n      <th>uz</th>\n    </tr>\n  </thead>\n  <tbody>\n    <tr>\n      <th>0</th>\n      <td>1</td>\n      <td>58270.167662</td>\n      <td>-0.940203</td>\n      <td>-0.205183</td>\n      <td>0.271880</td>\n    </tr>\n    <tr>\n      <th>1</th>\n      <td>2</td>\n      <td>58270.167662</td>\n      <td>-0.940593</td>\n      <td>-0.207164</td>\n      <td>0.269011</td>\n    </tr>\n    <tr>\n      <th>2</th>\n      <td>3</td>\n      <td>58270.167662</td>\n      <td>-0.942678</td>\n      <td>-0.201138</td>\n      <td>0.266274</td>\n    </tr>\n    <tr>\n      <th>3</th>\n      <td>4</td>\n      <td>58270.167662</td>\n      <td>-0.944177</td>\n      <td>-0.198029</td>\n      <td>0.263275</td>\n    </tr>\n    <tr>\n      <th>4</th>\n      <td>5</td>\n      <td>58270.167662</td>\n      <td>-0.944884</td>\n      <td>-0.197557</td>\n      <td>0.261085</td>\n    </tr>\n    <tr>\n      <th>...</th>\n      <td>...</td>\n      <td>...</td>\n      <td>...</td>\n      <td>...</td>\n      <td>...</td>\n    </tr>\n    <tr>\n      <th>94</th>\n      <td>95</td>\n      <td>58270.167662</td>\n      <td>-0.965812</td>\n      <td>-0.141616</td>\n      <td>0.217143</td>\n    </tr>\n    <tr>\n      <th>95</th>\n      <td>96</td>\n      <td>58270.167662</td>\n      <td>-0.964592</td>\n      <td>-0.142827</td>\n      <td>0.221728</td>\n    </tr>\n    <tr>\n      <th>96</th>\n      <td>97</td>\n      <td>58270.167662</td>\n      <td>-0.967082</td>\n      <td>-0.133162</td>\n      <td>0.216842</td>\n    </tr>\n    <tr>\n      <th>97</th>\n      <td>98</td>\n      <td>58270.167662</td>\n      <td>-0.966287</td>\n      <td>-0.137820</td>\n      <td>0.217475</td>\n    </tr>\n    <tr>\n      <th>98</th>\n      <td>99</td>\n      <td>58270.167662</td>\n      <td>-0.964557</td>\n      <td>-0.147210</td>\n      <td>0.218995</td>\n    </tr>\n  </tbody>\n</table>\n<p>99 rows × 5 columns</p>\n</div>"
     },
     "metadata": {},
     "execution_count": 6
    }
   ],
   "source": [
    "det"
   ]
  },
  {
   "cell_type": "code",
   "execution_count": 22,
   "metadata": {},
   "outputs": [],
   "source": [
    "# Extract array of detection times\n",
    "t_det = det.mjd.values"
   ]
  },
  {
   "cell_type": "code",
   "execution_count": 23,
   "metadata": {},
   "outputs": [
    {
     "output_type": "stream",
     "name": "stdout",
     "text": [
      "t_det.shape = (99,)\n"
     ]
    }
   ],
   "source": [
    "# Shape of detection times\n",
    "print(f't_det.shape = {t_det.shape}')"
   ]
  },
  {
   "cell_type": "code",
   "execution_count": 7,
   "metadata": {},
   "outputs": [],
   "source": [
    "# Get asteroid directions in this time range\n",
    "sp_name = 'KS.GetAsteroidDirections'\n",
    "params = {\n",
    "    'n0': 0,\n",
    "    'n1': 100,\n",
    "    'mjd0': mjd0,\n",
    "    'mjd1': mjd1\n",
    "}\n",
    "ast_in = sp2df(sp_name=sp_name, params=params)"
   ]
  },
  {
   "cell_type": "code",
   "execution_count": 8,
   "metadata": {},
   "outputs": [
    {
     "output_type": "execute_result",
     "data": {
      "text/plain": [
       "       AsteroidID    TimeID      mjd        ux        uy        uz  LightTime\n",
       "0               1  83888640  58256.0 -0.695441  0.695787  0.179561  21.312345\n",
       "1               1  83894400  58260.0 -0.710843  0.680749  0.176872  21.715483\n",
       "2               1  83900160  58264.0 -0.726426  0.664782  0.174268  22.114047\n",
       "3               1  83905920  58268.0 -0.742106  0.647905  0.171747  22.507469\n",
       "4               1  83911680  58272.0 -0.757805  0.630133  0.169305  22.895268\n",
       "...           ...       ...      ...       ...       ...       ...        ...\n",
       "26230          99  85386240  59296.0  0.699529 -0.689512 -0.187704  23.987647\n",
       "26231          99  85392000  59300.0  0.720561 -0.666549 -0.191059  23.757249\n",
       "26232          99  85397760  59304.0  0.740492 -0.643310 -0.194485  23.517752\n",
       "26233          99  85403520  59308.0  0.759320 -0.619866 -0.197986  23.269268\n",
       "26234          99  85409280  59312.0  0.777046 -0.596297 -0.201568  23.011909\n",
       "\n",
       "[26235 rows x 7 columns]"
      ],
      "text/html": "<div>\n<style scoped>\n    .dataframe tbody tr th:only-of-type {\n        vertical-align: middle;\n    }\n\n    .dataframe tbody tr th {\n        vertical-align: top;\n    }\n\n    .dataframe thead th {\n        text-align: right;\n    }\n</style>\n<table border=\"1\" class=\"dataframe\">\n  <thead>\n    <tr style=\"text-align: right;\">\n      <th></th>\n      <th>AsteroidID</th>\n      <th>TimeID</th>\n      <th>mjd</th>\n      <th>ux</th>\n      <th>uy</th>\n      <th>uz</th>\n      <th>LightTime</th>\n    </tr>\n  </thead>\n  <tbody>\n    <tr>\n      <th>0</th>\n      <td>1</td>\n      <td>83888640</td>\n      <td>58256.0</td>\n      <td>-0.695441</td>\n      <td>0.695787</td>\n      <td>0.179561</td>\n      <td>21.312345</td>\n    </tr>\n    <tr>\n      <th>1</th>\n      <td>1</td>\n      <td>83894400</td>\n      <td>58260.0</td>\n      <td>-0.710843</td>\n      <td>0.680749</td>\n      <td>0.176872</td>\n      <td>21.715483</td>\n    </tr>\n    <tr>\n      <th>2</th>\n      <td>1</td>\n      <td>83900160</td>\n      <td>58264.0</td>\n      <td>-0.726426</td>\n      <td>0.664782</td>\n      <td>0.174268</td>\n      <td>22.114047</td>\n    </tr>\n    <tr>\n      <th>3</th>\n      <td>1</td>\n      <td>83905920</td>\n      <td>58268.0</td>\n      <td>-0.742106</td>\n      <td>0.647905</td>\n      <td>0.171747</td>\n      <td>22.507469</td>\n    </tr>\n    <tr>\n      <th>4</th>\n      <td>1</td>\n      <td>83911680</td>\n      <td>58272.0</td>\n      <td>-0.757805</td>\n      <td>0.630133</td>\n      <td>0.169305</td>\n      <td>22.895268</td>\n    </tr>\n    <tr>\n      <th>...</th>\n      <td>...</td>\n      <td>...</td>\n      <td>...</td>\n      <td>...</td>\n      <td>...</td>\n      <td>...</td>\n      <td>...</td>\n    </tr>\n    <tr>\n      <th>26230</th>\n      <td>99</td>\n      <td>85386240</td>\n      <td>59296.0</td>\n      <td>0.699529</td>\n      <td>-0.689512</td>\n      <td>-0.187704</td>\n      <td>23.987647</td>\n    </tr>\n    <tr>\n      <th>26231</th>\n      <td>99</td>\n      <td>85392000</td>\n      <td>59300.0</td>\n      <td>0.720561</td>\n      <td>-0.666549</td>\n      <td>-0.191059</td>\n      <td>23.757249</td>\n    </tr>\n    <tr>\n      <th>26232</th>\n      <td>99</td>\n      <td>85397760</td>\n      <td>59304.0</td>\n      <td>0.740492</td>\n      <td>-0.643310</td>\n      <td>-0.194485</td>\n      <td>23.517752</td>\n    </tr>\n    <tr>\n      <th>26233</th>\n      <td>99</td>\n      <td>85403520</td>\n      <td>59308.0</td>\n      <td>0.759320</td>\n      <td>-0.619866</td>\n      <td>-0.197986</td>\n      <td>23.269268</td>\n    </tr>\n    <tr>\n      <th>26234</th>\n      <td>99</td>\n      <td>85409280</td>\n      <td>59312.0</td>\n      <td>0.777046</td>\n      <td>-0.596297</td>\n      <td>-0.201568</td>\n      <td>23.011909</td>\n    </tr>\n  </tbody>\n</table>\n<p>26235 rows × 7 columns</p>\n</div>"
     },
     "metadata": {},
     "execution_count": 8
    }
   ],
   "source": [
    "ast_in"
   ]
  },
  {
   "cell_type": "code",
   "execution_count": 9,
   "metadata": {},
   "outputs": [],
   "source": [
    "# Extract array of asteroid sample times\n",
    "# t_det = ast_in.mjd.values"
   ]
  },
  {
   "cell_type": "code",
   "execution_count": 18,
   "metadata": {},
   "outputs": [],
   "source": [
    "# Spline asteroid directions to match these times\n",
    "ast = spline_ast_data(df_ast=ast_in, ts=t_det, cols_spline=cols_spline)"
   ]
  },
  {
   "cell_type": "code",
   "execution_count": 19,
   "metadata": {},
   "outputs": [
    {
     "output_type": "execute_result",
     "data": {
      "text/plain": [
       "         AsteroidID      mjd        ux        uy        uz  LightTime\n",
       "0                 1  58256.0 -0.695441  0.695787  0.179561  21.312345\n",
       "1                 1  58260.0 -0.710843  0.680749  0.176872  21.715483\n",
       "2                 1  58264.0 -0.726426  0.664782  0.174268  22.114047\n",
       "3                 1  58268.0 -0.742106  0.647905  0.171747  22.507469\n",
       "4                 1  58272.0 -0.757805  0.630133  0.169305  22.895268\n",
       "...             ...      ...       ...       ...       ...        ...\n",
       "2597260          99  59296.0  0.699529 -0.689512 -0.187704  23.987647\n",
       "2597261          99  59300.0  0.720561 -0.666549 -0.191059  23.757249\n",
       "2597262          99  59304.0  0.740492 -0.643310 -0.194485  23.517752\n",
       "2597263          99  59308.0  0.759320 -0.619866 -0.197986  23.269268\n",
       "2597264          99  59312.0  0.777046 -0.596297 -0.201568  23.011909\n",
       "\n",
       "[2597265 rows x 6 columns]"
      ],
      "text/html": "<div>\n<style scoped>\n    .dataframe tbody tr th:only-of-type {\n        vertical-align: middle;\n    }\n\n    .dataframe tbody tr th {\n        vertical-align: top;\n    }\n\n    .dataframe thead th {\n        text-align: right;\n    }\n</style>\n<table border=\"1\" class=\"dataframe\">\n  <thead>\n    <tr style=\"text-align: right;\">\n      <th></th>\n      <th>AsteroidID</th>\n      <th>mjd</th>\n      <th>ux</th>\n      <th>uy</th>\n      <th>uz</th>\n      <th>LightTime</th>\n    </tr>\n  </thead>\n  <tbody>\n    <tr>\n      <th>0</th>\n      <td>1</td>\n      <td>58256.0</td>\n      <td>-0.695441</td>\n      <td>0.695787</td>\n      <td>0.179561</td>\n      <td>21.312345</td>\n    </tr>\n    <tr>\n      <th>1</th>\n      <td>1</td>\n      <td>58260.0</td>\n      <td>-0.710843</td>\n      <td>0.680749</td>\n      <td>0.176872</td>\n      <td>21.715483</td>\n    </tr>\n    <tr>\n      <th>2</th>\n      <td>1</td>\n      <td>58264.0</td>\n      <td>-0.726426</td>\n      <td>0.664782</td>\n      <td>0.174268</td>\n      <td>22.114047</td>\n    </tr>\n    <tr>\n      <th>3</th>\n      <td>1</td>\n      <td>58268.0</td>\n      <td>-0.742106</td>\n      <td>0.647905</td>\n      <td>0.171747</td>\n      <td>22.507469</td>\n    </tr>\n    <tr>\n      <th>4</th>\n      <td>1</td>\n      <td>58272.0</td>\n      <td>-0.757805</td>\n      <td>0.630133</td>\n      <td>0.169305</td>\n      <td>22.895268</td>\n    </tr>\n    <tr>\n      <th>...</th>\n      <td>...</td>\n      <td>...</td>\n      <td>...</td>\n      <td>...</td>\n      <td>...</td>\n      <td>...</td>\n    </tr>\n    <tr>\n      <th>2597260</th>\n      <td>99</td>\n      <td>59296.0</td>\n      <td>0.699529</td>\n      <td>-0.689512</td>\n      <td>-0.187704</td>\n      <td>23.987647</td>\n    </tr>\n    <tr>\n      <th>2597261</th>\n      <td>99</td>\n      <td>59300.0</td>\n      <td>0.720561</td>\n      <td>-0.666549</td>\n      <td>-0.191059</td>\n      <td>23.757249</td>\n    </tr>\n    <tr>\n      <th>2597262</th>\n      <td>99</td>\n      <td>59304.0</td>\n      <td>0.740492</td>\n      <td>-0.643310</td>\n      <td>-0.194485</td>\n      <td>23.517752</td>\n    </tr>\n    <tr>\n      <th>2597263</th>\n      <td>99</td>\n      <td>59308.0</td>\n      <td>0.759320</td>\n      <td>-0.619866</td>\n      <td>-0.197986</td>\n      <td>23.269268</td>\n    </tr>\n    <tr>\n      <th>2597264</th>\n      <td>99</td>\n      <td>59312.0</td>\n      <td>0.777046</td>\n      <td>-0.596297</td>\n      <td>-0.201568</td>\n      <td>23.011909</td>\n    </tr>\n  </tbody>\n</table>\n<p>2597265 rows × 6 columns</p>\n</div>"
     },
     "metadata": {},
     "execution_count": 19
    }
   ],
   "source": [
    "ast"
   ]
  },
  {
   "cell_type": "code",
   "execution_count": 18,
   "metadata": {},
   "outputs": [
    {
     "output_type": "stream",
     "name": "stdout",
     "text": [
      "u_det.shape = (99, 3)\nu_ast.shape = (26235, 3)\n"
     ]
    }
   ],
   "source": [
    "# Extract vectors for directions\n",
    "u_det = det[cols_dir].values\n",
    "u_ast = ast[cols_dir].values\n"
   ]
  },
  {
   "cell_type": "code",
   "execution_count": 17,
   "metadata": {},
   "outputs": [
    {
     "output_type": "execute_result",
     "data": {
      "text/plain": [
       "(26235, 3)"
      ]
     },
     "metadata": {},
     "execution_count": 17
    }
   ],
   "source": [
    "# Review shapes\n",
    "print(f'u_det.shape = {u_det.shape}')\n",
    "print(f'u_ast.shape = {u_ast.shape}')"
   ]
  },
  {
   "cell_type": "code",
   "execution_count": null,
   "metadata": {},
   "outputs": [],
   "source": []
  }
 ],
 "metadata": {
  "kernelspec": {
   "display_name": "kepler",
   "language": "python",
   "name": "kepler"
  },
  "language_info": {
   "codemirror_mode": {
    "name": "ipython",
    "version": 3
   },
   "file_extension": ".py",
   "mimetype": "text/x-python",
   "name": "python",
   "nbconvert_exporter": "python",
   "pygments_lexer": "ipython3",
   "version": "3.8.5"
  }
 },
 "nbformat": 4,
 "nbformat_minor": 4
}