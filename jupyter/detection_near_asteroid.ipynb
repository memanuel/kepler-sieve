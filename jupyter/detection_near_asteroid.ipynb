{
 "cells": [
  {
   "cell_type": "code",
   "execution_count": 1,
   "metadata": {},
   "outputs": [],
   "source": [
    "# Core\n",
    "import numpy as np\n",
    "import pandas as pd\n",
    "\n",
    "# Astronomy\n",
    "import astropy\n",
    "from astropy.units import au, minute"
   ]
  },
  {
   "cell_type": "code",
   "execution_count": 2,
   "metadata": {},
   "outputs": [],
   "source": [
    "# Local imports\n",
    "import kepler_sieve\n",
    "from asteroid_spline import get_df_shape, spline_ast_data\n",
    "from asteroid_direction import calc_dir_ast2obs\n",
    "from astro_utils import deg2dist\n",
    "from db_utils import sp2df, df2db"
   ]
  },
  {
   "cell_type": "code",
   "execution_count": 3,
   "metadata": {},
   "outputs": [],
   "source": [
    "# Column groups - detections\n",
    "cols_u_obs = ['uObs_x', 'uObs_y', 'uObs_z']\n",
    "cols_q_obs = ['qObs_x', 'qObs_y', 'qObs_z']\n",
    "\n",
    "# Column groups - asteroid\n",
    "cols_u_ast = ['uAst_x', 'uAst_y', 'uAst_z']\n",
    "cols_spline_ast = cols_u_ast + ['LightTime']"
   ]
  },
  {
   "cell_type": "code",
   "execution_count": 4,
   "metadata": {},
   "outputs": [],
   "source": [
    "# Get detection times\n",
    "sp_name = 'KS.GetDetectionTimes'\n",
    "params = dict()\n",
    "dt = sp2df(sp_name=sp_name, params=params)"
   ]
  },
  {
   "cell_type": "code",
   "execution_count": 5,
   "metadata": {},
   "outputs": [
    {
     "output_type": "stream",
     "name": "stdout",
     "text": [
      "Date range for splines: 58254.0-59312.0\n"
     ]
    }
   ],
   "source": [
    "# Calculate range of times required for splines\n",
    "pad = 16.0\n",
    "mjd0 = np.floor(np.min(dt.mjd)) - pad\n",
    "mjd1 = np.ceil(np.max(dt.mjd)) + pad\n",
    "\n",
    "print(f'Date range for splines: {mjd0}-{mjd1}')"
   ]
  },
  {
   "cell_type": "code",
   "execution_count": 19,
   "metadata": {},
   "outputs": [],
   "source": [
    "# Get block of asteroid detections (directions only)\n",
    "sp_name = 'KS.GetDetectionDirections'\n",
    "params = {\n",
    "    'd0': 901,\n",
    "    'd1': 905,\n",
    "}\n",
    "det = sp2df(sp_name=sp_name, params=params)\n",
    "\n",
    "# Rename columns\n",
    "col_tbl_obs = {\n",
    "    'mjd': 't_obs',\n",
    "    'ux': 'uObs_x',\n",
    "    'uy': 'uObs_y',\n",
    "    'uz': 'uObs_z',\n",
    "}\n",
    "det.rename(columns=col_tbl_obs, inplace=True)\n",
    "\n",
    "# Set index to be DetectionID\n",
    "det.set_index(keys='DetectionID', drop=False, inplace=True)"
   ]
  },
  {
   "cell_type": "code",
   "execution_count": 20,
   "metadata": {},
   "outputs": [
    {
     "output_type": "execute_result",
     "data": {
      "text/plain": [
       "             DetectionID         t_obs    uObs_x    uObs_y    uObs_z  \\\n",
       "DetectionID                                                            \n",
       "901                  901  58270.168125 -0.914316 -0.028198  0.404018   \n",
       "902                  902  58270.168125 -0.911795 -0.021422  0.410086   \n",
       "903                  903  58270.169965 -0.941895 -0.058932  0.330698   \n",
       "904                  904  58270.169965 -0.941838 -0.058847  0.330874   \n",
       "\n",
       "               qObs_x    qObs_y    qObs_z  \n",
       "DetectionID                                \n",
       "901         -0.342260 -0.947314 -0.000032  \n",
       "902         -0.342260 -0.947314 -0.000032  \n",
       "903         -0.342231 -0.947325 -0.000032  \n",
       "904         -0.342231 -0.947325 -0.000032  "
      ],
      "text/html": "<div>\n<style scoped>\n    .dataframe tbody tr th:only-of-type {\n        vertical-align: middle;\n    }\n\n    .dataframe tbody tr th {\n        vertical-align: top;\n    }\n\n    .dataframe thead th {\n        text-align: right;\n    }\n</style>\n<table border=\"1\" class=\"dataframe\">\n  <thead>\n    <tr style=\"text-align: right;\">\n      <th></th>\n      <th>DetectionID</th>\n      <th>t_obs</th>\n      <th>uObs_x</th>\n      <th>uObs_y</th>\n      <th>uObs_z</th>\n      <th>qObs_x</th>\n      <th>qObs_y</th>\n      <th>qObs_z</th>\n    </tr>\n    <tr>\n      <th>DetectionID</th>\n      <th></th>\n      <th></th>\n      <th></th>\n      <th></th>\n      <th></th>\n      <th></th>\n      <th></th>\n      <th></th>\n    </tr>\n  </thead>\n  <tbody>\n    <tr>\n      <th>901</th>\n      <td>901</td>\n      <td>58270.168125</td>\n      <td>-0.914316</td>\n      <td>-0.028198</td>\n      <td>0.404018</td>\n      <td>-0.342260</td>\n      <td>-0.947314</td>\n      <td>-0.000032</td>\n    </tr>\n    <tr>\n      <th>902</th>\n      <td>902</td>\n      <td>58270.168125</td>\n      <td>-0.911795</td>\n      <td>-0.021422</td>\n      <td>0.410086</td>\n      <td>-0.342260</td>\n      <td>-0.947314</td>\n      <td>-0.000032</td>\n    </tr>\n    <tr>\n      <th>903</th>\n      <td>903</td>\n      <td>58270.169965</td>\n      <td>-0.941895</td>\n      <td>-0.058932</td>\n      <td>0.330698</td>\n      <td>-0.342231</td>\n      <td>-0.947325</td>\n      <td>-0.000032</td>\n    </tr>\n    <tr>\n      <th>904</th>\n      <td>904</td>\n      <td>58270.169965</td>\n      <td>-0.941838</td>\n      <td>-0.058847</td>\n      <td>0.330874</td>\n      <td>-0.342231</td>\n      <td>-0.947325</td>\n      <td>-0.000032</td>\n    </tr>\n  </tbody>\n</table>\n</div>"
     },
     "metadata": {},
     "execution_count": 20
    }
   ],
   "source": [
    "det"
   ]
  },
  {
   "cell_type": "code",
   "execution_count": 21,
   "metadata": {},
   "outputs": [],
   "source": [
    "# Extract array of detection times\n",
    "t_obs = det.t_obs.values"
   ]
  },
  {
   "cell_type": "code",
   "execution_count": 22,
   "metadata": {},
   "outputs": [],
   "source": [
    "# Get asteroid directions in this time range\n",
    "sp_name = 'KS.GetAsteroidDirections'\n",
    "params = {\n",
    "    'n0': 0,\n",
    "    'n1': 3,\n",
    "    'mjd0': mjd0,\n",
    "    'mjd1': mjd1\n",
    "}\n",
    "ast_in = sp2df(sp_name=sp_name, params=params)\n",
    "\n",
    "# Rename columns\n",
    "col_tbl_ast = {\n",
    "    'ux': 'uAst_x',\n",
    "    'uy': 'uAst_y',\n",
    "    'uz': 'uAst_z',\n",
    "}\n",
    "ast_in.rename(columns=col_tbl_ast, inplace=True)"
   ]
  },
  {
   "cell_type": "code",
   "execution_count": 23,
   "metadata": {},
   "outputs": [],
   "source": [
    "# Shape of asteroid directions used in spline\n",
    "N_ast, N_t_in = get_df_shape(df=ast_in, id_col='AsteroidID')"
   ]
  },
  {
   "cell_type": "code",
   "execution_count": 24,
   "metadata": {},
   "outputs": [
    {
     "output_type": "stream",
     "name": "stdout",
     "text": [
      "Shape of input data:\nN_ast = 2\nN_det = 4\n"
     ]
    }
   ],
   "source": [
    "# Data shape\n",
    "print('Shape of input data:')\n",
    "N_det = t_det.shape[0]\n",
    "print(f'N_ast = {N_ast}')\n",
    "print(f'N_det = {N_det}')\n",
    "# print(f'N_t_in = {N_t_in}')"
   ]
  },
  {
   "cell_type": "code",
   "execution_count": 25,
   "metadata": {},
   "outputs": [
    {
     "output_type": "execute_result",
     "data": {
      "text/plain": [
       "     AsteroidID    TimeID      mjd    uAst_x    uAst_y    uAst_z  LightTime\n",
       "0             1  83888640  58256.0 -0.695441  0.695787  0.179561  21.312345\n",
       "1             1  83894400  58260.0 -0.710843  0.680749  0.176872  21.715483\n",
       "2             1  83900160  58264.0 -0.726426  0.664782  0.174268  22.114047\n",
       "3             1  83905920  58268.0 -0.742106  0.647905  0.171747  22.507469\n",
       "4             1  83911680  58272.0 -0.757805  0.630133  0.169305  22.895268\n",
       "..          ...       ...      ...       ...       ...       ...        ...\n",
       "525           2  85386240  59296.0  0.876943 -0.416402  0.239959  34.756723\n",
       "526           2  85392000  59300.0  0.886408 -0.397316  0.237530  34.511296\n",
       "527           2  85397760  59304.0  0.895327 -0.378259  0.235178  34.245183\n",
       "528           2  85403520  59308.0  0.903706 -0.359268  0.232898  33.958757\n",
       "529           2  85409280  59312.0  0.911550 -0.340382  0.230687  33.652358\n",
       "\n",
       "[530 rows x 7 columns]"
      ],
      "text/html": "<div>\n<style scoped>\n    .dataframe tbody tr th:only-of-type {\n        vertical-align: middle;\n    }\n\n    .dataframe tbody tr th {\n        vertical-align: top;\n    }\n\n    .dataframe thead th {\n        text-align: right;\n    }\n</style>\n<table border=\"1\" class=\"dataframe\">\n  <thead>\n    <tr style=\"text-align: right;\">\n      <th></th>\n      <th>AsteroidID</th>\n      <th>TimeID</th>\n      <th>mjd</th>\n      <th>uAst_x</th>\n      <th>uAst_y</th>\n      <th>uAst_z</th>\n      <th>LightTime</th>\n    </tr>\n  </thead>\n  <tbody>\n    <tr>\n      <th>0</th>\n      <td>1</td>\n      <td>83888640</td>\n      <td>58256.0</td>\n      <td>-0.695441</td>\n      <td>0.695787</td>\n      <td>0.179561</td>\n      <td>21.312345</td>\n    </tr>\n    <tr>\n      <th>1</th>\n      <td>1</td>\n      <td>83894400</td>\n      <td>58260.0</td>\n      <td>-0.710843</td>\n      <td>0.680749</td>\n      <td>0.176872</td>\n      <td>21.715483</td>\n    </tr>\n    <tr>\n      <th>2</th>\n      <td>1</td>\n      <td>83900160</td>\n      <td>58264.0</td>\n      <td>-0.726426</td>\n      <td>0.664782</td>\n      <td>0.174268</td>\n      <td>22.114047</td>\n    </tr>\n    <tr>\n      <th>3</th>\n      <td>1</td>\n      <td>83905920</td>\n      <td>58268.0</td>\n      <td>-0.742106</td>\n      <td>0.647905</td>\n      <td>0.171747</td>\n      <td>22.507469</td>\n    </tr>\n    <tr>\n      <th>4</th>\n      <td>1</td>\n      <td>83911680</td>\n      <td>58272.0</td>\n      <td>-0.757805</td>\n      <td>0.630133</td>\n      <td>0.169305</td>\n      <td>22.895268</td>\n    </tr>\n    <tr>\n      <th>...</th>\n      <td>...</td>\n      <td>...</td>\n      <td>...</td>\n      <td>...</td>\n      <td>...</td>\n      <td>...</td>\n      <td>...</td>\n    </tr>\n    <tr>\n      <th>525</th>\n      <td>2</td>\n      <td>85386240</td>\n      <td>59296.0</td>\n      <td>0.876943</td>\n      <td>-0.416402</td>\n      <td>0.239959</td>\n      <td>34.756723</td>\n    </tr>\n    <tr>\n      <th>526</th>\n      <td>2</td>\n      <td>85392000</td>\n      <td>59300.0</td>\n      <td>0.886408</td>\n      <td>-0.397316</td>\n      <td>0.237530</td>\n      <td>34.511296</td>\n    </tr>\n    <tr>\n      <th>527</th>\n      <td>2</td>\n      <td>85397760</td>\n      <td>59304.0</td>\n      <td>0.895327</td>\n      <td>-0.378259</td>\n      <td>0.235178</td>\n      <td>34.245183</td>\n    </tr>\n    <tr>\n      <th>528</th>\n      <td>2</td>\n      <td>85403520</td>\n      <td>59308.0</td>\n      <td>0.903706</td>\n      <td>-0.359268</td>\n      <td>0.232898</td>\n      <td>33.958757</td>\n    </tr>\n    <tr>\n      <th>529</th>\n      <td>2</td>\n      <td>85409280</td>\n      <td>59312.0</td>\n      <td>0.911550</td>\n      <td>-0.340382</td>\n      <td>0.230687</td>\n      <td>33.652358</td>\n    </tr>\n  </tbody>\n</table>\n<p>530 rows × 7 columns</p>\n</div>"
     },
     "metadata": {},
     "execution_count": 25
    }
   ],
   "source": [
    "ast_in"
   ]
  },
  {
   "cell_type": "code",
   "execution_count": 58,
   "metadata": {},
   "outputs": [],
   "source": [
    "# Spline asteroid directions to match these times\n",
    "ast = spline_ast_data(df_ast=ast_in, ts=t_det, cols_spline=cols_spline_ast)\n",
    "\n",
    "# Add  column for the DetectionID\n",
    "ast['DetectionID'] = np.tile(det.DetectionID.values, N_ast)\n",
    "\n",
    "# Rename column from mjd to t_ast\n",
    "ast.rename(columns={'mjd':'t_ast'}, inplace=True)\n",
    "\n",
    "# Reorder columns\n",
    "cols_ast = ['AsteroidID', 'DetectionID', 't_ast'] + cols_spline_ast\n",
    "ast = ast.reindex(columns=cols_ast)"
   ]
  },
  {
   "cell_type": "code",
   "execution_count": 59,
   "metadata": {},
   "outputs": [
    {
     "output_type": "execute_result",
     "data": {
      "text/plain": [
       "   AsteroidID  DetectionID         t_ast    uAst_x    uAst_y    uAst_z  \\\n",
       "0           1          901  58270.168125 -0.750618  0.638382  0.170414   \n",
       "1           1          902  58270.168125 -0.750618  0.638382  0.170414   \n",
       "2           1          903  58270.169965 -0.750625  0.638374  0.170413   \n",
       "3           1          904  58270.169965 -0.750625  0.638374  0.170413   \n",
       "4           2          901  58270.168125 -0.096585  0.916142 -0.389044   \n",
       "5           2          902  58270.168125 -0.096585  0.916142 -0.389044   \n",
       "6           2          903  58270.169965 -0.096603  0.916141 -0.389041   \n",
       "7           2          904  58270.169965 -0.096603  0.916141 -0.389041   \n",
       "\n",
       "   LightTime  \n",
       "0  22.718397  \n",
       "1  22.718397  \n",
       "2  22.718575  \n",
       "3  22.718575  \n",
       "4  24.277859  \n",
       "5  24.277859  \n",
       "6  24.277919  \n",
       "7  24.277919  "
      ],
      "text/html": "<div>\n<style scoped>\n    .dataframe tbody tr th:only-of-type {\n        vertical-align: middle;\n    }\n\n    .dataframe tbody tr th {\n        vertical-align: top;\n    }\n\n    .dataframe thead th {\n        text-align: right;\n    }\n</style>\n<table border=\"1\" class=\"dataframe\">\n  <thead>\n    <tr style=\"text-align: right;\">\n      <th></th>\n      <th>AsteroidID</th>\n      <th>DetectionID</th>\n      <th>t_ast</th>\n      <th>uAst_x</th>\n      <th>uAst_y</th>\n      <th>uAst_z</th>\n      <th>LightTime</th>\n    </tr>\n  </thead>\n  <tbody>\n    <tr>\n      <th>0</th>\n      <td>1</td>\n      <td>901</td>\n      <td>58270.168125</td>\n      <td>-0.750618</td>\n      <td>0.638382</td>\n      <td>0.170414</td>\n      <td>22.718397</td>\n    </tr>\n    <tr>\n      <th>1</th>\n      <td>1</td>\n      <td>902</td>\n      <td>58270.168125</td>\n      <td>-0.750618</td>\n      <td>0.638382</td>\n      <td>0.170414</td>\n      <td>22.718397</td>\n    </tr>\n    <tr>\n      <th>2</th>\n      <td>1</td>\n      <td>903</td>\n      <td>58270.169965</td>\n      <td>-0.750625</td>\n      <td>0.638374</td>\n      <td>0.170413</td>\n      <td>22.718575</td>\n    </tr>\n    <tr>\n      <th>3</th>\n      <td>1</td>\n      <td>904</td>\n      <td>58270.169965</td>\n      <td>-0.750625</td>\n      <td>0.638374</td>\n      <td>0.170413</td>\n      <td>22.718575</td>\n    </tr>\n    <tr>\n      <th>4</th>\n      <td>2</td>\n      <td>901</td>\n      <td>58270.168125</td>\n      <td>-0.096585</td>\n      <td>0.916142</td>\n      <td>-0.389044</td>\n      <td>24.277859</td>\n    </tr>\n    <tr>\n      <th>5</th>\n      <td>2</td>\n      <td>902</td>\n      <td>58270.168125</td>\n      <td>-0.096585</td>\n      <td>0.916142</td>\n      <td>-0.389044</td>\n      <td>24.277859</td>\n    </tr>\n    <tr>\n      <th>6</th>\n      <td>2</td>\n      <td>903</td>\n      <td>58270.169965</td>\n      <td>-0.096603</td>\n      <td>0.916141</td>\n      <td>-0.389041</td>\n      <td>24.277919</td>\n    </tr>\n    <tr>\n      <th>7</th>\n      <td>2</td>\n      <td>904</td>\n      <td>58270.169965</td>\n      <td>-0.096603</td>\n      <td>0.916141</td>\n      <td>-0.389041</td>\n      <td>24.277919</td>\n    </tr>\n  </tbody>\n</table>\n</div>"
     },
     "metadata": {},
     "execution_count": 59
    }
   ],
   "source": [
    "ast"
   ]
  },
  {
   "cell_type": "code",
   "execution_count": 26,
   "metadata": {},
   "outputs": [],
   "source": [
    "# Extract detection_id and asteroid_id\n",
    "detection_id = ast.DetectionID.values\n",
    "asteroid_id = ast.AsteroidID.values"
   ]
  },
  {
   "cell_type": "code",
   "execution_count": 29,
   "metadata": {},
   "outputs": [
    {
     "output_type": "execute_result",
     "data": {
      "text/plain": [
       "array([1, 1, 1, 1, 2, 2, 2, 2])"
      ]
     },
     "metadata": {},
     "execution_count": 29
    }
   ],
   "source": [
    "asteroid_id"
   ]
  },
  {
   "cell_type": "code",
   "execution_count": 28,
   "metadata": {},
   "outputs": [
    {
     "output_type": "execute_result",
     "data": {
      "text/plain": [
       "array([901, 902, 903, 904, 901, 902, 903, 904])"
      ]
     },
     "metadata": {},
     "execution_count": 28
    }
   ],
   "source": [
    "detection_id"
   ]
  },
  {
   "cell_type": "code",
   "execution_count": 34,
   "metadata": {},
   "outputs": [],
   "source": [
    "# Direction of detections\n",
    "u_obs = det[cols_u_obs].values.reshape((1, N_det, 3))\n",
    "\n",
    "# Observer position for detections\n",
    "q_obs = det[cols_q_obs].values.reshape((1, N_det, 3))\n",
    "\n",
    "# Direction of asteroids to detection times\n",
    "u_ast = ast[cols_u_ast].values.reshape((N_ast, N_det, 3))"
   ]
  },
  {
   "cell_type": "code",
   "execution_count": 35,
   "metadata": {},
   "outputs": [
    {
     "output_type": "stream",
     "name": "stdout",
     "text": [
      "u_obs.shape = (1, 4, 3)\nq_obs.shape = (1, 4, 3)\nu_ast.shape = (2, 4, 3)\n"
     ]
    }
   ],
   "source": [
    "# Review shapes\n",
    "print(f'u_obs.shape = {u_obs.shape}')\n",
    "print(f'q_obs.shape = {q_obs.shape}')\n",
    "print(f'u_ast.shape = {u_ast.shape}')"
   ]
  },
  {
   "cell_type": "code",
   "execution_count": 36,
   "metadata": {},
   "outputs": [
    {
     "output_type": "execute_result",
     "data": {
      "text/plain": [
       "array([[[-0.91431619, -0.02819766,  0.40401831],\n",
       "        [-0.91179519, -0.02142212,  0.41008613],\n",
       "        [-0.94189491, -0.05893232,  0.33069768],\n",
       "        [-0.94183819, -0.05884734,  0.33087431]]])"
      ]
     },
     "metadata": {},
     "execution_count": 36
    }
   ],
   "source": [
    "u_obs"
   ]
  },
  {
   "cell_type": "code",
   "execution_count": 37,
   "metadata": {},
   "outputs": [
    {
     "output_type": "execute_result",
     "data": {
      "text/plain": [
       "array([[[-0.75061787,  0.63838231,  0.17041367],\n",
       "        [-0.75061787,  0.63838231,  0.17041367],\n",
       "        [-0.75062509,  0.63837412,  0.17041255],\n",
       "        [-0.75062509,  0.63837412,  0.17041255]],\n",
       "\n",
       "       [[-0.09658516,  0.91614203, -0.38904377],\n",
       "        [-0.09658516,  0.91614203, -0.38904377],\n",
       "        [-0.09660262,  0.91614146, -0.38904078],\n",
       "        [-0.09660262,  0.91614146, -0.38904078]]])"
      ]
     },
     "metadata": {},
     "execution_count": 37
    }
   ],
   "source": [
    "u_ast"
   ]
  },
  {
   "cell_type": "code",
   "execution_count": 39,
   "metadata": {},
   "outputs": [],
   "source": [
    "# The squared cartesian distance\n",
    "s2 = np.sum(np.square(u_ast - u_obs), axis=2)"
   ]
  },
  {
   "cell_type": "code",
   "execution_count": 40,
   "metadata": {},
   "outputs": [
    {
     "output_type": "stream",
     "name": "stdout",
     "text": [
      "s2.shape = (2, 4)\n"
     ]
    }
   ],
   "source": [
    "# Review shape\n",
    "print(f's2.shape = {s2.shape}')"
   ]
  },
  {
   "cell_type": "code",
   "execution_count": 41,
   "metadata": {},
   "outputs": [
    {
     "output_type": "stream",
     "name": "stdout",
     "text": [
      "Threshold distance:\narcmin_max:     3600\ns_max:      1.00e+00\n"
     ]
    }
   ],
   "source": [
    "# Threshold: 2 arc minutes\n",
    "# arcmin_max: float = 2.0\n",
    "arcmin_max: float = 60*60\n",
    "s_max: float = deg2dist(arcmin_max / 60.0)\n",
    "s2_max = np.square(s_max)\n",
    "\n",
    "print('Threshold distance:')\n",
    "print(f'arcmin_max: {arcmin_max:8}')\n",
    "print(f's_max:      {s_max:5.2e}')"
   ]
  },
  {
   "cell_type": "code",
   "execution_count": 60,
   "metadata": {},
   "outputs": [],
   "source": [
    "# Build the mask\n",
    "mask_2d = (s2 < s2_max)\n",
    "mask = mask_2d.flatten()"
   ]
  },
  {
   "cell_type": "code",
   "execution_count": 61,
   "metadata": {},
   "outputs": [],
   "source": [
    "# Arrays of near interactions only\n",
    "detection_id_near = detection_id[mask]\n",
    "asteroid_id_near = asteroid_id[mask]\n",
    "s_near = np.sqrt(s2[mask_2d])"
   ]
  },
  {
   "cell_type": "code",
   "execution_count": 54,
   "metadata": {},
   "outputs": [],
   "source": [
    "# Look up detection data at near interactions only\n",
    "t_obs_near = det.loc[detection_id_near, 't_obs'].values\n",
    "u_obs_near = det.loc[detection_id_near, cols_u_obs].values\n",
    "q_obs_near = det.loc[detection_id_near, cols_q_obs].values"
   ]
  },
  {
   "cell_type": "code",
   "execution_count": 56,
   "metadata": {},
   "outputs": [],
   "source": [
    "# Copy splined asteroids near detections\n",
    "dna = ast[mask].copy()\n",
    "\n",
    "# Add columns for detections near asteroids\n",
    "dna['t_obs'] = t_obs_near\n",
    "dna['u_obs'] = u_obs_near\n",
    "dna['q_obs'] = q_obs_near\n",
    "\n",
    "# Reorder columns\n",
    "cols_dna = ['AsteroidID', 'DetectionID', 't_obs'] + cols_u_obs + cols_q_obs + cols_u_ast\n",
    "# dna = dna.reindex(columns=cols_dna)"
   ]
  },
  {
   "cell_type": "code",
   "execution_count": 57,
   "metadata": {},
   "outputs": [
    {
     "output_type": "execute_result",
     "data": {
      "text/plain": [
       "   AsteroidID  DetectionID         t_ast    uAst_x    uAst_y    uAst_z  \\\n",
       "0           1          901  58270.168125 -0.750618  0.638382  0.170414   \n",
       "1           1          902  58270.168125 -0.750618  0.638382  0.170414   \n",
       "2           1          903  58270.169965 -0.750625  0.638374  0.170413   \n",
       "3           1          904  58270.169965 -0.750625  0.638374  0.170413   \n",
       "\n",
       "          t_obs  \n",
       "0  58270.168125  \n",
       "1  58270.168125  \n",
       "2  58270.169965  \n",
       "3  58270.169965  "
      ],
      "text/html": "<div>\n<style scoped>\n    .dataframe tbody tr th:only-of-type {\n        vertical-align: middle;\n    }\n\n    .dataframe tbody tr th {\n        vertical-align: top;\n    }\n\n    .dataframe thead th {\n        text-align: right;\n    }\n</style>\n<table border=\"1\" class=\"dataframe\">\n  <thead>\n    <tr style=\"text-align: right;\">\n      <th></th>\n      <th>AsteroidID</th>\n      <th>DetectionID</th>\n      <th>t_ast</th>\n      <th>uAst_x</th>\n      <th>uAst_y</th>\n      <th>uAst_z</th>\n      <th>t_obs</th>\n    </tr>\n  </thead>\n  <tbody>\n    <tr>\n      <th>0</th>\n      <td>1</td>\n      <td>901</td>\n      <td>58270.168125</td>\n      <td>-0.750618</td>\n      <td>0.638382</td>\n      <td>0.170414</td>\n      <td>58270.168125</td>\n    </tr>\n    <tr>\n      <th>1</th>\n      <td>1</td>\n      <td>902</td>\n      <td>58270.168125</td>\n      <td>-0.750618</td>\n      <td>0.638382</td>\n      <td>0.170414</td>\n      <td>58270.168125</td>\n    </tr>\n    <tr>\n      <th>2</th>\n      <td>1</td>\n      <td>903</td>\n      <td>58270.169965</td>\n      <td>-0.750625</td>\n      <td>0.638374</td>\n      <td>0.170413</td>\n      <td>58270.169965</td>\n    </tr>\n    <tr>\n      <th>3</th>\n      <td>1</td>\n      <td>904</td>\n      <td>58270.169965</td>\n      <td>-0.750625</td>\n      <td>0.638374</td>\n      <td>0.170413</td>\n      <td>58270.169965</td>\n    </tr>\n  </tbody>\n</table>\n</div>"
     },
     "metadata": {},
     "execution_count": 57
    }
   ],
   "source": [
    "dna"
   ]
  },
  {
   "cell_type": "code",
   "execution_count": null,
   "metadata": {},
   "outputs": [],
   "source": []
  }
 ],
 "metadata": {
  "kernelspec": {
   "display_name": "kepler",
   "language": "python",
   "name": "kepler"
  },
  "language_info": {
   "codemirror_mode": {
    "name": "ipython",
    "version": 3
   },
   "file_extension": ".py",
   "mimetype": "text/x-python",
   "name": "python",
   "nbconvert_exporter": "python",
   "pygments_lexer": "ipython3",
   "version": "3.8.5"
  }
 },
 "nbformat": 4,
 "nbformat_minor": 4
}