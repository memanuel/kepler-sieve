{
 "cells": [
  {
   "cell_type": "code",
   "execution_count": 1,
   "metadata": {},
   "outputs": [],
   "source": [
    "# Core\n",
    "import numpy as np\n",
    "import pandas as pd\n",
    "from scipy.interpolate import CubicSpline\n",
    "\n",
    "# Astronomy\n",
    "import astropy\n",
    "from astropy.units import au, minute"
   ]
  },
  {
   "cell_type": "code",
   "execution_count": 2,
   "metadata": {},
   "outputs": [],
   "source": [
    "# Local imports\n",
    "import kepler_sieve\n",
    "from asteroid_data import load_ast_elements, load_ast_vectors\n",
    "from asteroid_spline import get_df_shape, spline_ast_data, make_spline_df\n",
    "from asteroid_direction import calc_dir_ast2obs\n",
    "from astro_utils import deg2dist, dist2sec\n",
    "from orbital_element import elt2pos\n",
    "from planets_interp import get_sun_pos\n",
    "from db_utils import sp2df, df2db"
   ]
  },
  {
   "cell_type": "code",
   "execution_count": 27,
   "metadata": {},
   "outputs": [],
   "source": [
    "from detection_near_ast import get_data_detections, get_data_ast_dir, asteroid_batch_prelim, asteroid_batch_vec, asteroid_batch_elt, light_time_adj, make_ast_num_df\n",
    "from detection_near_ast import cols_u_obs, cols_q_obs, cols_u_ast, cols_v_ast, cols_q_ast, mjd0, mjd1, c"
   ]
  },
  {
   "cell_type": "code",
   "execution_count": 28,
   "metadata": {},
   "outputs": [],
   "source": [
    "# Inputs\n",
    "d0 = 1\n",
    "d1 = 1000\n",
    "n0 = 1\n",
    "n1 = 10\n",
    "deg_max = 180\n",
    "arcmin_max = deg_max * 60"
   ]
  },
  {
   "cell_type": "code",
   "execution_count": 29,
   "metadata": {},
   "outputs": [],
   "source": [
    "# Inputs\n",
    "d0 = 37501\n",
    "d1 = 38501\n",
    "n0 = 1\n",
    "n1 = 3\n",
    "deg_max = 180\n",
    "arcmin_max = deg_max * 60"
   ]
  },
  {
   "cell_type": "code",
   "execution_count": 30,
   "metadata": {},
   "outputs": [
    {
     "output_type": "execute_result",
     "data": {
      "text/plain": [
       "             DetectionID          tObs    uObs_x    uObs_y    uObs_z  \\\n",
       "DetectionID                                                            \n",
       "37501              37501  58272.165440 -0.937908  0.346871  0.003123   \n",
       "37502              37502  58272.165440 -0.937899  0.346895  0.003122   \n",
       "37503              37503  58272.165440 -0.937874  0.346961  0.003327   \n",
       "37504              37504  58272.165440 -0.937833  0.347070  0.003455   \n",
       "37505              37505  58272.165440 -0.937852  0.347015  0.003787   \n",
       "...                  ...           ...       ...       ...       ...   \n",
       "38496              38496  58272.166377 -0.887159  0.266294  0.376876   \n",
       "38497              38497  58272.166377 -0.887357  0.265446  0.377008   \n",
       "38498              38498  58272.166377 -0.886836  0.270057  0.374955   \n",
       "38499              38499  58272.166377 -0.887301  0.267326  0.375810   \n",
       "38500              38500  58272.166377 -0.888238  0.263235  0.376485   \n",
       "\n",
       "               qObs_x    qObs_y   qObs_z  \n",
       "DetectionID                               \n",
       "37501       -0.310321 -0.958524 -0.00003  \n",
       "37502       -0.310321 -0.958524 -0.00003  \n",
       "37503       -0.310321 -0.958524 -0.00003  \n",
       "37504       -0.310321 -0.958524 -0.00003  \n",
       "37505       -0.310321 -0.958524 -0.00003  \n",
       "...               ...       ...      ...  \n",
       "38496       -0.310306 -0.958529 -0.00003  \n",
       "38497       -0.310306 -0.958529 -0.00003  \n",
       "38498       -0.310306 -0.958529 -0.00003  \n",
       "38499       -0.310306 -0.958529 -0.00003  \n",
       "38500       -0.310306 -0.958529 -0.00003  \n",
       "\n",
       "[1000 rows x 8 columns]"
      ],
      "text/html": "<div>\n<style scoped>\n    .dataframe tbody tr th:only-of-type {\n        vertical-align: middle;\n    }\n\n    .dataframe tbody tr th {\n        vertical-align: top;\n    }\n\n    .dataframe thead th {\n        text-align: right;\n    }\n</style>\n<table border=\"1\" class=\"dataframe\">\n  <thead>\n    <tr style=\"text-align: right;\">\n      <th></th>\n      <th>DetectionID</th>\n      <th>tObs</th>\n      <th>uObs_x</th>\n      <th>uObs_y</th>\n      <th>uObs_z</th>\n      <th>qObs_x</th>\n      <th>qObs_y</th>\n      <th>qObs_z</th>\n    </tr>\n    <tr>\n      <th>DetectionID</th>\n      <th></th>\n      <th></th>\n      <th></th>\n      <th></th>\n      <th></th>\n      <th></th>\n      <th></th>\n      <th></th>\n    </tr>\n  </thead>\n  <tbody>\n    <tr>\n      <th>37501</th>\n      <td>37501</td>\n      <td>58272.165440</td>\n      <td>-0.937908</td>\n      <td>0.346871</td>\n      <td>0.003123</td>\n      <td>-0.310321</td>\n      <td>-0.958524</td>\n      <td>-0.00003</td>\n    </tr>\n    <tr>\n      <th>37502</th>\n      <td>37502</td>\n      <td>58272.165440</td>\n      <td>-0.937899</td>\n      <td>0.346895</td>\n      <td>0.003122</td>\n      <td>-0.310321</td>\n      <td>-0.958524</td>\n      <td>-0.00003</td>\n    </tr>\n    <tr>\n      <th>37503</th>\n      <td>37503</td>\n      <td>58272.165440</td>\n      <td>-0.937874</td>\n      <td>0.346961</td>\n      <td>0.003327</td>\n      <td>-0.310321</td>\n      <td>-0.958524</td>\n      <td>-0.00003</td>\n    </tr>\n    <tr>\n      <th>37504</th>\n      <td>37504</td>\n      <td>58272.165440</td>\n      <td>-0.937833</td>\n      <td>0.347070</td>\n      <td>0.003455</td>\n      <td>-0.310321</td>\n      <td>-0.958524</td>\n      <td>-0.00003</td>\n    </tr>\n    <tr>\n      <th>37505</th>\n      <td>37505</td>\n      <td>58272.165440</td>\n      <td>-0.937852</td>\n      <td>0.347015</td>\n      <td>0.003787</td>\n      <td>-0.310321</td>\n      <td>-0.958524</td>\n      <td>-0.00003</td>\n    </tr>\n    <tr>\n      <th>...</th>\n      <td>...</td>\n      <td>...</td>\n      <td>...</td>\n      <td>...</td>\n      <td>...</td>\n      <td>...</td>\n      <td>...</td>\n      <td>...</td>\n    </tr>\n    <tr>\n      <th>38496</th>\n      <td>38496</td>\n      <td>58272.166377</td>\n      <td>-0.887159</td>\n      <td>0.266294</td>\n      <td>0.376876</td>\n      <td>-0.310306</td>\n      <td>-0.958529</td>\n      <td>-0.00003</td>\n    </tr>\n    <tr>\n      <th>38497</th>\n      <td>38497</td>\n      <td>58272.166377</td>\n      <td>-0.887357</td>\n      <td>0.265446</td>\n      <td>0.377008</td>\n      <td>-0.310306</td>\n      <td>-0.958529</td>\n      <td>-0.00003</td>\n    </tr>\n    <tr>\n      <th>38498</th>\n      <td>38498</td>\n      <td>58272.166377</td>\n      <td>-0.886836</td>\n      <td>0.270057</td>\n      <td>0.374955</td>\n      <td>-0.310306</td>\n      <td>-0.958529</td>\n      <td>-0.00003</td>\n    </tr>\n    <tr>\n      <th>38499</th>\n      <td>38499</td>\n      <td>58272.166377</td>\n      <td>-0.887301</td>\n      <td>0.267326</td>\n      <td>0.375810</td>\n      <td>-0.310306</td>\n      <td>-0.958529</td>\n      <td>-0.00003</td>\n    </tr>\n    <tr>\n      <th>38500</th>\n      <td>38500</td>\n      <td>58272.166377</td>\n      <td>-0.888238</td>\n      <td>0.263235</td>\n      <td>0.376485</td>\n      <td>-0.310306</td>\n      <td>-0.958529</td>\n      <td>-0.00003</td>\n    </tr>\n  </tbody>\n</table>\n<p>1000 rows × 8 columns</p>\n</div>"
     },
     "metadata": {},
     "execution_count": 30
    }
   ],
   "source": [
    "# Get detections\n",
    "det = get_data_detections(d0=d0, d1=d1)\n",
    "det"
   ]
  },
  {
   "cell_type": "code",
   "execution_count": 14,
   "metadata": {},
   "outputs": [],
   "source": [
    "# First pass at detections near asteroids\n",
    "dna_pre = asteroid_batch_prelim(det=det, n0=n0, n1=n1, arcmin_max=arcmin_max)"
   ]
  },
  {
   "cell_type": "code",
   "execution_count": 15,
   "metadata": {},
   "outputs": [
    {
     "output_type": "execute_result",
     "data": {
      "text/plain": [
       "   DetectionID  AsteroidID          tObs    uObs_x    uObs_y    uObs_z  \\\n",
       "0            1           1  58270.167662 -0.940203 -0.205183  0.271880   \n",
       "1            2           2  58270.167662 -0.940593 -0.207164  0.269011   \n",
       "2            3           1  58270.167662 -0.942678 -0.201138  0.266274   \n",
       "3            4           2  58270.167662 -0.944177 -0.198029  0.263275   \n",
       "4            1           1  58270.167662 -0.940203 -0.205183  0.271880   \n",
       "5            2           2  58270.167662 -0.940593 -0.207164  0.269011   \n",
       "6            3           1  58270.167662 -0.942678 -0.201138  0.266274   \n",
       "7            4           2  58270.167662 -0.944177 -0.198029  0.263275   \n",
       "\n",
       "     qObs_x    qObs_y    qObs_z          tAst    uAst_x    uAst_y    uAst_z  \\\n",
       "0 -0.342267 -0.947311 -0.000032  58270.151886 -0.750592  0.638408  0.170429   \n",
       "1 -0.342267 -0.947311 -0.000032  58270.150803 -0.096493  0.916145 -0.389060   \n",
       "2 -0.342267 -0.947311 -0.000032  58270.151886 -0.750592  0.638408  0.170429   \n",
       "3 -0.342267 -0.947311 -0.000032  58270.150803 -0.096493  0.916145 -0.389060   \n",
       "4 -0.342267 -0.947311 -0.000032  58270.151886 -0.750592  0.638408  0.170429   \n",
       "5 -0.342267 -0.947311 -0.000032  58270.150803 -0.096493  0.916145 -0.389060   \n",
       "6 -0.342267 -0.947311 -0.000032  58270.151886 -0.750592  0.638408  0.170429   \n",
       "7 -0.342267 -0.947311 -0.000032  58270.150803 -0.096493  0.916145 -0.389060   \n",
       "\n",
       "          s  LightTime  \n",
       "0  0.870569  22.716823  \n",
       "1  1.551576  24.277300  \n",
       "2  0.866557  22.716823  \n",
       "3  1.544504  24.277300  \n",
       "4  0.870569  22.716823  \n",
       "5  1.551576  24.277300  \n",
       "6  0.866557  22.716823  \n",
       "7  1.544504  24.277300  "
      ],
      "text/html": "<div>\n<style scoped>\n    .dataframe tbody tr th:only-of-type {\n        vertical-align: middle;\n    }\n\n    .dataframe tbody tr th {\n        vertical-align: top;\n    }\n\n    .dataframe thead th {\n        text-align: right;\n    }\n</style>\n<table border=\"1\" class=\"dataframe\">\n  <thead>\n    <tr style=\"text-align: right;\">\n      <th></th>\n      <th>DetectionID</th>\n      <th>AsteroidID</th>\n      <th>tObs</th>\n      <th>uObs_x</th>\n      <th>uObs_y</th>\n      <th>uObs_z</th>\n      <th>qObs_x</th>\n      <th>qObs_y</th>\n      <th>qObs_z</th>\n      <th>tAst</th>\n      <th>uAst_x</th>\n      <th>uAst_y</th>\n      <th>uAst_z</th>\n      <th>s</th>\n      <th>LightTime</th>\n    </tr>\n  </thead>\n  <tbody>\n    <tr>\n      <th>0</th>\n      <td>1</td>\n      <td>1</td>\n      <td>58270.167662</td>\n      <td>-0.940203</td>\n      <td>-0.205183</td>\n      <td>0.271880</td>\n      <td>-0.342267</td>\n      <td>-0.947311</td>\n      <td>-0.000032</td>\n      <td>58270.151886</td>\n      <td>-0.750592</td>\n      <td>0.638408</td>\n      <td>0.170429</td>\n      <td>0.870569</td>\n      <td>22.716823</td>\n    </tr>\n    <tr>\n      <th>1</th>\n      <td>2</td>\n      <td>2</td>\n      <td>58270.167662</td>\n      <td>-0.940593</td>\n      <td>-0.207164</td>\n      <td>0.269011</td>\n      <td>-0.342267</td>\n      <td>-0.947311</td>\n      <td>-0.000032</td>\n      <td>58270.150803</td>\n      <td>-0.096493</td>\n      <td>0.916145</td>\n      <td>-0.389060</td>\n      <td>1.551576</td>\n      <td>24.277300</td>\n    </tr>\n    <tr>\n      <th>2</th>\n      <td>3</td>\n      <td>1</td>\n      <td>58270.167662</td>\n      <td>-0.942678</td>\n      <td>-0.201138</td>\n      <td>0.266274</td>\n      <td>-0.342267</td>\n      <td>-0.947311</td>\n      <td>-0.000032</td>\n      <td>58270.151886</td>\n      <td>-0.750592</td>\n      <td>0.638408</td>\n      <td>0.170429</td>\n      <td>0.866557</td>\n      <td>22.716823</td>\n    </tr>\n    <tr>\n      <th>3</th>\n      <td>4</td>\n      <td>2</td>\n      <td>58270.167662</td>\n      <td>-0.944177</td>\n      <td>-0.198029</td>\n      <td>0.263275</td>\n      <td>-0.342267</td>\n      <td>-0.947311</td>\n      <td>-0.000032</td>\n      <td>58270.150803</td>\n      <td>-0.096493</td>\n      <td>0.916145</td>\n      <td>-0.389060</td>\n      <td>1.544504</td>\n      <td>24.277300</td>\n    </tr>\n    <tr>\n      <th>4</th>\n      <td>1</td>\n      <td>1</td>\n      <td>58270.167662</td>\n      <td>-0.940203</td>\n      <td>-0.205183</td>\n      <td>0.271880</td>\n      <td>-0.342267</td>\n      <td>-0.947311</td>\n      <td>-0.000032</td>\n      <td>58270.151886</td>\n      <td>-0.750592</td>\n      <td>0.638408</td>\n      <td>0.170429</td>\n      <td>0.870569</td>\n      <td>22.716823</td>\n    </tr>\n    <tr>\n      <th>5</th>\n      <td>2</td>\n      <td>2</td>\n      <td>58270.167662</td>\n      <td>-0.940593</td>\n      <td>-0.207164</td>\n      <td>0.269011</td>\n      <td>-0.342267</td>\n      <td>-0.947311</td>\n      <td>-0.000032</td>\n      <td>58270.150803</td>\n      <td>-0.096493</td>\n      <td>0.916145</td>\n      <td>-0.389060</td>\n      <td>1.551576</td>\n      <td>24.277300</td>\n    </tr>\n    <tr>\n      <th>6</th>\n      <td>3</td>\n      <td>1</td>\n      <td>58270.167662</td>\n      <td>-0.942678</td>\n      <td>-0.201138</td>\n      <td>0.266274</td>\n      <td>-0.342267</td>\n      <td>-0.947311</td>\n      <td>-0.000032</td>\n      <td>58270.151886</td>\n      <td>-0.750592</td>\n      <td>0.638408</td>\n      <td>0.170429</td>\n      <td>0.866557</td>\n      <td>22.716823</td>\n    </tr>\n    <tr>\n      <th>7</th>\n      <td>4</td>\n      <td>2</td>\n      <td>58270.167662</td>\n      <td>-0.944177</td>\n      <td>-0.198029</td>\n      <td>0.263275</td>\n      <td>-0.342267</td>\n      <td>-0.947311</td>\n      <td>-0.000032</td>\n      <td>58270.150803</td>\n      <td>-0.096493</td>\n      <td>0.916145</td>\n      <td>-0.389060</td>\n      <td>1.544504</td>\n      <td>24.277300</td>\n    </tr>\n  </tbody>\n</table>\n</div>"
     },
     "metadata": {},
     "execution_count": 15
    }
   ],
   "source": [
    "dna_pre"
   ]
  },
  {
   "cell_type": "code",
   "execution_count": 16,
   "metadata": {},
   "outputs": [],
   "source": [
    "# Sharpen estimate using splined asteroid vectors\n",
    "dna_vec = dna_pre.copy()\n",
    "asteroid_batch_vec(dna=dna_vec, n0=n0, n1=n1, arcmin_max=arcmin_max)"
   ]
  },
  {
   "cell_type": "code",
   "execution_count": 17,
   "metadata": {},
   "outputs": [
    {
     "output_type": "execute_result",
     "data": {
      "text/plain": [
       "   DetectionID  AsteroidID          tObs    uObs_x    uObs_y    uObs_z  \\\n",
       "0            1           1  58270.167662 -0.940203 -0.205183  0.271880   \n",
       "1            2           2  58270.167662 -0.940593 -0.207164  0.269011   \n",
       "2            3           1  58270.167662 -0.942678 -0.201138  0.266274   \n",
       "3            4           2  58270.167662 -0.944177 -0.198029  0.263275   \n",
       "4            1           1  58270.167662 -0.940203 -0.205183  0.271880   \n",
       "5            2           2  58270.167662 -0.940593 -0.207164  0.269011   \n",
       "6            3           1  58270.167662 -0.942678 -0.201138  0.266274   \n",
       "7            4           2  58270.167662 -0.944177 -0.198029  0.263275   \n",
       "\n",
       "     qObs_x    qObs_y    qObs_z          tAst    uAst_x    uAst_y    uAst_z  \\\n",
       "0 -0.342267 -0.947311 -0.000032  58270.151902 -0.750296  0.638716  0.170581   \n",
       "1 -0.342267 -0.947311 -0.000032  58270.150809 -0.095533  0.916172 -0.389234   \n",
       "2 -0.342267 -0.947311 -0.000032  58270.151902 -0.750296  0.638716  0.170581   \n",
       "3 -0.342267 -0.947311 -0.000032  58270.150809 -0.095533  0.916172 -0.389234   \n",
       "4 -0.342267 -0.947311 -0.000032  58270.151902 -0.750296  0.638716  0.170581   \n",
       "5 -0.342267 -0.947311 -0.000032  58270.150809 -0.095533  0.916172 -0.389234   \n",
       "6 -0.342267 -0.947311 -0.000032  58270.151902 -0.750296  0.638716  0.170581   \n",
       "7 -0.342267 -0.947311 -0.000032  58270.150809 -0.095533  0.916172 -0.389234   \n",
       "\n",
       "          s  LightTime    qAst_x    qAst_y    qAst_z  \n",
       "0  0.870914  22.694705 -2.389672  0.795615  0.465448  \n",
       "1  1.552191  24.267722 -0.621027  1.726018 -1.135791  \n",
       "2  0.866904  22.694705 -2.389672  0.795615  0.465448  \n",
       "3  1.545124  24.267722 -0.621027  1.726018 -1.135791  \n",
       "4  0.870914  22.694705 -2.389672  0.795615  0.465448  \n",
       "5  1.552191  24.267722 -0.621027  1.726018 -1.135791  \n",
       "6  0.866904  22.694705 -2.389672  0.795615  0.465448  \n",
       "7  1.545124  24.267722 -0.621027  1.726018 -1.135791  "
      ],
      "text/html": "<div>\n<style scoped>\n    .dataframe tbody tr th:only-of-type {\n        vertical-align: middle;\n    }\n\n    .dataframe tbody tr th {\n        vertical-align: top;\n    }\n\n    .dataframe thead th {\n        text-align: right;\n    }\n</style>\n<table border=\"1\" class=\"dataframe\">\n  <thead>\n    <tr style=\"text-align: right;\">\n      <th></th>\n      <th>DetectionID</th>\n      <th>AsteroidID</th>\n      <th>tObs</th>\n      <th>uObs_x</th>\n      <th>uObs_y</th>\n      <th>uObs_z</th>\n      <th>qObs_x</th>\n      <th>qObs_y</th>\n      <th>qObs_z</th>\n      <th>tAst</th>\n      <th>uAst_x</th>\n      <th>uAst_y</th>\n      <th>uAst_z</th>\n      <th>s</th>\n      <th>LightTime</th>\n      <th>qAst_x</th>\n      <th>qAst_y</th>\n      <th>qAst_z</th>\n    </tr>\n  </thead>\n  <tbody>\n    <tr>\n      <th>0</th>\n      <td>1</td>\n      <td>1</td>\n      <td>58270.167662</td>\n      <td>-0.940203</td>\n      <td>-0.205183</td>\n      <td>0.271880</td>\n      <td>-0.342267</td>\n      <td>-0.947311</td>\n      <td>-0.000032</td>\n      <td>58270.151902</td>\n      <td>-0.750296</td>\n      <td>0.638716</td>\n      <td>0.170581</td>\n      <td>0.870914</td>\n      <td>22.694705</td>\n      <td>-2.389672</td>\n      <td>0.795615</td>\n      <td>0.465448</td>\n    </tr>\n    <tr>\n      <th>1</th>\n      <td>2</td>\n      <td>2</td>\n      <td>58270.167662</td>\n      <td>-0.940593</td>\n      <td>-0.207164</td>\n      <td>0.269011</td>\n      <td>-0.342267</td>\n      <td>-0.947311</td>\n      <td>-0.000032</td>\n      <td>58270.150809</td>\n      <td>-0.095533</td>\n      <td>0.916172</td>\n      <td>-0.389234</td>\n      <td>1.552191</td>\n      <td>24.267722</td>\n      <td>-0.621027</td>\n      <td>1.726018</td>\n      <td>-1.135791</td>\n    </tr>\n    <tr>\n      <th>2</th>\n      <td>3</td>\n      <td>1</td>\n      <td>58270.167662</td>\n      <td>-0.942678</td>\n      <td>-0.201138</td>\n      <td>0.266274</td>\n      <td>-0.342267</td>\n      <td>-0.947311</td>\n      <td>-0.000032</td>\n      <td>58270.151902</td>\n      <td>-0.750296</td>\n      <td>0.638716</td>\n      <td>0.170581</td>\n      <td>0.866904</td>\n      <td>22.694705</td>\n      <td>-2.389672</td>\n      <td>0.795615</td>\n      <td>0.465448</td>\n    </tr>\n    <tr>\n      <th>3</th>\n      <td>4</td>\n      <td>2</td>\n      <td>58270.167662</td>\n      <td>-0.944177</td>\n      <td>-0.198029</td>\n      <td>0.263275</td>\n      <td>-0.342267</td>\n      <td>-0.947311</td>\n      <td>-0.000032</td>\n      <td>58270.150809</td>\n      <td>-0.095533</td>\n      <td>0.916172</td>\n      <td>-0.389234</td>\n      <td>1.545124</td>\n      <td>24.267722</td>\n      <td>-0.621027</td>\n      <td>1.726018</td>\n      <td>-1.135791</td>\n    </tr>\n    <tr>\n      <th>4</th>\n      <td>1</td>\n      <td>1</td>\n      <td>58270.167662</td>\n      <td>-0.940203</td>\n      <td>-0.205183</td>\n      <td>0.271880</td>\n      <td>-0.342267</td>\n      <td>-0.947311</td>\n      <td>-0.000032</td>\n      <td>58270.151902</td>\n      <td>-0.750296</td>\n      <td>0.638716</td>\n      <td>0.170581</td>\n      <td>0.870914</td>\n      <td>22.694705</td>\n      <td>-2.389672</td>\n      <td>0.795615</td>\n      <td>0.465448</td>\n    </tr>\n    <tr>\n      <th>5</th>\n      <td>2</td>\n      <td>2</td>\n      <td>58270.167662</td>\n      <td>-0.940593</td>\n      <td>-0.207164</td>\n      <td>0.269011</td>\n      <td>-0.342267</td>\n      <td>-0.947311</td>\n      <td>-0.000032</td>\n      <td>58270.150809</td>\n      <td>-0.095533</td>\n      <td>0.916172</td>\n      <td>-0.389234</td>\n      <td>1.552191</td>\n      <td>24.267722</td>\n      <td>-0.621027</td>\n      <td>1.726018</td>\n      <td>-1.135791</td>\n    </tr>\n    <tr>\n      <th>6</th>\n      <td>3</td>\n      <td>1</td>\n      <td>58270.167662</td>\n      <td>-0.942678</td>\n      <td>-0.201138</td>\n      <td>0.266274</td>\n      <td>-0.342267</td>\n      <td>-0.947311</td>\n      <td>-0.000032</td>\n      <td>58270.151902</td>\n      <td>-0.750296</td>\n      <td>0.638716</td>\n      <td>0.170581</td>\n      <td>0.866904</td>\n      <td>22.694705</td>\n      <td>-2.389672</td>\n      <td>0.795615</td>\n      <td>0.465448</td>\n    </tr>\n    <tr>\n      <th>7</th>\n      <td>4</td>\n      <td>2</td>\n      <td>58270.167662</td>\n      <td>-0.944177</td>\n      <td>-0.198029</td>\n      <td>0.263275</td>\n      <td>-0.342267</td>\n      <td>-0.947311</td>\n      <td>-0.000032</td>\n      <td>58270.150809</td>\n      <td>-0.095533</td>\n      <td>0.916172</td>\n      <td>-0.389234</td>\n      <td>1.545124</td>\n      <td>24.267722</td>\n      <td>-0.621027</td>\n      <td>1.726018</td>\n      <td>-1.135791</td>\n    </tr>\n  </tbody>\n</table>\n</div>"
     },
     "metadata": {},
     "execution_count": 17
    }
   ],
   "source": [
    "dna_vec"
   ]
  },
  {
   "cell_type": "code",
   "execution_count": 18,
   "metadata": {},
   "outputs": [
    {
     "output_type": "execute_result",
     "data": {
      "text/plain": [
       "0    0.022118\n",
       "1    0.009578\n",
       "2    0.022118\n",
       "3    0.009578\n",
       "4    0.022118\n",
       "5    0.009578\n",
       "6    0.022118\n",
       "7    0.009578\n",
       "Name: tAst, dtype: float64"
      ]
     },
     "metadata": {},
     "execution_count": 18
    }
   ],
   "source": [
    "(dna_vec.tAst - dna_pre.tAst)*1440"
   ]
  },
  {
   "cell_type": "code",
   "execution_count": 21,
   "metadata": {},
   "outputs": [],
   "source": [
    "# (dna_vec.LightTime - dna_pre.LightTime)"
   ]
  },
  {
   "cell_type": "code",
   "execution_count": 23,
   "metadata": {},
   "outputs": [
    {
     "output_type": "execute_result",
     "data": {
      "text/plain": [
       "0     63.967716\n",
       "1    207.229501\n",
       "2     63.967716\n",
       "3    207.229501\n",
       "4     63.967716\n",
       "5    207.229501\n",
       "6     63.967716\n",
       "7    207.229501\n",
       "Name: uAst_x, dtype: float64"
      ]
     },
     "metadata": {},
     "execution_count": 23
    }
   ],
   "source": [
    "(dna_vec.uAst_x - dna_pre.uAst_x)*3600*60"
   ]
  },
  {
   "cell_type": "code",
   "execution_count": 24,
   "metadata": {},
   "outputs": [
    {
     "output_type": "execute_result",
     "data": {
      "text/plain": [
       "0    66.449872\n",
       "1     5.777071\n",
       "2    66.449872\n",
       "3     5.777071\n",
       "4    66.449872\n",
       "5     5.777071\n",
       "6    66.449872\n",
       "7     5.777071\n",
       "Name: uAst_y, dtype: float64"
      ]
     },
     "metadata": {},
     "execution_count": 24
    }
   ],
   "source": [
    "(dna_vec.uAst_y - dna_pre.uAst_y)*3600*60"
   ]
  },
  {
   "cell_type": "code",
   "execution_count": null,
   "metadata": {},
   "outputs": [],
   "source": []
  }
 ],
 "metadata": {
  "kernelspec": {
   "display_name": "kepler",
   "language": "python",
   "name": "kepler"
  },
  "language_info": {
   "codemirror_mode": {
    "name": "ipython",
    "version": 3
   },
   "file_extension": ".py",
   "mimetype": "text/x-python",
   "name": "python",
   "nbconvert_exporter": "python",
   "pygments_lexer": "ipython3",
   "version": "3.8.5"
  }
 },
 "nbformat": 4,
 "nbformat_minor": 4
}