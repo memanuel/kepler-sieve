{
 "cells": [
  {
   "cell_type": "code",
   "execution_count": 1,
   "metadata": {},
   "outputs": [],
   "source": [
    "# Core\n",
    "import numpy as np\n",
    "import pandas as pd\n",
    "from scipy.interpolate import CubicSpline\n",
    "\n",
    "# Astronomy\n",
    "import astropy\n",
    "from astropy.units import au, minute"
   ]
  },
  {
   "cell_type": "code",
   "execution_count": 2,
   "metadata": {},
   "outputs": [],
   "source": [
    "# Local imports\n",
    "import kepler_sieve\n",
    "from asteroid_data import load_ast_elements, load_ast_vectors\n",
    "from asteroid_spline import get_df_shape, spline_ast_data, make_spline_df\n",
    "from asteroid_direction import calc_dir_ast2obs\n",
    "from astro_utils import deg2dist, dist2sec\n",
    "from orbital_element import elt2pos\n",
    "from planets_interp import get_sun_pos\n",
    "from db_utils import sp2df, df2db"
   ]
  },
  {
   "cell_type": "code",
   "execution_count": 3,
   "metadata": {},
   "outputs": [],
   "source": [
    "from detection_near_ast import get_data_detections, get_data_ast_dir, asteroid_batch_prelim, asteroid_batch_vec, asteroid_batch_elt, light_time_adj\n",
    "from detection_near_ast import cols_u_obs, cols_q_obs, cols_u_ast, cols_v_ast, cols_q_ast, mjd0, mjd1, c"
   ]
  },
  {
   "cell_type": "code",
   "execution_count": 4,
   "metadata": {},
   "outputs": [],
   "source": [
    "# Inputs\n",
    "d0 = 1\n",
    "d1 = 1000\n",
    "n0 = 1\n",
    "n1 = 10\n",
    "deg_max = 180\n",
    "arcmin_max = deg_max * 180"
   ]
  },
  {
   "cell_type": "code",
   "execution_count": 5,
   "metadata": {},
   "outputs": [
    {
     "output_type": "execute_result",
     "data": {
      "text/plain": [
       "             DetectionID          tObs    uObs_x    uObs_y    uObs_z  \\\n",
       "DetectionID                                                            \n",
       "1                      1  58270.167662 -0.940203 -0.205183  0.271880   \n",
       "2                      2  58270.167662 -0.940593 -0.207164  0.269011   \n",
       "3                      3  58270.167662 -0.942678 -0.201138  0.266274   \n",
       "4                      4  58270.167662 -0.944177 -0.198029  0.263275   \n",
       "5                      5  58270.167662 -0.944884 -0.197557  0.261085   \n",
       "...                  ...           ...       ...       ...       ...   \n",
       "995                  995  58270.169965 -0.956204  0.008802  0.292568   \n",
       "996                  996  58270.169965 -0.955604  0.003942  0.294628   \n",
       "997                  997  58270.169965 -0.957723  0.000489  0.287693   \n",
       "998                  998  58270.169965 -0.957586 -0.000229  0.288147   \n",
       "999                  999  58270.169965 -0.956710 -0.001424  0.291039   \n",
       "\n",
       "               qObs_x    qObs_y    qObs_z  \n",
       "DetectionID                                \n",
       "1           -0.342267 -0.947311 -0.000032  \n",
       "2           -0.342267 -0.947311 -0.000032  \n",
       "3           -0.342267 -0.947311 -0.000032  \n",
       "4           -0.342267 -0.947311 -0.000032  \n",
       "5           -0.342267 -0.947311 -0.000032  \n",
       "...               ...       ...       ...  \n",
       "995         -0.342231 -0.947325 -0.000032  \n",
       "996         -0.342231 -0.947325 -0.000032  \n",
       "997         -0.342231 -0.947325 -0.000032  \n",
       "998         -0.342231 -0.947325 -0.000032  \n",
       "999         -0.342231 -0.947325 -0.000032  \n",
       "\n",
       "[999 rows x 8 columns]"
      ],
      "text/html": "<div>\n<style scoped>\n    .dataframe tbody tr th:only-of-type {\n        vertical-align: middle;\n    }\n\n    .dataframe tbody tr th {\n        vertical-align: top;\n    }\n\n    .dataframe thead th {\n        text-align: right;\n    }\n</style>\n<table border=\"1\" class=\"dataframe\">\n  <thead>\n    <tr style=\"text-align: right;\">\n      <th></th>\n      <th>DetectionID</th>\n      <th>tObs</th>\n      <th>uObs_x</th>\n      <th>uObs_y</th>\n      <th>uObs_z</th>\n      <th>qObs_x</th>\n      <th>qObs_y</th>\n      <th>qObs_z</th>\n    </tr>\n    <tr>\n      <th>DetectionID</th>\n      <th></th>\n      <th></th>\n      <th></th>\n      <th></th>\n      <th></th>\n      <th></th>\n      <th></th>\n      <th></th>\n    </tr>\n  </thead>\n  <tbody>\n    <tr>\n      <th>1</th>\n      <td>1</td>\n      <td>58270.167662</td>\n      <td>-0.940203</td>\n      <td>-0.205183</td>\n      <td>0.271880</td>\n      <td>-0.342267</td>\n      <td>-0.947311</td>\n      <td>-0.000032</td>\n    </tr>\n    <tr>\n      <th>2</th>\n      <td>2</td>\n      <td>58270.167662</td>\n      <td>-0.940593</td>\n      <td>-0.207164</td>\n      <td>0.269011</td>\n      <td>-0.342267</td>\n      <td>-0.947311</td>\n      <td>-0.000032</td>\n    </tr>\n    <tr>\n      <th>3</th>\n      <td>3</td>\n      <td>58270.167662</td>\n      <td>-0.942678</td>\n      <td>-0.201138</td>\n      <td>0.266274</td>\n      <td>-0.342267</td>\n      <td>-0.947311</td>\n      <td>-0.000032</td>\n    </tr>\n    <tr>\n      <th>4</th>\n      <td>4</td>\n      <td>58270.167662</td>\n      <td>-0.944177</td>\n      <td>-0.198029</td>\n      <td>0.263275</td>\n      <td>-0.342267</td>\n      <td>-0.947311</td>\n      <td>-0.000032</td>\n    </tr>\n    <tr>\n      <th>5</th>\n      <td>5</td>\n      <td>58270.167662</td>\n      <td>-0.944884</td>\n      <td>-0.197557</td>\n      <td>0.261085</td>\n      <td>-0.342267</td>\n      <td>-0.947311</td>\n      <td>-0.000032</td>\n    </tr>\n    <tr>\n      <th>...</th>\n      <td>...</td>\n      <td>...</td>\n      <td>...</td>\n      <td>...</td>\n      <td>...</td>\n      <td>...</td>\n      <td>...</td>\n      <td>...</td>\n    </tr>\n    <tr>\n      <th>995</th>\n      <td>995</td>\n      <td>58270.169965</td>\n      <td>-0.956204</td>\n      <td>0.008802</td>\n      <td>0.292568</td>\n      <td>-0.342231</td>\n      <td>-0.947325</td>\n      <td>-0.000032</td>\n    </tr>\n    <tr>\n      <th>996</th>\n      <td>996</td>\n      <td>58270.169965</td>\n      <td>-0.955604</td>\n      <td>0.003942</td>\n      <td>0.294628</td>\n      <td>-0.342231</td>\n      <td>-0.947325</td>\n      <td>-0.000032</td>\n    </tr>\n    <tr>\n      <th>997</th>\n      <td>997</td>\n      <td>58270.169965</td>\n      <td>-0.957723</td>\n      <td>0.000489</td>\n      <td>0.287693</td>\n      <td>-0.342231</td>\n      <td>-0.947325</td>\n      <td>-0.000032</td>\n    </tr>\n    <tr>\n      <th>998</th>\n      <td>998</td>\n      <td>58270.169965</td>\n      <td>-0.957586</td>\n      <td>-0.000229</td>\n      <td>0.288147</td>\n      <td>-0.342231</td>\n      <td>-0.947325</td>\n      <td>-0.000032</td>\n    </tr>\n    <tr>\n      <th>999</th>\n      <td>999</td>\n      <td>58270.169965</td>\n      <td>-0.956710</td>\n      <td>-0.001424</td>\n      <td>0.291039</td>\n      <td>-0.342231</td>\n      <td>-0.947325</td>\n      <td>-0.000032</td>\n    </tr>\n  </tbody>\n</table>\n<p>999 rows × 8 columns</p>\n</div>"
     },
     "metadata": {},
     "execution_count": 5
    }
   ],
   "source": [
    "# Get detections\n",
    "det = get_data_detections(d0=d0, d1=d1)\n",
    "det"
   ]
  },
  {
   "cell_type": "code",
   "execution_count": 6,
   "metadata": {},
   "outputs": [],
   "source": [
    "# Get asteroid directions\n",
    "ast_in = get_data_ast_dir(n0=n0, n1=n1)\n",
    "\n",
    "# Number of distinct asteroids in the input data\n",
    "ast_unq = np.unique(ast_in.AsteroidID)\n",
    "N_ast = ast_unq.size\n",
    "\n",
    "# Build data frame with index = AsteroidID, payload n (asteroid number in this batch)\n",
    "dfa_tbl = {\n",
    "    'AsteroidID': ast_unq,\n",
    "    'n': np.arange(N_ast, dtype=np.int)\n",
    "}\n",
    "dfa = pd.DataFrame(dfa_tbl)    \n",
    "dfa.set_index(keys='AsteroidID', drop=False, inplace=True)"
   ]
  },
  {
   "cell_type": "code",
   "execution_count": 7,
   "metadata": {},
   "outputs": [
    {
     "output_type": "execute_result",
     "data": {
      "text/plain": [
       "            AsteroidID  n\n",
       "AsteroidID               \n",
       "1                    1  0\n",
       "2                    2  1\n",
       "3                    3  2\n",
       "4                    4  3\n",
       "5                    5  4\n",
       "6                    6  5\n",
       "7                    7  6\n",
       "8                    8  7\n",
       "9                    9  8"
      ],
      "text/html": "<div>\n<style scoped>\n    .dataframe tbody tr th:only-of-type {\n        vertical-align: middle;\n    }\n\n    .dataframe tbody tr th {\n        vertical-align: top;\n    }\n\n    .dataframe thead th {\n        text-align: right;\n    }\n</style>\n<table border=\"1\" class=\"dataframe\">\n  <thead>\n    <tr style=\"text-align: right;\">\n      <th></th>\n      <th>AsteroidID</th>\n      <th>n</th>\n    </tr>\n    <tr>\n      <th>AsteroidID</th>\n      <th></th>\n      <th></th>\n    </tr>\n  </thead>\n  <tbody>\n    <tr>\n      <th>1</th>\n      <td>1</td>\n      <td>0</td>\n    </tr>\n    <tr>\n      <th>2</th>\n      <td>2</td>\n      <td>1</td>\n    </tr>\n    <tr>\n      <th>3</th>\n      <td>3</td>\n      <td>2</td>\n    </tr>\n    <tr>\n      <th>4</th>\n      <td>4</td>\n      <td>3</td>\n    </tr>\n    <tr>\n      <th>5</th>\n      <td>5</td>\n      <td>4</td>\n    </tr>\n    <tr>\n      <th>6</th>\n      <td>6</td>\n      <td>5</td>\n    </tr>\n    <tr>\n      <th>7</th>\n      <td>7</td>\n      <td>6</td>\n    </tr>\n    <tr>\n      <th>8</th>\n      <td>8</td>\n      <td>7</td>\n    </tr>\n    <tr>\n      <th>9</th>\n      <td>9</td>\n      <td>8</td>\n    </tr>\n  </tbody>\n</table>\n</div>"
     },
     "metadata": {},
     "execution_count": 7
    }
   ],
   "source": [
    "dfa"
   ]
  },
  {
   "cell_type": "code",
   "execution_count": 6,
   "metadata": {},
   "outputs": [],
   "source": [
    "# First pass at detections near asteroids\n",
    "dna_pre = asteroid_batch_prelim(det=det, n0=n0, n1=n1, arcmin_max=arcmin_max)"
   ]
  },
  {
   "cell_type": "code",
   "execution_count": 7,
   "metadata": {},
   "outputs": [
    {
     "output_type": "execute_result",
     "data": {
      "text/plain": [
       "      AsteroidID  DetectionID  n          tObs    uObs_x    uObs_y    uObs_z  \\\n",
       "0              1            1  0  58270.167662 -0.940203 -0.205183  0.271880   \n",
       "1              1            2  0  58270.167662 -0.940593 -0.207164  0.269011   \n",
       "2              1            3  0  58270.167662 -0.942678 -0.201138  0.266274   \n",
       "3              1            4  0  58270.167662 -0.944177 -0.198029  0.263275   \n",
       "4              1            5  0  58270.167662 -0.944884 -0.197557  0.261085   \n",
       "...          ...          ... ..           ...       ...       ...       ...   \n",
       "8986           9          995  8  58270.169965 -0.956204  0.008802  0.292568   \n",
       "8987           9          996  8  58270.169965 -0.955604  0.003942  0.294628   \n",
       "8988           9          997  8  58270.169965 -0.957723  0.000489  0.287693   \n",
       "8989           9          998  8  58270.169965 -0.957586 -0.000229  0.288147   \n",
       "8990           9          999  8  58270.169965 -0.956710 -0.001424  0.291039   \n",
       "\n",
       "        qObs_x    qObs_y    qObs_z          tAst  LightTime    uAst_x  \\\n",
       "0    -0.342267 -0.947311 -0.000032  58270.167662  22.718352 -0.750616   \n",
       "1    -0.342267 -0.947311 -0.000032  58270.167662  22.718352 -0.750616   \n",
       "2    -0.342267 -0.947311 -0.000032  58270.167662  22.718352 -0.750616   \n",
       "3    -0.342267 -0.947311 -0.000032  58270.167662  22.718352 -0.750616   \n",
       "4    -0.342267 -0.947311 -0.000032  58270.167662  22.718352 -0.750616   \n",
       "...        ...       ...       ...           ...        ...       ...   \n",
       "8986 -0.342231 -0.947325 -0.000032  58270.169965  14.108814 -0.017399   \n",
       "8987 -0.342231 -0.947325 -0.000032  58270.169965  14.108814 -0.017399   \n",
       "8988 -0.342231 -0.947325 -0.000032  58270.169965  14.108814 -0.017399   \n",
       "8989 -0.342231 -0.947325 -0.000032  58270.169965  14.108814 -0.017399   \n",
       "8990 -0.342231 -0.947325 -0.000032  58270.169965  14.108814 -0.017399   \n",
       "\n",
       "        uAst_y    uAst_z         s  \n",
       "0     0.638384  0.170414  0.870543  \n",
       "1     0.638384  0.170414  0.872219  \n",
       "2     0.638384  0.170414  0.866530  \n",
       "3     0.638384  0.170414  0.863526  \n",
       "4     0.638384  0.170414  0.862994  \n",
       "...        ...       ...       ...  \n",
       "8986 -0.999234 -0.035061  1.415921  \n",
       "8987 -0.999234 -0.035061  1.412546  \n",
       "8988 -0.999234 -0.035061  1.409903  \n",
       "8989 -0.999234 -0.035061  1.409407  \n",
       "8990 -0.999234 -0.035061  1.408642  \n",
       "\n",
       "[8991 rows x 16 columns]"
      ],
      "text/html": "<div>\n<style scoped>\n    .dataframe tbody tr th:only-of-type {\n        vertical-align: middle;\n    }\n\n    .dataframe tbody tr th {\n        vertical-align: top;\n    }\n\n    .dataframe thead th {\n        text-align: right;\n    }\n</style>\n<table border=\"1\" class=\"dataframe\">\n  <thead>\n    <tr style=\"text-align: right;\">\n      <th></th>\n      <th>AsteroidID</th>\n      <th>DetectionID</th>\n      <th>n</th>\n      <th>tObs</th>\n      <th>uObs_x</th>\n      <th>uObs_y</th>\n      <th>uObs_z</th>\n      <th>qObs_x</th>\n      <th>qObs_y</th>\n      <th>qObs_z</th>\n      <th>tAst</th>\n      <th>LightTime</th>\n      <th>uAst_x</th>\n      <th>uAst_y</th>\n      <th>uAst_z</th>\n      <th>s</th>\n    </tr>\n  </thead>\n  <tbody>\n    <tr>\n      <th>0</th>\n      <td>1</td>\n      <td>1</td>\n      <td>0</td>\n      <td>58270.167662</td>\n      <td>-0.940203</td>\n      <td>-0.205183</td>\n      <td>0.271880</td>\n      <td>-0.342267</td>\n      <td>-0.947311</td>\n      <td>-0.000032</td>\n      <td>58270.167662</td>\n      <td>22.718352</td>\n      <td>-0.750616</td>\n      <td>0.638384</td>\n      <td>0.170414</td>\n      <td>0.870543</td>\n    </tr>\n    <tr>\n      <th>1</th>\n      <td>1</td>\n      <td>2</td>\n      <td>0</td>\n      <td>58270.167662</td>\n      <td>-0.940593</td>\n      <td>-0.207164</td>\n      <td>0.269011</td>\n      <td>-0.342267</td>\n      <td>-0.947311</td>\n      <td>-0.000032</td>\n      <td>58270.167662</td>\n      <td>22.718352</td>\n      <td>-0.750616</td>\n      <td>0.638384</td>\n      <td>0.170414</td>\n      <td>0.872219</td>\n    </tr>\n    <tr>\n      <th>2</th>\n      <td>1</td>\n      <td>3</td>\n      <td>0</td>\n      <td>58270.167662</td>\n      <td>-0.942678</td>\n      <td>-0.201138</td>\n      <td>0.266274</td>\n      <td>-0.342267</td>\n      <td>-0.947311</td>\n      <td>-0.000032</td>\n      <td>58270.167662</td>\n      <td>22.718352</td>\n      <td>-0.750616</td>\n      <td>0.638384</td>\n      <td>0.170414</td>\n      <td>0.866530</td>\n    </tr>\n    <tr>\n      <th>3</th>\n      <td>1</td>\n      <td>4</td>\n      <td>0</td>\n      <td>58270.167662</td>\n      <td>-0.944177</td>\n      <td>-0.198029</td>\n      <td>0.263275</td>\n      <td>-0.342267</td>\n      <td>-0.947311</td>\n      <td>-0.000032</td>\n      <td>58270.167662</td>\n      <td>22.718352</td>\n      <td>-0.750616</td>\n      <td>0.638384</td>\n      <td>0.170414</td>\n      <td>0.863526</td>\n    </tr>\n    <tr>\n      <th>4</th>\n      <td>1</td>\n      <td>5</td>\n      <td>0</td>\n      <td>58270.167662</td>\n      <td>-0.944884</td>\n      <td>-0.197557</td>\n      <td>0.261085</td>\n      <td>-0.342267</td>\n      <td>-0.947311</td>\n      <td>-0.000032</td>\n      <td>58270.167662</td>\n      <td>22.718352</td>\n      <td>-0.750616</td>\n      <td>0.638384</td>\n      <td>0.170414</td>\n      <td>0.862994</td>\n    </tr>\n    <tr>\n      <th>...</th>\n      <td>...</td>\n      <td>...</td>\n      <td>...</td>\n      <td>...</td>\n      <td>...</td>\n      <td>...</td>\n      <td>...</td>\n      <td>...</td>\n      <td>...</td>\n      <td>...</td>\n      <td>...</td>\n      <td>...</td>\n      <td>...</td>\n      <td>...</td>\n      <td>...</td>\n      <td>...</td>\n    </tr>\n    <tr>\n      <th>8986</th>\n      <td>9</td>\n      <td>995</td>\n      <td>8</td>\n      <td>58270.169965</td>\n      <td>-0.956204</td>\n      <td>0.008802</td>\n      <td>0.292568</td>\n      <td>-0.342231</td>\n      <td>-0.947325</td>\n      <td>-0.000032</td>\n      <td>58270.169965</td>\n      <td>14.108814</td>\n      <td>-0.017399</td>\n      <td>-0.999234</td>\n      <td>-0.035061</td>\n      <td>1.415921</td>\n    </tr>\n    <tr>\n      <th>8987</th>\n      <td>9</td>\n      <td>996</td>\n      <td>8</td>\n      <td>58270.169965</td>\n      <td>-0.955604</td>\n      <td>0.003942</td>\n      <td>0.294628</td>\n      <td>-0.342231</td>\n      <td>-0.947325</td>\n      <td>-0.000032</td>\n      <td>58270.169965</td>\n      <td>14.108814</td>\n      <td>-0.017399</td>\n      <td>-0.999234</td>\n      <td>-0.035061</td>\n      <td>1.412546</td>\n    </tr>\n    <tr>\n      <th>8988</th>\n      <td>9</td>\n      <td>997</td>\n      <td>8</td>\n      <td>58270.169965</td>\n      <td>-0.957723</td>\n      <td>0.000489</td>\n      <td>0.287693</td>\n      <td>-0.342231</td>\n      <td>-0.947325</td>\n      <td>-0.000032</td>\n      <td>58270.169965</td>\n      <td>14.108814</td>\n      <td>-0.017399</td>\n      <td>-0.999234</td>\n      <td>-0.035061</td>\n      <td>1.409903</td>\n    </tr>\n    <tr>\n      <th>8989</th>\n      <td>9</td>\n      <td>998</td>\n      <td>8</td>\n      <td>58270.169965</td>\n      <td>-0.957586</td>\n      <td>-0.000229</td>\n      <td>0.288147</td>\n      <td>-0.342231</td>\n      <td>-0.947325</td>\n      <td>-0.000032</td>\n      <td>58270.169965</td>\n      <td>14.108814</td>\n      <td>-0.017399</td>\n      <td>-0.999234</td>\n      <td>-0.035061</td>\n      <td>1.409407</td>\n    </tr>\n    <tr>\n      <th>8990</th>\n      <td>9</td>\n      <td>999</td>\n      <td>8</td>\n      <td>58270.169965</td>\n      <td>-0.956710</td>\n      <td>-0.001424</td>\n      <td>0.291039</td>\n      <td>-0.342231</td>\n      <td>-0.947325</td>\n      <td>-0.000032</td>\n      <td>58270.169965</td>\n      <td>14.108814</td>\n      <td>-0.017399</td>\n      <td>-0.999234</td>\n      <td>-0.035061</td>\n      <td>1.408642</td>\n    </tr>\n  </tbody>\n</table>\n<p>8991 rows × 16 columns</p>\n</div>"
     },
     "metadata": {},
     "execution_count": 7
    }
   ],
   "source": [
    "dna_pre"
   ]
  },
  {
   "cell_type": "code",
   "execution_count": 12,
   "metadata": {},
   "outputs": [],
   "source": [
    "dna_pre['n'] = dfa.n[dna_pre.AsteroidID].values"
   ]
  },
  {
   "cell_type": "code",
   "execution_count": 11,
   "metadata": {},
   "outputs": [
    {
     "output_type": "execute_result",
     "data": {
      "text/plain": [
       "array([1, 2, 3, 4, 5, 6, 7, 8, 9])"
      ]
     },
     "metadata": {},
     "execution_count": 11
    }
   ],
   "source": [
    "np.unique(dna_pre.AsteroidID)"
   ]
  },
  {
   "cell_type": "code",
   "execution_count": 18,
   "metadata": {},
   "outputs": [
    {
     "output_type": "error",
     "ename": "NameError",
     "evalue": "name 'dfa_pre' is not defined",
     "traceback": [
      "\u001b[0;31m---------------------------------------------------------------------------\u001b[0m",
      "\u001b[0;31mNameError\u001b[0m                                 Traceback (most recent call last)",
      "\u001b[0;32m<ipython-input-18-f603c17ab091>\u001b[0m in \u001b[0;36m<module>\u001b[0;34m\u001b[0m\n\u001b[1;32m      8\u001b[0m \u001b[0mdfa\u001b[0m\u001b[0;34m.\u001b[0m\u001b[0mset_index\u001b[0m\u001b[0;34m(\u001b[0m\u001b[0mkeys\u001b[0m\u001b[0;34m=\u001b[0m\u001b[0;34m'AsteroidID'\u001b[0m\u001b[0;34m,\u001b[0m \u001b[0mdrop\u001b[0m\u001b[0;34m=\u001b[0m\u001b[0;32mFalse\u001b[0m\u001b[0;34m,\u001b[0m \u001b[0minplace\u001b[0m\u001b[0;34m=\u001b[0m\u001b[0;32mTrue\u001b[0m\u001b[0;34m)\u001b[0m\u001b[0;34m\u001b[0m\u001b[0;34m\u001b[0m\u001b[0m\n\u001b[1;32m      9\u001b[0m \u001b[0mdfa\u001b[0m\u001b[0;34m\u001b[0m\u001b[0;34m\u001b[0m\u001b[0m\n\u001b[0;32m---> 10\u001b[0;31m \u001b[0mdna_pre\u001b[0m\u001b[0;34m[\u001b[0m\u001b[0;34m'n'\u001b[0m\u001b[0;34m]\u001b[0m \u001b[0;34m=\u001b[0m \u001b[0mdfa\u001b[0m\u001b[0;34m[\u001b[0m\u001b[0mdfa_pre\u001b[0m\u001b[0;34m.\u001b[0m\u001b[0mAsteroidID\u001b[0m\u001b[0;34m]\u001b[0m\u001b[0;34m\u001b[0m\u001b[0;34m\u001b[0m\u001b[0m\n\u001b[0m",
      "\u001b[0;31mNameError\u001b[0m: name 'dfa_pre' is not defined"
     ]
    }
   ],
   "source": [
    "ast_unq = np.unique(dna_pre.AsteroidID)\n",
    "num_ast = ast_unq.shape[0]\n",
    "dfa_tbl = {\n",
    "    'AsteroidID': ast_unq,\n",
    "    'n': np.arange(num_ast, dtype=np.int)\n",
    "}\n",
    "dfa = pd.DataFrame(dfa_tbl)\n",
    "dfa.set_index(keys='AsteroidID', drop=False, inplace=True)\n",
    "dfa\n",
    "dna_pre['n'] = dfa[dfa_pre.AsteroidID]"
   ]
  },
  {
   "cell_type": "code",
   "execution_count": 8,
   "metadata": {},
   "outputs": [],
   "source": [
    "# Sharpen estimate using splined asteroid vectors\n",
    "dna_vec = dna_pre.copy()\n",
    "asteroid_batch_vec(dna=dna_vec, n0=n0, n1=n1, arcmin_max=arcmin_max)"
   ]
  },
  {
   "cell_type": "code",
   "execution_count": 9,
   "metadata": {},
   "outputs": [
    {
     "output_type": "execute_result",
     "data": {
      "text/plain": [
       "      AsteroidID  DetectionID          tObs    uObs_x    uObs_y    uObs_z  \\\n",
       "0              1            1  58270.167662 -0.940203 -0.205183  0.271880   \n",
       "1              1            2  58270.167662 -0.940593 -0.207164  0.269011   \n",
       "2              1            3  58270.167662 -0.942678 -0.201138  0.266274   \n",
       "3              1            4  58270.167662 -0.944177 -0.198029  0.263275   \n",
       "4              1            5  58270.167662 -0.944884 -0.197557  0.261085   \n",
       "...          ...          ...           ...       ...       ...       ...   \n",
       "5989           9          995  58270.169965 -0.956204  0.008802  0.292568   \n",
       "5990           9          996  58270.169965 -0.955604  0.003942  0.294628   \n",
       "5991           9          997  58270.169965 -0.957723  0.000489  0.287693   \n",
       "5992           9          998  58270.169965 -0.957586 -0.000229  0.288147   \n",
       "5993           9          999  58270.169965 -0.956710 -0.001424  0.291039   \n",
       "\n",
       "        qObs_x    qObs_y    qObs_z          tAst  LightTime    uAst_x  \\\n",
       "0    -0.342267 -0.947311 -0.000032  58270.151902  22.694705 -0.750296   \n",
       "1    -0.342267 -0.947311 -0.000032  58270.151902  22.694705 -0.750296   \n",
       "2    -0.342267 -0.947311 -0.000032  58270.151902  22.694705 -0.750296   \n",
       "3    -0.342267 -0.947311 -0.000032  58270.151902  22.694705 -0.750296   \n",
       "4    -0.342267 -0.947311 -0.000032  58270.151902  22.694705 -0.750296   \n",
       "...        ...       ...       ...           ...        ...       ...   \n",
       "5989 -0.342231 -0.947325 -0.000032  58270.160162  14.116994 -0.015762   \n",
       "5990 -0.342231 -0.947325 -0.000032  58270.160162  14.116994 -0.015762   \n",
       "5991 -0.342231 -0.947325 -0.000032  58270.160162  14.116994 -0.015762   \n",
       "5992 -0.342231 -0.947325 -0.000032  58270.160162  14.116994 -0.015762   \n",
       "5993 -0.342231 -0.947325 -0.000032  58270.160162  14.116994 -0.015762   \n",
       "\n",
       "        uAst_y    uAst_z         s    qAst_x    qAst_y    qAst_z  \n",
       "0     0.638716  0.170581  0.870914 -2.389672  0.795615  0.465448  \n",
       "1     0.638716  0.170581  0.872591 -2.389672  0.795615  0.465448  \n",
       "2     0.638716  0.170581  0.866904 -2.389672  0.795615  0.465448  \n",
       "3     0.638716  0.170581  0.863901 -2.389672  0.795615  0.465448  \n",
       "4     0.638716  0.170581  0.863370 -2.389672  0.795615  0.465448  \n",
       "...        ...       ...       ...       ...       ...       ...  \n",
       "5989 -0.999261 -0.035050  1.417024 -0.368985 -2.643489 -0.059527  \n",
       "5990 -0.999261 -0.035050  1.413651 -0.368985 -2.643489 -0.059527  \n",
       "5991 -0.999261 -0.035050  1.411012 -0.368985 -2.643489 -0.059527  \n",
       "5992 -0.999261 -0.035050  1.410516 -0.368985 -2.643489 -0.059527  \n",
       "5993 -0.999261 -0.035050  1.409751 -0.368985 -2.643489 -0.059527  \n",
       "\n",
       "[5994 rows x 18 columns]"
      ],
      "text/html": "<div>\n<style scoped>\n    .dataframe tbody tr th:only-of-type {\n        vertical-align: middle;\n    }\n\n    .dataframe tbody tr th {\n        vertical-align: top;\n    }\n\n    .dataframe thead th {\n        text-align: right;\n    }\n</style>\n<table border=\"1\" class=\"dataframe\">\n  <thead>\n    <tr style=\"text-align: right;\">\n      <th></th>\n      <th>AsteroidID</th>\n      <th>DetectionID</th>\n      <th>tObs</th>\n      <th>uObs_x</th>\n      <th>uObs_y</th>\n      <th>uObs_z</th>\n      <th>qObs_x</th>\n      <th>qObs_y</th>\n      <th>qObs_z</th>\n      <th>tAst</th>\n      <th>LightTime</th>\n      <th>uAst_x</th>\n      <th>uAst_y</th>\n      <th>uAst_z</th>\n      <th>s</th>\n      <th>qAst_x</th>\n      <th>qAst_y</th>\n      <th>qAst_z</th>\n    </tr>\n  </thead>\n  <tbody>\n    <tr>\n      <th>0</th>\n      <td>1</td>\n      <td>1</td>\n      <td>58270.167662</td>\n      <td>-0.940203</td>\n      <td>-0.205183</td>\n      <td>0.271880</td>\n      <td>-0.342267</td>\n      <td>-0.947311</td>\n      <td>-0.000032</td>\n      <td>58270.151902</td>\n      <td>22.694705</td>\n      <td>-0.750296</td>\n      <td>0.638716</td>\n      <td>0.170581</td>\n      <td>0.870914</td>\n      <td>-2.389672</td>\n      <td>0.795615</td>\n      <td>0.465448</td>\n    </tr>\n    <tr>\n      <th>1</th>\n      <td>1</td>\n      <td>2</td>\n      <td>58270.167662</td>\n      <td>-0.940593</td>\n      <td>-0.207164</td>\n      <td>0.269011</td>\n      <td>-0.342267</td>\n      <td>-0.947311</td>\n      <td>-0.000032</td>\n      <td>58270.151902</td>\n      <td>22.694705</td>\n      <td>-0.750296</td>\n      <td>0.638716</td>\n      <td>0.170581</td>\n      <td>0.872591</td>\n      <td>-2.389672</td>\n      <td>0.795615</td>\n      <td>0.465448</td>\n    </tr>\n    <tr>\n      <th>2</th>\n      <td>1</td>\n      <td>3</td>\n      <td>58270.167662</td>\n      <td>-0.942678</td>\n      <td>-0.201138</td>\n      <td>0.266274</td>\n      <td>-0.342267</td>\n      <td>-0.947311</td>\n      <td>-0.000032</td>\n      <td>58270.151902</td>\n      <td>22.694705</td>\n      <td>-0.750296</td>\n      <td>0.638716</td>\n      <td>0.170581</td>\n      <td>0.866904</td>\n      <td>-2.389672</td>\n      <td>0.795615</td>\n      <td>0.465448</td>\n    </tr>\n    <tr>\n      <th>3</th>\n      <td>1</td>\n      <td>4</td>\n      <td>58270.167662</td>\n      <td>-0.944177</td>\n      <td>-0.198029</td>\n      <td>0.263275</td>\n      <td>-0.342267</td>\n      <td>-0.947311</td>\n      <td>-0.000032</td>\n      <td>58270.151902</td>\n      <td>22.694705</td>\n      <td>-0.750296</td>\n      <td>0.638716</td>\n      <td>0.170581</td>\n      <td>0.863901</td>\n      <td>-2.389672</td>\n      <td>0.795615</td>\n      <td>0.465448</td>\n    </tr>\n    <tr>\n      <th>4</th>\n      <td>1</td>\n      <td>5</td>\n      <td>58270.167662</td>\n      <td>-0.944884</td>\n      <td>-0.197557</td>\n      <td>0.261085</td>\n      <td>-0.342267</td>\n      <td>-0.947311</td>\n      <td>-0.000032</td>\n      <td>58270.151902</td>\n      <td>22.694705</td>\n      <td>-0.750296</td>\n      <td>0.638716</td>\n      <td>0.170581</td>\n      <td>0.863370</td>\n      <td>-2.389672</td>\n      <td>0.795615</td>\n      <td>0.465448</td>\n    </tr>\n    <tr>\n      <th>...</th>\n      <td>...</td>\n      <td>...</td>\n      <td>...</td>\n      <td>...</td>\n      <td>...</td>\n      <td>...</td>\n      <td>...</td>\n      <td>...</td>\n      <td>...</td>\n      <td>...</td>\n      <td>...</td>\n      <td>...</td>\n      <td>...</td>\n      <td>...</td>\n      <td>...</td>\n      <td>...</td>\n      <td>...</td>\n      <td>...</td>\n    </tr>\n    <tr>\n      <th>5989</th>\n      <td>9</td>\n      <td>995</td>\n      <td>58270.169965</td>\n      <td>-0.956204</td>\n      <td>0.008802</td>\n      <td>0.292568</td>\n      <td>-0.342231</td>\n      <td>-0.947325</td>\n      <td>-0.000032</td>\n      <td>58270.160162</td>\n      <td>14.116994</td>\n      <td>-0.015762</td>\n      <td>-0.999261</td>\n      <td>-0.035050</td>\n      <td>1.417024</td>\n      <td>-0.368985</td>\n      <td>-2.643489</td>\n      <td>-0.059527</td>\n    </tr>\n    <tr>\n      <th>5990</th>\n      <td>9</td>\n      <td>996</td>\n      <td>58270.169965</td>\n      <td>-0.955604</td>\n      <td>0.003942</td>\n      <td>0.294628</td>\n      <td>-0.342231</td>\n      <td>-0.947325</td>\n      <td>-0.000032</td>\n      <td>58270.160162</td>\n      <td>14.116994</td>\n      <td>-0.015762</td>\n      <td>-0.999261</td>\n      <td>-0.035050</td>\n      <td>1.413651</td>\n      <td>-0.368985</td>\n      <td>-2.643489</td>\n      <td>-0.059527</td>\n    </tr>\n    <tr>\n      <th>5991</th>\n      <td>9</td>\n      <td>997</td>\n      <td>58270.169965</td>\n      <td>-0.957723</td>\n      <td>0.000489</td>\n      <td>0.287693</td>\n      <td>-0.342231</td>\n      <td>-0.947325</td>\n      <td>-0.000032</td>\n      <td>58270.160162</td>\n      <td>14.116994</td>\n      <td>-0.015762</td>\n      <td>-0.999261</td>\n      <td>-0.035050</td>\n      <td>1.411012</td>\n      <td>-0.368985</td>\n      <td>-2.643489</td>\n      <td>-0.059527</td>\n    </tr>\n    <tr>\n      <th>5992</th>\n      <td>9</td>\n      <td>998</td>\n      <td>58270.169965</td>\n      <td>-0.957586</td>\n      <td>-0.000229</td>\n      <td>0.288147</td>\n      <td>-0.342231</td>\n      <td>-0.947325</td>\n      <td>-0.000032</td>\n      <td>58270.160162</td>\n      <td>14.116994</td>\n      <td>-0.015762</td>\n      <td>-0.999261</td>\n      <td>-0.035050</td>\n      <td>1.410516</td>\n      <td>-0.368985</td>\n      <td>-2.643489</td>\n      <td>-0.059527</td>\n    </tr>\n    <tr>\n      <th>5993</th>\n      <td>9</td>\n      <td>999</td>\n      <td>58270.169965</td>\n      <td>-0.956710</td>\n      <td>-0.001424</td>\n      <td>0.291039</td>\n      <td>-0.342231</td>\n      <td>-0.947325</td>\n      <td>-0.000032</td>\n      <td>58270.160162</td>\n      <td>14.116994</td>\n      <td>-0.015762</td>\n      <td>-0.999261</td>\n      <td>-0.035050</td>\n      <td>1.409751</td>\n      <td>-0.368985</td>\n      <td>-2.643489</td>\n      <td>-0.059527</td>\n    </tr>\n  </tbody>\n</table>\n<p>5994 rows × 18 columns</p>\n</div>"
     },
     "metadata": {},
     "execution_count": 9
    }
   ],
   "source": [
    "dna_vec"
   ]
  },
  {
   "cell_type": "code",
   "execution_count": 10,
   "metadata": {},
   "outputs": [
    {
     "output_type": "stream",
     "name": "stdout",
     "text": [
      "Mean light time error: 2.46e-09 minutes\n"
     ]
    }
   ],
   "source": [
    "# Report light time error\n",
    "_  = light_time_adj(df=dna_vec, verbose=True)"
   ]
  },
  {
   "cell_type": "code",
   "execution_count": 11,
   "metadata": {},
   "outputs": [],
   "source": [
    "# Sharpen estimate using splined asteroid elements\n",
    "dna_elt = dna_pre.copy()\n",
    "asteroid_batch_elt(dna=dna_elt, n0=n0, n1=n1, arcmin_max=arcmin_max)"
   ]
  },
  {
   "cell_type": "code",
   "execution_count": 12,
   "metadata": {},
   "outputs": [
    {
     "output_type": "execute_result",
     "data": {
      "text/plain": [
       "      AsteroidID  DetectionID          tObs    uObs_x    uObs_y    uObs_z  \\\n",
       "0              1            1  58270.167662 -0.940203 -0.205183  0.271880   \n",
       "1              1            2  58270.167662 -0.940593 -0.207164  0.269011   \n",
       "2              1            3  58270.167662 -0.942678 -0.201138  0.266274   \n",
       "3              1            4  58270.167662 -0.944177 -0.198029  0.263275   \n",
       "4              1            5  58270.167662 -0.944884 -0.197557  0.261085   \n",
       "...          ...          ...           ...       ...       ...       ...   \n",
       "5989           9          995  58270.169965 -0.956204  0.008802  0.292568   \n",
       "5990           9          996  58270.169965 -0.955604  0.003942  0.294628   \n",
       "5991           9          997  58270.169965 -0.957723  0.000489  0.287693   \n",
       "5992           9          998  58270.169965 -0.957586 -0.000229  0.288147   \n",
       "5993           9          999  58270.169965 -0.956710 -0.001424  0.291039   \n",
       "\n",
       "        qObs_x    qObs_y    qObs_z          tAst  LightTime    uAst_x  \\\n",
       "0    -0.342267 -0.947311 -0.000032  58270.151902  22.694705 -0.750296   \n",
       "1    -0.342267 -0.947311 -0.000032  58270.151902  22.694705 -0.750296   \n",
       "2    -0.342267 -0.947311 -0.000032  58270.151902  22.694705 -0.750296   \n",
       "3    -0.342267 -0.947311 -0.000032  58270.151902  22.694705 -0.750296   \n",
       "4    -0.342267 -0.947311 -0.000032  58270.151902  22.694705 -0.750296   \n",
       "...        ...       ...       ...           ...        ...       ...   \n",
       "5989 -0.342231 -0.947325 -0.000032  58270.160162  14.116994 -0.015762   \n",
       "5990 -0.342231 -0.947325 -0.000032  58270.160162  14.116994 -0.015762   \n",
       "5991 -0.342231 -0.947325 -0.000032  58270.160162  14.116994 -0.015762   \n",
       "5992 -0.342231 -0.947325 -0.000032  58270.160162  14.116994 -0.015762   \n",
       "5993 -0.342231 -0.947325 -0.000032  58270.160162  14.116994 -0.015762   \n",
       "\n",
       "        uAst_y    uAst_z         s    qAst_x    qAst_y    qAst_z  \n",
       "0     0.638716  0.170581  0.870914 -2.389672  0.795615  0.465448  \n",
       "1     0.638716  0.170581  0.872591 -2.389672  0.795615  0.465448  \n",
       "2     0.638716  0.170581  0.866904 -2.389672  0.795615  0.465448  \n",
       "3     0.638716  0.170581  0.863901 -2.389672  0.795615  0.465448  \n",
       "4     0.638716  0.170581  0.863370 -2.389672  0.795615  0.465448  \n",
       "...        ...       ...       ...       ...       ...       ...  \n",
       "5989 -0.999261 -0.035050  1.417024 -0.368985 -2.643489 -0.059527  \n",
       "5990 -0.999261 -0.035050  1.413651 -0.368985 -2.643489 -0.059527  \n",
       "5991 -0.999261 -0.035050  1.411012 -0.368985 -2.643489 -0.059527  \n",
       "5992 -0.999261 -0.035050  1.410516 -0.368985 -2.643489 -0.059527  \n",
       "5993 -0.999261 -0.035050  1.409751 -0.368985 -2.643489 -0.059527  \n",
       "\n",
       "[5994 rows x 18 columns]"
      ],
      "text/html": "<div>\n<style scoped>\n    .dataframe tbody tr th:only-of-type {\n        vertical-align: middle;\n    }\n\n    .dataframe tbody tr th {\n        vertical-align: top;\n    }\n\n    .dataframe thead th {\n        text-align: right;\n    }\n</style>\n<table border=\"1\" class=\"dataframe\">\n  <thead>\n    <tr style=\"text-align: right;\">\n      <th></th>\n      <th>AsteroidID</th>\n      <th>DetectionID</th>\n      <th>tObs</th>\n      <th>uObs_x</th>\n      <th>uObs_y</th>\n      <th>uObs_z</th>\n      <th>qObs_x</th>\n      <th>qObs_y</th>\n      <th>qObs_z</th>\n      <th>tAst</th>\n      <th>LightTime</th>\n      <th>uAst_x</th>\n      <th>uAst_y</th>\n      <th>uAst_z</th>\n      <th>s</th>\n      <th>qAst_x</th>\n      <th>qAst_y</th>\n      <th>qAst_z</th>\n    </tr>\n  </thead>\n  <tbody>\n    <tr>\n      <th>0</th>\n      <td>1</td>\n      <td>1</td>\n      <td>58270.167662</td>\n      <td>-0.940203</td>\n      <td>-0.205183</td>\n      <td>0.271880</td>\n      <td>-0.342267</td>\n      <td>-0.947311</td>\n      <td>-0.000032</td>\n      <td>58270.151902</td>\n      <td>22.694705</td>\n      <td>-0.750296</td>\n      <td>0.638716</td>\n      <td>0.170581</td>\n      <td>0.870914</td>\n      <td>-2.389672</td>\n      <td>0.795615</td>\n      <td>0.465448</td>\n    </tr>\n    <tr>\n      <th>1</th>\n      <td>1</td>\n      <td>2</td>\n      <td>58270.167662</td>\n      <td>-0.940593</td>\n      <td>-0.207164</td>\n      <td>0.269011</td>\n      <td>-0.342267</td>\n      <td>-0.947311</td>\n      <td>-0.000032</td>\n      <td>58270.151902</td>\n      <td>22.694705</td>\n      <td>-0.750296</td>\n      <td>0.638716</td>\n      <td>0.170581</td>\n      <td>0.872591</td>\n      <td>-2.389672</td>\n      <td>0.795615</td>\n      <td>0.465448</td>\n    </tr>\n    <tr>\n      <th>2</th>\n      <td>1</td>\n      <td>3</td>\n      <td>58270.167662</td>\n      <td>-0.942678</td>\n      <td>-0.201138</td>\n      <td>0.266274</td>\n      <td>-0.342267</td>\n      <td>-0.947311</td>\n      <td>-0.000032</td>\n      <td>58270.151902</td>\n      <td>22.694705</td>\n      <td>-0.750296</td>\n      <td>0.638716</td>\n      <td>0.170581</td>\n      <td>0.866904</td>\n      <td>-2.389672</td>\n      <td>0.795615</td>\n      <td>0.465448</td>\n    </tr>\n    <tr>\n      <th>3</th>\n      <td>1</td>\n      <td>4</td>\n      <td>58270.167662</td>\n      <td>-0.944177</td>\n      <td>-0.198029</td>\n      <td>0.263275</td>\n      <td>-0.342267</td>\n      <td>-0.947311</td>\n      <td>-0.000032</td>\n      <td>58270.151902</td>\n      <td>22.694705</td>\n      <td>-0.750296</td>\n      <td>0.638716</td>\n      <td>0.170581</td>\n      <td>0.863901</td>\n      <td>-2.389672</td>\n      <td>0.795615</td>\n      <td>0.465448</td>\n    </tr>\n    <tr>\n      <th>4</th>\n      <td>1</td>\n      <td>5</td>\n      <td>58270.167662</td>\n      <td>-0.944884</td>\n      <td>-0.197557</td>\n      <td>0.261085</td>\n      <td>-0.342267</td>\n      <td>-0.947311</td>\n      <td>-0.000032</td>\n      <td>58270.151902</td>\n      <td>22.694705</td>\n      <td>-0.750296</td>\n      <td>0.638716</td>\n      <td>0.170581</td>\n      <td>0.863370</td>\n      <td>-2.389672</td>\n      <td>0.795615</td>\n      <td>0.465448</td>\n    </tr>\n    <tr>\n      <th>...</th>\n      <td>...</td>\n      <td>...</td>\n      <td>...</td>\n      <td>...</td>\n      <td>...</td>\n      <td>...</td>\n      <td>...</td>\n      <td>...</td>\n      <td>...</td>\n      <td>...</td>\n      <td>...</td>\n      <td>...</td>\n      <td>...</td>\n      <td>...</td>\n      <td>...</td>\n      <td>...</td>\n      <td>...</td>\n      <td>...</td>\n    </tr>\n    <tr>\n      <th>5989</th>\n      <td>9</td>\n      <td>995</td>\n      <td>58270.169965</td>\n      <td>-0.956204</td>\n      <td>0.008802</td>\n      <td>0.292568</td>\n      <td>-0.342231</td>\n      <td>-0.947325</td>\n      <td>-0.000032</td>\n      <td>58270.160162</td>\n      <td>14.116994</td>\n      <td>-0.015762</td>\n      <td>-0.999261</td>\n      <td>-0.035050</td>\n      <td>1.417024</td>\n      <td>-0.368985</td>\n      <td>-2.643489</td>\n      <td>-0.059527</td>\n    </tr>\n    <tr>\n      <th>5990</th>\n      <td>9</td>\n      <td>996</td>\n      <td>58270.169965</td>\n      <td>-0.955604</td>\n      <td>0.003942</td>\n      <td>0.294628</td>\n      <td>-0.342231</td>\n      <td>-0.947325</td>\n      <td>-0.000032</td>\n      <td>58270.160162</td>\n      <td>14.116994</td>\n      <td>-0.015762</td>\n      <td>-0.999261</td>\n      <td>-0.035050</td>\n      <td>1.413651</td>\n      <td>-0.368985</td>\n      <td>-2.643489</td>\n      <td>-0.059527</td>\n    </tr>\n    <tr>\n      <th>5991</th>\n      <td>9</td>\n      <td>997</td>\n      <td>58270.169965</td>\n      <td>-0.957723</td>\n      <td>0.000489</td>\n      <td>0.287693</td>\n      <td>-0.342231</td>\n      <td>-0.947325</td>\n      <td>-0.000032</td>\n      <td>58270.160162</td>\n      <td>14.116994</td>\n      <td>-0.015762</td>\n      <td>-0.999261</td>\n      <td>-0.035050</td>\n      <td>1.411012</td>\n      <td>-0.368985</td>\n      <td>-2.643489</td>\n      <td>-0.059527</td>\n    </tr>\n    <tr>\n      <th>5992</th>\n      <td>9</td>\n      <td>998</td>\n      <td>58270.169965</td>\n      <td>-0.957586</td>\n      <td>-0.000229</td>\n      <td>0.288147</td>\n      <td>-0.342231</td>\n      <td>-0.947325</td>\n      <td>-0.000032</td>\n      <td>58270.160162</td>\n      <td>14.116994</td>\n      <td>-0.015762</td>\n      <td>-0.999261</td>\n      <td>-0.035050</td>\n      <td>1.410516</td>\n      <td>-0.368985</td>\n      <td>-2.643489</td>\n      <td>-0.059527</td>\n    </tr>\n    <tr>\n      <th>5993</th>\n      <td>9</td>\n      <td>999</td>\n      <td>58270.169965</td>\n      <td>-0.956710</td>\n      <td>-0.001424</td>\n      <td>0.291039</td>\n      <td>-0.342231</td>\n      <td>-0.947325</td>\n      <td>-0.000032</td>\n      <td>58270.160162</td>\n      <td>14.116994</td>\n      <td>-0.015762</td>\n      <td>-0.999261</td>\n      <td>-0.035050</td>\n      <td>1.409751</td>\n      <td>-0.368985</td>\n      <td>-2.643489</td>\n      <td>-0.059527</td>\n    </tr>\n  </tbody>\n</table>\n<p>5994 rows × 18 columns</p>\n</div>"
     },
     "metadata": {},
     "execution_count": 12
    }
   ],
   "source": [
    "dna_elt"
   ]
  },
  {
   "cell_type": "code",
   "execution_count": 25,
   "metadata": {},
   "outputs": [
    {
     "output_type": "execute_result",
     "data": {
      "text/plain": [
       "array([1, 2, 4, 7, 8, 9])"
      ]
     },
     "metadata": {},
     "execution_count": 25
    }
   ],
   "source": [
    "np.unique(dna_pre.AsteroidID)"
   ]
  },
  {
   "cell_type": "code",
   "execution_count": 24,
   "metadata": {},
   "outputs": [
    {
     "output_type": "execute_result",
     "data": {
      "text/plain": [
       "0.01745307099674787"
      ]
     },
     "metadata": {},
     "execution_count": 24
    }
   ],
   "source": [
    "deg2dist(1.0)"
   ]
  },
  {
   "cell_type": "code",
   "execution_count": null,
   "metadata": {},
   "outputs": [],
   "source": []
  }
 ],
 "metadata": {
  "kernelspec": {
   "display_name": "kepler",
   "language": "python",
   "name": "kepler"
  },
  "language_info": {
   "codemirror_mode": {
    "name": "ipython",
    "version": 3
   },
   "file_extension": ".py",
   "mimetype": "text/x-python",
   "name": "python",
   "nbconvert_exporter": "python",
   "pygments_lexer": "ipython3",
   "version": "3.8.5"
  }
 },
 "nbformat": 4,
 "nbformat_minor": 4
}