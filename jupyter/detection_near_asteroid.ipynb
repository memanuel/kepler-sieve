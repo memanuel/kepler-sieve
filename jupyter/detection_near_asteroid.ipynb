{
 "cells": [
  {
   "cell_type": "code",
   "execution_count": 1,
   "metadata": {},
   "outputs": [],
   "source": [
    "# Core\n",
    "import numpy as np\n",
    "import pandas as pd\n",
    "from scipy.interpolate import CubicSpline\n",
    "\n",
    "# Astronomy\n",
    "import astropy\n",
    "from astropy.units import au, minute"
   ]
  },
  {
   "cell_type": "code",
   "execution_count": 2,
   "metadata": {},
   "outputs": [],
   "source": [
    "# Local imports\n",
    "import kepler_sieve\n",
    "from asteroid_data import load_ast_elements, load_ast_vectors\n",
    "from asteroid_spline import get_df_shape, spline_ast_data, make_spline_df\n",
    "from asteroid_direction import calc_dir_ast2obs\n",
    "from astro_utils import deg2dist, dist2sec\n",
    "from orbital_element import elt2pos\n",
    "from planets_interp import get_sun_pos\n",
    "from db_utils import sp2df, df2db"
   ]
  },
  {
   "cell_type": "code",
   "execution_count": 3,
   "metadata": {},
   "outputs": [],
   "source": [
    "from detection_near_ast import get_data_detections, get_data_ast_dir, asteroid_batch_prelim, asteroid_batch_vec, asteroid_batch_elt, light_time_adj\n",
    "from detection_near_ast import cols_u_obs, cols_q_obs, cols_u_ast, cols_v_ast, cols_q_ast, mjd0, mjd1, c"
   ]
  },
  {
   "cell_type": "code",
   "execution_count": 4,
   "metadata": {},
   "outputs": [],
   "source": [
    "# Inputs\n",
    "d0 = 901\n",
    "d1 = 905\n",
    "n0 = 1\n",
    "n1 = 3\n",
    "arcmin_max = 60*160"
   ]
  },
  {
   "cell_type": "code",
   "execution_count": 5,
   "metadata": {},
   "outputs": [
    {
     "output_type": "execute_result",
     "data": {
      "text/plain": [
       "             DetectionID          tObs    uObs_x    uObs_y    uObs_z  \\\n",
       "DetectionID                                                            \n",
       "901                  901  58270.168125 -0.914316 -0.028198  0.404018   \n",
       "902                  902  58270.168125 -0.911795 -0.021422  0.410086   \n",
       "903                  903  58270.169965 -0.941895 -0.058932  0.330698   \n",
       "904                  904  58270.169965 -0.941838 -0.058847  0.330874   \n",
       "\n",
       "               qObs_x    qObs_y    qObs_z  \n",
       "DetectionID                                \n",
       "901         -0.342260 -0.947314 -0.000032  \n",
       "902         -0.342260 -0.947314 -0.000032  \n",
       "903         -0.342231 -0.947325 -0.000032  \n",
       "904         -0.342231 -0.947325 -0.000032  "
      ],
      "text/html": "<div>\n<style scoped>\n    .dataframe tbody tr th:only-of-type {\n        vertical-align: middle;\n    }\n\n    .dataframe tbody tr th {\n        vertical-align: top;\n    }\n\n    .dataframe thead th {\n        text-align: right;\n    }\n</style>\n<table border=\"1\" class=\"dataframe\">\n  <thead>\n    <tr style=\"text-align: right;\">\n      <th></th>\n      <th>DetectionID</th>\n      <th>tObs</th>\n      <th>uObs_x</th>\n      <th>uObs_y</th>\n      <th>uObs_z</th>\n      <th>qObs_x</th>\n      <th>qObs_y</th>\n      <th>qObs_z</th>\n    </tr>\n    <tr>\n      <th>DetectionID</th>\n      <th></th>\n      <th></th>\n      <th></th>\n      <th></th>\n      <th></th>\n      <th></th>\n      <th></th>\n      <th></th>\n    </tr>\n  </thead>\n  <tbody>\n    <tr>\n      <th>901</th>\n      <td>901</td>\n      <td>58270.168125</td>\n      <td>-0.914316</td>\n      <td>-0.028198</td>\n      <td>0.404018</td>\n      <td>-0.342260</td>\n      <td>-0.947314</td>\n      <td>-0.000032</td>\n    </tr>\n    <tr>\n      <th>902</th>\n      <td>902</td>\n      <td>58270.168125</td>\n      <td>-0.911795</td>\n      <td>-0.021422</td>\n      <td>0.410086</td>\n      <td>-0.342260</td>\n      <td>-0.947314</td>\n      <td>-0.000032</td>\n    </tr>\n    <tr>\n      <th>903</th>\n      <td>903</td>\n      <td>58270.169965</td>\n      <td>-0.941895</td>\n      <td>-0.058932</td>\n      <td>0.330698</td>\n      <td>-0.342231</td>\n      <td>-0.947325</td>\n      <td>-0.000032</td>\n    </tr>\n    <tr>\n      <th>904</th>\n      <td>904</td>\n      <td>58270.169965</td>\n      <td>-0.941838</td>\n      <td>-0.058847</td>\n      <td>0.330874</td>\n      <td>-0.342231</td>\n      <td>-0.947325</td>\n      <td>-0.000032</td>\n    </tr>\n  </tbody>\n</table>\n</div>"
     },
     "metadata": {},
     "execution_count": 5
    }
   ],
   "source": [
    "# Get detections\n",
    "det = get_data_detections(d0=d0, d1=d1)\n",
    "det"
   ]
  },
  {
   "cell_type": "code",
   "execution_count": 6,
   "metadata": {},
   "outputs": [
    {
     "output_type": "execute_result",
     "data": {
      "text/plain": [
       "     AsteroidID    TimeID      mjd    uAst_x    uAst_y    uAst_z  LightTime\n",
       "0             1  83888640  58256.0 -0.695441  0.695787  0.179561  21.312345\n",
       "1             1  83894400  58260.0 -0.710843  0.680749  0.176872  21.715483\n",
       "2             1  83900160  58264.0 -0.726426  0.664782  0.174268  22.114047\n",
       "3             1  83905920  58268.0 -0.742106  0.647905  0.171747  22.507469\n",
       "4             1  83911680  58272.0 -0.757805  0.630133  0.169305  22.895268\n",
       "..          ...       ...      ...       ...       ...       ...        ...\n",
       "525           2  85386240  59296.0  0.876943 -0.416402  0.239959  34.756723\n",
       "526           2  85392000  59300.0  0.886408 -0.397316  0.237530  34.511296\n",
       "527           2  85397760  59304.0  0.895327 -0.378259  0.235178  34.245183\n",
       "528           2  85403520  59308.0  0.903706 -0.359268  0.232898  33.958757\n",
       "529           2  85409280  59312.0  0.911550 -0.340382  0.230687  33.652358\n",
       "\n",
       "[530 rows x 7 columns]"
      ],
      "text/html": "<div>\n<style scoped>\n    .dataframe tbody tr th:only-of-type {\n        vertical-align: middle;\n    }\n\n    .dataframe tbody tr th {\n        vertical-align: top;\n    }\n\n    .dataframe thead th {\n        text-align: right;\n    }\n</style>\n<table border=\"1\" class=\"dataframe\">\n  <thead>\n    <tr style=\"text-align: right;\">\n      <th></th>\n      <th>AsteroidID</th>\n      <th>TimeID</th>\n      <th>mjd</th>\n      <th>uAst_x</th>\n      <th>uAst_y</th>\n      <th>uAst_z</th>\n      <th>LightTime</th>\n    </tr>\n  </thead>\n  <tbody>\n    <tr>\n      <th>0</th>\n      <td>1</td>\n      <td>83888640</td>\n      <td>58256.0</td>\n      <td>-0.695441</td>\n      <td>0.695787</td>\n      <td>0.179561</td>\n      <td>21.312345</td>\n    </tr>\n    <tr>\n      <th>1</th>\n      <td>1</td>\n      <td>83894400</td>\n      <td>58260.0</td>\n      <td>-0.710843</td>\n      <td>0.680749</td>\n      <td>0.176872</td>\n      <td>21.715483</td>\n    </tr>\n    <tr>\n      <th>2</th>\n      <td>1</td>\n      <td>83900160</td>\n      <td>58264.0</td>\n      <td>-0.726426</td>\n      <td>0.664782</td>\n      <td>0.174268</td>\n      <td>22.114047</td>\n    </tr>\n    <tr>\n      <th>3</th>\n      <td>1</td>\n      <td>83905920</td>\n      <td>58268.0</td>\n      <td>-0.742106</td>\n      <td>0.647905</td>\n      <td>0.171747</td>\n      <td>22.507469</td>\n    </tr>\n    <tr>\n      <th>4</th>\n      <td>1</td>\n      <td>83911680</td>\n      <td>58272.0</td>\n      <td>-0.757805</td>\n      <td>0.630133</td>\n      <td>0.169305</td>\n      <td>22.895268</td>\n    </tr>\n    <tr>\n      <th>...</th>\n      <td>...</td>\n      <td>...</td>\n      <td>...</td>\n      <td>...</td>\n      <td>...</td>\n      <td>...</td>\n      <td>...</td>\n    </tr>\n    <tr>\n      <th>525</th>\n      <td>2</td>\n      <td>85386240</td>\n      <td>59296.0</td>\n      <td>0.876943</td>\n      <td>-0.416402</td>\n      <td>0.239959</td>\n      <td>34.756723</td>\n    </tr>\n    <tr>\n      <th>526</th>\n      <td>2</td>\n      <td>85392000</td>\n      <td>59300.0</td>\n      <td>0.886408</td>\n      <td>-0.397316</td>\n      <td>0.237530</td>\n      <td>34.511296</td>\n    </tr>\n    <tr>\n      <th>527</th>\n      <td>2</td>\n      <td>85397760</td>\n      <td>59304.0</td>\n      <td>0.895327</td>\n      <td>-0.378259</td>\n      <td>0.235178</td>\n      <td>34.245183</td>\n    </tr>\n    <tr>\n      <th>528</th>\n      <td>2</td>\n      <td>85403520</td>\n      <td>59308.0</td>\n      <td>0.903706</td>\n      <td>-0.359268</td>\n      <td>0.232898</td>\n      <td>33.958757</td>\n    </tr>\n    <tr>\n      <th>529</th>\n      <td>2</td>\n      <td>85409280</td>\n      <td>59312.0</td>\n      <td>0.911550</td>\n      <td>-0.340382</td>\n      <td>0.230687</td>\n      <td>33.652358</td>\n    </tr>\n  </tbody>\n</table>\n<p>530 rows × 7 columns</p>\n</div>"
     },
     "metadata": {},
     "execution_count": 6
    }
   ],
   "source": [
    "# Get asteroid directions\n",
    "ast_in = get_data_ast_dir(n0=n0, n1=n1)\n",
    "ast_in"
   ]
  },
  {
   "cell_type": "code",
   "execution_count": 7,
   "metadata": {},
   "outputs": [],
   "source": [
    "# First pass at detections near asteroids\n",
    "dna_pre = asteroid_batch_prelim(det=det, n0=n0, n1=n1, arcmin_max=arcmin_max)"
   ]
  },
  {
   "cell_type": "code",
   "execution_count": 8,
   "metadata": {},
   "outputs": [
    {
     "output_type": "execute_result",
     "data": {
      "text/plain": [
       "   AsteroidID  DetectionID          tObs    uObs_x    uObs_y    uObs_z  \\\n",
       "0           1          901  58270.168125 -0.914316 -0.028198  0.404018   \n",
       "1           1          902  58270.168125 -0.911795 -0.021422  0.410086   \n",
       "2           1          903  58270.169965 -0.941895 -0.058932  0.330698   \n",
       "3           1          904  58270.169965 -0.941838 -0.058847  0.330874   \n",
       "4           2          901  58270.168125 -0.914316 -0.028198  0.404018   \n",
       "5           2          902  58270.168125 -0.911795 -0.021422  0.410086   \n",
       "6           2          903  58270.169965 -0.941895 -0.058932  0.330698   \n",
       "7           2          904  58270.169965 -0.941838 -0.058847  0.330874   \n",
       "\n",
       "     qObs_x    qObs_y    qObs_z          tAst  LightTime    uAst_x    uAst_y  \\\n",
       "0 -0.342260 -0.947314 -0.000032  58270.168125  22.718397 -0.750618  0.638382   \n",
       "1 -0.342260 -0.947314 -0.000032  58270.168125  22.718397 -0.750618  0.638382   \n",
       "2 -0.342231 -0.947325 -0.000032  58270.169965  22.718575 -0.750625  0.638374   \n",
       "3 -0.342231 -0.947325 -0.000032  58270.169965  22.718575 -0.750625  0.638374   \n",
       "4 -0.342260 -0.947314 -0.000032  58270.168125  24.277859 -0.096585  0.916142   \n",
       "5 -0.342260 -0.947314 -0.000032  58270.168125  24.277859 -0.096585  0.916142   \n",
       "6 -0.342231 -0.947325 -0.000032  58270.169965  24.277919 -0.096603  0.916141   \n",
       "7 -0.342231 -0.947325 -0.000032  58270.169965  24.277919 -0.096603  0.916141   \n",
       "\n",
       "     uAst_z         s  \n",
       "0  0.170414  0.725050  \n",
       "1  0.170414  0.720252  \n",
       "2  0.170413  0.740616  \n",
       "3  0.170413  0.740559  \n",
       "4 -0.389044  1.479665  \n",
       "5 -0.389044  1.477228  \n",
       "6 -0.389041  1.477603  \n",
       "7 -0.389041  1.477601  "
      ],
      "text/html": "<div>\n<style scoped>\n    .dataframe tbody tr th:only-of-type {\n        vertical-align: middle;\n    }\n\n    .dataframe tbody tr th {\n        vertical-align: top;\n    }\n\n    .dataframe thead th {\n        text-align: right;\n    }\n</style>\n<table border=\"1\" class=\"dataframe\">\n  <thead>\n    <tr style=\"text-align: right;\">\n      <th></th>\n      <th>AsteroidID</th>\n      <th>DetectionID</th>\n      <th>tObs</th>\n      <th>uObs_x</th>\n      <th>uObs_y</th>\n      <th>uObs_z</th>\n      <th>qObs_x</th>\n      <th>qObs_y</th>\n      <th>qObs_z</th>\n      <th>tAst</th>\n      <th>LightTime</th>\n      <th>uAst_x</th>\n      <th>uAst_y</th>\n      <th>uAst_z</th>\n      <th>s</th>\n    </tr>\n  </thead>\n  <tbody>\n    <tr>\n      <th>0</th>\n      <td>1</td>\n      <td>901</td>\n      <td>58270.168125</td>\n      <td>-0.914316</td>\n      <td>-0.028198</td>\n      <td>0.404018</td>\n      <td>-0.342260</td>\n      <td>-0.947314</td>\n      <td>-0.000032</td>\n      <td>58270.168125</td>\n      <td>22.718397</td>\n      <td>-0.750618</td>\n      <td>0.638382</td>\n      <td>0.170414</td>\n      <td>0.725050</td>\n    </tr>\n    <tr>\n      <th>1</th>\n      <td>1</td>\n      <td>902</td>\n      <td>58270.168125</td>\n      <td>-0.911795</td>\n      <td>-0.021422</td>\n      <td>0.410086</td>\n      <td>-0.342260</td>\n      <td>-0.947314</td>\n      <td>-0.000032</td>\n      <td>58270.168125</td>\n      <td>22.718397</td>\n      <td>-0.750618</td>\n      <td>0.638382</td>\n      <td>0.170414</td>\n      <td>0.720252</td>\n    </tr>\n    <tr>\n      <th>2</th>\n      <td>1</td>\n      <td>903</td>\n      <td>58270.169965</td>\n      <td>-0.941895</td>\n      <td>-0.058932</td>\n      <td>0.330698</td>\n      <td>-0.342231</td>\n      <td>-0.947325</td>\n      <td>-0.000032</td>\n      <td>58270.169965</td>\n      <td>22.718575</td>\n      <td>-0.750625</td>\n      <td>0.638374</td>\n      <td>0.170413</td>\n      <td>0.740616</td>\n    </tr>\n    <tr>\n      <th>3</th>\n      <td>1</td>\n      <td>904</td>\n      <td>58270.169965</td>\n      <td>-0.941838</td>\n      <td>-0.058847</td>\n      <td>0.330874</td>\n      <td>-0.342231</td>\n      <td>-0.947325</td>\n      <td>-0.000032</td>\n      <td>58270.169965</td>\n      <td>22.718575</td>\n      <td>-0.750625</td>\n      <td>0.638374</td>\n      <td>0.170413</td>\n      <td>0.740559</td>\n    </tr>\n    <tr>\n      <th>4</th>\n      <td>2</td>\n      <td>901</td>\n      <td>58270.168125</td>\n      <td>-0.914316</td>\n      <td>-0.028198</td>\n      <td>0.404018</td>\n      <td>-0.342260</td>\n      <td>-0.947314</td>\n      <td>-0.000032</td>\n      <td>58270.168125</td>\n      <td>24.277859</td>\n      <td>-0.096585</td>\n      <td>0.916142</td>\n      <td>-0.389044</td>\n      <td>1.479665</td>\n    </tr>\n    <tr>\n      <th>5</th>\n      <td>2</td>\n      <td>902</td>\n      <td>58270.168125</td>\n      <td>-0.911795</td>\n      <td>-0.021422</td>\n      <td>0.410086</td>\n      <td>-0.342260</td>\n      <td>-0.947314</td>\n      <td>-0.000032</td>\n      <td>58270.168125</td>\n      <td>24.277859</td>\n      <td>-0.096585</td>\n      <td>0.916142</td>\n      <td>-0.389044</td>\n      <td>1.477228</td>\n    </tr>\n    <tr>\n      <th>6</th>\n      <td>2</td>\n      <td>903</td>\n      <td>58270.169965</td>\n      <td>-0.941895</td>\n      <td>-0.058932</td>\n      <td>0.330698</td>\n      <td>-0.342231</td>\n      <td>-0.947325</td>\n      <td>-0.000032</td>\n      <td>58270.169965</td>\n      <td>24.277919</td>\n      <td>-0.096603</td>\n      <td>0.916141</td>\n      <td>-0.389041</td>\n      <td>1.477603</td>\n    </tr>\n    <tr>\n      <th>7</th>\n      <td>2</td>\n      <td>904</td>\n      <td>58270.169965</td>\n      <td>-0.941838</td>\n      <td>-0.058847</td>\n      <td>0.330874</td>\n      <td>-0.342231</td>\n      <td>-0.947325</td>\n      <td>-0.000032</td>\n      <td>58270.169965</td>\n      <td>24.277919</td>\n      <td>-0.096603</td>\n      <td>0.916141</td>\n      <td>-0.389041</td>\n      <td>1.477601</td>\n    </tr>\n  </tbody>\n</table>\n</div>"
     },
     "metadata": {},
     "execution_count": 8
    }
   ],
   "source": [
    "dna_pre"
   ]
  },
  {
   "cell_type": "code",
   "execution_count": 9,
   "metadata": {},
   "outputs": [],
   "source": [
    "# Sharpen estimate using splined asteroid vectors\n",
    "dna_vec = dna_pre.copy()\n",
    "asteroid_batch_vec(dna=dna_vec, n0=n0, n1=n1, arcmin_max=arcmin_max)"
   ]
  },
  {
   "cell_type": "code",
   "execution_count": 10,
   "metadata": {},
   "outputs": [
    {
     "output_type": "execute_result",
     "data": {
      "text/plain": [
       "   AsteroidID  DetectionID          tObs    uObs_x    uObs_y    uObs_z  \\\n",
       "0           1          901  58270.168125 -0.914316 -0.028198  0.404018   \n",
       "1           1          902  58270.168125 -0.911795 -0.021422  0.410086   \n",
       "2           1          903  58270.169965 -0.941895 -0.058932  0.330698   \n",
       "3           1          904  58270.169965 -0.941838 -0.058847  0.330874   \n",
       "4           2          901  58270.168125 -0.914316 -0.028198  0.404018   \n",
       "5           2          902  58270.168125 -0.911795 -0.021422  0.410086   \n",
       "6           2          903  58270.169965 -0.941895 -0.058932  0.330698   \n",
       "7           2          904  58270.169965 -0.941838 -0.058847  0.330874   \n",
       "\n",
       "     qObs_x    qObs_y    qObs_z          tAst  LightTime    uAst_x    uAst_y  \\\n",
       "0 -0.342260 -0.947314 -0.000032  58270.152365  22.694751 -0.750298  0.638714   \n",
       "1 -0.342260 -0.947314 -0.000032  58270.152365  22.694751 -0.750298  0.638714   \n",
       "2 -0.342231 -0.947325 -0.000032  58270.154205  22.694932 -0.750305  0.638706   \n",
       "3 -0.342231 -0.947325 -0.000032  58270.154205  22.694932 -0.750305  0.638706   \n",
       "4 -0.342260 -0.947314 -0.000032  58270.151272  24.267738 -0.095538  0.916171   \n",
       "5 -0.342260 -0.947314 -0.000032  58270.151272  24.267738 -0.095538  0.916171   \n",
       "6 -0.342231 -0.947325 -0.000032  58270.153113  24.267801 -0.095555  0.916171   \n",
       "7 -0.342231 -0.947325 -0.000032  58270.153113  24.267801 -0.095555  0.916171   \n",
       "\n",
       "     uAst_z         s    qAst_x    qAst_y    qAst_z  \n",
       "0  0.170580  0.725373 -2.389674  0.795610  0.465448  \n",
       "1  0.170580  0.720572 -2.389674  0.795610  0.465448  \n",
       "2  0.170579  0.740975 -2.389680  0.795591  0.465449  \n",
       "3  0.170579  0.740918 -2.389680  0.795591  0.465449  \n",
       "4 -0.389233  1.480364 -0.621033  1.726017 -1.135789  \n",
       "5 -0.389233  1.477927 -0.621033  1.726017 -1.135789  \n",
       "6 -0.389230  1.478314 -0.621055  1.726011 -1.135783  \n",
       "7 -0.389230  1.478312 -0.621055  1.726011 -1.135783  "
      ],
      "text/html": "<div>\n<style scoped>\n    .dataframe tbody tr th:only-of-type {\n        vertical-align: middle;\n    }\n\n    .dataframe tbody tr th {\n        vertical-align: top;\n    }\n\n    .dataframe thead th {\n        text-align: right;\n    }\n</style>\n<table border=\"1\" class=\"dataframe\">\n  <thead>\n    <tr style=\"text-align: right;\">\n      <th></th>\n      <th>AsteroidID</th>\n      <th>DetectionID</th>\n      <th>tObs</th>\n      <th>uObs_x</th>\n      <th>uObs_y</th>\n      <th>uObs_z</th>\n      <th>qObs_x</th>\n      <th>qObs_y</th>\n      <th>qObs_z</th>\n      <th>tAst</th>\n      <th>LightTime</th>\n      <th>uAst_x</th>\n      <th>uAst_y</th>\n      <th>uAst_z</th>\n      <th>s</th>\n      <th>qAst_x</th>\n      <th>qAst_y</th>\n      <th>qAst_z</th>\n    </tr>\n  </thead>\n  <tbody>\n    <tr>\n      <th>0</th>\n      <td>1</td>\n      <td>901</td>\n      <td>58270.168125</td>\n      <td>-0.914316</td>\n      <td>-0.028198</td>\n      <td>0.404018</td>\n      <td>-0.342260</td>\n      <td>-0.947314</td>\n      <td>-0.000032</td>\n      <td>58270.152365</td>\n      <td>22.694751</td>\n      <td>-0.750298</td>\n      <td>0.638714</td>\n      <td>0.170580</td>\n      <td>0.725373</td>\n      <td>-2.389674</td>\n      <td>0.795610</td>\n      <td>0.465448</td>\n    </tr>\n    <tr>\n      <th>1</th>\n      <td>1</td>\n      <td>902</td>\n      <td>58270.168125</td>\n      <td>-0.911795</td>\n      <td>-0.021422</td>\n      <td>0.410086</td>\n      <td>-0.342260</td>\n      <td>-0.947314</td>\n      <td>-0.000032</td>\n      <td>58270.152365</td>\n      <td>22.694751</td>\n      <td>-0.750298</td>\n      <td>0.638714</td>\n      <td>0.170580</td>\n      <td>0.720572</td>\n      <td>-2.389674</td>\n      <td>0.795610</td>\n      <td>0.465448</td>\n    </tr>\n    <tr>\n      <th>2</th>\n      <td>1</td>\n      <td>903</td>\n      <td>58270.169965</td>\n      <td>-0.941895</td>\n      <td>-0.058932</td>\n      <td>0.330698</td>\n      <td>-0.342231</td>\n      <td>-0.947325</td>\n      <td>-0.000032</td>\n      <td>58270.154205</td>\n      <td>22.694932</td>\n      <td>-0.750305</td>\n      <td>0.638706</td>\n      <td>0.170579</td>\n      <td>0.740975</td>\n      <td>-2.389680</td>\n      <td>0.795591</td>\n      <td>0.465449</td>\n    </tr>\n    <tr>\n      <th>3</th>\n      <td>1</td>\n      <td>904</td>\n      <td>58270.169965</td>\n      <td>-0.941838</td>\n      <td>-0.058847</td>\n      <td>0.330874</td>\n      <td>-0.342231</td>\n      <td>-0.947325</td>\n      <td>-0.000032</td>\n      <td>58270.154205</td>\n      <td>22.694932</td>\n      <td>-0.750305</td>\n      <td>0.638706</td>\n      <td>0.170579</td>\n      <td>0.740918</td>\n      <td>-2.389680</td>\n      <td>0.795591</td>\n      <td>0.465449</td>\n    </tr>\n    <tr>\n      <th>4</th>\n      <td>2</td>\n      <td>901</td>\n      <td>58270.168125</td>\n      <td>-0.914316</td>\n      <td>-0.028198</td>\n      <td>0.404018</td>\n      <td>-0.342260</td>\n      <td>-0.947314</td>\n      <td>-0.000032</td>\n      <td>58270.151272</td>\n      <td>24.267738</td>\n      <td>-0.095538</td>\n      <td>0.916171</td>\n      <td>-0.389233</td>\n      <td>1.480364</td>\n      <td>-0.621033</td>\n      <td>1.726017</td>\n      <td>-1.135789</td>\n    </tr>\n    <tr>\n      <th>5</th>\n      <td>2</td>\n      <td>902</td>\n      <td>58270.168125</td>\n      <td>-0.911795</td>\n      <td>-0.021422</td>\n      <td>0.410086</td>\n      <td>-0.342260</td>\n      <td>-0.947314</td>\n      <td>-0.000032</td>\n      <td>58270.151272</td>\n      <td>24.267738</td>\n      <td>-0.095538</td>\n      <td>0.916171</td>\n      <td>-0.389233</td>\n      <td>1.477927</td>\n      <td>-0.621033</td>\n      <td>1.726017</td>\n      <td>-1.135789</td>\n    </tr>\n    <tr>\n      <th>6</th>\n      <td>2</td>\n      <td>903</td>\n      <td>58270.169965</td>\n      <td>-0.941895</td>\n      <td>-0.058932</td>\n      <td>0.330698</td>\n      <td>-0.342231</td>\n      <td>-0.947325</td>\n      <td>-0.000032</td>\n      <td>58270.153113</td>\n      <td>24.267801</td>\n      <td>-0.095555</td>\n      <td>0.916171</td>\n      <td>-0.389230</td>\n      <td>1.478314</td>\n      <td>-0.621055</td>\n      <td>1.726011</td>\n      <td>-1.135783</td>\n    </tr>\n    <tr>\n      <th>7</th>\n      <td>2</td>\n      <td>904</td>\n      <td>58270.169965</td>\n      <td>-0.941838</td>\n      <td>-0.058847</td>\n      <td>0.330874</td>\n      <td>-0.342231</td>\n      <td>-0.947325</td>\n      <td>-0.000032</td>\n      <td>58270.153113</td>\n      <td>24.267801</td>\n      <td>-0.095555</td>\n      <td>0.916171</td>\n      <td>-0.389230</td>\n      <td>1.478312</td>\n      <td>-0.621055</td>\n      <td>1.726011</td>\n      <td>-1.135783</td>\n    </tr>\n  </tbody>\n</table>\n</div>"
     },
     "metadata": {},
     "execution_count": 10
    }
   ],
   "source": [
    "dna_vec"
   ]
  },
  {
   "cell_type": "code",
   "execution_count": 11,
   "metadata": {},
   "outputs": [
    {
     "output_type": "stream",
     "name": "stdout",
     "text": [
      "Mean light time error: 3.86e-09 minutes\n"
     ]
    }
   ],
   "source": [
    "# Report light time error\n",
    "_  = light_time_adj(df=dna_vec, verbose=True)"
   ]
  },
  {
   "cell_type": "code",
   "execution_count": 14,
   "metadata": {},
   "outputs": [],
   "source": [
    "# Sharpen estimate using splined asteroid elements\n",
    "dna_elt = dna_pre.copy()\n",
    "asteroid_batch_elt(dna=dna_elt, n0=n0, n1=n1, arcmin_max=arcmin_max)"
   ]
  },
  {
   "cell_type": "code",
   "execution_count": 16,
   "metadata": {},
   "outputs": [
    {
     "output_type": "execute_result",
     "data": {
      "text/plain": [
       "   AsteroidID  DetectionID          tObs    uObs_x    uObs_y    uObs_z  \\\n",
       "0           1          901  58270.168125 -0.914316 -0.028198  0.404018   \n",
       "1           1          902  58270.168125 -0.911795 -0.021422  0.410086   \n",
       "2           1          903  58270.169965 -0.941895 -0.058932  0.330698   \n",
       "3           1          904  58270.169965 -0.941838 -0.058847  0.330874   \n",
       "4           2          901  58270.168125 -0.914316 -0.028198  0.404018   \n",
       "5           2          902  58270.168125 -0.911795 -0.021422  0.410086   \n",
       "6           2          903  58270.169965 -0.941895 -0.058932  0.330698   \n",
       "7           2          904  58270.169965 -0.941838 -0.058847  0.330874   \n",
       "\n",
       "     qObs_x    qObs_y    qObs_z          tAst  LightTime    uAst_x    uAst_y  \\\n",
       "0 -0.342260 -0.947314 -0.000032  58270.152365  22.694751 -0.750298  0.638714   \n",
       "1 -0.342260 -0.947314 -0.000032  58270.152365  22.694751 -0.750298  0.638714   \n",
       "2 -0.342231 -0.947325 -0.000032  58270.154205  22.694932 -0.750305  0.638706   \n",
       "3 -0.342231 -0.947325 -0.000032  58270.154205  22.694932 -0.750305  0.638706   \n",
       "4 -0.342260 -0.947314 -0.000032  58270.151272  24.267738 -0.095538  0.916171   \n",
       "5 -0.342260 -0.947314 -0.000032  58270.151272  24.267738 -0.095538  0.916171   \n",
       "6 -0.342231 -0.947325 -0.000032  58270.153113  24.267801 -0.095555  0.916171   \n",
       "7 -0.342231 -0.947325 -0.000032  58270.153113  24.267801 -0.095555  0.916171   \n",
       "\n",
       "     uAst_z         s    qAst_x    qAst_y    qAst_z  \n",
       "0  0.170580  0.725373 -2.389674  0.795610  0.465448  \n",
       "1  0.170580  0.720572 -2.389674  0.795610  0.465448  \n",
       "2  0.170579  0.740975 -2.389680  0.795591  0.465449  \n",
       "3  0.170579  0.740918 -2.389680  0.795591  0.465449  \n",
       "4 -0.389233  1.480364 -0.621033  1.726017 -1.135789  \n",
       "5 -0.389233  1.477927 -0.621033  1.726017 -1.135789  \n",
       "6 -0.389230  1.478314 -0.621055  1.726011 -1.135783  \n",
       "7 -0.389230  1.478312 -0.621055  1.726011 -1.135783  "
      ],
      "text/html": "<div>\n<style scoped>\n    .dataframe tbody tr th:only-of-type {\n        vertical-align: middle;\n    }\n\n    .dataframe tbody tr th {\n        vertical-align: top;\n    }\n\n    .dataframe thead th {\n        text-align: right;\n    }\n</style>\n<table border=\"1\" class=\"dataframe\">\n  <thead>\n    <tr style=\"text-align: right;\">\n      <th></th>\n      <th>AsteroidID</th>\n      <th>DetectionID</th>\n      <th>tObs</th>\n      <th>uObs_x</th>\n      <th>uObs_y</th>\n      <th>uObs_z</th>\n      <th>qObs_x</th>\n      <th>qObs_y</th>\n      <th>qObs_z</th>\n      <th>tAst</th>\n      <th>LightTime</th>\n      <th>uAst_x</th>\n      <th>uAst_y</th>\n      <th>uAst_z</th>\n      <th>s</th>\n      <th>qAst_x</th>\n      <th>qAst_y</th>\n      <th>qAst_z</th>\n    </tr>\n  </thead>\n  <tbody>\n    <tr>\n      <th>0</th>\n      <td>1</td>\n      <td>901</td>\n      <td>58270.168125</td>\n      <td>-0.914316</td>\n      <td>-0.028198</td>\n      <td>0.404018</td>\n      <td>-0.342260</td>\n      <td>-0.947314</td>\n      <td>-0.000032</td>\n      <td>58270.152365</td>\n      <td>22.694751</td>\n      <td>-0.750298</td>\n      <td>0.638714</td>\n      <td>0.170580</td>\n      <td>0.725373</td>\n      <td>-2.389674</td>\n      <td>0.795610</td>\n      <td>0.465448</td>\n    </tr>\n    <tr>\n      <th>1</th>\n      <td>1</td>\n      <td>902</td>\n      <td>58270.168125</td>\n      <td>-0.911795</td>\n      <td>-0.021422</td>\n      <td>0.410086</td>\n      <td>-0.342260</td>\n      <td>-0.947314</td>\n      <td>-0.000032</td>\n      <td>58270.152365</td>\n      <td>22.694751</td>\n      <td>-0.750298</td>\n      <td>0.638714</td>\n      <td>0.170580</td>\n      <td>0.720572</td>\n      <td>-2.389674</td>\n      <td>0.795610</td>\n      <td>0.465448</td>\n    </tr>\n    <tr>\n      <th>2</th>\n      <td>1</td>\n      <td>903</td>\n      <td>58270.169965</td>\n      <td>-0.941895</td>\n      <td>-0.058932</td>\n      <td>0.330698</td>\n      <td>-0.342231</td>\n      <td>-0.947325</td>\n      <td>-0.000032</td>\n      <td>58270.154205</td>\n      <td>22.694932</td>\n      <td>-0.750305</td>\n      <td>0.638706</td>\n      <td>0.170579</td>\n      <td>0.740975</td>\n      <td>-2.389680</td>\n      <td>0.795591</td>\n      <td>0.465449</td>\n    </tr>\n    <tr>\n      <th>3</th>\n      <td>1</td>\n      <td>904</td>\n      <td>58270.169965</td>\n      <td>-0.941838</td>\n      <td>-0.058847</td>\n      <td>0.330874</td>\n      <td>-0.342231</td>\n      <td>-0.947325</td>\n      <td>-0.000032</td>\n      <td>58270.154205</td>\n      <td>22.694932</td>\n      <td>-0.750305</td>\n      <td>0.638706</td>\n      <td>0.170579</td>\n      <td>0.740918</td>\n      <td>-2.389680</td>\n      <td>0.795591</td>\n      <td>0.465449</td>\n    </tr>\n    <tr>\n      <th>4</th>\n      <td>2</td>\n      <td>901</td>\n      <td>58270.168125</td>\n      <td>-0.914316</td>\n      <td>-0.028198</td>\n      <td>0.404018</td>\n      <td>-0.342260</td>\n      <td>-0.947314</td>\n      <td>-0.000032</td>\n      <td>58270.151272</td>\n      <td>24.267738</td>\n      <td>-0.095538</td>\n      <td>0.916171</td>\n      <td>-0.389233</td>\n      <td>1.480364</td>\n      <td>-0.621033</td>\n      <td>1.726017</td>\n      <td>-1.135789</td>\n    </tr>\n    <tr>\n      <th>5</th>\n      <td>2</td>\n      <td>902</td>\n      <td>58270.168125</td>\n      <td>-0.911795</td>\n      <td>-0.021422</td>\n      <td>0.410086</td>\n      <td>-0.342260</td>\n      <td>-0.947314</td>\n      <td>-0.000032</td>\n      <td>58270.151272</td>\n      <td>24.267738</td>\n      <td>-0.095538</td>\n      <td>0.916171</td>\n      <td>-0.389233</td>\n      <td>1.477927</td>\n      <td>-0.621033</td>\n      <td>1.726017</td>\n      <td>-1.135789</td>\n    </tr>\n    <tr>\n      <th>6</th>\n      <td>2</td>\n      <td>903</td>\n      <td>58270.169965</td>\n      <td>-0.941895</td>\n      <td>-0.058932</td>\n      <td>0.330698</td>\n      <td>-0.342231</td>\n      <td>-0.947325</td>\n      <td>-0.000032</td>\n      <td>58270.153113</td>\n      <td>24.267801</td>\n      <td>-0.095555</td>\n      <td>0.916171</td>\n      <td>-0.389230</td>\n      <td>1.478314</td>\n      <td>-0.621055</td>\n      <td>1.726011</td>\n      <td>-1.135783</td>\n    </tr>\n    <tr>\n      <th>7</th>\n      <td>2</td>\n      <td>904</td>\n      <td>58270.169965</td>\n      <td>-0.941838</td>\n      <td>-0.058847</td>\n      <td>0.330874</td>\n      <td>-0.342231</td>\n      <td>-0.947325</td>\n      <td>-0.000032</td>\n      <td>58270.153113</td>\n      <td>24.267801</td>\n      <td>-0.095555</td>\n      <td>0.916171</td>\n      <td>-0.389230</td>\n      <td>1.478312</td>\n      <td>-0.621055</td>\n      <td>1.726011</td>\n      <td>-1.135783</td>\n    </tr>\n  </tbody>\n</table>\n</div>"
     },
     "metadata": {},
     "execution_count": 16
    }
   ],
   "source": [
    "dna_elt"
   ]
  },
  {
   "cell_type": "code",
   "execution_count": 17,
   "metadata": {},
   "outputs": [],
   "source": [
    "# Direction from three methods\n",
    "u_pre = dna_pre[cols_u_ast].values\n",
    "u_vec = dna_vec[cols_u_ast].values\n",
    "u_elt = dna_elt[cols_u_ast].values"
   ]
  },
  {
   "cell_type": "code",
   "execution_count": 18,
   "metadata": {},
   "outputs": [],
   "source": [
    "# Difference in direction \n",
    "def direction_diff(u0: np.ndarray, u1: np.ndarray):\n",
    "    du = u1 - u0\n",
    "    delta = np.sqrt(np.sum(np.square(du), axis=-1))\n",
    "    # Change in arc seconds\n",
    "    mean_delta_sec = dist2sec(np.mean(delta))\n",
    "    return mean_delta_sec"
   ]
  },
  {
   "cell_type": "code",
   "execution_count": 19,
   "metadata": {},
   "outputs": [],
   "source": [
    "# Difference between methods\n",
    "delta_pre_vec = direction_diff(u0=u_pre, u1=u_vec)\n",
    "delta_pre_elt = direction_diff(u0=u_pre, u1=u_elt)\n",
    "delta_vec_elt = direction_diff(u0=u_vec, u1=u_elt)"
   ]
  },
  {
   "cell_type": "code",
   "execution_count": 22,
   "metadata": {},
   "outputs": [
    {
     "output_type": "stream",
     "name": "stdout",
     "text": [
      "Mean change in direction between different methods:\npre vs. vec: 160.38 arc seconds\npre vs. elt: 160.38 arc seconds\nvec vs. elt: 8.37e-05 arc seconds\n"
     ]
    }
   ],
   "source": [
    "# Report results\n",
    "print(f'Mean change in direction between different methods:')\n",
    "print(f'pre vs. vec: {delta_pre_vec:5.2f} arc seconds')\n",
    "print(f'pre vs. elt: {delta_pre_elt:5.2f} arc seconds')\n",
    "print(f'vec vs. elt: {delta_vec_elt:5.2e} arc seconds')\n"
   ]
  },
  {
   "cell_type": "code",
   "execution_count": null,
   "metadata": {},
   "outputs": [],
   "source": []
  }
 ],
 "metadata": {
  "kernelspec": {
   "display_name": "kepler",
   "language": "python",
   "name": "kepler"
  },
  "language_info": {
   "codemirror_mode": {
    "name": "ipython",
    "version": 3
   },
   "file_extension": ".py",
   "mimetype": "text/x-python",
   "name": "python",
   "nbconvert_exporter": "python",
   "pygments_lexer": "ipython3",
   "version": "3.8.5"
  }
 },
 "nbformat": 4,
 "nbformat_minor": 4
}