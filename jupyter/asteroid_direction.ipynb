{
 "cells": [
  {
   "cell_type": "code",
   "execution_count": 1,
   "metadata": {},
   "outputs": [],
   "source": [
    "# Core\n",
    "import numpy as np\n",
    "import pandas as pd\n",
    "from scipy.interpolate import CubicSpline, RectBivariateSpline\n",
    "\n",
    "# Astronomy\n",
    "import astropy\n",
    "from astropy.units import au, minute\n",
    "\n",
    "from typing import List, Optional"
   ]
  },
  {
   "cell_type": "code",
   "execution_count": 2,
   "metadata": {},
   "outputs": [],
   "source": [
    "# Local imports\n",
    "import kepler_sieve\n",
    "from asteroid_data import load_ast_pos\n",
    "from asteroid_spline import get_df_shape, make_spline_df, spline_ast_data\n",
    "from planets_interp import get_earth_pos\n",
    "from asteroid_direction import calc_dir_linear, calc_dir_linear_topos, light_time_iter, calc_dir_spline\n",
    "from asteroid_direction_test import jpl_ast_dir_populate\n",
    "from ra_dec import radec2dir\n",
    "from ra_dec_test import direction_diff\n",
    "from db_utils import sp2df, df2db"
   ]
  },
  {
   "source": [
    "# Test asteroid direction with iterated splines"
   ],
   "cell_type": "markdown",
   "metadata": {}
  },
  {
   "cell_type": "code",
   "execution_count": 3,
   "metadata": {},
   "outputs": [],
   "source": [
    "# Import the JPL asteroid directions\n",
    "df = sp2df(sp_name='JPL.AstrometricDirectionTest', params={'ObservatoryShortname':'Geocenter'})"
   ]
  },
  {
   "cell_type": "code",
   "execution_count": 4,
   "metadata": {},
   "outputs": [
    {
     "output_type": "execute_result",
     "data": {
      "text/plain": [
       "       AsteroidID    TimeID     tAst    qObs_x    qObs_y    qObs_z    qAst_x  \\\n",
       "0               1  69120000  48000.0 -0.880028 -0.483807 -0.000050 -1.155150   \n",
       "1               1  69127200  48005.0 -0.836785 -0.557668 -0.000054 -1.202187   \n",
       "2               1  69134400  48010.0 -0.787422 -0.627462 -0.000056 -1.248709   \n",
       "3               1  69141600  48015.0 -0.732357 -0.692671 -0.000054 -1.294694   \n",
       "4               1  69148800  48020.0 -0.672042 -0.752868 -0.000054 -1.340122   \n",
       "...           ...       ...      ...       ...       ...       ...       ...   \n",
       "48011          16  90691200  62980.0 -0.842921 -0.549267  0.000119 -0.813070   \n",
       "48012          16  90698400  62985.0 -0.794209 -0.619483  0.000126 -0.864021   \n",
       "48013          16  90705600  62990.0 -0.739772 -0.685171  0.000131 -0.914696   \n",
       "48014          16  90712800  62995.0 -0.680044 -0.745908  0.000132 -0.965081   \n",
       "48015          16  90720000  63000.0 -0.615450 -0.801311  0.000134 -1.015164   \n",
       "\n",
       "         qAst_y    qAst_z    vAst_x    vAst_y    vAst_z  LightTime     tObs  \\\n",
       "0      2.297484  0.282873 -0.009457 -0.005464  0.001583  23.363621  48000.0   \n",
       "1      2.269674  0.290725 -0.009357 -0.005659  0.001558  23.833511  48005.0   \n",
       "2      2.240893  0.298453 -0.009251 -0.005853  0.001533  24.289747  48010.0   \n",
       "3      2.211151  0.306052 -0.009142 -0.006044  0.001507  24.731042  48015.0   \n",
       "4      2.180457  0.313519 -0.009028 -0.006233  0.001480  25.156619  48020.0   \n",
       "...         ...       ...       ...       ...       ...        ...      ...   \n",
       "48011  2.724700 -0.105745 -0.010217 -0.001563  0.000351  27.244467  62980.0   \n",
       "48012  2.716450 -0.103974 -0.010163 -0.001737  0.000357  27.764006  62985.0   \n",
       "48013  2.707332 -0.102170 -0.010107 -0.001910  0.000364  28.265182  62990.0   \n",
       "48014  2.697356 -0.100334 -0.010047 -0.002080  0.000370  28.747137  62995.0   \n",
       "48015  2.686532 -0.098466 -0.009985 -0.002249  0.000377  29.209137  63000.0   \n",
       "\n",
       "             ux        uy        uz     delta  \n",
       "0     -0.097885  0.990090  0.100704  2.809226  \n",
       "1     -0.127458  0.986641  0.101460  2.865725  \n",
       "2     -0.157895  0.982153  0.102200  2.920583  \n",
       "3     -0.189059  0.976556  0.102932  2.973644  \n",
       "4     -0.220819  0.969791  0.103659  3.024815  \n",
       "...         ...       ...       ...       ...  \n",
       "48011  0.009167  0.999436 -0.032318  3.275856  \n",
       "48012 -0.020859  0.999296 -0.031185  3.338325  \n",
       "48013 -0.051416  0.998224 -0.030103  3.398587  \n",
       "48014 -0.082410  0.996174 -0.029068  3.456536  \n",
       "48015 -0.113759  0.993112 -0.028077  3.512087  \n",
       "\n",
       "[48016 rows x 18 columns]"
      ],
      "text/html": "<div>\n<style scoped>\n    .dataframe tbody tr th:only-of-type {\n        vertical-align: middle;\n    }\n\n    .dataframe tbody tr th {\n        vertical-align: top;\n    }\n\n    .dataframe thead th {\n        text-align: right;\n    }\n</style>\n<table border=\"1\" class=\"dataframe\">\n  <thead>\n    <tr style=\"text-align: right;\">\n      <th></th>\n      <th>AsteroidID</th>\n      <th>TimeID</th>\n      <th>tAst</th>\n      <th>qObs_x</th>\n      <th>qObs_y</th>\n      <th>qObs_z</th>\n      <th>qAst_x</th>\n      <th>qAst_y</th>\n      <th>qAst_z</th>\n      <th>vAst_x</th>\n      <th>vAst_y</th>\n      <th>vAst_z</th>\n      <th>LightTime</th>\n      <th>tObs</th>\n      <th>ux</th>\n      <th>uy</th>\n      <th>uz</th>\n      <th>delta</th>\n    </tr>\n  </thead>\n  <tbody>\n    <tr>\n      <th>0</th>\n      <td>1</td>\n      <td>69120000</td>\n      <td>48000.0</td>\n      <td>-0.880028</td>\n      <td>-0.483807</td>\n      <td>-0.000050</td>\n      <td>-1.155150</td>\n      <td>2.297484</td>\n      <td>0.282873</td>\n      <td>-0.009457</td>\n      <td>-0.005464</td>\n      <td>0.001583</td>\n      <td>23.363621</td>\n      <td>48000.0</td>\n      <td>-0.097885</td>\n      <td>0.990090</td>\n      <td>0.100704</td>\n      <td>2.809226</td>\n    </tr>\n    <tr>\n      <th>1</th>\n      <td>1</td>\n      <td>69127200</td>\n      <td>48005.0</td>\n      <td>-0.836785</td>\n      <td>-0.557668</td>\n      <td>-0.000054</td>\n      <td>-1.202187</td>\n      <td>2.269674</td>\n      <td>0.290725</td>\n      <td>-0.009357</td>\n      <td>-0.005659</td>\n      <td>0.001558</td>\n      <td>23.833511</td>\n      <td>48005.0</td>\n      <td>-0.127458</td>\n      <td>0.986641</td>\n      <td>0.101460</td>\n      <td>2.865725</td>\n    </tr>\n    <tr>\n      <th>2</th>\n      <td>1</td>\n      <td>69134400</td>\n      <td>48010.0</td>\n      <td>-0.787422</td>\n      <td>-0.627462</td>\n      <td>-0.000056</td>\n      <td>-1.248709</td>\n      <td>2.240893</td>\n      <td>0.298453</td>\n      <td>-0.009251</td>\n      <td>-0.005853</td>\n      <td>0.001533</td>\n      <td>24.289747</td>\n      <td>48010.0</td>\n      <td>-0.157895</td>\n      <td>0.982153</td>\n      <td>0.102200</td>\n      <td>2.920583</td>\n    </tr>\n    <tr>\n      <th>3</th>\n      <td>1</td>\n      <td>69141600</td>\n      <td>48015.0</td>\n      <td>-0.732357</td>\n      <td>-0.692671</td>\n      <td>-0.000054</td>\n      <td>-1.294694</td>\n      <td>2.211151</td>\n      <td>0.306052</td>\n      <td>-0.009142</td>\n      <td>-0.006044</td>\n      <td>0.001507</td>\n      <td>24.731042</td>\n      <td>48015.0</td>\n      <td>-0.189059</td>\n      <td>0.976556</td>\n      <td>0.102932</td>\n      <td>2.973644</td>\n    </tr>\n    <tr>\n      <th>4</th>\n      <td>1</td>\n      <td>69148800</td>\n      <td>48020.0</td>\n      <td>-0.672042</td>\n      <td>-0.752868</td>\n      <td>-0.000054</td>\n      <td>-1.340122</td>\n      <td>2.180457</td>\n      <td>0.313519</td>\n      <td>-0.009028</td>\n      <td>-0.006233</td>\n      <td>0.001480</td>\n      <td>25.156619</td>\n      <td>48020.0</td>\n      <td>-0.220819</td>\n      <td>0.969791</td>\n      <td>0.103659</td>\n      <td>3.024815</td>\n    </tr>\n    <tr>\n      <th>...</th>\n      <td>...</td>\n      <td>...</td>\n      <td>...</td>\n      <td>...</td>\n      <td>...</td>\n      <td>...</td>\n      <td>...</td>\n      <td>...</td>\n      <td>...</td>\n      <td>...</td>\n      <td>...</td>\n      <td>...</td>\n      <td>...</td>\n      <td>...</td>\n      <td>...</td>\n      <td>...</td>\n      <td>...</td>\n      <td>...</td>\n    </tr>\n    <tr>\n      <th>48011</th>\n      <td>16</td>\n      <td>90691200</td>\n      <td>62980.0</td>\n      <td>-0.842921</td>\n      <td>-0.549267</td>\n      <td>0.000119</td>\n      <td>-0.813070</td>\n      <td>2.724700</td>\n      <td>-0.105745</td>\n      <td>-0.010217</td>\n      <td>-0.001563</td>\n      <td>0.000351</td>\n      <td>27.244467</td>\n      <td>62980.0</td>\n      <td>0.009167</td>\n      <td>0.999436</td>\n      <td>-0.032318</td>\n      <td>3.275856</td>\n    </tr>\n    <tr>\n      <th>48012</th>\n      <td>16</td>\n      <td>90698400</td>\n      <td>62985.0</td>\n      <td>-0.794209</td>\n      <td>-0.619483</td>\n      <td>0.000126</td>\n      <td>-0.864021</td>\n      <td>2.716450</td>\n      <td>-0.103974</td>\n      <td>-0.010163</td>\n      <td>-0.001737</td>\n      <td>0.000357</td>\n      <td>27.764006</td>\n      <td>62985.0</td>\n      <td>-0.020859</td>\n      <td>0.999296</td>\n      <td>-0.031185</td>\n      <td>3.338325</td>\n    </tr>\n    <tr>\n      <th>48013</th>\n      <td>16</td>\n      <td>90705600</td>\n      <td>62990.0</td>\n      <td>-0.739772</td>\n      <td>-0.685171</td>\n      <td>0.000131</td>\n      <td>-0.914696</td>\n      <td>2.707332</td>\n      <td>-0.102170</td>\n      <td>-0.010107</td>\n      <td>-0.001910</td>\n      <td>0.000364</td>\n      <td>28.265182</td>\n      <td>62990.0</td>\n      <td>-0.051416</td>\n      <td>0.998224</td>\n      <td>-0.030103</td>\n      <td>3.398587</td>\n    </tr>\n    <tr>\n      <th>48014</th>\n      <td>16</td>\n      <td>90712800</td>\n      <td>62995.0</td>\n      <td>-0.680044</td>\n      <td>-0.745908</td>\n      <td>0.000132</td>\n      <td>-0.965081</td>\n      <td>2.697356</td>\n      <td>-0.100334</td>\n      <td>-0.010047</td>\n      <td>-0.002080</td>\n      <td>0.000370</td>\n      <td>28.747137</td>\n      <td>62995.0</td>\n      <td>-0.082410</td>\n      <td>0.996174</td>\n      <td>-0.029068</td>\n      <td>3.456536</td>\n    </tr>\n    <tr>\n      <th>48015</th>\n      <td>16</td>\n      <td>90720000</td>\n      <td>63000.0</td>\n      <td>-0.615450</td>\n      <td>-0.801311</td>\n      <td>0.000134</td>\n      <td>-1.015164</td>\n      <td>2.686532</td>\n      <td>-0.098466</td>\n      <td>-0.009985</td>\n      <td>-0.002249</td>\n      <td>0.000377</td>\n      <td>29.209137</td>\n      <td>63000.0</td>\n      <td>-0.113759</td>\n      <td>0.993112</td>\n      <td>-0.028077</td>\n      <td>3.512087</td>\n    </tr>\n  </tbody>\n</table>\n<p>48016 rows × 18 columns</p>\n</div>"
     },
     "metadata": {},
     "execution_count": 4
    }
   ],
   "source": [
    "# The Horizons DataFrame\n",
    "df"
   ]
  },
  {
   "cell_type": "code",
   "execution_count": 5,
   "metadata": {},
   "outputs": [],
   "source": [
    "# Column names for astrometric and apparent direction\n",
    "cols_u_ast = ['ux_ast', 'uy_ast', 'uz_ast']\n",
    "cols_u_app = ['ux_app', 'uy_app', 'uz_app']\n",
    "\n",
    "# Column names for testing \n",
    "cols_q_obs = ['qObs_x', 'qObs_y', 'qObs_z']\n",
    "cols_q_ast = ['qAst_x', 'qAst_y', 'qAst_z']\n",
    "cols_v_ast = ['vAst_x', 'vAst_y', 'vAst_z']\n",
    "cols_u = ['ux', 'uy', 'uz']"
   ]
  },
  {
   "cell_type": "code",
   "execution_count": 6,
   "metadata": {},
   "outputs": [],
   "source": [
    "# Extract arrays from Horizons DataFrame\n",
    "asteroid_id = df.AsteroidID.values\n",
    "t_ast = df.tAst.values\n",
    "q_obs = df[cols_q_obs].values\n",
    "t_obs = df.tObs.values\n",
    "light_time = df.LightTime.values\n",
    "u_jpl = df[cols_u].values"
   ]
  },
  {
   "cell_type": "code",
   "execution_count": 7,
   "metadata": {},
   "outputs": [],
   "source": [
    "# Get asteroid orbital elements\n",
    "from asteroid_element import get_ast_elts_ts"
   ]
  },
  {
   "cell_type": "code",
   "execution_count": 8,
   "metadata": {},
   "outputs": [],
   "source": [
    "n0=0\n",
    "n1=20\n",
    "mjd0=48000\n",
    "mjd1=63000\n",
    "elt = get_ast_elts_ts(n0=n0, n1=n1, mjd0=mjd0, mjd1=mjd1)"
   ]
  },
  {
   "cell_type": "code",
   "execution_count": 9,
   "metadata": {},
   "outputs": [
    {
     "output_type": "execute_result",
     "data": {
      "text/plain": [
       "         TimeID  AsteroidID      mjd         a         e       inc     Omega  \\\n",
       "0      69120000           1  48000.0  2.768788  0.077540  0.185062  1.408422   \n",
       "1      69125760           1  48004.0  2.768752  0.077525  0.185061  1.408417   \n",
       "2      69131520           1  48008.0  2.768714  0.077510  0.185060  1.408411   \n",
       "3      69137280           1  48012.0  2.768677  0.077495  0.185059  1.408406   \n",
       "4      69143040           1  48016.0  2.768639  0.077479  0.185057  1.408400   \n",
       "...         ...         ...      ...       ...       ...       ...       ...   \n",
       "71264  90696960          19  62984.0  2.443794  0.156396  0.027463 -2.601255   \n",
       "71265  90702720          19  62988.0  2.443777  0.156391  0.027463 -2.601266   \n",
       "71266  90708480          19  62992.0  2.443760  0.156386  0.027463 -2.601276   \n",
       "71267  90714240          19  62996.0  2.443741  0.156381  0.027463 -2.601287   \n",
       "71268  90720000          19  63000.0  2.443721  0.156377  0.027463 -2.601298   \n",
       "\n",
       "          omega          f          M  WindingNumber  \n",
       "0      1.237946  -0.601468  -0.517779              0  \n",
       "1      1.237928  -0.584374  -0.502840              0  \n",
       "2      1.237912  -0.567257  -0.487900              0  \n",
       "3      1.237895  -0.550118  -0.472959              0  \n",
       "4      1.237879  -0.532956  -0.458018              0  \n",
       "...         ...        ...        ...            ...  \n",
       "71264 -3.097766  73.189299  67.175352             11  \n",
       "71265 -3.097692  73.204641  67.193281             11  \n",
       "71266 -3.097618  73.220050  67.211209             11  \n",
       "71267 -3.097543  73.235525  67.229138             11  \n",
       "71268 -3.097468  73.251068  67.247067             11  \n",
       "\n",
       "[71269 rows x 11 columns]"
      ],
      "text/html": "<div>\n<style scoped>\n    .dataframe tbody tr th:only-of-type {\n        vertical-align: middle;\n    }\n\n    .dataframe tbody tr th {\n        vertical-align: top;\n    }\n\n    .dataframe thead th {\n        text-align: right;\n    }\n</style>\n<table border=\"1\" class=\"dataframe\">\n  <thead>\n    <tr style=\"text-align: right;\">\n      <th></th>\n      <th>TimeID</th>\n      <th>AsteroidID</th>\n      <th>mjd</th>\n      <th>a</th>\n      <th>e</th>\n      <th>inc</th>\n      <th>Omega</th>\n      <th>omega</th>\n      <th>f</th>\n      <th>M</th>\n      <th>WindingNumber</th>\n    </tr>\n  </thead>\n  <tbody>\n    <tr>\n      <th>0</th>\n      <td>69120000</td>\n      <td>1</td>\n      <td>48000.0</td>\n      <td>2.768788</td>\n      <td>0.077540</td>\n      <td>0.185062</td>\n      <td>1.408422</td>\n      <td>1.237946</td>\n      <td>-0.601468</td>\n      <td>-0.517779</td>\n      <td>0</td>\n    </tr>\n    <tr>\n      <th>1</th>\n      <td>69125760</td>\n      <td>1</td>\n      <td>48004.0</td>\n      <td>2.768752</td>\n      <td>0.077525</td>\n      <td>0.185061</td>\n      <td>1.408417</td>\n      <td>1.237928</td>\n      <td>-0.584374</td>\n      <td>-0.502840</td>\n      <td>0</td>\n    </tr>\n    <tr>\n      <th>2</th>\n      <td>69131520</td>\n      <td>1</td>\n      <td>48008.0</td>\n      <td>2.768714</td>\n      <td>0.077510</td>\n      <td>0.185060</td>\n      <td>1.408411</td>\n      <td>1.237912</td>\n      <td>-0.567257</td>\n      <td>-0.487900</td>\n      <td>0</td>\n    </tr>\n    <tr>\n      <th>3</th>\n      <td>69137280</td>\n      <td>1</td>\n      <td>48012.0</td>\n      <td>2.768677</td>\n      <td>0.077495</td>\n      <td>0.185059</td>\n      <td>1.408406</td>\n      <td>1.237895</td>\n      <td>-0.550118</td>\n      <td>-0.472959</td>\n      <td>0</td>\n    </tr>\n    <tr>\n      <th>4</th>\n      <td>69143040</td>\n      <td>1</td>\n      <td>48016.0</td>\n      <td>2.768639</td>\n      <td>0.077479</td>\n      <td>0.185057</td>\n      <td>1.408400</td>\n      <td>1.237879</td>\n      <td>-0.532956</td>\n      <td>-0.458018</td>\n      <td>0</td>\n    </tr>\n    <tr>\n      <th>...</th>\n      <td>...</td>\n      <td>...</td>\n      <td>...</td>\n      <td>...</td>\n      <td>...</td>\n      <td>...</td>\n      <td>...</td>\n      <td>...</td>\n      <td>...</td>\n      <td>...</td>\n      <td>...</td>\n    </tr>\n    <tr>\n      <th>71264</th>\n      <td>90696960</td>\n      <td>19</td>\n      <td>62984.0</td>\n      <td>2.443794</td>\n      <td>0.156396</td>\n      <td>0.027463</td>\n      <td>-2.601255</td>\n      <td>-3.097766</td>\n      <td>73.189299</td>\n      <td>67.175352</td>\n      <td>11</td>\n    </tr>\n    <tr>\n      <th>71265</th>\n      <td>90702720</td>\n      <td>19</td>\n      <td>62988.0</td>\n      <td>2.443777</td>\n      <td>0.156391</td>\n      <td>0.027463</td>\n      <td>-2.601266</td>\n      <td>-3.097692</td>\n      <td>73.204641</td>\n      <td>67.193281</td>\n      <td>11</td>\n    </tr>\n    <tr>\n      <th>71266</th>\n      <td>90708480</td>\n      <td>19</td>\n      <td>62992.0</td>\n      <td>2.443760</td>\n      <td>0.156386</td>\n      <td>0.027463</td>\n      <td>-2.601276</td>\n      <td>-3.097618</td>\n      <td>73.220050</td>\n      <td>67.211209</td>\n      <td>11</td>\n    </tr>\n    <tr>\n      <th>71267</th>\n      <td>90714240</td>\n      <td>19</td>\n      <td>62996.0</td>\n      <td>2.443741</td>\n      <td>0.156381</td>\n      <td>0.027463</td>\n      <td>-2.601287</td>\n      <td>-3.097543</td>\n      <td>73.235525</td>\n      <td>67.229138</td>\n      <td>11</td>\n    </tr>\n    <tr>\n      <th>71268</th>\n      <td>90720000</td>\n      <td>19</td>\n      <td>63000.0</td>\n      <td>2.443721</td>\n      <td>0.156377</td>\n      <td>0.027463</td>\n      <td>-2.601298</td>\n      <td>-3.097468</td>\n      <td>73.251068</td>\n      <td>67.247067</td>\n      <td>11</td>\n    </tr>\n  </tbody>\n</table>\n<p>71269 rows × 11 columns</p>\n</div>"
     },
     "metadata": {},
     "execution_count": 9
    }
   ],
   "source": [
    "elt"
   ]
  },
  {
   "cell_type": "code",
   "execution_count": 13,
   "metadata": {},
   "outputs": [],
   "source": [
    "from topos import calc_topos"
   ]
  },
  {
   "cell_type": "code",
   "execution_count": null,
   "metadata": {},
   "outputs": [],
   "source": [
    "calc_topos(obstime_mjd=)"
   ]
  },
  {
   "cell_type": "code",
   "execution_count": 10,
   "metadata": {},
   "outputs": [],
   "source": [
    "from asteroid_spline import make_spline_ast_elt, make_spline_ast_pos"
   ]
  },
  {
   "cell_type": "code",
   "execution_count": 11,
   "metadata": {},
   "outputs": [],
   "source": [
    "n0=1\n",
    "n1=17\n",
    "mjd0=57000\n",
    "mjd1=61000\n",
    "\n",
    "site_name = 'geocenter'\n",
    "obs_name = 'Geocenter'"
   ]
  },
  {
   "cell_type": "code",
   "execution_count": 12,
   "metadata": {},
   "outputs": [
    {
     "output_type": "stream",
     "name": "stdout",
     "text": [
      "sp2df(sp_name) failed!\n",
      "Traceback (most recent call last):\n",
      "  File \"/home/michael/Anaconda/anaconda3-2020.11/envs/kepler/lib/python3.8/site-packages/sqlalchemy/engine/base.py\", line 1628, in _execute_context\n",
      "    self.dialect.do_execute(\n",
      "  File \"/home/michael/Anaconda/anaconda3-2020.11/envs/kepler/lib/python3.8/site-packages/sqlalchemy/engine/default.py\", line 663, in do_execute\n",
      "    cursor.execute(statement, parameters)\n",
      "  File \"/home/michael/Anaconda/anaconda3-2020.11/envs/kepler/lib/python3.8/site-packages/pymysql/cursors.py\", line 148, in execute\n",
      "    result = self._query(query)\n",
      "  File \"/home/michael/Anaconda/anaconda3-2020.11/envs/kepler/lib/python3.8/site-packages/pymysql/cursors.py\", line 310, in _query\n",
      "    conn.query(q)\n",
      "  File \"/home/michael/Anaconda/anaconda3-2020.11/envs/kepler/lib/python3.8/site-packages/pymysql/connections.py\", line 548, in query\n",
      "    self._affected_rows = self._read_query_result(unbuffered=unbuffered)\n",
      "  File \"/home/michael/Anaconda/anaconda3-2020.11/envs/kepler/lib/python3.8/site-packages/pymysql/connections.py\", line 775, in _read_query_result\n",
      "    result.read()\n",
      "  File \"/home/michael/Anaconda/anaconda3-2020.11/envs/kepler/lib/python3.8/site-packages/pymysql/connections.py\", line 1156, in read\n",
      "    first_packet = self.connection._read_packet()\n",
      "  File \"/home/michael/Anaconda/anaconda3-2020.11/envs/kepler/lib/python3.8/site-packages/pymysql/connections.py\", line 725, in _read_packet\n",
      "    packet.raise_for_error()\n",
      "  File \"/home/michael/Anaconda/anaconda3-2020.11/envs/kepler/lib/python3.8/site-packages/pymysql/protocol.py\", line 221, in raise_for_error\n",
      "    err.raise_mysql_exception(self._data)\n",
      "  File \"/home/michael/Anaconda/anaconda3-2020.11/envs/kepler/lib/python3.8/site-packages/pymysql/err.py\", line 143, in raise_mysql_exception\n",
      "    raise errorclass(errno, errval)\n",
      "pymysql.err.OperationalError: (1318, 'Incorrect number of arguments for PROCEDURE JPL.AstrometricDirectionTest; expected 1, got 0')\n",
      "\n",
      "The above exception was the direct cause of the following exception:\n",
      "\n",
      "Traceback (most recent call last):\n",
      "  File \"/home/michael/Harvard/kepler-sieve/src/db_utils.py\", line 74, in sp2df\n",
      "    df = pd.read_sql(sql_stmt, conn)\n",
      "  File \"/home/michael/Anaconda/anaconda3-2020.11/envs/kepler/lib/python3.8/site-packages/pandas/io/sql.py\", line 510, in read_sql\n",
      "    return pandas_sql.read_query(\n",
      "  File \"/home/michael/Anaconda/anaconda3-2020.11/envs/kepler/lib/python3.8/site-packages/pandas/io/sql.py\", line 1294, in read_query\n",
      "    result = self.execute(*args)\n",
      "  File \"/home/michael/Anaconda/anaconda3-2020.11/envs/kepler/lib/python3.8/site-packages/pandas/io/sql.py\", line 1162, in execute\n",
      "    return self.connectable.execution_options().execute(*args, **kwargs)\n",
      "  File \"/home/michael/Anaconda/anaconda3-2020.11/envs/kepler/lib/python3.8/site-packages/sqlalchemy/engine/base.py\", line 1123, in execute\n",
      "    return meth(self, multiparams, params, _EMPTY_EXECUTION_OPTS)\n",
      "  File \"/home/michael/Anaconda/anaconda3-2020.11/envs/kepler/lib/python3.8/site-packages/sqlalchemy/sql/elements.py\", line 310, in _execute_on_connection\n",
      "    return connection._execute_clauseelement(\n",
      "  File \"/home/michael/Anaconda/anaconda3-2020.11/envs/kepler/lib/python3.8/site-packages/sqlalchemy/engine/base.py\", line 1312, in _execute_clauseelement\n",
      "    ret = self._execute_context(\n",
      "  File \"/home/michael/Anaconda/anaconda3-2020.11/envs/kepler/lib/python3.8/site-packages/sqlalchemy/engine/base.py\", line 1671, in _execute_context\n",
      "    self._handle_dbapi_exception(\n",
      "  File \"/home/michael/Anaconda/anaconda3-2020.11/envs/kepler/lib/python3.8/site-packages/sqlalchemy/engine/base.py\", line 1852, in _handle_dbapi_exception\n",
      "    util.raise_(\n",
      "  File \"/home/michael/Anaconda/anaconda3-2020.11/envs/kepler/lib/python3.8/site-packages/sqlalchemy/util/compat.py\", line 180, in raise_\n",
      "    raise exception\n",
      "  File \"/home/michael/Anaconda/anaconda3-2020.11/envs/kepler/lib/python3.8/site-packages/sqlalchemy/engine/base.py\", line 1628, in _execute_context\n",
      "    self.dialect.do_execute(\n",
      "  File \"/home/michael/Anaconda/anaconda3-2020.11/envs/kepler/lib/python3.8/site-packages/sqlalchemy/engine/default.py\", line 663, in do_execute\n",
      "    cursor.execute(statement, parameters)\n",
      "  File \"/home/michael/Anaconda/anaconda3-2020.11/envs/kepler/lib/python3.8/site-packages/pymysql/cursors.py\", line 148, in execute\n",
      "    result = self._query(query)\n",
      "  File \"/home/michael/Anaconda/anaconda3-2020.11/envs/kepler/lib/python3.8/site-packages/pymysql/cursors.py\", line 310, in _query\n",
      "    conn.query(q)\n",
      "  File \"/home/michael/Anaconda/anaconda3-2020.11/envs/kepler/lib/python3.8/site-packages/pymysql/connections.py\", line 548, in query\n",
      "    self._affected_rows = self._read_query_result(unbuffered=unbuffered)\n",
      "  File \"/home/michael/Anaconda/anaconda3-2020.11/envs/kepler/lib/python3.8/site-packages/pymysql/connections.py\", line 775, in _read_query_result\n",
      "    result.read()\n",
      "  File \"/home/michael/Anaconda/anaconda3-2020.11/envs/kepler/lib/python3.8/site-packages/pymysql/connections.py\", line 1156, in read\n",
      "    first_packet = self.connection._read_packet()\n",
      "  File \"/home/michael/Anaconda/anaconda3-2020.11/envs/kepler/lib/python3.8/site-packages/pymysql/connections.py\", line 725, in _read_packet\n",
      "    packet.raise_for_error()\n",
      "  File \"/home/michael/Anaconda/anaconda3-2020.11/envs/kepler/lib/python3.8/site-packages/pymysql/protocol.py\", line 221, in raise_for_error\n",
      "    err.raise_mysql_exception(self._data)\n",
      "  File \"/home/michael/Anaconda/anaconda3-2020.11/envs/kepler/lib/python3.8/site-packages/pymysql/err.py\", line 143, in raise_mysql_exception\n",
      "    raise errorclass(errno, errval)\n",
      "sqlalchemy.exc.OperationalError: (pymysql.err.OperationalError) (1318, 'Incorrect number of arguments for PROCEDURE JPL.AstrometricDirectionTest; expected 1, got 0')\n",
      "[SQL: CALL JPL.AstrometricDirectionTest();]\n",
      "(Background on this error at: http://sqlalche.me/e/14/e3q8)\n"
     ]
    },
    {
     "output_type": "error",
     "ename": "AttributeError",
     "evalue": "'NoneType' object has no attribute 'tObs'",
     "traceback": [
      "\u001b[0;31m---------------------------------------------------------------------------\u001b[0m",
      "\u001b[0;31mAttributeError\u001b[0m                            Traceback (most recent call last)",
      "\u001b[0;32m<ipython-input-12-581a0edbb88c>\u001b[0m in \u001b[0;36m<module>\u001b[0;34m\u001b[0m\n\u001b[1;32m      4\u001b[0m \u001b[0;34m\u001b[0m\u001b[0m\n\u001b[1;32m      5\u001b[0m \u001b[0;31m# Mask data down to the selected date range\u001b[0m\u001b[0;34m\u001b[0m\u001b[0;34m\u001b[0m\u001b[0;34m\u001b[0m\u001b[0m\n\u001b[0;32m----> 6\u001b[0;31m \u001b[0mmask\u001b[0m \u001b[0;34m=\u001b[0m  \u001b[0;34m(\u001b[0m\u001b[0mmjd0\u001b[0m \u001b[0;34m<=\u001b[0m \u001b[0mdf_jpl\u001b[0m\u001b[0;34m.\u001b[0m\u001b[0mtObs\u001b[0m\u001b[0;34m)\u001b[0m \u001b[0;34m&\u001b[0m \u001b[0;34m(\u001b[0m\u001b[0mdf_jpl\u001b[0m\u001b[0;34m.\u001b[0m\u001b[0mtObs\u001b[0m \u001b[0;34m<=\u001b[0m \u001b[0mmjd1\u001b[0m\u001b[0;34m)\u001b[0m\u001b[0;34m\u001b[0m\u001b[0;34m\u001b[0m\u001b[0m\n\u001b[0m\u001b[1;32m      7\u001b[0m \u001b[0mdf_jpl\u001b[0m \u001b[0;34m=\u001b[0m \u001b[0mdf_jpl\u001b[0m\u001b[0;34m[\u001b[0m\u001b[0mmask\u001b[0m\u001b[0;34m]\u001b[0m\u001b[0;34m.\u001b[0m\u001b[0mreset_index\u001b[0m\u001b[0;34m(\u001b[0m\u001b[0mdrop\u001b[0m\u001b[0;34m=\u001b[0m\u001b[0;32mTrue\u001b[0m\u001b[0;34m)\u001b[0m\u001b[0;34m\u001b[0m\u001b[0;34m\u001b[0m\u001b[0m\n",
      "\u001b[0;31mAttributeError\u001b[0m: 'NoneType' object has no attribute 'tObs'"
     ]
    }
   ],
   "source": [
    "# Import the JPL asteroid directions\n",
    "sp_name = 'JPL.AstrometricDirectionTest'\n",
    "df_jpl = sp2df(sp_name=sp_name)\n",
    "\n",
    "# Mask data down to the selected date range\n",
    "mask =  (mjd0 <= df_jpl.tObs) & (df_jpl.tObs <= mjd1)\n",
    "df_jpl = df_jpl[mask].reset_index(drop=True)"
   ]
  },
  {
   "cell_type": "code",
   "execution_count": 13,
   "metadata": {},
   "outputs": [
    {
     "output_type": "execute_result",
     "data": {
      "text/plain": [
       "       AsteroidID    TimeID     tAst    qObs_x    qObs_y    qObs_z    qAst_x  \\\n",
       "0               1  82080000  57000.0  0.230829  0.957230 -0.000164 -0.608331   \n",
       "1               1  82087200  57005.0  0.145017  0.973138 -0.000166 -0.560260   \n",
       "2               1  82094400  57010.0  0.058068  0.981505 -0.000170 -0.512000   \n",
       "3               1  82101600  57015.0 -0.029333  0.982221 -0.000171 -0.463569   \n",
       "4               1  82108800  57020.0 -0.116466  0.975265 -0.000169 -0.414984   \n",
       "...           ...       ...      ...       ...       ...       ...       ...   \n",
       "12811          16  87811200  60980.0  0.773691  0.611912  0.000099  1.021725   \n",
       "12812          16  87818400  60985.0  0.715961  0.676486  0.000092  0.972517   \n",
       "12813          16  87825600  60990.0  0.652798  0.735916  0.000089  0.922915   \n",
       "12814          16  87832800  60995.0  0.584618  0.789732  0.000088  0.872940   \n",
       "12815          16  87840000  61000.0  0.511910  0.837467  0.000087  0.822615   \n",
       "\n",
       "         qAst_y    qAst_z    vAst_x    vAst_y    vAst_z  LightTime     tObs  \\\n",
       "0     -2.738365  0.026526  0.009594 -0.002934 -0.001861  31.518399  57000.0   \n",
       "1     -2.752576  0.017219  0.009634 -0.002750 -0.001862  31.536274  57005.0   \n",
       "2     -2.765867  0.007906  0.009670 -0.002566 -0.001863  31.524375  57010.0   \n",
       "3     -2.778239 -0.001409  0.009702 -0.002382 -0.001863  31.482382  57015.0   \n",
       "4     -2.789692 -0.010724  0.009731 -0.002198 -0.001863  31.410313  57020.0   \n",
       "...         ...       ...       ...       ...       ...        ...      ...   \n",
       "12811  2.413031 -0.140937 -0.009801  0.005248  0.000019  15.165857  60980.0   \n",
       "12812  2.438778 -0.140813 -0.009882  0.005051  0.000031  14.856968  60985.0   \n",
       "12813  2.463538 -0.140631 -0.009958  0.004853  0.000042  14.589457  60990.0   \n",
       "12814  2.487307 -0.140394 -0.010031  0.004654  0.000053  14.367795  60995.0   \n",
       "12815  2.510081 -0.140100 -0.010099  0.004455  0.000064  14.196398  61000.0   \n",
       "\n",
       "             ux        uy        uz     delta  \n",
       "0     -0.221479 -0.975140  0.007053  3.789751  \n",
       "1     -0.186046 -0.982530  0.004595  3.791900  \n",
       "2     -0.150445 -0.988616  0.002141  3.790470  \n",
       "3     -0.114763 -0.993393 -0.000317  3.785420  \n",
       "4     -0.079092 -0.996863 -0.002784  3.776755  \n",
       "...         ...       ...       ...       ...  \n",
       "12811  0.136075  0.987675 -0.077343  1.823532  \n",
       "12812  0.143675  0.986477 -0.078877  1.786392  \n",
       "12813  0.154039  0.984803 -0.080218  1.754226  \n",
       "12814  0.166954  0.982606 -0.081318  1.727574  \n",
       "12815  0.182082  0.979848 -0.082126  1.706965  \n",
       "\n",
       "[12816 rows x 18 columns]"
      ],
      "text/html": "<div>\n<style scoped>\n    .dataframe tbody tr th:only-of-type {\n        vertical-align: middle;\n    }\n\n    .dataframe tbody tr th {\n        vertical-align: top;\n    }\n\n    .dataframe thead th {\n        text-align: right;\n    }\n</style>\n<table border=\"1\" class=\"dataframe\">\n  <thead>\n    <tr style=\"text-align: right;\">\n      <th></th>\n      <th>AsteroidID</th>\n      <th>TimeID</th>\n      <th>tAst</th>\n      <th>qObs_x</th>\n      <th>qObs_y</th>\n      <th>qObs_z</th>\n      <th>qAst_x</th>\n      <th>qAst_y</th>\n      <th>qAst_z</th>\n      <th>vAst_x</th>\n      <th>vAst_y</th>\n      <th>vAst_z</th>\n      <th>LightTime</th>\n      <th>tObs</th>\n      <th>ux</th>\n      <th>uy</th>\n      <th>uz</th>\n      <th>delta</th>\n    </tr>\n  </thead>\n  <tbody>\n    <tr>\n      <th>0</th>\n      <td>1</td>\n      <td>82080000</td>\n      <td>57000.0</td>\n      <td>0.230829</td>\n      <td>0.957230</td>\n      <td>-0.000164</td>\n      <td>-0.608331</td>\n      <td>-2.738365</td>\n      <td>0.026526</td>\n      <td>0.009594</td>\n      <td>-0.002934</td>\n      <td>-0.001861</td>\n      <td>31.518399</td>\n      <td>57000.0</td>\n      <td>-0.221479</td>\n      <td>-0.975140</td>\n      <td>0.007053</td>\n      <td>3.789751</td>\n    </tr>\n    <tr>\n      <th>1</th>\n      <td>1</td>\n      <td>82087200</td>\n      <td>57005.0</td>\n      <td>0.145017</td>\n      <td>0.973138</td>\n      <td>-0.000166</td>\n      <td>-0.560260</td>\n      <td>-2.752576</td>\n      <td>0.017219</td>\n      <td>0.009634</td>\n      <td>-0.002750</td>\n      <td>-0.001862</td>\n      <td>31.536274</td>\n      <td>57005.0</td>\n      <td>-0.186046</td>\n      <td>-0.982530</td>\n      <td>0.004595</td>\n      <td>3.791900</td>\n    </tr>\n    <tr>\n      <th>2</th>\n      <td>1</td>\n      <td>82094400</td>\n      <td>57010.0</td>\n      <td>0.058068</td>\n      <td>0.981505</td>\n      <td>-0.000170</td>\n      <td>-0.512000</td>\n      <td>-2.765867</td>\n      <td>0.007906</td>\n      <td>0.009670</td>\n      <td>-0.002566</td>\n      <td>-0.001863</td>\n      <td>31.524375</td>\n      <td>57010.0</td>\n      <td>-0.150445</td>\n      <td>-0.988616</td>\n      <td>0.002141</td>\n      <td>3.790470</td>\n    </tr>\n    <tr>\n      <th>3</th>\n      <td>1</td>\n      <td>82101600</td>\n      <td>57015.0</td>\n      <td>-0.029333</td>\n      <td>0.982221</td>\n      <td>-0.000171</td>\n      <td>-0.463569</td>\n      <td>-2.778239</td>\n      <td>-0.001409</td>\n      <td>0.009702</td>\n      <td>-0.002382</td>\n      <td>-0.001863</td>\n      <td>31.482382</td>\n      <td>57015.0</td>\n      <td>-0.114763</td>\n      <td>-0.993393</td>\n      <td>-0.000317</td>\n      <td>3.785420</td>\n    </tr>\n    <tr>\n      <th>4</th>\n      <td>1</td>\n      <td>82108800</td>\n      <td>57020.0</td>\n      <td>-0.116466</td>\n      <td>0.975265</td>\n      <td>-0.000169</td>\n      <td>-0.414984</td>\n      <td>-2.789692</td>\n      <td>-0.010724</td>\n      <td>0.009731</td>\n      <td>-0.002198</td>\n      <td>-0.001863</td>\n      <td>31.410313</td>\n      <td>57020.0</td>\n      <td>-0.079092</td>\n      <td>-0.996863</td>\n      <td>-0.002784</td>\n      <td>3.776755</td>\n    </tr>\n    <tr>\n      <th>...</th>\n      <td>...</td>\n      <td>...</td>\n      <td>...</td>\n      <td>...</td>\n      <td>...</td>\n      <td>...</td>\n      <td>...</td>\n      <td>...</td>\n      <td>...</td>\n      <td>...</td>\n      <td>...</td>\n      <td>...</td>\n      <td>...</td>\n      <td>...</td>\n      <td>...</td>\n      <td>...</td>\n      <td>...</td>\n      <td>...</td>\n    </tr>\n    <tr>\n      <th>12811</th>\n      <td>16</td>\n      <td>87811200</td>\n      <td>60980.0</td>\n      <td>0.773691</td>\n      <td>0.611912</td>\n      <td>0.000099</td>\n      <td>1.021725</td>\n      <td>2.413031</td>\n      <td>-0.140937</td>\n      <td>-0.009801</td>\n      <td>0.005248</td>\n      <td>0.000019</td>\n      <td>15.165857</td>\n      <td>60980.0</td>\n      <td>0.136075</td>\n      <td>0.987675</td>\n      <td>-0.077343</td>\n      <td>1.823532</td>\n    </tr>\n    <tr>\n      <th>12812</th>\n      <td>16</td>\n      <td>87818400</td>\n      <td>60985.0</td>\n      <td>0.715961</td>\n      <td>0.676486</td>\n      <td>0.000092</td>\n      <td>0.972517</td>\n      <td>2.438778</td>\n      <td>-0.140813</td>\n      <td>-0.009882</td>\n      <td>0.005051</td>\n      <td>0.000031</td>\n      <td>14.856968</td>\n      <td>60985.0</td>\n      <td>0.143675</td>\n      <td>0.986477</td>\n      <td>-0.078877</td>\n      <td>1.786392</td>\n    </tr>\n    <tr>\n      <th>12813</th>\n      <td>16</td>\n      <td>87825600</td>\n      <td>60990.0</td>\n      <td>0.652798</td>\n      <td>0.735916</td>\n      <td>0.000089</td>\n      <td>0.922915</td>\n      <td>2.463538</td>\n      <td>-0.140631</td>\n      <td>-0.009958</td>\n      <td>0.004853</td>\n      <td>0.000042</td>\n      <td>14.589457</td>\n      <td>60990.0</td>\n      <td>0.154039</td>\n      <td>0.984803</td>\n      <td>-0.080218</td>\n      <td>1.754226</td>\n    </tr>\n    <tr>\n      <th>12814</th>\n      <td>16</td>\n      <td>87832800</td>\n      <td>60995.0</td>\n      <td>0.584618</td>\n      <td>0.789732</td>\n      <td>0.000088</td>\n      <td>0.872940</td>\n      <td>2.487307</td>\n      <td>-0.140394</td>\n      <td>-0.010031</td>\n      <td>0.004654</td>\n      <td>0.000053</td>\n      <td>14.367795</td>\n      <td>60995.0</td>\n      <td>0.166954</td>\n      <td>0.982606</td>\n      <td>-0.081318</td>\n      <td>1.727574</td>\n    </tr>\n    <tr>\n      <th>12815</th>\n      <td>16</td>\n      <td>87840000</td>\n      <td>61000.0</td>\n      <td>0.511910</td>\n      <td>0.837467</td>\n      <td>0.000087</td>\n      <td>0.822615</td>\n      <td>2.510081</td>\n      <td>-0.140100</td>\n      <td>-0.010099</td>\n      <td>0.004455</td>\n      <td>0.000064</td>\n      <td>14.196398</td>\n      <td>61000.0</td>\n      <td>0.182082</td>\n      <td>0.979848</td>\n      <td>-0.082126</td>\n      <td>1.706965</td>\n    </tr>\n  </tbody>\n</table>\n<p>12816 rows × 18 columns</p>\n</div>"
     },
     "metadata": {},
     "execution_count": 13
    }
   ],
   "source": [
    "df_jpl"
   ]
  },
  {
   "cell_type": "code",
   "execution_count": 14,
   "metadata": {},
   "outputs": [],
   "source": [
    "u_jpl = df_jpl[cols_u_ast].values"
   ]
  },
  {
   "cell_type": "code",
   "execution_count": 15,
   "metadata": {},
   "outputs": [],
   "source": [
    "# Spline for asteroid position\n",
    "spline_q_ast = make_spline_ast_elt(n0=n0, n1=n1, mjd0=mjd0, mjd1=mjd1)"
   ]
  },
  {
   "cell_type": "code",
   "execution_count": 16,
   "metadata": {},
   "outputs": [],
   "source": [
    "from asteroid_direction import calc_dir_ast2obs\n",
    "ts=df_jpl.tObs.values\n",
    "asteroid_id=df_jpl.AsteroidID.values\n",
    "site_name='geocenter'\n",
    "iters=2"
   ]
  },
  {
   "cell_type": "code",
   "execution_count": 17,
   "metadata": {},
   "outputs": [],
   "source": [
    "df_mse = calc_dir_ast2obs(ts=ts, asteroid_id=asteroid_id, site_name=site_name, iters=iters)"
   ]
  },
  {
   "cell_type": "code",
   "execution_count": 18,
   "metadata": {},
   "outputs": [
    {
     "output_type": "execute_result",
     "data": {
      "text/plain": [
       "       AsteroidID     tObs  LightTime        ux        uy        uz\n",
       "0               1  57000.0  31.518524 -0.221485 -0.975138  0.007054\n",
       "1               1  57005.0  31.536438 -0.186052 -0.982529  0.004596\n",
       "2               1  57010.0  31.524576 -0.150452 -0.988615  0.002141\n",
       "3               1  57015.0  31.482620 -0.114770 -0.993392 -0.000316\n",
       "4               1  57020.0  31.410586 -0.079098 -0.996863 -0.002784\n",
       "...           ...      ...        ...       ...       ...       ...\n",
       "12811          16  60980.0  28.934965 -0.984901  0.123093 -0.121732\n",
       "12812          16  60985.0  28.565000 -0.987638  0.093795 -0.125590\n",
       "12813          16  60990.0  28.171823 -0.989418  0.065208 -0.129618\n",
       "12814          16  60995.0  27.756251 -0.990297  0.037434 -0.133829\n",
       "12815          16  61000.0  27.319508 -0.990343  0.010590 -0.138233\n",
       "\n",
       "[12816 rows x 6 columns]"
      ],
      "text/html": "<div>\n<style scoped>\n    .dataframe tbody tr th:only-of-type {\n        vertical-align: middle;\n    }\n\n    .dataframe tbody tr th {\n        vertical-align: top;\n    }\n\n    .dataframe thead th {\n        text-align: right;\n    }\n</style>\n<table border=\"1\" class=\"dataframe\">\n  <thead>\n    <tr style=\"text-align: right;\">\n      <th></th>\n      <th>AsteroidID</th>\n      <th>tObs</th>\n      <th>LightTime</th>\n      <th>ux</th>\n      <th>uy</th>\n      <th>uz</th>\n    </tr>\n  </thead>\n  <tbody>\n    <tr>\n      <th>0</th>\n      <td>1</td>\n      <td>57000.0</td>\n      <td>31.518524</td>\n      <td>-0.221485</td>\n      <td>-0.975138</td>\n      <td>0.007054</td>\n    </tr>\n    <tr>\n      <th>1</th>\n      <td>1</td>\n      <td>57005.0</td>\n      <td>31.536438</td>\n      <td>-0.186052</td>\n      <td>-0.982529</td>\n      <td>0.004596</td>\n    </tr>\n    <tr>\n      <th>2</th>\n      <td>1</td>\n      <td>57010.0</td>\n      <td>31.524576</td>\n      <td>-0.150452</td>\n      <td>-0.988615</td>\n      <td>0.002141</td>\n    </tr>\n    <tr>\n      <th>3</th>\n      <td>1</td>\n      <td>57015.0</td>\n      <td>31.482620</td>\n      <td>-0.114770</td>\n      <td>-0.993392</td>\n      <td>-0.000316</td>\n    </tr>\n    <tr>\n      <th>4</th>\n      <td>1</td>\n      <td>57020.0</td>\n      <td>31.410586</td>\n      <td>-0.079098</td>\n      <td>-0.996863</td>\n      <td>-0.002784</td>\n    </tr>\n    <tr>\n      <th>...</th>\n      <td>...</td>\n      <td>...</td>\n      <td>...</td>\n      <td>...</td>\n      <td>...</td>\n      <td>...</td>\n    </tr>\n    <tr>\n      <th>12811</th>\n      <td>16</td>\n      <td>60980.0</td>\n      <td>28.934965</td>\n      <td>-0.984901</td>\n      <td>0.123093</td>\n      <td>-0.121732</td>\n    </tr>\n    <tr>\n      <th>12812</th>\n      <td>16</td>\n      <td>60985.0</td>\n      <td>28.565000</td>\n      <td>-0.987638</td>\n      <td>0.093795</td>\n      <td>-0.125590</td>\n    </tr>\n    <tr>\n      <th>12813</th>\n      <td>16</td>\n      <td>60990.0</td>\n      <td>28.171823</td>\n      <td>-0.989418</td>\n      <td>0.065208</td>\n      <td>-0.129618</td>\n    </tr>\n    <tr>\n      <th>12814</th>\n      <td>16</td>\n      <td>60995.0</td>\n      <td>27.756251</td>\n      <td>-0.990297</td>\n      <td>0.037434</td>\n      <td>-0.133829</td>\n    </tr>\n    <tr>\n      <th>12815</th>\n      <td>16</td>\n      <td>61000.0</td>\n      <td>27.319508</td>\n      <td>-0.990343</td>\n      <td>0.010590</td>\n      <td>-0.138233</td>\n    </tr>\n  </tbody>\n</table>\n<p>12816 rows × 6 columns</p>\n</div>"
     },
     "metadata": {},
     "execution_count": 18
    }
   ],
   "source": [
    "df_mse"
   ]
  },
  {
   "cell_type": "code",
   "execution_count": 19,
   "metadata": {},
   "outputs": [],
   "source": [
    "u_mse = df_mse[cols_u].values"
   ]
  },
  {
   "cell_type": "code",
   "execution_count": 20,
   "metadata": {},
   "outputs": [],
   "source": [
    "du = (u_mse - u_jpl)"
   ]
  },
  {
   "cell_type": "code",
   "execution_count": 21,
   "metadata": {},
   "outputs": [],
   "source": [
    "err = np.sqrt(np.sum(np.square(du), axis=-1))"
   ]
  },
  {
   "cell_type": "code",
   "execution_count": 22,
   "metadata": {},
   "outputs": [
    {
     "output_type": "execute_result",
     "data": {
      "text/plain": [
       "array([6.48893568e-06, 6.47283577e-06, 6.45092330e-06, ...,\n",
       "       1.46819265e+00, 1.49510392e+00, 1.52223144e+00])"
      ]
     },
     "metadata": {},
     "execution_count": 22
    }
   ],
   "source": [
    "err"
   ]
  },
  {
   "cell_type": "code",
   "execution_count": 23,
   "metadata": {},
   "outputs": [
    {
     "output_type": "execute_result",
     "data": {
      "text/plain": [
       "       AsteroidID     tObs  LightTime        ux        uy        uz\n",
       "12731          16  60580.0  14.868227  0.086758  0.974707  0.205961\n",
       "12732          16  60585.0  14.446095  0.066772  0.975807  0.208188\n",
       "12733          16  60590.0  14.030987  0.049436  0.976388  0.210292\n",
       "12734          16  60595.0  13.625637  0.034964  0.976596  0.212221\n",
       "12735          16  60600.0  13.232855  0.023547  0.976569  0.213914\n",
       "12736          16  60605.0  12.855446  0.015374  0.976427  0.215298\n",
       "12737          16  60610.0  12.496690  0.010640  0.976272  0.216287\n",
       "12738          16  60615.0  12.160592  0.009500  0.976175  0.216777"
      ],
      "text/html": "<div>\n<style scoped>\n    .dataframe tbody tr th:only-of-type {\n        vertical-align: middle;\n    }\n\n    .dataframe tbody tr th {\n        vertical-align: top;\n    }\n\n    .dataframe thead th {\n        text-align: right;\n    }\n</style>\n<table border=\"1\" class=\"dataframe\">\n  <thead>\n    <tr style=\"text-align: right;\">\n      <th></th>\n      <th>AsteroidID</th>\n      <th>tObs</th>\n      <th>LightTime</th>\n      <th>ux</th>\n      <th>uy</th>\n      <th>uz</th>\n    </tr>\n  </thead>\n  <tbody>\n    <tr>\n      <th>12731</th>\n      <td>16</td>\n      <td>60580.0</td>\n      <td>14.868227</td>\n      <td>0.086758</td>\n      <td>0.974707</td>\n      <td>0.205961</td>\n    </tr>\n    <tr>\n      <th>12732</th>\n      <td>16</td>\n      <td>60585.0</td>\n      <td>14.446095</td>\n      <td>0.066772</td>\n      <td>0.975807</td>\n      <td>0.208188</td>\n    </tr>\n    <tr>\n      <th>12733</th>\n      <td>16</td>\n      <td>60590.0</td>\n      <td>14.030987</td>\n      <td>0.049436</td>\n      <td>0.976388</td>\n      <td>0.210292</td>\n    </tr>\n    <tr>\n      <th>12734</th>\n      <td>16</td>\n      <td>60595.0</td>\n      <td>13.625637</td>\n      <td>0.034964</td>\n      <td>0.976596</td>\n      <td>0.212221</td>\n    </tr>\n    <tr>\n      <th>12735</th>\n      <td>16</td>\n      <td>60600.0</td>\n      <td>13.232855</td>\n      <td>0.023547</td>\n      <td>0.976569</td>\n      <td>0.213914</td>\n    </tr>\n    <tr>\n      <th>12736</th>\n      <td>16</td>\n      <td>60605.0</td>\n      <td>12.855446</td>\n      <td>0.015374</td>\n      <td>0.976427</td>\n      <td>0.215298</td>\n    </tr>\n    <tr>\n      <th>12737</th>\n      <td>16</td>\n      <td>60610.0</td>\n      <td>12.496690</td>\n      <td>0.010640</td>\n      <td>0.976272</td>\n      <td>0.216287</td>\n    </tr>\n    <tr>\n      <th>12738</th>\n      <td>16</td>\n      <td>60615.0</td>\n      <td>12.160592</td>\n      <td>0.009500</td>\n      <td>0.976175</td>\n      <td>0.216777</td>\n    </tr>\n  </tbody>\n</table>\n</div>"
     },
     "metadata": {},
     "execution_count": 23
    }
   ],
   "source": [
    "idx = np.argmax(err)\n",
    "df_mse[]idx-4:idx+4"
   ]
  },
  {
   "cell_type": "code",
   "execution_count": 24,
   "metadata": {},
   "outputs": [
    {
     "output_type": "execute_result",
     "data": {
      "text/plain": [
       "       AsteroidID  ObservatoryID    TimeID          tAst      RA_ast  \\\n",
       "12731          16              0  87235200  60579.988616  309.863994   \n",
       "12732          16              0  87242400  60584.988319  310.089947   \n",
       "12733          16              0  87249600  60589.988007  310.477089   \n",
       "12734          16              0  87256800  60594.987683  311.019369   \n",
       "12735          16              0  87264000  60599.987348  311.708411   \n",
       "12736          16              0  87271200  60604.987006  312.534813   \n",
       "12737          16              0  87278400  60609.986658  313.489997   \n",
       "12738          16              0  87285600  60614.986306  314.565697   \n",
       "\n",
       "         DEC_ast    ux_ast    uy_ast    uz_ast      RA_app    DEC_app  \\\n",
       "12731 -18.092383  0.609276 -0.792940  0.005301  310.218393 -18.005147   \n",
       "12732 -18.130739  0.612015 -0.790838  0.003696  310.443987 -18.043203   \n",
       "12733 -18.123530  0.616939 -0.787008  0.002166  310.830568 -18.035321   \n",
       "12734 -18.071135  0.623940 -0.781472  0.000713  311.372340 -17.981953   \n",
       "12735 -17.974366  0.632868 -0.774260 -0.000664  312.060510 -17.884030   \n",
       "12736 -17.834239  0.643552 -0.765400 -0.001968  312.886036 -17.742389   \n",
       "12737 -17.651404  0.655825 -0.754906 -0.003205  313.840210 -17.557918   \n",
       "12738 -17.426250  0.669520 -0.742781 -0.004378  314.914568 -17.330951   \n",
       "\n",
       "         ux_app    uy_app    uz_app  LightTime     tObs  \n",
       "12731  0.614082 -0.789225  0.005268  16.392571  60580.0  \n",
       "12732  0.616803 -0.787109  0.003662  16.819956  60585.0  \n",
       "12733  0.621699 -0.783253  0.002133  17.269292  60590.0  \n",
       "12734  0.628665 -0.777676  0.000680  17.736594  60595.0  \n",
       "12735  0.637545 -0.770413 -0.000696  18.218164  60600.0  \n",
       "12736  0.648173 -0.761490 -0.002000  18.710905  60605.0  \n",
       "12737  0.660381 -0.750924 -0.003237  19.212110  60610.0  \n",
       "12738  0.673997 -0.738721 -0.004408  19.718958  60615.0  "
      ],
      "text/html": "<div>\n<style scoped>\n    .dataframe tbody tr th:only-of-type {\n        vertical-align: middle;\n    }\n\n    .dataframe tbody tr th {\n        vertical-align: top;\n    }\n\n    .dataframe thead th {\n        text-align: right;\n    }\n</style>\n<table border=\"1\" class=\"dataframe\">\n  <thead>\n    <tr style=\"text-align: right;\">\n      <th></th>\n      <th>AsteroidID</th>\n      <th>ObservatoryID</th>\n      <th>TimeID</th>\n      <th>tAst</th>\n      <th>RA_ast</th>\n      <th>DEC_ast</th>\n      <th>ux_ast</th>\n      <th>uy_ast</th>\n      <th>uz_ast</th>\n      <th>RA_app</th>\n      <th>DEC_app</th>\n      <th>ux_app</th>\n      <th>uy_app</th>\n      <th>uz_app</th>\n      <th>LightTime</th>\n      <th>tObs</th>\n    </tr>\n  </thead>\n  <tbody>\n    <tr>\n      <th>12731</th>\n      <td>16</td>\n      <td>0</td>\n      <td>87235200</td>\n      <td>60579.988616</td>\n      <td>309.863994</td>\n      <td>-18.092383</td>\n      <td>0.609276</td>\n      <td>-0.792940</td>\n      <td>0.005301</td>\n      <td>310.218393</td>\n      <td>-18.005147</td>\n      <td>0.614082</td>\n      <td>-0.789225</td>\n      <td>0.005268</td>\n      <td>16.392571</td>\n      <td>60580.0</td>\n    </tr>\n    <tr>\n      <th>12732</th>\n      <td>16</td>\n      <td>0</td>\n      <td>87242400</td>\n      <td>60584.988319</td>\n      <td>310.089947</td>\n      <td>-18.130739</td>\n      <td>0.612015</td>\n      <td>-0.790838</td>\n      <td>0.003696</td>\n      <td>310.443987</td>\n      <td>-18.043203</td>\n      <td>0.616803</td>\n      <td>-0.787109</td>\n      <td>0.003662</td>\n      <td>16.819956</td>\n      <td>60585.0</td>\n    </tr>\n    <tr>\n      <th>12733</th>\n      <td>16</td>\n      <td>0</td>\n      <td>87249600</td>\n      <td>60589.988007</td>\n      <td>310.477089</td>\n      <td>-18.123530</td>\n      <td>0.616939</td>\n      <td>-0.787008</td>\n      <td>0.002166</td>\n      <td>310.830568</td>\n      <td>-18.035321</td>\n      <td>0.621699</td>\n      <td>-0.783253</td>\n      <td>0.002133</td>\n      <td>17.269292</td>\n      <td>60590.0</td>\n    </tr>\n    <tr>\n      <th>12734</th>\n      <td>16</td>\n      <td>0</td>\n      <td>87256800</td>\n      <td>60594.987683</td>\n      <td>311.019369</td>\n      <td>-18.071135</td>\n      <td>0.623940</td>\n      <td>-0.781472</td>\n      <td>0.000713</td>\n      <td>311.372340</td>\n      <td>-17.981953</td>\n      <td>0.628665</td>\n      <td>-0.777676</td>\n      <td>0.000680</td>\n      <td>17.736594</td>\n      <td>60595.0</td>\n    </tr>\n    <tr>\n      <th>12735</th>\n      <td>16</td>\n      <td>0</td>\n      <td>87264000</td>\n      <td>60599.987348</td>\n      <td>311.708411</td>\n      <td>-17.974366</td>\n      <td>0.632868</td>\n      <td>-0.774260</td>\n      <td>-0.000664</td>\n      <td>312.060510</td>\n      <td>-17.884030</td>\n      <td>0.637545</td>\n      <td>-0.770413</td>\n      <td>-0.000696</td>\n      <td>18.218164</td>\n      <td>60600.0</td>\n    </tr>\n    <tr>\n      <th>12736</th>\n      <td>16</td>\n      <td>0</td>\n      <td>87271200</td>\n      <td>60604.987006</td>\n      <td>312.534813</td>\n      <td>-17.834239</td>\n      <td>0.643552</td>\n      <td>-0.765400</td>\n      <td>-0.001968</td>\n      <td>312.886036</td>\n      <td>-17.742389</td>\n      <td>0.648173</td>\n      <td>-0.761490</td>\n      <td>-0.002000</td>\n      <td>18.710905</td>\n      <td>60605.0</td>\n    </tr>\n    <tr>\n      <th>12737</th>\n      <td>16</td>\n      <td>0</td>\n      <td>87278400</td>\n      <td>60609.986658</td>\n      <td>313.489997</td>\n      <td>-17.651404</td>\n      <td>0.655825</td>\n      <td>-0.754906</td>\n      <td>-0.003205</td>\n      <td>313.840210</td>\n      <td>-17.557918</td>\n      <td>0.660381</td>\n      <td>-0.750924</td>\n      <td>-0.003237</td>\n      <td>19.212110</td>\n      <td>60610.0</td>\n    </tr>\n    <tr>\n      <th>12738</th>\n      <td>16</td>\n      <td>0</td>\n      <td>87285600</td>\n      <td>60614.986306</td>\n      <td>314.565697</td>\n      <td>-17.426250</td>\n      <td>0.669520</td>\n      <td>-0.742781</td>\n      <td>-0.004378</td>\n      <td>314.914568</td>\n      <td>-17.330951</td>\n      <td>0.673997</td>\n      <td>-0.738721</td>\n      <td>-0.004408</td>\n      <td>19.718958</td>\n      <td>60615.0</td>\n    </tr>\n  </tbody>\n</table>\n</div>"
     },
     "metadata": {},
     "execution_count": 24
    }
   ],
   "source": [
    "df_jpl[idx-4:idx+4]"
   ]
  },
  {
   "cell_type": "code",
   "execution_count": null,
   "metadata": {},
   "outputs": [],
   "source": []
  }
 ],
 "metadata": {
  "kernelspec": {
   "display_name": "kepler",
   "language": "python",
   "name": "kepler"
  },
  "language_info": {
   "codemirror_mode": {
    "name": "ipython",
    "version": 3
   },
   "file_extension": ".py",
   "mimetype": "text/x-python",
   "name": "python",
   "nbconvert_exporter": "python",
   "pygments_lexer": "ipython3",
   "version": "3.8.5"
  }
 },
 "nbformat": 4,
 "nbformat_minor": 4
}