{
 "cells": [
  {
   "cell_type": "code",
   "execution_count": 1,
   "metadata": {},
   "outputs": [],
   "source": [
    "# Core\n",
    "import numpy as np\n",
    "import pandas as pd\n",
    "from scipy.interpolate import CubicSpline, RectBivariateSpline\n",
    "\n",
    "# Astronomy\n",
    "import astropy\n",
    "from astropy.units import au, minute\n",
    "\n",
    "from typing import List, Optional"
   ]
  },
  {
   "cell_type": "code",
   "execution_count": 2,
   "metadata": {},
   "outputs": [],
   "source": [
    "# Local imports\n",
    "import kepler_sieve\n",
    "from asteroid_data import load_ast_pos\n",
    "from asteroid_spline import get_df_shape, make_spline_df, spline_ast_data\n",
    "# from asteroid_spline import make_spline_df, spline_ast_vec, spline_ast_elt\n",
    "from planets_interp import get_earth_pos\n",
    "from asteroid_direction import calc_dir_ast2obs, c\n",
    "from asteroid_direction_test import jpl_ast_dir_populate\n",
    "from ra_dec import radec2dir, astrometric_dir\n",
    "from db_utils import sp2df, df2db\n",
    "import matplotlib.pyplot as plt"
   ]
  },
  {
   "cell_type": "code",
   "execution_count": 3,
   "metadata": {},
   "outputs": [
    {
     "output_type": "display_data",
     "data": {
      "text/plain": "  0%|          | 0/1 [00:00<?, ?it/s]",
      "application/vnd.jupyter.widget-view+json": {
       "version_major": 2,
       "version_minor": 0,
       "model_id": "7eb36c34e2e141d8abb1eec4031d050b"
      }
     },
     "metadata": {}
    }
   ],
   "source": [
    "# Build table JPL.AsteroidDirections from JPl.AsteroidDirections_Import\n",
    "jpl_ast_dir_populate()"
   ]
  },
  {
   "cell_type": "code",
   "execution_count": 10,
   "metadata": {},
   "outputs": [],
   "source": [
    "# Inputs\n",
    "n0 = 1\n",
    "n1 = 3"
   ]
  },
  {
   "cell_type": "code",
   "execution_count": 11,
   "metadata": {},
   "outputs": [],
   "source": [
    "# Import the JPL asteroid directions\n",
    "sp_name = 'JPL.GetAsteroidDirection'\n",
    "params = {\n",
    "    'n0': n0,\n",
    "    'n1': n1,\n",
    "}\n",
    "dfh = sp2df(sp_name=sp_name, params=params)"
   ]
  },
  {
   "cell_type": "code",
   "execution_count": 12,
   "metadata": {},
   "outputs": [
    {
     "output_type": "execute_result",
     "data": {
      "text/plain": [
       "       AsteroidID  ObservatoryID     TimeID      mjd      RA_ast    DEC_ast  \\\n",
       "0               1              0   58176000  40400.0  315.984929 -26.691893   \n",
       "1               1              0   58183200  40405.0  315.339431 -27.239939   \n",
       "2               1              0   58190400  40410.0  314.556310 -27.799476   \n",
       "3               1              0   58197600  40415.0  313.649961 -28.358533   \n",
       "4               1              0   58204800  40420.0  312.640884 -28.903941   \n",
       "...           ...            ...        ...      ...         ...        ...   \n",
       "29759           2              1  111715200  77580.0  305.864105  11.497201   \n",
       "29760           2              1  111722400  77585.0  306.730950  12.128593   \n",
       "29761           2              1  111729600  77590.0  307.512122  12.761502   \n",
       "29762           2              1  111736800  77595.0  308.202299  13.391875   \n",
       "29763           2              1  111744000  77600.0  308.796135  14.014983   \n",
       "\n",
       "         ux_ast    uy_ast    uz_ast      RA_app    DEC_app    ux_app  \\\n",
       "0      0.642520 -0.748252 -0.165186  315.540377 -26.813296  0.637003   \n",
       "1      0.632400 -0.755451 -0.171357  314.893582 -27.359919  0.626840   \n",
       "2      0.620634 -0.763823 -0.177167  314.108587 -27.917822  0.615018   \n",
       "3      0.607416 -0.773133 -0.182513  313.200319 -28.474913  0.601738   \n",
       "4      0.593018 -0.783102 -0.187298  312.189150 -29.018219  0.587274   \n",
       "...         ...       ...       ...         ...        ...       ...   \n",
       "29759  0.574109 -0.649331  0.498766  306.711224  11.730989  0.585296   \n",
       "29760  0.584709 -0.635330  0.504452  307.575687  12.367257  0.595658   \n",
       "29761  0.593888 -0.621926  0.510398  308.354515  13.004506  0.604611   \n",
       "29762  0.601624 -0.609253  0.516584  309.042243  13.638684  0.612132   \n",
       "29763  0.607900 -0.597450  0.522983  309.633793  14.265145  0.618210   \n",
       "\n",
       "         uy_app    uz_app  LightTime  \n",
       "0     -0.752949 -0.165212  17.119051  \n",
       "1     -0.760065 -0.171385  16.848578  \n",
       "2     -0.768345 -0.177196  16.625932  \n",
       "3     -0.777553 -0.182544  16.454580  \n",
       "4     -0.787411 -0.187332  16.337417  \n",
       "...         ...       ...        ...  \n",
       "29759 -0.639270  0.498760  29.139334  \n",
       "29760 -0.625081  0.504446  28.670323  \n",
       "29761 -0.611513  0.510390  28.191927  \n",
       "29762 -0.598703  0.516575  27.706250  \n",
       "29763 -0.586784  0.522973  27.215812  \n",
       "\n",
       "[29764 rows x 15 columns]"
      ],
      "text/html": "<div>\n<style scoped>\n    .dataframe tbody tr th:only-of-type {\n        vertical-align: middle;\n    }\n\n    .dataframe tbody tr th {\n        vertical-align: top;\n    }\n\n    .dataframe thead th {\n        text-align: right;\n    }\n</style>\n<table border=\"1\" class=\"dataframe\">\n  <thead>\n    <tr style=\"text-align: right;\">\n      <th></th>\n      <th>AsteroidID</th>\n      <th>ObservatoryID</th>\n      <th>TimeID</th>\n      <th>mjd</th>\n      <th>RA_ast</th>\n      <th>DEC_ast</th>\n      <th>ux_ast</th>\n      <th>uy_ast</th>\n      <th>uz_ast</th>\n      <th>RA_app</th>\n      <th>DEC_app</th>\n      <th>ux_app</th>\n      <th>uy_app</th>\n      <th>uz_app</th>\n      <th>LightTime</th>\n    </tr>\n  </thead>\n  <tbody>\n    <tr>\n      <th>0</th>\n      <td>1</td>\n      <td>0</td>\n      <td>58176000</td>\n      <td>40400.0</td>\n      <td>315.984929</td>\n      <td>-26.691893</td>\n      <td>0.642520</td>\n      <td>-0.748252</td>\n      <td>-0.165186</td>\n      <td>315.540377</td>\n      <td>-26.813296</td>\n      <td>0.637003</td>\n      <td>-0.752949</td>\n      <td>-0.165212</td>\n      <td>17.119051</td>\n    </tr>\n    <tr>\n      <th>1</th>\n      <td>1</td>\n      <td>0</td>\n      <td>58183200</td>\n      <td>40405.0</td>\n      <td>315.339431</td>\n      <td>-27.239939</td>\n      <td>0.632400</td>\n      <td>-0.755451</td>\n      <td>-0.171357</td>\n      <td>314.893582</td>\n      <td>-27.359919</td>\n      <td>0.626840</td>\n      <td>-0.760065</td>\n      <td>-0.171385</td>\n      <td>16.848578</td>\n    </tr>\n    <tr>\n      <th>2</th>\n      <td>1</td>\n      <td>0</td>\n      <td>58190400</td>\n      <td>40410.0</td>\n      <td>314.556310</td>\n      <td>-27.799476</td>\n      <td>0.620634</td>\n      <td>-0.763823</td>\n      <td>-0.177167</td>\n      <td>314.108587</td>\n      <td>-27.917822</td>\n      <td>0.615018</td>\n      <td>-0.768345</td>\n      <td>-0.177196</td>\n      <td>16.625932</td>\n    </tr>\n    <tr>\n      <th>3</th>\n      <td>1</td>\n      <td>0</td>\n      <td>58197600</td>\n      <td>40415.0</td>\n      <td>313.649961</td>\n      <td>-28.358533</td>\n      <td>0.607416</td>\n      <td>-0.773133</td>\n      <td>-0.182513</td>\n      <td>313.200319</td>\n      <td>-28.474913</td>\n      <td>0.601738</td>\n      <td>-0.777553</td>\n      <td>-0.182544</td>\n      <td>16.454580</td>\n    </tr>\n    <tr>\n      <th>4</th>\n      <td>1</td>\n      <td>0</td>\n      <td>58204800</td>\n      <td>40420.0</td>\n      <td>312.640884</td>\n      <td>-28.903941</td>\n      <td>0.593018</td>\n      <td>-0.783102</td>\n      <td>-0.187298</td>\n      <td>312.189150</td>\n      <td>-29.018219</td>\n      <td>0.587274</td>\n      <td>-0.787411</td>\n      <td>-0.187332</td>\n      <td>16.337417</td>\n    </tr>\n    <tr>\n      <th>...</th>\n      <td>...</td>\n      <td>...</td>\n      <td>...</td>\n      <td>...</td>\n      <td>...</td>\n      <td>...</td>\n      <td>...</td>\n      <td>...</td>\n      <td>...</td>\n      <td>...</td>\n      <td>...</td>\n      <td>...</td>\n      <td>...</td>\n      <td>...</td>\n      <td>...</td>\n    </tr>\n    <tr>\n      <th>29759</th>\n      <td>2</td>\n      <td>1</td>\n      <td>111715200</td>\n      <td>77580.0</td>\n      <td>305.864105</td>\n      <td>11.497201</td>\n      <td>0.574109</td>\n      <td>-0.649331</td>\n      <td>0.498766</td>\n      <td>306.711224</td>\n      <td>11.730989</td>\n      <td>0.585296</td>\n      <td>-0.639270</td>\n      <td>0.498760</td>\n      <td>29.139334</td>\n    </tr>\n    <tr>\n      <th>29760</th>\n      <td>2</td>\n      <td>1</td>\n      <td>111722400</td>\n      <td>77585.0</td>\n      <td>306.730950</td>\n      <td>12.128593</td>\n      <td>0.584709</td>\n      <td>-0.635330</td>\n      <td>0.504452</td>\n      <td>307.575687</td>\n      <td>12.367257</td>\n      <td>0.595658</td>\n      <td>-0.625081</td>\n      <td>0.504446</td>\n      <td>28.670323</td>\n    </tr>\n    <tr>\n      <th>29761</th>\n      <td>2</td>\n      <td>1</td>\n      <td>111729600</td>\n      <td>77590.0</td>\n      <td>307.512122</td>\n      <td>12.761502</td>\n      <td>0.593888</td>\n      <td>-0.621926</td>\n      <td>0.510398</td>\n      <td>308.354515</td>\n      <td>13.004506</td>\n      <td>0.604611</td>\n      <td>-0.611513</td>\n      <td>0.510390</td>\n      <td>28.191927</td>\n    </tr>\n    <tr>\n      <th>29762</th>\n      <td>2</td>\n      <td>1</td>\n      <td>111736800</td>\n      <td>77595.0</td>\n      <td>308.202299</td>\n      <td>13.391875</td>\n      <td>0.601624</td>\n      <td>-0.609253</td>\n      <td>0.516584</td>\n      <td>309.042243</td>\n      <td>13.638684</td>\n      <td>0.612132</td>\n      <td>-0.598703</td>\n      <td>0.516575</td>\n      <td>27.706250</td>\n    </tr>\n    <tr>\n      <th>29763</th>\n      <td>2</td>\n      <td>1</td>\n      <td>111744000</td>\n      <td>77600.0</td>\n      <td>308.796135</td>\n      <td>14.014983</td>\n      <td>0.607900</td>\n      <td>-0.597450</td>\n      <td>0.522983</td>\n      <td>309.633793</td>\n      <td>14.265145</td>\n      <td>0.618210</td>\n      <td>-0.586784</td>\n      <td>0.522973</td>\n      <td>27.215812</td>\n    </tr>\n  </tbody>\n</table>\n<p>29764 rows × 15 columns</p>\n</div>"
     },
     "metadata": {},
     "execution_count": 12
    }
   ],
   "source": [
    "# The Horizons DataFrame\n",
    "dfh"
   ]
  },
  {
   "cell_type": "code",
   "execution_count": 13,
   "metadata": {},
   "outputs": [],
   "source": [
    "# Calculate the direction and light time\n",
    "df = calc_dir_ast2obs(n0=n0, n1=n1)\n",
    "# Mask down to Ceres\n",
    "mask = df.AsteroidID==1\n",
    "dfm = df[mask]\n",
    "# Take every 5th row to get data every 20 days\n",
    "dfm = dfm.iloc[::5]\n",
    "dfm.reset_index(inplace=True)"
   ]
  },
  {
   "cell_type": "code",
   "execution_count": 14,
   "metadata": {},
   "outputs": [
    {
     "output_type": "execute_result",
     "data": {
      "text/plain": [
       "     index  AsteroidID    TimeID          tAst    qAst_x    qAst_y    qAst_z  \\\n",
       "0        0           1  69120000  47999.983776 -1.155142  2.297488  0.282872   \n",
       "1        5           1  69148800  48019.982530 -1.339957  2.180571  0.313492   \n",
       "2       10           1  69177600  48039.981466 -1.515679  2.048533  0.341973   \n",
       "3       15           1  69206400  48059.980612 -1.680852  1.902253  0.368072   \n",
       "4       20           1  69235200  48079.979986 -1.834242  1.742653  0.391590   \n",
       "..     ...         ...       ...           ...       ...       ...       ...   \n",
       "746   3730           1  90604800  62919.983586  1.040245  2.523575 -0.111216   \n",
       "747   3735           1  90633600  62939.982228  0.841699  2.580912 -0.072849   \n",
       "748   3740           1  90662400  62959.981056  0.638171  2.622996 -0.034051   \n",
       "749   3745           1  90691200  62979.980116  0.430794  2.649302  0.004953   \n",
       "750   3750           1  90720000  62999.979436  0.220770  2.659388  0.043926   \n",
       "\n",
       "        tObs    qObs_x    qObs_y    qObs_z  LightTime        ux        uy  \\\n",
       "0    48000.0 -0.880033 -0.483797 -0.000050  23.362923 -0.097934  0.990084   \n",
       "1    48020.0 -0.672050 -0.752861 -0.000054  25.156518 -0.220867  0.969778   \n",
       "2    48040.0 -0.387430 -0.936156 -0.000062  26.689240 -0.351634  0.930049   \n",
       "3    48060.0 -0.059128 -1.013903 -0.000068  27.919357 -0.483140  0.868647   \n",
       "4    48080.0  0.275907 -0.978170 -0.000064  28.820858 -0.608968  0.785100   \n",
       "..       ...       ...       ...       ...        ...       ...       ...   \n",
       "746  62920.0 -0.888358  0.439174  0.000041  23.635688  0.678583  0.733480   \n",
       "747  62940.0 -0.989708  0.109224  0.000069  25.591547  0.595127  0.803283   \n",
       "748  62960.0 -0.973270 -0.233765  0.000098  27.279676  0.491230  0.870968   \n",
       "749  62980.0 -0.842919 -0.549270  0.000119  28.633330  0.369905  0.929069   \n",
       "750  63000.0 -0.615447 -0.801313  0.000134  29.612318  0.234797  0.971966   \n",
       "\n",
       "           uz  \n",
       "0    0.100715  \n",
       "1    0.103669  \n",
       "2    0.106593  \n",
       "3    0.109672  \n",
       "4    0.113026  \n",
       "..        ...  \n",
       "746 -0.039139  \n",
       "747 -0.023686  \n",
       "748 -0.010400  \n",
       "749  0.001415  \n",
       "750  0.012311  \n",
       "\n",
       "[751 rows x 15 columns]"
      ],
      "text/html": "<div>\n<style scoped>\n    .dataframe tbody tr th:only-of-type {\n        vertical-align: middle;\n    }\n\n    .dataframe tbody tr th {\n        vertical-align: top;\n    }\n\n    .dataframe thead th {\n        text-align: right;\n    }\n</style>\n<table border=\"1\" class=\"dataframe\">\n  <thead>\n    <tr style=\"text-align: right;\">\n      <th></th>\n      <th>index</th>\n      <th>AsteroidID</th>\n      <th>TimeID</th>\n      <th>tAst</th>\n      <th>qAst_x</th>\n      <th>qAst_y</th>\n      <th>qAst_z</th>\n      <th>tObs</th>\n      <th>qObs_x</th>\n      <th>qObs_y</th>\n      <th>qObs_z</th>\n      <th>LightTime</th>\n      <th>ux</th>\n      <th>uy</th>\n      <th>uz</th>\n    </tr>\n  </thead>\n  <tbody>\n    <tr>\n      <th>0</th>\n      <td>0</td>\n      <td>1</td>\n      <td>69120000</td>\n      <td>47999.983776</td>\n      <td>-1.155142</td>\n      <td>2.297488</td>\n      <td>0.282872</td>\n      <td>48000.0</td>\n      <td>-0.880033</td>\n      <td>-0.483797</td>\n      <td>-0.000050</td>\n      <td>23.362923</td>\n      <td>-0.097934</td>\n      <td>0.990084</td>\n      <td>0.100715</td>\n    </tr>\n    <tr>\n      <th>1</th>\n      <td>5</td>\n      <td>1</td>\n      <td>69148800</td>\n      <td>48019.982530</td>\n      <td>-1.339957</td>\n      <td>2.180571</td>\n      <td>0.313492</td>\n      <td>48020.0</td>\n      <td>-0.672050</td>\n      <td>-0.752861</td>\n      <td>-0.000054</td>\n      <td>25.156518</td>\n      <td>-0.220867</td>\n      <td>0.969778</td>\n      <td>0.103669</td>\n    </tr>\n    <tr>\n      <th>2</th>\n      <td>10</td>\n      <td>1</td>\n      <td>69177600</td>\n      <td>48039.981466</td>\n      <td>-1.515679</td>\n      <td>2.048533</td>\n      <td>0.341973</td>\n      <td>48040.0</td>\n      <td>-0.387430</td>\n      <td>-0.936156</td>\n      <td>-0.000062</td>\n      <td>26.689240</td>\n      <td>-0.351634</td>\n      <td>0.930049</td>\n      <td>0.106593</td>\n    </tr>\n    <tr>\n      <th>3</th>\n      <td>15</td>\n      <td>1</td>\n      <td>69206400</td>\n      <td>48059.980612</td>\n      <td>-1.680852</td>\n      <td>1.902253</td>\n      <td>0.368072</td>\n      <td>48060.0</td>\n      <td>-0.059128</td>\n      <td>-1.013903</td>\n      <td>-0.000068</td>\n      <td>27.919357</td>\n      <td>-0.483140</td>\n      <td>0.868647</td>\n      <td>0.109672</td>\n    </tr>\n    <tr>\n      <th>4</th>\n      <td>20</td>\n      <td>1</td>\n      <td>69235200</td>\n      <td>48079.979986</td>\n      <td>-1.834242</td>\n      <td>1.742653</td>\n      <td>0.391590</td>\n      <td>48080.0</td>\n      <td>0.275907</td>\n      <td>-0.978170</td>\n      <td>-0.000064</td>\n      <td>28.820858</td>\n      <td>-0.608968</td>\n      <td>0.785100</td>\n      <td>0.113026</td>\n    </tr>\n    <tr>\n      <th>...</th>\n      <td>...</td>\n      <td>...</td>\n      <td>...</td>\n      <td>...</td>\n      <td>...</td>\n      <td>...</td>\n      <td>...</td>\n      <td>...</td>\n      <td>...</td>\n      <td>...</td>\n      <td>...</td>\n      <td>...</td>\n      <td>...</td>\n      <td>...</td>\n      <td>...</td>\n    </tr>\n    <tr>\n      <th>746</th>\n      <td>3730</td>\n      <td>1</td>\n      <td>90604800</td>\n      <td>62919.983586</td>\n      <td>1.040245</td>\n      <td>2.523575</td>\n      <td>-0.111216</td>\n      <td>62920.0</td>\n      <td>-0.888358</td>\n      <td>0.439174</td>\n      <td>0.000041</td>\n      <td>23.635688</td>\n      <td>0.678583</td>\n      <td>0.733480</td>\n      <td>-0.039139</td>\n    </tr>\n    <tr>\n      <th>747</th>\n      <td>3735</td>\n      <td>1</td>\n      <td>90633600</td>\n      <td>62939.982228</td>\n      <td>0.841699</td>\n      <td>2.580912</td>\n      <td>-0.072849</td>\n      <td>62940.0</td>\n      <td>-0.989708</td>\n      <td>0.109224</td>\n      <td>0.000069</td>\n      <td>25.591547</td>\n      <td>0.595127</td>\n      <td>0.803283</td>\n      <td>-0.023686</td>\n    </tr>\n    <tr>\n      <th>748</th>\n      <td>3740</td>\n      <td>1</td>\n      <td>90662400</td>\n      <td>62959.981056</td>\n      <td>0.638171</td>\n      <td>2.622996</td>\n      <td>-0.034051</td>\n      <td>62960.0</td>\n      <td>-0.973270</td>\n      <td>-0.233765</td>\n      <td>0.000098</td>\n      <td>27.279676</td>\n      <td>0.491230</td>\n      <td>0.870968</td>\n      <td>-0.010400</td>\n    </tr>\n    <tr>\n      <th>749</th>\n      <td>3745</td>\n      <td>1</td>\n      <td>90691200</td>\n      <td>62979.980116</td>\n      <td>0.430794</td>\n      <td>2.649302</td>\n      <td>0.004953</td>\n      <td>62980.0</td>\n      <td>-0.842919</td>\n      <td>-0.549270</td>\n      <td>0.000119</td>\n      <td>28.633330</td>\n      <td>0.369905</td>\n      <td>0.929069</td>\n      <td>0.001415</td>\n    </tr>\n    <tr>\n      <th>750</th>\n      <td>3750</td>\n      <td>1</td>\n      <td>90720000</td>\n      <td>62999.979436</td>\n      <td>0.220770</td>\n      <td>2.659388</td>\n      <td>0.043926</td>\n      <td>63000.0</td>\n      <td>-0.615447</td>\n      <td>-0.801313</td>\n      <td>0.000134</td>\n      <td>29.612318</td>\n      <td>0.234797</td>\n      <td>0.971966</td>\n      <td>0.012311</td>\n    </tr>\n  </tbody>\n</table>\n<p>751 rows × 15 columns</p>\n</div>"
     },
     "metadata": {},
     "execution_count": 14
    }
   ],
   "source": [
    "# MSE data frame for asteroid directions\n",
    "dfm"
   ]
  },
  {
   "cell_type": "code",
   "execution_count": 15,
   "metadata": {},
   "outputs": [],
   "source": [
    "# Get test DataFrame from JPL\n",
    "sp_name = 'JPL.AsteroidDirectionTest'\n",
    "dfh = sp2df(sp_name=sp_name)\n",
    "\n",
    "# Take every 4th row to get data every 20 days; this matches exactly on MSE integration points\n",
    "dfh = dfh.iloc[::4]\n",
    "dfh.reset_index(inplace=True)"
   ]
  },
  {
   "cell_type": "code",
   "execution_count": 16,
   "metadata": {},
   "outputs": [
    {
     "output_type": "execute_result",
     "data": {
      "text/plain": [
       "       index  AsteroidID    TimeID          tAst    qObs_x    qObs_y  \\\n",
       "0          0           1  69120000  47999.983775 -0.880028 -0.483807   \n",
       "1          4           1  69134400  48009.983132 -0.787422 -0.627462   \n",
       "2          8           1  69148800  48019.982530 -0.672042 -0.752868   \n",
       "3         12           1  69163200  48029.981973 -0.537449 -0.856722   \n",
       "4         16           1  69177600  48039.981466 -0.387421 -0.936160   \n",
       "...      ...         ...       ...           ...       ...       ...   \n",
       "24003  96012          16  90655200  62954.983042 -0.988478 -0.149078   \n",
       "24004  96016          16  90669600  62964.982230 -0.950906 -0.316688   \n",
       "24005  96020          16  90684000  62974.981453 -0.885496 -0.475018   \n",
       "24006  96024          16  90698400  62984.980719 -0.794209 -0.619483   \n",
       "24007  96028          16  90712800  62994.980037 -0.680044 -0.745908   \n",
       "\n",
       "         qObs_z    qAst_x    qAst_y    qAst_z  ...    vAst_y    vAst_z  \\\n",
       "0     -0.000050 -1.155150  2.297484  0.282873  ... -0.005464  0.001583   \n",
       "1     -0.000056 -1.248709  2.240893  0.298453  ... -0.005853  0.001533   \n",
       "2     -0.000054 -1.340122  2.180457  0.313519  ... -0.006233  0.001480   \n",
       "3     -0.000062 -1.429222  2.116260  0.328044  ... -0.006605  0.001424   \n",
       "4     -0.000062 -1.515844  2.048398  0.342000  ... -0.006966  0.001366   \n",
       "...         ...       ...       ...       ...  ...       ...       ...   \n",
       "24003  0.000090 -0.554700  2.752636 -0.114071  ... -0.000665  0.000315   \n",
       "24004  0.000103 -0.658711  2.744160 -0.110849  ... -0.001029  0.000330   \n",
       "24005  0.000111 -0.761859  2.732075 -0.107481  ... -0.001387  0.000344   \n",
       "24006  0.000126 -0.864021  2.716450 -0.103974  ... -0.001737  0.000357   \n",
       "24007  0.000132 -0.965081  2.697356 -0.100334  ... -0.002080  0.000370   \n",
       "\n",
       "       LightTime     tObs    ux_ast    uy_ast    uz_ast    ux_app    uy_app  \\\n",
       "0      23.363621  48000.0 -0.097885  0.990090  0.100704 -0.095560  0.990312   \n",
       "1      24.289747  48010.0 -0.157895  0.982153  0.102200 -0.155585  0.982517   \n",
       "2      25.156619  48020.0 -0.220819  0.969791  0.103659 -0.218535  0.970304   \n",
       "3      25.958353  48030.0 -0.285668  0.952547  0.105113 -0.283425  0.953212   \n",
       "4      26.689323  48040.0 -0.351587  0.930068  0.106584 -0.349400  0.930888   \n",
       "...          ...      ...       ...       ...       ...       ...       ...   \n",
       "24003  24.419855  62955.0  0.147790  0.988254 -0.038882  0.140214  0.989357   \n",
       "24004  25.589057  62965.0  0.095022  0.994822 -0.036062  0.087406  0.995519   \n",
       "24005  26.707754  62975.0  0.038555  0.998695 -0.033506  0.030914  0.998960   \n",
       "24006  27.764006  62985.0 -0.020859  0.999296 -0.031185 -0.028499  0.999106   \n",
       "24007  28.747137  62995.0 -0.082410  0.996174 -0.029068 -0.090022  0.995515   \n",
       "\n",
       "         uz_app  \n",
       "0      0.100744  \n",
       "1      0.102239  \n",
       "2      0.103696  \n",
       "3      0.105149  \n",
       "4      0.106617  \n",
       "...         ...  \n",
       "24003 -0.038904  \n",
       "24004 -0.036085  \n",
       "24005 -0.033529  \n",
       "24006 -0.031210  \n",
       "24007 -0.029094  \n",
       "\n",
       "[24008 rows x 21 columns]"
      ],
      "text/html": "<div>\n<style scoped>\n    .dataframe tbody tr th:only-of-type {\n        vertical-align: middle;\n    }\n\n    .dataframe tbody tr th {\n        vertical-align: top;\n    }\n\n    .dataframe thead th {\n        text-align: right;\n    }\n</style>\n<table border=\"1\" class=\"dataframe\">\n  <thead>\n    <tr style=\"text-align: right;\">\n      <th></th>\n      <th>index</th>\n      <th>AsteroidID</th>\n      <th>TimeID</th>\n      <th>tAst</th>\n      <th>qObs_x</th>\n      <th>qObs_y</th>\n      <th>qObs_z</th>\n      <th>qAst_x</th>\n      <th>qAst_y</th>\n      <th>qAst_z</th>\n      <th>...</th>\n      <th>vAst_y</th>\n      <th>vAst_z</th>\n      <th>LightTime</th>\n      <th>tObs</th>\n      <th>ux_ast</th>\n      <th>uy_ast</th>\n      <th>uz_ast</th>\n      <th>ux_app</th>\n      <th>uy_app</th>\n      <th>uz_app</th>\n    </tr>\n  </thead>\n  <tbody>\n    <tr>\n      <th>0</th>\n      <td>0</td>\n      <td>1</td>\n      <td>69120000</td>\n      <td>47999.983775</td>\n      <td>-0.880028</td>\n      <td>-0.483807</td>\n      <td>-0.000050</td>\n      <td>-1.155150</td>\n      <td>2.297484</td>\n      <td>0.282873</td>\n      <td>...</td>\n      <td>-0.005464</td>\n      <td>0.001583</td>\n      <td>23.363621</td>\n      <td>48000.0</td>\n      <td>-0.097885</td>\n      <td>0.990090</td>\n      <td>0.100704</td>\n      <td>-0.095560</td>\n      <td>0.990312</td>\n      <td>0.100744</td>\n    </tr>\n    <tr>\n      <th>1</th>\n      <td>4</td>\n      <td>1</td>\n      <td>69134400</td>\n      <td>48009.983132</td>\n      <td>-0.787422</td>\n      <td>-0.627462</td>\n      <td>-0.000056</td>\n      <td>-1.248709</td>\n      <td>2.240893</td>\n      <td>0.298453</td>\n      <td>...</td>\n      <td>-0.005853</td>\n      <td>0.001533</td>\n      <td>24.289747</td>\n      <td>48010.0</td>\n      <td>-0.157895</td>\n      <td>0.982153</td>\n      <td>0.102200</td>\n      <td>-0.155585</td>\n      <td>0.982517</td>\n      <td>0.102239</td>\n    </tr>\n    <tr>\n      <th>2</th>\n      <td>8</td>\n      <td>1</td>\n      <td>69148800</td>\n      <td>48019.982530</td>\n      <td>-0.672042</td>\n      <td>-0.752868</td>\n      <td>-0.000054</td>\n      <td>-1.340122</td>\n      <td>2.180457</td>\n      <td>0.313519</td>\n      <td>...</td>\n      <td>-0.006233</td>\n      <td>0.001480</td>\n      <td>25.156619</td>\n      <td>48020.0</td>\n      <td>-0.220819</td>\n      <td>0.969791</td>\n      <td>0.103659</td>\n      <td>-0.218535</td>\n      <td>0.970304</td>\n      <td>0.103696</td>\n    </tr>\n    <tr>\n      <th>3</th>\n      <td>12</td>\n      <td>1</td>\n      <td>69163200</td>\n      <td>48029.981973</td>\n      <td>-0.537449</td>\n      <td>-0.856722</td>\n      <td>-0.000062</td>\n      <td>-1.429222</td>\n      <td>2.116260</td>\n      <td>0.328044</td>\n      <td>...</td>\n      <td>-0.006605</td>\n      <td>0.001424</td>\n      <td>25.958353</td>\n      <td>48030.0</td>\n      <td>-0.285668</td>\n      <td>0.952547</td>\n      <td>0.105113</td>\n      <td>-0.283425</td>\n      <td>0.953212</td>\n      <td>0.105149</td>\n    </tr>\n    <tr>\n      <th>4</th>\n      <td>16</td>\n      <td>1</td>\n      <td>69177600</td>\n      <td>48039.981466</td>\n      <td>-0.387421</td>\n      <td>-0.936160</td>\n      <td>-0.000062</td>\n      <td>-1.515844</td>\n      <td>2.048398</td>\n      <td>0.342000</td>\n      <td>...</td>\n      <td>-0.006966</td>\n      <td>0.001366</td>\n      <td>26.689323</td>\n      <td>48040.0</td>\n      <td>-0.351587</td>\n      <td>0.930068</td>\n      <td>0.106584</td>\n      <td>-0.349400</td>\n      <td>0.930888</td>\n      <td>0.106617</td>\n    </tr>\n    <tr>\n      <th>...</th>\n      <td>...</td>\n      <td>...</td>\n      <td>...</td>\n      <td>...</td>\n      <td>...</td>\n      <td>...</td>\n      <td>...</td>\n      <td>...</td>\n      <td>...</td>\n      <td>...</td>\n      <td>...</td>\n      <td>...</td>\n      <td>...</td>\n      <td>...</td>\n      <td>...</td>\n      <td>...</td>\n      <td>...</td>\n      <td>...</td>\n      <td>...</td>\n      <td>...</td>\n      <td>...</td>\n    </tr>\n    <tr>\n      <th>24003</th>\n      <td>96012</td>\n      <td>16</td>\n      <td>90655200</td>\n      <td>62954.983042</td>\n      <td>-0.988478</td>\n      <td>-0.149078</td>\n      <td>0.000090</td>\n      <td>-0.554700</td>\n      <td>2.752636</td>\n      <td>-0.114071</td>\n      <td>...</td>\n      <td>-0.000665</td>\n      <td>0.000315</td>\n      <td>24.419855</td>\n      <td>62955.0</td>\n      <td>0.147790</td>\n      <td>0.988254</td>\n      <td>-0.038882</td>\n      <td>0.140214</td>\n      <td>0.989357</td>\n      <td>-0.038904</td>\n    </tr>\n    <tr>\n      <th>24004</th>\n      <td>96016</td>\n      <td>16</td>\n      <td>90669600</td>\n      <td>62964.982230</td>\n      <td>-0.950906</td>\n      <td>-0.316688</td>\n      <td>0.000103</td>\n      <td>-0.658711</td>\n      <td>2.744160</td>\n      <td>-0.110849</td>\n      <td>...</td>\n      <td>-0.001029</td>\n      <td>0.000330</td>\n      <td>25.589057</td>\n      <td>62965.0</td>\n      <td>0.095022</td>\n      <td>0.994822</td>\n      <td>-0.036062</td>\n      <td>0.087406</td>\n      <td>0.995519</td>\n      <td>-0.036085</td>\n    </tr>\n    <tr>\n      <th>24005</th>\n      <td>96020</td>\n      <td>16</td>\n      <td>90684000</td>\n      <td>62974.981453</td>\n      <td>-0.885496</td>\n      <td>-0.475018</td>\n      <td>0.000111</td>\n      <td>-0.761859</td>\n      <td>2.732075</td>\n      <td>-0.107481</td>\n      <td>...</td>\n      <td>-0.001387</td>\n      <td>0.000344</td>\n      <td>26.707754</td>\n      <td>62975.0</td>\n      <td>0.038555</td>\n      <td>0.998695</td>\n      <td>-0.033506</td>\n      <td>0.030914</td>\n      <td>0.998960</td>\n      <td>-0.033529</td>\n    </tr>\n    <tr>\n      <th>24006</th>\n      <td>96024</td>\n      <td>16</td>\n      <td>90698400</td>\n      <td>62984.980719</td>\n      <td>-0.794209</td>\n      <td>-0.619483</td>\n      <td>0.000126</td>\n      <td>-0.864021</td>\n      <td>2.716450</td>\n      <td>-0.103974</td>\n      <td>...</td>\n      <td>-0.001737</td>\n      <td>0.000357</td>\n      <td>27.764006</td>\n      <td>62985.0</td>\n      <td>-0.020859</td>\n      <td>0.999296</td>\n      <td>-0.031185</td>\n      <td>-0.028499</td>\n      <td>0.999106</td>\n      <td>-0.031210</td>\n    </tr>\n    <tr>\n      <th>24007</th>\n      <td>96028</td>\n      <td>16</td>\n      <td>90712800</td>\n      <td>62994.980037</td>\n      <td>-0.680044</td>\n      <td>-0.745908</td>\n      <td>0.000132</td>\n      <td>-0.965081</td>\n      <td>2.697356</td>\n      <td>-0.100334</td>\n      <td>...</td>\n      <td>-0.002080</td>\n      <td>0.000370</td>\n      <td>28.747137</td>\n      <td>62995.0</td>\n      <td>-0.082410</td>\n      <td>0.996174</td>\n      <td>-0.029068</td>\n      <td>-0.090022</td>\n      <td>0.995515</td>\n      <td>-0.029094</td>\n    </tr>\n  </tbody>\n</table>\n<p>24008 rows × 21 columns</p>\n</div>"
     },
     "metadata": {},
     "execution_count": 16
    }
   ],
   "source": [
    "dfh"
   ]
  },
  {
   "cell_type": "code",
   "execution_count": null,
   "metadata": {},
   "outputs": [],
   "source": [
    "# Relevant columns for astrom"
   ]
  },
  {
   "cell_type": "code",
   "execution_count": null,
   "metadata": {},
   "outputs": [],
   "source": []
  }
 ],
 "metadata": {
  "kernelspec": {
   "display_name": "kepler",
   "language": "python",
   "name": "kepler"
  },
  "language_info": {
   "codemirror_mode": {
    "name": "ipython",
    "version": 3
   },
   "file_extension": ".py",
   "mimetype": "text/x-python",
   "name": "python",
   "nbconvert_exporter": "python",
   "pygments_lexer": "ipython3",
   "version": "3.8.5"
  }
 },
 "nbformat": 4,
 "nbformat_minor": 4
}