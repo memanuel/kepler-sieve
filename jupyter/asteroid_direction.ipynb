{
 "cells": [
  {
   "cell_type": "code",
   "execution_count": 1,
   "metadata": {},
   "outputs": [],
   "source": [
    "# Core\n",
    "import numpy as np\n",
    "import pandas as pd\n",
    "from scipy.interpolate import CubicSpline, RectBivariateSpline\n",
    "\n",
    "# Astronomy\n",
    "import astropy\n",
    "from astropy.units import au, minute\n",
    "\n",
    "from typing import List, Optional"
   ]
  },
  {
   "cell_type": "code",
   "execution_count": 2,
   "metadata": {},
   "outputs": [],
   "source": [
    "# Local imports\n",
    "import kepler_sieve\n",
    "from asteroid_data import load_ast_pos\n",
    "from asteroid_spline import get_df_shape, make_spline_df, spline_ast_data\n",
    "# from asteroid_spline import make_spline_df, spline_ast_vec, spline_ast_elt\n",
    "from planets_interp import get_earth_pos\n",
    "from asteroid_direction import jpl_ast_dir_populate, calc_dir_ast2obs, c\n",
    "from ra_dec import radec2dir\n",
    "from db_utils import sp2df, df2db\n",
    "import matplotlib.pyplot as plt"
   ]
  },
  {
   "cell_type": "code",
   "execution_count": 3,
   "metadata": {},
   "outputs": [],
   "source": [
    "# Build table JPL.AsteroidDirections from JPl.AsteroidDirections_Import\n",
    "# jpl_ast_dir_populate()"
   ]
  },
  {
   "cell_type": "code",
   "execution_count": 4,
   "metadata": {},
   "outputs": [
    {
     "output_type": "stream",
     "name": "stdout",
     "text": [
      "sp2df(sp_name) failed!\n",
      "Traceback (most recent call last):\n",
      "  File \"/home/michael/Anaconda/anaconda3-2020.11/envs/kepler/lib/python3.8/site-packages/sqlalchemy/engine/base.py\", line 1628, in _execute_context\n",
      "    self.dialect.do_execute(\n",
      "  File \"/home/michael/Anaconda/anaconda3-2020.11/envs/kepler/lib/python3.8/site-packages/sqlalchemy/engine/default.py\", line 663, in do_execute\n",
      "    cursor.execute(statement, parameters)\n",
      "  File \"/home/michael/Anaconda/anaconda3-2020.11/envs/kepler/lib/python3.8/site-packages/pymysql/cursors.py\", line 148, in execute\n",
      "    result = self._query(query)\n",
      "  File \"/home/michael/Anaconda/anaconda3-2020.11/envs/kepler/lib/python3.8/site-packages/pymysql/cursors.py\", line 310, in _query\n",
      "    conn.query(q)\n",
      "  File \"/home/michael/Anaconda/anaconda3-2020.11/envs/kepler/lib/python3.8/site-packages/pymysql/connections.py\", line 548, in query\n",
      "    self._affected_rows = self._read_query_result(unbuffered=unbuffered)\n",
      "  File \"/home/michael/Anaconda/anaconda3-2020.11/envs/kepler/lib/python3.8/site-packages/pymysql/connections.py\", line 775, in _read_query_result\n",
      "    result.read()\n",
      "  File \"/home/michael/Anaconda/anaconda3-2020.11/envs/kepler/lib/python3.8/site-packages/pymysql/connections.py\", line 1156, in read\n",
      "    first_packet = self.connection._read_packet()\n",
      "  File \"/home/michael/Anaconda/anaconda3-2020.11/envs/kepler/lib/python3.8/site-packages/pymysql/connections.py\", line 725, in _read_packet\n",
      "    packet.raise_for_error()\n",
      "  File \"/home/michael/Anaconda/anaconda3-2020.11/envs/kepler/lib/python3.8/site-packages/pymysql/protocol.py\", line 221, in raise_for_error\n",
      "    err.raise_mysql_exception(self._data)\n",
      "  File \"/home/michael/Anaconda/anaconda3-2020.11/envs/kepler/lib/python3.8/site-packages/pymysql/err.py\", line 143, in raise_mysql_exception\n",
      "    raise errorclass(errno, errval)\n",
      "pymysql.err.ProgrammingError: (1146, \"Table 'JPL.Asteroid' doesn't exist\")\n",
      "\n",
      "The above exception was the direct cause of the following exception:\n",
      "\n",
      "Traceback (most recent call last):\n",
      "  File \"/home/michael/Harvard/kepler-sieve/src/db_utils.py\", line 74, in sp2df\n",
      "    df = pd.read_sql(sql_stmt, conn)\n",
      "  File \"/home/michael/Anaconda/anaconda3-2020.11/envs/kepler/lib/python3.8/site-packages/pandas/io/sql.py\", line 510, in read_sql\n",
      "    return pandas_sql.read_query(\n",
      "  File \"/home/michael/Anaconda/anaconda3-2020.11/envs/kepler/lib/python3.8/site-packages/pandas/io/sql.py\", line 1294, in read_query\n",
      "    result = self.execute(*args)\n",
      "  File \"/home/michael/Anaconda/anaconda3-2020.11/envs/kepler/lib/python3.8/site-packages/pandas/io/sql.py\", line 1162, in execute\n",
      "    return self.connectable.execution_options().execute(*args, **kwargs)\n",
      "  File \"/home/michael/Anaconda/anaconda3-2020.11/envs/kepler/lib/python3.8/site-packages/sqlalchemy/engine/base.py\", line 1123, in execute\n",
      "    return meth(self, multiparams, params, _EMPTY_EXECUTION_OPTS)\n",
      "  File \"/home/michael/Anaconda/anaconda3-2020.11/envs/kepler/lib/python3.8/site-packages/sqlalchemy/sql/elements.py\", line 310, in _execute_on_connection\n",
      "    return connection._execute_clauseelement(\n",
      "  File \"/home/michael/Anaconda/anaconda3-2020.11/envs/kepler/lib/python3.8/site-packages/sqlalchemy/engine/base.py\", line 1312, in _execute_clauseelement\n",
      "    ret = self._execute_context(\n",
      "  File \"/home/michael/Anaconda/anaconda3-2020.11/envs/kepler/lib/python3.8/site-packages/sqlalchemy/engine/base.py\", line 1671, in _execute_context\n",
      "    self._handle_dbapi_exception(\n",
      "  File \"/home/michael/Anaconda/anaconda3-2020.11/envs/kepler/lib/python3.8/site-packages/sqlalchemy/engine/base.py\", line 1852, in _handle_dbapi_exception\n",
      "    util.raise_(\n",
      "  File \"/home/michael/Anaconda/anaconda3-2020.11/envs/kepler/lib/python3.8/site-packages/sqlalchemy/util/compat.py\", line 180, in raise_\n",
      "    raise exception\n",
      "  File \"/home/michael/Anaconda/anaconda3-2020.11/envs/kepler/lib/python3.8/site-packages/sqlalchemy/engine/base.py\", line 1628, in _execute_context\n",
      "    self.dialect.do_execute(\n",
      "  File \"/home/michael/Anaconda/anaconda3-2020.11/envs/kepler/lib/python3.8/site-packages/sqlalchemy/engine/default.py\", line 663, in do_execute\n",
      "    cursor.execute(statement, parameters)\n",
      "  File \"/home/michael/Anaconda/anaconda3-2020.11/envs/kepler/lib/python3.8/site-packages/pymysql/cursors.py\", line 148, in execute\n",
      "    result = self._query(query)\n",
      "  File \"/home/michael/Anaconda/anaconda3-2020.11/envs/kepler/lib/python3.8/site-packages/pymysql/cursors.py\", line 310, in _query\n",
      "    conn.query(q)\n",
      "  File \"/home/michael/Anaconda/anaconda3-2020.11/envs/kepler/lib/python3.8/site-packages/pymysql/connections.py\", line 548, in query\n",
      "    self._affected_rows = self._read_query_result(unbuffered=unbuffered)\n",
      "  File \"/home/michael/Anaconda/anaconda3-2020.11/envs/kepler/lib/python3.8/site-packages/pymysql/connections.py\", line 775, in _read_query_result\n",
      "    result.read()\n",
      "  File \"/home/michael/Anaconda/anaconda3-2020.11/envs/kepler/lib/python3.8/site-packages/pymysql/connections.py\", line 1156, in read\n",
      "    first_packet = self.connection._read_packet()\n",
      "  File \"/home/michael/Anaconda/anaconda3-2020.11/envs/kepler/lib/python3.8/site-packages/pymysql/connections.py\", line 725, in _read_packet\n",
      "    packet.raise_for_error()\n",
      "  File \"/home/michael/Anaconda/anaconda3-2020.11/envs/kepler/lib/python3.8/site-packages/pymysql/protocol.py\", line 221, in raise_for_error\n",
      "    err.raise_mysql_exception(self._data)\n",
      "  File \"/home/michael/Anaconda/anaconda3-2020.11/envs/kepler/lib/python3.8/site-packages/pymysql/err.py\", line 143, in raise_mysql_exception\n",
      "    raise errorclass(errno, errval)\n",
      "sqlalchemy.exc.ProgrammingError: (pymysql.err.ProgrammingError) (1146, \"Table 'JPL.Asteroid' doesn't exist\")\n",
      "[SQL: CALL JPL.GetAsteroidDirection(%(n0)s, %(n1)s);]\n",
      "[parameters: {'n0': 0, 'n1': 10}]\n",
      "(Background on this error at: http://sqlalche.me/e/14/f405)\n"
     ]
    }
   ],
   "source": [
    "# Import the JPL asteroid directions\n",
    "sp_name = 'JPL.GetAsteroidDirection'\n",
    "params = {\n",
    "    'n0': 0,\n",
    "    'n1': 10,\n",
    "}\n",
    "dfh = sp2df(sp_name=sp_name, params=params)"
   ]
  },
  {
   "cell_type": "code",
   "execution_count": 5,
   "metadata": {},
   "outputs": [
    {
     "output_type": "execute_result",
     "data": {
      "text/plain": [
       "      AsteroidID     TimeID      mjd          RA        DEC        ux  \\\n",
       "0              1   58176000  40400.0  315.984929 -26.691893  0.642520   \n",
       "1              1   58183200  40405.0  315.339431 -27.239939  0.632400   \n",
       "2              1   58190400  40410.0  314.556310 -27.799476  0.620634   \n",
       "3              1   58197600  40415.0  313.649961 -28.358533  0.607416   \n",
       "4              1   58204800  40420.0  312.640884 -28.903941  0.593018   \n",
       "...          ...        ...      ...         ...        ...       ...   \n",
       "7436           1  111715200  77580.0  350.553372 -12.998581  0.961162   \n",
       "7437           1  111722400  77585.0  352.280718 -12.408940  0.967789   \n",
       "7438           1  111729600  77590.0  353.979618 -11.834130  0.973347   \n",
       "7439           1  111736800  77595.0  355.648181 -11.276380  0.977868   \n",
       "7440           1  111744000  77600.0  357.283978 -10.737994  0.981386   \n",
       "\n",
       "            uy        uz         r      rDot     delta   deltaDot  LightTime  \\\n",
       "0    -0.748252 -0.165186  2.947604  0.725429  2.058383 -12.209131  17.119051   \n",
       "1    -0.755451 -0.171357  2.949670  0.705511  2.025862 -10.291111  16.848578   \n",
       "2    -0.763823 -0.177167  2.951679  0.685434  1.999091  -8.225469  16.625932   \n",
       "3    -0.773133 -0.182513  2.953629  0.665205  1.978488  -6.023828  16.454580   \n",
       "4    -0.783102 -0.187298  2.955521  0.644829  1.964400  -3.719316  16.337417   \n",
       "...        ...       ...       ...       ...       ...        ...        ...   \n",
       "7436 -0.236197 -0.142753  2.981786 -0.008784  3.710600 -13.961727  30.860116   \n",
       "7437 -0.205834 -0.144975  2.981728 -0.031376  3.668825 -14.966463  30.512684   \n",
       "7438 -0.175758 -0.147324  2.981605 -0.053961  3.624191 -15.941274  30.141474   \n",
       "7439 -0.146057 -0.149805  2.981417 -0.076535  3.576793 -16.878476  29.747282   \n",
       "7440 -0.116827 -0.152425  2.981163 -0.099091  3.526762 -17.761752  29.331189   \n",
       "\n",
       "        Mag  \n",
       "0     8.178  \n",
       "1     8.083  \n",
       "2     7.987  \n",
       "3     7.893  \n",
       "4     7.805  \n",
       "...     ...  \n",
       "7436  9.498  \n",
       "7437  9.506  \n",
       "7438  9.510  \n",
       "7439  9.510  \n",
       "7440  9.506  \n",
       "\n",
       "[7441 rows x 14 columns]"
      ],
      "text/html": "<div>\n<style scoped>\n    .dataframe tbody tr th:only-of-type {\n        vertical-align: middle;\n    }\n\n    .dataframe tbody tr th {\n        vertical-align: top;\n    }\n\n    .dataframe thead th {\n        text-align: right;\n    }\n</style>\n<table border=\"1\" class=\"dataframe\">\n  <thead>\n    <tr style=\"text-align: right;\">\n      <th></th>\n      <th>AsteroidID</th>\n      <th>TimeID</th>\n      <th>mjd</th>\n      <th>RA</th>\n      <th>DEC</th>\n      <th>ux</th>\n      <th>uy</th>\n      <th>uz</th>\n      <th>r</th>\n      <th>rDot</th>\n      <th>delta</th>\n      <th>deltaDot</th>\n      <th>LightTime</th>\n      <th>Mag</th>\n    </tr>\n  </thead>\n  <tbody>\n    <tr>\n      <th>0</th>\n      <td>1</td>\n      <td>58176000</td>\n      <td>40400.0</td>\n      <td>315.984929</td>\n      <td>-26.691893</td>\n      <td>0.642520</td>\n      <td>-0.748252</td>\n      <td>-0.165186</td>\n      <td>2.947604</td>\n      <td>0.725429</td>\n      <td>2.058383</td>\n      <td>-12.209131</td>\n      <td>17.119051</td>\n      <td>8.178</td>\n    </tr>\n    <tr>\n      <th>1</th>\n      <td>1</td>\n      <td>58183200</td>\n      <td>40405.0</td>\n      <td>315.339431</td>\n      <td>-27.239939</td>\n      <td>0.632400</td>\n      <td>-0.755451</td>\n      <td>-0.171357</td>\n      <td>2.949670</td>\n      <td>0.705511</td>\n      <td>2.025862</td>\n      <td>-10.291111</td>\n      <td>16.848578</td>\n      <td>8.083</td>\n    </tr>\n    <tr>\n      <th>2</th>\n      <td>1</td>\n      <td>58190400</td>\n      <td>40410.0</td>\n      <td>314.556310</td>\n      <td>-27.799476</td>\n      <td>0.620634</td>\n      <td>-0.763823</td>\n      <td>-0.177167</td>\n      <td>2.951679</td>\n      <td>0.685434</td>\n      <td>1.999091</td>\n      <td>-8.225469</td>\n      <td>16.625932</td>\n      <td>7.987</td>\n    </tr>\n    <tr>\n      <th>3</th>\n      <td>1</td>\n      <td>58197600</td>\n      <td>40415.0</td>\n      <td>313.649961</td>\n      <td>-28.358533</td>\n      <td>0.607416</td>\n      <td>-0.773133</td>\n      <td>-0.182513</td>\n      <td>2.953629</td>\n      <td>0.665205</td>\n      <td>1.978488</td>\n      <td>-6.023828</td>\n      <td>16.454580</td>\n      <td>7.893</td>\n    </tr>\n    <tr>\n      <th>4</th>\n      <td>1</td>\n      <td>58204800</td>\n      <td>40420.0</td>\n      <td>312.640884</td>\n      <td>-28.903941</td>\n      <td>0.593018</td>\n      <td>-0.783102</td>\n      <td>-0.187298</td>\n      <td>2.955521</td>\n      <td>0.644829</td>\n      <td>1.964400</td>\n      <td>-3.719316</td>\n      <td>16.337417</td>\n      <td>7.805</td>\n    </tr>\n    <tr>\n      <th>...</th>\n      <td>...</td>\n      <td>...</td>\n      <td>...</td>\n      <td>...</td>\n      <td>...</td>\n      <td>...</td>\n      <td>...</td>\n      <td>...</td>\n      <td>...</td>\n      <td>...</td>\n      <td>...</td>\n      <td>...</td>\n      <td>...</td>\n      <td>...</td>\n    </tr>\n    <tr>\n      <th>7436</th>\n      <td>1</td>\n      <td>111715200</td>\n      <td>77580.0</td>\n      <td>350.553372</td>\n      <td>-12.998581</td>\n      <td>0.961162</td>\n      <td>-0.236197</td>\n      <td>-0.142753</td>\n      <td>2.981786</td>\n      <td>-0.008784</td>\n      <td>3.710600</td>\n      <td>-13.961727</td>\n      <td>30.860116</td>\n      <td>9.498</td>\n    </tr>\n    <tr>\n      <th>7437</th>\n      <td>1</td>\n      <td>111722400</td>\n      <td>77585.0</td>\n      <td>352.280718</td>\n      <td>-12.408940</td>\n      <td>0.967789</td>\n      <td>-0.205834</td>\n      <td>-0.144975</td>\n      <td>2.981728</td>\n      <td>-0.031376</td>\n      <td>3.668825</td>\n      <td>-14.966463</td>\n      <td>30.512684</td>\n      <td>9.506</td>\n    </tr>\n    <tr>\n      <th>7438</th>\n      <td>1</td>\n      <td>111729600</td>\n      <td>77590.0</td>\n      <td>353.979618</td>\n      <td>-11.834130</td>\n      <td>0.973347</td>\n      <td>-0.175758</td>\n      <td>-0.147324</td>\n      <td>2.981605</td>\n      <td>-0.053961</td>\n      <td>3.624191</td>\n      <td>-15.941274</td>\n      <td>30.141474</td>\n      <td>9.510</td>\n    </tr>\n    <tr>\n      <th>7439</th>\n      <td>1</td>\n      <td>111736800</td>\n      <td>77595.0</td>\n      <td>355.648181</td>\n      <td>-11.276380</td>\n      <td>0.977868</td>\n      <td>-0.146057</td>\n      <td>-0.149805</td>\n      <td>2.981417</td>\n      <td>-0.076535</td>\n      <td>3.576793</td>\n      <td>-16.878476</td>\n      <td>29.747282</td>\n      <td>9.510</td>\n    </tr>\n    <tr>\n      <th>7440</th>\n      <td>1</td>\n      <td>111744000</td>\n      <td>77600.0</td>\n      <td>357.283978</td>\n      <td>-10.737994</td>\n      <td>0.981386</td>\n      <td>-0.116827</td>\n      <td>-0.152425</td>\n      <td>2.981163</td>\n      <td>-0.099091</td>\n      <td>3.526762</td>\n      <td>-17.761752</td>\n      <td>29.331189</td>\n      <td>9.506</td>\n    </tr>\n  </tbody>\n</table>\n<p>7441 rows × 14 columns</p>\n</div>"
     },
     "metadata": {},
     "execution_count": 5
    }
   ],
   "source": [
    "# The Horizons DataFrame\n",
    "dfh"
   ]
  },
  {
   "cell_type": "code",
   "execution_count": 13,
   "metadata": {},
   "outputs": [],
   "source": [
    "# Inputs\n",
    "n0 = 0\n",
    "n1 = 10"
   ]
  },
  {
   "cell_type": "code",
   "execution_count": 14,
   "metadata": {},
   "outputs": [],
   "source": [
    "# Calculate the direction and light time\n",
    "df = calc_dir_ast2obs(n0=n0, n1=n1)\n",
    "mask = df.AsteroidID==1\n",
    "df = df[mask]"
   ]
  },
  {
   "cell_type": "code",
   "execution_count": 15,
   "metadata": {},
   "outputs": [
    {
     "output_type": "execute_result",
     "data": {
      "text/plain": [
       "      AsteroidID    TimeID          tAst    qAst_x    qAst_y    qAst_z  \\\n",
       "0              1  69120000  47999.983776 -1.155142  2.297488  0.282872   \n",
       "1              1  69125760  48003.983514 -1.192658  2.275412  0.289138   \n",
       "2              1  69131520  48007.983258 -1.230000  2.252623  0.295350   \n",
       "3              1  69137280  48011.983008 -1.267005  2.229217  0.301481   \n",
       "4              1  69143040  48015.982766 -1.303660  2.205197  0.307529   \n",
       "...          ...       ...           ...       ...       ...       ...   \n",
       "3746           1  90696960  62983.979958  0.388962  2.652629  0.012758   \n",
       "3747           1  90702720  62987.979812  0.347033  2.655304  0.020559   \n",
       "3748           1  90708480  62991.979676  0.305018  2.657324  0.028356   \n",
       "3749           1  90714240  62995.979550  0.262927  2.658686  0.036145   \n",
       "3750           1  90720000  62999.979436  0.220770  2.659388  0.043926   \n",
       "\n",
       "         tObs    qObs_x    qObs_y    qObs_z  LightTime        ux        uy  \\\n",
       "0     48000.0 -0.880033 -0.483797 -0.000050  23.362923 -0.097934  0.990084   \n",
       "1     48004.0 -0.845941 -0.543194 -0.000054  23.740465 -0.121519  0.987404   \n",
       "2     48008.0 -0.807882 -0.600059 -0.000056  24.108877 -0.145674  0.984069   \n",
       "3     48012.0 -0.766061 -0.654113 -0.000055  24.468004 -0.170329  0.980041   \n",
       "4     48016.0 -0.720707 -0.705117 -0.000054  24.817330 -0.195416  0.975287   \n",
       "...       ...       ...       ...       ...        ...       ...       ...   \n",
       "3746  62984.0 -0.804421 -0.605790  0.000125  28.859965  0.343849  0.939018   \n",
       "3747  62988.0 -0.762203 -0.659471  0.000130  29.071225  0.317277  0.948315   \n",
       "3748  62992.0 -0.716489 -0.710085  0.000132  29.267047  0.290223  0.956925   \n",
       "3749  62996.0 -0.667499 -0.757430  0.000132  29.447438  0.262720  0.964818   \n",
       "3750  63000.0 -0.615447 -0.801313  0.000134  29.612318  0.234797  0.971966   \n",
       "\n",
       "            uz  \n",
       "0     0.100715  \n",
       "1     0.101321  \n",
       "2     0.101916  \n",
       "3     0.102504  \n",
       "4     0.103088  \n",
       "...        ...  \n",
       "3746  0.003652  \n",
       "3747  0.005856  \n",
       "3748  0.008032  \n",
       "3749  0.010182  \n",
       "3750  0.012311  \n",
       "\n",
       "[3751 rows x 14 columns]"
      ],
      "text/html": "<div>\n<style scoped>\n    .dataframe tbody tr th:only-of-type {\n        vertical-align: middle;\n    }\n\n    .dataframe tbody tr th {\n        vertical-align: top;\n    }\n\n    .dataframe thead th {\n        text-align: right;\n    }\n</style>\n<table border=\"1\" class=\"dataframe\">\n  <thead>\n    <tr style=\"text-align: right;\">\n      <th></th>\n      <th>AsteroidID</th>\n      <th>TimeID</th>\n      <th>tAst</th>\n      <th>qAst_x</th>\n      <th>qAst_y</th>\n      <th>qAst_z</th>\n      <th>tObs</th>\n      <th>qObs_x</th>\n      <th>qObs_y</th>\n      <th>qObs_z</th>\n      <th>LightTime</th>\n      <th>ux</th>\n      <th>uy</th>\n      <th>uz</th>\n    </tr>\n  </thead>\n  <tbody>\n    <tr>\n      <th>0</th>\n      <td>1</td>\n      <td>69120000</td>\n      <td>47999.983776</td>\n      <td>-1.155142</td>\n      <td>2.297488</td>\n      <td>0.282872</td>\n      <td>48000.0</td>\n      <td>-0.880033</td>\n      <td>-0.483797</td>\n      <td>-0.000050</td>\n      <td>23.362923</td>\n      <td>-0.097934</td>\n      <td>0.990084</td>\n      <td>0.100715</td>\n    </tr>\n    <tr>\n      <th>1</th>\n      <td>1</td>\n      <td>69125760</td>\n      <td>48003.983514</td>\n      <td>-1.192658</td>\n      <td>2.275412</td>\n      <td>0.289138</td>\n      <td>48004.0</td>\n      <td>-0.845941</td>\n      <td>-0.543194</td>\n      <td>-0.000054</td>\n      <td>23.740465</td>\n      <td>-0.121519</td>\n      <td>0.987404</td>\n      <td>0.101321</td>\n    </tr>\n    <tr>\n      <th>2</th>\n      <td>1</td>\n      <td>69131520</td>\n      <td>48007.983258</td>\n      <td>-1.230000</td>\n      <td>2.252623</td>\n      <td>0.295350</td>\n      <td>48008.0</td>\n      <td>-0.807882</td>\n      <td>-0.600059</td>\n      <td>-0.000056</td>\n      <td>24.108877</td>\n      <td>-0.145674</td>\n      <td>0.984069</td>\n      <td>0.101916</td>\n    </tr>\n    <tr>\n      <th>3</th>\n      <td>1</td>\n      <td>69137280</td>\n      <td>48011.983008</td>\n      <td>-1.267005</td>\n      <td>2.229217</td>\n      <td>0.301481</td>\n      <td>48012.0</td>\n      <td>-0.766061</td>\n      <td>-0.654113</td>\n      <td>-0.000055</td>\n      <td>24.468004</td>\n      <td>-0.170329</td>\n      <td>0.980041</td>\n      <td>0.102504</td>\n    </tr>\n    <tr>\n      <th>4</th>\n      <td>1</td>\n      <td>69143040</td>\n      <td>48015.982766</td>\n      <td>-1.303660</td>\n      <td>2.205197</td>\n      <td>0.307529</td>\n      <td>48016.0</td>\n      <td>-0.720707</td>\n      <td>-0.705117</td>\n      <td>-0.000054</td>\n      <td>24.817330</td>\n      <td>-0.195416</td>\n      <td>0.975287</td>\n      <td>0.103088</td>\n    </tr>\n    <tr>\n      <th>...</th>\n      <td>...</td>\n      <td>...</td>\n      <td>...</td>\n      <td>...</td>\n      <td>...</td>\n      <td>...</td>\n      <td>...</td>\n      <td>...</td>\n      <td>...</td>\n      <td>...</td>\n      <td>...</td>\n      <td>...</td>\n      <td>...</td>\n      <td>...</td>\n    </tr>\n    <tr>\n      <th>3746</th>\n      <td>1</td>\n      <td>90696960</td>\n      <td>62983.979958</td>\n      <td>0.388962</td>\n      <td>2.652629</td>\n      <td>0.012758</td>\n      <td>62984.0</td>\n      <td>-0.804421</td>\n      <td>-0.605790</td>\n      <td>0.000125</td>\n      <td>28.859965</td>\n      <td>0.343849</td>\n      <td>0.939018</td>\n      <td>0.003652</td>\n    </tr>\n    <tr>\n      <th>3747</th>\n      <td>1</td>\n      <td>90702720</td>\n      <td>62987.979812</td>\n      <td>0.347033</td>\n      <td>2.655304</td>\n      <td>0.020559</td>\n      <td>62988.0</td>\n      <td>-0.762203</td>\n      <td>-0.659471</td>\n      <td>0.000130</td>\n      <td>29.071225</td>\n      <td>0.317277</td>\n      <td>0.948315</td>\n      <td>0.005856</td>\n    </tr>\n    <tr>\n      <th>3748</th>\n      <td>1</td>\n      <td>90708480</td>\n      <td>62991.979676</td>\n      <td>0.305018</td>\n      <td>2.657324</td>\n      <td>0.028356</td>\n      <td>62992.0</td>\n      <td>-0.716489</td>\n      <td>-0.710085</td>\n      <td>0.000132</td>\n      <td>29.267047</td>\n      <td>0.290223</td>\n      <td>0.956925</td>\n      <td>0.008032</td>\n    </tr>\n    <tr>\n      <th>3749</th>\n      <td>1</td>\n      <td>90714240</td>\n      <td>62995.979550</td>\n      <td>0.262927</td>\n      <td>2.658686</td>\n      <td>0.036145</td>\n      <td>62996.0</td>\n      <td>-0.667499</td>\n      <td>-0.757430</td>\n      <td>0.000132</td>\n      <td>29.447438</td>\n      <td>0.262720</td>\n      <td>0.964818</td>\n      <td>0.010182</td>\n    </tr>\n    <tr>\n      <th>3750</th>\n      <td>1</td>\n      <td>90720000</td>\n      <td>62999.979436</td>\n      <td>0.220770</td>\n      <td>2.659388</td>\n      <td>0.043926</td>\n      <td>63000.0</td>\n      <td>-0.615447</td>\n      <td>-0.801313</td>\n      <td>0.000134</td>\n      <td>29.612318</td>\n      <td>0.234797</td>\n      <td>0.971966</td>\n      <td>0.012311</td>\n    </tr>\n  </tbody>\n</table>\n<p>3751 rows × 14 columns</p>\n</div>"
     },
     "metadata": {},
     "execution_count": 15
    }
   ],
   "source": [
    "df"
   ]
  },
  {
   "cell_type": "code",
   "execution_count": null,
   "metadata": {},
   "outputs": [],
   "source": [
    "# Get test DataFrame from JPL\n"
   ]
  },
  {
   "cell_type": "code",
   "execution_count": null,
   "metadata": {},
   "outputs": [],
   "source": []
  }
 ],
 "metadata": {
  "kernelspec": {
   "display_name": "kepler",
   "language": "python",
   "name": "kepler"
  },
  "language_info": {
   "codemirror_mode": {
    "name": "ipython",
    "version": 3
   },
   "file_extension": ".py",
   "mimetype": "text/x-python",
   "name": "python",
   "nbconvert_exporter": "python",
   "pygments_lexer": "ipython3",
   "version": "3.8.5"
  }
 },
 "nbformat": 4,
 "nbformat_minor": 4
}