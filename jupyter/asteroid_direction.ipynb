{
 "cells": [
  {
   "cell_type": "code",
   "execution_count": 1,
   "metadata": {},
   "outputs": [],
   "source": [
    "# Core\n",
    "import numpy as np\n",
    "import pandas as pd\n",
    "from scipy.interpolate import CubicSpline, RectBivariateSpline\n",
    "\n",
    "# Astronomy\n",
    "import astropy\n",
    "from astropy.units import au, minute\n",
    "\n",
    "from typing import List, Optional"
   ]
  },
  {
   "cell_type": "code",
   "execution_count": 2,
   "metadata": {},
   "outputs": [],
   "source": [
    "# Local imports\n",
    "import kepler_sieve\n",
    "from asteroid_data import load_ast_pos\n",
    "from asteroid_spline import make_spline_ast_elt, make_spline_ast_pos, make_spline_df\n",
    "from asteroid_direction import calc_dir_ast2obs\n",
    "from planets_interp import get_earth_pos\n",
    "from asteroid_direction import calc_dir_linear, calc_dir_spline\n",
    "from asteroid_direction_test import jpl_ast_dir_populate\n",
    "from ra_dec import radec2dir\n",
    "from db_utils import sp2df, df2db\n"
   ]
  },
  {
   "cell_type": "code",
   "execution_count": 53,
   "metadata": {},
   "outputs": [],
   "source": [
    "from utils import arange_inc\n",
    "\n",
    "n0 = 0\n",
    "n1 = 10\n",
    "mjd0 = 48000\n",
    "mjd1 = 63000\n",
    "interval = 4\n",
    "\n",
    "mpd = 1440.0\n",
    "dpm = 1.0 / 1440\n"
   ]
  },
  {
   "cell_type": "code",
   "execution_count": 54,
   "metadata": {},
   "outputs": [],
   "source": [
    "ast = sp2df(sp_name='KS.GetAsteroids')"
   ]
  },
  {
   "cell_type": "code",
   "execution_count": 80,
   "metadata": {},
   "outputs": [],
   "source": [
    "# Start, end and step for TimeID\n",
    "TimeID_0 = mjd0 * mpd\n",
    "TimeID_1 = mjd1 * mpd\n",
    "TimeID_interval = interval * mpd\n",
    "# Array of TimeID\n",
    "TimeIDs_one = arange_inc(TimeID_0, TimeID_1, TimeID_interval).astype(np.int64)"
   ]
  },
  {
   "cell_type": "code",
   "execution_count": 81,
   "metadata": {},
   "outputs": [],
   "source": [
    "# Get array of asteroid IDs between n0 and n1\n",
    "mask = (n0 <= ast.AsteroidID) & (ast.AsteroidID < n1)\n",
    "asteroid_id_one = ast.AsteroidID[mask].values"
   ]
  },
  {
   "cell_type": "code",
   "execution_count": 82,
   "metadata": {},
   "outputs": [],
   "source": [
    "# The number of observation times and asteroids\n",
    "N_t = TimeIDs_one.shape[0]\n",
    "N_ast = asteroid_id_one.shape[0]\n"
   ]
  },
  {
   "cell_type": "code",
   "execution_count": 83,
   "metadata": {},
   "outputs": [
    {
     "output_type": "execute_result",
     "data": {
      "text/plain": [
       "array([69120000, 69125760, 69131520, ..., 90708480, 90714240, 90720000])"
      ]
     },
     "metadata": {},
     "execution_count": 83
    }
   ],
   "source": [
    "TimeIDs_one"
   ]
  },
  {
   "cell_type": "code",
   "execution_count": 88,
   "metadata": {},
   "outputs": [],
   "source": [
    "# Tile TimeIDs\n",
    "TimeIDs = np.tile(TimeIDs_one, N_ast)"
   ]
  },
  {
   "cell_type": "code",
   "execution_count": 89,
   "metadata": {},
   "outputs": [],
   "source": [
    "# Array of observation times\n",
    "t_obs = TimeIDs * dpm"
   ]
  },
  {
   "cell_type": "code",
   "execution_count": 92,
   "metadata": {},
   "outputs": [
    {
     "output_type": "execute_result",
     "data": {
      "text/plain": [
       "array([1, 1, 1, ..., 9, 9, 9])"
      ]
     },
     "metadata": {},
     "execution_count": 92
    }
   ],
   "source": [
    "np.repeat(asteroid_id_one, N_t)"
   ]
  },
  {
   "cell_type": "code",
   "execution_count": 90,
   "metadata": {},
   "outputs": [],
   "source": [
    "# Using geocentric observer so there is no topos adjustment\n",
    "q_obs_one = get_earth_pos(ts=t_obs)\n"
   ]
  },
  {
   "cell_type": "code",
   "execution_count": 91,
   "metadata": {},
   "outputs": [
    {
     "output_type": "execute_result",
     "data": {
      "text/plain": [
       "(7502, 3)"
      ]
     },
     "metadata": {},
     "execution_count": 91
    }
   ],
   "source": [
    "q_obs.shape"
   ]
  },
  {
   "cell_type": "code",
   "execution_count": 71,
   "metadata": {},
   "outputs": [
    {
     "output_type": "execute_result",
     "data": {
      "text/plain": [
       "(3751, 3)"
      ]
     },
     "metadata": {},
     "execution_count": 71
    }
   ],
   "source": [
    "q_obs_one.shape\n"
   ]
  },
  {
   "cell_type": "code",
   "execution_count": null,
   "metadata": {},
   "outputs": [],
   "source": [
    "    # Delegate to calc_dir_ast2obs()\n",
    "    df = calc_dir_ast2obs(t_obs=t_obs, asteroid_id=asteroid_id, q_obs=q_obs, iters=2)"
   ]
  },
  {
   "source": [
    "# Test asteroid direction with iterated splines"
   ],
   "cell_type": "markdown",
   "metadata": {}
  },
  {
   "cell_type": "code",
   "execution_count": 3,
   "metadata": {},
   "outputs": [],
   "source": [
    "# Import the JPL asteroid directions with the JPL state vectors\n",
    "df_jpl = sp2df(sp_name='JPL.AsteroidDirectionTest')\n",
    "# df_jpl = sp2df(sp_name='JPL.AsteroidDirectionVectorTest')"
   ]
  },
  {
   "cell_type": "code",
   "execution_count": 4,
   "metadata": {},
   "outputs": [],
   "source": [
    "# Mask to only geocenter\n",
    "mask = (df_jpl.ObservatoryID==0)\n",
    "df_jpl = df_jpl[mask].reset_index(drop=True)"
   ]
  },
  {
   "cell_type": "code",
   "execution_count": 5,
   "metadata": {},
   "outputs": [
    {
     "output_type": "execute_result",
     "data": {
      "text/plain": [
       "       AsteroidID  ObservatoryID    TimeID     tObs    qObs_x    qObs_y  \\\n",
       "0               1              0  69120000  48000.0 -0.880028 -0.483807   \n",
       "1               1              0  69127200  48005.0 -0.836785 -0.557668   \n",
       "2               1              0  69134400  48010.0 -0.787422 -0.627462   \n",
       "3               1              0  69141600  48015.0 -0.732357 -0.692671   \n",
       "4               1              0  69148800  48020.0 -0.672042 -0.752868   \n",
       "...           ...            ...       ...      ...       ...       ...   \n",
       "48011          16              0  90691200  62980.0 -0.842921 -0.549267   \n",
       "48012          16              0  90698400  62985.0 -0.794209 -0.619483   \n",
       "48013          16              0  90705600  62990.0 -0.739772 -0.685171   \n",
       "48014          16              0  90712800  62995.0 -0.680044 -0.745908   \n",
       "48015          16              0  90720000  63000.0 -0.615450 -0.801311   \n",
       "\n",
       "         qObs_z    qAst_x    qAst_y    qAst_z    vAst_x    vAst_y    vAst_z  \\\n",
       "0     -0.000050 -1.155150  2.297484  0.282873 -0.009457 -0.005464  0.001583   \n",
       "1     -0.000054 -1.202187  2.269674  0.290725 -0.009357 -0.005659  0.001558   \n",
       "2     -0.000056 -1.248709  2.240893  0.298453 -0.009251 -0.005853  0.001533   \n",
       "3     -0.000054 -1.294694  2.211151  0.306052 -0.009142 -0.006044  0.001507   \n",
       "4     -0.000054 -1.340122  2.180457  0.313519 -0.009028 -0.006233  0.001480   \n",
       "...         ...       ...       ...       ...       ...       ...       ...   \n",
       "48011  0.000119 -0.813070  2.724700 -0.105745 -0.010217 -0.001563  0.000351   \n",
       "48012  0.000126 -0.864021  2.716450 -0.103974 -0.010163 -0.001737  0.000357   \n",
       "48013  0.000131 -0.914696  2.707332 -0.102170 -0.010107 -0.001910  0.000364   \n",
       "48014  0.000132 -0.965081  2.697356 -0.100334 -0.010047 -0.002080  0.000370   \n",
       "48015  0.000134 -1.015164  2.686532 -0.098466 -0.009985 -0.002249  0.000377   \n",
       "\n",
       "       LightTime          tAst        ux        uy        uz  \n",
       "0      23.363621  47999.983775 -0.097885  0.990090  0.100704  \n",
       "1      23.833511  48004.983449 -0.127458  0.986641  0.101460  \n",
       "2      24.289747  48009.983132 -0.157895  0.982153  0.102200  \n",
       "3      24.731042  48014.982826 -0.189059  0.976556  0.102932  \n",
       "4      25.156619  48019.982530 -0.220819  0.969791  0.103659  \n",
       "...          ...           ...       ...       ...       ...  \n",
       "48011  27.244467  62979.981080  0.009167  0.999436 -0.032318  \n",
       "48012  27.764006  62984.980719 -0.020859  0.999296 -0.031185  \n",
       "48013  28.265182  62989.980371 -0.051416  0.998224 -0.030103  \n",
       "48014  28.747137  62994.980037 -0.082410  0.996174 -0.029068  \n",
       "48015  29.209137  62999.979716 -0.113759  0.993112 -0.028077  \n",
       "\n",
       "[48016 rows x 18 columns]"
      ],
      "text/html": "<div>\n<style scoped>\n    .dataframe tbody tr th:only-of-type {\n        vertical-align: middle;\n    }\n\n    .dataframe tbody tr th {\n        vertical-align: top;\n    }\n\n    .dataframe thead th {\n        text-align: right;\n    }\n</style>\n<table border=\"1\" class=\"dataframe\">\n  <thead>\n    <tr style=\"text-align: right;\">\n      <th></th>\n      <th>AsteroidID</th>\n      <th>ObservatoryID</th>\n      <th>TimeID</th>\n      <th>tObs</th>\n      <th>qObs_x</th>\n      <th>qObs_y</th>\n      <th>qObs_z</th>\n      <th>qAst_x</th>\n      <th>qAst_y</th>\n      <th>qAst_z</th>\n      <th>vAst_x</th>\n      <th>vAst_y</th>\n      <th>vAst_z</th>\n      <th>LightTime</th>\n      <th>tAst</th>\n      <th>ux</th>\n      <th>uy</th>\n      <th>uz</th>\n    </tr>\n  </thead>\n  <tbody>\n    <tr>\n      <th>0</th>\n      <td>1</td>\n      <td>0</td>\n      <td>69120000</td>\n      <td>48000.0</td>\n      <td>-0.880028</td>\n      <td>-0.483807</td>\n      <td>-0.000050</td>\n      <td>-1.155150</td>\n      <td>2.297484</td>\n      <td>0.282873</td>\n      <td>-0.009457</td>\n      <td>-0.005464</td>\n      <td>0.001583</td>\n      <td>23.363621</td>\n      <td>47999.983775</td>\n      <td>-0.097885</td>\n      <td>0.990090</td>\n      <td>0.100704</td>\n    </tr>\n    <tr>\n      <th>1</th>\n      <td>1</td>\n      <td>0</td>\n      <td>69127200</td>\n      <td>48005.0</td>\n      <td>-0.836785</td>\n      <td>-0.557668</td>\n      <td>-0.000054</td>\n      <td>-1.202187</td>\n      <td>2.269674</td>\n      <td>0.290725</td>\n      <td>-0.009357</td>\n      <td>-0.005659</td>\n      <td>0.001558</td>\n      <td>23.833511</td>\n      <td>48004.983449</td>\n      <td>-0.127458</td>\n      <td>0.986641</td>\n      <td>0.101460</td>\n    </tr>\n    <tr>\n      <th>2</th>\n      <td>1</td>\n      <td>0</td>\n      <td>69134400</td>\n      <td>48010.0</td>\n      <td>-0.787422</td>\n      <td>-0.627462</td>\n      <td>-0.000056</td>\n      <td>-1.248709</td>\n      <td>2.240893</td>\n      <td>0.298453</td>\n      <td>-0.009251</td>\n      <td>-0.005853</td>\n      <td>0.001533</td>\n      <td>24.289747</td>\n      <td>48009.983132</td>\n      <td>-0.157895</td>\n      <td>0.982153</td>\n      <td>0.102200</td>\n    </tr>\n    <tr>\n      <th>3</th>\n      <td>1</td>\n      <td>0</td>\n      <td>69141600</td>\n      <td>48015.0</td>\n      <td>-0.732357</td>\n      <td>-0.692671</td>\n      <td>-0.000054</td>\n      <td>-1.294694</td>\n      <td>2.211151</td>\n      <td>0.306052</td>\n      <td>-0.009142</td>\n      <td>-0.006044</td>\n      <td>0.001507</td>\n      <td>24.731042</td>\n      <td>48014.982826</td>\n      <td>-0.189059</td>\n      <td>0.976556</td>\n      <td>0.102932</td>\n    </tr>\n    <tr>\n      <th>4</th>\n      <td>1</td>\n      <td>0</td>\n      <td>69148800</td>\n      <td>48020.0</td>\n      <td>-0.672042</td>\n      <td>-0.752868</td>\n      <td>-0.000054</td>\n      <td>-1.340122</td>\n      <td>2.180457</td>\n      <td>0.313519</td>\n      <td>-0.009028</td>\n      <td>-0.006233</td>\n      <td>0.001480</td>\n      <td>25.156619</td>\n      <td>48019.982530</td>\n      <td>-0.220819</td>\n      <td>0.969791</td>\n      <td>0.103659</td>\n    </tr>\n    <tr>\n      <th>...</th>\n      <td>...</td>\n      <td>...</td>\n      <td>...</td>\n      <td>...</td>\n      <td>...</td>\n      <td>...</td>\n      <td>...</td>\n      <td>...</td>\n      <td>...</td>\n      <td>...</td>\n      <td>...</td>\n      <td>...</td>\n      <td>...</td>\n      <td>...</td>\n      <td>...</td>\n      <td>...</td>\n      <td>...</td>\n      <td>...</td>\n    </tr>\n    <tr>\n      <th>48011</th>\n      <td>16</td>\n      <td>0</td>\n      <td>90691200</td>\n      <td>62980.0</td>\n      <td>-0.842921</td>\n      <td>-0.549267</td>\n      <td>0.000119</td>\n      <td>-0.813070</td>\n      <td>2.724700</td>\n      <td>-0.105745</td>\n      <td>-0.010217</td>\n      <td>-0.001563</td>\n      <td>0.000351</td>\n      <td>27.244467</td>\n      <td>62979.981080</td>\n      <td>0.009167</td>\n      <td>0.999436</td>\n      <td>-0.032318</td>\n    </tr>\n    <tr>\n      <th>48012</th>\n      <td>16</td>\n      <td>0</td>\n      <td>90698400</td>\n      <td>62985.0</td>\n      <td>-0.794209</td>\n      <td>-0.619483</td>\n      <td>0.000126</td>\n      <td>-0.864021</td>\n      <td>2.716450</td>\n      <td>-0.103974</td>\n      <td>-0.010163</td>\n      <td>-0.001737</td>\n      <td>0.000357</td>\n      <td>27.764006</td>\n      <td>62984.980719</td>\n      <td>-0.020859</td>\n      <td>0.999296</td>\n      <td>-0.031185</td>\n    </tr>\n    <tr>\n      <th>48013</th>\n      <td>16</td>\n      <td>0</td>\n      <td>90705600</td>\n      <td>62990.0</td>\n      <td>-0.739772</td>\n      <td>-0.685171</td>\n      <td>0.000131</td>\n      <td>-0.914696</td>\n      <td>2.707332</td>\n      <td>-0.102170</td>\n      <td>-0.010107</td>\n      <td>-0.001910</td>\n      <td>0.000364</td>\n      <td>28.265182</td>\n      <td>62989.980371</td>\n      <td>-0.051416</td>\n      <td>0.998224</td>\n      <td>-0.030103</td>\n    </tr>\n    <tr>\n      <th>48014</th>\n      <td>16</td>\n      <td>0</td>\n      <td>90712800</td>\n      <td>62995.0</td>\n      <td>-0.680044</td>\n      <td>-0.745908</td>\n      <td>0.000132</td>\n      <td>-0.965081</td>\n      <td>2.697356</td>\n      <td>-0.100334</td>\n      <td>-0.010047</td>\n      <td>-0.002080</td>\n      <td>0.000370</td>\n      <td>28.747137</td>\n      <td>62994.980037</td>\n      <td>-0.082410</td>\n      <td>0.996174</td>\n      <td>-0.029068</td>\n    </tr>\n    <tr>\n      <th>48015</th>\n      <td>16</td>\n      <td>0</td>\n      <td>90720000</td>\n      <td>63000.0</td>\n      <td>-0.615450</td>\n      <td>-0.801311</td>\n      <td>0.000134</td>\n      <td>-1.015164</td>\n      <td>2.686532</td>\n      <td>-0.098466</td>\n      <td>-0.009985</td>\n      <td>-0.002249</td>\n      <td>0.000377</td>\n      <td>29.209137</td>\n      <td>62999.979716</td>\n      <td>-0.113759</td>\n      <td>0.993112</td>\n      <td>-0.028077</td>\n    </tr>\n  </tbody>\n</table>\n<p>48016 rows × 18 columns</p>\n</div>"
     },
     "metadata": {},
     "execution_count": 5
    }
   ],
   "source": [
    "# The Horizons DataFrame\n",
    "df_jpl"
   ]
  },
  {
   "cell_type": "code",
   "execution_count": 6,
   "metadata": {},
   "outputs": [],
   "source": [
    "# Column names for testing \n",
    "cols_q_obs = ['qObs_x', 'qObs_y', 'qObs_z']\n",
    "cols_q_ast = ['qAst_x', 'qAst_y', 'qAst_z']\n",
    "cols_v_ast = ['vAst_x', 'vAst_y', 'vAst_z']\n",
    "cols_u = ['ux', 'uy', 'uz']"
   ]
  },
  {
   "cell_type": "code",
   "execution_count": 7,
   "metadata": {},
   "outputs": [],
   "source": [
    "# Extract arrays from Horizons DataFrame\n",
    "asteroid_id = df_jpl.AsteroidID.values\n",
    "t_ast = df_jpl.tAst.values\n",
    "q_obs = df_jpl[cols_q_obs].values\n",
    "t_obs = df_jpl.tObs.values\n",
    "u_jpl = df_jpl[cols_u].values\n",
    "light_time_jpl = df_jpl.LightTime.values"
   ]
  },
  {
   "cell_type": "code",
   "execution_count": 8,
   "metadata": {},
   "outputs": [],
   "source": [
    "# Build spline for asteroid position according to JPL\n",
    "spline_q_ast_jpl = make_spline_df(df=df_jpl, cols_spline=cols_q_ast, time_col='tObs', id_col='AsteroidID')"
   ]
  },
  {
   "cell_type": "code",
   "execution_count": 9,
   "metadata": {},
   "outputs": [],
   "source": [
    "from asteroid_direction import calc_direction, calc_direction_dist, calc_dir_spline, c\n",
    "from asteroid_direction_test import test_ast_dir"
   ]
  },
  {
   "cell_type": "code",
   "execution_count": 10,
   "metadata": {},
   "outputs": [],
   "source": [
    "# Calculate asteroid direction using the JPL spline\n",
    "u_mse, delta_mse = calc_dir_spline(spline_q_ast=spline_q_ast_jpl, q_obs=q_obs, t_obs=t_obs, asteroid_id=asteroid_id, light_time=light_time_jpl, iters=0)\n",
    "light_time_mse = delta_mse / c"
   ]
  },
  {
   "cell_type": "code",
   "execution_count": 11,
   "metadata": {},
   "outputs": [
    {
     "output_type": "execute_result",
     "data": {
      "text/plain": [
       "array([-6.46391861e-04, -6.11782659e-05, -5.92848797e-05, ...,\n",
       "       -7.84527971e-05, -7.53412712e-05, -7.21010628e-05])"
      ]
     },
     "metadata": {},
     "execution_count": 11
    }
   ],
   "source": [
    "light_time_mse - light_time_jpl"
   ]
  },
  {
   "cell_type": "code",
   "execution_count": 12,
   "metadata": {},
   "outputs": [],
   "source": [
    "# The splined asteroid position using the JPL position spline and JPL light time\n",
    "q_ast_jpl = spline_q_ast_jpl(t_ast, asteroid_id)"
   ]
  },
  {
   "cell_type": "code",
   "execution_count": 14,
   "metadata": {},
   "outputs": [],
   "source": [
    "u_mse, delta_mse = calc_direction_dist(q0=q_obs, q1=q_ast_jpl)\n",
    "light_time_mse = delta_mse / c\n",
    "# light_time_mse = (t_obs - t_ast)*1440.0"
   ]
  },
  {
   "cell_type": "code",
   "execution_count": 15,
   "metadata": {},
   "outputs": [
    {
     "output_type": "stream",
     "name": "stdout",
     "text": [
      "Angle Difference: MSE vs. JPL in arc seconds\n*Mean  :     0.855*\n Median:     0.892\n Max   :    13.766\nLight time difference in minutes:\n Mean  :  5.19e-05\n"
     ]
    }
   ],
   "source": [
    "du, dlt = test_ast_dir(name1='JPL', name2='MSE', u1=u_jpl, u2=u_mse, lt1=light_time_jpl, lt2=light_time_mse, verbose=True)\n"
   ]
  },
  {
   "cell_type": "code",
   "execution_count": 16,
   "metadata": {},
   "outputs": [],
   "source": [
    "n0=1\n",
    "n1=17\n",
    "mjd0=57000\n",
    "mjd1=61000\n",
    "iters=3"
   ]
  },
  {
   "cell_type": "code",
   "execution_count": 17,
   "metadata": {},
   "outputs": [],
   "source": [
    "df_mse = calc_dir_ast2obs(t_obs=t_obs, asteroid_id=asteroid_id, q_obs=q_obs, iters=iters)"
   ]
  },
  {
   "cell_type": "code",
   "execution_count": 18,
   "metadata": {},
   "outputs": [
    {
     "output_type": "execute_result",
     "data": {
      "text/plain": [
       "       AsteroidID     tObs        ux        uy        uz  LightTime  \\\n",
       "0               1  48000.0 -0.097935  0.990084  0.100714  23.363004   \n",
       "1               1  48005.0 -0.127451  0.986642  0.101459  23.833479   \n",
       "2               1  48010.0 -0.157888  0.982154  0.102199  24.289716   \n",
       "3               1  48015.0 -0.189052  0.976558  0.102931  24.731012   \n",
       "4               1  48020.0 -0.220812  0.969792  0.103658  25.156590   \n",
       "...           ...      ...       ...       ...       ...        ...   \n",
       "48011          16  62980.0  0.009171  0.999436 -0.032318  27.244382   \n",
       "48012          16  62985.0 -0.020854  0.999296 -0.031186  27.763924   \n",
       "48013          16  62990.0 -0.051412  0.998224 -0.030103  28.265103   \n",
       "48014          16  62995.0 -0.082405  0.996175 -0.029068  28.747060   \n",
       "48015          16  63000.0 -0.113754  0.993112 -0.028077  29.209064   \n",
       "\n",
       "               tAst    qObs_x    qObs_y    qObs_z    qAst_x    qAst_y  \\\n",
       "0      47999.983776 -0.880028 -0.483807 -0.000050 -1.155143  2.297488   \n",
       "1      48004.983449 -0.836785 -0.557668 -0.000054 -1.202025  2.269773   \n",
       "2      48009.983132 -0.787422 -0.627462 -0.000056 -1.248545  2.240997   \n",
       "3      48014.982826 -0.732357 -0.692671 -0.000054 -1.294530  2.211259   \n",
       "4      48019.982530 -0.672042 -0.752868 -0.000054 -1.339957  2.180571   \n",
       "...             ...       ...       ...       ...       ...       ...   \n",
       "48011  62979.981080 -0.842921 -0.549267  0.000119 -0.812878  2.724730   \n",
       "48012  62984.980719 -0.794209 -0.619483  0.000126 -0.863825  2.716483   \n",
       "48013  62989.980371 -0.739772 -0.685171  0.000131 -0.914498  2.707369   \n",
       "48014  62994.980037 -0.680044 -0.745908  0.000132 -0.964881  2.697397   \n",
       "48015  62999.979716 -0.615450 -0.801311  0.000134 -1.014962  2.686577   \n",
       "\n",
       "         qAst_z  \n",
       "0      0.282872  \n",
       "1      0.290698  \n",
       "2      0.298426  \n",
       "3      0.306025  \n",
       "4      0.313492  \n",
       "...         ...  \n",
       "48011 -0.105751  \n",
       "48012 -0.103981  \n",
       "48013 -0.102178  \n",
       "48014 -0.100342  \n",
       "48015 -0.098474  \n",
       "\n",
       "[48016 rows x 13 columns]"
      ],
      "text/html": "<div>\n<style scoped>\n    .dataframe tbody tr th:only-of-type {\n        vertical-align: middle;\n    }\n\n    .dataframe tbody tr th {\n        vertical-align: top;\n    }\n\n    .dataframe thead th {\n        text-align: right;\n    }\n</style>\n<table border=\"1\" class=\"dataframe\">\n  <thead>\n    <tr style=\"text-align: right;\">\n      <th></th>\n      <th>AsteroidID</th>\n      <th>tObs</th>\n      <th>ux</th>\n      <th>uy</th>\n      <th>uz</th>\n      <th>LightTime</th>\n      <th>tAst</th>\n      <th>qObs_x</th>\n      <th>qObs_y</th>\n      <th>qObs_z</th>\n      <th>qAst_x</th>\n      <th>qAst_y</th>\n      <th>qAst_z</th>\n    </tr>\n  </thead>\n  <tbody>\n    <tr>\n      <th>0</th>\n      <td>1</td>\n      <td>48000.0</td>\n      <td>-0.097935</td>\n      <td>0.990084</td>\n      <td>0.100714</td>\n      <td>23.363004</td>\n      <td>47999.983776</td>\n      <td>-0.880028</td>\n      <td>-0.483807</td>\n      <td>-0.000050</td>\n      <td>-1.155143</td>\n      <td>2.297488</td>\n      <td>0.282872</td>\n    </tr>\n    <tr>\n      <th>1</th>\n      <td>1</td>\n      <td>48005.0</td>\n      <td>-0.127451</td>\n      <td>0.986642</td>\n      <td>0.101459</td>\n      <td>23.833479</td>\n      <td>48004.983449</td>\n      <td>-0.836785</td>\n      <td>-0.557668</td>\n      <td>-0.000054</td>\n      <td>-1.202025</td>\n      <td>2.269773</td>\n      <td>0.290698</td>\n    </tr>\n    <tr>\n      <th>2</th>\n      <td>1</td>\n      <td>48010.0</td>\n      <td>-0.157888</td>\n      <td>0.982154</td>\n      <td>0.102199</td>\n      <td>24.289716</td>\n      <td>48009.983132</td>\n      <td>-0.787422</td>\n      <td>-0.627462</td>\n      <td>-0.000056</td>\n      <td>-1.248545</td>\n      <td>2.240997</td>\n      <td>0.298426</td>\n    </tr>\n    <tr>\n      <th>3</th>\n      <td>1</td>\n      <td>48015.0</td>\n      <td>-0.189052</td>\n      <td>0.976558</td>\n      <td>0.102931</td>\n      <td>24.731012</td>\n      <td>48014.982826</td>\n      <td>-0.732357</td>\n      <td>-0.692671</td>\n      <td>-0.000054</td>\n      <td>-1.294530</td>\n      <td>2.211259</td>\n      <td>0.306025</td>\n    </tr>\n    <tr>\n      <th>4</th>\n      <td>1</td>\n      <td>48020.0</td>\n      <td>-0.220812</td>\n      <td>0.969792</td>\n      <td>0.103658</td>\n      <td>25.156590</td>\n      <td>48019.982530</td>\n      <td>-0.672042</td>\n      <td>-0.752868</td>\n      <td>-0.000054</td>\n      <td>-1.339957</td>\n      <td>2.180571</td>\n      <td>0.313492</td>\n    </tr>\n    <tr>\n      <th>...</th>\n      <td>...</td>\n      <td>...</td>\n      <td>...</td>\n      <td>...</td>\n      <td>...</td>\n      <td>...</td>\n      <td>...</td>\n      <td>...</td>\n      <td>...</td>\n      <td>...</td>\n      <td>...</td>\n      <td>...</td>\n      <td>...</td>\n    </tr>\n    <tr>\n      <th>48011</th>\n      <td>16</td>\n      <td>62980.0</td>\n      <td>0.009171</td>\n      <td>0.999436</td>\n      <td>-0.032318</td>\n      <td>27.244382</td>\n      <td>62979.981080</td>\n      <td>-0.842921</td>\n      <td>-0.549267</td>\n      <td>0.000119</td>\n      <td>-0.812878</td>\n      <td>2.724730</td>\n      <td>-0.105751</td>\n    </tr>\n    <tr>\n      <th>48012</th>\n      <td>16</td>\n      <td>62985.0</td>\n      <td>-0.020854</td>\n      <td>0.999296</td>\n      <td>-0.031186</td>\n      <td>27.763924</td>\n      <td>62984.980719</td>\n      <td>-0.794209</td>\n      <td>-0.619483</td>\n      <td>0.000126</td>\n      <td>-0.863825</td>\n      <td>2.716483</td>\n      <td>-0.103981</td>\n    </tr>\n    <tr>\n      <th>48013</th>\n      <td>16</td>\n      <td>62990.0</td>\n      <td>-0.051412</td>\n      <td>0.998224</td>\n      <td>-0.030103</td>\n      <td>28.265103</td>\n      <td>62989.980371</td>\n      <td>-0.739772</td>\n      <td>-0.685171</td>\n      <td>0.000131</td>\n      <td>-0.914498</td>\n      <td>2.707369</td>\n      <td>-0.102178</td>\n    </tr>\n    <tr>\n      <th>48014</th>\n      <td>16</td>\n      <td>62995.0</td>\n      <td>-0.082405</td>\n      <td>0.996175</td>\n      <td>-0.029068</td>\n      <td>28.747060</td>\n      <td>62994.980037</td>\n      <td>-0.680044</td>\n      <td>-0.745908</td>\n      <td>0.000132</td>\n      <td>-0.964881</td>\n      <td>2.697397</td>\n      <td>-0.100342</td>\n    </tr>\n    <tr>\n      <th>48015</th>\n      <td>16</td>\n      <td>63000.0</td>\n      <td>-0.113754</td>\n      <td>0.993112</td>\n      <td>-0.028077</td>\n      <td>29.209064</td>\n      <td>62999.979716</td>\n      <td>-0.615450</td>\n      <td>-0.801311</td>\n      <td>0.000134</td>\n      <td>-1.014962</td>\n      <td>2.686577</td>\n      <td>-0.098474</td>\n    </tr>\n  </tbody>\n</table>\n<p>48016 rows × 13 columns</p>\n</div>"
     },
     "metadata": {},
     "execution_count": 18
    }
   ],
   "source": [
    "df_mse"
   ]
  },
  {
   "cell_type": "code",
   "execution_count": 19,
   "metadata": {},
   "outputs": [],
   "source": [
    "u_mse = df_mse[cols_u].values"
   ]
  },
  {
   "cell_type": "code",
   "execution_count": 20,
   "metadata": {},
   "outputs": [],
   "source": [
    "du = (u_mse - u_jpl)"
   ]
  },
  {
   "cell_type": "code",
   "execution_count": 21,
   "metadata": {},
   "outputs": [],
   "source": [
    "err = np.sqrt(np.sum(np.square(du), axis=-1))"
   ]
  },
  {
   "cell_type": "code",
   "execution_count": 22,
   "metadata": {},
   "outputs": [],
   "source": [
    "idx = np.argmax(err)\n"
   ]
  },
  {
   "cell_type": "code",
   "execution_count": 23,
   "metadata": {},
   "outputs": [],
   "source": [
    "# Positions\n",
    "# q_ast_jpl = df_jpl[cols_q_ast].values\n",
    "q_ast_mse = df_mse[cols_q_ast].values\n",
    "\n",
    "q_obs_jpl = df_jpl[cols_q_ast].values\n",
    "q_obs_mse = df_jpl[cols_q_ast].values"
   ]
  },
  {
   "cell_type": "code",
   "execution_count": 24,
   "metadata": {},
   "outputs": [],
   "source": [
    "dq_ast = q_ast_mse - q_ast_jpl\n",
    "dq_obs = q_obs_mse - q_obs_jpl"
   ]
  },
  {
   "cell_type": "code",
   "execution_count": 25,
   "metadata": {},
   "outputs": [],
   "source": [
    "err_q_obs = np.sqrt(np.sum(np.square(dq_obs), axis=-1))\n",
    "err_q_ast = np.sqrt(np.sum(np.square(dq_ast), axis=-1))"
   ]
  },
  {
   "cell_type": "code",
   "execution_count": 26,
   "metadata": {},
   "outputs": [],
   "source": [
    "err_q_obs_mean = np.mean(err_q_obs)\n",
    "err_q_ast_mean = np.mean(err_q_ast)"
   ]
  },
  {
   "cell_type": "code",
   "execution_count": 27,
   "metadata": {},
   "outputs": [
    {
     "output_type": "stream",
     "name": "stdout",
     "text": [
      "Mean position error:\nobs: 0.000e+00\nast: 1.675e-06\n"
     ]
    }
   ],
   "source": [
    "print(f'Mean position error:')\n",
    "print(f'obs: {err_q_obs_mean:5.3e}')\n",
    "print(f'ast: {err_q_ast_mean:5.3e}')"
   ]
  },
  {
   "cell_type": "code",
   "execution_count": 29,
   "metadata": {},
   "outputs": [
    {
     "output_type": "execute_result",
     "data": {
      "text/plain": [
       "array([9.17092065e-06, 9.25774538e-06, 9.26334125e-06, 9.26844574e-06,\n",
       "       9.27330392e-06, 9.27782257e-06, 9.28203190e-06, 9.28594228e-06,\n",
       "       9.28953580e-06, 9.29278044e-06])"
      ]
     },
     "metadata": {},
     "execution_count": 29
    }
   ],
   "source": [
    "err_q_ast[mask][0:10]"
   ]
  },
  {
   "cell_type": "code",
   "execution_count": null,
   "metadata": {},
   "outputs": [],
   "source": []
  }
 ],
 "metadata": {
  "kernelspec": {
   "display_name": "kepler",
   "language": "python",
   "name": "kepler"
  },
  "language_info": {
   "codemirror_mode": {
    "name": "ipython",
    "version": 3
   },
   "file_extension": ".py",
   "mimetype": "text/x-python",
   "name": "python",
   "nbconvert_exporter": "python",
   "pygments_lexer": "ipython3",
   "version": "3.8.5"
  }
 },
 "nbformat": 4,
 "nbformat_minor": 4
}