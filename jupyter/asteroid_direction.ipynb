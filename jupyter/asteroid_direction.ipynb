{
 "cells": [
  {
   "cell_type": "code",
   "execution_count": 1,
   "metadata": {},
   "outputs": [],
   "source": [
    "# Core\n",
    "import numpy as np\n",
    "import pandas as pd\n",
    "from scipy.interpolate import CubicSpline, RectBivariateSpline\n",
    "\n",
    "# Astronomy\n",
    "import astropy\n",
    "from astropy.units import au, minute\n",
    "\n",
    "from typing import List, Optional"
   ]
  },
  {
   "cell_type": "code",
   "execution_count": 2,
   "metadata": {},
   "outputs": [],
   "source": [
    "# Local imports\n",
    "import kepler_sieve\n",
    "from asteroid_data import load_ast_pos\n",
    "from asteroid_spline import get_df_shape, make_spline_df, spline_ast_data\n",
    "from planets_interp import get_earth_pos\n",
    "from asteroid_direction import calc_dir_linear, calc_dir_linear_topos\n",
    "from asteroid_direction_test import jpl_ast_dir_populate\n",
    "from ra_dec import radec2dir\n",
    "from ra_dec_test import direction_diff\n",
    "from db_utils import sp2df, df2db\n",
    "import matplotlib.pyplot as plt"
   ]
  },
  {
   "source": [
    "# Test Astrometric Direction with JPL State Vectors"
   ],
   "cell_type": "markdown",
   "metadata": {}
  },
  {
   "cell_type": "code",
   "execution_count": 3,
   "metadata": {},
   "outputs": [],
   "source": [
    "# Import the JPL asteroid directions\n",
    "sp_name = 'JPL.AstrometricDirectionTest'\n",
    "df = sp2df(sp_name=sp_name)"
   ]
  },
  {
   "cell_type": "code",
   "execution_count": 4,
   "metadata": {},
   "outputs": [
    {
     "output_type": "execute_result",
     "data": {
      "text/plain": [
       "       AsteroidID    TimeID     tAst    qObs_x    qObs_y    qObs_z    qAst_x  \\\n",
       "0               1  69120000  48000.0 -0.880028 -0.483807 -0.000050 -1.155150   \n",
       "1               1  69127200  48005.0 -0.836785 -0.557668 -0.000054 -1.202187   \n",
       "2               1  69134400  48010.0 -0.787422 -0.627462 -0.000056 -1.248709   \n",
       "3               1  69141600  48015.0 -0.732357 -0.692671 -0.000054 -1.294694   \n",
       "4               1  69148800  48020.0 -0.672042 -0.752868 -0.000054 -1.340122   \n",
       "...           ...       ...      ...       ...       ...       ...       ...   \n",
       "48011          16  90691200  62980.0 -0.842921 -0.549267  0.000119 -0.813070   \n",
       "48012          16  90698400  62985.0 -0.794209 -0.619483  0.000126 -0.864021   \n",
       "48013          16  90705600  62990.0 -0.739772 -0.685171  0.000131 -0.914696   \n",
       "48014          16  90712800  62995.0 -0.680044 -0.745908  0.000132 -0.965081   \n",
       "48015          16  90720000  63000.0 -0.615450 -0.801311  0.000134 -1.015164   \n",
       "\n",
       "         qAst_y    qAst_z    vAst_x    vAst_y    vAst_z  LightTime     tObs  \\\n",
       "0      2.297484  0.282873 -0.009457 -0.005464  0.001583  23.363621  48000.0   \n",
       "1      2.269674  0.290725 -0.009357 -0.005659  0.001558  23.833511  48005.0   \n",
       "2      2.240893  0.298453 -0.009251 -0.005853  0.001533  24.289747  48010.0   \n",
       "3      2.211151  0.306052 -0.009142 -0.006044  0.001507  24.731042  48015.0   \n",
       "4      2.180457  0.313519 -0.009028 -0.006233  0.001480  25.156619  48020.0   \n",
       "...         ...       ...       ...       ...       ...        ...      ...   \n",
       "48011  2.724700 -0.105745 -0.010217 -0.001563  0.000351  27.244467  62980.0   \n",
       "48012  2.716450 -0.103974 -0.010163 -0.001737  0.000357  27.764006  62985.0   \n",
       "48013  2.707332 -0.102170 -0.010107 -0.001910  0.000364  28.265182  62990.0   \n",
       "48014  2.697356 -0.100334 -0.010047 -0.002080  0.000370  28.747137  62995.0   \n",
       "48015  2.686532 -0.098466 -0.009985 -0.002249  0.000377  29.209137  63000.0   \n",
       "\n",
       "             ux        uy        uz     delta  \n",
       "0     -0.097885  0.990090  0.100704  2.809226  \n",
       "1     -0.127458  0.986641  0.101460  2.865725  \n",
       "2     -0.157895  0.982153  0.102200  2.920583  \n",
       "3     -0.189059  0.976556  0.102932  2.973644  \n",
       "4     -0.220819  0.969791  0.103659  3.024815  \n",
       "...         ...       ...       ...       ...  \n",
       "48011  0.009167  0.999436 -0.032318  3.275856  \n",
       "48012 -0.020859  0.999296 -0.031185  3.338325  \n",
       "48013 -0.051416  0.998224 -0.030103  3.398587  \n",
       "48014 -0.082410  0.996174 -0.029068  3.456536  \n",
       "48015 -0.113759  0.993112 -0.028077  3.512087  \n",
       "\n",
       "[48016 rows x 18 columns]"
      ],
      "text/html": "<div>\n<style scoped>\n    .dataframe tbody tr th:only-of-type {\n        vertical-align: middle;\n    }\n\n    .dataframe tbody tr th {\n        vertical-align: top;\n    }\n\n    .dataframe thead th {\n        text-align: right;\n    }\n</style>\n<table border=\"1\" class=\"dataframe\">\n  <thead>\n    <tr style=\"text-align: right;\">\n      <th></th>\n      <th>AsteroidID</th>\n      <th>TimeID</th>\n      <th>tAst</th>\n      <th>qObs_x</th>\n      <th>qObs_y</th>\n      <th>qObs_z</th>\n      <th>qAst_x</th>\n      <th>qAst_y</th>\n      <th>qAst_z</th>\n      <th>vAst_x</th>\n      <th>vAst_y</th>\n      <th>vAst_z</th>\n      <th>LightTime</th>\n      <th>tObs</th>\n      <th>ux</th>\n      <th>uy</th>\n      <th>uz</th>\n      <th>delta</th>\n    </tr>\n  </thead>\n  <tbody>\n    <tr>\n      <th>0</th>\n      <td>1</td>\n      <td>69120000</td>\n      <td>48000.0</td>\n      <td>-0.880028</td>\n      <td>-0.483807</td>\n      <td>-0.000050</td>\n      <td>-1.155150</td>\n      <td>2.297484</td>\n      <td>0.282873</td>\n      <td>-0.009457</td>\n      <td>-0.005464</td>\n      <td>0.001583</td>\n      <td>23.363621</td>\n      <td>48000.0</td>\n      <td>-0.097885</td>\n      <td>0.990090</td>\n      <td>0.100704</td>\n      <td>2.809226</td>\n    </tr>\n    <tr>\n      <th>1</th>\n      <td>1</td>\n      <td>69127200</td>\n      <td>48005.0</td>\n      <td>-0.836785</td>\n      <td>-0.557668</td>\n      <td>-0.000054</td>\n      <td>-1.202187</td>\n      <td>2.269674</td>\n      <td>0.290725</td>\n      <td>-0.009357</td>\n      <td>-0.005659</td>\n      <td>0.001558</td>\n      <td>23.833511</td>\n      <td>48005.0</td>\n      <td>-0.127458</td>\n      <td>0.986641</td>\n      <td>0.101460</td>\n      <td>2.865725</td>\n    </tr>\n    <tr>\n      <th>2</th>\n      <td>1</td>\n      <td>69134400</td>\n      <td>48010.0</td>\n      <td>-0.787422</td>\n      <td>-0.627462</td>\n      <td>-0.000056</td>\n      <td>-1.248709</td>\n      <td>2.240893</td>\n      <td>0.298453</td>\n      <td>-0.009251</td>\n      <td>-0.005853</td>\n      <td>0.001533</td>\n      <td>24.289747</td>\n      <td>48010.0</td>\n      <td>-0.157895</td>\n      <td>0.982153</td>\n      <td>0.102200</td>\n      <td>2.920583</td>\n    </tr>\n    <tr>\n      <th>3</th>\n      <td>1</td>\n      <td>69141600</td>\n      <td>48015.0</td>\n      <td>-0.732357</td>\n      <td>-0.692671</td>\n      <td>-0.000054</td>\n      <td>-1.294694</td>\n      <td>2.211151</td>\n      <td>0.306052</td>\n      <td>-0.009142</td>\n      <td>-0.006044</td>\n      <td>0.001507</td>\n      <td>24.731042</td>\n      <td>48015.0</td>\n      <td>-0.189059</td>\n      <td>0.976556</td>\n      <td>0.102932</td>\n      <td>2.973644</td>\n    </tr>\n    <tr>\n      <th>4</th>\n      <td>1</td>\n      <td>69148800</td>\n      <td>48020.0</td>\n      <td>-0.672042</td>\n      <td>-0.752868</td>\n      <td>-0.000054</td>\n      <td>-1.340122</td>\n      <td>2.180457</td>\n      <td>0.313519</td>\n      <td>-0.009028</td>\n      <td>-0.006233</td>\n      <td>0.001480</td>\n      <td>25.156619</td>\n      <td>48020.0</td>\n      <td>-0.220819</td>\n      <td>0.969791</td>\n      <td>0.103659</td>\n      <td>3.024815</td>\n    </tr>\n    <tr>\n      <th>...</th>\n      <td>...</td>\n      <td>...</td>\n      <td>...</td>\n      <td>...</td>\n      <td>...</td>\n      <td>...</td>\n      <td>...</td>\n      <td>...</td>\n      <td>...</td>\n      <td>...</td>\n      <td>...</td>\n      <td>...</td>\n      <td>...</td>\n      <td>...</td>\n      <td>...</td>\n      <td>...</td>\n      <td>...</td>\n      <td>...</td>\n    </tr>\n    <tr>\n      <th>48011</th>\n      <td>16</td>\n      <td>90691200</td>\n      <td>62980.0</td>\n      <td>-0.842921</td>\n      <td>-0.549267</td>\n      <td>0.000119</td>\n      <td>-0.813070</td>\n      <td>2.724700</td>\n      <td>-0.105745</td>\n      <td>-0.010217</td>\n      <td>-0.001563</td>\n      <td>0.000351</td>\n      <td>27.244467</td>\n      <td>62980.0</td>\n      <td>0.009167</td>\n      <td>0.999436</td>\n      <td>-0.032318</td>\n      <td>3.275856</td>\n    </tr>\n    <tr>\n      <th>48012</th>\n      <td>16</td>\n      <td>90698400</td>\n      <td>62985.0</td>\n      <td>-0.794209</td>\n      <td>-0.619483</td>\n      <td>0.000126</td>\n      <td>-0.864021</td>\n      <td>2.716450</td>\n      <td>-0.103974</td>\n      <td>-0.010163</td>\n      <td>-0.001737</td>\n      <td>0.000357</td>\n      <td>27.764006</td>\n      <td>62985.0</td>\n      <td>-0.020859</td>\n      <td>0.999296</td>\n      <td>-0.031185</td>\n      <td>3.338325</td>\n    </tr>\n    <tr>\n      <th>48013</th>\n      <td>16</td>\n      <td>90705600</td>\n      <td>62990.0</td>\n      <td>-0.739772</td>\n      <td>-0.685171</td>\n      <td>0.000131</td>\n      <td>-0.914696</td>\n      <td>2.707332</td>\n      <td>-0.102170</td>\n      <td>-0.010107</td>\n      <td>-0.001910</td>\n      <td>0.000364</td>\n      <td>28.265182</td>\n      <td>62990.0</td>\n      <td>-0.051416</td>\n      <td>0.998224</td>\n      <td>-0.030103</td>\n      <td>3.398587</td>\n    </tr>\n    <tr>\n      <th>48014</th>\n      <td>16</td>\n      <td>90712800</td>\n      <td>62995.0</td>\n      <td>-0.680044</td>\n      <td>-0.745908</td>\n      <td>0.000132</td>\n      <td>-0.965081</td>\n      <td>2.697356</td>\n      <td>-0.100334</td>\n      <td>-0.010047</td>\n      <td>-0.002080</td>\n      <td>0.000370</td>\n      <td>28.747137</td>\n      <td>62995.0</td>\n      <td>-0.082410</td>\n      <td>0.996174</td>\n      <td>-0.029068</td>\n      <td>3.456536</td>\n    </tr>\n    <tr>\n      <th>48015</th>\n      <td>16</td>\n      <td>90720000</td>\n      <td>63000.0</td>\n      <td>-0.615450</td>\n      <td>-0.801311</td>\n      <td>0.000134</td>\n      <td>-1.015164</td>\n      <td>2.686532</td>\n      <td>-0.098466</td>\n      <td>-0.009985</td>\n      <td>-0.002249</td>\n      <td>0.000377</td>\n      <td>29.209137</td>\n      <td>63000.0</td>\n      <td>-0.113759</td>\n      <td>0.993112</td>\n      <td>-0.028077</td>\n      <td>3.512087</td>\n    </tr>\n  </tbody>\n</table>\n<p>48016 rows × 18 columns</p>\n</div>"
     },
     "metadata": {},
     "execution_count": 4
    }
   ],
   "source": [
    "df"
   ]
  },
  {
   "cell_type": "code",
   "execution_count": 5,
   "metadata": {},
   "outputs": [],
   "source": [
    "# Column names\n",
    "cols_q_obs = ['qObs_x', 'qObs_y', 'qObs_z']\n",
    "cols_q_ast = ['qAst_x', 'qAst_y', 'qAst_z']\n",
    "cols_v_ast = ['vAst_x', 'vAst_y', 'vAst_z']\n",
    "cols_u = ['ux', 'uy', 'uz']"
   ]
  },
  {
   "cell_type": "code",
   "execution_count": 6,
   "metadata": {},
   "outputs": [],
   "source": [
    "# Position and velocity according to JPL\n",
    "q_obs = df[cols_q_obs].values\n",
    "q_ast = df[cols_q_ast].values\n",
    "v_ast = df[cols_v_ast].values\n",
    "\n",
    "# Direction according to JPL\n",
    "u_jpl = df[cols_u].values"
   ]
  },
  {
   "cell_type": "code",
   "execution_count": 7,
   "metadata": {},
   "outputs": [],
   "source": [
    "# MSE calculation of the astrometric direction in linear model\n",
    "u_mse, delta_mse = calc_dir_linear(q_tgt=q_ast, v_tgt=v_ast, q_obs=q_obs)"
   ]
  },
  {
   "cell_type": "code",
   "execution_count": 8,
   "metadata": {},
   "outputs": [
    {
     "output_type": "stream",
     "name": "stdout",
     "text": [
      "Angle Difference: MSE vs. JPL\nMean  :   0.000237 deg (   0.851 seconds)\nMedian:   0.000248 deg (   0.892 seconds)\nMax   :   0.000518 deg (   1.864 seconds)\n"
     ]
    },
    {
     "output_type": "execute_result",
     "data": {
      "text/plain": [
       "0.8514511996886399"
      ]
     },
     "metadata": {},
     "execution_count": 8
    }
   ],
   "source": [
    "direction_diff(name1='JPL', name2='MSE', u1=u_jpl, u2=u_mse, verbose=True)"
   ]
  },
  {
   "source": [
    "# Test Astrometric Direction with MSE State Vectors"
   ],
   "cell_type": "markdown",
   "metadata": {}
  },
  {
   "cell_type": "code",
   "execution_count": 9,
   "metadata": {},
   "outputs": [],
   "source": [
    "# Directions from two different sources\n",
    "df_jpl = sp2df(sp_name='JPL.AstrometricDirectionTest')\n",
    "df_mse = sp2df(sp_name='JPL.AstrometricDirectionAndVectorTest')"
   ]
  },
  {
   "cell_type": "code",
   "execution_count": 10,
   "metadata": {},
   "outputs": [],
   "source": [
    "# State vectors according to JPL integration\n",
    "q_obs_jpl = df_jpl[cols_q_obs].values\n",
    "q_ast_jpl = df_jpl[cols_q_ast].values\n",
    "v_ast_jpl = df_jpl[cols_v_ast].values"
   ]
  },
  {
   "cell_type": "code",
   "execution_count": 11,
   "metadata": {},
   "outputs": [],
   "source": [
    "# State vectors according to MSE integration\n",
    "q_obs_mse = df_mse[cols_q_obs].values\n",
    "q_ast_mse = df_mse[cols_q_ast].values\n",
    "v_ast_mse = df_mse[cols_v_ast].values"
   ]
  },
  {
   "cell_type": "code",
   "execution_count": 12,
   "metadata": {},
   "outputs": [],
   "source": [
    "# Directions calculated in linear model with both state vectors\n",
    "u_jpl = calc_dir_linear(q_tgt=q_ast_jpl, v_tgt=v_ast_jpl, q_obs=q_obs_jpl)\n",
    "u_mse = calc_dir_linear(q_tgt=q_ast_mse, v_tgt=v_ast_mse, q_obs=q_obs_mse)"
   ]
  },
  {
   "cell_type": "code",
   "execution_count": 13,
   "metadata": {},
   "outputs": [],
   "source": [
    "# Mask both frames down to overlapping dates (multiples of 20)\n",
    "mask_interval = 20*1440\n",
    "mask_jpl = (df_jpl.TimeID % mask_interval) == 0\n",
    "df_jpl = df_jpl[mask_jpl].reindex()\n",
    "\n",
    "mask_mse = (df_mse.TimeID % mask_interval) == 0\n",
    "df_mse = df_mse[mask_mse].reindex()"
   ]
  },
  {
   "cell_type": "code",
   "execution_count": 14,
   "metadata": {},
   "outputs": [
    {
     "output_type": "execute_result",
     "data": {
      "text/plain": [
       "       AsteroidID    TimeID     tAst    qObs_x    qObs_y    qObs_z    qAst_x  \\\n",
       "0               1  69120000  48000.0 -0.880028 -0.483807 -0.000050 -1.155150   \n",
       "4               1  69148800  48020.0 -0.672042 -0.752868 -0.000054 -1.340122   \n",
       "8               1  69177600  48040.0 -0.387421 -0.936160 -0.000062 -1.515844   \n",
       "12              1  69206400  48060.0 -0.059117 -1.013904 -0.000068 -1.681013   \n",
       "16              1  69235200  48080.0  0.275917 -0.978167 -0.000064 -1.834396   \n",
       "...           ...       ...      ...       ...       ...       ...       ...   \n",
       "47999          16  90604800  62920.0 -0.888357  0.439177  0.000041 -0.185713   \n",
       "48003          16  90633600  62940.0 -0.989707  0.109228  0.000069 -0.397338   \n",
       "48007          16  90662400  62960.0 -0.973271 -0.233761  0.000098 -0.606806   \n",
       "48011          16  90691200  62980.0 -0.842921 -0.549267  0.000119 -0.813070   \n",
       "48015          16  90720000  63000.0 -0.615450 -0.801311  0.000134 -1.015164   \n",
       "\n",
       "         qAst_y    qAst_z    vAst_x    vAst_y    vAst_z  LightTime     tObs  \\\n",
       "0      2.297484  0.282873 -0.009457 -0.005464  0.001583  23.363621  48000.0   \n",
       "4      2.180457  0.313519 -0.009028 -0.006233  0.001480  25.156619  48020.0   \n",
       "8      2.048398  0.342000 -0.008533 -0.006966  0.001366  26.689323  48040.0   \n",
       "12     1.902098  0.368097 -0.007974 -0.007656  0.001242  27.919420  48060.0   \n",
       "16     1.742481  0.391613 -0.007355 -0.008297  0.001108  28.820901  48080.0   \n",
       "...         ...       ...       ...       ...       ...        ...      ...   \n",
       "47999  2.752974 -0.124104 -0.010617  0.000657  0.000257  20.137859  62920.0   \n",
       "48003  2.758441 -0.118616 -0.010536 -0.000107  0.000291  22.598897  62940.0   \n",
       "48007  2.748854 -0.112479 -0.010402 -0.000848  0.000322  25.010115  62960.0   \n",
       "48011  2.724700 -0.105745 -0.010217 -0.001563  0.000351  27.244467  62980.0   \n",
       "48015  2.686532 -0.098466 -0.009985 -0.002249  0.000377  29.209137  63000.0   \n",
       "\n",
       "             ux        uy        uz     delta  \n",
       "0     -0.097885  0.990090  0.100704  2.809226  \n",
       "4     -0.220819  0.969791  0.103659  3.024815  \n",
       "8     -0.351587  0.930068  0.106584  3.209106  \n",
       "12    -0.483095  0.868673  0.109664  3.357012  \n",
       "16    -0.608928  0.785133  0.113019  3.465406  \n",
       "...         ...       ...       ...       ...  \n",
       "47999  0.290246  0.955578 -0.051272  2.421363  \n",
       "48003  0.218060  0.974958 -0.043679  2.717276  \n",
       "48007  0.121919  0.991834 -0.037437  3.007199  \n",
       "48011  0.009167  0.999436 -0.032318  3.275856  \n",
       "48015 -0.113759  0.993112 -0.028077  3.512087  \n",
       "\n",
       "[12016 rows x 18 columns]"
      ],
      "text/html": "<div>\n<style scoped>\n    .dataframe tbody tr th:only-of-type {\n        vertical-align: middle;\n    }\n\n    .dataframe tbody tr th {\n        vertical-align: top;\n    }\n\n    .dataframe thead th {\n        text-align: right;\n    }\n</style>\n<table border=\"1\" class=\"dataframe\">\n  <thead>\n    <tr style=\"text-align: right;\">\n      <th></th>\n      <th>AsteroidID</th>\n      <th>TimeID</th>\n      <th>tAst</th>\n      <th>qObs_x</th>\n      <th>qObs_y</th>\n      <th>qObs_z</th>\n      <th>qAst_x</th>\n      <th>qAst_y</th>\n      <th>qAst_z</th>\n      <th>vAst_x</th>\n      <th>vAst_y</th>\n      <th>vAst_z</th>\n      <th>LightTime</th>\n      <th>tObs</th>\n      <th>ux</th>\n      <th>uy</th>\n      <th>uz</th>\n      <th>delta</th>\n    </tr>\n  </thead>\n  <tbody>\n    <tr>\n      <th>0</th>\n      <td>1</td>\n      <td>69120000</td>\n      <td>48000.0</td>\n      <td>-0.880028</td>\n      <td>-0.483807</td>\n      <td>-0.000050</td>\n      <td>-1.155150</td>\n      <td>2.297484</td>\n      <td>0.282873</td>\n      <td>-0.009457</td>\n      <td>-0.005464</td>\n      <td>0.001583</td>\n      <td>23.363621</td>\n      <td>48000.0</td>\n      <td>-0.097885</td>\n      <td>0.990090</td>\n      <td>0.100704</td>\n      <td>2.809226</td>\n    </tr>\n    <tr>\n      <th>4</th>\n      <td>1</td>\n      <td>69148800</td>\n      <td>48020.0</td>\n      <td>-0.672042</td>\n      <td>-0.752868</td>\n      <td>-0.000054</td>\n      <td>-1.340122</td>\n      <td>2.180457</td>\n      <td>0.313519</td>\n      <td>-0.009028</td>\n      <td>-0.006233</td>\n      <td>0.001480</td>\n      <td>25.156619</td>\n      <td>48020.0</td>\n      <td>-0.220819</td>\n      <td>0.969791</td>\n      <td>0.103659</td>\n      <td>3.024815</td>\n    </tr>\n    <tr>\n      <th>8</th>\n      <td>1</td>\n      <td>69177600</td>\n      <td>48040.0</td>\n      <td>-0.387421</td>\n      <td>-0.936160</td>\n      <td>-0.000062</td>\n      <td>-1.515844</td>\n      <td>2.048398</td>\n      <td>0.342000</td>\n      <td>-0.008533</td>\n      <td>-0.006966</td>\n      <td>0.001366</td>\n      <td>26.689323</td>\n      <td>48040.0</td>\n      <td>-0.351587</td>\n      <td>0.930068</td>\n      <td>0.106584</td>\n      <td>3.209106</td>\n    </tr>\n    <tr>\n      <th>12</th>\n      <td>1</td>\n      <td>69206400</td>\n      <td>48060.0</td>\n      <td>-0.059117</td>\n      <td>-1.013904</td>\n      <td>-0.000068</td>\n      <td>-1.681013</td>\n      <td>1.902098</td>\n      <td>0.368097</td>\n      <td>-0.007974</td>\n      <td>-0.007656</td>\n      <td>0.001242</td>\n      <td>27.919420</td>\n      <td>48060.0</td>\n      <td>-0.483095</td>\n      <td>0.868673</td>\n      <td>0.109664</td>\n      <td>3.357012</td>\n    </tr>\n    <tr>\n      <th>16</th>\n      <td>1</td>\n      <td>69235200</td>\n      <td>48080.0</td>\n      <td>0.275917</td>\n      <td>-0.978167</td>\n      <td>-0.000064</td>\n      <td>-1.834396</td>\n      <td>1.742481</td>\n      <td>0.391613</td>\n      <td>-0.007355</td>\n      <td>-0.008297</td>\n      <td>0.001108</td>\n      <td>28.820901</td>\n      <td>48080.0</td>\n      <td>-0.608928</td>\n      <td>0.785133</td>\n      <td>0.113019</td>\n      <td>3.465406</td>\n    </tr>\n    <tr>\n      <th>...</th>\n      <td>...</td>\n      <td>...</td>\n      <td>...</td>\n      <td>...</td>\n      <td>...</td>\n      <td>...</td>\n      <td>...</td>\n      <td>...</td>\n      <td>...</td>\n      <td>...</td>\n      <td>...</td>\n      <td>...</td>\n      <td>...</td>\n      <td>...</td>\n      <td>...</td>\n      <td>...</td>\n      <td>...</td>\n      <td>...</td>\n    </tr>\n    <tr>\n      <th>47999</th>\n      <td>16</td>\n      <td>90604800</td>\n      <td>62920.0</td>\n      <td>-0.888357</td>\n      <td>0.439177</td>\n      <td>0.000041</td>\n      <td>-0.185713</td>\n      <td>2.752974</td>\n      <td>-0.124104</td>\n      <td>-0.010617</td>\n      <td>0.000657</td>\n      <td>0.000257</td>\n      <td>20.137859</td>\n      <td>62920.0</td>\n      <td>0.290246</td>\n      <td>0.955578</td>\n      <td>-0.051272</td>\n      <td>2.421363</td>\n    </tr>\n    <tr>\n      <th>48003</th>\n      <td>16</td>\n      <td>90633600</td>\n      <td>62940.0</td>\n      <td>-0.989707</td>\n      <td>0.109228</td>\n      <td>0.000069</td>\n      <td>-0.397338</td>\n      <td>2.758441</td>\n      <td>-0.118616</td>\n      <td>-0.010536</td>\n      <td>-0.000107</td>\n      <td>0.000291</td>\n      <td>22.598897</td>\n      <td>62940.0</td>\n      <td>0.218060</td>\n      <td>0.974958</td>\n      <td>-0.043679</td>\n      <td>2.717276</td>\n    </tr>\n    <tr>\n      <th>48007</th>\n      <td>16</td>\n      <td>90662400</td>\n      <td>62960.0</td>\n      <td>-0.973271</td>\n      <td>-0.233761</td>\n      <td>0.000098</td>\n      <td>-0.606806</td>\n      <td>2.748854</td>\n      <td>-0.112479</td>\n      <td>-0.010402</td>\n      <td>-0.000848</td>\n      <td>0.000322</td>\n      <td>25.010115</td>\n      <td>62960.0</td>\n      <td>0.121919</td>\n      <td>0.991834</td>\n      <td>-0.037437</td>\n      <td>3.007199</td>\n    </tr>\n    <tr>\n      <th>48011</th>\n      <td>16</td>\n      <td>90691200</td>\n      <td>62980.0</td>\n      <td>-0.842921</td>\n      <td>-0.549267</td>\n      <td>0.000119</td>\n      <td>-0.813070</td>\n      <td>2.724700</td>\n      <td>-0.105745</td>\n      <td>-0.010217</td>\n      <td>-0.001563</td>\n      <td>0.000351</td>\n      <td>27.244467</td>\n      <td>62980.0</td>\n      <td>0.009167</td>\n      <td>0.999436</td>\n      <td>-0.032318</td>\n      <td>3.275856</td>\n    </tr>\n    <tr>\n      <th>48015</th>\n      <td>16</td>\n      <td>90720000</td>\n      <td>63000.0</td>\n      <td>-0.615450</td>\n      <td>-0.801311</td>\n      <td>0.000134</td>\n      <td>-1.015164</td>\n      <td>2.686532</td>\n      <td>-0.098466</td>\n      <td>-0.009985</td>\n      <td>-0.002249</td>\n      <td>0.000377</td>\n      <td>29.209137</td>\n      <td>63000.0</td>\n      <td>-0.113759</td>\n      <td>0.993112</td>\n      <td>-0.028077</td>\n      <td>3.512087</td>\n    </tr>\n  </tbody>\n</table>\n<p>12016 rows × 18 columns</p>\n</div>"
     },
     "metadata": {},
     "execution_count": 14
    }
   ],
   "source": [
    "df_jpl"
   ]
  },
  {
   "source": [
    "# Test Astrometric Direction with MSE State Vectors and Topos"
   ],
   "cell_type": "markdown",
   "metadata": {}
  },
  {
   "cell_type": "code",
   "execution_count": 15,
   "metadata": {},
   "outputs": [
    {
     "output_type": "execute_result",
     "data": {
      "text/plain": [
       "       AsteroidID    TimeID     tAst    qObs_x    qObs_y    qObs_z    qAst_x  \\\n",
       "0               1  69120000  48000.0 -0.880033 -0.483797 -0.000050 -1.155142   \n",
       "1               1  69148800  48020.0 -0.672050 -0.752861 -0.000054 -1.340115   \n",
       "2               1  69177600  48040.0 -0.387430 -0.936156 -0.000062 -1.515837   \n",
       "3               1  69206400  48060.0 -0.059127 -1.013903 -0.000068 -1.681006   \n",
       "4               1  69235200  48080.0  0.275907 -0.978170 -0.000064 -1.834390   \n",
       "...           ...       ...      ...       ...       ...       ...       ...   \n",
       "12011          16  90604800  62920.0 -0.888358  0.439174  0.000041 -0.185713   \n",
       "12012          16  90633600  62940.0 -0.989708  0.109224  0.000069 -0.397338   \n",
       "12013          16  90662400  62960.0 -0.973270 -0.233765  0.000098 -0.606806   \n",
       "12014          16  90691200  62980.0 -0.842919 -0.549270  0.000119 -0.813071   \n",
       "12015          16  90720000  63000.0 -0.615447 -0.801313  0.000134 -1.015164   \n",
       "\n",
       "         qAst_y    qAst_z    vAst_x    vAst_y    vAst_z  LightTime     tObs  \\\n",
       "0      2.297488  0.282872 -0.009457 -0.005464  0.001583  23.363621  48000.0   \n",
       "1      2.180462  0.313518 -0.009028 -0.006233  0.001480  25.156619  48020.0   \n",
       "2      2.048404  0.341999 -0.008533 -0.006966  0.001366  26.689323  48040.0   \n",
       "3      1.902104  0.368096 -0.007974 -0.007656  0.001242  27.919420  48060.0   \n",
       "4      1.742487  0.391612 -0.007355 -0.008297  0.001108  28.820901  48080.0   \n",
       "...         ...       ...       ...       ...       ...        ...      ...   \n",
       "12011  2.752974 -0.124104 -0.010617  0.000657  0.000257  20.137859  62920.0   \n",
       "12012  2.758441 -0.118616 -0.010536 -0.000107  0.000291  22.598897  62940.0   \n",
       "12013  2.748854 -0.112479 -0.010402 -0.000848  0.000322  25.010115  62960.0   \n",
       "12014  2.724700 -0.105745 -0.010217 -0.001563  0.000351  27.244467  62980.0   \n",
       "12015  2.686531 -0.098466 -0.009985 -0.002249  0.000377  29.209137  63000.0   \n",
       "\n",
       "             ux        uy        uz     delta  \n",
       "0     -0.097885  0.990090  0.100704  2.809226  \n",
       "1     -0.220819  0.969791  0.103659  3.024815  \n",
       "2     -0.351587  0.930068  0.106584  3.209106  \n",
       "3     -0.483095  0.868673  0.109664  3.357012  \n",
       "4     -0.608928  0.785133  0.113019  3.465406  \n",
       "...         ...       ...       ...       ...  \n",
       "12011  0.290246  0.955578 -0.051272  2.421363  \n",
       "12012  0.218060  0.974958 -0.043679  2.717276  \n",
       "12013  0.121919  0.991834 -0.037437  3.007199  \n",
       "12014  0.009167  0.999436 -0.032318  3.275856  \n",
       "12015 -0.113759  0.993112 -0.028077  3.512087  \n",
       "\n",
       "[12016 rows x 18 columns]"
      ],
      "text/html": "<div>\n<style scoped>\n    .dataframe tbody tr th:only-of-type {\n        vertical-align: middle;\n    }\n\n    .dataframe tbody tr th {\n        vertical-align: top;\n    }\n\n    .dataframe thead th {\n        text-align: right;\n    }\n</style>\n<table border=\"1\" class=\"dataframe\">\n  <thead>\n    <tr style=\"text-align: right;\">\n      <th></th>\n      <th>AsteroidID</th>\n      <th>TimeID</th>\n      <th>tAst</th>\n      <th>qObs_x</th>\n      <th>qObs_y</th>\n      <th>qObs_z</th>\n      <th>qAst_x</th>\n      <th>qAst_y</th>\n      <th>qAst_z</th>\n      <th>vAst_x</th>\n      <th>vAst_y</th>\n      <th>vAst_z</th>\n      <th>LightTime</th>\n      <th>tObs</th>\n      <th>ux</th>\n      <th>uy</th>\n      <th>uz</th>\n      <th>delta</th>\n    </tr>\n  </thead>\n  <tbody>\n    <tr>\n      <th>0</th>\n      <td>1</td>\n      <td>69120000</td>\n      <td>48000.0</td>\n      <td>-0.880033</td>\n      <td>-0.483797</td>\n      <td>-0.000050</td>\n      <td>-1.155142</td>\n      <td>2.297488</td>\n      <td>0.282872</td>\n      <td>-0.009457</td>\n      <td>-0.005464</td>\n      <td>0.001583</td>\n      <td>23.363621</td>\n      <td>48000.0</td>\n      <td>-0.097885</td>\n      <td>0.990090</td>\n      <td>0.100704</td>\n      <td>2.809226</td>\n    </tr>\n    <tr>\n      <th>1</th>\n      <td>1</td>\n      <td>69148800</td>\n      <td>48020.0</td>\n      <td>-0.672050</td>\n      <td>-0.752861</td>\n      <td>-0.000054</td>\n      <td>-1.340115</td>\n      <td>2.180462</td>\n      <td>0.313518</td>\n      <td>-0.009028</td>\n      <td>-0.006233</td>\n      <td>0.001480</td>\n      <td>25.156619</td>\n      <td>48020.0</td>\n      <td>-0.220819</td>\n      <td>0.969791</td>\n      <td>0.103659</td>\n      <td>3.024815</td>\n    </tr>\n    <tr>\n      <th>2</th>\n      <td>1</td>\n      <td>69177600</td>\n      <td>48040.0</td>\n      <td>-0.387430</td>\n      <td>-0.936156</td>\n      <td>-0.000062</td>\n      <td>-1.515837</td>\n      <td>2.048404</td>\n      <td>0.341999</td>\n      <td>-0.008533</td>\n      <td>-0.006966</td>\n      <td>0.001366</td>\n      <td>26.689323</td>\n      <td>48040.0</td>\n      <td>-0.351587</td>\n      <td>0.930068</td>\n      <td>0.106584</td>\n      <td>3.209106</td>\n    </tr>\n    <tr>\n      <th>3</th>\n      <td>1</td>\n      <td>69206400</td>\n      <td>48060.0</td>\n      <td>-0.059127</td>\n      <td>-1.013903</td>\n      <td>-0.000068</td>\n      <td>-1.681006</td>\n      <td>1.902104</td>\n      <td>0.368096</td>\n      <td>-0.007974</td>\n      <td>-0.007656</td>\n      <td>0.001242</td>\n      <td>27.919420</td>\n      <td>48060.0</td>\n      <td>-0.483095</td>\n      <td>0.868673</td>\n      <td>0.109664</td>\n      <td>3.357012</td>\n    </tr>\n    <tr>\n      <th>4</th>\n      <td>1</td>\n      <td>69235200</td>\n      <td>48080.0</td>\n      <td>0.275907</td>\n      <td>-0.978170</td>\n      <td>-0.000064</td>\n      <td>-1.834390</td>\n      <td>1.742487</td>\n      <td>0.391612</td>\n      <td>-0.007355</td>\n      <td>-0.008297</td>\n      <td>0.001108</td>\n      <td>28.820901</td>\n      <td>48080.0</td>\n      <td>-0.608928</td>\n      <td>0.785133</td>\n      <td>0.113019</td>\n      <td>3.465406</td>\n    </tr>\n    <tr>\n      <th>...</th>\n      <td>...</td>\n      <td>...</td>\n      <td>...</td>\n      <td>...</td>\n      <td>...</td>\n      <td>...</td>\n      <td>...</td>\n      <td>...</td>\n      <td>...</td>\n      <td>...</td>\n      <td>...</td>\n      <td>...</td>\n      <td>...</td>\n      <td>...</td>\n      <td>...</td>\n      <td>...</td>\n      <td>...</td>\n      <td>...</td>\n    </tr>\n    <tr>\n      <th>12011</th>\n      <td>16</td>\n      <td>90604800</td>\n      <td>62920.0</td>\n      <td>-0.888358</td>\n      <td>0.439174</td>\n      <td>0.000041</td>\n      <td>-0.185713</td>\n      <td>2.752974</td>\n      <td>-0.124104</td>\n      <td>-0.010617</td>\n      <td>0.000657</td>\n      <td>0.000257</td>\n      <td>20.137859</td>\n      <td>62920.0</td>\n      <td>0.290246</td>\n      <td>0.955578</td>\n      <td>-0.051272</td>\n      <td>2.421363</td>\n    </tr>\n    <tr>\n      <th>12012</th>\n      <td>16</td>\n      <td>90633600</td>\n      <td>62940.0</td>\n      <td>-0.989708</td>\n      <td>0.109224</td>\n      <td>0.000069</td>\n      <td>-0.397338</td>\n      <td>2.758441</td>\n      <td>-0.118616</td>\n      <td>-0.010536</td>\n      <td>-0.000107</td>\n      <td>0.000291</td>\n      <td>22.598897</td>\n      <td>62940.0</td>\n      <td>0.218060</td>\n      <td>0.974958</td>\n      <td>-0.043679</td>\n      <td>2.717276</td>\n    </tr>\n    <tr>\n      <th>12013</th>\n      <td>16</td>\n      <td>90662400</td>\n      <td>62960.0</td>\n      <td>-0.973270</td>\n      <td>-0.233765</td>\n      <td>0.000098</td>\n      <td>-0.606806</td>\n      <td>2.748854</td>\n      <td>-0.112479</td>\n      <td>-0.010402</td>\n      <td>-0.000848</td>\n      <td>0.000322</td>\n      <td>25.010115</td>\n      <td>62960.0</td>\n      <td>0.121919</td>\n      <td>0.991834</td>\n      <td>-0.037437</td>\n      <td>3.007199</td>\n    </tr>\n    <tr>\n      <th>12014</th>\n      <td>16</td>\n      <td>90691200</td>\n      <td>62980.0</td>\n      <td>-0.842919</td>\n      <td>-0.549270</td>\n      <td>0.000119</td>\n      <td>-0.813071</td>\n      <td>2.724700</td>\n      <td>-0.105745</td>\n      <td>-0.010217</td>\n      <td>-0.001563</td>\n      <td>0.000351</td>\n      <td>27.244467</td>\n      <td>62980.0</td>\n      <td>0.009167</td>\n      <td>0.999436</td>\n      <td>-0.032318</td>\n      <td>3.275856</td>\n    </tr>\n    <tr>\n      <th>12015</th>\n      <td>16</td>\n      <td>90720000</td>\n      <td>63000.0</td>\n      <td>-0.615447</td>\n      <td>-0.801313</td>\n      <td>0.000134</td>\n      <td>-1.015164</td>\n      <td>2.686531</td>\n      <td>-0.098466</td>\n      <td>-0.009985</td>\n      <td>-0.002249</td>\n      <td>0.000377</td>\n      <td>29.209137</td>\n      <td>63000.0</td>\n      <td>-0.113759</td>\n      <td>0.993112</td>\n      <td>-0.028077</td>\n      <td>3.512087</td>\n    </tr>\n  </tbody>\n</table>\n<p>12016 rows × 18 columns</p>\n</div>"
     },
     "metadata": {},
     "execution_count": 15
    }
   ],
   "source": [
    "df_mse"
   ]
  },
  {
   "source": [
    "# Test asteroid direction with iterated splines"
   ],
   "cell_type": "markdown",
   "metadata": {}
  },
  {
   "cell_type": "code",
   "execution_count": 16,
   "metadata": {},
   "outputs": [],
   "source": [
    "# Import the JPL asteroid directions\n",
    "df = sp2df(sp_name='JPL.AstrometricDirectionTest')"
   ]
  },
  {
   "cell_type": "code",
   "execution_count": 17,
   "metadata": {},
   "outputs": [
    {
     "output_type": "execute_result",
     "data": {
      "text/plain": [
       "       AsteroidID    TimeID     tAst    qObs_x    qObs_y    qObs_z    qAst_x  \\\n",
       "0               1  69120000  48000.0 -0.880028 -0.483807 -0.000050 -1.155150   \n",
       "1               1  69127200  48005.0 -0.836785 -0.557668 -0.000054 -1.202187   \n",
       "2               1  69134400  48010.0 -0.787422 -0.627462 -0.000056 -1.248709   \n",
       "3               1  69141600  48015.0 -0.732357 -0.692671 -0.000054 -1.294694   \n",
       "4               1  69148800  48020.0 -0.672042 -0.752868 -0.000054 -1.340122   \n",
       "...           ...       ...      ...       ...       ...       ...       ...   \n",
       "48011          16  90691200  62980.0 -0.842921 -0.549267  0.000119 -0.813070   \n",
       "48012          16  90698400  62985.0 -0.794209 -0.619483  0.000126 -0.864021   \n",
       "48013          16  90705600  62990.0 -0.739772 -0.685171  0.000131 -0.914696   \n",
       "48014          16  90712800  62995.0 -0.680044 -0.745908  0.000132 -0.965081   \n",
       "48015          16  90720000  63000.0 -0.615450 -0.801311  0.000134 -1.015164   \n",
       "\n",
       "         qAst_y    qAst_z    vAst_x    vAst_y    vAst_z  LightTime     tObs  \\\n",
       "0      2.297484  0.282873 -0.009457 -0.005464  0.001583  23.363621  48000.0   \n",
       "1      2.269674  0.290725 -0.009357 -0.005659  0.001558  23.833511  48005.0   \n",
       "2      2.240893  0.298453 -0.009251 -0.005853  0.001533  24.289747  48010.0   \n",
       "3      2.211151  0.306052 -0.009142 -0.006044  0.001507  24.731042  48015.0   \n",
       "4      2.180457  0.313519 -0.009028 -0.006233  0.001480  25.156619  48020.0   \n",
       "...         ...       ...       ...       ...       ...        ...      ...   \n",
       "48011  2.724700 -0.105745 -0.010217 -0.001563  0.000351  27.244467  62980.0   \n",
       "48012  2.716450 -0.103974 -0.010163 -0.001737  0.000357  27.764006  62985.0   \n",
       "48013  2.707332 -0.102170 -0.010107 -0.001910  0.000364  28.265182  62990.0   \n",
       "48014  2.697356 -0.100334 -0.010047 -0.002080  0.000370  28.747137  62995.0   \n",
       "48015  2.686532 -0.098466 -0.009985 -0.002249  0.000377  29.209137  63000.0   \n",
       "\n",
       "             ux        uy        uz     delta  \n",
       "0     -0.097885  0.990090  0.100704  2.809226  \n",
       "1     -0.127458  0.986641  0.101460  2.865725  \n",
       "2     -0.157895  0.982153  0.102200  2.920583  \n",
       "3     -0.189059  0.976556  0.102932  2.973644  \n",
       "4     -0.220819  0.969791  0.103659  3.024815  \n",
       "...         ...       ...       ...       ...  \n",
       "48011  0.009167  0.999436 -0.032318  3.275856  \n",
       "48012 -0.020859  0.999296 -0.031185  3.338325  \n",
       "48013 -0.051416  0.998224 -0.030103  3.398587  \n",
       "48014 -0.082410  0.996174 -0.029068  3.456536  \n",
       "48015 -0.113759  0.993112 -0.028077  3.512087  \n",
       "\n",
       "[48016 rows x 18 columns]"
      ],
      "text/html": "<div>\n<style scoped>\n    .dataframe tbody tr th:only-of-type {\n        vertical-align: middle;\n    }\n\n    .dataframe tbody tr th {\n        vertical-align: top;\n    }\n\n    .dataframe thead th {\n        text-align: right;\n    }\n</style>\n<table border=\"1\" class=\"dataframe\">\n  <thead>\n    <tr style=\"text-align: right;\">\n      <th></th>\n      <th>AsteroidID</th>\n      <th>TimeID</th>\n      <th>tAst</th>\n      <th>qObs_x</th>\n      <th>qObs_y</th>\n      <th>qObs_z</th>\n      <th>qAst_x</th>\n      <th>qAst_y</th>\n      <th>qAst_z</th>\n      <th>vAst_x</th>\n      <th>vAst_y</th>\n      <th>vAst_z</th>\n      <th>LightTime</th>\n      <th>tObs</th>\n      <th>ux</th>\n      <th>uy</th>\n      <th>uz</th>\n      <th>delta</th>\n    </tr>\n  </thead>\n  <tbody>\n    <tr>\n      <th>0</th>\n      <td>1</td>\n      <td>69120000</td>\n      <td>48000.0</td>\n      <td>-0.880028</td>\n      <td>-0.483807</td>\n      <td>-0.000050</td>\n      <td>-1.155150</td>\n      <td>2.297484</td>\n      <td>0.282873</td>\n      <td>-0.009457</td>\n      <td>-0.005464</td>\n      <td>0.001583</td>\n      <td>23.363621</td>\n      <td>48000.0</td>\n      <td>-0.097885</td>\n      <td>0.990090</td>\n      <td>0.100704</td>\n      <td>2.809226</td>\n    </tr>\n    <tr>\n      <th>1</th>\n      <td>1</td>\n      <td>69127200</td>\n      <td>48005.0</td>\n      <td>-0.836785</td>\n      <td>-0.557668</td>\n      <td>-0.000054</td>\n      <td>-1.202187</td>\n      <td>2.269674</td>\n      <td>0.290725</td>\n      <td>-0.009357</td>\n      <td>-0.005659</td>\n      <td>0.001558</td>\n      <td>23.833511</td>\n      <td>48005.0</td>\n      <td>-0.127458</td>\n      <td>0.986641</td>\n      <td>0.101460</td>\n      <td>2.865725</td>\n    </tr>\n    <tr>\n      <th>2</th>\n      <td>1</td>\n      <td>69134400</td>\n      <td>48010.0</td>\n      <td>-0.787422</td>\n      <td>-0.627462</td>\n      <td>-0.000056</td>\n      <td>-1.248709</td>\n      <td>2.240893</td>\n      <td>0.298453</td>\n      <td>-0.009251</td>\n      <td>-0.005853</td>\n      <td>0.001533</td>\n      <td>24.289747</td>\n      <td>48010.0</td>\n      <td>-0.157895</td>\n      <td>0.982153</td>\n      <td>0.102200</td>\n      <td>2.920583</td>\n    </tr>\n    <tr>\n      <th>3</th>\n      <td>1</td>\n      <td>69141600</td>\n      <td>48015.0</td>\n      <td>-0.732357</td>\n      <td>-0.692671</td>\n      <td>-0.000054</td>\n      <td>-1.294694</td>\n      <td>2.211151</td>\n      <td>0.306052</td>\n      <td>-0.009142</td>\n      <td>-0.006044</td>\n      <td>0.001507</td>\n      <td>24.731042</td>\n      <td>48015.0</td>\n      <td>-0.189059</td>\n      <td>0.976556</td>\n      <td>0.102932</td>\n      <td>2.973644</td>\n    </tr>\n    <tr>\n      <th>4</th>\n      <td>1</td>\n      <td>69148800</td>\n      <td>48020.0</td>\n      <td>-0.672042</td>\n      <td>-0.752868</td>\n      <td>-0.000054</td>\n      <td>-1.340122</td>\n      <td>2.180457</td>\n      <td>0.313519</td>\n      <td>-0.009028</td>\n      <td>-0.006233</td>\n      <td>0.001480</td>\n      <td>25.156619</td>\n      <td>48020.0</td>\n      <td>-0.220819</td>\n      <td>0.969791</td>\n      <td>0.103659</td>\n      <td>3.024815</td>\n    </tr>\n    <tr>\n      <th>...</th>\n      <td>...</td>\n      <td>...</td>\n      <td>...</td>\n      <td>...</td>\n      <td>...</td>\n      <td>...</td>\n      <td>...</td>\n      <td>...</td>\n      <td>...</td>\n      <td>...</td>\n      <td>...</td>\n      <td>...</td>\n      <td>...</td>\n      <td>...</td>\n      <td>...</td>\n      <td>...</td>\n      <td>...</td>\n      <td>...</td>\n    </tr>\n    <tr>\n      <th>48011</th>\n      <td>16</td>\n      <td>90691200</td>\n      <td>62980.0</td>\n      <td>-0.842921</td>\n      <td>-0.549267</td>\n      <td>0.000119</td>\n      <td>-0.813070</td>\n      <td>2.724700</td>\n      <td>-0.105745</td>\n      <td>-0.010217</td>\n      <td>-0.001563</td>\n      <td>0.000351</td>\n      <td>27.244467</td>\n      <td>62980.0</td>\n      <td>0.009167</td>\n      <td>0.999436</td>\n      <td>-0.032318</td>\n      <td>3.275856</td>\n    </tr>\n    <tr>\n      <th>48012</th>\n      <td>16</td>\n      <td>90698400</td>\n      <td>62985.0</td>\n      <td>-0.794209</td>\n      <td>-0.619483</td>\n      <td>0.000126</td>\n      <td>-0.864021</td>\n      <td>2.716450</td>\n      <td>-0.103974</td>\n      <td>-0.010163</td>\n      <td>-0.001737</td>\n      <td>0.000357</td>\n      <td>27.764006</td>\n      <td>62985.0</td>\n      <td>-0.020859</td>\n      <td>0.999296</td>\n      <td>-0.031185</td>\n      <td>3.338325</td>\n    </tr>\n    <tr>\n      <th>48013</th>\n      <td>16</td>\n      <td>90705600</td>\n      <td>62990.0</td>\n      <td>-0.739772</td>\n      <td>-0.685171</td>\n      <td>0.000131</td>\n      <td>-0.914696</td>\n      <td>2.707332</td>\n      <td>-0.102170</td>\n      <td>-0.010107</td>\n      <td>-0.001910</td>\n      <td>0.000364</td>\n      <td>28.265182</td>\n      <td>62990.0</td>\n      <td>-0.051416</td>\n      <td>0.998224</td>\n      <td>-0.030103</td>\n      <td>3.398587</td>\n    </tr>\n    <tr>\n      <th>48014</th>\n      <td>16</td>\n      <td>90712800</td>\n      <td>62995.0</td>\n      <td>-0.680044</td>\n      <td>-0.745908</td>\n      <td>0.000132</td>\n      <td>-0.965081</td>\n      <td>2.697356</td>\n      <td>-0.100334</td>\n      <td>-0.010047</td>\n      <td>-0.002080</td>\n      <td>0.000370</td>\n      <td>28.747137</td>\n      <td>62995.0</td>\n      <td>-0.082410</td>\n      <td>0.996174</td>\n      <td>-0.029068</td>\n      <td>3.456536</td>\n    </tr>\n    <tr>\n      <th>48015</th>\n      <td>16</td>\n      <td>90720000</td>\n      <td>63000.0</td>\n      <td>-0.615450</td>\n      <td>-0.801311</td>\n      <td>0.000134</td>\n      <td>-1.015164</td>\n      <td>2.686532</td>\n      <td>-0.098466</td>\n      <td>-0.009985</td>\n      <td>-0.002249</td>\n      <td>0.000377</td>\n      <td>29.209137</td>\n      <td>63000.0</td>\n      <td>-0.113759</td>\n      <td>0.993112</td>\n      <td>-0.028077</td>\n      <td>3.512087</td>\n    </tr>\n  </tbody>\n</table>\n<p>48016 rows × 18 columns</p>\n</div>"
     },
     "metadata": {},
     "execution_count": 17
    }
   ],
   "source": [
    "# The Horizons DataFrame\n",
    "df"
   ]
  },
  {
   "cell_type": "code",
   "execution_count": 18,
   "metadata": {},
   "outputs": [],
   "source": [
    "from asteroid_direction import light_time_iter, calc_dir_spline"
   ]
  },
  {
   "cell_type": "code",
   "execution_count": 19,
   "metadata": {},
   "outputs": [],
   "source": [
    "# Extract arrays from Horizons DataFrame\n",
    "q_obs = df[cols_q_ast].values\n",
    "t_obs = df.tObs.values\n",
    "asteroid_id = df.AsteroidID.values\n",
    "light_time = df.LightTime.values\n",
    "u_jpl = df[cols_u].values"
   ]
  },
  {
   "cell_type": "code",
   "execution_count": 20,
   "metadata": {},
   "outputs": [],
   "source": [
    "# Initial light time - save a copy\n",
    "lt0 = light_time.copy()"
   ]
  },
  {
   "cell_type": "code",
   "execution_count": 21,
   "metadata": {},
   "outputs": [],
   "source": [
    "# Build asteroid position spline\n",
    "id_col = 'AsteroidID'\n",
    "time_col = 'tAst'\n",
    "spline_q_ast = make_spline_df(df=df, cols_spline=cols_q_ast, id_col=id_col, time_col=time_col)"
   ]
  },
  {
   "cell_type": "code",
   "execution_count": 25,
   "metadata": {},
   "outputs": [
    {
     "output_type": "execute_result",
     "data": {
      "text/plain": [
       "22.569418127158254"
      ]
     },
     "metadata": {},
     "execution_count": 25
    }
   ],
   "source": [
    "np.mean(np.abs(light_time - lt0))"
   ]
  },
  {
   "cell_type": "code",
   "execution_count": 24,
   "metadata": {},
   "outputs": [],
   "source": [
    "# One iteration of light time refinement\n",
    "light_time = light_time_iter(spline_q_ast=spline_q_ast, q_obs=q_obs, t_obs=t_obs, asteroid_id=asteroid_id, light_time=light_time)"
   ]
  },
  {
   "cell_type": "code",
   "execution_count": null,
   "metadata": {},
   "outputs": [],
   "source": [
    "calc_dir_spline(spline_q_ast: spline_type_ast, q_obs: np.ndarray, t_obs: np.ndarray, \n",
    "                    asteroid_id: np.ndarray, light_time: np.ndarray, iters:int=2)"
   ]
  },
  {
   "cell_type": "code",
   "execution_count": 13,
   "metadata": {},
   "outputs": [],
   "source": [
    "# Calculate the direction and light time\n",
    "df = calc_dir_ast2obs(n0=n0, n1=n1)\n",
    "# Mask down to Ceres\n",
    "mask = df.AsteroidID==1\n",
    "dfm = df[mask]\n",
    "# Take every 5th row to get data every 20 days\n",
    "dfm = dfm.iloc[::5]\n",
    "dfm.reset_index(inplace=True)"
   ]
  },
  {
   "cell_type": "code",
   "execution_count": 14,
   "metadata": {},
   "outputs": [
    {
     "output_type": "execute_result",
     "data": {
      "text/plain": [
       "     index  AsteroidID    TimeID          tAst    qAst_x    qAst_y    qAst_z  \\\n",
       "0        0           1  69120000  47999.983776 -1.155142  2.297488  0.282872   \n",
       "1        5           1  69148800  48019.982530 -1.339957  2.180571  0.313492   \n",
       "2       10           1  69177600  48039.981466 -1.515679  2.048533  0.341973   \n",
       "3       15           1  69206400  48059.980612 -1.680852  1.902253  0.368072   \n",
       "4       20           1  69235200  48079.979986 -1.834242  1.742653  0.391590   \n",
       "..     ...         ...       ...           ...       ...       ...       ...   \n",
       "746   3730           1  90604800  62919.983586  1.040245  2.523575 -0.111216   \n",
       "747   3735           1  90633600  62939.982228  0.841699  2.580912 -0.072849   \n",
       "748   3740           1  90662400  62959.981056  0.638171  2.622996 -0.034051   \n",
       "749   3745           1  90691200  62979.980116  0.430794  2.649302  0.004953   \n",
       "750   3750           1  90720000  62999.979436  0.220770  2.659388  0.043926   \n",
       "\n",
       "        tObs    qObs_x    qObs_y    qObs_z  LightTime        ux        uy  \\\n",
       "0    48000.0 -0.880033 -0.483797 -0.000050  23.362923 -0.097934  0.990084   \n",
       "1    48020.0 -0.672050 -0.752861 -0.000054  25.156518 -0.220867  0.969778   \n",
       "2    48040.0 -0.387430 -0.936156 -0.000062  26.689240 -0.351634  0.930049   \n",
       "3    48060.0 -0.059128 -1.013903 -0.000068  27.919357 -0.483140  0.868647   \n",
       "4    48080.0  0.275907 -0.978170 -0.000064  28.820858 -0.608968  0.785100   \n",
       "..       ...       ...       ...       ...        ...       ...       ...   \n",
       "746  62920.0 -0.888358  0.439174  0.000041  23.635688  0.678583  0.733480   \n",
       "747  62940.0 -0.989708  0.109224  0.000069  25.591547  0.595127  0.803283   \n",
       "748  62960.0 -0.973270 -0.233765  0.000098  27.279676  0.491230  0.870968   \n",
       "749  62980.0 -0.842919 -0.549270  0.000119  28.633330  0.369905  0.929069   \n",
       "750  63000.0 -0.615447 -0.801313  0.000134  29.612318  0.234797  0.971966   \n",
       "\n",
       "           uz  \n",
       "0    0.100715  \n",
       "1    0.103669  \n",
       "2    0.106593  \n",
       "3    0.109672  \n",
       "4    0.113026  \n",
       "..        ...  \n",
       "746 -0.039139  \n",
       "747 -0.023686  \n",
       "748 -0.010400  \n",
       "749  0.001415  \n",
       "750  0.012311  \n",
       "\n",
       "[751 rows x 15 columns]"
      ],
      "text/html": "<div>\n<style scoped>\n    .dataframe tbody tr th:only-of-type {\n        vertical-align: middle;\n    }\n\n    .dataframe tbody tr th {\n        vertical-align: top;\n    }\n\n    .dataframe thead th {\n        text-align: right;\n    }\n</style>\n<table border=\"1\" class=\"dataframe\">\n  <thead>\n    <tr style=\"text-align: right;\">\n      <th></th>\n      <th>index</th>\n      <th>AsteroidID</th>\n      <th>TimeID</th>\n      <th>tAst</th>\n      <th>qAst_x</th>\n      <th>qAst_y</th>\n      <th>qAst_z</th>\n      <th>tObs</th>\n      <th>qObs_x</th>\n      <th>qObs_y</th>\n      <th>qObs_z</th>\n      <th>LightTime</th>\n      <th>ux</th>\n      <th>uy</th>\n      <th>uz</th>\n    </tr>\n  </thead>\n  <tbody>\n    <tr>\n      <th>0</th>\n      <td>0</td>\n      <td>1</td>\n      <td>69120000</td>\n      <td>47999.983776</td>\n      <td>-1.155142</td>\n      <td>2.297488</td>\n      <td>0.282872</td>\n      <td>48000.0</td>\n      <td>-0.880033</td>\n      <td>-0.483797</td>\n      <td>-0.000050</td>\n      <td>23.362923</td>\n      <td>-0.097934</td>\n      <td>0.990084</td>\n      <td>0.100715</td>\n    </tr>\n    <tr>\n      <th>1</th>\n      <td>5</td>\n      <td>1</td>\n      <td>69148800</td>\n      <td>48019.982530</td>\n      <td>-1.339957</td>\n      <td>2.180571</td>\n      <td>0.313492</td>\n      <td>48020.0</td>\n      <td>-0.672050</td>\n      <td>-0.752861</td>\n      <td>-0.000054</td>\n      <td>25.156518</td>\n      <td>-0.220867</td>\n      <td>0.969778</td>\n      <td>0.103669</td>\n    </tr>\n    <tr>\n      <th>2</th>\n      <td>10</td>\n      <td>1</td>\n      <td>69177600</td>\n      <td>48039.981466</td>\n      <td>-1.515679</td>\n      <td>2.048533</td>\n      <td>0.341973</td>\n      <td>48040.0</td>\n      <td>-0.387430</td>\n      <td>-0.936156</td>\n      <td>-0.000062</td>\n      <td>26.689240</td>\n      <td>-0.351634</td>\n      <td>0.930049</td>\n      <td>0.106593</td>\n    </tr>\n    <tr>\n      <th>3</th>\n      <td>15</td>\n      <td>1</td>\n      <td>69206400</td>\n      <td>48059.980612</td>\n      <td>-1.680852</td>\n      <td>1.902253</td>\n      <td>0.368072</td>\n      <td>48060.0</td>\n      <td>-0.059128</td>\n      <td>-1.013903</td>\n      <td>-0.000068</td>\n      <td>27.919357</td>\n      <td>-0.483140</td>\n      <td>0.868647</td>\n      <td>0.109672</td>\n    </tr>\n    <tr>\n      <th>4</th>\n      <td>20</td>\n      <td>1</td>\n      <td>69235200</td>\n      <td>48079.979986</td>\n      <td>-1.834242</td>\n      <td>1.742653</td>\n      <td>0.391590</td>\n      <td>48080.0</td>\n      <td>0.275907</td>\n      <td>-0.978170</td>\n      <td>-0.000064</td>\n      <td>28.820858</td>\n      <td>-0.608968</td>\n      <td>0.785100</td>\n      <td>0.113026</td>\n    </tr>\n    <tr>\n      <th>...</th>\n      <td>...</td>\n      <td>...</td>\n      <td>...</td>\n      <td>...</td>\n      <td>...</td>\n      <td>...</td>\n      <td>...</td>\n      <td>...</td>\n      <td>...</td>\n      <td>...</td>\n      <td>...</td>\n      <td>...</td>\n      <td>...</td>\n      <td>...</td>\n      <td>...</td>\n    </tr>\n    <tr>\n      <th>746</th>\n      <td>3730</td>\n      <td>1</td>\n      <td>90604800</td>\n      <td>62919.983586</td>\n      <td>1.040245</td>\n      <td>2.523575</td>\n      <td>-0.111216</td>\n      <td>62920.0</td>\n      <td>-0.888358</td>\n      <td>0.439174</td>\n      <td>0.000041</td>\n      <td>23.635688</td>\n      <td>0.678583</td>\n      <td>0.733480</td>\n      <td>-0.039139</td>\n    </tr>\n    <tr>\n      <th>747</th>\n      <td>3735</td>\n      <td>1</td>\n      <td>90633600</td>\n      <td>62939.982228</td>\n      <td>0.841699</td>\n      <td>2.580912</td>\n      <td>-0.072849</td>\n      <td>62940.0</td>\n      <td>-0.989708</td>\n      <td>0.109224</td>\n      <td>0.000069</td>\n      <td>25.591547</td>\n      <td>0.595127</td>\n      <td>0.803283</td>\n      <td>-0.023686</td>\n    </tr>\n    <tr>\n      <th>748</th>\n      <td>3740</td>\n      <td>1</td>\n      <td>90662400</td>\n      <td>62959.981056</td>\n      <td>0.638171</td>\n      <td>2.622996</td>\n      <td>-0.034051</td>\n      <td>62960.0</td>\n      <td>-0.973270</td>\n      <td>-0.233765</td>\n      <td>0.000098</td>\n      <td>27.279676</td>\n      <td>0.491230</td>\n      <td>0.870968</td>\n      <td>-0.010400</td>\n    </tr>\n    <tr>\n      <th>749</th>\n      <td>3745</td>\n      <td>1</td>\n      <td>90691200</td>\n      <td>62979.980116</td>\n      <td>0.430794</td>\n      <td>2.649302</td>\n      <td>0.004953</td>\n      <td>62980.0</td>\n      <td>-0.842919</td>\n      <td>-0.549270</td>\n      <td>0.000119</td>\n      <td>28.633330</td>\n      <td>0.369905</td>\n      <td>0.929069</td>\n      <td>0.001415</td>\n    </tr>\n    <tr>\n      <th>750</th>\n      <td>3750</td>\n      <td>1</td>\n      <td>90720000</td>\n      <td>62999.979436</td>\n      <td>0.220770</td>\n      <td>2.659388</td>\n      <td>0.043926</td>\n      <td>63000.0</td>\n      <td>-0.615447</td>\n      <td>-0.801313</td>\n      <td>0.000134</td>\n      <td>29.612318</td>\n      <td>0.234797</td>\n      <td>0.971966</td>\n      <td>0.012311</td>\n    </tr>\n  </tbody>\n</table>\n<p>751 rows × 15 columns</p>\n</div>"
     },
     "metadata": {},
     "execution_count": 14
    }
   ],
   "source": [
    "# MSE data frame for asteroid directions\n",
    "dfm"
   ]
  },
  {
   "cell_type": "code",
   "execution_count": 15,
   "metadata": {},
   "outputs": [],
   "source": [
    "# Get test DataFrame from JPL\n",
    "sp_name = 'JPL.AsteroidDirectionTest'\n",
    "dfh = sp2df(sp_name=sp_name)\n",
    "\n",
    "# Take every 4th row to get data every 20 days; this matches exactly on MSE integration points\n",
    "dfh = dfh.iloc[::4]\n",
    "dfh.reset_index(inplace=True)"
   ]
  },
  {
   "cell_type": "code",
   "execution_count": 16,
   "metadata": {},
   "outputs": [
    {
     "output_type": "execute_result",
     "data": {
      "text/plain": [
       "       index  AsteroidID    TimeID          tAst    qObs_x    qObs_y  \\\n",
       "0          0           1  69120000  47999.983775 -0.880028 -0.483807   \n",
       "1          4           1  69134400  48009.983132 -0.787422 -0.627462   \n",
       "2          8           1  69148800  48019.982530 -0.672042 -0.752868   \n",
       "3         12           1  69163200  48029.981973 -0.537449 -0.856722   \n",
       "4         16           1  69177600  48039.981466 -0.387421 -0.936160   \n",
       "...      ...         ...       ...           ...       ...       ...   \n",
       "24003  96012          16  90655200  62954.983042 -0.988478 -0.149078   \n",
       "24004  96016          16  90669600  62964.982230 -0.950906 -0.316688   \n",
       "24005  96020          16  90684000  62974.981453 -0.885496 -0.475018   \n",
       "24006  96024          16  90698400  62984.980719 -0.794209 -0.619483   \n",
       "24007  96028          16  90712800  62994.980037 -0.680044 -0.745908   \n",
       "\n",
       "         qObs_z    qAst_x    qAst_y    qAst_z  ...    vAst_y    vAst_z  \\\n",
       "0     -0.000050 -1.155150  2.297484  0.282873  ... -0.005464  0.001583   \n",
       "1     -0.000056 -1.248709  2.240893  0.298453  ... -0.005853  0.001533   \n",
       "2     -0.000054 -1.340122  2.180457  0.313519  ... -0.006233  0.001480   \n",
       "3     -0.000062 -1.429222  2.116260  0.328044  ... -0.006605  0.001424   \n",
       "4     -0.000062 -1.515844  2.048398  0.342000  ... -0.006966  0.001366   \n",
       "...         ...       ...       ...       ...  ...       ...       ...   \n",
       "24003  0.000090 -0.554700  2.752636 -0.114071  ... -0.000665  0.000315   \n",
       "24004  0.000103 -0.658711  2.744160 -0.110849  ... -0.001029  0.000330   \n",
       "24005  0.000111 -0.761859  2.732075 -0.107481  ... -0.001387  0.000344   \n",
       "24006  0.000126 -0.864021  2.716450 -0.103974  ... -0.001737  0.000357   \n",
       "24007  0.000132 -0.965081  2.697356 -0.100334  ... -0.002080  0.000370   \n",
       "\n",
       "       LightTime     tObs    ux_ast    uy_ast    uz_ast    ux_app    uy_app  \\\n",
       "0      23.363621  48000.0 -0.097885  0.990090  0.100704 -0.095560  0.990312   \n",
       "1      24.289747  48010.0 -0.157895  0.982153  0.102200 -0.155585  0.982517   \n",
       "2      25.156619  48020.0 -0.220819  0.969791  0.103659 -0.218535  0.970304   \n",
       "3      25.958353  48030.0 -0.285668  0.952547  0.105113 -0.283425  0.953212   \n",
       "4      26.689323  48040.0 -0.351587  0.930068  0.106584 -0.349400  0.930888   \n",
       "...          ...      ...       ...       ...       ...       ...       ...   \n",
       "24003  24.419855  62955.0  0.147790  0.988254 -0.038882  0.140214  0.989357   \n",
       "24004  25.589057  62965.0  0.095022  0.994822 -0.036062  0.087406  0.995519   \n",
       "24005  26.707754  62975.0  0.038555  0.998695 -0.033506  0.030914  0.998960   \n",
       "24006  27.764006  62985.0 -0.020859  0.999296 -0.031185 -0.028499  0.999106   \n",
       "24007  28.747137  62995.0 -0.082410  0.996174 -0.029068 -0.090022  0.995515   \n",
       "\n",
       "         uz_app  \n",
       "0      0.100744  \n",
       "1      0.102239  \n",
       "2      0.103696  \n",
       "3      0.105149  \n",
       "4      0.106617  \n",
       "...         ...  \n",
       "24003 -0.038904  \n",
       "24004 -0.036085  \n",
       "24005 -0.033529  \n",
       "24006 -0.031210  \n",
       "24007 -0.029094  \n",
       "\n",
       "[24008 rows x 21 columns]"
      ],
      "text/html": "<div>\n<style scoped>\n    .dataframe tbody tr th:only-of-type {\n        vertical-align: middle;\n    }\n\n    .dataframe tbody tr th {\n        vertical-align: top;\n    }\n\n    .dataframe thead th {\n        text-align: right;\n    }\n</style>\n<table border=\"1\" class=\"dataframe\">\n  <thead>\n    <tr style=\"text-align: right;\">\n      <th></th>\n      <th>index</th>\n      <th>AsteroidID</th>\n      <th>TimeID</th>\n      <th>tAst</th>\n      <th>qObs_x</th>\n      <th>qObs_y</th>\n      <th>qObs_z</th>\n      <th>qAst_x</th>\n      <th>qAst_y</th>\n      <th>qAst_z</th>\n      <th>...</th>\n      <th>vAst_y</th>\n      <th>vAst_z</th>\n      <th>LightTime</th>\n      <th>tObs</th>\n      <th>ux_ast</th>\n      <th>uy_ast</th>\n      <th>uz_ast</th>\n      <th>ux_app</th>\n      <th>uy_app</th>\n      <th>uz_app</th>\n    </tr>\n  </thead>\n  <tbody>\n    <tr>\n      <th>0</th>\n      <td>0</td>\n      <td>1</td>\n      <td>69120000</td>\n      <td>47999.983775</td>\n      <td>-0.880028</td>\n      <td>-0.483807</td>\n      <td>-0.000050</td>\n      <td>-1.155150</td>\n      <td>2.297484</td>\n      <td>0.282873</td>\n      <td>...</td>\n      <td>-0.005464</td>\n      <td>0.001583</td>\n      <td>23.363621</td>\n      <td>48000.0</td>\n      <td>-0.097885</td>\n      <td>0.990090</td>\n      <td>0.100704</td>\n      <td>-0.095560</td>\n      <td>0.990312</td>\n      <td>0.100744</td>\n    </tr>\n    <tr>\n      <th>1</th>\n      <td>4</td>\n      <td>1</td>\n      <td>69134400</td>\n      <td>48009.983132</td>\n      <td>-0.787422</td>\n      <td>-0.627462</td>\n      <td>-0.000056</td>\n      <td>-1.248709</td>\n      <td>2.240893</td>\n      <td>0.298453</td>\n      <td>...</td>\n      <td>-0.005853</td>\n      <td>0.001533</td>\n      <td>24.289747</td>\n      <td>48010.0</td>\n      <td>-0.157895</td>\n      <td>0.982153</td>\n      <td>0.102200</td>\n      <td>-0.155585</td>\n      <td>0.982517</td>\n      <td>0.102239</td>\n    </tr>\n    <tr>\n      <th>2</th>\n      <td>8</td>\n      <td>1</td>\n      <td>69148800</td>\n      <td>48019.982530</td>\n      <td>-0.672042</td>\n      <td>-0.752868</td>\n      <td>-0.000054</td>\n      <td>-1.340122</td>\n      <td>2.180457</td>\n      <td>0.313519</td>\n      <td>...</td>\n      <td>-0.006233</td>\n      <td>0.001480</td>\n      <td>25.156619</td>\n      <td>48020.0</td>\n      <td>-0.220819</td>\n      <td>0.969791</td>\n      <td>0.103659</td>\n      <td>-0.218535</td>\n      <td>0.970304</td>\n      <td>0.103696</td>\n    </tr>\n    <tr>\n      <th>3</th>\n      <td>12</td>\n      <td>1</td>\n      <td>69163200</td>\n      <td>48029.981973</td>\n      <td>-0.537449</td>\n      <td>-0.856722</td>\n      <td>-0.000062</td>\n      <td>-1.429222</td>\n      <td>2.116260</td>\n      <td>0.328044</td>\n      <td>...</td>\n      <td>-0.006605</td>\n      <td>0.001424</td>\n      <td>25.958353</td>\n      <td>48030.0</td>\n      <td>-0.285668</td>\n      <td>0.952547</td>\n      <td>0.105113</td>\n      <td>-0.283425</td>\n      <td>0.953212</td>\n      <td>0.105149</td>\n    </tr>\n    <tr>\n      <th>4</th>\n      <td>16</td>\n      <td>1</td>\n      <td>69177600</td>\n      <td>48039.981466</td>\n      <td>-0.387421</td>\n      <td>-0.936160</td>\n      <td>-0.000062</td>\n      <td>-1.515844</td>\n      <td>2.048398</td>\n      <td>0.342000</td>\n      <td>...</td>\n      <td>-0.006966</td>\n      <td>0.001366</td>\n      <td>26.689323</td>\n      <td>48040.0</td>\n      <td>-0.351587</td>\n      <td>0.930068</td>\n      <td>0.106584</td>\n      <td>-0.349400</td>\n      <td>0.930888</td>\n      <td>0.106617</td>\n    </tr>\n    <tr>\n      <th>...</th>\n      <td>...</td>\n      <td>...</td>\n      <td>...</td>\n      <td>...</td>\n      <td>...</td>\n      <td>...</td>\n      <td>...</td>\n      <td>...</td>\n      <td>...</td>\n      <td>...</td>\n      <td>...</td>\n      <td>...</td>\n      <td>...</td>\n      <td>...</td>\n      <td>...</td>\n      <td>...</td>\n      <td>...</td>\n      <td>...</td>\n      <td>...</td>\n      <td>...</td>\n      <td>...</td>\n    </tr>\n    <tr>\n      <th>24003</th>\n      <td>96012</td>\n      <td>16</td>\n      <td>90655200</td>\n      <td>62954.983042</td>\n      <td>-0.988478</td>\n      <td>-0.149078</td>\n      <td>0.000090</td>\n      <td>-0.554700</td>\n      <td>2.752636</td>\n      <td>-0.114071</td>\n      <td>...</td>\n      <td>-0.000665</td>\n      <td>0.000315</td>\n      <td>24.419855</td>\n      <td>62955.0</td>\n      <td>0.147790</td>\n      <td>0.988254</td>\n      <td>-0.038882</td>\n      <td>0.140214</td>\n      <td>0.989357</td>\n      <td>-0.038904</td>\n    </tr>\n    <tr>\n      <th>24004</th>\n      <td>96016</td>\n      <td>16</td>\n      <td>90669600</td>\n      <td>62964.982230</td>\n      <td>-0.950906</td>\n      <td>-0.316688</td>\n      <td>0.000103</td>\n      <td>-0.658711</td>\n      <td>2.744160</td>\n      <td>-0.110849</td>\n      <td>...</td>\n      <td>-0.001029</td>\n      <td>0.000330</td>\n      <td>25.589057</td>\n      <td>62965.0</td>\n      <td>0.095022</td>\n      <td>0.994822</td>\n      <td>-0.036062</td>\n      <td>0.087406</td>\n      <td>0.995519</td>\n      <td>-0.036085</td>\n    </tr>\n    <tr>\n      <th>24005</th>\n      <td>96020</td>\n      <td>16</td>\n      <td>90684000</td>\n      <td>62974.981453</td>\n      <td>-0.885496</td>\n      <td>-0.475018</td>\n      <td>0.000111</td>\n      <td>-0.761859</td>\n      <td>2.732075</td>\n      <td>-0.107481</td>\n      <td>...</td>\n      <td>-0.001387</td>\n      <td>0.000344</td>\n      <td>26.707754</td>\n      <td>62975.0</td>\n      <td>0.038555</td>\n      <td>0.998695</td>\n      <td>-0.033506</td>\n      <td>0.030914</td>\n      <td>0.998960</td>\n      <td>-0.033529</td>\n    </tr>\n    <tr>\n      <th>24006</th>\n      <td>96024</td>\n      <td>16</td>\n      <td>90698400</td>\n      <td>62984.980719</td>\n      <td>-0.794209</td>\n      <td>-0.619483</td>\n      <td>0.000126</td>\n      <td>-0.864021</td>\n      <td>2.716450</td>\n      <td>-0.103974</td>\n      <td>...</td>\n      <td>-0.001737</td>\n      <td>0.000357</td>\n      <td>27.764006</td>\n      <td>62985.0</td>\n      <td>-0.020859</td>\n      <td>0.999296</td>\n      <td>-0.031185</td>\n      <td>-0.028499</td>\n      <td>0.999106</td>\n      <td>-0.031210</td>\n    </tr>\n    <tr>\n      <th>24007</th>\n      <td>96028</td>\n      <td>16</td>\n      <td>90712800</td>\n      <td>62994.980037</td>\n      <td>-0.680044</td>\n      <td>-0.745908</td>\n      <td>0.000132</td>\n      <td>-0.965081</td>\n      <td>2.697356</td>\n      <td>-0.100334</td>\n      <td>...</td>\n      <td>-0.002080</td>\n      <td>0.000370</td>\n      <td>28.747137</td>\n      <td>62995.0</td>\n      <td>-0.082410</td>\n      <td>0.996174</td>\n      <td>-0.029068</td>\n      <td>-0.090022</td>\n      <td>0.995515</td>\n      <td>-0.029094</td>\n    </tr>\n  </tbody>\n</table>\n<p>24008 rows × 21 columns</p>\n</div>"
     },
     "metadata": {},
     "execution_count": 16
    }
   ],
   "source": [
    "dfh"
   ]
  },
  {
   "cell_type": "code",
   "execution_count": null,
   "metadata": {},
   "outputs": [],
   "source": [
    "# Relevant columns for astrom"
   ]
  },
  {
   "cell_type": "code",
   "execution_count": null,
   "metadata": {},
   "outputs": [],
   "source": []
  }
 ],
 "metadata": {
  "kernelspec": {
   "display_name": "kepler",
   "language": "python",
   "name": "kepler"
  },
  "language_info": {
   "codemirror_mode": {
    "name": "ipython",
    "version": 3
   },
   "file_extension": ".py",
   "mimetype": "text/x-python",
   "name": "python",
   "nbconvert_exporter": "python",
   "pygments_lexer": "ipython3",
   "version": "3.8.5"
  }
 },
 "nbformat": 4,
 "nbformat_minor": 4
}