{
 "cells": [
  {
   "cell_type": "code",
   "execution_count": 1,
   "metadata": {},
   "outputs": [],
   "source": [
    "# Core\n",
    "import numpy as np\n",
    "import pandas as pd\n",
    "\n",
    "# Tensorflow / ML\n",
    "import tensorflow as tf\n",
    "\n",
    "# Utility\n",
    "import os\n",
    "\n",
    "# Plotting\n",
    "import matplotlib.pyplot as plt\n",
    "import matplotlib as mpl\n",
    "\n",
    "# Utility\n",
    "import time"
   ]
  },
  {
   "cell_type": "code",
   "execution_count": 2,
   "metadata": {},
   "outputs": [],
   "source": [
    "# Set visibible GPU\n",
    "gpu_num: int = 1\n",
    "os.environ['CUDA_VISIBLE_DEVICES']=f'{gpu_num}'"
   ]
  },
  {
   "cell_type": "code",
   "execution_count": 3,
   "metadata": {},
   "outputs": [
    {
     "name": "stdout",
     "output_type": "stream",
     "text": [
      "Found 0 GPUs.  Setting memory growth = True.\n"
     ]
    }
   ],
   "source": [
    "# Configure TF GPU growth\n",
    "import kepler_sieve\n",
    "from tf_utils import gpu_grow_memory, get_gpu_device\n",
    "gpu_grow_memory(verbose=True)"
   ]
  },
  {
   "cell_type": "code",
   "execution_count": 4,
   "metadata": {},
   "outputs": [],
   "source": [
    "# MSE Imports\n",
    "from asteroid_search import load_fitted_elts, load_ztf_hits, append_fitted_elt, append_ztf_hit, file_name_model\n",
    "from asteroid_element import load_ast_elt\n",
    "from candidate_element import asteroid_elts, perturb_elts, random_elts, elts_add_mixture_params, elts_add_H\n",
    "from random_elements import load_best_random_elts, make_ztf_ast\n",
    "from ztf_ast import load_ztf_nearest_ast, calc_hit_freq\n",
    "from ztf_element import load_ztf_batch, make_ztf_batch, ztf_score_by_elt, ztf_elt_summary\n",
    "from asteroid_model import AsteroidPosition, AsteroidDirection, make_model_ast_pos\n",
    "from asteroid_search_layers import CandidateElements, MixtureParameters, TrajectoryScore\n",
    "from asteroid_search_model import AsteroidSearchModel\n",
    "from asteroid_search_report import traj_diff\n",
    "from nearest_asteroid import nearest_ast_elt_cart, nearest_ast_elt_cov, elt_q_norm\n",
    "from element_eda import score_by_elt\n",
    "from asteroid_dataframe import calc_ast_data, spline_ast_vec_df\n",
    "from astro_utils import deg2dist, dist2deg, dist2sec"
   ]
  },
  {
   "cell_type": "code",
   "execution_count": 5,
   "metadata": {},
   "outputs": [],
   "source": [
    "# Aliases\n",
    "keras = tf.keras\n",
    "\n",
    "# Constants\n",
    "dtype = tf.float32\n",
    "dtype_np = np.float32\n",
    "space_dims = 3"
   ]
  },
  {
   "cell_type": "code",
   "execution_count": 6,
   "metadata": {},
   "outputs": [],
   "source": [
    "# Set plot style variables\n",
    "mpl.rcParams['figure.figsize'] = [16.0, 10.0]\n",
    "mpl.rcParams['font.size'] = 16"
   ]
  },
  {
   "cell_type": "code",
   "execution_count": 7,
   "metadata": {},
   "outputs": [],
   "source": [
    "# Load orbital elements for known asteroids\n",
    "ast_elt = load_ast_elt()\n",
    "\n",
    "# Number of asteroids\n",
    "N_ast = ast_elt.shape[0]"
   ]
  },
  {
   "cell_type": "markdown",
   "metadata": {},
   "source": [
    "## Review Fitted Elements"
   ]
  },
  {
   "cell_type": "code",
   "execution_count": 8,
   "metadata": {},
   "outputs": [],
   "source": [
    "known_ast = True"
   ]
  },
  {
   "cell_type": "code",
   "execution_count": 9,
   "metadata": {},
   "outputs": [],
   "source": [
    "fitted_elts = load_fitted_elts(known_ast=known_ast, min_hits=8)\n",
    "best_element_id = fitted_elts.element_id.iloc[0]"
   ]
  },
  {
   "cell_type": "code",
   "execution_count": 10,
   "metadata": {},
   "outputs": [
    {
     "data": {
      "text/html": [
       "<div>\n",
       "<style scoped>\n",
       "    .dataframe tbody tr th:only-of-type {\n",
       "        vertical-align: middle;\n",
       "    }\n",
       "\n",
       "    .dataframe tbody tr th {\n",
       "        vertical-align: top;\n",
       "    }\n",
       "\n",
       "    .dataframe thead th {\n",
       "        text-align: right;\n",
       "    }\n",
       "</style>\n",
       "<table border=\"1\" class=\"dataframe\">\n",
       "  <thead>\n",
       "    <tr style=\"text-align: right;\">\n",
       "      <th></th>\n",
       "      <th>element_id</th>\n",
       "      <th>a</th>\n",
       "      <th>e</th>\n",
       "      <th>inc</th>\n",
       "      <th>Omega</th>\n",
       "      <th>omega</th>\n",
       "      <th>f</th>\n",
       "      <th>epoch</th>\n",
       "      <th>num_hits</th>\n",
       "      <th>R_sec</th>\n",
       "      <th>thresh_sec</th>\n",
       "      <th>log_like</th>\n",
       "      <th>hits</th>\n",
       "      <th>num_rows_close</th>\n",
       "      <th>timestamp</th>\n",
       "    </tr>\n",
       "    <tr>\n",
       "      <th>element_id</th>\n",
       "      <th></th>\n",
       "      <th></th>\n",
       "      <th></th>\n",
       "      <th></th>\n",
       "      <th></th>\n",
       "      <th></th>\n",
       "      <th></th>\n",
       "      <th></th>\n",
       "      <th></th>\n",
       "      <th></th>\n",
       "      <th></th>\n",
       "      <th></th>\n",
       "      <th></th>\n",
       "      <th></th>\n",
       "      <th></th>\n",
       "    </tr>\n",
       "  </thead>\n",
       "  <tbody>\n",
       "    <tr>\n",
       "      <th>13172</th>\n",
       "      <td>13172</td>\n",
       "      <td>2.574177</td>\n",
       "      <td>0.177445</td>\n",
       "      <td>0.172849</td>\n",
       "      <td>2.846966</td>\n",
       "      <td>2.930934</td>\n",
       "      <td>-5.419372</td>\n",
       "      <td>58600.0</td>\n",
       "      <td>72.941956</td>\n",
       "      <td>6.534205</td>\n",
       "      <td>445.092957</td>\n",
       "      <td>474.436218</td>\n",
       "      <td>65.986427</td>\n",
       "      <td>95.0</td>\n",
       "      <td>2020-04-24 08:08:48.008207</td>\n",
       "    </tr>\n",
       "    <tr>\n",
       "      <th>57218</th>\n",
       "      <td>57218</td>\n",
       "      <td>2.896754</td>\n",
       "      <td>0.044306</td>\n",
       "      <td>0.014004</td>\n",
       "      <td>4.265533</td>\n",
       "      <td>0.151008</td>\n",
       "      <td>2.625664</td>\n",
       "      <td>58600.0</td>\n",
       "      <td>84.132111</td>\n",
       "      <td>12.023473</td>\n",
       "      <td>625.552429</td>\n",
       "      <td>391.802307</td>\n",
       "      <td>58.903355</td>\n",
       "      <td>263.0</td>\n",
       "      <td>2020-04-25 21:50:46.937329</td>\n",
       "    </tr>\n",
       "    <tr>\n",
       "      <th>52563</th>\n",
       "      <td>52563</td>\n",
       "      <td>2.687424</td>\n",
       "      <td>0.131536</td>\n",
       "      <td>0.235721</td>\n",
       "      <td>6.100040</td>\n",
       "      <td>3.748723</td>\n",
       "      <td>2.988849</td>\n",
       "      <td>58600.0</td>\n",
       "      <td>130.984573</td>\n",
       "      <td>9.423238</td>\n",
       "      <td>486.837982</td>\n",
       "      <td>812.298706</td>\n",
       "      <td>50.996090</td>\n",
       "      <td>141.0</td>\n",
       "      <td>2020-04-26 10:09:24.512576</td>\n",
       "    </tr>\n",
       "    <tr>\n",
       "      <th>4754</th>\n",
       "      <td>4754</td>\n",
       "      <td>2.313755</td>\n",
       "      <td>0.036114</td>\n",
       "      <td>0.132387</td>\n",
       "      <td>1.235678</td>\n",
       "      <td>1.532763</td>\n",
       "      <td>-1.881582</td>\n",
       "      <td>58600.0</td>\n",
       "      <td>91.929352</td>\n",
       "      <td>14.014965</td>\n",
       "      <td>934.127380</td>\n",
       "      <td>514.902466</td>\n",
       "      <td>40.964291</td>\n",
       "      <td>247.0</td>\n",
       "      <td>2020-04-24 01:53:29.452031</td>\n",
       "    </tr>\n",
       "    <tr>\n",
       "      <th>67488</th>\n",
       "      <td>67488</td>\n",
       "      <td>3.064386</td>\n",
       "      <td>0.204280</td>\n",
       "      <td>0.120861</td>\n",
       "      <td>0.672962</td>\n",
       "      <td>3.007123</td>\n",
       "      <td>-2.987987</td>\n",
       "      <td>58600.0</td>\n",
       "      <td>113.605659</td>\n",
       "      <td>67.432640</td>\n",
       "      <td>1897.126709</td>\n",
       "      <td>412.509308</td>\n",
       "      <td>32.399624</td>\n",
       "      <td>943.0</td>\n",
       "      <td>2020-04-26 05:40:37.113303</td>\n",
       "    </tr>\n",
       "    <tr>\n",
       "      <th>...</th>\n",
       "      <td>...</td>\n",
       "      <td>...</td>\n",
       "      <td>...</td>\n",
       "      <td>...</td>\n",
       "      <td>...</td>\n",
       "      <td>...</td>\n",
       "      <td>...</td>\n",
       "      <td>...</td>\n",
       "      <td>...</td>\n",
       "      <td>...</td>\n",
       "      <td>...</td>\n",
       "      <td>...</td>\n",
       "      <td>...</td>\n",
       "      <td>...</td>\n",
       "      <td>...</td>\n",
       "    </tr>\n",
       "    <tr>\n",
       "      <th>52895</th>\n",
       "      <td>52895</td>\n",
       "      <td>3.132184</td>\n",
       "      <td>0.119650</td>\n",
       "      <td>0.164686</td>\n",
       "      <td>5.829597</td>\n",
       "      <td>5.651721</td>\n",
       "      <td>2.826113</td>\n",
       "      <td>58600.0</td>\n",
       "      <td>59.932625</td>\n",
       "      <td>58.877975</td>\n",
       "      <td>1325.285645</td>\n",
       "      <td>138.092133</td>\n",
       "      <td>7.760432</td>\n",
       "      <td>524.0</td>\n",
       "      <td>2020-04-25 18:27:58.838723</td>\n",
       "    </tr>\n",
       "    <tr>\n",
       "      <th>63886</th>\n",
       "      <td>63886</td>\n",
       "      <td>2.894544</td>\n",
       "      <td>0.030639</td>\n",
       "      <td>0.042188</td>\n",
       "      <td>4.768021</td>\n",
       "      <td>2.224784</td>\n",
       "      <td>-0.188587</td>\n",
       "      <td>58600.0</td>\n",
       "      <td>62.725899</td>\n",
       "      <td>106.883820</td>\n",
       "      <td>2186.848633</td>\n",
       "      <td>70.682877</td>\n",
       "      <td>7.353265</td>\n",
       "      <td>1215.0</td>\n",
       "      <td>2020-04-26 02:56:52.339982</td>\n",
       "    </tr>\n",
       "    <tr>\n",
       "      <th>67200</th>\n",
       "      <td>67200</td>\n",
       "      <td>2.608313</td>\n",
       "      <td>0.101753</td>\n",
       "      <td>0.019899</td>\n",
       "      <td>1.924526</td>\n",
       "      <td>3.819631</td>\n",
       "      <td>1.049037</td>\n",
       "      <td>58600.0</td>\n",
       "      <td>79.663246</td>\n",
       "      <td>130.074417</td>\n",
       "      <td>2260.503906</td>\n",
       "      <td>139.011566</td>\n",
       "      <td>7.187671</td>\n",
       "      <td>1439.0</td>\n",
       "      <td>2020-04-26 05:27:25.352868</td>\n",
       "    </tr>\n",
       "    <tr>\n",
       "      <th>71832</th>\n",
       "      <td>71832</td>\n",
       "      <td>2.706510</td>\n",
       "      <td>0.163093</td>\n",
       "      <td>0.216706</td>\n",
       "      <td>6.159914</td>\n",
       "      <td>5.357913</td>\n",
       "      <td>2.504848</td>\n",
       "      <td>58600.0</td>\n",
       "      <td>106.686707</td>\n",
       "      <td>214.794724</td>\n",
       "      <td>2396.792725</td>\n",
       "      <td>88.882835</td>\n",
       "      <td>7.026172</td>\n",
       "      <td>1027.0</td>\n",
       "      <td>2020-04-26 08:57:17.745249</td>\n",
       "    </tr>\n",
       "    <tr>\n",
       "      <th>12700</th>\n",
       "      <td>12700</td>\n",
       "      <td>3.197878</td>\n",
       "      <td>0.196065</td>\n",
       "      <td>0.051565</td>\n",
       "      <td>1.780038</td>\n",
       "      <td>6.209942</td>\n",
       "      <td>-0.474734</td>\n",
       "      <td>58600.0</td>\n",
       "      <td>72.142006</td>\n",
       "      <td>165.793579</td>\n",
       "      <td>2387.025146</td>\n",
       "      <td>67.074585</td>\n",
       "      <td>7.024326</td>\n",
       "      <td>1110.0</td>\n",
       "      <td>2020-04-24 08:12:16.987068</td>\n",
       "    </tr>\n",
       "  </tbody>\n",
       "</table>\n",
       "<p>102 rows × 15 columns</p>\n",
       "</div>"
      ],
      "text/plain": [
       "            element_id         a         e       inc     Omega     omega  \\\n",
       "element_id                                                                 \n",
       "13172            13172  2.574177  0.177445  0.172849  2.846966  2.930934   \n",
       "57218            57218  2.896754  0.044306  0.014004  4.265533  0.151008   \n",
       "52563            52563  2.687424  0.131536  0.235721  6.100040  3.748723   \n",
       "4754              4754  2.313755  0.036114  0.132387  1.235678  1.532763   \n",
       "67488            67488  3.064386  0.204280  0.120861  0.672962  3.007123   \n",
       "...                ...       ...       ...       ...       ...       ...   \n",
       "52895            52895  3.132184  0.119650  0.164686  5.829597  5.651721   \n",
       "63886            63886  2.894544  0.030639  0.042188  4.768021  2.224784   \n",
       "67200            67200  2.608313  0.101753  0.019899  1.924526  3.819631   \n",
       "71832            71832  2.706510  0.163093  0.216706  6.159914  5.357913   \n",
       "12700            12700  3.197878  0.196065  0.051565  1.780038  6.209942   \n",
       "\n",
       "                   f    epoch    num_hits       R_sec   thresh_sec  \\\n",
       "element_id                                                           \n",
       "13172      -5.419372  58600.0   72.941956    6.534205   445.092957   \n",
       "57218       2.625664  58600.0   84.132111   12.023473   625.552429   \n",
       "52563       2.988849  58600.0  130.984573    9.423238   486.837982   \n",
       "4754       -1.881582  58600.0   91.929352   14.014965   934.127380   \n",
       "67488      -2.987987  58600.0  113.605659   67.432640  1897.126709   \n",
       "...              ...      ...         ...         ...          ...   \n",
       "52895       2.826113  58600.0   59.932625   58.877975  1325.285645   \n",
       "63886      -0.188587  58600.0   62.725899  106.883820  2186.848633   \n",
       "67200       1.049037  58600.0   79.663246  130.074417  2260.503906   \n",
       "71832       2.504848  58600.0  106.686707  214.794724  2396.792725   \n",
       "12700      -0.474734  58600.0   72.142006  165.793579  2387.025146   \n",
       "\n",
       "              log_like       hits  num_rows_close                  timestamp  \n",
       "element_id                                                                    \n",
       "13172       474.436218  65.986427            95.0 2020-04-24 08:08:48.008207  \n",
       "57218       391.802307  58.903355           263.0 2020-04-25 21:50:46.937329  \n",
       "52563       812.298706  50.996090           141.0 2020-04-26 10:09:24.512576  \n",
       "4754        514.902466  40.964291           247.0 2020-04-24 01:53:29.452031  \n",
       "67488       412.509308  32.399624           943.0 2020-04-26 05:40:37.113303  \n",
       "...                ...        ...             ...                        ...  \n",
       "52895       138.092133   7.760432           524.0 2020-04-25 18:27:58.838723  \n",
       "63886        70.682877   7.353265          1215.0 2020-04-26 02:56:52.339982  \n",
       "67200       139.011566   7.187671          1439.0 2020-04-26 05:27:25.352868  \n",
       "71832        88.882835   7.026172          1027.0 2020-04-26 08:57:17.745249  \n",
       "12700        67.074585   7.024326          1110.0 2020-04-24 08:12:16.987068  \n",
       "\n",
       "[102 rows x 15 columns]"
      ]
     },
     "execution_count": 10,
     "metadata": {},
     "output_type": "execute_result"
    }
   ],
   "source": [
    "fitted_elts"
   ]
  },
  {
   "cell_type": "code",
   "execution_count": 11,
   "metadata": {},
   "outputs": [
    {
     "data": {
      "text/plain": [
       "102"
      ]
     },
     "execution_count": 11,
     "metadata": {},
     "output_type": "execute_result"
    }
   ],
   "source": [
    "fitted_elts.shape[0]"
   ]
  },
  {
   "cell_type": "code",
   "execution_count": 12,
   "metadata": {},
   "outputs": [
    {
     "data": {
      "text/plain": [
       "element_id                             13172\n",
       "a                                    2.57418\n",
       "e                                   0.177445\n",
       "inc                                 0.172849\n",
       "Omega                                2.84697\n",
       "omega                                2.93093\n",
       "f                                   -5.41937\n",
       "epoch                                  58600\n",
       "num_hits                              72.942\n",
       "R_sec                                6.53421\n",
       "thresh_sec                           445.093\n",
       "log_like                             474.436\n",
       "hits                                 65.9864\n",
       "num_rows_close                            95\n",
       "timestamp         2020-04-24 08:08:48.008207\n",
       "Name: 13172, dtype: object"
      ]
     },
     "execution_count": 12,
     "metadata": {},
     "output_type": "execute_result"
    }
   ],
   "source": [
    "fitted_elts.loc[best_element_id]"
   ]
  },
  {
   "cell_type": "code",
   "execution_count": null,
   "metadata": {},
   "outputs": [],
   "source": [
    "np.mean(fitted_elts.R_sec)"
   ]
  },
  {
   "cell_type": "code",
   "execution_count": null,
   "metadata": {},
   "outputs": [],
   "source": [
    "# ast_elt.loc[best_element_id]"
   ]
  },
  {
   "cell_type": "code",
   "execution_count": null,
   "metadata": {},
   "outputs": [],
   "source": [
    "# fitted_elts.to_csv('../data/candidate_elt/fitted_elts_unknown.csv')"
   ]
  },
  {
   "cell_type": "markdown",
   "metadata": {},
   "source": [
    "## Review ZTF Hits"
   ]
  },
  {
   "cell_type": "code",
   "execution_count": null,
   "metadata": {},
   "outputs": [],
   "source": [
    "ztf_hits = load_ztf_hits(known_ast=known_ast, display=True, min_hits=3)"
   ]
  },
  {
   "cell_type": "code",
   "execution_count": null,
   "metadata": {},
   "outputs": [],
   "source": [
    "ztf_hits.loc[best_element_id]"
   ]
  },
  {
   "cell_type": "code",
   "execution_count": null,
   "metadata": {},
   "outputs": [],
   "source": [
    "cols = ['mjd', 'ra', 'dec', 'mag_app', 's_sec']\n",
    "ztf_hits[cols].loc[best_element_id]"
   ]
  },
  {
   "cell_type": "code",
   "execution_count": null,
   "metadata": {},
   "outputs": [],
   "source": [
    "np.mean(ztf_hits.s_sec.loc[best_element_id])"
   ]
  },
  {
   "cell_type": "code",
   "execution_count": null,
   "metadata": {},
   "outputs": [],
   "source": [
    "ztf_id_close = ztf_hits.ztf_id.loc[best_element_id]"
   ]
  },
  {
   "cell_type": "code",
   "execution_count": null,
   "metadata": {},
   "outputs": [],
   "source": [
    "# ztf_hits.to_csv('../data/candidate_elt/ztf_hits_known.csv')"
   ]
  },
  {
   "cell_type": "markdown",
   "metadata": {},
   "source": [
    "## Load ZTF Data and Batch of Orbital Elements"
   ]
  },
  {
   "cell_type": "code",
   "execution_count": null,
   "metadata": {},
   "outputs": [],
   "source": [
    "# Parameters to build random orbital elements and ztf_ast\n",
    "batch_size_init = 1024\n",
    "batch_size = 64\n",
    "random_seed = best_element_id // batch_size\n",
    "thresh_deg = 2.0"
   ]
  },
  {
   "cell_type": "code",
   "execution_count": null,
   "metadata": {},
   "outputs": [],
   "source": [
    "# Load ztf nearest asteroid data\n",
    "ztf_ast = make_ztf_ast(known_ast=known_ast)"
   ]
  },
  {
   "cell_type": "code",
   "execution_count": null,
   "metadata": {},
   "outputs": [],
   "source": [
    "# # Review ztf_ast\n",
    "# ztf_ast"
   ]
  },
  {
   "cell_type": "code",
   "execution_count": null,
   "metadata": {},
   "outputs": [],
   "source": [
    "# Best random elements\n",
    "elts = load_best_random_elts(random_seed=random_seed, known_ast=known_ast, \n",
    "                             batch_size_init=batch_size_init, batch_size=batch_size, thresh_deg=thresh_deg)"
   ]
  },
  {
   "cell_type": "code",
   "execution_count": null,
   "metadata": {},
   "outputs": [],
   "source": [
    "# # Review best random elements\n",
    "# elts"
   ]
  },
  {
   "cell_type": "code",
   "execution_count": null,
   "metadata": {},
   "outputs": [],
   "source": [
    "ztf_ast.loc[ztf_id_close]"
   ]
  },
  {
   "cell_type": "code",
   "execution_count": null,
   "metadata": {},
   "outputs": [],
   "source": [
    "close_ast_num = ztf_ast.nearest_ast_num.loc[ztf_id_close].mode().values[0]\n",
    "close_ast_num"
   ]
  },
  {
   "cell_type": "code",
   "execution_count": null,
   "metadata": {},
   "outputs": [],
   "source": [
    "nearest_ast_dist = ztf_ast.nearest_ast_dist.loc[ztf_id_close]"
   ]
  },
  {
   "cell_type": "code",
   "execution_count": null,
   "metadata": {},
   "outputs": [],
   "source": [
    "dist2sec(nearest_ast_dist)"
   ]
  },
  {
   "cell_type": "markdown",
   "metadata": {},
   "source": [
    "## Batches of ZTF Data Near Initial Candidate Elements"
   ]
  },
  {
   "cell_type": "code",
   "execution_count": null,
   "metadata": {},
   "outputs": [],
   "source": [
    "# Arguments to make_ztf_batch\n",
    "near_ast = False\n",
    "regenerate = False"
   ]
  },
  {
   "cell_type": "code",
   "execution_count": null,
   "metadata": {},
   "outputs": [],
   "source": [
    "# Load perturbed element batch\n",
    "ztf_elt = load_ztf_batch(elts=elts, ztf=ztf_ast, thresh_deg=thresh_deg, near_ast=near_ast, regenerate=regenerate)"
   ]
  },
  {
   "cell_type": "code",
   "execution_count": null,
   "metadata": {},
   "outputs": [],
   "source": [
    "# # Review ZTF elements\n",
    "# ztf_elt"
   ]
  },
  {
   "cell_type": "code",
   "execution_count": null,
   "metadata": {},
   "outputs": [],
   "source": [
    "# Mixture parameters\n",
    "num_hits: int = 10\n",
    "R_deg: float = 0.5"
   ]
  },
  {
   "cell_type": "code",
   "execution_count": null,
   "metadata": {},
   "outputs": [],
   "source": [
    "# Add mixture parameters to candidate elements\n",
    "elts_add_mixture_params(elts=elts, num_hits=num_hits, R_deg=R_deg, thresh_deg=thresh_deg)"
   ]
  },
  {
   "cell_type": "code",
   "execution_count": null,
   "metadata": {},
   "outputs": [],
   "source": [
    "# Add brightness parameter H\n",
    "elts_add_H(elts=elts)"
   ]
  },
  {
   "cell_type": "code",
   "execution_count": null,
   "metadata": {},
   "outputs": [],
   "source": [
    "# # Review perturbed elements; includes nearest asteroid number and distance\n",
    "# elts"
   ]
  },
  {
   "cell_type": "markdown",
   "metadata": {},
   "source": [
    "## Build Asteroid Search Model"
   ]
  },
  {
   "cell_type": "code",
   "execution_count": null,
   "metadata": {},
   "outputs": [],
   "source": [
    "# Observatory for ZTF data is Palomar Mountain\n",
    "site_name = 'palomar'"
   ]
  },
  {
   "cell_type": "code",
   "execution_count": null,
   "metadata": {},
   "outputs": [],
   "source": [
    "# Training parameters\n",
    "learning_rate = 2.0**-12\n",
    "clipnorm = 1.0"
   ]
  },
  {
   "cell_type": "code",
   "execution_count": null,
   "metadata": {},
   "outputs": [],
   "source": [
    "# The file name for the saved model\n",
    "file_name = file_name_model(seed=random_seed, known_ast=known_ast, \n",
    "                            batch_size_init=batch_size_init, batch_size=batch_size, thresh_deg=thresh_deg)"
   ]
  },
  {
   "cell_type": "code",
   "execution_count": null,
   "metadata": {},
   "outputs": [],
   "source": [
    "# Build asteroid search model\n",
    "model = AsteroidSearchModel(\n",
    "                elts=elts, ztf_elt=ztf_elt, \n",
    "                site_name=site_name, thresh_deg=thresh_deg, \n",
    "                learning_rate=learning_rate, clipnorm=clipnorm,\n",
    "                name='model',\n",
    "                file_name=file_name,\n",
    ")"
   ]
  },
  {
   "cell_type": "code",
   "execution_count": null,
   "metadata": {},
   "outputs": [],
   "source": [
    "# Load trained model\n",
    "model.load()"
   ]
  },
  {
   "cell_type": "code",
   "execution_count": null,
   "metadata": {},
   "outputs": [],
   "source": [
    "# Report before training starts\n",
    "model.report()"
   ]
  },
  {
   "cell_type": "code",
   "execution_count": null,
   "metadata": {},
   "outputs": [],
   "source": [
    "# Generate fitted elements\n",
    "elts_fit = model.candidates_df()"
   ]
  },
  {
   "cell_type": "code",
   "execution_count": null,
   "metadata": {},
   "outputs": [],
   "source": [
    "cols = ['element_id', 'a', 'e', 'inc', 'Omega', 'omega', 'f', 'epoch',\n",
    "        'num_hits', 'R', 'R_deg', 'R_sec', 'R_max', 'R_deg_max', 'thresh_s',\n",
    "        'thresh_deg', 'thresh_sec', 'log_like', 'hits', 'num_rows_close']"
   ]
  },
  {
   "cell_type": "code",
   "execution_count": null,
   "metadata": {},
   "outputs": [],
   "source": [
    "elts_fit[cols]"
   ]
  },
  {
   "cell_type": "code",
   "execution_count": null,
   "metadata": {},
   "outputs": [],
   "source": [
    "# Save ztf_hits to ztf_hits_known_ast or ztf_unknown_ast"
   ]
  },
  {
   "cell_type": "code",
   "execution_count": null,
   "metadata": {},
   "outputs": [],
   "source": [
    "# Generate ZTF hits\n",
    "ztf_hit = model.calc_ztf_hits()"
   ]
  },
  {
   "cell_type": "code",
   "execution_count": null,
   "metadata": {},
   "outputs": [],
   "source": [
    "# ztf_hit"
   ]
  },
  {
   "cell_type": "code",
   "execution_count": null,
   "metadata": {},
   "outputs": [],
   "source": [
    "elts_fit, elts_near_ast = model.nearest_ast()"
   ]
  },
  {
   "cell_type": "code",
   "execution_count": null,
   "metadata": {},
   "outputs": [],
   "source": [
    "# Review asteroids nearest to the fitted elements\n",
    "cols = ['element_id', 'log_like', 'hits', 'R_sec', 'thresh_sec', 'nearest_ast_num', 'nearest_ast_dist', 'nearest_ast_q_norm']\n",
    "\n",
    "# Summary\n",
    "has_hits = (model.elts_fit.hits >= 5)\n",
    "is_converged = has_hits\n",
    "num_converged = np.sum(is_converged)\n",
    "\n",
    "# Mean on converged\n",
    "mean_hits = np.mean(model.elts_fit.hits[is_converged])\n",
    "mean_R_sec = np.mean(model.elts_fit.R_sec[is_converged])\n",
    "err_cart_mean = np.mean(model.elts_near_ast.nearest_ast_dist[is_converged])\n",
    "err_cart_geo = np.exp(np.mean(np.log(model.elts_near_ast.nearest_ast_dist[is_converged])))\n",
    "err_cov_mean = np.exp(np.mean(np.log(model.elts_near_ast.nearest_ast_q_norm[is_converged])))\n",
    "\n",
    "# Report\n",
    "print(f'Good convergence on {num_converged} asteroids.')\n",
    "print(f'Mean on converged asteroids:')\n",
    "print(f'Number of hits         : {mean_hits:5.2f}')\n",
    "print(f'Resolution in arc sec  : {mean_R_sec:5.2f}')\n",
    "print(f'GeoMean Distance in AU : {err_cart_geo:5.2e}')\n",
    "print(f'Covariance norm        : {err_cov_mean:5.2e}')"
   ]
  },
  {
   "cell_type": "code",
   "execution_count": null,
   "metadata": {},
   "outputs": [],
   "source": [
    "# Review good matches\n",
    "model.elts_fit[cols][is_converged].sort_values(by=['hits', 'R_sec'], ascending=[False, True])"
   ]
  },
  {
   "cell_type": "code",
   "execution_count": null,
   "metadata": {},
   "outputs": [],
   "source": []
  }
 ],
 "metadata": {
  "kernelspec": {
   "display_name": "Python [conda env:kepler]",
   "language": "python",
   "name": "conda-env-kepler-py"
  },
  "language_info": {
   "codemirror_mode": {
    "name": "ipython",
    "version": 3
   },
   "file_extension": ".py",
   "mimetype": "text/x-python",
   "name": "python",
   "nbconvert_exporter": "python",
   "pygments_lexer": "ipython3",
   "version": "3.7.6"
  }
 },
 "nbformat": 4,
 "nbformat_minor": 4
}
