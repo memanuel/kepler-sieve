{
 "cells": [
  {
   "cell_type": "code",
   "execution_count": 1,
   "metadata": {},
   "outputs": [],
   "source": [
    "# Core\n",
    "import numpy as np\n",
    "import pandas as pd\n",
    "\n",
    "# Tensorflow / ML\n",
    "import tensorflow as tf\n",
    "\n",
    "# Utility\n",
    "import os\n",
    "\n",
    "# Plotting\n",
    "import matplotlib.pyplot as plt\n",
    "import matplotlib as mpl\n",
    "\n",
    "# Utility\n",
    "import time"
   ]
  },
  {
   "cell_type": "code",
   "execution_count": 2,
   "metadata": {},
   "outputs": [],
   "source": [
    "# Set visibible GPU\n",
    "gpu_num: int = 0\n",
    "os.environ['CUDA_VISIBLE_DEVICES']=f'{gpu_num}'"
   ]
  },
  {
   "cell_type": "code",
   "execution_count": 3,
   "metadata": {},
   "outputs": [
    {
     "name": "stdout",
     "output_type": "stream",
     "text": [
      "Found 1 GPUs.  Setting memory growth = True.\n"
     ]
    }
   ],
   "source": [
    "# Configure TF GPU growth\n",
    "import kepler_sieve\n",
    "from tf_utils import gpu_grow_memory, get_gpu_device\n",
    "gpu_grow_memory(verbose=True)"
   ]
  },
  {
   "cell_type": "code",
   "execution_count": 4,
   "metadata": {},
   "outputs": [],
   "source": [
    "# MSE Imports\n",
    "from asteroid_search import load_fitted_elts, load_ztf_hits, append_fitted_elt, append_ztf_hit, file_name_model\n",
    "from asteroid_element import load_ast_elt\n",
    "from candidate_element import asteroid_elts, perturb_elts, random_elts, elts_add_mixture_params, elts_add_H\n",
    "from random_elements import load_best_random_elts, make_ztf_ast\n",
    "from ztf_ast import load_ztf_nearest_ast, calc_hit_freq\n",
    "from ztf_element import load_ztf_batch, make_ztf_batch, ztf_score_by_elt, ztf_elt_summary\n",
    "from asteroid_model import AsteroidPosition, AsteroidDirection, make_model_ast_pos\n",
    "from asteroid_search_layers import CandidateElements, MixtureParameters, TrajectoryScore\n",
    "from asteroid_search_model import AsteroidSearchModel\n",
    "from asteroid_search_report import traj_diff\n",
    "from nearest_asteroid import nearest_ast_elt_cart, nearest_ast_elt_cov, elt_q_norm\n",
    "from element_eda import score_by_elt\n",
    "from asteroid_dataframe import calc_ast_data, spline_ast_vec_df\n",
    "from astro_utils import deg2dist, dist2deg, dist2sec"
   ]
  },
  {
   "cell_type": "code",
   "execution_count": 5,
   "metadata": {},
   "outputs": [],
   "source": [
    "# Aliases\n",
    "keras = tf.keras\n",
    "\n",
    "# Constants\n",
    "dtype = tf.float32\n",
    "dtype_np = np.float32\n",
    "space_dims = 3"
   ]
  },
  {
   "cell_type": "code",
   "execution_count": 6,
   "metadata": {},
   "outputs": [],
   "source": [
    "# Set plot style variables\n",
    "mpl.rcParams['figure.figsize'] = [16.0, 10.0]\n",
    "mpl.rcParams['font.size'] = 16"
   ]
  },
  {
   "cell_type": "code",
   "execution_count": 7,
   "metadata": {},
   "outputs": [],
   "source": [
    "# Load orbital elements for known asteroids\n",
    "ast_elt = load_ast_elt()\n",
    "\n",
    "# Number of asteroids\n",
    "N_ast = ast_elt.shape[0]"
   ]
  },
  {
   "cell_type": "markdown",
   "metadata": {},
   "source": [
    "## Review Fitted Elements"
   ]
  },
  {
   "cell_type": "code",
   "execution_count": 56,
   "metadata": {},
   "outputs": [],
   "source": [
    "known_ast = True\n",
    "min_hits = 8\n",
    "max_res: float = 20.0"
   ]
  },
  {
   "cell_type": "code",
   "execution_count": 57,
   "metadata": {},
   "outputs": [],
   "source": [
    "fitted_elts = load_fitted_elts(known_ast=known_ast, min_hits=min_hits)\n",
    "best_element_id = fitted_elts.element_id.iloc[0]"
   ]
  },
  {
   "cell_type": "code",
   "execution_count": 59,
   "metadata": {},
   "outputs": [],
   "source": [
    "is_good = fitted_elts.R_sec < max_res\n",
    "good_elts = fitted_elts[is_good]"
   ]
  },
  {
   "cell_type": "code",
   "execution_count": 60,
   "metadata": {},
   "outputs": [
    {
     "data": {
      "text/html": [
       "<div>\n",
       "<style scoped>\n",
       "    .dataframe tbody tr th:only-of-type {\n",
       "        vertical-align: middle;\n",
       "    }\n",
       "\n",
       "    .dataframe tbody tr th {\n",
       "        vertical-align: top;\n",
       "    }\n",
       "\n",
       "    .dataframe thead th {\n",
       "        text-align: right;\n",
       "    }\n",
       "</style>\n",
       "<table border=\"1\" class=\"dataframe\">\n",
       "  <thead>\n",
       "    <tr style=\"text-align: right;\">\n",
       "      <th></th>\n",
       "      <th>element_id</th>\n",
       "      <th>a</th>\n",
       "      <th>e</th>\n",
       "      <th>inc</th>\n",
       "      <th>Omega</th>\n",
       "      <th>omega</th>\n",
       "      <th>f</th>\n",
       "      <th>epoch</th>\n",
       "      <th>num_hits</th>\n",
       "      <th>R_sec</th>\n",
       "      <th>thresh_sec</th>\n",
       "      <th>log_like</th>\n",
       "      <th>hits</th>\n",
       "      <th>num_rows_close</th>\n",
       "      <th>timestamp</th>\n",
       "    </tr>\n",
       "    <tr>\n",
       "      <th>element_id</th>\n",
       "      <th></th>\n",
       "      <th></th>\n",
       "      <th></th>\n",
       "      <th></th>\n",
       "      <th></th>\n",
       "      <th></th>\n",
       "      <th></th>\n",
       "      <th></th>\n",
       "      <th></th>\n",
       "      <th></th>\n",
       "      <th></th>\n",
       "      <th></th>\n",
       "      <th></th>\n",
       "      <th></th>\n",
       "      <th></th>\n",
       "    </tr>\n",
       "  </thead>\n",
       "  <tbody>\n",
       "    <tr>\n",
       "      <th>132055</th>\n",
       "      <td>132055</td>\n",
       "      <td>3.001259</td>\n",
       "      <td>0.106583</td>\n",
       "      <td>0.176153</td>\n",
       "      <td>5.593913</td>\n",
       "      <td>0.756441</td>\n",
       "      <td>-0.352044</td>\n",
       "      <td>58600.0</td>\n",
       "      <td>121.977325</td>\n",
       "      <td>9.303388</td>\n",
       "      <td>619.304016</td>\n",
       "      <td>835.913879</td>\n",
       "      <td>121.978065</td>\n",
       "      <td>169.0</td>\n",
       "      <td>2020-04-29 15:01:48.732245</td>\n",
       "    </tr>\n",
       "    <tr>\n",
       "      <th>146842</th>\n",
       "      <td>146842</td>\n",
       "      <td>3.014638</td>\n",
       "      <td>0.103410</td>\n",
       "      <td>0.226416</td>\n",
       "      <td>0.944375</td>\n",
       "      <td>2.602004</td>\n",
       "      <td>-2.829622</td>\n",
       "      <td>58600.0</td>\n",
       "      <td>94.908264</td>\n",
       "      <td>9.994537</td>\n",
       "      <td>429.287781</td>\n",
       "      <td>523.118469</td>\n",
       "      <td>72.948471</td>\n",
       "      <td>142.0</td>\n",
       "      <td>2020-04-30 03:34:01.879423</td>\n",
       "    </tr>\n",
       "    <tr>\n",
       "      <th>13172</th>\n",
       "      <td>13172</td>\n",
       "      <td>2.574177</td>\n",
       "      <td>0.177445</td>\n",
       "      <td>0.172849</td>\n",
       "      <td>2.846966</td>\n",
       "      <td>2.930934</td>\n",
       "      <td>-5.419372</td>\n",
       "      <td>58600.0</td>\n",
       "      <td>72.941956</td>\n",
       "      <td>6.534205</td>\n",
       "      <td>445.092957</td>\n",
       "      <td>474.436218</td>\n",
       "      <td>65.986427</td>\n",
       "      <td>95.0</td>\n",
       "      <td>2020-04-24 08:08:48.008207</td>\n",
       "    </tr>\n",
       "    <tr>\n",
       "      <th>167580</th>\n",
       "      <td>167580</td>\n",
       "      <td>3.197130</td>\n",
       "      <td>0.166593</td>\n",
       "      <td>0.129728</td>\n",
       "      <td>0.458809</td>\n",
       "      <td>0.868540</td>\n",
       "      <td>-1.704000</td>\n",
       "      <td>58600.0</td>\n",
       "      <td>66.167297</td>\n",
       "      <td>17.522427</td>\n",
       "      <td>842.223572</td>\n",
       "      <td>335.577515</td>\n",
       "      <td>65.877655</td>\n",
       "      <td>204.0</td>\n",
       "      <td>2020-04-30 19:01:37.113547</td>\n",
       "    </tr>\n",
       "    <tr>\n",
       "      <th>57218</th>\n",
       "      <td>57218</td>\n",
       "      <td>2.896754</td>\n",
       "      <td>0.044306</td>\n",
       "      <td>0.014004</td>\n",
       "      <td>4.265533</td>\n",
       "      <td>0.151008</td>\n",
       "      <td>2.625664</td>\n",
       "      <td>58600.0</td>\n",
       "      <td>84.132111</td>\n",
       "      <td>12.023473</td>\n",
       "      <td>625.552429</td>\n",
       "      <td>391.802307</td>\n",
       "      <td>58.903355</td>\n",
       "      <td>263.0</td>\n",
       "      <td>2020-04-25 21:50:46.937329</td>\n",
       "    </tr>\n",
       "    <tr>\n",
       "      <th>...</th>\n",
       "      <td>...</td>\n",
       "      <td>...</td>\n",
       "      <td>...</td>\n",
       "      <td>...</td>\n",
       "      <td>...</td>\n",
       "      <td>...</td>\n",
       "      <td>...</td>\n",
       "      <td>...</td>\n",
       "      <td>...</td>\n",
       "      <td>...</td>\n",
       "      <td>...</td>\n",
       "      <td>...</td>\n",
       "      <td>...</td>\n",
       "      <td>...</td>\n",
       "      <td>...</td>\n",
       "    </tr>\n",
       "    <tr>\n",
       "      <th>103865</th>\n",
       "      <td>103865</td>\n",
       "      <td>2.751578</td>\n",
       "      <td>0.129661</td>\n",
       "      <td>0.187366</td>\n",
       "      <td>3.997306</td>\n",
       "      <td>3.907498</td>\n",
       "      <td>4.668955</td>\n",
       "      <td>58600.0</td>\n",
       "      <td>11.814208</td>\n",
       "      <td>12.141571</td>\n",
       "      <td>960.405579</td>\n",
       "      <td>41.130836</td>\n",
       "      <td>7.939591</td>\n",
       "      <td>241.0</td>\n",
       "      <td>2020-04-27 12:46:05.975632</td>\n",
       "    </tr>\n",
       "    <tr>\n",
       "      <th>6741</th>\n",
       "      <td>6741</td>\n",
       "      <td>2.648119</td>\n",
       "      <td>0.111147</td>\n",
       "      <td>0.149182</td>\n",
       "      <td>0.990966</td>\n",
       "      <td>3.100657</td>\n",
       "      <td>-3.746168</td>\n",
       "      <td>58600.0</td>\n",
       "      <td>13.441545</td>\n",
       "      <td>12.266848</td>\n",
       "      <td>801.999573</td>\n",
       "      <td>46.874134</td>\n",
       "      <td>7.938081</td>\n",
       "      <td>213.0</td>\n",
       "      <td>2020-04-24 03:10:43.553064</td>\n",
       "    </tr>\n",
       "    <tr>\n",
       "      <th>101616</th>\n",
       "      <td>101616</td>\n",
       "      <td>2.269106</td>\n",
       "      <td>0.157780</td>\n",
       "      <td>0.098134</td>\n",
       "      <td>1.597945</td>\n",
       "      <td>3.080391</td>\n",
       "      <td>-4.575845</td>\n",
       "      <td>58600.0</td>\n",
       "      <td>18.399300</td>\n",
       "      <td>18.559063</td>\n",
       "      <td>1284.034790</td>\n",
       "      <td>61.150887</td>\n",
       "      <td>7.930385</td>\n",
       "      <td>393.0</td>\n",
       "      <td>2020-04-28 02:37:05.823431</td>\n",
       "    </tr>\n",
       "    <tr>\n",
       "      <th>122026</th>\n",
       "      <td>122026</td>\n",
       "      <td>2.325366</td>\n",
       "      <td>0.025997</td>\n",
       "      <td>0.046233</td>\n",
       "      <td>2.160375</td>\n",
       "      <td>4.807761</td>\n",
       "      <td>-0.551528</td>\n",
       "      <td>58600.0</td>\n",
       "      <td>10.880052</td>\n",
       "      <td>15.062071</td>\n",
       "      <td>1369.732056</td>\n",
       "      <td>38.839676</td>\n",
       "      <td>7.923166</td>\n",
       "      <td>413.0</td>\n",
       "      <td>2020-04-28 21:38:54.232373</td>\n",
       "    </tr>\n",
       "    <tr>\n",
       "      <th>82594</th>\n",
       "      <td>82594</td>\n",
       "      <td>2.245787</td>\n",
       "      <td>0.105493</td>\n",
       "      <td>0.050490</td>\n",
       "      <td>4.784264</td>\n",
       "      <td>1.355380</td>\n",
       "      <td>0.968938</td>\n",
       "      <td>58600.0</td>\n",
       "      <td>7.897214</td>\n",
       "      <td>15.986311</td>\n",
       "      <td>1305.272095</td>\n",
       "      <td>27.618591</td>\n",
       "      <td>7.906749</td>\n",
       "      <td>305.0</td>\n",
       "      <td>2020-04-26 19:41:57.341557</td>\n",
       "    </tr>\n",
       "  </tbody>\n",
       "</table>\n",
       "<p>125 rows × 15 columns</p>\n",
       "</div>"
      ],
      "text/plain": [
       "            element_id         a         e       inc     Omega     omega  \\\n",
       "element_id                                                                 \n",
       "132055          132055  3.001259  0.106583  0.176153  5.593913  0.756441   \n",
       "146842          146842  3.014638  0.103410  0.226416  0.944375  2.602004   \n",
       "13172            13172  2.574177  0.177445  0.172849  2.846966  2.930934   \n",
       "167580          167580  3.197130  0.166593  0.129728  0.458809  0.868540   \n",
       "57218            57218  2.896754  0.044306  0.014004  4.265533  0.151008   \n",
       "...                ...       ...       ...       ...       ...       ...   \n",
       "103865          103865  2.751578  0.129661  0.187366  3.997306  3.907498   \n",
       "6741              6741  2.648119  0.111147  0.149182  0.990966  3.100657   \n",
       "101616          101616  2.269106  0.157780  0.098134  1.597945  3.080391   \n",
       "122026          122026  2.325366  0.025997  0.046233  2.160375  4.807761   \n",
       "82594            82594  2.245787  0.105493  0.050490  4.784264  1.355380   \n",
       "\n",
       "                   f    epoch    num_hits      R_sec   thresh_sec    log_like  \\\n",
       "element_id                                                                      \n",
       "132055     -0.352044  58600.0  121.977325   9.303388   619.304016  835.913879   \n",
       "146842     -2.829622  58600.0   94.908264   9.994537   429.287781  523.118469   \n",
       "13172      -5.419372  58600.0   72.941956   6.534205   445.092957  474.436218   \n",
       "167580     -1.704000  58600.0   66.167297  17.522427   842.223572  335.577515   \n",
       "57218       2.625664  58600.0   84.132111  12.023473   625.552429  391.802307   \n",
       "...              ...      ...         ...        ...          ...         ...   \n",
       "103865      4.668955  58600.0   11.814208  12.141571   960.405579   41.130836   \n",
       "6741       -3.746168  58600.0   13.441545  12.266848   801.999573   46.874134   \n",
       "101616     -4.575845  58600.0   18.399300  18.559063  1284.034790   61.150887   \n",
       "122026     -0.551528  58600.0   10.880052  15.062071  1369.732056   38.839676   \n",
       "82594       0.968938  58600.0    7.897214  15.986311  1305.272095   27.618591   \n",
       "\n",
       "                  hits  num_rows_close                  timestamp  \n",
       "element_id                                                         \n",
       "132055      121.978065           169.0 2020-04-29 15:01:48.732245  \n",
       "146842       72.948471           142.0 2020-04-30 03:34:01.879423  \n",
       "13172        65.986427            95.0 2020-04-24 08:08:48.008207  \n",
       "167580       65.877655           204.0 2020-04-30 19:01:37.113547  \n",
       "57218        58.903355           263.0 2020-04-25 21:50:46.937329  \n",
       "...                ...             ...                        ...  \n",
       "103865        7.939591           241.0 2020-04-27 12:46:05.975632  \n",
       "6741          7.938081           213.0 2020-04-24 03:10:43.553064  \n",
       "101616        7.930385           393.0 2020-04-28 02:37:05.823431  \n",
       "122026        7.923166           413.0 2020-04-28 21:38:54.232373  \n",
       "82594         7.906749           305.0 2020-04-26 19:41:57.341557  \n",
       "\n",
       "[125 rows x 15 columns]"
      ]
     },
     "execution_count": 60,
     "metadata": {},
     "output_type": "execute_result"
    }
   ],
   "source": [
    "good_elts"
   ]
  },
  {
   "cell_type": "code",
   "execution_count": 61,
   "metadata": {},
   "outputs": [],
   "source": [
    "# plt.hist(fitted_elts.R_sec)"
   ]
  },
  {
   "cell_type": "code",
   "execution_count": 63,
   "metadata": {},
   "outputs": [
    {
     "name": "stdout",
     "output_type": "stream",
     "text": [
      "found 125 good elements with at least 8 hits and R_sec < 20.0 arc seconds.\n"
     ]
    }
   ],
   "source": [
    "num_elts: int = good_elts.shape[0]\n",
    "print(f'found {num_elts} good elements with at least {min_hits} hits and R_sec < {max_res} arc seconds.')"
   ]
  },
  {
   "cell_type": "code",
   "execution_count": 64,
   "metadata": {},
   "outputs": [],
   "source": [
    "# fitted_elts.loc[best_element_id]"
   ]
  },
  {
   "cell_type": "code",
   "execution_count": 67,
   "metadata": {},
   "outputs": [],
   "source": [
    "# mean resolution\n",
    "R_mean = np.mean(good_elts.R_sec)\n",
    "R_geomean = np.exp(np.mean(np.log(good_elts.R_sec)))"
   ]
  },
  {
   "cell_type": "code",
   "execution_count": 68,
   "metadata": {},
   "outputs": [
    {
     "name": "stdout",
     "output_type": "stream",
     "text": [
      "Mean resolution   :  13.44 arc sec\n",
      "GeoMean resolution:  12.77 arc sec\n"
     ]
    }
   ],
   "source": [
    "# report resolution\n",
    "print(f'Mean resolution   : {R_mean:6.2f} arc sec')\n",
    "print(f'GeoMean resolution: {R_geomean:6.2f} arc sec')"
   ]
  },
  {
   "cell_type": "code",
   "execution_count": 69,
   "metadata": {},
   "outputs": [],
   "source": [
    "# ast_elt.loc[best_element_id]"
   ]
  },
  {
   "cell_type": "code",
   "execution_count": 70,
   "metadata": {},
   "outputs": [],
   "source": [
    "# fitted_elts.to_csv('../data/candidate_elt/fitted_elts_unknown.csv')"
   ]
  },
  {
   "cell_type": "markdown",
   "metadata": {},
   "source": [
    "## Review ZTF Hits"
   ]
  },
  {
   "cell_type": "code",
   "execution_count": 71,
   "metadata": {},
   "outputs": [],
   "source": [
    "ztf_hits = load_ztf_hits(known_ast=known_ast, display=True, min_hits=min_hits)"
   ]
  },
  {
   "cell_type": "code",
   "execution_count": 72,
   "metadata": {},
   "outputs": [],
   "source": [
    "ztf_hits = ztf_hits.loc[good_elts.element_id]"
   ]
  },
  {
   "cell_type": "code",
   "execution_count": 73,
   "metadata": {},
   "outputs": [
    {
     "name": "stdout",
     "output_type": "stream",
     "text": [
      "Found 2229 ZTF hits against 125 fitted elements.\n",
      "Mean  17.83 hits per element\n"
     ]
    }
   ],
   "source": [
    "num_hits: int = ztf_hits.shape[0]\n",
    "hits_per_elt = num_hits / num_elts\n",
    "print(f'Found {num_hits} ZTF hits against {num_elts} fitted elements.')\n",
    "print(f'Mean {hits_per_elt:6.2f} hits per element')"
   ]
  },
  {
   "cell_type": "code",
   "execution_count": 74,
   "metadata": {},
   "outputs": [
    {
     "data": {
      "text/html": [
       "<div>\n",
       "<style scoped>\n",
       "    .dataframe tbody tr th:only-of-type {\n",
       "        vertical-align: middle;\n",
       "    }\n",
       "\n",
       "    .dataframe tbody tr th {\n",
       "        vertical-align: top;\n",
       "    }\n",
       "\n",
       "    .dataframe thead th {\n",
       "        text-align: right;\n",
       "    }\n",
       "</style>\n",
       "<table border=\"1\" class=\"dataframe\">\n",
       "  <thead>\n",
       "    <tr style=\"text-align: right;\">\n",
       "      <th></th>\n",
       "      <th>element_id</th>\n",
       "      <th>ztf_id</th>\n",
       "      <th>ObjectID</th>\n",
       "      <th>CandidateID</th>\n",
       "      <th>mjd</th>\n",
       "      <th>ra</th>\n",
       "      <th>dec</th>\n",
       "      <th>mag_app</th>\n",
       "      <th>ux</th>\n",
       "      <th>uy</th>\n",
       "      <th>uz</th>\n",
       "      <th>elt_ux</th>\n",
       "      <th>elt_uy</th>\n",
       "      <th>elt_uz</th>\n",
       "      <th>s_sec</th>\n",
       "      <th>timestamp</th>\n",
       "    </tr>\n",
       "    <tr>\n",
       "      <th>ztf_id</th>\n",
       "      <th></th>\n",
       "      <th></th>\n",
       "      <th></th>\n",
       "      <th></th>\n",
       "      <th></th>\n",
       "      <th></th>\n",
       "      <th></th>\n",
       "      <th></th>\n",
       "      <th></th>\n",
       "      <th></th>\n",
       "      <th></th>\n",
       "      <th></th>\n",
       "      <th></th>\n",
       "      <th></th>\n",
       "      <th></th>\n",
       "      <th></th>\n",
       "    </tr>\n",
       "  </thead>\n",
       "  <tbody>\n",
       "    <tr>\n",
       "      <th>295360</th>\n",
       "      <td>132055</td>\n",
       "      <td>295360</td>\n",
       "      <td>b'ZTF19abiqsfg'</td>\n",
       "      <td>936426032615015002</td>\n",
       "      <td>58690.426030</td>\n",
       "      <td>21.866386</td>\n",
       "      <td>17.735163</td>\n",
       "      <td>18.165300</td>\n",
       "      <td>0.883949</td>\n",
       "      <td>0.446640</td>\n",
       "      <td>0.138373</td>\n",
       "      <td>0.883953</td>\n",
       "      <td>0.446630</td>\n",
       "      <td>0.138375</td>\n",
       "      <td>2.328738</td>\n",
       "      <td>2020-04-29 15:01:48.732245</td>\n",
       "    </tr>\n",
       "    <tr>\n",
       "      <th>310252</th>\n",
       "      <td>132055</td>\n",
       "      <td>310252</td>\n",
       "      <td>b'ZTF19abirulk'</td>\n",
       "      <td>936465272615015005</td>\n",
       "      <td>58690.465278</td>\n",
       "      <td>21.872681</td>\n",
       "      <td>17.740909</td>\n",
       "      <td>18.815901</td>\n",
       "      <td>0.883882</td>\n",
       "      <td>0.446757</td>\n",
       "      <td>0.138426</td>\n",
       "      <td>0.883886</td>\n",
       "      <td>0.446747</td>\n",
       "      <td>0.138429</td>\n",
       "      <td>2.279108</td>\n",
       "      <td>2020-04-29 15:01:48.732245</td>\n",
       "    </tr>\n",
       "    <tr>\n",
       "      <th>403714</th>\n",
       "      <td>132055</td>\n",
       "      <td>403714</td>\n",
       "      <td>b'ZTF19abjqbbp'</td>\n",
       "      <td>939466822415015033</td>\n",
       "      <td>58693.466829</td>\n",
       "      <td>22.349309</td>\n",
       "      <td>18.171013</td>\n",
       "      <td>18.153999</td>\n",
       "      <td>0.878759</td>\n",
       "      <td>0.455525</td>\n",
       "      <td>0.142408</td>\n",
       "      <td>0.878764</td>\n",
       "      <td>0.455514</td>\n",
       "      <td>0.142410</td>\n",
       "      <td>2.577831</td>\n",
       "      <td>2020-04-29 15:01:48.732245</td>\n",
       "    </tr>\n",
       "    <tr>\n",
       "      <th>409044</th>\n",
       "      <td>132055</td>\n",
       "      <td>409044</td>\n",
       "      <td>b'ZTF19abjpaws'</td>\n",
       "      <td>939428542415015016</td>\n",
       "      <td>58693.428542</td>\n",
       "      <td>22.343676</td>\n",
       "      <td>18.165550</td>\n",
       "      <td>18.480700</td>\n",
       "      <td>0.878822</td>\n",
       "      <td>0.455420</td>\n",
       "      <td>0.142355</td>\n",
       "      <td>0.878827</td>\n",
       "      <td>0.455409</td>\n",
       "      <td>0.142357</td>\n",
       "      <td>2.584019</td>\n",
       "      <td>2020-04-29 15:01:48.732245</td>\n",
       "    </tr>\n",
       "    <tr>\n",
       "      <th>554537</th>\n",
       "      <td>132055</td>\n",
       "      <td>554537</td>\n",
       "      <td>b'ZTF19ablqfvv'</td>\n",
       "      <td>942477522415015007</td>\n",
       "      <td>58696.477523</td>\n",
       "      <td>22.786146</td>\n",
       "      <td>18.591572</td>\n",
       "      <td>17.755600</td>\n",
       "      <td>0.873845</td>\n",
       "      <td>0.463610</td>\n",
       "      <td>0.146495</td>\n",
       "      <td>0.873851</td>\n",
       "      <td>0.463598</td>\n",
       "      <td>0.146495</td>\n",
       "      <td>2.870188</td>\n",
       "      <td>2020-04-29 15:01:48.732245</td>\n",
       "    </tr>\n",
       "    <tr>\n",
       "      <th>...</th>\n",
       "      <td>...</td>\n",
       "      <td>...</td>\n",
       "      <td>...</td>\n",
       "      <td>...</td>\n",
       "      <td>...</td>\n",
       "      <td>...</td>\n",
       "      <td>...</td>\n",
       "      <td>...</td>\n",
       "      <td>...</td>\n",
       "      <td>...</td>\n",
       "      <td>...</td>\n",
       "      <td>...</td>\n",
       "      <td>...</td>\n",
       "      <td>...</td>\n",
       "      <td>...</td>\n",
       "      <td>...</td>\n",
       "    </tr>\n",
       "    <tr>\n",
       "      <th>5278400</th>\n",
       "      <td>132055</td>\n",
       "      <td>5278400</td>\n",
       "      <td>b'ZTF20aanmcfz'</td>\n",
       "      <td>1140151486215015010</td>\n",
       "      <td>58894.151481</td>\n",
       "      <td>26.930536</td>\n",
       "      <td>21.076985</td>\n",
       "      <td>18.903200</td>\n",
       "      <td>0.831909</td>\n",
       "      <td>0.530786</td>\n",
       "      <td>0.161842</td>\n",
       "      <td>0.831902</td>\n",
       "      <td>0.530796</td>\n",
       "      <td>0.161846</td>\n",
       "      <td>2.607394</td>\n",
       "      <td>2020-04-29 15:01:48.732245</td>\n",
       "    </tr>\n",
       "    <tr>\n",
       "      <th>5278406</th>\n",
       "      <td>132055</td>\n",
       "      <td>5278406</td>\n",
       "      <td>b'ZTF20aanmcfz'</td>\n",
       "      <td>1140152395115015012</td>\n",
       "      <td>58894.152396</td>\n",
       "      <td>26.930815</td>\n",
       "      <td>21.077073</td>\n",
       "      <td>19.027201</td>\n",
       "      <td>0.831907</td>\n",
       "      <td>0.530790</td>\n",
       "      <td>0.161842</td>\n",
       "      <td>0.831900</td>\n",
       "      <td>0.530800</td>\n",
       "      <td>0.161846</td>\n",
       "      <td>2.651502</td>\n",
       "      <td>2020-04-29 15:01:48.732245</td>\n",
       "    </tr>\n",
       "    <tr>\n",
       "      <th>5520038</th>\n",
       "      <td>132055</td>\n",
       "      <td>5520038</td>\n",
       "      <td>b'ZTF20aapqmoj'</td>\n",
       "      <td>1146140625815015007</td>\n",
       "      <td>58900.140625</td>\n",
       "      <td>29.007368</td>\n",
       "      <td>21.568770</td>\n",
       "      <td>18.981001</td>\n",
       "      <td>0.813318</td>\n",
       "      <td>0.559983</td>\n",
       "      <td>0.157899</td>\n",
       "      <td>0.813307</td>\n",
       "      <td>0.559999</td>\n",
       "      <td>0.157902</td>\n",
       "      <td>3.979879</td>\n",
       "      <td>2020-04-29 15:01:48.732245</td>\n",
       "    </tr>\n",
       "    <tr>\n",
       "      <th>5520487</th>\n",
       "      <td>132055</td>\n",
       "      <td>5520487</td>\n",
       "      <td>b'ZTF20aaprllu'</td>\n",
       "      <td>1146153625815015008</td>\n",
       "      <td>58900.153623</td>\n",
       "      <td>29.011955</td>\n",
       "      <td>21.569839</td>\n",
       "      <td>18.507200</td>\n",
       "      <td>0.813276</td>\n",
       "      <td>0.560047</td>\n",
       "      <td>0.157890</td>\n",
       "      <td>0.813265</td>\n",
       "      <td>0.560062</td>\n",
       "      <td>0.157893</td>\n",
       "      <td>3.926321</td>\n",
       "      <td>2020-04-29 15:01:48.732245</td>\n",
       "    </tr>\n",
       "    <tr>\n",
       "      <th>5680392</th>\n",
       "      <td>132055</td>\n",
       "      <td>5680392</td>\n",
       "      <td>b'ZTF20aarbpak'</td>\n",
       "      <td>1151111785315015007</td>\n",
       "      <td>58905.111782</td>\n",
       "      <td>30.790924</td>\n",
       "      <td>21.994049</td>\n",
       "      <td>18.305700</td>\n",
       "      <td>0.796522</td>\n",
       "      <td>0.584456</td>\n",
       "      <td>0.154801</td>\n",
       "      <td>0.796508</td>\n",
       "      <td>0.584475</td>\n",
       "      <td>0.154804</td>\n",
       "      <td>5.004523</td>\n",
       "      <td>2020-04-29 15:01:48.732245</td>\n",
       "    </tr>\n",
       "  </tbody>\n",
       "</table>\n",
       "<p>122 rows × 16 columns</p>\n",
       "</div>"
      ],
      "text/plain": [
       "         element_id   ztf_id         ObjectID          CandidateID  \\\n",
       "ztf_id                                                               \n",
       "295360       132055   295360  b'ZTF19abiqsfg'   936426032615015002   \n",
       "310252       132055   310252  b'ZTF19abirulk'   936465272615015005   \n",
       "403714       132055   403714  b'ZTF19abjqbbp'   939466822415015033   \n",
       "409044       132055   409044  b'ZTF19abjpaws'   939428542415015016   \n",
       "554537       132055   554537  b'ZTF19ablqfvv'   942477522415015007   \n",
       "...             ...      ...              ...                  ...   \n",
       "5278400      132055  5278400  b'ZTF20aanmcfz'  1140151486215015010   \n",
       "5278406      132055  5278406  b'ZTF20aanmcfz'  1140152395115015012   \n",
       "5520038      132055  5520038  b'ZTF20aapqmoj'  1146140625815015007   \n",
       "5520487      132055  5520487  b'ZTF20aaprllu'  1146153625815015008   \n",
       "5680392      132055  5680392  b'ZTF20aarbpak'  1151111785315015007   \n",
       "\n",
       "                  mjd         ra        dec    mag_app        ux        uy  \\\n",
       "ztf_id                                                                       \n",
       "295360   58690.426030  21.866386  17.735163  18.165300  0.883949  0.446640   \n",
       "310252   58690.465278  21.872681  17.740909  18.815901  0.883882  0.446757   \n",
       "403714   58693.466829  22.349309  18.171013  18.153999  0.878759  0.455525   \n",
       "409044   58693.428542  22.343676  18.165550  18.480700  0.878822  0.455420   \n",
       "554537   58696.477523  22.786146  18.591572  17.755600  0.873845  0.463610   \n",
       "...               ...        ...        ...        ...       ...       ...   \n",
       "5278400  58894.151481  26.930536  21.076985  18.903200  0.831909  0.530786   \n",
       "5278406  58894.152396  26.930815  21.077073  19.027201  0.831907  0.530790   \n",
       "5520038  58900.140625  29.007368  21.568770  18.981001  0.813318  0.559983   \n",
       "5520487  58900.153623  29.011955  21.569839  18.507200  0.813276  0.560047   \n",
       "5680392  58905.111782  30.790924  21.994049  18.305700  0.796522  0.584456   \n",
       "\n",
       "               uz    elt_ux    elt_uy    elt_uz     s_sec  \\\n",
       "ztf_id                                                      \n",
       "295360   0.138373  0.883953  0.446630  0.138375  2.328738   \n",
       "310252   0.138426  0.883886  0.446747  0.138429  2.279108   \n",
       "403714   0.142408  0.878764  0.455514  0.142410  2.577831   \n",
       "409044   0.142355  0.878827  0.455409  0.142357  2.584019   \n",
       "554537   0.146495  0.873851  0.463598  0.146495  2.870188   \n",
       "...           ...       ...       ...       ...       ...   \n",
       "5278400  0.161842  0.831902  0.530796  0.161846  2.607394   \n",
       "5278406  0.161842  0.831900  0.530800  0.161846  2.651502   \n",
       "5520038  0.157899  0.813307  0.559999  0.157902  3.979879   \n",
       "5520487  0.157890  0.813265  0.560062  0.157893  3.926321   \n",
       "5680392  0.154801  0.796508  0.584475  0.154804  5.004523   \n",
       "\n",
       "                         timestamp  \n",
       "ztf_id                              \n",
       "295360  2020-04-29 15:01:48.732245  \n",
       "310252  2020-04-29 15:01:48.732245  \n",
       "403714  2020-04-29 15:01:48.732245  \n",
       "409044  2020-04-29 15:01:48.732245  \n",
       "554537  2020-04-29 15:01:48.732245  \n",
       "...                            ...  \n",
       "5278400 2020-04-29 15:01:48.732245  \n",
       "5278406 2020-04-29 15:01:48.732245  \n",
       "5520038 2020-04-29 15:01:48.732245  \n",
       "5520487 2020-04-29 15:01:48.732245  \n",
       "5680392 2020-04-29 15:01:48.732245  \n",
       "\n",
       "[122 rows x 16 columns]"
      ]
     },
     "execution_count": 74,
     "metadata": {},
     "output_type": "execute_result"
    }
   ],
   "source": [
    "ztf_hits.loc[best_element_id]"
   ]
  },
  {
   "cell_type": "code",
   "execution_count": 75,
   "metadata": {},
   "outputs": [
    {
     "data": {
      "text/html": [
       "<div>\n",
       "<style scoped>\n",
       "    .dataframe tbody tr th:only-of-type {\n",
       "        vertical-align: middle;\n",
       "    }\n",
       "\n",
       "    .dataframe tbody tr th {\n",
       "        vertical-align: top;\n",
       "    }\n",
       "\n",
       "    .dataframe thead th {\n",
       "        text-align: right;\n",
       "    }\n",
       "</style>\n",
       "<table border=\"1\" class=\"dataframe\">\n",
       "  <thead>\n",
       "    <tr style=\"text-align: right;\">\n",
       "      <th></th>\n",
       "      <th>mjd</th>\n",
       "      <th>ra</th>\n",
       "      <th>dec</th>\n",
       "      <th>mag_app</th>\n",
       "      <th>s_sec</th>\n",
       "    </tr>\n",
       "    <tr>\n",
       "      <th>ztf_id</th>\n",
       "      <th></th>\n",
       "      <th></th>\n",
       "      <th></th>\n",
       "      <th></th>\n",
       "      <th></th>\n",
       "    </tr>\n",
       "  </thead>\n",
       "  <tbody>\n",
       "    <tr>\n",
       "      <th>295360</th>\n",
       "      <td>58690.426030</td>\n",
       "      <td>21.866386</td>\n",
       "      <td>17.735163</td>\n",
       "      <td>18.165300</td>\n",
       "      <td>2.328738</td>\n",
       "    </tr>\n",
       "    <tr>\n",
       "      <th>310252</th>\n",
       "      <td>58690.465278</td>\n",
       "      <td>21.872681</td>\n",
       "      <td>17.740909</td>\n",
       "      <td>18.815901</td>\n",
       "      <td>2.279108</td>\n",
       "    </tr>\n",
       "    <tr>\n",
       "      <th>403714</th>\n",
       "      <td>58693.466829</td>\n",
       "      <td>22.349309</td>\n",
       "      <td>18.171013</td>\n",
       "      <td>18.153999</td>\n",
       "      <td>2.577831</td>\n",
       "    </tr>\n",
       "    <tr>\n",
       "      <th>409044</th>\n",
       "      <td>58693.428542</td>\n",
       "      <td>22.343676</td>\n",
       "      <td>18.165550</td>\n",
       "      <td>18.480700</td>\n",
       "      <td>2.584019</td>\n",
       "    </tr>\n",
       "    <tr>\n",
       "      <th>554537</th>\n",
       "      <td>58696.477523</td>\n",
       "      <td>22.786146</td>\n",
       "      <td>18.591572</td>\n",
       "      <td>17.755600</td>\n",
       "      <td>2.870188</td>\n",
       "    </tr>\n",
       "    <tr>\n",
       "      <th>...</th>\n",
       "      <td>...</td>\n",
       "      <td>...</td>\n",
       "      <td>...</td>\n",
       "      <td>...</td>\n",
       "      <td>...</td>\n",
       "    </tr>\n",
       "    <tr>\n",
       "      <th>5278400</th>\n",
       "      <td>58894.151481</td>\n",
       "      <td>26.930536</td>\n",
       "      <td>21.076985</td>\n",
       "      <td>18.903200</td>\n",
       "      <td>2.607394</td>\n",
       "    </tr>\n",
       "    <tr>\n",
       "      <th>5278406</th>\n",
       "      <td>58894.152396</td>\n",
       "      <td>26.930815</td>\n",
       "      <td>21.077073</td>\n",
       "      <td>19.027201</td>\n",
       "      <td>2.651502</td>\n",
       "    </tr>\n",
       "    <tr>\n",
       "      <th>5520038</th>\n",
       "      <td>58900.140625</td>\n",
       "      <td>29.007368</td>\n",
       "      <td>21.568770</td>\n",
       "      <td>18.981001</td>\n",
       "      <td>3.979879</td>\n",
       "    </tr>\n",
       "    <tr>\n",
       "      <th>5520487</th>\n",
       "      <td>58900.153623</td>\n",
       "      <td>29.011955</td>\n",
       "      <td>21.569839</td>\n",
       "      <td>18.507200</td>\n",
       "      <td>3.926321</td>\n",
       "    </tr>\n",
       "    <tr>\n",
       "      <th>5680392</th>\n",
       "      <td>58905.111782</td>\n",
       "      <td>30.790924</td>\n",
       "      <td>21.994049</td>\n",
       "      <td>18.305700</td>\n",
       "      <td>5.004523</td>\n",
       "    </tr>\n",
       "  </tbody>\n",
       "</table>\n",
       "<p>122 rows × 5 columns</p>\n",
       "</div>"
      ],
      "text/plain": [
       "                  mjd         ra        dec    mag_app     s_sec\n",
       "ztf_id                                                          \n",
       "295360   58690.426030  21.866386  17.735163  18.165300  2.328738\n",
       "310252   58690.465278  21.872681  17.740909  18.815901  2.279108\n",
       "403714   58693.466829  22.349309  18.171013  18.153999  2.577831\n",
       "409044   58693.428542  22.343676  18.165550  18.480700  2.584019\n",
       "554537   58696.477523  22.786146  18.591572  17.755600  2.870188\n",
       "...               ...        ...        ...        ...       ...\n",
       "5278400  58894.151481  26.930536  21.076985  18.903200  2.607394\n",
       "5278406  58894.152396  26.930815  21.077073  19.027201  2.651502\n",
       "5520038  58900.140625  29.007368  21.568770  18.981001  3.979879\n",
       "5520487  58900.153623  29.011955  21.569839  18.507200  3.926321\n",
       "5680392  58905.111782  30.790924  21.994049  18.305700  5.004523\n",
       "\n",
       "[122 rows x 5 columns]"
      ]
     },
     "execution_count": 75,
     "metadata": {},
     "output_type": "execute_result"
    }
   ],
   "source": [
    "cols = ['mjd', 'ra', 'dec', 'mag_app', 's_sec']\n",
    "ztf_hits[cols].loc[best_element_id]"
   ]
  },
  {
   "cell_type": "code",
   "execution_count": 77,
   "metadata": {},
   "outputs": [],
   "source": [
    "# ztf_hits.to_csv('../data/candidate_elt/ztf_hits_known.csv')"
   ]
  },
  {
   "cell_type": "markdown",
   "metadata": {},
   "source": [
    "## Visualize Results"
   ]
  },
  {
   "cell_type": "code",
   "execution_count": 141,
   "metadata": {},
   "outputs": [],
   "source": [
    "plot_x = np.arange(num_elts)+1\n",
    "height = np.round(good_elts.hits)\n",
    "mean_height = np.mean(height)\n",
    "ref_height = 20"
   ]
  },
  {
   "cell_type": "code",
   "execution_count": 142,
   "metadata": {},
   "outputs": [
    {
     "data": {
      "image/png": "[encoded data removed]",
      "text/plain": [
       "<Figure size 1152x720 with 1 Axes>"
      ]
     },
     "metadata": {
      "needs_background": "light"
     },
     "output_type": "display_data"
    }
   ],
   "source": [
    "# Plot number of hits\n",
    "fig, ax = plt.subplots()\n",
    "ax.set_title('Number of Hits at 10 Arc Seconds for Fitted Elements vs. Known Asteroids')\n",
    "ax.set_xlabel('Element Number')\n",
    "ax.set_ylabel('Number of Hits')\n",
    "ax.bar(x=plot_x, height=height, label='elt', color='blue')\n",
    "ax.axhline(y=mean_height, label='mean', color='red')\n",
    "ax.axhline(y=ref_height, label=f'err=0.001', color='black')\n",
    "ax.grid()\n",
    "ax.legend()\n",
    "plt.show()"
   ]
  },
  {
   "cell_type": "code",
   "execution_count": 143,
   "metadata": {},
   "outputs": [],
   "source": [
    "fig.savefig('../figs/search_known/random/hits.png', bbox_inches='tight')"
   ]
  },
  {
   "cell_type": "code",
   "execution_count": null,
   "metadata": {},
   "outputs": [],
   "source": [
    "# Plot of resolution\n",
    "plot_x = np.arange(num_elts)+1\n",
    "height = good_elts.R_sec\n",
    "mean_height = np.exp(-np.mean(np.log(good_elts.R_sec)))\n",
    "ref_height = 1.0 / 10.0"
   ]
  },
  {
   "cell_type": "code",
   "execution_count": null,
   "metadata": {},
   "outputs": [],
   "source": [
    "# Plot number of hits\n",
    "fig, ax = plt.subplots()\n",
    "ax.set_title('Log Likelihood for Fitted Elements vs. Known Asteroids')\n",
    "ax.set_xlabel('Element Number')\n",
    "ax.set_ylabel('Log Likelihood')\n",
    "ax.bar(x=plot_x, height=height, label='elt', color='blue')\n",
    "ax.axhline(y=mean_height, label='mean', color='red')\n",
    "ax.axhline(y=ref_height, label=f'err=0.001', color='black')\n",
    "ax.grid()\n",
    "ax.legend()\n",
    "plt.show()"
   ]
  },
  {
   "cell_type": "code",
   "execution_count": 123,
   "metadata": {},
   "outputs": [],
   "source": [
    "# Plot of resolution\n",
    "plot_x = np.arange(num_elts)+1\n",
    "height = 1.0 / good_elts.R_sec\n",
    "mean_height = np.exp(-np.mean(np.log(good_elts.R_sec)))\n",
    "ref_height = 1.0 / 10.0"
   ]
  },
  {
   "cell_type": "code",
   "execution_count": 124,
   "metadata": {},
   "outputs": [
    {
     "data": {
      "image/png": "[encoded data removed]",
      "text/plain": [
       "<Figure size 1152x720 with 1 Axes>"
      ]
     },
     "metadata": {
      "needs_background": "light"
     },
     "output_type": "display_data"
    }
   ],
   "source": [
    "# Plot number of hits\n",
    "fig, ax = plt.subplots()\n",
    "ax.set_title('Mean Resolution in Arc Seconds for Fitted Elements vs. Known Asteroids')\n",
    "ax.set_xlabel('Element Number')\n",
    "ax.set_ylabel('Inverse Resolution in Arc Seconds')\n",
    "ax.bar(x=plot_x, height=height, label='elt', color='blue')\n",
    "ax.axhline(y=mean_height, label='mean', color='red')\n",
    "ax.axhline(y=ref_height, label=f'10.0 sec', color='black')\n",
    "ax.set_yscale('log', basey=2)\n",
    "ax.grid()\n",
    "ax.legend()\n",
    "plt.show()"
   ]
  },
  {
   "cell_type": "code",
   "execution_count": 125,
   "metadata": {},
   "outputs": [],
   "source": [
    "fig.savefig('../figs/search_known/random/resolution.png', bbox_inches='tight')"
   ]
  },
  {
   "cell_type": "markdown",
   "metadata": {},
   "source": [
    "## Nearest Asteroid"
   ]
  },
  {
   "cell_type": "code",
   "execution_count": null,
   "metadata": {},
   "outputs": [],
   "source": [
    "# near_ast_elt = nearest_ast_elt_cart(elts=good_elts)"
   ]
  },
  {
   "cell_type": "code",
   "execution_count": 131,
   "metadata": {},
   "outputs": [],
   "source": [
    "q_norm = elt_q_norm(elts=good_elts, ast_num=near_ast_elt.nearest_ast_num)"
   ]
  },
  {
   "cell_type": "code",
   "execution_count": 132,
   "metadata": {},
   "outputs": [],
   "source": [
    "near_ast_elt['q_norm'] = q_norm"
   ]
  },
  {
   "cell_type": "code",
   "execution_count": 133,
   "metadata": {},
   "outputs": [
    {
     "data": {
      "text/html": [
       "<div>\n",
       "<style scoped>\n",
       "    .dataframe tbody tr th:only-of-type {\n",
       "        vertical-align: middle;\n",
       "    }\n",
       "\n",
       "    .dataframe tbody tr th {\n",
       "        vertical-align: top;\n",
       "    }\n",
       "\n",
       "    .dataframe thead th {\n",
       "        text-align: right;\n",
       "    }\n",
       "</style>\n",
       "<table border=\"1\" class=\"dataframe\">\n",
       "  <thead>\n",
       "    <tr style=\"text-align: right;\">\n",
       "      <th></th>\n",
       "      <th>element_id</th>\n",
       "      <th>nearest_ast_num</th>\n",
       "      <th>nearest_ast_name</th>\n",
       "      <th>nearest_ast_dist</th>\n",
       "      <th>a</th>\n",
       "      <th>e</th>\n",
       "      <th>inc</th>\n",
       "      <th>Omega</th>\n",
       "      <th>omega</th>\n",
       "      <th>f</th>\n",
       "      <th>epoch</th>\n",
       "      <th>q_norm</th>\n",
       "    </tr>\n",
       "  </thead>\n",
       "  <tbody>\n",
       "    <tr>\n",
       "      <th>0</th>\n",
       "      <td>132055</td>\n",
       "      <td>16144</td>\n",
       "      <td>Korsten</td>\n",
       "      <td>0.000068</td>\n",
       "      <td>3.001207</td>\n",
       "      <td>0.106751</td>\n",
       "      <td>0.176149</td>\n",
       "      <td>5.593885</td>\n",
       "      <td>0.751905</td>\n",
       "      <td>-0.347746</td>\n",
       "      <td>58600.0</td>\n",
       "      <td>0.010786</td>\n",
       "    </tr>\n",
       "    <tr>\n",
       "      <th>1</th>\n",
       "      <td>146842</td>\n",
       "      <td>2573</td>\n",
       "      <td>Hannu Olavi</td>\n",
       "      <td>0.000479</td>\n",
       "      <td>3.015706</td>\n",
       "      <td>0.105709</td>\n",
       "      <td>0.226341</td>\n",
       "      <td>0.944392</td>\n",
       "      <td>2.584818</td>\n",
       "      <td>-2.811504</td>\n",
       "      <td>58600.0</td>\n",
       "      <td>0.054085</td>\n",
       "    </tr>\n",
       "    <tr>\n",
       "      <th>2</th>\n",
       "      <td>13172</td>\n",
       "      <td>26703</td>\n",
       "      <td>2001 FB144</td>\n",
       "      <td>0.000569</td>\n",
       "      <td>2.571910</td>\n",
       "      <td>0.175808</td>\n",
       "      <td>0.172841</td>\n",
       "      <td>2.846739</td>\n",
       "      <td>2.927330</td>\n",
       "      <td>-5.413980</td>\n",
       "      <td>58600.0</td>\n",
       "      <td>0.023343</td>\n",
       "    </tr>\n",
       "    <tr>\n",
       "      <th>3</th>\n",
       "      <td>167580</td>\n",
       "      <td>11205</td>\n",
       "      <td>1999 FY28</td>\n",
       "      <td>0.000356</td>\n",
       "      <td>3.198915</td>\n",
       "      <td>0.167837</td>\n",
       "      <td>0.129754</td>\n",
       "      <td>0.458829</td>\n",
       "      <td>0.871939</td>\n",
       "      <td>-1.706923</td>\n",
       "      <td>58600.0</td>\n",
       "      <td>0.018486</td>\n",
       "    </tr>\n",
       "    <tr>\n",
       "      <th>4</th>\n",
       "      <td>57218</td>\n",
       "      <td>459814</td>\n",
       "      <td>2013 SM33</td>\n",
       "      <td>0.003641</td>\n",
       "      <td>2.899326</td>\n",
       "      <td>0.018254</td>\n",
       "      <td>0.021427</td>\n",
       "      <td>3.718312</td>\n",
       "      <td>1.442226</td>\n",
       "      <td>-4.368272</td>\n",
       "      <td>58600.0</td>\n",
       "      <td>2.711167</td>\n",
       "    </tr>\n",
       "    <tr>\n",
       "      <th>...</th>\n",
       "      <td>...</td>\n",
       "      <td>...</td>\n",
       "      <td>...</td>\n",
       "      <td>...</td>\n",
       "      <td>...</td>\n",
       "      <td>...</td>\n",
       "      <td>...</td>\n",
       "      <td>...</td>\n",
       "      <td>...</td>\n",
       "      <td>...</td>\n",
       "      <td>...</td>\n",
       "      <td>...</td>\n",
       "    </tr>\n",
       "    <tr>\n",
       "      <th>120</th>\n",
       "      <td>103865</td>\n",
       "      <td>152228</td>\n",
       "      <td>2005 SK9</td>\n",
       "      <td>0.004442</td>\n",
       "      <td>2.762316</td>\n",
       "      <td>0.161908</td>\n",
       "      <td>0.131599</td>\n",
       "      <td>3.897159</td>\n",
       "      <td>4.069944</td>\n",
       "      <td>4.517167</td>\n",
       "      <td>58600.0</td>\n",
       "      <td>0.997032</td>\n",
       "    </tr>\n",
       "    <tr>\n",
       "      <th>121</th>\n",
       "      <td>6741</td>\n",
       "      <td>364406</td>\n",
       "      <td>2006 VW120</td>\n",
       "      <td>0.004038</td>\n",
       "      <td>2.650839</td>\n",
       "      <td>0.108820</td>\n",
       "      <td>0.204093</td>\n",
       "      <td>0.956806</td>\n",
       "      <td>3.117901</td>\n",
       "      <td>-3.670807</td>\n",
       "      <td>58600.0</td>\n",
       "      <td>0.575896</td>\n",
       "    </tr>\n",
       "    <tr>\n",
       "      <th>122</th>\n",
       "      <td>101616</td>\n",
       "      <td>9434</td>\n",
       "      <td>Bokusen</td>\n",
       "      <td>0.003653</td>\n",
       "      <td>2.272446</td>\n",
       "      <td>0.141517</td>\n",
       "      <td>0.047427</td>\n",
       "      <td>0.943397</td>\n",
       "      <td>3.852457</td>\n",
       "      <td>1.495425</td>\n",
       "      <td>58600.0</td>\n",
       "      <td>2.422270</td>\n",
       "    </tr>\n",
       "    <tr>\n",
       "      <th>123</th>\n",
       "      <td>122026</td>\n",
       "      <td>57503</td>\n",
       "      <td>2001 ST252</td>\n",
       "      <td>0.003995</td>\n",
       "      <td>2.329552</td>\n",
       "      <td>0.013485</td>\n",
       "      <td>0.040836</td>\n",
       "      <td>1.636104</td>\n",
       "      <td>5.410376</td>\n",
       "      <td>-0.706965</td>\n",
       "      <td>58600.0</td>\n",
       "      <td>1.915571</td>\n",
       "    </tr>\n",
       "    <tr>\n",
       "      <th>124</th>\n",
       "      <td>82594</td>\n",
       "      <td>85449</td>\n",
       "      <td>1997 GA17</td>\n",
       "      <td>0.001716</td>\n",
       "      <td>2.247288</td>\n",
       "      <td>0.101727</td>\n",
       "      <td>0.034932</td>\n",
       "      <td>6.069659</td>\n",
       "      <td>0.126339</td>\n",
       "      <td>0.914154</td>\n",
       "      <td>58600.0</td>\n",
       "      <td>2.863242</td>\n",
       "    </tr>\n",
       "  </tbody>\n",
       "</table>\n",
       "<p>125 rows × 12 columns</p>\n",
       "</div>"
      ],
      "text/plain": [
       "     element_id  nearest_ast_num nearest_ast_name  nearest_ast_dist         a  \\\n",
       "0        132055            16144          Korsten          0.000068  3.001207   \n",
       "1        146842             2573      Hannu Olavi          0.000479  3.015706   \n",
       "2         13172            26703       2001 FB144          0.000569  2.571910   \n",
       "3        167580            11205        1999 FY28          0.000356  3.198915   \n",
       "4         57218           459814        2013 SM33          0.003641  2.899326   \n",
       "..          ...              ...              ...               ...       ...   \n",
       "120      103865           152228         2005 SK9          0.004442  2.762316   \n",
       "121        6741           364406       2006 VW120          0.004038  2.650839   \n",
       "122      101616             9434          Bokusen          0.003653  2.272446   \n",
       "123      122026            57503       2001 ST252          0.003995  2.329552   \n",
       "124       82594            85449        1997 GA17          0.001716  2.247288   \n",
       "\n",
       "            e       inc     Omega     omega         f    epoch    q_norm  \n",
       "0    0.106751  0.176149  5.593885  0.751905 -0.347746  58600.0  0.010786  \n",
       "1    0.105709  0.226341  0.944392  2.584818 -2.811504  58600.0  0.054085  \n",
       "2    0.175808  0.172841  2.846739  2.927330 -5.413980  58600.0  0.023343  \n",
       "3    0.167837  0.129754  0.458829  0.871939 -1.706923  58600.0  0.018486  \n",
       "4    0.018254  0.021427  3.718312  1.442226 -4.368272  58600.0  2.711167  \n",
       "..        ...       ...       ...       ...       ...      ...       ...  \n",
       "120  0.161908  0.131599  3.897159  4.069944  4.517167  58600.0  0.997032  \n",
       "121  0.108820  0.204093  0.956806  3.117901 -3.670807  58600.0  0.575896  \n",
       "122  0.141517  0.047427  0.943397  3.852457  1.495425  58600.0  2.422270  \n",
       "123  0.013485  0.040836  1.636104  5.410376 -0.706965  58600.0  1.915571  \n",
       "124  0.101727  0.034932  6.069659  0.126339  0.914154  58600.0  2.863242  \n",
       "\n",
       "[125 rows x 12 columns]"
      ]
     },
     "execution_count": 133,
     "metadata": {},
     "output_type": "execute_result"
    }
   ],
   "source": [
    "near_ast_elt"
   ]
  },
  {
   "cell_type": "code",
   "execution_count": 139,
   "metadata": {},
   "outputs": [
    {
     "name": "stdout",
     "output_type": "stream",
     "text": [
      "Geometric mean distance to nearest asteroid 2.68e-03.\n"
     ]
    }
   ],
   "source": [
    "geomean_dist = np.exp(np.mean(np.log(near_ast_elt.nearest_ast_dist)))\n",
    "print(f'Geometric mean distance to nearest asteroid {geomean_dist:6.2e}.')"
   ]
  },
  {
   "cell_type": "code",
   "execution_count": 126,
   "metadata": {},
   "outputs": [],
   "source": [
    "# Plot of position error\n",
    "plot_x = np.arange(num_elts)+1\n",
    "height = 1.0 / near_ast_elt.nearest_ast_dist\n",
    "mean_height = np.exp(np.mean(np.log(height)))\n",
    "ref_height = 1.0 / 0.001"
   ]
  },
  {
   "cell_type": "code",
   "execution_count": 127,
   "metadata": {},
   "outputs": [
    {
     "data": {
      "image/png": "[encoded data removed]",
      "text/plain": [
       "<Figure size 1152x720 with 1 Axes>"
      ]
     },
     "metadata": {
      "needs_background": "light"
     },
     "output_type": "display_data"
    }
   ],
   "source": [
    "# Plot position error in AU\n",
    "fig, ax = plt.subplots()\n",
    "ax.set_title('Mean Precision of Position in AU vs. Known Asteroids')\n",
    "ax.set_xlabel('Element Number')\n",
    "ax.set_ylabel('Inverse Mean Position Error in AU')\n",
    "ax.bar(x=plot_x, height=height, label='elt', color='blue')\n",
    "ax.axhline(y=mean_height, label='mean', color='red')\n",
    "ax.axhline(y=ref_height, label=f'err=0.001', color='black')\n",
    "ax.set_yscale('log', basey=2)\n",
    "ax.grid()\n",
    "ax.legend()\n",
    "plt.show()"
   ]
  },
  {
   "cell_type": "code",
   "execution_count": 128,
   "metadata": {},
   "outputs": [],
   "source": [
    "fig.savefig('../figs/search_known/random/near_ast_dist.png', bbox_inches='tight')"
   ]
  },
  {
   "cell_type": "code",
   "execution_count": 134,
   "metadata": {},
   "outputs": [],
   "source": [
    "# Plot of cov error\n",
    "plot_x = np.arange(num_elts)+1\n",
    "height = 1.0 / near_ast_elt.q_norm\n",
    "mean_height = np.exp(np.mean(np.log(height)))\n",
    "ref_height = 1.0 / 0.001"
   ]
  },
  {
   "cell_type": "code",
   "execution_count": 135,
   "metadata": {},
   "outputs": [
    {
     "data": {
      "image/png": "[encoded data removed]",
      "text/plain": [
       "<Figure size 1152x720 with 1 Axes>"
      ]
     },
     "metadata": {
      "needs_background": "light"
     },
     "output_type": "display_data"
    }
   ],
   "source": [
    "# Plot position error in AU\n",
    "fig, ax = plt.subplots()\n",
    "ax.set_title('Mean Precision of Covariance Norm vs. Known Asteroids')\n",
    "ax.set_xlabel('Element Number')\n",
    "ax.set_ylabel('Inverse Covariance Norm')\n",
    "ax.bar(x=plot_x, height=height, label='elt', color='blue')\n",
    "ax.axhline(y=mean_height, label='mean', color='red')\n",
    "ax.axhline(y=ref_height, label=f'err=0.001', color='black')\n",
    "ax.set_yscale('log', basey=2)\n",
    "ax.grid()\n",
    "ax.legend()\n",
    "plt.show()"
   ]
  },
  {
   "cell_type": "code",
   "execution_count": null,
   "metadata": {},
   "outputs": [],
   "source": []
  },
  {
   "cell_type": "markdown",
   "metadata": {},
   "source": [
    "## Load ZTF Data and Batch of Orbital Elements"
   ]
  },
  {
   "cell_type": "code",
   "execution_count": null,
   "metadata": {},
   "outputs": [],
   "source": [
    "# Parameters to build random orbital elements and ztf_ast\n",
    "batch_size_init = 1024\n",
    "batch_size = 64\n",
    "random_seed = best_element_id // batch_size\n",
    "thresh_deg = 2.0"
   ]
  },
  {
   "cell_type": "code",
   "execution_count": null,
   "metadata": {},
   "outputs": [],
   "source": [
    "# Load ztf nearest asteroid data\n",
    "ztf_ast = make_ztf_ast(known_ast=known_ast)"
   ]
  },
  {
   "cell_type": "code",
   "execution_count": null,
   "metadata": {},
   "outputs": [],
   "source": [
    "# # Review ztf_ast\n",
    "# ztf_ast"
   ]
  },
  {
   "cell_type": "code",
   "execution_count": null,
   "metadata": {},
   "outputs": [],
   "source": [
    "# Best random elements\n",
    "elts = load_best_random_elts(random_seed=random_seed, known_ast=known_ast, \n",
    "                             batch_size_init=batch_size_init, batch_size=batch_size, thresh_deg=thresh_deg)"
   ]
  },
  {
   "cell_type": "code",
   "execution_count": null,
   "metadata": {},
   "outputs": [],
   "source": [
    "# # Review best random elements\n",
    "# elts"
   ]
  },
  {
   "cell_type": "code",
   "execution_count": null,
   "metadata": {},
   "outputs": [],
   "source": [
    "ztf_ast.loc[ztf_id_close]"
   ]
  },
  {
   "cell_type": "code",
   "execution_count": null,
   "metadata": {},
   "outputs": [],
   "source": [
    "close_ast_num = ztf_ast.nearest_ast_num.loc[ztf_id_close].mode().values[0]\n",
    "close_ast_num"
   ]
  },
  {
   "cell_type": "code",
   "execution_count": null,
   "metadata": {},
   "outputs": [],
   "source": [
    "nearest_ast_dist = ztf_ast.nearest_ast_dist.loc[ztf_id_close]"
   ]
  },
  {
   "cell_type": "code",
   "execution_count": null,
   "metadata": {},
   "outputs": [],
   "source": [
    "dist2sec(nearest_ast_dist)"
   ]
  },
  {
   "cell_type": "markdown",
   "metadata": {},
   "source": [
    "## Batches of ZTF Data Near Initial Candidate Elements"
   ]
  },
  {
   "cell_type": "code",
   "execution_count": null,
   "metadata": {},
   "outputs": [],
   "source": [
    "# Arguments to make_ztf_batch\n",
    "near_ast = False\n",
    "regenerate = False"
   ]
  },
  {
   "cell_type": "code",
   "execution_count": null,
   "metadata": {},
   "outputs": [],
   "source": [
    "# Load perturbed element batch\n",
    "ztf_elt = load_ztf_batch(elts=elts, ztf=ztf_ast, thresh_deg=thresh_deg, near_ast=near_ast, regenerate=regenerate)"
   ]
  },
  {
   "cell_type": "code",
   "execution_count": null,
   "metadata": {},
   "outputs": [],
   "source": [
    "# # Review ZTF elements\n",
    "# ztf_elt"
   ]
  },
  {
   "cell_type": "code",
   "execution_count": null,
   "metadata": {},
   "outputs": [],
   "source": [
    "# Mixture parameters\n",
    "num_hits: int = 10\n",
    "R_deg: float = 0.5"
   ]
  },
  {
   "cell_type": "code",
   "execution_count": null,
   "metadata": {},
   "outputs": [],
   "source": [
    "# Add mixture parameters to candidate elements\n",
    "elts_add_mixture_params(elts=elts, num_hits=num_hits, R_deg=R_deg, thresh_deg=thresh_deg)"
   ]
  },
  {
   "cell_type": "code",
   "execution_count": null,
   "metadata": {},
   "outputs": [],
   "source": [
    "# Add brightness parameter H\n",
    "elts_add_H(elts=elts)"
   ]
  },
  {
   "cell_type": "code",
   "execution_count": null,
   "metadata": {},
   "outputs": [],
   "source": [
    "# # Review perturbed elements; includes nearest asteroid number and distance\n",
    "# elts"
   ]
  },
  {
   "cell_type": "markdown",
   "metadata": {},
   "source": [
    "## Build Asteroid Search Model"
   ]
  },
  {
   "cell_type": "code",
   "execution_count": null,
   "metadata": {},
   "outputs": [],
   "source": [
    "# Observatory for ZTF data is Palomar Mountain\n",
    "site_name = 'palomar'"
   ]
  },
  {
   "cell_type": "code",
   "execution_count": null,
   "metadata": {},
   "outputs": [],
   "source": [
    "# Training parameters\n",
    "learning_rate = 2.0**-12\n",
    "clipnorm = 1.0"
   ]
  },
  {
   "cell_type": "code",
   "execution_count": null,
   "metadata": {},
   "outputs": [],
   "source": [
    "# The file name for the saved model\n",
    "file_name = file_name_model(seed=random_seed, known_ast=known_ast, \n",
    "                            batch_size_init=batch_size_init, batch_size=batch_size, thresh_deg=thresh_deg)"
   ]
  },
  {
   "cell_type": "code",
   "execution_count": null,
   "metadata": {},
   "outputs": [],
   "source": [
    "# Build asteroid search model\n",
    "model = AsteroidSearchModel(\n",
    "                elts=elts, ztf_elt=ztf_elt, \n",
    "                site_name=site_name, thresh_deg=thresh_deg, \n",
    "                learning_rate=learning_rate, clipnorm=clipnorm,\n",
    "                name='model',\n",
    "                file_name=file_name,\n",
    ")"
   ]
  },
  {
   "cell_type": "code",
   "execution_count": null,
   "metadata": {},
   "outputs": [],
   "source": [
    "# Load trained model\n",
    "model.load()"
   ]
  },
  {
   "cell_type": "code",
   "execution_count": null,
   "metadata": {},
   "outputs": [],
   "source": [
    "# Report before training starts\n",
    "model.report()"
   ]
  },
  {
   "cell_type": "code",
   "execution_count": null,
   "metadata": {},
   "outputs": [],
   "source": [
    "# Generate fitted elements\n",
    "elts_fit = model.candidates_df()"
   ]
  },
  {
   "cell_type": "code",
   "execution_count": null,
   "metadata": {},
   "outputs": [],
   "source": [
    "cols = ['element_id', 'a', 'e', 'inc', 'Omega', 'omega', 'f', 'epoch',\n",
    "        'num_hits', 'R', 'R_deg', 'R_sec', 'R_max', 'R_deg_max', 'thresh_s',\n",
    "        'thresh_deg', 'thresh_sec', 'log_like', 'hits', 'num_rows_close']"
   ]
  },
  {
   "cell_type": "code",
   "execution_count": null,
   "metadata": {},
   "outputs": [],
   "source": [
    "elts_fit[cols]"
   ]
  },
  {
   "cell_type": "code",
   "execution_count": null,
   "metadata": {},
   "outputs": [],
   "source": [
    "# Save ztf_hits to ztf_hits_known_ast or ztf_unknown_ast"
   ]
  },
  {
   "cell_type": "code",
   "execution_count": null,
   "metadata": {},
   "outputs": [],
   "source": [
    "# Generate ZTF hits\n",
    "ztf_hit = model.calc_ztf_hits()"
   ]
  },
  {
   "cell_type": "code",
   "execution_count": null,
   "metadata": {},
   "outputs": [],
   "source": [
    "# ztf_hit"
   ]
  },
  {
   "cell_type": "code",
   "execution_count": null,
   "metadata": {},
   "outputs": [],
   "source": [
    "elts_fit, elts_near_ast = model.nearest_ast()"
   ]
  },
  {
   "cell_type": "code",
   "execution_count": null,
   "metadata": {},
   "outputs": [],
   "source": [
    "# Review asteroids nearest to the fitted elements\n",
    "cols = ['element_id', 'log_like', 'hits', 'R_sec', 'thresh_sec', 'nearest_ast_num', 'nearest_ast_dist', 'nearest_ast_q_norm']\n",
    "\n",
    "# Summary\n",
    "has_hits = (model.elts_fit.hits >= 5)\n",
    "is_converged = has_hits\n",
    "num_converged = np.sum(is_converged)\n",
    "\n",
    "# Mean on converged\n",
    "mean_hits = np.mean(model.elts_fit.hits[is_converged])\n",
    "mean_R_sec = np.mean(model.elts_fit.R_sec[is_converged])\n",
    "err_cart_mean = np.mean(model.elts_near_ast.nearest_ast_dist[is_converged])\n",
    "err_cart_geo = np.exp(np.mean(np.log(model.elts_near_ast.nearest_ast_dist[is_converged])))\n",
    "err_cov_mean = np.exp(np.mean(np.log(model.elts_near_ast.nearest_ast_q_norm[is_converged])))\n",
    "\n",
    "# Report\n",
    "print(f'Good convergence on {num_converged} asteroids.')\n",
    "print(f'Mean on converged asteroids:')\n",
    "print(f'Number of hits         : {mean_hits:5.2f}')\n",
    "print(f'Resolution in arc sec  : {mean_R_sec:5.2f}')\n",
    "print(f'GeoMean Distance in AU : {err_cart_geo:5.2e}')\n",
    "print(f'Covariance norm        : {err_cov_mean:5.2e}')"
   ]
  },
  {
   "cell_type": "code",
   "execution_count": null,
   "metadata": {},
   "outputs": [],
   "source": [
    "# Review good matches\n",
    "model.elts_fit[cols][is_converged].sort_values(by=['hits', 'R_sec'], ascending=[False, True])"
   ]
  },
  {
   "cell_type": "code",
   "execution_count": null,
   "metadata": {},
   "outputs": [],
   "source": []
  }
 ],
 "metadata": {
  "kernelspec": {
   "display_name": "Python [conda env:kepler]",
   "language": "python",
   "name": "conda-env-kepler-py"
  },
  "language_info": {
   "codemirror_mode": {
    "name": "ipython",
    "version": 3
   },
   "file_extension": ".py",
   "mimetype": "text/x-python",
   "name": "python",
   "nbconvert_exporter": "python",
   "pygments_lexer": "ipython3",
   "version": "3.7.6"
  }
 },
 "nbformat": 4,
 "nbformat_minor": 4
}
