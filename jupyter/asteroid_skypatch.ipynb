{
 "cells": [
  {
   "cell_type": "code",
   "execution_count": 1,
   "metadata": {},
   "outputs": [],
   "source": [
    "# Core\n",
    "import numpy as np\n",
    "import pandas as pd\n",
    "\n",
    "import time"
   ]
  },
  {
   "cell_type": "code",
   "execution_count": 2,
   "metadata": {},
   "outputs": [],
   "source": [
    "# Local imports\n",
    "import kepler_sieve\n",
    "from asteroid_skypatch import calc_ast_skypatch, test_skypatch_dir\n",
    "from asteroid_direction import ast, c, mpd, dpm, prep_ast_block, calc_dir_ast_block\n",
    "from asteroid_spline import make_spline_ast_dir\n",
    "from sky_patch import dir2SkyPatchID, SkyPatchID2dir\n",
    "from db_utils import sp2df, df2db"
   ]
  },
  {
   "source": [
    "# Build block of asteroid directions at high resolution"
   ],
   "cell_type": "markdown",
   "metadata": {}
  },
  {
   "cell_type": "code",
   "execution_count": 3,
   "metadata": {},
   "outputs": [],
   "source": [
    "# Asteroid block\n",
    "n0: int = 1\n",
    "n1: int = 100\n",
    "\n",
    "# Time range for asteroid directions\n",
    "mjd0: int = 58000\n",
    "mjd1: int = 60000\n",
    "interval_min: int = 15"
   ]
  },
  {
   "cell_type": "code",
   "execution_count": 4,
   "metadata": {},
   "outputs": [],
   "source": [
    "# Asteroid block\n",
    "n0: int = 1\n",
    "n1: int = 3\n",
    "\n",
    "# Time range for asteroid directions\n",
    "mjd0: int = 58000\n",
    "mjd1: int = 60000\n",
    "interval_min: int = 15"
   ]
  },
  {
   "cell_type": "code",
   "execution_count": 5,
   "metadata": {},
   "outputs": [],
   "source": [
    "t0 = time.time()\n",
    "df = calc_ast_skypatch(n0=n0, n1=n1, mjd0=mjd0, mjd1=mjd1, interval_min=interval_min)\n",
    "t1 = time.time()"
   ]
  },
  {
   "cell_type": "code",
   "execution_count": 6,
   "metadata": {},
   "outputs": [
    {
     "output_type": "stream",
     "name": "stdout",
     "text": [
      "Elapsed time with interval=15:  0.50\n"
     ]
    }
   ],
   "source": [
    "et = t1 - t0\n",
    "print(f'Elapsed time with interval={interval_min}: {et:5.2f}')"
   ]
  },
  {
   "cell_type": "code",
   "execution_count": 7,
   "metadata": {},
   "outputs": [
    {
     "output_type": "execute_result",
     "data": {
      "text/plain": [
       "       AsteroidID  Segment  SkyPatchID        ux        uy        uz  \\\n",
       "0               1        0     6382172 -0.378601  0.924673  0.040506   \n",
       "1               1        1     6382171 -0.379180  0.924433  0.040574   \n",
       "2               1        2     6384219 -0.379566  0.924272  0.040619   \n",
       "3               1        3     6384218 -0.379952  0.924112  0.040664   \n",
       "4               1        4     6384217 -0.380723  0.923790  0.040755   \n",
       "...           ...      ...         ...       ...       ...       ...   \n",
       "33092           2    18884     4488003 -0.138457  0.750757 -0.645905   \n",
       "33093           2    18885     4490051 -0.138616  0.751112 -0.645458   \n",
       "33094           2    18886     4490050 -0.138656  0.751201 -0.645346   \n",
       "33095           2    18887     4492098 -0.138777  0.751467 -0.645010   \n",
       "33096           2    18888     4494146 -0.138938  0.751821 -0.644562   \n",
       "\n",
       "       TimeID_0  TimeID_1  \n",
       "0      83520000  83520135  \n",
       "1      83520135  83520225  \n",
       "2      83520225  83520315  \n",
       "3      83520315  83520495  \n",
       "4      83520495  83520675  \n",
       "...         ...       ...  \n",
       "33092  86399550  86399670  \n",
       "33093  86399670  86399700  \n",
       "33094  86399700  86399790  \n",
       "33095  86399790  86399910  \n",
       "33096  86399910  86400110  \n",
       "\n",
       "[33097 rows x 8 columns]"
      ],
      "text/html": "<div>\n<style scoped>\n    .dataframe tbody tr th:only-of-type {\n        vertical-align: middle;\n    }\n\n    .dataframe tbody tr th {\n        vertical-align: top;\n    }\n\n    .dataframe thead th {\n        text-align: right;\n    }\n</style>\n<table border=\"1\" class=\"dataframe\">\n  <thead>\n    <tr style=\"text-align: right;\">\n      <th></th>\n      <th>AsteroidID</th>\n      <th>Segment</th>\n      <th>SkyPatchID</th>\n      <th>ux</th>\n      <th>uy</th>\n      <th>uz</th>\n      <th>TimeID_0</th>\n      <th>TimeID_1</th>\n    </tr>\n  </thead>\n  <tbody>\n    <tr>\n      <th>0</th>\n      <td>1</td>\n      <td>0</td>\n      <td>6382172</td>\n      <td>-0.378601</td>\n      <td>0.924673</td>\n      <td>0.040506</td>\n      <td>83520000</td>\n      <td>83520135</td>\n    </tr>\n    <tr>\n      <th>1</th>\n      <td>1</td>\n      <td>1</td>\n      <td>6382171</td>\n      <td>-0.379180</td>\n      <td>0.924433</td>\n      <td>0.040574</td>\n      <td>83520135</td>\n      <td>83520225</td>\n    </tr>\n    <tr>\n      <th>2</th>\n      <td>1</td>\n      <td>2</td>\n      <td>6384219</td>\n      <td>-0.379566</td>\n      <td>0.924272</td>\n      <td>0.040619</td>\n      <td>83520225</td>\n      <td>83520315</td>\n    </tr>\n    <tr>\n      <th>3</th>\n      <td>1</td>\n      <td>3</td>\n      <td>6384218</td>\n      <td>-0.379952</td>\n      <td>0.924112</td>\n      <td>0.040664</td>\n      <td>83520315</td>\n      <td>83520495</td>\n    </tr>\n    <tr>\n      <th>4</th>\n      <td>1</td>\n      <td>4</td>\n      <td>6384217</td>\n      <td>-0.380723</td>\n      <td>0.923790</td>\n      <td>0.040755</td>\n      <td>83520495</td>\n      <td>83520675</td>\n    </tr>\n    <tr>\n      <th>...</th>\n      <td>...</td>\n      <td>...</td>\n      <td>...</td>\n      <td>...</td>\n      <td>...</td>\n      <td>...</td>\n      <td>...</td>\n      <td>...</td>\n    </tr>\n    <tr>\n      <th>33092</th>\n      <td>2</td>\n      <td>18884</td>\n      <td>4488003</td>\n      <td>-0.138457</td>\n      <td>0.750757</td>\n      <td>-0.645905</td>\n      <td>86399550</td>\n      <td>86399670</td>\n    </tr>\n    <tr>\n      <th>33093</th>\n      <td>2</td>\n      <td>18885</td>\n      <td>4490051</td>\n      <td>-0.138616</td>\n      <td>0.751112</td>\n      <td>-0.645458</td>\n      <td>86399670</td>\n      <td>86399700</td>\n    </tr>\n    <tr>\n      <th>33094</th>\n      <td>2</td>\n      <td>18886</td>\n      <td>4490050</td>\n      <td>-0.138656</td>\n      <td>0.751201</td>\n      <td>-0.645346</td>\n      <td>86399700</td>\n      <td>86399790</td>\n    </tr>\n    <tr>\n      <th>33095</th>\n      <td>2</td>\n      <td>18887</td>\n      <td>4492098</td>\n      <td>-0.138777</td>\n      <td>0.751467</td>\n      <td>-0.645010</td>\n      <td>86399790</td>\n      <td>86399910</td>\n    </tr>\n    <tr>\n      <th>33096</th>\n      <td>2</td>\n      <td>18888</td>\n      <td>4494146</td>\n      <td>-0.138938</td>\n      <td>0.751821</td>\n      <td>-0.644562</td>\n      <td>86399910</td>\n      <td>86400110</td>\n    </tr>\n  </tbody>\n</table>\n<p>33097 rows × 8 columns</p>\n</div>"
     },
     "metadata": {},
     "execution_count": 7
    }
   ],
   "source": [
    "df"
   ]
  },
  {
   "source": [
    "# Test direction at midpoint of interval vs. center of sky patch"
   ],
   "cell_type": "markdown",
   "metadata": {}
  },
  {
   "cell_type": "code",
   "execution_count": 8,
   "metadata": {},
   "outputs": [],
   "source": [
    "# Time at the midpoint of each interval\n",
    "t_obs_0 = df.TimeID_0.values\n",
    "t_obs_1 = df.TimeID_1.values\n",
    "t_obs = (t_obs_0 + t_obs_1)/2.0"
   ]
  },
  {
   "cell_type": "code",
   "execution_count": 9,
   "metadata": {},
   "outputs": [],
   "source": [
    "# Extract arrays\n",
    "asteroid_id = df.AsteroidID.values\n",
    "sky_patch_id = df.SkyPatchID.values"
   ]
  },
  {
   "cell_type": "code",
   "execution_count": 10,
   "metadata": {},
   "outputs": [],
   "source": [
    "# Spline for asteroid directions vs. time\n",
    "spline_u = make_spline_ast_dir(n0=n0, n1=n1, mjd0=mjd0, mjd1=mjd1)"
   ]
  },
  {
   "cell_type": "code",
   "execution_count": 11,
   "metadata": {},
   "outputs": [],
   "source": [
    "# Evaluate splined asteroid directions\n",
    "u_ast, lt_ast = spline_u(ts=t_obs, asteroid_id=asteroid_id)"
   ]
  },
  {
   "cell_type": "code",
   "execution_count": 12,
   "metadata": {},
   "outputs": [],
   "source": [
    "# Direction used to build sky patch DataFrame\n",
    "cols_u = ['ux', 'uy', 'uz']\n",
    "u_df = df[cols_u].values"
   ]
  },
  {
   "cell_type": "code",
   "execution_count": 13,
   "metadata": {},
   "outputs": [
    {
     "output_type": "stream",
     "name": "stdout",
     "text": [
      "Angle Difference: spline vs. dataframe in degrees\n*Mean  :    85.070*\n Median:    73.371\n Max   :   179.445\n"
     ]
    }
   ],
   "source": [
    "du = test_skypatch_dir(name1='dataframe', name2='spline', u1=u_df, u2=u_ast, verbose=True)"
   ]
  },
  {
   "cell_type": "code",
   "execution_count": 44,
   "metadata": {},
   "outputs": [],
   "source": [
    "# Direction at the center of each sky patch\n",
    "N_sp = 1024\n",
    "u_sky = SkyPatchID2dir(SkyPatchID=sky_patch_id, N=N_sp)"
   ]
  },
  {
   "source": [
    "def test_skypatch_dir(name1: str, name2: str, u1: np.ndarray, u2: np.ndarray, verbose: bool=False) -> float:\n",
    "    \"\"\"\n",
    "    Report \n",
    "    INPUTS:\n",
    "        name1: Descriptive name of the first source, e.g. 'spline'\n",
    "        name2: Descriptive name of the second source, e.g. 'skypatch'\n",
    "        u1:    Array of directions from source 1; shape Nx3\n",
    "        u2:    Array of directions from source 2; shape Nx3\n",
    "        verbose: Whether to report results to console\n",
    "    \"\"\"\n",
    "    # Difference in unit directions\n",
    "    du = u2 - u1\n",
    "    du_norm = np.sqrt(np.sum(np.square(du), axis=-1))\n",
    "    du_deg =  dist2deg(du_norm)\n",
    "\n",
    "    # Calculate mean, median and max difference in degrees\n",
    "    du_mean = np.mean(du_deg)\n",
    "    du_median = np.median(du_deg)\n",
    "    du_max = np.max(du_deg)\n",
    "\n",
    "    if verbose:\n",
    "        print(f'Angle Difference: {name2} vs. {name1} in degrees')\n",
    "        print(f'*Mean  : {du_mean:9.3f}*')\n",
    "        print(f' Median: {du_median:9.3f}')\n",
    "        print(f' Max   : {du_max:9.3f}')\n",
    "\n",
    "    # Return the difference of direction vectors in seconds of arc\n",
    "    return du_mean"
   ],
   "cell_type": "code",
   "metadata": {},
   "execution_count": 45,
   "outputs": []
  },
  {
   "cell_type": "code",
   "execution_count": 24,
   "metadata": {},
   "outputs": [
    {
     "output_type": "execute_result",
     "data": {
      "text/plain": [
       "array([ 0.93255028, -0.29471628, -0.20854808])"
      ]
     },
     "metadata": {},
     "execution_count": 24
    }
   ],
   "source": [
    "u_ast[0]"
   ]
  },
  {
   "cell_type": "code",
   "execution_count": 41,
   "metadata": {},
   "outputs": [],
   "source": [
    "du = u_ast - u_sky"
   ]
  },
  {
   "cell_type": "code",
   "execution_count": 42,
   "metadata": {},
   "outputs": [
    {
     "output_type": "execute_result",
     "data": {
      "text/plain": [
       "array([[-0.57847284, -0.89696923,  0.24773406],\n",
       "       [-0.57769985, -0.89665278,  0.24774781],\n",
       "       [-0.57771376, -0.89661889,  0.24684668],\n",
       "       ...,\n",
       "       [-0.11748641,  0.07553611,  0.00161565],\n",
       "       [-0.11698531,  0.07516902,  0.00156063],\n",
       "       [-0.11648352,  0.07480191,  0.00150559]])"
      ]
     },
     "metadata": {},
     "execution_count": 42
    }
   ],
   "source": [
    "du"
   ]
  },
  {
   "cell_type": "code",
   "execution_count": null,
   "metadata": {},
   "outputs": [],
   "source": []
  }
 ],
 "metadata": {
  "kernelspec": {
   "display_name": "kepler",
   "language": "python",
   "name": "kepler"
  },
  "language_info": {
   "codemirror_mode": {
    "name": "ipython",
    "version": 3
   },
   "file_extension": ".py",
   "mimetype": "text/x-python",
   "name": "python",
   "nbconvert_exporter": "python",
   "pygments_lexer": "ipython3",
   "version": "3.8.5"
  }
 },
 "nbformat": 4,
 "nbformat_minor": 4
}