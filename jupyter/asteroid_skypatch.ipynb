{
 "cells": [
  {
   "cell_type": "code",
   "execution_count": 1,
   "metadata": {},
   "outputs": [],
   "source": [
    "# Core\n",
    "import numpy as np\n",
    "import pandas as pd"
   ]
  },
  {
   "cell_type": "code",
   "execution_count": 2,
   "metadata": {},
   "outputs": [],
   "source": [
    "# Local imports\n",
    "import kepler_sieve\n",
    "from asteroid_direction import ast, c, mpd, dpm, prep_ast_block, calc_dir_ast_block\n",
    "from asteroid_spline import make_spline_ast_dir\n",
    "from sky_patch import dir2SkyPatchID\n",
    "from db_utils import sp2df, df2db"
   ]
  },
  {
   "source": [
    "# Build block of asteroid directions at high resolution"
   ],
   "cell_type": "markdown",
   "metadata": {}
  },
  {
   "cell_type": "code",
   "execution_count": 3,
   "metadata": {},
   "outputs": [],
   "source": [
    "# Time range for asteroid directions\n",
    "mjd0: int = 58000\n",
    "mjd1: int = 60000\n",
    "# interval_min: int = 1\n",
    "interval_min: int = 5\n",
    "\n",
    "# Asteroid block\n",
    "n0: int = 1\n",
    "n1: int = 11"
   ]
  },
  {
   "cell_type": "code",
   "execution_count": 4,
   "metadata": {},
   "outputs": [],
   "source": [
    "# Prepare asteroid block\n",
    "t_obs, asteroid_id = prep_ast_block(n0=n0, n1=n1, mjd0=mjd0, mjd1=mjd1, interval_min=interval_min)"
   ]
  },
  {
   "cell_type": "code",
   "execution_count": 5,
   "metadata": {},
   "outputs": [],
   "source": [
    "# Build spline of asteroid direction\n",
    "spline_u = make_spline_ast_dir(n0=n0, n1=n1, mjd0=mjd0, mjd1=mjd1)"
   ]
  },
  {
   "cell_type": "code",
   "execution_count": 6,
   "metadata": {},
   "outputs": [],
   "source": [
    "# Calculate asteroid directions from position and velocity\n",
    "u_ast, light_time = spline_u(t_obs, asteroid_id)"
   ]
  },
  {
   "cell_type": "code",
   "execution_count": 7,
   "metadata": {},
   "outputs": [],
   "source": [
    "# The TimeID\n",
    "time_id = np.round(t_obs * mpd).astype(np.int64)"
   ]
  },
  {
   "cell_type": "code",
   "execution_count": 8,
   "metadata": {},
   "outputs": [],
   "source": [
    "# Calculate the SkyPatchID\n",
    "N_sp = 1024\n",
    "sky_patch_id = dir2SkyPatchID(dir=u_ast, N=N_sp)"
   ]
  },
  {
   "cell_type": "code",
   "execution_count": 9,
   "metadata": {},
   "outputs": [],
   "source": [
    "# Calculate the asteroid number in this batch from asteroid_id\n",
    "asteroid_id_unq = np.unique(asteroid_id)\n",
    "N_ast = asteroid_id_unq.shape[0]\n",
    "ast_bn_unq = np.arange(N_ast, dtype=np.int)\n",
    "ast_bn = np.searchsorted(asteroid_id_unq, asteroid_id)"
   ]
  },
  {
   "cell_type": "code",
   "execution_count": 10,
   "metadata": {},
   "outputs": [],
   "source": [
    "# ast_bn"
   ]
  },
  {
   "cell_type": "code",
   "execution_count": 12,
   "metadata": {},
   "outputs": [],
   "source": [
    "# Number of rows\n",
    "N_row = asteroid_id.shape[0]"
   ]
  },
  {
   "cell_type": "code",
   "execution_count": 38,
   "metadata": {},
   "outputs": [],
   "source": [
    "# Rows with a new asteroid\n",
    "is_new_ast = np.ones(N_row, dtype=np.bool)\n",
    "is_new_ast[1:N_row] = (asteroid_id[1:N_row] != asteroid_id[0:N_row-1])\n",
    "idx_new_ast = np.argwhere(is_new_ast).flatten()"
   ]
  },
  {
   "cell_type": "code",
   "execution_count": null,
   "metadata": {},
   "outputs": [],
   "source": [
    "# Rows with a new sky patch entry; includes row with a new asteroid\n",
    "is_new_skypatch = np.ones(N_row, dtype=np.bool)\n",
    "is_new_skypatch[1:N_row] = (sky_patch_id[1:N_row] != sky_patch_id[0:N_row-1])"
   ]
  },
  {
   "cell_type": "code",
   "execution_count": 29,
   "metadata": {},
   "outputs": [],
   "source": [
    "# Flag for last segment\n",
    "is_last_segment = np.zeros(N_row, dtype=np.bool)\n",
    "is_last_segment[idx_new_ast-1] = True"
   ]
  },
  {
   "cell_type": "code",
   "execution_count": 39,
   "metadata": {},
   "outputs": [],
   "source": [
    "# Combined mask for interior segments\n",
    "mask = (is_new_ast | is_new_skypatch) & (~is_last_segment)"
   ]
  },
  {
   "cell_type": "code",
   "execution_count": 40,
   "metadata": {},
   "outputs": [],
   "source": [
    "# Row numbers for these masks\n",
    "idx = np.argwhere(mask).flatten()"
   ]
  },
  {
   "cell_type": "code",
   "execution_count": 41,
   "metadata": {},
   "outputs": [],
   "source": [
    "# The segment number, increasing across all asteroids in batch\n",
    "sn_cum = np.cumsum(mask)\n",
    "sn_base = sn_cum[is_new_ast]\n",
    "sn = sn_cum - sn_base[ast_bn]"
   ]
  },
  {
   "cell_type": "code",
   "execution_count": 47,
   "metadata": {},
   "outputs": [],
   "source": [
    "# Wrap into DataFrame\n",
    "df_tbl = {\n",
    "    'AsteroidID': asteroid_id,\n",
    "    'Segment': sn,\n",
    "    'TimeID': time_id,\n",
    "    'tObs': t_obs,\n",
    "    'ux': u_ast[:, 0],\n",
    "    'uy': u_ast[:, 1],\n",
    "    'uz': u_ast[:, 2],\n",
    "    'LightTime': light_time,\n",
    "    'SkyPatchID': sky_patch_id,\n",
    "}\n",
    "\n",
    "df_all = pd.DataFrame(df_tbl)"
   ]
  },
  {
   "cell_type": "code",
   "execution_count": 48,
   "metadata": {},
   "outputs": [
    {
     "output_type": "execute_result",
     "data": {
      "text/plain": [
       "         AsteroidID  Segment    TimeID          tObs        ux        uy  \\\n",
       "0                 1        0  83520000  58000.000000 -0.378601  0.924673   \n",
       "1                 1        0  83520005  58000.003472 -0.378623  0.924664   \n",
       "2                 1        0  83520010  58000.006944 -0.378644  0.924655   \n",
       "3                 1        0  83520015  58000.010417 -0.378665  0.924647   \n",
       "4                 1        0  83520020  58000.013889 -0.378687  0.924638   \n",
       "...             ...      ...       ...           ...       ...       ...   \n",
       "5760005          10    11744  86399980  59999.986111  0.452085 -0.891974   \n",
       "5760006          10    11744  86399985  59999.989583  0.452105 -0.891964   \n",
       "5760007          10    11744  86399990  59999.993056  0.452126 -0.891953   \n",
       "5760008          10    11744  86399995  59999.996528  0.452146 -0.891943   \n",
       "5760009          10    11744  86400000  60000.000000  0.452167 -0.891933   \n",
       "\n",
       "               uz  LightTime  SkyPatchID  \n",
       "0        0.040506  26.537850     6382172  \n",
       "1        0.040508  26.537543     6382172  \n",
       "2        0.040511  26.537237     6382172  \n",
       "3        0.040513  26.536930     6382172  \n",
       "4        0.040516  26.536623     6382172  \n",
       "...           ...        ...         ...  \n",
       "5760005  0.001213  29.877185    18877959  \n",
       "5760006  0.001213  29.876963    18877959  \n",
       "5760007  0.001214  29.876741    18877959  \n",
       "5760008  0.001215  29.876518    18877959  \n",
       "5760009  0.001215  29.876296    18877959  \n",
       "\n",
       "[5760010 rows x 9 columns]"
      ],
      "text/html": "<div>\n<style scoped>\n    .dataframe tbody tr th:only-of-type {\n        vertical-align: middle;\n    }\n\n    .dataframe tbody tr th {\n        vertical-align: top;\n    }\n\n    .dataframe thead th {\n        text-align: right;\n    }\n</style>\n<table border=\"1\" class=\"dataframe\">\n  <thead>\n    <tr style=\"text-align: right;\">\n      <th></th>\n      <th>AsteroidID</th>\n      <th>Segment</th>\n      <th>TimeID</th>\n      <th>tObs</th>\n      <th>ux</th>\n      <th>uy</th>\n      <th>uz</th>\n      <th>LightTime</th>\n      <th>SkyPatchID</th>\n    </tr>\n  </thead>\n  <tbody>\n    <tr>\n      <th>0</th>\n      <td>1</td>\n      <td>0</td>\n      <td>83520000</td>\n      <td>58000.000000</td>\n      <td>-0.378601</td>\n      <td>0.924673</td>\n      <td>0.040506</td>\n      <td>26.537850</td>\n      <td>6382172</td>\n    </tr>\n    <tr>\n      <th>1</th>\n      <td>1</td>\n      <td>0</td>\n      <td>83520005</td>\n      <td>58000.003472</td>\n      <td>-0.378623</td>\n      <td>0.924664</td>\n      <td>0.040508</td>\n      <td>26.537543</td>\n      <td>6382172</td>\n    </tr>\n    <tr>\n      <th>2</th>\n      <td>1</td>\n      <td>0</td>\n      <td>83520010</td>\n      <td>58000.006944</td>\n      <td>-0.378644</td>\n      <td>0.924655</td>\n      <td>0.040511</td>\n      <td>26.537237</td>\n      <td>6382172</td>\n    </tr>\n    <tr>\n      <th>3</th>\n      <td>1</td>\n      <td>0</td>\n      <td>83520015</td>\n      <td>58000.010417</td>\n      <td>-0.378665</td>\n      <td>0.924647</td>\n      <td>0.040513</td>\n      <td>26.536930</td>\n      <td>6382172</td>\n    </tr>\n    <tr>\n      <th>4</th>\n      <td>1</td>\n      <td>0</td>\n      <td>83520020</td>\n      <td>58000.013889</td>\n      <td>-0.378687</td>\n      <td>0.924638</td>\n      <td>0.040516</td>\n      <td>26.536623</td>\n      <td>6382172</td>\n    </tr>\n    <tr>\n      <th>...</th>\n      <td>...</td>\n      <td>...</td>\n      <td>...</td>\n      <td>...</td>\n      <td>...</td>\n      <td>...</td>\n      <td>...</td>\n      <td>...</td>\n      <td>...</td>\n    </tr>\n    <tr>\n      <th>5760005</th>\n      <td>10</td>\n      <td>11744</td>\n      <td>86399980</td>\n      <td>59999.986111</td>\n      <td>0.452085</td>\n      <td>-0.891974</td>\n      <td>0.001213</td>\n      <td>29.877185</td>\n      <td>18877959</td>\n    </tr>\n    <tr>\n      <th>5760006</th>\n      <td>10</td>\n      <td>11744</td>\n      <td>86399985</td>\n      <td>59999.989583</td>\n      <td>0.452105</td>\n      <td>-0.891964</td>\n      <td>0.001213</td>\n      <td>29.876963</td>\n      <td>18877959</td>\n    </tr>\n    <tr>\n      <th>5760007</th>\n      <td>10</td>\n      <td>11744</td>\n      <td>86399990</td>\n      <td>59999.993056</td>\n      <td>0.452126</td>\n      <td>-0.891953</td>\n      <td>0.001214</td>\n      <td>29.876741</td>\n      <td>18877959</td>\n    </tr>\n    <tr>\n      <th>5760008</th>\n      <td>10</td>\n      <td>11744</td>\n      <td>86399995</td>\n      <td>59999.996528</td>\n      <td>0.452146</td>\n      <td>-0.891943</td>\n      <td>0.001215</td>\n      <td>29.876518</td>\n      <td>18877959</td>\n    </tr>\n    <tr>\n      <th>5760009</th>\n      <td>10</td>\n      <td>11744</td>\n      <td>86400000</td>\n      <td>60000.000000</td>\n      <td>0.452167</td>\n      <td>-0.891933</td>\n      <td>0.001215</td>\n      <td>29.876296</td>\n      <td>18877959</td>\n    </tr>\n  </tbody>\n</table>\n<p>5760010 rows × 9 columns</p>\n</div>"
     },
     "metadata": {},
     "execution_count": 48
    }
   ],
   "source": [
    "df_all"
   ]
  },
  {
   "cell_type": "code",
   "execution_count": 44,
   "metadata": {},
   "outputs": [],
   "source": [
    "# TimeID of each segment\n",
    "time_id_0 = time_id[idx]\n",
    "time_id_1 = time_id[idx+1]"
   ]
  },
  {
   "cell_type": "code",
   "execution_count": 51,
   "metadata": {},
   "outputs": [],
   "source": [
    "# Create DataFrame for just the rows that start interior segments\n",
    "cols = ['AsteroidID', 'Segment', 'SkyPatchID']\n",
    "df = df_all.loc[mask, cols]"
   ]
  },
  {
   "cell_type": "code",
   "execution_count": 53,
   "metadata": {},
   "outputs": [],
   "source": [
    "df['TimeID_0'] = time_id_0\n",
    "df['TimeID_1'] = time_id_1"
   ]
  },
  {
   "cell_type": "code",
   "execution_count": 54,
   "metadata": {},
   "outputs": [
    {
     "output_type": "execute_result",
     "data": {
      "text/plain": [
       "         AsteroidID  Segment  SkyPatchID  TimeID_0  TimeID_1\n",
       "0                 1        0     6382172  83520000  83520005\n",
       "27                1        1     6382171  83520135  83520140\n",
       "45                1        2     6384219  83520225  83520230\n",
       "63                1        3     6384218  83520315  83520320\n",
       "99                1        4     6384217  83520495  83520500\n",
       "...             ...      ...         ...       ...       ...\n",
       "5759870          10    11740    18877955  86399305  86399310\n",
       "5759904          10    11741    18877956  86399475  86399480\n",
       "5759938          10    11742    18877957  86399645  86399650\n",
       "5759972          10    11743    18877958  86399815  86399820\n",
       "5760005          10    11744    18877959  86399980  86399985\n",
       "\n",
       "[156665 rows x 5 columns]"
      ],
      "text/html": "<div>\n<style scoped>\n    .dataframe tbody tr th:only-of-type {\n        vertical-align: middle;\n    }\n\n    .dataframe tbody tr th {\n        vertical-align: top;\n    }\n\n    .dataframe thead th {\n        text-align: right;\n    }\n</style>\n<table border=\"1\" class=\"dataframe\">\n  <thead>\n    <tr style=\"text-align: right;\">\n      <th></th>\n      <th>AsteroidID</th>\n      <th>Segment</th>\n      <th>SkyPatchID</th>\n      <th>TimeID_0</th>\n      <th>TimeID_1</th>\n    </tr>\n  </thead>\n  <tbody>\n    <tr>\n      <th>0</th>\n      <td>1</td>\n      <td>0</td>\n      <td>6382172</td>\n      <td>83520000</td>\n      <td>83520005</td>\n    </tr>\n    <tr>\n      <th>27</th>\n      <td>1</td>\n      <td>1</td>\n      <td>6382171</td>\n      <td>83520135</td>\n      <td>83520140</td>\n    </tr>\n    <tr>\n      <th>45</th>\n      <td>1</td>\n      <td>2</td>\n      <td>6384219</td>\n      <td>83520225</td>\n      <td>83520230</td>\n    </tr>\n    <tr>\n      <th>63</th>\n      <td>1</td>\n      <td>3</td>\n      <td>6384218</td>\n      <td>83520315</td>\n      <td>83520320</td>\n    </tr>\n    <tr>\n      <th>99</th>\n      <td>1</td>\n      <td>4</td>\n      <td>6384217</td>\n      <td>83520495</td>\n      <td>83520500</td>\n    </tr>\n    <tr>\n      <th>...</th>\n      <td>...</td>\n      <td>...</td>\n      <td>...</td>\n      <td>...</td>\n      <td>...</td>\n    </tr>\n    <tr>\n      <th>5759870</th>\n      <td>10</td>\n      <td>11740</td>\n      <td>18877955</td>\n      <td>86399305</td>\n      <td>86399310</td>\n    </tr>\n    <tr>\n      <th>5759904</th>\n      <td>10</td>\n      <td>11741</td>\n      <td>18877956</td>\n      <td>86399475</td>\n      <td>86399480</td>\n    </tr>\n    <tr>\n      <th>5759938</th>\n      <td>10</td>\n      <td>11742</td>\n      <td>18877957</td>\n      <td>86399645</td>\n      <td>86399650</td>\n    </tr>\n    <tr>\n      <th>5759972</th>\n      <td>10</td>\n      <td>11743</td>\n      <td>18877958</td>\n      <td>86399815</td>\n      <td>86399820</td>\n    </tr>\n    <tr>\n      <th>5760005</th>\n      <td>10</td>\n      <td>11744</td>\n      <td>18877959</td>\n      <td>86399980</td>\n      <td>86399985</td>\n    </tr>\n  </tbody>\n</table>\n<p>156665 rows × 5 columns</p>\n</div>"
     },
     "metadata": {},
     "execution_count": 54
    }
   ],
   "source": [
    "df"
   ]
  },
  {
   "cell_type": "code",
   "execution_count": 55,
   "metadata": {},
   "outputs": [],
   "source": [
    "dt = (df.TimeID_1 - df.TimeID_0).values"
   ]
  },
  {
   "cell_type": "code",
   "execution_count": 57,
   "metadata": {},
   "outputs": [
    {
     "output_type": "execute_result",
     "data": {
      "text/plain": [
       "5"
      ]
     },
     "metadata": {},
     "execution_count": 57
    }
   ],
   "source": [
    "np.min(dt)"
   ]
  },
  {
   "cell_type": "code",
   "execution_count": null,
   "metadata": {},
   "outputs": [],
   "source": []
  }
 ],
 "metadata": {
  "kernelspec": {
   "display_name": "kepler",
   "language": "python",
   "name": "kepler"
  },
  "language_info": {
   "codemirror_mode": {
    "name": "ipython",
    "version": 3
   },
   "file_extension": ".py",
   "mimetype": "text/x-python",
   "name": "python",
   "nbconvert_exporter": "python",
   "pygments_lexer": "ipython3",
   "version": "3.8.5"
  }
 },
 "nbformat": 4,
 "nbformat_minor": 4
}