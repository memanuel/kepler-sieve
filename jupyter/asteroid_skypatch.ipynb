{
 "cells": [
  {
   "cell_type": "code",
   "execution_count": 1,
   "metadata": {},
   "outputs": [],
   "source": [
    "# Core\n",
    "import numpy as np\n",
    "import pandas as pd"
   ]
  },
  {
   "cell_type": "code",
   "execution_count": 2,
   "metadata": {},
   "outputs": [],
   "source": [
    "# Local imports\n",
    "import kepler_sieve\n",
    "from asteroid_direction import ast, c, mpd, dpm, prep_ast_block, calc_dir_ast_block\n",
    "from asteroid_spline import make_spline_ast_dir\n",
    "from sky_patch import dir2SkyPatchID\n",
    "from db_utils import sp2df, df2db"
   ]
  },
  {
   "source": [
    "# Build block of asteroid directions at high resolution"
   ],
   "cell_type": "markdown",
   "metadata": {}
  },
  {
   "cell_type": "code",
   "execution_count": 3,
   "metadata": {},
   "outputs": [],
   "source": [
    "# Time range for asteroid directions\n",
    "mjd0: int = 58000\n",
    "mjd1: int = 60000\n",
    "# interval_min: int = 1\n",
    "interval_min: int = 5\n",
    "\n",
    "# Asteroid block\n",
    "n0: int = 1\n",
    "n1: int = 11"
   ]
  },
  {
   "cell_type": "code",
   "execution_count": 4,
   "metadata": {},
   "outputs": [],
   "source": [
    "# Prepare asteroid block\n",
    "t_obs, asteroid_id = prep_ast_block(n0=n0, n1=n1, mjd0=mjd0, mjd1=mjd1, interval_min=interval_min)"
   ]
  },
  {
   "cell_type": "code",
   "execution_count": 5,
   "metadata": {},
   "outputs": [],
   "source": [
    "# Build spline of asteroid direction\n",
    "spline_u = make_spline_ast_dir(n0=n0, n1=n1, mjd0=mjd0, mjd1=mjd1)"
   ]
  },
  {
   "cell_type": "code",
   "execution_count": 6,
   "metadata": {},
   "outputs": [],
   "source": [
    "# Calculate asteroid directions from position and velocity\n",
    "u_ast, light_time = spline_u(t_obs, asteroid_id)"
   ]
  },
  {
   "cell_type": "code",
   "execution_count": 7,
   "metadata": {},
   "outputs": [],
   "source": [
    "# The TimeID\n",
    "time_id = np.round(t_obs * mpd).astype(np.int64)"
   ]
  },
  {
   "cell_type": "code",
   "execution_count": 8,
   "metadata": {},
   "outputs": [],
   "source": [
    "# Calculate the SkyPatchID\n",
    "N_sp = 1024\n",
    "sky_patch_id = dir2SkyPatchID(dir=u_ast, N=N_sp)"
   ]
  },
  {
   "cell_type": "code",
   "execution_count": 9,
   "metadata": {},
   "outputs": [],
   "source": [
    "# Calculate the asteroid number in this batch from asteroid_id\n",
    "asteroid_id_unq = np.unique(asteroid_id)\n",
    "N_ast = asteroid_id_unq.shape[0]\n",
    "ast_bn_unq = np.arange(N_ast, dtype=np.int)\n",
    "ast_bn = np.searchsorted(asteroid_id_unq, asteroid_id)"
   ]
  },
  {
   "cell_type": "code",
   "execution_count": 10,
   "metadata": {},
   "outputs": [],
   "source": [
    "# ast_bn"
   ]
  },
  {
   "cell_type": "code",
   "execution_count": 11,
   "metadata": {},
   "outputs": [],
   "source": [
    "# Number of rows\n",
    "N_row = asteroid_id.shape[0]"
   ]
  },
  {
   "cell_type": "code",
   "execution_count": 12,
   "metadata": {},
   "outputs": [],
   "source": [
    "# Rows with a new asteroid\n",
    "is_new_ast = np.ones(N_row, dtype=np.bool)\n",
    "is_new_ast[1:N_row] = (asteroid_id[1:N_row] != asteroid_id[0:N_row-1])\n",
    "idx_new_ast = np.argwhere(is_new_ast).flatten()"
   ]
  },
  {
   "cell_type": "code",
   "execution_count": 13,
   "metadata": {},
   "outputs": [],
   "source": [
    "# Rows with a new sky patch entry; includes row with a new asteroid\n",
    "is_new_skypatch = np.ones(N_row, dtype=np.bool)\n",
    "is_new_skypatch[1:N_row] = (sky_patch_id[1:N_row] != sky_patch_id[0:N_row-1])"
   ]
  },
  {
   "cell_type": "code",
   "execution_count": 14,
   "metadata": {},
   "outputs": [],
   "source": [
    "# Flag for last segment\n",
    "is_last_segment = np.zeros(N_row, dtype=np.bool)\n",
    "is_last_segment[idx_new_ast-1] = True"
   ]
  },
  {
   "cell_type": "code",
   "execution_count": 15,
   "metadata": {},
   "outputs": [],
   "source": [
    "# Combined mask for interior segments\n",
    "mask_all = (is_new_ast | is_new_skypatch)\n",
    "mask_out = mask_all & (~is_last_segment)"
   ]
  },
  {
   "cell_type": "code",
   "execution_count": 16,
   "metadata": {},
   "outputs": [],
   "source": [
    "# Row numbers for these masks\n",
    "idx_all = np.argwhere(mask_all).flatten()\n",
    "idx_out = np.argwhere(mask_out).flatten()"
   ]
  },
  {
   "cell_type": "code",
   "execution_count": 17,
   "metadata": {},
   "outputs": [],
   "source": [
    "# The segment number, increasing across all asteroids in batch\n",
    "sn_cum = np.cumsum(mask_all)\n",
    "sn_base = sn_cum[is_new_ast]\n",
    "sn = sn_cum - sn_base[ast_bn]"
   ]
  },
  {
   "cell_type": "code",
   "execution_count": 22,
   "metadata": {},
   "outputs": [
    {
     "output_type": "execute_result",
     "data": {
      "text/plain": [
       "10"
      ]
     },
     "metadata": {},
     "execution_count": 22
    }
   ],
   "source": [
    "np.sum(is_last_segment)"
   ]
  },
  {
   "cell_type": "code",
   "execution_count": 24,
   "metadata": {},
   "outputs": [
    {
     "output_type": "execute_result",
     "data": {
      "text/plain": [
       "156665"
      ]
     },
     "metadata": {},
     "execution_count": 24
    }
   ],
   "source": [
    "np.sum(mask_out)"
   ]
  },
  {
   "cell_type": "code",
   "execution_count": 28,
   "metadata": {},
   "outputs": [],
   "source": [
    "# Wrap into DataFrame\n",
    "df_tbl = {\n",
    "    'AsteroidID': asteroid_id,\n",
    "    'Segment': sn,\n",
    "    'TimeID': time_id,\n",
    "    'SkyPatchID': sky_patch_id,\n",
    "    'IsOutput': mask_out,\n",
    "}\n",
    "\n",
    "df_all = pd.DataFrame(df_tbl)"
   ]
  },
  {
   "cell_type": "code",
   "execution_count": 29,
   "metadata": {},
   "outputs": [
    {
     "output_type": "execute_result",
     "data": {
      "text/plain": [
       "         AsteroidID  Segment    TimeID  SkyPatchID  IsOutput\n",
       "0                 1        0  83520000     6382172      True\n",
       "1                 1        0  83520005     6382172     False\n",
       "2                 1        0  83520010     6382172     False\n",
       "3                 1        0  83520015     6382172     False\n",
       "4                 1        0  83520020     6382172     False\n",
       "...             ...      ...       ...         ...       ...\n",
       "5760005          10    11744  86399980    18877959      True\n",
       "5760006          10    11744  86399985    18877959     False\n",
       "5760007          10    11744  86399990    18877959     False\n",
       "5760008          10    11744  86399995    18877959     False\n",
       "5760009          10    11744  86400000    18877959     False\n",
       "\n",
       "[5760010 rows x 5 columns]"
      ],
      "text/html": "<div>\n<style scoped>\n    .dataframe tbody tr th:only-of-type {\n        vertical-align: middle;\n    }\n\n    .dataframe tbody tr th {\n        vertical-align: top;\n    }\n\n    .dataframe thead th {\n        text-align: right;\n    }\n</style>\n<table border=\"1\" class=\"dataframe\">\n  <thead>\n    <tr style=\"text-align: right;\">\n      <th></th>\n      <th>AsteroidID</th>\n      <th>Segment</th>\n      <th>TimeID</th>\n      <th>SkyPatchID</th>\n      <th>IsOutput</th>\n    </tr>\n  </thead>\n  <tbody>\n    <tr>\n      <th>0</th>\n      <td>1</td>\n      <td>0</td>\n      <td>83520000</td>\n      <td>6382172</td>\n      <td>True</td>\n    </tr>\n    <tr>\n      <th>1</th>\n      <td>1</td>\n      <td>0</td>\n      <td>83520005</td>\n      <td>6382172</td>\n      <td>False</td>\n    </tr>\n    <tr>\n      <th>2</th>\n      <td>1</td>\n      <td>0</td>\n      <td>83520010</td>\n      <td>6382172</td>\n      <td>False</td>\n    </tr>\n    <tr>\n      <th>3</th>\n      <td>1</td>\n      <td>0</td>\n      <td>83520015</td>\n      <td>6382172</td>\n      <td>False</td>\n    </tr>\n    <tr>\n      <th>4</th>\n      <td>1</td>\n      <td>0</td>\n      <td>83520020</td>\n      <td>6382172</td>\n      <td>False</td>\n    </tr>\n    <tr>\n      <th>...</th>\n      <td>...</td>\n      <td>...</td>\n      <td>...</td>\n      <td>...</td>\n      <td>...</td>\n    </tr>\n    <tr>\n      <th>5760005</th>\n      <td>10</td>\n      <td>11744</td>\n      <td>86399980</td>\n      <td>18877959</td>\n      <td>True</td>\n    </tr>\n    <tr>\n      <th>5760006</th>\n      <td>10</td>\n      <td>11744</td>\n      <td>86399985</td>\n      <td>18877959</td>\n      <td>False</td>\n    </tr>\n    <tr>\n      <th>5760007</th>\n      <td>10</td>\n      <td>11744</td>\n      <td>86399990</td>\n      <td>18877959</td>\n      <td>False</td>\n    </tr>\n    <tr>\n      <th>5760008</th>\n      <td>10</td>\n      <td>11744</td>\n      <td>86399995</td>\n      <td>18877959</td>\n      <td>False</td>\n    </tr>\n    <tr>\n      <th>5760009</th>\n      <td>10</td>\n      <td>11744</td>\n      <td>86400000</td>\n      <td>18877959</td>\n      <td>False</td>\n    </tr>\n  </tbody>\n</table>\n<p>5760010 rows × 5 columns</p>\n</div>"
     },
     "metadata": {},
     "execution_count": 29
    }
   ],
   "source": [
    "df_all"
   ]
  },
  {
   "cell_type": "code",
   "execution_count": 30,
   "metadata": {},
   "outputs": [],
   "source": [
    "# Create DataFrame for just the rows that start interior segments\n",
    "cols = ['AsteroidID', 'Segment', 'SkyPatchID', 'TimeID', 'IsOutput']\n",
    "df = df_all.loc[mask_all, cols]"
   ]
  },
  {
   "cell_type": "code",
   "execution_count": 31,
   "metadata": {},
   "outputs": [
    {
     "output_type": "execute_result",
     "data": {
      "text/plain": [
       "         AsteroidID  Segment  SkyPatchID    TimeID  IsOutput\n",
       "0                 1        0     6382172  83520000      True\n",
       "27                1        1     6382171  83520135      True\n",
       "45                1        2     6384219  83520225      True\n",
       "63                1        3     6384218  83520315      True\n",
       "99                1        4     6384217  83520495      True\n",
       "...             ...      ...         ...       ...       ...\n",
       "5759870          10    11740    18877955  86399305      True\n",
       "5759904          10    11741    18877956  86399475      True\n",
       "5759938          10    11742    18877957  86399645      True\n",
       "5759972          10    11743    18877958  86399815      True\n",
       "5760005          10    11744    18877959  86399980      True\n",
       "\n",
       "[156665 rows x 5 columns]"
      ],
      "text/html": "<div>\n<style scoped>\n    .dataframe tbody tr th:only-of-type {\n        vertical-align: middle;\n    }\n\n    .dataframe tbody tr th {\n        vertical-align: top;\n    }\n\n    .dataframe thead th {\n        text-align: right;\n    }\n</style>\n<table border=\"1\" class=\"dataframe\">\n  <thead>\n    <tr style=\"text-align: right;\">\n      <th></th>\n      <th>AsteroidID</th>\n      <th>Segment</th>\n      <th>SkyPatchID</th>\n      <th>TimeID</th>\n      <th>IsOutput</th>\n    </tr>\n  </thead>\n  <tbody>\n    <tr>\n      <th>0</th>\n      <td>1</td>\n      <td>0</td>\n      <td>6382172</td>\n      <td>83520000</td>\n      <td>True</td>\n    </tr>\n    <tr>\n      <th>27</th>\n      <td>1</td>\n      <td>1</td>\n      <td>6382171</td>\n      <td>83520135</td>\n      <td>True</td>\n    </tr>\n    <tr>\n      <th>45</th>\n      <td>1</td>\n      <td>2</td>\n      <td>6384219</td>\n      <td>83520225</td>\n      <td>True</td>\n    </tr>\n    <tr>\n      <th>63</th>\n      <td>1</td>\n      <td>3</td>\n      <td>6384218</td>\n      <td>83520315</td>\n      <td>True</td>\n    </tr>\n    <tr>\n      <th>99</th>\n      <td>1</td>\n      <td>4</td>\n      <td>6384217</td>\n      <td>83520495</td>\n      <td>True</td>\n    </tr>\n    <tr>\n      <th>...</th>\n      <td>...</td>\n      <td>...</td>\n      <td>...</td>\n      <td>...</td>\n      <td>...</td>\n    </tr>\n    <tr>\n      <th>5759870</th>\n      <td>10</td>\n      <td>11740</td>\n      <td>18877955</td>\n      <td>86399305</td>\n      <td>True</td>\n    </tr>\n    <tr>\n      <th>5759904</th>\n      <td>10</td>\n      <td>11741</td>\n      <td>18877956</td>\n      <td>86399475</td>\n      <td>True</td>\n    </tr>\n    <tr>\n      <th>5759938</th>\n      <td>10</td>\n      <td>11742</td>\n      <td>18877957</td>\n      <td>86399645</td>\n      <td>True</td>\n    </tr>\n    <tr>\n      <th>5759972</th>\n      <td>10</td>\n      <td>11743</td>\n      <td>18877958</td>\n      <td>86399815</td>\n      <td>True</td>\n    </tr>\n    <tr>\n      <th>5760005</th>\n      <td>10</td>\n      <td>11744</td>\n      <td>18877959</td>\n      <td>86399980</td>\n      <td>True</td>\n    </tr>\n  </tbody>\n</table>\n<p>156665 rows × 5 columns</p>\n</div>"
     },
     "metadata": {},
     "execution_count": 31
    }
   ],
   "source": [
    "df"
   ]
  },
  {
   "cell_type": "code",
   "execution_count": 25,
   "metadata": {},
   "outputs": [
    {
     "output_type": "execute_result",
     "data": {
      "text/plain": [
       "array([      0,      27,      45, ..., 5759938, 5759972, 5760005])"
      ]
     },
     "metadata": {},
     "execution_count": 25
    }
   ],
   "source": [
    "idx_all"
   ]
  },
  {
   "cell_type": "code",
   "execution_count": 26,
   "metadata": {},
   "outputs": [
    {
     "output_type": "execute_result",
     "data": {
      "text/plain": [
       "(156665,)"
      ]
     },
     "metadata": {},
     "execution_count": 26
    }
   ],
   "source": [
    "idx_all.shape"
   ]
  },
  {
   "cell_type": "code",
   "execution_count": 37,
   "metadata": {},
   "outputs": [
    {
     "output_type": "execute_result",
     "data": {
      "text/plain": [
       "array([     27,      45,      63, ..., 5759972, 5760005,       0])"
      ]
     },
     "metadata": {},
     "execution_count": 37
    }
   ],
   "source": [
    "idx_next = np.concatenate([idx_all[1:], idx_all[0:1]])\n",
    "idx_next"
   ]
  },
  {
   "cell_type": "code",
   "execution_count": 38,
   "metadata": {},
   "outputs": [],
   "source": [
    "# TimeID of each segment\n",
    "time_id_0 = time_id[idx_all]\n",
    "time_id_1 = time_id[idx_next]"
   ]
  },
  {
   "cell_type": "code",
   "execution_count": 39,
   "metadata": {},
   "outputs": [],
   "source": [
    "df['TimeID_0'] = time_id_0\n",
    "df['TimeID_1'] = time_id_1"
   ]
  },
  {
   "cell_type": "code",
   "execution_count": 44,
   "metadata": {},
   "outputs": [
    {
     "output_type": "error",
     "ename": "ValueError",
     "evalue": "Item wrong length 5760010 instead of 156665.",
     "traceback": [
      "\u001b[0;31m---------------------------------------------------------------------------\u001b[0m",
      "\u001b[0;31mValueError\u001b[0m                                Traceback (most recent call last)",
      "\u001b[0;32m<ipython-input-44-4f91816ccf8a>\u001b[0m in \u001b[0;36m<module>\u001b[0;34m\u001b[0m\n\u001b[1;32m      1\u001b[0m \u001b[0;31m# Mask down to interior segments only\u001b[0m\u001b[0;34m\u001b[0m\u001b[0;34m\u001b[0m\u001b[0;34m\u001b[0m\u001b[0m\n\u001b[0;32m----> 2\u001b[0;31m \u001b[0mdf\u001b[0m \u001b[0;34m=\u001b[0m \u001b[0mdf\u001b[0m\u001b[0;34m[\u001b[0m\u001b[0mmask_out\u001b[0m\u001b[0;34m]\u001b[0m\u001b[0;34m\u001b[0m\u001b[0;34m\u001b[0m\u001b[0m\n\u001b[0m",
      "\u001b[0;32m~/Anaconda/anaconda3-2020.11/envs/kepler/lib/python3.8/site-packages/pandas/core/frame.py\u001b[0m in \u001b[0;36m__getitem__\u001b[0;34m(self, key)\u001b[0m\n\u001b[1;32m   3013\u001b[0m         \u001b[0;31m# Do we have a (boolean) 1d indexer?\u001b[0m\u001b[0;34m\u001b[0m\u001b[0;34m\u001b[0m\u001b[0;34m\u001b[0m\u001b[0m\n\u001b[1;32m   3014\u001b[0m         \u001b[0;32mif\u001b[0m \u001b[0mcom\u001b[0m\u001b[0;34m.\u001b[0m\u001b[0mis_bool_indexer\u001b[0m\u001b[0;34m(\u001b[0m\u001b[0mkey\u001b[0m\u001b[0;34m)\u001b[0m\u001b[0;34m:\u001b[0m\u001b[0;34m\u001b[0m\u001b[0;34m\u001b[0m\u001b[0m\n\u001b[0;32m-> 3015\u001b[0;31m             \u001b[0;32mreturn\u001b[0m \u001b[0mself\u001b[0m\u001b[0;34m.\u001b[0m\u001b[0m_getitem_bool_array\u001b[0m\u001b[0;34m(\u001b[0m\u001b[0mkey\u001b[0m\u001b[0;34m)\u001b[0m\u001b[0;34m\u001b[0m\u001b[0;34m\u001b[0m\u001b[0m\n\u001b[0m\u001b[1;32m   3016\u001b[0m \u001b[0;34m\u001b[0m\u001b[0m\n\u001b[1;32m   3017\u001b[0m         \u001b[0;31m# We are left with two options: a single key, and a collection of keys,\u001b[0m\u001b[0;34m\u001b[0m\u001b[0;34m\u001b[0m\u001b[0;34m\u001b[0m\u001b[0m\n",
      "\u001b[0;32m~/Anaconda/anaconda3-2020.11/envs/kepler/lib/python3.8/site-packages/pandas/core/frame.py\u001b[0m in \u001b[0;36m_getitem_bool_array\u001b[0;34m(self, key)\u001b[0m\n\u001b[1;32m   3060\u001b[0m             )\n\u001b[1;32m   3061\u001b[0m         \u001b[0;32melif\u001b[0m \u001b[0mlen\u001b[0m\u001b[0;34m(\u001b[0m\u001b[0mkey\u001b[0m\u001b[0;34m)\u001b[0m \u001b[0;34m!=\u001b[0m \u001b[0mlen\u001b[0m\u001b[0;34m(\u001b[0m\u001b[0mself\u001b[0m\u001b[0;34m.\u001b[0m\u001b[0mindex\u001b[0m\u001b[0;34m)\u001b[0m\u001b[0;34m:\u001b[0m\u001b[0;34m\u001b[0m\u001b[0;34m\u001b[0m\u001b[0m\n\u001b[0;32m-> 3062\u001b[0;31m             raise ValueError(\n\u001b[0m\u001b[1;32m   3063\u001b[0m                 \u001b[0;34mf\"Item wrong length {len(key)} instead of {len(self.index)}.\"\u001b[0m\u001b[0;34m\u001b[0m\u001b[0;34m\u001b[0m\u001b[0m\n\u001b[1;32m   3064\u001b[0m             )\n",
      "\u001b[0;31mValueError\u001b[0m: Item wrong length 5760010 instead of 156665."
     ]
    }
   ],
   "source": [
    "# Mask down to interior segments only\n",
    "df = df[mask_out]"
   ]
  },
  {
   "cell_type": "code",
   "execution_count": 40,
   "metadata": {},
   "outputs": [
    {
     "output_type": "execute_result",
     "data": {
      "text/plain": [
       "         AsteroidID  Segment  SkyPatchID    TimeID  TimeID_0  TimeID_1\n",
       "0                 1        0     6382172  83520000  83520000  83520135\n",
       "27                1        1     6382171  83520135  83520135  83520225\n",
       "45                1        2     6384219  83520225  83520225  83520315\n",
       "63                1        3     6384218  83520315  83520315  83520495\n",
       "99                1        4     6384217  83520495  83520495  83520675\n",
       "...             ...      ...         ...       ...       ...       ...\n",
       "5759870          10    11740    18877955  86399305  86399305  86399475\n",
       "5759904          10    11741    18877956  86399475  86399475  86399645\n",
       "5759938          10    11742    18877957  86399645  86399645  86399815\n",
       "5759972          10    11743    18877958  86399815  86399815  86399980\n",
       "5760005          10    11744    18877959  86399980  86399980  83520000\n",
       "\n",
       "[156665 rows x 6 columns]"
      ],
      "text/html": "<div>\n<style scoped>\n    .dataframe tbody tr th:only-of-type {\n        vertical-align: middle;\n    }\n\n    .dataframe tbody tr th {\n        vertical-align: top;\n    }\n\n    .dataframe thead th {\n        text-align: right;\n    }\n</style>\n<table border=\"1\" class=\"dataframe\">\n  <thead>\n    <tr style=\"text-align: right;\">\n      <th></th>\n      <th>AsteroidID</th>\n      <th>Segment</th>\n      <th>SkyPatchID</th>\n      <th>TimeID</th>\n      <th>TimeID_0</th>\n      <th>TimeID_1</th>\n    </tr>\n  </thead>\n  <tbody>\n    <tr>\n      <th>0</th>\n      <td>1</td>\n      <td>0</td>\n      <td>6382172</td>\n      <td>83520000</td>\n      <td>83520000</td>\n      <td>83520135</td>\n    </tr>\n    <tr>\n      <th>27</th>\n      <td>1</td>\n      <td>1</td>\n      <td>6382171</td>\n      <td>83520135</td>\n      <td>83520135</td>\n      <td>83520225</td>\n    </tr>\n    <tr>\n      <th>45</th>\n      <td>1</td>\n      <td>2</td>\n      <td>6384219</td>\n      <td>83520225</td>\n      <td>83520225</td>\n      <td>83520315</td>\n    </tr>\n    <tr>\n      <th>63</th>\n      <td>1</td>\n      <td>3</td>\n      <td>6384218</td>\n      <td>83520315</td>\n      <td>83520315</td>\n      <td>83520495</td>\n    </tr>\n    <tr>\n      <th>99</th>\n      <td>1</td>\n      <td>4</td>\n      <td>6384217</td>\n      <td>83520495</td>\n      <td>83520495</td>\n      <td>83520675</td>\n    </tr>\n    <tr>\n      <th>...</th>\n      <td>...</td>\n      <td>...</td>\n      <td>...</td>\n      <td>...</td>\n      <td>...</td>\n      <td>...</td>\n    </tr>\n    <tr>\n      <th>5759870</th>\n      <td>10</td>\n      <td>11740</td>\n      <td>18877955</td>\n      <td>86399305</td>\n      <td>86399305</td>\n      <td>86399475</td>\n    </tr>\n    <tr>\n      <th>5759904</th>\n      <td>10</td>\n      <td>11741</td>\n      <td>18877956</td>\n      <td>86399475</td>\n      <td>86399475</td>\n      <td>86399645</td>\n    </tr>\n    <tr>\n      <th>5759938</th>\n      <td>10</td>\n      <td>11742</td>\n      <td>18877957</td>\n      <td>86399645</td>\n      <td>86399645</td>\n      <td>86399815</td>\n    </tr>\n    <tr>\n      <th>5759972</th>\n      <td>10</td>\n      <td>11743</td>\n      <td>18877958</td>\n      <td>86399815</td>\n      <td>86399815</td>\n      <td>86399980</td>\n    </tr>\n    <tr>\n      <th>5760005</th>\n      <td>10</td>\n      <td>11744</td>\n      <td>18877959</td>\n      <td>86399980</td>\n      <td>86399980</td>\n      <td>83520000</td>\n    </tr>\n  </tbody>\n</table>\n<p>156665 rows × 6 columns</p>\n</div>"
     },
     "metadata": {},
     "execution_count": 40
    }
   ],
   "source": [
    "df"
   ]
  },
  {
   "cell_type": "code",
   "execution_count": 41,
   "metadata": {},
   "outputs": [],
   "source": [
    "dt = (df.TimeID_1 - df.TimeID_0).values"
   ]
  },
  {
   "cell_type": "code",
   "execution_count": 42,
   "metadata": {},
   "outputs": [
    {
     "output_type": "execute_result",
     "data": {
      "text/plain": [
       "-2879990"
      ]
     },
     "metadata": {},
     "execution_count": 42
    }
   ],
   "source": [
    "np.min(dt)"
   ]
  },
  {
   "cell_type": "code",
   "execution_count": 43,
   "metadata": {},
   "outputs": [
    {
     "output_type": "execute_result",
     "data": {
      "text/plain": [
       "10870"
      ]
     },
     "metadata": {},
     "execution_count": 43
    }
   ],
   "source": [
    "np.max(dt)"
   ]
  },
  {
   "cell_type": "code",
   "execution_count": null,
   "metadata": {},
   "outputs": [],
   "source": []
  }
 ],
 "metadata": {
  "kernelspec": {
   "display_name": "kepler",
   "language": "python",
   "name": "kepler"
  },
  "language_info": {
   "codemirror_mode": {
    "name": "ipython",
    "version": 3
   },
   "file_extension": ".py",
   "mimetype": "text/x-python",
   "name": "python",
   "nbconvert_exporter": "python",
   "pygments_lexer": "ipython3",
   "version": "3.8.5"
  }
 },
 "nbformat": 4,
 "nbformat_minor": 4
}