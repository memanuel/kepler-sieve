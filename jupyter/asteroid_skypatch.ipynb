{
 "cells": [
  {
   "cell_type": "code",
   "execution_count": 2,
   "metadata": {},
   "outputs": [],
   "source": [
    "# Core\n",
    "import numpy as np\n",
    "import pandas as pd\n",
    "\n",
    "import time"
   ]
  },
  {
   "cell_type": "code",
   "execution_count": 3,
   "metadata": {},
   "outputs": [],
   "source": [
    "# Local imports\n",
    "import kepler_sieve\n",
    "from asteroid_skypatch import calc_ast_skypatch\n",
    "from asteroid_skypatch_test import test_skypatch_dir\n",
    "from asteroid_direction import c, mpd, dpm, prep_ast_block, calc_dir_ast_block\n",
    "from asteroid_spline import make_spline_ast_dir\n",
    "from sky_patch import dir2SkyPatchID, SkyPatchID2dir\n",
    "from db_utils import sp2df, df2db"
   ]
  },
  {
   "source": [
    "# Build block of asteroid directions at high resolution"
   ],
   "cell_type": "markdown",
   "metadata": {}
  },
  {
   "cell_type": "code",
   "execution_count": 7,
   "metadata": {},
   "outputs": [],
   "source": [
    "# Asteroid block\n",
    "n0: int = 1\n",
    "n1: int = 100\n",
    "\n",
    "# Time range for asteroid directions\n",
    "mjd0: int = 58000\n",
    "mjd1: int = 60000\n",
    "interval_min: int = 15"
   ]
  },
  {
   "cell_type": "code",
   "execution_count": 8,
   "metadata": {},
   "outputs": [],
   "source": [
    "# # Asteroid block\n",
    "# n0: int = 1\n",
    "# n1: int = 3\n",
    "\n",
    "# # Time range for asteroid directions\n",
    "# mjd0: int = 58000\n",
    "# mjd1: int = 60000\n",
    "# interval_min: int = 1440"
   ]
  },
  {
   "cell_type": "code",
   "execution_count": 9,
   "metadata": {},
   "outputs": [],
   "source": [
    "t0 = time.time()\n",
    "df = calc_ast_skypatch(n0=n0, n1=n1, mjd0=mjd0, mjd1=mjd1, interval_min=interval_min)\n",
    "t1 = time.time()"
   ]
  },
  {
   "cell_type": "code",
   "execution_count": 10,
   "metadata": {},
   "outputs": [
    {
     "output_type": "stream",
     "name": "stdout",
     "text": [
      "Elapsed time with interval=15: 34.78\n"
     ]
    }
   ],
   "source": [
    "et = t1 - t0\n",
    "print(f'Elapsed time with interval={interval_min}: {et:5.2f}')"
   ]
  },
  {
   "cell_type": "code",
   "execution_count": 11,
   "metadata": {},
   "outputs": [
    {
     "output_type": "execute_result",
     "data": {
      "text/plain": [
       "         AsteroidID  Segment  SkyPatchID  TimeID_0  TimeID_1\n",
       "0                 1        0     6382172  83520000  83520135\n",
       "1                 1        1     6382171  83520135  83520225\n",
       "2                 1        2     6384219  83520225  83520315\n",
       "3                 1        3     6384218  83520315  83520495\n",
       "4                 1        4     6384217  83520495  83520675\n",
       "...             ...      ...         ...       ...       ...\n",
       "1413041          99    14094     6606593  86398875  86399130\n",
       "1413042          99    14095     6606592  86399130  86399385\n",
       "1413043          99    14096     6606591  86399385  86399640\n",
       "1413044          99    14097     6606590  86399640  86399895\n",
       "1413045          99    14098     6606589  86399895  86400095\n",
       "\n",
       "[1413046 rows x 5 columns]"
      ],
      "text/html": "<div>\n<style scoped>\n    .dataframe tbody tr th:only-of-type {\n        vertical-align: middle;\n    }\n\n    .dataframe tbody tr th {\n        vertical-align: top;\n    }\n\n    .dataframe thead th {\n        text-align: right;\n    }\n</style>\n<table border=\"1\" class=\"dataframe\">\n  <thead>\n    <tr style=\"text-align: right;\">\n      <th></th>\n      <th>AsteroidID</th>\n      <th>Segment</th>\n      <th>SkyPatchID</th>\n      <th>TimeID_0</th>\n      <th>TimeID_1</th>\n    </tr>\n  </thead>\n  <tbody>\n    <tr>\n      <th>0</th>\n      <td>1</td>\n      <td>0</td>\n      <td>6382172</td>\n      <td>83520000</td>\n      <td>83520135</td>\n    </tr>\n    <tr>\n      <th>1</th>\n      <td>1</td>\n      <td>1</td>\n      <td>6382171</td>\n      <td>83520135</td>\n      <td>83520225</td>\n    </tr>\n    <tr>\n      <th>2</th>\n      <td>1</td>\n      <td>2</td>\n      <td>6384219</td>\n      <td>83520225</td>\n      <td>83520315</td>\n    </tr>\n    <tr>\n      <th>3</th>\n      <td>1</td>\n      <td>3</td>\n      <td>6384218</td>\n      <td>83520315</td>\n      <td>83520495</td>\n    </tr>\n    <tr>\n      <th>4</th>\n      <td>1</td>\n      <td>4</td>\n      <td>6384217</td>\n      <td>83520495</td>\n      <td>83520675</td>\n    </tr>\n    <tr>\n      <th>...</th>\n      <td>...</td>\n      <td>...</td>\n      <td>...</td>\n      <td>...</td>\n      <td>...</td>\n    </tr>\n    <tr>\n      <th>1413041</th>\n      <td>99</td>\n      <td>14094</td>\n      <td>6606593</td>\n      <td>86398875</td>\n      <td>86399130</td>\n    </tr>\n    <tr>\n      <th>1413042</th>\n      <td>99</td>\n      <td>14095</td>\n      <td>6606592</td>\n      <td>86399130</td>\n      <td>86399385</td>\n    </tr>\n    <tr>\n      <th>1413043</th>\n      <td>99</td>\n      <td>14096</td>\n      <td>6606591</td>\n      <td>86399385</td>\n      <td>86399640</td>\n    </tr>\n    <tr>\n      <th>1413044</th>\n      <td>99</td>\n      <td>14097</td>\n      <td>6606590</td>\n      <td>86399640</td>\n      <td>86399895</td>\n    </tr>\n    <tr>\n      <th>1413045</th>\n      <td>99</td>\n      <td>14098</td>\n      <td>6606589</td>\n      <td>86399895</td>\n      <td>86400095</td>\n    </tr>\n  </tbody>\n</table>\n<p>1413046 rows × 5 columns</p>\n</div>"
     },
     "metadata": {},
     "execution_count": 11
    }
   ],
   "source": [
    "df"
   ]
  },
  {
   "cell_type": "code",
   "execution_count": 12,
   "metadata": {},
   "outputs": [
    {
     "output_type": "stream",
     "name": "stdout",
     "text": [
      "Extracting 1413046 records from DataFrame into CSV files in chunks of 524288 rows...\n",
      "CSV file name: /home/michael/Harvard/kepler-sieve/data/df2db/AsteroidSkyPatch_Stage/pid_1837358/AsteroidSkyPatch_Stage.csv\n",
      "Elapsed Time for CSV Conversion: 0:00:06.101873\n"
     ]
    },
    {
     "output_type": "display_data",
     "data": {
      "text/plain": "  0%|          | 0/3 [00:00<?, ?it/s]",
      "application/vnd.jupyter.widget-view+json": {
       "version_major": 2,
       "version_minor": 0,
       "model_id": "022035ff27d447279d0b2b9ea9f6d437"
      }
     },
     "metadata": {}
    },
    {
     "output_type": "stream",
     "name": "stdout",
     "text": [
      "Elapsed Time for DB insertion: 0:12:12.360831\n"
     ]
    }
   ],
   "source": [
    "# Arguments to df2db\n",
    "schema = 'KS'\n",
    "table = f'AsteroidSkyPatch_Stage'\n",
    "columns = ['AsteroidID', 'Segment', 'SkyPatchID', 'TimeID_0', 'TimeID_1']\n",
    "chunksize = 2**19\n",
    "verbose = True\n",
    "progbar = True\n",
    "\n",
    "# Dispatch to df2db\n",
    "df2db(df=df, schema=schema, table=table, columns=columns, chunksize=chunksize, verbose=verbose, progbar=progbar)"
   ]
  },
  {
   "source": [
    "# Test direction at midpoint of interval vs. center of sky patch"
   ],
   "cell_type": "markdown",
   "metadata": {}
  },
  {
   "cell_type": "code",
   "execution_count": 8,
   "metadata": {},
   "outputs": [],
   "source": [
    "# Time at the midpoint of each interval\n",
    "t_obs_0 = df.TimeID_0.values / mpd\n",
    "t_obs_1 = df.TimeID_1.values / mpd\n",
    "t_obs = (t_obs_0 + t_obs_1)/2.0"
   ]
  },
  {
   "cell_type": "code",
   "execution_count": 9,
   "metadata": {},
   "outputs": [],
   "source": [
    "df['tObs'] = t_obs"
   ]
  },
  {
   "cell_type": "code",
   "execution_count": 10,
   "metadata": {},
   "outputs": [],
   "source": [
    "# Extract arrays\n",
    "asteroid_id = df.AsteroidID.values\n",
    "sky_patch_id = df.SkyPatchID.values"
   ]
  },
  {
   "cell_type": "code",
   "execution_count": 11,
   "metadata": {},
   "outputs": [],
   "source": [
    "# # Direction used to build sky patch DataFrame\n",
    "# cols_u = ['ux', 'uy', 'uz']\n",
    "# u_df = df[cols_u].values"
   ]
  },
  {
   "cell_type": "code",
   "execution_count": 12,
   "metadata": {},
   "outputs": [],
   "source": [
    "# Spline for asteroid directions vs. time\n",
    "spline_u = make_spline_ast_dir(n0=n0, n1=n1, mjd0=mjd0, mjd1=mjd1)"
   ]
  },
  {
   "cell_type": "code",
   "execution_count": 13,
   "metadata": {},
   "outputs": [],
   "source": [
    "# Evaluate splined asteroid directions\n",
    "u_ast, lt_ast = spline_u(ts=t_obs, asteroid_id=asteroid_id)"
   ]
  },
  {
   "cell_type": "code",
   "execution_count": 14,
   "metadata": {},
   "outputs": [],
   "source": [
    "# Direction at the center of each sky patch\n",
    "N_sp = 1024\n",
    "u_sky = SkyPatchID2dir(SkyPatchID=sky_patch_id, N=N_sp)"
   ]
  },
  {
   "cell_type": "code",
   "execution_count": 15,
   "metadata": {},
   "outputs": [
    {
     "output_type": "stream",
     "name": "stdout",
     "text": [
      "Angle Difference: skypatch vs. spline in arc seconds\n*Mean  :      48.9*\n Median:      45.9\n Max   :     144.4\n"
     ]
    }
   ],
   "source": [
    "# Compare splined asteroid direction to center of skypatch\n",
    "du = test_skypatch_dir(name1='spline', name2='skypatch', u1=u_ast, u2=u_sky, verbose=True)"
   ]
  },
  {
   "cell_type": "code",
   "execution_count": 19,
   "metadata": {},
   "outputs": [],
   "source": [
    "from asteroid_element import get_asteroids\n",
    "ast = get_asteroids()"
   ]
  },
  {
   "cell_type": "code",
   "execution_count": 20,
   "metadata": {},
   "outputs": [
    {
     "output_type": "execute_result",
     "data": {
      "text/plain": [
       "            AsteroidID   BodyID AsteroidName     BodyName\n",
       "AsteroidID                                               \n",
       "1                    1  1000001        Ceres     SB.Ceres\n",
       "2                    2  1000002       Pallas    SB.Pallas\n",
       "3                    3  1000003         Juno      SB.Juno\n",
       "4                    4  1000004        Vesta     SB.Vesta\n",
       "5                    5  1000005      Astraea   SB.Astraea\n",
       "...                ...      ...          ...          ...\n",
       "1413590        1413590  2413590     6013 P-L  SB.6013 P-L\n",
       "1413591        1413591  2413591     6331 P-L  SB.6331 P-L\n",
       "1413592        1413592  2413592     6344 P-L  SB.6344 P-L\n",
       "1413593        1413593  2413593     2060 T-2  SB.2060 T-2\n",
       "1413594        1413594  2413594     2678 T-3  SB.2678 T-3\n",
       "\n",
       "[958724 rows x 4 columns]"
      ],
      "text/html": "<div>\n<style scoped>\n    .dataframe tbody tr th:only-of-type {\n        vertical-align: middle;\n    }\n\n    .dataframe tbody tr th {\n        vertical-align: top;\n    }\n\n    .dataframe thead th {\n        text-align: right;\n    }\n</style>\n<table border=\"1\" class=\"dataframe\">\n  <thead>\n    <tr style=\"text-align: right;\">\n      <th></th>\n      <th>AsteroidID</th>\n      <th>BodyID</th>\n      <th>AsteroidName</th>\n      <th>BodyName</th>\n    </tr>\n    <tr>\n      <th>AsteroidID</th>\n      <th></th>\n      <th></th>\n      <th></th>\n      <th></th>\n    </tr>\n  </thead>\n  <tbody>\n    <tr>\n      <th>1</th>\n      <td>1</td>\n      <td>1000001</td>\n      <td>Ceres</td>\n      <td>SB.Ceres</td>\n    </tr>\n    <tr>\n      <th>2</th>\n      <td>2</td>\n      <td>1000002</td>\n      <td>Pallas</td>\n      <td>SB.Pallas</td>\n    </tr>\n    <tr>\n      <th>3</th>\n      <td>3</td>\n      <td>1000003</td>\n      <td>Juno</td>\n      <td>SB.Juno</td>\n    </tr>\n    <tr>\n      <th>4</th>\n      <td>4</td>\n      <td>1000004</td>\n      <td>Vesta</td>\n      <td>SB.Vesta</td>\n    </tr>\n    <tr>\n      <th>5</th>\n      <td>5</td>\n      <td>1000005</td>\n      <td>Astraea</td>\n      <td>SB.Astraea</td>\n    </tr>\n    <tr>\n      <th>...</th>\n      <td>...</td>\n      <td>...</td>\n      <td>...</td>\n      <td>...</td>\n    </tr>\n    <tr>\n      <th>1413590</th>\n      <td>1413590</td>\n      <td>2413590</td>\n      <td>6013 P-L</td>\n      <td>SB.6013 P-L</td>\n    </tr>\n    <tr>\n      <th>1413591</th>\n      <td>1413591</td>\n      <td>2413591</td>\n      <td>6331 P-L</td>\n      <td>SB.6331 P-L</td>\n    </tr>\n    <tr>\n      <th>1413592</th>\n      <td>1413592</td>\n      <td>2413592</td>\n      <td>6344 P-L</td>\n      <td>SB.6344 P-L</td>\n    </tr>\n    <tr>\n      <th>1413593</th>\n      <td>1413593</td>\n      <td>2413593</td>\n      <td>2060 T-2</td>\n      <td>SB.2060 T-2</td>\n    </tr>\n    <tr>\n      <th>1413594</th>\n      <td>1413594</td>\n      <td>2413594</td>\n      <td>2678 T-3</td>\n      <td>SB.2678 T-3</td>\n    </tr>\n  </tbody>\n</table>\n<p>958724 rows × 4 columns</p>\n</div>"
     },
     "metadata": {},
     "execution_count": 20
    }
   ],
   "source": [
    "ast"
   ]
  },
  {
   "cell_type": "code",
   "execution_count": 21,
   "metadata": {},
   "outputs": [],
   "source": [
    "sz = 100000\n",
    "jn = 3"
   ]
  },
  {
   "cell_type": "code",
   "execution_count": 22,
   "metadata": {},
   "outputs": [],
   "source": [
    "i0 = sz*jn\n",
    "i1 = i0+sz"
   ]
  },
  {
   "cell_type": "code",
   "execution_count": 24,
   "metadata": {},
   "outputs": [
    {
     "output_type": "execute_result",
     "data": {
      "text/plain": [
       "300001"
      ]
     },
     "metadata": {},
     "execution_count": 24
    }
   ],
   "source": [
    "asteroid_id = ast.AsteroidID.values\n",
    "n0 = asteroid_id[i0]\n",
    "n1 = asteroid_id[i1]"
   ]
  },
  {
   "cell_type": "code",
   "execution_count": 23,
   "metadata": {},
   "outputs": [],
   "source": [
    "from detection_enrich import calc_detections\n",
    "from sky_patch import N_sp\n",
    "from db_utils import sql_run\n",
    "from tqdm.auto import tqdm as tqdm_auto"
   ]
  },
  {
   "cell_type": "code",
   "execution_count": 14,
   "metadata": {},
   "outputs": [],
   "source": [
    "n = 2\n",
    "sz = 100000\n",
    "did0 = n*sz\n",
    "did1 = did0 + sz - 1\n",
    "params = {\n",
    "    'did0': did0,\n",
    "    'did1': did1,\n",
    "}"
   ]
  },
  {
   "cell_type": "code",
   "execution_count": 19,
   "metadata": {},
   "outputs": [],
   "source": [
    "sql_str = \\\n",
    "\"\"\"\n",
    "INSERT INTO KS.Detection_temp\n",
    "(DetectionID, DetectionTimeID, SkyPatchID, TimeID, mjd, ux, uy, uz, mag)\n",
    "SELECT\n",
    "\tdet.DetectionID,\n",
    "\tdet.DetectionTimeID,\n",
    "\tdet.SkyPatchID,\n",
    "\tCAST(FLOOR(det.mjd*1440) AS INT) AS TimeID,\n",
    "\tdet.mjd,\n",
    "\tdet.ux,\n",
    "\tdet.uy,\n",
    "\tdet.uz,\n",
    "\tdet.mag\n",
    "FROM\n",
    "\tKS.Detection_v1 AS det\n",
    "WHERE det.DetectionID BETWEEN :did0 AND :did1;\n",
    "\"\"\""
   ]
  },
  {
   "cell_type": "code",
   "execution_count": 20,
   "metadata": {},
   "outputs": [],
   "source": [
    "# sql_run(sql_str=sql_str, params=params)"
   ]
  },
  {
   "cell_type": "code",
   "execution_count": 24,
   "metadata": {},
   "outputs": [
    {
     "output_type": "display_data",
     "data": {
      "text/plain": "  0%|          | 0/97 [00:00<?, ?it/s]",
      "application/vnd.jupyter.widget-view+json": {
       "version_major": 2,
       "version_minor": 0,
       "model_id": "bf03e0a8f692426dab787475799c8f1e"
      }
     },
     "metadata": {}
    }
   ],
   "source": [
    "for n in tqdm_auto(range(3, 100)):\n",
    "    pass"
   ]
  },
  {
   "cell_type": "code",
   "execution_count": 25,
   "metadata": {},
   "outputs": [
    {
     "output_type": "display_data",
     "data": {
      "text/plain": "  0%|          | 0/97 [00:00<?, ?it/s]",
      "application/vnd.jupyter.widget-view+json": {
       "version_major": 2,
       "version_minor": 0,
       "model_id": "cb68a96be23143a9be5257c2f28114e9"
      }
     },
     "metadata": {}
    },
    {
     "output_type": "stream",
     "name": "stdout",
     "text": [
      "sql_run failed!\n",
      "\n",
      "INSERT INTO KS.Detection_temp\n",
      "(DetectionID, DetectionTimeID, SkyPatchID, TimeID, mjd, ux, uy, uz, mag)\n",
      "SELECT\n",
      "\tdet.DetectionID,\n",
      "\tdet.DetectionTimeID,\n",
      "\tdet.SkyPatchID,\n",
      "\tCAST(FLOOR(det.mjd*1440) AS INT) AS TimeID,\n",
      "\tdet.mjd,\n",
      "\tdet.ux,\n",
      "\tdet.uy,\n",
      "\tdet.uz,\n",
      "\tdet.mag\n",
      "FROM\n",
      "\tKS.Detection_v1 AS det\n",
      "WHERE det.DetectionID BETWEEN :did0 AND :did1;\n",
      "\n",
      "Traceback (most recent call last):\n",
      "  File \"/home/michael/Harvard/kepler-sieve/src/db_utils.py\", line 120, in sql_run\n",
      "    conn.execute(sql_stmt)\n",
      "  File \"/home/michael/Anaconda/anaconda3-2020.11/envs/kepler/lib/python3.8/site-packages/sqlalchemy/engine/base.py\", line 1123, in execute\n",
      "    return meth(self, multiparams, params, _EMPTY_EXECUTION_OPTS)\n",
      "  File \"/home/michael/Anaconda/anaconda3-2020.11/envs/kepler/lib/python3.8/site-packages/sqlalchemy/sql/elements.py\", line 310, in _execute_on_connection\n",
      "    return connection._execute_clauseelement(\n",
      "  File \"/home/michael/Anaconda/anaconda3-2020.11/envs/kepler/lib/python3.8/site-packages/sqlalchemy/engine/base.py\", line 1312, in _execute_clauseelement\n",
      "    ret = self._execute_context(\n",
      "  File \"/home/michael/Anaconda/anaconda3-2020.11/envs/kepler/lib/python3.8/site-packages/sqlalchemy/engine/base.py\", line 1671, in _execute_context\n",
      "    self._handle_dbapi_exception(\n",
      "  File \"/home/michael/Anaconda/anaconda3-2020.11/envs/kepler/lib/python3.8/site-packages/sqlalchemy/engine/base.py\", line 1856, in _handle_dbapi_exception\n",
      "    util.raise_(exc_info[1], with_traceback=exc_info[2])\n",
      "  File \"/home/michael/Anaconda/anaconda3-2020.11/envs/kepler/lib/python3.8/site-packages/sqlalchemy/util/compat.py\", line 180, in raise_\n",
      "    raise exception\n",
      "  File \"/home/michael/Anaconda/anaconda3-2020.11/envs/kepler/lib/python3.8/site-packages/sqlalchemy/engine/base.py\", line 1628, in _execute_context\n",
      "    self.dialect.do_execute(\n",
      "  File \"/home/michael/Anaconda/anaconda3-2020.11/envs/kepler/lib/python3.8/site-packages/sqlalchemy/engine/default.py\", line 663, in do_execute\n",
      "    cursor.execute(statement, parameters)\n",
      "  File \"/home/michael/Anaconda/anaconda3-2020.11/envs/kepler/lib/python3.8/site-packages/pymysql/cursors.py\", line 148, in execute\n",
      "    result = self._query(query)\n",
      "  File \"/home/michael/Anaconda/anaconda3-2020.11/envs/kepler/lib/python3.8/site-packages/pymysql/cursors.py\", line 310, in _query\n",
      "    conn.query(q)\n",
      "  File \"/home/michael/Anaconda/anaconda3-2020.11/envs/kepler/lib/python3.8/site-packages/pymysql/connections.py\", line 548, in query\n",
      "    self._affected_rows = self._read_query_result(unbuffered=unbuffered)\n",
      "  File \"/home/michael/Anaconda/anaconda3-2020.11/envs/kepler/lib/python3.8/site-packages/pymysql/connections.py\", line 775, in _read_query_result\n",
      "    result.read()\n",
      "  File \"/home/michael/Anaconda/anaconda3-2020.11/envs/kepler/lib/python3.8/site-packages/pymysql/connections.py\", line 1156, in read\n",
      "    first_packet = self.connection._read_packet()\n",
      "  File \"/home/michael/Anaconda/anaconda3-2020.11/envs/kepler/lib/python3.8/site-packages/pymysql/connections.py\", line 692, in _read_packet\n",
      "    packet_header = self._read_bytes(4)\n",
      "  File \"/home/michael/Anaconda/anaconda3-2020.11/envs/kepler/lib/python3.8/site-packages/pymysql/connections.py\", line 732, in _read_bytes\n",
      "    data = self._rfile.read(num_bytes)\n",
      "  File \"/home/michael/Anaconda/anaconda3-2020.11/envs/kepler/lib/python3.8/socket.py\", line 669, in readinto\n",
      "    return self._sock.recv_into(b)\n",
      "KeyboardInterrupt\n",
      "sql_run failed!\n",
      "\n",
      "INSERT INTO KS.Detection_temp\n",
      "(DetectionID, DetectionTimeID, SkyPatchID, TimeID, mjd, ux, uy, uz, mag)\n",
      "SELECT\n",
      "\tdet.DetectionID,\n",
      "\tdet.DetectionTimeID,\n",
      "\tdet.SkyPatchID,\n",
      "\tCAST(FLOOR(det.mjd*1440) AS INT) AS TimeID,\n",
      "\tdet.mjd,\n",
      "\tdet.ux,\n",
      "\tdet.uy,\n",
      "\tdet.uz,\n",
      "\tdet.mag\n",
      "FROM\n",
      "\tKS.Detection_v1 AS det\n",
      "WHERE det.DetectionID BETWEEN :did0 AND :did1;\n",
      "\n",
      "Traceback (most recent call last):\n",
      "  File \"/home/michael/Harvard/kepler-sieve/src/db_utils.py\", line 120, in sql_run\n",
      "    conn.execute(sql_stmt)\n",
      "  File \"/home/michael/Anaconda/anaconda3-2020.11/envs/kepler/lib/python3.8/site-packages/sqlalchemy/engine/base.py\", line 1123, in execute\n",
      "    return meth(self, multiparams, params, _EMPTY_EXECUTION_OPTS)\n",
      "  File \"/home/michael/Anaconda/anaconda3-2020.11/envs/kepler/lib/python3.8/site-packages/sqlalchemy/sql/elements.py\", line 310, in _execute_on_connection\n",
      "    return connection._execute_clauseelement(\n",
      "  File \"/home/michael/Anaconda/anaconda3-2020.11/envs/kepler/lib/python3.8/site-packages/sqlalchemy/engine/base.py\", line 1312, in _execute_clauseelement\n",
      "    ret = self._execute_context(\n",
      "  File \"/home/michael/Anaconda/anaconda3-2020.11/envs/kepler/lib/python3.8/site-packages/sqlalchemy/engine/base.py\", line 1671, in _execute_context\n",
      "    self._handle_dbapi_exception(\n",
      "  File \"/home/michael/Anaconda/anaconda3-2020.11/envs/kepler/lib/python3.8/site-packages/sqlalchemy/engine/base.py\", line 1856, in _handle_dbapi_exception\n",
      "    util.raise_(exc_info[1], with_traceback=exc_info[2])\n",
      "  File \"/home/michael/Anaconda/anaconda3-2020.11/envs/kepler/lib/python3.8/site-packages/sqlalchemy/util/compat.py\", line 180, in raise_\n",
      "    raise exception\n",
      "  File \"/home/michael/Anaconda/anaconda3-2020.11/envs/kepler/lib/python3.8/site-packages/sqlalchemy/engine/base.py\", line 1628, in _execute_context\n",
      "    self.dialect.do_execute(\n",
      "  File \"/home/michael/Anaconda/anaconda3-2020.11/envs/kepler/lib/python3.8/site-packages/sqlalchemy/engine/default.py\", line 663, in do_execute\n",
      "    cursor.execute(statement, parameters)\n",
      "  File \"/home/michael/Anaconda/anaconda3-2020.11/envs/kepler/lib/python3.8/site-packages/pymysql/cursors.py\", line 148, in execute\n",
      "    result = self._query(query)\n",
      "  File \"/home/michael/Anaconda/anaconda3-2020.11/envs/kepler/lib/python3.8/site-packages/pymysql/cursors.py\", line 310, in _query\n",
      "    conn.query(q)\n",
      "  File \"/home/michael/Anaconda/anaconda3-2020.11/envs/kepler/lib/python3.8/site-packages/pymysql/connections.py\", line 548, in query\n",
      "    self._affected_rows = self._read_query_result(unbuffered=unbuffered)\n",
      "  File \"/home/michael/Anaconda/anaconda3-2020.11/envs/kepler/lib/python3.8/site-packages/pymysql/connections.py\", line 775, in _read_query_result\n",
      "    result.read()\n",
      "  File \"/home/michael/Anaconda/anaconda3-2020.11/envs/kepler/lib/python3.8/site-packages/pymysql/connections.py\", line 1156, in read\n",
      "    first_packet = self.connection._read_packet()\n",
      "  File \"/home/michael/Anaconda/anaconda3-2020.11/envs/kepler/lib/python3.8/site-packages/pymysql/connections.py\", line 692, in _read_packet\n",
      "    packet_header = self._read_bytes(4)\n",
      "  File \"/home/michael/Anaconda/anaconda3-2020.11/envs/kepler/lib/python3.8/site-packages/pymysql/connections.py\", line 732, in _read_bytes\n",
      "    data = self._rfile.read(num_bytes)\n",
      "  File \"/home/michael/Anaconda/anaconda3-2020.11/envs/kepler/lib/python3.8/socket.py\", line 669, in readinto\n",
      "    return self._sock.recv_into(b)\n",
      "KeyboardInterrupt\n"
     ]
    }
   ],
   "source": [
    "# Batch size\n",
    "sz = 100000\n",
    "# Iterate over batches\n",
    "for n in tqdm_auto(range(3, 100)):\n",
    "    # Range of DetectionID\n",
    "    did0 = n*sz\n",
    "    did1 = did0 + sz - 1\n",
    "    # Bind parameters and run SQL\n",
    "    params = {\n",
    "        'did0': did0,\n",
    "        'did1': did1,\n",
    "    }\n",
    "    sql_run(sql_str=sql_str, params=params)"
   ]
  },
  {
   "cell_type": "code",
   "execution_count": null,
   "metadata": {},
   "outputs": [],
   "source": [
    "for n in tqdm_auto(range(100, 1000)):\n",
    "    # Range of DetectionID\n",
    "    did0 = n*sz\n",
    "    did1 = did0 + sz - 1\n",
    "    # Bind parameters and run SQL\n",
    "    params = {\n",
    "        'did0': did0,\n",
    "        'did1': did1,\n",
    "    }\n",
    "    sql_run(sql_str=sql_str, params=params)"
   ]
  }
 ],
 "metadata": {
  "kernelspec": {
   "display_name": "kepler",
   "language": "python",
   "name": "kepler"
  },
  "language_info": {
   "codemirror_mode": {
    "name": "ipython",
    "version": 3
   },
   "file_extension": ".py",
   "mimetype": "text/x-python",
   "name": "python",
   "nbconvert_exporter": "python",
   "pygments_lexer": "ipython3",
   "version": "3.8.5"
  }
 },
 "nbformat": 4,
 "nbformat_minor": 4
}