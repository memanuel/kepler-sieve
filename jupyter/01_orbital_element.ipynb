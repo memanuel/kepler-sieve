{
 "cells": [
  {
   "cell_type": "markdown",
   "metadata": {},
   "source": [
    "# Orbital Elements to Cartesian Coordinates"
   ]
  },
  {
   "cell_type": "code",
   "execution_count": 1,
   "metadata": {},
   "outputs": [],
   "source": [
    "# Library imports\n",
    "import tensorflow as tf\n",
    "import rebound\n",
    "import numpy as np\n",
    "import matplotlib.pyplot as plt\n",
    "import time\n",
    "\n",
    "# Aliases\n",
    "keras = tf.keras"
   ]
  },
  {
   "cell_type": "code",
   "execution_count": 3,
   "metadata": {},
   "outputs": [],
   "source": [
    "# Local imports\n",
    "import kepler_sieve\n",
    "from utils import load_vartbl, save_vartbl, plot_style\n",
    "from tf_utils import gpu_grow_memory\n",
    "# from tf_utils import Identity\n",
    "# from r2b import VectorError\n",
    "from orbital_element import make_data_orb_elt, make_dataset_elt_to_cfg, make_dataset_cfg_to_elt\n",
    "from orbital_element import OrbitalElementToConfig, make_model_elt_to_cfg\n",
    "from orbital_element import ConfigToOrbitalElement, make_model_cfg_to_elt\n",
    "from orbital_element import MeanToEccentricAnomaly, MeanToTrueAnomaly"
   ]
  },
  {
   "cell_type": "code",
   "execution_count": 4,
   "metadata": {},
   "outputs": [],
   "source": [
    "# Grow GPU memory (must be first operation in TF)\n",
    "gpu_grow_memory()"
   ]
  },
  {
   "cell_type": "code",
   "execution_count": 5,
   "metadata": {},
   "outputs": [],
   "source": [
    "# Plot style \n",
    "plot_style()"
   ]
  },
  {
   "cell_type": "code",
   "execution_count": 6,
   "metadata": {},
   "outputs": [],
   "source": [
    "# Lightweight serialization\n",
    "fname = '../data/r2b/orbital_element.pickle'\n",
    "vartbl = load_vartbl(fname)"
   ]
  },
  {
   "cell_type": "markdown",
   "metadata": {},
   "source": [
    "### Orbital Element Definitions"
   ]
  },
  {
   "cell_type": "markdown",
   "metadata": {},
   "source": [
    "The module `orbital_element.py` contains calculations related to traditional orbital elements.<br>\n",
    "All conventions and variable names follow those used in the `rebound` N-body integrator package.<br>"
   ]
  },
  {
   "cell_type": "markdown",
   "metadata": {},
   "source": [
    "![title](../figs/web/orbital-elements.png)\n",
    "\n",
    "In this diagram, the orbital plane (yellow) intersects a reference plane (gray).<br>\n",
    "For Earth-orbiting satellites, the reference plane is usually the Earth's equatorial plane, and for satellites in solar orbits it is the ecliptic plane.<br>\n",
    "The intersection is called the line of nodes, as it connects the center of mass with the ascending and descending nodes.<br>\n",
    "The reference plane, together with the vernal point (♈︎), establishes a reference frame.\n",
    "\n",
    "**Discussion of Orbital Elements (Wikipedia)**\n",
    "\n",
    "Two elements define the shape and size of the ellipse:\n",
    "\n",
    "* **Eccentricity (e)**—shape of the ellipse, describing how much it is elongated compared to a circle (not marked in diagram).\n",
    "* **Semimajor axis (a)**—the sum of the periapsis and apoapsis distances divided by two. For circular orbits, the semimajor axis is the distance between the centers of the bodies, not the distance of the bodies from the center of mass.\n",
    "\n",
    "Two elements define the orientation of the orbital plane in which the ellipse is embedded:\n",
    "\n",
    "* **Inclination (i)**—vertical tilt of the ellipse with respect to the reference plane, measured at the ascending node (where the orbit passes upward through the reference plane, the green angle i in the diagram). Tilt angle is measured perpendicular to line of intersection between orbital plane and reference plane. Any three points on an ellipse will define the ellipse orbital plane. The plane and the ellipse are both two-dimensional objects defined in three-dimensional space.\n",
    "* **Longitude of the ascending node (Ω)**—horizontally orients the ascending node of the ellipse (where the orbit passes upward through the reference plane, symbolized by ☊) with respect to the reference frame's vernal point (symbolized by ♈︎). This is measured in the reference plane, and is shown as the green angle Ω in the diagram.\n",
    "\n",
    "The remaining two elements are as follows:\n",
    "\n",
    "* **Argument of periapsis (ω)** defines the orientation of the ellipse in the orbital plane, as an angle measured from the ascending node to the periapsis (the closest point the satellite object comes to the primary object around which it orbits, the blue angle ω in the diagram).\n",
    "* **True anomaly (ν, θ, or f) at epoch (M0)** defines the position of the orbiting body along the ellipse at a specific time (the \"epoch\").\n",
    "\n",
    "The mean anomaly is a mathematically convenient \"angle\" which varies linearly with time, but which does not correspond to a real geometric angle. It can be converted into the true anomaly ν, which does represent the real geometric angle in the plane of the ellipse, between periapsis (closest approach to the central body) and the position of the orbiting object at any given time. Thus, the true anomaly is shown as the red angle ν in the diagram, and the mean anomaly is not shown.\n",
    "\n",
    "The angles of inclination, longitude of the ascending node, and argument of periapsis can also be described as the Euler angles defining the orientation of the orbit relative to the reference coordinate system.\n",
    "\n",
    "Note that non-elliptic trajectories also exist, but are not closed, and are thus not orbits. If the eccentricity is greater than one, the trajectory is a hyperbola. If the eccentricity is equal to one and the angular momentum is zero, the trajectory is radial. If the eccentricity is one and there is angular momentum, the trajectory is a parabola.\n",
    "\n",
    "**Credit: Wikipedia** - https://en.wikipedia.org/wiki/Orbital_elements"
   ]
  },
  {
   "cell_type": "markdown",
   "metadata": {},
   "source": [
    "**Variable Names of Six Keplerian Orbital Elements**\n",
    "* `a` - semi-major axis; size of the ellipse; mean of periapsis and apoapsis distances\n",
    "* `e` - eccentricity; shape of the ellipse.  e=0 is a circle, e=1 is a line.  $e^2 = 1 - b^2 / a^2$\n",
    "* `inc` - inclination; angle between orbital and ecliptic planes\n",
    "* `Omega` - longitude of the asending node; undefined when inc=0\n",
    "* `omega` - argument of pericenter; true anomaly where body is closest to the primary.\n",
    "* `f` - true anomaly; angle of the orbiting body in its orbital plane\n",
    "\n",
    "**Two Additional Elements**\n",
    "* `M` - mean anomaly; area swept out by the orbiting body, normalized so a full orbit is $2 \\pi$.  Because of the rule of equal area in equal time, a.k.a. conservation of angular momentum, the mean anomly is linear in time\n",
    "* `N` - mean motion; rate at which mean anomly changes, i.e. $2 \\pi / T$ where $T$ is the orbital period"
   ]
  },
  {
   "cell_type": "markdown",
   "metadata": {},
   "source": [
    "### Generating Reference Data Sets for Testing Orbital Element Calculations"
   ]
  },
  {
   "cell_type": "markdown",
   "metadata": {},
   "source": [
    "The function `make_data_orb_elt` generates a data set used to test the conversion functions between Cartesian coordinates and orbital elements.  It initializes an orbit with parameters (`a`, `e`, `inc`, `Omega`, `omega`, `f`) in the Rebound package.<br>\n",
    "* `a` is sampled uniformly in the range [`a_min`, `a_max`]\n",
    "* `e` is sampled uniformly in the range [0, `e_max`]\n",
    "* `inc` is sampled uniformly in the range [0, `inc_max`]\n",
    "* `Omega`, `omega` and `f` are sampled uniformly in the range [$-\\pi, +\\pi$]\n",
    "After a particle is initialized with these parameters, the Cartesian position and velocity are accessed and saved.  One entry in Cartesian configuration space has six coordinates: the x, y, and z coordinates of position and velocity.\n",
    "\n",
    "The function `make_dataset_elt_to_cfg` wraps this data into a tensorflow dataset object whose inputs are orbital elements and whose outputs are in Cartesian configuration space.\n",
    "\n",
    "The function `make_dataset_cfg_to_elt` wraps this data into a tensorflow dataset object whose inputs are Cartesian configurations and whose outputs are orbital elements."
   ]
  },
  {
   "cell_type": "code",
   "execution_count": 7,
   "metadata": {},
   "outputs": [],
   "source": [
    "# Create small data set for orbital elements; dictionaries of numpy arrays\n",
    "n = 128\n",
    "a_min = 1.0\n",
    "a_max = 2.0\n",
    "e_max = 1.0\n",
    "inc_max = np.pi/4.0\n",
    "seed=42\n",
    "elts, cart = make_data_orb_elt(n=n, a_min=a_min, a_max=a_max, e_max=e_max, inc_max=inc_max, seed=seed)"
   ]
  },
  {
   "cell_type": "code",
   "execution_count": 8,
   "metadata": {},
   "outputs": [],
   "source": [
    "# Create a tensorflow Dataset instance in both directions\n",
    "batch_size = 64\n",
    "ds_e2c = make_dataset_elt_to_cfg(n=n, a_min=a_min, a_max=a_max, e_max=e_max, \n",
    "                                 inc_max=inc_max, seed=seed, batch_size=batch_size)\n",
    "ds_c2e = make_dataset_cfg_to_elt(n=n, a_min=a_min, a_max=a_max, e_max=e_max, \n",
    "                                 inc_max=inc_max, seed=seed, batch_size=batch_size)"
   ]
  },
  {
   "cell_type": "code",
   "execution_count": 9,
   "metadata": {},
   "outputs": [
    {
     "name": "stdout",
     "output_type": "stream",
     "text": [
      "Example batch sizes:\n",
      "a    = (64,)\n",
      "e    = (64,)\n",
      "inc  = (64,)\n",
      "Omega= (64,)\n",
      "omega= (64,)\n",
      "f    = (64,)\n",
      "mu   = (64,)\n",
      "q    = (64, 3)\n",
      "v    = (64, 3)\n",
      "acc  = (64, 3)\n"
     ]
    }
   ],
   "source": [
    "# Example batch\n",
    "elts, cart = list(ds_e2c.take(1))[0]\n",
    "\n",
    "# Unpack orbital elements\n",
    "a = elts['a']\n",
    "e = elts['e']\n",
    "inc = elts['inc']\n",
    "Omega = elts['Omega']\n",
    "omega = elts['omega']\n",
    "f = elts['f']\n",
    "mu = elts['mu']\n",
    "\n",
    "# Unpack cartesian coordinates\n",
    "q = cart['q']\n",
    "v = cart['v']\n",
    "acc = cart['acc']\n",
    "\n",
    "# Review shapes\n",
    "print(f'Example batch sizes:')\n",
    "print(f'a    = {a.shape}')\n",
    "print(f'e    = {e.shape}')\n",
    "print(f'inc  = {inc.shape}')\n",
    "print(f'Omega= {Omega.shape}')\n",
    "print(f'omega= {omega.shape}')\n",
    "print(f'f    = {f.shape}')\n",
    "print(f'mu   = {f.shape}')\n",
    "print(f'q    = {q.shape}')\n",
    "print(f'v    = {v.shape}')\n",
    "print(f'acc  = {acc.shape}')"
   ]
  },
  {
   "cell_type": "markdown",
   "metadata": {},
   "source": [
    "### Keras Layers & Models Converting Between Orbital Elements and Cartesian Configuration"
   ]
  },
  {
   "cell_type": "markdown",
   "metadata": {},
   "source": [
    "The layer `ArcCos2` is a customized version of ArcCos matching one defined in Rebound.  It takes inputs `x`, `r` and `y` and returns an angle in the correct quadrant based on the sign of `y`.<br>\n",
    "The layer `OrbitalElementToConfig` takes as inputs six orbital elements (`a`, `e`, `inc`, `Omega`, `omega`, `f`) and returns six Cartesian coordinates (`qx`, `qy`, `qz`, `vx`, `vy`, `vz`).  It is relatively straightforward and consists mainly of sums and products of trigonmetric functions.  It is ported almost verbatim from the Rebound library into Tensorflow.<br>\n",
    "The layer `ConfigToOrbitalElement` transforms a Cartesian configuration into orbital elements.  This is not as straightforward because some configurations can be described in multiple ways.  For example, in a circular orbit, the longitude of the ascending node `Omega` is not uniquely defined.  A subset of the code in Rebound was ported.  Special edge cases were ignored, but the main case was ported over.  This appears to work fine for orbits of the types being studied here.<br>\n",
    "A Keras layer is similar to a model, but a model has additional functionality.  Here we want to test whether the custom layers are matching the calculations done in Rebound, so we want to use the evaluate method on a model.<br>\n",
    "The function `make_model_elt_to_cfg` wraps the `OrbitalElementToConfig` layer into a Keras model.<br>\n",
    "The function `make_model_cfg_to_elt` wraps the `ConfigToOrbitalElement` layer into a Keras model."
   ]
  },
  {
   "cell_type": "code",
   "execution_count": 10,
   "metadata": {},
   "outputs": [],
   "source": [
    "# Create a model mapping orbital elements to cartesian coordinates\n",
    "model_e2c = make_model_elt_to_cfg(include_accel=True)"
   ]
  },
  {
   "cell_type": "markdown",
   "metadata": {},
   "source": [
    "### Test Conversion From Orbital Elements to Cartesian Configuration"
   ]
  },
  {
   "cell_type": "code",
   "execution_count": 11,
   "metadata": {},
   "outputs": [
    {
     "ename": "NameError",
     "evalue": "name 'VectorError' is not defined",
     "output_type": "error",
     "traceback": [
      "\u001b[0;31m---------------------------------------------------------------------------\u001b[0m",
      "\u001b[0;31mNameError\u001b[0m                                 Traceback (most recent call last)",
      "\u001b[0;32m<ipython-input-11-cad94f9fa27c>\u001b[0m in \u001b[0;36m<module>\u001b[0;34m\u001b[0m\n\u001b[1;32m      2\u001b[0m \u001b[0moptimizer\u001b[0m \u001b[0;34m=\u001b[0m \u001b[0mkeras\u001b[0m\u001b[0;34m.\u001b[0m\u001b[0moptimizers\u001b[0m\u001b[0;34m.\u001b[0m\u001b[0mAdam\u001b[0m\u001b[0;34m(\u001b[0m\u001b[0mlearning_rate\u001b[0m\u001b[0;34m=\u001b[0m\u001b[0;36m1.0E-3\u001b[0m\u001b[0;34m)\u001b[0m\u001b[0;34m\u001b[0m\u001b[0;34m\u001b[0m\u001b[0m\n\u001b[1;32m      3\u001b[0m \u001b[0;34m\u001b[0m\u001b[0m\n\u001b[0;32m----> 4\u001b[0;31m loss = {'q': VectorError(name='q_loss'),\n\u001b[0m\u001b[1;32m      5\u001b[0m         \u001b[0;34m'v'\u001b[0m\u001b[0;34m:\u001b[0m \u001b[0mVectorError\u001b[0m\u001b[0;34m(\u001b[0m\u001b[0mname\u001b[0m\u001b[0;34m=\u001b[0m\u001b[0;34m'v_loss'\u001b[0m\u001b[0;34m)\u001b[0m\u001b[0;34m,\u001b[0m\u001b[0;34m\u001b[0m\u001b[0;34m\u001b[0m\u001b[0m\n\u001b[1;32m      6\u001b[0m         'acc': VectorError(name='acc_loss'),}\n",
      "\u001b[0;31mNameError\u001b[0m: name 'VectorError' is not defined"
     ]
    }
   ],
   "source": [
    "# Inputs to compile this model\n",
    "optimizer = keras.optimizers.Adam(learning_rate=1.0E-3)\n",
    "\n",
    "loss = {'q': VectorError(name='q_loss'),\n",
    "        'v': VectorError(name='v_loss'),\n",
    "        'acc': VectorError(name='acc_loss'),}\n",
    "\n",
    "metrics = None\n",
    "\n",
    "loss_weights = {'q': 1.0,\n",
    "                'v': 1.0,\n",
    "                'acc': 1.0}"
   ]
  },
  {
   "cell_type": "code",
   "execution_count": null,
   "metadata": {},
   "outputs": [],
   "source": [
    "# Compile the e2c model\n",
    "model_e2c.compile(optimizer=optimizer, loss=loss, metrics=metrics, loss_weights=loss_weights)"
   ]
  },
  {
   "cell_type": "code",
   "execution_count": null,
   "metadata": {},
   "outputs": [],
   "source": [
    "# Summary of the model mapping orbital elements to position\n",
    "model_e2c.summary()"
   ]
  },
  {
   "cell_type": "code",
   "execution_count": null,
   "metadata": {},
   "outputs": [],
   "source": [
    "# Verify that model matches rebound\n",
    "model_e2c.evaluate(ds_e2c)"
   ]
  },
  {
   "cell_type": "code",
   "execution_count": null,
   "metadata": {},
   "outputs": [],
   "source": [
    "q_out, v_out, acc_out = model_e2c([a, e, inc, Omega, omega, f, mu])\n",
    "traj_shape = (64, 3,)\n",
    "q_out = tf.reshape(q_out, traj_shape)\n",
    "v_out = tf.reshape(v_out, traj_shape)\n",
    "acc_out = tf.reshape(acc_out, traj_shape)"
   ]
  },
  {
   "cell_type": "markdown",
   "metadata": {},
   "source": [
    "**The model converts from orbital elements to Cartesian coordinates with very high accuracy, on the order of 1E-14 in the MSE.**<br>\n",
    "Since the error here is squared, this is line with the full single precision of 7-8 decimal places."
   ]
  },
  {
   "cell_type": "markdown",
   "metadata": {},
   "source": [
    "We can also run the layer directly, as below:"
   ]
  },
  {
   "cell_type": "code",
   "execution_count": null,
   "metadata": {},
   "outputs": [],
   "source": [
    "# Run the layer on the batch of orbital elements\n",
    "inputs_e2c = (a, e, inc, Omega, omega, f, mu)\n",
    "cart_rec = OrbitalElementToConfig()(inputs_e2c)"
   ]
  },
  {
   "cell_type": "markdown",
   "metadata": {},
   "source": [
    "### Test Conversion From Cartesian Configuration to Orbital Elements"
   ]
  },
  {
   "cell_type": "code",
   "execution_count": null,
   "metadata": {},
   "outputs": [],
   "source": [
    "# Create a model mapping cartesian coordinates to orbital elements\n",
    "model_c2e = make_model_cfg_to_elt()"
   ]
  },
  {
   "cell_type": "code",
   "execution_count": null,
   "metadata": {},
   "outputs": [],
   "source": [
    "# Inputs to compile the c2e model\n",
    "optimizer = keras.optimizers.Adam(learning_rate=1.0E-3)\n",
    "\n",
    "loss = {'a': keras.losses.MeanSquaredError(),\n",
    "        'e': keras.losses.MeanSquaredError(),\n",
    "        'inc': keras.losses.MeanSquaredError(),\n",
    "        'Omega': keras.losses.MeanSquaredError(),\n",
    "        'omega': keras.losses.MeanSquaredError(),\n",
    "        'f': keras.losses.MeanSquaredError(),\n",
    "       }\n",
    "\n",
    "metrics = None\n",
    "\n",
    "loss_weights = {'a': 1.0,\n",
    "                'e': 1.0,\n",
    "                'inc': 1.0,\n",
    "                'Omega': 1.0,\n",
    "                'omega': 1.0,\n",
    "                'f': 1.0}"
   ]
  },
  {
   "cell_type": "code",
   "execution_count": null,
   "metadata": {},
   "outputs": [],
   "source": [
    "model_c2e.summary()"
   ]
  },
  {
   "cell_type": "code",
   "execution_count": null,
   "metadata": {},
   "outputs": [],
   "source": [
    "# Compile the c2e model\n",
    "model_c2e.compile(optimizer=optimizer, loss=loss, metrics=metrics, loss_weights=loss_weights)"
   ]
  },
  {
   "cell_type": "code",
   "execution_count": null,
   "metadata": {},
   "outputs": [],
   "source": [
    "model_c2e.evaluate(ds_c2e)"
   ]
  },
  {
   "cell_type": "markdown",
   "metadata": {},
   "source": [
    "**The model converts from Cartesian coordinates to orbital elements with very high accuracy, on the order of 1E-13 to 1E-14 in the MSE.**<br>\n",
    "Since the error here is squared, this is approaching full single precision of 7-8 decimal places."
   ]
  },
  {
   "cell_type": "markdown",
   "metadata": {},
   "source": [
    "We can also run the `ConfigToOrbitalElement` layer directly, as below:"
   ]
  },
  {
   "cell_type": "code",
   "execution_count": null,
   "metadata": {},
   "outputs": [],
   "source": [
    "# Run the layer on the batch of orbital elements\n",
    "qx = q[:,0]\n",
    "qy = q[:,1]\n",
    "qz = q[:,2]\n",
    "vx = v[:,0]\n",
    "vy = v[:,1]\n",
    "vz = v[:,2]\n",
    "inputs_c2e = (qx, qy, qz, vx, vy, vz, mu)\n",
    "elt_rec = ConfigToOrbitalElement()(inputs_c2e)"
   ]
  },
  {
   "cell_type": "code",
   "execution_count": null,
   "metadata": {},
   "outputs": [],
   "source": [
    "# Review shapes\n",
    "print(f'Example batch sizes:')\n",
    "print(f'qx   = {qx.shape}')\n",
    "print(f'vx   = {vx.shape}')\n",
    "print(f'mu   = {mu.shape}')"
   ]
  },
  {
   "cell_type": "markdown",
   "metadata": {},
   "source": [
    "### Conversion from Mean Anomaly to True Anomaly"
   ]
  },
  {
   "cell_type": "markdown",
   "metadata": {},
   "source": [
    "One major advantage of Keplerian orbital elements is that they allow for easy calculation orbits.  Of the six orbital elements, 5 of them remain constant during the evolution of the restricted two body problem.  Only the true anomaly `f` (or equivalently the mean anomaly `M`) change.  The parameters `a`, `e`, `inc`, `Omega` and `omega` all remain constant.<br>\n",
    "The mean anomaly `M` changes linearly with time, making it simple to evolve. In order to recover the predicted Cartesian coordinates though, we need a way to convert from the mean anomaly `M` back to the true anomaly `f`.  This can be done in two stages.<br>\n",
    "The mean anomly `M` is related to the eccentric anomaly `E` and the eccentricity `e` by **Kepler's Equation**:\n",
    "$$ M = E - e \\sin E$$\n",
    "See https://en.wikipedia.org/wiki/Kepler%27s_equation<br>\n",
    "The calculation from `E` to `M` can be done in closed form according to the above formula.  The inverse function cannot be computed symbolically, but a numerical approach such as Newton's method will converge rapidly.  This is the method used in the layer `MeanToEccentricAnomaly`.  The code is ported from Rebound.  There is some subtlety involved in using Tensorflow operations (tf.cond must be used in place of an if statement) but it's not too complicated.<br>\n",
    "The second step is to convert from the eccentric anomaly `E` to the true anomaly `f`.  This is easy and accomplished by a one liner:\n",
    "$$ \\tan \\frac{f}{2} = \\sqrt{\\frac{1 + e}{1-e}} \\cdot \\tan \\frac{E}{2}$$\n",
    "This formula is used in the layer `MeanToTrueAnomaly`"
   ]
  },
  {
   "cell_type": "code",
   "execution_count": null,
   "metadata": {},
   "outputs": [],
   "source": [
    "a, e, inc, Omega, omega, f, M, N = elt_rec"
   ]
  },
  {
   "cell_type": "code",
   "execution_count": null,
   "metadata": {},
   "outputs": [],
   "source": [
    "# Test the mean anomaly convervsion functions\n",
    "E = MeanToEccentricAnomaly()((M, e))\n",
    "f_rec = MeanToTrueAnomaly()((M, e))\n",
    "\n",
    "# Compute the RMS error\n",
    "two_pi = 2.0 * np.pi\n",
    "f_err = (f_rec % two_pi) - (f % two_pi)\n",
    "rms_err = np.sqrt(np.mean(f_err * f_err))\n",
    "print(f'RMS error of true anomaly f from mean anomaly M:')\n",
    "print(f'{rms_err:5.2E}')"
   ]
  },
  {
   "cell_type": "markdown",
   "metadata": {},
   "source": [
    "**The calculation recovers the starting true anomaly f to an RMS on the order of 1E-6**<br>\n",
    "This could be slightly improved by using more iterations, but already accurate enough for the intended use case."
   ]
  }
 ],
 "metadata": {
  "kernelspec": {
   "display_name": "Python [conda env:kepler]",
   "language": "python",
   "name": "conda-env-kepler-py"
  },
  "language_info": {
   "codemirror_mode": {
    "name": "ipython",
    "version": 3
   },
   "file_extension": ".py",
   "mimetype": "text/x-python",
   "name": "python",
   "nbconvert_exporter": "python",
   "pygments_lexer": "ipython3",
   "version": "3.7.6"
  }
 },
 "nbformat": 4,
 "nbformat_minor": 4
}
