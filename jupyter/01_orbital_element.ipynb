{
 "cells": [
  {
   "cell_type": "markdown",
   "metadata": {},
   "source": [
    "# Orbital Elements to Cartesian Coordinates"
   ]
  },
  {
   "cell_type": "code",
   "execution_count": null,
   "metadata": {},
   "outputs": [],
   "source": [
    "# Library imports\n",
    "import tensorflow as tf\n",
    "import rebound\n",
    "import numpy as np\n",
    "import matplotlib.pyplot as plt\n",
    "import time\n",
    "\n",
    "# Aliases\n",
    "keras = tf.keras"
   ]
  },
  {
   "cell_type": "code",
   "execution_count": null,
   "metadata": {},
   "outputs": [],
   "source": [
    "# Local imports\n",
    "import kepler_sieve\n",
    "from utils import load_vartbl, save_vartbl, plot_style\n",
    "from tf_utils import gpu_grow_memory\n",
    "# from tf_utils import Identity\n",
    "# from r2b import VectorError\n",
    "from orbital_element import make_data_orb_elt, make_dataset_elt_to_cfg, make_dataset_cfg_to_elt\n",
    "from orbital_element import OrbitalElementToConfig, make_model_elt_to_cfg\n",
    "from orbital_element import ConfigToOrbitalElement, make_model_cfg_to_elt\n",
    "from orbital_element import MeanToEccentricAnomaly, MeanToTrueAnomaly"
   ]
  },
  {
   "cell_type": "code",
   "execution_count": 3,
   "metadata": {},
   "outputs": [],
   "source": [
    "# Grow GPU memory (must be first operation in TF)\n",
    "gpu_grow_memory()"
   ]
  },
  {
   "cell_type": "code",
   "execution_count": 4,
   "metadata": {},
   "outputs": [],
   "source": [
    "# Plot style \n",
    "plot_style()"
   ]
  },
  {
   "cell_type": "code",
   "execution_count": 5,
   "metadata": {},
   "outputs": [],
   "source": [
    "# Lightweight serialization\n",
    "fname = '../data/r2b/orbital_element.pickle'\n",
    "vartbl = load_vartbl(fname)"
   ]
  },
  {
   "cell_type": "markdown",
   "metadata": {},
   "source": [
    "### Orbital Element Definitions"
   ]
  },
  {
   "cell_type": "markdown",
   "metadata": {},
   "source": [
    "The module `orbital_element.py` contains calculations related to traditional orbital elements.<br>\n",
    "All conventions and variable names follow those used in the `rebound` N-body integrator package.<br>"
   ]
  },
  {
   "cell_type": "markdown",
   "metadata": {},
   "source": [
    "![title](../figs/web/orbital-elements.png)\n",
    "\n",
    "In this diagram, the orbital plane (yellow) intersects a reference plane (gray).<br>\n",
    "For Earth-orbiting satellites, the reference plane is usually the Earth's equatorial plane, and for satellites in solar orbits it is the ecliptic plane.<br>\n",
    "The intersection is called the line of nodes, as it connects the center of mass with the ascending and descending nodes.<br>\n",
    "The reference plane, together with the vernal point (♈︎), establishes a reference frame.\n",
    "\n",
    "**Discussion of Orbital Elements (Wikipedia)**\n",
    "\n",
    "Two elements define the shape and size of the ellipse:\n",
    "\n",
    "* **Eccentricity (e)**—shape of the ellipse, describing how much it is elongated compared to a circle (not marked in diagram).\n",
    "* **Semimajor axis (a)**—the sum of the periapsis and apoapsis distances divided by two. For circular orbits, the semimajor axis is the distance between the centers of the bodies, not the distance of the bodies from the center of mass.\n",
    "\n",
    "Two elements define the orientation of the orbital plane in which the ellipse is embedded:\n",
    "\n",
    "* **Inclination (i)**—vertical tilt of the ellipse with respect to the reference plane, measured at the ascending node (where the orbit passes upward through the reference plane, the green angle i in the diagram). Tilt angle is measured perpendicular to line of intersection between orbital plane and reference plane. Any three points on an ellipse will define the ellipse orbital plane. The plane and the ellipse are both two-dimensional objects defined in three-dimensional space.\n",
    "* **Longitude of the ascending node (Ω)**—horizontally orients the ascending node of the ellipse (where the orbit passes upward through the reference plane, symbolized by ☊) with respect to the reference frame's vernal point (symbolized by ♈︎). This is measured in the reference plane, and is shown as the green angle Ω in the diagram.\n",
    "\n",
    "The remaining two elements are as follows:\n",
    "\n",
    "* **Argument of periapsis (ω)** defines the orientation of the ellipse in the orbital plane, as an angle measured from the ascending node to the periapsis (the closest point the satellite object comes to the primary object around which it orbits, the blue angle ω in the diagram).\n",
    "* **True anomaly (ν, θ, or f) at epoch (M0)** defines the position of the orbiting body along the ellipse at a specific time (the \"epoch\").\n",
    "\n",
    "The mean anomaly is a mathematically convenient \"angle\" which varies linearly with time, but which does not correspond to a real geometric angle. It can be converted into the true anomaly ν, which does represent the real geometric angle in the plane of the ellipse, between periapsis (closest approach to the central body) and the position of the orbiting object at any given time. Thus, the true anomaly is shown as the red angle ν in the diagram, and the mean anomaly is not shown.\n",
    "\n",
    "The angles of inclination, longitude of the ascending node, and argument of periapsis can also be described as the Euler angles defining the orientation of the orbit relative to the reference coordinate system.\n",
    "\n",
    "Note that non-elliptic trajectories also exist, but are not closed, and are thus not orbits. If the eccentricity is greater than one, the trajectory is a hyperbola. If the eccentricity is equal to one and the angular momentum is zero, the trajectory is radial. If the eccentricity is one and there is angular momentum, the trajectory is a parabola.\n",
    "\n",
    "**Credit: Wikipedia** - https://en.wikipedia.org/wiki/Orbital_elements"
   ]
  },
  {
   "cell_type": "markdown",
   "metadata": {},
   "source": [
    "**Variable Names of Six Keplerian Orbital Elements**\n",
    "* `a` - semi-major axis; size of the ellipse; mean of periapsis and apoapsis distances\n",
    "* `e` - eccentricity; shape of the ellipse.  e=0 is a circle, e=1 is a line.  $e^2 = 1 - b^2 / a^2$\n",
    "* `inc` - inclination; angle between orbital and ecliptic planes\n",
    "* `Omega` - longitude of the asending node; undefined when inc=0\n",
    "* `omega` - argument of pericenter; true anomaly where body is closest to the primary.\n",
    "* `f` - true anomaly; angle of the orbiting body in its orbital plane\n",
    "\n",
    "**Two Additional Elements**\n",
    "* `M` - mean anomaly; area swept out by the orbiting body, normalized so a full orbit is $2 \\pi$.  Because of the rule of equal area in equal time, a.k.a. conservation of angular momentum, the mean anomly is linear in time\n",
    "* `N` - mean motion; rate at which mean anomly changes, i.e. $2 \\pi / T$ where $T$ is the orbital period"
   ]
  },
  {
   "cell_type": "markdown",
   "metadata": {},
   "source": [
    "### Generating Reference Data Sets for Testing Orbital Element Calculations"
   ]
  },
  {
   "cell_type": "markdown",
   "metadata": {},
   "source": [
    "The function `make_data_orb_elt` generates a data set used to test the conversion functions between Cartesian coordinates and orbital elements.  It initializes an orbit with parameters (`a`, `e`, `inc`, `Omega`, `omega`, `f`) in the Rebound package.<br>\n",
    "* `a` is sampled uniformly in the range [`a_min`, `a_max`]\n",
    "* `e` is sampled uniformly in the range [0, `e_max`]\n",
    "* `inc` is sampled uniformly in the range [0, `inc_max`]\n",
    "* `Omega`, `omega` and `f` are sampled uniformly in the range [$-\\pi, +\\pi$]\n",
    "After a particle is initialized with these parameters, the Cartesian position and velocity are accessed and saved.  One entry in Cartesian configuration space has six coordinates: the x, y, and z coordinates of position and velocity.\n",
    "\n",
    "The function `make_dataset_elt_to_cfg` wraps this data into a tensorflow dataset object whose inputs are orbital elements and whose outputs are in Cartesian configuration space.\n",
    "\n",
    "The function `make_dataset_cfg_to_elt` wraps this data into a tensorflow dataset object whose inputs are Cartesian configurations and whose outputs are orbital elements."
   ]
  },
  {
   "cell_type": "code",
   "execution_count": 6,
   "metadata": {},
   "outputs": [],
   "source": [
    "# Create small data set for orbital elements; dictionaries of numpy arrays\n",
    "n = 128\n",
    "a_min = 1.0\n",
    "a_max = 2.0\n",
    "e_max = 1.0\n",
    "inc_max = np.pi/4.0\n",
    "seed=42\n",
    "elts, cart = make_data_orb_elt(n=n, a_min=a_min, a_max=a_max, e_max=e_max, inc_max=inc_max, seed=seed)"
   ]
  },
  {
   "cell_type": "code",
   "execution_count": 7,
   "metadata": {},
   "outputs": [],
   "source": [
    "# Create a tensorflow Dataset instance in both directions\n",
    "batch_size = 64\n",
    "ds_e2c = make_dataset_elt_to_cfg(n=n, a_min=a_min, a_max=a_max, e_max=e_max, \n",
    "                                 inc_max=inc_max, seed=seed, batch_size=batch_size)\n",
    "ds_c2e = make_dataset_cfg_to_elt(n=n, a_min=a_min, a_max=a_max, e_max=e_max, \n",
    "                                 inc_max=inc_max, seed=seed, batch_size=batch_size)"
   ]
  },
  {
   "cell_type": "code",
   "execution_count": 8,
   "metadata": {},
   "outputs": [
    {
     "name": "stdout",
     "output_type": "stream",
     "text": [
      "Example batch sizes:\n",
      "a    = (64,)\n",
      "e    = (64,)\n",
      "inc  = (64,)\n",
      "Omega= (64,)\n",
      "omega= (64,)\n",
      "f    = (64,)\n",
      "mu   = (64,)\n",
      "q    = (64, 3)\n",
      "v    = (64, 3)\n",
      "acc  = (64, 3)\n"
     ]
    }
   ],
   "source": [
    "# Example batch\n",
    "elts, cart = list(ds_e2c.take(1))[0]\n",
    "\n",
    "# Unpack orbital elements\n",
    "a = elts['a']\n",
    "e = elts['e']\n",
    "inc = elts['inc']\n",
    "Omega = elts['Omega']\n",
    "omega = elts['omega']\n",
    "f = elts['f']\n",
    "mu = elts['mu']\n",
    "\n",
    "# Unpack cartesian coordinates\n",
    "q = cart['q']\n",
    "v = cart['v']\n",
    "acc = cart['acc']\n",
    "\n",
    "# Review shapes\n",
    "print(f'Example batch sizes:')\n",
    "print(f'a    = {a.shape}')\n",
    "print(f'e    = {e.shape}')\n",
    "print(f'inc  = {inc.shape}')\n",
    "print(f'Omega= {Omega.shape}')\n",
    "print(f'omega= {omega.shape}')\n",
    "print(f'f    = {f.shape}')\n",
    "print(f'mu   = {f.shape}')\n",
    "print(f'q    = {q.shape}')\n",
    "print(f'v    = {v.shape}')\n",
    "print(f'acc  = {acc.shape}')"
   ]
  },
  {
   "cell_type": "markdown",
   "metadata": {},
   "source": [
    "### Keras Layers & Models Converting Between Orbital Elements and Cartesian Configuration"
   ]
  },
  {
   "cell_type": "markdown",
   "metadata": {},
   "source": [
    "The layer `ArcCos2` is a customized version of ArcCos matching one defined in Rebound.  It takes inputs `x`, `r` and `y` and returns an angle in the correct quadrant based on the sign of `y`.<br>\n",
    "The layer `OrbitalElementToConfig` takes as inputs six orbital elements (`a`, `e`, `inc`, `Omega`, `omega`, `f`) and returns six Cartesian coordinates (`qx`, `qy`, `qz`, `vx`, `vy`, `vz`).  It is relatively straightforward and consists mainly of sums and products of trigonmetric functions.  It is ported almost verbatim from the Rebound library into Tensorflow.<br>\n",
    "The layer `ConfigToOrbitalElement` transforms a Cartesian configuration into orbital elements.  This is not as straightforward because some configurations can be described in multiple ways.  For example, in a circular orbit, the longitude of the ascending node `Omega` is not uniquely defined.  A subset of the code in Rebound was ported.  Special edge cases were ignored, but the main case was ported over.  This appears to work fine for orbits of the types being studied here.<br>\n",
    "A Keras layer is similar to a model, but a model has additional functionality.  Here we want to test whether the custom layers are matching the calculations done in Rebound, so we want to use the evaluate method on a model.<br>\n",
    "The function `make_model_elt_to_cfg` wraps the `OrbitalElementToConfig` layer into a Keras model.<br>\n",
    "The function `make_model_cfg_to_elt` wraps the `ConfigToOrbitalElement` layer into a Keras model."
   ]
  },
  {
   "cell_type": "code",
   "execution_count": 9,
   "metadata": {},
   "outputs": [],
   "source": [
    "# Create a model mapping orbital elements to cartesian coordinates\n",
    "model_e2c = make_model_elt_to_cfg(include_accel=True)"
   ]
  },
  {
   "cell_type": "markdown",
   "metadata": {},
   "source": [
    "### Test Conversion From Orbital Elements to Cartesian Configuration"
   ]
  },
  {
   "cell_type": "code",
   "execution_count": 19,
   "metadata": {},
   "outputs": [],
   "source": [
    "from tensorflow.python.ops import math_ops\n",
    "from tensorflow.python.keras import backend as K\n",
    "\n",
    "class VectorError(keras.losses.Loss):\n",
    "    \"\"\"Specialized loss for error in a vector like velocity or acceleration.\"\"\"\n",
    "    def __init__(self, regularizer=0.0, **kwargs):\n",
    "        super(VectorError, self).__init__(**kwargs)\n",
    "        self.regularizer = tf.constant(regularizer)\n",
    "\n",
    "    def call(self, y_true, y_pred):\n",
    "        err2_num = math_ops.reduce_sum(math_ops.square(y_true - y_pred), axis=-1)\n",
    "        err2_den = math_ops.reduce_sum(math_ops.square(y_true), axis=-1) + self.regularizer\n",
    "        return K.mean(err2_num / err2_den)"
   ]
  },
  {
   "cell_type": "code",
   "execution_count": 20,
   "metadata": {},
   "outputs": [],
   "source": [
    "# Inputs to compile this model\n",
    "optimizer = keras.optimizers.Adam(learning_rate=1.0E-3)\n",
    "\n",
    "loss = {'q': VectorError(name='q_loss'),\n",
    "        'v': VectorError(name='v_loss'),\n",
    "        'acc': VectorError(name='acc_loss'),}\n",
    "\n",
    "metrics = None\n",
    "\n",
    "loss_weights = {'q': 1.0,\n",
    "                'v': 1.0,\n",
    "                'acc': 1.0}"
   ]
  },
  {
   "cell_type": "code",
   "execution_count": 21,
   "metadata": {},
   "outputs": [],
   "source": [
    "# Compile the e2c model\n",
    "model_e2c.compile(optimizer=optimizer, loss=loss, metrics=metrics, loss_weights=loss_weights)"
   ]
  },
  {
   "cell_type": "code",
   "execution_count": 22,
   "metadata": {},
   "outputs": [
    {
     "name": "stdout",
     "output_type": "stream",
     "text": [
      "Model: \"orbital_element_to_cartesian\"\n",
      "__________________________________________________________________________________________________\n",
      "Layer (type)                    Output Shape         Param #     Connected to                     \n",
      "==================================================================================================\n",
      "a (InputLayer)                  [(64, 1)]            0                                            \n",
      "__________________________________________________________________________________________________\n",
      "e (InputLayer)                  [(64, 1)]            0                                            \n",
      "__________________________________________________________________________________________________\n",
      "inc (InputLayer)                [(64, 1)]            0                                            \n",
      "__________________________________________________________________________________________________\n",
      "Omega (InputLayer)              [(64, 1)]            0                                            \n",
      "__________________________________________________________________________________________________\n",
      "omega (InputLayer)              [(64, 1)]            0                                            \n",
      "__________________________________________________________________________________________________\n",
      "f (InputLayer)                  [(64, 1)]            0                                            \n",
      "__________________________________________________________________________________________________\n",
      "mu (InputLayer)                 [(64, 1)]            0                                            \n",
      "__________________________________________________________________________________________________\n",
      "orbital_element_to_config (Orbi ((64, 1), (64, 1), ( 0           a[0][0]                          \n",
      "                                                                 e[0][0]                          \n",
      "                                                                 inc[0][0]                        \n",
      "                                                                 Omega[0][0]                      \n",
      "                                                                 omega[0][0]                      \n",
      "                                                                 f[0][0]                          \n",
      "                                                                 mu[0][0]                         \n",
      "__________________________________________________________________________________________________\n",
      "q (Concatenate)                 (64, 3)              0           orbital_element_to_config[0][0]  \n",
      "                                                                 orbital_element_to_config[0][1]  \n",
      "                                                                 orbital_element_to_config[0][2]  \n",
      "__________________________________________________________________________________________________\n",
      "v (Concatenate)                 (64, 3)              0           orbital_element_to_config[0][3]  \n",
      "                                                                 orbital_element_to_config[0][4]  \n",
      "                                                                 orbital_element_to_config[0][5]  \n",
      "__________________________________________________________________________________________________\n",
      "acc (Concatenate)               (64, 3)              0           orbital_element_to_config[0][6]  \n",
      "                                                                 orbital_element_to_config[0][7]  \n",
      "                                                                 orbital_element_to_config[0][8]  \n",
      "==================================================================================================\n",
      "Total params: 0\n",
      "Trainable params: 0\n",
      "Non-trainable params: 0\n",
      "__________________________________________________________________________________________________\n"
     ]
    }
   ],
   "source": [
    "# Summary of the model mapping orbital elements to position\n",
    "model_e2c.summary()"
   ]
  },
  {
   "cell_type": "code",
   "execution_count": 23,
   "metadata": {},
   "outputs": [
    {
     "name": "stdout",
     "output_type": "stream",
     "text": [
      "2/2 [==============================] - 0s 95ms/step - loss: 6.9324e-08 - q_loss: 2.0986e-14 - v_loss: 9.0254e-15 - acc_loss: 6.9324e-08\n"
     ]
    },
    {
     "data": {
      "text/plain": [
       "[6.932418727956247e-08, 2.0985675e-14, 9.025359e-15, 6.932416e-08]"
      ]
     },
     "execution_count": 23,
     "metadata": {},
     "output_type": "execute_result"
    }
   ],
   "source": [
    "# Verify that model matches rebound\n",
    "model_e2c.evaluate(ds_e2c)"
   ]
  },
  {
   "cell_type": "code",
   "execution_count": 24,
   "metadata": {},
   "outputs": [
    {
     "name": "stdout",
     "output_type": "stream",
     "text": [
      "WARNING:tensorflow:Model was constructed with shape Tensor(\"a:0\", shape=(64, 1), dtype=float32) for input (64, 1), but it was re-called on a Tensor with incompatible shape (64,).\n",
      "WARNING:tensorflow:Model was constructed with shape Tensor(\"e:0\", shape=(64, 1), dtype=float32) for input (64, 1), but it was re-called on a Tensor with incompatible shape (64,).\n",
      "WARNING:tensorflow:Model was constructed with shape Tensor(\"inc:0\", shape=(64, 1), dtype=float32) for input (64, 1), but it was re-called on a Tensor with incompatible shape (64,).\n",
      "WARNING:tensorflow:Model was constructed with shape Tensor(\"Omega:0\", shape=(64, 1), dtype=float32) for input (64, 1), but it was re-called on a Tensor with incompatible shape (64,).\n",
      "WARNING:tensorflow:Model was constructed with shape Tensor(\"omega_1:0\", shape=(64, 1), dtype=float32) for input (64, 1), but it was re-called on a Tensor with incompatible shape (64,).\n",
      "WARNING:tensorflow:Model was constructed with shape Tensor(\"f:0\", shape=(64, 1), dtype=float32) for input (64, 1), but it was re-called on a Tensor with incompatible shape (64,).\n",
      "WARNING:tensorflow:Model was constructed with shape Tensor(\"mu:0\", shape=(64, 1), dtype=float32) for input (64, 1), but it was re-called on a Tensor with incompatible shape (64,).\n"
     ]
    }
   ],
   "source": [
    "q_out, v_out, acc_out = model_e2c([a, e, inc, Omega, omega, f, mu])\n",
    "traj_shape = (64, 3,)\n",
    "q_out = tf.reshape(q_out, traj_shape)\n",
    "v_out = tf.reshape(v_out, traj_shape)\n",
    "acc_out = tf.reshape(acc_out, traj_shape)"
   ]
  },
  {
   "cell_type": "markdown",
   "metadata": {},
   "source": [
    "**The model converts from orbital elements to Cartesian coordinates with very high accuracy, on the order of 1E-14 in the MSE.**<br>\n",
    "Since the error here is squared, this is line with the full single precision of 7-8 decimal places."
   ]
  },
  {
   "cell_type": "markdown",
   "metadata": {},
   "source": [
    "We can also run the layer directly, as below:"
   ]
  },
  {
   "cell_type": "code",
   "execution_count": 25,
   "metadata": {},
   "outputs": [],
   "source": [
    "# Run the layer on the batch of orbital elements\n",
    "inputs_e2c = (a, e, inc, Omega, omega, f, mu)\n",
    "cart_rec = OrbitalElementToConfig()(inputs_e2c)"
   ]
  },
  {
   "cell_type": "markdown",
   "metadata": {},
   "source": [
    "### Test Conversion From Cartesian Configuration to Orbital Elements"
   ]
  },
  {
   "cell_type": "code",
   "execution_count": 26,
   "metadata": {},
   "outputs": [
    {
     "name": "stdout",
     "output_type": "stream",
     "text": [
      "WARNING:tensorflow:Layer inc_fp64 is casting an input tensor from dtype float64 to the layer's dtype of float32, which is new behavior in TensorFlow 2.  The layer has dtype float32 because it's dtype defaults to floatx.\n",
      "\n",
      "If you intended to run this layer in float32, you can safely ignore this warning. If in doubt, this warning is likely only an issue if you are porting a TensorFlow 1.X model to TensorFlow 2.\n",
      "\n",
      "To change all layers to have dtype float64 by default, call `tf.keras.backend.set_floatx('float64')`. To change just this layer, pass dtype='float64' to the layer constructor. If you are the author of this layer, you can disable autocasting by passing autocast=False to the base Layer constructor.\n",
      "\n",
      "WARNING:tensorflow:Layer Omega_fp64 is casting an input tensor from dtype float64 to the layer's dtype of float32, which is new behavior in TensorFlow 2.  The layer has dtype float32 because it's dtype defaults to floatx.\n",
      "\n",
      "If you intended to run this layer in float32, you can safely ignore this warning. If in doubt, this warning is likely only an issue if you are porting a TensorFlow 1.X model to TensorFlow 2.\n",
      "\n",
      "To change all layers to have dtype float64 by default, call `tf.keras.backend.set_floatx('float64')`. To change just this layer, pass dtype='float64' to the layer constructor. If you are the author of this layer, you can disable autocasting by passing autocast=False to the base Layer constructor.\n",
      "\n",
      "WARNING:tensorflow:Layer eccentric_anomaly is casting an input tensor from dtype float64 to the layer's dtype of float32, which is new behavior in TensorFlow 2.  The layer has dtype float32 because it's dtype defaults to floatx.\n",
      "\n",
      "If you intended to run this layer in float32, you can safely ignore this warning. If in doubt, this warning is likely only an issue if you are porting a TensorFlow 1.X model to TensorFlow 2.\n",
      "\n",
      "To change all layers to have dtype float64 by default, call `tf.keras.backend.set_floatx('float64')`. To change just this layer, pass dtype='float64' to the layer constructor. If you are the author of this layer, you can disable autocasting by passing autocast=False to the base Layer constructor.\n",
      "\n"
     ]
    },
    {
     "ename": "TypeError",
     "evalue": "in converted code:\n\n    /home/michael/IACS/kepler-sieve/src/orbital_element.py:411 call  *\n        M = ea - e * tf.sin(ea)\n    /home/michael/anaconda3/envs/kepler/lib/python3.7/site-packages/tensorflow_core/python/ops/math_ops.py:902 binary_op_wrapper\n        return func(x, y, name=name)\n    /home/michael/anaconda3/envs/kepler/lib/python3.7/site-packages/tensorflow_core/python/ops/math_ops.py:1201 _mul_dispatch\n        return gen_math_ops.mul(x, y, name=name)\n    /home/michael/anaconda3/envs/kepler/lib/python3.7/site-packages/tensorflow_core/python/ops/gen_math_ops.py:6125 mul\n        \"Mul\", x=x, y=y, name=name)\n    /home/michael/anaconda3/envs/kepler/lib/python3.7/site-packages/tensorflow_core/python/framework/op_def_library.py:504 _apply_op_helper\n        inferred_from[input_arg.type_attr]))\n\n    TypeError: Input 'y' of 'Mul' Op has type float32 that does not match type float64 of argument 'x'.\n",
     "output_type": "error",
     "traceback": [
      "\u001b[0;31m---------------------------------------------------------------------------\u001b[0m",
      "\u001b[0;31mTypeError\u001b[0m                                 Traceback (most recent call last)",
      "\u001b[0;32m<ipython-input-26-14863480906c>\u001b[0m in \u001b[0;36m<module>\u001b[0;34m\u001b[0m\n\u001b[1;32m      1\u001b[0m \u001b[0;31m# Create a model mapping cartesian coordinates to orbital elements\u001b[0m\u001b[0;34m\u001b[0m\u001b[0;34m\u001b[0m\u001b[0;34m\u001b[0m\u001b[0m\n\u001b[0;32m----> 2\u001b[0;31m \u001b[0mmodel_c2e\u001b[0m \u001b[0;34m=\u001b[0m \u001b[0mmake_model_cfg_to_elt\u001b[0m\u001b[0;34m(\u001b[0m\u001b[0;34m)\u001b[0m\u001b[0;34m\u001b[0m\u001b[0;34m\u001b[0m\u001b[0m\n\u001b[0m",
      "\u001b[0;32m~/IACS/kepler-sieve/src/orbital_element.py\u001b[0m in \u001b[0;36mmake_model_cfg_to_elt\u001b[0;34m(batch_size, name)\u001b[0m\n\u001b[1;32m    754\u001b[0m \u001b[0;34m\u001b[0m\u001b[0m\n\u001b[1;32m    755\u001b[0m     \u001b[0;31m# Calculations are in one layer that does all the work...\u001b[0m\u001b[0;34m\u001b[0m\u001b[0;34m\u001b[0m\u001b[0;34m\u001b[0m\u001b[0m\n\u001b[0;32m--> 756\u001b[0;31m     \u001b[0ma\u001b[0m\u001b[0;34m,\u001b[0m \u001b[0me\u001b[0m\u001b[0;34m,\u001b[0m \u001b[0minc\u001b[0m\u001b[0;34m,\u001b[0m \u001b[0mOmega\u001b[0m\u001b[0;34m,\u001b[0m \u001b[0momega\u001b[0m\u001b[0;34m,\u001b[0m \u001b[0mf\u001b[0m\u001b[0;34m,\u001b[0m \u001b[0mM\u001b[0m\u001b[0;34m,\u001b[0m \u001b[0mN\u001b[0m \u001b[0;34m=\u001b[0m \u001b[0mConfigToOrbitalElement\u001b[0m\u001b[0;34m(\u001b[0m\u001b[0mname\u001b[0m\u001b[0;34m=\u001b[0m\u001b[0;34m'config_to_orbital_element'\u001b[0m\u001b[0;34m)\u001b[0m\u001b[0;34m(\u001b[0m\u001b[0minputs_layer\u001b[0m\u001b[0;34m)\u001b[0m\u001b[0;34m\u001b[0m\u001b[0;34m\u001b[0m\u001b[0m\n\u001b[0m\u001b[1;32m    757\u001b[0m \u001b[0;34m\u001b[0m\u001b[0m\n\u001b[1;32m    758\u001b[0m     \u001b[0;31m# Name the outputs of the layer\u001b[0m\u001b[0;34m\u001b[0m\u001b[0;34m\u001b[0m\u001b[0;34m\u001b[0m\u001b[0m\n",
      "\u001b[0;32m~/anaconda3/envs/kepler/lib/python3.7/site-packages/tensorflow_core/python/keras/engine/base_layer.py\u001b[0m in \u001b[0;36m__call__\u001b[0;34m(self, inputs, *args, **kwargs)\u001b[0m\n\u001b[1;32m    771\u001b[0m                     not base_layer_utils.is_in_eager_or_tf_function()):\n\u001b[1;32m    772\u001b[0m                   \u001b[0;32mwith\u001b[0m \u001b[0mauto_control_deps\u001b[0m\u001b[0;34m.\u001b[0m\u001b[0mAutomaticControlDependencies\u001b[0m\u001b[0;34m(\u001b[0m\u001b[0;34m)\u001b[0m \u001b[0;32mas\u001b[0m \u001b[0macd\u001b[0m\u001b[0;34m:\u001b[0m\u001b[0;34m\u001b[0m\u001b[0;34m\u001b[0m\u001b[0m\n\u001b[0;32m--> 773\u001b[0;31m                     \u001b[0moutputs\u001b[0m \u001b[0;34m=\u001b[0m \u001b[0mcall_fn\u001b[0m\u001b[0;34m(\u001b[0m\u001b[0mcast_inputs\u001b[0m\u001b[0;34m,\u001b[0m \u001b[0;34m*\u001b[0m\u001b[0margs\u001b[0m\u001b[0;34m,\u001b[0m \u001b[0;34m**\u001b[0m\u001b[0mkwargs\u001b[0m\u001b[0;34m)\u001b[0m\u001b[0;34m\u001b[0m\u001b[0;34m\u001b[0m\u001b[0m\n\u001b[0m\u001b[1;32m    774\u001b[0m                     \u001b[0;31m# Wrap Tensors in `outputs` in `tf.identity` to avoid\u001b[0m\u001b[0;34m\u001b[0m\u001b[0;34m\u001b[0m\u001b[0;34m\u001b[0m\u001b[0m\n\u001b[1;32m    775\u001b[0m                     \u001b[0;31m# circular dependencies.\u001b[0m\u001b[0;34m\u001b[0m\u001b[0;34m\u001b[0m\u001b[0;34m\u001b[0m\u001b[0m\n",
      "\u001b[0;32m~/anaconda3/envs/kepler/lib/python3.7/site-packages/tensorflow_core/python/autograph/impl/api.py\u001b[0m in \u001b[0;36mwrapper\u001b[0;34m(*args, **kwargs)\u001b[0m\n\u001b[1;32m    235\u001b[0m       \u001b[0;32mexcept\u001b[0m \u001b[0mException\u001b[0m \u001b[0;32mas\u001b[0m \u001b[0me\u001b[0m\u001b[0;34m:\u001b[0m  \u001b[0;31m# pylint:disable=broad-except\u001b[0m\u001b[0;34m\u001b[0m\u001b[0;34m\u001b[0m\u001b[0m\n\u001b[1;32m    236\u001b[0m         \u001b[0;32mif\u001b[0m \u001b[0mhasattr\u001b[0m\u001b[0;34m(\u001b[0m\u001b[0me\u001b[0m\u001b[0;34m,\u001b[0m \u001b[0;34m'ag_error_metadata'\u001b[0m\u001b[0;34m)\u001b[0m\u001b[0;34m:\u001b[0m\u001b[0;34m\u001b[0m\u001b[0;34m\u001b[0m\u001b[0m\n\u001b[0;32m--> 237\u001b[0;31m           \u001b[0;32mraise\u001b[0m \u001b[0me\u001b[0m\u001b[0;34m.\u001b[0m\u001b[0mag_error_metadata\u001b[0m\u001b[0;34m.\u001b[0m\u001b[0mto_exception\u001b[0m\u001b[0;34m(\u001b[0m\u001b[0me\u001b[0m\u001b[0;34m)\u001b[0m\u001b[0;34m\u001b[0m\u001b[0;34m\u001b[0m\u001b[0m\n\u001b[0m\u001b[1;32m    238\u001b[0m         \u001b[0;32melse\u001b[0m\u001b[0;34m:\u001b[0m\u001b[0;34m\u001b[0m\u001b[0;34m\u001b[0m\u001b[0m\n\u001b[1;32m    239\u001b[0m           \u001b[0;32mraise\u001b[0m\u001b[0;34m\u001b[0m\u001b[0;34m\u001b[0m\u001b[0m\n",
      "\u001b[0;31mTypeError\u001b[0m: in converted code:\n\n    /home/michael/IACS/kepler-sieve/src/orbital_element.py:411 call  *\n        M = ea - e * tf.sin(ea)\n    /home/michael/anaconda3/envs/kepler/lib/python3.7/site-packages/tensorflow_core/python/ops/math_ops.py:902 binary_op_wrapper\n        return func(x, y, name=name)\n    /home/michael/anaconda3/envs/kepler/lib/python3.7/site-packages/tensorflow_core/python/ops/math_ops.py:1201 _mul_dispatch\n        return gen_math_ops.mul(x, y, name=name)\n    /home/michael/anaconda3/envs/kepler/lib/python3.7/site-packages/tensorflow_core/python/ops/gen_math_ops.py:6125 mul\n        \"Mul\", x=x, y=y, name=name)\n    /home/michael/anaconda3/envs/kepler/lib/python3.7/site-packages/tensorflow_core/python/framework/op_def_library.py:504 _apply_op_helper\n        inferred_from[input_arg.type_attr]))\n\n    TypeError: Input 'y' of 'Mul' Op has type float32 that does not match type float64 of argument 'x'.\n"
     ]
    }
   ],
   "source": [
    "# Create a model mapping cartesian coordinates to orbital elements\n",
    "model_c2e = make_model_cfg_to_elt()"
   ]
  },
  {
   "cell_type": "code",
   "execution_count": null,
   "metadata": {},
   "outputs": [],
   "source": [
    "# Inputs to compile the c2e model\n",
    "optimizer = keras.optimizers.Adam(learning_rate=1.0E-3)\n",
    "\n",
    "loss = {'a': keras.losses.MeanSquaredError(),\n",
    "        'e': keras.losses.MeanSquaredError(),\n",
    "        'inc': keras.losses.MeanSquaredError(),\n",
    "        'Omega': keras.losses.MeanSquaredError(),\n",
    "        'omega': keras.losses.MeanSquaredError(),\n",
    "        'f': keras.losses.MeanSquaredError(),\n",
    "       }\n",
    "\n",
    "metrics = None\n",
    "\n",
    "loss_weights = {'a': 1.0,\n",
    "                'e': 1.0,\n",
    "                'inc': 1.0,\n",
    "                'Omega': 1.0,\n",
    "                'omega': 1.0,\n",
    "                'f': 1.0}"
   ]
  },
  {
   "cell_type": "code",
   "execution_count": null,
   "metadata": {},
   "outputs": [],
   "source": [
    "model_c2e.summary()"
   ]
  },
  {
   "cell_type": "code",
   "execution_count": null,
   "metadata": {},
   "outputs": [],
   "source": [
    "# Compile the c2e model\n",
    "model_c2e.compile(optimizer=optimizer, loss=loss, metrics=metrics, loss_weights=loss_weights)"
   ]
  },
  {
   "cell_type": "code",
   "execution_count": null,
   "metadata": {},
   "outputs": [],
   "source": [
    "model_c2e.evaluate(ds_c2e)"
   ]
  },
  {
   "cell_type": "markdown",
   "metadata": {},
   "source": [
    "**The model converts from Cartesian coordinates to orbital elements with very high accuracy, on the order of 1E-13 to 1E-14 in the MSE.**<br>\n",
    "Since the error here is squared, this is approaching full single precision of 7-8 decimal places."
   ]
  },
  {
   "cell_type": "markdown",
   "metadata": {},
   "source": [
    "We can also run the `ConfigToOrbitalElement` layer directly, as below:"
   ]
  },
  {
   "cell_type": "code",
   "execution_count": null,
   "metadata": {},
   "outputs": [],
   "source": [
    "# Run the layer on the batch of orbital elements\n",
    "qx = q[:,0]\n",
    "qy = q[:,1]\n",
    "qz = q[:,2]\n",
    "vx = v[:,0]\n",
    "vy = v[:,1]\n",
    "vz = v[:,2]\n",
    "inputs_c2e = (qx, qy, qz, vx, vy, vz, mu)\n",
    "elt_rec = ConfigToOrbitalElement()(inputs_c2e)"
   ]
  },
  {
   "cell_type": "code",
   "execution_count": null,
   "metadata": {},
   "outputs": [],
   "source": [
    "# Review shapes\n",
    "print(f'Example batch sizes:')\n",
    "print(f'qx   = {qx.shape}')\n",
    "print(f'vx   = {vx.shape}')\n",
    "print(f'mu   = {mu.shape}')"
   ]
  },
  {
   "cell_type": "markdown",
   "metadata": {},
   "source": [
    "### Conversion from Mean Anomaly to True Anomaly"
   ]
  },
  {
   "cell_type": "markdown",
   "metadata": {},
   "source": [
    "One major advantage of Keplerian orbital elements is that they allow for easy calculation orbits.  Of the six orbital elements, 5 of them remain constant during the evolution of the restricted two body problem.  Only the true anomaly `f` (or equivalently the mean anomaly `M`) change.  The parameters `a`, `e`, `inc`, `Omega` and `omega` all remain constant.<br>\n",
    "The mean anomaly `M` changes linearly with time, making it simple to evolve. In order to recover the predicted Cartesian coordinates though, we need a way to convert from the mean anomaly `M` back to the true anomaly `f`.  This can be done in two stages.<br>\n",
    "The mean anomly `M` is related to the eccentric anomaly `E` and the eccentricity `e` by **Kepler's Equation**:\n",
    "$$ M = E - e \\sin E$$\n",
    "See https://en.wikipedia.org/wiki/Kepler%27s_equation<br>\n",
    "The calculation from `E` to `M` can be done in closed form according to the above formula.  The inverse function cannot be computed symbolically, but a numerical approach such as Newton's method will converge rapidly.  This is the method used in the layer `MeanToEccentricAnomaly`.  The code is ported from Rebound.  There is some subtlety involved in using Tensorflow operations (tf.cond must be used in place of an if statement) but it's not too complicated.<br>\n",
    "The second step is to convert from the eccentric anomaly `E` to the true anomaly `f`.  This is easy and accomplished by a one liner:\n",
    "$$ \\tan \\frac{f}{2} = \\sqrt{\\frac{1 + e}{1-e}} \\cdot \\tan \\frac{E}{2}$$\n",
    "This formula is used in the layer `MeanToTrueAnomaly`"
   ]
  },
  {
   "cell_type": "code",
   "execution_count": null,
   "metadata": {},
   "outputs": [],
   "source": [
    "a, e, inc, Omega, omega, f, M, N = elt_rec"
   ]
  },
  {
   "cell_type": "code",
   "execution_count": null,
   "metadata": {},
   "outputs": [],
   "source": [
    "# Test the mean anomaly convervsion functions\n",
    "E = MeanToEccentricAnomaly()((M, e))\n",
    "f_rec = MeanToTrueAnomaly()((M, e))\n",
    "\n",
    "# Compute the RMS error\n",
    "two_pi = 2.0 * np.pi\n",
    "f_err = (f_rec % two_pi) - (f % two_pi)\n",
    "rms_err = np.sqrt(np.mean(f_err * f_err))\n",
    "print(f'RMS error of true anomaly f from mean anomaly M:')\n",
    "print(f'{rms_err:5.2E}')"
   ]
  },
  {
   "cell_type": "markdown",
   "metadata": {},
   "source": [
    "**The calculation recovers the starting true anomaly f to an RMS on the order of 1E-6**<br>\n",
    "This could be slightly improved by using more iterations, but already accurate enough for the intended use case."
   ]
  }
 ],
 "metadata": {
  "kernelspec": {
   "display_name": "Python [conda env:kepler]",
   "language": "python",
   "name": "conda-env-kepler-py"
  },
  "language_info": {
   "codemirror_mode": {
    "name": "ipython",
    "version": 3
   },
   "file_extension": ".py",
   "mimetype": "text/x-python",
   "name": "python",
   "nbconvert_exporter": "python",
   "pygments_lexer": "ipython3",
   "version": "3.7.6"
  }
 },
 "nbformat": 4,
 "nbformat_minor": 4
}
