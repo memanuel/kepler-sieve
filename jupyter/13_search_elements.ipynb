{
 "cells": [
  {
   "cell_type": "code",
   "execution_count": 1,
   "metadata": {},
   "outputs": [
    {
     "name": "stdout",
     "output_type": "stream",
     "text": [
      "Found 4 GPUs.  Setting memory growth = True.\n"
     ]
    }
   ],
   "source": [
    "# Core\n",
    "import numpy as np\n",
    "import pandas as pd\n",
    "from scipy.interpolate import PchipInterpolator\n",
    "from scipy.stats import norm\n",
    "from statsmodels.distributions.empirical_distribution import ECDF\n",
    "\n",
    "# Machine learning\n",
    "import tensorflow as tf\n",
    "\n",
    "# Plotting\n",
    "import matplotlib.pyplot as plt\n",
    "import matplotlib as mpl\n",
    "\n",
    "# Utility\n",
    "import os\n",
    "from datetime import datetime\n",
    "\n",
    "# MSE imports\n",
    "import kepler_sieve\n",
    "from asteroid_element import load_ast_elt\n",
    "from candidate_element import perturb_elts\n",
    "from asteroid_model import make_model_ast_pos\n",
    "from nearest_element import nearest_ast_elt, plot_elt_transform_pdf, plot_elt_transform_map\n",
    "from nearest_element import calc_elt_pos\n",
    "from nearest_element import ast_elt_transform, calc_beta, make_interp_x\n",
    "from astro_utils import datetime_to_mjd"
   ]
  },
  {
   "cell_type": "code",
   "execution_count": 2,
   "metadata": {},
   "outputs": [],
   "source": [
    "# Set plot style variables\n",
    "mpl.rcParams['figure.figsize'] = [16.0, 10.0]\n",
    "mpl.rcParams['font.size'] = 16"
   ]
  },
  {
   "cell_type": "code",
   "execution_count": 3,
   "metadata": {},
   "outputs": [],
   "source": [
    "# Load orbital elements for known asteroids\n",
    "ast_elt = load_ast_elt()\n",
    "\n",
    "# Number of asteroids\n",
    "N_ast = ast_elt.shape[0]"
   ]
  },
  {
   "cell_type": "code",
   "execution_count": 4,
   "metadata": {},
   "outputs": [],
   "source": [
    "# Set number of sample points\n",
    "N_samp_u: int = 2**16\n",
    "z_range: float = 6.0\n",
    "N_samp_z: int = int(200*z_range + 1)\n",
    "\n",
    "# Sample CDF levels: N_samp evenly spaced\n",
    "cdf_samp_u = (np.arange(N_samp_u) + 0.5) / N_samp_u\n",
    "\n",
    "# Sample CDF levels: z_samp points evenly spaced by Z\n",
    "z_samp = np.linspace(-z_range, z_range, N_samp_z)\n",
    "cdf_samp_z = norm.cdf(z_samp)\n",
    "pdf_samp_z = norm.pdf(z_samp)\n",
    "\n",
    "# Combine the two sets of sample points\n",
    "cdf_samp = np.unique(np.hstack([cdf_samp_u, cdf_samp_z]))"
   ]
  },
  {
   "cell_type": "code",
   "execution_count": 5,
   "metadata": {},
   "outputs": [
    {
     "data": {
      "text/html": [
       "<div>\n",
       "<style scoped>\n",
       "    .dataframe tbody tr th:only-of-type {\n",
       "        vertical-align: middle;\n",
       "    }\n",
       "\n",
       "    .dataframe tbody tr th {\n",
       "        vertical-align: top;\n",
       "    }\n",
       "\n",
       "    .dataframe thead th {\n",
       "        text-align: right;\n",
       "    }\n",
       "</style>\n",
       "<table border=\"1\" class=\"dataframe\">\n",
       "  <thead>\n",
       "    <tr style=\"text-align: right;\">\n",
       "      <th></th>\n",
       "      <th>Num</th>\n",
       "      <th>Name</th>\n",
       "      <th>epoch_mjd</th>\n",
       "      <th>a</th>\n",
       "      <th>e</th>\n",
       "      <th>inc</th>\n",
       "      <th>Omega</th>\n",
       "      <th>omega</th>\n",
       "      <th>M</th>\n",
       "      <th>H</th>\n",
       "      <th>G</th>\n",
       "      <th>Ref</th>\n",
       "      <th>f</th>\n",
       "      <th>P</th>\n",
       "      <th>n</th>\n",
       "      <th>long</th>\n",
       "      <th>theta</th>\n",
       "      <th>pomega</th>\n",
       "      <th>T_peri</th>\n",
       "    </tr>\n",
       "    <tr>\n",
       "      <th>Num</th>\n",
       "      <th></th>\n",
       "      <th></th>\n",
       "      <th></th>\n",
       "      <th></th>\n",
       "      <th></th>\n",
       "      <th></th>\n",
       "      <th></th>\n",
       "      <th></th>\n",
       "      <th></th>\n",
       "      <th></th>\n",
       "      <th></th>\n",
       "      <th></th>\n",
       "      <th></th>\n",
       "      <th></th>\n",
       "      <th></th>\n",
       "      <th></th>\n",
       "      <th></th>\n",
       "      <th></th>\n",
       "      <th></th>\n",
       "    </tr>\n",
       "  </thead>\n",
       "  <tbody>\n",
       "    <tr>\n",
       "      <th>1</th>\n",
       "      <td>1</td>\n",
       "      <td>Ceres</td>\n",
       "      <td>58600.0</td>\n",
       "      <td>2.769165</td>\n",
       "      <td>0.076009</td>\n",
       "      <td>0.184901</td>\n",
       "      <td>1.401596</td>\n",
       "      <td>1.284522</td>\n",
       "      <td>1.350398</td>\n",
       "      <td>3.34</td>\n",
       "      <td>0.12</td>\n",
       "      <td>JPL 46</td>\n",
       "      <td>1.501306</td>\n",
       "      <td>1683.145749</td>\n",
       "      <td>0.003733</td>\n",
       "      <td>4.036516</td>\n",
       "      <td>4.187424</td>\n",
       "      <td>2.686118</td>\n",
       "      <td>-361.745873</td>\n",
       "    </tr>\n",
       "    <tr>\n",
       "      <th>2</th>\n",
       "      <td>2</td>\n",
       "      <td>Pallas</td>\n",
       "      <td>58600.0</td>\n",
       "      <td>2.772466</td>\n",
       "      <td>0.230337</td>\n",
       "      <td>0.608007</td>\n",
       "      <td>3.020817</td>\n",
       "      <td>5.411373</td>\n",
       "      <td>1.041946</td>\n",
       "      <td>4.13</td>\n",
       "      <td>0.11</td>\n",
       "      <td>JPL 35</td>\n",
       "      <td>1.490912</td>\n",
       "      <td>1686.155979</td>\n",
       "      <td>0.003726</td>\n",
       "      <td>3.190951</td>\n",
       "      <td>3.639917</td>\n",
       "      <td>2.149005</td>\n",
       "      <td>-279.616804</td>\n",
       "    </tr>\n",
       "    <tr>\n",
       "      <th>3</th>\n",
       "      <td>3</td>\n",
       "      <td>Juno</td>\n",
       "      <td>58600.0</td>\n",
       "      <td>2.669150</td>\n",
       "      <td>0.256942</td>\n",
       "      <td>0.226699</td>\n",
       "      <td>2.964490</td>\n",
       "      <td>4.330836</td>\n",
       "      <td>0.609557</td>\n",
       "      <td>5.33</td>\n",
       "      <td>0.32</td>\n",
       "      <td>JPL 108</td>\n",
       "      <td>0.996719</td>\n",
       "      <td>1592.787270</td>\n",
       "      <td>0.003945</td>\n",
       "      <td>1.621697</td>\n",
       "      <td>2.008860</td>\n",
       "      <td>1.012141</td>\n",
       "      <td>-154.522558</td>\n",
       "    </tr>\n",
       "    <tr>\n",
       "      <th>4</th>\n",
       "      <td>4</td>\n",
       "      <td>Vesta</td>\n",
       "      <td>58600.0</td>\n",
       "      <td>2.361418</td>\n",
       "      <td>0.088721</td>\n",
       "      <td>0.124647</td>\n",
       "      <td>1.811840</td>\n",
       "      <td>2.630709</td>\n",
       "      <td>1.673106</td>\n",
       "      <td>3.20</td>\n",
       "      <td>0.32</td>\n",
       "      <td>JPL 34</td>\n",
       "      <td>-4.436417</td>\n",
       "      <td>1325.432768</td>\n",
       "      <td>0.004740</td>\n",
       "      <td>6.115656</td>\n",
       "      <td>0.006132</td>\n",
       "      <td>4.442550</td>\n",
       "      <td>-352.940421</td>\n",
       "    </tr>\n",
       "    <tr>\n",
       "      <th>5</th>\n",
       "      <td>5</td>\n",
       "      <td>Astraea</td>\n",
       "      <td>58600.0</td>\n",
       "      <td>2.574249</td>\n",
       "      <td>0.191095</td>\n",
       "      <td>0.093672</td>\n",
       "      <td>2.470978</td>\n",
       "      <td>6.260280</td>\n",
       "      <td>4.928221</td>\n",
       "      <td>6.85</td>\n",
       "      <td>0.15</td>\n",
       "      <td>JPL 108</td>\n",
       "      <td>-1.738676</td>\n",
       "      <td>1508.600442</td>\n",
       "      <td>0.004165</td>\n",
       "      <td>1.093108</td>\n",
       "      <td>0.709396</td>\n",
       "      <td>2.448072</td>\n",
       "      <td>325.328481</td>\n",
       "    </tr>\n",
       "    <tr>\n",
       "      <th>...</th>\n",
       "      <td>...</td>\n",
       "      <td>...</td>\n",
       "      <td>...</td>\n",
       "      <td>...</td>\n",
       "      <td>...</td>\n",
       "      <td>...</td>\n",
       "      <td>...</td>\n",
       "      <td>...</td>\n",
       "      <td>...</td>\n",
       "      <td>...</td>\n",
       "      <td>...</td>\n",
       "      <td>...</td>\n",
       "      <td>...</td>\n",
       "      <td>...</td>\n",
       "      <td>...</td>\n",
       "      <td>...</td>\n",
       "      <td>...</td>\n",
       "      <td>...</td>\n",
       "      <td>...</td>\n",
       "    </tr>\n",
       "    <tr>\n",
       "      <th>1255499</th>\n",
       "      <td>1255499</td>\n",
       "      <td>2019 QG</td>\n",
       "      <td>58600.0</td>\n",
       "      <td>0.822197</td>\n",
       "      <td>0.237862</td>\n",
       "      <td>0.220677</td>\n",
       "      <td>5.066979</td>\n",
       "      <td>3.770460</td>\n",
       "      <td>0.503214</td>\n",
       "      <td>21.55</td>\n",
       "      <td>0.15</td>\n",
       "      <td>JPL 1</td>\n",
       "      <td>0.807024</td>\n",
       "      <td>272.309165</td>\n",
       "      <td>0.023074</td>\n",
       "      <td>-3.225717</td>\n",
       "      <td>-2.921908</td>\n",
       "      <td>-3.728932</td>\n",
       "      <td>-21.808984</td>\n",
       "    </tr>\n",
       "    <tr>\n",
       "      <th>1255501</th>\n",
       "      <td>1255501</td>\n",
       "      <td>2019 QL</td>\n",
       "      <td>58600.0</td>\n",
       "      <td>2.722045</td>\n",
       "      <td>0.530676</td>\n",
       "      <td>0.113833</td>\n",
       "      <td>4.741919</td>\n",
       "      <td>2.351059</td>\n",
       "      <td>5.297173</td>\n",
       "      <td>19.21</td>\n",
       "      <td>0.15</td>\n",
       "      <td>JPL 1</td>\n",
       "      <td>-2.082964</td>\n",
       "      <td>1640.368337</td>\n",
       "      <td>0.003830</td>\n",
       "      <td>-0.176219</td>\n",
       "      <td>-1.273172</td>\n",
       "      <td>0.809793</td>\n",
       "      <td>257.420824</td>\n",
       "    </tr>\n",
       "    <tr>\n",
       "      <th>1255502</th>\n",
       "      <td>1255502</td>\n",
       "      <td>2019 QQ</td>\n",
       "      <td>58600.0</td>\n",
       "      <td>1.053137</td>\n",
       "      <td>0.389091</td>\n",
       "      <td>0.172121</td>\n",
       "      <td>5.648270</td>\n",
       "      <td>2.028352</td>\n",
       "      <td>3.266522</td>\n",
       "      <td>25.31</td>\n",
       "      <td>0.15</td>\n",
       "      <td>JPL 1</td>\n",
       "      <td>-3.081905</td>\n",
       "      <td>394.753268</td>\n",
       "      <td>0.015917</td>\n",
       "      <td>-1.623227</td>\n",
       "      <td>-1.688469</td>\n",
       "      <td>1.393436</td>\n",
       "      <td>189.527723</td>\n",
       "    </tr>\n",
       "    <tr>\n",
       "      <th>1255513</th>\n",
       "      <td>1255513</td>\n",
       "      <td>6331 P-L</td>\n",
       "      <td>58600.0</td>\n",
       "      <td>2.334803</td>\n",
       "      <td>0.282830</td>\n",
       "      <td>0.141058</td>\n",
       "      <td>6.200287</td>\n",
       "      <td>0.091869</td>\n",
       "      <td>2.609695</td>\n",
       "      <td>18.50</td>\n",
       "      <td>0.15</td>\n",
       "      <td>JPL 8</td>\n",
       "      <td>2.827595</td>\n",
       "      <td>1303.088136</td>\n",
       "      <td>0.004822</td>\n",
       "      <td>2.618666</td>\n",
       "      <td>2.836566</td>\n",
       "      <td>0.008971</td>\n",
       "      <td>-541.232221</td>\n",
       "    </tr>\n",
       "    <tr>\n",
       "      <th>1255514</th>\n",
       "      <td>1255514</td>\n",
       "      <td>6344 P-L</td>\n",
       "      <td>58600.0</td>\n",
       "      <td>2.812944</td>\n",
       "      <td>0.664688</td>\n",
       "      <td>0.081955</td>\n",
       "      <td>3.199363</td>\n",
       "      <td>4.094863</td>\n",
       "      <td>2.738525</td>\n",
       "      <td>20.40</td>\n",
       "      <td>0.15</td>\n",
       "      <td>JPL 17</td>\n",
       "      <td>3.032066</td>\n",
       "      <td>1723.217341</td>\n",
       "      <td>0.003646</td>\n",
       "      <td>-2.533620</td>\n",
       "      <td>-2.240079</td>\n",
       "      <td>-5.272145</td>\n",
       "      <td>-751.063850</td>\n",
       "    </tr>\n",
       "  </tbody>\n",
       "</table>\n",
       "<p>733489 rows × 19 columns</p>\n",
       "</div>"
      ],
      "text/plain": [
       "             Num      Name  epoch_mjd         a         e       inc     Omega  \\\n",
       "Num                                                                             \n",
       "1              1     Ceres    58600.0  2.769165  0.076009  0.184901  1.401596   \n",
       "2              2    Pallas    58600.0  2.772466  0.230337  0.608007  3.020817   \n",
       "3              3      Juno    58600.0  2.669150  0.256942  0.226699  2.964490   \n",
       "4              4     Vesta    58600.0  2.361418  0.088721  0.124647  1.811840   \n",
       "5              5   Astraea    58600.0  2.574249  0.191095  0.093672  2.470978   \n",
       "...          ...       ...        ...       ...       ...       ...       ...   \n",
       "1255499  1255499   2019 QG    58600.0  0.822197  0.237862  0.220677  5.066979   \n",
       "1255501  1255501   2019 QL    58600.0  2.722045  0.530676  0.113833  4.741919   \n",
       "1255502  1255502   2019 QQ    58600.0  1.053137  0.389091  0.172121  5.648270   \n",
       "1255513  1255513  6331 P-L    58600.0  2.334803  0.282830  0.141058  6.200287   \n",
       "1255514  1255514  6344 P-L    58600.0  2.812944  0.664688  0.081955  3.199363   \n",
       "\n",
       "            omega         M      H     G      Ref         f            P  \\\n",
       "Num                                                                        \n",
       "1        1.284522  1.350398   3.34  0.12   JPL 46  1.501306  1683.145749   \n",
       "2        5.411373  1.041946   4.13  0.11   JPL 35  1.490912  1686.155979   \n",
       "3        4.330836  0.609557   5.33  0.32  JPL 108  0.996719  1592.787270   \n",
       "4        2.630709  1.673106   3.20  0.32   JPL 34 -4.436417  1325.432768   \n",
       "5        6.260280  4.928221   6.85  0.15  JPL 108 -1.738676  1508.600442   \n",
       "...           ...       ...    ...   ...      ...       ...          ...   \n",
       "1255499  3.770460  0.503214  21.55  0.15    JPL 1  0.807024   272.309165   \n",
       "1255501  2.351059  5.297173  19.21  0.15    JPL 1 -2.082964  1640.368337   \n",
       "1255502  2.028352  3.266522  25.31  0.15    JPL 1 -3.081905   394.753268   \n",
       "1255513  0.091869  2.609695  18.50  0.15    JPL 8  2.827595  1303.088136   \n",
       "1255514  4.094863  2.738525  20.40  0.15   JPL 17  3.032066  1723.217341   \n",
       "\n",
       "                n      long     theta    pomega      T_peri  \n",
       "Num                                                          \n",
       "1        0.003733  4.036516  4.187424  2.686118 -361.745873  \n",
       "2        0.003726  3.190951  3.639917  2.149005 -279.616804  \n",
       "3        0.003945  1.621697  2.008860  1.012141 -154.522558  \n",
       "4        0.004740  6.115656  0.006132  4.442550 -352.940421  \n",
       "5        0.004165  1.093108  0.709396  2.448072  325.328481  \n",
       "...           ...       ...       ...       ...         ...  \n",
       "1255499  0.023074 -3.225717 -2.921908 -3.728932  -21.808984  \n",
       "1255501  0.003830 -0.176219 -1.273172  0.809793  257.420824  \n",
       "1255502  0.015917 -1.623227 -1.688469  1.393436  189.527723  \n",
       "1255513  0.004822  2.618666  2.836566  0.008971 -541.232221  \n",
       "1255514  0.003646 -2.533620 -2.240079 -5.272145 -751.063850  \n",
       "\n",
       "[733489 rows x 19 columns]"
      ]
     },
     "execution_count": 5,
     "metadata": {},
     "output_type": "execute_result"
    }
   ],
   "source": [
    "# Review orbital elements\n",
    "ast_elt"
   ]
  },
  {
   "cell_type": "markdown",
   "metadata": {},
   "source": [
    "## Build and Plot Transformed Orbital Elements"
   ]
  },
  {
   "cell_type": "code",
   "execution_count": null,
   "metadata": {},
   "outputs": [],
   "source": [
    "# Build transformed elements and interpolators\n",
    "ast_elt_xf, interp_tbl = ast_elt_transform(ast_elt)"
   ]
  },
  {
   "cell_type": "code",
   "execution_count": null,
   "metadata": {},
   "outputs": [],
   "source": [
    "# Review orbital elements with extra transformed columns\n",
    "ast_elt_xf"
   ]
  },
  {
   "cell_type": "markdown",
   "metadata": {},
   "source": [
    "## Semimajor Axis, a"
   ]
  },
  {
   "cell_type": "code",
   "execution_count": null,
   "metadata": {},
   "outputs": [],
   "source": [
    "# Plot PDF of a\n",
    "plot_elt_transform_pdf(ast_elt_xf=ast_elt_xf, elt_name='log_a')"
   ]
  },
  {
   "cell_type": "code",
   "execution_count": null,
   "metadata": {},
   "outputs": [],
   "source": [
    "# Plot transform of a\n",
    "plot_elt_transform_map(ast_elt_xf=ast_elt_xf, elt_name='log_a')"
   ]
  },
  {
   "cell_type": "markdown",
   "metadata": {},
   "source": [
    "## Eccentricity, e"
   ]
  },
  {
   "cell_type": "code",
   "execution_count": null,
   "metadata": {},
   "outputs": [],
   "source": [
    "# Plot PDF of e\n",
    "plot_elt_transform_pdf(ast_elt_xf=ast_elt_xf, elt_name='e')"
   ]
  },
  {
   "cell_type": "code",
   "execution_count": null,
   "metadata": {},
   "outputs": [],
   "source": [
    "# Plot transform of e\n",
    "plot_elt_transform_map(ast_elt_xf=ast_elt_xf, elt_name='e')"
   ]
  },
  {
   "cell_type": "markdown",
   "metadata": {},
   "source": [
    "## Inclination, inc"
   ]
  },
  {
   "cell_type": "code",
   "execution_count": null,
   "metadata": {},
   "outputs": [],
   "source": [
    "# Plot PDF of sin_inc\n",
    "plot_elt_transform_pdf(ast_elt_xf=ast_elt_xf, elt_name='sin_inc')"
   ]
  },
  {
   "cell_type": "code",
   "execution_count": null,
   "metadata": {},
   "outputs": [],
   "source": [
    "# Plot transform of sin_inc\n",
    "plot_elt_transform_map(ast_elt_xf=ast_elt_xf, elt_name='sin_inc')"
   ]
  },
  {
   "cell_type": "markdown",
   "metadata": {},
   "source": [
    "## Omega"
   ]
  },
  {
   "cell_type": "code",
   "execution_count": null,
   "metadata": {},
   "outputs": [],
   "source": [
    "# Plot PDF of sin_Omega\n",
    "plot_elt_transform_pdf(ast_elt_xf=ast_elt_xf, elt_name='sin_Omega')"
   ]
  },
  {
   "cell_type": "code",
   "execution_count": null,
   "metadata": {},
   "outputs": [],
   "source": [
    "# Plot PDF of sin_Omega\n",
    "plot_elt_transform_map(ast_elt_xf=ast_elt_xf, elt_name='sin_Omega')"
   ]
  },
  {
   "cell_type": "code",
   "execution_count": null,
   "metadata": {},
   "outputs": [],
   "source": [
    "# Plot PDF of cos_Omega\n",
    "plot_elt_transform_pdf(ast_elt_xf=ast_elt_xf, elt_name='cos_Omega')"
   ]
  },
  {
   "cell_type": "code",
   "execution_count": null,
   "metadata": {},
   "outputs": [],
   "source": [
    "# Plot PDF of cos_Omega\n",
    "plot_elt_transform_map(ast_elt_xf=ast_elt_xf, elt_name='cos_Omega')"
   ]
  },
  {
   "cell_type": "markdown",
   "metadata": {},
   "source": [
    "## omega"
   ]
  },
  {
   "cell_type": "code",
   "execution_count": null,
   "metadata": {},
   "outputs": [],
   "source": [
    "# Plot PDF of sin_omega\n",
    "plot_elt_transform_pdf(ast_elt_xf=ast_elt_xf, elt_name='sin_omega')"
   ]
  },
  {
   "cell_type": "code",
   "execution_count": null,
   "metadata": {},
   "outputs": [],
   "source": [
    "# Plot map of sin_omega\n",
    "plot_elt_transform_map(ast_elt_xf=ast_elt_xf, elt_name='sin_omega')"
   ]
  },
  {
   "cell_type": "code",
   "execution_count": null,
   "metadata": {},
   "outputs": [],
   "source": [
    "# Plot PDF of cos_omega\n",
    "plot_elt_transform_pdf(ast_elt_xf=ast_elt_xf, elt_name='cos_omega')"
   ]
  },
  {
   "cell_type": "code",
   "execution_count": null,
   "metadata": {},
   "outputs": [],
   "source": [
    "# Plot PDF of sin_Omega\n",
    "plot_elt_transform_map(ast_elt_xf=ast_elt_xf, elt_name='cos_omega')"
   ]
  },
  {
   "cell_type": "markdown",
   "metadata": {},
   "source": [
    "## True Anomaly, f"
   ]
  },
  {
   "cell_type": "code",
   "execution_count": null,
   "metadata": {},
   "outputs": [],
   "source": [
    "# Plot PDF of sin_f\n",
    "plot_elt_transform_pdf(ast_elt_xf=ast_elt_xf, elt_name='sin_f')"
   ]
  },
  {
   "cell_type": "code",
   "execution_count": null,
   "metadata": {},
   "outputs": [],
   "source": [
    "# Plot map of sin_omega\n",
    "plot_elt_transform_map(ast_elt_xf=ast_elt_xf, elt_name='sin_f')"
   ]
  },
  {
   "cell_type": "code",
   "execution_count": null,
   "metadata": {},
   "outputs": [],
   "source": [
    "# Plot PDF of cos_f\n",
    "plot_elt_transform_pdf(ast_elt_xf=ast_elt_xf, elt_name='cos_f')"
   ]
  },
  {
   "cell_type": "code",
   "execution_count": null,
   "metadata": {},
   "outputs": [],
   "source": [
    "# Plot PDF of cos_f\n",
    "plot_elt_transform_pdf(ast_elt_xf=ast_elt_xf, elt_name='cos_f')"
   ]
  },
  {
   "cell_type": "markdown",
   "metadata": {},
   "source": [
    "## Covariance of Transformed Elements"
   ]
  },
  {
   "cell_type": "code",
   "execution_count": null,
   "metadata": {},
   "outputs": [],
   "source": [
    "# Build tranformation matrix beta and X_beta for computing distance to orbital elements\n",
    "beta, X_beta = calc_beta(ast_elt_xf)"
   ]
  },
  {
   "cell_type": "code",
   "execution_count": null,
   "metadata": {},
   "outputs": [],
   "source": [
    "# Assemble covaraiance matrix\n",
    "Q = np.cov(X_beta, rowvar=False)"
   ]
  },
  {
   "cell_type": "code",
   "execution_count": null,
   "metadata": {},
   "outputs": [],
   "source": [
    "# Demonstrate that Q is the 9x9 identity matrix\n",
    "Q_err = np.linalg.norm(Q - np.identity(9))\n",
    "print(f'Error of matrix Q vs. identity: {Q_err:6.2e}')"
   ]
  },
  {
   "cell_type": "markdown",
   "metadata": {},
   "source": [
    "## Search for Asteroid with Nearest Orbital Elements Based on Covariance of Transformed Elements"
   ]
  },
  {
   "cell_type": "code",
   "execution_count": 27,
   "metadata": {},
   "outputs": [],
   "source": [
    "# First 32 odd numbered asteroids (don't want consecutive to disambiguate rows and columns)\n",
    "elt = ast_elt.iloc[0:64:2].copy()"
   ]
  },
  {
   "cell_type": "code",
   "execution_count": null,
   "metadata": {},
   "outputs": [],
   "source": [
    "# Search for near elements on unperturbed asteroids\n",
    "ast_elt_near = nearest_ast_elt(elt)"
   ]
  },
  {
   "cell_type": "code",
   "execution_count": null,
   "metadata": {},
   "outputs": [],
   "source": [
    "# Review near elements - should be exact matches with 0 distance\n",
    "ast_elt_near.iloc[0:10]"
   ]
  },
  {
   "cell_type": "code",
   "execution_count": null,
   "metadata": {},
   "outputs": [],
   "source": [
    "# Inputs to perturb elements: large\n",
    "sigma_a = 0.01\n",
    "sigma_e = 0.002\n",
    "sigma_inc_deg = 0.25\n",
    "sigma_f_deg = 0.5\n",
    "sigma_Omega_deg = 0.5\n",
    "sigma_omega_deg = 0.5\n",
    "mask_pert = None\n",
    "random_seed = 42\n",
    "\n",
    "# Perturb orbital elements\n",
    "elts_pert = perturb_elts(elt, sigma_a=sigma_a, sigma_e=sigma_e, \n",
    "                    sigma_inc_deg=sigma_inc_deg, sigma_f_deg=sigma_f_deg, \n",
    "                    sigma_Omega_deg=sigma_Omega_deg, sigma_omega_deg=sigma_omega_deg,\n",
    "                    mask_pert=mask_pert, random_seed=random_seed)"
   ]
  },
  {
   "cell_type": "code",
   "execution_count": null,
   "metadata": {},
   "outputs": [],
   "source": [
    "# Search for near elements on perturbed asteroids\n",
    "ast_elt_near_pert = nearest_ast_elt(elts_pert)"
   ]
  },
  {
   "cell_type": "code",
   "execution_count": null,
   "metadata": {},
   "outputs": [],
   "source": [
    "# Review near elements - should be close but not zero\n",
    "ast_elt_near_pert"
   ]
  },
  {
   "cell_type": "markdown",
   "metadata": {},
   "source": [
    "## Search for Asteroid with Nearest Elements Based on Orbital Trajectories"
   ]
  },
  {
   "cell_type": "code",
   "execution_count": 6,
   "metadata": {},
   "outputs": [],
   "source": [
    "# Set time array\n",
    "t0 = datetime_to_mjd(datetime(2018,6,30))\n",
    "t1 = datetime_to_mjd(datetime(2020,3,31))\n",
    "dt = 7\n",
    "ts = np.arange(t0, t1, dt)"
   ]
  },
  {
   "cell_type": "code",
   "execution_count": 7,
   "metadata": {},
   "outputs": [],
   "source": [
    "elt_ast = ast_elt.iloc[0:64]"
   ]
  },
  {
   "cell_type": "code",
   "execution_count": 8,
   "metadata": {},
   "outputs": [],
   "source": [
    "q_ast = calc_elt_pos(elt=elt_ast, ts=ts)"
   ]
  },
  {
   "cell_type": "code",
   "execution_count": 9,
   "metadata": {},
   "outputs": [
    {
     "data": {
      "text/plain": [
       "(64, 92, 3)"
      ]
     },
     "execution_count": 9,
     "metadata": {},
     "output_type": "execute_result"
    }
   ],
   "source": [
    "q_ast.shape"
   ]
  },
  {
   "cell_type": "code",
   "execution_count": 35,
   "metadata": {},
   "outputs": [],
   "source": [
    "N_ast = ast_elt.shape[0]"
   ]
  },
  {
   "cell_type": "code",
   "execution_count": 41,
   "metadata": {},
   "outputs": [],
   "source": [
    "N_elt = elt.shape[0]"
   ]
  },
  {
   "cell_type": "code",
   "execution_count": 36,
   "metadata": {},
   "outputs": [],
   "source": [
    "N_t = ts.size"
   ]
  },
  {
   "cell_type": "code",
   "execution_count": 42,
   "metadata": {},
   "outputs": [
    {
     "data": {
      "text/plain": [
       "(733489, 32, 92, 3)"
      ]
     },
     "execution_count": 42,
     "metadata": {},
     "output_type": "execute_result"
    }
   ],
   "source": [
    "(N_ast, N_elt, N_t, space_dims)"
   ]
  },
  {
   "cell_type": "code",
   "execution_count": 25,
   "metadata": {},
   "outputs": [],
   "source": [
    "# Load the known asteroid positions\n",
    "q_ast = load_known_ast_pos()"
   ]
  },
  {
   "cell_type": "code",
   "execution_count": null,
   "metadata": {},
   "outputs": [],
   "source": [
    "# Convert to a float32 tensor\n",
    "X = tf.constant(q_ast, dtype=tf.float32)"
   ]
  },
  {
   "cell_type": "code",
   "execution_count": 28,
   "metadata": {},
   "outputs": [],
   "source": [
    "# Calculate position of element\n",
    "q_elt = calc_elt_pos(elt, ts)\n",
    "# Convert to a tensor; use float32 to save memory\n",
    "Y = tf.constant(q_elt, dtype=tf.float32)"
   ]
  },
  {
   "cell_type": "code",
   "execution_count": 51,
   "metadata": {},
   "outputs": [
    {
     "data": {
      "text/plain": [
       "TensorShape([733489, 92, 3])"
      ]
     },
     "execution_count": 51,
     "metadata": {},
     "output_type": "execute_result"
    }
   ],
   "source": [
    "X.shape"
   ]
  },
  {
   "cell_type": "code",
   "execution_count": 52,
   "metadata": {},
   "outputs": [
    {
     "data": {
      "text/plain": [
       "TensorShape([32, 92, 3])"
      ]
     },
     "execution_count": 52,
     "metadata": {},
     "output_type": "execute_result"
    }
   ],
   "source": [
    "Y.shape"
   ]
  },
  {
   "cell_type": "code",
   "execution_count": 64,
   "metadata": {},
   "outputs": [],
   "source": [
    "dist = np.zeros((N_elt, N_ast))\n",
    "\n",
    "for idx in range(N_elt):\n",
    "    dist[i] = tf.reduce_mean(tf.linalg.norm(X - Y[idx], axis=-1), axis=-1)"
   ]
  },
  {
   "cell_type": "code",
   "execution_count": 65,
   "metadata": {},
   "outputs": [
    {
     "data": {
      "text/plain": [
       "(32, 733489)"
      ]
     },
     "execution_count": 65,
     "metadata": {},
     "output_type": "execute_result"
    }
   ],
   "source": [
    "# Need to do this one candidate at a time b/c run out of memory when doing all at once\n",
    "dist = np.zeros((N_elt, N_ast))\n",
    "\n",
    "# Iterate over candidates\n",
    "for idx in range(N_elt):\n",
    "    dist[i] = tf.reduce_mean(tf.linalg.norm(X - Y[idx], axis=-1), axis=-1)\n",
    "\n"
   ]
  },
  {
   "cell_type": "code",
   "execution_count": 66,
   "metadata": {},
   "outputs": [
    {
     "data": {
      "text/plain": [
       "(32, 733489)"
      ]
     },
     "execution_count": 66,
     "metadata": {},
     "output_type": "execute_result"
    }
   ],
   "source": [
    "# Col number of nearest asteroid elements\n",
    "col_idx = np.argmin(dist, axis=0)\n",
    "\n"
   ]
  },
  {
   "cell_type": "code",
   "execution_count": null,
   "metadata": {},
   "outputs": [],
   "source": [
    "# Distance to nearest asteroid element\n",
    "row_idx = np.arange(row_idx.size, dtype=np.int32)\n",
    "dist_au = dist[row_idx, col_idx]"
   ]
  }
 ],
 "metadata": {
  "kernelspec": {
   "display_name": "Python [conda env:kepler]",
   "language": "python",
   "name": "conda-env-kepler-py"
  },
  "language_info": {
   "codemirror_mode": {
    "name": "ipython",
    "version": 3
   },
   "file_extension": ".py",
   "mimetype": "text/x-python",
   "name": "python",
   "nbconvert_exporter": "python",
   "pygments_lexer": "ipython3",
   "version": "3.7.6"
  }
 },
 "nbformat": 4,
 "nbformat_minor": 4
}
