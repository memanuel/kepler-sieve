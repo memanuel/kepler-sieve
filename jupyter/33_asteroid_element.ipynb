{
 "cells": [
  {
   "cell_type": "code",
   "execution_count": 1,
   "metadata": {},
   "outputs": [],
   "source": [
    "# Core\n",
    "import numpy as np\n",
    "import pandas as pd\n",
    "# import scipy\n",
    "from scipy import interpolate\n",
    "from scipy.interpolate import interp2d, RectBivariateSpline\n",
    "\n",
    "from typing import Optional"
   ]
  },
  {
   "cell_type": "code",
   "execution_count": 2,
   "metadata": {},
   "outputs": [
    {
     "name": "stdout",
     "output_type": "stream",
     "text": [
      "Converged with error 8.88e-16 after 25 iterations.\n"
     ]
    }
   ],
   "source": [
    "# MSE imports\n",
    "import kepler_sieve\n",
    "from asteroid_element import load_ast_elt, load_data_impl\n",
    "from astro_utils import anomaly_M2E, anomaly_M2E_impl, anomaly_M2E_make_interp, test_anomaly_M2E"
   ]
  },
  {
   "cell_type": "code",
   "execution_count": 3,
   "metadata": {},
   "outputs": [],
   "source": [
    "tau = 2.0 * np.pi"
   ]
  },
  {
   "cell_type": "code",
   "execution_count": 4,
   "metadata": {},
   "outputs": [
    {
     "name": "stdout",
     "output_type": "stream",
     "text": [
      "Converged with error 8.88e-16 after 5 iterations.\n",
      "Conversion of mean anomaly M to eccentric anomaly E with anomaly_M2E:\n",
      "Test 1000000 randomly generated input pairs (M, e).\n",
      "Compare input and recovered M from Keplers Equation M = E - e sin E\n",
      "Max error = 8.882e-16 = 2^ -50.00\n",
      "M = 4.870303166855185, e = 0.9216217154070467, E = 4.110592193249946\n",
      "*** PASS ***\n"
     ]
    }
   ],
   "source": [
    "test_anomaly_M2E(10**6)"
   ]
  },
  {
   "cell_type": "code",
   "execution_count": 5,
   "metadata": {},
   "outputs": [],
   "source": [
    "def anomaly_M2E_impl(M: np.ndarray, e: np.ndarray, E0: Optional[np.ndarray] = None) -> np.ndarray:\n",
    "    \"\"\"\n",
    "    Compute the eccentric anomaly E from the mean anomaly M and eccentricity e using and Newton's Method.\n",
    "    This is the implementation that does not depend on a table of initial guesses\n",
    "    See: https://en.wikipedia.org/wiki/Eccentric_anomaly\n",
    "    INPUTS:\n",
    "        M: The mean anomaly\n",
    "        e: The eccentricity\n",
    "        E0: Initial guess\n",
    "    OUTPUTS:\n",
    "        E: The Eccentric anomaly\n",
    "\n",
    "    Kepler's Equation gives us\n",
    "        M = E - e sin(E)\n",
    "    which implies that E - e sin(E) - M = 0\n",
    "    Think of this as a function f(E) = E - e sin(E) - M\n",
    "    with derivative f'(E) = 1 - e cos(E)\n",
    "    we solve for f(E) = 0 using Newton's Method\n",
    "    \"\"\"\n",
    "\n",
    "    # Put M in the interval [0, 2*pi)\n",
    "    M %= tau\n",
    "    # M = (M + np.pi) % tau - np.pi\n",
    "    \n",
    "    # Use the initial guess E0 if provided; otherwise use M\n",
    "    E = E0 if E0 is not None else M.copy()\n",
    "\n",
    "    # Maximum number of iterations for Newton-Raphson\n",
    "    max_iter: int = 40\n",
    "\n",
    "    # Tolerance for maximum error\n",
    "    err_tol: np.float64 = 2.0**-49\n",
    "\n",
    "    # Error for each input vs. iteration number\n",
    "    err_by_it = np.zeros((max_iter,) + M.shape)\n",
    "\n",
    "    # Perform at most max_iter iterations of Newton's method; quit early if tolerance achieved    \n",
    "    for i in range(max_iter):\n",
    "        # The current function value f(E)\n",
    "        f = E - e * np.sin(E) - M\n",
    "        # Save error by iteration\n",
    "        err_by_it[i] = np.abs(f)\n",
    "        # Is the max error below the tolerance? If so, quit early\n",
    "        max_err = np.max(np.abs(f))\n",
    "        if max_err < err_tol:\n",
    "            print(f'Converged with error {max_err:5.2e} after {i} iterations.')\n",
    "            break\n",
    "        # The derivative f'(E)\n",
    "        fp = 1.0 - e * np.cos(E)\n",
    "        # Update E using Newton's method\n",
    "        E -= f / fp\n",
    "        # Restore E to range [0, 2 pi) to handle nasty corner cases where very high eccentricity\n",
    "        # and high M cause a naive iteration to diverge!\n",
    "        E %= tau\n",
    "        # E = (E + np.pi) % tau - np.pi\n",
    "\n",
    "    # Return the converged eccentric anomaly E\n",
    "    return E, err_by_it"
   ]
  },
  {
   "cell_type": "code",
   "execution_count": 7,
   "metadata": {},
   "outputs": [],
   "source": [
    "def anomaly_M2E_make_interp(N_M: int = 256, N_e: int = 256) -> interpolate.RectBivariateSpline:\n",
    "    \"\"\"Create an interpolation function for inital guesses to compute E from M and e.\"\"\"\n",
    "    # Rows of M: N_M evenly spaced angles in [0, 2 pi), e.g. [0, 45, 90, ... 315] degrees for N_M = 8\n",
    "    M_ = np.arange(N_M) * (tau / N_M)\n",
    "    # Repeat the rows of M N_e times\n",
    "    M = np.tile(M_, (N_e, 1))\n",
    "\n",
    "    # Columns of e: N_e evenly spaced eccentricities in [0, 1), e.g. [0, 0.25, 0.5, 0.75] for N_e = 4\n",
    "    # e_ = np.arange(N_e) / N_e\n",
    "\n",
    "    # Columns of e: N_e evenly alog spaced eccentricities in [0, 1 - 2^-48]\n",
    "    log_e_ = np.linspace(0.0, -48.0*np.log(2.0), N_e)\n",
    "    e_ = 1.0 - np.exp(log_e_)\n",
    "    # Repeat the columns of e N_m times\n",
    "    e = np.tile(e_, (N_M, 1)).T\n",
    "\n",
    "    # Compute the eccentric anomaly E using the implementation version of anomaly_M2E\n",
    "    # Take transpose so shape is N_M x N_e to match API of interpolate.RectBivariateSpline\n",
    "    E0, _ = anomaly_M2E_impl(M, e)\n",
    "    E0 = E0.T\n",
    "\n",
    "    # Create a 2D interpolator\n",
    "    interp = interpolate.RectBivariateSpline(x=M_, y=e_, z=E0, kx=3, ky=1)\n",
    "    \n",
    "    return interp"
   ]
  },
  {
   "cell_type": "code",
   "execution_count": 8,
   "metadata": {},
   "outputs": [],
   "source": [
    "# interp_M2E = anomaly_M2E_make_interp(2**16, 2**8)"
   ]
  },
  {
   "cell_type": "code",
   "execution_count": 9,
   "metadata": {},
   "outputs": [],
   "source": [
    "# N_M = 2**12\n",
    "N_M = 2**12\n",
    "N_e = 2**8"
   ]
  },
  {
   "cell_type": "code",
   "execution_count": 10,
   "metadata": {},
   "outputs": [
    {
     "name": "stdout",
     "output_type": "stream",
     "text": [
      "Converged with error 8.88e-16 after 24 iterations.\n"
     ]
    }
   ],
   "source": [
    "# Rows of M: N_M evenly spaced angles in [0, 2 pi), e.g. [0, 45, 90, ... 315] degrees for N_M = 8\n",
    "# M_ = np.arange(N_M) * (tau / N_M)\n",
    "M_ = tau * np.linspace(0.0, 1.0, N_M+1)\n",
    "# Repeat the rows of M N_e times\n",
    "M = np.tile(M_, (N_e, 1))\n",
    "\n",
    "# Columns of e: N_e evenly alog spaced eccentricities in [0, 1 - 2^-48]\n",
    "log_e_ = np.linspace(0.0, -48.0*np.log(2.0), N_e)\n",
    "e_ = 1.0 - np.exp(log_e_)\n",
    "# Repeat the columns of e N_m times\n",
    "e = np.tile(e_, (N_M+1, 1)).T\n",
    "\n",
    "# Compute the eccentric anomaly E using the implementation version of anomaly_M2E\n",
    "# Take transpose so shape is N_M x N_e to match API of interpolate.RectBivariateSpline\n",
    "E_, _ = anomaly_M2E_impl(M, e)\n",
    "# Overwrite the last column, for M= 360 degrees, with E= 360 degrees\n",
    "E_[:, -1] = tau\n",
    "\n",
    "E_ = E_.T"
   ]
  },
  {
   "cell_type": "code",
   "execution_count": 43,
   "metadata": {},
   "outputs": [],
   "source": [
    "# Create a 2D interpolator\n",
    "interp_M2E = interpolate.RectBivariateSpline(x=M_, y=e_, z=E_, kx=5, ky=3)"
   ]
  },
  {
   "cell_type": "code",
   "execution_count": 44,
   "metadata": {},
   "outputs": [],
   "source": [
    "M = np.array([6.283010303931326])\n",
    "e = np.array([0.9937009835495966])\n",
    "E = np.array([6.255934715346866])"
   ]
  },
  {
   "cell_type": "code",
   "execution_count": 45,
   "metadata": {},
   "outputs": [
    {
     "data": {
      "text/plain": [
       "array([6.25713799])"
      ]
     },
     "execution_count": 45,
     "metadata": {},
     "output_type": "execute_result"
    }
   ],
   "source": [
    "E0 = interp_M2E.ev(M, e)\n",
    "E0"
   ]
  },
  {
   "cell_type": "code",
   "execution_count": 46,
   "metadata": {},
   "outputs": [
    {
     "data": {
      "text/plain": [
       "array([-0.00120327])"
      ]
     },
     "execution_count": 46,
     "metadata": {},
     "output_type": "execute_result"
    }
   ],
   "source": [
    "E - E0"
   ]
  },
  {
   "cell_type": "code",
   "execution_count": 47,
   "metadata": {},
   "outputs": [
    {
     "name": "stdout",
     "output_type": "stream",
     "text": [
      "Converged with error 0.00e+00 after 3 iterations.\n"
     ]
    },
    {
     "data": {
      "text/plain": [
       "array([6.25593472])"
      ]
     },
     "execution_count": 47,
     "metadata": {},
     "output_type": "execute_result"
    }
   ],
   "source": [
    "anomaly_M2E_impl(M, e, E0)[0]"
   ]
  },
  {
   "cell_type": "code",
   "execution_count": 48,
   "metadata": {},
   "outputs": [
    {
     "name": "stdout",
     "output_type": "stream",
     "text": [
      "Converged with error 0.00e+00 after 4 iterations.\n"
     ]
    },
    {
     "data": {
      "text/plain": [
       "array([6.25593472])"
      ]
     },
     "execution_count": 48,
     "metadata": {},
     "output_type": "execute_result"
    }
   ],
   "source": [
    "anomaly_M2E(M, e)"
   ]
  },
  {
   "cell_type": "code",
   "execution_count": 49,
   "metadata": {},
   "outputs": [],
   "source": [
    "from asteroid_element import load_ast_elt"
   ]
  },
  {
   "cell_type": "code",
   "execution_count": null,
   "metadata": {},
   "outputs": [],
   "source": [
    "df = load_ast_elt()"
   ]
  },
  {
   "cell_type": "code",
   "execution_count": null,
   "metadata": {},
   "outputs": [],
   "source": [
    "M = df.M.values\n",
    "e = df.e.values"
   ]
  },
  {
   "cell_type": "code",
   "execution_count": null,
   "metadata": {},
   "outputs": [],
   "source": [
    "E0 = interp_M2E.ev(M, e)"
   ]
  },
  {
   "cell_type": "code",
   "execution_count": null,
   "metadata": {},
   "outputs": [],
   "source": [
    "E_impl = anomaly_M2E_impl(M=M, e=e)"
   ]
  },
  {
   "cell_type": "code",
   "execution_count": null,
   "metadata": {},
   "outputs": [],
   "source": [
    "E = anomaly_M2E(M=M, e=e)"
   ]
  },
  {
   "cell_type": "code",
   "execution_count": null,
   "metadata": {},
   "outputs": [],
   "source": [
    "M1 = E0 - e * np.sin(E0)"
   ]
  },
  {
   "cell_type": "code",
   "execution_count": null,
   "metadata": {},
   "outputs": [],
   "source": [
    "M2 = E - e * np.sin(E)"
   ]
  },
  {
   "cell_type": "code",
   "execution_count": null,
   "metadata": {},
   "outputs": [],
   "source": [
    "err1 = np.abs(M1 - M)\n",
    "err2 = np.abs(M2 - M)"
   ]
  },
  {
   "cell_type": "code",
   "execution_count": null,
   "metadata": {},
   "outputs": [],
   "source": [
    "np.max(err1)"
   ]
  },
  {
   "cell_type": "code",
   "execution_count": null,
   "metadata": {},
   "outputs": [],
   "source": [
    "np.max(err2)"
   ]
  },
  {
   "cell_type": "code",
   "execution_count": null,
   "metadata": {},
   "outputs": [],
   "source": [
    "err = np.abs(E - E_impl)"
   ]
  },
  {
   "cell_type": "code",
   "execution_count": null,
   "metadata": {},
   "outputs": [],
   "source": [
    "np.max(err)"
   ]
  },
  {
   "cell_type": "code",
   "execution_count": null,
   "metadata": {},
   "outputs": [],
   "source": [
    "E[0:5]"
   ]
  },
  {
   "cell_type": "code",
   "execution_count": null,
   "metadata": {},
   "outputs": [],
   "source": [
    "E_impl[0:5]"
   ]
  },
  {
   "cell_type": "code",
   "execution_count": null,
   "metadata": {},
   "outputs": [],
   "source": [
    "idx = np.argmax(err)"
   ]
  },
  {
   "cell_type": "code",
   "execution_count": null,
   "metadata": {},
   "outputs": [],
   "source": [
    "M_ = M[idx]\n",
    "M_"
   ]
  },
  {
   "cell_type": "code",
   "execution_count": null,
   "metadata": {},
   "outputs": [],
   "source": [
    "e_ = e[idx]\n",
    "e_"
   ]
  },
  {
   "cell_type": "code",
   "execution_count": null,
   "metadata": {},
   "outputs": [],
   "source": [
    "e_ = 0.95"
   ]
  },
  {
   "cell_type": "code",
   "execution_count": null,
   "metadata": {},
   "outputs": [],
   "source": [
    "E1 = anomaly_M2E_impl(M_, e_)\n",
    "E1"
   ]
  },
  {
   "cell_type": "code",
   "execution_count": null,
   "metadata": {},
   "outputs": [],
   "source": [
    "E2 = interp_M2E.ev(M_, e_)\n",
    "E2"
   ]
  },
  {
   "cell_type": "code",
   "execution_count": null,
   "metadata": {},
   "outputs": [],
   "source": [
    "np.abs(E1-E2)"
   ]
  },
  {
   "cell_type": "code",
   "execution_count": null,
   "metadata": {},
   "outputs": [],
   "source": [
    "E0[idx]"
   ]
  },
  {
   "cell_type": "code",
   "execution_count": null,
   "metadata": {},
   "outputs": [],
   "source": [
    "E[idx]"
   ]
  },
  {
   "cell_type": "code",
   "execution_count": null,
   "metadata": {},
   "outputs": [],
   "source": [
    "interp_M2E(x=0.2, y=0.1)"
   ]
  },
  {
   "cell_type": "code",
   "execution_count": null,
   "metadata": {},
   "outputs": [],
   "source": [
    "interp_M2E(x=[0.1, 0.2], y=[0.1, 0.2, 0.3])"
   ]
  },
  {
   "cell_type": "code",
   "execution_count": null,
   "metadata": {},
   "outputs": [],
   "source": [
    "M.shape"
   ]
  },
  {
   "cell_type": "code",
   "execution_count": null,
   "metadata": {},
   "outputs": [],
   "source": [
    "e.shape"
   ]
  },
  {
   "cell_type": "code",
   "execution_count": null,
   "metadata": {},
   "outputs": [],
   "source": [
    "E0 = interp_M2E.ev([0.1, 0.2], [0.0, 0.0])"
   ]
  },
  {
   "cell_type": "code",
   "execution_count": null,
   "metadata": {},
   "outputs": [],
   "source": [
    "E0"
   ]
  },
  {
   "cell_type": "code",
   "execution_count": null,
   "metadata": {},
   "outputs": [],
   "source": [
    "E0 = interp_M2E.ev(M, e)"
   ]
  },
  {
   "cell_type": "code",
   "execution_count": null,
   "metadata": {},
   "outputs": [],
   "source": [
    "E0"
   ]
  },
  {
   "cell_type": "code",
   "execution_count": null,
   "metadata": {},
   "outputs": [],
   "source": [
    "e[0]"
   ]
  },
  {
   "cell_type": "code",
   "execution_count": null,
   "metadata": {},
   "outputs": [],
   "source": [
    "E_impl[0]"
   ]
  },
  {
   "cell_type": "code",
   "execution_count": null,
   "metadata": {},
   "outputs": [],
   "source": [
    "E0[0]"
   ]
  },
  {
   "cell_type": "code",
   "execution_count": null,
   "metadata": {},
   "outputs": [],
   "source": [
    "interp_M2E(x=0.2, y=0.1)"
   ]
  },
  {
   "cell_type": "code",
   "execution_count": null,
   "metadata": {},
   "outputs": [],
   "source": [
    "test_anomaly_M2E()"
   ]
  },
  {
   "cell_type": "code",
   "execution_count": null,
   "metadata": {},
   "outputs": [],
   "source": [
    "M = np.array([4.870303166855185])\n",
    "e = np.array([0.9216217154070467])\n",
    "E = np.array([4.110592193249945])"
   ]
  },
  {
   "cell_type": "code",
   "execution_count": null,
   "metadata": {},
   "outputs": [],
   "source": [
    "anomaly_M2E_impl(M, e)"
   ]
  },
  {
   "cell_type": "code",
   "execution_count": null,
   "metadata": {},
   "outputs": [],
   "source": [
    "E - e * np.sin(E) - M"
   ]
  },
  {
   "cell_type": "code",
   "execution_count": null,
   "metadata": {},
   "outputs": [],
   "source": [
    "np.log(np.abs(E - e * np.sin(E) - M))"
   ]
  },
  {
   "cell_type": "code",
   "execution_count": null,
   "metadata": {},
   "outputs": [],
   "source": [
    "# Put M in the interval [0, 2*pi)\n",
    "M %= tau\n",
    "M"
   ]
  },
  {
   "cell_type": "code",
   "execution_count": null,
   "metadata": {},
   "outputs": [],
   "source": [
    "# Use the initial guess E0 if provided; otherwise use M\n",
    "E = M.copy()\n",
    "E"
   ]
  },
  {
   "cell_type": "code",
   "execution_count": null,
   "metadata": {},
   "outputs": [],
   "source": [
    "# Maximum number of iterations for Newton-Raphson\n",
    "max_iter: int = 30 "
   ]
  },
  {
   "cell_type": "code",
   "execution_count": null,
   "metadata": {},
   "outputs": [],
   "source": [
    "# Tolerance for maximum error\n",
    "err_tol: np.float64 = 2.0**-50"
   ]
  },
  {
   "cell_type": "code",
   "execution_count": null,
   "metadata": {},
   "outputs": [],
   "source": [
    "# Perform at most max_iter iterations of Newton's method; quit early if tolerance achieved\n",
    "for i in range(max_iter):\n",
    "    # The current function value f(E)\n",
    "    f = E - e * np.sin(E) - M\n",
    "    # Is the max error below the tolerance? If so, quit early\n",
    "    max_err = np.max(np.abs(f))\n",
    "    if max_err < err_tol:\n",
    "        # print(f'Converged with error {max_err:5.2e} after {i+1} iterations.')\n",
    "        break\n",
    "    # The derivative f'(E)\n",
    "    fp = 1.0 - e * np.cos(E)\n",
    "    # Update E using Newton's method\n",
    "    E -= f / fp"
   ]
  },
  {
   "cell_type": "code",
   "execution_count": null,
   "metadata": {},
   "outputs": [],
   "source": [
    "i"
   ]
  },
  {
   "cell_type": "code",
   "execution_count": null,
   "metadata": {},
   "outputs": [],
   "source": [
    "f"
   ]
  },
  {
   "cell_type": "code",
   "execution_count": null,
   "metadata": {},
   "outputs": [],
   "source": [
    "E"
   ]
  },
  {
   "cell_type": "code",
   "execution_count": null,
   "metadata": {},
   "outputs": [],
   "source": [
    "e"
   ]
  },
  {
   "cell_type": "code",
   "execution_count": null,
   "metadata": {},
   "outputs": [],
   "source": [
    "M"
   ]
  },
  {
   "cell_type": "code",
   "execution_count": null,
   "metadata": {},
   "outputs": [],
   "source": [
    "E - e * np.sin(E) - M"
   ]
  },
  {
   "cell_type": "code",
   "execution_count": null,
   "metadata": {},
   "outputs": [],
   "source": [
    "E"
   ]
  },
  {
   "cell_type": "code",
   "execution_count": null,
   "metadata": {},
   "outputs": [],
   "source": [
    "f"
   ]
  },
  {
   "cell_type": "code",
   "execution_count": null,
   "metadata": {},
   "outputs": [],
   "source": []
  }
 ],
 "metadata": {
  "kernelspec": {
   "display_name": "Python [conda env:kepler]",
   "language": "python",
   "name": "conda-env-kepler-py"
  },
  "language_info": {
   "codemirror_mode": {
    "name": "ipython",
    "version": 3
   },
   "file_extension": ".py",
   "mimetype": "text/x-python",
   "name": "python",
   "nbconvert_exporter": "python",
   "pygments_lexer": "ipython3",
   "version": "3.7.6"
  }
 },
 "nbformat": 4,
 "nbformat_minor": 4
}
