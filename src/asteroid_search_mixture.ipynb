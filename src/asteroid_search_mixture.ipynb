{
 "cells": [
  {
   "cell_type": "code",
   "execution_count": 1,
   "metadata": {},
   "outputs": [
    {
     "name": "stdout",
     "output_type": "stream",
     "text": [
      "Found 4 GPUs.  Setting memory growth = True.\n"
     ]
    }
   ],
   "source": [
    "# Core\n",
    "import numpy as np\n",
    "import pandas as pd\n",
    "\n",
    "# Tensorflow / ML\n",
    "import tensorflow as tf\n",
    "from tensorflow.python.keras import backend as K\n",
    "\n",
    "# Local\n",
    "from ztf_data import load_ztf_nearest_ast, calc_hit_freq, load_ztf_batch,make_ztf_batch\n",
    "from asteroid_integrate import load_ast_elt, load_ast_pos\n",
    "from candidate_element import orbital_element_batch, perturb_elts, random_elts\n",
    "\n",
    "from asteroid_model import make_model_ast_pos, make_model_ast_dir\n",
    "from asteroid_model import AsteroidPosition, AsteroidDirection\n",
    "from asteroid_search_model import TrajectoryScore\n",
    "from astro_utils import deg2dist, dist2deg, dist2sec"
   ]
  },
  {
   "cell_type": "code",
   "execution_count": 2,
   "metadata": {},
   "outputs": [],
   "source": [
    "keras = tf.keras"
   ]
  },
  {
   "cell_type": "markdown",
   "metadata": {},
   "source": [
    "## Load ZTF Data and Batch of Orbital Elements"
   ]
  },
  {
   "cell_type": "code",
   "execution_count": 3,
   "metadata": {},
   "outputs": [],
   "source": [
    "# Load orbital elements for known asteroids\n",
    "ast_elt = load_ast_elt()\n",
    "\n",
    "# Number of asteroids\n",
    "N_ast = ast_elt.shape[0]"
   ]
  },
  {
   "cell_type": "code",
   "execution_count": 4,
   "metadata": {},
   "outputs": [],
   "source": [
    "# Load ztf nearest asteroid data\n",
    "ztf_ast = load_ztf_nearest_ast()"
   ]
  },
  {
   "cell_type": "code",
   "execution_count": 5,
   "metadata": {},
   "outputs": [],
   "source": [
    "# Asteroid numbers and hit counts\n",
    "ast_num, hit_count = calc_hit_freq(ztf=ztf_ast, thresh_sec=2.0)\n",
    "\n",
    "# Sort the hit counts in descending order and find the top batch_size\n",
    "idx = np.argsort(hit_count)[::-1]\n",
    "\n",
    "# Extract the asteroid number and hit count for this batch\n",
    "ast_num_best = ast_num[idx]\n",
    "hit_count_best = hit_count[idx]"
   ]
  },
  {
   "cell_type": "code",
   "execution_count": 6,
   "metadata": {},
   "outputs": [],
   "source": [
    "# Set batch size\n",
    "batch_size = 64\n",
    "elt_batch_size = batch_size\n",
    "\n",
    "# Batch of unperturbed elements\n",
    "elts_ast = orbital_element_batch(ast_nums=ast_num_best[0:batch_size])"
   ]
  },
  {
   "cell_type": "code",
   "execution_count": 7,
   "metadata": {},
   "outputs": [
    {
     "data": {
      "text/html": [
       "<div>\n",
       "<style scoped>\n",
       "    .dataframe tbody tr th:only-of-type {\n",
       "        vertical-align: middle;\n",
       "    }\n",
       "\n",
       "    .dataframe tbody tr th {\n",
       "        vertical-align: top;\n",
       "    }\n",
       "\n",
       "    .dataframe thead th {\n",
       "        text-align: right;\n",
       "    }\n",
       "</style>\n",
       "<table border=\"1\" class=\"dataframe\">\n",
       "  <thead>\n",
       "    <tr style=\"text-align: right;\">\n",
       "      <th></th>\n",
       "      <th>element_id</th>\n",
       "      <th>a</th>\n",
       "      <th>e</th>\n",
       "      <th>inc</th>\n",
       "      <th>Omega</th>\n",
       "      <th>omega</th>\n",
       "      <th>f</th>\n",
       "      <th>epoch</th>\n",
       "    </tr>\n",
       "  </thead>\n",
       "  <tbody>\n",
       "    <tr>\n",
       "      <th>0</th>\n",
       "      <td>51921</td>\n",
       "      <td>2.669306</td>\n",
       "      <td>0.217361</td>\n",
       "      <td>0.499554</td>\n",
       "      <td>4.699703</td>\n",
       "      <td>2.450796</td>\n",
       "      <td>-1.133491</td>\n",
       "      <td>58600.0</td>\n",
       "    </tr>\n",
       "    <tr>\n",
       "      <th>1</th>\n",
       "      <td>59244</td>\n",
       "      <td>2.634727</td>\n",
       "      <td>0.262503</td>\n",
       "      <td>0.465045</td>\n",
       "      <td>5.738297</td>\n",
       "      <td>1.766995</td>\n",
       "      <td>-1.601363</td>\n",
       "      <td>58600.0</td>\n",
       "    </tr>\n",
       "    <tr>\n",
       "      <th>2</th>\n",
       "      <td>15786</td>\n",
       "      <td>1.883227</td>\n",
       "      <td>0.047655</td>\n",
       "      <td>0.392360</td>\n",
       "      <td>6.134689</td>\n",
       "      <td>0.804823</td>\n",
       "      <td>-1.246069</td>\n",
       "      <td>58600.0</td>\n",
       "    </tr>\n",
       "    <tr>\n",
       "      <th>3</th>\n",
       "      <td>3904</td>\n",
       "      <td>2.556387</td>\n",
       "      <td>0.098279</td>\n",
       "      <td>0.261542</td>\n",
       "      <td>5.450163</td>\n",
       "      <td>2.202423</td>\n",
       "      <td>-1.357345</td>\n",
       "      <td>58600.0</td>\n",
       "    </tr>\n",
       "    <tr>\n",
       "      <th>4</th>\n",
       "      <td>142999</td>\n",
       "      <td>2.619944</td>\n",
       "      <td>0.191376</td>\n",
       "      <td>0.514017</td>\n",
       "      <td>0.238022</td>\n",
       "      <td>0.946463</td>\n",
       "      <td>-1.299301</td>\n",
       "      <td>58600.0</td>\n",
       "    </tr>\n",
       "    <tr>\n",
       "      <th>...</th>\n",
       "      <td>...</td>\n",
       "      <td>...</td>\n",
       "      <td>...</td>\n",
       "      <td>...</td>\n",
       "      <td>...</td>\n",
       "      <td>...</td>\n",
       "      <td>...</td>\n",
       "      <td>...</td>\n",
       "    </tr>\n",
       "    <tr>\n",
       "      <th>59</th>\n",
       "      <td>11952</td>\n",
       "      <td>2.219650</td>\n",
       "      <td>0.086091</td>\n",
       "      <td>0.117967</td>\n",
       "      <td>0.042442</td>\n",
       "      <td>2.904823</td>\n",
       "      <td>-3.016580</td>\n",
       "      <td>58600.0</td>\n",
       "    </tr>\n",
       "    <tr>\n",
       "      <th>60</th>\n",
       "      <td>134815</td>\n",
       "      <td>2.612770</td>\n",
       "      <td>0.140831</td>\n",
       "      <td>0.513923</td>\n",
       "      <td>0.272689</td>\n",
       "      <td>0.645552</td>\n",
       "      <td>-0.957836</td>\n",
       "      <td>58600.0</td>\n",
       "    </tr>\n",
       "    <tr>\n",
       "      <th>61</th>\n",
       "      <td>27860</td>\n",
       "      <td>2.619406</td>\n",
       "      <td>0.096185</td>\n",
       "      <td>0.200633</td>\n",
       "      <td>5.541399</td>\n",
       "      <td>3.266046</td>\n",
       "      <td>3.948770</td>\n",
       "      <td>58600.0</td>\n",
       "    </tr>\n",
       "    <tr>\n",
       "      <th>62</th>\n",
       "      <td>85937</td>\n",
       "      <td>2.342292</td>\n",
       "      <td>0.197267</td>\n",
       "      <td>0.439063</td>\n",
       "      <td>5.279693</td>\n",
       "      <td>3.210025</td>\n",
       "      <td>3.947687</td>\n",
       "      <td>58600.0</td>\n",
       "    </tr>\n",
       "    <tr>\n",
       "      <th>63</th>\n",
       "      <td>72911</td>\n",
       "      <td>3.155569</td>\n",
       "      <td>0.086495</td>\n",
       "      <td>0.262050</td>\n",
       "      <td>5.311936</td>\n",
       "      <td>2.108568</td>\n",
       "      <td>-1.020687</td>\n",
       "      <td>58600.0</td>\n",
       "    </tr>\n",
       "  </tbody>\n",
       "</table>\n",
       "<p>64 rows × 8 columns</p>\n",
       "</div>"
      ],
      "text/plain": [
       "    element_id         a         e       inc     Omega     omega         f  \\\n",
       "0        51921  2.669306  0.217361  0.499554  4.699703  2.450796 -1.133491   \n",
       "1        59244  2.634727  0.262503  0.465045  5.738297  1.766995 -1.601363   \n",
       "2        15786  1.883227  0.047655  0.392360  6.134689  0.804823 -1.246069   \n",
       "3         3904  2.556387  0.098279  0.261542  5.450163  2.202423 -1.357345   \n",
       "4       142999  2.619944  0.191376  0.514017  0.238022  0.946463 -1.299301   \n",
       "..         ...       ...       ...       ...       ...       ...       ...   \n",
       "59       11952  2.219650  0.086091  0.117967  0.042442  2.904823 -3.016580   \n",
       "60      134815  2.612770  0.140831  0.513923  0.272689  0.645552 -0.957836   \n",
       "61       27860  2.619406  0.096185  0.200633  5.541399  3.266046  3.948770   \n",
       "62       85937  2.342292  0.197267  0.439063  5.279693  3.210025  3.947687   \n",
       "63       72911  3.155569  0.086495  0.262050  5.311936  2.108568 -1.020687   \n",
       "\n",
       "      epoch  \n",
       "0   58600.0  \n",
       "1   58600.0  \n",
       "2   58600.0  \n",
       "3   58600.0  \n",
       "4   58600.0  \n",
       "..      ...  \n",
       "59  58600.0  \n",
       "60  58600.0  \n",
       "61  58600.0  \n",
       "62  58600.0  \n",
       "63  58600.0  \n",
       "\n",
       "[64 rows x 8 columns]"
      ]
     },
     "execution_count": 7,
     "metadata": {},
     "output_type": "execute_result"
    }
   ],
   "source": [
    "elts_ast"
   ]
  },
  {
   "cell_type": "code",
   "execution_count": 8,
   "metadata": {},
   "outputs": [],
   "source": [
    "# Perturb orbital elements\n",
    "sigma_a = 0.0 \n",
    "sigma_e = 0.0 \n",
    "sigma_f_deg = 0.1\n",
    "sigma_Omega_deg = 0.0\n",
    "sigma_omega_deg = 0.0\n",
    "mask_pert = None\n",
    "random_seed = 42\n",
    "\n",
    "elts_pert = perturb_elts(elts_ast, sigma_a=sigma_a, sigma_e=sigma_e, sigma_f_deg=sigma_f_deg, \n",
    "                         sigma_Omega_deg=sigma_Omega_deg, sigma_omega_deg=sigma_omega_deg,\n",
    "                         mask_pert=mask_pert, random_seed=random_seed)"
   ]
  },
  {
   "cell_type": "code",
   "execution_count": 9,
   "metadata": {},
   "outputs": [
    {
     "data": {
      "text/html": [
       "<div>\n",
       "<style scoped>\n",
       "    .dataframe tbody tr th:only-of-type {\n",
       "        vertical-align: middle;\n",
       "    }\n",
       "\n",
       "    .dataframe tbody tr th {\n",
       "        vertical-align: top;\n",
       "    }\n",
       "\n",
       "    .dataframe thead th {\n",
       "        text-align: right;\n",
       "    }\n",
       "</style>\n",
       "<table border=\"1\" class=\"dataframe\">\n",
       "  <thead>\n",
       "    <tr style=\"text-align: right;\">\n",
       "      <th></th>\n",
       "      <th>element_id</th>\n",
       "      <th>a</th>\n",
       "      <th>e</th>\n",
       "      <th>inc</th>\n",
       "      <th>Omega</th>\n",
       "      <th>omega</th>\n",
       "      <th>f</th>\n",
       "      <th>epoch</th>\n",
       "    </tr>\n",
       "  </thead>\n",
       "  <tbody>\n",
       "    <tr>\n",
       "      <th>0</th>\n",
       "      <td>51921</td>\n",
       "      <td>2.669306</td>\n",
       "      <td>0.217361</td>\n",
       "      <td>0.499554</td>\n",
       "      <td>4.699703</td>\n",
       "      <td>2.450796</td>\n",
       "      <td>-1.133117</td>\n",
       "      <td>58600.0</td>\n",
       "    </tr>\n",
       "    <tr>\n",
       "      <th>1</th>\n",
       "      <td>59244</td>\n",
       "      <td>2.634727</td>\n",
       "      <td>0.262503</td>\n",
       "      <td>0.465045</td>\n",
       "      <td>5.738297</td>\n",
       "      <td>1.766995</td>\n",
       "      <td>-1.603537</td>\n",
       "      <td>58600.0</td>\n",
       "    </tr>\n",
       "    <tr>\n",
       "      <th>2</th>\n",
       "      <td>15786</td>\n",
       "      <td>1.883227</td>\n",
       "      <td>0.047655</td>\n",
       "      <td>0.392360</td>\n",
       "      <td>6.134689</td>\n",
       "      <td>0.804823</td>\n",
       "      <td>-1.245767</td>\n",
       "      <td>58600.0</td>\n",
       "    </tr>\n",
       "    <tr>\n",
       "      <th>3</th>\n",
       "      <td>3904</td>\n",
       "      <td>2.556387</td>\n",
       "      <td>0.098279</td>\n",
       "      <td>0.261542</td>\n",
       "      <td>5.450163</td>\n",
       "      <td>2.202423</td>\n",
       "      <td>-1.356673</td>\n",
       "      <td>58600.0</td>\n",
       "    </tr>\n",
       "    <tr>\n",
       "      <th>4</th>\n",
       "      <td>142999</td>\n",
       "      <td>2.619945</td>\n",
       "      <td>0.191376</td>\n",
       "      <td>0.514017</td>\n",
       "      <td>0.238022</td>\n",
       "      <td>0.946463</td>\n",
       "      <td>-1.300844</td>\n",
       "      <td>58600.0</td>\n",
       "    </tr>\n",
       "    <tr>\n",
       "      <th>...</th>\n",
       "      <td>...</td>\n",
       "      <td>...</td>\n",
       "      <td>...</td>\n",
       "      <td>...</td>\n",
       "      <td>...</td>\n",
       "      <td>...</td>\n",
       "      <td>...</td>\n",
       "      <td>...</td>\n",
       "    </tr>\n",
       "    <tr>\n",
       "      <th>59</th>\n",
       "      <td>11952</td>\n",
       "      <td>2.219650</td>\n",
       "      <td>0.086091</td>\n",
       "      <td>0.117967</td>\n",
       "      <td>0.042442</td>\n",
       "      <td>2.904823</td>\n",
       "      <td>-3.014978</td>\n",
       "      <td>58600.0</td>\n",
       "    </tr>\n",
       "    <tr>\n",
       "      <th>60</th>\n",
       "      <td>134815</td>\n",
       "      <td>2.612770</td>\n",
       "      <td>0.140831</td>\n",
       "      <td>0.513923</td>\n",
       "      <td>0.272689</td>\n",
       "      <td>0.645552</td>\n",
       "      <td>-0.954132</td>\n",
       "      <td>58600.0</td>\n",
       "    </tr>\n",
       "    <tr>\n",
       "      <th>61</th>\n",
       "      <td>27860</td>\n",
       "      <td>2.619406</td>\n",
       "      <td>0.096185</td>\n",
       "      <td>0.200633</td>\n",
       "      <td>5.541399</td>\n",
       "      <td>3.266046</td>\n",
       "      <td>3.950572</td>\n",
       "      <td>58600.0</td>\n",
       "    </tr>\n",
       "    <tr>\n",
       "      <th>62</th>\n",
       "      <td>85937</td>\n",
       "      <td>2.342292</td>\n",
       "      <td>0.197267</td>\n",
       "      <td>0.439063</td>\n",
       "      <td>5.279693</td>\n",
       "      <td>3.210025</td>\n",
       "      <td>3.945035</td>\n",
       "      <td>58600.0</td>\n",
       "    </tr>\n",
       "    <tr>\n",
       "      <th>63</th>\n",
       "      <td>72911</td>\n",
       "      <td>3.155569</td>\n",
       "      <td>0.086495</td>\n",
       "      <td>0.262050</td>\n",
       "      <td>5.311936</td>\n",
       "      <td>2.108568</td>\n",
       "      <td>-1.021533</td>\n",
       "      <td>58600.0</td>\n",
       "    </tr>\n",
       "  </tbody>\n",
       "</table>\n",
       "<p>64 rows × 8 columns</p>\n",
       "</div>"
      ],
      "text/plain": [
       "    element_id         a         e       inc     Omega     omega         f  \\\n",
       "0        51921  2.669306  0.217361  0.499554  4.699703  2.450796 -1.133117   \n",
       "1        59244  2.634727  0.262503  0.465045  5.738297  1.766995 -1.603537   \n",
       "2        15786  1.883227  0.047655  0.392360  6.134689  0.804823 -1.245767   \n",
       "3         3904  2.556387  0.098279  0.261542  5.450163  2.202423 -1.356673   \n",
       "4       142999  2.619945  0.191376  0.514017  0.238022  0.946463 -1.300844   \n",
       "..         ...       ...       ...       ...       ...       ...       ...   \n",
       "59       11952  2.219650  0.086091  0.117967  0.042442  2.904823 -3.014978   \n",
       "60      134815  2.612770  0.140831  0.513923  0.272689  0.645552 -0.954132   \n",
       "61       27860  2.619406  0.096185  0.200633  5.541399  3.266046  3.950572   \n",
       "62       85937  2.342292  0.197267  0.439063  5.279693  3.210025  3.945035   \n",
       "63       72911  3.155569  0.086495  0.262050  5.311936  2.108568 -1.021533   \n",
       "\n",
       "      epoch  \n",
       "0   58600.0  \n",
       "1   58600.0  \n",
       "2   58600.0  \n",
       "3   58600.0  \n",
       "4   58600.0  \n",
       "..      ...  \n",
       "59  58600.0  \n",
       "60  58600.0  \n",
       "61  58600.0  \n",
       "62  58600.0  \n",
       "63  58600.0  \n",
       "\n",
       "[64 rows x 8 columns]"
      ]
     },
     "execution_count": 9,
     "metadata": {},
     "output_type": "execute_result"
    }
   ],
   "source": [
    "elts_pert"
   ]
  },
  {
   "cell_type": "markdown",
   "metadata": {},
   "source": [
    "## Batches of ZTF Data vs. Elements"
   ]
  },
  {
   "cell_type": "code",
   "execution_count": 10,
   "metadata": {},
   "outputs": [],
   "source": [
    "# Arguments to make_ztf_batch\n",
    "thresh_deg = 1.0\n",
    "near_ast = False\n",
    "regenerate = False"
   ]
  },
  {
   "cell_type": "code",
   "execution_count": 11,
   "metadata": {},
   "outputs": [],
   "source": [
    "# Load unperturbed element batch\n",
    "ztf_elt_ast = load_ztf_batch(elts=elts_ast, thresh_deg=thresh_deg, near_ast=near_ast, regenerate=regenerate)"
   ]
  },
  {
   "cell_type": "code",
   "execution_count": 12,
   "metadata": {},
   "outputs": [],
   "source": [
    "# Load perturbed element batch\n",
    "ztf_elt_pert = load_ztf_batch(elts=elts_pert, thresh_deg=thresh_deg, near_ast=near_ast, regenerate=regenerate)"
   ]
  },
  {
   "cell_type": "code",
   "execution_count": 13,
   "metadata": {},
   "outputs": [
    {
     "data": {
      "text/html": [
       "<div>\n",
       "<style scoped>\n",
       "    .dataframe tbody tr th:only-of-type {\n",
       "        vertical-align: middle;\n",
       "    }\n",
       "\n",
       "    .dataframe tbody tr th {\n",
       "        vertical-align: top;\n",
       "    }\n",
       "\n",
       "    .dataframe thead th {\n",
       "        text-align: right;\n",
       "    }\n",
       "</style>\n",
       "<table border=\"1\" class=\"dataframe\">\n",
       "  <thead>\n",
       "    <tr style=\"text-align: right;\">\n",
       "      <th></th>\n",
       "      <th>ztf_id</th>\n",
       "      <th>element_id</th>\n",
       "      <th>ObjectID</th>\n",
       "      <th>CandidateID</th>\n",
       "      <th>TimeStampID</th>\n",
       "      <th>mjd</th>\n",
       "      <th>ra</th>\n",
       "      <th>dec</th>\n",
       "      <th>ux</th>\n",
       "      <th>uy</th>\n",
       "      <th>...</th>\n",
       "      <th>vz</th>\n",
       "      <th>elt_ux</th>\n",
       "      <th>elt_uy</th>\n",
       "      <th>elt_uz</th>\n",
       "      <th>elt_r</th>\n",
       "      <th>s</th>\n",
       "      <th>s_sec</th>\n",
       "      <th>z</th>\n",
       "      <th>v</th>\n",
       "      <th>is_hit</th>\n",
       "    </tr>\n",
       "  </thead>\n",
       "  <tbody>\n",
       "    <tr>\n",
       "      <th>0</th>\n",
       "      <td>53851</td>\n",
       "      <td>733</td>\n",
       "      <td>b'ZTF18abnothj'</td>\n",
       "      <td>594197584815010004</td>\n",
       "      <td>5501</td>\n",
       "      <td>58348.197581</td>\n",
       "      <td>266.229165</td>\n",
       "      <td>-13.513802</td>\n",
       "      <td>-0.063945</td>\n",
       "      <td>-0.983101</td>\n",
       "      <td>...</td>\n",
       "      <td>0.004080</td>\n",
       "      <td>-0.057300</td>\n",
       "      <td>-0.982042</td>\n",
       "      <td>0.179751</td>\n",
       "      <td>2.234078</td>\n",
       "      <td>0.010624</td>\n",
       "      <td>2191.371398</td>\n",
       "      <td>0.999944</td>\n",
       "      <td>0.370539</td>\n",
       "      <td>False</td>\n",
       "    </tr>\n",
       "    <tr>\n",
       "      <th>1</th>\n",
       "      <td>73604</td>\n",
       "      <td>733</td>\n",
       "      <td>b'ZTF18ablwzmb'</td>\n",
       "      <td>594197584815015003</td>\n",
       "      <td>5501</td>\n",
       "      <td>58348.197581</td>\n",
       "      <td>265.761024</td>\n",
       "      <td>-13.509148</td>\n",
       "      <td>-0.071871</td>\n",
       "      <td>-0.982578</td>\n",
       "      <td>...</td>\n",
       "      <td>0.004080</td>\n",
       "      <td>-0.057300</td>\n",
       "      <td>-0.982042</td>\n",
       "      <td>0.179751</td>\n",
       "      <td>2.234078</td>\n",
       "      <td>0.016809</td>\n",
       "      <td>3467.103003</td>\n",
       "      <td>0.999859</td>\n",
       "      <td>0.927533</td>\n",
       "      <td>False</td>\n",
       "    </tr>\n",
       "    <tr>\n",
       "      <th>2</th>\n",
       "      <td>82343</td>\n",
       "      <td>733</td>\n",
       "      <td>b'ZTF18abiydvm'</td>\n",
       "      <td>635193253015015018</td>\n",
       "      <td>12089</td>\n",
       "      <td>58389.193252</td>\n",
       "      <td>270.331454</td>\n",
       "      <td>-11.244934</td>\n",
       "      <td>0.005674</td>\n",
       "      <td>-0.977422</td>\n",
       "      <td>...</td>\n",
       "      <td>0.003825</td>\n",
       "      <td>0.000918</td>\n",
       "      <td>-0.977996</td>\n",
       "      <td>0.208622</td>\n",
       "      <td>2.703478</td>\n",
       "      <td>0.005450</td>\n",
       "      <td>1124.142942</td>\n",
       "      <td>0.999985</td>\n",
       "      <td>0.097510</td>\n",
       "      <td>False</td>\n",
       "    </tr>\n",
       "    <tr>\n",
       "      <th>3</th>\n",
       "      <td>257221</td>\n",
       "      <td>733</td>\n",
       "      <td>b'ZTF18acakcqg'</td>\n",
       "      <td>931471223715015007</td>\n",
       "      <td>39920</td>\n",
       "      <td>58685.471227</td>\n",
       "      <td>29.693832</td>\n",
       "      <td>42.180412</td>\n",
       "      <td>0.643725</td>\n",
       "      <td>0.603886</td>\n",
       "      <td>...</td>\n",
       "      <td>-0.001953</td>\n",
       "      <td>0.639004</td>\n",
       "      <td>0.610779</td>\n",
       "      <td>0.467571</td>\n",
       "      <td>2.175851</td>\n",
       "      <td>0.008712</td>\n",
       "      <td>1797.042210</td>\n",
       "      <td>0.999962</td>\n",
       "      <td>0.249184</td>\n",
       "      <td>False</td>\n",
       "    </tr>\n",
       "    <tr>\n",
       "      <th>4</th>\n",
       "      <td>327000</td>\n",
       "      <td>733</td>\n",
       "      <td>b'ZTF18achmdmw'</td>\n",
       "      <td>937465970615015011</td>\n",
       "      <td>40837</td>\n",
       "      <td>58691.465972</td>\n",
       "      <td>33.104905</td>\n",
       "      <td>44.059131</td>\n",
       "      <td>0.601970</td>\n",
       "      <td>0.636719</td>\n",
       "      <td>...</td>\n",
       "      <td>-0.002129</td>\n",
       "      <td>0.606278</td>\n",
       "      <td>0.637608</td>\n",
       "      <td>0.475272</td>\n",
       "      <td>2.114865</td>\n",
       "      <td>0.007949</td>\n",
       "      <td>1639.537152</td>\n",
       "      <td>0.999968</td>\n",
       "      <td>0.207418</td>\n",
       "      <td>False</td>\n",
       "    </tr>\n",
       "    <tr>\n",
       "      <th>...</th>\n",
       "      <td>...</td>\n",
       "      <td>...</td>\n",
       "      <td>...</td>\n",
       "      <td>...</td>\n",
       "      <td>...</td>\n",
       "      <td>...</td>\n",
       "      <td>...</td>\n",
       "      <td>...</td>\n",
       "      <td>...</td>\n",
       "      <td>...</td>\n",
       "      <td>...</td>\n",
       "      <td>...</td>\n",
       "      <td>...</td>\n",
       "      <td>...</td>\n",
       "      <td>...</td>\n",
       "      <td>...</td>\n",
       "      <td>...</td>\n",
       "      <td>...</td>\n",
       "      <td>...</td>\n",
       "      <td>...</td>\n",
       "      <td>...</td>\n",
       "    </tr>\n",
       "    <tr>\n",
       "      <th>90205</th>\n",
       "      <td>5650588</td>\n",
       "      <td>324582</td>\n",
       "      <td>b'ZTF20aaqvhld'</td>\n",
       "      <td>1150176701515015008</td>\n",
       "      <td>96618</td>\n",
       "      <td>58904.176701</td>\n",
       "      <td>44.164238</td>\n",
       "      <td>29.650540</td>\n",
       "      <td>0.623416</td>\n",
       "      <td>0.752309</td>\n",
       "      <td>...</td>\n",
       "      <td>-0.001541</td>\n",
       "      <td>0.627640</td>\n",
       "      <td>0.750696</td>\n",
       "      <td>0.206212</td>\n",
       "      <td>2.981799</td>\n",
       "      <td>0.008187</td>\n",
       "      <td>1688.636853</td>\n",
       "      <td>0.999966</td>\n",
       "      <td>0.220027</td>\n",
       "      <td>False</td>\n",
       "    </tr>\n",
       "    <tr>\n",
       "      <th>90206</th>\n",
       "      <td>5650589</td>\n",
       "      <td>324582</td>\n",
       "      <td>b'ZTF20aaqvhld'</td>\n",
       "      <td>1150176245715015005</td>\n",
       "      <td>96617</td>\n",
       "      <td>58904.176250</td>\n",
       "      <td>44.164062</td>\n",
       "      <td>29.650536</td>\n",
       "      <td>0.623417</td>\n",
       "      <td>0.752307</td>\n",
       "      <td>...</td>\n",
       "      <td>-0.001541</td>\n",
       "      <td>0.627641</td>\n",
       "      <td>0.750695</td>\n",
       "      <td>0.206213</td>\n",
       "      <td>2.981793</td>\n",
       "      <td>0.008187</td>\n",
       "      <td>1688.600639</td>\n",
       "      <td>0.999966</td>\n",
       "      <td>0.220018</td>\n",
       "      <td>False</td>\n",
       "    </tr>\n",
       "    <tr>\n",
       "      <th>90207</th>\n",
       "      <td>5650665</td>\n",
       "      <td>324582</td>\n",
       "      <td>b'ZTF20aaqvhll'</td>\n",
       "      <td>1150176245815015010</td>\n",
       "      <td>96617</td>\n",
       "      <td>58904.176250</td>\n",
       "      <td>44.368640</td>\n",
       "      <td>28.490480</td>\n",
       "      <td>0.628284</td>\n",
       "      <td>0.753618</td>\n",
       "      <td>...</td>\n",
       "      <td>-0.001541</td>\n",
       "      <td>0.627641</td>\n",
       "      <td>0.750695</td>\n",
       "      <td>0.206213</td>\n",
       "      <td>2.981793</td>\n",
       "      <td>0.013370</td>\n",
       "      <td>2757.856469</td>\n",
       "      <td>0.999911</td>\n",
       "      <td>0.586871</td>\n",
       "      <td>False</td>\n",
       "    </tr>\n",
       "    <tr>\n",
       "      <th>90208</th>\n",
       "      <td>5650697</td>\n",
       "      <td>324582</td>\n",
       "      <td>b'ZTF20aaqvhmb'</td>\n",
       "      <td>1150176246015015005</td>\n",
       "      <td>96617</td>\n",
       "      <td>58904.176250</td>\n",
       "      <td>43.296207</td>\n",
       "      <td>29.505908</td>\n",
       "      <td>0.633424</td>\n",
       "      <td>0.743491</td>\n",
       "      <td>...</td>\n",
       "      <td>-0.001541</td>\n",
       "      <td>0.627641</td>\n",
       "      <td>0.750695</td>\n",
       "      <td>0.206213</td>\n",
       "      <td>2.981793</td>\n",
       "      <td>0.012388</td>\n",
       "      <td>2555.279465</td>\n",
       "      <td>0.999923</td>\n",
       "      <td>0.503822</td>\n",
       "      <td>False</td>\n",
       "    </tr>\n",
       "    <tr>\n",
       "      <th>90209</th>\n",
       "      <td>5650705</td>\n",
       "      <td>324582</td>\n",
       "      <td>b'ZTF20aaqvhlg'</td>\n",
       "      <td>1150176245715015008</td>\n",
       "      <td>96617</td>\n",
       "      <td>58904.176250</td>\n",
       "      <td>44.621045</td>\n",
       "      <td>29.303550</td>\n",
       "      <td>0.620689</td>\n",
       "      <td>0.756675</td>\n",
       "      <td>...</td>\n",
       "      <td>-0.001541</td>\n",
       "      <td>0.627641</td>\n",
       "      <td>0.750695</td>\n",
       "      <td>0.206213</td>\n",
       "      <td>2.981793</td>\n",
       "      <td>0.009206</td>\n",
       "      <td>1898.910180</td>\n",
       "      <td>0.999958</td>\n",
       "      <td>0.278235</td>\n",
       "      <td>False</td>\n",
       "    </tr>\n",
       "  </tbody>\n",
       "</table>\n",
       "<p>90210 rows × 26 columns</p>\n",
       "</div>"
      ],
      "text/plain": [
       "        ztf_id  element_id         ObjectID          CandidateID  TimeStampID  \\\n",
       "0        53851         733  b'ZTF18abnothj'   594197584815010004         5501   \n",
       "1        73604         733  b'ZTF18ablwzmb'   594197584815015003         5501   \n",
       "2        82343         733  b'ZTF18abiydvm'   635193253015015018        12089   \n",
       "3       257221         733  b'ZTF18acakcqg'   931471223715015007        39920   \n",
       "4       327000         733  b'ZTF18achmdmw'   937465970615015011        40837   \n",
       "...        ...         ...              ...                  ...          ...   \n",
       "90205  5650588      324582  b'ZTF20aaqvhld'  1150176701515015008        96618   \n",
       "90206  5650589      324582  b'ZTF20aaqvhld'  1150176245715015005        96617   \n",
       "90207  5650665      324582  b'ZTF20aaqvhll'  1150176245815015010        96617   \n",
       "90208  5650697      324582  b'ZTF20aaqvhmb'  1150176246015015005        96617   \n",
       "90209  5650705      324582  b'ZTF20aaqvhlg'  1150176245715015008        96617   \n",
       "\n",
       "                mjd          ra        dec        ux        uy  ...        vz  \\\n",
       "0      58348.197581  266.229165 -13.513802 -0.063945 -0.983101  ...  0.004080   \n",
       "1      58348.197581  265.761024 -13.509148 -0.071871 -0.982578  ...  0.004080   \n",
       "2      58389.193252  270.331454 -11.244934  0.005674 -0.977422  ...  0.003825   \n",
       "3      58685.471227   29.693832  42.180412  0.643725  0.603886  ... -0.001953   \n",
       "4      58691.465972   33.104905  44.059131  0.601970  0.636719  ... -0.002129   \n",
       "...             ...         ...        ...       ...       ...  ...       ...   \n",
       "90205  58904.176701   44.164238  29.650540  0.623416  0.752309  ... -0.001541   \n",
       "90206  58904.176250   44.164062  29.650536  0.623417  0.752307  ... -0.001541   \n",
       "90207  58904.176250   44.368640  28.490480  0.628284  0.753618  ... -0.001541   \n",
       "90208  58904.176250   43.296207  29.505908  0.633424  0.743491  ... -0.001541   \n",
       "90209  58904.176250   44.621045  29.303550  0.620689  0.756675  ... -0.001541   \n",
       "\n",
       "         elt_ux    elt_uy    elt_uz     elt_r         s        s_sec  \\\n",
       "0     -0.057300 -0.982042  0.179751  2.234078  0.010624  2191.371398   \n",
       "1     -0.057300 -0.982042  0.179751  2.234078  0.016809  3467.103003   \n",
       "2      0.000918 -0.977996  0.208622  2.703478  0.005450  1124.142942   \n",
       "3      0.639004  0.610779  0.467571  2.175851  0.008712  1797.042210   \n",
       "4      0.606278  0.637608  0.475272  2.114865  0.007949  1639.537152   \n",
       "...         ...       ...       ...       ...       ...          ...   \n",
       "90205  0.627640  0.750696  0.206212  2.981799  0.008187  1688.636853   \n",
       "90206  0.627641  0.750695  0.206213  2.981793  0.008187  1688.600639   \n",
       "90207  0.627641  0.750695  0.206213  2.981793  0.013370  2757.856469   \n",
       "90208  0.627641  0.750695  0.206213  2.981793  0.012388  2555.279465   \n",
       "90209  0.627641  0.750695  0.206213  2.981793  0.009206  1898.910180   \n",
       "\n",
       "              z         v  is_hit  \n",
       "0      0.999944  0.370539   False  \n",
       "1      0.999859  0.927533   False  \n",
       "2      0.999985  0.097510   False  \n",
       "3      0.999962  0.249184   False  \n",
       "4      0.999968  0.207418   False  \n",
       "...         ...       ...     ...  \n",
       "90205  0.999966  0.220027   False  \n",
       "90206  0.999966  0.220018   False  \n",
       "90207  0.999911  0.586871   False  \n",
       "90208  0.999923  0.503822   False  \n",
       "90209  0.999958  0.278235   False  \n",
       "\n",
       "[90210 rows x 26 columns]"
      ]
     },
     "execution_count": 13,
     "metadata": {},
     "output_type": "execute_result"
    }
   ],
   "source": [
    "ztf_elt_ast"
   ]
  },
  {
   "cell_type": "code",
   "execution_count": 14,
   "metadata": {},
   "outputs": [
    {
     "data": {
      "text/plain": [
       "Index(['ztf_id', 'element_id', 'ObjectID', 'CandidateID', 'TimeStampID', 'mjd',\n",
       "       'ra', 'dec', 'ux', 'uy', 'uz', 'qx', 'qy', 'qz', 'vx', 'vy', 'vz',\n",
       "       'elt_ux', 'elt_uy', 'elt_uz', 'elt_r', 's', 's_sec', 'z', 'v',\n",
       "       'is_hit'],\n",
       "      dtype='object')"
      ]
     },
     "execution_count": 14,
     "metadata": {},
     "output_type": "execute_result"
    }
   ],
   "source": [
    "ztf_elt_ast.columns"
   ]
  },
  {
   "cell_type": "code",
   "execution_count": 15,
   "metadata": {},
   "outputs": [
    {
     "name": "stdout",
     "output_type": "stream",
     "text": [
      "Best asteroid has element_id = 51921\n",
      "Hit count: 158\n",
      "Closest hit: 0.382 arc seconds\n"
     ]
    }
   ],
   "source": [
    "# Review results\n",
    "ztf_elt = ztf_elt_ast\n",
    "element_id_best = ast_num_best[0]\n",
    "mask = (ztf_elt.element_id == element_id_best)\n",
    "hits_best = np.sum(ztf_elt[mask].is_hit)\n",
    "s_sec_min = np.min(ztf_elt[mask].s_sec)\n",
    "idx = np.argmin(ztf_elt.s)\n",
    "ztf_id = ztf_elt.ztf_id[idx]\n",
    "# ztf_elt[mask].iloc[idx:idx+1]\n",
    "print(f'Best asteroid has element_id = {element_id_best}')\n",
    "print(f'Hit count: {hits_best}')\n",
    "print(f'Closest hit: {s_sec_min:0.3f} arc seconds')\n",
    "# ztf_elt[mask]"
   ]
  },
  {
   "cell_type": "markdown",
   "metadata": {},
   "source": [
    "## Load Direction Model"
   ]
  },
  {
   "cell_type": "code",
   "execution_count": 16,
   "metadata": {},
   "outputs": [],
   "source": [
    "# Data types\n",
    "dtype = tf.float32\n",
    "dtype_np = np.float32"
   ]
  },
  {
   "cell_type": "code",
   "execution_count": 17,
   "metadata": {},
   "outputs": [],
   "source": [
    "# Alias ztf_elt\n",
    "ztf_elt = ztf_elt_ast.copy()"
   ]
  },
  {
   "cell_type": "code",
   "execution_count": 18,
   "metadata": {},
   "outputs": [],
   "source": [
    "# Build numpy array of times\n",
    "ts_np = ztf_elt.mjd.values.astype(dtype_np)"
   ]
  },
  {
   "cell_type": "code",
   "execution_count": 19,
   "metadata": {},
   "outputs": [],
   "source": [
    "# Build tensor of flattened times\n",
    "ts = keras.backend.constant(ts_np)\n",
    "\n",
    "# Get observation count per element\n",
    "row_lengths = ztf_elt.element_id.groupby(ztf_elt.element_id).count().values.astype(np.int32)"
   ]
  },
  {
   "cell_type": "code",
   "execution_count": 20,
   "metadata": {},
   "outputs": [],
   "source": [
    "# Observation site\n",
    "site_name = 'palomar'"
   ]
  },
  {
   "cell_type": "code",
   "execution_count": 21,
   "metadata": {},
   "outputs": [],
   "source": [
    "# Build direction model\n",
    "model_dir = make_model_ast_dir(ts=ts, row_lengths=row_lengths, site_name=site_name, elt_batch_size=elt_batch_size)"
   ]
  },
  {
   "cell_type": "code",
   "execution_count": 22,
   "metadata": {},
   "outputs": [],
   "source": [
    "# Calibration arrays (flat)\n",
    "cols_q_ast = ['qx', 'qy', 'qz']\n",
    "cols_v_ast = ['vx', 'vy', 'vz']\n",
    "q_ast = ztf_elt[cols_q_ast].values.astype(dtype_np)\n",
    "v_ast = ztf_elt[cols_v_ast].values.astype(dtype_np)"
   ]
  },
  {
   "cell_type": "code",
   "execution_count": 23,
   "metadata": {},
   "outputs": [],
   "source": [
    "# Run calibration\n",
    "model_dir.ast_pos_layer.calibrate(elts=elts_ast, q_ast=q_ast, v_ast=v_ast)"
   ]
  },
  {
   "cell_type": "markdown",
   "metadata": {},
   "source": [
    "## Predict and Test Direction Model"
   ]
  },
  {
   "cell_type": "code",
   "execution_count": 24,
   "metadata": {},
   "outputs": [],
   "source": [
    "# Stack elements as a dict of numpy arrays for prediction\n",
    "cols_elt = ['a', 'e', 'inc', 'Omega', 'omega', 'f', 'epoch']\n",
    "elts_ast_dict = {col : elts_ast[col].values for col in cols_elt}"
   ]
  },
  {
   "cell_type": "code",
   "execution_count": 25,
   "metadata": {},
   "outputs": [],
   "source": [
    "# Predict calibrated direction model\n",
    "u_pred, r_pred = model_dir.predict(elts_ast_dict)"
   ]
  },
  {
   "cell_type": "code",
   "execution_count": 26,
   "metadata": {},
   "outputs": [
    {
     "name": "stdout",
     "output_type": "stream",
     "text": [
      "Mean direction difference:\n",
      "Cartesian  : 7.86e-06\n",
      "Arc Seconds:  1.620\n"
     ]
    }
   ],
   "source": [
    "# Compare to direction on the ztf_elt frame (should be the same!)\n",
    "cols_u = ['elt_ux', 'elt_uy', 'elt_uz']\n",
    "u_exp = ztf_elt[cols_u].values\n",
    "u_diff = u_pred.values - u_exp\n",
    "mean_diff_s = np.mean(np.linalg.norm(u_diff, axis=1))\n",
    "mean_diff_sec = dist2sec(mean_diff_s)\n",
    "\n",
    "# Report results\n",
    "print(f'Mean direction difference:')\n",
    "print(f'Cartesian  : {mean_diff_s:8.2e}')\n",
    "print(f'Arc Seconds: {mean_diff_sec:6.3f}')"
   ]
  },
  {
   "cell_type": "markdown",
   "metadata": {},
   "source": [
    "## Tensors and Layers for Eager Mode"
   ]
  },
  {
   "cell_type": "code",
   "execution_count": 27,
   "metadata": {},
   "outputs": [],
   "source": [
    "# Orbital elements\n",
    "a = tf.Variable(initial_value=elts_ast.a, dtype=dtype, name='a')\n",
    "e = tf.Variable(initial_value=elts_ast.e, dtype=dtype, name='e')\n",
    "inc = tf.Variable(initial_value=elts_ast.inc, dtype=dtype, name='inc')\n",
    "Omega = tf.Variable(initial_value=elts_ast.Omega, dtype=dtype, name='Omega')\n",
    "omega = tf.Variable(initial_value=elts_ast.omega, dtype=dtype, name='omega')\n",
    "f = tf.Variable(initial_value=elts_ast.f, dtype=dtype, name='f')\n",
    "epoch = tf.constant(value=elts_ast.epoch, dtype=dtype, name='epoch')"
   ]
  },
  {
   "cell_type": "code",
   "execution_count": 28,
   "metadata": {},
   "outputs": [],
   "source": [
    "# Mixture probability paramters: h and lam\n",
    "h = tf.Variable(initial_value=np.ones(elt_batch_size)*0.5, dtype=dtype, name='h')\n",
    "lam = tf.Variable(initial_value=np.ones(elt_batch_size)*1.0, dtype=dtype, name='lam')"
   ]
  },
  {
   "cell_type": "code",
   "execution_count": 29,
   "metadata": {},
   "outputs": [],
   "source": [
    "# Observed directions\n",
    "cols_u_obs = ['ux', 'uy', 'uz']\n",
    "u_obs_np = ztf_elt[cols_u_obs].values.astype(dtype_np)\n",
    "u_obs = tf.constant(value=u_obs_np, dtype=dtype, name='u_obs')"
   ]
  },
  {
   "cell_type": "code",
   "execution_count": 30,
   "metadata": {},
   "outputs": [
    {
     "name": "stdout",
     "output_type": "stream",
     "text": [
      "u_obs.shape = (90210, 3)\n"
     ]
    }
   ],
   "source": [
    "# Review shape\n",
    "print(f'u_obs.shape = {u_obs.shape}')"
   ]
  },
  {
   "cell_type": "code",
   "execution_count": 31,
   "metadata": {},
   "outputs": [],
   "source": [
    "# Extract direction layers\n",
    "ast_pos_layer = model_dir.ast_pos_layer\n",
    "ast_dir_layer = model_dir.ast_dir_layer"
   ]
  },
  {
   "cell_type": "code",
   "execution_count": 32,
   "metadata": {},
   "outputs": [],
   "source": [
    "# Predict in eager mode\n",
    "q_flat, v_flat = ast_pos_layer(a, e, inc, Omega, omega, f, epoch)\n",
    "u_pred, r_pred = ast_dir_layer(a, e, inc, Omega, omega, f, epoch)"
   ]
  },
  {
   "cell_type": "code",
   "execution_count": 33,
   "metadata": {},
   "outputs": [
    {
     "name": "stdout",
     "output_type": "stream",
     "text": [
      "q_flat.shape = (90210, 3)\n",
      "v_flat.shape = (90210, 3)\n",
      "u_pred.shape = (90210, 3)\n",
      "r_pred.shape = (90210, 1)\n"
     ]
    }
   ],
   "source": [
    "# Review shapes\n",
    "print(f'q_flat.shape = {q_flat.shape}')\n",
    "print(f'v_flat.shape = {v_flat.shape}')\n",
    "print(f'u_pred.shape = {u_pred.shape}')\n",
    "print(f'r_pred.shape = {r_pred.shape}')"
   ]
  },
  {
   "cell_type": "markdown",
   "metadata": {},
   "source": [
    "## TrajectoryScore Layer"
   ]
  },
  {
   "cell_type": "code",
   "execution_count": 34,
   "metadata": {},
   "outputs": [],
   "source": [
    "# Build score layer\n",
    "score_layer = TrajectoryScore(u_obs=u_obs, row_lengths=row_lengths, thresh_deg=thresh_deg)"
   ]
  },
  {
   "cell_type": "code",
   "execution_count": 35,
   "metadata": {},
   "outputs": [
    {
     "data": {
      "text/plain": [
       "(<tf.Tensor: shape=(), dtype=float32, numpy=9061.195>,\n",
       " <tf.Tensor: shape=(64,), dtype=float32, numpy=\n",
       " array([-138.4855  ,  -86.415474,  -99.11642 , -108.17472 , -100.5627  ,\n",
       "         -98.07557 ,  -70.23585 , -280.18787 ,  -84.41789 , -265.31573 ,\n",
       "         -95.867584,  -97.80256 ,  -99.79626 ,  -78.72941 , -191.24612 ,\n",
       "         -89.76084 ,  -51.571377, -118.580475, -154.82277 , -143.90373 ,\n",
       "         -93.21983 ,  -65.23926 , -345.27173 , -292.1996  , -162.15639 ,\n",
       "         -71.5316  , -100.37699 , -124.00355 ,  -74.97757 , -338.0676  ,\n",
       "         -80.48263 , -144.8527  , -289.81723 ,  -73.90887 , -176.73428 ,\n",
       "         -63.88449 , -109.39908 ,  -76.54155 , -243.74922 ,  -97.40142 ,\n",
       "         -98.48872 , -168.25702 ,  -90.36909 ,  -70.763435, -105.73846 ,\n",
       "        -112.11442 , -288.34583 ,  -61.808533, -208.27869 , -309.95697 ,\n",
       "        -103.95107 ,  -66.53456 ,  -88.40469 , -213.91489 , -304.3891  ,\n",
       "         -56.622955,  -83.96233 ,  -97.789986, -280.18677 , -323.8607  ,\n",
       "         -90.15563 , -176.21065 ,  -69.887245, -114.31731 ], dtype=float32)>)"
      ]
     },
     "execution_count": 35,
     "metadata": {},
     "output_type": "execute_result"
    }
   ],
   "source": [
    "# Test score layer\n",
    "score_layer(u_pred, h, lam)"
   ]
  },
  {
   "cell_type": "markdown",
   "metadata": {},
   "source": [
    "## Prototype TrajectoryScore"
   ]
  },
  {
   "cell_type": "code",
   "execution_count": 36,
   "metadata": {},
   "outputs": [],
   "source": [
    "# Thresholds\n",
    "thresh_s = deg2dist(thresh_deg).astype(dtype_np)\n",
    "thresh_s2 = (thresh_s**2).astype(dtype_np)\n",
    "thresh_z = (1.0 - thresh_s2 / 2.0).astype(dtype_np)"
   ]
  },
  {
   "cell_type": "code",
   "execution_count": 37,
   "metadata": {},
   "outputs": [],
   "source": [
    "# Difference between actual and predicted directions\n",
    "du = keras.layers.subtract(inputs=[u_pred, u_obs], name='du')\n",
    "# Squared distance bewteen predicted and observed directions\n",
    "s2 = K.sum(tf.square(du), axis=(-1))"
   ]
  },
  {
   "cell_type": "code",
   "execution_count": 38,
   "metadata": {},
   "outputs": [
    {
     "name": "stdout",
     "output_type": "stream",
     "text": [
      "du.shape = (90210, 3)\n",
      "s2.shape = (90210,)\n"
     ]
    }
   ],
   "source": [
    "# Review shapes\n",
    "print(f'du.shape = {du.shape}')\n",
    "print(f's2.shape = {s2.shape}')"
   ]
  },
  {
   "cell_type": "code",
   "execution_count": 39,
   "metadata": {},
   "outputs": [
    {
     "data": {
      "text/html": [
       "<div>\n",
       "<style scoped>\n",
       "    .dataframe tbody tr th:only-of-type {\n",
       "        vertical-align: middle;\n",
       "    }\n",
       "\n",
       "    .dataframe tbody tr th {\n",
       "        vertical-align: top;\n",
       "    }\n",
       "\n",
       "    .dataframe thead th {\n",
       "        text-align: right;\n",
       "    }\n",
       "</style>\n",
       "<table border=\"1\" class=\"dataframe\">\n",
       "  <thead>\n",
       "    <tr style=\"text-align: right;\">\n",
       "      <th></th>\n",
       "      <th>ztf_id</th>\n",
       "      <th>element_id</th>\n",
       "      <th>ux</th>\n",
       "      <th>uy</th>\n",
       "      <th>uz</th>\n",
       "      <th>elt_ux</th>\n",
       "      <th>elt_uy</th>\n",
       "      <th>elt_uz</th>\n",
       "      <th>z</th>\n",
       "      <th>v</th>\n",
       "      <th>is_hit</th>\n",
       "    </tr>\n",
       "  </thead>\n",
       "  <tbody>\n",
       "    <tr>\n",
       "      <th>0</th>\n",
       "      <td>53851</td>\n",
       "      <td>733</td>\n",
       "      <td>-0.063945</td>\n",
       "      <td>-0.983101</td>\n",
       "      <td>0.171530</td>\n",
       "      <td>-0.057300</td>\n",
       "      <td>-0.982042</td>\n",
       "      <td>0.179751</td>\n",
       "      <td>0.999944</td>\n",
       "      <td>0.370539</td>\n",
       "      <td>False</td>\n",
       "    </tr>\n",
       "    <tr>\n",
       "      <th>1</th>\n",
       "      <td>73604</td>\n",
       "      <td>733</td>\n",
       "      <td>-0.071871</td>\n",
       "      <td>-0.982578</td>\n",
       "      <td>0.171389</td>\n",
       "      <td>-0.057300</td>\n",
       "      <td>-0.982042</td>\n",
       "      <td>0.179751</td>\n",
       "      <td>0.999859</td>\n",
       "      <td>0.927533</td>\n",
       "      <td>False</td>\n",
       "    </tr>\n",
       "    <tr>\n",
       "      <th>2</th>\n",
       "      <td>82343</td>\n",
       "      <td>733</td>\n",
       "      <td>0.005674</td>\n",
       "      <td>-0.977422</td>\n",
       "      <td>0.211222</td>\n",
       "      <td>0.000918</td>\n",
       "      <td>-0.977996</td>\n",
       "      <td>0.208622</td>\n",
       "      <td>0.999985</td>\n",
       "      <td>0.097510</td>\n",
       "      <td>False</td>\n",
       "    </tr>\n",
       "  </tbody>\n",
       "</table>\n",
       "</div>"
      ],
      "text/plain": [
       "   ztf_id  element_id        ux        uy        uz    elt_ux    elt_uy  \\\n",
       "0   53851         733 -0.063945 -0.983101  0.171530 -0.057300 -0.982042   \n",
       "1   73604         733 -0.071871 -0.982578  0.171389 -0.057300 -0.982042   \n",
       "2   82343         733  0.005674 -0.977422  0.211222  0.000918 -0.977996   \n",
       "\n",
       "     elt_uz         z         v  is_hit  \n",
       "0  0.179751  0.999944  0.370539   False  \n",
       "1  0.179751  0.999859  0.927533   False  \n",
       "2  0.208622  0.999985  0.097510   False  "
      ]
     },
     "execution_count": 39,
     "metadata": {},
     "output_type": "execute_result"
    }
   ],
   "source": [
    "# Look at relevant columns\n",
    "cols_disp = ['ztf_id', 'element_id', 'ux', 'uy', 'uz', 'elt_ux', 'elt_uy', 'elt_uz', 'z', 'v', 'is_hit']\n",
    "ztf_elt.iloc[0:3][cols_disp]"
   ]
  },
  {
   "cell_type": "code",
   "execution_count": 40,
   "metadata": {},
   "outputs": [],
   "source": [
    "# Filter to only include terms where z2 is within the threshold distance^2\n",
    "is_close = s2 < thresh_s2"
   ]
  },
  {
   "cell_type": "code",
   "execution_count": 41,
   "metadata": {},
   "outputs": [
    {
     "name": "stdout",
     "output_type": "stream",
     "text": [
      "is_close.shape = (90210,)\n",
      "close_frac = 0.999789\n"
     ]
    }
   ],
   "source": [
    "# Review shape\n",
    "close_frac = np.mean(is_close)\n",
    "print(f'is_close.shape = {is_close.shape}')\n",
    "print(f'close_frac = {close_frac:8.6f}')"
   ]
  },
  {
   "cell_type": "code",
   "execution_count": 42,
   "metadata": {},
   "outputs": [],
   "source": [
    "# Relative distance v on data inside threshold\n",
    "# s2[is_close] / thresh_s2\n",
    "v = tf.divide(s2[is_close], thresh_s2, name='v')"
   ]
  },
  {
   "cell_type": "code",
   "execution_count": 43,
   "metadata": {},
   "outputs": [
    {
     "name": "stdout",
     "output_type": "stream",
     "text": [
      "v.shape = (90191,)\n",
      "mean_v     =  0.437990\n",
      "mean_log_v = -2.683602\n"
     ]
    }
   ],
   "source": [
    "# Review shape, summary of v\n",
    "mean_v = np.mean(v)\n",
    "mean_log_v = np.mean(np.log(v))\n",
    "print(f'v.shape = {v.shape}')\n",
    "print(f'mean_v     = {mean_v:9.6f}')\n",
    "print(f'mean_log_v = {mean_log_v:9.6f}')"
   ]
  },
  {
   "cell_type": "code",
   "execution_count": 44,
   "metadata": {},
   "outputs": [],
   "source": [
    "# Row_lengths, for close observations only\n",
    "is_close_r = tf.RaggedTensor.from_row_lengths(is_close, row_lengths=row_lengths)\n",
    "row_lengths_close = tf.reduce_sum(tf.cast(is_close_r, tf.int32), axis=1)\n",
    "\n",
    "# Shape of parameters\n",
    "close_size = tf.reduce_sum(row_lengths_close)\n",
    "param_shape = (close_size,)"
   ]
  },
  {
   "cell_type": "code",
   "execution_count": 45,
   "metadata": {},
   "outputs": [
    {
     "data": {
      "text/plain": [
       "<tf.Tensor: shape=(64,), dtype=int32, numpy=\n",
       "array([1424,  936, 1117, 1087, 1035, 1028,  780, 2744,  925, 2485, 1023,\n",
       "       1013, 1063,  858, 1943,  949,  636, 1199, 1547, 1477,  991,  790,\n",
       "       3204, 2719, 1612,  771, 1047, 1253,  845, 3081,  866, 1472, 2677,\n",
       "        802, 1652,  708, 1041,  855, 2362, 1012, 1048, 1677,  916,  812,\n",
       "       1100, 1180, 2708,  688, 1929, 2871, 1099,  743,  943, 2018, 2716,\n",
       "        595,  864,  941, 2628, 3126,  943, 1726,  762, 1129], dtype=int32)>"
      ]
     },
     "execution_count": 45,
     "metadata": {},
     "output_type": "execute_result"
    }
   ],
   "source": [
    "# Review row_lengths\n",
    "row_lengths_close"
   ]
  },
  {
   "cell_type": "code",
   "execution_count": 46,
   "metadata": {},
   "outputs": [],
   "source": [
    "# Upsample h and lambda\n",
    "h_vec = tf.reshape(tensor=tf.repeat(h, row_lengths_close), shape=param_shape, name='h_vec')\n",
    "lam_vec = tf.reshape(tensor=tf.repeat(h, row_lengths_close), shape=param_shape, name='lam_vec')"
   ]
  },
  {
   "cell_type": "code",
   "execution_count": 47,
   "metadata": {},
   "outputs": [],
   "source": [
    "# Probability according to mixture model\n",
    "p = h_vec * tf.exp(-lam_vec * v) + (1.0 - h_vec)\n",
    "log_p = keras.layers.Activation(tf.math.log, name='log_p')(p)"
   ]
  },
  {
   "cell_type": "code",
   "execution_count": 48,
   "metadata": {},
   "outputs": [],
   "source": [
    "# Rearrange to ragged tensors\n",
    "log_p_r = tf.RaggedTensor.from_row_lengths(log_p, row_lengths=row_lengths_close)"
   ]
  },
  {
   "cell_type": "code",
   "execution_count": 49,
   "metadata": {},
   "outputs": [],
   "source": [
    "# Log likelihood by element\n",
    "log_like = tf.reduce_sum(log_p_r, axis=1)"
   ]
  },
  {
   "cell_type": "code",
   "execution_count": 50,
   "metadata": {},
   "outputs": [
    {
     "name": "stdout",
     "output_type": "stream",
     "text": [
      "log_p.shape = (90191,)\n",
      "log_like.shape = (64,)\n",
      "mean_log_p = -141.581131\n",
      "std_log_p  = 83.229523\n"
     ]
    }
   ],
   "source": [
    "# Summary statistics\n",
    "mean_log_p = np.mean(log_like)\n",
    "std_log_p = np.std(log_like)\n",
    "\n",
    "# Review shape and summary\n",
    "print(f'log_p.shape = {log_p.shape}')\n",
    "print(f'log_like.shape = {log_like.shape}')\n",
    "print(f'mean_log_p = {mean_log_p:9.6f}')\n",
    "print(f'std_log_p  = {std_log_p:9.6f}')"
   ]
  },
  {
   "cell_type": "code",
   "execution_count": null,
   "metadata": {},
   "outputs": [],
   "source": []
  }
 ],
 "metadata": {
  "kernelspec": {
   "display_name": "Python [conda env:kepler]",
   "language": "python",
   "name": "conda-env-kepler-py"
  },
  "language_info": {
   "codemirror_mode": {
    "name": "ipython",
    "version": 3
   },
   "file_extension": ".py",
   "mimetype": "text/x-python",
   "name": "python",
   "nbconvert_exporter": "python",
   "pygments_lexer": "ipython3",
   "version": "3.7.6"
  }
 },
 "nbformat": 4,
 "nbformat_minor": 4
}
