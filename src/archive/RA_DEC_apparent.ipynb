{
 "cells": [
  {
   "cell_type": "markdown",
   "metadata": {},
   "source": [
    "### Apparent Position of Mars in Skyfield"
   ]
  },
  {
   "cell_type": "code",
   "execution_count": null,
   "metadata": {},
   "outputs": [],
   "source": [
    "# Apparent observe mars from earth with Skyfield\n",
    "obs_mars_app_sf = earth_sf.at(obstime_mars_sf).observe(mars_sf).apparent()\n",
    "\n",
    "# Build Skyfield angle arrays (RA, DEC) and distance array (delta)\n",
    "ra_mars_app_sf_aa, dec_mars_app_sf_aa, delta_mars_app_sf_da = obs_mars_app_sf.radec(epoch='date')\n",
    "\n",
    "# Extract degrees and AU to get arrays of astropy angles and distances\n",
    "ra_mars_app_sf = ra_mars_app_sf_aa._degrees * deg\n",
    "dec_mars_app_sf = dec_mars_app_sf_aa._degrees * deg\n",
    "delta_mars_app_sf = delta_mars_app_sf_da.au * au\n",
    "\n",
    "# Apparent observation of Mars from JPL\n",
    "ra_mars_app_jpl = df_obs_mars.RA_apparent.values * deg\n",
    "dec_mars_app_jpl = df_obs_mars.DEC_apparent.values * deg"
   ]
  },
  {
   "cell_type": "code",
   "execution_count": null,
   "metadata": {},
   "outputs": [],
   "source": [
    "diff_app_sf = radec_diff('Skyfield astrometric', 'Skyfield apparent', \n",
    "                         ra1=ra_mars_sf, dec1=dec_mars_sf, \n",
    "                         ra2=ra_mars_app_sf, dec2=dec_mars_app_sf, \n",
    "                         obstime_mjd=obstime_mars_mjd, verbose=True)"
   ]
  },
  {
   "cell_type": "markdown",
   "metadata": {},
   "source": [
    "**Conclusion:**<br>\n",
    "Skyfield apparent() is different from astrometric by very similar amounts to JPL.<br>\n",
    "This is encouraging."
   ]
  },
  {
   "cell_type": "code",
   "execution_count": null,
   "metadata": {},
   "outputs": [],
   "source": [
    "# Compute difference in angles\n",
    "diff_app_sf = radec_diff('JPL apparent', 'Skyfield apparent', \n",
    "                         ra1=ra_mars_app_jpl, dec1=dec_mars_app_jpl, \n",
    "                         ra2=ra_mars_app_sf, dec2=dec_mars_app_sf, \n",
    "                         obstime_mjd=obstime_mars_mjd, verbose=True)"
   ]
  },
  {
   "cell_type": "code",
   "execution_count": null,
   "metadata": {},
   "outputs": [],
   "source": [
    "def radec_app2dir(ra: float, dec: float, obstime_mjd: float) -> np.array:\n",
    "    \"\"\"\n",
    "    Convert an apparent RA and DEC as of observation time to a unit displacement \n",
    "    vector u = (ux, uy, uz) in ecliptic plane.\n",
    "    INPUTS:\n",
    "        ra: An apparent Right Ascension in the ICRF; passed with units (default degrees)\n",
    "        dec: An apparent Declination in the ICRF;  passed with units (default degrees)\n",
    "        obtime_mjd: The observation time as a modified julian day\n",
    "    RETURNS:\n",
    "        u: An array [ux, uy, uz] on the unit sphere in the the ecliptic frame\n",
    "    EXAMPLE:\n",
    "        u = radec_app2dir(ra=76.391533*deg, dec=23.90881*deg, mjd=58600.0)\n",
    "        (this is Mars viewed from Earth at mjd 58600 / 2019-04-27 with JPL RA and DEC)\n",
    "    \"\"\"\n",
    "    # Build the observation as a SkyCoord in the ICRS (oriented with earth, origin at barycenter)\n",
    "    obstime = astropy.time.Time(obstime_mjd, format='mjd')\n",
    "    # obs_gcrs = SkyCoord(ra=ra, dec=dec, obstime=obstime, frame=astropy.coordinates.GCRS)\n",
    "    # obs_gcrs = SkyCoord(lat=ra, lon=dec, obstime=obstime, frame=astropy.coordinates.GeocentricMeanEcliptic)\n",
    "    # Convert to the barycentric ecliptic frame (oriented with ecliptic, origin at barycenter)\n",
    "    obs_ecl = obs_gcrs.transform_to(BarycentricMeanEcliptic)\n",
    "    u = obs_ecl.cartesian.xyz\n",
    "    return u.value"
   ]
  },
  {
   "cell_type": "code",
   "execution_count": null,
   "metadata": {},
   "outputs": [],
   "source": [
    "df_obs_mars[df_obs_mars.mjd==58600]"
   ]
  },
  {
   "cell_type": "code",
   "execution_count": null,
   "metadata": {},
   "outputs": [],
   "source": [
    "# Build the observation as a SkyCoord\n",
    "obstime = astropy.time.Time(58600.0, format='mjd')\n",
    "# equinox = astropy.time.Time(2451545.0, format='jd')\n",
    "equinox = obstime\n",
    "\n",
    "# earth and body in earth's frame\n",
    "frame_earth = astropy.coordinates.PrecessedGeocentric\n",
    "# earth_geo = SkyCoord(ra=0*deg, dec=0*deg, distance=0*au, obstime=obstime, equinox=equinox, frame=frame_earth)\n",
    "# body_geo = SkyCoord(ra=76.391533*deg, dec=23.90881*deg, distance=1*au, obstime=obstime, equinox=equinox, frame=frame_earth)\n",
    "# earth_geo = SkyCoord(lat=0*deg, lon=0*deg, distance=0*au, obstime=obstime, equinox=equinox, frame=frame_earth)\n",
    "# body_geo = SkyCoord(lat=76.391533*deg, lon=23.90881*deg, distance=1*au, obstime=equinox, equinox=obstime, frame=frame_earth)\n",
    "\n",
    "earth_geo = SkyCoord(ra=0*deg, dec=0*deg, distance=0*au, obstime=obstime, equinox=equinox, frame=frame_earth)\n",
    "body_geo = SkyCoord(ra=76.391533*deg, dec=23.90881*deg, distance=1*au, obstime=obstime, equinox=equinox, frame=frame_earth)\n",
    "\n",
    "# earth and body in BME\n",
    "earth_bme = earth_geo.transform_to(BarycentricMeanEcliptic)\n",
    "body_bme = body_geo.transform_to(BarycentricMeanEcliptic)\n",
    "\n",
    "# displacement\n",
    "q_rel = body_bme.cartesian.xyz - earth_bme.cartesian.xyz\n",
    "u = q_rel.value / np.linalg.norm(q_rel)\n",
    "u"
   ]
  },
  {
   "cell_type": "code",
   "execution_count": null,
   "metadata": {},
   "outputs": [],
   "source": [
    "u_mars"
   ]
  },
  {
   "cell_type": "code",
   "execution_count": null,
   "metadata": {},
   "outputs": [],
   "source": [
    "err = u - u_mars\n",
    "np.rad2deg(np.linalg.norm(err))*3600"
   ]
  },
  {
   "cell_type": "code",
   "execution_count": null,
   "metadata": {},
   "outputs": [],
   "source": [
    "u_mars = np.array([0.21954, 0.97543, 0.018417])\n",
    "u1 = radec2dir(ra=76.107414*deg, dec=23.884883*deg, obstime_mjd=58600.0)\n",
    "err1 = np.rad2deg(np.linalg.norm(u1 - u_mars))*3600\n",
    "\n",
    "u2 = radec_app2dir(ra=76.391533*deg, dec=23.90881*deg, obstime_mjd=58600.0)\n",
    "err2 = np.rad2deg(np.linalg.norm(u2 - u_mars))*3600\n",
    "\n",
    "print(f'Direction of Mars error')\n",
    "print(f'astrometric RA/DEC: {err1:8.3f} arc seconds')\n",
    "print(f'apparent    RA/DEC: {err2:8.3f} arc seconds')"
   ]
  }
 ],
 "metadata": {
  "kernelspec": {
   "display_name": "Python 3",
   "language": "python",
   "name": "python3"
  },
  "language_info": {
   "codemirror_mode": {
    "name": "ipython",
    "version": 3
   },
   "file_extension": ".py",
   "mimetype": "text/x-python",
   "name": "python",
   "nbconvert_exporter": "python",
   "pygments_lexer": "ipython3",
   "version": "3.7.4"
  }
 },
 "nbformat": 4,
 "nbformat_minor": 4
}
