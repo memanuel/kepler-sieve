{
 "cells": [
  {
   "cell_type": "code",
   "execution_count": null,
   "metadata": {},
   "outputs": [],
   "source": [
    "# Core\n",
    "import numpy as np\n",
    "import pandas as pd\n",
    "\n",
    "# Tensorflow / ML\n",
    "import tensorflow as tf\n",
    "from tensorflow.python.keras import backend as K\n",
    "\n",
    "# Utility\n",
    "import logging\n",
    "# import time\n",
    "\n",
    "# Local imports\n",
    "from ztf_data import make_ztf_easy_batch\n",
    "# from ztf_data import load_ztf_det_all, load_ztf_nearest_ast, ztf_nearest_ast, calc_hit_freq\n",
    "from asteroid_data import make_ztf_dataset, orbital_element_batch\n",
    "from asteroid_integrate import load_data as load_data_asteroids, calc_ast_pos\n",
    "from asteroid_model import AsteroidDirection, make_model_ast_pos\n",
    "from search_score_functions import score_mean, score_var, score_mean_2d, score_var_2d\n",
    "from astro_utils import deg2dist\n",
    "from utils import print_header\n",
    "from tf_utils import Identity\n",
    "\n",
    "# Typing\n",
    "from typing import Dict\n",
    "\n",
    "# Import from asteroid_search\n",
    "from asteroid_search import perturb_elts, make_model_asteroid_search, report_model"
   ]
  },
  {
   "cell_type": "code",
   "execution_count": 2,
   "metadata": {},
   "outputs": [],
   "source": [
    "# Aliases\n",
    "keras = tf.keras\n",
    "\n",
    "# ********************************************************************************************************************* \n",
    "# Turn off all logging; only solution found to eliminate crushing volume of unresolvable autograph warnings\n",
    "logging.getLogger('tensorflow').disabled = True\n",
    "\n",
    "# Constants\n",
    "space_dims = 3\n",
    "\n",
    "# Load asteroid names and orbital elements\n",
    "ast_elt = load_data_asteroids()\n",
    "\n",
    "# Range for a\n",
    "a_min_: float = 0.5\n",
    "a_max_: float = 32.0\n",
    "\n",
    "# Range for e\n",
    "e_min_: float = 0.0\n",
    "e_max_: float = 1.0 - 2.0**-10\n",
    "\n",
    "# Range for resolution parameter R\n",
    "R_min_ = deg2dist(1.0/3600)\n",
    "R_max_ = deg2dist(10.0)\n",
    "log_R_min_ = np.log(R_min_)\n",
    "log_R_max_ = np.log(R_max_)"
   ]
  },
  {
   "cell_type": "markdown",
   "metadata": {},
   "source": [
    "## Generate DataSet Matching an Easy Batch"
   ]
  },
  {
   "cell_type": "code",
   "execution_count": 3,
   "metadata": {},
   "outputs": [],
   "source": [
    "# Batch size for time\n",
    "time_batch_size = 128\n",
    "\n",
    "# Batch size for candidate orbital elements\n",
    "elt_batch_size = 64"
   ]
  },
  {
   "cell_type": "code",
   "execution_count": 4,
   "metadata": {},
   "outputs": [],
   "source": [
    "# Load all ZTF data with nearest asteroid calculations\n",
    "ztf = make_ztf_easy_batch(batch_size=elt_batch_size)"
   ]
  },
  {
   "cell_type": "code",
   "execution_count": 5,
   "metadata": {},
   "outputs": [
    {
     "data": {
      "text/html": [
       "<div>\n",
       "<style scoped>\n",
       "    .dataframe tbody tr th:only-of-type {\n",
       "        vertical-align: middle;\n",
       "    }\n",
       "\n",
       "    .dataframe tbody tr th {\n",
       "        vertical-align: top;\n",
       "    }\n",
       "\n",
       "    .dataframe thead th {\n",
       "        text-align: right;\n",
       "    }\n",
       "</style>\n",
       "<table border=\"1\" class=\"dataframe\">\n",
       "  <thead>\n",
       "    <tr style=\"text-align: right;\">\n",
       "      <th></th>\n",
       "      <th>ObjectID</th>\n",
       "      <th>CandidateID</th>\n",
       "      <th>TimeStampID</th>\n",
       "      <th>mjd</th>\n",
       "      <th>ra</th>\n",
       "      <th>dec</th>\n",
       "      <th>ux</th>\n",
       "      <th>uy</th>\n",
       "      <th>uz</th>\n",
       "      <th>mag_app</th>\n",
       "      <th>asteroid_prob</th>\n",
       "      <th>nearest_ast_num</th>\n",
       "      <th>nearest_ast_dist</th>\n",
       "      <th>ast_ra</th>\n",
       "      <th>ast_dec</th>\n",
       "      <th>ast_ux</th>\n",
       "      <th>ast_uy</th>\n",
       "      <th>ast_uz</th>\n",
       "    </tr>\n",
       "  </thead>\n",
       "  <tbody>\n",
       "    <tr>\n",
       "      <th>1656</th>\n",
       "      <td>b'ZTF19aaxbtge'</td>\n",
       "      <td>883432713515015010</td>\n",
       "      <td>32606</td>\n",
       "      <td>58637.432720</td>\n",
       "      <td>349.617804</td>\n",
       "      <td>26.695540</td>\n",
       "      <td>0.878779</td>\n",
       "      <td>0.030983</td>\n",
       "      <td>0.476222</td>\n",
       "      <td>20.118000</td>\n",
       "      <td>0.528649</td>\n",
       "      <td>313521</td>\n",
       "      <td>0.006915</td>\n",
       "      <td>349.874445</td>\n",
       "      <td>26.372674</td>\n",
       "      <td>0.881970</td>\n",
       "      <td>0.032184</td>\n",
       "      <td>0.470206</td>\n",
       "    </tr>\n",
       "    <tr>\n",
       "      <th>3345</th>\n",
       "      <td>b'ZTF18abtyroq'</td>\n",
       "      <td>893472970715010014</td>\n",
       "      <td>34299</td>\n",
       "      <td>58647.472975</td>\n",
       "      <td>354.025163</td>\n",
       "      <td>30.103966</td>\n",
       "      <td>0.860417</td>\n",
       "      <td>0.116893</td>\n",
       "      <td>0.496002</td>\n",
       "      <td>18.765600</td>\n",
       "      <td>0.932566</td>\n",
       "      <td>313521</td>\n",
       "      <td>0.003449</td>\n",
       "      <td>353.882857</td>\n",
       "      <td>29.949447</td>\n",
       "      <td>0.861533</td>\n",
       "      <td>0.113872</td>\n",
       "      <td>0.494767</td>\n",
       "    </tr>\n",
       "    <tr>\n",
       "      <th>6049</th>\n",
       "      <td>b'ZTF18abosfjn'</td>\n",
       "      <td>896427220115015004</td>\n",
       "      <td>34661</td>\n",
       "      <td>58650.427222</td>\n",
       "      <td>355.296384</td>\n",
       "      <td>30.983843</td>\n",
       "      <td>0.854425</td>\n",
       "      <td>0.140274</td>\n",
       "      <td>0.500280</td>\n",
       "      <td>16.204500</td>\n",
       "      <td>0.916464</td>\n",
       "      <td>313521</td>\n",
       "      <td>0.003766</td>\n",
       "      <td>355.045433</td>\n",
       "      <td>31.000861</td>\n",
       "      <td>0.853957</td>\n",
       "      <td>0.136955</td>\n",
       "      <td>0.501997</td>\n",
       "    </tr>\n",
       "    <tr>\n",
       "      <th>6105</th>\n",
       "      <td>b'ZTF18abosfjn'</td>\n",
       "      <td>896427220115015003</td>\n",
       "      <td>34661</td>\n",
       "      <td>58650.427222</td>\n",
       "      <td>355.296371</td>\n",
       "      <td>30.983844</td>\n",
       "      <td>0.854425</td>\n",
       "      <td>0.140274</td>\n",
       "      <td>0.500281</td>\n",
       "      <td>16.128201</td>\n",
       "      <td>0.916464</td>\n",
       "      <td>313521</td>\n",
       "      <td>0.003766</td>\n",
       "      <td>355.045433</td>\n",
       "      <td>31.000861</td>\n",
       "      <td>0.853957</td>\n",
       "      <td>0.136955</td>\n",
       "      <td>0.501997</td>\n",
       "    </tr>\n",
       "    <tr>\n",
       "      <th>6127</th>\n",
       "      <td>b'ZTF18abosfjn'</td>\n",
       "      <td>896427220115015005</td>\n",
       "      <td>34661</td>\n",
       "      <td>58650.427222</td>\n",
       "      <td>355.296415</td>\n",
       "      <td>30.983890</td>\n",
       "      <td>0.854425</td>\n",
       "      <td>0.140275</td>\n",
       "      <td>0.500281</td>\n",
       "      <td>15.890600</td>\n",
       "      <td>0.916464</td>\n",
       "      <td>313521</td>\n",
       "      <td>0.003767</td>\n",
       "      <td>355.045433</td>\n",
       "      <td>31.000861</td>\n",
       "      <td>0.853957</td>\n",
       "      <td>0.136955</td>\n",
       "      <td>0.501997</td>\n",
       "    </tr>\n",
       "    <tr>\n",
       "      <th>...</th>\n",
       "      <td>...</td>\n",
       "      <td>...</td>\n",
       "      <td>...</td>\n",
       "      <td>...</td>\n",
       "      <td>...</td>\n",
       "      <td>...</td>\n",
       "      <td>...</td>\n",
       "      <td>...</td>\n",
       "      <td>...</td>\n",
       "      <td>...</td>\n",
       "      <td>...</td>\n",
       "      <td>...</td>\n",
       "      <td>...</td>\n",
       "      <td>...</td>\n",
       "      <td>...</td>\n",
       "      <td>...</td>\n",
       "      <td>...</td>\n",
       "      <td>...</td>\n",
       "    </tr>\n",
       "    <tr>\n",
       "      <th>5412924</th>\n",
       "      <td>b'ZTF20aaqvlmy'</td>\n",
       "      <td>1150185755115015010</td>\n",
       "      <td>96635</td>\n",
       "      <td>58904.185752</td>\n",
       "      <td>41.868105</td>\n",
       "      <td>28.422819</td>\n",
       "      <td>0.654918</td>\n",
       "      <td>0.727863</td>\n",
       "      <td>0.203216</td>\n",
       "      <td>18.203100</td>\n",
       "      <td>1.000000</td>\n",
       "      <td>59123</td>\n",
       "      <td>0.000009</td>\n",
       "      <td>41.867533</td>\n",
       "      <td>28.422845</td>\n",
       "      <td>0.654924</td>\n",
       "      <td>0.727857</td>\n",
       "      <td>0.203219</td>\n",
       "    </tr>\n",
       "    <tr>\n",
       "      <th>5441789</th>\n",
       "      <td>b'ZTF20aarbpnr'</td>\n",
       "      <td>1151112683815015002</td>\n",
       "      <td>96901</td>\n",
       "      <td>58905.112685</td>\n",
       "      <td>32.327962</td>\n",
       "      <td>34.020453</td>\n",
       "      <td>0.700369</td>\n",
       "      <td>0.629210</td>\n",
       "      <td>0.337013</td>\n",
       "      <td>18.458200</td>\n",
       "      <td>1.000000</td>\n",
       "      <td>73961</td>\n",
       "      <td>0.000007</td>\n",
       "      <td>32.327504</td>\n",
       "      <td>34.020497</td>\n",
       "      <td>0.700372</td>\n",
       "      <td>0.629205</td>\n",
       "      <td>0.337016</td>\n",
       "    </tr>\n",
       "    <tr>\n",
       "      <th>5441935</th>\n",
       "      <td>b'ZTF20aarbqkw'</td>\n",
       "      <td>1151121034915015003</td>\n",
       "      <td>96919</td>\n",
       "      <td>58905.121030</td>\n",
       "      <td>25.806967</td>\n",
       "      <td>29.268916</td>\n",
       "      <td>0.785333</td>\n",
       "      <td>0.542902</td>\n",
       "      <td>0.297505</td>\n",
       "      <td>18.497400</td>\n",
       "      <td>1.000000</td>\n",
       "      <td>48453</td>\n",
       "      <td>0.000006</td>\n",
       "      <td>25.806544</td>\n",
       "      <td>29.268905</td>\n",
       "      <td>0.785336</td>\n",
       "      <td>0.542897</td>\n",
       "      <td>0.297507</td>\n",
       "    </tr>\n",
       "    <tr>\n",
       "      <th>5442136</th>\n",
       "      <td>b'ZTF20aarbqpo'</td>\n",
       "      <td>1151121032115015000</td>\n",
       "      <td>96919</td>\n",
       "      <td>58905.121030</td>\n",
       "      <td>24.489749</td>\n",
       "      <td>25.919630</td>\n",
       "      <td>0.818493</td>\n",
       "      <td>0.515939</td>\n",
       "      <td>0.252736</td>\n",
       "      <td>18.606501</td>\n",
       "      <td>1.000000</td>\n",
       "      <td>31539</td>\n",
       "      <td>0.000003</td>\n",
       "      <td>24.489554</td>\n",
       "      <td>25.919688</td>\n",
       "      <td>0.818494</td>\n",
       "      <td>0.515937</td>\n",
       "      <td>0.252739</td>\n",
       "    </tr>\n",
       "    <tr>\n",
       "      <th>5443277</th>\n",
       "      <td>b'ZTF20aarbtaw'</td>\n",
       "      <td>1151132702115015000</td>\n",
       "      <td>96938</td>\n",
       "      <td>58905.132708</td>\n",
       "      <td>24.492986</td>\n",
       "      <td>25.920319</td>\n",
       "      <td>0.818467</td>\n",
       "      <td>0.515984</td>\n",
       "      <td>0.252729</td>\n",
       "      <td>19.116301</td>\n",
       "      <td>1.000000</td>\n",
       "      <td>31539</td>\n",
       "      <td>0.000005</td>\n",
       "      <td>24.492703</td>\n",
       "      <td>25.920385</td>\n",
       "      <td>0.818469</td>\n",
       "      <td>0.515980</td>\n",
       "      <td>0.252732</td>\n",
       "    </tr>\n",
       "  </tbody>\n",
       "</table>\n",
       "<p>27783 rows × 18 columns</p>\n",
       "</div>"
      ],
      "text/plain": [
       "                ObjectID          CandidateID  TimeStampID           mjd  \\\n",
       "1656     b'ZTF19aaxbtge'   883432713515015010        32606  58637.432720   \n",
       "3345     b'ZTF18abtyroq'   893472970715010014        34299  58647.472975   \n",
       "6049     b'ZTF18abosfjn'   896427220115015004        34661  58650.427222   \n",
       "6105     b'ZTF18abosfjn'   896427220115015003        34661  58650.427222   \n",
       "6127     b'ZTF18abosfjn'   896427220115015005        34661  58650.427222   \n",
       "...                  ...                  ...          ...           ...   \n",
       "5412924  b'ZTF20aaqvlmy'  1150185755115015010        96635  58904.185752   \n",
       "5441789  b'ZTF20aarbpnr'  1151112683815015002        96901  58905.112685   \n",
       "5441935  b'ZTF20aarbqkw'  1151121034915015003        96919  58905.121030   \n",
       "5442136  b'ZTF20aarbqpo'  1151121032115015000        96919  58905.121030   \n",
       "5443277  b'ZTF20aarbtaw'  1151132702115015000        96938  58905.132708   \n",
       "\n",
       "                 ra        dec        ux        uy        uz    mag_app  \\\n",
       "1656     349.617804  26.695540  0.878779  0.030983  0.476222  20.118000   \n",
       "3345     354.025163  30.103966  0.860417  0.116893  0.496002  18.765600   \n",
       "6049     355.296384  30.983843  0.854425  0.140274  0.500280  16.204500   \n",
       "6105     355.296371  30.983844  0.854425  0.140274  0.500281  16.128201   \n",
       "6127     355.296415  30.983890  0.854425  0.140275  0.500281  15.890600   \n",
       "...             ...        ...       ...       ...       ...        ...   \n",
       "5412924   41.868105  28.422819  0.654918  0.727863  0.203216  18.203100   \n",
       "5441789   32.327962  34.020453  0.700369  0.629210  0.337013  18.458200   \n",
       "5441935   25.806967  29.268916  0.785333  0.542902  0.297505  18.497400   \n",
       "5442136   24.489749  25.919630  0.818493  0.515939  0.252736  18.606501   \n",
       "5443277   24.492986  25.920319  0.818467  0.515984  0.252729  19.116301   \n",
       "\n",
       "         asteroid_prob  nearest_ast_num  nearest_ast_dist      ast_ra  \\\n",
       "1656          0.528649           313521          0.006915  349.874445   \n",
       "3345          0.932566           313521          0.003449  353.882857   \n",
       "6049          0.916464           313521          0.003766  355.045433   \n",
       "6105          0.916464           313521          0.003766  355.045433   \n",
       "6127          0.916464           313521          0.003767  355.045433   \n",
       "...                ...              ...               ...         ...   \n",
       "5412924       1.000000            59123          0.000009   41.867533   \n",
       "5441789       1.000000            73961          0.000007   32.327504   \n",
       "5441935       1.000000            48453          0.000006   25.806544   \n",
       "5442136       1.000000            31539          0.000003   24.489554   \n",
       "5443277       1.000000            31539          0.000005   24.492703   \n",
       "\n",
       "           ast_dec    ast_ux    ast_uy    ast_uz  \n",
       "1656     26.372674  0.881970  0.032184  0.470206  \n",
       "3345     29.949447  0.861533  0.113872  0.494767  \n",
       "6049     31.000861  0.853957  0.136955  0.501997  \n",
       "6105     31.000861  0.853957  0.136955  0.501997  \n",
       "6127     31.000861  0.853957  0.136955  0.501997  \n",
       "...            ...       ...       ...       ...  \n",
       "5412924  28.422845  0.654924  0.727857  0.203219  \n",
       "5441789  34.020497  0.700372  0.629205  0.337016  \n",
       "5441935  29.268905  0.785336  0.542897  0.297507  \n",
       "5442136  25.919688  0.818494  0.515937  0.252739  \n",
       "5443277  25.920385  0.818469  0.515980  0.252732  \n",
       "\n",
       "[27783 rows x 18 columns]"
      ]
     },
     "execution_count": 5,
     "metadata": {},
     "output_type": "execute_result"
    }
   ],
   "source": [
    "ztf"
   ]
  },
  {
   "cell_type": "code",
   "execution_count": 6,
   "metadata": {},
   "outputs": [],
   "source": [
    "# Build a TensorFlow DataSet from ZTF DataFrame\n",
    "ds, ts, row_len = make_ztf_dataset(ztf=ztf, batch_size=time_batch_size)"
   ]
  },
  {
   "cell_type": "code",
   "execution_count": 7,
   "metadata": {},
   "outputs": [],
   "source": [
    "# ds"
   ]
  },
  {
   "cell_type": "code",
   "execution_count": 8,
   "metadata": {},
   "outputs": [],
   "source": [
    "# ts"
   ]
  },
  {
   "cell_type": "code",
   "execution_count": 9,
   "metadata": {},
   "outputs": [],
   "source": [
    "# row_len"
   ]
  },
  {
   "cell_type": "code",
   "execution_count": 10,
   "metadata": {},
   "outputs": [
    {
     "name": "stdout",
     "output_type": "stream",
     "text": [
      "mean(row_len) =  12.8\n"
     ]
    }
   ],
   "source": [
    "print(f'mean(row_len) = {np.mean(row_len):5.1f}')"
   ]
  },
  {
   "cell_type": "markdown",
   "metadata": {},
   "source": [
    "## Follow main() in asteroid_search.py"
   ]
  },
  {
   "cell_type": "code",
   "execution_count": 11,
   "metadata": {},
   "outputs": [],
   "source": [
    "# Trajectory size and steps per batch\n",
    "traj_size = ts.shape[0]\n",
    "steps = int(np.ceil(traj_size / time_batch_size))"
   ]
  },
  {
   "cell_type": "code",
   "execution_count": 12,
   "metadata": {},
   "outputs": [
    {
     "name": "stdout",
     "output_type": "stream",
     "text": [
      "traj_size = 2176\n",
      "steps per epoch = 17.\n"
     ]
    }
   ],
   "source": [
    "print(f'traj_size = {traj_size}')\n",
    "print(f'steps per epoch = {steps}.')"
   ]
  },
  {
   "cell_type": "code",
   "execution_count": 13,
   "metadata": {},
   "outputs": [],
   "source": [
    "# Get example batch\n",
    "batch_in, batch_out = list(ds.take(1))[0]\n",
    "# Contents of this batch\n",
    "t = batch_in['t']\n",
    "idx = batch_in['idx']\n",
    "row_len = batch_in['row_len']\n",
    "u_obs = batch_in['u_obs']"
   ]
  },
  {
   "cell_type": "code",
   "execution_count": 14,
   "metadata": {},
   "outputs": [],
   "source": [
    "# t"
   ]
  },
  {
   "cell_type": "code",
   "execution_count": 15,
   "metadata": {},
   "outputs": [],
   "source": [
    "# idx"
   ]
  },
  {
   "cell_type": "code",
   "execution_count": 16,
   "metadata": {},
   "outputs": [],
   "source": [
    "# u_obs"
   ]
  },
  {
   "cell_type": "code",
   "execution_count": 17,
   "metadata": {},
   "outputs": [
    {
     "data": {
      "text/plain": [
       "TensorShape([128, 233, 3])"
      ]
     },
     "execution_count": 17,
     "metadata": {},
     "output_type": "execute_result"
    }
   ],
   "source": [
    "u_obs.shape"
   ]
  },
  {
   "cell_type": "code",
   "execution_count": 18,
   "metadata": {},
   "outputs": [],
   "source": [
    "# Get max_obs and number of observations in this batch\n",
    "max_obs: int = u_obs.shape[1]\n",
    "num_obs: float = np.sum(row_len, dtype=np.float32)"
   ]
  },
  {
   "cell_type": "code",
   "execution_count": 19,
   "metadata": {},
   "outputs": [
    {
     "name": "stdout",
     "output_type": "stream",
     "text": [
      "max_obs = 233\n",
      "num_obs = 1098.0\n"
     ]
    }
   ],
   "source": [
    "print(f'max_obs = {max_obs}')\n",
    "print(f'num_obs = {num_obs}')"
   ]
  },
  {
   "cell_type": "code",
   "execution_count": 20,
   "metadata": {},
   "outputs": [],
   "source": [
    "# Batch of perturbed orbital elements for asteroid model\n",
    "R_deg: float = 2.0\n",
    "ast_nums = np.unique(ztf.nearest_ast_num)\n",
    "elts_np = orbital_element_batch(ast_nums)\n",
    "epoch = elts_np['epoch'][0]"
   ]
  },
  {
   "cell_type": "code",
   "execution_count": 21,
   "metadata": {},
   "outputs": [],
   "source": [
    "# The correct orbital elements as an array\n",
    "elts_true = np.array([elts_np['a'], elts_np['e'], elts_np['inc'], elts_np['Omega'], \n",
    "                      elts_np['omega'], elts_np['f'], elts_np['epoch']]).transpose()"
   ]
  },
  {
   "cell_type": "code",
   "execution_count": 22,
   "metadata": {},
   "outputs": [],
   "source": [
    "# Mask where data expected vs not\n",
    "mask_good = np.arange(64) < 32\n",
    "mask_bad = ~mask_good\n",
    "# Perturb second half of orbital elements\n",
    "elts_np2 = perturb_elts(elts_np, sigma_a=0.00, sigma_e=0.00, sigma_f_deg=0.0, mask=mask_bad)"
   ]
  },
  {
   "cell_type": "code",
   "execution_count": 23,
   "metadata": {},
   "outputs": [
    {
     "name": "stdout",
     "output_type": "stream",
     "text": [
      "Numerically integrating calibration trajectories q_cal...\n"
     ]
    }
   ],
   "source": [
    "# Orbits for calibration\n",
    "if 'q_cal' not in globals():\n",
    "    print(f'Numerically integrating calibration trajectories q_cal...')\n",
    "    q_cal = calc_ast_pos(elts=elts_np2, epoch=epoch, ts=ts)\n",
    "# q_cal = None"
   ]
  },
  {
   "cell_type": "code",
   "execution_count": 24,
   "metadata": {},
   "outputs": [],
   "source": [
    "# Set calibration flag\n",
    "use_calibration: bool = True\n",
    "\n",
    "# Alpha and beta parameters for the objective function\n",
    "alpha = 8.0\n",
    "beta = 20.0"
   ]
  },
  {
   "cell_type": "code",
   "execution_count": 25,
   "metadata": {},
   "outputs": [],
   "source": [
    "# Build functional model for asteroid score\n",
    "model = make_model_asteroid_search(\\\n",
    "    ts=ts, elts_np=elts_np2, max_obs=max_obs, num_obs=num_obs,\n",
    "    elt_batch_size=elt_batch_size, time_batch_size=time_batch_size,\n",
    "    R_deg=R_deg, alpha=alpha, beta=beta, q_cal=q_cal, use_calibration=use_calibration)"
   ]
  },
  {
   "cell_type": "code",
   "execution_count": 26,
   "metadata": {},
   "outputs": [],
   "source": [
    "# Use Adam optimizer with gradient clipping\n",
    "learning_rate = 2.0e-5\n",
    "clipvalue = 5.0\n",
    "opt = keras.optimizers.Adam(learning_rate=learning_rate, \n",
    "                            beta_1=0.900, \n",
    "                            beta_2=0.999,\n",
    "                            epsilon=1.0E-7, \n",
    "                            clipvalue=clipvalue, \n",
    "                            amsgrad=False)\n",
    "model.compile(optimizer=opt)"
   ]
  },
  {
   "cell_type": "code",
   "execution_count": 27,
   "metadata": {},
   "outputs": [
    {
     "name": "stdout",
     "output_type": "stream",
     "text": [
      "Processed easy batch with 64 asteroids. Perturbed second half.\n",
      "\n",
      "********************************************************************************\n",
      "Model Before Training:\n",
      "********************************************************************************\n",
      "\n",
      "Mean & Std Trajectory Error (AU) vs. True Elements by Category:\n",
      "Good:     0.00 +/-     0.00\n",
      "Bad:      0.00 +/-     0.00\n",
      "All:      0.00 +/-     0.00\n",
      "\n",
      "Error in orbital elements:\n",
      "(Angles shown in degrees)\n",
      "      a          e         inc       Omega      omega     f\n",
      "Good: 0.000000,  0.000000, 0.000002, 0.000000,  0.000002, 0.000002, \n",
      "Bad : 0.000000,  0.000000, 0.000003, 0.000000,  0.000000, 0.000001, \n",
      "\n",
      "Mean & Std Raw Score by Category:\n",
      "Good:   578.52 +/-   244.41\n",
      "Bad:    822.80 +/-   493.86\n",
      "All:    700.66 +/-   408.33\n",
      "\n",
      "Mean & Std Mu by Category:\n",
      "Good:    11.37 +/-     0.00\n",
      "Bad:     11.37 +/-     0.00\n",
      "All:     11.37 +/-     0.00\n",
      "\n",
      "Mean & Std Effective Observations by Category:\n",
      "Good:   567.14 +/-   244.41\n",
      "Bad:    811.42 +/-   493.86\n",
      "All:    689.28 +/-   408.33\n",
      "\n",
      "Mean & Std Sigma by Category:\n",
      "Good:     2.38 +/-     0.00\n",
      "Bad:      2.38 +/-     0.00\n",
      "All:      2.38 +/-     0.00\n",
      "\n",
      "Mean & Std t_score by Category:\n",
      "Good:   237.99 +/-   102.56\n",
      "Bad:    340.49 +/-   207.23\n",
      "All:    289.24 +/-   171.35\n",
      "\n",
      "Mean & Std Objective Function by Category:\n",
      "Good:   373.96 +/-   244.41\n",
      "Bad:    618.24 +/-   493.86\n",
      "All:    496.10 +/-   408.33\n",
      "\n",
      "Mean & Std Resolution R by Category:\n",
      "Good:     0.03 +/-     0.00\n",
      "Bad:      0.03 +/-     0.00\n",
      "All:      0.03 +/-     0.00\n"
     ]
    }
   ],
   "source": [
    "# Report losses before training\n",
    "print(f'Processed easy batch with {elt_batch_size} asteroids. Perturbed second half.')\n",
    "if display:\n",
    "    print_header('Model Before Training:')\n",
    "pred0 = model.predict_on_batch(ds)\n",
    "elts0, R0, u_pred0, z0, _ = pred0\n",
    "scores0, traj_err0, elt_err0 = \\\n",
    "    report_model(model=model, ds=ds, R_deg=R_deg, mask_good=mask_good, \n",
    "                 batch_size=elt_batch_size, steps=steps, elts_true=elts_true, display=display)"
   ]
  },
  {
   "cell_type": "code",
   "execution_count": null,
   "metadata": {},
   "outputs": [],
   "source": [
    "scores0"
   ]
  },
  {
   "cell_type": "code",
   "execution_count": 28,
   "metadata": {},
   "outputs": [],
   "source": [
    "from datetime import timedelta"
   ]
  },
  {
   "cell_type": "code",
   "execution_count": null,
   "metadata": {},
   "outputs": [],
   "source": []
  }
 ],
 "metadata": {
  "kernelspec": {
   "display_name": "Python [conda env:kepler]",
   "language": "python",
   "name": "conda-env-kepler-py"
  },
  "language_info": {
   "codemirror_mode": {
    "name": "ipython",
    "version": 3
   },
   "file_extension": ".py",
   "mimetype": "text/x-python",
   "name": "python",
   "nbconvert_exporter": "python",
   "pygments_lexer": "ipython3",
   "version": "3.7.6"
  }
 },
 "nbformat": 4,
 "nbformat_minor": 4
}
