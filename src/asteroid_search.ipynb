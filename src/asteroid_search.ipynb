{
 "cells": [
  {
   "cell_type": "code",
   "execution_count": 1,
   "metadata": {},
   "outputs": [
    {
     "name": "stdout",
     "output_type": "stream",
     "text": [
      "Found 4 GPUs.  Setting memory growth = True.\n"
     ]
    }
   ],
   "source": [
    "# Core\n",
    "import numpy as np\n",
    "import pandas as pd\n",
    "\n",
    "# Tensorflow / ML\n",
    "import tensorflow as tf\n",
    "from tensorflow.python.keras import backend as K\n",
    "\n",
    "# Plotting\n",
    "import matplotlib.pyplot as plt\n",
    "import matplotlib as mpl\n",
    "\n",
    "# Utility\n",
    "import time\n",
    "\n",
    "# Local\n",
    "from asteroid_element import load_ast_elt\n",
    "from candidate_element import orbital_element_batch, perturb_elts, random_elts\n",
    "from ztf_data import load_ztf_nearest_ast, calc_hit_freq, load_ztf_batch, make_ztf_batch\n",
    "from asteroid_model import AsteroidPosition, AsteroidDirection\n",
    "from asteroid_search_layers import CandidateElements, TrajectoryScore\n",
    "from asteroid_search_model import AsteroidSearchModel, make_adam_opt\n",
    "from astro_utils import deg2dist, dist2deg, dist2sec\n",
    "from tf_utils import Identity"
   ]
  },
  {
   "cell_type": "code",
   "execution_count": 2,
   "metadata": {},
   "outputs": [],
   "source": [
    "# Aliases\n",
    "keras = tf.keras\n",
    "\n",
    "# Constants\n",
    "dtype = tf.float32\n",
    "dtype_np = np.float32\n",
    "space_dims = 3"
   ]
  },
  {
   "cell_type": "code",
   "execution_count": 3,
   "metadata": {},
   "outputs": [],
   "source": [
    "# Set plot style variables\n",
    "mpl.rcParams['figure.figsize'] = [16.0, 10.0]\n",
    "mpl.rcParams['font.size'] = 16"
   ]
  },
  {
   "cell_type": "markdown",
   "metadata": {},
   "source": [
    "## Load ZTF Data and Batch of Orbital Elements"
   ]
  },
  {
   "cell_type": "code",
   "execution_count": 4,
   "metadata": {},
   "outputs": [],
   "source": [
    "# Load orbital elements for known asteroids\n",
    "ast_elt = load_ast_elt()\n",
    "\n",
    "# Number of asteroids\n",
    "N_ast = ast_elt.shape[0]"
   ]
  },
  {
   "cell_type": "code",
   "execution_count": 5,
   "metadata": {},
   "outputs": [],
   "source": [
    "# Load ztf nearest asteroid data\n",
    "ztf_ast = load_ztf_nearest_ast()"
   ]
  },
  {
   "cell_type": "code",
   "execution_count": 6,
   "metadata": {},
   "outputs": [],
   "source": [
    "# Asteroid numbers and hit counts\n",
    "ast_num, hit_count = calc_hit_freq(ztf=ztf_ast, thresh_sec=2.0)\n",
    "\n",
    "# Sort the hit counts in descending order and find the top batch_size\n",
    "idx = np.argsort(hit_count)[::-1]\n",
    "\n",
    "# Extract the asteroid number and hit count for this batch\n",
    "ast_num_best = ast_num[idx]\n",
    "hit_count_best = hit_count[idx]"
   ]
  },
  {
   "cell_type": "code",
   "execution_count": null,
   "metadata": {},
   "outputs": [],
   "source": [
    "# Set batch size\n",
    "batch_size = 64\n",
    "elt_batch_size = batch_size\n",
    "\n",
    "# Batch of unperturbed elements\n",
    "elts_ast = orbital_element_batch(ast_nums=ast_num_best[0:batch_size])"
   ]
  },
  {
   "cell_type": "code",
   "execution_count": null,
   "metadata": {},
   "outputs": [],
   "source": [
    "elts_ast"
   ]
  },
  {
   "cell_type": "code",
   "execution_count": null,
   "metadata": {},
   "outputs": [],
   "source": [
    "# Perturb orbital elements\n",
    "# Easy perturbation\n",
    "# sigma_a = 0.0\n",
    "# sigma_e = 0.0 \n",
    "# sigma_f_deg = 0.1\n",
    "# sigma_Omega_deg = 0.0\n",
    "# sigma_omega_deg = 0.0\n",
    "\n",
    "# Large perturbation\n",
    "sigma_a = 0.05\n",
    "sigma_e = 0.01\n",
    "sigma_f_deg = 1.0\n",
    "sigma_Omega_deg = 1.0\n",
    "sigma_omega_deg = 1.0\n",
    "mask_pert = None\n",
    "random_seed = 42\n",
    "\n",
    "mask_pert = None\n",
    "random_seed = 42\n",
    "\n",
    "elts_pert = perturb_elts(elts_ast, sigma_a=sigma_a, sigma_e=sigma_e, sigma_f_deg=sigma_f_deg, \n",
    "                         sigma_Omega_deg=sigma_Omega_deg, sigma_omega_deg=sigma_omega_deg,\n",
    "                         mask_pert=mask_pert, random_seed=random_seed)"
   ]
  },
  {
   "cell_type": "code",
   "execution_count": null,
   "metadata": {},
   "outputs": [],
   "source": [
    "elts_pert"
   ]
  },
  {
   "cell_type": "code",
   "execution_count": null,
   "metadata": {},
   "outputs": [],
   "source": [
    "# Random elements\n",
    "elts_rand = random_elts(element_id_start=0, size=elt_batch_size, random_seed=random_seed, dtype=dtype_np)"
   ]
  },
  {
   "cell_type": "code",
   "execution_count": null,
   "metadata": {},
   "outputs": [],
   "source": [
    "elts_rand"
   ]
  },
  {
   "cell_type": "markdown",
   "metadata": {},
   "source": [
    "## Batches of ZTF Data vs. Elements"
   ]
  },
  {
   "cell_type": "code",
   "execution_count": null,
   "metadata": {},
   "outputs": [],
   "source": [
    "# Arguments to make_ztf_batch\n",
    "# thresh_deg = 1.0\n",
    "thresh_deg = 4.0\n",
    "near_ast = False\n",
    "regenerate = False"
   ]
  },
  {
   "cell_type": "code",
   "execution_count": null,
   "metadata": {},
   "outputs": [],
   "source": [
    "# Load unperturbed element batch\n",
    "ztf_elt_ast = load_ztf_batch(elts=elts_ast, thresh_deg=thresh_deg, near_ast=near_ast, regenerate=regenerate)"
   ]
  },
  {
   "cell_type": "code",
   "execution_count": null,
   "metadata": {},
   "outputs": [],
   "source": [
    "# Load perturbed element batch\n",
    "ztf_elt_pert = load_ztf_batch(elts=elts_pert, thresh_deg=thresh_deg, near_ast=near_ast, regenerate=regenerate)"
   ]
  },
  {
   "cell_type": "code",
   "execution_count": null,
   "metadata": {},
   "outputs": [],
   "source": [
    "# Load random element batch\n",
    "ztf_elt_rand = load_ztf_batch(elts=elts_rand, thresh_deg=thresh_deg, near_ast=near_ast, regenerate=regenerate)"
   ]
  },
  {
   "cell_type": "code",
   "execution_count": null,
   "metadata": {},
   "outputs": [],
   "source": [
    "def ztf_elt_summary(ztf_elt: pd.DataFrame, elt_name: str):\n",
    "    \"\"\"Report summary attributes of a ztf_elt dataframe\"\"\"\n",
    "    # Calculate summary statistics\n",
    "    num_obs = ztf_elt.shape[0]\n",
    "    batch_size = np.unique(ztf_elt.element_id).size\n",
    "    obs_per_batch = num_obs / batch_size\n",
    "    num_hits = np.sum(ztf_elt.is_hit)\n",
    "    hits_per_batch = num_hits / batch_size\n",
    "    hit_rate = np.mean(ztf_elt.is_hit)    \n",
    "\n",
    "    # Score by element; use log_v as a proxy.  This has E[log(v)] = 0, Var[log(v)] = 1 b/c V ~ Unif[0, 1]\n",
    "    score_func = lambda x: -1.0 - np.log(x)\n",
    "    # ztf_elt['score'] = 1.0 - np.log(ztf_elt.v)\n",
    "    # score_by_elt = ztf_elt['v'].apply(np.log).groupby(ztf_elt.element_id).agg(['sum', 'count'])\n",
    "    score_by_elt = ztf_elt['v'].apply(score_func).groupby(ztf_elt.element_id).agg(['sum', 'count'])\n",
    "    score_by_elt.rename(columns={'sum': 'score_sum', 'count': 'num_obs'}, inplace=True)\n",
    "    score_by_elt['t_score'] = score_by_elt['score_sum'] / np.sqrt(score_by_elt['num_obs'])    \n",
    "    # Summarize log_v for the elements\n",
    "    mean_score_sum = np.mean(score_by_elt.score_sum)\n",
    "    mean_t_score = np.mean(score_by_elt.t_score)\n",
    "    \n",
    "    # Report results\n",
    "    print(f'ZTF Element Dataframe {elt_name}:')\n",
    "    print(f'                  Total     (Per Batch)')\n",
    "    print(f'Observations   : {num_obs:8d}   ({obs_per_batch:9.0f})')\n",
    "    print(f'Hits           : {num_hits:8d}   ({hits_per_batch:9.2f})')\n",
    "    # print(f'Hit Rate    : {hit_rate*100:8.4f}%')\n",
    "    print(f'\\nSummarize score = sum(-1.0 - log(v)) by batch.  (Mean=0, Variance=num_obs)')\n",
    "    print(f'Mean score     :  {mean_score_sum:9.2f}')\n",
    "    print(f'Sqrt(batch_obs):  {np.sqrt(obs_per_batch):9.2f}')\n",
    "    print(f'Mean t_score   :  {mean_t_score:9.2f}')\n",
    "    \n",
    "    return score_by_elt"
   ]
  },
  {
   "cell_type": "code",
   "execution_count": null,
   "metadata": {},
   "outputs": [],
   "source": [
    "# Summarize the ztf element batch: unperturbed asteroids\n",
    "score_by_elt_ast = ztf_elt_summary(ztf_elt_ast, 'Unperturbed Asteroids')"
   ]
  },
  {
   "cell_type": "code",
   "execution_count": null,
   "metadata": {},
   "outputs": [],
   "source": [
    "# score_by_elt_ast"
   ]
  },
  {
   "cell_type": "code",
   "execution_count": null,
   "metadata": {},
   "outputs": [],
   "source": [
    "# Summarize the ztf element batch: perturbed asteroids\n",
    "score_by_elt_pert = ztf_elt_summary(ztf_elt_pert, 'Perturbed Asteroids')"
   ]
  },
  {
   "cell_type": "code",
   "execution_count": null,
   "metadata": {},
   "outputs": [],
   "source": [
    "# Summarize the ztf element batch: random elements\n",
    "score_by_elt_rand = ztf_elt_summary(ztf_elt_rand, 'Random Elements')"
   ]
  },
  {
   "cell_type": "markdown",
   "metadata": {},
   "source": [
    "## View Example DataFrames and Hits"
   ]
  },
  {
   "cell_type": "code",
   "execution_count": null,
   "metadata": {},
   "outputs": [],
   "source": [
    "ztf_elt_ast"
   ]
  },
  {
   "cell_type": "code",
   "execution_count": null,
   "metadata": {},
   "outputs": [],
   "source": [
    "# Review hits\n",
    "mask = ztf_elt_ast.is_hit\n",
    "ztf_elt_ast[mask]"
   ]
  },
  {
   "cell_type": "code",
   "execution_count": null,
   "metadata": {},
   "outputs": [],
   "source": [
    "ztf_elt_ast.columns"
   ]
  },
  {
   "cell_type": "code",
   "execution_count": null,
   "metadata": {},
   "outputs": [],
   "source": [
    "# Alias ztf_elt_ast to ztf_elt\n",
    "ztf_elt = ztf_elt_ast"
   ]
  },
  {
   "cell_type": "code",
   "execution_count": null,
   "metadata": {},
   "outputs": [],
   "source": [
    "# Build numpy array of times\n",
    "ts_np = ztf_elt.mjd.values.astype(dtype_np)\n",
    "\n",
    "# Get observation count per element\n",
    "row_lengths_np = ztf_elt.element_id.groupby(ztf_elt.element_id).count().values.astype(np.int32)"
   ]
  },
  {
   "cell_type": "code",
   "execution_count": null,
   "metadata": {},
   "outputs": [],
   "source": [
    "# Review results\n",
    "element_id_best = ast_num_best[0]\n",
    "mask = (ztf_elt.element_id == element_id_best)\n",
    "hits_best = np.sum(ztf_elt[mask].is_hit)\n",
    "hit_rate_best = np.mean(ztf_elt[mask].is_hit)\n",
    "rows_best = np.sum(mask)\n",
    "s_sec_min = np.min(ztf_elt[mask].s_sec)\n",
    "idx = np.argmin(ztf_elt.s)\n",
    "ztf_id = ztf_elt.ztf_id[idx]\n",
    "# ztf_elt[mask].iloc[idx:idx+1]\n",
    "print(f'Best asteroid has element_id = {element_id_best}')\n",
    "print(f'Hit count: {hits_best} / {rows_best} observations')\n",
    "print(f'Hit rate : {hit_rate_best:8.6f}')\n",
    "print(f'Closest hit: {s_sec_min:0.3f} arc seconds')\n",
    "# ztf_elt[mask]"
   ]
  },
  {
   "cell_type": "markdown",
   "metadata": {},
   "source": [
    "## Build Asteroid Search Model"
   ]
  },
  {
   "cell_type": "code",
   "execution_count": null,
   "metadata": {},
   "outputs": [],
   "source": [
    "# Additional arguments for asteroid search models\n",
    "site_name = 'palomar'\n",
    "h = 1.0/64.0  # (1.5625%)\n",
    "R_deg = 2.0\n",
    "\n",
    "# Training parameters\n",
    "learning_rate = 2.0**-13 # (1.22E-4)\n",
    "clipnorm = 1.0"
   ]
  },
  {
   "cell_type": "code",
   "execution_count": null,
   "metadata": {},
   "outputs": [],
   "source": [
    "# Build asteroid search model\n",
    "model = AsteroidSearchModel(\n",
    "        elts=elts_ast, ztf_elt=ztf_elt, site_name=site_name,\n",
    "        thresh_deg=thresh_deg, h=h, R_deg=R_deg,\n",
    "        learning_rate=learning_rate, clipnorm=clipnorm)"
   ]
  },
  {
   "cell_type": "code",
   "execution_count": null,
   "metadata": {},
   "outputs": [],
   "source": [
    "# Dummy inputs for search model; any array with shape [elt_batch_size,] is good\n",
    "x = np.ones(elt_batch_size)"
   ]
  },
  {
   "cell_type": "code",
   "execution_count": null,
   "metadata": {},
   "outputs": [],
   "source": [
    "# Run model on unperturbed elements\n",
    "log_like, orbital_elements, mixture_parameters = model(x)"
   ]
  },
  {
   "cell_type": "code",
   "execution_count": null,
   "metadata": {},
   "outputs": [],
   "source": [
    "# Summarize log likelihood on unperturbed elements\n",
    "log_like_tot = np.sum(log_like)\n",
    "log_like_mean = np.mean(log_like)\n",
    "log_like_std = np.std(log_like)\n",
    "\n",
    "# Report on unperturbed elements\n",
    "print(f'Log likelihood:')\n",
    "print(f'Total: {log_like_tot:8.2f}')\n",
    "print(f'Mean: {log_like_mean:8.2f}')\n",
    "print(f'Std : {log_like_std:8.2f}')\n",
    "print(f'First 5:')\n",
    "print(log_like[0:5].numpy())"
   ]
  },
  {
   "cell_type": "code",
   "execution_count": null,
   "metadata": {},
   "outputs": [],
   "source": [
    "hist = model.fit(x)"
   ]
  },
  {
   "cell_type": "code",
   "execution_count": null,
   "metadata": {},
   "outputs": [],
   "source": [
    "model.evaluate(x)"
   ]
  },
  {
   "cell_type": "code",
   "execution_count": null,
   "metadata": {},
   "outputs": [],
   "source": [
    "# model.calc_log_like()"
   ]
  },
  {
   "cell_type": "code",
   "execution_count": null,
   "metadata": {},
   "outputs": [],
   "source": [
    "# model.summary()"
   ]
  },
  {
   "cell_type": "markdown",
   "metadata": {},
   "source": [
    "## Fit Model on Unperturbed Elements"
   ]
  },
  {
   "cell_type": "code",
   "execution_count": null,
   "metadata": {},
   "outputs": [],
   "source": [
    "# Build asteroid search model\n",
    "model_ast = AsteroidSearchModel(\n",
    "                elts=elts_ast, ztf_elt=ztf_elt, site_name=site_name,\n",
    "                thresh_deg=thresh_deg, h=h, R_deg=R_deg,\n",
    "                learning_rate=learning_rate, clipnorm=clipnorm)"
   ]
  },
  {
   "cell_type": "code",
   "execution_count": null,
   "metadata": {},
   "outputs": [],
   "source": [
    "# Adaptive search parameters\n",
    "max_batches = 10000\n",
    "batches_per_epoch = 100\n",
    "epochs_per_episode = 5\n",
    "# min_learning_rate = 1.0E-7\n",
    "min_learning_rate = 2.0**-23\n",
    "verbose = 1\n",
    "\n",
    "# Tiny size for fast testing\n",
    "# max_batches = 100\n",
    "# batches_per_epoch = 10"
   ]
  },
  {
   "cell_type": "code",
   "execution_count": null,
   "metadata": {},
   "outputs": [],
   "source": [
    "# model = model_ast"
   ]
  },
  {
   "cell_type": "code",
   "execution_count": null,
   "metadata": {},
   "outputs": [],
   "source": [
    "# Train unperturbed model\n",
    "model_ast.search_adaptive(\n",
    "    max_batches=max_batches, \n",
    "    batches_per_epoch=batches_per_epoch,\n",
    "    epochs_per_episode=epochs_per_episode,\n",
    "    min_learning_rate=min_learning_rate,\n",
    "    verbose=verbose)"
   ]
  },
  {
   "cell_type": "code",
   "execution_count": null,
   "metadata": {},
   "outputs": [],
   "source": [
    "# # Second (tune-up) adaptive training\n",
    "# model.search_adaptive(\n",
    "#     max_batches=max_batches, \n",
    "#     batches_per_epoch=batches_per_epoch,\n",
    "#     epochs_per_episode=epochs_per_episode,\n",
    "#     min_learning_rate=min_learning_rate,\n",
    "#     verbose=verbose)"
   ]
  },
  {
   "cell_type": "code",
   "execution_count": null,
   "metadata": {},
   "outputs": [],
   "source": [
    "# Review likelihoods by element\n",
    "log_like_ast, orbital_elements_ast, mixture_parameters_ast = model_ast.calc_outputs()"
   ]
  },
  {
   "cell_type": "code",
   "execution_count": null,
   "metadata": {},
   "outputs": [],
   "source": [
    "log_like_ast"
   ]
  },
  {
   "cell_type": "code",
   "execution_count": null,
   "metadata": {},
   "outputs": [],
   "source": [
    "# plot log_like"
   ]
  },
  {
   "cell_type": "markdown",
   "metadata": {},
   "source": [
    "## Train on Perturbed Elements"
   ]
  },
  {
   "cell_type": "code",
   "execution_count": null,
   "metadata": {},
   "outputs": [],
   "source": [
    "# Build asteroid search model\n",
    "model_pert = AsteroidSearchModel(\n",
    "                 elts=elts_pert, ztf_elt=ztf_elt_pert, site_name=site_name,\n",
    "                 thresh_deg=thresh_deg, h=h, R_deg=R_deg,\n",
    "                 learning_rate=learning_rate, clipnorm=clipnorm)"
   ]
  },
  {
   "cell_type": "code",
   "execution_count": null,
   "metadata": {},
   "outputs": [],
   "source": [
    "# Train model on perturbed elements\n",
    "model_pert.search_adaptive(\n",
    "    max_batches=max_batches, \n",
    "    batches_per_epoch=batches_per_epoch,\n",
    "    epochs_per_episode=epochs_per_episode,\n",
    "    min_learning_rate=min_learning_rate,\n",
    "    verbose=verbose)"
   ]
  },
  {
   "cell_type": "code",
   "execution_count": null,
   "metadata": {},
   "outputs": [],
   "source": [
    "# Review likelihoods by element\n",
    "log_like_per, orbital_elements_pert, mixture_parameters_pert = model_pert.calc_outputs()"
   ]
  },
  {
   "cell_type": "code",
   "execution_count": null,
   "metadata": {},
   "outputs": [],
   "source": [
    "log_like_pert"
   ]
  },
  {
   "cell_type": "markdown",
   "metadata": {},
   "source": [
    "## Train on Random Elements"
   ]
  },
  {
   "cell_type": "code",
   "execution_count": null,
   "metadata": {},
   "outputs": [],
   "source": [
    "# Filter elts_rand down to only those that had matching ztf observations\n",
    "idx = np.unique(ztf_elt_rand.element_id)\n",
    "elts_rand = elts_rand.loc[idx]"
   ]
  },
  {
   "cell_type": "code",
   "execution_count": null,
   "metadata": {},
   "outputs": [],
   "source": [
    "elts_rand['a'].dtype"
   ]
  },
  {
   "cell_type": "code",
   "execution_count": null,
   "metadata": {},
   "outputs": [],
   "source": [
    "elts_rand['a'].dtype"
   ]
  },
  {
   "cell_type": "code",
   "execution_count": null,
   "metadata": {},
   "outputs": [],
   "source": [
    "for col in ['a', 'e', 'f', 'inc', 'Omega', 'omega', 'epoch']:\n",
    "    elts_rand[col] = elts_rand[col].astype(np.float32)"
   ]
  },
  {
   "cell_type": "code",
   "execution_count": null,
   "metadata": {},
   "outputs": [],
   "source": [
    "# Build asteroid search model\n",
    "model_rand = AsteroidSearchModel(\n",
    "                 elts=elts_rand, ztf_elt=ztf_elt_rand, site_name=site_name,\n",
    "                 thresh_deg=thresh_deg, h=h, R_deg=R_deg,\n",
    "                 learning_rate=learning_rate, clipnorm=clipnorm)"
   ]
  },
  {
   "cell_type": "code",
   "execution_count": null,
   "metadata": {},
   "outputs": [],
   "source": [
    "# Train model on perturbed elements\n",
    "model_rand.search_adaptive(\n",
    "    max_batches=max_batches, \n",
    "    batches_per_epoch=batches_per_epoch,\n",
    "    epochs_per_episode=epochs_per_episode,\n",
    "    min_learning_rate=min_learning_rate,\n",
    "    verbose=verbose)"
   ]
  },
  {
   "cell_type": "code",
   "execution_count": null,
   "metadata": {},
   "outputs": [],
   "source": [
    "# Review likelihoods by element\n",
    "log_like_rand, orbital_elements_rand, mixture_parameters_rand = model_rand.calc_outputs()"
   ]
  },
  {
   "cell_type": "code",
   "execution_count": null,
   "metadata": {},
   "outputs": [],
   "source": [
    "log_like_rand"
   ]
  },
  {
   "cell_type": "code",
   "execution_count": null,
   "metadata": {},
   "outputs": [],
   "source": [
    "# orbital_elements_rand"
   ]
  },
  {
   "cell_type": "code",
   "execution_count": null,
   "metadata": {},
   "outputs": [],
   "source": [
    "from candidate_element import elts_np2df"
   ]
  },
  {
   "cell_type": "code",
   "execution_count": null,
   "metadata": {},
   "outputs": [],
   "source": []
  }
 ],
 "metadata": {
  "kernelspec": {
   "display_name": "Python [conda env:kepler]",
   "language": "python",
   "name": "conda-env-kepler-py"
  },
  "language_info": {
   "codemirror_mode": {
    "name": "ipython",
    "version": 3
   },
   "file_extension": ".py",
   "mimetype": "text/x-python",
   "name": "python",
   "nbconvert_exporter": "python",
   "pygments_lexer": "ipython3",
   "version": "3.7.6"
  }
 },
 "nbformat": 4,
 "nbformat_minor": 4
}
