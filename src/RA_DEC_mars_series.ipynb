{
 "cells": [
  {
   "cell_type": "code",
   "execution_count": 17,
   "metadata": {},
   "outputs": [],
   "source": [
    "import numpy as np\n",
    "import pandas as pd\n",
    "import skyfield\n",
    "from skyfield.api import load\n",
    "from skyfield.positionlib import ICRF, Barycentric\n",
    "from astropy.units import deg, au, km, meter, day, minute, second\n",
    "from astropy.coordinates import GCRS, BarycentricMeanEcliptic, HeliocentricMeanEcliptic\n",
    "import matplotlib.pyplot as plt\n",
    "import astro_utils\n",
    "from astro_utils import jd_to_mjd, radec2dir, radec_diff, qv2radec, qvrel2radec"
   ]
  },
  {
   "cell_type": "markdown",
   "metadata": {},
   "source": [
    "### Observation of Earth and Mars according to JPL"
   ]
  },
  {
   "cell_type": "code",
   "execution_count": 2,
   "metadata": {},
   "outputs": [
    {
     "data": {
      "text/html": [
       "<div>\n",
       "<style scoped>\n",
       "    .dataframe tbody tr th:only-of-type {\n",
       "        vertical-align: middle;\n",
       "    }\n",
       "\n",
       "    .dataframe tbody tr th {\n",
       "        vertical-align: top;\n",
       "    }\n",
       "\n",
       "    .dataframe thead th {\n",
       "        text-align: right;\n",
       "    }\n",
       "</style>\n",
       "<table border=\"1\" class=\"dataframe\">\n",
       "  <thead>\n",
       "    <tr style=\"text-align: right;\">\n",
       "      <th></th>\n",
       "      <th>Date</th>\n",
       "      <th>Time</th>\n",
       "      <th>JulianDate</th>\n",
       "      <th>RA</th>\n",
       "      <th>DEC</th>\n",
       "      <th>RA_apparent</th>\n",
       "      <th>DEC_apparent delta</th>\n",
       "      <th>delta_dot</th>\n",
       "      <th>light_time</th>\n",
       "    </tr>\n",
       "  </thead>\n",
       "  <tbody>\n",
       "    <tr>\n",
       "      <td>0</td>\n",
       "      <td>2010-Jan-01</td>\n",
       "      <td>00:00</td>\n",
       "      <td>2455197.5</td>\n",
       "      <td>142.327061</td>\n",
       "      <td>18.799029</td>\n",
       "      <td>142.475968</td>\n",
       "      <td>18.752303941 0.73883173669463</td>\n",
       "      <td>-8.970408</td>\n",
       "      <td>6.144676</td>\n",
       "    </tr>\n",
       "    <tr>\n",
       "      <td>1</td>\n",
       "      <td>2010-Jan-02</td>\n",
       "      <td>00:00</td>\n",
       "      <td>2455198.5</td>\n",
       "      <td>142.179197</td>\n",
       "      <td>18.888379</td>\n",
       "      <td>142.328371</td>\n",
       "      <td>18.841710905 0.73372184383589</td>\n",
       "      <td>-8.724067</td>\n",
       "      <td>6.102178</td>\n",
       "    </tr>\n",
       "    <tr>\n",
       "      <td>2</td>\n",
       "      <td>2010-Jan-03</td>\n",
       "      <td>00:00</td>\n",
       "      <td>2455199.5</td>\n",
       "      <td>142.017468</td>\n",
       "      <td>18.981461</td>\n",
       "      <td>142.166897</td>\n",
       "      <td>18.934867206 0.72875633894059</td>\n",
       "      <td>-8.470333</td>\n",
       "      <td>6.060882</td>\n",
       "    </tr>\n",
       "    <tr>\n",
       "      <td>3</td>\n",
       "      <td>2010-Jan-04</td>\n",
       "      <td>00:00</td>\n",
       "      <td>2455200.5</td>\n",
       "      <td>141.841890</td>\n",
       "      <td>19.078173</td>\n",
       "      <td>141.991560</td>\n",
       "      <td>19.031670832 0.72393956594361</td>\n",
       "      <td>-8.208951</td>\n",
       "      <td>6.020822</td>\n",
       "    </tr>\n",
       "    <tr>\n",
       "      <td>4</td>\n",
       "      <td>2010-Jan-05</td>\n",
       "      <td>00:00</td>\n",
       "      <td>2455201.5</td>\n",
       "      <td>141.652504</td>\n",
       "      <td>19.178403</td>\n",
       "      <td>141.802402</td>\n",
       "      <td>19.132004243 0.71927600922442</td>\n",
       "      <td>-7.939695</td>\n",
       "      <td>5.982036</td>\n",
       "    </tr>\n",
       "    <tr>\n",
       "      <td>...</td>\n",
       "      <td>...</td>\n",
       "      <td>...</td>\n",
       "      <td>...</td>\n",
       "      <td>...</td>\n",
       "      <td>...</td>\n",
       "      <td>...</td>\n",
       "      <td>...</td>\n",
       "      <td>...</td>\n",
       "      <td>...</td>\n",
       "    </tr>\n",
       "    <tr>\n",
       "      <td>3648</td>\n",
       "      <td>2019-Dec-28</td>\n",
       "      <td>00:00</td>\n",
       "      <td>2458845.5</td>\n",
       "      <td>233.190100</td>\n",
       "      <td>-18.727810</td>\n",
       "      <td>233.467326</td>\n",
       "      <td>-18.791714023 2.21286843425630</td>\n",
       "      <td>-12.191696</td>\n",
       "      <td>18.403866</td>\n",
       "    </tr>\n",
       "    <tr>\n",
       "      <td>3649</td>\n",
       "      <td>2019-Dec-29</td>\n",
       "      <td>00:00</td>\n",
       "      <td>2458846.5</td>\n",
       "      <td>233.876730</td>\n",
       "      <td>-18.895847</td>\n",
       "      <td>234.154585</td>\n",
       "      <td>-18.958738129 2.20580870839279</td>\n",
       "      <td>-12.255895</td>\n",
       "      <td>18.345152</td>\n",
       "    </tr>\n",
       "    <tr>\n",
       "      <td>3650</td>\n",
       "      <td>2019-Dec-30</td>\n",
       "      <td>00:00</td>\n",
       "      <td>2458847.5</td>\n",
       "      <td>234.565048</td>\n",
       "      <td>-19.061459</td>\n",
       "      <td>234.843518</td>\n",
       "      <td>-19.123323188 2.19871232427735</td>\n",
       "      <td>-12.318649</td>\n",
       "      <td>18.286133</td>\n",
       "    </tr>\n",
       "    <tr>\n",
       "      <td>3651</td>\n",
       "      <td>2019-Dec-31</td>\n",
       "      <td>00:00</td>\n",
       "      <td>2458848.5</td>\n",
       "      <td>235.255049</td>\n",
       "      <td>-19.224614</td>\n",
       "      <td>235.534120</td>\n",
       "      <td>-19.285436340 2.19158011449378</td>\n",
       "      <td>-12.379967</td>\n",
       "      <td>18.226816</td>\n",
       "    </tr>\n",
       "    <tr>\n",
       "      <td>3652</td>\n",
       "      <td>2020-Jan-01</td>\n",
       "      <td>00:00</td>\n",
       "      <td>2458849.5</td>\n",
       "      <td>235.946727</td>\n",
       "      <td>-19.385281</td>\n",
       "      <td>236.226387</td>\n",
       "      <td>-19.445045901 2.18441290339058</td>\n",
       "      <td>-12.439868</td>\n",
       "      <td>18.167208</td>\n",
       "    </tr>\n",
       "  </tbody>\n",
       "</table>\n",
       "<p>3653 rows × 9 columns</p>\n",
       "</div>"
      ],
      "text/plain": [
       "             Date   Time  JulianDate          RA        DEC  RA_apparent  \\\n",
       "0     2010-Jan-01  00:00   2455197.5  142.327061  18.799029   142.475968   \n",
       "1     2010-Jan-02  00:00   2455198.5  142.179197  18.888379   142.328371   \n",
       "2     2010-Jan-03  00:00   2455199.5  142.017468  18.981461   142.166897   \n",
       "3     2010-Jan-04  00:00   2455200.5  141.841890  19.078173   141.991560   \n",
       "4     2010-Jan-05  00:00   2455201.5  141.652504  19.178403   141.802402   \n",
       "...           ...    ...         ...         ...        ...          ...   \n",
       "3648  2019-Dec-28  00:00   2458845.5  233.190100 -18.727810   233.467326   \n",
       "3649  2019-Dec-29  00:00   2458846.5  233.876730 -18.895847   234.154585   \n",
       "3650  2019-Dec-30  00:00   2458847.5  234.565048 -19.061459   234.843518   \n",
       "3651  2019-Dec-31  00:00   2458848.5  235.255049 -19.224614   235.534120   \n",
       "3652  2020-Jan-01  00:00   2458849.5  235.946727 -19.385281   236.226387   \n",
       "\n",
       "                  DEC_apparent delta  delta_dot  light_time  \n",
       "0      18.752303941 0.73883173669463  -8.970408    6.144676  \n",
       "1      18.841710905 0.73372184383589  -8.724067    6.102178  \n",
       "2      18.934867206 0.72875633894059  -8.470333    6.060882  \n",
       "3      19.031670832 0.72393956594361  -8.208951    6.020822  \n",
       "4      19.132004243 0.71927600922442  -7.939695    5.982036  \n",
       "...                              ...        ...         ...  \n",
       "3648  -18.791714023 2.21286843425630 -12.191696   18.403866  \n",
       "3649  -18.958738129 2.20580870839279 -12.255895   18.345152  \n",
       "3650  -19.123323188 2.19871232427735 -12.318649   18.286133  \n",
       "3651  -19.285436340 2.19158011449378 -12.379967   18.226816  \n",
       "3652  -19.445045901 2.18441290339058 -12.439868   18.167208  \n",
       "\n",
       "[3653 rows x 9 columns]"
      ]
     },
     "execution_count": 2,
     "metadata": {},
     "output_type": "execute_result"
    }
   ],
   "source": [
    "# Load the JPL RA and DEC for Mars as fixed width file\n",
    "df = pd.read_fwf('../data/jpl/testing/observe-mars-earth-geocenter.txt')\n",
    "\n",
    "# Display the dataframe\n",
    "df"
   ]
  },
  {
   "cell_type": "code",
   "execution_count": 3,
   "metadata": {},
   "outputs": [],
   "source": [
    "# Extract obstime_jd, ra, and dec from DataFrame\n",
    "obstime_jd = df.JulianDate.values\n",
    "ra_jpl = df.RA.values\n",
    "dec_jpl = df.DEC.values\n",
    "\n",
    "# Vector of observation times in MJD format\n",
    "obstime_mjd = jd_to_mjd(obstime_jd)"
   ]
  },
  {
   "cell_type": "markdown",
   "metadata": {},
   "source": [
    "### Position & Observation of Earth and Mars according to Skyfield"
   ]
  },
  {
   "cell_type": "code",
   "execution_count": 4,
   "metadata": {},
   "outputs": [],
   "source": [
    "# Manually load planetary positions using de435\n",
    "planets_sf = load('../data/jpl/ephemeris/de435.bsp')\n",
    "earth_sf = planets_sf['earth']\n",
    "mars_sf = planets_sf['mars barycenter']\n",
    "\n",
    "# load timescale\n",
    "ts = load.timescale()\n",
    "\n",
    "# Generate vector of observation times in Skyfield format\n",
    "obstime_sf = ts.tt_jd(obstime_jd)"
   ]
  },
  {
   "cell_type": "code",
   "execution_count": 12,
   "metadata": {},
   "outputs": [],
   "source": [
    "# Observe mars from earth with Skyfield\n",
    "obs_sf = earth_sf.at(obstime_sf).observe(mars_sf)\n",
    "\n",
    "# Build Skyfield angle arrays (RA, DEC) and distance array (delta)\n",
    "ra_sf_aa, dec_sf_aa, delta_sf_da = obs_sf.radec()\n",
    "\n",
    "# Extract degrees and AU to get plain arrays\n",
    "ra_sf = ra_sf_aa._degrees\n",
    "dec_sf = dec_sf_aa._degrees\n",
    "delta_sf = delta_sf_da.au"
   ]
  },
  {
   "cell_type": "markdown",
   "metadata": {},
   "source": [
    "### Position of Earth & Mars According to JPL: Same as Skyfield (Using JPL Ephemeris)"
   ]
  },
  {
   "cell_type": "code",
   "execution_count": 13,
   "metadata": {},
   "outputs": [],
   "source": [
    "# Load planetary positions and velocities by querying the Skyfield JPL ephemeris interface\n",
    "# Create them as arrays with bundled astropy units of au and km / second\n",
    "\n",
    "# Earth\n",
    "q_earth = earth_sf.at(obstime_sf).position.au * au\n",
    "v_earth = earth_sf.at(obstime_sf).velocity.km_per_s * km / second\n",
    "\n",
    "# Mars\n",
    "q_mars = mars_sf.at(obstime_sf).position.au * au\n",
    "v_mars = mars_sf.at(obstime_sf).velocity.km_per_s * km / second"
   ]
  },
  {
   "cell_type": "markdown",
   "metadata": {},
   "source": [
    "### Compare Skyfield vs JPL"
   ]
  },
  {
   "cell_type": "code",
   "execution_count": 14,
   "metadata": {},
   "outputs": [
    {
     "name": "stdout",
     "output_type": "stream",
     "text": [
      "Mean Angle Difference: JPL vs. Skyfield\n",
      "1.598 seconds\n"
     ]
    }
   ],
   "source": [
    "print(f'Mean Angle Difference: JPL vs. Skyfield')\n",
    "diff_sf = radec_diff('JPL', 'Skyfield', ra1=ra_jpl, dec1=dec_jpl, ra2=ra_sf, dec2=dec_sf, \n",
    "                     obstime_mjd=obstime_mjd, verbose=False)\n",
    "diff_mean = np.mean(diff_sf)\n",
    "print(f'{diff_mean:5.3f} seconds')"
   ]
  },
  {
   "cell_type": "code",
   "execution_count": 8,
   "metadata": {},
   "outputs": [
    {
     "name": "stdout",
     "output_type": "stream",
     "text": [
      "Date with largest error:\n",
      "index    = 1121\n",
      "MJD      = 56318.0\n",
      "Date     = 2013-01-26\n",
      "\n",
      "ra_sf    = 326.894343\n",
      "ra_jpl   = 326.894940\n",
      "ra diff  =  -0.000597\n",
      "\n",
      "dec_sf   = -14.453341\n",
      "dec_jpl  = -14.453133\n",
      "dec diff =  -0.000208\n",
      "\n",
      "AngleDiff=   2.213    seconds\n"
     ]
    }
   ],
   "source": [
    "# Day with biggest error\n",
    "idx = np.argmax(diff_sf)\n",
    "print(f'Date with largest error:')\n",
    "print(f'index    = {idx}')\n",
    "print(f'MJD      = {obstime_mjd[idx]}')\n",
    "print(f'Date     = {astro_utils.mjd_to_date(obstime_mjd[idx])}')\n",
    "print()\n",
    "print(f'ra_sf    = {ra_sf[idx]:10.6f}')\n",
    "print(f'ra_jpl   = {ra_jpl[idx]:10.6f}')\n",
    "print(f'ra diff  = {ra_sf[idx]-ra_jpl[idx]:10.6f}')\n",
    "print()\n",
    "print(f'dec_sf   = {dec_sf[idx]:10.6f}')\n",
    "print(f'dec_jpl  = {dec_jpl[idx]:10.6f}')\n",
    "print(f'dec diff = {dec_sf[idx]-dec_jpl[idx]:10.6f}')\n",
    "print()\n",
    "print(f'AngleDiff= {diff_sf[idx]:7.3f}    seconds')"
   ]
  },
  {
   "cell_type": "markdown",
   "metadata": {},
   "source": [
    "### Observation of Mars from Earth Using MSE Functions Built on astropy Transforms"
   ]
  },
  {
   "cell_type": "code",
   "execution_count": 20,
   "metadata": {},
   "outputs": [],
   "source": [
    "ra_mse1, dec_mse1, r_mse1 = qv2radec(q_mars, v_mars, obstime_mjd, BarycentricMeanEcliptic)"
   ]
  },
  {
   "cell_type": "code",
   "execution_count": 21,
   "metadata": {},
   "outputs": [
    {
     "name": "stdout",
     "output_type": "stream",
     "text": [
      "Mean Angle Difference: JPL vs. MSE qv2radec\n",
      "55183.354 seconds\n"
     ]
    }
   ],
   "source": [
    "print(f'Mean Angle Difference: JPL vs. MSE qv2radec')\n",
    "diff_sf = radec_diff('JPL', 'MSE', ra1=ra_jpl, dec1=dec_jpl, ra2=ra_mse1, dec2=dec_mse1, \n",
    "                     obstime_mjd=obstime_mjd, verbose=False)\n",
    "diff_mean = np.mean(diff_sf)\n",
    "print(f'{diff_mean:5.3f} seconds')"
   ]
  },
  {
   "cell_type": "code",
   "execution_count": null,
   "metadata": {},
   "outputs": [],
   "source": []
  }
 ],
 "metadata": {
  "kernelspec": {
   "display_name": "Python [conda env:kepler]",
   "language": "python",
   "name": "conda-env-kepler-py"
  },
  "language_info": {
   "codemirror_mode": {
    "name": "ipython",
    "version": 3
   },
   "file_extension": ".py",
   "mimetype": "text/x-python",
   "name": "python",
   "nbconvert_exporter": "python",
   "pygments_lexer": "ipython3",
   "version": "3.7.4"
  }
 },
 "nbformat": 4,
 "nbformat_minor": 2
}
