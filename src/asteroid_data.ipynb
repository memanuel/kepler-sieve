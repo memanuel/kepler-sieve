{
 "cells": [
  {
   "cell_type": "code",
   "execution_count": 1,
   "metadata": {},
   "outputs": [],
   "source": [
    "# library imports\n",
    "import numpy as np\n",
    "import astropy\n",
    "from astropy.coordinates import SkyCoord, GCRS, ICRS, HeliocentricMeanEcliptic, HeliocentricTrueEcliptic, EarthLocation\n",
    "from astropy.units import deg, au, meter\n",
    "\n",
    "#  MSE imports\n",
    "import astro_utils\n",
    "import asteroid_integrate\n",
    "import asteroid_data\n",
    "from asteroid_data import make_data_one_file, get_earth_pos"
   ]
  },
  {
   "cell_type": "code",
   "execution_count": 2,
   "metadata": {},
   "outputs": [],
   "source": [
    "# RA and DEC of Ceres at 58600.0 according to JPL\n",
    "ra_deg = 252.310439454\n",
    "dec_deg = -17.000452272\n",
    "delta_au = 1.871749452\n",
    "\n",
    "# Heliocentric coordinates of Ceres\n",
    "ast_hel_lon_deg = 240.131491\n",
    "ast_hel_lat_deg = 3.690709\n",
    "ast_r_au = 2.738311922451\n",
    "\n",
    "# Heliocentric coordinates of Earth\n",
    "earth_hel_lon_deg = 215.7084   \n",
    "earth_hel_lat_deg = 0.0017  \n",
    "earth_r_au = 1.006212009867\n",
    "\n",
    "# MJD of observation time\n",
    "obstime_mjd = 58600.0"
   ]
  },
  {
   "cell_type": "code",
   "execution_count": 3,
   "metadata": {},
   "outputs": [],
   "source": [
    "# RA and DEC of Ceres at 58600.5 according to JPL\n",
    "ra_deg = 252.250075738\n",
    "dec_deg = -17.009538673\n",
    "delta_au = 1.86800464519883\n",
    "\n",
    "# Heliocentric coordinates of Ceres\n",
    "ast_hel_lon_deg = 240.239114\n",
    "ast_hel_lat_deg = 3.671885\n",
    "ast_r_au = 2.738704926\n",
    "\n",
    "# Heliocentric coordinates of Earth\n",
    "earth_hel_lon_deg = 216.1950\n",
    "earth_hel_lat_deg = 0.0017  \n",
    "earth_r_au = 1.006347536397\n",
    "\n",
    "# MJD of observation time\n",
    "obstime_mjd = 58600.5"
   ]
  },
  {
   "cell_type": "code",
   "execution_count": 4,
   "metadata": {},
   "outputs": [],
   "source": [
    "# Reference frames\n",
    "# https://docs.astropy.org/en/stable/api/astropy.coordinates.GCRS.html\n",
    "# https://docs.astropy.org/en/stable/api/astropy.coordinates.ICRS.html\n",
    "frame_earth = GCRS\n",
    "frame_solar = HeliocentricMeanEcliptic"
   ]
  },
  {
   "cell_type": "code",
   "execution_count": 5,
   "metadata": {},
   "outputs": [
    {
     "name": "stdout",
     "output_type": "stream",
     "text": [
      "geolocation of Palomar observatory:\n",
      "geoloc_palomar = (-2410346.78217658, -4758666.82504051, 3487942.97502457) m\n",
      "geoloc_palomar geodetic = GeodeticLocation(lon=<Longitude -116.863 deg>, lat=<Latitude 33.356 deg>, height=<Quantity 1706. m>)\n"
     ]
    }
   ],
   "source": [
    "# Earth location of the Palomar observatory\n",
    "geoloc_palomar_auto = EarthLocation.of_site('Palomar')\n",
    "print(f'geolocation of Palomar observatory:')\n",
    "print(f'geoloc_palomar = {geoloc_palomar_auto}')\n",
    "print(f'geoloc_palomar geodetic = {geoloc_palomar_auto.geodetic}')"
   ]
  },
  {
   "cell_type": "code",
   "execution_count": 6,
   "metadata": {},
   "outputs": [],
   "source": [
    "# For some reason, the 'nice' way to do this below leads to a bug in constructor to GCRS\n",
    "# geoloc_palomar = EarthLocation(-2410346.8, -4758666.8, 3487943, unit='m')\n",
    "\n",
    "# Workaround: extract the geolocation of the Palomar observatory using EarthLocation.of_site\n",
    "geoloc_palomar = [-2410346.78217658, -4758666.82504051, 3487942.97502457] * meter"
   ]
  },
  {
   "cell_type": "markdown",
   "metadata": {},
   "source": [
    "**Coordinates of Ceres at MJD 58600.5 as SkyCoord instance**"
   ]
  },
  {
   "cell_type": "code",
   "execution_count": 7,
   "metadata": {},
   "outputs": [],
   "source": [
    "# c = SkyCoord(ra=ra_deg, dec=dec_deg, unit='deg', frame=frame_earth)"
   ]
  },
  {
   "cell_type": "code",
   "execution_count": 8,
   "metadata": {},
   "outputs": [],
   "source": [
    "# c = SkyCoord(ra=ra_deg*astropy.units.deg, dec=dec_deg*astropy.units.deg, distance=delta_au*astropy.units.au, frame=frame_earth)"
   ]
  },
  {
   "cell_type": "code",
   "execution_count": 9,
   "metadata": {},
   "outputs": [],
   "source": [
    "# c = SkyCoord(ra=ra_deg, dec=dec_deg, distance=delta_au, unit='deg', frame=frame_earth)"
   ]
  },
  {
   "cell_type": "code",
   "execution_count": 10,
   "metadata": {},
   "outputs": [
    {
     "name": "stdout",
     "output_type": "stream",
     "text": [
      "ra      = 252.250075738 deg\n",
      "dec     = -17.009538673 deg\n",
      "delta   = 1.86800464519883 AU\n",
      "obstime = <Time object: scale='utc' format='mjd' value=58600.5>\n"
     ]
    }
   ],
   "source": [
    "# switch from numbers to class instances\n",
    "\n",
    "# RA and DEC of asteroid in earth frame\n",
    "ra = ra_deg * deg\n",
    "dec = dec_deg * deg\n",
    "delta = delta_au * au\n",
    "\n",
    "# Asteroid in solar frame\n",
    "ast_hel_lon = ast_hel_lon_deg * deg\n",
    "ast_hel_lat = ast_hel_lat_deg * deg\n",
    "ast_r = ast_r_au * au\n",
    "\n",
    "# Earth in solar frame\n",
    "earth_hel_lon = earth_hel_lon_deg * deg\n",
    "earth_hel_lat = earth_hel_lat_deg * deg\n",
    "earth_r = earth_r_au * au\n",
    "\n",
    "# distances of zero and one AU\n",
    "zero_au = 0.0 * au \n",
    "one_au = 1.0 * au\n",
    "\n",
    "# angle of zero degrees\n",
    "zero_deg = 0.0 * deg\n",
    "\n",
    "# observation time\n",
    "obstime = astropy.time.Time(val=obstime_mjd, format='mjd')\n",
    "\n",
    "# display class outputs\n",
    "print(f'ra      = {ra}')\n",
    "print(f'dec     = {dec}')\n",
    "print(f'delta   = {delta}')\n",
    "print(f'obstime = {repr(obstime)}')"
   ]
  },
  {
   "cell_type": "code",
   "execution_count": 11,
   "metadata": {},
   "outputs": [
    {
     "data": {
      "text/plain": [
       "<SkyCoord (GCRS: obstime=58600.5, obsgeoloc=(0., 0., 0.) m, obsgeovel=(0., 0., 0.) m / s): (ra, dec, distance) in (deg, deg, AU)\n",
       "    (252.25007574, -17.00953867, 1.86800465)>"
      ]
     },
     "execution_count": 11,
     "metadata": {},
     "output_type": "execute_result"
    }
   ],
   "source": [
    "# Coordinates of Ceres in geocentric frame; include observation time & location.  \n",
    "# Use correct distance delta_au from JPL\n",
    "# ast_geo = GCRS(ra=ra, dec=dec, distance=distance, obstime=obstime, obsgeoloc=geoloc_palomar)\n",
    "# ast_geo = GCRS(ra=ra, dec=dec, distance=delta, obstime=obstime)\n",
    "ast_geo = SkyCoord(ra=ra, dec=dec, distance=delta, obstime=obstime, frame=frame_earth)\n",
    "ast_geo"
   ]
  },
  {
   "cell_type": "code",
   "execution_count": 12,
   "metadata": {},
   "outputs": [
    {
     "data": {
      "text/plain": [
       "<SkyCoord (GCRS: obstime=58600.5, obsgeoloc=(0., 0., 0.) m, obsgeovel=(0., 0., 0.) m / s): (ra, dec, distance) in (deg, deg, AU)\n",
       "    (0., 0., 0.)>"
      ]
     },
     "execution_count": 12,
     "metadata": {},
     "output_type": "execute_result"
    }
   ],
   "source": [
    "# Coordinates of Earth in geocentric frame; this is easy, distance is zero!\n",
    "# earth_geo = GCRS(ra=zero_deg, dec=zero_deg, distance=zero_au, obstime=obstime, obsgeoloc = geoloc_palomar)\n",
    "earth_geo = SkyCoord(ra=zero_deg, dec=zero_deg, distance=zero_au, obstime=obstime, frame=frame_earth)\n",
    "earth_geo"
   ]
  },
  {
   "cell_type": "markdown",
   "metadata": {},
   "source": [
    "**Unit direction of Ceres in Heliocentric (J2000) Frame from RA and Dec**"
   ]
  },
  {
   "cell_type": "code",
   "execution_count": 13,
   "metadata": {},
   "outputs": [
    {
     "name": "stdout",
     "output_type": "stream",
     "text": [
      "Heliocentric Cartesian coordinates from JPL RA / DEC Data:\n",
      "Ceres:    (-1.35182396, -2.37951197, 0.17540461) AU\n",
      "Earth:    (-0.80710993, -0.60131852, 3.06973525e-05) AU\n",
      "Relative: (-0.54471404, -1.77819345, 0.17537391) AU\n"
     ]
    }
   ],
   "source": [
    "# Relative displacement from Earth to Ceres in the Heliocentric frame\n",
    "# This is critical, need to transform from ICRS to Heliocentric for axes to be oriented correctly\n",
    "ast_hel = ast_geo.transform_to(frame_solar)\n",
    "earth_hel = earth_geo.transform_to(frame_solar)\n",
    "rel_hel = (ast_hel.cartesian - earth_hel.cartesian)\n",
    "print(f'Heliocentric Cartesian coordinates from JPL RA / DEC Data:')\n",
    "print('Ceres:   ', ast_hel.cartesian)\n",
    "print('Earth:   ', earth_hel.cartesian)\n",
    "print('Relative:', rel_hel)"
   ]
  },
  {
   "cell_type": "code",
   "execution_count": 14,
   "metadata": {},
   "outputs": [],
   "source": [
    "# Extract arrays from heliocentric objects\n",
    "ast_jpl = ast_hel.cartesian.xyz.value\n",
    "earth_jpl = earth_hel.cartesian.xyz.value\n",
    "rel_jpl = rel_hel.xyz.value"
   ]
  },
  {
   "cell_type": "code",
   "execution_count": 15,
   "metadata": {},
   "outputs": [
    {
     "name": "stdout",
     "output_type": "stream",
     "text": [
      "Direction from Earth to Ceres:\n"
     ]
    },
    {
     "data": {
      "text/plain": [
       "array([-0.291602, -0.951921,  0.093883])"
      ]
     },
     "execution_count": 15,
     "metadata": {},
     "output_type": "execute_result"
    }
   ],
   "source": [
    "# Direction from earth to asteroid\n",
    "u_jpl = rel_jpl / np.linalg.norm(rel_jpl)\n",
    "print('Direction from Earth to Ceres:')\n",
    "np.round(u_jpl, 6)"
   ]
  },
  {
   "cell_type": "code",
   "execution_count": 16,
   "metadata": {},
   "outputs": [
    {
     "name": "stdout",
     "output_type": "stream",
     "text": [
      "Difference between u_jpl and u_jpl2 method:\n",
      "Norm of difference =  0.319307 = 18.295 degrees\n"
     ]
    }
   ],
   "source": [
    "# Calculation in a single step using coordinate transformations.\n",
    "# don't need the distance, just the RA and the Dec!\n",
    "ast_geo2 = SkyCoord(ra=ra, dec=dec, distance=one_au, obstime=obstime, frame=GCRS)\n",
    "u_jpl2 = ast_geo2.transform_to(frame_solar).cartesian.xyz.value\n",
    "u_jpl2 = u_jpl2 / np.linalg.norm(u_jpl2)\n",
    "norm_diff = np.linalg.norm(u_jpl2 - u_jpl)\n",
    "print(f'Difference between u_jpl and u_jpl2 method:')\n",
    "print(f'Norm of difference =  {norm_diff:8.6f} = {np.rad2deg(norm_diff):5.3f} degrees')"
   ]
  },
  {
   "cell_type": "markdown",
   "metadata": {},
   "source": [
    "For some reason (not sure why) the direct transformation in one step isn't matching the explicit procedure.\n",
    "The results above are way off."
   ]
  },
  {
   "cell_type": "code",
   "execution_count": 17,
   "metadata": {},
   "outputs": [
    {
     "data": {
      "text/plain": [
       "array([-0.287882, -0.953112,  0.093281])"
      ]
     },
     "execution_count": 17,
     "metadata": {},
     "output_type": "execute_result"
    }
   ],
   "source": [
    "# Calculation in a single step using coordinate transformations.\n",
    "# don't need the distance, just the RA and the Dec!\n",
    "ast_geo2 = SkyCoord(ra=ra, dec=dec, distance=one_au, obstime=obstime, frame=ICRS)\n",
    "u_jpl2 = ast_geo2.transform_to(frame_solar).cartesian.xyz.value\n",
    "u_jpl2 = u_jpl2 / np.linalg.norm(u_jpl2)\n",
    "np.round(u_jpl2, 6)"
   ]
  },
  {
   "cell_type": "markdown",
   "metadata": {},
   "source": [
    "Changing the frame from GCRS to ICRS in this part gets it much closer, but it's still a bit off."
   ]
  },
  {
   "cell_type": "code",
   "execution_count": 18,
   "metadata": {},
   "outputs": [
    {
     "name": "stdout",
     "output_type": "stream",
     "text": [
      "Difference between u_jpl and u_jpl2 method:\n",
      "Norm of difference =  0.003952 = 0.226 degrees\n"
     ]
    }
   ],
   "source": [
    "norm_diff = np.linalg.norm(u_jpl2 - u_jpl)\n",
    "print(f'Difference between u_jpl and u_jpl2 method:')\n",
    "print(f'Norm of difference =  {norm_diff:8.6f} = {np.rad2deg(norm_diff):5.3f} degrees')"
   ]
  },
  {
   "cell_type": "markdown",
   "metadata": {},
   "source": [
    "**Unit Direction of Ceres Using Heliocentric Latitude & Longitude from JPL**"
   ]
  },
  {
   "cell_type": "code",
   "execution_count": 19,
   "metadata": {},
   "outputs": [],
   "source": [
    "# Heliocentric coordinates of Ceres and Earth\n",
    "ast_hel2 = SkyCoord(lon=ast_hel_lon, lat=ast_hel_lat, distance=ast_r, obstime=obstime, frame=frame_solar)\n",
    "earth_hel2 = SkyCoord(lon=earth_hel_lon, lat=earth_hel_lat, distance=earth_r, obstime=obstime, frame=frame_solar)\n",
    "\n",
    "# Cartesian vectors\n",
    "ast_jpl2 = ast_hel2.cartesian.xyz.value\n",
    "earth_jpl2 = earth_hel2.cartesian.xyz.value\n",
    "rel_jpl2 = ast_jpl2 - earth_jpl2\n",
    "u_jpl2 = rel_jpl2 / np.linalg.norm(rel_jpl2)"
   ]
  },
  {
   "cell_type": "code",
   "execution_count": 20,
   "metadata": {},
   "outputs": [
    {
     "name": "stdout",
     "output_type": "stream",
     "text": [
      "Heliocentric Cartesian coordinates from JPL Heliocentric Coordinate Data:\n",
      "Ceres:     (-1.35665161, -2.37260154, 0.17539385) AU\n",
      "Earth:     (-0.81213439, -0.59428369, 2.98589325e-05) AU\n",
      "Relative:  [-0.54451722 -1.77831785  0.17536399]\n",
      "Direction: [-0.29148734 -0.95195729  0.09387469]\n"
     ]
    }
   ],
   "source": [
    "print(f'Heliocentric Cartesian coordinates from JPL Heliocentric Coordinate Data:')\n",
    "print('Ceres:    ', ast_hel2.cartesian)\n",
    "print('Earth:    ', earth_hel2.cartesian)\n",
    "print('Relative: ', rel_jpl2)\n",
    "print('Direction:', u_jpl2)"
   ]
  },
  {
   "cell_type": "code",
   "execution_count": 21,
   "metadata": {},
   "outputs": [
    {
     "data": {
      "text/plain": [
       "array([-1.35182396, -2.37951197,  0.17540461])"
      ]
     },
     "execution_count": 21,
     "metadata": {},
     "output_type": "execute_result"
    }
   ],
   "source": [
    "ast_jpl"
   ]
  },
  {
   "cell_type": "code",
   "execution_count": 22,
   "metadata": {},
   "outputs": [
    {
     "data": {
      "text/plain": [
       "array([-1.35665161, -2.37260154,  0.17539385])"
      ]
     },
     "execution_count": 22,
     "metadata": {},
     "output_type": "execute_result"
    }
   ],
   "source": [
    "ast_jpl2"
   ]
  },
  {
   "cell_type": "markdown",
   "metadata": {},
   "source": [
    "**Compare two methods of Using JPL Data to Generate Directions**"
   ]
  },
  {
   "cell_type": "code",
   "execution_count": 23,
   "metadata": {},
   "outputs": [
    {
     "name": "stdout",
     "output_type": "stream",
     "text": [
      "Difference in position (heliocentric long/lat - RA/DEC)\n",
      "Asteroid  : norm=8.43e-03 AU\n",
      "Earth     : norm=8.64e-03 AU\n",
      "Rel       : norm=2.33e-04 AU\n",
      "Direction : norm=1.21e-04 / 0.0069 degrees\n",
      "Asteroid:  [-4.82764399e-03  6.91043089e-03 -1.07572755e-05]\n",
      "Earth    : [-5.02445987e-03  7.03483064e-03 -8.38420036e-07]\n",
      "Rel      : [ 1.96815885e-04 -1.24399748e-04 -9.91885545e-06]\n"
     ]
    }
   ],
   "source": [
    "# Compare two methods \n",
    "diff_ast = ast_jpl2 - ast_jpl\n",
    "diff_earth = earth_jpl2 - earth_jpl\n",
    "diff_rel = rel_jpl2 - rel_jpl\n",
    "diff_u = u_jpl2 - u_jpl\n",
    "diff_u_norm = np.linalg.norm(diff_u)\n",
    "\n",
    "print(f'Difference in position (heliocentric long/lat - RA/DEC)')\n",
    "print(f'Asteroid  : norm={np.linalg.norm(diff_ast):5.2e} AU')\n",
    "print(f'Earth     : norm={np.linalg.norm(diff_earth):5.2e} AU')\n",
    "print(f'Rel       : norm={np.linalg.norm(diff_rel):5.2e} AU')\n",
    "print(f'Direction : norm={diff_u_norm:5.2e} / {np.rad2deg(diff_u_norm):6.4f} degrees')\n",
    "print(f'Asteroid: ', diff_ast)\n",
    "print('Earth    :', diff_earth)\n",
    "print('Rel      :', diff_rel)"
   ]
  },
  {
   "cell_type": "code",
   "execution_count": 24,
   "metadata": {},
   "outputs": [
    {
     "data": {
      "text/plain": [
       "<CartesianRepresentation (x, y, z) in AU\n",
       "    (-0.00482764, 0.00691043, -1.07572755e-05)>"
      ]
     },
     "execution_count": 24,
     "metadata": {},
     "output_type": "execute_result"
    }
   ],
   "source": [
    "ast_hel2.cartesian - ast_hel.cartesian"
   ]
  },
  {
   "cell_type": "markdown",
   "metadata": {},
   "source": [
    "**MSE Integrated Coordinates of Ceres at 58600.5**"
   ]
  },
  {
   "cell_type": "code",
   "execution_count": 25,
   "metadata": {},
   "outputs": [],
   "source": [
    "ast_elt = asteroid_integrate.load_data()"
   ]
  },
  {
   "cell_type": "code",
   "execution_count": 26,
   "metadata": {},
   "outputs": [],
   "source": [
    "inputs, outputs = make_data_one_file(0, 1000)"
   ]
  },
  {
   "cell_type": "code",
   "execution_count": 27,
   "metadata": {},
   "outputs": [
    {
     "data": {
      "text/plain": [
       "dict_keys(['a', 'e', 'inc', 'Omega', 'omega', 'f', 'epoch', 'ts'])"
      ]
     },
     "execution_count": 27,
     "metadata": {},
     "output_type": "execute_result"
    }
   ],
   "source": [
    "inputs.keys()"
   ]
  },
  {
   "cell_type": "code",
   "execution_count": 28,
   "metadata": {},
   "outputs": [
    {
     "data": {
      "text/plain": [
       "dict_keys(['q', 'v', 'u'])"
      ]
     },
     "execution_count": 28,
     "metadata": {},
     "output_type": "execute_result"
    }
   ],
   "source": [
    "outputs.keys()"
   ]
  },
  {
   "cell_type": "code",
   "execution_count": 29,
   "metadata": {},
   "outputs": [
    {
     "data": {
      "text/plain": [
       "datetime.date(2019, 4, 27)"
      ]
     },
     "execution_count": 29,
     "metadata": {},
     "output_type": "execute_result"
    }
   ],
   "source": [
    "astro_utils.mjd_to_date(int(obstime_mjd))"
   ]
  },
  {
   "cell_type": "code",
   "execution_count": 30,
   "metadata": {},
   "outputs": [
    {
     "data": {
      "text/plain": [
       "datetime.datetime(2019, 4, 27, 12, 0)"
      ]
     },
     "execution_count": 30,
     "metadata": {},
     "output_type": "execute_result"
    }
   ],
   "source": [
    "astro_utils.mjd_to_datetime(obstime_mjd)"
   ]
  },
  {
   "cell_type": "code",
   "execution_count": 31,
   "metadata": {},
   "outputs": [
    {
     "data": {
      "text/html": [
       "<div>\n",
       "<style scoped>\n",
       "    .dataframe tbody tr th:only-of-type {\n",
       "        vertical-align: middle;\n",
       "    }\n",
       "\n",
       "    .dataframe tbody tr th {\n",
       "        vertical-align: top;\n",
       "    }\n",
       "\n",
       "    .dataframe thead th {\n",
       "        text-align: right;\n",
       "    }\n",
       "</style>\n",
       "<table border=\"1\" class=\"dataframe\">\n",
       "  <thead>\n",
       "    <tr style=\"text-align: right;\">\n",
       "      <th></th>\n",
       "      <th>Num</th>\n",
       "      <th>Name</th>\n",
       "      <th>epoch_mjd</th>\n",
       "      <th>a</th>\n",
       "      <th>e</th>\n",
       "      <th>inc</th>\n",
       "      <th>Omega</th>\n",
       "      <th>omega</th>\n",
       "      <th>M</th>\n",
       "      <th>H</th>\n",
       "      <th>G</th>\n",
       "      <th>Ref</th>\n",
       "      <th>f</th>\n",
       "      <th>P</th>\n",
       "      <th>n</th>\n",
       "      <th>long</th>\n",
       "      <th>theta</th>\n",
       "      <th>pomega</th>\n",
       "      <th>T_peri</th>\n",
       "    </tr>\n",
       "    <tr>\n",
       "      <th>Num</th>\n",
       "      <th></th>\n",
       "      <th></th>\n",
       "      <th></th>\n",
       "      <th></th>\n",
       "      <th></th>\n",
       "      <th></th>\n",
       "      <th></th>\n",
       "      <th></th>\n",
       "      <th></th>\n",
       "      <th></th>\n",
       "      <th></th>\n",
       "      <th></th>\n",
       "      <th></th>\n",
       "      <th></th>\n",
       "      <th></th>\n",
       "      <th></th>\n",
       "      <th></th>\n",
       "      <th></th>\n",
       "      <th></th>\n",
       "    </tr>\n",
       "  </thead>\n",
       "  <tbody>\n",
       "    <tr>\n",
       "      <td>1</td>\n",
       "      <td>1</td>\n",
       "      <td>Ceres</td>\n",
       "      <td>58600.0</td>\n",
       "      <td>2.769165</td>\n",
       "      <td>0.076009</td>\n",
       "      <td>0.184901</td>\n",
       "      <td>1.401596</td>\n",
       "      <td>1.284522</td>\n",
       "      <td>1.350398</td>\n",
       "      <td>3.34</td>\n",
       "      <td>0.12</td>\n",
       "      <td>JPL 46</td>\n",
       "      <td>1.501306</td>\n",
       "      <td>1683.145749</td>\n",
       "      <td>0.003733</td>\n",
       "      <td>4.036516</td>\n",
       "      <td>4.187424</td>\n",
       "      <td>2.686118</td>\n",
       "      <td>-361.745873</td>\n",
       "    </tr>\n",
       "    <tr>\n",
       "      <td>2</td>\n",
       "      <td>2</td>\n",
       "      <td>Pallas</td>\n",
       "      <td>58600.0</td>\n",
       "      <td>2.772466</td>\n",
       "      <td>0.230337</td>\n",
       "      <td>0.608007</td>\n",
       "      <td>3.020817</td>\n",
       "      <td>5.411373</td>\n",
       "      <td>1.041946</td>\n",
       "      <td>4.13</td>\n",
       "      <td>0.11</td>\n",
       "      <td>JPL 35</td>\n",
       "      <td>1.490912</td>\n",
       "      <td>1686.155979</td>\n",
       "      <td>0.003726</td>\n",
       "      <td>3.190951</td>\n",
       "      <td>3.639917</td>\n",
       "      <td>2.149005</td>\n",
       "      <td>-279.616804</td>\n",
       "    </tr>\n",
       "    <tr>\n",
       "      <td>3</td>\n",
       "      <td>3</td>\n",
       "      <td>Juno</td>\n",
       "      <td>58600.0</td>\n",
       "      <td>2.669150</td>\n",
       "      <td>0.256942</td>\n",
       "      <td>0.226699</td>\n",
       "      <td>2.964490</td>\n",
       "      <td>4.330836</td>\n",
       "      <td>0.609557</td>\n",
       "      <td>5.33</td>\n",
       "      <td>0.32</td>\n",
       "      <td>JPL 108</td>\n",
       "      <td>0.996719</td>\n",
       "      <td>1592.787270</td>\n",
       "      <td>0.003945</td>\n",
       "      <td>1.621697</td>\n",
       "      <td>2.008860</td>\n",
       "      <td>1.012141</td>\n",
       "      <td>-154.522558</td>\n",
       "    </tr>\n",
       "    <tr>\n",
       "      <td>4</td>\n",
       "      <td>4</td>\n",
       "      <td>Vesta</td>\n",
       "      <td>58600.0</td>\n",
       "      <td>2.361418</td>\n",
       "      <td>0.088721</td>\n",
       "      <td>0.124647</td>\n",
       "      <td>1.811840</td>\n",
       "      <td>2.630709</td>\n",
       "      <td>1.673106</td>\n",
       "      <td>3.20</td>\n",
       "      <td>0.32</td>\n",
       "      <td>JPL 34</td>\n",
       "      <td>-4.436417</td>\n",
       "      <td>1325.432768</td>\n",
       "      <td>0.004740</td>\n",
       "      <td>6.115656</td>\n",
       "      <td>0.006132</td>\n",
       "      <td>4.442550</td>\n",
       "      <td>-352.940421</td>\n",
       "    </tr>\n",
       "    <tr>\n",
       "      <td>5</td>\n",
       "      <td>5</td>\n",
       "      <td>Astraea</td>\n",
       "      <td>58600.0</td>\n",
       "      <td>2.574249</td>\n",
       "      <td>0.191095</td>\n",
       "      <td>0.093672</td>\n",
       "      <td>2.470978</td>\n",
       "      <td>6.260280</td>\n",
       "      <td>4.928221</td>\n",
       "      <td>6.85</td>\n",
       "      <td>0.15</td>\n",
       "      <td>JPL 108</td>\n",
       "      <td>-1.738676</td>\n",
       "      <td>1508.600442</td>\n",
       "      <td>0.004165</td>\n",
       "      <td>1.093108</td>\n",
       "      <td>0.709396</td>\n",
       "      <td>2.448072</td>\n",
       "      <td>325.328481</td>\n",
       "    </tr>\n",
       "    <tr>\n",
       "      <td>...</td>\n",
       "      <td>...</td>\n",
       "      <td>...</td>\n",
       "      <td>...</td>\n",
       "      <td>...</td>\n",
       "      <td>...</td>\n",
       "      <td>...</td>\n",
       "      <td>...</td>\n",
       "      <td>...</td>\n",
       "      <td>...</td>\n",
       "      <td>...</td>\n",
       "      <td>...</td>\n",
       "      <td>...</td>\n",
       "      <td>...</td>\n",
       "      <td>...</td>\n",
       "      <td>...</td>\n",
       "      <td>...</td>\n",
       "      <td>...</td>\n",
       "      <td>...</td>\n",
       "      <td>...</td>\n",
       "    </tr>\n",
       "    <tr>\n",
       "      <td>541124</td>\n",
       "      <td>541124</td>\n",
       "      <td>2018 RP23</td>\n",
       "      <td>58600.0</td>\n",
       "      <td>2.586399</td>\n",
       "      <td>0.289358</td>\n",
       "      <td>0.088749</td>\n",
       "      <td>2.000720</td>\n",
       "      <td>3.913328</td>\n",
       "      <td>1.075531</td>\n",
       "      <td>17.30</td>\n",
       "      <td>0.15</td>\n",
       "      <td>JPL 7</td>\n",
       "      <td>1.654537</td>\n",
       "      <td>1519.293350</td>\n",
       "      <td>0.004136</td>\n",
       "      <td>0.706394</td>\n",
       "      <td>1.285400</td>\n",
       "      <td>-0.369137</td>\n",
       "      <td>-260.066715</td>\n",
       "    </tr>\n",
       "    <tr>\n",
       "      <td>541125</td>\n",
       "      <td>541125</td>\n",
       "      <td>2018 RV23</td>\n",
       "      <td>58600.0</td>\n",
       "      <td>3.113036</td>\n",
       "      <td>0.213678</td>\n",
       "      <td>0.203046</td>\n",
       "      <td>0.544794</td>\n",
       "      <td>0.242079</td>\n",
       "      <td>0.130760</td>\n",
       "      <td>16.10</td>\n",
       "      <td>0.15</td>\n",
       "      <td>JPL 8</td>\n",
       "      <td>0.206083</td>\n",
       "      <td>2006.201725</td>\n",
       "      <td>0.003132</td>\n",
       "      <td>0.917633</td>\n",
       "      <td>0.992956</td>\n",
       "      <td>0.786873</td>\n",
       "      <td>-41.751113</td>\n",
       "    </tr>\n",
       "    <tr>\n",
       "      <td>541126</td>\n",
       "      <td>541126</td>\n",
       "      <td>2018 RP24</td>\n",
       "      <td>58600.0</td>\n",
       "      <td>2.453880</td>\n",
       "      <td>0.176693</td>\n",
       "      <td>0.194504</td>\n",
       "      <td>2.649626</td>\n",
       "      <td>3.695880</td>\n",
       "      <td>0.937231</td>\n",
       "      <td>17.30</td>\n",
       "      <td>0.15</td>\n",
       "      <td>JPL 6</td>\n",
       "      <td>1.258854</td>\n",
       "      <td>1404.036362</td>\n",
       "      <td>0.004475</td>\n",
       "      <td>0.999551</td>\n",
       "      <td>1.321174</td>\n",
       "      <td>0.062320</td>\n",
       "      <td>-209.433076</td>\n",
       "    </tr>\n",
       "    <tr>\n",
       "      <td>541127</td>\n",
       "      <td>541127</td>\n",
       "      <td>2018 RL26</td>\n",
       "      <td>58600.0</td>\n",
       "      <td>3.081248</td>\n",
       "      <td>0.081239</td>\n",
       "      <td>0.193310</td>\n",
       "      <td>2.381747</td>\n",
       "      <td>3.426307</td>\n",
       "      <td>1.047446</td>\n",
       "      <td>16.00</td>\n",
       "      <td>0.15</td>\n",
       "      <td>JPL 6</td>\n",
       "      <td>1.195142</td>\n",
       "      <td>1975.551358</td>\n",
       "      <td>0.003180</td>\n",
       "      <td>0.572315</td>\n",
       "      <td>0.720011</td>\n",
       "      <td>-0.475131</td>\n",
       "      <td>-329.336645</td>\n",
       "    </tr>\n",
       "    <tr>\n",
       "      <td>541128</td>\n",
       "      <td>541128</td>\n",
       "      <td>2018 RB27</td>\n",
       "      <td>58600.0</td>\n",
       "      <td>2.934075</td>\n",
       "      <td>0.064910</td>\n",
       "      <td>0.216796</td>\n",
       "      <td>0.496382</td>\n",
       "      <td>5.871405</td>\n",
       "      <td>0.468771</td>\n",
       "      <td>15.50</td>\n",
       "      <td>0.15</td>\n",
       "      <td>JPL 4</td>\n",
       "      <td>0.531942</td>\n",
       "      <td>1835.714944</td>\n",
       "      <td>0.003423</td>\n",
       "      <td>0.553374</td>\n",
       "      <td>0.616544</td>\n",
       "      <td>0.084602</td>\n",
       "      <td>-136.957715</td>\n",
       "    </tr>\n",
       "  </tbody>\n",
       "</table>\n",
       "<p>541073 rows × 19 columns</p>\n",
       "</div>"
      ],
      "text/plain": [
       "           Num       Name  epoch_mjd         a         e       inc     Omega  \\\n",
       "Num                                                                            \n",
       "1            1      Ceres    58600.0  2.769165  0.076009  0.184901  1.401596   \n",
       "2            2     Pallas    58600.0  2.772466  0.230337  0.608007  3.020817   \n",
       "3            3       Juno    58600.0  2.669150  0.256942  0.226699  2.964490   \n",
       "4            4      Vesta    58600.0  2.361418  0.088721  0.124647  1.811840   \n",
       "5            5    Astraea    58600.0  2.574249  0.191095  0.093672  2.470978   \n",
       "...        ...        ...        ...       ...       ...       ...       ...   \n",
       "541124  541124  2018 RP23    58600.0  2.586399  0.289358  0.088749  2.000720   \n",
       "541125  541125  2018 RV23    58600.0  3.113036  0.213678  0.203046  0.544794   \n",
       "541126  541126  2018 RP24    58600.0  2.453880  0.176693  0.194504  2.649626   \n",
       "541127  541127  2018 RL26    58600.0  3.081248  0.081239  0.193310  2.381747   \n",
       "541128  541128  2018 RB27    58600.0  2.934075  0.064910  0.216796  0.496382   \n",
       "\n",
       "           omega         M      H     G      Ref         f            P  \\\n",
       "Num                                                                       \n",
       "1       1.284522  1.350398   3.34  0.12   JPL 46  1.501306  1683.145749   \n",
       "2       5.411373  1.041946   4.13  0.11   JPL 35  1.490912  1686.155979   \n",
       "3       4.330836  0.609557   5.33  0.32  JPL 108  0.996719  1592.787270   \n",
       "4       2.630709  1.673106   3.20  0.32   JPL 34 -4.436417  1325.432768   \n",
       "5       6.260280  4.928221   6.85  0.15  JPL 108 -1.738676  1508.600442   \n",
       "...          ...       ...    ...   ...      ...       ...          ...   \n",
       "541124  3.913328  1.075531  17.30  0.15    JPL 7  1.654537  1519.293350   \n",
       "541125  0.242079  0.130760  16.10  0.15    JPL 8  0.206083  2006.201725   \n",
       "541126  3.695880  0.937231  17.30  0.15    JPL 6  1.258854  1404.036362   \n",
       "541127  3.426307  1.047446  16.00  0.15    JPL 6  1.195142  1975.551358   \n",
       "541128  5.871405  0.468771  15.50  0.15    JPL 4  0.531942  1835.714944   \n",
       "\n",
       "               n      long     theta    pomega      T_peri  \n",
       "Num                                                         \n",
       "1       0.003733  4.036516  4.187424  2.686118 -361.745873  \n",
       "2       0.003726  3.190951  3.639917  2.149005 -279.616804  \n",
       "3       0.003945  1.621697  2.008860  1.012141 -154.522558  \n",
       "4       0.004740  6.115656  0.006132  4.442550 -352.940421  \n",
       "5       0.004165  1.093108  0.709396  2.448072  325.328481  \n",
       "...          ...       ...       ...       ...         ...  \n",
       "541124  0.004136  0.706394  1.285400 -0.369137 -260.066715  \n",
       "541125  0.003132  0.917633  0.992956  0.786873  -41.751113  \n",
       "541126  0.004475  0.999551  1.321174  0.062320 -209.433076  \n",
       "541127  0.003180  0.572315  0.720011 -0.475131 -329.336645  \n",
       "541128  0.003423  0.553374  0.616544  0.084602 -136.957715  \n",
       "\n",
       "[541073 rows x 19 columns]"
      ]
     },
     "execution_count": 31,
     "metadata": {},
     "output_type": "execute_result"
    }
   ],
   "source": [
    "ast_elt"
   ]
  },
  {
   "cell_type": "code",
   "execution_count": 77,
   "metadata": {},
   "outputs": [],
   "source": [
    "# Index for Ceres\n",
    "idx_ast = np.where(ast_elt.Name=='Ceres')\n",
    "\n",
    "# Get the index for observation time\n",
    "ts = inputs['ts'][idx_ast].flatten()\n",
    "\n",
    "# Correct horrible mistake where the MJD timestamps in MSE file are all too low by 0.5\n",
    "ts = ts + 0.5"
   ]
  },
  {
   "cell_type": "code",
   "execution_count": 78,
   "metadata": {},
   "outputs": [
    {
     "data": {
      "text/plain": [
       "array([51544.5, 51545.5, 51546.5, ..., 66517.5, 66518.5, 66519.5],\n",
       "      dtype=float32)"
      ]
     },
     "execution_count": 78,
     "metadata": {},
     "output_type": "execute_result"
    }
   ],
   "source": [
    "ts"
   ]
  },
  {
   "cell_type": "code",
   "execution_count": 79,
   "metadata": {},
   "outputs": [],
   "source": [
    "# Index of observation time <= obs_time\n",
    "idx_t = np.searchsorted(ts, obstime_mjd-0.5)"
   ]
  },
  {
   "cell_type": "code",
   "execution_count": 80,
   "metadata": {},
   "outputs": [
    {
     "name": "stdout",
     "output_type": "stream",
     "text": [
      "t0:       58600.5\n",
      "t1:       58601.5\n",
      "obstime,  58600.5\n",
      "w0:  1.0\n",
      "w1:  0.0\n"
     ]
    }
   ],
   "source": [
    "t0 = ts[idx_t].item()\n",
    "t1 = ts[idx_t+1].item()\n",
    "w0 = (t1 - obstime_mjd) / (t1 - t0 )\n",
    "w1 = (obstime_mjd - t0) / (t1 - t0)\n",
    "print(f't0:      ', t0)\n",
    "print(f't1:      ', t1)\n",
    "print(f'obstime, ', obstime_mjd)\n",
    "print(f'w0: ', w0)\n",
    "print(f'w1: ', w1)"
   ]
  },
  {
   "cell_type": "code",
   "execution_count": 81,
   "metadata": {},
   "outputs": [],
   "source": [
    "# Interpolated asteroid positions as observation time\n",
    "q0 = outputs['q'][:, idx_t]\n",
    "q1 = outputs['q'][:, idx_t+1]\n",
    "q = w0 * q0 + w1 * q1"
   ]
  },
  {
   "cell_type": "code",
   "execution_count": 82,
   "metadata": {},
   "outputs": [
    {
     "data": {
      "text/plain": [
       "array([-1.356567, -2.37266 ,  0.175377], dtype=float32)"
      ]
     },
     "execution_count": 82,
     "metadata": {},
     "output_type": "execute_result"
    }
   ],
   "source": [
    "# Predicted position and direction of ceres\n",
    "ast_mse = q[idx_ast].flatten()\n",
    "np.round(ast_mse,6)"
   ]
  },
  {
   "cell_type": "code",
   "execution_count": 83,
   "metadata": {},
   "outputs": [],
   "source": [
    "earth_mse = get_earth_pos(obstime_mjd)"
   ]
  },
  {
   "cell_type": "code",
   "execution_count": 84,
   "metadata": {},
   "outputs": [
    {
     "data": {
      "text/plain": [
       "array([-8.07118e-01, -6.01307e-01,  3.10000e-05])"
      ]
     },
     "execution_count": 84,
     "metadata": {},
     "output_type": "execute_result"
    }
   ],
   "source": [
    "np.round(earth_mse, 6)"
   ]
  },
  {
   "cell_type": "code",
   "execution_count": 85,
   "metadata": {},
   "outputs": [
    {
     "data": {
      "text/plain": [
       "array([-0.549449, -1.771353,  0.175346])"
      ]
     },
     "execution_count": 85,
     "metadata": {},
     "output_type": "execute_result"
    }
   ],
   "source": [
    "rel_mse = ast_mse - earth_mse\n",
    "np.round(rel_mse, 6)"
   ]
  },
  {
   "cell_type": "code",
   "execution_count": 86,
   "metadata": {},
   "outputs": [
    {
     "data": {
      "text/plain": [
       "array([-0.294946, -0.950867,  0.094126])"
      ]
     },
     "execution_count": 86,
     "metadata": {},
     "output_type": "execute_result"
    }
   ],
   "source": [
    "u_mse2 = rel_mse / np.linalg.norm(rel_mse)\n",
    "np.round(u_mse2, 6)"
   ]
  },
  {
   "cell_type": "code",
   "execution_count": 87,
   "metadata": {},
   "outputs": [
    {
     "data": {
      "text/plain": [
       "array([-0.291472, -0.951963,  0.093866], dtype=float32)"
      ]
     },
     "execution_count": 87,
     "metadata": {},
     "output_type": "execute_result"
    }
   ],
   "source": [
    "# MSE direction via lookup of output field u\n",
    "u0 = outputs['u'][:, idx_t]\n",
    "u1 = outputs['u'][:, idx_t+1]\n",
    "u = w0 * u0 + w1 * u1\n",
    "u_mse = u[idx_ast].flatten()\n",
    "np.round(u_mse, 6)"
   ]
  },
  {
   "cell_type": "code",
   "execution_count": 88,
   "metadata": {},
   "outputs": [
    {
     "data": {
      "text/plain": [
       "0.0036519647165336048"
      ]
     },
     "execution_count": 88,
     "metadata": {},
     "output_type": "execute_result"
    }
   ],
   "source": [
    "# Demonstrate that two methods of getting direction vector from MSE essentially identical\n",
    "np.linalg.norm(u_mse - u_mse2)"
   ]
  },
  {
   "cell_type": "code",
   "execution_count": 89,
   "metadata": {},
   "outputs": [
    {
     "name": "stdout",
     "output_type": "stream",
     "text": [
      "Heliocentric Cartesian coordinates from MSE Integration:\n",
      "Ceres:    [-1.3565673  -2.3726602   0.17537652]\n",
      "Earth:    [-8.07117964e-01 -6.01307376e-01  3.06978658e-05]\n",
      "Relative: [-0.5494493  -1.77135278  0.17534582]\n",
      "Direction: [-0.2914719  -0.9519628   0.09386639]\n"
     ]
    }
   ],
   "source": [
    "print(f'Heliocentric Cartesian coordinates from MSE Integration:')\n",
    "print('Ceres:   ', ast_mse)\n",
    "print('Earth:   ', earth_mse)\n",
    "print('Relative:', rel_mse)\n",
    "print('Direction:', u_mse)"
   ]
  },
  {
   "cell_type": "markdown",
   "metadata": {},
   "source": [
    "**Compare MSE Calculations to JPL Using RA / DEC**"
   ]
  },
  {
   "cell_type": "code",
   "execution_count": 90,
   "metadata": {},
   "outputs": [
    {
     "name": "stdout",
     "output_type": "stream",
     "text": [
      "ast_err:  [-4.74329871e-03  6.85181370e-03 -2.80875070e-05]\n",
      "norm ast_err = 8.33e-03\n"
     ]
    }
   ],
   "source": [
    "ast_err = ast_mse - ast_jpl\n",
    "ast_err_norm = np.linalg.norm(ast_err)\n",
    "print('ast_err: ', ast_err)\n",
    "print(f'norm ast_err = {ast_err_norm:5.2e}')"
   ]
  },
  {
   "cell_type": "code",
   "execution_count": 91,
   "metadata": {},
   "outputs": [
    {
     "name": "stdout",
     "output_type": "stream",
     "text": [
      "earth_err:  [-8.03812650e-06  1.11431126e-05  5.13274696e-10]\n",
      "norm earth_err = 1.37e-05\n"
     ]
    }
   ],
   "source": [
    "earth_err = earth_mse - earth_jpl\n",
    "earth_err_norm = np.linalg.norm(earth_err)\n",
    "print('earth_err: ', earth_err)\n",
    "print(f'norm earth_err = {earth_err_norm:5.2e}')"
   ]
  },
  {
   "cell_type": "code",
   "execution_count": 92,
   "metadata": {},
   "outputs": [
    {
     "name": "stdout",
     "output_type": "stream",
     "text": [
      "rel_err:  [-4.73526059e-03  6.84067059e-03 -2.80880202e-05]\n",
      "norm rel_err = 8.32e-03\n"
     ]
    }
   ],
   "source": [
    "rel_err = rel_mse - rel_jpl\n",
    "rel_err_norm = np.linalg.norm(rel_err)\n",
    "print('rel_err: ', rel_err)\n",
    "print(f'norm rel_err = {rel_err_norm:5.2e}')"
   ]
  },
  {
   "cell_type": "code",
   "execution_count": 93,
   "metadata": {},
   "outputs": [
    {
     "name": "stdout",
     "output_type": "stream",
     "text": [
      "direction_err:  [ 1.30180860e-04 -4.15048835e-05 -1.66303317e-05]\n",
      "norm direction_err = 1.38e-04\n",
      "in degrees = 0.0079\n"
     ]
    }
   ],
   "source": [
    "u_err = u_mse - u_jpl\n",
    "u_err_norm = np.linalg.norm(u_err)\n",
    "print('direction_err: ', u_err)\n",
    "print(f'norm direction_err = {u_err_norm:5.2e}')\n",
    "print(f'in degrees = {np.rad2deg(u_err_norm):6.4f}')"
   ]
  },
  {
   "cell_type": "markdown",
   "metadata": {},
   "source": [
    "**Compare MSE Calculations to JPL Using Heliocentric Long/Lat**"
   ]
  },
  {
   "cell_type": "code",
   "execution_count": null,
   "metadata": {},
   "outputs": [],
   "source": [
    "ast_err2 = ast_mse - ast_jpl2\n",
    "ast_err_norm2 = np.linalg.norm(ast_err2)\n",
    "print('ast_err2: ', ast_err2)\n",
    "print(f'norm ast_err2 = {ast_err_norm2:5.2e}')"
   ]
  },
  {
   "cell_type": "code",
   "execution_count": null,
   "metadata": {},
   "outputs": [],
   "source": [
    "earth_err2 = earth_mse - earth_jpl2\n",
    "earth_err_norm2 = np.linalg.norm(earth_err2)\n",
    "print('earth_err2: ', earth_err2)\n",
    "print(f'norm earth_err2 = {earth_err_norm2:5.2e}')"
   ]
  },
  {
   "cell_type": "code",
   "execution_count": null,
   "metadata": {},
   "outputs": [],
   "source": [
    "rel_err2 = rel_mse - rel_jpl2\n",
    "rel_err2_norm = np.linalg.norm(rel_err2)\n",
    "print('rel_err2: ', rel_err2)\n",
    "print(f'norm rel_err2 = {rel_err2_norm:5.2e}')"
   ]
  },
  {
   "cell_type": "markdown",
   "metadata": {},
   "source": [
    "Errors using heliocentric long / lat are slightly higher than using direct RA / DEC transformation."
   ]
  }
 ],
 "metadata": {
  "kernelspec": {
   "display_name": "Python [conda env:kepler]",
   "language": "python",
   "name": "conda-env-kepler-py"
  },
  "language_info": {
   "codemirror_mode": {
    "name": "ipython",
    "version": 3
   },
   "file_extension": ".py",
   "mimetype": "text/x-python",
   "name": "python",
   "nbconvert_exporter": "python",
   "pygments_lexer": "ipython3",
   "version": "3.7.4"
  }
 },
 "nbformat": 4,
 "nbformat_minor": 2
}
