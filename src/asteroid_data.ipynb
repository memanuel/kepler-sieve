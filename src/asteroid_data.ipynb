{
 "cells": [
  {
   "cell_type": "code",
   "execution_count": 1,
   "metadata": {},
   "outputs": [],
   "source": [
    "# library imports\n",
    "import numpy as np\n",
    "import astropy\n",
    "from astropy.coordinates import SkyCoord, GCRS, ICRS, HeliocentricMeanEcliptic, EarthLocation\n",
    "from astropy.units import deg, meter\n",
    "\n",
    "#  MSE imports\n",
    "import astro_utils\n",
    "import asteroid_integrate\n",
    "import asteroid_data\n",
    "from asteroid_data import make_data_one_file, get_earth_pos"
   ]
  },
  {
   "cell_type": "code",
   "execution_count": 2,
   "metadata": {},
   "outputs": [],
   "source": [
    "# RA and DEC of Ceres at 58600.5 according to JPL\n",
    "ra_num = 252.25008\n",
    "dec_num = -17.00954\n",
    "r_num = 1.868043\n",
    "\n",
    "# MJD of observation time\n",
    "obstime_mjd = 58600.5\n",
    "\n",
    "# Reference frames\n",
    "# https://docs.astropy.org/en/stable/api/astropy.coordinates.GCRS.html\n",
    "# https://docs.astropy.org/en/stable/api/astropy.coordinates.ICRS.html\n",
    "# frame = ICRS\n",
    "frame_earth = ICRS\n",
    "frame_solar = HeliocentricMeanEcliptic"
   ]
  },
  {
   "cell_type": "code",
   "execution_count": 3,
   "metadata": {},
   "outputs": [
    {
     "name": "stdout",
     "output_type": "stream",
     "text": [
      "geolocation of Palomar observatory:\n",
      "geoloc_palomar = (-2410346.78217658, -4758666.82504051, 3487942.97502457) m\n",
      "geoloc_palomar geodetic = GeodeticLocation(lon=<Longitude -116.863 deg>, lat=<Latitude 33.356 deg>, height=<Quantity 1706. m>)\n"
     ]
    }
   ],
   "source": [
    "# Earth location of the Palomar observatory\n",
    "geoloc_palomar_auto = EarthLocation.of_site('Palomar')\n",
    "print(f'geolocation of Palomar observatory:')\n",
    "print(f'geoloc_palomar = {geoloc_palomar_auto}')\n",
    "print(f'geoloc_palomar geodetic = {geoloc_palomar_auto.geodetic}')"
   ]
  },
  {
   "cell_type": "code",
   "execution_count": 4,
   "metadata": {},
   "outputs": [],
   "source": [
    "# For some reason, the 'nice' way to do this below leads to a bug in constructor to GCRS\n",
    "# geoloc_palomar = EarthLocation(-2410346.8, -4758666.8, 3487943, unit='m')\n",
    "\n",
    "# Workaround: extract the geolocation of the Palomar observatory using EarthLocation.of_site\n",
    "geoloc_palomar = [-2410346.78217658, -4758666.82504051, 3487942.97502457] * meter"
   ]
  },
  {
   "cell_type": "markdown",
   "metadata": {},
   "source": [
    "**Coordinates of Ceres at MJD 58600.5 as SkyCoord instance**"
   ]
  },
  {
   "cell_type": "code",
   "execution_count": 5,
   "metadata": {},
   "outputs": [],
   "source": [
    "c = SkyCoord(ra=ra_num, dec=dec_num, unit='deg', frame=frame_earth)"
   ]
  },
  {
   "cell_type": "code",
   "execution_count": 6,
   "metadata": {},
   "outputs": [],
   "source": [
    "c = SkyCoord(ra=ra_num*astropy.units.deg, dec=dec_num*astropy.units.deg, distance=r_num*astropy.units.au, frame=frame_earth)"
   ]
  },
  {
   "cell_type": "code",
   "execution_count": 7,
   "metadata": {},
   "outputs": [],
   "source": [
    "c = SkyCoord(ra=ra_num, dec=dec_num, distance=r_num, unit='deg', frame=frame_earth)"
   ]
  },
  {
   "cell_type": "code",
   "execution_count": 8,
   "metadata": {},
   "outputs": [
    {
     "name": "stdout",
     "output_type": "stream",
     "text": [
      "ra = 252.25008 deg\n",
      "dec = -17.00954 deg\n",
      "distance = 1.868043 AU\n",
      "obstime = <Time object: scale='utc' format='mjd' value=58600.5>\n"
     ]
    }
   ],
   "source": [
    "# switch from numbers to class instances\n",
    "ra = ra_num * astropy.units.deg\n",
    "dec = dec_num * astropy.units.deg\n",
    "distance = r_num * astropy.units.au\n",
    "\n",
    "# distances of zero and one AU\n",
    "zero_au = 0.0 * astropy.units.au \n",
    "one_au = 1.0 * astropy.units.au\n",
    "\n",
    "# angle of zero degrees\n",
    "zero_deg = 0.0 * astropy.units.deg\n",
    "\n",
    "# observation time\n",
    "obstime = astropy.time.Time(val=obstime_mjd, format='mjd')\n",
    "\n",
    "# display class outputs\n",
    "print(f'ra = {ra}')\n",
    "print(f'dec = {dec}')\n",
    "print(f'distance = {distance}')\n",
    "print(f'obstime = {repr(obstime)}')"
   ]
  },
  {
   "cell_type": "code",
   "execution_count": 9,
   "metadata": {},
   "outputs": [
    {
     "data": {
      "text/plain": [
       "<GCRS Coordinate (obstime=58600.5, obsgeoloc=(-2410346.78217658, -4758666.82504051, 3487942.97502457) m, obsgeovel=(0., 0., 0.) m / s): (ra, dec, distance) in (deg, deg, AU)\n",
       "    (252.25008, -17.00954, 1.868043)>"
      ]
     },
     "execution_count": 9,
     "metadata": {},
     "output_type": "execute_result"
    }
   ],
   "source": [
    "# Coordinates of Ceres in geocentric frame; include observation time & location.  \n",
    "# Use correct distance of 1.868 AU from JPL\n",
    "ast_geo = GCRS(ra=ra, dec=dec, distance=distance, obstime=obstime, obsgeoloc=geoloc_palomar)\n",
    "ast_geo"
   ]
  },
  {
   "cell_type": "code",
   "execution_count": 10,
   "metadata": {},
   "outputs": [
    {
     "data": {
      "text/plain": [
       "<GCRS Coordinate (obstime=58600.5, obsgeoloc=(-2410346.78217658, -4758666.82504051, 3487942.97502457) m, obsgeovel=(0., 0., 0.) m / s): (ra, dec, distance) in (deg, deg, AU)\n",
       "    (0., 0., 0.)>"
      ]
     },
     "execution_count": 10,
     "metadata": {},
     "output_type": "execute_result"
    }
   ],
   "source": [
    "# Coordinates of Earth in geocentric frame; this is easy, distance is zero!\n",
    "earth_geo = GCRS(ra=zero_deg, dec=zero_deg, distance=zero_au, obstime=obstime, obsgeoloc = geoloc_palomar)\n",
    "earth_geo"
   ]
  },
  {
   "cell_type": "markdown",
   "metadata": {},
   "source": [
    "**Unit direction of Ceres in ICRS (J2000) Frame**"
   ]
  },
  {
   "cell_type": "code",
   "execution_count": 11,
   "metadata": {},
   "outputs": [
    {
     "name": "stdout",
     "output_type": "stream",
     "text": [
      "q_earth_hel = (-0.80169347, -0.5909504, -0.00017422) AU\n",
      "q_ast_hel =   (-1.34641857, -2.36918041, 0.17520326) AU\n",
      "q_rel_jpl =   [-0.54472509 -1.77823001  0.17537748]\n"
     ]
    }
   ],
   "source": [
    "# Relative displacement from Earth to Ceres in the Heliocentric frame\n",
    "# This is critical, need to transform from ICRS to Heliocentric for axes to be oriented correctly\n",
    "earth_hel = earth_geo.transform_to(frame_solar)\n",
    "ast_hel = ast_geo.transform_to(frame_solar)\n",
    "q_rel_jpl = (ast_hel.cartesian - earth_hel.cartesian).xyz.value\n",
    "print(f'q_earth_hel = {earth_hel.cartesian}')\n",
    "print(f'q_ast_hel =   {ast_hel.cartesian}')\n",
    "print(f'q_rel_jpl =   {q_rel_jpl}')"
   ]
  },
  {
   "cell_type": "code",
   "execution_count": 12,
   "metadata": {},
   "outputs": [
    {
     "data": {
      "text/plain": [
       "array([-0.291602, -0.951921,  0.093883])"
      ]
     },
     "execution_count": 12,
     "metadata": {},
     "output_type": "execute_result"
    }
   ],
   "source": [
    "# Direction from earth to asteroid\n",
    "u_jpl = q_rel_jpl / np.linalg.norm(q_rel_jpl)\n",
    "np.round(u_jpl, 6)"
   ]
  },
  {
   "cell_type": "code",
   "execution_count": 13,
   "metadata": {},
   "outputs": [
    {
     "data": {
      "text/plain": [
       "array([-0.287882, -0.953112,  0.093281])"
      ]
     },
     "execution_count": 13,
     "metadata": {},
     "output_type": "execute_result"
    }
   ],
   "source": [
    "# Calculation in a single step using coordinate transformations.\n",
    "# don't need the distance, just the RA and the Dec!\n",
    "# q_ast_jpl = SkyCoord(ra=ra, dec=dec, distance=distance, obstime=obstime, obsgeoloc=geoloc_palomar, frame=frame_geo)\n",
    "q_ast_jpl = SkyCoord(ra=ra, dec=dec, distance=one_au, obstime=obstime, frame=frame_earth)\n",
    "u_jpl = q_ast_jpl.transform_to(frame_solar).cartesian.xyz.value\n",
    "u_jpl = u_jpl / np.linalg.norm(u_jpl)\n",
    "np.round(u_jpl, 6)"
   ]
  },
  {
   "cell_type": "code",
   "execution_count": 14,
   "metadata": {},
   "outputs": [
    {
     "data": {
      "text/plain": [
       "1.0"
      ]
     },
     "execution_count": 14,
     "metadata": {},
     "output_type": "execute_result"
    }
   ],
   "source": [
    "# check that this has norm 1 as expected\n",
    "np.linalg.norm(u_jpl)"
   ]
  },
  {
   "cell_type": "markdown",
   "metadata": {},
   "source": [
    "**MSE Integrated Coordinates of Ceres at 58600.5**"
   ]
  },
  {
   "cell_type": "code",
   "execution_count": 15,
   "metadata": {},
   "outputs": [],
   "source": [
    "ast_elt = asteroid_integrate.load_data()"
   ]
  },
  {
   "cell_type": "code",
   "execution_count": 16,
   "metadata": {},
   "outputs": [],
   "source": [
    "inputs, outputs = make_data_one_file(0, 1000)"
   ]
  },
  {
   "cell_type": "code",
   "execution_count": 17,
   "metadata": {},
   "outputs": [
    {
     "data": {
      "text/plain": [
       "dict_keys(['a', 'e', 'inc', 'Omega', 'omega', 'f', 'epoch', 'ts'])"
      ]
     },
     "execution_count": 17,
     "metadata": {},
     "output_type": "execute_result"
    }
   ],
   "source": [
    "inputs.keys()"
   ]
  },
  {
   "cell_type": "code",
   "execution_count": 18,
   "metadata": {},
   "outputs": [
    {
     "data": {
      "text/plain": [
       "dict_keys(['q', 'v', 'u'])"
      ]
     },
     "execution_count": 18,
     "metadata": {},
     "output_type": "execute_result"
    }
   ],
   "source": [
    "outputs.keys()"
   ]
  },
  {
   "cell_type": "code",
   "execution_count": 19,
   "metadata": {},
   "outputs": [
    {
     "data": {
      "text/plain": [
       "datetime.date(2019, 4, 27)"
      ]
     },
     "execution_count": 19,
     "metadata": {},
     "output_type": "execute_result"
    }
   ],
   "source": [
    "astro_utils.mjd_to_date(int(obstime_mjd))"
   ]
  },
  {
   "cell_type": "code",
   "execution_count": 20,
   "metadata": {},
   "outputs": [
    {
     "data": {
      "text/plain": [
       "datetime.datetime(2019, 4, 27, 12, 0)"
      ]
     },
     "execution_count": 20,
     "metadata": {},
     "output_type": "execute_result"
    }
   ],
   "source": [
    "astro_utils.mjd_to_datetime(obstime_mjd)"
   ]
  },
  {
   "cell_type": "code",
   "execution_count": 21,
   "metadata": {},
   "outputs": [
    {
     "data": {
      "text/html": [
       "<div>\n",
       "<style scoped>\n",
       "    .dataframe tbody tr th:only-of-type {\n",
       "        vertical-align: middle;\n",
       "    }\n",
       "\n",
       "    .dataframe tbody tr th {\n",
       "        vertical-align: top;\n",
       "    }\n",
       "\n",
       "    .dataframe thead th {\n",
       "        text-align: right;\n",
       "    }\n",
       "</style>\n",
       "<table border=\"1\" class=\"dataframe\">\n",
       "  <thead>\n",
       "    <tr style=\"text-align: right;\">\n",
       "      <th></th>\n",
       "      <th>Num</th>\n",
       "      <th>Name</th>\n",
       "      <th>epoch_mjd</th>\n",
       "      <th>a</th>\n",
       "      <th>e</th>\n",
       "      <th>inc</th>\n",
       "      <th>Omega</th>\n",
       "      <th>omega</th>\n",
       "      <th>M</th>\n",
       "      <th>H</th>\n",
       "      <th>G</th>\n",
       "      <th>Ref</th>\n",
       "      <th>f</th>\n",
       "      <th>P</th>\n",
       "      <th>n</th>\n",
       "      <th>long</th>\n",
       "      <th>theta</th>\n",
       "      <th>pomega</th>\n",
       "      <th>T_peri</th>\n",
       "    </tr>\n",
       "    <tr>\n",
       "      <th>Num</th>\n",
       "      <th></th>\n",
       "      <th></th>\n",
       "      <th></th>\n",
       "      <th></th>\n",
       "      <th></th>\n",
       "      <th></th>\n",
       "      <th></th>\n",
       "      <th></th>\n",
       "      <th></th>\n",
       "      <th></th>\n",
       "      <th></th>\n",
       "      <th></th>\n",
       "      <th></th>\n",
       "      <th></th>\n",
       "      <th></th>\n",
       "      <th></th>\n",
       "      <th></th>\n",
       "      <th></th>\n",
       "      <th></th>\n",
       "    </tr>\n",
       "  </thead>\n",
       "  <tbody>\n",
       "    <tr>\n",
       "      <td>1</td>\n",
       "      <td>1</td>\n",
       "      <td>Ceres</td>\n",
       "      <td>58600.0</td>\n",
       "      <td>2.769165</td>\n",
       "      <td>0.076009</td>\n",
       "      <td>0.184901</td>\n",
       "      <td>1.401596</td>\n",
       "      <td>1.284522</td>\n",
       "      <td>1.350398</td>\n",
       "      <td>3.34</td>\n",
       "      <td>0.12</td>\n",
       "      <td>JPL 46</td>\n",
       "      <td>1.501306</td>\n",
       "      <td>1683.145749</td>\n",
       "      <td>0.003733</td>\n",
       "      <td>4.036516</td>\n",
       "      <td>4.187424</td>\n",
       "      <td>2.686118</td>\n",
       "      <td>-361.745873</td>\n",
       "    </tr>\n",
       "    <tr>\n",
       "      <td>2</td>\n",
       "      <td>2</td>\n",
       "      <td>Pallas</td>\n",
       "      <td>58600.0</td>\n",
       "      <td>2.772466</td>\n",
       "      <td>0.230337</td>\n",
       "      <td>0.608007</td>\n",
       "      <td>3.020817</td>\n",
       "      <td>5.411373</td>\n",
       "      <td>1.041946</td>\n",
       "      <td>4.13</td>\n",
       "      <td>0.11</td>\n",
       "      <td>JPL 35</td>\n",
       "      <td>1.490912</td>\n",
       "      <td>1686.155979</td>\n",
       "      <td>0.003726</td>\n",
       "      <td>3.190951</td>\n",
       "      <td>3.639917</td>\n",
       "      <td>2.149005</td>\n",
       "      <td>-279.616804</td>\n",
       "    </tr>\n",
       "    <tr>\n",
       "      <td>3</td>\n",
       "      <td>3</td>\n",
       "      <td>Juno</td>\n",
       "      <td>58600.0</td>\n",
       "      <td>2.669150</td>\n",
       "      <td>0.256942</td>\n",
       "      <td>0.226699</td>\n",
       "      <td>2.964490</td>\n",
       "      <td>4.330836</td>\n",
       "      <td>0.609557</td>\n",
       "      <td>5.33</td>\n",
       "      <td>0.32</td>\n",
       "      <td>JPL 108</td>\n",
       "      <td>0.996719</td>\n",
       "      <td>1592.787270</td>\n",
       "      <td>0.003945</td>\n",
       "      <td>1.621697</td>\n",
       "      <td>2.008860</td>\n",
       "      <td>1.012141</td>\n",
       "      <td>-154.522558</td>\n",
       "    </tr>\n",
       "    <tr>\n",
       "      <td>4</td>\n",
       "      <td>4</td>\n",
       "      <td>Vesta</td>\n",
       "      <td>58600.0</td>\n",
       "      <td>2.361418</td>\n",
       "      <td>0.088721</td>\n",
       "      <td>0.124647</td>\n",
       "      <td>1.811840</td>\n",
       "      <td>2.630709</td>\n",
       "      <td>1.673106</td>\n",
       "      <td>3.20</td>\n",
       "      <td>0.32</td>\n",
       "      <td>JPL 34</td>\n",
       "      <td>-4.436417</td>\n",
       "      <td>1325.432768</td>\n",
       "      <td>0.004740</td>\n",
       "      <td>6.115656</td>\n",
       "      <td>0.006132</td>\n",
       "      <td>4.442550</td>\n",
       "      <td>-352.940421</td>\n",
       "    </tr>\n",
       "    <tr>\n",
       "      <td>5</td>\n",
       "      <td>5</td>\n",
       "      <td>Astraea</td>\n",
       "      <td>58600.0</td>\n",
       "      <td>2.574249</td>\n",
       "      <td>0.191095</td>\n",
       "      <td>0.093672</td>\n",
       "      <td>2.470978</td>\n",
       "      <td>6.260280</td>\n",
       "      <td>4.928221</td>\n",
       "      <td>6.85</td>\n",
       "      <td>0.15</td>\n",
       "      <td>JPL 108</td>\n",
       "      <td>-1.738676</td>\n",
       "      <td>1508.600442</td>\n",
       "      <td>0.004165</td>\n",
       "      <td>1.093108</td>\n",
       "      <td>0.709396</td>\n",
       "      <td>2.448072</td>\n",
       "      <td>325.328481</td>\n",
       "    </tr>\n",
       "    <tr>\n",
       "      <td>...</td>\n",
       "      <td>...</td>\n",
       "      <td>...</td>\n",
       "      <td>...</td>\n",
       "      <td>...</td>\n",
       "      <td>...</td>\n",
       "      <td>...</td>\n",
       "      <td>...</td>\n",
       "      <td>...</td>\n",
       "      <td>...</td>\n",
       "      <td>...</td>\n",
       "      <td>...</td>\n",
       "      <td>...</td>\n",
       "      <td>...</td>\n",
       "      <td>...</td>\n",
       "      <td>...</td>\n",
       "      <td>...</td>\n",
       "      <td>...</td>\n",
       "      <td>...</td>\n",
       "      <td>...</td>\n",
       "    </tr>\n",
       "    <tr>\n",
       "      <td>541124</td>\n",
       "      <td>541124</td>\n",
       "      <td>2018 RP23</td>\n",
       "      <td>58600.0</td>\n",
       "      <td>2.586399</td>\n",
       "      <td>0.289358</td>\n",
       "      <td>0.088749</td>\n",
       "      <td>2.000720</td>\n",
       "      <td>3.913328</td>\n",
       "      <td>1.075531</td>\n",
       "      <td>17.30</td>\n",
       "      <td>0.15</td>\n",
       "      <td>JPL 7</td>\n",
       "      <td>1.654537</td>\n",
       "      <td>1519.293350</td>\n",
       "      <td>0.004136</td>\n",
       "      <td>0.706394</td>\n",
       "      <td>1.285400</td>\n",
       "      <td>-0.369137</td>\n",
       "      <td>-260.066715</td>\n",
       "    </tr>\n",
       "    <tr>\n",
       "      <td>541125</td>\n",
       "      <td>541125</td>\n",
       "      <td>2018 RV23</td>\n",
       "      <td>58600.0</td>\n",
       "      <td>3.113036</td>\n",
       "      <td>0.213678</td>\n",
       "      <td>0.203046</td>\n",
       "      <td>0.544794</td>\n",
       "      <td>0.242079</td>\n",
       "      <td>0.130760</td>\n",
       "      <td>16.10</td>\n",
       "      <td>0.15</td>\n",
       "      <td>JPL 8</td>\n",
       "      <td>0.206083</td>\n",
       "      <td>2006.201725</td>\n",
       "      <td>0.003132</td>\n",
       "      <td>0.917633</td>\n",
       "      <td>0.992956</td>\n",
       "      <td>0.786873</td>\n",
       "      <td>-41.751113</td>\n",
       "    </tr>\n",
       "    <tr>\n",
       "      <td>541126</td>\n",
       "      <td>541126</td>\n",
       "      <td>2018 RP24</td>\n",
       "      <td>58600.0</td>\n",
       "      <td>2.453880</td>\n",
       "      <td>0.176693</td>\n",
       "      <td>0.194504</td>\n",
       "      <td>2.649626</td>\n",
       "      <td>3.695880</td>\n",
       "      <td>0.937231</td>\n",
       "      <td>17.30</td>\n",
       "      <td>0.15</td>\n",
       "      <td>JPL 6</td>\n",
       "      <td>1.258854</td>\n",
       "      <td>1404.036362</td>\n",
       "      <td>0.004475</td>\n",
       "      <td>0.999551</td>\n",
       "      <td>1.321174</td>\n",
       "      <td>0.062320</td>\n",
       "      <td>-209.433076</td>\n",
       "    </tr>\n",
       "    <tr>\n",
       "      <td>541127</td>\n",
       "      <td>541127</td>\n",
       "      <td>2018 RL26</td>\n",
       "      <td>58600.0</td>\n",
       "      <td>3.081248</td>\n",
       "      <td>0.081239</td>\n",
       "      <td>0.193310</td>\n",
       "      <td>2.381747</td>\n",
       "      <td>3.426307</td>\n",
       "      <td>1.047446</td>\n",
       "      <td>16.00</td>\n",
       "      <td>0.15</td>\n",
       "      <td>JPL 6</td>\n",
       "      <td>1.195142</td>\n",
       "      <td>1975.551358</td>\n",
       "      <td>0.003180</td>\n",
       "      <td>0.572315</td>\n",
       "      <td>0.720011</td>\n",
       "      <td>-0.475131</td>\n",
       "      <td>-329.336645</td>\n",
       "    </tr>\n",
       "    <tr>\n",
       "      <td>541128</td>\n",
       "      <td>541128</td>\n",
       "      <td>2018 RB27</td>\n",
       "      <td>58600.0</td>\n",
       "      <td>2.934075</td>\n",
       "      <td>0.064910</td>\n",
       "      <td>0.216796</td>\n",
       "      <td>0.496382</td>\n",
       "      <td>5.871405</td>\n",
       "      <td>0.468771</td>\n",
       "      <td>15.50</td>\n",
       "      <td>0.15</td>\n",
       "      <td>JPL 4</td>\n",
       "      <td>0.531942</td>\n",
       "      <td>1835.714944</td>\n",
       "      <td>0.003423</td>\n",
       "      <td>0.553374</td>\n",
       "      <td>0.616544</td>\n",
       "      <td>0.084602</td>\n",
       "      <td>-136.957715</td>\n",
       "    </tr>\n",
       "  </tbody>\n",
       "</table>\n",
       "<p>541073 rows × 19 columns</p>\n",
       "</div>"
      ],
      "text/plain": [
       "           Num       Name  epoch_mjd         a         e       inc     Omega  \\\n",
       "Num                                                                            \n",
       "1            1      Ceres    58600.0  2.769165  0.076009  0.184901  1.401596   \n",
       "2            2     Pallas    58600.0  2.772466  0.230337  0.608007  3.020817   \n",
       "3            3       Juno    58600.0  2.669150  0.256942  0.226699  2.964490   \n",
       "4            4      Vesta    58600.0  2.361418  0.088721  0.124647  1.811840   \n",
       "5            5    Astraea    58600.0  2.574249  0.191095  0.093672  2.470978   \n",
       "...        ...        ...        ...       ...       ...       ...       ...   \n",
       "541124  541124  2018 RP23    58600.0  2.586399  0.289358  0.088749  2.000720   \n",
       "541125  541125  2018 RV23    58600.0  3.113036  0.213678  0.203046  0.544794   \n",
       "541126  541126  2018 RP24    58600.0  2.453880  0.176693  0.194504  2.649626   \n",
       "541127  541127  2018 RL26    58600.0  3.081248  0.081239  0.193310  2.381747   \n",
       "541128  541128  2018 RB27    58600.0  2.934075  0.064910  0.216796  0.496382   \n",
       "\n",
       "           omega         M      H     G      Ref         f            P  \\\n",
       "Num                                                                       \n",
       "1       1.284522  1.350398   3.34  0.12   JPL 46  1.501306  1683.145749   \n",
       "2       5.411373  1.041946   4.13  0.11   JPL 35  1.490912  1686.155979   \n",
       "3       4.330836  0.609557   5.33  0.32  JPL 108  0.996719  1592.787270   \n",
       "4       2.630709  1.673106   3.20  0.32   JPL 34 -4.436417  1325.432768   \n",
       "5       6.260280  4.928221   6.85  0.15  JPL 108 -1.738676  1508.600442   \n",
       "...          ...       ...    ...   ...      ...       ...          ...   \n",
       "541124  3.913328  1.075531  17.30  0.15    JPL 7  1.654537  1519.293350   \n",
       "541125  0.242079  0.130760  16.10  0.15    JPL 8  0.206083  2006.201725   \n",
       "541126  3.695880  0.937231  17.30  0.15    JPL 6  1.258854  1404.036362   \n",
       "541127  3.426307  1.047446  16.00  0.15    JPL 6  1.195142  1975.551358   \n",
       "541128  5.871405  0.468771  15.50  0.15    JPL 4  0.531942  1835.714944   \n",
       "\n",
       "               n      long     theta    pomega      T_peri  \n",
       "Num                                                         \n",
       "1       0.003733  4.036516  4.187424  2.686118 -361.745873  \n",
       "2       0.003726  3.190951  3.639917  2.149005 -279.616804  \n",
       "3       0.003945  1.621697  2.008860  1.012141 -154.522558  \n",
       "4       0.004740  6.115656  0.006132  4.442550 -352.940421  \n",
       "5       0.004165  1.093108  0.709396  2.448072  325.328481  \n",
       "...          ...       ...       ...       ...         ...  \n",
       "541124  0.004136  0.706394  1.285400 -0.369137 -260.066715  \n",
       "541125  0.003132  0.917633  0.992956  0.786873  -41.751113  \n",
       "541126  0.004475  0.999551  1.321174  0.062320 -209.433076  \n",
       "541127  0.003180  0.572315  0.720011 -0.475131 -329.336645  \n",
       "541128  0.003423  0.553374  0.616544  0.084602 -136.957715  \n",
       "\n",
       "[541073 rows x 19 columns]"
      ]
     },
     "execution_count": 21,
     "metadata": {},
     "output_type": "execute_result"
    }
   ],
   "source": [
    "ast_elt"
   ]
  },
  {
   "cell_type": "code",
   "execution_count": 22,
   "metadata": {},
   "outputs": [
    {
     "data": {
      "text/plain": [
       "array([51544., 51545., 51546., ..., 66517., 66518., 66519.], dtype=float32)"
      ]
     },
     "execution_count": 22,
     "metadata": {},
     "output_type": "execute_result"
    }
   ],
   "source": [
    "# Index for Ceres\n",
    "idx_ast = np.where(ast_elt.Name=='Ceres')\n",
    "# Get the index for observation time\n",
    "ts = inputs['ts'][idx_ast].flatten()\n",
    "ts"
   ]
  },
  {
   "cell_type": "code",
   "execution_count": 23,
   "metadata": {},
   "outputs": [],
   "source": [
    "# Index of observation time <= obs_time\n",
    "idx_t = np.searchsorted(ts, obstime_mjd)-1"
   ]
  },
  {
   "cell_type": "code",
   "execution_count": 24,
   "metadata": {},
   "outputs": [
    {
     "data": {
      "text/plain": [
       "array([[58600.]], dtype=float32)"
      ]
     },
     "execution_count": 24,
     "metadata": {},
     "output_type": "execute_result"
    }
   ],
   "source": [
    "inputs['ts'][idx_ast, idx_t]"
   ]
  },
  {
   "cell_type": "code",
   "execution_count": 25,
   "metadata": {},
   "outputs": [
    {
     "data": {
      "text/plain": [
       "(999, 3)"
      ]
     },
     "execution_count": 25,
     "metadata": {},
     "output_type": "execute_result"
    }
   ],
   "source": [
    "q0 = outputs['q'][:, idx_t]\n",
    "q1 = outputs['q'][:, idx_t+1]\n",
    "q = 0.5 * q0 + 0.5 * q1\n",
    "q.shape"
   ]
  },
  {
   "cell_type": "code",
   "execution_count": 26,
   "metadata": {},
   "outputs": [
    {
     "data": {
      "text/plain": [
       "array([-1.356567, -2.37266 ,  0.175377], dtype=float32)"
      ]
     },
     "execution_count": 26,
     "metadata": {},
     "output_type": "execute_result"
    }
   ],
   "source": [
    "# Predicted position and direction of ceres\n",
    "q_ast_mse = outputs['q'][idx_ast, idx_t].flatten()\n",
    "np.round(q_ast_mse,6)"
   ]
  },
  {
   "cell_type": "code",
   "execution_count": 27,
   "metadata": {},
   "outputs": [
    {
     "data": {
      "text/plain": [
       "2.7387128"
      ]
     },
     "execution_count": 27,
     "metadata": {},
     "output_type": "execute_result"
    }
   ],
   "source": [
    "np.linalg.norm(q_ast_mse)"
   ]
  },
  {
   "cell_type": "code",
   "execution_count": 28,
   "metadata": {},
   "outputs": [],
   "source": [
    "q_earth_mse = get_earth_pos(obstime_mjd)"
   ]
  },
  {
   "cell_type": "code",
   "execution_count": 29,
   "metadata": {},
   "outputs": [
    {
     "data": {
      "text/plain": [
       "array([-8.07118e-01, -6.01307e-01,  3.10000e-05])"
      ]
     },
     "execution_count": 29,
     "metadata": {},
     "output_type": "execute_result"
    }
   ],
   "source": [
    "np.round(q_earth_mse, 6)"
   ]
  },
  {
   "cell_type": "code",
   "execution_count": 30,
   "metadata": {},
   "outputs": [
    {
     "data": {
      "text/plain": [
       "array([-0.549449, -1.771353,  0.175346])"
      ]
     },
     "execution_count": 30,
     "metadata": {},
     "output_type": "execute_result"
    }
   ],
   "source": [
    "q_rel_mse = q_ast_mse - q_earth_mse\n",
    "np.round(q_rel_mse, 6)"
   ]
  },
  {
   "cell_type": "code",
   "execution_count": 31,
   "metadata": {},
   "outputs": [
    {
     "data": {
      "text/plain": [
       "array([-0.294946, -0.950867,  0.094126])"
      ]
     },
     "execution_count": 31,
     "metadata": {},
     "output_type": "execute_result"
    }
   ],
   "source": [
    "u_mse = q_rel_mse / np.linalg.norm(q_rel_mse)\n",
    "np.round(u_mse, 6)"
   ]
  },
  {
   "cell_type": "markdown",
   "metadata": {},
   "source": [
    "**Compare JPL and MSE Direction Calculations**"
   ]
  },
  {
   "cell_type": "code",
   "execution_count": 34,
   "metadata": {},
   "outputs": [
    {
     "data": {
      "text/plain": [
       "array([-0.00706335,  0.00224531,  0.00084465])"
      ]
     },
     "execution_count": 34,
     "metadata": {},
     "output_type": "execute_result"
    }
   ],
   "source": [
    "u_diff = u_mse - u_jpl\n",
    "u_diff"
   ]
  },
  {
   "cell_type": "code",
   "execution_count": 42,
   "metadata": {},
   "outputs": [
    {
     "data": {
      "text/plain": [
       "0.0074596062185876"
      ]
     },
     "execution_count": 42,
     "metadata": {},
     "output_type": "execute_result"
    }
   ],
   "source": [
    "np.linalg.norm(u_diff)"
   ]
  },
  {
   "cell_type": "code",
   "execution_count": null,
   "metadata": {},
   "outputs": [],
   "source": []
  }
 ],
 "metadata": {
  "kernelspec": {
   "display_name": "Python [conda env:kepler]",
   "language": "python",
   "name": "conda-env-kepler-py"
  },
  "language_info": {
   "codemirror_mode": {
    "name": "ipython",
    "version": 3
   },
   "file_extension": ".py",
   "mimetype": "text/x-python",
   "name": "python",
   "nbconvert_exporter": "python",
   "pygments_lexer": "ipython3",
   "version": "3.7.4"
  }
 },
 "nbformat": 4,
 "nbformat_minor": 2
}
