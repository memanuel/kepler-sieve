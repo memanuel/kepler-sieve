{
 "cells": [
  {
   "cell_type": "code",
   "execution_count": null,
   "metadata": {},
   "outputs": [],
   "source": [
    "# core\n",
    "import numpy as np\n",
    "import pandas as pd\n",
    "\n",
    "# utility\n",
    "from datetime import datetime\n",
    "\n",
    "# MSE imports\n",
    "from astro_utils import datetime_to_mjd\n",
    "from horizons_files import load_pos_jpl, load_ast_pos_jpl, load_obs_jpl, load_ast_obs_jpl\n",
    "from asteroid_integrate import load_ast_elt\n",
    "from asteroid_dataframe import load_ast_data, spline_ast_vec, calc_ast_dir, spline_ast_vec_dir\n",
    "from asteroid_dataframe import calc_ast_data, spline_ast_vec_df\n",
    "from asteroid_dataframe import compare_df_vec, compare_df_dir\n",
    "from asteroid_data import orbital_element_batch\n",
    "from ztf_data import load_ztf_det_all"
   ]
  },
  {
   "cell_type": "markdown",
   "metadata": {},
   "source": [
    "### Position of Earth according to JPL"
   ]
  },
  {
   "cell_type": "code",
   "execution_count": null,
   "metadata": {},
   "outputs": [],
   "source": [
    "# Data directories\n",
    "dir_name_hourly = '../data/jpl/testing/hourly'\n",
    "dir_name_daily = '../data/jpl/testing/daily'\n",
    "\n",
    "# Build DataFrame for earth and mars position at 3 hour frequency\n",
    "# df_earth = load_pos_jpl(body_name='earth', dir_name=dir_name_hourly)\n",
    "\n",
    "# Earth at daily frequency\n",
    "df_earth_jpl = load_pos_jpl(body_name='earth', dir_name=dir_name_daily)"
   ]
  },
  {
   "cell_type": "code",
   "execution_count": null,
   "metadata": {},
   "outputs": [],
   "source": [
    "df_earth_jpl"
   ]
  },
  {
   "cell_type": "markdown",
   "metadata": {},
   "source": [
    "### Positions of First 16 Asteroids from JPL"
   ]
  },
  {
   "cell_type": "code",
   "execution_count": null,
   "metadata": {},
   "outputs": [],
   "source": [
    "# Load the asteroid position and velocity from JPL\n",
    "df_ast_jpl = load_ast_pos_jpl(ast_num0=1, ast_num1=16, dir_name=dir_name_daily)"
   ]
  },
  {
   "cell_type": "code",
   "execution_count": null,
   "metadata": {},
   "outputs": [],
   "source": [
    "df_ast_jpl"
   ]
  },
  {
   "cell_type": "markdown",
   "metadata": {},
   "source": [
    "### Observations of First 16 Asteroids from JPL"
   ]
  },
  {
   "cell_type": "code",
   "execution_count": null,
   "metadata": {},
   "outputs": [],
   "source": [
    "# Load the asteroid observations from JPL\n",
    "df_obs_jpl = load_ast_obs_jpl(ast_num0=1, ast_num1=16, observer_name='geocenter', dir_name=dir_name_daily)"
   ]
  },
  {
   "cell_type": "code",
   "execution_count": null,
   "metadata": {},
   "outputs": [],
   "source": [
    "df_obs_jpl"
   ]
  },
  {
   "cell_type": "markdown",
   "metadata": {},
   "source": [
    "### Position of Asteroids & Earth from MSE Integration"
   ]
  },
  {
   "cell_type": "code",
   "execution_count": null,
   "metadata": {},
   "outputs": [],
   "source": [
    "# alias inputs\n",
    "n0 = 1\n",
    "n1 = 17\n",
    "mjd0 = datetime_to_mjd(datetime(2010,1,1))\n",
    "mjd1 = datetime_to_mjd(datetime(2020,1,2))"
   ]
  },
  {
   "cell_type": "code",
   "execution_count": null,
   "metadata": {},
   "outputs": [],
   "source": [
    "# Load first block of asteroid data\n",
    "df_ast_mse, df_earth_mse, df_sun_mse = load_ast_data(n0=n0, n1=n1, mjd0=mjd0, mjd1=mjd1)"
   ]
  },
  {
   "cell_type": "code",
   "execution_count": null,
   "metadata": {},
   "outputs": [],
   "source": [
    "# DataFrame of asteroid snapshots\n",
    "ast_elt = load_ast_elt()\n",
    "# ast_elt"
   ]
  },
  {
   "cell_type": "markdown",
   "metadata": {},
   "source": [
    "### Check Position of Earth vs. JPL"
   ]
  },
  {
   "cell_type": "code",
   "execution_count": null,
   "metadata": {},
   "outputs": [],
   "source": [
    "df_earth_mse"
   ]
  },
  {
   "cell_type": "code",
   "execution_count": null,
   "metadata": {},
   "outputs": [],
   "source": [
    "# Run comparison on earth\n",
    "compare_df_vec(df_mse=df_earth_mse, df_jpl=df_earth_jpl, name='earth')"
   ]
  },
  {
   "cell_type": "markdown",
   "metadata": {},
   "source": [
    "### Check Position of Asteroids vs. JPL"
   ]
  },
  {
   "cell_type": "code",
   "execution_count": null,
   "metadata": {},
   "outputs": [],
   "source": [
    "df_ast_mse"
   ]
  },
  {
   "cell_type": "code",
   "execution_count": null,
   "metadata": {},
   "outputs": [],
   "source": [
    "# Filter MSE asteroids down to just the first 16 to match JPL data\n",
    "mask = df_ast_mse.asteroid_num <= 16\n",
    "df_ast_mse_16 = df_ast_mse[mask]"
   ]
  },
  {
   "cell_type": "code",
   "execution_count": null,
   "metadata": {},
   "outputs": [],
   "source": [
    "# Run comparison on asteroids\n",
    "compare_df_vec(df_mse=df_ast_mse_16, df_jpl=df_ast_jpl, name='asteroids')"
   ]
  },
  {
   "cell_type": "markdown",
   "metadata": {},
   "source": [
    "### Review Solar DataFrame"
   ]
  },
  {
   "cell_type": "code",
   "execution_count": null,
   "metadata": {},
   "outputs": [],
   "source": [
    "df_sun_mse"
   ]
  },
  {
   "cell_type": "markdown",
   "metadata": {},
   "source": [
    "**Conclusion**<br>\n",
    "Loading daily integration with load_ast_data works.<br>\n",
    "Integration agrees with JPL to tolerance of **7.9E-7 AU**."
   ]
  },
  {
   "cell_type": "markdown",
   "metadata": {},
   "source": [
    "### Splined Asteroid DataFrame"
   ]
  },
  {
   "cell_type": "code",
   "execution_count": null,
   "metadata": {},
   "outputs": [],
   "source": [
    "# Load the JPL data run at 3 hour intervals\n",
    "df_earth_jpl_3h = load_pos_jpl(body_name='earth', dir_name=dir_name_hourly)\n",
    "df_ast_jpl_3h = load_ast_pos_jpl(ast_num0=1, ast_num1=16, dir_name=dir_name_hourly)\n",
    "\n",
    "# Load observation from palomar at 3h intervals\n",
    "df_dir_jpl_3h = load_ast_obs_jpl(ast_num0=1, ast_num1=16, observer_name='palomar', dir_name=dir_name_hourly)"
   ]
  },
  {
   "cell_type": "code",
   "execution_count": null,
   "metadata": {},
   "outputs": [],
   "source": [
    "# Inputs for spline_ast_vec()\n",
    "n0 = 1\n",
    "n1 = 17\n",
    "mjd = df_earth_jpl_3h.mjd.values"
   ]
  },
  {
   "cell_type": "code",
   "execution_count": null,
   "metadata": {},
   "outputs": [],
   "source": [
    "# Spline asteroid data on the same schedule as JPL\n",
    "df_ast_out, df_earth_out, df_sun_out = spline_ast_vec(n0=n0, n1=n1, mjd=mjd)"
   ]
  },
  {
   "cell_type": "code",
   "execution_count": null,
   "metadata": {},
   "outputs": [],
   "source": [
    "df_ast_out"
   ]
  },
  {
   "cell_type": "code",
   "execution_count": null,
   "metadata": {},
   "outputs": [],
   "source": [
    "# Run comparison on asteroids\n",
    "compare_df_vec(df_mse=df_ast_out, df_jpl=df_ast_jpl_3h, name='asteroids')"
   ]
  },
  {
   "cell_type": "code",
   "execution_count": null,
   "metadata": {},
   "outputs": [],
   "source": [
    "df_earth_out"
   ]
  },
  {
   "cell_type": "code",
   "execution_count": null,
   "metadata": {},
   "outputs": [],
   "source": [
    "# Run comparison on earth\n",
    "compare_df_vec(df_mse=df_earth_out, df_jpl=df_earth_jpl_3h, name='earth')"
   ]
  },
  {
   "cell_type": "markdown",
   "metadata": {},
   "source": [
    "**Conclusion**<br>\n",
    "Cubic splining of daily integration with spline_ast_vec works.<br>\n",
    "Integration agrees with JPL to tolerance of **3.9E-6 AU**.<br>\n",
    "The spline has introduced slightly more error, but it is still very small."
   ]
  },
  {
   "cell_type": "markdown",
   "metadata": {},
   "source": [
    "### Build Splined Observation & Compare vs. JPL"
   ]
  },
  {
   "cell_type": "code",
   "execution_count": null,
   "metadata": {},
   "outputs": [],
   "source": [
    "df_dir_jpl_3h"
   ]
  },
  {
   "cell_type": "code",
   "execution_count": null,
   "metadata": {},
   "outputs": [],
   "source": [
    "# Calulate observations at palomar from splined vectors\n",
    "df_dir_mse = calc_ast_dir(df_ast=df_ast_out, df_earth=df_earth_out, site_name='palomar')"
   ]
  },
  {
   "cell_type": "code",
   "execution_count": null,
   "metadata": {},
   "outputs": [],
   "source": [
    "df_dir_mse"
   ]
  },
  {
   "cell_type": "code",
   "execution_count": null,
   "metadata": {},
   "outputs": [],
   "source": [
    "compare_df_dir(df_dir_mse, df_dir_jpl_3h, name='asteroid')"
   ]
  },
  {
   "cell_type": "markdown",
   "metadata": {},
   "source": [
    "**Conclusion**<br>\n",
    "df_obs_mse() accurately does an end to end calculation of the RA / DEC of an asteroid.<br>\n",
    "It is very flexible.  It interpolated the position of the asteroid and the position of the earth,\n",
    "so it can accept a flexible range of dates to match observations.<br>\n",
    "It is accurate vs. JPL to a tolerance of **0.97 arc seconds**!"
   ]
  },
  {
   "cell_type": "markdown",
   "metadata": {},
   "source": [
    "### Test All in One spline_ast_vec_obs()"
   ]
  },
  {
   "cell_type": "code",
   "execution_count": null,
   "metadata": {},
   "outputs": [],
   "source": [
    "mjd = df_earth_jpl_3h.mjd.values\n",
    "df_ast2_mse, df_earth2_mse, df_dir2_mse = spline_ast_vec_dir(n0=1, n1=17, mjd=mjd, site_name='palomar')"
   ]
  },
  {
   "cell_type": "code",
   "execution_count": null,
   "metadata": {},
   "outputs": [],
   "source": [
    "compare_df_dir(df_dir2_mse, df_dir_jpl_3h, name='asteroid')"
   ]
  },
  {
   "cell_type": "markdown",
   "metadata": {},
   "source": [
    "## calc_ast_data: Build Asteroid DataFrame on the Fly"
   ]
  },
  {
   "cell_type": "code",
   "execution_count": null,
   "metadata": {},
   "outputs": [],
   "source": [
    "n0=1\n",
    "n1=65\n",
    "mjd0 = 58270.0\n",
    "mjd1 = 58906.0\n",
    "progbar=True"
   ]
  },
  {
   "cell_type": "code",
   "execution_count": null,
   "metadata": {},
   "outputs": [],
   "source": [
    "# Load data in this date range\n",
    "df_ast_load, df_earth_load, df_sun_load = load_ast_data(n0=n0, n1=n1, mjd0=mjd0, mjd1=mjd1, progbar=progbar)"
   ]
  },
  {
   "cell_type": "code",
   "execution_count": null,
   "metadata": {},
   "outputs": [],
   "source": [
    "df_ast_load"
   ]
  },
  {
   "cell_type": "code",
   "execution_count": null,
   "metadata": {},
   "outputs": [],
   "source": [
    "# Orbital elements for first 64 asteroids (dict of numpy arrays)\n",
    "# n0 = 733\n",
    "n0 = 1\n",
    "n1 = n0 + 64\n",
    "element_id = np.arange(n0, n1, dtype=np.int32)\n",
    "\n",
    "# Build the elements batch\n",
    "elts = orbital_element_batch(element_id)"
   ]
  },
  {
   "cell_type": "code",
   "execution_count": null,
   "metadata": {},
   "outputs": [],
   "source": [
    "# Calculate vectors from these elements on the fly with calc_ast_data\n",
    "df_ast_calc, df_earth_calc, df_sun_calc = calc_ast_data(elts=elts, mjd0=mjd0, mjd1=mjd1, element_id=element_id)"
   ]
  },
  {
   "cell_type": "code",
   "execution_count": null,
   "metadata": {},
   "outputs": [],
   "source": [
    "# Check agreement\n",
    "cols_q = ['qx', 'qy', 'qz']\n",
    "cols_v = ['vx', 'vy', 'vz']\n",
    "\n",
    "dq_ast = df_ast_calc[cols_q] - df_ast_load[cols_q]\n",
    "dv_ast = df_ast_calc[cols_v] - df_ast_load[cols_v]\n",
    "\n",
    "dq_earth = df_earth_calc[cols_q] - df_earth_load[cols_q]\n",
    "dv_earth = df_earth_calc[cols_v] - df_earth_load[cols_v]\n",
    "\n",
    "dq_sun = df_sun_calc[cols_q] - df_sun_load[cols_q]\n",
    "dv_sun = df_sun_calc[cols_v] - df_sun_load[cols_v]\n",
    "\n",
    "# Report\n",
    "# print(f'mean position difference = {np.mean(np.linalg.norm(dq, axis=1)):6.2e}')\n",
    "print('Mean position difference in AU:')\n",
    "print(f'asteroids: {np.mean(np.linalg.norm(dq_ast, axis=1)):6.2e}')\n",
    "print(f'earth    : {np.mean(np.linalg.norm(dq_earth, axis=1)):6.2e}')\n",
    "print(f'sun      : {np.mean(np.linalg.norm(dq_sun, axis=1)):6.2e}')\n",
    "\n",
    "print('\\nMean velocity difference in AU/day:')\n",
    "print(f'asteroids: {np.mean(np.linalg.norm(dv_ast, axis=1)):6.2e}')\n",
    "print(f'earth    : {np.mean(np.linalg.norm(dv_earth, axis=1)):6.2e}')\n",
    "print(f'sun      : {np.mean(np.linalg.norm(dv_sun, axis=1)):6.2e}')"
   ]
  },
  {
   "cell_type": "markdown",
   "metadata": {},
   "source": [
    "## Splined Direction at ZTF Dates"
   ]
  },
  {
   "cell_type": "code",
   "execution_count": null,
   "metadata": {},
   "outputs": [],
   "source": [
    "ztf, mjd_unq = load_ztf_det_all()"
   ]
  },
  {
   "cell_type": "code",
   "execution_count": null,
   "metadata": {},
   "outputs": [],
   "source": [
    "# mjd for the spline output\n",
    "mjd = mjd_unq"
   ]
  },
  {
   "cell_type": "code",
   "execution_count": null,
   "metadata": {},
   "outputs": [],
   "source": [
    "# Spline using loaded data\n",
    "df_ast_load_out, df_earth_load_out, df_sun_load_out = spline_ast_vec_df(df_ast=df_ast_load, df_earth=df_earth_load, df_sun=df_sun_load, mjd=mjd, include_elts=False)"
   ]
  },
  {
   "cell_type": "code",
   "execution_count": null,
   "metadata": {},
   "outputs": [],
   "source": [
    "# Spline using calculated data\n",
    "df_ast_calc_out, df_earth_calc_out, df_sun_calc_out = spline_ast_vec_df(df_ast=df_ast_calc, df_earth=df_earth_calc, df_sun=df_sun_calc, mjd=mjd, include_elts=False)"
   ]
  },
  {
   "cell_type": "code",
   "execution_count": null,
   "metadata": {},
   "outputs": [],
   "source": [
    "dq_ast = df_ast_calc_out[cols_q] - df_ast_load_out[cols_q]\n",
    "dv_ast = df_ast_calc_out[cols_v] - df_ast_load_out[cols_v]\n",
    "\n",
    "dq_earth = df_earth_calc_out[cols_q] - df_earth_load_out[cols_q]\n",
    "dv_earth = df_earth_calc_out[cols_v] - df_earth_load_out[cols_v]\n",
    "\n",
    "dq_sun = df_sun_calc_out[cols_q] - df_sun_load_out[cols_q]\n",
    "dv_sun = df_sun_calc_out[cols_v] - df_sun_load_out[cols_v]\n",
    "\n",
    "# Report\n",
    "# print(f'mean position difference = {np.mean(np.linalg.norm(dq, axis=1)):6.2e}')\n",
    "print('Mean position difference in AU:')\n",
    "print(f'asteroids: {np.mean(np.linalg.norm(dq_ast, axis=1)):6.2e}')\n",
    "print(f'earth    : {np.mean(np.linalg.norm(dq_earth, axis=1)):6.2e}')\n",
    "print(f'sun      : {np.mean(np.linalg.norm(dq_sun, axis=1)):6.2e}')\n",
    "\n",
    "print('\\nMean velocity difference in AU/day:')\n",
    "print(f'asteroids: {np.mean(np.linalg.norm(dv_ast, axis=1)):6.2e}')\n",
    "print(f'earth    : {np.mean(np.linalg.norm(dv_earth, axis=1)):6.2e}')\n",
    "print(f'sun      : {np.mean(np.linalg.norm(dv_sun, axis=1)):6.2e}')"
   ]
  },
  {
   "cell_type": "code",
   "execution_count": null,
   "metadata": {},
   "outputs": [],
   "source": [
    "df_ast_calc_out"
   ]
  },
  {
   "cell_type": "code",
   "execution_count": null,
   "metadata": {},
   "outputs": [],
   "source": []
  }
 ],
 "metadata": {
  "kernelspec": {
   "display_name": "Python [conda env:kepler]",
   "language": "python",
   "name": "conda-env-kepler-py"
  },
  "language_info": {
   "codemirror_mode": {
    "name": "ipython",
    "version": 3
   },
   "file_extension": ".py",
   "mimetype": "text/x-python",
   "name": "python",
   "nbconvert_exporter": "python",
   "pygments_lexer": "ipython3",
   "version": "3.7.6"
  }
 },
 "nbformat": 4,
 "nbformat_minor": 4
}
