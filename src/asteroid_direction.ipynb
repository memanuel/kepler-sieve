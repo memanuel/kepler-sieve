{
 "cells": [
  {
   "cell_type": "code",
   "execution_count": null,
   "metadata": {},
   "outputs": [],
   "source": [
    "# Core\n",
    "import tensorflow as tf\n",
    "import numpy as np\n",
    "from silence_tensorflow import silence_tensorflow\n",
    "\n",
    "# Astronomy\n",
    "import astropy\n",
    "from astropy.units import au, day\n",
    "\n",
    "# Utility\n",
    "import time\n",
    "\n",
    "# Local imports\n",
    "# from tf_utils import Identity\n",
    "from orbital_element import MeanToTrueAnomaly, TrueToMeanAnomaly\n",
    "from asteroid_data import make_dataset_ast_pos, make_dataset_ast_dir, get_earth_pos, get_sun_pos_vel\n",
    "from asteroid_data import orbital_element_batch\n",
    "from asteroid_integrate import calc_ast_pos\n",
    "from astro_utils import dist2deg, dist2sec\n",
    "from tf_utils import gpu_grow_memory, Identity"
   ]
  },
  {
   "cell_type": "code",
   "execution_count": 2,
   "metadata": {},
   "outputs": [
    {
     "name": "stdout",
     "output_type": "stream",
     "text": [
      "Found 4 GPUs.  Setting memory growth = True.\n"
     ]
    }
   ],
   "source": [
    "from asteroid_model import make_model_ast_dir\n",
    "from asteroid_integrate import load_data as load_data_asteroids\n",
    "from ztf_data import load_ztf_det_all\n",
    "from asteroid_dataframe import spline_ast_vec_dir\n",
    "from asteroid_data import make_data_one_file, make_dataset_ast_dir_spline\n",
    "\n",
    "keras = tf.keras"
   ]
  },
  {
   "cell_type": "code",
   "execution_count": 3,
   "metadata": {},
   "outputs": [],
   "source": [
    "# arguments\n",
    "n0 = 1\n",
    "n1 = 65\n",
    "batch_size = 64\n",
    "N_t = 1000\n",
    "# dtype = np.float32\n",
    "# drop_remainder = True"
   ]
  },
  {
   "cell_type": "code",
   "execution_count": 4,
   "metadata": {},
   "outputs": [
    {
     "name": "stdout",
     "output_type": "stream",
     "text": [
      "Splining asteroid and earth vectors for asteroid numbers 1 to 65...\n",
      "Loading asteroid data from n0=1 to n1=65 in 1 blocks...\n"
     ]
    },
    {
     "data": {
      "application/vnd.jupyter.widget-view+json": {
       "model_id": "94523aa6f24a4cf48c1c8a14020d6b29",
       "version_major": 2,
       "version_minor": 0
      },
      "text/plain": [
       "HBox(children=(FloatProgress(value=0.0, max=1.0), HTML(value='')))"
      ]
     },
     "metadata": {},
     "output_type": "display_data"
    },
    {
     "name": "stdout",
     "output_type": "stream",
     "text": [
      "\n",
      "Computing astrometric asteroid directions for asteroid numbers 1 to 65...\n"
     ]
    }
   ],
   "source": [
    "ds, ts = make_dataset_ast_dir_spline(n0=n0, n1=n1, N_t=N_t, batch_size=batch_size)"
   ]
  },
  {
   "cell_type": "code",
   "execution_count": 5,
   "metadata": {},
   "outputs": [],
   "source": [
    "# Create the model to predict asteroid trajectories\n",
    "model: keras.Model = make_model_ast_dir(ts=ts)\n",
    "\n",
    "# Compile with MSE (mean squared error) loss\n",
    "model.compile(loss='MSE')"
   ]
  },
  {
   "cell_type": "code",
   "execution_count": 6,
   "metadata": {},
   "outputs": [
    {
     "name": "stdout",
     "output_type": "stream",
     "text": [
      "1/1 [==============================] - 0s 327ms/step - loss: 4.5455e-04 - u_loss: 1.4048e-04 - r_loss: 3.1407e-04\n"
     ]
    }
   ],
   "source": [
    "# Evaluate this model\n",
    "mse_ur, mse_u, mse_r = model.evaluate(ds)"
   ]
  },
  {
   "cell_type": "code",
   "execution_count": 10,
   "metadata": {},
   "outputs": [],
   "source": [
    "# # Get reference times\n",
    "# batch_in, batch_out = list(ds.take(1))[0]\n",
    "# ts_ = batch_in['ts'][0]"
   ]
  },
  {
   "cell_type": "code",
   "execution_count": 11,
   "metadata": {},
   "outputs": [],
   "source": [
    "# ts_"
   ]
  },
  {
   "cell_type": "code",
   "execution_count": null,
   "metadata": {},
   "outputs": [],
   "source": []
  }
 ],
 "metadata": {
  "kernelspec": {
   "display_name": "Python [conda env:kepler]",
   "language": "python",
   "name": "conda-env-kepler-py"
  },
  "language_info": {
   "codemirror_mode": {
    "name": "ipython",
    "version": 3
   },
   "file_extension": ".py",
   "mimetype": "text/x-python",
   "name": "python",
   "nbconvert_exporter": "python",
   "pygments_lexer": "ipython3",
   "version": "3.7.6"
  }
 },
 "nbformat": 4,
 "nbformat_minor": 4
}
