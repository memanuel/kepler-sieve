{
 "cells": [
  {
   "cell_type": "markdown",
   "metadata": {},
   "source": [
    "# Convert RA and DEC to a Unit Direction in Heliocentric Frame"
   ]
  },
  {
   "cell_type": "markdown",
   "metadata": {},
   "source": [
    "### Coordinates of Ceres According to JPL"
   ]
  },
  {
   "cell_type": "code",
   "execution_count": 1,
   "metadata": {},
   "outputs": [],
   "source": [
    "# library imports\n",
    "import numpy as np\n",
    "import astropy\n",
    "from astropy.coordinates import SkyCoord, ICRS, GCRS, HCRS, EarthLocation\n",
    "from astropy.coordinates import HeliocentricMeanEcliptic, HeliocentricTrueEcliptic, BarycentricMeanEcliptic, BarycentricTrueEcliptic\n",
    "from astropy.units import deg, au, km, meter, day, minute, second\n",
    "\n",
    "#  MSE imports\n",
    "import astro_utils\n",
    "import asteroid_integrate\n",
    "import asteroid_data\n",
    "from asteroid_data import make_data_one_file, get_earth_pos\n",
    "from astro_utils import qv2obs, qv2radec, qvrel2radec, report_radec_diff"
   ]
  },
  {
   "cell_type": "code",
   "execution_count": 2,
   "metadata": {},
   "outputs": [
    {
     "name": "stdout",
     "output_type": "stream",
     "text": [
      "Observation Time as JD: 2458600.5\n",
      "Observation Time in AP: <Time object: scale='utc' format='mjd' value=58600.0>\n"
     ]
    }
   ],
   "source": [
    "# MJD of observation time\n",
    "obstime_mjd = 58600.0\n",
    "\n",
    "# Convert this to a JD\n",
    "obstime_jd = astro_utils.mjd_to_jd(obstime_mjd)\n",
    "print(f'Observation Time as JD: {obstime_jd}')\n",
    "\n",
    "# Convert this to astropy time object\n",
    "obstime = astropy.time.Time(obstime_mjd, format='mjd')\n",
    "print(f'Observation Time in AP:', repr(obstime))"
   ]
  },
  {
   "cell_type": "code",
   "execution_count": 3,
   "metadata": {},
   "outputs": [],
   "source": [
    "# Cartesian coordinates of Ceres in barycentric frame (ICRS)\n",
    "q_ast_jpl_bary = [-1.358266736250873E+00, -2.365068287734591E+00, 1.753434815502372E-01] * au\n",
    "v_ast_jpl_bary = [8.456717136811134E-03, -5.875569170947257E-03, -1.745541318980191E-03] * au / day\n",
    "\n",
    "# Cartesian coordinates of Earth geocenter in barycentric frame\n",
    "q_earth_jpl_bary = [-8.137850649885880E-01, -5.867610927308373E-01, -2.837047450366285E-06] * au\n",
    "v_earth_jpl_bary = [ 9.867406393541108E-03, -1.395096307916507E-02,  1.404197076481182E-06] * au / day\n",
    "\n",
    "# Cartesian coordinates of Sun in barycentric frame\n",
    "q_sun_jpl_bary = [-1.699702116697901E-03, 7.591941485824569E-03, -3.294738263228371E-05] * au\n",
    "v_sun_jpl_bary = [-8.347175817777104E-06, 7.503821640682956E-07,  2.164051447319061E-07] * au / day\n",
    "\n",
    "# Compute heliocentric coordinates and velocities by subtracting out solar position / velocity\n",
    "q_ast_jpl = q_ast_jpl_bary - q_sun_jpl_bary\n",
    "v_ast_jpl = v_ast_jpl_bary - v_sun_jpl_bary\n",
    "q_earth_jpl = q_earth_jpl_bary - q_sun_jpl_bary\n",
    "v_earth_jpl = v_earth_jpl_bary - v_sun_jpl_bary\n",
    "\n",
    "# Relative position and velocity from JPL\n",
    "q_rel_jpl = q_ast_jpl - q_earth_jpl\n",
    "v_rel_jpl = v_ast_jpl - v_earth_jpl\n",
    "\n",
    "# Unit direction from JPL\n",
    "u_jpl = q_rel_jpl.value / np.linalg.norm(q_rel_jpl.value)"
   ]
  },
  {
   "cell_type": "code",
   "execution_count": 4,
   "metadata": {},
   "outputs": [],
   "source": [
    "# Relative coordinates and velocity of Ceres w.r.t. geocentric observer\n",
    "# Same as above calculations, except quoted explicity by JPL\n",
    "q_rel_jpl2 = [-5.444816712622853E-01, -1.778307195003754E+00,  1.753463185976876E-01] * au\n",
    "v_rel_jpl2 = [-1.410689256729974E-03,  8.075393908217819E-03, -1.746945516056672E-03] * au / day\n",
    "\n",
    "# q_rel_jpl2-q_rel_jpl\n",
    "# v_rel_jpl2 - v_rel_jpl\n",
    "\n",
    "# Range and range-rate according to JPL\n",
    "rg_rel_jpl = 1.868042585592858E+00 * au\n",
    "rg_rel_dot_jpl = 7.440278512685717E-03 * au / day"
   ]
  },
  {
   "cell_type": "code",
   "execution_count": 5,
   "metadata": {},
   "outputs": [
    {
     "name": "stdout",
     "output_type": "stream",
     "text": [
      "Position (JPL):\n",
      "Earth: [-8.12085363e-01 -5.94353034e-01  3.01103352e-05] AU\n",
      "Ceres: [-1.35656703 -2.37266023  0.17537643] AU\n",
      "Rel  : [-0.54448167 -1.7783072   0.17534632] AU\n",
      "Dir  : [-0.29147177 -0.95196288  0.09386634]\n",
      "\n",
      "Relative velocity (JPL):\n",
      "[-0.00141069  0.00807539 -0.00174695] AU / d\n"
     ]
    }
   ],
   "source": [
    "# Print position of Ceres, Earth, and relative according to JPL\n",
    "print(f'Position (JPL):')\n",
    "print(f'Earth:', q_earth_jpl)\n",
    "print(f'Ceres:', q_ast_jpl)\n",
    "print(f'Rel  :', q_rel_jpl)\n",
    "print(f'Dir  :', u_jpl)\n",
    "\n",
    "# Print relative velocity\n",
    "print(f'\\nRelative velocity (JPL):')\n",
    "print(v_rel_jpl)"
   ]
  },
  {
   "cell_type": "markdown",
   "metadata": {},
   "source": [
    "### MSE Integrated Coordinates of Ceres at MJD  58600"
   ]
  },
  {
   "cell_type": "code",
   "execution_count": 6,
   "metadata": {},
   "outputs": [],
   "source": [
    "ast_elt = asteroid_integrate.load_data()"
   ]
  },
  {
   "cell_type": "code",
   "execution_count": 7,
   "metadata": {},
   "outputs": [],
   "source": [
    "inputs, outputs = make_data_one_file(0, 1000)"
   ]
  },
  {
   "cell_type": "code",
   "execution_count": 8,
   "metadata": {},
   "outputs": [
    {
     "data": {
      "text/html": [
       "<div>\n",
       "<style scoped>\n",
       "    .dataframe tbody tr th:only-of-type {\n",
       "        vertical-align: middle;\n",
       "    }\n",
       "\n",
       "    .dataframe tbody tr th {\n",
       "        vertical-align: top;\n",
       "    }\n",
       "\n",
       "    .dataframe thead th {\n",
       "        text-align: right;\n",
       "    }\n",
       "</style>\n",
       "<table border=\"1\" class=\"dataframe\">\n",
       "  <thead>\n",
       "    <tr style=\"text-align: right;\">\n",
       "      <th></th>\n",
       "      <th>Num</th>\n",
       "      <th>Name</th>\n",
       "      <th>epoch_mjd</th>\n",
       "      <th>a</th>\n",
       "      <th>e</th>\n",
       "      <th>inc</th>\n",
       "      <th>Omega</th>\n",
       "      <th>omega</th>\n",
       "      <th>M</th>\n",
       "      <th>H</th>\n",
       "      <th>G</th>\n",
       "      <th>Ref</th>\n",
       "      <th>f</th>\n",
       "      <th>P</th>\n",
       "      <th>n</th>\n",
       "      <th>long</th>\n",
       "      <th>theta</th>\n",
       "      <th>pomega</th>\n",
       "      <th>T_peri</th>\n",
       "    </tr>\n",
       "    <tr>\n",
       "      <th>Num</th>\n",
       "      <th></th>\n",
       "      <th></th>\n",
       "      <th></th>\n",
       "      <th></th>\n",
       "      <th></th>\n",
       "      <th></th>\n",
       "      <th></th>\n",
       "      <th></th>\n",
       "      <th></th>\n",
       "      <th></th>\n",
       "      <th></th>\n",
       "      <th></th>\n",
       "      <th></th>\n",
       "      <th></th>\n",
       "      <th></th>\n",
       "      <th></th>\n",
       "      <th></th>\n",
       "      <th></th>\n",
       "      <th></th>\n",
       "    </tr>\n",
       "  </thead>\n",
       "  <tbody>\n",
       "    <tr>\n",
       "      <td>1</td>\n",
       "      <td>1</td>\n",
       "      <td>Ceres</td>\n",
       "      <td>58600.0</td>\n",
       "      <td>2.769165</td>\n",
       "      <td>0.076009</td>\n",
       "      <td>0.184901</td>\n",
       "      <td>1.401596</td>\n",
       "      <td>1.284522</td>\n",
       "      <td>1.350398</td>\n",
       "      <td>3.34</td>\n",
       "      <td>0.12</td>\n",
       "      <td>JPL 46</td>\n",
       "      <td>1.501306</td>\n",
       "      <td>1683.145749</td>\n",
       "      <td>0.003733</td>\n",
       "      <td>4.036516</td>\n",
       "      <td>4.187424</td>\n",
       "      <td>2.686118</td>\n",
       "      <td>-361.745873</td>\n",
       "    </tr>\n",
       "    <tr>\n",
       "      <td>2</td>\n",
       "      <td>2</td>\n",
       "      <td>Pallas</td>\n",
       "      <td>58600.0</td>\n",
       "      <td>2.772466</td>\n",
       "      <td>0.230337</td>\n",
       "      <td>0.608007</td>\n",
       "      <td>3.020817</td>\n",
       "      <td>5.411373</td>\n",
       "      <td>1.041946</td>\n",
       "      <td>4.13</td>\n",
       "      <td>0.11</td>\n",
       "      <td>JPL 35</td>\n",
       "      <td>1.490912</td>\n",
       "      <td>1686.155979</td>\n",
       "      <td>0.003726</td>\n",
       "      <td>3.190951</td>\n",
       "      <td>3.639917</td>\n",
       "      <td>2.149005</td>\n",
       "      <td>-279.616804</td>\n",
       "    </tr>\n",
       "    <tr>\n",
       "      <td>3</td>\n",
       "      <td>3</td>\n",
       "      <td>Juno</td>\n",
       "      <td>58600.0</td>\n",
       "      <td>2.669150</td>\n",
       "      <td>0.256942</td>\n",
       "      <td>0.226699</td>\n",
       "      <td>2.964490</td>\n",
       "      <td>4.330836</td>\n",
       "      <td>0.609557</td>\n",
       "      <td>5.33</td>\n",
       "      <td>0.32</td>\n",
       "      <td>JPL 108</td>\n",
       "      <td>0.996719</td>\n",
       "      <td>1592.787270</td>\n",
       "      <td>0.003945</td>\n",
       "      <td>1.621697</td>\n",
       "      <td>2.008860</td>\n",
       "      <td>1.012141</td>\n",
       "      <td>-154.522558</td>\n",
       "    </tr>\n",
       "    <tr>\n",
       "      <td>4</td>\n",
       "      <td>4</td>\n",
       "      <td>Vesta</td>\n",
       "      <td>58600.0</td>\n",
       "      <td>2.361418</td>\n",
       "      <td>0.088721</td>\n",
       "      <td>0.124647</td>\n",
       "      <td>1.811840</td>\n",
       "      <td>2.630709</td>\n",
       "      <td>1.673106</td>\n",
       "      <td>3.20</td>\n",
       "      <td>0.32</td>\n",
       "      <td>JPL 34</td>\n",
       "      <td>-4.436417</td>\n",
       "      <td>1325.432768</td>\n",
       "      <td>0.004740</td>\n",
       "      <td>6.115656</td>\n",
       "      <td>0.006132</td>\n",
       "      <td>4.442550</td>\n",
       "      <td>-352.940421</td>\n",
       "    </tr>\n",
       "    <tr>\n",
       "      <td>5</td>\n",
       "      <td>5</td>\n",
       "      <td>Astraea</td>\n",
       "      <td>58600.0</td>\n",
       "      <td>2.574249</td>\n",
       "      <td>0.191095</td>\n",
       "      <td>0.093672</td>\n",
       "      <td>2.470978</td>\n",
       "      <td>6.260280</td>\n",
       "      <td>4.928221</td>\n",
       "      <td>6.85</td>\n",
       "      <td>0.15</td>\n",
       "      <td>JPL 108</td>\n",
       "      <td>-1.738676</td>\n",
       "      <td>1508.600442</td>\n",
       "      <td>0.004165</td>\n",
       "      <td>1.093108</td>\n",
       "      <td>0.709396</td>\n",
       "      <td>2.448072</td>\n",
       "      <td>325.328481</td>\n",
       "    </tr>\n",
       "    <tr>\n",
       "      <td>...</td>\n",
       "      <td>...</td>\n",
       "      <td>...</td>\n",
       "      <td>...</td>\n",
       "      <td>...</td>\n",
       "      <td>...</td>\n",
       "      <td>...</td>\n",
       "      <td>...</td>\n",
       "      <td>...</td>\n",
       "      <td>...</td>\n",
       "      <td>...</td>\n",
       "      <td>...</td>\n",
       "      <td>...</td>\n",
       "      <td>...</td>\n",
       "      <td>...</td>\n",
       "      <td>...</td>\n",
       "      <td>...</td>\n",
       "      <td>...</td>\n",
       "      <td>...</td>\n",
       "      <td>...</td>\n",
       "    </tr>\n",
       "    <tr>\n",
       "      <td>541124</td>\n",
       "      <td>541124</td>\n",
       "      <td>2018 RP23</td>\n",
       "      <td>58600.0</td>\n",
       "      <td>2.586399</td>\n",
       "      <td>0.289358</td>\n",
       "      <td>0.088749</td>\n",
       "      <td>2.000720</td>\n",
       "      <td>3.913328</td>\n",
       "      <td>1.075531</td>\n",
       "      <td>17.30</td>\n",
       "      <td>0.15</td>\n",
       "      <td>JPL 7</td>\n",
       "      <td>1.654537</td>\n",
       "      <td>1519.293350</td>\n",
       "      <td>0.004136</td>\n",
       "      <td>0.706394</td>\n",
       "      <td>1.285400</td>\n",
       "      <td>-0.369137</td>\n",
       "      <td>-260.066715</td>\n",
       "    </tr>\n",
       "    <tr>\n",
       "      <td>541125</td>\n",
       "      <td>541125</td>\n",
       "      <td>2018 RV23</td>\n",
       "      <td>58600.0</td>\n",
       "      <td>3.113036</td>\n",
       "      <td>0.213678</td>\n",
       "      <td>0.203046</td>\n",
       "      <td>0.544794</td>\n",
       "      <td>0.242079</td>\n",
       "      <td>0.130760</td>\n",
       "      <td>16.10</td>\n",
       "      <td>0.15</td>\n",
       "      <td>JPL 8</td>\n",
       "      <td>0.206083</td>\n",
       "      <td>2006.201725</td>\n",
       "      <td>0.003132</td>\n",
       "      <td>0.917633</td>\n",
       "      <td>0.992956</td>\n",
       "      <td>0.786873</td>\n",
       "      <td>-41.751113</td>\n",
       "    </tr>\n",
       "    <tr>\n",
       "      <td>541126</td>\n",
       "      <td>541126</td>\n",
       "      <td>2018 RP24</td>\n",
       "      <td>58600.0</td>\n",
       "      <td>2.453880</td>\n",
       "      <td>0.176693</td>\n",
       "      <td>0.194504</td>\n",
       "      <td>2.649626</td>\n",
       "      <td>3.695880</td>\n",
       "      <td>0.937231</td>\n",
       "      <td>17.30</td>\n",
       "      <td>0.15</td>\n",
       "      <td>JPL 6</td>\n",
       "      <td>1.258854</td>\n",
       "      <td>1404.036362</td>\n",
       "      <td>0.004475</td>\n",
       "      <td>0.999551</td>\n",
       "      <td>1.321174</td>\n",
       "      <td>0.062320</td>\n",
       "      <td>-209.433076</td>\n",
       "    </tr>\n",
       "    <tr>\n",
       "      <td>541127</td>\n",
       "      <td>541127</td>\n",
       "      <td>2018 RL26</td>\n",
       "      <td>58600.0</td>\n",
       "      <td>3.081248</td>\n",
       "      <td>0.081239</td>\n",
       "      <td>0.193310</td>\n",
       "      <td>2.381747</td>\n",
       "      <td>3.426307</td>\n",
       "      <td>1.047446</td>\n",
       "      <td>16.00</td>\n",
       "      <td>0.15</td>\n",
       "      <td>JPL 6</td>\n",
       "      <td>1.195142</td>\n",
       "      <td>1975.551358</td>\n",
       "      <td>0.003180</td>\n",
       "      <td>0.572315</td>\n",
       "      <td>0.720011</td>\n",
       "      <td>-0.475131</td>\n",
       "      <td>-329.336645</td>\n",
       "    </tr>\n",
       "    <tr>\n",
       "      <td>541128</td>\n",
       "      <td>541128</td>\n",
       "      <td>2018 RB27</td>\n",
       "      <td>58600.0</td>\n",
       "      <td>2.934075</td>\n",
       "      <td>0.064910</td>\n",
       "      <td>0.216796</td>\n",
       "      <td>0.496382</td>\n",
       "      <td>5.871405</td>\n",
       "      <td>0.468771</td>\n",
       "      <td>15.50</td>\n",
       "      <td>0.15</td>\n",
       "      <td>JPL 4</td>\n",
       "      <td>0.531942</td>\n",
       "      <td>1835.714944</td>\n",
       "      <td>0.003423</td>\n",
       "      <td>0.553374</td>\n",
       "      <td>0.616544</td>\n",
       "      <td>0.084602</td>\n",
       "      <td>-136.957715</td>\n",
       "    </tr>\n",
       "  </tbody>\n",
       "</table>\n",
       "<p>541073 rows × 19 columns</p>\n",
       "</div>"
      ],
      "text/plain": [
       "           Num       Name  epoch_mjd         a         e       inc     Omega  \\\n",
       "Num                                                                            \n",
       "1            1      Ceres    58600.0  2.769165  0.076009  0.184901  1.401596   \n",
       "2            2     Pallas    58600.0  2.772466  0.230337  0.608007  3.020817   \n",
       "3            3       Juno    58600.0  2.669150  0.256942  0.226699  2.964490   \n",
       "4            4      Vesta    58600.0  2.361418  0.088721  0.124647  1.811840   \n",
       "5            5    Astraea    58600.0  2.574249  0.191095  0.093672  2.470978   \n",
       "...        ...        ...        ...       ...       ...       ...       ...   \n",
       "541124  541124  2018 RP23    58600.0  2.586399  0.289358  0.088749  2.000720   \n",
       "541125  541125  2018 RV23    58600.0  3.113036  0.213678  0.203046  0.544794   \n",
       "541126  541126  2018 RP24    58600.0  2.453880  0.176693  0.194504  2.649626   \n",
       "541127  541127  2018 RL26    58600.0  3.081248  0.081239  0.193310  2.381747   \n",
       "541128  541128  2018 RB27    58600.0  2.934075  0.064910  0.216796  0.496382   \n",
       "\n",
       "           omega         M      H     G      Ref         f            P  \\\n",
       "Num                                                                       \n",
       "1       1.284522  1.350398   3.34  0.12   JPL 46  1.501306  1683.145749   \n",
       "2       5.411373  1.041946   4.13  0.11   JPL 35  1.490912  1686.155979   \n",
       "3       4.330836  0.609557   5.33  0.32  JPL 108  0.996719  1592.787270   \n",
       "4       2.630709  1.673106   3.20  0.32   JPL 34 -4.436417  1325.432768   \n",
       "5       6.260280  4.928221   6.85  0.15  JPL 108 -1.738676  1508.600442   \n",
       "...          ...       ...    ...   ...      ...       ...          ...   \n",
       "541124  3.913328  1.075531  17.30  0.15    JPL 7  1.654537  1519.293350   \n",
       "541125  0.242079  0.130760  16.10  0.15    JPL 8  0.206083  2006.201725   \n",
       "541126  3.695880  0.937231  17.30  0.15    JPL 6  1.258854  1404.036362   \n",
       "541127  3.426307  1.047446  16.00  0.15    JPL 6  1.195142  1975.551358   \n",
       "541128  5.871405  0.468771  15.50  0.15    JPL 4  0.531942  1835.714944   \n",
       "\n",
       "               n      long     theta    pomega      T_peri  \n",
       "Num                                                         \n",
       "1       0.003733  4.036516  4.187424  2.686118 -361.745873  \n",
       "2       0.003726  3.190951  3.639917  2.149005 -279.616804  \n",
       "3       0.003945  1.621697  2.008860  1.012141 -154.522558  \n",
       "4       0.004740  6.115656  0.006132  4.442550 -352.940421  \n",
       "5       0.004165  1.093108  0.709396  2.448072  325.328481  \n",
       "...          ...       ...       ...       ...         ...  \n",
       "541124  0.004136  0.706394  1.285400 -0.369137 -260.066715  \n",
       "541125  0.003132  0.917633  0.992956  0.786873  -41.751113  \n",
       "541126  0.004475  0.999551  1.321174  0.062320 -209.433076  \n",
       "541127  0.003180  0.572315  0.720011 -0.475131 -329.336645  \n",
       "541128  0.003423  0.553374  0.616544  0.084602 -136.957715  \n",
       "\n",
       "[541073 rows x 19 columns]"
      ]
     },
     "execution_count": 8,
     "metadata": {},
     "output_type": "execute_result"
    }
   ],
   "source": [
    "ast_elt"
   ]
  },
  {
   "cell_type": "code",
   "execution_count": 9,
   "metadata": {},
   "outputs": [],
   "source": [
    "# Index for Ceres\n",
    "idx_ast = np.where(ast_elt.Name=='Ceres')\n",
    "\n",
    "# Get the index for observation time\n",
    "ts = inputs['ts'][idx_ast].flatten()"
   ]
  },
  {
   "cell_type": "code",
   "execution_count": 10,
   "metadata": {},
   "outputs": [
    {
     "data": {
      "text/plain": [
       "array([51544., 51545., 51546., ..., 66517., 66518., 66519.], dtype=float32)"
      ]
     },
     "execution_count": 10,
     "metadata": {},
     "output_type": "execute_result"
    }
   ],
   "source": [
    "ts"
   ]
  },
  {
   "cell_type": "code",
   "execution_count": 11,
   "metadata": {},
   "outputs": [],
   "source": [
    "# Index of observation time <= obs_time\n",
    "idx_t = np.searchsorted(ts, obstime_mjd-0.5)"
   ]
  },
  {
   "cell_type": "code",
   "execution_count": 12,
   "metadata": {},
   "outputs": [
    {
     "name": "stdout",
     "output_type": "stream",
     "text": [
      "t0:       58600.0\n",
      "t1:       58601.0\n",
      "obstime,  58600.0\n",
      "w0:  1.0\n",
      "w1:  0.0\n"
     ]
    }
   ],
   "source": [
    "t0 = ts[idx_t].item()\n",
    "t1 = ts[idx_t+1].item()\n",
    "w0 = (t1 - obstime_mjd) / (t1 - t0 )\n",
    "w1 = (obstime_mjd - t0) / (t1 - t0)\n",
    "print(f't0:      ', t0)\n",
    "print(f't1:      ', t1)\n",
    "print(f'obstime, ', obstime_mjd)\n",
    "print(f'w0: ', w0)\n",
    "print(f'w1: ', w1)"
   ]
  },
  {
   "cell_type": "code",
   "execution_count": 13,
   "metadata": {},
   "outputs": [],
   "source": [
    "# Interpolated asteroid positions as observation time\n",
    "q0 = outputs['q'][:, idx_t]\n",
    "q1 = outputs['q'][:, idx_t+1]\n",
    "q = w0 * q0 + w1 * q1"
   ]
  },
  {
   "cell_type": "code",
   "execution_count": 14,
   "metadata": {},
   "outputs": [],
   "source": [
    "# Interpolated asteroid positions as observation time\n",
    "v0 = outputs['v'][:, idx_t]\n",
    "v1 = outputs['v'][:, idx_t+1]\n",
    "v = w0 * v0 + w1 * v1"
   ]
  },
  {
   "cell_type": "code",
   "execution_count": 15,
   "metadata": {},
   "outputs": [],
   "source": [
    "# Interpolated asteroid positions as observation time\n",
    "u0 = outputs['u'][:, idx_t]\n",
    "u1 = outputs['u'][:, idx_t+1]\n",
    "u = w0 * u0 + w1 * u1"
   ]
  },
  {
   "cell_type": "code",
   "execution_count": 16,
   "metadata": {},
   "outputs": [],
   "source": [
    "# Predicted position and direction of Ceres\n",
    "q_ast_mse = q[idx_ast].flatten() * au\n",
    "\n",
    "# Get position of Earth using utility function\n",
    "q_earth_mse = get_earth_pos(obstime_mjd) * au\n",
    "\n",
    "# Relative position\n",
    "q_rel_mse = q_ast_mse - q_earth_mse\n",
    "\n",
    "# Direction\n",
    "u_mse = q_rel_mse.value / np.linalg.norm(q_rel_mse.value)"
   ]
  },
  {
   "cell_type": "code",
   "execution_count": 17,
   "metadata": {},
   "outputs": [
    {
     "name": "stdout",
     "output_type": "stream",
     "text": [
      "Difference between direction methods:  6.01e-03 arc seconds\n"
     ]
    }
   ],
   "source": [
    "# Demonstrate that two methods of getting direction vector from MSE essentially identical\n",
    "\n",
    "# Method 1: Normalize the manually computed displacement vector from earth to ast\n",
    "u_mse2 = q_rel_mse.value / np.linalg.norm(q_rel_mse.value)\n",
    "\n",
    "# Method 2: interpolate the pre-computed direction vector u\n",
    "u_mse2 = u[idx_ast].flatten()\n",
    "u_mse2 = u_mse2 / np.linalg.norm(u_mse2)\n",
    "diff_sec = np.rad2deg(np.linalg.norm(u_mse - u_mse2))*3600\n",
    "# Report\n",
    "print(f'Difference between direction methods: ', f'{diff_sec:4.2e} arc seconds')"
   ]
  },
  {
   "cell_type": "code",
   "execution_count": 18,
   "metadata": {},
   "outputs": [
    {
     "name": "stdout",
     "output_type": "stream",
     "text": [
      "Position (MSE):\n",
      "Earth: [-8.12085390e-01 -5.94353020e-01  3.01103355e-05] AU\n",
      "Ceres: [-1.3565673  -2.3726602   0.17537652] AU\n",
      "Rel  : [-0.54448187 -1.77830714  0.17534641] AU\n",
      "Dir  : [-0.29147187 -0.95196284  0.09386639]\n"
     ]
    }
   ],
   "source": [
    "# Print position of Ceres, Earth, and relative according to MSE\n",
    "print(f'Position (MSE):')\n",
    "print(f'Earth:', q_earth_mse)\n",
    "print(f'Ceres:', q_ast_mse)\n",
    "print(f'Rel  :', q_rel_mse)\n",
    "print(f'Dir  :', u_mse)\n",
    "\n",
    "# Print relative velocity\n",
    "# print(f'\\nRelative velocity (JPL):')\n",
    "# print(v_rel_jpl)"
   ]
  },
  {
   "cell_type": "markdown",
   "metadata": {},
   "source": [
    "### Compare JPL vs. MSE Integrated Coordinates"
   ]
  },
  {
   "cell_type": "code",
   "execution_count": 19,
   "metadata": {},
   "outputs": [],
   "source": [
    "# Calculate error (MSE minus JPL) for position of Ceres, Earth, and relative\n",
    "q_ast_err = q_ast_mse - q_ast_jpl\n",
    "q_earth_err = q_earth_mse - q_earth_jpl\n",
    "q_rel_err = q_rel_mse - q_rel_jpl\n",
    "u_err = u_mse - u_jpl\n",
    "\n",
    "# Compute vector norms\n",
    "q_ast_err_norm = np.linalg.norm(q_ast_err.value)\n",
    "q_earth_err_norm = np.linalg.norm(q_earth_err.value)\n",
    "q_rel_err_norm = np.linalg.norm(q_rel_err.value)\n",
    "u_err_norm = np.linalg.norm(u_err)\n",
    "u_err_norm_sec = np.rad2deg(u_err_norm) * 3600"
   ]
  },
  {
   "cell_type": "code",
   "execution_count": 20,
   "metadata": {},
   "outputs": [
    {
     "name": "stdout",
     "output_type": "stream",
     "text": [
      "Position Error (MSE-JPL):\n",
      "Ceres: [-2.29469036e-07  6.91557185e-08  9.06279444e-08] AU ; norm =  2.56e-07\n",
      "Earth: [-2.72190521e-08  1.40254693e-08  3.19459110e-13] AU ; norm =  3.06e-08\n",
      "Rel  : [-2.02249983e-07  5.51302493e-08  9.06276249e-08] AU ; norm =  2.28e-07\n",
      "Dir  : [-1.05931825e-07  3.71436896e-08  4.77622761e-08] ; norm =  1.22e-07 / 0.025 arc seconds\n"
     ]
    }
   ],
   "source": [
    "# Print position of Ceres, Earth, and relative according to MSE\n",
    "print(f'Position Error (MSE-JPL):')\n",
    "print(f'Ceres:', q_ast_err,  '; norm = ', f'{q_ast_err_norm:4.2e}')\n",
    "print(f'Earth:', q_earth_err, '; norm = ', f'{q_earth_err_norm:4.2e}')\n",
    "print(f'Rel  :', q_rel_err,  '; norm = ', f'{q_rel_err_norm:4.2e}')\n",
    "print(f'Dir  :', u_err,  '; norm = ', f'{u_err_norm:4.2e} / {u_err_norm_sec:5.3f} arc seconds')"
   ]
  },
  {
   "cell_type": "markdown",
   "metadata": {},
   "source": [
    "**Conclusion**<br>\n",
    "MSE results are all in heliocentric coordinates.<br>\n",
    "Agreement to JPL coordinates is excellent, to order 1E-7 AU.<br>\n",
    "Direction from earth "
   ]
  },
  {
   "cell_type": "markdown",
   "metadata": {},
   "source": [
    "### Observation of Ceres According to JPL"
   ]
  },
  {
   "cell_type": "code",
   "execution_count": 21,
   "metadata": {},
   "outputs": [],
   "source": [
    "# Astrometric RA and DEC of Ceres at 2458600.5 according to JPL\n",
    "ra = 252.250075738 * deg\n",
    "dec = -17.009538673 * deg\n",
    "delta = 1.86800464519883 * au\n",
    "delta_dot = -12.8811808 * km / second\n",
    "\n",
    "# Apparent RA and DEC\n",
    "ra_app = 252.528732090 * deg\n",
    "dec_app = -17.041522707 * deg\n",
    "\n",
    "# Down-leg light time\n",
    "light_time = 15.53572090 * minute\n",
    "\n",
    "# Heliocentric coordinates of Ceres\n",
    "ast_hel_lon = 240.239114 * deg\n",
    "ast_hel_lat = 3.671885 * deg\n",
    "ast_r = 2.738704926 * au\n",
    "ast_r_dot = 1.3611037 * km / second\n",
    "\n",
    "# Heliocentric coordinates of Earth\n",
    "# earth_hel_lon_deg = 216.1950 * deg\n",
    "# earth_hel_lat_deg = 0.0017 * deg\n",
    "# earth_r_au = 1.006347536397"
   ]
  },
  {
   "cell_type": "code",
   "execution_count": 22,
   "metadata": {},
   "outputs": [],
   "source": [
    "# Reference frames\n",
    "# https://docs.astropy.org/en/stable/api/astropy.coordinates.ICRS.html\n",
    "frame_solar = HeliocentricMeanEcliptic\n",
    "frame_earth = ICRS"
   ]
  },
  {
   "cell_type": "code",
   "execution_count": 23,
   "metadata": {},
   "outputs": [
    {
     "name": "stdout",
     "output_type": "stream",
     "text": [
      "geolocation of Palomar observatory:\n",
      "geoloc_palomar = (-2410346.78217658, -4758666.82504051, 3487942.97502457) m\n",
      "geoloc_palomar geodetic = GeodeticLocation(lon=<Longitude -116.863 deg>, lat=<Latitude 33.356 deg>, height=<Quantity 1706. m>)\n"
     ]
    }
   ],
   "source": [
    "# Earth location of the Palomar observatory\n",
    "geoloc_palomar_auto = EarthLocation.of_site('Palomar')\n",
    "print(f'geolocation of Palomar observatory:')\n",
    "print(f'geoloc_palomar = {geoloc_palomar_auto}')\n",
    "print(f'geoloc_palomar geodetic = {geoloc_palomar_auto.geodetic}')"
   ]
  },
  {
   "cell_type": "code",
   "execution_count": 24,
   "metadata": {},
   "outputs": [],
   "source": [
    "# For some reason, the 'nice' way to do this below leads to a bug in constructor to GCRS\n",
    "# geoloc_palomar = EarthLocation(-2410346.8, -4758666.8, 3487943, unit='m')\n",
    "\n",
    "# Workaround: extract the geolocation of the Palomar observatory using EarthLocation.of_site\n",
    "geoloc_palomar = [-2410346.78217658, -4758666.82504051, 3487942.97502457] * meter"
   ]
  },
  {
   "cell_type": "markdown",
   "metadata": {},
   "source": [
    "xxx"
   ]
  },
  {
   "cell_type": "code",
   "execution_count": null,
   "metadata": {},
   "outputs": [],
   "source": [
    "# Extract number part of JPL RA and DEC\n",
    "ra_jpl, dec_jpl, r_jpl = ra.value, dec.value, delta.value"
   ]
  },
  {
   "cell_type": "code",
   "execution_count": null,
   "metadata": {},
   "outputs": [],
   "source": [
    "dq_lt = v_earth_jpl * light_time.to(day)\n",
    "dq_lt"
   ]
  },
  {
   "cell_type": "code",
   "execution_count": null,
   "metadata": {},
   "outputs": [],
   "source": [
    "# Calculated RA, DEC\n",
    "ra_, dec_, r_ = qv2radec(q=q_ast_jpl_bary, v=v_ast_jpl_bary, mjd=obstime_mjd, \n",
    "                         frame=BarycentricMeanEcliptic, light_lag=False)\n",
    "\n",
    "# Report results\n",
    "print(f'Calculations using qv2radec() with JPL positions as inputs, no light lag.')\n",
    "err=report_radec_diff(name1='JPL', name2='Calc', ra1=ra_jpl, dec1=dec_jpl, ra2=ra_, dec2=dec_, obstime_mjd=obstime_mjd)"
   ]
  },
  {
   "cell_type": "code",
   "execution_count": null,
   "metadata": {},
   "outputs": [],
   "source": [
    "# Calculated RA, DEC\n",
    "ra_, dec_, r_ = qv2radec(q=q_ast_jpl_bary, v=v_ast_jpl_bary, mjd=obstime_mjd, \n",
    "                         frame=BarycentricMeanEcliptic, light_lag=True)\n",
    "\n",
    "# Report results\n",
    "print(f'Calculations using qv2radec() with JPL positions as inputs, with light lag.')\n",
    "err=report_radec_diff(name1='JPL', name2='Calc', ra1=ra_jpl, dec1=dec_jpl, ra2=ra_, dec2=dec_, obstime_mjd=obstime_mjd)"
   ]
  },
  {
   "cell_type": "code",
   "execution_count": null,
   "metadata": {},
   "outputs": [],
   "source": [
    "obs.distance"
   ]
  },
  {
   "cell_type": "code",
   "execution_count": null,
   "metadata": {},
   "outputs": [],
   "source": [
    "light_time = obs.distance.to(meter) / light_speed\n",
    "light_time"
   ]
  },
  {
   "cell_type": "code",
   "execution_count": null,
   "metadata": {},
   "outputs": [],
   "source": [
    "v_ast_jpl.to(au/day) * light_time.to(day)"
   ]
  },
  {
   "cell_type": "code",
   "execution_count": null,
   "metadata": {},
   "outputs": [],
   "source": [
    "dir(obs)"
   ]
  },
  {
   "cell_type": "code",
   "execution_count": null,
   "metadata": {},
   "outputs": [],
   "source": [
    "# Calculated RA, DEC\n",
    "ra_, dec_, r_ = qvrel2radec(q_body=q_ast_jpl_bary-dq_lt*1.0, v_body=v_ast_jpl_bary,\n",
    "                            q_earth=q_earth_jpl_bary, v_earth=v_earth_jpl_bary,\n",
    "                            mjd=obstime_mjd, frame=BarycentricMeanEcliptic)\n",
    "\n",
    "# Report results\n",
    "print(f'Calculations using qvrel2radec() with JPL positions as inputs')\n",
    "report_radec_diff(name1='JPL', name2='Calc', ra1=ra_jpl, dec1=dec_jpl, ra2=ra_, dec2=dec_, obstime_mjd=obstime_mjd)"
   ]
  },
  {
   "cell_type": "markdown",
   "metadata": {},
   "source": [
    "### JPL Calculates RA/DEC Differently Than Astropy!"
   ]
  },
  {
   "cell_type": "code",
   "execution_count": null,
   "metadata": {},
   "outputs": [],
   "source": [
    "# Set the frames for solar and earth\n",
    "# frame_solar = HeliocentricMeanEcliptic\n",
    "# frame_earth = ICRS\n",
    "\n",
    "# Create the observation in the Solar frame using Cartesian coordinates equal to the JPL displacement\n",
    "x, y, z = q_rel_jpl\n",
    "v_x, v_y, v_z = v_rel_jpl\n",
    "obs_solar = SkyCoord(x=x, y=y, z=z, v_x=v_x, v_y=v_y, v_z=v_z, obstime=obstime, \n",
    "                     representation_type='cartesian', frame=frame_solar)\n",
    "\n",
    "# Get the RA and DEC in the earth frame (ICRS) from astropy.  This is not the same as the way JPL does it!\n",
    "obs_earth = obs_solar.transform_to(frame_earth)\n",
    "\n",
    "# Unpack the RA, DEC and distance from astropy\n",
    "ra_ap, dec_ap, delta_ap = obs_earth.ra, obs_earth.dec, obs_earth.distance\n",
    "\n",
    "# Display the observed position as an AP SkyCoord in spherical coordinates\n",
    "print('Solar Frame:', obs_solar)\n",
    "print('Earth Frame:', obs_earth)\n",
    "\n",
    "print(f'\\nAP Spherical Coordinates (diff to JPL):')\n",
    "print(f'RA : {ra_ap:10.6f} ({ra-ra_ap:10.6f})')\n",
    "print(f'DEC: {dec_ap:10.6f} ({dec-dec_ap:10.6f})')\n",
    "print(f'R  : {delta_ap:10.6f} ({delta-delta_ap:10.6f})')"
   ]
  },
  {
   "cell_type": "code",
   "execution_count": null,
   "metadata": {},
   "outputs": [],
   "source": [
    "obs_solar"
   ]
  },
  {
   "cell_type": "code",
   "execution_count": null,
   "metadata": {},
   "outputs": [],
   "source": [
    "v_rel_jpl"
   ]
  },
  {
   "cell_type": "code",
   "execution_count": null,
   "metadata": {},
   "outputs": [],
   "source": [
    "# Demonstrate that astropy is internally consistent.\n",
    "# If we convert the RA and DEC back to a Cartesian representation, we recover the input position\n",
    "\n",
    "# Create an observation from the RA and DEC extracted from the Cartesian representation\n",
    "obs_earth_rec = SkyCoord(ra=ra_ap, dec=dec_ap, distance=delta_ap, obstime=obstime, frame=frame_earth)\n",
    "\n",
    "# Transform it back to Cartesian coordinates in the Heliocentric frame\n",
    "obs_solar_rec = obs_earth_rec.transform_to(frame_solar)\n",
    "\n",
    "# Extract its Cartesian coordinates\n",
    "q_rel_ap = obs_solar_rec.cartesian.xyz\n",
    "\n",
    "# Compare to the starting coordinates: they are very close!\n",
    "q_err = q_rel_ap - q_rel_jpl\n",
    "q_err_norm = np.linalg.norm(q_err.value)\n",
    "\n",
    "# Report results\n",
    "print('Displacement:')\n",
    "print('JPL:', q_rel_jpl)\n",
    "print('AP :', q_rel_ap)\n",
    "\n",
    "print(f'\\nError in recovery of q_rel from round trip in astropy:')\n",
    "print(f'q_err:', q_err)\n",
    "print(f'Norm:  {q_err_norm:4.2e}')"
   ]
  },
  {
   "cell_type": "markdown",
   "metadata": {},
   "source": [
    "**Conclusion**<br>\n",
    "A round trip between the solar frame (HeliocentricMeanEcliptic) and earth frame (ICRS) is internally consistant in astropy up to float precision.<br>\n",
    "Error is negligible, on the order of $10^{-15}$ AU.<br>\n",
    "The astropy RA and DEC are slightly but meaningfully different from the JPL calculations."
   ]
  },
  {
   "cell_type": "code",
   "execution_count": null,
   "metadata": {},
   "outputs": [],
   "source": [
    "# Demonstrate that astropy gets different values when fed the RA and DEC from JPL\n",
    "\n",
    "# Create an observation from the RA and DEC quoted by JPL\n",
    "obs_earth_jpl = SkyCoord(ra=ra, dec=dec, distance=delta, obstime=obstime, frame=frame_earth)\n",
    "\n",
    "# Convert this to the earth frame using the same exact method as above\n",
    "obs_solar_jpl = obs_earth_jpl.transform_to(frame_solar)\n",
    "\n",
    "# Extract its Cartesian coordinates\n",
    "q_rel_jpl2 = obs_solar_jpl.cartesian.xyz\n",
    "\n",
    "# Get the implied directions\n",
    "u_jpl = q_rel_jpl.value / np.linalg.norm(q_rel_jpl.value)\n",
    "u_jpl2 = q_rel_jpl2.value / np.linalg.norm(q_rel_jpl2.value)\n",
    "\n",
    "# Compare to the starting coordinates: they are very close!\n",
    "q_err = q_rel_jpl2 - q_rel_jpl\n",
    "q_err_norm = np.linalg.norm(q_err.value)\n",
    "\n",
    "# Error in direction\n",
    "u_err = u_jpl2 - u_jpl\n",
    "u_err_norm = np.linalg.norm(u_err)\n",
    "u_err_deg = np.rad2deg(u_err_norm)\n",
    "\n",
    "# Report results\n",
    "print('Displacement:')\n",
    "print('JPL from Vectors:', q_rel_jpl)\n",
    "print('JPL from RA, DEC:', q_rel_jpl2)\n",
    "\n",
    "print(f'\\nError in recovery of q_rel from RA and DEC quoted by JPL:')\n",
    "print(f'q_err:', q_err)\n",
    "print(f'Norm:  {q_err_norm:4.2e}')\n",
    "\n",
    "print(f'\\nError in recovery of u from RA and DEC quoted by JPL:')\n",
    "print(f'u_err:', u_err)\n",
    "print(f'Norm:  {u_err_norm:4.2e} ({u_err_deg:8.6f} degrees)')"
   ]
  },
  {
   "cell_type": "markdown",
   "metadata": {},
   "source": [
    "### Try Simple Light-Time Adustment"
   ]
  },
  {
   "cell_type": "code",
   "execution_count": null,
   "metadata": {},
   "outputs": [],
   "source": [
    "q_rel_jpl"
   ]
  },
  {
   "cell_type": "code",
   "execution_count": null,
   "metadata": {},
   "outputs": [],
   "source": [
    "light_time"
   ]
  },
  {
   "cell_type": "code",
   "execution_count": null,
   "metadata": {},
   "outputs": [],
   "source": [
    "light_time.to(day)"
   ]
  },
  {
   "cell_type": "code",
   "execution_count": null,
   "metadata": {},
   "outputs": [],
   "source": [
    "v_rel_jpl"
   ]
  },
  {
   "cell_type": "code",
   "execution_count": null,
   "metadata": {},
   "outputs": [],
   "source": [
    "dq = v_earth_jpl * light_time.to(day)\n",
    "dq"
   ]
  },
  {
   "cell_type": "code",
   "execution_count": null,
   "metadata": {},
   "outputs": [],
   "source": [
    "q_rel_adj - q_rel_jpl"
   ]
  },
  {
   "cell_type": "code",
   "execution_count": null,
   "metadata": {},
   "outputs": [],
   "source": [
    "# Create the observation in the Solar frame using Cartesian coordinates equal to the JPL displacement\n",
    "dq = v_ast_jpl * light_time.to(day)\n",
    "q_rel_adj = q_rel_jpl + dq\n",
    "x, y, z = q_rel_adj\n",
    "v_x, v_y, v_z = v_rel_jpl\n",
    "# q_rel_adj = \n",
    "obs_solar = SkyCoord(x=x, y=y, z=z, v_x=v_x, v_y=v_y, v_z=v_z, obstime=obstime, \n",
    "                     representation_type='cartesian', frame=frame_solar)\n",
    "\n",
    "# Get the RA and DEC in the earth frame (ICRS) from astropy.  This is not the same as the way JPL does it!\n",
    "obs_earth = obs_solar.transform_to(frame_earth)\n",
    "\n",
    "# Unpack the RA, DEC and distance from astropy\n",
    "ra_ap, dec_ap, delta_ap = obs_earth.ra, obs_earth.dec, obs_earth.distance\n",
    "\n",
    "# Display the observed position as an AP SkyCoord in spherical coordinates\n",
    "print('Solar Frame:', obs_solar)\n",
    "print('Earth Frame:', obs_earth)\n",
    "\n",
    "print(f'\\nJPL Spherical Coordinates (diff):')\n",
    "print(f'RA : {ra_ap:10.6f} ({ra-ra_ap:10.6f})')\n",
    "print(f'DEC: {dec_ap:10.6f} ({dec-dec_ap:10.6f})')\n",
    "print(f'R  : {delta_ap:10.6f} ({delta-delta_ap:10.6f})')"
   ]
  },
  {
   "cell_type": "markdown",
   "metadata": {},
   "source": [
    "**Results without Light Time Adjustment**<br>\n",
    "```\n",
    "AP Spherical Coordinates (diff to JPL):\n",
    "RA : 252.132890 deg (  0.117186 deg)\n",
    "DEC: -16.977729 deg ( -0.031810 deg)\n",
    "R  :   1.861312 AU (  0.006693 AU\n",
    "```"
   ]
  },
  {
   "cell_type": "code",
   "execution_count": null,
   "metadata": {},
   "outputs": [],
   "source": [
    "q_rel_jpl.value"
   ]
  },
  {
   "cell_type": "code",
   "execution_count": null,
   "metadata": {},
   "outputs": [],
   "source": [
    "q_rel_jpl"
   ]
  },
  {
   "cell_type": "markdown",
   "metadata": {},
   "source": [
    "### Coordinates of Ceres at MJD 58600 as SkyCoord instance"
   ]
  },
  {
   "cell_type": "code",
   "execution_count": null,
   "metadata": {},
   "outputs": [],
   "source": [
    "# Alternate syntaxes for creating a SkyCoord class\n",
    "# c = SkyCoord(ra=ra_deg, dec=dec_deg, unit='deg', frame=frame_earth)\n",
    "# c = SkyCoord(ra=ra_deg*astropy.units.deg, dec=dec_deg*astropy.units.deg, distance=delta_au*astropy.units.au, frame=frame_earth)\n",
    "# c = SkyCoord(ra=ra_deg, dec=dec_deg, distance=delta_au, unit='deg', frame=frame_earth)"
   ]
  },
  {
   "cell_type": "code",
   "execution_count": null,
   "metadata": {},
   "outputs": [],
   "source": [
    "# Distances of zero and one AU\n",
    "zero_au = 0.0 * au \n",
    "one_au = 1.0 * au\n",
    "\n",
    "# Angle of zero degrees\n",
    "zero_deg = 0.0 * deg\n",
    "\n",
    "# Observation time\n",
    "obstime = astropy.time.Time(val=obstime_mjd, format='mjd')\n",
    "\n",
    "# Display class outputs\n",
    "print(f'Observation of Ceres according to JPL:')\n",
    "print(f'obstime  = {repr(obstime)}')\n",
    "print(f'ra       = {ra}')\n",
    "print(f'dec      = {dec}')\n",
    "print(f'delta    = {delta}')\n",
    "print(f'ast r    = {ast_r}')"
   ]
  },
  {
   "cell_type": "code",
   "execution_count": null,
   "metadata": {},
   "outputs": [],
   "source": [
    "# Coordinates of Ceres in geocentric frame; include observation time & location.  \n",
    "# Use correct distance delta_au from JPL\n",
    "# ast_geo = SkyCoord(ra=ra, dec=dec, distance=distance, obstime=obstime, frame=GCRS, obsgeoloc=geoloc_palomar)\n",
    "ast_geo = SkyCoord(ra=ra, dec=dec, distance=delta, obstime=obstime, frame=frame_earth)\n",
    "ast_geo"
   ]
  },
  {
   "cell_type": "code",
   "execution_count": null,
   "metadata": {},
   "outputs": [],
   "source": [
    "# Coordinates of Earth in geocentric frame; this is easy, distance is zero!\n",
    "# earth_geo = GCRS(ra=zero_deg, dec=zero_deg, distance=zero_au, obstime=obstime, obsgeoloc = geoloc_palomar)\n",
    "earth_geo = SkyCoord(ra=zero_deg, dec=zero_deg, distance=zero_au, obstime=obstime, frame=frame_earth)\n",
    "earth_geo"
   ]
  },
  {
   "cell_type": "markdown",
   "metadata": {},
   "source": [
    "### Unit direction of Ceres in Heliocentric (J2000) Frame from RA and Dec"
   ]
  },
  {
   "cell_type": "markdown",
   "metadata": {},
   "source": [
    "### Old version"
   ]
  },
  {
   "cell_type": "code",
   "execution_count": null,
   "metadata": {},
   "outputs": [],
   "source": [
    "ast_gcrs = SkyCoord(ra=ra, dec=dec, distance=delta, obstime=obstime, frame=GCRS)\n",
    "earth_gcrs = SkyCoord(ra=zero_deg, dec=zero_deg, distance=zero_au, obstime=obstime, frame=GCRS)\n",
    "\n",
    "# convert to BarycentricMeanEcliptic\n",
    "ast_bme = ast_gcrs.transform_to(BarycentricMeanEcliptic)\n",
    "earth_bme = earth_gcrs.transform_to(BarycentricMeanEcliptic)"
   ]
  },
  {
   "cell_type": "code",
   "execution_count": null,
   "metadata": {},
   "outputs": [],
   "source": [
    "ast_bme.cartesian.xyz"
   ]
  },
  {
   "cell_type": "code",
   "execution_count": null,
   "metadata": {},
   "outputs": [],
   "source": [
    "q_ast_jpl"
   ]
  },
  {
   "cell_type": "code",
   "execution_count": null,
   "metadata": {},
   "outputs": [],
   "source": [
    "# The relative displacement\n",
    "rel_bme = ast_bme.cartesian - earth_bme.cartesian\n",
    "\n",
    "# Compare coordinates\n",
    "q_err_ast = ast_bme.cartesian.xyz - q_ast_jpl\n",
    "q_err_earth = earth_bme.cartesian.xyz - q_earth_jpl\n",
    "q_err_rel = rel_bme.xyz - q_rel_jpl\n",
    "\n",
    "# Norms of errors\n",
    "q_err_ast_norm = np.linalg.norm(q_err_ast.value)\n",
    "q_err_earth_norm = np.linalg.norm(q_err_earth.value)\n",
    "q_err_rel_norm = np.linalg.norm(q_err_rel.value)\n",
    "\n",
    "print(f'Displacement error:')\n",
    "print(f'Ceres: ', q_err_ast)\n",
    "print(f'Earth: ', q_err_earth)\n",
    "print(f'Rel  : ', q_err_rel)\n",
    "print(f'\\nNorm of errors:')\n",
    "print(f'Ceres: {q_err_ast_norm:4.2e}')\n",
    "print(f'Earth: {q_err_earth_norm:4.2e}')\n",
    "print(f'Rel  : {q_err_rel_norm:4.2e}')"
   ]
  },
  {
   "cell_type": "code",
   "execution_count": null,
   "metadata": {},
   "outputs": [],
   "source": [
    "# set the two frames\n",
    "frame_earth = GCRS\n",
    "# frame_solar = BarycentricMeanEcliptic\n",
    "# frame_solar = BarycentricTrueEcliptic\n",
    "frame_solar = HeliocentricMeanEcliptic\n",
    "# frame_solar = HeliocentricTrueEcliptic\n",
    "\n",
    "# position of the asteroid and earth in the earth frame\n",
    "ast_geo = SkyCoord(ra=ra, dec=dec, distance=delta, obstime=obstime, frame=frame_earth)\n",
    "earth_geo = SkyCoord(ra=zero_deg, dec=zero_deg, distance=zero_au, obstime=obstime, frame=frame_earth)\n",
    "\n",
    "# convert to solar frame\n",
    "ast_solar = ast_geo.transform_to(frame_solar)\n",
    "earth_solar = earth_geo.transform_to(frame_solar)"
   ]
  },
  {
   "cell_type": "code",
   "execution_count": null,
   "metadata": {},
   "outputs": [],
   "source": [
    "# The relative displacement\n",
    "rel_solar = ast_solar.cartesian - earth_solar.cartesian\n",
    "\n",
    "# Compare coordinates\n",
    "q_err_ast = ast_solar.cartesian.xyz - q_ast_jpl\n",
    "q_err_earth = earth_solar.cartesian.xyz - q_earth_jpl\n",
    "q_err_rel = rel_solar.xyz - q_rel_jpl\n",
    "\n",
    "# Norms of errors\n",
    "q_err_ast_norm = np.linalg.norm(q_err_ast.value)\n",
    "q_err_earth_norm = np.linalg.norm(q_err_earth.value)\n",
    "q_err_rel_norm = np.linalg.norm(q_err_rel.value)\n",
    "\n",
    "print(f'Displacement error:')\n",
    "print(f'Ceres: ', q_err_ast)\n",
    "print(f'Earth: ', q_err_earth)\n",
    "print(f'Rel  : ', q_err_rel)\n",
    "print(f'\\nNorm of errors:')\n",
    "print(f'Ceres: {q_err_ast_norm:4.2e}')\n",
    "print(f'Earth: {q_err_earth_norm:4.2e}')\n",
    "print(f'Rel  : {q_err_rel_norm:4.2e}')"
   ]
  },
  {
   "cell_type": "code",
   "execution_count": null,
   "metadata": {},
   "outputs": [],
   "source": [
    "SkyCoord(ra=ra, dec=dec, distance=delta, obstime=obstime, frame=GCRS).cartesian"
   ]
  },
  {
   "cell_type": "code",
   "execution_count": null,
   "metadata": {},
   "outputs": [],
   "source": [
    "SkyCoord(ra=ra, dec=dec, distance=delta, obstime=obstime, frame=ICRS).cartesian"
   ]
  },
  {
   "cell_type": "code",
   "execution_count": null,
   "metadata": {},
   "outputs": [],
   "source": [
    "x, y, z = q_rel_jpl\n",
    "obs = SkyCoord(x=x, y=y, z=z, representation_type='cartesian', obstime=obstime, frame=ICRS)"
   ]
  },
  {
   "cell_type": "code",
   "execution_count": null,
   "metadata": {},
   "outputs": [],
   "source": [
    "# recovered displacement\n",
    "q_rel_rec = obs.represent_as('cartesian')\n",
    "q_rel_rec"
   ]
  },
  {
   "cell_type": "code",
   "execution_count": null,
   "metadata": {},
   "outputs": [],
   "source": [
    "q_rel_rec.xyz - q_rel_jpl"
   ]
  },
  {
   "cell_type": "code",
   "execution_count": null,
   "metadata": {},
   "outputs": [],
   "source": [
    "# Relative displacement from Earth to Ceres in the Heliocentric frame\n",
    "# This is critical, need to transform from GCRS to Heliocentric for axes to be oriented correctly\n",
    "ast_hel = ast_geo.transform_to(frame_solar)\n",
    "earth_hel = earth_geo.transform_to(frame_solar)\n",
    "rel_hel = (ast_hel.cartesian - earth_hel.cartesian)\n",
    "print(f'Heliocentric Cartesian coordinates from JPL RA / DEC Data:')\n",
    "print('Ceres:   ', ast_hel.cartesian)\n",
    "print('Earth:   ', earth_hel.cartesian)\n",
    "print('Relative:', rel_hel)"
   ]
  },
  {
   "cell_type": "code",
   "execution_count": null,
   "metadata": {},
   "outputs": [],
   "source": [
    "# Extract arrays from heliocentric objects\n",
    "ast_jpl = ast_hel.cartesian.xyz.value\n",
    "earth_jpl = earth_hel.cartesian.xyz.value\n",
    "rel_jpl = rel_hel.xyz.value"
   ]
  },
  {
   "cell_type": "code",
   "execution_count": null,
   "metadata": {},
   "outputs": [],
   "source": [
    "# Direction from earth to asteroid\n",
    "u_jpl = rel_jpl / np.linalg.norm(rel_jpl)\n",
    "print('Direction from Earth to Ceres:')\n",
    "np.round(u_jpl, 6)"
   ]
  },
  {
   "cell_type": "code",
   "execution_count": null,
   "metadata": {},
   "outputs": [],
   "source": [
    "# Calculation in a single step using coordinate transformations.\n",
    "# Don't need the distance, just the RA and the Dec!\n",
    "# ast_geo_hcrs = SkyCoord(ra=ra, dec=dec, distance=one_au, obstime=obstime, frame=HCRS)\n",
    "rel_geo_hcrs = SkyCoord(ra=ra, dec=dec, distance=delta, obstime=obstime, frame=HCRS)\n",
    "u_jpl_hcrs = rel_geo_hcrs.transform_to(frame_solar).cartesian.xyz.value\n",
    "u_jpl_hcrs = u_jpl_hcrs / np.linalg.norm(u_jpl_hcrs)\n",
    "norm_diff = np.linalg.norm(u_jpl - u_jpl_hcrs)\n",
    "print(f'Difference between u_jpl by subtraction and method with HCRS frame:')\n",
    "print(f'Norm of difference =  {norm_diff:8.6f} = {np.rad2deg(norm_diff):5.3f} degrees')"
   ]
  },
  {
   "cell_type": "code",
   "execution_count": null,
   "metadata": {},
   "outputs": [],
   "source": [
    "# Demonstration that alternate method of subtracting in HCRS frame is exactly the same as one line transform\n",
    "# delta_hel_from_hcrs = SkyCoord\n",
    "ast_hel_from_hcrs = SkyCoord(ra=ra, dec=dec, distance=delta, obstime=obstime, frame=HCRS).transform_to(frame_solar)\n",
    "earth_hel_from_hcrs = SkyCoord(ra=zero_deg, dec=zero_deg, distance=zero_au, obstime=obstime, frame=HCRS).transform_to(frame_solar)\n",
    "rel_jpl_hcrs2 = (ast_hel_from_hcrs.cartesian.xyz.value - earth_hel_from_hcrs.cartesian.xyz.value)\n",
    "u_jpl_hcrs2 = rel_jpl_hcrs2 / np.linalg.norm(rel_jpl_hcrs2)\n",
    "norm_diff2 = np.linalg.norm(u_jpl - u_jpl_hcrs2)\n",
    "print(f'Difference between u_jpl by subtraction and method with HCRS frame:')\n",
    "print(f'Norm of difference =  {norm_diff2:8.6f} = {np.rad2deg(norm_diff2):5.3f} degrees')"
   ]
  },
  {
   "cell_type": "code",
   "execution_count": null,
   "metadata": {},
   "outputs": [],
   "source": [
    "rel_jpl_hcrs2"
   ]
  },
  {
   "cell_type": "markdown",
   "metadata": {},
   "source": [
    "### Conclusion: Conversion Procedure\n",
    "We can convert from an RA and DEC to a unit direction in two lines of code by:<br>\n",
    "1) Create the initial observation as a SkyCoord instance in the **HCRS frame** (Heloiocentric, axis aligned to GCRS)<br>\n",
    "2) Convert this observation to the **HeliocentricMeanEcliptic frame**<br>\n",
    "The two coordinate systems share the same origin (the sun, NOT the solar system barycenter).<br>\n",
    "The only difference is the axis alignment; the axes in the HCRS are aligned with earth's equator / north pole, while the axes in HeliocentricMeanEcliptic are have the z-axis orthogonal to the ecliptic, with the x-axis pointing to the equinox.<br>\n",
    "Experiments show that the same procedure using either ICRS or GCRS are not consistent with the explicit two step procedure."
   ]
  },
  {
   "cell_type": "markdown",
   "metadata": {},
   "source": [
    "### Compare two methods of Using JPL Data to Generate Directions"
   ]
  },
  {
   "cell_type": "code",
   "execution_count": null,
   "metadata": {},
   "outputs": [],
   "source": [
    "# Compare two methods \n",
    "diff_ast = ast_jpl2 - ast_jpl\n",
    "diff_earth = earth_jpl2 - earth_jpl\n",
    "diff_rel = rel_jpl2 - rel_jpl\n",
    "diff_u = u_jpl2 - u_jpl\n",
    "diff_u_norm = np.linalg.norm(diff_u)\n",
    "\n",
    "print(f'Difference in position (heliocentric long/lat - RA/DEC)')\n",
    "print(f'Asteroid  : norm={np.linalg.norm(diff_ast):5.2e} AU')\n",
    "print(f'Earth     : norm={np.linalg.norm(diff_earth):5.2e} AU')\n",
    "print(f'Rel       : norm={np.linalg.norm(diff_rel):5.2e} AU')\n",
    "print(f'Direction : norm={diff_u_norm:5.2e} / {np.rad2deg(diff_u_norm):6.4f} degrees')\n",
    "print(f'Asteroid: ', diff_ast)\n",
    "print('Earth    :', diff_earth)\n",
    "print('Rel      :', diff_rel)"
   ]
  },
  {
   "cell_type": "code",
   "execution_count": null,
   "metadata": {},
   "outputs": [],
   "source": []
  },
  {
   "cell_type": "code",
   "execution_count": null,
   "metadata": {},
   "outputs": [],
   "source": [
    "# MSE direction via lookup of output field u\n",
    "u0 = outputs['u'][:, idx_t]\n",
    "u1 = outputs['u'][:, idx_t+1]\n",
    "u = w0 * u0 + w1 * u1\n",
    "u_mse = u[idx_ast].flatten()\n",
    "np.round(u_mse, 6)"
   ]
  },
  {
   "cell_type": "code",
   "execution_count": null,
   "metadata": {},
   "outputs": [],
   "source": [
    "# Demonstrate that two methods of getting direction vector from MSE essentially identical\n",
    "np.linalg.norm(u_mse - u_mse2)"
   ]
  },
  {
   "cell_type": "code",
   "execution_count": null,
   "metadata": {},
   "outputs": [],
   "source": [
    "print(f'Heliocentric Cartesian coordinates from MSE Integration:')\n",
    "print('Ceres:   ', ast_mse)\n",
    "print('Earth:   ', earth_mse)\n",
    "print('Relative:', rel_mse)\n",
    "print('Direction:', u_mse)"
   ]
  },
  {
   "cell_type": "markdown",
   "metadata": {},
   "source": [
    "**Conclusion**<br>\n",
    "We can look up the calculated direction from Earth to an asteroid in one line by:<br>\n",
    "1) Load the asteroid direction data by calling <br>\n",
    "```inputs, outputs = make_data_one_file(0, 1000)```<br>\n",
    "2) Extract the times as ```inputs['ts'][idx_ast]``` where ```idx_ast``` is the index of the desired asteroid<br>\n",
    "3) Extract the computed directions as ```outputs['u'][idx_ast]```<br>\n",
    "4) Compute predicted direction by interpolating the desired time (as an MJD)<br>\n",
    "These results are consistent with manually subtracting the integrated asteroid position minus the earth's position in the heliocentric frame."
   ]
  },
  {
   "cell_type": "markdown",
   "metadata": {},
   "source": [
    "### Compare MSE Calculations to JPL Using RA / DEC"
   ]
  },
  {
   "cell_type": "code",
   "execution_count": null,
   "metadata": {},
   "outputs": [],
   "source": [
    "ast_err = ast_mse - ast_jpl\n",
    "ast_err_norm = np.linalg.norm(ast_err)\n",
    "print('ast_err: ', ast_err)\n",
    "print(f'norm ast_err = {ast_err_norm:5.2e}')"
   ]
  },
  {
   "cell_type": "code",
   "execution_count": null,
   "metadata": {},
   "outputs": [],
   "source": [
    "earth_err = earth_mse - earth_jpl\n",
    "earth_err_norm = np.linalg.norm(earth_err)\n",
    "print('earth_err: ', earth_err)\n",
    "print(f'norm earth_err = {earth_err_norm:5.2e}')"
   ]
  },
  {
   "cell_type": "code",
   "execution_count": null,
   "metadata": {},
   "outputs": [],
   "source": [
    "rel_err = rel_mse - rel_jpl\n",
    "rel_err_norm = np.linalg.norm(rel_err)\n",
    "print('rel_err: ', rel_err)\n",
    "print(f'norm rel_err = {rel_err_norm:5.2e}')"
   ]
  },
  {
   "cell_type": "code",
   "execution_count": null,
   "metadata": {},
   "outputs": [],
   "source": [
    "u_err = u_mse - u_jpl\n",
    "u_err_norm = np.linalg.norm(u_err)\n",
    "print('direction_err: ', u_err)\n",
    "print(f'norm direction_err = {u_err_norm:5.2e}')\n",
    "print(f'in degrees = {np.rad2deg(u_err_norm):6.4f} = ({np.rad2deg(u_err_norm)*3600:4.1f} seconds)')"
   ]
  },
  {
   "cell_type": "markdown",
   "metadata": {},
   "source": [
    "**Conclusion**<br>\n",
    "Directions predicted by MSE integration are consistent with results from JPL to within 0.0079 degrees / 28 seconds.<br>"
   ]
  },
  {
   "cell_type": "code",
   "execution_count": null,
   "metadata": {},
   "outputs": [],
   "source": []
  }
 ],
 "metadata": {
  "kernelspec": {
   "display_name": "Python [conda env:kepler]",
   "language": "python",
   "name": "conda-env-kepler-py"
  },
  "language_info": {
   "codemirror_mode": {
    "name": "ipython",
    "version": 3
   },
   "file_extension": ".py",
   "mimetype": "text/x-python",
   "name": "python",
   "nbconvert_exporter": "python",
   "pygments_lexer": "ipython3",
   "version": "3.7.4"
  }
 },
 "nbformat": 4,
 "nbformat_minor": 2
}
