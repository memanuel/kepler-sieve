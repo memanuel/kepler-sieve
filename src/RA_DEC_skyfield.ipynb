{
 "cells": [
  {
   "cell_type": "markdown",
   "metadata": {},
   "source": [
    "# Compare Skyfield and JPL RA/DEC Calculations"
   ]
  },
  {
   "cell_type": "code",
   "execution_count": 1,
   "metadata": {},
   "outputs": [],
   "source": [
    "import numpy as np\n",
    "import skyfield\n",
    "from skyfield.api import load\n",
    "from skyfield.positionlib import ICRF, Barycentric\n",
    "import astropy.time\n",
    "from astropy.units import deg, au, km, meter, day, minute, second\n",
    "from astropy.coordinates import SkyCoord, ICRS, GCRS, BarycentricMeanEcliptic, HeliocentricMeanEcliptic\n",
    "\n",
    "# MSE imports\n",
    "from astro_utils import mjd_to_jd, radec2dir, qv2radec, qvrel2radec, radec_diff\n",
    "from typing import Tuple"
   ]
  },
  {
   "cell_type": "code",
   "execution_count": 2,
   "metadata": {},
   "outputs": [
    {
     "name": "stdout",
     "output_type": "stream",
     "text": [
      "../data/jpl/ephemeris/de405.bsp\t\t../data/jpl/ephemeris/de432s.bsp\r\n",
      "../data/jpl/ephemeris/de430.bsp\t\t../data/jpl/ephemeris/de435.bsp\r\n",
      "../data/jpl/ephemeris/de431.bsp\t\t../data/jpl/ephemeris/de438.bsp\r\n",
      "../data/jpl/ephemeris/de431_part-1.bsp\t../data/jpl/ephemeris/mar097.bsp\r\n",
      "../data/jpl/ephemeris/de431_part-2.bsp\r\n"
     ]
    }
   ],
   "source": [
    "# Browse available JPL ephemeris files\n",
    "!ls ../data/jpl/ephemeris/*.bsp"
   ]
  },
  {
   "cell_type": "markdown",
   "metadata": {},
   "source": [
    "### Position and Observation of Earth and Mars according to Skyfield"
   ]
  },
  {
   "cell_type": "code",
   "execution_count": 3,
   "metadata": {},
   "outputs": [
    {
     "name": "stdout",
     "output_type": "stream",
     "text": [
      "observe mars from earth with de431 ephemerides\n",
      "ra  :  76.106846 degrees\n",
      "dec :  23.884830 degrees\n",
      "dist:   2.211754 au\n"
     ]
    }
   ],
   "source": [
    "# Get earth and mars loaded following Skyfield tutorial\n",
    "# planets = load('de421.bsp')\n",
    "# earth, mars = planets['earth'], planets['mars']\n",
    "\n",
    "# Manually load planetary positions using de431\n",
    "# JPL Horizons web interface says source for Earth is de431mx (at top of Results box, Ephemeris section)\n",
    "# Source for Mars is mar097\n",
    "# Can browse at https://naif.jpl.nasa.gov/pub/naif/generic_kernels/spk/planets/\n",
    "planets = load('../data/jpl/ephemeris/de431.bsp')\n",
    "earth = planets['earth']\n",
    "mars = planets['mars barycenter']\n",
    "\n",
    "# load timescale\n",
    "ts = load.timescale()\n",
    "\n",
    "# set observation time\n",
    "obstime_mjd = 58600.0\n",
    "obstime_jd = mjd_to_jd(obstime_mjd)\n",
    "obstime_sf = ts.tt_jd(obstime_jd)\n",
    "t = obstime_sf\n",
    "# also get obs time in astropy\n",
    "obstime_ap = astropy.time.Time(obstime_mjd, format='mjd')\n",
    "# time conversions via astropy are inconsistent :(\n",
    "# must convert directly from a jd\n",
    "\n",
    "# observe mars from earth\n",
    "obs = earth.at(t).observe(mars)\n",
    "ra, dec, distance = obs.radec()\n",
    "\n",
    "# report results\n",
    "print('observe mars from earth with de431 ephemerides')\n",
    "print(f'ra  : {ra._degrees:10.6f} degrees')\n",
    "print(f'dec : {dec._degrees:10.6f} degrees')\n",
    "print(f'dist: {distance.au:10.6f} au')"
   ]
  },
  {
   "cell_type": "code",
   "execution_count": 4,
   "metadata": {},
   "outputs": [],
   "source": [
    "# Get position at time t\n",
    "pos_earth = earth.at(t)\n",
    "pos_mars = mars.at(t)"
   ]
  },
  {
   "cell_type": "markdown",
   "metadata": {},
   "source": [
    "***Browse classes used by SkyField***"
   ]
  },
  {
   "cell_type": "code",
   "execution_count": 5,
   "metadata": {},
   "outputs": [
    {
     "name": "stdout",
     "output_type": "stream",
     "text": [
      "earth.center = 0\n",
      "earth.center_name = 0 SOLAR SYSTEM BARYCENTER\n",
      "earth.target = 399\n",
      "earth.target_name = 399 EARTH\n",
      "earth.ephemeris = \n",
      " SPICE kernel file 'de431.bsp' has 14 segments\n",
      "  JD 1721425.50 - JD 8000002.50  (0-12-31 through 17191-02-28)\n",
      "      2 -> 299  VENUS BARYCENTER -> VENUS\n",
      "      1 -> 199  MERCURY BARYCENTER -> MERCURY\n",
      "      3 -> 399  EARTH BARYCENTER -> EARTH\n",
      "      3 -> 301  EARTH BARYCENTER -> MOON\n",
      "      0 -> 10   SOLAR SYSTEM BARYCENTER -> SUN\n",
      "      0 -> 9    SOLAR SYSTEM BARYCENTER -> PLUTO BARYCENTER\n",
      "      0 -> 8    SOLAR SYSTEM BARYCENTER -> NEPTUNE BARYCENTER\n",
      "      0 -> 7    SOLAR SYSTEM BARYCENTER -> URANUS BARYCENTER\n",
      "      0 -> 6    SOLAR SYSTEM BARYCENTER -> SATURN BARYCENTER\n",
      "      0 -> 5    SOLAR SYSTEM BARYCENTER -> JUPITER BARYCENTER\n",
      "      0 -> 4    SOLAR SYSTEM BARYCENTER -> MARS BARYCENTER\n",
      "      0 -> 3    SOLAR SYSTEM BARYCENTER -> EARTH BARYCENTER\n",
      "      0 -> 2    SOLAR SYSTEM BARYCENTER -> VENUS BARYCENTER\n",
      "      0 -> 1    SOLAR SYSTEM BARYCENTER -> MERCURY BARYCENTER\n",
      "earth.positives = (<Segment 'de431.bsp' 0 SOLAR SYSTEM BARYCENTER -> 3 EARTH BARYCENTER>, <Segment 'de431.bsp' 3 EARTH BARYCENTER -> 399 EARTH>)\n",
      "earth.negatives = ()\n"
     ]
    }
   ],
   "source": [
    "print(f'earth.center = {mars.center}')\n",
    "print(f'earth.center_name = {mars.center_name}')\n",
    "print(f'earth.target = {earth.target}')\n",
    "print(f'earth.target_name = {earth.target_name}')\n",
    "print(f'earth.ephemeris = \\n', earth.ephemeris)\n",
    "print(f'earth.positives =', earth.positives)\n",
    "print(f'earth.negatives =', earth.negatives)\n",
    "# these are old\n",
    "# earth.topos('Boston')\n",
    "# print(f'earth.geometry_of(mars)=', earth.geometry_of(mars))"
   ]
  },
  {
   "cell_type": "code",
   "execution_count": 6,
   "metadata": {},
   "outputs": [
    {
     "name": "stdout",
     "output_type": "stream",
     "text": [
      "\n",
      "Earth in the ICRS Frame:\n",
      "pos_earth.cirs_xyz(t)         =  [-0.81335333 -0.53834618 -0.23489244] au\n",
      "pos_earth.position            =  [-0.81378506 -0.53834165 -0.23340276] au\n",
      "pos_earth.velocity            =  [ 0.00986741 -0.01280032 -0.00554809] au/day\n",
      "\n",
      "Earth in the Ecliptic Frame:\n",
      "pos_earth.ecliptic_xyz()      =  [-8.13785065e-01 -5.86761093e-01 -2.83704743e-06] au\n",
      "pos_earth.ecliptic_position() =  [-8.13785065e-01 -5.86761093e-01 -2.83704743e-06] au\n",
      "pos_earth.ecliptic_velocity() =  [ 9.86740640e-03 -1.39509631e-02  1.40419708e-06] au/day\n",
      "\n",
      "Other attributes of pos_earth class:\n",
      "pos_earth.center = 0\n",
      "pos_earth.target = 399\n",
      "pos_earth.distance() = 1.00326 au\n",
      "pos_earth.speed() = 0.0170879 au/day\n",
      "pos_earth.t = <Time tt=2458600.5>\n",
      "pos_earth.cirs_radec(t) = (<Angle 14h 13m 59.99s>, <Angle -13deg 32' 25.0\">, <Distance 1.00326 au>)\n",
      "pos_earth.observer_data = <skyfield.vectorlib.ObserverData object at 0x7fb16986add0>\n",
      "pos_earth.observe(mars) = <Astrometric ICRS position and velocity at date t center=399 target=4>\n",
      "pos_earth.separation_from(mars.at(t)) = 113deg 58' 33.2\"\n",
      "pos_earth.message = None\n"
     ]
    }
   ],
   "source": [
    "# These are in the ICRS frame (aligned to earth's equator)\n",
    "print('\\nEarth in the ICRS Frame:')\n",
    "print(f'pos_earth.cirs_xyz(t)         = ', pos_earth.cirs_xyz(t))\n",
    "print(f'pos_earth.position            = ', pos_earth.position)\n",
    "print(f'pos_earth.velocity            = ', pos_earth.velocity)\n",
    "\n",
    "# These are in the ecliptic frame\n",
    "print('\\nEarth in the Ecliptic Frame:')\n",
    "print(f'pos_earth.ecliptic_xyz()      = ', pos_earth.ecliptic_xyz())\n",
    "print(f'pos_earth.ecliptic_position() = ', pos_earth.ecliptic_position())\n",
    "print(f'pos_earth.ecliptic_velocity() = ', pos_earth.ecliptic_velocity())\n",
    "\n",
    "# Summary attributes\n",
    "print(f'\\nOther attributes of pos_earth class:')\n",
    "print(f'pos_earth.center = {pos_earth.center}')\n",
    "print(f'pos_earth.target =', pos_earth.target)\n",
    "# Magnitudes\n",
    "print(f'pos_earth.distance() =', pos_earth.distance())\n",
    "print(f'pos_earth.speed() =', pos_earth.speed())\n",
    "print(f'pos_earth.t =', pos_earth.t)\n",
    "print(f'pos_earth.cirs_radec(t) =', pos_earth.cirs_radec(t))\n",
    "print(f'pos_earth.observer_data =', pos_earth.observer_data)\n",
    "print(f'pos_earth.observe(mars) =', pos_earth.observe(mars))\n",
    "print(f'pos_earth.separation_from(mars.at(t)) =', pos_earth.separation_from(mars.at(t)))\n",
    "print(f'pos_earth.message =', pos_earth.message)"
   ]
  },
  {
   "cell_type": "markdown",
   "metadata": {},
   "source": [
    "### Position and Observation of Earth and Mars according to JPL"
   ]
  },
  {
   "cell_type": "code",
   "execution_count": 7,
   "metadata": {},
   "outputs": [],
   "source": [
    "# JPL: Cartesian coordinates of Earth geocenter in barycentric frame\n",
    "q_earth_jpl = [-8.137850649885880E-01, -5.867610927308373E-01, -2.837047450366285E-06] * au\n",
    "v_earth_jpl = [ 9.867406393541108E-03, -1.395096307916507E-02,  1.404197076481182E-06] * au / day\n",
    "\n",
    "# JPL: Cartesian coordinates of Mars in barycentric frame\n",
    "q_mars_jpl = [-3.283646374478960E-01, 1.570623707113252E+00, 4.073331592627085E-02] * au\n",
    "v_mars_jpl = [-1.317734697685353E-02, -1.672780021837941E-03, 2.882733450987910E-04] * au / day\n",
    "\n",
    "# Cartesian coordinates earth to mars\n",
    "q_e2m_jpl = q_mars_jpl - q_earth_jpl\n",
    "v_e2m_jpl = v_mars_jpl - v_earth_jpl"
   ]
  },
  {
   "cell_type": "code",
   "execution_count": 8,
   "metadata": {},
   "outputs": [],
   "source": [
    "# JPL: Observation from Earth of Mars\n",
    "ra_jpl = 76.107414227\n",
    "dec_jpl = 23.884882701\n",
    "ra_app_jpl = 76.391533106\n",
    "dec_app_jpl = 23.908809827\n",
    "delta_jpl = 2.21175980433254 * au\n",
    "delta_dot_jpl = 11.9879558 * km / second\n",
    "light_time_jpl = 18.39464538 * minute"
   ]
  },
  {
   "cell_type": "markdown",
   "metadata": {},
   "source": [
    "### Compare Skyfield vs. JPL "
   ]
  },
  {
   "cell_type": "code",
   "execution_count": 9,
   "metadata": {},
   "outputs": [
    {
     "name": "stdout",
     "output_type": "stream",
     "text": [
      "Difference: Skyfield - JPL\n",
      "Earth: [ 1.74264714e-10 -2.46382914e-10  2.48805459e-14]\n",
      "Mars : [-2.32302066e-10 -6.34386321e-10 -5.21031204e-11]\n",
      "E2M  : [4.06566780e-10 3.88003407e-10 5.21280010e-11]\n",
      "\n",
      "Distance: Skyfield - JPL\n",
      "Earth: 3.018e-10\n",
      "Mars : 6.776e-10\n",
      "E2M  : 5.644e-10\n"
     ]
    }
   ],
   "source": [
    "# difference in position between skyfield and JPL\n",
    "dq_earth = pos_earth.ecliptic_position().au - q_earth_jpl.value\n",
    "dq_mars = pos_mars.ecliptic_position().au - q_mars_jpl.value\n",
    "dq_e2m = dq_earth - dq_mars\n",
    "\n",
    "# display norms\n",
    "ndq_earth = np.linalg.norm(dq_earth)\n",
    "ndq_mars = np.linalg.norm(dq_mars)\n",
    "ndq_e2m = np.linalg.norm(dq_e2m)\n",
    "\n",
    "# report\n",
    "print(f'Difference: Skyfield - JPL')\n",
    "print(f'Earth:', dq_earth)\n",
    "print(f'Mars :', dq_mars)\n",
    "print(f'E2M  :', dq_e2m)\n",
    "print('\\nDistance: Skyfield - JPL')\n",
    "print(f'Earth: {ndq_earth:5.3e}', )\n",
    "print(f'Mars : {ndq_mars:5.3e}', )\n",
    "print(f'E2M  : {ndq_e2m:5.3e}', )"
   ]
  },
  {
   "cell_type": "markdown",
   "metadata": {},
   "source": [
    "**Conclusion: Position<br>\n",
    "Skyfield agrees with JPL to 1E-10 AU**<br>\n",
    "This is essentially \"perfect\" for practical purposes."
   ]
  },
  {
   "cell_type": "code",
   "execution_count": 10,
   "metadata": {},
   "outputs": [
    {
     "name": "stdout",
     "output_type": "stream",
     "text": [
      "Difference in astromentric RA/DEC:\n",
      "\n",
      "Difference in RA: Skyfield - JPL\n",
      "Skyfield    : 76.106846 deg\n",
      "JPL         : 76.107414 deg\n",
      "Diff        : -0.000568 deg (-2.05 seconds)\n",
      "\n",
      "Difference in DEC: Skyfield - JPL\n",
      "Skyfield    : 23.884830 deg\n",
      "JPL         : 23.884883 deg\n",
      "Diff        : -0.000053 deg (-0.19 seconds)\n",
      "\n",
      "Unit direction vectors:\n",
      "Skyfield    : [0.21954911 0.97542761 0.01841651]\n",
      "JPL         : [0.21954022 0.97542961 0.01841657]\n",
      "Diff        : [ 8.89319144e-06 -2.00054756e-06 -5.76355302e-08]\n",
      "AngleDiff   : 1.880 seconds\n"
     ]
    }
   ],
   "source": [
    "# observe mars from earth\n",
    "obs = earth.at(t).observe(mars)\n",
    "ra_sf, dec_sf, distance_sf = obs.radec()\n",
    "\n",
    "# Extract degrees\n",
    "ra_sf = ra_sf._degrees\n",
    "dec_sf = dec_sf._degrees\n",
    "\n",
    "# Report results\n",
    "print(f'Difference in astromentric RA/DEC:\\n')\n",
    "diff_sf_sec = \\\n",
    "radec_diff(name1='JPL', name2='Skyfield', ra1=ra_jpl, dec1=dec_jpl, ra2=ra_sf, dec2=dec_sf, \n",
    "           obstime_mjd=obstime_mjd, verbose=True)"
   ]
  },
  {
   "cell_type": "markdown",
   "metadata": {},
   "source": [
    "**Conclusion: Astrometric RA/DEC<br>\n",
    "Skyfield agrees with JPL to 1.9 arc seconds**<br>\n",
    "This is quite good, and almost certainly good enough for the intended purpose."
   ]
  },
  {
   "cell_type": "code",
   "execution_count": 11,
   "metadata": {},
   "outputs": [
    {
     "name": "stdout",
     "output_type": "stream",
     "text": [
      "Difference in apparent RA/DEC: Skyfield vs. JPL\n",
      "\n",
      "Difference in RA: Skyfield - JPL\n",
      "Skyfield    : 76.102269 deg\n",
      "JPL         : 76.391533 deg\n",
      "Diff        : -0.289264 deg (-1041.35 seconds)\n",
      "\n",
      "Difference in DEC: Skyfield - JPL\n",
      "Skyfield    : 23.884498 deg\n",
      "JPL         : 23.908810 deg\n",
      "Diff        : -0.024311 deg (-87.52 seconds)\n",
      "\n",
      "Unit direction vectors:\n",
      "Skyfield    : [0.21962058 0.9754115  0.01841773]\n",
      "JPL         : [0.21509623 0.97641944 0.01840357]\n",
      "Diff        : [ 4.52435396e-03 -1.00794297e-03  1.41634615e-05]\n",
      "AngleDiff   : 956.098 seconds\n"
     ]
    }
   ],
   "source": [
    "# apparent observation of mars from earth (includes corrections)\n",
    "obs_app = obs.apparent()\n",
    "ra_app_sf, dec_app_sf, _ = obs_app.radec()\n",
    "\n",
    "# Extract degrees\n",
    "ra_app_sf = ra_app_sf._degrees\n",
    "dec_app_sf = dec_app_sf._degrees\n",
    "\n",
    "# Report results\n",
    "print(f'Difference in apparent RA/DEC: Skyfield vs. JPL\\n')\n",
    "diff_sf_app_sec = \\\n",
    "radec_diff(name1='JPL', name2='Skyfield', ra1=ra_app_jpl, dec1=dec_app_jpl, ra2=ra_app_sf, dec2=dec_app_sf, \n",
    "           obstime_mjd=obstime_mjd, verbose=True)"
   ]
  },
  {
   "cell_type": "markdown",
   "metadata": {},
   "source": [
    "**Conclusion: apparent RA/DEC:<br>\n",
    "Skyfield does not agree with JPL on correcting astrometric observations.<br>\n",
    "Difference is 956 seconds.**<br>\n",
    "This difference is so large that Skyfield is probably doing a different calculation from JPL."
   ]
  },
  {
   "cell_type": "markdown",
   "metadata": {},
   "source": [
    "### RA and DEC in Astropy"
   ]
  },
  {
   "cell_type": "code",
   "execution_count": 12,
   "metadata": {},
   "outputs": [
    {
     "name": "stdout",
     "output_type": "stream",
     "text": [
      "Difference in astromentric RA/DEC: Astropy (GCRS) vs. JPL\n",
      "\n",
      "Difference in RA: Astropy - JPL\n",
      "Astropy     : 76.107043 deg\n",
      "JPL         : 76.107414 deg\n",
      "Diff        : -0.000371 deg (-1.33 seconds)\n",
      "\n",
      "Difference in DEC: Astropy - JPL\n",
      "Astropy     : 23.885028 deg\n",
      "JPL         : 23.884883 deg\n",
      "Diff        : 0.000145 deg ( 0.52 seconds)\n",
      "\n",
      "Unit direction vectors:\n",
      "Astropy     : [0.21954572 0.97542831 0.01841966]\n",
      "JPL         : [0.21954022 0.97542961 0.01841657]\n",
      "Diff        : [ 5.49692986e-06 -1.29559449e-06  3.09196065e-06]\n",
      "AngleDiff   : 1.328 seconds\n"
     ]
    }
   ],
   "source": [
    "# extract degrees\n",
    "# ra_ap = obs_ap_gcrs.ra.deg\n",
    "# dec_ap = obs_ap_gcrs.dec.deg\n",
    "\n",
    "# Get RA and DEC using qv2radec function; expects q, v in barycentric frame\n",
    "ra, dec, r = qv2radec(q=q_mars_jpl, v=v_mars_jpl, mjd=obstime_mjd, \n",
    "                      frame=BarycentricMeanEcliptic, light_lag=False)\n",
    "\n",
    "# Report results\n",
    "print(f'Difference in astromentric RA/DEC: Astropy (GCRS) vs. JPL\\n')\n",
    "diff_sf_sec = \\\n",
    "radec_diff(name1='JPL', name2='Astropy', ra1=ra_jpl, dec1=dec_jpl, ra2=ra, dec2=dec, obstime_mjd=obstime_mjd, verbose=True)"
   ]
  },
  {
   "cell_type": "code",
   "execution_count": 13,
   "metadata": {},
   "outputs": [
    {
     "name": "stdout",
     "output_type": "stream",
     "text": [
      "Difference in astrometric RA/DEC: Astropy (GCRS) vs. JPL\n",
      "\n",
      "Difference in RA: Astropy - JPL\n",
      "Astropy     : 76.106756 deg\n",
      "JPL         : 76.107414 deg\n",
      "Diff        : -0.000659 deg (-2.37 seconds)\n",
      "\n",
      "Difference in DEC: Astropy - JPL\n",
      "Astropy     : 23.885007 deg\n",
      "JPL         : 23.884883 deg\n",
      "Diff        : 0.000125 deg ( 0.45 seconds)\n",
      "\n",
      "Unit direction vectors:\n",
      "Astropy     : [0.21955021 0.9754273  0.01841974]\n",
      "JPL         : [0.21954022 0.97542961 0.01841657]\n",
      "Diff        : [ 9.98988057e-06 -2.30834483e-06  3.17049959e-06]\n",
      "AngleDiff   : 2.214 seconds\n"
     ]
    }
   ],
   "source": [
    "# Get RA and DEC using qv2radec function; expects q, v in barycentric frame\n",
    "ra, dec, r = qvrel2radec(q_body=q_mars_jpl, v_body=v_mars_jpl, \n",
    "                         q_earth=q_earth_jpl, v_earth=v_earth_jpl,\n",
    "                         mjd=obstime_mjd, \n",
    "                         frame=BarycentricMeanEcliptic)\n",
    "\n",
    "# Report results\n",
    "print(f'Difference in astrometric RA/DEC: Astropy (GCRS) vs. JPL\\n')\n",
    "diff_sf_sec = \\\n",
    "radec_diff(name1='JPL', name2='Astropy', ra1=ra_jpl, dec1=dec_jpl, ra2=ra, dec2=dec, obstime_mjd=obstime_mjd, verbose=True)"
   ]
  },
  {
   "cell_type": "markdown",
   "metadata": {},
   "source": [
    "### Demonstrate Affine invariance"
   ]
  },
  {
   "cell_type": "code",
   "execution_count": 16,
   "metadata": {},
   "outputs": [
    {
     "name": "stdout",
     "output_type": "stream",
     "text": [
      "Difference in astromentric RA/DEC: Astropy (GCRS) vs. JPL\n",
      "\n",
      "Difference in RA: Astropy - JPL\n",
      "Astropy     : 76.106756 deg\n",
      "JPL         : 76.107414 deg\n",
      "Diff        : -0.000659 deg (-2.37 seconds)\n",
      "\n",
      "Difference in DEC: Astropy - JPL\n",
      "Astropy     : 23.885007 deg\n",
      "JPL         : 23.884883 deg\n",
      "Diff        : 0.000125 deg ( 0.45 seconds)\n",
      "\n",
      "Unit direction vectors:\n",
      "Astropy     : [0.21955021 0.9754273  0.01841974]\n",
      "JPL         : [0.21954022 0.97542961 0.01841657]\n",
      "Diff        : [ 9.98988057e-06 -2.30834483e-06  3.17049959e-06]\n",
      "AngleDiff   : 2.214 seconds\n"
     ]
    }
   ],
   "source": [
    "# Demonstrate affine invariance\n",
    "q_eps = np.random.normal(loc=0.0, scale=0.1, size=3) * au\n",
    "v_eps = np.random.normal(loc=0.0, scale=2.5e5, size=3) * km / second\n",
    "\n",
    "# Get RA and DEC using qv2radec function; expects q, v in barycentric frame\n",
    "ra, dec, r = qvrel2radec(q_body=q_mars_jpl+q_eps, v_body=v_mars_jpl+v_eps, \n",
    "                         q_earth=q_earth_jpl+q_eps, v_earth=v_earth_jpl+v_eps,\n",
    "                         mjd=obstime_mjd, frame=BarycentricMeanEcliptic)\n",
    "\n",
    "# Report results\n",
    "print(f'Difference in astromentric RA/DEC: Astropy (GCRS) vs. JPL\\n')\n",
    "diff_sf_sec = \\\n",
    "radec_diff(name1='JPL', name2='Astropy', ra1=ra_jpl, dec1=dec_jpl, ra2=ra, dec2=dec, obstime_mjd=obstime_mjd, verbose=True)"
   ]
  },
  {
   "cell_type": "code",
   "execution_count": 17,
   "metadata": {},
   "outputs": [],
   "source": [
    "q_body = q_mars_jpl + q_eps\n",
    "v_body = v_mars_jpl\n",
    "q_earth = q_earth_jpl + q_eps\n",
    "v_earth = v_earth_jpl\n",
    "mjd = obstime_mjd\n",
    "frame = BarycentricMeanEcliptic"
   ]
  },
  {
   "cell_type": "markdown",
   "metadata": {},
   "source": [
    "**Prototype of qvrel2radec**"
   ]
  },
  {
   "cell_type": "code",
   "execution_count": null,
   "metadata": {},
   "outputs": [],
   "source": [
    "zero_au = 0.0 * au\n",
    "zero_km_sec = 0.0 * km / second"
   ]
  },
  {
   "cell_type": "code",
   "execution_count": null,
   "metadata": {},
   "outputs": [],
   "source": [
    "# Represent the earth in the GCRS frame.  Easy because it has position & velocity zero!\n",
    "earth_gcrs = SkyCoord(x=zero_au, y=zero_au, z=zero_au, v_x=zero_km_sec, v_y=zero_km_sec, v_z=zero_km_sec,\n",
    "                      representation_type='cartesian', obstime=obstime_ap, frame=GCRS)\n",
    "# Represent earth in BarycentricMeanEcliptic frame, using Cartesian representation\n",
    "earth_bme = earth_gcrs.transform_to(BarycentricMeanEcliptic)\n",
    "earth_bme.representation_type = 'cartesian'\n",
    "earth_bme.differential_type = 'cartesian'"
   ]
  },
  {
   "cell_type": "code",
   "execution_count": null,
   "metadata": {},
   "outputs": [],
   "source": [
    "earth_bme.velocity.d_xyz"
   ]
  },
  {
   "cell_type": "code",
   "execution_count": null,
   "metadata": {},
   "outputs": [],
   "source": [
    "v_earth_jpl"
   ]
  },
  {
   "cell_type": "code",
   "execution_count": null,
   "metadata": {},
   "outputs": [],
   "source": [
    "# Correction factor to add to position of earth in BME so it matches JPL\n",
    "dq = q_earth_jpl - earth_bme.cartesian.xyz\n",
    "# Correction factor to add to velocity of earth in BME so it matches JPL\n",
    "dv = v_earth_jpl - earth_bme.velocity.d_xyz"
   ]
  },
  {
   "cell_type": "code",
   "execution_count": null,
   "metadata": {},
   "outputs": [],
   "source": [
    "# Generate the corrected position and velocity of Mars\n",
    "x, y, z = q_mars_jpl + dq\n",
    "v_x, v_y, v_z = v_mars_jpl + dv\n",
    "# Observe Mars in the BarcycentricMeanEcliptic frame\n",
    "obs_e2m_bme = SkyCoord(x=x, y=y, z=z, v_x=v_x, v_y=v_y, v_z=v_z, obstime=obstime_ap,\n",
    "                       representation_type='cartesian', frame=BarycentricMeanEcliptic)\n",
    "# Transform observation to GCRS\n",
    "obs_ap_gcrs2 = obs_e2m_bme.transform_to(GCRS)"
   ]
  },
  {
   "cell_type": "code",
   "execution_count": null,
   "metadata": {},
   "outputs": [],
   "source": [
    "obs_e2m_bme"
   ]
  },
  {
   "cell_type": "code",
   "execution_count": null,
   "metadata": {},
   "outputs": [],
   "source": [
    "obs_ap_gcrs2"
   ]
  },
  {
   "cell_type": "code",
   "execution_count": null,
   "metadata": {},
   "outputs": [],
   "source": [
    "# extract degrees\n",
    "ra_ap = obs_ap_gcrs2.ra.deg\n",
    "dec_ap = obs_ap_gcrs2.dec.deg\n",
    "\n",
    "# Report results\n",
    "print(f'Difference in astromentric RA/DEC: Astropy (ICRS) vs. JPL\\n')\n",
    "diff_sf_sec = \\\n",
    "report_radec_diff(name1='JPL', name2='Astropy', ra1=ra_jpl, dec1=dec_jpl, ra2=ra_ap, dec2=dec_ap, obstime_mjd=obstime_mjd)"
   ]
  },
  {
   "cell_type": "code",
   "execution_count": null,
   "metadata": {},
   "outputs": [],
   "source": [
    "dir(earth_bme)"
   ]
  },
  {
   "cell_type": "markdown",
   "metadata": {},
   "source": [
    "### Appendix: dir call to Skyfield Classes"
   ]
  },
  {
   "cell_type": "code",
   "execution_count": null,
   "metadata": {},
   "outputs": [],
   "source": [
    "type(earth)"
   ]
  },
  {
   "cell_type": "code",
   "execution_count": null,
   "metadata": {},
   "outputs": [],
   "source": [
    "# dir(mars)\n",
    "mars_dir = \\\n",
    "[ 'at',\n",
    " 'center',\n",
    " 'center_name',\n",
    " 'ephemeris',\n",
    " 'geometry_of',\n",
    " 'negatives',\n",
    " 'positives',\n",
    " 'satellite',\n",
    " 'target',\n",
    " 'target_name',\n",
    " 'topos']"
   ]
  },
  {
   "cell_type": "code",
   "execution_count": null,
   "metadata": {},
   "outputs": [],
   "source": [
    "# dir(pos_mars)\n",
    "pos_dir = \\\n",
    "['center',\n",
    " 'cirs_radec',\n",
    " 'cirs_xyz',\n",
    " 'distance',\n",
    " 'ecliptic_latlon',\n",
    " 'ecliptic_position',\n",
    " 'ecliptic_velocity',\n",
    " 'ecliptic_xyz',\n",
    " 'frame_xyz',\n",
    " 'from_altaz',\n",
    " 'galactic_latlon',\n",
    " 'galactic_position',\n",
    " 'galactic_xyz',\n",
    " 'message',\n",
    " 'observe',\n",
    " 'observer_data',\n",
    " 'position',\n",
    " 'radec',\n",
    " 'separation_from',\n",
    " 'speed',\n",
    " 't',\n",
    " 'target',\n",
    " 'to_skycoord',\n",
    " 'velocity'] "
   ]
  }
 ],
 "metadata": {
  "kernelspec": {
   "display_name": "Python [conda env:kepler]",
   "language": "python",
   "name": "conda-env-kepler-py"
  },
  "language_info": {
   "codemirror_mode": {
    "name": "ipython",
    "version": 3
   },
   "file_extension": ".py",
   "mimetype": "text/x-python",
   "name": "python",
   "nbconvert_exporter": "python",
   "pygments_lexer": "ipython3",
   "version": "3.7.4"
  }
 },
 "nbformat": 4,
 "nbformat_minor": 2
}
