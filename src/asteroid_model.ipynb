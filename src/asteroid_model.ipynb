{
 "cells": [
  {
   "cell_type": "code",
   "execution_count": 1,
   "metadata": {},
   "outputs": [],
   "source": [
    "# Library imports\n",
    "import tensorflow as tf\n",
    "import numpy as np\n",
    "import time\n",
    "from silence_tensorflow import silence_tensorflow\n",
    "\n",
    "# Local imports\n",
    "# from tf_utils import Identity\n",
    "from orbital_element import MeanToTrueAnomaly, TrueToMeanAnomaly\n",
    "from asteroid_data import make_dataset_ast_pos, make_dataset_ast_dir, get_earth_pos, orbital_element_batch\n",
    "from asteroid_integrate import calc_ast_pos\n",
    "from  tf_utils import Identity\n",
    "# Aliases\n",
    "keras = tf.keras"
   ]
  },
  {
   "cell_type": "code",
   "execution_count": 2,
   "metadata": {},
   "outputs": [],
   "source": [
    "from asteroid_model import make_model_ast_pos, test_ast_pos"
   ]
  },
  {
   "cell_type": "code",
   "execution_count": 3,
   "metadata": {},
   "outputs": [
    {
     "name": "stdout",
     "output_type": "stream",
     "text": [
      "15/15 [==============================] - 1s 34ms/step - loss: 0.0013\n",
      "Root MSE for asteroid model on first 1000 asteroids in AU = 0.036453\n",
      "***** PASS *****\n",
      "\n",
      "Numerical integration of orbits took 16.489 seconds.\n",
      "Mean error on first batch of 64 asteroids in AU:\n",
      "Before calibration: 3.156e-02\n",
      "After calibration:  1.513e-06\n",
      "***** PASS *****\n"
     ]
    },
    {
     "data": {
      "text/plain": [
       "True"
      ]
     },
     "execution_count": 3,
     "metadata": {},
     "output_type": "execute_result"
    }
   ],
   "source": [
    "test_ast_pos()"
   ]
  },
  {
   "cell_type": "code",
   "execution_count": null,
   "metadata": {},
   "outputs": [],
   "source": []
  }
 ],
 "metadata": {
  "kernelspec": {
   "display_name": "Python [conda env:kepler]",
   "language": "python",
   "name": "conda-env-kepler-py"
  },
  "language_info": {
   "codemirror_mode": {
    "name": "ipython",
    "version": 3
   },
   "file_extension": ".py",
   "mimetype": "text/x-python",
   "name": "python",
   "nbconvert_exporter": "python",
   "pygments_lexer": "ipython3",
   "version": "3.7.6"
  }
 },
 "nbformat": 4,
 "nbformat_minor": 4
}
