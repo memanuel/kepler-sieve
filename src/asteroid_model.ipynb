{
 "cells": [
  {
   "cell_type": "code",
   "execution_count": 1,
   "metadata": {},
   "outputs": [],
   "source": [
    "# Library imports\n",
    "import tensorflow as tf\n",
    "import numpy as np\n",
    "import time\n",
    "from silence_tensorflow import silence_tensorflow\n",
    "\n",
    "# Local imports\n",
    "# from tf_utils import Identity\n",
    "from orbital_element import MeanToTrueAnomaly, TrueToMeanAnomaly\n",
    "from asteroid_data import make_dataset_ast_pos, make_dataset_ast_dir, get_earth_pos, orbital_element_batch\n",
    "from asteroid_integrate import calc_ast_pos\n",
    "from  tf_utils import Identity\n",
    "# Aliases\n",
    "keras = tf.keras"
   ]
  },
  {
   "cell_type": "code",
   "execution_count": 2,
   "metadata": {},
   "outputs": [
    {
     "name": "stdout",
     "output_type": "stream",
     "text": [
      "Found 4 GPUs.  Setting memory growth = True.\n"
     ]
    }
   ],
   "source": [
    "from asteroid_model import make_model_ast_pos, test_ast_pos, test_ast_dir"
   ]
  },
  {
   "cell_type": "code",
   "execution_count": 3,
   "metadata": {},
   "outputs": [],
   "source": [
    "# test_ast_pos()"
   ]
  },
  {
   "cell_type": "code",
   "execution_count": 4,
   "metadata": {},
   "outputs": [
    {
     "name": "stdout",
     "output_type": "stream",
     "text": [
      "15/15 [==============================] - 1s 35ms/step - loss: 1.5830e-04\n",
      "MSE for asteroid model on first 1000 asteroids = 0.000158\n",
      "Angle error = 1.258e-02 rad / 0.720884 degrees / 2595.18 arc seconds\n",
      "***** PASS *****\n",
      "\n",
      "Numerical integration of orbits took 16.210 seconds.\n",
      "Mean angle error on first batch of 64 asteroids in degrees:\n",
      "Before calibration: 6.309e-01\n",
      "After calibration:  3.323e-03  (11.964 arc-seconds)\n",
      "***** FAIL *****\n"
     ]
    },
    {
     "data": {
      "text/plain": [
       "False"
      ]
     },
     "execution_count": 4,
     "metadata": {},
     "output_type": "execute_result"
    }
   ],
   "source": [
    "test_ast_dir()"
   ]
  },
  {
   "cell_type": "code",
   "execution_count": null,
   "metadata": {},
   "outputs": [],
   "source": []
  }
 ],
 "metadata": {
  "kernelspec": {
   "display_name": "Python [conda env:kepler]",
   "language": "python",
   "name": "conda-env-kepler-py"
  },
  "language_info": {
   "codemirror_mode": {
    "name": "ipython",
    "version": 3
   },
   "file_extension": ".py",
   "mimetype": "text/x-python",
   "name": "python",
   "nbconvert_exporter": "python",
   "pygments_lexer": "ipython3",
   "version": "3.7.6"
  }
 },
 "nbformat": 4,
 "nbformat_minor": 4
}
