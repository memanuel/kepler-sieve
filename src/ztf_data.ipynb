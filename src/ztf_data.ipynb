{
 "cells": [
  {
   "cell_type": "code",
   "execution_count": 1,
   "metadata": {},
   "outputs": [],
   "source": [
    "# Core\n",
    "import pandas as pd\n",
    "import numpy as np\n",
    "from scipy.interpolate import CubicSpline\n",
    "\n",
    "# Astronomy\n",
    "from astropy.time import Time\n",
    "from astropy.units import deg\n",
    "\n",
    "# Utility\n",
    "import os\n",
    "from datetime import date\n",
    "import time\n",
    "from tqdm.auto import tqdm\n",
    "\n",
    "# Plotting\n",
    "import matplotlib.pyplot as plt\n",
    "import matplotlib as mpl\n",
    "from IPython.display import Image\n",
    "\n",
    "# Libraries for getting Alerce data out of ZTF2 database\n",
    "import json\n",
    "import psycopg2\n",
    "from alerce.api import AlerceAPI\n",
    "\n",
    "# MSE imports\n",
    "from utils import range_inc\n",
    "from astro_utils import date_to_mjd, mjd_to_date\n",
    "# from ztf_data import load_ztf_det, load_ztf_det_year, ztf_det_add_dir, \n",
    "from ztf_data import load_ztf_det_all, ztf_nearest_ast, ztf_obs_by_month, cdf_nearest_dist\n",
    "from ztf_data import deg2dist, dist2deg, plot_cdf_uncond, plot_cdf_cond\n",
    "from asteroid_dataframe import spline_ast_vec_dir"
   ]
  },
  {
   "cell_type": "code",
   "execution_count": 2,
   "metadata": {},
   "outputs": [],
   "source": [
    "# Set plot style variables\n",
    "mpl.rcParams['figure.figsize'] = [16.0, 10.0]\n",
    "mpl.rcParams['font.size'] = 16"
   ]
  },
  {
   "cell_type": "markdown",
   "metadata": {},
   "source": [
    "### Load Detections from Alerce ZTF2 Database"
   ]
  },
  {
   "cell_type": "code",
   "execution_count": 3,
   "metadata": {},
   "outputs": [
    {
     "name": "stdout",
     "output_type": "stream",
     "text": [
      "Loaded ../data/ztf/ztf-detections.h5 from disk.\n"
     ]
    }
   ],
   "source": [
    "ztf, mjd_unq = load_ztf_det_all()"
   ]
  },
  {
   "cell_type": "code",
   "execution_count": 4,
   "metadata": {},
   "outputs": [
    {
     "data": {
      "text/html": [
       "<div>\n",
       "<style scoped>\n",
       "    .dataframe tbody tr th:only-of-type {\n",
       "        vertical-align: middle;\n",
       "    }\n",
       "\n",
       "    .dataframe tbody tr th {\n",
       "        vertical-align: top;\n",
       "    }\n",
       "\n",
       "    .dataframe thead th {\n",
       "        text-align: right;\n",
       "    }\n",
       "</style>\n",
       "<table border=\"1\" class=\"dataframe\">\n",
       "  <thead>\n",
       "    <tr style=\"text-align: right;\">\n",
       "      <th></th>\n",
       "      <th>ObjectID</th>\n",
       "      <th>CandidateID</th>\n",
       "      <th>TimeStampID</th>\n",
       "      <th>mjd</th>\n",
       "      <th>ra</th>\n",
       "      <th>dec</th>\n",
       "      <th>ux</th>\n",
       "      <th>uy</th>\n",
       "      <th>uz</th>\n",
       "      <th>mag_app</th>\n",
       "      <th>asteroid_prob</th>\n",
       "    </tr>\n",
       "  </thead>\n",
       "  <tbody>\n",
       "    <tr>\n",
       "      <th>0</th>\n",
       "      <td>b'ZTF18acebhfp'</td>\n",
       "      <td>676397301515010013</td>\n",
       "      <td>14490</td>\n",
       "      <td>58430.397303</td>\n",
       "      <td>41.357345</td>\n",
       "      <td>58.879488</td>\n",
       "      <td>0.387942</td>\n",
       "      <td>0.653853</td>\n",
       "      <td>0.649598</td>\n",
       "      <td>18.946699</td>\n",
       "      <td>0.865682</td>\n",
       "    </tr>\n",
       "    <tr>\n",
       "      <th>1</th>\n",
       "      <td>b'ZTF18abodmwk'</td>\n",
       "      <td>596403415715010014</td>\n",
       "      <td>5831</td>\n",
       "      <td>58350.403414</td>\n",
       "      <td>30.969721</td>\n",
       "      <td>65.305308</td>\n",
       "      <td>0.358224</td>\n",
       "      <td>0.558644</td>\n",
       "      <td>0.748059</td>\n",
       "      <td>19.010401</td>\n",
       "      <td>0.855504</td>\n",
       "    </tr>\n",
       "    <tr>\n",
       "      <th>2</th>\n",
       "      <td>b'ZTF18abodmwk'</td>\n",
       "      <td>626428345715010011</td>\n",
       "      <td>10614</td>\n",
       "      <td>58380.428345</td>\n",
       "      <td>30.969705</td>\n",
       "      <td>65.305294</td>\n",
       "      <td>0.358224</td>\n",
       "      <td>0.558644</td>\n",
       "      <td>0.748059</td>\n",
       "      <td>18.935900</td>\n",
       "      <td>0.855504</td>\n",
       "    </tr>\n",
       "    <tr>\n",
       "      <th>3</th>\n",
       "      <td>b'ZTF18abodmwk'</td>\n",
       "      <td>630507595715015045</td>\n",
       "      <td>11250</td>\n",
       "      <td>58384.507593</td>\n",
       "      <td>30.969940</td>\n",
       "      <td>65.305305</td>\n",
       "      <td>0.358223</td>\n",
       "      <td>0.558645</td>\n",
       "      <td>0.748059</td>\n",
       "      <td>19.260401</td>\n",
       "      <td>0.855504</td>\n",
       "    </tr>\n",
       "    <tr>\n",
       "      <th>4</th>\n",
       "      <td>b'ZTF18abodmwk'</td>\n",
       "      <td>618384965715010022</td>\n",
       "      <td>9040</td>\n",
       "      <td>58372.384965</td>\n",
       "      <td>30.969643</td>\n",
       "      <td>65.305179</td>\n",
       "      <td>0.358226</td>\n",
       "      <td>0.558644</td>\n",
       "      <td>0.748058</td>\n",
       "      <td>19.220200</td>\n",
       "      <td>0.855504</td>\n",
       "    </tr>\n",
       "    <tr>\n",
       "      <th>...</th>\n",
       "      <td>...</td>\n",
       "      <td>...</td>\n",
       "      <td>...</td>\n",
       "      <td>...</td>\n",
       "      <td>...</td>\n",
       "      <td>...</td>\n",
       "      <td>...</td>\n",
       "      <td>...</td>\n",
       "      <td>...</td>\n",
       "      <td>...</td>\n",
       "      <td>...</td>\n",
       "    </tr>\n",
       "    <tr>\n",
       "      <th>5459014</th>\n",
       "      <td>b'ZTF20aareruw'</td>\n",
       "      <td>1151532523515015015</td>\n",
       "      <td>97109</td>\n",
       "      <td>58905.532523</td>\n",
       "      <td>253.007910</td>\n",
       "      <td>55.485537</td>\n",
       "      <td>-0.165587</td>\n",
       "      <td>-0.169403</td>\n",
       "      <td>0.971537</td>\n",
       "      <td>19.192400</td>\n",
       "      <td>0.608023</td>\n",
       "    </tr>\n",
       "    <tr>\n",
       "      <th>5459015</th>\n",
       "      <td>b'ZTF20aarerwx'</td>\n",
       "      <td>1151533002615015009</td>\n",
       "      <td>97110</td>\n",
       "      <td>58905.533009</td>\n",
       "      <td>232.886408</td>\n",
       "      <td>53.509617</td>\n",
       "      <td>-0.358833</td>\n",
       "      <td>-0.115301</td>\n",
       "      <td>0.926253</td>\n",
       "      <td>19.687099</td>\n",
       "      <td>0.559474</td>\n",
       "    </tr>\n",
       "    <tr>\n",
       "      <th>5459016</th>\n",
       "      <td>b'ZTF20aarerww'</td>\n",
       "      <td>1151533002115010003</td>\n",
       "      <td>97110</td>\n",
       "      <td>58905.533009</td>\n",
       "      <td>236.167899</td>\n",
       "      <td>54.618457</td>\n",
       "      <td>-0.322375</td>\n",
       "      <td>-0.116973</td>\n",
       "      <td>0.939357</td>\n",
       "      <td>19.957001</td>\n",
       "      <td>0.392662</td>\n",
       "    </tr>\n",
       "    <tr>\n",
       "      <th>5459017</th>\n",
       "      <td>b'ZTF20aarervr'</td>\n",
       "      <td>1151526063515015015</td>\n",
       "      <td>97098</td>\n",
       "      <td>58905.526065</td>\n",
       "      <td>286.235286</td>\n",
       "      <td>33.876902</td>\n",
       "      <td>0.232120</td>\n",
       "      <td>-0.509626</td>\n",
       "      <td>0.828494</td>\n",
       "      <td>19.049299</td>\n",
       "      <td>0.517241</td>\n",
       "    </tr>\n",
       "    <tr>\n",
       "      <th>5459018</th>\n",
       "      <td>b'ZTF18aajqsjs'</td>\n",
       "      <td>1151533002315015001</td>\n",
       "      <td>97110</td>\n",
       "      <td>58905.533009</td>\n",
       "      <td>237.382168</td>\n",
       "      <td>53.766297</td>\n",
       "      <td>-0.318612</td>\n",
       "      <td>-0.135924</td>\n",
       "      <td>0.938089</td>\n",
       "      <td>18.847700</td>\n",
       "      <td>0.992615</td>\n",
       "    </tr>\n",
       "  </tbody>\n",
       "</table>\n",
       "<p>5697962 rows × 11 columns</p>\n",
       "</div>"
      ],
      "text/plain": [
       "                ObjectID          CandidateID  TimeStampID           mjd  \\\n",
       "0        b'ZTF18acebhfp'   676397301515010013        14490  58430.397303   \n",
       "1        b'ZTF18abodmwk'   596403415715010014         5831  58350.403414   \n",
       "2        b'ZTF18abodmwk'   626428345715010011        10614  58380.428345   \n",
       "3        b'ZTF18abodmwk'   630507595715015045        11250  58384.507593   \n",
       "4        b'ZTF18abodmwk'   618384965715010022         9040  58372.384965   \n",
       "...                  ...                  ...          ...           ...   \n",
       "5459014  b'ZTF20aareruw'  1151532523515015015        97109  58905.532523   \n",
       "5459015  b'ZTF20aarerwx'  1151533002615015009        97110  58905.533009   \n",
       "5459016  b'ZTF20aarerww'  1151533002115010003        97110  58905.533009   \n",
       "5459017  b'ZTF20aarervr'  1151526063515015015        97098  58905.526065   \n",
       "5459018  b'ZTF18aajqsjs'  1151533002315015001        97110  58905.533009   \n",
       "\n",
       "                 ra        dec        ux        uy        uz    mag_app  \\\n",
       "0         41.357345  58.879488  0.387942  0.653853  0.649598  18.946699   \n",
       "1         30.969721  65.305308  0.358224  0.558644  0.748059  19.010401   \n",
       "2         30.969705  65.305294  0.358224  0.558644  0.748059  18.935900   \n",
       "3         30.969940  65.305305  0.358223  0.558645  0.748059  19.260401   \n",
       "4         30.969643  65.305179  0.358226  0.558644  0.748058  19.220200   \n",
       "...             ...        ...       ...       ...       ...        ...   \n",
       "5459014  253.007910  55.485537 -0.165587 -0.169403  0.971537  19.192400   \n",
       "5459015  232.886408  53.509617 -0.358833 -0.115301  0.926253  19.687099   \n",
       "5459016  236.167899  54.618457 -0.322375 -0.116973  0.939357  19.957001   \n",
       "5459017  286.235286  33.876902  0.232120 -0.509626  0.828494  19.049299   \n",
       "5459018  237.382168  53.766297 -0.318612 -0.135924  0.938089  18.847700   \n",
       "\n",
       "         asteroid_prob  \n",
       "0             0.865682  \n",
       "1             0.855504  \n",
       "2             0.855504  \n",
       "3             0.855504  \n",
       "4             0.855504  \n",
       "...                ...  \n",
       "5459014       0.608023  \n",
       "5459015       0.559474  \n",
       "5459016       0.392662  \n",
       "5459017       0.517241  \n",
       "5459018       0.992615  \n",
       "\n",
       "[5697962 rows x 11 columns]"
      ]
     },
     "execution_count": 4,
     "metadata": {},
     "output_type": "execute_result"
    }
   ],
   "source": [
    "# Review DataFrame\n",
    "ztf"
   ]
  },
  {
   "cell_type": "code",
   "execution_count": 5,
   "metadata": {},
   "outputs": [
    {
     "data": {
      "text/plain": [
       "ObjectID            |S12\n",
       "CandidateID        int64\n",
       "TimeStampID        int32\n",
       "mjd              float64\n",
       "ra               float64\n",
       "dec              float64\n",
       "ux               float64\n",
       "uy               float64\n",
       "uz               float64\n",
       "mag_app          float64\n",
       "asteroid_prob    float64\n",
       "dtype: object"
      ]
     },
     "execution_count": 5,
     "metadata": {},
     "output_type": "execute_result"
    }
   ],
   "source": [
    "# Review data types\n",
    "ztf.dtypes"
   ]
  },
  {
   "cell_type": "code",
   "execution_count": 6,
   "metadata": {},
   "outputs": [],
   "source": [
    "# Sanity check: we should be able to recover the mjd of an observation by indexing into mjd_unq\n",
    "assert np.all(mjd_unq[ztf.TimeStampID] == ztf.mjd)"
   ]
  },
  {
   "cell_type": "markdown",
   "metadata": {},
   "source": [
    "### Summarize Observations by Month"
   ]
  },
  {
   "cell_type": "code",
   "execution_count": null,
   "metadata": {},
   "outputs": [],
   "source": [
    "# Generate bar chart\n",
    "# ztf_obs_by_month(ztf)\n",
    "\n",
    "# Display the bar chart\n",
    "Image(filename='../figs/ztf/ztf_ast_per_month.png')"
   ]
  },
  {
   "cell_type": "markdown",
   "metadata": {},
   "source": [
    "### Extract key Data from ZTF Frame"
   ]
  },
  {
   "cell_type": "code",
   "execution_count": null,
   "metadata": {},
   "outputs": [],
   "source": [
    "# Extract mjd, ra, and dec of the ZTF observations as arrays of astropy angles\n",
    "# mjd_ztf = ztf.mjd.values\n",
    "# ra_ztf = ztf.ra.values\n",
    "# dec_ztf = ztf.dec.values"
   ]
  },
  {
   "cell_type": "code",
   "execution_count": null,
   "metadata": {},
   "outputs": [],
   "source": [
    "# Extract directions of the ZTF observations as an Nx3 array\n",
    "# u_ztf = ztf[['ux', 'uy', 'uz']].values"
   ]
  },
  {
   "cell_type": "markdown",
   "metadata": {},
   "source": [
    "### Load MSE Calculated Asteroid Directions for Comparison to ZTF"
   ]
  },
  {
   "cell_type": "code",
   "execution_count": 7,
   "metadata": {},
   "outputs": [
    {
     "name": "stdout",
     "output_type": "stream",
     "text": [
      "ZTF mjd range : 58270.170 to 58905.533\n",
      "ZTF date range: 2018-06-01 to 2020-02-26\n"
     ]
    }
   ],
   "source": [
    "# Date range in ZTF data\n",
    "mjd_min = np.min(mjd_unq)\n",
    "mjd_max = np.max(mjd_unq)\n",
    "dt_min = mjd_to_date(mjd_min)\n",
    "dt_max = mjd_to_date(mjd_max)\n",
    "print(f'ZTF mjd range : {mjd_min:9.3f} to {mjd_max:9.3f}')\n",
    "print(f'ZTF date range: {dt_min} to {dt_max}')"
   ]
  },
  {
   "cell_type": "code",
   "execution_count": 8,
   "metadata": {},
   "outputs": [],
   "source": [
    "# Range of asteroids to compare to ZTF\n",
    "n0: int = 1\n",
    "n1: int = 1999\n",
    "    \n",
    "# Observatory site\n",
    "site_name = 'palomar'"
   ]
  },
  {
   "cell_type": "code",
   "execution_count": 9,
   "metadata": {},
   "outputs": [
    {
     "name": "stdout",
     "output_type": "stream",
     "text": [
      "Splining asteroid and earth vectors for asteroid numbers 1 to 1999...\n",
      "Loading asteroid data from n0=1 to n1=1999 in 2 blocks...\n"
     ]
    },
    {
     "data": {
      "application/vnd.jupyter.widget-view+json": {
       "model_id": "38a10bd97dff4cf9a80ba3fc7173ef74",
       "version_major": 2,
       "version_minor": 0
      },
      "text/plain": [
       "HBox(children=(FloatProgress(value=0.0, max=2.0), HTML(value='')))"
      ]
     },
     "metadata": {},
     "output_type": "display_data"
    },
    {
     "name": "stdout",
     "output_type": "stream",
     "text": [
      "\n",
      "Computing astrometric asteroid directions for asteroid numbers 1 to 1999...\n"
     ]
    }
   ],
   "source": [
    "# Build splined positions and observations against unique observation times\n",
    "ast_pos, earth_pos, ast_dir = spline_ast_vec_dir(n0=n0, n1=n1, mjd=mjd_unq, site_name=site_name)"
   ]
  },
  {
   "cell_type": "code",
   "execution_count": null,
   "metadata": {},
   "outputs": [],
   "source": [
    "# Build DataFrame containing only distinct asteroid numbers to load.\n",
    "# This allows loading the ztf observations with the nearest asteroid without regenerating the splined directions, which is expensive\n",
    "ast_nums = np.arange(1, 1000, dtype=np.int32)\n",
    "ast_num_df = pd.DataFrame({'asteroid_num':ast_nums})"
   ]
  },
  {
   "cell_type": "code",
   "execution_count": 10,
   "metadata": {},
   "outputs": [
    {
     "name": "stdout",
     "output_type": "stream",
     "text": [
      "Regenerating ../data/ztf/ztf-nearest-ast-1-1999.h5, computing nearest asteroids from 1 to 1999...\n"
     ]
    },
    {
     "data": {
      "application/vnd.jupyter.widget-view+json": {
       "model_id": "9b170b903e654897a2c49e6ad250b3fb",
       "version_major": 2,
       "version_minor": 0
      },
      "text/plain": [
       "HBox(children=(FloatProgress(value=0.0, max=1999.0), HTML(value='')))"
      ]
     },
     "metadata": {},
     "output_type": "display_data"
    },
    {
     "name": "stdout",
     "output_type": "stream",
     "text": [
      "\n"
     ]
    }
   ],
   "source": [
    "# Find nearest asteroid to ZTF observations\n",
    "thresh_deg = 180.0\n",
    "ztf_ast = ztf_nearest_ast(ztf, ast_dir=ast_dir, thresh_deg=thresh_deg, regen=True)\n",
    "# ztf_ast = ztf_nearest_ast(ztf, ast_dir=ast_num_df, thresh_deg=thresh_deg, regen=False)"
   ]
  },
  {
   "cell_type": "code",
   "execution_count": null,
   "metadata": {},
   "outputs": [],
   "source": [
    "ztf_ast"
   ]
  },
  {
   "cell_type": "markdown",
   "metadata": {},
   "source": [
    "### Analyze Distribution of Nearest Asteroid Distance"
   ]
  },
  {
   "cell_type": "code",
   "execution_count": null,
   "metadata": {},
   "outputs": [],
   "source": [
    "# Convert threshold from degrees to cartesian distance\n",
    "# thresh_rad = np.deg2rad(thresh_deg)\n",
    "# thresh_dist = np.sin(thresh_rad/2.0)*2.0\n",
    "thresh_close_sec = 10.0\n",
    "thresh_close_deg = thresh_close_sec / 3600\n",
    "thresh_dist = deg2dist(thresh_close_deg)\n",
    "\n",
    "# Count number of asteroids matched against\n",
    "ast_nums = np.unique(ast_dir.asteroid_num)\n",
    "ast_count = ast_nums.size\n",
    "# Number of rows in data\n",
    "N_obs = ztf.shape[0]\n",
    "\n",
    "# Count frequency of matches\n",
    "is_close = ztf.nearest_ast_dist < thresh_dist\n",
    "match_frac_obs = np.mean(is_close)\n",
    "match_frac_ran = cdf_nearest_dist(dist=thresh_dist, n=ast_count)\n",
    "match_count_obs = np.sum(is_close)\n",
    "match_count_ran = N_obs * match_frac_ran\n",
    "match_ratio = match_frac_obs / match_frac_ran\n",
    "\n",
    "print(f'Testing {ast_count} asteroids at threshold = {thresh_close_sec} arc sec.')\n",
    "print(f'Observed match count = {match_count_obs:6d}')\n",
    "print(f'Random   match count = {match_count_ran:6.0f}')\n",
    "print(f'Observed match fraction = {match_frac_obs:8.6f}')\n",
    "print(f'Random   match fraction = {match_frac_ran:8.6f}')\n",
    "print(f'Ratio =  {match_ratio:8.6f}')"
   ]
  },
  {
   "cell_type": "code",
   "execution_count": null,
   "metadata": {},
   "outputs": [],
   "source": [
    "# Plot the unconditional distribution\n",
    "fig, ax = plot_cdf_uncond(ztf=ztf, n=ast_count, bins=100)"
   ]
  },
  {
   "cell_type": "code",
   "execution_count": null,
   "metadata": {},
   "outputs": [],
   "source": [
    "# Plot the conditional distribution at a threshold of 1.0 degrees\n",
    "fig, ax = plot_cdf_cond(ztf=ztf, n=ast_count, thresh_deg=1.0, bins=20)"
   ]
  },
  {
   "cell_type": "code",
   "execution_count": null,
   "metadata": {},
   "outputs": [],
   "source": [
    "# Plot the conditional distribution at a threshold of 1 arc minute\n",
    "thresh_one_min = 1.0 / 60\n",
    "fig, ax = plot_cdf_cond(ztf=ztf, n=ast_count, thresh_deg=thresh_one_min, bins=20)"
   ]
  },
  {
   "cell_type": "code",
   "execution_count": null,
   "metadata": {},
   "outputs": [],
   "source": [
    "# Plot the conditional distribution at a threshold of 10 arc seconds\n",
    "thresh_ten_sec = 10.0 / 3600\n",
    "fig, ax = plot_cdf_cond(ztf=ztf, n=ast_count, thresh_deg=thresh_ten_sec, bins=100)"
   ]
  },
  {
   "cell_type": "markdown",
   "metadata": {},
   "source": [
    "### Explore Observations that are Close to One Asteroid"
   ]
  },
  {
   "cell_type": "code",
   "execution_count": null,
   "metadata": {},
   "outputs": [],
   "source": [
    "thresh_sec_close = 10\n",
    "thresh_deg_close = thresh_sec_close / 3600\n",
    "thresh_dist_close = deg2dist(thresh_deg_close)\n",
    "print(f'Threshold to be close:')\n",
    "print(f'{thresh_sec_close} arc seconds')\n",
    "print(f'{thresh_dist_close:6.2e} cartesian distance')\n",
    "\n",
    "is_close = ztf.nearest_ast_dist < thresh_dist_close"
   ]
  },
  {
   "cell_type": "code",
   "execution_count": null,
   "metadata": {},
   "outputs": [],
   "source": [
    "ztf1k = ztf[is_close].copy()\n",
    "ztf1k"
   ]
  },
  {
   "cell_type": "code",
   "execution_count": null,
   "metadata": {},
   "outputs": [],
   "source": [
    "# Group results by asteroid number\n",
    "close_by_ast = ztf1k.groupby(ztf1k.nearest_ast_num)\n",
    "close_by_ast_count = close_by_ast.size()\n",
    "close_ast_num = close_by_ast_count.index.values\n",
    "close_ast_count = close_by_ast_count.values"
   ]
  },
  {
   "cell_type": "code",
   "execution_count": null,
   "metadata": {},
   "outputs": [],
   "source": [
    "# Set up bins\n",
    "bin_size = 5\n",
    "bin_max = np.max(close_ast_count) + bin_size\n",
    "bins = np.arange(0, bin_max, bin_size)\n",
    "\n",
    "fig, ax = plt.subplots()\n",
    "thresh_caption = f'{thresh_sec_close} arc seconds'\n",
    "ax.set_title(f'Frequency of Close Observations by Asteroid (Threshold {thresh_caption} )')\n",
    "ax.set_xlabel(f'Number of Close Observations < {thresh_caption} for one Asteroid')\n",
    "ax.set_ylabel('Frequency')\n",
    "freq, bins_np, patches = ax.hist(x=close_ast_count, bins=bins, color='blue')\n",
    "bin_count = bins_np.size - 1\n",
    "# random_freq = N_obs * prob_close/ bin_count\n",
    "# ax.axhline(y=random_freq, color='red', label='random')\n",
    "# ax.legend()\n",
    "ax.grid()\n",
    "fig.savefig(f'../figs/ztf/close_obs_per_ast_hist.png', bbox_inches='tight')\n",
    "plt.show()"
   ]
  },
  {
   "cell_type": "code",
   "execution_count": null,
   "metadata": {},
   "outputs": [],
   "source": [
    "np.sum(close_ast_count >= 20)"
   ]
  },
  {
   "cell_type": "code",
   "execution_count": null,
   "metadata": {},
   "outputs": [],
   "source": []
  }
 ],
 "metadata": {
  "kernelspec": {
   "display_name": "Python [conda env:kepler]",
   "language": "python",
   "name": "conda-env-kepler-py"
  },
  "language_info": {
   "codemirror_mode": {
    "name": "ipython",
    "version": 3
   },
   "file_extension": ".py",
   "mimetype": "text/x-python",
   "name": "python",
   "nbconvert_exporter": "python",
   "pygments_lexer": "ipython3",
   "version": "3.7.6"
  }
 },
 "nbformat": 4,
 "nbformat_minor": 4
}
