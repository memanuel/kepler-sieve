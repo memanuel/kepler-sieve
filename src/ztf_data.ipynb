{
 "cells": [
  {
   "cell_type": "code",
   "execution_count": 1,
   "metadata": {},
   "outputs": [],
   "source": [
    "# Core\n",
    "import pandas as pd\n",
    "import numpy as np\n",
    "from scipy.interpolate import CubicSpline\n",
    "\n",
    "# Astronomy\n",
    "from astropy.time import Time\n",
    "from astropy.units import deg\n",
    "\n",
    "# Utility\n",
    "import os\n",
    "from datetime import date\n",
    "import time\n",
    "from tqdm.auto import tqdm\n",
    "\n",
    "# Plotting\n",
    "import matplotlib.pyplot as plt\n",
    "import matplotlib as mpl\n",
    "\n",
    "# Libraries for getting Alerce data out of ZTF2 database\n",
    "import json\n",
    "import psycopg2\n",
    "from alerce.api import AlerceAPI\n",
    "\n",
    "# MSE imports\n",
    "from utils import range_inc\n",
    "from astro_utils import date_to_mjd, mjd_to_date\n",
    "from ztf_data import load_ztf_det, load_ztf_det_year, ztf_det_add_dir, load_ztf_det_all\n",
    "from ztf_data import interp_ast_dir\n",
    "from ra_dec import radec2dir, radec_diff, direction_diff\n",
    "from horizons_files import load_obs_ast_jpl\n",
    "from asteroid_data import make_data_one_file, get_earth_pos"
   ]
  },
  {
   "cell_type": "code",
   "execution_count": 2,
   "metadata": {},
   "outputs": [],
   "source": [
    "# Set plot style variables\n",
    "mpl.rcParams['figure.figsize'] = [16.0, 10.0]\n",
    "mpl.rcParams['font.size'] = 16"
   ]
  },
  {
   "cell_type": "markdown",
   "metadata": {},
   "source": [
    "### Load Detections from Alerce ZTF2 Database"
   ]
  },
  {
   "cell_type": "code",
   "execution_count": 3,
   "metadata": {},
   "outputs": [
    {
     "name": "stdout",
     "output_type": "stream",
     "text": [
      "Loaded ../data/ztf/ztf-detections.h5 from disk.\n"
     ]
    }
   ],
   "source": [
    "ztf = load_ztf_det_all()"
   ]
  },
  {
   "cell_type": "code",
   "execution_count": 4,
   "metadata": {},
   "outputs": [
    {
     "data": {
      "text/html": [
       "<div>\n",
       "<style scoped>\n",
       "    .dataframe tbody tr th:only-of-type {\n",
       "        vertical-align: middle;\n",
       "    }\n",
       "\n",
       "    .dataframe tbody tr th {\n",
       "        vertical-align: top;\n",
       "    }\n",
       "\n",
       "    .dataframe thead th {\n",
       "        text-align: right;\n",
       "    }\n",
       "</style>\n",
       "<table border=\"1\" class=\"dataframe\">\n",
       "  <thead>\n",
       "    <tr style=\"text-align: right;\">\n",
       "      <th></th>\n",
       "      <th>ObjectID</th>\n",
       "      <th>CandidateID</th>\n",
       "      <th>mjd</th>\n",
       "      <th>ra</th>\n",
       "      <th>dec</th>\n",
       "      <th>ux</th>\n",
       "      <th>uy</th>\n",
       "      <th>uz</th>\n",
       "      <th>magap</th>\n",
       "      <th>asteroid_prob</th>\n",
       "    </tr>\n",
       "  </thead>\n",
       "  <tbody>\n",
       "    <tr>\n",
       "      <th>0</th>\n",
       "      <td>b'ZTF18acebhfp'</td>\n",
       "      <td>676397301515010013</td>\n",
       "      <td>58430.397303</td>\n",
       "      <td>41.357345</td>\n",
       "      <td>58.879488</td>\n",
       "      <td>0.387942</td>\n",
       "      <td>0.653853</td>\n",
       "      <td>0.649598</td>\n",
       "      <td>18.946699</td>\n",
       "      <td>0.865682</td>\n",
       "    </tr>\n",
       "    <tr>\n",
       "      <th>1</th>\n",
       "      <td>b'ZTF18abodmwk'</td>\n",
       "      <td>596403415715010014</td>\n",
       "      <td>58350.403414</td>\n",
       "      <td>30.969721</td>\n",
       "      <td>65.305308</td>\n",
       "      <td>0.358224</td>\n",
       "      <td>0.558644</td>\n",
       "      <td>0.748059</td>\n",
       "      <td>19.010401</td>\n",
       "      <td>0.855504</td>\n",
       "    </tr>\n",
       "    <tr>\n",
       "      <th>2</th>\n",
       "      <td>b'ZTF18abodmwk'</td>\n",
       "      <td>626428345715010011</td>\n",
       "      <td>58380.428345</td>\n",
       "      <td>30.969705</td>\n",
       "      <td>65.305294</td>\n",
       "      <td>0.358224</td>\n",
       "      <td>0.558644</td>\n",
       "      <td>0.748059</td>\n",
       "      <td>18.935900</td>\n",
       "      <td>0.855504</td>\n",
       "    </tr>\n",
       "    <tr>\n",
       "      <th>3</th>\n",
       "      <td>b'ZTF18abodmwk'</td>\n",
       "      <td>630507595715015045</td>\n",
       "      <td>58384.507593</td>\n",
       "      <td>30.969940</td>\n",
       "      <td>65.305305</td>\n",
       "      <td>0.358223</td>\n",
       "      <td>0.558645</td>\n",
       "      <td>0.748059</td>\n",
       "      <td>19.260401</td>\n",
       "      <td>0.855504</td>\n",
       "    </tr>\n",
       "    <tr>\n",
       "      <th>4</th>\n",
       "      <td>b'ZTF18abodmwk'</td>\n",
       "      <td>618384965715010022</td>\n",
       "      <td>58372.384965</td>\n",
       "      <td>30.969643</td>\n",
       "      <td>65.305179</td>\n",
       "      <td>0.358226</td>\n",
       "      <td>0.558644</td>\n",
       "      <td>0.748058</td>\n",
       "      <td>19.220200</td>\n",
       "      <td>0.855504</td>\n",
       "    </tr>\n",
       "    <tr>\n",
       "      <th>...</th>\n",
       "      <td>...</td>\n",
       "      <td>...</td>\n",
       "      <td>...</td>\n",
       "      <td>...</td>\n",
       "      <td>...</td>\n",
       "      <td>...</td>\n",
       "      <td>...</td>\n",
       "      <td>...</td>\n",
       "      <td>...</td>\n",
       "      <td>...</td>\n",
       "    </tr>\n",
       "    <tr>\n",
       "      <th>5459014</th>\n",
       "      <td>b'ZTF20aareruw'</td>\n",
       "      <td>1151532523515015015</td>\n",
       "      <td>58905.532523</td>\n",
       "      <td>253.007910</td>\n",
       "      <td>55.485537</td>\n",
       "      <td>-0.165587</td>\n",
       "      <td>-0.169403</td>\n",
       "      <td>0.971537</td>\n",
       "      <td>19.192400</td>\n",
       "      <td>0.608023</td>\n",
       "    </tr>\n",
       "    <tr>\n",
       "      <th>5459015</th>\n",
       "      <td>b'ZTF20aarerwx'</td>\n",
       "      <td>1151533002615015009</td>\n",
       "      <td>58905.533009</td>\n",
       "      <td>232.886408</td>\n",
       "      <td>53.509617</td>\n",
       "      <td>-0.358833</td>\n",
       "      <td>-0.115301</td>\n",
       "      <td>0.926253</td>\n",
       "      <td>19.687099</td>\n",
       "      <td>0.559474</td>\n",
       "    </tr>\n",
       "    <tr>\n",
       "      <th>5459016</th>\n",
       "      <td>b'ZTF20aarerww'</td>\n",
       "      <td>1151533002115010003</td>\n",
       "      <td>58905.533009</td>\n",
       "      <td>236.167899</td>\n",
       "      <td>54.618457</td>\n",
       "      <td>-0.322375</td>\n",
       "      <td>-0.116973</td>\n",
       "      <td>0.939357</td>\n",
       "      <td>19.957001</td>\n",
       "      <td>0.392662</td>\n",
       "    </tr>\n",
       "    <tr>\n",
       "      <th>5459017</th>\n",
       "      <td>b'ZTF20aarervr'</td>\n",
       "      <td>1151526063515015015</td>\n",
       "      <td>58905.526065</td>\n",
       "      <td>286.235286</td>\n",
       "      <td>33.876902</td>\n",
       "      <td>0.232120</td>\n",
       "      <td>-0.509626</td>\n",
       "      <td>0.828494</td>\n",
       "      <td>19.049299</td>\n",
       "      <td>0.517241</td>\n",
       "    </tr>\n",
       "    <tr>\n",
       "      <th>5459018</th>\n",
       "      <td>b'ZTF18aajqsjs'</td>\n",
       "      <td>1151533002315015001</td>\n",
       "      <td>58905.533009</td>\n",
       "      <td>237.382168</td>\n",
       "      <td>53.766297</td>\n",
       "      <td>-0.318612</td>\n",
       "      <td>-0.135924</td>\n",
       "      <td>0.938089</td>\n",
       "      <td>18.847700</td>\n",
       "      <td>0.992615</td>\n",
       "    </tr>\n",
       "  </tbody>\n",
       "</table>\n",
       "<p>5697962 rows × 10 columns</p>\n",
       "</div>"
      ],
      "text/plain": [
       "                ObjectID          CandidateID           mjd          ra  \\\n",
       "0        b'ZTF18acebhfp'   676397301515010013  58430.397303   41.357345   \n",
       "1        b'ZTF18abodmwk'   596403415715010014  58350.403414   30.969721   \n",
       "2        b'ZTF18abodmwk'   626428345715010011  58380.428345   30.969705   \n",
       "3        b'ZTF18abodmwk'   630507595715015045  58384.507593   30.969940   \n",
       "4        b'ZTF18abodmwk'   618384965715010022  58372.384965   30.969643   \n",
       "...                  ...                  ...           ...         ...   \n",
       "5459014  b'ZTF20aareruw'  1151532523515015015  58905.532523  253.007910   \n",
       "5459015  b'ZTF20aarerwx'  1151533002615015009  58905.533009  232.886408   \n",
       "5459016  b'ZTF20aarerww'  1151533002115010003  58905.533009  236.167899   \n",
       "5459017  b'ZTF20aarervr'  1151526063515015015  58905.526065  286.235286   \n",
       "5459018  b'ZTF18aajqsjs'  1151533002315015001  58905.533009  237.382168   \n",
       "\n",
       "               dec        ux        uy        uz      magap  asteroid_prob  \n",
       "0        58.879488  0.387942  0.653853  0.649598  18.946699       0.865682  \n",
       "1        65.305308  0.358224  0.558644  0.748059  19.010401       0.855504  \n",
       "2        65.305294  0.358224  0.558644  0.748059  18.935900       0.855504  \n",
       "3        65.305305  0.358223  0.558645  0.748059  19.260401       0.855504  \n",
       "4        65.305179  0.358226  0.558644  0.748058  19.220200       0.855504  \n",
       "...            ...       ...       ...       ...        ...            ...  \n",
       "5459014  55.485537 -0.165587 -0.169403  0.971537  19.192400       0.608023  \n",
       "5459015  53.509617 -0.358833 -0.115301  0.926253  19.687099       0.559474  \n",
       "5459016  54.618457 -0.322375 -0.116973  0.939357  19.957001       0.392662  \n",
       "5459017  33.876902  0.232120 -0.509626  0.828494  19.049299       0.517241  \n",
       "5459018  53.766297 -0.318612 -0.135924  0.938089  18.847700       0.992615  \n",
       "\n",
       "[5697962 rows x 10 columns]"
      ]
     },
     "execution_count": 4,
     "metadata": {},
     "output_type": "execute_result"
    }
   ],
   "source": [
    "# Review DataFram\n",
    "ztf"
   ]
  },
  {
   "cell_type": "code",
   "execution_count": 5,
   "metadata": {},
   "outputs": [
    {
     "data": {
      "text/plain": [
       "ObjectID            |S12\n",
       "CandidateID        int64\n",
       "mjd              float64\n",
       "ra               float64\n",
       "dec              float64\n",
       "ux               float64\n",
       "uy               float64\n",
       "uz               float64\n",
       "magap            float64\n",
       "asteroid_prob    float64\n",
       "dtype: object"
      ]
     },
     "execution_count": 5,
     "metadata": {},
     "output_type": "execute_result"
    }
   ],
   "source": [
    "# Review data types\n",
    "ztf.dtypes"
   ]
  },
  {
   "cell_type": "markdown",
   "metadata": {},
   "source": [
    "### Summarize Observations by Month"
   ]
  },
  {
   "cell_type": "code",
   "execution_count": null,
   "metadata": {},
   "outputs": [],
   "source": [
    "# Extract the year-month tuple for each observation for summarizing\n",
    "tt = Time(ztf.mjd, format='mjd')\n",
    "isotimes = tt.iso\n",
    "ym = np.array([isotime[0:7] for isotime in isotimes])\n",
    "ym_ser = pd.Series(data=ym, index=ztf.index)\n",
    "\n",
    "# Group data by month for monthly summary\n",
    "obs_monthly = ztf.groupby(ym_ser)\n",
    "obs_monthly_count = obs_monthly.size()"
   ]
  },
  {
   "cell_type": "code",
   "execution_count": null,
   "metadata": {},
   "outputs": [],
   "source": [
    "# Calculations for plot\n",
    "month_strs = obs_monthly_count.index.values\n",
    "x_values = np.arange(obs_monthly_count.size)\n",
    "x_dates = [date(int(x[0:4]), int(x[5:7]), 1) for x in month_strs]\n",
    "y_values = obs_monthly_count.values\n",
    "\n",
    "# Plot the number of observations by month\n",
    "fig, ax = plt.subplots()\n",
    "ax.set_title('Alerce Asteroid Observations by Month')\n",
    "ax.set_xlabel('Month')\n",
    "ax.set_ylabel('Asteroid Observations')\n",
    "# ax.bar(x=x_values, height=y_values, tick_label=month_strs, color='blue')\n",
    "ax.bar(x=x_values, height=y_values, color='blue')\n",
    "ax.set_xticks(x_values[::3])\n",
    "ax.set_xticks(x_values, minor=True)\n",
    "ax.set_xticklabels(month_strs[::3], minor=False)\n",
    "# ax.legend()\n",
    "ax.grid()\n",
    "fig.savefig('../figs/alerce/alerce_ast_per_month.png', bbox_inches='tight')\n",
    "plt.show()"
   ]
  },
  {
   "cell_type": "markdown",
   "metadata": {},
   "source": [
    "### Extract key Data from ZTF Frame"
   ]
  },
  {
   "cell_type": "code",
   "execution_count": 6,
   "metadata": {},
   "outputs": [],
   "source": [
    "# Extract mjd, ra, and dec of the ZTF observations as arrays of astropy angles\n",
    "mjd_ztf = ztf.mjd.values\n",
    "ra_ztf = ztf.ra.values\n",
    "dec_ztf = ztf.dec.values"
   ]
  },
  {
   "cell_type": "code",
   "execution_count": 7,
   "metadata": {},
   "outputs": [],
   "source": [
    "# Extract directions of the ZTF observations as an Nx3 array\n",
    "u_ztf = ztf[['ux', 'uy', 'uz']].values"
   ]
  },
  {
   "cell_type": "markdown",
   "metadata": {},
   "source": [
    "### Load JPL Asteroid Directions for Comparison to ZTF"
   ]
  },
  {
   "cell_type": "code",
   "execution_count": 8,
   "metadata": {},
   "outputs": [],
   "source": [
    "# Load DataFrame of JPL observations of asteroids from palomar\n",
    "# dir_name_jpl = '../data/jpl/testing/hourly'\n",
    "# jpl = load_obs_ast_jpl(ast_num0=1, ast_num1=16, observer_name='palomar', dir_name=dir_name_jpl)"
   ]
  },
  {
   "cell_type": "code",
   "execution_count": 9,
   "metadata": {},
   "outputs": [],
   "source": [
    "# Load DataFrame of JPL observations of asteroids from geocenter\n",
    "dir_name_jpl = '../data/jpl/testing/daily'\n",
    "jpl = load_obs_ast_jpl(ast_num0=1, ast_num1=16, observer_name='geocenter', dir_name=dir_name_jpl)"
   ]
  },
  {
   "cell_type": "code",
   "execution_count": 10,
   "metadata": {},
   "outputs": [
    {
     "data": {
      "text/html": [
       "<div>\n",
       "<style scoped>\n",
       "    .dataframe tbody tr th:only-of-type {\n",
       "        vertical-align: middle;\n",
       "    }\n",
       "\n",
       "    .dataframe tbody tr th {\n",
       "        vertical-align: top;\n",
       "    }\n",
       "\n",
       "    .dataframe thead th {\n",
       "        text-align: right;\n",
       "    }\n",
       "</style>\n",
       "<table border=\"1\" class=\"dataframe\">\n",
       "  <thead>\n",
       "    <tr style=\"text-align: right;\">\n",
       "      <th></th>\n",
       "      <th>asteroid_num</th>\n",
       "      <th>mjd</th>\n",
       "      <th>JulianDate</th>\n",
       "      <th>time_key</th>\n",
       "      <th>RA_jpl</th>\n",
       "      <th>DEC_jpl</th>\n",
       "      <th>ux_jpl</th>\n",
       "      <th>uy_jpl</th>\n",
       "      <th>uz_jpl</th>\n",
       "      <th>RA_apparent</th>\n",
       "      <th>DEC_apparent</th>\n",
       "      <th>delta</th>\n",
       "      <th>delta_dot</th>\n",
       "      <th>light_time</th>\n",
       "    </tr>\n",
       "  </thead>\n",
       "  <tbody>\n",
       "    <tr>\n",
       "      <th>0</th>\n",
       "      <td>1</td>\n",
       "      <td>55197.0</td>\n",
       "      <td>2455197.5</td>\n",
       "      <td>1324728</td>\n",
       "      <td>243.215442</td>\n",
       "      <td>-17.105913</td>\n",
       "      <td>-0.430702</td>\n",
       "      <td>-0.899812</td>\n",
       "      <td>0.069523</td>\n",
       "      <td>243.358581</td>\n",
       "      <td>-17.131844</td>\n",
       "      <td>3.437877</td>\n",
       "      <td>-12.468091</td>\n",
       "      <td>28.591952</td>\n",
       "    </tr>\n",
       "    <tr>\n",
       "      <th>1</th>\n",
       "      <td>1</td>\n",
       "      <td>55198.0</td>\n",
       "      <td>2455198.5</td>\n",
       "      <td>1324752</td>\n",
       "      <td>243.625145</td>\n",
       "      <td>-17.196033</td>\n",
       "      <td>-0.424384</td>\n",
       "      <td>-0.902835</td>\n",
       "      <td>0.069195</td>\n",
       "      <td>243.768548</td>\n",
       "      <td>-17.221645</td>\n",
       "      <td>3.430618</td>\n",
       "      <td>-12.668422</td>\n",
       "      <td>28.531584</td>\n",
       "    </tr>\n",
       "    <tr>\n",
       "      <th>2</th>\n",
       "      <td>1</td>\n",
       "      <td>55199.0</td>\n",
       "      <td>2455199.5</td>\n",
       "      <td>1324776</td>\n",
       "      <td>244.034084</td>\n",
       "      <td>-17.284935</td>\n",
       "      <td>-0.418063</td>\n",
       "      <td>-0.905804</td>\n",
       "      <td>0.068867</td>\n",
       "      <td>244.177730</td>\n",
       "      <td>-17.310227</td>\n",
       "      <td>3.423244</td>\n",
       "      <td>-12.868277</td>\n",
       "      <td>28.470254</td>\n",
       "    </tr>\n",
       "    <tr>\n",
       "      <th>3</th>\n",
       "      <td>1</td>\n",
       "      <td>55200.0</td>\n",
       "      <td>2455200.5</td>\n",
       "      <td>1324800</td>\n",
       "      <td>244.442231</td>\n",
       "      <td>-17.372621</td>\n",
       "      <td>-0.411741</td>\n",
       "      <td>-0.908720</td>\n",
       "      <td>0.068539</td>\n",
       "      <td>244.586099</td>\n",
       "      <td>-17.397589</td>\n",
       "      <td>3.415755</td>\n",
       "      <td>-13.067723</td>\n",
       "      <td>28.407966</td>\n",
       "    </tr>\n",
       "    <tr>\n",
       "      <th>4</th>\n",
       "      <td>1</td>\n",
       "      <td>55201.0</td>\n",
       "      <td>2455201.5</td>\n",
       "      <td>1324824</td>\n",
       "      <td>244.849560</td>\n",
       "      <td>-17.459094</td>\n",
       "      <td>-0.405417</td>\n",
       "      <td>-0.911583</td>\n",
       "      <td>0.068211</td>\n",
       "      <td>244.993632</td>\n",
       "      <td>-17.483728</td>\n",
       "      <td>3.408150</td>\n",
       "      <td>-13.266749</td>\n",
       "      <td>28.344720</td>\n",
       "    </tr>\n",
       "    <tr>\n",
       "      <th>...</th>\n",
       "      <td>...</td>\n",
       "      <td>...</td>\n",
       "      <td>...</td>\n",
       "      <td>...</td>\n",
       "      <td>...</td>\n",
       "      <td>...</td>\n",
       "      <td>...</td>\n",
       "      <td>...</td>\n",
       "      <td>...</td>\n",
       "      <td>...</td>\n",
       "      <td>...</td>\n",
       "      <td>...</td>\n",
       "      <td>...</td>\n",
       "      <td>...</td>\n",
       "    </tr>\n",
       "    <tr>\n",
       "      <th>3648</th>\n",
       "      <td>16</td>\n",
       "      <td>58845.0</td>\n",
       "      <td>2458845.5</td>\n",
       "      <td>1412280</td>\n",
       "      <td>332.583400</td>\n",
       "      <td>-12.175911</td>\n",
       "      <td>0.867713</td>\n",
       "      <td>-0.496854</td>\n",
       "      <td>-0.014471</td>\n",
       "      <td>332.842722</td>\n",
       "      <td>-12.079671</td>\n",
       "      <td>3.017646</td>\n",
       "      <td>17.406609</td>\n",
       "      <td>25.096998</td>\n",
       "    </tr>\n",
       "    <tr>\n",
       "      <th>3649</th>\n",
       "      <td>16</td>\n",
       "      <td>58846.0</td>\n",
       "      <td>2458846.5</td>\n",
       "      <td>1412304</td>\n",
       "      <td>332.963279</td>\n",
       "      <td>-12.044021</td>\n",
       "      <td>0.871109</td>\n",
       "      <td>-0.490873</td>\n",
       "      <td>-0.014611</td>\n",
       "      <td>333.222363</td>\n",
       "      <td>-11.947459</td>\n",
       "      <td>3.027660</td>\n",
       "      <td>17.268707</td>\n",
       "      <td>25.180280</td>\n",
       "    </tr>\n",
       "    <tr>\n",
       "      <th>3650</th>\n",
       "      <td>16</td>\n",
       "      <td>58847.0</td>\n",
       "      <td>2458847.5</td>\n",
       "      <td>1412328</td>\n",
       "      <td>333.344527</td>\n",
       "      <td>-11.910963</td>\n",
       "      <td>0.874478</td>\n",
       "      <td>-0.484841</td>\n",
       "      <td>-0.014750</td>\n",
       "      <td>333.603364</td>\n",
       "      <td>-11.814086</td>\n",
       "      <td>3.037593</td>\n",
       "      <td>17.128990</td>\n",
       "      <td>25.262894</td>\n",
       "    </tr>\n",
       "    <tr>\n",
       "      <th>3651</th>\n",
       "      <td>16</td>\n",
       "      <td>58848.0</td>\n",
       "      <td>2458848.5</td>\n",
       "      <td>1412352</td>\n",
       "      <td>333.727108</td>\n",
       "      <td>-11.776749</td>\n",
       "      <td>0.877821</td>\n",
       "      <td>-0.478758</td>\n",
       "      <td>-0.014889</td>\n",
       "      <td>333.985688</td>\n",
       "      <td>-11.679564</td>\n",
       "      <td>3.047446</td>\n",
       "      <td>16.987592</td>\n",
       "      <td>25.344833</td>\n",
       "    </tr>\n",
       "    <tr>\n",
       "      <th>3652</th>\n",
       "      <td>16</td>\n",
       "      <td>58849.0</td>\n",
       "      <td>2458849.5</td>\n",
       "      <td>1412376</td>\n",
       "      <td>334.110983</td>\n",
       "      <td>-11.641395</td>\n",
       "      <td>0.881136</td>\n",
       "      <td>-0.472625</td>\n",
       "      <td>-0.015026</td>\n",
       "      <td>334.369299</td>\n",
       "      <td>-11.543908</td>\n",
       "      <td>3.057216</td>\n",
       "      <td>16.844636</td>\n",
       "      <td>25.426089</td>\n",
       "    </tr>\n",
       "  </tbody>\n",
       "</table>\n",
       "<p>58448 rows × 14 columns</p>\n",
       "</div>"
      ],
      "text/plain": [
       "      asteroid_num      mjd  JulianDate  time_key      RA_jpl    DEC_jpl  \\\n",
       "0                1  55197.0   2455197.5   1324728  243.215442 -17.105913   \n",
       "1                1  55198.0   2455198.5   1324752  243.625145 -17.196033   \n",
       "2                1  55199.0   2455199.5   1324776  244.034084 -17.284935   \n",
       "3                1  55200.0   2455200.5   1324800  244.442231 -17.372621   \n",
       "4                1  55201.0   2455201.5   1324824  244.849560 -17.459094   \n",
       "...            ...      ...         ...       ...         ...        ...   \n",
       "3648            16  58845.0   2458845.5   1412280  332.583400 -12.175911   \n",
       "3649            16  58846.0   2458846.5   1412304  332.963279 -12.044021   \n",
       "3650            16  58847.0   2458847.5   1412328  333.344527 -11.910963   \n",
       "3651            16  58848.0   2458848.5   1412352  333.727108 -11.776749   \n",
       "3652            16  58849.0   2458849.5   1412376  334.110983 -11.641395   \n",
       "\n",
       "        ux_jpl    uy_jpl    uz_jpl  RA_apparent  DEC_apparent     delta  \\\n",
       "0    -0.430702 -0.899812  0.069523   243.358581    -17.131844  3.437877   \n",
       "1    -0.424384 -0.902835  0.069195   243.768548    -17.221645  3.430618   \n",
       "2    -0.418063 -0.905804  0.068867   244.177730    -17.310227  3.423244   \n",
       "3    -0.411741 -0.908720  0.068539   244.586099    -17.397589  3.415755   \n",
       "4    -0.405417 -0.911583  0.068211   244.993632    -17.483728  3.408150   \n",
       "...        ...       ...       ...          ...           ...       ...   \n",
       "3648  0.867713 -0.496854 -0.014471   332.842722    -12.079671  3.017646   \n",
       "3649  0.871109 -0.490873 -0.014611   333.222363    -11.947459  3.027660   \n",
       "3650  0.874478 -0.484841 -0.014750   333.603364    -11.814086  3.037593   \n",
       "3651  0.877821 -0.478758 -0.014889   333.985688    -11.679564  3.047446   \n",
       "3652  0.881136 -0.472625 -0.015026   334.369299    -11.543908  3.057216   \n",
       "\n",
       "      delta_dot  light_time  \n",
       "0    -12.468091   28.591952  \n",
       "1    -12.668422   28.531584  \n",
       "2    -12.868277   28.470254  \n",
       "3    -13.067723   28.407966  \n",
       "4    -13.266749   28.344720  \n",
       "...         ...         ...  \n",
       "3648  17.406609   25.096998  \n",
       "3649  17.268707   25.180280  \n",
       "3650  17.128990   25.262894  \n",
       "3651  16.987592   25.344833  \n",
       "3652  16.844636   25.426089  \n",
       "\n",
       "[58448 rows x 14 columns]"
      ]
     },
     "execution_count": 10,
     "metadata": {},
     "output_type": "execute_result"
    }
   ],
   "source": [
    "jpl"
   ]
  },
  {
   "cell_type": "markdown",
   "metadata": {},
   "source": [
    "### Load MSE Calculated Asteroid Directions for Comparison to ZTF"
   ]
  },
  {
   "cell_type": "code",
   "execution_count": null,
   "metadata": {},
   "outputs": [],
   "source": [
    "# Date range in ZTF data\n",
    "mjd_min = np.min(mjd_ztf)\n",
    "mjd_max = np.max(mjd_ztf)\n",
    "print(f'ZTF data range: {mjd_min:9.3f} to {mjd_max:9.3f}')"
   ]
  },
  {
   "cell_type": "code",
   "execution_count": null,
   "metadata": {},
   "outputs": [],
   "source": []
  },
  {
   "cell_type": "code",
   "execution_count": null,
   "metadata": {},
   "outputs": [],
   "source": [
    "# Load MSE asteroid data\n",
    "inputs_mse, outputs_mse = make_data_one_file(0, 1000)\n",
    "\n",
    "# Associated asteroid numbers\n",
    "# ast_num_mse = np.arange(1, 1000, dtype=np.int32)"
   ]
  },
  {
   "cell_type": "code",
   "execution_count": null,
   "metadata": {},
   "outputs": [],
   "source": [
    "inputs_mse.keys()"
   ]
  },
  {
   "cell_type": "code",
   "execution_count": null,
   "metadata": {},
   "outputs": [],
   "source": [
    "outputs_mse.keys()"
   ]
  },
  {
   "cell_type": "code",
   "execution_count": null,
   "metadata": {},
   "outputs": [],
   "source": [
    "q_mse = outputs_mse['q']\n",
    "q_mse.shape"
   ]
  },
  {
   "cell_type": "code",
   "execution_count": null,
   "metadata": {},
   "outputs": [],
   "source": [
    "# Range of asteroids to compare to ZTF\n",
    "ast_num_min: int = 1\n",
    "ast_num_max: int = 100\n",
    "\n",
    "# Mask to overlap with selected asteroids for comparison\n",
    "mask_mse_ast = (ast_num_min <= ast_num_mse) & (ast_num_mse <= ast_num_max)\n",
    "\n",
    "# Extract times for MSE integration\n",
    "mjd_mse = inputs_mse['ts'][0]\n",
    "\n",
    "# Mask to overlap with the ZTF data\n",
    "mask_mse_t = (mjd_min <= mjd_mse) & (mjd_mse <= mjd_max)\n",
    "\n",
    "# Masked asteroid number and mjd\n",
    "ast_num_src = ast_num_mse[mask_mse_ast]\n",
    "mjd_src = mjd_mse[mask_mse_t]"
   ]
  },
  {
   "cell_type": "code",
   "execution_count": null,
   "metadata": {},
   "outputs": [],
   "source": [
    "ast_num_src"
   ]
  },
  {
   "cell_type": "code",
   "execution_count": null,
   "metadata": {},
   "outputs": [],
   "source": [
    "# mjd_src"
   ]
  },
  {
   "cell_type": "code",
   "execution_count": null,
   "metadata": {},
   "outputs": [],
   "source": []
  },
  {
   "cell_type": "code",
   "execution_count": null,
   "metadata": {},
   "outputs": [],
   "source": []
  },
  {
   "cell_type": "code",
   "execution_count": null,
   "metadata": {},
   "outputs": [],
   "source": []
  },
  {
   "cell_type": "code",
   "execution_count": null,
   "metadata": {},
   "outputs": [],
   "source": []
  },
  {
   "cell_type": "code",
   "execution_count": null,
   "metadata": {},
   "outputs": [],
   "source": [
    "# Alias inputs to interp_ast_dir\n",
    "ast_num_src = jpl.asteroid_num.values\n",
    "mjd_src = jpl.mjd.values\n",
    "u_src = jpl[['ux_jpl', 'uy_jpl', 'uz_jpl']].values\n",
    "ast_num_out = 1\n",
    "mjd_out = mjd_ztf"
   ]
  },
  {
   "cell_type": "code",
   "execution_count": null,
   "metadata": {},
   "outputs": [],
   "source": [
    "# Splined direction of this asteroid according to JPL\n",
    "u_jpl = interp_ast_dir(ast_num_src, mjd_src, u_src, ast_num_out, mjd_out)"
   ]
  },
  {
   "cell_type": "code",
   "execution_count": null,
   "metadata": {},
   "outputs": [],
   "source": [
    "u_jpl.shape"
   ]
  },
  {
   "cell_type": "code",
   "execution_count": null,
   "metadata": {},
   "outputs": [],
   "source": [
    "ztf"
   ]
  },
  {
   "cell_type": "code",
   "execution_count": null,
   "metadata": {},
   "outputs": [],
   "source": [
    "def compare_ztf_src(ztf: pd.DataFrame, ast_num_src: np.ndarray, mjd_src: np.ndarray, u_src: np.ndarray):\n",
    "    \"\"\"\n",
    "    Construct splined predicted asteroid directions from a source at desired dates.\n",
    "    INPUTS:\n",
    "        ztf        : DataFrame of ZTF observations; columns must include mjd, ux, uy, uz\n",
    "        ast_num_src: asteroid numbers whose position is predicted by source; shape (N,)\n",
    "        mjd_src    : modified julian dates as of which direction is predicted by source; shape (N,)\n",
    "        u_src      : directions from observatory to asteroid predicted by source; shape (N,3,)\n",
    "    OUTPUTS:\n",
    "        ast_nums   : array of distinct asteroids whose distance is compared; shape (K,)\n",
    "        angle_diff : difference in angle between each ZTF observation and splined asteroid position; shape (N,K,)\n",
    "    \"\"\"\n",
    "    pass\n"
   ]
  },
  {
   "cell_type": "code",
   "execution_count": null,
   "metadata": {},
   "outputs": [],
   "source": []
  },
  {
   "cell_type": "code",
   "execution_count": null,
   "metadata": {},
   "outputs": [],
   "source": [
    "# Get distinct asteroid numbers in source\n",
    "ast_nums = np.unique(ast_num_src)\n",
    "K = ast_nums.size\n",
    "\n",
    "# Number of rows in ZTF data\n",
    "M = ztf.shape[0]\n",
    "\n",
    "# Initialize empty array of distances\n",
    "angle_diff = np.zeros(shape=(M,K))\n",
    "\n",
    "# Array of times to be interpolated from ztf\n",
    "mjd_out = ztf.mjd.values\n",
    "\n",
    "# Extract directions of the ZTF observations as an Mx3 array\n",
    "u_ztf = ztf[['ux', 'uy', 'uz']].values"
   ]
  },
  {
   "cell_type": "code",
   "execution_count": null,
   "metadata": {},
   "outputs": [],
   "source": [
    "ast_nums"
   ]
  },
  {
   "cell_type": "code",
   "execution_count": null,
   "metadata": {},
   "outputs": [],
   "source": [
    "K"
   ]
  },
  {
   "cell_type": "code",
   "execution_count": null,
   "metadata": {},
   "outputs": [],
   "source": [
    "M"
   ]
  },
  {
   "cell_type": "code",
   "execution_count": null,
   "metadata": {},
   "outputs": [],
   "source": [
    "# Iterate over asteroids one at a time\n",
    "for k, ast_num in enumerate(ast_nums):\n",
    "    # The interpolated direction of this asteroid at the ZTF observation times\n",
    "    u_out = interp_ast_dir(ast_num_src=ast_num_src, mjd_src=mjd_src, u_src=u_src, \n",
    "                           ast_num_out=ast_num, mjd_out=mjd_out)\n",
    "    # Distance from u_ztf to u_out\n",
    "    u_dist = np.linalg.norm(u_out - u_ztf, axis=1)\n",
    "    \n",
    "    # Convert to arc seconds and save to column k\n",
    "    # angle_diff[:, k] = 2.0*np.arcsin(u_dist*0.5)\n",
    "    angle_diff[:, k] = u_dist"
   ]
  },
  {
   "cell_type": "code",
   "execution_count": null,
   "metadata": {},
   "outputs": [],
   "source": [
    "angle_diff.shape"
   ]
  },
  {
   "cell_type": "code",
   "execution_count": null,
   "metadata": {},
   "outputs": [],
   "source": [
    "np.min(angle_diff)"
   ]
  },
  {
   "cell_type": "code",
   "execution_count": null,
   "metadata": {},
   "outputs": [],
   "source": [
    "np.max(angle_diff)"
   ]
  },
  {
   "cell_type": "code",
   "execution_count": null,
   "metadata": {},
   "outputs": [],
   "source": [
    "u_dist.shape"
   ]
  },
  {
   "cell_type": "code",
   "execution_count": null,
   "metadata": {},
   "outputs": [],
   "source": [
    "np.max(u_out)"
   ]
  },
  {
   "cell_type": "code",
   "execution_count": null,
   "metadata": {},
   "outputs": [],
   "source": [
    "u_out.shape"
   ]
  },
  {
   "cell_type": "code",
   "execution_count": null,
   "metadata": {},
   "outputs": [],
   "source": [
    "u_out[0]"
   ]
  },
  {
   "cell_type": "code",
   "execution_count": null,
   "metadata": {},
   "outputs": [],
   "source": [
    "np.linalg.norm(u_out, axis=1)"
   ]
  },
  {
   "cell_type": "code",
   "execution_count": null,
   "metadata": {},
   "outputs": [],
   "source": [
    "u_out_sz = np.linalg.norm(u_out, axis=1)"
   ]
  },
  {
   "cell_type": "code",
   "execution_count": null,
   "metadata": {},
   "outputs": [],
   "source": [
    "np.argmax(u_out_sz)"
   ]
  },
  {
   "cell_type": "code",
   "execution_count": null,
   "metadata": {},
   "outputs": [],
   "source": [
    "i = np.argmax(u_out_sz)"
   ]
  },
  {
   "cell_type": "code",
   "execution_count": null,
   "metadata": {},
   "outputs": [],
   "source": [
    "u_out[i]"
   ]
  },
  {
   "cell_type": "code",
   "execution_count": null,
   "metadata": {},
   "outputs": [],
   "source": [
    "mjd[i]"
   ]
  },
  {
   "cell_type": "code",
   "execution_count": null,
   "metadata": {},
   "outputs": [],
   "source": [
    "mjd_out[i]"
   ]
  },
  {
   "cell_type": "code",
   "execution_count": null,
   "metadata": {},
   "outputs": [],
   "source": [
    "ast_num_out = ast_num\n",
    "mask = (ast_num_src == ast_num_out)"
   ]
  },
  {
   "cell_type": "code",
   "execution_count": null,
   "metadata": {},
   "outputs": [],
   "source": [
    "x_spline = mjd_src[mask]\n",
    "y_spline = u_src[mask]\n",
    "u_spline = CubicSpline(x=x_spline, y=y_spline)"
   ]
  },
  {
   "cell_type": "code",
   "execution_count": null,
   "metadata": {},
   "outputs": [],
   "source": [
    "np.min(x_spline)"
   ]
  },
  {
   "cell_type": "code",
   "execution_count": null,
   "metadata": {},
   "outputs": [],
   "source": [
    "np.max(x_spline)"
   ]
  },
  {
   "cell_type": "code",
   "execution_count": null,
   "metadata": {},
   "outputs": [],
   "source": []
  }
 ],
 "metadata": {
  "kernelspec": {
   "display_name": "Python [conda env:kepler]",
   "language": "python",
   "name": "conda-env-kepler-py"
  },
  "language_info": {
   "codemirror_mode": {
    "name": "ipython",
    "version": 3
   },
   "file_extension": ".py",
   "mimetype": "text/x-python",
   "name": "python",
   "nbconvert_exporter": "python",
   "pygments_lexer": "ipython3",
   "version": "3.7.6"
  }
 },
 "nbformat": 4,
 "nbformat_minor": 4
}
