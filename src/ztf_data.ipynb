{
 "cells": [
  {
   "cell_type": "markdown",
   "metadata": {},
   "source": [
    "### Load Detections from Alerce ZTF2 Database"
   ]
  },
  {
   "cell_type": "code",
   "execution_count": 1,
   "metadata": {},
   "outputs": [],
   "source": [
    "import pandas as pd\n",
    "import numpy as np\n",
    "from astropy.units import deg\n",
    "import os\n",
    "from datetime import date\n",
    "import time\n",
    "from collections import Counter\n",
    "from tqdm.auto import tqdm\n",
    "\n",
    "# Libraries for getting Alerce data out of ZTF2 database\n",
    "import json\n",
    "import psycopg2\n",
    "from alerce.api import AlerceAPI\n",
    "\n",
    "# MSE imports\n",
    "from utils import range_inc\n",
    "from astro_utils import date_to_mjd, mjd_to_date\n",
    "from ztf_data import load_ztf_det, load_ztf_det_year, ztf_det_add_dir\n",
    "from ra_dec import radec2dir, radec_diff, direction_diff"
   ]
  },
  {
   "cell_type": "code",
   "execution_count": null,
   "metadata": {},
   "outputs": [],
   "source": []
  },
  {
   "cell_type": "code",
   "execution_count": 2,
   "metadata": {},
   "outputs": [
    {
     "name": "stdout",
     "output_type": "stream",
     "text": [
      "Loaded ../data/ztf/ztf-detections-2018.h5 from disk.\n",
      "Loaded ../data/ztf/ztf-detections-2019.h5 from disk.\n",
      "Loaded ../data/ztf/ztf-detections-2020.h5 from disk.\n"
     ]
    }
   ],
   "source": [
    "# Load 2018 and 2019 data\n",
    "df_2018 = load_ztf_det_year(2018)\n",
    "df_2019 = load_ztf_det_year(2019)\n",
    "df_2020 = load_ztf_det_year(2020)"
   ]
  },
  {
   "cell_type": "code",
   "execution_count": 3,
   "metadata": {},
   "outputs": [
    {
     "data": {
      "text/html": [
       "<div>\n",
       "<style scoped>\n",
       "    .dataframe tbody tr th:only-of-type {\n",
       "        vertical-align: middle;\n",
       "    }\n",
       "\n",
       "    .dataframe tbody tr th {\n",
       "        vertical-align: top;\n",
       "    }\n",
       "\n",
       "    .dataframe thead th {\n",
       "        text-align: right;\n",
       "    }\n",
       "</style>\n",
       "<table border=\"1\" class=\"dataframe\">\n",
       "  <thead>\n",
       "    <tr style=\"text-align: right;\">\n",
       "      <th></th>\n",
       "      <th>objectid</th>\n",
       "      <th>candidateid</th>\n",
       "      <th>mjd</th>\n",
       "      <th>ra</th>\n",
       "      <th>dec</th>\n",
       "      <th>asteroid_prob</th>\n",
       "    </tr>\n",
       "  </thead>\n",
       "  <tbody>\n",
       "    <tr>\n",
       "      <th>0</th>\n",
       "      <td>ZTF18aahbsho</td>\n",
       "      <td>518255634615010004</td>\n",
       "      <td>58272.255637</td>\n",
       "      <td>247.480690</td>\n",
       "      <td>34.027481</td>\n",
       "      <td>0.998269</td>\n",
       "    </tr>\n",
       "    <tr>\n",
       "      <th>1</th>\n",
       "      <td>ZTF18aaxpmnp</td>\n",
       "      <td>517454781815010004</td>\n",
       "      <td>58271.454780</td>\n",
       "      <td>308.738474</td>\n",
       "      <td>32.164302</td>\n",
       "      <td>0.935730</td>\n",
       "    </tr>\n",
       "    <tr>\n",
       "      <th>2</th>\n",
       "      <td>ZTF18aaxjdey</td>\n",
       "      <td>517457175915015004</td>\n",
       "      <td>58271.457176</td>\n",
       "      <td>299.974765</td>\n",
       "      <td>28.940493</td>\n",
       "      <td>0.915364</td>\n",
       "    </tr>\n",
       "    <tr>\n",
       "      <th>3</th>\n",
       "      <td>ZTF18aawceqv</td>\n",
       "      <td>516377973215015007</td>\n",
       "      <td>58270.377974</td>\n",
       "      <td>302.335815</td>\n",
       "      <td>34.731209</td>\n",
       "      <td>0.686181</td>\n",
       "    </tr>\n",
       "    <tr>\n",
       "      <th>4</th>\n",
       "      <td>ZTF18aawceqv</td>\n",
       "      <td>516434764515015021</td>\n",
       "      <td>58270.434768</td>\n",
       "      <td>302.335813</td>\n",
       "      <td>34.731214</td>\n",
       "      <td>0.686181</td>\n",
       "    </tr>\n",
       "    <tr>\n",
       "      <th>...</th>\n",
       "      <td>...</td>\n",
       "      <td>...</td>\n",
       "      <td>...</td>\n",
       "      <td>...</td>\n",
       "      <td>...</td>\n",
       "      <td>...</td>\n",
       "    </tr>\n",
       "    <tr>\n",
       "      <th>17265</th>\n",
       "      <td>ZTF20aarbpjv</td>\n",
       "      <td>1151110874715015000</td>\n",
       "      <td>58905.110880</td>\n",
       "      <td>30.868254</td>\n",
       "      <td>5.255209</td>\n",
       "      <td>1.000000</td>\n",
       "    </tr>\n",
       "    <tr>\n",
       "      <th>17266</th>\n",
       "      <td>ZTF20aarbple</td>\n",
       "      <td>1151111784015015003</td>\n",
       "      <td>58905.111782</td>\n",
       "      <td>29.698298</td>\n",
       "      <td>20.444825</td>\n",
       "      <td>1.000000</td>\n",
       "    </tr>\n",
       "    <tr>\n",
       "      <th>17267</th>\n",
       "      <td>ZTF20aarbpli</td>\n",
       "      <td>1151111783215015001</td>\n",
       "      <td>58905.111782</td>\n",
       "      <td>33.721698</td>\n",
       "      <td>20.553823</td>\n",
       "      <td>1.000000</td>\n",
       "    </tr>\n",
       "    <tr>\n",
       "      <th>17268</th>\n",
       "      <td>ZTF20aarbpmt</td>\n",
       "      <td>1151111784315015004</td>\n",
       "      <td>58905.111782</td>\n",
       "      <td>29.737316</td>\n",
       "      <td>19.527889</td>\n",
       "      <td>1.000000</td>\n",
       "    </tr>\n",
       "    <tr>\n",
       "      <th>17269</th>\n",
       "      <td>ZTF20aarborn</td>\n",
       "      <td>1151109070715015004</td>\n",
       "      <td>58905.109074</td>\n",
       "      <td>52.260745</td>\n",
       "      <td>-6.262472</td>\n",
       "      <td>0.572180</td>\n",
       "    </tr>\n",
       "  </tbody>\n",
       "</table>\n",
       "<p>5697962 rows × 6 columns</p>\n",
       "</div>"
      ],
      "text/plain": [
       "           objectid          candidateid           mjd          ra        dec  \\\n",
       "0      ZTF18aahbsho   518255634615010004  58272.255637  247.480690  34.027481   \n",
       "1      ZTF18aaxpmnp   517454781815010004  58271.454780  308.738474  32.164302   \n",
       "2      ZTF18aaxjdey   517457175915015004  58271.457176  299.974765  28.940493   \n",
       "3      ZTF18aawceqv   516377973215015007  58270.377974  302.335815  34.731209   \n",
       "4      ZTF18aawceqv   516434764515015021  58270.434768  302.335813  34.731214   \n",
       "...             ...                  ...           ...         ...        ...   \n",
       "17265  ZTF20aarbpjv  1151110874715015000  58905.110880   30.868254   5.255209   \n",
       "17266  ZTF20aarbple  1151111784015015003  58905.111782   29.698298  20.444825   \n",
       "17267  ZTF20aarbpli  1151111783215015001  58905.111782   33.721698  20.553823   \n",
       "17268  ZTF20aarbpmt  1151111784315015004  58905.111782   29.737316  19.527889   \n",
       "17269  ZTF20aarborn  1151109070715015004  58905.109074   52.260745  -6.262472   \n",
       "\n",
       "       asteroid_prob  \n",
       "0           0.998269  \n",
       "1           0.935730  \n",
       "2           0.915364  \n",
       "3           0.686181  \n",
       "4           0.686181  \n",
       "...              ...  \n",
       "17265       1.000000  \n",
       "17266       1.000000  \n",
       "17267       1.000000  \n",
       "17268       1.000000  \n",
       "17269       0.572180  \n",
       "\n",
       "[5697962 rows x 6 columns]"
      ]
     },
     "execution_count": 3,
     "metadata": {},
     "output_type": "execute_result"
    }
   ],
   "source": [
    "# Combine frames into one DataFrame\n",
    "df = pd.concat([df_2018, df_2019, df_2020])\n",
    "df"
   ]
  },
  {
   "cell_type": "code",
   "execution_count": null,
   "metadata": {},
   "outputs": [],
   "source": [
    "# Extract mjd, ra, and dec as vectors of astropy angles\n",
    "mjd_ztf = df.mjd.values\n",
    "ra_ztf = df.ra.values * deg\n",
    "dec_ztf = df.dec.values * deg"
   ]
  },
  {
   "cell_type": "code",
   "execution_count": null,
   "metadata": {},
   "outputs": [],
   "source": [
    "# Summarize number data availability by days\n",
    "mjds_distinct = sorted(set(np.int32(mjd_ztf)))\n",
    "dates_distinct = [mjd_to_date(int(mjd)) for mjd in mjds_distinct]\n",
    "\n",
    "# Count number of days in each calendar month\n",
    "months = Counter()\n",
    "for dt in dates_distinct:\n",
    "    months[(dt.year, dt.month)] += 1\n",
    "months"
   ]
  },
  {
   "cell_type": "code",
   "execution_count": null,
   "metadata": {},
   "outputs": [],
   "source": [
    "# Add the direction to the combined Alerce DataFrame using radec2dir()\n",
    "u_ztf = radec2dir(ra=ra_ztf, dec=dec_ztf, obstime_mjd=mjd_ztf)"
   ]
  },
  {
   "cell_type": "code",
   "execution_count": null,
   "metadata": {},
   "outputs": [],
   "source": [
    "u_ztf.shape"
   ]
  },
  {
   "cell_type": "code",
   "execution_count": null,
   "metadata": {},
   "outputs": [],
   "source": [
    "# Add these directions to the DataFrame\n",
    "df.insert(loc=5, column='ux', value=0.0)\n",
    "df.insert(loc=6, column='uy', value=0.0)\n",
    "df.insert(loc=7, column='uz', value=0.0)\n",
    "df"
   ]
  },
  {
   "cell_type": "code",
   "execution_count": null,
   "metadata": {},
   "outputs": [],
   "source": [
    "# Save computed directions to DataFrame\n",
    "df.ux = u_ztf[0]\n",
    "df.uy = u_ztf[1]\n",
    "df.uz = u_ztf[2]"
   ]
  },
  {
   "cell_type": "code",
   "execution_count": null,
   "metadata": {},
   "outputs": [],
   "source": [
    "file_name='../data/ztf/ztf-detections.h5'\n",
    "df.to_hdf(file_name, key='df', mode='w')"
   ]
  },
  {
   "cell_type": "code",
   "execution_count": null,
   "metadata": {},
   "outputs": [],
   "source": [
    "df.columns"
   ]
  },
  {
   "cell_type": "code",
   "execution_count": null,
   "metadata": {},
   "outputs": [],
   "source": [
    "df.columns.find"
   ]
  },
  {
   "cell_type": "code",
   "execution_count": null,
   "metadata": {},
   "outputs": [],
   "source": [
    "df.columns.get_loc('dec')"
   ]
  },
  {
   "cell_type": "code",
   "execution_count": 4,
   "metadata": {},
   "outputs": [
    {
     "name": "stderr",
     "output_type": "stream",
     "text": [
      "/home/michael/anaconda3/envs/kepler/lib/python3.7/site-packages/pandas/core/generic.py:2505: PerformanceWarning: \n",
      "your performance may suffer as PyTables will pickle object types that it cannot\n",
      "map directly to c-types [inferred_type->mixed-integer,key->block1_values] [items->Index(['objectid', 'candidateid'], dtype='object')]\n",
      "\n",
      "  encoding=encoding,\n"
     ]
    }
   ],
   "source": [
    "ztf_det_add_dir(df=df, file_name='ztf-detections.h5', dir_name='../data/ztf')"
   ]
  },
  {
   "cell_type": "code",
   "execution_count": null,
   "metadata": {},
   "outputs": [],
   "source": []
  }
 ],
 "metadata": {
  "kernelspec": {
   "display_name": "Python [conda env:kepler]",
   "language": "python",
   "name": "conda-env-kepler-py"
  },
  "language_info": {
   "codemirror_mode": {
    "name": "ipython",
    "version": 3
   },
   "file_extension": ".py",
   "mimetype": "text/x-python",
   "name": "python",
   "nbconvert_exporter": "python",
   "pygments_lexer": "ipython3",
   "version": "3.7.6"
  }
 },
 "nbformat": 4,
 "nbformat_minor": 4
}
