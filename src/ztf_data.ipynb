{
 "cells": [
  {
   "cell_type": "markdown",
   "metadata": {},
   "source": [
    "### Load Detections from Alerce ZTF2 Database"
   ]
  },
  {
   "cell_type": "code",
   "execution_count": 75,
   "metadata": {},
   "outputs": [],
   "source": [
    "import pandas as pd\n",
    "import numpy as np\n",
    "from astropy.time import Time\n",
    "from astropy.units import deg\n",
    "import os\n",
    "from datetime import date\n",
    "import time\n",
    "from collections import Counter\n",
    "from tqdm.auto import tqdm\n",
    "import matplotlib.pyplot as plt\n",
    "import matplotlib as mpl\n",
    "\n",
    "# Libraries for getting Alerce data out of ZTF2 database\n",
    "import json\n",
    "import psycopg2\n",
    "from alerce.api import AlerceAPI\n",
    "\n",
    "# MSE imports\n",
    "from utils import range_inc\n",
    "from astro_utils import date_to_mjd, mjd_to_date\n",
    "from ztf_data import load_ztf_det, load_ztf_det_year, ztf_det_add_dir\n",
    "from ra_dec import radec2dir, radec_diff, direction_diff"
   ]
  },
  {
   "cell_type": "code",
   "execution_count": 76,
   "metadata": {},
   "outputs": [],
   "source": [
    "# Set plot style variables\n",
    "mpl.rcParams['figure.figsize'] = [16.0, 10.0]\n",
    "mpl.rcParams['font.size'] = 16"
   ]
  },
  {
   "cell_type": "code",
   "execution_count": 2,
   "metadata": {},
   "outputs": [
    {
     "name": "stdout",
     "output_type": "stream",
     "text": [
      "Loaded ../data/ztf/ztf-detections-2018.h5 from disk.\n",
      "Loaded ../data/ztf/ztf-detections-2019.h5 from disk.\n",
      "Loaded ../data/ztf/ztf-detections-2020.h5 from disk.\n"
     ]
    }
   ],
   "source": [
    "# Load 2018 and 2019 data\n",
    "df_2018 = load_ztf_det_year(2018)\n",
    "df_2019 = load_ztf_det_year(2019)\n",
    "df_2020 = load_ztf_det_year(2020)"
   ]
  },
  {
   "cell_type": "code",
   "execution_count": 3,
   "metadata": {},
   "outputs": [
    {
     "data": {
      "text/html": [
       "<div>\n",
       "<style scoped>\n",
       "    .dataframe tbody tr th:only-of-type {\n",
       "        vertical-align: middle;\n",
       "    }\n",
       "\n",
       "    .dataframe tbody tr th {\n",
       "        vertical-align: top;\n",
       "    }\n",
       "\n",
       "    .dataframe thead th {\n",
       "        text-align: right;\n",
       "    }\n",
       "</style>\n",
       "<table border=\"1\" class=\"dataframe\">\n",
       "  <thead>\n",
       "    <tr style=\"text-align: right;\">\n",
       "      <th></th>\n",
       "      <th>ObjectID</th>\n",
       "      <th>CandidateID</th>\n",
       "      <th>mjd</th>\n",
       "      <th>ra</th>\n",
       "      <th>dec</th>\n",
       "      <th>asteroid_prob</th>\n",
       "    </tr>\n",
       "  </thead>\n",
       "  <tbody>\n",
       "    <tr>\n",
       "      <th>0</th>\n",
       "      <td>b'ZTF18aahbsho'</td>\n",
       "      <td>518255634615010004</td>\n",
       "      <td>58272.255637</td>\n",
       "      <td>247.480690</td>\n",
       "      <td>34.027481</td>\n",
       "      <td>0.998269</td>\n",
       "    </tr>\n",
       "    <tr>\n",
       "      <th>1</th>\n",
       "      <td>b'ZTF18aaxpmnp'</td>\n",
       "      <td>517454781815010004</td>\n",
       "      <td>58271.454780</td>\n",
       "      <td>308.738474</td>\n",
       "      <td>32.164302</td>\n",
       "      <td>0.935730</td>\n",
       "    </tr>\n",
       "    <tr>\n",
       "      <th>2</th>\n",
       "      <td>b'ZTF18aaxjdey'</td>\n",
       "      <td>517457175915015004</td>\n",
       "      <td>58271.457176</td>\n",
       "      <td>299.974765</td>\n",
       "      <td>28.940493</td>\n",
       "      <td>0.915364</td>\n",
       "    </tr>\n",
       "    <tr>\n",
       "      <th>3</th>\n",
       "      <td>b'ZTF18aawceqv'</td>\n",
       "      <td>516377973215015007</td>\n",
       "      <td>58270.377974</td>\n",
       "      <td>302.335815</td>\n",
       "      <td>34.731209</td>\n",
       "      <td>0.686181</td>\n",
       "    </tr>\n",
       "    <tr>\n",
       "      <th>4</th>\n",
       "      <td>b'ZTF18aawceqv'</td>\n",
       "      <td>516434764515015021</td>\n",
       "      <td>58270.434768</td>\n",
       "      <td>302.335813</td>\n",
       "      <td>34.731214</td>\n",
       "      <td>0.686181</td>\n",
       "    </tr>\n",
       "    <tr>\n",
       "      <th>...</th>\n",
       "      <td>...</td>\n",
       "      <td>...</td>\n",
       "      <td>...</td>\n",
       "      <td>...</td>\n",
       "      <td>...</td>\n",
       "      <td>...</td>\n",
       "    </tr>\n",
       "    <tr>\n",
       "      <th>17265</th>\n",
       "      <td>b'ZTF20aarbpjv'</td>\n",
       "      <td>1151110874715015000</td>\n",
       "      <td>58905.110880</td>\n",
       "      <td>30.868254</td>\n",
       "      <td>5.255209</td>\n",
       "      <td>1.000000</td>\n",
       "    </tr>\n",
       "    <tr>\n",
       "      <th>17266</th>\n",
       "      <td>b'ZTF20aarbple'</td>\n",
       "      <td>1151111784015015003</td>\n",
       "      <td>58905.111782</td>\n",
       "      <td>29.698298</td>\n",
       "      <td>20.444825</td>\n",
       "      <td>1.000000</td>\n",
       "    </tr>\n",
       "    <tr>\n",
       "      <th>17267</th>\n",
       "      <td>b'ZTF20aarbpli'</td>\n",
       "      <td>1151111783215015001</td>\n",
       "      <td>58905.111782</td>\n",
       "      <td>33.721698</td>\n",
       "      <td>20.553823</td>\n",
       "      <td>1.000000</td>\n",
       "    </tr>\n",
       "    <tr>\n",
       "      <th>17268</th>\n",
       "      <td>b'ZTF20aarbpmt'</td>\n",
       "      <td>1151111784315015004</td>\n",
       "      <td>58905.111782</td>\n",
       "      <td>29.737316</td>\n",
       "      <td>19.527889</td>\n",
       "      <td>1.000000</td>\n",
       "    </tr>\n",
       "    <tr>\n",
       "      <th>17269</th>\n",
       "      <td>b'ZTF20aarborn'</td>\n",
       "      <td>1151109070715015004</td>\n",
       "      <td>58905.109074</td>\n",
       "      <td>52.260745</td>\n",
       "      <td>-6.262472</td>\n",
       "      <td>0.572180</td>\n",
       "    </tr>\n",
       "  </tbody>\n",
       "</table>\n",
       "<p>5697962 rows × 6 columns</p>\n",
       "</div>"
      ],
      "text/plain": [
       "              ObjectID          CandidateID           mjd          ra  \\\n",
       "0      b'ZTF18aahbsho'   518255634615010004  58272.255637  247.480690   \n",
       "1      b'ZTF18aaxpmnp'   517454781815010004  58271.454780  308.738474   \n",
       "2      b'ZTF18aaxjdey'   517457175915015004  58271.457176  299.974765   \n",
       "3      b'ZTF18aawceqv'   516377973215015007  58270.377974  302.335815   \n",
       "4      b'ZTF18aawceqv'   516434764515015021  58270.434768  302.335813   \n",
       "...                ...                  ...           ...         ...   \n",
       "17265  b'ZTF20aarbpjv'  1151110874715015000  58905.110880   30.868254   \n",
       "17266  b'ZTF20aarbple'  1151111784015015003  58905.111782   29.698298   \n",
       "17267  b'ZTF20aarbpli'  1151111783215015001  58905.111782   33.721698   \n",
       "17268  b'ZTF20aarbpmt'  1151111784315015004  58905.111782   29.737316   \n",
       "17269  b'ZTF20aarborn'  1151109070715015004  58905.109074   52.260745   \n",
       "\n",
       "             dec  asteroid_prob  \n",
       "0      34.027481       0.998269  \n",
       "1      32.164302       0.935730  \n",
       "2      28.940493       0.915364  \n",
       "3      34.731209       0.686181  \n",
       "4      34.731214       0.686181  \n",
       "...          ...            ...  \n",
       "17265   5.255209       1.000000  \n",
       "17266  20.444825       1.000000  \n",
       "17267  20.553823       1.000000  \n",
       "17268  19.527889       1.000000  \n",
       "17269  -6.262472       0.572180  \n",
       "\n",
       "[5697962 rows x 6 columns]"
      ]
     },
     "execution_count": 3,
     "metadata": {},
     "output_type": "execute_result"
    }
   ],
   "source": [
    "# Combine frames into one DataFrame\n",
    "df = pd.concat([df_2018, df_2019, df_2020])\n",
    "df"
   ]
  },
  {
   "cell_type": "code",
   "execution_count": 4,
   "metadata": {},
   "outputs": [
    {
     "data": {
      "text/plain": [
       "ObjectID            |S12\n",
       "CandidateID        int64\n",
       "mjd              float64\n",
       "ra               float64\n",
       "dec              float64\n",
       "asteroid_prob    float64\n",
       "dtype: object"
      ]
     },
     "execution_count": 4,
     "metadata": {},
     "output_type": "execute_result"
    }
   ],
   "source": [
    "df.dtypes"
   ]
  },
  {
   "cell_type": "code",
   "execution_count": 42,
   "metadata": {},
   "outputs": [],
   "source": [
    "# Extract the year-month tuple for each observation for summarizing\n",
    "tt = Time(df.mjd, format='mjd')\n",
    "isotimes = tt.iso\n",
    "ym = np.array([isotime[0:7] for isotime in isotimes])\n",
    "ym_ser = pd.Series(data=ym, index=df.index)"
   ]
  },
  {
   "cell_type": "code",
   "execution_count": 73,
   "metadata": {},
   "outputs": [
    {
     "data": {
      "text/plain": [
       "2018-06     11857\n",
       "2018-07     20247\n",
       "2018-08     29679\n",
       "2018-09     44454\n",
       "2018-10      1883\n",
       "2018-11     27826\n",
       "2018-12     13600\n",
       "2019-01     13909\n",
       "2019-02      3830\n",
       "2019-03      4583\n",
       "2019-04     12679\n",
       "2019-05     14132\n",
       "2019-06     32448\n",
       "2019-07    276228\n",
       "2019-08    847913\n",
       "2019-09    658618\n",
       "2019-10    831872\n",
       "2019-11    789536\n",
       "2019-12    355139\n",
       "2020-01    961771\n",
       "2020-02    745758\n",
       "dtype: int64"
      ]
     },
     "execution_count": 73,
     "metadata": {},
     "output_type": "execute_result"
    }
   ],
   "source": [
    "obs_monthly = df.groupby(ym_ser)\n",
    "obs_monthly_count = obs_monthly.size()\n",
    "obs_monthly_count"
   ]
  },
  {
   "cell_type": "code",
   "execution_count": 80,
   "metadata": {},
   "outputs": [
    {
     "data": {
      "text/plain": [
       "array(['2018-06', '2018-07', '2018-08', '2018-09', '2018-10', '2018-11',\n",
       "       '2018-12', '2019-01', '2019-02', '2019-03', '2019-04', '2019-05',\n",
       "       '2019-06', '2019-07', '2019-08', '2019-09', '2019-10', '2019-11',\n",
       "       '2019-12', '2020-01', '2020-02'], dtype=object)"
      ]
     },
     "execution_count": 80,
     "metadata": {},
     "output_type": "execute_result"
    }
   ],
   "source": [
    "obs_monthly_count.index.values"
   ]
  },
  {
   "cell_type": "code",
   "execution_count": 102,
   "metadata": {},
   "outputs": [
    {
     "data": {
      "text/plain": [
       "'2018-11'"
      ]
     },
     "execution_count": 102,
     "metadata": {},
     "output_type": "execute_result"
    }
   ],
   "source": [
    "x = month_strs[5]\n",
    "x\n",
    "# date(int(x[0:4]), int(x[5:7]), 1)"
   ]
  },
  {
   "cell_type": "code",
   "execution_count": 104,
   "metadata": {},
   "outputs": [
    {
     "data": {
      "text/plain": [
       "[datetime.date(2018, 6, 1),\n",
       " datetime.date(2018, 7, 1),\n",
       " datetime.date(2018, 8, 1),\n",
       " datetime.date(2018, 9, 1),\n",
       " datetime.date(2018, 10, 1),\n",
       " datetime.date(2018, 11, 1),\n",
       " datetime.date(2018, 12, 1),\n",
       " datetime.date(2019, 1, 1),\n",
       " datetime.date(2019, 2, 1),\n",
       " datetime.date(2019, 3, 1),\n",
       " datetime.date(2019, 4, 1),\n",
       " datetime.date(2019, 5, 1),\n",
       " datetime.date(2019, 6, 1),\n",
       " datetime.date(2019, 7, 1),\n",
       " datetime.date(2019, 8, 1),\n",
       " datetime.date(2019, 9, 1),\n",
       " datetime.date(2019, 10, 1),\n",
       " datetime.date(2019, 11, 1),\n",
       " datetime.date(2019, 12, 1),\n",
       " datetime.date(2020, 1, 1),\n",
       " datetime.date(2020, 2, 1)]"
      ]
     },
     "execution_count": 104,
     "metadata": {},
     "output_type": "execute_result"
    }
   ],
   "source": [
    "month_strs = obs_monthly_count.index.values\n",
    "x_dates = [date(int(x[0:4]), int(x[5:7]), 1) for x in month_strs]\n",
    "x_dates"
   ]
  },
  {
   "cell_type": "code",
   "execution_count": 120,
   "metadata": {},
   "outputs": [
    {
     "data": {
      "image/png": "[encoded data removed]",
      "text/plain": [
       "<Figure size 1152x720 with 1 Axes>"
      ]
     },
     "metadata": {
      "needs_background": "light"
     },
     "output_type": "display_data"
    }
   ],
   "source": [
    "# Calculations for plot\n",
    "month_strs = obs_monthly_count.index.values\n",
    "x_values = np.arange(obs_monthly_count.size)\n",
    "x_dates = [date(int(x[0:4]), int(x[5:7]), 1) for x in month_strs]\n",
    "y_values = obs_monthly_count.values\n",
    "\n",
    "# Plot the number of observations by month\n",
    "fig, ax = plt.subplots()\n",
    "ax.set_title('Alerce Asteroid Observations by Month')\n",
    "ax.set_xlabel('Month')\n",
    "ax.set_ylabel('Asteroid Observations')\n",
    "# ax.bar(x=x_values, height=y_values, tick_label=month_strs, color='blue')\n",
    "ax.bar(x=x_values, height=y_values, color='blue')\n",
    "ax.set_xticks(x_values[::3])\n",
    "ax.set_xticks(x_values, minor=True)\n",
    "ax.set_xticklabels(month_strs[::3], minor=False)\n",
    "# ax.legend()\n",
    "ax.grid()\n",
    "# fig.savefig('alerce_ast_per_month.png', bbox_inches='tight')\n",
    "plt.show()"
   ]
  },
  {
   "cell_type": "code",
   "execution_count": null,
   "metadata": {},
   "outputs": [],
   "source": []
  },
  {
   "cell_type": "code",
   "execution_count": 121,
   "metadata": {},
   "outputs": [],
   "source": [
    "# Extract mjd, ra, and dec as vectors of astropy angles\n",
    "mjd = df.mjd.values\n",
    "ra = df.ra.values * deg\n",
    "dec = df.dec.values * deg"
   ]
  },
  {
   "cell_type": "code",
   "execution_count": 123,
   "metadata": {},
   "outputs": [],
   "source": [
    "# Add the direction to the combined Alerce DataFrame using radec2dir()\n",
    "u = radec2dir(ra=ra, dec=dec, obstime_mjd=mjd)"
   ]
  },
  {
   "cell_type": "code",
   "execution_count": 124,
   "metadata": {},
   "outputs": [
    {
     "data": {
      "text/plain": [
       "(3, 5697962)"
      ]
     },
     "execution_count": 124,
     "metadata": {},
     "output_type": "execute_result"
    }
   ],
   "source": [
    "u.shape"
   ]
  },
  {
   "cell_type": "code",
   "execution_count": null,
   "metadata": {},
   "outputs": [],
   "source": [
    "# Add these directions to the DataFrame\n",
    "df.insert(loc=5, column='ux', value=0.0)\n",
    "df.insert(loc=6, column='uy', value=0.0)\n",
    "df.insert(loc=7, column='uz', value=0.0)\n",
    "df"
   ]
  },
  {
   "cell_type": "code",
   "execution_count": null,
   "metadata": {},
   "outputs": [],
   "source": [
    "# Save computed directions to DataFrame\n",
    "df.ux = u_ztf[0]\n",
    "df.uy = u_ztf[1]\n",
    "df.uz = u_ztf[2]"
   ]
  },
  {
   "cell_type": "code",
   "execution_count": null,
   "metadata": {},
   "outputs": [],
   "source": [
    "file_name='../data/ztf/ztf-detections.h5'\n",
    "df.to_hdf(file_name, key='df', mode='w')"
   ]
  },
  {
   "cell_type": "code",
   "execution_count": null,
   "metadata": {},
   "outputs": [],
   "source": [
    "ztf_det_add_dir(df=df, file_name='ztf-detections.h5', dir_name='../data/ztf')"
   ]
  },
  {
   "cell_type": "code",
   "execution_count": null,
   "metadata": {},
   "outputs": [],
   "source": [
    "df = pd.read_hdf('../data/ztf/ztf-detections.h5')"
   ]
  },
  {
   "cell_type": "code",
   "execution_count": null,
   "metadata": {},
   "outputs": [],
   "source": [
    "df.dtypes"
   ]
  },
  {
   "cell_type": "code",
   "execution_count": null,
   "metadata": {},
   "outputs": [],
   "source": []
  }
 ],
 "metadata": {
  "kernelspec": {
   "display_name": "Python [conda env:kepler]",
   "language": "python",
   "name": "conda-env-kepler-py"
  },
  "language_info": {
   "codemirror_mode": {
    "name": "ipython",
    "version": 3
   },
   "file_extension": ".py",
   "mimetype": "text/x-python",
   "name": "python",
   "nbconvert_exporter": "python",
   "pygments_lexer": "ipython3",
   "version": "3.7.6"
  }
 },
 "nbformat": 4,
 "nbformat_minor": 4
}
