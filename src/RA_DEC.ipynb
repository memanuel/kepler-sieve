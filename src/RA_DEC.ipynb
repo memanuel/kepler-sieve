{
 "cells": [
  {
   "cell_type": "code",
   "execution_count": null,
   "metadata": {},
   "outputs": [],
   "source": [
    "import numpy as np\n",
    "import pandas as pd\n",
    "import skyfield\n",
    "from skyfield.api import Loader\n",
    "skyfield_load = Loader('../data/skyfield')\n",
    "from skyfield.positionlib import ICRF, Barycentric\n",
    "from skyfield.toposlib import Topos\n",
    "import astropy\n",
    "from astropy.units import deg, au, km, meter, day, minute, second\n",
    "from astropy.coordinates import SkyCoord, ICRS, GCRS, BarycentricMeanEcliptic, HeliocentricMeanEcliptic, EarthLocation\n",
    "from scipy.interpolate import CubicSpline\n",
    "import os\n",
    "import matplotlib.pyplot as plt\n",
    "\n",
    "# MSE imports\n",
    "import astro_utils\n",
    "from astro_utils import jd_to_mjd, mjd_to_jd\n",
    "from ra_dec import radec2dir, dir2radec, site2geoloc, qv2dir, direction_diff, radec_diff, skyfield_observe\n",
    "from ra_dec import load_pos_jpl, load_ast_jpl, load_obs_jpl, load_obs_ast_jpl\n",
    "from ra_dec import obs_add_interp_qv, obs_ast_add_interp_qv, obs_add_calc_dir, obs_add_radec, obs_direction_diff\n",
    "import asteroid_integrate\n",
    "from asteroid_data import make_data_one_file, get_earth_pos\n",
    "from utils import range_inc"
   ]
  },
  {
   "cell_type": "markdown",
   "metadata": {},
   "source": [
    "### Observation of Earth and Mars according to JPL"
   ]
  },
  {
   "cell_type": "code",
   "execution_count": null,
   "metadata": {},
   "outputs": [],
   "source": [
    "# Data directories\n",
    "dir_name = '../data/jpl/testing/hourly'\n",
    "dir_name_daily = '../data/jpl/testing/daily'\n",
    "\n",
    "# Build DataFrame for earth and mars position at 3 hour frequency\n",
    "df_earth = load_pos_jpl(body_name='earth', dir_name=dir_name)\n",
    "df_mars = load_pos_jpl(body_name='mars', dir_name=dir_name)\n",
    "\n",
    "# Earth at daily frequency\n",
    "df_earth_daily = load_pos_jpl(body_name='earth', dir_name=dir_name_daily)\n",
    "# df_mars_daily = load_pos_jpl(body_name='mars', dir_name=dir_name_daily)"
   ]
  },
  {
   "cell_type": "code",
   "execution_count": null,
   "metadata": {},
   "outputs": [],
   "source": [
    "# Display the earth dataframe\n",
    "df_earth"
   ]
  },
  {
   "cell_type": "code",
   "execution_count": null,
   "metadata": {},
   "outputs": [],
   "source": [
    "# Display the mars dataframe\n",
    "# df_mars"
   ]
  },
  {
   "cell_type": "code",
   "execution_count": null,
   "metadata": {},
   "outputs": [],
   "source": [
    "# Load the JPL observations of Mars\n",
    "df_obs_mars_geo = load_obs_jpl(body_name='mars', observer_name='geocenter', dir_name=dir_name)\n",
    "df_obs_mars_pal = load_obs_jpl(body_name='mars', observer_name='palomar', dir_name=dir_name)\n",
    "\n",
    "# Display the dataframe\n",
    "df_obs_mars_geo"
   ]
  },
  {
   "cell_type": "code",
   "execution_count": null,
   "metadata": {},
   "outputs": [],
   "source": [
    "# Extract position and velocity of earth from df_earth\n",
    "q_earth_jpl = np.array([df_earth.X.values, df_earth.Y.values, df_earth.Z.values]) * au\n",
    "v_earth_jpl = np.array([df_earth.VX.values, df_earth.VY.values, df_earth.VZ.values]) * au / day\n",
    "\n",
    "# Extract position of mars from df_mars\n",
    "q_mars_jpl = np.array([df_mars.X.values, df_mars.Y.values, df_mars.Z.values]) * au\n",
    "v_mars_jpl = np.array([df_mars.VX.values, df_mars.VY.values, df_mars.VZ.values]) * au / day\n",
    "\n",
    "# Extract obstime_jd, ra, and dec from DataFrame with geocentric observations\n",
    "obstime_mars_geo_jd = df_obs_mars_geo.JulianDate.values\n",
    "# ra_mars_geo_jpl = df_obs_mars_geo.RA.values * deg\n",
    "# dec_mars_geo_jpl = df_obs_mars_geo.DEC.values * deg\n",
    "\n",
    "# Observation times for palomar observations\n",
    "obstime_mars_pal_jd = df_obs_mars_pal.JulianDate.values\n",
    "\n",
    "# Vector of observation times in MJD format\n",
    "obstime_mars_geo_mjd = jd_to_mjd(obstime_mars_geo_jd)\n",
    "obstime_mars_pal_mjd = jd_to_mjd(obstime_mars_pal_jd)\n",
    "\n",
    "# Alias to obstime_mars_mjd because they are the same\n",
    "obstime_mars_jd = obstime_mars_geo_jd\n",
    "obstime_mars_mjd = obstime_mars_geo_mjd"
   ]
  },
  {
   "cell_type": "markdown",
   "metadata": {},
   "source": [
    "### Position & Observation of Earth and Mars according to Skyfield"
   ]
  },
  {
   "cell_type": "code",
   "execution_count": null,
   "metadata": {},
   "outputs": [],
   "source": [
    "# Manually load planetary positions using de435\n",
    "# planets_sf = skyfield_load('../data/jpl/ephemeris/de435.bsp')\n",
    "planets_sf = skyfield_load('de435.bsp')\n",
    "earth_sf = planets_sf['earth']\n",
    "mars_sf = planets_sf['mars barycenter']\n",
    "\n",
    "# load timescale\n",
    "ts_sf = skyfield_load.timescale()\n",
    "\n",
    "# Generate vector of observation times in Skyfield format\n",
    "obstime_mars_sf = ts_sf.tt_jd(obstime_mars_jd)"
   ]
  },
  {
   "cell_type": "code",
   "execution_count": null,
   "metadata": {},
   "outputs": [],
   "source": [
    "# Observe mars from earth geocenter with Skyfield\n",
    "ra_mars_geo_sf, dec_mars_geo_sf, delta_mars_geo_sf = \\\n",
    "    skyfield_observe(observer_sf=earth_sf, body_sf=mars_sf, obstime_sf=obstime_mars_sf)"
   ]
  },
  {
   "cell_type": "code",
   "execution_count": null,
   "metadata": {},
   "outputs": [],
   "source": [
    "# location of palomar as a Skyfield topos object\n",
    "geoloc_pal = site2geoloc('palomar', verbose=True)\n",
    "lon, lat, height = geoloc_pal.geodetic\n",
    "palomar_topos = skyfield.toposlib.Topos(latitude_degrees=lat.value, longitude_degrees=lon.value, elevation_m=height.value)\n",
    "palomar_topos"
   ]
  },
  {
   "cell_type": "code",
   "execution_count": null,
   "metadata": {},
   "outputs": [],
   "source": [
    "# Observe mars from palomar with Skyfield\n",
    "palomar_sf = earth_sf + palomar_topos\n",
    "ra_mars_pal_sf, dec_mars_pal_sf, delta_mars_pal_sf = \\\n",
    "    skyfield_observe(observer_sf=palomar_sf, body_sf=mars_sf, obstime_sf=obstime_mars_sf)"
   ]
  },
  {
   "cell_type": "code",
   "execution_count": null,
   "metadata": {},
   "outputs": [],
   "source": [
    "# Load planetary positions and velocities by querying the Skyfield JPL ephemeris interface\n",
    "# Create them as arrays with bundled astropy units of au and km / second\n",
    "\n",
    "# Earth\n",
    "q_earth_sf = earth_sf.at(obstime_mars_sf).ecliptic_position().au * au\n",
    "v_earth_sf = earth_sf.at(obstime_mars_sf).ecliptic_velocity().km_per_s * km / second\n",
    "\n",
    "# Palomar\n",
    "q_palomar_sf = palomar_sf.at(obstime_mars_sf).ecliptic_position().au * au\n",
    "v_palomar_sf = palomar_sf.at(obstime_mars_sf).ecliptic_velocity().km_per_s * km / second\n",
    "\n",
    "# Mars\n",
    "q_mars_sf = mars_sf.at(obstime_mars_sf).ecliptic_position().au * au\n",
    "v_mars_sf = mars_sf.at(obstime_mars_sf).ecliptic_velocity().km_per_s * km / second"
   ]
  },
  {
   "cell_type": "code",
   "execution_count": null,
   "metadata": {},
   "outputs": [],
   "source": [
    "# Demonstrate that q_earth_sf is the same as q_earth_jpl\n",
    "q_earth_eps = np.mean(np.linalg.norm(q_earth_sf - q_earth_jpl, axis=0))\n",
    "v_earth_eps = np.mean(np.linalg.norm(v_earth_sf - v_earth_jpl, axis=0))\n",
    "q_mars_eps = np.mean(np.linalg.norm(q_mars_sf - q_mars_jpl, axis=0))\n",
    "v_mars_eps = np.mean(np.linalg.norm(v_mars_sf - v_mars_jpl, axis=0))\n",
    "\n",
    "# Report\n",
    "print('Difference between Skyfield (JPL ephem) and Horizons download:')\n",
    "print(f'q_earth : {q_earth_eps:5.3e} au')\n",
    "print(f'v_earth : {v_earth_eps:5.3e} au / day')\n",
    "print(f'q_mars  : {q_mars_eps:5.3e} au')\n",
    "print(f'v_mars  : {v_mars_eps:5.3e} au / day')"
   ]
  },
  {
   "cell_type": "markdown",
   "metadata": {},
   "source": [
    "**Conclusion**<br>\n",
    "Skyfield is essentially identical to JPL in coordinates of Earth and Mars.\n",
    "Difference is on the order of $10^{-9}$ AU.<br>"
   ]
  },
  {
   "cell_type": "markdown",
   "metadata": {},
   "source": [
    "### Compare Skyfield vs JPL on RA/DEC of Mars"
   ]
  },
  {
   "cell_type": "code",
   "execution_count": null,
   "metadata": {},
   "outputs": [],
   "source": [
    "# Convert SkyField RA/DEC to directions\n",
    "# u_mars_geo_sf = radec2dir(ra=ra_mars_geo_sf, dec=dec_mars_geo_sf, obstime_mjd=obstime_mars_mjd)\n",
    "# u_mars_pal_sf = radec2dir(ra=ra_mars_pal_sf, dec=dec_mars_pal_sf, obstime_mjd=obstime_mars_mjd)"
   ]
  },
  {
   "cell_type": "code",
   "execution_count": null,
   "metadata": {},
   "outputs": [],
   "source": [
    "# Add RA/DEC and direction from Skyfield to mars observation frames\n",
    "obs_add_radec(df_obs=df_obs_mars_geo, ra=ra_mars_geo_sf, dec=dec_mars_geo_sf, source='sf')\n",
    "obs_add_radec(df_obs=df_obs_mars_pal, ra=ra_mars_pal_sf, dec=dec_mars_pal_sf, source='sf')"
   ]
  },
  {
   "cell_type": "code",
   "execution_count": null,
   "metadata": {},
   "outputs": [],
   "source": [
    "# Report difference between JPL and Skyfield from geocenter\n",
    "print(f'Comparing direction of Mars from Geocenter: Skyfield vs. JPL')\n",
    "print(f'(1) Direction according to JPL: radec2dir applied to JPL RA/DEC')\n",
    "print(f'(2) Direction according to Skyfield: radec2dir applied to Skyfield RA/DEC (from observe)\\n')\n",
    "diff_geo_jpl_sf = obs_direction_diff(df_obs=df_obs_mars_geo, src1='jpl', src2='sf', verbose=True)"
   ]
  },
  {
   "cell_type": "code",
   "execution_count": null,
   "metadata": {},
   "outputs": [],
   "source": [
    "# Report difference between JPL and Skyfield from palomar\n",
    "print(f'Comparing direction of Mars from Palomar: Skyfield vs. JPL')\n",
    "print(f'(1) Direction according to JPL: radec2dir applied to JPL RA/DEC')\n",
    "print(f'(2) Direction according to Skyfield: radec2dir applied to Skyfield RA/DEC (from observe)\\n')\n",
    "diff_geo_pal_sf = obs_direction_diff(df_obs=df_obs_mars_pal, src1='jpl', src2='sf', verbose=True)"
   ]
  },
  {
   "cell_type": "code",
   "execution_count": null,
   "metadata": {},
   "outputs": [],
   "source": [
    "# Review observation frame with additional columns\n",
    "df_obs_mars_geo"
   ]
  },
  {
   "cell_type": "markdown",
   "metadata": {},
   "source": [
    "**Conclusion**<br>\n",
    "Skyfield is very close to JPL  on observation of Mars.<br>\n",
    "Mean difference is **1.60 arc seconds** from both Geocenter and Palomar.<br>\n",
    "The difference between Geocenter and Palomar is about 3.78 arc seconds on average for Mars.<br>\n",
    "Results appear to be consistent between Geocenter and Palomar."
   ]
  },
  {
   "cell_type": "markdown",
   "metadata": {},
   "source": [
    "### Estimate Importance of Including Observatory Location"
   ]
  },
  {
   "cell_type": "code",
   "execution_count": null,
   "metadata": {},
   "outputs": [],
   "source": [
    "# Difference between palomar and geocenter according to JPL\n",
    "radec_diff(name1='geocenter-JPL', name2='palomar-JPL', \n",
    "           ra1=df_obs_mars_geo.RA_jpl.values*deg, dec1=df_obs_mars_geo.DEC_jpl.values*deg,\n",
    "           ra2=df_obs_mars_pal.RA_jpl.values*deg, dec2=df_obs_mars_pal.DEC_jpl.values*deg,\n",
    "           obstime_mjd=df_obs_mars_geo.mjd.values, verbose=True)"
   ]
  },
  {
   "cell_type": "code",
   "execution_count": null,
   "metadata": {},
   "outputs": [],
   "source": [
    "# Difference between palomar and geocenter according to Skyfield\n",
    "radec_diff(name1='geocenter-Skyfield', name2='palomar-Skyfield', \n",
    "           ra1=df_obs_mars_geo.RA_sf.values*deg, dec1=df_obs_mars_geo.DEC_sf.values*deg,\n",
    "           ra2=df_obs_mars_pal.RA_sf.values*deg, dec2=df_obs_mars_pal.DEC_sf.values*deg,\n",
    "           obstime_mjd=df_obs_mars_geo.mjd.values, verbose=True)"
   ]
  },
  {
   "cell_type": "markdown",
   "metadata": {},
   "source": [
    "**Conclusion**<br>\n",
    "Ignoring the observatory location would introduce an error of about **3.8 arc seconds** for Mars.<br>\n",
    "This effect is important enough that we should certainly try to model it."
   ]
  },
  {
   "cell_type": "markdown",
   "metadata": {},
   "source": [
    "### Calculate Direction from Earth to Mars with qv2dir() and JPL Position / Velocity"
   ]
  },
  {
   "cell_type": "code",
   "execution_count": null,
   "metadata": {},
   "outputs": [],
   "source": [
    "# Add interpolated JPL Positions to observation DataFrames\n",
    "obs_add_interp_qv(df_obs=df_obs_mars_geo, df_body=df_mars, df_earth=df_earth, source_name='jpl')\n",
    "obs_add_interp_qv(df_obs=df_obs_mars_pal, df_body=df_mars, df_earth=df_earth, source_name='jpl')"
   ]
  },
  {
   "cell_type": "code",
   "execution_count": null,
   "metadata": {},
   "outputs": [],
   "source": [
    "# Display augmented df_obs_mars\n",
    "df_obs_mars_geo"
   ]
  },
  {
   "cell_type": "code",
   "execution_count": null,
   "metadata": {},
   "outputs": [],
   "source": [
    "# Build geolocation of theoretical observer at geocenter\n",
    "geoloc_geo = site2geoloc(site_name='geocenter', verbose=False)\n",
    "\n",
    "# Build geolocation of observer at Palomar\n",
    "geoloc_pal = site2geoloc(site_name='palomar', verbose=True)"
   ]
  },
  {
   "cell_type": "code",
   "execution_count": null,
   "metadata": {},
   "outputs": [],
   "source": [
    "# Compute the directions qv2dir() accounting for observer location; save them to the DataFrame of mars observations\n",
    "obs_add_calc_dir(df_obs=df_obs_mars_geo, site_name='geocenter', source_name='jpl')\n",
    "obs_add_calc_dir(df_obs=df_obs_mars_pal, site_name='palomar', source_name='jpl')"
   ]
  },
  {
   "cell_type": "code",
   "execution_count": null,
   "metadata": {},
   "outputs": [],
   "source": [
    "# Review added columns\n",
    "df_obs_mars_geo"
   ]
  },
  {
   "cell_type": "code",
   "execution_count": null,
   "metadata": {},
   "outputs": [],
   "source": [
    "# Review all the columns that are now on the observation DataFrame\n",
    "df_obs_mars_geo.columns"
   ]
  },
  {
   "cell_type": "markdown",
   "metadata": {},
   "source": [
    "### Direction from Geocenter to Mars: Compare JPL, Skyfield, and qv2dir(JPL position)"
   ]
  },
  {
   "cell_type": "code",
   "execution_count": null,
   "metadata": {},
   "outputs": [],
   "source": [
    "# Report difference for Mars from Geocenter between Skyfiled and MSE calculated\n",
    "print(f'Comparing direction of Mars from Geocenter: Skyfield vs. MSE calc from JPL positions:')\n",
    "print(f'(1) Direction according to Skyfield: radec2dir applied to Skyfield RA/DEC')\n",
    "print(f'(2) Direction according to MSE: qv2dir applied to JPL positions & velocities\\n')\n",
    "diff_geo_sf_calc_jpl = obs_direction_diff(df_obs=df_obs_mars_geo, src1='sf', src2='calc_jpl', verbose=True)"
   ]
  },
  {
   "cell_type": "code",
   "execution_count": null,
   "metadata": {},
   "outputs": [],
   "source": [
    "# Report difference for Mars from Geocenter between JPL and MSE calculated\n",
    "print(f'Comparing direction of Mars from Geocenter: JPL vs. MSE calc from JPL positions')\n",
    "print(f'(1) Direction according to JPL: radec2dir applied to JPL RA/DEC')\n",
    "print(f'(2) Direction according to MSE: qv2dir applied to JPL positions & velocities\\n')\n",
    "diff_geo_jpl_jpl_calc_jpl = obs_direction_diff(df_obs=df_obs_mars_geo, src1='jpl', src2='calc_jpl', verbose=True)"
   ]
  },
  {
   "cell_type": "markdown",
   "metadata": {},
   "source": [
    "**Conclusion**<br>\n",
    "My calculations are almost identical to Skyfield; accurate to **0.027 arc seconds**<br>\n",
    "Both Skyfield and I are off from JPL by **1.60 arc seconds**<br>"
   ]
  },
  {
   "cell_type": "markdown",
   "metadata": {},
   "source": [
    "### Direction from Palomar to Mars: Compare JPL, Skyfield, and qv2dir(JPL position)"
   ]
  },
  {
   "cell_type": "code",
   "execution_count": null,
   "metadata": {},
   "outputs": [],
   "source": [
    "# Calculate direction from palomar using JPL positions\n",
    "obs_add_calc_dir(df_obs=df_obs_mars_pal, site_name='palomar', source_name='jpl')"
   ]
  },
  {
   "cell_type": "code",
   "execution_count": null,
   "metadata": {},
   "outputs": [],
   "source": [
    "# Report difference for Mars from Palomar between Skyfield and MSE calculated\n",
    "print(f'Comparing direction of Mars from Palomar: Skyfield vs. MSE calc from JPL positions:')\n",
    "print(f'(1) Direction according to Skyfield: radec2dir applied to Skyfield RA/DEC')\n",
    "print(f'(2) Direction according to MSE: qv2dir applied to JPL positions & velocities\\n')\n",
    "diff_pal_sf_calc_jpl = obs_direction_diff(df_obs=df_obs_mars_pal, src1='sf', src2='calc_jpl', verbose=True)"
   ]
  },
  {
   "cell_type": "code",
   "execution_count": null,
   "metadata": {},
   "outputs": [],
   "source": [
    "# Report difference for Mars from Geocenter between JPL and MSE calculated\n",
    "print(f'Comparing direction of Mars from Geocenter: JPL vs. MSE calc from JPL positions')\n",
    "print(f'(1) Direction according to JPL: radec2dir applied to JPL RA/DEC')\n",
    "print(f'(2) Direction according to MSE: qv2dir applied to JPL positions & velocities\\n')\n",
    "diff_pal_jpl_calc_jpl = obs_direction_diff(df_obs=df_obs_mars_pal, src1='jpl', src2='calc_jpl', verbose=True)"
   ]
  },
  {
   "cell_type": "markdown",
   "metadata": {},
   "source": [
    "### Vectors of First 16 Asteroids from JPL"
   ]
  },
  {
   "cell_type": "code",
   "execution_count": null,
   "metadata": {},
   "outputs": [],
   "source": [
    "# Load the asteroid position and velocity from JPL\n",
    "df_ast = load_ast_jpl(ast_num0=1, ast_num1=16, dir_name=dir_name)\n",
    "df_ast_daily = load_ast_jpl(ast_num0=1, ast_num1=16, dir_name=dir_name_daily)"
   ]
  },
  {
   "cell_type": "code",
   "execution_count": null,
   "metadata": {},
   "outputs": [],
   "source": [
    "df_ast"
   ]
  },
  {
   "cell_type": "markdown",
   "metadata": {},
   "source": [
    "### Observations of First 16 Asteroids from JPL"
   ]
  },
  {
   "cell_type": "code",
   "execution_count": null,
   "metadata": {},
   "outputs": [],
   "source": [
    "# Load the asteroid observations from JPL\n",
    "df_obs = load_obs_ast_jpl(ast_num0=1, ast_num1=16, observer_name='palomar', dir_name=dir_name)\n",
    "df_obs_daily = load_obs_ast_jpl(ast_num0=1, ast_num1=16, observer_name='geocenter', dir_name=dir_name_daily)"
   ]
  },
  {
   "cell_type": "code",
   "execution_count": null,
   "metadata": {},
   "outputs": [],
   "source": [
    "df_obs"
   ]
  },
  {
   "cell_type": "markdown",
   "metadata": {},
   "source": [
    "### Calculate Asteroid Direction with qv2dir() and JPL Position / Velocity"
   ]
  },
  {
   "cell_type": "code",
   "execution_count": null,
   "metadata": {},
   "outputs": [],
   "source": [
    "# Add interpolated JPL position to asteroid observations\n",
    "obs_ast_add_interp_qv(df_obs=df_obs, df_ast=df_ast, df_earth=df_earth, source_name='jpl')"
   ]
  },
  {
   "cell_type": "code",
   "execution_count": null,
   "metadata": {},
   "outputs": [],
   "source": [
    "# Add computed directions from the JPL positions\n",
    "obs_add_calc_dir(df_obs=df_obs, site_name='palomar', source_name='jpl')"
   ]
  },
  {
   "cell_type": "code",
   "execution_count": null,
   "metadata": {},
   "outputs": [],
   "source": [
    "# Review asteroid observations with additional columns: interpolated positions & calculated RA/DEC, direction\n",
    "df_obs"
   ]
  },
  {
   "cell_type": "code",
   "execution_count": null,
   "metadata": {},
   "outputs": [],
   "source": [
    "# Report difference for between JPL and MSE calculated\n",
    "print(f'Comparing direction of Asteroids from Palomar: JPL vs. MSE calc from JPL positions')\n",
    "print(f'(1) Direction according to JPL: radec2dir applied to JPL RA/DEC')\n",
    "print(f'(2) Direction according to MSE: qv2dir applied to JPL positions & velocities\\n')\n",
    "diff_ast_jpl_calc_jpl = obs_direction_diff(df_obs=df_obs, src1='jpl', src2='calc_jpl', verbose=True)"
   ]
  },
  {
   "cell_type": "markdown",
   "metadata": {},
   "source": [
    "**Conclusion:<br>**\n",
    "qv2dir() is highly accurate in computing a right ascension and declination from position and velocity in the barycentric ecliptic plane.<br>\n",
    "Errors are on the order of **0.87 arc seconds**.<br>\n",
    "Differences with JPL are due to using a linear approximation to the adjustment of the space body's position due to light lag.  The JPL calculation is iteratively solving for the position of the body on its true orbit at the instant photons leaving it hit the earth at print time.  This simplified calculation is applying an adjustment of the form<br>\n",
    "```\n",
    "r = norm(q_body - q_earth)\n",
    "light_time = r / light_speed\n",
    "dq = v_body * light_time\n",
    "```"
   ]
  },
  {
   "cell_type": "code",
   "execution_count": null,
   "metadata": {},
   "outputs": [],
   "source": [
    "# Check that round trip between RA/DEC and direction is accurate\n",
    "\n",
    "# extract u_jpl from df_obs\n",
    "u_jpl = df_obs[['ux_jpl', 'uy_jpl', 'uz_jpl']].values\n",
    "# extract RA, DEC and obstime_mjd\n",
    "ra_jpl = df_obs.RA_jpl.values * deg\n",
    "dec_jpl = df_obs.DEC_jpl.values * deg\n",
    "obstime_mjd = df_obs.mjd.values\n",
    "\n",
    "# Compute RA and DEC from direction computed by radec2dir() on the JPL data\n",
    "ra_jpl2, dec_jpl2 = dir2radec(u_jpl, obstime_mjd)"
   ]
  },
  {
   "cell_type": "code",
   "execution_count": null,
   "metadata": {},
   "outputs": [],
   "source": [
    "# Compute difference in angles\n",
    "diff_rt = radec_diff('JPL', 'MSE', ra1=ra_jpl, dec1=dec_jpl, ra2=ra_jpl2, dec2=dec_jpl2, \n",
    "                     obstime_mjd=obstime_mjd, verbose=True)\n",
    "print(f'\\nMean difference on round trip = {diff_rt:5.3e} arc seconds.')"
   ]
  },
  {
   "cell_type": "markdown",
   "metadata": {},
   "source": [
    "**Conclusion:<br>**\n",
    "The round trip of radec2dir() and dir2radec() is accurate on the order of double precision.<br>\n",
    "In the test, a direction was computed from the RA and DEC provided by JPL. This was then converted back to a RA and DEC.<br>\n",
    "Errors are on the order of **5.8E-11 arc seconds**.<br>"
   ]
  },
  {
   "cell_type": "markdown",
   "metadata": {},
   "source": [
    "### Calculate Asteroid Direction with qv2dir() and MSE Position / Velocity"
   ]
  },
  {
   "cell_type": "code",
   "execution_count": null,
   "metadata": {},
   "outputs": [],
   "source": [
    "ast_elt = asteroid_integrate.load_data()\n",
    "ast_elt.rename(mapper={'Num':'asteroid_num'}, axis='columns', inplace=True)"
   ]
  },
  {
   "cell_type": "code",
   "execution_count": null,
   "metadata": {},
   "outputs": [],
   "source": [
    "# Range of asteroids to for data\n",
    "ast_num_file_start: int = 1\n",
    "ast_num_file_end: int = 1000\n",
    "inputs, outputs = make_data_one_file(0, ast_num_file_end)"
   ]
  },
  {
   "cell_type": "code",
   "execution_count": null,
   "metadata": {},
   "outputs": [],
   "source": [
    "ast_elt"
   ]
  },
  {
   "cell_type": "code",
   "execution_count": null,
   "metadata": {},
   "outputs": [],
   "source": [
    "# The block of asteroid numbers to test (inclusive boundaries)\n",
    "ast_num_min = 1\n",
    "ast_num_max = 16\n",
    "\n",
    "# The number of asteroids, times, and total rows we want to match\n",
    "# Use daily data to match data file\n",
    "N_ast = ast_num_max - ast_num_min + 1\n",
    "N_t = df_earth_daily.mjd.size\n",
    "N_row = N_ast * N_t\n",
    "obstime_mjd = df_ast_daily.mjd.values\n",
    "\n",
    "# Report data shape\n",
    "print(f'Shape of data frames df_ast and df_obs:')\n",
    "print(f'N_ast = {N_ast:5} asteroids')\n",
    "print(f'N_t   = {N_t:5} observation times')\n",
    "print(f'N_row = {N_row:5} rows in df_ast and df_obs')"
   ]
  },
  {
   "cell_type": "code",
   "execution_count": null,
   "metadata": {},
   "outputs": [],
   "source": [
    "# Filter for asteroid numbers \n",
    "ast_num_file = np.arange(ast_num_file_start, ast_num_file_end, dtype=np.int64)\n",
    "mask_ast = (ast_num_min <= ast_num_file) & (ast_num_file <= ast_num_max)\n",
    "\n",
    "# MSE integrated times as one array\n",
    "ts = inputs['ts'][0]\n",
    "\n",
    "# Time range for JPL data\n",
    "t_min = np.min(obstime_mjd)\n",
    "t_max = np.max(obstime_mjd)\n",
    "\n",
    "# Filter for MSE times that match\n",
    "mask_t = (t_min <= ts) & (ts <= t_max)"
   ]
  },
  {
   "cell_type": "code",
   "execution_count": null,
   "metadata": {},
   "outputs": [],
   "source": [
    "# Block of asteroid data \n",
    "q_ast_all = outputs['q']\n",
    "v_ast_all = outputs['v']\n",
    "\n",
    "# filter for selected asteroids only\n",
    "q_ast_all_t = q_ast_all[mask_ast, :, :]\n",
    "v_ast_all_t = v_ast_all[mask_ast, :, :]\n",
    "\n",
    "# filter for selected times only\n",
    "q_ast_mse_3d = q_ast_all_t[:, mask_t, :]\n",
    "v_ast_mse_3d = v_ast_all_t[:, mask_t, :]\n",
    "\n",
    "# for some reason i don't understand, can't do these at once\n",
    "# q_ast_mse = q_ast_all[mask_ast, mask_t, :]\n",
    "q_ast_mse_3d.shape"
   ]
  },
  {
   "cell_type": "code",
   "execution_count": null,
   "metadata": {},
   "outputs": [],
   "source": [
    "# Get position of Earth using utility function\n",
    "q_earth_mse_tile = get_earth_pos(obstime_mjd).transpose()\n",
    "\n",
    "q_earth_mse_tile.shape"
   ]
  },
  {
   "cell_type": "code",
   "execution_count": null,
   "metadata": {},
   "outputs": [],
   "source": [
    "# shape JPL positions to match q_ast_mse with three axes (asteroid_num, time_idx, space_dim)\n",
    "q_ast_jpl_3d = np.zeros((N_ast, N_t, 3))\n",
    "q_ast_jpl_3d[:, :, 0] = df_ast_daily.X.values.reshape((N_ast, N_t))\n",
    "q_ast_jpl_3d[:, :, 1] = df_ast_daily.Y.values.reshape((N_ast, N_t))\n",
    "q_ast_jpl_3d[:, :, 2] = df_ast_daily.Z.values.reshape((N_ast, N_t))\n",
    "q_ast_jpl_3d.shape"
   ]
  },
  {
   "cell_type": "code",
   "execution_count": null,
   "metadata": {},
   "outputs": [],
   "source": [
    "# Reshape MSE asteroid data to match shape of DataFrame\n",
    "q_ast_mse = np.zeros((3, N_row))\n",
    "v_ast_mse = np.zeros((3, N_row))"
   ]
  },
  {
   "cell_type": "code",
   "execution_count": null,
   "metadata": {},
   "outputs": [],
   "source": [
    "# Position\n",
    "q_ast_mse[0, :] = q_ast_mse_3d[:, :, 0].reshape((-1))\n",
    "q_ast_mse[1, :] = q_ast_mse_3d[:, :, 1].reshape((-1))\n",
    "q_ast_mse[2, :] = q_ast_mse_3d[:, :, 2].reshape((-1))\n",
    "\n",
    "# Velocity\n",
    "v_ast_mse[0, :] = v_ast_mse_3d[:, :, 0].reshape((-1))\n",
    "v_ast_mse[1, :] = v_ast_mse_3d[:, :, 1].reshape((-1))\n",
    "v_ast_mse[2, :] = v_ast_mse_3d[:, :, 2].reshape((-1))"
   ]
  },
  {
   "cell_type": "code",
   "execution_count": null,
   "metadata": {},
   "outputs": [],
   "source": [
    "df_obs_daily"
   ]
  },
  {
   "cell_type": "code",
   "execution_count": null,
   "metadata": {},
   "outputs": [],
   "source": [
    "# Compute direction from MSE position and velocity\n",
    "u_mse = qv2dir(q_body=q_ast_mse*au, v_body=v_ast_mse*au/day, q_earth=q_earth_mse_tile*au)\n",
    "\n",
    "# extract u_jpl from df_obs_daily\n",
    "u_jpl = df_obs_daily[['ux_jpl', 'uy_jpl', 'uz_jpl']].values.T\n",
    "\n",
    "# difference in directions as a vector\n",
    "u_diff = u_mse - u_jpl\n",
    "\n",
    "# norm of difference, converted to arc seconds\n",
    "u_diff_norm = np.linalg.norm(u_diff, axis=0)\n",
    "angle_diff = np.rad2deg(u_diff_norm)*3600\n",
    "\n",
    "# mean error in arc-seconds\n",
    "mean_error = np.mean(angle_diff)\n",
    "print(f'mean error: {mean_error:8.3f} arc seconds')"
   ]
  },
  {
   "cell_type": "markdown",
   "metadata": {},
   "source": [
    "**Conclusion:<br>**\n",
    "My end to end calculation of astromentric RA and DEC are very close to those of JPL.<br>\n",
    "In my calculation, I am only taking a single snapshot of planetary positions and velocities, plus orbital elements of the asteroids.  Everything else is done by numerically integrating the system in rebound.\n",
    "I am computing an astrometric direction u on the unit sphere in the ecliptic frame, and comparing this to a direction from JPL.  The JPL direction u_jpl is computed by applying radec2dir() on the quoted RA and DEC.<br>\n",
    "Errors are on the order of **3.6 arc seconds**.<br>\n",
    "I am guessing that one main source for the difference with JPL is that I used heliocentric rather than barycentric coordinates when saving the outputs of the rebound integration.  I plan to switch to barycentric for the asteroid search.  Of course there are also some other differences because these are completely separate calculations.  JPL in particular is using many more massive bodies, and they are accounting for relativistic effects.<br>\n",
    "Still, the bottom line is that an agreement of only 3.6 arc seconds is very tight and suggests that my methodology is basically sound."
   ]
  },
  {
   "cell_type": "markdown",
   "metadata": {},
   "source": [
    "### Astrometric vs. Apparent Coordinates"
   ]
  },
  {
   "cell_type": "code",
   "execution_count": null,
   "metadata": {},
   "outputs": [],
   "source": [
    "df_obs"
   ]
  },
  {
   "cell_type": "markdown",
   "metadata": {},
   "source": [
    "**JPL Definitions of Astrometric & Apparent RA/DEC**\n",
    "\n",
    " R.A._______(ICRF)_______DEC =\n",
    "  Astrometric right ascension and declination of the target center with\n",
    "respect to the observing site (coordinate origin) in the reference frame of\n",
    "the planetary ephemeris (ICRF). Compensated for down-leg light-time delay\n",
    "aberration.\n",
    "\n",
    "  Units: RA  in decimal degrees (ddd.fffffffff)\n",
    "         DEC in decimal degrees (sdd.fffffffff)\n",
    "\n",
    " \n",
    " R.A._______(airless-appar)_______DEC. =\n",
    "  Airless apparent right ascension and declination of the target center with\n",
    "respect to an instantaneous reference frame defined by the Earth equator\n",
    "of-date (z-axis) and meridian containing the Earth equinox of-date (x-axis,\n",
    "IAU76/80). Compensated for down-leg light-time delay, gravitational deflection\n",
    "of light, stellar aberration, precession & nutation. Note: equinox (RA origin)\n",
    "is offset -53 mas from the of-date frame defined by the IAU06/00a P & N system.\n",
    "\n",
    "  Units: RA  in decimal degrees (ddd.fffffffff)\n",
    "         DEC in decimal degrees (sdd.fffffffff)"
   ]
  },
  {
   "cell_type": "code",
   "execution_count": null,
   "metadata": {},
   "outputs": [],
   "source": [
    "# alias the astrometric RA/DEC so the variable names look consistent\n",
    "# these are the astrometric RA/DEC\n",
    "ra_astro = ra_jpl\n",
    "dec_astro = dec_jpl\n",
    "\n",
    "# arrays of apparent asteroid angles from JPL\n",
    "ra_appar = df_obs.RA_apparent.values * deg\n",
    "dec_appar = df_obs.DEC_apparent.values * deg\n",
    "\n",
    "# Compute difference in angles\n",
    "diff_app = radec_diff('Astrometric', 'Apparent', ra1=ra_astro, dec1=dec_astro, ra2=ra_appar, dec2=dec_appar, \n",
    "                     obstime_mjd=obstime_mjd, verbose=False)\n",
    "diff_mean = np.mean(diff_app)\n",
    "diff_median = np.median(diff_app)\n",
    "diff_max = np.max(diff_app)\n",
    "\n",
    "# Report results\n",
    "print(f'Mean Angle Difference: JPL astrometric vs. JPL apparent')\n",
    "print(f'Mean  : {diff_mean:5.0f} seconds ({(diff_mean/3600):0.3f} degrees)')\n",
    "print(f'Median: {diff_median:5.0f} seconds ({(diff_median/3600):0.3f} degrees)')\n",
    "print(f'Max   : {diff_max:5.0f} seconds ({(diff_max/3600):0.3f} degrees)')"
   ]
  },
  {
   "cell_type": "markdown",
   "metadata": {},
   "source": [
    "**Conclusion**<br>\n",
    "The difference between astrometric and apparent RA / DEC is really important!<br>\n",
    "It's much more important than some of the other effects considered.<br>\n",
    "It introduces errors on the order of **0.21 degrees / 743 arc seconds**<br>\n",
    "We need to figure out the quotation basis of the ZTF data!<br>\n",
    "Francisco from Alerce says he believes ZTF data \"must be\" astrometric.  Hopefully this is correct!"
   ]
  },
  {
   "cell_type": "code",
   "execution_count": null,
   "metadata": {},
   "outputs": [],
   "source": []
  }
 ],
 "metadata": {
  "kernelspec": {
   "display_name": "Python 3",
   "language": "python",
   "name": "python3"
  },
  "language_info": {
   "codemirror_mode": {
    "name": "ipython",
    "version": 3
   },
   "file_extension": ".py",
   "mimetype": "text/x-python",
   "name": "python",
   "nbconvert_exporter": "python",
   "pygments_lexer": "ipython3",
   "version": "3.7.4"
  }
 },
 "nbformat": 4,
 "nbformat_minor": 4
}
