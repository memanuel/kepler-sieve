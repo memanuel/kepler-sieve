{
 "cells": [
  {
   "cell_type": "code",
   "execution_count": 13,
   "metadata": {},
   "outputs": [],
   "source": [
    "import numpy as np\n",
    "import pandas as pd\n",
    "import skyfield\n",
    "from skyfield.api import Loader\n",
    "skyfield_load = Loader('../data/skyfield')\n",
    "from skyfield.positionlib import ICRF, Barycentric\n",
    "from skyfield.toposlib import Topos\n",
    "import astropy\n",
    "from astropy.units import deg, au, km, meter, day, minute, second\n",
    "from astropy.coordinates import SkyCoord, ICRS, GCRS, BarycentricMeanEcliptic, HeliocentricMeanEcliptic, EarthLocation\n",
    "from scipy.interpolate import CubicSpline\n",
    "import os\n",
    "import matplotlib.pyplot as plt\n",
    "\n",
    "# MSE imports\n",
    "import astro_utils\n",
    "from astro_utils import jd_to_mjd, mjd_to_jd\n",
    "from ra_dec import radec2dir, dir2radec, site2geoloc, qv2dir, direction_diff, radec_diff, skyfield_observe\n",
    "from horizons_files import load_pos_jpl, load_ast_jpl, load_obs_jpl, load_obs_ast_jpl\n",
    "from horizons_files import obs_add_interp_qv, obs_ast_add_interp_qv, obs_add_calc_dir, obs_add_radec, obs_direction_diff\n",
    "import asteroid_integrate\n",
    "from asteroid_data import make_data_one_file, get_earth_pos\n",
    "from utils import range_inc"
   ]
  },
  {
   "cell_type": "markdown",
   "metadata": {},
   "source": [
    "### Observation of Earth and Mars according to JPL"
   ]
  },
  {
   "cell_type": "code",
   "execution_count": 14,
   "metadata": {},
   "outputs": [],
   "source": [
    "# Data directories\n",
    "dir_name = '../data/jpl/testing/hourly'\n",
    "dir_name_daily = '../data/jpl/testing/daily'\n",
    "\n",
    "# Build DataFrame for earth and mars position at 3 hour frequency\n",
    "df_earth = load_pos_jpl(body_name='earth', dir_name=dir_name)\n",
    "df_mars = load_pos_jpl(body_name='mars', dir_name=dir_name)\n",
    "\n",
    "# Earth at daily frequency\n",
    "df_earth_daily = load_pos_jpl(body_name='earth', dir_name=dir_name_daily)\n",
    "# df_mars_daily = load_pos_jpl(body_name='mars', dir_name=dir_name_daily)"
   ]
  },
  {
   "cell_type": "markdown",
   "metadata": {},
   "source": [
    "### Vectors of First 16 Asteroids from JPL"
   ]
  },
  {
   "cell_type": "code",
   "execution_count": 15,
   "metadata": {},
   "outputs": [],
   "source": [
    "# Load the asteroid position and velocity from JPL\n",
    "df_ast = load_ast_jpl(ast_num0=1, ast_num1=16, dir_name=dir_name)\n",
    "df_ast_daily = load_ast_jpl(ast_num0=1, ast_num1=16, dir_name=dir_name_daily)"
   ]
  },
  {
   "cell_type": "markdown",
   "metadata": {},
   "source": [
    "### Observations of First 16 Asteroids from JPL"
   ]
  },
  {
   "cell_type": "code",
   "execution_count": 16,
   "metadata": {},
   "outputs": [],
   "source": [
    "# Load the asteroid observations from JPL\n",
    "df_obs = load_obs_ast_jpl(ast_num0=1, ast_num1=16, observer_name='palomar', dir_name=dir_name)\n",
    "df_obs_daily = load_obs_ast_jpl(ast_num0=1, ast_num1=16, observer_name='geocenter', dir_name=dir_name_daily)"
   ]
  },
  {
   "cell_type": "markdown",
   "metadata": {},
   "source": [
    "### Calculate Asteroid Direction with qv2dir() and MSE Position / Velocity"
   ]
  },
  {
   "cell_type": "code",
   "execution_count": 17,
   "metadata": {},
   "outputs": [],
   "source": [
    "ast_elt = asteroid_integrate.load_data()\n",
    "ast_elt.rename(mapper={'Num':'asteroid_num'}, axis='columns', inplace=True)"
   ]
  },
  {
   "cell_type": "code",
   "execution_count": 18,
   "metadata": {},
   "outputs": [],
   "source": [
    "# Range of asteroids to for data\n",
    "ast_num_file_start: int = 1\n",
    "ast_num_file_end: int = 1000\n",
    "inputs, outputs = make_data_one_file(0, ast_num_file_end)"
   ]
  },
  {
   "cell_type": "code",
   "execution_count": 19,
   "metadata": {},
   "outputs": [
    {
     "name": "stdout",
     "output_type": "stream",
     "text": [
      "Shape of data frames df_ast and df_obs:\n",
      "N_ast =    16 asteroids\n",
      "N_t   =  3653 observation times\n",
      "N_row = 58448 rows in df_ast and df_obs\n"
     ]
    }
   ],
   "source": [
    "# The block of asteroid numbers to test (inclusive boundaries)\n",
    "ast_num_min = 1\n",
    "ast_num_max = 16\n",
    "\n",
    "# The number of asteroids, times, and total rows we want to match\n",
    "# Use daily data to match data file\n",
    "N_ast = ast_num_max - ast_num_min + 1\n",
    "N_t = df_earth_daily.mjd.size\n",
    "N_row = N_ast * N_t\n",
    "obstime_mjd = df_ast_daily.mjd.values\n",
    "\n",
    "# Report data shape\n",
    "print(f'Shape of data frames df_ast and df_obs:')\n",
    "print(f'N_ast = {N_ast:5} asteroids')\n",
    "print(f'N_t   = {N_t:5} observation times')\n",
    "print(f'N_row = {N_row:5} rows in df_ast and df_obs')"
   ]
  },
  {
   "cell_type": "code",
   "execution_count": 20,
   "metadata": {},
   "outputs": [],
   "source": [
    "# Filter for asteroid numbers \n",
    "ast_num_file = np.arange(ast_num_file_start, ast_num_file_end, dtype=np.int64)\n",
    "mask_ast = (ast_num_min <= ast_num_file) & (ast_num_file <= ast_num_max)\n",
    "\n",
    "# MSE integrated times as one array\n",
    "ts = inputs['ts'][0]\n",
    "\n",
    "# Time range for JPL data\n",
    "t_min = np.min(obstime_mjd)\n",
    "t_max = np.max(obstime_mjd)\n",
    "\n",
    "# Filter for MSE times that match\n",
    "mask_t = (t_min <= ts) & (ts <= t_max)"
   ]
  },
  {
   "cell_type": "code",
   "execution_count": 21,
   "metadata": {},
   "outputs": [
    {
     "data": {
      "text/plain": [
       "(16, 3653, 3)"
      ]
     },
     "execution_count": 21,
     "metadata": {},
     "output_type": "execute_result"
    }
   ],
   "source": [
    "# Block of asteroid data \n",
    "q_ast_all = outputs['q']\n",
    "v_ast_all = outputs['v']\n",
    "u_ast_all = outputs['u']\n",
    "\n",
    "# filter for selected asteroids only\n",
    "q_ast_all_t = q_ast_all[mask_ast, :, :]\n",
    "v_ast_all_t = v_ast_all[mask_ast, :, :]\n",
    "u_ast_all_t = u_ast_all[mask_ast, :, :]\n",
    "\n",
    "# filter for selected times only\n",
    "q_ast_mse_3d = q_ast_all_t[:, mask_t, :]\n",
    "v_ast_mse_3d = v_ast_all_t[:, mask_t, :]\n",
    "u_ast_mse_3d = u_ast_all_t[:, mask_t, :]\n",
    "\n",
    "# for some reason i don't understand, can't do these at once\n",
    "# q_ast_mse = q_ast_all[mask_ast, mask_t, :]\n",
    "q_ast_mse_3d.shape"
   ]
  },
  {
   "cell_type": "code",
   "execution_count": 22,
   "metadata": {},
   "outputs": [],
   "source": [
    "# Reshape MSE asteroid data to match shape of DataFrame\n",
    "q_ast_mse = np.zeros((3, N_row))\n",
    "v_ast_mse = np.zeros((3, N_row))\n",
    "u_ast_mse = np.zeros((3, N_row))"
   ]
  },
  {
   "cell_type": "code",
   "execution_count": 23,
   "metadata": {},
   "outputs": [],
   "source": [
    "# Position\n",
    "q_ast_mse[0, :] = q_ast_mse_3d[:, :, 0].reshape((-1))\n",
    "q_ast_mse[1, :] = q_ast_mse_3d[:, :, 1].reshape((-1))\n",
    "q_ast_mse[2, :] = q_ast_mse_3d[:, :, 2].reshape((-1))\n",
    "\n",
    "# Velocity\n",
    "v_ast_mse[0, :] = v_ast_mse_3d[:, :, 0].reshape((-1))\n",
    "v_ast_mse[1, :] = v_ast_mse_3d[:, :, 1].reshape((-1))\n",
    "v_ast_mse[2, :] = v_ast_mse_3d[:, :, 2].reshape((-1))\n",
    "\n",
    "# Direction from geocenter\n",
    "u_ast_mse[0, :] = u_ast_mse_3d[:, :, 0].reshape((-1))\n",
    "u_ast_mse[1, :] = u_ast_mse_3d[:, :, 1].reshape((-1))\n",
    "u_ast_mse[2, :] = u_ast_mse_3d[:, :, 2].reshape((-1))"
   ]
  },
  {
   "cell_type": "code",
   "execution_count": 24,
   "metadata": {},
   "outputs": [
    {
     "name": "stdout",
     "output_type": "stream",
     "text": [
      "mean error:    0.974 arc seconds\n"
     ]
    }
   ],
   "source": [
    "# Compute direction from MSE position and velocity\n",
    "u_mse = u_ast_mse\n",
    "\n",
    "# extract u_jpl from df_obs_daily\n",
    "u_jpl = df_obs_daily[['ux_jpl', 'uy_jpl', 'uz_jpl']].values.T\n",
    "\n",
    "# difference in directions as a vector\n",
    "u_diff = u_mse - u_jpl\n",
    "\n",
    "# norm of difference, converted to arc seconds\n",
    "u_diff_norm = np.linalg.norm(u_diff, axis=0)\n",
    "angle_diff = np.rad2deg(u_diff_norm)*3600\n",
    "\n",
    "# mean error in arc-seconds\n",
    "mean_error = np.mean(angle_diff)\n",
    "print(f'mean error: {mean_error:8.3f} arc seconds')"
   ]
  },
  {
   "cell_type": "code",
   "execution_count": null,
   "metadata": {},
   "outputs": [],
   "source": []
  }
 ],
 "metadata": {
  "kernelspec": {
   "display_name": "Python [conda env:kepler]",
   "language": "python",
   "name": "conda-env-kepler-py"
  },
  "language_info": {
   "codemirror_mode": {
    "name": "ipython",
    "version": 3
   },
   "file_extension": ".py",
   "mimetype": "text/x-python",
   "name": "python",
   "nbconvert_exporter": "python",
   "pygments_lexer": "ipython3",
   "version": "3.7.6"
  }
 },
 "nbformat": 4,
 "nbformat_minor": 4
}
