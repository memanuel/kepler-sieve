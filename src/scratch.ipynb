{
 "cells": [
  {
   "cell_type": "code",
   "execution_count": 1,
   "metadata": {},
   "outputs": [],
   "source": [
    "import numpy as np\n",
    "import pandas as pd\n",
    "from ztf_data import make_ztf_easy_batch, load_ztf_easy_batch"
   ]
  },
  {
   "cell_type": "code",
   "execution_count": null,
   "metadata": {},
   "outputs": [],
   "source": [
    "# ztf_batch, elts = make_ztf_easy_batch()"
   ]
  },
  {
   "cell_type": "code",
   "execution_count": 2,
   "metadata": {},
   "outputs": [
    {
     "data": {
      "application/vnd.jupyter.widget-view+json": {
       "model_id": "750417e3272a4858970ddb7b53a94485",
       "version_major": 2,
       "version_minor": 0
      },
      "text/plain": [
       "HBox(children=(FloatProgress(value=0.0, max=64.0), HTML(value='')))"
      ]
     },
     "metadata": {},
     "output_type": "display_data"
    },
    {
     "name": "stdout",
     "output_type": "stream",
     "text": [
      "\n"
     ]
    }
   ],
   "source": [
    "ztf_batch, elts = load_ztf_easy_batch(thresh_deg=1.0)"
   ]
  },
  {
   "cell_type": "code",
   "execution_count": null,
   "metadata": {},
   "outputs": [],
   "source": [
    "ztf_batch"
   ]
  },
  {
   "cell_type": "code",
   "execution_count": null,
   "metadata": {},
   "outputs": [],
   "source": [
    "elts"
   ]
  },
  {
   "cell_type": "code",
   "execution_count": null,
   "metadata": {},
   "outputs": [],
   "source": [
    "batch_size = 64\n",
    "thresh_deg = 1.0"
   ]
  },
  {
   "cell_type": "code",
   "execution_count": null,
   "metadata": {},
   "outputs": [],
   "source": [
    "# Name of the file\n",
    "thresh_sec = np.round(thresh_deg*3600.0).astype(np.int32)\n",
    "file_path = f'../data/ztf/ztf-easy-batch-n={batch_size}-thresh={thresh_sec}sec.h5'"
   ]
  },
  {
   "cell_type": "code",
   "execution_count": null,
   "metadata": {},
   "outputs": [],
   "source": [
    "ztf_batch.to_hdf('../data/ztf/test.h5', key='ztf_batch', mode='w')"
   ]
  },
  {
   "cell_type": "code",
   "execution_count": null,
   "metadata": {},
   "outputs": [],
   "source": [
    "pd.DataFrame(elts).to_hdf(file_path, key='elts', mode='a')"
   ]
  },
  {
   "cell_type": "code",
   "execution_count": null,
   "metadata": {},
   "outputs": [],
   "source": [
    "pd.read_hdf('../data/ztf/test.h5', key='elts')"
   ]
  },
  {
   "cell_type": "code",
   "execution_count": null,
   "metadata": {},
   "outputs": [],
   "source": [
    "elts.values.transpose()"
   ]
  },
  {
   "cell_type": "code",
   "execution_count": 3,
   "metadata": {},
   "outputs": [
    {
     "data": {
      "text/html": [
       "<div>\n",
       "<style scoped>\n",
       "    .dataframe tbody tr th:only-of-type {\n",
       "        vertical-align: middle;\n",
       "    }\n",
       "\n",
       "    .dataframe tbody tr th {\n",
       "        vertical-align: top;\n",
       "    }\n",
       "\n",
       "    .dataframe thead th {\n",
       "        text-align: right;\n",
       "    }\n",
       "</style>\n",
       "<table border=\"1\" class=\"dataframe\">\n",
       "  <thead>\n",
       "    <tr style=\"text-align: right;\">\n",
       "      <th></th>\n",
       "      <th>ast_num</th>\n",
       "      <th>a</th>\n",
       "      <th>e</th>\n",
       "      <th>inc</th>\n",
       "      <th>Omega</th>\n",
       "      <th>omega</th>\n",
       "      <th>f</th>\n",
       "      <th>epoch</th>\n",
       "    </tr>\n",
       "  </thead>\n",
       "  <tbody>\n",
       "    <tr>\n",
       "      <th>0</th>\n",
       "      <td>733</td>\n",
       "      <td>3.398871</td>\n",
       "      <td>0.058840</td>\n",
       "      <td>0.354075</td>\n",
       "      <td>5.951576</td>\n",
       "      <td>3.315651</td>\n",
       "      <td>3.703184</td>\n",
       "      <td>58600.0</td>\n",
       "    </tr>\n",
       "    <tr>\n",
       "      <th>1</th>\n",
       "      <td>1476</td>\n",
       "      <td>2.280890</td>\n",
       "      <td>0.189703</td>\n",
       "      <td>0.110415</td>\n",
       "      <td>5.768549</td>\n",
       "      <td>6.107239</td>\n",
       "      <td>0.309986</td>\n",
       "      <td>58600.0</td>\n",
       "    </tr>\n",
       "    <tr>\n",
       "      <th>2</th>\n",
       "      <td>1803</td>\n",
       "      <td>2.349173</td>\n",
       "      <td>0.247823</td>\n",
       "      <td>0.376183</td>\n",
       "      <td>5.886310</td>\n",
       "      <td>4.431771</td>\n",
       "      <td>2.468021</td>\n",
       "      <td>58600.0</td>\n",
       "    </tr>\n",
       "    <tr>\n",
       "      <th>3</th>\n",
       "      <td>2015</td>\n",
       "      <td>2.335363</td>\n",
       "      <td>0.103840</td>\n",
       "      <td>0.207837</td>\n",
       "      <td>6.012107</td>\n",
       "      <td>4.788967</td>\n",
       "      <td>1.897608</td>\n",
       "      <td>58600.0</td>\n",
       "    </tr>\n",
       "    <tr>\n",
       "      <th>4</th>\n",
       "      <td>2294</td>\n",
       "      <td>2.581424</td>\n",
       "      <td>0.116455</td>\n",
       "      <td>0.109954</td>\n",
       "      <td>5.075755</td>\n",
       "      <td>0.753231</td>\n",
       "      <td>0.373019</td>\n",
       "      <td>58600.0</td>\n",
       "    </tr>\n",
       "    <tr>\n",
       "      <th>...</th>\n",
       "      <td>...</td>\n",
       "      <td>...</td>\n",
       "      <td>...</td>\n",
       "      <td>...</td>\n",
       "      <td>...</td>\n",
       "      <td>...</td>\n",
       "      <td>...</td>\n",
       "      <td>...</td>\n",
       "    </tr>\n",
       "    <tr>\n",
       "      <th>59</th>\n",
       "      <td>203722</td>\n",
       "      <td>3.171154</td>\n",
       "      <td>0.291647</td>\n",
       "      <td>0.426091</td>\n",
       "      <td>5.309571</td>\n",
       "      <td>1.789398</td>\n",
       "      <td>-1.162711</td>\n",
       "      <td>58600.0</td>\n",
       "    </tr>\n",
       "    <tr>\n",
       "      <th>60</th>\n",
       "      <td>253246</td>\n",
       "      <td>2.677164</td>\n",
       "      <td>0.227275</td>\n",
       "      <td>0.446592</td>\n",
       "      <td>5.260714</td>\n",
       "      <td>1.455787</td>\n",
       "      <td>-0.777289</td>\n",
       "      <td>58600.0</td>\n",
       "    </tr>\n",
       "    <tr>\n",
       "      <th>61</th>\n",
       "      <td>306781</td>\n",
       "      <td>2.534977</td>\n",
       "      <td>0.209075</td>\n",
       "      <td>0.228417</td>\n",
       "      <td>5.551083</td>\n",
       "      <td>0.846400</td>\n",
       "      <td>-0.451545</td>\n",
       "      <td>58600.0</td>\n",
       "    </tr>\n",
       "    <tr>\n",
       "      <th>62</th>\n",
       "      <td>313521</td>\n",
       "      <td>2.637372</td>\n",
       "      <td>0.254435</td>\n",
       "      <td>0.524255</td>\n",
       "      <td>4.487565</td>\n",
       "      <td>2.113770</td>\n",
       "      <td>-1.015696</td>\n",
       "      <td>58600.0</td>\n",
       "    </tr>\n",
       "    <tr>\n",
       "      <th>63</th>\n",
       "      <td>324582</td>\n",
       "      <td>2.677317</td>\n",
       "      <td>0.443025</td>\n",
       "      <td>0.489882</td>\n",
       "      <td>5.672742</td>\n",
       "      <td>1.061045</td>\n",
       "      <td>-1.459784</td>\n",
       "      <td>58600.0</td>\n",
       "    </tr>\n",
       "  </tbody>\n",
       "</table>\n",
       "<p>64 rows × 8 columns</p>\n",
       "</div>"
      ],
      "text/plain": [
       "    ast_num         a         e       inc     Omega     omega         f  \\\n",
       "0       733  3.398871  0.058840  0.354075  5.951576  3.315651  3.703184   \n",
       "1      1476  2.280890  0.189703  0.110415  5.768549  6.107239  0.309986   \n",
       "2      1803  2.349173  0.247823  0.376183  5.886310  4.431771  2.468021   \n",
       "3      2015  2.335363  0.103840  0.207837  6.012107  4.788967  1.897608   \n",
       "4      2294  2.581424  0.116455  0.109954  5.075755  0.753231  0.373019   \n",
       "..      ...       ...       ...       ...       ...       ...       ...   \n",
       "59   203722  3.171154  0.291647  0.426091  5.309571  1.789398 -1.162711   \n",
       "60   253246  2.677164  0.227275  0.446592  5.260714  1.455787 -0.777289   \n",
       "61   306781  2.534977  0.209075  0.228417  5.551083  0.846400 -0.451545   \n",
       "62   313521  2.637372  0.254435  0.524255  4.487565  2.113770 -1.015696   \n",
       "63   324582  2.677317  0.443025  0.489882  5.672742  1.061045 -1.459784   \n",
       "\n",
       "      epoch  \n",
       "0   58600.0  \n",
       "1   58600.0  \n",
       "2   58600.0  \n",
       "3   58600.0  \n",
       "4   58600.0  \n",
       "..      ...  \n",
       "59  58600.0  \n",
       "60  58600.0  \n",
       "61  58600.0  \n",
       "62  58600.0  \n",
       "63  58600.0  \n",
       "\n",
       "[64 rows x 8 columns]"
      ]
     },
     "execution_count": 3,
     "metadata": {},
     "output_type": "execute_result"
    }
   ],
   "source": [
    "elts"
   ]
  },
  {
   "cell_type": "code",
   "execution_count": 4,
   "metadata": {},
   "outputs": [],
   "source": [
    "ast_num = elts.pop('ast_num')"
   ]
  },
  {
   "cell_type": "code",
   "execution_count": 6,
   "metadata": {},
   "outputs": [],
   "source": [
    "epoch = elts.pop('epoch')[0]"
   ]
  },
  {
   "cell_type": "code",
   "execution_count": 7,
   "metadata": {},
   "outputs": [
    {
     "data": {
      "text/html": [
       "<div>\n",
       "<style scoped>\n",
       "    .dataframe tbody tr th:only-of-type {\n",
       "        vertical-align: middle;\n",
       "    }\n",
       "\n",
       "    .dataframe tbody tr th {\n",
       "        vertical-align: top;\n",
       "    }\n",
       "\n",
       "    .dataframe thead th {\n",
       "        text-align: right;\n",
       "    }\n",
       "</style>\n",
       "<table border=\"1\" class=\"dataframe\">\n",
       "  <thead>\n",
       "    <tr style=\"text-align: right;\">\n",
       "      <th></th>\n",
       "      <th>a</th>\n",
       "      <th>e</th>\n",
       "      <th>inc</th>\n",
       "      <th>Omega</th>\n",
       "      <th>omega</th>\n",
       "      <th>f</th>\n",
       "    </tr>\n",
       "  </thead>\n",
       "  <tbody>\n",
       "    <tr>\n",
       "      <th>0</th>\n",
       "      <td>3.398871</td>\n",
       "      <td>0.058840</td>\n",
       "      <td>0.354075</td>\n",
       "      <td>5.951576</td>\n",
       "      <td>3.315651</td>\n",
       "      <td>3.703184</td>\n",
       "    </tr>\n",
       "    <tr>\n",
       "      <th>1</th>\n",
       "      <td>2.280890</td>\n",
       "      <td>0.189703</td>\n",
       "      <td>0.110415</td>\n",
       "      <td>5.768549</td>\n",
       "      <td>6.107239</td>\n",
       "      <td>0.309986</td>\n",
       "    </tr>\n",
       "    <tr>\n",
       "      <th>2</th>\n",
       "      <td>2.349173</td>\n",
       "      <td>0.247823</td>\n",
       "      <td>0.376183</td>\n",
       "      <td>5.886310</td>\n",
       "      <td>4.431771</td>\n",
       "      <td>2.468021</td>\n",
       "    </tr>\n",
       "    <tr>\n",
       "      <th>3</th>\n",
       "      <td>2.335363</td>\n",
       "      <td>0.103840</td>\n",
       "      <td>0.207837</td>\n",
       "      <td>6.012107</td>\n",
       "      <td>4.788967</td>\n",
       "      <td>1.897608</td>\n",
       "    </tr>\n",
       "    <tr>\n",
       "      <th>4</th>\n",
       "      <td>2.581424</td>\n",
       "      <td>0.116455</td>\n",
       "      <td>0.109954</td>\n",
       "      <td>5.075755</td>\n",
       "      <td>0.753231</td>\n",
       "      <td>0.373019</td>\n",
       "    </tr>\n",
       "    <tr>\n",
       "      <th>...</th>\n",
       "      <td>...</td>\n",
       "      <td>...</td>\n",
       "      <td>...</td>\n",
       "      <td>...</td>\n",
       "      <td>...</td>\n",
       "      <td>...</td>\n",
       "    </tr>\n",
       "    <tr>\n",
       "      <th>59</th>\n",
       "      <td>3.171154</td>\n",
       "      <td>0.291647</td>\n",
       "      <td>0.426091</td>\n",
       "      <td>5.309571</td>\n",
       "      <td>1.789398</td>\n",
       "      <td>-1.162711</td>\n",
       "    </tr>\n",
       "    <tr>\n",
       "      <th>60</th>\n",
       "      <td>2.677164</td>\n",
       "      <td>0.227275</td>\n",
       "      <td>0.446592</td>\n",
       "      <td>5.260714</td>\n",
       "      <td>1.455787</td>\n",
       "      <td>-0.777289</td>\n",
       "    </tr>\n",
       "    <tr>\n",
       "      <th>61</th>\n",
       "      <td>2.534977</td>\n",
       "      <td>0.209075</td>\n",
       "      <td>0.228417</td>\n",
       "      <td>5.551083</td>\n",
       "      <td>0.846400</td>\n",
       "      <td>-0.451545</td>\n",
       "    </tr>\n",
       "    <tr>\n",
       "      <th>62</th>\n",
       "      <td>2.637372</td>\n",
       "      <td>0.254435</td>\n",
       "      <td>0.524255</td>\n",
       "      <td>4.487565</td>\n",
       "      <td>2.113770</td>\n",
       "      <td>-1.015696</td>\n",
       "    </tr>\n",
       "    <tr>\n",
       "      <th>63</th>\n",
       "      <td>2.677317</td>\n",
       "      <td>0.443025</td>\n",
       "      <td>0.489882</td>\n",
       "      <td>5.672742</td>\n",
       "      <td>1.061045</td>\n",
       "      <td>-1.459784</td>\n",
       "    </tr>\n",
       "  </tbody>\n",
       "</table>\n",
       "<p>64 rows × 6 columns</p>\n",
       "</div>"
      ],
      "text/plain": [
       "           a         e       inc     Omega     omega         f\n",
       "0   3.398871  0.058840  0.354075  5.951576  3.315651  3.703184\n",
       "1   2.280890  0.189703  0.110415  5.768549  6.107239  0.309986\n",
       "2   2.349173  0.247823  0.376183  5.886310  4.431771  2.468021\n",
       "3   2.335363  0.103840  0.207837  6.012107  4.788967  1.897608\n",
       "4   2.581424  0.116455  0.109954  5.075755  0.753231  0.373019\n",
       "..       ...       ...       ...       ...       ...       ...\n",
       "59  3.171154  0.291647  0.426091  5.309571  1.789398 -1.162711\n",
       "60  2.677164  0.227275  0.446592  5.260714  1.455787 -0.777289\n",
       "61  2.534977  0.209075  0.228417  5.551083  0.846400 -0.451545\n",
       "62  2.637372  0.254435  0.524255  4.487565  2.113770 -1.015696\n",
       "63  2.677317  0.443025  0.489882  5.672742  1.061045 -1.459784\n",
       "\n",
       "[64 rows x 6 columns]"
      ]
     },
     "execution_count": 7,
     "metadata": {},
     "output_type": "execute_result"
    }
   ],
   "source": [
    "elts"
   ]
  },
  {
   "cell_type": "code",
   "execution_count": null,
   "metadata": {},
   "outputs": [],
   "source": []
  }
 ],
 "metadata": {
  "kernelspec": {
   "display_name": "Python [conda env:kepler]",
   "language": "python",
   "name": "conda-env-kepler-py"
  },
  "language_info": {
   "codemirror_mode": {
    "name": "ipython",
    "version": 3
   },
   "file_extension": ".py",
   "mimetype": "text/x-python",
   "name": "python",
   "nbconvert_exporter": "python",
   "pygments_lexer": "ipython3",
   "version": "3.7.6"
  }
 },
 "nbformat": 4,
 "nbformat_minor": 4
}
